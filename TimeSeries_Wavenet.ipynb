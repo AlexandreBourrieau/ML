{
  "nbformat": 4,
  "nbformat_minor": 0,
  "metadata": {
    "colab": {
      "name": "TimeSeries_Wavenet.ipynb",
      "provenance": [],
      "authorship_tag": "ABX9TyP8uOOjiHcMr/RaSS9yNEUq",
      "include_colab_link": true
    },
    "kernelspec": {
      "name": "python3",
      "display_name": "Python 3"
    },
    "language_info": {
      "name": "python"
    }
  },
  "cells": [
    {
      "cell_type": "markdown",
      "metadata": {
        "id": "view-in-github",
        "colab_type": "text"
      },
      "source": [
        "<a href=\"https://colab.research.google.com/github/AlexandreBourrieau/ML/blob/main/TimeSeries_Wavenet.ipynb\" target=\"_parent\"><img src=\"https://colab.research.google.com/assets/colab-badge.svg\" alt=\"Open In Colab\"/></a>"
      ]
    },
    {
      "cell_type": "code",
      "metadata": {
        "id": "MszGp0_3mujZ"
      },
      "source": [
        "import tensorflow as tf\n",
        "from tensorflow import keras\n",
        "import keras.backend as K\n",
        "from keras.engine import Input\n",
        "from keras.engine import Model\n",
        "\n",
        "from keras.layers import Conv1D\n",
        "from keras.utils.conv_utils import conv_output_length\n",
        "from keras import layers\n",
        "from keras.regularizers import l2"
      ],
      "execution_count": 24,
      "outputs": []
    },
    {
      "cell_type": "markdown",
      "metadata": {
        "id": "UxjYjjZAtZJR"
      },
      "source": [
        "# Classe CaudalDilatedConv1D"
      ]
    },
    {
      "cell_type": "code",
      "metadata": {
        "id": "ajuXzt4HtcGB"
      },
      "source": [
        "class CausalDilatedConv1D(Conv1D):\n",
        "    def __init__(self, nb_filter, filter_length, init='glorot_uniform', activation=None, weights=None,\n",
        "                 border_mode='valid', subsample_length=1, atrous_rate=1, W_regularizer=None, b_regularizer=None,\n",
        "                 activity_regularizer=None, W_constraint=None, b_constraint=None, bias=True, causal=False, **kwargs):\n",
        "        super(CausalDilatedConv1D, self).__init__(nb_filter, filter_length, weights=weights, activation=activation, \n",
        "                padding=border_mode, strides=subsample_length, dilation_rate=atrous_rate, kernel_regularizer=W_regularizer, \n",
        "                bias_regularizer=b_regularizer, activity_regularizer=activity_regularizer, kernel_constraint=W_constraint, \n",
        "                bias_constraint=b_constraint, use_bias=bias, **kwargs)\n",
        "        self.causal = causal\n",
        "        self.nb_filter = nb_filter\n",
        "        self.atrous_rate = atrous_rate\n",
        "        self.filter_length = filter_length\n",
        "        self.subsample_length = subsample_length\n",
        "        self.border_mode = border_mode\n",
        "        if self.causal and border_mode != 'valid':\n",
        "            raise ValueError(\"Causal mode dictates border_mode=valid.\")\n",
        "\n",
        "    def compute_output_shape(self, input_shape):\n",
        "        input_length = input_shape[1]\n",
        "        if self.causal:\n",
        "            input_length += self.atrous_rate * (self.filter_length - 1)\n",
        "        length = conv_output_length(input_length, self.filter_length, self.border_mode, self.strides[0], dilation=self.atrous_rate)\n",
        "        return (input_shape[0], length, self.nb_filter)\n",
        "\n",
        "    def call(self, x, mask=None):\n",
        "        if self.causal:\n",
        "            x = K.temporal_padding(x, padding=(self.atrous_rate * (self.filter_length - 1), 0))\n",
        "        # return super(CausalAtrousConvolution1D, self).call(x, mask)\n",
        "        return super(CausalDilatedConv1D, self).call(x)"
      ],
      "execution_count": 25,
      "outputs": []
    },
    {
      "cell_type": "markdown",
      "metadata": {
        "id": "UrUydqeNnXcX"
      },
      "source": [
        "# Wavenet Model"
      ]
    },
    {
      "cell_type": "markdown",
      "metadata": {
        "id": "Dgu-I5wXrEta"
      },
      "source": [
        "**1. Méthodes**"
      ]
    },
    {
      "cell_type": "code",
      "metadata": {
        "id": "P-g8tpL3rGop"
      },
      "source": [
        "def _compute_receptive_field(dilation_depth, stacks):\n",
        "  return stacks * (2 ** dilation_depth * 2) - (stacks - 1)"
      ],
      "execution_count": 34,
      "outputs": []
    },
    {
      "cell_type": "markdown",
      "metadata": {
        "id": "h5hyJVoWrNxb"
      },
      "source": [
        "**2. Modèle**"
      ]
    },
    {
      "cell_type": "code",
      "metadata": {
        "id": "jiKkhjzCk6vc"
      },
      "source": [
        "def build_model_residual_block(x, i, s,filters, use_bias,res_l2):\n",
        "        original_x = x\n",
        "        # TODO: initalization, regularization?\n",
        "        tanh_out = CausalDilatedConv1D(filters, 2, atrous_rate=2 ** i, border_mode='valid', causal=True, bias=use_bias, name='dilated_conv_%d_tanh_s%d' % (2 ** i, s), activation='tanh', W_regularizer=l2(res_l2))(x)\n",
        "        sigm_out = CausalDilatedConv1D(filters, 2, atrous_rate=2 ** i, border_mode='valid', causal=True, bias=use_bias, name='dilated_conv_%d_sigm_s%d' % (2 ** i, s), activation='sigmoid', W_regularizer=l2(res_l2))(x)\n",
        "        x = layers.Multiply()([tanh_out, sigm_out])\n",
        "\n",
        "        res_x = layers.Conv1D(filters, 1, padding='same', use_bias=use_bias, kernel_regularizer=l2(res_l2))(x)\n",
        "        skip_x = layers.Conv1D(filters, 1, padding='same', use_bias=use_bias, kernel_regularizer=l2(res_l2))(x)\n",
        "        res_x = layers.Add()([original_x, res_x])\n",
        "        return res_x, skip_x\n",
        "\n",
        "def build_model(fragment_length, filters, output_bins, dilation_depth, stacks, use_skip_connections,learn_all_outputs, use_bias, res_l2, final_l2):\n",
        "        input_shape = Input(shape=(fragment_length, output_bins), name='input_part')\n",
        "        out = input_shape\n",
        "        skip_connections = []\n",
        "        out = CausalDilatedConv1D(filters, 2, atrous_rate=1, border_mode='valid', causal=True, name='initial_causal_conv')(out)\n",
        "        for s in range(stacks):\n",
        "            for i in range(0, dilation_depth + 1):\n",
        "                out, skip_out = build_model_residual_block(out, i, s, filters, use_bias, res_l2)\n",
        "                skip_connections.append(skip_out)\n",
        "\n",
        "        if use_skip_connections:\n",
        "            out = layers.Add()(skip_connections)\n",
        "        out = layers.Activation('relu')(out)\n",
        "        out = layers.Conv1D(output_bins, 1, padding='same', kernel_regularizer=l2(final_l2))(out)\n",
        "        out = layers.Activation('relu')(out)\n",
        "        out = layers.Conv1D(output_bins, 1, padding='same')(out)\n",
        "        if not learn_all_outputs:\n",
        "            raise DeprecationWarning('Learning on just all outputs is wasteful, now learning only inside receptive field.')\n",
        "            out = layers.Lambda(lambda x: x[:, -1, :], output_shape=(out._keras_shape[-1],))(out)  # Based on gif in deepmind blog: take last output?\n",
        "\n",
        "        out = layers.Activation('softmax', name=\"output_softmax\")(out)\n",
        "        model = Model(input_shape, out)\n",
        "        receptive_field = _compute_receptive_field(dilation_depth, stacks)\n",
        "        return model\n"
      ],
      "execution_count": 35,
      "outputs": []
    },
    {
      "cell_type": "markdown",
      "metadata": {
        "id": "XNoo0D3iscrd"
      },
      "source": [
        "# Use the model"
      ]
    },
    {
      "cell_type": "code",
      "metadata": {
        "id": "LBL6qP3qxMer"
      },
      "source": [
        "def compute_receptive_field_(dilation_depth, nb_stacks):\n",
        "    receptive_field = nb_stacks * (2 ** dilation_depth * 2) - (nb_stacks - 1)\n",
        "    return receptive_field"
      ],
      "execution_count": 28,
      "outputs": []
    },
    {
      "cell_type": "code",
      "metadata": {
        "id": "_HqR0Vjhsljt"
      },
      "source": [
        "nb_filters = 256\n",
        "nb_output_bins = 1\n",
        "dilation_depth = 8\n",
        "nb_stacks = 1\n",
        "use_skip_connections = True\n",
        "learn_all_outputs = True\n",
        "use_bias = False\n",
        "res_l2 = 0\n",
        "final_l2 = 0\n",
        "\n",
        "fragment_length = compute_receptive_field_(dilation_depth, nb_stacks)"
      ],
      "execution_count": 29,
      "outputs": []
    },
    {
      "cell_type": "code",
      "metadata": {
        "id": "IZR1wGOTsfsU"
      },
      "source": [
        "model = build_model(1024, nb_filters, nb_output_bins, dilation_depth, nb_stacks, use_skip_connections,learn_all_outputs, use_bias, res_l2, final_l2)"
      ],
      "execution_count": 36,
      "outputs": []
    }
  ]
}
