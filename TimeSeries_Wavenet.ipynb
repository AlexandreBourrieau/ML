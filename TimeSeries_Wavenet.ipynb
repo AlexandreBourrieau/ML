{
  "nbformat": 4,
  "nbformat_minor": 0,
  "metadata": {
    "colab": {
      "name": "TimeSeries_Wavenet.ipynb",
      "provenance": [],
      "authorship_tag": "ABX9TyNPzTln7faH+XMI0g3RYsfv",
      "include_colab_link": true
    },
    "kernelspec": {
      "name": "python3",
      "display_name": "Python 3"
    },
    "language_info": {
      "name": "python"
    }
  },
  "cells": [
    {
      "cell_type": "markdown",
      "metadata": {
        "id": "view-in-github",
        "colab_type": "text"
      },
      "source": [
        "<a href=\"https://colab.research.google.com/github/AlexandreBourrieau/ML/blob/main/TimeSeries_Wavenet.ipynb\" target=\"_parent\"><img src=\"https://colab.research.google.com/assets/colab-badge.svg\" alt=\"Open In Colab\"/></a>"
      ]
    },
    {
      "cell_type": "code",
      "metadata": {
        "id": "MszGp0_3mujZ"
      },
      "source": [
        "import tensorflow as tf\n",
        "from tensorflow import keras\n",
        "import keras.backend as K\n",
        "from keras.engine import Input\n",
        "from keras.engine import Model\n",
        "\n",
        "from keras.layers import Conv1D\n",
        "from keras.utils.conv_utils import conv_output_length\n",
        "from keras import layers\n",
        "from keras.regularizers import l2\n",
        "\n",
        "import numpy as np\n",
        "import matplotlib.pyplot as plt\n",
        "import plotly.express as px\n",
        "import pandas as pd\n"
      ],
      "execution_count": 36,
      "outputs": []
    },
    {
      "cell_type": "markdown",
      "metadata": {
        "id": "UxjYjjZAtZJR"
      },
      "source": [
        "# Classe CaudalDilatedConv1D"
      ]
    },
    {
      "cell_type": "code",
      "metadata": {
        "id": "ajuXzt4HtcGB"
      },
      "source": [
        "class CausalDilatedConv1D(Conv1D):\n",
        "    def __init__(self, nb_filter, filter_length, init='glorot_uniform', activation=None, weights=None,\n",
        "                 border_mode='valid', subsample_length=1, atrous_rate=1, W_regularizer=None, b_regularizer=None,\n",
        "                 activity_regularizer=None, W_constraint=None, b_constraint=None, bias=True, causal=False, **kwargs):\n",
        "        super(CausalDilatedConv1D, self).__init__(nb_filter, filter_length, weights=weights, activation=activation, \n",
        "                padding=border_mode, strides=subsample_length, dilation_rate=atrous_rate, kernel_regularizer=W_regularizer, \n",
        "                bias_regularizer=b_regularizer, activity_regularizer=activity_regularizer, kernel_constraint=W_constraint, \n",
        "                bias_constraint=b_constraint, use_bias=bias, **kwargs)\n",
        "        self.causal = causal\n",
        "        self.nb_filter = nb_filter\n",
        "        self.atrous_rate = atrous_rate\n",
        "        self.filter_length = filter_length\n",
        "        self.subsample_length = subsample_length\n",
        "        self.border_mode = border_mode\n",
        "        if self.causal and border_mode != 'valid':\n",
        "            raise ValueError(\"Causal mode dictates border_mode=valid.\")\n",
        "\n",
        "    def compute_output_shape(self, input_shape):\n",
        "        input_length = input_shape[1]\n",
        "        if self.causal:\n",
        "            input_length += self.atrous_rate * (self.filter_length - 1)\n",
        "        length = conv_output_length(input_length, self.filter_length, self.border_mode, self.strides[0], dilation=self.atrous_rate)\n",
        "        return (input_shape[0], length, self.nb_filter)\n",
        "\n",
        "    def call(self, x, mask=None):\n",
        "        if self.causal:\n",
        "            x = K.temporal_padding(x, padding=(self.atrous_rate * (self.filter_length - 1), 0))\n",
        "        # return super(CausalAtrousConvolution1D, self).call(x, mask)\n",
        "        return super(CausalDilatedConv1D, self).call(x)"
      ],
      "execution_count": 8,
      "outputs": []
    },
    {
      "cell_type": "markdown",
      "metadata": {
        "id": "UrUydqeNnXcX"
      },
      "source": [
        "# Wavenet Model"
      ]
    },
    {
      "cell_type": "markdown",
      "metadata": {
        "id": "Dgu-I5wXrEta"
      },
      "source": [
        "**1. Méthodes**"
      ]
    },
    {
      "cell_type": "code",
      "metadata": {
        "id": "P-g8tpL3rGop"
      },
      "source": [
        "def _compute_receptive_field(dilation_depth, stacks):\n",
        "  return stacks * (2 ** dilation_depth * 2) - (stacks - 1)"
      ],
      "execution_count": 9,
      "outputs": []
    },
    {
      "cell_type": "markdown",
      "metadata": {
        "id": "h5hyJVoWrNxb"
      },
      "source": [
        "**2. Modèle**"
      ]
    },
    {
      "cell_type": "code",
      "metadata": {
        "id": "jiKkhjzCk6vc"
      },
      "source": [
        "def build_model_residual_block(x, i, s,filters, use_bias,res_l2):\n",
        "        original_x = x\n",
        "        # TODO: initalization, regularization?\n",
        "        tanh_out = CausalDilatedConv1D(filters, 2, atrous_rate=2 ** i, border_mode='valid', causal=True, bias=use_bias, name='dilated_conv_%d_tanh_s%d' % (2 ** i, s), activation='tanh', W_regularizer=l2(res_l2))(x)\n",
        "        sigm_out = CausalDilatedConv1D(filters, 2, atrous_rate=2 ** i, border_mode='valid', causal=True, bias=use_bias, name='dilated_conv_%d_sigm_s%d' % (2 ** i, s), activation='sigmoid', W_regularizer=l2(res_l2))(x)\n",
        "        x = layers.Multiply()([tanh_out, sigm_out])\n",
        "\n",
        "        res_x = layers.Conv1D(filters, 1, padding='same', use_bias=use_bias, kernel_regularizer=l2(res_l2))(x)\n",
        "        skip_x = layers.Conv1D(filters, 1, padding='same', use_bias=use_bias, kernel_regularizer=l2(res_l2))(x)\n",
        "        res_x = layers.Add()([original_x, res_x])\n",
        "        return res_x, skip_x\n",
        "\n",
        "def build_model(fragment_length, filters, output_bins, dilation_depth, stacks, use_skip_connections,learn_all_outputs, use_bias, res_l2, final_l2):\n",
        "        input_shape = Input(shape=(fragment_length, output_bins), name='input_part')\n",
        "        out = input_shape\n",
        "        skip_connections = []\n",
        "        out = CausalDilatedConv1D(filters, 2, atrous_rate=1, border_mode='valid', causal=True, name='initial_causal_conv')(out)\n",
        "        for s in range(stacks):\n",
        "            for i in range(0, dilation_depth + 1):\n",
        "                out, skip_out = build_model_residual_block(out, i, s, filters, use_bias, res_l2)\n",
        "                skip_connections.append(skip_out)\n",
        "\n",
        "        if use_skip_connections:\n",
        "            out = layers.Add()(skip_connections)\n",
        "        out = layers.Activation('relu')(out)\n",
        "        out = layers.Conv1D(output_bins, 1, padding='same', kernel_regularizer=l2(final_l2))(out)\n",
        "        out = layers.Activation('relu')(out)\n",
        "        out = layers.Conv1D(output_bins, 1, padding='same')(out)\n",
        "        if not learn_all_outputs:\n",
        "            raise DeprecationWarning('Learning on just all outputs is wasteful, now learning only inside receptive field.')\n",
        "            out = layers.Lambda(lambda x: x[:, -1, :], output_shape=(out._keras_shape[-1],))(out)  # Based on gif in deepmind blog: take last output?\n",
        "\n",
        "        out = layers.Activation('softmax', name=\"output_softmax\")(out)\n",
        "        model = Model(input_shape, out)\n",
        "        receptive_field = _compute_receptive_field(dilation_depth, stacks)\n",
        "        return model\n"
      ],
      "execution_count": 10,
      "outputs": []
    },
    {
      "cell_type": "markdown",
      "metadata": {
        "id": "bhuIKfr346bm"
      },
      "source": [
        "# TimeSeries Wavenet Model"
      ]
    },
    {
      "cell_type": "markdown",
      "metadata": {
        "id": "VELt9SzM46b4"
      },
      "source": [
        "**1. Méthodes**"
      ]
    },
    {
      "cell_type": "code",
      "metadata": {
        "id": "cu3KsNIU46b5"
      },
      "source": [
        "def _compute_receptive_field(dilation_depth, stacks):\n",
        "  return stacks * (2 ** dilation_depth * 2) - (stacks - 1)"
      ],
      "execution_count": 14,
      "outputs": []
    },
    {
      "cell_type": "markdown",
      "metadata": {
        "id": "Emq8TMrY46b6"
      },
      "source": [
        "**2. Modèle**"
      ]
    },
    {
      "cell_type": "code",
      "metadata": {
        "id": "Z5g5R9QB46b6"
      },
      "source": [
        "def build_model_residual_block(x, i, s,filters, use_bias,res_l2):\n",
        "        original_x = x\n",
        "        # TODO: initalization, regularization?\n",
        "        relu_out = CausalDilatedConv1D(filters, 2, atrous_rate=2 ** i, border_mode='valid', causal=True, bias=True, name='dilated_conv_%d_relu_s%d' % (2 ** i, s), activation='relu', W_regularizer=l2(res_l2))(x)\n",
        "        res_x = layers.Conv1D(filters, 1, padding='same', use_bias=use_bias, kernel_regularizer=l2(res_l2))(relu_out)\n",
        "        skip_x = layers.Conv1D(filters, 1, padding='same', use_bias=use_bias, kernel_regularizer=l2(res_l2))(relu_out)\n",
        "        res_x = layers.Add()([original_x, res_x])\n",
        "        return res_x, skip_x\n",
        "\n",
        "def build_model(fragment_length, filters, output_bins, dilation_depth, stacks, use_skip_connections, use_bias, res_l2, final_l2):\n",
        "        input_shape = Input(shape=(fragment_length, output_bins), name='input_part')\n",
        "        out = input_shape\n",
        "        skip_connections = []\n",
        "\n",
        "        for s in range(stacks):\n",
        "            for i in range(0, dilation_depth + 1):\n",
        "                out, skip_out = build_model_residual_block(out, i, s, filters, use_bias, res_l2)\n",
        "                skip_connections.append(skip_out)\n",
        "\n",
        "        if use_skip_connections:\n",
        "            out = layers.Add()(skip_connections)\n",
        "\n",
        "        out = layers.Activation('linear', name=\"output_linear\")(out)\n",
        "        out = layers.Conv1D(output_bins, 1, padding='same', kernel_regularizer=l2(final_l2))(out)\n",
        "        model = Model(input_shape, out)\n",
        "        return model\n"
      ],
      "execution_count": 26,
      "outputs": []
    },
    {
      "cell_type": "code",
      "metadata": {
        "id": "i53EJl_SWiCw",
        "outputId": "d5b3146b-5eb5-4487-c129-c05fd9cf02ee",
        "colab": {
          "base_uri": "https://localhost:8080/"
        }
      },
      "source": [
        "def compute_receptive_field_(dilation_depth, nb_stacks):\n",
        "    receptive_field = nb_stacks * (2 ** dilation_depth * 2) - (nb_stacks - 1)\n",
        "    return receptive_field\n",
        "\n",
        "nb_filters = 2\n",
        "nb_output_bins = 1\n",
        "dilation_depth = 3\n",
        "nb_stacks = 1\n",
        "use_skip_connections = True\n",
        "use_bias = False\n",
        "res_l2 = 0\n",
        "final_l2 = 0\n",
        "\n",
        "fragment_length = compute_receptive_field_(dilation_depth, nb_stacks)\n",
        "fragment_length\n",
        "\n",
        "model = build_model(fragment_length, nb_filters, nb_output_bins, dilation_depth, nb_stacks, use_skip_connections, use_bias, res_l2, final_l2)\n",
        "model.summary()"
      ],
      "execution_count": 139,
      "outputs": [
        {
          "output_type": "stream",
          "text": [
            "Model: \"model_10\"\n",
            "__________________________________________________________________________________________________\n",
            "Layer (type)                    Output Shape         Param #     Connected to                     \n",
            "==================================================================================================\n",
            "input_part (InputLayer)         [(None, 16, 1)]      0                                            \n",
            "__________________________________________________________________________________________________\n",
            "dilated_conv_1_relu_s0 (CausalD (None, 16, 2)        6           input_part[0][0]                 \n",
            "__________________________________________________________________________________________________\n",
            "conv1d_147 (Conv1D)             (None, 16, 2)        4           dilated_conv_1_relu_s0[0][0]     \n",
            "__________________________________________________________________________________________________\n",
            "add_76 (Add)                    (None, 16, 2)        0           input_part[0][0]                 \n",
            "                                                                 conv1d_147[0][0]                 \n",
            "__________________________________________________________________________________________________\n",
            "dilated_conv_2_relu_s0 (CausalD (None, 16, 2)        10          add_76[0][0]                     \n",
            "__________________________________________________________________________________________________\n",
            "conv1d_149 (Conv1D)             (None, 16, 2)        4           dilated_conv_2_relu_s0[0][0]     \n",
            "__________________________________________________________________________________________________\n",
            "add_77 (Add)                    (None, 16, 2)        0           add_76[0][0]                     \n",
            "                                                                 conv1d_149[0][0]                 \n",
            "__________________________________________________________________________________________________\n",
            "dilated_conv_4_relu_s0 (CausalD (None, 16, 2)        10          add_77[0][0]                     \n",
            "__________________________________________________________________________________________________\n",
            "conv1d_151 (Conv1D)             (None, 16, 2)        4           dilated_conv_4_relu_s0[0][0]     \n",
            "__________________________________________________________________________________________________\n",
            "add_78 (Add)                    (None, 16, 2)        0           add_77[0][0]                     \n",
            "                                                                 conv1d_151[0][0]                 \n",
            "__________________________________________________________________________________________________\n",
            "dilated_conv_8_relu_s0 (CausalD (None, 16, 2)        10          add_78[0][0]                     \n",
            "__________________________________________________________________________________________________\n",
            "conv1d_148 (Conv1D)             (None, 16, 2)        4           dilated_conv_1_relu_s0[0][0]     \n",
            "__________________________________________________________________________________________________\n",
            "conv1d_150 (Conv1D)             (None, 16, 2)        4           dilated_conv_2_relu_s0[0][0]     \n",
            "__________________________________________________________________________________________________\n",
            "conv1d_152 (Conv1D)             (None, 16, 2)        4           dilated_conv_4_relu_s0[0][0]     \n",
            "__________________________________________________________________________________________________\n",
            "conv1d_154 (Conv1D)             (None, 16, 2)        4           dilated_conv_8_relu_s0[0][0]     \n",
            "__________________________________________________________________________________________________\n",
            "add_80 (Add)                    (None, 16, 2)        0           conv1d_148[0][0]                 \n",
            "                                                                 conv1d_150[0][0]                 \n",
            "                                                                 conv1d_152[0][0]                 \n",
            "                                                                 conv1d_154[0][0]                 \n",
            "__________________________________________________________________________________________________\n",
            "output_linear (Activation)      (None, 16, 2)        0           add_80[0][0]                     \n",
            "__________________________________________________________________________________________________\n",
            "conv1d_155 (Conv1D)             (None, 16, 1)        3           output_linear[0][0]              \n",
            "==================================================================================================\n",
            "Total params: 67\n",
            "Trainable params: 67\n",
            "Non-trainable params: 0\n",
            "__________________________________________________________________________________________________\n"
          ],
          "name": "stdout"
        }
      ]
    },
    {
      "cell_type": "code",
      "metadata": {
        "id": "l092HzSQW0W8",
        "outputId": "c2728e14-469e-4b48-8fa6-cb8c003d135e",
        "colab": {
          "base_uri": "https://localhost:8080/"
        }
      },
      "source": [
        "x = tf.reshape(np.linspace(1,16000,16000),shape=(1000,16,1))\n",
        "print(x.shape)\n",
        "\n",
        "y = CausalDilatedConv1D(2, 2, atrous_rate=2 ** 0, border_mode='valid', causal=True, bias=True, activation='relu',)(x)\n",
        "y = CausalDilatedConv1D(2, 2, atrous_rate=2 ** 1, border_mode='valid', causal=True, bias=True, activation='relu',)(y)\n",
        "y = CausalDilatedConv1D(2, 2, atrous_rate=2 ** 2, border_mode='valid', causal=True, bias=True, activation='relu',)(y)\n",
        "\n",
        "y = layers.Activation('linear', name=\"output_linear\")(y)\n",
        "\n",
        "y = layers.Conv1D(1, 1, padding='same')(y)\n",
        "\n",
        "\n",
        "#y = CausalDilatedConv1D(2, 2, atrous_rate=1, border_mode='valid', causal=True, bias=True, activation='relu')(x)\n",
        "\n",
        "print(y.shape)"
      ],
      "execution_count": 138,
      "outputs": [
        {
          "output_type": "stream",
          "text": [
            "(1000, 16, 1)\n",
            "(1000, 16, 1)\n"
          ],
          "name": "stdout"
        }
      ]
    },
    {
      "cell_type": "markdown",
      "metadata": {
        "id": "XNoo0D3iscrd"
      },
      "source": [
        "# Définition de la série"
      ]
    },
    {
      "cell_type": "code",
      "metadata": {
        "id": "teDkHeiX_xTj",
        "outputId": "995e9a57-1912-44e4-a08b-695f44c88ae5",
        "colab": {
          "base_uri": "https://localhost:8080/",
          "height": 300
        }
      },
      "source": [
        "t = np.linspace(0,100,100*10)\n",
        "print(t.shape)\n",
        "sin = np.sin(t)\n",
        "plt.plot(sin)"
      ],
      "execution_count": 205,
      "outputs": [
        {
          "output_type": "stream",
          "text": [
            "(1000,)\n"
          ],
          "name": "stdout"
        },
        {
          "output_type": "execute_result",
          "data": {
            "text/plain": [
              "[<matplotlib.lines.Line2D at 0x7fef5528d1d0>]"
            ]
          },
          "metadata": {
            "tags": []
          },
          "execution_count": 205
        },
        {
          "output_type": "display_data",
          "data": {
            "image/png": "[encoded data removed]",
            "text/plain": [
              "<Figure size 432x288 with 1 Axes>"
            ]
          },
          "metadata": {
            "tags": [],
            "needs_background": "light"
          }
        }
      ]
    },
    {
      "cell_type": "code",
      "metadata": {
        "id": "lJD-yLctqKkH",
        "outputId": "36b2e631-c1c3-48af-aa49-ad5e8603a7ae",
        "colab": {
          "base_uri": "https://localhost:8080/"
        }
      },
      "source": [
        "sin = np.insert(sin,0,np.zeros(16))\n",
        "sin[0:50]"
      ],
      "execution_count": 206,
      "outputs": [
        {
          "output_type": "execute_result",
          "data": {
            "text/plain": [
              "array([ 0.        ,  0.        ,  0.        ,  0.        ,  0.        ,\n",
              "        0.        ,  0.        ,  0.        ,  0.        ,  0.        ,\n",
              "        0.        ,  0.        ,  0.        ,  0.        ,  0.        ,\n",
              "        0.        ,  0.        ,  0.09993302,  0.19886554,  0.29580708,\n",
              "        0.3897871 ,  0.47986471,  0.56513807,  0.64475345,  0.71791378,\n",
              "        0.7838866 ,  0.84201141,  0.89170627,  0.93247368,  0.96390547,\n",
              "        0.98568695,  0.99760007,  0.99952556,  0.99144412,  0.97343668,\n",
              "        0.94568351,  0.90846248,  0.86214622,  0.80719845,  0.74416927,\n",
              "        0.67368972,  0.59646541,  0.51326949,  0.42493488,  0.33234597,\n",
              "        0.23642973,  0.13814643,  0.03848005, -0.06157158, -0.16100677])"
            ]
          },
          "metadata": {
            "tags": []
          },
          "execution_count": 206
        }
      ]
    },
    {
      "cell_type": "code",
      "metadata": {
        "id": "hoeduCt0AX7i",
        "outputId": "2cc20ad9-3bdd-40b4-a211-efd27782ca6a",
        "colab": {
          "base_uri": "https://localhost:8080/"
        }
      },
      "source": [
        "# Sépare les données en entrainement et tests\n",
        "pourcentage = 0.8\n",
        "temps_separation = int(len(sin) * pourcentage)\n",
        "\n",
        "serie_entrainement = sin[:temps_separation]\n",
        "serie_test = sin[temps_separation:]\n",
        "\n",
        "print(\"Taille de l'entrainement : %d\" %len(serie_entrainement))\n",
        "print(\"Taille de la validation : %d\" %len(serie_test))"
      ],
      "execution_count": 207,
      "outputs": [
        {
          "output_type": "stream",
          "text": [
            "Taille de l'entrainement : 812\n",
            "Taille de la validation : 204\n"
          ],
          "name": "stdout"
        }
      ]
    },
    {
      "cell_type": "code",
      "metadata": {
        "id": "tvjvDPwkTPCW",
        "outputId": "a9650c43-9486-4745-8fc7-463ba334b382",
        "colab": {
          "base_uri": "https://localhost:8080/",
          "height": 403
        }
      },
      "source": [
        "# Affiche la série\n",
        "fig, ax = plt.subplots(constrained_layout=True, figsize=(15,5))\n",
        "ax.plot(t[0:temps_separation],serie_entrainement)\n",
        "ax.plot(t[temps_separation:],serie_test[:-16])\n",
        "\n",
        "ax.set_title(\"Evolution du prix du BTC\")\n",
        "\n",
        "ax.legend()\n",
        "plt.show()"
      ],
      "execution_count": 217,
      "outputs": [
        {
          "output_type": "stream",
          "text": [
            "No handles with labels found to put in legend.\n"
          ],
          "name": "stderr"
        },
        {
          "output_type": "display_data",
          "data": {
            "image/png": "[encoded data removed]",
            "text/plain": [
              "<Figure size 1080x360 with 1 Axes>"
            ]
          },
          "metadata": {
            "tags": [],
            "needs_background": "light"
          }
        }
      ]
    },
    {
      "cell_type": "code",
      "metadata": {
        "id": "X_Sab7uUA3gj"
      },
      "source": [
        "# Calcul de la moyenne et de l'écart type de la série\n",
        "mean = tf.math.reduce_mean(np.asarray(serie_entrainement))\n",
        "std = tf.math.reduce_std(np.asarray((serie_entrainement)))\n",
        "\n",
        "# Normalisation des données\n",
        "serie_entrainement = (serie_entrainement-mean)/std\n",
        "serie_test = (serie_test-mean)/std"
      ],
      "execution_count": 218,
      "outputs": []
    },
    {
      "cell_type": "code",
      "metadata": {
        "id": "EmtQCbRqA_Vy"
      },
      "source": [
        "# Fonction permettant de créer un dataset à partir des données de la série temporelle\n",
        "\n",
        "def prepare_dataset_XY(serie, taille_fenetre, horizon, batch_size):\n",
        "  dataset = tf.data.Dataset.from_tensor_slices(serie)\n",
        "  dataset = dataset.window(taille_fenetre+horizon, shift=1, drop_remainder=True)\n",
        "  dataset = dataset.flat_map(lambda x: x.batch(taille_fenetre + horizon))\n",
        "  dataset = dataset.map(lambda x: (tf.expand_dims(x[0:taille_fenetre],axis=1),x[-taille_fenetre:]))\n",
        "  dataset = dataset.batch(batch_size,drop_remainder=True).prefetch(1)\n",
        "  return dataset"
      ],
      "execution_count": 225,
      "outputs": []
    },
    {
      "cell_type": "code",
      "metadata": {
        "id": "3TtWPvWIr7V5"
      },
      "source": [
        "toto = np.linspace(0,1000,1001)\n",
        "toto = np.insert(toto,0,np.zeros(16))"
      ],
      "execution_count": 226,
      "outputs": []
    },
    {
      "cell_type": "code",
      "metadata": {
        "id": "cxfKarkWr41q"
      },
      "source": [
        "# Définition des caractéristiques du dataset que l'on souhaite créer\n",
        "taille_fenetre = 16\n",
        "horizon = 1\n",
        "batch_size = 1\n",
        "\n",
        "dataset = prepare_dataset_XY(toto,taille_fenetre,horizon,batch_size)"
      ],
      "execution_count": 227,
      "outputs": []
    },
    {
      "cell_type": "code",
      "metadata": {
        "id": "kSWGAlP0sGCk"
      },
      "source": [
        "for element in dataset.take(3):\n",
        "  print(element)"
      ],
      "execution_count": null,
      "outputs": []
    },
    {
      "cell_type": "code",
      "metadata": {
        "id": "wWs9WB4UBDCq"
      },
      "source": [
        "# Définition des caractéristiques du dataset que l'on souhaite créer\n",
        "taille_fenetre = 16\n",
        "horizon = 1\n",
        "batch_size = 1\n",
        "\n",
        "# Création du dataset\n",
        "dataset = prepare_dataset_XY(serie_entrainement,taille_fenetre,horizon,batch_size)\n",
        "dataset_val = prepare_dataset_XY(serie_test,taille_fenetre,horizon,batch_size)"
      ],
      "execution_count": 231,
      "outputs": []
    },
    {
      "cell_type": "code",
      "metadata": {
        "id": "1OI8thOPBGJz",
        "outputId": "13cef701-9395-402f-dafb-72b1e22dd11e",
        "colab": {
          "base_uri": "https://localhost:8080/"
        }
      },
      "source": [
        "print(len(list(dataset.as_numpy_iterator())))\n",
        "for element in dataset.take(1):\n",
        "  print(element[0].shape)\n",
        "  print(element[1].shape)"
      ],
      "execution_count": 232,
      "outputs": [
        {
          "output_type": "stream",
          "text": [
            "796\n",
            "(1, 16, 1)\n",
            "(1, 16)\n"
          ],
          "name": "stdout"
        }
      ]
    },
    {
      "cell_type": "code",
      "metadata": {
        "id": "q0zx3CY3WHKm",
        "outputId": "c3863c69-582e-474c-e3c3-740c9031fe58",
        "colab": {
          "base_uri": "https://localhost:8080/"
        }
      },
      "source": [
        "for element in dataset.take(1):\n",
        "  print(element)\n"
      ],
      "execution_count": 233,
      "outputs": [
        {
          "output_type": "stream",
          "text": [
            "(<tf.Tensor: shape=(1, 16, 1), dtype=float64, numpy=\n",
            "array([[[-0.02577507],\n",
            "        [-0.02577507],\n",
            "        [-0.02577507],\n",
            "        [-0.02577507],\n",
            "        [-0.02577507],\n",
            "        [-0.02577507],\n",
            "        [-0.02577507],\n",
            "        [-0.02577507],\n",
            "        [-0.02577507],\n",
            "        [-0.02577507],\n",
            "        [-0.02577507],\n",
            "        [-0.02577507],\n",
            "        [-0.02577507],\n",
            "        [-0.02577507],\n",
            "        [-0.02577507],\n",
            "        [-0.02577507]]])>, <tf.Tensor: shape=(1, 16), dtype=float64, numpy=\n",
            "array([[-0.02577507, -0.02577507, -0.02577507, -0.02577507, -0.02577507,\n",
            "        -0.02577507, -0.02577507, -0.02577507, -0.02577507, -0.02577507,\n",
            "        -0.02577507, -0.02577507, -0.02577507, -0.02577507, -0.02577507,\n",
            "        -0.02577507]])>)\n"
          ],
          "name": "stdout"
        }
      ]
    },
    {
      "cell_type": "code",
      "metadata": {
        "id": "eKDGxPtpBJbO",
        "outputId": "4ce10aa2-1dc1-43a1-fd84-c7f5c128b513",
        "colab": {
          "base_uri": "https://localhost:8080/"
        }
      },
      "source": [
        "# Extrait les X,Y du dataset\n",
        "#56x((1000,4,1),(1000,1)) => (56*1000,4,1) ; (56*1000,1)\n",
        "\n",
        "x,y = tuple(zip(*dataset))\n",
        "\n",
        "# Recombine les données\n",
        "# (56,1000,4,1) => (56*128,4,1)\n",
        "# (56,1000,1) => (56*128,1)\n",
        "x_train = np.asarray(tf.reshape(np.asarray(x,dtype=np.float32),shape=(np.asarray(x).shape[0]*np.asarray(x).shape[1],taille_fenetre,1)))\n",
        "y_train = np.asarray(tf.reshape(np.asarray(y,dtype=np.float32),shape=(np.asarray(y).shape[0]*np.asarray(y).shape[1],taille_fenetre)))\n",
        "\n",
        "# Affiche les formats\n",
        "print(x_train.shape)\n",
        "print(y_train.shape)"
      ],
      "execution_count": 235,
      "outputs": [
        {
          "output_type": "stream",
          "text": [
            "(796, 16, 1)\n",
            "(796, 16)\n"
          ],
          "name": "stdout"
        }
      ]
    },
    {
      "cell_type": "code",
      "metadata": {
        "id": "AzGHBu6JBLWz",
        "outputId": "7f87c82f-625d-4896-8968-24fcbbfa05aa",
        "colab": {
          "base_uri": "https://localhost:8080/"
        }
      },
      "source": [
        "# Extrait les X,Y du dataset_val\n",
        "\n",
        "x,y = tuple(zip(*dataset_val))\n",
        "\n",
        "# Recombine les données\n",
        "\n",
        "x_val = np.asarray(tf.reshape(np.asarray(x,dtype=np.float32),shape=(np.asarray(x).shape[0]*np.asarray(x).shape[1],taille_fenetre,1)))\n",
        "y_val = np.asarray(tf.reshape(np.asarray(y,dtype=np.float32),shape=(np.asarray(y).shape[0]*np.asarray(y).shape[1],taille_fenetre)))\n",
        "\n",
        "# Affiche les formats\n",
        "print(x_val.shape)\n",
        "print(y_val.shape)"
      ],
      "execution_count": 236,
      "outputs": [
        {
          "output_type": "stream",
          "text": [
            "(188, 16, 1)\n",
            "(188, 16)\n"
          ],
          "name": "stdout"
        }
      ]
    },
    {
      "cell_type": "code",
      "metadata": {
        "id": "lMCOBihoBYoy"
      },
      "source": [
        "# Création des instants d'entrainement et de validation\n",
        "y_train_timing = t[taille_fenetre + horizon - 1:taille_fenetre + horizon - 1+len(y_train)]\n",
        "y_val_timing = t[taille_fenetre + horizon - 1:taille_fenetre + horizon - 1+len(y_val)]"
      ],
      "execution_count": 237,
      "outputs": []
    },
    {
      "cell_type": "markdown",
      "metadata": {
        "id": "AcoCMppCThG9"
      },
      "source": [
        "# Utilisation du model"
      ]
    },
    {
      "cell_type": "code",
      "metadata": {
        "id": "bf7zD-q3Ti7u",
        "outputId": "49384972-57cf-4ae7-b746-7316dd6871fa",
        "colab": {
          "base_uri": "https://localhost:8080/"
        }
      },
      "source": [
        "def compute_receptive_field_(dilation_depth, nb_stacks):\n",
        "    receptive_field = nb_stacks * (2 ** dilation_depth * 2) - (nb_stacks - 1)\n",
        "    return receptive_field\n",
        "\n",
        "nb_filters = 2\n",
        "nb_output_bins = 1\n",
        "dilation_depth = 3\n",
        "nb_stacks = 1\n",
        "use_skip_connections = True\n",
        "use_bias = False\n",
        "res_l2 = 0\n",
        "final_l2 = 0\n",
        "\n",
        "fragment_length = compute_receptive_field_(dilation_depth, nb_stacks)\n",
        "fragment_length\n",
        "\n",
        "model = build_model(fragment_length, nb_filters, nb_output_bins, dilation_depth, nb_stacks, use_skip_connections, use_bias, res_l2, final_l2)\n",
        "model.summary()"
      ],
      "execution_count": 238,
      "outputs": [
        {
          "output_type": "stream",
          "text": [
            "Model: \"model_13\"\n",
            "__________________________________________________________________________________________________\n",
            "Layer (type)                    Output Shape         Param #     Connected to                     \n",
            "==================================================================================================\n",
            "input_part (InputLayer)         [(None, 16, 1)]      0                                            \n",
            "__________________________________________________________________________________________________\n",
            "dilated_conv_1_relu_s0 (CausalD (None, 16, 2)        6           input_part[0][0]                 \n",
            "__________________________________________________________________________________________________\n",
            "conv1d_174 (Conv1D)             (None, 16, 2)        4           dilated_conv_1_relu_s0[0][0]     \n",
            "__________________________________________________________________________________________________\n",
            "add_91 (Add)                    (None, 16, 2)        0           input_part[0][0]                 \n",
            "                                                                 conv1d_174[0][0]                 \n",
            "__________________________________________________________________________________________________\n",
            "dilated_conv_2_relu_s0 (CausalD (None, 16, 2)        10          add_91[0][0]                     \n",
            "__________________________________________________________________________________________________\n",
            "conv1d_176 (Conv1D)             (None, 16, 2)        4           dilated_conv_2_relu_s0[0][0]     \n",
            "__________________________________________________________________________________________________\n",
            "add_92 (Add)                    (None, 16, 2)        0           add_91[0][0]                     \n",
            "                                                                 conv1d_176[0][0]                 \n",
            "__________________________________________________________________________________________________\n",
            "dilated_conv_4_relu_s0 (CausalD (None, 16, 2)        10          add_92[0][0]                     \n",
            "__________________________________________________________________________________________________\n",
            "conv1d_178 (Conv1D)             (None, 16, 2)        4           dilated_conv_4_relu_s0[0][0]     \n",
            "__________________________________________________________________________________________________\n",
            "add_93 (Add)                    (None, 16, 2)        0           add_92[0][0]                     \n",
            "                                                                 conv1d_178[0][0]                 \n",
            "__________________________________________________________________________________________________\n",
            "dilated_conv_8_relu_s0 (CausalD (None, 16, 2)        10          add_93[0][0]                     \n",
            "__________________________________________________________________________________________________\n",
            "conv1d_175 (Conv1D)             (None, 16, 2)        4           dilated_conv_1_relu_s0[0][0]     \n",
            "__________________________________________________________________________________________________\n",
            "conv1d_177 (Conv1D)             (None, 16, 2)        4           dilated_conv_2_relu_s0[0][0]     \n",
            "__________________________________________________________________________________________________\n",
            "conv1d_179 (Conv1D)             (None, 16, 2)        4           dilated_conv_4_relu_s0[0][0]     \n",
            "__________________________________________________________________________________________________\n",
            "conv1d_181 (Conv1D)             (None, 16, 2)        4           dilated_conv_8_relu_s0[0][0]     \n",
            "__________________________________________________________________________________________________\n",
            "add_95 (Add)                    (None, 16, 2)        0           conv1d_175[0][0]                 \n",
            "                                                                 conv1d_177[0][0]                 \n",
            "                                                                 conv1d_179[0][0]                 \n",
            "                                                                 conv1d_181[0][0]                 \n",
            "__________________________________________________________________________________________________\n",
            "output_linear (Activation)      (None, 16, 2)        0           add_95[0][0]                     \n",
            "__________________________________________________________________________________________________\n",
            "conv1d_182 (Conv1D)             (None, 16, 1)        3           output_linear[0][0]              \n",
            "==================================================================================================\n",
            "Total params: 67\n",
            "Trainable params: 67\n",
            "Non-trainable params: 0\n",
            "__________________________________________________________________________________________________\n"
          ],
          "name": "stdout"
        }
      ]
    },
    {
      "cell_type": "code",
      "metadata": {
        "id": "YyB-jy4GTqjV",
        "outputId": "a3ebb2c2-b92e-4586-f2c0-5a321d81ebc6",
        "colab": {
          "base_uri": "https://localhost:8080/"
        }
      },
      "source": [
        "# Définition de la fonction de régulation du taux d'apprentissage\n",
        "def RegulationTauxApprentissage(periode, taux):\n",
        "  return 1e-8*10**(periode/10)\n",
        "\n",
        "# Définition de l'optimiseur à utiliser\n",
        "optimiseur=tf.keras.optimizers.Adam()\n",
        "\n",
        "# Compile le modèle\n",
        "model.compile(loss=\"mse\", optimizer=optimiseur, metrics=\"mse\")\n",
        "\n",
        "# Utilisation de la méthode ModelCheckPoint\n",
        "CheckPoint = tf.keras.callbacks.ModelCheckpoint(\"poids.hdf5\", monitor='loss', verbose=1, save_best_only=True, save_weights_only = True, mode='auto', save_freq='epoch')\n",
        "\n",
        "# Entraine le modèle en utilisant notre fonction personnelle de régulation du taux d'apprentissage\n",
        "historique = model.fit(dataset,epochs=100,verbose=1, callbacks=[tf.keras.callbacks.LearningRateScheduler(RegulationTauxApprentissage), CheckPoint],batch_size=batch_size)"
      ],
      "execution_count": 239,
      "outputs": [
        {
          "output_type": "stream",
          "text": [
            "Epoch 1/100\n",
            "796/796 [==============================] - 3s 2ms/step - loss: 1.4099 - mse: 1.4099\n",
            "\n",
            "Epoch 00001: loss improved from inf to 1.47007, saving model to poids.hdf5\n",
            "Epoch 2/100\n",
            "796/796 [==============================] - 2s 2ms/step - loss: 1.4099 - mse: 1.4099\n",
            "\n",
            "Epoch 00002: loss improved from 1.47007 to 1.47004, saving model to poids.hdf5\n",
            "Epoch 3/100\n",
            "796/796 [==============================] - 2s 2ms/step - loss: 1.4098 - mse: 1.4098\n",
            "\n",
            "Epoch 00003: loss improved from 1.47004 to 1.46998, saving model to poids.hdf5\n",
            "Epoch 4/100\n",
            "796/796 [==============================] - 2s 2ms/step - loss: 1.4098 - mse: 1.4098\n",
            "\n",
            "Epoch 00004: loss improved from 1.46998 to 1.46990, saving model to poids.hdf5\n",
            "Epoch 5/100\n",
            "796/796 [==============================] - 2s 2ms/step - loss: 1.4097 - mse: 1.4097\n",
            "\n",
            "Epoch 00005: loss improved from 1.46990 to 1.46978, saving model to poids.hdf5\n",
            "Epoch 6/100\n",
            "796/796 [==============================] - 2s 2ms/step - loss: 1.4095 - mse: 1.4095\n",
            "\n",
            "Epoch 00006: loss improved from 1.46978 to 1.46961, saving model to poids.hdf5\n",
            "Epoch 7/100\n",
            "796/796 [==============================] - 2s 2ms/step - loss: 1.4093 - mse: 1.4093\n",
            "\n",
            "Epoch 00007: loss improved from 1.46961 to 1.46938, saving model to poids.hdf5\n",
            "Epoch 8/100\n",
            "796/796 [==============================] - 2s 2ms/step - loss: 1.4091 - mse: 1.4091\n",
            "\n",
            "Epoch 00008: loss improved from 1.46938 to 1.46909, saving model to poids.hdf5\n",
            "Epoch 9/100\n",
            "796/796 [==============================] - 2s 2ms/step - loss: 1.4087 - mse: 1.4087\n",
            "\n",
            "Epoch 00009: loss improved from 1.46909 to 1.46871, saving model to poids.hdf5\n",
            "Epoch 10/100\n",
            "796/796 [==============================] - 2s 2ms/step - loss: 1.4083 - mse: 1.4083\n",
            "\n",
            "Epoch 00010: loss improved from 1.46871 to 1.46822, saving model to poids.hdf5\n",
            "Epoch 11/100\n",
            "796/796 [==============================] - 2s 2ms/step - loss: 1.4077 - mse: 1.4077\n",
            "\n",
            "Epoch 00011: loss improved from 1.46822 to 1.46760, saving model to poids.hdf5\n",
            "Epoch 12/100\n",
            "796/796 [==============================] - 2s 2ms/step - loss: 1.4070 - mse: 1.4070\n",
            "\n",
            "Epoch 00012: loss improved from 1.46760 to 1.46683, saving model to poids.hdf5\n",
            "Epoch 13/100\n",
            "796/796 [==============================] - 2s 2ms/step - loss: 1.4061 - mse: 1.4061\n",
            "\n",
            "Epoch 00013: loss improved from 1.46683 to 1.46585, saving model to poids.hdf5\n",
            "Epoch 14/100\n",
            "796/796 [==============================] - 2s 2ms/step - loss: 1.4050 - mse: 1.4050\n",
            "\n",
            "Epoch 00014: loss improved from 1.46585 to 1.46460, saving model to poids.hdf5\n",
            "Epoch 15/100\n",
            "796/796 [==============================] - 2s 2ms/step - loss: 1.4036 - mse: 1.4036\n",
            "\n",
            "Epoch 00015: loss improved from 1.46460 to 1.46304, saving model to poids.hdf5\n",
            "Epoch 16/100\n",
            "796/796 [==============================] - 2s 2ms/step - loss: 1.4018 - mse: 1.4018\n",
            "\n",
            "Epoch 00016: loss improved from 1.46304 to 1.46106, saving model to poids.hdf5\n",
            "Epoch 17/100\n",
            "796/796 [==============================] - 2s 2ms/step - loss: 1.3995 - mse: 1.3995\n",
            "\n",
            "Epoch 00017: loss improved from 1.46106 to 1.45857, saving model to poids.hdf5\n",
            "Epoch 18/100\n",
            "796/796 [==============================] - 2s 2ms/step - loss: 1.3967 - mse: 1.3967\n",
            "\n",
            "Epoch 00018: loss improved from 1.45857 to 1.45543, saving model to poids.hdf5\n",
            "Epoch 19/100\n",
            "796/796 [==============================] - 2s 2ms/step - loss: 1.3931 - mse: 1.3931\n",
            "\n",
            "Epoch 00019: loss improved from 1.45543 to 1.45149, saving model to poids.hdf5\n",
            "Epoch 20/100\n",
            "796/796 [==============================] - 2s 2ms/step - loss: 1.3886 - mse: 1.3886\n",
            "\n",
            "Epoch 00020: loss improved from 1.45149 to 1.44653, saving model to poids.hdf5\n",
            "Epoch 21/100\n",
            "796/796 [==============================] - 2s 2ms/step - loss: 1.3829 - mse: 1.3829\n",
            "\n",
            "Epoch 00021: loss improved from 1.44653 to 1.44030, saving model to poids.hdf5\n",
            "Epoch 22/100\n",
            "796/796 [==============================] - 2s 2ms/step - loss: 1.3759 - mse: 1.3759\n",
            "\n",
            "Epoch 00022: loss improved from 1.44030 to 1.43249, saving model to poids.hdf5\n",
            "Epoch 23/100\n",
            "796/796 [==============================] - 2s 2ms/step - loss: 1.3670 - mse: 1.3670\n",
            "\n",
            "Epoch 00023: loss improved from 1.43249 to 1.42269, saving model to poids.hdf5\n",
            "Epoch 24/100\n",
            "796/796 [==============================] - 2s 2ms/step - loss: 1.3558 - mse: 1.3558\n",
            "\n",
            "Epoch 00024: loss improved from 1.42269 to 1.41041, saving model to poids.hdf5\n",
            "Epoch 25/100\n",
            "796/796 [==============================] - 2s 2ms/step - loss: 1.3418 - mse: 1.3418\n",
            "\n",
            "Epoch 00025: loss improved from 1.41041 to 1.39504, saving model to poids.hdf5\n",
            "Epoch 26/100\n",
            "796/796 [==============================] - 2s 2ms/step - loss: 1.3244 - mse: 1.3244\n",
            "\n",
            "Epoch 00026: loss improved from 1.39504 to 1.37582, saving model to poids.hdf5\n",
            "Epoch 27/100\n",
            "796/796 [==============================] - 2s 2ms/step - loss: 1.3025 - mse: 1.3025\n",
            "\n",
            "Epoch 00027: loss improved from 1.37582 to 1.35186, saving model to poids.hdf5\n",
            "Epoch 28/100\n",
            "796/796 [==============================] - 2s 2ms/step - loss: 1.2753 - mse: 1.2753\n",
            "\n",
            "Epoch 00028: loss improved from 1.35186 to 1.32204, saving model to poids.hdf5\n",
            "Epoch 29/100\n",
            "796/796 [==============================] - 2s 2ms/step - loss: 1.2416 - mse: 1.2416\n",
            "\n",
            "Epoch 00029: loss improved from 1.32204 to 1.28505, saving model to poids.hdf5\n",
            "Epoch 30/100\n",
            "796/796 [==============================] - 2s 2ms/step - loss: 1.1998 - mse: 1.1998\n",
            "\n",
            "Epoch 00030: loss improved from 1.28505 to 1.23927, saving model to poids.hdf5\n",
            "Epoch 31/100\n",
            "796/796 [==============================] - 2s 2ms/step - loss: 1.1481 - mse: 1.1481\n",
            "\n",
            "Epoch 00031: loss improved from 1.23927 to 1.18284, saving model to poids.hdf5\n",
            "Epoch 32/100\n",
            "796/796 [==============================] - 2s 2ms/step - loss: 1.0847 - mse: 1.0847\n",
            "\n",
            "Epoch 00032: loss improved from 1.18284 to 1.11351, saving model to poids.hdf5\n",
            "Epoch 33/100\n",
            "796/796 [==============================] - 2s 2ms/step - loss: 1.0068 - mse: 1.0068\n",
            "\n",
            "Epoch 00033: loss improved from 1.11351 to 1.02860, saving model to poids.hdf5\n",
            "Epoch 34/100\n",
            "796/796 [==============================] - 2s 2ms/step - loss: 0.9110 - mse: 0.9110\n",
            "\n",
            "Epoch 00034: loss improved from 1.02860 to 0.92320, saving model to poids.hdf5\n",
            "Epoch 35/100\n",
            "796/796 [==============================] - 2s 2ms/step - loss: 0.7891 - mse: 0.7891\n",
            "\n",
            "Epoch 00035: loss improved from 0.92320 to 0.78989, saving model to poids.hdf5\n",
            "Epoch 36/100\n",
            "796/796 [==============================] - 2s 2ms/step - loss: 0.6435 - mse: 0.6435\n",
            "\n",
            "Epoch 00036: loss improved from 0.78989 to 0.63320, saving model to poids.hdf5\n",
            "Epoch 37/100\n",
            "796/796 [==============================] - 2s 2ms/step - loss: 0.4821 - mse: 0.4821\n",
            "\n",
            "Epoch 00037: loss improved from 0.63320 to 0.46241, saving model to poids.hdf5\n",
            "Epoch 38/100\n",
            "796/796 [==============================] - 2s 2ms/step - loss: 0.3167 - mse: 0.3167\n",
            "\n",
            "Epoch 00038: loss improved from 0.46241 to 0.29256, saving model to poids.hdf5\n",
            "Epoch 39/100\n",
            "796/796 [==============================] - 2s 2ms/step - loss: 0.1750 - mse: 0.1750\n",
            "\n",
            "Epoch 00039: loss improved from 0.29256 to 0.15636, saving model to poids.hdf5\n",
            "Epoch 40/100\n",
            "796/796 [==============================] - 2s 2ms/step - loss: 0.0890 - mse: 0.0890\n",
            "\n",
            "Epoch 00040: loss improved from 0.15636 to 0.08175, saving model to poids.hdf5\n",
            "Epoch 41/100\n",
            "796/796 [==============================] - 2s 2ms/step - loss: 0.0555 - mse: 0.0555\n",
            "\n",
            "Epoch 00041: loss improved from 0.08175 to 0.05462, saving model to poids.hdf5\n",
            "Epoch 42/100\n",
            "796/796 [==============================] - 2s 2ms/step - loss: 0.0429 - mse: 0.0429\n",
            "\n",
            "Epoch 00042: loss improved from 0.05462 to 0.04284, saving model to poids.hdf5\n",
            "Epoch 43/100\n",
            "796/796 [==============================] - 2s 2ms/step - loss: 0.0330 - mse: 0.0330\n",
            "\n",
            "Epoch 00043: loss improved from 0.04284 to 0.03235, saving model to poids.hdf5\n",
            "Epoch 44/100\n",
            "796/796 [==============================] - 2s 2ms/step - loss: 0.0237 - mse: 0.0237\n",
            "\n",
            "Epoch 00044: loss improved from 0.03235 to 0.02329, saving model to poids.hdf5\n",
            "Epoch 45/100\n",
            "796/796 [==============================] - 2s 2ms/step - loss: 0.0172 - mse: 0.0172\n",
            "\n",
            "Epoch 00045: loss improved from 0.02329 to 0.01709, saving model to poids.hdf5\n",
            "Epoch 46/100\n",
            "796/796 [==============================] - 2s 2ms/step - loss: 0.0128 - mse: 0.0128\n",
            "\n",
            "Epoch 00046: loss improved from 0.01709 to 0.01296, saving model to poids.hdf5\n",
            "Epoch 47/100\n",
            "796/796 [==============================] - 2s 2ms/step - loss: 0.0099 - mse: 0.0099\n",
            "\n",
            "Epoch 00047: loss improved from 0.01296 to 0.01009, saving model to poids.hdf5\n",
            "Epoch 48/100\n",
            "796/796 [==============================] - 2s 2ms/step - loss: 0.0082 - mse: 0.0082\n",
            "\n",
            "Epoch 00048: loss improved from 0.01009 to 0.00822, saving model to poids.hdf5\n",
            "Epoch 49/100\n",
            "796/796 [==============================] - 2s 2ms/step - loss: 0.0071 - mse: 0.0071\n",
            "\n",
            "Epoch 00049: loss improved from 0.00822 to 0.00709, saving model to poids.hdf5\n",
            "Epoch 50/100\n",
            "796/796 [==============================] - 2s 2ms/step - loss: 0.0066 - mse: 0.0066\n",
            "\n",
            "Epoch 00050: loss improved from 0.00709 to 0.00662, saving model to poids.hdf5\n",
            "Epoch 51/100\n",
            "796/796 [==============================] - 2s 2ms/step - loss: 0.0065 - mse: 0.0065\n",
            "\n",
            "Epoch 00051: loss did not improve from 0.00662\n",
            "Epoch 52/100\n",
            "796/796 [==============================] - 2s 2ms/step - loss: 0.0069 - mse: 0.0069\n",
            "\n",
            "Epoch 00052: loss did not improve from 0.00662\n",
            "Epoch 53/100\n",
            "796/796 [==============================] - 2s 2ms/step - loss: 0.0078 - mse: 0.0078\n",
            "\n",
            "Epoch 00053: loss did not improve from 0.00662\n",
            "Epoch 54/100\n",
            "796/796 [==============================] - 2s 2ms/step - loss: 0.0081 - mse: 0.0081\n",
            "\n",
            "Epoch 00054: loss did not improve from 0.00662\n",
            "Epoch 55/100\n",
            "796/796 [==============================] - 2s 2ms/step - loss: 0.0086 - mse: 0.0086\n",
            "\n",
            "Epoch 00055: loss did not improve from 0.00662\n",
            "Epoch 56/100\n",
            "796/796 [==============================] - 2s 2ms/step - loss: 0.0104 - mse: 0.0104\n",
            "\n",
            "Epoch 00056: loss did not improve from 0.00662\n",
            "Epoch 57/100\n",
            "796/796 [==============================] - 2s 2ms/step - loss: 0.0119 - mse: 0.0119\n",
            "\n",
            "Epoch 00057: loss did not improve from 0.00662\n",
            "Epoch 58/100\n",
            "796/796 [==============================] - 2s 2ms/step - loss: 0.0128 - mse: 0.0128\n",
            "\n",
            "Epoch 00058: loss did not improve from 0.00662\n",
            "Epoch 59/100\n",
            "796/796 [==============================] - 2s 2ms/step - loss: 0.0141 - mse: 0.0141\n",
            "\n",
            "Epoch 00059: loss did not improve from 0.00662\n",
            "Epoch 60/100\n",
            "796/796 [==============================] - 2s 2ms/step - loss: 0.0150 - mse: 0.0150\n",
            "\n",
            "Epoch 00060: loss did not improve from 0.00662\n",
            "Epoch 61/100\n",
            "796/796 [==============================] - 2s 2ms/step - loss: 0.0142 - mse: 0.0142\n",
            "\n",
            "Epoch 00061: loss did not improve from 0.00662\n",
            "Epoch 62/100\n",
            "796/796 [==============================] - 2s 2ms/step - loss: 0.0165 - mse: 0.0165\n",
            "\n",
            "Epoch 00062: loss did not improve from 0.00662\n",
            "Epoch 63/100\n",
            "796/796 [==============================] - 2s 2ms/step - loss: 0.0144 - mse: 0.0144\n",
            "\n",
            "Epoch 00063: loss did not improve from 0.00662\n",
            "Epoch 64/100\n",
            "796/796 [==============================] - 2s 2ms/step - loss: 0.0159 - mse: 0.0159\n",
            "\n",
            "Epoch 00064: loss did not improve from 0.00662\n",
            "Epoch 65/100\n",
            "796/796 [==============================] - 2s 2ms/step - loss: 0.0081 - mse: 0.0081\n",
            "\n",
            "Epoch 00065: loss did not improve from 0.00662\n",
            "Epoch 66/100\n",
            "796/796 [==============================] - 2s 2ms/step - loss: 0.0071 - mse: 0.0071\n",
            "\n",
            "Epoch 00066: loss improved from 0.00662 to 0.00641, saving model to poids.hdf5\n",
            "Epoch 67/100\n",
            "796/796 [==============================] - 2s 2ms/step - loss: 0.0058 - mse: 0.0058\n",
            "\n",
            "Epoch 00067: loss improved from 0.00641 to 0.00389, saving model to poids.hdf5\n",
            "Epoch 68/100\n",
            "796/796 [==============================] - 2s 2ms/step - loss: 0.0058 - mse: 0.0058\n",
            "\n",
            "Epoch 00068: loss did not improve from 0.00389\n",
            "Epoch 69/100\n",
            "796/796 [==============================] - 2s 2ms/step - loss: 0.0098 - mse: 0.0098\n",
            "\n",
            "Epoch 00069: loss did not improve from 0.00389\n",
            "Epoch 70/100\n",
            "796/796 [==============================] - 2s 2ms/step - loss: 0.0041 - mse: 0.0041\n",
            "\n",
            "Epoch 00070: loss did not improve from 0.00389\n",
            "Epoch 71/100\n",
            "796/796 [==============================] - 2s 2ms/step - loss: 0.3093 - mse: 0.3093\n",
            "\n",
            "Epoch 00071: loss did not improve from 0.00389\n",
            "Epoch 72/100\n",
            "796/796 [==============================] - 2s 2ms/step - loss: 0.5667 - mse: 0.5667\n",
            "\n",
            "Epoch 00072: loss did not improve from 0.00389\n",
            "Epoch 73/100\n",
            "796/796 [==============================] - 2s 2ms/step - loss: 0.7276 - mse: 0.7276\n",
            "\n",
            "Epoch 00073: loss did not improve from 0.00389\n",
            "Epoch 74/100\n",
            "796/796 [==============================] - 2s 2ms/step - loss: 0.4913 - mse: 0.4913\n",
            "\n",
            "Epoch 00074: loss did not improve from 0.00389\n",
            "Epoch 75/100\n",
            "796/796 [==============================] - 2s 2ms/step - loss: 0.3209 - mse: 0.3209\n",
            "\n",
            "Epoch 00075: loss did not improve from 0.00389\n",
            "Epoch 76/100\n",
            "796/796 [==============================] - 2s 2ms/step - loss: 0.2369 - mse: 0.2369\n",
            "\n",
            "Epoch 00076: loss did not improve from 0.00389\n",
            "Epoch 77/100\n",
            "796/796 [==============================] - 2s 2ms/step - loss: 0.2089 - mse: 0.2089\n",
            "\n",
            "Epoch 00077: loss did not improve from 0.00389\n",
            "Epoch 78/100\n",
            "796/796 [==============================] - 2s 2ms/step - loss: 0.1994 - mse: 0.1994\n",
            "\n",
            "Epoch 00078: loss did not improve from 0.00389\n",
            "Epoch 79/100\n",
            "796/796 [==============================] - 2s 2ms/step - loss: 0.1954 - mse: 0.1954\n",
            "\n",
            "Epoch 00079: loss did not improve from 0.00389\n",
            "Epoch 80/100\n",
            "796/796 [==============================] - 2s 2ms/step - loss: 0.1946 - mse: 0.1946\n",
            "\n",
            "Epoch 00080: loss did not improve from 0.00389\n",
            "Epoch 81/100\n",
            "796/796 [==============================] - 2s 2ms/step - loss: 0.1953 - mse: 0.1953\n",
            "\n",
            "Epoch 00081: loss did not improve from 0.00389\n",
            "Epoch 82/100\n",
            "796/796 [==============================] - 2s 2ms/step - loss: 0.1980 - mse: 0.1980\n",
            "\n",
            "Epoch 00082: loss did not improve from 0.00389\n",
            "Epoch 83/100\n",
            "796/796 [==============================] - 2s 2ms/step - loss: 0.2117 - mse: 0.2117\n",
            "\n",
            "Epoch 00083: loss did not improve from 0.00389\n",
            "Epoch 84/100\n",
            "796/796 [==============================] - 2s 2ms/step - loss: 0.2337 - mse: 0.2337\n",
            "\n",
            "Epoch 00084: loss did not improve from 0.00389\n",
            "Epoch 85/100\n",
            "796/796 [==============================] - 2s 2ms/step - loss: 0.2369 - mse: 0.2369\n",
            "\n",
            "Epoch 00085: loss did not improve from 0.00389\n",
            "Epoch 86/100\n",
            "796/796 [==============================] - 2s 2ms/step - loss: 0.3181 - mse: 0.3181\n",
            "\n",
            "Epoch 00086: loss did not improve from 0.00389\n",
            "Epoch 87/100\n",
            "796/796 [==============================] - 2s 2ms/step - loss: 0.2420 - mse: 0.2420\n",
            "\n",
            "Epoch 00087: loss did not improve from 0.00389\n",
            "Epoch 88/100\n",
            "796/796 [==============================] - 2s 2ms/step - loss: 0.4517 - mse: 0.4517\n",
            "\n",
            "Epoch 00088: loss did not improve from 0.00389\n",
            "Epoch 89/100\n",
            "796/796 [==============================] - 2s 2ms/step - loss: 0.3516 - mse: 0.3516\n",
            "\n",
            "Epoch 00089: loss did not improve from 0.00389\n",
            "Epoch 90/100\n",
            "796/796 [==============================] - 2s 2ms/step - loss: 0.6275 - mse: 0.6275\n",
            "\n",
            "Epoch 00090: loss did not improve from 0.00389\n",
            "Epoch 91/100\n",
            "796/796 [==============================] - 2s 2ms/step - loss: 1.4484 - mse: 1.4484\n",
            "\n",
            "Epoch 00091: loss did not improve from 0.00389\n",
            "Epoch 92/100\n",
            "796/796 [==============================] - 2s 2ms/step - loss: 0.3344 - mse: 0.3344\n",
            "\n",
            "Epoch 00092: loss did not improve from 0.00389\n",
            "Epoch 93/100\n",
            "796/796 [==============================] - 2s 2ms/step - loss: 4.1285 - mse: 4.1285\n",
            "\n",
            "Epoch 00093: loss did not improve from 0.00389\n",
            "Epoch 94/100\n",
            "796/796 [==============================] - 2s 2ms/step - loss: 0.3343 - mse: 0.3343\n",
            "\n",
            "Epoch 00094: loss did not improve from 0.00389\n",
            "Epoch 95/100\n",
            "796/796 [==============================] - 2s 2ms/step - loss: 3.2610 - mse: 3.2610\n",
            "\n",
            "Epoch 00095: loss did not improve from 0.00389\n",
            "Epoch 96/100\n",
            "796/796 [==============================] - 2s 2ms/step - loss: 22.2342 - mse: 22.2342\n",
            "\n",
            "Epoch 00096: loss did not improve from 0.00389\n",
            "Epoch 97/100\n",
            "796/796 [==============================] - 2s 2ms/step - loss: 0.2994 - mse: 0.2994\n",
            "\n",
            "Epoch 00097: loss did not improve from 0.00389\n",
            "Epoch 98/100\n",
            "796/796 [==============================] - 2s 2ms/step - loss: 24.0987 - mse: 24.0987\n",
            "\n",
            "Epoch 00098: loss did not improve from 0.00389\n",
            "Epoch 99/100\n",
            "796/796 [==============================] - 2s 3ms/step - loss: 6.9161 - mse: 6.9161\n",
            "\n",
            "Epoch 00099: loss did not improve from 0.00389\n",
            "Epoch 100/100\n",
            "796/796 [==============================] - 2s 3ms/step - loss: 44.4757 - mse: 44.4757\n",
            "\n",
            "Epoch 00100: loss did not improve from 0.00389\n"
          ],
          "name": "stdout"
        }
      ]
    },
    {
      "cell_type": "code",
      "metadata": {
        "id": "Kd_Dp9BFUuxq",
        "outputId": "5ffb5970-ddff-4c77-f201-ea238e00065c",
        "colab": {
          "base_uri": "https://localhost:8080/",
          "height": 411
        }
      },
      "source": [
        "# Construit un vecteur avec les valeurs du taux d'apprentissage à chaque période \n",
        "taux = 1e-8*(10**(np.arange(100)/10))\n",
        "\n",
        "# Affiche l'erreur en fonction du taux d'apprentissage\n",
        "plt.figure(figsize=(10, 6))\n",
        "plt.semilogx(taux,historique.history[\"loss\"])\n",
        "plt.axis([ taux[30], taux[99], 0, 1])\n",
        "plt.title(\"Evolution de l'erreur en fonction du taux d'apprentissage\")"
      ],
      "execution_count": 242,
      "outputs": [
        {
          "output_type": "execute_result",
          "data": {
            "text/plain": [
              "Text(0.5, 1.0, \"Evolution de l'erreur en fonction du taux d'apprentissage\")"
            ]
          },
          "metadata": {
            "tags": []
          },
          "execution_count": 242
        },
        {
          "output_type": "display_data",
          "data": {
            "image/png": "[encoded data removed]",
            "text/plain": [
              "<Figure size 720x432 with 1 Axes>"
            ]
          },
          "metadata": {
            "tags": [],
            "needs_background": "light"
          }
        }
      ]
    },
    {
      "cell_type": "code",
      "metadata": {
        "id": "w_SUEYNVUyZd"
      },
      "source": [
        "# Chargement des poids sauvegardés\n",
        "model.load_weights(\"poids.hdf5\")"
      ],
      "execution_count": 243,
      "outputs": []
    },
    {
      "cell_type": "code",
      "metadata": {
        "id": "BaAq0IimUzuu",
        "outputId": "d9797ba2-5d0b-4c79-d3d7-852ffad480f4",
        "colab": {
          "base_uri": "https://localhost:8080/"
        }
      },
      "source": [
        "max_periodes = 1000\n",
        "\n",
        "# Classe permettant d'arrêter l'entrainement si la variation\n",
        "# devient plus petite qu'une valeur à choisir sur un nombre\n",
        "# de périodes à choisir\n",
        "class StopTrain(keras.callbacks.Callback):\n",
        "    def __init__(self, delta=0.01,periodes=100, term=\"loss\", logs={}):\n",
        "      self.n_periodes = 0\n",
        "      self.periodes = periodes\n",
        "      self.loss_1 = 100\n",
        "      self.delta = delta\n",
        "      self.term = term\n",
        "    def on_epoch_end(self, epoch, logs={}):\n",
        "      diff_loss = abs(self.loss_1 - logs[self.term])\n",
        "      self.loss_1 = logs[self.term]\n",
        "      if (diff_loss < self.delta):\n",
        "        self.n_periodes = self.n_periodes + 1\n",
        "      else:\n",
        "        self.n_periodes = 0\n",
        "      if (self.n_periodes == self.periodes):\n",
        "        print(\"Arrêt de l'entrainement...\")\n",
        "        self.model.stop_training = True\n",
        "\n",
        " \n",
        "# Définition des paramètres liés à l'évolution du taux d'apprentissage\n",
        "lr_schedule = tf.keras.optimizers.schedules.InverseTimeDecay(\n",
        "    initial_learning_rate=0.001,\n",
        "    decay_steps=10,\n",
        "    decay_rate=0.01)\n",
        "\n",
        "# Définition de l'optimiseur à utiliser\n",
        "optimiseur=tf.keras.optimizers.Adam(learning_rate=lr_schedule)\n",
        "\n",
        "\n",
        "# Utilisation de la méthode ModelCheckPoint\n",
        "CheckPoint = tf.keras.callbacks.ModelCheckpoint(\"poids_train.hdf5\", monitor='loss', verbose=1, save_best_only=True, save_weights_only = True, mode='auto', save_freq='epoch')\n",
        "\n",
        "# Compile le modèle\n",
        "model.compile(loss=\"mse\", optimizer=optimiseur, metrics=\"mse\")\n",
        "\n",
        "# Entraine le modèle, avec une réduction des calculs du gradient\n",
        "historique = model.fit(x=dataset,validation_data=dataset_val, epochs=max_periodes,verbose=1, callbacks=[CheckPoint,StopTrain(delta=0.005,periodes = 10, term=\"loss\")],batch_size=batch_size)\n",
        "\n",
        "# Entraine le modèle sans réduction de calculs\n",
        "#historique = model.fit(dataset,validation_data=dataset_val, epochs=max_periodes,verbose=1, callbacks=[CheckPoint,StopTrain(delta=0.1,periodes = 10, term=\"val_My_MSE\")])\n"
      ],
      "execution_count": 244,
      "outputs": [
        {
          "output_type": "stream",
          "text": [
            "Epoch 1/1000\n",
            "796/796 [==============================] - 3s 3ms/step - loss: 0.0128 - mse: 0.0128 - val_loss: 0.0056 - val_mse: 0.0056\n",
            "\n",
            "Epoch 00001: loss improved from inf to 0.00931, saving model to poids_train.hdf5\n",
            "Epoch 2/1000\n",
            "796/796 [==============================] - 2s 2ms/step - loss: 0.0065 - mse: 0.0065 - val_loss: 0.0052 - val_mse: 0.0052\n",
            "\n",
            "Epoch 00002: loss improved from 0.00931 to 0.00648, saving model to poids_train.hdf5\n",
            "Epoch 3/1000\n",
            "796/796 [==============================] - 2s 2ms/step - loss: 0.0059 - mse: 0.0059 - val_loss: 0.0051 - val_mse: 0.0051\n",
            "\n",
            "Epoch 00003: loss improved from 0.00648 to 0.00598, saving model to poids_train.hdf5\n",
            "Epoch 4/1000\n",
            "796/796 [==============================] - 2s 2ms/step - loss: 0.0056 - mse: 0.0056 - val_loss: 0.0050 - val_mse: 0.0050\n",
            "\n",
            "Epoch 00004: loss improved from 0.00598 to 0.00573, saving model to poids_train.hdf5\n",
            "Epoch 5/1000\n",
            "796/796 [==============================] - 2s 2ms/step - loss: 0.0054 - mse: 0.0054 - val_loss: 0.0050 - val_mse: 0.0050\n",
            "\n",
            "Epoch 00005: loss improved from 0.00573 to 0.00556, saving model to poids_train.hdf5\n",
            "Epoch 6/1000\n",
            "796/796 [==============================] - 2s 2ms/step - loss: 0.0053 - mse: 0.0053 - val_loss: 0.0050 - val_mse: 0.0050\n",
            "\n",
            "Epoch 00006: loss improved from 0.00556 to 0.00543, saving model to poids_train.hdf5\n",
            "Epoch 7/1000\n",
            "796/796 [==============================] - 2s 3ms/step - loss: 0.0052 - mse: 0.0052 - val_loss: 0.0049 - val_mse: 0.0049\n",
            "\n",
            "Epoch 00007: loss improved from 0.00543 to 0.00534, saving model to poids_train.hdf5\n",
            "Epoch 8/1000\n",
            "796/796 [==============================] - 2s 2ms/step - loss: 0.0051 - mse: 0.0051 - val_loss: 0.0049 - val_mse: 0.0049\n",
            "\n",
            "Epoch 00008: loss improved from 0.00534 to 0.00527, saving model to poids_train.hdf5\n",
            "Epoch 9/1000\n",
            "796/796 [==============================] - 2s 2ms/step - loss: 0.0051 - mse: 0.0051 - val_loss: 0.0049 - val_mse: 0.0049\n",
            "\n",
            "Epoch 00009: loss improved from 0.00527 to 0.00520, saving model to poids_train.hdf5\n",
            "Epoch 10/1000\n",
            "796/796 [==============================] - 2s 2ms/step - loss: 0.0050 - mse: 0.0050 - val_loss: 0.0049 - val_mse: 0.0049\n",
            "\n",
            "Epoch 00010: loss improved from 0.00520 to 0.00515, saving model to poids_train.hdf5\n",
            "Epoch 11/1000\n",
            "796/796 [==============================] - 2s 2ms/step - loss: 0.0050 - mse: 0.0050 - val_loss: 0.0048 - val_mse: 0.0048\n",
            "\n",
            "Epoch 00011: loss improved from 0.00515 to 0.00511, saving model to poids_train.hdf5\n",
            "Arrêt de l'entrainement...\n"
          ],
          "name": "stdout"
        }
      ]
    },
    {
      "cell_type": "code",
      "metadata": {
        "id": "TtNcatX5VUqA",
        "outputId": "bb62c0e6-d481-4fc7-db3c-2bb615592a95",
        "colab": {
          "base_uri": "https://localhost:8080/",
          "height": 407
        }
      },
      "source": [
        "erreur_entrainement = historique.history[\"loss\"]\n",
        "erreur_validation = historique.history[\"val_loss\"]\n",
        "\n",
        "# Affiche l'erreur en fonction de la période\n",
        "plt.figure(figsize=(10, 6))\n",
        "plt.plot(np.arange(0,len(erreur_entrainement)),erreur_entrainement, label=\"Erreurs sur les entrainements\")\n",
        "plt.plot(np.arange(0,len(erreur_entrainement)),erreur_validation, label =\"Erreurs sur les validations\")\n",
        "plt.legend()\n",
        "\n",
        "plt.title(\"Evolution de l'erreur en fonction de la période\")"
      ],
      "execution_count": 245,
      "outputs": [
        {
          "output_type": "execute_result",
          "data": {
            "text/plain": [
              "Text(0.5, 1.0, \"Evolution de l'erreur en fonction de la période\")"
            ]
          },
          "metadata": {
            "tags": []
          },
          "execution_count": 245
        },
        {
          "output_type": "display_data",
          "data": {
            "image/png": "[encoded data removed]",
            "text/plain": [
              "<Figure size 720x432 with 1 Axes>"
            ]
          },
          "metadata": {
            "tags": [],
            "needs_background": "light"
          }
        }
      ]
    },
    {
      "cell_type": "code",
      "metadata": {
        "id": "jlm8bna9VWfG",
        "outputId": "26962d3a-b78f-4dfb-9ae9-f38b6e77ffb6",
        "colab": {
          "base_uri": "https://localhost:8080/"
        }
      },
      "source": [
        "# Evaluation du modèle\n",
        "# Avec le modèle type encodeur/décodeur :\n",
        "# 56/56 [==============================] - 7s 113ms/step - loss: 1.1795e-04 - mse: 2.3664e-04 - My_MSE: 2712.2415\n",
        "# 14/14 [==============================] - 2s 113ms/step - loss: 0.3602 - mse: 1.9360 - My_MSE: 9650.2637\n",
        "model.evaluate(dataset)\n",
        "model.evaluate(dataset_val)\n"
      ],
      "execution_count": 246,
      "outputs": [
        {
          "output_type": "stream",
          "text": [
            "796/796 [==============================] - 1s 1ms/step - loss: 0.0048 - mse: 0.0048\n",
            "188/188 [==============================] - 0s 1ms/step - loss: 0.0048 - mse: 0.0048\n"
          ],
          "name": "stdout"
        },
        {
          "output_type": "execute_result",
          "data": {
            "text/plain": [
              "[0.004832226317375898, 0.004832226317375898]"
            ]
          },
          "metadata": {
            "tags": []
          },
          "execution_count": 246
        }
      ]
    },
    {
      "cell_type": "code",
      "metadata": {
        "id": "KOSyAyq9VXzR",
        "outputId": "923fe9d1-43cc-42bd-d74c-dec79fe7bab9",
        "colab": {
          "base_uri": "https://localhost:8080/"
        }
      },
      "source": [
        "# Calcul des prédictions\n",
        "pred_ent = model.predict(x_train, verbose=1)\n",
        "pred_val = model.predict(x_val, verbose=1)"
      ],
      "execution_count": 301,
      "outputs": [
        {
          "output_type": "stream",
          "text": [
            "25/25 [==============================] - 0s 1ms/step\n",
            "6/6 [==============================] - 0s 3ms/step\n"
          ],
          "name": "stdout"
        }
      ]
    },
    {
      "cell_type": "code",
      "metadata": {
        "id": "D2nh2DMIVvpG"
      },
      "source": [
        "pred_ent[:,15,0]"
      ],
      "execution_count": null,
      "outputs": []
    },
    {
      "cell_type": "code",
      "metadata": {
        "id": "JWywx8IGVb-O"
      },
      "source": [
        "import plotly.graph_objects as go\n",
        "\n",
        "fig = go.Figure()\n",
        "\n",
        "# Courbe originale\n",
        "fig.add_trace(go.Scatter(x=t[0:temps_separation],y=serie_entrainement,line=dict(color='blue', width=1),name=\"Prix BTC\"))\n",
        "fig.add_trace(go.Scatter(x=t[taille_fenetre+horizon-1:temps_separation],y=pred_ent[:,15,0],line=dict(color='green', width=1),name=\"predictions\"))\n",
        "\n",
        "fig.add_trace(go.Scatter(x=t[temps_separation:],y=pred_val[:,15,0],line=dict(color='green', width=1),name=\"predictions\"))\n",
        "\n"
      ],
      "execution_count": null,
      "outputs": []
    },
    {
      "cell_type": "code",
      "metadata": {
        "id": "o9fAn4HXuub7"
      },
      "source": [
        "predictions = []\n",
        "\n",
        "time = np.linspace(0,len(x_train),len(x_train)+1)\n",
        "\n",
        "for t in range(0,600):\n",
        "  data_to_predict = tf.expand_dims(x_train[t],0)\n",
        "  predictions.append(model.predict(data_to_predict)[0,15,0])"
      ],
      "execution_count": 295,
      "outputs": []
    },
    {
      "cell_type": "code",
      "metadata": {
        "id": "WKS0ZpXIv6Tp",
        "outputId": "0d60163c-97a1-4629-ddda-c78ca29afd7d",
        "colab": {
          "base_uri": "https://localhost:8080/",
          "height": 542
        }
      },
      "source": [
        "import plotly.graph_objects as go\n",
        "\n",
        "fig = go.Figure()\n",
        "\n",
        "# Courbe originale\n",
        "fig.add_trace(go.Scatter(x=time,y=serie_entrainement,line=dict(color='blue', width=1),name=\"Prix BTC\"))\n",
        "fig.add_trace(go.Scatter(x=time[taille_fenetre:],y=predictions,line=dict(color='green', width=1),name=\"predictions\"))\n"
      ],
      "execution_count": 299,
      "outputs": [
        {
          "output_type": "display_data",
          "data": {
            "text/html": [
              "<html>\n",
              "<head><meta charset=\"utf-8\" /></head>\n",
              "<body>\n",
              "    <div>\n",
              "            <script src=\"https://cdnjs.cloudflare.com/ajax/libs/mathjax/2.7.5/MathJax.js?config=TeX-AMS-MML_SVG\"></script><script type=\"text/javascript\">if (window.MathJax) {MathJax.Hub.Config({SVG: {font: \"STIX-Web\"}});}</script>\n",
              "                <script type=\"text/javascript\">window.PlotlyConfig = {MathJaxConfig: 'local'};</script>\n",
              "        <script src=\"https://cdn.plot.ly/plotly-latest.min.js\"></script>    \n",
              "            <div id=\"370e0cdb-99bd-4b5d-8b7d-bf18438af128\" class=\"plotly-graph-div\" style=\"height:525px; width:100%;\"></div>\n",
              "            <script type=\"text/javascript\">\n",
              "                \n",
              "                    window.PLOTLYENV=window.PLOTLYENV || {};\n",
              "                    \n",
              "                if (document.getElementById(\"370e0cdb-99bd-4b5d-8b7d-bf18438af128\")) {\n",
              "                    Plotly.newPlot(\n",
              "                        '370e0cdb-99bd-4b5d-8b7d-bf18438af128',\n",
              "                        [{\"line\": {\"color\": \"blue\", \"width\": 1}, \"name\": \"Prix BTC\", \"type\": \"scatter\", \"x\": [0.0, 1.0, 2.0, 3.0, 4.0, 5.0, 6.0, 7.0, 8.0, 9.0, 10.0, 11.0, 12.0, 13.0, 14.0, 15.0, 16.0, 17.0, 18.0, 19.0, 20.0, 21.0, 22.0, 23.0, 24.0, 25.0, 26.0, 27.0, 28.0, 29.0, 30.0, 31.0, 32.0, 33.0, 34.0, 35.0, 36.0, 37.0, 38.0, 39.0, 40.0, 41.0, 42.0, 43.0, 44.0, 45.0, 46.0, 47.0, 48.0, 49.0, 50.0, 51.0, 52.0, 53.0, 54.0, 55.0, 56.0, 57.0, 58.0, 59.0, 60.0, 61.0, 62.0, 63.0, 64.0, 65.0, 66.0, 67.0, 68.0, 69.0, 70.0, 71.0, 72.0, 73.0, 74.0, 75.0, 76.0, 77.0, 78.0, 79.0, 80.0, 81.0, 82.0, 83.0, 84.0, 85.0, 86.0, 87.0, 88.0, 89.0, 90.0, 91.0, 92.0, 93.0, 94.0, 95.0, 96.0, 97.0, 98.0, 99.0, 100.0, 101.0, 102.0, 103.0, 104.0, 105.0, 106.0, 107.0, 108.0, 109.0, 110.0, 111.0, 112.0, 113.0, 114.0, 115.0, 116.0, 117.0, 118.0, 119.0, 120.0, 121.0, 122.0, 123.0, 124.0, 125.0, 126.0, 127.0, 128.0, 129.0, 130.0, 131.0, 132.0, 133.0, 134.0, 135.0, 136.0, 137.0, 138.0, 139.0, 140.0, 141.0, 142.0, 143.0, 144.0, 145.0, 146.0, 147.0, 148.0, 149.0, 150.0, 151.0, 152.0, 153.0, 154.0, 155.0, 156.0, 157.0, 158.0, 159.0, 160.0, 161.0, 162.0, 163.0, 164.0, 165.0, 166.0, 167.0, 168.0, 169.0, 170.0, 171.0, 172.0, 173.0, 174.0, 175.0, 176.0, 177.0, 178.0, 179.0, 180.0, 181.0, 182.0, 183.0, 184.0, 185.0, 186.0, 187.0, 188.0, 189.0, 190.0, 191.0, 192.0, 193.0, 194.0, 195.0, 196.0, 197.0, 198.0, 199.0, 200.0, 201.0, 202.0, 203.0, 204.0, 205.0, 206.0, 207.0, 208.0, 209.0, 210.0, 211.0, 212.0, 213.0, 214.0, 215.0, 216.0, 217.0, 218.0, 219.0, 220.0, 221.0, 222.0, 223.0, 224.0, 225.0, 226.0, 227.0, 228.0, 229.0, 230.0, 231.0, 232.0, 233.0, 234.0, 235.0, 236.0, 237.0, 238.0, 239.0, 240.0, 241.0, 242.0, 243.0, 244.0, 245.0, 246.0, 247.0, 248.0, 249.0, 250.0, 251.0, 252.0, 253.0, 254.0, 255.0, 256.0, 257.0, 258.0, 259.0, 260.0, 261.0, 262.0, 263.0, 264.0, 265.0, 266.0, 267.0, 268.0, 269.0, 270.0, 271.0, 272.0, 273.0, 274.0, 275.0, 276.0, 277.0, 278.0, 279.0, 280.0, 281.0, 282.0, 283.0, 284.0, 285.0, 286.0, 287.0, 288.0, 289.0, 290.0, 291.0, 292.0, 293.0, 294.0, 295.0, 296.0, 297.0, 298.0, 299.0, 300.0, 301.0, 302.0, 303.0, 304.0, 305.0, 306.0, 307.0, 308.0, 309.0, 310.0, 311.0, 312.0, 313.0, 314.0, 315.0, 316.0, 317.0, 318.0, 319.0, 320.0, 321.0, 322.0, 323.0, 324.0, 325.0, 326.0, 327.0, 328.0, 329.0, 330.0, 331.0, 332.0, 333.0, 334.0, 335.0, 336.0, 337.0, 338.0, 339.0, 340.0, 341.0, 342.0, 343.0, 344.0, 345.0, 346.0, 347.0, 348.0, 349.0, 350.0, 351.0, 352.0, 353.0, 354.0, 355.0, 356.0, 357.0, 358.0, 359.0, 360.0, 361.0, 362.0, 363.0, 364.0, 365.0, 366.0, 367.0, 368.0, 369.0, 370.0, 371.0, 372.0, 373.0, 374.0, 375.0, 376.0, 377.0, 378.0, 379.0, 380.0, 381.0, 382.0, 383.0, 384.0, 385.0, 386.0, 387.0, 388.0, 389.0, 390.0, 391.0, 392.0, 393.0, 394.0, 395.0, 396.0, 397.0, 398.0, 399.0, 400.0, 401.0, 402.0, 403.0, 404.0, 405.0, 406.0, 407.0, 408.0, 409.0, 410.0, 411.0, 412.0, 413.0, 414.0, 415.0, 416.0, 417.0, 418.0, 419.0, 420.0, 421.0, 422.0, 423.0, 424.0, 425.0, 426.0, 427.0, 428.0, 429.0, 430.0, 431.0, 432.0, 433.0, 434.0, 435.0, 436.0, 437.0, 438.0, 439.0, 440.0, 441.0, 442.0, 443.0, 444.0, 445.0, 446.0, 447.0, 448.0, 449.0, 450.0, 451.0, 452.0, 453.0, 454.0, 455.0, 456.0, 457.0, 458.0, 459.0, 460.0, 461.0, 462.0, 463.0, 464.0, 465.0, 466.0, 467.0, 468.0, 469.0, 470.0, 471.0, 472.0, 473.0, 474.0, 475.0, 476.0, 477.0, 478.0, 479.0, 480.0, 481.0, 482.0, 483.0, 484.0, 485.0, 486.0, 487.0, 488.0, 489.0, 490.0, 491.0, 492.0, 493.0, 494.0, 495.0, 496.0, 497.0, 498.0, 499.0, 500.0, 501.0, 502.0, 503.0, 504.0, 505.0, 506.0, 507.0, 508.0, 509.0, 510.0, 511.0, 512.0, 513.0, 514.0, 515.0, 516.0, 517.0, 518.0, 519.0, 520.0, 521.0, 522.0, 523.0, 524.0, 525.0, 526.0, 527.0, 528.0, 529.0, 530.0, 531.0, 532.0, 533.0, 534.0, 535.0, 536.0, 537.0, 538.0, 539.0, 540.0, 541.0, 542.0, 543.0, 544.0, 545.0, 546.0, 547.0, 548.0, 549.0, 550.0, 551.0, 552.0, 553.0, 554.0, 555.0, 556.0, 557.0, 558.0, 559.0, 560.0, 561.0, 562.0, 563.0, 564.0, 565.0, 566.0, 567.0, 568.0, 569.0, 570.0, 571.0, 572.0, 573.0, 574.0, 575.0, 576.0, 577.0, 578.0, 579.0, 580.0, 581.0, 582.0, 583.0, 584.0, 585.0, 586.0, 587.0, 588.0, 589.0, 590.0, 591.0, 592.0, 593.0, 594.0, 595.0, 596.0, 597.0, 598.0, 599.0, 600.0, 601.0, 602.0, 603.0, 604.0, 605.0, 606.0, 607.0, 608.0, 609.0, 610.0, 611.0, 612.0, 613.0, 614.0, 615.0, 616.0, 617.0, 618.0, 619.0, 620.0, 621.0, 622.0, 623.0, 624.0, 625.0, 626.0, 627.0, 628.0, 629.0, 630.0, 631.0, 632.0, 633.0, 634.0, 635.0, 636.0, 637.0, 638.0, 639.0, 640.0, 641.0, 642.0, 643.0, 644.0, 645.0, 646.0, 647.0, 648.0, 649.0, 650.0, 651.0, 652.0, 653.0, 654.0, 655.0, 656.0, 657.0, 658.0, 659.0, 660.0, 661.0, 662.0, 663.0, 664.0, 665.0, 666.0, 667.0, 668.0, 669.0, 670.0, 671.0, 672.0, 673.0, 674.0, 675.0, 676.0, 677.0, 678.0, 679.0, 680.0, 681.0, 682.0, 683.0, 684.0, 685.0, 686.0, 687.0, 688.0, 689.0, 690.0, 691.0, 692.0, 693.0, 694.0, 695.0, 696.0, 697.0, 698.0, 699.0, 700.0, 701.0, 702.0, 703.0, 704.0, 705.0, 706.0, 707.0, 708.0, 709.0, 710.0, 711.0, 712.0, 713.0, 714.0, 715.0, 716.0, 717.0, 718.0, 719.0, 720.0, 721.0, 722.0, 723.0, 724.0, 725.0, 726.0, 727.0, 728.0, 729.0, 730.0, 731.0, 732.0, 733.0, 734.0, 735.0, 736.0, 737.0, 738.0, 739.0, 740.0, 741.0, 742.0, 743.0, 744.0, 745.0, 746.0, 747.0, 748.0, 749.0, 750.0, 751.0, 752.0, 753.0, 754.0, 755.0, 756.0, 757.0, 758.0, 759.0, 760.0, 761.0, 762.0, 763.0, 764.0, 765.0, 766.0, 767.0, 768.0, 769.0, 770.0, 771.0, 772.0, 773.0, 774.0, 775.0, 776.0, 777.0, 778.0, 779.0, 780.0, 781.0, 782.0, 783.0, 784.0, 785.0, 786.0, 787.0, 788.0, 789.0, 790.0, 791.0, 792.0, 793.0, 794.0, 795.0, 796.0], \"y\": [-0.025775072251653798, -0.025775072251653798, -0.025775072251653798, -0.025775072251653798, -0.025775072251653798, -0.025775072251653798, -0.025775072251653798, -0.025775072251653798, -0.025775072251653798, -0.025775072251653798, -0.025775072251653798, -0.025775072251653798, -0.025775072251653798, -0.025775072251653798, -0.025775072251653798, -0.025775072251653798, -0.025775072251653798, 0.1174270287303203, 0.2591954380947519, 0.3981108178658407, 0.5327823936474023, 0.6618618785917211, 0.7840569719972542, 0.8981442973917366, 1.0029816505689146, 1.0975194349556603, 1.180811169822383, 1.2520229661320497, 1.3104418751587739, 1.3554830262923954, 1.3866954825677305, 1.4037667552948925, 1.4065259325917103, 1.394945390496422, 1.3691410695295556, 1.3293713139361532, 1.2760342852294535, 1.2096639759307748, 1.1309248634146993, 1.04060525738348, 0.9396094075735295, 0.8289484507090031, 0.7097302873385521, 0.5831484899049746, 0.450470353096475, 0.31302420611541165, 0.17218611388987576, 0.029366100371120838, -0.11400596815540723, -0.25649469841386485, -0.3966735408161873, -0.5331390716002169, -0.6645250434397838, -0.7895160638567233, -0.9068607644911374, -1.0153843293835596, -1.1140002568400544, -1.201721237124375, -1.2776690370733637, -1.3410832926741247, -1.391329121574626, -1.427903479313807, -1.4504401956347506, -1.4587136404590244, -1.4526409828196842, -1.432283020137257, -1.3978435695362672, -1.3496674272962443, -1.2882369168665058, -1.2141670600048362, -1.1281994193850156, -1.0311946743189502, -0.9241240039227934, -0.8080593639959295, -0.6841627549574525, -0.5536745882859815, -0.41790126793412985, -0.2782021110483606, -0.13597573893961465, 0.00735392544623282, 0.1503519133694352, 0.2915865767242379, 0.42964392122166245, 0.5631417628281727, 0.6907435657306847, 0.8111718232868367, 0.9232208479949122, 1.0257688424345088, 1.1177891303277256, 1.1983604352792319, 1.2666761042879104, 1.32205218368735, 1.363934266661567, 1.3919030437809268, 1.4056785009881356, 1.4051227230054824, 1.390241274096546, 1.3611831423586467, 1.3182392481037664, 1.2618395312615267, 1.1925486469641777, 1.1110603124079614, 1.018190361588187, 0.9148685774416888, 0.8021293831705332, 0.6811014859423289, 0.5529965766509598, 0.4190971988719577, 0.2807439084644859, 0.13932185237371095, -0.0037530989978896132, -0.14704852701221513, -0.2891298056926387, -0.42857446472024024, -0.5639864307316541, -0.6940100043394115, -0.8173434329415182, -0.9327519434338286, -1.0390801043460554, -1.1352633936358318, -1.2203388563279383, -1.2934547452979697, -1.3538790486801315, -1.4010068185256108, -1.4343662273394349, -1.4536232918598047, -1.4585852167869864, -1.449202324985476, -1.425568554834891, -1.387920519750283, -1.336635139287633, -1.2722258655511183, -1.1953375426820942, -1.1067399508948759, -1.0073200996942733, -0.8980733474326162, -0.7800934361142978, -0.654561541216043, -0.5227344461524512, -0.3859319597801075, -0.2455237029120173, -0.10291539613136419, 0.04046521381357537, 0.18318264813312873, 0.3238080675305397, 0.46093357726389483, 0.5931863225181612, 0.7192422329691756, 0.8378392789336027, 0.9477901063887109, 1.047993924364373, 1.137447525694686, 1.2152553307931298, 1.2806383538963386, 1.3329420020094482, 1.3716426284725813, 1.3963527755363512, 1.406825053459472, 1.40295461729224, 1.3847802165491603, 1.3524838072617473, 1.3063887302954953, 1.246956474169101, 1.1747820547855146, 1.0905880583314023, 0.9952174069855306, 0.8896249198633754, 0.7748677536869745, 0.652094818884817, 0.522535277084281, 0.3874862351558547, 0.24829975901227413, 0.10636933717608178, -0.03688407036215338, -0.1800262583207797, -0.3216241349114386, -0.460260069475517, -0.5945460853289319, -0.7231377557212236, -0.8447476637872552, -0.9581582917349775, -1.0622342102270141, -1.155933445920049, -1.2383179133540083, -1.3085628067504442, -1.3659648576925736, -1.4099493760138333, -1.4400760034039308, -1.4560431221292027, -1.4576908747286494, -1.4450027644534569, -1.4181058204269357, -1.3772693258713564, -1.3229021221342454, -1.255548515505334, -1.1758828278037359, -1.0847026452930628, -0.9829208335140791, -0.8715563979797291, -0.7517242822322032, -0.6246242054004909, -0.491528651013068, -0.3537701273177109, -0.2127278266538666, -0.06981381743948459, 0.07354109298647134, 0.21590168312933108, 0.35584268629707944, 0.4919630598945568, 0.6229000121940914, 0.7473426461512186, 0.8640450836681605, 0.9718389389093215, 1.0696450157901327, 1.1564841125278886, 1.2314868250830244, 1.2939022513420524, 1.3431055088987836, 1.3786039911683208, 1.4000422991996964, 1.4072057998114973, 1.4000227744276057, 1.3785651370996377, 1.34304771452747, 1.2938260952860552, 1.2313930697913467, 1.1563736966472042, 1.0695190447673695, 0.9716986739242954, 0.8638919290070647, 0.7471781351473754, 0.6227257918767422, 0.49178087449934377, 0.3556543598033449, 0.21570910099904514, 0.07334618328761605, -0.07000910333608773, -0.21292153361102995, -0.3539603160060612, -0.4917134173269645, -0.6248016995212954, -0.7518927271480462, -0.8717141072763599, -0.9830662282586814, -1.0848342698420033, -1.175999364375982, -1.255648797375638, -1.3229851453140076, -1.3773342591602236, -1.4181520137345023, -1.445029755307752, -1.4576983929062526, -1.4560310923606299, -1.4400445461272084, -1.4098988061687119, -1.3658956815674559, -1.3084757169135963, -1.238213781719796, -1.1558133150196228, -1.0620992827708353, -0.9580099185716829, -0.8445873303794117, -0.7229670672733725, -0.5943667507168175, -0.4600738841373929, -0.32143296287274004, -0.17983201353212264, -0.03668869753750036, 0.10656388202924849, 0.24849152817584624, 0.38767330870100136, 0.5227157820931351, 0.6522669482015033, 0.7750297840102512, 0.8897752289997505, 0.9953544900901193, 1.0907105429739379, 1.1748887146906555, 1.2470462414934926, 1.3064607063186602, 1.3525372713837758, 1.384814633505115, 1.4029696425110505, 1.4068205365136646, 1.3963287616480788, 1.371599358060875, 1.3328799082832212, 1.2805580585172438, 1.2151576376516906, 1.1373334128620134, 1.0478645343000437, 0.9476467345028432, 0.8376833606176439, 0.7190753292252415, 0.5930101043308043, 0.46074980887076467, 0.32361858875942506, 0.1829893559822161, 0.04027004345933628, -0.10311049070851361, -0.24571676849031587, -0.3861210634514531, -0.5229176946740309, -0.6547370999648486, -0.7802595474547579, -0.8982283483134575, -1.007462438298434, -1.1068682021757805, -1.1954504226307434, -1.2723222440511583, -1.3367140514297042, -1.387981175492369, -1.4256103469119559, -1.4492248349891992, -1.458588219354727, -1.4536067569308564, -1.4343303204559854, -1.4009518991753875, -1.353805666697331, -1.2933636353584996, -1.2202309305940895, -1.1351397326240136, -1.038941946109026, -0.9326006711657233, -0.8171805611297731, -0.6938371636022206, -0.5638053514927636, -0.42838695988452474, -0.2889377524959025, -0.14685384822693434, -0.0035577436830560006, 0.13951592838591753, 0.28093476214983626, 0.4192829194670834, 0.5531753047832776, 0.681271432245458, 0.8022888461988344, 0.9150159607045704, 1.0183241895336346, 1.1111792451952722, 1.1926514938779986, 1.2619252626328992, 1.3183070056188275, 1.3612322476517806, 1.3902712355419549, 1.4051332406391797, 1.4056694695110847, 1.3918745536132597, 1.3638866030373296, 1.3219858237988322, 1.2665917125081583, 1.1982588565105639, 1.1176713815428547, 1.0256361024949514, 0.9230744458486188, 0.8110132246632099, 0.6905743584661856, 0.5629636409694325, 0.42945866806525324, 0.2913960469629025, 0.15015801452352318, 0.007158598766243472, -0.13617053790818398, -0.2783944320432832, -0.4180891855018234, -0.5538562210585072, -0.6843362844881418, -0.8082230529650655, -0.9242762135310756, -1.0313338806946053, -1.1283242288402942, -1.214276222989147, -1.2883293404765022, -1.349742186217605, -1.397899915307634, -1.4323203886435822, -1.4526589999399604, -1.4587121258118594, -1.4504191643842863, -1.4278631420179002, -1.3912698820768141, -1.3410057440604788, -1.2775739557347088, -1.2016095749833247, -1.113873131820679, -1.0152430142191038, -0.9067066739818407, -0.7893507407053119, -0.6643501428064449, -0.5329563445316895, -0.39648481671486585, -0.2563018667224338, -0.11381095944037169, 0.02956133374762256, 0.1723796173164697, 0.31321404230040467, 0.4506546214633723, 0.5833253456204169, 0.709897959782171, 0.829105261200282, 0.9397537861781915, 1.0407357586311454, 1.131040180770453, 1.2097629548757571, 1.2761159348195183, 1.3294348167228685, 1.3691857897442257, 1.3949708804151901, 1.4065319370180216, 1.4037532141144355, 1.3866625313502823, 1.3554309949345424, 1.3103712845810966, 1.2519345230638406, 1.1807057597261086, 1.097398113162006, 1.0028456317111676, 0.8979949432452813, 0.7838957778459336, 0.6616904582575527, 0.5326024633335319, 0.39792417897448906, 0.25900395919217745, 0.11723262683935777, -0.02597045084418598, -0.16917157246250136, -0.31093705620310785, -0.4498475933805738, -0.5845124580811454, -0.7135834306462087, -0.83576829559732, -0.9498437788660837, -1.0546677948056553, -1.149190880370876, -1.2324667019918478, -1.3036615299496406, -1.3620625853998412, -1.4070851764763357, -1.4382785520310344, -1.4553304144038555, -1.4580700460426126, -1.4464700186701467, -1.4206464678870743, -1.3808579304609327, -1.3275027559424042, -1.2611151185226135, -1.1823596690595055, -1.0920248808153912, -0.9910151555259293, -0.8803417688319431, -0.7611127457253856, -0.6345217673731072, -0.5018362203796036, -0.36438450813553175, -0.2235427512865374, -0.08072101047286064, 0.06265083072695268, 0.20513738131297807, 0.3453121135193035, 0.4817716447336812, 0.6131497876956291, 0.7381312283070909, 0.855464694117982, 0.9639754816481386, 1.062577217126309, 1.1502827329015946, 1.2262139506363376, 1.2896106723332355, 1.3398381911838457, 1.3763936460412136, 1.3989110558977629, 1.4071649839649356, 1.4010727946710428, 1.380695480981015, 1.3462370537552033, 1.2980424992607682, 1.2365943252843699, 1.1625077304253244, 1.0765244449326525, 0.9795053047495029, 0.8724216331111343, 0.756345515981027, 0.6324390686842016, 0.5019428011966346, 0.3661631985736047, 0.2264596408575766, 0.08423079341913416, -0.05909939601367307, -0.20209595344450365, -0.34332724508921486, -0.4813793104152639, -0.6148700182424156, -0.742462904178603, -0.8628805508551535, -0.974917377002934, -1.0774517073294547, -1.1694570023573516, -1.250012135794856, -1.3183106165446483, -1.3736686630234256, -1.4155320489547858, -1.443481652097643, -1.457237650358154, -1.456662323275084, -1.4417614308310778, -1.4126841557856369, -1.369721610107145, -1.3133039204570491, -1.2439959219053507, -1.1624915029904914, -1.0696066587390078, -0.9662713211958002, -0.8535200492550161, -0.7324816710018606, -0.604367982262739, -0.4704616145100825, -0.3321031935843368, -0.19067791779570414, -0.04760168978120175, 0.09569305903974713, 0.23777170949037288, 0.37721181756471467, 0.5126173554620311, 0.6426326881509855, 0.7659561455349104, 0.8813530543381678, 0.9876680992427068, 1.0838368895192498, 1.1688966153518567, 1.2419956871683047, 1.3024022614705255, 1.3495115678073335, 1.3828519635342413, 1.4020896557421267, 1.4070320430803795, 1.397629644017312, 1.373976592232731, 1.3363096941829684, 1.2850060582737144, 1.220579319376582, 1.1436744964882828, 1.0550615350158146, 0.9556275983401443, 0.8463681858326748, 0.7283771662479526, 0.6028358262749571, 0.47100104388922165, 0.33419270491023384, 0.19378048874534257, 0.0511701556168891, -0.09221052743973276, -0.23492608090288064, -0.3755476843063044, -0.5126674811125485, -0.6449126737024982, -0.7709592673667441, -0.8895453256985082, -0.9994836046795689, -1.0996734389709304, -1.189111761406668, -1.2669031453674517, -1.3322687694928637, -1.3845542149807946, -1.4232360174099723, -1.447926907490953, -1.4583796882769324, -1.4544897100170329, -1.4362959178746662, -1.4039804620215612, -1.3578668740110678, -1.298416827688277, -1.2262255170656442, -1.1420156974392812, -1.0466304494042715, -0.94102473821327, -0.8262558529832726, -0.703472821470022, -0.5739049063857958, -0.4388492984316028, -0.2996581292570365, -0.1577249343696984, -0.014470701523019595, 0.12867035573863567, 0.27026515694706926, 0.40889610223336825, 0.5431752648644325, 0.6717582867019761, 0.7933578374673044, 0.9067565030622046, 1.0108189739123823, 1.1045034113078214, 1.1868718779440617, 1.2570997282372995, 1.3144838644006103, 1.3584497756242142, 1.3885572898858671, 1.4045049808061651, 1.4061331854288057, 1.3934256027127903, 1.366509456733005, 1.325654222955265, 1.2712689303379316, 1.2038980662705643, 1.1242161253479883, 1.0330208565556367, 0.9312252764730882, 0.8198485284569452, 0.7000056793178543, 0.5728965556439376, 0.43979373153763374, 0.30202978802871727, 0.1609839717179988, 0.018068386220910386, -0.12528614534236807, -0.2676444052702232, -0.40758115019995395, -0.5436953801684681, -0.6746243649560557, -0.7990572872863213, -0.9157483662910519, -1.0235293298522838, -1.1213211109526429, -1.2081446509340033, -1.283130701505851, -1.3455285273689113, -1.3947134223262827, -1.4301929636332809, -1.4516119419695308, -1.458755917676072, -1.4515533676536194, -1.43007640142795, -1.39454003921341, -1.3453000592023274, -1.2828494356325508, -1.2078134032939911, -1.1209431978866815, -1.0231085348997984, -0.9152889023105963, -0.7985637542778454, -0.674101704007242, -0.5431488239862111, -0.40701617072224644, -0.26706665888294034, -0.12470141624943064, 0.01865424390708444, 0.1615650925858828, 0.30260035409022756, 0.4403480304758838, 0.5734290380030469, 0.7005110140622479, 0.8203216563439015, 0.9316614607041882, 1.0334157302000075, 1.1245657350625575, 1.2041989118796095, 1.2715179998756723, 1.3258490228206576, 1.366648036654842, 1.3935065752751727, 1.4061557399614744, 1.4044688915006713, 1.3884629180562875, 1.3582980660897912, 1.3142763360265493, 1.2568384587283776, 1.1865594830433688, 1.1041430186087788, 1.010414191546365, 0.9063113835750833, 0.792876837246767, 0.6712462213616003, 0.5426372610314371, 0.4083375462224622, 0.2696916408345424, 0.12808762137628046, -0.015056819993331465, -0.15830856892557685, -0.30023343674417297, -0.43941051906356027, -0.5744464214089884, -0.7039892094168767, -0.8267419439500783, -0.9414756656195971, -1.047041698715484, -1.1423831513646125, -1.2265454967790799, -1.2986861296597838, -1.3580828020792217, -1.4041408543866534, -1.436399168741889, -1.4545347856731852, -1.4583661374395942, -1.4478548658265826, -1.4231062061756594, -1.384367933803267, -1.332027883357075, -1.2666100659449497, -1.1887694229107764, -1.099285268780346, -0.999053489024622, -0.8890775707535287, -0.7704585561380339, -0.6443840191437009, -0.5121161759365621, -0.3749792479964806, -0.23434620445372345, -0.09162501638064115, 0.05175543934472333, 0.19435968547665178, 0.3347600159207673, 0.47155078945055656, 0.6033625025181214, 0.7288755002662469, 0.8468331884723272, 0.9560546141499824, 1.0554462888561524, 1.144013136332133, 1.2208684548749174, 1.2852427946984624, 1.3364916614081024, 1.3741019684631486, 1.397697174028064, 1.4070410507835451, 1.40204005095559, 1.382744242884563, 1.3493468097576846, 1.3021821155234896, 1.2417223573515856, 1.1685728381523197, 1.0834659064860908, 0.9872536245341897, 0.8808992375366599, 0.7654675301027075, 0.6421141659426213, 0.5120741177487308, 0.3766493030610491, 0.23719554990373962, 0.09510902268751865, -0.048187755722065885, -0.19126014582872108, -0.33267575463683524, -0.471018776292012, -0.6049041666563648, -0.7329915099080929, -0.8539984383369518, -0.9667134709817089, -1.070008142572859, -1.162848301350216, -1.2443044626448996, -1.3135611145695758, -1.3699248826510666, -1.4128314716641268, -1.441851315166747, -1.4566938761759802, -1.4572105559271686, -1.443396181595171, -1.415389058082961, -1.3734695833591046, -1.3180574412069612, -1.2497073994907355, -1.169103756004929, -1.0770534875132436, -0.9744781705667759, -0.8624047549872139, -0.7419552823882525, -0.6143356526694984, -0.4808235509494812, -0.34275565580874184, -0.2015142569103733, -0.058513415977327184, 0.08481519032121962, 0.2270366038387777, 0.36672695127319094, 0.5024876995108433, 0.6329596572730426, 0.7568365828853995, 0.8728782619331499, 0.9799229238738871, 1.0768988732961675, 1.1628352193762348, 1.2368715961126422, 1.2982667760234643, 1.346406091068257, 1.3808075864992984, 1.4011268460315365, 1.4071604400234687, 1.3988479621467604, 1.3762726341542404, 1.3396604726915107, 1.2893780264937345, 1.2259287066221396, 1.1499477464805121, 1.0621958420705444, 0.9635515361573895, 0.8550024225929544, 0.7376352588559175, 0.6126250857988598, 0.48122346353148204, 0.34474594121884333, 0.20455888624225538, 0.062065804585466754, -0.08130671059875111, -0.22412326156272647, -0.364954016686996, -0.5023890254768743, -0.6350523345161598, -0.7616157630531306, -0.8808122003028783, -0.9914482913372359, -1.0924163845559722, -1.1827056211246263, -1.2614120553557289]}, {\"line\": {\"color\": \"green\", \"width\": 1}, \"name\": \"predictions\", \"type\": \"scatter\", \"x\": [16.0, 17.0, 18.0, 19.0, 20.0, 21.0, 22.0, 23.0, 24.0, 25.0, 26.0, 27.0, 28.0, 29.0, 30.0, 31.0, 32.0, 33.0, 34.0, 35.0, 36.0, 37.0, 38.0, 39.0, 40.0, 41.0, 42.0, 43.0, 44.0, 45.0, 46.0, 47.0, 48.0, 49.0, 50.0, 51.0, 52.0, 53.0, 54.0, 55.0, 56.0, 57.0, 58.0, 59.0, 60.0, 61.0, 62.0, 63.0, 64.0, 65.0, 66.0, 67.0, 68.0, 69.0, 70.0, 71.0, 72.0, 73.0, 74.0, 75.0, 76.0, 77.0, 78.0, 79.0, 80.0, 81.0, 82.0, 83.0, 84.0, 85.0, 86.0, 87.0, 88.0, 89.0, 90.0, 91.0, 92.0, 93.0, 94.0, 95.0, 96.0, 97.0, 98.0, 99.0, 100.0, 101.0, 102.0, 103.0, 104.0, 105.0, 106.0, 107.0, 108.0, 109.0, 110.0, 111.0, 112.0, 113.0, 114.0, 115.0, 116.0, 117.0, 118.0, 119.0, 120.0, 121.0, 122.0, 123.0, 124.0, 125.0, 126.0, 127.0, 128.0, 129.0, 130.0, 131.0, 132.0, 133.0, 134.0, 135.0, 136.0, 137.0, 138.0, 139.0, 140.0, 141.0, 142.0, 143.0, 144.0, 145.0, 146.0, 147.0, 148.0, 149.0, 150.0, 151.0, 152.0, 153.0, 154.0, 155.0, 156.0, 157.0, 158.0, 159.0, 160.0, 161.0, 162.0, 163.0, 164.0, 165.0, 166.0, 167.0, 168.0, 169.0, 170.0, 171.0, 172.0, 173.0, 174.0, 175.0, 176.0, 177.0, 178.0, 179.0, 180.0, 181.0, 182.0, 183.0, 184.0, 185.0, 186.0, 187.0, 188.0, 189.0, 190.0, 191.0, 192.0, 193.0, 194.0, 195.0, 196.0, 197.0, 198.0, 199.0, 200.0, 201.0, 202.0, 203.0, 204.0, 205.0, 206.0, 207.0, 208.0, 209.0, 210.0, 211.0, 212.0, 213.0, 214.0, 215.0, 216.0, 217.0, 218.0, 219.0, 220.0, 221.0, 222.0, 223.0, 224.0, 225.0, 226.0, 227.0, 228.0, 229.0, 230.0, 231.0, 232.0, 233.0, 234.0, 235.0, 236.0, 237.0, 238.0, 239.0, 240.0, 241.0, 242.0, 243.0, 244.0, 245.0, 246.0, 247.0, 248.0, 249.0, 250.0, 251.0, 252.0, 253.0, 254.0, 255.0, 256.0, 257.0, 258.0, 259.0, 260.0, 261.0, 262.0, 263.0, 264.0, 265.0, 266.0, 267.0, 268.0, 269.0, 270.0, 271.0, 272.0, 273.0, 274.0, 275.0, 276.0, 277.0, 278.0, 279.0, 280.0, 281.0, 282.0, 283.0, 284.0, 285.0, 286.0, 287.0, 288.0, 289.0, 290.0, 291.0, 292.0, 293.0, 294.0, 295.0, 296.0, 297.0, 298.0, 299.0, 300.0, 301.0, 302.0, 303.0, 304.0, 305.0, 306.0, 307.0, 308.0, 309.0, 310.0, 311.0, 312.0, 313.0, 314.0, 315.0, 316.0, 317.0, 318.0, 319.0, 320.0, 321.0, 322.0, 323.0, 324.0, 325.0, 326.0, 327.0, 328.0, 329.0, 330.0, 331.0, 332.0, 333.0, 334.0, 335.0, 336.0, 337.0, 338.0, 339.0, 340.0, 341.0, 342.0, 343.0, 344.0, 345.0, 346.0, 347.0, 348.0, 349.0, 350.0, 351.0, 352.0, 353.0, 354.0, 355.0, 356.0, 357.0, 358.0, 359.0, 360.0, 361.0, 362.0, 363.0, 364.0, 365.0, 366.0, 367.0, 368.0, 369.0, 370.0, 371.0, 372.0, 373.0, 374.0, 375.0, 376.0, 377.0, 378.0, 379.0, 380.0, 381.0, 382.0, 383.0, 384.0, 385.0, 386.0, 387.0, 388.0, 389.0, 390.0, 391.0, 392.0, 393.0, 394.0, 395.0, 396.0, 397.0, 398.0, 399.0, 400.0, 401.0, 402.0, 403.0, 404.0, 405.0, 406.0, 407.0, 408.0, 409.0, 410.0, 411.0, 412.0, 413.0, 414.0, 415.0, 416.0, 417.0, 418.0, 419.0, 420.0, 421.0, 422.0, 423.0, 424.0, 425.0, 426.0, 427.0, 428.0, 429.0, 430.0, 431.0, 432.0, 433.0, 434.0, 435.0, 436.0, 437.0, 438.0, 439.0, 440.0, 441.0, 442.0, 443.0, 444.0, 445.0, 446.0, 447.0, 448.0, 449.0, 450.0, 451.0, 452.0, 453.0, 454.0, 455.0, 456.0, 457.0, 458.0, 459.0, 460.0, 461.0, 462.0, 463.0, 464.0, 465.0, 466.0, 467.0, 468.0, 469.0, 470.0, 471.0, 472.0, 473.0, 474.0, 475.0, 476.0, 477.0, 478.0, 479.0, 480.0, 481.0, 482.0, 483.0, 484.0, 485.0, 486.0, 487.0, 488.0, 489.0, 490.0, 491.0, 492.0, 493.0, 494.0, 495.0, 496.0, 497.0, 498.0, 499.0, 500.0, 501.0, 502.0, 503.0, 504.0, 505.0, 506.0, 507.0, 508.0, 509.0, 510.0, 511.0, 512.0, 513.0, 514.0, 515.0, 516.0, 517.0, 518.0, 519.0, 520.0, 521.0, 522.0, 523.0, 524.0, 525.0, 526.0, 527.0, 528.0, 529.0, 530.0, 531.0, 532.0, 533.0, 534.0, 535.0, 536.0, 537.0, 538.0, 539.0, 540.0, 541.0, 542.0, 543.0, 544.0, 545.0, 546.0, 547.0, 548.0, 549.0, 550.0, 551.0, 552.0, 553.0, 554.0, 555.0, 556.0, 557.0, 558.0, 559.0, 560.0, 561.0, 562.0, 563.0, 564.0, 565.0, 566.0, 567.0, 568.0, 569.0, 570.0, 571.0, 572.0, 573.0, 574.0, 575.0, 576.0, 577.0, 578.0, 579.0, 580.0, 581.0, 582.0, 583.0, 584.0, 585.0, 586.0, 587.0, 588.0, 589.0, 590.0, 591.0, 592.0, 593.0, 594.0, 595.0, 596.0, 597.0, 598.0, 599.0, 600.0, 601.0, 602.0, 603.0, 604.0, 605.0, 606.0, 607.0, 608.0, 609.0, 610.0, 611.0, 612.0, 613.0, 614.0, 615.0, 616.0, 617.0, 618.0, 619.0, 620.0, 621.0, 622.0, 623.0, 624.0, 625.0, 626.0, 627.0, 628.0, 629.0, 630.0, 631.0, 632.0, 633.0, 634.0, 635.0, 636.0, 637.0, 638.0, 639.0, 640.0, 641.0, 642.0, 643.0, 644.0, 645.0, 646.0, 647.0, 648.0, 649.0, 650.0, 651.0, 652.0, 653.0, 654.0, 655.0, 656.0, 657.0, 658.0, 659.0, 660.0, 661.0, 662.0, 663.0, 664.0, 665.0, 666.0, 667.0, 668.0, 669.0, 670.0, 671.0, 672.0, 673.0, 674.0, 675.0, 676.0, 677.0, 678.0, 679.0, 680.0, 681.0, 682.0, 683.0, 684.0, 685.0, 686.0, 687.0, 688.0, 689.0, 690.0, 691.0, 692.0, 693.0, 694.0, 695.0, 696.0, 697.0, 698.0, 699.0, 700.0, 701.0, 702.0, 703.0, 704.0, 705.0, 706.0, 707.0, 708.0, 709.0, 710.0, 711.0, 712.0, 713.0, 714.0, 715.0, 716.0, 717.0, 718.0, 719.0, 720.0, 721.0, 722.0, 723.0, 724.0, 725.0, 726.0, 727.0, 728.0, 729.0, 730.0, 731.0, 732.0, 733.0, 734.0, 735.0, 736.0, 737.0, 738.0, 739.0, 740.0, 741.0, 742.0, 743.0, 744.0, 745.0, 746.0, 747.0, 748.0, 749.0, 750.0, 751.0, 752.0, 753.0, 754.0, 755.0, 756.0, 757.0, 758.0, 759.0, 760.0, 761.0, 762.0, 763.0, 764.0, 765.0, 766.0, 767.0, 768.0, 769.0, 770.0, 771.0, 772.0, 773.0, 774.0, 775.0, 776.0, 777.0, 778.0, 779.0, 780.0, 781.0, 782.0, 783.0, 784.0, 785.0, 786.0, 787.0, 788.0, 789.0, 790.0, 791.0, 792.0, 793.0, 794.0, 795.0, 796.0], \"y\": [-0.02044406533241272, -0.02044406533241272, 0.1367402970790863, 0.2923508584499359, 0.44038018584251404, 0.5837959051132202, 0.715027928352356, 0.838896632194519, 0.9425995349884033, 1.03666090965271, 1.1201390027999878, 1.1921976804733276, 1.252116084098816, 1.299293875694275, 1.333258867263794, 1.3536709547042847, 1.3603260517120361, 1.3531572818756104, 1.332236409187317, 1.297773003578186, 1.2501119375228882, 1.1897306442260742, 1.1172335147857666, 1.0333462953567505, 0.9389088153839111, 0.8348666429519653, 0.7222615480422974, 0.6022204160690308, 0.4759455621242523, 0.34470096230506897, 0.20980075001716614, 0.07259532809257507, -0.0655415952205658, -0.20284074544906616, -0.3384506106376648, -0.4756225347518921, -0.608222246170044, -0.7339187264442444, -0.846569299697876, -0.9589071273803711, -1.0619301795959473, -1.1546066999435425, -1.2354011535644531, -1.3037360906600952, -1.3592671155929565, -1.4014383554458618, -1.4282482862472534, -1.440029501914978, -1.437547206878662, -1.4208261966705322, -1.3900337219238281, -1.3454782962799072, -1.2876057624816895, -1.2169955968856812, -1.1343549489974976, -1.0405107736587524, -0.9364030361175537, -0.8230735659599304, -0.7016572952270508, -0.5733698606491089, -0.4394954741001129, -0.30137449502944946, -0.1603897213935852, -0.02162092924118042, 0.11550524830818176, 0.25206854939460754, 0.38626667857170105, 0.5143053531646729, 0.6360195875167847, 0.7532371282577515, 0.863653302192688, 0.9652180671691895, 1.0569148063659668, 1.1378253698349, 1.2071397304534912, 1.264163851737976, 1.308327078819275, 1.3391870260238647, 1.35643470287323, 1.359897494316101, 1.3495410680770874, 1.3254685401916504, 1.2879213094711304, 1.2372751235961914, 1.174036979675293, 1.0988401174545288, 1.012437343597412, 0.9156938791275024, 0.8095779418945312, 0.6951522827148438, 0.5735621452331543, 0.4460251033306122, 0.3138177692890167, 0.17826411128044128, 0.040720999240875244, -0.09743449091911316, -0.23283392190933228, -0.37046918272972107, -0.5067055225372314, -0.6380585432052612, -0.7580546140670776, -0.8732867240905762, -0.983569860458374, -1.0842909812927246, -1.1744418144226074, -1.2522883415222168, -1.317722201347351, -1.3702119588851929, -1.4092321395874023, -1.43223237991333, -1.440724492073059, -1.4349459409713745, -1.4149545431137085, -1.380950689315796, -1.3332747220993042, -1.2724037170410156, -1.198947548866272, -1.113641381263733, -1.0173393487930298, -0.9110052585601807, -0.7957041263580322, -0.6725901961326599, -0.5428958535194397, -0.40791985392570496, -0.26901325583457947, -0.12756690382957458, 0.01010274887084961, 0.14703264832496643, 0.2833573520183563, 0.4167328178882599, 0.5429431200027466, 0.6632364988327026, 0.7794705629348755, 0.8879371881484985, 0.9873095750808716, 1.0765926837921143, 1.1548925638198853, 1.2214255332946777, 1.2755252122879028, 1.3166500329971313, 1.3443881273269653, 1.3584623336791992, 1.3587311506271362, 1.345192313194275, 1.3179811239242554, 1.2773699760437012, 1.2237656116485596, 1.1577047109603882, 1.0798484086990356, 0.9909764528274536, 0.89197838306427, 0.7838457822799683, 0.6676605939865112, 0.5445863008499146, 0.41585519909858704, 0.2827560603618622, 0.14662131667137146, 0.008814007043838501, -0.1292862594127655, -0.2632337808609009, -0.4022998511791229, -0.5375277996063232, -0.6675639152526855, -0.7826626300811768, -0.899552583694458, -1.0077219009399414, -1.1060872077941895, -1.193570852279663, -1.2685197591781616, -1.331017017364502, -1.3804374933242798, -1.4160430431365967, -1.435459017753601, -1.4406572580337524, -1.4315853118896484, -1.408334732055664, -1.3711376190185547, -1.3203665018081665, -1.2565299272537231, -1.1802668571472168, -1.0923408269882202, -0.9936320781707764, -0.8851288557052612, -0.7679175734519958, -0.6431716084480286, -0.5121399164199829, -0.37613430619239807, -0.23651647567749023, -0.09548968076705933, 0.041809260845184326, 0.17864838242530823, 0.3144836723804474, 0.4465070068836212, 0.5712774991989136, 0.6905500888824463, 0.8052762746810913, 0.9117356538772583, 1.0088623762130737, 1.0956841707229614, 1.1713316440582275, 1.2350473403930664, 1.2861934900283813, 1.3242583274841309, 1.3488599061965942, 1.359752893447876, 1.356827735900879, 1.340113639831543, 1.3097782135009766, 1.266124963760376, 1.209591031074524, 1.140742540359497, 1.060268521308899, 0.9689747095108032, 0.8677753210067749, 0.7576833963394165, 0.639801025390625, 0.5153083801269531, 0.38545212149620056, 0.25153210759162903, 0.11488917469978333, -0.023108690977096558, -0.16107980906963348, -0.2956235408782959, -0.4339255392551422, -0.5680728554725647, -0.6967225074768066, -0.8103762865066528, -0.9253528118133545, -1.0313503742218018, -1.127307653427124, -1.2119508981704712, -1.2840858697891235, -1.343613624572754, -1.389938235282898, -1.4217824935913086, -1.4379267692565918, -1.4398281574249268, -1.427467942237854, -1.4009701013565063, -1.3605996370315552, -1.3067606687545776, -1.239992618560791, -1.1609634160995483, -1.0704644918441772, -0.9694020748138428, -0.858787477016449, -0.7397286891937256, -0.6134175062179565, -0.4811183512210846, -0.3441559076309204, -0.20390133559703827, -0.06379187107086182, 0.07348170876502991, 0.210250586271286, 0.34543099999427795, 0.4757913649082184, 0.59929358959198, 0.7177245616912842, 0.830640435218811, 0.9350357055664062, 1.029865026473999, 1.1141788959503174, 1.187133550643921, 1.2479981184005737, 1.2961634397506714, 1.3311474323272705, 1.3525997400283813, 1.3603055477142334, 1.3541878461837769, 1.3343077898025513, 1.3008642196655273, 1.2541923522949219, 1.1947591304779053, 1.1231595277786255, 1.0401108264923096, 0.9464442729949951, 0.8430973291397095, 0.7311052083969116, 0.6115883588790894, 0.4857442080974579, 0.3548320233821869, 0.2201627790927887, 0.08308473229408264, -0.05502989888191223, -0.1927982121706009, -0.3278653919696808, -0.46532946825027466, -0.5983244180679321, -0.7255188226699829, -0.8376719951629639, -0.9506736993789673, -1.0544428825378418, -1.1479405164718628, -1.2296963930130005, -1.2989791631698608, -1.355505347251892, -1.3987095355987549, -1.4267702102661133, -1.439633846282959, -1.4382377862930298, -1.422595739364624, -1.3928649425506592, -1.349342703819275, -1.2924648523330688, -1.2228004932403564, -1.141047477722168, -1.04802405834198, -0.9446618556976318, -0.8319952487945557, -0.7111525535583496, -0.5833435654640198, -0.4498477578163147, -0.31200167536735535, -0.1711854487657547, -0.03207167983055115, 0.10510313510894775, 0.2417292296886444, 0.37618258595466614, 0.5048083066940308, 0.6269763708114624, 0.7445046901702881, 0.8555499315261841, 0.9578250646591187, 1.0503062009811401, 1.132067322731018, 1.2022898197174072, 1.2602708339691162, 1.3054298162460327, 1.3373143672943115, 1.3556054830551147, 1.3601202964782715, 1.3508132696151733, 1.327777624130249, 1.2912439107894897, 1.241578221321106, 1.1792774200439453, 1.1049654483795166, 1.0193862915039062, 0.9233967065811157, 0.8179577589035034, 0.7041250467300415, 0.5830380916595459, 0.45590928196907043, 0.32401135563850403, 0.18866494297981262, 0.05122488737106323, -0.08693262934684753, -0.22296512126922607, -0.35994210839271545, -0.49649471044540405, -0.6282662153244019, -0.7501453161239624, -0.8645350933074951, -0.9755016565322876, -1.0769870281219482, -1.1679751873016357, -1.246797800064087, -1.3131910562515259, -1.3666857481002808, -1.4067462682724, -1.4310033321380615, -1.4405795335769653, -1.4358863830566406, -1.4169714450836182, -1.3840234279632568, -1.3373726606369019, -1.2774860858917236, -1.2049630880355835, -1.1205298900604248, -1.0250318050384521, -0.9194248914718628, -0.8047665357589722, -0.68220454454422, -0.5529659986495972, -0.4183449149131775, -0.2796889543533325, -0.13838627934455872, -0.0003460347652435303, 0.13665661215782166, 0.2730678617954254, 0.40672221779823303, 0.5335425138473511, 0.6543111801147461, 0.7708756923675537, 0.8799910545349121, 0.9800914525985718, 1.0701749324798584, 1.1493395566940308, 1.2167927026748657, 1.2718589305877686, 1.3139872550964355, 1.3427553176879883, 1.3578757047653198, 1.3591969013214111, 1.346705436706543, 1.3205265998840332, 1.280922532081604, 1.2282893657684326, 1.1631544828414917, 1.0861698389053345, 0.9981061220169067, 0.8998448848724365, 0.7923702001571655, 0.6767576932907104, 0.554165244102478, 0.4258197844028473, 0.29300656914711, 0.15705522894859314, 0.01932680606842041, -0.11879980564117432, -0.2528885006904602, -0.391836553812027, -0.5274046659469604, -0.6578823328018188, -0.7740294933319092, -0.8909512758255005, -0.9998233318328857, -1.098970651626587, -1.1873791217803955, -1.2632460594177246, -1.3267146348953247, -1.3771488666534424, -1.4139882326126099, -1.4344799518585205, -1.4407633543014526, -1.4327760934829712, -1.4105976819992065, -1.3744502067565918, -1.3246959447860718, -1.261832594871521, -1.1864895820617676, -1.099421501159668, -1.0014997720718384, -0.8937046527862549, -0.7771156430244446, -0.6529000401496887, -0.5223011374473572, -0.38662663102149963, -0.24723482131958008, -0.10592323541641235, 0.031367987394332886, 0.16821447014808655, 0.3042495548725128, 0.43680480122566223, 0.5619785785675049, 0.6815146207809448, 0.7968239784240723, 0.9039508104324341, 1.0018231868743896, 1.089460849761963, 1.1659865379333496, 1.2306339740753174, 1.2827560901641846, 1.3218311071395874, 1.3474677801132202, 1.359409213066101, 1.3575359582901, 1.3418669700622559, 1.3125590085983276, 1.2699054479599, 1.2143332958221436, 1.1463987827301025, 1.0667824745178223, 0.9762811660766602, 0.8758010864257812, 0.7663480043411255, 0.6490176916122437, 0.5249849557876587, 0.39549168944358826, 0.26183411478996277, 0.12535062432289124, -0.012592613697052002, -0.1506144404411316, -0.2849697470664978, -0.423531711101532, -0.5580428838729858, -0.6871567964553833, -0.8012927770614624, -0.916906476020813, -1.0236257314682007, -1.1203819513320923, -1.2059659957885742, -1.2790323495864868, -1.3395419120788574, -1.386889100074768, -1.419974684715271, -1.4371978044509888, -1.440185308456421, -1.428907871246338, -1.4034780263900757, -1.3641507625579834, -1.3113192319869995, -1.245512843132019, -1.16739022731781, -1.0777335166931152, -0.977440357208252, -0.867514967918396, -0.7490576505661011, -0.6232545971870422, -0.4913651943206787, -0.3547098934650421, -0.21465681493282318, -0.07423645257949829, 0.06305357813835144, 0.1998535692691803, 0.3352576792240143, 0.4661737382411957, 0.5901012420654297, 0.7088160514831543, 0.8223351240158081, 0.9274164438247681, 1.0230082273483276, 1.108153223991394, 1.1819992065429688, 1.2438068389892578, 1.292956829071045, 1.3289577960968018, 1.351448893547058, 1.3602051734924316, 1.3551385402679443, 1.336300253868103, 1.3038787841796875, 1.2581984996795654, 1.1997169256210327, 1.1290193796157837, 1.04681396484375, 0.9539235830307007, 0.8512779474258423, 0.7399049997329712, 0.6209197044372559, 0.49551334977149963, 0.3649413287639618, 0.2305108606815338, 0.0935681164264679, -0.044516146183013916, -0.18235944211483002, -0.3172622621059418, -0.45501047372817993, -0.5883929133415222, -0.7160741686820984, -0.8287277817726135, -0.9423867464065552, -1.04689621925354, -1.141209602355957, -1.2239216566085815, -1.2941482067108154, -1.3516664505004883, -1.395901083946228, -1.4252103567123413, -1.4391554594039917, -1.4388457536697388, -1.4242839813232422, -1.3956162929534912, -1.3531299829483032, -1.297249674797058, -1.2285354137420654, -1.147674798965454, -1.0554776191711426, -0.952866792678833, -0.8408695459365845, -0.7206073999404907, -0.5932842493057251, -0.4601748585700989, -0.3226117193698883, -0.18197223544120789, -0.04252180457115173, 0.0946936309337616, 0.23137471079826355, 0.3660756051540375, 0.49528053402900696, 0.6178953647613525, 0.7357276678085327, 0.8473957777023315, 0.9503754377365112, 1.0436354875564575, 1.1262425184249878, 1.1973692178726196, 1.2563035488128662, 1.3024555444717407, 1.3353630304336548, 1.3546966314315796, 1.3602629899978638, 1.3520058393478394, 1.3300082683563232, 1.2944906949996948, 1.2458082437515259, 1.184448480606079, 1.1110255718231201, 1.0262750387191772, 0.9310450553894043, 0.8262889385223389, 0.7130557298660278, 0.5924789905548096, 0.4657658040523529, 0.3341849148273468, 0.199053555727005, 0.06172463297843933, -0.07642689347267151, -0.21308527886867523, -0.3493952751159668]}],\n",
              "                        {\"template\": {\"data\": {\"bar\": [{\"error_x\": {\"color\": \"#2a3f5f\"}, \"error_y\": {\"color\": \"#2a3f5f\"}, \"marker\": {\"line\": {\"color\": \"#E5ECF6\", \"width\": 0.5}}, \"type\": \"bar\"}], \"barpolar\": [{\"marker\": {\"line\": {\"color\": \"#E5ECF6\", \"width\": 0.5}}, \"type\": \"barpolar\"}], \"carpet\": [{\"aaxis\": {\"endlinecolor\": \"#2a3f5f\", \"gridcolor\": \"white\", \"linecolor\": \"white\", \"minorgridcolor\": \"white\", \"startlinecolor\": \"#2a3f5f\"}, \"baxis\": {\"endlinecolor\": \"#2a3f5f\", \"gridcolor\": \"white\", \"linecolor\": \"white\", \"minorgridcolor\": \"white\", \"startlinecolor\": \"#2a3f5f\"}, \"type\": \"carpet\"}], \"choropleth\": [{\"colorbar\": {\"outlinewidth\": 0, \"ticks\": \"\"}, \"type\": \"choropleth\"}], \"contour\": [{\"colorbar\": {\"outlinewidth\": 0, \"ticks\": \"\"}, \"colorscale\": [[0.0, \"#0d0887\"], [0.1111111111111111, \"#46039f\"], [0.2222222222222222, \"#7201a8\"], [0.3333333333333333, \"#9c179e\"], [0.4444444444444444, \"#bd3786\"], [0.5555555555555556, \"#d8576b\"], [0.6666666666666666, \"#ed7953\"], [0.7777777777777778, \"#fb9f3a\"], [0.8888888888888888, \"#fdca26\"], [1.0, \"#f0f921\"]], \"type\": \"contour\"}], \"contourcarpet\": [{\"colorbar\": {\"outlinewidth\": 0, \"ticks\": \"\"}, \"type\": \"contourcarpet\"}], \"heatmap\": [{\"colorbar\": {\"outlinewidth\": 0, \"ticks\": \"\"}, \"colorscale\": [[0.0, \"#0d0887\"], [0.1111111111111111, \"#46039f\"], [0.2222222222222222, \"#7201a8\"], [0.3333333333333333, \"#9c179e\"], [0.4444444444444444, \"#bd3786\"], [0.5555555555555556, \"#d8576b\"], [0.6666666666666666, \"#ed7953\"], [0.7777777777777778, \"#fb9f3a\"], [0.8888888888888888, \"#fdca26\"], [1.0, \"#f0f921\"]], \"type\": \"heatmap\"}], \"heatmapgl\": [{\"colorbar\": {\"outlinewidth\": 0, \"ticks\": \"\"}, \"colorscale\": [[0.0, \"#0d0887\"], [0.1111111111111111, \"#46039f\"], [0.2222222222222222, \"#7201a8\"], [0.3333333333333333, \"#9c179e\"], [0.4444444444444444, \"#bd3786\"], [0.5555555555555556, \"#d8576b\"], [0.6666666666666666, \"#ed7953\"], [0.7777777777777778, \"#fb9f3a\"], [0.8888888888888888, \"#fdca26\"], [1.0, \"#f0f921\"]], \"type\": \"heatmapgl\"}], \"histogram\": [{\"marker\": {\"colorbar\": {\"outlinewidth\": 0, \"ticks\": \"\"}}, \"type\": \"histogram\"}], \"histogram2d\": [{\"colorbar\": {\"outlinewidth\": 0, \"ticks\": \"\"}, \"colorscale\": [[0.0, \"#0d0887\"], [0.1111111111111111, \"#46039f\"], [0.2222222222222222, \"#7201a8\"], [0.3333333333333333, \"#9c179e\"], [0.4444444444444444, \"#bd3786\"], [0.5555555555555556, \"#d8576b\"], [0.6666666666666666, \"#ed7953\"], [0.7777777777777778, \"#fb9f3a\"], [0.8888888888888888, \"#fdca26\"], [1.0, \"#f0f921\"]], \"type\": \"histogram2d\"}], \"histogram2dcontour\": [{\"colorbar\": {\"outlinewidth\": 0, \"ticks\": \"\"}, \"colorscale\": [[0.0, \"#0d0887\"], [0.1111111111111111, \"#46039f\"], [0.2222222222222222, \"#7201a8\"], [0.3333333333333333, \"#9c179e\"], [0.4444444444444444, \"#bd3786\"], [0.5555555555555556, \"#d8576b\"], [0.6666666666666666, \"#ed7953\"], [0.7777777777777778, \"#fb9f3a\"], [0.8888888888888888, \"#fdca26\"], [1.0, \"#f0f921\"]], \"type\": \"histogram2dcontour\"}], \"mesh3d\": [{\"colorbar\": {\"outlinewidth\": 0, \"ticks\": \"\"}, \"type\": \"mesh3d\"}], \"parcoords\": [{\"line\": {\"colorbar\": {\"outlinewidth\": 0, \"ticks\": \"\"}}, \"type\": \"parcoords\"}], \"pie\": [{\"automargin\": true, \"type\": \"pie\"}], \"scatter\": [{\"marker\": {\"colorbar\": {\"outlinewidth\": 0, \"ticks\": \"\"}}, \"type\": \"scatter\"}], \"scatter3d\": [{\"line\": {\"colorbar\": {\"outlinewidth\": 0, \"ticks\": \"\"}}, \"marker\": {\"colorbar\": {\"outlinewidth\": 0, \"ticks\": \"\"}}, \"type\": \"scatter3d\"}], \"scattercarpet\": [{\"marker\": {\"colorbar\": {\"outlinewidth\": 0, \"ticks\": \"\"}}, \"type\": \"scattercarpet\"}], \"scattergeo\": [{\"marker\": {\"colorbar\": {\"outlinewidth\": 0, \"ticks\": \"\"}}, \"type\": \"scattergeo\"}], \"scattergl\": [{\"marker\": {\"colorbar\": {\"outlinewidth\": 0, \"ticks\": \"\"}}, \"type\": \"scattergl\"}], \"scattermapbox\": [{\"marker\": {\"colorbar\": {\"outlinewidth\": 0, \"ticks\": \"\"}}, \"type\": \"scattermapbox\"}], \"scatterpolar\": [{\"marker\": {\"colorbar\": {\"outlinewidth\": 0, \"ticks\": \"\"}}, \"type\": \"scatterpolar\"}], \"scatterpolargl\": [{\"marker\": {\"colorbar\": {\"outlinewidth\": 0, \"ticks\": \"\"}}, \"type\": \"scatterpolargl\"}], \"scatterternary\": [{\"marker\": {\"colorbar\": {\"outlinewidth\": 0, \"ticks\": \"\"}}, \"type\": \"scatterternary\"}], \"surface\": [{\"colorbar\": {\"outlinewidth\": 0, \"ticks\": \"\"}, \"colorscale\": [[0.0, \"#0d0887\"], [0.1111111111111111, \"#46039f\"], [0.2222222222222222, \"#7201a8\"], [0.3333333333333333, \"#9c179e\"], [0.4444444444444444, \"#bd3786\"], [0.5555555555555556, \"#d8576b\"], [0.6666666666666666, \"#ed7953\"], [0.7777777777777778, \"#fb9f3a\"], [0.8888888888888888, \"#fdca26\"], [1.0, \"#f0f921\"]], \"type\": \"surface\"}], \"table\": [{\"cells\": {\"fill\": {\"color\": \"#EBF0F8\"}, \"line\": {\"color\": \"white\"}}, \"header\": {\"fill\": {\"color\": \"#C8D4E3\"}, \"line\": {\"color\": \"white\"}}, \"type\": \"table\"}]}, \"layout\": {\"annotationdefaults\": {\"arrowcolor\": \"#2a3f5f\", \"arrowhead\": 0, \"arrowwidth\": 1}, \"coloraxis\": {\"colorbar\": {\"outlinewidth\": 0, \"ticks\": \"\"}}, \"colorscale\": {\"diverging\": [[0, \"#8e0152\"], [0.1, \"#c51b7d\"], [0.2, \"#de77ae\"], [0.3, \"#f1b6da\"], [0.4, \"#fde0ef\"], [0.5, \"#f7f7f7\"], [0.6, \"#e6f5d0\"], [0.7, \"#b8e186\"], [0.8, \"#7fbc41\"], [0.9, \"#4d9221\"], [1, \"#276419\"]], \"sequential\": [[0.0, \"#0d0887\"], [0.1111111111111111, \"#46039f\"], [0.2222222222222222, \"#7201a8\"], [0.3333333333333333, \"#9c179e\"], [0.4444444444444444, \"#bd3786\"], [0.5555555555555556, \"#d8576b\"], [0.6666666666666666, \"#ed7953\"], [0.7777777777777778, \"#fb9f3a\"], [0.8888888888888888, \"#fdca26\"], [1.0, \"#f0f921\"]], \"sequentialminus\": [[0.0, \"#0d0887\"], [0.1111111111111111, \"#46039f\"], [0.2222222222222222, \"#7201a8\"], [0.3333333333333333, \"#9c179e\"], [0.4444444444444444, \"#bd3786\"], [0.5555555555555556, \"#d8576b\"], [0.6666666666666666, \"#ed7953\"], [0.7777777777777778, \"#fb9f3a\"], [0.8888888888888888, \"#fdca26\"], [1.0, \"#f0f921\"]]}, \"colorway\": [\"#636efa\", \"#EF553B\", \"#00cc96\", \"#ab63fa\", \"#FFA15A\", \"#19d3f3\", \"#FF6692\", \"#B6E880\", \"#FF97FF\", \"#FECB52\"], \"font\": {\"color\": \"#2a3f5f\"}, \"geo\": {\"bgcolor\": \"white\", \"lakecolor\": \"white\", \"landcolor\": \"#E5ECF6\", \"showlakes\": true, \"showland\": true, \"subunitcolor\": \"white\"}, \"hoverlabel\": {\"align\": \"left\"}, \"hovermode\": \"closest\", \"mapbox\": {\"style\": \"light\"}, \"paper_bgcolor\": \"white\", \"plot_bgcolor\": \"#E5ECF6\", \"polar\": {\"angularaxis\": {\"gridcolor\": \"white\", \"linecolor\": \"white\", \"ticks\": \"\"}, \"bgcolor\": \"#E5ECF6\", \"radialaxis\": {\"gridcolor\": \"white\", \"linecolor\": \"white\", \"ticks\": \"\"}}, \"scene\": {\"xaxis\": {\"backgroundcolor\": \"#E5ECF6\", \"gridcolor\": \"white\", \"gridwidth\": 2, \"linecolor\": \"white\", \"showbackground\": true, \"ticks\": \"\", \"zerolinecolor\": \"white\"}, \"yaxis\": {\"backgroundcolor\": \"#E5ECF6\", \"gridcolor\": \"white\", \"gridwidth\": 2, \"linecolor\": \"white\", \"showbackground\": true, \"ticks\": \"\", \"zerolinecolor\": \"white\"}, \"zaxis\": {\"backgroundcolor\": \"#E5ECF6\", \"gridcolor\": \"white\", \"gridwidth\": 2, \"linecolor\": \"white\", \"showbackground\": true, \"ticks\": \"\", \"zerolinecolor\": \"white\"}}, \"shapedefaults\": {\"line\": {\"color\": \"#2a3f5f\"}}, \"ternary\": {\"aaxis\": {\"gridcolor\": \"white\", \"linecolor\": \"white\", \"ticks\": \"\"}, \"baxis\": {\"gridcolor\": \"white\", \"linecolor\": \"white\", \"ticks\": \"\"}, \"bgcolor\": \"#E5ECF6\", \"caxis\": {\"gridcolor\": \"white\", \"linecolor\": \"white\", \"ticks\": \"\"}}, \"title\": {\"x\": 0.05}, \"xaxis\": {\"automargin\": true, \"gridcolor\": \"white\", \"linecolor\": \"white\", \"ticks\": \"\", \"title\": {\"standoff\": 15}, \"zerolinecolor\": \"white\", \"zerolinewidth\": 2}, \"yaxis\": {\"automargin\": true, \"gridcolor\": \"white\", \"linecolor\": \"white\", \"ticks\": \"\", \"title\": {\"standoff\": 15}, \"zerolinecolor\": \"white\", \"zerolinewidth\": 2}}}},\n",
              "                        {\"responsive\": true}\n",
              "                    ).then(function(){\n",
              "                            \n",
              "var gd = document.getElementById('370e0cdb-99bd-4b5d-8b7d-bf18438af128');\n",
              "var x = new MutationObserver(function (mutations, observer) {{\n",
              "        var display = window.getComputedStyle(gd).display;\n",
              "        if (!display || display === 'none') {{\n",
              "            console.log([gd, 'removed!']);\n",
              "            Plotly.purge(gd);\n",
              "            observer.disconnect();\n",
              "        }}\n",
              "}});\n",
              "\n",
              "// Listen for the removal of the full notebook cells\n",
              "var notebookContainer = gd.closest('#notebook-container');\n",
              "if (notebookContainer) {{\n",
              "    x.observe(notebookContainer, {childList: true});\n",
              "}}\n",
              "\n",
              "// Listen for the clearing of the current output cell\n",
              "var outputEl = gd.closest('.output');\n",
              "if (outputEl) {{\n",
              "    x.observe(outputEl, {childList: true});\n",
              "}}\n",
              "\n",
              "                        })\n",
              "                };\n",
              "                \n",
              "            </script>\n",
              "        </div>\n",
              "</body>\n",
              "</html>"
            ]
          },
          "metadata": {
            "tags": []
          }
        }
      ]
    }
  ]
}