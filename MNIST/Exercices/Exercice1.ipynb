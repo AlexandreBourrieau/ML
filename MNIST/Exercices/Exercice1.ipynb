{
  "nbformat": 4,
  "nbformat_minor": 0,
  "metadata": {
    "colab": {
      "name": "Exercice1.ipynb",
      "provenance": [],
      "toc_visible": true
    },
    "kernelspec": {
      "name": "python3",
      "display_name": "Python 3"
    }
  },
  "cells": [
    {
      "cell_type": "markdown",
      "metadata": {
        "id": "0LIP6N6JvN7W"
      },
      "source": [
        "# Chargement du modèle entrainé"
      ]
    },
    {
      "cell_type": "code",
      "metadata": {
        "id": "9hUls9qxvKfi"
      },
      "source": [
        "from tensorflow.keras.models import model_from_json\n",
        "\n",
        "with open('model_MNIST.json', 'r') as json_file:\n",
        "    loaded_model_json = json_file.read()\n",
        "restored_model = model_from_json(loaded_model_json)\n",
        "restored_model.load_weights(\"parametres.h5\")"
      ],
      "execution_count": 2,
      "outputs": []
    },
    {
      "cell_type": "markdown",
      "metadata": {
        "id": "2IS_a1AmYXze"
      },
      "source": [
        "# Importation des modules Python pour traiter les images"
      ]
    },
    {
      "cell_type": "code",
      "metadata": {
        "id": "Xv2CnJaLXiDE"
      },
      "source": [
        "from skimage import io, transform\r\n",
        "import matplotlib.pyplot as plt"
      ],
      "execution_count": 1,
      "outputs": []
    },
    {
      "cell_type": "markdown",
      "metadata": {
        "id": "midNHWdQYgiO"
      },
      "source": [
        "# Lecture des images"
      ]
    },
    {
      "cell_type": "code",
      "metadata": {
        "id": "LfAZ9yF8YjHG",
        "colab": {
          "base_uri": "https://localhost:8080/",
          "height": 331
        },
        "outputId": "9e9e0e11-7716-441a-c8e1-3a87ed866114"
      },
      "source": [
        "rgb = io.imread('8.png')\n",
        "print(f'Format original de l\\'image {rgb.shape}')\n",
        "io.imshow(rgb)"
      ],
      "execution_count": 6,
      "outputs": [
        {
          "output_type": "stream",
          "text": [
            "Format original de l'image (64, 43, 4)\n"
          ],
          "name": "stdout"
        },
        {
          "output_type": "execute_result",
          "data": {
            "text/plain": [
              "<matplotlib.image.AxesImage at 0x7fc2b8971978>"
            ]
          },
          "metadata": {
            "tags": []
          },
          "execution_count": 6
        },
        {
          "output_type": "display_data",
          "data": {
            "image/png": "[encoded data removed]",
            "text/plain": [
              "<Figure size 432x288 with 1 Axes>"
            ]
          },
          "metadata": {
            "tags": [],
            "needs_background": "light"
          }
        }
      ]
    },
    {
      "cell_type": "markdown",
      "metadata": {
        "id": "S9GLTYySZaJZ"
      },
      "source": [
        "# Conversion de l'image en N&B"
      ]
    },
    {
      "cell_type": "markdown",
      "metadata": {
        "id": "Q88sRESi7Po3"
      },
      "source": [
        "![ConversionGrayScale](../Images/GrayScaleConversion.png \"ConversionNB\")"
      ]
    },
    {
      "cell_type": "code",
      "metadata": {
        "id": "YT3C1bJ9uFDI"
      },
      "source": [
        "rgb"
      ],
      "execution_count": null,
      "outputs": []
    },
    {
      "cell_type": "code",
      "metadata": {
        "id": "pm48-zzkuNIo"
      },
      "source": [
        "import numpy as np"
      ],
      "execution_count": 9,
      "outputs": []
    },
    {
      "cell_type": "code",
      "metadata": {
        "id": "H21gJhmXZeAN",
        "colab": {
          "base_uri": "https://localhost:8080/",
          "height": 385
        },
        "outputId": "3fcc0636-bb2a-4267-ab10-20f9ec68ad6b"
      },
      "source": [
        "gray = np.dot(rgb[...,:], [0.299, 0.587, 0.114, 0])\n",
        "print(f'Format de l\\'image en N&B {gray.shape}')\n",
        "io.imshow(gray, cmap='gray')"
      ],
      "execution_count": 11,
      "outputs": [
        {
          "output_type": "stream",
          "text": [
            "Format de l'image en N&B (64, 43)\n"
          ],
          "name": "stdout"
        },
        {
          "output_type": "stream",
          "text": [
            "/usr/local/lib/python3.6/dist-packages/skimage/io/_plugins/matplotlib_plugin.py:150: UserWarning: Float image out of standard range; displaying image with stretched contrast.\n",
            "  lo, hi, cmap = _get_display_range(image)\n"
          ],
          "name": "stderr"
        },
        {
          "output_type": "execute_result",
          "data": {
            "text/plain": [
              "<matplotlib.image.AxesImage at 0x7fc2afbcb5c0>"
            ]
          },
          "metadata": {
            "tags": []
          },
          "execution_count": 11
        },
        {
          "output_type": "display_data",
          "data": {
            "image/png": "[encoded data removed]",
            "text/plain": [
              "<Figure size 432x288 with 2 Axes>"
            ]
          },
          "metadata": {
            "tags": [],
            "needs_background": "light"
          }
        }
      ]
    },
    {
      "cell_type": "markdown",
      "metadata": {
        "id": "lXVjUvgoaFqm"
      },
      "source": [
        "# Redimensionner l'image en 28x28px"
      ]
    },
    {
      "cell_type": "code",
      "metadata": {
        "id": "41fraZ9QZ3_V",
        "colab": {
          "base_uri": "https://localhost:8080/",
          "height": 385
        },
        "outputId": "a26bc5c9-cf30-445f-9d87-71f9ad9d31f0"
      },
      "source": [
        "gray28x28 = transform.resize(gray, (28, 28))\n",
        "print(f'Format de l\\'image redimensionnée {gray28x28.shape}')\n",
        "io.imshow(gray28x28, cmap='gray')"
      ],
      "execution_count": 12,
      "outputs": [
        {
          "output_type": "stream",
          "text": [
            "Format de l'image redimensionnée (28, 28)\n"
          ],
          "name": "stdout"
        },
        {
          "output_type": "stream",
          "text": [
            "/usr/local/lib/python3.6/dist-packages/skimage/io/_plugins/matplotlib_plugin.py:150: UserWarning: Float image out of standard range; displaying image with stretched contrast.\n",
            "  lo, hi, cmap = _get_display_range(image)\n"
          ],
          "name": "stderr"
        },
        {
          "output_type": "execute_result",
          "data": {
            "text/plain": [
              "<matplotlib.image.AxesImage at 0x7fc2afb4e320>"
            ]
          },
          "metadata": {
            "tags": []
          },
          "execution_count": 12
        },
        {
          "output_type": "display_data",
          "data": {
            "image/png": "[encoded data removed]",
            "text/plain": [
              "<Figure size 432x288 with 2 Axes>"
            ]
          },
          "metadata": {
            "tags": [],
            "needs_background": "light"
          }
        }
      ]
    },
    {
      "cell_type": "markdown",
      "metadata": {
        "id": "m1HsbYxFaNj1"
      },
      "source": [
        "# Filtrer le fond d'image"
      ]
    },
    {
      "cell_type": "code",
      "metadata": {
        "id": "DtTfgeNYaQg-",
        "colab": {
          "base_uri": "https://localhost:8080/",
          "height": 368
        },
        "outputId": "ab16531c-0d72-4e8c-f38a-fd14046d1108"
      },
      "source": [
        "vectorized_filter = np.vectorize(lambda v: 255 if v > 128 else v)\n",
        "filtered = vectorized_filter(gray28x28)\n",
        "io.imshow(filtered, cmap='gray')"
      ],
      "execution_count": 13,
      "outputs": [
        {
          "output_type": "stream",
          "text": [
            "/usr/local/lib/python3.6/dist-packages/skimage/io/_plugins/matplotlib_plugin.py:150: UserWarning: Low image data range; displaying image with stretched contrast.\n",
            "  lo, hi, cmap = _get_display_range(image)\n"
          ],
          "name": "stderr"
        },
        {
          "output_type": "execute_result",
          "data": {
            "text/plain": [
              "<matplotlib.image.AxesImage at 0x7fc2afae6f28>"
            ]
          },
          "metadata": {
            "tags": []
          },
          "execution_count": 13
        },
        {
          "output_type": "display_data",
          "data": {
            "image/png": "[encoded data removed]",
            "text/plain": [
              "<Figure size 432x288 with 2 Axes>"
            ]
          },
          "metadata": {
            "tags": [],
            "needs_background": "light"
          }
        }
      ]
    },
    {
      "cell_type": "markdown",
      "metadata": {
        "id": "Z5CZkz6_akX9"
      },
      "source": [
        "# Inverser l'image et normaliser la valeur des pixels"
      ]
    },
    {
      "cell_type": "code",
      "metadata": {
        "id": "uxgp2LM6aoGF",
        "colab": {
          "base_uri": "https://localhost:8080/",
          "height": 368
        },
        "outputId": "52210be4-035e-4097-ee9e-b4020cfa75dd"
      },
      "source": [
        "inverted = 255 - filtered\n",
        "reshaped = inverted.reshape(28, 28, 1) / 255.0\n",
        "batch = np.array([reshaped])\n",
        "io.imshow(inverted, cmap='gray')"
      ],
      "execution_count": 14,
      "outputs": [
        {
          "output_type": "stream",
          "text": [
            "/usr/local/lib/python3.6/dist-packages/skimage/io/_plugins/matplotlib_plugin.py:150: UserWarning: Low image data range; displaying image with stretched contrast.\n",
            "  lo, hi, cmap = _get_display_range(image)\n"
          ],
          "name": "stderr"
        },
        {
          "output_type": "execute_result",
          "data": {
            "text/plain": [
              "<matplotlib.image.AxesImage at 0x7fc2afa1d860>"
            ]
          },
          "metadata": {
            "tags": []
          },
          "execution_count": 14
        },
        {
          "output_type": "display_data",
          "data": {
            "image/png": "[encoded data removed]",
            "text/plain": [
              "<Figure size 432x288 with 2 Axes>"
            ]
          },
          "metadata": {
            "tags": [],
            "needs_background": "light"
          }
        }
      ]
    },
    {
      "cell_type": "markdown",
      "metadata": {
        "id": "Sl8IMElxbP_1"
      },
      "source": [
        "# Prédiction avec un modèle pré-entrainé"
      ]
    },
    {
      "cell_type": "code",
      "metadata": {
        "id": "IIzLk-jHbTNN",
        "colab": {
          "base_uri": "https://localhost:8080/"
        },
        "outputId": "8b0dca0a-a982-47b2-e2b9-e92492b13a7b"
      },
      "source": [
        "predictions = restored_model.predict(batch)\n",
        "plus_probable = predictions.argmax(1)\n",
        "plus_probable"
      ],
      "execution_count": 15,
      "outputs": [
        {
          "output_type": "execute_result",
          "data": {
            "text/plain": [
              "array([5])"
            ]
          },
          "metadata": {
            "tags": []
          },
          "execution_count": 15
        }
      ]
    },
    {
      "cell_type": "markdown",
      "metadata": {
        "id": "wBuWWMMzb36t"
      },
      "source": [
        "# Afficher les probabilités"
      ]
    },
    {
      "cell_type": "code",
      "metadata": {
        "id": "9emfWHc9b6oG"
      },
      "source": [
        "\n",
        "bar(range(10), predictions[0], tick_label=range(10))\n",
        "plt.title('Valeurs prédites')\n",
        "plt.show()"
      ],
      "execution_count": null,
      "outputs": []
    },
    {
      "cell_type": "markdown",
      "metadata": {
        "id": "P4fMLOZvcNl9"
      },
      "source": [
        "# Combiner le code précédent dans une fonction"
      ]
    },
    {
      "cell_type": "code",
      "metadata": {
        "id": "tViwJQ4fcRTE"
      },
      "source": [
        "def prediction_chiffre(nom_fichier):\n",
        "  # Lecture de l'image\n",
        "  rgb = io.imread(nom_fichier)\n",
        "\n",
        "  # Conversion en N&B\n",
        "  gray = np.dot(rgb[...,:], [0.299, 0.587, 0.114, 0])\n",
        "\n",
        "  # Redimensionnement en 28x28 px\n",
        "  gray28x28 = transform.resize(gray, (28, 28))\n",
        "\n",
        "  # Filtrage du fond\n",
        "  vectorized_filter = np.vectorize(lambda v: 255 if v > 128 else v)\n",
        "  filtered = vectorized_filter(gray28x28)\n",
        "\n",
        "  # Inversion des \"couleurs\" et normalisation des valeurs\n",
        "  inverted = 255 - filtered\n",
        "  reshaped = inverted.reshape(28, 28, 1) / 255.0\n",
        "  batch = np.array([reshaped])\n",
        "\n",
        "  # Prédiction\n",
        "  predictions = restored_model.predict(batch)\n",
        "  plus_probable = predictions.argmax(1)\n",
        "  return plus_probable"
      ],
      "execution_count": null,
      "outputs": []
    },
    {
      "cell_type": "code",
      "metadata": {
        "id": "3URb8SW59lLA"
      },
      "source": [
        "prediction_chiffre(\"8.png\")"
      ],
      "execution_count": null,
      "outputs": []
    }
  ]
}