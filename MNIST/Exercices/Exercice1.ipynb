{
  "nbformat": 4,
  "nbformat_minor": 0,
  "metadata": {
    "colab": {
      "name": "Untitled9.ipynb",
      "provenance": [],
      "toc_visible": true,
      "authorship_tag": "ABX9TyNYkT95+oZJ4CuRKDTV/pT3",
      "include_colab_link": true
    },
    "kernelspec": {
      "name": "python3",
      "display_name": "Python 3"
    }
  },
  "cells": [
    {
      "cell_type": "markdown",
      "metadata": {
        "id": "view-in-github",
        "colab_type": "text"
      },
      "source": [
        "<a href=\"https://colab.research.google.com/github/AlexandreBourrieau/ML-F1/blob/master/MNIST/Exercices/Exercice1.ipynb\" target=\"_parent\"><img src=\"https://colab.research.google.com/assets/colab-badge.svg\" alt=\"Open In Colab\"/></a>"
      ]
    },
    {
      "cell_type": "markdown",
      "metadata": {
        "id": "0LIP6N6JvN7W",
        "colab_type": "text"
      },
      "source": [
        "# Chargement du modèle entrainé"
      ]
    },
    {
      "cell_type": "code",
      "metadata": {
        "id": "9hUls9qxvKfi",
        "colab_type": "code",
        "colab": {}
      },
      "source": [
        "from tensorflow.keras.models import model_from_json\n",
        "\n",
        "with open('model_MNIST1.json', 'r') as json_file:\n",
        "    loaded_model_json = json_file.read()\n",
        "restored_model = model_from_json(loaded_model_json)\n",
        "restored_model.load_weights(\"weights_MNIST1.h5\")"
      ],
      "execution_count": null,
      "outputs": []
    },
    {
      "cell_type": "markdown",
      "metadata": {
        "id": "2IS_a1AmYXze",
        "colab_type": "text"
      },
      "source": [
        "# Importation des modules Python pour traiter les images"
      ]
    },
    {
      "cell_type": "code",
      "metadata": {
        "id": "Xv2CnJaLXiDE",
        "colab_type": "code",
        "colab": {}
      },
      "source": [
        "from skimage import io, transform"
      ],
      "execution_count": null,
      "outputs": []
    },
    {
      "cell_type": "markdown",
      "metadata": {
        "id": "midNHWdQYgiO",
        "colab_type": "text"
      },
      "source": [
        "# Lecture des images"
      ]
    },
    {
      "cell_type": "code",
      "metadata": {
        "id": "LfAZ9yF8YjHG",
        "colab_type": "code",
        "colab": {}
      },
      "source": [
        "rgb = io.imread('8.png')\n",
        "print(f'Format original de l\\'image {rgb.shape}')\n",
        "plt.imshow(rgb)"
      ],
      "execution_count": null,
      "outputs": []
    },
    {
      "cell_type": "markdown",
      "metadata": {
        "id": "S9GLTYySZaJZ",
        "colab_type": "text"
      },
      "source": [
        "# Conversion de l'image en N&B"
      ]
    },
    {
      "cell_type": "markdown",
      "metadata": {
        "id": "Q88sRESi7Po3",
        "colab_type": "text"
      },
      "source": [
        "![ConversionGrayScale](../Images/GrayScaleConversion.png \"ConversionNB\")"
      ]
    },
    {
      "cell_type": "code",
      "metadata": {
        "id": "H21gJhmXZeAN",
        "colab_type": "code",
        "colab": {}
      },
      "source": [
        "gray = np.dot(rgb[...,:], [0.299, 0.587, 0.114, 0])\n",
        "print(f'Format de l\\'image en N&B {gray.shape}')\n",
        "plt.imshow(gray, cmap='gray')"
      ],
      "execution_count": null,
      "outputs": []
    },
    {
      "cell_type": "markdown",
      "metadata": {
        "id": "lXVjUvgoaFqm",
        "colab_type": "text"
      },
      "source": [
        "# Redimensionner l'image en 28x28px"
      ]
    },
    {
      "cell_type": "code",
      "metadata": {
        "id": "41fraZ9QZ3_V",
        "colab_type": "code",
        "colab": {}
      },
      "source": [
        "gray28x28 = transform.resize(gray, (28, 28))\n",
        "print(f'Format de l\\'image redimensionnée {gray28x28.shape}')\n",
        "plt.imshow(gray28x28, cmap='gray')"
      ],
      "execution_count": null,
      "outputs": []
    },
    {
      "cell_type": "markdown",
      "metadata": {
        "id": "m1HsbYxFaNj1",
        "colab_type": "text"
      },
      "source": [
        "# Filtrer le fond d'image"
      ]
    },
    {
      "cell_type": "code",
      "metadata": {
        "id": "DtTfgeNYaQg-",
        "colab_type": "code",
        "colab": {}
      },
      "source": [
        "vectorized_filter = np.vectorize(lambda v: 255 if v > 128 else v)\n",
        "filtered = vectorized_filter(gray28x28)\n",
        "plt.imshow(filtered, cmap='gray')"
      ],
      "execution_count": null,
      "outputs": []
    },
    {
      "cell_type": "markdown",
      "metadata": {
        "id": "Z5CZkz6_akX9",
        "colab_type": "text"
      },
      "source": [
        "# Inverser l'image et normaliser la valeur des pixels"
      ]
    },
    {
      "cell_type": "code",
      "metadata": {
        "id": "uxgp2LM6aoGF",
        "colab_type": "code",
        "colab": {}
      },
      "source": [
        "inverted = 255 - filtered\n",
        "reshaped = inverted.reshape(28, 28, 1) / 255.0\n",
        "batch = np.array([reshaped])\n",
        "plt.imshow(inverted, cmap='gray')"
      ],
      "execution_count": null,
      "outputs": []
    },
    {
      "cell_type": "markdown",
      "metadata": {
        "id": "Sl8IMElxbP_1",
        "colab_type": "text"
      },
      "source": [
        "# Prédiction avec un modèle pré-entrainé"
      ]
    },
    {
      "cell_type": "code",
      "metadata": {
        "id": "IIzLk-jHbTNN",
        "colab_type": "code",
        "colab": {}
      },
      "source": [
        "predictions = restored_model.predict(batch)\n",
        "plus_probable = predictions.argmax(1)\n",
        "plus_probable"
      ],
      "execution_count": null,
      "outputs": []
    },
    {
      "cell_type": "markdown",
      "metadata": {
        "id": "wBuWWMMzb36t",
        "colab_type": "text"
      },
      "source": [
        "# Afficher les probabilités"
      ]
    },
    {
      "cell_type": "code",
      "metadata": {
        "id": "9emfWHc9b6oG",
        "colab_type": "code",
        "colab": {}
      },
      "source": [
        "plt.bar(range(10), predictions[0], tick_label=range(10))\n",
        "plt.title('Valeurs prédites')\n",
        "plt.show()"
      ],
      "execution_count": null,
      "outputs": []
    },
    {
      "cell_type": "markdown",
      "metadata": {
        "id": "P4fMLOZvcNl9",
        "colab_type": "text"
      },
      "source": [
        "# Combiner le code précédent dans une fonction"
      ]
    },
    {
      "cell_type": "code",
      "metadata": {
        "id": "tViwJQ4fcRTE",
        "colab_type": "code",
        "colab": {}
      },
      "source": [
        "def prediction_chiffre(nom_fichier):\n",
        "  # Lecture de l'image\n",
        "  rgb = io.imread(nom_fichier)\n",
        "\n",
        "  # Conversion en N&B\n",
        "  gray = np.dot(rgb[...,:], [0.299, 0.587, 0.114, 0])\n",
        "\n",
        "  # Redimensionnement en 28x28 px\n",
        "  gray28x28 = transform.resize(gray, (28, 28))\n",
        "\n",
        "  # Filtrage du fond\n",
        "  vectorized_filter = np.vectorize(lambda v: 255 if v > 128 else v)\n",
        "  filtered = vectorized_filter(gray28x28)\n",
        "\n",
        "  # Inversion des \"couleurs\" et normalisation des valeurs\n",
        "  inverted = 255 - filtered\n",
        "  reshaped = inverted.reshape(28, 28, 1) / 255.0\n",
        "  batch = np.array([reshaped])\n",
        "\n",
        "  # Prédiction\n",
        "  predictions = restored_model.predict(batch)\n",
        "  plus_probable = predictions.argmax(1)\n",
        "  return plus_probable"
      ],
      "execution_count": null,
      "outputs": []
    },
    {
      "cell_type": "code",
      "metadata": {
        "id": "3URb8SW59lLA",
        "colab_type": "code",
        "colab": {}
      },
      "source": [
        "prediction_chiffre(\"8.png\")"
      ],
      "execution_count": null,
      "outputs": []
    }
  ]
}