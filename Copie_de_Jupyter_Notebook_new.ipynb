{
  "nbformat": 4,
  "nbformat_minor": 0,
  "metadata": {
    "kernelspec": {
      "display_name": "Python 3",
      "language": "python",
      "name": "python3"
    },
    "language_info": {
      "codemirror_mode": {
        "name": "ipython",
        "version": 3
      },
      "file_extension": ".py",
      "mimetype": "text/x-python",
      "name": "python",
      "nbconvert_exporter": "python",
      "pygments_lexer": "ipython3",
      "version": "3.6.8"
    },
    "colab": {
      "name": "Copie de Jupyter_Notebook (6).ipynb",
      "provenance": [],
      "toc_visible": true,
      "include_colab_link": true
    }
  },
  "cells": [
    {
      "cell_type": "markdown",
      "metadata": {
        "id": "view-in-github",
        "colab_type": "text"
      },
      "source": [
        "<a href=\"https://colab.research.google.com/github/AlexandreBourrieau/ML/blob/main/Copie_de_Jupyter_Notebook_new.ipynb\" target=\"_parent\"><img src=\"https://colab.research.google.com/assets/colab-badge.svg\" alt=\"Open In Colab\"/></a>"
      ]
    },
    {
      "cell_type": "markdown",
      "metadata": {
        "id": "M6NrAyJm0Nm-"
      },
      "source": [
        "## Cellules de code\n",
        "\n",
        "Voici quelques exemples de cellules de code en Python"
      ]
    },
    {
      "cell_type": "code",
      "metadata": {
        "id": "Bl-F-Lbb0Nm_",
        "colab": {
          "base_uri": "https://localhost:8080/"
        },
        "outputId": "ccb7a471-acfa-44c7-f69d-e8a7bc03bf4e"
      },
      "source": [
        "print('Mon premier carnet !')"
      ],
      "execution_count": null,
      "outputs": [
        {
          "output_type": "stream",
          "text": [
            "Mon premier carnet !\n"
          ],
          "name": "stdout"
        }
      ]
    },
    {
      "cell_type": "code",
      "metadata": {
        "id": "ntT0HwLO0NnG",
        "colab": {
          "base_uri": "https://localhost:8080/"
        },
        "outputId": "9ae816fc-2e94-498e-a13b-06fac72b9f15"
      },
      "source": [
        "def multiplication(x, y):\n",
        "    return(x*y)\n",
        "\n",
        "resultat = multiplication(2,4)\n",
        "print(resultat)"
      ],
      "execution_count": null,
      "outputs": [
        {
          "output_type": "stream",
          "text": [
            "8\n"
          ],
          "name": "stdout"
        }
      ]
    },
    {
      "cell_type": "markdown",
      "metadata": {
        "id": "Pgp4psHH0NnP"
      },
      "source": [
        "## Courbes\n",
        "\n",
        "Exemple d'utilisation de la librarie matplotlib pour afficher des courbes"
      ]
    },
    {
      "cell_type": "code",
      "metadata": {
        "id": "790C8MQf0NnQ",
        "colab": {
          "base_uri": "https://localhost:8080/"
        },
        "outputId": "582545c8-0597-45ce-ed1b-69a2ba6a8092"
      },
      "source": [
        "%%writefile toto.py\n",
        "\n",
        "import math\n",
        "import matplotlib.pyplot as plt\n",
        "\n",
        "x = [0.1*i for i in range(64)]\n",
        "sin = [math.sin(i) for i in x]\n",
        "cos = [math.cos(i) for i in x]\n",
        "\n",
        "plt.plot(x, sin, label='sin(x)', color='green', linewidth=2.5)\n",
        "plt.plot(x, cos, label='cos(x)', color='red', linewidth=0.5)\n",
        "plt.ylabel('y')\n",
        "plt.xlabel('x')\n",
        "plt.legend(loc='upper right')\n",
        "plt.show()\n"
      ],
      "execution_count": null,
      "outputs": [
        {
          "output_type": "stream",
          "text": [
            "Writing toto.py\n"
          ],
          "name": "stdout"
        }
      ]
    },
    {
      "cell_type": "markdown",
      "metadata": {
        "id": "3EyOMzNB712H"
      },
      "source": [
        "## Notations Mathématiques\n",
        "\n",
        "Jupyter permet d'afficher des expressions mathématiques en utlisant le langage [LaTeX](https://en.wikibooks.org/wiki/LaTeX/Mathematics). Voici quelques exemples :\n",
        "\n",
        "$$ \\epsilon = \\frac{1}{m} \\sum_{i=1}^{m} (a x_i + b - y_i)^2$$\n",
        "\n",
        "$$e^{i x} = cos x + i sin x$$\n",
        "\n",
        "$$ \\begin{bmatrix}\n",
        "a \\\\\n",
        "b\n",
        "\\end{bmatrix} = (A^T A)^{-1} A^T y$$"
      ]
    },
    {
      "cell_type": "markdown",
      "metadata": {
        "id": "TJS4chvE0NnV"
      },
      "source": [
        "## Magic Commands\n",
        "\n",
        "Jupyter supports a number of **magic commands**. These commands can appear in code cells and perform special operations.\n",
        "\n",
        "Below are a few magic commands, a more complete list is documented [here](https://ipython.readthedocs.io/en/stable/interactive/magics.html).\n",
        "\n",
        "* ```%system <command>``` or ```!<command>```\n",
        "  * Executes a system command\n",
        "* ```%run <file.py> [arguments]```\n",
        "  * Executes a python program\n",
        "* ```%time```\n",
        "  * Time execution of a cell\n",
        "* ```%whos```\n",
        "  * List all interactive variables\n",
        "* ```%load <file> or <url>```\n",
        "  * Loads this cell with contents of <file> or a <url>"
      ]
    },
    {
      "cell_type": "code",
      "metadata": {
        "colab": {
          "base_uri": "https://localhost:8080/"
        },
        "id": "hBctPRFqnz7R",
        "outputId": "617034b5-2437-4ca7-bb83-9e8bd2ce6602"
      },
      "source": [
        "%system ls -l"
      ],
      "execution_count": null,
      "outputs": [
        {
          "output_type": "execute_result",
          "data": {
            "text/plain": [
              "['total 8',\n",
              " 'drwxr-xr-x 1 root root 4096 Feb  1 17:27 sample_data',\n",
              " '-rw-r--r-- 1 root root  336 Feb  5 14:38 toto.py']"
            ]
          },
          "metadata": {
            "tags": []
          },
          "execution_count": 9
        }
      ]
    },
    {
      "cell_type": "code",
      "metadata": {
        "colab": {
          "base_uri": "https://localhost:8080/",
          "height": 296
        },
        "id": "nxc682cuoVYE",
        "outputId": "f7520de3-8f63-42af-ce2a-c306bd770853"
      },
      "source": [
        "%run toto.py"
      ],
      "execution_count": null,
      "outputs": [
        {
          "output_type": "display_data",
          "data": {
            "image/png": "[encoded data removed]",
            "text/plain": [
              "<Figure size 432x288 with 1 Axes>"
            ]
          },
          "metadata": {
            "tags": [],
            "needs_background": "light"
          }
        },
        {
          "output_type": "display_data",
          "data": {
            "text/plain": [
              "<Figure size 432x288 with 0 Axes>"
            ]
          },
          "metadata": {
            "tags": []
          }
        }
      ]
    }
  ]
}