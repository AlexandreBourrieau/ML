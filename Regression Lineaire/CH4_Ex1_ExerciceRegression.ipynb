{
  "nbformat": 4,
  "nbformat_minor": 0,
  "metadata": {
    "colab": {
      "name": "Untitled7.ipynb",
      "provenance": [],
      "authorship_tag": "ABX9TyPIM+lQngti9RoeUTc3WTpA",
      "include_colab_link": true
    },
    "kernelspec": {
      "name": "python3",
      "display_name": "Python 3"
    }
  },
  "cells": [
    {
      "cell_type": "markdown",
      "metadata": {
        "id": "view-in-github",
        "colab_type": "text"
      },
      "source": [
        "<a href=\"https://colab.research.google.com/github/AlexandreBourrieau/ML-F1/blob/master/Regression%20Lineaire/CH4_Ex1_ExerciceRegression.ipynb\" target=\"_parent\"><img src=\"https://colab.research.google.com/assets/colab-badge.svg\" alt=\"Open In Colab\"/></a>"
      ]
    },
    {
      "cell_type": "markdown",
      "metadata": {
        "id": "TuWN3a24yxMA",
        "colab_type": "text"
      },
      "source": [
        "Lecture du fichier csv :"
      ]
    },
    {
      "cell_type": "code",
      "metadata": {
        "id": "Cp5Yo0cyrIRL",
        "colab_type": "code",
        "colab": {}
      },
      "source": [
        "import math\n",
        "import numpy as np\n",
        "from matplotlib import pyplot as plt\n",
        "import pandas as pd\n",
        "\n",
        "# Importation des données à l'aide de pandas\n",
        "url = \"https://raw.githubusercontent.com/AlexandreBourrieau/ML-F1/master/Regression%20Lineaire/Ex1_Datas.csv\"\n",
        "df = pd.read_csv(url,sep=\",\",header=None)\n",
        "\n",
        "# Enregistrement des données dans au format NumPy dans les variables X et Y\n",
        "# X : Taille de la population\n",
        "# Y : Profit effectué\n",
        "X = np.array(df.iloc[0:len(df),0])\n",
        "Y = np.array(df.iloc[0:len(df),1])"
      ],
      "execution_count": 11,
      "outputs": []
    },
    {
      "cell_type": "markdown",
      "metadata": {
        "id": "auVhtDF00YI8",
        "colab_type": "text"
      },
      "source": [
        "Afficher les points :"
      ]
    },
    {
      "cell_type": "code",
      "metadata": {
        "id": "WKYcfTJU0dCl",
        "colab_type": "code",
        "colab": {
          "base_uri": "https://localhost:8080/",
          "height": 266
        },
        "outputId": "62cb4c9e-c0c2-40d9-b08d-b49f73b484a1"
      },
      "source": [
        "plt.scatter(X, Y, color='red')\n",
        "plt.show()"
      ],
      "execution_count": 12,
      "outputs": [
        {
          "output_type": "display_data",
          "data": {
            "image/png": "[encoded data removed]",
            "text/plain": [
              "<Figure size 432x288 with 1 Axes>"
            ]
          },
          "metadata": {
            "tags": [],
            "needs_background": "light"
          }
        }
      ]
    },
    {
      "cell_type": "markdown",
      "metadata": {
        "id": "kuw_No_p11ef",
        "colab_type": "text"
      },
      "source": [
        "Création de la matrice A sous la forme :\n",
        "\n",
        "$$A = \\begin{bmatrix}\n",
        "x_1 & 1 \\\\\n",
        "x_2 & 1 \\\\\n",
        "... \\\\\n",
        "x_n & 1\n",
        "\\end{bmatrix}$$"
      ]
    },
    {
      "cell_type": "code",
      "metadata": {
        "id": "Jc6gv7fV14-3",
        "colab_type": "code",
        "colab": {}
      },
      "source": [
        "x_colones = X.reshape((-1, 1))\n",
        "ones = np.ones((len(X), 1))\n",
        "A = np.append(x_colones, ones, axis=1)"
      ],
      "execution_count": 13,
      "outputs": []
    },
    {
      "cell_type": "markdown",
      "metadata": {
        "id": "lpVy_De62IYt",
        "colab_type": "text"
      },
      "source": [
        "Calcul de la matrice pseudo-inverse de $A$ : $(A^TA)^{-1}$. On la multiplie ensuite par $A^T$ afin d'obtenir $(A^T A)^{-1} A^T$"
      ]
    },
    {
      "cell_type": "code",
      "metadata": {
        "id": "n8EO1JSl2UeH",
        "colab_type": "code",
        "colab": {
          "base_uri": "https://localhost:8080/",
          "height": 1000
        },
        "outputId": "115bc12a-fe41-42cb-f3a5-1008f0f6d670"
      },
      "source": [
        "At = A.T\n",
        "pseudo_inv = np.linalg.inv(At.dot(A)).dot(At)\n",
        "pseudo_inv"
      ],
      "execution_count": 14,
      "outputs": [
        {
          "output_type": "execute_result",
          "data": {
            "text/plain": [
              "array([[-1.42568401e-03, -1.83077665e-03,  2.49565997e-04,\n",
              "        -8.04481695e-04, -1.59978203e-03,  1.55178857e-04,\n",
              "        -4.75343931e-04,  2.90951662e-04, -1.16408487e-03,\n",
              "        -2.15984485e-03, -1.70348964e-03,  4.17626577e-03,\n",
              "        -1.68728315e-03,  1.72915571e-04, -1.75217866e-03,\n",
              "        -1.93392781e-03, -1.24810821e-03, -2.10733027e-03,\n",
              "        -1.20345342e-03, -7.57462014e-04, -1.37073498e-03,\n",
              "         8.42333929e-03, -1.85692960e-03, -1.27544361e-03,\n",
              "        -1.80490191e-03,  7.50172572e-03,  3.24700108e-03,\n",
              "         1.94561317e-03,  3.48905505e-03,  9.76785175e-03,\n",
              "        -2.02226360e-03, -1.09230335e-03,  7.57044680e-04,\n",
              "        -1.57752419e-03,  3.56820949e-05, -1.57474196e-04,\n",
              "        -4.44461182e-05, -1.77610583e-03,  3.25256554e-03,\n",
              "        -1.25645490e-03, -1.91479998e-03, -8.88435473e-04,\n",
              "         2.46797678e-03, -1.65966952e-03, -2.33081286e-04,\n",
              "        -7.41951084e-04, -2.14899416e-03, -1.64040258e-03,\n",
              "         2.46241233e-03, -1.82110840e-03, -4.30967368e-04,\n",
              "        -1.98379927e-03, -5.11860694e-04, -3.87216807e-04,\n",
              "        -1.27078338e-03, -1.25262933e-03, -1.31154304e-03,\n",
              "        -1.75287422e-03,  8.00169239e-04,  8.99912171e-04,\n",
              "         4.62963009e-04, -2.07310885e-03,  9.12515671e-03,\n",
              "         4.69376048e-03,  7.51146353e-03, -6.54936853e-04,\n",
              "         9.41089169e-05,  1.44411628e-03, -1.85046092e-03,\n",
              "         8.47272386e-03,  1.37456054e-03, -5.74043526e-04,\n",
              "        -1.49795243e-03, -6.49581060e-04, -2.17911179e-03,\n",
              "        -1.12116898e-03, -4.32080260e-04, -2.17243444e-03,\n",
              "         1.47054747e-03, -2.12291076e-03, -1.69062183e-03,\n",
              "        -2.06677927e-03, -1.25485511e-03,  1.11908231e-03,\n",
              "        -1.14342682e-03,  2.48592217e-04,  7.09746776e-04,\n",
              "        -1.50087377e-03, -1.83585421e-03, -2.15650618e-03,\n",
              "        -1.70557631e-03, -3.63915634e-04, -1.59220046e-03,\n",
              "        -1.98539906e-03,  9.29264693e-05,  3.64068657e-03,\n",
              "        -1.89393326e-03],\n",
              "       [ 2.19425748e-02,  2.52480496e-02,  8.27286973e-03,\n",
              "         1.68736881e-02,  2.33631798e-02,  9.04304991e-03,\n",
              "         1.41879898e-02,  7.93517097e-03,  1.98079781e-02,\n",
              "         2.79331804e-02,  2.42094131e-02, -2.37682151e-02,\n",
              "         2.40771714e-02,  8.89832188e-03,  2.46067058e-02,\n",
              "         2.60897425e-02,  2.04935917e-02,  2.75046719e-02,\n",
              "         2.01292176e-02,  1.64900169e-02,  2.14942016e-02,\n",
              "        -5.84234856e-02,  2.54614525e-02,  2.07166431e-02,\n",
              "         2.50369170e-02, -5.09033032e-02, -1.61856010e-02,\n",
              "        -5.56653602e-03, -1.81607131e-02, -6.93944384e-02,\n",
              "         2.68105449e-02,  1.92222552e-02,  4.13194517e-03,\n",
              "         2.31815603e-02,  1.00181196e-02,  1.15942363e-02,\n",
              "         1.06719498e-02,  2.48019467e-02, -1.62310059e-02,\n",
              "         2.05616990e-02,  2.59336632e-02,  1.75587341e-02,\n",
              "        -9.82891861e-03,  2.38518497e-02,  1.22111750e-02,\n",
              "         1.63634508e-02,  2.78446409e-02,  2.36946354e-02,\n",
              "        -9.78351374e-03,  2.51691587e-02,  1.38258859e-02,\n",
              "         2.64966837e-02,  1.44859592e-02,  1.34688901e-02,\n",
              "         2.06786166e-02,  2.05304832e-02,  2.10112073e-02,\n",
              "         2.46123814e-02,  3.78005740e-03,  2.96617502e-03,\n",
              "         6.53159279e-03,  2.72254319e-02, -6.41501753e-02,\n",
              "        -2.79908684e-02, -5.09827617e-02,  1.56534321e-02,\n",
              "         9.54136841e-03, -1.47442170e-03,  2.54086694e-02,\n",
              "        -5.88264538e-02, -9.06860774e-04,  1.49933587e-02,\n",
              "         2.25322706e-02,  1.56097299e-02,  2.80903948e-02,\n",
              "         1.94577930e-02,  1.38349669e-02,  2.80359089e-02,\n",
              "        -1.69009486e-03,  2.76318055e-02,  2.41044143e-02,\n",
              "         2.71737839e-02,  2.05486451e-02,  1.17779053e-03,\n",
              "         1.96394125e-02,  8.28081558e-03,  4.51788661e-03,\n",
              "         2.25561081e-02,  2.52894816e-02,  2.79059375e-02,\n",
              "         2.42264399e-02,  1.32787571e-02,  2.33013156e-02,\n",
              "         2.65097376e-02,  9.55101695e-03, -1.93979959e-02,\n",
              "         2.57633949e-02]])"
            ]
          },
          "metadata": {
            "tags": []
          },
          "execution_count": 14
        }
      ]
    },
    {
      "cell_type": "markdown",
      "metadata": {
        "id": "24gusoLG2eG9",
        "colab_type": "text"
      },
      "source": [
        "Calcul de a et b : (a,b) = $(A^TA)^{−1}A^TY$"
      ]
    },
    {
      "cell_type": "code",
      "metadata": {
        "id": "YttZ99YU2hw7",
        "colab_type": "code",
        "colab": {}
      },
      "source": [
        "(a, b) = pseudo_inv.dot(Y)"
      ],
      "execution_count": null,
      "outputs": []
    },
    {
      "cell_type": "markdown",
      "metadata": {
        "id": "tNbNoxcs3EDf",
        "colab_type": "text"
      },
      "source": [
        "Affichage des données"
      ]
    },
    {
      "cell_type": "code",
      "metadata": {
        "id": "HBXErnAN3HzF",
        "colab_type": "code",
        "colab": {
          "base_uri": "https://localhost:8080/",
          "height": 265
        },
        "outputId": "8aebc914-bebb-437d-be5e-41e48c77a235"
      },
      "source": [
        "x_points = [0, 25]\n",
        "y_points = [a*X + b for X in x_points]\n",
        "plt.scatter(X, Y, color='red')\n",
        "plt.plot(x_points, y_points)\n",
        "plt.show()"
      ],
      "execution_count": 10,
      "outputs": [
        {
          "output_type": "display_data",
          "data": {
            "image/png": "[encoded data removed]",
            "text/plain": [
              "<Figure size 432x288 with 1 Axes>"
            ]
          },
          "metadata": {
            "tags": [],
            "needs_background": "light"
          }
        }
      ]
    },
    {
      "cell_type": "markdown",
      "metadata": {
        "id": "Lb9cjM4-3UaL",
        "colab_type": "text"
      },
      "source": [
        "Calcul de l'erreur quadratique moyenne"
      ]
    },
    {
      "cell_type": "code",
      "metadata": {
        "id": "d5hABS0x3XF7",
        "colab_type": "code",
        "colab": {}
      },
      "source": [
        "epsilon = ((a*X + b - Y)**2).mean()     # Calcule la variance (erreur quadratique moyenne)\n",
        "math.sqrt(epsilon) "
      ],
      "execution_count": null,
      "outputs": []
    }
  ]
}