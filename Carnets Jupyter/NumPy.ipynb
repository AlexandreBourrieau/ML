{
  "nbformat": 4,
  "nbformat_minor": 0,
  "metadata": {
    "kernelspec": {
      "display_name": "Python 3",
      "language": "python",
      "name": "python3"
    },
    "language_info": {
      "codemirror_mode": {
        "name": "ipython",
        "version": 3
      },
      "file_extension": ".py",
      "mimetype": "text/x-python",
      "name": "python",
      "nbconvert_exporter": "python",
      "pygments_lexer": "ipython3",
      "version": "3.6.8"
    },
    "colab": {
      "name": "NumPy.ipynb",
      "provenance": []
    }
  },
  "cells": [
    {
      "cell_type": "markdown",
      "metadata": {
        "id": "EShAay3afjdK"
      },
      "source": [
        "# NumPy\n",
        "\n",
        "[NumPy](https://numpy.org) est une librairie en Python qui permet de manipuler des tableaux de plusieurs dimensions. Il possède des fonctions avancées dans le domaine de l'algèbre linéaire, de l'analyse statistique et de la transformation de données."
      ]
    },
    {
      "cell_type": "code",
      "metadata": {
        "id": "3BookU22fjdM"
      },
      "source": [
        "import numpy as np"
      ],
      "execution_count": null,
      "outputs": []
    },
    {
      "cell_type": "markdown",
      "metadata": {
        "id": "GAeFD-CqfjdS"
      },
      "source": [
        "# Créer des tableaux avec NumPy\n",
        "\n",
        "Les tableaux sous NumPy peuvent être créés de plusieurs manières, nous allons voir certaines d'entre elles. La [documentation de NumPy](https://numpy.org/doc/stable/) explique en détail comment [créer des tableaux](https://numpy.org/doc/stable/reference/routines.array-creation.html)."
      ]
    },
    {
      "cell_type": "code",
      "metadata": {
        "id": "QOf7E6ChfjdT"
      },
      "source": [
        "a = np.zeros(5)\n",
        "a"
      ],
      "execution_count": null,
      "outputs": []
    },
    {
      "cell_type": "code",
      "metadata": {
        "id": "3ZN1S7WrfjdY"
      },
      "source": [
        "a = np.ones(5)\n",
        "a"
      ],
      "execution_count": null,
      "outputs": []
    },
    {
      "cell_type": "code",
      "metadata": {
        "id": "cEpKLONwfjdc"
      },
      "source": [
        "np.random.random(5)"
      ],
      "execution_count": null,
      "outputs": []
    },
    {
      "cell_type": "code",
      "metadata": {
        "id": "84Mh6Sjifjdh"
      },
      "source": [
        "np.array([1, 2, 3, 4, 5])"
      ],
      "execution_count": null,
      "outputs": []
    },
    {
      "cell_type": "code",
      "metadata": {
        "id": "A8cTMm2Mfjdl"
      },
      "source": [
        "np.zeros((2, 2))"
      ],
      "execution_count": null,
      "outputs": []
    },
    {
      "cell_type": "code",
      "metadata": {
        "id": "h48HyGbNfjdq"
      },
      "source": [
        "np.random.random((2, 2))"
      ],
      "execution_count": null,
      "outputs": []
    },
    {
      "cell_type": "code",
      "metadata": {
        "id": "NJ8XBcYXfjdv"
      },
      "source": [
        "np.array([[1, 2], [3, 4]])"
      ],
      "execution_count": null,
      "outputs": []
    },
    {
      "cell_type": "markdown",
      "metadata": {
        "id": "VhVnFItIfjdz"
      },
      "source": [
        "# Operations de base sur les tableaux"
      ]
    },
    {
      "cell_type": "code",
      "metadata": {
        "id": "tPE6RbGbfjdz"
      },
      "source": [
        "a = np.ones(5)\n",
        "a"
      ],
      "execution_count": null,
      "outputs": []
    },
    {
      "cell_type": "code",
      "metadata": {
        "id": "F3nMaAjVfjd3"
      },
      "source": [
        "a * 2"
      ],
      "execution_count": null,
      "outputs": []
    },
    {
      "cell_type": "code",
      "metadata": {
        "id": "z3lr6jpYfjd7"
      },
      "source": [
        "b = np.array([1, 2, 3, 4, 5])\n",
        "b"
      ],
      "execution_count": null,
      "outputs": []
    },
    {
      "cell_type": "code",
      "metadata": {
        "id": "Q8qmWNGsfjeA"
      },
      "source": [
        "a + b"
      ],
      "execution_count": null,
      "outputs": []
    },
    {
      "cell_type": "code",
      "metadata": {
        "id": "n79c4RSbfjeD"
      },
      "source": [
        "# Sélection des données dans un tableau 1D\n",
        "\n",
        "b[1:4]"
      ],
      "execution_count": null,
      "outputs": []
    },
    {
      "cell_type": "code",
      "metadata": {
        "id": "zX4qyfmqfjeH"
      },
      "source": [
        "a = np.array([[1, 2, 3], [4, 5, 6], [7, 8, 9]])\n",
        "a"
      ],
      "execution_count": null,
      "outputs": []
    },
    {
      "cell_type": "code",
      "metadata": {
        "id": "HMghp9iofjeL"
      },
      "source": [
        "# Inverser les colones\n",
        "\n",
        "a[:, ::-1]"
      ],
      "execution_count": null,
      "outputs": []
    },
    {
      "cell_type": "code",
      "metadata": {
        "id": "g0tSlvlCfjeS"
      },
      "source": [
        "# Inverser les lignes\n",
        "\n",
        "a[::-1]"
      ],
      "execution_count": null,
      "outputs": []
    },
    {
      "cell_type": "code",
      "metadata": {
        "id": "qhwbbTCwfjeV"
      },
      "source": [
        "# Sélectionner une partie des lignes et des colones\n",
        "\n",
        "a[1:3, 1:3]"
      ],
      "execution_count": null,
      "outputs": []
    },
    {
      "cell_type": "markdown",
      "metadata": {
        "id": "dAlW1JJafjeZ"
      },
      "source": [
        "# Fonctions statistiques"
      ]
    },
    {
      "cell_type": "markdown",
      "metadata": {
        "id": "Y08PqIa7K-4i"
      },
      "source": [
        "Nous allons voir quelques unes des [fonctions statistiques disponibles dans la librairie NumPy](https://numpy.org/doc/stable/reference/routines.statistics.html)."
      ]
    },
    {
      "cell_type": "markdown",
      "metadata": {
        "id": "LNdtLHk89FJH"
      },
      "source": [
        "Valeur moyenne :\n",
        "$\\overline x  = \\frac{1}{n}\\sum\\limits_{i = 1}^n {{x_i}} $"
      ]
    },
    {
      "cell_type": "code",
      "metadata": {
        "id": "gt_jXWmNfjea"
      },
      "source": [
        "a = np.array([1, 2, 3, 4, 5])\n",
        "\n",
        "# Valeur moyenne (mean value)\n",
        "\n",
        "np.mean(a)"
      ],
      "execution_count": null,
      "outputs": []
    },
    {
      "cell_type": "markdown",
      "metadata": {
        "id": "bCOxFQKW_src"
      },
      "source": [
        "L'écart type $\\sigma$ permet de quantifier de combien les valeurs s'écartent de la valeur moyenne. L'écart type est égal à la racine carrée de la variance $V$.  \n",
        "$\\begin{array}{l}\n",
        "V = \\frac{1}{n}{\\sum\\limits_{i = 1}^n {\\left( {{x_i} - \\overline x } \\right)} ^2}\\\\  \n",
        "\\sigma  = \\sqrt V  = \\sqrt {\\frac{1}{n}{{\\sum\\limits_{i = 1}^n {\\left( {{x_i} - \\overline x } \\right)} }^2}} \n",
        "\\end{array}$\n"
      ]
    },
    {
      "cell_type": "code",
      "metadata": {
        "id": "fv-BSjj7fjed"
      },
      "source": [
        "# Ecart type\n",
        "\n",
        "np.std(a)"
      ],
      "execution_count": null,
      "outputs": []
    },
    {
      "cell_type": "code",
      "metadata": {
        "id": "CrruK4A3fjeh"
      },
      "source": [
        "# valeur minimale\n",
        "\n",
        "np.min(a)"
      ],
      "execution_count": null,
      "outputs": []
    },
    {
      "cell_type": "code",
      "metadata": {
        "id": "D6bXj_Wufjek"
      },
      "source": [
        "# Index de la valeur maximale\n",
        "\n",
        "np.argmax(a)"
      ],
      "execution_count": null,
      "outputs": []
    },
    {
      "cell_type": "markdown",
      "metadata": {
        "id": "GCCYtqsbfjen"
      },
      "source": [
        "# Algebre Linéaire"
      ]
    },
    {
      "cell_type": "markdown",
      "metadata": {
        "id": "P4ecUf97LSMF"
      },
      "source": [
        "Nous allons voir quelques unes des [fonctions de l'algèbre linéaire disponibles dans la librairie NumPy](https://numpy.org/doc/stable/reference/routines.linalg.html)."
      ]
    },
    {
      "cell_type": "code",
      "metadata": {
        "id": "2f2HfBKgfjeo"
      },
      "source": [
        "a = 2 * np.ones(5)\n",
        "b = np.array([1, 2, 3, 4, 5])\n",
        "\n",
        "# Produit scalaire de deux vecteurs\n",
        "\n",
        "a.dot(b)"
      ],
      "execution_count": null,
      "outputs": []
    },
    {
      "cell_type": "code",
      "metadata": {
        "id": "cCTZiViSfjer"
      },
      "source": [
        "a = np.array([[1, 2], [3, 4]])\n",
        "a"
      ],
      "execution_count": null,
      "outputs": []
    },
    {
      "cell_type": "code",
      "metadata": {
        "id": "-tVmwIyafjev"
      },
      "source": [
        "# Transposée d'une matrice\n",
        "\n",
        "a.T"
      ],
      "execution_count": null,
      "outputs": []
    },
    {
      "cell_type": "code",
      "metadata": {
        "id": "VDk4tWdkfjey"
      },
      "source": [
        "# Déterminant d'une matrice\n",
        "\n",
        "np.linalg.det(a)"
      ],
      "execution_count": null,
      "outputs": []
    },
    {
      "cell_type": "code",
      "metadata": {
        "id": "7KsCJLfnfje2"
      },
      "source": [
        "# Inverse d'une matrice\n",
        "\n",
        "b = np.linalg.inv(a)\n",
        "b"
      ],
      "execution_count": null,
      "outputs": []
    },
    {
      "cell_type": "code",
      "metadata": {
        "id": "YFU7eDDbfje6"
      },
      "source": [
        "a.dot(b)"
      ],
      "execution_count": null,
      "outputs": []
    },
    {
      "cell_type": "markdown",
      "metadata": {
        "id": "Lawbprjmfje9"
      },
      "source": [
        "# Visualisation des données\n",
        "\n",
        "[Matplotlib](https://matplotlib.org) est une puissante librairie permettant de visualiser les données et facile à utliser. Elle peut être utilisée avec NumPy et Pandas."
      ]
    },
    {
      "cell_type": "code",
      "metadata": {
        "id": "bYhLzFt-fje-"
      },
      "source": [
        "import math\n",
        "import matplotlib.pyplot as plt"
      ],
      "execution_count": 3,
      "outputs": []
    },
    {
      "cell_type": "code",
      "metadata": {
        "id": "s17PowqVfjfB"
      },
      "source": [
        "x = np.arange(0, 2*math.pi, 2*math.pi/50)\n",
        "sin = np.sin(x)\n",
        "cos = np.cos(x)"
      ],
      "execution_count": null,
      "outputs": []
    },
    {
      "cell_type": "code",
      "metadata": {
        "id": "9CrmaUyKfjfE"
      },
      "source": [
        "plt.plot(x, sin, label='sin(x)', color='blue', linewidth=2.5)\n",
        "plt.plot(x, cos, label='cos(x)', color='red', linewidth=0.5)\n",
        "plt.ylabel('y')\n",
        "plt.xlabel('x')\n",
        "plt.legend(loc='upper right')\n",
        "plt.show()"
      ],
      "execution_count": null,
      "outputs": []
    },
    {
      "cell_type": "code",
      "metadata": {
        "id": "ni2skJRIfjfI"
      },
      "source": [
        "plt.scatter(x, sin, label='sin(x)', color='green')\n",
        "plt.ylabel('y')\n",
        "plt.xlabel('x')\n",
        "plt.legend(loc='upper right')\n",
        "plt.show()"
      ],
      "execution_count": null,
      "outputs": []
    },
    {
      "cell_type": "code",
      "metadata": {
        "id": "7oMadTbufjfL"
      },
      "source": [
        "x = np.arange(0, math.pi, math.pi/10)\n",
        "plt.bar(x, np.sin(x), align='center', width=0.2)"
      ],
      "execution_count": null,
      "outputs": []
    },
    {
      "cell_type": "code",
      "metadata": {
        "id": "jrRdG8jdfjfP"
      },
      "source": [
        "x = np.arange(0, math.pi, math.pi/10)\n",
        "plt.barh(x, np.sin(x), align='center', height=0.2)"
      ],
      "execution_count": null,
      "outputs": []
    },
    {
      "cell_type": "markdown",
      "metadata": {
        "id": "a1FsRYFyfjfS"
      },
      "source": [
        "# Travailler avec des images\n",
        "\n",
        "NumPy et Matplotlib permettent de travailler avec des images."
      ]
    },
    {
      "cell_type": "code",
      "metadata": {
        "id": "VO7J3w5TfjfT"
      },
      "source": [
        "from skimage import io"
      ],
      "execution_count": 1,
      "outputs": []
    },
    {
      "cell_type": "code",
      "metadata": {
        "id": "kr2AQSYafjfW"
      },
      "source": [
        "h500 = io.imread('https://cobalt-architectes.com/wp-content/uploads/2014/03/cobalt-architecture-lycee-francois-premier-fontainebleau10.jpg')\n",
        "plt.imshow(h500)"
      ],
      "execution_count": null,
      "outputs": []
    },
    {
      "cell_type": "code",
      "metadata": {
        "id": "lScVZM9HfjfZ",
        "colab": {
          "base_uri": "https://localhost:8080/"
        },
        "outputId": "e02e7c01-d44f-472d-923b-5c71155cde6f"
      },
      "source": [
        "h500.shape"
      ],
      "execution_count": 5,
      "outputs": [
        {
          "output_type": "execute_result",
          "data": {
            "text/plain": [
              "(800, 1300, 3)"
            ]
          },
          "metadata": {
            "tags": []
          },
          "execution_count": 5
        }
      ]
    },
    {
      "cell_type": "code",
      "metadata": {
        "id": "cbinsgPRVUsI",
        "colab": {
          "base_uri": "https://localhost:8080/"
        },
        "outputId": "a8d27e23-3140-4d41-f309-368e09699f12"
      },
      "source": [
        "h500[0][0]"
      ],
      "execution_count": 6,
      "outputs": [
        {
          "output_type": "execute_result",
          "data": {
            "text/plain": [
              "array([144, 161, 187], dtype=uint8)"
            ]
          },
          "metadata": {
            "tags": []
          },
          "execution_count": 6
        }
      ]
    },
    {
      "cell_type": "code",
      "metadata": {
        "id": "ImqcVS9Xfjfd"
      },
      "source": [
        "plt.imshow(h500[:, ::-1])"
      ],
      "execution_count": null,
      "outputs": []
    },
    {
      "cell_type": "code",
      "metadata": {
        "id": "YtlKclHUfjfg"
      },
      "source": [
        "plt.imshow(h500[::-1])"
      ],
      "execution_count": null,
      "outputs": []
    },
    {
      "cell_type": "code",
      "metadata": {
        "id": "nj0dNU9Jfjfj"
      },
      "source": [
        "plt.imshow(h500[500:800, 0:200])"
      ],
      "execution_count": null,
      "outputs": []
    },
    {
      "cell_type": "markdown",
      "metadata": {
        "id": "Vp6IrCR4fjfn"
      },
      "source": [
        "# Transformer les données"
      ]
    },
    {
      "cell_type": "code",
      "metadata": {
        "id": "pGZkEHJlfjfo"
      },
      "source": [
        "a = np.array([[1, 2], [3, 4]])\n",
        "a"
      ],
      "execution_count": null,
      "outputs": []
    },
    {
      "cell_type": "code",
      "metadata": {
        "id": "X8GahjmqaHPa"
      },
      "source": [
        "a.shape"
      ],
      "execution_count": null,
      "outputs": []
    },
    {
      "cell_type": "code",
      "metadata": {
        "id": "v_k2A3rafjfu"
      },
      "source": [
        "a.reshape(4, 1)"
      ],
      "execution_count": null,
      "outputs": []
    },
    {
      "cell_type": "code",
      "metadata": {
        "id": "nZGzQ24efjfx"
      },
      "source": [
        "a.reshape(1, 4)"
      ],
      "execution_count": null,
      "outputs": []
    },
    {
      "cell_type": "code",
      "metadata": {
        "id": "-E7r-MCMfjf2"
      },
      "source": [
        "a.reshape(4, 1).shape"
      ],
      "execution_count": null,
      "outputs": []
    },
    {
      "cell_type": "code",
      "metadata": {
        "id": "g4CRqNfDfjf5"
      },
      "source": [
        "a = np.array([[1, 2, 3], [4, 5, 6]])\n",
        "a"
      ],
      "execution_count": null,
      "outputs": []
    },
    {
      "cell_type": "code",
      "metadata": {
        "id": "QEz2ISXIfjf9"
      },
      "source": [
        "a.shape"
      ],
      "execution_count": null,
      "outputs": []
    },
    {
      "cell_type": "code",
      "metadata": {
        "id": "jJVLFMTNfjgA"
      },
      "source": [
        "a.reshape(3, 2)"
      ],
      "execution_count": null,
      "outputs": []
    },
    {
      "cell_type": "code",
      "metadata": {
        "id": "02huDvzSfjgE"
      },
      "source": [
        "a = np.arange(0, 6)\n",
        "a"
      ],
      "execution_count": null,
      "outputs": []
    },
    {
      "cell_type": "code",
      "metadata": {
        "id": "eg0dYx_Ta05i"
      },
      "source": [
        "a.shape"
      ],
      "execution_count": null,
      "outputs": []
    },
    {
      "cell_type": "code",
      "metadata": {
        "id": "UZsL8SYZfjgG"
      },
      "source": [
        "a = a.reshape(2, 3)"
      ],
      "execution_count": null,
      "outputs": []
    },
    {
      "cell_type": "code",
      "metadata": {
        "id": "LCWs0j8mfjgJ"
      },
      "source": [
        "a.shape"
      ],
      "execution_count": null,
      "outputs": []
    }
  ]
}