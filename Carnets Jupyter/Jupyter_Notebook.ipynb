{
  "nbformat": 4,
  "nbformat_minor": 0,
  "metadata": {
    "kernelspec": {
      "display_name": "Python 3",
      "language": "python",
      "name": "python3"
    },
    "language_info": {
      "codemirror_mode": {
        "name": "ipython",
        "version": 3
      },
      "file_extension": ".py",
      "mimetype": "text/x-python",
      "name": "python",
      "nbconvert_exporter": "python",
      "pygments_lexer": "ipython3",
      "version": "3.6.8"
    },
    "colab": {
      "name": "Jupyter_Notebook (6).ipynb",
      "provenance": [],
      "include_colab_link": true
    }
  },
  "cells": [
    {
      "cell_type": "markdown",
      "metadata": {
        "id": "view-in-github",
        "colab_type": "text"
      },
      "source": [
        "<a href=\"https://colab.research.google.com/github/AlexandreBourrieau/ML-F1/blob/master/Carnets%20Jupyter/Jupyter_Notebook.ipynb\" target=\"_parent\"><img src=\"https://colab.research.google.com/assets/colab-badge.svg\" alt=\"Open In Colab\"/></a>"
      ]
    },
    {
      "cell_type": "markdown",
      "metadata": {
        "id": "M6NrAyJm0Nm-",
        "colab_type": "text"
      },
      "source": [
        "## Cellules de code\n",
        "\n",
        "Voici quelques exemples de cellules de code en Python"
      ]
    },
    {
      "cell_type": "code",
      "metadata": {
        "id": "Bl-F-Lbb0Nm_",
        "colab_type": "code",
        "colab": {}
      },
      "source": [
        "print('Mon premier carnet !')"
      ],
      "execution_count": null,
      "outputs": []
    },
    {
      "cell_type": "code",
      "metadata": {
        "id": "ntT0HwLO0NnG",
        "colab_type": "code",
        "colab": {}
      },
      "source": [
        "def multiplication(x, y):\n",
        "    return(x*y)\n",
        "\n",
        "resultat = multiplication(2,4)\n",
        "print(resultat)"
      ],
      "execution_count": null,
      "outputs": []
    },
    {
      "cell_type": "markdown",
      "metadata": {
        "id": "Pgp4psHH0NnP",
        "colab_type": "text"
      },
      "source": [
        "## Courbes\n",
        "\n",
        "Exemple d'utilisation de la librarie matplotlib pour afficher des courbes"
      ]
    },
    {
      "cell_type": "code",
      "metadata": {
        "id": "790C8MQf0NnQ",
        "colab_type": "code",
        "colab": {}
      },
      "source": [
        "import math\n",
        "import matplotlib.pyplot as plt\n",
        "\n",
        "x = [0.1*i for i in range(64)]\n",
        "sin = [math.sin(i) for i in x]\n",
        "cos = [math.cos(i) for i in x]\n",
        "\n",
        "plt.plot(x, sin, label='sin(x)', color='blue', linewidth=2.5)\n",
        "plt.plot(x, cos, label='cos(x)', color='red', linewidth=0.5)\n",
        "plt.ylabel('y')\n",
        "plt.xlabel('x')\n",
        "plt.legend(loc='upper right')\n",
        "plt.show()\n"
      ],
      "execution_count": null,
      "outputs": []
    },
    {
      "cell_type": "markdown",
      "metadata": {
        "id": "3EyOMzNB712H",
        "colab_type": "text"
      },
      "source": [
        "## Notations Mathématiques\n",
        "\n",
        "Jupyter permet d'afficher des expressions mathématiques en utlisant le langage [LaTeX](https://en.wikibooks.org/wiki/LaTeX/Mathematics). Voici quelques exemples :\n",
        "\n",
        "$$ \\epsilon = \\frac{1}{m} \\sum_{i=1}^{m} (a x_i + b - y_i)^2$$\n",
        "\n",
        "$$e^{i x} = cos x + i sin x$$\n",
        "\n",
        "$$ \\begin{bmatrix}\n",
        "a \\\\\n",
        "b\n",
        "\\end{bmatrix} = (A^T A)^{-1} A^T y$$"
      ]
    },
    {
      "cell_type": "markdown",
      "metadata": {
        "id": "TJS4chvE0NnV",
        "colab_type": "text"
      },
      "source": [
        "## Magic Commands\n",
        "\n",
        "Jupyter supports a number of **magic commands**. These commands can appear in code cells and perform special operations.\n",
        "\n",
        "Below are a few magic commands, a more complete list is documented [here](https://ipython.readthedocs.io/en/stable/interactive/magics.html).\n",
        "\n",
        "* ```%system <command>``` or ```!<command>```\n",
        "  * Executes a system command\n",
        "* ```%run <file.py> [arguments]```\n",
        "  * Executes a python program\n",
        "* ```%time```\n",
        "  * Time execution of a cell\n",
        "* ```%whos```\n",
        "  * List all interactive variables\n",
        "* ```%load <file> or <url>```\n",
        "  * Loads this cell with contents of <file> or a <url>"
      ]
    }
  ]
}