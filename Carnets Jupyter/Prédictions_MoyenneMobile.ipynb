{
  "nbformat": 4,
  "nbformat_minor": 0,
  "metadata": {
    "accelerator": "GPU",
    "colab": {
      "name": "Prédictions.ipynb",
      "provenance": [],
      "collapsed_sections": [],
      "include_colab_link": true
    },
    "kernelspec": {
      "display_name": "Python 3",
      "name": "python3"
    }
  },
  "cells": [
    {
      "cell_type": "markdown",
      "metadata": {
        "id": "view-in-github",
        "colab_type": "text"
      },
      "source": [
        "<a href=\"https://colab.research.google.com/github/AlexandreBourrieau/ML/blob/main/Carnets%20Jupyter/Pr%C3%A9dictions_MoyenneMobile.ipynb\" target=\"_parent\"><img src=\"https://colab.research.google.com/assets/colab-badge.svg\" alt=\"Open In Colab\"/></a>"
      ]
    },
    {
      "cell_type": "markdown",
      "metadata": {
        "id": "BpW1-VFLBHbS"
      },
      "source": [
        "Dans ce carnet, nous allons mettre en place trois méthodes de prédictions et comparer les erreurs obtenues :\r\n",
        "  - La méthode \"naïve\"\r\n",
        "  - La méthode par moyenne mobile\r\n",
        "  - La méthode par moyenne mobile différenciée"
      ]
    },
    {
      "cell_type": "markdown",
      "metadata": {
        "id": "rC-GUAy5dFq9"
      },
      "source": [
        "# Création de la série temporelle expérimentale"
      ]
    },
    {
      "cell_type": "markdown",
      "metadata": {
        "id": "I9x4GjlEVTQN"
      },
      "source": [
        "Commençons par créer la série temporelle bruitée avec une tendance et une saisonnalitée :"
      ]
    },
    {
      "cell_type": "code",
      "metadata": {
        "id": "gqWabzlJ63nL"
      },
      "source": [
        "import numpy as np\n",
        "import matplotlib.pyplot as plt\n",
        "import tensorflow as tf\n",
        "from tensorflow import keras\n",
        "\n",
        "# Fonction permettant d'afficher une série temporelle\n",
        "def affiche_serie(temps, serie, format=\"-\", debut=0, fin=None, label=None):\n",
        "    plt.plot(temps[debut:fin], serie[debut:fin], format, label=label)\n",
        "    plt.xlabel(\"Temps\")\n",
        "    plt.ylabel(\"Valeur\")\n",
        "    if label:\n",
        "        plt.legend(fontsize=14)\n",
        "    plt.grid(True)\n",
        "\n",
        "# Fonction permettant de créer une tendance\n",
        "def tendance(temps, pente=0):\n",
        "    return pente * temps\n",
        "\n",
        "# Fonction permettant de créer un motif\n",
        "def motif_periodique(instants):\n",
        "    return (np.where(instants < 0.4,                            # Si les instants sont < 0.4\n",
        "                    np.cos(instants * 2 * np.pi),               # Alors on retourne la fonction cos(2*pi*t)\n",
        "                    1 / np.exp(3 * instants)))                  # Sinon, on retourne la fonction exp(-3t)\n",
        "\n",
        "# Fonction permettant de créer une saisonnalité avec un motif\n",
        "def saisonnalite(temps, periode, amplitude=1, phase=0):\n",
        "    \"\"\"Répétition du motif sur la même période\"\"\"\n",
        "    instants = ((temps + phase) % periode) / periode            # Mapping du temps =[0 1 2 ... 1460] => instants = [0.0 ... 1.0]\n",
        "    return amplitude * motif_periodique(instants)\n",
        "\n",
        "# Fonction permettant de générer du bruit gaussien N(0,1)\n",
        "def bruit_blanc(temps, niveau_bruit=1, graine=None):\n",
        "    rnd = np.random.RandomState(graine)\n",
        "    return rnd.randn(len(temps)) * niveau_bruit\n",
        "\n",
        "# Création de la série temporelle\n",
        "temps = np.arange(4 * 365)                # temps = [0 1 2 .... 4*365] = [0 1 2 .... 1460]\n",
        "amplitude = 40                            # Amplitude de la la saisonnalité\n",
        "niveau_bruit = 5                          # Niveau du bruit\n",
        "offset = 10                               # Offset de la série\n",
        "\n",
        "serie = offset + tendance(temps, 0.1) + saisonnalite(temps, periode=365, amplitude=amplitude) + bruit_blanc(temps,niveau_bruit)\n",
        "\n",
        "plt.figure(figsize=(10, 6))\n",
        "affiche_serie(temps,serie)\n",
        "plt.title('Série temporelle expérimentale')\n",
        "plt.show()"
      ],
      "execution_count": null,
      "outputs": []
    },
    {
      "cell_type": "markdown",
      "metadata": {
        "id": "AOelPsEmB9RK"
      },
      "source": [
        "# Extraction des données pour l'entrainement et la validation"
      ]
    },
    {
      "cell_type": "markdown",
      "metadata": {
        "id": "UfdyqJJ1VZVu"
      },
      "source": [
        "Maintenant, mettons en place les intervalles de temps pour l'entrainement et la validation. On sépare tout simplement les données entre les intants t=[0:1000[ et t=[1000:1460[ :"
      ]
    },
    {
      "cell_type": "markdown",
      "metadata": {
        "id": "HVhERkOQEE3E"
      },
      "source": [
        "<img src=\"https://github.com/AlexandreBourrieau/ML/blob/main/Carnets%20Jupyter/Images/Series/illustration1.png?raw=true\" width=\"600\">  \r\n",
        "\r\n",
        "Les données d'entrainement et les instants d'entrainement sont donc au nombre de 1000.  \r\n",
        "Les données de validation et les instants de validaton sont donc au nombre de 460."
      ]
    },
    {
      "cell_type": "code",
      "metadata": {
        "id": "_w0eKap5uFNP"
      },
      "source": [
        "temps_separation = 1000\n",
        "\n",
        "# Extraction des temps et des données d'entrainement\n",
        "temps_entrainement = temps[:temps_separation]\n",
        "x_entrainement = serie[:temps_separation]\n",
        "\n",
        "# Exctraction des temps et des données de valiadation\n",
        "temps_validation = temps[temps_separation:]\n",
        "x_validation = serie[temps_separation:]\n",
        "\n",
        "# Affichage des résultats\n",
        "plt.figure(figsize=(10, 6))\n",
        "affiche_serie(temps_entrainement, x_entrainement, label=\"Données d'entrainement\")\n",
        "affiche_serie(temps_validation, x_validation, label=\"Données de validation\")\n",
        "plt.title(\"Données d'entrainement et de validation\")\n",
        "plt.show()\n"
      ],
      "execution_count": null,
      "outputs": []
    },
    {
      "cell_type": "code",
      "metadata": {
        "id": "u8MGk4xqHOKS"
      },
      "source": [
        "print(temps.shape)\r\n",
        "print(x_entrainement.shape)\r\n",
        "print(x_validation.shape)"
      ],
      "execution_count": null,
      "outputs": []
    },
    {
      "cell_type": "markdown",
      "metadata": {
        "id": "bjD8ncEZbjEW"
      },
      "source": [
        "# Prédiction \"naïve\""
      ]
    },
    {
      "cell_type": "markdown",
      "metadata": {
        "id": "7kEYHfQWby2o"
      },
      "source": [
        "Il s'agit ici de prédire les valeurs en considérant que les valeurs à $t=t+1$ sont les mêmes qu'à $t$ : $v(t+1) = v(t)$  \r\n",
        "On fait cette opération sur les données de validation, donc pour $t\\in[1000:1459]$  \r\n",
        "Les données prédites sont donc définies sur l'intervalle $t\\in[1001:1460]$  "
      ]
    },
    {
      "cell_type": "code",
      "metadata": {
        "id": "Pj_-uCeYxcAb"
      },
      "source": [
        "prediciton_naives = serie[temps_separation - 1:]"
      ],
      "execution_count": null,
      "outputs": []
    },
    {
      "cell_type": "code",
      "metadata": {
        "id": "1s1bbvyLNvN_"
      },
      "source": [
        "prediciton_naives.shape"
      ],
      "execution_count": null,
      "outputs": []
    },
    {
      "cell_type": "code",
      "metadata": {
        "id": "JtxwHj9Ig0jT"
      },
      "source": [
        "# Affiche les résultats\n",
        "# Il faut enlever la dernière valeur dans le tableau des données prédites\n",
        "# car cette dernière valeur correspond à l'instant sur lequel les données\n",
        "# de validation attendues ne sont pas définies\n",
        "# Cela est fait avec l'instruction : prediciton_naives[:-1]\n",
        "\n",
        "plt.figure(figsize=(10, 6))\n",
        "affiche_serie(temps, serie,label=\"Série\")\n",
        "affiche_serie(temps_validation, prediciton_naives[:-1],label=\"Prédictions naïves\")\n",
        "plt.title(\"Prédictions naïves\")\n",
        "\n",
        "plt.figure(figsize=(10, 6))\n",
        "affiche_serie(temps_validation, x_validation,label=\"Série\")\n",
        "affiche_serie(temps_validation, prediciton_naives[:-1],label=\"Prédictions naïves\")\n",
        "plt.title(\"Prédictions naïves (zoom sur l'intervalle de validation)\")"
      ],
      "execution_count": null,
      "outputs": []
    },
    {
      "cell_type": "code",
      "metadata": {
        "id": "vgMSQFe9zcUY"
      },
      "source": [
        "# Zoom des prédictions naïves sur l'intervalle [1000:1010]\r\n",
        "\r\n",
        "plt.figure(figsize=(10, 6))\r\n",
        "affiche_serie(temps_validation[:10], x_validation[:10],label=\"Série\")\r\n",
        "affiche_serie(temps_validation[:10], prediciton_naives[:10],label=\"Prédictions naïves\")\r\n",
        "plt.title(\"Prédictions naïves (zoom sur t=[1000:1010])\")"
      ],
      "execution_count": null,
      "outputs": []
    },
    {
      "cell_type": "markdown",
      "metadata": {
        "id": "35gIlQLfu0TT"
      },
      "source": [
        "On observe bien que la série prédite se trouve exactement à un pas de temps de la série d'origine."
      ]
    },
    {
      "cell_type": "markdown",
      "metadata": {
        "id": "7pfoZx2QdQ1R"
      },
      "source": [
        "# Calcul des erreurs sur la prédiction \"naïve\""
      ]
    },
    {
      "cell_type": "markdown",
      "metadata": {
        "id": "Uh_7244Gsxfx"
      },
      "source": [
        "Calculons l'erreur quadratique moyenne et l'erreur absolue moyenne entre les données attendues et les données prédites sur l'intervalle de validation.  \r\n",
        "\r\n",
        "Erreur quadratique moyenne (mse - mean squared error) : $\\frac{1}{N}{\\sum\\limits_1^N {\\left( {y - \\hat y} \\right)} ^2}$  \r\n",
        "  \r\n",
        "  \r\n",
        "Erreur moyenne absolue (mae - mean absolute value) : $\\frac{1}{N}\\sum\\limits_1^N {\\left| {y - \\hat y} \\right|}$  \r\n",
        "  \r\n",
        "  \r\n",
        "Les prédictions étant réalisées sur l'intervalle $t\\in[1001;1460]$ et les données de la séries étant sur l'intervalle $t\\in[1000;1459]$ on réalise le calcul de l'erreur sur l'intervalle $t\\in[1001;1459]$.  "
      ]
    },
    {
      "cell_type": "code",
      "metadata": {
        "id": "byNnC7IbsnMZ"
      },
      "source": [
        "print(keras.metrics.mean_squared_error(x_validation[1:], prediciton_naives[:-2]).numpy())\n",
        "print(keras.metrics.mean_absolute_error(x_validation[1:], prediciton_naives[:-2]).numpy())"
      ],
      "execution_count": null,
      "outputs": []
    },
    {
      "cell_type": "markdown",
      "metadata": {
        "id": "Dutm4DfNO8de"
      },
      "source": [
        "Ces résultats vont nous servir de base pour comparer les autres méthodes."
      ]
    },
    {
      "cell_type": "markdown",
      "metadata": {
        "id": "YiatYw8lduHH"
      },
      "source": [
        "# Prédictions par moyenne mobile"
      ]
    },
    {
      "cell_type": "markdown",
      "metadata": {
        "id": "WGPBC9QttI1u"
      },
      "source": [
        "Nous allons maintenant faire des prédictions avec la méthode de la moyenne mobile afin de regarder si on obtient des meilleurs résultats qu'avec la méthode précédente."
      ]
    },
    {
      "cell_type": "markdown",
      "metadata": {
        "id": "AEpCtWCbd_q_"
      },
      "source": [
        "Commençons par définir la fonction permettant de calculer la moyenne mobile :"
      ]
    },
    {
      "cell_type": "markdown",
      "metadata": {
        "id": "iZgjqrsK_iwE"
      },
      "source": [
        "<img src=\"https://github.com/AlexandreBourrieau/ML/blob/main/Carnets%20Jupyter/Images/Series/illustration_MoyenneMobile.png?raw=true\" width=\"800\">  "
      ]
    },
    {
      "cell_type": "code",
      "metadata": {
        "id": "yEC5Pv1mRH3p"
      },
      "source": [
        "# Fonction permettant de réaliser des prédictions par moyenne mobile\r\n",
        "# Si taille_fenetre = 1 alors la prédiction est équivalente à la prédiction \"naïve\"\r\n",
        "\r\n",
        "def prediction_moyenne_mobile(serie, taille_fenetre):\r\n",
        "  prediction = []\r\n",
        "  for temps in range(0,len(serie)-taille_fenetre):\r\n",
        "    moyenne_sur_fenetre = serie[temps:temps + taille_fenetre].mean()\r\n",
        "    prediction.append(moyenne_sur_fenetre)\r\n",
        "  return np.array(prediction)"
      ],
      "execution_count": null,
      "outputs": []
    },
    {
      "cell_type": "code",
      "metadata": {
        "id": "kqcFrMsyPmuO"
      },
      "source": [
        "# La dimension du tableau retrouné est égale à la dimension de la serie d'origine - la taille de la fenetre\r\n",
        "# car le premier résultat de la moyenne mobile n'est disponible qu'après la première fenêtre\r\n",
        "essai = prediction_moyenne_mobile(serie,10)\r\n",
        "print(serie.shape)\r\n",
        "print(essai.shape)"
      ],
      "execution_count": null,
      "outputs": []
    },
    {
      "cell_type": "markdown",
      "metadata": {
        "id": "vKO4F77DgajI"
      },
      "source": [
        "On applique la moyenne mobile avec une fenetre de 30 jours sur l'intervalle de validation. Les valeurs de la série prédite seront donc le résultat de la moyenne des valeurs sur les 30 instants précédent l'instant t :"
      ]
    },
    {
      "cell_type": "code",
      "metadata": {
        "id": "HHFhGXQji7_r"
      },
      "source": [
        "# Applique la moyenne mobile sur la série pendant l'intervalle de validation\n",
        "moyenne_mobile = prediction_moyenne_mobile(serie, 30)[temps_separation:]\n",
        "\n",
        "# Affiche les résultats\n",
        "# Les données de la moyenne mobile commencent à t+30\n",
        "# donc on ne prend le temps de validation que si t>30 : temps_validation[30:]\n",
        "plt.figure(figsize=(10, 6))\n",
        "affiche_serie(temps, serie,label=\"Série\")\n",
        "affiche_serie(temps_validation[30:], moyenne_mobile,label=\"Prédictions par moyenne mobile sur 30 jours\")\n",
        "plt.title(\"Prédicitons par moyenne mobile sur 30 jours\")\n",
        "\n",
        "plt.figure(figsize=(10, 6))\n",
        "affiche_serie(temps_validation, x_validation,label=\"Série\")\n",
        "affiche_serie(temps_validation[30:], moyenne_mobile,label=\"Prédictions par moyenne mobile sur 30 jours\")\n",
        "plt.title(\"Prédicitons par moyenne mobile sur 30 jours (zoom sur l'intervalle de validation)\")\n"
      ],
      "execution_count": null,
      "outputs": []
    },
    {
      "cell_type": "markdown",
      "metadata": {
        "id": "w4T30nNlg24G"
      },
      "source": [
        "# Calcul des erreurs sur la prédiction de la moyenne mobile"
      ]
    },
    {
      "cell_type": "markdown",
      "metadata": {
        "id": "gUxbeOEDVXBc"
      },
      "source": [
        "On calcule les erreurs à partir du 30ème instant des données de validation car on a utilisé une fenêtre de 30 :"
      ]
    },
    {
      "cell_type": "code",
      "metadata": {
        "id": "wG7pTAd7z0e8"
      },
      "source": [
        "print(keras.metrics.mean_squared_error(x_validation[30:], moyenne_mobile).numpy())\n",
        "print(keras.metrics.mean_absolute_error(x_validation[30:], moyenne_mobile).numpy())"
      ],
      "execution_count": null,
      "outputs": []
    },
    {
      "cell_type": "markdown",
      "metadata": {
        "id": "5a-4PIflVWZl"
      },
      "source": [
        "Pour être cohérent avec les valeurs trouvées lors de la prédiction naïve, il faut donc calculer les erreurs sur les prédictions naïves à partir du 30ème instant également :"
      ]
    },
    {
      "cell_type": "code",
      "metadata": {
        "id": "r_wqLwj5Vt_b"
      },
      "source": [
        "print(keras.metrics.mean_squared_error(x_validation[30:], prediciton_naives[30:-1]).numpy())\r\n",
        "print(keras.metrics.mean_absolute_error(x_validation[30:], prediciton_naives[30:-1]).numpy())"
      ],
      "execution_count": null,
      "outputs": []
    },
    {
      "cell_type": "markdown",
      "metadata": {
        "id": "0au3rP4EXGvm"
      },
      "source": [
        "On a donc une meilleur prédiction avec la méthode naïve. Si on affiche l'ensemble des prédictions réalisées avec les deux techniques on comprend bien pourquoi : La courbe de la moyenne mobile est très éloignée de la courbe originale par endroit."
      ]
    },
    {
      "cell_type": "code",
      "metadata": {
        "id": "KonPVJLmWas1"
      },
      "source": [
        "# Affiche les prédictions\r\n",
        "plt.figure(figsize=(10, 6))\r\n",
        "affiche_serie(temps_validation, x_validation,label=\"Série\")\r\n",
        "affiche_serie(temps_validation[30:], moyenne_mobile,label=\"Prédictions par moyenne mobile sur 30 jours\")\r\n",
        "affiche_serie(temps_validation[30:], prediciton_naives[30:-1],label=\"Prédictions naïves\")\r\n",
        "plt.title(\"Comparaison des prédictions (zoom sur l'intervalle de validation)\")"
      ],
      "execution_count": null,
      "outputs": []
    },
    {
      "cell_type": "markdown",
      "metadata": {
        "id": "qfymO9HAkFWm"
      },
      "source": [
        "# Prédictions par moyenne mobile différenciée"
      ]
    },
    {
      "cell_type": "markdown",
      "metadata": {
        "id": "JMYPnJqwz8nS"
      },
      "source": [
        "L'erreur est plus grande car la moyenne mobile n'anticipe pas la tendance et la saisonnalité de la série. Essayons de les enlever en appliquant la méthode de la différenciation. Comme la période de la saisonnalité est de 365 jours, on choisit de soustraire les valeurs aux instants (t–365) aux valeurs à l'instant t.  \r\n",
        "On applique donc la formule : $v_d(t) = v(t) - v(t-365)$, pour $t\\in[365,1460[$  \r\n",
        "Le résultat obtenu est donc définit sur $t\\in[365:1460[$"
      ]
    },
    {
      "cell_type": "code",
      "metadata": {
        "id": "5pqySF7-rJR4"
      },
      "source": [
        "# Serie(t) = Serie(t) - Serie(t-365) pour t: [365;1459]\n",
        "# Le résultat obtenu est définit sur t=[365:1459]\n",
        "delta = 365\n",
        "serie_differenciee = (serie[delta:] - serie[0:-delta])\n",
        "\n",
        "plt.figure(figsize=(10, 6))\n",
        "affiche_serie(temps, serie,label=\"Série\")\n",
        "affiche_serie(temps[delta:], serie_differenciee,label=\"Série différenciée sur 365 jours\")\n",
        "plt.title(\"Série différenciée sur 365 jours\")\n",
        "plt.show()"
      ],
      "execution_count": null,
      "outputs": []
    },
    {
      "cell_type": "markdown",
      "metadata": {
        "id": "xPlPlS7DskWg"
      },
      "source": [
        "On observe que la saisonnalité et la tendance ont été supprimées. Calculons maintenant la moyenne mobile sur ces données avec une fenêtre de 50 :"
      ]
    },
    {
      "cell_type": "code",
      "metadata": {
        "id": "QmZpz7arsjbb"
      },
      "source": [
        "# Moyenne mobile de la série différenciée sur l'intervalle de validation\n",
        "# Les données de la série différenciée commencent à t=365 donc il faut décaler le tableau de 365\n",
        "moyenne_mobile_diff = prediction_moyenne_mobile(serie_differenciee, 50)\n",
        "\n",
        "# Affiche les résultats\n",
        "# Les données de la moyenne mobile commencent à t+50\n",
        "# donc on ne prend le temps de validation que si t>50 : temps_validation[50:]\n",
        "plt.figure(figsize=(10, 6))\n",
        "affiche_serie(temps, serie,label=\"Série\")\n",
        "affiche_serie(temps[365:], serie_differenciee,label=\"Série différenciée sur 365 jours\")\n",
        "affiche_serie(temps[365+50:], moyenne_mobile_diff,label=\"Moyenne mobile sur 50 jours\")\n",
        "plt.title(\"Moyenne mobile sur la série différenciée avec une fenêtre de 50\")\n",
        "plt.show()"
      ],
      "execution_count": null,
      "outputs": []
    },
    {
      "cell_type": "markdown",
      "metadata": {
        "id": "Gno9S2lyecnc"
      },
      "source": [
        "Ajoutons maintenant les valeurs passées de la série (365 jours avant le début de l'intervalle de validation) avec la moyenne différenciée précédente afin de retrouver la tendance et la saisonnalité :"
      ]
    },
    {
      "cell_type": "markdown",
      "metadata": {
        "id": "T1w60tpyWzAH"
      },
      "source": [
        "<img src=\"https://github.com/AlexandreBourrieau/ML/blob/main/Carnets%20Jupyter/Images/Series/illustration_diff4.png?raw=true\" width=\"1024\"> "
      ]
    },
    {
      "cell_type": "code",
      "metadata": {
        "id": "hrSd2ortG9x2"
      },
      "source": [
        "longueur_intervalle_validation = len(temps_validation)\r\n",
        "\r\n",
        "# Reconstruction de la série à partir de la moyenne mobile différenciée\r\n",
        "# et des valeurs de la série sur l'intervalle de différenciation\r\n",
        "moyenne_mobile_diff_avec_passe = serie[temps_separation-365:temps_separation-365+longueur_intervalle_validation] + moyenne_mobile_diff[-longueur_intervalle_validation:]\r\n",
        "\r\n",
        "# Affichage des résultats\r\n",
        "plt.figure(figsize=(10, 6))\r\n",
        "affiche_serie(temps, serie,label=\"Série\")\r\n",
        "affiche_serie(temps_validation, moyenne_mobile_diff_avec_passe,label=\"Prédictions par série différenciée sur 365 jours\")\r\n",
        "plt.title(\"Prédictions par série différenciée sur 365 jours\")\r\n",
        "plt.show()\r\n",
        "\r\n",
        "plt.figure(figsize=(10, 6))\r\n",
        "affiche_serie(temps_validation, serie[temps_separation:],label=\"Série\")\r\n",
        "affiche_serie(temps_validation, moyenne_mobile_diff_avec_passe,label=\"Prédictions par série différenciée sur 365 jours\")\r\n",
        "plt.title(\"Prédictions par série différenciée sur 365 jours (zoom sur l'intervalle de validation)\")\r\n",
        "plt.show()"
      ],
      "execution_count": null,
      "outputs": []
    },
    {
      "cell_type": "markdown",
      "metadata": {
        "id": "XdBijwJZkQ4X"
      },
      "source": [
        "# Calcul des erreurs sur la prédiction de la moyenne mobile différenciée"
      ]
    },
    {
      "cell_type": "code",
      "metadata": {
        "id": "59jmBrwcTFCx"
      },
      "source": [
        "print(keras.metrics.mean_squared_error(x_validation, moyenne_mobile_diff_avec_passe).numpy())\n",
        "print(keras.metrics.mean_absolute_error(x_validation, moyenne_mobile_diff_avec_passe).numpy())"
      ],
      "execution_count": null,
      "outputs": []
    },
    {
      "cell_type": "markdown",
      "metadata": {
        "id": "ZjMtQmmI12bH"
      },
      "source": [
        "On obtient enfin des erreurs inférieures où très proches de celles obtenues avec les méthode naïve."
      ]
    },
    {
      "cell_type": "markdown",
      "metadata": {
        "id": "PCVxXnnDkqDI"
      },
      "source": [
        "# Suppression du bruit sur les données passées"
      ]
    },
    {
      "cell_type": "markdown",
      "metadata": {
        "id": "vx9Et1Hkeusl"
      },
      "source": [
        "Même si les résultats obtenus sont meilleurs qu'avec la première méthode, les prédictions sont encore bruitées parce que nous avons ajouté les données passées qui sont bruitées.  \r\n",
        "Appliquons une moyenne mobile sur les données passées avec une fenêtre de 10 pour supprimer davantage de bruit :"
      ]
    },
    {
      "cell_type": "code",
      "metadata": {
        "id": "VbnkIz0CtAq7"
      },
      "source": [
        "# Récupère les données passées\r\n",
        "donnees_passe_non_filtrees = serie[temps_separation-365:temps_separation-365+longueur_intervalle_validation]\r\n",
        "\r\n",
        "# Filtrage des données passées avec une fenêtre de 10 jours\r\n",
        "donnees_passe_filtrees = prediction_moyenne_mobile(donnees_passe_non_filtrees,10)\r\n",
        "\r\n",
        "# Affichage des résultats\r\n",
        "plt.figure(figsize=(10, 6))\r\n",
        "affiche_serie(temps, serie, label=\"Série\")\r\n",
        "affiche_serie(temps[temps_separation-365:temps_separation-365+longueur_intervalle_validation:], donnees_passe_non_filtrees, label=\"Données passées non filtrées\")\r\n",
        "affiche_serie(temps[temps_separation-365+10:temps_separation-365+longueur_intervalle_validation:], donnees_passe_filtrees, label=\"Données passées filtrées\")\r\n",
        "plt.title(\"Filtrage des données passées\")\r\n",
        "plt.show()"
      ],
      "execution_count": null,
      "outputs": []
    },
    {
      "cell_type": "markdown",
      "metadata": {
        "id": "fdqNSNbuVxMp"
      },
      "source": [
        "On va maintenant ajouter la moyenne mobile différenciée précédente sur l'intervalle de test aux données passées filtrées par moyenne mobile :"
      ]
    },
    {
      "cell_type": "markdown",
      "metadata": {
        "id": "Ryo1a1LLvwwt"
      },
      "source": [
        "<img src=\"https://github.com/AlexandreBourrieau/ML/blob/main/Carnets%20Jupyter/Images/Series/illustration_diff5.png?raw=true\" width=\"1024\"> "
      ]
    },
    {
      "cell_type": "code",
      "metadata": {
        "id": "xW9VLkg_Lk4t"
      },
      "source": [
        "predictions = donnees_passe_filtrees + moyenne_mobile_diff[-longueur_intervalle_validation+10:]\r\n",
        "\r\n",
        "plt.figure(figsize=(10, 6))\r\n",
        "affiche_serie(temps,serie,label=\"Série\")\r\n",
        "affiche_serie(temps_validation[5:-5],predictions,label=\"Prédictions\")\r\n",
        "plt.title(\"Prédictions par moyenne mobile différenciée avec les données passées filtrées\")\r\n",
        "plt.show()\r\n",
        "\r\n",
        "plt.figure(figsize=(10, 6))\r\n",
        "affiche_serie(temps[temps_separation:],serie[temps_separation:],label=\"Série\")\r\n",
        "affiche_serie(temps_validation[5:-5],predictions,label=\"Prédictions\")\r\n",
        "plt.title(\"Prédictions par moyenne mobile différenciée avec les données passées filtrées (zoom sur l'intervalle de validation)\")\r\n",
        "plt.show()\r\n"
      ],
      "execution_count": null,
      "outputs": []
    },
    {
      "cell_type": "markdown",
      "metadata": {
        "id": "Rk7BpT4Pliyd"
      },
      "source": [
        "# Calcul des erreurs sur la prédiction finale"
      ]
    },
    {
      "cell_type": "code",
      "metadata": {
        "id": "iN2MsBxWTE3m"
      },
      "source": [
        "print(keras.metrics.mean_squared_error(x_validation[5:-5], predictions).numpy())\n",
        "print(keras.metrics.mean_absolute_error(x_validation[5:-5], predictions).numpy())"
      ],
      "execution_count": null,
      "outputs": []
    }
  ]
}