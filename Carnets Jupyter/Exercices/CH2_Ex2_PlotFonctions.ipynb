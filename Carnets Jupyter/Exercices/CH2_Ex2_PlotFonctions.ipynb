{
  "nbformat": 4,
  "nbformat_minor": 0,
  "metadata": {
    "colab": {
      "name": "Untitled0.ipynb",
      "provenance": [],
      "authorship_tag": "ABX9TyN/ZZRE9ID1hhbrB7Nqf2Nc",
      "include_colab_link": true
    },
    "kernelspec": {
      "name": "python3",
      "display_name": "Python 3"
    }
  },
  "cells": [
    {
      "cell_type": "markdown",
      "metadata": {
        "id": "view-in-github",
        "colab_type": "text"
      },
      "source": [
        "<a href=\"https://colab.research.google.com/github/AlexandreBourrieau/ML-F1/blob/master/Carnets%20Jupyter/Exercices/CH2_PlotFonctions.ipynb\" target=\"_parent\"><img src=\"https://colab.research.google.com/assets/colab-badge.svg\" alt=\"Open In Colab\"/></a>"
      ]
    },
    {
      "cell_type": "markdown",
      "metadata": {
        "id": "RdIl147Fdssp",
        "colab_type": "text"
      },
      "source": [
        "## **Tracé d'un sinux et d'un cosinus**"
      ]
    },
    {
      "cell_type": "code",
      "metadata": {
        "id": "xl7HGgYgdodu",
        "colab_type": "code",
        "colab": {}
      },
      "source": [
        "import matplotlib.pyplot as plt\n",
        "import math\n",
        " \n",
        "x = [0.1*i for i in range(64)]\n",
        "sin = [math.sin(i) for i in x]\n",
        "cos = [math.cos(i) for i in x]\n",
        " \n",
        "plt.plot(x, sin, label='sin(x)', color='blue', linewidth=2.5)\n",
        "plt.plot(x, cos, label='cos(x)', color='red', linewidth=0.5)\n",
        "plt.ylabel('y')\n",
        "plt.xlabel('x')\n",
        "plt.legend(loc='upper right')\n",
        "plt.show()"
      ],
      "execution_count": null,
      "outputs": []
    },
    {
      "cell_type": "markdown",
      "metadata": {
        "id": "Zs2id-LTdzda",
        "colab_type": "text"
      },
      "source": [
        "## **Tracé d'une parabolle et d'une exponentielle**"
      ]
    },
    {
      "cell_type": "code",
      "metadata": {
        "id": "He4ja3UOd8fy",
        "colab_type": "code",
        "colab": {
          "base_uri": "https://localhost:8080/",
          "height": 279
        },
        "outputId": "8fa8adc2-61fd-425f-9586-527aef677032"
      },
      "source": [
        "import matplotlib.pyplot as plt\n",
        "import math\n",
        " \n",
        "x = [0.1*i for i in range(64)]\n",
        "parabole = [i**2 for i in x]\n",
        "exponentielle = [math.exp(i) for i in x]\n",
        " \n",
        "plt.plot(x, parabole, label='x^2', color='blue', linewidth=2.5)\n",
        "plt.plot(x, exponentielle, label='exp(x)', color='red', linewidth=0.5)\n",
        "plt.ylabel('y')\n",
        "plt.xlabel('x')\n",
        "plt.legend(loc='upper right')\n",
        "plt.show()"
      ],
      "execution_count": 9,
      "outputs": [
        {
          "output_type": "display_data",
          "data": {
            "image/png": "[encoded data removed]",
            "text/plain": [
              "<Figure size 432x288 with 1 Axes>"
            ]
          },
          "metadata": {
            "tags": [],
            "needs_background": "light"
          }
        }
      ]
    }
  ]
}
