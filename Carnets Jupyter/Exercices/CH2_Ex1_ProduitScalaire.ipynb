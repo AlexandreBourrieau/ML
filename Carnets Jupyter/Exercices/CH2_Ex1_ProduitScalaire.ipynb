{
  "nbformat": 4,
  "nbformat_minor": 0,
  "metadata": {
    "colab": {
      "name": "Untitled1.ipynb",
      "provenance": [],
      "authorship_tag": "ABX9TyOW20seFINrFrISIwZsZ9RG",
      "include_colab_link": true
    },
    "kernelspec": {
      "name": "python3",
      "display_name": "Python 3"
    }
  },
  "cells": [
    {
      "cell_type": "markdown",
      "metadata": {
        "id": "view-in-github",
        "colab_type": "text"
      },
      "source": [
        "<a href=\"https://colab.research.google.com/github/AlexandreBourrieau/ML-F1/blob/master/Carnets%20Jupyter/Exercices/CH2_ProduitScalaire.ipynb\" target=\"_parent\"><img src=\"https://colab.research.google.com/assets/colab-badge.svg\" alt=\"Open In Colab\"/></a>"
      ]
    },
    {
      "cell_type": "markdown",
      "metadata": {
        "id": "d4IPgm_VgeDi",
        "colab_type": "text"
      },
      "source": [
        ""
      ]
    },
    {
      "cell_type": "markdown",
      "metadata": {
        "id": "zKXiHKEUg4UK",
        "colab_type": "text"
      },
      "source": [
        "## **Produit scalaire de deux vecteurs**"
      ]
    },
    {
      "cell_type": "code",
      "metadata": {
        "id": "rOPKV_rkgfSt",
        "colab_type": "code",
        "colab": {
          "base_uri": "https://localhost:8080/",
          "height": 35
        },
        "outputId": "fb321543-d1c8-463b-9b85-287fba036994"
      },
      "source": [
        "vecteur_u = [1.0,2.0]\n",
        "vecteur_v = [2.0,2.0]\n",
        "w = 0.0\n",
        "\n",
        "for i in range (len(vecteur_u)):\n",
        "  w = w + vecteur_u[i]*vecteur_v[i]\n",
        "print(w)"
      ],
      "execution_count": 2,
      "outputs": [
        {
          "output_type": "stream",
          "text": [
            "6.0\n"
          ],
          "name": "stdout"
        }
      ]
    },
    {
      "cell_type": "code",
      "metadata": {
        "id": "5rucgJw1gco3",
        "colab_type": "code",
        "colab": {}
      },
      "source": [
        ""
      ],
      "execution_count": null,
      "outputs": []
    }
  ]
}
