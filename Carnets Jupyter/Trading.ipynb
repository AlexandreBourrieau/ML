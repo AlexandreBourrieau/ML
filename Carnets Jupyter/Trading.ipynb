{
  "nbformat": 4,
  "nbformat_minor": 0,
  "metadata": {
    "colab": {
      "name": "Untitled14.ipynb",
      "provenance": [],
      "authorship_tag": "ABX9TyMA5N6aEETKXLduqEVtoqGo",
      "include_colab_link": true
    },
    "kernelspec": {
      "name": "python3",
      "display_name": "Python 3"
    },
    "language_info": {
      "name": "python"
    }
  },
  "cells": [
    {
      "cell_type": "markdown",
      "metadata": {
        "id": "view-in-github",
        "colab_type": "text"
      },
      "source": [
        "<a href=\"https://colab.research.google.com/github/AlexandreBourrieau/ML/blob/main/Carnets%20Jupyter/Trading.ipynb\" target=\"_parent\"><img src=\"https://colab.research.google.com/assets/colab-badge.svg\" alt=\"Open In Colab\"/></a>"
      ]
    },
    {
      "cell_type": "code",
      "metadata": {
        "id": "Y5d-bjp-on3n"
      },
      "source": [
        "!pip install yfinance -q"
      ],
      "execution_count": 3,
      "outputs": []
    },
    {
      "cell_type": "code",
      "metadata": {
        "id": "p5H4NHzUnws9"
      },
      "source": [
        "import yfinance as yf\n",
        "import matplotlib.pyplot as plt\n",
        "import pandas as pd\n",
        "from datetime import datetime, timedelta"
      ],
      "execution_count": 4,
      "outputs": []
    },
    {
      "cell_type": "markdown",
      "metadata": {
        "id": "loFkhljcu8sm"
      },
      "source": [
        "**1. Chargement des données**"
      ]
    },
    {
      "cell_type": "code",
      "metadata": {
        "colab": {
          "base_uri": "https://localhost:8080/"
        },
        "id": "_MbVtFMboviO",
        "outputId": "2b46adb0-5bbd-4fc2-8c14-5d9235457efa"
      },
      "source": [
        "symbole = 'MSFT'\n",
        "\n",
        "# Charge les données\n",
        "data = yf.Ticker(symbole)\n",
        "\n",
        "# Récupère l'historique\n",
        "dataDf = data.history(interval='1d',start='2019-1-1', end='2021-1-1')\n",
        "prix = dataDf.Open\n",
        "\n",
        "# Génère automatique l'échelle des abcisses\n",
        "# Ceci peut engendre des valeurs \"NaN\"\n",
        "prix = prix.asfreq(pd.infer_freq(prix.index))\n",
        "prix "
      ],
      "execution_count": 19,
      "outputs": [
        {
          "output_type": "execute_result",
          "data": {
            "text/plain": [
              "Date\n",
              "2019-01-02     96.848093\n",
              "2019-01-03     97.383170\n",
              "2019-01-04     97.013496\n",
              "2019-01-05           NaN\n",
              "2019-01-06           NaN\n",
              "                 ...    \n",
              "2020-12-27           NaN\n",
              "2020-12-28    223.934232\n",
              "2020-12-29    225.789958\n",
              "2020-12-30    224.712439\n",
              "2020-12-31    221.190558\n",
              "Freq: D, Name: Open, Length: 730, dtype: float64"
            ]
          },
          "metadata": {
            "tags": []
          },
          "execution_count": 19
        }
      ]
    },
    {
      "cell_type": "code",
      "metadata": {
        "colab": {
          "base_uri": "https://localhost:8080/",
          "height": 353
        },
        "id": "jh1Uwob_s6Vz",
        "outputId": "81b5293f-8b8f-4f45-81bf-95e7af5672cf"
      },
      "source": [
        "plt.figure(figsize=(10,5))\n",
        "plt.plot(prix)\n",
        "plt.title(\"Historique de %s\" %symbole)"
      ],
      "execution_count": 20,
      "outputs": [
        {
          "output_type": "execute_result",
          "data": {
            "text/plain": [
              "Text(0.5, 1.0, 'Historique de MSFT')"
            ]
          },
          "metadata": {
            "tags": []
          },
          "execution_count": 20
        },
        {
          "output_type": "display_data",
          "data": {
            "image/png": "[encoded data removed]",
            "text/plain": [
              "<Figure size 720x360 with 1 Axes>"
            ]
          },
          "metadata": {
            "tags": [],
            "needs_background": "light"
          }
        }
      ]
    },
    {
      "cell_type": "markdown",
      "metadata": {
        "id": "6Q3n2fD7vAPj"
      },
      "source": [
        "**2. Algorithme de trading**"
      ]
    },
    {
      "cell_type": "markdown",
      "metadata": {
        "id": "QV7b3JXHvER7"
      },
      "source": [
        "On applique l'algorithme suivant :\n",
        "  - **Achat** : Si l'action croit sur un nombre de jour spécifique \"a\"\n",
        "  - **Vente** : Si l'action décroit sur un nombre de jour spécifique \"v\" et que nous avons fait un profit"
      ]
    },
    {
      "cell_type": "code",
      "metadata": {
        "id": "TyloamjDvxPD"
      },
      "source": [
        "# Définition de l'algorithme de trading\n",
        "\n",
        "def AlgorithmeTrading(prix,a,v):\n",
        "  "
      ],
      "execution_count": null,
      "outputs": []
    }
  ]
}