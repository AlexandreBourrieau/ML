{
  "nbformat": 4,
  "nbformat_minor": 0,
  "metadata": {
    "kernelspec": {
      "name": "python3",
      "display_name": "Python 3"
    },
    "language_info": {
      "codemirror_mode": {
        "name": "ipython",
        "version": 3
      },
      "file_extension": ".py",
      "mimetype": "text/x-python",
      "name": "python",
      "nbconvert_exporter": "python",
      "pygments_lexer": "ipython3",
      "version": "3.6.8"
    },
    "colab": {
      "name": "Fraude_CB.ipynb",
      "provenance": [],
      "include_colab_link": true
    }
  },
  "cells": [
    {
      "cell_type": "markdown",
      "metadata": {
        "id": "view-in-github",
        "colab_type": "text"
      },
      "source": [
        "<a href=\"https://colab.research.google.com/github/AlexandreBourrieau/ML/blob/main/Carnets%20Jupyter/Fraude_CB.ipynb\" target=\"_parent\"><img src=\"https://colab.research.google.com/assets/colab-badge.svg\" alt=\"Open In Colab\"/></a>"
      ]
    },
    {
      "cell_type": "markdown",
      "metadata": {
        "id": "xohAxkytgvbx"
      },
      "source": [
        "# Détection de fraudes à la carte bancaire\n",
        "\n",
        "Cette base de données contient des transactions effectuées par CB en septembre 2013 par des utilisateurs européens. Les données ont été enregistrées sur deux jours, pendant lesquels 492 utilisations frauduleuses sur un total de 284 807 transactions ont été enregistrées.  \n",
        "\n",
        "Ce ratio est fortement déséquilibré car les cas de fraudes ne représentent que 0.172% des transactions. Un apprentissage supervisé n'est donc pas possible ici.  \n",
        "\n",
        "Nous allons utiliser un auto-encodeur pour effectuer un apprentissage non supervisé afin de détecter des irrégularités dans les données, indices de fraudes.  \n",
        "\n",
        "Les données sont disponibles sur le site de [Kaggle](https://www.kaggle.com/mlg-ulb/creditcardfraud)"
      ]
    },
    {
      "cell_type": "code",
      "metadata": {
        "id": "fPIVi6aGgvb0"
      },
      "source": [
        "import pandas as pd\n",
        "import numpy as np\n",
        "import matplotlib.pyplot as plt\n",
        "import seaborn as sns\n",
        "from sklearn.model_selection import train_test_split\n",
        "from sklearn.preprocessing import StandardScaler\n",
        "from tensorflow.keras.models import Sequential, load_model\n",
        "from tensorflow.keras.layers import Dense\n",
        "from tensorflow.keras.callbacks import ModelCheckpoint\n",
        "from sklearn.metrics import confusion_matrix"
      ],
      "execution_count": null,
      "outputs": []
    },
    {
      "cell_type": "markdown",
      "metadata": {
        "id": "CqbDAvEbgvb7"
      },
      "source": [
        "## Lecture des données\n",
        "\n",
        "Le nombre de données est très grand. Pour réduire le temps de calcul, nous n'utiliserons qu'une partie d'entre elles.  "
      ]
    },
    {
      "cell_type": "code",
      "metadata": {
        "id": "cmDvv8e0NIfT",
        "colab": {
          "base_uri": "https://localhost:8080/"
        },
        "outputId": "c21e180e-ca9b-40fb-db9b-a43b3af2cc9d"
      },
      "source": [
        "!wget --no-check-certificate --content-disposition \"https://github.com/AlexandreBourrieau/ML/blob/main/Carnets%20Jupyter/Donn%C3%A9es/creditcard.zip?raw=true\"\n",
        "!unzip creditcard.zip -x"
      ],
      "execution_count": 6,
      "outputs": [
        {
          "output_type": "stream",
          "text": [
            "--2021-02-16 10:41:10--  https://github.com/AlexandreBourrieau/ML/blob/main/Carnets%20Jupyter/Donn%C3%A9es/creditcard.zip?raw=true\n",
            "Resolving github.com (github.com)... 140.82.114.3\n",
            "Connecting to github.com (github.com)|140.82.114.3|:443... connected.\n",
            "HTTP request sent, awaiting response... 302 Found\n",
            "Location: https://github.com/AlexandreBourrieau/ML/raw/main/Carnets%20Jupyter/Donn%C3%A9es/creditcard.zip [following]\n",
            "--2021-02-16 10:41:10--  https://github.com/AlexandreBourrieau/ML/raw/main/Carnets%20Jupyter/Donn%C3%A9es/creditcard.zip\n",
            "Reusing existing connection to github.com:443.\n",
            "HTTP request sent, awaiting response... 302 Found\n",
            "Location: https://raw.githubusercontent.com/AlexandreBourrieau/ML/main/Carnets%20Jupyter/Donn%C3%A9es/creditcard.zip [following]\n",
            "--2021-02-16 10:41:10--  https://raw.githubusercontent.com/AlexandreBourrieau/ML/main/Carnets%20Jupyter/Donn%C3%A9es/creditcard.zip\n",
            "Resolving raw.githubusercontent.com (raw.githubusercontent.com)... 185.199.109.133, 185.199.110.133, 185.199.111.133, ...\n",
            "Connecting to raw.githubusercontent.com (raw.githubusercontent.com)|185.199.109.133|:443... connected.\n",
            "HTTP request sent, awaiting response... 200 OK\n",
            "Length: 69155672 (66M) [application/zip]\n",
            "Saving to: ‘creditcard.zip’\n",
            "\n",
            "creditcard.zip      100%[===================>]  65.95M  91.8MB/s    in 0.7s    \n",
            "\n",
            "2021-02-16 10:41:11 (91.8 MB/s) - ‘creditcard.zip’ saved [69155672/69155672]\n",
            "\n",
            "Archive:  creditcard.zip\n",
            "  inflating: creditcard.csv          \n"
          ],
          "name": "stdout"
        }
      ]
    },
    {
      "cell_type": "code",
      "metadata": {
        "colab": {
          "base_uri": "https://localhost:8080/"
        },
        "id": "WyfM9Ccc4nLc",
        "outputId": "654bf3fd-249e-468a-c91f-71b6f418d50b"
      },
      "source": [
        "!ls -l"
      ],
      "execution_count": 8,
      "outputs": [
        {
          "output_type": "stream",
          "text": [
            "total 214836\n",
            "-rw-r--r-- 1 root root 150828752 Sep 20  2019 creditcard.csv\n",
            "-rw-r--r-- 1 root root  69155672 Feb 16 10:41 creditcard.zip\n",
            "drwxr-xr-x 1 root root      4096 Feb 10 14:40 sample_data\n"
          ],
          "name": "stdout"
        }
      ]
    },
    {
      "cell_type": "code",
      "metadata": {
        "id": "VSEi4bFBgvb8",
        "colab": {
          "base_uri": "https://localhost:8080/"
        },
        "outputId": "b1f42e5b-3d93-4d9d-df66-a548709afec6"
      },
      "source": [
        "data = pd.read_csv(\"creditcard.csv\")\n",
        "data = data.head(30000)\n",
        "data.shape"
      ],
      "execution_count": 23,
      "outputs": [
        {
          "output_type": "execute_result",
          "data": {
            "text/plain": [
              "(30000, 31)"
            ]
          },
          "metadata": {
            "tags": []
          },
          "execution_count": 23
        }
      ]
    },
    {
      "cell_type": "markdown",
      "metadata": {
        "id": "5QqUPf5N5tAn"
      },
      "source": [
        "Les colonnes qui ne sont pas anonymisées sont :\r\n",
        "- Time : Temps écoulé depuis la première transaction\r\n",
        "- Amount : Montant de la transaction\r\n",
        "- Class : 0 = Achat non frauduleux / 1 = achat frauduleux\r\n",
        "  \r\n",
        "Les autres données anonymes sont par exemple les coordonnées de l'acheteur, son adresse, ..."
      ]
    },
    {
      "cell_type": "code",
      "metadata": {
        "id": "zh-HZs3Gv5c2",
        "colab": {
          "base_uri": "https://localhost:8080/",
          "height": 224
        },
        "outputId": "6b82218d-f1d7-41e4-c503-6bac43da897a"
      },
      "source": [
        "data.head()"
      ],
      "execution_count": 10,
      "outputs": [
        {
          "output_type": "execute_result",
          "data": {
            "text/html": [
              "<div>\n",
              "<style scoped>\n",
              "    .dataframe tbody tr th:only-of-type {\n",
              "        vertical-align: middle;\n",
              "    }\n",
              "\n",
              "    .dataframe tbody tr th {\n",
              "        vertical-align: top;\n",
              "    }\n",
              "\n",
              "    .dataframe thead th {\n",
              "        text-align: right;\n",
              "    }\n",
              "</style>\n",
              "<table border=\"1\" class=\"dataframe\">\n",
              "  <thead>\n",
              "    <tr style=\"text-align: right;\">\n",
              "      <th></th>\n",
              "      <th>Time</th>\n",
              "      <th>V1</th>\n",
              "      <th>V2</th>\n",
              "      <th>V3</th>\n",
              "      <th>V4</th>\n",
              "      <th>V5</th>\n",
              "      <th>V6</th>\n",
              "      <th>V7</th>\n",
              "      <th>V8</th>\n",
              "      <th>V9</th>\n",
              "      <th>V10</th>\n",
              "      <th>V11</th>\n",
              "      <th>V12</th>\n",
              "      <th>V13</th>\n",
              "      <th>V14</th>\n",
              "      <th>V15</th>\n",
              "      <th>V16</th>\n",
              "      <th>V17</th>\n",
              "      <th>V18</th>\n",
              "      <th>V19</th>\n",
              "      <th>V20</th>\n",
              "      <th>V21</th>\n",
              "      <th>V22</th>\n",
              "      <th>V23</th>\n",
              "      <th>V24</th>\n",
              "      <th>V25</th>\n",
              "      <th>V26</th>\n",
              "      <th>V27</th>\n",
              "      <th>V28</th>\n",
              "      <th>Amount</th>\n",
              "      <th>Class</th>\n",
              "    </tr>\n",
              "  </thead>\n",
              "  <tbody>\n",
              "    <tr>\n",
              "      <th>0</th>\n",
              "      <td>0.0</td>\n",
              "      <td>-1.359807</td>\n",
              "      <td>-0.072781</td>\n",
              "      <td>2.536347</td>\n",
              "      <td>1.378155</td>\n",
              "      <td>-0.338321</td>\n",
              "      <td>0.462388</td>\n",
              "      <td>0.239599</td>\n",
              "      <td>0.098698</td>\n",
              "      <td>0.363787</td>\n",
              "      <td>0.090794</td>\n",
              "      <td>-0.551600</td>\n",
              "      <td>-0.617801</td>\n",
              "      <td>-0.991390</td>\n",
              "      <td>-0.311169</td>\n",
              "      <td>1.468177</td>\n",
              "      <td>-0.470401</td>\n",
              "      <td>0.207971</td>\n",
              "      <td>0.025791</td>\n",
              "      <td>0.403993</td>\n",
              "      <td>0.251412</td>\n",
              "      <td>-0.018307</td>\n",
              "      <td>0.277838</td>\n",
              "      <td>-0.110474</td>\n",
              "      <td>0.066928</td>\n",
              "      <td>0.128539</td>\n",
              "      <td>-0.189115</td>\n",
              "      <td>0.133558</td>\n",
              "      <td>-0.021053</td>\n",
              "      <td>149.62</td>\n",
              "      <td>0</td>\n",
              "    </tr>\n",
              "    <tr>\n",
              "      <th>1</th>\n",
              "      <td>0.0</td>\n",
              "      <td>1.191857</td>\n",
              "      <td>0.266151</td>\n",
              "      <td>0.166480</td>\n",
              "      <td>0.448154</td>\n",
              "      <td>0.060018</td>\n",
              "      <td>-0.082361</td>\n",
              "      <td>-0.078803</td>\n",
              "      <td>0.085102</td>\n",
              "      <td>-0.255425</td>\n",
              "      <td>-0.166974</td>\n",
              "      <td>1.612727</td>\n",
              "      <td>1.065235</td>\n",
              "      <td>0.489095</td>\n",
              "      <td>-0.143772</td>\n",
              "      <td>0.635558</td>\n",
              "      <td>0.463917</td>\n",
              "      <td>-0.114805</td>\n",
              "      <td>-0.183361</td>\n",
              "      <td>-0.145783</td>\n",
              "      <td>-0.069083</td>\n",
              "      <td>-0.225775</td>\n",
              "      <td>-0.638672</td>\n",
              "      <td>0.101288</td>\n",
              "      <td>-0.339846</td>\n",
              "      <td>0.167170</td>\n",
              "      <td>0.125895</td>\n",
              "      <td>-0.008983</td>\n",
              "      <td>0.014724</td>\n",
              "      <td>2.69</td>\n",
              "      <td>0</td>\n",
              "    </tr>\n",
              "    <tr>\n",
              "      <th>2</th>\n",
              "      <td>1.0</td>\n",
              "      <td>-1.358354</td>\n",
              "      <td>-1.340163</td>\n",
              "      <td>1.773209</td>\n",
              "      <td>0.379780</td>\n",
              "      <td>-0.503198</td>\n",
              "      <td>1.800499</td>\n",
              "      <td>0.791461</td>\n",
              "      <td>0.247676</td>\n",
              "      <td>-1.514654</td>\n",
              "      <td>0.207643</td>\n",
              "      <td>0.624501</td>\n",
              "      <td>0.066084</td>\n",
              "      <td>0.717293</td>\n",
              "      <td>-0.165946</td>\n",
              "      <td>2.345865</td>\n",
              "      <td>-2.890083</td>\n",
              "      <td>1.109969</td>\n",
              "      <td>-0.121359</td>\n",
              "      <td>-2.261857</td>\n",
              "      <td>0.524980</td>\n",
              "      <td>0.247998</td>\n",
              "      <td>0.771679</td>\n",
              "      <td>0.909412</td>\n",
              "      <td>-0.689281</td>\n",
              "      <td>-0.327642</td>\n",
              "      <td>-0.139097</td>\n",
              "      <td>-0.055353</td>\n",
              "      <td>-0.059752</td>\n",
              "      <td>378.66</td>\n",
              "      <td>0</td>\n",
              "    </tr>\n",
              "    <tr>\n",
              "      <th>3</th>\n",
              "      <td>1.0</td>\n",
              "      <td>-0.966272</td>\n",
              "      <td>-0.185226</td>\n",
              "      <td>1.792993</td>\n",
              "      <td>-0.863291</td>\n",
              "      <td>-0.010309</td>\n",
              "      <td>1.247203</td>\n",
              "      <td>0.237609</td>\n",
              "      <td>0.377436</td>\n",
              "      <td>-1.387024</td>\n",
              "      <td>-0.054952</td>\n",
              "      <td>-0.226487</td>\n",
              "      <td>0.178228</td>\n",
              "      <td>0.507757</td>\n",
              "      <td>-0.287924</td>\n",
              "      <td>-0.631418</td>\n",
              "      <td>-1.059647</td>\n",
              "      <td>-0.684093</td>\n",
              "      <td>1.965775</td>\n",
              "      <td>-1.232622</td>\n",
              "      <td>-0.208038</td>\n",
              "      <td>-0.108300</td>\n",
              "      <td>0.005274</td>\n",
              "      <td>-0.190321</td>\n",
              "      <td>-1.175575</td>\n",
              "      <td>0.647376</td>\n",
              "      <td>-0.221929</td>\n",
              "      <td>0.062723</td>\n",
              "      <td>0.061458</td>\n",
              "      <td>123.50</td>\n",
              "      <td>0</td>\n",
              "    </tr>\n",
              "    <tr>\n",
              "      <th>4</th>\n",
              "      <td>2.0</td>\n",
              "      <td>-1.158233</td>\n",
              "      <td>0.877737</td>\n",
              "      <td>1.548718</td>\n",
              "      <td>0.403034</td>\n",
              "      <td>-0.407193</td>\n",
              "      <td>0.095921</td>\n",
              "      <td>0.592941</td>\n",
              "      <td>-0.270533</td>\n",
              "      <td>0.817739</td>\n",
              "      <td>0.753074</td>\n",
              "      <td>-0.822843</td>\n",
              "      <td>0.538196</td>\n",
              "      <td>1.345852</td>\n",
              "      <td>-1.119670</td>\n",
              "      <td>0.175121</td>\n",
              "      <td>-0.451449</td>\n",
              "      <td>-0.237033</td>\n",
              "      <td>-0.038195</td>\n",
              "      <td>0.803487</td>\n",
              "      <td>0.408542</td>\n",
              "      <td>-0.009431</td>\n",
              "      <td>0.798278</td>\n",
              "      <td>-0.137458</td>\n",
              "      <td>0.141267</td>\n",
              "      <td>-0.206010</td>\n",
              "      <td>0.502292</td>\n",
              "      <td>0.219422</td>\n",
              "      <td>0.215153</td>\n",
              "      <td>69.99</td>\n",
              "      <td>0</td>\n",
              "    </tr>\n",
              "  </tbody>\n",
              "</table>\n",
              "</div>"
            ],
            "text/plain": [
              "   Time        V1        V2        V3  ...       V27       V28  Amount  Class\n",
              "0   0.0 -1.359807 -0.072781  2.536347  ...  0.133558 -0.021053  149.62      0\n",
              "1   0.0  1.191857  0.266151  0.166480  ... -0.008983  0.014724    2.69      0\n",
              "2   1.0 -1.358354 -1.340163  1.773209  ... -0.055353 -0.059752  378.66      0\n",
              "3   1.0 -0.966272 -0.185226  1.792993  ...  0.062723  0.061458  123.50      0\n",
              "4   2.0 -1.158233  0.877737  1.548718  ...  0.219422  0.215153   69.99      0\n",
              "\n",
              "[5 rows x 31 columns]"
            ]
          },
          "metadata": {
            "tags": []
          },
          "execution_count": 10
        }
      ]
    },
    {
      "cell_type": "markdown",
      "metadata": {
        "id": "zgMLc0626hzL"
      },
      "source": [
        "Regardons combien nous avons de données frauduleuses :"
      ]
    },
    {
      "cell_type": "code",
      "metadata": {
        "id": "CDDQ22kt81nt",
        "colab": {
          "base_uri": "https://localhost:8080/",
          "height": 162
        },
        "outputId": "54dc5432-409b-4b4b-f886-96a69d972355"
      },
      "source": [
        "data.groupby(['Class']).count()"
      ],
      "execution_count": 11,
      "outputs": [
        {
          "output_type": "execute_result",
          "data": {
            "text/html": [
              "<div>\n",
              "<style scoped>\n",
              "    .dataframe tbody tr th:only-of-type {\n",
              "        vertical-align: middle;\n",
              "    }\n",
              "\n",
              "    .dataframe tbody tr th {\n",
              "        vertical-align: top;\n",
              "    }\n",
              "\n",
              "    .dataframe thead th {\n",
              "        text-align: right;\n",
              "    }\n",
              "</style>\n",
              "<table border=\"1\" class=\"dataframe\">\n",
              "  <thead>\n",
              "    <tr style=\"text-align: right;\">\n",
              "      <th></th>\n",
              "      <th>Time</th>\n",
              "      <th>V1</th>\n",
              "      <th>V2</th>\n",
              "      <th>V3</th>\n",
              "      <th>V4</th>\n",
              "      <th>V5</th>\n",
              "      <th>V6</th>\n",
              "      <th>V7</th>\n",
              "      <th>V8</th>\n",
              "      <th>V9</th>\n",
              "      <th>V10</th>\n",
              "      <th>V11</th>\n",
              "      <th>V12</th>\n",
              "      <th>V13</th>\n",
              "      <th>V14</th>\n",
              "      <th>V15</th>\n",
              "      <th>V16</th>\n",
              "      <th>V17</th>\n",
              "      <th>V18</th>\n",
              "      <th>V19</th>\n",
              "      <th>V20</th>\n",
              "      <th>V21</th>\n",
              "      <th>V22</th>\n",
              "      <th>V23</th>\n",
              "      <th>V24</th>\n",
              "      <th>V25</th>\n",
              "      <th>V26</th>\n",
              "      <th>V27</th>\n",
              "      <th>V28</th>\n",
              "      <th>Amount</th>\n",
              "    </tr>\n",
              "    <tr>\n",
              "      <th>Class</th>\n",
              "      <th></th>\n",
              "      <th></th>\n",
              "      <th></th>\n",
              "      <th></th>\n",
              "      <th></th>\n",
              "      <th></th>\n",
              "      <th></th>\n",
              "      <th></th>\n",
              "      <th></th>\n",
              "      <th></th>\n",
              "      <th></th>\n",
              "      <th></th>\n",
              "      <th></th>\n",
              "      <th></th>\n",
              "      <th></th>\n",
              "      <th></th>\n",
              "      <th></th>\n",
              "      <th></th>\n",
              "      <th></th>\n",
              "      <th></th>\n",
              "      <th></th>\n",
              "      <th></th>\n",
              "      <th></th>\n",
              "      <th></th>\n",
              "      <th></th>\n",
              "      <th></th>\n",
              "      <th></th>\n",
              "      <th></th>\n",
              "      <th></th>\n",
              "      <th></th>\n",
              "    </tr>\n",
              "  </thead>\n",
              "  <tbody>\n",
              "    <tr>\n",
              "      <th>0</th>\n",
              "      <td>29906</td>\n",
              "      <td>29906</td>\n",
              "      <td>29906</td>\n",
              "      <td>29906</td>\n",
              "      <td>29906</td>\n",
              "      <td>29906</td>\n",
              "      <td>29906</td>\n",
              "      <td>29906</td>\n",
              "      <td>29906</td>\n",
              "      <td>29906</td>\n",
              "      <td>29906</td>\n",
              "      <td>29906</td>\n",
              "      <td>29906</td>\n",
              "      <td>29906</td>\n",
              "      <td>29906</td>\n",
              "      <td>29906</td>\n",
              "      <td>29906</td>\n",
              "      <td>29906</td>\n",
              "      <td>29906</td>\n",
              "      <td>29906</td>\n",
              "      <td>29906</td>\n",
              "      <td>29906</td>\n",
              "      <td>29906</td>\n",
              "      <td>29906</td>\n",
              "      <td>29906</td>\n",
              "      <td>29906</td>\n",
              "      <td>29906</td>\n",
              "      <td>29906</td>\n",
              "      <td>29906</td>\n",
              "      <td>29906</td>\n",
              "    </tr>\n",
              "    <tr>\n",
              "      <th>1</th>\n",
              "      <td>94</td>\n",
              "      <td>94</td>\n",
              "      <td>94</td>\n",
              "      <td>94</td>\n",
              "      <td>94</td>\n",
              "      <td>94</td>\n",
              "      <td>94</td>\n",
              "      <td>94</td>\n",
              "      <td>94</td>\n",
              "      <td>94</td>\n",
              "      <td>94</td>\n",
              "      <td>94</td>\n",
              "      <td>94</td>\n",
              "      <td>94</td>\n",
              "      <td>94</td>\n",
              "      <td>94</td>\n",
              "      <td>94</td>\n",
              "      <td>94</td>\n",
              "      <td>94</td>\n",
              "      <td>94</td>\n",
              "      <td>94</td>\n",
              "      <td>94</td>\n",
              "      <td>94</td>\n",
              "      <td>94</td>\n",
              "      <td>94</td>\n",
              "      <td>94</td>\n",
              "      <td>94</td>\n",
              "      <td>94</td>\n",
              "      <td>94</td>\n",
              "      <td>94</td>\n",
              "    </tr>\n",
              "  </tbody>\n",
              "</table>\n",
              "</div>"
            ],
            "text/plain": [
              "        Time     V1     V2     V3     V4  ...    V25    V26    V27    V28  Amount\n",
              "Class                                     ...                                    \n",
              "0      29906  29906  29906  29906  29906  ...  29906  29906  29906  29906   29906\n",
              "1         94     94     94     94     94  ...     94     94     94     94      94\n",
              "\n",
              "[2 rows x 30 columns]"
            ]
          },
          "metadata": {
            "tags": []
          },
          "execution_count": 11
        }
      ]
    },
    {
      "cell_type": "code",
      "metadata": {
        "id": "TLM0ajP88zQO",
        "colab": {
          "base_uri": "https://localhost:8080/"
        },
        "outputId": "358992da-c393-4e54-863f-bb547bb85a35"
      },
      "source": [
        "100*(94/29906)"
      ],
      "execution_count": 12,
      "outputs": [
        {
          "output_type": "execute_result",
          "data": {
            "text/plain": [
              "0.31431819701732094"
            ]
          },
          "metadata": {
            "tags": []
          },
          "execution_count": 12
        }
      ]
    },
    {
      "cell_type": "markdown",
      "metadata": {
        "id": "cxjaflpVgvcD"
      },
      "source": [
        "## Préparation des données\n",
        "\n",
        "La colonne Time tout d'abord ignorée"
      ]
    },
    {
      "cell_type": "code",
      "metadata": {
        "id": "JB_FNz-4gvcE"
      },
      "source": [
        "data = data.drop(['Time'], axis=1)"
      ],
      "execution_count": 24,
      "outputs": []
    },
    {
      "cell_type": "markdown",
      "metadata": {
        "id": "cbwh5kGRtcqI"
      },
      "source": [
        "Ensuite, les montants des transactions sont normalisés en supprimant la valeur moyenne et en faisant en sorte que la variance soit égale à 1. Les autres colonnes sont inchangées."
      ]
    },
    {
      "cell_type": "code",
      "metadata": {
        "id": "RArB6Uqst6Ng"
      },
      "source": [
        "# Histogramme des montants avant normalisation\r\n",
        "\r\n",
        "df = data['Amount']\r\n",
        "print(df.describe())\r\n",
        "df.hist(bins=100)"
      ],
      "execution_count": null,
      "outputs": []
    },
    {
      "cell_type": "code",
      "metadata": {
        "id": "3TcSpH40vE5j"
      },
      "source": [
        "# Normalisation des montants\r\n",
        "\r\n",
        "scaler = StandardScaler()\r\n",
        "data['Amount'] = scaler.fit_transform(data['Amount'].values.reshape(-1, 1))"
      ],
      "execution_count": 44,
      "outputs": []
    },
    {
      "cell_type": "code",
      "metadata": {
        "id": "w1t2FxySvRkh"
      },
      "source": [
        "# Histogramme des montants après normalisation\r\n",
        "\r\n",
        "df = data['Amount']\r\n",
        "print(df.describe())\r\n",
        "df.hist(bins=100)"
      ],
      "execution_count": null,
      "outputs": []
    },
    {
      "cell_type": "code",
      "metadata": {
        "id": "3VhZZRvwgvcG"
      },
      "source": [
        "# Séparation des données d'entrainement et de test\n",
        "\n",
        "x_entrainement, x_test = train_test_split(data, test_size=0.2, random_state=0)\n",
        "x_entrainement = x_entrainement.drop(['Class'], axis=1)\n",
        "y_test = x_test['Class']\n",
        "x_test = x_test.drop(['Class'], axis=1)\n",
        "x_entrainement = x_entrainement.values\n",
        "x_test = x_test.values\n",
        "x_entrainement.shape"
      ],
      "execution_count": null,
      "outputs": []
    },
    {
      "cell_type": "markdown",
      "metadata": {
        "id": "idV-blvXgvcJ"
      },
      "source": [
        "## Construction du modèle\n",
        "\n",
        "Ce modèle est un modèle standard d'auto-encodeur à quatre couches :\n",
        "- Une couche d'entrée à 14 neurones, avec une fonction d'activation de type tanh\n",
        "- Une première couche cachées de 14/2 = 7 neurones, avec une fonction d'activation de type relu\n",
        "- Une deuxième couche cachée de 14/2 = 7 neurones, avec une fonction d'activation de type tanh\n",
        "- Une couche de sortie à 14 neurones, avec une fonction d'activation de type relu"
      ]
    },
    {
      "cell_type": "code",
      "metadata": {
        "id": "rDTwKbXqln-T"
      },
      "source": [
        "dimension_entrees = x_entrainement.shape[1]\n",
        "dimension_encodeur = 14\n",
        "\n",
        "model = Sequential()\n",
        "model.add(Dense(dimension_encodeur, activation=\"tanh\", input_shape=(dimension_entrees,)))\n",
        "model.add(Dense(int(dimension_encodeur /2), activation=\"relu\"))\n",
        "model.add(Dense(int(dimension_encodeur /2), activation='tanh'))\n",
        "model.add(Dense(dimension_entrees, activation='relu'))\n",
        "\n",
        "model.summary()"
      ],
      "execution_count": null,
      "outputs": []
    },
    {
      "cell_type": "markdown",
      "metadata": {
        "id": "kvOSXfO2yRAF"
      },
      "source": [
        "# Entrainement du modèle\n",
        "\n"
      ]
    },
    {
      "cell_type": "code",
      "metadata": {
        "id": "sw64M6v7gvcN"
      },
      "source": [
        "nb_iterations = 40\n",
        "batch_size = 35\n",
        "\n",
        "model.compile(optimizer='adam', loss='mean_squared_error', metrics=['acc'])\n",
        "\n",
        "history = model.fit(x_entrainement, x_entrainement,\n",
        "                    epochs=nb_iterations,\n",
        "                    batch_size=batch_size,\n",
        "                    validation_data=(x_test, x_test),\n",
        "                    verbose=1)\n",
        "\n",
        "autoencoder = model"
      ],
      "execution_count": null,
      "outputs": []
    },
    {
      "cell_type": "markdown",
      "metadata": {
        "id": "jOreexr_gvcP"
      },
      "source": [
        "## Performances du modèle\n"
      ]
    },
    {
      "cell_type": "code",
      "metadata": {
        "id": "KU1Y1-12gvcQ"
      },
      "source": [
        "plt.plot(history.history['acc'])\n",
        "plt.plot(history.history['val_acc'])\n",
        "plt.title('Model accuracy')\n",
        "plt.ylabel('Précision')\n",
        "plt.xlabel('Itérations')\n",
        "plt.legend(['Entrainement', 'Test'], loc='upper left')\n",
        "plt.show()"
      ],
      "execution_count": null,
      "outputs": []
    },
    {
      "cell_type": "markdown",
      "metadata": {
        "id": "zX3kJxBEWYPj"
      },
      "source": [
        "## Structure du modèle et calcul de l'erreur de prédiction\r\n",
        "La structure de notre modèle peut être visualisée comme ci-dessous :  \r\n",
        "![picture](https://github.com/AlexandreBourrieau/ML-F1/blob/master/Carnets%20Jupyter/Images/Schema_Non_Supervis%C3%A932.png?raw=true \"ReseauNeurone\")"
      ]
    },
    {
      "cell_type": "markdown",
      "metadata": {
        "id": "wolqQ57_bgxY"
      },
      "source": [
        "L'erreur de prédiction est l'erreur quadratique moyenne entre les entrées et les sorties (écart type). Pour chaque couple d'entrée / sortie, on calcule donc la valeur suivante :\r\n",
        "\r\n",
        " $Erreur =  \\sqrt {{{({V_{1{\\rm{\\_sortie}}}} - {V_{1{\\rm{\\_entr}}e }})}^2} + {{({V_{2{\\rm{\\_sortie}}}} - {V_{2{\\rm{\\_entr}}e }})}^2} + ... + {{(Amoun{t_{{\\rm{\\_sortie}}}} - Amoun{t_{{\\rm{\\_entr}}e }})}^2}} $"
      ]
    },
    {
      "cell_type": "code",
      "metadata": {
        "id": "npC653kSONK5"
      },
      "source": [
        "x_test"
      ],
      "execution_count": null,
      "outputs": []
    },
    {
      "cell_type": "markdown",
      "metadata": {
        "id": "EK8OLAVegvcT"
      },
      "source": [
        "## Prédictions\n",
        "\n",
        "Les prédictions sont effectuées sur les données de tests. L'erreur quadratique moyenne (mean-squared error - MSE) est calculés entre les tests et les prédictions. Si cette erreur est grande, c'est une potentielle anomalie et donc une fraude potentielle. Bien sûr, cela n'est pas parfait et il y a des faux-positifs (et des faux négatifs) !"
      ]
    },
    {
      "cell_type": "code",
      "metadata": {
        "id": "pedvVXtngvcU"
      },
      "source": [
        "predictions = autoencoder.predict(x_test)\n",
        "mse = np.mean(np.power(x_test - predictions, 2), axis=1)\n",
        "error_df = pd.DataFrame({'erreur_reconstruction': mse, 'class': y_test})"
      ],
      "execution_count": null,
      "outputs": []
    },
    {
      "cell_type": "code",
      "metadata": {
        "id": "7WN6s2FeOjSl"
      },
      "source": [
        "predictions\r\n",
        "mse"
      ],
      "execution_count": null,
      "outputs": []
    },
    {
      "cell_type": "code",
      "metadata": {
        "id": "lVXgySCoNb-O"
      },
      "source": [
        "error_df.head()"
      ],
      "execution_count": null,
      "outputs": []
    },
    {
      "cell_type": "markdown",
      "metadata": {
        "id": "IXPep-KbgvcX"
      },
      "source": [
        "## Affichage de l'erreur de reconstruction\n",
        "\n",
        "L'erreur de reconstruction est affichée pour chaque échantillon. Seuls 6000 échantillons sont affichés, mais les données affichées sont tirées au hasard."
      ]
    },
    {
      "cell_type": "code",
      "metadata": {
        "id": "O3TXPKJIgvcX"
      },
      "source": [
        "niveau_detection = 20.0\n",
        "\n",
        "groups = error_df.groupby('class')\n",
        "fig, ax = plt.subplots(figsize=(12, 8))\n",
        "\n",
        "for name, group in groups:\n",
        "    ax.plot(group.index, group.erreur_reconstruction, marker='o', ms=2.0, linestyle='',\n",
        "            label = \"Fraude\" if name == 1 else \"Normal\",\n",
        "            color = \"red\" if name == 1 else \"blue\")\n",
        "ax.hlines(niveau_detection, ax.get_xlim()[0], ax.get_xlim()[1], colors=\"green\", zorder=100, label='Niveau de détection')\n",
        "ax.legend()\n",
        "plt.title(\"Erreur de reconstruction pour différents échantillons\")\n",
        "plt.ylabel(\"Erreur de reconstruction\")\n",
        "plt.xlabel(\"Index de l'échantillon\")\n",
        "plt.show();"
      ],
      "execution_count": null,
      "outputs": []
    },
    {
      "cell_type": "markdown",
      "metadata": {
        "id": "e4JxXgvyxJku"
      },
      "source": [
        "# Analyse\n",
        "\n",
        "Comme nous connaissons les transactions frauduleuses, nous pouvons afficher et calculer le nombre de faux positifs. Dans l'idéal, il faudrait que leur nombre soit très faible, mais notre modèle est imparfait... "
      ]
    },
    {
      "cell_type": "code",
      "metadata": {
        "id": "YcYrqCvrgvce"
      },
      "source": [
        "normal = error_df[error_df['class'] == 0]\n",
        "fraud = error_df[error_df['class'] == 1]\n",
        "\n",
        "print('Normal transactions: %d, fraud transactions: %d' % (len(normal), len(fraud)))"
      ],
      "execution_count": null,
      "outputs": []
    },
    {
      "cell_type": "code",
      "metadata": {
        "id": "1ySewU_gsZBZ"
      },
      "source": [
        "true_positives = len(fraud[fraud.erreur_reconstruction >= niveau_detection])\n",
        "false_positives = len(normal[normal.erreur_reconstruction >= niveau_detection])\n",
        "\n",
        "true_negatives = len(normal[normal.erreur_reconstruction < niveau_detection])\n",
        "false_negatives = len(fraud[fraud.erreur_reconstruction < niveau_detection])\n",
        "\n",
        "print('True positives: %d, true negatives: %d' % (true_positives, true_negatives))\n",
        "print('False positives: %d, false negatives: %d' % (false_positives, false_negatives))"
      ],
      "execution_count": null,
      "outputs": []
    },
    {
      "cell_type": "markdown",
      "metadata": {
        "id": "FbU9T7gMgvca"
      },
      "source": [
        "## Matrice de synthèse\n",
        "\n",
        "La matrice de synthèse ci-dessous permet d'avoir une vue d'ensemble des résultats obtenus."
      ]
    },
    {
      "cell_type": "code",
      "metadata": {
        "id": "zb_Azs0Xgvcb"
      },
      "source": [
        "labels = [\"Normal\", \"Fraude\"]\n",
        "\n",
        "y_pred = [1 if e > niveau_detection else 0 for e in error_df.erreur_reconstruction.values]\n",
        "conf_matrix = confusion_matrix(error_df['class'], y_pred)\n",
        "\n",
        "plt.figure(figsize=(6, 5))\n",
        "sns.heatmap(conf_matrix, xticklabels=labels, yticklabels=labels, annot=True, fmt=\"d\");\n",
        "plt.title(\"Matrice de synthèse\")\n",
        "plt.ylabel('Cas réels')\n",
        "plt.xlabel('Prédictions')\n",
        "plt.show()"
      ],
      "execution_count": null,
      "outputs": []
    }
  ]
}