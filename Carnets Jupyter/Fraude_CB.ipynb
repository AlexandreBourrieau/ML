{
  "nbformat": 4,
  "nbformat_minor": 0,
  "metadata": {
    "kernelspec": {
      "name": "python3",
      "display_name": "Python 3"
    },
    "language_info": {
      "codemirror_mode": {
        "name": "ipython",
        "version": 3
      },
      "file_extension": ".py",
      "mimetype": "text/x-python",
      "name": "python",
      "nbconvert_exporter": "python",
      "pygments_lexer": "ipython3",
      "version": "3.6.8"
    },
    "colab": {
      "name": "Fraude_CB.ipynb",
      "provenance": [],
      "include_colab_link": true
    }
  },
  "cells": [
    {
      "cell_type": "markdown",
      "metadata": {
        "id": "view-in-github",
        "colab_type": "text"
      },
      "source": [
        "<a href=\"https://colab.research.google.com/github/AlexandreBourrieau/ML/blob/main/Carnets%20Jupyter/Fraude_CB.ipynb\" target=\"_parent\"><img src=\"https://colab.research.google.com/assets/colab-badge.svg\" alt=\"Open In Colab\"/></a>"
      ]
    },
    {
      "cell_type": "markdown",
      "metadata": {
        "id": "xohAxkytgvbx"
      },
      "source": [
        "# Détection de fraudes à la carte bancaire\n",
        "\n",
        "Cette base de données contient des transactions effectuées par CB en septembre 2013 par des utilisateurs européens. Les données ont été enregistrées sur deux jours, pendant lesquels 492 utilisations frauduleuses sur un total de 284 807 transactions ont été enregistrées.  \n",
        "\n",
        "Ce ratio est fortement déséquilibré car les cas de fraudes ne représentent que 0.172% des transactions. Un apprentissage supervisé n'est donc pas possible ici.  \n",
        "\n",
        "Nous allons utiliser un auto-encodeur pour effectuer un apprentissage non supervisé afin de détecter des irrégularités dans les données, indices de fraudes.  \n",
        "\n",
        "Les données sont disponibles sur le site de [Kaggle](https://www.kaggle.com/mlg-ulb/creditcardfraud)"
      ]
    },
    {
      "cell_type": "code",
      "metadata": {
        "id": "fPIVi6aGgvb0"
      },
      "source": [
        "import pandas as pd\n",
        "import numpy as np\n",
        "import matplotlib.pyplot as plt\n",
        "import seaborn as sns\n",
        "from sklearn.model_selection import train_test_split\n",
        "from sklearn.preprocessing import StandardScaler\n",
        "from tensorflow.keras.models import Sequential, load_model\n",
        "from tensorflow.keras.layers import Dense\n",
        "from tensorflow.keras.callbacks import ModelCheckpoint\n",
        "from sklearn.metrics import confusion_matrix"
      ],
      "execution_count": 1,
      "outputs": []
    },
    {
      "cell_type": "markdown",
      "metadata": {
        "id": "CqbDAvEbgvb7"
      },
      "source": [
        "## Lecture des données\n",
        "\n",
        "Le nombre de données est très grand. Pour réduire le temps de calcul, nous n'utiliserons qu'une partie d'entre elles.  "
      ]
    },
    {
      "cell_type": "code",
      "metadata": {
        "id": "cmDvv8e0NIfT",
        "colab": {
          "base_uri": "https://localhost:8080/"
        },
        "outputId": "740f85e1-01bc-4633-d497-57a7bbfa24f7"
      },
      "source": [
        "!wget --no-check-certificate --content-disposition \"https://github.com/AlexandreBourrieau/ML/blob/main/Carnets%20Jupyter/Donn%C3%A9es/creditcard.zip?raw=true\"\n",
        "!unzip creditcard.zip -x"
      ],
      "execution_count": 2,
      "outputs": [
        {
          "output_type": "stream",
          "text": [
            "--2021-02-16 14:16:56--  https://github.com/AlexandreBourrieau/ML/blob/main/Carnets%20Jupyter/Donn%C3%A9es/creditcard.zip?raw=true\n",
            "Resolving github.com (github.com)... 140.82.114.4\n",
            "Connecting to github.com (github.com)|140.82.114.4|:443... connected.\n",
            "HTTP request sent, awaiting response... 302 Found\n",
            "Location: https://github.com/AlexandreBourrieau/ML/raw/main/Carnets%20Jupyter/Donn%C3%A9es/creditcard.zip [following]\n",
            "--2021-02-16 14:16:56--  https://github.com/AlexandreBourrieau/ML/raw/main/Carnets%20Jupyter/Donn%C3%A9es/creditcard.zip\n",
            "Reusing existing connection to github.com:443.\n",
            "HTTP request sent, awaiting response... 302 Found\n",
            "Location: https://raw.githubusercontent.com/AlexandreBourrieau/ML/main/Carnets%20Jupyter/Donn%C3%A9es/creditcard.zip [following]\n",
            "--2021-02-16 14:16:56--  https://raw.githubusercontent.com/AlexandreBourrieau/ML/main/Carnets%20Jupyter/Donn%C3%A9es/creditcard.zip\n",
            "Resolving raw.githubusercontent.com (raw.githubusercontent.com)... 185.199.108.133, 185.199.109.133, 185.199.110.133, ...\n",
            "Connecting to raw.githubusercontent.com (raw.githubusercontent.com)|185.199.108.133|:443... connected.\n",
            "HTTP request sent, awaiting response... 200 OK\n",
            "Length: 69155672 (66M) [application/zip]\n",
            "Saving to: ‘creditcard.zip’\n",
            "\n",
            "creditcard.zip      100%[===================>]  65.95M  86.1MB/s    in 0.8s    \n",
            "\n",
            "2021-02-16 14:16:57 (86.1 MB/s) - ‘creditcard.zip’ saved [69155672/69155672]\n",
            "\n",
            "Archive:  creditcard.zip\n",
            "  inflating: creditcard.csv          \n"
          ],
          "name": "stdout"
        }
      ]
    },
    {
      "cell_type": "code",
      "metadata": {
        "id": "WyfM9Ccc4nLc"
      },
      "source": [
        "!ls -l"
      ],
      "execution_count": null,
      "outputs": []
    },
    {
      "cell_type": "code",
      "metadata": {
        "id": "VSEi4bFBgvb8",
        "colab": {
          "base_uri": "https://localhost:8080/"
        },
        "outputId": "76510378-b03d-4b87-9877-3ce91e4bdefb"
      },
      "source": [
        "data = pd.read_csv(\"creditcard.csv\")\n",
        "data = data.head(30000)\n",
        "data.shape"
      ],
      "execution_count": 3,
      "outputs": [
        {
          "output_type": "execute_result",
          "data": {
            "text/plain": [
              "(30000, 31)"
            ]
          },
          "metadata": {
            "tags": []
          },
          "execution_count": 3
        }
      ]
    },
    {
      "cell_type": "markdown",
      "metadata": {
        "id": "5QqUPf5N5tAn"
      },
      "source": [
        "Les colonnes qui ne sont pas anonymisées sont :\r\n",
        "- Time : Temps écoulé depuis la première transaction\r\n",
        "- Amount : Montant de la transaction\r\n",
        "- Class : 0 = Achat non frauduleux / 1 = achat frauduleux\r\n",
        "  \r\n",
        "Les autres données anonymes sont par exemple les coordonnées de l'acheteur, son adresse, ..."
      ]
    },
    {
      "cell_type": "code",
      "metadata": {
        "id": "zh-HZs3Gv5c2",
        "colab": {
          "base_uri": "https://localhost:8080/",
          "height": 224
        },
        "outputId": "44366934-457b-497d-9906-38f12af4e9ea"
      },
      "source": [
        "data.head()"
      ],
      "execution_count": 4,
      "outputs": [
        {
          "output_type": "execute_result",
          "data": {
            "text/html": [
              "<div>\n",
              "<style scoped>\n",
              "    .dataframe tbody tr th:only-of-type {\n",
              "        vertical-align: middle;\n",
              "    }\n",
              "\n",
              "    .dataframe tbody tr th {\n",
              "        vertical-align: top;\n",
              "    }\n",
              "\n",
              "    .dataframe thead th {\n",
              "        text-align: right;\n",
              "    }\n",
              "</style>\n",
              "<table border=\"1\" class=\"dataframe\">\n",
              "  <thead>\n",
              "    <tr style=\"text-align: right;\">\n",
              "      <th></th>\n",
              "      <th>Time</th>\n",
              "      <th>V1</th>\n",
              "      <th>V2</th>\n",
              "      <th>V3</th>\n",
              "      <th>V4</th>\n",
              "      <th>V5</th>\n",
              "      <th>V6</th>\n",
              "      <th>V7</th>\n",
              "      <th>V8</th>\n",
              "      <th>V9</th>\n",
              "      <th>V10</th>\n",
              "      <th>V11</th>\n",
              "      <th>V12</th>\n",
              "      <th>V13</th>\n",
              "      <th>V14</th>\n",
              "      <th>V15</th>\n",
              "      <th>V16</th>\n",
              "      <th>V17</th>\n",
              "      <th>V18</th>\n",
              "      <th>V19</th>\n",
              "      <th>V20</th>\n",
              "      <th>V21</th>\n",
              "      <th>V22</th>\n",
              "      <th>V23</th>\n",
              "      <th>V24</th>\n",
              "      <th>V25</th>\n",
              "      <th>V26</th>\n",
              "      <th>V27</th>\n",
              "      <th>V28</th>\n",
              "      <th>Amount</th>\n",
              "      <th>Class</th>\n",
              "    </tr>\n",
              "  </thead>\n",
              "  <tbody>\n",
              "    <tr>\n",
              "      <th>0</th>\n",
              "      <td>0.0</td>\n",
              "      <td>-1.359807</td>\n",
              "      <td>-0.072781</td>\n",
              "      <td>2.536347</td>\n",
              "      <td>1.378155</td>\n",
              "      <td>-0.338321</td>\n",
              "      <td>0.462388</td>\n",
              "      <td>0.239599</td>\n",
              "      <td>0.098698</td>\n",
              "      <td>0.363787</td>\n",
              "      <td>0.090794</td>\n",
              "      <td>-0.551600</td>\n",
              "      <td>-0.617801</td>\n",
              "      <td>-0.991390</td>\n",
              "      <td>-0.311169</td>\n",
              "      <td>1.468177</td>\n",
              "      <td>-0.470401</td>\n",
              "      <td>0.207971</td>\n",
              "      <td>0.025791</td>\n",
              "      <td>0.403993</td>\n",
              "      <td>0.251412</td>\n",
              "      <td>-0.018307</td>\n",
              "      <td>0.277838</td>\n",
              "      <td>-0.110474</td>\n",
              "      <td>0.066928</td>\n",
              "      <td>0.128539</td>\n",
              "      <td>-0.189115</td>\n",
              "      <td>0.133558</td>\n",
              "      <td>-0.021053</td>\n",
              "      <td>149.62</td>\n",
              "      <td>0</td>\n",
              "    </tr>\n",
              "    <tr>\n",
              "      <th>1</th>\n",
              "      <td>0.0</td>\n",
              "      <td>1.191857</td>\n",
              "      <td>0.266151</td>\n",
              "      <td>0.166480</td>\n",
              "      <td>0.448154</td>\n",
              "      <td>0.060018</td>\n",
              "      <td>-0.082361</td>\n",
              "      <td>-0.078803</td>\n",
              "      <td>0.085102</td>\n",
              "      <td>-0.255425</td>\n",
              "      <td>-0.166974</td>\n",
              "      <td>1.612727</td>\n",
              "      <td>1.065235</td>\n",
              "      <td>0.489095</td>\n",
              "      <td>-0.143772</td>\n",
              "      <td>0.635558</td>\n",
              "      <td>0.463917</td>\n",
              "      <td>-0.114805</td>\n",
              "      <td>-0.183361</td>\n",
              "      <td>-0.145783</td>\n",
              "      <td>-0.069083</td>\n",
              "      <td>-0.225775</td>\n",
              "      <td>-0.638672</td>\n",
              "      <td>0.101288</td>\n",
              "      <td>-0.339846</td>\n",
              "      <td>0.167170</td>\n",
              "      <td>0.125895</td>\n",
              "      <td>-0.008983</td>\n",
              "      <td>0.014724</td>\n",
              "      <td>2.69</td>\n",
              "      <td>0</td>\n",
              "    </tr>\n",
              "    <tr>\n",
              "      <th>2</th>\n",
              "      <td>1.0</td>\n",
              "      <td>-1.358354</td>\n",
              "      <td>-1.340163</td>\n",
              "      <td>1.773209</td>\n",
              "      <td>0.379780</td>\n",
              "      <td>-0.503198</td>\n",
              "      <td>1.800499</td>\n",
              "      <td>0.791461</td>\n",
              "      <td>0.247676</td>\n",
              "      <td>-1.514654</td>\n",
              "      <td>0.207643</td>\n",
              "      <td>0.624501</td>\n",
              "      <td>0.066084</td>\n",
              "      <td>0.717293</td>\n",
              "      <td>-0.165946</td>\n",
              "      <td>2.345865</td>\n",
              "      <td>-2.890083</td>\n",
              "      <td>1.109969</td>\n",
              "      <td>-0.121359</td>\n",
              "      <td>-2.261857</td>\n",
              "      <td>0.524980</td>\n",
              "      <td>0.247998</td>\n",
              "      <td>0.771679</td>\n",
              "      <td>0.909412</td>\n",
              "      <td>-0.689281</td>\n",
              "      <td>-0.327642</td>\n",
              "      <td>-0.139097</td>\n",
              "      <td>-0.055353</td>\n",
              "      <td>-0.059752</td>\n",
              "      <td>378.66</td>\n",
              "      <td>0</td>\n",
              "    </tr>\n",
              "    <tr>\n",
              "      <th>3</th>\n",
              "      <td>1.0</td>\n",
              "      <td>-0.966272</td>\n",
              "      <td>-0.185226</td>\n",
              "      <td>1.792993</td>\n",
              "      <td>-0.863291</td>\n",
              "      <td>-0.010309</td>\n",
              "      <td>1.247203</td>\n",
              "      <td>0.237609</td>\n",
              "      <td>0.377436</td>\n",
              "      <td>-1.387024</td>\n",
              "      <td>-0.054952</td>\n",
              "      <td>-0.226487</td>\n",
              "      <td>0.178228</td>\n",
              "      <td>0.507757</td>\n",
              "      <td>-0.287924</td>\n",
              "      <td>-0.631418</td>\n",
              "      <td>-1.059647</td>\n",
              "      <td>-0.684093</td>\n",
              "      <td>1.965775</td>\n",
              "      <td>-1.232622</td>\n",
              "      <td>-0.208038</td>\n",
              "      <td>-0.108300</td>\n",
              "      <td>0.005274</td>\n",
              "      <td>-0.190321</td>\n",
              "      <td>-1.175575</td>\n",
              "      <td>0.647376</td>\n",
              "      <td>-0.221929</td>\n",
              "      <td>0.062723</td>\n",
              "      <td>0.061458</td>\n",
              "      <td>123.50</td>\n",
              "      <td>0</td>\n",
              "    </tr>\n",
              "    <tr>\n",
              "      <th>4</th>\n",
              "      <td>2.0</td>\n",
              "      <td>-1.158233</td>\n",
              "      <td>0.877737</td>\n",
              "      <td>1.548718</td>\n",
              "      <td>0.403034</td>\n",
              "      <td>-0.407193</td>\n",
              "      <td>0.095921</td>\n",
              "      <td>0.592941</td>\n",
              "      <td>-0.270533</td>\n",
              "      <td>0.817739</td>\n",
              "      <td>0.753074</td>\n",
              "      <td>-0.822843</td>\n",
              "      <td>0.538196</td>\n",
              "      <td>1.345852</td>\n",
              "      <td>-1.119670</td>\n",
              "      <td>0.175121</td>\n",
              "      <td>-0.451449</td>\n",
              "      <td>-0.237033</td>\n",
              "      <td>-0.038195</td>\n",
              "      <td>0.803487</td>\n",
              "      <td>0.408542</td>\n",
              "      <td>-0.009431</td>\n",
              "      <td>0.798278</td>\n",
              "      <td>-0.137458</td>\n",
              "      <td>0.141267</td>\n",
              "      <td>-0.206010</td>\n",
              "      <td>0.502292</td>\n",
              "      <td>0.219422</td>\n",
              "      <td>0.215153</td>\n",
              "      <td>69.99</td>\n",
              "      <td>0</td>\n",
              "    </tr>\n",
              "  </tbody>\n",
              "</table>\n",
              "</div>"
            ],
            "text/plain": [
              "   Time        V1        V2        V3  ...       V27       V28  Amount  Class\n",
              "0   0.0 -1.359807 -0.072781  2.536347  ...  0.133558 -0.021053  149.62      0\n",
              "1   0.0  1.191857  0.266151  0.166480  ... -0.008983  0.014724    2.69      0\n",
              "2   1.0 -1.358354 -1.340163  1.773209  ... -0.055353 -0.059752  378.66      0\n",
              "3   1.0 -0.966272 -0.185226  1.792993  ...  0.062723  0.061458  123.50      0\n",
              "4   2.0 -1.158233  0.877737  1.548718  ...  0.219422  0.215153   69.99      0\n",
              "\n",
              "[5 rows x 31 columns]"
            ]
          },
          "metadata": {
            "tags": []
          },
          "execution_count": 4
        }
      ]
    },
    {
      "cell_type": "markdown",
      "metadata": {
        "id": "zgMLc0626hzL"
      },
      "source": [
        "Regardons combien nous avons de données frauduleuses :"
      ]
    },
    {
      "cell_type": "code",
      "metadata": {
        "id": "CDDQ22kt81nt"
      },
      "source": [
        "data.groupby(['Class']).count()"
      ],
      "execution_count": null,
      "outputs": []
    },
    {
      "cell_type": "code",
      "metadata": {
        "id": "TLM0ajP88zQO"
      },
      "source": [
        "100*(94/29906)"
      ],
      "execution_count": null,
      "outputs": []
    },
    {
      "cell_type": "markdown",
      "metadata": {
        "id": "cxjaflpVgvcD"
      },
      "source": [
        "## Préparation des données\n",
        "\n",
        "La colonne Time tout d'abord ignorée"
      ]
    },
    {
      "cell_type": "code",
      "metadata": {
        "id": "JB_FNz-4gvcE"
      },
      "source": [
        "data = data.drop(['Time'], axis=1)"
      ],
      "execution_count": 5,
      "outputs": []
    },
    {
      "cell_type": "markdown",
      "metadata": {
        "id": "cbwh5kGRtcqI"
      },
      "source": [
        "Ensuite, les montants des transactions sont normalisés en supprimant la valeur moyenne et en faisant en sorte que la variance soit égale à 1. Les autres colonnes sont inchangées."
      ]
    },
    {
      "cell_type": "code",
      "metadata": {
        "id": "RArB6Uqst6Ng",
        "outputId": "2c8bcac5-0c1b-4cd0-ae1e-917b6230597a",
        "colab": {
          "base_uri": "https://localhost:8080/",
          "height": 435
        }
      },
      "source": [
        "# Histogramme des montants avant normalisation\r\n",
        "\r\n",
        "df = data['Amount']\r\n",
        "print(df.describe())\r\n",
        "df.hist(bins=100)"
      ],
      "execution_count": 6,
      "outputs": [
        {
          "output_type": "stream",
          "text": [
            "count    30000.000000\n",
            "mean        79.863644\n",
            "std        222.686041\n",
            "min          0.000000\n",
            "25%          6.540000\n",
            "50%         20.000000\n",
            "75%         71.000000\n",
            "max       7879.420000\n",
            "Name: Amount, dtype: float64\n"
          ],
          "name": "stdout"
        },
        {
          "output_type": "execute_result",
          "data": {
            "text/plain": [
              "<matplotlib.axes._subplots.AxesSubplot at 0x7f8b3a6c62b0>"
            ]
          },
          "metadata": {
            "tags": []
          },
          "execution_count": 6
        },
        {
          "output_type": "display_data",
          "data": {
            "image/png": "[encoded data removed]",
            "text/plain": [
              "<Figure size 432x288 with 1 Axes>"
            ]
          },
          "metadata": {
            "tags": [],
            "needs_background": "light"
          }
        }
      ]
    },
    {
      "cell_type": "code",
      "metadata": {
        "id": "3TcSpH40vE5j"
      },
      "source": [
        "# Normalisation des montants\r\n",
        "\r\n",
        "scaler = StandardScaler()\r\n",
        "data['Amount'] = scaler.fit_transform(data['Amount'].values.reshape(-1, 1))"
      ],
      "execution_count": 7,
      "outputs": []
    },
    {
      "cell_type": "code",
      "metadata": {
        "id": "w1t2FxySvRkh",
        "outputId": "b65008c1-ad5e-40dc-c388-e860d2b4b89c",
        "colab": {
          "base_uri": "https://localhost:8080/",
          "height": 435
        }
      },
      "source": [
        "# Histogramme des montants après normalisation\r\n",
        "\r\n",
        "df = data['Amount']\r\n",
        "print(df.describe())\r\n",
        "df.hist(bins=100)"
      ],
      "execution_count": 8,
      "outputs": [
        {
          "output_type": "stream",
          "text": [
            "count    3.000000e+04\n",
            "mean     5.547555e-16\n",
            "std      1.000017e+00\n",
            "min     -3.586438e-01\n",
            "25%     -3.292746e-01\n",
            "50%     -2.688298e-01\n",
            "75%     -3.980398e-02\n",
            "max      3.502548e+01\n",
            "Name: Amount, dtype: float64\n"
          ],
          "name": "stdout"
        },
        {
          "output_type": "execute_result",
          "data": {
            "text/plain": [
              "<matplotlib.axes._subplots.AxesSubplot at 0x7f8b08165b70>"
            ]
          },
          "metadata": {
            "tags": []
          },
          "execution_count": 8
        },
        {
          "output_type": "display_data",
          "data": {
            "image/png": "[encoded data removed]",
            "text/plain": [
              "<Figure size 432x288 with 1 Axes>"
            ]
          },
          "metadata": {
            "tags": [],
            "needs_background": "light"
          }
        }
      ]
    },
    {
      "cell_type": "code",
      "metadata": {
        "id": "3VhZZRvwgvcG",
        "outputId": "4c570868-ecda-4c59-d460-818d40e770c7",
        "colab": {
          "base_uri": "https://localhost:8080/"
        }
      },
      "source": [
        "# Séparation des données d'entrainement et de test\n",
        "\n",
        "x_entrainement, x_test = train_test_split(data, test_size=0.2, random_state=0)\n",
        "x_entrainement = x_entrainement.drop(['Class'], axis=1)\n",
        "y_test = x_test['Class']\n",
        "x_test = x_test.drop(['Class'], axis=1)\n",
        "x_entrainement = x_entrainement.values\n",
        "x_test = x_test.values\n",
        "x_entrainement.shape"
      ],
      "execution_count": 9,
      "outputs": [
        {
          "output_type": "execute_result",
          "data": {
            "text/plain": [
              "(24000, 29)"
            ]
          },
          "metadata": {
            "tags": []
          },
          "execution_count": 9
        }
      ]
    },
    {
      "cell_type": "markdown",
      "metadata": {
        "id": "idV-blvXgvcJ"
      },
      "source": [
        "## Construction du modèle\n",
        "\n",
        "Ce modèle est un modèle standard d'auto-encodeur à quatre couches :\n",
        "- Une couche d'entrée à 14 neurones, avec une fonction d'activation de type tanh\n",
        "- Une première couche cachées de 14/2 = 7 neurones, avec une fonction d'activation de type relu\n",
        "- Une deuxième couche cachée de 14/2 = 7 neurones, avec une fonction d'activation de type tanh\n",
        "- Une couche de sortie à 29 neurones (même dimension que les données d'entrées), avec une fonction d'activation de type relu"
      ]
    },
    {
      "cell_type": "markdown",
      "metadata": {
        "id": "8bJv2G4ENkkR"
      },
      "source": [
        "La structure de notre modèle peut être visualisée comme ci-dessous :  \r\n",
        "![picture](https://github.com/AlexandreBourrieau/ML-F1/blob/master/Carnets%20Jupyter/Images/Schema_Non_Supervis%C3%A932.png?raw=true \"ReseauNeurone\")"
      ]
    },
    {
      "cell_type": "code",
      "metadata": {
        "id": "rDTwKbXqln-T",
        "outputId": "98e9e1af-de0d-4485-f67c-9fcd80b4e97e",
        "colab": {
          "base_uri": "https://localhost:8080/"
        }
      },
      "source": [
        "dimension_entrees = x_entrainement.shape[1]\n",
        "dimension_encodeur = 14\n",
        "\n",
        "model = Sequential()\n",
        "model.add(Dense(dimension_encodeur, activation=\"tanh\", input_shape=(dimension_entrees,)))\n",
        "model.add(Dense(int(dimension_encodeur /2), activation=\"relu\"))\n",
        "model.add(Dense(int(dimension_encodeur /2), activation='tanh'))\n",
        "model.add(Dense(dimension_entrees, activation='relu'))\n",
        "\n",
        "model.summary()"
      ],
      "execution_count": 10,
      "outputs": [
        {
          "output_type": "stream",
          "text": [
            "Model: \"sequential\"\n",
            "_________________________________________________________________\n",
            "Layer (type)                 Output Shape              Param #   \n",
            "=================================================================\n",
            "dense (Dense)                (None, 14)                420       \n",
            "_________________________________________________________________\n",
            "dense_1 (Dense)              (None, 7)                 105       \n",
            "_________________________________________________________________\n",
            "dense_2 (Dense)              (None, 7)                 56        \n",
            "_________________________________________________________________\n",
            "dense_3 (Dense)              (None, 29)                232       \n",
            "=================================================================\n",
            "Total params: 813\n",
            "Trainable params: 813\n",
            "Non-trainable params: 0\n",
            "_________________________________________________________________\n"
          ],
          "name": "stdout"
        }
      ]
    },
    {
      "cell_type": "markdown",
      "metadata": {
        "id": "kvOSXfO2yRAF"
      },
      "source": [
        "# Entrainement du modèle\n",
        "\n"
      ]
    },
    {
      "cell_type": "code",
      "metadata": {
        "id": "sw64M6v7gvcN",
        "outputId": "b14943d7-51e4-42e8-c9a8-89159d097adb",
        "colab": {
          "base_uri": "https://localhost:8080/"
        }
      },
      "source": [
        "nb_iterations = 50\n",
        "batch_size = 30\n",
        "\n",
        "model.compile(optimizer='adam', loss='mean_squared_error', metrics=['acc'])\n",
        "\n",
        "history = model.fit(x_entrainement, x_entrainement,\n",
        "                    epochs=nb_iterations,\n",
        "                    batch_size=batch_size,\n",
        "                    validation_data=(x_test, x_test),\n",
        "                    verbose=1)\n",
        "\n",
        "autoencoder = model"
      ],
      "execution_count": 11,
      "outputs": [
        {
          "output_type": "stream",
          "text": [
            "Epoch 1/50\n",
            "800/800 [==============================] - 3s 2ms/step - loss: 1.1469 - acc: 0.2440 - val_loss: 0.9711 - val_acc: 0.5153\n",
            "Epoch 2/50\n",
            "800/800 [==============================] - 1s 2ms/step - loss: 1.0112 - acc: 0.5285 - val_loss: 0.9131 - val_acc: 0.5595\n",
            "Epoch 3/50\n",
            "800/800 [==============================] - 2s 2ms/step - loss: 0.9711 - acc: 0.5658 - val_loss: 0.8810 - val_acc: 0.5953\n",
            "Epoch 4/50\n",
            "800/800 [==============================] - 1s 2ms/step - loss: 0.9329 - acc: 0.5961 - val_loss: 0.8668 - val_acc: 0.6052\n",
            "Epoch 5/50\n",
            "800/800 [==============================] - 1s 2ms/step - loss: 0.8493 - acc: 0.6086 - val_loss: 0.8567 - val_acc: 0.6062\n",
            "Epoch 6/50\n",
            "800/800 [==============================] - 1s 1ms/step - loss: 0.9036 - acc: 0.6082 - val_loss: 0.8473 - val_acc: 0.6198\n",
            "Epoch 7/50\n",
            "800/800 [==============================] - 1s 1ms/step - loss: 0.8626 - acc: 0.6262 - val_loss: 0.8364 - val_acc: 0.6318\n",
            "Epoch 8/50\n",
            "800/800 [==============================] - 2s 2ms/step - loss: 0.8731 - acc: 0.6461 - val_loss: 0.8271 - val_acc: 0.6485\n",
            "Epoch 9/50\n",
            "800/800 [==============================] - 2s 2ms/step - loss: 0.8409 - acc: 0.6565 - val_loss: 0.8211 - val_acc: 0.6543\n",
            "Epoch 10/50\n",
            "800/800 [==============================] - 1s 2ms/step - loss: 0.8528 - acc: 0.6584 - val_loss: 0.8154 - val_acc: 0.6560\n",
            "Epoch 11/50\n",
            "800/800 [==============================] - 1s 2ms/step - loss: 0.9066 - acc: 0.6658 - val_loss: 0.8101 - val_acc: 0.6652\n",
            "Epoch 12/50\n",
            "800/800 [==============================] - 1s 1ms/step - loss: 0.8530 - acc: 0.6715 - val_loss: 0.8055 - val_acc: 0.6715\n",
            "Epoch 13/50\n",
            "800/800 [==============================] - 1s 1ms/step - loss: 0.8567 - acc: 0.6734 - val_loss: 0.8020 - val_acc: 0.6780\n",
            "Epoch 14/50\n",
            "800/800 [==============================] - 1s 2ms/step - loss: 0.7968 - acc: 0.6801 - val_loss: 0.7983 - val_acc: 0.6817\n",
            "Epoch 15/50\n",
            "800/800 [==============================] - 1s 2ms/step - loss: 0.8440 - acc: 0.6834 - val_loss: 0.7970 - val_acc: 0.6860\n",
            "Epoch 16/50\n",
            "800/800 [==============================] - 1s 2ms/step - loss: 0.8298 - acc: 0.6875 - val_loss: 0.7952 - val_acc: 0.6902\n",
            "Epoch 17/50\n",
            "800/800 [==============================] - 1s 2ms/step - loss: 0.7922 - acc: 0.6898 - val_loss: 0.7931 - val_acc: 0.6950\n",
            "Epoch 18/50\n",
            "800/800 [==============================] - 1s 2ms/step - loss: 0.8555 - acc: 0.6940 - val_loss: 0.7919 - val_acc: 0.7022\n",
            "Epoch 19/50\n",
            "800/800 [==============================] - 1s 1ms/step - loss: 0.8740 - acc: 0.7014 - val_loss: 0.7895 - val_acc: 0.6983\n",
            "Epoch 20/50\n",
            "800/800 [==============================] - 1s 2ms/step - loss: 0.8135 - acc: 0.6989 - val_loss: 0.7888 - val_acc: 0.6962\n",
            "Epoch 21/50\n",
            "800/800 [==============================] - 1s 2ms/step - loss: 0.8774 - acc: 0.7015 - val_loss: 0.7866 - val_acc: 0.7062\n",
            "Epoch 22/50\n",
            "800/800 [==============================] - 1s 1ms/step - loss: 0.8013 - acc: 0.7010 - val_loss: 0.7880 - val_acc: 0.7047\n",
            "Epoch 23/50\n",
            "800/800 [==============================] - 1s 1ms/step - loss: 0.8429 - acc: 0.7037 - val_loss: 0.7858 - val_acc: 0.7032\n",
            "Epoch 24/50\n",
            "800/800 [==============================] - 1s 1ms/step - loss: 0.7940 - acc: 0.6986 - val_loss: 0.7852 - val_acc: 0.7085\n",
            "Epoch 25/50\n",
            "800/800 [==============================] - 1s 2ms/step - loss: 0.8622 - acc: 0.7038 - val_loss: 0.7833 - val_acc: 0.7030\n",
            "Epoch 26/50\n",
            "800/800 [==============================] - 1s 1ms/step - loss: 0.8616 - acc: 0.7032 - val_loss: 0.7821 - val_acc: 0.7103\n",
            "Epoch 27/50\n",
            "800/800 [==============================] - 1s 2ms/step - loss: 0.8586 - acc: 0.7031 - val_loss: 0.7805 - val_acc: 0.7123\n",
            "Epoch 28/50\n",
            "800/800 [==============================] - 1s 2ms/step - loss: 0.7930 - acc: 0.7107 - val_loss: 0.7807 - val_acc: 0.7092\n",
            "Epoch 29/50\n",
            "800/800 [==============================] - 1s 2ms/step - loss: 0.8134 - acc: 0.7161 - val_loss: 0.7794 - val_acc: 0.7158\n",
            "Epoch 30/50\n",
            "800/800 [==============================] - 1s 2ms/step - loss: 0.8167 - acc: 0.7114 - val_loss: 0.7797 - val_acc: 0.7113\n",
            "Epoch 31/50\n",
            "800/800 [==============================] - 1s 2ms/step - loss: 0.8212 - acc: 0.7122 - val_loss: 0.7788 - val_acc: 0.7112\n",
            "Epoch 32/50\n",
            "800/800 [==============================] - 1s 2ms/step - loss: 0.8782 - acc: 0.7129 - val_loss: 0.7791 - val_acc: 0.7130\n",
            "Epoch 33/50\n",
            "800/800 [==============================] - 1s 2ms/step - loss: 0.8697 - acc: 0.7100 - val_loss: 0.7789 - val_acc: 0.7167\n",
            "Epoch 34/50\n",
            "800/800 [==============================] - 2s 2ms/step - loss: 0.7987 - acc: 0.7131 - val_loss: 0.7778 - val_acc: 0.7093\n",
            "Epoch 35/50\n",
            "800/800 [==============================] - 2s 2ms/step - loss: 0.8006 - acc: 0.7157 - val_loss: 0.7758 - val_acc: 0.7150\n",
            "Epoch 36/50\n",
            "800/800 [==============================] - 1s 2ms/step - loss: 0.8189 - acc: 0.7156 - val_loss: 0.7760 - val_acc: 0.7100\n",
            "Epoch 37/50\n",
            "800/800 [==============================] - 1s 2ms/step - loss: 0.8037 - acc: 0.7152 - val_loss: 0.7745 - val_acc: 0.7177\n",
            "Epoch 38/50\n",
            "800/800 [==============================] - 1s 2ms/step - loss: 0.8081 - acc: 0.7137 - val_loss: 0.7793 - val_acc: 0.7098\n",
            "Epoch 39/50\n",
            "800/800 [==============================] - 1s 2ms/step - loss: 0.7785 - acc: 0.7158 - val_loss: 0.7748 - val_acc: 0.7102\n",
            "Epoch 40/50\n",
            "800/800 [==============================] - 1s 2ms/step - loss: 0.8141 - acc: 0.7140 - val_loss: 0.7732 - val_acc: 0.7177\n",
            "Epoch 41/50\n",
            "800/800 [==============================] - 1s 2ms/step - loss: 0.8433 - acc: 0.7249 - val_loss: 0.7753 - val_acc: 0.7212\n",
            "Epoch 42/50\n",
            "800/800 [==============================] - 1s 2ms/step - loss: 0.7993 - acc: 0.7181 - val_loss: 0.7747 - val_acc: 0.7258\n",
            "Epoch 43/50\n",
            "800/800 [==============================] - 1s 2ms/step - loss: 0.8249 - acc: 0.7257 - val_loss: 0.7737 - val_acc: 0.7163\n",
            "Epoch 44/50\n",
            "800/800 [==============================] - 1s 2ms/step - loss: 0.7764 - acc: 0.7210 - val_loss: 0.7728 - val_acc: 0.7205\n",
            "Epoch 45/50\n",
            "800/800 [==============================] - 1s 2ms/step - loss: 0.7803 - acc: 0.7252 - val_loss: 0.7729 - val_acc: 0.7240\n",
            "Epoch 46/50\n",
            "800/800 [==============================] - 1s 1ms/step - loss: 0.8362 - acc: 0.7205 - val_loss: 0.7730 - val_acc: 0.7210\n",
            "Epoch 47/50\n",
            "800/800 [==============================] - 1s 1ms/step - loss: 0.8492 - acc: 0.7230 - val_loss: 0.7724 - val_acc: 0.7163\n",
            "Epoch 48/50\n",
            "800/800 [==============================] - 1s 2ms/step - loss: 0.7975 - acc: 0.7167 - val_loss: 0.7716 - val_acc: 0.7208\n",
            "Epoch 49/50\n",
            "800/800 [==============================] - 1s 2ms/step - loss: 0.7837 - acc: 0.7250 - val_loss: 0.7731 - val_acc: 0.7237\n",
            "Epoch 50/50\n",
            "800/800 [==============================] - 1s 1ms/step - loss: 0.8329 - acc: 0.7199 - val_loss: 0.7724 - val_acc: 0.7203\n"
          ],
          "name": "stdout"
        }
      ]
    },
    {
      "cell_type": "markdown",
      "metadata": {
        "id": "jOreexr_gvcP"
      },
      "source": [
        "## Performances du modèle\n"
      ]
    },
    {
      "cell_type": "code",
      "metadata": {
        "id": "KU1Y1-12gvcQ",
        "outputId": "8890cdde-a06a-4f10-f8fd-2525b6ab3c77",
        "colab": {
          "base_uri": "https://localhost:8080/",
          "height": 295
        }
      },
      "source": [
        "plt.plot(history.history['acc'])\n",
        "plt.plot(history.history['val_acc'])\n",
        "plt.title('Model accuracy')\n",
        "plt.ylabel('Précision')\n",
        "plt.xlabel('Itérations')\n",
        "plt.legend(['Entrainement', 'Test'], loc='upper left')\n",
        "plt.show()"
      ],
      "execution_count": 12,
      "outputs": [
        {
          "output_type": "display_data",
          "data": {
            "image/png": "[encoded data removed]",
            "text/plain": [
              "<Figure size 432x288 with 1 Axes>"
            ]
          },
          "metadata": {
            "tags": [],
            "needs_background": "light"
          }
        }
      ]
    },
    {
      "cell_type": "markdown",
      "metadata": {
        "id": "zX3kJxBEWYPj"
      },
      "source": [
        "## Structure du modèle et calcul de l'erreur de prédiction\r\n",
        "La structure de notre modèle peut être visualisée comme ci-dessous :  \r\n",
        "![picture](https://github.com/AlexandreBourrieau/ML-F1/blob/master/Carnets%20Jupyter/Images/Schema_Non_Supervis%C3%A932.png?raw=true \"ReseauNeurone\")"
      ]
    },
    {
      "cell_type": "markdown",
      "metadata": {
        "id": "wolqQ57_bgxY"
      },
      "source": [
        "L'erreur de prédiction est l'erreur quadratique moyenne entre les entrées et les sorties (écart type). Pour chaque couple d'entrée / sortie, on calcule donc la valeur suivante :\r\n",
        "\r\n",
        " $Erreur =  \\sqrt {{{({V_{1{\\rm{\\_sortie}}}} - {V_{1{\\rm{\\_entr}}e }})}^2} + {{({V_{2{\\rm{\\_sortie}}}} - {V_{2{\\rm{\\_entr}}e }})}^2} + ... + {{(Amoun{t_{{\\rm{\\_sortie}}}} - Amoun{t_{{\\rm{\\_entr}}e }})}^2}} $"
      ]
    },
    {
      "cell_type": "code",
      "metadata": {
        "id": "npC653kSONK5",
        "outputId": "77fa0516-c558-4f33-a1de-4d97550295fd",
        "colab": {
          "base_uri": "https://localhost:8080/"
        }
      },
      "source": [
        "x_test"
      ],
      "execution_count": 13,
      "outputs": [
        {
          "output_type": "execute_result",
          "data": {
            "text/plain": [
              "array([[-3.61552232e-01,  5.37903469e-01,  1.99185075e+00, ...,\n",
              "        -2.20350809e-01, -4.42348047e-02, -2.87017133e-01],\n",
              "       [-2.25940517e+00,  1.89373934e+00,  1.26869060e+00, ...,\n",
              "        -1.59792945e-01, -1.32048624e-01, -2.72916329e-01],\n",
              "       [-6.67139522e-01,  9.59516941e-01,  2.42797161e+00, ...,\n",
              "        -6.70494168e-01, -3.11756735e-01, -2.67976557e-01],\n",
              "       ...,\n",
              "       [-7.34151857e-01,  1.09726690e+00,  2.59526169e+00, ...,\n",
              "         1.25185194e-02,  1.58217856e-01, -3.58643831e-01],\n",
              "       [-3.25562469e-01,  9.54274786e-01,  2.36701572e+00, ...,\n",
              "         7.07424326e-02,  3.76715989e-02, -3.38166230e-01],\n",
              "       [-1.08847881e+01, -1.34496840e+01, -1.56693680e+00, ...,\n",
              "         1.93615207e+00, -1.37972779e+00,  3.90119125e+00]])"
            ]
          },
          "metadata": {
            "tags": []
          },
          "execution_count": 13
        }
      ]
    },
    {
      "cell_type": "markdown",
      "metadata": {
        "id": "EK8OLAVegvcT"
      },
      "source": [
        "## Prédictions\n",
        "\n",
        "Les prédictions sont effectuées sur les données de tests. L'erreur quadratique moyenne (mean-squared error - MSE) est calculés entre les tests et les prédictions. Si cette erreur est grande, c'est une potentielle anomalie et donc une fraude potentielle. Bien sûr, cela n'est pas parfait et il y a des faux-positifs (et des faux négatifs) !"
      ]
    },
    {
      "cell_type": "code",
      "metadata": {
        "id": "pedvVXtngvcU"
      },
      "source": [
        "predictions = autoencoder.predict(x_test)\n",
        "mse = np.mean(np.power(x_test - predictions, 2), axis=1)\n",
        "error_df = pd.DataFrame({'erreur_reconstruction': mse, 'class': y_test})"
      ],
      "execution_count": 14,
      "outputs": []
    },
    {
      "cell_type": "code",
      "metadata": {
        "id": "zaYsHkoIUb53"
      },
      "source": [
        "x_test.shape"
      ],
      "execution_count": null,
      "outputs": []
    },
    {
      "cell_type": "code",
      "metadata": {
        "id": "7WN6s2FeOjSl",
        "outputId": "080237bb-dbd6-4c38-e6e8-53f603d1216f",
        "colab": {
          "base_uri": "https://localhost:8080/"
        }
      },
      "source": [
        "predictions\r\n",
        "mse"
      ],
      "execution_count": 16,
      "outputs": [
        {
          "output_type": "execute_result",
          "data": {
            "text/plain": [
              "array([ 0.32364438,  0.79623792,  0.33272834, ...,  0.35478866,\n",
              "        0.19909871, 16.59191957])"
            ]
          },
          "metadata": {
            "tags": []
          },
          "execution_count": 16
        }
      ]
    },
    {
      "cell_type": "code",
      "metadata": {
        "id": "lVXgySCoNb-O",
        "outputId": "7220ac5f-2d0f-424b-f121-9c164843a823",
        "colab": {
          "base_uri": "https://localhost:8080/",
          "height": 204
        }
      },
      "source": [
        "error_df.head()"
      ],
      "execution_count": 18,
      "outputs": [
        {
          "output_type": "execute_result",
          "data": {
            "text/html": [
              "<div>\n",
              "<style scoped>\n",
              "    .dataframe tbody tr th:only-of-type {\n",
              "        vertical-align: middle;\n",
              "    }\n",
              "\n",
              "    .dataframe tbody tr th {\n",
              "        vertical-align: top;\n",
              "    }\n",
              "\n",
              "    .dataframe thead th {\n",
              "        text-align: right;\n",
              "    }\n",
              "</style>\n",
              "<table border=\"1\" class=\"dataframe\">\n",
              "  <thead>\n",
              "    <tr style=\"text-align: right;\">\n",
              "      <th></th>\n",
              "      <th>erreur_reconstruction</th>\n",
              "      <th>class</th>\n",
              "    </tr>\n",
              "  </thead>\n",
              "  <tbody>\n",
              "    <tr>\n",
              "      <th>8225</th>\n",
              "      <td>0.323644</td>\n",
              "      <td>0</td>\n",
              "    </tr>\n",
              "    <tr>\n",
              "      <th>10794</th>\n",
              "      <td>0.796238</td>\n",
              "      <td>0</td>\n",
              "    </tr>\n",
              "    <tr>\n",
              "      <th>9163</th>\n",
              "      <td>0.332728</td>\n",
              "      <td>0</td>\n",
              "    </tr>\n",
              "    <tr>\n",
              "      <th>26591</th>\n",
              "      <td>0.160957</td>\n",
              "      <td>0</td>\n",
              "    </tr>\n",
              "    <tr>\n",
              "      <th>6631</th>\n",
              "      <td>0.437355</td>\n",
              "      <td>0</td>\n",
              "    </tr>\n",
              "  </tbody>\n",
              "</table>\n",
              "</div>"
            ],
            "text/plain": [
              "       erreur_reconstruction  class\n",
              "8225                0.323644      0\n",
              "10794               0.796238      0\n",
              "9163                0.332728      0\n",
              "26591               0.160957      0\n",
              "6631                0.437355      0"
            ]
          },
          "metadata": {
            "tags": []
          },
          "execution_count": 18
        }
      ]
    },
    {
      "cell_type": "markdown",
      "metadata": {
        "id": "IXPep-KbgvcX"
      },
      "source": [
        "## Affichage de l'erreur de reconstruction\n",
        "\n",
        "L'erreur de reconstruction est affichée pour chaque échantillon. Seuls 6000 échantillons sont affichés, mais les données affichées sont tirées au hasard."
      ]
    },
    {
      "cell_type": "code",
      "metadata": {
        "id": "O3TXPKJIgvcX",
        "outputId": "c3924a22-6a5a-4464-e655-79d85814db51",
        "colab": {
          "base_uri": "https://localhost:8080/",
          "height": 513
        }
      },
      "source": [
        "niveau_detection = 7\n",
        "\n",
        "groups = error_df.groupby('class')\n",
        "fig, ax = plt.subplots(figsize=(12, 8))\n",
        "\n",
        "for name, group in groups:\n",
        "    ax.plot(group.index, group.erreur_reconstruction, marker='o', ms=2.0, linestyle='',\n",
        "            label = \"Fraude\" if name == 1 else \"Normal\",\n",
        "            color = \"red\" if name == 1 else \"blue\")\n",
        "ax.hlines(niveau_detection, ax.get_xlim()[0], ax.get_xlim()[1], colors=\"green\", zorder=100, label='Niveau de détection')\n",
        "ax.legend()\n",
        "plt.title(\"Erreur de reconstruction pour différents échantillons\")\n",
        "plt.ylabel(\"Erreur de reconstruction\")\n",
        "plt.xlabel(\"Index de l'échantillon\")\n",
        "plt.show();"
      ],
      "execution_count": 20,
      "outputs": [
        {
          "output_type": "display_data",
          "data": {
            "image/png": "[encoded data removed]",
            "text/plain": [
              "<Figure size 864x576 with 1 Axes>"
            ]
          },
          "metadata": {
            "tags": [],
            "needs_background": "light"
          }
        }
      ]
    },
    {
      "cell_type": "markdown",
      "metadata": {
        "id": "e4JxXgvyxJku"
      },
      "source": [
        "# Analyse\n",
        "\n",
        "Comme nous connaissons les transactions frauduleuses, nous pouvons afficher et calculer le nombre de faux positifs. Dans l'idéal, il faudrait que leur nombre soit très faible, mais notre modèle est imparfait... "
      ]
    },
    {
      "cell_type": "code",
      "metadata": {
        "id": "YcYrqCvrgvce"
      },
      "source": [
        "transactions_normales = error_df[error_df['class'] == 0]\n",
        "transactions_frauduleuses = error_df[error_df['class'] == 1]\n",
        "\n",
        "print('Transactions normales : %d, Transactions frauduleuse : %d' % (len(transactions_normales), len(transactions_frauduleuses)))"
      ],
      "execution_count": null,
      "outputs": []
    },
    {
      "cell_type": "code",
      "metadata": {
        "id": "1ySewU_gsZBZ"
      },
      "source": [
        "vraies_transactions_frauduleuses = len(transactions_frauduleuses[transactions_frauduleuses['erreur_reconstruction'] >= niveau_detection])\n",
        "vraies_transactions_normales = len(transactions_normales[transactions_normales['erreur_reconstruction'] < niveau_detection])\n",
        "\n",
        "faux_positifs = len(transactions_normales[transactions_normales['erreur_reconstruction'] >= niveau_detection])\n",
        "faux_negatifs = len(transactions_frauduleuses[transactions_frauduleuses['erreur_reconstruction'] < niveau_detection])\n",
        "\n",
        "print('Faux positifs: %d, Vraies transactions frauduleuses: %d' % (faux_positifs, vraies_transactions_frauduleuses))\n",
        "print('Faux négatifs : %d, Vraies transactions normales: %d' % (faux_negatifs, vraies_transactions_normales))"
      ],
      "execution_count": null,
      "outputs": []
    },
    {
      "cell_type": "markdown",
      "metadata": {
        "id": "FbU9T7gMgvca"
      },
      "source": [
        "## Matrice de synthèse\n",
        "\n",
        "La matrice de synthèse ci-dessous permet d'avoir une vue d'ensemble des résultats obtenus."
      ]
    },
    {
      "cell_type": "code",
      "metadata": {
        "id": "zb_Azs0Xgvcb"
      },
      "source": [
        "labels = [\"Normale\", \"Fraude\"]\n",
        "\n",
        "y_pred = [1 if e > niveau_detection else 0 for e in error_df.erreur_reconstruction.values]\n",
        "conf_matrix = confusion_matrix(error_df['class'], y_pred)\n",
        "\n",
        "plt.figure(figsize=(6, 5))\n",
        "sns.heatmap(conf_matrix, xticklabels=labels, yticklabels=labels, annot=True, fmt=\"d\");\n",
        "plt.title(\"Matrice de synthèse\")\n",
        "plt.ylabel('Cas réels')\n",
        "plt.xlabel('Prédictions')\n",
        "plt.show()"
      ],
      "execution_count": null,
      "outputs": []
    }
  ]
}