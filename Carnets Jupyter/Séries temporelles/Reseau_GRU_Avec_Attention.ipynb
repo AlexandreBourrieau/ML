{
  "nbformat": 4,
  "nbformat_minor": 0,
  "metadata": {
    "colab": {
      "name": "Reseau_GRU_Avec_Attention.ipynb",
      "provenance": [],
      "authorship_tag": "ABX9TyMW6BMem1SYVFZHR7fDsbmL",
      "include_colab_link": true
    },
    "kernelspec": {
      "name": "python3",
      "display_name": "Python 3"
    }
  },
  "cells": [
    {
      "cell_type": "markdown",
      "metadata": {
        "id": "view-in-github",
        "colab_type": "text"
      },
      "source": [
        "<a href=\"https://colab.research.google.com/github/AlexandreBourrieau/ML/blob/main/Carnets%20Jupyter/S%C3%A9ries%20temporelles/Reseau_GRU_Avec_Attention.ipynb\" target=\"_parent\"><img src=\"https://colab.research.google.com/assets/colab-badge.svg\" alt=\"Open In Colab\"/></a>"
      ]
    },
    {
      "cell_type": "markdown",
      "metadata": {
        "id": "ubCeIvtF6R4W"
      },
      "source": [
        "Dans ce carnet nous allons mettre en place un modèle à réseau de neurones récurrent de type GRU associé à une couche d'attention pour réaliser des prédictions sur notre série temporelle."
      ]
    },
    {
      "cell_type": "code",
      "metadata": {
        "id": "RRhtHsNn5fc3"
      },
      "source": [
        "import tensorflow as tf\r\n",
        "from tensorflow import keras\r\n",
        "\r\n",
        "import numpy as np\r\n",
        "import matplotlib.pyplot as plt"
      ],
      "execution_count": 1,
      "outputs": []
    },
    {
      "cell_type": "markdown",
      "metadata": {
        "id": "XFeah3y_6kif"
      },
      "source": [
        "# Création de la série temporelle et du dataset pour l'entrainement"
      ]
    },
    {
      "cell_type": "code",
      "metadata": {
        "id": "vJfSLtub6sdc"
      },
      "source": [
        "# Fonction permettant d'afficher une série temporelle\r\n",
        "def affiche_serie(temps, serie, format=\"-\", debut=0, fin=None, label=None):\r\n",
        "    plt.plot(temps[debut:fin], serie[debut:fin], format, label=label)\r\n",
        "    plt.xlabel(\"Temps\")\r\n",
        "    plt.ylabel(\"Valeur\")\r\n",
        "    if label:\r\n",
        "        plt.legend(fontsize=14)\r\n",
        "    plt.grid(True)\r\n",
        "\r\n",
        "# Fonction permettant de créer une tendance\r\n",
        "def tendance(temps, pente=0):\r\n",
        "    return pente * temps\r\n",
        "\r\n",
        "# Fonction permettant de créer un motif\r\n",
        "def motif_periodique(instants):\r\n",
        "    return (np.where(instants < 0.4,                            # Si les instants sont < 0.4\r\n",
        "                    np.cos(instants * 2 * np.pi),               # Alors on retourne la fonction cos(2*pi*t)\r\n",
        "                    1 / np.exp(3 * instants)))                  # Sinon, on retourne la fonction exp(-3t)\r\n",
        "\r\n",
        "# Fonction permettant de créer une saisonnalité avec un motif\r\n",
        "def saisonnalite(temps, periode, amplitude=1, phase=0):\r\n",
        "    \"\"\"Répétition du motif sur la même période\"\"\"\r\n",
        "    instants = ((temps + phase) % periode) / periode            # Mapping du temps =[0 1 2 ... 1460] => instants = [0.0 ... 1.0]\r\n",
        "    return amplitude * motif_periodique(instants)\r\n",
        "\r\n",
        "# Fonction permettant de générer du bruit gaussien N(0,1)\r\n",
        "def bruit_blanc(temps, niveau_bruit=1, graine=None):\r\n",
        "    rnd = np.random.RandomState(graine)\r\n",
        "    return rnd.randn(len(temps)) * niveau_bruit\r\n",
        "\r\n",
        "# Fonction permettant de créer un dataset à partir des données de la série temporelle\r\n",
        "# au format X(X1,X2,...Xn) / Y(Y1,Y2,...,Yn)\r\n",
        "# X sont les données d'entrées du réseau\r\n",
        "# Y sont les labels\r\n",
        "\r\n",
        "def prepare_dataset_XY(serie, taille_fenetre, batch_size, buffer_melange):\r\n",
        "  dataset = tf.data.Dataset.from_tensor_slices(serie)\r\n",
        "  dataset = dataset.window(taille_fenetre+1, shift=1, drop_remainder=True)\r\n",
        "  dataset = dataset.flat_map(lambda x: x.batch(taille_fenetre + 1))\r\n",
        "  dataset = dataset.shuffle(buffer_melange).map(lambda x: (x[:-1], x[-1:]))\r\n",
        "  dataset = dataset.batch(batch_size,drop_remainder=True).prefetch(1)\r\n",
        "  return dataset\r\n",
        "\r\n",
        "\r\n",
        "# Création de la série temporelle\r\n",
        "temps = np.arange(4 * 365)                # temps = [0 1 2 .... 4*365] = [0 1 2 .... 1460]\r\n",
        "amplitude = 40                            # Amplitude de la la saisonnalité\r\n",
        "niveau_bruit = 5                          # Niveau du bruit\r\n",
        "offset = 10                               # Offset de la série\r\n",
        "\r\n",
        "serie = offset + tendance(temps, 0.1) + saisonnalite(temps, periode=365, amplitude=amplitude) + bruit_blanc(temps,niveau_bruit)\r\n",
        "\r\n",
        "temps_separation = 1000\r\n",
        "\r\n",
        "# Extraction des temps et des données d'entrainement\r\n",
        "temps_entrainement = temps[:temps_separation]\r\n",
        "x_entrainement = serie[:temps_separation]\r\n",
        "\r\n",
        "# Exctraction des temps et des données de valiadation\r\n",
        "temps_validation = temps[temps_separation:]\r\n",
        "x_validation = serie[temps_separation:]\r\n",
        "\r\n",
        "# Définition des caractéristiques du dataset que l'on souhaite créer\r\n",
        "taille_fenetre = 20\r\n",
        "batch_size = 32\r\n",
        "buffer_melange = 1000\r\n",
        "\r\n",
        "# Création du dataset X,Y\r\n",
        "dataset = prepare_dataset_XY(serie,taille_fenetre,batch_size,buffer_melange)\r\n",
        "\r\n",
        "# Création du dataset X,Y de validation\r\n",
        "dataset_Val = prepare_dataset_XY(x_validation,taille_fenetre,batch_size,buffer_melange)"
      ],
      "execution_count": 338,
      "outputs": []
    },
    {
      "cell_type": "markdown",
      "metadata": {
        "id": "2Yt-EgZ3sgPY"
      },
      "source": [
        "# Création du modèle GRU avec couche d'attention personnalisée simple"
      ]
    },
    {
      "cell_type": "markdown",
      "metadata": {
        "id": "dyrcfKcgCsZ7"
      },
      "source": [
        "**1. Création du réseau et adaptation des formats d'entrée et de sortie**"
      ]
    },
    {
      "cell_type": "markdown",
      "metadata": {
        "id": "zeJyix8HK7Kt"
      },
      "source": [
        "Sous forme de shéma, notre réseau est donc le suivant :\r\n"
      ]
    },
    {
      "cell_type": "markdown",
      "metadata": {
        "id": "1OZkfsmnBNHY"
      },
      "source": [
        "<img src=\"https://github.com/AlexandreBourrieau/ML/blob/main/Carnets%20Jupyter/S%C3%A9ries%20temporelles/images/LSTM_1.png?raw=true\" width=\"1200\"> "
      ]
    },
    {
      "cell_type": "code",
      "metadata": {
        "id": "4kgTrJOQ5DUo"
      },
      "source": [
        "# Remise à zéro de tous les états générés par Keras\r\n",
        "tf.keras.backend.clear_session()"
      ],
      "execution_count": null,
      "outputs": []
    },
    {
      "cell_type": "markdown",
      "metadata": {
        "id": "hLNIAGDlBizT"
      },
      "source": [
        "On créé une classe dérivée de la classe [Layer](https://keras.io/api/layers/base_layer/#layer-class) de Keras. Les méthodes utilisées sont les suivantes :  \r\n",
        " - [build](https://www.tensorflow.org/api_docs/python/tf/keras/layers/Layer#build) : Permet de créer les variables utilisées par la couche (commes les poids et les offsets)\r\n",
        " - [call](https://www.tensorflow.org/api_docs/python/tf/keras/layers/Layer#call) : Permet d'implanter la logique de la couche"
      ]
    },
    {
      "cell_type": "code",
      "metadata": {
        "id": "gxemAfJ05GyO"
      },
      "source": [
        "# Importe le Backend de Keras\r\n",
        "from keras import backend as K\r\n",
        "\r\n",
        "# Définit une nouvelle classe Couche_Attention\r\n",
        "# Héritée de la classe Layer de Keras\r\n",
        "\r\n",
        "class Couche_Attention(tf.keras.layers.Layer):\r\n",
        "  # Fonction d'initialisation de la classe d'attention\r\n",
        "  def __init__(self,dim):\r\n",
        "    self.dim = dim              # Dimension des vecteurs cachés de la couche récurrente\r\n",
        "    super().__init__()          # Appel du __init__() de la classe Layer\r\n",
        "  \r\n",
        "  # Fonction appellée pour créer les variables de la couche\r\n",
        "  # input_shape = (None, nbr_v, dim)\r\n",
        "  #     nbr_v : Nombre de vecteurs cachés passés à la couche d'attention\r\n",
        "  #     dim   : Dimension des vecteurs cachés de la couche récurrente\r\n",
        "  def build(self,input_shape):\r\n",
        "    self.nbr_v = input_shape[1]       # Nombre de vecteurs cachés passés à la couche d'attention\r\n",
        "    self.w = self.add_weight(shape=(self.dim,1), initializer=\"normal\", name=\"w\")         # Initialise les poids avec une loi normale\r\n",
        "    self.b = self.add_weight(shape=(self.nbr_v,1), initializer=\"zeros\", name=\"b\")        # Initialise les offsets à zéro\r\n",
        "    super().build(input_shape)        # Appel de la méthode build()\r\n",
        "\r\n",
        "  # Définit la logique de la couche d'attention\r\n",
        "  # Arguments :   x : Tenseur d'entrée de dimension (None, nbr_v,dim)\r\n",
        "  def call(self,x):\r\n",
        "    e = K.tanh(K.dot(x,self.w) + self.b)\r\n",
        "    a = K.softmax(e,axis=1)                     # Poids d'attention\r\n",
        "    sortie = K.sum(x*a, axis=1)                 # Vecteur d'état de sortie d'attention\r\n",
        "    return a, sortie"
      ],
      "execution_count": 409,
      "outputs": []
    },
    {
      "cell_type": "code",
      "metadata": {
        "id": "2LrC7f27Trg1"
      },
      "source": [
        "initializer = tf.keras.initializers.RandomNormal(mean=0., stddev=1.)\r\n",
        "x = tf.Variable(tf.ones([32,20,40], dtype=tf.float32))\r\n",
        "x = initializer(shape=(32,20,40))\r\n",
        "\r\n",
        "w = initializer(shape=(40,1))\r\n",
        "b = initializer(shape=(20,1))\r\n"
      ],
      "execution_count": 389,
      "outputs": []
    },
    {
      "cell_type": "code",
      "metadata": {
        "id": "hLlIEhSwhw3B"
      },
      "source": [
        "e = K.dot(tf.reshape(x[0,:,:],(20,40)),w)\r\n",
        "a = K.softmax(e,axis=0)\r\n",
        "#print(a)\r\n",
        "print(K.sum(tf.reshape(x[0,:,:],(20,40))*a, axis=0))"
      ],
      "execution_count": null,
      "outputs": []
    },
    {
      "cell_type": "code",
      "metadata": {
        "id": "P44XZrSxybmy"
      },
      "source": [
        "e=K.dot(x,w)\r\n",
        "a = K.softmax(e,axis=1)\r\n",
        "s = K.sum(x*a, axis=1)\r\n",
        "print(s)"
      ],
      "execution_count": null,
      "outputs": []
    },
    {
      "cell_type": "code",
      "metadata": {
        "id": "n8jIkIGWYVWT"
      },
      "source": [
        "e=(K.dot(x,w))\r\n",
        "a = K.softmax(e,axis=1)\r\n",
        "print(K.sum(x*a, axis=0))"
      ],
      "execution_count": null,
      "outputs": []
    },
    {
      "cell_type": "code",
      "metadata": {
        "id": "961HZM8A51bH",
        "outputId": "a584045b-1484-4971-eba0-4576972fb684",
        "colab": {
          "base_uri": "https://localhost:8080/"
        }
      },
      "source": [
        "# Couche d'attention perso\r\n",
        "\r\n",
        "dim_GRU = 40\r\n",
        "\r\n",
        "# Fonction de la couche lambda d'entrée\r\n",
        "def Traitement_Entrees(x):\r\n",
        "  return tf.expand_dims(x,axis=-1)\r\n",
        "\r\n",
        "# Fonction dela couche lambda de sortie\r\n",
        "def Traitement_Sorties(x):\r\n",
        "  return(x*100.0)\r\n",
        "\r\n",
        "inputs = tf.keras.Input(shape=(20))\r\n",
        "encoder_output = tf.keras.layers.GRU(units=dim_GRU,return_sequences=True)(tf.keras.layers.Lambda(Traitement_Entrees)(inputs))\r\n",
        "print(encoder_output.shape)\r\n",
        "\r\n",
        "poids_attention, vecteur_attention = Couche_Attention(dim=dim_GRU)(encoder_output)\r\n",
        "print(poids_attention.shape)\r\n",
        "print(vecteur_attention.shape)\r\n",
        "\r\n",
        "outputs = tf.keras.layers.Dense(1,trainable=True)(vecteur_attention)\r\n",
        "out = tf.keras.layers.Lambda(Traitement_Sorties)(outputs)\r\n",
        "model=tf.keras.Model(inputs,outputs)\r\n",
        "\r\n",
        "model.summary()"
      ],
      "execution_count": 410,
      "outputs": [
        {
          "output_type": "stream",
          "text": [
            "(None, 20, 40)\n",
            "(None, 20, 1)\n",
            "(None, 40)\n",
            "Model: \"model_6\"\n",
            "_________________________________________________________________\n",
            "Layer (type)                 Output Shape              Param #   \n",
            "=================================================================\n",
            "input_59 (InputLayer)        [(None, 20)]              0         \n",
            "_________________________________________________________________\n",
            "lambda_25 (Lambda)           (None, 20, 1)             0         \n",
            "_________________________________________________________________\n",
            "gru_53 (GRU)                 (None, 20, 40)            5160      \n",
            "_________________________________________________________________\n",
            "couche__attention_50 (Couche ((None, 20, 1), (None, 40 60        \n",
            "_________________________________________________________________\n",
            "dense_16 (Dense)             (None, 1)                 41        \n",
            "=================================================================\n",
            "Total params: 5,261\n",
            "Trainable params: 5,261\n",
            "Non-trainable params: 0\n",
            "_________________________________________________________________\n"
          ],
          "name": "stdout"
        }
      ]
    },
    {
      "cell_type": "code",
      "metadata": {
        "id": "jejCBhXVuNQ4",
        "colab": {
          "base_uri": "https://localhost:8080/"
        },
        "outputId": "d4e0ca0c-8a3e-43be-a148-ac66dce24503"
      },
      "source": [
        "# Définition de la fonction de régulation du taux d'apprentissage\r\n",
        "def RegulationTauxApprentissage(periode, taux):\r\n",
        "  return 1e-8*10**(periode/10)\r\n",
        "\r\n",
        "# Définition de l'optimiseur à utiliser\r\n",
        "optimiseur=tf.keras.optimizers.Adam()\r\n",
        "\r\n",
        "# Utilisation de la méthode ModelCheckPoint\r\n",
        "CheckPoint = tf.keras.callbacks.ModelCheckpoint(\"poids.hdf5\", monitor='loss', verbose=1, save_best_only=True, save_weights_only = True, mode='auto', save_freq='epoch')\r\n",
        "\r\n",
        "# Compile le modèle\r\n",
        "model.compile(loss=tf.keras.losses.Huber(), optimizer=optimiseur, metrics=\"mae\")\r\n",
        "\r\n",
        "# Entraine le modèle en utilisant notre fonction personnelle de régulation du taux d'apprentissage\r\n",
        "historique = model.fit(dataset,epochs=100,verbose=1, callbacks=[tf.keras.callbacks.LearningRateScheduler(RegulationTauxApprentissage), CheckPoint])"
      ],
      "execution_count": 411,
      "outputs": [
        {
          "output_type": "stream",
          "text": [
            "Epoch 1/100\n",
            "45/45 [==============================] - 2s 7ms/step - loss: 86.5573 - mae: 87.0567\n",
            "\n",
            "Epoch 00001: loss improved from inf to 91.82028, saving model to poids.hdf5\n",
            "Epoch 2/100\n",
            "45/45 [==============================] - 0s 7ms/step - loss: 85.3869 - mae: 85.8865\n",
            "\n",
            "Epoch 00002: loss improved from 91.82028 to 91.82024, saving model to poids.hdf5\n",
            "Epoch 3/100\n",
            "45/45 [==============================] - 0s 7ms/step - loss: 85.2055 - mae: 85.7050\n",
            "\n",
            "Epoch 00003: loss improved from 91.82024 to 91.82021, saving model to poids.hdf5\n",
            "Epoch 4/100\n",
            "45/45 [==============================] - 0s 7ms/step - loss: 84.6162 - mae: 85.1157\n",
            "\n",
            "Epoch 00004: loss improved from 91.82021 to 91.82016, saving model to poids.hdf5\n",
            "Epoch 5/100\n",
            "45/45 [==============================] - 0s 7ms/step - loss: 85.4993 - mae: 85.9990\n",
            "\n",
            "Epoch 00005: loss improved from 91.82016 to 91.82010, saving model to poids.hdf5\n",
            "Epoch 6/100\n",
            "45/45 [==============================] - 0s 7ms/step - loss: 85.3180 - mae: 85.8175\n",
            "\n",
            "Epoch 00006: loss improved from 91.82010 to 91.82000, saving model to poids.hdf5\n",
            "Epoch 7/100\n",
            "45/45 [==============================] - 0s 7ms/step - loss: 83.8631 - mae: 84.3630\n",
            "\n",
            "Epoch 00007: loss improved from 91.82000 to 91.81990, saving model to poids.hdf5\n",
            "Epoch 8/100\n",
            "45/45 [==============================] - 0s 7ms/step - loss: 83.9403 - mae: 84.4398\n",
            "\n",
            "Epoch 00008: loss improved from 91.81990 to 91.81975, saving model to poids.hdf5\n",
            "Epoch 9/100\n",
            "45/45 [==============================] - 0s 7ms/step - loss: 84.5417 - mae: 85.0414\n",
            "\n",
            "Epoch 00009: loss improved from 91.81975 to 91.81961, saving model to poids.hdf5\n",
            "Epoch 10/100\n",
            "45/45 [==============================] - 0s 8ms/step - loss: 84.6613 - mae: 85.1603\n",
            "\n",
            "Epoch 00010: loss improved from 91.81961 to 91.81939, saving model to poids.hdf5\n",
            "Epoch 11/100\n",
            "45/45 [==============================] - 0s 7ms/step - loss: 86.4692 - mae: 86.9688\n",
            "\n",
            "Epoch 00011: loss improved from 91.81939 to 91.81912, saving model to poids.hdf5\n",
            "Epoch 12/100\n",
            "45/45 [==============================] - 0s 7ms/step - loss: 84.5429 - mae: 85.0425\n",
            "\n",
            "Epoch 00012: loss improved from 91.81912 to 91.81880, saving model to poids.hdf5\n",
            "Epoch 13/100\n",
            "45/45 [==============================] - 0s 7ms/step - loss: 84.7387 - mae: 85.2382\n",
            "\n",
            "Epoch 00013: loss improved from 91.81880 to 91.81839, saving model to poids.hdf5\n",
            "Epoch 14/100\n",
            "45/45 [==============================] - 0s 7ms/step - loss: 85.5006 - mae: 85.9997\n",
            "\n",
            "Epoch 00014: loss improved from 91.81839 to 91.81787, saving model to poids.hdf5\n",
            "Epoch 15/100\n",
            "45/45 [==============================] - 0s 8ms/step - loss: 83.0828 - mae: 83.5826\n",
            "\n",
            "Epoch 00015: loss improved from 91.81787 to 91.81720, saving model to poids.hdf5\n",
            "Epoch 16/100\n",
            "45/45 [==============================] - 0s 7ms/step - loss: 84.3199 - mae: 84.8194\n",
            "\n",
            "Epoch 00016: loss improved from 91.81720 to 91.81638, saving model to poids.hdf5\n",
            "Epoch 17/100\n",
            "45/45 [==============================] - 0s 7ms/step - loss: 86.6005 - mae: 87.1000\n",
            "\n",
            "Epoch 00017: loss improved from 91.81638 to 91.81532, saving model to poids.hdf5\n",
            "Epoch 18/100\n",
            "45/45 [==============================] - 0s 7ms/step - loss: 86.2006 - mae: 86.7005\n",
            "\n",
            "Epoch 00018: loss improved from 91.81532 to 91.81400, saving model to poids.hdf5\n",
            "Epoch 19/100\n",
            "45/45 [==============================] - 0s 8ms/step - loss: 86.4222 - mae: 86.9218\n",
            "\n",
            "Epoch 00019: loss improved from 91.81400 to 91.81235, saving model to poids.hdf5\n",
            "Epoch 20/100\n",
            "45/45 [==============================] - 0s 8ms/step - loss: 85.7971 - mae: 86.2967\n",
            "\n",
            "Epoch 00020: loss improved from 91.81235 to 91.81024, saving model to poids.hdf5\n",
            "Epoch 21/100\n",
            "45/45 [==============================] - 0s 8ms/step - loss: 85.6244 - mae: 86.1240\n",
            "\n",
            "Epoch 00021: loss improved from 91.81024 to 91.80759, saving model to poids.hdf5\n",
            "Epoch 22/100\n",
            "45/45 [==============================] - 0s 7ms/step - loss: 84.9505 - mae: 85.4496\n",
            "\n",
            "Epoch 00022: loss improved from 91.80759 to 91.80425, saving model to poids.hdf5\n",
            "Epoch 23/100\n",
            "45/45 [==============================] - 0s 7ms/step - loss: 86.2895 - mae: 86.7880\n",
            "\n",
            "Epoch 00023: loss improved from 91.80425 to 91.80002, saving model to poids.hdf5\n",
            "Epoch 24/100\n",
            "45/45 [==============================] - 0s 7ms/step - loss: 84.5886 - mae: 85.0877\n",
            "\n",
            "Epoch 00024: loss improved from 91.80002 to 91.79467, saving model to poids.hdf5\n",
            "Epoch 25/100\n",
            "45/45 [==============================] - 0s 8ms/step - loss: 85.3345 - mae: 85.8338\n",
            "\n",
            "Epoch 00025: loss improved from 91.79467 to 91.78787, saving model to poids.hdf5\n",
            "Epoch 26/100\n",
            "45/45 [==============================] - 0s 7ms/step - loss: 84.3634 - mae: 84.8622\n",
            "\n",
            "Epoch 00026: loss improved from 91.78787 to 91.77925, saving model to poids.hdf5\n",
            "Epoch 27/100\n",
            "45/45 [==============================] - 0s 7ms/step - loss: 85.3468 - mae: 85.8459\n",
            "\n",
            "Epoch 00027: loss improved from 91.77925 to 91.76828, saving model to poids.hdf5\n",
            "Epoch 28/100\n",
            "45/45 [==============================] - 0s 7ms/step - loss: 85.2218 - mae: 85.7212\n",
            "\n",
            "Epoch 00028: loss improved from 91.76828 to 91.75426, saving model to poids.hdf5\n",
            "Epoch 29/100\n",
            "45/45 [==============================] - 0s 7ms/step - loss: 84.9028 - mae: 85.4026\n",
            "\n",
            "Epoch 00029: loss improved from 91.75426 to 91.73627, saving model to poids.hdf5\n",
            "Epoch 30/100\n",
            "45/45 [==============================] - 0s 8ms/step - loss: 85.4629 - mae: 85.9625\n",
            "\n",
            "Epoch 00030: loss improved from 91.73627 to 91.71305, saving model to poids.hdf5\n",
            "Epoch 31/100\n",
            "45/45 [==============================] - 0s 8ms/step - loss: 84.5895 - mae: 85.0887\n",
            "\n",
            "Epoch 00031: loss improved from 91.71305 to 91.68283, saving model to poids.hdf5\n",
            "Epoch 32/100\n",
            "45/45 [==============================] - 0s 8ms/step - loss: 84.6700 - mae: 85.1697\n",
            "\n",
            "Epoch 00032: loss improved from 91.68283 to 91.64310, saving model to poids.hdf5\n",
            "Epoch 33/100\n",
            "45/45 [==============================] - 0s 7ms/step - loss: 85.0472 - mae: 85.5470\n",
            "\n",
            "Epoch 00033: loss improved from 91.64310 to 91.58998, saving model to poids.hdf5\n",
            "Epoch 34/100\n",
            "45/45 [==============================] - 0s 8ms/step - loss: 85.1860 - mae: 85.6849\n",
            "\n",
            "Epoch 00034: loss improved from 91.58998 to 91.51786, saving model to poids.hdf5\n",
            "Epoch 35/100\n",
            "45/45 [==============================] - 0s 7ms/step - loss: 86.1205 - mae: 86.6201\n",
            "\n",
            "Epoch 00035: loss improved from 91.51786 to 91.41779, saving model to poids.hdf5\n",
            "Epoch 36/100\n",
            "45/45 [==============================] - 0s 7ms/step - loss: 85.1129 - mae: 85.6119\n",
            "\n",
            "Epoch 00036: loss improved from 91.41779 to 91.27886, saving model to poids.hdf5\n",
            "Epoch 37/100\n",
            "45/45 [==============================] - 0s 7ms/step - loss: 85.4554 - mae: 85.9552\n",
            "\n",
            "Epoch 00037: loss improved from 91.27886 to 91.09403, saving model to poids.hdf5\n",
            "Epoch 38/100\n",
            "45/45 [==============================] - 0s 8ms/step - loss: 84.7405 - mae: 85.2404\n",
            "\n",
            "Epoch 00038: loss improved from 91.09403 to 90.85101, saving model to poids.hdf5\n",
            "Epoch 39/100\n",
            "45/45 [==============================] - 0s 8ms/step - loss: 82.1665 - mae: 82.6662\n",
            "\n",
            "Epoch 00039: loss improved from 90.85101 to 90.47815, saving model to poids.hdf5\n",
            "Epoch 40/100\n",
            "45/45 [==============================] - 0s 8ms/step - loss: 83.2158 - mae: 83.7152\n",
            "\n",
            "Epoch 00040: loss improved from 90.47815 to 89.92174, saving model to poids.hdf5\n",
            "Epoch 41/100\n",
            "45/45 [==============================] - 0s 8ms/step - loss: 82.2110 - mae: 82.7103\n",
            "\n",
            "Epoch 00041: loss improved from 89.92174 to 88.93861, saving model to poids.hdf5\n",
            "Epoch 42/100\n",
            "45/45 [==============================] - 0s 7ms/step - loss: 83.2979 - mae: 83.7974\n",
            "\n",
            "Epoch 00042: loss improved from 88.93861 to 88.15685, saving model to poids.hdf5\n",
            "Epoch 43/100\n",
            "45/45 [==============================] - 0s 7ms/step - loss: 80.7399 - mae: 81.2391\n",
            "\n",
            "Epoch 00043: loss improved from 88.15685 to 87.08598, saving model to poids.hdf5\n",
            "Epoch 44/100\n",
            "45/45 [==============================] - 0s 7ms/step - loss: 79.7467 - mae: 80.2452\n",
            "\n",
            "Epoch 00044: loss improved from 87.08598 to 85.25263, saving model to poids.hdf5\n",
            "Epoch 45/100\n",
            "45/45 [==============================] - 0s 7ms/step - loss: 76.3292 - mae: 76.8292\n",
            "\n",
            "Epoch 00045: loss improved from 85.25263 to 84.10265, saving model to poids.hdf5\n",
            "Epoch 46/100\n",
            "45/45 [==============================] - 0s 8ms/step - loss: 76.8345 - mae: 77.3339\n",
            "\n",
            "Epoch 00046: loss improved from 84.10265 to 83.31994, saving model to poids.hdf5\n",
            "Epoch 47/100\n",
            "45/45 [==============================] - 0s 7ms/step - loss: 75.5949 - mae: 76.0942\n",
            "\n",
            "Epoch 00047: loss improved from 83.31994 to 81.98194, saving model to poids.hdf5\n",
            "Epoch 48/100\n",
            "45/45 [==============================] - 0s 8ms/step - loss: 74.1570 - mae: 74.6549\n",
            "\n",
            "Epoch 00048: loss improved from 81.98194 to 80.68508, saving model to poids.hdf5\n",
            "Epoch 49/100\n",
            "45/45 [==============================] - 0s 8ms/step - loss: 74.4187 - mae: 74.9178\n",
            "\n",
            "Epoch 00049: loss improved from 80.68508 to 79.16809, saving model to poids.hdf5\n",
            "Epoch 50/100\n",
            "45/45 [==============================] - 0s 8ms/step - loss: 72.3687 - mae: 72.8684\n",
            "\n",
            "Epoch 00050: loss improved from 79.16809 to 77.44690, saving model to poids.hdf5\n",
            "Epoch 51/100\n",
            "45/45 [==============================] - 0s 8ms/step - loss: 69.9888 - mae: 70.4869\n",
            "\n",
            "Epoch 00051: loss improved from 77.44690 to 75.40867, saving model to poids.hdf5\n",
            "Epoch 52/100\n",
            "45/45 [==============================] - 0s 8ms/step - loss: 67.8887 - mae: 68.3885\n",
            "\n",
            "Epoch 00052: loss improved from 75.40867 to 72.98617, saving model to poids.hdf5\n",
            "Epoch 53/100\n",
            "45/45 [==============================] - 0s 8ms/step - loss: 65.5344 - mae: 66.0326\n",
            "\n",
            "Epoch 00053: loss improved from 72.98617 to 70.05768, saving model to poids.hdf5\n",
            "Epoch 54/100\n",
            "45/45 [==============================] - 0s 8ms/step - loss: 60.7454 - mae: 61.2443\n",
            "\n",
            "Epoch 00054: loss improved from 70.05768 to 66.51986, saving model to poids.hdf5\n",
            "Epoch 55/100\n",
            "45/45 [==============================] - 0s 8ms/step - loss: 57.5508 - mae: 58.0484\n",
            "\n",
            "Epoch 00055: loss improved from 66.51986 to 62.30293, saving model to poids.hdf5\n",
            "Epoch 56/100\n",
            "45/45 [==============================] - 0s 8ms/step - loss: 52.5224 - mae: 53.0188\n",
            "\n",
            "Epoch 00056: loss improved from 62.30293 to 57.47902, saving model to poids.hdf5\n",
            "Epoch 57/100\n",
            "45/45 [==============================] - 0s 7ms/step - loss: 48.1989 - mae: 48.6934\n",
            "\n",
            "Epoch 00057: loss improved from 57.47902 to 52.51879, saving model to poids.hdf5\n",
            "Epoch 58/100\n",
            "45/45 [==============================] - 0s 8ms/step - loss: 42.8385 - mae: 43.3338\n",
            "\n",
            "Epoch 00058: loss improved from 52.51879 to 47.64078, saving model to poids.hdf5\n",
            "Epoch 59/100\n",
            "45/45 [==============================] - 0s 8ms/step - loss: 40.2062 - mae: 40.7027\n",
            "\n",
            "Epoch 00059: loss improved from 47.64078 to 41.95921, saving model to poids.hdf5\n",
            "Epoch 60/100\n",
            "45/45 [==============================] - 0s 8ms/step - loss: 31.3329 - mae: 31.8259\n",
            "\n",
            "Epoch 00060: loss improved from 41.95921 to 35.13415, saving model to poids.hdf5\n",
            "Epoch 61/100\n",
            "45/45 [==============================] - 0s 8ms/step - loss: 24.6562 - mae: 25.1449\n",
            "\n",
            "Epoch 00061: loss improved from 35.13415 to 28.24569, saving model to poids.hdf5\n",
            "Epoch 62/100\n",
            "45/45 [==============================] - 0s 8ms/step - loss: 19.6682 - mae: 20.1564\n",
            "\n",
            "Epoch 00062: loss improved from 28.24569 to 22.86430, saving model to poids.hdf5\n",
            "Epoch 63/100\n",
            "45/45 [==============================] - 0s 8ms/step - loss: 15.4758 - mae: 15.9653\n",
            "\n",
            "Epoch 00063: loss improved from 22.86430 to 17.46425, saving model to poids.hdf5\n",
            "Epoch 64/100\n",
            "45/45 [==============================] - 0s 8ms/step - loss: 11.4869 - mae: 11.9705\n",
            "\n",
            "Epoch 00064: loss improved from 17.46425 to 12.88534, saving model to poids.hdf5\n",
            "Epoch 65/100\n",
            "45/45 [==============================] - 0s 8ms/step - loss: 13.3123 - mae: 13.8025\n",
            "\n",
            "Epoch 00065: loss did not improve from 12.88534\n",
            "Epoch 66/100\n",
            "45/45 [==============================] - 0s 7ms/step - loss: 15.2263 - mae: 15.7176\n",
            "\n",
            "Epoch 00066: loss did not improve from 12.88534\n",
            "Epoch 67/100\n",
            "45/45 [==============================] - 0s 7ms/step - loss: 11.3888 - mae: 11.8746\n",
            "\n",
            "Epoch 00067: loss improved from 12.88534 to 12.71876, saving model to poids.hdf5\n",
            "Epoch 68/100\n",
            "45/45 [==============================] - 0s 8ms/step - loss: 13.7171 - mae: 14.2001\n",
            "\n",
            "Epoch 00068: loss did not improve from 12.71876\n",
            "Epoch 69/100\n",
            "45/45 [==============================] - 0s 7ms/step - loss: 13.3835 - mae: 13.8741\n",
            "\n",
            "Epoch 00069: loss did not improve from 12.71876\n",
            "Epoch 70/100\n",
            "45/45 [==============================] - 0s 8ms/step - loss: 13.8993 - mae: 14.3877\n",
            "\n",
            "Epoch 00070: loss did not improve from 12.71876\n",
            "Epoch 71/100\n",
            "45/45 [==============================] - 0s 7ms/step - loss: 14.5236 - mae: 15.0159\n",
            "\n",
            "Epoch 00071: loss did not improve from 12.71876\n",
            "Epoch 72/100\n",
            "45/45 [==============================] - 0s 8ms/step - loss: 18.7324 - mae: 19.2223\n",
            "\n",
            "Epoch 00072: loss did not improve from 12.71876\n",
            "Epoch 73/100\n",
            "45/45 [==============================] - 0s 8ms/step - loss: 20.3109 - mae: 20.8015\n",
            "\n",
            "Epoch 00073: loss did not improve from 12.71876\n",
            "Epoch 74/100\n",
            "45/45 [==============================] - 0s 8ms/step - loss: 25.0997 - mae: 25.5957\n",
            "\n",
            "Epoch 00074: loss did not improve from 12.71876\n",
            "Epoch 75/100\n",
            "45/45 [==============================] - 0s 8ms/step - loss: 16.7178 - mae: 17.2093\n",
            "\n",
            "Epoch 00075: loss did not improve from 12.71876\n",
            "Epoch 76/100\n",
            "45/45 [==============================] - 0s 8ms/step - loss: 11.5440 - mae: 12.0342\n",
            "\n",
            "Epoch 00076: loss did not improve from 12.71876\n",
            "Epoch 77/100\n",
            "45/45 [==============================] - 0s 8ms/step - loss: 17.0406 - mae: 17.5335\n",
            "\n",
            "Epoch 00077: loss did not improve from 12.71876\n",
            "Epoch 78/100\n",
            "45/45 [==============================] - 0s 8ms/step - loss: 12.8880 - mae: 13.3816\n",
            "\n",
            "Epoch 00078: loss improved from 12.71876 to 12.70694, saving model to poids.hdf5\n",
            "Epoch 79/100\n",
            "45/45 [==============================] - 0s 8ms/step - loss: 12.1718 - mae: 12.6640\n",
            "\n",
            "Epoch 00079: loss did not improve from 12.70694\n",
            "Epoch 80/100\n",
            "45/45 [==============================] - 0s 7ms/step - loss: 19.7179 - mae: 20.2139\n",
            "\n",
            "Epoch 00080: loss did not improve from 12.70694\n",
            "Epoch 81/100\n",
            "45/45 [==============================] - 0s 8ms/step - loss: 17.5774 - mae: 18.0697\n",
            "\n",
            "Epoch 00081: loss did not improve from 12.70694\n",
            "Epoch 82/100\n",
            "45/45 [==============================] - 0s 8ms/step - loss: 23.3069 - mae: 23.7983\n",
            "\n",
            "Epoch 00082: loss did not improve from 12.70694\n",
            "Epoch 83/100\n",
            "45/45 [==============================] - 0s 8ms/step - loss: 24.1749 - mae: 24.6712\n",
            "\n",
            "Epoch 00083: loss did not improve from 12.70694\n",
            "Epoch 84/100\n",
            "45/45 [==============================] - 0s 8ms/step - loss: 32.0999 - mae: 32.5980\n",
            "\n",
            "Epoch 00084: loss did not improve from 12.70694\n",
            "Epoch 85/100\n",
            "45/45 [==============================] - 0s 8ms/step - loss: 28.4837 - mae: 28.9817\n",
            "\n",
            "Epoch 00085: loss did not improve from 12.70694\n",
            "Epoch 86/100\n",
            "45/45 [==============================] - 0s 8ms/step - loss: 21.4269 - mae: 21.9244\n",
            "\n",
            "Epoch 00086: loss did not improve from 12.70694\n",
            "Epoch 87/100\n",
            "45/45 [==============================] - 0s 8ms/step - loss: 23.8398 - mae: 24.3373\n",
            "\n",
            "Epoch 00087: loss did not improve from 12.70694\n",
            "Epoch 88/100\n",
            "45/45 [==============================] - 0s 8ms/step - loss: 20.1621 - mae: 20.6573\n",
            "\n",
            "Epoch 00088: loss did not improve from 12.70694\n",
            "Epoch 89/100\n",
            "45/45 [==============================] - 0s 8ms/step - loss: 26.1899 - mae: 26.6848\n",
            "\n",
            "Epoch 00089: loss did not improve from 12.70694\n",
            "Epoch 90/100\n",
            "45/45 [==============================] - 0s 8ms/step - loss: 32.6658 - mae: 33.1621\n",
            "\n",
            "Epoch 00090: loss did not improve from 12.70694\n",
            "Epoch 91/100\n",
            "45/45 [==============================] - 0s 8ms/step - loss: 36.5627 - mae: 37.0582\n",
            "\n",
            "Epoch 00091: loss did not improve from 12.70694\n",
            "Epoch 92/100\n",
            "45/45 [==============================] - 0s 8ms/step - loss: 34.5397 - mae: 35.0381\n",
            "\n",
            "Epoch 00092: loss did not improve from 12.70694\n",
            "Epoch 93/100\n",
            "45/45 [==============================] - 0s 8ms/step - loss: 34.1660 - mae: 34.6643\n",
            "\n",
            "Epoch 00093: loss did not improve from 12.70694\n",
            "Epoch 94/100\n",
            "45/45 [==============================] - 0s 8ms/step - loss: 46.5316 - mae: 47.0296\n",
            "\n",
            "Epoch 00094: loss did not improve from 12.70694\n",
            "Epoch 95/100\n",
            "45/45 [==============================] - 0s 8ms/step - loss: 46.3977 - mae: 46.8953\n",
            "\n",
            "Epoch 00095: loss did not improve from 12.70694\n",
            "Epoch 96/100\n",
            "45/45 [==============================] - 0s 8ms/step - loss: 49.2057 - mae: 49.7039\n",
            "\n",
            "Epoch 00096: loss did not improve from 12.70694\n",
            "Epoch 97/100\n",
            "45/45 [==============================] - 0s 8ms/step - loss: 56.9941 - mae: 57.4931\n",
            "\n",
            "Epoch 00097: loss did not improve from 12.70694\n",
            "Epoch 98/100\n",
            "45/45 [==============================] - 0s 8ms/step - loss: 99.8649 - mae: 100.3630\n",
            "\n",
            "Epoch 00098: loss did not improve from 12.70694\n",
            "Epoch 99/100\n",
            "45/45 [==============================] - 0s 8ms/step - loss: 115.5172 - mae: 116.0165\n",
            "\n",
            "Epoch 00099: loss did not improve from 12.70694\n",
            "Epoch 100/100\n",
            "45/45 [==============================] - 0s 8ms/step - loss: 167.5384 - mae: 168.0384\n",
            "\n",
            "Epoch 00100: loss did not improve from 12.70694\n"
          ],
          "name": "stdout"
        }
      ]
    },
    {
      "cell_type": "code",
      "metadata": {
        "id": "q1_WMNlzu2B4",
        "colab": {
          "base_uri": "https://localhost:8080/",
          "height": 411
        },
        "outputId": "f8cde2b4-726d-4814-8ad4-f0e94fbaad74"
      },
      "source": [
        "# Construit un vecteur avec les valeurs du taux d'apprentissage à chaque période \r\n",
        "taux = 1e-8*(10**(np.arange(100)/10))\r\n",
        "\r\n",
        "# Affiche l'erreur en fonction du taux d'apprentissage\r\n",
        "plt.figure(figsize=(10, 6))\r\n",
        "plt.semilogx(taux,historique.history[\"loss\"])\r\n",
        "plt.axis([ taux[0], taux[99], 0, 100])\r\n",
        "plt.title(\"Evolution de l'erreur en fonction du taux d'apprentissage\")"
      ],
      "execution_count": 412,
      "outputs": [
        {
          "output_type": "execute_result",
          "data": {
            "text/plain": [
              "Text(0.5, 1.0, \"Evolution de l'erreur en fonction du taux d'apprentissage\")"
            ]
          },
          "metadata": {
            "tags": []
          },
          "execution_count": 412
        },
        {
          "output_type": "display_data",
          "data": {
            "image/png": "[encoded data removed]",
            "text/plain": [
              "<Figure size 720x432 with 1 Axes>"
            ]
          },
          "metadata": {
            "tags": [],
            "needs_background": "light"
          }
        }
      ]
    },
    {
      "cell_type": "code",
      "metadata": {
        "id": "80pEtJ10wIfY"
      },
      "source": [
        "# Charge les meilleurs poids\r\n",
        "model.load_weights(\"poids.hdf5\")"
      ],
      "execution_count": 324,
      "outputs": []
    },
    {
      "cell_type": "code",
      "metadata": {
        "id": "16ujUiELwR33",
        "colab": {
          "base_uri": "https://localhost:8080/",
          "height": 1000
        },
        "outputId": "67c2c8de-8d0a-42eb-e806-a34f943ee346"
      },
      "source": [
        "# Définition de l'optimiseur à utiliser\r\n",
        "optimiseur=tf.keras.optimizers.Adam(lr=1e-3)\r\n",
        "\r\n",
        "\r\n",
        "# Utilisation de la méthode ModelCheckPoint\r\n",
        "CheckPoint = tf.keras.callbacks.ModelCheckpoint(\"poids.hdf5\", monitor='loss', verbose=1, save_best_only=True, save_weights_only = True, mode='auto', save_freq='epoch')\r\n",
        "\r\n",
        "# Compile le modèle\r\n",
        "model.compile(loss=tf.keras.losses.Huber(), optimizer=optimiseur,metrics=\"mae\")\r\n",
        "\r\n",
        "# Entraine le modèle\r\n",
        "historique = model.fit(dataset,validation_data=dataset_Val, epochs=500,verbose=1, callbacks=[CheckPoint])"
      ],
      "execution_count": 326,
      "outputs": [
        {
          "output_type": "stream",
          "text": [
            "Epoch 1/500\n",
            "45/45 [==============================] - 3s 22ms/step - loss: 22.7784 - mae: 23.2713 - val_loss: 28.2216 - val_mae: 28.7197\n",
            "\n",
            "Epoch 00001: loss improved from inf to 23.45444, saving model to poids.hdf5\n",
            "Epoch 2/500\n",
            "45/45 [==============================] - 1s 12ms/step - loss: 22.1600 - mae: 22.6542 - val_loss: 28.7467 - val_mae: 29.2440\n",
            "\n",
            "Epoch 00002: loss improved from 23.45444 to 23.42657, saving model to poids.hdf5\n",
            "Epoch 3/500\n",
            "45/45 [==============================] - 1s 11ms/step - loss: 22.8616 - mae: 23.3565 - val_loss: 28.5629 - val_mae: 29.0597\n",
            "\n",
            "Epoch 00003: loss improved from 23.42657 to 23.40776, saving model to poids.hdf5\n",
            "Epoch 4/500\n",
            "45/45 [==============================] - 1s 12ms/step - loss: 22.2090 - mae: 22.7019 - val_loss: 29.2484 - val_mae: 29.7452\n",
            "\n",
            "Epoch 00004: loss improved from 23.40776 to 23.37637, saving model to poids.hdf5\n",
            "Epoch 5/500\n",
            "45/45 [==============================] - 1s 12ms/step - loss: 21.6049 - mae: 22.0971 - val_loss: 29.2751 - val_mae: 29.7719\n",
            "\n",
            "Epoch 00005: loss improved from 23.37637 to 23.37305, saving model to poids.hdf5\n",
            "Epoch 6/500\n",
            "45/45 [==============================] - 1s 11ms/step - loss: 22.6136 - mae: 23.1048 - val_loss: 29.1916 - val_mae: 29.6893\n",
            "\n",
            "Epoch 00006: loss improved from 23.37305 to 23.36759, saving model to poids.hdf5\n",
            "Epoch 7/500\n",
            "45/45 [==============================] - 1s 11ms/step - loss: 21.1906 - mae: 21.6797 - val_loss: 29.3562 - val_mae: 29.8535\n",
            "\n",
            "Epoch 00007: loss improved from 23.36759 to 23.36015, saving model to poids.hdf5\n",
            "Epoch 8/500\n",
            "45/45 [==============================] - 1s 12ms/step - loss: 21.8825 - mae: 22.3749 - val_loss: 29.1289 - val_mae: 29.6257\n",
            "\n",
            "Epoch 00008: loss improved from 23.36015 to 23.35331, saving model to poids.hdf5\n",
            "Epoch 9/500\n",
            "45/45 [==============================] - 1s 12ms/step - loss: 21.7778 - mae: 22.2682 - val_loss: 29.2159 - val_mae: 29.7127\n",
            "\n",
            "Epoch 00009: loss did not improve from 23.35331\n",
            "Epoch 10/500\n",
            "45/45 [==============================] - 1s 12ms/step - loss: 22.0052 - mae: 22.4948 - val_loss: 29.0300 - val_mae: 29.5264\n",
            "\n",
            "Epoch 00010: loss improved from 23.35331 to 23.34900, saving model to poids.hdf5\n",
            "Epoch 11/500\n",
            "45/45 [==============================] - 1s 12ms/step - loss: 22.1575 - mae: 22.6483 - val_loss: 29.4812 - val_mae: 29.9776\n",
            "\n",
            "Epoch 00011: loss improved from 23.34900 to 23.34690, saving model to poids.hdf5\n",
            "Epoch 12/500\n",
            "45/45 [==============================] - 1s 12ms/step - loss: 21.8890 - mae: 22.3775 - val_loss: 29.4251 - val_mae: 29.9226\n",
            "\n",
            "Epoch 00012: loss did not improve from 23.34690\n",
            "Epoch 13/500\n",
            "45/45 [==============================] - 1s 12ms/step - loss: 22.0458 - mae: 22.5353 - val_loss: 29.7107 - val_mae: 30.2075\n",
            "\n",
            "Epoch 00013: loss did not improve from 23.34690\n",
            "Epoch 14/500\n",
            "45/45 [==============================] - 1s 12ms/step - loss: 22.3278 - mae: 22.8179 - val_loss: 29.8794 - val_mae: 30.3760\n",
            "\n",
            "Epoch 00014: loss improved from 23.34690 to 23.34615, saving model to poids.hdf5\n",
            "Epoch 15/500\n",
            "45/45 [==============================] - 1s 12ms/step - loss: 22.7039 - mae: 23.1939 - val_loss: 29.8785 - val_mae: 30.3753\n",
            "\n",
            "Epoch 00015: loss improved from 23.34615 to 23.34367, saving model to poids.hdf5\n",
            "Epoch 16/500\n",
            "45/45 [==============================] - 1s 12ms/step - loss: 21.8004 - mae: 22.2903 - val_loss: 29.5804 - val_mae: 30.0771\n",
            "\n",
            "Epoch 00016: loss did not improve from 23.34367\n",
            "Epoch 17/500\n",
            "45/45 [==============================] - 1s 12ms/step - loss: 22.3773 - mae: 22.8671 - val_loss: 29.5246 - val_mae: 30.0214\n",
            "\n",
            "Epoch 00017: loss did not improve from 23.34367\n",
            "Epoch 18/500\n",
            "45/45 [==============================] - 1s 12ms/step - loss: 22.4275 - mae: 22.9160 - val_loss: 29.7512 - val_mae: 30.2480\n",
            "\n",
            "Epoch 00018: loss did not improve from 23.34367\n",
            "Epoch 19/500\n",
            "45/45 [==============================] - 1s 12ms/step - loss: 22.1505 - mae: 22.6399 - val_loss: 30.0343 - val_mae: 30.5312\n",
            "\n",
            "Epoch 00019: loss did not improve from 23.34367\n",
            "Epoch 20/500\n",
            "45/45 [==============================] - 1s 11ms/step - loss: 22.8704 - mae: 23.3624 - val_loss: 29.6180 - val_mae: 30.1148\n",
            "\n",
            "Epoch 00020: loss improved from 23.34367 to 23.34011, saving model to poids.hdf5\n",
            "Epoch 21/500\n",
            "45/45 [==============================] - 1s 12ms/step - loss: 21.4648 - mae: 21.9535 - val_loss: 29.6545 - val_mae: 30.1513\n",
            "\n",
            "Epoch 00021: loss improved from 23.34011 to 23.33825, saving model to poids.hdf5\n",
            "Epoch 22/500\n",
            "45/45 [==============================] - 1s 11ms/step - loss: 22.0021 - mae: 22.4894 - val_loss: 29.5427 - val_mae: 30.0403\n",
            "\n",
            "Epoch 00022: loss did not improve from 23.33825\n",
            "Epoch 23/500\n",
            "45/45 [==============================] - 1s 11ms/step - loss: 22.5022 - mae: 22.9905 - val_loss: 29.4539 - val_mae: 29.9508\n",
            "\n",
            "Epoch 00023: loss did not improve from 23.33825\n",
            "Epoch 24/500\n",
            "45/45 [==============================] - 1s 12ms/step - loss: 21.4431 - mae: 21.9290 - val_loss: 29.5492 - val_mae: 30.0468\n",
            "\n",
            "Epoch 00024: loss did not improve from 23.33825\n",
            "Epoch 25/500\n",
            "45/45 [==============================] - 1s 12ms/step - loss: 21.3719 - mae: 21.8596 - val_loss: 29.9365 - val_mae: 30.4335\n",
            "\n",
            "Epoch 00025: loss did not improve from 23.33825\n",
            "Epoch 26/500\n",
            "45/45 [==============================] - 1s 12ms/step - loss: 22.4388 - mae: 22.9282 - val_loss: 29.5948 - val_mae: 30.0916\n",
            "\n",
            "Epoch 00026: loss did not improve from 23.33825\n",
            "Epoch 27/500\n",
            "45/45 [==============================] - 1s 12ms/step - loss: 21.8082 - mae: 22.2994 - val_loss: 29.1987 - val_mae: 29.6955\n",
            "\n",
            "Epoch 00027: loss did not improve from 23.33825\n",
            "Epoch 28/500\n",
            "45/45 [==============================] - 1s 12ms/step - loss: 22.2433 - mae: 22.7329 - val_loss: 29.6781 - val_mae: 30.1757\n",
            "\n",
            "Epoch 00028: loss did not improve from 23.33825\n",
            "Epoch 29/500\n",
            "45/45 [==============================] - 1s 12ms/step - loss: 21.9888 - mae: 22.4788 - val_loss: 29.7101 - val_mae: 30.2077\n",
            "\n",
            "Epoch 00029: loss did not improve from 23.33825\n",
            "Epoch 30/500\n",
            "45/45 [==============================] - 1s 13ms/step - loss: 21.8879 - mae: 22.3767 - val_loss: 29.6018 - val_mae: 30.0993\n",
            "\n",
            "Epoch 00030: loss did not improve from 23.33825\n",
            "Epoch 31/500\n",
            "45/45 [==============================] - 1s 12ms/step - loss: 22.0436 - mae: 22.5318 - val_loss: 29.6304 - val_mae: 30.1272\n",
            "\n",
            "Epoch 00031: loss did not improve from 23.33825\n",
            "Epoch 32/500\n",
            "45/45 [==============================] - 1s 12ms/step - loss: 21.5847 - mae: 22.0745 - val_loss: 29.4151 - val_mae: 29.9120\n",
            "\n",
            "Epoch 00032: loss did not improve from 23.33825\n",
            "Epoch 33/500\n",
            "45/45 [==============================] - 1s 12ms/step - loss: 21.9548 - mae: 22.4423 - val_loss: 29.7994 - val_mae: 30.2962\n",
            "\n",
            "Epoch 00033: loss did not improve from 23.33825\n",
            "Epoch 34/500\n",
            "45/45 [==============================] - 1s 12ms/step - loss: 22.0984 - mae: 22.5878 - val_loss: 29.6113 - val_mae: 30.1081\n",
            "\n",
            "Epoch 00034: loss did not improve from 23.33825\n",
            "Epoch 35/500\n",
            "45/45 [==============================] - 1s 12ms/step - loss: 22.4144 - mae: 22.9034 - val_loss: 29.6615 - val_mae: 30.1583\n",
            "\n",
            "Epoch 00035: loss did not improve from 23.33825\n",
            "Epoch 36/500\n",
            "45/45 [==============================] - 1s 12ms/step - loss: 22.0519 - mae: 22.5436 - val_loss: 29.5166 - val_mae: 30.0134\n",
            "\n",
            "Epoch 00036: loss did not improve from 23.33825\n",
            "Epoch 37/500\n",
            "44/45 [============================>.] - ETA: 0s - loss: 21.5674 - mae: 22.0561"
          ],
          "name": "stdout"
        },
        {
          "output_type": "error",
          "ename": "KeyboardInterrupt",
          "evalue": "ignored",
          "traceback": [
            "\u001b[0;31m---------------------------------------------------------------------------\u001b[0m",
            "\u001b[0;31mKeyboardInterrupt\u001b[0m                         Traceback (most recent call last)",
            "\u001b[0;32m<ipython-input-326-25d61524ae2d>\u001b[0m in \u001b[0;36m<module>\u001b[0;34m()\u001b[0m\n\u001b[1;32m     10\u001b[0m \u001b[0;34m\u001b[0m\u001b[0m\n\u001b[1;32m     11\u001b[0m \u001b[0;31m# Entraine le modèle\u001b[0m\u001b[0;34m\u001b[0m\u001b[0;34m\u001b[0m\u001b[0;34m\u001b[0m\u001b[0m\n\u001b[0;32m---> 12\u001b[0;31m \u001b[0mhistorique\u001b[0m \u001b[0;34m=\u001b[0m \u001b[0mmodel\u001b[0m\u001b[0;34m.\u001b[0m\u001b[0mfit\u001b[0m\u001b[0;34m(\u001b[0m\u001b[0mdataset\u001b[0m\u001b[0;34m,\u001b[0m\u001b[0mvalidation_data\u001b[0m\u001b[0;34m=\u001b[0m\u001b[0mdataset_Val\u001b[0m\u001b[0;34m,\u001b[0m \u001b[0mepochs\u001b[0m\u001b[0;34m=\u001b[0m\u001b[0;36m500\u001b[0m\u001b[0;34m,\u001b[0m\u001b[0mverbose\u001b[0m\u001b[0;34m=\u001b[0m\u001b[0;36m1\u001b[0m\u001b[0;34m,\u001b[0m \u001b[0mcallbacks\u001b[0m\u001b[0;34m=\u001b[0m\u001b[0;34m[\u001b[0m\u001b[0mCheckPoint\u001b[0m\u001b[0;34m]\u001b[0m\u001b[0;34m)\u001b[0m\u001b[0;34m\u001b[0m\u001b[0;34m\u001b[0m\u001b[0m\n\u001b[0m",
            "\u001b[0;32m/usr/local/lib/python3.7/dist-packages/tensorflow/python/keras/engine/training.py\u001b[0m in \u001b[0;36mfit\u001b[0;34m(self, x, y, batch_size, epochs, verbose, callbacks, validation_split, validation_data, shuffle, class_weight, sample_weight, initial_epoch, steps_per_epoch, validation_steps, validation_batch_size, validation_freq, max_queue_size, workers, use_multiprocessing)\u001b[0m\n\u001b[1;32m   1139\u001b[0m               \u001b[0mworkers\u001b[0m\u001b[0;34m=\u001b[0m\u001b[0mworkers\u001b[0m\u001b[0;34m,\u001b[0m\u001b[0;34m\u001b[0m\u001b[0;34m\u001b[0m\u001b[0m\n\u001b[1;32m   1140\u001b[0m               \u001b[0muse_multiprocessing\u001b[0m\u001b[0;34m=\u001b[0m\u001b[0muse_multiprocessing\u001b[0m\u001b[0;34m,\u001b[0m\u001b[0;34m\u001b[0m\u001b[0;34m\u001b[0m\u001b[0m\n\u001b[0;32m-> 1141\u001b[0;31m               return_dict=True)\n\u001b[0m\u001b[1;32m   1142\u001b[0m           \u001b[0mval_logs\u001b[0m \u001b[0;34m=\u001b[0m \u001b[0;34m{\u001b[0m\u001b[0;34m'val_'\u001b[0m \u001b[0;34m+\u001b[0m \u001b[0mname\u001b[0m\u001b[0;34m:\u001b[0m \u001b[0mval\u001b[0m \u001b[0;32mfor\u001b[0m \u001b[0mname\u001b[0m\u001b[0;34m,\u001b[0m \u001b[0mval\u001b[0m \u001b[0;32min\u001b[0m \u001b[0mval_logs\u001b[0m\u001b[0;34m.\u001b[0m\u001b[0mitems\u001b[0m\u001b[0;34m(\u001b[0m\u001b[0;34m)\u001b[0m\u001b[0;34m}\u001b[0m\u001b[0;34m\u001b[0m\u001b[0;34m\u001b[0m\u001b[0m\n\u001b[1;32m   1143\u001b[0m           \u001b[0mepoch_logs\u001b[0m\u001b[0;34m.\u001b[0m\u001b[0mupdate\u001b[0m\u001b[0;34m(\u001b[0m\u001b[0mval_logs\u001b[0m\u001b[0;34m)\u001b[0m\u001b[0;34m\u001b[0m\u001b[0;34m\u001b[0m\u001b[0m\n",
            "\u001b[0;32m/usr/local/lib/python3.7/dist-packages/tensorflow/python/keras/engine/training.py\u001b[0m in \u001b[0;36mevaluate\u001b[0;34m(self, x, y, batch_size, verbose, sample_weight, steps, callbacks, max_queue_size, workers, use_multiprocessing, return_dict)\u001b[0m\n\u001b[1;32m   1347\u001b[0m       \u001b[0;31m# Use cached evaluation data only when it's called in `Model.fit`\u001b[0m\u001b[0;34m\u001b[0m\u001b[0;34m\u001b[0m\u001b[0;34m\u001b[0m\u001b[0m\n\u001b[1;32m   1348\u001b[0m       if (getattr(self, '_fit_frame', None) is not None\n\u001b[0;32m-> 1349\u001b[0;31m           \u001b[0;32mand\u001b[0m \u001b[0mtf_inspect\u001b[0m\u001b[0;34m.\u001b[0m\u001b[0mcurrentframe\u001b[0m\u001b[0;34m(\u001b[0m\u001b[0;34m)\u001b[0m\u001b[0;34m.\u001b[0m\u001b[0mf_back\u001b[0m \u001b[0;32mis\u001b[0m \u001b[0mself\u001b[0m\u001b[0;34m.\u001b[0m\u001b[0m_fit_frame\u001b[0m\u001b[0;34m\u001b[0m\u001b[0;34m\u001b[0m\u001b[0m\n\u001b[0m\u001b[1;32m   1350\u001b[0m           and getattr(self, '_eval_data_handler', None) is not None):\n\u001b[1;32m   1351\u001b[0m         \u001b[0mdata_handler\u001b[0m \u001b[0;34m=\u001b[0m \u001b[0mself\u001b[0m\u001b[0;34m.\u001b[0m\u001b[0m_eval_data_handler\u001b[0m\u001b[0;34m\u001b[0m\u001b[0;34m\u001b[0m\u001b[0m\n",
            "\u001b[0;32m/usr/local/lib/python3.7/dist-packages/tensorflow/python/keras/utils/tf_inspect.py\u001b[0m in \u001b[0;36mcurrentframe\u001b[0;34m()\u001b[0m\n\u001b[1;32m     93\u001b[0m \u001b[0;32mdef\u001b[0m \u001b[0mcurrentframe\u001b[0m\u001b[0;34m(\u001b[0m\u001b[0;34m)\u001b[0m\u001b[0;34m:\u001b[0m\u001b[0;34m\u001b[0m\u001b[0;34m\u001b[0m\u001b[0m\n\u001b[1;32m     94\u001b[0m   \u001b[0;34m\"\"\"TFDecorator-aware replacement for inspect.currentframe.\"\"\"\u001b[0m\u001b[0;34m\u001b[0m\u001b[0;34m\u001b[0m\u001b[0m\n\u001b[0;32m---> 95\u001b[0;31m   \u001b[0;32mreturn\u001b[0m \u001b[0m_inspect\u001b[0m\u001b[0;34m.\u001b[0m\u001b[0mstack\u001b[0m\u001b[0;34m(\u001b[0m\u001b[0;34m)\u001b[0m\u001b[0;34m[\u001b[0m\u001b[0;36m1\u001b[0m\u001b[0;34m]\u001b[0m\u001b[0;34m[\u001b[0m\u001b[0;36m0\u001b[0m\u001b[0;34m]\u001b[0m\u001b[0;34m\u001b[0m\u001b[0;34m\u001b[0m\u001b[0m\n\u001b[0m\u001b[1;32m     96\u001b[0m \u001b[0;34m\u001b[0m\u001b[0m\n\u001b[1;32m     97\u001b[0m \u001b[0;34m\u001b[0m\u001b[0m\n",
            "\u001b[0;32m/usr/lib/python3.7/inspect.py\u001b[0m in \u001b[0;36mstack\u001b[0;34m(context)\u001b[0m\n\u001b[1;32m   1511\u001b[0m \u001b[0;32mdef\u001b[0m \u001b[0mstack\u001b[0m\u001b[0;34m(\u001b[0m\u001b[0mcontext\u001b[0m\u001b[0;34m=\u001b[0m\u001b[0;36m1\u001b[0m\u001b[0;34m)\u001b[0m\u001b[0;34m:\u001b[0m\u001b[0;34m\u001b[0m\u001b[0;34m\u001b[0m\u001b[0m\n\u001b[1;32m   1512\u001b[0m     \u001b[0;34m\"\"\"Return a list of records for the stack above the caller's frame.\"\"\"\u001b[0m\u001b[0;34m\u001b[0m\u001b[0;34m\u001b[0m\u001b[0m\n\u001b[0;32m-> 1513\u001b[0;31m     \u001b[0;32mreturn\u001b[0m \u001b[0mgetouterframes\u001b[0m\u001b[0;34m(\u001b[0m\u001b[0msys\u001b[0m\u001b[0;34m.\u001b[0m\u001b[0m_getframe\u001b[0m\u001b[0;34m(\u001b[0m\u001b[0;36m1\u001b[0m\u001b[0;34m)\u001b[0m\u001b[0;34m,\u001b[0m \u001b[0mcontext\u001b[0m\u001b[0;34m)\u001b[0m\u001b[0;34m\u001b[0m\u001b[0;34m\u001b[0m\u001b[0m\n\u001b[0m\u001b[1;32m   1514\u001b[0m \u001b[0;34m\u001b[0m\u001b[0m\n\u001b[1;32m   1515\u001b[0m \u001b[0;32mdef\u001b[0m \u001b[0mtrace\u001b[0m\u001b[0;34m(\u001b[0m\u001b[0mcontext\u001b[0m\u001b[0;34m=\u001b[0m\u001b[0;36m1\u001b[0m\u001b[0;34m)\u001b[0m\u001b[0;34m:\u001b[0m\u001b[0;34m\u001b[0m\u001b[0;34m\u001b[0m\u001b[0m\n",
            "\u001b[0;32m/usr/lib/python3.7/inspect.py\u001b[0m in \u001b[0;36mgetouterframes\u001b[0;34m(frame, context)\u001b[0m\n\u001b[1;32m   1488\u001b[0m     \u001b[0mframelist\u001b[0m \u001b[0;34m=\u001b[0m \u001b[0;34m[\u001b[0m\u001b[0;34m]\u001b[0m\u001b[0;34m\u001b[0m\u001b[0;34m\u001b[0m\u001b[0m\n\u001b[1;32m   1489\u001b[0m     \u001b[0;32mwhile\u001b[0m \u001b[0mframe\u001b[0m\u001b[0;34m:\u001b[0m\u001b[0;34m\u001b[0m\u001b[0;34m\u001b[0m\u001b[0m\n\u001b[0;32m-> 1490\u001b[0;31m         \u001b[0mframeinfo\u001b[0m \u001b[0;34m=\u001b[0m \u001b[0;34m(\u001b[0m\u001b[0mframe\u001b[0m\u001b[0;34m,\u001b[0m\u001b[0;34m)\u001b[0m \u001b[0;34m+\u001b[0m \u001b[0mgetframeinfo\u001b[0m\u001b[0;34m(\u001b[0m\u001b[0mframe\u001b[0m\u001b[0;34m,\u001b[0m \u001b[0mcontext\u001b[0m\u001b[0;34m)\u001b[0m\u001b[0;34m\u001b[0m\u001b[0;34m\u001b[0m\u001b[0m\n\u001b[0m\u001b[1;32m   1491\u001b[0m         \u001b[0mframelist\u001b[0m\u001b[0;34m.\u001b[0m\u001b[0mappend\u001b[0m\u001b[0;34m(\u001b[0m\u001b[0mFrameInfo\u001b[0m\u001b[0;34m(\u001b[0m\u001b[0;34m*\u001b[0m\u001b[0mframeinfo\u001b[0m\u001b[0;34m)\u001b[0m\u001b[0;34m)\u001b[0m\u001b[0;34m\u001b[0m\u001b[0;34m\u001b[0m\u001b[0m\n\u001b[1;32m   1492\u001b[0m         \u001b[0mframe\u001b[0m \u001b[0;34m=\u001b[0m \u001b[0mframe\u001b[0m\u001b[0;34m.\u001b[0m\u001b[0mf_back\u001b[0m\u001b[0;34m\u001b[0m\u001b[0;34m\u001b[0m\u001b[0m\n",
            "\u001b[0;32m/usr/lib/python3.7/inspect.py\u001b[0m in \u001b[0;36mgetframeinfo\u001b[0;34m(frame, context)\u001b[0m\n\u001b[1;32m   1462\u001b[0m         \u001b[0mstart\u001b[0m \u001b[0;34m=\u001b[0m \u001b[0mlineno\u001b[0m \u001b[0;34m-\u001b[0m \u001b[0;36m1\u001b[0m \u001b[0;34m-\u001b[0m \u001b[0mcontext\u001b[0m\u001b[0;34m//\u001b[0m\u001b[0;36m2\u001b[0m\u001b[0;34m\u001b[0m\u001b[0;34m\u001b[0m\u001b[0m\n\u001b[1;32m   1463\u001b[0m         \u001b[0;32mtry\u001b[0m\u001b[0;34m:\u001b[0m\u001b[0;34m\u001b[0m\u001b[0;34m\u001b[0m\u001b[0m\n\u001b[0;32m-> 1464\u001b[0;31m             \u001b[0mlines\u001b[0m\u001b[0;34m,\u001b[0m \u001b[0mlnum\u001b[0m \u001b[0;34m=\u001b[0m \u001b[0mfindsource\u001b[0m\u001b[0;34m(\u001b[0m\u001b[0mframe\u001b[0m\u001b[0;34m)\u001b[0m\u001b[0;34m\u001b[0m\u001b[0;34m\u001b[0m\u001b[0m\n\u001b[0m\u001b[1;32m   1465\u001b[0m         \u001b[0;32mexcept\u001b[0m \u001b[0mOSError\u001b[0m\u001b[0;34m:\u001b[0m\u001b[0;34m\u001b[0m\u001b[0;34m\u001b[0m\u001b[0m\n\u001b[1;32m   1466\u001b[0m             \u001b[0mlines\u001b[0m \u001b[0;34m=\u001b[0m \u001b[0mindex\u001b[0m \u001b[0;34m=\u001b[0m \u001b[0;32mNone\u001b[0m\u001b[0;34m\u001b[0m\u001b[0;34m\u001b[0m\u001b[0m\n",
            "\u001b[0;32m/usr/lib/python3.7/inspect.py\u001b[0m in \u001b[0;36mfindsource\u001b[0;34m(object)\u001b[0m\n\u001b[1;32m    766\u001b[0m     is raised if the source code cannot be retrieved.\"\"\"\n\u001b[1;32m    767\u001b[0m \u001b[0;34m\u001b[0m\u001b[0m\n\u001b[0;32m--> 768\u001b[0;31m     \u001b[0mfile\u001b[0m \u001b[0;34m=\u001b[0m \u001b[0mgetsourcefile\u001b[0m\u001b[0;34m(\u001b[0m\u001b[0mobject\u001b[0m\u001b[0;34m)\u001b[0m\u001b[0;34m\u001b[0m\u001b[0;34m\u001b[0m\u001b[0m\n\u001b[0m\u001b[1;32m    769\u001b[0m     \u001b[0;32mif\u001b[0m \u001b[0mfile\u001b[0m\u001b[0;34m:\u001b[0m\u001b[0;34m\u001b[0m\u001b[0;34m\u001b[0m\u001b[0m\n\u001b[1;32m    770\u001b[0m         \u001b[0;31m# Invalidate cache if needed.\u001b[0m\u001b[0;34m\u001b[0m\u001b[0;34m\u001b[0m\u001b[0;34m\u001b[0m\u001b[0m\n",
            "\u001b[0;32m/usr/lib/python3.7/inspect.py\u001b[0m in \u001b[0;36mgetsourcefile\u001b[0;34m(object)\u001b[0m\n\u001b[1;32m    694\u001b[0m         \u001b[0;32mreturn\u001b[0m \u001b[0mfilename\u001b[0m\u001b[0;34m\u001b[0m\u001b[0;34m\u001b[0m\u001b[0m\n\u001b[1;32m    695\u001b[0m     \u001b[0;31m# only return a non-existent filename if the module has a PEP 302 loader\u001b[0m\u001b[0;34m\u001b[0m\u001b[0;34m\u001b[0m\u001b[0;34m\u001b[0m\u001b[0m\n\u001b[0;32m--> 696\u001b[0;31m     \u001b[0;32mif\u001b[0m \u001b[0mgetattr\u001b[0m\u001b[0;34m(\u001b[0m\u001b[0mgetmodule\u001b[0m\u001b[0;34m(\u001b[0m\u001b[0mobject\u001b[0m\u001b[0;34m,\u001b[0m \u001b[0mfilename\u001b[0m\u001b[0;34m)\u001b[0m\u001b[0;34m,\u001b[0m \u001b[0;34m'__loader__'\u001b[0m\u001b[0;34m,\u001b[0m \u001b[0;32mNone\u001b[0m\u001b[0;34m)\u001b[0m \u001b[0;32mis\u001b[0m \u001b[0;32mnot\u001b[0m \u001b[0;32mNone\u001b[0m\u001b[0;34m:\u001b[0m\u001b[0;34m\u001b[0m\u001b[0;34m\u001b[0m\u001b[0m\n\u001b[0m\u001b[1;32m    697\u001b[0m         \u001b[0;32mreturn\u001b[0m \u001b[0mfilename\u001b[0m\u001b[0;34m\u001b[0m\u001b[0;34m\u001b[0m\u001b[0m\n\u001b[1;32m    698\u001b[0m     \u001b[0;31m# or it is in the linecache\u001b[0m\u001b[0;34m\u001b[0m\u001b[0;34m\u001b[0m\u001b[0;34m\u001b[0m\u001b[0m\n",
            "\u001b[0;32m/usr/lib/python3.7/inspect.py\u001b[0m in \u001b[0;36mgetmodule\u001b[0;34m(object, _filename)\u001b[0m\n\u001b[1;32m    731\u001b[0m     \u001b[0;31m# Copy sys.modules in order to cope with changes while iterating\u001b[0m\u001b[0;34m\u001b[0m\u001b[0;34m\u001b[0m\u001b[0;34m\u001b[0m\u001b[0m\n\u001b[1;32m    732\u001b[0m     \u001b[0;32mfor\u001b[0m \u001b[0mmodname\u001b[0m\u001b[0;34m,\u001b[0m \u001b[0mmodule\u001b[0m \u001b[0;32min\u001b[0m \u001b[0msys\u001b[0m\u001b[0;34m.\u001b[0m\u001b[0mmodules\u001b[0m\u001b[0;34m.\u001b[0m\u001b[0mcopy\u001b[0m\u001b[0;34m(\u001b[0m\u001b[0;34m)\u001b[0m\u001b[0;34m.\u001b[0m\u001b[0mitems\u001b[0m\u001b[0;34m(\u001b[0m\u001b[0;34m)\u001b[0m\u001b[0;34m:\u001b[0m\u001b[0;34m\u001b[0m\u001b[0;34m\u001b[0m\u001b[0m\n\u001b[0;32m--> 733\u001b[0;31m         \u001b[0;32mif\u001b[0m \u001b[0mismodule\u001b[0m\u001b[0;34m(\u001b[0m\u001b[0mmodule\u001b[0m\u001b[0;34m)\u001b[0m \u001b[0;32mand\u001b[0m \u001b[0mhasattr\u001b[0m\u001b[0;34m(\u001b[0m\u001b[0mmodule\u001b[0m\u001b[0;34m,\u001b[0m \u001b[0;34m'__file__'\u001b[0m\u001b[0;34m)\u001b[0m\u001b[0;34m:\u001b[0m\u001b[0;34m\u001b[0m\u001b[0;34m\u001b[0m\u001b[0m\n\u001b[0m\u001b[1;32m    734\u001b[0m             \u001b[0mf\u001b[0m \u001b[0;34m=\u001b[0m \u001b[0mmodule\u001b[0m\u001b[0;34m.\u001b[0m\u001b[0m__file__\u001b[0m\u001b[0;34m\u001b[0m\u001b[0;34m\u001b[0m\u001b[0m\n\u001b[1;32m    735\u001b[0m             \u001b[0;32mif\u001b[0m \u001b[0mf\u001b[0m \u001b[0;34m==\u001b[0m \u001b[0m_filesbymodname\u001b[0m\u001b[0;34m.\u001b[0m\u001b[0mget\u001b[0m\u001b[0;34m(\u001b[0m\u001b[0mmodname\u001b[0m\u001b[0;34m,\u001b[0m \u001b[0;32mNone\u001b[0m\u001b[0;34m)\u001b[0m\u001b[0;34m:\u001b[0m\u001b[0;34m\u001b[0m\u001b[0;34m\u001b[0m\u001b[0m\n",
            "\u001b[0;32m/usr/lib/python3.7/inspect.py\u001b[0m in \u001b[0;36mismodule\u001b[0;34m(object)\u001b[0m\n\u001b[1;32m     61\u001b[0m \u001b[0;34m\u001b[0m\u001b[0m\n\u001b[1;32m     62\u001b[0m \u001b[0;31m# ----------------------------------------------------------- type-checking\u001b[0m\u001b[0;34m\u001b[0m\u001b[0;34m\u001b[0m\u001b[0;34m\u001b[0m\u001b[0m\n\u001b[0;32m---> 63\u001b[0;31m \u001b[0;32mdef\u001b[0m \u001b[0mismodule\u001b[0m\u001b[0;34m(\u001b[0m\u001b[0mobject\u001b[0m\u001b[0;34m)\u001b[0m\u001b[0;34m:\u001b[0m\u001b[0;34m\u001b[0m\u001b[0;34m\u001b[0m\u001b[0m\n\u001b[0m\u001b[1;32m     64\u001b[0m     \"\"\"Return true if the object is a module.\n\u001b[1;32m     65\u001b[0m \u001b[0;34m\u001b[0m\u001b[0m\n",
            "\u001b[0;31mKeyboardInterrupt\u001b[0m: "
          ]
        }
      ]
    },
    {
      "cell_type": "code",
      "metadata": {
        "id": "COP9u4yitvmw",
        "outputId": "91102133-c45b-4b2f-e7fa-0dfb8760322b",
        "colab": {
          "base_uri": "https://localhost:8080/",
          "height": 407
        }
      },
      "source": [
        "erreur_entrainement = historique.history[\"loss\"]\r\n",
        "erreur_validation = historique.history[\"val_loss\"]\r\n",
        "\r\n",
        "# Affiche l'erreur en fonction de la période\r\n",
        "plt.figure(figsize=(10, 6))\r\n",
        "plt.plot(np.arange(0,len(erreur_entrainement)),erreur_entrainement, label=\"Erreurs sur les entrainements\")\r\n",
        "plt.plot(np.arange(0,len(erreur_entrainement)),erreur_validation, label =\"Erreurs sur les validations\")\r\n",
        "plt.legend()\r\n",
        "\r\n",
        "plt.title(\"Evolution de l'erreur en fonction de la période\")"
      ],
      "execution_count": 317,
      "outputs": [
        {
          "output_type": "execute_result",
          "data": {
            "text/plain": [
              "Text(0.5, 1.0, \"Evolution de l'erreur en fonction de la période\")"
            ]
          },
          "metadata": {
            "tags": []
          },
          "execution_count": 317
        },
        {
          "output_type": "display_data",
          "data": {
            "image/png": "[encoded data removed]",
            "text/plain": [
              "<Figure size 720x432 with 1 Axes>"
            ]
          },
          "metadata": {
            "tags": [],
            "needs_background": "light"
          }
        }
      ]
    },
    {
      "cell_type": "code",
      "metadata": {
        "id": "_o2zh6N9t1b7",
        "outputId": "70f0350e-9154-46ae-8ccc-aed09b93e9bb",
        "colab": {
          "base_uri": "https://localhost:8080/",
          "height": 407
        }
      },
      "source": [
        "erreur_entrainement = historique.history[\"loss\"]\r\n",
        "erreur_validation = historique.history[\"val_loss\"]\r\n",
        "\r\n",
        "# Affiche l'erreur en fonction de la période\r\n",
        "plt.figure(figsize=(10, 6))\r\n",
        "plt.plot(np.arange(0,len(erreur_entrainement[400:500])),erreur_entrainement[400:500], label=\"Erreurs sur les entrainements\")\r\n",
        "plt.plot(np.arange(0,len(erreur_entrainement[400:500])),erreur_validation[400:500], label =\"Erreurs sur les validations\")\r\n",
        "plt.legend()\r\n",
        "\r\n",
        "plt.title(\"Evolution de l'erreur en fonction de la période\")"
      ],
      "execution_count": 318,
      "outputs": [
        {
          "output_type": "execute_result",
          "data": {
            "text/plain": [
              "Text(0.5, 1.0, \"Evolution de l'erreur en fonction de la période\")"
            ]
          },
          "metadata": {
            "tags": []
          },
          "execution_count": 318
        },
        {
          "output_type": "display_data",
          "data": {
            "image/png": "[encoded data removed]",
            "text/plain": [
              "<Figure size 720x432 with 1 Axes>"
            ]
          },
          "metadata": {
            "tags": [],
            "needs_background": "light"
          }
        }
      ]
    },
    {
      "cell_type": "markdown",
      "metadata": {
        "id": "N25NMtg-3mg9"
      },
      "source": [
        "# Création du modèle GRU avec couche d'attention comprenant un vecteur de contexte"
      ]
    },
    {
      "cell_type": "markdown",
      "metadata": {
        "id": "UYnM2CfL3wFc"
      },
      "source": [
        "**1. Création du réseau et adaptation des formats d'entrée et de sortie**"
      ]
    },
    {
      "cell_type": "markdown",
      "metadata": {
        "id": "g6U1P8NH3zC9"
      },
      "source": [
        "Sous forme de shéma, notre réseau est donc le suivant :"
      ]
    },
    {
      "cell_type": "code",
      "metadata": {
        "id": "IufeFPHq33Ys"
      },
      "source": [
        "# Importe le Backend de Keras\r\n",
        "from keras import backend as K\r\n",
        "\r\n",
        "# Définit une nouvelle classe Couche_Attention\r\n",
        "# Héritée de la classe Layer de Keras\r\n",
        "\r\n",
        "class Couche_Attention(tf.keras.layers.Layer):\r\n",
        "  # Fonction d'initialisation de la classe d'attention\r\n",
        "  def __init__(self):\r\n",
        "    super().__init__()          # Appel du __init__() de la classe Layer\r\n",
        "  \r\n",
        "  # Fonction appellée pour créer les variables de la couche\r\n",
        "  # input_shape = (nbr_v, dim)\r\n",
        "  #     dim   : Dimension des vecteurs cachés de la couche récurrente\r\n",
        "  #     nbr_v : Nombre de vecteurs cachés passés à la couche d'attention\r\n",
        "  def build(self,input_shape):\r\n",
        "    self.dim = input_shape[1]         # Dimension des vecteurs cachés de la couche récurrente\r\n",
        "    self.nbr_v = input_shape[0]       # Nombre de vecteurs cachés passés à la couche d'attention\r\n",
        "    \r\n",
        "    self.W = self.add_weight(shape=(self.dim,self.dim), initializer=\"normal\", name=\"W\")         # Initialise les poids avec une loi normale\r\n",
        "    super().build(input_shape)        # Appel de la méthode build()\r\n",
        "\r\n",
        "  # Définit la logique de la couche d'attention\r\n",
        "  # Arguments :   x : Tenseur d'entrée de dimension (None, nbr_v,dim)\r\n",
        "  def call(self,x):\r\n",
        "    return 1"
      ],
      "execution_count": 16,
      "outputs": []
    },
    {
      "cell_type": "code",
      "metadata": {
        "id": "THtpMnLU4iQb"
      },
      "source": [
        "#x = K.placeholder((2,2))\r\n",
        "x = tf.keras.backend.random_uniform_variable(shape=(3, 4), low=0, high=1)\r\n",
        "Couche_Attention()(x)\r\n",
        "Couche_Attention().get_weights()"
      ],
      "execution_count": null,
      "outputs": []
    },
    {
      "cell_type": "code",
      "metadata": {
        "id": "rMeibJix4r7-",
        "outputId": "ecd6f7ec-56f5-4483-b048-0dcfda18ebcb",
        "colab": {
          "base_uri": "https://localhost:8080/"
        }
      },
      "source": [
        ""
      ],
      "execution_count": 7,
      "outputs": [
        {
          "output_type": "execute_result",
          "data": {
            "text/plain": [
              "<KerasTensor: shape=(2, 2) dtype=float32 (created by layer 'input_1')>"
            ]
          },
          "metadata": {
            "tags": []
          },
          "execution_count": 7
        }
      ]
    }
  ]
}