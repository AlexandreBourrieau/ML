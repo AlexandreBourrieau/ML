{
  "nbformat": 4,
  "nbformat_minor": 0,
  "metadata": {
    "colab": {
      "name": "Bitcoin_Identification_Features.ipynb",
      "provenance": [],
      "authorship_tag": "ABX9TyMqI92e6gQi5hPRq87SMJ9N",
      "include_colab_link": true
    },
    "kernelspec": {
      "name": "python3",
      "display_name": "Python 3"
    },
    "language_info": {
      "name": "python"
    }
  },
  "cells": [
    {
      "cell_type": "markdown",
      "metadata": {
        "id": "view-in-github",
        "colab_type": "text"
      },
      "source": [
        "<a href=\"https://colab.research.google.com/github/AlexandreBourrieau/ML/blob/main/Carnets%20Jupyter/S%C3%A9ries%20temporelles/Bitcoin/Bitcoin_Identification_Features.ipynb\" target=\"_parent\"><img src=\"https://colab.research.google.com/assets/colab-badge.svg\" alt=\"Open In Colab\"/></a>"
      ]
    },
    {
      "cell_type": "code",
      "metadata": {
        "id": "AFEkLAfMAO7A"
      },
      "source": [
        "import pandas as pd\n",
        "import numpy as np\n",
        "import seaborn as sns\n",
        "import re\n",
        "from sklearn.ensemble import RandomForestRegressor\n",
        "from sklearn.model_selection import train_test_split\n",
        "from sklearn.feature_selection import RFECV\n",
        "from sklearn.preprocessing import MinMaxScaler, RobustScaler\n",
        "from sklearn.impute import SimpleImputer\n",
        "from sklearn.pipeline import Pipeline\n",
        "import matplotlib.pyplot as plt\n",
        "import seaborn as sns\n",
        "\n",
        "import tensorflow as tf"
      ],
      "execution_count": null,
      "outputs": []
    },
    {
      "cell_type": "markdown",
      "metadata": {
        "id": "bz4iaArdAz_B"
      },
      "source": [
        "# Téléchargement des données"
      ]
    },
    {
      "cell_type": "code",
      "metadata": {
        "id": "FzVs6_U9A6th"
      },
      "source": [
        "!wget --no-check-certificate --content-disposition \"https://github.com/AlexandreBourrieau/ML/blob/main/Carnets%20Jupyter/S%C3%A9ries%20temporelles/Bitcoin/Bitcoin_complet.zip?raw=true\"\n",
        "!unzip Bitcoin_complet.zip"
      ],
      "execution_count": null,
      "outputs": []
    },
    {
      "cell_type": "code",
      "metadata": {
        "id": "EWOVeQf5Cmaw"
      },
      "source": [
        "df_data=pd.read_csv('Bitcoin_complet.csv')\n",
        "df_data.shape"
      ],
      "execution_count": null,
      "outputs": []
    },
    {
      "cell_type": "code",
      "metadata": {
        "id": "bToEklt9FSDo"
      },
      "source": [
        "df_data.head()"
      ],
      "execution_count": null,
      "outputs": []
    },
    {
      "cell_type": "markdown",
      "metadata": {
        "id": "mBkr78F2Gkx4"
      },
      "source": [
        "# Préparation des jeux de données"
      ]
    },
    {
      "cell_type": "code",
      "metadata": {
        "id": "B2qDmNNHExkA"
      },
      "source": [
        "# Déplace la colonne Prix au début\n",
        "col_prix = df_data.pop('Price')\n",
        "df_data.insert(1,'Price',col_prix)\n",
        "df_data.head()"
      ],
      "execution_count": null,
      "outputs": []
    },
    {
      "cell_type": "code",
      "metadata": {
        "id": "v9A9h3ChD9gf"
      },
      "source": [
        "X_raw = df_data.iloc[:,2:20]\n",
        "X_raw.head()"
      ],
      "execution_count": null,
      "outputs": []
    },
    {
      "cell_type": "code",
      "metadata": {
        "id": "vSc5nB1EGUyH"
      },
      "source": [
        "y = df_data.iloc[:,1:2]\n",
        "y.head()"
      ],
      "execution_count": null,
      "outputs": []
    },
    {
      "cell_type": "markdown",
      "metadata": {
        "id": "xJxIcLu7GoQG"
      },
      "source": [
        "# Application de l'algorithme Random Forest"
      ]
    },
    {
      "cell_type": "code",
      "metadata": {
        "id": "YOBvoAUvUGQ6"
      },
      "source": [
        "tf.squeeze(np.asarray(y),1)"
      ],
      "execution_count": null,
      "outputs": []
    },
    {
      "cell_type": "code",
      "metadata": {
        "id": "mQcStfHvJpgB"
      },
      "source": [
        "features_list=[]\n",
        "indicateurs_techniques=['sma','ema','wma','trix', 'std','var','rsi','roc']\n",
        "periode=['3','7','14','30','90']\n",
        "\n",
        "for indicateur in indicateurs_techniques:\n",
        "    for i in periode:\n",
        "      print(\"%s%s\" %(indicateur, i))\n",
        "      filtre = str(indicateur) + str(i) + \"$\"\n",
        "\n",
        "      X = df_data.filter(regex=filtre,axis=1)\n",
        "      X = SimpleImputer(missing_values=np.nan,strategy='most_frequent').fit_transform(X)\n",
        "      X = pd.DataFrame(X)\n",
        "      X.columns = df_data.filter(regex=filtre,axis=1).columns\n",
        "\n",
        "      rf1 = RandomForestRegressor(random_state=7,n_jobs=-1)\n",
        "      rfecv = RFECV(rf1,step=0.9,min_features_to_select=1,verbose=1,cv=5,scoring='neg_mean_absolute_error', n_jobs=1)\n",
        "      rfecv.fit(X,tf.squeeze(np.asarray(y),1))\n",
        "\n",
        "      if rfecv.n_features_ > 1:\n",
        "        rf1.fit(X,tf.squeeze(np.asarray(y),1))\n",
        "        maximp = rf1.feature_importances_.max()\n",
        "        for x in range(len(rf1.feature_importances_)):\n",
        "          if maximp==rf1.feature_importances_[x]:\n",
        "            new_features = X.columns[x]\n",
        "      else:\n",
        "        mask = rfecv.get_support()\n",
        "        new_features = X.columns[mask]\n",
        "      features_list.append(str(new_features))\n",
        "      print(filtre+ ': ' + new_features)"
      ],
      "execution_count": null,
      "outputs": []
    },
    {
      "cell_type": "code",
      "metadata": {
        "id": "eOSN1Is9dfXG"
      },
      "source": [
        "X"
      ],
      "execution_count": null,
      "outputs": []
    }
  ]
}