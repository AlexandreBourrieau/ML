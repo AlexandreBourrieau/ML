{
  "nbformat": 4,
  "nbformat_minor": 0,
  "metadata": {
    "colab": {
      "name": "Bitcoin_Identification_Features.ipynb",
      "provenance": [],
      "toc_visible": true,
      "authorship_tag": "ABX9TyMIKAfrqlU9xYOlIBfI2H87",
      "include_colab_link": true
    },
    "kernelspec": {
      "name": "python3",
      "display_name": "Python 3"
    },
    "language_info": {
      "name": "python"
    }
  },
  "cells": [
    {
      "cell_type": "markdown",
      "metadata": {
        "id": "view-in-github",
        "colab_type": "text"
      },
      "source": [
        "<a href=\"https://colab.research.google.com/github/AlexandreBourrieau/ML/blob/main/Carnets%20Jupyter/S%C3%A9ries%20temporelles/Bitcoin/Bitcoin_Identification_Features.ipynb\" target=\"_parent\"><img src=\"https://colab.research.google.com/assets/colab-badge.svg\" alt=\"Open In Colab\"/></a>"
      ]
    },
    {
      "cell_type": "code",
      "metadata": {
        "id": "AFEkLAfMAO7A"
      },
      "source": [
        "import pandas as pd\n",
        "import numpy as np\n",
        "import seaborn as sns\n",
        "import re\n",
        "from sklearn.ensemble import RandomForestRegressor\n",
        "from sklearn.model_selection import train_test_split\n",
        "from sklearn.feature_selection import RFECV\n",
        "from sklearn.preprocessing import MinMaxScaler, RobustScaler\n",
        "from sklearn.impute import SimpleImputer\n",
        "from sklearn.pipeline import Pipeline\n",
        "import matplotlib.pyplot as plt\n",
        "import seaborn as sns\n",
        "import commons as cmns\n",
        "\n",
        "import tensorflow as tf"
      ],
      "execution_count": null,
      "outputs": []
    },
    {
      "cell_type": "markdown",
      "metadata": {
        "id": "bz4iaArdAz_B"
      },
      "source": [
        "# Téléchargement des données"
      ]
    },
    {
      "cell_type": "code",
      "metadata": {
        "id": "FzVs6_U9A6th"
      },
      "source": [
        "!wget --no-check-certificate --content-disposition \"https://github.com/AlexandreBourrieau/ML/blob/main/Carnets%20Jupyter/S%C3%A9ries%20temporelles/Bitcoin/Bitcoin_complet.zip?raw=true\"\n",
        "!unzip Bitcoin_complet.zip"
      ],
      "execution_count": null,
      "outputs": []
    },
    {
      "cell_type": "code",
      "metadata": {
        "id": "EWOVeQf5Cmaw"
      },
      "source": [
        "df_data=pd.read_csv('Bitcoin_complet.csv')\n",
        "df_data.shape"
      ],
      "execution_count": null,
      "outputs": []
    },
    {
      "cell_type": "code",
      "metadata": {
        "id": "bToEklt9FSDo"
      },
      "source": [
        "df_data.head()"
      ],
      "execution_count": null,
      "outputs": []
    },
    {
      "cell_type": "markdown",
      "metadata": {
        "id": "mBkr78F2Gkx4"
      },
      "source": [
        "# Préparation des jeux de données"
      ]
    },
    {
      "cell_type": "code",
      "metadata": {
        "id": "B2qDmNNHExkA"
      },
      "source": [
        "# Déplace la colonne Prix au début\n",
        "col_prix = df_data.pop('Price')\n",
        "df_data.insert(1,'Price',col_prix)\n",
        "df_data.head()"
      ],
      "execution_count": null,
      "outputs": []
    },
    {
      "cell_type": "code",
      "metadata": {
        "id": "v9A9h3ChD9gf"
      },
      "source": [
        "X_raw = df_data.iloc[:,2:20]\n",
        "X_raw.head()"
      ],
      "execution_count": null,
      "outputs": []
    },
    {
      "cell_type": "code",
      "metadata": {
        "id": "vSc5nB1EGUyH"
      },
      "source": [
        "y = df_data.iloc[:,1:2]\n",
        "y.head()"
      ],
      "execution_count": null,
      "outputs": []
    },
    {
      "cell_type": "markdown",
      "metadata": {
        "id": "xJxIcLu7GoQG"
      },
      "source": [
        "# Identification des variables par Random Forest"
      ]
    },
    {
      "cell_type": "code",
      "metadata": {
        "id": "mQcStfHvJpgB"
      },
      "source": [
        "features_list=[]\n",
        "indicateurs_techniques=['sma','ema','wma','trix', 'std','skew','rsi','roc']\n",
        "periode=['3','7','14','30','90']\n",
        "\n",
        "for indicateur in indicateurs_techniques:\n",
        "    for i in periode:\n",
        "      print(\"%s%s\" %(indicateur, i))\n",
        "      filtre = str(indicateur) + str(i) + \"$\"\n",
        "\n",
        "      X = df_data.filter(regex=filtre,axis=1)\n",
        "      X = SimpleImputer(missing_values=np.nan,strategy='most_frequent').fit_transform(X)\n",
        "      X = pd.DataFrame(X)\n",
        "      X.columns = df_data.filter(regex=filtre,axis=1).columns\n",
        "\n",
        "      rf1 = RandomForestRegressor(random_state=7,n_jobs=-1)\n",
        "      rfecv = RFECV(rf1,step=0.9,min_features_to_select=1,verbose=1,cv=5,scoring='neg_mean_absolute_error', n_jobs=1)\n",
        "      rfecv.fit(X,tf.squeeze(np.asarray(y),1))\n",
        "\n",
        "      if rfecv.n_features_ > 1:\n",
        "        rf1.fit(X,tf.squeeze(np.asarray(y),1))\n",
        "        maximp = rf1.feature_importances_.max()\n",
        "        for x in range(len(rf1.feature_importances_)):\n",
        "          if maximp==rf1.feature_importances_[x]:\n",
        "            new_features = X.columns[x]\n",
        "      else:\n",
        "        mask = rfecv.get_support()\n",
        "        new_features = X.columns[mask]\n",
        "      features_list.append(str(new_features))\n",
        "      print(filtre+ ': ' + new_features)"
      ],
      "execution_count": null,
      "outputs": []
    },
    {
      "cell_type": "code",
      "metadata": {
        "id": "nBx72JIezD1U"
      },
      "source": [
        "features_list"
      ],
      "execution_count": null,
      "outputs": []
    },
    {
      "cell_type": "code",
      "metadata": {
        "id": "fVSzwVs1y861"
      },
      "source": [
        "l1=[]\n",
        "\n",
        "for j in range(len(features_list)):\n",
        "    result1 = re.search(\"'(.*)'],\", features_list[j])\n",
        "    if result1!=None:\n",
        "        l1.append(result1.group(1))\n",
        "        \n",
        "for i in range(len(features_list)):\n",
        "    result2 = re.search('.*',features_list[i])\n",
        "    if len(result2.group(0))<33:\n",
        "        l1.append(result2.group(0))"
      ],
      "execution_count": null,
      "outputs": []
    },
    {
      "cell_type": "code",
      "metadata": {
        "id": "57GxV4JKzU6U"
      },
      "source": [
        "l1.sort()\n",
        "l1"
      ],
      "execution_count": null,
      "outputs": []
    },
    {
      "cell_type": "code",
      "metadata": {
        "id": "4CT3qzPrzxIj"
      },
      "source": [
        "df_data_reduit=df_data[l1]\n",
        "df_data_reduit.head()"
      ],
      "execution_count": null,
      "outputs": []
    },
    {
      "cell_type": "markdown",
      "metadata": {
        "id": "bjy_YVTr1m7M"
      },
      "source": [
        "Suppresion des valeurs non numériques :"
      ]
    },
    {
      "cell_type": "code",
      "metadata": {
        "id": "31ApzegO1QDk"
      },
      "source": [
        "df_data_reduit = SimpleImputer(missing_values=np.nan,strategy='most_frequent').fit_transform(df_data_reduit)\n",
        "df_data_reduit = pd.DataFrame(X)\n",
        "df_data_reduit.columns = df_data_reduit.columns\n",
        "df_data_reduit"
      ],
      "execution_count": null,
      "outputs": []
    },
    {
      "cell_type": "markdown",
      "metadata": {
        "id": "k63XrNH-0tOH"
      },
      "source": [
        "# Identifications des variables réstantes collinéraires "
      ]
    },
    {
      "cell_type": "code",
      "metadata": {
        "id": "1SFtVw21029m"
      },
      "source": [
        "from statsmodels.stats.outliers_influence import variance_inflation_factor\n",
        "\n",
        "#function for removing features with high vif\n",
        "def drop_high_vif(X, thresh=100):\n",
        "    cols = X.columns\n",
        "    variables = np.arange(X.shape[1])\n",
        "    dropped=True\n",
        "    while dropped:\n",
        "        dropped=False\n",
        "        c = X[cols[variables]].values\n",
        "        vif = [variance_inflation_factor(c, ix) for ix in np.arange(c.shape[1])]\n",
        "\n",
        "        maxloc = vif.index(max(vif))\n",
        "        if max(vif) > thresh:\n",
        "            print('dropping \\'' + X[cols[variables]].columns[maxloc] + '\\' at index: ' + str(maxloc))\n",
        "            variables = np.delete(variables, maxloc)\n",
        "            dropped=True\n",
        "\n",
        "    print('Remaining variables:')\n",
        "    print(X.columns[variables])\n",
        "    return X[cols[variables]]"
      ],
      "execution_count": null,
      "outputs": []
    },
    {
      "cell_type": "code",
      "metadata": {
        "id": "OswToUPs0JlN"
      },
      "source": [
        "df_data_reduit = drop_high_vif(df_data_reduit,thresh=5)\n",
        "df_data_reduit"
      ],
      "execution_count": null,
      "outputs": []
    },
    {
      "cell_type": "code",
      "metadata": {
        "id": "g0S5ZPFI2Nu9"
      },
      "source": [
        "from statsmodels.tools.tools import add_constant\n",
        "\n",
        "#function for listing vif values\n",
        "def vif_values(X):\n",
        "    add_constant(X)\n",
        "    df=pd.Series([variance_inflation_factor(X.values, i) for i in range(X.shape[1])], index=X.columns)\n",
        "    return df"
      ],
      "execution_count": null,
      "outputs": []
    },
    {
      "cell_type": "code",
      "metadata": {
        "id": "NB1kSVbn2Pzv"
      },
      "source": [
        "vif_values(df_data_reduit)"
      ],
      "execution_count": null,
      "outputs": []
    },
    {
      "cell_type": "code",
      "metadata": {
        "id": "LlOkpbgl2qDF"
      },
      "source": [
        "Raw=drop_high_vif(X_raw,thresh=10)"
      ],
      "execution_count": null,
      "outputs": []
    },
    {
      "cell_type": "code",
      "metadata": {
        "id": "6gZ2kL_Y2wRU"
      },
      "source": [
        "vif_values(Raw)"
      ],
      "execution_count": null,
      "outputs": []
    },
    {
      "cell_type": "code",
      "metadata": {
        "id": "goBAbqwd4RQd"
      },
      "source": [
        "Raw.insert(0,'Dates',df_data['Dates'])\n",
        "df_data_reduit.insert(0,'Dates',df_data['Dates'])"
      ],
      "execution_count": null,
      "outputs": []
    },
    {
      "cell_type": "code",
      "metadata": {
        "id": "8VGQs-5q4pmN"
      },
      "source": [
        "df_merged=Raw.merge(df_data_reduit,how='outer')\n",
        "df_merged.drop_duplicates()"
      ],
      "execution_count": null,
      "outputs": []
    },
    {
      "cell_type": "code",
      "metadata": {
        "id": "IiKVRyIe5XLW"
      },
      "source": [
        "df_merged.drop(columns='Dates',inplace=True)"
      ],
      "execution_count": null,
      "outputs": []
    },
    {
      "cell_type": "code",
      "metadata": {
        "id": "IlqWHI2t5agO"
      },
      "source": [
        "df_data_reduit=drop_high_vif(df_merged,thresh=10)\n",
        "df_data_reduit"
      ],
      "execution_count": null,
      "outputs": []
    },
    {
      "cell_type": "code",
      "metadata": {
        "id": "zccw4Htr5l9v"
      },
      "source": [
        "vif_values(df_data_reduit)"
      ],
      "execution_count": null,
      "outputs": []
    },
    {
      "cell_type": "code",
      "metadata": {
        "id": "0oTJu09w5wYj"
      },
      "source": [
        "rf_final=RandomForestRegressor(random_state=7,n_jobs=-1)\n",
        "rf_final.fit(df_data_reduit,tf.squeeze(np.asarray(y),1))"
      ],
      "execution_count": null,
      "outputs": []
    },
    {
      "cell_type": "code",
      "metadata": {
        "id": "dCS6ALKs6EwL"
      },
      "source": [
        "# function for creating a feature importance dataframe\n",
        "def feature_importance(column_names, importances):\n",
        "    df = pd.DataFrame({'feature': column_names, 'feature_importance': importances}).sort_values('feature_importance', ascending = False).reset_index(drop = True)\n",
        "    return df"
      ],
      "execution_count": null,
      "outputs": []
    },
    {
      "cell_type": "code",
      "metadata": {
        "id": "-0zNaiQr6RJO"
      },
      "source": [
        "# plotting a feature importance dataframe (horizontal barchart)\n",
        "def plot_feature_importance(imp_df, title):\n",
        "    # figure size in inches\n",
        "    plt.rcParams['figure.figsize'] = 11.7,8.27\n",
        "    imp_df.columns = ['feature', 'feature_importance']\n",
        "    sns.barplot(x = 'feature_importance', y = 'feature', data = imp_df, color = 'royalblue').set_title(title, fontsize = 20)"
      ],
      "execution_count": null,
      "outputs": []
    },
    {
      "cell_type": "code",
      "metadata": {
        "id": "NevJa1uu6DUj"
      },
      "source": [
        "imp_feat=feature_importance(df_data_reduit.columns,rf_final.feature_importances_)\n",
        "plot_feature_importance(imp_feat,'feature importance')"
      ],
      "execution_count": null,
      "outputs": []
    },
    {
      "cell_type": "code",
      "metadata": {
        "id": "CMmGxitm6634"
      },
      "source": [
        "imp_feat[imp_feat['feature_importance']>0]"
      ],
      "execution_count": null,
      "outputs": []
    },
    {
      "cell_type": "code",
      "metadata": {
        "id": "keB7Vwbp7fIL"
      },
      "source": [
        "selected = imp_feat[imp_feat['feature_importance']>0]\n",
        "selected"
      ],
      "execution_count": null,
      "outputs": []
    },
    {
      "cell_type": "code",
      "metadata": {
        "id": "v3Uw2i_a7tOb"
      },
      "source": [
        "selected.feature_importance.sum()"
      ],
      "execution_count": null,
      "outputs": []
    },
    {
      "cell_type": "code",
      "metadata": {
        "id": "SYpnTmoB7vtJ"
      },
      "source": [
        "df_data_reduit_high = df_data_reduit[np.asarray(selected.feature)]\n",
        "df_data_reduit_high.sort_index(axis=1,inplace=True)\n",
        "df_data_reduit_high['Price'] = np.ravel(y)\n",
        "df_data_reduit_high = df_data_reduit_high[df_data_reduit_high['Price']!=1]\n",
        "df_data_reduit_high"
      ],
      "execution_count": null,
      "outputs": []
    },
    {
      "cell_type": "code",
      "metadata": {
        "id": "PTZxkbtW8QnF"
      },
      "source": [
        "corr = df_data_reduit_high.corr()\n",
        "\n",
        "# Generate a mask for the upper triangle\n",
        "mask = np.triu(np.ones_like(corr, dtype=np.bool))\n",
        "\n",
        "# Set up the matplotlib figure\n",
        "f, ax = plt.subplots(figsize=(15, 8))\n",
        "\n",
        "sns.heatmap(corr,mask=mask, cmap='coolwarm',annot=True, fmt='.2f')"
      ],
      "execution_count": null,
      "outputs": []
    },
    {
      "cell_type": "code",
      "metadata": {
        "id": "B1vTUIhB_hxU"
      },
      "source": [
        "from sklearn.ensemble import IsolationForest\n",
        "\n",
        "anomalies=IsolationForest(contamination=0.1)\n",
        "\n",
        "price=df_data_reduit_high['Price']\n",
        "price=price.values\n",
        "price=np.reshape(price,(-1,1))\n",
        "anomalies.fit(price)\n",
        "\n",
        "pred=anomalies.predict(price)\n",
        "\n",
        "df_data_reduit_high['Anomalies'] = pred\n",
        "df_data_reduit_high['Anomalies'] = df_data_reduit_high['Anomalies'].apply(lambda x: 1 if (x==-1) else 0)\n",
        "\n",
        "# Affiche les informations sur les anomalies\n",
        "print(df_data_reduit_high['Anomalies'].value_counts())"
      ],
      "execution_count": null,
      "outputs": []
    },
    {
      "cell_type": "code",
      "metadata": {
        "id": "WvF0VEoYAwzB"
      },
      "source": [
        "import plotly.express as px\n",
        "\n",
        "# Affiche la série\n",
        "\n",
        "fig = px.line(x=df_data_reduit_high.index,y=df_data_reduit_high['Price'],title=\"Evolution du prix du BTC\")\n",
        "fig.add_trace(px.scatter(x=df_data_reduit_high.index,y=df_data_reduit_high['Anomalies']*df_data_reduit_high['Price'],color=df_data_reduit_high['Anomalies'].astype(np.bool)).data[0])\n",
        "\n",
        "fig.update_xaxes(rangeslider_visible=True)\n",
        "yaxis=dict(autorange = True,fixedrange= False)\n",
        "fig.update_yaxes(yaxis)\n",
        "fig.show()"
      ],
      "execution_count": null,
      "outputs": []
    },
    {
      "cell_type": "code",
      "metadata": {
        "id": "fA8SLXVYAMax"
      },
      "source": [
        "#df_data_reduit_high.reset_index(drop=True,inplace=True)\n",
        "df_data_reduit_high.drop(columns=['Anomalies'],inplace=True)"
      ],
      "execution_count": null,
      "outputs": []
    },
    {
      "cell_type": "code",
      "metadata": {
        "id": "yuNLVObdBS-I"
      },
      "source": [
        "df_data_reduit_high.insert(0,'Dates',df_data['Dates'])\n",
        "df_data_reduit_high.set_index(df_data_reduit_high['Dates'])\n",
        "df_data_reduit_high"
      ],
      "execution_count": null,
      "outputs": []
    },
    {
      "cell_type": "code",
      "metadata": {
        "id": "XU01ischDDiA"
      },
      "source": [
        "df_data_reduit_high.columns"
      ],
      "execution_count": null,
      "outputs": []
    },
    {
      "cell_type": "code",
      "metadata": {
        "id": "d54pzv4cDNpQ"
      },
      "source": [
        "df_data_reduit_high.to_csv('reg_1d.csv')"
      ],
      "execution_count": null,
      "outputs": []
    }
  ]
}