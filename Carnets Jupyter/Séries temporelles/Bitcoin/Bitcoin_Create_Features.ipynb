{
  "nbformat": 4,
  "nbformat_minor": 0,
  "metadata": {
    "colab": {
      "name": "Bitcoin_Create_Features.ipynb",
      "provenance": [],
      "machine_shape": "hm",
      "include_colab_link": true
    },
    "kernelspec": {
      "name": "python3",
      "display_name": "Python 3"
    },
    "language_info": {
      "name": "python"
    }
  },
  "cells": [
    {
      "cell_type": "markdown",
      "metadata": {
        "id": "view-in-github",
        "colab_type": "text"
      },
      "source": [
        "<a href=\"https://colab.research.google.com/github/AlexandreBourrieau/ML/blob/main/Carnets%20Jupyter/S%C3%A9ries%20temporelles/Bitcoin/Bitcoin_Create_Features.ipynb\" target=\"_parent\"><img src=\"https://colab.research.google.com/assets/colab-badge.svg\" alt=\"Open In Colab\"/></a>"
      ]
    },
    {
      "cell_type": "markdown",
      "metadata": {
        "id": "TVuCzMYKDp3z"
      },
      "source": [
        "# Chargement des données"
      ]
    },
    {
      "cell_type": "code",
      "metadata": {
        "id": "i3nLyKtnliCW"
      },
      "source": [
        "import tensorflow as tf\n",
        "from tensorflow import keras\n",
        "import numpy as np\n",
        "import matplotlib.pyplot as plt\n",
        "import plotly.express as px\n",
        "import pandas as pd\n",
        "from sklearn import preprocessing"
      ],
      "execution_count": null,
      "outputs": []
    },
    {
      "cell_type": "code",
      "metadata": {
        "id": "pnLx0L-oRDlF"
      },
      "source": [
        "!wget --no-check-certificate --content-disposition \"https://raw.githubusercontent.com/AlexandreBourrieau/ML/main/Carnets%20Jupyter/S%C3%A9ries%20temporelles/Bitcoin/technical_indicators.py\"\n",
        "!wget --no-check-certificate --content-disposition \"https://raw.githubusercontent.com/AlexandreBourrieau/ML/main/Carnets%20Jupyter/S%C3%A9ries%20temporelles/Bitcoin/All_Infos_Bitcoin.csv\"\n"
      ],
      "execution_count": null,
      "outputs": []
    },
    {
      "cell_type": "markdown",
      "metadata": {
        "id": "MPJ6nnrRsUBm"
      },
      "source": [
        "Charge la série sous Pandas et affiche les informations du fichier :"
      ]
    },
    {
      "cell_type": "code",
      "metadata": {
        "id": "VEB_JjihEYTP"
      },
      "source": [
        "# Création de la série sous Pandas\n",
        "df = pd.read_csv(\"All_Infos_Bitcoin.csv\")\n",
        "df"
      ],
      "execution_count": null,
      "outputs": []
    },
    {
      "cell_type": "code",
      "metadata": {
        "id": "Oyg5XEatRZMl"
      },
      "source": [
        "# Affiche les types\n",
        "df.dtypes"
      ],
      "execution_count": null,
      "outputs": []
    },
    {
      "cell_type": "code",
      "metadata": {
        "id": "8x3X7jvJR6WW"
      },
      "source": [
        "# Conversion des dates en type Datetime\n",
        "df.Dates = pd.to_datetime(df.Dates)\n",
        "\n",
        "# Mise en place de l'index au format DatetimeIndex\n",
        "df = df.set_index('Dates')\n",
        "df.dtypes"
      ],
      "execution_count": null,
      "outputs": []
    },
    {
      "cell_type": "markdown",
      "metadata": {
        "id": "WF62FumBty9H"
      },
      "source": [
        "# Pré-traitement des données"
      ]
    },
    {
      "cell_type": "markdown",
      "metadata": {
        "id": "x2oeGZgr1UUP"
      },
      "source": [
        "**1. Affichage des données**"
      ]
    },
    {
      "cell_type": "markdown",
      "metadata": {
        "id": "cgHcZyd13gCa"
      },
      "source": [
        "On demande à échantillonner les données sur 1 jour :"
      ]
    },
    {
      "cell_type": "code",
      "metadata": {
        "id": "DVNlzo9QWNmP"
      },
      "source": [
        "# Echantillonnage de la série sur 1min\n",
        "df = df.resample('1D').asfreq()\n",
        "df"
      ],
      "execution_count": null,
      "outputs": []
    },
    {
      "cell_type": "markdown",
      "metadata": {
        "id": "-HC3ObFoXgMB"
      },
      "source": [
        "Normalise toutes les données pour les afficher :"
      ]
    },
    {
      "cell_type": "code",
      "metadata": {
        "id": "71pr6-k5XoF-"
      },
      "source": [
        "normalized_df=(df-df.mean())/df.std()"
      ],
      "execution_count": null,
      "outputs": []
    },
    {
      "cell_type": "code",
      "metadata": {
        "id": "6TFQn1xUXBCT"
      },
      "source": [
        "date_debut = \"2009-01-03\"\n",
        "date_fin = \"2021-04-27\"\n",
        "f1, (ax1, ax2) = plt.subplots(2, 1, figsize=(15, 10))\n",
        "f1.subplots_adjust(hspace=0.3,wspace=0.2)\n",
        "\n",
        "ax1.plot(normalized_df['Price'].loc[date_debut:date_fin])\n",
        "ax2.plot(normalized_df.loc[date_debut:date_fin])"
      ],
      "execution_count": null,
      "outputs": []
    },
    {
      "cell_type": "markdown",
      "metadata": {
        "id": "63YgU_6PY_HF"
      },
      "source": [
        "On sélectionne un intervalle de temps et on regarde si cet intervalle à l'air correct :"
      ]
    },
    {
      "cell_type": "code",
      "metadata": {
        "id": "4FEIKa_UZGX0"
      },
      "source": [
        "date_debut = \"2015-01-01\"\n",
        "date_fin = \"2021-04-27\"\n",
        "f1, (ax1, ax2) = plt.subplots(2, 1, figsize=(15, 10))\n",
        "f1.subplots_adjust(hspace=0.3,wspace=0.2)\n",
        "\n",
        "ax1.plot(normalized_df['Price'].loc[date_debut:date_fin])\n",
        "ax2.plot(normalized_df.loc[date_debut:date_fin])"
      ],
      "execution_count": null,
      "outputs": []
    },
    {
      "cell_type": "markdown",
      "metadata": {
        "id": "0_yg2imDZLng"
      },
      "source": [
        "Création d'un nouveau dataframe sur l'intervalle choisi :"
      ]
    },
    {
      "cell_type": "code",
      "metadata": {
        "id": "WUs1nZCrZU2r"
      },
      "source": [
        "df_etude = df.loc[date_debut:date_fin].copy()\n",
        "df_etude"
      ],
      "execution_count": null,
      "outputs": []
    },
    {
      "cell_type": "markdown",
      "metadata": {
        "id": "X4nl4orhZnuD"
      },
      "source": [
        "**2. Recherche des données manquantes**"
      ]
    },
    {
      "cell_type": "markdown",
      "metadata": {
        "id": "rw6yhrrhaN6d"
      },
      "source": [
        "On commence par rechercher combien de données sont manquantes dans chaque colonne sur l'intervalle choisi :"
      ]
    },
    {
      "cell_type": "code",
      "metadata": {
        "id": "nfbC3EdMZw8U"
      },
      "source": [
        "for col in df_etude.columns:\n",
        "  data_manquantes = sum(np.isnan(df_etude[col]))\n",
        "  print (\"Données manquantes (%s) : %s\" %(col,data_manquantes))\n"
      ],
      "execution_count": null,
      "outputs": []
    },
    {
      "cell_type": "markdown",
      "metadata": {
        "id": "2wKR1ItPaTuL"
      },
      "source": [
        "On commence par tenter d'estimer les données manquantes à l'aide d'une interpolation linéaire à l'aide de la fonction [interpolate](https://pandas.pydata.org/docs/reference/api/pandas.Series.interpolate.html#pandas.Series.interpolate) de Pandas, puis on complète avec la méthode [fillna](https://pandas.pydata.org/docs/reference/api/pandas.Series.fillna.html) de Pandas avec la fonctionnalité de type `backfill` :"
      ]
    },
    {
      "cell_type": "code",
      "metadata": {
        "id": "-bqYL9uVahWT"
      },
      "source": [
        "df_etude = df_etude.interpolate(method=\"slinear\")\n",
        "df_etude = df_etude.fillna(method=\"backfill\")\n",
        "\n",
        "for col in df_etude.columns:\n",
        "  data_manquantes = sum(np.isnan(df_etude[col]))\n",
        "  print (\"Données manquantes (%s) : %s\" %(col,data_manquantes))"
      ],
      "execution_count": null,
      "outputs": []
    },
    {
      "cell_type": "code",
      "metadata": {
        "id": "qu6zV8-oa98L"
      },
      "source": [
        "df_etude['Google GTrends']"
      ],
      "execution_count": null,
      "outputs": []
    },
    {
      "cell_type": "code",
      "metadata": {
        "id": "8pCyKWwkbTeu"
      },
      "source": [
        "df_etude = df_etude.fillna(method='ffill')\n",
        "df_etude['Google GTrends']"
      ],
      "execution_count": null,
      "outputs": []
    },
    {
      "cell_type": "code",
      "metadata": {
        "id": "c9AdE2t-btOy"
      },
      "source": [
        "for col in df_etude.columns:\n",
        "  data_manquantes = sum(np.isnan(df_etude[col]))\n",
        "  print (\"Données manquantes (%s) : %s\" %(col,data_manquantes))"
      ],
      "execution_count": null,
      "outputs": []
    },
    {
      "cell_type": "markdown",
      "metadata": {
        "id": "Tkbi7uuBnUD3"
      },
      "source": [
        "**3. Recherche des anomalies**"
      ]
    },
    {
      "cell_type": "markdown",
      "metadata": {
        "id": "Y1joYv2Kd7Js"
      },
      "source": [
        "Les anomalies sont fréquentes dans les séries temporelles, et la performance des prédictions est souvent améliorée lorsque ces anomalies sont traitées.  \n",
        "Pour avoir un apperçu de ces éventuelles anomalies, nous allons utiliser la méthode [\"Isolation Forest\"](https://scikit-learn.org/stable/modules/outlier_detection.html#isolation-forest) disponnible dans Scikit-learn.  \n",
        "\n",
        "Les paramètres utilisés sont les suivants :\n",
        " - **n_estimators** : C'est le nombre de sous-groupes d'échantillons à utiliser. Une valeur de 128 ou 256 est préconnisée dans le document de recherche.\n",
        " - **max_samples** : C'est le nombre d'échantillons maximum à utiliser. Nous utiliserons l'ensemble des échantillons.\n",
        " - **max_features** :  C'est le nombre de motifs aléatoirement choisis sur chaque noeud de l'arbre. Nous choisirons un seul motif.\n",
        " - **contamination** : C'est le pourcentage estimé d'anomalies dans les données. Ce paramètre permet de régler la sensibilité de l'algorithme. On va commencer avec 5% et affiner si nécessaire par la suite."
      ]
    },
    {
      "cell_type": "markdown",
      "metadata": {
        "id": "Xk1rasDfcCOm"
      },
      "source": [
        "Voici un exemple d'utilisation de l'algorithme pour détecter des anomalies sur les prix :"
      ]
    },
    {
      "cell_type": "code",
      "metadata": {
        "id": "yHag65S4dH7x"
      },
      "source": [
        "# Initialise le modèle\n",
        "from sklearn.ensemble import IsolationForest\n",
        "\n",
        "clf = IsolationForest(n_estimators=256,max_samples=df_etude['Price'].size, contamination=0.01,max_features=1, verbose=1)\n",
        "clf.fit(df_etude['Price'].values.reshape(-1,1))"
      ],
      "execution_count": null,
      "outputs": []
    },
    {
      "cell_type": "code",
      "metadata": {
        "id": "HAPFfAaffb4h"
      },
      "source": [
        "# Réalise les prédictions\n",
        "pred = clf.predict(df_etude['Price'].values.reshape(-1,1))\n",
        "pred"
      ],
      "execution_count": null,
      "outputs": []
    },
    {
      "cell_type": "markdown",
      "metadata": {
        "id": "OU0TN1UEBqR2"
      },
      "source": [
        "On ajoute maintenant ces informations dans la série journalière et on affiche les informations :"
      ]
    },
    {
      "cell_type": "code",
      "metadata": {
        "id": "IWg0uUb9G5Ws"
      },
      "source": [
        "# Ajoute une colonne \"Anomalie\" dans la série\n",
        "df_etude['Anomalies']=pred\n",
        "df_etude['Anomalies'] = df_etude['Anomalies'].apply(lambda x: 1 if (x==-1) else 0)\n",
        "\n",
        "# Affiche les informations sur les anomalies\n",
        "print(df_etude['Anomalies'].value_counts())"
      ],
      "execution_count": null,
      "outputs": []
    },
    {
      "cell_type": "code",
      "metadata": {
        "id": "2idYKYImFh8v"
      },
      "source": [
        "# Affiche la série\n",
        "\n",
        "fig = px.line(x=df_etude.index,y=df_etude['Price'],title=\"Evolution du prix du BTC\")\n",
        "fig.add_trace(px.scatter(x=df_etude.index,y=df_etude['Anomalies']*df_etude['Price'],color=df_etude['Anomalies'].astype(np.bool)).data[0])\n",
        "\n",
        "fig.update_xaxes(rangeslider_visible=True)\n",
        "yaxis=dict(autorange = True,fixedrange= False)\n",
        "fig.update_yaxes(yaxis)\n",
        "fig.show()"
      ],
      "execution_count": null,
      "outputs": []
    },
    {
      "cell_type": "markdown",
      "metadata": {
        "id": "iO13JVEjc230"
      },
      "source": [
        "On fait les mêmes recherches sur les autres colonnes :"
      ]
    },
    {
      "cell_type": "code",
      "metadata": {
        "id": "27Sm_p3gc8wi"
      },
      "source": [
        "num_colonne = 10\n",
        "\n",
        "clf = IsolationForest(n_estimators=256,max_samples=df_etude[df_etude.columns[num_colonne]].size, contamination=0.01,max_features=1, verbose=1)\n",
        "clf.fit(df_etude[df_etude.columns[num_colonne]].values.reshape(-1,1))\n",
        "pred = clf.predict(df_etude[df_etude.columns[num_colonne]].values.reshape(-1,1))\n",
        "\n",
        "# Ajoute une colonne \"Anomalie\" dans la série\n",
        "df_etude['Anomalies']= pred\n",
        "df_etude['Anomalies'] = df_etude['Anomalies'].apply(lambda x: 1 if (x==-1) else 0)\n",
        "\n",
        "# Affiche la série\n",
        "fig = px.line(x=df_etude.index,y=df_etude[df_etude.columns[num_colonne]],title=df_etude.columns[num_colonne])\n",
        "fig.add_trace(px.scatter(x=df_etude.index,y=df_etude['Anomalies']*df_etude[df_etude.columns[num_colonne]],color=df_etude['Anomalies'].astype(np.bool)).data[0])\n",
        "\n",
        "fig.update_xaxes(rangeslider_visible=True)\n",
        "yaxis=dict(autorange = True,fixedrange= False)\n",
        "fig.update_yaxes(yaxis)\n",
        "fig.show()"
      ],
      "execution_count": null,
      "outputs": []
    },
    {
      "cell_type": "markdown",
      "metadata": {
        "id": "ZqK82ajOQFyc"
      },
      "source": [
        "On supprime maintenant la colonne \"Anomalies\" :"
      ]
    },
    {
      "cell_type": "code",
      "metadata": {
        "id": "TNMn9hgRQFLR"
      },
      "source": [
        "df_etude = df_etude.drop(columns=\"Anomalies\")"
      ],
      "execution_count": null,
      "outputs": []
    },
    {
      "cell_type": "markdown",
      "metadata": {
        "id": "e0ckrPprefNv"
      },
      "source": [
        "# Création des indicateurs techniques"
      ]
    },
    {
      "cell_type": "code",
      "metadata": {
        "id": "KNw5pGa0tF_A"
      },
      "source": [
        "!pip install pandas_ta\n",
        "import pandas_ta as ta"
      ],
      "execution_count": null,
      "outputs": []
    },
    {
      "cell_type": "markdown",
      "metadata": {
        "id": "tZExECGMff40"
      },
      "source": [
        "**1. SMA (Simple Moving Average)**"
      ]
    },
    {
      "cell_type": "code",
      "metadata": {
        "id": "1zCYCk1mf_wc"
      },
      "source": [
        "n = [3,7,14,30,90]\n",
        "\n",
        "df_indicateurs = pd.DataFrame(index=df_etude.index)\n",
        "\n",
        "# SMA sur n jours\n",
        "for i in n:\n",
        "  for col in df_etude.columns:\n",
        "    nom = col + \"_sma\" + str(i)\n",
        "    df_indicateurs[nom] = ta.sma(df_etude[col],i)\n"
      ],
      "execution_count": null,
      "outputs": []
    },
    {
      "cell_type": "code",
      "metadata": {
        "id": "AM4A3GOKg9oJ"
      },
      "source": [
        "df_indicateurs.head()"
      ],
      "execution_count": null,
      "outputs": []
    },
    {
      "cell_type": "code",
      "metadata": {
        "id": "N3o4_zuYk2jJ"
      },
      "source": [
        "import plotly.graph_objects as go\n",
        "\n",
        "col = \"Price\"\n",
        "indicateur = \"sma\"\n",
        "\n",
        "fig = go.Figure()\n",
        "\n",
        "fig.add_trace(go.Scatter(x=df_etude.index,y=df_etude[col],line=dict(color='blue', width=1),name=col))\n",
        "\n",
        "fig.add_trace(go.Scatter(x=df_indicateurs.index,y=df_indicateurs[col+'_'+indicateur+'3'],line=dict(color='green', width=1),name=indicateur+'3'))\n",
        "fig.add_trace(go.Scatter(x=df_indicateurs.index,y=df_indicateurs[col+'_'+indicateur+'7'],line=dict(color='red', width=1),name=indicateur+'7'))\n",
        "fig.add_trace(go.Scatter(x=df_indicateurs.index,y=df_indicateurs[col+'_'+indicateur+'14'],line=dict(color='black', width=1),name=indicateur+'14'))\n",
        "\n",
        "fig.update_xaxes(rangeslider_visible=True)\n",
        "yaxis=dict(autorange = True,fixedrange= False)\n",
        "fig.update_yaxes(yaxis)\n",
        "fig.show()\n"
      ],
      "execution_count": null,
      "outputs": []
    },
    {
      "cell_type": "markdown",
      "metadata": {
        "id": "6CBuetvjkQgo"
      },
      "source": [
        "**2. EMA (Exponential Moving Average)**"
      ]
    },
    {
      "cell_type": "code",
      "metadata": {
        "id": "g7kIdas0mf9G"
      },
      "source": [
        "n = [3,7,14,30,90]\n",
        "\n",
        "# EMA sur n jours\n",
        "for i in n:\n",
        "  for col in df_etude.columns:\n",
        "    nom = col + \"_ema\" + str(i)\n",
        "    df_indicateurs[nom] = ta.ema(df_etude[col],i)"
      ],
      "execution_count": null,
      "outputs": []
    },
    {
      "cell_type": "code",
      "metadata": {
        "id": "KBZo_bhhmw2p"
      },
      "source": [
        "import plotly.graph_objects as go\n",
        "\n",
        "col = \"Price\"\n",
        "indicateur = \"ema\"\n",
        "\n",
        "fig = go.Figure()\n",
        "\n",
        "fig.add_trace(go.Scatter(x=df_etude.index,y=df_etude[col],line=dict(color='blue', width=1),name=col))\n",
        "\n",
        "fig.add_trace(go.Scatter(x=df_indicateurs.index,y=df_indicateurs[col+'_'+indicateur+'3'],line=dict(color='green', width=1),name=indicateur+'3'))\n",
        "fig.add_trace(go.Scatter(x=df_indicateurs.index,y=df_indicateurs[col+'_'+indicateur+'7'],line=dict(color='red', width=1),name=indicateur+'7'))\n",
        "fig.add_trace(go.Scatter(x=df_indicateurs.index,y=df_indicateurs[col+'_'+indicateur+'14'],line=dict(color='black', width=1),name=indicateur+'14'))\n",
        "\n",
        "fig.update_xaxes(rangeslider_visible=True)\n",
        "yaxis=dict(autorange = True,fixedrange= False)\n",
        "fig.update_yaxes(yaxis)\n",
        "fig.show()\n"
      ],
      "execution_count": null,
      "outputs": []
    },
    {
      "cell_type": "markdown",
      "metadata": {
        "id": "4QhT0KFLoH9T"
      },
      "source": [
        "**3. RSI (Relative Strength Index)**"
      ]
    },
    {
      "cell_type": "code",
      "metadata": {
        "id": "dUeG8Vu3pXmB"
      },
      "source": [
        "n = [3,7,14,30,90]\n",
        "\n",
        "# RSI sur n jours\n",
        "for i in n:\n",
        "  for col in df_etude.columns:\n",
        "    nom = col + \"_rsi\" + str(i)\n",
        "    df_indicateurs[nom] = ta.rsi(df_etude[col],i)"
      ],
      "execution_count": null,
      "outputs": []
    },
    {
      "cell_type": "code",
      "metadata": {
        "id": "__wEpjgftrCn"
      },
      "source": [
        "import plotly.graph_objects as go\n",
        "\n",
        "col = \"Price\"\n",
        "indicateur = \"rsi\"\n",
        "\n",
        "fig = go.Figure()\n",
        "\n",
        "fig.add_trace(go.Scatter(x=df_etude.index,y=df_etude[col],line=dict(color='blue', width=1),name=col))\n",
        "\n",
        "fig.add_trace(go.Scatter(x=df_indicateurs.index,y=df_indicateurs[col+'_'+indicateur+'3'],line=dict(color='green', width=1),name=indicateur+'3'))\n",
        "fig.add_trace(go.Scatter(x=df_indicateurs.index,y=df_indicateurs[col+'_'+indicateur+'7'],line=dict(color='red', width=1),name=indicateur+'7'))\n",
        "fig.add_trace(go.Scatter(x=df_indicateurs.index,y=df_indicateurs[col+'_'+indicateur+'14'],line=dict(color='black', width=1),name=indicateur+'14'))\n",
        "\n",
        "fig.update_xaxes(rangeslider_visible=True)\n",
        "yaxis=dict(autorange = True,fixedrange= False)\n",
        "fig.update_yaxes(yaxis)\n",
        "fig.show()"
      ],
      "execution_count": null,
      "outputs": []
    },
    {
      "cell_type": "markdown",
      "metadata": {
        "id": "-RM4SVDu6SmW"
      },
      "source": [
        "**4. WMA (Weighted Moving Average)**"
      ]
    },
    {
      "cell_type": "code",
      "metadata": {
        "id": "1Sa7jzdj6Zf8"
      },
      "source": [
        "n = [3,7,14,30,90]\n",
        "\n",
        "# WMA sur n jours\n",
        "for i in n:\n",
        "  for col in df_etude.columns:\n",
        "    nom = col + \"_wma\" + str(i)\n",
        "    df_indicateurs[nom] = ta.wma(df_etude[col],i)"
      ],
      "execution_count": null,
      "outputs": []
    },
    {
      "cell_type": "code",
      "metadata": {
        "id": "h4hNxtt66g1S"
      },
      "source": [
        "import plotly.graph_objects as go\n",
        "\n",
        "col = \"Price\"\n",
        "indicateur = \"wma\"\n",
        "\n",
        "fig = go.Figure()\n",
        "\n",
        "fig.add_trace(go.Scatter(x=df_etude.index,y=df_etude[col],line=dict(color='blue', width=1),name=col))\n",
        "\n",
        "fig.add_trace(go.Scatter(x=df_indicateurs.index,y=df_indicateurs[col+'_'+indicateur+'3'],line=dict(color='green', width=1),name=indicateur+'3'))\n",
        "fig.add_trace(go.Scatter(x=df_indicateurs.index,y=df_indicateurs[col+'_'+indicateur+'7'],line=dict(color='red', width=1),name=indicateur+'7'))\n",
        "fig.add_trace(go.Scatter(x=df_indicateurs.index,y=df_indicateurs[col+'_'+indicateur+'14'],line=dict(color='black', width=1),name=indicateur+'14'))\n",
        "\n",
        "fig.update_xaxes(rangeslider_visible=True)\n",
        "yaxis=dict(autorange = True,fixedrange= False)\n",
        "fig.update_yaxes(yaxis)\n",
        "fig.show()"
      ],
      "execution_count": null,
      "outputs": []
    },
    {
      "cell_type": "markdown",
      "metadata": {
        "id": "KbiiK-L16mYH"
      },
      "source": [
        "**5. STD (Standard Deviation)**"
      ]
    },
    {
      "cell_type": "code",
      "metadata": {
        "id": "sK2qKKZ76s1B"
      },
      "source": [
        "n = [3,7,14,30,90]\n",
        "\n",
        "# STD sur n jours\n",
        "for i in n:\n",
        "  for col in df_etude.columns:\n",
        "    nom = col + \"_std\" + str(i)\n",
        "    df_indicateurs[nom] = ta.stdev(df_etude[col],i)"
      ],
      "execution_count": null,
      "outputs": []
    },
    {
      "cell_type": "code",
      "metadata": {
        "id": "3t1JgpF86xfD"
      },
      "source": [
        "import plotly.graph_objects as go\n",
        "\n",
        "col = \"Price\"\n",
        "indicateur = \"std\"\n",
        "\n",
        "fig = go.Figure()\n",
        "\n",
        "fig.add_trace(go.Scatter(x=df_etude.index,y=df_etude[col],line=dict(color='blue', width=1),name=col))\n",
        "\n",
        "fig.add_trace(go.Scatter(x=df_indicateurs.index,y=df_indicateurs[col+'_'+indicateur+'3'],line=dict(color='green', width=1),name=indicateur+'3'))\n",
        "fig.add_trace(go.Scatter(x=df_indicateurs.index,y=df_indicateurs[col+'_'+indicateur+'7'],line=dict(color='red', width=1),name=indicateur+'7'))\n",
        "fig.add_trace(go.Scatter(x=df_indicateurs.index,y=df_indicateurs[col+'_'+indicateur+'14'],line=dict(color='black', width=1),name=indicateur+'14'))\n",
        "\n",
        "fig.update_xaxes(rangeslider_visible=True)\n",
        "yaxis=dict(autorange = True,fixedrange= False)\n",
        "fig.update_yaxes(yaxis)\n",
        "fig.show()"
      ],
      "execution_count": null,
      "outputs": []
    },
    {
      "cell_type": "markdown",
      "metadata": {
        "id": "tMudDeoK616v"
      },
      "source": [
        "**6. Skew (SKEW)**"
      ]
    },
    {
      "cell_type": "code",
      "metadata": {
        "id": "VHQnCIVv645x"
      },
      "source": [
        "n = [3,7,14,30,90]\n",
        "\n",
        "# SKEW sur n jours\n",
        "for i in n:\n",
        "  for col in df_etude.columns:\n",
        "    nom = col + \"_skew\" + str(i)\n",
        "    df_indicateurs[nom] = ta.skew(df_etude[col],i)"
      ],
      "execution_count": null,
      "outputs": []
    },
    {
      "cell_type": "code",
      "metadata": {
        "id": "JoWYQWRL6_we"
      },
      "source": [
        "import plotly.graph_objects as go\n",
        "\n",
        "col = \"Price\"\n",
        "indicateur = \"skew\"\n",
        "\n",
        "fig = go.Figure()\n",
        "\n",
        "fig.add_trace(go.Scatter(x=df_etude.index,y=df_etude[col],line=dict(color='blue', width=1),name=col))\n",
        "\n",
        "fig.add_trace(go.Scatter(x=df_indicateurs.index,y=df_indicateurs[col+'_'+indicateur+'3'],line=dict(color='green', width=1),name=indicateur+'3'))\n",
        "fig.add_trace(go.Scatter(x=df_indicateurs.index,y=df_indicateurs[col+'_'+indicateur+'7'],line=dict(color='red', width=1),name=indicateur+'7'))\n",
        "fig.add_trace(go.Scatter(x=df_indicateurs.index,y=df_indicateurs[col+'_'+indicateur+'14'],line=dict(color='black', width=1),name=indicateur+'14'))\n",
        "\n",
        "fig.update_xaxes(rangeslider_visible=True)\n",
        "yaxis=dict(autorange = True,fixedrange= False)\n",
        "fig.update_yaxes(yaxis)\n",
        "fig.show()"
      ],
      "execution_count": null,
      "outputs": []
    },
    {
      "cell_type": "markdown",
      "metadata": {
        "id": "zMh_-hkP7J1x"
      },
      "source": [
        "**7. TRIX (Triple Exponential Moving Average)**"
      ]
    },
    {
      "cell_type": "code",
      "metadata": {
        "id": "p0-XmvaG9ldm"
      },
      "source": [
        "n = [3,7,14,30,90]\n",
        "\n",
        "# TRIX sur n jours\n",
        "for i in n:\n",
        "  for col in df_etude.columns:\n",
        "    nom = col + \"_trix\" + str(i)\n",
        "    df_indicateurs[nom] = ta.tema(df_etude[col],i)"
      ],
      "execution_count": null,
      "outputs": []
    },
    {
      "cell_type": "code",
      "metadata": {
        "id": "NsZg1lil-RMK"
      },
      "source": [
        "import plotly.graph_objects as go\n",
        "\n",
        "col = \"Price\"\n",
        "indicateur = \"trix\"\n",
        "\n",
        "fig = go.Figure()\n",
        "\n",
        "fig.add_trace(go.Scatter(x=df_etude.index,y=df_etude[col],line=dict(color='blue', width=1),name=col))\n",
        "\n",
        "fig.add_trace(go.Scatter(x=df_indicateurs.index,y=df_indicateurs[col+'_'+indicateur+'3'],line=dict(color='green', width=1),name=indicateur+'3'))\n",
        "fig.add_trace(go.Scatter(x=df_indicateurs.index,y=df_indicateurs[col+'_'+indicateur+'7'],line=dict(color='red', width=1),name=indicateur+'7'))\n",
        "fig.add_trace(go.Scatter(x=df_indicateurs.index,y=df_indicateurs[col+'_'+indicateur+'14'],line=dict(color='black', width=1),name=indicateur+'14'))\n",
        "\n",
        "fig.update_xaxes(rangeslider_visible=True)\n",
        "yaxis=dict(autorange = True,fixedrange= False)\n",
        "fig.update_yaxes(yaxis)\n",
        "fig.show()"
      ],
      "execution_count": null,
      "outputs": []
    },
    {
      "cell_type": "markdown",
      "metadata": {
        "id": "BdiColdT-ZBK"
      },
      "source": [
        "**8. ROC (Rate Of Change)**"
      ]
    },
    {
      "cell_type": "code",
      "metadata": {
        "id": "ZOjKUXs0-YvZ"
      },
      "source": [
        "n = [3,7,14,30,90]\n",
        "\n",
        "# TRIX sur n jours\n",
        "for i in n:\n",
        "  for col in df_etude.columns:\n",
        "    nom = col + \"_roc\" + str(i)\n",
        "    df_indicateurs[nom] = ta.roc(df_etude[col],i)"
      ],
      "execution_count": null,
      "outputs": []
    },
    {
      "cell_type": "code",
      "metadata": {
        "id": "rd9j7wIt-eCx"
      },
      "source": [
        "import plotly.graph_objects as go\n",
        "\n",
        "col = \"Price\"\n",
        "indicateur = \"roc\"\n",
        "\n",
        "fig = go.Figure()\n",
        "\n",
        "fig.add_trace(go.Scatter(x=df_etude.index,y=df_etude[col],line=dict(color='blue', width=1),name=col))\n",
        "\n",
        "fig.add_trace(go.Scatter(x=df_indicateurs.index,y=df_indicateurs[col+'_'+indicateur+'3'],line=dict(color='green', width=1),name=indicateur+'3'))\n",
        "fig.add_trace(go.Scatter(x=df_indicateurs.index,y=df_indicateurs[col+'_'+indicateur+'7'],line=dict(color='red', width=1),name=indicateur+'7'))\n",
        "fig.add_trace(go.Scatter(x=df_indicateurs.index,y=df_indicateurs[col+'_'+indicateur+'14'],line=dict(color='black', width=1),name=indicateur+'14'))\n",
        "\n",
        "fig.update_xaxes(rangeslider_visible=True)\n",
        "yaxis=dict(autorange = True,fixedrange= False)\n",
        "fig.update_yaxes(yaxis)\n",
        "fig.show()"
      ],
      "execution_count": null,
      "outputs": []
    },
    {
      "cell_type": "code",
      "metadata": {
        "id": "-MfRiekJQrHw"
      },
      "source": [
        "df_etude"
      ],
      "execution_count": null,
      "outputs": []
    },
    {
      "cell_type": "markdown",
      "metadata": {
        "id": "5BR8fFAb_gO1"
      },
      "source": [
        "# Fusion des données et sauvegarde des données"
      ]
    },
    {
      "cell_type": "code",
      "metadata": {
        "id": "js6lH7-b_lso"
      },
      "source": [
        "df_complet = pd.merge(df_etude,df_indicateurs,how='outer',on='Dates')"
      ],
      "execution_count": null,
      "outputs": []
    },
    {
      "cell_type": "code",
      "metadata": {
        "id": "MYYWDf87_yQ9"
      },
      "source": [
        "df_complet.to_csv(\"Bitcoin_complet.csv\")"
      ],
      "execution_count": null,
      "outputs": []
    }
  ]
}