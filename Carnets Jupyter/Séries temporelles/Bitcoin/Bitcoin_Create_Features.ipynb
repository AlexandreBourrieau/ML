{
  "nbformat": 4,
  "nbformat_minor": 0,
  "metadata": {
    "colab": {
      "name": "Bitcoin.ipynb",
      "provenance": [],
      "machine_shape": "hm",
      "include_colab_link": true
    },
    "kernelspec": {
      "name": "python3",
      "display_name": "Python 3"
    },
    "language_info": {
      "name": "python"
    },
    "accelerator": "GPU"
  },
  "cells": [
    {
      "cell_type": "markdown",
      "metadata": {
        "id": "view-in-github",
        "colab_type": "text"
      },
      "source": [
        "<a href=\"https://colab.research.google.com/github/AlexandreBourrieau/ML/blob/main/Carnets%20Jupyter/S%C3%A9ries%20temporelles/Bitcoin/Bitcoin_Create_Features.ipynb\" target=\"_parent\"><img src=\"https://colab.research.google.com/assets/colab-badge.svg\" alt=\"Open In Colab\"/></a>"
      ]
    },
    {
      "cell_type": "markdown",
      "metadata": {
        "id": "TVuCzMYKDp3z"
      },
      "source": [
        "# Chargement des données"
      ]
    },
    {
      "cell_type": "code",
      "metadata": {
        "id": "i3nLyKtnliCW"
      },
      "source": [
        "import tensorflow as tf\n",
        "from tensorflow import keras\n",
        "import numpy as np\n",
        "import matplotlib.pyplot as plt\n",
        "import plotly.express as px\n",
        "import pandas as pd"
      ],
      "execution_count": null,
      "outputs": []
    },
    {
      "cell_type": "markdown",
      "metadata": {
        "id": "eo2qVS1lrzuX"
      },
      "source": [
        "On télécharge un script depuis Github permettant de télécharger un fichier stocké sur GoogleDrive, puis on utilise ce script écrit en Python pour télécharger le fichier `bitcoin.zip`. Enfin, on décompresse les données pour obtenir le fichier `bitstampUSD_1-min_data_2012-01-01_to_2021-03-31.csv` :"
      ]
    },
    {
      "cell_type": "code",
      "metadata": {
        "id": "4sOdetggHqKE",
        "colab": {
          "base_uri": "https://localhost:8080/"
        },
        "outputId": "c98c0b45-28e0-4596-a972-211ed0ce6312"
      },
      "source": [
        "# Récupération des données au format .csv\n",
        "\n",
        "!git clone https://github.com/chentinghao/download_google_drive.git\n",
        "!python download_google_drive/download_gdrive.py \"1FZsEdpBm-AQ2L9n_pMnm6336-O_IVo7z\" \"/content/bitcoin.zip\"\n",
        "!unzip bitcoin.zip"
      ],
      "execution_count": null,
      "outputs": [
        {
          "output_type": "stream",
          "text": [
            "Cloning into 'download_google_drive'...\n",
            "remote: Enumerating objects: 16, done.\u001b[K\n",
            "remote: Total 16 (delta 0), reused 0 (delta 0), pack-reused 16\u001b[K\n",
            "Unpacking objects: 100% (16/16), done.\n",
            "100MB [00:01, 54.9MB/s] \n",
            "Archive:  bitcoin.zip\n",
            "  inflating: bitstampUSD_1-min_data_2012-01-01_to_2021-03-31.csv  \n"
          ],
          "name": "stdout"
        }
      ]
    },
    {
      "cell_type": "markdown",
      "metadata": {
        "id": "MPJ6nnrRsUBm"
      },
      "source": [
        "Charge la série sous Pandas et affiche les informations du fichier :"
      ]
    },
    {
      "cell_type": "code",
      "metadata": {
        "id": "VEB_JjihEYTP",
        "colab": {
          "base_uri": "https://localhost:8080/",
          "height": 419
        },
        "outputId": "e08640ae-06bf-4fd8-842d-3776185c7c7d"
      },
      "source": [
        "# Création de la série sous Pandas\n",
        "serie = pd.read_csv(\"bitstampUSD_1-min_data_2012-01-01_to_2021-03-31.csv\")\n",
        "serie"
      ],
      "execution_count": null,
      "outputs": [
        {
          "output_type": "execute_result",
          "data": {
            "text/html": [
              "<div>\n",
              "<style scoped>\n",
              "    .dataframe tbody tr th:only-of-type {\n",
              "        vertical-align: middle;\n",
              "    }\n",
              "\n",
              "    .dataframe tbody tr th {\n",
              "        vertical-align: top;\n",
              "    }\n",
              "\n",
              "    .dataframe thead th {\n",
              "        text-align: right;\n",
              "    }\n",
              "</style>\n",
              "<table border=\"1\" class=\"dataframe\">\n",
              "  <thead>\n",
              "    <tr style=\"text-align: right;\">\n",
              "      <th></th>\n",
              "      <th>Timestamp</th>\n",
              "      <th>Open</th>\n",
              "      <th>High</th>\n",
              "      <th>Low</th>\n",
              "      <th>Close</th>\n",
              "      <th>Volume_(BTC)</th>\n",
              "      <th>Volume_(Currency)</th>\n",
              "      <th>Weighted_Price</th>\n",
              "    </tr>\n",
              "  </thead>\n",
              "  <tbody>\n",
              "    <tr>\n",
              "      <th>0</th>\n",
              "      <td>1325317920</td>\n",
              "      <td>4.39</td>\n",
              "      <td>4.39</td>\n",
              "      <td>4.39</td>\n",
              "      <td>4.39</td>\n",
              "      <td>0.455581</td>\n",
              "      <td>2.000000</td>\n",
              "      <td>4.390000</td>\n",
              "    </tr>\n",
              "    <tr>\n",
              "      <th>1</th>\n",
              "      <td>1325317980</td>\n",
              "      <td>NaN</td>\n",
              "      <td>NaN</td>\n",
              "      <td>NaN</td>\n",
              "      <td>NaN</td>\n",
              "      <td>NaN</td>\n",
              "      <td>NaN</td>\n",
              "      <td>NaN</td>\n",
              "    </tr>\n",
              "    <tr>\n",
              "      <th>2</th>\n",
              "      <td>1325318040</td>\n",
              "      <td>NaN</td>\n",
              "      <td>NaN</td>\n",
              "      <td>NaN</td>\n",
              "      <td>NaN</td>\n",
              "      <td>NaN</td>\n",
              "      <td>NaN</td>\n",
              "      <td>NaN</td>\n",
              "    </tr>\n",
              "    <tr>\n",
              "      <th>3</th>\n",
              "      <td>1325318100</td>\n",
              "      <td>NaN</td>\n",
              "      <td>NaN</td>\n",
              "      <td>NaN</td>\n",
              "      <td>NaN</td>\n",
              "      <td>NaN</td>\n",
              "      <td>NaN</td>\n",
              "      <td>NaN</td>\n",
              "    </tr>\n",
              "    <tr>\n",
              "      <th>4</th>\n",
              "      <td>1325318160</td>\n",
              "      <td>NaN</td>\n",
              "      <td>NaN</td>\n",
              "      <td>NaN</td>\n",
              "      <td>NaN</td>\n",
              "      <td>NaN</td>\n",
              "      <td>NaN</td>\n",
              "      <td>NaN</td>\n",
              "    </tr>\n",
              "    <tr>\n",
              "      <th>...</th>\n",
              "      <td>...</td>\n",
              "      <td>...</td>\n",
              "      <td>...</td>\n",
              "      <td>...</td>\n",
              "      <td>...</td>\n",
              "      <td>...</td>\n",
              "      <td>...</td>\n",
              "      <td>...</td>\n",
              "    </tr>\n",
              "    <tr>\n",
              "      <th>4857372</th>\n",
              "      <td>1617148560</td>\n",
              "      <td>58714.31</td>\n",
              "      <td>58714.31</td>\n",
              "      <td>58686.00</td>\n",
              "      <td>58686.00</td>\n",
              "      <td>1.384487</td>\n",
              "      <td>81259.372187</td>\n",
              "      <td>58692.753339</td>\n",
              "    </tr>\n",
              "    <tr>\n",
              "      <th>4857373</th>\n",
              "      <td>1617148620</td>\n",
              "      <td>58683.97</td>\n",
              "      <td>58693.43</td>\n",
              "      <td>58683.97</td>\n",
              "      <td>58685.81</td>\n",
              "      <td>7.294848</td>\n",
              "      <td>428158.146640</td>\n",
              "      <td>58693.226508</td>\n",
              "    </tr>\n",
              "    <tr>\n",
              "      <th>4857374</th>\n",
              "      <td>1617148680</td>\n",
              "      <td>58693.43</td>\n",
              "      <td>58723.84</td>\n",
              "      <td>58693.43</td>\n",
              "      <td>58723.84</td>\n",
              "      <td>1.705682</td>\n",
              "      <td>100117.070370</td>\n",
              "      <td>58696.198496</td>\n",
              "    </tr>\n",
              "    <tr>\n",
              "      <th>4857375</th>\n",
              "      <td>1617148740</td>\n",
              "      <td>58742.18</td>\n",
              "      <td>58770.38</td>\n",
              "      <td>58742.18</td>\n",
              "      <td>58760.59</td>\n",
              "      <td>0.720415</td>\n",
              "      <td>42332.958633</td>\n",
              "      <td>58761.866202</td>\n",
              "    </tr>\n",
              "    <tr>\n",
              "      <th>4857376</th>\n",
              "      <td>1617148800</td>\n",
              "      <td>58767.75</td>\n",
              "      <td>58778.18</td>\n",
              "      <td>58755.97</td>\n",
              "      <td>58778.18</td>\n",
              "      <td>2.712831</td>\n",
              "      <td>159417.751000</td>\n",
              "      <td>58764.349363</td>\n",
              "    </tr>\n",
              "  </tbody>\n",
              "</table>\n",
              "<p>4857377 rows × 8 columns</p>\n",
              "</div>"
            ],
            "text/plain": [
              "          Timestamp      Open  ...  Volume_(Currency)  Weighted_Price\n",
              "0        1325317920      4.39  ...           2.000000        4.390000\n",
              "1        1325317980       NaN  ...                NaN             NaN\n",
              "2        1325318040       NaN  ...                NaN             NaN\n",
              "3        1325318100       NaN  ...                NaN             NaN\n",
              "4        1325318160       NaN  ...                NaN             NaN\n",
              "...             ...       ...  ...                ...             ...\n",
              "4857372  1617148560  58714.31  ...       81259.372187    58692.753339\n",
              "4857373  1617148620  58683.97  ...      428158.146640    58693.226508\n",
              "4857374  1617148680  58693.43  ...      100117.070370    58696.198496\n",
              "4857375  1617148740  58742.18  ...       42332.958633    58761.866202\n",
              "4857376  1617148800  58767.75  ...      159417.751000    58764.349363\n",
              "\n",
              "[4857377 rows x 8 columns]"
            ]
          },
          "metadata": {
            "tags": []
          },
          "execution_count": 4
        }
      ]
    },
    {
      "cell_type": "markdown",
      "metadata": {
        "id": "WF62FumBty9H"
      },
      "source": [
        "# Pré-traitement des données"
      ]
    },
    {
      "cell_type": "markdown",
      "metadata": {
        "id": "x2oeGZgr1UUP"
      },
      "source": [
        "**1. Recherche des erreurs dans les données**"
      ]
    },
    {
      "cell_type": "markdown",
      "metadata": {
        "id": "C2d3HD1YwmIS"
      },
      "source": [
        "On commence par vérifier qu'il ne manque pas de dates. Pour cela, on vérifie qu'il y a bien 60 secondes entre deux Timestamp. Si on trouve un décalage non cohérent, on enregistre les informations dans une liste."
      ]
    },
    {
      "cell_type": "code",
      "metadata": {
        "id": "kCXSGY9Swltw"
      },
      "source": [
        "# Fonction permettant de vérifier si chaque intervalle est bien de 60s\n",
        "def recherche_erreur(fenetre):\n",
        "  if fenetre.values[1] - fenetre.values[0] != 60:\n",
        "    Timestamp_Errors.append(fenetre.values)\n",
        "  return 0\n",
        "\n",
        "# Définit une liste pour sauvegarder le résultat des recherches\n",
        "Timestamp_Errors = []\n",
        "\n",
        "# Applique la fonction sur une fenêtre glissante des données\n",
        "serie.Timestamp.rolling(2).apply(recherche_erreur)"
      ],
      "execution_count": null,
      "outputs": []
    },
    {
      "cell_type": "markdown",
      "metadata": {
        "id": "8l1fTgb_1O8b"
      },
      "source": [
        "On affiche les erreurs trouvées :"
      ]
    },
    {
      "cell_type": "code",
      "metadata": {
        "id": "FZERkJS40sHP"
      },
      "source": [
        "# Affiche les informations sur les erreurs trouvées\n",
        "\n",
        "for erreur in Timestamp_Errors:\n",
        "  print (pd.to_datetime(Timestamp_Errors[0],unit=\"s\"))\n",
        "  print((Timestamp_Errors[0][1] - Timestamp_Errors[0][0])/60 - 1)"
      ],
      "execution_count": null,
      "outputs": []
    },
    {
      "cell_type": "markdown",
      "metadata": {
        "id": "XHOSRv8_1aYa"
      },
      "source": [
        "On observe qu'il manque des données entre le 5 janvier 2015 à 9:12:00 et le 9 janvier 2015 à 21:05:00, soit 6472 données."
      ]
    },
    {
      "cell_type": "markdown",
      "metadata": {
        "id": "Tjbmho3h2nB7"
      },
      "source": [
        "Recherchons maintenant le nombre de données manquantes :"
      ]
    },
    {
      "cell_type": "code",
      "metadata": {
        "id": "NUzjd-qN2s-T",
        "colab": {
          "base_uri": "https://localhost:8080/"
        },
        "outputId": "0335f436-23cd-4856-cfa4-75cfbe31a16b"
      },
      "source": [
        "# Affichage du nombre total de données manquantes\n",
        "\n",
        "data_manquantes = sum(np.isnan(serie['Open']))\n",
        "print (\"Nombre de données manquantes : %s\" %data_manquantes)"
      ],
      "execution_count": null,
      "outputs": [
        {
          "output_type": "stream",
          "text": [
            "Nombre de données manquantes : 1243608\n"
          ],
          "name": "stdout"
        }
      ]
    },
    {
      "cell_type": "markdown",
      "metadata": {
        "id": "D41XKoGE3O60"
      },
      "source": [
        "On a donc en tout : 6472 + 1243608 = 1250080 données manquantes."
      ]
    },
    {
      "cell_type": "markdown",
      "metadata": {
        "id": "GefH2TaM3a0S"
      },
      "source": [
        "**2. Identification des erreurs**"
      ]
    },
    {
      "cell_type": "markdown",
      "metadata": {
        "id": "XivWgphwsdIm"
      },
      "source": [
        "On convertit maintenant les `Timestamp` (mesure de temps exprimé en seconde écoulé depuis le 01/01/1970 - 00:00:00 UTC) en format plus standard :"
      ]
    },
    {
      "cell_type": "code",
      "metadata": {
        "id": "HdLSr2IWSOnX",
        "colab": {
          "base_uri": "https://localhost:8080/",
          "height": 419
        },
        "outputId": "c3181bf5-a55d-442f-b879-4740e474805c"
      },
      "source": [
        "# Conversion des timestamp en date\n",
        "serie.Timestamp = pd.to_datetime(serie['Timestamp'], unit=\"s\")\n",
        "serie"
      ],
      "execution_count": null,
      "outputs": [
        {
          "output_type": "execute_result",
          "data": {
            "text/html": [
              "<div>\n",
              "<style scoped>\n",
              "    .dataframe tbody tr th:only-of-type {\n",
              "        vertical-align: middle;\n",
              "    }\n",
              "\n",
              "    .dataframe tbody tr th {\n",
              "        vertical-align: top;\n",
              "    }\n",
              "\n",
              "    .dataframe thead th {\n",
              "        text-align: right;\n",
              "    }\n",
              "</style>\n",
              "<table border=\"1\" class=\"dataframe\">\n",
              "  <thead>\n",
              "    <tr style=\"text-align: right;\">\n",
              "      <th></th>\n",
              "      <th>Timestamp</th>\n",
              "      <th>Open</th>\n",
              "      <th>High</th>\n",
              "      <th>Low</th>\n",
              "      <th>Close</th>\n",
              "      <th>Volume_(BTC)</th>\n",
              "      <th>Volume_(Currency)</th>\n",
              "      <th>Weighted_Price</th>\n",
              "    </tr>\n",
              "  </thead>\n",
              "  <tbody>\n",
              "    <tr>\n",
              "      <th>0</th>\n",
              "      <td>2011-12-31 07:52:00</td>\n",
              "      <td>4.39</td>\n",
              "      <td>4.39</td>\n",
              "      <td>4.39</td>\n",
              "      <td>4.39</td>\n",
              "      <td>0.455581</td>\n",
              "      <td>2.000000</td>\n",
              "      <td>4.390000</td>\n",
              "    </tr>\n",
              "    <tr>\n",
              "      <th>1</th>\n",
              "      <td>2011-12-31 07:53:00</td>\n",
              "      <td>NaN</td>\n",
              "      <td>NaN</td>\n",
              "      <td>NaN</td>\n",
              "      <td>NaN</td>\n",
              "      <td>NaN</td>\n",
              "      <td>NaN</td>\n",
              "      <td>NaN</td>\n",
              "    </tr>\n",
              "    <tr>\n",
              "      <th>2</th>\n",
              "      <td>2011-12-31 07:54:00</td>\n",
              "      <td>NaN</td>\n",
              "      <td>NaN</td>\n",
              "      <td>NaN</td>\n",
              "      <td>NaN</td>\n",
              "      <td>NaN</td>\n",
              "      <td>NaN</td>\n",
              "      <td>NaN</td>\n",
              "    </tr>\n",
              "    <tr>\n",
              "      <th>3</th>\n",
              "      <td>2011-12-31 07:55:00</td>\n",
              "      <td>NaN</td>\n",
              "      <td>NaN</td>\n",
              "      <td>NaN</td>\n",
              "      <td>NaN</td>\n",
              "      <td>NaN</td>\n",
              "      <td>NaN</td>\n",
              "      <td>NaN</td>\n",
              "    </tr>\n",
              "    <tr>\n",
              "      <th>4</th>\n",
              "      <td>2011-12-31 07:56:00</td>\n",
              "      <td>NaN</td>\n",
              "      <td>NaN</td>\n",
              "      <td>NaN</td>\n",
              "      <td>NaN</td>\n",
              "      <td>NaN</td>\n",
              "      <td>NaN</td>\n",
              "      <td>NaN</td>\n",
              "    </tr>\n",
              "    <tr>\n",
              "      <th>...</th>\n",
              "      <td>...</td>\n",
              "      <td>...</td>\n",
              "      <td>...</td>\n",
              "      <td>...</td>\n",
              "      <td>...</td>\n",
              "      <td>...</td>\n",
              "      <td>...</td>\n",
              "      <td>...</td>\n",
              "    </tr>\n",
              "    <tr>\n",
              "      <th>4857372</th>\n",
              "      <td>2021-03-30 23:56:00</td>\n",
              "      <td>58714.31</td>\n",
              "      <td>58714.31</td>\n",
              "      <td>58686.00</td>\n",
              "      <td>58686.00</td>\n",
              "      <td>1.384487</td>\n",
              "      <td>81259.372187</td>\n",
              "      <td>58692.753339</td>\n",
              "    </tr>\n",
              "    <tr>\n",
              "      <th>4857373</th>\n",
              "      <td>2021-03-30 23:57:00</td>\n",
              "      <td>58683.97</td>\n",
              "      <td>58693.43</td>\n",
              "      <td>58683.97</td>\n",
              "      <td>58685.81</td>\n",
              "      <td>7.294848</td>\n",
              "      <td>428158.146640</td>\n",
              "      <td>58693.226508</td>\n",
              "    </tr>\n",
              "    <tr>\n",
              "      <th>4857374</th>\n",
              "      <td>2021-03-30 23:58:00</td>\n",
              "      <td>58693.43</td>\n",
              "      <td>58723.84</td>\n",
              "      <td>58693.43</td>\n",
              "      <td>58723.84</td>\n",
              "      <td>1.705682</td>\n",
              "      <td>100117.070370</td>\n",
              "      <td>58696.198496</td>\n",
              "    </tr>\n",
              "    <tr>\n",
              "      <th>4857375</th>\n",
              "      <td>2021-03-30 23:59:00</td>\n",
              "      <td>58742.18</td>\n",
              "      <td>58770.38</td>\n",
              "      <td>58742.18</td>\n",
              "      <td>58760.59</td>\n",
              "      <td>0.720415</td>\n",
              "      <td>42332.958633</td>\n",
              "      <td>58761.866202</td>\n",
              "    </tr>\n",
              "    <tr>\n",
              "      <th>4857376</th>\n",
              "      <td>2021-03-31 00:00:00</td>\n",
              "      <td>58767.75</td>\n",
              "      <td>58778.18</td>\n",
              "      <td>58755.97</td>\n",
              "      <td>58778.18</td>\n",
              "      <td>2.712831</td>\n",
              "      <td>159417.751000</td>\n",
              "      <td>58764.349363</td>\n",
              "    </tr>\n",
              "  </tbody>\n",
              "</table>\n",
              "<p>4857377 rows × 8 columns</p>\n",
              "</div>"
            ],
            "text/plain": [
              "                  Timestamp      Open  ...  Volume_(Currency)  Weighted_Price\n",
              "0       2011-12-31 07:52:00      4.39  ...           2.000000        4.390000\n",
              "1       2011-12-31 07:53:00       NaN  ...                NaN             NaN\n",
              "2       2011-12-31 07:54:00       NaN  ...                NaN             NaN\n",
              "3       2011-12-31 07:55:00       NaN  ...                NaN             NaN\n",
              "4       2011-12-31 07:56:00       NaN  ...                NaN             NaN\n",
              "...                     ...       ...  ...                ...             ...\n",
              "4857372 2021-03-30 23:56:00  58714.31  ...       81259.372187    58692.753339\n",
              "4857373 2021-03-30 23:57:00  58683.97  ...      428158.146640    58693.226508\n",
              "4857374 2021-03-30 23:58:00  58693.43  ...      100117.070370    58696.198496\n",
              "4857375 2021-03-30 23:59:00  58742.18  ...       42332.958633    58761.866202\n",
              "4857376 2021-03-31 00:00:00  58767.75  ...      159417.751000    58764.349363\n",
              "\n",
              "[4857377 rows x 8 columns]"
            ]
          },
          "metadata": {
            "tags": []
          },
          "execution_count": 7
        }
      ]
    },
    {
      "cell_type": "markdown",
      "metadata": {
        "id": "cgHcZyd13gCa"
      },
      "source": [
        "On demande maintenant à échantillonner les données sur 60 secondes :"
      ]
    },
    {
      "cell_type": "code",
      "metadata": {
        "id": "DVNlzo9QWNmP",
        "colab": {
          "base_uri": "https://localhost:8080/",
          "height": 467
        },
        "outputId": "6666f480-ccb2-457c-da8e-95fe471b8073"
      },
      "source": [
        "# Echantillonnage de la série sur 1min\n",
        "serie_minute = serie.set_index('Timestamp').resample('60s').asfreq()\n",
        "\n",
        "# Récupère le nombre de données sans valeurs numériques\n",
        "data_manquantes = sum(np.isnan(serie_minute['Open']))\n",
        "\n",
        "# Affiche le nombre de données manquantes et la série sur 1min \n",
        "print (\"Nombre de données manquantes : %s\" %data_manquantes)\n",
        "serie_minute"
      ],
      "execution_count": null,
      "outputs": [
        {
          "output_type": "stream",
          "text": [
            "Nombre de données manquantes : 1250080\n"
          ],
          "name": "stdout"
        },
        {
          "output_type": "execute_result",
          "data": {
            "text/html": [
              "<div>\n",
              "<style scoped>\n",
              "    .dataframe tbody tr th:only-of-type {\n",
              "        vertical-align: middle;\n",
              "    }\n",
              "\n",
              "    .dataframe tbody tr th {\n",
              "        vertical-align: top;\n",
              "    }\n",
              "\n",
              "    .dataframe thead th {\n",
              "        text-align: right;\n",
              "    }\n",
              "</style>\n",
              "<table border=\"1\" class=\"dataframe\">\n",
              "  <thead>\n",
              "    <tr style=\"text-align: right;\">\n",
              "      <th></th>\n",
              "      <th>Open</th>\n",
              "      <th>High</th>\n",
              "      <th>Low</th>\n",
              "      <th>Close</th>\n",
              "      <th>Volume_(BTC)</th>\n",
              "      <th>Volume_(Currency)</th>\n",
              "      <th>Weighted_Price</th>\n",
              "    </tr>\n",
              "    <tr>\n",
              "      <th>Timestamp</th>\n",
              "      <th></th>\n",
              "      <th></th>\n",
              "      <th></th>\n",
              "      <th></th>\n",
              "      <th></th>\n",
              "      <th></th>\n",
              "      <th></th>\n",
              "    </tr>\n",
              "  </thead>\n",
              "  <tbody>\n",
              "    <tr>\n",
              "      <th>2011-12-31 07:52:00</th>\n",
              "      <td>4.39</td>\n",
              "      <td>4.39</td>\n",
              "      <td>4.39</td>\n",
              "      <td>4.39</td>\n",
              "      <td>0.455581</td>\n",
              "      <td>2.000000</td>\n",
              "      <td>4.390000</td>\n",
              "    </tr>\n",
              "    <tr>\n",
              "      <th>2011-12-31 07:53:00</th>\n",
              "      <td>NaN</td>\n",
              "      <td>NaN</td>\n",
              "      <td>NaN</td>\n",
              "      <td>NaN</td>\n",
              "      <td>NaN</td>\n",
              "      <td>NaN</td>\n",
              "      <td>NaN</td>\n",
              "    </tr>\n",
              "    <tr>\n",
              "      <th>2011-12-31 07:54:00</th>\n",
              "      <td>NaN</td>\n",
              "      <td>NaN</td>\n",
              "      <td>NaN</td>\n",
              "      <td>NaN</td>\n",
              "      <td>NaN</td>\n",
              "      <td>NaN</td>\n",
              "      <td>NaN</td>\n",
              "    </tr>\n",
              "    <tr>\n",
              "      <th>2011-12-31 07:55:00</th>\n",
              "      <td>NaN</td>\n",
              "      <td>NaN</td>\n",
              "      <td>NaN</td>\n",
              "      <td>NaN</td>\n",
              "      <td>NaN</td>\n",
              "      <td>NaN</td>\n",
              "      <td>NaN</td>\n",
              "    </tr>\n",
              "    <tr>\n",
              "      <th>2011-12-31 07:56:00</th>\n",
              "      <td>NaN</td>\n",
              "      <td>NaN</td>\n",
              "      <td>NaN</td>\n",
              "      <td>NaN</td>\n",
              "      <td>NaN</td>\n",
              "      <td>NaN</td>\n",
              "      <td>NaN</td>\n",
              "    </tr>\n",
              "    <tr>\n",
              "      <th>...</th>\n",
              "      <td>...</td>\n",
              "      <td>...</td>\n",
              "      <td>...</td>\n",
              "      <td>...</td>\n",
              "      <td>...</td>\n",
              "      <td>...</td>\n",
              "      <td>...</td>\n",
              "    </tr>\n",
              "    <tr>\n",
              "      <th>2021-03-30 23:56:00</th>\n",
              "      <td>58714.31</td>\n",
              "      <td>58714.31</td>\n",
              "      <td>58686.00</td>\n",
              "      <td>58686.00</td>\n",
              "      <td>1.384487</td>\n",
              "      <td>81259.372187</td>\n",
              "      <td>58692.753339</td>\n",
              "    </tr>\n",
              "    <tr>\n",
              "      <th>2021-03-30 23:57:00</th>\n",
              "      <td>58683.97</td>\n",
              "      <td>58693.43</td>\n",
              "      <td>58683.97</td>\n",
              "      <td>58685.81</td>\n",
              "      <td>7.294848</td>\n",
              "      <td>428158.146640</td>\n",
              "      <td>58693.226508</td>\n",
              "    </tr>\n",
              "    <tr>\n",
              "      <th>2021-03-30 23:58:00</th>\n",
              "      <td>58693.43</td>\n",
              "      <td>58723.84</td>\n",
              "      <td>58693.43</td>\n",
              "      <td>58723.84</td>\n",
              "      <td>1.705682</td>\n",
              "      <td>100117.070370</td>\n",
              "      <td>58696.198496</td>\n",
              "    </tr>\n",
              "    <tr>\n",
              "      <th>2021-03-30 23:59:00</th>\n",
              "      <td>58742.18</td>\n",
              "      <td>58770.38</td>\n",
              "      <td>58742.18</td>\n",
              "      <td>58760.59</td>\n",
              "      <td>0.720415</td>\n",
              "      <td>42332.958633</td>\n",
              "      <td>58761.866202</td>\n",
              "    </tr>\n",
              "    <tr>\n",
              "      <th>2021-03-31 00:00:00</th>\n",
              "      <td>58767.75</td>\n",
              "      <td>58778.18</td>\n",
              "      <td>58755.97</td>\n",
              "      <td>58778.18</td>\n",
              "      <td>2.712831</td>\n",
              "      <td>159417.751000</td>\n",
              "      <td>58764.349363</td>\n",
              "    </tr>\n",
              "  </tbody>\n",
              "</table>\n",
              "<p>4863849 rows × 7 columns</p>\n",
              "</div>"
            ],
            "text/plain": [
              "                         Open      High  ...  Volume_(Currency)  Weighted_Price\n",
              "Timestamp                                ...                                   \n",
              "2011-12-31 07:52:00      4.39      4.39  ...           2.000000        4.390000\n",
              "2011-12-31 07:53:00       NaN       NaN  ...                NaN             NaN\n",
              "2011-12-31 07:54:00       NaN       NaN  ...                NaN             NaN\n",
              "2011-12-31 07:55:00       NaN       NaN  ...                NaN             NaN\n",
              "2011-12-31 07:56:00       NaN       NaN  ...                NaN             NaN\n",
              "...                       ...       ...  ...                ...             ...\n",
              "2021-03-30 23:56:00  58714.31  58714.31  ...       81259.372187    58692.753339\n",
              "2021-03-30 23:57:00  58683.97  58693.43  ...      428158.146640    58693.226508\n",
              "2021-03-30 23:58:00  58693.43  58723.84  ...      100117.070370    58696.198496\n",
              "2021-03-30 23:59:00  58742.18  58770.38  ...       42332.958633    58761.866202\n",
              "2021-03-31 00:00:00  58767.75  58778.18  ...      159417.751000    58764.349363\n",
              "\n",
              "[4863849 rows x 7 columns]"
            ]
          },
          "metadata": {
            "tags": []
          },
          "execution_count": 8
        }
      ]
    },
    {
      "cell_type": "markdown",
      "metadata": {
        "id": "LqFOnDlU3tey"
      },
      "source": [
        "On obtient en tout 4863849 données après échantillonnage, soit (4863849-4857377) =  6472 données supplémentaires. Ceci est cohérent avec ce qu'on avait trouvé avant. Il manque 1250080 données. "
      ]
    },
    {
      "cell_type": "markdown",
      "metadata": {
        "id": "Tkbi7uuBnUD3"
      },
      "source": [
        "**3. Correction des données**"
      ]
    },
    {
      "cell_type": "markdown",
      "metadata": {
        "id": "8IQuSqAknduG"
      },
      "source": [
        "Pour corriger les données, on va tout simplement utiliser la fonction [fillna](https://pandas.pydata.org/docs/reference/api/pandas.Series.fillna.html) de Pandas avec la fonctionnalité de type `backfill` :"
      ]
    },
    {
      "cell_type": "code",
      "metadata": {
        "id": "p2Oav6gin5aP"
      },
      "source": [
        "# Applique la fonction de remplissage automatique des données non numérique avec l'option backfill\n",
        "serie_minute = serie_minute.interpolate(method=\"slinear\")\n",
        "serie_minute = serie_minute.fillna(method=\"backfill\")"
      ],
      "execution_count": null,
      "outputs": []
    },
    {
      "cell_type": "code",
      "metadata": {
        "id": "QfOvQ-BKn80v",
        "colab": {
          "base_uri": "https://localhost:8080/",
          "height": 467
        },
        "outputId": "4a3ba5db-c072-49da-dac6-a312a4ef1245"
      },
      "source": [
        "# Récupère le nombre de données non numériques et affiche les informations\n",
        "\n",
        "data_manquantes = sum(np.isnan(serie_minute['Open']))\n",
        "print (\"Nombre de données manquantes : %s\" %data_manquantes)\n",
        "serie_minute"
      ],
      "execution_count": null,
      "outputs": [
        {
          "output_type": "stream",
          "text": [
            "Nombre de données manquantes : 0\n"
          ],
          "name": "stdout"
        },
        {
          "output_type": "execute_result",
          "data": {
            "text/html": [
              "<div>\n",
              "<style scoped>\n",
              "    .dataframe tbody tr th:only-of-type {\n",
              "        vertical-align: middle;\n",
              "    }\n",
              "\n",
              "    .dataframe tbody tr th {\n",
              "        vertical-align: top;\n",
              "    }\n",
              "\n",
              "    .dataframe thead th {\n",
              "        text-align: right;\n",
              "    }\n",
              "</style>\n",
              "<table border=\"1\" class=\"dataframe\">\n",
              "  <thead>\n",
              "    <tr style=\"text-align: right;\">\n",
              "      <th></th>\n",
              "      <th>Open</th>\n",
              "      <th>High</th>\n",
              "      <th>Low</th>\n",
              "      <th>Close</th>\n",
              "      <th>Volume_(BTC)</th>\n",
              "      <th>Volume_(Currency)</th>\n",
              "      <th>Weighted_Price</th>\n",
              "    </tr>\n",
              "    <tr>\n",
              "      <th>Timestamp</th>\n",
              "      <th></th>\n",
              "      <th></th>\n",
              "      <th></th>\n",
              "      <th></th>\n",
              "      <th></th>\n",
              "      <th></th>\n",
              "      <th></th>\n",
              "    </tr>\n",
              "  </thead>\n",
              "  <tbody>\n",
              "    <tr>\n",
              "      <th>2011-12-31 07:52:00</th>\n",
              "      <td>4.39</td>\n",
              "      <td>4.39</td>\n",
              "      <td>4.39</td>\n",
              "      <td>4.39</td>\n",
              "      <td>0.455581</td>\n",
              "      <td>2.000000</td>\n",
              "      <td>4.390000</td>\n",
              "    </tr>\n",
              "    <tr>\n",
              "      <th>2011-12-31 07:53:00</th>\n",
              "      <td>4.39</td>\n",
              "      <td>4.39</td>\n",
              "      <td>4.39</td>\n",
              "      <td>4.39</td>\n",
              "      <td>0.555046</td>\n",
              "      <td>2.436653</td>\n",
              "      <td>4.390000</td>\n",
              "    </tr>\n",
              "    <tr>\n",
              "      <th>2011-12-31 07:54:00</th>\n",
              "      <td>4.39</td>\n",
              "      <td>4.39</td>\n",
              "      <td>4.39</td>\n",
              "      <td>4.39</td>\n",
              "      <td>0.654511</td>\n",
              "      <td>2.873305</td>\n",
              "      <td>4.390000</td>\n",
              "    </tr>\n",
              "    <tr>\n",
              "      <th>2011-12-31 07:55:00</th>\n",
              "      <td>4.39</td>\n",
              "      <td>4.39</td>\n",
              "      <td>4.39</td>\n",
              "      <td>4.39</td>\n",
              "      <td>0.753977</td>\n",
              "      <td>3.309958</td>\n",
              "      <td>4.390000</td>\n",
              "    </tr>\n",
              "    <tr>\n",
              "      <th>2011-12-31 07:56:00</th>\n",
              "      <td>4.39</td>\n",
              "      <td>4.39</td>\n",
              "      <td>4.39</td>\n",
              "      <td>4.39</td>\n",
              "      <td>0.853442</td>\n",
              "      <td>3.746611</td>\n",
              "      <td>4.390000</td>\n",
              "    </tr>\n",
              "    <tr>\n",
              "      <th>...</th>\n",
              "      <td>...</td>\n",
              "      <td>...</td>\n",
              "      <td>...</td>\n",
              "      <td>...</td>\n",
              "      <td>...</td>\n",
              "      <td>...</td>\n",
              "      <td>...</td>\n",
              "    </tr>\n",
              "    <tr>\n",
              "      <th>2021-03-30 23:56:00</th>\n",
              "      <td>58714.31</td>\n",
              "      <td>58714.31</td>\n",
              "      <td>58686.00</td>\n",
              "      <td>58686.00</td>\n",
              "      <td>1.384487</td>\n",
              "      <td>81259.372187</td>\n",
              "      <td>58692.753339</td>\n",
              "    </tr>\n",
              "    <tr>\n",
              "      <th>2021-03-30 23:57:00</th>\n",
              "      <td>58683.97</td>\n",
              "      <td>58693.43</td>\n",
              "      <td>58683.97</td>\n",
              "      <td>58685.81</td>\n",
              "      <td>7.294848</td>\n",
              "      <td>428158.146640</td>\n",
              "      <td>58693.226508</td>\n",
              "    </tr>\n",
              "    <tr>\n",
              "      <th>2021-03-30 23:58:00</th>\n",
              "      <td>58693.43</td>\n",
              "      <td>58723.84</td>\n",
              "      <td>58693.43</td>\n",
              "      <td>58723.84</td>\n",
              "      <td>1.705682</td>\n",
              "      <td>100117.070370</td>\n",
              "      <td>58696.198496</td>\n",
              "    </tr>\n",
              "    <tr>\n",
              "      <th>2021-03-30 23:59:00</th>\n",
              "      <td>58742.18</td>\n",
              "      <td>58770.38</td>\n",
              "      <td>58742.18</td>\n",
              "      <td>58760.59</td>\n",
              "      <td>0.720415</td>\n",
              "      <td>42332.958633</td>\n",
              "      <td>58761.866202</td>\n",
              "    </tr>\n",
              "    <tr>\n",
              "      <th>2021-03-31 00:00:00</th>\n",
              "      <td>58767.75</td>\n",
              "      <td>58778.18</td>\n",
              "      <td>58755.97</td>\n",
              "      <td>58778.18</td>\n",
              "      <td>2.712831</td>\n",
              "      <td>159417.751000</td>\n",
              "      <td>58764.349363</td>\n",
              "    </tr>\n",
              "  </tbody>\n",
              "</table>\n",
              "<p>4863849 rows × 7 columns</p>\n",
              "</div>"
            ],
            "text/plain": [
              "                         Open      High  ...  Volume_(Currency)  Weighted_Price\n",
              "Timestamp                                ...                                   \n",
              "2011-12-31 07:52:00      4.39      4.39  ...           2.000000        4.390000\n",
              "2011-12-31 07:53:00      4.39      4.39  ...           2.436653        4.390000\n",
              "2011-12-31 07:54:00      4.39      4.39  ...           2.873305        4.390000\n",
              "2011-12-31 07:55:00      4.39      4.39  ...           3.309958        4.390000\n",
              "2011-12-31 07:56:00      4.39      4.39  ...           3.746611        4.390000\n",
              "...                       ...       ...  ...                ...             ...\n",
              "2021-03-30 23:56:00  58714.31  58714.31  ...       81259.372187    58692.753339\n",
              "2021-03-30 23:57:00  58683.97  58693.43  ...      428158.146640    58693.226508\n",
              "2021-03-30 23:58:00  58693.43  58723.84  ...      100117.070370    58696.198496\n",
              "2021-03-30 23:59:00  58742.18  58770.38  ...       42332.958633    58761.866202\n",
              "2021-03-31 00:00:00  58767.75  58778.18  ...      159417.751000    58764.349363\n",
              "\n",
              "[4863849 rows x 7 columns]"
            ]
          },
          "metadata": {
            "tags": []
          },
          "execution_count": 10
        }
      ]
    },
    {
      "cell_type": "markdown",
      "metadata": {
        "id": "v05rWWccJI26"
      },
      "source": [
        "**4. Affichage des données**"
      ]
    },
    {
      "cell_type": "code",
      "metadata": {
        "id": "T1QKMBThNQni"
      },
      "source": [
        "# Affiche la série\n",
        "plt.figure(figsize=(15,5))\n",
        "plt.plot(serie_minute.index, serie_minute.Open)\n",
        "plt.title(\"Evolution du prix du BTC\")"
      ],
      "execution_count": null,
      "outputs": []
    },
    {
      "cell_type": "markdown",
      "metadata": {
        "id": "zU7u1mA1E6jk"
      },
      "source": [
        "# Préparation des données"
      ]
    },
    {
      "cell_type": "markdown",
      "metadata": {
        "id": "UhIs2GS7vu8k"
      },
      "source": [
        "Nous allons réaliser des modélisations sur la série journalière, et pour une période allant du 1er avril 2013 au 31 mars 2021."
      ]
    },
    {
      "cell_type": "markdown",
      "metadata": {
        "id": "jeKrafzHv9gd"
      },
      "source": [
        "**1. Création de la série horaire pour la modélisation globale**"
      ]
    },
    {
      "cell_type": "markdown",
      "metadata": {
        "id": "ZUlNO0pswBpr"
      },
      "source": [
        "On va réaliser des prédictions à l'aide d'une série à fréquence journalière. On commence par tenter d'estimer les données manquantes à l'aide d'une interpolation linéaire à l'aide de la fonction [interpolate](https://pandas.pydata.org/docs/reference/api/pandas.Series.interpolate.html#pandas.Series.interpolate) de Pandas, puis on complète avec la méthode `backfill` si nécessaire."
      ]
    },
    {
      "cell_type": "code",
      "metadata": {
        "id": "ir4BkaUtuiXX",
        "colab": {
          "base_uri": "https://localhost:8080/",
          "height": 467
        },
        "outputId": "b4467f9e-479e-4d98-d0ed-4601dd91c163"
      },
      "source": [
        "# Echantillonne la série sur 1 heure\n",
        "serie_heure = serie.set_index('Timestamp').resample('1H').asfreq()\n",
        "\n",
        "# Remplissage des données non numériques par interpolation linéraire\n",
        "serie_heure = serie_heure.interpolate(method=\"slinear\")\n",
        "\n",
        "# Remplissage des données non numériques restantes par backfill\n",
        "serie_heure = serie_heure.fillna(method=\"backfill\")\n",
        "\n",
        "# Affiche les informations\n",
        "data_manquantes = sum(np.isnan(serie_heure['Open']))\n",
        "print (\"Nombre de données manquantes : %s\" %data_manquantes)\n",
        "serie_heure"
      ],
      "execution_count": null,
      "outputs": [
        {
          "output_type": "stream",
          "text": [
            "Nombre de données manquantes : 0\n"
          ],
          "name": "stdout"
        },
        {
          "output_type": "execute_result",
          "data": {
            "text/html": [
              "<div>\n",
              "<style scoped>\n",
              "    .dataframe tbody tr th:only-of-type {\n",
              "        vertical-align: middle;\n",
              "    }\n",
              "\n",
              "    .dataframe tbody tr th {\n",
              "        vertical-align: top;\n",
              "    }\n",
              "\n",
              "    .dataframe thead th {\n",
              "        text-align: right;\n",
              "    }\n",
              "</style>\n",
              "<table border=\"1\" class=\"dataframe\">\n",
              "  <thead>\n",
              "    <tr style=\"text-align: right;\">\n",
              "      <th></th>\n",
              "      <th>Open</th>\n",
              "      <th>High</th>\n",
              "      <th>Low</th>\n",
              "      <th>Close</th>\n",
              "      <th>Volume_(BTC)</th>\n",
              "      <th>Volume_(Currency)</th>\n",
              "      <th>Weighted_Price</th>\n",
              "    </tr>\n",
              "    <tr>\n",
              "      <th>Timestamp</th>\n",
              "      <th></th>\n",
              "      <th></th>\n",
              "      <th></th>\n",
              "      <th></th>\n",
              "      <th></th>\n",
              "      <th></th>\n",
              "      <th></th>\n",
              "    </tr>\n",
              "  </thead>\n",
              "  <tbody>\n",
              "    <tr>\n",
              "      <th>2011-12-31 07:00:00</th>\n",
              "      <td>4.58</td>\n",
              "      <td>4.58</td>\n",
              "      <td>4.58</td>\n",
              "      <td>4.58</td>\n",
              "      <td>9.000000</td>\n",
              "      <td>41.220000</td>\n",
              "      <td>4.580000</td>\n",
              "    </tr>\n",
              "    <tr>\n",
              "      <th>2011-12-31 08:00:00</th>\n",
              "      <td>4.58</td>\n",
              "      <td>4.58</td>\n",
              "      <td>4.58</td>\n",
              "      <td>4.58</td>\n",
              "      <td>9.000000</td>\n",
              "      <td>41.220000</td>\n",
              "      <td>4.580000</td>\n",
              "    </tr>\n",
              "    <tr>\n",
              "      <th>2011-12-31 09:00:00</th>\n",
              "      <td>4.58</td>\n",
              "      <td>4.58</td>\n",
              "      <td>4.58</td>\n",
              "      <td>4.58</td>\n",
              "      <td>9.000000</td>\n",
              "      <td>41.220000</td>\n",
              "      <td>4.580000</td>\n",
              "    </tr>\n",
              "    <tr>\n",
              "      <th>2011-12-31 10:00:00</th>\n",
              "      <td>4.58</td>\n",
              "      <td>4.58</td>\n",
              "      <td>4.58</td>\n",
              "      <td>4.58</td>\n",
              "      <td>9.000000</td>\n",
              "      <td>41.220000</td>\n",
              "      <td>4.580000</td>\n",
              "    </tr>\n",
              "    <tr>\n",
              "      <th>2011-12-31 11:00:00</th>\n",
              "      <td>4.58</td>\n",
              "      <td>4.58</td>\n",
              "      <td>4.58</td>\n",
              "      <td>4.58</td>\n",
              "      <td>9.000000</td>\n",
              "      <td>41.220000</td>\n",
              "      <td>4.580000</td>\n",
              "    </tr>\n",
              "    <tr>\n",
              "      <th>...</th>\n",
              "      <td>...</td>\n",
              "      <td>...</td>\n",
              "      <td>...</td>\n",
              "      <td>...</td>\n",
              "      <td>...</td>\n",
              "      <td>...</td>\n",
              "      <td>...</td>\n",
              "    </tr>\n",
              "    <tr>\n",
              "      <th>2021-03-30 20:00:00</th>\n",
              "      <td>59118.91</td>\n",
              "      <td>59135.00</td>\n",
              "      <td>59023.96</td>\n",
              "      <td>59037.79</td>\n",
              "      <td>2.684344</td>\n",
              "      <td>158619.612840</td>\n",
              "      <td>59090.651748</td>\n",
              "    </tr>\n",
              "    <tr>\n",
              "      <th>2021-03-30 21:00:00</th>\n",
              "      <td>58644.04</td>\n",
              "      <td>58670.91</td>\n",
              "      <td>58591.06</td>\n",
              "      <td>58591.06</td>\n",
              "      <td>9.979587</td>\n",
              "      <td>585005.680240</td>\n",
              "      <td>58620.228970</td>\n",
              "    </tr>\n",
              "    <tr>\n",
              "      <th>2021-03-30 22:00:00</th>\n",
              "      <td>58758.44</td>\n",
              "      <td>58762.56</td>\n",
              "      <td>58758.44</td>\n",
              "      <td>58762.56</td>\n",
              "      <td>0.573484</td>\n",
              "      <td>33699.187441</td>\n",
              "      <td>58762.179612</td>\n",
              "    </tr>\n",
              "    <tr>\n",
              "      <th>2021-03-30 23:00:00</th>\n",
              "      <td>58699.43</td>\n",
              "      <td>58699.43</td>\n",
              "      <td>58643.16</td>\n",
              "      <td>58657.09</td>\n",
              "      <td>0.281702</td>\n",
              "      <td>16521.438155</td>\n",
              "      <td>58648.607194</td>\n",
              "    </tr>\n",
              "    <tr>\n",
              "      <th>2021-03-31 00:00:00</th>\n",
              "      <td>58767.75</td>\n",
              "      <td>58778.18</td>\n",
              "      <td>58755.97</td>\n",
              "      <td>58778.18</td>\n",
              "      <td>2.712831</td>\n",
              "      <td>159417.751000</td>\n",
              "      <td>58764.349363</td>\n",
              "    </tr>\n",
              "  </tbody>\n",
              "</table>\n",
              "<p>81066 rows × 7 columns</p>\n",
              "</div>"
            ],
            "text/plain": [
              "                         Open      High  ...  Volume_(Currency)  Weighted_Price\n",
              "Timestamp                                ...                                   \n",
              "2011-12-31 07:00:00      4.58      4.58  ...          41.220000        4.580000\n",
              "2011-12-31 08:00:00      4.58      4.58  ...          41.220000        4.580000\n",
              "2011-12-31 09:00:00      4.58      4.58  ...          41.220000        4.580000\n",
              "2011-12-31 10:00:00      4.58      4.58  ...          41.220000        4.580000\n",
              "2011-12-31 11:00:00      4.58      4.58  ...          41.220000        4.580000\n",
              "...                       ...       ...  ...                ...             ...\n",
              "2021-03-30 20:00:00  59118.91  59135.00  ...      158619.612840    59090.651748\n",
              "2021-03-30 21:00:00  58644.04  58670.91  ...      585005.680240    58620.228970\n",
              "2021-03-30 22:00:00  58758.44  58762.56  ...       33699.187441    58762.179612\n",
              "2021-03-30 23:00:00  58699.43  58699.43  ...       16521.438155    58648.607194\n",
              "2021-03-31 00:00:00  58767.75  58778.18  ...      159417.751000    58764.349363\n",
              "\n",
              "[81066 rows x 7 columns]"
            ]
          },
          "metadata": {
            "tags": []
          },
          "execution_count": 11
        }
      ]
    },
    {
      "cell_type": "code",
      "metadata": {
        "id": "epIrgQTvca6p"
      },
      "source": [
        "# Affiche la série\n",
        "plt.figure(figsize=(15,5))\n",
        "plt.plot(serie_heure.index, serie_heure.Open)\n",
        "plt.title(\"Evolution du prix du BTC\")"
      ],
      "execution_count": null,
      "outputs": []
    },
    {
      "cell_type": "markdown",
      "metadata": {
        "id": "Hsbej4XvckFD"
      },
      "source": [
        "On construit une nouvelle série avec les dates retenues pour le début et la fin :"
      ]
    },
    {
      "cell_type": "code",
      "metadata": {
        "id": "WMiDRe1ZcqMR",
        "colab": {
          "base_uri": "https://localhost:8080/",
          "height": 450
        },
        "outputId": "ee64b506-53cc-408c-d19a-f2a20e631d5b"
      },
      "source": [
        "# Définition des dates de début et de fin\n",
        "\n",
        "date_debut = \"2013-04-01 00:00:00\"\n",
        "date_fin = \"2021-03-31 00:00:00\"\n",
        "\n",
        "serie_etude = serie_heure.loc[date_debut:date_fin].copy()\n",
        "serie_etude"
      ],
      "execution_count": null,
      "outputs": [
        {
          "output_type": "execute_result",
          "data": {
            "text/html": [
              "<div>\n",
              "<style scoped>\n",
              "    .dataframe tbody tr th:only-of-type {\n",
              "        vertical-align: middle;\n",
              "    }\n",
              "\n",
              "    .dataframe tbody tr th {\n",
              "        vertical-align: top;\n",
              "    }\n",
              "\n",
              "    .dataframe thead th {\n",
              "        text-align: right;\n",
              "    }\n",
              "</style>\n",
              "<table border=\"1\" class=\"dataframe\">\n",
              "  <thead>\n",
              "    <tr style=\"text-align: right;\">\n",
              "      <th></th>\n",
              "      <th>Open</th>\n",
              "      <th>High</th>\n",
              "      <th>Low</th>\n",
              "      <th>Close</th>\n",
              "      <th>Volume_(BTC)</th>\n",
              "      <th>Volume_(Currency)</th>\n",
              "      <th>Weighted_Price</th>\n",
              "    </tr>\n",
              "    <tr>\n",
              "      <th>Timestamp</th>\n",
              "      <th></th>\n",
              "      <th></th>\n",
              "      <th></th>\n",
              "      <th></th>\n",
              "      <th></th>\n",
              "      <th></th>\n",
              "      <th></th>\n",
              "    </tr>\n",
              "  </thead>\n",
              "  <tbody>\n",
              "    <tr>\n",
              "      <th>2013-04-01 00:00:00</th>\n",
              "      <td>95.373684</td>\n",
              "      <td>95.373684</td>\n",
              "      <td>95.373684</td>\n",
              "      <td>95.373684</td>\n",
              "      <td>2.154868</td>\n",
              "      <td>206.698263</td>\n",
              "      <td>95.373684</td>\n",
              "    </tr>\n",
              "    <tr>\n",
              "      <th>2013-04-01 01:00:00</th>\n",
              "      <td>95.463158</td>\n",
              "      <td>95.463158</td>\n",
              "      <td>95.463158</td>\n",
              "      <td>95.463158</td>\n",
              "      <td>2.311941</td>\n",
              "      <td>221.801368</td>\n",
              "      <td>95.463158</td>\n",
              "    </tr>\n",
              "    <tr>\n",
              "      <th>2013-04-01 02:00:00</th>\n",
              "      <td>95.552632</td>\n",
              "      <td>95.552632</td>\n",
              "      <td>95.552632</td>\n",
              "      <td>95.552632</td>\n",
              "      <td>2.469013</td>\n",
              "      <td>236.904474</td>\n",
              "      <td>95.552632</td>\n",
              "    </tr>\n",
              "    <tr>\n",
              "      <th>2013-04-01 03:00:00</th>\n",
              "      <td>95.642105</td>\n",
              "      <td>95.642105</td>\n",
              "      <td>95.642105</td>\n",
              "      <td>95.642105</td>\n",
              "      <td>2.626086</td>\n",
              "      <td>252.007579</td>\n",
              "      <td>95.642105</td>\n",
              "    </tr>\n",
              "    <tr>\n",
              "      <th>2013-04-01 04:00:00</th>\n",
              "      <td>95.731579</td>\n",
              "      <td>95.731579</td>\n",
              "      <td>95.731579</td>\n",
              "      <td>95.731579</td>\n",
              "      <td>2.783158</td>\n",
              "      <td>267.110684</td>\n",
              "      <td>95.731579</td>\n",
              "    </tr>\n",
              "    <tr>\n",
              "      <th>...</th>\n",
              "      <td>...</td>\n",
              "      <td>...</td>\n",
              "      <td>...</td>\n",
              "      <td>...</td>\n",
              "      <td>...</td>\n",
              "      <td>...</td>\n",
              "      <td>...</td>\n",
              "    </tr>\n",
              "    <tr>\n",
              "      <th>2021-03-30 20:00:00</th>\n",
              "      <td>59118.910000</td>\n",
              "      <td>59135.000000</td>\n",
              "      <td>59023.960000</td>\n",
              "      <td>59037.790000</td>\n",
              "      <td>2.684344</td>\n",
              "      <td>158619.612840</td>\n",
              "      <td>59090.651748</td>\n",
              "    </tr>\n",
              "    <tr>\n",
              "      <th>2021-03-30 21:00:00</th>\n",
              "      <td>58644.040000</td>\n",
              "      <td>58670.910000</td>\n",
              "      <td>58591.060000</td>\n",
              "      <td>58591.060000</td>\n",
              "      <td>9.979587</td>\n",
              "      <td>585005.680240</td>\n",
              "      <td>58620.228970</td>\n",
              "    </tr>\n",
              "    <tr>\n",
              "      <th>2021-03-30 22:00:00</th>\n",
              "      <td>58758.440000</td>\n",
              "      <td>58762.560000</td>\n",
              "      <td>58758.440000</td>\n",
              "      <td>58762.560000</td>\n",
              "      <td>0.573484</td>\n",
              "      <td>33699.187441</td>\n",
              "      <td>58762.179612</td>\n",
              "    </tr>\n",
              "    <tr>\n",
              "      <th>2021-03-30 23:00:00</th>\n",
              "      <td>58699.430000</td>\n",
              "      <td>58699.430000</td>\n",
              "      <td>58643.160000</td>\n",
              "      <td>58657.090000</td>\n",
              "      <td>0.281702</td>\n",
              "      <td>16521.438155</td>\n",
              "      <td>58648.607194</td>\n",
              "    </tr>\n",
              "    <tr>\n",
              "      <th>2021-03-31 00:00:00</th>\n",
              "      <td>58767.750000</td>\n",
              "      <td>58778.180000</td>\n",
              "      <td>58755.970000</td>\n",
              "      <td>58778.180000</td>\n",
              "      <td>2.712831</td>\n",
              "      <td>159417.751000</td>\n",
              "      <td>58764.349363</td>\n",
              "    </tr>\n",
              "  </tbody>\n",
              "</table>\n",
              "<p>70105 rows × 7 columns</p>\n",
              "</div>"
            ],
            "text/plain": [
              "                             Open  ...  Weighted_Price\n",
              "Timestamp                          ...                \n",
              "2013-04-01 00:00:00     95.373684  ...       95.373684\n",
              "2013-04-01 01:00:00     95.463158  ...       95.463158\n",
              "2013-04-01 02:00:00     95.552632  ...       95.552632\n",
              "2013-04-01 03:00:00     95.642105  ...       95.642105\n",
              "2013-04-01 04:00:00     95.731579  ...       95.731579\n",
              "...                           ...  ...             ...\n",
              "2021-03-30 20:00:00  59118.910000  ...    59090.651748\n",
              "2021-03-30 21:00:00  58644.040000  ...    58620.228970\n",
              "2021-03-30 22:00:00  58758.440000  ...    58762.179612\n",
              "2021-03-30 23:00:00  58699.430000  ...    58648.607194\n",
              "2021-03-31 00:00:00  58767.750000  ...    58764.349363\n",
              "\n",
              "[70105 rows x 7 columns]"
            ]
          },
          "metadata": {
            "tags": []
          },
          "execution_count": 12
        }
      ]
    },
    {
      "cell_type": "code",
      "metadata": {
        "id": "MUD1yl1wxkla",
        "colab": {
          "base_uri": "https://localhost:8080/",
          "height": 450
        },
        "outputId": "93022374-0edb-47c4-ca99-19ea5971e24d"
      },
      "source": [
        "serie_etude['x'] = np.linspace(0,serie_etude.index.size-1,serie_etude.index.size)\n",
        "serie_etude"
      ],
      "execution_count": null,
      "outputs": [
        {
          "output_type": "execute_result",
          "data": {
            "text/html": [
              "<div>\n",
              "<style scoped>\n",
              "    .dataframe tbody tr th:only-of-type {\n",
              "        vertical-align: middle;\n",
              "    }\n",
              "\n",
              "    .dataframe tbody tr th {\n",
              "        vertical-align: top;\n",
              "    }\n",
              "\n",
              "    .dataframe thead th {\n",
              "        text-align: right;\n",
              "    }\n",
              "</style>\n",
              "<table border=\"1\" class=\"dataframe\">\n",
              "  <thead>\n",
              "    <tr style=\"text-align: right;\">\n",
              "      <th></th>\n",
              "      <th>Open</th>\n",
              "      <th>High</th>\n",
              "      <th>Low</th>\n",
              "      <th>Close</th>\n",
              "      <th>Volume_(BTC)</th>\n",
              "      <th>Volume_(Currency)</th>\n",
              "      <th>Weighted_Price</th>\n",
              "      <th>x</th>\n",
              "    </tr>\n",
              "    <tr>\n",
              "      <th>Timestamp</th>\n",
              "      <th></th>\n",
              "      <th></th>\n",
              "      <th></th>\n",
              "      <th></th>\n",
              "      <th></th>\n",
              "      <th></th>\n",
              "      <th></th>\n",
              "      <th></th>\n",
              "    </tr>\n",
              "  </thead>\n",
              "  <tbody>\n",
              "    <tr>\n",
              "      <th>2013-04-01 00:00:00</th>\n",
              "      <td>95.373684</td>\n",
              "      <td>95.373684</td>\n",
              "      <td>95.373684</td>\n",
              "      <td>95.373684</td>\n",
              "      <td>2.154868</td>\n",
              "      <td>206.698263</td>\n",
              "      <td>95.373684</td>\n",
              "      <td>0.0</td>\n",
              "    </tr>\n",
              "    <tr>\n",
              "      <th>2013-04-01 01:00:00</th>\n",
              "      <td>95.463158</td>\n",
              "      <td>95.463158</td>\n",
              "      <td>95.463158</td>\n",
              "      <td>95.463158</td>\n",
              "      <td>2.311941</td>\n",
              "      <td>221.801368</td>\n",
              "      <td>95.463158</td>\n",
              "      <td>1.0</td>\n",
              "    </tr>\n",
              "    <tr>\n",
              "      <th>2013-04-01 02:00:00</th>\n",
              "      <td>95.552632</td>\n",
              "      <td>95.552632</td>\n",
              "      <td>95.552632</td>\n",
              "      <td>95.552632</td>\n",
              "      <td>2.469013</td>\n",
              "      <td>236.904474</td>\n",
              "      <td>95.552632</td>\n",
              "      <td>2.0</td>\n",
              "    </tr>\n",
              "    <tr>\n",
              "      <th>2013-04-01 03:00:00</th>\n",
              "      <td>95.642105</td>\n",
              "      <td>95.642105</td>\n",
              "      <td>95.642105</td>\n",
              "      <td>95.642105</td>\n",
              "      <td>2.626086</td>\n",
              "      <td>252.007579</td>\n",
              "      <td>95.642105</td>\n",
              "      <td>3.0</td>\n",
              "    </tr>\n",
              "    <tr>\n",
              "      <th>2013-04-01 04:00:00</th>\n",
              "      <td>95.731579</td>\n",
              "      <td>95.731579</td>\n",
              "      <td>95.731579</td>\n",
              "      <td>95.731579</td>\n",
              "      <td>2.783158</td>\n",
              "      <td>267.110684</td>\n",
              "      <td>95.731579</td>\n",
              "      <td>4.0</td>\n",
              "    </tr>\n",
              "    <tr>\n",
              "      <th>...</th>\n",
              "      <td>...</td>\n",
              "      <td>...</td>\n",
              "      <td>...</td>\n",
              "      <td>...</td>\n",
              "      <td>...</td>\n",
              "      <td>...</td>\n",
              "      <td>...</td>\n",
              "      <td>...</td>\n",
              "    </tr>\n",
              "    <tr>\n",
              "      <th>2021-03-30 20:00:00</th>\n",
              "      <td>59118.910000</td>\n",
              "      <td>59135.000000</td>\n",
              "      <td>59023.960000</td>\n",
              "      <td>59037.790000</td>\n",
              "      <td>2.684344</td>\n",
              "      <td>158619.612840</td>\n",
              "      <td>59090.651748</td>\n",
              "      <td>70100.0</td>\n",
              "    </tr>\n",
              "    <tr>\n",
              "      <th>2021-03-30 21:00:00</th>\n",
              "      <td>58644.040000</td>\n",
              "      <td>58670.910000</td>\n",
              "      <td>58591.060000</td>\n",
              "      <td>58591.060000</td>\n",
              "      <td>9.979587</td>\n",
              "      <td>585005.680240</td>\n",
              "      <td>58620.228970</td>\n",
              "      <td>70101.0</td>\n",
              "    </tr>\n",
              "    <tr>\n",
              "      <th>2021-03-30 22:00:00</th>\n",
              "      <td>58758.440000</td>\n",
              "      <td>58762.560000</td>\n",
              "      <td>58758.440000</td>\n",
              "      <td>58762.560000</td>\n",
              "      <td>0.573484</td>\n",
              "      <td>33699.187441</td>\n",
              "      <td>58762.179612</td>\n",
              "      <td>70102.0</td>\n",
              "    </tr>\n",
              "    <tr>\n",
              "      <th>2021-03-30 23:00:00</th>\n",
              "      <td>58699.430000</td>\n",
              "      <td>58699.430000</td>\n",
              "      <td>58643.160000</td>\n",
              "      <td>58657.090000</td>\n",
              "      <td>0.281702</td>\n",
              "      <td>16521.438155</td>\n",
              "      <td>58648.607194</td>\n",
              "      <td>70103.0</td>\n",
              "    </tr>\n",
              "    <tr>\n",
              "      <th>2021-03-31 00:00:00</th>\n",
              "      <td>58767.750000</td>\n",
              "      <td>58778.180000</td>\n",
              "      <td>58755.970000</td>\n",
              "      <td>58778.180000</td>\n",
              "      <td>2.712831</td>\n",
              "      <td>159417.751000</td>\n",
              "      <td>58764.349363</td>\n",
              "      <td>70104.0</td>\n",
              "    </tr>\n",
              "  </tbody>\n",
              "</table>\n",
              "<p>70105 rows × 8 columns</p>\n",
              "</div>"
            ],
            "text/plain": [
              "                             Open          High  ...  Weighted_Price        x\n",
              "Timestamp                                        ...                         \n",
              "2013-04-01 00:00:00     95.373684     95.373684  ...       95.373684      0.0\n",
              "2013-04-01 01:00:00     95.463158     95.463158  ...       95.463158      1.0\n",
              "2013-04-01 02:00:00     95.552632     95.552632  ...       95.552632      2.0\n",
              "2013-04-01 03:00:00     95.642105     95.642105  ...       95.642105      3.0\n",
              "2013-04-01 04:00:00     95.731579     95.731579  ...       95.731579      4.0\n",
              "...                           ...           ...  ...             ...      ...\n",
              "2021-03-30 20:00:00  59118.910000  59135.000000  ...    59090.651748  70100.0\n",
              "2021-03-30 21:00:00  58644.040000  58670.910000  ...    58620.228970  70101.0\n",
              "2021-03-30 22:00:00  58758.440000  58762.560000  ...    58762.179612  70102.0\n",
              "2021-03-30 23:00:00  58699.430000  58699.430000  ...    58648.607194  70103.0\n",
              "2021-03-31 00:00:00  58767.750000  58778.180000  ...    58764.349363  70104.0\n",
              "\n",
              "[70105 rows x 8 columns]"
            ]
          },
          "metadata": {
            "tags": []
          },
          "execution_count": 13
        }
      ]
    },
    {
      "cell_type": "markdown",
      "metadata": {
        "id": "fwOeFLtLSPnv"
      },
      "source": [
        "**2. Détection des anomalies dans la série \"horaire\"**"
      ]
    },
    {
      "cell_type": "markdown",
      "metadata": {
        "id": "Y1joYv2Kd7Js"
      },
      "source": [
        "Les anomalies sont fréquentes dans les séries temporelles, et la performance des prédictions est souvent améliorée lorsque ces anomalies sont traitées.  \n",
        "Pour avoir un apperçu de ces éventuelles anomalies, nous allons utiliser la méthode [\"Isolation Forest\"](https://scikit-learn.org/stable/modules/outlier_detection.html#isolation-forest) disponnible dans Scikit-learn.  \n",
        "\n",
        "Les paramètres utilisés sont les suivants :\n",
        " - **n_estimators** : C'est le nombre de sous-groupes d'échantillons à utiliser. Une valeur de 128 ou 256 est préconnisée dans le document de recherche.\n",
        " - **max_samples** : C'est le nombre d'échantillons maximum à utiliser. Nous utiliserons l'ensemble des échantillons.\n",
        " - **max_features** :  C'est le nombre de motifs aléatoirement choisis sur chaque noeud de l'arbre. Nous choisirons un seul motif.\n",
        " - **contamination** : C'est le pourcentage estimé d'anomalies dans les données. Ce paramètre permet de régler la sensibilité de l'algorithme. On va commencer avec 5% et affiner si nécessaire par la suite."
      ]
    },
    {
      "cell_type": "code",
      "metadata": {
        "id": "yHag65S4dH7x"
      },
      "source": [
        "# Initialise le modèle\n",
        "from sklearn.ensemble import IsolationForest\n",
        "\n",
        "clf = IsolationForest(n_estimators=256,max_samples=serie_etude['Open'].size, contamination=0.05,max_features=1, verbose=1)\n",
        "clf.fit(serie_etude['Open'].values.reshape(-1,1))"
      ],
      "execution_count": null,
      "outputs": []
    },
    {
      "cell_type": "code",
      "metadata": {
        "id": "HAPFfAaffb4h"
      },
      "source": [
        "# Réalise les prédictions\n",
        "pred = clf.predict(serie_etude['Open'].values.reshape(-1,1))\n",
        "pred"
      ],
      "execution_count": null,
      "outputs": []
    },
    {
      "cell_type": "markdown",
      "metadata": {
        "id": "OU0TN1UEBqR2"
      },
      "source": [
        "On ajoute maintenant ces informations dans la série journalière et on affiche les informations :"
      ]
    },
    {
      "cell_type": "code",
      "metadata": {
        "id": "IWg0uUb9G5Ws"
      },
      "source": [
        "# Ajoute une colonne \"Anomalie\" dans la série\n",
        "serie_etude['Anomalies']=pred\n",
        "serie_etude['Anomalies'] = serie_etude['Anomalies'].apply(lambda x: 1 if (x==-1) else 0)\n",
        "serie_etude"
      ],
      "execution_count": null,
      "outputs": []
    },
    {
      "cell_type": "code",
      "metadata": {
        "id": "105qNoy1EwWd"
      },
      "source": [
        "# Affiche les informations sur les anomalies\n",
        "print(serie_etude['Anomalies'].value_counts())"
      ],
      "execution_count": null,
      "outputs": []
    },
    {
      "cell_type": "markdown",
      "metadata": {
        "id": "HaV_MfJyFXkF"
      },
      "source": [
        "**3. Affichage des anomalies sur le graphique**"
      ]
    },
    {
      "cell_type": "code",
      "metadata": {
        "id": "2idYKYImFh8v"
      },
      "source": [
        "# Affiche la série\n",
        "\n",
        "fig = px.line(x=serie_etude.index,y=serie_etude['Open'],title=\"Evolution du prix du BTC\")\n",
        "fig.add_trace(px.scatter(x=serie_etude.index,y=serie_etude['Anomalies']*serie_etude['Open'],color=serie_etude['Anomalies'].astype(np.bool)).data[0])\n",
        "\n",
        "fig.update_xaxes(rangeslider_visible=True)\n",
        "yaxis=dict(autorange = True,fixedrange= False)\n",
        "fig.update_yaxes(yaxis)\n",
        "fig.show()"
      ],
      "execution_count": null,
      "outputs": []
    },
    {
      "cell_type": "markdown",
      "metadata": {
        "id": "zVAWVQioe-kS"
      },
      "source": [
        "Comme les anomalies détectées ne sembles pas cohérentes, nous n'allons pas les traiter..."
      ]
    },
    {
      "cell_type": "markdown",
      "metadata": {
        "id": "7vDYEK-cxE0C"
      },
      "source": [
        "# Analyse de la série"
      ]
    },
    {
      "cell_type": "code",
      "metadata": {
        "id": "mGY4fCB3xdUx"
      },
      "source": [
        "serie_etude"
      ],
      "execution_count": null,
      "outputs": []
    },
    {
      "cell_type": "markdown",
      "metadata": {
        "id": "kBCbjPSNxWXy"
      },
      "source": [
        "**1. ACF & PACF**"
      ]
    },
    {
      "cell_type": "code",
      "metadata": {
        "id": "CleN4htOxYqZ",
        "colab": {
          "base_uri": "https://localhost:8080/",
          "height": 421
        },
        "outputId": "16feb3f1-1a24-48e0-fb93-2e8ceafede31"
      },
      "source": [
        "# ACF & PACF du bruit blanc\n",
        "\n",
        "serie = serie_etude['Open']\n",
        "\n",
        "from statsmodels.graphics.tsaplots import plot_acf, plot_pacf\n",
        "\n",
        "f1, (ax1, ax2) = plt.subplots(1, 2, figsize=(15, 5))\n",
        "f1.subplots_adjust(hspace=0.3,wspace=0.2)\n",
        "\n",
        "plot_acf(serie, ax=ax1, lags = range(0,50))\n",
        "ax1.set_title(\"Autocorrélation du bruit blanc\")\n",
        "\n",
        "plot_pacf(serie, ax=ax2, lags = range(0, 50))\n",
        "ax2.set_title(\"Autocorrélation partielle du bruit blanc\")"
      ],
      "execution_count": null,
      "outputs": [
        {
          "output_type": "stream",
          "text": [
            "/usr/local/lib/python3.7/dist-packages/statsmodels/tools/_testing.py:19: FutureWarning:\n",
            "\n",
            "pandas.util.testing is deprecated. Use the functions in the public API at pandas.testing instead.\n",
            "\n"
          ],
          "name": "stderr"
        },
        {
          "output_type": "execute_result",
          "data": {
            "text/plain": [
              "Text(0.5, 1.0, 'Autocorrélation partielle du bruit blanc')"
            ]
          },
          "metadata": {
            "tags": []
          },
          "execution_count": 14
        },
        {
          "output_type": "display_data",
          "data": {
            "image/png": "[encoded data removed]",
            "text/plain": [
              "<Figure size 1080x360 with 2 Axes>"
            ]
          },
          "metadata": {
            "tags": [],
            "needs_background": "light"
          }
        }
      ]
    },
    {
      "cell_type": "markdown",
      "metadata": {
        "id": "o66MqHZTyHX5"
      },
      "source": [
        "**2. Test de Dickey-Fuller**"
      ]
    },
    {
      "cell_type": "code",
      "metadata": {
        "id": "fm5VXMhkyLSN",
        "colab": {
          "base_uri": "https://localhost:8080/"
        },
        "outputId": "fa4e35d9-39c0-425a-c199-7380d48d6261"
      },
      "source": [
        "import statsmodels.api as sm\n",
        "\n",
        "serie_test = serie\n",
        "\n",
        "adf, p, usedlag, nobs, cvs, aic = sm.tsa.stattools.adfuller(serie_test)\n",
        "\n",
        "adf_results_string = 'ADF: {}\\np-value: {},\\nN: {}, \\ncritical values: {}'\n",
        "print(adf_results_string.format(adf, p, nobs, cvs))"
      ],
      "execution_count": null,
      "outputs": [
        {
          "output_type": "stream",
          "text": [
            "ADF: 5.319872512211358\n",
            "p-value: 1.0,\n",
            "N: 70044, \n",
            "critical values: {'1%': -3.430443363309713, '5%': -2.8615812649257024, '10%': -2.566791963909876}\n"
          ],
          "name": "stdout"
        }
      ]
    },
    {
      "cell_type": "markdown",
      "metadata": {
        "id": "moHyQgGfyTi4"
      },
      "source": [
        "**3. Suppression de la tendance non linéaire et test de sationnarité**"
      ]
    },
    {
      "cell_type": "code",
      "metadata": {
        "id": "43AcGds6y0pI",
        "colab": {
          "base_uri": "https://localhost:8080/",
          "height": 337
        },
        "outputId": "b88fe525-de41-4852-f185-701a92506933"
      },
      "source": [
        "from scipy.stats import boxcox\n",
        "\n",
        "serie_log, lam = boxcox(serie)\n",
        "\n",
        "f1, (ax1,ax2) = plt.subplots(2, 1, figsize=(15, 5))\n",
        "ax1.plot(serie_etude.index,serie_log)\n",
        "ax2.plot(serie_etude.index,serie)"
      ],
      "execution_count": null,
      "outputs": [
        {
          "output_type": "execute_result",
          "data": {
            "text/plain": [
              "[<matplotlib.lines.Line2D at 0x7f1511cc7210>]"
            ]
          },
          "metadata": {
            "tags": []
          },
          "execution_count": 16
        },
        {
          "output_type": "display_data",
          "data": {
            "image/png": "[encoded data removed]",
            "text/plain": [
              "<Figure size 1080x360 with 2 Axes>"
            ]
          },
          "metadata": {
            "tags": [],
            "needs_background": "light"
          }
        }
      ]
    },
    {
      "cell_type": "code",
      "metadata": {
        "id": "1fRPXCkO0DUh",
        "colab": {
          "base_uri": "https://localhost:8080/"
        },
        "outputId": "79c9ecfb-2647-44f2-d0fa-a95d85eba0dd"
      },
      "source": [
        "import statsmodels.api as sm\n",
        "\n",
        "serie_test = serie_log\n",
        "\n",
        "adf, p, usedlag, nobs, cvs, aic = sm.tsa.stattools.adfuller(serie_test)\n",
        "\n",
        "adf_results_string = 'ADF: {}\\np-value: {},\\nN: {}, \\ncritical values: {}'\n",
        "print(adf_results_string.format(adf, p, nobs, cvs))"
      ],
      "execution_count": null,
      "outputs": [
        {
          "output_type": "stream",
          "text": [
            "ADF: -0.007269082976458623\n",
            "p-value: 0.9579267936566662,\n",
            "N: 70043, \n",
            "critical values: {'1%': -3.430443364642705, '5%': -2.8615812655148516, '10%': -2.566791964223462}\n"
          ],
          "name": "stdout"
        }
      ]
    },
    {
      "cell_type": "markdown",
      "metadata": {
        "id": "wI8sp_Rlz6GT"
      },
      "source": [
        "***4. Suppression de la tendance linéaire et test de stationnarité***"
      ]
    },
    {
      "cell_type": "code",
      "metadata": {
        "id": "1iHrAWJH0TdT",
        "colab": {
          "base_uri": "https://localhost:8080/",
          "height": 353
        },
        "outputId": "393de21f-8c27-46df-af62-0c3d31ccdb04"
      },
      "source": [
        "f1, (ax1, ax2) = plt.subplots(2, 1, figsize=(15, 5))\n",
        "\n",
        "# Calcul des coefficients\n",
        "x = np.linspace(0,len(serie_log),len(serie_log))\n",
        "coefs = np.polyfit(x,serie_log,1)\n",
        "\n",
        "# Calcul de la tendance non linéaire\n",
        "trend = coefs[0]*np.power(x,1) + coefs[1]\n",
        "\n",
        "# Calcul de la série sans tendance\n",
        "serie_log_detrend = serie_log - trend\n",
        "\n",
        "# Affiche les résultats\n",
        "ax1.plot(trend)\n",
        "ax1.plot(serie_log)\n",
        "ax1.set_title(\"Série originale et tendance non linéaire\")\n",
        "\n",
        "ax2.plot(serie_log_detrend)\n",
        "ax2.set_title(\"Série avec tendance non linéaire supprimée\")"
      ],
      "execution_count": null,
      "outputs": [
        {
          "output_type": "execute_result",
          "data": {
            "text/plain": [
              "Text(0.5, 1.0, 'Série avec tendance non linéaire supprimée')"
            ]
          },
          "metadata": {
            "tags": []
          },
          "execution_count": 18
        },
        {
          "output_type": "display_data",
          "data": {
            "image/png": "[encoded data removed]",
            "text/plain": [
              "<Figure size 1080x360 with 2 Axes>"
            ]
          },
          "metadata": {
            "tags": [],
            "needs_background": "light"
          }
        }
      ]
    },
    {
      "cell_type": "code",
      "metadata": {
        "id": "yNXs9Fm--Kcl",
        "colab": {
          "base_uri": "https://localhost:8080/",
          "height": 353
        },
        "outputId": "04f3e13c-4b01-47ed-db22-fa67cc5cdb5f"
      },
      "source": [
        "# ACF & PACF du bruit blanc\n",
        "\n",
        "from statsmodels.graphics.tsaplots import plot_acf, plot_pacf\n",
        "\n",
        "f1, (ax1, ax2) = plt.subplots(1, 2, figsize=(15, 5))\n",
        "f1.subplots_adjust(hspace=0.3,wspace=0.2)\n",
        "\n",
        "plot_acf(serie_log_detrend, ax=ax1, lags = range(0,50))\n",
        "ax1.set_title(\"Autocorrélation du bruit blanc\")\n",
        "\n",
        "plot_pacf(serie_log_detrend, ax=ax2, lags = range(0, 50))\n",
        "ax2.set_title(\"Autocorrélation partielle du bruit blanc\")"
      ],
      "execution_count": null,
      "outputs": [
        {
          "output_type": "execute_result",
          "data": {
            "text/plain": [
              "Text(0.5, 1.0, 'Autocorrélation partielle du bruit blanc')"
            ]
          },
          "metadata": {
            "tags": []
          },
          "execution_count": 19
        },
        {
          "output_type": "display_data",
          "data": {
            "image/png": "[encoded data removed]",
            "text/plain": [
              "<Figure size 1080x360 with 2 Axes>"
            ]
          },
          "metadata": {
            "tags": [],
            "needs_background": "light"
          }
        }
      ]
    },
    {
      "cell_type": "code",
      "metadata": {
        "id": "_r01cDgq0xaJ",
        "colab": {
          "base_uri": "https://localhost:8080/"
        },
        "outputId": "8d319333-5468-4013-a2cd-245c35f5e9f0"
      },
      "source": [
        "import statsmodels.api as sm\n",
        "\n",
        "serie_test = serie_log_detrend\n",
        "\n",
        "adf, p, usedlag, nobs, cvs, aic = sm.tsa.stattools.adfuller(serie_test)\n",
        "\n",
        "adf_results_string = 'ADF: {}\\np-value: {},\\nN: {}, \\ncritical values: {}'\n",
        "print(adf_results_string.format(adf, p, nobs, cvs))"
      ],
      "execution_count": null,
      "outputs": [
        {
          "output_type": "stream",
          "text": [
            "ADF: -1.6379667449120026\n",
            "p-value: 0.46332342415130157,\n",
            "N: 70043, \n",
            "critical values: {'1%': -3.430443364642705, '5%': -2.8615812655148516, '10%': -2.566791964223462}\n"
          ],
          "name": "stdout"
        }
      ]
    },
    {
      "cell_type": "markdown",
      "metadata": {
        "id": "ychdf1RxMPDD"
      },
      "source": [
        "**5. Différentiation**"
      ]
    },
    {
      "cell_type": "code",
      "metadata": {
        "id": "-qaHkgtQMOqJ",
        "colab": {
          "base_uri": "https://localhost:8080/",
          "height": 390
        },
        "outputId": "2d8fb633-a894-4950-e39f-c5d6c5f4f43c"
      },
      "source": [
        "# Différenciation d'odre 1 et saisonnale à l'odre 1 et de période 12\n",
        "\n",
        "from statsmodels.tsa.statespace.tools import diff\n",
        "\n",
        "serie_log_detrend_diff1 = diff(serie_log_detrend,1)       # diff=1 ; diff_saison=1 ; periode = 12\n",
        "\n",
        "plt.figure(figsize=(10, 6))\n",
        "plt.plot(serie_log_detrend_diff1)\n",
        "plt.title(\"Signal différencié d'ordre 1 + saisonalité\")\n",
        "plt.show()"
      ],
      "execution_count": null,
      "outputs": [
        {
          "output_type": "display_data",
          "data": {
            "image/png": "[encoded data removed]",
            "text/plain": [
              "<Figure size 720x432 with 1 Axes>"
            ]
          },
          "metadata": {
            "tags": [],
            "needs_background": "light"
          }
        }
      ]
    },
    {
      "cell_type": "code",
      "metadata": {
        "id": "kFLlzv0JMks5",
        "colab": {
          "base_uri": "https://localhost:8080/"
        },
        "outputId": "0767b81d-c518-401d-90b4-ef5d7bfdcf27"
      },
      "source": [
        "import statsmodels.api as sm\n",
        "\n",
        "serie_test = serie_log_detrend_diff1\n",
        "\n",
        "adf, p, usedlag, nobs, cvs, aic = sm.tsa.stattools.adfuller(serie_test)\n",
        "\n",
        "adf_results_string = 'ADF: {}\\np-value: {},\\nN: {}, \\ncritical values: {}'\n",
        "print(adf_results_string.format(adf, p, nobs, cvs))"
      ],
      "execution_count": null,
      "outputs": [
        {
          "output_type": "stream",
          "text": [
            "ADF: -35.69789536061268\n",
            "p-value: 0.0,\n",
            "N: 70041, \n",
            "critical values: {'1%': -3.430443367308802, '5%': -2.861581266693201, '10%': -2.56679196485066}\n"
          ],
          "name": "stdout"
        }
      ]
    },
    {
      "cell_type": "code",
      "metadata": {
        "id": "Q0Oqd_7XMqaZ",
        "colab": {
          "base_uri": "https://localhost:8080/",
          "height": 353
        },
        "outputId": "6be6167f-838b-44b1-a04f-fb29244201b8"
      },
      "source": [
        "# ACF & PACF du bruit blanc\n",
        "\n",
        "from statsmodels.graphics.tsaplots import plot_acf, plot_pacf\n",
        "\n",
        "f1, (ax1, ax2) = plt.subplots(1, 2, figsize=(15, 5))\n",
        "f1.subplots_adjust(hspace=0.3,wspace=0.2)\n",
        "\n",
        "plot_acf(serie_log_detrend_diff1, ax=ax1, lags = range(0,50))\n",
        "ax1.set_title(\"Autocorrélation du bruit blanc\")\n",
        "\n",
        "plot_pacf(serie_log_detrend_diff1, ax=ax2, lags = range(0, 50))\n",
        "ax2.set_title(\"Autocorrélation partielle du bruit blanc\")"
      ],
      "execution_count": null,
      "outputs": [
        {
          "output_type": "execute_result",
          "data": {
            "text/plain": [
              "Text(0.5, 1.0, 'Autocorrélation partielle du bruit blanc')"
            ]
          },
          "metadata": {
            "tags": []
          },
          "execution_count": 23
        },
        {
          "output_type": "display_data",
          "data": {
            "image/png": "[encoded data removed]",
            "text/plain": [
              "<Figure size 1080x360 with 2 Axes>"
            ]
          },
          "metadata": {
            "tags": [],
            "needs_background": "light"
          }
        }
      ]
    },
    {
      "cell_type": "markdown",
      "metadata": {
        "id": "V5oIY2Yl5Tlt"
      },
      "source": [
        "**5. Enregistrement des données dans le dataframe**"
      ]
    },
    {
      "cell_type": "code",
      "metadata": {
        "id": "WjFSWhdeM4KM"
      },
      "source": [
        "serie_log_detrend_diff1 = np.insert(serie_log_detrend_diff1,0,0)"
      ],
      "execution_count": null,
      "outputs": []
    },
    {
      "cell_type": "code",
      "metadata": {
        "id": "ele3kFOp5TTW",
        "colab": {
          "base_uri": "https://localhost:8080/",
          "height": 450
        },
        "outputId": "a2758688-45d0-4f9d-c406-e9dc9274fe20"
      },
      "source": [
        "serie_etude['diff'] = serie_log_detrend_diff1\n",
        "serie_etude['diff'][0] = \"Nan\"\n",
        "serie_etude"
      ],
      "execution_count": null,
      "outputs": [
        {
          "output_type": "execute_result",
          "data": {
            "text/html": [
              "<div>\n",
              "<style scoped>\n",
              "    .dataframe tbody tr th:only-of-type {\n",
              "        vertical-align: middle;\n",
              "    }\n",
              "\n",
              "    .dataframe tbody tr th {\n",
              "        vertical-align: top;\n",
              "    }\n",
              "\n",
              "    .dataframe thead th {\n",
              "        text-align: right;\n",
              "    }\n",
              "</style>\n",
              "<table border=\"1\" class=\"dataframe\">\n",
              "  <thead>\n",
              "    <tr style=\"text-align: right;\">\n",
              "      <th></th>\n",
              "      <th>Open</th>\n",
              "      <th>High</th>\n",
              "      <th>Low</th>\n",
              "      <th>Close</th>\n",
              "      <th>Volume_(BTC)</th>\n",
              "      <th>Volume_(Currency)</th>\n",
              "      <th>Weighted_Price</th>\n",
              "      <th>x</th>\n",
              "      <th>diff</th>\n",
              "    </tr>\n",
              "    <tr>\n",
              "      <th>Timestamp</th>\n",
              "      <th></th>\n",
              "      <th></th>\n",
              "      <th></th>\n",
              "      <th></th>\n",
              "      <th></th>\n",
              "      <th></th>\n",
              "      <th></th>\n",
              "      <th></th>\n",
              "      <th></th>\n",
              "    </tr>\n",
              "  </thead>\n",
              "  <tbody>\n",
              "    <tr>\n",
              "      <th>2013-04-01 00:00:00</th>\n",
              "      <td>95.373684</td>\n",
              "      <td>95.373684</td>\n",
              "      <td>95.373684</td>\n",
              "      <td>95.373684</td>\n",
              "      <td>2.154868</td>\n",
              "      <td>206.698263</td>\n",
              "      <td>95.373684</td>\n",
              "      <td>0.0</td>\n",
              "      <td>NaN</td>\n",
              "    </tr>\n",
              "    <tr>\n",
              "      <th>2013-04-01 01:00:00</th>\n",
              "      <td>95.463158</td>\n",
              "      <td>95.463158</td>\n",
              "      <td>95.463158</td>\n",
              "      <td>95.463158</td>\n",
              "      <td>2.311941</td>\n",
              "      <td>221.801368</td>\n",
              "      <td>95.463158</td>\n",
              "      <td>1.0</td>\n",
              "      <td>0.000814</td>\n",
              "    </tr>\n",
              "    <tr>\n",
              "      <th>2013-04-01 02:00:00</th>\n",
              "      <td>95.552632</td>\n",
              "      <td>95.552632</td>\n",
              "      <td>95.552632</td>\n",
              "      <td>95.552632</td>\n",
              "      <td>2.469013</td>\n",
              "      <td>236.904474</td>\n",
              "      <td>95.552632</td>\n",
              "      <td>2.0</td>\n",
              "      <td>0.000813</td>\n",
              "    </tr>\n",
              "    <tr>\n",
              "      <th>2013-04-01 03:00:00</th>\n",
              "      <td>95.642105</td>\n",
              "      <td>95.642105</td>\n",
              "      <td>95.642105</td>\n",
              "      <td>95.642105</td>\n",
              "      <td>2.626086</td>\n",
              "      <td>252.007579</td>\n",
              "      <td>95.642105</td>\n",
              "      <td>3.0</td>\n",
              "      <td>0.000812</td>\n",
              "    </tr>\n",
              "    <tr>\n",
              "      <th>2013-04-01 04:00:00</th>\n",
              "      <td>95.731579</td>\n",
              "      <td>95.731579</td>\n",
              "      <td>95.731579</td>\n",
              "      <td>95.731579</td>\n",
              "      <td>2.783158</td>\n",
              "      <td>267.110684</td>\n",
              "      <td>95.731579</td>\n",
              "      <td>4.0</td>\n",
              "      <td>0.000811</td>\n",
              "    </tr>\n",
              "    <tr>\n",
              "      <th>...</th>\n",
              "      <td>...</td>\n",
              "      <td>...</td>\n",
              "      <td>...</td>\n",
              "      <td>...</td>\n",
              "      <td>...</td>\n",
              "      <td>...</td>\n",
              "      <td>...</td>\n",
              "      <td>...</td>\n",
              "      <td>...</td>\n",
              "    </tr>\n",
              "    <tr>\n",
              "      <th>2021-03-30 20:00:00</th>\n",
              "      <td>59118.910000</td>\n",
              "      <td>59135.000000</td>\n",
              "      <td>59023.960000</td>\n",
              "      <td>59037.790000</td>\n",
              "      <td>2.684344</td>\n",
              "      <td>158619.612840</td>\n",
              "      <td>59090.651748</td>\n",
              "      <td>70100.0</td>\n",
              "      <td>0.003735</td>\n",
              "    </tr>\n",
              "    <tr>\n",
              "      <th>2021-03-30 21:00:00</th>\n",
              "      <td>58644.040000</td>\n",
              "      <td>58670.910000</td>\n",
              "      <td>58591.060000</td>\n",
              "      <td>58591.060000</td>\n",
              "      <td>9.979587</td>\n",
              "      <td>585005.680240</td>\n",
              "      <td>58620.228970</td>\n",
              "      <td>70101.0</td>\n",
              "      <td>-0.007035</td>\n",
              "    </tr>\n",
              "    <tr>\n",
              "      <th>2021-03-30 22:00:00</th>\n",
              "      <td>58758.440000</td>\n",
              "      <td>58762.560000</td>\n",
              "      <td>58758.440000</td>\n",
              "      <td>58762.560000</td>\n",
              "      <td>0.573484</td>\n",
              "      <td>33699.187441</td>\n",
              "      <td>58762.179612</td>\n",
              "      <td>70102.0</td>\n",
              "      <td>0.001615</td>\n",
              "    </tr>\n",
              "    <tr>\n",
              "      <th>2021-03-30 23:00:00</th>\n",
              "      <td>58699.430000</td>\n",
              "      <td>58699.430000</td>\n",
              "      <td>58643.160000</td>\n",
              "      <td>58657.090000</td>\n",
              "      <td>0.281702</td>\n",
              "      <td>16521.438155</td>\n",
              "      <td>58648.607194</td>\n",
              "      <td>70103.0</td>\n",
              "      <td>-0.000936</td>\n",
              "    </tr>\n",
              "    <tr>\n",
              "      <th>2021-03-31 00:00:00</th>\n",
              "      <td>58767.750000</td>\n",
              "      <td>58778.180000</td>\n",
              "      <td>58755.970000</td>\n",
              "      <td>58778.180000</td>\n",
              "      <td>2.712831</td>\n",
              "      <td>159417.751000</td>\n",
              "      <td>58764.349363</td>\n",
              "      <td>70104.0</td>\n",
              "      <td>0.000936</td>\n",
              "    </tr>\n",
              "  </tbody>\n",
              "</table>\n",
              "<p>70105 rows × 9 columns</p>\n",
              "</div>"
            ],
            "text/plain": [
              "                             Open          High  ...        x      diff\n",
              "Timestamp                                        ...                   \n",
              "2013-04-01 00:00:00     95.373684     95.373684  ...      0.0       NaN\n",
              "2013-04-01 01:00:00     95.463158     95.463158  ...      1.0  0.000814\n",
              "2013-04-01 02:00:00     95.552632     95.552632  ...      2.0  0.000813\n",
              "2013-04-01 03:00:00     95.642105     95.642105  ...      3.0  0.000812\n",
              "2013-04-01 04:00:00     95.731579     95.731579  ...      4.0  0.000811\n",
              "...                           ...           ...  ...      ...       ...\n",
              "2021-03-30 20:00:00  59118.910000  59135.000000  ...  70100.0  0.003735\n",
              "2021-03-30 21:00:00  58644.040000  58670.910000  ...  70101.0 -0.007035\n",
              "2021-03-30 22:00:00  58758.440000  58762.560000  ...  70102.0  0.001615\n",
              "2021-03-30 23:00:00  58699.430000  58699.430000  ...  70103.0 -0.000936\n",
              "2021-03-31 00:00:00  58767.750000  58778.180000  ...  70104.0  0.000936\n",
              "\n",
              "[70105 rows x 9 columns]"
            ]
          },
          "metadata": {
            "tags": []
          },
          "execution_count": 25
        }
      ]
    },
    {
      "cell_type": "markdown",
      "metadata": {
        "id": "z3q8CAozN-Gt"
      },
      "source": [
        "# Prépartion des datasets diff"
      ]
    },
    {
      "cell_type": "code",
      "metadata": {
        "id": "xWrUXYyFN-Gu"
      },
      "source": [
        "serie_etude"
      ],
      "execution_count": null,
      "outputs": []
    },
    {
      "cell_type": "markdown",
      "metadata": {
        "id": "Xp724KcgN-Gw"
      },
      "source": [
        "**1. Séparation des données en données pour l'entrainement et la validation**"
      ]
    },
    {
      "cell_type": "markdown",
      "metadata": {
        "id": "RIWQZUvVN-Gw"
      },
      "source": [
        "On réserve 20% des données pour l'entrainement et le reste pour la validation :"
      ]
    },
    {
      "cell_type": "code",
      "metadata": {
        "id": "-ZaGwL4YN-Gx",
        "colab": {
          "base_uri": "https://localhost:8080/"
        },
        "outputId": "a994dcf3-b882-4f74-e3e5-e6e16193154f"
      },
      "source": [
        "# Sépare les données en entrainement et tests\n",
        "pourcentage = 0.8\n",
        "temps_separation = int(len(serie_etude) * pourcentage)\n",
        "date_separation = serie_etude.index[temps_separation]\n",
        "\n",
        "serie_entrainement = serie_etude['diff'].iloc[1:temps_separation]\n",
        "serie_test = serie_etude['diff'].iloc[temps_separation:]\n",
        "\n",
        "print(\"Taille de l'entrainement : %d\" %len(serie_entrainement))\n",
        "print(\"Taille de la validation : %d\" %len(serie_test))"
      ],
      "execution_count": null,
      "outputs": [
        {
          "output_type": "stream",
          "text": [
            "Taille de l'entrainement : 56083\n",
            "Taille de la validation : 14021\n"
          ],
          "name": "stdout"
        }
      ]
    },
    {
      "cell_type": "markdown",
      "metadata": {
        "id": "T-YXKb5TN-Gy"
      },
      "source": [
        "On normalise les données :"
      ]
    },
    {
      "cell_type": "code",
      "metadata": {
        "id": "jcszCbQQN-Gy"
      },
      "source": [
        "# Calcul de la moyenne et de l'écart type de la série\n",
        "mean = tf.math.reduce_mean(np.asarray(serie_entrainement))\n",
        "std = tf.math.reduce_std(np.asarray((serie_entrainement)))\n",
        "\n",
        "# Normalisation des données\n",
        "serie_entrainement = (serie_entrainement-mean)/std\n",
        "serie_test = (serie_test-mean)/std"
      ],
      "execution_count": null,
      "outputs": []
    },
    {
      "cell_type": "code",
      "metadata": {
        "id": "ixzH25StN-Gz"
      },
      "source": [
        "# Affiche la série\n",
        "fig, ax = plt.subplots(constrained_layout=True, figsize=(15,5))\n",
        "ax.plot(serie_entrainement, label=\"Entrainement\")\n",
        "ax.plot(serie_test,label=\"Validation\")\n",
        "\n",
        "ax.set_title(\"Evolution du prix du BTC\")\n",
        "\n",
        "ax.legend()\n",
        "plt.show()"
      ],
      "execution_count": null,
      "outputs": []
    },
    {
      "cell_type": "markdown",
      "metadata": {
        "id": "BsIJ_4OON-Gz"
      },
      "source": [
        "**2. Création des datasets**"
      ]
    },
    {
      "cell_type": "code",
      "metadata": {
        "id": "dlwKgWqiN-G0"
      },
      "source": [
        "# Fonction permettant de créer un dataset à partir des données de la série temporelle\n",
        "\n",
        "def prepare_dataset_XY(serie, taille_fenetre, horizon, batch_size):\n",
        "  dataset = tf.data.Dataset.from_tensor_slices(serie)\n",
        "  dataset = dataset.window(taille_fenetre+horizon, shift=1, drop_remainder=True)\n",
        "  dataset = dataset.flat_map(lambda x: x.batch(taille_fenetre + horizon))\n",
        "  dataset = dataset.map(lambda x: (tf.expand_dims(x[0:taille_fenetre],axis=1),x[-1:]))\n",
        "  dataset = dataset.batch(batch_size,drop_remainder=True).prefetch(1)\n",
        "  return dataset"
      ],
      "execution_count": null,
      "outputs": []
    },
    {
      "cell_type": "code",
      "metadata": {
        "id": "F9qP2YSBN-G1"
      },
      "source": [
        "# Définition des caractéristiques du dataset que l'on souhaite créer\n",
        "taille_fenetre = 500\n",
        "horizon = 1\n",
        "batch_size = 100\n",
        "\n",
        "# Création du dataset\n",
        "dataset = prepare_dataset_XY(serie_entrainement,taille_fenetre,horizon,batch_size)\n",
        "dataset_val = prepare_dataset_XY(serie_test,taille_fenetre,horizon,batch_size)"
      ],
      "execution_count": null,
      "outputs": []
    },
    {
      "cell_type": "code",
      "metadata": {
        "id": "LFRs-cLHN-HA"
      },
      "source": [
        "print(len(list(dataset.as_numpy_iterator())))\n",
        "for element in dataset.take(1):\n",
        "  print(element[0].shape)\n",
        "  print(element[1].shape)"
      ],
      "execution_count": null,
      "outputs": []
    },
    {
      "cell_type": "markdown",
      "metadata": {
        "id": "6ti9mbzgN-HA"
      },
      "source": [
        "On extrait maintenant les deux tenseurs (X,Y) pour l'entrainement :"
      ]
    },
    {
      "cell_type": "code",
      "metadata": {
        "id": "iIwGFoF7N-HB"
      },
      "source": [
        "# Extrait les X,Y du dataset\n",
        "#56x((1000,4,1),(1000,1)) => (56*1000,4,1) ; (56*1000,1)\n",
        "\n",
        "x,y = tuple(zip(*dataset))\n",
        "\n",
        "# Recombine les données\n",
        "# (56,1000,4,1) => (56*128,4,1)\n",
        "# (56,1000,1) => (56*128,1)\n",
        "x_train = np.asarray(tf.reshape(np.asarray(x,dtype=np.float32),shape=(np.asarray(x).shape[0]*np.asarray(x).shape[1],taille_fenetre,1)))\n",
        "y_train = np.asarray(tf.reshape(np.asarray(y,dtype=np.float32),shape=(np.asarray(y).shape[0]*np.asarray(y).shape[1])))\n",
        "\n",
        "# Affiche les formats\n",
        "print(x_train.shape)\n",
        "print(y_train.shape)"
      ],
      "execution_count": null,
      "outputs": []
    },
    {
      "cell_type": "markdown",
      "metadata": {
        "id": "X4-eznwiN-HC"
      },
      "source": [
        "Puis la même chose pour les données de validation :"
      ]
    },
    {
      "cell_type": "code",
      "metadata": {
        "id": "e25gJ8ymN-HC"
      },
      "source": [
        "# Extrait les X,Y du dataset_val\n",
        "\n",
        "x,y = tuple(zip(*dataset_val))\n",
        "\n",
        "# Recombine les données\n",
        "\n",
        "x_val = np.asarray(tf.reshape(np.asarray(x,dtype=np.float32),shape=(np.asarray(x).shape[0]*np.asarray(x).shape[1],taille_fenetre,1)))\n",
        "y_val = np.asarray(tf.reshape(np.asarray(y,dtype=np.float32),shape=(np.asarray(y).shape[0]*np.asarray(y).shape[1])))\n",
        "\n",
        "# Affiche les formats\n",
        "print(x_val.shape)\n",
        "print(y_val.shape)"
      ],
      "execution_count": null,
      "outputs": []
    },
    {
      "cell_type": "markdown",
      "metadata": {
        "id": "iG5Fyx5O5oe5"
      },
      "source": [
        "# Prépartion des datasets"
      ]
    },
    {
      "cell_type": "code",
      "metadata": {
        "id": "tShkj2wRIp6a"
      },
      "source": [
        "serie_etude"
      ],
      "execution_count": null,
      "outputs": []
    },
    {
      "cell_type": "code",
      "metadata": {
        "id": "1hVq4bTVIhYN"
      },
      "source": [
        "serie_etude['Open'] = serie_etude['Open']*serie_etude['Volume_(BTC)']\n",
        "serie_etude['Open'] = serie_etude.interpolate(method=\"slinear\")\n",
        "serie_etude['Open'] = serie_etude.fillna(method=\"backfill\")"
      ],
      "execution_count": null,
      "outputs": []
    },
    {
      "cell_type": "markdown",
      "metadata": {
        "id": "P7cGUeWb5oe7"
      },
      "source": [
        "**1. Séparation des données en données pour l'entrainement et la validation**"
      ]
    },
    {
      "cell_type": "markdown",
      "metadata": {
        "id": "ob-EAw_j5oe8"
      },
      "source": [
        "On réserve 20% des données pour l'entrainement et le reste pour la validation :"
      ]
    },
    {
      "cell_type": "code",
      "metadata": {
        "id": "R5AWeK_Z5oe8"
      },
      "source": [
        "# Sépare les données en entrainement et tests\n",
        "pourcentage = 0.8\n",
        "temps_separation = int(len(serie_etude) * pourcentage)\n",
        "date_separation = serie_etude.index[temps_separation]\n",
        "\n",
        "serie_entrainement = serie_etude['Open'].iloc[:temps_separation]\n",
        "serie_test = serie_etude['Open'].iloc[temps_separation:]\n",
        "\n",
        "print(\"Taille de l'entrainement : %d\" %len(serie_entrainement))\n",
        "print(\"Taille de la validation : %d\" %len(serie_test))"
      ],
      "execution_count": null,
      "outputs": []
    },
    {
      "cell_type": "markdown",
      "metadata": {
        "id": "vZUMMMro5oe9"
      },
      "source": [
        "On normalise les données :"
      ]
    },
    {
      "cell_type": "code",
      "metadata": {
        "id": "xu_YxoSI5oe9"
      },
      "source": [
        "# Calcul de la moyenne et de l'écart type de la série\n",
        "mean = tf.math.reduce_mean(np.asarray(serie_entrainement))\n",
        "std = tf.math.reduce_std(np.asarray((serie_entrainement)))\n",
        "\n",
        "# Normalisation des données\n",
        "serie_entrainement = (serie_entrainement-mean)/std\n",
        "serie_test = (serie_test-mean)/std"
      ],
      "execution_count": null,
      "outputs": []
    },
    {
      "cell_type": "code",
      "metadata": {
        "id": "v_4OZJ-p5oe9"
      },
      "source": [
        "# Affiche la série\n",
        "fig, ax = plt.subplots(constrained_layout=True, figsize=(15,5))\n",
        "ax.plot(serie_entrainement, label=\"Entrainement\")\n",
        "ax.plot(serie_test,label=\"Validation\")\n",
        "\n",
        "ax.set_title(\"Evolution du prix du BTC\")\n",
        "\n",
        "ax.legend()\n",
        "plt.show()"
      ],
      "execution_count": null,
      "outputs": []
    },
    {
      "cell_type": "markdown",
      "metadata": {
        "id": "V-bANnT35oe-"
      },
      "source": [
        "**2. Création des datasets**"
      ]
    },
    {
      "cell_type": "code",
      "metadata": {
        "id": "V_EweLDJ5oe-"
      },
      "source": [
        "# Fonction permettant de créer un dataset à partir des données de la série temporelle\n",
        "\n",
        "def prepare_dataset_XY(serie, taille_fenetre, horizon, batch_size):\n",
        "  dataset = tf.data.Dataset.from_tensor_slices(serie)\n",
        "  dataset = dataset.window(taille_fenetre+horizon, shift=1, drop_remainder=True)\n",
        "  dataset = dataset.flat_map(lambda x: x.batch(taille_fenetre + horizon))\n",
        "  dataset = dataset.map(lambda x: (tf.expand_dims(x[0:taille_fenetre],axis=1),x[-1:]))\n",
        "  dataset = dataset.batch(batch_size,drop_remainder=True).prefetch(1)\n",
        "  return dataset"
      ],
      "execution_count": null,
      "outputs": []
    },
    {
      "cell_type": "code",
      "metadata": {
        "id": "_Jh1RZYo5oe_"
      },
      "source": [
        "# Définition des caractéristiques du dataset que l'on souhaite créer\n",
        "taille_fenetre = 50\n",
        "horizon = 1\n",
        "batch_size = 1000\n",
        "\n",
        "# Création du dataset\n",
        "dataset = prepare_dataset_XY(serie_entrainement,taille_fenetre,horizon,batch_size)\n",
        "dataset_val = prepare_dataset_XY(serie_test,taille_fenetre,horizon,batch_size)"
      ],
      "execution_count": null,
      "outputs": []
    },
    {
      "cell_type": "code",
      "metadata": {
        "id": "dr2pbMox5oe_"
      },
      "source": [
        "print(len(list(dataset.as_numpy_iterator())))\n",
        "for element in dataset.take(1):\n",
        "  print(element[0].shape)\n",
        "  print(element[1].shape)"
      ],
      "execution_count": null,
      "outputs": []
    },
    {
      "cell_type": "markdown",
      "metadata": {
        "id": "BHCcYn6i5oe_"
      },
      "source": [
        "On extrait maintenant les deux tenseurs (X,Y) pour l'entrainement :"
      ]
    },
    {
      "cell_type": "code",
      "metadata": {
        "id": "z3ZhLIK15ofA"
      },
      "source": [
        "# Extrait les X,Y du dataset\n",
        "#56x((1000,4,1),(1000,1)) => (56*1000,4,1) ; (56*1000,1)\n",
        "\n",
        "x,y = tuple(zip(*dataset))\n",
        "\n",
        "# Recombine les données\n",
        "# (56,1000,4,1) => (56*128,4,1)\n",
        "# (56,1000,1) => (56*128,1)\n",
        "x_train = np.asarray(tf.reshape(np.asarray(x,dtype=np.float32),shape=(np.asarray(x).shape[0]*np.asarray(x).shape[1],taille_fenetre,1)))\n",
        "y_train = np.asarray(tf.reshape(np.asarray(y,dtype=np.float32),shape=(np.asarray(y).shape[0]*np.asarray(y).shape[1])))\n",
        "\n",
        "# Affiche les formats\n",
        "print(x_train.shape)\n",
        "print(y_train.shape)"
      ],
      "execution_count": null,
      "outputs": []
    },
    {
      "cell_type": "markdown",
      "metadata": {
        "id": "llnKyLvl5ofA"
      },
      "source": [
        "Puis la même chose pour les données de validation :"
      ]
    },
    {
      "cell_type": "code",
      "metadata": {
        "id": "hadrKVrZ5ofB"
      },
      "source": [
        "# Extrait les X,Y du dataset_val\n",
        "\n",
        "x,y = tuple(zip(*dataset_val))\n",
        "\n",
        "# Recombine les données\n",
        "\n",
        "x_val = np.asarray(tf.reshape(np.asarray(x,dtype=np.float32),shape=(np.asarray(x).shape[0]*np.asarray(x).shape[1],taille_fenetre,1)))\n",
        "y_val = np.asarray(tf.reshape(np.asarray(y,dtype=np.float32),shape=(np.asarray(y).shape[0]*np.asarray(y).shape[1])))\n",
        "\n",
        "# Affiche les formats\n",
        "print(x_val.shape)\n",
        "print(y_val.shape)"
      ],
      "execution_count": null,
      "outputs": []
    },
    {
      "cell_type": "markdown",
      "metadata": {
        "id": "Htl_PyCdqKMK"
      },
      "source": [
        "# Prépartion des datasets X/Y(log)"
      ]
    },
    {
      "cell_type": "markdown",
      "metadata": {
        "id": "_RqAZOY-WM3Y"
      },
      "source": [
        "**1. Séparation des données en données pour l'entrainement et la validation**"
      ]
    },
    {
      "cell_type": "markdown",
      "metadata": {
        "id": "QL65znv4N1l2"
      },
      "source": [
        "On réserve 20% des données pour l'entrainement et le reste pour la validation :"
      ]
    },
    {
      "cell_type": "code",
      "metadata": {
        "id": "ouWe7AKpNi6m"
      },
      "source": [
        "# Sépare les données en entrainement et tests\n",
        "pourcentage = 0.8\n",
        "temps_separation = int(len(serie_etude) * pourcentage)\n",
        "date_separation = serie_etude.index[temps_separation]\n",
        "\n",
        "serie_entrainement_x = serie_etude['Open'].iloc[:temps_separation]\n",
        "serie_entrainement_y = serie_etude['Open_log'].iloc[:temps_separation]\n",
        "\n",
        "serie_test_x = serie_etude['Open'].iloc[temps_separation:]\n",
        "serie_test_y = serie_etude['Open_log'].iloc[temps_separation:]\n",
        "\n",
        "print(\"Taille de l'entrainement : %d\" %len(serie_entrainement_x))\n",
        "print(\"Taille de la validation : %d\" %len(serie_test_x))"
      ],
      "execution_count": null,
      "outputs": []
    },
    {
      "cell_type": "markdown",
      "metadata": {
        "id": "WFPjmI7-N3FH"
      },
      "source": [
        "On normalise les labels :"
      ]
    },
    {
      "cell_type": "code",
      "metadata": {
        "id": "mJI0xJlQNsTW"
      },
      "source": [
        "# Calcul de la moyenne et de l'écart type de la série\n",
        "mean = tf.math.reduce_mean(np.asarray(serie_entrainement_y))\n",
        "std = tf.math.reduce_std(np.asarray((serie_entrainement_y)))\n",
        "\n",
        "# Normalisation des données\n",
        "serie_entrainement_y = (serie_entrainement_y-mean)/std\n",
        "serie_test_y = (serie_test_y-mean)/std"
      ],
      "execution_count": null,
      "outputs": []
    },
    {
      "cell_type": "code",
      "metadata": {
        "id": "uXcAk4BjNyCp"
      },
      "source": [
        "# Affiche la série\n",
        "f1, (ax1, ax2) = plt.subplots(2, 1, figsize=(15, 5))\n",
        "\n",
        "ax1.plot(serie_entrainement_x, label=\"Entrainement\")\n",
        "ax1.plot(serie_test_x,label=\"Validation\")\n",
        "\n",
        "ax2.plot(serie_entrainement_y, label=\"Entrainement (log)\")\n",
        "ax2.plot(serie_test_y,label=\"Validation (log)\")\n",
        "\n",
        "plt.show()"
      ],
      "execution_count": null,
      "outputs": []
    },
    {
      "cell_type": "markdown",
      "metadata": {
        "id": "5Gewbn6bOPTH"
      },
      "source": [
        "**2. Création des datasets**"
      ]
    },
    {
      "cell_type": "code",
      "metadata": {
        "id": "hen7VrB260G_"
      },
      "source": [
        "def prepare_dataset_XY(serie_x,serie_y, taille_fenetre, horizon, batch_size):\n",
        "  dataset_x = tf.data.Dataset.from_tensor_slices(serie_x)\n",
        "  dataset_x = dataset_x.window(taille_fenetre, shift=1, drop_remainder=True)\n",
        "  dataset_x = dataset_x.flat_map(lambda x: x.batch(taille_fenetre))\n",
        "  dataset_x = dataset_x.map(lambda x: tf.expand_dims(x[0:taille_fenetre],axis=1))\n",
        "\n",
        "  dataset_y = tf.data.Dataset.from_tensor_slices(serie_y)\n",
        "  dataset_y = dataset_y.window(taille_fenetre+horizon, shift=1, drop_remainder=True)\n",
        "  dataset_y = dataset_y.flat_map(lambda x: x.batch(taille_fenetre+horizon))\n",
        "  dataset_y = dataset_y.map(lambda x: (x[-1:]))\n",
        "\n",
        "  dataset = tf.data.Dataset.zip((dataset_x,dataset_y))\n",
        "  dataset = dataset.batch(batch_size,drop_remainder=True).prefetch(1)\n",
        "  return dataset"
      ],
      "execution_count": null,
      "outputs": []
    },
    {
      "cell_type": "code",
      "metadata": {
        "id": "BXDZCZF9-0_V"
      },
      "source": [
        "  dataset = dataset.map(lambda x: (tf.expand_dims(x[0:taille_fenetre],axis=1),x[-1:]))"
      ],
      "execution_count": null,
      "outputs": []
    },
    {
      "cell_type": "code",
      "metadata": {
        "id": "oltK9vwW7B1W"
      },
      "source": [
        "x = np.linspace(0,1000,1001)\n",
        "y = np.linspace(1001,2000,1000)"
      ],
      "execution_count": null,
      "outputs": []
    },
    {
      "cell_type": "code",
      "metadata": {
        "id": "vdh-lOfb7fcG"
      },
      "source": [
        "toto = prepare_dataset_XY(x,x,10,1,5)"
      ],
      "execution_count": null,
      "outputs": []
    },
    {
      "cell_type": "code",
      "metadata": {
        "id": "SjZmE59v7lJG"
      },
      "source": [
        "print(len(list(toto.as_numpy_iterator())))\n",
        "for element in toto.take(1):\n",
        "  print(element)"
      ],
      "execution_count": null,
      "outputs": []
    },
    {
      "cell_type": "code",
      "metadata": {
        "id": "0BDjHf5NN--b"
      },
      "source": [
        "# Définition des caractéristiques du dataset que l'on souhaite créer\n",
        "taille_fenetre = 50\n",
        "horizon = 1\n",
        "batch_size = 1000\n",
        "\n",
        "# Création du dataset\n",
        "dataset = prepare_dataset_XY(serie_entrainement_x,serie_entrainement_y,taille_fenetre,horizon,batch_size)\n",
        "dataset_val = prepare_dataset_XY(serie_test_x,serie_test_y,taille_fenetre,horizon,batch_size)"
      ],
      "execution_count": null,
      "outputs": []
    },
    {
      "cell_type": "code",
      "metadata": {
        "id": "3c_BOKBJQksv"
      },
      "source": [
        "print(len(list(dataset.as_numpy_iterator())))\n",
        "for element in dataset.take(1):\n",
        "  print(element[0].shape)\n",
        "  print(element[1].shape)"
      ],
      "execution_count": null,
      "outputs": []
    },
    {
      "cell_type": "markdown",
      "metadata": {
        "id": "3VpY_YzzQRy9"
      },
      "source": [
        "On extrait maintenant les deux tenseurs (X,Y) pour l'entrainement :"
      ]
    },
    {
      "cell_type": "code",
      "metadata": {
        "id": "iwEhjWtWOdFf"
      },
      "source": [
        "# Extrait les X,Y du dataset\n",
        "#56x((1000,50,1),(1000,1)) => (56*1000,50,1) ; (56*1000,1)\n",
        "\n",
        "x,y = tuple(zip(*dataset))\n",
        "\n",
        "# Recombine les données\n",
        "# (56,1000,50,1) => (56*1000,50,1)\n",
        "# (56,1000,1) => (56*1000,1)\n",
        "x_train = np.asarray(tf.reshape(np.asarray(x,dtype=np.float32),shape=(np.asarray(x).shape[0]*np.asarray(x).shape[1],taille_fenetre,1)))\n",
        "y_train = np.asarray(tf.reshape(np.asarray(y,dtype=np.float32),shape=(np.asarray(y).shape[0]*np.asarray(y).shape[1])))\n",
        "\n",
        "# Affiche les formats\n",
        "print(x_train.shape)\n",
        "print(y_train.shape)"
      ],
      "execution_count": null,
      "outputs": []
    },
    {
      "cell_type": "markdown",
      "metadata": {
        "id": "T70G6av-jV1r"
      },
      "source": [
        "Puis la même chose pour les données de validation :"
      ]
    },
    {
      "cell_type": "code",
      "metadata": {
        "id": "WNIUOBLJjVQr"
      },
      "source": [
        "# Extrait les X,Y du dataset_val\n",
        "\n",
        "x,y = tuple(zip(*dataset_val))\n",
        "\n",
        "# Recombine les données\n",
        "\n",
        "x_val = np.asarray(tf.reshape(np.asarray(x,dtype=np.float32),shape=(np.asarray(x).shape[0]*np.asarray(x).shape[1],taille_fenetre,1)))\n",
        "y_val = np.asarray(tf.reshape(np.asarray(y,dtype=np.float32),shape=(np.asarray(y).shape[0]*np.asarray(y).shape[1])))\n",
        "\n",
        "# Affiche les formats\n",
        "print(x_val.shape)\n",
        "print(y_val.shape)"
      ],
      "execution_count": null,
      "outputs": []
    },
    {
      "cell_type": "markdown",
      "metadata": {
        "id": "083QISTMM3AM"
      },
      "source": [
        "# Optimisation des hyperparamètres"
      ]
    },
    {
      "cell_type": "markdown",
      "metadata": {
        "id": "2VzGM7ODMf8e"
      },
      "source": [
        "**1. Création de la série horaire pour l'optimisation des hyperparamètres**"
      ]
    },
    {
      "cell_type": "code",
      "metadata": {
        "id": "mKW0cGrbMl7u"
      },
      "source": [
        "# Définition des dates de début et de fin\n",
        "\n",
        "date_debut = \"2020-01-01 00:00:00\"\n",
        "date_fin = \"2021-03-31 00:00:00\"\n",
        "\n",
        "serie_opti = serie_etude['Open'].loc[date_debut:date_fin].copy()\n",
        "serie_opti"
      ],
      "execution_count": null,
      "outputs": []
    },
    {
      "cell_type": "code",
      "metadata": {
        "id": "yJy04evcNBST"
      },
      "source": [
        "# Affiche la série\n",
        "plt.figure(figsize=(15,5))\n",
        "plt.plot(serie_opti)\n",
        "plt.title(\"Evolution du prix du BTC\")"
      ],
      "execution_count": null,
      "outputs": []
    },
    {
      "cell_type": "markdown",
      "metadata": {
        "id": "_K5rZtb0Nc8-"
      },
      "source": [
        "**1. Préparation des données**"
      ]
    },
    {
      "cell_type": "markdown",
      "metadata": {
        "id": "JP9rTvLRhrsq"
      },
      "source": [
        "On normalise les données :"
      ]
    },
    {
      "cell_type": "code",
      "metadata": {
        "id": "dYoSqpbuhFHQ"
      },
      "source": [
        "# Calcul de la moyenne et de l'écart type de la série\n",
        "mean = tf.math.reduce_mean(np.asarray(serie_opti))\n",
        "std = tf.math.reduce_std(np.asarray((serie_opti)))\n",
        "\n",
        "# Normalisation des données\n",
        "serie_opti = (serie_opti-mean)/std"
      ],
      "execution_count": null,
      "outputs": []
    },
    {
      "cell_type": "markdown",
      "metadata": {
        "id": "AB4yOw4Ohwvw"
      },
      "source": [
        "**2. Création du dataset**"
      ]
    },
    {
      "cell_type": "code",
      "metadata": {
        "id": "pCBTKbgkhzL-"
      },
      "source": [
        "# Fonction permettant de créer un dataset à partir des données de la série temporelle\n",
        "\n",
        "def prepare_dataset_XY(serie, taille_fenetre, horizon, batch_size):\n",
        "  dataset = tf.data.Dataset.from_tensor_slices(serie)\n",
        "  dataset = dataset.window(taille_fenetre+horizon, shift=1, drop_remainder=True)\n",
        "  dataset = dataset.flat_map(lambda x: x.batch(taille_fenetre + horizon))\n",
        "  dataset = dataset.map(lambda x: (tf.expand_dims(x[0:taille_fenetre],axis=1),x[-1:]))\n",
        "  dataset = dataset.batch(batch_size,drop_remainder=True).prefetch(1)\n",
        "  return dataset\n",
        "\n",
        "# Définition des caractéristiques du dataset que l'on souhaite créer\n",
        "taille_fenetre = 4\n",
        "horizon = 1\n",
        "batch_size = 32\n",
        "\n",
        "# Création du dataset\n",
        "dataset = prepare_dataset_XY(serie_entrainement,taille_fenetre,horizon,batch_size)"
      ],
      "execution_count": null,
      "outputs": []
    },
    {
      "cell_type": "code",
      "metadata": {
        "id": "HyzkXx5eh_To"
      },
      "source": [
        "print(len(list(dataset.as_numpy_iterator())))\n",
        "for element in dataset.take(1):\n",
        "  print(element[0].shape)\n",
        "  print(element[1].shape)"
      ],
      "execution_count": null,
      "outputs": []
    },
    {
      "cell_type": "markdown",
      "metadata": {
        "id": "Gt06fAi0iz0m"
      },
      "source": [
        "On extriat maintenant les données X et les labels Y du dataset :"
      ]
    },
    {
      "cell_type": "code",
      "metadata": {
        "id": "Qt19cKylizLA"
      },
      "source": [
        "# Extrait les X,Y du dataset\n",
        "# 272x((32,4,1),(32,1)) => (272*32,4,1) ; (272*32,1)\n",
        "\n",
        "x,y = tuple(zip(*dataset))\n",
        "\n",
        "# Recombine les données\n",
        "# (272,32,4,1) => (272*32,4,1)\n",
        "# (272,32,1) => (272*32,1)\n",
        "x_train = np.asarray(tf.reshape(np.asarray(x,dtype=np.float32),shape=(np.asarray(x).shape[0]*np.asarray(x).shape[1],taille_fenetre,1)))\n",
        "y_train = np.asarray(tf.reshape(np.asarray(y,dtype=np.float32),shape=(np.asarray(y).shape[0]*np.asarray(y).shape[1],1)))\n",
        "\n",
        "# Affiche les formats\n",
        "print(x_train.shape)\n",
        "print(y_train.shape)"
      ],
      "execution_count": null,
      "outputs": []
    },
    {
      "cell_type": "markdown",
      "metadata": {
        "id": "zUpvJmTQiNk-"
      },
      "source": [
        "**3. Définition du modèle**"
      ]
    },
    {
      "cell_type": "markdown",
      "metadata": {
        "id": "AuAyb8pciUle"
      },
      "source": [
        "Dans le modèle, les paramètres dim_LSTM, l1_reg, l2_reg seront optimisés :"
      ]
    },
    {
      "cell_type": "code",
      "metadata": {
        "id": "uCFNM5i2iP0Q"
      },
      "source": [
        "def ModelLSTM(dim_LSTM = 10, l1_reg=0, l2_reg=0):\n",
        "\n",
        "  entrees = tf.keras.layers.Input(shape=(taille_fenetre,1))\n",
        "\n",
        "  # Encodeur\n",
        "  s_encodeur = tf.keras.layers.LSTM(dim_LSTM, kernel_regularizer=tf.keras.regularizers.l1_l2(l1=l1_reg,l2=l2_reg))(entrees)\n",
        "  \n",
        "  # Générateur\n",
        "  sortie = tf.keras.layers.Dense(1,kernel_regularizer=tf.keras.regularizers.l1_l2(l1=l1_reg,l2=l2_reg))(s_encodeur)\n",
        "\n",
        "  # Construction du modèle\n",
        "  model = tf.keras.Model(entrees,sortie)\n",
        "  model.compile(loss='mse', optimizer='adam')\n",
        "  return(model)"
      ],
      "execution_count": null,
      "outputs": []
    },
    {
      "cell_type": "markdown",
      "metadata": {
        "id": "xYTuqrcYii9w"
      },
      "source": [
        "**4. Cross-validation**"
      ]
    },
    {
      "cell_type": "code",
      "metadata": {
        "id": "CVCNBdgcihuv"
      },
      "source": [
        "from keras.callbacks import EarlyStopping\n",
        "from keras.wrappers.scikit_learn import KerasRegressor\n",
        "from sklearn.model_selection import KFold, TimeSeriesSplit, GridSearchCV\n",
        "\n",
        "# Définitions des paramètres\n",
        "dim_LSTM = [5,10,15,20,30,40]\n",
        "l1_reg = [0,0.001,0.01,0.1]\n",
        "l2_reg = [0,0.001,0.01,0.1]\n",
        "batch_size = [32]\n",
        "\n",
        "param_grid = {'dim_LSTM': dim_LSTM, 'l1_reg': l1_reg, 'l2_reg': l2_reg, 'batch_size': batch_size}\n",
        "param_grid = {'dim_LSTM': dim_LSTM, 'batch_size': batch_size}\n",
        "\n",
        "max_periodes = 5\n",
        "\n",
        "# Surveillance de l'entrainement\n",
        "es = EarlyStopping(monitor='loss', mode='min', verbose=1, patience=50, min_delta=1e-7, restore_best_weights=True)\n",
        "\n",
        "\n",
        "tscv = TimeSeriesSplit(n_splits = 5)\n",
        "model = KerasRegressor(build_fn=ModelLSTM, epochs=max_periodes, verbose=2)\n",
        "grid = GridSearchCV(estimator=model, param_grid=param_grid, cv=tscv, n_jobs=-1, verbose=3)\n",
        "\n",
        "grid_result = grid.fit(x_train, y_train,callbacks=[es])"
      ],
      "execution_count": null,
      "outputs": []
    },
    {
      "cell_type": "code",
      "metadata": {
        "id": "kWTWBh8DjJpP"
      },
      "source": [
        "# Affiche les résultats\n",
        "print(\"Meilleur résultat : %f avec %s\" % (grid_result.best_score_, grid_result.best_params_))\n",
        "means = grid_result.cv_results_['mean_test_score']\n",
        "stds = grid_result.cv_results_['std_test_score']\n",
        "params_ = grid_result.cv_results_['params']\n",
        "for mean, stdev, param_ in zip(means, stds, params_):\n",
        "  print(\"%f (%f) with %r\" % (mean, stdev, param_))"
      ],
      "execution_count": null,
      "outputs": []
    },
    {
      "cell_type": "markdown",
      "metadata": {
        "id": "UHfiXLFZhrPs"
      },
      "source": [
        "# Création du modèle LSTM de type encodeur-décodeur"
      ]
    },
    {
      "cell_type": "markdown",
      "metadata": {
        "id": "Nd9AzWFtjnjs"
      },
      "source": [
        "**1. Création du réseau**"
      ]
    },
    {
      "cell_type": "markdown",
      "metadata": {
        "id": "x9OCzL7UjAhL"
      },
      "source": [
        "Par défaut, la dimension des vecteurs cachés est de 10 et aucune régularisation n'est utilisée."
      ]
    },
    {
      "cell_type": "code",
      "metadata": {
        "id": "SnFw_FPPhxiE",
        "colab": {
          "base_uri": "https://localhost:8080/"
        },
        "outputId": "21184422-dc81-4c44-cd81-7bb90d83b026"
      },
      "source": [
        "dim_LSTM = 500\n",
        "l1_reg = 0.0\n",
        "l2_reg = 0.0\n",
        "\n",
        "# Définition de l'entrée du modèle\n",
        "entrees = tf.keras.layers.Input(shape=(taille_fenetre,1),batch_size=batch_size)\n",
        "\n",
        "# Encodeur\n",
        "s_encodeur = tf.keras.layers.LSTM(dim_LSTM, kernel_regularizer=tf.keras.regularizers.l1_l2(l1=l1_reg,l2=l2_reg),stateful=True)(entrees)\n",
        "\n",
        "# Décodeur\n",
        "s_decodeur = tf.keras.layers.Dense(dim_LSTM,activation=\"tanh\",kernel_regularizer=tf.keras.regularizers.l1_l2(l1=l1_reg,l2=l2_reg))(s_encodeur)\n",
        "s_decodeur = tf.keras.layers.Concatenate()([s_decodeur,s_encodeur])\n",
        "\n",
        "# Générateur\n",
        "sortie = tf.keras.layers.Dense(1,kernel_regularizer=tf.keras.regularizers.l1_l2(l1=l1_reg,l2=l2_reg))(s_decodeur)\n",
        "\n",
        "# Construction du modèle\n",
        "model = tf.keras.Model(entrees,sortie)\n",
        "model.summary()"
      ],
      "execution_count": null,
      "outputs": [
        {
          "output_type": "stream",
          "text": [
            "Model: \"model_4\"\n",
            "__________________________________________________________________________________________________\n",
            "Layer (type)                    Output Shape         Param #     Connected to                     \n",
            "==================================================================================================\n",
            "input_6 (InputLayer)            [(100, 500, 1)]      0                                            \n",
            "__________________________________________________________________________________________________\n",
            "lstm_5 (LSTM)                   (100, 500)           1004000     input_6[0][0]                    \n",
            "__________________________________________________________________________________________________\n",
            "dense_8 (Dense)                 (100, 500)           250500      lstm_5[0][0]                     \n",
            "__________________________________________________________________________________________________\n",
            "concatenate_4 (Concatenate)     (100, 1000)          0           dense_8[0][0]                    \n",
            "                                                                 lstm_5[0][0]                     \n",
            "__________________________________________________________________________________________________\n",
            "dense_9 (Dense)                 (100, 1)             1001        concatenate_4[0][0]              \n",
            "==================================================================================================\n",
            "Total params: 1,255,501\n",
            "Trainable params: 1,255,501\n",
            "Non-trainable params: 0\n",
            "__________________________________________________________________________________________________\n"
          ],
          "name": "stdout"
        }
      ]
    },
    {
      "cell_type": "markdown",
      "metadata": {
        "id": "_azfJaeUo2nU"
      },
      "source": [
        "**2. Optimisation de l'apprentissage**"
      ]
    },
    {
      "cell_type": "markdown",
      "metadata": {
        "id": "Pf3lwaQBnjxL"
      },
      "source": [
        "Pour accélérer le traitement des données, nous n'allons pas utiliser l'intégralité des données pendant la mise à jour du gradient, comme cela a été fait jusqu'à présent (en utilisant le dataset).  \n",
        "Cette fois-ci, nous allons forcer les mises à jour du gradient à se produire de manière moins fréquente en attribuant la valeur du batch_size à prendre en compte lors de la regression du modèle.  \n",
        "Pour cela, on utilise l'argument \"batch_size\" dans la méthode fit. En précisant un batch_size=1000, cela signifie que :\n",
        " - Sur notre total de 56000 échantillons, 56 seront utilisés pour les calculs du gradient\n",
        " - Il y aura également 56 itérations à chaque période.\n",
        "  \n",
        "    \n",
        "    \n",
        "Si nous avions pris le dataset comme entrée, nous aurions eu :\n",
        "- Un total de 56000 échantillons également\n",
        "- Chaque période aurait également pris 56 itérations pour se compléter\n",
        "- Mais 1000 échantillons auraient été utilisés pour le calcul du gradient, au lieu de 56 avec la méthode utilisée."
      ]
    },
    {
      "cell_type": "code",
      "metadata": {
        "id": "K6Z35rNWj5SA"
      },
      "source": [
        "# Définition de la fonction de régulation du taux d'apprentissage\n",
        "def RegulationTauxApprentissage(periode, taux):\n",
        "  return 1e-8*10**(periode/10)\n",
        "\n",
        "# Définition de l'optimiseur à utiliser\n",
        "optimiseur=tf.keras.optimizers.SGD()\n",
        "\n",
        "# Compile le modèle\n",
        "model.compile(loss=\"mse\", optimizer=optimiseur, metrics=\"mse\")\n",
        "\n",
        "# Utilisation de la méthode ModelCheckPoint\n",
        "CheckPoint = tf.keras.callbacks.ModelCheckpoint(\"poids.hdf5\", monitor='loss', verbose=1, save_best_only=True, save_weights_only = True, mode='auto', save_freq='epoch')\n",
        "\n",
        "# Entraine le modèle en utilisant notre fonction personnelle de régulation du taux d'apprentissage\n",
        "historique = model.fit(x=x_train,y=y_train,epochs=100,verbose=1, callbacks=[tf.keras.callbacks.LearningRateScheduler(RegulationTauxApprentissage), CheckPoint],batch_size=batch_size)"
      ],
      "execution_count": null,
      "outputs": []
    },
    {
      "cell_type": "code",
      "metadata": {
        "id": "u2aP9J3TkNGG"
      },
      "source": [
        "# Construit un vecteur avec les valeurs du taux d'apprentissage à chaque période \n",
        "taux = 1e-8*(10**(np.arange(100)/10))\n",
        "\n",
        "# Affiche l'erreur en fonction du taux d'apprentissage\n",
        "plt.figure(figsize=(10, 6))\n",
        "plt.semilogx(taux,historique.history[\"loss\"])\n",
        "plt.axis([ taux[0], taux[99], 0, 1])\n",
        "plt.title(\"Evolution de l'erreur en fonction du taux d'apprentissage\")"
      ],
      "execution_count": null,
      "outputs": []
    },
    {
      "cell_type": "code",
      "metadata": {
        "id": "cZxCgpuYkQ2Q"
      },
      "source": [
        "# Chargement des poids sauvegardés\n",
        "model.load_weights(\"poids.hdf5\")"
      ],
      "execution_count": null,
      "outputs": []
    },
    {
      "cell_type": "code",
      "metadata": {
        "id": "zmdbo23qkTKE",
        "colab": {
          "base_uri": "https://localhost:8080/",
          "height": 1000
        },
        "outputId": "7abaa392-6ea9-46ff-bd82-960e6d111a08"
      },
      "source": [
        "max_periodes = 10000\n",
        "\n",
        "# Classe permettant d'arrêter l'entrainement si la variation\n",
        "# devient plus petite qu'une valeur à choisir sur un nombre\n",
        "# de périodes à choisir\n",
        "class StopTrain(keras.callbacks.Callback):\n",
        "    def __init__(self, delta=0.01,periodes=100, term=\"loss\", logs={}):\n",
        "      self.n_periodes = 0\n",
        "      self.periodes = periodes\n",
        "      self.loss_1 = 100\n",
        "      self.delta = delta\n",
        "      self.term = term\n",
        "    def on_epoch_end(self, epoch, logs={}):\n",
        "      diff_loss = abs(self.loss_1 - logs[self.term])\n",
        "      self.loss_1 = logs[self.term]\n",
        "      if (diff_loss < self.delta):\n",
        "        self.n_periodes = self.n_periodes + 1\n",
        "      else:\n",
        "        self.n_periodes = 0\n",
        "      if (self.n_periodes == self.periodes):\n",
        "        print(\"Arrêt de l'entrainement...\")\n",
        "        self.model.stop_training = True\n",
        "\n",
        "def  My_MSE(y_true,y_pred):\n",
        "  return(tf.keras.metrics.mse(y_true,y_pred)*std.numpy()+mean.numpy())\n",
        "  \n",
        "# Définition des paramètres liés à l'évolution du taux d'apprentissage\n",
        "lr_schedule = tf.keras.optimizers.schedules.InverseTimeDecay(\n",
        "    initial_learning_rate=0.001,\n",
        "    decay_steps=10,\n",
        "    decay_rate=0.01)\n",
        "\n",
        "# Définition de l'optimiseur à utiliser\n",
        "optimiseur=tf.keras.optimizers.Adam(learning_rate=lr_schedule)\n",
        "\n",
        "\n",
        "# Utilisation de la méthode ModelCheckPoint\n",
        "CheckPoint = tf.keras.callbacks.ModelCheckpoint(\"poids_train.hdf5\", monitor='loss', verbose=1, save_best_only=True, save_weights_only = True, mode='auto', save_freq='epoch')\n",
        "\n",
        "# Compile le modèle\n",
        "model.compile(loss=\"mse\", optimizer=optimiseur, metrics=[\"mse\",My_MSE])\n",
        "\n",
        "# Entraine le modèle, avec une réduction des calculs du gradient\n",
        "#historique = model.fit(x=x_train,y=y_train,validation_data=(x_val,y_val), epochs=max_periodes,verbose=1, callbacks=[CheckPoint,StopTrain(delta=1e-7,periodes = 10, term=\"My_MSE\")],batch_size=batch_size)\n",
        "\n",
        "# Entraine le modèle sans réduction de calculs\n",
        "historique = model.fit(dataset,validation_data=dataset_val, epochs=max_periodes,verbose=1, callbacks=[CheckPoint,StopTrain(delta=1e-8,periodes = 10, term=\"val_My_MSE\")])\n"
      ],
      "execution_count": null,
      "outputs": [
        {
          "output_type": "stream",
          "text": [
            "Epoch 1/10000\n",
            "      6/Unknown - 2s 104ms/step - loss: 2.9279 - mse: 2.9279 - My_MSE: 0.0288WARNING:tensorflow:Callback method `on_train_batch_end` is slow compared to the batch time (batch time: 0.0428s vs `on_train_batch_end` time: 0.0616s). Check your callbacks.\n",
            "555/555 [==============================] - 63s 111ms/step - loss: 1.0617 - mse: 1.0617 - My_MSE: 0.0105 - val_loss: 0.5896 - val_mse: 0.5896 - val_My_MSE: 0.0058\n",
            "\n",
            "Epoch 00001: loss improved from inf to 0.77471, saving model to poids_train.hdf5\n",
            "Epoch 2/10000\n",
            "555/555 [==============================] - 62s 111ms/step - loss: 1.0507 - mse: 1.0507 - My_MSE: 0.0103 - val_loss: 0.5893 - val_mse: 0.5893 - val_My_MSE: 0.0058\n",
            "\n",
            "Epoch 00002: loss improved from 0.77471 to 0.77075, saving model to poids_train.hdf5\n",
            "Epoch 3/10000\n",
            "555/555 [==============================] - 62s 111ms/step - loss: 1.0451 - mse: 1.0451 - My_MSE: 0.0103 - val_loss: 0.5879 - val_mse: 0.5879 - val_My_MSE: 0.0058\n",
            "\n",
            "Epoch 00003: loss improved from 0.77075 to 0.76795, saving model to poids_train.hdf5\n",
            "Epoch 4/10000\n",
            "555/555 [==============================] - 62s 111ms/step - loss: 1.0389 - mse: 1.0389 - My_MSE: 0.0102 - val_loss: 0.5871 - val_mse: 0.5871 - val_My_MSE: 0.0058\n",
            "\n",
            "Epoch 00004: loss improved from 0.76795 to 0.76564, saving model to poids_train.hdf5\n",
            "Epoch 5/10000\n",
            "555/555 [==============================] - 62s 112ms/step - loss: 1.0549 - mse: 1.0549 - My_MSE: 0.0104 - val_loss: 0.5903 - val_mse: 0.5903 - val_My_MSE: 0.0058\n",
            "\n",
            "Epoch 00005: loss did not improve from 0.76564\n",
            "Epoch 6/10000\n",
            "555/555 [==============================] - 62s 112ms/step - loss: 1.0327 - mse: 1.0327 - My_MSE: 0.0102 - val_loss: 0.5928 - val_mse: 0.5928 - val_My_MSE: 0.0058\n",
            "\n",
            "Epoch 00006: loss improved from 0.76564 to 0.76222, saving model to poids_train.hdf5\n",
            "Epoch 7/10000\n",
            "555/555 [==============================] - 62s 111ms/step - loss: 1.0252 - mse: 1.0252 - My_MSE: 0.0101 - val_loss: 0.5964 - val_mse: 0.5964 - val_My_MSE: 0.0059\n",
            "\n",
            "Epoch 00007: loss improved from 0.76222 to 0.75873, saving model to poids_train.hdf5\n",
            "Epoch 8/10000\n",
            "555/555 [==============================] - 62s 111ms/step - loss: 1.0201 - mse: 1.0201 - My_MSE: 0.0100 - val_loss: 0.5996 - val_mse: 0.5996 - val_My_MSE: 0.0059\n",
            "\n",
            "Epoch 00008: loss improved from 0.75873 to 0.75622, saving model to poids_train.hdf5\n",
            "Epoch 9/10000\n",
            "555/555 [==============================] - 62s 111ms/step - loss: 1.0157 - mse: 1.0157 - My_MSE: 0.0100 - val_loss: 0.6021 - val_mse: 0.6021 - val_My_MSE: 0.0059\n",
            "\n",
            "Epoch 00009: loss improved from 0.75622 to 0.75396, saving model to poids_train.hdf5\n",
            "Epoch 10/10000\n",
            "555/555 [==============================] - 62s 111ms/step - loss: 1.0114 - mse: 1.0114 - My_MSE: 0.0100 - val_loss: 0.6030 - val_mse: 0.6030 - val_My_MSE: 0.0059\n",
            "\n",
            "Epoch 00010: loss improved from 0.75396 to 0.75124, saving model to poids_train.hdf5\n",
            "Epoch 11/10000\n",
            "555/555 [==============================] - 62s 111ms/step - loss: 1.0082 - mse: 1.0082 - My_MSE: 0.0099 - val_loss: 0.6117 - val_mse: 0.6117 - val_My_MSE: 0.0060\n",
            "\n",
            "Epoch 00011: loss improved from 0.75124 to 0.74897, saving model to poids_train.hdf5\n",
            "Epoch 12/10000\n",
            "555/555 [==============================] - 62s 111ms/step - loss: 0.9997 - mse: 0.9997 - My_MSE: 0.0098 - val_loss: 0.6349 - val_mse: 0.6349 - val_My_MSE: 0.0063\n",
            "\n",
            "Epoch 00012: loss improved from 0.74897 to 0.74546, saving model to poids_train.hdf5\n",
            "Epoch 13/10000\n",
            "555/555 [==============================] - 62s 112ms/step - loss: 0.9938 - mse: 0.9938 - My_MSE: 0.0098 - val_loss: 0.6122 - val_mse: 0.6122 - val_My_MSE: 0.0060\n",
            "\n",
            "Epoch 00013: loss improved from 0.74546 to 0.74350, saving model to poids_train.hdf5\n",
            "Epoch 14/10000\n",
            "555/555 [==============================] - 62s 111ms/step - loss: 0.9887 - mse: 0.9887 - My_MSE: 0.0097 - val_loss: 0.6105 - val_mse: 0.6105 - val_My_MSE: 0.0060\n",
            "\n",
            "Epoch 00014: loss improved from 0.74350 to 0.74084, saving model to poids_train.hdf5\n",
            "Epoch 15/10000\n",
            "555/555 [==============================] - 61s 111ms/step - loss: 0.9785 - mse: 0.9785 - My_MSE: 0.0096 - val_loss: 0.6274 - val_mse: 0.6274 - val_My_MSE: 0.0062\n",
            "\n",
            "Epoch 00015: loss improved from 0.74084 to 0.73674, saving model to poids_train.hdf5\n",
            "Epoch 16/10000\n",
            "555/555 [==============================] - 62s 111ms/step - loss: 0.9788 - mse: 0.9788 - My_MSE: 0.0096 - val_loss: 0.6180 - val_mse: 0.6180 - val_My_MSE: 0.0061\n",
            "\n",
            "Epoch 00016: loss improved from 0.73674 to 0.73574, saving model to poids_train.hdf5\n",
            "Epoch 17/10000\n",
            "555/555 [==============================] - 62s 111ms/step - loss: 0.9655 - mse: 0.9655 - My_MSE: 0.0095 - val_loss: 0.6044 - val_mse: 0.6044 - val_My_MSE: 0.0060\n",
            "\n",
            "Epoch 00017: loss improved from 0.73574 to 0.73103, saving model to poids_train.hdf5\n",
            "Epoch 18/10000\n",
            "555/555 [==============================] - 62s 111ms/step - loss: 0.9673 - mse: 0.9673 - My_MSE: 0.0095 - val_loss: 0.6059 - val_mse: 0.6059 - val_My_MSE: 0.0060\n",
            "\n",
            "Epoch 00018: loss did not improve from 0.73103\n",
            "Epoch 19/10000\n",
            "555/555 [==============================] - 61s 111ms/step - loss: 0.9522 - mse: 0.9522 - My_MSE: 0.0094 - val_loss: 0.6264 - val_mse: 0.6264 - val_My_MSE: 0.0062\n",
            "\n",
            "Epoch 00019: loss improved from 0.73103 to 0.72426, saving model to poids_train.hdf5\n",
            "Epoch 20/10000\n",
            "555/555 [==============================] - 62s 111ms/step - loss: 0.9498 - mse: 0.9498 - My_MSE: 0.0094 - val_loss: 0.6189 - val_mse: 0.6189 - val_My_MSE: 0.0061\n",
            "\n",
            "Epoch 00020: loss improved from 0.72426 to 0.72330, saving model to poids_train.hdf5\n",
            "Epoch 21/10000\n",
            "555/555 [==============================] - 61s 111ms/step - loss: 0.9397 - mse: 0.9397 - My_MSE: 0.0093 - val_loss: 0.6259 - val_mse: 0.6259 - val_My_MSE: 0.0062\n",
            "\n",
            "Epoch 00021: loss improved from 0.72330 to 0.71952, saving model to poids_train.hdf5\n",
            "Epoch 22/10000\n",
            "555/555 [==============================] - 61s 111ms/step - loss: 0.9417 - mse: 0.9417 - My_MSE: 0.0093 - val_loss: 0.5954 - val_mse: 0.5954 - val_My_MSE: 0.0059\n",
            "\n",
            "Epoch 00022: loss did not improve from 0.71952\n",
            "Epoch 23/10000\n",
            "555/555 [==============================] - 62s 111ms/step - loss: 0.9322 - mse: 0.9322 - My_MSE: 0.0092 - val_loss: 0.6088 - val_mse: 0.6088 - val_My_MSE: 0.0060\n",
            "\n",
            "Epoch 00023: loss improved from 0.71952 to 0.71649, saving model to poids_train.hdf5\n",
            "Epoch 24/10000\n",
            "555/555 [==============================] - 62s 111ms/step - loss: 0.9377 - mse: 0.9377 - My_MSE: 0.0092 - val_loss: 0.6179 - val_mse: 0.6179 - val_My_MSE: 0.0061\n",
            "\n",
            "Epoch 00024: loss did not improve from 0.71649\n",
            "Epoch 25/10000\n",
            "555/555 [==============================] - 61s 111ms/step - loss: 0.9176 - mse: 0.9176 - My_MSE: 0.0090 - val_loss: 0.6116 - val_mse: 0.6116 - val_My_MSE: 0.0060\n",
            "\n",
            "Epoch 00025: loss improved from 0.71649 to 0.70962, saving model to poids_train.hdf5\n",
            "Epoch 26/10000\n",
            "555/555 [==============================] - 62s 111ms/step - loss: 0.9278 - mse: 0.9278 - My_MSE: 0.0091 - val_loss: 0.6061 - val_mse: 0.6061 - val_My_MSE: 0.0060\n",
            "\n",
            "Epoch 00026: loss did not improve from 0.70962\n",
            "Epoch 27/10000\n",
            "555/555 [==============================] - 62s 111ms/step - loss: 0.9106 - mse: 0.9106 - My_MSE: 0.0090 - val_loss: 0.6034 - val_mse: 0.6034 - val_My_MSE: 0.0059\n",
            "\n",
            "Epoch 00027: loss improved from 0.70962 to 0.70758, saving model to poids_train.hdf5\n",
            "Epoch 28/10000\n",
            "555/555 [==============================] - 62s 111ms/step - loss: 0.9005 - mse: 0.9005 - My_MSE: 0.0089 - val_loss: 0.6140 - val_mse: 0.6140 - val_My_MSE: 0.0060\n",
            "\n",
            "Epoch 00028: loss improved from 0.70758 to 0.70311, saving model to poids_train.hdf5\n",
            "Epoch 29/10000\n",
            "555/555 [==============================] - 62s 111ms/step - loss: 0.9023 - mse: 0.9023 - My_MSE: 0.0089 - val_loss: 0.5908 - val_mse: 0.5908 - val_My_MSE: 0.0058\n",
            "\n",
            "Epoch 00029: loss did not improve from 0.70311\n",
            "Epoch 30/10000\n",
            "555/555 [==============================] - 62s 111ms/step - loss: 0.8983 - mse: 0.8983 - My_MSE: 0.0088 - val_loss: 0.6052 - val_mse: 0.6052 - val_My_MSE: 0.0060\n",
            "\n",
            "Epoch 00030: loss improved from 0.70311 to 0.70163, saving model to poids_train.hdf5\n",
            "Epoch 31/10000\n",
            "555/555 [==============================] - 62s 111ms/step - loss: 0.8965 - mse: 0.8965 - My_MSE: 0.0088 - val_loss: 0.6038 - val_mse: 0.6038 - val_My_MSE: 0.0059\n",
            "\n",
            "Epoch 00031: loss did not improve from 0.70163\n",
            "Epoch 32/10000\n",
            "555/555 [==============================] - 62s 111ms/step - loss: 0.8925 - mse: 0.8925 - My_MSE: 0.0088 - val_loss: 0.6034 - val_mse: 0.6034 - val_My_MSE: 0.0059\n",
            "\n",
            "Epoch 00032: loss improved from 0.70163 to 0.70006, saving model to poids_train.hdf5\n",
            "Epoch 33/10000\n",
            "555/555 [==============================] - 62s 111ms/step - loss: 0.8811 - mse: 0.8811 - My_MSE: 0.0087 - val_loss: 0.6041 - val_mse: 0.6041 - val_My_MSE: 0.0060\n",
            "\n",
            "Epoch 00033: loss improved from 0.70006 to 0.69594, saving model to poids_train.hdf5\n",
            "Epoch 34/10000\n",
            "555/555 [==============================] - 62s 111ms/step - loss: 0.8846 - mse: 0.8846 - My_MSE: 0.0087 - val_loss: 0.6058 - val_mse: 0.6058 - val_My_MSE: 0.0060\n",
            "\n",
            "Epoch 00034: loss did not improve from 0.69594\n",
            "Epoch 35/10000\n",
            "555/555 [==============================] - 62s 111ms/step - loss: 0.8760 - mse: 0.8760 - My_MSE: 0.0086 - val_loss: 0.6089 - val_mse: 0.6089 - val_My_MSE: 0.0060\n",
            "\n",
            "Epoch 00035: loss improved from 0.69594 to 0.69275, saving model to poids_train.hdf5\n",
            "Epoch 36/10000\n",
            "555/555 [==============================] - 62s 111ms/step - loss: 0.8827 - mse: 0.8827 - My_MSE: 0.0087 - val_loss: 0.6074 - val_mse: 0.6074 - val_My_MSE: 0.0060\n",
            "\n",
            "Epoch 00036: loss did not improve from 0.69275\n",
            "Epoch 37/10000\n",
            "555/555 [==============================] - 62s 111ms/step - loss: 0.8651 - mse: 0.8651 - My_MSE: 0.0085 - val_loss: 0.6128 - val_mse: 0.6128 - val_My_MSE: 0.0060\n",
            "\n",
            "Epoch 00037: loss improved from 0.69275 to 0.68814, saving model to poids_train.hdf5\n",
            "Epoch 38/10000\n",
            "555/555 [==============================] - 62s 111ms/step - loss: 0.8672 - mse: 0.8672 - My_MSE: 0.0085 - val_loss: 0.6059 - val_mse: 0.6059 - val_My_MSE: 0.0060\n",
            "\n",
            "Epoch 00038: loss did not improve from 0.68814\n",
            "Epoch 39/10000\n",
            "555/555 [==============================] - 62s 111ms/step - loss: 0.8829 - mse: 0.8829 - My_MSE: 0.0087 - val_loss: 0.6052 - val_mse: 0.6052 - val_My_MSE: 0.0060\n",
            "\n",
            "Epoch 00039: loss did not improve from 0.68814\n",
            "Epoch 40/10000\n",
            "555/555 [==============================] - 62s 111ms/step - loss: 0.8582 - mse: 0.8582 - My_MSE: 0.0085 - val_loss: 0.6064 - val_mse: 0.6064 - val_My_MSE: 0.0060\n",
            "\n",
            "Epoch 00040: loss improved from 0.68814 to 0.68475, saving model to poids_train.hdf5\n",
            "Epoch 41/10000\n",
            "555/555 [==============================] - 62s 111ms/step - loss: 0.8517 - mse: 0.8517 - My_MSE: 0.0084 - val_loss: 0.6089 - val_mse: 0.6089 - val_My_MSE: 0.0060\n",
            "\n",
            "Epoch 00041: loss improved from 0.68475 to 0.68304, saving model to poids_train.hdf5\n",
            "Epoch 42/10000\n",
            "555/555 [==============================] - 62s 111ms/step - loss: 0.8423 - mse: 0.8423 - My_MSE: 0.0083 - val_loss: 0.6109 - val_mse: 0.6109 - val_My_MSE: 0.0060\n",
            "\n",
            "Epoch 00042: loss improved from 0.68304 to 0.67958, saving model to poids_train.hdf5\n",
            "Epoch 43/10000\n",
            "555/555 [==============================] - 61s 111ms/step - loss: 0.8497 - mse: 0.8497 - My_MSE: 0.0084 - val_loss: 0.6121 - val_mse: 0.6121 - val_My_MSE: 0.0060\n",
            "\n",
            "Epoch 00043: loss did not improve from 0.67958\n",
            "Epoch 44/10000\n",
            "555/555 [==============================] - 61s 110ms/step - loss: 0.8457 - mse: 0.8457 - My_MSE: 0.0083 - val_loss: 0.6084 - val_mse: 0.6084 - val_My_MSE: 0.0060\n",
            "\n",
            "Epoch 00044: loss did not improve from 0.67958\n",
            "Epoch 45/10000\n",
            "555/555 [==============================] - 61s 110ms/step - loss: 0.8395 - mse: 0.8395 - My_MSE: 0.0083 - val_loss: 0.6166 - val_mse: 0.6166 - val_My_MSE: 0.0061\n",
            "\n",
            "Epoch 00045: loss improved from 0.67958 to 0.67596, saving model to poids_train.hdf5\n",
            "Epoch 46/10000\n",
            "555/555 [==============================] - 62s 111ms/step - loss: 0.8345 - mse: 0.8345 - My_MSE: 0.0082 - val_loss: 0.6049 - val_mse: 0.6049 - val_My_MSE: 0.0060\n",
            "\n",
            "Epoch 00046: loss improved from 0.67596 to 0.67339, saving model to poids_train.hdf5\n",
            "Epoch 47/10000\n",
            "555/555 [==============================] - 62s 112ms/step - loss: 0.8344 - mse: 0.8344 - My_MSE: 0.0082 - val_loss: 0.6119 - val_mse: 0.6119 - val_My_MSE: 0.0060\n",
            "\n",
            "Epoch 00047: loss did not improve from 0.67339\n",
            "Epoch 48/10000\n",
            "555/555 [==============================] - 62s 111ms/step - loss: 0.8269 - mse: 0.8269 - My_MSE: 0.0081 - val_loss: 0.6069 - val_mse: 0.6069 - val_My_MSE: 0.0060\n",
            "\n",
            "Epoch 00048: loss improved from 0.67339 to 0.67062, saving model to poids_train.hdf5\n",
            "Epoch 49/10000\n",
            "555/555 [==============================] - 61s 111ms/step - loss: 0.8290 - mse: 0.8290 - My_MSE: 0.0082 - val_loss: 0.6083 - val_mse: 0.6083 - val_My_MSE: 0.0060\n",
            "\n",
            "Epoch 00049: loss did not improve from 0.67062\n",
            "Epoch 50/10000\n",
            "555/555 [==============================] - 62s 111ms/step - loss: 0.8194 - mse: 0.8194 - My_MSE: 0.0081 - val_loss: 0.6192 - val_mse: 0.6192 - val_My_MSE: 0.0061\n",
            "\n",
            "Epoch 00050: loss improved from 0.67062 to 0.66656, saving model to poids_train.hdf5\n",
            "Epoch 51/10000\n",
            "555/555 [==============================] - 61s 110ms/step - loss: 0.8242 - mse: 0.8242 - My_MSE: 0.0081 - val_loss: 0.6096 - val_mse: 0.6096 - val_My_MSE: 0.0060\n",
            "\n",
            "Epoch 00051: loss did not improve from 0.66656\n",
            "Epoch 52/10000\n",
            "555/555 [==============================] - 62s 111ms/step - loss: 0.8326 - mse: 0.8326 - My_MSE: 0.0082 - val_loss: 0.6142 - val_mse: 0.6142 - val_My_MSE: 0.0061\n",
            "\n",
            "Epoch 00052: loss did not improve from 0.66656\n",
            "Epoch 53/10000\n",
            "555/555 [==============================] - 61s 111ms/step - loss: 0.8165 - mse: 0.8165 - My_MSE: 0.0080 - val_loss: 0.6090 - val_mse: 0.6090 - val_My_MSE: 0.0060\n",
            "\n",
            "Epoch 00053: loss improved from 0.66656 to 0.66411, saving model to poids_train.hdf5\n",
            "Epoch 54/10000\n",
            "555/555 [==============================] - 61s 111ms/step - loss: 0.8098 - mse: 0.8098 - My_MSE: 0.0080 - val_loss: 0.6161 - val_mse: 0.6161 - val_My_MSE: 0.0061\n",
            "\n",
            "Epoch 00054: loss improved from 0.66411 to 0.66158, saving model to poids_train.hdf5\n",
            "Epoch 55/10000\n",
            "555/555 [==============================] - 61s 110ms/step - loss: 0.8111 - mse: 0.8111 - My_MSE: 0.0080 - val_loss: 0.6102 - val_mse: 0.6102 - val_My_MSE: 0.0060\n",
            "\n",
            "Epoch 00055: loss did not improve from 0.66158\n",
            "Epoch 56/10000\n",
            "555/555 [==============================] - 61s 111ms/step - loss: 0.8078 - mse: 0.8078 - My_MSE: 0.0080 - val_loss: 0.6099 - val_mse: 0.6099 - val_My_MSE: 0.0060\n",
            "\n",
            "Epoch 00056: loss improved from 0.66158 to 0.66073, saving model to poids_train.hdf5\n",
            "Epoch 57/10000\n",
            "555/555 [==============================] - 61s 111ms/step - loss: 0.8136 - mse: 0.8136 - My_MSE: 0.0080 - val_loss: 0.6229 - val_mse: 0.6229 - val_My_MSE: 0.0061\n",
            "\n",
            "Epoch 00057: loss did not improve from 0.66073\n",
            "Epoch 58/10000\n",
            "555/555 [==============================] - 61s 111ms/step - loss: 0.8108 - mse: 0.8108 - My_MSE: 0.0080 - val_loss: 0.6213 - val_mse: 0.6213 - val_My_MSE: 0.0061\n",
            "\n",
            "Epoch 00058: loss improved from 0.66073 to 0.66057, saving model to poids_train.hdf5\n",
            "Epoch 59/10000\n",
            "555/555 [==============================] - 62s 111ms/step - loss: 0.8035 - mse: 0.8035 - My_MSE: 0.0079 - val_loss: 0.6143 - val_mse: 0.6143 - val_My_MSE: 0.0061\n",
            "\n",
            "Epoch 00059: loss improved from 0.66057 to 0.65762, saving model to poids_train.hdf5\n",
            "Epoch 60/10000\n",
            "555/555 [==============================] - 61s 111ms/step - loss: 0.8015 - mse: 0.8015 - My_MSE: 0.0079 - val_loss: 0.6139 - val_mse: 0.6139 - val_My_MSE: 0.0060\n",
            "\n",
            "Epoch 00060: loss improved from 0.65762 to 0.65649, saving model to poids_train.hdf5\n",
            "Epoch 61/10000\n",
            "555/555 [==============================] - 62s 111ms/step - loss: 0.8035 - mse: 0.8035 - My_MSE: 0.0079 - val_loss: 0.6220 - val_mse: 0.6220 - val_My_MSE: 0.0061\n",
            "\n",
            "Epoch 00061: loss did not improve from 0.65649\n",
            "Epoch 62/10000\n",
            "555/555 [==============================] - 61s 111ms/step - loss: 0.8021 - mse: 0.8021 - My_MSE: 0.0079 - val_loss: 0.6056 - val_mse: 0.6056 - val_My_MSE: 0.0060\n",
            "\n",
            "Epoch 00062: loss improved from 0.65649 to 0.65644, saving model to poids_train.hdf5\n",
            "Epoch 63/10000\n",
            "555/555 [==============================] - 62s 111ms/step - loss: 0.8054 - mse: 0.8054 - My_MSE: 0.0079 - val_loss: 0.6197 - val_mse: 0.6197 - val_My_MSE: 0.0061\n",
            "\n",
            "Epoch 00063: loss did not improve from 0.65644\n",
            "Epoch 64/10000\n",
            "555/555 [==============================] - 61s 111ms/step - loss: 0.8004 - mse: 0.8004 - My_MSE: 0.0079 - val_loss: 0.6237 - val_mse: 0.6237 - val_My_MSE: 0.0061\n",
            "\n",
            "Epoch 00064: loss improved from 0.65644 to 0.65456, saving model to poids_train.hdf5\n",
            "Epoch 65/10000\n",
            "555/555 [==============================] - 61s 110ms/step - loss: 0.8034 - mse: 0.8034 - My_MSE: 0.0079 - val_loss: 0.6183 - val_mse: 0.6183 - val_My_MSE: 0.0061\n",
            "\n",
            "Epoch 00065: loss did not improve from 0.65456\n",
            "Epoch 66/10000\n",
            "555/555 [==============================] - 61s 111ms/step - loss: 0.8050 - mse: 0.8050 - My_MSE: 0.0079 - val_loss: 0.6118 - val_mse: 0.6118 - val_My_MSE: 0.0060\n",
            "\n",
            "Epoch 00066: loss did not improve from 0.65456\n",
            "Epoch 67/10000\n",
            "555/555 [==============================] - 62s 111ms/step - loss: 0.7994 - mse: 0.7994 - My_MSE: 0.0079 - val_loss: 0.6155 - val_mse: 0.6155 - val_My_MSE: 0.0061\n",
            "\n",
            "Epoch 00067: loss improved from 0.65456 to 0.65404, saving model to poids_train.hdf5\n",
            "Epoch 68/10000\n",
            "555/555 [==============================] - 62s 111ms/step - loss: 0.7923 - mse: 0.7923 - My_MSE: 0.0078 - val_loss: 0.6175 - val_mse: 0.6175 - val_My_MSE: 0.0061\n",
            "\n",
            "Epoch 00068: loss improved from 0.65404 to 0.65014, saving model to poids_train.hdf5\n",
            "Epoch 69/10000\n",
            "555/555 [==============================] - 61s 110ms/step - loss: 0.7861 - mse: 0.7861 - My_MSE: 0.0077 - val_loss: 0.6141 - val_mse: 0.6141 - val_My_MSE: 0.0060\n",
            "\n",
            "Epoch 00069: loss improved from 0.65014 to 0.64812, saving model to poids_train.hdf5\n",
            "Epoch 70/10000\n",
            "555/555 [==============================] - 62s 111ms/step - loss: 0.7874 - mse: 0.7874 - My_MSE: 0.0078 - val_loss: 0.6170 - val_mse: 0.6170 - val_My_MSE: 0.0061\n",
            "\n",
            "Epoch 00070: loss did not improve from 0.64812\n",
            "Epoch 71/10000\n",
            "555/555 [==============================] - 62s 111ms/step - loss: 0.7938 - mse: 0.7938 - My_MSE: 0.0078 - val_loss: 0.6133 - val_mse: 0.6133 - val_My_MSE: 0.0060\n",
            "\n",
            "Epoch 00071: loss did not improve from 0.64812\n",
            "Epoch 72/10000\n",
            "555/555 [==============================] - 62s 112ms/step - loss: 0.7966 - mse: 0.7966 - My_MSE: 0.0078 - val_loss: 0.6100 - val_mse: 0.6100 - val_My_MSE: 0.0060\n",
            "\n",
            "Epoch 00072: loss did not improve from 0.64812\n",
            "Epoch 73/10000\n",
            "555/555 [==============================] - 62s 112ms/step - loss: 0.7893 - mse: 0.7893 - My_MSE: 0.0078 - val_loss: 0.6219 - val_mse: 0.6219 - val_My_MSE: 0.0061\n",
            "\n",
            "Epoch 00073: loss did not improve from 0.64812\n",
            "Epoch 74/10000\n",
            "555/555 [==============================] - 61s 111ms/step - loss: 0.7857 - mse: 0.7857 - My_MSE: 0.0077 - val_loss: 0.6180 - val_mse: 0.6180 - val_My_MSE: 0.0061\n",
            "\n",
            "Epoch 00074: loss improved from 0.64812 to 0.64686, saving model to poids_train.hdf5\n",
            "Epoch 75/10000\n",
            "555/555 [==============================] - 62s 111ms/step - loss: 0.7806 - mse: 0.7806 - My_MSE: 0.0077 - val_loss: 0.6144 - val_mse: 0.6144 - val_My_MSE: 0.0061\n",
            "\n",
            "Epoch 00075: loss improved from 0.64686 to 0.64469, saving model to poids_train.hdf5\n",
            "Epoch 76/10000\n",
            "555/555 [==============================] - 61s 111ms/step - loss: 0.7816 - mse: 0.7816 - My_MSE: 0.0077 - val_loss: 0.6161 - val_mse: 0.6161 - val_My_MSE: 0.0061\n",
            "\n",
            "Epoch 00076: loss did not improve from 0.64469\n",
            "Epoch 77/10000\n",
            "555/555 [==============================] - 62s 111ms/step - loss: 0.7787 - mse: 0.7787 - My_MSE: 0.0077 - val_loss: 0.6092 - val_mse: 0.6092 - val_My_MSE: 0.0060\n",
            "\n",
            "Epoch 00077: loss improved from 0.64469 to 0.64417, saving model to poids_train.hdf5\n",
            "Epoch 78/10000\n",
            "555/555 [==============================] - 62s 111ms/step - loss: 0.7848 - mse: 0.7848 - My_MSE: 0.0077 - val_loss: 0.6244 - val_mse: 0.6244 - val_My_MSE: 0.0062\n",
            "\n",
            "Epoch 00078: loss did not improve from 0.64417\n",
            "Epoch 79/10000\n",
            "555/555 [==============================] - 62s 111ms/step - loss: 0.7787 - mse: 0.7787 - My_MSE: 0.0077 - val_loss: 0.6138 - val_mse: 0.6138 - val_My_MSE: 0.0060\n",
            "\n",
            "Epoch 00079: loss improved from 0.64417 to 0.64331, saving model to poids_train.hdf5\n",
            "Epoch 80/10000\n",
            "555/555 [==============================] - 61s 111ms/step - loss: 0.7821 - mse: 0.7821 - My_MSE: 0.0077 - val_loss: 0.6187 - val_mse: 0.6187 - val_My_MSE: 0.0061\n",
            "\n",
            "Epoch 00080: loss improved from 0.64331 to 0.64330, saving model to poids_train.hdf5\n",
            "Epoch 81/10000\n",
            "555/555 [==============================] - 61s 110ms/step - loss: 0.7736 - mse: 0.7736 - My_MSE: 0.0076 - val_loss: 0.6156 - val_mse: 0.6156 - val_My_MSE: 0.0061\n",
            "\n",
            "Epoch 00081: loss improved from 0.64330 to 0.64003, saving model to poids_train.hdf5\n",
            "Epoch 82/10000\n",
            "555/555 [==============================] - 62s 111ms/step - loss: 0.7715 - mse: 0.7715 - My_MSE: 0.0076 - val_loss: 0.6134 - val_mse: 0.6134 - val_My_MSE: 0.0060\n",
            "\n",
            "Epoch 00082: loss did not improve from 0.64003\n",
            "Epoch 83/10000\n",
            "555/555 [==============================] - 62s 111ms/step - loss: 0.7757 - mse: 0.7757 - My_MSE: 0.0076 - val_loss: 0.6231 - val_mse: 0.6231 - val_My_MSE: 0.0061\n",
            "\n",
            "Epoch 00083: loss did not improve from 0.64003\n",
            "Epoch 84/10000\n",
            "555/555 [==============================] - 62s 111ms/step - loss: 0.7726 - mse: 0.7726 - My_MSE: 0.0076 - val_loss: 0.6128 - val_mse: 0.6128 - val_My_MSE: 0.0060\n",
            "\n",
            "Epoch 00084: loss improved from 0.64003 to 0.63942, saving model to poids_train.hdf5\n",
            "Epoch 85/10000\n",
            "555/555 [==============================] - 61s 111ms/step - loss: 0.7709 - mse: 0.7709 - My_MSE: 0.0076 - val_loss: 0.6222 - val_mse: 0.6222 - val_My_MSE: 0.0061\n",
            "\n",
            "Epoch 00085: loss improved from 0.63942 to 0.63881, saving model to poids_train.hdf5\n",
            "Epoch 86/10000\n",
            "555/555 [==============================] - 61s 111ms/step - loss: 0.7688 - mse: 0.7688 - My_MSE: 0.0076 - val_loss: 0.6186 - val_mse: 0.6186 - val_My_MSE: 0.0061\n",
            "\n",
            "Epoch 00086: loss improved from 0.63881 to 0.63753, saving model to poids_train.hdf5\n",
            "Epoch 87/10000\n",
            "555/555 [==============================] - 62s 111ms/step - loss: 0.7678 - mse: 0.7678 - My_MSE: 0.0076 - val_loss: 0.6170 - val_mse: 0.6170 - val_My_MSE: 0.0061\n",
            "\n",
            "Epoch 00087: loss improved from 0.63753 to 0.63662, saving model to poids_train.hdf5\n",
            "Epoch 88/10000\n",
            "555/555 [==============================] - 61s 111ms/step - loss: 0.7652 - mse: 0.7652 - My_MSE: 0.0075 - val_loss: 0.6292 - val_mse: 0.6292 - val_My_MSE: 0.0062\n",
            "\n",
            "Epoch 00088: loss improved from 0.63662 to 0.63629, saving model to poids_train.hdf5\n",
            "Epoch 89/10000\n",
            "555/555 [==============================] - 62s 111ms/step - loss: 0.7637 - mse: 0.7637 - My_MSE: 0.0075 - val_loss: 0.6158 - val_mse: 0.6158 - val_My_MSE: 0.0061\n",
            "\n",
            "Epoch 00089: loss improved from 0.63629 to 0.63402, saving model to poids_train.hdf5\n",
            "Epoch 90/10000\n",
            "555/555 [==============================] - 62s 111ms/step - loss: 0.7652 - mse: 0.7652 - My_MSE: 0.0075 - val_loss: 0.6211 - val_mse: 0.6211 - val_My_MSE: 0.0061\n",
            "\n",
            "Epoch 00090: loss did not improve from 0.63402\n",
            "Epoch 91/10000\n",
            "555/555 [==============================] - 62s 111ms/step - loss: 0.7622 - mse: 0.7622 - My_MSE: 0.0075 - val_loss: 0.6235 - val_mse: 0.6235 - val_My_MSE: 0.0061\n",
            "\n",
            "Epoch 00091: loss improved from 0.63402 to 0.63355, saving model to poids_train.hdf5\n",
            "Epoch 92/10000\n",
            "555/555 [==============================] - 62s 111ms/step - loss: 0.7650 - mse: 0.7650 - My_MSE: 0.0075 - val_loss: 0.6143 - val_mse: 0.6143 - val_My_MSE: 0.0061\n",
            "\n",
            "Epoch 00092: loss did not improve from 0.63355\n",
            "Epoch 93/10000\n",
            "555/555 [==============================] - 62s 111ms/step - loss: 0.7675 - mse: 0.7675 - My_MSE: 0.0076 - val_loss: 0.6339 - val_mse: 0.6339 - val_My_MSE: 0.0062\n",
            "\n",
            "Epoch 00093: loss did not improve from 0.63355\n",
            "Epoch 94/10000\n",
            "555/555 [==============================] - 61s 110ms/step - loss: 0.7630 - mse: 0.7630 - My_MSE: 0.0075 - val_loss: 0.6165 - val_mse: 0.6165 - val_My_MSE: 0.0061\n",
            "\n",
            "Epoch 00094: loss improved from 0.63355 to 0.63341, saving model to poids_train.hdf5\n",
            "Epoch 95/10000\n",
            "555/555 [==============================] - 62s 111ms/step - loss: 0.7584 - mse: 0.7584 - My_MSE: 0.0075 - val_loss: 0.6175 - val_mse: 0.6175 - val_My_MSE: 0.0061\n",
            "\n",
            "Epoch 00095: loss improved from 0.63341 to 0.63172, saving model to poids_train.hdf5\n",
            "Epoch 96/10000\n",
            "555/555 [==============================] - 62s 111ms/step - loss: 0.7576 - mse: 0.7576 - My_MSE: 0.0075 - val_loss: 0.6350 - val_mse: 0.6350 - val_My_MSE: 0.0063\n",
            "\n",
            "Epoch 00096: loss improved from 0.63172 to 0.63111, saving model to poids_train.hdf5\n",
            "Epoch 97/10000\n",
            "555/555 [==============================] - 62s 111ms/step - loss: 0.7563 - mse: 0.7563 - My_MSE: 0.0074 - val_loss: 0.6156 - val_mse: 0.6156 - val_My_MSE: 0.0061\n",
            "\n",
            "Epoch 00097: loss improved from 0.63111 to 0.62948, saving model to poids_train.hdf5\n",
            "Epoch 98/10000\n",
            "555/555 [==============================] - 62s 111ms/step - loss: 0.7534 - mse: 0.7534 - My_MSE: 0.0074 - val_loss: 0.6279 - val_mse: 0.6279 - val_My_MSE: 0.0062\n",
            "\n",
            "Epoch 00098: loss improved from 0.62948 to 0.62833, saving model to poids_train.hdf5\n",
            "Epoch 99/10000\n",
            "555/555 [==============================] - 62s 111ms/step - loss: 0.7529 - mse: 0.7529 - My_MSE: 0.0074 - val_loss: 0.6329 - val_mse: 0.6329 - val_My_MSE: 0.0062\n",
            "\n",
            "Epoch 00099: loss improved from 0.62833 to 0.62799, saving model to poids_train.hdf5\n",
            "Epoch 100/10000\n",
            "555/555 [==============================] - 62s 111ms/step - loss: 0.7531 - mse: 0.7531 - My_MSE: 0.0074 - val_loss: 0.6417 - val_mse: 0.6417 - val_My_MSE: 0.0063\n",
            "\n",
            "Epoch 00100: loss did not improve from 0.62799\n",
            "Epoch 101/10000\n",
            "555/555 [==============================] - 62s 111ms/step - loss: 0.7525 - mse: 0.7525 - My_MSE: 0.0074 - val_loss: 0.6256 - val_mse: 0.6256 - val_My_MSE: 0.0062\n",
            "\n",
            "Epoch 00101: loss improved from 0.62799 to 0.62727, saving model to poids_train.hdf5\n",
            "Epoch 102/10000\n",
            "555/555 [==============================] - 61s 111ms/step - loss: 0.7556 - mse: 0.7556 - My_MSE: 0.0074 - val_loss: 0.6376 - val_mse: 0.6376 - val_My_MSE: 0.0063\n",
            "\n",
            "Epoch 00102: loss did not improve from 0.62727\n",
            "Epoch 103/10000\n",
            "555/555 [==============================] - 62s 111ms/step - loss: 0.7537 - mse: 0.7537 - My_MSE: 0.0074 - val_loss: 0.6339 - val_mse: 0.6339 - val_My_MSE: 0.0062\n",
            "\n",
            "Epoch 00103: loss did not improve from 0.62727\n",
            "Epoch 104/10000\n",
            "555/555 [==============================] - 62s 111ms/step - loss: 0.7491 - mse: 0.7491 - My_MSE: 0.0074 - val_loss: 0.6515 - val_mse: 0.6515 - val_My_MSE: 0.0064\n",
            "\n",
            "Epoch 00104: loss improved from 0.62727 to 0.62472, saving model to poids_train.hdf5\n",
            "Epoch 105/10000\n",
            "555/555 [==============================] - 62s 111ms/step - loss: 0.7480 - mse: 0.7480 - My_MSE: 0.0074 - val_loss: 0.6459 - val_mse: 0.6459 - val_My_MSE: 0.0064\n",
            "\n",
            "Epoch 00105: loss improved from 0.62472 to 0.62414, saving model to poids_train.hdf5\n",
            "Epoch 106/10000\n",
            "555/555 [==============================] - 62s 111ms/step - loss: 0.7482 - mse: 0.7482 - My_MSE: 0.0074 - val_loss: 0.6283 - val_mse: 0.6283 - val_My_MSE: 0.0062\n",
            "\n",
            "Epoch 00106: loss did not improve from 0.62414\n",
            "Epoch 107/10000\n",
            "555/555 [==============================] - 62s 112ms/step - loss: 0.7502 - mse: 0.7502 - My_MSE: 0.0074 - val_loss: 0.6644 - val_mse: 0.6644 - val_My_MSE: 0.0065\n",
            "\n",
            "Epoch 00107: loss did not improve from 0.62414\n",
            "Epoch 108/10000\n",
            "555/555 [==============================] - 62s 111ms/step - loss: 0.7495 - mse: 0.7495 - My_MSE: 0.0074 - val_loss: 0.6425 - val_mse: 0.6425 - val_My_MSE: 0.0063\n",
            "\n",
            "Epoch 00108: loss did not improve from 0.62414\n",
            "Epoch 109/10000\n",
            "555/555 [==============================] - 62s 111ms/step - loss: 0.7496 - mse: 0.7496 - My_MSE: 0.0074 - val_loss: 0.6542 - val_mse: 0.6542 - val_My_MSE: 0.0064\n",
            "\n",
            "Epoch 00109: loss improved from 0.62414 to 0.62369, saving model to poids_train.hdf5\n",
            "Epoch 110/10000\n",
            "555/555 [==============================] - 62s 111ms/step - loss: 0.7430 - mse: 0.7430 - My_MSE: 0.0073 - val_loss: 0.6517 - val_mse: 0.6517 - val_My_MSE: 0.0064\n",
            "\n",
            "Epoch 00110: loss improved from 0.62369 to 0.62177, saving model to poids_train.hdf5\n",
            "Epoch 111/10000\n",
            "555/555 [==============================] - 62s 111ms/step - loss: 0.7404 - mse: 0.7404 - My_MSE: 0.0073 - val_loss: 0.6441 - val_mse: 0.6441 - val_My_MSE: 0.0063\n",
            "\n",
            "Epoch 00111: loss improved from 0.62177 to 0.62008, saving model to poids_train.hdf5\n",
            "Epoch 112/10000\n",
            "555/555 [==============================] - 62s 111ms/step - loss: 0.7409 - mse: 0.7409 - My_MSE: 0.0073 - val_loss: 0.6390 - val_mse: 0.6390 - val_My_MSE: 0.0063\n",
            "\n",
            "Epoch 00112: loss did not improve from 0.62008\n",
            "Epoch 113/10000\n",
            "555/555 [==============================] - 62s 111ms/step - loss: 0.7418 - mse: 0.7418 - My_MSE: 0.0073 - val_loss: 0.6635 - val_mse: 0.6635 - val_My_MSE: 0.0065\n",
            "\n",
            "Epoch 00113: loss did not improve from 0.62008\n",
            "Epoch 114/10000\n",
            "555/555 [==============================] - 62s 111ms/step - loss: 0.7443 - mse: 0.7443 - My_MSE: 0.0073 - val_loss: 0.6364 - val_mse: 0.6364 - val_My_MSE: 0.0063\n",
            "\n",
            "Epoch 00114: loss did not improve from 0.62008\n",
            "Epoch 115/10000\n",
            "555/555 [==============================] - 62s 111ms/step - loss: 0.7412 - mse: 0.7412 - My_MSE: 0.0073 - val_loss: 0.6618 - val_mse: 0.6618 - val_My_MSE: 0.0065\n",
            "\n",
            "Epoch 00115: loss did not improve from 0.62008\n",
            "Epoch 116/10000\n",
            "555/555 [==============================] - 62s 111ms/step - loss: 0.7405 - mse: 0.7405 - My_MSE: 0.0073 - val_loss: 0.6514 - val_mse: 0.6514 - val_My_MSE: 0.0064\n",
            "\n",
            "Epoch 00116: loss improved from 0.62008 to 0.61811, saving model to poids_train.hdf5\n",
            "Epoch 117/10000\n",
            "555/555 [==============================] - 62s 111ms/step - loss: 0.7355 - mse: 0.7355 - My_MSE: 0.0072 - val_loss: 0.6500 - val_mse: 0.6500 - val_My_MSE: 0.0064\n",
            "\n",
            "Epoch 00117: loss improved from 0.61811 to 0.61685, saving model to poids_train.hdf5\n",
            "Epoch 118/10000\n",
            "555/555 [==============================] - 62s 111ms/step - loss: 0.7351 - mse: 0.7351 - My_MSE: 0.0072 - val_loss: 0.6582 - val_mse: 0.6582 - val_My_MSE: 0.0065\n",
            "\n",
            "Epoch 00118: loss did not improve from 0.61685\n",
            "Epoch 119/10000\n",
            "555/555 [==============================] - 62s 111ms/step - loss: 0.7339 - mse: 0.7339 - My_MSE: 0.0072 - val_loss: 0.6558 - val_mse: 0.6558 - val_My_MSE: 0.0065\n",
            "\n",
            "Epoch 00119: loss improved from 0.61685 to 0.61670, saving model to poids_train.hdf5\n",
            "Epoch 120/10000\n",
            "555/555 [==============================] - 62s 111ms/step - loss: 0.7343 - mse: 0.7343 - My_MSE: 0.0072 - val_loss: 0.6500 - val_mse: 0.6500 - val_My_MSE: 0.0064\n",
            "\n",
            "Epoch 00120: loss improved from 0.61670 to 0.61621, saving model to poids_train.hdf5\n",
            "Epoch 121/10000\n",
            "555/555 [==============================] - 62s 111ms/step - loss: 0.7351 - mse: 0.7351 - My_MSE: 0.0072 - val_loss: 0.6716 - val_mse: 0.6716 - val_My_MSE: 0.0066\n",
            "\n",
            "Epoch 00121: loss improved from 0.61621 to 0.61586, saving model to poids_train.hdf5\n",
            "Epoch 122/10000\n",
            "555/555 [==============================] - 62s 111ms/step - loss: 0.7373 - mse: 0.7373 - My_MSE: 0.0073 - val_loss: 0.6573 - val_mse: 0.6573 - val_My_MSE: 0.0065\n",
            "\n",
            "Epoch 00122: loss did not improve from 0.61586\n",
            "Epoch 123/10000\n",
            "555/555 [==============================] - 62s 111ms/step - loss: 0.7340 - mse: 0.7340 - My_MSE: 0.0072 - val_loss: 0.6604 - val_mse: 0.6604 - val_My_MSE: 0.0065\n",
            "\n",
            "Epoch 00123: loss improved from 0.61586 to 0.61526, saving model to poids_train.hdf5\n",
            "Epoch 124/10000\n",
            "555/555 [==============================] - 61s 111ms/step - loss: 0.7321 - mse: 0.7321 - My_MSE: 0.0072 - val_loss: 0.6677 - val_mse: 0.6677 - val_My_MSE: 0.0066\n",
            "\n",
            "Epoch 00124: loss improved from 0.61526 to 0.61444, saving model to poids_train.hdf5\n",
            "Epoch 125/10000\n",
            "555/555 [==============================] - 62s 111ms/step - loss: 0.7317 - mse: 0.7317 - My_MSE: 0.0072 - val_loss: 0.6510 - val_mse: 0.6510 - val_My_MSE: 0.0064\n",
            "\n",
            "Epoch 00125: loss did not improve from 0.61444\n",
            "Epoch 126/10000\n",
            "555/555 [==============================] - 62s 111ms/step - loss: 0.7398 - mse: 0.7398 - My_MSE: 0.0073 - val_loss: 0.6755 - val_mse: 0.6755 - val_My_MSE: 0.0067\n",
            "\n",
            "Epoch 00126: loss did not improve from 0.61444\n",
            "Epoch 127/10000\n",
            "555/555 [==============================] - 62s 111ms/step - loss: 0.7315 - mse: 0.7315 - My_MSE: 0.0072 - val_loss: 0.6530 - val_mse: 0.6530 - val_My_MSE: 0.0064\n",
            "\n",
            "Epoch 00127: loss improved from 0.61444 to 0.61357, saving model to poids_train.hdf5\n",
            "Epoch 128/10000\n",
            "555/555 [==============================] - 62s 111ms/step - loss: 0.7285 - mse: 0.7285 - My_MSE: 0.0072 - val_loss: 0.6718 - val_mse: 0.6718 - val_My_MSE: 0.0066\n",
            "\n",
            "Epoch 00128: loss improved from 0.61357 to 0.61218, saving model to poids_train.hdf5\n",
            "Epoch 129/10000\n",
            "555/555 [==============================] - 62s 111ms/step - loss: 0.7321 - mse: 0.7321 - My_MSE: 0.0072 - val_loss: 0.6561 - val_mse: 0.6561 - val_My_MSE: 0.0065\n",
            "\n",
            "Epoch 00129: loss did not improve from 0.61218\n",
            "Epoch 130/10000\n",
            "555/555 [==============================] - 62s 111ms/step - loss: 0.7305 - mse: 0.7305 - My_MSE: 0.0072 - val_loss: 0.6741 - val_mse: 0.6741 - val_My_MSE: 0.0066\n",
            "\n",
            "Epoch 00130: loss improved from 0.61218 to 0.61164, saving model to poids_train.hdf5\n",
            "Epoch 131/10000\n",
            "555/555 [==============================] - 62s 111ms/step - loss: 0.7272 - mse: 0.7272 - My_MSE: 0.0072 - val_loss: 0.6626 - val_mse: 0.6626 - val_My_MSE: 0.0065\n",
            "\n",
            "Epoch 00131: loss improved from 0.61164 to 0.61072, saving model to poids_train.hdf5\n",
            "Epoch 132/10000\n",
            "555/555 [==============================] - 62s 111ms/step - loss: 0.7238 - mse: 0.7238 - My_MSE: 0.0071 - val_loss: 0.6651 - val_mse: 0.6651 - val_My_MSE: 0.0066\n",
            "\n",
            "Epoch 00132: loss improved from 0.61072 to 0.60933, saving model to poids_train.hdf5\n",
            "Epoch 133/10000\n",
            "555/555 [==============================] - 62s 111ms/step - loss: 0.7284 - mse: 0.7284 - My_MSE: 0.0072 - val_loss: 0.6618 - val_mse: 0.6618 - val_My_MSE: 0.0065\n",
            "\n",
            "Epoch 00133: loss did not improve from 0.60933\n",
            "Epoch 134/10000\n",
            "555/555 [==============================] - 62s 111ms/step - loss: 0.7308 - mse: 0.7308 - My_MSE: 0.0072 - val_loss: 0.6682 - val_mse: 0.6682 - val_My_MSE: 0.0066\n",
            "\n",
            "Epoch 00134: loss did not improve from 0.60933\n",
            "Epoch 135/10000\n",
            "555/555 [==============================] - 62s 111ms/step - loss: 0.7274 - mse: 0.7274 - My_MSE: 0.0072 - val_loss: 0.6685 - val_mse: 0.6685 - val_My_MSE: 0.0066\n",
            "\n",
            "Epoch 00135: loss did not improve from 0.60933\n",
            "Epoch 136/10000\n",
            "555/555 [==============================] - 62s 111ms/step - loss: 0.7218 - mse: 0.7218 - My_MSE: 0.0071 - val_loss: 0.6771 - val_mse: 0.6771 - val_My_MSE: 0.0067\n",
            "\n",
            "Epoch 00136: loss improved from 0.60933 to 0.60782, saving model to poids_train.hdf5\n",
            "Epoch 137/10000\n",
            "555/555 [==============================] - 62s 111ms/step - loss: 0.7246 - mse: 0.7246 - My_MSE: 0.0071 - val_loss: 0.6663 - val_mse: 0.6663 - val_My_MSE: 0.0066\n",
            "\n",
            "Epoch 00137: loss did not improve from 0.60782\n",
            "Epoch 138/10000\n",
            "555/555 [==============================] - 62s 111ms/step - loss: 0.7204 - mse: 0.7204 - My_MSE: 0.0071 - val_loss: 0.6719 - val_mse: 0.6719 - val_My_MSE: 0.0066\n",
            "\n",
            "Epoch 00138: loss improved from 0.60782 to 0.60643, saving model to poids_train.hdf5\n",
            "Epoch 139/10000\n",
            "555/555 [==============================] - 62s 111ms/step - loss: 0.7198 - mse: 0.7198 - My_MSE: 0.0071 - val_loss: 0.6773 - val_mse: 0.6773 - val_My_MSE: 0.0067\n",
            "\n",
            "Epoch 00139: loss improved from 0.60643 to 0.60617, saving model to poids_train.hdf5\n",
            "Epoch 140/10000\n",
            "555/555 [==============================] - 62s 111ms/step - loss: 0.7225 - mse: 0.7225 - My_MSE: 0.0071 - val_loss: 0.6633 - val_mse: 0.6633 - val_My_MSE: 0.0065\n",
            "\n",
            "Epoch 00140: loss did not improve from 0.60617\n",
            "Epoch 141/10000\n",
            "555/555 [==============================] - 61s 111ms/step - loss: 0.7264 - mse: 0.7264 - My_MSE: 0.0072 - val_loss: 0.6840 - val_mse: 0.6840 - val_My_MSE: 0.0067\n",
            "\n",
            "Epoch 00141: loss did not improve from 0.60617\n",
            "Epoch 142/10000\n",
            "555/555 [==============================] - 62s 111ms/step - loss: 0.7212 - mse: 0.7212 - My_MSE: 0.0071 - val_loss: 0.6646 - val_mse: 0.6646 - val_My_MSE: 0.0065\n",
            "\n",
            "Epoch 00142: loss did not improve from 0.60617\n",
            "Epoch 143/10000\n",
            "555/555 [==============================] - 62s 111ms/step - loss: 0.7168 - mse: 0.7168 - My_MSE: 0.0071 - val_loss: 0.6662 - val_mse: 0.6662 - val_My_MSE: 0.0066\n",
            "\n",
            "Epoch 00143: loss improved from 0.60617 to 0.60441, saving model to poids_train.hdf5\n",
            "Epoch 144/10000\n",
            "555/555 [==============================] - 62s 111ms/step - loss: 0.7175 - mse: 0.7175 - My_MSE: 0.0071 - val_loss: 0.6854 - val_mse: 0.6854 - val_My_MSE: 0.0068\n",
            "\n",
            "Epoch 00144: loss did not improve from 0.60441\n",
            "Epoch 145/10000\n",
            "555/555 [==============================] - 62s 111ms/step - loss: 0.7194 - mse: 0.7194 - My_MSE: 0.0071 - val_loss: 0.6742 - val_mse: 0.6742 - val_My_MSE: 0.0066\n",
            "\n",
            "Epoch 00145: loss did not improve from 0.60441\n",
            "Epoch 146/10000\n",
            "555/555 [==============================] - 62s 111ms/step - loss: 0.7182 - mse: 0.7182 - My_MSE: 0.0071 - val_loss: 0.6690 - val_mse: 0.6690 - val_My_MSE: 0.0066\n",
            "\n",
            "Epoch 00146: loss did not improve from 0.60441\n",
            "Epoch 147/10000\n",
            "555/555 [==============================] - 62s 111ms/step - loss: 0.7164 - mse: 0.7164 - My_MSE: 0.0071 - val_loss: 0.6778 - val_mse: 0.6778 - val_My_MSE: 0.0067\n",
            "\n",
            "Epoch 00147: loss did not improve from 0.60441\n",
            "Epoch 148/10000\n",
            "555/555 [==============================] - 62s 111ms/step - loss: 0.7132 - mse: 0.7132 - My_MSE: 0.0070 - val_loss: 0.6662 - val_mse: 0.6662 - val_My_MSE: 0.0066\n",
            "\n",
            "Epoch 00148: loss improved from 0.60441 to 0.60219, saving model to poids_train.hdf5\n",
            "Epoch 149/10000\n",
            "555/555 [==============================] - 61s 111ms/step - loss: 0.7139 - mse: 0.7139 - My_MSE: 0.0070 - val_loss: 0.6769 - val_mse: 0.6769 - val_My_MSE: 0.0067\n",
            "\n",
            "Epoch 00149: loss improved from 0.60219 to 0.60170, saving model to poids_train.hdf5\n",
            "Epoch 150/10000\n",
            "555/555 [==============================] - 62s 111ms/step - loss: 0.7124 - mse: 0.7124 - My_MSE: 0.0070 - val_loss: 0.6841 - val_mse: 0.6841 - val_My_MSE: 0.0067\n",
            "\n",
            "Epoch 00150: loss did not improve from 0.60170\n",
            "Epoch 151/10000\n",
            "555/555 [==============================] - 62s 111ms/step - loss: 0.7170 - mse: 0.7170 - My_MSE: 0.0071 - val_loss: 0.6652 - val_mse: 0.6652 - val_My_MSE: 0.0066\n",
            "\n",
            "Epoch 00151: loss did not improve from 0.60170\n",
            "Epoch 152/10000\n",
            "555/555 [==============================] - 62s 111ms/step - loss: 0.7145 - mse: 0.7145 - My_MSE: 0.0070 - val_loss: 0.6816 - val_mse: 0.6816 - val_My_MSE: 0.0067\n",
            "\n",
            "Epoch 00152: loss did not improve from 0.60170\n",
            "Epoch 153/10000\n",
            "555/555 [==============================] - 62s 112ms/step - loss: 0.7103 - mse: 0.7103 - My_MSE: 0.0070 - val_loss: 0.6625 - val_mse: 0.6625 - val_My_MSE: 0.0065\n",
            "\n",
            "Epoch 00153: loss improved from 0.60170 to 0.60026, saving model to poids_train.hdf5\n",
            "Epoch 154/10000\n",
            "555/555 [==============================] - 62s 111ms/step - loss: 0.7105 - mse: 0.7105 - My_MSE: 0.0070 - val_loss: 0.6842 - val_mse: 0.6842 - val_My_MSE: 0.0067\n",
            "\n",
            "Epoch 00154: loss did not improve from 0.60026\n",
            "Epoch 155/10000\n",
            "555/555 [==============================] - 62s 111ms/step - loss: 0.7115 - mse: 0.7115 - My_MSE: 0.0070 - val_loss: 0.6723 - val_mse: 0.6723 - val_My_MSE: 0.0066\n",
            "\n",
            "Epoch 00155: loss did not improve from 0.60026\n",
            "Epoch 156/10000\n",
            "555/555 [==============================] - 61s 111ms/step - loss: 0.7116 - mse: 0.7116 - My_MSE: 0.0070 - val_loss: 0.6766 - val_mse: 0.6766 - val_My_MSE: 0.0067\n",
            "\n",
            "Epoch 00156: loss improved from 0.60026 to 0.59990, saving model to poids_train.hdf5\n",
            "Epoch 157/10000\n",
            "555/555 [==============================] - 62s 111ms/step - loss: 0.7096 - mse: 0.7096 - My_MSE: 0.0070 - val_loss: 0.6711 - val_mse: 0.6711 - val_My_MSE: 0.0066\n",
            "\n",
            "Epoch 00157: loss improved from 0.59990 to 0.59918, saving model to poids_train.hdf5\n",
            "Epoch 158/10000\n",
            "555/555 [==============================] - 62s 112ms/step - loss: 0.7103 - mse: 0.7103 - My_MSE: 0.0070 - val_loss: 0.6793 - val_mse: 0.6793 - val_My_MSE: 0.0067\n",
            "\n",
            "Epoch 00158: loss improved from 0.59918 to 0.59884, saving model to poids_train.hdf5\n",
            "Epoch 159/10000\n",
            "555/555 [==============================] - 62s 111ms/step - loss: 0.7083 - mse: 0.7083 - My_MSE: 0.0070 - val_loss: 0.6691 - val_mse: 0.6691 - val_My_MSE: 0.0066\n",
            "\n",
            "Epoch 00159: loss improved from 0.59884 to 0.59797, saving model to poids_train.hdf5\n",
            "Epoch 160/10000\n",
            "555/555 [==============================] - 62s 111ms/step - loss: 0.7062 - mse: 0.7062 - My_MSE: 0.0070 - val_loss: 0.6765 - val_mse: 0.6765 - val_My_MSE: 0.0067\n",
            "\n",
            "Epoch 00160: loss improved from 0.59797 to 0.59715, saving model to poids_train.hdf5\n",
            "Epoch 161/10000\n",
            "555/555 [==============================] - 61s 111ms/step - loss: 0.7053 - mse: 0.7053 - My_MSE: 0.0069 - val_loss: 0.6712 - val_mse: 0.6712 - val_My_MSE: 0.0066\n",
            "\n",
            "Epoch 00161: loss improved from 0.59715 to 0.59707, saving model to poids_train.hdf5\n",
            "Epoch 162/10000\n",
            "555/555 [==============================] - 62s 111ms/step - loss: 0.7088 - mse: 0.7088 - My_MSE: 0.0070 - val_loss: 0.6842 - val_mse: 0.6842 - val_My_MSE: 0.0067\n",
            "\n",
            "Epoch 00162: loss did not improve from 0.59707\n",
            "Epoch 163/10000\n",
            "555/555 [==============================] - 62s 111ms/step - loss: 0.7157 - mse: 0.7157 - My_MSE: 0.0071 - val_loss: 0.6659 - val_mse: 0.6659 - val_My_MSE: 0.0066\n",
            "\n",
            "Epoch 00163: loss did not improve from 0.59707\n",
            "Epoch 164/10000\n",
            "555/555 [==============================] - 62s 111ms/step - loss: 0.7089 - mse: 0.7089 - My_MSE: 0.0070 - val_loss: 0.6775 - val_mse: 0.6775 - val_My_MSE: 0.0067\n",
            "\n",
            "Epoch 00164: loss improved from 0.59707 to 0.59698, saving model to poids_train.hdf5\n",
            "Epoch 165/10000\n",
            "555/555 [==============================] - 62s 111ms/step - loss: 0.7044 - mse: 0.7044 - My_MSE: 0.0069 - val_loss: 0.6718 - val_mse: 0.6718 - val_My_MSE: 0.0066\n",
            "\n",
            "Epoch 00165: loss improved from 0.59698 to 0.59503, saving model to poids_train.hdf5\n",
            "Epoch 166/10000\n",
            "555/555 [==============================] - 62s 111ms/step - loss: 0.7017 - mse: 0.7017 - My_MSE: 0.0069 - val_loss: 0.6788 - val_mse: 0.6788 - val_My_MSE: 0.0067\n",
            "\n",
            "Epoch 00166: loss improved from 0.59503 to 0.59417, saving model to poids_train.hdf5\n",
            "Epoch 167/10000\n",
            "555/555 [==============================] - 62s 111ms/step - loss: 0.7022 - mse: 0.7022 - My_MSE: 0.0069 - val_loss: 0.6821 - val_mse: 0.6821 - val_My_MSE: 0.0067\n",
            "\n",
            "Epoch 00167: loss did not improve from 0.59417\n",
            "Epoch 168/10000\n",
            "555/555 [==============================] - 62s 111ms/step - loss: 0.7026 - mse: 0.7026 - My_MSE: 0.0069 - val_loss: 0.6725 - val_mse: 0.6725 - val_My_MSE: 0.0066\n",
            "\n",
            "Epoch 00168: loss did not improve from 0.59417\n",
            "Epoch 169/10000\n",
            "555/555 [==============================] - 62s 111ms/step - loss: 0.7043 - mse: 0.7043 - My_MSE: 0.0069 - val_loss: 0.6729 - val_mse: 0.6729 - val_My_MSE: 0.0066\n",
            "\n",
            "Epoch 00169: loss did not improve from 0.59417\n",
            "Epoch 170/10000\n",
            "555/555 [==============================] - 62s 111ms/step - loss: 0.7080 - mse: 0.7080 - My_MSE: 0.0070 - val_loss: 0.6750 - val_mse: 0.6750 - val_My_MSE: 0.0066\n",
            "\n",
            "Epoch 00170: loss did not improve from 0.59417\n",
            "Epoch 171/10000\n",
            "555/555 [==============================] - 62s 111ms/step - loss: 0.7028 - mse: 0.7028 - My_MSE: 0.0069 - val_loss: 0.6776 - val_mse: 0.6776 - val_My_MSE: 0.0067\n",
            "\n",
            "Epoch 00171: loss improved from 0.59417 to 0.59374, saving model to poids_train.hdf5\n",
            "Epoch 172/10000\n",
            "555/555 [==============================] - 62s 111ms/step - loss: 0.6992 - mse: 0.6992 - My_MSE: 0.0069 - val_loss: 0.6705 - val_mse: 0.6705 - val_My_MSE: 0.0066\n",
            "\n",
            "Epoch 00172: loss improved from 0.59374 to 0.59207, saving model to poids_train.hdf5\n",
            "Epoch 173/10000\n",
            "555/555 [==============================] - 62s 111ms/step - loss: 0.6990 - mse: 0.6990 - My_MSE: 0.0069 - val_loss: 0.6817 - val_mse: 0.6817 - val_My_MSE: 0.0067\n",
            "\n",
            "Epoch 00173: loss did not improve from 0.59207\n",
            "Epoch 174/10000\n",
            "555/555 [==============================] - 62s 111ms/step - loss: 0.7006 - mse: 0.7006 - My_MSE: 0.0069 - val_loss: 0.6689 - val_mse: 0.6689 - val_My_MSE: 0.0066\n",
            "\n",
            "Epoch 00174: loss did not improve from 0.59207\n",
            "Epoch 175/10000\n",
            "555/555 [==============================] - 62s 111ms/step - loss: 0.7017 - mse: 0.7017 - My_MSE: 0.0069 - val_loss: 0.6771 - val_mse: 0.6771 - val_My_MSE: 0.0067\n",
            "\n",
            "Epoch 00175: loss did not improve from 0.59207\n",
            "Epoch 176/10000\n",
            "555/555 [==============================] - 62s 111ms/step - loss: 0.7010 - mse: 0.7010 - My_MSE: 0.0069 - val_loss: 0.6769 - val_mse: 0.6769 - val_My_MSE: 0.0067\n",
            "\n",
            "Epoch 00176: loss did not improve from 0.59207\n",
            "Epoch 177/10000\n",
            "555/555 [==============================] - 62s 111ms/step - loss: 0.7014 - mse: 0.7014 - My_MSE: 0.0069 - val_loss: 0.6757 - val_mse: 0.6757 - val_My_MSE: 0.0067\n",
            "\n",
            "Epoch 00177: loss did not improve from 0.59207\n",
            "Epoch 178/10000\n",
            "555/555 [==============================] - 62s 111ms/step - loss: 0.6991 - mse: 0.6991 - My_MSE: 0.0069 - val_loss: 0.6729 - val_mse: 0.6729 - val_My_MSE: 0.0066\n",
            "\n",
            "Epoch 00178: loss improved from 0.59207 to 0.59174, saving model to poids_train.hdf5\n",
            "Epoch 179/10000\n",
            "555/555 [==============================] - 61s 111ms/step - loss: 0.6968 - mse: 0.6968 - My_MSE: 0.0069 - val_loss: 0.6794 - val_mse: 0.6794 - val_My_MSE: 0.0067\n",
            "\n",
            "Epoch 00179: loss improved from 0.59174 to 0.59002, saving model to poids_train.hdf5\n",
            "Epoch 180/10000\n",
            "555/555 [==============================] - 62s 111ms/step - loss: 0.6965 - mse: 0.6965 - My_MSE: 0.0069 - val_loss: 0.6683 - val_mse: 0.6683 - val_My_MSE: 0.0066\n",
            "\n",
            "Epoch 00180: loss improved from 0.59002 to 0.58947, saving model to poids_train.hdf5\n",
            "Epoch 181/10000\n",
            "555/555 [==============================] - 62s 111ms/step - loss: 0.6956 - mse: 0.6956 - My_MSE: 0.0069 - val_loss: 0.6812 - val_mse: 0.6812 - val_My_MSE: 0.0067\n",
            "\n",
            "Epoch 00181: loss improved from 0.58947 to 0.58944, saving model to poids_train.hdf5\n",
            "Epoch 182/10000\n",
            "555/555 [==============================] - 62s 112ms/step - loss: 0.6969 - mse: 0.6969 - My_MSE: 0.0069 - val_loss: 0.6682 - val_mse: 0.6682 - val_My_MSE: 0.0066\n",
            "\n",
            "Epoch 00182: loss did not improve from 0.58944\n",
            "Epoch 183/10000\n",
            "555/555 [==============================] - 62s 112ms/step - loss: 0.6990 - mse: 0.6990 - My_MSE: 0.0069 - val_loss: 0.6739 - val_mse: 0.6739 - val_My_MSE: 0.0066\n",
            "\n",
            "Epoch 00183: loss did not improve from 0.58944\n",
            "Epoch 184/10000\n",
            "555/555 [==============================] - 62s 112ms/step - loss: 0.6971 - mse: 0.6971 - My_MSE: 0.0069 - val_loss: 0.6835 - val_mse: 0.6835 - val_My_MSE: 0.0067\n",
            "\n",
            "Epoch 00184: loss improved from 0.58944 to 0.58898, saving model to poids_train.hdf5\n",
            "Epoch 185/10000\n",
            "555/555 [==============================] - 62s 111ms/step - loss: 0.6963 - mse: 0.6963 - My_MSE: 0.0069 - val_loss: 0.6785 - val_mse: 0.6785 - val_My_MSE: 0.0067\n",
            "\n",
            "Epoch 00185: loss improved from 0.58898 to 0.58809, saving model to poids_train.hdf5\n",
            "Epoch 186/10000\n",
            "555/555 [==============================] - 62s 111ms/step - loss: 0.6965 - mse: 0.6965 - My_MSE: 0.0069 - val_loss: 0.6794 - val_mse: 0.6794 - val_My_MSE: 0.0067\n",
            "\n",
            "Epoch 00186: loss did not improve from 0.58809\n",
            "Epoch 187/10000\n",
            "555/555 [==============================] - 61s 111ms/step - loss: 0.6932 - mse: 0.6932 - My_MSE: 0.0068 - val_loss: 0.6758 - val_mse: 0.6758 - val_My_MSE: 0.0067\n",
            "\n",
            "Epoch 00187: loss improved from 0.58809 to 0.58795, saving model to poids_train.hdf5\n",
            "Epoch 188/10000\n",
            "555/555 [==============================] - 62s 111ms/step - loss: 0.6947 - mse: 0.6947 - My_MSE: 0.0068 - val_loss: 0.6784 - val_mse: 0.6784 - val_My_MSE: 0.0067\n",
            "\n",
            "Epoch 00188: loss improved from 0.58795 to 0.58794, saving model to poids_train.hdf5\n",
            "Epoch 189/10000\n",
            "555/555 [==============================] - 62s 111ms/step - loss: 0.6932 - mse: 0.6932 - My_MSE: 0.0068 - val_loss: 0.6719 - val_mse: 0.6719 - val_My_MSE: 0.0066\n",
            "\n",
            "Epoch 00189: loss improved from 0.58794 to 0.58674, saving model to poids_train.hdf5\n",
            "Epoch 190/10000\n",
            "555/555 [==============================] - 62s 111ms/step - loss: 0.6924 - mse: 0.6924 - My_MSE: 0.0068 - val_loss: 0.6870 - val_mse: 0.6870 - val_My_MSE: 0.0068\n",
            "\n",
            "Epoch 00190: loss improved from 0.58674 to 0.58636, saving model to poids_train.hdf5\n",
            "Epoch 191/10000\n",
            "555/555 [==============================] - 62s 111ms/step - loss: 0.6900 - mse: 0.6900 - My_MSE: 0.0068 - val_loss: 0.6748 - val_mse: 0.6748 - val_My_MSE: 0.0066\n",
            "\n",
            "Epoch 00191: loss improved from 0.58636 to 0.58544, saving model to poids_train.hdf5\n",
            "Epoch 192/10000\n",
            "555/555 [==============================] - 62s 111ms/step - loss: 0.6924 - mse: 0.6924 - My_MSE: 0.0068 - val_loss: 0.6672 - val_mse: 0.6672 - val_My_MSE: 0.0066\n",
            "\n",
            "Epoch 00192: loss did not improve from 0.58544\n",
            "Epoch 193/10000\n",
            "555/555 [==============================] - 62s 111ms/step - loss: 0.6916 - mse: 0.6916 - My_MSE: 0.0068 - val_loss: 0.6828 - val_mse: 0.6828 - val_My_MSE: 0.0067\n",
            "\n",
            "Epoch 00193: loss improved from 0.58544 to 0.58534, saving model to poids_train.hdf5\n",
            "Epoch 194/10000\n",
            "555/555 [==============================] - 62s 111ms/step - loss: 0.6927 - mse: 0.6927 - My_MSE: 0.0068 - val_loss: 0.6798 - val_mse: 0.6798 - val_My_MSE: 0.0067\n",
            "\n",
            "Epoch 00194: loss did not improve from 0.58534\n",
            "Epoch 195/10000\n",
            "555/555 [==============================] - 62s 111ms/step - loss: 0.6935 - mse: 0.6935 - My_MSE: 0.0068 - val_loss: 0.6621 - val_mse: 0.6621 - val_My_MSE: 0.0065\n",
            "\n",
            "Epoch 00195: loss did not improve from 0.58534\n",
            "Epoch 196/10000\n",
            "555/555 [==============================] - 62s 111ms/step - loss: 0.6958 - mse: 0.6958 - My_MSE: 0.0069 - val_loss: 0.6827 - val_mse: 0.6827 - val_My_MSE: 0.0067\n",
            "\n",
            "Epoch 00196: loss did not improve from 0.58534\n",
            "Epoch 197/10000\n",
            "555/555 [==============================] - 62s 111ms/step - loss: 0.6885 - mse: 0.6885 - My_MSE: 0.0068 - val_loss: 0.6895 - val_mse: 0.6895 - val_My_MSE: 0.0068\n",
            "\n",
            "Epoch 00197: loss improved from 0.58534 to 0.58393, saving model to poids_train.hdf5\n",
            "Epoch 198/10000\n",
            "555/555 [==============================] - 62s 112ms/step - loss: 0.6878 - mse: 0.6878 - My_MSE: 0.0068 - val_loss: 0.6770 - val_mse: 0.6770 - val_My_MSE: 0.0067\n",
            "\n",
            "Epoch 00198: loss improved from 0.58393 to 0.58347, saving model to poids_train.hdf5\n",
            "Epoch 199/10000\n",
            "555/555 [==============================] - 62s 111ms/step - loss: 0.6885 - mse: 0.6885 - My_MSE: 0.0068 - val_loss: 0.6744 - val_mse: 0.6744 - val_My_MSE: 0.0066\n",
            "\n",
            "Epoch 00199: loss improved from 0.58347 to 0.58343, saving model to poids_train.hdf5\n",
            "Epoch 200/10000\n",
            "555/555 [==============================] - 62s 111ms/step - loss: 0.6889 - mse: 0.6889 - My_MSE: 0.0068 - val_loss: 0.6796 - val_mse: 0.6796 - val_My_MSE: 0.0067\n",
            "\n",
            "Epoch 00200: loss improved from 0.58343 to 0.58319, saving model to poids_train.hdf5\n",
            "Epoch 201/10000\n",
            "555/555 [==============================] - 61s 111ms/step - loss: 0.6875 - mse: 0.6875 - My_MSE: 0.0068 - val_loss: 0.6907 - val_mse: 0.6907 - val_My_MSE: 0.0068\n",
            "\n",
            "Epoch 00201: loss improved from 0.58319 to 0.58278, saving model to poids_train.hdf5\n",
            "Epoch 202/10000\n",
            "555/555 [==============================] - 62s 111ms/step - loss: 0.6914 - mse: 0.6914 - My_MSE: 0.0068 - val_loss: 0.6841 - val_mse: 0.6841 - val_My_MSE: 0.0067\n",
            "\n",
            "Epoch 00202: loss did not improve from 0.58278\n",
            "Epoch 203/10000\n",
            "555/555 [==============================] - 62s 111ms/step - loss: 0.6889 - mse: 0.6889 - My_MSE: 0.0068 - val_loss: 0.6705 - val_mse: 0.6705 - val_My_MSE: 0.0066\n",
            "\n",
            "Epoch 00203: loss did not improve from 0.58278\n",
            "Epoch 204/10000\n",
            "555/555 [==============================] - 62s 111ms/step - loss: 0.6864 - mse: 0.6864 - My_MSE: 0.0068 - val_loss: 0.6806 - val_mse: 0.6806 - val_My_MSE: 0.0067\n",
            "\n",
            "Epoch 00204: loss improved from 0.58278 to 0.58160, saving model to poids_train.hdf5\n",
            "Epoch 205/10000\n",
            "555/555 [==============================] - 61s 110ms/step - loss: 0.6846 - mse: 0.6846 - My_MSE: 0.0067 - val_loss: 0.6824 - val_mse: 0.6824 - val_My_MSE: 0.0067\n",
            "\n",
            "Epoch 00205: loss improved from 0.58160 to 0.58084, saving model to poids_train.hdf5\n",
            "Epoch 206/10000\n",
            "555/555 [==============================] - 62s 111ms/step - loss: 0.6854 - mse: 0.6854 - My_MSE: 0.0068 - val_loss: 0.6874 - val_mse: 0.6874 - val_My_MSE: 0.0068\n",
            "\n",
            "Epoch 00206: loss did not improve from 0.58084\n",
            "Epoch 207/10000\n",
            "555/555 [==============================] - 62s 111ms/step - loss: 0.6897 - mse: 0.6897 - My_MSE: 0.0068 - val_loss: 0.6781 - val_mse: 0.6781 - val_My_MSE: 0.0067\n",
            "\n",
            "Epoch 00207: loss did not improve from 0.58084\n",
            "Epoch 208/10000\n",
            "555/555 [==============================] - 61s 111ms/step - loss: 0.6878 - mse: 0.6878 - My_MSE: 0.0068 - val_loss: 0.6739 - val_mse: 0.6739 - val_My_MSE: 0.0066\n",
            "\n",
            "Epoch 00208: loss did not improve from 0.58084\n",
            "Epoch 209/10000\n",
            "555/555 [==============================] - 62s 111ms/step - loss: 0.6844 - mse: 0.6844 - My_MSE: 0.0067 - val_loss: 0.6871 - val_mse: 0.6871 - val_My_MSE: 0.0068\n",
            "\n",
            "Epoch 00209: loss improved from 0.58084 to 0.58009, saving model to poids_train.hdf5\n",
            "Epoch 210/10000\n",
            "555/555 [==============================] - 61s 111ms/step - loss: 0.6842 - mse: 0.6842 - My_MSE: 0.0067 - val_loss: 0.6819 - val_mse: 0.6819 - val_My_MSE: 0.0067\n",
            "\n",
            "Epoch 00210: loss did not improve from 0.58009\n",
            "Epoch 211/10000\n",
            "555/555 [==============================] - 62s 111ms/step - loss: 0.6846 - mse: 0.6846 - My_MSE: 0.0067 - val_loss: 0.6908 - val_mse: 0.6908 - val_My_MSE: 0.0068\n",
            "\n",
            "Epoch 00211: loss improved from 0.58009 to 0.57995, saving model to poids_train.hdf5\n",
            "Epoch 212/10000\n",
            "555/555 [==============================] - 62s 111ms/step - loss: 0.6841 - mse: 0.6841 - My_MSE: 0.0067 - val_loss: 0.6672 - val_mse: 0.6672 - val_My_MSE: 0.0066\n",
            "\n",
            "Epoch 00212: loss did not improve from 0.57995\n",
            "Epoch 213/10000\n",
            "555/555 [==============================] - 62s 112ms/step - loss: 0.6853 - mse: 0.6853 - My_MSE: 0.0068 - val_loss: 0.6832 - val_mse: 0.6832 - val_My_MSE: 0.0067\n",
            "\n",
            "Epoch 00213: loss did not improve from 0.57995\n",
            "Epoch 214/10000\n",
            "555/555 [==============================] - 62s 111ms/step - loss: 0.6834 - mse: 0.6834 - My_MSE: 0.0067 - val_loss: 0.6875 - val_mse: 0.6875 - val_My_MSE: 0.0068\n",
            "\n",
            "Epoch 00214: loss improved from 0.57995 to 0.57992, saving model to poids_train.hdf5\n",
            "Epoch 215/10000\n",
            "555/555 [==============================] - 62s 111ms/step - loss: 0.6837 - mse: 0.6837 - My_MSE: 0.0067 - val_loss: 0.6833 - val_mse: 0.6833 - val_My_MSE: 0.0067\n",
            "\n",
            "Epoch 00215: loss improved from 0.57992 to 0.57901, saving model to poids_train.hdf5\n",
            "Epoch 216/10000\n",
            "555/555 [==============================] - 62s 111ms/step - loss: 0.6835 - mse: 0.6835 - My_MSE: 0.0067 - val_loss: 0.6830 - val_mse: 0.6830 - val_My_MSE: 0.0067\n",
            "\n",
            "Epoch 00216: loss improved from 0.57901 to 0.57900, saving model to poids_train.hdf5\n",
            "Epoch 217/10000\n",
            "555/555 [==============================] - 62s 111ms/step - loss: 0.6834 - mse: 0.6834 - My_MSE: 0.0067 - val_loss: 0.6888 - val_mse: 0.6888 - val_My_MSE: 0.0068\n",
            "\n",
            "Epoch 00217: loss improved from 0.57900 to 0.57835, saving model to poids_train.hdf5\n",
            "Epoch 218/10000\n",
            "555/555 [==============================] - 62s 111ms/step - loss: 0.6801 - mse: 0.6801 - My_MSE: 0.0067 - val_loss: 0.6916 - val_mse: 0.6916 - val_My_MSE: 0.0068\n",
            "\n",
            "Epoch 00218: loss improved from 0.57835 to 0.57703, saving model to poids_train.hdf5\n",
            "Epoch 219/10000\n",
            "555/555 [==============================] - 62s 111ms/step - loss: 0.6799 - mse: 0.6799 - My_MSE: 0.0067 - val_loss: 0.6763 - val_mse: 0.6763 - val_My_MSE: 0.0067\n",
            "\n",
            "Epoch 00219: loss improved from 0.57703 to 0.57702, saving model to poids_train.hdf5\n",
            "Epoch 220/10000\n",
            "555/555 [==============================] - 62s 111ms/step - loss: 0.6809 - mse: 0.6809 - My_MSE: 0.0067 - val_loss: 0.6938 - val_mse: 0.6938 - val_My_MSE: 0.0068\n",
            "\n",
            "Epoch 00220: loss improved from 0.57702 to 0.57683, saving model to poids_train.hdf5\n",
            "Epoch 221/10000\n",
            "555/555 [==============================] - 62s 111ms/step - loss: 0.6823 - mse: 0.6823 - My_MSE: 0.0067 - val_loss: 0.6820 - val_mse: 0.6820 - val_My_MSE: 0.0067\n",
            "\n",
            "Epoch 00221: loss did not improve from 0.57683\n",
            "Epoch 222/10000\n",
            "555/555 [==============================] - 62s 111ms/step - loss: 0.6819 - mse: 0.6819 - My_MSE: 0.0067 - val_loss: 0.6749 - val_mse: 0.6749 - val_My_MSE: 0.0066\n",
            "\n",
            "Epoch 00222: loss did not improve from 0.57683\n",
            "Epoch 223/10000\n",
            "555/555 [==============================] - 62s 112ms/step - loss: 0.6781 - mse: 0.6781 - My_MSE: 0.0067 - val_loss: 0.6933 - val_mse: 0.6933 - val_My_MSE: 0.0068\n",
            "\n",
            "Epoch 00223: loss improved from 0.57683 to 0.57520, saving model to poids_train.hdf5\n",
            "Epoch 224/10000\n",
            "555/555 [==============================] - 62s 111ms/step - loss: 0.6770 - mse: 0.6770 - My_MSE: 0.0067 - val_loss: 0.6843 - val_mse: 0.6843 - val_My_MSE: 0.0067\n",
            "\n",
            "Epoch 00224: loss improved from 0.57520 to 0.57473, saving model to poids_train.hdf5\n",
            "Epoch 225/10000\n",
            "555/555 [==============================] - 62s 111ms/step - loss: 0.6795 - mse: 0.6795 - My_MSE: 0.0067 - val_loss: 0.6901 - val_mse: 0.6901 - val_My_MSE: 0.0068\n",
            "\n",
            "Epoch 00225: loss did not improve from 0.57473\n",
            "Epoch 226/10000\n",
            "555/555 [==============================] - 62s 111ms/step - loss: 0.6794 - mse: 0.6794 - My_MSE: 0.0067 - val_loss: 0.6822 - val_mse: 0.6822 - val_My_MSE: 0.0067\n",
            "\n",
            "Epoch 00226: loss did not improve from 0.57473\n",
            "Epoch 227/10000\n",
            "555/555 [==============================] - 62s 111ms/step - loss: 0.6784 - mse: 0.6784 - My_MSE: 0.0067 - val_loss: 0.6929 - val_mse: 0.6929 - val_My_MSE: 0.0068\n",
            "\n",
            "Epoch 00227: loss did not improve from 0.57473\n",
            "Epoch 228/10000\n",
            "555/555 [==============================] - 62s 111ms/step - loss: 0.6772 - mse: 0.6772 - My_MSE: 0.0067 - val_loss: 0.6897 - val_mse: 0.6897 - val_My_MSE: 0.0068\n",
            "\n",
            "Epoch 00228: loss improved from 0.57473 to 0.57446, saving model to poids_train.hdf5\n",
            "Epoch 229/10000\n",
            "555/555 [==============================] - 62s 111ms/step - loss: 0.6772 - mse: 0.6772 - My_MSE: 0.0067 - val_loss: 0.7052 - val_mse: 0.7052 - val_My_MSE: 0.0069\n",
            "\n",
            "Epoch 00229: loss improved from 0.57446 to 0.57375, saving model to poids_train.hdf5\n",
            "Epoch 230/10000\n",
            "555/555 [==============================] - 62s 111ms/step - loss: 0.6776 - mse: 0.6776 - My_MSE: 0.0067 - val_loss: 0.6940 - val_mse: 0.6940 - val_My_MSE: 0.0068\n",
            "\n",
            "Epoch 00230: loss improved from 0.57375 to 0.57365, saving model to poids_train.hdf5\n",
            "Epoch 231/10000\n",
            "555/555 [==============================] - 62s 112ms/step - loss: 0.6781 - mse: 0.6781 - My_MSE: 0.0067 - val_loss: 0.6663 - val_mse: 0.6663 - val_My_MSE: 0.0066\n",
            "\n",
            "Epoch 00231: loss did not improve from 0.57365\n",
            "Epoch 232/10000\n",
            "555/555 [==============================] - 62s 112ms/step - loss: 0.6796 - mse: 0.6796 - My_MSE: 0.0067 - val_loss: 0.6964 - val_mse: 0.6964 - val_My_MSE: 0.0069\n",
            "\n",
            "Epoch 00232: loss did not improve from 0.57365\n",
            "Epoch 233/10000\n",
            "555/555 [==============================] - 62s 111ms/step - loss: 0.6755 - mse: 0.6755 - My_MSE: 0.0067 - val_loss: 0.6893 - val_mse: 0.6893 - val_My_MSE: 0.0068\n",
            "\n",
            "Epoch 00233: loss improved from 0.57365 to 0.57272, saving model to poids_train.hdf5\n",
            "Epoch 234/10000\n",
            "555/555 [==============================] - 62s 111ms/step - loss: 0.6750 - mse: 0.6750 - My_MSE: 0.0066 - val_loss: 0.6825 - val_mse: 0.6825 - val_My_MSE: 0.0067\n",
            "\n",
            "Epoch 00234: loss improved from 0.57272 to 0.57246, saving model to poids_train.hdf5\n",
            "Epoch 235/10000\n",
            "555/555 [==============================] - 62s 111ms/step - loss: 0.6748 - mse: 0.6748 - My_MSE: 0.0066 - val_loss: 0.7064 - val_mse: 0.7064 - val_My_MSE: 0.0070\n",
            "\n",
            "Epoch 00235: loss did not improve from 0.57246\n",
            "Epoch 236/10000\n",
            "555/555 [==============================] - 62s 111ms/step - loss: 0.6802 - mse: 0.6802 - My_MSE: 0.0067 - val_loss: 0.6960 - val_mse: 0.6960 - val_My_MSE: 0.0069\n",
            "\n",
            "Epoch 00236: loss did not improve from 0.57246\n",
            "Epoch 237/10000\n",
            "555/555 [==============================] - 62s 112ms/step - loss: 0.6779 - mse: 0.6779 - My_MSE: 0.0067 - val_loss: 0.6975 - val_mse: 0.6975 - val_My_MSE: 0.0069\n",
            "\n",
            "Epoch 00237: loss did not improve from 0.57246\n",
            "Epoch 238/10000\n",
            "555/555 [==============================] - 62s 111ms/step - loss: 0.6733 - mse: 0.6733 - My_MSE: 0.0066 - val_loss: 0.6980 - val_mse: 0.6980 - val_My_MSE: 0.0069\n",
            "\n",
            "Epoch 00238: loss improved from 0.57246 to 0.57066, saving model to poids_train.hdf5\n",
            "Epoch 239/10000\n",
            "555/555 [==============================] - 62s 111ms/step - loss: 0.6730 - mse: 0.6730 - My_MSE: 0.0066 - val_loss: 0.6916 - val_mse: 0.6916 - val_My_MSE: 0.0068\n",
            "\n",
            "Epoch 00239: loss improved from 0.57066 to 0.57042, saving model to poids_train.hdf5\n",
            "Epoch 240/10000\n",
            "555/555 [==============================] - 62s 111ms/step - loss: 0.6729 - mse: 0.6729 - My_MSE: 0.0066 - val_loss: 0.7170 - val_mse: 0.7170 - val_My_MSE: 0.0071\n",
            "\n",
            "Epoch 00240: loss did not improve from 0.57042\n",
            "Epoch 241/10000\n",
            "555/555 [==============================] - 62s 111ms/step - loss: 0.6743 - mse: 0.6743 - My_MSE: 0.0066 - val_loss: 0.6756 - val_mse: 0.6756 - val_My_MSE: 0.0067\n",
            "\n",
            "Epoch 00241: loss did not improve from 0.57042\n",
            "Epoch 242/10000\n",
            "555/555 [==============================] - 62s 111ms/step - loss: 0.6739 - mse: 0.6739 - My_MSE: 0.0066 - val_loss: 0.6906 - val_mse: 0.6906 - val_My_MSE: 0.0068\n",
            "\n",
            "Epoch 00242: loss did not improve from 0.57042\n",
            "Epoch 243/10000\n",
            "555/555 [==============================] - 62s 111ms/step - loss: 0.6711 - mse: 0.6711 - My_MSE: 0.0066 - val_loss: 0.6982 - val_mse: 0.6982 - val_My_MSE: 0.0069\n",
            "\n",
            "Epoch 00243: loss improved from 0.57042 to 0.56991, saving model to poids_train.hdf5\n",
            "Epoch 244/10000\n",
            "555/555 [==============================] - 62s 111ms/step - loss: 0.6718 - mse: 0.6718 - My_MSE: 0.0066 - val_loss: 0.7101 - val_mse: 0.7101 - val_My_MSE: 0.0070\n",
            "\n",
            "Epoch 00244: loss improved from 0.56991 to 0.56945, saving model to poids_train.hdf5\n",
            "Epoch 245/10000\n",
            "555/555 [==============================] - 62s 111ms/step - loss: 0.6717 - mse: 0.6717 - My_MSE: 0.0066 - val_loss: 0.6996 - val_mse: 0.6996 - val_My_MSE: 0.0069\n",
            "\n",
            "Epoch 00245: loss improved from 0.56945 to 0.56907, saving model to poids_train.hdf5\n",
            "Epoch 246/10000\n",
            "555/555 [==============================] - 62s 111ms/step - loss: 0.6710 - mse: 0.6710 - My_MSE: 0.0066 - val_loss: 0.6921 - val_mse: 0.6921 - val_My_MSE: 0.0068\n",
            "\n",
            "Epoch 00246: loss did not improve from 0.56907\n",
            "Epoch 247/10000\n",
            "555/555 [==============================] - 62s 111ms/step - loss: 0.6722 - mse: 0.6722 - My_MSE: 0.0066 - val_loss: 0.6836 - val_mse: 0.6836 - val_My_MSE: 0.0067\n",
            "\n",
            "Epoch 00247: loss did not improve from 0.56907\n",
            "Epoch 248/10000\n",
            "555/555 [==============================] - 62s 111ms/step - loss: 0.6731 - mse: 0.6731 - My_MSE: 0.0066 - val_loss: 0.7020 - val_mse: 0.7020 - val_My_MSE: 0.0069\n",
            "\n",
            "Epoch 00248: loss did not improve from 0.56907\n",
            "Epoch 249/10000\n",
            "555/555 [==============================] - 62s 111ms/step - loss: 0.6732 - mse: 0.6732 - My_MSE: 0.0066 - val_loss: 0.6970 - val_mse: 0.6970 - val_My_MSE: 0.0069\n",
            "\n",
            "Epoch 00249: loss did not improve from 0.56907\n",
            "Epoch 250/10000\n",
            "555/555 [==============================] - 62s 111ms/step - loss: 0.6706 - mse: 0.6706 - My_MSE: 0.0066 - val_loss: 0.7046 - val_mse: 0.7046 - val_My_MSE: 0.0069\n",
            "\n",
            "Epoch 00250: loss improved from 0.56907 to 0.56795, saving model to poids_train.hdf5\n",
            "Epoch 251/10000\n",
            "555/555 [==============================] - 62s 111ms/step - loss: 0.6679 - mse: 0.6679 - My_MSE: 0.0066 - val_loss: 0.7150 - val_mse: 0.7150 - val_My_MSE: 0.0070\n",
            "\n",
            "Epoch 00251: loss improved from 0.56795 to 0.56671, saving model to poids_train.hdf5\n",
            "Epoch 252/10000\n",
            "555/555 [==============================] - 62s 112ms/step - loss: 0.6677 - mse: 0.6677 - My_MSE: 0.0066 - val_loss: 0.7019 - val_mse: 0.7019 - val_My_MSE: 0.0069\n",
            "\n",
            "Epoch 00252: loss improved from 0.56671 to 0.56651, saving model to poids_train.hdf5\n",
            "Epoch 253/10000\n",
            "555/555 [==============================] - 62s 112ms/step - loss: 0.6691 - mse: 0.6691 - My_MSE: 0.0066 - val_loss: 0.7051 - val_mse: 0.7051 - val_My_MSE: 0.0069\n",
            "\n",
            "Epoch 00253: loss did not improve from 0.56651\n",
            "Epoch 254/10000\n",
            "555/555 [==============================] - 62s 111ms/step - loss: 0.6723 - mse: 0.6723 - My_MSE: 0.0066 - val_loss: 0.7093 - val_mse: 0.7093 - val_My_MSE: 0.0070\n",
            "\n",
            "Epoch 00254: loss did not improve from 0.56651\n",
            "Epoch 255/10000\n",
            "555/555 [==============================] - 62s 112ms/step - loss: 0.6730 - mse: 0.6730 - My_MSE: 0.0066 - val_loss: 0.6853 - val_mse: 0.6853 - val_My_MSE: 0.0068\n",
            "\n",
            "Epoch 00255: loss did not improve from 0.56651\n",
            "Epoch 256/10000\n",
            "555/555 [==============================] - 62s 112ms/step - loss: 0.6701 - mse: 0.6701 - My_MSE: 0.0066 - val_loss: 0.6926 - val_mse: 0.6926 - val_My_MSE: 0.0068\n",
            "\n",
            "Epoch 00256: loss did not improve from 0.56651\n",
            "Epoch 257/10000\n",
            "555/555 [==============================] - 62s 111ms/step - loss: 0.6673 - mse: 0.6673 - My_MSE: 0.0066 - val_loss: 0.7154 - val_mse: 0.7154 - val_My_MSE: 0.0070\n",
            "\n",
            "Epoch 00257: loss improved from 0.56651 to 0.56528, saving model to poids_train.hdf5\n",
            "Epoch 258/10000\n",
            "555/555 [==============================] - 62s 111ms/step - loss: 0.6667 - mse: 0.6667 - My_MSE: 0.0066 - val_loss: 0.7205 - val_mse: 0.7205 - val_My_MSE: 0.0071\n",
            "\n",
            "Epoch 00258: loss did not improve from 0.56528\n",
            "Epoch 259/10000\n",
            "555/555 [==============================] - 62s 111ms/step - loss: 0.6683 - mse: 0.6683 - My_MSE: 0.0066 - val_loss: 0.6971 - val_mse: 0.6971 - val_My_MSE: 0.0069\n",
            "\n",
            "Epoch 00259: loss did not improve from 0.56528\n",
            "Epoch 260/10000\n",
            "555/555 [==============================] - 62s 112ms/step - loss: 0.6683 - mse: 0.6683 - My_MSE: 0.0066 - val_loss: 0.7318 - val_mse: 0.7318 - val_My_MSE: 0.0072\n",
            "\n",
            "Epoch 00260: loss did not improve from 0.56528\n",
            "Epoch 261/10000\n",
            "555/555 [==============================] - 62s 111ms/step - loss: 0.6680 - mse: 0.6680 - My_MSE: 0.0066 - val_loss: 0.6901 - val_mse: 0.6901 - val_My_MSE: 0.0068\n",
            "\n",
            "Epoch 00261: loss did not improve from 0.56528\n",
            "Epoch 262/10000\n",
            "555/555 [==============================] - 62s 111ms/step - loss: 0.6680 - mse: 0.6680 - My_MSE: 0.0066 - val_loss: 0.7134 - val_mse: 0.7134 - val_My_MSE: 0.0070\n",
            "\n",
            "Epoch 00262: loss improved from 0.56528 to 0.56497, saving model to poids_train.hdf5\n",
            "Epoch 263/10000\n",
            "555/555 [==============================] - 62s 111ms/step - loss: 0.6634 - mse: 0.6634 - My_MSE: 0.0065 - val_loss: 0.7152 - val_mse: 0.7152 - val_My_MSE: 0.0070\n",
            "\n",
            "Epoch 00263: loss improved from 0.56497 to 0.56300, saving model to poids_train.hdf5\n",
            "Epoch 264/10000\n",
            "555/555 [==============================] - 62s 111ms/step - loss: 0.6641 - mse: 0.6641 - My_MSE: 0.0065 - val_loss: 0.7113 - val_mse: 0.7113 - val_My_MSE: 0.0070\n",
            "\n",
            "Epoch 00264: loss did not improve from 0.56300\n",
            "Epoch 265/10000\n",
            "555/555 [==============================] - 62s 111ms/step - loss: 0.6645 - mse: 0.6645 - My_MSE: 0.0065 - val_loss: 0.6835 - val_mse: 0.6835 - val_My_MSE: 0.0067\n",
            "\n",
            "Epoch 00265: loss did not improve from 0.56300\n",
            "Epoch 266/10000\n",
            "555/555 [==============================] - 62s 111ms/step - loss: 0.6698 - mse: 0.6698 - My_MSE: 0.0066 - val_loss: 0.7512 - val_mse: 0.7512 - val_My_MSE: 0.0074\n",
            "\n",
            "Epoch 00266: loss did not improve from 0.56300\n",
            "Epoch 267/10000\n",
            "555/555 [==============================] - 62s 111ms/step - loss: 0.6660 - mse: 0.6660 - My_MSE: 0.0066 - val_loss: 0.7142 - val_mse: 0.7142 - val_My_MSE: 0.0070\n",
            "\n",
            "Epoch 00267: loss did not improve from 0.56300\n",
            "Epoch 268/10000\n",
            "555/555 [==============================] - 62s 112ms/step - loss: 0.6650 - mse: 0.6650 - My_MSE: 0.0066 - val_loss: 0.7093 - val_mse: 0.7093 - val_My_MSE: 0.0070\n",
            "\n",
            "Epoch 00268: loss improved from 0.56300 to 0.56297, saving model to poids_train.hdf5\n",
            "Epoch 269/10000\n",
            "555/555 [==============================] - 62s 111ms/step - loss: 0.6643 - mse: 0.6643 - My_MSE: 0.0065 - val_loss: 0.6917 - val_mse: 0.6917 - val_My_MSE: 0.0068\n",
            "\n",
            "Epoch 00269: loss did not improve from 0.56297\n",
            "Epoch 270/10000\n",
            "555/555 [==============================] - 62s 111ms/step - loss: 0.6636 - mse: 0.6636 - My_MSE: 0.0065 - val_loss: 0.7315 - val_mse: 0.7315 - val_My_MSE: 0.0072\n",
            "\n",
            "Epoch 00270: loss improved from 0.56297 to 0.56213, saving model to poids_train.hdf5\n",
            "Epoch 271/10000\n",
            "555/555 [==============================] - 62s 111ms/step - loss: 0.6618 - mse: 0.6618 - My_MSE: 0.0065 - val_loss: 0.7169 - val_mse: 0.7169 - val_My_MSE: 0.0071\n",
            "\n",
            "Epoch 00271: loss improved from 0.56213 to 0.56115, saving model to poids_train.hdf5\n",
            "Epoch 272/10000\n",
            "555/555 [==============================] - 62s 111ms/step - loss: 0.6616 - mse: 0.6616 - My_MSE: 0.0065 - val_loss: 0.7345 - val_mse: 0.7345 - val_My_MSE: 0.0072\n",
            "\n",
            "Epoch 00272: loss did not improve from 0.56115\n",
            "Epoch 273/10000\n",
            "555/555 [==============================] - 62s 111ms/step - loss: 0.6621 - mse: 0.6621 - My_MSE: 0.0065 - val_loss: 0.6939 - val_mse: 0.6939 - val_My_MSE: 0.0068\n",
            "\n",
            "Epoch 00273: loss did not improve from 0.56115\n",
            "Epoch 274/10000\n",
            "555/555 [==============================] - 62s 111ms/step - loss: 0.6644 - mse: 0.6644 - My_MSE: 0.0065 - val_loss: 0.7451 - val_mse: 0.7451 - val_My_MSE: 0.0073\n",
            "\n",
            "Epoch 00274: loss did not improve from 0.56115\n",
            "Epoch 275/10000\n",
            "555/555 [==============================] - 62s 111ms/step - loss: 0.6628 - mse: 0.6628 - My_MSE: 0.0065 - val_loss: 0.6976 - val_mse: 0.6976 - val_My_MSE: 0.0069\n",
            "\n",
            "Epoch 00275: loss did not improve from 0.56115\n",
            "Epoch 276/10000\n",
            "555/555 [==============================] - 62s 112ms/step - loss: 0.6648 - mse: 0.6648 - My_MSE: 0.0065 - val_loss: 0.7361 - val_mse: 0.7361 - val_My_MSE: 0.0073\n",
            "\n",
            "Epoch 00276: loss did not improve from 0.56115\n",
            "Epoch 277/10000\n",
            "555/555 [==============================] - 62s 111ms/step - loss: 0.6599 - mse: 0.6599 - My_MSE: 0.0065 - val_loss: 0.7258 - val_mse: 0.7258 - val_My_MSE: 0.0071\n",
            "\n",
            "Epoch 00277: loss improved from 0.56115 to 0.55920, saving model to poids_train.hdf5\n",
            "Epoch 278/10000\n",
            "555/555 [==============================] - 62s 111ms/step - loss: 0.6598 - mse: 0.6598 - My_MSE: 0.0065 - val_loss: 0.7342 - val_mse: 0.7342 - val_My_MSE: 0.0072\n",
            "\n",
            "Epoch 00278: loss did not improve from 0.55920\n",
            "Epoch 279/10000\n",
            "555/555 [==============================] - 62s 111ms/step - loss: 0.6608 - mse: 0.6608 - My_MSE: 0.0065 - val_loss: 0.6876 - val_mse: 0.6876 - val_My_MSE: 0.0068\n",
            "\n",
            "Epoch 00279: loss did not improve from 0.55920\n",
            "Epoch 280/10000\n",
            "555/555 [==============================] - 62s 112ms/step - loss: 0.6635 - mse: 0.6635 - My_MSE: 0.0065 - val_loss: 0.7452 - val_mse: 0.7452 - val_My_MSE: 0.0073\n",
            "\n",
            "Epoch 00280: loss did not improve from 0.55920\n",
            "Epoch 281/10000\n",
            "555/555 [==============================] - 62s 112ms/step - loss: 0.6585 - mse: 0.6585 - My_MSE: 0.0065 - val_loss: 0.7168 - val_mse: 0.7168 - val_My_MSE: 0.0071\n",
            "\n",
            "Epoch 00281: loss improved from 0.55920 to 0.55906, saving model to poids_train.hdf5\n",
            "Epoch 282/10000\n",
            "555/555 [==============================] - 62s 111ms/step - loss: 0.6584 - mse: 0.6584 - My_MSE: 0.0065 - val_loss: 0.7550 - val_mse: 0.7550 - val_My_MSE: 0.0074\n",
            "\n",
            "Epoch 00282: loss did not improve from 0.55906\n",
            "Epoch 283/10000\n",
            "555/555 [==============================] - 62s 111ms/step - loss: 0.6576 - mse: 0.6576 - My_MSE: 0.0065 - val_loss: 0.7008 - val_mse: 0.7008 - val_My_MSE: 0.0069\n",
            "\n",
            "Epoch 00283: loss improved from 0.55906 to 0.55812, saving model to poids_train.hdf5\n",
            "Epoch 284/10000\n",
            "555/555 [==============================] - 62s 112ms/step - loss: 0.6580 - mse: 0.6580 - My_MSE: 0.0065 - val_loss: 0.7436 - val_mse: 0.7436 - val_My_MSE: 0.0073\n",
            "\n",
            "Epoch 00284: loss improved from 0.55812 to 0.55783, saving model to poids_train.hdf5\n",
            "Epoch 285/10000\n",
            "555/555 [==============================] - 62s 112ms/step - loss: 0.6570 - mse: 0.6570 - My_MSE: 0.0065 - val_loss: 0.6999 - val_mse: 0.6999 - val_My_MSE: 0.0069\n",
            "\n",
            "Epoch 00285: loss did not improve from 0.55783\n",
            "Epoch 286/10000\n",
            "555/555 [==============================] - 62s 111ms/step - loss: 0.6617 - mse: 0.6617 - My_MSE: 0.0065 - val_loss: 0.7580 - val_mse: 0.7580 - val_My_MSE: 0.0075\n",
            "\n",
            "Epoch 00286: loss did not improve from 0.55783\n",
            "Epoch 287/10000\n",
            "555/555 [==============================] - 62s 111ms/step - loss: 0.6571 - mse: 0.6571 - My_MSE: 0.0065 - val_loss: 0.7289 - val_mse: 0.7289 - val_My_MSE: 0.0072\n",
            "\n",
            "Epoch 00287: loss improved from 0.55783 to 0.55695, saving model to poids_train.hdf5\n",
            "Epoch 288/10000\n",
            "555/555 [==============================] - 62s 111ms/step - loss: 0.6566 - mse: 0.6566 - My_MSE: 0.0065 - val_loss: 0.7497 - val_mse: 0.7497 - val_My_MSE: 0.0074\n",
            "\n",
            "Epoch 00288: loss did not improve from 0.55695\n",
            "Epoch 289/10000\n",
            "555/555 [==============================] - 62s 112ms/step - loss: 0.6569 - mse: 0.6569 - My_MSE: 0.0065 - val_loss: 0.7162 - val_mse: 0.7162 - val_My_MSE: 0.0071\n",
            "\n",
            "Epoch 00289: loss did not improve from 0.55695\n",
            "Epoch 290/10000\n",
            "555/555 [==============================] - 62s 112ms/step - loss: 0.6586 - mse: 0.6586 - My_MSE: 0.0065 - val_loss: 0.7199 - val_mse: 0.7199 - val_My_MSE: 0.0071\n",
            "\n",
            "Epoch 00290: loss did not improve from 0.55695\n",
            "Epoch 291/10000\n",
            "555/555 [==============================] - 62s 112ms/step - loss: 0.6590 - mse: 0.6590 - My_MSE: 0.0065 - val_loss: 0.7530 - val_mse: 0.7530 - val_My_MSE: 0.0074\n",
            "\n",
            "Epoch 00291: loss did not improve from 0.55695\n",
            "Epoch 292/10000\n",
            "555/555 [==============================] - 62s 112ms/step - loss: 0.6560 - mse: 0.6560 - My_MSE: 0.0065 - val_loss: 0.7285 - val_mse: 0.7285 - val_My_MSE: 0.0072\n",
            "\n",
            "Epoch 00292: loss did not improve from 0.55695\n",
            "Epoch 293/10000\n",
            "555/555 [==============================] - 62s 111ms/step - loss: 0.6564 - mse: 0.6564 - My_MSE: 0.0065 - val_loss: 0.7241 - val_mse: 0.7241 - val_My_MSE: 0.0071\n",
            "\n",
            "Epoch 00293: loss improved from 0.55695 to 0.55688, saving model to poids_train.hdf5\n",
            "Epoch 294/10000\n",
            "555/555 [==============================] - 62s 111ms/step - loss: 0.6544 - mse: 0.6544 - My_MSE: 0.0064 - val_loss: 0.7538 - val_mse: 0.7538 - val_My_MSE: 0.0074\n",
            "\n",
            "Epoch 00294: loss improved from 0.55688 to 0.55572, saving model to poids_train.hdf5\n",
            "Epoch 295/10000\n",
            "555/555 [==============================] - 62s 112ms/step - loss: 0.6554 - mse: 0.6554 - My_MSE: 0.0065 - val_loss: 0.7558 - val_mse: 0.7558 - val_My_MSE: 0.0074\n",
            "\n",
            "Epoch 00295: loss improved from 0.55572 to 0.55551, saving model to poids_train.hdf5\n",
            "Epoch 296/10000\n",
            "555/555 [==============================] - 62s 111ms/step - loss: 0.6545 - mse: 0.6545 - My_MSE: 0.0064 - val_loss: 0.7546 - val_mse: 0.7546 - val_My_MSE: 0.0074\n",
            "\n",
            "Epoch 00296: loss improved from 0.55551 to 0.55484, saving model to poids_train.hdf5\n",
            "Epoch 297/10000\n",
            "555/555 [==============================] - 62s 111ms/step - loss: 0.6526 - mse: 0.6526 - My_MSE: 0.0064 - val_loss: 0.7056 - val_mse: 0.7056 - val_My_MSE: 0.0070\n",
            "\n",
            "Epoch 00297: loss did not improve from 0.55484\n",
            "Epoch 298/10000\n",
            "555/555 [==============================] - 62s 111ms/step - loss: 0.6550 - mse: 0.6550 - My_MSE: 0.0065 - val_loss: 0.7565 - val_mse: 0.7565 - val_My_MSE: 0.0075\n",
            "\n",
            "Epoch 00298: loss did not improve from 0.55484\n",
            "Epoch 299/10000\n",
            "555/555 [==============================] - 62s 112ms/step - loss: 0.6540 - mse: 0.6540 - My_MSE: 0.0064 - val_loss: 0.7276 - val_mse: 0.7276 - val_My_MSE: 0.0072\n",
            "\n",
            "Epoch 00299: loss did not improve from 0.55484\n",
            "Epoch 300/10000\n",
            "555/555 [==============================] - 62s 111ms/step - loss: 0.6547 - mse: 0.6547 - My_MSE: 0.0064 - val_loss: 0.7612 - val_mse: 0.7612 - val_My_MSE: 0.0075\n",
            "\n",
            "Epoch 00300: loss did not improve from 0.55484\n",
            "Epoch 301/10000\n",
            "555/555 [==============================] - 62s 111ms/step - loss: 0.6536 - mse: 0.6536 - My_MSE: 0.0064 - val_loss: 0.7537 - val_mse: 0.7537 - val_My_MSE: 0.0074\n",
            "\n",
            "Epoch 00301: loss did not improve from 0.55484\n",
            "Epoch 302/10000\n",
            "555/555 [==============================] - 62s 111ms/step - loss: 0.6536 - mse: 0.6536 - My_MSE: 0.0064 - val_loss: 0.7093 - val_mse: 0.7093 - val_My_MSE: 0.0070\n",
            "\n",
            "Epoch 00302: loss did not improve from 0.55484\n",
            "Epoch 303/10000\n",
            "555/555 [==============================] - 62s 111ms/step - loss: 0.6539 - mse: 0.6539 - My_MSE: 0.0064 - val_loss: 0.7554 - val_mse: 0.7554 - val_My_MSE: 0.0074\n",
            "\n",
            "Epoch 00303: loss improved from 0.55484 to 0.55411, saving model to poids_train.hdf5\n",
            "Epoch 304/10000\n",
            "555/555 [==============================] - 62s 111ms/step - loss: 0.6509 - mse: 0.6509 - My_MSE: 0.0064 - val_loss: 0.7413 - val_mse: 0.7413 - val_My_MSE: 0.0073\n",
            "\n",
            "Epoch 00304: loss improved from 0.55411 to 0.55225, saving model to poids_train.hdf5\n",
            "Epoch 305/10000\n",
            "555/555 [==============================] - 62s 111ms/step - loss: 0.6504 - mse: 0.6504 - My_MSE: 0.0064 - val_loss: 0.7792 - val_mse: 0.7792 - val_My_MSE: 0.0077\n",
            "\n",
            "Epoch 00305: loss did not improve from 0.55225\n",
            "Epoch 306/10000\n",
            "555/555 [==============================] - 62s 111ms/step - loss: 0.6509 - mse: 0.6509 - My_MSE: 0.0064 - val_loss: 0.7222 - val_mse: 0.7222 - val_My_MSE: 0.0071\n",
            "\n",
            "Epoch 00306: loss did not improve from 0.55225\n",
            "Epoch 307/10000\n",
            "555/555 [==============================] - 62s 111ms/step - loss: 0.6523 - mse: 0.6523 - My_MSE: 0.0064 - val_loss: 0.7644 - val_mse: 0.7644 - val_My_MSE: 0.0075\n",
            "\n",
            "Epoch 00307: loss did not improve from 0.55225\n",
            "Epoch 308/10000\n",
            "555/555 [==============================] - 62s 112ms/step - loss: 0.6520 - mse: 0.6520 - My_MSE: 0.0064 - val_loss: 0.7149 - val_mse: 0.7149 - val_My_MSE: 0.0070\n",
            "\n",
            "Epoch 00308: loss did not improve from 0.55225\n",
            "Epoch 309/10000\n",
            "555/555 [==============================] - 62s 111ms/step - loss: 0.6529 - mse: 0.6529 - My_MSE: 0.0064 - val_loss: 0.7559 - val_mse: 0.7559 - val_My_MSE: 0.0074\n",
            "\n",
            "Epoch 00309: loss did not improve from 0.55225\n",
            "Epoch 310/10000\n",
            "555/555 [==============================] - 62s 111ms/step - loss: 0.6496 - mse: 0.6496 - My_MSE: 0.0064 - val_loss: 0.7548 - val_mse: 0.7548 - val_My_MSE: 0.0074\n",
            "\n",
            "Epoch 00310: loss improved from 0.55225 to 0.55118, saving model to poids_train.hdf5\n",
            "Epoch 311/10000\n",
            "555/555 [==============================] - 62s 111ms/step - loss: 0.6488 - mse: 0.6488 - My_MSE: 0.0064 - val_loss: 0.7535 - val_mse: 0.7535 - val_My_MSE: 0.0074\n",
            "\n",
            "Epoch 00311: loss improved from 0.55118 to 0.55072, saving model to poids_train.hdf5\n",
            "Epoch 312/10000\n",
            "555/555 [==============================] - 62s 111ms/step - loss: 0.6491 - mse: 0.6491 - My_MSE: 0.0064 - val_loss: 0.7341 - val_mse: 0.7341 - val_My_MSE: 0.0072\n",
            "\n",
            "Epoch 00312: loss did not improve from 0.55072\n",
            "Epoch 313/10000\n",
            "555/555 [==============================] - 62s 111ms/step - loss: 0.6498 - mse: 0.6498 - My_MSE: 0.0064 - val_loss: 0.7768 - val_mse: 0.7768 - val_My_MSE: 0.0077\n",
            "\n",
            "Epoch 00313: loss did not improve from 0.55072\n",
            "Epoch 314/10000\n",
            "555/555 [==============================] - 62s 111ms/step - loss: 0.6489 - mse: 0.6489 - My_MSE: 0.0064 - val_loss: 0.7419 - val_mse: 0.7419 - val_My_MSE: 0.0073\n",
            "\n",
            "Epoch 00314: loss did not improve from 0.55072\n",
            "Epoch 315/10000\n",
            "555/555 [==============================] - 62s 112ms/step - loss: 0.6486 - mse: 0.6486 - My_MSE: 0.0064 - val_loss: 0.7680 - val_mse: 0.7680 - val_My_MSE: 0.0076\n",
            "\n",
            "Epoch 00315: loss did not improve from 0.55072\n",
            "Epoch 316/10000\n",
            "555/555 [==============================] - 62s 112ms/step - loss: 0.6473 - mse: 0.6473 - My_MSE: 0.0064 - val_loss: 0.7335 - val_mse: 0.7335 - val_My_MSE: 0.0072\n",
            "\n",
            "Epoch 00316: loss improved from 0.55072 to 0.54983, saving model to poids_train.hdf5\n",
            "Epoch 317/10000\n",
            "555/555 [==============================] - 62s 111ms/step - loss: 0.6481 - mse: 0.6481 - My_MSE: 0.0064 - val_loss: 0.7411 - val_mse: 0.7411 - val_My_MSE: 0.0073\n",
            "\n",
            "Epoch 00317: loss did not improve from 0.54983\n",
            "Epoch 318/10000\n",
            "555/555 [==============================] - 62s 111ms/step - loss: 0.6489 - mse: 0.6489 - My_MSE: 0.0064 - val_loss: 0.7769 - val_mse: 0.7769 - val_My_MSE: 0.0077\n",
            "\n",
            "Epoch 00318: loss did not improve from 0.54983\n",
            "Epoch 319/10000\n",
            "555/555 [==============================] - 62s 112ms/step - loss: 0.6489 - mse: 0.6489 - My_MSE: 0.0064 - val_loss: 0.7621 - val_mse: 0.7621 - val_My_MSE: 0.0075\n",
            "\n",
            "Epoch 00319: loss did not improve from 0.54983\n",
            "Epoch 320/10000\n",
            "555/555 [==============================] - 62s 111ms/step - loss: 0.6474 - mse: 0.6474 - My_MSE: 0.0064 - val_loss: 0.7706 - val_mse: 0.7706 - val_My_MSE: 0.0076\n",
            "\n",
            "Epoch 00320: loss improved from 0.54983 to 0.54939, saving model to poids_train.hdf5\n",
            "Epoch 321/10000\n",
            "555/555 [==============================] - 62s 111ms/step - loss: 0.6465 - mse: 0.6465 - My_MSE: 0.0064 - val_loss: 0.7545 - val_mse: 0.7545 - val_My_MSE: 0.0074\n",
            "\n",
            "Epoch 00321: loss did not improve from 0.54939\n",
            "Epoch 322/10000\n",
            "555/555 [==============================] - 62s 111ms/step - loss: 0.6464 - mse: 0.6464 - My_MSE: 0.0064 - val_loss: 0.7574 - val_mse: 0.7574 - val_My_MSE: 0.0075\n",
            "\n",
            "Epoch 00322: loss improved from 0.54939 to 0.54922, saving model to poids_train.hdf5\n",
            "Epoch 323/10000\n",
            "555/555 [==============================] - 62s 112ms/step - loss: 0.6459 - mse: 0.6459 - My_MSE: 0.0064 - val_loss: 0.7598 - val_mse: 0.7598 - val_My_MSE: 0.0075\n",
            "\n",
            "Epoch 00323: loss did not improve from 0.54922\n",
            "Epoch 324/10000\n",
            "555/555 [==============================] - 62s 112ms/step - loss: 0.6465 - mse: 0.6465 - My_MSE: 0.0064 - val_loss: 0.7682 - val_mse: 0.7682 - val_My_MSE: 0.0076\n",
            "\n",
            "Epoch 00324: loss improved from 0.54922 to 0.54913, saving model to poids_train.hdf5\n",
            "Epoch 325/10000\n",
            "555/555 [==============================] - 62s 111ms/step - loss: 0.6461 - mse: 0.6461 - My_MSE: 0.0064 - val_loss: 0.7640 - val_mse: 0.7640 - val_My_MSE: 0.0075\n",
            "\n",
            "Epoch 00325: loss did not improve from 0.54913\n",
            "Epoch 326/10000\n",
            "555/555 [==============================] - 62s 111ms/step - loss: 0.6448 - mse: 0.6448 - My_MSE: 0.0064 - val_loss: 0.7474 - val_mse: 0.7474 - val_My_MSE: 0.0074\n",
            "\n",
            "Epoch 00326: loss improved from 0.54913 to 0.54854, saving model to poids_train.hdf5\n",
            "Epoch 327/10000\n",
            "555/555 [==============================] - 62s 111ms/step - loss: 0.6443 - mse: 0.6443 - My_MSE: 0.0063 - val_loss: 0.7758 - val_mse: 0.7758 - val_My_MSE: 0.0076\n",
            "\n",
            "Epoch 00327: loss improved from 0.54854 to 0.54747, saving model to poids_train.hdf5\n",
            "Epoch 328/10000\n",
            "555/555 [==============================] - 62s 111ms/step - loss: 0.6446 - mse: 0.6446 - My_MSE: 0.0063 - val_loss: 0.7479 - val_mse: 0.7479 - val_My_MSE: 0.0074\n",
            "\n",
            "Epoch 00328: loss did not improve from 0.54747\n",
            "Epoch 329/10000\n",
            "555/555 [==============================] - 62s 112ms/step - loss: 0.6452 - mse: 0.6452 - My_MSE: 0.0064 - val_loss: 0.7630 - val_mse: 0.7630 - val_My_MSE: 0.0075\n",
            "\n",
            "Epoch 00329: loss did not improve from 0.54747\n",
            "Epoch 330/10000\n",
            "555/555 [==============================] - 62s 111ms/step - loss: 0.6453 - mse: 0.6453 - My_MSE: 0.0064 - val_loss: 0.7825 - val_mse: 0.7825 - val_My_MSE: 0.0077\n",
            "\n",
            "Epoch 00330: loss did not improve from 0.54747\n",
            "Epoch 331/10000\n",
            "555/555 [==============================] - 62s 112ms/step - loss: 0.6440 - mse: 0.6440 - My_MSE: 0.0063 - val_loss: 0.7760 - val_mse: 0.7760 - val_My_MSE: 0.0076\n",
            "\n",
            "Epoch 00331: loss did not improve from 0.54747\n",
            "Epoch 332/10000\n",
            "555/555 [==============================] - 62s 111ms/step - loss: 0.6424 - mse: 0.6424 - My_MSE: 0.0063 - val_loss: 0.7533 - val_mse: 0.7533 - val_My_MSE: 0.0074\n",
            "\n",
            "Epoch 00332: loss improved from 0.54747 to 0.54651, saving model to poids_train.hdf5\n",
            "Epoch 333/10000\n",
            "555/555 [==============================] - 62s 111ms/step - loss: 0.6426 - mse: 0.6426 - My_MSE: 0.0063 - val_loss: 0.7605 - val_mse: 0.7605 - val_My_MSE: 0.0075\n",
            "\n",
            "Epoch 00333: loss improved from 0.54651 to 0.54643, saving model to poids_train.hdf5\n",
            "Epoch 334/10000\n",
            "555/555 [==============================] - 62s 112ms/step - loss: 0.6421 - mse: 0.6421 - My_MSE: 0.0063 - val_loss: 0.7608 - val_mse: 0.7608 - val_My_MSE: 0.0075\n",
            "\n",
            "Epoch 00334: loss improved from 0.54643 to 0.54592, saving model to poids_train.hdf5\n",
            "Epoch 335/10000\n",
            "555/555 [==============================] - 62s 111ms/step - loss: 0.6418 - mse: 0.6418 - My_MSE: 0.0063 - val_loss: 0.8103 - val_mse: 0.8103 - val_My_MSE: 0.0080\n",
            "\n",
            "Epoch 00335: loss improved from 0.54592 to 0.54557, saving model to poids_train.hdf5\n",
            "Epoch 336/10000\n",
            "555/555 [==============================] - 62s 112ms/step - loss: 0.6428 - mse: 0.6428 - My_MSE: 0.0063 - val_loss: 0.7656 - val_mse: 0.7656 - val_My_MSE: 0.0075\n",
            "\n",
            "Epoch 00336: loss did not improve from 0.54557\n",
            "Epoch 337/10000\n",
            "555/555 [==============================] - 62s 111ms/step - loss: 0.6420 - mse: 0.6420 - My_MSE: 0.0063 - val_loss: 0.7724 - val_mse: 0.7724 - val_My_MSE: 0.0076\n",
            "\n",
            "Epoch 00337: loss did not improve from 0.54557\n",
            "Epoch 338/10000\n",
            "555/555 [==============================] - 62s 111ms/step - loss: 0.6427 - mse: 0.6427 - My_MSE: 0.0063 - val_loss: 0.7655 - val_mse: 0.7655 - val_My_MSE: 0.0075\n",
            "\n",
            "Epoch 00338: loss did not improve from 0.54557\n",
            "Epoch 339/10000\n",
            "555/555 [==============================] - 62s 112ms/step - loss: 0.6412 - mse: 0.6412 - My_MSE: 0.0063 - val_loss: 0.7970 - val_mse: 0.7970 - val_My_MSE: 0.0079\n",
            "\n",
            "Epoch 00339: loss improved from 0.54557 to 0.54497, saving model to poids_train.hdf5\n",
            "Epoch 340/10000\n",
            "555/555 [==============================] - 62s 111ms/step - loss: 0.6422 - mse: 0.6422 - My_MSE: 0.0063 - val_loss: 0.7837 - val_mse: 0.7837 - val_My_MSE: 0.0077\n",
            "\n",
            "Epoch 00340: loss did not improve from 0.54497\n",
            "Epoch 341/10000\n",
            "555/555 [==============================] - 62s 111ms/step - loss: 0.6407 - mse: 0.6407 - My_MSE: 0.0063 - val_loss: 0.7597 - val_mse: 0.7597 - val_My_MSE: 0.0075\n",
            "\n",
            "Epoch 00341: loss improved from 0.54497 to 0.54494, saving model to poids_train.hdf5\n",
            "Epoch 342/10000\n",
            "555/555 [==============================] - 62s 111ms/step - loss: 0.6406 - mse: 0.6406 - My_MSE: 0.0063 - val_loss: 0.7831 - val_mse: 0.7831 - val_My_MSE: 0.0077\n",
            "\n",
            "Epoch 00342: loss improved from 0.54494 to 0.54439, saving model to poids_train.hdf5\n",
            "Epoch 343/10000\n",
            "555/555 [==============================] - 62s 111ms/step - loss: 0.6399 - mse: 0.6399 - My_MSE: 0.0063 - val_loss: 0.7775 - val_mse: 0.7775 - val_My_MSE: 0.0077\n",
            "\n",
            "Epoch 00343: loss improved from 0.54439 to 0.54368, saving model to poids_train.hdf5\n",
            "Epoch 344/10000\n",
            "555/555 [==============================] - 62s 112ms/step - loss: 0.6408 - mse: 0.6408 - My_MSE: 0.0063 - val_loss: 0.7960 - val_mse: 0.7960 - val_My_MSE: 0.0078\n",
            "\n",
            "Epoch 00344: loss did not improve from 0.54368\n",
            "Epoch 345/10000\n",
            "555/555 [==============================] - 62s 112ms/step - loss: 0.6400 - mse: 0.6400 - My_MSE: 0.0063 - val_loss: 0.7492 - val_mse: 0.7492 - val_My_MSE: 0.0074\n",
            "\n",
            "Epoch 00345: loss did not improve from 0.54368\n",
            "Epoch 346/10000\n",
            "555/555 [==============================] - 62s 111ms/step - loss: 0.6433 - mse: 0.6433 - My_MSE: 0.0063 - val_loss: 0.7900 - val_mse: 0.7900 - val_My_MSE: 0.0078\n",
            "\n",
            "Epoch 00346: loss did not improve from 0.54368\n",
            "Epoch 347/10000\n",
            "555/555 [==============================] - 62s 111ms/step - loss: 0.6395 - mse: 0.6395 - My_MSE: 0.0063 - val_loss: 0.7877 - val_mse: 0.7877 - val_My_MSE: 0.0078\n",
            "\n",
            "Epoch 00347: loss improved from 0.54368 to 0.54275, saving model to poids_train.hdf5\n",
            "Epoch 348/10000\n",
            "555/555 [==============================] - 62s 111ms/step - loss: 0.6382 - mse: 0.6382 - My_MSE: 0.0063 - val_loss: 0.7942 - val_mse: 0.7942 - val_My_MSE: 0.0078\n",
            "\n",
            "Epoch 00348: loss improved from 0.54275 to 0.54255, saving model to poids_train.hdf5\n",
            "Epoch 349/10000\n",
            "555/555 [==============================] - 62s 112ms/step - loss: 0.6381 - mse: 0.6381 - My_MSE: 0.0063 - val_loss: 0.7754 - val_mse: 0.7754 - val_My_MSE: 0.0076\n",
            "\n",
            "Epoch 00349: loss improved from 0.54255 to 0.54249, saving model to poids_train.hdf5\n",
            "Epoch 350/10000\n",
            "555/555 [==============================] - 62s 111ms/step - loss: 0.6376 - mse: 0.6376 - My_MSE: 0.0063 - val_loss: 0.7727 - val_mse: 0.7727 - val_My_MSE: 0.0076\n",
            "\n",
            "Epoch 00350: loss did not improve from 0.54249\n",
            "Epoch 351/10000\n",
            "555/555 [==============================] - 62s 111ms/step - loss: 0.6403 - mse: 0.6403 - My_MSE: 0.0063 - val_loss: 0.8014 - val_mse: 0.8014 - val_My_MSE: 0.0079\n",
            "\n",
            "Epoch 00351: loss did not improve from 0.54249\n",
            "Epoch 352/10000\n",
            "555/555 [==============================] - 62s 111ms/step - loss: 0.6379 - mse: 0.6379 - My_MSE: 0.0063 - val_loss: 0.7969 - val_mse: 0.7969 - val_My_MSE: 0.0078\n",
            "\n",
            "Epoch 00352: loss improved from 0.54249 to 0.54222, saving model to poids_train.hdf5\n",
            "Epoch 353/10000\n",
            "555/555 [==============================] - 62s 111ms/step - loss: 0.6368 - mse: 0.6368 - My_MSE: 0.0063 - val_loss: 0.7871 - val_mse: 0.7871 - val_My_MSE: 0.0078\n",
            "\n",
            "Epoch 00353: loss improved from 0.54222 to 0.54134, saving model to poids_train.hdf5\n",
            "Epoch 354/10000\n",
            "555/555 [==============================] - 62s 112ms/step - loss: 0.6367 - mse: 0.6367 - My_MSE: 0.0063 - val_loss: 0.7843 - val_mse: 0.7843 - val_My_MSE: 0.0077\n",
            "\n",
            "Epoch 00354: loss did not improve from 0.54134\n",
            "Epoch 355/10000\n",
            "555/555 [==============================] - 62s 111ms/step - loss: 0.6400 - mse: 0.6400 - My_MSE: 0.0063 - val_loss: 0.7825 - val_mse: 0.7825 - val_My_MSE: 0.0077\n",
            "\n",
            "Epoch 00355: loss did not improve from 0.54134\n",
            "Epoch 356/10000\n",
            "555/555 [==============================] - 62s 112ms/step - loss: 0.6379 - mse: 0.6379 - My_MSE: 0.0063 - val_loss: 0.8052 - val_mse: 0.8052 - val_My_MSE: 0.0079\n",
            "\n",
            "Epoch 00356: loss did not improve from 0.54134\n",
            "Epoch 357/10000\n",
            "555/555 [==============================] - 62s 111ms/step - loss: 0.6359 - mse: 0.6359 - My_MSE: 0.0063 - val_loss: 0.8076 - val_mse: 0.8076 - val_My_MSE: 0.0080\n",
            "\n",
            "Epoch 00357: loss improved from 0.54134 to 0.54045, saving model to poids_train.hdf5\n",
            "Epoch 358/10000\n",
            "555/555 [==============================] - 62s 111ms/step - loss: 0.6350 - mse: 0.6350 - My_MSE: 0.0063 - val_loss: 0.8089 - val_mse: 0.8089 - val_My_MSE: 0.0080\n",
            "\n",
            "Epoch 00358: loss improved from 0.54045 to 0.53968, saving model to poids_train.hdf5\n",
            "Epoch 359/10000\n",
            "555/555 [==============================] - 62s 112ms/step - loss: 0.6349 - mse: 0.6349 - My_MSE: 0.0063 - val_loss: 0.7944 - val_mse: 0.7944 - val_My_MSE: 0.0078\n",
            "\n",
            "Epoch 00359: loss did not improve from 0.53968\n",
            "Epoch 360/10000\n",
            "555/555 [==============================] - 62s 111ms/step - loss: 0.6370 - mse: 0.6370 - My_MSE: 0.0063 - val_loss: 0.7744 - val_mse: 0.7744 - val_My_MSE: 0.0076\n",
            "\n",
            "Epoch 00360: loss did not improve from 0.53968\n",
            "Epoch 361/10000\n",
            "555/555 [==============================] - 62s 111ms/step - loss: 0.6373 - mse: 0.6373 - My_MSE: 0.0063 - val_loss: 0.8125 - val_mse: 0.8125 - val_My_MSE: 0.0080\n",
            "\n",
            "Epoch 00361: loss did not improve from 0.53968\n",
            "Epoch 362/10000\n",
            "555/555 [==============================] - 62s 111ms/step - loss: 0.6353 - mse: 0.6353 - My_MSE: 0.0063 - val_loss: 0.7932 - val_mse: 0.7932 - val_My_MSE: 0.0078\n",
            "\n",
            "Epoch 00362: loss improved from 0.53968 to 0.53949, saving model to poids_train.hdf5\n",
            "Epoch 363/10000\n",
            "555/555 [==============================] - 62s 111ms/step - loss: 0.6330 - mse: 0.6330 - My_MSE: 0.0062 - val_loss: 0.8169 - val_mse: 0.8169 - val_My_MSE: 0.0080\n",
            "\n",
            "Epoch 00363: loss improved from 0.53949 to 0.53859, saving model to poids_train.hdf5\n",
            "Epoch 364/10000\n",
            "555/555 [==============================] - 62s 111ms/step - loss: 0.6346 - mse: 0.6346 - My_MSE: 0.0063 - val_loss: 0.7921 - val_mse: 0.7921 - val_My_MSE: 0.0078\n",
            "\n",
            "Epoch 00364: loss did not improve from 0.53859\n",
            "Epoch 365/10000\n",
            "555/555 [==============================] - 62s 111ms/step - loss: 0.6364 - mse: 0.6364 - My_MSE: 0.0063 - val_loss: 0.8065 - val_mse: 0.8065 - val_My_MSE: 0.0079\n",
            "\n",
            "Epoch 00365: loss did not improve from 0.53859\n",
            "Epoch 366/10000\n",
            "555/555 [==============================] - 62s 111ms/step - loss: 0.6348 - mse: 0.6348 - My_MSE: 0.0063 - val_loss: 0.8280 - val_mse: 0.8280 - val_My_MSE: 0.0082\n",
            "\n",
            "Epoch 00366: loss did not improve from 0.53859\n",
            "Epoch 367/10000\n",
            "555/555 [==============================] - 62s 111ms/step - loss: 0.6333 - mse: 0.6333 - My_MSE: 0.0062 - val_loss: 0.8158 - val_mse: 0.8158 - val_My_MSE: 0.0080\n",
            "\n",
            "Epoch 00367: loss improved from 0.53859 to 0.53842, saving model to poids_train.hdf5\n",
            "Epoch 368/10000\n",
            "555/555 [==============================] - 62s 111ms/step - loss: 0.6330 - mse: 0.6330 - My_MSE: 0.0062 - val_loss: 0.8181 - val_mse: 0.8181 - val_My_MSE: 0.0081\n",
            "\n",
            "Epoch 00368: loss did not improve from 0.53842\n",
            "Epoch 369/10000\n",
            "555/555 [==============================] - 62s 111ms/step - loss: 0.6331 - mse: 0.6331 - My_MSE: 0.0062 - val_loss: 0.7832 - val_mse: 0.7832 - val_My_MSE: 0.0077\n",
            "\n",
            "Epoch 00369: loss did not improve from 0.53842\n",
            "Epoch 370/10000\n",
            "555/555 [==============================] - 62s 111ms/step - loss: 0.6337 - mse: 0.6337 - My_MSE: 0.0062 - val_loss: 0.8046 - val_mse: 0.8046 - val_My_MSE: 0.0079\n",
            "\n",
            "Epoch 00370: loss did not improve from 0.53842\n",
            "Epoch 371/10000\n",
            "555/555 [==============================] - 62s 112ms/step - loss: 0.6339 - mse: 0.6339 - My_MSE: 0.0062 - val_loss: 0.8010 - val_mse: 0.8010 - val_My_MSE: 0.0079\n",
            "\n",
            "Epoch 00371: loss did not improve from 0.53842\n",
            "Epoch 372/10000\n",
            "555/555 [==============================] - 62s 111ms/step - loss: 0.6346 - mse: 0.6346 - My_MSE: 0.0063 - val_loss: 0.8063 - val_mse: 0.8063 - val_My_MSE: 0.0079\n",
            "\n",
            "Epoch 00372: loss did not improve from 0.53842\n",
            "Epoch 373/10000\n",
            "555/555 [==============================] - 62s 111ms/step - loss: 0.6323 - mse: 0.6323 - My_MSE: 0.0062 - val_loss: 0.8282 - val_mse: 0.8282 - val_My_MSE: 0.0082\n",
            "\n",
            "Epoch 00373: loss improved from 0.53842 to 0.53800, saving model to poids_train.hdf5\n",
            "Epoch 374/10000\n",
            "555/555 [==============================] - 62s 111ms/step - loss: 0.6306 - mse: 0.6306 - My_MSE: 0.0062 - val_loss: 0.8141 - val_mse: 0.8141 - val_My_MSE: 0.0080\n",
            "\n",
            "Epoch 00374: loss improved from 0.53800 to 0.53664, saving model to poids_train.hdf5\n",
            "Epoch 375/10000\n",
            "555/555 [==============================] - 62s 111ms/step - loss: 0.6299 - mse: 0.6299 - My_MSE: 0.0062 - val_loss: 0.8070 - val_mse: 0.8070 - val_My_MSE: 0.0079\n",
            "\n",
            "Epoch 00375: loss improved from 0.53664 to 0.53627, saving model to poids_train.hdf5\n",
            "Epoch 376/10000\n",
            "555/555 [==============================] - 62s 112ms/step - loss: 0.6308 - mse: 0.6308 - My_MSE: 0.0062 - val_loss: 0.8248 - val_mse: 0.8248 - val_My_MSE: 0.0081\n",
            "\n",
            "Epoch 00376: loss did not improve from 0.53627\n",
            "Epoch 377/10000\n",
            "555/555 [==============================] - 62s 112ms/step - loss: 0.6304 - mse: 0.6304 - My_MSE: 0.0062 - val_loss: 0.8065 - val_mse: 0.8065 - val_My_MSE: 0.0079\n",
            "\n",
            "Epoch 00377: loss did not improve from 0.53627\n",
            "Epoch 378/10000\n",
            "555/555 [==============================] - 62s 111ms/step - loss: 0.6348 - mse: 0.6348 - My_MSE: 0.0063 - val_loss: 0.8331 - val_mse: 0.8331 - val_My_MSE: 0.0082\n",
            "\n",
            "Epoch 00378: loss did not improve from 0.53627\n",
            "Epoch 379/10000\n",
            "555/555 [==============================] - 62s 111ms/step - loss: 0.6329 - mse: 0.6329 - My_MSE: 0.0062 - val_loss: 0.8089 - val_mse: 0.8089 - val_My_MSE: 0.0080\n",
            "\n",
            "Epoch 00379: loss did not improve from 0.53627\n",
            "Epoch 380/10000\n",
            "555/555 [==============================] - 62s 111ms/step - loss: 0.6291 - mse: 0.6291 - My_MSE: 0.0062 - val_loss: 0.8490 - val_mse: 0.8490 - val_My_MSE: 0.0084\n",
            "\n",
            "Epoch 00380: loss improved from 0.53627 to 0.53541, saving model to poids_train.hdf5\n",
            "Epoch 381/10000\n",
            "555/555 [==============================] - 62s 111ms/step - loss: 0.6300 - mse: 0.6300 - My_MSE: 0.0062 - val_loss: 0.8168 - val_mse: 0.8168 - val_My_MSE: 0.0080\n",
            "\n",
            "Epoch 00381: loss did not improve from 0.53541\n",
            "Epoch 382/10000\n",
            "555/555 [==============================] - 62s 111ms/step - loss: 0.6309 - mse: 0.6309 - My_MSE: 0.0062 - val_loss: 0.8209 - val_mse: 0.8209 - val_My_MSE: 0.0081\n",
            "\n",
            "Epoch 00382: loss did not improve from 0.53541\n",
            "Epoch 383/10000\n",
            "555/555 [==============================] - 62s 111ms/step - loss: 0.6322 - mse: 0.6322 - My_MSE: 0.0062 - val_loss: 0.8392 - val_mse: 0.8392 - val_My_MSE: 0.0083\n",
            "\n",
            "Epoch 00383: loss did not improve from 0.53541\n",
            "Epoch 384/10000\n",
            "555/555 [==============================] - 62s 111ms/step - loss: 0.6298 - mse: 0.6298 - My_MSE: 0.0062 - val_loss: 0.8186 - val_mse: 0.8186 - val_My_MSE: 0.0081\n",
            "\n",
            "Epoch 00384: loss did not improve from 0.53541\n",
            "Epoch 385/10000\n",
            "555/555 [==============================] - 62s 111ms/step - loss: 0.6286 - mse: 0.6286 - My_MSE: 0.0062 - val_loss: 0.8390 - val_mse: 0.8390 - val_My_MSE: 0.0083\n",
            "\n",
            "Epoch 00385: loss improved from 0.53541 to 0.53519, saving model to poids_train.hdf5\n",
            "Epoch 386/10000\n",
            "555/555 [==============================] - 62s 111ms/step - loss: 0.6272 - mse: 0.6272 - My_MSE: 0.0062 - val_loss: 0.8250 - val_mse: 0.8250 - val_My_MSE: 0.0081\n",
            "\n",
            "Epoch 00386: loss improved from 0.53519 to 0.53398, saving model to poids_train.hdf5\n",
            "Epoch 387/10000\n",
            "555/555 [==============================] - 62s 112ms/step - loss: 0.6267 - mse: 0.6267 - My_MSE: 0.0062 - val_loss: 0.8294 - val_mse: 0.8294 - val_My_MSE: 0.0082\n",
            "\n",
            "Epoch 00387: loss did not improve from 0.53398\n",
            "Epoch 388/10000\n",
            "555/555 [==============================] - 62s 111ms/step - loss: 0.6301 - mse: 0.6301 - My_MSE: 0.0062 - val_loss: 0.7971 - val_mse: 0.7971 - val_My_MSE: 0.0079\n",
            "\n",
            "Epoch 00388: loss did not improve from 0.53398\n",
            "Epoch 389/10000\n",
            "555/555 [==============================] - 62s 112ms/step - loss: 0.6405 - mse: 0.6405 - My_MSE: 0.0063 - val_loss: 0.8075 - val_mse: 0.8075 - val_My_MSE: 0.0080\n",
            "\n",
            "Epoch 00389: loss did not improve from 0.53398\n",
            "Epoch 390/10000\n",
            "555/555 [==============================] - 62s 112ms/step - loss: 0.6305 - mse: 0.6305 - My_MSE: 0.0062 - val_loss: 0.8436 - val_mse: 0.8436 - val_My_MSE: 0.0083\n",
            "\n",
            "Epoch 00390: loss did not improve from 0.53398\n",
            "Epoch 391/10000\n",
            "555/555 [==============================] - 62s 112ms/step - loss: 0.6265 - mse: 0.6265 - My_MSE: 0.0062 - val_loss: 0.8440 - val_mse: 0.8440 - val_My_MSE: 0.0083\n",
            "\n",
            "Epoch 00391: loss improved from 0.53398 to 0.53361, saving model to poids_train.hdf5\n",
            "Epoch 392/10000\n",
            "555/555 [==============================] - 62s 111ms/step - loss: 0.6251 - mse: 0.6251 - My_MSE: 0.0062 - val_loss: 0.8468 - val_mse: 0.8468 - val_My_MSE: 0.0083\n",
            "\n",
            "Epoch 00392: loss improved from 0.53361 to 0.53258, saving model to poids_train.hdf5\n",
            "Epoch 393/10000\n",
            "555/555 [==============================] - 62s 111ms/step - loss: 0.6270 - mse: 0.6270 - My_MSE: 0.0062 - val_loss: 0.8464 - val_mse: 0.8464 - val_My_MSE: 0.0083\n",
            "\n",
            "Epoch 00393: loss did not improve from 0.53258\n",
            "Epoch 394/10000\n",
            "555/555 [==============================] - 62s 111ms/step - loss: 0.6266 - mse: 0.6266 - My_MSE: 0.0062 - val_loss: 0.8355 - val_mse: 0.8355 - val_My_MSE: 0.0082\n",
            "\n",
            "Epoch 00394: loss did not improve from 0.53258\n",
            "Epoch 395/10000\n",
            "555/555 [==============================] - 62s 112ms/step - loss: 0.6306 - mse: 0.6306 - My_MSE: 0.0062 - val_loss: 0.8285 - val_mse: 0.8285 - val_My_MSE: 0.0082\n",
            "\n",
            "Epoch 00395: loss did not improve from 0.53258\n",
            "Epoch 396/10000\n",
            "555/555 [==============================] - 62s 111ms/step - loss: 0.6278 - mse: 0.6278 - My_MSE: 0.0062 - val_loss: 0.8311 - val_mse: 0.8311 - val_My_MSE: 0.0082\n",
            "\n",
            "Epoch 00396: loss did not improve from 0.53258\n",
            "Epoch 397/10000\n",
            "555/555 [==============================] - 62s 111ms/step - loss: 0.6257 - mse: 0.6257 - My_MSE: 0.0062 - val_loss: 0.8367 - val_mse: 0.8367 - val_My_MSE: 0.0082\n",
            "\n",
            "Epoch 00397: loss did not improve from 0.53258\n",
            "Epoch 398/10000\n",
            "555/555 [==============================] - 62s 111ms/step - loss: 0.6244 - mse: 0.6244 - My_MSE: 0.0062 - val_loss: 0.8573 - val_mse: 0.8573 - val_My_MSE: 0.0084\n",
            "\n",
            "Epoch 00398: loss improved from 0.53258 to 0.53231, saving model to poids_train.hdf5\n",
            "Epoch 399/10000\n",
            "555/555 [==============================] - 62s 111ms/step - loss: 0.6248 - mse: 0.6248 - My_MSE: 0.0062 - val_loss: 0.8507 - val_mse: 0.8507 - val_My_MSE: 0.0084\n",
            "\n",
            "Epoch 00399: loss improved from 0.53231 to 0.53178, saving model to poids_train.hdf5\n",
            "Epoch 400/10000\n",
            "555/555 [==============================] - 62s 111ms/step - loss: 0.6237 - mse: 0.6237 - My_MSE: 0.0061 - val_loss: 0.8388 - val_mse: 0.8388 - val_My_MSE: 0.0083\n",
            "\n",
            "Epoch 00400: loss did not improve from 0.53178\n",
            "Epoch 401/10000\n",
            "555/555 [==============================] - 62s 111ms/step - loss: 0.6274 - mse: 0.6274 - My_MSE: 0.0062 - val_loss: 0.8458 - val_mse: 0.8458 - val_My_MSE: 0.0083\n",
            "\n",
            "Epoch 00401: loss did not improve from 0.53178\n",
            "Epoch 402/10000\n",
            "555/555 [==============================] - 62s 111ms/step - loss: 0.6271 - mse: 0.6271 - My_MSE: 0.0062 - val_loss: 0.8309 - val_mse: 0.8309 - val_My_MSE: 0.0082\n",
            "\n",
            "Epoch 00402: loss did not improve from 0.53178\n",
            "Epoch 403/10000\n",
            "555/555 [==============================] - 62s 111ms/step - loss: 0.6260 - mse: 0.6260 - My_MSE: 0.0062 - val_loss: 0.8341 - val_mse: 0.8341 - val_My_MSE: 0.0082\n",
            "\n",
            "Epoch 00403: loss did not improve from 0.53178\n",
            "Epoch 404/10000\n",
            "555/555 [==============================] - 62s 111ms/step - loss: 0.6261 - mse: 0.6261 - My_MSE: 0.0062 - val_loss: 0.8388 - val_mse: 0.8388 - val_My_MSE: 0.0083\n",
            "\n",
            "Epoch 00404: loss did not improve from 0.53178\n",
            "Epoch 405/10000\n",
            "555/555 [==============================] - 62s 112ms/step - loss: 0.6263 - mse: 0.6263 - My_MSE: 0.0062 - val_loss: 0.8602 - val_mse: 0.8602 - val_My_MSE: 0.0085\n",
            "\n",
            "Epoch 00405: loss did not improve from 0.53178\n",
            "Epoch 406/10000\n",
            "555/555 [==============================] - 62s 111ms/step - loss: 0.6237 - mse: 0.6237 - My_MSE: 0.0061 - val_loss: 0.8434 - val_mse: 0.8434 - val_My_MSE: 0.0083\n",
            "\n",
            "Epoch 00406: loss improved from 0.53178 to 0.53146, saving model to poids_train.hdf5\n",
            "Epoch 407/10000\n",
            "555/555 [==============================] - 62s 111ms/step - loss: 0.6226 - mse: 0.6226 - My_MSE: 0.0061 - val_loss: 0.8636 - val_mse: 0.8636 - val_My_MSE: 0.0085\n",
            "\n",
            "Epoch 00407: loss improved from 0.53146 to 0.53065, saving model to poids_train.hdf5\n",
            "Epoch 408/10000\n",
            "555/555 [==============================] - 62s 111ms/step - loss: 0.6209 - mse: 0.6209 - My_MSE: 0.0061 - val_loss: 0.8442 - val_mse: 0.8442 - val_My_MSE: 0.0083\n",
            "\n",
            "Epoch 00408: loss improved from 0.53065 to 0.53011, saving model to poids_train.hdf5\n",
            "Epoch 409/10000\n",
            "555/555 [==============================] - 62s 111ms/step - loss: 0.6221 - mse: 0.6221 - My_MSE: 0.0061 - val_loss: 0.8614 - val_mse: 0.8614 - val_My_MSE: 0.0085\n",
            "\n",
            "Epoch 00409: loss did not improve from 0.53011\n",
            "Epoch 410/10000\n",
            "555/555 [==============================] - 62s 112ms/step - loss: 0.6252 - mse: 0.6252 - My_MSE: 0.0062 - val_loss: 0.8316 - val_mse: 0.8316 - val_My_MSE: 0.0082\n",
            "\n",
            "Epoch 00410: loss did not improve from 0.53011\n",
            "Epoch 411/10000\n",
            "555/555 [==============================] - 62s 112ms/step - loss: 0.6275 - mse: 0.6275 - My_MSE: 0.0062 - val_loss: 0.8539 - val_mse: 0.8539 - val_My_MSE: 0.0084\n",
            "\n",
            "Epoch 00411: loss did not improve from 0.53011\n",
            "Epoch 412/10000\n",
            "555/555 [==============================] - 62s 111ms/step - loss: 0.6224 - mse: 0.6224 - My_MSE: 0.0061 - val_loss: 0.8587 - val_mse: 0.8587 - val_My_MSE: 0.0085\n",
            "\n",
            "Epoch 00412: loss did not improve from 0.53011\n",
            "Epoch 413/10000\n",
            "555/555 [==============================] - 62s 111ms/step - loss: 0.6248 - mse: 0.6248 - My_MSE: 0.0062 - val_loss: 0.8545 - val_mse: 0.8545 - val_My_MSE: 0.0084\n",
            "\n",
            "Epoch 00413: loss did not improve from 0.53011\n",
            "Epoch 414/10000\n",
            "555/555 [==============================] - 62s 111ms/step - loss: 0.6237 - mse: 0.6237 - My_MSE: 0.0061 - val_loss: 0.8550 - val_mse: 0.8550 - val_My_MSE: 0.0084\n",
            "\n",
            "Epoch 00414: loss did not improve from 0.53011\n",
            "Epoch 415/10000\n",
            "555/555 [==============================] - 62s 112ms/step - loss: 0.6211 - mse: 0.6211 - My_MSE: 0.0061 - val_loss: 0.8663 - val_mse: 0.8663 - val_My_MSE: 0.0085\n",
            "\n",
            "Epoch 00415: loss improved from 0.53011 to 0.52987, saving model to poids_train.hdf5\n",
            "Epoch 416/10000\n",
            "555/555 [==============================] - 62s 111ms/step - loss: 0.6212 - mse: 0.6212 - My_MSE: 0.0061 - val_loss: 0.8504 - val_mse: 0.8504 - val_My_MSE: 0.0084\n",
            "\n",
            "Epoch 00416: loss improved from 0.52987 to 0.52950, saving model to poids_train.hdf5\n",
            "Epoch 417/10000\n",
            "555/555 [==============================] - 62s 111ms/step - loss: 0.6199 - mse: 0.6199 - My_MSE: 0.0061 - val_loss: 0.8674 - val_mse: 0.8674 - val_My_MSE: 0.0085\n",
            "\n",
            "Epoch 00417: loss improved from 0.52950 to 0.52899, saving model to poids_train.hdf5\n",
            "Epoch 418/10000\n",
            "555/555 [==============================] - 62s 111ms/step - loss: 0.6209 - mse: 0.6209 - My_MSE: 0.0061 - val_loss: 0.8589 - val_mse: 0.8589 - val_My_MSE: 0.0085\n",
            "\n",
            "Epoch 00418: loss did not improve from 0.52899\n",
            "Epoch 419/10000\n",
            "555/555 [==============================] - 62s 111ms/step - loss: 0.6229 - mse: 0.6229 - My_MSE: 0.0061 - val_loss: 0.8439 - val_mse: 0.8439 - val_My_MSE: 0.0083\n",
            "\n",
            "Epoch 00419: loss did not improve from 0.52899\n",
            "Epoch 420/10000\n",
            "555/555 [==============================] - 62s 111ms/step - loss: 0.6226 - mse: 0.6226 - My_MSE: 0.0061 - val_loss: 0.8595 - val_mse: 0.8595 - val_My_MSE: 0.0085\n",
            "\n",
            "Epoch 00420: loss did not improve from 0.52899\n",
            "Epoch 421/10000\n",
            "555/555 [==============================] - 62s 111ms/step - loss: 0.6196 - mse: 0.6196 - My_MSE: 0.0061 - val_loss: 0.8601 - val_mse: 0.8601 - val_My_MSE: 0.0085\n",
            "\n",
            "Epoch 00421: loss did not improve from 0.52899\n",
            "Epoch 422/10000\n",
            "555/555 [==============================] - 62s 112ms/step - loss: 0.6214 - mse: 0.6214 - My_MSE: 0.0061 - val_loss: 0.8629 - val_mse: 0.8629 - val_My_MSE: 0.0085\n",
            "\n",
            "Epoch 00422: loss did not improve from 0.52899\n",
            "Epoch 423/10000\n",
            "555/555 [==============================] - 62s 111ms/step - loss: 0.6207 - mse: 0.6207 - My_MSE: 0.0061 - val_loss: 0.8702 - val_mse: 0.8702 - val_My_MSE: 0.0086\n",
            "\n",
            "Epoch 00423: loss improved from 0.52899 to 0.52881, saving model to poids_train.hdf5\n",
            "Epoch 424/10000\n",
            "555/555 [==============================] - 62s 111ms/step - loss: 0.6205 - mse: 0.6205 - My_MSE: 0.0061 - val_loss: 0.8678 - val_mse: 0.8678 - val_My_MSE: 0.0085\n",
            "\n",
            "Epoch 00424: loss did not improve from 0.52881\n",
            "Epoch 425/10000\n",
            "555/555 [==============================] - 62s 111ms/step - loss: 0.6183 - mse: 0.6183 - My_MSE: 0.0061 - val_loss: 0.8689 - val_mse: 0.8689 - val_My_MSE: 0.0086\n",
            "\n",
            "Epoch 00425: loss improved from 0.52881 to 0.52846, saving model to poids_train.hdf5\n",
            "Epoch 426/10000\n",
            "555/555 [==============================] - 62s 112ms/step - loss: 0.6192 - mse: 0.6192 - My_MSE: 0.0061 - val_loss: 0.8575 - val_mse: 0.8575 - val_My_MSE: 0.0084\n",
            "\n",
            "Epoch 00426: loss did not improve from 0.52846\n",
            "Epoch 427/10000\n",
            "555/555 [==============================] - 62s 112ms/step - loss: 0.6198 - mse: 0.6198 - My_MSE: 0.0061 - val_loss: 0.8799 - val_mse: 0.8799 - val_My_MSE: 0.0087\n",
            "\n",
            "Epoch 00427: loss did not improve from 0.52846\n",
            "Epoch 428/10000\n",
            "555/555 [==============================] - 62s 112ms/step - loss: 0.6196 - mse: 0.6196 - My_MSE: 0.0061 - val_loss: 0.8511 - val_mse: 0.8511 - val_My_MSE: 0.0084\n",
            "\n",
            "Epoch 00428: loss did not improve from 0.52846\n",
            "Epoch 429/10000\n",
            "555/555 [==============================] - 62s 111ms/step - loss: 0.6198 - mse: 0.6198 - My_MSE: 0.0061 - val_loss: 0.8638 - val_mse: 0.8638 - val_My_MSE: 0.0085\n",
            "\n",
            "Epoch 00429: loss did not improve from 0.52846\n",
            "Epoch 430/10000\n",
            "555/555 [==============================] - 62s 111ms/step - loss: 0.6189 - mse: 0.6189 - My_MSE: 0.0061 - val_loss: 0.8785 - val_mse: 0.8785 - val_My_MSE: 0.0087\n",
            "\n",
            "Epoch 00430: loss improved from 0.52846 to 0.52769, saving model to poids_train.hdf5\n",
            "Epoch 431/10000\n",
            "555/555 [==============================] - 62s 111ms/step - loss: 0.6171 - mse: 0.6171 - My_MSE: 0.0061 - val_loss: 0.8688 - val_mse: 0.8688 - val_My_MSE: 0.0086\n",
            "\n",
            "Epoch 00431: loss improved from 0.52769 to 0.52714, saving model to poids_train.hdf5\n",
            "Epoch 432/10000\n",
            "555/555 [==============================] - 62s 111ms/step - loss: 0.6189 - mse: 0.6189 - My_MSE: 0.0061 - val_loss: 0.8884 - val_mse: 0.8884 - val_My_MSE: 0.0087\n",
            "\n",
            "Epoch 00432: loss did not improve from 0.52714\n",
            "Epoch 433/10000\n",
            "555/555 [==============================] - 62s 112ms/step - loss: 0.6180 - mse: 0.6180 - My_MSE: 0.0061 - val_loss: 0.8530 - val_mse: 0.8530 - val_My_MSE: 0.0084\n",
            "\n",
            "Epoch 00433: loss did not improve from 0.52714\n",
            "Epoch 434/10000\n",
            "555/555 [==============================] - 62s 111ms/step - loss: 0.6185 - mse: 0.6185 - My_MSE: 0.0061 - val_loss: 0.8873 - val_mse: 0.8873 - val_My_MSE: 0.0087\n",
            "\n",
            "Epoch 00434: loss did not improve from 0.52714\n",
            "Epoch 435/10000\n",
            "555/555 [==============================] - 62s 111ms/step - loss: 0.6169 - mse: 0.6169 - My_MSE: 0.0061 - val_loss: 0.8725 - val_mse: 0.8725 - val_My_MSE: 0.0086\n",
            "\n",
            "Epoch 00435: loss improved from 0.52714 to 0.52665, saving model to poids_train.hdf5\n",
            "Epoch 436/10000\n",
            "555/555 [==============================] - 62s 111ms/step - loss: 0.6202 - mse: 0.6202 - My_MSE: 0.0061 - val_loss: 0.8758 - val_mse: 0.8758 - val_My_MSE: 0.0086\n",
            "\n",
            "Epoch 00436: loss did not improve from 0.52665\n",
            "Epoch 437/10000\n",
            "555/555 [==============================] - 62s 111ms/step - loss: 0.6180 - mse: 0.6180 - My_MSE: 0.0061 - val_loss: 0.8709 - val_mse: 0.8709 - val_My_MSE: 0.0086\n",
            "\n",
            "Epoch 00437: loss did not improve from 0.52665\n",
            "Epoch 438/10000\n",
            "555/555 [==============================] - 62s 111ms/step - loss: 0.6158 - mse: 0.6158 - My_MSE: 0.0061 - val_loss: 0.8680 - val_mse: 0.8680 - val_My_MSE: 0.0085\n",
            "\n",
            "Epoch 00438: loss improved from 0.52665 to 0.52615, saving model to poids_train.hdf5\n",
            "Epoch 439/10000\n",
            "555/555 [==============================] - 62s 111ms/step - loss: 0.6174 - mse: 0.6174 - My_MSE: 0.0061 - val_loss: 0.8863 - val_mse: 0.8863 - val_My_MSE: 0.0087\n",
            "\n",
            "Epoch 00439: loss did not improve from 0.52615\n",
            "Epoch 440/10000\n",
            "555/555 [==============================] - 62s 112ms/step - loss: 0.6180 - mse: 0.6180 - My_MSE: 0.0061 - val_loss: 0.8588 - val_mse: 0.8588 - val_My_MSE: 0.0085\n",
            "\n",
            "Epoch 00440: loss did not improve from 0.52615\n",
            "Epoch 441/10000\n",
            "555/555 [==============================] - 62s 111ms/step - loss: 0.6180 - mse: 0.6180 - My_MSE: 0.0061 - val_loss: 0.8914 - val_mse: 0.8914 - val_My_MSE: 0.0088\n",
            "\n",
            "Epoch 00441: loss did not improve from 0.52615\n",
            "Epoch 442/10000\n",
            "555/555 [==============================] - 62s 112ms/step - loss: 0.6155 - mse: 0.6155 - My_MSE: 0.0061 - val_loss: 0.8873 - val_mse: 0.8873 - val_My_MSE: 0.0087\n",
            "\n",
            "Epoch 00442: loss improved from 0.52615 to 0.52534, saving model to poids_train.hdf5\n",
            "Epoch 443/10000\n",
            "555/555 [==============================] - 62s 112ms/step - loss: 0.6144 - mse: 0.6144 - My_MSE: 0.0061 - val_loss: 0.8954 - val_mse: 0.8954 - val_My_MSE: 0.0088\n",
            "\n",
            "Epoch 00443: loss improved from 0.52534 to 0.52478, saving model to poids_train.hdf5\n",
            "Epoch 444/10000\n",
            "555/555 [==============================] - 62s 112ms/step - loss: 0.6140 - mse: 0.6140 - My_MSE: 0.0060 - val_loss: 0.8531 - val_mse: 0.8531 - val_My_MSE: 0.0084\n",
            "\n",
            "Epoch 00444: loss did not improve from 0.52478\n",
            "Epoch 445/10000\n",
            "555/555 [==============================] - 62s 113ms/step - loss: 0.6170 - mse: 0.6170 - My_MSE: 0.0061 - val_loss: 0.8660 - val_mse: 0.8660 - val_My_MSE: 0.0085\n",
            "\n",
            "Epoch 00445: loss did not improve from 0.52478\n",
            "Epoch 446/10000\n",
            "555/555 [==============================] - 63s 113ms/step - loss: 0.6149 - mse: 0.6149 - My_MSE: 0.0061 - val_loss: 0.8923 - val_mse: 0.8923 - val_My_MSE: 0.0088\n",
            "\n",
            "Epoch 00446: loss did not improve from 0.52478\n",
            "Epoch 447/10000\n",
            "555/555 [==============================] - 63s 113ms/step - loss: 0.6142 - mse: 0.6142 - My_MSE: 0.0061 - val_loss: 0.9009 - val_mse: 0.9009 - val_My_MSE: 0.0089\n",
            "\n",
            "Epoch 00447: loss did not improve from 0.52478\n",
            "Epoch 448/10000\n",
            "555/555 [==============================] - 62s 112ms/step - loss: 0.6155 - mse: 0.6155 - My_MSE: 0.0061 - val_loss: 0.8657 - val_mse: 0.8657 - val_My_MSE: 0.0085\n",
            "\n",
            "Epoch 00448: loss did not improve from 0.52478\n",
            "Epoch 449/10000\n",
            "555/555 [==============================] - 62s 113ms/step - loss: 0.6159 - mse: 0.6159 - My_MSE: 0.0061 - val_loss: 0.8747 - val_mse: 0.8747 - val_My_MSE: 0.0086\n",
            "\n",
            "Epoch 00449: loss did not improve from 0.52478\n",
            "Epoch 450/10000\n",
            "555/555 [==============================] - 62s 112ms/step - loss: 0.6160 - mse: 0.6160 - My_MSE: 0.0061 - val_loss: 0.8934 - val_mse: 0.8934 - val_My_MSE: 0.0088\n",
            "\n",
            "Epoch 00450: loss did not improve from 0.52478\n",
            "Epoch 451/10000\n",
            "555/555 [==============================] - 62s 113ms/step - loss: 0.6141 - mse: 0.6141 - My_MSE: 0.0060 - val_loss: 0.8922 - val_mse: 0.8922 - val_My_MSE: 0.0088\n",
            "\n",
            "Epoch 00451: loss improved from 0.52478 to 0.52409, saving model to poids_train.hdf5\n",
            "Epoch 452/10000\n",
            "555/555 [==============================] - 62s 112ms/step - loss: 0.6123 - mse: 0.6123 - My_MSE: 0.0060 - val_loss: 0.8909 - val_mse: 0.8909 - val_My_MSE: 0.0088\n",
            "\n",
            "Epoch 00452: loss improved from 0.52409 to 0.52365, saving model to poids_train.hdf5\n",
            "Epoch 453/10000\n",
            "555/555 [==============================] - 62s 112ms/step - loss: 0.6130 - mse: 0.6130 - My_MSE: 0.0060 - val_loss: 0.8853 - val_mse: 0.8853 - val_My_MSE: 0.0087\n",
            "\n",
            "Epoch 00453: loss did not improve from 0.52365\n",
            "Epoch 454/10000\n",
            "555/555 [==============================] - 63s 113ms/step - loss: 0.6160 - mse: 0.6160 - My_MSE: 0.0061 - val_loss: 0.8920 - val_mse: 0.8920 - val_My_MSE: 0.0088\n",
            "\n",
            "Epoch 00454: loss did not improve from 0.52365\n",
            "Epoch 455/10000\n",
            "555/555 [==============================] - 63s 113ms/step - loss: 0.6187 - mse: 0.6187 - My_MSE: 0.0061 - val_loss: 0.8988 - val_mse: 0.8988 - val_My_MSE: 0.0089\n",
            "\n",
            "Epoch 00455: loss did not improve from 0.52365\n",
            "Epoch 456/10000\n",
            "555/555 [==============================] - 62s 112ms/step - loss: 0.6129 - mse: 0.6129 - My_MSE: 0.0060 - val_loss: 0.8725 - val_mse: 0.8725 - val_My_MSE: 0.0086\n",
            "\n",
            "Epoch 00456: loss did not improve from 0.52365\n",
            "Epoch 457/10000\n",
            "555/555 [==============================] - 62s 112ms/step - loss: 0.6129 - mse: 0.6129 - My_MSE: 0.0060 - val_loss: 0.9081 - val_mse: 0.9081 - val_My_MSE: 0.0089\n",
            "\n",
            "Epoch 00457: loss did not improve from 0.52365\n",
            "Epoch 458/10000\n",
            "555/555 [==============================] - 62s 112ms/step - loss: 0.6132 - mse: 0.6132 - My_MSE: 0.0060 - val_loss: 0.8896 - val_mse: 0.8896 - val_My_MSE: 0.0088\n",
            "\n",
            "Epoch 00458: loss improved from 0.52365 to 0.52355, saving model to poids_train.hdf5\n",
            "Epoch 459/10000\n",
            "555/555 [==============================] - 62s 112ms/step - loss: 0.6124 - mse: 0.6124 - My_MSE: 0.0060 - val_loss: 0.8892 - val_mse: 0.8892 - val_My_MSE: 0.0088\n",
            "\n",
            "Epoch 00459: loss improved from 0.52355 to 0.52345, saving model to poids_train.hdf5\n",
            "Epoch 460/10000\n",
            "555/555 [==============================] - 62s 112ms/step - loss: 0.6140 - mse: 0.6140 - My_MSE: 0.0060 - val_loss: 0.8917 - val_mse: 0.8917 - val_My_MSE: 0.0088\n",
            "\n",
            "Epoch 00460: loss did not improve from 0.52345\n",
            "Epoch 461/10000\n",
            "555/555 [==============================] - 62s 112ms/step - loss: 0.6143 - mse: 0.6143 - My_MSE: 0.0061 - val_loss: 0.8770 - val_mse: 0.8770 - val_My_MSE: 0.0086\n",
            "\n",
            "Epoch 00461: loss did not improve from 0.52345\n",
            "Epoch 462/10000\n",
            "555/555 [==============================] - 62s 112ms/step - loss: 0.6121 - mse: 0.6121 - My_MSE: 0.0060 - val_loss: 0.9170 - val_mse: 0.9170 - val_My_MSE: 0.0090\n",
            "\n",
            "Epoch 00462: loss improved from 0.52345 to 0.52289, saving model to poids_train.hdf5\n",
            "Epoch 463/10000\n",
            "555/555 [==============================] - 62s 112ms/step - loss: 0.6119 - mse: 0.6119 - My_MSE: 0.0060 - val_loss: 0.8932 - val_mse: 0.8932 - val_My_MSE: 0.0088\n",
            "\n",
            "Epoch 00463: loss improved from 0.52289 to 0.52274, saving model to poids_train.hdf5\n",
            "Epoch 464/10000\n",
            "555/555 [==============================] - 62s 112ms/step - loss: 0.6164 - mse: 0.6164 - My_MSE: 0.0061 - val_loss: 0.9105 - val_mse: 0.9105 - val_My_MSE: 0.0090\n",
            "\n",
            "Epoch 00464: loss did not improve from 0.52274\n",
            "Epoch 465/10000\n",
            "555/555 [==============================] - 62s 113ms/step - loss: 0.6118 - mse: 0.6118 - My_MSE: 0.0060 - val_loss: 0.8831 - val_mse: 0.8831 - val_My_MSE: 0.0087\n",
            "\n",
            "Epoch 00465: loss did not improve from 0.52274\n",
            "Epoch 466/10000\n",
            "555/555 [==============================] - 62s 112ms/step - loss: 0.6118 - mse: 0.6118 - My_MSE: 0.0060 - val_loss: 0.8784 - val_mse: 0.8784 - val_My_MSE: 0.0087\n",
            "\n",
            "Epoch 00466: loss did not improve from 0.52274\n",
            "Epoch 467/10000\n",
            "555/555 [==============================] - 62s 112ms/step - loss: 0.6134 - mse: 0.6134 - My_MSE: 0.0060 - val_loss: 0.8928 - val_mse: 0.8928 - val_My_MSE: 0.0088\n",
            "\n",
            "Epoch 00467: loss did not improve from 0.52274\n",
            "Epoch 468/10000\n",
            "555/555 [==============================] - 63s 113ms/step - loss: 0.6088 - mse: 0.6088 - My_MSE: 0.0060 - val_loss: 0.9282 - val_mse: 0.9282 - val_My_MSE: 0.0091\n",
            "\n",
            "Epoch 00468: loss improved from 0.52274 to 0.52121, saving model to poids_train.hdf5\n",
            "Epoch 469/10000\n",
            "555/555 [==============================] - 63s 113ms/step - loss: 0.6095 - mse: 0.6095 - My_MSE: 0.0060 - val_loss: 0.9002 - val_mse: 0.9002 - val_My_MSE: 0.0089\n",
            "\n",
            "Epoch 00469: loss did not improve from 0.52121\n",
            "Epoch 470/10000\n",
            "555/555 [==============================] - 63s 113ms/step - loss: 0.6097 - mse: 0.6097 - My_MSE: 0.0060 - val_loss: 0.8914 - val_mse: 0.8914 - val_My_MSE: 0.0088\n",
            "\n",
            "Epoch 00470: loss did not improve from 0.52121\n",
            "Epoch 471/10000\n",
            "555/555 [==============================] - 62s 112ms/step - loss: 0.6107 - mse: 0.6107 - My_MSE: 0.0060 - val_loss: 0.8814 - val_mse: 0.8814 - val_My_MSE: 0.0087\n",
            "\n",
            "Epoch 00471: loss did not improve from 0.52121\n",
            "Epoch 472/10000\n",
            "555/555 [==============================] - 62s 112ms/step - loss: 0.6118 - mse: 0.6118 - My_MSE: 0.0060 - val_loss: 0.9278 - val_mse: 0.9278 - val_My_MSE: 0.0091\n",
            "\n",
            "Epoch 00472: loss did not improve from 0.52121\n",
            "Epoch 473/10000\n",
            "555/555 [==============================] - 62s 112ms/step - loss: 0.6128 - mse: 0.6128 - My_MSE: 0.0060 - val_loss: 0.8996 - val_mse: 0.8996 - val_My_MSE: 0.0089\n",
            "\n",
            "Epoch 00473: loss did not improve from 0.52121\n",
            "Epoch 474/10000\n",
            "555/555 [==============================] - 62s 112ms/step - loss: 0.6099 - mse: 0.6099 - My_MSE: 0.0060 - val_loss: 0.9234 - val_mse: 0.9234 - val_My_MSE: 0.0091\n",
            "\n",
            "Epoch 00474: loss did not improve from 0.52121\n",
            "Epoch 475/10000\n",
            "555/555 [==============================] - 62s 112ms/step - loss: 0.6089 - mse: 0.6089 - My_MSE: 0.0060 - val_loss: 0.8937 - val_mse: 0.8937 - val_My_MSE: 0.0088\n",
            "\n",
            "Epoch 00475: loss did not improve from 0.52121\n",
            "Epoch 476/10000\n",
            "555/555 [==============================] - 62s 112ms/step - loss: 0.6086 - mse: 0.6086 - My_MSE: 0.0060 - val_loss: 0.9191 - val_mse: 0.9191 - val_My_MSE: 0.0091\n",
            "\n",
            "Epoch 00476: loss improved from 0.52121 to 0.52090, saving model to poids_train.hdf5\n",
            "Epoch 477/10000\n",
            "555/555 [==============================] - 62s 112ms/step - loss: 0.6074 - mse: 0.6074 - My_MSE: 0.0060 - val_loss: 0.9186 - val_mse: 0.9186 - val_My_MSE: 0.0090\n",
            "\n",
            "Epoch 00477: loss improved from 0.52090 to 0.51990, saving model to poids_train.hdf5\n",
            "Epoch 478/10000\n",
            "555/555 [==============================] - 62s 112ms/step - loss: 0.6096 - mse: 0.6096 - My_MSE: 0.0060 - val_loss: 0.9169 - val_mse: 0.9169 - val_My_MSE: 0.0090\n",
            "\n",
            "Epoch 00478: loss did not improve from 0.51990\n",
            "Epoch 479/10000\n",
            "555/555 [==============================] - 62s 112ms/step - loss: 0.6087 - mse: 0.6087 - My_MSE: 0.0060 - val_loss: 0.8935 - val_mse: 0.8935 - val_My_MSE: 0.0088\n",
            "\n",
            "Epoch 00479: loss did not improve from 0.51990\n",
            "Epoch 480/10000\n",
            "555/555 [==============================] - 62s 112ms/step - loss: 0.6093 - mse: 0.6093 - My_MSE: 0.0060 - val_loss: 0.9049 - val_mse: 0.9049 - val_My_MSE: 0.0089\n",
            "\n",
            "Epoch 00480: loss did not improve from 0.51990\n",
            "Epoch 481/10000\n",
            "555/555 [==============================] - 62s 112ms/step - loss: 0.6083 - mse: 0.6083 - My_MSE: 0.0060 - val_loss: 0.9069 - val_mse: 0.9069 - val_My_MSE: 0.0089\n",
            "\n",
            "Epoch 00481: loss did not improve from 0.51990\n",
            "Epoch 482/10000\n",
            "555/555 [==============================] - 62s 112ms/step - loss: 0.6074 - mse: 0.6074 - My_MSE: 0.0060 - val_loss: 0.9077 - val_mse: 0.9077 - val_My_MSE: 0.0089\n",
            "\n",
            "Epoch 00482: loss did not improve from 0.51990\n",
            "Epoch 483/10000\n",
            "555/555 [==============================] - 62s 112ms/step - loss: 0.6087 - mse: 0.6087 - My_MSE: 0.0060 - val_loss: 0.9212 - val_mse: 0.9212 - val_My_MSE: 0.0091\n",
            "\n",
            "Epoch 00483: loss did not improve from 0.51990\n",
            "Epoch 484/10000\n",
            "555/555 [==============================] - 62s 112ms/step - loss: 0.6085 - mse: 0.6085 - My_MSE: 0.0060 - val_loss: 0.9089 - val_mse: 0.9089 - val_My_MSE: 0.0090\n",
            "\n",
            "Epoch 00484: loss did not improve from 0.51990\n",
            "Epoch 485/10000\n",
            "555/555 [==============================] - 62s 112ms/step - loss: 0.6070 - mse: 0.6070 - My_MSE: 0.0060 - val_loss: 0.8979 - val_mse: 0.8979 - val_My_MSE: 0.0088\n",
            "\n",
            "Epoch 00485: loss did not improve from 0.51990\n",
            "Epoch 486/10000\n",
            "555/555 [==============================] - 62s 112ms/step - loss: 0.6072 - mse: 0.6072 - My_MSE: 0.0060 - val_loss: 0.9335 - val_mse: 0.9335 - val_My_MSE: 0.0092\n",
            "\n",
            "Epoch 00486: loss did not improve from 0.51990\n",
            "Epoch 487/10000\n",
            "555/555 [==============================] - 63s 113ms/step - loss: 0.6088 - mse: 0.6088 - My_MSE: 0.0060 - val_loss: 0.9122 - val_mse: 0.9122 - val_My_MSE: 0.0090\n",
            "\n",
            "Epoch 00487: loss did not improve from 0.51990\n",
            "Epoch 488/10000\n",
            "555/555 [==============================] - 62s 112ms/step - loss: 0.6063 - mse: 0.6063 - My_MSE: 0.0060 - val_loss: 0.9244 - val_mse: 0.9244 - val_My_MSE: 0.0091\n",
            "\n",
            "Epoch 00488: loss improved from 0.51990 to 0.51931, saving model to poids_train.hdf5\n",
            "Epoch 489/10000\n",
            "555/555 [==============================] - 62s 112ms/step - loss: 0.6054 - mse: 0.6054 - My_MSE: 0.0060 - val_loss: 0.9211 - val_mse: 0.9211 - val_My_MSE: 0.0091\n",
            "\n",
            "Epoch 00489: loss improved from 0.51931 to 0.51923, saving model to poids_train.hdf5\n",
            "Epoch 490/10000\n",
            "555/555 [==============================] - 62s 112ms/step - loss: 0.6070 - mse: 0.6070 - My_MSE: 0.0060 - val_loss: 0.8704 - val_mse: 0.8704 - val_My_MSE: 0.0086\n",
            "\n",
            "Epoch 00490: loss did not improve from 0.51923\n",
            "Epoch 491/10000\n",
            "555/555 [==============================] - 62s 112ms/step - loss: 0.6135 - mse: 0.6135 - My_MSE: 0.0060 - val_loss: 0.9204 - val_mse: 0.9204 - val_My_MSE: 0.0091\n",
            "\n",
            "Epoch 00491: loss did not improve from 0.51923\n",
            "Epoch 492/10000\n",
            "555/555 [==============================] - 62s 112ms/step - loss: 0.6070 - mse: 0.6070 - My_MSE: 0.0060 - val_loss: 0.9481 - val_mse: 0.9481 - val_My_MSE: 0.0093\n",
            "\n",
            "Epoch 00492: loss did not improve from 0.51923\n",
            "Epoch 493/10000\n",
            "555/555 [==============================] - 62s 112ms/step - loss: 0.6047 - mse: 0.6047 - My_MSE: 0.0060 - val_loss: 0.9103 - val_mse: 0.9103 - val_My_MSE: 0.0090\n",
            "\n",
            "Epoch 00493: loss improved from 0.51923 to 0.51825, saving model to poids_train.hdf5\n",
            "Epoch 494/10000\n",
            "555/555 [==============================] - 62s 112ms/step - loss: 0.6039 - mse: 0.6039 - My_MSE: 0.0059 - val_loss: 0.9440 - val_mse: 0.9440 - val_My_MSE: 0.0093\n",
            "\n",
            "Epoch 00494: loss improved from 0.51825 to 0.51707, saving model to poids_train.hdf5\n",
            "Epoch 495/10000\n",
            "555/555 [==============================] - 62s 112ms/step - loss: 0.6039 - mse: 0.6039 - My_MSE: 0.0060 - val_loss: 0.9155 - val_mse: 0.9155 - val_My_MSE: 0.0090\n",
            "\n",
            "Epoch 00495: loss did not improve from 0.51707\n",
            "Epoch 496/10000\n",
            "555/555 [==============================] - 62s 112ms/step - loss: 0.6043 - mse: 0.6043 - My_MSE: 0.0060 - val_loss: 0.9101 - val_mse: 0.9101 - val_My_MSE: 0.0090\n",
            "\n",
            "Epoch 00496: loss did not improve from 0.51707\n",
            "Epoch 497/10000\n",
            "555/555 [==============================] - 62s 112ms/step - loss: 0.6074 - mse: 0.6074 - My_MSE: 0.0060 - val_loss: 0.8985 - val_mse: 0.8985 - val_My_MSE: 0.0088\n",
            "\n",
            "Epoch 00497: loss did not improve from 0.51707\n",
            "Epoch 498/10000\n",
            "555/555 [==============================] - 62s 112ms/step - loss: 0.6049 - mse: 0.6049 - My_MSE: 0.0060 - val_loss: 0.9536 - val_mse: 0.9536 - val_My_MSE: 0.0094\n",
            "\n",
            "Epoch 00498: loss did not improve from 0.51707\n",
            "Epoch 499/10000\n",
            "555/555 [==============================] - 62s 112ms/step - loss: 0.6044 - mse: 0.6044 - My_MSE: 0.0060 - val_loss: 0.9537 - val_mse: 0.9537 - val_My_MSE: 0.0094\n",
            "\n",
            "Epoch 00499: loss did not improve from 0.51707\n",
            "Epoch 500/10000\n",
            "555/555 [==============================] - 62s 112ms/step - loss: 0.6034 - mse: 0.6034 - My_MSE: 0.0059 - val_loss: 0.9288 - val_mse: 0.9288 - val_My_MSE: 0.0091\n",
            "\n",
            "Epoch 00500: loss did not improve from 0.51707\n",
            "Epoch 501/10000\n",
            "555/555 [==============================] - 62s 112ms/step - loss: 0.6046 - mse: 0.6046 - My_MSE: 0.0060 - val_loss: 0.9106 - val_mse: 0.9106 - val_My_MSE: 0.0090\n",
            "\n",
            "Epoch 00501: loss did not improve from 0.51707\n",
            "Epoch 502/10000\n",
            "555/555 [==============================] - 62s 112ms/step - loss: 0.6047 - mse: 0.6047 - My_MSE: 0.0060 - val_loss: 0.9202 - val_mse: 0.9202 - val_My_MSE: 0.0091\n",
            "\n",
            "Epoch 00502: loss did not improve from 0.51707\n",
            "Epoch 503/10000\n",
            "555/555 [==============================] - 62s 112ms/step - loss: 0.6047 - mse: 0.6047 - My_MSE: 0.0060 - val_loss: 0.9210 - val_mse: 0.9210 - val_My_MSE: 0.0091\n",
            "\n",
            "Epoch 00503: loss did not improve from 0.51707\n",
            "Epoch 504/10000\n",
            "555/555 [==============================] - 62s 112ms/step - loss: 0.6075 - mse: 0.6075 - My_MSE: 0.0060 - val_loss: 0.9364 - val_mse: 0.9364 - val_My_MSE: 0.0092\n",
            "\n",
            "Epoch 00504: loss did not improve from 0.51707\n",
            "Epoch 505/10000\n",
            "555/555 [==============================] - 62s 112ms/step - loss: 0.6042 - mse: 0.6042 - My_MSE: 0.0060 - val_loss: 0.9275 - val_mse: 0.9275 - val_My_MSE: 0.0091\n",
            "\n",
            "Epoch 00505: loss did not improve from 0.51707\n",
            "Epoch 506/10000\n",
            "555/555 [==============================] - 62s 112ms/step - loss: 0.6009 - mse: 0.6009 - My_MSE: 0.0059 - val_loss: 0.9539 - val_mse: 0.9539 - val_My_MSE: 0.0094\n",
            "\n",
            "Epoch 00506: loss improved from 0.51707 to 0.51561, saving model to poids_train.hdf5\n",
            "Epoch 507/10000\n",
            "555/555 [==============================] - 62s 112ms/step - loss: 0.6024 - mse: 0.6024 - My_MSE: 0.0059 - val_loss: 0.9418 - val_mse: 0.9418 - val_My_MSE: 0.0093\n",
            "\n",
            "Epoch 00507: loss did not improve from 0.51561\n",
            "Epoch 508/10000\n",
            "555/555 [==============================] - 62s 112ms/step - loss: 0.6030 - mse: 0.6030 - My_MSE: 0.0059 - val_loss: 0.9206 - val_mse: 0.9206 - val_My_MSE: 0.0091\n",
            "\n",
            "Epoch 00508: loss did not improve from 0.51561\n",
            "Epoch 509/10000\n",
            "555/555 [==============================] - 62s 112ms/step - loss: 0.6033 - mse: 0.6033 - My_MSE: 0.0059 - val_loss: 0.9238 - val_mse: 0.9238 - val_My_MSE: 0.0091\n",
            "\n",
            "Epoch 00509: loss did not improve from 0.51561\n",
            "Epoch 510/10000\n",
            "555/555 [==============================] - 62s 112ms/step - loss: 0.6033 - mse: 0.6033 - My_MSE: 0.0059 - val_loss: 0.9169 - val_mse: 0.9169 - val_My_MSE: 0.0090\n",
            "\n",
            "Epoch 00510: loss did not improve from 0.51561\n",
            "Epoch 511/10000\n",
            "555/555 [==============================] - 62s 112ms/step - loss: 0.6024 - mse: 0.6024 - My_MSE: 0.0059 - val_loss: 0.9443 - val_mse: 0.9443 - val_My_MSE: 0.0093\n",
            "\n",
            "Epoch 00511: loss did not improve from 0.51561\n",
            "Epoch 512/10000\n",
            "555/555 [==============================] - 62s 112ms/step - loss: 0.6036 - mse: 0.6036 - My_MSE: 0.0059 - val_loss: 0.9502 - val_mse: 0.9502 - val_My_MSE: 0.0094\n",
            "\n",
            "Epoch 00512: loss did not improve from 0.51561\n",
            "Epoch 513/10000\n",
            "555/555 [==============================] - 62s 112ms/step - loss: 0.6045 - mse: 0.6045 - My_MSE: 0.0060 - val_loss: 0.9326 - val_mse: 0.9326 - val_My_MSE: 0.0092\n",
            "\n",
            "Epoch 00513: loss did not improve from 0.51561\n",
            "Epoch 514/10000\n",
            "555/555 [==============================] - 62s 112ms/step - loss: 0.6016 - mse: 0.6016 - My_MSE: 0.0059 - val_loss: 0.9573 - val_mse: 0.9573 - val_My_MSE: 0.0094\n",
            "\n",
            "Epoch 00514: loss did not improve from 0.51561\n",
            "Epoch 515/10000\n",
            "555/555 [==============================] - 62s 112ms/step - loss: 0.6022 - mse: 0.6022 - My_MSE: 0.0059 - val_loss: 0.9357 - val_mse: 0.9357 - val_My_MSE: 0.0092\n",
            "\n",
            "Epoch 00515: loss did not improve from 0.51561\n",
            "Epoch 516/10000\n",
            "555/555 [==============================] - 62s 112ms/step - loss: 0.6022 - mse: 0.6022 - My_MSE: 0.0059 - val_loss: 0.9531 - val_mse: 0.9531 - val_My_MSE: 0.0094\n",
            "\n",
            "Epoch 00516: loss did not improve from 0.51561\n",
            "Epoch 517/10000\n",
            "555/555 [==============================] - 61s 110ms/step - loss: 0.6009 - mse: 0.6009 - My_MSE: 0.0059 - val_loss: 0.9486 - val_mse: 0.9486 - val_My_MSE: 0.0093\n",
            "\n",
            "Epoch 00517: loss improved from 0.51561 to 0.51552, saving model to poids_train.hdf5\n",
            "Epoch 518/10000\n",
            "555/555 [==============================] - 62s 111ms/step - loss: 0.5995 - mse: 0.5995 - My_MSE: 0.0059 - val_loss: 0.9664 - val_mse: 0.9664 - val_My_MSE: 0.0095\n",
            "\n",
            "Epoch 00518: loss improved from 0.51552 to 0.51496, saving model to poids_train.hdf5\n",
            "Epoch 519/10000\n",
            "555/555 [==============================] - 61s 111ms/step - loss: 0.5997 - mse: 0.5997 - My_MSE: 0.0059 - val_loss: 0.9343 - val_mse: 0.9343 - val_My_MSE: 0.0092\n",
            "\n",
            "Epoch 00519: loss did not improve from 0.51496\n",
            "Epoch 520/10000\n",
            "555/555 [==============================] - 61s 111ms/step - loss: 0.6017 - mse: 0.6017 - My_MSE: 0.0059 - val_loss: 0.9257 - val_mse: 0.9257 - val_My_MSE: 0.0091\n",
            "\n",
            "Epoch 00520: loss did not improve from 0.51496\n",
            "Epoch 521/10000\n",
            "555/555 [==============================] - 62s 111ms/step - loss: 0.6019 - mse: 0.6019 - My_MSE: 0.0059 - val_loss: 0.9677 - val_mse: 0.9677 - val_My_MSE: 0.0095\n",
            "\n",
            "Epoch 00521: loss did not improve from 0.51496\n",
            "Epoch 522/10000\n",
            "555/555 [==============================] - 61s 111ms/step - loss: 0.6006 - mse: 0.6006 - My_MSE: 0.0059 - val_loss: 0.9682 - val_mse: 0.9682 - val_My_MSE: 0.0095\n",
            "\n",
            "Epoch 00522: loss did not improve from 0.51496\n",
            "Epoch 523/10000\n",
            "555/555 [==============================] - 61s 110ms/step - loss: 0.5998 - mse: 0.5998 - My_MSE: 0.0059 - val_loss: 0.9408 - val_mse: 0.9408 - val_My_MSE: 0.0093\n",
            "\n",
            "Epoch 00523: loss improved from 0.51496 to 0.51489, saving model to poids_train.hdf5\n",
            "Epoch 524/10000\n",
            "555/555 [==============================] - 61s 111ms/step - loss: 0.6002 - mse: 0.6002 - My_MSE: 0.0059 - val_loss: 0.9268 - val_mse: 0.9268 - val_My_MSE: 0.0091\n",
            "\n",
            "Epoch 00524: loss did not improve from 0.51489\n",
            "Epoch 525/10000\n",
            "555/555 [==============================] - 61s 111ms/step - loss: 0.6024 - mse: 0.6024 - My_MSE: 0.0059 - val_loss: 0.9325 - val_mse: 0.9325 - val_My_MSE: 0.0092\n",
            "\n",
            "Epoch 00525: loss did not improve from 0.51489\n",
            "Epoch 526/10000\n",
            "555/555 [==============================] - 61s 110ms/step - loss: 0.6014 - mse: 0.6014 - My_MSE: 0.0059 - val_loss: 0.9351 - val_mse: 0.9351 - val_My_MSE: 0.0092\n",
            "\n",
            "Epoch 00526: loss did not improve from 0.51489\n",
            "Epoch 527/10000\n",
            "555/555 [==============================] - 62s 111ms/step - loss: 0.5992 - mse: 0.5992 - My_MSE: 0.0059 - val_loss: 0.9454 - val_mse: 0.9454 - val_My_MSE: 0.0093\n",
            "\n",
            "Epoch 00527: loss improved from 0.51489 to 0.51436, saving model to poids_train.hdf5\n",
            "Epoch 528/10000\n",
            "555/555 [==============================] - 62s 111ms/step - loss: 0.5978 - mse: 0.5978 - My_MSE: 0.0059 - val_loss: 0.9485 - val_mse: 0.9485 - val_My_MSE: 0.0093\n",
            "\n",
            "Epoch 00528: loss did not improve from 0.51436\n",
            "Epoch 529/10000\n",
            "555/555 [==============================] - 61s 111ms/step - loss: 0.5994 - mse: 0.5994 - My_MSE: 0.0059 - val_loss: 0.9459 - val_mse: 0.9459 - val_My_MSE: 0.0093\n",
            "\n",
            "Epoch 00529: loss did not improve from 0.51436\n",
            "Epoch 530/10000\n",
            "555/555 [==============================] - 61s 111ms/step - loss: 0.6009 - mse: 0.6009 - My_MSE: 0.0059 - val_loss: 0.9431 - val_mse: 0.9431 - val_My_MSE: 0.0093\n",
            "\n",
            "Epoch 00530: loss did not improve from 0.51436\n",
            "Epoch 531/10000\n",
            "555/555 [==============================] - 61s 111ms/step - loss: 0.5985 - mse: 0.5985 - My_MSE: 0.0059 - val_loss: 0.9650 - val_mse: 0.9650 - val_My_MSE: 0.0095\n",
            "\n",
            "Epoch 00531: loss improved from 0.51436 to 0.51402, saving model to poids_train.hdf5\n",
            "Epoch 532/10000\n",
            "555/555 [==============================] - 61s 111ms/step - loss: 0.5974 - mse: 0.5974 - My_MSE: 0.0059 - val_loss: 0.9824 - val_mse: 0.9824 - val_My_MSE: 0.0097\n",
            "\n",
            "Epoch 00532: loss improved from 0.51402 to 0.51347, saving model to poids_train.hdf5\n",
            "Epoch 533/10000\n",
            "555/555 [==============================] - 62s 111ms/step - loss: 0.5989 - mse: 0.5989 - My_MSE: 0.0059 - val_loss: 0.9229 - val_mse: 0.9229 - val_My_MSE: 0.0091\n",
            "\n",
            "Epoch 00533: loss did not improve from 0.51347\n",
            "Epoch 534/10000\n",
            "555/555 [==============================] - 62s 111ms/step - loss: 0.6000 - mse: 0.6000 - My_MSE: 0.0059 - val_loss: 0.9629 - val_mse: 0.9629 - val_My_MSE: 0.0095\n",
            "\n",
            "Epoch 00534: loss did not improve from 0.51347\n",
            "Epoch 535/10000\n",
            "555/555 [==============================] - 62s 111ms/step - loss: 0.5997 - mse: 0.5997 - My_MSE: 0.0059 - val_loss: 0.9810 - val_mse: 0.9810 - val_My_MSE: 0.0097\n",
            "\n",
            "Epoch 00535: loss did not improve from 0.51347\n",
            "Epoch 536/10000\n",
            "555/555 [==============================] - 62s 111ms/step - loss: 0.5973 - mse: 0.5973 - My_MSE: 0.0059 - val_loss: 0.9418 - val_mse: 0.9418 - val_My_MSE: 0.0093\n",
            "\n",
            "Epoch 00536: loss did not improve from 0.51347\n",
            "Epoch 537/10000\n",
            "555/555 [==============================] - 62s 111ms/step - loss: 0.5975 - mse: 0.5975 - My_MSE: 0.0059 - val_loss: 0.9704 - val_mse: 0.9704 - val_My_MSE: 0.0096\n",
            "\n",
            "Epoch 00537: loss did not improve from 0.51347\n",
            "Epoch 538/10000\n",
            "555/555 [==============================] - 62s 111ms/step - loss: 0.5962 - mse: 0.5962 - My_MSE: 0.0059 - val_loss: 0.9749 - val_mse: 0.9749 - val_My_MSE: 0.0096\n",
            "\n",
            "Epoch 00538: loss improved from 0.51347 to 0.51245, saving model to poids_train.hdf5\n",
            "Epoch 539/10000\n",
            "555/555 [==============================] - 61s 111ms/step - loss: 0.5953 - mse: 0.5953 - My_MSE: 0.0059 - val_loss: 0.9350 - val_mse: 0.9350 - val_My_MSE: 0.0092\n",
            "\n",
            "Epoch 00539: loss did not improve from 0.51245\n",
            "Epoch 540/10000\n",
            "555/555 [==============================] - 62s 111ms/step - loss: 0.5973 - mse: 0.5973 - My_MSE: 0.0059 - val_loss: 0.9594 - val_mse: 0.9594 - val_My_MSE: 0.0094\n",
            "\n",
            "Epoch 00540: loss did not improve from 0.51245\n",
            "Epoch 541/10000\n",
            "555/555 [==============================] - 62s 111ms/step - loss: 0.5992 - mse: 0.5992 - My_MSE: 0.0059 - val_loss: 0.9457 - val_mse: 0.9457 - val_My_MSE: 0.0093\n",
            "\n",
            "Epoch 00541: loss did not improve from 0.51245\n",
            "Epoch 542/10000\n",
            "555/555 [==============================] - 62s 111ms/step - loss: 0.5974 - mse: 0.5974 - My_MSE: 0.0059 - val_loss: 0.9656 - val_mse: 0.9656 - val_My_MSE: 0.0095\n",
            "\n",
            "Epoch 00542: loss did not improve from 0.51245\n",
            "Epoch 543/10000\n",
            "555/555 [==============================] - 61s 111ms/step - loss: 0.5952 - mse: 0.5952 - My_MSE: 0.0059 - val_loss: 0.9717 - val_mse: 0.9717 - val_My_MSE: 0.0096\n",
            "\n",
            "Epoch 00543: loss improved from 0.51245 to 0.51208, saving model to poids_train.hdf5\n",
            "Epoch 544/10000\n",
            "555/555 [==============================] - 62s 111ms/step - loss: 0.5952 - mse: 0.5952 - My_MSE: 0.0059 - val_loss: 0.9793 - val_mse: 0.9793 - val_My_MSE: 0.0096\n",
            "\n",
            "Epoch 00544: loss did not improve from 0.51208\n",
            "Epoch 545/10000\n",
            "555/555 [==============================] - 61s 111ms/step - loss: 0.5950 - mse: 0.5950 - My_MSE: 0.0059 - val_loss: 0.9656 - val_mse: 0.9656 - val_My_MSE: 0.0095\n",
            "\n",
            "Epoch 00545: loss did not improve from 0.51208\n",
            "Epoch 546/10000\n",
            "555/555 [==============================] - 62s 111ms/step - loss: 0.5964 - mse: 0.5964 - My_MSE: 0.0059 - val_loss: 0.9834 - val_mse: 0.9834 - val_My_MSE: 0.0097\n",
            "\n",
            "Epoch 00546: loss did not improve from 0.51208\n",
            "Epoch 547/10000\n",
            "295/555 [==============>...............] - ETA: 26s - loss: 0.6869 - mse: 0.6869 - My_MSE: 0.0068"
          ],
          "name": "stdout"
        },
        {
          "output_type": "error",
          "ename": "KeyboardInterrupt",
          "evalue": "ignored",
          "traceback": [
            "\u001b[0;31m---------------------------------------------------------------------------\u001b[0m",
            "\u001b[0;31mKeyboardInterrupt\u001b[0m                         Traceback (most recent call last)",
            "\u001b[0;32m<ipython-input-45-65fe0ab70d6e>\u001b[0m in \u001b[0;36m<module>\u001b[0;34m()\u001b[0m\n\u001b[1;32m     45\u001b[0m \u001b[0;34m\u001b[0m\u001b[0m\n\u001b[1;32m     46\u001b[0m \u001b[0;31m# Entraine le modèle sans réduction de calculs\u001b[0m\u001b[0;34m\u001b[0m\u001b[0;34m\u001b[0m\u001b[0;34m\u001b[0m\u001b[0m\n\u001b[0;32m---> 47\u001b[0;31m \u001b[0mhistorique\u001b[0m \u001b[0;34m=\u001b[0m \u001b[0mmodel\u001b[0m\u001b[0;34m.\u001b[0m\u001b[0mfit\u001b[0m\u001b[0;34m(\u001b[0m\u001b[0mdataset\u001b[0m\u001b[0;34m,\u001b[0m\u001b[0mvalidation_data\u001b[0m\u001b[0;34m=\u001b[0m\u001b[0mdataset_val\u001b[0m\u001b[0;34m,\u001b[0m \u001b[0mepochs\u001b[0m\u001b[0;34m=\u001b[0m\u001b[0mmax_periodes\u001b[0m\u001b[0;34m,\u001b[0m\u001b[0mverbose\u001b[0m\u001b[0;34m=\u001b[0m\u001b[0;36m1\u001b[0m\u001b[0;34m,\u001b[0m \u001b[0mcallbacks\u001b[0m\u001b[0;34m=\u001b[0m\u001b[0;34m[\u001b[0m\u001b[0mCheckPoint\u001b[0m\u001b[0;34m,\u001b[0m\u001b[0mStopTrain\u001b[0m\u001b[0;34m(\u001b[0m\u001b[0mdelta\u001b[0m\u001b[0;34m=\u001b[0m\u001b[0;36m1e-8\u001b[0m\u001b[0;34m,\u001b[0m\u001b[0mperiodes\u001b[0m \u001b[0;34m=\u001b[0m \u001b[0;36m10\u001b[0m\u001b[0;34m,\u001b[0m \u001b[0mterm\u001b[0m\u001b[0;34m=\u001b[0m\u001b[0;34m\"val_My_MSE\"\u001b[0m\u001b[0;34m)\u001b[0m\u001b[0;34m]\u001b[0m\u001b[0;34m)\u001b[0m\u001b[0;34m\u001b[0m\u001b[0;34m\u001b[0m\u001b[0m\n\u001b[0m",
            "\u001b[0;32m/usr/local/lib/python3.7/dist-packages/tensorflow/python/keras/engine/training.py\u001b[0m in \u001b[0;36mfit\u001b[0;34m(self, x, y, batch_size, epochs, verbose, callbacks, validation_split, validation_data, shuffle, class_weight, sample_weight, initial_epoch, steps_per_epoch, validation_steps, validation_batch_size, validation_freq, max_queue_size, workers, use_multiprocessing)\u001b[0m\n\u001b[1;32m   1103\u001b[0m               \u001b[0mlogs\u001b[0m \u001b[0;34m=\u001b[0m \u001b[0mtmp_logs\u001b[0m  \u001b[0;31m# No error, now safe to assign to logs.\u001b[0m\u001b[0;34m\u001b[0m\u001b[0;34m\u001b[0m\u001b[0m\n\u001b[1;32m   1104\u001b[0m               \u001b[0mend_step\u001b[0m \u001b[0;34m=\u001b[0m \u001b[0mstep\u001b[0m \u001b[0;34m+\u001b[0m \u001b[0mdata_handler\u001b[0m\u001b[0;34m.\u001b[0m\u001b[0mstep_increment\u001b[0m\u001b[0;34m\u001b[0m\u001b[0;34m\u001b[0m\u001b[0m\n\u001b[0;32m-> 1105\u001b[0;31m               \u001b[0mcallbacks\u001b[0m\u001b[0;34m.\u001b[0m\u001b[0mon_train_batch_end\u001b[0m\u001b[0;34m(\u001b[0m\u001b[0mend_step\u001b[0m\u001b[0;34m,\u001b[0m \u001b[0mlogs\u001b[0m\u001b[0;34m)\u001b[0m\u001b[0;34m\u001b[0m\u001b[0;34m\u001b[0m\u001b[0m\n\u001b[0m\u001b[1;32m   1106\u001b[0m               \u001b[0;32mif\u001b[0m \u001b[0mself\u001b[0m\u001b[0;34m.\u001b[0m\u001b[0mstop_training\u001b[0m\u001b[0;34m:\u001b[0m\u001b[0;34m\u001b[0m\u001b[0;34m\u001b[0m\u001b[0m\n\u001b[1;32m   1107\u001b[0m                 \u001b[0;32mbreak\u001b[0m\u001b[0;34m\u001b[0m\u001b[0;34m\u001b[0m\u001b[0m\n",
            "\u001b[0;32m/usr/local/lib/python3.7/dist-packages/tensorflow/python/keras/callbacks.py\u001b[0m in \u001b[0;36mon_train_batch_end\u001b[0;34m(self, batch, logs)\u001b[0m\n\u001b[1;32m    452\u001b[0m     \"\"\"\n\u001b[1;32m    453\u001b[0m     \u001b[0;32mif\u001b[0m \u001b[0mself\u001b[0m\u001b[0;34m.\u001b[0m\u001b[0m_should_call_train_batch_hooks\u001b[0m\u001b[0;34m:\u001b[0m\u001b[0;34m\u001b[0m\u001b[0;34m\u001b[0m\u001b[0m\n\u001b[0;32m--> 454\u001b[0;31m       \u001b[0mself\u001b[0m\u001b[0;34m.\u001b[0m\u001b[0m_call_batch_hook\u001b[0m\u001b[0;34m(\u001b[0m\u001b[0mModeKeys\u001b[0m\u001b[0;34m.\u001b[0m\u001b[0mTRAIN\u001b[0m\u001b[0;34m,\u001b[0m \u001b[0;34m'end'\u001b[0m\u001b[0;34m,\u001b[0m \u001b[0mbatch\u001b[0m\u001b[0;34m,\u001b[0m \u001b[0mlogs\u001b[0m\u001b[0;34m=\u001b[0m\u001b[0mlogs\u001b[0m\u001b[0;34m)\u001b[0m\u001b[0;34m\u001b[0m\u001b[0;34m\u001b[0m\u001b[0m\n\u001b[0m\u001b[1;32m    455\u001b[0m \u001b[0;34m\u001b[0m\u001b[0m\n\u001b[1;32m    456\u001b[0m   \u001b[0;32mdef\u001b[0m \u001b[0mon_test_batch_begin\u001b[0m\u001b[0;34m(\u001b[0m\u001b[0mself\u001b[0m\u001b[0;34m,\u001b[0m \u001b[0mbatch\u001b[0m\u001b[0;34m,\u001b[0m \u001b[0mlogs\u001b[0m\u001b[0;34m=\u001b[0m\u001b[0;32mNone\u001b[0m\u001b[0;34m)\u001b[0m\u001b[0;34m:\u001b[0m\u001b[0;34m\u001b[0m\u001b[0;34m\u001b[0m\u001b[0m\n",
            "\u001b[0;32m/usr/local/lib/python3.7/dist-packages/tensorflow/python/keras/callbacks.py\u001b[0m in \u001b[0;36m_call_batch_hook\u001b[0;34m(self, mode, hook, batch, logs)\u001b[0m\n\u001b[1;32m    294\u001b[0m       \u001b[0mself\u001b[0m\u001b[0;34m.\u001b[0m\u001b[0m_call_batch_begin_hook\u001b[0m\u001b[0;34m(\u001b[0m\u001b[0mmode\u001b[0m\u001b[0;34m,\u001b[0m \u001b[0mbatch\u001b[0m\u001b[0;34m,\u001b[0m \u001b[0mlogs\u001b[0m\u001b[0;34m)\u001b[0m\u001b[0;34m\u001b[0m\u001b[0;34m\u001b[0m\u001b[0m\n\u001b[1;32m    295\u001b[0m     \u001b[0;32melif\u001b[0m \u001b[0mhook\u001b[0m \u001b[0;34m==\u001b[0m \u001b[0;34m'end'\u001b[0m\u001b[0;34m:\u001b[0m\u001b[0;34m\u001b[0m\u001b[0;34m\u001b[0m\u001b[0m\n\u001b[0;32m--> 296\u001b[0;31m       \u001b[0mself\u001b[0m\u001b[0;34m.\u001b[0m\u001b[0m_call_batch_end_hook\u001b[0m\u001b[0;34m(\u001b[0m\u001b[0mmode\u001b[0m\u001b[0;34m,\u001b[0m \u001b[0mbatch\u001b[0m\u001b[0;34m,\u001b[0m \u001b[0mlogs\u001b[0m\u001b[0;34m)\u001b[0m\u001b[0;34m\u001b[0m\u001b[0;34m\u001b[0m\u001b[0m\n\u001b[0m\u001b[1;32m    297\u001b[0m     \u001b[0;32melse\u001b[0m\u001b[0;34m:\u001b[0m\u001b[0;34m\u001b[0m\u001b[0;34m\u001b[0m\u001b[0m\n\u001b[1;32m    298\u001b[0m       \u001b[0;32mraise\u001b[0m \u001b[0mValueError\u001b[0m\u001b[0;34m(\u001b[0m\u001b[0;34m'Unrecognized hook: {}'\u001b[0m\u001b[0;34m.\u001b[0m\u001b[0mformat\u001b[0m\u001b[0;34m(\u001b[0m\u001b[0mhook\u001b[0m\u001b[0;34m)\u001b[0m\u001b[0;34m)\u001b[0m\u001b[0;34m\u001b[0m\u001b[0;34m\u001b[0m\u001b[0m\n",
            "\u001b[0;32m/usr/local/lib/python3.7/dist-packages/tensorflow/python/keras/callbacks.py\u001b[0m in \u001b[0;36m_call_batch_end_hook\u001b[0;34m(self, mode, batch, logs)\u001b[0m\n\u001b[1;32m    314\u001b[0m       \u001b[0mself\u001b[0m\u001b[0;34m.\u001b[0m\u001b[0m_batch_times\u001b[0m\u001b[0;34m.\u001b[0m\u001b[0mappend\u001b[0m\u001b[0;34m(\u001b[0m\u001b[0mbatch_time\u001b[0m\u001b[0;34m)\u001b[0m\u001b[0;34m\u001b[0m\u001b[0;34m\u001b[0m\u001b[0m\n\u001b[1;32m    315\u001b[0m \u001b[0;34m\u001b[0m\u001b[0m\n\u001b[0;32m--> 316\u001b[0;31m     \u001b[0mself\u001b[0m\u001b[0;34m.\u001b[0m\u001b[0m_call_batch_hook_helper\u001b[0m\u001b[0;34m(\u001b[0m\u001b[0mhook_name\u001b[0m\u001b[0;34m,\u001b[0m \u001b[0mbatch\u001b[0m\u001b[0;34m,\u001b[0m \u001b[0mlogs\u001b[0m\u001b[0;34m)\u001b[0m\u001b[0;34m\u001b[0m\u001b[0;34m\u001b[0m\u001b[0m\n\u001b[0m\u001b[1;32m    317\u001b[0m \u001b[0;34m\u001b[0m\u001b[0m\n\u001b[1;32m    318\u001b[0m     \u001b[0;32mif\u001b[0m \u001b[0mlen\u001b[0m\u001b[0;34m(\u001b[0m\u001b[0mself\u001b[0m\u001b[0;34m.\u001b[0m\u001b[0m_batch_times\u001b[0m\u001b[0;34m)\u001b[0m \u001b[0;34m>=\u001b[0m \u001b[0mself\u001b[0m\u001b[0;34m.\u001b[0m\u001b[0m_num_batches_for_timing_check\u001b[0m\u001b[0;34m:\u001b[0m\u001b[0;34m\u001b[0m\u001b[0;34m\u001b[0m\u001b[0m\n",
            "\u001b[0;32m/usr/local/lib/python3.7/dist-packages/tensorflow/python/keras/callbacks.py\u001b[0m in \u001b[0;36m_call_batch_hook_helper\u001b[0;34m(self, hook_name, batch, logs)\u001b[0m\n\u001b[1;32m    354\u001b[0m       \u001b[0mhook\u001b[0m \u001b[0;34m=\u001b[0m \u001b[0mgetattr\u001b[0m\u001b[0;34m(\u001b[0m\u001b[0mcallback\u001b[0m\u001b[0;34m,\u001b[0m \u001b[0mhook_name\u001b[0m\u001b[0;34m)\u001b[0m\u001b[0;34m\u001b[0m\u001b[0;34m\u001b[0m\u001b[0m\n\u001b[1;32m    355\u001b[0m       \u001b[0;32mif\u001b[0m \u001b[0mgetattr\u001b[0m\u001b[0;34m(\u001b[0m\u001b[0mcallback\u001b[0m\u001b[0;34m,\u001b[0m \u001b[0;34m'_supports_tf_logs'\u001b[0m\u001b[0;34m,\u001b[0m \u001b[0;32mFalse\u001b[0m\u001b[0;34m)\u001b[0m\u001b[0;34m:\u001b[0m\u001b[0;34m\u001b[0m\u001b[0;34m\u001b[0m\u001b[0m\n\u001b[0;32m--> 356\u001b[0;31m         \u001b[0mhook\u001b[0m\u001b[0;34m(\u001b[0m\u001b[0mbatch\u001b[0m\u001b[0;34m,\u001b[0m \u001b[0mlogs\u001b[0m\u001b[0;34m)\u001b[0m\u001b[0;34m\u001b[0m\u001b[0;34m\u001b[0m\u001b[0m\n\u001b[0m\u001b[1;32m    357\u001b[0m       \u001b[0;32melse\u001b[0m\u001b[0;34m:\u001b[0m\u001b[0;34m\u001b[0m\u001b[0;34m\u001b[0m\u001b[0m\n\u001b[1;32m    358\u001b[0m         \u001b[0;32mif\u001b[0m \u001b[0mnumpy_logs\u001b[0m \u001b[0;32mis\u001b[0m \u001b[0;32mNone\u001b[0m\u001b[0;34m:\u001b[0m  \u001b[0;31m# Only convert once.\u001b[0m\u001b[0;34m\u001b[0m\u001b[0;34m\u001b[0m\u001b[0m\n",
            "\u001b[0;32m/usr/local/lib/python3.7/dist-packages/tensorflow/python/keras/callbacks.py\u001b[0m in \u001b[0;36mon_train_batch_end\u001b[0;34m(self, batch, logs)\u001b[0m\n\u001b[1;32m   1018\u001b[0m \u001b[0;34m\u001b[0m\u001b[0m\n\u001b[1;32m   1019\u001b[0m   \u001b[0;32mdef\u001b[0m \u001b[0mon_train_batch_end\u001b[0m\u001b[0;34m(\u001b[0m\u001b[0mself\u001b[0m\u001b[0;34m,\u001b[0m \u001b[0mbatch\u001b[0m\u001b[0;34m,\u001b[0m \u001b[0mlogs\u001b[0m\u001b[0;34m=\u001b[0m\u001b[0;32mNone\u001b[0m\u001b[0;34m)\u001b[0m\u001b[0;34m:\u001b[0m\u001b[0;34m\u001b[0m\u001b[0;34m\u001b[0m\u001b[0m\n\u001b[0;32m-> 1020\u001b[0;31m     \u001b[0mself\u001b[0m\u001b[0;34m.\u001b[0m\u001b[0m_batch_update_progbar\u001b[0m\u001b[0;34m(\u001b[0m\u001b[0mbatch\u001b[0m\u001b[0;34m,\u001b[0m \u001b[0mlogs\u001b[0m\u001b[0;34m)\u001b[0m\u001b[0;34m\u001b[0m\u001b[0;34m\u001b[0m\u001b[0m\n\u001b[0m\u001b[1;32m   1021\u001b[0m \u001b[0;34m\u001b[0m\u001b[0m\n\u001b[1;32m   1022\u001b[0m   \u001b[0;32mdef\u001b[0m \u001b[0mon_test_batch_end\u001b[0m\u001b[0;34m(\u001b[0m\u001b[0mself\u001b[0m\u001b[0;34m,\u001b[0m \u001b[0mbatch\u001b[0m\u001b[0;34m,\u001b[0m \u001b[0mlogs\u001b[0m\u001b[0;34m=\u001b[0m\u001b[0;32mNone\u001b[0m\u001b[0;34m)\u001b[0m\u001b[0;34m:\u001b[0m\u001b[0;34m\u001b[0m\u001b[0;34m\u001b[0m\u001b[0m\n",
            "\u001b[0;32m/usr/local/lib/python3.7/dist-packages/tensorflow/python/keras/callbacks.py\u001b[0m in \u001b[0;36m_batch_update_progbar\u001b[0;34m(self, batch, logs)\u001b[0m\n\u001b[1;32m   1083\u001b[0m       \u001b[0;31m# Only block async when verbose = 1.\u001b[0m\u001b[0;34m\u001b[0m\u001b[0;34m\u001b[0m\u001b[0;34m\u001b[0m\u001b[0m\n\u001b[1;32m   1084\u001b[0m       \u001b[0mlogs\u001b[0m \u001b[0;34m=\u001b[0m \u001b[0mtf_utils\u001b[0m\u001b[0;34m.\u001b[0m\u001b[0mto_numpy_or_python_type\u001b[0m\u001b[0;34m(\u001b[0m\u001b[0mlogs\u001b[0m\u001b[0;34m)\u001b[0m\u001b[0;34m\u001b[0m\u001b[0;34m\u001b[0m\u001b[0m\n\u001b[0;32m-> 1085\u001b[0;31m       \u001b[0mself\u001b[0m\u001b[0;34m.\u001b[0m\u001b[0mprogbar\u001b[0m\u001b[0;34m.\u001b[0m\u001b[0mupdate\u001b[0m\u001b[0;34m(\u001b[0m\u001b[0mself\u001b[0m\u001b[0;34m.\u001b[0m\u001b[0mseen\u001b[0m\u001b[0;34m,\u001b[0m \u001b[0mlist\u001b[0m\u001b[0;34m(\u001b[0m\u001b[0mlogs\u001b[0m\u001b[0;34m.\u001b[0m\u001b[0mitems\u001b[0m\u001b[0;34m(\u001b[0m\u001b[0;34m)\u001b[0m\u001b[0;34m)\u001b[0m\u001b[0;34m,\u001b[0m \u001b[0mfinalize\u001b[0m\u001b[0;34m=\u001b[0m\u001b[0;32mFalse\u001b[0m\u001b[0;34m)\u001b[0m\u001b[0;34m\u001b[0m\u001b[0;34m\u001b[0m\u001b[0m\n\u001b[0m\u001b[1;32m   1086\u001b[0m \u001b[0;34m\u001b[0m\u001b[0m\n\u001b[1;32m   1087\u001b[0m   \u001b[0;32mdef\u001b[0m \u001b[0m_finalize_progbar\u001b[0m\u001b[0;34m(\u001b[0m\u001b[0mself\u001b[0m\u001b[0;34m,\u001b[0m \u001b[0mlogs\u001b[0m\u001b[0;34m,\u001b[0m \u001b[0mcounter\u001b[0m\u001b[0;34m)\u001b[0m\u001b[0;34m:\u001b[0m\u001b[0;34m\u001b[0m\u001b[0;34m\u001b[0m\u001b[0m\n",
            "\u001b[0;32m/usr/local/lib/python3.7/dist-packages/tensorflow/python/keras/utils/generic_utils.py\u001b[0m in \u001b[0;36mupdate\u001b[0;34m(self, current, values, finalize)\u001b[0m\n\u001b[1;32m    639\u001b[0m \u001b[0;34m\u001b[0m\u001b[0m\n\u001b[1;32m    640\u001b[0m       \u001b[0msys\u001b[0m\u001b[0;34m.\u001b[0m\u001b[0mstdout\u001b[0m\u001b[0;34m.\u001b[0m\u001b[0mwrite\u001b[0m\u001b[0;34m(\u001b[0m\u001b[0minfo\u001b[0m\u001b[0;34m)\u001b[0m\u001b[0;34m\u001b[0m\u001b[0;34m\u001b[0m\u001b[0m\n\u001b[0;32m--> 641\u001b[0;31m       \u001b[0msys\u001b[0m\u001b[0;34m.\u001b[0m\u001b[0mstdout\u001b[0m\u001b[0;34m.\u001b[0m\u001b[0mflush\u001b[0m\u001b[0;34m(\u001b[0m\u001b[0;34m)\u001b[0m\u001b[0;34m\u001b[0m\u001b[0;34m\u001b[0m\u001b[0m\n\u001b[0m\u001b[1;32m    642\u001b[0m \u001b[0;34m\u001b[0m\u001b[0m\n\u001b[1;32m    643\u001b[0m     \u001b[0;32melif\u001b[0m \u001b[0mself\u001b[0m\u001b[0;34m.\u001b[0m\u001b[0mverbose\u001b[0m \u001b[0;34m==\u001b[0m \u001b[0;36m2\u001b[0m\u001b[0;34m:\u001b[0m\u001b[0;34m\u001b[0m\u001b[0;34m\u001b[0m\u001b[0m\n",
            "\u001b[0;32m/usr/local/lib/python3.7/dist-packages/ipykernel/iostream.py\u001b[0m in \u001b[0;36mflush\u001b[0;34m(self)\u001b[0m\n\u001b[1;32m    347\u001b[0m                 \u001b[0mself\u001b[0m\u001b[0;34m.\u001b[0m\u001b[0mpub_thread\u001b[0m\u001b[0;34m.\u001b[0m\u001b[0mschedule\u001b[0m\u001b[0;34m(\u001b[0m\u001b[0mevt\u001b[0m\u001b[0;34m.\u001b[0m\u001b[0mset\u001b[0m\u001b[0;34m)\u001b[0m\u001b[0;34m\u001b[0m\u001b[0;34m\u001b[0m\u001b[0m\n\u001b[1;32m    348\u001b[0m                 \u001b[0;31m# and give a timeout to avoid\u001b[0m\u001b[0;34m\u001b[0m\u001b[0;34m\u001b[0m\u001b[0;34m\u001b[0m\u001b[0m\n\u001b[0;32m--> 349\u001b[0;31m                 \u001b[0;32mif\u001b[0m \u001b[0;32mnot\u001b[0m \u001b[0mevt\u001b[0m\u001b[0;34m.\u001b[0m\u001b[0mwait\u001b[0m\u001b[0;34m(\u001b[0m\u001b[0mself\u001b[0m\u001b[0;34m.\u001b[0m\u001b[0mflush_timeout\u001b[0m\u001b[0;34m)\u001b[0m\u001b[0;34m:\u001b[0m\u001b[0;34m\u001b[0m\u001b[0;34m\u001b[0m\u001b[0m\n\u001b[0m\u001b[1;32m    350\u001b[0m                     \u001b[0;31m# write directly to __stderr__ instead of warning because\u001b[0m\u001b[0;34m\u001b[0m\u001b[0;34m\u001b[0m\u001b[0;34m\u001b[0m\u001b[0m\n\u001b[1;32m    351\u001b[0m                     \u001b[0;31m# if this is happening sys.stderr may be the problem.\u001b[0m\u001b[0;34m\u001b[0m\u001b[0;34m\u001b[0m\u001b[0;34m\u001b[0m\u001b[0m\n",
            "\u001b[0;32m/usr/lib/python3.7/threading.py\u001b[0m in \u001b[0;36mwait\u001b[0;34m(self, timeout)\u001b[0m\n\u001b[1;32m    550\u001b[0m             \u001b[0msignaled\u001b[0m \u001b[0;34m=\u001b[0m \u001b[0mself\u001b[0m\u001b[0;34m.\u001b[0m\u001b[0m_flag\u001b[0m\u001b[0;34m\u001b[0m\u001b[0;34m\u001b[0m\u001b[0m\n\u001b[1;32m    551\u001b[0m             \u001b[0;32mif\u001b[0m \u001b[0;32mnot\u001b[0m \u001b[0msignaled\u001b[0m\u001b[0;34m:\u001b[0m\u001b[0;34m\u001b[0m\u001b[0;34m\u001b[0m\u001b[0m\n\u001b[0;32m--> 552\u001b[0;31m                 \u001b[0msignaled\u001b[0m \u001b[0;34m=\u001b[0m \u001b[0mself\u001b[0m\u001b[0;34m.\u001b[0m\u001b[0m_cond\u001b[0m\u001b[0;34m.\u001b[0m\u001b[0mwait\u001b[0m\u001b[0;34m(\u001b[0m\u001b[0mtimeout\u001b[0m\u001b[0;34m)\u001b[0m\u001b[0;34m\u001b[0m\u001b[0;34m\u001b[0m\u001b[0m\n\u001b[0m\u001b[1;32m    553\u001b[0m             \u001b[0;32mreturn\u001b[0m \u001b[0msignaled\u001b[0m\u001b[0;34m\u001b[0m\u001b[0;34m\u001b[0m\u001b[0m\n\u001b[1;32m    554\u001b[0m \u001b[0;34m\u001b[0m\u001b[0m\n",
            "\u001b[0;32m/usr/lib/python3.7/threading.py\u001b[0m in \u001b[0;36mwait\u001b[0;34m(self, timeout)\u001b[0m\n\u001b[1;32m    298\u001b[0m             \u001b[0;32melse\u001b[0m\u001b[0;34m:\u001b[0m\u001b[0;34m\u001b[0m\u001b[0;34m\u001b[0m\u001b[0m\n\u001b[1;32m    299\u001b[0m                 \u001b[0;32mif\u001b[0m \u001b[0mtimeout\u001b[0m \u001b[0;34m>\u001b[0m \u001b[0;36m0\u001b[0m\u001b[0;34m:\u001b[0m\u001b[0;34m\u001b[0m\u001b[0;34m\u001b[0m\u001b[0m\n\u001b[0;32m--> 300\u001b[0;31m                     \u001b[0mgotit\u001b[0m \u001b[0;34m=\u001b[0m \u001b[0mwaiter\u001b[0m\u001b[0;34m.\u001b[0m\u001b[0macquire\u001b[0m\u001b[0;34m(\u001b[0m\u001b[0;32mTrue\u001b[0m\u001b[0;34m,\u001b[0m \u001b[0mtimeout\u001b[0m\u001b[0;34m)\u001b[0m\u001b[0;34m\u001b[0m\u001b[0;34m\u001b[0m\u001b[0m\n\u001b[0m\u001b[1;32m    301\u001b[0m                 \u001b[0;32melse\u001b[0m\u001b[0;34m:\u001b[0m\u001b[0;34m\u001b[0m\u001b[0;34m\u001b[0m\u001b[0m\n\u001b[1;32m    302\u001b[0m                     \u001b[0mgotit\u001b[0m \u001b[0;34m=\u001b[0m \u001b[0mwaiter\u001b[0m\u001b[0;34m.\u001b[0m\u001b[0macquire\u001b[0m\u001b[0;34m(\u001b[0m\u001b[0;32mFalse\u001b[0m\u001b[0;34m)\u001b[0m\u001b[0;34m\u001b[0m\u001b[0;34m\u001b[0m\u001b[0m\n",
            "\u001b[0;31mKeyboardInterrupt\u001b[0m: "
          ]
        }
      ]
    },
    {
      "cell_type": "code",
      "metadata": {
        "id": "CfbomV0LS9LD"
      },
      "source": [
        "model.load_weights(\"poids_train.hdf5\")"
      ],
      "execution_count": null,
      "outputs": []
    },
    {
      "cell_type": "code",
      "metadata": {
        "id": "8MDY8O1-l6kN"
      },
      "source": [
        "erreur_entrainement = historique.history[\"loss\"]\n",
        "erreur_validation = historique.history[\"val_loss\"]\n",
        "\n",
        "# Affiche l'erreur en fonction de la période\n",
        "plt.figure(figsize=(10, 6))\n",
        "plt.plot(np.arange(0,len(erreur_entrainement)),erreur_entrainement, label=\"Erreurs sur les entrainements\")\n",
        "plt.plot(np.arange(0,len(erreur_entrainement)),erreur_validation, label =\"Erreurs sur les validations\")\n",
        "plt.legend()\n",
        "\n",
        "plt.title(\"Evolution de l'erreur en fonction de la période\")"
      ],
      "execution_count": null,
      "outputs": []
    },
    {
      "cell_type": "code",
      "metadata": {
        "id": "uEuSDQ6vZnBm",
        "colab": {
          "base_uri": "https://localhost:8080/"
        },
        "outputId": "dc08fd55-495f-4dc8-b92c-13f4404afe27"
      },
      "source": [
        "# Evaluation du modèle\n",
        "\n",
        "model.evaluate(dataset)\n",
        "model.evaluate(dataset_val)\n"
      ],
      "execution_count": null,
      "outputs": [
        {
          "output_type": "stream",
          "text": [
            "555/555 [==============================] - 22s 39ms/step - loss: 0.5131 - mse: 0.5131 - My_MSE: 0.0051\n",
            "135/135 [==============================] - 5s 40ms/step - loss: 0.9717 - mse: 0.9717 - My_MSE: 0.0096\n"
          ],
          "name": "stdout"
        },
        {
          "output_type": "execute_result",
          "data": {
            "text/plain": [
              "[0.9716706275939941, 0.9716708064079285, 0.009568632580339909]"
            ]
          },
          "metadata": {
            "tags": []
          },
          "execution_count": 47
        }
      ]
    },
    {
      "cell_type": "code",
      "metadata": {
        "id": "zOrzs53kvrIw",
        "colab": {
          "base_uri": "https://localhost:8080/",
          "height": 17
        },
        "outputId": "fca188eb-234e-4341-d64a-dbdde602191e"
      },
      "source": [
        "from google.colab import files\n",
        "files.download('poids_train.hdf5')"
      ],
      "execution_count": null,
      "outputs": [
        {
          "output_type": "display_data",
          "data": {
            "application/javascript": [
              "\n",
              "    async function download(id, filename, size) {\n",
              "      if (!google.colab.kernel.accessAllowed) {\n",
              "        return;\n",
              "      }\n",
              "      const div = document.createElement('div');\n",
              "      const label = document.createElement('label');\n",
              "      label.textContent = `Downloading \"${filename}\": `;\n",
              "      div.appendChild(label);\n",
              "      const progress = document.createElement('progress');\n",
              "      progress.max = size;\n",
              "      div.appendChild(progress);\n",
              "      document.body.appendChild(div);\n",
              "\n",
              "      const buffers = [];\n",
              "      let downloaded = 0;\n",
              "\n",
              "      const channel = await google.colab.kernel.comms.open(id);\n",
              "      // Send a message to notify the kernel that we're ready.\n",
              "      channel.send({})\n",
              "\n",
              "      for await (const message of channel.messages) {\n",
              "        // Send a message to notify the kernel that we're ready.\n",
              "        channel.send({})\n",
              "        if (message.buffers) {\n",
              "          for (const buffer of message.buffers) {\n",
              "            buffers.push(buffer);\n",
              "            downloaded += buffer.byteLength;\n",
              "            progress.value = downloaded;\n",
              "          }\n",
              "        }\n",
              "      }\n",
              "      const blob = new Blob(buffers, {type: 'application/binary'});\n",
              "      const a = document.createElement('a');\n",
              "      a.href = window.URL.createObjectURL(blob);\n",
              "      a.download = filename;\n",
              "      div.appendChild(a);\n",
              "      a.click();\n",
              "      div.remove();\n",
              "    }\n",
              "  "
            ],
            "text/plain": [
              "<IPython.core.display.Javascript object>"
            ]
          },
          "metadata": {
            "tags": []
          }
        },
        {
          "output_type": "display_data",
          "data": {
            "application/javascript": [
              "download(\"download_1bba8a02-0c36-4c3c-aaac-f6ae5fc66158\", \"poids_train.hdf5\", 5040456)"
            ],
            "text/plain": [
              "<IPython.core.display.Javascript object>"
            ]
          },
          "metadata": {
            "tags": []
          }
        }
      ]
    },
    {
      "cell_type": "markdown",
      "metadata": {
        "id": "lbzro22hgt4b"
      },
      "source": [
        "**3. Prédictions**"
      ]
    },
    {
      "cell_type": "code",
      "metadata": {
        "id": "wMmVn1e5zEAm",
        "colab": {
          "base_uri": "https://localhost:8080/",
          "height": 231
        },
        "outputId": "348fc04d-c8cb-461c-8707-08ae4b1f27ec"
      },
      "source": [
        "# Création des instants d'entrainement et de validation\n",
        "y_train_timing = serie_entrainement.index[taille_fenetre + horizon - 1:taille_fenetre + horizon - 1+len(y_train)]\n",
        "y_val_timing = serie_test.index[taille_fenetre + horizon - 1:taille_fenetre + horizon - 1+len(y_val)]\n",
        "\n",
        "# Calcul des prédictions\n",
        "pred_ent = model.predict(x_train, verbose=1)\n",
        "pred_val = model.predict(x_val, verbose=1)"
      ],
      "execution_count": null,
      "outputs": [
        {
          "output_type": "error",
          "ename": "NameError",
          "evalue": "ignored",
          "traceback": [
            "\u001b[0;31m---------------------------------------------------------------------------\u001b[0m",
            "\u001b[0;31mNameError\u001b[0m                                 Traceback (most recent call last)",
            "\u001b[0;32m<ipython-input-49-6e28f18428f0>\u001b[0m in \u001b[0;36m<module>\u001b[0;34m()\u001b[0m\n\u001b[1;32m      1\u001b[0m \u001b[0;31m# Création des instants d'entrainement et de validation\u001b[0m\u001b[0;34m\u001b[0m\u001b[0;34m\u001b[0m\u001b[0;34m\u001b[0m\u001b[0m\n\u001b[0;32m----> 2\u001b[0;31m \u001b[0my_train_timing\u001b[0m \u001b[0;34m=\u001b[0m \u001b[0mserie_entrainement\u001b[0m\u001b[0;34m.\u001b[0m\u001b[0mindex\u001b[0m\u001b[0;34m[\u001b[0m\u001b[0mtaille_fenetre\u001b[0m \u001b[0;34m+\u001b[0m \u001b[0mhorizon\u001b[0m \u001b[0;34m-\u001b[0m \u001b[0;36m1\u001b[0m\u001b[0;34m:\u001b[0m\u001b[0mtaille_fenetre\u001b[0m \u001b[0;34m+\u001b[0m \u001b[0mhorizon\u001b[0m \u001b[0;34m-\u001b[0m \u001b[0;36m1\u001b[0m\u001b[0;34m+\u001b[0m\u001b[0mlen\u001b[0m\u001b[0;34m(\u001b[0m\u001b[0my_train\u001b[0m\u001b[0;34m)\u001b[0m\u001b[0;34m]\u001b[0m\u001b[0;34m\u001b[0m\u001b[0;34m\u001b[0m\u001b[0m\n\u001b[0m\u001b[1;32m      3\u001b[0m \u001b[0my_val_timing\u001b[0m \u001b[0;34m=\u001b[0m \u001b[0mserie_test\u001b[0m\u001b[0;34m.\u001b[0m\u001b[0mindex\u001b[0m\u001b[0;34m[\u001b[0m\u001b[0mtaille_fenetre\u001b[0m \u001b[0;34m+\u001b[0m \u001b[0mhorizon\u001b[0m \u001b[0;34m-\u001b[0m \u001b[0;36m1\u001b[0m\u001b[0;34m:\u001b[0m\u001b[0mtaille_fenetre\u001b[0m \u001b[0;34m+\u001b[0m \u001b[0mhorizon\u001b[0m \u001b[0;34m-\u001b[0m \u001b[0;36m1\u001b[0m\u001b[0;34m+\u001b[0m\u001b[0mlen\u001b[0m\u001b[0;34m(\u001b[0m\u001b[0my_val\u001b[0m\u001b[0;34m)\u001b[0m\u001b[0;34m]\u001b[0m\u001b[0;34m\u001b[0m\u001b[0;34m\u001b[0m\u001b[0m\n\u001b[1;32m      4\u001b[0m \u001b[0;34m\u001b[0m\u001b[0m\n\u001b[1;32m      5\u001b[0m \u001b[0;31m# Calcul des prédictions\u001b[0m\u001b[0;34m\u001b[0m\u001b[0;34m\u001b[0m\u001b[0;34m\u001b[0m\u001b[0m\n",
            "\u001b[0;31mNameError\u001b[0m: name 'y_train' is not defined"
          ]
        }
      ]
    },
    {
      "cell_type": "markdown",
      "metadata": {
        "id": "fsT_RRS6iFhA"
      },
      "source": [
        "**4.Affichage sur une période de 1 heure**"
      ]
    },
    {
      "cell_type": "markdown",
      "metadata": {
        "id": "hoGhoCJWHOuj"
      },
      "source": [
        "Création d'une série contenant les valeurs originales et les prédictions, synchronisées dans le temps :"
      ]
    },
    {
      "cell_type": "code",
      "metadata": {
        "id": "mBWDeZVBfynP"
      },
      "source": [
        "serie_btc_ent_ori = serie_entrainement*std+mean\n",
        "serie_btc_val_ori = serie_test*std+mean\n",
        "\n",
        "serie_btc_ent_pred = pd.Series(data=(pred_ent[:,0]*std+mean),index=y_train_timing)\n",
        "serie_btc_val_pred = pd.Series(data=(pred_val[:,0]*std+mean),index=y_val_timing)\n",
        "\n",
        "serie_btc_ori = pd.concat([serie_btc_ent_ori,serie_btc_val_ori])\n",
        "serie_btc_pred = pd.concat([serie_btc_ent_pred,serie_btc_val_pred])\n",
        "\n",
        "serie_btc_ori = serie_btc_ori.fillna(method=\"backfill\")\n",
        "serie_btc_pred = serie_btc_pred.fillna(method=\"backfill\")\n",
        "\n",
        "serie_btc_ent_ori = serie_btc_ent_ori.fillna(method=\"backfill\")\n",
        "serie_btc_val_ori = serie_btc_val_ori.fillna(method=\"backfill\")\n",
        "serie_btc_ent_pred = serie_btc_ent_pred.fillna(method=\"backfill\")\n",
        "serie_btc_val_pred = serie_btc_val_pred.fillna(method=\"backfill\")\n",
        "\n",
        "frame = {'BTC_ALL' : serie_btc_ori, 'BTC_ENT': serie_btc_ent_ori, 'BTC_VAL' : serie_btc_val_ori, 'BTC_PRED' : serie_btc_pred, 'BTC_PRED_ENT' : serie_btc_ent_pred, 'BTC_PRED_VAL':serie_btc_val_pred}\n",
        "df_resultats = pd.DataFrame(frame)\n",
        "df_resultats"
      ],
      "execution_count": null,
      "outputs": []
    },
    {
      "cell_type": "code",
      "metadata": {
        "id": "5pFnvAVy-3lM"
      },
      "source": [
        "import plotly.graph_objects as go\n",
        "\n",
        "fig = go.Figure()\n",
        "\n",
        "# Courbe originale\n",
        "fig.add_trace(go.Scatter(x=df_resultats.index,y=df_resultats['BTC_ALL'],line=dict(color='blue', width=1),name=\"Prix BTC\"))\n",
        "\n",
        "# Courbes des prédictions d'entrainement\n",
        "fig.add_trace(go.Scatter(x=df_resultats.index,y=df_resultats['BTC_PRED_ENT'],line=dict(color='green', width=1),name=\"Entrainement\"))\n",
        "\n",
        "# Courbe de validation\n",
        "fig.add_trace(go.Scatter(x=df_resultats.index,y=df_resultats['BTC_PRED_VAL'],line=dict(color='red', width=1),name=\"Validation\"))\n",
        "\n",
        "fig.update_xaxes(rangeslider_visible=True)\n",
        "yaxis=dict(autorange = True,fixedrange= False)\n",
        "fig.update_yaxes(yaxis)\n",
        "fig.show()"
      ],
      "execution_count": null,
      "outputs": []
    },
    {
      "cell_type": "code",
      "metadata": {
        "id": "kNUg-0NAR0gv"
      },
      "source": [
        "serie_etude"
      ],
      "execution_count": null,
      "outputs": []
    },
    {
      "cell_type": "code",
      "metadata": {
        "id": "V0SkDEbHS2my"
      },
      "source": [
        "from scipy.special import inv_boxcox"
      ],
      "execution_count": null,
      "outputs": []
    },
    {
      "cell_type": "code",
      "metadata": {
        "id": "6Nv-2zsjTTJ6"
      },
      "source": [
        "from scipy.integrate import cumtrapz\n",
        "import numpy as np\n",
        "import matplotlib.pyplot as plt\n",
        "\n",
        "def f(x):\n",
        "    return serie_etude['Open'][0:taille_fenetre+1]\n",
        "\n",
        "f = np.vectorize(f)\n",
        "\n",
        "X = np.linspace(0,taille_fenetre+1,taille_fenetre+2)\n",
        "\n",
        "fv = f(X)\n",
        "plt.plot(fv)\n",
        "\n",
        "F = cumtrapz(fv, x=X, initial=0)\n",
        "plt.plot(F);"
      ],
      "execution_count": null,
      "outputs": []
    },
    {
      "cell_type": "code",
      "metadata": {
        "id": "3_C5qDpsRkrP",
        "colab": {
          "base_uri": "https://localhost:8080/",
          "height": 442
        },
        "outputId": "4bc4bfb7-a155-48b1-d66b-3d536043e00b"
      },
      "source": [
        "from statsmodels.tsa.statespace.tools import diff\n",
        "\n",
        "predictions=[]\n",
        "\n",
        "for t in range(0,200):\n",
        "  data_to_predict = serie_etude['Open'][t:t+taille_fenetre+1]\n",
        "  data_to_predict = boxcox(data_to_predict,lam)\n",
        "  data_to_predict = data_to_predict - trend[t:t+taille_fenetre+1]\n",
        "  data_to_predict = diff(data_to_predict,1)\n",
        "  data_to_predict = np.insert(data_to_predict,0,0)\n",
        "\n",
        "  data_to_predict = tf.expand_dims(data_to_predict,axis=1)\n",
        "  data_to_predict = tf.expand_dims(data_to_predict,axis=0)\n",
        "  pred = model.predict(data_to_predict[:,1:,:])\n",
        "  predictions.append(pred[0])"
      ],
      "execution_count": null,
      "outputs": [
        {
          "output_type": "error",
          "ename": "InvalidArgumentError",
          "evalue": "ignored",
          "traceback": [
            "\u001b[0;31m---------------------------------------------------------------------------\u001b[0m",
            "\u001b[0;31mInvalidArgumentError\u001b[0m                      Traceback (most recent call last)",
            "\u001b[0;32m<ipython-input-50-7da9adc6b044>\u001b[0m in \u001b[0;36m<module>\u001b[0;34m()\u001b[0m\n\u001b[1;32m     12\u001b[0m   \u001b[0mdata_to_predict\u001b[0m \u001b[0;34m=\u001b[0m \u001b[0mtf\u001b[0m\u001b[0;34m.\u001b[0m\u001b[0mexpand_dims\u001b[0m\u001b[0;34m(\u001b[0m\u001b[0mdata_to_predict\u001b[0m\u001b[0;34m,\u001b[0m\u001b[0maxis\u001b[0m\u001b[0;34m=\u001b[0m\u001b[0;36m1\u001b[0m\u001b[0;34m)\u001b[0m\u001b[0;34m\u001b[0m\u001b[0;34m\u001b[0m\u001b[0m\n\u001b[1;32m     13\u001b[0m   \u001b[0mdata_to_predict\u001b[0m \u001b[0;34m=\u001b[0m \u001b[0mtf\u001b[0m\u001b[0;34m.\u001b[0m\u001b[0mexpand_dims\u001b[0m\u001b[0;34m(\u001b[0m\u001b[0mdata_to_predict\u001b[0m\u001b[0;34m,\u001b[0m\u001b[0maxis\u001b[0m\u001b[0;34m=\u001b[0m\u001b[0;36m0\u001b[0m\u001b[0;34m)\u001b[0m\u001b[0;34m\u001b[0m\u001b[0;34m\u001b[0m\u001b[0m\n\u001b[0;32m---> 14\u001b[0;31m   \u001b[0mpred\u001b[0m \u001b[0;34m=\u001b[0m \u001b[0mmodel\u001b[0m\u001b[0;34m.\u001b[0m\u001b[0mpredict\u001b[0m\u001b[0;34m(\u001b[0m\u001b[0mdata_to_predict\u001b[0m\u001b[0;34m[\u001b[0m\u001b[0;34m:\u001b[0m\u001b[0;34m,\u001b[0m\u001b[0;36m1\u001b[0m\u001b[0;34m:\u001b[0m\u001b[0;34m,\u001b[0m\u001b[0;34m:\u001b[0m\u001b[0;34m]\u001b[0m\u001b[0;34m)\u001b[0m\u001b[0;34m\u001b[0m\u001b[0;34m\u001b[0m\u001b[0m\n\u001b[0m\u001b[1;32m     15\u001b[0m   \u001b[0mpredictions\u001b[0m\u001b[0;34m.\u001b[0m\u001b[0mappend\u001b[0m\u001b[0;34m(\u001b[0m\u001b[0mpred\u001b[0m\u001b[0;34m[\u001b[0m\u001b[0;36m0\u001b[0m\u001b[0;34m]\u001b[0m\u001b[0;34m)\u001b[0m\u001b[0;34m\u001b[0m\u001b[0;34m\u001b[0m\u001b[0m\n",
            "\u001b[0;32m/usr/local/lib/python3.7/dist-packages/tensorflow/python/keras/engine/training.py\u001b[0m in \u001b[0;36mpredict\u001b[0;34m(self, x, batch_size, verbose, steps, callbacks, max_queue_size, workers, use_multiprocessing)\u001b[0m\n\u001b[1;32m   1627\u001b[0m           \u001b[0;32mfor\u001b[0m \u001b[0mstep\u001b[0m \u001b[0;32min\u001b[0m \u001b[0mdata_handler\u001b[0m\u001b[0;34m.\u001b[0m\u001b[0msteps\u001b[0m\u001b[0;34m(\u001b[0m\u001b[0;34m)\u001b[0m\u001b[0;34m:\u001b[0m\u001b[0;34m\u001b[0m\u001b[0;34m\u001b[0m\u001b[0m\n\u001b[1;32m   1628\u001b[0m             \u001b[0mcallbacks\u001b[0m\u001b[0;34m.\u001b[0m\u001b[0mon_predict_batch_begin\u001b[0m\u001b[0;34m(\u001b[0m\u001b[0mstep\u001b[0m\u001b[0;34m)\u001b[0m\u001b[0;34m\u001b[0m\u001b[0;34m\u001b[0m\u001b[0m\n\u001b[0;32m-> 1629\u001b[0;31m             \u001b[0mtmp_batch_outputs\u001b[0m \u001b[0;34m=\u001b[0m \u001b[0mself\u001b[0m\u001b[0;34m.\u001b[0m\u001b[0mpredict_function\u001b[0m\u001b[0;34m(\u001b[0m\u001b[0miterator\u001b[0m\u001b[0;34m)\u001b[0m\u001b[0;34m\u001b[0m\u001b[0;34m\u001b[0m\u001b[0m\n\u001b[0m\u001b[1;32m   1630\u001b[0m             \u001b[0;32mif\u001b[0m \u001b[0mdata_handler\u001b[0m\u001b[0;34m.\u001b[0m\u001b[0mshould_sync\u001b[0m\u001b[0;34m:\u001b[0m\u001b[0;34m\u001b[0m\u001b[0;34m\u001b[0m\u001b[0m\n\u001b[1;32m   1631\u001b[0m               \u001b[0mcontext\u001b[0m\u001b[0;34m.\u001b[0m\u001b[0masync_wait\u001b[0m\u001b[0;34m(\u001b[0m\u001b[0;34m)\u001b[0m\u001b[0;34m\u001b[0m\u001b[0;34m\u001b[0m\u001b[0m\n",
            "\u001b[0;32m/usr/local/lib/python3.7/dist-packages/tensorflow/python/eager/def_function.py\u001b[0m in \u001b[0;36m__call__\u001b[0;34m(self, *args, **kwds)\u001b[0m\n\u001b[1;32m    826\u001b[0m     \u001b[0mtracing_count\u001b[0m \u001b[0;34m=\u001b[0m \u001b[0mself\u001b[0m\u001b[0;34m.\u001b[0m\u001b[0mexperimental_get_tracing_count\u001b[0m\u001b[0;34m(\u001b[0m\u001b[0;34m)\u001b[0m\u001b[0;34m\u001b[0m\u001b[0;34m\u001b[0m\u001b[0m\n\u001b[1;32m    827\u001b[0m     \u001b[0;32mwith\u001b[0m \u001b[0mtrace\u001b[0m\u001b[0;34m.\u001b[0m\u001b[0mTrace\u001b[0m\u001b[0;34m(\u001b[0m\u001b[0mself\u001b[0m\u001b[0;34m.\u001b[0m\u001b[0m_name\u001b[0m\u001b[0;34m)\u001b[0m \u001b[0;32mas\u001b[0m \u001b[0mtm\u001b[0m\u001b[0;34m:\u001b[0m\u001b[0;34m\u001b[0m\u001b[0;34m\u001b[0m\u001b[0m\n\u001b[0;32m--> 828\u001b[0;31m       \u001b[0mresult\u001b[0m \u001b[0;34m=\u001b[0m \u001b[0mself\u001b[0m\u001b[0;34m.\u001b[0m\u001b[0m_call\u001b[0m\u001b[0;34m(\u001b[0m\u001b[0;34m*\u001b[0m\u001b[0margs\u001b[0m\u001b[0;34m,\u001b[0m \u001b[0;34m**\u001b[0m\u001b[0mkwds\u001b[0m\u001b[0;34m)\u001b[0m\u001b[0;34m\u001b[0m\u001b[0;34m\u001b[0m\u001b[0m\n\u001b[0m\u001b[1;32m    829\u001b[0m       \u001b[0mcompiler\u001b[0m \u001b[0;34m=\u001b[0m \u001b[0;34m\"xla\"\u001b[0m \u001b[0;32mif\u001b[0m \u001b[0mself\u001b[0m\u001b[0;34m.\u001b[0m\u001b[0m_experimental_compile\u001b[0m \u001b[0;32melse\u001b[0m \u001b[0;34m\"nonXla\"\u001b[0m\u001b[0;34m\u001b[0m\u001b[0;34m\u001b[0m\u001b[0m\n\u001b[1;32m    830\u001b[0m       \u001b[0mnew_tracing_count\u001b[0m \u001b[0;34m=\u001b[0m \u001b[0mself\u001b[0m\u001b[0;34m.\u001b[0m\u001b[0mexperimental_get_tracing_count\u001b[0m\u001b[0;34m(\u001b[0m\u001b[0;34m)\u001b[0m\u001b[0;34m\u001b[0m\u001b[0;34m\u001b[0m\u001b[0m\n",
            "\u001b[0;32m/usr/local/lib/python3.7/dist-packages/tensorflow/python/eager/def_function.py\u001b[0m in \u001b[0;36m_call\u001b[0;34m(self, *args, **kwds)\u001b[0m\n\u001b[1;32m    893\u001b[0m       \u001b[0;31m# If we did not create any variables the trace we have is good enough.\u001b[0m\u001b[0;34m\u001b[0m\u001b[0;34m\u001b[0m\u001b[0;34m\u001b[0m\u001b[0m\n\u001b[1;32m    894\u001b[0m       return self._concrete_stateful_fn._call_flat(\n\u001b[0;32m--> 895\u001b[0;31m           filtered_flat_args, self._concrete_stateful_fn.captured_inputs)  # pylint: disable=protected-access\n\u001b[0m\u001b[1;32m    896\u001b[0m \u001b[0;34m\u001b[0m\u001b[0m\n\u001b[1;32m    897\u001b[0m     \u001b[0;32mdef\u001b[0m \u001b[0mfn_with_cond\u001b[0m\u001b[0;34m(\u001b[0m\u001b[0minner_args\u001b[0m\u001b[0;34m,\u001b[0m \u001b[0minner_kwds\u001b[0m\u001b[0;34m,\u001b[0m \u001b[0minner_filtered_flat_args\u001b[0m\u001b[0;34m)\u001b[0m\u001b[0;34m:\u001b[0m\u001b[0;34m\u001b[0m\u001b[0;34m\u001b[0m\u001b[0m\n",
            "\u001b[0;32m/usr/local/lib/python3.7/dist-packages/tensorflow/python/eager/function.py\u001b[0m in \u001b[0;36m_call_flat\u001b[0;34m(self, args, captured_inputs, cancellation_manager)\u001b[0m\n\u001b[1;32m   1917\u001b[0m       \u001b[0;31m# No tape is watching; skip to running the function.\u001b[0m\u001b[0;34m\u001b[0m\u001b[0;34m\u001b[0m\u001b[0;34m\u001b[0m\u001b[0m\n\u001b[1;32m   1918\u001b[0m       return self._build_call_outputs(self._inference_function.call(\n\u001b[0;32m-> 1919\u001b[0;31m           ctx, args, cancellation_manager=cancellation_manager))\n\u001b[0m\u001b[1;32m   1920\u001b[0m     forward_backward = self._select_forward_and_backward_functions(\n\u001b[1;32m   1921\u001b[0m         \u001b[0margs\u001b[0m\u001b[0;34m,\u001b[0m\u001b[0;34m\u001b[0m\u001b[0;34m\u001b[0m\u001b[0m\n",
            "\u001b[0;32m/usr/local/lib/python3.7/dist-packages/tensorflow/python/eager/function.py\u001b[0m in \u001b[0;36mcall\u001b[0;34m(self, ctx, args, cancellation_manager)\u001b[0m\n\u001b[1;32m    558\u001b[0m               \u001b[0minputs\u001b[0m\u001b[0;34m=\u001b[0m\u001b[0margs\u001b[0m\u001b[0;34m,\u001b[0m\u001b[0;34m\u001b[0m\u001b[0;34m\u001b[0m\u001b[0m\n\u001b[1;32m    559\u001b[0m               \u001b[0mattrs\u001b[0m\u001b[0;34m=\u001b[0m\u001b[0mattrs\u001b[0m\u001b[0;34m,\u001b[0m\u001b[0;34m\u001b[0m\u001b[0;34m\u001b[0m\u001b[0m\n\u001b[0;32m--> 560\u001b[0;31m               ctx=ctx)\n\u001b[0m\u001b[1;32m    561\u001b[0m         \u001b[0;32melse\u001b[0m\u001b[0;34m:\u001b[0m\u001b[0;34m\u001b[0m\u001b[0;34m\u001b[0m\u001b[0m\n\u001b[1;32m    562\u001b[0m           outputs = execute.execute_with_cancellation(\n",
            "\u001b[0;32m/usr/local/lib/python3.7/dist-packages/tensorflow/python/eager/execute.py\u001b[0m in \u001b[0;36mquick_execute\u001b[0;34m(op_name, num_outputs, inputs, attrs, ctx, name)\u001b[0m\n\u001b[1;32m     58\u001b[0m     \u001b[0mctx\u001b[0m\u001b[0;34m.\u001b[0m\u001b[0mensure_initialized\u001b[0m\u001b[0;34m(\u001b[0m\u001b[0;34m)\u001b[0m\u001b[0;34m\u001b[0m\u001b[0;34m\u001b[0m\u001b[0m\n\u001b[1;32m     59\u001b[0m     tensors = pywrap_tfe.TFE_Py_Execute(ctx._handle, device_name, op_name,\n\u001b[0;32m---> 60\u001b[0;31m                                         inputs, attrs, num_outputs)\n\u001b[0m\u001b[1;32m     61\u001b[0m   \u001b[0;32mexcept\u001b[0m \u001b[0mcore\u001b[0m\u001b[0;34m.\u001b[0m\u001b[0m_NotOkStatusException\u001b[0m \u001b[0;32mas\u001b[0m \u001b[0me\u001b[0m\u001b[0;34m:\u001b[0m\u001b[0;34m\u001b[0m\u001b[0;34m\u001b[0m\u001b[0m\n\u001b[1;32m     62\u001b[0m     \u001b[0;32mif\u001b[0m \u001b[0mname\u001b[0m \u001b[0;32mis\u001b[0m \u001b[0;32mnot\u001b[0m \u001b[0;32mNone\u001b[0m\u001b[0;34m:\u001b[0m\u001b[0;34m\u001b[0m\u001b[0;34m\u001b[0m\u001b[0m\n",
            "\u001b[0;31mInvalidArgumentError\u001b[0m:    Invalid input_h shape: [1,100,500] [1,1,500]\n\t [[{{node CudnnRNN}}]]\n\t [[model_4/lstm_5/PartitionedCall]] [Op:__inference_predict_function_1247336]\n\nFunction call stack:\npredict_function -> predict_function -> predict_function\n"
          ]
        }
      ]
    },
    {
      "cell_type": "code",
      "metadata": {
        "id": "2Zp30SLWZ7cG"
      },
      "source": [
        "np.asarray(predictions)[:,0]"
      ],
      "execution_count": null,
      "outputs": []
    },
    {
      "cell_type": "code",
      "metadata": {
        "id": "OP2cvVBUW36R"
      },
      "source": [
        "serie_etude.index[taille_fenetre+1:taille_fenetre+2]"
      ],
      "execution_count": null,
      "outputs": []
    },
    {
      "cell_type": "code",
      "metadata": {
        "id": "7n75-EQyUfk8"
      },
      "source": [
        "import plotly.graph_objects as go\n",
        "\n",
        "fig = go.Figure()\n",
        "\n",
        "tmax = len(np.asarray(predictions)[:,0])\n",
        "\n",
        "# Courbe originale\n",
        "fig.add_trace(go.Scatter(x=serie_etude.index,y=serie_etude['diff'][0:taille_fenetre+1],line=dict(color='blue', width=1),name=\"diff_reel\"))\n",
        "\n",
        "# Courbes des prédictions d'entrainement\n",
        "#fig.add_trace(go.Scatter(x=serie_etude.index,y=data_to_predict[:,:,0][0],line=dict(color='green', width=1),name=\"data_to_predict\"))\n",
        "fig.add_trace(go.Scatter(x=serie_etude.index[taille_fenetre+1:taille_fenetre+1+tmax],y=np.asarray(predictions)[:,0],line=dict(color='red', width=1),name=\"prediction\"))\n",
        "\n",
        "fig.add_trace(go.Scatter(x=serie_etude.index[taille_fenetre+1:taille_fenetre+1+tmax],y=serie_etude['diff'][taille_fenetre+1:taille_fenetre+1+tmax],line=dict(color='black', width=1),name=\"true\"))\n",
        "\n",
        "\n",
        "\n",
        "\n",
        "fig.update_xaxes(rangeslider_visible=True)\n",
        "yaxis=dict(autorange = True,fixedrange= False)\n",
        "fig.update_yaxes(yaxis)\n",
        "fig.show()"
      ],
      "execution_count": null,
      "outputs": []
    },
    {
      "cell_type": "markdown",
      "metadata": {
        "id": "T72zWjfGrtQu"
      },
      "source": [
        "# Création du modèle LSTM"
      ]
    },
    {
      "cell_type": "markdown",
      "metadata": {
        "id": "jr-AD-INrtQv"
      },
      "source": [
        "**1. Création du réseau**"
      ]
    },
    {
      "cell_type": "markdown",
      "metadata": {
        "id": "ipNxd-RNrtQv"
      },
      "source": [
        "Par défaut, la dimension des vecteurs cachés est de 10 et aucune régularisation n'est utilisée."
      ]
    },
    {
      "cell_type": "code",
      "metadata": {
        "id": "52Iv3nK0rtQ9"
      },
      "source": [
        "dim_LSTM = 40\n",
        "l1_reg = 0.0\n",
        "l2_reg = 0.0\n",
        "\n",
        "entrees = tf.keras.layers.Input(shape=(taille_fenetre,1))\n",
        "\n",
        "# Encodeur\n",
        "s_encodeur = tf.keras.layers.LSTM(dim_LSTM, kernel_regularizer=tf.keras.regularizers.l1_l2(l1=l1_reg,l2=l2_reg))(entrees)\n",
        "  \n",
        "# Générateur\n",
        "sortie = tf.keras.layers.Dense(1,kernel_regularizer=tf.keras.regularizers.l1_l2(l1=l1_reg,l2=l2_reg))(s_encodeur)\n",
        "\n",
        "# Construction du modèle\n",
        "model = tf.keras.Model(entrees,sortie)\n",
        "model.summary()"
      ],
      "execution_count": null,
      "outputs": []
    },
    {
      "cell_type": "markdown",
      "metadata": {
        "id": "3qv4ZaPfrtQ-"
      },
      "source": [
        "**2. Optimisation de l'apprentissage**"
      ]
    },
    {
      "cell_type": "markdown",
      "metadata": {
        "id": "TlrGDGQ-rtQ-"
      },
      "source": [
        "Pour accélérer le traitement des données, nous n'allons pas utiliser l'intégralité des données pendant la mise à jour du gradient, comme cela a été fait jusqu'à présent (en utilisant le dataset).  \n",
        "Cette fois-ci, nous allons forcer les mises à jour du gradient à se produire de manière moins fréquente en attribuant la valeur du batch_size à prendre en compte lors de la regression du modèle.  \n",
        "Pour cela, on utilise l'argument \"batch_size\" dans la méthode fit. En précisant un batch_size=1000, cela signifie que :\n",
        " - Sur notre total de 56000 échantillons, 56 seront utilisés pour les calculs du gradient\n",
        " - Il y aura également 56 itérations à chaque période.\n",
        "  \n",
        "    \n",
        "    \n",
        "Si nous avions pris le dataset comme entrée, nous aurions eu :\n",
        "- Un total de 56000 échantillons également\n",
        "- Chaque période aurait également pris 56 itérations pour se compléter\n",
        "- Mais 1000 échantillons auraient été utilisés pour le calcul du gradient, au lieu de 56 avec la méthode utilisée."
      ]
    },
    {
      "cell_type": "code",
      "metadata": {
        "id": "IOnTaeMSrtQ_"
      },
      "source": [
        "batch_size = 1000"
      ],
      "execution_count": null,
      "outputs": []
    },
    {
      "cell_type": "code",
      "metadata": {
        "id": "APgK7pSyrtQ_"
      },
      "source": [
        "# Définition de la fonction de régulation du taux d'apprentissage\n",
        "def RegulationTauxApprentissage(periode, taux):\n",
        "  return 1e-8*10**(periode/10)\n",
        "\n",
        "# Définition de l'optimiseur à utiliser\n",
        "optimiseur=tf.keras.optimizers.Adam()\n",
        "\n",
        "# Compile le modèle\n",
        "model.compile(loss=\"logcosh\", optimizer=optimiseur, metrics=\"mse\")\n",
        "\n",
        "# Utilisation de la méthode ModelCheckPoint\n",
        "CheckPoint = tf.keras.callbacks.ModelCheckpoint(\"poids.hdf5\", monitor='loss', verbose=1, save_best_only=True, save_weights_only = True, mode='auto', save_freq='epoch')\n",
        "\n",
        "# Entraine le modèle en utilisant notre fonction personnelle de régulation du taux d'apprentissage\n",
        "historique = model.fit(x=x_train,y=y_train,epochs=100,verbose=1, callbacks=[tf.keras.callbacks.LearningRateScheduler(RegulationTauxApprentissage), CheckPoint],batch_size=batch_size)"
      ],
      "execution_count": null,
      "outputs": []
    },
    {
      "cell_type": "code",
      "metadata": {
        "id": "oFX_PudkrtRA"
      },
      "source": [
        "# Construit un vecteur avec les valeurs du taux d'apprentissage à chaque période \n",
        "taux = 1e-8*(10**(np.arange(100)/10))\n",
        "\n",
        "# Affiche l'erreur en fonction du taux d'apprentissage\n",
        "plt.figure(figsize=(10, 6))\n",
        "plt.semilogx(taux,historique.history[\"loss\"])\n",
        "plt.axis([ taux[30], taux[99], 0, 0.04])\n",
        "plt.title(\"Evolution de l'erreur en fonction du taux d'apprentissage\")"
      ],
      "execution_count": null,
      "outputs": []
    },
    {
      "cell_type": "code",
      "metadata": {
        "id": "W8ptlq-JrtRA"
      },
      "source": [
        "# Chargement des poids sauvegardés\n",
        "model.load_weights(\"poids.hdf5\")"
      ],
      "execution_count": null,
      "outputs": []
    },
    {
      "cell_type": "code",
      "metadata": {
        "id": "OQ_TJVE_rtRB"
      },
      "source": [
        "max_periodes = 1000\n",
        "\n",
        "# Classe permettant d'arrêter l'entrainement si la variation\n",
        "# devient plus petite qu'une valeur à choisir sur un nombre\n",
        "# de périodes à choisir\n",
        "class StopTrain(keras.callbacks.Callback):\n",
        "    def __init__(self, delta=0.01,periodes=100, term=\"loss\", logs={}):\n",
        "      self.n_periodes = 0\n",
        "      self.periodes = periodes\n",
        "      self.loss_1 = 100\n",
        "      self.delta = delta\n",
        "      self.term = term\n",
        "    def on_epoch_end(self, epoch, logs={}):\n",
        "      diff_loss = abs(self.loss_1 - logs[self.term])\n",
        "      self.loss_1 = logs[self.term]\n",
        "      if (diff_loss < self.delta):\n",
        "        self.n_periodes = self.n_periodes + 1\n",
        "      else:\n",
        "        self.n_periodes = 0\n",
        "      if (self.n_periodes == self.periodes):\n",
        "        print(\"Arrêt de l'entrainement...\")\n",
        "        self.model.stop_training = True\n",
        "\n",
        "def  My_MSE(y_true,y_pred):\n",
        "  return(tf.keras.metrics.mse(y_true,y_pred)*std.numpy()+mean.numpy())\n",
        "  \n",
        "# Définition des paramètres liés à l'évolution du taux d'apprentissage\n",
        "lr_schedule = tf.keras.optimizers.schedules.InverseTimeDecay(\n",
        "    initial_learning_rate=0.02,\n",
        "    decay_steps=10,\n",
        "    decay_rate=0.01)\n",
        "\n",
        "# Définition de l'optimiseur à utiliser\n",
        "optimiseur=tf.keras.optimizers.Adam(learning_rate=lr_schedule)\n",
        "\n",
        "\n",
        "# Utilisation de la méthode ModelCheckPoint\n",
        "CheckPoint = tf.keras.callbacks.ModelCheckpoint(\"poids_train.hdf5\", monitor='loss', verbose=1, save_best_only=True, save_weights_only = True, mode='auto', save_freq='epoch')\n",
        "\n",
        "# Compile le modèle\n",
        "model.compile(loss=\"logcosh\", optimizer=optimiseur, metrics=[\"mse\",My_MSE])\n",
        "\n",
        "# Entraine le modèle, avec une réduction des calculs du gradient\n",
        "historique = model.fit(x=x_train,y=y_train,validation_data=(x_val,y_val), epochs=max_periodes,verbose=1, callbacks=[CheckPoint,StopTrain(delta=0.005,periodes = 10, term=\"My_MSE\")],batch_size=batch_size)\n",
        "\n",
        "# Entraine le modèle sans réduction de calculs\n",
        "#historique = model.fit(dataset,validation_data=dataset_val, epochs=max_periodes,verbose=1, callbacks=[CheckPoint,StopTrain(delta=0.1,periodes = 10, term=\"val_My_MSE\")])\n"
      ],
      "execution_count": null,
      "outputs": []
    },
    {
      "cell_type": "code",
      "metadata": {
        "id": "G5ec3f0brtRC"
      },
      "source": [
        "erreur_entrainement = historique.history[\"loss\"]\n",
        "erreur_validation = historique.history[\"val_loss\"]\n",
        "\n",
        "# Affiche l'erreur en fonction de la période\n",
        "plt.figure(figsize=(10, 6))\n",
        "plt.plot(np.arange(0,len(erreur_entrainement)),erreur_entrainement, label=\"Erreurs sur les entrainements\")\n",
        "plt.plot(np.arange(0,len(erreur_entrainement)),erreur_validation, label =\"Erreurs sur les validations\")\n",
        "plt.legend()\n",
        "\n",
        "plt.title(\"Evolution de l'erreur en fonction de la période\")"
      ],
      "execution_count": null,
      "outputs": []
    },
    {
      "cell_type": "code",
      "metadata": {
        "id": "-ZFhBaeYrtRC"
      },
      "source": [
        "# Evaluation du modèle\n",
        "# Avec le modèle type encodeur/décodeur :\n",
        "# 56/56 [==============================] - 7s 113ms/step - loss: 1.1795e-04 - mse: 2.3664e-04 - My_MSE: 2712.2415\n",
        "# 14/14 [==============================] - 2s 113ms/step - loss: 0.3602 - mse: 1.9360 - My_MSE: 9650.2637\n",
        "model.evaluate(dataset)\n",
        "model.evaluate(dataset_val)\n"
      ],
      "execution_count": null,
      "outputs": []
    },
    {
      "cell_type": "markdown",
      "metadata": {
        "id": "Uy8gdKf3rtRC"
      },
      "source": [
        "**3. Prédictions**"
      ]
    },
    {
      "cell_type": "code",
      "metadata": {
        "id": "iodlvc6frtRD"
      },
      "source": [
        "# Création des instants d'entrainement et de validation\n",
        "y_train_timing = serie_entrainement.index[taille_fenetre + horizon - 1:taille_fenetre + horizon - 1+len(y_train)]\n",
        "y_val_timing = serie_test.index[taille_fenetre + horizon - 1:taille_fenetre + horizon - 1+len(y_val)]\n",
        "\n",
        "# Calcul des prédictions\n",
        "pred_ent = model.predict(x_train, verbose=1)\n",
        "pred_val = model.predict(x_val, verbose=1)"
      ],
      "execution_count": null,
      "outputs": []
    },
    {
      "cell_type": "markdown",
      "metadata": {
        "id": "T7URVy7qrtRD"
      },
      "source": [
        "**4.Affichage sur une période de 1 heure**"
      ]
    },
    {
      "cell_type": "markdown",
      "metadata": {
        "id": "vqONHLBbrtRD"
      },
      "source": [
        "Création d'une série contenant les valeurs originales et les prédictions, synchronisées dans le temps :"
      ]
    },
    {
      "cell_type": "code",
      "metadata": {
        "id": "wDgJ20qOrtRE"
      },
      "source": [
        "serie_btc_ent_ori = serie_entrainement*std+mean\n",
        "serie_btc_val_ori = serie_test*std+mean\n",
        "\n",
        "serie_btc_ent_pred = pd.Series(data=(pred_ent[:,0]*std+mean),index=y_train_timing)\n",
        "serie_btc_val_pred = pd.Series(data=(pred_val[:,0]*std+mean),index=y_val_timing)\n",
        "\n",
        "serie_btc_ori = pd.concat([serie_btc_ent_ori,serie_btc_val_ori])\n",
        "serie_btc_pred = pd.concat([serie_btc_ent_pred,serie_btc_val_pred])\n",
        "\n",
        "serie_btc_ori = serie_btc_ori.fillna(method=\"backfill\")\n",
        "serie_btc_pred = serie_btc_pred.fillna(method=\"backfill\")\n",
        "\n",
        "serie_btc_ent_ori = serie_btc_ent_ori.fillna(method=\"backfill\")\n",
        "serie_btc_val_ori = serie_btc_val_ori.fillna(method=\"backfill\")\n",
        "serie_btc_ent_pred = serie_btc_ent_pred.fillna(method=\"backfill\")\n",
        "serie_btc_val_pred = serie_btc_val_pred.fillna(method=\"backfill\")\n",
        "\n",
        "frame = {'BTC_ALL' : serie_btc_ori, 'BTC_ENT': serie_btc_ent_ori, 'BTC_VAL' : serie_btc_val_ori, 'BTC_PRED' : serie_btc_pred, 'BTC_PRED_ENT' : serie_btc_ent_pred, 'BTC_PRED_VAL':serie_btc_val_pred}\n",
        "df_resultats = pd.DataFrame(frame)\n",
        "df_resultats"
      ],
      "execution_count": null,
      "outputs": []
    },
    {
      "cell_type": "code",
      "metadata": {
        "id": "7W2aoMPBrtRE"
      },
      "source": [
        "date_separation"
      ],
      "execution_count": null,
      "outputs": []
    },
    {
      "cell_type": "code",
      "metadata": {
        "id": "kfObUyVjrtRF"
      },
      "source": [
        "df_resultats.loc[date_separation-pd.Timedelta(hours=7):date_separation+pd.Timedelta(hours=7)]"
      ],
      "execution_count": null,
      "outputs": []
    },
    {
      "cell_type": "code",
      "metadata": {
        "id": "Wv1MZoxPrtRF"
      },
      "source": [
        "import plotly.graph_objects as go\n",
        "\n",
        "fig = go.Figure()\n",
        "\n",
        "# Courbe originale\n",
        "fig.add_trace(go.Scatter(x=df_resultats.index,y=df_resultats['BTC_ALL'],line=dict(color='blue', width=1),name=\"Prix BTC\"))\n",
        "\n",
        "# Courbes des prédictions d'entrainement\n",
        "fig.add_trace(go.Scatter(x=df_resultats.index,y=df_resultats['BTC_PRED_ENT'],line=dict(color='green', width=1),name=\"Entrainement\"))\n",
        "\n",
        "# Courbe de validation\n",
        "fig.add_trace(go.Scatter(x=df_resultats.index,y=df_resultats['BTC_PRED_VAL'],line=dict(color='red', width=1),name=\"Validation\"))\n",
        "\n",
        "fig.update_xaxes(rangeslider_visible=True)\n",
        "yaxis=dict(autorange = True,fixedrange= False)\n",
        "fig.update_yaxes(yaxis)\n",
        "fig.show()"
      ],
      "execution_count": null,
      "outputs": []
    },
    {
      "cell_type": "markdown",
      "metadata": {
        "id": "Aq51_Kk6rtRK"
      },
      "source": [
        "**5. Détection de l'augmentation des erreurs dans la zone de validation**"
      ]
    },
    {
      "cell_type": "markdown",
      "metadata": {
        "id": "I2-WtViDrtRK"
      },
      "source": [
        "On peut imaginer devoir suivre en temps réel l'évolution des prédictions afin de détecter lorsque le modèle n'est plus valide."
      ]
    },
    {
      "cell_type": "code",
      "metadata": {
        "id": "h6hb5UnZrtRK"
      },
      "source": [
        "# Détection de la date où commencent les anomalies\n",
        "# sur la période de validation\n",
        "\n",
        "# Construit les dataframe pour calculer les erreurs\n",
        "df_error_btc_ent = df_resultats[['BTC_ENT','BTC_PRED_ENT']].dropna()\n",
        "df_error_btc_val = df_resultats[['BTC_VAL','BTC_PRED_VAL']].dropna()\n",
        "\n",
        "# Calcul des erreurs relatives sur les entrainements et les validations\n",
        "erreur_ent = abs(np.asarray(df_error_btc_ent['BTC_ENT']) - np.asarray(df_error_btc_ent['BTC_PRED_ENT']))/np.asarray(df_error_btc_ent['BTC_ENT'])*100.0\n",
        "erreur_val = abs(np.asarray(df_error_btc_val['BTC_VAL']) - np.asarray(df_error_btc_val['BTC_PRED_VAL']))/np.asarray(df_error_btc_val['BTC_VAL'])*100.0\n",
        "\n",
        "# Erreur relative moyenne sur les entrainements\n",
        "erreur_ent_mape = tf.keras.metrics.mape(np.asarray(df_error_btc_ent['BTC_ENT']),np.asarray(df_error_btc_ent['BTC_PRED_ENT']))\n",
        "erreur_ent_mape_max = np.amax(erreur_ent)\n",
        "\n",
        "# Calcul le nombre d'anomalies sur les entrainements avec le ratio spécifié\n",
        "nbr_anomalies_ent = np.count_nonzero(erreur_ent>erreur_ent_mape)\n",
        "\n",
        "# Calcul du ratio d'anomalies sur la période d'entrainement\n",
        "ratio_ent = np.count_nonzero(erreur_ent>erreur_ent_mape)/erreur_ent.size\n",
        "\n",
        "# Recherche de la date à partir de laquelle on dépasse l\n",
        "n_erreurs = 0\n",
        "for i in range(5,erreur_val.size):\n",
        "  erreur_val_ = abs(np.asarray(df_error_btc_val['BTC_VAL'][i]) - np.asarray(df_error_btc_val['BTC_PRED_VAL'][i]))/np.asarray(df_error_btc_val['BTC_VAL'][i])*100.0\n",
        "  seuil = erreur_ent_mape_max*1\n",
        "  if erreur_val_ > seuil:\n",
        "    n_erreurs = n_erreurs + 1\n",
        "    if n_erreurs == 5:\n",
        "      index = df_error_btc_val.index[i]\n",
        "      break\n",
        "  else:\n",
        "    n_erreurs = 0\n",
        "print(index)"
      ],
      "execution_count": null,
      "outputs": []
    },
    {
      "cell_type": "code",
      "metadata": {
        "id": "fBcqczT7rtRL"
      },
      "source": [
        "import plotly.graph_objects as go\n",
        "\n",
        "fig = go.Figure()\n",
        "\n",
        "# Courbe originale\n",
        "fig.add_trace(go.Scatter(x=df_resultats.index,y=df_resultats['BTC_ALL'],line=dict(color='blue', width=1),name=\"Prix BTC\"))\n",
        "\n",
        "# Courbes des prédictions d'entrainement\n",
        "fig.add_trace(go.Scatter(x=df_resultats.index,y=df_resultats['BTC_PRED_ENT'],line=dict(color='green', width=1),name=\"Entrainement\"))\n",
        "\n",
        "# Courbe de validation\n",
        "fig.add_trace(go.Scatter(x=df_resultats.index,y=df_resultats['BTC_PRED_VAL'],line=dict(color='red', width=1),name=\"Validation\"))\n",
        "\n",
        "# Délimite la zone d'erreur\n",
        "fig.add_shape(type=\"line\",x0=index,y0=0,x1=index,y1=np.amax(df_resultats['BTC_ALL']),name=\"Zone d'erreur\")\n",
        "\n",
        "# Affiche les courbes\n",
        "fig.update_xaxes(rangeslider_visible=True)\n",
        "yaxis=dict(autorange = True,fixedrange= False)\n",
        "fig.update_yaxes(yaxis)\n",
        "fig.show()"
      ],
      "execution_count": null,
      "outputs": []
    },
    {
      "cell_type": "markdown",
      "metadata": {
        "id": "QlsQSJqmrtRR"
      },
      "source": [
        "**5.Affichage sur une période de 1 jour**"
      ]
    },
    {
      "cell_type": "code",
      "metadata": {
        "id": "P20ThOgSrtRR"
      },
      "source": [
        "# Echantillonage des données\n",
        "time = \"1D\"\n",
        "\n",
        "df_resultats = df_resultats.resample(time).asfreq()\n",
        "df_resultats"
      ],
      "execution_count": null,
      "outputs": []
    },
    {
      "cell_type": "code",
      "metadata": {
        "id": "hhUmbb8TrtRS"
      },
      "source": [
        "import plotly.graph_objects as go\n",
        "\n",
        "fig = go.Figure()\n",
        "\n",
        "# Courbe originale\n",
        "fig.add_trace(go.Scatter(x=df_resultats.index,y=df_resultats['BTC_ALL'],line=dict(color='blue', width=1),name=\"Prix BTC\"))\n",
        "\n",
        "# Courbes des prédictions d'entrainement\n",
        "fig.add_trace(go.Scatter(x=df_resultats.index,y=df_resultats['BTC_PRED_ENT'],line=dict(color='green', width=1),name=\"Entrainement\"))\n",
        "\n",
        "# Courbe de validation\n",
        "fig.add_trace(go.Scatter(x=df_resultats.index,y=df_resultats['BTC_PRED_VAL'],line=dict(color='red', width=1),name=\"Validation\"))\n",
        "\n",
        "# Délimite la zone d'erreur\n",
        "fig.add_shape(type=\"line\",x0=index,y0=0,x1=index,y1=np.amax(df_resultats['BTC_ALL']),name=\"Zone d'erreur\")\n",
        "\n",
        "# Affiche les courbes\n",
        "fig.update_xaxes(rangeslider_visible=True)\n",
        "yaxis=dict(autorange = True,fixedrange= False)\n",
        "fig.update_yaxes(yaxis)\n",
        "fig.show()"
      ],
      "execution_count": null,
      "outputs": []
    },
    {
      "cell_type": "markdown",
      "metadata": {
        "id": "KFgrzd6NrtRT"
      },
      "source": [
        "**6.Synthèse des erreurs sur les différentes zones**"
      ]
    },
    {
      "cell_type": "code",
      "metadata": {
        "id": "TIdnnWaYrtRU"
      },
      "source": [
        "# Echantillonage des données\n",
        "time = \"1H\"\n",
        "\n",
        "df_resultats = df_resultats.resample(time).asfreq()\n",
        "df_resultats"
      ],
      "execution_count": null,
      "outputs": []
    },
    {
      "cell_type": "code",
      "metadata": {
        "id": "vpdOSJcZrtRU"
      },
      "source": [
        "# Détection de la date où commencnte les anomalies\n",
        "# sur la période de validation\n",
        "\n",
        "# Construit les dataframe pour calculer les erreurs\n",
        "df_error_btc_ent = df_resultats[['BTC_ENT','BTC_PRED_ENT']].dropna()\n",
        "df_error_btc_val = df_resultats[['BTC_VAL','BTC_PRED_VAL']].dropna()\n"
      ],
      "execution_count": null,
      "outputs": []
    },
    {
      "cell_type": "code",
      "metadata": {
        "id": "Nou-vexFrtRU"
      },
      "source": [
        "# Erreurs d'entrainement\n",
        "mae_ent = tf.keras.metrics.mean_absolute_error(np.asarray(df_error_btc_ent['BTC_ENT']),np.asarray(df_error_btc_ent['BTC_PRED_ENT'])).numpy()\n",
        "mse_ent = tf.keras.metrics.mean_squared_error(np.asarray(df_error_btc_ent['BTC_ENT']),np.asarray(df_error_btc_ent['BTC_PRED_ENT'])).numpy()\n",
        "mape_ent = tf.keras.metrics.mape(np.asarray(df_error_btc_ent['BTC_ENT']),np.asarray(df_error_btc_ent['BTC_PRED_ENT'])).numpy()\n",
        "\n",
        "# Erreurs de validation\n",
        "mae_val = tf.keras.metrics.mean_absolute_error(np.asarray(df_error_btc_val['BTC_VAL']),np.asarray(df_error_btc_val['BTC_PRED_VAL'])).numpy()\n",
        "mse_val = tf.keras.metrics.mean_squared_error(np.asarray(df_error_btc_val['BTC_VAL']),np.asarray(df_error_btc_val['BTC_PRED_VAL'])).numpy()\n",
        "mape_val = tf.keras.metrics.mape(np.asarray(df_error_btc_val['BTC_VAL']),np.asarray(df_error_btc_val['BTC_PRED_VAL'])).numpy()\n",
        "\n",
        "# Erreurs sur la zone valide de validation\n",
        "mae_val_ok = tf.keras.metrics.mean_absolute_error(df_error_btc_val['BTC_VAL'][:index],np.asarray(df_error_btc_val['BTC_PRED_VAL'][:index])).numpy()\n",
        "mse_val_ok = tf.keras.metrics.mean_squared_error(df_error_btc_val['BTC_VAL'][:index],np.asarray(df_error_btc_val['BTC_PRED_VAL'][:index])).numpy()\n",
        "mape_val_ok = tf.keras.metrics.mape(df_error_btc_val['BTC_VAL'][:index],np.asarray(df_error_btc_val['BTC_PRED_VAL'][:index])).numpy()\n",
        "\n",
        "\n",
        "print(\"Erreur mae entrainement %s\" %mae_ent)\n",
        "print(\"Erreur mse entrainement : %s\" %mse_ent)\n",
        "print(\"Erreur mape entrainement : %s\\n\" %mape_ent)\n",
        "\n",
        "print(\"Erreur mae validation %s\" %mae_val)\n",
        "print(\"Erreur mse validation : %s\" %mse_val)\n",
        "print(\"Erreur mape entrainement : %s\\n\" %mape_val)\n",
        "\n",
        "print(\"Erreur mae validation zone OK %s\" %mae_val_ok)\n",
        "print(\"Erreur mse validation zone OK: %s\" %mse_val_ok)\n",
        "print(\"Erreur mape validation zone OK: %s\" %mape_val_ok)"
      ],
      "execution_count": null,
      "outputs": []
    },
    {
      "cell_type": "markdown",
      "metadata": {
        "id": "6PSUZ4SN2WRM"
      },
      "source": [
        "# Création du modèle LSTM avec auto-attention"
      ]
    },
    {
      "cell_type": "markdown",
      "metadata": {
        "id": "NC6DrlYT2WRS"
      },
      "source": [
        "**1. Création du réseau**"
      ]
    },
    {
      "cell_type": "markdown",
      "metadata": {
        "id": "wUF802Z22WRS"
      },
      "source": [
        "Par défaut, la dimension des vecteurs cachés est de 10 et aucune régularisation n'est utilisée."
      ]
    },
    {
      "cell_type": "code",
      "metadata": {
        "id": "sGtT8icQ7HBN"
      },
      "source": [
        "# Classe d'auto-attention\n",
        "# Applique les poids de la matrice d'attention sur les vecteurs de la couche récurrente\n",
        "\n",
        "# Importe le Backend de Keras\n",
        "from keras import backend as K\n",
        "\n",
        "# Définit une nouvelle classe Couche_Attention\n",
        "# Héritée de la classe Layer de Keras\n",
        "\n",
        "class Couche_Auto_Attention(tf.keras.layers.Layer):\n",
        "  # Fonction d'initialisation de la classe d'attention\n",
        "  def __init__(self,dim_att,nbr_hop):\n",
        "    self.dim_att = dim_att          # Dimension du vecteur d'attention\n",
        "    self.nbr_hop = nbr_hop\n",
        "    super().__init__()              # Appel du __init__() de la classe Layer\n",
        "  \n",
        "  def build(self,input_shape):\n",
        "    self.W = self.add_weight(shape=(self.dim_att,input_shape[2]),initializer='glorot_uniform',name=\"W\")\n",
        "    self.U = self.add_weight(shape=(self.nbr_hop,self.dim_att),initializer='glorot_uniform',name=\"U\")\n",
        "    super().build(input_shape)        # Appel de la méthode build()\n",
        "\n",
        "  # Définit la logique de la couche d'attention\n",
        "  # Arguments :   x : Tenseur d'entrée de dimension (None, nbr_v,dim)\n",
        "  def call(self,x):\n",
        "    # Calcul de la matrice XH contenant les\n",
        "    # représentations cachées des vecteurs\n",
        "    # issus de la couche GRU\n",
        "    xt = tf.transpose(x,perm=[0,2,1])           # (None,20,40) => (None,40,20)\n",
        "    Xh = tf.matmul(self.W,xt)                   # (#Att,40)x(None,40,20) = (None,#Att,20)\n",
        "    Xh = K.tanh(Xh)                             # Xh = (None,#Att,20)\n",
        "\n",
        "    # Calcul de la matrice des poids d'attention normalisés\n",
        "    A = tf.matmul(self.U,Xh)                    # (#hop,#Att)x(None,#Att,20) = (None,#Att,20)\n",
        "    A = tf.keras.activations.softmax(A,axis=2)  # (None,#Att,20)\n",
        "\n",
        "    # Calcul de la matrice des vecteur d'attentions\n",
        "    sortie = tf.matmul(A,x)                     # (None,#Att,20)x(None,20,40) = (None,#Att,40)\n",
        "    return tf.keras.layers.Flatten()(sortie)"
      ],
      "execution_count": null,
      "outputs": []
    },
    {
      "cell_type": "code",
      "metadata": {
        "id": "4uMyWVKe2WRT"
      },
      "source": [
        "dim_LSTM = 100\n",
        "l1_reg = 0.0\n",
        "l2_reg = 0.00\n",
        "nbr_hop = 20\n",
        "\n",
        "# Définition de l'entrée du modèle\n",
        "entrees = tf.keras.layers.Input(shape=(taille_fenetre,1))\n",
        "\n",
        "# Encodeur\n",
        "s_encodeur = tf.keras.layers.LSTM(dim_LSTM,return_sequences=True,recurrent_regularizer=tf.keras.regularizers.l2(1e-5))(entrees)\n",
        "s_attention = Couche_Auto_Attention(dim_att=dim_LSTM,nbr_hop=nbr_hop)(s_encodeur)\n",
        "\n",
        "# Décodeur\n",
        "s_decodeur = tf.keras.layers.Dense(dim_LSTM*nbr_hop,activation=\"tanh\")(s_attention)\n",
        "s_decodeur = tf.keras.layers.Concatenate()([s_decodeur,s_attention])\n",
        "\n",
        "# Générateur\n",
        "sortie = tf.keras.layers.Dense(1)(s_decodeur)\n",
        "\n",
        "# Construction du modèle\n",
        "model = tf.keras.Model(entrees,sortie)\n",
        "\n",
        "model.summary()"
      ],
      "execution_count": null,
      "outputs": []
    },
    {
      "cell_type": "markdown",
      "metadata": {
        "id": "IwZnK5dl2WRV"
      },
      "source": [
        "**2. Optimisation de l'apprentissage**"
      ]
    },
    {
      "cell_type": "markdown",
      "metadata": {
        "id": "UwVSsLyv2WRV"
      },
      "source": [
        "Pour accélérer le traitement des données, nous n'allons pas utiliser l'intégralité des données pendant la mise à jour du gradient, comme cela a été fait jusqu'à présent (en utilisant le dataset).  \n",
        "Cette fois-ci, nous allons forcer les mises à jour du gradient à se produire de manière moins fréquente en attribuant la valeur du batch_size à prendre en compte lors de la regression du modèle.  \n",
        "Pour cela, on utilise l'argument \"batch_size\" dans la méthode fit. En précisant un batch_size=1000, cela signifie que :\n",
        " - Sur notre total de 56000 échantillons, 56 seront utilisés pour les calculs du gradient\n",
        " - Il y aura également 56 itérations à chaque période.\n",
        "  \n",
        "    \n",
        "    \n",
        "Si nous avions pris le dataset comme entrée, nous aurions eu :\n",
        "- Un total de 56000 échantillons également\n",
        "- Chaque période aurait également pris 56 itérations pour se compléter\n",
        "- Mais 1000 échantillons auraient été utilisés pour le calcul du gradient, au lieu de 56 avec la méthode utilisée."
      ]
    },
    {
      "cell_type": "code",
      "metadata": {
        "id": "CCl_AlQc2WRW"
      },
      "source": [
        "batch_size = 1000"
      ],
      "execution_count": null,
      "outputs": []
    },
    {
      "cell_type": "code",
      "metadata": {
        "id": "6Ka2d6HB2WRW"
      },
      "source": [
        "# Définition de la fonction de régulation du taux d'apprentissage\n",
        "def RegulationTauxApprentissage(periode, taux):\n",
        "  return 1e-8*10**(periode/10)\n",
        "\n",
        "# Définition de l'optimiseur à utiliser\n",
        "optimiseur=tf.keras.optimizers.Adam()\n",
        "\n",
        "# Compile le modèle\n",
        "model.compile(loss=\"mse\", optimizer=optimiseur, metrics=\"mse\")\n",
        "\n",
        "# Utilisation de la méthode ModelCheckPoint\n",
        "CheckPoint = tf.keras.callbacks.ModelCheckpoint(\"poids.hdf5\", monitor='loss', verbose=1, save_best_only=True, save_weights_only = True, mode='auto', save_freq='epoch')\n",
        "\n",
        "# Entraine le modèle en utilisant notre fonction personnelle de régulation du taux d'apprentissage\n",
        "historique = model.fit(x=x_train,y=y_train,epochs=100,verbose=1, callbacks=[tf.keras.callbacks.LearningRateScheduler(RegulationTauxApprentissage), CheckPoint],batch_size=batch_size)"
      ],
      "execution_count": null,
      "outputs": []
    },
    {
      "cell_type": "code",
      "metadata": {
        "id": "lr6bQEZq2WRX"
      },
      "source": [
        "# Construit un vecteur avec les valeurs du taux d'apprentissage à chaque période \n",
        "taux = 1e-8*(10**(np.arange(100)/10))\n",
        "\n",
        "# Affiche l'erreur en fonction du taux d'apprentissage\n",
        "plt.figure(figsize=(10, 6))\n",
        "plt.semilogx(taux,historique.history[\"loss\"])\n",
        "plt.axis([ taux[0], taux[99], 0, 2])\n",
        "plt.title(\"Evolution de l'erreur en fonction du taux d'apprentissage\")"
      ],
      "execution_count": null,
      "outputs": []
    },
    {
      "cell_type": "code",
      "metadata": {
        "id": "ryUpPIEF2WRX"
      },
      "source": [
        "# Chargement des poids sauvegardés\n",
        "model.load_weights(\"poids.hdf5\")"
      ],
      "execution_count": null,
      "outputs": []
    },
    {
      "cell_type": "code",
      "metadata": {
        "id": "HhV93IpO2WRY"
      },
      "source": [
        "max_periodes = 1000\n",
        "\n",
        "# Classe permettant d'arrêter l'entrainement si la variation\n",
        "# devient plus petite qu'une valeur à choisir sur un nombre\n",
        "# de périodes à choisir\n",
        "class StopTrain(keras.callbacks.Callback):\n",
        "    def __init__(self, delta=0.01,periodes=100, term=\"loss\", logs={}):\n",
        "      self.n_periodes = 0\n",
        "      self.periodes = periodes\n",
        "      self.loss_1 = 100\n",
        "      self.delta = delta\n",
        "      self.term = term\n",
        "    def on_epoch_end(self, epoch, logs={}):\n",
        "      diff_loss = abs(self.loss_1 - logs[self.term])\n",
        "      self.loss_1 = logs[self.term]\n",
        "      if (diff_loss < self.delta):\n",
        "        self.n_periodes = self.n_periodes + 1\n",
        "      else:\n",
        "        self.n_periodes = 0\n",
        "      if (self.n_periodes == self.periodes):\n",
        "        print(\"Arrêt de l'entrainement...\")\n",
        "        self.model.stop_training = True\n",
        "\n",
        "def  My_MSE(y_true,y_pred):\n",
        "  return(tf.keras.metrics.mse(y_true,y_pred)*std.numpy()+mean.numpy())\n",
        "  \n",
        "# Définition des paramètres liés à l'évolution du taux d'apprentissage\n",
        "lr_schedule = tf.keras.optimizers.schedules.InverseTimeDecay(\n",
        "    initial_learning_rate=0.001,\n",
        "    decay_steps=10,\n",
        "    decay_rate=0.1)\n",
        "\n",
        "# Définition de l'optimiseur à utiliser\n",
        "optimiseur=tf.keras.optimizers.Adam(learning_rate=lr_schedule)\n",
        "\n",
        "\n",
        "# Utilisation de la méthode ModelCheckPoint\n",
        "CheckPoint = tf.keras.callbacks.ModelCheckpoint(\"poids_train.hdf5\", monitor='loss', verbose=1, save_best_only=True, save_weights_only = True, mode='auto', save_freq='epoch')\n",
        "\n",
        "# Compile le modèle\n",
        "model.compile(loss=\"mse\", optimizer=optimiseur, metrics=[\"mse\",My_MSE])\n",
        "\n",
        "# Entraine le modèle, avec une réduction des calculs du gradient\n",
        "historique = model.fit(x=x_train,y=y_train,validation_data=(x_val,y_val), epochs=max_periodes,verbose=1, callbacks=[CheckPoint,StopTrain(delta=0.0005,periodes = 10, term=\"My_MSE\")],batch_size=batch_size)\n",
        "\n",
        "# Entraine le modèle sans réduction de calculs\n",
        "#historique = model.fit(dataset,validation_data=dataset_val, epochs=max_periodes,verbose=1, callbacks=[CheckPoint,StopTrain(delta=0.1,periodes = 10, term=\"val_My_MSE\")])\n"
      ],
      "execution_count": null,
      "outputs": []
    },
    {
      "cell_type": "code",
      "metadata": {
        "id": "Dgf1eJPPay1b"
      },
      "source": [
        "model.load_weights('poids_train.hdf5')"
      ],
      "execution_count": null,
      "outputs": []
    },
    {
      "cell_type": "code",
      "metadata": {
        "id": "-JM-dtd32WRZ"
      },
      "source": [
        "erreur_entrainement = historique.history[\"loss\"]\n",
        "erreur_validation = historique.history[\"val_loss\"]\n",
        "\n",
        "# Affiche l'erreur en fonction de la période\n",
        "plt.figure(figsize=(10, 6))\n",
        "plt.plot(np.arange(0,len(erreur_entrainement)),erreur_entrainement, label=\"Erreurs sur les entrainements\")\n",
        "plt.plot(np.arange(0,len(erreur_entrainement)),erreur_validation, label =\"Erreurs sur les validations\")\n",
        "plt.legend()\n",
        "\n",
        "plt.title(\"Evolution de l'erreur en fonction de la période\")"
      ],
      "execution_count": null,
      "outputs": []
    },
    {
      "cell_type": "code",
      "metadata": {
        "id": "KQj5FkF72WRa"
      },
      "source": [
        "# Evaluation du modèle\n",
        "\n",
        "model.evaluate(dataset)\n",
        "model.evaluate(dataset_val)\n"
      ],
      "execution_count": null,
      "outputs": []
    },
    {
      "cell_type": "markdown",
      "metadata": {
        "id": "rExhkpy-2WRa"
      },
      "source": [
        "**3. Prédictions**"
      ]
    },
    {
      "cell_type": "code",
      "metadata": {
        "id": "Ii9KzNlZ2WRb"
      },
      "source": [
        "# Création des instants d'entrainement et de validation\n",
        "y_train_timing = serie_entrainement_x.index[taille_fenetre + horizon - 1:taille_fenetre + horizon - 1+len(y_train)]\n",
        "y_val_timing = serie_test_x.index[taille_fenetre + horizon - 1:taille_fenetre + horizon - 1+len(y_val)]\n",
        "\n",
        "# Calcul des prédictions\n",
        "pred_ent = model.predict(x_train, verbose=1)\n",
        "pred_val = model.predict(x_val, verbose=1)"
      ],
      "execution_count": null,
      "outputs": []
    },
    {
      "cell_type": "markdown",
      "metadata": {
        "id": "KEBjS2gG2WRb"
      },
      "source": [
        "**4.Affichage sur une période de 1 heure**"
      ]
    },
    {
      "cell_type": "markdown",
      "metadata": {
        "id": "ee3YihHo2WRb"
      },
      "source": [
        "Création d'une série contenant les valeurs originales et les prédictions, synchronisées dans le temps :"
      ]
    },
    {
      "cell_type": "code",
      "metadata": {
        "id": "tbyOs-He2WRc"
      },
      "source": [
        "serie_btc_ent_ori = serie_entrainement_y*std+mean\n",
        "serie_btc_val_ori = serie_test_y*std+mean\n",
        "\n",
        "serie_btc_ent_pred = pd.Series(data=(pred_ent[:,0]*std+mean),index=y_train_timing)\n",
        "serie_btc_val_pred = pd.Series(data=(pred_val[:,0]*std+mean),index=y_val_timing)\n",
        "\n",
        "serie_btc_ori = pd.concat([serie_btc_ent_ori,serie_btc_val_ori])\n",
        "serie_btc_pred = pd.concat([serie_btc_ent_pred,serie_btc_val_pred])\n",
        "\n",
        "serie_btc_ori = serie_btc_ori.fillna(method=\"backfill\")\n",
        "serie_btc_pred = serie_btc_pred.fillna(method=\"backfill\")\n",
        "\n",
        "serie_btc_ent_ori = serie_btc_ent_ori.fillna(method=\"backfill\")\n",
        "serie_btc_val_ori = serie_btc_val_ori.fillna(method=\"backfill\")\n",
        "serie_btc_ent_pred = serie_btc_ent_pred.fillna(method=\"backfill\")\n",
        "serie_btc_val_pred = serie_btc_val_pred.fillna(method=\"backfill\")\n",
        "\n",
        "frame = {'BTC_ALL' : serie_btc_ori, 'BTC_ENT': serie_btc_ent_ori, 'BTC_VAL' : serie_btc_val_ori, 'BTC_PRED' : serie_btc_pred, 'BTC_PRED_ENT' : serie_btc_ent_pred, 'BTC_PRED_VAL':serie_btc_val_pred}\n",
        "df_resultats = pd.DataFrame(frame)\n",
        "df_resultats"
      ],
      "execution_count": null,
      "outputs": []
    },
    {
      "cell_type": "code",
      "metadata": {
        "id": "RMvz38v02WRc"
      },
      "source": [
        "date_separation"
      ],
      "execution_count": null,
      "outputs": []
    },
    {
      "cell_type": "code",
      "metadata": {
        "id": "t3tE5FK-2WRd"
      },
      "source": [
        "df_resultats.loc[date_separation-pd.Timedelta(hours=7):date_separation+pd.Timedelta(hours=7)]"
      ],
      "execution_count": null,
      "outputs": []
    },
    {
      "cell_type": "code",
      "metadata": {
        "id": "lvF19ok42WRd"
      },
      "source": [
        "import plotly.graph_objects as go\n",
        "\n",
        "fig = go.Figure()\n",
        "\n",
        "# Courbe originale\n",
        "fig.add_trace(go.Scatter(x=df_resultats.index,y=df_resultats['BTC_ALL'],line=dict(color='blue', width=1),name=\"Prix BTC\"))\n",
        "\n",
        "# Courbes des prédictions d'entrainement\n",
        "fig.add_trace(go.Scatter(x=df_resultats.index,y=df_resultats['BTC_PRED_ENT'],line=dict(color='green', width=1),name=\"Entrainement\"))\n",
        "\n",
        "# Courbe de validation\n",
        "fig.add_trace(go.Scatter(x=df_resultats.index,y=df_resultats['BTC_PRED_VAL'],line=dict(color='red', width=1),name=\"Validation\"))\n",
        "\n",
        "fig.update_xaxes(rangeslider_visible=True)\n",
        "yaxis=dict(autorange = True,fixedrange= False)\n",
        "fig.update_yaxes(yaxis)\n",
        "fig.show()"
      ],
      "execution_count": null,
      "outputs": []
    },
    {
      "cell_type": "markdown",
      "metadata": {
        "id": "mmyOVcdD2WRh"
      },
      "source": [
        "**5. Détection de l'augmentation des erreurs dans la zone de validation**"
      ]
    },
    {
      "cell_type": "markdown",
      "metadata": {
        "id": "IvS4fipz2WRi"
      },
      "source": [
        "On peut imaginer devoir suivre en temps réel l'évolution des prédictions afin de détecter lorsque le modèle n'est plus valide."
      ]
    },
    {
      "cell_type": "code",
      "metadata": {
        "id": "z_aSn4Gg2WRi"
      },
      "source": [
        "# Détection de la date où commencent les anomalies\n",
        "# sur la période de validation\n",
        "\n",
        "# Construit les dataframe pour calculer les erreurs\n",
        "df_error_btc_ent = df_resultats[['BTC_ENT','BTC_PRED_ENT']].dropna()\n",
        "df_error_btc_val = df_resultats[['BTC_VAL','BTC_PRED_VAL']].dropna()\n",
        "\n",
        "# Calcul des erreurs relatives sur les entrainements et les validations\n",
        "erreur_ent = abs(np.asarray(df_error_btc_ent['BTC_ENT']) - np.asarray(df_error_btc_ent['BTC_PRED_ENT']))/np.asarray(df_error_btc_ent['BTC_ENT'])*100.0\n",
        "erreur_val = abs(np.asarray(df_error_btc_val['BTC_VAL']) - np.asarray(df_error_btc_val['BTC_PRED_VAL']))/np.asarray(df_error_btc_val['BTC_VAL'])*100.0\n",
        "\n",
        "# Erreur relative moyenne sur les entrainements\n",
        "erreur_ent_mape = tf.keras.metrics.mape(np.asarray(df_error_btc_ent['BTC_ENT']),np.asarray(df_error_btc_ent['BTC_PRED_ENT']))\n",
        "erreur_ent_mape_max = np.amax(erreur_ent)\n",
        "\n",
        "# Calcul le nombre d'anomalies sur les entrainements avec le ratio spécifié\n",
        "nbr_anomalies_ent = np.count_nonzero(erreur_ent>erreur_ent_mape)\n",
        "\n",
        "# Calcul du ratio d'anomalies sur la période d'entrainement\n",
        "ratio_ent = np.count_nonzero(erreur_ent>erreur_ent_mape)/erreur_ent.size\n",
        "\n",
        "# Recherche de la date à partir de laquelle on dépasse l\n",
        "n_erreurs = 0\n",
        "for i in range(5,erreur_val.size):\n",
        "  erreur_val_ = abs(np.asarray(df_error_btc_val['BTC_VAL'][i]) - np.asarray(df_error_btc_val['BTC_PRED_VAL'][i]))/np.asarray(df_error_btc_val['BTC_VAL'][i])*100.0\n",
        "  seuil = erreur_ent_mape_max*1\n",
        "  if erreur_val_ > seuil:\n",
        "    n_erreurs = n_erreurs + 1\n",
        "    if n_erreurs == 1:\n",
        "      index = df_error_btc_val.index[i]\n",
        "      break\n",
        "  else:\n",
        "    n_erreurs = 0\n",
        "print(index)\n"
      ],
      "execution_count": null,
      "outputs": []
    },
    {
      "cell_type": "code",
      "metadata": {
        "id": "rXx0vqSX2WRj"
      },
      "source": [
        "import plotly.graph_objects as go\n",
        "\n",
        "fig = go.Figure()\n",
        "\n",
        "# Courbe originale\n",
        "fig.add_trace(go.Scatter(x=df_resultats.index,y=df_resultats['BTC_ALL'],line=dict(color='blue', width=1),name=\"Prix BTC\"))\n",
        "\n",
        "# Courbes des prédictions d'entrainement\n",
        "fig.add_trace(go.Scatter(x=df_resultats.index,y=df_resultats['BTC_PRED_ENT'],line=dict(color='green', width=1),name=\"Entrainement\"))\n",
        "\n",
        "# Courbe de validation\n",
        "fig.add_trace(go.Scatter(x=df_resultats.index,y=df_resultats['BTC_PRED_VAL'],line=dict(color='red', width=1),name=\"Validation\"))\n",
        "\n",
        "# Délimite la zone d'erreur\n",
        "fig.add_shape(type=\"line\",x0=index,y0=0,x1=index,y1=np.amax(df_resultats['BTC_ALL']),name=\"Zone d'erreur\")\n",
        "\n",
        "# Affiche les courbes\n",
        "fig.update_xaxes(rangeslider_visible=True)\n",
        "yaxis=dict(autorange = True,fixedrange= False)\n",
        "fig.update_yaxes(yaxis)\n",
        "fig.show()"
      ],
      "execution_count": null,
      "outputs": []
    },
    {
      "cell_type": "markdown",
      "metadata": {
        "id": "st8Ynp3T2WRo"
      },
      "source": [
        "**5.Affichage sur une période de 1 jour**"
      ]
    },
    {
      "cell_type": "code",
      "metadata": {
        "id": "LZe5LHTL2WRo"
      },
      "source": [
        "# Echantillonage des données\n",
        "time = \"1D\"\n",
        "\n",
        "df_resultats = df_resultats.resample(time).asfreq()\n",
        "df_resultats"
      ],
      "execution_count": null,
      "outputs": []
    },
    {
      "cell_type": "code",
      "metadata": {
        "id": "IG6DOtBk2WRo"
      },
      "source": [
        "import plotly.graph_objects as go\n",
        "\n",
        "fig = go.Figure()\n",
        "\n",
        "# Courbe originale\n",
        "fig.add_trace(go.Scatter(x=df_resultats.index,y=df_resultats['BTC_ALL'],line=dict(color='blue', width=1),name=\"Prix BTC\"))\n",
        "\n",
        "# Courbes des prédictions d'entrainement\n",
        "fig.add_trace(go.Scatter(x=df_resultats.index,y=df_resultats['BTC_PRED_ENT'],line=dict(color='green', width=1),name=\"Entrainement\"))\n",
        "\n",
        "# Courbe de validation\n",
        "fig.add_trace(go.Scatter(x=df_resultats.index,y=df_resultats['BTC_PRED_VAL'],line=dict(color='red', width=1),name=\"Validation\"))\n",
        "\n",
        "# Délimite la zone d'erreur\n",
        "fig.add_shape(type=\"line\",x0=index,y0=0,x1=index,y1=np.amax(df_resultats['BTC_ALL']),name=\"Zone d'erreur\")\n",
        "\n",
        "# Affiche les courbes\n",
        "fig.update_xaxes(rangeslider_visible=True)\n",
        "yaxis=dict(autorange = True,fixedrange= False)\n",
        "fig.update_yaxes(yaxis)\n",
        "fig.show()"
      ],
      "execution_count": null,
      "outputs": []
    },
    {
      "cell_type": "markdown",
      "metadata": {
        "id": "SRKI61PK2WRp"
      },
      "source": [
        "**6.Synthèse des erreurs sur les différentes zones**"
      ]
    },
    {
      "cell_type": "code",
      "metadata": {
        "id": "6Hxnr0oT2WRq"
      },
      "source": [
        "# Echantillonage des données\n",
        "time = \"1H\"\n",
        "\n",
        "df_resultats = df_resultats.resample(time).asfreq()\n",
        "df_resultats"
      ],
      "execution_count": null,
      "outputs": []
    },
    {
      "cell_type": "code",
      "metadata": {
        "id": "hMW1t-kp2WRq"
      },
      "source": [
        "# Détection de la date où commencnte les anomalies\n",
        "# sur la période de validation\n",
        "\n",
        "# Construit les dataframe pour calculer les erreurs\n",
        "df_error_btc_ent = df_resultats[['BTC_ENT','BTC_PRED_ENT']].dropna()\n",
        "df_error_btc_val = df_resultats[['BTC_VAL','BTC_PRED_VAL']].dropna()\n"
      ],
      "execution_count": null,
      "outputs": []
    },
    {
      "cell_type": "code",
      "metadata": {
        "id": "9bxhjwQK2WRq"
      },
      "source": [
        "# Erreurs d'entrainement\n",
        "mae_ent = tf.keras.metrics.mean_absolute_error(np.asarray(df_error_btc_ent['BTC_ENT']),np.asarray(df_error_btc_ent['BTC_PRED_ENT'])).numpy()\n",
        "mse_ent = tf.keras.metrics.mean_squared_error(np.asarray(df_error_btc_ent['BTC_ENT']),np.asarray(df_error_btc_ent['BTC_PRED_ENT'])).numpy()\n",
        "mape_ent = tf.keras.metrics.mape(np.asarray(df_error_btc_ent['BTC_ENT']),np.asarray(df_error_btc_ent['BTC_PRED_ENT'])).numpy()\n",
        "\n",
        "# Erreurs de validation\n",
        "mae_val = tf.keras.metrics.mean_absolute_error(np.asarray(df_error_btc_val['BTC_VAL']),np.asarray(df_error_btc_val['BTC_PRED_VAL'])).numpy()\n",
        "mse_val = tf.keras.metrics.mean_squared_error(np.asarray(df_error_btc_val['BTC_VAL']),np.asarray(df_error_btc_val['BTC_PRED_VAL'])).numpy()\n",
        "mape_val = tf.keras.metrics.mape(np.asarray(df_error_btc_val['BTC_VAL']),np.asarray(df_error_btc_val['BTC_PRED_VAL'])).numpy()\n",
        "\n",
        "# Erreurs sur la zone valide de validation\n",
        "mae_val_ok = tf.keras.metrics.mean_absolute_error(df_error_btc_val['BTC_VAL'][:index],np.asarray(df_error_btc_val['BTC_PRED_VAL'][:index])).numpy()\n",
        "mse_val_ok = tf.keras.metrics.mean_squared_error(df_error_btc_val['BTC_VAL'][:index],np.asarray(df_error_btc_val['BTC_PRED_VAL'][:index])).numpy()\n",
        "mape_val_ok = tf.keras.metrics.mape(df_error_btc_val['BTC_VAL'][:index],np.asarray(df_error_btc_val['BTC_PRED_VAL'][:index])).numpy()\n",
        "\n",
        "\n",
        "print(\"Erreur mae entrainement %s\" %mae_ent)\n",
        "print(\"Erreur mse entrainement : %s\" %mse_ent)\n",
        "print(\"Erreur mape entrainement : %s\\n\" %mape_ent)\n",
        "\n",
        "print(\"Erreur mae validation %s\" %mae_val)\n",
        "print(\"Erreur mse validation : %s\" %mse_val)\n",
        "print(\"Erreur mape entrainement : %s\\n\" %mape_val)\n",
        "\n",
        "print(\"Erreur mae validation zone OK %s\" %mae_val_ok)\n",
        "print(\"Erreur mse validation zone OK: %s\" %mse_val_ok)\n",
        "print(\"Erreur mape validation zone OK: %s\" %mape_val_ok)"
      ],
      "execution_count": null,
      "outputs": []
    },
    {
      "cell_type": "markdown",
      "metadata": {
        "id": "Ntshp_muADWt"
      },
      "source": [
        "# Création du modèle End-To-End Network"
      ]
    },
    {
      "cell_type": "code",
      "metadata": {
        "id": "vddiuNuhAliy"
      },
      "source": [
        "def prepare_dataset_XY(serie, taille_fenetre, batch_size, nbr_sequences):\n",
        "  dataset = tf.data.Dataset.from_tensor_slices(serie)\n",
        "  dataset = dataset.window(taille_fenetre+1, shift=1, drop_remainder=True)\n",
        "  dataset = dataset.flat_map(lambda x: x.batch(taille_fenetre + 1))\n",
        "  dataset = dataset.window(nbr_sequences+1, shift=1, drop_remainder=True)\n",
        "  dataset = dataset.flat_map(lambda x: x.batch(nbr_sequences+1,drop_remainder=True))\n",
        "  dataset = dataset.map(lambda x: [(tf.slice(x,[0,0],[nbr_sequences,taille_fenetre]),                           # (30;20)       [((30,20),(20)),(1)]\n",
        "                                   tf.squeeze(tf.slice(x,[nbr_sequences,0],[1,taille_fenetre]),axis=0)),        # (20)\n",
        "                                   tf.squeeze(tf.slice(x,[nbr_sequences,taille_fenetre],[1,1]),axis=0)])        # (1)\n",
        "  dataset = dataset.batch(batch_size,drop_remainder=True)\n",
        "  return dataset"
      ],
      "execution_count": null,
      "outputs": []
    },
    {
      "cell_type": "code",
      "metadata": {
        "id": "_WG2KIkJApxh"
      },
      "source": [
        "# Définition des caractéristiques du dataset que l'on souhaite créer\n",
        "taille_fenetre = 15\n",
        "batch_size = 1000\n",
        "Nbr_Sequences = 10\n",
        "\n",
        "dataset = prepare_dataset_XY(serie_entrainement,taille_fenetre,batch_size,Nbr_Sequences)              # 56x((1000,10,15),(1000,15)),(1000,1)\n",
        "dataset_val = prepare_dataset_XY(serie_test,taille_fenetre,batch_size,Nbr_Sequences)              # 56x((1000,10,15),(1000,15)),(1000,1)\n"
      ],
      "execution_count": null,
      "outputs": []
    },
    {
      "cell_type": "code",
      "metadata": {
        "id": "iQEziTjSCFDg"
      },
      "source": [
        "len(list(dataset.as_numpy_iterator()))"
      ],
      "execution_count": null,
      "outputs": []
    },
    {
      "cell_type": "code",
      "metadata": {
        "id": "n4z2Y65dCJg4"
      },
      "source": [
        "for element in dataset.take(1):\n",
        "  print(element)"
      ],
      "execution_count": null,
      "outputs": []
    },
    {
      "cell_type": "code",
      "metadata": {
        "id": "J9JXgCGOCiiP"
      },
      "source": [
        "# Extrait les X,Y du dataset\n",
        "#56x((1000,4,1),(1000,1)) => (56*1000,4,1) ; (56*1000,1)\n",
        "\n",
        "x,y = tuple(zip(*dataset))\n",
        "\n",
        "# Recombine les données\n",
        "# (56,1000,4,1) => (56*128,4,1)\n",
        "# (56,1000,1) => (56*128,1)\n",
        "x_train = np.asarray(tf.reshape(np.asarray(x,dtype=np.float32),shape=(np.asarray(x).shape[0]*np.asarray(x).shape[1],taille_fenetre,1)))\n",
        "y_train = np.asarray(tf.reshape(np.asarray(y,dtype=np.float32),shape=(np.asarray(y).shape[0]*np.asarray(y).shape[1])))\n",
        "\n",
        "# Affiche les formats\n",
        "print(x_train.shape)\n",
        "print(y_train.shape)"
      ],
      "execution_count": null,
      "outputs": []
    },
    {
      "cell_type": "markdown",
      "metadata": {
        "id": "OW2AKgnLADW9"
      },
      "source": [
        "**1. Création du réseau**"
      ]
    },
    {
      "cell_type": "markdown",
      "metadata": {
        "id": "NNx-iQ3bADW9"
      },
      "source": [
        "Par défaut, la dimension des vecteurs cachés est de 10 et aucune régularisation n'est utilisée."
      ]
    },
    {
      "cell_type": "code",
      "metadata": {
        "id": "s1P16yDVAM0B"
      },
      "source": [
        "# Définition du de la couche du modèle\n",
        "# End-to-End Memory Network\n",
        "# Epaquetage des données avec le dernier état caché d'une couche GRU\n",
        "\n",
        "from keras import backend as K\n",
        "\n",
        "class Couche_End_to_End_MN(tf.keras.layers.Layer):\n",
        "  # Fonction d'initialisation de la classe d'attention\n",
        "  # dim_GRU : Dimension des vecteurs GRU\n",
        "  # x : Séquences à mémoriser (batch_size, Nbr_Sequence, taille_fenetre)\n",
        "  # Fonction de la couche lambda d'entrée\n",
        "  def __init__(self,dim_GRU,regul=0.0):\n",
        "    self.dim_GRU = dim_GRU\n",
        "    self.regul = regul\n",
        "    super().__init__()          # Appel du __init__() de la classe Layer\n",
        "  \n",
        "  def build(self,input_shape):\n",
        "    # Définition des couches GRU pour traiter les séquences d'entrée\n",
        "    self.couche_GRU_A = tf.keras.layers.GRU(self.dim_GRU,kernel_regularizer=tf.keras.regularizers.l2(self.regul))\n",
        "    self.couche_GRU_B = tf.keras.layers.GRU(self.dim_GRU,kernel_regularizer=tf.keras.regularizers.l2(self.regul))\n",
        "    self.couche_GRU_C = tf.keras.layers.GRU(self.dim_GRU,kernel_regularizer=tf.keras.regularizers.l2(self.regul))\n",
        "\n",
        "    super().build(input_shape)        # Appel de la méthode build()\n",
        "\n",
        "  # Définit la logique de la couche d'attention\n",
        "  # Arguments :     x : (batch_size, Nbr_Sequence, taille_fenetre)\n",
        "  #                 y : (batch_size, taille_fenetre)\n",
        "  # Exemple :   batch_size = 32\n",
        "  #             Nbr_Sequence =30\n",
        "  #             taille_fenetre = 20\n",
        "  #             dim_GRU = 40 \n",
        "  def call(self,x,y):\n",
        "    # Création des vecteurs mi dans le tenseur M\n",
        "    M = tf.expand_dims(x,axis=-1)                                   # (32,30,20) => (32,30,20,1)\n",
        "    M = tf.keras.layers.TimeDistributed(self.couche_GRU_A)(M)       # (32,30,20,1) => (32,30,40) : TimeStep = 30 : (32,20,1) envoyé\n",
        "    M = K.tanh(M)\n",
        "\n",
        "    # Création du vecteur d'état u\n",
        "    u = tf.expand_dims(y,axis=-1)                                   # (32,20) => (32,20,1)\n",
        "    u = self.couche_GRU_B(u)                                        # (32,20,1) => (32,40)\n",
        "    u = tf.expand_dims(u,axis=-1)                                   # (32,40) => (32,40,1)\n",
        "    u = K.tanh(u)                                                   # (32,40,1)\n",
        "\n",
        "    # Calcul des poids d'attention\n",
        "    p = tf.matmul(M,u)                                              # (32,30,40)x(32,40,1)=(32,30,1)\n",
        "    p = tf.keras.activations.softmax(p,axis=1)                      # (32,30,1)\n",
        "\n",
        "    # Création des vecteurs ci dans le tenseur C\n",
        "    C = tf.expand_dims(x,axis=-1)                                   # (32,30,20) => (32,30,20,1)\n",
        "    C = tf.keras.layers.TimeDistributed(self.couche_GRU_C)(C)       # (32,30,20,1) => (32,30,40) : TimeStep = 30 : (32,20,1) envoyé\n",
        "    C = K.tanh(C)\n",
        "\n",
        "    # Calcul du vecteur réponse issu de la mémoire\n",
        "    o = tf.multiply(C,p)                                            # (32,30,40)_x_(32,30,1) = (32,30,40)\n",
        "    o = K.sum(o, axis=1)                                            # (32,40)\n",
        "    o = K.tanh(o)                                                   # (32,40)\n",
        "    \n",
        "    # Retourne le vecteur d'attention\n",
        "    return (o+tf.squeeze(u,axis=2))\n"
      ],
      "execution_count": null,
      "outputs": []
    },
    {
      "cell_type": "code",
      "metadata": {
        "id": "ygj7fwujADW-"
      },
      "source": [
        "dim_LSTM = 40\n",
        "l1_reg = 0.0\n",
        "l2_reg = 0.0\n",
        "\n",
        "# Définition des entrées du modèle\n",
        "entrees_sequences = tf.keras.layers.Input(shape=(Nbr_Sequences,taille_fenetre))\n",
        "entrees_entrainement = tf.keras.layers.Input(shape=(taille_fenetre))\n",
        "\n",
        "# Encodeur\n",
        "s_encodeur = Couche_End_to_End_MN(dim_GRU=dim_LSTM,regul=0.0)(entrees_sequences,entrees_entrainement)\n",
        "\n",
        "# Décodeur\n",
        "s_decodeur = tf.keras.layers.Dense(dim_LSTM,activation=\"tanh\")(s_encodeur)\n",
        "s_decodeur = tf.keras.layers.Concatenate()([s_decodeur,s_encodeur])\n",
        "\n",
        "# Générateur\n",
        "sortie = tf.keras.layers.Dense(1)(s_decodeur)\n",
        "\n",
        "# Construction du modèle\n",
        "model = tf.keras.Model([entrees_sequences,entrees_entrainement],sortie)\n",
        "model.summary()"
      ],
      "execution_count": null,
      "outputs": []
    },
    {
      "cell_type": "markdown",
      "metadata": {
        "id": "oFNCcD1BADW_"
      },
      "source": [
        "**2. Optimisation de l'apprentissage**"
      ]
    },
    {
      "cell_type": "markdown",
      "metadata": {
        "id": "YTQVpBLpADW_"
      },
      "source": [
        "Pour accélérer le traitement des données, nous n'allons pas utiliser l'intégralité des données pendant la mise à jour du gradient, comme cela a été fait jusqu'à présent (en utilisant le dataset).  \n",
        "Cette fois-ci, nous allons forcer les mises à jour du gradient à se produire de manière moins fréquente en attribuant la valeur du batch_size à prendre en compte lors de la regression du modèle.  \n",
        "Pour cela, on utilise l'argument \"batch_size\" dans la méthode fit. En précisant un batch_size=1000, cela signifie que :\n",
        " - Sur notre total de 56000 échantillons, 56 seront utilisés pour les calculs du gradient\n",
        " - Il y aura également 56 itérations à chaque période.\n",
        "  \n",
        "    \n",
        "    \n",
        "Si nous avions pris le dataset comme entrée, nous aurions eu :\n",
        "- Un total de 56000 échantillons également\n",
        "- Chaque période aurait également pris 56 itérations pour se compléter\n",
        "- Mais 1000 échantillons auraient été utilisés pour le calcul du gradient, au lieu de 56 avec la méthode utilisée."
      ]
    },
    {
      "cell_type": "code",
      "metadata": {
        "id": "atvCPpf-ADXA"
      },
      "source": [
        "batch_size = 1000"
      ],
      "execution_count": null,
      "outputs": []
    },
    {
      "cell_type": "code",
      "metadata": {
        "id": "mZm9WrqVADXA"
      },
      "source": [
        "# Définition de la fonction de régulation du taux d'apprentissage\n",
        "def RegulationTauxApprentissage(periode, taux):\n",
        "  return 1e-8*10**(periode/10)\n",
        "\n",
        "# Définition de l'optimiseur à utiliser\n",
        "optimiseur=tf.keras.optimizers.Adam()\n",
        "\n",
        "# Compile le modèle\n",
        "model.compile(loss=\"logcosh\", optimizer=optimiseur, metrics=\"mse\")\n",
        "\n",
        "# Utilisation de la méthode ModelCheckPoint\n",
        "CheckPoint = tf.keras.callbacks.ModelCheckpoint(\"poids.hdf5\", monitor='loss', verbose=1, save_best_only=True, save_weights_only = True, mode='auto', save_freq='epoch')\n",
        "\n",
        "# Entraine le modèle en utilisant notre fonction personnelle de régulation du taux d'apprentissage\n",
        "historique = model.fit(dataset,epochs=100,verbose=1, callbacks=[tf.keras.callbacks.LearningRateScheduler(RegulationTauxApprentissage), CheckPoint],batch_size=batch_size)"
      ],
      "execution_count": null,
      "outputs": []
    },
    {
      "cell_type": "code",
      "metadata": {
        "id": "b2zHrpiAADXB"
      },
      "source": [
        "# Construit un vecteur avec les valeurs du taux d'apprentissage à chaque période \n",
        "taux = 1e-8*(10**(np.arange(100)/10))\n",
        "\n",
        "# Affiche l'erreur en fonction du taux d'apprentissage\n",
        "plt.figure(figsize=(10, 6))\n",
        "plt.semilogx(taux,historique.history[\"loss\"])\n",
        "plt.axis([ taux[30], taux[99], 0, 0.04])\n",
        "plt.title(\"Evolution de l'erreur en fonction du taux d'apprentissage\")"
      ],
      "execution_count": null,
      "outputs": []
    },
    {
      "cell_type": "code",
      "metadata": {
        "id": "ha5ZDQyOADXC"
      },
      "source": [
        "# Chargement des poids sauvegardés\n",
        "model.load_weights(\"poids.hdf5\")"
      ],
      "execution_count": null,
      "outputs": []
    },
    {
      "cell_type": "code",
      "metadata": {
        "id": "0SzpxsrQADXC"
      },
      "source": [
        "max_periodes = 1000\n",
        "\n",
        "# Classe permettant d'arrêter l'entrainement si la variation\n",
        "# devient plus petite qu'une valeur à choisir sur un nombre\n",
        "# de périodes à choisir\n",
        "class StopTrain(keras.callbacks.Callback):\n",
        "    def __init__(self, delta=0.01,periodes=100, term=\"loss\", logs={}):\n",
        "      self.n_periodes = 0\n",
        "      self.periodes = periodes\n",
        "      self.loss_1 = 100\n",
        "      self.delta = delta\n",
        "      self.term = term\n",
        "    def on_epoch_end(self, epoch, logs={}):\n",
        "      diff_loss = abs(self.loss_1 - logs[self.term])\n",
        "      self.loss_1 = logs[self.term]\n",
        "      if (diff_loss < self.delta):\n",
        "        self.n_periodes = self.n_periodes + 1\n",
        "      else:\n",
        "        self.n_periodes = 0\n",
        "      if (self.n_periodes == self.periodes):\n",
        "        print(\"Arrêt de l'entrainement...\")\n",
        "        self.model.stop_training = True\n",
        "\n",
        "def  My_MSE(y_true,y_pred):\n",
        "  return(tf.keras.metrics.mse(y_true,y_pred)*std.numpy()+mean.numpy())\n",
        "  \n",
        "# Définition des paramètres liés à l'évolution du taux d'apprentissage\n",
        "lr_schedule = tf.keras.optimizers.schedules.InverseTimeDecay(\n",
        "    initial_learning_rate=0.001,\n",
        "    decay_steps=10,\n",
        "    decay_rate=0.01)\n",
        "\n",
        "# Définition de l'optimiseur à utiliser\n",
        "optimiseur=tf.keras.optimizers.Adam(learning_rate=lr_schedule)\n",
        "\n",
        "\n",
        "# Utilisation de la méthode ModelCheckPoint\n",
        "CheckPoint = tf.keras.callbacks.ModelCheckpoint(\"poids_train.hdf5\", monitor='loss', verbose=1, save_best_only=True, save_weights_only = True, mode='auto', save_freq='epoch')\n",
        "\n",
        "# Compile le modèle\n",
        "model.compile(loss=\"logcosh\", optimizer=optimiseur, metrics=[\"mse\",My_MSE])\n",
        "\n",
        "# Entraine le modèle, avec une réduction des calculs du gradient\n",
        "#historique = model.fit(x=x_train,y=y_train,validation_data=(x_val,y_val), epochs=max_periodes,verbose=1, callbacks=[CheckPoint,StopTrain(delta=0.005,periodes = 10, term=\"My_MSE\")],batch_size=batch_size)\n",
        "\n",
        "# Entraine le modèle sans réduction de calculs\n",
        "historique = model.fit(dataset,validation_data=dataset_val, epochs=max_periodes,verbose=1, callbacks=[CheckPoint,StopTrain(delta=0.1,periodes = 10, term=\"val_My_MSE\")])\n"
      ],
      "execution_count": null,
      "outputs": []
    },
    {
      "cell_type": "code",
      "metadata": {
        "id": "Xiy0xyuYJpC8"
      },
      "source": [
        "from google.colab import files\n",
        "files.download('poids_train.hdf5')"
      ],
      "execution_count": null,
      "outputs": []
    },
    {
      "cell_type": "code",
      "metadata": {
        "id": "1nehoz4YADXD"
      },
      "source": [
        "erreur_entrainement = historique.history[\"loss\"]\n",
        "erreur_validation = historique.history[\"val_loss\"]\n",
        "\n",
        "# Affiche l'erreur en fonction de la période\n",
        "plt.figure(figsize=(10, 6))\n",
        "plt.plot(np.arange(0,len(erreur_entrainement)),erreur_entrainement, label=\"Erreurs sur les entrainements\")\n",
        "plt.plot(np.arange(0,len(erreur_entrainement)),erreur_validation, label =\"Erreurs sur les validations\")\n",
        "plt.legend()\n",
        "\n",
        "plt.title(\"Evolution de l'erreur en fonction de la période\")"
      ],
      "execution_count": null,
      "outputs": []
    },
    {
      "cell_type": "code",
      "metadata": {
        "id": "f7fBX8FzADXE"
      },
      "source": [
        "# Evaluation du modèle\n",
        "# Avec le modèle type encodeur/décodeur :\n",
        "# 56/56 [==============================] - 7s 113ms/step - loss: 1.1795e-04 - mse: 2.3664e-04 - My_MSE: 2712.2415\n",
        "# 14/14 [==============================] - 2s 113ms/step - loss: 0.3602 - mse: 1.9360 - My_MSE: 9650.2637\n",
        "model.evaluate(dataset)\n",
        "model.evaluate(dataset_val)\n"
      ],
      "execution_count": null,
      "outputs": []
    },
    {
      "cell_type": "markdown",
      "metadata": {
        "id": "ibjW2608ADXE"
      },
      "source": [
        "**3. Prédictions**"
      ]
    },
    {
      "cell_type": "code",
      "metadata": {
        "id": "b4XVlUVqADXF"
      },
      "source": [
        "horizon = 1\n",
        "# Création des instants d'entrainement et de validation\n",
        "y_train_timing = serie_entrainement.index[taille_fenetre + horizon - 1:taille_fenetre + horizon - 1+len(y_train)]\n",
        "y_val_timing = serie_test.index[taille_fenetre + horizon - 1:taille_fenetre + horizon - 1+len(y_val)]\n",
        "\n",
        "# Calcul des prédictions\n",
        "pred_ent = model.predict(x_train, verbose=1)\n",
        "pred_val = model.predict(x_val, verbose=1)"
      ],
      "execution_count": null,
      "outputs": []
    },
    {
      "cell_type": "markdown",
      "metadata": {
        "id": "qssOW-x2ADXF"
      },
      "source": [
        "**4.Affichage sur une période de 1 heure**"
      ]
    },
    {
      "cell_type": "markdown",
      "metadata": {
        "id": "GLGHAwjIADXF"
      },
      "source": [
        "Création d'une série contenant les valeurs originales et les prédictions, synchronisées dans le temps :"
      ]
    },
    {
      "cell_type": "code",
      "metadata": {
        "id": "AoyojCloADXG"
      },
      "source": [
        "serie_btc_ent_ori = serie_entrainement*std+mean\n",
        "serie_btc_val_ori = serie_test*std+mean\n",
        "\n",
        "serie_btc_ent_pred = pd.Series(data=(pred_ent[:,0]*std+mean),index=y_train_timing)\n",
        "serie_btc_val_pred = pd.Series(data=(pred_val[:,0]*std+mean),index=y_val_timing)\n",
        "\n",
        "serie_btc_ori = pd.concat([serie_btc_ent_ori,serie_btc_val_ori])\n",
        "serie_btc_pred = pd.concat([serie_btc_ent_pred,serie_btc_val_pred])\n",
        "\n",
        "serie_btc_ori = serie_btc_ori.fillna(method=\"backfill\")\n",
        "serie_btc_pred = serie_btc_pred.fillna(method=\"backfill\")\n",
        "\n",
        "serie_btc_ent_ori = serie_btc_ent_ori.fillna(method=\"backfill\")\n",
        "serie_btc_val_ori = serie_btc_val_ori.fillna(method=\"backfill\")\n",
        "serie_btc_ent_pred = serie_btc_ent_pred.fillna(method=\"backfill\")\n",
        "serie_btc_val_pred = serie_btc_val_pred.fillna(method=\"backfill\")\n",
        "\n",
        "frame = {'BTC_ALL' : serie_btc_ori, 'BTC_ENT': serie_btc_ent_ori, 'BTC_VAL' : serie_btc_val_ori, 'BTC_PRED' : serie_btc_pred, 'BTC_PRED_ENT' : serie_btc_ent_pred, 'BTC_PRED_VAL':serie_btc_val_pred}\n",
        "df_resultats = pd.DataFrame(frame)\n",
        "df_resultats"
      ],
      "execution_count": null,
      "outputs": []
    },
    {
      "cell_type": "code",
      "metadata": {
        "id": "0SwwQkjiADXG"
      },
      "source": [
        "date_separation"
      ],
      "execution_count": null,
      "outputs": []
    },
    {
      "cell_type": "code",
      "metadata": {
        "id": "MqvOoeoYADXG"
      },
      "source": [
        "df_resultats.loc[date_separation-pd.Timedelta(hours=7):date_separation+pd.Timedelta(hours=7)]"
      ],
      "execution_count": null,
      "outputs": []
    },
    {
      "cell_type": "code",
      "metadata": {
        "id": "zNqabyNzADXH"
      },
      "source": [
        "import plotly.graph_objects as go\n",
        "\n",
        "fig = go.Figure()\n",
        "\n",
        "# Courbe originale\n",
        "fig.add_trace(go.Scatter(x=df_resultats.index,y=df_resultats['BTC_ALL'],line=dict(color='blue', width=1),name=\"Prix BTC\"))\n",
        "\n",
        "# Courbes des prédictions d'entrainement\n",
        "fig.add_trace(go.Scatter(x=df_resultats.index,y=df_resultats['BTC_PRED_ENT'],line=dict(color='green', width=1),name=\"Entrainement\"))\n",
        "\n",
        "# Courbe de validation\n",
        "fig.add_trace(go.Scatter(x=df_resultats.index,y=df_resultats['BTC_PRED_VAL'],line=dict(color='red', width=1),name=\"Validation\"))\n",
        "\n",
        "fig.update_xaxes(rangeslider_visible=True)\n",
        "yaxis=dict(autorange = True,fixedrange= False)\n",
        "fig.update_yaxes(yaxis)\n",
        "fig.show()"
      ],
      "execution_count": null,
      "outputs": []
    },
    {
      "cell_type": "markdown",
      "metadata": {
        "id": "WCTa2-ZEADXM"
      },
      "source": [
        "**5. Détection de l'augmentation des erreurs dans la zone de validation**"
      ]
    },
    {
      "cell_type": "markdown",
      "metadata": {
        "id": "Z3cjdfFLADXN"
      },
      "source": [
        "On peut imaginer devoir suivre en temps réel l'évolution des prédictions afin de détecter lorsque le modèle n'est plus valide."
      ]
    },
    {
      "cell_type": "code",
      "metadata": {
        "id": "snd-tMArADXN"
      },
      "source": [
        "# Détection de la date où commencent les anomalies\n",
        "# sur la période de validation\n",
        "\n",
        "# Construit les dataframe pour calculer les erreurs\n",
        "df_error_btc_ent = df_resultats[['BTC_ENT','BTC_PRED_ENT']].dropna()\n",
        "df_error_btc_val = df_resultats[['BTC_VAL','BTC_PRED_VAL']].dropna()\n",
        "\n",
        "# Calcul des erreurs relatives sur les entrainements et les validations\n",
        "erreur_ent = abs(np.asarray(df_error_btc_ent['BTC_ENT']) - np.asarray(df_error_btc_ent['BTC_PRED_ENT']))/np.asarray(df_error_btc_ent['BTC_ENT'])*100.0\n",
        "erreur_val = abs(np.asarray(df_error_btc_val['BTC_VAL']) - np.asarray(df_error_btc_val['BTC_PRED_VAL']))/np.asarray(df_error_btc_val['BTC_VAL'])*100.0\n",
        "\n",
        "# Erreur relative moyenne sur les entrainements\n",
        "erreur_ent_mape = tf.keras.metrics.mape(np.asarray(df_error_btc_ent['BTC_ENT']),np.asarray(df_error_btc_ent['BTC_PRED_ENT']))\n",
        "erreur_ent_mape_max = np.amax(erreur_ent)\n",
        "\n",
        "# Calcul le nombre d'anomalies sur les entrainements avec le ratio spécifié\n",
        "nbr_anomalies_ent = np.count_nonzero(erreur_ent>erreur_ent_mape)\n",
        "\n",
        "# Calcul du ratio d'anomalies sur la période d'entrainement\n",
        "ratio_ent = np.count_nonzero(erreur_ent>erreur_ent_mape)/erreur_ent.size\n",
        "\n",
        "# Recherche de la date à partir de laquelle on dépasse l\n",
        "n_erreurs = 0\n",
        "for i in range(5,erreur_val.size):\n",
        "  erreur_val_ = abs(np.asarray(df_error_btc_val['BTC_VAL'][i]) - np.asarray(df_error_btc_val['BTC_PRED_VAL'][i]))/np.asarray(df_error_btc_val['BTC_VAL'][i])*100.0\n",
        "  seuil = erreur_ent_mape_max*1\n",
        "  if erreur_val_ > seuil:\n",
        "    n_erreurs = n_erreurs + 1\n",
        "    if n_erreurs == 5:\n",
        "      index = df_error_btc_val.index[i]\n",
        "      break\n",
        "  else:\n",
        "    n_erreurs = 0\n",
        "print(index)"
      ],
      "execution_count": null,
      "outputs": []
    },
    {
      "cell_type": "code",
      "metadata": {
        "id": "ubGN_i0fADXO"
      },
      "source": [
        "import plotly.graph_objects as go\n",
        "\n",
        "fig = go.Figure()\n",
        "\n",
        "# Courbe originale\n",
        "fig.add_trace(go.Scatter(x=df_resultats.index,y=df_resultats['BTC_ALL'],line=dict(color='blue', width=1),name=\"Prix BTC\"))\n",
        "\n",
        "# Courbes des prédictions d'entrainement\n",
        "fig.add_trace(go.Scatter(x=df_resultats.index,y=df_resultats['BTC_PRED_ENT'],line=dict(color='green', width=1),name=\"Entrainement\"))\n",
        "\n",
        "# Courbe de validation\n",
        "fig.add_trace(go.Scatter(x=df_resultats.index,y=df_resultats['BTC_PRED_VAL'],line=dict(color='red', width=1),name=\"Validation\"))\n",
        "\n",
        "# Délimite la zone d'erreur\n",
        "fig.add_shape(type=\"line\",x0=index,y0=0,x1=index,y1=np.amax(df_resultats['BTC_ALL']),name=\"Zone d'erreur\")\n",
        "\n",
        "# Affiche les courbes\n",
        "fig.update_xaxes(rangeslider_visible=True)\n",
        "yaxis=dict(autorange = True,fixedrange= False)\n",
        "fig.update_yaxes(yaxis)\n",
        "fig.show()"
      ],
      "execution_count": null,
      "outputs": []
    },
    {
      "cell_type": "markdown",
      "metadata": {
        "id": "emkQ01bfADXT"
      },
      "source": [
        "**5.Affichage sur une période de 1 jour**"
      ]
    },
    {
      "cell_type": "code",
      "metadata": {
        "id": "ShhfXg8yADXU"
      },
      "source": [
        "# Echantillonage des données\n",
        "time = \"1D\"\n",
        "\n",
        "df_resultats = df_resultats.resample(time).asfreq()\n",
        "df_resultats"
      ],
      "execution_count": null,
      "outputs": []
    },
    {
      "cell_type": "code",
      "metadata": {
        "id": "btEN2yyyADXU"
      },
      "source": [
        "import plotly.graph_objects as go\n",
        "\n",
        "fig = go.Figure()\n",
        "\n",
        "# Courbe originale\n",
        "fig.add_trace(go.Scatter(x=df_resultats.index,y=df_resultats['BTC_ALL'],line=dict(color='blue', width=1),name=\"Prix BTC\"))\n",
        "\n",
        "# Courbes des prédictions d'entrainement\n",
        "fig.add_trace(go.Scatter(x=df_resultats.index,y=df_resultats['BTC_PRED_ENT'],line=dict(color='green', width=1),name=\"Entrainement\"))\n",
        "\n",
        "# Courbe de validation\n",
        "fig.add_trace(go.Scatter(x=df_resultats.index,y=df_resultats['BTC_PRED_VAL'],line=dict(color='red', width=1),name=\"Validation\"))\n",
        "\n",
        "# Délimite la zone d'erreur\n",
        "fig.add_shape(type=\"line\",x0=index,y0=0,x1=index,y1=np.amax(df_resultats['BTC_ALL']),name=\"Zone d'erreur\")\n",
        "\n",
        "# Affiche les courbes\n",
        "fig.update_xaxes(rangeslider_visible=True)\n",
        "yaxis=dict(autorange = True,fixedrange= False)\n",
        "fig.update_yaxes(yaxis)\n",
        "fig.show()"
      ],
      "execution_count": null,
      "outputs": []
    },
    {
      "cell_type": "markdown",
      "metadata": {
        "id": "V0eIXJrhADXV"
      },
      "source": [
        "**6.Synthèse des erreurs sur les différentes zones**"
      ]
    },
    {
      "cell_type": "code",
      "metadata": {
        "id": "nP8wjWErADXV"
      },
      "source": [
        "# Echantillonage des données\n",
        "time = \"1H\"\n",
        "\n",
        "df_resultats = df_resultats.resample(time).asfreq()\n",
        "df_resultats"
      ],
      "execution_count": null,
      "outputs": []
    },
    {
      "cell_type": "code",
      "metadata": {
        "id": "fuofOZLJADXW"
      },
      "source": [
        "# Détection de la date où commencnte les anomalies\n",
        "# sur la période de validation\n",
        "\n",
        "# Construit les dataframe pour calculer les erreurs\n",
        "df_error_btc_ent = df_resultats[['BTC_ENT','BTC_PRED_ENT']].dropna()\n",
        "df_error_btc_val = df_resultats[['BTC_VAL','BTC_PRED_VAL']].dropna()\n"
      ],
      "execution_count": null,
      "outputs": []
    },
    {
      "cell_type": "code",
      "metadata": {
        "id": "IAyfDmMLADXW"
      },
      "source": [
        "# Erreurs d'entrainement\n",
        "mae_ent = tf.keras.metrics.mean_absolute_error(np.asarray(df_error_btc_ent['BTC_ENT']),np.asarray(df_error_btc_ent['BTC_PRED_ENT'])).numpy()\n",
        "mse_ent = tf.keras.metrics.mean_squared_error(np.asarray(df_error_btc_ent['BTC_ENT']),np.asarray(df_error_btc_ent['BTC_PRED_ENT'])).numpy()\n",
        "mape_ent = tf.keras.metrics.mape(np.asarray(df_error_btc_ent['BTC_ENT']),np.asarray(df_error_btc_ent['BTC_PRED_ENT'])).numpy()\n",
        "\n",
        "# Erreurs de validation\n",
        "mae_val = tf.keras.metrics.mean_absolute_error(np.asarray(df_error_btc_val['BTC_VAL']),np.asarray(df_error_btc_val['BTC_PRED_VAL'])).numpy()\n",
        "mse_val = tf.keras.metrics.mean_squared_error(np.asarray(df_error_btc_val['BTC_VAL']),np.asarray(df_error_btc_val['BTC_PRED_VAL'])).numpy()\n",
        "mape_val = tf.keras.metrics.mape(np.asarray(df_error_btc_val['BTC_VAL']),np.asarray(df_error_btc_val['BTC_PRED_VAL'])).numpy()\n",
        "\n",
        "# Erreurs sur la zone valide de validation\n",
        "mae_val_ok = tf.keras.metrics.mean_absolute_error(df_error_btc_val['BTC_VAL'][:index],np.asarray(df_error_btc_val['BTC_PRED_VAL'][:index])).numpy()\n",
        "mse_val_ok = tf.keras.metrics.mean_squared_error(df_error_btc_val['BTC_VAL'][:index],np.asarray(df_error_btc_val['BTC_PRED_VAL'][:index])).numpy()\n",
        "mape_val_ok = tf.keras.metrics.mape(df_error_btc_val['BTC_VAL'][:index],np.asarray(df_error_btc_val['BTC_PRED_VAL'][:index])).numpy()\n",
        "\n",
        "\n",
        "print(\"Erreur mae entrainement %s\" %mae_ent)\n",
        "print(\"Erreur mse entrainement : %s\" %mse_ent)\n",
        "print(\"Erreur mape entrainement : %s\\n\" %mape_ent)\n",
        "\n",
        "print(\"Erreur mae validation %s\" %mae_val)\n",
        "print(\"Erreur mse validation : %s\" %mse_val)\n",
        "print(\"Erreur mape entrainement : %s\\n\" %mape_val)\n",
        "\n",
        "print(\"Erreur mae validation zone OK %s\" %mae_val_ok)\n",
        "print(\"Erreur mse validation zone OK: %s\" %mse_val_ok)\n",
        "print(\"Erreur mape validation zone OK: %s\" %mape_val_ok)"
      ],
      "execution_count": null,
      "outputs": []
    }
  ]
}