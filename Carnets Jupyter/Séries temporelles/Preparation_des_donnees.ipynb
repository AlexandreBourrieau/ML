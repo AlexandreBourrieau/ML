{
  "nbformat": 4,
  "nbformat_minor": 0,
  "metadata": {
    "colab": {
      "name": "Préparation_des_données.ipynb",
      "provenance": [],
      "authorship_tag": "ABX9TyPDD2wjLJSgAeG5zI2DfVI0",
      "include_colab_link": true
    },
    "kernelspec": {
      "name": "python3",
      "display_name": "Python 3"
    }
  },
  "cells": [
    {
      "cell_type": "markdown",
      "metadata": {
        "id": "view-in-github",
        "colab_type": "text"
      },
      "source": [
        "<a href=\"https://colab.research.google.com/github/AlexandreBourrieau/ML/blob/main/Carnets%20Jupyter/S%C3%A9ries%20temporelles/Preparation_des_donnees.ipynb\" target=\"_parent\"><img src=\"https://colab.research.google.com/assets/colab-badge.svg\" alt=\"Open In Colab\"/></a>"
      ]
    },
    {
      "cell_type": "markdown",
      "metadata": {
        "id": "Am59FHDEklW4"
      },
      "source": [
        "# Création de données d'entrée X avec l'utilisation d'une fenêtre glissante"
      ]
    },
    {
      "cell_type": "markdown",
      "metadata": {
        "id": "8VVsWrY3eZlL"
      },
      "source": [
        "**1. Création d'une liste de données**"
      ]
    },
    {
      "cell_type": "markdown",
      "metadata": {
        "id": "ty7HrlN4TpkB"
      },
      "source": [
        "Commençons par créer un ensemble de 16 valeurs avec l'outils `Dataset` de tensorflow :"
      ]
    },
    {
      "cell_type": "code",
      "metadata": {
        "id": "StGwfRz-S88G"
      },
      "source": [
        "import tensorflow as tf\r\n",
        "import numpy as np\r\n",
        "\r\n",
        "# Création d'un ensemble de 15 valeurs en 1D\r\n",
        "dataset = tf.data.Dataset.range(16)\r\n",
        "\r\n",
        "for valeur in dataset:\r\n",
        "  print(\"%02d\" %valeur.numpy())"
      ],
      "execution_count": null,
      "outputs": []
    },
    {
      "cell_type": "markdown",
      "metadata": {
        "id": "pM9sqFhOeguB"
      },
      "source": [
        "**2. Extraction des sous-ensembles à l'aide d'une fenêtre glissante**"
      ]
    },
    {
      "cell_type": "markdown",
      "metadata": {
        "id": "g6kTYumkT69a"
      },
      "source": [
        "Utilisons maintenant l'outils `window` de la classe `Dataset` afin d'obtenir plusieurs sous-ensembles. Ces sous-ensembles sont créés à l'aide d'une fenêtre glissante appliquée sur les valeurs précédentes. Les paramètres de la fenêtre glissante sont :\r\n",
        " - Taille de la fenêtre : 5\r\n",
        " - Décalage : 1\r\n"
      ]
    },
    {
      "cell_type": "code",
      "metadata": {
        "id": "jlminloaS-46"
      },
      "source": [
        "# Création d'un ensemble de 16 valeurs en 1D\r\n",
        "dataset = tf.data.Dataset.range(16)\r\n",
        "\r\n",
        "# Création de sous-ensemble à l'aide d'une fenêtre glissante\r\n",
        "dataset = dataset.window(5,shift=1)\r\n",
        "\r\n",
        "i=0\r\n",
        "for fenetre in dataset:\r\n",
        "  print (\"Fenêtre #%02d :\" %i, end=\" \")\r\n",
        "  for valeur in fenetre:\r\n",
        "    print (\"%02d\" %valeur.numpy(), end=\" \")\r\n",
        "  print()\r\n",
        "  i = i+1"
      ],
      "execution_count": null,
      "outputs": []
    },
    {
      "cell_type": "markdown",
      "metadata": {
        "id": "ltZIFLpfV_9s"
      },
      "source": [
        "Faisons maintenant en sorte que chaque fenêtre possède le même nombre de données (5 données), en éliminant les fenêtres trop petites :"
      ]
    },
    {
      "cell_type": "code",
      "metadata": {
        "id": "cOYBpwdpTLIT"
      },
      "source": [
        "# Création d'un ensemble de 16 valeurs en 1D\r\n",
        "dataset = tf.data.Dataset.range(16)\r\n",
        "\r\n",
        "# Création de sous-ensemble à l'aide d'une fenêtre glissante\r\n",
        "# Imposons le nombre d'éléments de chaque fenêtre à 5\r\n",
        "dataset = dataset.window(5,shift=1,drop_remainder=True)\r\n",
        "\r\n",
        "i=1\r\n",
        "for fenetre in dataset:\r\n",
        "  print (\"Fenêtre #%02d :\" %i, end=\" \")\r\n",
        "  for valeur in fenetre:\r\n",
        "    print (\"%02d\" %valeur.numpy(),end=\" \")\r\n",
        "  print()\r\n",
        "  i=i+1"
      ],
      "execution_count": null,
      "outputs": []
    },
    {
      "cell_type": "markdown",
      "metadata": {
        "id": "3yrum2iFktr_"
      },
      "source": [
        "**3. Conversion des sous-ensembles en vecteurs numpy**"
      ]
    },
    {
      "cell_type": "markdown",
      "metadata": {
        "id": "fbNyk32Ql4js"
      },
      "source": [
        "Commençons par regarder comment obtenir les valeurs contenues dans chaque fenêtre sous forme de vecteur à l'aide de la méthode [batch()](https://www.tensorflow.org/api_docs/python/tf/data/Dataset#batch) de la classe `Dataset` de Tensorflow qui permet de regrouper les données dans des ensembles de taille spécifique :"
      ]
    },
    {
      "cell_type": "code",
      "metadata": {
        "id": "hdwTxb2edhtT"
      },
      "source": [
        "# Création d'un ensemble de 16 valeurs en 1D\r\n",
        "dataset = tf.data.Dataset.range(16)\r\n",
        "\r\n",
        "# Création de sous-ensemble à l'aide d'une fenêtre glissante\r\n",
        "# Imposons le nombre d'éléments de chaque fenêtre à 5\r\n",
        "dataset = dataset.window(5,shift=1,drop_remainder=True)\r\n",
        "\r\n",
        "for fenetre in dataset:\r\n",
        "    vecteurs = fenetre.batch(5)\r\n",
        "    print(list(vecteurs.as_numpy_iterator()))\r\n"
      ],
      "execution_count": null,
      "outputs": []
    },
    {
      "cell_type": "markdown",
      "metadata": {
        "id": "nzQpN-wnmL2E"
      },
      "source": [
        "Convertissons maintenant chaque vecteur au format numpy avec la fonction `.numpy()` ou bien en utilisant la fonction `asarray()` de numpy"
      ]
    },
    {
      "cell_type": "code",
      "metadata": {
        "id": "UUsmaE6njSVV"
      },
      "source": [
        "# Création d'un ensemble de 16 valeurs en 1D\r\n",
        "dataset = tf.data.Dataset.range(16)\r\n",
        "\r\n",
        "# Création de sous-ensemble à l'aide d'une fenêtre glissante\r\n",
        "# Imposons le nombre d'éléments de chaque fenêtre à 5\r\n",
        "dataset = dataset.window(5,shift=1,drop_remainder=True)\r\n",
        "\r\n",
        "for fenetre in dataset:\r\n",
        "    vecteurs = fenetre.batch(5)\r\n",
        "    for vecteur in vecteurs:\r\n",
        "      print(np.asarray(vecteur))\r\n",
        "#      print(vecteur.numpy())"
      ],
      "execution_count": null,
      "outputs": []
    },
    {
      "cell_type": "markdown",
      "metadata": {
        "id": "joUOUDgmmj2T"
      },
      "source": [
        "Un manière plus élégante est d'utiliser la fonction d'applatissement [flat_map](https://www.tensorflow.org/api_docs/python/tf/data/Dataset#flat_map) de la classe `Dataset` de tensorflow : Cette méthode permet d'appliquer une fonction lambda à un dataset et d'applatir le résultat obtenu :"
      ]
    },
    {
      "cell_type": "code",
      "metadata": {
        "id": "WtnXqdEKWxsa"
      },
      "source": [
        "# Création d'un ensemble de 16 valeurs en 1D\r\n",
        "dataset = tf.data.Dataset.range(16)\r\n",
        "\r\n",
        "# Création de sous-ensemble à l'aide d'une fenêtre glissante\r\n",
        "# Imposons le nombre d'éléments de chaque fenêtre à 5\r\n",
        "dataset = dataset.window(5,shift=1,drop_remainder=True)\r\n",
        "\r\n",
        "# Extraction des vecteurs de 5 valeurs à l'aide de la fonction flat_map\r\n",
        "vecteurs = dataset.flat_map(lambda x: x.batch(5))\r\n",
        "\r\n",
        "for vecteur in vecteurs:\r\n",
        "  print(vecteur.numpy())\r\n"
      ],
      "execution_count": null,
      "outputs": []
    },
    {
      "cell_type": "markdown",
      "metadata": {
        "id": "4VCUDIu5e5pq"
      },
      "source": [
        "Nous avons maintenant nos données d'entrées X au format Numpy !"
      ]
    },
    {
      "cell_type": "markdown",
      "metadata": {
        "id": "U2tjarPVe-eZ"
      },
      "source": [
        "# Création des labels Y à partir des données d'entrées X"
      ]
    },
    {
      "cell_type": "markdown",
      "metadata": {
        "id": "2C_5zBlPfEnB"
      },
      "source": [
        "Il faut maintenant construire les labels Y à partir des données d'entrées X. Choisissons par exemple que le label associé à chaque ensemble d'entrée soit la prochaine valeur à venir de  cet ensemble :"
      ]
    },
    {
      "cell_type": "markdown",
      "metadata": {
        "id": "iAkob9LVhPf7"
      },
      "source": [
        "<img src=\"https://github.com/AlexandreBourrieau/ML/blob/main/Carnets%20Jupyter/S%C3%A9ries%20temporelles/images/X_Y2.png?raw=true\" width=\"250\">"
      ]
    },
    {
      "cell_type": "markdown",
      "metadata": {
        "id": "XEYp0A1njA-x"
      },
      "source": [
        "Pour réaliser cela, on utilise la méthode [map](https://www.tensorflow.org/api_docs/python/tf/data/Dataset#map) de la classe `Dataset` tensorflow qui applique une fonction lambda au dataset :"
      ]
    },
    {
      "cell_type": "code",
      "metadata": {
        "id": "qUCbQBFCh24q"
      },
      "source": [
        "# Création d'un ensemble de 16 valeurs en 1D\r\n",
        "dataset = tf.data.Dataset.range(16)\r\n",
        "\r\n",
        "# Création de sous-ensemble à l'aide d'une fenêtre glissante\r\n",
        "# Imposons le nombre d'éléments de chaque fenêtre à 5\r\n",
        "dataset = dataset.window(5,shift=1,drop_remainder=True)\r\n",
        "\r\n",
        "# Extraction des vecteurs de 5 valeurs à l'aide de la fonction flat_map\r\n",
        "vecteurs = dataset.flat_map(lambda x: x.batch(5))\r\n",
        "\r\n",
        "# Création des ensembles X/Y à l'aide de la fonction map\r\n",
        "data_XY = vecteurs.map(lambda x: (x[:-1],x[-1:]))\r\n",
        "\r\n",
        "for x,y in data_XY:\r\n",
        "  print(x.numpy(), y.numpy())"
      ],
      "execution_count": null,
      "outputs": []
    },
    {
      "cell_type": "markdown",
      "metadata": {
        "id": "sXl9eBwzkS-6"
      },
      "source": [
        "# Mélange des données X et Y"
      ]
    },
    {
      "cell_type": "markdown",
      "metadata": {
        "id": "iuraslU4kYcw"
      },
      "source": [
        "Avant d'envoyer des données dans un réseau de neurones, on a souvent besoin de les mélanger. Cela peut se faire avec la méthode [shuffle](https://www.tensorflow.org/api_docs/python/tf/data/Dataset#shuffle) de la classe `Dataset` tensorflow :"
      ]
    },
    {
      "cell_type": "code",
      "metadata": {
        "id": "m82N1Sy2lBgi"
      },
      "source": [
        "# Création d'un ensemble de 16 valeurs en 1D\r\n",
        "dataset = tf.data.Dataset.range(16)\r\n",
        "\r\n",
        "# Création de sous-ensemble à l'aide d'une fenêtre glissante\r\n",
        "# Imposons le nombre d'éléments de chaque fenêtre à 5\r\n",
        "dataset = dataset.window(5,shift=1,drop_remainder=True)\r\n",
        "\r\n",
        "# Extraction des vecteurs de 5 valeurs à l'aide de la fonction flat_map\r\n",
        "vecteurs = dataset.flat_map(lambda x: x.batch(5))\r\n",
        "\r\n",
        "# Création des ensembles X/Y à l'aide de la fonction map\r\n",
        "data_XY = vecteurs.map(lambda x: (x[:-1],x[-1:]))\r\n",
        "\r\n",
        "# Mélange les données avec un buffer de  12\r\n",
        "data_XY = data_XY.shuffle(buffer_size=12)\r\n",
        "\r\n",
        "for x,y in data_XY:\r\n",
        "  print(x.numpy(), y.numpy())"
      ],
      "execution_count": null,
      "outputs": []
    },
    {
      "cell_type": "markdown",
      "metadata": {
        "id": "VbX1ig_hnmyQ"
      },
      "source": [
        "# Création de paires de données (X/Y)"
      ]
    },
    {
      "cell_type": "markdown",
      "metadata": {
        "id": "HN4Dpa0apUUH"
      },
      "source": [
        "A partir des données précédentes, on peut créer des paires d'ensembles X,Y en utlisant la méthode [batch](https://www.tensorflow.org/api_docs/python/tf/data/Dataset#batch) de la classe `Dataset` :"
      ]
    },
    {
      "cell_type": "markdown",
      "metadata": {
        "id": "ga4yJrpIpRLf"
      },
      "source": [
        "<img src=\"https://github.com/AlexandreBourrieau/ML/blob/main/Carnets%20Jupyter/S%C3%A9ries%20temporelles/images/Paires_X_Y_2.png?raw=true\" width=\"700\">"
      ]
    },
    {
      "cell_type": "code",
      "metadata": {
        "id": "Vf1xvFRYpaXC"
      },
      "source": [
        "# Création d'un ensemble de 16 valeurs en 1D\r\n",
        "dataset = tf.data.Dataset.range(16)\r\n",
        "\r\n",
        "# Création de sous-ensemble à l'aide d'une fenêtre glissante\r\n",
        "# Imposons le nombre d'éléments de chaque fenêtre à 5\r\n",
        "dataset = dataset.window(5,shift=1,drop_remainder=True)\r\n",
        "\r\n",
        "# Extraction des vecteurs de 5 valeurs à l'aide de la fonction flat_map\r\n",
        "vecteurs = dataset.flat_map(lambda x: x.batch(5))\r\n",
        "\r\n",
        "# Création des ensembles X/Y à l'aide de la fonction map\r\n",
        "data_XY = vecteurs.map(lambda x: (x[:-1],x[-1:]))\r\n",
        "\r\n",
        "# Mélange les données avec un buffer de  12\r\n",
        "data_XY = data_XY.shuffle(buffer_size=12)\r\n",
        "\r\n",
        "# Regroupe les données XY par paires\r\n",
        "data_XY = data_XY.batch(2)\r\n",
        "\r\n",
        "for x,y in data_XY:\r\n",
        "  print(\"x = %s %s\" %(x.numpy()[-1:],x.numpy()[:-1]))\r\n",
        "  print(\"y = %s %s\" %(y.numpy()[-1:],y.numpy()[:-1]))"
      ],
      "execution_count": null,
      "outputs": []
    }
  ]
}