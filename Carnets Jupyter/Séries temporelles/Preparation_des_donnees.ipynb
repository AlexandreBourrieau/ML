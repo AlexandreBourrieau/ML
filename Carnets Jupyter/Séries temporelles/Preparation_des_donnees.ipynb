{
  "nbformat": 4,
  "nbformat_minor": 0,
  "metadata": {
    "colab": {
      "name": "Untitled9.ipynb",
      "provenance": [],
      "authorship_tag": "ABX9TyNmECAFa75vGCOw7t+JNNS6",
      "include_colab_link": true
    },
    "kernelspec": {
      "name": "python3",
      "display_name": "Python 3"
    }
  },
  "cells": [
    {
      "cell_type": "markdown",
      "metadata": {
        "id": "view-in-github",
        "colab_type": "text"
      },
      "source": [
        "<a href=\"https://colab.research.google.com/github/AlexandreBourrieau/ML/blob/main/Carnets%20Jupyter/S%C3%A9ries%20temporelles/Preparation_des_donnees.ipynb\" target=\"_parent\"><img src=\"https://colab.research.google.com/assets/colab-badge.svg\" alt=\"Open In Colab\"/></a>"
      ]
    },
    {
      "cell_type": "markdown",
      "metadata": {
        "id": "Am59FHDEklW4"
      },
      "source": [
        "# Création de données avec l'utilisation d'une fenêtre glissante"
      ]
    },
    {
      "cell_type": "markdown",
      "metadata": {
        "id": "ty7HrlN4TpkB"
      },
      "source": [
        "Commençons par créer un ensemble de 10 valeurs avec l'outils `Dataset` de tensorflow :"
      ]
    },
    {
      "cell_type": "code",
      "metadata": {
        "colab": {
          "base_uri": "https://localhost:8080/"
        },
        "id": "StGwfRz-S88G",
        "outputId": "4ea8baee-1403-4c3c-ee83-6829186d5785"
      },
      "source": [
        "import tensorflow as tf\r\n",
        "import numpy as np\r\n",
        "\r\n",
        "# Création d'un ensemble de 15 valeurs en 1D\r\n",
        "dataset = tf.data.Dataset.range(15)\r\n",
        "\r\n",
        "for valeur in dataset:\r\n",
        "  print(valeur.numpy())"
      ],
      "execution_count": 147,
      "outputs": [
        {
          "output_type": "stream",
          "text": [
            "0\n",
            "1\n",
            "2\n",
            "3\n",
            "4\n",
            "5\n",
            "6\n",
            "7\n",
            "8\n",
            "9\n",
            "10\n",
            "11\n",
            "12\n",
            "13\n",
            "14\n"
          ],
          "name": "stdout"
        }
      ]
    },
    {
      "cell_type": "markdown",
      "metadata": {
        "id": "g6kTYumkT69a"
      },
      "source": [
        "Utilisons maintenant l'outils `window` de la classe `Dataset` afin d'obtenir plusieurs sous-ensembles. Ces sous-ensembles sont créés à l'aide d'une fenêtre glissante appliquée sur les valeurs précédentes. Les paramètres de la fenêtre glissante sont :\r\n",
        " - Taille de la fenêtre : 5\r\n",
        " - Décalage : 1\r\n"
      ]
    },
    {
      "cell_type": "code",
      "metadata": {
        "colab": {
          "base_uri": "https://localhost:8080/"
        },
        "id": "jlminloaS-46",
        "outputId": "4ffda6d0-06d0-4d52-e0e5-aea840a6765f"
      },
      "source": [
        "# Création d'un ensemble de 15 valeurs en 1D\r\n",
        "dataset = tf.data.Dataset.range(15)\r\n",
        "\r\n",
        "# Création de sous-ensemble à l'aide d'une fenêtre glissante\r\n",
        "dataset = dataset.window(5,shift=1)\r\n",
        "\r\n",
        "i=0\r\n",
        "for fenetre in dataset:\r\n",
        "  print (\"Fenêtre #%d :\" %i, end=\" \")\r\n",
        "  for valeur in fenetre:\r\n",
        "    print (valeur.numpy(), end=\" \")\r\n",
        "  print()\r\n",
        "  i = i+1"
      ],
      "execution_count": 148,
      "outputs": [
        {
          "output_type": "stream",
          "text": [
            "Fenêtre #0 : 0 1 2 3 4 \n",
            "Fenêtre #1 : 1 2 3 4 5 \n",
            "Fenêtre #2 : 2 3 4 5 6 \n",
            "Fenêtre #3 : 3 4 5 6 7 \n",
            "Fenêtre #4 : 4 5 6 7 8 \n",
            "Fenêtre #5 : 5 6 7 8 9 \n",
            "Fenêtre #6 : 6 7 8 9 10 \n",
            "Fenêtre #7 : 7 8 9 10 11 \n",
            "Fenêtre #8 : 8 9 10 11 12 \n",
            "Fenêtre #9 : 9 10 11 12 13 \n",
            "Fenêtre #10 : 10 11 12 13 14 \n",
            "Fenêtre #11 : 11 12 13 14 \n",
            "Fenêtre #12 : 12 13 14 \n",
            "Fenêtre #13 : 13 14 \n",
            "Fenêtre #14 : 14 \n"
          ],
          "name": "stdout"
        }
      ]
    },
    {
      "cell_type": "markdown",
      "metadata": {
        "id": "ltZIFLpfV_9s"
      },
      "source": [
        "Faisons maintenant en sorte que chaque fenêtre possède le même nombre de données (5 données), en éliminant les fenêtres trop petites :"
      ]
    },
    {
      "cell_type": "code",
      "metadata": {
        "colab": {
          "base_uri": "https://localhost:8080/"
        },
        "id": "cOYBpwdpTLIT",
        "outputId": "188572b8-f4bc-4853-a5b3-f12b6609da5e"
      },
      "source": [
        "# Création d'un ensemble de 15 valeurs en 1D\r\n",
        "dataset = tf.data.Dataset.range(15)\r\n",
        "\r\n",
        "# Création de sous-ensemble à l'aide d'une fenêtre glissante\r\n",
        "# Imposons le nombre d'éléments de chaque fenêtre à 5\r\n",
        "dataset = dataset.window(5,shift=1,drop_remainder=True)\r\n",
        "\r\n",
        "i=0\r\n",
        "for fenetre in dataset:\r\n",
        "  print (\"Fenêtre #%d :\" %i, end=\" \")\r\n",
        "  for valeur in fenetre:\r\n",
        "    print (valeur.numpy(),end=\" \")\r\n",
        "  print()\r\n",
        "  i=i+1"
      ],
      "execution_count": 150,
      "outputs": [
        {
          "output_type": "stream",
          "text": [
            "Fenêtre #0 : 0 1 2 3 4 \n",
            "Fenêtre #1 : 1 2 3 4 5 \n",
            "Fenêtre #2 : 2 3 4 5 6 \n",
            "Fenêtre #3 : 3 4 5 6 7 \n",
            "Fenêtre #4 : 4 5 6 7 8 \n",
            "Fenêtre #5 : 5 6 7 8 9 \n",
            "Fenêtre #6 : 6 7 8 9 10 \n",
            "Fenêtre #7 : 7 8 9 10 11 \n",
            "Fenêtre #8 : 8 9 10 11 12 \n",
            "Fenêtre #9 : 9 10 11 12 13 \n",
            "Fenêtre #10 : 10 11 12 13 14 \n"
          ],
          "name": "stdout"
        }
      ]
    },
    {
      "cell_type": "markdown",
      "metadata": {
        "id": "3yrum2iFktr_"
      },
      "source": [
        "# Conversion des fenêtres au format numpy"
      ]
    },
    {
      "cell_type": "markdown",
      "metadata": {
        "id": "fbNyk32Ql4js"
      },
      "source": [
        "Commençons par regarder comment obtenir les valeurs contenues dans chaque fenêtre sous forme de vecteur à l'aide de la fonction `batch()` :"
      ]
    },
    {
      "cell_type": "code",
      "metadata": {
        "colab": {
          "base_uri": "https://localhost:8080/"
        },
        "id": "hdwTxb2edhtT",
        "outputId": "8fddb98b-24f8-4f19-f958-67898ba6c199"
      },
      "source": [
        "# Création d'un ensemble de 15 valeurs en 1D\r\n",
        "dataset = tf.data.Dataset.range(15)\r\n",
        "\r\n",
        "# Création de sous-ensemble à l'aide d'une fenêtre glissante\r\n",
        "# Imposons le nombre d'éléments de chaque fenêtre à 5\r\n",
        "dataset = dataset.window(5,shift=1,drop_remainder=True)\r\n",
        "\r\n",
        "for fenetre in dataset:\r\n",
        "    vecteurs = fenetre.batch(5)\r\n",
        "    print(list(vecteurs.as_numpy_iterator()))\r\n"
      ],
      "execution_count": 157,
      "outputs": [
        {
          "output_type": "stream",
          "text": [
            "[array([0, 1, 2, 3, 4])]\n",
            "[array([1, 2, 3, 4, 5])]\n",
            "[array([2, 3, 4, 5, 6])]\n",
            "[array([3, 4, 5, 6, 7])]\n",
            "[array([4, 5, 6, 7, 8])]\n",
            "[array([5, 6, 7, 8, 9])]\n",
            "[array([ 6,  7,  8,  9, 10])]\n",
            "[array([ 7,  8,  9, 10, 11])]\n",
            "[array([ 8,  9, 10, 11, 12])]\n",
            "[array([ 9, 10, 11, 12, 13])]\n",
            "[array([10, 11, 12, 13, 14])]\n"
          ],
          "name": "stdout"
        }
      ]
    },
    {
      "cell_type": "markdown",
      "metadata": {
        "id": "nzQpN-wnmL2E"
      },
      "source": [
        "Convertissons maintenant chaque vecteur au format numpy avec la fonction `.numpy()` ou bien en utilisant la fonction `asarray()` de numpy"
      ]
    },
    {
      "cell_type": "code",
      "metadata": {
        "colab": {
          "base_uri": "https://localhost:8080/"
        },
        "id": "UUsmaE6njSVV",
        "outputId": "3cbba8fd-9e73-4d11-85c2-219ffe1f2c76"
      },
      "source": [
        "# Création d'un ensemble de 15 valeurs en 1D\r\n",
        "dataset = tf.data.Dataset.range(15)\r\n",
        "\r\n",
        "# Création de sous-ensemble à l'aide d'une fenêtre glissante\r\n",
        "# Imposons le nombre d'éléments de chaque fenêtre à 5\r\n",
        "dataset = dataset.window(5,shift=1,drop_remainder=True)\r\n",
        "\r\n",
        "for fenetre in dataset:\r\n",
        "    vecteurs = fenetre.batch(5)\r\n",
        "    for vecteur in vecteurs:\r\n",
        "      print(np.asarray(vecteur))\r\n",
        "#      print(vecteur.numpy())"
      ],
      "execution_count": 156,
      "outputs": [
        {
          "output_type": "stream",
          "text": [
            "[0 1 2 3 4]\n",
            "[1 2 3 4 5]\n",
            "[2 3 4 5 6]\n",
            "[3 4 5 6 7]\n",
            "[4 5 6 7 8]\n",
            "[5 6 7 8 9]\n",
            "[ 6  7  8  9 10]\n",
            "[ 7  8  9 10 11]\n",
            "[ 8  9 10 11 12]\n",
            "[ 9 10 11 12 13]\n",
            "[10 11 12 13 14]\n"
          ],
          "name": "stdout"
        }
      ]
    },
    {
      "cell_type": "markdown",
      "metadata": {
        "id": "joUOUDgmmj2T"
      },
      "source": [
        "Un manière plus élégante est d'utiliser les fonctions lambda avec la fonction d'applatissement `flat_map` de tensorflow :"
      ]
    },
    {
      "cell_type": "code",
      "metadata": {
        "colab": {
          "base_uri": "https://localhost:8080/"
        },
        "id": "WtnXqdEKWxsa",
        "outputId": "49b06fda-41d4-46dd-b70a-1789b2a53e54"
      },
      "source": [
        "# Création d'un ensemble de 15 valeurs en 1D\r\n",
        "dataset = tf.data.Dataset.range(15)\r\n",
        "\r\n",
        "# Création de sous-ensemble à l'aide d'une fenêtre glissante\r\n",
        "# Imposons le nombre d'éléments de chaque fenêtre à 5\r\n",
        "dataset = dataset.window(5,shift=1,drop_remainder=True)\r\n",
        "\r\n",
        "# Applique la fonction lambda sur le dataset et applatit le résultat\r\n",
        "vecteurs = dataset.flat_map(lambda x: x.batch(5))\r\n",
        "\r\n",
        "for vecteur in vecteurs:\r\n",
        "  print(vecteur.numpy())\r\n"
      ],
      "execution_count": 161,
      "outputs": [
        {
          "output_type": "stream",
          "text": [
            "[0 1 2 3 4]\n",
            "[1 2 3 4 5]\n",
            "[2 3 4 5 6]\n",
            "[3 4 5 6 7]\n",
            "[4 5 6 7 8]\n",
            "[5 6 7 8 9]\n",
            "[ 6  7  8  9 10]\n",
            "[ 7  8  9 10 11]\n",
            "[ 8  9 10 11 12]\n",
            "[ 9 10 11 12 13]\n",
            "[10 11 12 13 14]\n"
          ],
          "name": "stdout"
        }
      ]
    }
  ]
}