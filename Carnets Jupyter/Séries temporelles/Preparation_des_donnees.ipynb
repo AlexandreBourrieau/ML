{
  "nbformat": 4,
  "nbformat_minor": 0,
  "metadata": {
    "colab": {
      "name": "Untitled9.ipynb",
      "provenance": [],
      "authorship_tag": "ABX9TyMi3eeemPQkXEnry6p7OCJ1",
      "include_colab_link": true
    },
    "kernelspec": {
      "name": "python3",
      "display_name": "Python 3"
    }
  },
  "cells": [
    {
      "cell_type": "markdown",
      "metadata": {
        "id": "view-in-github",
        "colab_type": "text"
      },
      "source": [
        "<a href=\"https://colab.research.google.com/github/AlexandreBourrieau/ML/blob/main/Carnets%20Jupyter/S%C3%A9ries%20temporelles/Preparation_des_donnees.ipynb\" target=\"_parent\"><img src=\"https://colab.research.google.com/assets/colab-badge.svg\" alt=\"Open In Colab\"/></a>"
      ]
    },
    {
      "cell_type": "markdown",
      "metadata": {
        "id": "Am59FHDEklW4"
      },
      "source": [
        "# Création de données d'entrée X avec l'utilisation d'une fenêtre glissante"
      ]
    },
    {
      "cell_type": "markdown",
      "metadata": {
        "id": "8VVsWrY3eZlL"
      },
      "source": [
        "**1. Création d'une liste de données**"
      ]
    },
    {
      "cell_type": "markdown",
      "metadata": {
        "id": "ty7HrlN4TpkB"
      },
      "source": [
        "Commençons par créer un ensemble de 10 valeurs avec l'outils `Dataset` de tensorflow :"
      ]
    },
    {
      "cell_type": "code",
      "metadata": {
        "colab": {
          "base_uri": "https://localhost:8080/"
        },
        "id": "StGwfRz-S88G",
        "outputId": "bdfc13a3-208d-4c6c-f8ba-bd9ce2874d58"
      },
      "source": [
        "import tensorflow as tf\r\n",
        "import numpy as np\r\n",
        "\r\n",
        "# Création d'un ensemble de 15 valeurs en 1D\r\n",
        "dataset = tf.data.Dataset.range(15)\r\n",
        "\r\n",
        "for valeur in dataset:\r\n",
        "  print(\"%02d\" %valeur.numpy())"
      ],
      "execution_count": 12,
      "outputs": [
        {
          "output_type": "stream",
          "text": [
            "00\n",
            "01\n",
            "02\n",
            "03\n",
            "04\n",
            "05\n",
            "06\n",
            "07\n",
            "08\n",
            "09\n",
            "10\n",
            "11\n",
            "12\n",
            "13\n",
            "14\n"
          ],
          "name": "stdout"
        }
      ]
    },
    {
      "cell_type": "markdown",
      "metadata": {
        "id": "pM9sqFhOeguB"
      },
      "source": [
        "**2. Extraction des sous-ensembles à l'aide d'une fenêtre glissante**"
      ]
    },
    {
      "cell_type": "markdown",
      "metadata": {
        "id": "g6kTYumkT69a"
      },
      "source": [
        "Utilisons maintenant l'outils `window` de la classe `Dataset` afin d'obtenir plusieurs sous-ensembles. Ces sous-ensembles sont créés à l'aide d'une fenêtre glissante appliquée sur les valeurs précédentes. Les paramètres de la fenêtre glissante sont :\r\n",
        " - Taille de la fenêtre : 5\r\n",
        " - Décalage : 1\r\n"
      ]
    },
    {
      "cell_type": "code",
      "metadata": {
        "colab": {
          "base_uri": "https://localhost:8080/"
        },
        "id": "jlminloaS-46",
        "outputId": "315fdd44-38e7-4470-ccdc-96c84ad2a8df"
      },
      "source": [
        "# Création d'un ensemble de 15 valeurs en 1D\r\n",
        "dataset = tf.data.Dataset.range(15)\r\n",
        "\r\n",
        "# Création de sous-ensemble à l'aide d'une fenêtre glissante\r\n",
        "dataset = dataset.window(5,shift=1)\r\n",
        "\r\n",
        "i=0\r\n",
        "for fenetre in dataset:\r\n",
        "  print (\"Fenêtre #%02d :\" %i, end=\" \")\r\n",
        "  for valeur in fenetre:\r\n",
        "    print (\"%02d\" %valeur.numpy(), end=\" \")\r\n",
        "  print()\r\n",
        "  i = i+1"
      ],
      "execution_count": 13,
      "outputs": [
        {
          "output_type": "stream",
          "text": [
            "Fenêtre #00 : 00 01 02 03 04 \n",
            "Fenêtre #01 : 01 02 03 04 05 \n",
            "Fenêtre #02 : 02 03 04 05 06 \n",
            "Fenêtre #03 : 03 04 05 06 07 \n",
            "Fenêtre #04 : 04 05 06 07 08 \n",
            "Fenêtre #05 : 05 06 07 08 09 \n",
            "Fenêtre #06 : 06 07 08 09 10 \n",
            "Fenêtre #07 : 07 08 09 10 11 \n",
            "Fenêtre #08 : 08 09 10 11 12 \n",
            "Fenêtre #09 : 09 10 11 12 13 \n",
            "Fenêtre #10 : 10 11 12 13 14 \n",
            "Fenêtre #11 : 11 12 13 14 \n",
            "Fenêtre #12 : 12 13 14 \n",
            "Fenêtre #13 : 13 14 \n",
            "Fenêtre #14 : 14 \n"
          ],
          "name": "stdout"
        }
      ]
    },
    {
      "cell_type": "markdown",
      "metadata": {
        "id": "ltZIFLpfV_9s"
      },
      "source": [
        "Faisons maintenant en sorte que chaque fenêtre possède le même nombre de données (5 données), en éliminant les fenêtres trop petites :"
      ]
    },
    {
      "cell_type": "code",
      "metadata": {
        "colab": {
          "base_uri": "https://localhost:8080/"
        },
        "id": "cOYBpwdpTLIT",
        "outputId": "a80051e5-7fbc-4a63-b1a6-1b7e3936522e"
      },
      "source": [
        "# Création d'un ensemble de 15 valeurs en 1D\r\n",
        "dataset = tf.data.Dataset.range(15)\r\n",
        "\r\n",
        "# Création de sous-ensemble à l'aide d'une fenêtre glissante\r\n",
        "# Imposons le nombre d'éléments de chaque fenêtre à 5\r\n",
        "dataset = dataset.window(5,shift=1,drop_remainder=True)\r\n",
        "\r\n",
        "i=0\r\n",
        "for fenetre in dataset:\r\n",
        "  print (\"Fenêtre #%02d :\" %i, end=\" \")\r\n",
        "  for valeur in fenetre:\r\n",
        "    print (\"%02d\" %valeur.numpy(),end=\" \")\r\n",
        "  print()\r\n",
        "  i=i+1"
      ],
      "execution_count": 14,
      "outputs": [
        {
          "output_type": "stream",
          "text": [
            "Fenêtre #00 : 00 01 02 03 04 \n",
            "Fenêtre #01 : 01 02 03 04 05 \n",
            "Fenêtre #02 : 02 03 04 05 06 \n",
            "Fenêtre #03 : 03 04 05 06 07 \n",
            "Fenêtre #04 : 04 05 06 07 08 \n",
            "Fenêtre #05 : 05 06 07 08 09 \n",
            "Fenêtre #06 : 06 07 08 09 10 \n",
            "Fenêtre #07 : 07 08 09 10 11 \n",
            "Fenêtre #08 : 08 09 10 11 12 \n",
            "Fenêtre #09 : 09 10 11 12 13 \n",
            "Fenêtre #10 : 10 11 12 13 14 \n"
          ],
          "name": "stdout"
        }
      ]
    },
    {
      "cell_type": "markdown",
      "metadata": {
        "id": "3yrum2iFktr_"
      },
      "source": [
        "**3. Conversion des sous-ensembles en vecteurs numpy**"
      ]
    },
    {
      "cell_type": "markdown",
      "metadata": {
        "id": "fbNyk32Ql4js"
      },
      "source": [
        "Commençons par regarder comment obtenir les valeurs contenues dans chaque fenêtre sous forme de vecteur à l'aide de la fonction `batch()` :"
      ]
    },
    {
      "cell_type": "code",
      "metadata": {
        "colab": {
          "base_uri": "https://localhost:8080/"
        },
        "id": "hdwTxb2edhtT",
        "outputId": "3db7880d-7695-4289-a0e6-d03b4355efb3"
      },
      "source": [
        "# Création d'un ensemble de 15 valeurs en 1D\r\n",
        "dataset = tf.data.Dataset.range(15)\r\n",
        "\r\n",
        "# Création de sous-ensemble à l'aide d'une fenêtre glissante\r\n",
        "# Imposons le nombre d'éléments de chaque fenêtre à 5\r\n",
        "dataset = dataset.window(5,shift=1,drop_remainder=True)\r\n",
        "\r\n",
        "for fenetre in dataset:\r\n",
        "    vecteurs = fenetre.batch(5)\r\n",
        "    print(list(vecteurs.as_numpy_iterator()))\r\n"
      ],
      "execution_count": 15,
      "outputs": [
        {
          "output_type": "stream",
          "text": [
            "[array([0, 1, 2, 3, 4])]\n",
            "[array([1, 2, 3, 4, 5])]\n",
            "[array([2, 3, 4, 5, 6])]\n",
            "[array([3, 4, 5, 6, 7])]\n",
            "[array([4, 5, 6, 7, 8])]\n",
            "[array([5, 6, 7, 8, 9])]\n",
            "[array([ 6,  7,  8,  9, 10])]\n",
            "[array([ 7,  8,  9, 10, 11])]\n",
            "[array([ 8,  9, 10, 11, 12])]\n",
            "[array([ 9, 10, 11, 12, 13])]\n",
            "[array([10, 11, 12, 13, 14])]\n"
          ],
          "name": "stdout"
        }
      ]
    },
    {
      "cell_type": "markdown",
      "metadata": {
        "id": "nzQpN-wnmL2E"
      },
      "source": [
        "Convertissons maintenant chaque vecteur au format numpy avec la fonction `.numpy()` ou bien en utilisant la fonction `asarray()` de numpy"
      ]
    },
    {
      "cell_type": "code",
      "metadata": {
        "colab": {
          "base_uri": "https://localhost:8080/"
        },
        "id": "UUsmaE6njSVV",
        "outputId": "715f8b8c-16a4-41d9-b6f2-cae301662037"
      },
      "source": [
        "# Création d'un ensemble de 15 valeurs en 1D\r\n",
        "dataset = tf.data.Dataset.range(15)\r\n",
        "\r\n",
        "# Création de sous-ensemble à l'aide d'une fenêtre glissante\r\n",
        "# Imposons le nombre d'éléments de chaque fenêtre à 5\r\n",
        "dataset = dataset.window(5,shift=1,drop_remainder=True)\r\n",
        "\r\n",
        "for fenetre in dataset:\r\n",
        "    vecteurs = fenetre.batch(5)\r\n",
        "    for vecteur in vecteurs:\r\n",
        "      print(np.asarray(vecteur))\r\n",
        "#      print(vecteur.numpy())"
      ],
      "execution_count": 16,
      "outputs": [
        {
          "output_type": "stream",
          "text": [
            "[0 1 2 3 4]\n",
            "[1 2 3 4 5]\n",
            "[2 3 4 5 6]\n",
            "[3 4 5 6 7]\n",
            "[4 5 6 7 8]\n",
            "[5 6 7 8 9]\n",
            "[ 6  7  8  9 10]\n",
            "[ 7  8  9 10 11]\n",
            "[ 8  9 10 11 12]\n",
            "[ 9 10 11 12 13]\n",
            "[10 11 12 13 14]\n"
          ],
          "name": "stdout"
        }
      ]
    },
    {
      "cell_type": "markdown",
      "metadata": {
        "id": "joUOUDgmmj2T"
      },
      "source": [
        "Un manière plus élégante est d'utiliser les fonctions lambda avec la fonction d'applatissement `flat_map` de tensorflow :"
      ]
    },
    {
      "cell_type": "code",
      "metadata": {
        "colab": {
          "base_uri": "https://localhost:8080/"
        },
        "id": "WtnXqdEKWxsa",
        "outputId": "ec16518e-2e14-4bd1-9638-19f463004e47"
      },
      "source": [
        "# Création d'un ensemble de 15 valeurs en 1D\r\n",
        "dataset = tf.data.Dataset.range(15)\r\n",
        "\r\n",
        "# Création de sous-ensemble à l'aide d'une fenêtre glissante\r\n",
        "# Imposons le nombre d'éléments de chaque fenêtre à 5\r\n",
        "dataset = dataset.window(5,shift=1,drop_remainder=True)\r\n",
        "\r\n",
        "# Applique la fonction lambda sur le dataset et applatit le résultat\r\n",
        "vecteurs = dataset.flat_map(lambda x: x.batch(5))\r\n",
        "\r\n",
        "for vecteur in vecteurs:\r\n",
        "  print(vecteur.numpy())\r\n"
      ],
      "execution_count": 17,
      "outputs": [
        {
          "output_type": "stream",
          "text": [
            "[0 1 2 3 4]\n",
            "[1 2 3 4 5]\n",
            "[2 3 4 5 6]\n",
            "[3 4 5 6 7]\n",
            "[4 5 6 7 8]\n",
            "[5 6 7 8 9]\n",
            "[ 6  7  8  9 10]\n",
            "[ 7  8  9 10 11]\n",
            "[ 8  9 10 11 12]\n",
            "[ 9 10 11 12 13]\n",
            "[10 11 12 13 14]\n"
          ],
          "name": "stdout"
        }
      ]
    },
    {
      "cell_type": "markdown",
      "metadata": {
        "id": "4VCUDIu5e5pq"
      },
      "source": [
        "Nous avons maintenant nos données d'entrées X au format Numpy !"
      ]
    },
    {
      "cell_type": "markdown",
      "metadata": {
        "id": "U2tjarPVe-eZ"
      },
      "source": [
        "# Création des labels Y à partir des données d'entrées X"
      ]
    },
    {
      "cell_type": "markdown",
      "metadata": {
        "id": "2C_5zBlPfEnB"
      },
      "source": [
        "Il faut maintenant construire les labels Y à partir des données d'entrées X. Choisissons par exemple que le label associé à chaque ensemble d'entrée soit la prochaine valeur à venir de  cet ensemble :"
      ]
    },
    {
      "cell_type": "markdown",
      "metadata": {
        "id": "iAkob9LVhPf7"
      },
      "source": [
        "<img src=\"https://github.com/AlexandreBourrieau/ML/blob/main/Carnets%20Jupyter/S%C3%A9ries%20temporelles/images/X_Y.png?raw=true\" width=\"300\">"
      ]
    }
  ]
}