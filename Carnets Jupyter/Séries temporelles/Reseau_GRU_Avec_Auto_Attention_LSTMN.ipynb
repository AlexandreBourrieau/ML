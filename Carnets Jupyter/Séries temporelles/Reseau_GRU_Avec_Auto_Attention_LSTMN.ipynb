{
  "nbformat": 4,
  "nbformat_minor": 0,
  "metadata": {
    "colab": {
      "name": "Reseau_GRU_Avec_Auto_Attention_LSTMN.ipynb",
      "provenance": [],
      "include_colab_link": true
    },
    "kernelspec": {
      "name": "python3",
      "display_name": "Python 3"
    }
  },
  "cells": [
    {
      "cell_type": "markdown",
      "metadata": {
        "id": "view-in-github",
        "colab_type": "text"
      },
      "source": [
        "<a href=\"https://colab.research.google.com/github/AlexandreBourrieau/ML/blob/main/Carnets%20Jupyter/S%C3%A9ries%20temporelles/Reseau_GRU_Avec_Auto_Attention_LSTMN.ipynb\" target=\"_parent\"><img src=\"https://colab.research.google.com/assets/colab-badge.svg\" alt=\"Open In Colab\"/></a>"
      ]
    },
    {
      "cell_type": "markdown",
      "metadata": {
        "id": "tefj_HcCgH6c"
      },
      "source": [
        "# Long Short-Term Memory-Networks"
      ]
    },
    {
      "cell_type": "markdown",
      "metadata": {
        "id": "ubCeIvtF6R4W"
      },
      "source": [
        "Dans ce carnet nous allons mettre en place un modèle à réseau de neurones récurrent de type LSTMN pour réaliser des prédictions sur notre série temporelle.  \n",
        "Ce modèle est tiré du papier de recherche : [Long Short-Term Memory-Networks for Machine Reading](https://arxiv.org/pdf/1601.06733)"
      ]
    },
    {
      "cell_type": "code",
      "metadata": {
        "id": "RRhtHsNn5fc3"
      },
      "source": [
        "import tensorflow as tf\n",
        "from tensorflow import keras\n",
        "\n",
        "import numpy as np\n",
        "import matplotlib.pyplot as plt"
      ],
      "execution_count": 130,
      "outputs": []
    },
    {
      "cell_type": "markdown",
      "metadata": {
        "id": "XFeah3y_6kif"
      },
      "source": [
        "# Création de la série temporelle et du dataset pour l'entrainement"
      ]
    },
    {
      "cell_type": "code",
      "metadata": {
        "id": "vJfSLtub6sdc"
      },
      "source": [
        "# Fonction permettant d'afficher une série temporelle\n",
        "def affiche_serie(temps, serie, format=\"-\", debut=0, fin=None, label=None):\n",
        "    plt.plot(temps[debut:fin], serie[debut:fin], format, label=label)\n",
        "    plt.xlabel(\"Temps\")\n",
        "    plt.ylabel(\"Valeur\")\n",
        "    if label:\n",
        "        plt.legend(fontsize=14)\n",
        "    plt.grid(True)\n",
        "\n",
        "# Fonction permettant de créer une tendance\n",
        "def tendance(temps, pente=0):\n",
        "    return pente * temps\n",
        "\n",
        "# Fonction permettant de créer un motif\n",
        "def motif_periodique(instants):\n",
        "    return (np.where(instants < 0.4,                            # Si les instants sont < 0.4\n",
        "                    np.cos(instants * 2 * np.pi),               # Alors on retourne la fonction cos(2*pi*t)\n",
        "                    1 / np.exp(3 * instants)))                  # Sinon, on retourne la fonction exp(-3t)\n",
        "\n",
        "# Fonction permettant de créer une saisonnalité avec un motif\n",
        "def saisonnalite(temps, periode, amplitude=1, phase=0):\n",
        "    \"\"\"Répétition du motif sur la même période\"\"\"\n",
        "    instants = ((temps + phase) % periode) / periode            # Mapping du temps =[0 1 2 ... 1460] => instants = [0.0 ... 1.0]\n",
        "    return amplitude * motif_periodique(instants)\n",
        "\n",
        "# Fonction permettant de générer du bruit gaussien N(0,1)\n",
        "def bruit_blanc(temps, niveau_bruit=1, graine=None):\n",
        "    rnd = np.random.RandomState(graine)\n",
        "    return rnd.randn(len(temps)) * niveau_bruit\n",
        "\n",
        "# Fonction permettant de créer un dataset à partir des données de la série temporelle\n",
        "# au format X(X1,X2,...Xn) / Y(Y1,Y2,...,Yn)\n",
        "# X sont les données d'entrées du réseau\n",
        "# Y sont les labels\n",
        "\n",
        "def prepare_dataset_XY(serie, taille_fenetre, batch_size, buffer_melange):\n",
        "  dataset = tf.data.Dataset.from_tensor_slices(serie)\n",
        "  dataset = dataset.window(taille_fenetre+1, shift=1, drop_remainder=True)\n",
        "  dataset = dataset.flat_map(lambda x: x.batch(taille_fenetre + 1))\n",
        "  dataset = dataset.map(lambda x: (x[:-1], x[-1:]))\n",
        "  dataset = dataset.batch(batch_size,drop_remainder=True).prefetch(1)\n",
        "  return dataset\n",
        "\n",
        "\n",
        "# Création de la série temporelle\n",
        "temps = np.arange(4 * 365)                # temps = [0 1 2 .... 4*365] = [0 1 2 .... 1460]\n",
        "amplitude = 40                            # Amplitude de la la saisonnalité\n",
        "niveau_bruit = 5                          # Niveau du bruit\n",
        "offset = 10                               # Offset de la série\n",
        "\n",
        "serie = offset + tendance(temps, 0.1) + saisonnalite(temps, periode=365, amplitude=amplitude) + bruit_blanc(temps,niveau_bruit,graine=40)\n",
        "\n",
        "temps_separation = 1000\n",
        "\n",
        "# Extraction des temps et des données d'entrainement\n",
        "temps_entrainement = temps[:temps_separation]\n",
        "x_entrainement = serie[:temps_separation]\n",
        "\n",
        "# Exctraction des temps et des données de valiadation\n",
        "temps_validation = temps[temps_separation:]\n",
        "x_validation = serie[temps_separation:]\n",
        "\n",
        "# Définition des caractéristiques du dataset que l'on souhaite créer\n",
        "taille_fenetre = 20\n",
        "batch_size = 32\n",
        "buffer_melange = 1000\n",
        "\n",
        "# Création du dataset X,Y\n",
        "dataset = prepare_dataset_XY(x_entrainement,taille_fenetre,batch_size,buffer_melange)\n",
        "\n",
        "# Création du dataset X,Y de validation\n",
        "dataset_Val = prepare_dataset_XY(x_validation,taille_fenetre,batch_size,buffer_melange)"
      ],
      "execution_count": 131,
      "outputs": []
    },
    {
      "cell_type": "code",
      "metadata": {
        "id": "-6WVzU_X3JxG"
      },
      "source": [
        "# Calcul de la moyenne et de l'écart type de la série\n",
        "mean = tf.math.reduce_mean(serie)\n",
        "std = tf.math.reduce_std(serie)\n",
        "\n",
        "# Normalise les données\n",
        "Serie_Normalisee = (serie-mean)/std\n",
        "min = tf.math.reduce_min(serie)\n",
        "max = tf.math.reduce_max(serie)"
      ],
      "execution_count": 132,
      "outputs": []
    },
    {
      "cell_type": "code",
      "metadata": {
        "id": "CYtsc0Yk3LhT"
      },
      "source": [
        "# Création des données pour l'entrainement et le test\n",
        "x_entrainement_norm = Serie_Normalisee[:temps_separation]\n",
        "x_validation_norm = Serie_Normalisee[temps_separation:]\n",
        "\n",
        "# Création du dataset X,Y\n",
        "dataset_norm = prepare_dataset_XY(x_entrainement_norm,taille_fenetre,batch_size,buffer_melange)\n",
        "\n",
        "# Création du dataset X,Y de validation\n",
        "dataset_Val_norm = prepare_dataset_XY(x_validation_norm,taille_fenetre,batch_size,buffer_melange)"
      ],
      "execution_count": 133,
      "outputs": []
    },
    {
      "cell_type": "markdown",
      "metadata": {
        "id": "2Yt-EgZ3sgPY"
      },
      "source": [
        "# Création d'une couche LSTM personnelle"
      ]
    },
    {
      "cell_type": "markdown",
      "metadata": {
        "id": "Z-C3-DsSAjtf"
      },
      "source": [
        "Pour commencer, regradons tout d'abord comment créer une couche LSTM en dérivant une classe Layers de Keras.  \n",
        "On utilise ici les ressources de wikipédia : [Algorithme d'une couche LSTM](https://en.wikipedia.org/wiki/Long_short-term_memory)"
      ]
    },
    {
      "cell_type": "markdown",
      "metadata": {
        "id": "zxEXQ14sAAHw"
      },
      "source": [
        "**1. Création de la classe LSTM**"
      ]
    },
    {
      "cell_type": "markdown",
      "metadata": {
        "id": "K_GJYIDRAlhu"
      },
      "source": [
        "Ce qu'il y a de nouveau lors de la création de la couche personnelle est qu'il faut maintenant avoir deux variables internes à la couches à mémoriser (les deux vecteurs internes - cell vector & hidden vector):\n",
        " - Ces vecteurs doivent être initialisés dans la fonction `build()`\n",
        " - Puis ils doivent être sauvegardés pour le batch courant à la fin de la fonction `call()`"
      ]
    },
    {
      "cell_type": "code",
      "metadata": {
        "id": "Hhk0kmPSgqva"
      },
      "source": [
        "# Classe LSTM simple\n",
        "\n",
        "# Importe le Backend de Keras\n",
        "from keras import backend as K\n",
        "\n",
        "# Définit une nouvelle classe personnelle LSTM\n",
        "# https://en.wikipedia.org/wiki/Long_short-term_memory\n",
        "\n",
        "# Dans les dimensions ci-dessous :\n",
        "# dimension de la série : dim_serie = 1\n",
        "# dimension des vecteurs internes LSTM : dim_LSTM = 40\n",
        "\n",
        "class Couche_LSTM(tf.keras.layers.Layer):\n",
        "  # Fonction d'initialisation de la classe d'attention\n",
        "  def __init__(self,dim_LSTM):\n",
        "    self.dim_LSTM = dim_LSTM        # Dimension du vecteur d'attention\n",
        "    super().__init__()              # Appel du __init__() de la classe Layer\n",
        "  \n",
        "  def build(self,input_shape):\n",
        "    dim_serie = input_shape[2]\n",
        "\n",
        "    # Paramètres de la forget gate :\n",
        "    # ##############################\n",
        "    # Matrices de poids Wf(40,1), Uf(40,40) et offset bf(40)\n",
        "    self.Wf = self.add_weight(shape=(self.dim_LSTM,dim_serie),initializer=\"normal\",name=\"Wf\",trainable=True)\n",
        "    self.Uf = self.add_weight(shape=(self.dim_LSTM,self.dim_LSTM),initializer=\"normal\",name=\"Uf\",trainable=True)\n",
        "    self.bf = self.add_weight(shape=(self.dim_LSTM,1),initializer=\"normal\",name=\"bf\",trainable=True)\n",
        "\n",
        "    # Paramètres de l'input gate :\n",
        "    # ##############################\n",
        "    # Matrices de poids Wi(40,1), Ui(40,40) et offset bi(40)\n",
        "    self.Wi = self.add_weight(shape=(self.dim_LSTM,dim_serie),initializer=\"normal\",name=\"Wi\",trainable=True)\n",
        "    self.Ui = self.add_weight(shape=(self.dim_LSTM,self.dim_LSTM),initializer=\"normal\",name=\"Ui\",trainable=True)\n",
        "    self.bi = self.add_weight(shape=(self.dim_LSTM,1),initializer=\"zeros\",name=\"bi\",trainable=True)\n",
        "\n",
        "    # Paramètres de l'output gate :\n",
        "    # ##############################\n",
        "    # Matrices de poids Wo(40,1), Uo(40,40) et offset bo(40)\n",
        "    self.Wo = self.add_weight(shape=(self.dim_LSTM,dim_serie),initializer=\"normal\",name=\"Wo\",trainable=True)\n",
        "    self.Uo = self.add_weight(shape=(self.dim_LSTM,self.dim_LSTM),initializer=\"normal\",name=\"Uo\",trainable=True)\n",
        "    self.bo = self.add_weight(shape=(self.dim_LSTM,1),initializer=\"normal\",name=\"bo\",trainable=True)\n",
        "\n",
        "    # Paramètres du cell vector :\n",
        "    # ##############################\n",
        "    # Matrices de poids Wo(40,1), Uo(40,40) et offset bo(40)\n",
        "    self.Wc = self.add_weight(shape=(self.dim_LSTM,dim_serie),initializer=\"normal\",name=\"Wc\",trainable=True)\n",
        "    self.Uc = self.add_weight(shape=(self.dim_LSTM,self.dim_LSTM),initializer=\"normal\",name=\"Uc\",trainable=True)\n",
        "    self.bc = self.add_weight(shape=(self.dim_LSTM,1),initializer=\"normal\",name=\"bc\",trainable=True)\n",
        "\n",
        "    # Vecteurs Cell states :\n",
        "    # ######################\n",
        "    cell_states = getattr(self, 'cell_states', None)\n",
        "    if cell_states is None:\n",
        "      cell_states = []\n",
        "      cell_states.append(tf.zeros(shape=(self.dim_LSTM,1)))\n",
        "    self.cell_states = cell_states\n",
        "\n",
        "    # Vecteurs Hidden states :\n",
        "    # ########################\n",
        "    hidden_states = getattr(self, 'hidden_states', None)\n",
        "    if hidden_states is None:\n",
        "      hidden_states = []\n",
        "      hidden_states.append(tf.zeros(shape=(self.dim_LSTM,1)))\n",
        "    self.hidden_states = hidden_states\n",
        "\n",
        "    super().build(input_shape)        # Appel de la méthode build()\n",
        "\n",
        "  # Définit la logique de la couche LSTM\n",
        "  # Arguments :   x : Tenseur d'entrée de dimension (None, taille_fenetre,dim_serie)\n",
        "  def call(self,x):\n",
        "    # Charge les vecteurs internes\n",
        "    cell_states = self.cell_states.copy()\n",
        "    hidden_states = self.hidden_states.copy()\n",
        "    ct = cell_states[0]\n",
        "    ht = hidden_states[0]\n",
        "\n",
        "    for t in range(0,x.shape[1]):\n",
        "      xt = x[:,t,:]                             # (32,dim_serie)\n",
        "      xt = tf.expand_dims(xt,axis=-1)           # (32,dim_serie,1)\n",
        "\n",
        "      # Calcul du vecteur d'activation de la forget gate à l'instant t\n",
        "      ft = tf.matmul(self.Wf,xt)                # (40,1)x(32,1,1) = (32,40,1)\n",
        "      ft = ft + tf.matmul(self.Uf,ht)      # (32,40,1)\n",
        "      ft = ft + self.bf                         # (32,40,1)\n",
        "      ft = tf.keras.activations.sigmoid(ft)\n",
        "\n",
        "      # Calcul du vecteur d'activation de l'input gate à l'instant t\n",
        "      it = tf.matmul(self.Wi,xt)                # (32,40,1)\n",
        "      it = it + tf.matmul(self.Ui,ht)      # (32,40,1)\n",
        "      it = it + self.bi                         # (32,40,1)\n",
        "      it = tf.keras.activations.sigmoid(it)\n",
        "\n",
        "      # Calcul du vecteur d'activation de l'output gate à l'instant t\n",
        "      ot = tf.matmul(self.Wo,xt)                # (32,40,1)\n",
        "      ot = ot + tf.matmul(self.Uo,ht)      # (32,40,1)\n",
        "      ot = ot + self.bo                         # (32,40,1)\n",
        "      ot = tf.keras.activations.sigmoid(ot)\n",
        "\n",
        "      # Calcul du cell input activation vector à l'instant t\n",
        "      ct_t = tf.matmul(self.Wc,xt)                 # (32,40,1)\n",
        "      ct_t = ct_t + tf.matmul(self.Uc,ht)          # (32,40,1)\n",
        "      ct_t = ct_t + self.bc                        # (32,40,1)\n",
        "      ct_t = tf.keras.activations.tanh(ct_t)\n",
        "\n",
        "      # Calcul du cell state à l'instant t\n",
        "      ct = tf.multiply(ft,ct)                     # (32,40,1)\n",
        "      ct = ct + tf.multiply(it,ct_t)              # (32,40,1)\n",
        "      ht = tf.multiply(ot,tf.keras.activations.tanh(ct))\n",
        "\n",
        "      # Enregistre les vecteurs internes au temps courant\n",
        "      if (t==0):\n",
        "        hidden_states[t] = ht\n",
        "        cell_states[t] = ct\n",
        "      else:\n",
        "        hidden_states.append(ht)\n",
        "        cell_states.append(ct)\n",
        "\n",
        "    # Enregistre les vecteurs internes du batch courant\n",
        "    for hidden_state_, hidden_state in zip(tf.nest.flatten(self.hidden_states),tf.nest.flatten(hidden_states)):\n",
        "      hidden_states_ = hidden_state\n",
        "\n",
        "    for cell_state_, cell_state in zip(tf.nest.flatten(self.cell_states),tf.nest.flatten(cell_states)):\n",
        "      cell_state_ = cell_state\n",
        "\n",
        "    # Retourne le dernier hidden state\n",
        "    return tf.squeeze(ht,axis=-1)               # return (32,40)\n"
      ],
      "execution_count": null,
      "outputs": []
    },
    {
      "cell_type": "code",
      "metadata": {
        "id": "RTqdYAsF_ici"
      },
      "source": [
        "dim_LSTM = 40\n",
        "\n",
        "# Fonction de la couche lambda d'entrée\n",
        "def Traitement_Entrees(x):\n",
        "  return tf.expand_dims(x,axis=-1)\n",
        "\n",
        "model = tf.keras.models.Sequential()\n",
        "model.add(tf.keras.Input(shape=(taille_fenetre,)))\n",
        "model.add(tf.keras.layers.Lambda(Traitement_Entrees))\n",
        "model.add(Couche_LSTM(dim_LSTM=dim_LSTM))\n",
        "model.add(tf.keras.layers.Dense(1))\n",
        "\n",
        "model.save_weights('model_initial.h5')\n",
        "\n",
        "model.summary()"
      ],
      "execution_count": null,
      "outputs": []
    },
    {
      "cell_type": "markdown",
      "metadata": {
        "id": "MUM0-SSXGLIQ"
      },
      "source": [
        "**2. Optimisation du taux d'apprentissage**"
      ]
    },
    {
      "cell_type": "code",
      "metadata": {
        "id": "jejCBhXVuNQ4"
      },
      "source": [
        "# Définition de la fonction de régulation du taux d'apprentissage\n",
        "def RegulationTauxApprentissage(periode, taux):\n",
        "  return 1e-8*10**(periode/10)\n",
        "\n",
        "# Définition de l'optimiseur à utiliser\n",
        "optimiseur=tf.keras.optimizers.SGD(lr=1e-8, momentum=0.9)\n",
        "\n",
        "# Utilisation de la méthode ModelCheckPoint\n",
        "CheckPoint = tf.keras.callbacks.ModelCheckpoint(\"poids.hdf5\", monitor='loss', verbose=1, save_best_only=True, save_weights_only = True, mode='auto', save_freq='epoch')\n",
        "\n",
        "# Compile le modèle\n",
        "model.compile(loss=tf.keras.losses.Huber(), optimizer=optimiseur, metrics=\"mae\")\n",
        "\n",
        "# Entraine le modèle en utilisant notre fonction personnelle de régulation du taux d'apprentissage\n",
        "historique = model.fit(dataset_norm,epochs=100,verbose=1, callbacks=[tf.keras.callbacks.LearningRateScheduler(RegulationTauxApprentissage), CheckPoint])\n"
      ],
      "execution_count": null,
      "outputs": []
    },
    {
      "cell_type": "code",
      "metadata": {
        "id": "q1_WMNlzu2B4"
      },
      "source": [
        "# Construit un vecteur avec les valeurs du taux d'apprentissage à chaque période \n",
        "taux = 1e-8*(10**(np.arange(100)/10))\n",
        "\n",
        "# Affiche l'erreur en fonction du taux d'apprentissage\n",
        "plt.figure(figsize=(10, 6))\n",
        "plt.semilogx(taux,historique.history[\"loss\"])\n",
        "plt.axis([ taux[0], taux[99], 0, 1])\n",
        "plt.title(\"Evolution de l'erreur en fonction du taux d'apprentissage\")"
      ],
      "execution_count": null,
      "outputs": []
    },
    {
      "cell_type": "markdown",
      "metadata": {
        "id": "6XdXh_b0GP_F"
      },
      "source": [
        "**3. Entrainement du modèle**"
      ]
    },
    {
      "cell_type": "code",
      "metadata": {
        "id": "80pEtJ10wIfY"
      },
      "source": [
        "# Charge les meilleurs poids\n",
        "model.load_weights(\"poids.hdf5\")"
      ],
      "execution_count": null,
      "outputs": []
    },
    {
      "cell_type": "code",
      "metadata": {
        "id": "16ujUiELwR33"
      },
      "source": [
        "from timeit import default_timer as timer\n",
        "\n",
        "class TimingCallback(keras.callbacks.Callback):\n",
        "    def __init__(self, logs={}):\n",
        "        self.logs=[]\n",
        "    def on_epoch_begin(self, epoch, logs={}):\n",
        "        self.starttime = timer()\n",
        "    def on_epoch_end(self, epoch, logs={}):\n",
        "        self.logs.append(timer()-self.starttime)\n",
        "\n",
        "\n",
        "cb = TimingCallback()\n",
        "\n",
        "# Définition de l'optimiseur à utiliser\n",
        "optimiseur=tf.keras.optimizers.SGD(lr=1e-2,momentum=0.9)\n",
        "\n",
        "\n",
        "# Utilisation de la méthode ModelCheckPoint\n",
        "CheckPoint = tf.keras.callbacks.ModelCheckpoint(\"poids_train.hdf5\", monitor='loss', verbose=1, save_best_only=True, save_weights_only = True, mode='auto', save_freq='epoch')\n",
        "\n",
        "# Compile le modèle\n",
        "model.compile(loss=tf.keras.losses.Huber(), optimizer=optimiseur,metrics=\"mae\")\n",
        "\n",
        "# Entraine le modèle\n",
        "historique = model.fit(dataset_norm,validation_data=dataset_Val_norm, epochs=500,verbose=1, callbacks=[CheckPoint,cb])\n",
        "\n",
        "print(cb.logs)\n",
        "print(sum(cb.logs))"
      ],
      "execution_count": null,
      "outputs": []
    },
    {
      "cell_type": "code",
      "metadata": {
        "id": "COP9u4yitvmw"
      },
      "source": [
        "erreur_entrainement = historique.history[\"loss\"]\n",
        "erreur_validation = historique.history[\"val_loss\"]\n",
        "\n",
        "# Affiche l'erreur en fonction de la période\n",
        "plt.figure(figsize=(10, 6))\n",
        "plt.plot(np.arange(0,len(erreur_entrainement)),erreur_entrainement, label=\"Erreurs sur les entrainements\")\n",
        "plt.plot(np.arange(0,len(erreur_entrainement)),erreur_validation, label =\"Erreurs sur les validations\")\n",
        "plt.legend()\n",
        "\n",
        "plt.title(\"Evolution de l'erreur en fonction de la période\")"
      ],
      "execution_count": null,
      "outputs": []
    },
    {
      "cell_type": "code",
      "metadata": {
        "id": "_o2zh6N9t1b7"
      },
      "source": [
        "erreur_entrainement = historique.history[\"loss\"]\n",
        "erreur_validation = historique.history[\"val_loss\"]\n",
        "\n",
        "# Affiche l'erreur en fonction de la période\n",
        "plt.figure(figsize=(10, 6))\n",
        "plt.plot(np.arange(0,len(erreur_entrainement[400:500])),erreur_entrainement[400:500], label=\"Erreurs sur les entrainements\")\n",
        "plt.plot(np.arange(0,len(erreur_entrainement[400:500])),erreur_validation[400:500], label =\"Erreurs sur les validations\")\n",
        "plt.legend()\n",
        "\n",
        "plt.title(\"Evolution de l'erreur en fonction de la période\")"
      ],
      "execution_count": null,
      "outputs": []
    },
    {
      "cell_type": "markdown",
      "metadata": {
        "id": "T6Gq2CkeGR_1"
      },
      "source": [
        "**4. Prédictions**"
      ]
    },
    {
      "cell_type": "code",
      "metadata": {
        "id": "HRxXtHRXGXfF"
      },
      "source": [
        "taille_fenetre = 20\n",
        "\n",
        "# Création d'une liste vide pour recevoir les prédictions\n",
        "predictions = []\n",
        "\n",
        "# Calcul des prédiction pour chaque groupe de 20 valeurs consécutives de la série\n",
        "# dans l'intervalle de validation\n",
        "for t in temps[temps_separation:-taille_fenetre]:\n",
        "    X = np.reshape(Serie_Normalisee[t:t+taille_fenetre],(1,taille_fenetre))\n",
        "    predictions.append(model.predict(X))"
      ],
      "execution_count": null,
      "outputs": []
    },
    {
      "cell_type": "code",
      "metadata": {
        "id": "Wd2nfDcgG8EO"
      },
      "source": [
        "# Affiche la série et les prédictions\n",
        "plt.figure(figsize=(10, 6))\n",
        "affiche_serie(temps,serie,label=\"Série temporelle\")\n",
        "affiche_serie(temps[temps_separation+taille_fenetre:],np.asarray(predictions*std+mean)[:,0,0],label=\"Prédictions\")\n",
        "plt.title('Prédictions avec le modèle GRU + Attention avec vecteur contexte')\n",
        "plt.show()\n",
        "\n",
        "# Zoom sur l'intervalle de validation\n",
        "plt.figure(figsize=(10, 6))\n",
        "affiche_serie(temps[temps_separation:],serie[temps_separation:],label=\"Série temporelle\")\n",
        "affiche_serie(temps[temps_separation+taille_fenetre:],np.asarray(predictions*std+mean)[:,0,0],label=\"Prédictions\")\n",
        "plt.title(\"Prédictions avec le modèle GRU + Attention avec vecteur contexte (zoom sur l'intervalle de validation)\")\n",
        "plt.show()"
      ],
      "execution_count": null,
      "outputs": []
    },
    {
      "cell_type": "code",
      "metadata": {
        "id": "PDS7BJvZG_e1"
      },
      "source": [
        "# Calcule de l'erreur quadratique moyenne et de l'erreur absolue moyenne \n",
        "\n",
        "mae = tf.keras.metrics.mean_absolute_error(serie[temps_separation+taille_fenetre:],np.asarray(predictions*std+mean)[:,0,0]).numpy()\n",
        "mse = tf.keras.metrics.mean_squared_error(serie[temps_separation+taille_fenetre:],np.asarray(predictions*std+mean)[:,0,0]).numpy()\n",
        "\n",
        "print(mae)\n",
        "print(mse)"
      ],
      "execution_count": null,
      "outputs": []
    },
    {
      "cell_type": "markdown",
      "metadata": {
        "id": "L2cMi-70AJ5-"
      },
      "source": [
        "# Création du modèle LSTMN"
      ]
    },
    {
      "cell_type": "markdown",
      "metadata": {
        "id": "bNuSRvEoqEhq"
      },
      "source": [
        "**1. Création de la couche LSTMN**"
      ]
    },
    {
      "cell_type": "code",
      "metadata": {
        "id": "jm4L5H69ewr4"
      },
      "source": [
        "toto = tf.Variable([1,1,1,1,1],dtype=tf.float32)\n",
        "\n",
        "at = []\n",
        "at.append(toto)\n",
        "at.append(toto)\n"
      ],
      "execution_count": null,
      "outputs": []
    },
    {
      "cell_type": "code",
      "metadata": {
        "id": "NeDn641re1fH",
        "colab": {
          "base_uri": "https://localhost:8080/"
        },
        "outputId": "6e29b33e-f376-4c31-b83e-276714a2dac7"
      },
      "source": [
        "at"
      ],
      "execution_count": null,
      "outputs": [
        {
          "output_type": "execute_result",
          "data": {
            "text/plain": [
              "[<tf.Variable 'Variable:0' shape=(5,) dtype=float32, numpy=array([1., 1., 1., 1., 1.], dtype=float32)>,\n",
              " <tf.Variable 'Variable:0' shape=(5,) dtype=float32, numpy=array([1., 1., 1., 1., 1.], dtype=float32)>]"
            ]
          },
          "metadata": {
            "tags": []
          },
          "execution_count": 63
        }
      ]
    },
    {
      "cell_type": "code",
      "metadata": {
        "id": "N-LL0N5_qCQe"
      },
      "source": [
        "# Classe LSTMN\n",
        "\n",
        "# Importe le Backend de Keras\n",
        "from keras import backend as K\n",
        "\n",
        "# Définit une nouvelle classe personnelle LSTMN\n",
        "# https://arxiv.org/pdf/1601.06733.pdf\n",
        "\n",
        "\n",
        "# Dans les dimensions ci-dessous :\n",
        "# dimension de la série : dim_serie = 1\n",
        "# dimension des vecteurs internes LSTM : dim_LSTM = 40\n",
        "# batch_size = 32\n",
        "\n",
        "class Couche_LSTMN(tf.keras.layers.Layer):\n",
        "  # Fonction d'initialisation de la classe d'attention\n",
        "  def __init__(self,dim_LSTM):\n",
        "    self.dim_LSTM = dim_LSTM        # Dimension du vecteur d'attention\n",
        "    super().__init__()              # Appel du __init__() de la classe Layer\n",
        "  \n",
        "  def build(self,input_shape):\n",
        "    dim_serie = input_shape[2]\n",
        "    nbr_instants = input_shape[1]\n",
        "\n",
        "    # Paramètres de la forget gate :\n",
        "    # ##############################\n",
        "    # Matrices de poids Wf(40,1), Uf(40,40) et offset bf(40)\n",
        "    self.Wf = self.add_weight(shape=(self.dim_LSTM,dim_serie),initializer=\"normal\",name=\"Wf\",trainable=True)\n",
        "    self.Uf = self.add_weight(shape=(self.dim_LSTM,self.dim_LSTM),initializer=\"normal\",name=\"Uf\",trainable=True)\n",
        "    self.bf = self.add_weight(shape=(self.dim_LSTM,1),initializer=\"normal\",name=\"bf\",trainable=True)\n",
        "\n",
        "    # Paramètres de l'input gate :\n",
        "    # ##############################\n",
        "    # Matrices de poids Wi(40,1), Ui(40,40) et offset bi(40)\n",
        "    self.Wi = self.add_weight(shape=(self.dim_LSTM,dim_serie),initializer=\"normal\",name=\"Wi\",trainable=True)\n",
        "    self.Ui = self.add_weight(shape=(self.dim_LSTM,self.dim_LSTM),initializer=\"normal\",name=\"Ui\",trainable=True)\n",
        "    self.bi = self.add_weight(shape=(self.dim_LSTM,1),initializer=\"zeros\",name=\"bi\",trainable=True)\n",
        "\n",
        "    # Paramètres de l'output gate :\n",
        "    # ##############################\n",
        "    # Matrices de poids Wo(40,1), Uo(40,40) et offset bo(40)\n",
        "    self.Wo = self.add_weight(shape=(self.dim_LSTM,dim_serie),initializer=\"normal\",name=\"Wo\",trainable=True)\n",
        "    self.Uo = self.add_weight(shape=(self.dim_LSTM,self.dim_LSTM),initializer=\"normal\",name=\"Uo\",trainable=True)\n",
        "    self.bo = self.add_weight(shape=(self.dim_LSTM,1),initializer=\"normal\",name=\"bo\",trainable=True)\n",
        "\n",
        "    # Paramètres du cell vector :\n",
        "    # ##############################\n",
        "    # Matrices de poids Wc(40,1), Uc(40,40) et offset bc(40)\n",
        "    self.Wc = self.add_weight(shape=(self.dim_LSTM,dim_serie),initializer=\"normal\",name=\"Wc\",trainable=True)\n",
        "    self.Uc = self.add_weight(shape=(self.dim_LSTM,self.dim_LSTM),initializer=\"normal\",name=\"Uc\",trainable=True)\n",
        "    self.bc = self.add_weight(shape=(self.dim_LSTM,1),initializer=\"normal\",name=\"bc\",trainable=True)\n",
        "\n",
        "    # Paramètres de l'attention :\n",
        "    # ###########################\n",
        "    # Matrices de poids Wh(40,40); Wx(40,1) et Wh_t(40,40)\n",
        "    self.Wh = self.add_weight(shape=(self.dim_LSTM,self.dim_LSTM),initializer=\"normal\",name=\"Wh\",trainable=True)\n",
        "    self.Wx = self.add_weight(shape=(self.dim_LSTM,dim_serie),initializer=\"normal\",name=\"Wx\",trainable=True)\n",
        "    self.Wh_t = self.add_weight(shape=(self.dim_LSTM,self.dim_LSTM),initializer=\"normal\",name=\"Wh_t\",trainable=True)\n",
        "\n",
        "\n",
        "    # Vecteur contexte :  (1,40)\n",
        "    ############################\n",
        "    # Vecteur v(1,40)\n",
        "    self.v = self.add_weight(shape=(dim_serie,self.dim_LSTM),initializer=\"normal\",name=\"v\",trainable=True)\n",
        "\n",
        "    # Memory tape : ct    (40,1)\n",
        "    # ##########################\n",
        "    memory_tape = getattr(self, 'memory_tape', None)\n",
        "    if memory_tape is None:\n",
        "      memory_tape = []\n",
        "      memory_tape.append(tf.zeros(shape=(self.dim_LSTM,1)))         # ct[0] = 0\n",
        "    self.memory_tape = memory_tape\n",
        "\n",
        "    # Hidden tape : ht    (40,1)\n",
        "    # ##########################\n",
        "    hidden_tape = getattr(self, 'hidden_tape', None)\n",
        "    if hidden_tape is None:\n",
        "      hidden_tape = []\n",
        "      hidden_tape.append(tf.zeros(shape=(self.dim_LSTM,1)))         # ht[0]=0\n",
        "    self.hidden_tape = hidden_tape\n",
        "\n",
        "\n",
        "    super().build(input_shape)        # Appel de la méthode build()\n",
        "\n",
        "  # Définit la logique de la couche LSTM\n",
        "  # Arguments :   x : Tenseur d'entrée de dimension (None, taille_fenetre,dim_serie)\n",
        "  def call(self,x):\n",
        "\n",
        "    # Charge les vecteurs internes et les vecteurs d'attention\n",
        "    memory_tape = self.memory_tape.copy()\n",
        "    hidden_tape = self.hidden_tape.copy()\n",
        "    ct = memory_tape[0]\n",
        "    ht = hidden_tape[0]\n",
        "\n",
        "    for t in range(0,x.shape[1]):\n",
        "      xt = x[:,t,:]                             # (32,1)\n",
        "      xt = tf.expand_dims(xt,axis=-1)           # (32,1,1)\n",
        "\n",
        "      if t == 0:\n",
        "        ht_t = tf.zeros(shape=(self.dim_LSTM,1))      # (40,1)\n",
        "        ct_t = tf.zeros(shape=(self.dim_LSTM,1))      # (40,1)\n",
        "\n",
        "        # Calcul du vecteur d'activation de la forget gate à l'instant t\n",
        "        ft = tf.matmul(self.Wf,xt)                    # (40,1)x(32,1,1) = (32,40,1)\n",
        "        ft = ft + tf.matmul(self.Uf,ht_t)             # (40,40)x(32,40,1) = (32,40,1)\n",
        "        ft = ft + self.bf                             # (32,40,1) + (40,1) = (32,40,1)\n",
        "        ft = tf.keras.activations.sigmoid(ft)\n",
        "\n",
        "        # Calcul du vecteur d'activation de l'input gate à l'instant t\n",
        "        it = tf.matmul(self.Wi,xt)                    # (40,1)x(32,1,1) = (32,40,1)\n",
        "        it = it + tf.matmul(self.Ui,ht_t)             # (40,40)x(32,40,1) = (32,40,1)\n",
        "        it = it + self.bi                             # (32,40,1) + (40,1) = (32,40,1)\n",
        "        it = tf.keras.activations.sigmoid(it)\n",
        "\n",
        "        # Calcul du vecteur d'activation de l'output gate à l'instant t\n",
        "        ot = tf.matmul(self.Wo,xt)                    # (40,1)x(32,1,1) = (32,40,1)\n",
        "        ot = ot + tf.matmul(self.Uo,ht_t)             # (40,40)x(32,40,1) = (32,40,1)\n",
        "        ot = ot + self.bo                             # (32,40,1) + (40,1) = (32,40,1)\n",
        "        ot = tf.keras.activations.sigmoid(ot)\n",
        "\n",
        "        # Calcul du cell input activation vector à l'instant t\n",
        "        ct_h = tf.matmul(self.Wc,xt)                 # (40,1)x(32,1,1) = (32,40,1)\n",
        "        ct_h = ct_h + tf.matmul(self.Uc,ht_t)        # (40,40)x(32,40,1) = (32,40,1)\n",
        "        ct_h = ct_h + self.bc                        # (32,40,1) + (40,1) = (32,40,1)\n",
        "        ct_h = tf.keras.activations.tanh(ct_h)\n",
        "\n",
        "        # Calcul du cell state à l'instant t\n",
        "        ct = tf.multiply(ft,ct_t)                    # (32,40,1)\n",
        "        ct = ct + tf.multiply(it,ct_h)               # (32,40,1)\n",
        "        ht = tf.multiply(ot,tf.keras.activations.tanh(ct))\n",
        "\n",
        "        # Enregistre les vecteurs internes au temps courant\n",
        "        hidden_tape[t] = ht\n",
        "        memory_tape[t] = ct\n",
        "      else:\n",
        "        ai = tf.matmul(self.v,tf.keras.activations.tanh(tf.matmul(self.Wh,hidden_tape[0])))\n",
        "        for i in range(1,t):\n",
        "          ai_ = tf.matmul(self.v,tf.keras.activations.tanh(tf.matmul(self.Wh,hidden_tape[i])))\n",
        "          ai = tf.concat([ai,ai_],axis=1)\n",
        "        si = tf.keras.activations.softmax(ai,axis=2)\n",
        "\n",
        "        \n",
        "\n",
        "    return 1\n",
        "\n"
      ],
      "execution_count": 177,
      "outputs": []
    },
    {
      "cell_type": "code",
      "metadata": {
        "id": "SXRArnXaYUzP",
        "colab": {
          "base_uri": "https://localhost:8080/"
        },
        "outputId": "6ff91863-64c7-4822-d4aa-c491c479a17f"
      },
      "source": [
        "# dim_serie = 1\n",
        "# taille fenetre = 5\n",
        "# batch = 2\n",
        "x = tf.Variable([[[1],[1],[1],[1],[1]],[[1],[1],[1],[1],[1]]],dtype=tf.float32)\n",
        "x.shape\n"
      ],
      "execution_count": 139,
      "outputs": [
        {
          "output_type": "execute_result",
          "data": {
            "text/plain": [
              "TensorShape([2, 5, 1])"
            ]
          },
          "metadata": {
            "tags": []
          },
          "execution_count": 139
        }
      ]
    },
    {
      "cell_type": "code",
      "metadata": {
        "id": "EPxO3FLEZWB_",
        "colab": {
          "base_uri": "https://localhost:8080/",
          "height": 520
        },
        "outputId": "0859903e-7bba-4130-da6e-14da3a7acfa1"
      },
      "source": [
        "Couche_LSTMN(40)(x)"
      ],
      "execution_count": 178,
      "outputs": [
        {
          "output_type": "stream",
          "text": [
            "tf.Tensor(\n",
            "[[[-0.00085214]]\n",
            "\n",
            " [[-0.00085214]]], shape=(2, 1, 1), dtype=float32)\n",
            "tf.Tensor(\n",
            "[[[1.]]\n",
            "\n",
            " [[1.]]], shape=(2, 1, 1), dtype=float32)\n",
            "tf.Tensor(\n",
            "[[[-0.00085214]]\n",
            "\n",
            " [[-0.00085214]]], shape=(2, 1, 1), dtype=float32)\n"
          ],
          "name": "stdout"
        },
        {
          "output_type": "error",
          "ename": "IndexError",
          "evalue": "ignored",
          "traceback": [
            "\u001b[0;31m---------------------------------------------------------------------------\u001b[0m",
            "\u001b[0;31mIndexError\u001b[0m                                Traceback (most recent call last)",
            "\u001b[0;32m<ipython-input-178-1dc8f2d9bc93>\u001b[0m in \u001b[0;36m<module>\u001b[0;34m()\u001b[0m\n\u001b[0;32m----> 1\u001b[0;31m \u001b[0mCouche_LSTMN\u001b[0m\u001b[0;34m(\u001b[0m\u001b[0;36m40\u001b[0m\u001b[0;34m)\u001b[0m\u001b[0;34m(\u001b[0m\u001b[0mx\u001b[0m\u001b[0;34m)\u001b[0m\u001b[0;34m\u001b[0m\u001b[0;34m\u001b[0m\u001b[0m\n\u001b[0m",
            "\u001b[0;32m/usr/local/lib/python3.7/dist-packages/tensorflow/python/keras/engine/base_layer.py\u001b[0m in \u001b[0;36m__call__\u001b[0;34m(self, *args, **kwargs)\u001b[0m\n\u001b[1;32m   1010\u001b[0m         with autocast_variable.enable_auto_cast_variables(\n\u001b[1;32m   1011\u001b[0m             self._compute_dtype_object):\n\u001b[0;32m-> 1012\u001b[0;31m           \u001b[0moutputs\u001b[0m \u001b[0;34m=\u001b[0m \u001b[0mcall_fn\u001b[0m\u001b[0;34m(\u001b[0m\u001b[0minputs\u001b[0m\u001b[0;34m,\u001b[0m \u001b[0;34m*\u001b[0m\u001b[0margs\u001b[0m\u001b[0;34m,\u001b[0m \u001b[0;34m**\u001b[0m\u001b[0mkwargs\u001b[0m\u001b[0;34m)\u001b[0m\u001b[0;34m\u001b[0m\u001b[0;34m\u001b[0m\u001b[0m\n\u001b[0m\u001b[1;32m   1013\u001b[0m \u001b[0;34m\u001b[0m\u001b[0m\n\u001b[1;32m   1014\u001b[0m         \u001b[0;32mif\u001b[0m \u001b[0mself\u001b[0m\u001b[0;34m.\u001b[0m\u001b[0m_activity_regularizer\u001b[0m\u001b[0;34m:\u001b[0m\u001b[0;34m\u001b[0m\u001b[0;34m\u001b[0m\u001b[0m\n",
            "\u001b[0;32m<ipython-input-177-fb2743c8f2b4>\u001b[0m in \u001b[0;36mcall\u001b[0;34m(self, x)\u001b[0m\n\u001b[1;32m    137\u001b[0m         \u001b[0mprint\u001b[0m\u001b[0;34m(\u001b[0m\u001b[0mai\u001b[0m\u001b[0;34m)\u001b[0m\u001b[0;34m\u001b[0m\u001b[0;34m\u001b[0m\u001b[0m\n\u001b[1;32m    138\u001b[0m         \u001b[0;32mfor\u001b[0m \u001b[0mi\u001b[0m \u001b[0;32min\u001b[0m \u001b[0mrange\u001b[0m\u001b[0;34m(\u001b[0m\u001b[0;36m1\u001b[0m\u001b[0;34m,\u001b[0m\u001b[0mt\u001b[0m\u001b[0;34m)\u001b[0m\u001b[0;34m:\u001b[0m\u001b[0;34m\u001b[0m\u001b[0;34m\u001b[0m\u001b[0m\n\u001b[0;32m--> 139\u001b[0;31m           \u001b[0mai_\u001b[0m \u001b[0;34m=\u001b[0m \u001b[0mtf\u001b[0m\u001b[0;34m.\u001b[0m\u001b[0mmatmul\u001b[0m\u001b[0;34m(\u001b[0m\u001b[0mself\u001b[0m\u001b[0;34m.\u001b[0m\u001b[0mv\u001b[0m\u001b[0;34m,\u001b[0m\u001b[0mtf\u001b[0m\u001b[0;34m.\u001b[0m\u001b[0mkeras\u001b[0m\u001b[0;34m.\u001b[0m\u001b[0mactivations\u001b[0m\u001b[0;34m.\u001b[0m\u001b[0mtanh\u001b[0m\u001b[0;34m(\u001b[0m\u001b[0mtf\u001b[0m\u001b[0;34m.\u001b[0m\u001b[0mmatmul\u001b[0m\u001b[0;34m(\u001b[0m\u001b[0mself\u001b[0m\u001b[0;34m.\u001b[0m\u001b[0mWh\u001b[0m\u001b[0;34m,\u001b[0m\u001b[0mhidden_tape\u001b[0m\u001b[0;34m[\u001b[0m\u001b[0mi\u001b[0m\u001b[0;34m]\u001b[0m\u001b[0;34m)\u001b[0m\u001b[0;34m)\u001b[0m\u001b[0;34m)\u001b[0m\u001b[0;34m\u001b[0m\u001b[0;34m\u001b[0m\u001b[0m\n\u001b[0m\u001b[1;32m    140\u001b[0m           \u001b[0mai\u001b[0m \u001b[0;34m=\u001b[0m \u001b[0mtf\u001b[0m\u001b[0;34m.\u001b[0m\u001b[0mconcat\u001b[0m\u001b[0;34m(\u001b[0m\u001b[0;34m[\u001b[0m\u001b[0mai\u001b[0m\u001b[0;34m,\u001b[0m\u001b[0mai_\u001b[0m\u001b[0;34m]\u001b[0m\u001b[0;34m,\u001b[0m\u001b[0maxis\u001b[0m\u001b[0;34m=\u001b[0m\u001b[0;36m1\u001b[0m\u001b[0;34m)\u001b[0m\u001b[0;34m\u001b[0m\u001b[0;34m\u001b[0m\u001b[0m\n\u001b[1;32m    141\u001b[0m           \u001b[0mprint\u001b[0m\u001b[0;34m(\u001b[0m\u001b[0mai\u001b[0m\u001b[0;34m)\u001b[0m\u001b[0;34m\u001b[0m\u001b[0;34m\u001b[0m\u001b[0m\n",
            "\u001b[0;32m/usr/local/lib/python3.7/dist-packages/tensorflow/python/training/tracking/data_structures.py\u001b[0m in \u001b[0;36m__getitem__\u001b[0;34m(self, key)\u001b[0m\n\u001b[1;32m    378\u001b[0m \u001b[0;34m\u001b[0m\u001b[0m\n\u001b[1;32m    379\u001b[0m   \u001b[0;32mdef\u001b[0m \u001b[0m__getitem__\u001b[0m\u001b[0;34m(\u001b[0m\u001b[0mself\u001b[0m\u001b[0;34m,\u001b[0m \u001b[0mkey\u001b[0m\u001b[0;34m)\u001b[0m\u001b[0;34m:\u001b[0m\u001b[0;34m\u001b[0m\u001b[0;34m\u001b[0m\u001b[0m\n\u001b[0;32m--> 380\u001b[0;31m     \u001b[0;32mreturn\u001b[0m \u001b[0mself\u001b[0m\u001b[0;34m.\u001b[0m\u001b[0m_storage\u001b[0m\u001b[0;34m[\u001b[0m\u001b[0mkey\u001b[0m\u001b[0;34m]\u001b[0m\u001b[0;34m\u001b[0m\u001b[0;34m\u001b[0m\u001b[0m\n\u001b[0m\u001b[1;32m    381\u001b[0m \u001b[0;34m\u001b[0m\u001b[0m\n\u001b[1;32m    382\u001b[0m   \u001b[0;32mdef\u001b[0m \u001b[0m__getslice__\u001b[0m\u001b[0;34m(\u001b[0m\u001b[0mself\u001b[0m\u001b[0;34m,\u001b[0m \u001b[0mi\u001b[0m\u001b[0;34m,\u001b[0m \u001b[0mj\u001b[0m\u001b[0;34m)\u001b[0m\u001b[0;34m:\u001b[0m\u001b[0;34m\u001b[0m\u001b[0;34m\u001b[0m\u001b[0m\n",
            "\u001b[0;31mIndexError\u001b[0m: list index out of range"
          ]
        }
      ]
    }
  ]
}