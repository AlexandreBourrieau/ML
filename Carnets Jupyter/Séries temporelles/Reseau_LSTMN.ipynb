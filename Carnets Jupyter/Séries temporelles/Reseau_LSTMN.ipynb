{
  "nbformat": 4,
  "nbformat_minor": 0,
  "metadata": {
    "colab": {
      "name": "Reseau_LSTMN.ipynb",
      "provenance": [],
      "include_colab_link": true
    },
    "kernelspec": {
      "name": "python3",
      "display_name": "Python 3"
    }
  },
  "cells": [
    {
      "cell_type": "markdown",
      "metadata": {
        "id": "view-in-github",
        "colab_type": "text"
      },
      "source": [
        "<a href=\"https://colab.research.google.com/github/AlexandreBourrieau/ML/blob/main/Carnets%20Jupyter/S%C3%A9ries%20temporelles/Reseau_LSTMN.ipynb\" target=\"_parent\"><img src=\"https://colab.research.google.com/assets/colab-badge.svg\" alt=\"Open In Colab\"/></a>"
      ]
    },
    {
      "cell_type": "markdown",
      "metadata": {
        "id": "tefj_HcCgH6c"
      },
      "source": [
        "# Long Short-Term Memory-Networks"
      ]
    },
    {
      "cell_type": "markdown",
      "metadata": {
        "id": "ubCeIvtF6R4W"
      },
      "source": [
        "Dans ce carnet nous allons mettre en place un modèle à réseau de neurones récurrent de type LSTMN pour réaliser des prédictions sur notre série temporelle.  \n",
        "Ce modèle est tiré du papier de recherche : [Long Short-Term Memory-Networks for Machine Reading](https://arxiv.org/pdf/1601.06733)"
      ]
    },
    {
      "cell_type": "code",
      "metadata": {
        "id": "RRhtHsNn5fc3"
      },
      "source": [
        "import tensorflow as tf\n",
        "from tensorflow import keras\n",
        "\n",
        "import numpy as np\n",
        "import matplotlib.pyplot as plt"
      ],
      "execution_count": 1,
      "outputs": []
    },
    {
      "cell_type": "markdown",
      "metadata": {
        "id": "XFeah3y_6kif"
      },
      "source": [
        "# Création de la série temporelle et du dataset pour l'entrainement"
      ]
    },
    {
      "cell_type": "code",
      "metadata": {
        "id": "vJfSLtub6sdc"
      },
      "source": [
        "# Fonction permettant d'afficher une série temporelle\n",
        "def affiche_serie(temps, serie, format=\"-\", debut=0, fin=None, label=None):\n",
        "    plt.plot(temps[debut:fin], serie[debut:fin], format, label=label)\n",
        "    plt.xlabel(\"Temps\")\n",
        "    plt.ylabel(\"Valeur\")\n",
        "    if label:\n",
        "        plt.legend(fontsize=14)\n",
        "    plt.grid(True)\n",
        "\n",
        "# Fonction permettant de créer une tendance\n",
        "def tendance(temps, pente=0):\n",
        "    return pente * temps\n",
        "\n",
        "# Fonction permettant de créer un motif\n",
        "def motif_periodique(instants):\n",
        "    return (np.where(instants < 0.4,                            # Si les instants sont < 0.4\n",
        "                    np.cos(instants * 2 * np.pi),               # Alors on retourne la fonction cos(2*pi*t)\n",
        "                    1 / np.exp(3 * instants)))                  # Sinon, on retourne la fonction exp(-3t)\n",
        "\n",
        "# Fonction permettant de créer une saisonnalité avec un motif\n",
        "def saisonnalite(temps, periode, amplitude=1, phase=0):\n",
        "    \"\"\"Répétition du motif sur la même période\"\"\"\n",
        "    instants = ((temps + phase) % periode) / periode            # Mapping du temps =[0 1 2 ... 1460] => instants = [0.0 ... 1.0]\n",
        "    return amplitude * motif_periodique(instants)\n",
        "\n",
        "# Fonction permettant de générer du bruit gaussien N(0,1)\n",
        "def bruit_blanc(temps, niveau_bruit=1, graine=None):\n",
        "    rnd = np.random.RandomState(graine)\n",
        "    return rnd.randn(len(temps)) * niveau_bruit\n",
        "\n",
        "# Fonction permettant de créer un dataset à partir des données de la série temporelle\n",
        "# au format X(X1,X2,...Xn) / Y(Y1,Y2,...,Yn)\n",
        "# X sont les données d'entrées du réseau\n",
        "# Y sont les labels\n",
        "\n",
        "def prepare_dataset_XY(serie, taille_fenetre, batch_size, buffer_melange):\n",
        "  dataset = tf.data.Dataset.from_tensor_slices(serie)\n",
        "  dataset = dataset.window(taille_fenetre+1, shift=1, drop_remainder=True)\n",
        "  dataset = dataset.flat_map(lambda x: x.batch(taille_fenetre + 1))\n",
        "  dataset = dataset.map(lambda x: (x[:-1], x[-1:]))\n",
        "  dataset = dataset.batch(batch_size,drop_remainder=True).prefetch(1)\n",
        "  return dataset\n",
        "\n",
        "\n",
        "# Création de la série temporelle\n",
        "temps = np.arange(4 * 365)                # temps = [0 1 2 .... 4*365] = [0 1 2 .... 1460]\n",
        "amplitude = 40                            # Amplitude de la la saisonnalité\n",
        "niveau_bruit = 5                          # Niveau du bruit\n",
        "offset = 10                               # Offset de la série\n",
        "\n",
        "serie = offset + tendance(temps, 0.1) + saisonnalite(temps, periode=365, amplitude=amplitude) + bruit_blanc(temps,niveau_bruit,graine=40)\n",
        "\n",
        "temps_separation = 1000\n",
        "\n",
        "# Extraction des temps et des données d'entrainement\n",
        "temps_entrainement = temps[:temps_separation]\n",
        "x_entrainement = serie[:temps_separation]\n",
        "\n",
        "# Exctraction des temps et des données de valiadation\n",
        "temps_validation = temps[temps_separation:]\n",
        "x_validation = serie[temps_separation:]\n",
        "\n",
        "# Définition des caractéristiques du dataset que l'on souhaite créer\n",
        "taille_fenetre = 20\n",
        "batch_size = 32\n",
        "buffer_melange = 1000\n",
        "\n",
        "# Création du dataset X,Y\n",
        "dataset = prepare_dataset_XY(x_entrainement,taille_fenetre,batch_size,buffer_melange)\n",
        "\n",
        "# Création du dataset X,Y de validation\n",
        "dataset_Val = prepare_dataset_XY(x_validation,taille_fenetre,batch_size,buffer_melange)"
      ],
      "execution_count": 2,
      "outputs": []
    },
    {
      "cell_type": "code",
      "metadata": {
        "id": "-6WVzU_X3JxG"
      },
      "source": [
        "# Calcul de la moyenne et de l'écart type de la série\n",
        "mean = tf.math.reduce_mean(serie)\n",
        "std = tf.math.reduce_std(serie)\n",
        "\n",
        "# Normalise les données\n",
        "Serie_Normalisee = (serie-mean)/std\n",
        "min = tf.math.reduce_min(serie)\n",
        "max = tf.math.reduce_max(serie)"
      ],
      "execution_count": 3,
      "outputs": []
    },
    {
      "cell_type": "code",
      "metadata": {
        "id": "CYtsc0Yk3LhT"
      },
      "source": [
        "# Création des données pour l'entrainement et le test\n",
        "x_entrainement_norm = Serie_Normalisee[:temps_separation]\n",
        "x_validation_norm = Serie_Normalisee[temps_separation:]\n",
        "\n",
        "# Création du dataset X,Y\n",
        "dataset_norm = prepare_dataset_XY(x_entrainement_norm,taille_fenetre,batch_size,buffer_melange)\n",
        "\n",
        "# Création du dataset X,Y de validation\n",
        "dataset_Val_norm = prepare_dataset_XY(x_validation_norm,taille_fenetre,batch_size,buffer_melange)"
      ],
      "execution_count": 4,
      "outputs": []
    },
    {
      "cell_type": "markdown",
      "metadata": {
        "id": "2Yt-EgZ3sgPY"
      },
      "source": [
        "# Création d'une couche LSTM personnelle"
      ]
    },
    {
      "cell_type": "markdown",
      "metadata": {
        "id": "Z-C3-DsSAjtf"
      },
      "source": [
        "Pour commencer, regradons tout d'abord comment créer une couche LSTM en dérivant une classe Layers de Keras.  \n",
        "On utilise ici les ressources de wikipédia : [Algorithme d'une couche LSTM](https://en.wikipedia.org/wiki/Long_short-term_memory)"
      ]
    },
    {
      "cell_type": "markdown",
      "metadata": {
        "id": "gZoCohMaBJU4"
      },
      "source": [
        "<img src=\"https://github.com/AlexandreBourrieau/ML/blob/main/Carnets%20Jupyter/S%C3%A9ries%20temporelles/images/LSTM.png?raw=true\" width=\"800\"> "
      ]
    },
    {
      "cell_type": "markdown",
      "metadata": {
        "id": "zxEXQ14sAAHw"
      },
      "source": [
        "**1. Création de la classe LSTM**"
      ]
    },
    {
      "cell_type": "markdown",
      "metadata": {
        "id": "K_GJYIDRAlhu"
      },
      "source": [
        "Ce qu'il y a de nouveau lors de la création de la couche personnelle est qu'il faut maintenant avoir deux variables internes à la couches à mémoriser (les deux vecteurs internes - cell vector & hidden vector):\n",
        " - Ces vecteurs doivent être initialisés dans la fonction `build()`\n",
        " - Puis ils doivent être sauvegardés pour le batch courant à la fin de la fonction `call()`"
      ]
    },
    {
      "cell_type": "code",
      "metadata": {
        "id": "Hhk0kmPSgqva"
      },
      "source": [
        "# Classe LSTM simple\n",
        "\n",
        "# Importe le Backend de Keras\n",
        "from keras import backend as K\n",
        "\n",
        "# Définit une nouvelle classe personnelle LSTM\n",
        "# https://en.wikipedia.org/wiki/Long_short-term_memory\n",
        "\n",
        "# Dans les dimensions ci-dessous :\n",
        "# dimension de la série : dim_serie = 1\n",
        "# dimension des vecteurs internes LSTM : dim_LSTM = 40\n",
        "\n",
        "class Couche_LSTM(tf.keras.layers.Layer):\n",
        "  # Fonction d'initialisation de la classe d'attention\n",
        "  def __init__(self,dim_LSTM):\n",
        "    self.dim_LSTM = dim_LSTM        # Dimension du vecteur d'attention\n",
        "    super().__init__()              # Appel du __init__() de la classe Layer\n",
        "  \n",
        "  def build(self,input_shape):\n",
        "    dim_serie = input_shape[2]\n",
        "\n",
        "    # Paramètres de la forget gate :\n",
        "    # ##############################\n",
        "    # Matrices de poids Wf(40,1), Uf(40,40) et offset bf(40)\n",
        "    self.Wf = self.add_weight(shape=(self.dim_LSTM,dim_serie),initializer=\"normal\",name=\"Wf\",trainable=True)\n",
        "    self.Uf = self.add_weight(shape=(self.dim_LSTM,self.dim_LSTM),initializer=\"normal\",name=\"Uf\",trainable=True)\n",
        "    self.bf = self.add_weight(shape=(self.dim_LSTM,1),initializer=\"normal\",name=\"bf\",trainable=True)\n",
        "\n",
        "    # Paramètres de l'input gate :\n",
        "    # ##############################\n",
        "    # Matrices de poids Wi(40,1), Ui(40,40) et offset bi(40)\n",
        "    self.Wi = self.add_weight(shape=(self.dim_LSTM,dim_serie),initializer=\"normal\",name=\"Wi\",trainable=True)\n",
        "    self.Ui = self.add_weight(shape=(self.dim_LSTM,self.dim_LSTM),initializer=\"normal\",name=\"Ui\",trainable=True)\n",
        "    self.bi = self.add_weight(shape=(self.dim_LSTM,1),initializer=\"zeros\",name=\"bi\",trainable=True)\n",
        "\n",
        "    # Paramètres de l'output gate :\n",
        "    # ##############################\n",
        "    # Matrices de poids Wo(40,1), Uo(40,40) et offset bo(40)\n",
        "    self.Wo = self.add_weight(shape=(self.dim_LSTM,dim_serie),initializer=\"normal\",name=\"Wo\",trainable=True)\n",
        "    self.Uo = self.add_weight(shape=(self.dim_LSTM,self.dim_LSTM),initializer=\"normal\",name=\"Uo\",trainable=True)\n",
        "    self.bo = self.add_weight(shape=(self.dim_LSTM,1),initializer=\"normal\",name=\"bo\",trainable=True)\n",
        "\n",
        "    # Paramètres du cell vector :\n",
        "    # ##############################\n",
        "    # Matrices de poids Wo(40,1), Uo(40,40) et offset bo(40)\n",
        "    self.Wc = self.add_weight(shape=(self.dim_LSTM,dim_serie),initializer=\"normal\",name=\"Wc\",trainable=True)\n",
        "    self.Uc = self.add_weight(shape=(self.dim_LSTM,self.dim_LSTM),initializer=\"normal\",name=\"Uc\",trainable=True)\n",
        "    self.bc = self.add_weight(shape=(self.dim_LSTM,1),initializer=\"normal\",name=\"bc\",trainable=True)\n",
        "\n",
        "    # Vecteurs Cell states :\n",
        "    # ######################\n",
        "    cell_states = getattr(self, 'cell_states', None)\n",
        "    if cell_states is None:\n",
        "      cell_states = []\n",
        "      cell_states.append(tf.zeros(shape=(self.dim_LSTM,1)))\n",
        "    self.cell_states = cell_states\n",
        "\n",
        "    # Vecteurs Hidden states :\n",
        "    # ########################\n",
        "    hidden_states = getattr(self, 'hidden_states', None)\n",
        "    if hidden_states is None:\n",
        "      hidden_states = []\n",
        "      hidden_states.append(tf.zeros(shape=(self.dim_LSTM,1)))\n",
        "    self.hidden_states = hidden_states\n",
        "\n",
        "    super().build(input_shape)        # Appel de la méthode build()\n",
        "\n",
        "  # Définit la logique de la couche LSTM\n",
        "  # Arguments :   x : Tenseur d'entrée de dimension (None, taille_fenetre,dim_serie)\n",
        "  def call(self,x):\n",
        "    # Charge les vecteurs internes\n",
        "    cell_states = self.cell_states.copy()\n",
        "    hidden_states = self.hidden_states.copy()\n",
        "    ct = cell_states[0]\n",
        "    ht = hidden_states[0]\n",
        "\n",
        "    for t in range(0,x.shape[1]):\n",
        "      xt = x[:,t,:]                             # (32,dim_serie)\n",
        "      xt = tf.expand_dims(xt,axis=-1)           # (32,dim_serie,1)\n",
        "\n",
        "      # Calcul du vecteur d'activation de la forget gate à l'instant t\n",
        "      ft = tf.matmul(self.Wf,xt)                # (40,1)x(32,1,1) = (32,40,1)\n",
        "      ft = ft + tf.matmul(self.Uf,ht)      # (32,40,1)\n",
        "      ft = ft + self.bf                         # (32,40,1)\n",
        "      ft = tf.keras.activations.sigmoid(ft)\n",
        "\n",
        "      # Calcul du vecteur d'activation de l'input gate à l'instant t\n",
        "      it = tf.matmul(self.Wi,xt)                # (32,40,1)\n",
        "      it = it + tf.matmul(self.Ui,ht)      # (32,40,1)\n",
        "      it = it + self.bi                         # (32,40,1)\n",
        "      it = tf.keras.activations.sigmoid(it)\n",
        "\n",
        "      # Calcul du vecteur d'activation de l'output gate à l'instant t\n",
        "      ot = tf.matmul(self.Wo,xt)                # (32,40,1)\n",
        "      ot = ot + tf.matmul(self.Uo,ht)      # (32,40,1)\n",
        "      ot = ot + self.bo                         # (32,40,1)\n",
        "      ot = tf.keras.activations.sigmoid(ot)\n",
        "\n",
        "      # Calcul du cell input activation vector à l'instant t\n",
        "      ct_t = tf.matmul(self.Wc,xt)                 # (32,40,1)\n",
        "      ct_t = ct_t + tf.matmul(self.Uc,ht)          # (32,40,1)\n",
        "      ct_t = ct_t + self.bc                        # (32,40,1)\n",
        "      ct_t = tf.keras.activations.tanh(ct_t)\n",
        "\n",
        "      # Calcul du cell state à l'instant t\n",
        "      ct = tf.multiply(ft,ct)                     # (32,40,1)\n",
        "      ct = ct + tf.multiply(it,ct_t)              # (32,40,1)\n",
        "      ht = tf.multiply(ot,tf.keras.activations.tanh(ct))\n",
        "\n",
        "      # Enregistre les vecteurs internes au temps courant\n",
        "      if (t==0):\n",
        "        hidden_states[t] = ht\n",
        "        cell_states[t] = ct\n",
        "      else:\n",
        "        hidden_states.append(ht)\n",
        "        cell_states.append(ct)\n",
        "\n",
        "    # Enregistre les vecteurs internes du batch courant\n",
        "    for hidden_state_, hidden_state in zip(tf.nest.flatten(self.hidden_states),tf.nest.flatten(hidden_states)):\n",
        "      hidden_states_ = hidden_state\n",
        "\n",
        "    for cell_state_, cell_state in zip(tf.nest.flatten(self.cell_states),tf.nest.flatten(cell_states)):\n",
        "      cell_state_ = cell_state\n",
        "\n",
        "    # Retourne le dernier hidden state\n",
        "    return tf.squeeze(ht,axis=-1)               # return (32,40)\n"
      ],
      "execution_count": null,
      "outputs": []
    },
    {
      "cell_type": "code",
      "metadata": {
        "id": "R4Rok0lzsron"
      },
      "source": [
        "dim_LSTM = 40\n",
        "\n",
        "# Fonction de la couche lambda d'entrée\n",
        "def Traitement_Entrees(x):\n",
        "  return tf.expand_dims(x,axis=-1)\n",
        "\n",
        "# Encodeur\n",
        "\n",
        "input = tf.keras.Input(shape=(taille_fenetre,),batch_size=batch_size)\n",
        "s = tf.keras.layers.Lambda(Traitement_Entrees)(input)\n",
        "encoder_state = Couche_LSTM(dim_LSTM=dim_LSTM)(s)\n",
        "\n",
        "# Décodeur\n",
        "input_dec = tf.keras.layers.Lambda(Traitement_Entrees)(encoder_state)\n",
        "outputs = Couche_LSTM(dim_LSTM=dim_LSTM)(input_dec)\n",
        "out = tf.keras.layers.Dense(1)(outputs)\n",
        "\n",
        "model = tf.keras.Model(input,out)\n",
        "model.summary()\n",
        "\n",
        "model.save_weights('model_initial.h5')"
      ],
      "execution_count": null,
      "outputs": []
    },
    {
      "cell_type": "code",
      "metadata": {
        "id": "RTqdYAsF_ici"
      },
      "source": [
        "dim_LSTM = 40\n",
        "\n",
        "# Fonction de la couche lambda d'entrée\n",
        "def Traitement_Entrees(x):\n",
        "  return tf.expand_dims(x,axis=-1)\n",
        "\n",
        "model = tf.keras.models.Sequential()\n",
        "model.add(tf.keras.Input(shape=(taille_fenetre,)))\n",
        "model.add(tf.keras.layers.Lambda(Traitement_Entrees))\n",
        "model.add(Couche_LSTM(dim_LSTM=dim_LSTM))\n",
        "model.add(tf.keras.layers.Dense(1))\n",
        "\n",
        "model.save_weights('model_initial.h5')\n",
        "\n",
        "model.summary()"
      ],
      "execution_count": null,
      "outputs": []
    },
    {
      "cell_type": "markdown",
      "metadata": {
        "id": "MUM0-SSXGLIQ"
      },
      "source": [
        "**2. Optimisation du taux d'apprentissage**"
      ]
    },
    {
      "cell_type": "code",
      "metadata": {
        "id": "jejCBhXVuNQ4"
      },
      "source": [
        "# Définition de la fonction de régulation du taux d'apprentissage\n",
        "def RegulationTauxApprentissage(periode, taux):\n",
        "  return 1e-8*10**(periode/10)\n",
        "\n",
        "# Définition de l'optimiseur à utiliser\n",
        "optimiseur=tf.keras.optimizers.SGD(lr=1e-8, momentum=0.9)\n",
        "\n",
        "# Utilisation de la méthode ModelCheckPoint\n",
        "CheckPoint = tf.keras.callbacks.ModelCheckpoint(\"poids.hdf5\", monitor='loss', verbose=1, save_best_only=True, save_weights_only = True, mode='auto', save_freq='epoch')\n",
        "\n",
        "# Compile le modèle\n",
        "model.compile(loss=tf.keras.losses.Huber(), optimizer=optimiseur, metrics=\"mae\")\n",
        "\n",
        "# Entraine le modèle en utilisant notre fonction personnelle de régulation du taux d'apprentissage\n",
        "historique = model.fit(dataset_norm,epochs=100,verbose=1, callbacks=[tf.keras.callbacks.LearningRateScheduler(RegulationTauxApprentissage), CheckPoint])\n"
      ],
      "execution_count": null,
      "outputs": []
    },
    {
      "cell_type": "code",
      "metadata": {
        "id": "q1_WMNlzu2B4"
      },
      "source": [
        "# Construit un vecteur avec les valeurs du taux d'apprentissage à chaque période \n",
        "taux = 1e-8*(10**(np.arange(100)/10))\n",
        "\n",
        "# Affiche l'erreur en fonction du taux d'apprentissage\n",
        "plt.figure(figsize=(10, 6))\n",
        "plt.semilogx(taux,historique.history[\"loss\"])\n",
        "plt.axis([ taux[0], taux[99], 0, 1])\n",
        "plt.title(\"Evolution de l'erreur en fonction du taux d'apprentissage\")"
      ],
      "execution_count": null,
      "outputs": []
    },
    {
      "cell_type": "markdown",
      "metadata": {
        "id": "6XdXh_b0GP_F"
      },
      "source": [
        "**3. Entrainement du modèle**"
      ]
    },
    {
      "cell_type": "code",
      "metadata": {
        "id": "80pEtJ10wIfY"
      },
      "source": [
        "# Charge les meilleurs poids\n",
        "model.load_weights(\"poids.hdf5\")"
      ],
      "execution_count": null,
      "outputs": []
    },
    {
      "cell_type": "code",
      "metadata": {
        "id": "16ujUiELwR33"
      },
      "source": [
        "from timeit import default_timer as timer\n",
        "\n",
        "class TimingCallback(keras.callbacks.Callback):\n",
        "    def __init__(self, logs={}):\n",
        "        self.logs=[]\n",
        "    def on_epoch_begin(self, epoch, logs={}):\n",
        "        self.starttime = timer()\n",
        "    def on_epoch_end(self, epoch, logs={}):\n",
        "        self.logs.append(timer()-self.starttime)\n",
        "\n",
        "\n",
        "cb = TimingCallback()\n",
        "\n",
        "# Définition de l'optimiseur à utiliser\n",
        "optimiseur=tf.keras.optimizers.SGD(lr=1e-2,momentum=0.9)\n",
        "\n",
        "\n",
        "# Utilisation de la méthode ModelCheckPoint\n",
        "CheckPoint = tf.keras.callbacks.ModelCheckpoint(\"poids_train.hdf5\", monitor='loss', verbose=1, save_best_only=True, save_weights_only = True, mode='auto', save_freq='epoch')\n",
        "\n",
        "# Compile le modèle\n",
        "model.compile(loss=tf.keras.losses.Huber(), optimizer=optimiseur,metrics=\"mae\")\n",
        "\n",
        "# Entraine le modèle\n",
        "historique = model.fit(dataset_norm,validation_data=dataset_Val_norm, epochs=500,verbose=1, callbacks=[CheckPoint,cb])\n",
        "\n",
        "print(cb.logs)\n",
        "print(sum(cb.logs))"
      ],
      "execution_count": null,
      "outputs": []
    },
    {
      "cell_type": "code",
      "metadata": {
        "id": "COP9u4yitvmw"
      },
      "source": [
        "erreur_entrainement = historique.history[\"loss\"]\n",
        "erreur_validation = historique.history[\"val_loss\"]\n",
        "\n",
        "# Affiche l'erreur en fonction de la période\n",
        "plt.figure(figsize=(10, 6))\n",
        "plt.plot(np.arange(0,len(erreur_entrainement)),erreur_entrainement, label=\"Erreurs sur les entrainements\")\n",
        "plt.plot(np.arange(0,len(erreur_entrainement)),erreur_validation, label =\"Erreurs sur les validations\")\n",
        "plt.legend()\n",
        "\n",
        "plt.title(\"Evolution de l'erreur en fonction de la période\")"
      ],
      "execution_count": null,
      "outputs": []
    },
    {
      "cell_type": "code",
      "metadata": {
        "id": "_o2zh6N9t1b7"
      },
      "source": [
        "erreur_entrainement = historique.history[\"loss\"]\n",
        "erreur_validation = historique.history[\"val_loss\"]\n",
        "\n",
        "# Affiche l'erreur en fonction de la période\n",
        "plt.figure(figsize=(10, 6))\n",
        "plt.plot(np.arange(0,len(erreur_entrainement[400:500])),erreur_entrainement[400:500], label=\"Erreurs sur les entrainements\")\n",
        "plt.plot(np.arange(0,len(erreur_entrainement[400:500])),erreur_validation[400:500], label =\"Erreurs sur les validations\")\n",
        "plt.legend()\n",
        "\n",
        "plt.title(\"Evolution de l'erreur en fonction de la période\")"
      ],
      "execution_count": null,
      "outputs": []
    },
    {
      "cell_type": "markdown",
      "metadata": {
        "id": "T6Gq2CkeGR_1"
      },
      "source": [
        "**4. Prédictions**"
      ]
    },
    {
      "cell_type": "code",
      "metadata": {
        "id": "HRxXtHRXGXfF"
      },
      "source": [
        "taille_fenetre = 20\n",
        "\n",
        "# Création d'une liste vide pour recevoir les prédictions\n",
        "predictions = []\n",
        "\n",
        "# Calcul des prédiction pour chaque groupe de 20 valeurs consécutives de la série\n",
        "# dans l'intervalle de validation\n",
        "for t in temps[temps_separation:-taille_fenetre]:\n",
        "    X = np.reshape(Serie_Normalisee[t:t+taille_fenetre],(1,taille_fenetre))\n",
        "    predictions.append(model.predict(X))"
      ],
      "execution_count": null,
      "outputs": []
    },
    {
      "cell_type": "code",
      "metadata": {
        "id": "Wd2nfDcgG8EO"
      },
      "source": [
        "# Affiche la série et les prédictions\n",
        "plt.figure(figsize=(10, 6))\n",
        "affiche_serie(temps,serie,label=\"Série temporelle\")\n",
        "affiche_serie(temps[temps_separation+taille_fenetre:],np.asarray(predictions*std+mean)[:,0,0],label=\"Prédictions\")\n",
        "plt.title('Prédictions avec le modèle GRU + Attention avec vecteur contexte')\n",
        "plt.show()\n",
        "\n",
        "# Zoom sur l'intervalle de validation\n",
        "plt.figure(figsize=(10, 6))\n",
        "affiche_serie(temps[temps_separation:],serie[temps_separation:],label=\"Série temporelle\")\n",
        "affiche_serie(temps[temps_separation+taille_fenetre:],np.asarray(predictions*std+mean)[:,0,0],label=\"Prédictions\")\n",
        "plt.title(\"Prédictions avec le modèle GRU + Attention avec vecteur contexte (zoom sur l'intervalle de validation)\")\n",
        "plt.show()"
      ],
      "execution_count": null,
      "outputs": []
    },
    {
      "cell_type": "code",
      "metadata": {
        "id": "PDS7BJvZG_e1"
      },
      "source": [
        "# Calcule de l'erreur quadratique moyenne et de l'erreur absolue moyenne \n",
        "\n",
        "mae = tf.keras.metrics.mean_absolute_error(serie[temps_separation+taille_fenetre:],np.asarray(predictions*std+mean)[:,0,0]).numpy()\n",
        "mse = tf.keras.metrics.mean_squared_error(serie[temps_separation+taille_fenetre:],np.asarray(predictions*std+mean)[:,0,0]).numpy()\n",
        "\n",
        "print(mae)\n",
        "print(mse)"
      ],
      "execution_count": null,
      "outputs": []
    },
    {
      "cell_type": "markdown",
      "metadata": {
        "id": "L2cMi-70AJ5-"
      },
      "source": [
        "# Création du modèle LSTMN"
      ]
    },
    {
      "cell_type": "markdown",
      "metadata": {
        "id": "9gXNei98G3J9"
      },
      "source": [
        "<img src=\"https://github.com/AlexandreBourrieau/ML/blob/main/Carnets%20Jupyter/S%C3%A9ries%20temporelles/images/LSTMN_Calcul2.png?raw=true\" width=\"1200\"> "
      ]
    },
    {
      "cell_type": "markdown",
      "metadata": {
        "id": "bNuSRvEoqEhq"
      },
      "source": [
        "**1. Création de la couche LSTMN**"
      ]
    },
    {
      "cell_type": "code",
      "metadata": {
        "id": "N-LL0N5_qCQe"
      },
      "source": [
        "# Classe LSTMN\n",
        "\n",
        "# Importe le Backend de Keras\n",
        "from keras import backend as K\n",
        "\n",
        "# Définit une nouvelle classe personnelle LSTMN\n",
        "# https://arxiv.org/pdf/1601.06733.pdf\n",
        "\n",
        "\n",
        "# Dans les dimensions ci-dessous :\n",
        "# dimension de la série : dim_serie = 1\n",
        "# dimension des vecteurs internes LSTM : dim_LSTM = 40\n",
        "# batch_size = 32\n",
        "\n",
        "class Couche_LSTMN(tf.keras.layers.Layer):\n",
        "  # Fonction d'initialisation de la classe d'attention\n",
        "  def __init__(self,dim_LSTM,return_sequence=False):\n",
        "    self.dim_LSTM = dim_LSTM                # Dimension du vecteur d'attention\n",
        "    self.return_sequence = return_sequence  # Retourne l'ensemble des états cachés ?\n",
        "    super().__init__()                      # Appel du __init__() de la classe Layer\n",
        "  \n",
        "  def build(self,input_shape):\n",
        "    dim_serie = input_shape[2]\n",
        "    nbr_instants = input_shape[1]\n",
        "\n",
        "    # Paramètres de la forget gate :\n",
        "    # ##############################\n",
        "    # Matrices de poids Wf(40,1), Uf(40,40) et offset bf(40)\n",
        "    self.Wf = self.add_weight(shape=(self.dim_LSTM,dim_serie),initializer=\"normal\",name=\"Wf\",trainable=True)\n",
        "    self.Uf = self.add_weight(shape=(self.dim_LSTM,self.dim_LSTM),initializer=\"normal\",name=\"Uf\",trainable=True)\n",
        "    self.bf = self.add_weight(shape=(self.dim_LSTM,1),initializer=\"zeros\",name=\"bf\",trainable=True)\n",
        "\n",
        "    # Paramètres de l'input gate :\n",
        "    # ##############################\n",
        "    # Matrices de poids Wi(40,1), Ui(40,40) et offset bi(40)\n",
        "    self.Wi = self.add_weight(shape=(self.dim_LSTM,dim_serie),initializer=\"normal\",name=\"Wi\",trainable=True)\n",
        "    self.Ui = self.add_weight(shape=(self.dim_LSTM,self.dim_LSTM),initializer=\"normal\",name=\"Ui\",trainable=True)\n",
        "    self.bi = self.add_weight(shape=(self.dim_LSTM,1),initializer=\"zeros\",name=\"bi\",trainable=True)\n",
        "\n",
        "    # Paramètres de l'output gate :\n",
        "    # ##############################\n",
        "    # Matrices de poids Wo(40,1), Uo(40,40) et offset bo(40)\n",
        "    self.Wo = self.add_weight(shape=(self.dim_LSTM,dim_serie),initializer=\"normal\",name=\"Wo\",trainable=True)\n",
        "    self.Uo = self.add_weight(shape=(self.dim_LSTM,self.dim_LSTM),initializer=\"normal\",name=\"Uo\",trainable=True)\n",
        "    self.bo = self.add_weight(shape=(self.dim_LSTM,1),initializer=\"zeros\",name=\"bo\",trainable=True)\n",
        "\n",
        "    # Paramètres du cell vector :\n",
        "    # ##############################\n",
        "    # Matrices de poids Wc(40,1), Uc(40,40) et offset bc(40)\n",
        "    self.Wc = self.add_weight(shape=(self.dim_LSTM,dim_serie),initializer=\"normal\",name=\"Wc\",trainable=True)\n",
        "    self.Uc = self.add_weight(shape=(self.dim_LSTM,self.dim_LSTM),initializer=\"normal\",name=\"Uc\",trainable=True)\n",
        "    self.bc = self.add_weight(shape=(self.dim_LSTM,1),initializer=\"zeros\",name=\"bc\",trainable=True)\n",
        "\n",
        "    # Paramètres de l'attention :\n",
        "    # ###########################\n",
        "    # Matrices de poids Wh(40,40); Wx(40,1) et Wh_t(40,40)\n",
        "    self.Wh = self.add_weight(shape=(self.dim_LSTM,self.dim_LSTM),initializer=\"normal\",name=\"Wh\",trainable=True)\n",
        "    self.Wx = self.add_weight(shape=(self.dim_LSTM,dim_serie),initializer=\"normal\",name=\"Wx\",trainable=True)\n",
        "    self.Wh_t = self.add_weight(shape=(self.dim_LSTM,self.dim_LSTM),initializer=\"normal\",name=\"Wh_t\",trainable=True)\n",
        "\n",
        "    # Vecteur contexte :  v(1,40)\n",
        "    #############################\n",
        "    self.v = self.add_weight(shape=(dim_serie,self.dim_LSTM),initializer=\"normal\",name=\"v\",trainable=True)\n",
        "\n",
        "    # Memory tape : Ct    Liste[(40,1)]\n",
        "    # #################################\n",
        "    memory_tape = getattr(self, 'memory_tape', None)\n",
        "    if memory_tape is None:\n",
        "      memory_tape = []\n",
        "      memory_tape.append(tf.zeros(shape=(self.dim_LSTM,1)))         # Ct[0] = c0 = 0\n",
        "    self.memory_tape = memory_tape\n",
        "\n",
        "    # Hidden tape : Ht    Liste[(40,1)]\n",
        "    # #################################\n",
        "    hidden_tape = getattr(self, 'hidden_tape', None)\n",
        "    if hidden_tape is None:\n",
        "      hidden_tape = []\n",
        "      hidden_tape.append(tf.zeros(shape=(self.dim_LSTM,1)))         # Ht[0] = h0 = 0\n",
        "    self.hidden_tape = hidden_tape\n",
        "\n",
        "    # Vecteurs d'adaptation du Hidden state : Ht_t    Liste[(40,1)]\n",
        "    # #############################################################\n",
        "    hidden_t_tape = getattr(self, 'hidden_t_tape', None)\n",
        "    if hidden_t_tape is None:\n",
        "      hidden_t_tape = []\n",
        "      hidden_t_tape.append(tf.zeros(shape=(self.dim_LSTM,1)))       # Ht_t[0] = h0_t = 0\n",
        "    self.hidden_t_tape = hidden_t_tape\n",
        "\n",
        "    super().build(input_shape)        # Appel de la méthode build()\n",
        "\n",
        "  # Définit la logique de la couche LSTM\n",
        "  # Arguments :   x : Tenseur d'entrée de dimension (None, taille_fenetre,dim_serie)\n",
        "  def call(self,x):\n",
        "\n",
        "    # Charge les tables mémoires\n",
        "    Ct = self.memory_tape.copy()\n",
        "    Ht = self.hidden_tape.copy()\n",
        "    Ht_t = self.hidden_t_tape.copy()\n",
        "\n",
        "    for t in range(1,x.shape[1]+1):\n",
        "      xt = x[:,t-1,:]                           # (32,1)\n",
        "      xt = tf.expand_dims(xt,axis=-1)           # (32,1,1)\n",
        "\n",
        "      # Calcul des poids d'attention\n",
        "      at_i = tf.zeros(shape=(x.shape[0],1,1))   # a0_0 = 0 (32,1,1)\n",
        "      for i in range(1,t):\n",
        "        at_ = tf.matmul(self.v,tf.keras.activations.tanh(tf.matmul(self.Wh,Ht[i]) + tf.matmul(self.Wx,xt) + tf.matmul(self.Wh_t,Ht_t[t-1])))\n",
        "        at_i = tf.concat([at_,at_i],axis=1)\n",
        "      if t > 1:\n",
        "        at_i = tf.slice(at_i,[0,0,0],[at_i.shape[0],at_i.shape[1]-1,at_i.shape[2]])\n",
        "\n",
        "      # Calcul des poids d'attention normalisés\n",
        "      st_i = tf.keras.activations.softmax(at_i,axis=1)        # (32,t,1)\n",
        "\n",
        "      # Calcul du vecteur d'adaptation ht_t\n",
        "      ht_t = tf.zeros(shape=(x.shape[0],self.dim_LSTM,1))                                       # h0_t = 0\n",
        "      for i in range(1,t):\n",
        "        ht_t = ht_t + tf.multiply(tf.expand_dims(st_i[:,i-1,:],axis=-1),Ht[i])      # (32,40,1)\n",
        "\n",
        "      # Calcul du vecteur d'adaptation ct_t\n",
        "      ct_t = tf.zeros(shape=(x.shape[0],self.dim_LSTM,1))                           # c0_t = 0\n",
        "      for i in range(1,t):\n",
        "        ct_t = ct_t + tf.multiply(tf.expand_dims(st_i[:,i-1,:],axis=-1),Ct[i])      # (32,40,1)\n",
        "      \n",
        "      # Calcul du vecteur d'activation de la forget gate à l'instant t\n",
        "      ft = tf.matmul(self.Wf,xt)                    # (40,1)x(32,1,1) = (32,40,1)\n",
        "      ft = ft + tf.matmul(self.Uf,ht_t)             # (40,40)x(32,40,1) = (32,40,1)\n",
        "      ft = ft + self.bf                             # (32,40,1) + (40,1) = (32,40,1)\n",
        "      ft = tf.keras.activations.sigmoid(ft) \n",
        "\n",
        "      # Calcul du vecteur d'activation de l'input gate à l'instant t\n",
        "      it = tf.matmul(self.Wi,xt)                    # (40,1)x(32,1,1) = (32,40,1)\n",
        "      it = it + tf.matmul(self.Ui,ht_t)             # (40,40)x(32,40,1) = (32,40,1)\n",
        "      it = it + self.bi                             # (32,40,1) + (40,1) = (32,40,1)\n",
        "      it = tf.keras.activations.sigmoid(it)\n",
        "\n",
        "      # Calcul du vecteur d'activation de l'output gate à l'instant t\n",
        "      ot = tf.matmul(self.Wo,xt)                    # (40,1)x(32,1,1) = (32,40,1)\n",
        "      ot = ot + tf.matmul(self.Uo,ht_t)             # (40,40)x(32,40,1) = (32,40,1)\n",
        "      ot = ot + self.bo                             # (32,40,1) + (40,1) = (32,40,1)\n",
        "      ot = tf.keras.activations.sigmoid(ot)\n",
        "\n",
        "      # Calcul du cell input activation vector à l'instant t\n",
        "      ct_h = tf.matmul(self.Wc,xt)                 # (40,1)x(32,1,1) = (32,40,1)\n",
        "      ct_h = ct_h + tf.matmul(self.Uc,ht_t)        # (40,40)x(32,40,1) = (32,40,1)\n",
        "      ct_h = ct_h + self.bc                        # (32,40,1) + (40,1) = (32,40,1)\n",
        "      ct_h = tf.keras.activations.tanh(ct_h)\n",
        "\n",
        "      # Calcul du cell state à l'instant t\n",
        "      ct = tf.multiply(ft,ct_t)                    # (32,40,1)\n",
        "      ct = ct + tf.multiply(it,ct_h)               # (32,40,1)\n",
        "      ht = tf.multiply(ot,tf.keras.activations.tanh(ct))\n",
        "\n",
        "      # Enregistre les vecteurs internes du temps courant\n",
        "      Ht.append(ht)                                 # Enregistre Ht[t] = ht\n",
        "      Ct.append(ct)                                 # Enregistre Ct[t] = ct\n",
        "      Ht_t.append(ht_t)                             # Enregistre Ht_t[t] = ht_t\n",
        "\n",
        "    # Enregistre les vecteurs internes du batch courant\n",
        "    for memory_tape_, memory_tape in zip(tf.nest.flatten(self.memory_tape),tf.nest.flatten(Ct)):\n",
        "      memory_tape_ = memory_tape\n",
        "    for hidden_tape_, hidden_tape in zip(tf.nest.flatten(self.hidden_tape),tf.nest.flatten(Ht)):\n",
        "      hidden_tape_ = hidden_tape\n",
        "    for hidden_t_tape_, hidden_t_tape in zip(tf.nest.flatten(self.hidden_t_tape),tf.nest.flatten(Ht_t)):\n",
        "      hidden_t_tape_ = hidden_t_tape\n",
        "\n",
        "    # Retourne le dernier hidden state ou l'ensemble des vecteurs\n",
        "    if self.return_sequence == False:\n",
        "      return tf.squeeze(ht,axis=-1)               # return (32,40)\n",
        "    else:\n",
        "      hidden_states = tf.zeros(shape=(x.shape[0],1,self.dim_LSTM,1))   # (32,1,40,1)\n",
        "      for i in range(0,x.shape[1]):\n",
        "        hidden_states = tf.concat([hidden_states,tf.expand_dims(Ht[i+1],axis=1)],axis=1)\n",
        "      hidden_states = tf.slice(hidden_states,[0,0,0,0],[hidden_states.shape[0],hidden_states.shape[1]-1,hidden_states.shape[2],hidden_states.shape[3]])\n",
        "      return hidden_states                        # return (32,20,40,1)\n"
      ],
      "execution_count": 5,
      "outputs": []
    },
    {
      "cell_type": "markdown",
      "metadata": {
        "id": "l95xZ4dChGsm"
      },
      "source": [
        "**2. Création du modèle**"
      ]
    },
    {
      "cell_type": "code",
      "metadata": {
        "id": "ayLr0z26rQpH",
        "outputId": "2848e873-e653-46ce-b07a-3a2819b3aef6",
        "colab": {
          "base_uri": "https://localhost:8080/"
        }
      },
      "source": [
        "dim_LSTM = 40\n",
        "\n",
        "# Fonction de la couche lambda d'entrée\n",
        "def Traitement_Entrees(x):\n",
        "  return tf.expand_dims(x,axis=-1)\n",
        "\n",
        "# Encodeur\n",
        "input = tf.keras.Input(shape=(taille_fenetre,),batch_size=batch_size)\n",
        "s = tf.keras.layers.Dropout(0.1)(input)\n",
        "s = tf.keras.layers.Lambda(Traitement_Entrees)(s)\n",
        "encoder_state = Couche_LSTMN(dim_LSTM=dim_LSTM)(s)\n",
        "\n",
        "# Décodeur\n",
        "input_dec = tf.keras.layers.Lambda(Traitement_Entrees)(encoder_state)\n",
        "outputs = Couche_LSTMN(dim_LSTM=dim_LSTM)(input_dec)\n",
        "out = tf.keras.layers.Dense(1)(outputs)\n",
        "\n",
        "model = tf.keras.Model(input,out)\n",
        "model.summary()\n",
        "\n",
        "model.save_weights('model_initial.h5')"
      ],
      "execution_count": 12,
      "outputs": [
        {
          "output_type": "stream",
          "text": [
            "Model: \"model_1\"\n",
            "_________________________________________________________________\n",
            "Layer (type)                 Output Shape              Param #   \n",
            "=================================================================\n",
            "input_2 (InputLayer)         [(32, 20)]                0         \n",
            "_________________________________________________________________\n",
            "dropout (Dropout)            (32, 20)                  0         \n",
            "_________________________________________________________________\n",
            "lambda_2 (Lambda)            (32, 20, 1)               0         \n",
            "_________________________________________________________________\n",
            "couche_lstmn_2 (Couche_LSTMN (32, 40)                  10000     \n",
            "_________________________________________________________________\n",
            "lambda_3 (Lambda)            (32, 40, 1)               0         \n",
            "_________________________________________________________________\n",
            "couche_lstmn_3 (Couche_LSTMN (32, 40)                  10000     \n",
            "_________________________________________________________________\n",
            "dense_1 (Dense)              (32, 1)                   41        \n",
            "=================================================================\n",
            "Total params: 20,041\n",
            "Trainable params: 20,041\n",
            "Non-trainable params: 0\n",
            "_________________________________________________________________\n"
          ],
          "name": "stdout"
        }
      ]
    },
    {
      "cell_type": "code",
      "metadata": {
        "id": "WjwtBSMhgNpO"
      },
      "source": [
        "dim_LSTM = 40\n",
        "\n",
        "# Fonction de la couche lambda d'entrée\n",
        "def Traitement_Entrees(x):\n",
        "  return tf.expand_dims(x,axis=-1)\n",
        "\n",
        "model = tf.keras.models.Sequential()\n",
        "model.add(tf.keras.Input(shape=(taille_fenetre,), batch_size=batch_size))\n",
        "model.add(tf.keras.layers.Lambda(Traitement_Entrees))\n",
        "model.add(Couche_LSTMN(dim_LSTM=dim_LSTM,return_sequence=False))\n",
        "model.add(tf.keras.layers.Dense(1))\n",
        "\n",
        "model.save_weights('model_initial.h5')\n",
        "\n",
        "model.summary()"
      ],
      "execution_count": null,
      "outputs": []
    },
    {
      "cell_type": "markdown",
      "metadata": {
        "id": "hZGh7uKYhJHF"
      },
      "source": [
        "**3. Entrainement du modèle**"
      ]
    },
    {
      "cell_type": "code",
      "metadata": {
        "id": "REdXsfkohNTw",
        "outputId": "75c9f107-46f4-460a-d19c-4988df8bbbdf",
        "colab": {
          "base_uri": "https://localhost:8080/"
        }
      },
      "source": [
        "# Définition de la fonction de régulation du taux d'apprentissage\n",
        "def RegulationTauxApprentissage(periode, taux):\n",
        "  return 1e-8*10**(periode/10)\n",
        "\n",
        "# Définition de l'optimiseur à utiliser\n",
        "optimiseur=tf.keras.optimizers.SGD(lr=1e-8, momentum=0.9)\n",
        "\n",
        "# Utilisation de la méthode ModelCheckPoint\n",
        "CheckPoint = tf.keras.callbacks.ModelCheckpoint(\"poids.hdf5\", monitor='loss', verbose=1, save_best_only=True, save_weights_only = True, mode='auto', save_freq='epoch')\n",
        "\n",
        "# Compile le modèle\n",
        "model.compile(loss=tf.keras.losses.Huber(), optimizer=optimiseur, metrics=\"mae\")\n",
        "\n",
        "# Entraine le modèle en utilisant notre fonction personnelle de régulation du taux d'apprentissage\n",
        "historique = model.fit(dataset_norm,epochs=100,verbose=1, callbacks=[tf.keras.callbacks.LearningRateScheduler(RegulationTauxApprentissage), CheckPoint])"
      ],
      "execution_count": 7,
      "outputs": [
        {
          "output_type": "stream",
          "text": [
            "Epoch 1/100\n",
            "30/30 [==============================] - 268s 246ms/step - loss: 0.6147 - mae: 1.0529\n",
            "\n",
            "Epoch 00001: loss improved from inf to 0.36774, saving model to poids.hdf5\n",
            "Epoch 2/100\n",
            "30/30 [==============================] - 7s 245ms/step - loss: 0.6147 - mae: 1.0529\n",
            "\n",
            "Epoch 00002: loss improved from 0.36774 to 0.36774, saving model to poids.hdf5\n",
            "Epoch 3/100\n",
            "30/30 [==============================] - 7s 243ms/step - loss: 0.6147 - mae: 1.0529\n",
            "\n",
            "Epoch 00003: loss improved from 0.36774 to 0.36774, saving model to poids.hdf5\n",
            "Epoch 4/100\n",
            "30/30 [==============================] - 7s 243ms/step - loss: 0.6147 - mae: 1.0529\n",
            "\n",
            "Epoch 00004: loss improved from 0.36774 to 0.36774, saving model to poids.hdf5\n",
            "Epoch 5/100\n",
            "30/30 [==============================] - 7s 244ms/step - loss: 0.6147 - mae: 1.0529\n",
            "\n",
            "Epoch 00005: loss improved from 0.36774 to 0.36774, saving model to poids.hdf5\n",
            "Epoch 6/100\n",
            "30/30 [==============================] - 7s 242ms/step - loss: 0.6147 - mae: 1.0529\n",
            "\n",
            "Epoch 00006: loss improved from 0.36774 to 0.36774, saving model to poids.hdf5\n",
            "Epoch 7/100\n",
            "30/30 [==============================] - 7s 242ms/step - loss: 0.6147 - mae: 1.0529\n",
            "\n",
            "Epoch 00007: loss improved from 0.36774 to 0.36773, saving model to poids.hdf5\n",
            "Epoch 8/100\n",
            "30/30 [==============================] - 7s 244ms/step - loss: 0.6147 - mae: 1.0529\n",
            "\n",
            "Epoch 00008: loss improved from 0.36773 to 0.36773, saving model to poids.hdf5\n",
            "Epoch 9/100\n",
            "30/30 [==============================] - 7s 244ms/step - loss: 0.6147 - mae: 1.0529\n",
            "\n",
            "Epoch 00009: loss improved from 0.36773 to 0.36773, saving model to poids.hdf5\n",
            "Epoch 10/100\n",
            "30/30 [==============================] - 7s 243ms/step - loss: 0.6147 - mae: 1.0529\n",
            "\n",
            "Epoch 00010: loss improved from 0.36773 to 0.36772, saving model to poids.hdf5\n",
            "Epoch 11/100\n",
            "30/30 [==============================] - 7s 244ms/step - loss: 0.6146 - mae: 1.0529\n",
            "\n",
            "Epoch 00011: loss improved from 0.36772 to 0.36771, saving model to poids.hdf5\n",
            "Epoch 12/100\n",
            "30/30 [==============================] - 7s 244ms/step - loss: 0.6146 - mae: 1.0529\n",
            "\n",
            "Epoch 00012: loss improved from 0.36771 to 0.36771, saving model to poids.hdf5\n",
            "Epoch 13/100\n",
            "30/30 [==============================] - 7s 244ms/step - loss: 0.6146 - mae: 1.0528\n",
            "\n",
            "Epoch 00013: loss improved from 0.36771 to 0.36770, saving model to poids.hdf5\n",
            "Epoch 14/100\n",
            "30/30 [==============================] - 7s 243ms/step - loss: 0.6146 - mae: 1.0528\n",
            "\n",
            "Epoch 00014: loss improved from 0.36770 to 0.36768, saving model to poids.hdf5\n",
            "Epoch 15/100\n",
            "30/30 [==============================] - 7s 243ms/step - loss: 0.6146 - mae: 1.0528\n",
            "\n",
            "Epoch 00015: loss improved from 0.36768 to 0.36767, saving model to poids.hdf5\n",
            "Epoch 16/100\n",
            "30/30 [==============================] - 7s 244ms/step - loss: 0.6145 - mae: 1.0527\n",
            "\n",
            "Epoch 00016: loss improved from 0.36767 to 0.36765, saving model to poids.hdf5\n",
            "Epoch 17/100\n",
            "30/30 [==============================] - 7s 243ms/step - loss: 0.6145 - mae: 1.0527\n",
            "\n",
            "Epoch 00017: loss improved from 0.36765 to 0.36762, saving model to poids.hdf5\n",
            "Epoch 18/100\n",
            "30/30 [==============================] - 7s 242ms/step - loss: 0.6144 - mae: 1.0526\n",
            "\n",
            "Epoch 00018: loss improved from 0.36762 to 0.36759, saving model to poids.hdf5\n",
            "Epoch 19/100\n",
            "30/30 [==============================] - 7s 244ms/step - loss: 0.6143 - mae: 1.0525\n",
            "\n",
            "Epoch 00019: loss improved from 0.36759 to 0.36755, saving model to poids.hdf5\n",
            "Epoch 20/100\n",
            "30/30 [==============================] - 7s 245ms/step - loss: 0.6142 - mae: 1.0524\n",
            "\n",
            "Epoch 00020: loss improved from 0.36755 to 0.36749, saving model to poids.hdf5\n",
            "Epoch 21/100\n",
            "30/30 [==============================] - 7s 245ms/step - loss: 0.6141 - mae: 1.0523\n",
            "\n",
            "Epoch 00021: loss improved from 0.36749 to 0.36743, saving model to poids.hdf5\n",
            "Epoch 22/100\n",
            "30/30 [==============================] - 7s 244ms/step - loss: 0.6140 - mae: 1.0521\n",
            "\n",
            "Epoch 00022: loss improved from 0.36743 to 0.36735, saving model to poids.hdf5\n",
            "Epoch 23/100\n",
            "30/30 [==============================] - 7s 242ms/step - loss: 0.6138 - mae: 1.0519\n",
            "\n",
            "Epoch 00023: loss improved from 0.36735 to 0.36724, saving model to poids.hdf5\n",
            "Epoch 24/100\n",
            "30/30 [==============================] - 7s 243ms/step - loss: 0.6135 - mae: 1.0516\n",
            "\n",
            "Epoch 00024: loss improved from 0.36724 to 0.36711, saving model to poids.hdf5\n",
            "Epoch 25/100\n",
            "30/30 [==============================] - 7s 243ms/step - loss: 0.6132 - mae: 1.0512\n",
            "\n",
            "Epoch 00025: loss improved from 0.36711 to 0.36695, saving model to poids.hdf5\n",
            "Epoch 26/100\n",
            "30/30 [==============================] - 7s 244ms/step - loss: 0.6128 - mae: 1.0508\n",
            "\n",
            "Epoch 00026: loss improved from 0.36695 to 0.36675, saving model to poids.hdf5\n",
            "Epoch 27/100\n",
            "30/30 [==============================] - 7s 245ms/step - loss: 0.6124 - mae: 1.0502\n",
            "\n",
            "Epoch 00027: loss improved from 0.36675 to 0.36649, saving model to poids.hdf5\n",
            "Epoch 28/100\n",
            "30/30 [==============================] - 7s 244ms/step - loss: 0.6117 - mae: 1.0495\n",
            "\n",
            "Epoch 00028: loss improved from 0.36649 to 0.36617, saving model to poids.hdf5\n",
            "Epoch 29/100\n",
            "30/30 [==============================] - 7s 246ms/step - loss: 0.6110 - mae: 1.0486\n",
            "\n",
            "Epoch 00029: loss improved from 0.36617 to 0.36576, saving model to poids.hdf5\n",
            "Epoch 30/100\n",
            "30/30 [==============================] - 7s 246ms/step - loss: 0.6100 - mae: 1.0475\n",
            "\n",
            "Epoch 00030: loss improved from 0.36576 to 0.36525, saving model to poids.hdf5\n",
            "Epoch 31/100\n",
            "30/30 [==============================] - 7s 245ms/step - loss: 0.6088 - mae: 1.0461\n",
            "\n",
            "Epoch 00031: loss improved from 0.36525 to 0.36461, saving model to poids.hdf5\n",
            "Epoch 32/100\n",
            "30/30 [==============================] - 7s 244ms/step - loss: 0.6073 - mae: 1.0443\n",
            "\n",
            "Epoch 00032: loss improved from 0.36461 to 0.36381, saving model to poids.hdf5\n",
            "Epoch 33/100\n",
            "30/30 [==============================] - 7s 246ms/step - loss: 0.6054 - mae: 1.0421\n",
            "\n",
            "Epoch 00033: loss improved from 0.36381 to 0.36282, saving model to poids.hdf5\n",
            "Epoch 34/100\n",
            "30/30 [==============================] - 7s 246ms/step - loss: 0.6030 - mae: 1.0393\n",
            "\n",
            "Epoch 00034: loss improved from 0.36282 to 0.36157, saving model to poids.hdf5\n",
            "Epoch 35/100\n",
            "30/30 [==============================] - 7s 247ms/step - loss: 0.6001 - mae: 1.0358\n",
            "\n",
            "Epoch 00035: loss improved from 0.36157 to 0.36003, saving model to poids.hdf5\n",
            "Epoch 36/100\n",
            "30/30 [==============================] - 7s 245ms/step - loss: 0.5964 - mae: 1.0315\n",
            "\n",
            "Epoch 00036: loss improved from 0.36003 to 0.35811, saving model to poids.hdf5\n",
            "Epoch 37/100\n",
            "30/30 [==============================] - 7s 247ms/step - loss: 0.5918 - mae: 1.0261\n",
            "\n",
            "Epoch 00037: loss improved from 0.35811 to 0.35574, saving model to poids.hdf5\n",
            "Epoch 38/100\n",
            "30/30 [==============================] - 7s 247ms/step - loss: 0.5861 - mae: 1.0193\n",
            "\n",
            "Epoch 00038: loss improved from 0.35574 to 0.35284, saving model to poids.hdf5\n",
            "Epoch 39/100\n",
            "30/30 [==============================] - 7s 246ms/step - loss: 0.5790 - mae: 1.0110\n",
            "\n",
            "Epoch 00039: loss improved from 0.35284 to 0.34930, saving model to poids.hdf5\n",
            "Epoch 40/100\n",
            "30/30 [==============================] - 7s 246ms/step - loss: 0.5703 - mae: 1.0008\n",
            "\n",
            "Epoch 00040: loss improved from 0.34930 to 0.34502, saving model to poids.hdf5\n",
            "Epoch 41/100\n",
            "30/30 [==============================] - 7s 245ms/step - loss: 0.5597 - mae: 0.9883\n",
            "\n",
            "Epoch 00041: loss improved from 0.34502 to 0.33991, saving model to poids.hdf5\n",
            "Epoch 42/100\n",
            "30/30 [==============================] - 7s 246ms/step - loss: 0.5469 - mae: 0.9731\n",
            "\n",
            "Epoch 00042: loss improved from 0.33991 to 0.33389, saving model to poids.hdf5\n",
            "Epoch 43/100\n",
            "30/30 [==============================] - 7s 245ms/step - loss: 0.5315 - mae: 0.9550\n",
            "\n",
            "Epoch 00043: loss improved from 0.33389 to 0.32694, saving model to poids.hdf5\n",
            "Epoch 44/100\n",
            "30/30 [==============================] - 7s 245ms/step - loss: 0.5133 - mae: 0.9337\n",
            "\n",
            "Epoch 00044: loss improved from 0.32694 to 0.31911, saving model to poids.hdf5\n",
            "Epoch 45/100\n",
            "30/30 [==============================] - 7s 246ms/step - loss: 0.4922 - mae: 0.9093\n",
            "\n",
            "Epoch 00045: loss improved from 0.31911 to 0.31058, saving model to poids.hdf5\n",
            "Epoch 46/100\n",
            "30/30 [==============================] - 7s 247ms/step - loss: 0.4684 - mae: 0.8818\n",
            "\n",
            "Epoch 00046: loss improved from 0.31058 to 0.30168, saving model to poids.hdf5\n",
            "Epoch 47/100\n",
            "30/30 [==============================] - 7s 246ms/step - loss: 0.4423 - mae: 0.8523\n",
            "\n",
            "Epoch 00047: loss improved from 0.30168 to 0.29290, saving model to poids.hdf5\n",
            "Epoch 48/100\n",
            "30/30 [==============================] - 7s 245ms/step - loss: 0.4147 - mae: 0.8218\n",
            "\n",
            "Epoch 00048: loss improved from 0.29290 to 0.28485, saving model to poids.hdf5\n",
            "Epoch 49/100\n",
            "30/30 [==============================] - 7s 246ms/step - loss: 0.3869 - mae: 0.7914\n",
            "\n",
            "Epoch 00049: loss improved from 0.28485 to 0.27816, saving model to poids.hdf5\n",
            "Epoch 50/100\n",
            "30/30 [==============================] - 7s 244ms/step - loss: 0.3606 - mae: 0.7626\n",
            "\n",
            "Epoch 00050: loss improved from 0.27816 to 0.27329, saving model to poids.hdf5\n",
            "Epoch 51/100\n",
            "30/30 [==============================] - 7s 246ms/step - loss: 0.3374 - mae: 0.7368\n",
            "\n",
            "Epoch 00051: loss improved from 0.27329 to 0.27040, saving model to poids.hdf5\n",
            "Epoch 52/100\n",
            "30/30 [==============================] - 7s 246ms/step - loss: 0.3189 - mae: 0.7155\n",
            "\n",
            "Epoch 00052: loss improved from 0.27040 to 0.26927, saving model to poids.hdf5\n",
            "Epoch 53/100\n",
            "30/30 [==============================] - 7s 247ms/step - loss: 0.3059 - mae: 0.7003\n",
            "\n",
            "Epoch 00053: loss did not improve from 0.26927\n",
            "Epoch 54/100\n",
            "30/30 [==============================] - 7s 245ms/step - loss: 0.2990 - mae: 0.6923\n",
            "\n",
            "Epoch 00054: loss did not improve from 0.26927\n",
            "Epoch 55/100\n",
            "30/30 [==============================] - 7s 246ms/step - loss: 0.2980 - mae: 0.6919\n",
            "\n",
            "Epoch 00055: loss did not improve from 0.26927\n",
            "Epoch 56/100\n",
            "30/30 [==============================] - 7s 245ms/step - loss: 0.3024 - mae: 0.6984\n",
            "\n",
            "Epoch 00056: loss did not improve from 0.26927\n",
            "Epoch 57/100\n",
            "30/30 [==============================] - 7s 244ms/step - loss: 0.3111 - mae: 0.7107\n",
            "\n",
            "Epoch 00057: loss did not improve from 0.26927\n",
            "Epoch 58/100\n",
            "30/30 [==============================] - 7s 246ms/step - loss: 0.3236 - mae: 0.7281\n",
            "\n",
            "Epoch 00058: loss did not improve from 0.26927\n",
            "Epoch 59/100\n",
            "30/30 [==============================] - 7s 246ms/step - loss: 0.3404 - mae: 0.7507\n",
            "\n",
            "Epoch 00059: loss did not improve from 0.26927\n",
            "Epoch 60/100\n",
            "30/30 [==============================] - 7s 246ms/step - loss: 0.3625 - mae: 0.7797\n",
            "\n",
            "Epoch 00060: loss did not improve from 0.26927\n",
            "Epoch 61/100\n",
            "30/30 [==============================] - 7s 246ms/step - loss: 0.3914 - mae: 0.8162\n",
            "\n",
            "Epoch 00061: loss did not improve from 0.26927\n",
            "Epoch 62/100\n",
            "30/30 [==============================] - 7s 247ms/step - loss: 0.4286 - mae: 0.8612\n",
            "\n",
            "Epoch 00062: loss did not improve from 0.26927\n",
            "Epoch 63/100\n",
            "30/30 [==============================] - 7s 248ms/step - loss: 0.4748 - mae: 0.9146\n",
            "\n",
            "Epoch 00063: loss did not improve from 0.26927\n",
            "Epoch 64/100\n",
            "30/30 [==============================] - 7s 246ms/step - loss: 0.5292 - mae: 0.9749\n",
            "\n",
            "Epoch 00064: loss did not improve from 0.26927\n",
            "Epoch 65/100\n",
            "30/30 [==============================] - 7s 244ms/step - loss: 0.5926 - mae: 1.0425\n",
            "\n",
            "Epoch 00065: loss did not improve from 0.26927\n",
            "Epoch 66/100\n",
            "30/30 [==============================] - 7s 246ms/step - loss: 0.6700 - mae: 1.1228\n",
            "\n",
            "Epoch 00066: loss did not improve from 0.26927\n",
            "Epoch 67/100\n",
            "30/30 [==============================] - 7s 247ms/step - loss: 0.7665 - mae: 1.2215\n",
            "\n",
            "Epoch 00067: loss did not improve from 0.26927\n",
            "Epoch 68/100\n",
            "30/30 [==============================] - 7s 245ms/step - loss: 0.8677 - mae: 1.3239\n",
            "\n",
            "Epoch 00068: loss did not improve from 0.26927\n",
            "Epoch 69/100\n",
            "30/30 [==============================] - 7s 246ms/step - loss: 0.9116 - mae: 1.3568\n",
            "\n",
            "Epoch 00069: loss did not improve from 0.26927\n",
            "Epoch 70/100\n",
            "30/30 [==============================] - 7s 248ms/step - loss: 0.8154 - mae: 1.2426\n",
            "\n",
            "Epoch 00070: loss did not improve from 0.26927\n",
            "Epoch 71/100\n",
            "30/30 [==============================] - 7s 247ms/step - loss: 0.6514 - mae: 1.0575\n",
            "\n",
            "Epoch 00071: loss did not improve from 0.26927\n",
            "Epoch 72/100\n",
            "30/30 [==============================] - 7s 245ms/step - loss: 0.4852 - mae: 0.8981\n",
            "\n",
            "Epoch 00072: loss did not improve from 0.26927\n",
            "Epoch 73/100\n",
            "30/30 [==============================] - 7s 245ms/step - loss: 0.6375 - mae: 1.0589\n",
            "\n",
            "Epoch 00073: loss did not improve from 0.26927\n",
            "Epoch 74/100\n",
            "30/30 [==============================] - 7s 246ms/step - loss: 0.7558 - mae: 1.1962\n",
            "\n",
            "Epoch 00074: loss did not improve from 0.26927\n",
            "Epoch 75/100\n",
            "30/30 [==============================] - 7s 247ms/step - loss: 0.8318 - mae: 1.3001\n",
            "\n",
            "Epoch 00075: loss did not improve from 0.26927\n",
            "Epoch 76/100\n",
            "30/30 [==============================] - 7s 245ms/step - loss: 0.3323 - mae: 0.6896\n",
            "\n",
            "Epoch 00076: loss improved from 0.26927 to 0.25774, saving model to poids.hdf5\n",
            "Epoch 77/100\n",
            "30/30 [==============================] - 7s 247ms/step - loss: 0.7096 - mae: 1.1699\n",
            "\n",
            "Epoch 00077: loss did not improve from 0.25774\n",
            "Epoch 78/100\n",
            "30/30 [==============================] - 7s 247ms/step - loss: 0.6398 - mae: 1.0923\n",
            "\n",
            "Epoch 00078: loss did not improve from 0.25774\n",
            "Epoch 79/100\n",
            "30/30 [==============================] - 7s 245ms/step - loss: 0.8952 - mae: 1.3150\n",
            "\n",
            "Epoch 00079: loss did not improve from 0.25774\n",
            "Epoch 80/100\n",
            "30/30 [==============================] - 7s 246ms/step - loss: 0.4726 - mae: 0.8716\n",
            "\n",
            "Epoch 00080: loss did not improve from 0.25774\n",
            "Epoch 81/100\n",
            "30/30 [==============================] - 7s 246ms/step - loss: 1.1961 - mae: 1.6289\n",
            "\n",
            "Epoch 00081: loss did not improve from 0.25774\n",
            "Epoch 82/100\n",
            "30/30 [==============================] - 7s 245ms/step - loss: 1.8960 - mae: 2.3847\n",
            "\n",
            "Epoch 00082: loss did not improve from 0.25774\n",
            "Epoch 83/100\n",
            "30/30 [==============================] - 7s 247ms/step - loss: 1.0108 - mae: 1.4928\n",
            "\n",
            "Epoch 00083: loss did not improve from 0.25774\n",
            "Epoch 84/100\n",
            "30/30 [==============================] - 7s 247ms/step - loss: 2.3143 - mae: 2.8121\n",
            "\n",
            "Epoch 00084: loss did not improve from 0.25774\n",
            "Epoch 85/100\n",
            "30/30 [==============================] - 7s 246ms/step - loss: 2.3818 - mae: 2.8339\n",
            "\n",
            "Epoch 00085: loss did not improve from 0.25774\n",
            "Epoch 86/100\n",
            "30/30 [==============================] - 7s 247ms/step - loss: 2.4231 - mae: 2.8904\n",
            "\n",
            "Epoch 00086: loss did not improve from 0.25774\n",
            "Epoch 87/100\n",
            "30/30 [==============================] - 7s 247ms/step - loss: 3.2255 - mae: 3.6541\n",
            "\n",
            "Epoch 00087: loss did not improve from 0.25774\n",
            "Epoch 88/100\n",
            "30/30 [==============================] - 7s 246ms/step - loss: 4.3734 - mae: 4.8721\n",
            "\n",
            "Epoch 00088: loss did not improve from 0.25774\n",
            "Epoch 89/100\n",
            "30/30 [==============================] - 7s 246ms/step - loss: 4.2080 - mae: 4.6719\n",
            "\n",
            "Epoch 00089: loss did not improve from 0.25774\n",
            "Epoch 90/100\n",
            "30/30 [==============================] - 7s 245ms/step - loss: 4.0799 - mae: 4.5799\n",
            "\n",
            "Epoch 00090: loss did not improve from 0.25774\n",
            "Epoch 91/100\n",
            "30/30 [==============================] - 7s 246ms/step - loss: 9.2175 - mae: 9.7152\n",
            "\n",
            "Epoch 00091: loss did not improve from 0.25774\n",
            "Epoch 92/100\n",
            "30/30 [==============================] - 7s 246ms/step - loss: 5.8023 - mae: 6.2929\n",
            "\n",
            "Epoch 00092: loss did not improve from 0.25774\n",
            "Epoch 93/100\n",
            "30/30 [==============================] - 7s 245ms/step - loss: 7.6607 - mae: 8.1606\n",
            "\n",
            "Epoch 00093: loss did not improve from 0.25774\n",
            "Epoch 94/100\n",
            "30/30 [==============================] - 7s 248ms/step - loss: 9.9058 - mae: 10.4058\n",
            "\n",
            "Epoch 00094: loss did not improve from 0.25774\n",
            "Epoch 95/100\n",
            "30/30 [==============================] - 7s 247ms/step - loss: 12.5133 - mae: 13.0133\n",
            "\n",
            "Epoch 00095: loss did not improve from 0.25774\n",
            "Epoch 96/100\n",
            "30/30 [==============================] - 7s 246ms/step - loss: 15.9677 - mae: 16.4677\n",
            "\n",
            "Epoch 00096: loss did not improve from 0.25774\n",
            "Epoch 97/100\n",
            "30/30 [==============================] - 7s 247ms/step - loss: 20.1469 - mae: 20.6469\n",
            "\n",
            "Epoch 00097: loss did not improve from 0.25774\n",
            "Epoch 98/100\n",
            "30/30 [==============================] - 7s 245ms/step - loss: 25.5774 - mae: 26.0774\n",
            "\n",
            "Epoch 00098: loss did not improve from 0.25774\n",
            "Epoch 99/100\n",
            "30/30 [==============================] - 7s 246ms/step - loss: 32.2445 - mae: 32.7445\n",
            "\n",
            "Epoch 00099: loss did not improve from 0.25774\n",
            "Epoch 100/100\n",
            "30/30 [==============================] - 7s 246ms/step - loss: 40.8078 - mae: 41.3078\n",
            "\n",
            "Epoch 00100: loss did not improve from 0.25774\n"
          ],
          "name": "stdout"
        }
      ]
    },
    {
      "cell_type": "code",
      "metadata": {
        "id": "X6UF44BnpVtc",
        "outputId": "7da473fa-e049-4712-fb13-b53b3b214287",
        "colab": {
          "base_uri": "https://localhost:8080/",
          "height": 411
        }
      },
      "source": [
        "# Construit un vecteur avec les valeurs du taux d'apprentissage à chaque période \n",
        "taux = 1e-8*(10**(np.arange(100)/10))\n",
        "\n",
        "# Affiche l'erreur en fonction du taux d'apprentissage\n",
        "plt.figure(figsize=(10, 6))\n",
        "plt.semilogx(taux,historique.history[\"loss\"])\n",
        "plt.axis([ taux[0], taux[99], 0, 1])\n",
        "plt.title(\"Evolution de l'erreur en fonction du taux d'apprentissage\")"
      ],
      "execution_count": 8,
      "outputs": [
        {
          "output_type": "execute_result",
          "data": {
            "text/plain": [
              "Text(0.5, 1.0, \"Evolution de l'erreur en fonction du taux d'apprentissage\")"
            ]
          },
          "metadata": {
            "tags": []
          },
          "execution_count": 8
        },
        {
          "output_type": "display_data",
          "data": {
            "image/png": "[encoded data removed]",
            "text/plain": [
              "<Figure size 720x432 with 1 Axes>"
            ]
          },
          "metadata": {
            "tags": [],
            "needs_background": "light"
          }
        }
      ]
    },
    {
      "cell_type": "code",
      "metadata": {
        "id": "sLGfH1jGpbkT"
      },
      "source": [
        "# Charge les meilleurs poids\n",
        "model.load_weights(\"poids.hdf5\")"
      ],
      "execution_count": 9,
      "outputs": []
    },
    {
      "cell_type": "code",
      "metadata": {
        "id": "4VsRDR-8pery",
        "outputId": "18b00bcc-954d-4a22-c955-c2fa58952040",
        "colab": {
          "base_uri": "https://localhost:8080/",
          "height": 1000
        }
      },
      "source": [
        "from timeit import default_timer as timer\n",
        "\n",
        "class TimingCallback(keras.callbacks.Callback):\n",
        "    def __init__(self, logs={}):\n",
        "        self.logs=[]\n",
        "    def on_epoch_begin(self, epoch, logs={}):\n",
        "        self.starttime = timer()\n",
        "    def on_epoch_end(self, epoch, logs={}):\n",
        "        self.logs.append(timer()-self.starttime)\n",
        "\n",
        "\n",
        "cb = TimingCallback()\n",
        "\n",
        "# Définition des paramètres liés à l'évolution du taux d'apprentissage\n",
        "lr_schedule = tf.keras.optimizers.schedules.InverseTimeDecay(\n",
        "    initial_learning_rate=0.001,\n",
        "    decay_steps=10,\n",
        "    decay_rate=0.05\n",
        "    )\n",
        "\n",
        "# Définition de l'optimiseur à utiliser\n",
        "optimiseur=tf.keras.optimizers.SGD(learning_rate=lr_schedule,momentum=0.9)\n",
        "\n",
        "\n",
        "# Utilisation de la méthode ModelCheckPoint\n",
        "CheckPoint = tf.keras.callbacks.ModelCheckpoint(\"poids_train.hdf5\", monitor='loss', verbose=1, save_best_only=True, save_weights_only = True, mode='auto', save_freq='epoch')\n",
        "\n",
        "# Compile le modèle\n",
        "model.compile(loss=tf.keras.losses.Huber(), optimizer=optimiseur,metrics=\"mae\")\n",
        "\n",
        "# Entraine le modèle\n",
        "historique = model.fit(dataset_norm,validation_data=dataset_Val_norm, epochs=500,verbose=1, callbacks=[CheckPoint,cb])\n",
        "\n",
        "print(cb.logs)\n",
        "print(sum(cb.logs))"
      ],
      "execution_count": 13,
      "outputs": [
        {
          "output_type": "stream",
          "text": [
            "Epoch 1/500\n",
            "30/30 [==============================] - 333s 2s/step - loss: 0.5994 - mae: 1.0270 - val_loss: 0.7995 - val_mae: 1.2868\n",
            "\n",
            "Epoch 00001: loss improved from inf to 0.36373, saving model to poids_train.hdf5\n",
            "Epoch 2/500\n",
            "30/30 [==============================] - 8s 283ms/step - loss: 0.4922 - mae: 0.9072 - val_loss: 0.8972 - val_mae: 1.3909\n",
            "\n",
            "Epoch 00002: loss improved from 0.36373 to 0.31636, saving model to poids_train.hdf5\n",
            "Epoch 3/500\n",
            "30/30 [==============================] - 8s 280ms/step - loss: 0.4272 - mae: 0.8358 - val_loss: 0.9620 - val_mae: 1.4583\n",
            "\n",
            "Epoch 00003: loss improved from 0.31636 to 0.29149, saving model to poids_train.hdf5\n",
            "Epoch 4/500\n",
            "30/30 [==============================] - 8s 279ms/step - loss: 0.3881 - mae: 0.7926 - val_loss: 1.0059 - val_mae: 1.5034\n",
            "\n",
            "Epoch 00004: loss improved from 0.29149 to 0.27843, saving model to poids_train.hdf5\n",
            "Epoch 5/500\n",
            "30/30 [==============================] - 8s 278ms/step - loss: 0.3632 - mae: 0.7648 - val_loss: 1.0367 - val_mae: 1.5348\n",
            "\n",
            "Epoch 00005: loss improved from 0.27843 to 0.27114, saving model to poids_train.hdf5\n",
            "Epoch 6/500\n",
            "30/30 [==============================] - 8s 279ms/step - loss: 0.3466 - mae: 0.7457 - val_loss: 1.0590 - val_mae: 1.5574\n",
            "\n",
            "Epoch 00006: loss improved from 0.27114 to 0.26680, saving model to poids_train.hdf5\n",
            "Epoch 7/500\n",
            "30/30 [==============================] - 8s 279ms/step - loss: 0.3349 - mae: 0.7321 - val_loss: 1.0756 - val_mae: 1.5743\n",
            "\n",
            "Epoch 00007: loss improved from 0.26680 to 0.26406, saving model to poids_train.hdf5\n",
            "Epoch 8/500\n",
            "30/30 [==============================] - 8s 279ms/step - loss: 0.3265 - mae: 0.7221 - val_loss: 1.0882 - val_mae: 1.5871\n",
            "\n",
            "Epoch 00008: loss improved from 0.26406 to 0.26223, saving model to poids_train.hdf5\n",
            "Epoch 9/500\n",
            "30/30 [==============================] - 8s 280ms/step - loss: 0.3201 - mae: 0.7145 - val_loss: 1.0981 - val_mae: 1.5971\n",
            "\n",
            "Epoch 00009: loss improved from 0.26223 to 0.26096, saving model to poids_train.hdf5\n",
            "Epoch 10/500\n",
            "30/30 [==============================] - 8s 278ms/step - loss: 0.3152 - mae: 0.7086 - val_loss: 1.1060 - val_mae: 1.6051\n",
            "\n",
            "Epoch 00010: loss improved from 0.26096 to 0.26004, saving model to poids_train.hdf5\n",
            "Epoch 11/500\n",
            "30/30 [==============================] - 8s 279ms/step - loss: 0.3114 - mae: 0.7039 - val_loss: 1.1123 - val_mae: 1.6115\n",
            "\n",
            "Epoch 00011: loss improved from 0.26004 to 0.25935, saving model to poids_train.hdf5\n",
            "Epoch 12/500\n",
            "30/30 [==============================] - 8s 277ms/step - loss: 0.3083 - mae: 0.7001 - val_loss: 1.1175 - val_mae: 1.6167\n",
            "\n",
            "Epoch 00012: loss improved from 0.25935 to 0.25882, saving model to poids_train.hdf5\n",
            "Epoch 13/500\n",
            "30/30 [==============================] - 8s 281ms/step - loss: 0.3058 - mae: 0.6971 - val_loss: 1.1218 - val_mae: 1.6210\n",
            "\n",
            "Epoch 00013: loss improved from 0.25882 to 0.25841, saving model to poids_train.hdf5\n",
            "Epoch 14/500\n",
            "30/30 [==============================] - 8s 278ms/step - loss: 0.3037 - mae: 0.6945 - val_loss: 1.1254 - val_mae: 1.6246\n",
            "\n",
            "Epoch 00014: loss improved from 0.25841 to 0.25808, saving model to poids_train.hdf5\n",
            "Epoch 15/500\n",
            "30/30 [==============================] - 8s 279ms/step - loss: 0.3020 - mae: 0.6923 - val_loss: 1.1284 - val_mae: 1.6277\n",
            "\n",
            "Epoch 00015: loss improved from 0.25808 to 0.25780, saving model to poids_train.hdf5\n",
            "Epoch 16/500\n",
            "30/30 [==============================] - 8s 279ms/step - loss: 0.3005 - mae: 0.6905 - val_loss: 1.1310 - val_mae: 1.6303\n",
            "\n",
            "Epoch 00016: loss improved from 0.25780 to 0.25757, saving model to poids_train.hdf5\n",
            "Epoch 17/500\n",
            "30/30 [==============================] - 8s 279ms/step - loss: 0.2993 - mae: 0.6889 - val_loss: 1.1332 - val_mae: 1.6325\n",
            "\n",
            "Epoch 00017: loss improved from 0.25757 to 0.25738, saving model to poids_train.hdf5\n",
            "Epoch 18/500\n",
            "30/30 [==============================] - 8s 276ms/step - loss: 0.2982 - mae: 0.6876 - val_loss: 1.1351 - val_mae: 1.6344\n",
            "\n",
            "Epoch 00018: loss improved from 0.25738 to 0.25721, saving model to poids_train.hdf5\n",
            "Epoch 19/500\n",
            "30/30 [==============================] - 8s 278ms/step - loss: 0.2973 - mae: 0.6864 - val_loss: 1.1367 - val_mae: 1.6361\n",
            "\n",
            "Epoch 00019: loss improved from 0.25721 to 0.25707, saving model to poids_train.hdf5\n",
            "Epoch 20/500\n",
            "30/30 [==============================] - 8s 278ms/step - loss: 0.2965 - mae: 0.6854 - val_loss: 1.1382 - val_mae: 1.6376\n",
            "\n",
            "Epoch 00020: loss improved from 0.25707 to 0.25695, saving model to poids_train.hdf5\n",
            "Epoch 21/500\n",
            "30/30 [==============================] - 8s 279ms/step - loss: 0.2958 - mae: 0.6845 - val_loss: 1.1395 - val_mae: 1.6389\n",
            "\n",
            "Epoch 00021: loss improved from 0.25695 to 0.25684, saving model to poids_train.hdf5\n",
            "Epoch 22/500\n",
            "30/30 [==============================] - 8s 279ms/step - loss: 0.2952 - mae: 0.6837 - val_loss: 1.1406 - val_mae: 1.6400\n",
            "\n",
            "Epoch 00022: loss improved from 0.25684 to 0.25674, saving model to poids_train.hdf5\n",
            "Epoch 23/500\n",
            "30/30 [==============================] - 8s 277ms/step - loss: 0.2947 - mae: 0.6830 - val_loss: 1.1416 - val_mae: 1.6410\n",
            "\n",
            "Epoch 00023: loss improved from 0.25674 to 0.25665, saving model to poids_train.hdf5\n",
            "Epoch 24/500\n",
            "30/30 [==============================] - 8s 277ms/step - loss: 0.2942 - mae: 0.6824 - val_loss: 1.1425 - val_mae: 1.6419\n",
            "\n",
            "Epoch 00024: loss improved from 0.25665 to 0.25657, saving model to poids_train.hdf5\n",
            "Epoch 25/500\n",
            "30/30 [==============================] - 8s 279ms/step - loss: 0.2937 - mae: 0.6819 - val_loss: 1.1433 - val_mae: 1.6427\n",
            "\n",
            "Epoch 00025: loss improved from 0.25657 to 0.25650, saving model to poids_train.hdf5\n",
            "Epoch 26/500\n",
            "30/30 [==============================] - 8s 279ms/step - loss: 0.2933 - mae: 0.6814 - val_loss: 1.1440 - val_mae: 1.6435\n",
            "\n",
            "Epoch 00026: loss improved from 0.25650 to 0.25643, saving model to poids_train.hdf5\n",
            "Epoch 27/500\n",
            "30/30 [==============================] - 8s 276ms/step - loss: 0.2930 - mae: 0.6809 - val_loss: 1.1447 - val_mae: 1.6441\n",
            "\n",
            "Epoch 00027: loss improved from 0.25643 to 0.25637, saving model to poids_train.hdf5\n",
            "Epoch 28/500\n",
            "30/30 [==============================] - 8s 277ms/step - loss: 0.2927 - mae: 0.6805 - val_loss: 1.1453 - val_mae: 1.6447\n",
            "\n",
            "Epoch 00028: loss improved from 0.25637 to 0.25631, saving model to poids_train.hdf5\n",
            "Epoch 29/500\n",
            "30/30 [==============================] - 8s 278ms/step - loss: 0.2924 - mae: 0.6801 - val_loss: 1.1458 - val_mae: 1.6453\n",
            "\n",
            "Epoch 00029: loss improved from 0.25631 to 0.25626, saving model to poids_train.hdf5\n",
            "Epoch 30/500\n",
            "30/30 [==============================] - 8s 277ms/step - loss: 0.2921 - mae: 0.6798 - val_loss: 1.1463 - val_mae: 1.6457\n",
            "\n",
            "Epoch 00030: loss improved from 0.25626 to 0.25622, saving model to poids_train.hdf5\n",
            "Epoch 31/500\n",
            "30/30 [==============================] - 8s 277ms/step - loss: 0.2919 - mae: 0.6795 - val_loss: 1.1467 - val_mae: 1.6462\n",
            "\n",
            "Epoch 00031: loss improved from 0.25622 to 0.25617, saving model to poids_train.hdf5\n",
            "Epoch 32/500\n",
            "30/30 [==============================] - 8s 278ms/step - loss: 0.2917 - mae: 0.6792 - val_loss: 1.1471 - val_mae: 1.6466\n",
            "\n",
            "Epoch 00032: loss improved from 0.25617 to 0.25613, saving model to poids_train.hdf5\n",
            "Epoch 33/500\n",
            "30/30 [==============================] - 8s 278ms/step - loss: 0.2915 - mae: 0.6789 - val_loss: 1.1475 - val_mae: 1.6470\n",
            "\n",
            "Epoch 00033: loss improved from 0.25613 to 0.25609, saving model to poids_train.hdf5\n",
            "Epoch 34/500\n",
            "30/30 [==============================] - 8s 283ms/step - loss: 0.2913 - mae: 0.6787 - val_loss: 1.1479 - val_mae: 1.6473\n",
            "\n",
            "Epoch 00034: loss improved from 0.25609 to 0.25605, saving model to poids_train.hdf5\n",
            "Epoch 35/500\n",
            "30/30 [==============================] - 8s 279ms/step - loss: 0.2911 - mae: 0.6784 - val_loss: 1.1482 - val_mae: 1.6477\n",
            "\n",
            "Epoch 00035: loss improved from 0.25605 to 0.25602, saving model to poids_train.hdf5\n",
            "Epoch 36/500\n",
            "30/30 [==============================] - 8s 279ms/step - loss: 0.2909 - mae: 0.6782 - val_loss: 1.1485 - val_mae: 1.6479\n",
            "\n",
            "Epoch 00036: loss improved from 0.25602 to 0.25599, saving model to poids_train.hdf5\n",
            "Epoch 37/500\n",
            "30/30 [==============================] - 8s 278ms/step - loss: 0.2908 - mae: 0.6780 - val_loss: 1.1488 - val_mae: 1.6482\n",
            "\n",
            "Epoch 00037: loss improved from 0.25599 to 0.25596, saving model to poids_train.hdf5\n",
            "Epoch 38/500\n",
            " 9/30 [========>.....................] - ETA: 5s - loss: 0.3891 - mae: 0.8272"
          ],
          "name": "stdout"
        },
        {
          "output_type": "error",
          "ename": "KeyboardInterrupt",
          "evalue": "ignored",
          "traceback": [
            "\u001b[0;31m---------------------------------------------------------------------------\u001b[0m",
            "\u001b[0;31mKeyboardInterrupt\u001b[0m                         Traceback (most recent call last)",
            "\u001b[0;32m<ipython-input-13-c9cfd5e201fd>\u001b[0m in \u001b[0;36m<module>\u001b[0;34m()\u001b[0m\n\u001b[1;32m     30\u001b[0m \u001b[0;34m\u001b[0m\u001b[0m\n\u001b[1;32m     31\u001b[0m \u001b[0;31m# Entraine le modèle\u001b[0m\u001b[0;34m\u001b[0m\u001b[0;34m\u001b[0m\u001b[0;34m\u001b[0m\u001b[0m\n\u001b[0;32m---> 32\u001b[0;31m \u001b[0mhistorique\u001b[0m \u001b[0;34m=\u001b[0m \u001b[0mmodel\u001b[0m\u001b[0;34m.\u001b[0m\u001b[0mfit\u001b[0m\u001b[0;34m(\u001b[0m\u001b[0mdataset_norm\u001b[0m\u001b[0;34m,\u001b[0m\u001b[0mvalidation_data\u001b[0m\u001b[0;34m=\u001b[0m\u001b[0mdataset_Val_norm\u001b[0m\u001b[0;34m,\u001b[0m \u001b[0mepochs\u001b[0m\u001b[0;34m=\u001b[0m\u001b[0;36m500\u001b[0m\u001b[0;34m,\u001b[0m\u001b[0mverbose\u001b[0m\u001b[0;34m=\u001b[0m\u001b[0;36m1\u001b[0m\u001b[0;34m,\u001b[0m \u001b[0mcallbacks\u001b[0m\u001b[0;34m=\u001b[0m\u001b[0;34m[\u001b[0m\u001b[0mCheckPoint\u001b[0m\u001b[0;34m,\u001b[0m\u001b[0mcb\u001b[0m\u001b[0;34m]\u001b[0m\u001b[0;34m)\u001b[0m\u001b[0;34m\u001b[0m\u001b[0;34m\u001b[0m\u001b[0m\n\u001b[0m\u001b[1;32m     33\u001b[0m \u001b[0;34m\u001b[0m\u001b[0m\n\u001b[1;32m     34\u001b[0m \u001b[0mprint\u001b[0m\u001b[0;34m(\u001b[0m\u001b[0mcb\u001b[0m\u001b[0;34m.\u001b[0m\u001b[0mlogs\u001b[0m\u001b[0;34m)\u001b[0m\u001b[0;34m\u001b[0m\u001b[0;34m\u001b[0m\u001b[0m\n",
            "\u001b[0;32m/usr/local/lib/python3.7/dist-packages/tensorflow/python/keras/engine/training.py\u001b[0m in \u001b[0;36mfit\u001b[0;34m(self, x, y, batch_size, epochs, verbose, callbacks, validation_split, validation_data, shuffle, class_weight, sample_weight, initial_epoch, steps_per_epoch, validation_steps, validation_batch_size, validation_freq, max_queue_size, workers, use_multiprocessing)\u001b[0m\n\u001b[1;32m   1098\u001b[0m                 _r=1):\n\u001b[1;32m   1099\u001b[0m               \u001b[0mcallbacks\u001b[0m\u001b[0;34m.\u001b[0m\u001b[0mon_train_batch_begin\u001b[0m\u001b[0;34m(\u001b[0m\u001b[0mstep\u001b[0m\u001b[0;34m)\u001b[0m\u001b[0;34m\u001b[0m\u001b[0;34m\u001b[0m\u001b[0m\n\u001b[0;32m-> 1100\u001b[0;31m               \u001b[0mtmp_logs\u001b[0m \u001b[0;34m=\u001b[0m \u001b[0mself\u001b[0m\u001b[0;34m.\u001b[0m\u001b[0mtrain_function\u001b[0m\u001b[0;34m(\u001b[0m\u001b[0miterator\u001b[0m\u001b[0;34m)\u001b[0m\u001b[0;34m\u001b[0m\u001b[0;34m\u001b[0m\u001b[0m\n\u001b[0m\u001b[1;32m   1101\u001b[0m               \u001b[0;32mif\u001b[0m \u001b[0mdata_handler\u001b[0m\u001b[0;34m.\u001b[0m\u001b[0mshould_sync\u001b[0m\u001b[0;34m:\u001b[0m\u001b[0;34m\u001b[0m\u001b[0;34m\u001b[0m\u001b[0m\n\u001b[1;32m   1102\u001b[0m                 \u001b[0mcontext\u001b[0m\u001b[0;34m.\u001b[0m\u001b[0masync_wait\u001b[0m\u001b[0;34m(\u001b[0m\u001b[0;34m)\u001b[0m\u001b[0;34m\u001b[0m\u001b[0;34m\u001b[0m\u001b[0m\n",
            "\u001b[0;32m/usr/local/lib/python3.7/dist-packages/tensorflow/python/eager/def_function.py\u001b[0m in \u001b[0;36m__call__\u001b[0;34m(self, *args, **kwds)\u001b[0m\n\u001b[1;32m    826\u001b[0m     \u001b[0mtracing_count\u001b[0m \u001b[0;34m=\u001b[0m \u001b[0mself\u001b[0m\u001b[0;34m.\u001b[0m\u001b[0mexperimental_get_tracing_count\u001b[0m\u001b[0;34m(\u001b[0m\u001b[0;34m)\u001b[0m\u001b[0;34m\u001b[0m\u001b[0;34m\u001b[0m\u001b[0m\n\u001b[1;32m    827\u001b[0m     \u001b[0;32mwith\u001b[0m \u001b[0mtrace\u001b[0m\u001b[0;34m.\u001b[0m\u001b[0mTrace\u001b[0m\u001b[0;34m(\u001b[0m\u001b[0mself\u001b[0m\u001b[0;34m.\u001b[0m\u001b[0m_name\u001b[0m\u001b[0;34m)\u001b[0m \u001b[0;32mas\u001b[0m \u001b[0mtm\u001b[0m\u001b[0;34m:\u001b[0m\u001b[0;34m\u001b[0m\u001b[0;34m\u001b[0m\u001b[0m\n\u001b[0;32m--> 828\u001b[0;31m       \u001b[0mresult\u001b[0m \u001b[0;34m=\u001b[0m \u001b[0mself\u001b[0m\u001b[0;34m.\u001b[0m\u001b[0m_call\u001b[0m\u001b[0;34m(\u001b[0m\u001b[0;34m*\u001b[0m\u001b[0margs\u001b[0m\u001b[0;34m,\u001b[0m \u001b[0;34m**\u001b[0m\u001b[0mkwds\u001b[0m\u001b[0;34m)\u001b[0m\u001b[0;34m\u001b[0m\u001b[0;34m\u001b[0m\u001b[0m\n\u001b[0m\u001b[1;32m    829\u001b[0m       \u001b[0mcompiler\u001b[0m \u001b[0;34m=\u001b[0m \u001b[0;34m\"xla\"\u001b[0m \u001b[0;32mif\u001b[0m \u001b[0mself\u001b[0m\u001b[0;34m.\u001b[0m\u001b[0m_experimental_compile\u001b[0m \u001b[0;32melse\u001b[0m \u001b[0;34m\"nonXla\"\u001b[0m\u001b[0;34m\u001b[0m\u001b[0;34m\u001b[0m\u001b[0m\n\u001b[1;32m    830\u001b[0m       \u001b[0mnew_tracing_count\u001b[0m \u001b[0;34m=\u001b[0m \u001b[0mself\u001b[0m\u001b[0;34m.\u001b[0m\u001b[0mexperimental_get_tracing_count\u001b[0m\u001b[0;34m(\u001b[0m\u001b[0;34m)\u001b[0m\u001b[0;34m\u001b[0m\u001b[0;34m\u001b[0m\u001b[0m\n",
            "\u001b[0;32m/usr/local/lib/python3.7/dist-packages/tensorflow/python/eager/def_function.py\u001b[0m in \u001b[0;36m_call\u001b[0;34m(self, *args, **kwds)\u001b[0m\n\u001b[1;32m    853\u001b[0m       \u001b[0;31m# In this case we have created variables on the first call, so we run the\u001b[0m\u001b[0;34m\u001b[0m\u001b[0;34m\u001b[0m\u001b[0;34m\u001b[0m\u001b[0m\n\u001b[1;32m    854\u001b[0m       \u001b[0;31m# defunned version which is guaranteed to never create variables.\u001b[0m\u001b[0;34m\u001b[0m\u001b[0;34m\u001b[0m\u001b[0;34m\u001b[0m\u001b[0m\n\u001b[0;32m--> 855\u001b[0;31m       \u001b[0;32mreturn\u001b[0m \u001b[0mself\u001b[0m\u001b[0;34m.\u001b[0m\u001b[0m_stateless_fn\u001b[0m\u001b[0;34m(\u001b[0m\u001b[0;34m*\u001b[0m\u001b[0margs\u001b[0m\u001b[0;34m,\u001b[0m \u001b[0;34m**\u001b[0m\u001b[0mkwds\u001b[0m\u001b[0;34m)\u001b[0m  \u001b[0;31m# pylint: disable=not-callable\u001b[0m\u001b[0;34m\u001b[0m\u001b[0;34m\u001b[0m\u001b[0m\n\u001b[0m\u001b[1;32m    856\u001b[0m     \u001b[0;32melif\u001b[0m \u001b[0mself\u001b[0m\u001b[0;34m.\u001b[0m\u001b[0m_stateful_fn\u001b[0m \u001b[0;32mis\u001b[0m \u001b[0;32mnot\u001b[0m \u001b[0;32mNone\u001b[0m\u001b[0;34m:\u001b[0m\u001b[0;34m\u001b[0m\u001b[0;34m\u001b[0m\u001b[0m\n\u001b[1;32m    857\u001b[0m       \u001b[0;31m# Release the lock early so that multiple threads can perform the call\u001b[0m\u001b[0;34m\u001b[0m\u001b[0;34m\u001b[0m\u001b[0;34m\u001b[0m\u001b[0m\n",
            "\u001b[0;32m/usr/local/lib/python3.7/dist-packages/tensorflow/python/eager/function.py\u001b[0m in \u001b[0;36m__call__\u001b[0;34m(self, *args, **kwargs)\u001b[0m\n\u001b[1;32m   2941\u001b[0m        filtered_flat_args) = self._maybe_define_function(args, kwargs)\n\u001b[1;32m   2942\u001b[0m     return graph_function._call_flat(\n\u001b[0;32m-> 2943\u001b[0;31m         filtered_flat_args, captured_inputs=graph_function.captured_inputs)  # pylint: disable=protected-access\n\u001b[0m\u001b[1;32m   2944\u001b[0m \u001b[0;34m\u001b[0m\u001b[0m\n\u001b[1;32m   2945\u001b[0m   \u001b[0;34m@\u001b[0m\u001b[0mproperty\u001b[0m\u001b[0;34m\u001b[0m\u001b[0;34m\u001b[0m\u001b[0m\n",
            "\u001b[0;32m/usr/local/lib/python3.7/dist-packages/tensorflow/python/eager/function.py\u001b[0m in \u001b[0;36m_call_flat\u001b[0;34m(self, args, captured_inputs, cancellation_manager)\u001b[0m\n\u001b[1;32m   1917\u001b[0m       \u001b[0;31m# No tape is watching; skip to running the function.\u001b[0m\u001b[0;34m\u001b[0m\u001b[0;34m\u001b[0m\u001b[0;34m\u001b[0m\u001b[0m\n\u001b[1;32m   1918\u001b[0m       return self._build_call_outputs(self._inference_function.call(\n\u001b[0;32m-> 1919\u001b[0;31m           ctx, args, cancellation_manager=cancellation_manager))\n\u001b[0m\u001b[1;32m   1920\u001b[0m     forward_backward = self._select_forward_and_backward_functions(\n\u001b[1;32m   1921\u001b[0m         \u001b[0margs\u001b[0m\u001b[0;34m,\u001b[0m\u001b[0;34m\u001b[0m\u001b[0;34m\u001b[0m\u001b[0m\n",
            "\u001b[0;32m/usr/local/lib/python3.7/dist-packages/tensorflow/python/eager/function.py\u001b[0m in \u001b[0;36mcall\u001b[0;34m(self, ctx, args, cancellation_manager)\u001b[0m\n\u001b[1;32m    558\u001b[0m               \u001b[0minputs\u001b[0m\u001b[0;34m=\u001b[0m\u001b[0margs\u001b[0m\u001b[0;34m,\u001b[0m\u001b[0;34m\u001b[0m\u001b[0;34m\u001b[0m\u001b[0m\n\u001b[1;32m    559\u001b[0m               \u001b[0mattrs\u001b[0m\u001b[0;34m=\u001b[0m\u001b[0mattrs\u001b[0m\u001b[0;34m,\u001b[0m\u001b[0;34m\u001b[0m\u001b[0;34m\u001b[0m\u001b[0m\n\u001b[0;32m--> 560\u001b[0;31m               ctx=ctx)\n\u001b[0m\u001b[1;32m    561\u001b[0m         \u001b[0;32melse\u001b[0m\u001b[0;34m:\u001b[0m\u001b[0;34m\u001b[0m\u001b[0;34m\u001b[0m\u001b[0m\n\u001b[1;32m    562\u001b[0m           outputs = execute.execute_with_cancellation(\n",
            "\u001b[0;32m/usr/local/lib/python3.7/dist-packages/tensorflow/python/eager/execute.py\u001b[0m in \u001b[0;36mquick_execute\u001b[0;34m(op_name, num_outputs, inputs, attrs, ctx, name)\u001b[0m\n\u001b[1;32m     58\u001b[0m     \u001b[0mctx\u001b[0m\u001b[0;34m.\u001b[0m\u001b[0mensure_initialized\u001b[0m\u001b[0;34m(\u001b[0m\u001b[0;34m)\u001b[0m\u001b[0;34m\u001b[0m\u001b[0;34m\u001b[0m\u001b[0m\n\u001b[1;32m     59\u001b[0m     tensors = pywrap_tfe.TFE_Py_Execute(ctx._handle, device_name, op_name,\n\u001b[0;32m---> 60\u001b[0;31m                                         inputs, attrs, num_outputs)\n\u001b[0m\u001b[1;32m     61\u001b[0m   \u001b[0;32mexcept\u001b[0m \u001b[0mcore\u001b[0m\u001b[0;34m.\u001b[0m\u001b[0m_NotOkStatusException\u001b[0m \u001b[0;32mas\u001b[0m \u001b[0me\u001b[0m\u001b[0;34m:\u001b[0m\u001b[0;34m\u001b[0m\u001b[0;34m\u001b[0m\u001b[0m\n\u001b[1;32m     62\u001b[0m     \u001b[0;32mif\u001b[0m \u001b[0mname\u001b[0m \u001b[0;32mis\u001b[0m \u001b[0;32mnot\u001b[0m \u001b[0;32mNone\u001b[0m\u001b[0;34m:\u001b[0m\u001b[0;34m\u001b[0m\u001b[0;34m\u001b[0m\u001b[0m\n",
            "\u001b[0;31mKeyboardInterrupt\u001b[0m: "
          ]
        }
      ]
    },
    {
      "cell_type": "code",
      "metadata": {
        "id": "UZsv4CMjucWS",
        "outputId": "9394615e-cd54-46fc-e0a3-99e347d25903",
        "colab": {
          "base_uri": "https://localhost:8080/",
          "height": 407
        }
      },
      "source": [
        "erreur_entrainement = historique.history[\"loss\"]\n",
        "erreur_validation = historique.history[\"val_loss\"]\n",
        "\n",
        "# Affiche l'erreur en fonction de la période\n",
        "plt.figure(figsize=(10, 6))\n",
        "plt.plot(np.arange(0,len(erreur_entrainement)),erreur_entrainement, label=\"Erreurs sur les entrainements\")\n",
        "plt.plot(np.arange(0,len(erreur_entrainement)),erreur_validation, label =\"Erreurs sur les validations\")\n",
        "plt.legend()\n",
        "\n",
        "plt.title(\"Evolution de l'erreur en fonction de la période\")"
      ],
      "execution_count": 11,
      "outputs": [
        {
          "output_type": "execute_result",
          "data": {
            "text/plain": [
              "Text(0.5, 1.0, \"Evolution de l'erreur en fonction de la période\")"
            ]
          },
          "metadata": {
            "tags": []
          },
          "execution_count": 11
        },
        {
          "output_type": "display_data",
          "data": {
            "image/png": "[encoded data removed]",
            "text/plain": [
              "<Figure size 720x432 with 1 Axes>"
            ]
          },
          "metadata": {
            "tags": [],
            "needs_background": "light"
          }
        }
      ]
    },
    {
      "cell_type": "markdown",
      "metadata": {
        "id": "vrveY5aRsnRe"
      },
      "source": [
        "**4. Prédictions**"
      ]
    },
    {
      "cell_type": "code",
      "metadata": {
        "id": "iPTggVTss0rt"
      },
      "source": [
        "taille_fenetre = 20\n",
        "\n",
        "# Création d'une liste vide pour recevoir les prédictions\n",
        "predictions = []\n",
        "\n",
        "# Calcul des prédiction pour chaque groupe de 20 valeurs consécutives de la série\n",
        "# dans l'intervalle de validation\n",
        "for t in temps[temps_separation:-taille_fenetre]:\n",
        "    X = np.reshape(Serie_Normalisee[t:t+taille_fenetre],(1,taille_fenetre))\n",
        "    predictions.append(model.predict(X))"
      ],
      "execution_count": null,
      "outputs": []
    },
    {
      "cell_type": "code",
      "metadata": {
        "id": "HYzyz6EMs72l"
      },
      "source": [
        "# Affiche la série et les prédictions\n",
        "plt.figure(figsize=(10, 6))\n",
        "affiche_serie(temps,serie,label=\"Série temporelle\")\n",
        "affiche_serie(temps[temps_separation+taille_fenetre:],np.asarray(predictions*std+mean)[:,0,0],label=\"Prédictions\")\n",
        "plt.title('Prédictions avec le modèle LSTMN')\n",
        "plt.show()\n",
        "\n",
        "# Zoom sur l'intervalle de validation\n",
        "plt.figure(figsize=(10, 6))\n",
        "affiche_serie(temps[temps_separation:],serie[temps_separation:],label=\"Série temporelle\")\n",
        "affiche_serie(temps[temps_separation+taille_fenetre:],np.asarray(predictions*std+mean)[:,0,0],label=\"Prédictions\")\n",
        "plt.title(\"Prédictions avec le modèle LSTMN (zoom sur l'intervalle de validation)\")\n",
        "plt.show()"
      ],
      "execution_count": null,
      "outputs": []
    },
    {
      "cell_type": "code",
      "metadata": {
        "id": "xZYKVb2Us-b_"
      },
      "source": [
        "# Calcule de l'erreur quadratique moyenne et de l'erreur absolue moyenne \n",
        "\n",
        "mae = tf.keras.metrics.mean_absolute_error(serie[temps_separation+taille_fenetre:],np.asarray(predictions*std+mean)[:,0,0]).numpy()\n",
        "mse = tf.keras.metrics.mean_squared_error(serie[temps_separation+taille_fenetre:],np.asarray(predictions*std+mean)[:,0,0]).numpy()\n",
        "\n",
        "print(mae)\n",
        "print(mse)"
      ],
      "execution_count": null,
      "outputs": []
    },
    {
      "cell_type": "markdown",
      "metadata": {
        "id": "5GP93ANo1XU3"
      },
      "source": [
        "# Création du modèle LSTMN multi-couches - Sans \"skip connections\""
      ]
    },
    {
      "cell_type": "markdown",
      "metadata": {
        "id": "-yFPByTxT_QW"
      },
      "source": [
        "La structure reste sensiblement la même qu'avant sauf que maintenant :\n",
        " - Les états cachés sont remontés en sortie vers la prochaine couche\n",
        " - L'attention dans les couches supérieures est calculée non plus à partir des valeurs d'entrées mais des anciens états cachés.\n",
        " - Il y a donc une nouvelle matrice de poids qui intervient dans le calcul de l'attention : Wl\n",
        " - Les matrices Wf, Wi, Wo et Wc changent également de dimension pour s'adapter à leurs vecteurs d'entrées qui sont maintenant les vecteurs cachés.   "
      ]
    },
    {
      "cell_type": "markdown",
      "metadata": {
        "id": "y_bvPbrY1XU4"
      },
      "source": [
        "<img src=\"https://github.com/AlexandreBourrieau/ML/blob/main/Carnets%20Jupyter/S%C3%A9ries%20temporelles/images/LSTMN_Calcul5.png?raw=true\" width=\"1200\"> "
      ]
    },
    {
      "cell_type": "markdown",
      "metadata": {
        "id": "uUMDw7lR1XU4"
      },
      "source": [
        "**1. Création de la multi-couche LSTMN**"
      ]
    },
    {
      "cell_type": "code",
      "metadata": {
        "id": "9_tVN9sG1XU5"
      },
      "source": [
        "# Classe Multi couche LSTMN\n",
        "\n",
        "# Importe le Backend de Keras\n",
        "from keras import backend as K\n",
        "\n",
        "# Définit une nouvelle classe personnelle LSTMN\n",
        "# https://arxiv.org/pdf/1601.06733.pdf\n",
        "\n",
        "\n",
        "# Dans les dimensions ci-dessous :\n",
        "# dimension de la série : dim_serie = 1\n",
        "# dimension des vecteurs internes LSTM : dim_LSTM = 40\n",
        "# batch_size = 32\n",
        "\n",
        "class Couche_LSTMN_Layers(tf.keras.layers.Layer):\n",
        "  # Fonction d'initialisation de la classe d'attention\n",
        "  def __init__(self,dim_LSTM,return_sequence = False):\n",
        "    self.dim_LSTM = dim_LSTM                # Dimension du vecteur d'attention\n",
        "    self.return_sequence = return_sequence  # Retourne l'ensemble des états cachés ?\n",
        "    super().__init__()                      # Appel du __init__() de la classe Layer\n",
        "  \n",
        "  def build(self,input_shape):\n",
        "    dim_serie = input_shape[2]\n",
        "    nbr_instants = input_shape[1]\n",
        "\n",
        "    # Paramètres de la forget gate :\n",
        "    # ##############################\n",
        "    # Matrices de poids Wf(40,40), Uf(40,40) et offset bf(40)\n",
        "    self.Wf = self.add_weight(shape=(self.dim_LSTM,self.dim_LSTM),initializer=\"normal\",name=\"Wf\",trainable=True)\n",
        "    self.Uf = self.add_weight(shape=(self.dim_LSTM,self.dim_LSTM),initializer=\"normal\",name=\"Uf\",trainable=True)\n",
        "    self.bf = self.add_weight(shape=(self.dim_LSTM,1),initializer=\"zeros\",name=\"bf\",trainable=True)\n",
        "\n",
        "    # Paramètres de l'input gate :\n",
        "    # ##############################\n",
        "    # Matrices de poids Wi(40,40), Ui(40,40) et offset bi(40)\n",
        "    self.Wi = self.add_weight(shape=(self.dim_LSTM,self.dim_LSTM),initializer=\"normal\",name=\"Wi\",trainable=True)\n",
        "    self.Ui = self.add_weight(shape=(self.dim_LSTM,self.dim_LSTM),initializer=\"normal\",name=\"Ui\",trainable=True)\n",
        "    self.bi = self.add_weight(shape=(self.dim_LSTM,1),initializer=\"zeros\",name=\"bi\",trainable=True)\n",
        "\n",
        "    # Paramètres de l'output gate :\n",
        "    # ##############################\n",
        "    # Matrices de poids Wo(40,40), Uo(40,40) et offset bo(40)\n",
        "    self.Wo = self.add_weight(shape=(self.dim_LSTM,self.dim_LSTM),initializer=\"normal\",name=\"Wo\",trainable=True)\n",
        "    self.Uo = self.add_weight(shape=(self.dim_LSTM,self.dim_LSTM),initializer=\"normal\",name=\"Uo\",trainable=True)\n",
        "    self.bo = self.add_weight(shape=(self.dim_LSTM,1),initializer=\"zeros\",name=\"bo\",trainable=True)\n",
        "\n",
        "    # Paramètres du cell vector :\n",
        "    # ##############################\n",
        "    # Matrices de poids Wc(40,40), Uc(40,40) et offset bc(40)\n",
        "    self.Wc = self.add_weight(shape=(self.dim_LSTM,self.dim_LSTM),initializer=\"normal\",name=\"Wc\",trainable=True)\n",
        "    self.Uc = self.add_weight(shape=(self.dim_LSTM,self.dim_LSTM),initializer=\"normal\",name=\"Uc\",trainable=True)\n",
        "    self.bc = self.add_weight(shape=(self.dim_LSTM,1),initializer=\"zeros\",name=\"bc\",trainable=True)\n",
        "\n",
        "    # Paramètres de l'attention :\n",
        "    # ###########################\n",
        "    # Matrices de poids Wh(40,40); Wl(40,40) et Wh_t(40,40)\n",
        "    self.Wh = self.add_weight(shape=(self.dim_LSTM,self.dim_LSTM),initializer=\"normal\",name=\"Wh\",trainable=True)\n",
        "    self.Wl = self.add_weight(shape=(self.dim_LSTM,self.dim_LSTM),initializer=\"normal\",name=\"Wl\",trainable=True)\n",
        "    self.Wh_t = self.add_weight(shape=(self.dim_LSTM,self.dim_LSTM),initializer=\"normal\",name=\"Wh_t\",trainable=True)\n",
        "\n",
        "    # Vecteur contexte :  v(1,40)\n",
        "    #############################\n",
        "    self.v = self.add_weight(shape=(dim_serie,self.dim_LSTM),initializer=\"normal\",name=\"v\",trainable=True)\n",
        "\n",
        "    # Memory tape : Ct    Liste[(40,1)]\n",
        "    # #################################\n",
        "    memory_tape = getattr(self, 'memory_tape', None)\n",
        "    if memory_tape is None:\n",
        "      memory_tape = []\n",
        "      memory_tape.append(tf.zeros(shape=(self.dim_LSTM,1)))         # Ct[0] = c0 = 0\n",
        "    self.memory_tape = memory_tape\n",
        "\n",
        "    # Hidden tape : Ht    Liste[(40,1)]\n",
        "    # #################################\n",
        "    hidden_tape = getattr(self, 'hidden_tape', None)\n",
        "    if hidden_tape is None:\n",
        "      hidden_tape = []\n",
        "      hidden_tape.append(tf.zeros(shape=(self.dim_LSTM,1)))         # Ht[0] = h0 = 0\n",
        "    self.hidden_tape = hidden_tape\n",
        "\n",
        "    # Vecteurs d'adaptation du Hidden state : Ht_t    Liste[(40,1)]\n",
        "    # #############################################################\n",
        "    hidden_t_tape = getattr(self, 'hidden_t_tape', None)\n",
        "    if hidden_t_tape is None:\n",
        "      hidden_t_tape = []\n",
        "      hidden_t_tape.append(tf.zeros(shape=(self.dim_LSTM,1)))       # Ht_t[0] = h0_t = 0\n",
        "    self.hidden_t_tape = hidden_t_tape\n",
        "\n",
        "    super().build(input_shape)        # Appel de la méthode build()\n",
        "\n",
        "  # Définit la logique de la couche LSTM\n",
        "  # Arguments :   x : Tenseur d'entrée de dimension (None, taille_fenetre,dim_LSTM,1)\n",
        "  def call(self,x):\n",
        "    # Charge les tables mémoires\n",
        "    Ct = self.memory_tape.copy()\n",
        "    Ht = self.hidden_tape.copy()\n",
        "    Ht_t = self.hidden_t_tape.copy()\n",
        "\n",
        "    for t in range(1,x.shape[1]+1):\n",
        "      xt = x[:,t-1,:,:]                         # (32,20,40,1)\n",
        "\n",
        "      # Calcul des poids d'attention\n",
        "      at_i = tf.zeros(shape=(x.shape[0],1,1))   # a0_0 = 0 (32,1,1)\n",
        "      for i in range(1,t):\n",
        "        at_ = tf.matmul(self.v,tf.keras.activations.tanh(tf.matmul(self.Wh,Ht[i]) + tf.matmul(self.Wl,xt) + tf.matmul(self.Wh_t,Ht_t[t-1])))\n",
        "        at_i = tf.concat([at_,at_i],axis=1)\n",
        "      if t > 1:\n",
        "        at_i = tf.slice(at_i,[0,0,0],[at_i.shape[0],at_i.shape[1]-1,at_i.shape[2]])\n",
        "\n",
        "      # Calcul des poids d'attention normalisés\n",
        "      st_i = tf.keras.activations.softmax(at_i,axis=1)        # (32,t,1)\n",
        "\n",
        "      # Calcul du vecteur d'adaptation ht_t\n",
        "      ht_t = tf.zeros(shape=(x.shape[0],self.dim_LSTM,1))                                       # h0_t = 0\n",
        "      for i in range(1,t):\n",
        "        ht_t = ht_t + tf.multiply(tf.expand_dims(st_i[:,i-1,:],axis=-1),Ht[i])      # (32,40,1)\n",
        "\n",
        "      # Calcul du vecteur d'adaptation ct_t\n",
        "      ct_t = tf.zeros(shape=(x.shape[0],self.dim_LSTM,1))                           # c0_t = 0\n",
        "      for i in range(1,t):\n",
        "        ct_t = ct_t + tf.multiply(tf.expand_dims(st_i[:,i-1,:],axis=-1),Ct[i])      # (32,40,1)\n",
        "      \n",
        "      # Calcul du vecteur d'activation de la forget gate à l'instant t\n",
        "      ft = tf.matmul(self.Wf,xt)                    # (40,1)x(32,1,1) = (32,40,1)\n",
        "      ft = ft + tf.matmul(self.Uf,ht_t)             # (40,40)x(32,40,1) = (32,40,1)\n",
        "      ft = ft + self.bf                             # (32,40,1) + (40,1) = (32,40,1)\n",
        "      ft = tf.keras.activations.sigmoid(ft) \n",
        "\n",
        "      # Calcul du vecteur d'activation de l'input gate à l'instant t\n",
        "      it = tf.matmul(self.Wi,xt)                    # (40,1)x(32,1,1) = (32,40,1)\n",
        "      it = it + tf.matmul(self.Ui,ht_t)             # (40,40)x(32,40,1) = (32,40,1)\n",
        "      it = it + self.bi                             # (32,40,1) + (40,1) = (32,40,1)\n",
        "      it = tf.keras.activations.sigmoid(it)\n",
        "\n",
        "      # Calcul du vecteur d'activation de l'output gate à l'instant t\n",
        "      ot = tf.matmul(self.Wo,xt)                    # (40,1)x(32,1,1) = (32,40,1)\n",
        "      ot = ot + tf.matmul(self.Uo,ht_t)             # (40,40)x(32,40,1) = (32,40,1)\n",
        "      ot = ot + self.bo                             # (32,40,1) + (40,1) = (32,40,1)\n",
        "      ot = tf.keras.activations.sigmoid(ot)\n",
        "\n",
        "      # Calcul du cell input activation vector à l'instant t\n",
        "      ct_h = tf.matmul(self.Wc,xt)                 # (40,1)x(32,1,1) = (32,40,1)\n",
        "      ct_h = ct_h + tf.matmul(self.Uc,ht_t)        # (40,40)x(32,40,1) = (32,40,1)\n",
        "      ct_h = ct_h + self.bc                        # (32,40,1) + (40,1) = (32,40,1)\n",
        "      ct_h = tf.keras.activations.tanh(ct_h)\n",
        "\n",
        "      # Calcul du cell state à l'instant t\n",
        "      ct = tf.multiply(ft,ct_t)                    # (32,40,1)\n",
        "      ct = ct + tf.multiply(it,ct_h)               # (32,40,1)\n",
        "      ht = tf.multiply(ot,tf.keras.activations.tanh(ct))\n",
        "\n",
        "      # Enregistre les vecteurs internes du temps courant\n",
        "      Ht.append(ht)                                 # Enregistre Ht[t] = ht\n",
        "      Ct.append(ct)                                 # Enregistre Ct[t] = ct\n",
        "      Ht_t.append(ht_t)                             # Enregistre Ht_t[t] = ht_t\n",
        "\n",
        "    # Enregistre les vecteurs internes du batch courant\n",
        "    for memory_tape_, memory_tape in zip(tf.nest.flatten(self.memory_tape),tf.nest.flatten(Ct)):\n",
        "      memory_tape_ = memory_tape\n",
        "    for hidden_tape_, hidden_tape in zip(tf.nest.flatten(self.hidden_tape),tf.nest.flatten(Ht)):\n",
        "      hidden_tape_ = hidden_tape\n",
        "    for hidden_t_tape_, hidden_t_tape in zip(tf.nest.flatten(self.hidden_t_tape),tf.nest.flatten(Ht_t)):\n",
        "      hidden_t_tape_ = hidden_t_tape\n",
        "\n",
        "    # Retourne le dernier hidden state ou l'ensemble des vecteurs\n",
        "    if self.return_sequence == False:\n",
        "      return tf.squeeze(ht,axis=-1)               # return (32,40)\n",
        "    else:\n",
        "      hidden_states = tf.zeros(shape=(x.shape[0],1,self.dim_LSTM,1))   # (32,1,40,1)\n",
        "      for i in range(0,x.shape[1]):\n",
        "        hidden_states = tf.concat([hidden_states,tf.expand_dims(Ht[i+1],axis=1)],axis=1)\n",
        "      hidden_states = tf.slice(hidden_states,[0,0,0,0],[hidden_states.shape[0],hidden_states.shape[1]-1,hidden_states.shape[2],hidden_states.shape[3]])\n",
        "      return hidden_states                        # return (32,20,40,1)\n"
      ],
      "execution_count": null,
      "outputs": []
    },
    {
      "cell_type": "markdown",
      "metadata": {
        "id": "nIVnvnym1XU6"
      },
      "source": [
        "**2. Création du modèle**"
      ]
    },
    {
      "cell_type": "code",
      "metadata": {
        "id": "Ieny0G8b1XU6"
      },
      "source": [
        "dim_LSTM = 40\n",
        "\n",
        "# Fonction de la couche lambda d'entrée\n",
        "def Traitement_Entrees(x):\n",
        "  return tf.expand_dims(x,axis=-1)\n",
        "\n",
        "model = tf.keras.models.Sequential()\n",
        "model.add(tf.keras.Input(shape=(taille_fenetre,), batch_size=batch_size))\n",
        "model.add(tf.keras.layers.Lambda(Traitement_Entrees))\n",
        "model.add(Couche_LSTMN(dim_LSTM=dim_LSTM,return_sequence=True))\n",
        "model.add(Couche_LSTMN_Layers(dim_LSTM=dim_LSTM,return_sequence=False))\n",
        "model.add(tf.keras.layers.Dense(1))\n",
        "\n",
        "model.save_weights('model_initial.h5')\n",
        "\n",
        "model.summary()"
      ],
      "execution_count": null,
      "outputs": []
    },
    {
      "cell_type": "markdown",
      "metadata": {
        "id": "koUv2Kyq1XU6"
      },
      "source": [
        "**3. Entrainement du modèle**"
      ]
    },
    {
      "cell_type": "code",
      "metadata": {
        "id": "F4Vny6yr1XU7"
      },
      "source": [
        "# Définition de la fonction de régulation du taux d'apprentissage\n",
        "def RegulationTauxApprentissage(periode, taux):\n",
        "  return 1e-8*10**(periode/10)\n",
        "\n",
        "# Définition de l'optimiseur à utiliser\n",
        "optimiseur=tf.keras.optimizers.SGD(lr=1e-8, momentum=0.9)\n",
        "\n",
        "# Utilisation de la méthode ModelCheckPoint\n",
        "CheckPoint = tf.keras.callbacks.ModelCheckpoint(\"poids.hdf5\", monitor='loss', verbose=1, save_best_only=True, save_weights_only = True, mode='auto', save_freq='epoch')\n",
        "\n",
        "# Compile le modèle\n",
        "model.compile(loss=tf.keras.losses.Huber(), optimizer=optimiseur, metrics=\"mae\")\n",
        "\n",
        "# Entraine le modèle en utilisant notre fonction personnelle de régulation du taux d'apprentissage\n",
        "historique = model.fit(dataset_norm,epochs=100,verbose=1, callbacks=[tf.keras.callbacks.LearningRateScheduler(RegulationTauxApprentissage), CheckPoint])"
      ],
      "execution_count": null,
      "outputs": []
    },
    {
      "cell_type": "code",
      "metadata": {
        "id": "3aaLeG6n1XU7"
      },
      "source": [
        "# Construit un vecteur avec les valeurs du taux d'apprentissage à chaque période \n",
        "taux = 1e-8*(10**(np.arange(100)/10))\n",
        "\n",
        "# Affiche l'erreur en fonction du taux d'apprentissage\n",
        "plt.figure(figsize=(10, 6))\n",
        "plt.semilogx(taux,historique.history[\"loss\"])\n",
        "plt.axis([ taux[0], taux[99], 0, 1])\n",
        "plt.title(\"Evolution de l'erreur en fonction du taux d'apprentissage\")"
      ],
      "execution_count": null,
      "outputs": []
    },
    {
      "cell_type": "code",
      "metadata": {
        "id": "sqaT3i5y1XU7"
      },
      "source": [
        "# Charge les meilleurs poids\n",
        "model.load_weights(\"poids.hdf5\")"
      ],
      "execution_count": null,
      "outputs": []
    },
    {
      "cell_type": "code",
      "metadata": {
        "id": "NiXDVmvC1XU8"
      },
      "source": [
        "from timeit import default_timer as timer\n",
        "\n",
        "class TimingCallback(keras.callbacks.Callback):\n",
        "    def __init__(self, logs={}):\n",
        "        self.logs=[]\n",
        "    def on_epoch_begin(self, epoch, logs={}):\n",
        "        self.starttime = timer()\n",
        "    def on_epoch_end(self, epoch, logs={}):\n",
        "        self.logs.append(timer()-self.starttime)\n",
        "\n",
        "\n",
        "cb = TimingCallback()\n",
        "\n",
        "# Définition de l'optimiseur à utiliser\n",
        "optimiseur=tf.keras.optimizers.SGD(lr=7e-2,momentum=0.9)\n",
        "\n",
        "\n",
        "\n",
        "# Utilisation de la méthode ModelCheckPoint\n",
        "CheckPoint = tf.keras.callbacks.ModelCheckpoint(\"poids_train.hdf5\", monitor='loss', verbose=1, save_best_only=True, save_weights_only = True, mode='auto', save_freq='epoch')\n",
        "\n",
        "# Compile le modèle\n",
        "model.compile(loss=tf.keras.losses.Huber(), optimizer=optimiseur,metrics=\"mae\")\n",
        "\n",
        "# Entraine le modèle\n",
        "historique = model.fit(dataset_norm,validation_data=dataset_Val_norm, epochs=500,verbose=1, callbacks=[CheckPoint,cb])\n",
        "\n",
        "print(cb.logs)\n",
        "print(sum(cb.logs))"
      ],
      "execution_count": null,
      "outputs": []
    },
    {
      "cell_type": "code",
      "metadata": {
        "id": "X38GhBRL1XU8"
      },
      "source": [
        "erreur_entrainement = historique.history[\"loss\"]\n",
        "erreur_validation = historique.history[\"val_loss\"]\n",
        "\n",
        "# Affiche l'erreur en fonction de la période\n",
        "plt.figure(figsize=(10, 6))\n",
        "plt.plot(np.arange(0,len(erreur_entrainement)),erreur_entrainement, label=\"Erreurs sur les entrainements\")\n",
        "plt.plot(np.arange(0,len(erreur_entrainement)),erreur_validation, label =\"Erreurs sur les validations\")\n",
        "plt.legend()\n",
        "\n",
        "plt.title(\"Evolution de l'erreur en fonction de la période\")"
      ],
      "execution_count": null,
      "outputs": []
    },
    {
      "cell_type": "markdown",
      "metadata": {
        "id": "vHjPHr3O1XU8"
      },
      "source": [
        "**4. Prédictions**"
      ]
    },
    {
      "cell_type": "code",
      "metadata": {
        "id": "IegVdqzG1XU8"
      },
      "source": [
        "# Charge les meilleurs poids\n",
        "model.load_weights(\"poids_train.hdf5\")"
      ],
      "execution_count": null,
      "outputs": []
    },
    {
      "cell_type": "code",
      "metadata": {
        "id": "RnEm_JTa1XU9"
      },
      "source": [
        "taille_fenetre = 20\n",
        "\n",
        "# Création d'une liste vide pour recevoir les prédictions\n",
        "predictions = []\n",
        "\n",
        "# Calcul des prédiction pour chaque groupe de 20 valeurs consécutives de la série\n",
        "# dans l'intervalle de validation\n",
        "for t in temps[temps_separation:-taille_fenetre]:\n",
        "    X = np.reshape(Serie_Normalisee[t:t+taille_fenetre],(1,taille_fenetre))\n",
        "    predictions.append(model.predict(X))"
      ],
      "execution_count": null,
      "outputs": []
    },
    {
      "cell_type": "code",
      "metadata": {
        "id": "PZ0qtxwp1XU9"
      },
      "source": [
        "# Affiche la série et les prédictions\n",
        "plt.figure(figsize=(10, 6))\n",
        "affiche_serie(temps,serie,label=\"Série temporelle\")\n",
        "affiche_serie(temps[temps_separation+taille_fenetre:],np.asarray(predictions*std+mean)[:,0,0],label=\"Prédictions\")\n",
        "plt.title('Prédictions avec le modèle LSTMN')\n",
        "plt.show()\n",
        "\n",
        "# Zoom sur l'intervalle de validation\n",
        "plt.figure(figsize=(10, 6))\n",
        "affiche_serie(temps[temps_separation:],serie[temps_separation:],label=\"Série temporelle\")\n",
        "affiche_serie(temps[temps_separation+taille_fenetre:],np.asarray(predictions*std+mean)[:,0,0],label=\"Prédictions\")\n",
        "plt.title(\"Prédictions avec le modèle LSTMN (zoom sur l'intervalle de validation)\")\n",
        "plt.show()"
      ],
      "execution_count": null,
      "outputs": []
    },
    {
      "cell_type": "code",
      "metadata": {
        "id": "hHu47KqE1XU9"
      },
      "source": [
        "# Calcule de l'erreur quadratique moyenne et de l'erreur absolue moyenne \n",
        "\n",
        "mae = tf.keras.metrics.mean_absolute_error(serie[temps_separation+taille_fenetre:],np.asarray(predictions*std+mean)[:,0,0]).numpy()\n",
        "mse = tf.keras.metrics.mean_squared_error(serie[temps_separation+taille_fenetre:],np.asarray(predictions*std+mean)[:,0,0]).numpy()\n",
        "\n",
        "print(mae)\n",
        "print(mse)"
      ],
      "execution_count": null,
      "outputs": []
    },
    {
      "cell_type": "markdown",
      "metadata": {
        "id": "ilDkJ-4iKeFb"
      },
      "source": [
        "# Création du modèle LSTMN multi-couches - Avec \"skip connections\""
      ]
    },
    {
      "cell_type": "markdown",
      "metadata": {
        "id": "jIeIOTc5KeFl"
      },
      "source": [
        "La structure reste sensiblement la même qu'avant sauf que maintenant :\n",
        " - Les états cachés sont remontés en sortie vers la prochaine couche\n",
        " - L'attention dans les couches supérieures est calculée non plus à partir des valeurs d'entrées mais des anciens états cachés.\n",
        " - Il y a donc une nouvelle matrice de poids qui intervient dans le calcul de l'attention : Wl\n",
        " - Les vecteurs internes des couches intermédiaires sont calculés à partir des entrées X, qui sont donc remontées également sur ces couches. Les couches intermédiaires sont donc à deux entrées."
      ]
    },
    {
      "cell_type": "markdown",
      "metadata": {
        "id": "8DegQ3xpKeFm"
      },
      "source": [
        "<img src=\"https://github.com/AlexandreBourrieau/ML/blob/main/Carnets%20Jupyter/S%C3%A9ries%20temporelles/images/LSTMN_Calcul6.png?raw=true\" width=\"1200\"> "
      ]
    },
    {
      "cell_type": "markdown",
      "metadata": {
        "id": "U5rH9LfLKeFm"
      },
      "source": [
        "**1. Création de la multi-couche LSTMN**"
      ]
    },
    {
      "cell_type": "code",
      "metadata": {
        "id": "uUEKGBnYKeFn"
      },
      "source": [
        "# Classe Multi couche LSTMN\n",
        "\n",
        "# Importe le Backend de Keras\n",
        "from keras import backend as K\n",
        "\n",
        "# Définit une nouvelle classe personnelle LSTMN\n",
        "# https://arxiv.org/pdf/1601.06733.pdf\n",
        "\n",
        "\n",
        "# Dans les dimensions ci-dessous :\n",
        "# dimension de la série : dim_serie = 1\n",
        "# dimension des vecteurs internes LSTM : dim_LSTM = 40\n",
        "# batch_size = 32\n",
        "\n",
        "class Couche_LSTMN_Layers(tf.keras.layers.Layer):\n",
        "  # Fonction d'initialisation de la classe d'attention\n",
        "  def __init__(self,dim_LSTM,return_sequence = False):\n",
        "    self.dim_LSTM = dim_LSTM                # Dimension du vecteur d'attention\n",
        "    self.return_sequence = return_sequence  # Retourne l'ensemble des états cachés ?\n",
        "    super().__init__()                      # Appel du __init__() de la classe Layer\n",
        "  \n",
        "\n",
        "  # input_shape :   x : Tenseur d'entrée de dimension (None, taille_fenetre,dim_serie)\n",
        "  #                              \n",
        "  def build(self,input_shape):\n",
        "    dim_serie = input_shape[2]\n",
        "    nbr_instants = input_shape[1]\n",
        "\n",
        "    # Paramètres de la forget gate :\n",
        "    # ##############################\n",
        "    # Matrices de poids Wf(40,1), Uf(40,40) et offset bf(40)\n",
        "    self.Wf = self.add_weight(shape=(self.dim_LSTM,dim_serie),initializer=\"normal\",name=\"Wf\",trainable=True)\n",
        "    self.Uf = self.add_weight(shape=(self.dim_LSTM,self.dim_LSTM),initializer=\"normal\",name=\"Uf\",trainable=True)\n",
        "    self.bf = self.add_weight(shape=(self.dim_LSTM,1),initializer=\"zeros\",name=\"bf\",trainable=True)\n",
        "\n",
        "    # Paramètres de l'input gate :\n",
        "    # ##############################\n",
        "    # Matrices de poids Wi(40,1), Ui(40,40) et offset bi(40)\n",
        "    self.Wi = self.add_weight(shape=(self.dim_LSTM,dim_serie),initializer=\"normal\",name=\"Wi\",trainable=True)\n",
        "    self.Ui = self.add_weight(shape=(self.dim_LSTM,self.dim_LSTM),initializer=\"normal\",name=\"Ui\",trainable=True)\n",
        "    self.bi = self.add_weight(shape=(self.dim_LSTM,1),initializer=\"zeros\",name=\"bi\",trainable=True)\n",
        "\n",
        "    # Paramètres de l'output gate :\n",
        "    # ##############################\n",
        "    # Matrices de poids Wo(40,1), Uo(40,40) et offset bo(40)\n",
        "    self.Wo = self.add_weight(shape=(self.dim_LSTM,dim_serie),initializer=\"normal\",name=\"Wo\",trainable=True)\n",
        "    self.Uo = self.add_weight(shape=(self.dim_LSTM,self.dim_LSTM),initializer=\"normal\",name=\"Uo\",trainable=True)\n",
        "    self.bo = self.add_weight(shape=(self.dim_LSTM,1),initializer=\"zeros\",name=\"bo\",trainable=True)\n",
        "\n",
        "    # Paramètres du cell vector :\n",
        "    # ##############################\n",
        "    # Matrices de poids Wc(40,1), Uc(40,40) et offset bc(40)\n",
        "    self.Wc = self.add_weight(shape=(self.dim_LSTM,dim_serie),initializer=\"normal\",name=\"Wc\",trainable=True)\n",
        "    self.Uc = self.add_weight(shape=(self.dim_LSTM,self.dim_LSTM),initializer=\"normal\",name=\"Uc\",trainable=True)\n",
        "    self.bc = self.add_weight(shape=(self.dim_LSTM,1),initializer=\"zeros\",name=\"bc\",trainable=True)\n",
        "\n",
        "    # Paramètres de l'attention :\n",
        "    # ###########################\n",
        "    # Matrices de poids Wh(40,40); Wl(40,40) et Wh_t(40,40)\n",
        "    self.Wh = self.add_weight(shape=(self.dim_LSTM,self.dim_LSTM),initializer=\"normal\",name=\"Wh\",trainable=True)\n",
        "    self.Wl = self.add_weight(shape=(self.dim_LSTM,self.dim_LSTM),initializer=\"normal\",name=\"Wl\",trainable=True)\n",
        "    self.Wh_t = self.add_weight(shape=(self.dim_LSTM,self.dim_LSTM),initializer=\"normal\",name=\"Wh_t\",trainable=True)\n",
        "\n",
        "    # Vecteur contexte :  v(1,40)\n",
        "    #############################\n",
        "    self.v = self.add_weight(shape=(dim_serie,self.dim_LSTM),initializer=\"normal\",name=\"v\",trainable=True)\n",
        "\n",
        "    # Memory tape : Ct    Liste[(40,1)]\n",
        "    # #################################\n",
        "    memory_tape = getattr(self, 'memory_tape', None)\n",
        "    if memory_tape is None:\n",
        "      memory_tape = []\n",
        "      memory_tape.append(tf.zeros(shape=(self.dim_LSTM,1)))         # Ct[0] = c0 = 0\n",
        "    self.memory_tape = memory_tape\n",
        "\n",
        "    # Hidden tape : Ht    Liste[(40,1)]\n",
        "    # #################################\n",
        "    hidden_tape = getattr(self, 'hidden_tape', None)\n",
        "    if hidden_tape is None:\n",
        "      hidden_tape = []\n",
        "      hidden_tape.append(tf.zeros(shape=(self.dim_LSTM,1)))         # Ht[0] = h0 = 0\n",
        "    self.hidden_tape = hidden_tape\n",
        "\n",
        "    # Vecteurs d'adaptation du Hidden state : Ht_t    Liste[(40,1)]\n",
        "    # #############################################################\n",
        "    hidden_t_tape = getattr(self, 'hidden_t_tape', None)\n",
        "    if hidden_t_tape is None:\n",
        "      hidden_t_tape = []\n",
        "      hidden_t_tape.append(tf.zeros(shape=(self.dim_LSTM,1)))       # Ht_t[0] = h0_t = 0\n",
        "    self.hidden_t_tape = hidden_t_tape\n",
        "\n",
        "    super().build(input_shape)        # Appel de la méthode build()\n",
        "\n",
        "  # Définit la logique de la couche LSTM\n",
        "  # Arguments :   X : Tenseur d'entrée de dimension (None, taille_fenetre,dim_serie)\n",
        "  #               H : Tenseur des vecteurs cachés de la couche précédente (None,taille_fenetre,dim_LSTM,1)\n",
        "  def call(self,X,H):\n",
        "    # Charge les tables mémoires\n",
        "    Ct = self.memory_tape.copy()\n",
        "    Ht = self.hidden_tape.copy()\n",
        "    Ht_t = self.hidden_t_tape.copy()\n",
        "\n",
        "    for t in range(1,x.shape[1]+1):\n",
        "      xt = X[:,t-1,:]                      # (32,1)\n",
        "      xt = tf.expand_dims(xt,axis=-1)      # (32,1,1)\n",
        "      h = H[:,t-1,:,:]                     # (32,40,1)\n",
        "\n",
        "      # Calcul des poids d'attention avec les vecteurs cachés de la couche précédente\n",
        "      at_i = tf.zeros(shape=(x.shape[0],1,1))   # a0_0 = 0 (32,1,1)\n",
        "      for i in range(1,t):\n",
        "        at_ = tf.matmul(self.v,tf.keras.activations.tanh(tf.matmul(self.Wh,Ht[i]) + tf.matmul(self.Wl,h) + tf.matmul(self.Wh_t,Ht_t[t-1])))\n",
        "        at_i = tf.concat([at_,at_i],axis=1)\n",
        "      if t > 1:\n",
        "        at_i = tf.slice(at_i,[0,0,0],[at_i.shape[0],at_i.shape[1]-1,at_i.shape[2]])\n",
        "\n",
        "      # Calcul des poids d'attention normalisés\n",
        "      st_i = tf.keras.activations.softmax(at_i,axis=1)        # (32,t,1)\n",
        "\n",
        "      # Calcul du vecteur d'adaptation ht_t\n",
        "      ht_t = tf.zeros(shape=(x.shape[0],self.dim_LSTM,1))                                       # h0_t = 0\n",
        "      for i in range(1,t):\n",
        "        ht_t = ht_t + tf.multiply(tf.expand_dims(st_i[:,i-1,:],axis=-1),Ht[i])      # (32,40,1)\n",
        "\n",
        "      # Calcul du vecteur d'adaptation ct_t\n",
        "      ct_t = tf.zeros(shape=(x.shape[0],self.dim_LSTM,1))                           # c0_t = 0\n",
        "      for i in range(1,t):\n",
        "        ct_t = ct_t + tf.multiply(tf.expand_dims(st_i[:,i-1,:],axis=-1),Ct[i])      # (32,40,1)\n",
        "      \n",
        "      # Calcul du vecteur d'activation de la forget gate à l'instant t avec les entrées X\n",
        "      ft = tf.matmul(self.Wf,xt)                    # (40,1)x(32,1,1) = (32,40,1)\n",
        "      ft = ft + tf.matmul(self.Uf,ht_t)             # (40,40)x(32,40,1) = (32,40,1)\n",
        "      ft = ft + self.bf                             # (32,40,1) + (40,1) = (32,40,1)\n",
        "      ft = tf.keras.activations.sigmoid(ft) \n",
        "\n",
        "      # Calcul du vecteur d'activation de l'input gate à l'instant t avec les entrées X\n",
        "      it = tf.matmul(self.Wi,xt)                    # (40,1)x(32,1,1) = (32,40,1)\n",
        "      it = it + tf.matmul(self.Ui,ht_t)             # (40,40)x(32,40,1) = (32,40,1)\n",
        "      it = it + self.bi                             # (32,40,1) + (40,1) = (32,40,1)\n",
        "      it = tf.keras.activations.sigmoid(it)\n",
        "\n",
        "      # Calcul du vecteur d'activation de l'output gate à l'instant t avec les entrées X\n",
        "      ot = tf.matmul(self.Wo,xt)                    # (40,1)x(32,1,1) = (32,40,1)\n",
        "      ot = ot + tf.matmul(self.Uo,ht_t)             # (40,40)x(32,40,1) = (32,40,1)\n",
        "      ot = ot + self.bo                             # (32,40,1) + (40,1) = (32,40,1)\n",
        "      ot = tf.keras.activations.sigmoid(ot)\n",
        "\n",
        "      # Calcul du cell input activation vector à l'instant t avec les entrées X\n",
        "      ct_h = tf.matmul(self.Wc,xt)                 # (40,1)x(32,1,1) = (32,40,1)\n",
        "      ct_h = ct_h + tf.matmul(self.Uc,ht_t)        # (40,40)x(32,40,1) = (32,40,1)\n",
        "      ct_h = ct_h + self.bc                        # (32,40,1) + (40,1) = (32,40,1)\n",
        "      ct_h = tf.keras.activations.tanh(ct_h)\n",
        "\n",
        "      # Calcul du cell state à l'instant t avec les entrées X\n",
        "      ct = tf.multiply(ft,ct_t)                    # (32,40,1)\n",
        "      ct = ct + tf.multiply(it,ct_h)               # (32,40,1)\n",
        "      ht = tf.multiply(ot,tf.keras.activations.tanh(ct))\n",
        "\n",
        "      # Enregistre les vecteurs internes du temps courant\n",
        "      Ht.append(ht)                                 # Enregistre Ht[t] = ht\n",
        "      Ct.append(ct)                                 # Enregistre Ct[t] = ct\n",
        "      Ht_t.append(ht_t)                             # Enregistre Ht_t[t] = ht_t\n",
        "\n",
        "    # Enregistre les vecteurs internes du batch courant\n",
        "    for memory_tape_, memory_tape in zip(tf.nest.flatten(self.memory_tape),tf.nest.flatten(Ct)):\n",
        "      memory_tape_ = memory_tape\n",
        "    for hidden_tape_, hidden_tape in zip(tf.nest.flatten(self.hidden_tape),tf.nest.flatten(Ht)):\n",
        "      hidden_tape_ = hidden_tape\n",
        "    for hidden_t_tape_, hidden_t_tape in zip(tf.nest.flatten(self.hidden_t_tape),tf.nest.flatten(Ht_t)):\n",
        "      hidden_t_tape_ = hidden_t_tape\n",
        "\n",
        "    # Retourne le dernier hidden state ou l'ensemble des vecteurs\n",
        "    if self.return_sequence == False:\n",
        "      return tf.squeeze(ht,axis=-1)               # return (32,40)\n",
        "    else:\n",
        "      hidden_states = tf.zeros(shape=(x.shape[0],1,self.dim_LSTM,1))   # (32,1,40,1)\n",
        "      for i in range(0,x.shape[1]):\n",
        "        hidden_states = tf.concat([hidden_states,tf.expand_dims(Ht[i+1],axis=1)],axis=1)\n",
        "      hidden_states = tf.slice(hidden_states,[0,0,0,0],[hidden_states.shape[0],hidden_states.shape[1]-1,hidden_states.shape[2],hidden_states.shape[3]])\n",
        "      return hidden_states                        # return (32,20,40,1)\n"
      ],
      "execution_count": null,
      "outputs": []
    },
    {
      "cell_type": "markdown",
      "metadata": {
        "id": "CCgn0V_PKeFq"
      },
      "source": [
        "**2. Création du modèle**"
      ]
    },
    {
      "cell_type": "code",
      "metadata": {
        "id": "jnU27YHpKeFs"
      },
      "source": [
        "dim_LSTM = 40\n",
        "\n",
        "# Fonction de la couche lambda d'entrée\n",
        "def Traitement_Entrees(x):\n",
        "  return tf.expand_dims(x,axis=-1)\n",
        "\n",
        "entrees_x = tf.keras.Input(shape=(taille_fenetre,), batch_size=batch_size)\n",
        "entrees_h = tf.keras.Input(shape=(taille_fenetre,dim_LSTM,1), batch_size=batch_size)\n",
        "\n",
        "x = tf.keras.layers.Lambda(Traitement_Entrees)(entrees_x)\n",
        "h = Couche_LSTMN(dim_LSTM=dim_LSTM,return_sequence=True)(x)\n",
        "\n",
        "sorties = Couche_LSTMN_Layers(dim_LSTM=dim_LSTM,return_sequence=False)(x,h)\n",
        "sorties = tf.keras.layers.Dense(1)(sorties)\n",
        "model = tf.keras.Model(entrees_x,sorties)\n",
        "\n",
        "model.save_weights('model_initial.h5')\n",
        "\n",
        "model.summary()"
      ],
      "execution_count": null,
      "outputs": []
    },
    {
      "cell_type": "markdown",
      "metadata": {
        "id": "bQZrbpZJKeFu"
      },
      "source": [
        "**3. Entrainement du modèle**"
      ]
    },
    {
      "cell_type": "code",
      "metadata": {
        "id": "qmhIb0JUKeFv"
      },
      "source": [
        "# Définition de la fonction de régulation du taux d'apprentissage\n",
        "def RegulationTauxApprentissage(periode, taux):\n",
        "  return 1e-8*10**(periode/10)\n",
        "\n",
        "# Définition de l'optimiseur à utiliser\n",
        "optimiseur=tf.keras.optimizers.SGD(lr=1e-8, momentum=0.9)\n",
        "\n",
        "# Utilisation de la méthode ModelCheckPoint\n",
        "CheckPoint = tf.keras.callbacks.ModelCheckpoint(\"poids.hdf5\", monitor='loss', verbose=1, save_best_only=True, save_weights_only = True, mode='auto', save_freq='epoch')\n",
        "\n",
        "# Compile le modèle\n",
        "model.compile(loss=tf.keras.losses.Huber(), optimizer=optimiseur, metrics=\"mae\")\n",
        "\n",
        "# Entraine le modèle en utilisant notre fonction personnelle de régulation du taux d'apprentissage\n",
        "historique = model.fit(dataset_norm,epochs=100,verbose=1, callbacks=[tf.keras.callbacks.LearningRateScheduler(RegulationTauxApprentissage), CheckPoint])"
      ],
      "execution_count": null,
      "outputs": []
    },
    {
      "cell_type": "code",
      "metadata": {
        "id": "2s85jr4xKeFv"
      },
      "source": [
        "# Construit un vecteur avec les valeurs du taux d'apprentissage à chaque période \n",
        "taux = 1e-8*(10**(np.arange(100)/10))\n",
        "\n",
        "# Affiche l'erreur en fonction du taux d'apprentissage\n",
        "plt.figure(figsize=(10, 6))\n",
        "plt.semilogx(taux,historique.history[\"loss\"])\n",
        "plt.axis([ taux[0], taux[99], 0, 1])\n",
        "plt.title(\"Evolution de l'erreur en fonction du taux d'apprentissage\")"
      ],
      "execution_count": null,
      "outputs": []
    },
    {
      "cell_type": "code",
      "metadata": {
        "id": "iLvbZdTBKeFw"
      },
      "source": [
        "# Charge les meilleurs poids\n",
        "model.load_weights(\"poids.hdf5\")"
      ],
      "execution_count": null,
      "outputs": []
    },
    {
      "cell_type": "code",
      "metadata": {
        "id": "uuZvPbowKeFx"
      },
      "source": [
        "from timeit import default_timer as timer\n",
        "\n",
        "class TimingCallback(keras.callbacks.Callback):\n",
        "    def __init__(self, logs={}):\n",
        "        self.logs=[]\n",
        "    def on_epoch_begin(self, epoch, logs={}):\n",
        "        self.starttime = timer()\n",
        "    def on_epoch_end(self, epoch, logs={}):\n",
        "        self.logs.append(timer()-self.starttime)\n",
        "\n",
        "\n",
        "cb = TimingCallback()\n",
        "\n",
        "# Définition de l'optimiseur à utiliser\n",
        "optimiseur=tf.keras.optimizers.SGD(lr=3e-2,momentum=0.9)\n",
        "optimiseur=tf.keras.optimizers.Adam()\n",
        "\n",
        "\n",
        "# Utilisation de la méthode ModelCheckPoint\n",
        "CheckPoint = tf.keras.callbacks.ModelCheckpoint(\"poids_train.hdf5\", monitor='loss', verbose=1, save_best_only=True, save_weights_only = True, mode='auto', save_freq='epoch')\n",
        "\n",
        "# Compile le modèle\n",
        "model.compile(loss=tf.keras.losses.Huber(), optimizer=optimiseur,metrics=\"mae\")\n",
        "\n",
        "# Entraine le modèle\n",
        "historique = model.fit(dataset_norm,validation_data=dataset_Val_norm, epochs=500,verbose=1, callbacks=[CheckPoint,cb])\n",
        "\n",
        "print(cb.logs)\n",
        "print(sum(cb.logs))"
      ],
      "execution_count": null,
      "outputs": []
    },
    {
      "cell_type": "code",
      "metadata": {
        "id": "4CB5qu-UKeFx"
      },
      "source": [
        "erreur_entrainement = historique.history[\"loss\"]\n",
        "erreur_validation = historique.history[\"val_loss\"]\n",
        "\n",
        "# Affiche l'erreur en fonction de la période\n",
        "plt.figure(figsize=(10, 6))\n",
        "plt.plot(np.arange(0,len(erreur_entrainement)),erreur_entrainement, label=\"Erreurs sur les entrainements\")\n",
        "plt.plot(np.arange(0,len(erreur_entrainement)),erreur_validation, label =\"Erreurs sur les validations\")\n",
        "plt.legend()\n",
        "\n",
        "plt.title(\"Evolution de l'erreur en fonction de la période\")"
      ],
      "execution_count": null,
      "outputs": []
    },
    {
      "cell_type": "markdown",
      "metadata": {
        "id": "_ovY-xTgKeFz"
      },
      "source": [
        "**4. Prédictions**"
      ]
    },
    {
      "cell_type": "code",
      "metadata": {
        "id": "_iAsUciuKeFz"
      },
      "source": [
        "# Charge les meilleurs poids\n",
        "model.load_weights(\"poids_train.hdf5\")"
      ],
      "execution_count": null,
      "outputs": []
    },
    {
      "cell_type": "code",
      "metadata": {
        "id": "q9JaY8bdKeF0"
      },
      "source": [
        "taille_fenetre = 20\n",
        "\n",
        "# Création d'une liste vide pour recevoir les prédictions\n",
        "predictions = []\n",
        "\n",
        "# Calcul des prédiction pour chaque groupe de 20 valeurs consécutives de la série\n",
        "# dans l'intervalle de validation\n",
        "for t in temps[temps_separation:-taille_fenetre]:\n",
        "    X = np.reshape(Serie_Normalisee[t:t+taille_fenetre],(1,taille_fenetre))\n",
        "    predictions.append(model.predict(X))"
      ],
      "execution_count": null,
      "outputs": []
    },
    {
      "cell_type": "code",
      "metadata": {
        "id": "FDC0v2xTKeF0"
      },
      "source": [
        "# Affiche la série et les prédictions\n",
        "plt.figure(figsize=(10, 6))\n",
        "affiche_serie(temps,serie,label=\"Série temporelle\")\n",
        "affiche_serie(temps[temps_separation+taille_fenetre:],np.asarray(predictions*std+mean)[:,0,0],label=\"Prédictions\")\n",
        "plt.title('Prédictions avec le modèle LSTMN')\n",
        "plt.show()\n",
        "\n",
        "# Zoom sur l'intervalle de validation\n",
        "plt.figure(figsize=(10, 6))\n",
        "affiche_serie(temps[temps_separation:],serie[temps_separation:],label=\"Série temporelle\")\n",
        "affiche_serie(temps[temps_separation+taille_fenetre:],np.asarray(predictions*std+mean)[:,0,0],label=\"Prédictions\")\n",
        "plt.title(\"Prédictions avec le modèle LSTMN (zoom sur l'intervalle de validation)\")\n",
        "plt.show()"
      ],
      "execution_count": null,
      "outputs": []
    },
    {
      "cell_type": "code",
      "metadata": {
        "id": "9v8QjYSFKeF1"
      },
      "source": [
        "# Calcule de l'erreur quadratique moyenne et de l'erreur absolue moyenne \n",
        "\n",
        "mae = tf.keras.metrics.mean_absolute_error(serie[temps_separation+taille_fenetre:],np.asarray(predictions*std+mean)[:,0,0]).numpy()\n",
        "mse = tf.keras.metrics.mean_squared_error(serie[temps_separation+taille_fenetre:],np.asarray(predictions*std+mean)[:,0,0]).numpy()\n",
        "\n",
        "print(mae)\n",
        "print(mse)"
      ],
      "execution_count": null,
      "outputs": []
    }
  ]
}