{
  "nbformat": 4,
  "nbformat_minor": 0,
  "metadata": {
    "colab": {
      "name": "Reseau_GRU_End_to_End_MN.ipynb",
      "provenance": [],
      "authorship_tag": "ABX9TyNtm1bAeOr2qe+R8/CisjZx",
      "include_colab_link": true
    },
    "kernelspec": {
      "name": "python3",
      "display_name": "Python 3"
    }
  },
  "cells": [
    {
      "cell_type": "markdown",
      "metadata": {
        "id": "view-in-github",
        "colab_type": "text"
      },
      "source": [
        "<a href=\"https://colab.research.google.com/github/AlexandreBourrieau/ML/blob/main/Carnets%20Jupyter/S%C3%A9ries%20temporelles/Reseau_GRU_End_To_End_MN.ipynb\" target=\"_parent\"><img src=\"https://colab.research.google.com/assets/colab-badge.svg\" alt=\"Open In Colab\"/></a>"
      ]
    },
    {
      "cell_type": "markdown",
      "metadata": {
        "id": "ubCeIvtF6R4W"
      },
      "source": [
        "Dans ce carnet nous allons mettre en place un modèle à réseau de neurones récurrent de type GRU associé à une couche d'attention pour réaliser des prédictions sur notre série temporelle."
      ]
    },
    {
      "cell_type": "code",
      "metadata": {
        "id": "RRhtHsNn5fc3"
      },
      "source": [
        "import tensorflow as tf\n",
        "from tensorflow import keras\n",
        "\n",
        "import numpy as np\n",
        "import matplotlib.pyplot as plt"
      ],
      "execution_count": 1,
      "outputs": []
    },
    {
      "cell_type": "markdown",
      "metadata": {
        "id": "XFeah3y_6kif"
      },
      "source": [
        "# Création de la série temporelle et du dataset pour l'entrainement"
      ]
    },
    {
      "cell_type": "code",
      "metadata": {
        "id": "vJfSLtub6sdc"
      },
      "source": [
        "# Fonction permettant d'afficher une série temporelle\n",
        "def affiche_serie(temps, serie, format=\"-\", debut=0, fin=None, label=None):\n",
        "    plt.plot(temps[debut:fin], serie[debut:fin], format, label=label)\n",
        "    plt.xlabel(\"Temps\")\n",
        "    plt.ylabel(\"Valeur\")\n",
        "    if label:\n",
        "        plt.legend(fontsize=14)\n",
        "    plt.grid(True)\n",
        "\n",
        "# Fonction permettant de créer une tendance\n",
        "def tendance(temps, pente=0):\n",
        "    return pente * temps\n",
        "\n",
        "# Fonction permettant de créer un motif\n",
        "def motif_periodique(instants):\n",
        "    return (np.where(instants < 0.4,                            # Si les instants sont < 0.4\n",
        "                    np.cos(instants * 2 * np.pi),               # Alors on retourne la fonction cos(2*pi*t)\n",
        "                    1 / np.exp(3 * instants)))                  # Sinon, on retourne la fonction exp(-3t)\n",
        "\n",
        "# Fonction permettant de créer une saisonnalité avec un motif\n",
        "def saisonnalite(temps, periode, amplitude=1, phase=0):\n",
        "    \"\"\"Répétition du motif sur la même période\"\"\"\n",
        "    instants = ((temps + phase) % periode) / periode            # Mapping du temps =[0 1 2 ... 1460] => instants = [0.0 ... 1.0]\n",
        "    return amplitude * motif_periodique(instants)\n",
        "\n",
        "# Fonction permettant de générer du bruit gaussien N(0,1)\n",
        "def bruit_blanc(temps, niveau_bruit=1, graine=None):\n",
        "    rnd = np.random.RandomState(graine)\n",
        "    return rnd.randn(len(temps)) * niveau_bruit\n",
        "\n",
        "# Fonction permettant de créer un dataset à partir des données de la série temporelle\n",
        "# au format X(X1,X2,...Xn) / Y(Y1,Y2,...,Yn)\n",
        "# X sont les données d'entrées du réseau\n",
        "# Y sont les labels\n",
        "\n",
        "def data_map(x,y):\n",
        "  x1 = []\n",
        "  x2 = []\n",
        "  ys = []\n",
        "  for i in range(0,batch_size):\n",
        "    x1.append(x)\n",
        "    x2.append(x[i][:])\n",
        "    ys.append(y[i][:])\n",
        "  return [(x1,x2),ys]\n",
        "\n",
        "def prepare_dataset_XY(serie, taille_fenetre, batch_size, buffer_melange):\n",
        "  dataset = tf.data.Dataset.from_tensor_slices(serie)\n",
        "  dataset = dataset.window(taille_fenetre+1, shift=1, drop_remainder=True)\n",
        "  dataset = dataset.flat_map(lambda x: x.batch(taille_fenetre + 1))\n",
        "  dataset = dataset.map(lambda x: (x[:-1], x[-1:]))\n",
        "  dataset = dataset.batch(batch_size,drop_remainder=True).prefetch(1)\n",
        "  dataset = dataset.map(data_map)\n",
        "  return dataset\n",
        "\n",
        "\n",
        "# Création de la série temporelle\n",
        "temps = np.arange(4 * 365)                # temps = [0 1 2 .... 4*365] = [0 1 2 .... 1460]\n",
        "amplitude = 40                            # Amplitude de la la saisonnalité\n",
        "niveau_bruit = 5                          # Niveau du bruit\n",
        "offset = 10                               # Offset de la série\n",
        "\n",
        "serie = offset + tendance(temps, 0.1) + saisonnalite(temps, periode=365, amplitude=amplitude) + bruit_blanc(temps,niveau_bruit,graine=40)\n",
        "\n",
        "temps_separation = 1000\n",
        "\n",
        "# Extraction des temps et des données d'entrainement\n",
        "temps_entrainement = temps[:temps_separation]\n",
        "x_entrainement = serie[:temps_separation]\n",
        "\n",
        "# Exctraction des temps et des données de valiadation\n",
        "temps_validation = temps[temps_separation:]\n",
        "x_validation = serie[temps_separation:]\n",
        "\n",
        "# Définition des caractéristiques du dataset que l'on souhaite créer\n",
        "taille_fenetre = 20\n",
        "batch_size = 32\n",
        "buffer_melange = 1000\n",
        "\n",
        "# Création du dataset X,Y\n",
        "dataset = prepare_dataset_XY(x_entrainement,taille_fenetre,batch_size,buffer_melange)\n",
        "\n",
        "# Création du dataset X,Y de validation\n",
        "dataset_Val = prepare_dataset_XY(x_validation,taille_fenetre,batch_size,buffer_melange)"
      ],
      "execution_count": 2,
      "outputs": []
    },
    {
      "cell_type": "code",
      "metadata": {
        "id": "OyndQsxw0wue",
        "colab": {
          "base_uri": "https://localhost:8080/"
        },
        "outputId": "1ba0dbeb-de59-49a9-95c2-b4e07a056b54"
      },
      "source": [
        "# Calcul de la moyenne et de l'écart type de la série\n",
        "mean = tf.math.reduce_mean(serie)\n",
        "std = tf.math.reduce_std(serie)\n",
        "print(mean.numpy())\n",
        "print(std.numpy())\n",
        "\n",
        "# Normalise les données\n",
        "Serie_Normalisee = (serie-mean)/std\n",
        "min = tf.math.reduce_min(serie)\n",
        "max = tf.math.reduce_max(serie)\n",
        "print(tf.math.reduce_mean(Serie_Normalisee).numpy())\n",
        "print(tf.math.reduce_std(Serie_Normalisee).numpy())\n",
        "\n",
        "# Création des données pour l'entrainement et le test\n",
        "x_entrainement_norm = Serie_Normalisee[:temps_separation]\n",
        "x_validation_norm = Serie_Normalisee[temps_separation:]\n",
        "\n",
        "# Création du dataset X,Y\n",
        "dataset_norm = prepare_dataset_XY(x_entrainement_norm,taille_fenetre,batch_size,buffer_melange)\n",
        "\n",
        "# Création du dataset X,Y de validation\n",
        "dataset_Val_norm = prepare_dataset_XY(x_validation_norm,taille_fenetre,batch_size,buffer_melange)"
      ],
      "execution_count": 3,
      "outputs": [
        {
          "output_type": "stream",
          "text": [
            "90.49378905192393\n",
            "43.81927756886552\n",
            "2.6736603798507197e-16\n",
            "1.0\n"
          ],
          "name": "stdout"
        }
      ]
    },
    {
      "cell_type": "code",
      "metadata": {
        "id": "tRxcpFY-wpxJ"
      },
      "source": [
        "print(len(list(dataset_norm.as_numpy_iterator())))\n",
        "for element in dataset_norm.take(1):\n",
        "  print(element)"
      ],
      "execution_count": null,
      "outputs": []
    },
    {
      "cell_type": "markdown",
      "metadata": {
        "id": "2Yt-EgZ3sgPY"
      },
      "source": [
        "# Création du modèle GRU avec couche d'attention personnalisée simple"
      ]
    },
    {
      "cell_type": "markdown",
      "metadata": {
        "id": "dyrcfKcgCsZ7"
      },
      "source": [
        "**1. Création du réseau et adaptation des formats d'entrée et de sortie**"
      ]
    },
    {
      "cell_type": "markdown",
      "metadata": {
        "id": "zeJyix8HK7Kt"
      },
      "source": [
        "Sous forme de shéma, notre réseau est donc le suivant :\n"
      ]
    },
    {
      "cell_type": "markdown",
      "metadata": {
        "id": "1OZkfsmnBNHY"
      },
      "source": [
        "<img src=\"https://github.com/AlexandreBourrieau/ML/blob/main/Carnets%20Jupyter/S%C3%A9ries%20temporelles/images/attention_1_ensemble2.png?raw=true\" width=\"1200\"> "
      ]
    },
    {
      "cell_type": "code",
      "metadata": {
        "id": "4kgTrJOQ5DUo"
      },
      "source": [
        "# Remise à zéro de tous les états générés par Keras\n",
        "tf.keras.backend.clear_session()"
      ],
      "execution_count": null,
      "outputs": []
    },
    {
      "cell_type": "markdown",
      "metadata": {
        "id": "hLNIAGDlBizT"
      },
      "source": [
        "On créé une classe dérivée de la classe [Layer](https://keras.io/api/layers/base_layer/#layer-class) de Keras. Les méthodes utilisées sont les suivantes :  \n",
        " - [build](https://www.tensorflow.org/api_docs/python/tf/keras/layers/Layer#build) : Permet de créer les variables utilisées par la couche (commes les poids et les offsets)\n",
        " - [call](https://www.tensorflow.org/api_docs/python/tf/keras/layers/Layer#call) : Permet d'implanter la logique de la couche"
      ]
    },
    {
      "cell_type": "markdown",
      "metadata": {
        "id": "3COaR59t5WzJ"
      },
      "source": [
        "<img src=\"https://github.com/AlexandreBourrieau/ML/blob/main/Carnets%20Jupyter/S%C3%A9ries%20temporelles/images/attention_1_Attention2.png?raw=true\" width=\"1200\"> "
      ]
    },
    {
      "cell_type": "code",
      "metadata": {
        "id": "Hhk0kmPSgqva"
      },
      "source": [
        "# Définition du de la couche du modèle\n",
        "# End-to-End Memory Network\n",
        "# Epaquetage des données avec le dernier état caché d'une couche GRU\n",
        "\n",
        "from keras import backend as K\n",
        "\n",
        "class Couche_End_to_End_MN(tf.keras.layers.Layer):\n",
        "  # Fonction d'initialisation de la classe d'attention\n",
        "  # dim_GRU : Dimension des vecteurs GRU\n",
        "  # x : Séquences à mémoriser (batch_size, Nbr_Sequence, taille_fenetre)\n",
        "  # Fonction de la couche lambda d'entrée\n",
        "  def __init__(self,dim_GRU):\n",
        "    self.dim_GRU = dim_GRU\n",
        "    super().__init__()          # Appel du __init__() de la classe Layer\n",
        "  \n",
        "  def build(self,input_shape):\n",
        "    # Définition des couches GRU pour traiter les séquences d'entrée\n",
        "    self.couche_GRU_A = tf.keras.layers.GRU(self.dim_GRU)\n",
        "    self.couche_GRU_B = tf.keras.layers.GRU(self.dim_GRU)\n",
        "    self.couche_GRU_C = tf.keras.layers.GRU(self.dim_GRU)\n",
        "    self.dense = tf.keras.layers.Dense(1,use_bias=False,trainable=True)\n",
        "\n",
        "    # Poids d'attention\n",
        "    self.p = self.add_weight(shape=(input_shape[1],1),initializer=\"zeros\",name=\"p\")\n",
        "    super().build(input_shape)        # Appel de la méthode build()\n",
        "\n",
        "  # Définit la logique de la couche d'attention\n",
        "  # Arguments :     x : (batch_size, Nbr_Sequence, taille_fenetre)\n",
        "  #                 y : (batch_size, taille_fenetre)\n",
        "  # Exemple :   batch_size = 32\n",
        "  #             Nbr_Sequence =30\n",
        "  #             taille_fenetre = 20\n",
        "  #             dim_GRU = 40 \n",
        "  def call(self,x,y):\n",
        "    # Création des vecteurs mi dans le tenseur M\n",
        "    M = tf.expand_dims(x,axis=-1)                                   # (32,30,20) => (32,30,20,1)\n",
        "    M = tf.keras.layers.TimeDistributed(self.couche_GRU_A)(M)       # (32,30,20,1) => (32,30,40) : TimeStep = 30 : (32,20,1) envoyé\n",
        "\n",
        "    M = K.tanh(M)\n",
        "\n",
        "    # Création du vecteur d'état u\n",
        "    u = tf.expand_dims(y,axis=-1)                                   # (32,20) => (32,20,1)\n",
        "    u = self.couche_GRU_B(u)                                        # (32,20,1) => (32,40)\n",
        "    u = tf.expand_dims(u,axis=-1)                                   # (32,40) => (32,40,1)\n",
        "    u = K.tanh(u)                                                   # (32,40,1)\n",
        "\n",
        "    # Calcul des poids d'attention\n",
        "    p = tf.keras.layers.Dot(axes=(2,1))([M,u])                      # (32,30,1)\n",
        "    p = tf.keras.activations.softmax(p,axis=1)                      # (32,30,1)\n",
        "\n",
        "    # Création des vecteurs ci dans le tenseur C\n",
        "    C = tf.expand_dims(x,axis=-1)                                   # (32,30,20) => (32,30,20,1)\n",
        "    C = tf.keras.layers.TimeDistributed(self.couche_GRU_C)(C)       # (32,30,20,1) => (32,30,40) : TimeStep = 30 : (32,20,1) envoyé\n",
        "    C = K.tanh(C)\n",
        "\n",
        "    # Calcul du vecteur réponse issu de la mémoire\n",
        "    o = tf.multiply(C,p)                                            # (32,30,40)_x_(32,30,1) = (32,30,40)\n",
        "    o = K.sum(o, axis=1)                                            # (32,40)\n",
        "    o = K.tanh(o)                                                   # (32,40)\n",
        "    \n",
        "    # Retourne le vecteur d'attention\n",
        "    return (o+tf.squeeze(u,axis=2))\n"
      ],
      "execution_count": 4,
      "outputs": []
    },
    {
      "cell_type": "code",
      "metadata": {
        "id": "0LBzyS2v-JVU"
      },
      "source": [
        "# Définition du de la couche du modèle\n",
        "# End-to-End Memory Network\n",
        "# Epaquetage des données avec une matrice\n",
        "\n",
        "from keras import backend as K\n",
        "\n",
        "class Couche_End_to_End_MN(tf.keras.layers.Layer):\n",
        "  # Fonction d'initialisation de la classe d'attention\n",
        "  # dim_GRU : Dimension des vecteurs GRU\n",
        "  # x : Séquences à mémoriser (batch_size, Nbr_Sequence, taille_fenetre)\n",
        "  # Fonction de la couche lambda d'entrée\n",
        "  def __init__(self,dim_GRU):\n",
        "    self.dim_GRU = dim_GRU\n",
        "    super().__init__()          # Appel du __init__() de la classe Layer\n",
        "  \n",
        "  def build(self,input_shape):\n",
        "    # Définition des couches GRU pour traiter les séquences d'entrée\n",
        "    self.couche_A = tf.keras.layers.Dense(self.dim_GRU)\n",
        "    self.couche_B = tf.keras.layers.Dense(self.dim_GRU)\n",
        "    self.couche_C = tf.keras.layers.Dense(self.dim_GRU)\n",
        "    self.dense = tf.keras.layers.Dense(1,use_bias=False,trainable=True)\n",
        "\n",
        "    # Poids d'attention\n",
        "    self.p = self.add_weight(shape=(input_shape[1],1),initializer=\"zeros\",name=\"p\")\n",
        "    super().build(input_shape)        # Appel de la méthode build()\n",
        "\n",
        "  # Définit la logique de la couche d'attention\n",
        "  # Arguments :     x : (batch_size, Nbr_Sequence, taille_fenetre)\n",
        "  #                 y : (batch_size, taille_fenetre)\n",
        "  # Exemple :   batch_size = 32\n",
        "  #             Nbr_Sequence =30\n",
        "  #             taille_fenetre = 20\n",
        "  #             dim_GRU = 40 \n",
        "  def call(self,x,y):\n",
        "    # Création des vecteurs mi dans le tenseur M\n",
        "    M = tf.expand_dims(x,axis=-1)                                   # (32,30,20) => (32,30,20,1)\n",
        "    M = tf.keras.layers.TimeDistributed(self.couche_A)(M)           # (32,30,20,1) => (32,30,20,40) : TimeStep = 30 : (32,20,1) envoyé\n",
        "    M = K.sum(M,axis=2)                                             # (32,30,20,40) => (32,30,40)\n",
        "    M = K.tanh(M)\n",
        "\n",
        "    # Création du vecteur d'état u\n",
        "    u = tf.expand_dims(y,axis=-1)                                   # (32,20) => (32,20,1)\n",
        "    u = self.couche_B(u)                                            # (32,20,1) => (32,20,40)\n",
        "    u = K.sum(u,axis=1)                                             # (32,20,40) => (32,40)\n",
        "    u = tf.expand_dims(u,axis=-1)                                   # (32,40) => (32,40,1)\n",
        "    u = K.tanh(u)                                                   # (32,40,1)\n",
        "\n",
        "    # Calcul des poids d'attention\n",
        "    p = tf.keras.layers.Dot(axes=(2,1))([M,u])                      # (32,30,1)\n",
        "    p = tf.keras.activations.softmax(p,axis=1)                      # (32,30,1)\n",
        "\n",
        "    # Création des vecteurs ci dans le tenseur C\n",
        "    C = tf.expand_dims(x,axis=-1)                                   # (32,30,20) => (32,30,20,1)\n",
        "    C = tf.keras.layers.TimeDistributed(self.couche_C)(C)           # (32,30,20,1) => (32,30,20,40) : TimeStep = 30 : (32,20,1) envoyé\n",
        "    C = K.sum(C,axis=2)                                             # (32,30,20,40) => (32,30,40)\n",
        "    C = K.tanh(C)\n",
        "\n",
        "    # Calcul du vecteur réponse issu de la mémoire\n",
        "    o = tf.multiply(C,p)                                            # (32,30,40)_x_(32,30,1) = (32,30,40)\n",
        "    o = K.sum(o, axis=1)                                            # (32,40)\n",
        "    o = K.tanh(o)                                                   # (32,40)\n",
        "    \n",
        "    # Retourne le vecteur d'attention\n",
        "    return (o+tf.squeeze(u,axis=2))"
      ],
      "execution_count": 4,
      "outputs": []
    },
    {
      "cell_type": "code",
      "metadata": {
        "colab": {
          "base_uri": "https://localhost:8080/"
        },
        "id": "d7XILboq5vwZ",
        "outputId": "15dfbd1f-7ec7-4b30-cb12-ae95ef96b2a1"
      },
      "source": [
        "# batch_size = 3\n",
        "# Nbr_Sequence = 4\n",
        "# taille_fenetre = 5\n",
        "\n",
        "x = tf.Variable([[[1,2,3,4,5],[6,7,8,9,10],[1,3,3,4,5],[1,2,3,4,5]],[[1,2,3,4,5],[1,2,3,4,5],[1,2,3,4,5],[1,2,3,4,5]],[[1,2,3,4,5],[1,2,3,4,5],[1,2,3,4,5],[1,2,3,4,5]]],dtype=tf.float32)\n",
        "y = tf.Variable([[1,2,3,4,5],[1,2,3,4,5],[1,2,3,4,5]],dtype=tf.float32)\n",
        "u = tf.Variable([[1,2,3,4,5],[1,2,3,4,5],[1,2,3,4,5]],dtype=tf.float32)\n",
        "u = tf.expand_dims(u,axis=-1)\n",
        "print(x.shape)\n",
        "print(y.shape)\n",
        "print(u.shape)"
      ],
      "execution_count": 31,
      "outputs": [
        {
          "output_type": "stream",
          "text": [
            "(3, 4, 5)\n",
            "(3, 5)\n",
            "(3, 5, 1)\n"
          ],
          "name": "stdout"
        }
      ]
    },
    {
      "cell_type": "code",
      "metadata": {
        "colab": {
          "base_uri": "https://localhost:8080/"
        },
        "id": "uxX7GIdnz-3Z",
        "outputId": "7a1abb9a-2e3c-45f7-9ec3-bfbe9b58577a"
      },
      "source": [
        "Couche_End_to_End_MN(dim_GRU=40)(x,y)"
      ],
      "execution_count": 32,
      "outputs": [
        {
          "output_type": "execute_result",
          "data": {
            "text/plain": [
              "<tf.Tensor: shape=(3, 40), dtype=float32, numpy=\n",
              "array([[ 0.23822749, -0.7000258 ,  0.01141107, -0.2121442 ,  1.7455893 ,\n",
              "        -0.9849841 ,  1.4674965 ,  0.33565426,  0.24947852, -1.7421267 ,\n",
              "        -0.16484475,  1.6733239 ,  0.14843452, -1.7562183 ,  1.6696599 ,\n",
              "        -0.43100333, -1.7577125 ,  1.7352366 ,  0.22479594, -0.24475068,\n",
              "        -1.7595354 , -1.7506669 ,  1.6840379 ,  0.89036316, -0.18318063,\n",
              "         0.6146413 , -1.7608435 , -1.7121546 , -1.6959202 ,  1.6894335 ,\n",
              "        -0.23952341,  0.2197339 ,  1.7466848 ,  0.25206465, -1.7119482 ,\n",
              "        -1.757869  , -1.761122  , -1.7419907 , -1.7579436 ,  0.23817343],\n",
              "       [ 0.23824233, -0.69798636,  0.01134413, -0.21216476,  1.7438841 ,\n",
              "        -0.99117607,  1.4652257 ,  0.41661298,  0.2591979 , -1.725234  ,\n",
              "        -0.16495627,  1.6729174 ,  0.14895862, -1.7562132 ,  1.6695888 ,\n",
              "        -0.5619337 , -1.7577018 ,  1.7352296 ,  0.23359352, -0.25044245,\n",
              "        -1.7595245 , -1.7506061 ,  1.6211379 ,  0.9349588 , -0.18660367,\n",
              "         0.70011604, -1.7606163 , -1.7121435 , -1.6945494 ,  1.6893854 ,\n",
              "        -0.2406084 ,  0.22104043,  1.7338932 ,  0.26634192, -1.7083397 ,\n",
              "        -1.7564044 , -1.7608157 , -1.7419845 , -1.7576396 ,  0.23817879],\n",
              "       [ 0.23824233, -0.69798636,  0.01134413, -0.21216476,  1.7438841 ,\n",
              "        -0.99117607,  1.4652257 ,  0.41661298,  0.2591979 , -1.725234  ,\n",
              "        -0.16495627,  1.6729174 ,  0.14895862, -1.7562132 ,  1.6695888 ,\n",
              "        -0.5619337 , -1.7577018 ,  1.7352296 ,  0.23359352, -0.25044245,\n",
              "        -1.7595245 , -1.7506061 ,  1.6211379 ,  0.9349588 , -0.18660367,\n",
              "         0.70011604, -1.7606163 , -1.7121435 , -1.6945494 ,  1.6893854 ,\n",
              "        -0.2406084 ,  0.22104043,  1.7338932 ,  0.26634192, -1.7083397 ,\n",
              "        -1.7564044 , -1.7608157 , -1.7419845 , -1.7576396 ,  0.23817879]],\n",
              "      dtype=float32)>"
            ]
          },
          "metadata": {
            "tags": []
          },
          "execution_count": 32
        }
      ]
    },
    {
      "cell_type": "code",
      "metadata": {
        "id": "RTqdYAsF_ici",
        "colab": {
          "base_uri": "https://localhost:8080/"
        },
        "outputId": "8ba13932-f473-44a2-beed-e8a151e7a37e"
      },
      "source": [
        "#Nbr_Sequences = len(list(dataset_norm.as_numpy_iterator()))\n",
        "Nbr_Sequences = batch_size\n",
        "dim_GRU = 40\n",
        "\n",
        "entrees_sequences = tf.keras.layers.Input(shape=(Nbr_Sequences,taille_fenetre),batch_size=batch_size)\n",
        "entrees_entrainement = tf.keras.layers.Input(shape=(taille_fenetre),batch_size=batch_size)\n",
        "sortie = Couche_End_to_End_MN(dim_GRU=dim_GRU)(entrees_sequences,entrees_entrainement)\n",
        "pred = tf.keras.layers.Dense(units=1)(sortie)\n",
        "\n",
        "model = tf.keras.Model([entrees_sequences,entrees_entrainement],pred)\n",
        "model.summary()"
      ],
      "execution_count": 5,
      "outputs": [
        {
          "output_type": "stream",
          "text": [
            "Model: \"model\"\n",
            "__________________________________________________________________________________________________\n",
            "Layer (type)                    Output Shape         Param #     Connected to                     \n",
            "==================================================================================================\n",
            "input_1 (InputLayer)            [(32, 32, 20)]       0                                            \n",
            "__________________________________________________________________________________________________\n",
            "input_2 (InputLayer)            [(32, 20)]           0                                            \n",
            "__________________________________________________________________________________________________\n",
            "couche__end_to__end_mn (Couche_ (32, 40)             15512       input_1[0][0]                    \n",
            "                                                                 input_2[0][0]                    \n",
            "__________________________________________________________________________________________________\n",
            "dense (Dense)                   (32, 1)              41          couche__end_to__end_mn[0][0]     \n",
            "==================================================================================================\n",
            "Total params: 15,553\n",
            "Trainable params: 15,553\n",
            "Non-trainable params: 0\n",
            "__________________________________________________________________________________________________\n"
          ],
          "name": "stdout"
        }
      ]
    },
    {
      "cell_type": "markdown",
      "metadata": {
        "id": "MUM0-SSXGLIQ"
      },
      "source": [
        "**2. Optimisation du taux d'apprentissage**"
      ]
    },
    {
      "cell_type": "code",
      "metadata": {
        "id": "jejCBhXVuNQ4",
        "outputId": "62d277f4-734b-4008-c425-3bc6d372bda2",
        "colab": {
          "base_uri": "https://localhost:8080/"
        }
      },
      "source": [
        "# Définition de la fonction de régulation du taux d'apprentissage\n",
        "def RegulationTauxApprentissage(periode, taux):\n",
        "  return 1e-8*10**(periode/10)\n",
        "\n",
        "# Définition de l'optimiseur à utiliser\n",
        "optimiseur=tf.keras.optimizers.SGD(lr=1e-8)\n",
        "\n",
        "# Utilisation de la méthode ModelCheckPoint\n",
        "CheckPoint = tf.keras.callbacks.ModelCheckpoint(\"poids.hdf5\", monitor='loss', verbose=1, save_best_only=True, save_weights_only = True, mode='auto', save_freq='epoch')\n",
        "\n",
        "# Compile le modèle\n",
        "model.compile(loss=tf.keras.losses.Huber(), optimizer=optimiseur, metrics=\"mae\")\n",
        "\n",
        "# Entraine le modèle en utilisant notre fonction personnelle de régulation du taux d'apprentissage\n",
        "historique = model.fit(dataset_norm,epochs=100,verbose=1, callbacks=[tf.keras.callbacks.LearningRateScheduler(RegulationTauxApprentissage), CheckPoint])"
      ],
      "execution_count": 6,
      "outputs": [
        {
          "output_type": "stream",
          "text": [
            "Epoch 1/100\n",
            "WARNING:tensorflow:Gradients do not exist for variables ['couche__end_to__end_mn/p:0'] when minimizing the loss.\n",
            "WARNING:tensorflow:Gradients do not exist for variables ['couche__end_to__end_mn/p:0'] when minimizing the loss.\n",
            "30/30 [==============================] - 8s 124ms/step - loss: 0.4468 - mae: 0.8706\n",
            "\n",
            "Epoch 00001: loss improved from inf to 0.26346, saving model to poids.hdf5\n",
            "Epoch 2/100\n",
            "30/30 [==============================] - 4s 118ms/step - loss: 0.4468 - mae: 0.8706\n",
            "\n",
            "Epoch 00002: loss improved from 0.26346 to 0.26346, saving model to poids.hdf5\n",
            "Epoch 3/100\n",
            "30/30 [==============================] - 4s 119ms/step - loss: 0.4468 - mae: 0.8706\n",
            "\n",
            "Epoch 00003: loss improved from 0.26346 to 0.26346, saving model to poids.hdf5\n",
            "Epoch 4/100\n",
            "30/30 [==============================] - 4s 121ms/step - loss: 0.4468 - mae: 0.8706\n",
            "\n",
            "Epoch 00004: loss improved from 0.26346 to 0.26346, saving model to poids.hdf5\n",
            "Epoch 5/100\n",
            "30/30 [==============================] - 4s 122ms/step - loss: 0.4468 - mae: 0.8706\n",
            "\n",
            "Epoch 00005: loss improved from 0.26346 to 0.26346, saving model to poids.hdf5\n",
            "Epoch 6/100\n",
            "30/30 [==============================] - 4s 120ms/step - loss: 0.4468 - mae: 0.8706\n",
            "\n",
            "Epoch 00006: loss improved from 0.26346 to 0.26346, saving model to poids.hdf5\n",
            "Epoch 7/100\n",
            "30/30 [==============================] - 4s 121ms/step - loss: 0.4468 - mae: 0.8706\n",
            "\n",
            "Epoch 00007: loss improved from 0.26346 to 0.26346, saving model to poids.hdf5\n",
            "Epoch 8/100\n",
            "30/30 [==============================] - 4s 119ms/step - loss: 0.4468 - mae: 0.8706\n",
            "\n",
            "Epoch 00008: loss improved from 0.26346 to 0.26345, saving model to poids.hdf5\n",
            "Epoch 9/100\n",
            "30/30 [==============================] - 4s 119ms/step - loss: 0.4468 - mae: 0.8706\n",
            "\n",
            "Epoch 00009: loss improved from 0.26345 to 0.26345, saving model to poids.hdf5\n",
            "Epoch 10/100\n",
            "30/30 [==============================] - 4s 117ms/step - loss: 0.4468 - mae: 0.8706\n",
            "\n",
            "Epoch 00010: loss improved from 0.26345 to 0.26345, saving model to poids.hdf5\n",
            "Epoch 11/100\n",
            "30/30 [==============================] - 4s 123ms/step - loss: 0.4467 - mae: 0.8706\n",
            "\n",
            "Epoch 00011: loss improved from 0.26345 to 0.26344, saving model to poids.hdf5\n",
            "Epoch 12/100\n",
            "30/30 [==============================] - 4s 122ms/step - loss: 0.4467 - mae: 0.8706\n",
            "\n",
            "Epoch 00012: loss improved from 0.26344 to 0.26343, saving model to poids.hdf5\n",
            "Epoch 13/100\n",
            "30/30 [==============================] - 4s 122ms/step - loss: 0.4467 - mae: 0.8706\n",
            "\n",
            "Epoch 00013: loss improved from 0.26343 to 0.26342, saving model to poids.hdf5\n",
            "Epoch 14/100\n",
            "30/30 [==============================] - 4s 123ms/step - loss: 0.4467 - mae: 0.8705\n",
            "\n",
            "Epoch 00014: loss improved from 0.26342 to 0.26341, saving model to poids.hdf5\n",
            "Epoch 15/100\n",
            "30/30 [==============================] - 4s 123ms/step - loss: 0.4467 - mae: 0.8705\n",
            "\n",
            "Epoch 00015: loss improved from 0.26341 to 0.26340, saving model to poids.hdf5\n",
            "Epoch 16/100\n",
            "30/30 [==============================] - 4s 123ms/step - loss: 0.4466 - mae: 0.8705\n",
            "\n",
            "Epoch 00016: loss improved from 0.26340 to 0.26338, saving model to poids.hdf5\n",
            "Epoch 17/100\n",
            "30/30 [==============================] - 4s 133ms/step - loss: 0.4466 - mae: 0.8704\n",
            "\n",
            "Epoch 00017: loss improved from 0.26338 to 0.26336, saving model to poids.hdf5\n",
            "Epoch 18/100\n",
            "30/30 [==============================] - 4s 126ms/step - loss: 0.4466 - mae: 0.8704\n",
            "\n",
            "Epoch 00018: loss improved from 0.26336 to 0.26333, saving model to poids.hdf5\n",
            "Epoch 19/100\n",
            "30/30 [==============================] - 4s 123ms/step - loss: 0.4465 - mae: 0.8703\n",
            "\n",
            "Epoch 00019: loss improved from 0.26333 to 0.26329, saving model to poids.hdf5\n",
            "Epoch 20/100\n",
            "30/30 [==============================] - 4s 122ms/step - loss: 0.4464 - mae: 0.8702\n",
            "\n",
            "Epoch 00020: loss improved from 0.26329 to 0.26324, saving model to poids.hdf5\n",
            "Epoch 21/100\n",
            "30/30 [==============================] - 4s 125ms/step - loss: 0.4463 - mae: 0.8701\n",
            "\n",
            "Epoch 00021: loss improved from 0.26324 to 0.26318, saving model to poids.hdf5\n",
            "Epoch 22/100\n",
            "30/30 [==============================] - 4s 126ms/step - loss: 0.4462 - mae: 0.8699\n",
            "\n",
            "Epoch 00022: loss improved from 0.26318 to 0.26311, saving model to poids.hdf5\n",
            "Epoch 23/100\n",
            "30/30 [==============================] - 4s 131ms/step - loss: 0.4460 - mae: 0.8698\n",
            "\n",
            "Epoch 00023: loss improved from 0.26311 to 0.26301, saving model to poids.hdf5\n",
            "Epoch 24/100\n",
            "30/30 [==============================] - 4s 125ms/step - loss: 0.4458 - mae: 0.8695\n",
            "\n",
            "Epoch 00024: loss improved from 0.26301 to 0.26289, saving model to poids.hdf5\n",
            "Epoch 25/100\n",
            "30/30 [==============================] - 4s 124ms/step - loss: 0.4456 - mae: 0.8692\n",
            "\n",
            "Epoch 00025: loss improved from 0.26289 to 0.26274, saving model to poids.hdf5\n",
            "Epoch 26/100\n",
            "30/30 [==============================] - 4s 122ms/step - loss: 0.4453 - mae: 0.8688\n",
            "\n",
            "Epoch 00026: loss improved from 0.26274 to 0.26256, saving model to poids.hdf5\n",
            "Epoch 27/100\n",
            "30/30 [==============================] - 4s 124ms/step - loss: 0.4449 - mae: 0.8684\n",
            "\n",
            "Epoch 00027: loss improved from 0.26256 to 0.26232, saving model to poids.hdf5\n",
            "Epoch 28/100\n",
            "30/30 [==============================] - 4s 123ms/step - loss: 0.4444 - mae: 0.8678\n",
            "\n",
            "Epoch 00028: loss improved from 0.26232 to 0.26202, saving model to poids.hdf5\n",
            "Epoch 29/100\n",
            "30/30 [==============================] - 4s 126ms/step - loss: 0.4437 - mae: 0.8670\n",
            "\n",
            "Epoch 00029: loss improved from 0.26202 to 0.26164, saving model to poids.hdf5\n",
            "Epoch 30/100\n",
            "30/30 [==============================] - 4s 123ms/step - loss: 0.4429 - mae: 0.8661\n",
            "\n",
            "Epoch 00030: loss improved from 0.26164 to 0.26117, saving model to poids.hdf5\n",
            "Epoch 31/100\n",
            "30/30 [==============================] - 4s 125ms/step - loss: 0.4419 - mae: 0.8649\n",
            "\n",
            "Epoch 00031: loss improved from 0.26117 to 0.26058, saving model to poids.hdf5\n",
            "Epoch 32/100\n",
            "30/30 [==============================] - 4s 123ms/step - loss: 0.4407 - mae: 0.8634\n",
            "\n",
            "Epoch 00032: loss improved from 0.26058 to 0.25984, saving model to poids.hdf5\n",
            "Epoch 33/100\n",
            "30/30 [==============================] - 4s 123ms/step - loss: 0.4391 - mae: 0.8616\n",
            "\n",
            "Epoch 00033: loss improved from 0.25984 to 0.25890, saving model to poids.hdf5\n",
            "Epoch 34/100\n",
            "30/30 [==============================] - 4s 125ms/step - loss: 0.4372 - mae: 0.8592\n",
            "\n",
            "Epoch 00034: loss improved from 0.25890 to 0.25773, saving model to poids.hdf5\n",
            "Epoch 35/100\n",
            "30/30 [==============================] - 4s 123ms/step - loss: 0.4347 - mae: 0.8563\n",
            "\n",
            "Epoch 00035: loss improved from 0.25773 to 0.25627, saving model to poids.hdf5\n",
            "Epoch 36/100\n",
            "30/30 [==============================] - 4s 125ms/step - loss: 0.4316 - mae: 0.8526\n",
            "\n",
            "Epoch 00036: loss improved from 0.25627 to 0.25443, saving model to poids.hdf5\n",
            "Epoch 37/100\n",
            "30/30 [==============================] - 4s 122ms/step - loss: 0.4277 - mae: 0.8480\n",
            "\n",
            "Epoch 00037: loss improved from 0.25443 to 0.25214, saving model to poids.hdf5\n",
            "Epoch 38/100\n",
            "30/30 [==============================] - 4s 120ms/step - loss: 0.4229 - mae: 0.8423\n",
            "\n",
            "Epoch 00038: loss improved from 0.25214 to 0.24929, saving model to poids.hdf5\n",
            "Epoch 39/100\n",
            "30/30 [==============================] - 4s 122ms/step - loss: 0.4169 - mae: 0.8350\n",
            "\n",
            "Epoch 00039: loss improved from 0.24929 to 0.24575, saving model to poids.hdf5\n",
            "Epoch 40/100\n",
            "30/30 [==============================] - 4s 122ms/step - loss: 0.4095 - mae: 0.8261\n",
            "\n",
            "Epoch 00040: loss improved from 0.24575 to 0.24136, saving model to poids.hdf5\n",
            "Epoch 41/100\n",
            "30/30 [==============================] - 4s 123ms/step - loss: 0.4003 - mae: 0.8149\n",
            "\n",
            "Epoch 00041: loss improved from 0.24136 to 0.23596, saving model to poids.hdf5\n",
            "Epoch 42/100\n",
            "30/30 [==============================] - 4s 125ms/step - loss: 0.3890 - mae: 0.8011\n",
            "\n",
            "Epoch 00042: loss improved from 0.23596 to 0.22935, saving model to poids.hdf5\n",
            "Epoch 43/100\n",
            "30/30 [==============================] - 4s 126ms/step - loss: 0.3752 - mae: 0.7840\n",
            "\n",
            "Epoch 00043: loss improved from 0.22935 to 0.22131, saving model to poids.hdf5\n",
            "Epoch 44/100\n",
            "30/30 [==============================] - 4s 122ms/step - loss: 0.3584 - mae: 0.7630\n",
            "\n",
            "Epoch 00044: loss improved from 0.22131 to 0.21165, saving model to poids.hdf5\n",
            "Epoch 45/100\n",
            "30/30 [==============================] - 4s 125ms/step - loss: 0.3384 - mae: 0.7376\n",
            "\n",
            "Epoch 00045: loss improved from 0.21165 to 0.20020, saving model to poids.hdf5\n",
            "Epoch 46/100\n",
            "30/30 [==============================] - 4s 124ms/step - loss: 0.3149 - mae: 0.7070\n",
            "\n",
            "Epoch 00046: loss improved from 0.20020 to 0.18682, saving model to poids.hdf5\n",
            "Epoch 47/100\n",
            "30/30 [==============================] - 4s 123ms/step - loss: 0.2876 - mae: 0.6708\n",
            "\n",
            "Epoch 00047: loss improved from 0.18682 to 0.17153, saving model to poids.hdf5\n",
            "Epoch 48/100\n",
            "30/30 [==============================] - 4s 121ms/step - loss: 0.2568 - mae: 0.6286\n",
            "\n",
            "Epoch 00048: loss improved from 0.17153 to 0.15450, saving model to poids.hdf5\n",
            "Epoch 49/100\n",
            "30/30 [==============================] - 4s 122ms/step - loss: 0.2230 - mae: 0.5807\n",
            "\n",
            "Epoch 00049: loss improved from 0.15450 to 0.13612, saving model to poids.hdf5\n",
            "Epoch 50/100\n",
            "30/30 [==============================] - 4s 122ms/step - loss: 0.1874 - mae: 0.5272\n",
            "\n",
            "Epoch 00050: loss improved from 0.13612 to 0.11705, saving model to poids.hdf5\n",
            "Epoch 51/100\n",
            "30/30 [==============================] - 4s 119ms/step - loss: 0.1516 - mae: 0.4691\n",
            "\n",
            "Epoch 00051: loss improved from 0.11705 to 0.09811, saving model to poids.hdf5\n",
            "Epoch 52/100\n",
            "30/30 [==============================] - 4s 122ms/step - loss: 0.1178 - mae: 0.4083\n",
            "\n",
            "Epoch 00052: loss improved from 0.09811 to 0.08030, saving model to poids.hdf5\n",
            "Epoch 53/100\n",
            "30/30 [==============================] - 4s 123ms/step - loss: 0.0883 - mae: 0.3475\n",
            "\n",
            "Epoch 00053: loss improved from 0.08030 to 0.06459, saving model to poids.hdf5\n",
            "Epoch 54/100\n",
            "30/30 [==============================] - 4s 121ms/step - loss: 0.0649 - mae: 0.2911\n",
            "\n",
            "Epoch 00054: loss improved from 0.06459 to 0.05151, saving model to poids.hdf5\n",
            "Epoch 55/100\n",
            "30/30 [==============================] - 4s 119ms/step - loss: 0.0478 - mae: 0.2435\n",
            "\n",
            "Epoch 00055: loss improved from 0.05151 to 0.04086, saving model to poids.hdf5\n",
            "Epoch 56/100\n",
            "30/30 [==============================] - 4s 118ms/step - loss: 0.0358 - mae: 0.2069\n",
            "\n",
            "Epoch 00056: loss improved from 0.04086 to 0.03223, saving model to poids.hdf5\n",
            "Epoch 57/100\n",
            "30/30 [==============================] - 4s 119ms/step - loss: 0.0277 - mae: 0.1795\n",
            "\n",
            "Epoch 00057: loss improved from 0.03223 to 0.02536, saving model to poids.hdf5\n",
            "Epoch 58/100\n",
            "30/30 [==============================] - 4s 120ms/step - loss: 0.0221 - mae: 0.1594\n",
            "\n",
            "Epoch 00058: loss improved from 0.02536 to 0.02019, saving model to poids.hdf5\n",
            "Epoch 59/100\n",
            "30/30 [==============================] - 4s 121ms/step - loss: 0.0182 - mae: 0.1448\n",
            "\n",
            "Epoch 00059: loss improved from 0.02019 to 0.01668, saving model to poids.hdf5\n",
            "Epoch 60/100\n",
            "30/30 [==============================] - 4s 121ms/step - loss: 0.0157 - mae: 0.1345\n",
            "\n",
            "Epoch 00060: loss improved from 0.01668 to 0.01460, saving model to poids.hdf5\n",
            "Epoch 61/100\n",
            "30/30 [==============================] - 4s 121ms/step - loss: 0.0141 - mae: 0.1273\n",
            "\n",
            "Epoch 00061: loss improved from 0.01460 to 0.01354, saving model to poids.hdf5\n",
            "Epoch 62/100\n",
            "30/30 [==============================] - 4s 120ms/step - loss: 0.0131 - mae: 0.1229\n",
            "\n",
            "Epoch 00062: loss improved from 0.01354 to 0.01307, saving model to poids.hdf5\n",
            "Epoch 63/100\n",
            "30/30 [==============================] - 4s 123ms/step - loss: 0.0127 - mae: 0.1205\n",
            "\n",
            "Epoch 00063: loss improved from 0.01307 to 0.01287, saving model to poids.hdf5\n",
            "Epoch 64/100\n",
            "30/30 [==============================] - 4s 122ms/step - loss: 0.0124 - mae: 0.1193\n",
            "\n",
            "Epoch 00064: loss improved from 0.01287 to 0.01277, saving model to poids.hdf5\n",
            "Epoch 65/100\n",
            "30/30 [==============================] - 4s 121ms/step - loss: 0.0123 - mae: 0.1186\n",
            "\n",
            "Epoch 00065: loss improved from 0.01277 to 0.01271, saving model to poids.hdf5\n",
            "Epoch 66/100\n",
            "30/30 [==============================] - 4s 120ms/step - loss: 0.0122 - mae: 0.1179\n",
            "\n",
            "Epoch 00066: loss improved from 0.01271 to 0.01267, saving model to poids.hdf5\n",
            "Epoch 67/100\n",
            "30/30 [==============================] - 4s 120ms/step - loss: 0.0122 - mae: 0.1168\n",
            "\n",
            "Epoch 00067: loss improved from 0.01267 to 0.01263, saving model to poids.hdf5\n",
            "Epoch 68/100\n",
            "30/30 [==============================] - 4s 120ms/step - loss: 0.0120 - mae: 0.1152\n",
            "\n",
            "Epoch 00068: loss improved from 0.01263 to 0.01258, saving model to poids.hdf5\n",
            "Epoch 69/100\n",
            "30/30 [==============================] - 4s 120ms/step - loss: 0.0119 - mae: 0.1136\n",
            "\n",
            "Epoch 00069: loss improved from 0.01258 to 0.01253, saving model to poids.hdf5\n",
            "Epoch 70/100\n",
            "30/30 [==============================] - 4s 122ms/step - loss: 0.0118 - mae: 0.1124\n",
            "\n",
            "Epoch 00070: loss improved from 0.01253 to 0.01251, saving model to poids.hdf5\n",
            "Epoch 71/100\n",
            "30/30 [==============================] - 4s 123ms/step - loss: 0.0118 - mae: 0.1119\n",
            "\n",
            "Epoch 00071: loss did not improve from 0.01251\n",
            "Epoch 72/100\n",
            "30/30 [==============================] - 4s 121ms/step - loss: 0.0133 - mae: 0.1199\n",
            "\n",
            "Epoch 00072: loss did not improve from 0.01251\n",
            "Epoch 73/100\n",
            "30/30 [==============================] - 4s 121ms/step - loss: 0.0742 - mae: 0.2786\n",
            "\n",
            "Epoch 00073: loss did not improve from 0.01251\n",
            "Epoch 74/100\n",
            "30/30 [==============================] - 4s 120ms/step - loss: 0.0471 - mae: 0.2340\n",
            "\n",
            "Epoch 00074: loss did not improve from 0.01251\n",
            "Epoch 75/100\n",
            "30/30 [==============================] - 4s 120ms/step - loss: 0.0584 - mae: 0.2505\n",
            "\n",
            "Epoch 00075: loss did not improve from 0.01251\n",
            "Epoch 76/100\n",
            "30/30 [==============================] - 4s 121ms/step - loss: 0.0568 - mae: 0.2425\n",
            "\n",
            "Epoch 00076: loss did not improve from 0.01251\n",
            "Epoch 77/100\n",
            "30/30 [==============================] - 4s 121ms/step - loss: 0.0852 - mae: 0.2881\n",
            "\n",
            "Epoch 00077: loss did not improve from 0.01251\n",
            "Epoch 78/100\n",
            "30/30 [==============================] - 4s 123ms/step - loss: 0.0644 - mae: 0.2775\n",
            "\n",
            "Epoch 00078: loss did not improve from 0.01251\n",
            "Epoch 79/100\n",
            "30/30 [==============================] - 4s 121ms/step - loss: 0.0419 - mae: 0.2252\n",
            "\n",
            "Epoch 00079: loss did not improve from 0.01251\n",
            "Epoch 80/100\n",
            "30/30 [==============================] - 4s 123ms/step - loss: 0.3474 - mae: 0.7167\n",
            "\n",
            "Epoch 00080: loss did not improve from 0.01251\n",
            "Epoch 81/100\n",
            "30/30 [==============================] - 4s 124ms/step - loss: 6.6943 - mae: 7.1919\n",
            "\n",
            "Epoch 00081: loss did not improve from 0.01251\n",
            "Epoch 82/100\n",
            "30/30 [==============================] - 4s 127ms/step - loss: 2.3562 - mae: 2.8548\n",
            "\n",
            "Epoch 00082: loss did not improve from 0.01251\n",
            "Epoch 83/100\n",
            "30/30 [==============================] - 4s 124ms/step - loss: 1.4776 - mae: 1.9744\n",
            "\n",
            "Epoch 00083: loss did not improve from 0.01251\n",
            "Epoch 84/100\n",
            "30/30 [==============================] - 4s 125ms/step - loss: 1.6224 - mae: 2.1176\n",
            "\n",
            "Epoch 00084: loss did not improve from 0.01251\n",
            "Epoch 85/100\n",
            "30/30 [==============================] - 4s 123ms/step - loss: 1.3669 - mae: 1.8207\n",
            "\n",
            "Epoch 00085: loss did not improve from 0.01251\n",
            "Epoch 86/100\n",
            "30/30 [==============================] - 4s 123ms/step - loss: 2.2487 - mae: 2.7487\n",
            "\n",
            "Epoch 00086: loss did not improve from 0.01251\n",
            "Epoch 87/100\n",
            "30/30 [==============================] - 4s 120ms/step - loss: 2.6578 - mae: 3.1578\n",
            "\n",
            "Epoch 00087: loss did not improve from 0.01251\n",
            "Epoch 88/100\n",
            "30/30 [==============================] - 4s 122ms/step - loss: 4.4790 - mae: 4.9781\n",
            "\n",
            "Epoch 00088: loss did not improve from 0.01251\n",
            "Epoch 89/100\n",
            "30/30 [==============================] - 4s 122ms/step - loss: 7.1086 - mae: 7.6083\n",
            "\n",
            "Epoch 00089: loss did not improve from 0.01251\n",
            "Epoch 90/100\n",
            "30/30 [==============================] - 4s 121ms/step - loss: 8.4039 - mae: 8.8827\n",
            "\n",
            "Epoch 00090: loss did not improve from 0.01251\n",
            "Epoch 91/100\n",
            "30/30 [==============================] - 4s 122ms/step - loss: 7.2824 - mae: 7.7824\n",
            "\n",
            "Epoch 00091: loss did not improve from 0.01251\n",
            "Epoch 92/100\n",
            "30/30 [==============================] - 4s 122ms/step - loss: 9.6404 - mae: 10.1404\n",
            "\n",
            "Epoch 00092: loss did not improve from 0.01251\n",
            "Epoch 93/100\n",
            "30/30 [==============================] - 4s 123ms/step - loss: 33.1298 - mae: 33.6298\n",
            "\n",
            "Epoch 00093: loss did not improve from 0.01251\n",
            "Epoch 94/100\n",
            "30/30 [==============================] - 4s 125ms/step - loss: 58.3766 - mae: 58.8766\n",
            "\n",
            "Epoch 00094: loss did not improve from 0.01251\n",
            "Epoch 95/100\n",
            "30/30 [==============================] - 4s 125ms/step - loss: 69.1790 - mae: 69.6790\n",
            "\n",
            "Epoch 00095: loss did not improve from 0.01251\n",
            "Epoch 96/100\n",
            "30/30 [==============================] - 4s 125ms/step - loss: 82.1028 - mae: 82.6028\n",
            "\n",
            "Epoch 00096: loss did not improve from 0.01251\n",
            "Epoch 97/100\n",
            "30/30 [==============================] - 4s 124ms/step - loss: 126.2042 - mae: 126.7042\n",
            "\n",
            "Epoch 00097: loss did not improve from 0.01251\n",
            "Epoch 98/100\n",
            "30/30 [==============================] - 4s 124ms/step - loss: 98.0156 - mae: 98.5156\n",
            "\n",
            "Epoch 00098: loss did not improve from 0.01251\n",
            "Epoch 99/100\n",
            "30/30 [==============================] - 4s 126ms/step - loss: 127.2294 - mae: 127.7294\n",
            "\n",
            "Epoch 00099: loss did not improve from 0.01251\n",
            "Epoch 100/100\n",
            "30/30 [==============================] - 4s 126ms/step - loss: 208.0425 - mae: 208.5425\n",
            "\n",
            "Epoch 00100: loss did not improve from 0.01251\n"
          ],
          "name": "stdout"
        }
      ]
    },
    {
      "cell_type": "code",
      "metadata": {
        "id": "q1_WMNlzu2B4",
        "outputId": "122e21aa-a6c2-4993-9ec1-1e7d12cd5851",
        "colab": {
          "base_uri": "https://localhost:8080/",
          "height": 411
        }
      },
      "source": [
        "# Construit un vecteur avec les valeurs du taux d'apprentissage à chaque période \n",
        "taux = 1e-8*(10**(np.arange(100)/10))\n",
        "\n",
        "# Affiche l'erreur en fonction du taux d'apprentissage\n",
        "plt.figure(figsize=(10, 6))\n",
        "plt.semilogx(taux,historique.history[\"loss\"])\n",
        "plt.axis([ taux[0], taux[99], 0, 1])\n",
        "plt.title(\"Evolution de l'erreur en fonction du taux d'apprentissage\")"
      ],
      "execution_count": 7,
      "outputs": [
        {
          "output_type": "execute_result",
          "data": {
            "text/plain": [
              "Text(0.5, 1.0, \"Evolution de l'erreur en fonction du taux d'apprentissage\")"
            ]
          },
          "metadata": {
            "tags": []
          },
          "execution_count": 7
        },
        {
          "output_type": "display_data",
          "data": {
            "image/png": "[encoded data removed]",
            "text/plain": [
              "<Figure size 720x432 with 1 Axes>"
            ]
          },
          "metadata": {
            "tags": [],
            "needs_background": "light"
          }
        }
      ]
    },
    {
      "cell_type": "markdown",
      "metadata": {
        "id": "6XdXh_b0GP_F"
      },
      "source": [
        "**3. Entrainement du modèle**"
      ]
    },
    {
      "cell_type": "code",
      "metadata": {
        "id": "80pEtJ10wIfY"
      },
      "source": [
        "# Charge les meilleurs poids\n",
        "model.load_weights(\"poids.hdf5\")"
      ],
      "execution_count": 8,
      "outputs": []
    },
    {
      "cell_type": "code",
      "metadata": {
        "id": "16ujUiELwR33",
        "colab": {
          "base_uri": "https://localhost:8080/"
        },
        "outputId": "3f719acf-8149-49a2-8670-f9e2a8eec037"
      },
      "source": [
        "from timeit import default_timer as timer\n",
        "\n",
        "class TimingCallback(keras.callbacks.Callback):\n",
        "    def __init__(self, logs={}):\n",
        "        self.logs=[]\n",
        "    def on_epoch_begin(self, epoch, logs={}):\n",
        "        self.starttime = timer()\n",
        "    def on_epoch_end(self, epoch, logs={}):\n",
        "        self.logs.append(timer()-self.starttime)\n",
        "\n",
        "cb = TimingCallback()\n",
        "\n",
        "# Définition de l'optimiseur à utiliser\n",
        "optimiseur=tf.keras.optimizers.SGD(lr=2e-2,momentum=0.9)\n",
        "\n",
        "# Utilisation de la méthode ModelCheckPoint\n",
        "CheckPoint = tf.keras.callbacks.ModelCheckpoint(\"poids_train.hdf5\", monitor='loss', verbose=1, save_best_only=True, save_weights_only = True, mode='auto', save_freq='epoch')\n",
        "\n",
        "# Compile le modèle\n",
        "model.compile(loss=tf.keras.losses.Huber(), optimizer=optimiseur,metrics=\"mae\")\n",
        "\n",
        "# Entraine le modèle\n",
        "historique = model.fit(dataset_norm,validation_data=dataset_Val_norm, epochs=20,verbose=1, callbacks=[CheckPoint,cb])\n",
        "\n",
        "print(cb.logs)\n",
        "print(sum(cb.logs))"
      ],
      "execution_count": 9,
      "outputs": [
        {
          "output_type": "stream",
          "text": [
            "Epoch 1/20\n",
            "WARNING:tensorflow:Gradients do not exist for variables ['couche__end_to__end_mn/p:0'] when minimizing the loss.\n",
            "WARNING:tensorflow:Gradients do not exist for variables ['couche__end_to__end_mn/p:0'] when minimizing the loss.\n",
            "30/30 [==============================] - 11s 213ms/step - loss: 0.0187 - mae: 0.1550 - val_loss: 0.0118 - val_mae: 0.1139\n",
            "\n",
            "Epoch 00001: loss improved from inf to 0.01829, saving model to poids_train.hdf5\n",
            "Epoch 2/20\n",
            "30/30 [==============================] - 5s 160ms/step - loss: 0.0172 - mae: 0.1464 - val_loss: 0.0120 - val_mae: 0.1167\n",
            "\n",
            "Epoch 00002: loss improved from 0.01829 to 0.01774, saving model to poids_train.hdf5\n",
            "Epoch 3/20\n",
            "30/30 [==============================] - 5s 161ms/step - loss: 0.0186 - mae: 0.1539 - val_loss: 0.0124 - val_mae: 0.1199\n",
            "\n",
            "Epoch 00003: loss did not improve from 0.01774\n",
            "Epoch 4/20\n",
            "30/30 [==============================] - 5s 161ms/step - loss: 0.0163 - mae: 0.1423 - val_loss: 0.0121 - val_mae: 0.1174\n",
            "\n",
            "Epoch 00004: loss improved from 0.01774 to 0.01613, saving model to poids_train.hdf5\n",
            "Epoch 5/20\n",
            "30/30 [==============================] - 5s 160ms/step - loss: 0.0137 - mae: 0.1282 - val_loss: 0.0115 - val_mae: 0.1132\n",
            "\n",
            "Epoch 00005: loss improved from 0.01613 to 0.01404, saving model to poids_train.hdf5\n",
            "Epoch 6/20\n",
            "30/30 [==============================] - 5s 161ms/step - loss: 0.0125 - mae: 0.1227 - val_loss: 0.0113 - val_mae: 0.1115\n",
            "\n",
            "Epoch 00006: loss improved from 0.01404 to 0.01314, saving model to poids_train.hdf5\n",
            "Epoch 7/20\n",
            "30/30 [==============================] - 5s 162ms/step - loss: 0.0123 - mae: 0.1215 - val_loss: 0.0113 - val_mae: 0.1112\n",
            "\n",
            "Epoch 00007: loss improved from 0.01314 to 0.01292, saving model to poids_train.hdf5\n",
            "Epoch 8/20\n",
            "30/30 [==============================] - 5s 163ms/step - loss: 0.0122 - mae: 0.1207 - val_loss: 0.0113 - val_mae: 0.1110\n",
            "\n",
            "Epoch 00008: loss improved from 0.01292 to 0.01281, saving model to poids_train.hdf5\n",
            "Epoch 9/20\n",
            "30/30 [==============================] - 5s 165ms/step - loss: 0.0120 - mae: 0.1199 - val_loss: 0.0113 - val_mae: 0.1108\n",
            "\n",
            "Epoch 00009: loss improved from 0.01281 to 0.01269, saving model to poids_train.hdf5\n",
            "Epoch 10/20\n",
            "30/30 [==============================] - 5s 168ms/step - loss: 0.0119 - mae: 0.1193 - val_loss: 0.0113 - val_mae: 0.1106\n",
            "\n",
            "Epoch 00010: loss improved from 0.01269 to 0.01259, saving model to poids_train.hdf5\n",
            "Epoch 11/20\n",
            "30/30 [==============================] - 5s 167ms/step - loss: 0.0118 - mae: 0.1187 - val_loss: 0.0113 - val_mae: 0.1105\n",
            "\n",
            "Epoch 00011: loss improved from 0.01259 to 0.01251, saving model to poids_train.hdf5\n",
            "Epoch 12/20\n",
            "30/30 [==============================] - 5s 169ms/step - loss: 0.0117 - mae: 0.1182 - val_loss: 0.0113 - val_mae: 0.1104\n",
            "\n",
            "Epoch 00012: loss improved from 0.01251 to 0.01244, saving model to poids_train.hdf5\n",
            "Epoch 13/20\n",
            "30/30 [==============================] - 5s 168ms/step - loss: 0.0117 - mae: 0.1178 - val_loss: 0.0112 - val_mae: 0.1103\n",
            "\n",
            "Epoch 00013: loss improved from 0.01244 to 0.01237, saving model to poids_train.hdf5\n",
            "Epoch 14/20\n",
            "30/30 [==============================] - 5s 170ms/step - loss: 0.0116 - mae: 0.1174 - val_loss: 0.0112 - val_mae: 0.1102\n",
            "\n",
            "Epoch 00014: loss improved from 0.01237 to 0.01232, saving model to poids_train.hdf5\n",
            "Epoch 15/20\n",
            "30/30 [==============================] - 5s 164ms/step - loss: 0.0115 - mae: 0.1170 - val_loss: 0.0112 - val_mae: 0.1101\n",
            "\n",
            "Epoch 00015: loss improved from 0.01232 to 0.01227, saving model to poids_train.hdf5\n",
            "Epoch 16/20\n",
            "30/30 [==============================] - 5s 181ms/step - loss: 0.0115 - mae: 0.1167 - val_loss: 0.0112 - val_mae: 0.1101\n",
            "\n",
            "Epoch 00016: loss improved from 0.01227 to 0.01222, saving model to poids_train.hdf5\n",
            "Epoch 17/20\n",
            "30/30 [==============================] - 5s 173ms/step - loss: 0.0114 - mae: 0.1164 - val_loss: 0.0112 - val_mae: 0.1101\n",
            "\n",
            "Epoch 00017: loss improved from 0.01222 to 0.01218, saving model to poids_train.hdf5\n",
            "Epoch 18/20\n",
            "30/30 [==============================] - 5s 167ms/step - loss: 0.0114 - mae: 0.1162 - val_loss: 0.0112 - val_mae: 0.1100\n",
            "\n",
            "Epoch 00018: loss improved from 0.01218 to 0.01215, saving model to poids_train.hdf5\n",
            "Epoch 19/20\n",
            "30/30 [==============================] - 5s 162ms/step - loss: 0.0114 - mae: 0.1159 - val_loss: 0.0112 - val_mae: 0.1100\n",
            "\n",
            "Epoch 00019: loss improved from 0.01215 to 0.01211, saving model to poids_train.hdf5\n",
            "Epoch 20/20\n",
            "30/30 [==============================] - 5s 165ms/step - loss: 0.0113 - mae: 0.1157 - val_loss: 0.0112 - val_mae: 0.1100\n",
            "\n",
            "Epoch 00020: loss improved from 0.01211 to 0.01208, saving model to poids_train.hdf5\n",
            "[10.591473561000043, 4.760814832000051, 4.787022059999913, 4.803188195999951, 4.774715822999951, 4.829728993999993, 4.817422863000047, 4.880533998999908, 4.92793166499996, 5.030201856000076, 5.007828132999975, 5.066367974999935, 5.017921770000044, 5.082642784000086, 4.897214593000058, 5.418631467000068, 5.1878052550000575, 4.9896688950000225, 4.846580791999941, 4.928386777000014]\n",
            "104.6460822900001\n"
          ],
          "name": "stdout"
        }
      ]
    },
    {
      "cell_type": "code",
      "metadata": {
        "id": "COP9u4yitvmw",
        "colab": {
          "base_uri": "https://localhost:8080/",
          "height": 407
        },
        "outputId": "1af17e8c-f740-4836-d6e4-69092127f11e"
      },
      "source": [
        "erreur_entrainement = historique.history[\"loss\"]\n",
        "erreur_validation = historique.history[\"val_loss\"]\n",
        "\n",
        "# Affiche l'erreur en fonction de la période\n",
        "plt.figure(figsize=(10, 6))\n",
        "plt.plot(np.arange(0,len(erreur_entrainement)),erreur_entrainement, label=\"Erreurs sur les entrainements\")\n",
        "plt.plot(np.arange(0,len(erreur_entrainement)),erreur_validation, label =\"Erreurs sur les validations\")\n",
        "plt.legend()\n",
        "\n",
        "plt.title(\"Evolution de l'erreur en fonction de la période\")"
      ],
      "execution_count": 10,
      "outputs": [
        {
          "output_type": "execute_result",
          "data": {
            "text/plain": [
              "Text(0.5, 1.0, \"Evolution de l'erreur en fonction de la période\")"
            ]
          },
          "metadata": {
            "tags": []
          },
          "execution_count": 10
        },
        {
          "output_type": "display_data",
          "data": {
            "image/png": "[encoded data removed]",
            "text/plain": [
              "<Figure size 720x432 with 1 Axes>"
            ]
          },
          "metadata": {
            "tags": [],
            "needs_background": "light"
          }
        }
      ]
    },
    {
      "cell_type": "code",
      "metadata": {
        "id": "_o2zh6N9t1b7",
        "colab": {
          "base_uri": "https://localhost:8080/",
          "height": 407
        },
        "outputId": "b7e23111-3aca-473f-ab16-cb36f4a4996a"
      },
      "source": [
        "erreur_entrainement = historique.history[\"loss\"]\n",
        "erreur_validation = historique.history[\"val_loss\"]\n",
        "\n",
        "# Affiche l'erreur en fonction de la période\n",
        "plt.figure(figsize=(10, 6))\n",
        "plt.plot(np.arange(0,len(erreur_entrainement[400:500])),erreur_entrainement[400:500], label=\"Erreurs sur les entrainements\")\n",
        "plt.plot(np.arange(0,len(erreur_entrainement[400:500])),erreur_validation[400:500], label =\"Erreurs sur les validations\")\n",
        "plt.legend()\n",
        "\n",
        "plt.title(\"Evolution de l'erreur en fonction de la période\")"
      ],
      "execution_count": 11,
      "outputs": [
        {
          "output_type": "execute_result",
          "data": {
            "text/plain": [
              "Text(0.5, 1.0, \"Evolution de l'erreur en fonction de la période\")"
            ]
          },
          "metadata": {
            "tags": []
          },
          "execution_count": 11
        },
        {
          "output_type": "display_data",
          "data": {
            "image/png": "[encoded data removed]",
            "text/plain": [
              "<Figure size 720x432 with 1 Axes>"
            ]
          },
          "metadata": {
            "tags": [],
            "needs_background": "light"
          }
        }
      ]
    },
    {
      "cell_type": "markdown",
      "metadata": {
        "id": "T6Gq2CkeGR_1"
      },
      "source": [
        "**4. Prédictions**"
      ]
    },
    {
      "cell_type": "code",
      "metadata": {
        "id": "CEm-s_2lhET4"
      },
      "source": [
        "dataPredict = prepare_dataset_XY(x_validation_norm,taille_fenetre,batch_size,buffer_melange)\n",
        "\n",
        "predictions = model.predict(dataPredict)\n",
        "predictions = tf.reshape(predictions,shape=(predictions.shape[0],1))"
      ],
      "execution_count": 12,
      "outputs": []
    },
    {
      "cell_type": "code",
      "metadata": {
        "id": "Qg9SjUSLhnwP",
        "colab": {
          "base_uri": "https://localhost:8080/"
        },
        "outputId": "5536c819-d422-473e-fc0f-596f11d230f9"
      },
      "source": [
        "predictions.shape"
      ],
      "execution_count": null,
      "outputs": [
        {
          "output_type": "execute_result",
          "data": {
            "text/plain": [
              "TensorShape([416, 1])"
            ]
          },
          "metadata": {
            "tags": []
          },
          "execution_count": 166
        }
      ]
    },
    {
      "cell_type": "code",
      "metadata": {
        "id": "Wd2nfDcgG8EO",
        "colab": {
          "base_uri": "https://localhost:8080/",
          "height": 791
        },
        "outputId": "89ea309f-5fd1-4006-b38f-80b5b88f0aae"
      },
      "source": [
        "reste = len(temps[temps_separation:])-predictions.shape[0]\n",
        "\n",
        "# Affiche la série et les prédictions\n",
        "plt.figure(figsize=(10, 6))\n",
        "affiche_serie(temps,serie,label=\"Série temporelle\")\n",
        "\n",
        "if reste != 0:\n",
        "  affiche_serie(temps[temps_separation+taille_fenetre:-reste+taille_fenetre],np.asarray(predictions*std.numpy()+mean.numpy()),label=\"Prédictions\")\n",
        "else :\n",
        "  affiche_serie(temps[temps_separation+taille_fenetre:taille_fenetre],np.asarray(predictions*std.numpy()+mean.numpy()),label=\"Prédictions\")\n",
        "\n",
        "\n",
        "plt.title('Prédictions avec le modèle GRU + Attention hierarchique')\n",
        "plt.show()\n",
        "\n",
        "# Zoom sur l'intervalle de validation\n",
        "plt.figure(figsize=(10, 6))\n",
        "affiche_serie(temps[temps_separation:],serie[temps_separation:],label=\"Série temporelle\")\n",
        "if reste != 0:\n",
        "  affiche_serie(temps[temps_separation+taille_fenetre:-reste+taille_fenetre],np.asarray(predictions*std.numpy()+mean.numpy()),label=\"Prédictions\")\n",
        "else :\n",
        "  affiche_serie(temps[temps_separation+taille_fenetre:taille_fenetre],np.asarray(predictions*std.numpy()+mean.numpy()),label=\"Prédictions\")\n",
        "plt.title(\"Prédictions avec le modèle GRU + Attention hierarchique (zoom sur l'intervalle de validation)\")\n",
        "plt.show()"
      ],
      "execution_count": 13,
      "outputs": [
        {
          "output_type": "display_data",
          "data": {
            "image/png": "[encoded data removed]",
            "text/plain": [
              "<Figure size 720x432 with 1 Axes>"
            ]
          },
          "metadata": {
            "tags": [],
            "needs_background": "light"
          }
        },
        {
          "output_type": "display_data",
          "data": {
            "image/png": "[encoded data removed]",
            "text/plain": [
              "<Figure size 720x432 with 1 Axes>"
            ]
          },
          "metadata": {
            "tags": [],
            "needs_background": "light"
          }
        }
      ]
    },
    {
      "cell_type": "code",
      "metadata": {
        "id": "PDS7BJvZG_e1",
        "colab": {
          "base_uri": "https://localhost:8080/"
        },
        "outputId": "fa473309-6346-41f1-e7b5-73c09ffc6898"
      },
      "source": [
        "# Calcule de l'erreur quadratique moyenne et de l'erreur absolue moyenne \n",
        "\n",
        "mae = tf.keras.metrics.mean_absolute_error(serie[temps_separation+taille_fenetre:-reste+taille_fenetre],np.asarray(predictions[:,0]*std.numpy()+mean.numpy())).numpy()\n",
        "mse = tf.keras.metrics.mean_squared_error(serie[temps_separation+taille_fenetre:-reste+taille_fenetre],np.asarray(predictions[:,0]*std.numpy()+mean.numpy())).numpy()\n",
        "\n",
        "print(mae)\n",
        "print(mse)"
      ],
      "execution_count": 14,
      "outputs": [
        {
          "output_type": "stream",
          "text": [
            "4.8200383\n",
            "43.103874\n"
          ],
          "name": "stdout"
        }
      ]
    }
  ]
}