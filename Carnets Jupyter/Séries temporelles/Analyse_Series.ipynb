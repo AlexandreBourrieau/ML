{
  "nbformat": 4,
  "nbformat_minor": 0,
  "metadata": {
    "colab": {
      "name": "Reseau_DNN_HETERO.ipynb",
      "provenance": [],
      "include_colab_link": true
    },
    "kernelspec": {
      "name": "python3",
      "display_name": "Python 3"
    }
  },
  "cells": [
    {
      "cell_type": "markdown",
      "metadata": {
        "id": "view-in-github",
        "colab_type": "text"
      },
      "source": [
        "<a href=\"https://colab.research.google.com/github/AlexandreBourrieau/ML/blob/main/Carnets%20Jupyter/S%C3%A9ries%20temporelles/Analyse_Series.ipynb\" target=\"_parent\"><img src=\"https://colab.research.google.com/assets/colab-badge.svg\" alt=\"Open In Colab\"/></a>"
      ]
    },
    {
      "cell_type": "markdown",
      "metadata": {
        "id": "QmjzzOYPqbN5"
      },
      "source": [
        "Dans ce carnet nous allons mettre en application les outils de base d'analyse et de traitement des séries temporelles :\n",
        "  - Autocorrélation \n",
        "  - Autocorrélation partielle\n",
        "  - Suppression d'une tendance linéaire d'une série\n",
        "  - Différenciation non saisonnale et saisonnale\n",
        "  - Suppression d'une tendance non linéaire d'une série\n",
        "  - Supression d'une saisonnalité\n",
        "  - Test de Dickey-Fuller (test de stationnarité)"
      ]
    },
    {
      "cell_type": "code",
      "metadata": {
        "id": "RRhtHsNn5fc3"
      },
      "source": [
        "import tensorflow as tf\n",
        "from tensorflow import keras\n",
        "\n",
        "import numpy as np\n",
        "import matplotlib.pyplot as plt\n",
        "import pandas as pd"
      ],
      "execution_count": null,
      "outputs": []
    },
    {
      "cell_type": "code",
      "metadata": {
        "id": "gYsaIcAzcKKV"
      },
      "source": [
        "!pip install statsmodels --upgrade"
      ],
      "execution_count": null,
      "outputs": []
    },
    {
      "cell_type": "markdown",
      "metadata": {
        "id": "1pe7KFrFZQft"
      },
      "source": [
        "# Chargement des séries"
      ]
    },
    {
      "cell_type": "code",
      "metadata": {
        "id": "BSvkcsKkZYxb"
      },
      "source": [
        "# Fonction permettant d'afficher une série temporelle\n",
        "def affiche_serie(temps, serie, format=\"-\", debut=0, fin=None, label=None):\n",
        "    plt.plot(temps[debut:fin], serie[debut:fin], format, label=label)\n",
        "    plt.xlabel(\"Temps\")\n",
        "    plt.ylabel(\"Valeur\")\n",
        "    if label:\n",
        "        plt.legend(fontsize=14)\n",
        "    plt.grid(True)\n",
        "\n",
        "!rm *.csv\n",
        "!rm *.csv.*\n",
        "!wget -q --no-check-certificate --content-disposition \"https://raw.githubusercontent.com/AlexandreBourrieau/ML/main/Carnets%20Jupyter/S%C3%A9ries%20temporelles/data/serie_hetero.csv\"\n",
        "!wget -q --no-check-certificate --content-disposition  \"https://raw.githubusercontent.com/AlexandreBourrieau/ML/main/Carnets%20Jupyter/S%C3%A9ries%20temporelles/data/serie_homo.csv\"\n",
        "!wget -q --no-check-certificate --content-disposition \"https://raw.githubusercontent.com/AlexandreBourrieau/ML/main/Carnets%20Jupyter/S%C3%A9ries%20temporelles/data/serie_bb.csv\"\n",
        "!wget -q --no-check-certificate --content-disposition \"https://raw.githubusercontent.com/AlexandreBourrieau/ML/main/Carnets%20Jupyter/S%C3%A9ries%20temporelles/data/serie_rw.csv\"\n",
        "!wget -q --no-check-certificate --content-disposition \"https://raw.githubusercontent.com/AlexandreBourrieau/ML/main/Carnets%20Jupyter/S%C3%A9ries%20temporelles/data/serie_bb_trend.csv\"\n",
        "!wget -q --no-check-certificate --content-disposition \"https://raw.githubusercontent.com/AlexandreBourrieau/ML/main/Carnets%20Jupyter/S%C3%A9ries%20temporelles/data/GDP.csv\"\n",
        "!wget -q --no-check-certificate --content-disposition \"https://raw.githubusercontent.com/AlexandreBourrieau/ML/main/Carnets%20Jupyter/S%C3%A9ries%20temporelles/data/Data_Airline.csv\"\n",
        "!wget -q --no-check-certificate --content-disposition \"https://raw.githubusercontent.com/AlexandreBourrieau/ML/main/Carnets%20Jupyter/S%C3%A9ries%20temporelles/data/Data_Accidental.csv\"\n",
        "\n",
        "\n",
        "serie_hetero = pd.read_csv(\"serie_hetero.csv\", usecols=[1], engine='python')\n",
        "serie_homo = pd.read_csv(\"serie_homo.csv\", usecols=[1], engine='python')\n",
        "serie_bb = pd.read_csv(\"serie_bb.csv\", usecols=[1], engine='python')\n",
        "serie_rw = pd.read_csv(\"serie_rw.csv\", usecols=[1], engine='python')\n",
        "serie_bb_trend = pd.read_csv(\"serie_bb_trend.csv\", usecols=[1], engine='python')\n",
        "serie_gdp = pd.read_csv(\"GDP.csv\", usecols=[0], engine='python')\n",
        "serie_data_airline = pd.read_csv(\"Data_Airline.csv\", usecols=[0], engine='python')\n",
        "serie_data_accidental = pd.read_csv(\"Data_Accidental.csv\", usecols=[0], engine='python')\n",
        "\n",
        "\n",
        "serie_hetero = np.asarray(serie_hetero.astype('float32'))[:,0]\n",
        "serie_homo = np.asarray(serie_homo.astype('float32'))[:,0]\n",
        "serie_bb = np.asarray(serie_bb.astype('float32'))[:,0]\n",
        "serie_rw = np.asarray(serie_rw.astype('float32'))[:,0]\n",
        "serie_bb_trend = np.asarray(serie_bb_trend.astype('float32'))[:,0]\n",
        "serie_gdp = np.asarray(serie_gdp.astype('float32'))[:,0]\n",
        "serie_data_airline = np.asarray(serie_data_airline.astype('float32'))[:,0]\n",
        "serie_data_accidental = np.asarray(serie_data_accidental.astype('float32'))[:,0]"
      ],
      "execution_count": null,
      "outputs": []
    },
    {
      "cell_type": "code",
      "metadata": {
        "id": "vX8zTeZHknHD"
      },
      "source": [
        "serie_gdp = pd.read_csv(\"GDP.csv\", usecols=[0], engine='python')"
      ],
      "execution_count": null,
      "outputs": []
    },
    {
      "cell_type": "code",
      "metadata": {
        "id": "gOQW_0UQktyg"
      },
      "source": [
        "serie_gdp = np.asarray(serie_gdp.astype('float32'))[:,0]"
      ],
      "execution_count": null,
      "outputs": []
    },
    {
      "cell_type": "code",
      "metadata": {
        "id": "nnObHetIk4v4"
      },
      "source": [
        "serie_gdp"
      ],
      "execution_count": null,
      "outputs": []
    },
    {
      "cell_type": "markdown",
      "metadata": {
        "id": "wjHjw9-Wc-Wm"
      },
      "source": [
        "#1. Bruit blanc\n",
        "\n",
        "\n"
      ]
    },
    {
      "cell_type": "code",
      "metadata": {
        "id": "yTyXMzSgdAvp"
      },
      "source": [
        "temps = np.linspace(0,len(serie_bb),len(serie_bb))\n",
        "plt.figure(figsize=(10, 6))\n",
        "affiche_serie(temps,serie_bb)\n",
        "plt.title('Bruit blanc')\n",
        "plt.show()"
      ],
      "execution_count": null,
      "outputs": []
    },
    {
      "cell_type": "code",
      "metadata": {
        "id": "mr8l-814dGbv"
      },
      "source": [
        "# ACF & PACF du bruit blanc\n",
        "\n",
        "from statsmodels.graphics.tsaplots import plot_acf, plot_pacf\n",
        "\n",
        "f1, (ax1, ax2) = plt.subplots(1, 2, figsize=(15, 8))\n",
        "f1.subplots_adjust(hspace=0.3,wspace=0.2)\n",
        "\n",
        "plot_acf(serie_bb, ax=ax1, lags = range(0,50))\n",
        "ax1.set_title(\"Autocorrélation du bruit blanc\")\n",
        "\n",
        "plot_pacf(serie_bb, ax=ax2, lags = range(0, 50))\n",
        "ax2.set_title(\"Autocorrélation partielle du bruit blanc\")\n"
      ],
      "execution_count": null,
      "outputs": []
    },
    {
      "cell_type": "markdown",
      "metadata": {
        "id": "oXEZd8B5okFg"
      },
      "source": [
        "Test de Dickey-Fuller"
      ]
    },
    {
      "cell_type": "code",
      "metadata": {
        "id": "kioJ1Nm0oosV"
      },
      "source": [
        "import statsmodels.api as sm\n",
        "\n",
        "serie_test = serie_bb\n",
        "\n",
        "adf, p, usedlag, nobs, cvs, aic = sm.tsa.stattools.adfuller(serie_test)\n",
        "\n",
        "adf_results_string = 'ADF: {}\\np-value: {},\\nN: {}, \\ncritical values: {}'\n",
        "print(adf_results_string.format(adf, p, nobs, cvs))"
      ],
      "execution_count": null,
      "outputs": []
    },
    {
      "cell_type": "markdown",
      "metadata": {
        "id": "mMEVyrAidpZb"
      },
      "source": [
        "#2. Bruit blanc avec tendance"
      ]
    },
    {
      "cell_type": "markdown",
      "metadata": {
        "id": "KHQO4CugjgJt"
      },
      "source": [
        "Voyons comment supprimer la tendance sur un bruit blanc"
      ]
    },
    {
      "cell_type": "code",
      "metadata": {
        "id": "K_7Nbc62eP1a"
      },
      "source": [
        "temps = np.linspace(0,len(serie_bb),len(serie_bb_trend))\n",
        "plt.figure(figsize=(10, 6))\n",
        "affiche_serie(temps,serie_bb_trend)\n",
        "plt.title('Bruit blanc avec tendance')\n",
        "plt.show()"
      ],
      "execution_count": null,
      "outputs": []
    },
    {
      "cell_type": "code",
      "metadata": {
        "id": "dI3JJwWqfgXx"
      },
      "source": [
        "# ACF & PACF du bruit blanc avec tendance\n",
        "\n",
        "from statsmodels.graphics.tsaplots import plot_acf, plot_pacf\n",
        "\n",
        "f1, (ax1, ax2) = plt.subplots(1, 2, figsize=(15, 8))\n",
        "f1.subplots_adjust(hspace=0.3,wspace=0.2)\n",
        "\n",
        "plot_acf(serie_bb_trend, ax=ax1, lags = range(0,50))\n",
        "ax1.set_title(\"Autocorrélation du bruit blanc avec tendance\")\n",
        "\n",
        "plot_pacf(serie_bb_trend, ax=ax2, lags = range(0, 50))\n",
        "ax2.set_title(\"Autocorrélation partielle du bruit blanc avec tendance\")"
      ],
      "execution_count": null,
      "outputs": []
    },
    {
      "cell_type": "code",
      "metadata": {
        "id": "Bdcu3fsmf8dB"
      },
      "source": [
        "# Detendring du bruit blanc avec tendance\n",
        "from scipy import signal\n",
        "\n",
        "serie_bb_detrend = signal.detrend(serie_bb_trend)\n",
        "\n",
        "plt.figure(figsize=(10, 6))\n",
        "affiche_serie(temps,serie_bb_detrend)\n",
        "plt.title('Signal sans tendance')\n",
        "plt.show()"
      ],
      "execution_count": null,
      "outputs": []
    },
    {
      "cell_type": "code",
      "metadata": {
        "id": "njvimW9YgmDR"
      },
      "source": [
        "# ACF & PACF du signal\n",
        "\n",
        "from statsmodels.graphics.tsaplots import plot_acf, plot_pacf\n",
        "\n",
        "f1, (ax1, ax2) = plt.subplots(1, 2, figsize=(15, 8))\n",
        "f1.subplots_adjust(hspace=0.3,wspace=0.2)\n",
        "\n",
        "plot_acf(serie_bb_detrend, ax=ax1, lags = range(0,50))\n",
        "ax1.set_title(\"Autocorrélation du bruit blanc avec tendance\")\n",
        "\n",
        "plot_pacf(serie_bb_detrend, ax=ax2, lags = range(0, 50))\n",
        "ax2.set_title(\"Autocorrélation partielle du bruit blanc avec tendance\")"
      ],
      "execution_count": null,
      "outputs": []
    },
    {
      "cell_type": "code",
      "metadata": {
        "id": "MlcN_yw6qf4c"
      },
      "source": [
        "import statsmodels.api as sm\n",
        "\n",
        "serie_test = serie_bb_trend\n",
        "#serie_test = serie_bb_detrend\n",
        "\n",
        "adf, p, usedlag, nobs, cvs, aic = sm.tsa.stattools.adfuller(serie_test)\n",
        "\n",
        "adf_results_string = 'ADF: {}\\np-value: {},\\nN: {}, \\ncritical values: {}'\n",
        "print(adf_results_string.format(adf, p, nobs, cvs))"
      ],
      "execution_count": null,
      "outputs": []
    },
    {
      "cell_type": "markdown",
      "metadata": {
        "id": "V80_QuiBdX2j"
      },
      "source": [
        "#3. Random Walk"
      ]
    },
    {
      "cell_type": "markdown",
      "metadata": {
        "id": "CHUhvsNLjkJN"
      },
      "source": [
        "Voyons comment supprimer la tendance et différencier un signal à l'odre 1"
      ]
    },
    {
      "cell_type": "code",
      "metadata": {
        "id": "Ln1nkNc0ddoJ"
      },
      "source": [
        "temps = np.linspace(0,len(serie_bb),len(serie_rw))\n",
        "\n",
        "plt.figure(figsize=(10, 6))\n",
        "affiche_serie(temps,serie_rw)\n",
        "plt.title('Random Walk')\n",
        "plt.show()"
      ],
      "execution_count": null,
      "outputs": []
    },
    {
      "cell_type": "code",
      "metadata": {
        "id": "DQ7Y5M9-g2v7"
      },
      "source": [
        "# ACF & PACF du random walk\n",
        "\n",
        "from statsmodels.graphics.tsaplots import plot_acf, plot_pacf\n",
        "\n",
        "f1, (ax1, ax2) = plt.subplots(1, 2, figsize=(15, 8))\n",
        "f1.subplots_adjust(hspace=0.3,wspace=0.2)\n",
        "\n",
        "plot_acf(serie_rw, ax=ax1, lags = range(0,50))\n",
        "ax1.set_title(\"Autocorrélation du random walk\")\n",
        "\n",
        "plot_pacf(serie_rw, ax=ax2, lags = range(0, 50))\n",
        "ax2.set_title(\"Autocorrélation partielle du random walk\")"
      ],
      "execution_count": null,
      "outputs": []
    },
    {
      "cell_type": "code",
      "metadata": {
        "id": "nEU3zkzPhD5u"
      },
      "source": [
        "# Detendring du random walk\n",
        "from scipy import signal\n",
        "\n",
        "serie_rw_detrend = signal.detrend(serie_rw)\n",
        "\n",
        "plt.figure(figsize=(10, 6))\n",
        "affiche_serie(temps,serie_rw_detrend)\n",
        "plt.title('Signal sans tendance')\n",
        "plt.show()"
      ],
      "execution_count": null,
      "outputs": []
    },
    {
      "cell_type": "code",
      "metadata": {
        "id": "2sLskdYghWxr"
      },
      "source": [
        "# ACF & PACF du signal\n",
        "\n",
        "from statsmodels.graphics.tsaplots import plot_acf, plot_pacf\n",
        "\n",
        "f1, (ax1, ax2) = plt.subplots(1, 2, figsize=(15, 8))\n",
        "f1.subplots_adjust(hspace=0.3,wspace=0.2)\n",
        "\n",
        "plot_acf(serie_rw_detrend, ax=ax1, lags = range(0,50))\n",
        "ax1.set_title(\"Autocorrélation du signal sans tendance\")\n",
        "\n",
        "plot_pacf(serie_rw_detrend, ax=ax2, lags = range(0, 50))\n",
        "ax2.set_title(\"Autocorrélation du signal sans tendance\")"
      ],
      "execution_count": null,
      "outputs": []
    },
    {
      "cell_type": "code",
      "metadata": {
        "id": "5LB2Bs8riuM6"
      },
      "source": [
        "# Différenciation d'ordre 1\n",
        "\n",
        "serie_rw_detrend_dif1 = serie_rw_detrend[1:] - serie_rw_detrend[:-1]\n",
        "serie_rw_dif1 = serie_rw[1:] - serie_rw[:-1]\n"
      ],
      "execution_count": null,
      "outputs": []
    },
    {
      "cell_type": "code",
      "metadata": {
        "id": "fJ9k-OjQbvsD"
      },
      "source": [
        "f1, (ax1, ax2) = plt.subplots(1, 2, figsize=(15, 6))\n",
        "f1.subplots_adjust(hspace=0.3,wspace=0.2)\n",
        "\n",
        "ax1.plot(temps[1:],serie_rw_detrend_dif1)\n",
        "ax1.set_title(\"Signal sans tendance différencié #1\")\n",
        "\n",
        "ax2.plot(temps[1:],serie_rw_dif1)\n",
        "ax2.set_title(\"Signal différencié #1\")"
      ],
      "execution_count": null,
      "outputs": []
    },
    {
      "cell_type": "code",
      "metadata": {
        "id": "hLXk-2jQjTOh"
      },
      "source": [
        "# ACF & PACF du signal\n",
        "\n",
        "from statsmodels.graphics.tsaplots import plot_acf, plot_pacf\n",
        "\n",
        "f1, ((ax1, ax2),(ax3,ax4)) = plt.subplots(2, 2, figsize=(15, 8))\n",
        "f1.subplots_adjust(hspace=0.3,wspace=0.2)\n",
        "\n",
        "plot_acf(serie_rw_detrend_dif1, ax=ax1, lags = range(0,50))\n",
        "ax1.set_title(\"Autocorrélation du signal sans tendance différencié #1\")\n",
        "\n",
        "plot_pacf(serie_rw_detrend_dif1, ax=ax2, lags = range(0, 50))\n",
        "ax2.set_title(\"Autocorrélation partielle du signal sans tendance différencié #1\")\n",
        "\n",
        "plot_acf(serie_rw_dif1, ax=ax3, lags = range(0,50))\n",
        "ax3.set_title(\"Autocorrélation du signal différencié #1\")\n",
        "\n",
        "plot_pacf(serie_rw_dif1, ax=ax4, lags = range(0, 50))\n",
        "ax4.set_title(\"Autocorrélation partielle du signal différencié #1\")"
      ],
      "execution_count": null,
      "outputs": []
    },
    {
      "cell_type": "code",
      "metadata": {
        "id": "j8iGGyahrf0N"
      },
      "source": [
        "import statsmodels.api as sm\n",
        "\n",
        "serie_test = serie_rw\n",
        "#serie_test = serie_rw_detrend\n",
        "#serie_test = serie_rw_detrend_dif1\n",
        "\n",
        "\n",
        "adf, p, usedlag, nobs, cvs, aic = sm.tsa.stattools.adfuller(serie_test)\n",
        "\n",
        "adf_results_string = 'ADF: {}\\np-value: {},\\nN: {}, \\ncritical values: {}'\n",
        "print(adf_results_string.format(adf, p, nobs, cvs))"
      ],
      "execution_count": null,
      "outputs": []
    },
    {
      "cell_type": "markdown",
      "metadata": {
        "id": "BmuuDdYZZaDj"
      },
      "source": [
        "#4. Série Homoscédatique"
      ]
    },
    {
      "cell_type": "code",
      "metadata": {
        "id": "LkYIxGvkZh-p"
      },
      "source": [
        "temps = np.linspace(0,len(serie_bb),len(serie_homo))\n",
        "\n",
        "plt.figure(figsize=(10, 6))\n",
        "affiche_serie(temps,serie_homo)\n",
        "plt.title('Série temporelle homoscédatique')\n",
        "plt.show()"
      ],
      "execution_count": null,
      "outputs": []
    },
    {
      "cell_type": "code",
      "metadata": {
        "id": "rz6PZMEuj7g5"
      },
      "source": [
        "# ACF & PACF de la série Homoscédatique\n",
        "\n",
        "from statsmodels.graphics.tsaplots import plot_acf, plot_pacf\n",
        "\n",
        "f1, (ax1, ax2) = plt.subplots(1, 2, figsize=(15, 8))\n",
        "f1.subplots_adjust(hspace=0.3,wspace=0.2)\n",
        "\n",
        "plot_acf(serie_homo, ax=ax1, lags = range(0,50))\n",
        "ax1.set_title(\"Autocorrélation de la série Homoscédatique\")\n",
        "\n",
        "plot_pacf(serie_homo, ax=ax2, lags = range(0, 50))\n",
        "ax2.set_title(\"Autocorrélation partielle de la série Homoscédatique\")"
      ],
      "execution_count": null,
      "outputs": []
    },
    {
      "cell_type": "code",
      "metadata": {
        "id": "pbq9dfc9kJsA"
      },
      "source": [
        "# Detendring de la série homoscédatique\n",
        "from scipy import signal\n",
        "\n",
        "serie_homo_detrend = signal.detrend(serie_homo)\n",
        "\n",
        "plt.figure(figsize=(10, 6))\n",
        "affiche_serie(temps,serie_homo_detrend)\n",
        "plt.title('Signal sans tendance')\n",
        "plt.show()"
      ],
      "execution_count": null,
      "outputs": []
    },
    {
      "cell_type": "code",
      "metadata": {
        "id": "UFv2WKBKkWMb"
      },
      "source": [
        "# ACF & PACF du signal\n",
        "\n",
        "from statsmodels.graphics.tsaplots import plot_acf, plot_pacf\n",
        "\n",
        "f1, (ax1, ax2) = plt.subplots(1, 2, figsize=(15, 8))\n",
        "f1.subplots_adjust(hspace=0.3,wspace=0.2)\n",
        "\n",
        "plot_acf(serie_homo_detrend, ax=ax1, lags = range(0,50))\n",
        "ax1.set_title(\"Autocorrélation du signal\")\n",
        "\n",
        "plot_pacf(serie_homo_detrend, ax=ax2, lags = range(0, 50))\n",
        "ax2.set_title(\"Autocorrélation du signal\")"
      ],
      "execution_count": null,
      "outputs": []
    },
    {
      "cell_type": "code",
      "metadata": {
        "id": "F94PeAa3kd4g"
      },
      "source": [
        "# Différenciation d'ordre 1\n",
        "\n",
        "from statsmodels.tsa.statespace.tools import diff\n",
        "\n",
        "serie_homo_detrend_dif1 = diff(serie_homo_detrend,1)\n",
        "\n",
        "plt.figure(figsize=(10, 6))\n",
        "affiche_serie(temps[1:],serie_homo_detrend_dif1)\n",
        "plt.title(\"Signal différencié d'ordre 1\")\n",
        "plt.show()"
      ],
      "execution_count": null,
      "outputs": []
    },
    {
      "cell_type": "code",
      "metadata": {
        "id": "OpCK3Bz6kskq"
      },
      "source": [
        "# ACF & PACF du signal\n",
        "\n",
        "from statsmodels.graphics.tsaplots import plot_acf, plot_pacf\n",
        "\n",
        "f1, (ax1, ax2) = plt.subplots(1, 2, figsize=(15, 8))\n",
        "f1.subplots_adjust(hspace=0.3,wspace=0.2)\n",
        "\n",
        "plot_acf(serie_homo_detrend_dif1, ax=ax1, lags = range(0,50))\n",
        "ax1.set_title(\"Autocorrélation du signal après diff #1\")\n",
        "\n",
        "plot_pacf(serie_homo_detrend_dif1, ax=ax2, lags = range(0, 50))\n",
        "ax2.set_title(\"Autocorrélation du signal après diff #1\")"
      ],
      "execution_count": null,
      "outputs": []
    },
    {
      "cell_type": "code",
      "metadata": {
        "id": "DH1cPmi7fdYy"
      },
      "source": [
        "# Différenciation d'odre 1 et saisonnale à l'odre 1 et de période 365\n",
        "\n",
        "from statsmodels.tsa.statespace.tools import diff\n",
        "\n",
        "serie_homo_detrend_sdif1 = diff(serie_homo,1,1,365)       # diff=1 ; diff_saison=1 ; periode = 365\n",
        "\n",
        "lag = len(temps) - len(serie_homo_detrend_sdif1)\n",
        "\n",
        "plt.figure(figsize=(10, 6))\n",
        "affiche_serie(temps[lag:],serie_homo_detrend_sdif1)\n",
        "plt.title(\"Signal différencié d'ordre 1 + saisonalité\")\n",
        "plt.show()"
      ],
      "execution_count": null,
      "outputs": []
    },
    {
      "cell_type": "code",
      "metadata": {
        "id": "ykhQJeKYhGIB"
      },
      "source": [
        "# ACF & PACF du signal\n",
        "\n",
        "from statsmodels.graphics.tsaplots import plot_acf, plot_pacf\n",
        "\n",
        "f1, (ax1, ax2) = plt.subplots(1, 2, figsize=(15, 8))\n",
        "f1.subplots_adjust(hspace=0.3,wspace=0.2)\n",
        "\n",
        "plot_acf(serie_homo_detrend_sdif1, ax=ax1, lags = range(0,50))\n",
        "ax1.set_title(\"Autocorrélation du signal\")\n",
        "\n",
        "plot_pacf(serie_homo_detrend_sdif1, ax=ax2, lags = range(0, 50))\n",
        "ax2.set_title(\"Autocorrélation partielle du signal\")"
      ],
      "execution_count": null,
      "outputs": []
    },
    {
      "cell_type": "code",
      "metadata": {
        "id": "HQb0e72lrpyI"
      },
      "source": [
        "import statsmodels.api as sm\n",
        "\n",
        "serie_test = serie_homo\n",
        "serie_test = serie_homo_detrend\n",
        "serie_test = serie_homo_detrend_dif1\n",
        "serie_test = serie_homo_detrend_sdif1\n",
        "\n",
        "\n",
        "adf, p, usedlag, nobs, cvs, aic = sm.tsa.stattools.adfuller(serie_test)\n",
        "\n",
        "adf_results_string = 'ADF: {}\\np-value: {},\\nN: {}, \\ncritical values: {}'\n",
        "print(adf_results_string.format(adf, p, nobs, cvs))"
      ],
      "execution_count": null,
      "outputs": []
    },
    {
      "cell_type": "markdown",
      "metadata": {
        "id": "WRM3GlP9Z0iF"
      },
      "source": [
        "#5. Série Hétéroscédatique"
      ]
    },
    {
      "cell_type": "code",
      "metadata": {
        "id": "5W5c44P_nOeG"
      },
      "source": [
        "temps = np.linspace(0,len(serie_bb),len(serie_hetero))\n",
        "\n",
        "plt.figure(figsize=(10, 6))\n",
        "affiche_serie(temps,serie_hetero)\n",
        "plt.title('Série temporelle hétéroscédatique')\n",
        "plt.show()"
      ],
      "execution_count": null,
      "outputs": []
    },
    {
      "cell_type": "code",
      "metadata": {
        "id": "mImSTqWAnW1-"
      },
      "source": [
        "# ACF & PACF de la série Hétéroscédique\n",
        "\n",
        "from statsmodels.graphics.tsaplots import plot_acf, plot_pacf\n",
        "\n",
        "f1, (ax1, ax2) = plt.subplots(1, 2, figsize=(15, 8))\n",
        "f1.subplots_adjust(hspace=0.3,wspace=0.2)\n",
        "\n",
        "plot_acf(serie_hetero, ax=ax1, lags = range(0,50))\n",
        "ax1.set_title(\"Autocorrélation de la série hétéroscédique\")\n",
        "\n",
        "plot_pacf(serie_hetero, ax=ax2, lags = range(0, 50))\n",
        "ax2.set_title(\"Autocorrélation de la série hétéroscédique\")"
      ],
      "execution_count": null,
      "outputs": []
    },
    {
      "cell_type": "code",
      "metadata": {
        "id": "8ljyFvGanlqQ"
      },
      "source": [
        "# Detendring de la série hétéroscédique\n",
        "from scipy import signal\n",
        "\n",
        "serie_hetero_detrend = signal.detrend(serie_hetero)\n",
        "\n",
        "plt.figure(figsize=(10, 6))\n",
        "affiche_serie(temps,serie_hetero_detrend)\n",
        "plt.title('Signal sans tendance')\n",
        "plt.show()"
      ],
      "execution_count": null,
      "outputs": []
    },
    {
      "cell_type": "code",
      "metadata": {
        "id": "aswObgs4n1Io"
      },
      "source": [
        "# Différenciation d'ordre 1\n",
        "\n",
        "from statsmodels.tsa.statespace.tools import diff\n",
        "\n",
        "serie_hetero_detrend_dif1 = diff(serie_hetero_detrend,1)\n",
        "\n",
        "plt.figure(figsize=(10, 6))\n",
        "affiche_serie(temps[1:],serie_hetero_detrend_dif1)\n",
        "plt.title(\"Signal différencié d'ordre 1\")\n",
        "plt.show()"
      ],
      "execution_count": null,
      "outputs": []
    },
    {
      "cell_type": "code",
      "metadata": {
        "id": "MM2NUfbpn9V6"
      },
      "source": [
        "# ACF & PACF du signal\n",
        "\n",
        "from statsmodels.graphics.tsaplots import plot_acf, plot_pacf\n",
        "\n",
        "f1, (ax1, ax2) = plt.subplots(1, 2, figsize=(15, 8))\n",
        "f1.subplots_adjust(hspace=0.3,wspace=0.2)\n",
        "\n",
        "plot_acf(serie_hetero_detrend_dif1, ax=ax1, lags = range(0,50))\n",
        "ax1.set_title(\"Autocorrélation du signal\")\n",
        "\n",
        "plot_pacf(serie_hetero_detrend_dif1, ax=ax2, lags = range(0, 50))\n",
        "ax2.set_title(\"Autocorrélation du signal\")"
      ],
      "execution_count": null,
      "outputs": []
    },
    {
      "cell_type": "code",
      "metadata": {
        "id": "5pq8hFkNiE3F"
      },
      "source": [
        "# Différenciation d'odre 1 et saisonnale à l'odre 1 et de période 365\n",
        "\n",
        "from statsmodels.tsa.statespace.tools import diff\n",
        "\n",
        "serie_hetero_detrend_sdif1 = diff(serie_hetero,1,1,365)       # diff=1 ; diff_saison=1 ; periode = 365\n",
        "\n",
        "lag = len(temps) - len(serie_hetero_detrend_sdif1)\n",
        "\n",
        "plt.figure(figsize=(10, 6))\n",
        "affiche_serie(temps[lag:],serie_hetero_detrend_sdif1)\n",
        "plt.title(\"Signal différencié d'ordre 1 + saisonalité\")\n",
        "plt.show()"
      ],
      "execution_count": null,
      "outputs": []
    },
    {
      "cell_type": "code",
      "metadata": {
        "id": "CEv_kvAIiLYA"
      },
      "source": [
        "# ACF & PACF du signal\n",
        "\n",
        "from statsmodels.graphics.tsaplots import plot_acf, plot_pacf\n",
        "\n",
        "f1, (ax1, ax2) = plt.subplots(1, 2, figsize=(15, 8))\n",
        "f1.subplots_adjust(hspace=0.3,wspace=0.2)\n",
        "\n",
        "plot_acf(serie_hetero_detrend_dif1, ax=ax1, lags = range(0,50))\n",
        "ax1.set_title(\"Autocorrélation du signal\")\n",
        "\n",
        "plot_pacf(serie_hetero_detrend_dif1, ax=ax2, lags = range(0, 50))\n",
        "ax2.set_title(\"Autocorrélation du signal\")"
      ],
      "execution_count": null,
      "outputs": []
    },
    {
      "cell_type": "code",
      "metadata": {
        "id": "J5QghCagrytY"
      },
      "source": [
        "import statsmodels.api as sm\n",
        "\n",
        "serie_test = serie_hetero\n",
        "serie_test = serie_hetero_detrend\n",
        "serie_test = serie_hetero_detrend_dif1\n",
        "#serie_test = serie_hetero_detrend_sdif1\n",
        "\n",
        "\n",
        "adf, p, usedlag, nobs, cvs, aic = sm.tsa.stattools.adfuller(serie_test)\n",
        "\n",
        "adf_results_string = 'ADF: {}\\np-value: {},\\nN: {}, \\ncritical values: {}'\n",
        "print(adf_results_string.format(adf, p, nobs, cvs))"
      ],
      "execution_count": null,
      "outputs": []
    },
    {
      "cell_type": "markdown",
      "metadata": {
        "id": "oXjD7V4OiuBp"
      },
      "source": [
        "#6. PIB Américain 1947-2005"
      ]
    },
    {
      "cell_type": "code",
      "metadata": {
        "id": "lt1eA-yVlBGw"
      },
      "source": [
        "plt.figure(figsize=(10, 6))\n",
        "plt.plot(serie_gdp)\n",
        "plt.title('Série GDP')\n",
        "plt.show()"
      ],
      "execution_count": null,
      "outputs": []
    },
    {
      "cell_type": "code",
      "metadata": {
        "id": "7c3McjsUlTPp"
      },
      "source": [
        "# ACF & PACF de la série\n",
        "\n",
        "from statsmodels.graphics.tsaplots import plot_acf, plot_pacf\n",
        "\n",
        "f1, (ax1, ax2) = plt.subplots(1, 2, figsize=(15, 8))\n",
        "f1.subplots_adjust(hspace=0.3,wspace=0.2)\n",
        "\n",
        "plot_acf(serie_gdp, ax=ax1, lags = range(0,50))\n",
        "ax1.set_title(\"Autocorrélation de la série\")\n",
        "\n",
        "plot_pacf(serie_gdp, ax=ax2, lags = range(0, 50))\n",
        "ax2.set_title(\"Autocorrélation de la série\")"
      ],
      "execution_count": null,
      "outputs": []
    },
    {
      "cell_type": "code",
      "metadata": {
        "id": "rM5GakYyliQp"
      },
      "source": [
        "# Différenciation d'ordre 1\n",
        "\n",
        "from statsmodels.tsa.statespace.tools import diff\n",
        "\n",
        "serie_gdp_diff1 = diff(serie_gdp,1)\n",
        "\n",
        "plt.figure(figsize=(10, 6))\n",
        "plt.plot(serie_gdp_diff1)\n",
        "plt.title(\"Signal différencié d'ordre 1\")\n",
        "plt.show()"
      ],
      "execution_count": null,
      "outputs": []
    },
    {
      "cell_type": "code",
      "metadata": {
        "id": "7Y2rn2x6l5RI"
      },
      "source": [
        "# ACF & PACF de la série\n",
        "\n",
        "from statsmodels.graphics.tsaplots import plot_acf, plot_pacf\n",
        "\n",
        "f1, (ax1, ax2) = plt.subplots(1, 2, figsize=(15, 8))\n",
        "f1.subplots_adjust(hspace=0.3,wspace=0.2)\n",
        "\n",
        "plot_acf(serie_gdp_diff1, ax=ax1, lags = range(0,50))\n",
        "ax1.set_title(\"Autocorrélation de la série\")\n",
        "\n",
        "plot_pacf(serie_gdp_diff1, ax=ax2, lags = range(0, 50))\n",
        "ax2.set_title(\"Autocorrélation de la série\")"
      ],
      "execution_count": null,
      "outputs": []
    },
    {
      "cell_type": "code",
      "metadata": {
        "id": "Dmb9PYl_lqaD"
      },
      "source": [
        "# Différenciation d'ordre 2\n",
        "\n",
        "from statsmodels.tsa.statespace.tools import diff\n",
        "\n",
        "serie_gdp_diff2 = diff(serie_gdp,2)\n",
        "\n",
        "plt.figure(figsize=(10, 6))\n",
        "plt.plot(serie_gdp_diff2)\n",
        "plt.title(\"Signal différencié d'ordre 2\")\n",
        "plt.show()"
      ],
      "execution_count": null,
      "outputs": []
    },
    {
      "cell_type": "code",
      "metadata": {
        "id": "HpOjc0nil-fA"
      },
      "source": [
        "# ACF & PACF de la série\n",
        "\n",
        "from statsmodels.graphics.tsaplots import plot_acf, plot_pacf\n",
        "\n",
        "f1, (ax1, ax2) = plt.subplots(1, 2, figsize=(15, 8))\n",
        "f1.subplots_adjust(hspace=0.3,wspace=0.2)\n",
        "\n",
        "plot_acf(serie_gdp_diff2, ax=ax1, lags = range(0,50))\n",
        "ax1.set_title(\"Autocorrélation de la série différenciée #2\")\n",
        "\n",
        "plot_pacf(serie_gdp_diff2, ax=ax2, lags = range(0, 50))\n",
        "ax2.set_title(\"Autocorrélation partielle de la série différencié #2\")"
      ],
      "execution_count": null,
      "outputs": []
    },
    {
      "cell_type": "code",
      "metadata": {
        "id": "4k62_mfblwik"
      },
      "source": [
        "import statsmodels.api as sm\n",
        "\n",
        "serie_test = serie_gdp\n",
        "serie_test = serie_gdp_diff1\n",
        "serie_test = serie_gdp_diff2\n",
        "\n",
        "\n",
        "adf, p, usedlag, nobs, cvs, aic = sm.tsa.stattools.adfuller(serie_test)\n",
        "\n",
        "adf_results_string = 'ADF: {}\\np-value: {},\\nN: {}, \\ncritical values: {}'\n",
        "print(adf_results_string.format(adf, p, nobs, cvs))"
      ],
      "execution_count": null,
      "outputs": []
    },
    {
      "cell_type": "markdown",
      "metadata": {
        "id": "gwS4xI83pThT"
      },
      "source": [
        "#7. Data Airline - Différenciation non saisonnale et saisonnale"
      ]
    },
    {
      "cell_type": "code",
      "metadata": {
        "id": "U3A4lbwepTht"
      },
      "source": [
        "plt.figure(figsize=(10, 6))\n",
        "plt.plot(serie_data_airline)\n",
        "plt.title('Série Data Airline')\n",
        "plt.show()"
      ],
      "execution_count": null,
      "outputs": []
    },
    {
      "cell_type": "code",
      "metadata": {
        "id": "1MooIILXpThu"
      },
      "source": [
        "# ACF & PACF de la série\n",
        "\n",
        "from statsmodels.graphics.tsaplots import plot_acf, plot_pacf\n",
        "\n",
        "f1, (ax1, ax2) = plt.subplots(1, 2, figsize=(15, 8))\n",
        "f1.subplots_adjust(hspace=0.3,wspace=0.2)\n",
        "\n",
        "plot_acf(serie_data_airline, ax=ax1, lags = range(0,50))\n",
        "ax1.set_title(\"Autocorrélation de la série\")\n",
        "\n",
        "plot_pacf(serie_data_airline, ax=ax2, lags = range(0, 50))\n",
        "ax2.set_title(\"Autocorrélation partielle de la série\")"
      ],
      "execution_count": null,
      "outputs": []
    },
    {
      "cell_type": "code",
      "metadata": {
        "id": "5avErc6GpThv"
      },
      "source": [
        "# Différenciation d'odre 1 et saisonnale à l'odre 1 et de période 12\n",
        "\n",
        "from statsmodels.tsa.statespace.tools import diff\n",
        "\n",
        "serie_data_airline_sdiff1 = diff(serie_data_airline,1,1,12)       # diff=1 ; diff_saison=1 ; periode = 12\n",
        "\n",
        "\n",
        "plt.figure(figsize=(10, 6))\n",
        "plt.plot(serie_data_airline_sdiff1)\n",
        "plt.title(\"Signal différencié d'ordre 1 + saisonalité\")\n",
        "plt.show()"
      ],
      "execution_count": null,
      "outputs": []
    },
    {
      "cell_type": "code",
      "metadata": {
        "id": "pzbvGfUbpThv"
      },
      "source": [
        "# ACF & PACF de la série\n",
        "\n",
        "from statsmodels.graphics.tsaplots import plot_acf, plot_pacf\n",
        "\n",
        "f1, (ax1, ax2) = plt.subplots(1, 2, figsize=(15, 8))\n",
        "f1.subplots_adjust(hspace=0.3,wspace=0.2)\n",
        "\n",
        "plot_acf(serie_data_airline_sdiff1, ax=ax1, lags = range(0,50))\n",
        "ax1.set_title(\"Autocorrélation de la série\")\n",
        "\n",
        "plot_pacf(serie_data_airline_sdiff1, ax=ax2, lags = range(0, 50))\n",
        "ax2.set_title(\"Autocorrélation partielle de la série\")"
      ],
      "execution_count": null,
      "outputs": []
    },
    {
      "cell_type": "code",
      "metadata": {
        "id": "qyYrTy2mpThx"
      },
      "source": [
        "import statsmodels.api as sm\n",
        "\n",
        "serie_test = serie_data_airline\n",
        "serie_test = serie_data_airline_sdiff1\n",
        "\n",
        "\n",
        "adf, p, usedlag, nobs, cvs, aic = sm.tsa.stattools.adfuller(serie_test)\n",
        "\n",
        "adf_results_string = 'ADF: {}\\np-value: {},\\nN: {}, \\ncritical values: {}'\n",
        "print(adf_results_string.format(adf, p, nobs, cvs))"
      ],
      "execution_count": null,
      "outputs": []
    },
    {
      "cell_type": "markdown",
      "metadata": {
        "id": "FfcDX-BBsxNi"
      },
      "source": [
        "#8. Accidents - Extraction de la saisonnalité"
      ]
    },
    {
      "cell_type": "markdown",
      "metadata": {
        "id": "Q-fojalKvcks"
      },
      "source": [
        "**1. Affichage de la série : Morts par accidents 1973-1978 aux Etats Unis**"
      ]
    },
    {
      "cell_type": "code",
      "metadata": {
        "id": "3HDMYE4rsxN5"
      },
      "source": [
        "plt.figure(figsize=(10, 6))\n",
        "plt.plot(serie_data_accidental)\n",
        "plt.title('Série Data Accidental')\n",
        "plt.show()"
      ],
      "execution_count": null,
      "outputs": []
    },
    {
      "cell_type": "markdown",
      "metadata": {
        "id": "tCqf8u0Ivkfs"
      },
      "source": [
        "**2. ACF et PACF**"
      ]
    },
    {
      "cell_type": "code",
      "metadata": {
        "id": "35NZNd4SsxN6"
      },
      "source": [
        "# ACF & PACF de la série\n",
        "\n",
        "from statsmodels.graphics.tsaplots import plot_acf, plot_pacf\n",
        "\n",
        "f1, (ax1, ax2) = plt.subplots(1, 2, figsize=(15, 8))\n",
        "f1.subplots_adjust(hspace=0.3,wspace=0.2)\n",
        "\n",
        "plot_acf(serie_data_accidental, ax=ax1, lags = range(0,30))\n",
        "ax1.set_title(\"Autocorrélation de la série\")\n",
        "\n",
        "plot_pacf(serie_data_accidental, ax=ax2, lags = range(0, 30))\n",
        "ax2.set_title(\"Autocorrélation partielle de la série\")"
      ],
      "execution_count": null,
      "outputs": []
    },
    {
      "cell_type": "markdown",
      "metadata": {
        "id": "ns_XuARUvnp2"
      },
      "source": [
        "**3. Tendance quadratique**"
      ]
    },
    {
      "cell_type": "markdown",
      "metadata": {
        "id": "Rp3ZVZ4OvsSE"
      },
      "source": [
        "L'objectif est ici de trouver le polynome : P = ax4+bx3+cx2+dx+c"
      ]
    },
    {
      "cell_type": "code",
      "metadata": {
        "id": "kz3exuySuVCV"
      },
      "source": [
        "f1, (ax1, ax2) = plt.subplots(1, 2, figsize=(15, 5))\n",
        "\n",
        "# Calcul des coefficients\n",
        "x = np.linspace(0,len(serie_data_accidental),len(serie_data_accidental))\n",
        "coefs = np.polyfit(x,serie_data_accidental,4)\n",
        "\n",
        "# Calcul de la tendance non linéaire\n",
        "trend = coefs[0]*np.power(x,4) + coefs[1]*np.power(x,3) + coefs[2]*np.power(x,2) + coefs[3]*np.power(x,1) + coefs[4]\n",
        "\n",
        "# Calcul de la série sans tendance\n",
        "serie_data_accidental_detrend = serie_data_accidental - trend\n",
        "\n",
        "# Affiche les résultats\n",
        "ax1.plot(trend)\n",
        "ax1.plot(serie_data_accidental)\n",
        "ax1.set_title(\"Série originale et tendance non linéaire\")\n",
        "\n",
        "ax2.plot(serie_data_accidental_detrend)\n",
        "ax2.set_title(\"Série avec tendance non linéaire supprimée\")"
      ],
      "execution_count": null,
      "outputs": []
    },
    {
      "cell_type": "markdown",
      "metadata": {
        "id": "ghLzfXRs4uR1"
      },
      "source": [
        "**4. Analyse de la saisonnalité**"
      ]
    },
    {
      "cell_type": "code",
      "metadata": {
        "id": "NMsRpmpEJsfe"
      },
      "source": [
        "from scipy.fft import fft, fftfreq\n",
        "\n",
        "f1, ax1 = plt.subplots(1, 1, figsize=(10, 5))\n",
        "\n",
        "# Calcul de la FFT de la série\n",
        "N = len(serie_data_accidental_detrend)\n",
        "T = 1.0\n",
        "\n",
        "fft=fft(serie_data_accidental_detrend)[:np.asarray(N/2).astype(int)]\n",
        "freqs = fftfreq(N,T)[:np.asarray(N/2).astype(int)]\n",
        "\n",
        "# Affichage\n",
        "ax1.plot(freqs,abs(fft))\n",
        "ax1.set_title(\"FFT\")"
      ],
      "execution_count": null,
      "outputs": []
    },
    {
      "cell_type": "code",
      "metadata": {
        "id": "WY4kL4gJPJnj"
      },
      "source": [
        "from scipy.signal import find_peaks\n",
        "\n",
        "f1, ax1 = plt.subplots(1, 1, figsize=(10, 5))\n",
        "\n",
        "peaks, _ = find_peaks(abs(fft), height=(10000))\n",
        "\n",
        "print(\"Fréquences : %s\" %(1.0/freqs[peaks]))\n",
        "\n",
        "# Affichage\n",
        "ax1.plot(freqs,abs(fft))\n",
        "ax1.plot(freqs[peaks],abs(fft[peaks]),'x')\n",
        "ax1.set_title(\"FFT\")"
      ],
      "execution_count": null,
      "outputs": []
    },
    {
      "cell_type": "code",
      "metadata": {
        "id": "MHEh2g7wbTKu"
      },
      "source": [
        "from statsmodels.tsa.seasonal import STL\n",
        "\n",
        "stl = STL(serie_data_accidental_detrend, period=12)\n",
        "res = stl.fit()\n",
        "\n",
        "serie_data_accidental_saison = res.seasonal\n",
        "\n",
        "# Affiche les résultats\n",
        "f1, (ax1, ax2) = plt.subplots(1, 2, figsize=(15, 5))\n",
        "\n",
        "ax1.plot(serie_data_accidental_detrend)\n",
        "ax1.plot(serie_data_saison)\n",
        "ax1.set_title(\"Série originale et saisonnalité\")\n",
        "\n",
        "ax2.plot(serie_data_accidental_detrend - serie_data_accidental_saison)\n",
        "ax2.set_title(\"Série sans tendance ni saisonnalité\")"
      ],
      "execution_count": null,
      "outputs": []
    },
    {
      "cell_type": "code",
      "metadata": {
        "id": "sM9S07nTey1I"
      },
      "source": [
        "import statsmodels.api as sm\n",
        "\n",
        "serie_test = serie_data_accidental\n",
        "serie_test = serie_data_accidental_detrend\n",
        "serie_test = serie_data_accidental_detrend - serie_data_accidental_saison\n",
        "\n",
        "adf, p, usedlag, nobs, cvs, aic = sm.tsa.stattools.adfuller(serie_test)\n",
        "\n",
        "adf_results_string = 'ADF: {}\\np-value: {},\\nN: {}, \\ncritical values: {}'\n",
        "print(adf_results_string.format(adf, p, nobs, cvs))"
      ],
      "execution_count": null,
      "outputs": []
    },
    {
      "cell_type": "code",
      "metadata": {
        "id": "NLuir0iPf_gd"
      },
      "source": [
        "# ACF & PACF de la série\n",
        "\n",
        "from statsmodels.graphics.tsaplots import plot_acf, plot_pacf\n",
        "\n",
        "f1, (ax1, ax2) = plt.subplots(1, 2, figsize=(15, 8))\n",
        "f1.subplots_adjust(hspace=0.3,wspace=0.2)\n",
        "\n",
        "plot_acf(serie_data_accidental_detrend - serie_data_accidental_saison, ax=ax1, lags = range(0,30))\n",
        "ax1.set_title(\"Autocorrélation de la série\")\n",
        "\n",
        "plot_pacf(serie_data_accidental_detrend - serie_data_accidental_saison, ax=ax2, lags = range(0, 30))\n",
        "ax2.set_title(\"Autocorrélation partielle de la série\")"
      ],
      "execution_count": null,
      "outputs": []
    }
  ]
}