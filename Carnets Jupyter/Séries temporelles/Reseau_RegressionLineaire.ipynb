{
  "nbformat": 4,
  "nbformat_minor": 0,
  "metadata": {
    "colab": {
      "name": "Untitled10.ipynb",
      "provenance": [],
      "authorship_tag": "ABX9TyOver/+mtZbfDUoUOIun40H",
      "include_colab_link": true
    },
    "kernelspec": {
      "name": "python3",
      "display_name": "Python 3"
    }
  },
  "cells": [
    {
      "cell_type": "markdown",
      "metadata": {
        "id": "view-in-github",
        "colab_type": "text"
      },
      "source": [
        "<a href=\"https://colab.research.google.com/github/AlexandreBourrieau/ML/blob/main/Carnets%20Jupyter/S%C3%A9ries%20temporelles/Reseau_RegressionLineaire.ipynb\" target=\"_parent\"><img src=\"https://colab.research.google.com/assets/colab-badge.svg\" alt=\"Open In Colab\"/></a>"
      ]
    },
    {
      "cell_type": "markdown",
      "metadata": {
        "id": "ubCeIvtF6R4W"
      },
      "source": [
        "Dans ce carnet nous allons mettre en place une regression linéaire à l'aide d'un réseau de neurones sur notre série temporelle. Pour cela, nous allons suivre les étapes suivantes :\r\n",
        "  - Reprendre le code nécessaire pour créer notre série temporelle\r\n",
        "  - Définir une fonction permettant de préparer les données d'entrée X et les labels Y pour attaquer notre réseau de régression linéaire\r\n",
        "  - Préparer les données X et Y avec la fonction définie précédemment."
      ]
    },
    {
      "cell_type": "code",
      "metadata": {
        "id": "RRhtHsNn5fc3"
      },
      "source": [
        "import tensorflow as tf\r\n",
        "from tensorflow import keras\r\n",
        "\r\n",
        "import numpy as np\r\n",
        "import matplotlib.pyplot as plt"
      ],
      "execution_count": 116,
      "outputs": []
    },
    {
      "cell_type": "markdown",
      "metadata": {
        "id": "XFeah3y_6kif"
      },
      "source": [
        "# Création de la série temporelle"
      ]
    },
    {
      "cell_type": "code",
      "metadata": {
        "id": "vJfSLtub6sdc"
      },
      "source": [
        "# Fonction permettant d'afficher une série temporelle\r\n",
        "def affiche_serie(temps, serie, format=\"-\", debut=0, fin=None, label=None):\r\n",
        "    plt.plot(temps[debut:fin], serie[debut:fin], format, label=label)\r\n",
        "    plt.xlabel(\"Temps\")\r\n",
        "    plt.ylabel(\"Valeur\")\r\n",
        "    if label:\r\n",
        "        plt.legend(fontsize=14)\r\n",
        "    plt.grid(True)\r\n",
        "\r\n",
        "# Fonction permettant de créer une tendance\r\n",
        "def tendance(temps, pente=0):\r\n",
        "    return pente * temps\r\n",
        "\r\n",
        "# Fonction permettant de créer un motif\r\n",
        "def motif_periodique(instants):\r\n",
        "    return (np.where(instants < 0.4,                            # Si les instants sont < 0.4\r\n",
        "                    np.cos(instants * 2 * np.pi),               # Alors on retourne la fonction cos(2*pi*t)\r\n",
        "                    1 / np.exp(3 * instants)))                  # Sinon, on retourne la fonction exp(-3t)\r\n",
        "\r\n",
        "# Fonction permettant de créer une saisonnalité avec un motif\r\n",
        "def saisonnalite(temps, periode, amplitude=1, phase=0):\r\n",
        "    \"\"\"Répétition du motif sur la même période\"\"\"\r\n",
        "    instants = ((temps + phase) % periode) / periode            # Mapping du temps =[0 1 2 ... 1460] => instants = [0.0 ... 1.0]\r\n",
        "    return amplitude * motif_periodique(instants)\r\n",
        "\r\n",
        "# Fonction permettant de générer du bruit gaussien N(0,1)\r\n",
        "def bruit_blanc(temps, niveau_bruit=1, graine=None):\r\n",
        "    rnd = np.random.RandomState(graine)\r\n",
        "    return rnd.randn(len(temps)) * niveau_bruit\r\n",
        "\r\n",
        "# Création de la série temporelle\r\n",
        "temps = np.arange(4 * 365)                # temps = [0 1 2 .... 4*365] = [0 1 2 .... 1460]\r\n",
        "amplitude = 40                            # Amplitude de la la saisonnalité\r\n",
        "niveau_bruit = 5                          # Niveau du bruit\r\n",
        "offset = 10                               # Offset de la série\r\n",
        "\r\n",
        "serie = offset + tendance(temps, 0.1) + saisonnalite(temps, periode=365, amplitude=amplitude) + bruit_blanc(temps,niveau_bruit)\r\n",
        "\r\n",
        "plt.figure(figsize=(10, 6))\r\n",
        "affiche_serie(temps,serie)\r\n",
        "plt.title('Série temporelle expérimentale')\r\n",
        "plt.show()"
      ],
      "execution_count": null,
      "outputs": []
    },
    {
      "cell_type": "markdown",
      "metadata": {
        "id": "lCgA1BC-pGiz"
      },
      "source": [
        "Regardons le format de la série temporelle que nous avons pour le moment :"
      ]
    },
    {
      "cell_type": "code",
      "metadata": {
        "id": "inA5fPwypFza"
      },
      "source": [
        "print(serie.shape)\r\n",
        "dataset = tf.data.Dataset.from_tensor_slices(serie)\r\n",
        "for vecteur in dataset:\r\n",
        "  print(vecteur.numpy())"
      ],
      "execution_count": null,
      "outputs": []
    },
    {
      "cell_type": "markdown",
      "metadata": {
        "id": "atOtbHUk7AYt"
      },
      "source": [
        "# Préparation des données X et Y"
      ]
    },
    {
      "cell_type": "markdown",
      "metadata": {
        "id": "YuB97ANfEHIY"
      },
      "source": [
        "Définissons la fonction `fenetrage_Dataset` qui va permettre de créer les données X Y pour le réseau de neurones. Cette fonction retourne une classe Dataset et prend comme  paramètres :\r\n",
        " - `serie` : La série temporelle à traiter\r\n",
        " - `taille_fenetre` : La taille de la fenêtre glissante\r\n",
        " - `batch_size` : La nombre de regroupements que l'on souhaite obtenir dans nos données X et Y : par exemple si X=(X1,X2) et Y=(Y1,Y2) alors il faut donner `batch_size = 2`\r\n",
        " - `buffer_melange` : Buffer pour le mélange des données  \r\n",
        "   \r\n",
        "Cette fonction utilise la méthode [from_tensor_slices](https://www.tensorflow.org/api_docs/python/tf/data/Dataset#from_tensor_slices) de la classe Dataset de Tensorflow afin d'extraire une coupe depuis la série originale et de créer un dataset qui contient les valeurs de la série :"
      ]
    },
    {
      "cell_type": "code",
      "metadata": {
        "id": "78vEUlpIFMp6"
      },
      "source": [
        "# Fonction permettant de créer un dataset à partir des données de la série temporelle\r\n",
        "# au format X(X1,X2,...Xn) / Y(Y1,Y2,...,Yn)\r\n",
        "# X sont les données d'entrées du réseau\r\n",
        "# Y sont les labels\r\n",
        "\r\n",
        "def prepare_dataset_XY(serie, taille_fenetre, batch_size, buffer_melange):\r\n",
        "  dataset = tf.data.Dataset.from_tensor_slices(serie)\r\n",
        "  dataset = dataset.window(taille_fenetre + 1, shift=1, drop_remainder=True)\r\n",
        "  dataset = dataset.flat_map(lambda x: x.batch(taille_fenetre + 1))\r\n",
        "  dataset = dataset.shuffle(buffer_melange).map(lambda x: (x[:-1], x[-1]))\r\n",
        "  dataset = dataset.batch(batch_size).prefetch(1)\r\n",
        "  return dataset"
      ],
      "execution_count": 95,
      "outputs": []
    },
    {
      "cell_type": "markdown",
      "metadata": {
        "id": "4l_pJU0yHlO4"
      },
      "source": [
        "Regardons un exemple :"
      ]
    },
    {
      "cell_type": "code",
      "metadata": {
        "id": "FZxUoJ3qHnqf"
      },
      "source": [
        "test = [0,1,2,3,4,5,6,7,8,9,10,11,12,13,14,15,16,17,18,19,20]\r\n",
        "dataset = prepare_dataset_XY(serie=test,taille_fenetre=3,batch_size=2,buffer_melange=20)\r\n",
        "list(dataset.as_numpy_iterator())"
      ],
      "execution_count": null,
      "outputs": []
    },
    {
      "cell_type": "markdown",
      "metadata": {
        "id": "zHgcL7ZPJlws"
      },
      "source": [
        "**1. Séparation des données en données pour l'entrainement et la validation**"
      ]
    },
    {
      "cell_type": "markdown",
      "metadata": {
        "id": "8ggmBUlAKWH2"
      },
      "source": [
        "<img src=\"https://github.com/AlexandreBourrieau/ML/blob/main/Carnets%20Jupyter/Images/Series/illustration1.png?raw=true\" width=\"600\">  "
      ]
    },
    {
      "cell_type": "code",
      "metadata": {
        "id": "_14USRg5JvSu"
      },
      "source": [
        "temps_separation = 1000\r\n",
        "\r\n",
        "# Extraction des temps et des données d'entrainement\r\n",
        "temps_entrainement = temps[:temps_separation]\r\n",
        "x_entrainement = serie[:temps_separation]\r\n",
        "\r\n",
        "# Exctraction des temps et des données de valiadation\r\n",
        "temps_validation = temps[temps_separation:]\r\n",
        "x_validation = serie[temps_separation:]"
      ],
      "execution_count": 98,
      "outputs": []
    },
    {
      "cell_type": "markdown",
      "metadata": {
        "id": "hjh4mjMrKhA5"
      },
      "source": [
        "**2. Préparation des données X et des labels Y**"
      ]
    },
    {
      "cell_type": "markdown",
      "metadata": {
        "id": "bdqfYabAKoE2"
      },
      "source": [
        "On commence par créer notre dataset à partir de la série (remarque : les valeurs ci-dessous sont en réalité mélangées) :"
      ]
    },
    {
      "cell_type": "markdown",
      "metadata": {
        "id": "C2CDLaYDoDms"
      },
      "source": [
        "<img src=\"https://github.com/AlexandreBourrieau/ML/blob/main/Carnets%20Jupyter/S%C3%A9ries%20temporelles/images/split_XY_2.png?raw=true\" width=\"1200\"> "
      ]
    },
    {
      "cell_type": "code",
      "metadata": {
        "id": "ziajfOefKvsu"
      },
      "source": [
        "# Définition des caractéristiques du dataset que l'on souhaite créer\r\n",
        "taille_fenetre = 20\r\n",
        "batch_size = 32\r\n",
        "buffer_melange = 1000\r\n",
        "\r\n",
        "# Création du dataset X,Y\r\n",
        "dataset = prepare_dataset_XY(serie,taille_fenetre,batch_size,buffer_melange)"
      ],
      "execution_count": 111,
      "outputs": []
    },
    {
      "cell_type": "markdown",
      "metadata": {
        "id": "3PDKLgM0SxHu"
      },
      "source": [
        "Regardons ce qu'on obtient :"
      ]
    },
    {
      "cell_type": "code",
      "metadata": {
        "id": "nFRIMpVnMQkF"
      },
      "source": [
        "# Affiche le nombre total d'éléments dans le dataset\r\n",
        "print(\"Nombre total d'éléments dans le dataset : %d\" %len(list(dataset.as_numpy_iterator())))\r\n",
        "\r\n",
        "# Affiche le premier élément du dataset\r\n",
        "n = 0\r\n",
        "print(\"Premier élément dans le dataset :\")\r\n",
        "for element in dataset:\r\n",
        "  print(element)\r\n",
        "  n=n+1\r\n",
        "  if (n==1): break\r\n"
      ],
      "execution_count": null,
      "outputs": []
    },
    {
      "cell_type": "markdown",
      "metadata": {
        "id": "gvFLK9n1X7FG"
      },
      "source": [
        "On obtient donc un dataset qui contient :\r\n",
        "- 45 éléments de format (32,20) : Ce sont les groupes qui composent les entrées X\r\n",
        "- 45 éléments de format (32,) : Ce sont les groupes qui composent les labels Y"
      ]
    },
    {
      "cell_type": "markdown",
      "metadata": {
        "id": "2Yt-EgZ3sgPY"
      },
      "source": [
        "**3. Création du réseau de neurone sous Keras**"
      ]
    },
    {
      "cell_type": "markdown",
      "metadata": {
        "id": "nZ0WlZFCs3hQ"
      },
      "source": [
        "On met maintenant en place un réseau de neurone pour la régression linéaire constitué :\r\n",
        "-  **D'une couche d'entrée avec 1 neurone** qui prend en entrée des **vecteurs 1D de dimension égale à la taille de la fenêtre**.  \r\n",
        "On a donc 21 paramètres à calculer (20 poids + 1 offset).  \r\n",
        "- On utilise un **taux d'apprentissage de 1e-6**\r\n",
        "- On choisit un **optimiseur de type Descente de gradient stochastique et à moment** (MSGD - Momentum Stochastic Gradient Descent) avec un moment fixé à 0.9.  \r\n",
        "- On utilise une **fonction d'objectif** de type **erreur moyenne quadratique** (mse - mean squared error)"
      ]
    },
    {
      "cell_type": "code",
      "metadata": {
        "id": "lzlLvrSytnY7",
        "outputId": "87a392e1-b7ab-43a7-b23f-a3199fcb9950",
        "colab": {
          "base_uri": "https://localhost:8080/"
        }
      },
      "source": [
        "# Création du modèle de régression linéaire\r\n",
        "\r\n",
        "model = tf.keras.models.Sequential()\r\n",
        "model.add(tf.keras.Input(shape=(taille_fenetre,)))\r\n",
        "model.add(tf.keras.layers.Dense(1))\r\n",
        "\r\n",
        "model.compile(loss=\"mse\", optimizer=tf.keras.optimizers.SGD(lr=1e-6, momentum=0.9))\r\n",
        "model.summary()"
      ],
      "execution_count": 138,
      "outputs": [
        {
          "output_type": "stream",
          "text": [
            "Model: \"sequential_22\"\n",
            "_________________________________________________________________\n",
            "Layer (type)                 Output Shape              Param #   \n",
            "=================================================================\n",
            "dense_18 (Dense)             (None, 1)                 21        \n",
            "=================================================================\n",
            "Total params: 21\n",
            "Trainable params: 21\n",
            "Non-trainable params: 0\n",
            "_________________________________________________________________\n"
          ],
          "name": "stdout"
        }
      ]
    },
    {
      "cell_type": "markdown",
      "metadata": {
        "id": "NmV8NcOWzhGg"
      },
      "source": [
        "Une autre possibilité pour construire ce réseau est d'empiler les couches les unes sur les autres comme ci-dessous. Cette solution a l'avantage de pouvoir par la suite accéder directement aux données de la couche qui nous interesse à l'aide du nom de sa variable :"
      ]
    },
    {
      "cell_type": "code",
      "metadata": {
        "id": "yGcS3CjLsvrT",
        "outputId": "dff98b90-9f35-46f9-b0fc-314519662c98",
        "colab": {
          "base_uri": "https://localhost:8080/"
        }
      },
      "source": [
        "# Construction du réseau avec nomination explicite du nom des couches\r\n",
        "\r\n",
        "couche_0 = tf.keras.layers.Dense(1, input_shape=[taille_fenetre])\r\n",
        "model = tf.keras.models.Sequential([couche_0])\r\n",
        "\r\n",
        "model.compile(loss=\"mse\", optimizer=tf.keras.optimizers.SGD(lr=1e-6, momentum=0.9))\r\n",
        "model.summary()"
      ],
      "execution_count": 141,
      "outputs": [
        {
          "output_type": "stream",
          "text": [
            "Model: \"sequential_24\"\n",
            "_________________________________________________________________\n",
            "Layer (type)                 Output Shape              Param #   \n",
            "=================================================================\n",
            "dense_20 (Dense)             (None, 1)                 21        \n",
            "=================================================================\n",
            "Total params: 21\n",
            "Trainable params: 21\n",
            "Non-trainable params: 0\n",
            "_________________________________________________________________\n"
          ],
          "name": "stdout"
        }
      ]
    },
    {
      "cell_type": "code",
      "metadata": {
        "id": "mzJosG9g0Qav",
        "outputId": "dba81a89-d041-4ba8-d8a0-55a9e44dbcd1",
        "colab": {
          "base_uri": "https://localhost:8080/"
        }
      },
      "source": [
        "print(couche_0.input_shape)\r\n",
        "print(couche_0.output_shape)"
      ],
      "execution_count": 143,
      "outputs": [
        {
          "output_type": "stream",
          "text": [
            "(None, 20)\n",
            "(None, 1)\n"
          ],
          "name": "stdout"
        }
      ]
    },
    {
      "cell_type": "code",
      "metadata": {
        "id": "GNWLOyEU0TsW"
      },
      "source": [
        ""
      ],
      "execution_count": null,
      "outputs": []
    },
    {
      "cell_type": "markdown",
      "metadata": {
        "id": "V7B0db8g0x0-"
      },
      "source": [
        "**4. Entrainement du réseau**"
      ]
    },
    {
      "cell_type": "markdown",
      "metadata": {
        "id": "Ynbm3GnF1OxV"
      },
      "source": [
        "On entraine le réseau sur 100 périodes. Comme le modèle prend 1 élément (vecteur d'entrée X de dimension 20) à chaque itération, et qu'il y a 45 éléments, il y aura 45 itération par période."
      ]
    },
    {
      "cell_type": "code",
      "metadata": {
        "id": "-0viBqeL02-O",
        "outputId": "e107e8ea-5ca5-4c83-c093-928a238e87ad",
        "colab": {
          "base_uri": "https://localhost:8080/"
        }
      },
      "source": [
        "# Lance l'entrainement du modèle\r\n",
        "\r\n",
        "model.fit(dataset,epochs=100,verbose=1)"
      ],
      "execution_count": 146,
      "outputs": [
        {
          "output_type": "stream",
          "text": [
            "Epoch 1/100\n",
            "45/45 [==============================] - 1s 3ms/step - loss: 12560.4597\n",
            "Epoch 2/100\n",
            "45/45 [==============================] - 0s 3ms/step - loss: 282.5828\n",
            "Epoch 3/100\n",
            "45/45 [==============================] - 0s 3ms/step - loss: 116.4269\n",
            "Epoch 4/100\n",
            "45/45 [==============================] - 0s 3ms/step - loss: 94.6391\n",
            "Epoch 5/100\n",
            "45/45 [==============================] - 0s 3ms/step - loss: 90.5269\n",
            "Epoch 6/100\n",
            "45/45 [==============================] - 0s 3ms/step - loss: 82.7895\n",
            "Epoch 7/100\n",
            "45/45 [==============================] - 0s 3ms/step - loss: 74.9476\n",
            "Epoch 8/100\n",
            "45/45 [==============================] - 0s 3ms/step - loss: 83.2350\n",
            "Epoch 9/100\n",
            "45/45 [==============================] - 0s 3ms/step - loss: 81.3899\n",
            "Epoch 10/100\n",
            "45/45 [==============================] - 0s 3ms/step - loss: 75.5606\n",
            "Epoch 11/100\n",
            "45/45 [==============================] - 0s 3ms/step - loss: 77.6245\n",
            "Epoch 12/100\n",
            "45/45 [==============================] - 0s 3ms/step - loss: 70.0998\n",
            "Epoch 13/100\n",
            "45/45 [==============================] - 0s 3ms/step - loss: 63.5035\n",
            "Epoch 14/100\n",
            "45/45 [==============================] - 0s 3ms/step - loss: 65.9398\n",
            "Epoch 15/100\n",
            "45/45 [==============================] - 0s 3ms/step - loss: 67.8713\n",
            "Epoch 16/100\n",
            "45/45 [==============================] - 0s 4ms/step - loss: 58.4000\n",
            "Epoch 17/100\n",
            "45/45 [==============================] - 0s 3ms/step - loss: 62.2254\n",
            "Epoch 18/100\n",
            "45/45 [==============================] - 0s 3ms/step - loss: 68.2143\n",
            "Epoch 19/100\n",
            "45/45 [==============================] - 0s 3ms/step - loss: 63.4948\n",
            "Epoch 20/100\n",
            "45/45 [==============================] - 0s 3ms/step - loss: 69.1395\n",
            "Epoch 21/100\n",
            "45/45 [==============================] - 0s 3ms/step - loss: 59.4620\n",
            "Epoch 22/100\n",
            "45/45 [==============================] - 0s 3ms/step - loss: 62.0405\n",
            "Epoch 23/100\n",
            "45/45 [==============================] - 0s 3ms/step - loss: 56.1814\n",
            "Epoch 24/100\n",
            "45/45 [==============================] - 0s 3ms/step - loss: 56.3812\n",
            "Epoch 25/100\n",
            "45/45 [==============================] - 0s 3ms/step - loss: 54.6239\n",
            "Epoch 26/100\n",
            "45/45 [==============================] - 0s 3ms/step - loss: 57.2096\n",
            "Epoch 27/100\n",
            "45/45 [==============================] - 0s 3ms/step - loss: 65.1158\n",
            "Epoch 28/100\n",
            "45/45 [==============================] - 0s 3ms/step - loss: 60.4205\n",
            "Epoch 29/100\n",
            "45/45 [==============================] - 0s 3ms/step - loss: 53.1577\n",
            "Epoch 30/100\n",
            "45/45 [==============================] - 0s 3ms/step - loss: 59.8918\n",
            "Epoch 31/100\n",
            "45/45 [==============================] - 0s 3ms/step - loss: 47.3493\n",
            "Epoch 32/100\n",
            "45/45 [==============================] - 0s 3ms/step - loss: 56.9203\n",
            "Epoch 33/100\n",
            "45/45 [==============================] - 0s 3ms/step - loss: 50.3318\n",
            "Epoch 34/100\n",
            "45/45 [==============================] - 0s 3ms/step - loss: 48.8663\n",
            "Epoch 35/100\n",
            "45/45 [==============================] - 0s 3ms/step - loss: 55.8291\n",
            "Epoch 36/100\n",
            "45/45 [==============================] - 0s 3ms/step - loss: 49.6135\n",
            "Epoch 37/100\n",
            "45/45 [==============================] - 0s 3ms/step - loss: 46.8862\n",
            "Epoch 38/100\n",
            "45/45 [==============================] - 0s 3ms/step - loss: 53.0959\n",
            "Epoch 39/100\n",
            "45/45 [==============================] - 0s 3ms/step - loss: 60.8363\n",
            "Epoch 40/100\n",
            "45/45 [==============================] - 0s 3ms/step - loss: 49.0720\n",
            "Epoch 41/100\n",
            "45/45 [==============================] - 0s 3ms/step - loss: 49.2791\n",
            "Epoch 42/100\n",
            "45/45 [==============================] - 0s 3ms/step - loss: 57.4491\n",
            "Epoch 43/100\n",
            "45/45 [==============================] - 0s 3ms/step - loss: 52.7251\n",
            "Epoch 44/100\n",
            "45/45 [==============================] - 0s 3ms/step - loss: 50.3105\n",
            "Epoch 45/100\n",
            "45/45 [==============================] - 0s 2ms/step - loss: 44.8138\n",
            "Epoch 46/100\n",
            "45/45 [==============================] - 0s 3ms/step - loss: 46.4944\n",
            "Epoch 47/100\n",
            "45/45 [==============================] - 0s 3ms/step - loss: 47.5502\n",
            "Epoch 48/100\n",
            "45/45 [==============================] - 0s 3ms/step - loss: 53.6150\n",
            "Epoch 49/100\n",
            "45/45 [==============================] - 0s 3ms/step - loss: 45.9607\n",
            "Epoch 50/100\n",
            "45/45 [==============================] - 0s 3ms/step - loss: 49.7050\n",
            "Epoch 51/100\n",
            "45/45 [==============================] - 0s 3ms/step - loss: 46.0796\n",
            "Epoch 52/100\n",
            "45/45 [==============================] - 0s 3ms/step - loss: 50.2868\n",
            "Epoch 53/100\n",
            "45/45 [==============================] - 0s 3ms/step - loss: 51.4572\n",
            "Epoch 54/100\n",
            "45/45 [==============================] - 0s 3ms/step - loss: 48.8262\n",
            "Epoch 55/100\n",
            "45/45 [==============================] - 0s 4ms/step - loss: 47.0408\n",
            "Epoch 56/100\n",
            "45/45 [==============================] - 0s 3ms/step - loss: 41.5509\n",
            "Epoch 57/100\n",
            "45/45 [==============================] - 0s 3ms/step - loss: 52.6151\n",
            "Epoch 58/100\n",
            "45/45 [==============================] - 0s 3ms/step - loss: 47.8804\n",
            "Epoch 59/100\n",
            "45/45 [==============================] - 0s 3ms/step - loss: 51.9834\n",
            "Epoch 60/100\n",
            "45/45 [==============================] - 0s 3ms/step - loss: 53.1347\n",
            "Epoch 61/100\n",
            "45/45 [==============================] - 0s 3ms/step - loss: 44.4372\n",
            "Epoch 62/100\n",
            "45/45 [==============================] - 0s 3ms/step - loss: 43.4485\n",
            "Epoch 63/100\n",
            "45/45 [==============================] - 0s 3ms/step - loss: 50.2874\n",
            "Epoch 64/100\n",
            "45/45 [==============================] - 0s 3ms/step - loss: 45.0295\n",
            "Epoch 65/100\n",
            "45/45 [==============================] - 0s 3ms/step - loss: 44.0680\n",
            "Epoch 66/100\n",
            "45/45 [==============================] - 0s 3ms/step - loss: 43.7023\n",
            "Epoch 67/100\n",
            "45/45 [==============================] - 0s 3ms/step - loss: 44.1409\n",
            "Epoch 68/100\n",
            "45/45 [==============================] - 0s 3ms/step - loss: 44.4044\n",
            "Epoch 69/100\n",
            "45/45 [==============================] - 0s 3ms/step - loss: 48.6444\n",
            "Epoch 70/100\n",
            "45/45 [==============================] - 0s 3ms/step - loss: 47.8551\n",
            "Epoch 71/100\n",
            "45/45 [==============================] - 0s 3ms/step - loss: 49.9136\n",
            "Epoch 72/100\n",
            "45/45 [==============================] - 0s 3ms/step - loss: 45.8031\n",
            "Epoch 73/100\n",
            "45/45 [==============================] - 0s 2ms/step - loss: 41.9908\n",
            "Epoch 74/100\n",
            "45/45 [==============================] - 0s 3ms/step - loss: 45.1771\n",
            "Epoch 75/100\n",
            "45/45 [==============================] - 0s 3ms/step - loss: 45.3879\n",
            "Epoch 76/100\n",
            "45/45 [==============================] - 0s 3ms/step - loss: 41.7822\n",
            "Epoch 77/100\n",
            "45/45 [==============================] - 0s 3ms/step - loss: 43.6200\n",
            "Epoch 78/100\n",
            "45/45 [==============================] - 0s 3ms/step - loss: 47.1727\n",
            "Epoch 79/100\n",
            "45/45 [==============================] - 0s 3ms/step - loss: 45.4191\n",
            "Epoch 80/100\n",
            "45/45 [==============================] - 0s 3ms/step - loss: 44.3351\n",
            "Epoch 81/100\n",
            "45/45 [==============================] - 0s 3ms/step - loss: 47.9667\n",
            "Epoch 82/100\n",
            "45/45 [==============================] - 0s 3ms/step - loss: 52.9969\n",
            "Epoch 83/100\n",
            "45/45 [==============================] - 0s 3ms/step - loss: 44.2771\n",
            "Epoch 84/100\n",
            "45/45 [==============================] - 0s 3ms/step - loss: 42.8032\n",
            "Epoch 85/100\n",
            "45/45 [==============================] - 0s 3ms/step - loss: 48.0183\n",
            "Epoch 86/100\n",
            "45/45 [==============================] - 0s 3ms/step - loss: 46.1456\n",
            "Epoch 87/100\n",
            "45/45 [==============================] - 0s 3ms/step - loss: 43.1337\n",
            "Epoch 88/100\n",
            "45/45 [==============================] - 0s 3ms/step - loss: 45.1743\n",
            "Epoch 89/100\n",
            "45/45 [==============================] - 0s 3ms/step - loss: 45.0522\n",
            "Epoch 90/100\n",
            "45/45 [==============================] - 0s 3ms/step - loss: 47.4762\n",
            "Epoch 91/100\n",
            "45/45 [==============================] - 0s 3ms/step - loss: 49.7563\n",
            "Epoch 92/100\n",
            "45/45 [==============================] - 0s 3ms/step - loss: 38.8530\n",
            "Epoch 93/100\n",
            "45/45 [==============================] - 0s 3ms/step - loss: 45.1757\n",
            "Epoch 94/100\n",
            "45/45 [==============================] - 0s 3ms/step - loss: 37.0322\n",
            "Epoch 95/100\n",
            "45/45 [==============================] - 0s 3ms/step - loss: 51.7644\n",
            "Epoch 96/100\n",
            "45/45 [==============================] - 0s 3ms/step - loss: 41.8892\n",
            "Epoch 97/100\n",
            "45/45 [==============================] - 0s 3ms/step - loss: 48.4165\n",
            "Epoch 98/100\n",
            "45/45 [==============================] - 0s 3ms/step - loss: 46.9517\n",
            "Epoch 99/100\n",
            "45/45 [==============================] - 0s 3ms/step - loss: 43.5195\n",
            "Epoch 100/100\n",
            "45/45 [==============================] - 0s 3ms/step - loss: 53.7550\n"
          ],
          "name": "stdout"
        },
        {
          "output_type": "execute_result",
          "data": {
            "text/plain": [
              "<tensorflow.python.keras.callbacks.History at 0x7f04c5397f10>"
            ]
          },
          "metadata": {
            "tags": []
          },
          "execution_count": 146
        }
      ]
    }
  ]
}