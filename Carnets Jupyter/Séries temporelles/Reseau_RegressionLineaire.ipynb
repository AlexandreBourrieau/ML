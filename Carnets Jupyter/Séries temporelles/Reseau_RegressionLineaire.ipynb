{
  "nbformat": 4,
  "nbformat_minor": 0,
  "metadata": {
    "colab": {
      "name": "Untitled10.ipynb",
      "provenance": [],
      "authorship_tag": "ABX9TyNIRDIo1/XQDyg6kK43alSU",
      "include_colab_link": true
    },
    "kernelspec": {
      "name": "python3",
      "display_name": "Python 3"
    }
  },
  "cells": [
    {
      "cell_type": "markdown",
      "metadata": {
        "id": "view-in-github",
        "colab_type": "text"
      },
      "source": [
        "<a href=\"https://colab.research.google.com/github/AlexandreBourrieau/ML/blob/main/Carnets%20Jupyter/S%C3%A9ries%20temporelles/Reseau_RegressionLineaire.ipynb\" target=\"_parent\"><img src=\"https://colab.research.google.com/assets/colab-badge.svg\" alt=\"Open In Colab\"/></a>"
      ]
    },
    {
      "cell_type": "markdown",
      "metadata": {
        "id": "ubCeIvtF6R4W"
      },
      "source": [
        "Dans ce carnet nous allons mettre en place une regression linéaire à l'aide d'un réseau de neurones sur notre série temporelle. Pour cela, nous allons suivre les étapes suivantes :\r\n",
        "  - Reprendre le code nécessaire pour créer notre série temporelle\r\n",
        "  - Définir une fonction permettant de préparer les données d'entrée X et les labels Y pour attaquer notre réseau de régression linéaire\r\n",
        "  - Préparer les données X et Y avec la fonction définie précédemment."
      ]
    },
    {
      "cell_type": "code",
      "metadata": {
        "id": "RRhtHsNn5fc3"
      },
      "source": [
        "import tensorflow as tf\r\n",
        "from tensorflow import keras\r\n",
        "\r\n",
        "import numpy as np\r\n",
        "import matplotlib.pyplot as plt"
      ],
      "execution_count": 116,
      "outputs": []
    },
    {
      "cell_type": "markdown",
      "metadata": {
        "id": "XFeah3y_6kif"
      },
      "source": [
        "# Création de la série temporelle"
      ]
    },
    {
      "cell_type": "code",
      "metadata": {
        "id": "vJfSLtub6sdc"
      },
      "source": [
        "# Fonction permettant d'afficher une série temporelle\r\n",
        "def affiche_serie(temps, serie, format=\"-\", debut=0, fin=None, label=None):\r\n",
        "    plt.plot(temps[debut:fin], serie[debut:fin], format, label=label)\r\n",
        "    plt.xlabel(\"Temps\")\r\n",
        "    plt.ylabel(\"Valeur\")\r\n",
        "    if label:\r\n",
        "        plt.legend(fontsize=14)\r\n",
        "    plt.grid(True)\r\n",
        "\r\n",
        "# Fonction permettant de créer une tendance\r\n",
        "def tendance(temps, pente=0):\r\n",
        "    return pente * temps\r\n",
        "\r\n",
        "# Fonction permettant de créer un motif\r\n",
        "def motif_periodique(instants):\r\n",
        "    return (np.where(instants < 0.4,                            # Si les instants sont < 0.4\r\n",
        "                    np.cos(instants * 2 * np.pi),               # Alors on retourne la fonction cos(2*pi*t)\r\n",
        "                    1 / np.exp(3 * instants)))                  # Sinon, on retourne la fonction exp(-3t)\r\n",
        "\r\n",
        "# Fonction permettant de créer une saisonnalité avec un motif\r\n",
        "def saisonnalite(temps, periode, amplitude=1, phase=0):\r\n",
        "    \"\"\"Répétition du motif sur la même période\"\"\"\r\n",
        "    instants = ((temps + phase) % periode) / periode            # Mapping du temps =[0 1 2 ... 1460] => instants = [0.0 ... 1.0]\r\n",
        "    return amplitude * motif_periodique(instants)\r\n",
        "\r\n",
        "# Fonction permettant de générer du bruit gaussien N(0,1)\r\n",
        "def bruit_blanc(temps, niveau_bruit=1, graine=None):\r\n",
        "    rnd = np.random.RandomState(graine)\r\n",
        "    return rnd.randn(len(temps)) * niveau_bruit\r\n",
        "\r\n",
        "# Création de la série temporelle\r\n",
        "temps = np.arange(4 * 365)                # temps = [0 1 2 .... 4*365] = [0 1 2 .... 1460]\r\n",
        "amplitude = 40                            # Amplitude de la la saisonnalité\r\n",
        "niveau_bruit = 5                          # Niveau du bruit\r\n",
        "offset = 10                               # Offset de la série\r\n",
        "\r\n",
        "serie = offset + tendance(temps, 0.1) + saisonnalite(temps, periode=365, amplitude=amplitude) + bruit_blanc(temps,niveau_bruit)\r\n",
        "\r\n",
        "plt.figure(figsize=(10, 6))\r\n",
        "affiche_serie(temps,serie)\r\n",
        "plt.title('Série temporelle expérimentale')\r\n",
        "plt.show()"
      ],
      "execution_count": null,
      "outputs": []
    },
    {
      "cell_type": "markdown",
      "metadata": {
        "id": "lCgA1BC-pGiz"
      },
      "source": [
        "Regardons le format de la série temporelle que nous avons pour le moment :"
      ]
    },
    {
      "cell_type": "code",
      "metadata": {
        "id": "inA5fPwypFza"
      },
      "source": [
        "print(serie.shape)\r\n",
        "dataset = tf.data.Dataset.from_tensor_slices(serie)\r\n",
        "for vecteur in dataset:\r\n",
        "  print(vecteur.numpy())"
      ],
      "execution_count": null,
      "outputs": []
    },
    {
      "cell_type": "markdown",
      "metadata": {
        "id": "atOtbHUk7AYt"
      },
      "source": [
        "# Préparation des données X et Y"
      ]
    },
    {
      "cell_type": "markdown",
      "metadata": {
        "id": "YuB97ANfEHIY"
      },
      "source": [
        "Définissons la fonction `fenetrage_Dataset` qui va permettre de créer les données X Y pour le réseau de neurones. Cette fonction retourne une classe Dataset et prend comme  paramètres :\r\n",
        " - `serie` : La série temporelle à traiter\r\n",
        " - `taille_fenetre` : La taille de la fenêtre glissante\r\n",
        " - `batch_size` : La nombre de regroupements que l'on souhaite obtenir dans nos données X et Y : par exemple si X=(X1,X2) et Y=(Y1,Y2) alors il faut donner `batch_size = 2`\r\n",
        " - `buffer_melange` : Buffer pour le mélange des données  \r\n",
        "   \r\n",
        "Cette fonction utilise la méthode [from_tensor_slices](https://www.tensorflow.org/api_docs/python/tf/data/Dataset#from_tensor_slices) de la classe Dataset de Tensorflow afin d'extraire une coupe depuis la série originale et de créer un dataset qui contient les valeurs de la série :"
      ]
    },
    {
      "cell_type": "code",
      "metadata": {
        "id": "78vEUlpIFMp6"
      },
      "source": [
        "# Fonction permettant de créer un dataset à partir des données de la série temporelle\r\n",
        "# au format X(X1,X2,...Xn) / Y(Y1,Y2,...,Yn)\r\n",
        "# X sont les données d'entrées du réseau\r\n",
        "# Y sont les labels\r\n",
        "\r\n",
        "def prepare_dataset_XY(serie, taille_fenetre, batch_size, buffer_melange):\r\n",
        "  dataset = tf.data.Dataset.from_tensor_slices(serie)\r\n",
        "  dataset = dataset.window(taille_fenetre + 1, shift=1, drop_remainder=True)\r\n",
        "  dataset = dataset.flat_map(lambda x: x.batch(taille_fenetre + 1))\r\n",
        "  dataset = dataset.shuffle(buffer_melange).map(lambda x: (x[:-1], x[-1:]))\r\n",
        "  dataset = dataset.batch(batch_size).prefetch(1)\r\n",
        "  return dataset"
      ],
      "execution_count": 175,
      "outputs": []
    },
    {
      "cell_type": "markdown",
      "metadata": {
        "id": "4l_pJU0yHlO4"
      },
      "source": [
        "Regardons un exemple :"
      ]
    },
    {
      "cell_type": "code",
      "metadata": {
        "id": "FZxUoJ3qHnqf",
        "colab": {
          "base_uri": "https://localhost:8080/"
        },
        "outputId": "3583c575-3d55-43f7-b84c-1f1e7a51d4c5"
      },
      "source": [
        "test = [0,1,2,3,4,5,6,7,8,9,10,11,12,13,14,15,16,17,18,19,20]\r\n",
        "dataset = prepare_dataset_XY(serie=test,taille_fenetre=3,batch_size=2,buffer_melange=20)\r\n",
        "list(dataset.as_numpy_iterator())"
      ],
      "execution_count": 176,
      "outputs": [
        {
          "output_type": "execute_result",
          "data": {
            "text/plain": [
              "[(array([[17, 18, 19],\n",
              "         [ 1,  2,  3]], dtype=int32), array([[20],\n",
              "         [ 4]], dtype=int32)), (array([[15, 16, 17],\n",
              "         [ 4,  5,  6]], dtype=int32), array([[18],\n",
              "         [ 7]], dtype=int32)), (array([[10, 11, 12],\n",
              "         [16, 17, 18]], dtype=int32), array([[13],\n",
              "         [19]], dtype=int32)), (array([[12, 13, 14],\n",
              "         [ 5,  6,  7]], dtype=int32), array([[15],\n",
              "         [ 8]], dtype=int32)), (array([[6, 7, 8],\n",
              "         [0, 1, 2]], dtype=int32), array([[9],\n",
              "         [3]], dtype=int32)), (array([[ 7,  8,  9],\n",
              "         [11, 12, 13]], dtype=int32), array([[10],\n",
              "         [14]], dtype=int32)), (array([[ 9, 10, 11],\n",
              "         [ 3,  4,  5]], dtype=int32), array([[12],\n",
              "         [ 6]], dtype=int32)), (array([[14, 15, 16],\n",
              "         [ 2,  3,  4]], dtype=int32), array([[17],\n",
              "         [ 5]], dtype=int32)), (array([[ 8,  9, 10],\n",
              "         [13, 14, 15]], dtype=int32), array([[11],\n",
              "         [16]], dtype=int32))]"
            ]
          },
          "metadata": {
            "tags": []
          },
          "execution_count": 176
        }
      ]
    },
    {
      "cell_type": "markdown",
      "metadata": {
        "id": "zHgcL7ZPJlws"
      },
      "source": [
        "**1. Séparation des données en données pour l'entrainement et la validation**"
      ]
    },
    {
      "cell_type": "markdown",
      "metadata": {
        "id": "8ggmBUlAKWH2"
      },
      "source": [
        "<img src=\"https://github.com/AlexandreBourrieau/ML/blob/main/Carnets%20Jupyter/Images/Series/illustration1.png?raw=true\" width=\"600\">  "
      ]
    },
    {
      "cell_type": "code",
      "metadata": {
        "id": "_14USRg5JvSu"
      },
      "source": [
        "temps_separation = 1000\r\n",
        "\r\n",
        "# Extraction des temps et des données d'entrainement\r\n",
        "temps_entrainement = temps[:temps_separation]\r\n",
        "x_entrainement = serie[:temps_separation]\r\n",
        "\r\n",
        "# Exctraction des temps et des données de valiadation\r\n",
        "temps_validation = temps[temps_separation:]\r\n",
        "x_validation = serie[temps_separation:]"
      ],
      "execution_count": 177,
      "outputs": []
    },
    {
      "cell_type": "markdown",
      "metadata": {
        "id": "hjh4mjMrKhA5"
      },
      "source": [
        "**2. Préparation des données X et des labels Y**"
      ]
    },
    {
      "cell_type": "markdown",
      "metadata": {
        "id": "bdqfYabAKoE2"
      },
      "source": [
        "On commence par créer notre dataset à partir de la série (remarque : les valeurs ci-dessous sont en réalité mélangées) :"
      ]
    },
    {
      "cell_type": "markdown",
      "metadata": {
        "id": "C2CDLaYDoDms"
      },
      "source": [
        "<img src=\"https://github.com/AlexandreBourrieau/ML/blob/main/Carnets%20Jupyter/S%C3%A9ries%20temporelles/images/split_XY_2.png?raw=true\" width=\"1200\"> "
      ]
    },
    {
      "cell_type": "code",
      "metadata": {
        "id": "ziajfOefKvsu"
      },
      "source": [
        "# Définition des caractéristiques du dataset que l'on souhaite créer\r\n",
        "taille_fenetre = 20\r\n",
        "batch_size = 32\r\n",
        "buffer_melange = 1000\r\n",
        "\r\n",
        "# Création du dataset X,Y\r\n",
        "dataset = prepare_dataset_XY(serie,taille_fenetre,batch_size,buffer_melange)"
      ],
      "execution_count": 183,
      "outputs": []
    },
    {
      "cell_type": "markdown",
      "metadata": {
        "id": "3PDKLgM0SxHu"
      },
      "source": [
        "Regardons ce qu'on obtient :"
      ]
    },
    {
      "cell_type": "code",
      "metadata": {
        "id": "nFRIMpVnMQkF"
      },
      "source": [
        "# Affiche le nombre total d'éléments dans le dataset\r\n",
        "print(\"Nombre total d'éléments dans le dataset : %d\" %len(list(dataset.as_numpy_iterator())))\r\n",
        "\r\n",
        "# Affiche le premier élément du dataset\r\n",
        "print(\"Premier élément dans le dataset :\")\r\n",
        "for element in dataset.take(1):\r\n",
        "  print(element)"
      ],
      "execution_count": null,
      "outputs": []
    },
    {
      "cell_type": "markdown",
      "metadata": {
        "id": "gvFLK9n1X7FG"
      },
      "source": [
        "On obtient donc un dataset qui contient :\r\n",
        "- 45 éléments de format (32,20) : Ce sont les groupes qui composent les entrées X\r\n",
        "- 45 éléments de format (32,) : Ce sont les groupes qui composent les labels Y"
      ]
    },
    {
      "cell_type": "markdown",
      "metadata": {
        "id": "ykmhrzaW8N22"
      },
      "source": [
        "Affichons la première entrée et le premier label correspondant à cette entrée :"
      ]
    },
    {
      "cell_type": "code",
      "metadata": {
        "id": "D8b5Z8uf7_g2"
      },
      "source": [
        "# Affiche la première entrée X :\r\n",
        "for X,Y in dataset.take(1):\r\n",
        "  print(X)"
      ],
      "execution_count": null,
      "outputs": []
    },
    {
      "cell_type": "code",
      "metadata": {
        "id": "uEvbJk7u8HFb"
      },
      "source": [
        "# Affiche le premier label Y :\r\n",
        "for X,Y in dataset.take(1):\r\n",
        "  print(Y)"
      ],
      "execution_count": null,
      "outputs": []
    },
    {
      "cell_type": "markdown",
      "metadata": {
        "id": "2Yt-EgZ3sgPY"
      },
      "source": [
        "**3. Création du réseau de neurone sous Keras**"
      ]
    },
    {
      "cell_type": "markdown",
      "metadata": {
        "id": "nZ0WlZFCs3hQ"
      },
      "source": [
        "On met maintenant en place un réseau de neurone pour la régression linéaire constitué :\r\n",
        "-  **D'une couche d'entrée avec 1 neurone** qui prend en entrée des **vecteurs 1D de dimension égale à la taille de la fenêtre**.  \r\n",
        "On a donc 21 paramètres à calculer (20 poids + 1 offset).  \r\n",
        "- On utilise un **taux d'apprentissage de 1e-6**\r\n",
        "- On choisit un **optimiseur de type Descente de gradient stochastique et à moment** (MSGD - Momentum Stochastic Gradient Descent) avec un moment fixé à 0.9.  \r\n",
        "- On utilise une **fonction d'objectif** de type **erreur moyenne quadratique** (mse - mean squared error)"
      ]
    },
    {
      "cell_type": "code",
      "metadata": {
        "id": "nGl_t4BG3Jw2",
        "outputId": "8f301f9c-b1ba-4032-fd3e-abf9aadb9c5e",
        "colab": {
          "base_uri": "https://localhost:8080/"
        }
      },
      "source": [
        "# Création du modèle de régression linéaire\r\n",
        "\r\n",
        "model = tf.keras.models.Sequential()\r\n",
        "model.add(tf.keras.Input(shape=(taille_fenetre)))\r\n",
        "model.add(tf.keras.layers.Dense(1))\r\n",
        "\r\n",
        "model.compile(loss=\"mse\", optimizer=tf.keras.optimizers.SGD(lr=1e-6, momentum=0.9))\r\n",
        "model.summary()"
      ],
      "execution_count": 173,
      "outputs": [
        {
          "output_type": "stream",
          "text": [
            "Model: \"sequential_28\"\n",
            "_________________________________________________________________\n",
            "Layer (type)                 Output Shape              Param #   \n",
            "=================================================================\n",
            "dense_24 (Dense)             (None, 1)                 21        \n",
            "=================================================================\n",
            "Total params: 21\n",
            "Trainable params: 21\n",
            "Non-trainable params: 0\n",
            "_________________________________________________________________\n"
          ],
          "name": "stdout"
        }
      ]
    },
    {
      "cell_type": "code",
      "metadata": {
        "id": "wWu3Wihj35U9",
        "outputId": "c6d0aa98-17a4-4bf9-de2e-c68056c2fb17",
        "colab": {
          "base_uri": "https://localhost:8080/"
        }
      },
      "source": [
        "for structure in dataset.element_spec:\r\n",
        "  print(structure.name)"
      ],
      "execution_count": 158,
      "outputs": [
        {
          "output_type": "stream",
          "text": [
            "None\n",
            "None\n"
          ],
          "name": "stdout"
        }
      ]
    },
    {
      "cell_type": "code",
      "metadata": {
        "id": "w0NTLrYY3bN1",
        "outputId": "502ca0f8-2cf9-4711-cb45-166db0a630ff",
        "colab": {
          "base_uri": "https://localhost:8080/"
        }
      },
      "source": [
        "model.fit(dataset,epochs=1,verbose=1)"
      ],
      "execution_count": 174,
      "outputs": [
        {
          "output_type": "stream",
          "text": [
            "45/45 [==============================] - 0s 3ms/step - loss: nan\n"
          ],
          "name": "stdout"
        },
        {
          "output_type": "execute_result",
          "data": {
            "text/plain": [
              "<tensorflow.python.keras.callbacks.History at 0x7f04c522a0d0>"
            ]
          },
          "metadata": {
            "tags": []
          },
          "execution_count": 174
        }
      ]
    },
    {
      "cell_type": "code",
      "metadata": {
        "colab": {
          "base_uri": "https://localhost:8080/"
        },
        "id": "lzlLvrSytnY7",
        "outputId": "87a392e1-b7ab-43a7-b23f-a3199fcb9950"
      },
      "source": [
        "# Création du modèle de régression linéaire\r\n",
        "\r\n",
        "model = tf.keras.models.Sequential()\r\n",
        "model.add(tf.keras.Input(shape=(taille_fenetre,)))\r\n",
        "model.add(tf.keras.layers.Dense(1))\r\n",
        "\r\n",
        "model.compile(loss=\"mse\", optimizer=tf.keras.optimizers.SGD(lr=1e-6, momentum=0.9))\r\n",
        "model.summary()"
      ],
      "execution_count": 138,
      "outputs": [
        {
          "output_type": "stream",
          "text": [
            "Model: \"sequential_22\"\n",
            "_________________________________________________________________\n",
            "Layer (type)                 Output Shape              Param #   \n",
            "=================================================================\n",
            "dense_18 (Dense)             (None, 1)                 21        \n",
            "=================================================================\n",
            "Total params: 21\n",
            "Trainable params: 21\n",
            "Non-trainable params: 0\n",
            "_________________________________________________________________\n"
          ],
          "name": "stdout"
        }
      ]
    },
    {
      "cell_type": "markdown",
      "metadata": {
        "id": "NmV8NcOWzhGg"
      },
      "source": [
        "Une autre possibilité pour construire ce réseau est d'empiler les couches les unes sur les autres comme ci-dessous. Cette solution a l'avantage de pouvoir par la suite accéder directement aux données de la couche qui nous interesse à l'aide du nom de sa variable :"
      ]
    },
    {
      "cell_type": "code",
      "metadata": {
        "colab": {
          "base_uri": "https://localhost:8080/"
        },
        "id": "yGcS3CjLsvrT",
        "outputId": "dff98b90-9f35-46f9-b0fc-314519662c98"
      },
      "source": [
        "# Construction du réseau avec nomination explicite du nom des couches\r\n",
        "\r\n",
        "couche_0 = tf.keras.layers.Dense(1, input_shape=[taille_fenetre])\r\n",
        "model = tf.keras.models.Sequential([couche_0])\r\n",
        "\r\n",
        "model.compile(loss=\"mse\", optimizer=tf.keras.optimizers.SGD(lr=1e-6, momentum=0.9))\r\n",
        "model.summary()"
      ],
      "execution_count": 141,
      "outputs": [
        {
          "output_type": "stream",
          "text": [
            "Model: \"sequential_24\"\n",
            "_________________________________________________________________\n",
            "Layer (type)                 Output Shape              Param #   \n",
            "=================================================================\n",
            "dense_20 (Dense)             (None, 1)                 21        \n",
            "=================================================================\n",
            "Total params: 21\n",
            "Trainable params: 21\n",
            "Non-trainable params: 0\n",
            "_________________________________________________________________\n"
          ],
          "name": "stdout"
        }
      ]
    },
    {
      "cell_type": "code",
      "metadata": {
        "colab": {
          "base_uri": "https://localhost:8080/"
        },
        "id": "mzJosG9g0Qav",
        "outputId": "dba81a89-d041-4ba8-d8a0-55a9e44dbcd1"
      },
      "source": [
        "print(couche_0.input_shape)\r\n",
        "print(couche_0.output_shape)"
      ],
      "execution_count": 143,
      "outputs": [
        {
          "output_type": "stream",
          "text": [
            "(None, 20)\n",
            "(None, 1)\n"
          ],
          "name": "stdout"
        }
      ]
    },
    {
      "cell_type": "code",
      "metadata": {
        "id": "GNWLOyEU0TsW"
      },
      "source": [
        ""
      ],
      "execution_count": null,
      "outputs": []
    },
    {
      "cell_type": "markdown",
      "metadata": {
        "id": "V7B0db8g0x0-"
      },
      "source": [
        "**4. Entrainement du réseau**"
      ]
    },
    {
      "cell_type": "markdown",
      "metadata": {
        "id": "Ynbm3GnF1OxV"
      },
      "source": [
        "On entraine le réseau sur 100 périodes. Comme le modèle prend 1 élément (vecteur d'entrée X de dimension 20) à chaque itération, et qu'il y a 45 éléments, il y aura 45 itération par période."
      ]
    },
    {
      "cell_type": "code",
      "metadata": {
        "colab": {
          "base_uri": "https://localhost:8080/",
          "height": 1000
        },
        "id": "-0viBqeL02-O",
        "outputId": "f88aa8cc-34c5-4fc6-84da-ffcdaebc167a"
      },
      "source": [
        "# Lance l'entrainement du modèle\r\n",
        "\r\n",
        "model.fit(dataset,epochs=100,verbose=1)"
      ],
      "execution_count": 148,
      "outputs": [
        {
          "output_type": "stream",
          "text": [
            "Epoch 1/100\n",
            "45/45 [==============================] - 0s 3ms/step - loss: 471.9546\n",
            "Epoch 2/100\n",
            "45/45 [==============================] - 0s 3ms/step - loss: 97.2591\n",
            "Epoch 3/100\n",
            "45/45 [==============================] - 0s 3ms/step - loss: 87.9424\n",
            "Epoch 4/100\n",
            "45/45 [==============================] - 0s 3ms/step - loss: 76.0304\n",
            "Epoch 5/100\n",
            "45/45 [==============================] - 0s 3ms/step - loss: 76.5506\n",
            "Epoch 6/100\n",
            "45/45 [==============================] - 0s 3ms/step - loss: 82.3537\n",
            "Epoch 7/100\n",
            "45/45 [==============================] - 0s 3ms/step - loss: 70.5743\n",
            "Epoch 8/100\n",
            "45/45 [==============================] - 0s 3ms/step - loss: 73.8283\n",
            "Epoch 9/100\n",
            "45/45 [==============================] - 0s 3ms/step - loss: 73.2245\n",
            "Epoch 10/100\n",
            "45/45 [==============================] - 0s 3ms/step - loss: 63.3716\n",
            "Epoch 11/100\n",
            "45/45 [==============================] - 0s 3ms/step - loss: 64.9042\n",
            "Epoch 12/100\n",
            "45/45 [==============================] - 0s 3ms/step - loss: 61.5106\n",
            "Epoch 13/100\n",
            "45/45 [==============================] - 0s 3ms/step - loss: 70.7867\n",
            "Epoch 14/100\n",
            "45/45 [==============================] - 0s 3ms/step - loss: 68.5892\n",
            "Epoch 15/100\n",
            "45/45 [==============================] - 0s 3ms/step - loss: 66.6996\n",
            "Epoch 16/100\n",
            "45/45 [==============================] - 0s 3ms/step - loss: 61.6613\n",
            "Epoch 17/100\n",
            "45/45 [==============================] - 0s 3ms/step - loss: 56.1895\n",
            "Epoch 18/100\n",
            "45/45 [==============================] - 0s 3ms/step - loss: 63.9255\n",
            "Epoch 19/100\n",
            "45/45 [==============================] - 0s 3ms/step - loss: 63.9395\n",
            "Epoch 20/100\n",
            "45/45 [==============================] - 0s 3ms/step - loss: 54.5212\n",
            "Epoch 21/100\n",
            "45/45 [==============================] - 0s 3ms/step - loss: 50.8046\n",
            "Epoch 22/100\n",
            "45/45 [==============================] - 0s 3ms/step - loss: 58.3163\n",
            "Epoch 23/100\n",
            "45/45 [==============================] - 0s 3ms/step - loss: 55.7029\n",
            "Epoch 24/100\n",
            "45/45 [==============================] - 0s 3ms/step - loss: 63.6350\n",
            "Epoch 25/100\n",
            "45/45 [==============================] - 0s 3ms/step - loss: 65.6618\n",
            "Epoch 26/100\n",
            "45/45 [==============================] - 0s 2ms/step - loss: 61.3928\n",
            "Epoch 27/100\n",
            "45/45 [==============================] - 0s 3ms/step - loss: 51.1990\n",
            "Epoch 28/100\n",
            "45/45 [==============================] - 0s 3ms/step - loss: 53.4195\n",
            "Epoch 29/100\n",
            "45/45 [==============================] - 0s 3ms/step - loss: 57.2627\n",
            "Epoch 30/100\n",
            "45/45 [==============================] - 0s 3ms/step - loss: 50.0034\n",
            "Epoch 31/100\n",
            "45/45 [==============================] - 0s 3ms/step - loss: 51.7517\n",
            "Epoch 32/100\n",
            "45/45 [==============================] - 0s 3ms/step - loss: 47.9911\n",
            "Epoch 33/100\n",
            "45/45 [==============================] - 0s 3ms/step - loss: 51.9626\n",
            "Epoch 34/100\n",
            "45/45 [==============================] - 0s 3ms/step - loss: 48.1179\n",
            "Epoch 35/100\n",
            "45/45 [==============================] - 0s 3ms/step - loss: 52.0253\n",
            "Epoch 36/100\n",
            "45/45 [==============================] - 0s 3ms/step - loss: 49.4278\n",
            "Epoch 37/100\n",
            "45/45 [==============================] - 0s 3ms/step - loss: 51.9575\n",
            "Epoch 38/100\n",
            "45/45 [==============================] - 0s 3ms/step - loss: 51.9830\n",
            "Epoch 39/100\n",
            "45/45 [==============================] - 0s 3ms/step - loss: 43.7640\n",
            "Epoch 40/100\n",
            "45/45 [==============================] - 0s 4ms/step - loss: 51.0670\n",
            "Epoch 41/100\n",
            "45/45 [==============================] - 0s 3ms/step - loss: 48.8582\n",
            "Epoch 42/100\n",
            "45/45 [==============================] - 0s 3ms/step - loss: 51.8295\n",
            "Epoch 43/100\n",
            "45/45 [==============================] - 0s 3ms/step - loss: 48.0823\n",
            "Epoch 44/100\n",
            "45/45 [==============================] - 0s 3ms/step - loss: 46.3604\n",
            "Epoch 45/100\n",
            "45/45 [==============================] - 0s 3ms/step - loss: 44.6691\n",
            "Epoch 46/100\n",
            "45/45 [==============================] - 0s 3ms/step - loss: 47.8952\n",
            "Epoch 47/100\n",
            "45/45 [==============================] - 0s 3ms/step - loss: 47.6742\n",
            "Epoch 48/100\n",
            "45/45 [==============================] - 0s 3ms/step - loss: 43.1415\n",
            "Epoch 49/100\n",
            "45/45 [==============================] - 0s 3ms/step - loss: 53.2228\n",
            "Epoch 50/100\n",
            "45/45 [==============================] - 0s 3ms/step - loss: 47.1648\n",
            "Epoch 51/100\n",
            "45/45 [==============================] - 0s 3ms/step - loss: 45.7766\n",
            "Epoch 52/100\n",
            "45/45 [==============================] - 0s 3ms/step - loss: 46.1548\n",
            "Epoch 53/100\n",
            "45/45 [==============================] - 0s 3ms/step - loss: 47.1673\n",
            "Epoch 54/100\n",
            "45/45 [==============================] - 0s 3ms/step - loss: 43.8441\n",
            "Epoch 55/100\n",
            "45/45 [==============================] - 0s 3ms/step - loss: 46.2644\n",
            "Epoch 56/100\n",
            "45/45 [==============================] - 0s 3ms/step - loss: 46.4461\n",
            "Epoch 57/100\n",
            "45/45 [==============================] - 0s 3ms/step - loss: 45.2289\n",
            "Epoch 58/100\n",
            "45/45 [==============================] - 0s 3ms/step - loss: 47.5334\n",
            "Epoch 59/100\n",
            "45/45 [==============================] - 0s 3ms/step - loss: 49.2087\n",
            "Epoch 60/100\n",
            "45/45 [==============================] - 0s 4ms/step - loss: 41.0001\n",
            "Epoch 61/100\n",
            "45/45 [==============================] - 0s 3ms/step - loss: 46.8800\n",
            "Epoch 62/100\n",
            "45/45 [==============================] - 0s 3ms/step - loss: 41.1021\n",
            "Epoch 63/100\n",
            "45/45 [==============================] - 0s 3ms/step - loss: 45.2356\n",
            "Epoch 64/100\n",
            "45/45 [==============================] - 0s 3ms/step - loss: 45.9552\n",
            "Epoch 65/100\n",
            "45/45 [==============================] - 0s 3ms/step - loss: 43.3127\n",
            "Epoch 66/100\n",
            "45/45 [==============================] - 0s 3ms/step - loss: 44.5154\n",
            "Epoch 67/100\n",
            "45/45 [==============================] - 0s 3ms/step - loss: 43.8673\n",
            "Epoch 68/100\n",
            "13/45 [=======>......................] - ETA: 0s - loss: 35.5771"
          ],
          "name": "stdout"
        },
        {
          "output_type": "error",
          "ename": "KeyboardInterrupt",
          "evalue": "ignored",
          "traceback": [
            "\u001b[0;31m---------------------------------------------------------------------------\u001b[0m",
            "\u001b[0;31mKeyboardInterrupt\u001b[0m                         Traceback (most recent call last)",
            "\u001b[0;32m<ipython-input-148-6531a26a584d>\u001b[0m in \u001b[0;36m<module>\u001b[0;34m()\u001b[0m\n\u001b[1;32m      1\u001b[0m \u001b[0;31m# Lance l'entrainement du modèle\u001b[0m\u001b[0;34m\u001b[0m\u001b[0;34m\u001b[0m\u001b[0;34m\u001b[0m\u001b[0m\n\u001b[1;32m      2\u001b[0m \u001b[0;34m\u001b[0m\u001b[0m\n\u001b[0;32m----> 3\u001b[0;31m \u001b[0mmodel\u001b[0m\u001b[0;34m.\u001b[0m\u001b[0mfit\u001b[0m\u001b[0;34m(\u001b[0m\u001b[0mdataset\u001b[0m\u001b[0;34m,\u001b[0m\u001b[0mepochs\u001b[0m\u001b[0;34m=\u001b[0m\u001b[0;36m100\u001b[0m\u001b[0;34m,\u001b[0m\u001b[0mverbose\u001b[0m\u001b[0;34m=\u001b[0m\u001b[0;36m1\u001b[0m\u001b[0;34m)\u001b[0m\u001b[0;34m\u001b[0m\u001b[0;34m\u001b[0m\u001b[0m\n\u001b[0m",
            "\u001b[0;32m/usr/local/lib/python3.7/dist-packages/tensorflow/python/keras/engine/training.py\u001b[0m in \u001b[0;36mfit\u001b[0;34m(self, x, y, batch_size, epochs, verbose, callbacks, validation_split, validation_data, shuffle, class_weight, sample_weight, initial_epoch, steps_per_epoch, validation_steps, validation_batch_size, validation_freq, max_queue_size, workers, use_multiprocessing)\u001b[0m\n\u001b[1;32m   1098\u001b[0m                 _r=1):\n\u001b[1;32m   1099\u001b[0m               \u001b[0mcallbacks\u001b[0m\u001b[0;34m.\u001b[0m\u001b[0mon_train_batch_begin\u001b[0m\u001b[0;34m(\u001b[0m\u001b[0mstep\u001b[0m\u001b[0;34m)\u001b[0m\u001b[0;34m\u001b[0m\u001b[0;34m\u001b[0m\u001b[0m\n\u001b[0;32m-> 1100\u001b[0;31m               \u001b[0mtmp_logs\u001b[0m \u001b[0;34m=\u001b[0m \u001b[0mself\u001b[0m\u001b[0;34m.\u001b[0m\u001b[0mtrain_function\u001b[0m\u001b[0;34m(\u001b[0m\u001b[0miterator\u001b[0m\u001b[0;34m)\u001b[0m\u001b[0;34m\u001b[0m\u001b[0;34m\u001b[0m\u001b[0m\n\u001b[0m\u001b[1;32m   1101\u001b[0m               \u001b[0;32mif\u001b[0m \u001b[0mdata_handler\u001b[0m\u001b[0;34m.\u001b[0m\u001b[0mshould_sync\u001b[0m\u001b[0;34m:\u001b[0m\u001b[0;34m\u001b[0m\u001b[0;34m\u001b[0m\u001b[0m\n\u001b[1;32m   1102\u001b[0m                 \u001b[0mcontext\u001b[0m\u001b[0;34m.\u001b[0m\u001b[0masync_wait\u001b[0m\u001b[0;34m(\u001b[0m\u001b[0;34m)\u001b[0m\u001b[0;34m\u001b[0m\u001b[0;34m\u001b[0m\u001b[0m\n",
            "\u001b[0;32m/usr/local/lib/python3.7/dist-packages/tensorflow/python/eager/def_function.py\u001b[0m in \u001b[0;36m__call__\u001b[0;34m(self, *args, **kwds)\u001b[0m\n\u001b[1;32m    826\u001b[0m     \u001b[0mtracing_count\u001b[0m \u001b[0;34m=\u001b[0m \u001b[0mself\u001b[0m\u001b[0;34m.\u001b[0m\u001b[0mexperimental_get_tracing_count\u001b[0m\u001b[0;34m(\u001b[0m\u001b[0;34m)\u001b[0m\u001b[0;34m\u001b[0m\u001b[0;34m\u001b[0m\u001b[0m\n\u001b[1;32m    827\u001b[0m     \u001b[0;32mwith\u001b[0m \u001b[0mtrace\u001b[0m\u001b[0;34m.\u001b[0m\u001b[0mTrace\u001b[0m\u001b[0;34m(\u001b[0m\u001b[0mself\u001b[0m\u001b[0;34m.\u001b[0m\u001b[0m_name\u001b[0m\u001b[0;34m)\u001b[0m \u001b[0;32mas\u001b[0m \u001b[0mtm\u001b[0m\u001b[0;34m:\u001b[0m\u001b[0;34m\u001b[0m\u001b[0;34m\u001b[0m\u001b[0m\n\u001b[0;32m--> 828\u001b[0;31m       \u001b[0mresult\u001b[0m \u001b[0;34m=\u001b[0m \u001b[0mself\u001b[0m\u001b[0;34m.\u001b[0m\u001b[0m_call\u001b[0m\u001b[0;34m(\u001b[0m\u001b[0;34m*\u001b[0m\u001b[0margs\u001b[0m\u001b[0;34m,\u001b[0m \u001b[0;34m**\u001b[0m\u001b[0mkwds\u001b[0m\u001b[0;34m)\u001b[0m\u001b[0;34m\u001b[0m\u001b[0;34m\u001b[0m\u001b[0m\n\u001b[0m\u001b[1;32m    829\u001b[0m       \u001b[0mcompiler\u001b[0m \u001b[0;34m=\u001b[0m \u001b[0;34m\"xla\"\u001b[0m \u001b[0;32mif\u001b[0m \u001b[0mself\u001b[0m\u001b[0;34m.\u001b[0m\u001b[0m_experimental_compile\u001b[0m \u001b[0;32melse\u001b[0m \u001b[0;34m\"nonXla\"\u001b[0m\u001b[0;34m\u001b[0m\u001b[0;34m\u001b[0m\u001b[0m\n\u001b[1;32m    830\u001b[0m       \u001b[0mnew_tracing_count\u001b[0m \u001b[0;34m=\u001b[0m \u001b[0mself\u001b[0m\u001b[0;34m.\u001b[0m\u001b[0mexperimental_get_tracing_count\u001b[0m\u001b[0;34m(\u001b[0m\u001b[0;34m)\u001b[0m\u001b[0;34m\u001b[0m\u001b[0;34m\u001b[0m\u001b[0m\n",
            "\u001b[0;32m/usr/local/lib/python3.7/dist-packages/tensorflow/python/eager/def_function.py\u001b[0m in \u001b[0;36m_call\u001b[0;34m(self, *args, **kwds)\u001b[0m\n\u001b[1;32m    853\u001b[0m       \u001b[0;31m# In this case we have created variables on the first call, so we run the\u001b[0m\u001b[0;34m\u001b[0m\u001b[0;34m\u001b[0m\u001b[0;34m\u001b[0m\u001b[0m\n\u001b[1;32m    854\u001b[0m       \u001b[0;31m# defunned version which is guaranteed to never create variables.\u001b[0m\u001b[0;34m\u001b[0m\u001b[0;34m\u001b[0m\u001b[0;34m\u001b[0m\u001b[0m\n\u001b[0;32m--> 855\u001b[0;31m       \u001b[0;32mreturn\u001b[0m \u001b[0mself\u001b[0m\u001b[0;34m.\u001b[0m\u001b[0m_stateless_fn\u001b[0m\u001b[0;34m(\u001b[0m\u001b[0;34m*\u001b[0m\u001b[0margs\u001b[0m\u001b[0;34m,\u001b[0m \u001b[0;34m**\u001b[0m\u001b[0mkwds\u001b[0m\u001b[0;34m)\u001b[0m  \u001b[0;31m# pylint: disable=not-callable\u001b[0m\u001b[0;34m\u001b[0m\u001b[0;34m\u001b[0m\u001b[0m\n\u001b[0m\u001b[1;32m    856\u001b[0m     \u001b[0;32melif\u001b[0m \u001b[0mself\u001b[0m\u001b[0;34m.\u001b[0m\u001b[0m_stateful_fn\u001b[0m \u001b[0;32mis\u001b[0m \u001b[0;32mnot\u001b[0m \u001b[0;32mNone\u001b[0m\u001b[0;34m:\u001b[0m\u001b[0;34m\u001b[0m\u001b[0;34m\u001b[0m\u001b[0m\n\u001b[1;32m    857\u001b[0m       \u001b[0;31m# Release the lock early so that multiple threads can perform the call\u001b[0m\u001b[0;34m\u001b[0m\u001b[0;34m\u001b[0m\u001b[0;34m\u001b[0m\u001b[0m\n",
            "\u001b[0;32m/usr/local/lib/python3.7/dist-packages/tensorflow/python/eager/function.py\u001b[0m in \u001b[0;36m__call__\u001b[0;34m(self, *args, **kwargs)\u001b[0m\n\u001b[1;32m   2941\u001b[0m        filtered_flat_args) = self._maybe_define_function(args, kwargs)\n\u001b[1;32m   2942\u001b[0m     return graph_function._call_flat(\n\u001b[0;32m-> 2943\u001b[0;31m         filtered_flat_args, captured_inputs=graph_function.captured_inputs)  # pylint: disable=protected-access\n\u001b[0m\u001b[1;32m   2944\u001b[0m \u001b[0;34m\u001b[0m\u001b[0m\n\u001b[1;32m   2945\u001b[0m   \u001b[0;34m@\u001b[0m\u001b[0mproperty\u001b[0m\u001b[0;34m\u001b[0m\u001b[0;34m\u001b[0m\u001b[0m\n",
            "\u001b[0;32m/usr/local/lib/python3.7/dist-packages/tensorflow/python/eager/function.py\u001b[0m in \u001b[0;36m_call_flat\u001b[0;34m(self, args, captured_inputs, cancellation_manager)\u001b[0m\n\u001b[1;32m   1917\u001b[0m       \u001b[0;31m# No tape is watching; skip to running the function.\u001b[0m\u001b[0;34m\u001b[0m\u001b[0;34m\u001b[0m\u001b[0;34m\u001b[0m\u001b[0m\n\u001b[1;32m   1918\u001b[0m       return self._build_call_outputs(self._inference_function.call(\n\u001b[0;32m-> 1919\u001b[0;31m           ctx, args, cancellation_manager=cancellation_manager))\n\u001b[0m\u001b[1;32m   1920\u001b[0m     forward_backward = self._select_forward_and_backward_functions(\n\u001b[1;32m   1921\u001b[0m         \u001b[0margs\u001b[0m\u001b[0;34m,\u001b[0m\u001b[0;34m\u001b[0m\u001b[0;34m\u001b[0m\u001b[0m\n",
            "\u001b[0;32m/usr/local/lib/python3.7/dist-packages/tensorflow/python/eager/function.py\u001b[0m in \u001b[0;36mcall\u001b[0;34m(self, ctx, args, cancellation_manager)\u001b[0m\n\u001b[1;32m    558\u001b[0m               \u001b[0minputs\u001b[0m\u001b[0;34m=\u001b[0m\u001b[0margs\u001b[0m\u001b[0;34m,\u001b[0m\u001b[0;34m\u001b[0m\u001b[0;34m\u001b[0m\u001b[0m\n\u001b[1;32m    559\u001b[0m               \u001b[0mattrs\u001b[0m\u001b[0;34m=\u001b[0m\u001b[0mattrs\u001b[0m\u001b[0;34m,\u001b[0m\u001b[0;34m\u001b[0m\u001b[0;34m\u001b[0m\u001b[0m\n\u001b[0;32m--> 560\u001b[0;31m               ctx=ctx)\n\u001b[0m\u001b[1;32m    561\u001b[0m         \u001b[0;32melse\u001b[0m\u001b[0;34m:\u001b[0m\u001b[0;34m\u001b[0m\u001b[0;34m\u001b[0m\u001b[0m\n\u001b[1;32m    562\u001b[0m           outputs = execute.execute_with_cancellation(\n",
            "\u001b[0;32m/usr/local/lib/python3.7/dist-packages/tensorflow/python/eager/execute.py\u001b[0m in \u001b[0;36mquick_execute\u001b[0;34m(op_name, num_outputs, inputs, attrs, ctx, name)\u001b[0m\n\u001b[1;32m     58\u001b[0m     \u001b[0mctx\u001b[0m\u001b[0;34m.\u001b[0m\u001b[0mensure_initialized\u001b[0m\u001b[0;34m(\u001b[0m\u001b[0;34m)\u001b[0m\u001b[0;34m\u001b[0m\u001b[0;34m\u001b[0m\u001b[0m\n\u001b[1;32m     59\u001b[0m     tensors = pywrap_tfe.TFE_Py_Execute(ctx._handle, device_name, op_name,\n\u001b[0;32m---> 60\u001b[0;31m                                         inputs, attrs, num_outputs)\n\u001b[0m\u001b[1;32m     61\u001b[0m   \u001b[0;32mexcept\u001b[0m \u001b[0mcore\u001b[0m\u001b[0;34m.\u001b[0m\u001b[0m_NotOkStatusException\u001b[0m \u001b[0;32mas\u001b[0m \u001b[0me\u001b[0m\u001b[0;34m:\u001b[0m\u001b[0;34m\u001b[0m\u001b[0;34m\u001b[0m\u001b[0m\n\u001b[1;32m     62\u001b[0m     \u001b[0;32mif\u001b[0m \u001b[0mname\u001b[0m \u001b[0;32mis\u001b[0m \u001b[0;32mnot\u001b[0m \u001b[0;32mNone\u001b[0m\u001b[0;34m:\u001b[0m\u001b[0;34m\u001b[0m\u001b[0;34m\u001b[0m\u001b[0m\n",
            "\u001b[0;31mKeyboardInterrupt\u001b[0m: "
          ]
        }
      ]
    }
  ]
}