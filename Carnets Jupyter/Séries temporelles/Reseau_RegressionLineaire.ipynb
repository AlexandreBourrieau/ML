{
  "nbformat": 4,
  "nbformat_minor": 0,
  "metadata": {
    "colab": {
      "name": "Untitled10.ipynb",
      "provenance": [],
      "authorship_tag": "ABX9TyOb8Dl9HlXlJlWhceY7KV2c",
      "include_colab_link": true
    },
    "kernelspec": {
      "name": "python3",
      "display_name": "Python 3"
    }
  },
  "cells": [
    {
      "cell_type": "markdown",
      "metadata": {
        "id": "view-in-github",
        "colab_type": "text"
      },
      "source": [
        "<a href=\"https://colab.research.google.com/github/AlexandreBourrieau/ML/blob/main/Carnets%20Jupyter/S%C3%A9ries%20temporelles/Reseau_RegressionLineaire.ipynb\" target=\"_parent\"><img src=\"https://colab.research.google.com/assets/colab-badge.svg\" alt=\"Open In Colab\"/></a>"
      ]
    },
    {
      "cell_type": "markdown",
      "metadata": {
        "id": "ubCeIvtF6R4W"
      },
      "source": [
        "Dans ce carnet nous allons mettre en place une regression linéaire à l'aide d'un réseau de neurones sur notre série temporelle. Pour cela, nous allons suivre les étapes suivantes :\r\n",
        "  - Reprendre le code nécessaire pour créer notre série temporelle\r\n",
        "  - Définir une fonction permettant de préparer les données d'entrée X et les labels Y pour attaquer notre réseau de régression linéaire\r\n",
        "  - Préparer les données X et Y avec la fonction définie précédemment."
      ]
    },
    {
      "cell_type": "code",
      "metadata": {
        "id": "RRhtHsNn5fc3"
      },
      "source": [
        "import tensorflow as tf\r\n",
        "from tensorflow import keras\r\n",
        "\r\n",
        "import numpy as np\r\n",
        "import matplotlib.pyplot as plt"
      ],
      "execution_count": null,
      "outputs": []
    },
    {
      "cell_type": "markdown",
      "metadata": {
        "id": "XFeah3y_6kif"
      },
      "source": [
        "# Création de la série temporelle"
      ]
    },
    {
      "cell_type": "code",
      "metadata": {
        "id": "vJfSLtub6sdc"
      },
      "source": [
        "# Fonction permettant d'afficher une série temporelle\r\n",
        "def affiche_serie(temps, serie, format=\"-\", debut=0, fin=None, label=None):\r\n",
        "    plt.plot(temps[debut:fin], serie[debut:fin], format, label=label)\r\n",
        "    plt.xlabel(\"Temps\")\r\n",
        "    plt.ylabel(\"Valeur\")\r\n",
        "    if label:\r\n",
        "        plt.legend(fontsize=14)\r\n",
        "    plt.grid(True)\r\n",
        "\r\n",
        "# Fonction permettant de créer une tendance\r\n",
        "def tendance(temps, pente=0):\r\n",
        "    return pente * temps\r\n",
        "\r\n",
        "# Fonction permettant de créer un motif\r\n",
        "def motif_periodique(instants):\r\n",
        "    return (np.where(instants < 0.4,                            # Si les instants sont < 0.4\r\n",
        "                    np.cos(instants * 2 * np.pi),               # Alors on retourne la fonction cos(2*pi*t)\r\n",
        "                    1 / np.exp(3 * instants)))                  # Sinon, on retourne la fonction exp(-3t)\r\n",
        "\r\n",
        "# Fonction permettant de créer une saisonnalité avec un motif\r\n",
        "def saisonnalite(temps, periode, amplitude=1, phase=0):\r\n",
        "    \"\"\"Répétition du motif sur la même période\"\"\"\r\n",
        "    instants = ((temps + phase) % periode) / periode            # Mapping du temps =[0 1 2 ... 1460] => instants = [0.0 ... 1.0]\r\n",
        "    return amplitude * motif_periodique(instants)\r\n",
        "\r\n",
        "# Fonction permettant de générer du bruit gaussien N(0,1)\r\n",
        "def bruit_blanc(temps, niveau_bruit=1, graine=None):\r\n",
        "    rnd = np.random.RandomState(graine)\r\n",
        "    return rnd.randn(len(temps)) * niveau_bruit\r\n",
        "\r\n",
        "# Création de la série temporelle\r\n",
        "temps = np.arange(4 * 365)                # temps = [0 1 2 .... 4*365] = [0 1 2 .... 1460]\r\n",
        "amplitude = 40                            # Amplitude de la la saisonnalité\r\n",
        "niveau_bruit = 5                          # Niveau du bruit\r\n",
        "offset = 10                               # Offset de la série\r\n",
        "\r\n",
        "serie = offset + tendance(temps, 0.1) + saisonnalite(temps, periode=365, amplitude=amplitude) + bruit_blanc(temps,niveau_bruit)\r\n",
        "\r\n",
        "plt.figure(figsize=(10, 6))\r\n",
        "affiche_serie(temps,serie)\r\n",
        "plt.title('Série temporelle expérimentale')\r\n",
        "plt.show()"
      ],
      "execution_count": null,
      "outputs": []
    },
    {
      "cell_type": "markdown",
      "metadata": {
        "id": "lCgA1BC-pGiz"
      },
      "source": [
        "Regardons le format de la série temporelle que nous avons pour le moment :"
      ]
    },
    {
      "cell_type": "code",
      "metadata": {
        "id": "inA5fPwypFza"
      },
      "source": [
        "print(serie.shape)\r\n",
        "dataset = tf.data.Dataset.from_tensor_slices(serie)\r\n",
        "for vecteur in dataset:\r\n",
        "  print(vecteur.numpy())"
      ],
      "execution_count": null,
      "outputs": []
    },
    {
      "cell_type": "markdown",
      "metadata": {
        "id": "atOtbHUk7AYt"
      },
      "source": [
        "# Préparation des données X et Y"
      ]
    },
    {
      "cell_type": "markdown",
      "metadata": {
        "id": "YuB97ANfEHIY"
      },
      "source": [
        "Définissons la fonction `fenetrage_Dataset` qui va permettre de créer les données X Y pour le réseau de neurones. Cette fonction retourne une classe Dataset et prend comme  paramètres :\r\n",
        " - `serie` : La série temporelle à traiter\r\n",
        " - `taille_fenetre` : La taille de la fenêtre glissante\r\n",
        " - `batch_size` : La nombre de regroupements que l'on souhaite obtenir dans nos données X et Y : par exemple si X=(X1,X2) et Y=(Y1,Y2) alors il faut donner `batch_size = 2`\r\n",
        " - `buffer_melange` : Buffer pour le mélange des données  \r\n",
        "   \r\n",
        "Cette fonction utilise la méthode [from_tensor_slices](https://www.tensorflow.org/api_docs/python/tf/data/Dataset#from_tensor_slices) de la classe Dataset de Tensorflow afin d'extraire une coupe depuis la série originale et de créer un dataset qui contient les valeurs de la série :"
      ]
    },
    {
      "cell_type": "code",
      "metadata": {
        "id": "78vEUlpIFMp6"
      },
      "source": [
        "# Fonction permettant de créer un dataset à partir des données de la série temporelle\r\n",
        "# au format X(X1,X2,...Xn) / Y(Y1,Y2,...,Yn)\r\n",
        "# X sont les données d'entrées du réseau\r\n",
        "# Y sont les labels\r\n",
        "\r\n",
        "def prepare_dataset_XY(serie, taille_fenetre, batch_size, buffer_melange):\r\n",
        "  dataset = tf.data.Dataset.from_tensor_slices(serie)\r\n",
        "  dataset = dataset.window(taille_fenetre + 1, shift=1, drop_remainder=True)\r\n",
        "  dataset = dataset.flat_map(lambda x: x.batch(taille_fenetre + 1))\r\n",
        "  dataset = dataset.shuffle(buffer_melange).map(lambda x: (x[:-1], x[-1:]))\r\n",
        "  dataset = dataset.batch(batch_size).prefetch(1)\r\n",
        "  return dataset"
      ],
      "execution_count": null,
      "outputs": []
    },
    {
      "cell_type": "markdown",
      "metadata": {
        "id": "4l_pJU0yHlO4"
      },
      "source": [
        "Regardons un exemple :"
      ]
    },
    {
      "cell_type": "code",
      "metadata": {
        "id": "FZxUoJ3qHnqf"
      },
      "source": [
        "test = [0,1,2,3,4,5,6,7,8,9,10,11,12,13,14,15,16,17,18,19,20]\r\n",
        "dataset = prepare_dataset_XY(serie=test,taille_fenetre=3,batch_size=2,buffer_melange=20)\r\n",
        "list(dataset.as_numpy_iterator())"
      ],
      "execution_count": null,
      "outputs": []
    },
    {
      "cell_type": "markdown",
      "metadata": {
        "id": "zHgcL7ZPJlws"
      },
      "source": [
        "**1. Séparation des données en données pour l'entrainement et la validation**"
      ]
    },
    {
      "cell_type": "markdown",
      "metadata": {
        "id": "8ggmBUlAKWH2"
      },
      "source": [
        "<img src=\"https://github.com/AlexandreBourrieau/ML/blob/main/Carnets%20Jupyter/Images/Series/illustration1.png?raw=true\" width=\"600\">  "
      ]
    },
    {
      "cell_type": "code",
      "metadata": {
        "id": "_14USRg5JvSu"
      },
      "source": [
        "temps_separation = 1000\r\n",
        "\r\n",
        "# Extraction des temps et des données d'entrainement\r\n",
        "temps_entrainement = temps[:temps_separation]\r\n",
        "x_entrainement = serie[:temps_separation]\r\n",
        "\r\n",
        "# Exctraction des temps et des données de valiadation\r\n",
        "temps_validation = temps[temps_separation:]\r\n",
        "x_validation = serie[temps_separation:]"
      ],
      "execution_count": null,
      "outputs": []
    },
    {
      "cell_type": "markdown",
      "metadata": {
        "id": "hjh4mjMrKhA5"
      },
      "source": [
        "**2. Préparation des données X et des labels Y**"
      ]
    },
    {
      "cell_type": "markdown",
      "metadata": {
        "id": "bdqfYabAKoE2"
      },
      "source": [
        "On commence par créer notre dataset à partir de la série (remarque : les valeurs ci-dessous sont en réalité mélangées) :"
      ]
    },
    {
      "cell_type": "markdown",
      "metadata": {
        "id": "C2CDLaYDoDms"
      },
      "source": [
        "<img src=\"https://github.com/AlexandreBourrieau/ML/blob/main/Carnets%20Jupyter/S%C3%A9ries%20temporelles/images/split_XY_2.png?raw=true\" width=\"1200\"> "
      ]
    },
    {
      "cell_type": "code",
      "metadata": {
        "id": "ziajfOefKvsu"
      },
      "source": [
        "# Définition des caractéristiques du dataset que l'on souhaite créer\r\n",
        "taille_fenetre = 20\r\n",
        "batch_size = 32\r\n",
        "buffer_melange = 1000\r\n",
        "\r\n",
        "# Création du dataset X,Y\r\n",
        "dataset = prepare_dataset_XY(serie,taille_fenetre,batch_size,buffer_melange)"
      ],
      "execution_count": null,
      "outputs": []
    },
    {
      "cell_type": "markdown",
      "metadata": {
        "id": "3PDKLgM0SxHu"
      },
      "source": [
        "Regardons ce qu'on obtient :"
      ]
    },
    {
      "cell_type": "code",
      "metadata": {
        "id": "nFRIMpVnMQkF"
      },
      "source": [
        "# Affiche le nombre total d'éléments dans le dataset\r\n",
        "print(\"Nombre total d'éléments dans le dataset : %d\" %len(list(dataset.as_numpy_iterator())))\r\n",
        "\r\n",
        "# Affiche le premier élément du dataset\r\n",
        "print(\"Premier élément dans le dataset :\")\r\n",
        "for element in dataset.take(1):\r\n",
        "  print(element)"
      ],
      "execution_count": null,
      "outputs": []
    },
    {
      "cell_type": "markdown",
      "metadata": {
        "id": "gvFLK9n1X7FG"
      },
      "source": [
        "On obtient donc un dataset qui contient :\r\n",
        "- 45 éléments de format (32,20) : Ce sont les groupes qui composent les entrées X\r\n",
        "- 45 éléments de format (32,) : Ce sont les groupes qui composent les labels Y"
      ]
    },
    {
      "cell_type": "markdown",
      "metadata": {
        "id": "ykmhrzaW8N22"
      },
      "source": [
        "Affichons la première entrée et le premier label correspondant à cette entrée :"
      ]
    },
    {
      "cell_type": "code",
      "metadata": {
        "id": "D8b5Z8uf7_g2"
      },
      "source": [
        "# Affiche la première entrée X :\r\n",
        "for X,Y in dataset.take(1):\r\n",
        "  print(X)"
      ],
      "execution_count": null,
      "outputs": []
    },
    {
      "cell_type": "code",
      "metadata": {
        "id": "uEvbJk7u8HFb"
      },
      "source": [
        "# Affiche le premier label Y :\r\n",
        "for X,Y in dataset.take(1):\r\n",
        "  print(Y)"
      ],
      "execution_count": null,
      "outputs": []
    },
    {
      "cell_type": "markdown",
      "metadata": {
        "id": "2Yt-EgZ3sgPY"
      },
      "source": [
        "# Création et entrainement du modèle"
      ]
    },
    {
      "cell_type": "markdown",
      "metadata": {
        "id": "dyrcfKcgCsZ7"
      },
      "source": [
        "**1. Création du réseau**"
      ]
    },
    {
      "cell_type": "markdown",
      "metadata": {
        "id": "nZ0WlZFCs3hQ"
      },
      "source": [
        "On met maintenant en place un réseau de neurone pour la régression linéaire constitué :\r\n",
        "-  **D'une couche d'entrée avec 1 neurone** qui prend en entrée des **vecteurs 1D de dimension égale à la taille de la fenêtre** avec un **batch_size** de 32.  \r\n",
        "On a donc 21 paramètres à calculer (20 poids + 1 offset).  \r\n",
        "- On utilise un **taux d'apprentissage de 1e-6**\r\n",
        "- On choisit un **optimiseur de type Descente de gradient stochastique et à moment** (MSGD - Momentum Stochastic Gradient Descent) avec un moment fixé à 0.9.  \r\n",
        "- On utilise une **fonction d'objectif** de type **erreur moyenne quadratique** (mse - mean squared error)"
      ]
    },
    {
      "cell_type": "markdown",
      "metadata": {
        "id": "bJAA2g4OLVe-"
      },
      "source": [
        "<img src=\"https://github.com/AlexandreBourrieau/ML/blob/main/Carnets%20Jupyter/S%C3%A9ries%20temporelles/images/1_neurone_2.png?raw=true\" width=\"800\"> "
      ]
    },
    {
      "cell_type": "code",
      "metadata": {
        "id": "nGl_t4BG3Jw2"
      },
      "source": [
        "# Création du modèle de régression linéaire\r\n",
        "\r\n",
        "model = tf.keras.models.Sequential()\r\n",
        "model.add(tf.keras.Input(shape=(taille_fenetre,), batch_size=batch_size))\r\n",
        "model.add(tf.keras.layers.Dense(1))\r\n",
        "\r\n",
        "model.compile(loss=\"mse\", optimizer=tf.keras.optimizers.SGD(lr=1e-6, momentum=0.9))\r\n",
        "model.summary()"
      ],
      "execution_count": null,
      "outputs": []
    },
    {
      "cell_type": "markdown",
      "metadata": {
        "id": "NmV8NcOWzhGg"
      },
      "source": [
        "Une autre possibilité pour construire ce réseau est d'empiler les couches les unes sur les autres comme ci-dessous. Cette solution a l'avantage de pouvoir par la suite accéder directement aux données de la couche qui nous interesse à l'aide du nom de sa variable :"
      ]
    },
    {
      "cell_type": "code",
      "metadata": {
        "id": "yGcS3CjLsvrT"
      },
      "source": [
        "# Construction du réseau avec nomination explicite du nom des couches\r\n",
        "\r\n",
        "couche_0 = tf.keras.layers.Dense(1, input_shape=[taille_fenetre],batch_size=batch_size)\r\n",
        "model = tf.keras.models.Sequential([couche_0])\r\n",
        "\r\n",
        "model.compile(loss=\"mse\", optimizer=tf.keras.optimizers.SGD(lr=1e-6, momentum=0.9))\r\n",
        "model.summary()"
      ],
      "execution_count": null,
      "outputs": []
    },
    {
      "cell_type": "code",
      "metadata": {
        "id": "mzJosG9g0Qav"
      },
      "source": [
        "print(couche_0.input_shape)\r\n",
        "print(couche_0.output_shape)"
      ],
      "execution_count": null,
      "outputs": []
    },
    {
      "cell_type": "markdown",
      "metadata": {
        "id": "V7B0db8g0x0-"
      },
      "source": [
        "**2. Entrainement du réseau**"
      ]
    },
    {
      "cell_type": "markdown",
      "metadata": {
        "id": "Ynbm3GnF1OxV"
      },
      "source": [
        "On entraine le réseau sur 100 périodes. Comme le modèle prend 1 élément (vecteur d'entrée X de dimension 20) à chaque itération, et qu'il y a 45 éléments, il y aura 45 itération par période.  \r\n",
        "Pour entrainer notre réseau, on lui rentre un Dataset au format tensorflow. La méthode [fit](https://www.tensorflow.org/api_docs/python/tf/keras/Model#fit) de la classe Model de Keras permet de gérer ce genre d'entrée. Dans ce cas, le Dataset doit être au format `(entrées, labels)`, ce qui est notre cas."
      ]
    },
    {
      "cell_type": "code",
      "metadata": {
        "id": "-0viBqeL02-O"
      },
      "source": [
        "# Lance l'entrainement du modèle\r\n",
        "\r\n",
        "model.fit(dataset,epochs=100,verbose=1)"
      ],
      "execution_count": null,
      "outputs": []
    },
    {
      "cell_type": "markdown",
      "metadata": {
        "id": "AxRWIRO7CxBg"
      },
      "source": [
        "**3. Extraction des paramètres de la couche du réseau**"
      ]
    },
    {
      "cell_type": "markdown",
      "metadata": {
        "id": "M6jj5X_PC54w"
      },
      "source": [
        "On peut accéder aux paramètres de la couche du réseau avec le code suivant :"
      ]
    },
    {
      "cell_type": "code",
      "metadata": {
        "id": "PVGSEQ9wC9xY"
      },
      "source": [
        "print(\"Paramètres de la couche 0: {}\".format(couche_0.get_weights()))"
      ],
      "execution_count": null,
      "outputs": []
    },
    {
      "cell_type": "markdown",
      "metadata": {
        "id": "Lpt_LIRqDzV6"
      },
      "source": [
        "Les 20 poids sont contenus dans le premier vecteur, et l'offset est contenu dans le deuxième vecteur :"
      ]
    },
    {
      "cell_type": "code",
      "metadata": {
        "id": "qAW5NOtRD5WB"
      },
      "source": [
        "print(\"Poids de la couche 0: {}\".format(couche_0.get_weights()[0]))\r\n",
        "print(\"Offset de la couche 0: {}\".format(couche_0.get_weights()[1]))"
      ],
      "execution_count": null,
      "outputs": []
    }
  ]
}