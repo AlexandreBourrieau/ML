{
  "nbformat": 4,
  "nbformat_minor": 0,
  "metadata": {
    "colab": {
      "name": "Bitcoin_Wavenet_Class_Multi.ipynb",
      "provenance": [],
      "machine_shape": "hm",
      "include_colab_link": true
    },
    "kernelspec": {
      "name": "python3",
      "display_name": "Python 3"
    },
    "language_info": {
      "name": "python"
    },
    "accelerator": "GPU"
  },
  "cells": [
    {
      "cell_type": "markdown",
      "metadata": {
        "id": "view-in-github",
        "colab_type": "text"
      },
      "source": [
        "<a href=\"https://colab.research.google.com/github/AlexandreBourrieau/ML/blob/main/Carnets%20Jupyter/S%C3%A9ries%20temporelles/Bitcoin_Wavenet_Class_Multi.ipynb\" target=\"_parent\"><img src=\"https://colab.research.google.com/assets/colab-badge.svg\" alt=\"Open In Colab\"/></a>"
      ]
    },
    {
      "cell_type": "markdown",
      "metadata": {
        "id": "TVuCzMYKDp3z"
      },
      "source": [
        "# Chargement des données"
      ]
    },
    {
      "cell_type": "code",
      "metadata": {
        "id": "i3nLyKtnliCW"
      },
      "source": [
        "import tensorflow as tf\n",
        "from tensorflow import keras\n",
        "import numpy as np\n",
        "import matplotlib.pyplot as plt\n",
        "import plotly.express as px\n",
        "import pandas as pd\n",
        "\n",
        "\n",
        "import pandas as pd\n",
        "import numpy as np\n",
        "import seaborn as sns\n",
        "import re\n",
        "from sklearn.ensemble import RandomForestRegressor\n",
        "from sklearn.model_selection import train_test_split\n",
        "from sklearn.feature_selection import RFECV\n",
        "from sklearn.preprocessing import MinMaxScaler, RobustScaler\n",
        "from sklearn.impute import SimpleImputer\n",
        "from sklearn.pipeline import Pipeline\n",
        "import matplotlib.pyplot as plt\n",
        "import seaborn as sns\n",
        "\n",
        "import tensorflow as tf"
      ],
      "execution_count": 4,
      "outputs": []
    },
    {
      "cell_type": "code",
      "metadata": {
        "id": "xyxxcCcl1Kb3",
        "colab": {
          "base_uri": "https://localhost:8080/"
        },
        "outputId": "273f79d6-34e2-4d29-9949-768997c4cb3d"
      },
      "source": [
        "!rm *.zip\n",
        "!rm *.csv\n",
        "!wget -q --no-check-certificate --content-disposition \"https://github.com/AlexandreBourrieau/ML/blob/main/Carnets%20Jupyter/S%C3%A9ries%20temporelles/Bitcoin/Bitcoin_complet.zip?raw=true\"\n",
        "!unzip \"Bitcoin_complet.zip\""
      ],
      "execution_count": 5,
      "outputs": [
        {
          "output_type": "stream",
          "text": [
            "Archive:  Bitcoin_complet.zip\n",
            "  inflating: Bitcoin_complet.csv     \n"
          ],
          "name": "stdout"
        }
      ]
    },
    {
      "cell_type": "markdown",
      "metadata": {
        "id": "MPJ6nnrRsUBm"
      },
      "source": [
        "Charge la série sous Pandas et affiche les informations du fichier :"
      ]
    },
    {
      "cell_type": "code",
      "metadata": {
        "id": "MR4EPWWwbO3O"
      },
      "source": [
        "# Création de la série sous Pandas\n",
        "df_data = pd.read_csv(\"Bitcoin_complet.csv\")\n",
        "df_data"
      ],
      "execution_count": null,
      "outputs": []
    },
    {
      "cell_type": "markdown",
      "metadata": {
        "id": "ix2qXtbTIyf2"
      },
      "source": [
        "# Analyse des indicateurs obtenus par RF"
      ]
    },
    {
      "cell_type": "code",
      "metadata": {
        "id": "kYl8AbWsNvpX",
        "colab": {
          "base_uri": "https://localhost:8080/"
        },
        "outputId": "365ac239-ee9c-42de-a2e7-200da471273c"
      },
      "source": [
        "!rm *.zip\n",
        "!wget --no-check-certificate --content-disposition \"https://github.com/AlexandreBourrieau/ML/blob/main/Carnets%20Jupyter/S%C3%A9ries%20temporelles/Bitcoin/Bitcoin_X_one.zip?raw=true\"\n",
        "!wget --no-check-certificate --content-disposition \"https://github.com/AlexandreBourrieau/ML/blob/main/Carnets%20Jupyter/S%C3%A9ries%20temporelles/Bitcoin/Bitcoin_Y_one.zip?raw=true\"\n",
        "!unzip \"Bitcoin_X_one.zip\"\n",
        "!unzip \"Bitcoin_Y_one.zip\""
      ],
      "execution_count": 7,
      "outputs": [
        {
          "output_type": "stream",
          "text": [
            "--2021-05-07 12:33:40--  https://github.com/AlexandreBourrieau/ML/blob/main/Carnets%20Jupyter/S%C3%A9ries%20temporelles/Bitcoin/Bitcoin_X_one.zip?raw=true\n",
            "Resolving github.com (github.com)... 140.82.121.3\n",
            "Connecting to github.com (github.com)|140.82.121.3|:443... connected.\n",
            "HTTP request sent, awaiting response... 302 Found\n",
            "Location: https://github.com/AlexandreBourrieau/ML/raw/main/Carnets%20Jupyter/S%C3%A9ries%20temporelles/Bitcoin/Bitcoin_X_one.zip [following]\n",
            "--2021-05-07 12:33:40--  https://github.com/AlexandreBourrieau/ML/raw/main/Carnets%20Jupyter/S%C3%A9ries%20temporelles/Bitcoin/Bitcoin_X_one.zip\n",
            "Reusing existing connection to github.com:443.\n",
            "HTTP request sent, awaiting response... 302 Found\n",
            "Location: https://raw.githubusercontent.com/AlexandreBourrieau/ML/main/Carnets%20Jupyter/S%C3%A9ries%20temporelles/Bitcoin/Bitcoin_X_one.zip [following]\n",
            "--2021-05-07 12:33:40--  https://raw.githubusercontent.com/AlexandreBourrieau/ML/main/Carnets%20Jupyter/S%C3%A9ries%20temporelles/Bitcoin/Bitcoin_X_one.zip\n",
            "Resolving raw.githubusercontent.com (raw.githubusercontent.com)... 185.199.109.133, 185.199.111.133, 185.199.110.133, ...\n",
            "Connecting to raw.githubusercontent.com (raw.githubusercontent.com)|185.199.109.133|:443... connected.\n",
            "HTTP request sent, awaiting response... 200 OK\n",
            "Length: 16003526 (15M) [application/zip]\n",
            "Saving to: ‘Bitcoin_X_one.zip’\n",
            "\n",
            "Bitcoin_X_one.zip   100%[===================>]  15.26M  61.8MB/s    in 0.2s    \n",
            "\n",
            "2021-05-07 12:33:41 (61.8 MB/s) - ‘Bitcoin_X_one.zip’ saved [16003526/16003526]\n",
            "\n",
            "--2021-05-07 12:33:41--  https://github.com/AlexandreBourrieau/ML/blob/main/Carnets%20Jupyter/S%C3%A9ries%20temporelles/Bitcoin/Bitcoin_Y_one.zip?raw=true\n",
            "Resolving github.com (github.com)... 140.82.121.3\n",
            "Connecting to github.com (github.com)|140.82.121.3|:443... connected.\n",
            "HTTP request sent, awaiting response... 302 Found\n",
            "Location: https://github.com/AlexandreBourrieau/ML/raw/main/Carnets%20Jupyter/S%C3%A9ries%20temporelles/Bitcoin/Bitcoin_Y_one.zip [following]\n",
            "--2021-05-07 12:33:41--  https://github.com/AlexandreBourrieau/ML/raw/main/Carnets%20Jupyter/S%C3%A9ries%20temporelles/Bitcoin/Bitcoin_Y_one.zip\n",
            "Reusing existing connection to github.com:443.\n",
            "HTTP request sent, awaiting response... 302 Found\n",
            "Location: https://raw.githubusercontent.com/AlexandreBourrieau/ML/main/Carnets%20Jupyter/S%C3%A9ries%20temporelles/Bitcoin/Bitcoin_Y_one.zip [following]\n",
            "--2021-05-07 12:33:42--  https://raw.githubusercontent.com/AlexandreBourrieau/ML/main/Carnets%20Jupyter/S%C3%A9ries%20temporelles/Bitcoin/Bitcoin_Y_one.zip\n",
            "Resolving raw.githubusercontent.com (raw.githubusercontent.com)... 185.199.109.133, 185.199.108.133, 185.199.110.133, ...\n",
            "Connecting to raw.githubusercontent.com (raw.githubusercontent.com)|185.199.109.133|:443... connected.\n",
            "HTTP request sent, awaiting response... 200 OK\n",
            "Length: 13004 (13K) [application/zip]\n",
            "Saving to: ‘Bitcoin_Y_one.zip’\n",
            "\n",
            "Bitcoin_Y_one.zip   100%[===================>]  12.70K  --.-KB/s    in 0s      \n",
            "\n",
            "2021-05-07 12:33:42 (83.1 MB/s) - ‘Bitcoin_Y_one.zip’ saved [13004/13004]\n",
            "\n",
            "Archive:  Bitcoin_X_one.zip\n",
            "  inflating: Bitcoin_X_one.csv       \n",
            "Archive:  Bitcoin_Y_one.zip\n",
            "  inflating: Bitcoin_Y_one.csv       \n"
          ],
          "name": "stdout"
        }
      ]
    },
    {
      "cell_type": "code",
      "metadata": {
        "id": "4xK_Uv9XOJsN"
      },
      "source": [
        "df_X_one = pd.read_csv(\"Bitcoin_X_one.csv\").iloc[:,1:]\n",
        "df_Y_one = pd.read_csv(\"Bitcoin_Y_one.csv\")['Price']"
      ],
      "execution_count": 8,
      "outputs": []
    },
    {
      "cell_type": "markdown",
      "metadata": {
        "id": "cuzTUfEfQ8RU"
      },
      "source": [
        "**1. Cross-Validation sur les variables retenues**"
      ]
    },
    {
      "cell_type": "markdown",
      "metadata": {
        "id": "6bEv2NxbJJ4Z"
      },
      "source": [
        "Comparons les résultats obtenus par régression avec les variables retenues  :"
      ]
    },
    {
      "cell_type": "code",
      "metadata": {
        "id": "6lKZd_JfJLZ1"
      },
      "source": [
        "var_thres = [593,671,386,82,367,485,10,101,63,196,177,612,599,618,308,656,124,314,476,637,675,67,631,175,333,493,143,162,48,365,371,61,29,118,194,139,669,99,352,95,346,156,200,190,181,80,158,384,105,650,137,42,327,86,640,206,683,390,157,329,487,348,163,480,388,347,23,396,474,621,486,189,372,103,176,199,366,203,391,104,182,202,398,385,107,111,392,670,198,379,85,100,481,676,674,491,389,195,208,113,652,106,201,108,129,146,184,355,62,479,70,659,68,127,393,336,165,678,374,89,51,32,317,370,47,186,81,680,395,188,205,397,110,378,633,44,180,94,87,93,25,120,558,96,64,169,682,359,187,681,602,13,207,515,319,677,445,777,302,310,662,623,604,570,167,376,74,433,150,183,148,340,33,131,338,191,17,66,138,470,625,642,98,112,673,168,357,383,360,575,569,321,34,387,606,170,350,380,36,465,550,356,484,455,19,52,456,587,614,473,84,567,477,471,581,102,577,91,160,358,459,644,298,540,586,351,739,53,533,55,353,313,568,583,76,193,15,464,451,97,564,65,663,542,457,133,38,539,349,79,192,54,469,665,178,483,536,166,381,490,664,83,544,444,56,655,415,161,472,45,559,654,588,440,467,109,369,563,50,72,142,454,362,149,595,448,197,323,171,334,566,627,628,332,492,574,179,773,557,151,585,185,377,560,580,571,672,518,78,330,75,608,579,463,489,534,427,43,555,421,152,219,425,49,58,270,572,661,213,295,164,402,638,561,382,690,26,668,222,141,276,289,514,541,565,342,394,418,204,646,46,636,361,60,368,92,666,232,144]\n",
        "var_interp = [593,671,386,82,367,485,10,101,63,196,177,612,599,618,308,656,124,314,476,637,675,67,631,175,333,493,143,162,48,365,371,61,29,118,194,139,669,99,352,95,346,156,200,190,181,80,158,384,105,650,137,42,327,86,640,206,683,390,157,329,487,348,163,480,388,347,23,396,474,621,486,189,372,103,176,199,366,203,391,104,182,202,398,385,107,111,392,670,198,379,85,100,481,676,674,491,389,195,208,113,652,106,201,108,129,146,184,355,62,479,70,659,68,127,393,336,165,678,374,89,51,32,317,370,47,186,81,680,395,188,205,397,110,378,633,44,180,94,87,93,25,120,558,96,64,169,682,359,187,681,602,13,207,515,319,677,445,777,302,310,662,623,604,570,167,376,74,433,150,183,148,340,33,131,338,191,17,66,138,470,625,642,98,112,673,168,357,383,360,575,569,321,34,387,606,170,350,380,36,465,550,356,484,455,19,52,456,587,614,473]\n",
        "var_pred = [593,671,386,101,675,67,175,493,194,669,99,640,683,390,621,486,372,89,51,32,473]\n",
        "\n",
        "var_thres = np.subtract(var_thres,1).tolist()\n",
        "var_interp = np.subtract(var_interp,1).tolist()\n",
        "var_pred = np.subtract(var_pred,1).tolist()\n",
        "\n",
        "df_all = df_X_one\n",
        "df_thres = df_X_one.iloc[:,var_thres]\n",
        "df_interp = df_X_one.iloc[:,var_interp]\n",
        "df_pred = df_X_one.iloc[:,var_pred]\n",
        "\n",
        "#df_ = [df_all, df_thres, df_interp,df_pred]\n",
        "#df_ = [df_thres, df_interp,df_pred]\n",
        "#df_ = [df_interp,df_pred]\n",
        "df_ = [df_pred]\n"
      ],
      "execution_count": 9,
      "outputs": []
    },
    {
      "cell_type": "code",
      "metadata": {
        "id": "ydye47_nPcpl"
      },
      "source": [
        "df_pred"
      ],
      "execution_count": null,
      "outputs": []
    },
    {
      "cell_type": "code",
      "metadata": {
        "id": "rkivMknQMde2"
      },
      "source": [
        "from sklearn.model_selection import KFold\n",
        "from sklearn.metrics import mean_squared_error\n",
        "\n",
        "kf = KFold(n_splits=5)\n",
        "\n",
        "means = []\n",
        "\n",
        "for df in df_:\n",
        "  print(\"# Variables : %d\" %len(df.columns))\n",
        "  n_arbres = 500\n",
        "  m_try = len(df.columns)\n",
        "  clf = RandomForestRegressor(n_estimators=n_arbres, bootstrap=True, oob_score=True, max_features=m_try, n_jobs=-1)\n",
        "\n",
        "  for train_index, test_index in kf.split(df):\n",
        "    test_index = train_index\n",
        "    clf.fit(df.iloc[train_index],np.asarray(df_Y_one.iloc[train_index]))\n",
        "    y_predict = clf.predict(df.iloc[test_index])\n",
        "    mse = mean_squared_error(y_predict,df_Y_one.iloc[test_index])\n",
        "    print(mse)"
      ],
      "execution_count": null,
      "outputs": []
    },
    {
      "cell_type": "markdown",
      "metadata": {
        "id": "Hr03cDV9RCdj"
      },
      "source": [
        "**2. Cross validation sur des variables tirées au hasard**\n"
      ]
    },
    {
      "cell_type": "code",
      "metadata": {
        "id": "foEs5HhcRD8j"
      },
      "source": [
        "from sklearn.model_selection import KFold\n",
        "from sklearn.metrics import mean_squared_error\n",
        "\n",
        "kf = KFold(n_splits=5)\n",
        "\n",
        "n = 21\n",
        "n_arbres = 500\n",
        "m_try = n\n",
        "\n",
        "clf = RandomForestRegressor(n_estimators=n_arbres, bootstrap=True, oob_score=True, max_features=m_try, n_jobs=-1)\n",
        "for i in range(1,1000):\n",
        "  df_all = df_X_one\n",
        "  index = np.random.randint(0,778,n)\n",
        "  df = df_all.iloc[:,index]\n",
        "  print(\"%s\" %index)\n",
        "\n",
        "  for train_index, test_index in kf.split(df):\n",
        "    test_index = train_index\n",
        "    clf.fit(df.iloc[train_index], np.asarray(df_Y_one.iloc[train_index]))\n",
        "    y_predict = clf.predict(df.iloc[test_index])\n",
        "    mse = mean_squared_error(y_predict,df_Y_one.iloc[test_index])\n",
        "    print(mse)"
      ],
      "execution_count": null,
      "outputs": []
    },
    {
      "cell_type": "markdown",
      "metadata": {
        "id": "wCJnSWwPR-Nb"
      },
      "source": [
        "**3. Corrélation des variables retenues**"
      ]
    },
    {
      "cell_type": "code",
      "metadata": {
        "id": "7Go93TI5SIwL"
      },
      "source": [
        "corr = df_pred.corr()\n",
        "\n",
        "# Generate a mask for the upper triangle\n",
        "mask = np.triu(np.ones_like(corr, dtype=np.bool))\n",
        "\n",
        "# Set up the matplotlib figure\n",
        "f, ax = plt.subplots(figsize=(15, 8))\n",
        "\n",
        "sns.heatmap(corr,mask=mask, cmap='coolwarm',annot=True, fmt='.2f')"
      ],
      "execution_count": null,
      "outputs": []
    },
    {
      "cell_type": "markdown",
      "metadata": {
        "id": "CPAeov3Qv7pd"
      },
      "source": [
        "**4. VIF**"
      ]
    },
    {
      "cell_type": "code",
      "metadata": {
        "id": "GFxPmXpSwkGy"
      },
      "source": [
        "from statsmodels.stats.outliers_influence import variance_inflation_factor\n",
        "from statsmodels.tools.tools import add_constant\n",
        "\n",
        "#function for removing features with high vif\n",
        "def drop_high_vif(X, thresh=100):\n",
        "    cols = X.columns\n",
        "    variables = np.arange(X.shape[1])\n",
        "    dropped=True\n",
        "    while dropped:\n",
        "        dropped=False\n",
        "        c = X[cols[variables]].values\n",
        "        vif = [variance_inflation_factor(c, ix) for ix in np.arange(c.shape[1])]\n",
        "\n",
        "        maxloc = vif.index(max(vif))\n",
        "        if max(vif) > thresh:\n",
        "            print('dropping \\'' + X[cols[variables]].columns[maxloc] + '\\' at index: ' + str(maxloc))\n",
        "            variables = np.delete(variables, maxloc)\n",
        "            dropped=True\n",
        "\n",
        "    print('Remaining variables:')\n",
        "    print(X.columns[variables])\n",
        "    return X[cols[variables]]\n",
        "\n",
        "#function for listing vif values\n",
        "def vif_values(X):\n",
        "    add_constant(X)\n",
        "    df=pd.Series([variance_inflation_factor(X.values, i) for i in range(X.shape[1])], index=X.columns)\n",
        "    return df\n"
      ],
      "execution_count": null,
      "outputs": []
    },
    {
      "cell_type": "code",
      "metadata": {
        "id": "cIXThg_Zwl8L"
      },
      "source": [
        "X_reduit_VIF = drop_high_vif(df_pred,thresh=10)\n",
        "X_reduit_VIF"
      ],
      "execution_count": null,
      "outputs": []
    },
    {
      "cell_type": "code",
      "metadata": {
        "id": "ML7TrVHkw13n"
      },
      "source": [
        "corr = X_reduit_VIF.corr()\n",
        "\n",
        "# Generate a mask for the upper triangle\n",
        "mask = np.triu(np.ones_like(corr, dtype=np.bool))\n",
        "\n",
        "# Set up the matplotlib figure\n",
        "f, ax = plt.subplots(figsize=(15, 8))\n",
        "\n",
        "sns.heatmap(corr,mask=mask, cmap='coolwarm',annot=True, fmt='.2f')"
      ],
      "execution_count": null,
      "outputs": []
    },
    {
      "cell_type": "markdown",
      "metadata": {
        "id": "KKFVK01eC_Tj"
      },
      "source": [
        "# Normalisation et Quantification"
      ]
    },
    {
      "cell_type": "code",
      "metadata": {
        "id": "VlawkkUGKaH-",
        "outputId": "c9741dd1-168f-49f1-e8b3-eb8509492ffd",
        "colab": {
          "base_uri": "https://localhost:8080/",
          "height": 470
        }
      },
      "source": [
        "X_Avec_Prix = df_data\n",
        "X_Avec_Prix = X_Avec_Prix.drop(columns=['Dates', 'Price'])\n",
        "Xdrop = SimpleImputer(missing_values=np.nan,strategy='most_frequent').fit_transform(X_Avec_Prix)\n",
        "Xdrop = pd.DataFrame(Xdrop)\n",
        "Xdrop.columns = X_Avec_Prix.columns\n",
        "X_Avec_Prix = Xdrop\n",
        "X_Avec_Prix = X_Avec_Prix\n",
        "X_Avec_Prix = X_Avec_Prix.iloc[:,var_pred]\n",
        "X_Avec_Prix.insert(0,'Price',df_data['Price'])\n",
        "X_Avec_Prix = X_Avec_Prix.astype(dtype=np.float32)\n",
        "X_Avec_Prix"
      ],
      "execution_count": 11,
      "outputs": [
        {
          "output_type": "execute_result",
          "data": {
            "text/html": [
              "<div>\n",
              "<style scoped>\n",
              "    .dataframe tbody tr th:only-of-type {\n",
              "        vertical-align: middle;\n",
              "    }\n",
              "\n",
              "    .dataframe tbody tr th {\n",
              "        vertical-align: top;\n",
              "    }\n",
              "\n",
              "    .dataframe thead th {\n",
              "        text-align: right;\n",
              "    }\n",
              "</style>\n",
              "<table border=\"1\" class=\"dataframe\">\n",
              "  <thead>\n",
              "    <tr style=\"text-align: right;\">\n",
              "      <th></th>\n",
              "      <th>Price</th>\n",
              "      <th>Price_trix3</th>\n",
              "      <th>Transaction Value_trix90</th>\n",
              "      <th>Transaction Value_wma90</th>\n",
              "      <th>Transaction Value_sma90</th>\n",
              "      <th>Capitalization_trix90</th>\n",
              "      <th>Capitalization_sma14</th>\n",
              "      <th>Price_ema30</th>\n",
              "      <th>Tweets_std90</th>\n",
              "      <th>Price_ema90</th>\n",
              "      <th>Price_trix90</th>\n",
              "      <th>Price_sma90</th>\n",
              "      <th>Difficulty_trix14</th>\n",
              "      <th>Tweets_trix90</th>\n",
              "      <th>Capitalization_wma90</th>\n",
              "      <th>Difficulty_trix7</th>\n",
              "      <th>Median Transaction Fee_std90</th>\n",
              "      <th>Median Transaction Fee_wma30</th>\n",
              "      <th>Difficulty_sma30</th>\n",
              "      <th>Difficulty_sma7</th>\n",
              "      <th>Difficulty_sma3</th>\n",
              "      <th>Top100_std30</th>\n",
              "    </tr>\n",
              "  </thead>\n",
              "  <tbody>\n",
              "    <tr>\n",
              "      <th>0</th>\n",
              "      <td>502.665009</td>\n",
              "      <td>502.896484</td>\n",
              "      <td>5627.621582</td>\n",
              "      <td>5405.723633</td>\n",
              "      <td>5631.100098</td>\n",
              "      <td>7.535826e+09</td>\n",
              "      <td>6.527684e+09</td>\n",
              "      <td>532.611511</td>\n",
              "      <td>3157.049316</td>\n",
              "      <td>588.578430</td>\n",
              "      <td>584.843506</td>\n",
              "      <td>588.933289</td>\n",
              "      <td>2.445454e+10</td>\n",
              "      <td>19560.757812</td>\n",
              "      <td>7.347748e+09</td>\n",
              "      <td>2.389215e+10</td>\n",
              "      <td>0.004803</td>\n",
              "      <td>0.051876</td>\n",
              "      <td>2.102089e+10</td>\n",
              "      <td>2.384467e+10</td>\n",
              "      <td>2.384467e+10</td>\n",
              "      <td>0.164101</td>\n",
              "    </tr>\n",
              "    <tr>\n",
              "      <th>1</th>\n",
              "      <td>488.835999</td>\n",
              "      <td>490.004669</td>\n",
              "      <td>5543.812012</td>\n",
              "      <td>5377.414062</td>\n",
              "      <td>5576.455566</td>\n",
              "      <td>7.460525e+09</td>\n",
              "      <td>6.519881e+09</td>\n",
              "      <td>529.787292</td>\n",
              "      <td>3148.930908</td>\n",
              "      <td>586.386292</td>\n",
              "      <td>578.533264</td>\n",
              "      <td>587.299622</td>\n",
              "      <td>2.442159e+10</td>\n",
              "      <td>19409.232422</td>\n",
              "      <td>7.321505e+09</td>\n",
              "      <td>2.387996e+10</td>\n",
              "      <td>0.004891</td>\n",
              "      <td>0.051563</td>\n",
              "      <td>2.119307e+10</td>\n",
              "      <td>2.385284e+10</td>\n",
              "      <td>2.386373e+10</td>\n",
              "      <td>0.172641</td>\n",
              "    </tr>\n",
              "    <tr>\n",
              "      <th>2</th>\n",
              "      <td>479.420990</td>\n",
              "      <td>479.293976</td>\n",
              "      <td>5495.275879</td>\n",
              "      <td>5361.074219</td>\n",
              "      <td>5534.688965</td>\n",
              "      <td>7.383348e+09</td>\n",
              "      <td>6.545086e+09</td>\n",
              "      <td>526.537842</td>\n",
              "      <td>3144.839355</td>\n",
              "      <td>584.035400</td>\n",
              "      <td>571.892822</td>\n",
              "      <td>585.244080</td>\n",
              "      <td>2.560602e+10</td>\n",
              "      <td>19356.884766</td>\n",
              "      <td>7.293904e+09</td>\n",
              "      <td>2.590544e+10</td>\n",
              "      <td>0.004953</td>\n",
              "      <td>0.051206</td>\n",
              "      <td>2.148281e+10</td>\n",
              "      <td>2.436483e+10</td>\n",
              "      <td>2.505839e+10</td>\n",
              "      <td>0.176796</td>\n",
              "    </tr>\n",
              "    <tr>\n",
              "      <th>3</th>\n",
              "      <td>477.175995</td>\n",
              "      <td>475.793427</td>\n",
              "      <td>5390.077637</td>\n",
              "      <td>5325.608398</td>\n",
              "      <td>5467.077637</td>\n",
              "      <td>7.307283e+09</td>\n",
              "      <td>6.559739e+09</td>\n",
              "      <td>523.353210</td>\n",
              "      <td>3157.696533</td>\n",
              "      <td>581.686829</td>\n",
              "      <td>565.401062</td>\n",
              "      <td>583.418030</td>\n",
              "      <td>2.647010e+10</td>\n",
              "      <td>19580.341797</td>\n",
              "      <td>7.266019e+09</td>\n",
              "      <td>2.701003e+10</td>\n",
              "      <td>0.005045</td>\n",
              "      <td>0.050861</td>\n",
              "      <td>2.177255e+10</td>\n",
              "      <td>2.487683e+10</td>\n",
              "      <td>2.625304e+10</td>\n",
              "      <td>0.179679</td>\n",
              "    </tr>\n",
              "    <tr>\n",
              "      <th>4</th>\n",
              "      <td>475.398010</td>\n",
              "      <td>474.403351</td>\n",
              "      <td>5248.440430</td>\n",
              "      <td>5277.628906</td>\n",
              "      <td>5401.422363</td>\n",
              "      <td>7.232698e+09</td>\n",
              "      <td>6.548938e+09</td>\n",
              "      <td>520.259338</td>\n",
              "      <td>3165.512207</td>\n",
              "      <td>579.350830</td>\n",
              "      <td>559.083557</td>\n",
              "      <td>581.463867</td>\n",
              "      <td>2.708592e+10</td>\n",
              "      <td>19743.304688</td>\n",
              "      <td>7.237929e+09</td>\n",
              "      <td>2.756006e+10</td>\n",
              "      <td>0.005121</td>\n",
              "      <td>0.050525</td>\n",
              "      <td>2.206229e+10</td>\n",
              "      <td>2.538882e+10</td>\n",
              "      <td>2.742863e+10</td>\n",
              "      <td>0.181297</td>\n",
              "    </tr>\n",
              "    <tr>\n",
              "      <th>...</th>\n",
              "      <td>...</td>\n",
              "      <td>...</td>\n",
              "      <td>...</td>\n",
              "      <td>...</td>\n",
              "      <td>...</td>\n",
              "      <td>...</td>\n",
              "      <td>...</td>\n",
              "      <td>...</td>\n",
              "      <td>...</td>\n",
              "      <td>...</td>\n",
              "      <td>...</td>\n",
              "      <td>...</td>\n",
              "      <td>...</td>\n",
              "      <td>...</td>\n",
              "      <td>...</td>\n",
              "      <td>...</td>\n",
              "      <td>...</td>\n",
              "      <td>...</td>\n",
              "      <td>...</td>\n",
              "      <td>...</td>\n",
              "      <td>...</td>\n",
              "      <td>...</td>\n",
              "    </tr>\n",
              "    <tr>\n",
              "      <th>2428</th>\n",
              "      <td>49891.000000</td>\n",
              "      <td>50271.304688</td>\n",
              "      <td>364703.562500</td>\n",
              "      <td>314635.875000</td>\n",
              "      <td>298779.218750</td>\n",
              "      <td>1.166655e+12</td>\n",
              "      <td>1.092275e+12</td>\n",
              "      <td>57012.453125</td>\n",
              "      <td>32907.738281</td>\n",
              "      <td>50511.906250</td>\n",
              "      <td>62434.835938</td>\n",
              "      <td>50979.332031</td>\n",
              "      <td>2.366659e+13</td>\n",
              "      <td>114707.984375</td>\n",
              "      <td>1.029652e+12</td>\n",
              "      <td>2.359981e+13</td>\n",
              "      <td>4.942729</td>\n",
              "      <td>15.733026</td>\n",
              "      <td>2.291706e+13</td>\n",
              "      <td>2.358198e+13</td>\n",
              "      <td>2.358198e+13</td>\n",
              "      <td>0.113671</td>\n",
              "    </tr>\n",
              "    <tr>\n",
              "      <th>2429</th>\n",
              "      <td>50077.000000</td>\n",
              "      <td>49740.496094</td>\n",
              "      <td>360643.468750</td>\n",
              "      <td>314131.843750</td>\n",
              "      <td>299706.343750</td>\n",
              "      <td>1.156761e+12</td>\n",
              "      <td>1.079254e+12</td>\n",
              "      <td>56565.003906</td>\n",
              "      <td>32494.548828</td>\n",
              "      <td>50502.347656</td>\n",
              "      <td>61902.582031</td>\n",
              "      <td>51177.523438</td>\n",
              "      <td>2.366021e+13</td>\n",
              "      <td>113186.976562</td>\n",
              "      <td>1.029321e+12</td>\n",
              "      <td>2.359144e+13</td>\n",
              "      <td>4.889702</td>\n",
              "      <td>15.737947</td>\n",
              "      <td>2.297428e+13</td>\n",
              "      <td>2.358198e+13</td>\n",
              "      <td>2.358198e+13</td>\n",
              "      <td>0.119850</td>\n",
              "    </tr>\n",
              "    <tr>\n",
              "      <th>2430</th>\n",
              "      <td>49657.000000</td>\n",
              "      <td>49469.773438</td>\n",
              "      <td>360690.906250</td>\n",
              "      <td>314958.125000</td>\n",
              "      <td>300679.937500</td>\n",
              "      <td>1.146690e+12</td>\n",
              "      <td>1.065769e+12</td>\n",
              "      <td>56119.328125</td>\n",
              "      <td>32309.000000</td>\n",
              "      <td>50483.769531</td>\n",
              "      <td>61360.867188</td>\n",
              "      <td>51358.644531</td>\n",
              "      <td>2.365141e+13</td>\n",
              "      <td>111416.062500</td>\n",
              "      <td>1.028736e+12</td>\n",
              "      <td>2.358457e+13</td>\n",
              "      <td>4.862618</td>\n",
              "      <td>15.500428</td>\n",
              "      <td>2.303149e+13</td>\n",
              "      <td>2.358198e+13</td>\n",
              "      <td>2.358198e+13</td>\n",
              "      <td>0.129055</td>\n",
              "    </tr>\n",
              "    <tr>\n",
              "      <th>2431</th>\n",
              "      <td>53000.000000</td>\n",
              "      <td>52472.953125</td>\n",
              "      <td>369539.937500</td>\n",
              "      <td>318773.750000</td>\n",
              "      <td>304149.125000</td>\n",
              "      <td>1.140990e+12</td>\n",
              "      <td>1.056326e+12</td>\n",
              "      <td>55918.082031</td>\n",
              "      <td>31920.080078</td>\n",
              "      <td>50539.070312</td>\n",
              "      <td>61053.046875</td>\n",
              "      <td>51591.410156</td>\n",
              "      <td>2.364131e+13</td>\n",
              "      <td>111605.054688</td>\n",
              "      <td>1.029450e+12</td>\n",
              "      <td>2.357935e+13</td>\n",
              "      <td>4.867598</td>\n",
              "      <td>15.791718</td>\n",
              "      <td>2.308871e+13</td>\n",
              "      <td>2.358198e+13</td>\n",
              "      <td>2.358198e+13</td>\n",
              "      <td>0.135769</td>\n",
              "    </tr>\n",
              "    <tr>\n",
              "      <th>2432</th>\n",
              "      <td>54583.000000</td>\n",
              "      <td>54581.160156</td>\n",
              "      <td>374411.156250</td>\n",
              "      <td>321299.781250</td>\n",
              "      <td>306669.562500</td>\n",
              "      <td>1.137354e+12</td>\n",
              "      <td>1.046273e+12</td>\n",
              "      <td>55831.945312</td>\n",
              "      <td>31587.187500</td>\n",
              "      <td>50627.949219</td>\n",
              "      <td>60855.652344</td>\n",
              "      <td>51851.523438</td>\n",
              "      <td>2.363070e+13</td>\n",
              "      <td>111290.820312</td>\n",
              "      <td>1.030719e+12</td>\n",
              "      <td>2.357570e+13</td>\n",
              "      <td>4.836071</td>\n",
              "      <td>15.860856</td>\n",
              "      <td>2.314592e+13</td>\n",
              "      <td>2.358198e+13</td>\n",
              "      <td>2.358198e+13</td>\n",
              "      <td>0.142835</td>\n",
              "    </tr>\n",
              "  </tbody>\n",
              "</table>\n",
              "<p>2433 rows × 22 columns</p>\n",
              "</div>"
            ],
            "text/plain": [
              "             Price   Price_trix3  ...  Difficulty_sma3  Top100_std30\n",
              "0       502.665009    502.896484  ...     2.384467e+10      0.164101\n",
              "1       488.835999    490.004669  ...     2.386373e+10      0.172641\n",
              "2       479.420990    479.293976  ...     2.505839e+10      0.176796\n",
              "3       477.175995    475.793427  ...     2.625304e+10      0.179679\n",
              "4       475.398010    474.403351  ...     2.742863e+10      0.181297\n",
              "...            ...           ...  ...              ...           ...\n",
              "2428  49891.000000  50271.304688  ...     2.358198e+13      0.113671\n",
              "2429  50077.000000  49740.496094  ...     2.358198e+13      0.119850\n",
              "2430  49657.000000  49469.773438  ...     2.358198e+13      0.129055\n",
              "2431  53000.000000  52472.953125  ...     2.358198e+13      0.135769\n",
              "2432  54583.000000  54581.160156  ...     2.358198e+13      0.142835\n",
              "\n",
              "[2433 rows x 22 columns]"
            ]
          },
          "metadata": {
            "tags": []
          },
          "execution_count": 11
        }
      ]
    },
    {
      "cell_type": "code",
      "metadata": {
        "id": "NpEgVy8S9rHb",
        "colab": {
          "base_uri": "https://localhost:8080/",
          "height": 435
        },
        "outputId": "0e19beeb-e1f6-4eda-dd28-51dc2f41e819"
      },
      "source": [
        "import pandas as pd\n",
        "from sklearn import preprocessing\n",
        "\n",
        "mu = 512.0\n",
        "\n",
        "x = X_Avec_Prix.values #returns a numpy array\n",
        "min_max_scaler = preprocessing.MinMaxScaler()\n",
        "x_scaled = min_max_scaler.fit_transform(x)\n",
        "x_scaled = tf.math.log(1+mu*tf.math.abs(x))/tf.math.log(1+mu)\n",
        "X_Avec_Prix_norm = pd.DataFrame(x_scaled,dtype=np.float32)\n",
        "X_Avec_Prix_norm"
      ],
      "execution_count": 36,
      "outputs": [
        {
          "output_type": "execute_result",
          "data": {
            "text/html": [
              "<div>\n",
              "<style scoped>\n",
              "    .dataframe tbody tr th:only-of-type {\n",
              "        vertical-align: middle;\n",
              "    }\n",
              "\n",
              "    .dataframe tbody tr th {\n",
              "        vertical-align: top;\n",
              "    }\n",
              "\n",
              "    .dataframe thead th {\n",
              "        text-align: right;\n",
              "    }\n",
              "</style>\n",
              "<table border=\"1\" class=\"dataframe\">\n",
              "  <thead>\n",
              "    <tr style=\"text-align: right;\">\n",
              "      <th></th>\n",
              "      <th>0</th>\n",
              "      <th>1</th>\n",
              "      <th>2</th>\n",
              "      <th>3</th>\n",
              "      <th>4</th>\n",
              "      <th>5</th>\n",
              "      <th>6</th>\n",
              "      <th>7</th>\n",
              "      <th>8</th>\n",
              "      <th>9</th>\n",
              "      <th>10</th>\n",
              "      <th>11</th>\n",
              "      <th>12</th>\n",
              "      <th>13</th>\n",
              "      <th>14</th>\n",
              "      <th>15</th>\n",
              "      <th>16</th>\n",
              "      <th>17</th>\n",
              "      <th>18</th>\n",
              "      <th>19</th>\n",
              "      <th>20</th>\n",
              "      <th>21</th>\n",
              "    </tr>\n",
              "  </thead>\n",
              "  <tbody>\n",
              "    <tr>\n",
              "      <th>0</th>\n",
              "      <td>1.996427</td>\n",
              "      <td>1.996500</td>\n",
              "      <td>2.383511</td>\n",
              "      <td>2.377065</td>\n",
              "      <td>2.383610</td>\n",
              "      <td>4.644227</td>\n",
              "      <td>4.621213</td>\n",
              "      <td>2.005700</td>\n",
              "      <td>2.290879</td>\n",
              "      <td>2.021712</td>\n",
              "      <td>2.020692</td>\n",
              "      <td>2.021808</td>\n",
              "      <td>4.832864</td>\n",
              "      <td>2.583156</td>\n",
              "      <td>4.640177</td>\n",
              "      <td>4.829136</td>\n",
              "      <td>0.198884</td>\n",
              "      <td>0.531449</td>\n",
              "      <td>4.808619</td>\n",
              "      <td>4.828817</td>\n",
              "      <td>4.828817</td>\n",
              "      <td>0.711969</td>\n",
              "    </tr>\n",
              "    <tr>\n",
              "      <th>1</th>\n",
              "      <td>1.991956</td>\n",
              "      <td>1.992339</td>\n",
              "      <td>2.381107</td>\n",
              "      <td>2.376223</td>\n",
              "      <td>2.382047</td>\n",
              "      <td>4.642618</td>\n",
              "      <td>4.621021</td>\n",
              "      <td>2.004848</td>\n",
              "      <td>2.290467</td>\n",
              "      <td>2.021114</td>\n",
              "      <td>2.018953</td>\n",
              "      <td>2.021363</td>\n",
              "      <td>4.832648</td>\n",
              "      <td>2.581910</td>\n",
              "      <td>4.639604</td>\n",
              "      <td>4.829054</td>\n",
              "      <td>0.200942</td>\n",
              "      <td>0.530513</td>\n",
              "      <td>4.809926</td>\n",
              "      <td>4.828872</td>\n",
              "      <td>4.828945</td>\n",
              "      <td>0.720006</td>\n",
              "    </tr>\n",
              "    <tr>\n",
              "      <th>2</th>\n",
              "      <td>1.988840</td>\n",
              "      <td>1.988797</td>\n",
              "      <td>2.379698</td>\n",
              "      <td>2.375736</td>\n",
              "      <td>2.380843</td>\n",
              "      <td>4.640952</td>\n",
              "      <td>4.621639</td>\n",
              "      <td>2.003862</td>\n",
              "      <td>2.290258</td>\n",
              "      <td>2.020470</td>\n",
              "      <td>2.017103</td>\n",
              "      <td>2.020801</td>\n",
              "      <td>4.840238</td>\n",
              "      <td>2.581477</td>\n",
              "      <td>4.638999</td>\n",
              "      <td>4.842101</td>\n",
              "      <td>0.202397</td>\n",
              "      <td>0.529442</td>\n",
              "      <td>4.812102</td>\n",
              "      <td>4.832275</td>\n",
              "      <td>4.836773</td>\n",
              "      <td>0.723775</td>\n",
              "    </tr>\n",
              "    <tr>\n",
              "      <th>3</th>\n",
              "      <td>1.988087</td>\n",
              "      <td>1.987622</td>\n",
              "      <td>2.376600</td>\n",
              "      <td>2.374672</td>\n",
              "      <td>2.378873</td>\n",
              "      <td>4.639292</td>\n",
              "      <td>4.621998</td>\n",
              "      <td>2.002890</td>\n",
              "      <td>2.290912</td>\n",
              "      <td>2.019824</td>\n",
              "      <td>2.015274</td>\n",
              "      <td>2.020300</td>\n",
              "      <td>4.845556</td>\n",
              "      <td>2.583316</td>\n",
              "      <td>4.638385</td>\n",
              "      <td>4.848792</td>\n",
              "      <td>0.204520</td>\n",
              "      <td>0.528397</td>\n",
              "      <td>4.814249</td>\n",
              "      <td>4.835608</td>\n",
              "      <td>4.844236</td>\n",
              "      <td>0.726339</td>\n",
              "    </tr>\n",
              "    <tr>\n",
              "      <th>4</th>\n",
              "      <td>1.987489</td>\n",
              "      <td>1.987154</td>\n",
              "      <td>2.372333</td>\n",
              "      <td>2.373222</td>\n",
              "      <td>2.376937</td>\n",
              "      <td>4.637648</td>\n",
              "      <td>4.621734</td>\n",
              "      <td>2.001940</td>\n",
              "      <td>2.291308</td>\n",
              "      <td>2.019179</td>\n",
              "      <td>2.013473</td>\n",
              "      <td>2.019763</td>\n",
              "      <td>4.849242</td>\n",
              "      <td>2.584645</td>\n",
              "      <td>4.637764</td>\n",
              "      <td>4.852022</td>\n",
              "      <td>0.206243</td>\n",
              "      <td>0.527376</td>\n",
              "      <td>4.816367</td>\n",
              "      <td>4.838872</td>\n",
              "      <td>4.851256</td>\n",
              "      <td>0.727760</td>\n",
              "    </tr>\n",
              "    <tr>\n",
              "      <th>...</th>\n",
              "      <td>...</td>\n",
              "      <td>...</td>\n",
              "      <td>...</td>\n",
              "      <td>...</td>\n",
              "      <td>...</td>\n",
              "      <td>...</td>\n",
              "      <td>...</td>\n",
              "      <td>...</td>\n",
              "      <td>...</td>\n",
              "      <td>...</td>\n",
              "      <td>...</td>\n",
              "      <td>...</td>\n",
              "      <td>...</td>\n",
              "      <td>...</td>\n",
              "      <td>...</td>\n",
              "      <td>...</td>\n",
              "      <td>...</td>\n",
              "      <td>...</td>\n",
              "      <td>...</td>\n",
              "      <td>...</td>\n",
              "      <td>...</td>\n",
              "      <td>...</td>\n",
              "    </tr>\n",
              "    <tr>\n",
              "      <th>2428</th>\n",
              "      <td>2.733200</td>\n",
              "      <td>2.734417</td>\n",
              "      <td>3.051975</td>\n",
              "      <td>3.028311</td>\n",
              "      <td>3.020024</td>\n",
              "      <td>5.452241</td>\n",
              "      <td>5.441684</td>\n",
              "      <td>2.754582</td>\n",
              "      <td>2.666515</td>\n",
              "      <td>2.735182</td>\n",
              "      <td>2.769141</td>\n",
              "      <td>2.736658</td>\n",
              "      <td>5.934579</td>\n",
              "      <td>2.866615</td>\n",
              "      <td>5.432222</td>\n",
              "      <td>5.934126</td>\n",
              "      <td>1.255816</td>\n",
              "      <td>1.441316</td>\n",
              "      <td>5.929422</td>\n",
              "      <td>5.934005</td>\n",
              "      <td>5.934005</td>\n",
              "      <td>0.653964</td>\n",
              "    </tr>\n",
              "    <tr>\n",
              "      <th>2429</th>\n",
              "      <td>2.733796</td>\n",
              "      <td>2.732716</td>\n",
              "      <td>3.050181</td>\n",
              "      <td>3.028054</td>\n",
              "      <td>3.020521</td>\n",
              "      <td>5.450876</td>\n",
              "      <td>5.439762</td>\n",
              "      <td>2.753319</td>\n",
              "      <td>2.664490</td>\n",
              "      <td>2.735152</td>\n",
              "      <td>2.767769</td>\n",
              "      <td>2.737280</td>\n",
              "      <td>5.934536</td>\n",
              "      <td>2.864476</td>\n",
              "      <td>5.432171</td>\n",
              "      <td>5.934070</td>\n",
              "      <td>1.254088</td>\n",
              "      <td>1.441366</td>\n",
              "      <td>5.929821</td>\n",
              "      <td>5.934005</td>\n",
              "      <td>5.934005</td>\n",
              "      <td>0.662307</td>\n",
              "    </tr>\n",
              "    <tr>\n",
              "      <th>2430</th>\n",
              "      <td>2.732446</td>\n",
              "      <td>2.731841</td>\n",
              "      <td>3.050202</td>\n",
              "      <td>3.028475</td>\n",
              "      <td>3.021041</td>\n",
              "      <td>5.449475</td>\n",
              "      <td>5.437747</td>\n",
              "      <td>2.752052</td>\n",
              "      <td>2.663572</td>\n",
              "      <td>2.735093</td>\n",
              "      <td>2.766360</td>\n",
              "      <td>2.737846</td>\n",
              "      <td>5.934476</td>\n",
              "      <td>2.861949</td>\n",
              "      <td>5.432080</td>\n",
              "      <td>5.934022</td>\n",
              "      <td>1.253198</td>\n",
              "      <td>1.438930</td>\n",
              "      <td>5.930220</td>\n",
              "      <td>5.934005</td>\n",
              "      <td>5.934005</td>\n",
              "      <td>0.673981</td>\n",
              "    </tr>\n",
              "    <tr>\n",
              "      <th>2431</th>\n",
              "      <td>2.742887</td>\n",
              "      <td>2.741286</td>\n",
              "      <td>3.054086</td>\n",
              "      <td>3.030405</td>\n",
              "      <td>3.022879</td>\n",
              "      <td>5.448677</td>\n",
              "      <td>5.436321</td>\n",
              "      <td>2.751476</td>\n",
              "      <td>2.661632</td>\n",
              "      <td>2.735268</td>\n",
              "      <td>2.765555</td>\n",
              "      <td>2.738570</td>\n",
              "      <td>5.934408</td>\n",
              "      <td>2.862221</td>\n",
              "      <td>5.432191</td>\n",
              "      <td>5.933987</td>\n",
              "      <td>1.253362</td>\n",
              "      <td>1.441913</td>\n",
              "      <td>5.930618</td>\n",
              "      <td>5.934005</td>\n",
              "      <td>5.934005</td>\n",
              "      <td>0.681991</td>\n",
              "    </tr>\n",
              "    <tr>\n",
              "      <th>2432</th>\n",
              "      <td>2.747603</td>\n",
              "      <td>2.747598</td>\n",
              "      <td>3.056185</td>\n",
              "      <td>3.031670</td>\n",
              "      <td>3.024201</td>\n",
              "      <td>5.448165</td>\n",
              "      <td>5.434789</td>\n",
              "      <td>2.751229</td>\n",
              "      <td>2.659951</td>\n",
              "      <td>2.735549</td>\n",
              "      <td>2.765036</td>\n",
              "      <td>2.739376</td>\n",
              "      <td>5.934336</td>\n",
              "      <td>2.861769</td>\n",
              "      <td>5.432388</td>\n",
              "      <td>5.933963</td>\n",
              "      <td>1.252321</td>\n",
              "      <td>1.442613</td>\n",
              "      <td>5.931015</td>\n",
              "      <td>5.934005</td>\n",
              "      <td>5.934005</td>\n",
              "      <td>0.690008</td>\n",
              "    </tr>\n",
              "  </tbody>\n",
              "</table>\n",
              "<p>2433 rows × 22 columns</p>\n",
              "</div>"
            ],
            "text/plain": [
              "            0         1         2   ...        19        20        21\n",
              "0     1.996427  1.996500  2.383511  ...  4.828817  4.828817  0.711969\n",
              "1     1.991956  1.992339  2.381107  ...  4.828872  4.828945  0.720006\n",
              "2     1.988840  1.988797  2.379698  ...  4.832275  4.836773  0.723775\n",
              "3     1.988087  1.987622  2.376600  ...  4.835608  4.844236  0.726339\n",
              "4     1.987489  1.987154  2.372333  ...  4.838872  4.851256  0.727760\n",
              "...        ...       ...       ...  ...       ...       ...       ...\n",
              "2428  2.733200  2.734417  3.051975  ...  5.934005  5.934005  0.653964\n",
              "2429  2.733796  2.732716  3.050181  ...  5.934005  5.934005  0.662307\n",
              "2430  2.732446  2.731841  3.050202  ...  5.934005  5.934005  0.673981\n",
              "2431  2.742887  2.741286  3.054086  ...  5.934005  5.934005  0.681991\n",
              "2432  2.747603  2.747598  3.056185  ...  5.934005  5.934005  0.690008\n",
              "\n",
              "[2433 rows x 22 columns]"
            ]
          },
          "metadata": {
            "tags": []
          },
          "execution_count": 36
        }
      ]
    },
    {
      "cell_type": "code",
      "metadata": {
        "id": "o6Yr74IFDFxL"
      },
      "source": [
        "X_Avec_Prix_quant16bits = pd.DataFrame()\n",
        "\n",
        "min = np.min(X_Avec_Prix_norm.min())\n",
        "max = np.max(X_Avec_Prix_norm.max())\n",
        "\n",
        "for colonne in X_Avec_Prix_norm:\n",
        "  data_quant = tf.quantization.quantize(X_Avec_Prix_norm[colonne],min,max,tf.quint8)\n",
        "  X_Avec_Prix_quant16bits[colonne] = np.array(data_quant.output)\n",
        "\n",
        "X_Avec_Prix_quant16bits = X_Avec_Prix_norm"
      ],
      "execution_count": 37,
      "outputs": []
    },
    {
      "cell_type": "code",
      "metadata": {
        "id": "RLIMQtAf3MHN",
        "outputId": "78d91046-35ef-4220-caf9-fc72dc95710b",
        "colab": {
          "base_uri": "https://localhost:8080/",
          "height": 435
        }
      },
      "source": [
        "X_Avec_Prix_quant16bits"
      ],
      "execution_count": 40,
      "outputs": [
        {
          "output_type": "execute_result",
          "data": {
            "text/html": [
              "<div>\n",
              "<style scoped>\n",
              "    .dataframe tbody tr th:only-of-type {\n",
              "        vertical-align: middle;\n",
              "    }\n",
              "\n",
              "    .dataframe tbody tr th {\n",
              "        vertical-align: top;\n",
              "    }\n",
              "\n",
              "    .dataframe thead th {\n",
              "        text-align: right;\n",
              "    }\n",
              "</style>\n",
              "<table border=\"1\" class=\"dataframe\">\n",
              "  <thead>\n",
              "    <tr style=\"text-align: right;\">\n",
              "      <th></th>\n",
              "      <th>0</th>\n",
              "      <th>1</th>\n",
              "      <th>2</th>\n",
              "      <th>3</th>\n",
              "      <th>4</th>\n",
              "      <th>5</th>\n",
              "      <th>6</th>\n",
              "      <th>7</th>\n",
              "      <th>8</th>\n",
              "      <th>9</th>\n",
              "      <th>10</th>\n",
              "      <th>11</th>\n",
              "      <th>12</th>\n",
              "      <th>13</th>\n",
              "      <th>14</th>\n",
              "      <th>15</th>\n",
              "      <th>16</th>\n",
              "      <th>17</th>\n",
              "      <th>18</th>\n",
              "      <th>19</th>\n",
              "      <th>20</th>\n",
              "      <th>21</th>\n",
              "    </tr>\n",
              "  </thead>\n",
              "  <tbody>\n",
              "    <tr>\n",
              "      <th>0</th>\n",
              "      <td>1.996427</td>\n",
              "      <td>1.996500</td>\n",
              "      <td>2.383511</td>\n",
              "      <td>2.377065</td>\n",
              "      <td>2.383610</td>\n",
              "      <td>4.644227</td>\n",
              "      <td>4.621213</td>\n",
              "      <td>2.005700</td>\n",
              "      <td>2.290879</td>\n",
              "      <td>2.021712</td>\n",
              "      <td>2.020692</td>\n",
              "      <td>2.021808</td>\n",
              "      <td>4.832864</td>\n",
              "      <td>2.583156</td>\n",
              "      <td>4.640177</td>\n",
              "      <td>4.829136</td>\n",
              "      <td>0.198884</td>\n",
              "      <td>0.531449</td>\n",
              "      <td>4.808619</td>\n",
              "      <td>4.828817</td>\n",
              "      <td>4.828817</td>\n",
              "      <td>0.711969</td>\n",
              "    </tr>\n",
              "    <tr>\n",
              "      <th>1</th>\n",
              "      <td>1.991956</td>\n",
              "      <td>1.992339</td>\n",
              "      <td>2.381107</td>\n",
              "      <td>2.376223</td>\n",
              "      <td>2.382047</td>\n",
              "      <td>4.642618</td>\n",
              "      <td>4.621021</td>\n",
              "      <td>2.004848</td>\n",
              "      <td>2.290467</td>\n",
              "      <td>2.021114</td>\n",
              "      <td>2.018953</td>\n",
              "      <td>2.021363</td>\n",
              "      <td>4.832648</td>\n",
              "      <td>2.581910</td>\n",
              "      <td>4.639604</td>\n",
              "      <td>4.829054</td>\n",
              "      <td>0.200942</td>\n",
              "      <td>0.530513</td>\n",
              "      <td>4.809926</td>\n",
              "      <td>4.828872</td>\n",
              "      <td>4.828945</td>\n",
              "      <td>0.720006</td>\n",
              "    </tr>\n",
              "    <tr>\n",
              "      <th>2</th>\n",
              "      <td>1.988840</td>\n",
              "      <td>1.988797</td>\n",
              "      <td>2.379698</td>\n",
              "      <td>2.375736</td>\n",
              "      <td>2.380843</td>\n",
              "      <td>4.640952</td>\n",
              "      <td>4.621639</td>\n",
              "      <td>2.003862</td>\n",
              "      <td>2.290258</td>\n",
              "      <td>2.020470</td>\n",
              "      <td>2.017103</td>\n",
              "      <td>2.020801</td>\n",
              "      <td>4.840238</td>\n",
              "      <td>2.581477</td>\n",
              "      <td>4.638999</td>\n",
              "      <td>4.842101</td>\n",
              "      <td>0.202397</td>\n",
              "      <td>0.529442</td>\n",
              "      <td>4.812102</td>\n",
              "      <td>4.832275</td>\n",
              "      <td>4.836773</td>\n",
              "      <td>0.723775</td>\n",
              "    </tr>\n",
              "    <tr>\n",
              "      <th>3</th>\n",
              "      <td>1.988087</td>\n",
              "      <td>1.987622</td>\n",
              "      <td>2.376600</td>\n",
              "      <td>2.374672</td>\n",
              "      <td>2.378873</td>\n",
              "      <td>4.639292</td>\n",
              "      <td>4.621998</td>\n",
              "      <td>2.002890</td>\n",
              "      <td>2.290912</td>\n",
              "      <td>2.019824</td>\n",
              "      <td>2.015274</td>\n",
              "      <td>2.020300</td>\n",
              "      <td>4.845556</td>\n",
              "      <td>2.583316</td>\n",
              "      <td>4.638385</td>\n",
              "      <td>4.848792</td>\n",
              "      <td>0.204520</td>\n",
              "      <td>0.528397</td>\n",
              "      <td>4.814249</td>\n",
              "      <td>4.835608</td>\n",
              "      <td>4.844236</td>\n",
              "      <td>0.726339</td>\n",
              "    </tr>\n",
              "    <tr>\n",
              "      <th>4</th>\n",
              "      <td>1.987489</td>\n",
              "      <td>1.987154</td>\n",
              "      <td>2.372333</td>\n",
              "      <td>2.373222</td>\n",
              "      <td>2.376937</td>\n",
              "      <td>4.637648</td>\n",
              "      <td>4.621734</td>\n",
              "      <td>2.001940</td>\n",
              "      <td>2.291308</td>\n",
              "      <td>2.019179</td>\n",
              "      <td>2.013473</td>\n",
              "      <td>2.019763</td>\n",
              "      <td>4.849242</td>\n",
              "      <td>2.584645</td>\n",
              "      <td>4.637764</td>\n",
              "      <td>4.852022</td>\n",
              "      <td>0.206243</td>\n",
              "      <td>0.527376</td>\n",
              "      <td>4.816367</td>\n",
              "      <td>4.838872</td>\n",
              "      <td>4.851256</td>\n",
              "      <td>0.727760</td>\n",
              "    </tr>\n",
              "    <tr>\n",
              "      <th>...</th>\n",
              "      <td>...</td>\n",
              "      <td>...</td>\n",
              "      <td>...</td>\n",
              "      <td>...</td>\n",
              "      <td>...</td>\n",
              "      <td>...</td>\n",
              "      <td>...</td>\n",
              "      <td>...</td>\n",
              "      <td>...</td>\n",
              "      <td>...</td>\n",
              "      <td>...</td>\n",
              "      <td>...</td>\n",
              "      <td>...</td>\n",
              "      <td>...</td>\n",
              "      <td>...</td>\n",
              "      <td>...</td>\n",
              "      <td>...</td>\n",
              "      <td>...</td>\n",
              "      <td>...</td>\n",
              "      <td>...</td>\n",
              "      <td>...</td>\n",
              "      <td>...</td>\n",
              "    </tr>\n",
              "    <tr>\n",
              "      <th>2428</th>\n",
              "      <td>2.733200</td>\n",
              "      <td>2.734417</td>\n",
              "      <td>3.051975</td>\n",
              "      <td>3.028311</td>\n",
              "      <td>3.020024</td>\n",
              "      <td>5.452241</td>\n",
              "      <td>5.441684</td>\n",
              "      <td>2.754582</td>\n",
              "      <td>2.666515</td>\n",
              "      <td>2.735182</td>\n",
              "      <td>2.769141</td>\n",
              "      <td>2.736658</td>\n",
              "      <td>5.934579</td>\n",
              "      <td>2.866615</td>\n",
              "      <td>5.432222</td>\n",
              "      <td>5.934126</td>\n",
              "      <td>1.255816</td>\n",
              "      <td>1.441316</td>\n",
              "      <td>5.929422</td>\n",
              "      <td>5.934005</td>\n",
              "      <td>5.934005</td>\n",
              "      <td>0.653964</td>\n",
              "    </tr>\n",
              "    <tr>\n",
              "      <th>2429</th>\n",
              "      <td>2.733796</td>\n",
              "      <td>2.732716</td>\n",
              "      <td>3.050181</td>\n",
              "      <td>3.028054</td>\n",
              "      <td>3.020521</td>\n",
              "      <td>5.450876</td>\n",
              "      <td>5.439762</td>\n",
              "      <td>2.753319</td>\n",
              "      <td>2.664490</td>\n",
              "      <td>2.735152</td>\n",
              "      <td>2.767769</td>\n",
              "      <td>2.737280</td>\n",
              "      <td>5.934536</td>\n",
              "      <td>2.864476</td>\n",
              "      <td>5.432171</td>\n",
              "      <td>5.934070</td>\n",
              "      <td>1.254088</td>\n",
              "      <td>1.441366</td>\n",
              "      <td>5.929821</td>\n",
              "      <td>5.934005</td>\n",
              "      <td>5.934005</td>\n",
              "      <td>0.662307</td>\n",
              "    </tr>\n",
              "    <tr>\n",
              "      <th>2430</th>\n",
              "      <td>2.732446</td>\n",
              "      <td>2.731841</td>\n",
              "      <td>3.050202</td>\n",
              "      <td>3.028475</td>\n",
              "      <td>3.021041</td>\n",
              "      <td>5.449475</td>\n",
              "      <td>5.437747</td>\n",
              "      <td>2.752052</td>\n",
              "      <td>2.663572</td>\n",
              "      <td>2.735093</td>\n",
              "      <td>2.766360</td>\n",
              "      <td>2.737846</td>\n",
              "      <td>5.934476</td>\n",
              "      <td>2.861949</td>\n",
              "      <td>5.432080</td>\n",
              "      <td>5.934022</td>\n",
              "      <td>1.253198</td>\n",
              "      <td>1.438930</td>\n",
              "      <td>5.930220</td>\n",
              "      <td>5.934005</td>\n",
              "      <td>5.934005</td>\n",
              "      <td>0.673981</td>\n",
              "    </tr>\n",
              "    <tr>\n",
              "      <th>2431</th>\n",
              "      <td>2.742887</td>\n",
              "      <td>2.741286</td>\n",
              "      <td>3.054086</td>\n",
              "      <td>3.030405</td>\n",
              "      <td>3.022879</td>\n",
              "      <td>5.448677</td>\n",
              "      <td>5.436321</td>\n",
              "      <td>2.751476</td>\n",
              "      <td>2.661632</td>\n",
              "      <td>2.735268</td>\n",
              "      <td>2.765555</td>\n",
              "      <td>2.738570</td>\n",
              "      <td>5.934408</td>\n",
              "      <td>2.862221</td>\n",
              "      <td>5.432191</td>\n",
              "      <td>5.933987</td>\n",
              "      <td>1.253362</td>\n",
              "      <td>1.441913</td>\n",
              "      <td>5.930618</td>\n",
              "      <td>5.934005</td>\n",
              "      <td>5.934005</td>\n",
              "      <td>0.681991</td>\n",
              "    </tr>\n",
              "    <tr>\n",
              "      <th>2432</th>\n",
              "      <td>2.747603</td>\n",
              "      <td>2.747598</td>\n",
              "      <td>3.056185</td>\n",
              "      <td>3.031670</td>\n",
              "      <td>3.024201</td>\n",
              "      <td>5.448165</td>\n",
              "      <td>5.434789</td>\n",
              "      <td>2.751229</td>\n",
              "      <td>2.659951</td>\n",
              "      <td>2.735549</td>\n",
              "      <td>2.765036</td>\n",
              "      <td>2.739376</td>\n",
              "      <td>5.934336</td>\n",
              "      <td>2.861769</td>\n",
              "      <td>5.432388</td>\n",
              "      <td>5.933963</td>\n",
              "      <td>1.252321</td>\n",
              "      <td>1.442613</td>\n",
              "      <td>5.931015</td>\n",
              "      <td>5.934005</td>\n",
              "      <td>5.934005</td>\n",
              "      <td>0.690008</td>\n",
              "    </tr>\n",
              "  </tbody>\n",
              "</table>\n",
              "<p>2433 rows × 22 columns</p>\n",
              "</div>"
            ],
            "text/plain": [
              "            0         1         2   ...        19        20        21\n",
              "0     1.996427  1.996500  2.383511  ...  4.828817  4.828817  0.711969\n",
              "1     1.991956  1.992339  2.381107  ...  4.828872  4.828945  0.720006\n",
              "2     1.988840  1.988797  2.379698  ...  4.832275  4.836773  0.723775\n",
              "3     1.988087  1.987622  2.376600  ...  4.835608  4.844236  0.726339\n",
              "4     1.987489  1.987154  2.372333  ...  4.838872  4.851256  0.727760\n",
              "...        ...       ...       ...  ...       ...       ...       ...\n",
              "2428  2.733200  2.734417  3.051975  ...  5.934005  5.934005  0.653964\n",
              "2429  2.733796  2.732716  3.050181  ...  5.934005  5.934005  0.662307\n",
              "2430  2.732446  2.731841  3.050202  ...  5.934005  5.934005  0.673981\n",
              "2431  2.742887  2.741286  3.054086  ...  5.934005  5.934005  0.681991\n",
              "2432  2.747603  2.747598  3.056185  ...  5.934005  5.934005  0.690008\n",
              "\n",
              "[2433 rows x 22 columns]"
            ]
          },
          "metadata": {
            "tags": []
          },
          "execution_count": 40
        }
      ]
    },
    {
      "cell_type": "markdown",
      "metadata": {
        "id": "Eah20FyiTJ7c"
      },
      "source": [
        "**1. Séparation des données en données pour l'entrainement et la validation**"
      ]
    },
    {
      "cell_type": "markdown",
      "metadata": {
        "id": "nnhC-39gTJ7d"
      },
      "source": [
        "On réserve 20% des données pour l'entrainement et le reste pour la validation :"
      ]
    },
    {
      "cell_type": "code",
      "metadata": {
        "id": "mwXIe8_ETJ7d",
        "colab": {
          "base_uri": "https://localhost:8080/"
        },
        "outputId": "51ec44b0-e178-4667-b0ce-ca7fbdb1b83d"
      },
      "source": [
        "# Sépare les données en entrainement et tests\n",
        "pourcentage = 0.8\n",
        "temps_separation = int(len(X_Avec_Prix_quant16bits) * pourcentage)\n",
        "date_separation = X_Avec_Prix_quant16bits.index[temps_separation]\n",
        "\n",
        "serie_entrainement_X = []\n",
        "serie_test_X = []\n",
        "\n",
        "for column in X_Avec_Prix_quant16bits:\n",
        "  serie_entrainement_X.append(np.array(X_Avec_Prix_quant16bits[column][:temps_separation],dtype=np.float32))\n",
        "  serie_test_X.append(np.array(X_Avec_Prix_quant16bits[column][temps_separation:],dtype=np.float32))\n",
        "\n",
        "print(\"Taille de l'entrainement : %d\" %len(serie_entrainement_X[0]))\n",
        "print(\"Taille de la validation : %d\" %len(serie_test_X[0]))"
      ],
      "execution_count": 43,
      "outputs": [
        {
          "output_type": "stream",
          "text": [
            "Taille de l'entrainement : 1946\n",
            "Taille de la validation : 487\n"
          ],
          "name": "stdout"
        }
      ]
    },
    {
      "cell_type": "code",
      "metadata": {
        "id": "wcGQlw_l3Rey"
      },
      "source": [
        "serie_entrainement_X"
      ],
      "execution_count": null,
      "outputs": []
    },
    {
      "cell_type": "code",
      "metadata": {
        "id": "F8g7cFxmTJ76",
        "outputId": "b454903d-f88d-4139-d95b-b8dee8a39fbf",
        "colab": {
          "base_uri": "https://localhost:8080/",
          "height": 809
        }
      },
      "source": [
        "# Affiche la série X\n",
        "fig, ax = plt.subplots(constrained_layout=True, figsize=(15,5))\n",
        "\n",
        "for i in range(0,len(X_Avec_Prix_quant16bits.columns)):\n",
        "  ax.plot(X_Avec_Prix_quant16bits.index[:temps_separation].values,serie_entrainement_X[i], label=\"X_Ent\")\n",
        "  ax.plot(X_Avec_Prix_quant16bits.index[temps_separation:].values,serie_test_X[i], label=\"X_Val\")\n",
        "\n",
        "ax.legend()\n",
        "plt.show()"
      ],
      "execution_count": 45,
      "outputs": [
        {
          "output_type": "stream",
          "text": [
            "/usr/local/lib/python3.7/dist-packages/IPython/core/pylabtools.py:125: UserWarning:\n",
            "\n",
            "constrained_layout not applied.  At least one axes collapsed to zero width or height.\n",
            "\n"
          ],
          "name": "stderr"
        },
        {
          "output_type": "display_data",
          "data": {
            "image/png": "[encoded data removed]",
            "text/plain": [
              "<Figure size 1080x360 with 1 Axes>"
            ]
          },
          "metadata": {
            "tags": [],
            "needs_background": "light"
          }
        }
      ]
    },
    {
      "cell_type": "markdown",
      "metadata": {
        "id": "wr9CM2ZmYNl0"
      },
      "source": [
        "# Création des datasets"
      ]
    },
    {
      "cell_type": "code",
      "metadata": {
        "id": "nK6G5AVZYNmU"
      },
      "source": [
        "# Fonction permettant de créer un dataset à partir des données de la série temporelle\n",
        "\n",
        "def prepare_dataset_XY(series, taille_fenetre, horizon, batch_size):\n",
        "  serie_concat = tf.expand_dims(series[0],1)\n",
        "\n",
        "  for i in range(1,len(series)):\n",
        "    serie_ = tf.expand_dims(series[i],1)\n",
        "    serie_concat = tf.concat([serie_concat,serie_],1)\n",
        "\n",
        "  dataset = tf.data.Dataset.from_tensor_slices(serie_concat)\n",
        "  dataset = dataset.window(taille_fenetre+horizon, shift=1, drop_remainder=True)\n",
        "  dataset = dataset.flat_map(lambda x: x.batch(taille_fenetre + horizon))\n",
        "  dataset = dataset.map(lambda x: (x[0:taille_fenetre],tf.expand_dims(x[-1:][:,0],1)))\n",
        "\n",
        "  dataset = dataset.batch(batch_size,drop_remainder=True).prefetch(1)\n",
        "  return dataset"
      ],
      "execution_count": 46,
      "outputs": []
    },
    {
      "cell_type": "code",
      "metadata": {
        "id": "OqoAHg2MYNmW"
      },
      "source": [
        "# Définition des caractéristiques du dataset que l'on souhaite créer\n",
        "taille_fenetre = 16\n",
        "horizon = 1\n",
        "batch_size = 1\n",
        "\n",
        "# Création du dataset\n",
        "dataset = prepare_dataset_XY(serie_entrainement_X,taille_fenetre,horizon,batch_size)\n",
        "dataset_val = prepare_dataset_XY(serie_test_X,taille_fenetre,horizon,batch_size)"
      ],
      "execution_count": 47,
      "outputs": []
    },
    {
      "cell_type": "code",
      "metadata": {
        "id": "USVHzg-GYNmX"
      },
      "source": [
        "print(len(list(dataset.as_numpy_iterator())))\n",
        "for element in dataset.take(1):\n",
        "  print(element[0].shape)\n",
        "  print(element[1].shape)"
      ],
      "execution_count": null,
      "outputs": []
    },
    {
      "cell_type": "code",
      "metadata": {
        "id": "OA6tsfl4YNmY"
      },
      "source": [
        "for element in dataset.take(2):\n",
        "  print(element)\n"
      ],
      "execution_count": null,
      "outputs": []
    },
    {
      "cell_type": "code",
      "metadata": {
        "id": "LXd_qQ3K5Vbz"
      },
      "source": [
        ""
      ],
      "execution_count": null,
      "outputs": []
    },
    {
      "cell_type": "markdown",
      "metadata": {
        "id": "VAwyM48zYNmZ"
      },
      "source": [
        "On extrait maintenant les deux tenseurs (X,Y) pour l'entrainement :"
      ]
    },
    {
      "cell_type": "code",
      "metadata": {
        "id": "Q87LZFryIx2b"
      },
      "source": [
        "# Extrait les X,Y du dataset\n",
        "x,y = tuple(zip(*dataset))              # #60x((32,16,22),(32,1,1)) => x = 60x(32,16,22) ; y = 60x(32,1,1)\n",
        "\n",
        "# Recombine les données\n",
        "x = np.asarray(x,dtype=np.float32)      # 60x(32,16,22) => (60,32,16,22)\n",
        "y = np.asarray(y,dtype=np.float32)      # 60x(32,1,1) => (60,32,1,1)\n",
        "\n",
        "x_train = np.asarray(tf.reshape(x,shape=(x.shape[0]*x.shape[1],taille_fenetre,x.shape[3])))     # (60,32,16,22) => (60*32,16,22)\n",
        "y_train = np.asarray(tf.reshape(y,shape=(y.shape[0]*y.shape[1],1,y.shape[3])))     # (60,32,1,1) => (60*32,1,1)"
      ],
      "execution_count": 48,
      "outputs": []
    },
    {
      "cell_type": "markdown",
      "metadata": {
        "id": "wQlnU0USYNma"
      },
      "source": [
        "Puis la même chose pour les données de validation :"
      ]
    },
    {
      "cell_type": "code",
      "metadata": {
        "id": "yBroUa5XYNma"
      },
      "source": [
        "# Extrait les X,Y du dataset\n",
        "x,y = tuple(zip(*dataset_val))              # #60x((32,16,22),(32,1,1)) => x = 60x(32,16,22) ; y = 60x(32,1,1)\n",
        "\n",
        "# Recombine les données\n",
        "x = np.asarray(x,dtype=np.float32)      # 60x(32,16,22) => (60,32,16,22)\n",
        "y = np.asarray(y,dtype=np.float32)      # 60x(32,1,1) => (60,32,1,1)\n",
        "\n",
        "x_val = np.asarray(tf.reshape(x,shape=(x.shape[0]*x.shape[1],taille_fenetre,x.shape[3])))     # (60,32,16,22) => (60*32,16,22)\n",
        "y_val = np.asarray(tf.reshape(y,shape=(y.shape[0]*y.shape[1],1,y.shape[3])))     # (60,32,1,1) => (60*32,1,1)"
      ],
      "execution_count": 49,
      "outputs": []
    },
    {
      "cell_type": "markdown",
      "metadata": {
        "id": "vVPcKZoxHBuy"
      },
      "source": [
        "**1. Avec onehot de tf**"
      ]
    },
    {
      "cell_type": "code",
      "metadata": {
        "id": "t7tuSZfqHXGX",
        "outputId": "ea603245-0599-42bc-d76f-ae4ac02d6cb3",
        "colab": {
          "base_uri": "https://localhost:8080/"
        }
      },
      "source": [
        "from sklearn.preprocessing import OneHotEncoder, KBinsDiscretizer\n",
        "\n",
        "en = KBinsDiscretizer(n_bins=512, encode='onehot').fit(y_train[:,0])\n",
        "y_train_OneHot = en.transform(y_train[:,0])\n",
        "y_train_OneHot = np.array(y_train_OneHot.todense())\n",
        "y_train_OneHot"
      ],
      "execution_count": 73,
      "outputs": [
        {
          "output_type": "execute_result",
          "data": {
            "text/plain": [
              "array([[0., 0., 0., ..., 0., 0., 0.],\n",
              "       [0., 0., 0., ..., 0., 0., 0.],\n",
              "       [0., 0., 0., ..., 0., 0., 0.],\n",
              "       ...,\n",
              "       [0., 0., 0., ..., 0., 0., 0.],\n",
              "       [0., 0., 0., ..., 0., 0., 0.],\n",
              "       [0., 0., 0., ..., 0., 0., 0.]])"
            ]
          },
          "metadata": {
            "tags": []
          },
          "execution_count": 73
        }
      ]
    },
    {
      "cell_type": "code",
      "metadata": {
        "id": "tcFLwCiR5cSl",
        "outputId": "716cdcdb-46f0-49ab-ff06-a53b1f555c74",
        "colab": {
          "base_uri": "https://localhost:8080/"
        }
      },
      "source": [
        "y_val_OneHot = en.transform(y_val[:,0])\n",
        "y_val_OneHot = np.array(y_val_OneHot.todense())\n",
        "y_val_OneHot"
      ],
      "execution_count": 74,
      "outputs": [
        {
          "output_type": "execute_result",
          "data": {
            "text/plain": [
              "array([[0., 0., 0., ..., 0., 0., 0.],\n",
              "       [0., 0., 0., ..., 0., 0., 0.],\n",
              "       [0., 0., 0., ..., 0., 0., 0.],\n",
              "       ...,\n",
              "       [0., 0., 0., ..., 0., 0., 1.],\n",
              "       [0., 0., 0., ..., 0., 0., 1.],\n",
              "       [0., 0., 0., ..., 0., 0., 1.]])"
            ]
          },
          "metadata": {
            "tags": []
          },
          "execution_count": 74
        }
      ]
    },
    {
      "cell_type": "markdown",
      "metadata": {
        "id": "oVVTuw0xYXt8"
      },
      "source": [
        "# Création du modèle type Wavenet Multivarié Classification"
      ]
    },
    {
      "cell_type": "markdown",
      "metadata": {
        "id": "IB6dP-d8YXt9"
      },
      "source": [
        "**1. Création du réseau**"
      ]
    },
    {
      "cell_type": "code",
      "metadata": {
        "id": "GzpdbYrbYXt-"
      },
      "source": [
        "from keras.layers import Conv1D\n",
        "from keras.layers import Conv1D\n",
        "from keras.utils.conv_utils import conv_output_length\n",
        "from keras import layers\n",
        "from keras.regularizers import l2\n",
        "import keras.backend as K\n",
        "from keras.engine import Input\n",
        "from keras.engine import Model"
      ],
      "execution_count": 75,
      "outputs": []
    },
    {
      "cell_type": "code",
      "metadata": {
        "id": "VNMpYRuEYXt_"
      },
      "source": [
        "class CausalDilatedConv1D(Conv1D):\n",
        "    def __init__(self, nb_filter, filter_length, init='glorot_uniform', activation=None, weights=None,\n",
        "                 border_mode='valid', subsample_length=1, atrous_rate=1, W_regularizer=None, b_regularizer=None,\n",
        "                 activity_regularizer=None, W_constraint=None, b_constraint=None, bias=True, causal=False, **kwargs):\n",
        "        super(CausalDilatedConv1D, self).__init__(nb_filter, filter_length, weights=weights, activation=activation, \n",
        "                padding=border_mode, strides=subsample_length, dilation_rate=atrous_rate, kernel_regularizer=W_regularizer, \n",
        "                bias_regularizer=b_regularizer, activity_regularizer=activity_regularizer, kernel_constraint=W_constraint, \n",
        "                bias_constraint=b_constraint, use_bias=bias, **kwargs)\n",
        "        self.causal = causal\n",
        "        self.nb_filter = nb_filter\n",
        "        self.atrous_rate = atrous_rate\n",
        "        self.filter_length = filter_length\n",
        "        self.subsample_length = subsample_length\n",
        "        self.border_mode = border_mode\n",
        "        if self.causal and border_mode != 'valid':\n",
        "            raise ValueError(\"Causal mode dictates border_mode=valid.\")\n",
        "\n",
        "    def compute_output_shape(self, input_shape):\n",
        "        input_length = input_shape[1]\n",
        "        if self.causal:\n",
        "            input_length += self.atrous_rate * (self.filter_length - 1)\n",
        "        length = conv_output_length(input_length, self.filter_length, self.border_mode, self.strides[0], dilation=self.atrous_rate)\n",
        "        return (input_shape[0], length, self.nb_filter)\n",
        "\n",
        "    def call(self, x, mask=None):\n",
        "        if self.causal:\n",
        "            x = K.temporal_padding(x, padding=(self.atrous_rate * (self.filter_length - 1), 0))\n",
        "        return super(CausalDilatedConv1D, self).call(x)"
      ],
      "execution_count": 76,
      "outputs": []
    },
    {
      "cell_type": "code",
      "metadata": {
        "id": "93bV8CcwYXuA"
      },
      "source": [
        "def _compute_receptive_field(dilation_depth, stacks):\n",
        "  return stacks * (2 ** dilation_depth * 2) - (stacks - 1)"
      ],
      "execution_count": 77,
      "outputs": []
    },
    {
      "cell_type": "code",
      "metadata": {
        "id": "NAmgCh3_YXuB"
      },
      "source": [
        "def build_model_residual_block(x, i, s,nb_filters, dim_filters, use_bias,res_l2,output_bins):\n",
        "        original_x = x\n",
        "        # TODO: initalization, regularization?\n",
        "        relu_out = CausalDilatedConv1D(nb_filters, dim_filters, atrous_rate=2 ** i, border_mode='valid', causal=True, bias=True, name='dilated_conv_%d_relu_s%d' % (2 ** i, s), activation='tanh', W_regularizer=l2(res_l2))(x)\n",
        "        res_x = layers.Conv1D(1, 1, padding='same', use_bias=use_bias, kernel_regularizer=l2(res_l2))(relu_out)\n",
        "        skip_x = layers.Conv1D(1, 1, padding='same', use_bias=use_bias, kernel_regularizer=l2(res_l2))(relu_out)\n",
        "        res_x = layers.Add()([original_x, res_x])\n",
        "        return res_x, skip_x\n",
        "\n",
        "def build_model_couche_condition(x, Nbr_Inputs, output_bins, nb_filters, dim_filters, use_bias,res_l2):\n",
        "        original_x = x\n",
        "        skip_conditions = []\n",
        "\n",
        "        relu_out = CausalDilatedConv1D(nb_filters, dim_filters, atrous_rate=1, border_mode='valid', causal=True, bias=True, name='dilated_conv_%d_condition_%d_s%d' % (1,1, 0), activation='tanh',\n",
        "                                       W_regularizer=l2(res_l2))(tf.expand_dims(x[:,:,0],2))\n",
        "\n",
        "        skip_ = layers.Conv1D(1, 1, padding='same', use_bias=use_bias, kernel_regularizer=l2(res_l2))(relu_out)\n",
        "        skip_conditions.append(skip_)\n",
        "\n",
        "        for i in range(1,Nbr_Inputs-1):\n",
        "          relu_out = CausalDilatedConv1D(nb_filters, dim_filters, atrous_rate=1, border_mode='valid', causal=True, bias=True, name='dilated_conv_%d_condition_%d_s%d' % (1,i+1,0), activation='tanh',\n",
        "                                                    W_regularizer=l2(res_l2))(tf.expand_dims(x[:,:,i],2))\n",
        "\n",
        "          skip_ = layers.Conv1D(1, 1, padding='same', use_bias=use_bias, kernel_regularizer=l2(res_l2))(relu_out)\n",
        "          skip_conditions.append(skip_)\n",
        "\n",
        "        if Nbr_Inputs > 1:\n",
        "          out = layers.Add()(skip_conditions)\n",
        "        else:\n",
        "          out = skip_\n",
        "        return out\n",
        "\n",
        "\n",
        "def build_model(fragment_length, nb_filters, dim_filters, Nbr_Inputs, output_bins, dilation_depth, stacks, use_skip_connections, use_bias, res_l2, final_l2):\n",
        "        input_shape = Input(shape=(fragment_length, Nbr_Inputs), name='input_part')\n",
        "        out = input_shape\n",
        "        skip_connections = []\n",
        "\n",
        "        for s in range(stacks):\n",
        "            # Couche conditionnée\n",
        "            out = build_model_couche_condition(out, Nbr_Inputs, output_bins, nb_filters, dim_filters, use_bias, res_l2)\n",
        "\n",
        "            # Couches intermédiaires\n",
        "            for i in range(1, dilation_depth + 1):\n",
        "                out, skip_out = build_model_residual_block(out, i, s, nb_filters, dim_filters, use_bias, res_l2,output_bins)\n",
        "                skip_connections.append(skip_out)\n",
        "\n",
        "        if use_skip_connections:\n",
        "            out = layers.Add()(skip_connections)\n",
        "\n",
        "        # Couche de sortie\n",
        "        out = layers.Activation('relu')(out)\n",
        "        out = layers.Conv1D(1, 1, padding='same', kernel_regularizer=l2(final_l2))(out)\n",
        "        out = layers.Activation('relu')(out)\n",
        "        out = layers.Conv1D(output_bins, 1, padding='same')(out)\n",
        "        out = layers.Activation('relu')(out)\n",
        "        out = layers.Dense(output_bins,activation=\"softmax\")(out[:,0,:])\n",
        "\n",
        "        model = Model(input_shape,tf.expand_dims(out,1))\n",
        "        return model\n"
      ],
      "execution_count": 78,
      "outputs": []
    },
    {
      "cell_type": "markdown",
      "metadata": {
        "id": "-i75DMlNYXuD"
      },
      "source": [
        "**2. Construction du modèle**"
      ]
    },
    {
      "cell_type": "code",
      "metadata": {
        "id": "EX9vTKthYXuE",
        "outputId": "8f8a9749-223a-4e2c-cc3c-4a5250d36085",
        "colab": {
          "base_uri": "https://localhost:8080/"
        }
      },
      "source": [
        "def compute_receptive_field_(dilation_depth, nb_stacks):\n",
        "    receptive_field = nb_stacks * (2 ** dilation_depth * 2) - (nb_stacks - 1)\n",
        "    return receptive_field\n",
        "\n",
        "nb_filters = 512\n",
        "dim_filters = 3\n",
        "Nbr_Inputs = 22\n",
        "output_bins = 512\n",
        "dilation_depth = 3\n",
        "nb_stacks = 1\n",
        "use_skip_connections = True\n",
        "use_bias = False\n",
        "res_l2 = 0\n",
        "final_l2 = 0\n",
        "\n",
        "fragment_length = compute_receptive_field_(dilation_depth, nb_stacks)\n",
        "fragment_length\n",
        "\n",
        "model = build_model(fragment_length, nb_filters, dim_filters, Nbr_Inputs, output_bins, dilation_depth, nb_stacks, use_skip_connections, use_bias, res_l2, final_l2)\n",
        "model.summary()"
      ],
      "execution_count": 80,
      "outputs": [
        {
          "output_type": "stream",
          "text": [
            "Model: \"model_1\"\n",
            "__________________________________________________________________________________________________\n",
            "Layer (type)                    Output Shape         Param #     Connected to                     \n",
            "==================================================================================================\n",
            "input_part (InputLayer)         [(None, 16, 22)]     0                                            \n",
            "__________________________________________________________________________________________________\n",
            "tf.__operators__.getitem_22 (Sl (None, 16)           0           input_part[0][0]                 \n",
            "__________________________________________________________________________________________________\n",
            "tf.__operators__.getitem_23 (Sl (None, 16)           0           input_part[0][0]                 \n",
            "__________________________________________________________________________________________________\n",
            "tf.__operators__.getitem_24 (Sl (None, 16)           0           input_part[0][0]                 \n",
            "__________________________________________________________________________________________________\n",
            "tf.__operators__.getitem_25 (Sl (None, 16)           0           input_part[0][0]                 \n",
            "__________________________________________________________________________________________________\n",
            "tf.__operators__.getitem_26 (Sl (None, 16)           0           input_part[0][0]                 \n",
            "__________________________________________________________________________________________________\n",
            "tf.__operators__.getitem_27 (Sl (None, 16)           0           input_part[0][0]                 \n",
            "__________________________________________________________________________________________________\n",
            "tf.__operators__.getitem_28 (Sl (None, 16)           0           input_part[0][0]                 \n",
            "__________________________________________________________________________________________________\n",
            "tf.__operators__.getitem_29 (Sl (None, 16)           0           input_part[0][0]                 \n",
            "__________________________________________________________________________________________________\n",
            "tf.__operators__.getitem_30 (Sl (None, 16)           0           input_part[0][0]                 \n",
            "__________________________________________________________________________________________________\n",
            "tf.__operators__.getitem_31 (Sl (None, 16)           0           input_part[0][0]                 \n",
            "__________________________________________________________________________________________________\n",
            "tf.__operators__.getitem_32 (Sl (None, 16)           0           input_part[0][0]                 \n",
            "__________________________________________________________________________________________________\n",
            "tf.__operators__.getitem_33 (Sl (None, 16)           0           input_part[0][0]                 \n",
            "__________________________________________________________________________________________________\n",
            "tf.__operators__.getitem_34 (Sl (None, 16)           0           input_part[0][0]                 \n",
            "__________________________________________________________________________________________________\n",
            "tf.__operators__.getitem_35 (Sl (None, 16)           0           input_part[0][0]                 \n",
            "__________________________________________________________________________________________________\n",
            "tf.__operators__.getitem_36 (Sl (None, 16)           0           input_part[0][0]                 \n",
            "__________________________________________________________________________________________________\n",
            "tf.__operators__.getitem_37 (Sl (None, 16)           0           input_part[0][0]                 \n",
            "__________________________________________________________________________________________________\n",
            "tf.__operators__.getitem_38 (Sl (None, 16)           0           input_part[0][0]                 \n",
            "__________________________________________________________________________________________________\n",
            "tf.__operators__.getitem_39 (Sl (None, 16)           0           input_part[0][0]                 \n",
            "__________________________________________________________________________________________________\n",
            "tf.__operators__.getitem_40 (Sl (None, 16)           0           input_part[0][0]                 \n",
            "__________________________________________________________________________________________________\n",
            "tf.__operators__.getitem_41 (Sl (None, 16)           0           input_part[0][0]                 \n",
            "__________________________________________________________________________________________________\n",
            "tf.__operators__.getitem_42 (Sl (None, 16)           0           input_part[0][0]                 \n",
            "__________________________________________________________________________________________________\n",
            "tf.expand_dims_22 (TFOpLambda)  (None, 16, 1)        0           tf.__operators__.getitem_22[0][0]\n",
            "__________________________________________________________________________________________________\n",
            "tf.expand_dims_23 (TFOpLambda)  (None, 16, 1)        0           tf.__operators__.getitem_23[0][0]\n",
            "__________________________________________________________________________________________________\n",
            "tf.expand_dims_24 (TFOpLambda)  (None, 16, 1)        0           tf.__operators__.getitem_24[0][0]\n",
            "__________________________________________________________________________________________________\n",
            "tf.expand_dims_25 (TFOpLambda)  (None, 16, 1)        0           tf.__operators__.getitem_25[0][0]\n",
            "__________________________________________________________________________________________________\n",
            "tf.expand_dims_26 (TFOpLambda)  (None, 16, 1)        0           tf.__operators__.getitem_26[0][0]\n",
            "__________________________________________________________________________________________________\n",
            "tf.expand_dims_27 (TFOpLambda)  (None, 16, 1)        0           tf.__operators__.getitem_27[0][0]\n",
            "__________________________________________________________________________________________________\n",
            "tf.expand_dims_28 (TFOpLambda)  (None, 16, 1)        0           tf.__operators__.getitem_28[0][0]\n",
            "__________________________________________________________________________________________________\n",
            "tf.expand_dims_29 (TFOpLambda)  (None, 16, 1)        0           tf.__operators__.getitem_29[0][0]\n",
            "__________________________________________________________________________________________________\n",
            "tf.expand_dims_30 (TFOpLambda)  (None, 16, 1)        0           tf.__operators__.getitem_30[0][0]\n",
            "__________________________________________________________________________________________________\n",
            "tf.expand_dims_31 (TFOpLambda)  (None, 16, 1)        0           tf.__operators__.getitem_31[0][0]\n",
            "__________________________________________________________________________________________________\n",
            "tf.expand_dims_32 (TFOpLambda)  (None, 16, 1)        0           tf.__operators__.getitem_32[0][0]\n",
            "__________________________________________________________________________________________________\n",
            "tf.expand_dims_33 (TFOpLambda)  (None, 16, 1)        0           tf.__operators__.getitem_33[0][0]\n",
            "__________________________________________________________________________________________________\n",
            "tf.expand_dims_34 (TFOpLambda)  (None, 16, 1)        0           tf.__operators__.getitem_34[0][0]\n",
            "__________________________________________________________________________________________________\n",
            "tf.expand_dims_35 (TFOpLambda)  (None, 16, 1)        0           tf.__operators__.getitem_35[0][0]\n",
            "__________________________________________________________________________________________________\n",
            "tf.expand_dims_36 (TFOpLambda)  (None, 16, 1)        0           tf.__operators__.getitem_36[0][0]\n",
            "__________________________________________________________________________________________________\n",
            "tf.expand_dims_37 (TFOpLambda)  (None, 16, 1)        0           tf.__operators__.getitem_37[0][0]\n",
            "__________________________________________________________________________________________________\n",
            "tf.expand_dims_38 (TFOpLambda)  (None, 16, 1)        0           tf.__operators__.getitem_38[0][0]\n",
            "__________________________________________________________________________________________________\n",
            "tf.expand_dims_39 (TFOpLambda)  (None, 16, 1)        0           tf.__operators__.getitem_39[0][0]\n",
            "__________________________________________________________________________________________________\n",
            "tf.expand_dims_40 (TFOpLambda)  (None, 16, 1)        0           tf.__operators__.getitem_40[0][0]\n",
            "__________________________________________________________________________________________________\n",
            "tf.expand_dims_41 (TFOpLambda)  (None, 16, 1)        0           tf.__operators__.getitem_41[0][0]\n",
            "__________________________________________________________________________________________________\n",
            "tf.expand_dims_42 (TFOpLambda)  (None, 16, 1)        0           tf.__operators__.getitem_42[0][0]\n",
            "__________________________________________________________________________________________________\n",
            "dilated_conv_1_condition_1_s0 ( (None, 16, 512)      2048        tf.expand_dims_22[0][0]          \n",
            "__________________________________________________________________________________________________\n",
            "dilated_conv_1_condition_2_s0 ( (None, 16, 512)      2048        tf.expand_dims_23[0][0]          \n",
            "__________________________________________________________________________________________________\n",
            "dilated_conv_1_condition_3_s0 ( (None, 16, 512)      2048        tf.expand_dims_24[0][0]          \n",
            "__________________________________________________________________________________________________\n",
            "dilated_conv_1_condition_4_s0 ( (None, 16, 512)      2048        tf.expand_dims_25[0][0]          \n",
            "__________________________________________________________________________________________________\n",
            "dilated_conv_1_condition_5_s0 ( (None, 16, 512)      2048        tf.expand_dims_26[0][0]          \n",
            "__________________________________________________________________________________________________\n",
            "dilated_conv_1_condition_6_s0 ( (None, 16, 512)      2048        tf.expand_dims_27[0][0]          \n",
            "__________________________________________________________________________________________________\n",
            "dilated_conv_1_condition_7_s0 ( (None, 16, 512)      2048        tf.expand_dims_28[0][0]          \n",
            "__________________________________________________________________________________________________\n",
            "dilated_conv_1_condition_8_s0 ( (None, 16, 512)      2048        tf.expand_dims_29[0][0]          \n",
            "__________________________________________________________________________________________________\n",
            "dilated_conv_1_condition_9_s0 ( (None, 16, 512)      2048        tf.expand_dims_30[0][0]          \n",
            "__________________________________________________________________________________________________\n",
            "dilated_conv_1_condition_10_s0  (None, 16, 512)      2048        tf.expand_dims_31[0][0]          \n",
            "__________________________________________________________________________________________________\n",
            "dilated_conv_1_condition_11_s0  (None, 16, 512)      2048        tf.expand_dims_32[0][0]          \n",
            "__________________________________________________________________________________________________\n",
            "dilated_conv_1_condition_12_s0  (None, 16, 512)      2048        tf.expand_dims_33[0][0]          \n",
            "__________________________________________________________________________________________________\n",
            "dilated_conv_1_condition_13_s0  (None, 16, 512)      2048        tf.expand_dims_34[0][0]          \n",
            "__________________________________________________________________________________________________\n",
            "dilated_conv_1_condition_14_s0  (None, 16, 512)      2048        tf.expand_dims_35[0][0]          \n",
            "__________________________________________________________________________________________________\n",
            "dilated_conv_1_condition_15_s0  (None, 16, 512)      2048        tf.expand_dims_36[0][0]          \n",
            "__________________________________________________________________________________________________\n",
            "dilated_conv_1_condition_16_s0  (None, 16, 512)      2048        tf.expand_dims_37[0][0]          \n",
            "__________________________________________________________________________________________________\n",
            "dilated_conv_1_condition_17_s0  (None, 16, 512)      2048        tf.expand_dims_38[0][0]          \n",
            "__________________________________________________________________________________________________\n",
            "dilated_conv_1_condition_18_s0  (None, 16, 512)      2048        tf.expand_dims_39[0][0]          \n",
            "__________________________________________________________________________________________________\n",
            "dilated_conv_1_condition_19_s0  (None, 16, 512)      2048        tf.expand_dims_40[0][0]          \n",
            "__________________________________________________________________________________________________\n",
            "dilated_conv_1_condition_20_s0  (None, 16, 512)      2048        tf.expand_dims_41[0][0]          \n",
            "__________________________________________________________________________________________________\n",
            "dilated_conv_1_condition_21_s0  (None, 16, 512)      2048        tf.expand_dims_42[0][0]          \n",
            "__________________________________________________________________________________________________\n",
            "conv1d_29 (Conv1D)              (None, 16, 1)        512         dilated_conv_1_condition_1_s0[0][\n",
            "__________________________________________________________________________________________________\n",
            "conv1d_30 (Conv1D)              (None, 16, 1)        512         dilated_conv_1_condition_2_s0[0][\n",
            "__________________________________________________________________________________________________\n",
            "conv1d_31 (Conv1D)              (None, 16, 1)        512         dilated_conv_1_condition_3_s0[0][\n",
            "__________________________________________________________________________________________________\n",
            "conv1d_32 (Conv1D)              (None, 16, 1)        512         dilated_conv_1_condition_4_s0[0][\n",
            "__________________________________________________________________________________________________\n",
            "conv1d_33 (Conv1D)              (None, 16, 1)        512         dilated_conv_1_condition_5_s0[0][\n",
            "__________________________________________________________________________________________________\n",
            "conv1d_34 (Conv1D)              (None, 16, 1)        512         dilated_conv_1_condition_6_s0[0][\n",
            "__________________________________________________________________________________________________\n",
            "conv1d_35 (Conv1D)              (None, 16, 1)        512         dilated_conv_1_condition_7_s0[0][\n",
            "__________________________________________________________________________________________________\n",
            "conv1d_36 (Conv1D)              (None, 16, 1)        512         dilated_conv_1_condition_8_s0[0][\n",
            "__________________________________________________________________________________________________\n",
            "conv1d_37 (Conv1D)              (None, 16, 1)        512         dilated_conv_1_condition_9_s0[0][\n",
            "__________________________________________________________________________________________________\n",
            "conv1d_38 (Conv1D)              (None, 16, 1)        512         dilated_conv_1_condition_10_s0[0]\n",
            "__________________________________________________________________________________________________\n",
            "conv1d_39 (Conv1D)              (None, 16, 1)        512         dilated_conv_1_condition_11_s0[0]\n",
            "__________________________________________________________________________________________________\n",
            "conv1d_40 (Conv1D)              (None, 16, 1)        512         dilated_conv_1_condition_12_s0[0]\n",
            "__________________________________________________________________________________________________\n",
            "conv1d_41 (Conv1D)              (None, 16, 1)        512         dilated_conv_1_condition_13_s0[0]\n",
            "__________________________________________________________________________________________________\n",
            "conv1d_42 (Conv1D)              (None, 16, 1)        512         dilated_conv_1_condition_14_s0[0]\n",
            "__________________________________________________________________________________________________\n",
            "conv1d_43 (Conv1D)              (None, 16, 1)        512         dilated_conv_1_condition_15_s0[0]\n",
            "__________________________________________________________________________________________________\n",
            "conv1d_44 (Conv1D)              (None, 16, 1)        512         dilated_conv_1_condition_16_s0[0]\n",
            "__________________________________________________________________________________________________\n",
            "conv1d_45 (Conv1D)              (None, 16, 1)        512         dilated_conv_1_condition_17_s0[0]\n",
            "__________________________________________________________________________________________________\n",
            "conv1d_46 (Conv1D)              (None, 16, 1)        512         dilated_conv_1_condition_18_s0[0]\n",
            "__________________________________________________________________________________________________\n",
            "conv1d_47 (Conv1D)              (None, 16, 1)        512         dilated_conv_1_condition_19_s0[0]\n",
            "__________________________________________________________________________________________________\n",
            "conv1d_48 (Conv1D)              (None, 16, 1)        512         dilated_conv_1_condition_20_s0[0]\n",
            "__________________________________________________________________________________________________\n",
            "conv1d_49 (Conv1D)              (None, 16, 1)        512         dilated_conv_1_condition_21_s0[0]\n",
            "__________________________________________________________________________________________________\n",
            "add_5 (Add)                     (None, 16, 1)        0           conv1d_29[0][0]                  \n",
            "                                                                 conv1d_30[0][0]                  \n",
            "                                                                 conv1d_31[0][0]                  \n",
            "                                                                 conv1d_32[0][0]                  \n",
            "                                                                 conv1d_33[0][0]                  \n",
            "                                                                 conv1d_34[0][0]                  \n",
            "                                                                 conv1d_35[0][0]                  \n",
            "                                                                 conv1d_36[0][0]                  \n",
            "                                                                 conv1d_37[0][0]                  \n",
            "                                                                 conv1d_38[0][0]                  \n",
            "                                                                 conv1d_39[0][0]                  \n",
            "                                                                 conv1d_40[0][0]                  \n",
            "                                                                 conv1d_41[0][0]                  \n",
            "                                                                 conv1d_42[0][0]                  \n",
            "                                                                 conv1d_43[0][0]                  \n",
            "                                                                 conv1d_44[0][0]                  \n",
            "                                                                 conv1d_45[0][0]                  \n",
            "                                                                 conv1d_46[0][0]                  \n",
            "                                                                 conv1d_47[0][0]                  \n",
            "                                                                 conv1d_48[0][0]                  \n",
            "                                                                 conv1d_49[0][0]                  \n",
            "__________________________________________________________________________________________________\n",
            "dilated_conv_2_relu_s0 (CausalD (None, 16, 512)      2048        add_5[0][0]                      \n",
            "__________________________________________________________________________________________________\n",
            "conv1d_50 (Conv1D)              (None, 16, 1)        512         dilated_conv_2_relu_s0[0][0]     \n",
            "__________________________________________________________________________________________________\n",
            "add_6 (Add)                     (None, 16, 1)        0           add_5[0][0]                      \n",
            "                                                                 conv1d_50[0][0]                  \n",
            "__________________________________________________________________________________________________\n",
            "dilated_conv_4_relu_s0 (CausalD (None, 16, 512)      2048        add_6[0][0]                      \n",
            "__________________________________________________________________________________________________\n",
            "conv1d_52 (Conv1D)              (None, 16, 1)        512         dilated_conv_4_relu_s0[0][0]     \n",
            "__________________________________________________________________________________________________\n",
            "add_7 (Add)                     (None, 16, 1)        0           add_6[0][0]                      \n",
            "                                                                 conv1d_52[0][0]                  \n",
            "__________________________________________________________________________________________________\n",
            "dilated_conv_8_relu_s0 (CausalD (None, 16, 512)      2048        add_7[0][0]                      \n",
            "__________________________________________________________________________________________________\n",
            "conv1d_51 (Conv1D)              (None, 16, 1)        512         dilated_conv_2_relu_s0[0][0]     \n",
            "__________________________________________________________________________________________________\n",
            "conv1d_53 (Conv1D)              (None, 16, 1)        512         dilated_conv_4_relu_s0[0][0]     \n",
            "__________________________________________________________________________________________________\n",
            "conv1d_55 (Conv1D)              (None, 16, 1)        512         dilated_conv_8_relu_s0[0][0]     \n",
            "__________________________________________________________________________________________________\n",
            "add_9 (Add)                     (None, 16, 1)        0           conv1d_51[0][0]                  \n",
            "                                                                 conv1d_53[0][0]                  \n",
            "                                                                 conv1d_55[0][0]                  \n",
            "__________________________________________________________________________________________________\n",
            "activation_3 (Activation)       (None, 16, 1)        0           add_9[0][0]                      \n",
            "__________________________________________________________________________________________________\n",
            "conv1d_56 (Conv1D)              (None, 16, 1)        2           activation_3[0][0]               \n",
            "__________________________________________________________________________________________________\n",
            "activation_4 (Activation)       (None, 16, 1)        0           conv1d_56[0][0]                  \n",
            "__________________________________________________________________________________________________\n",
            "conv1d_57 (Conv1D)              (None, 16, 512)      1024        activation_4[0][0]               \n",
            "__________________________________________________________________________________________________\n",
            "activation_5 (Activation)       (None, 16, 512)      0           conv1d_57[0][0]                  \n",
            "__________________________________________________________________________________________________\n",
            "tf.__operators__.getitem_43 (Sl (None, 512)          0           activation_5[0][0]               \n",
            "__________________________________________________________________________________________________\n",
            "dense_1 (Dense)                 (None, 512)          262656      tf.__operators__.getitem_43[0][0]\n",
            "__________________________________________________________________________________________________\n",
            "tf.expand_dims_43 (TFOpLambda)  (None, 1, 512)       0           dense_1[0][0]                    \n",
            "==================================================================================================\n",
            "Total params: 326,146\n",
            "Trainable params: 326,146\n",
            "Non-trainable params: 0\n",
            "__________________________________________________________________________________________________\n"
          ],
          "name": "stdout"
        }
      ]
    },
    {
      "cell_type": "code",
      "metadata": {
        "id": "zIJ-LmYkBEsZ"
      },
      "source": [
        "from keras.callbacks import *\n",
        "\n",
        "\n",
        "mcp_save = ModelCheckpoint('LSTM_cls_interval3.hdf5', save_best_only=True, monitor='val_loss', mode='max')\n",
        "earlyStopping = EarlyStopping(monitor='val_loss', patience=50, verbose=1, mode='max')"
      ],
      "execution_count": null,
      "outputs": []
    },
    {
      "cell_type": "code",
      "metadata": {
        "id": "tOVQPlXyBOL4"
      },
      "source": [
        "model.fit(x=x_train,y=y_train,validation_data=(x_val,y_val),epochs=5000, shuffle=False)\n"
      ],
      "execution_count": null,
      "outputs": []
    },
    {
      "cell_type": "code",
      "metadata": {
        "id": "IgGc6g4dVYJQ"
      },
      "source": [
        "model.predict(x_train)"
      ],
      "execution_count": null,
      "outputs": []
    },
    {
      "cell_type": "markdown",
      "metadata": {
        "id": "ufsIFFXvYkiW"
      },
      "source": [
        "# Entrainement du modèle"
      ]
    },
    {
      "cell_type": "markdown",
      "metadata": {
        "id": "iyEdiKMmYkiX"
      },
      "source": [
        "**1. Optimisation de l'apprentissage**"
      ]
    },
    {
      "cell_type": "markdown",
      "metadata": {
        "id": "cOFjr4yXYkiX"
      },
      "source": [
        "Pour accélérer le traitement des données, nous n'allons pas utiliser l'intégralité des données pendant la mise à jour du gradient, comme cela a été fait jusqu'à présent (en utilisant le dataset).  \n",
        "Cette fois-ci, nous allons forcer les mises à jour du gradient à se produire de manière moins fréquente en attribuant la valeur du batch_size à prendre en compte lors de la regression du modèle.  \n",
        "Pour cela, on utilise l'argument \"batch_size\" dans la méthode fit. En précisant un batch_size=1000, cela signifie que :\n",
        " - Sur notre total de 56000 échantillons, 56 seront utilisés pour les calculs du gradient\n",
        " - Il y aura également 56 itérations à chaque période.\n",
        "  \n",
        "    \n",
        "    \n",
        "Si nous avions pris le dataset comme entrée, nous aurions eu :\n",
        "- Un total de 56000 échantillons également\n",
        "- Chaque période aurait également pris 56 itérations pour se compléter\n",
        "- Mais 1000 échantillons auraient été utilisés pour le calcul du gradient, au lieu de 56 avec la méthode utilisée."
      ]
    },
    {
      "cell_type": "code",
      "metadata": {
        "id": "HU0a-eQ9YkiY"
      },
      "source": [
        "# Définition de la fonction de régulation du taux d'apprentissage\n",
        "def RegulationTauxApprentissage(periode, taux):\n",
        "  return 1e-8*10**(periode/10)\n",
        "\n",
        "# Définition de l'optimiseur à utiliser\n",
        "#optimiseur=tf.keras.optimizers.Adam()\n",
        "optimiseur=tf.keras.optimizers.SGD()\n",
        "\n",
        "# Compile le modèle\n",
        "model.compile(loss=\"categorical_crossentropy\", optimizer=optimiseur, metrics=[\"accuracy\"])\n",
        "\n",
        "# Utilisation de la méthode ModelCheckPoint\n",
        "CheckPoint = tf.keras.callbacks.ModelCheckpoint(\"poids.hdf5\", monitor='accuracy', verbose=1, save_best_only=True, save_weights_only = True, mode='auto', save_freq='epoch')\n",
        "\n",
        "# Entraine le modèle en utilisant notre fonction personnelle de régulation du taux d'apprentissage\n",
        "historique = model.fit(x=x_train,y=y_train,epochs=100,verbose=1, callbacks=[tf.keras.callbacks.LearningRateScheduler(RegulationTauxApprentissage), CheckPoint],batch_size=128)\n"
      ],
      "execution_count": null,
      "outputs": []
    },
    {
      "cell_type": "code",
      "metadata": {
        "id": "GHchQmnoYkiZ"
      },
      "source": [
        "# Construit un vecteur avec les valeurs du taux d'apprentissage à chaque période \n",
        "taux = 1e-8*(10**(np.arange(100)/10))\n",
        "\n",
        "# Affiche l'erreur en fonction du taux d'apprentissage\n",
        "plt.figure(figsize=(10, 6))\n",
        "plt.semilogx(taux,historique.history[\"loss\"])\n",
        "plt.axis([ taux[30], taux[99], 0, 10])\n",
        "plt.title(\"Evolution de l'erreur en fonction du taux d'apprentissage\")"
      ],
      "execution_count": null,
      "outputs": []
    },
    {
      "cell_type": "code",
      "metadata": {
        "id": "tc5-yJEqYkia"
      },
      "source": [
        "# Chargement des poids sauvegardés\n",
        "model.load_weights(\"poids.hdf5\")"
      ],
      "execution_count": null,
      "outputs": []
    },
    {
      "cell_type": "markdown",
      "metadata": {
        "id": "fx8H8AHKYkia"
      },
      "source": [
        "**2. Entrainement du modèle**"
      ]
    },
    {
      "cell_type": "code",
      "metadata": {
        "id": "6ZWWRL2WYkib"
      },
      "source": [
        "from google.colab import files\n",
        "\n",
        "max_periodes = 5000\n",
        "\n",
        "# Classe permettant d'arrêter l'entrainement si la variation\n",
        "# devient plus petite qu'une valeur à choisir sur un nombre\n",
        "# de périodes à choisir\n",
        "class StopTrain(keras.callbacks.Callback):\n",
        "    def __init__(self, delta=0.01,periodes=100, term=\"loss\", logs={}):\n",
        "      self.n_periodes = 0\n",
        "      self.periodes = periodes\n",
        "      self.loss_1 = 100\n",
        "      self.delta = delta\n",
        "      self.term = term\n",
        "    def on_epoch_end(self, epoch, logs={}):\n",
        "      diff_loss = abs(self.loss_1 - logs[self.term])\n",
        "      self.loss_1 = logs[self.term]\n",
        "      if (diff_loss < self.delta):\n",
        "        self.n_periodes = self.n_periodes + 1\n",
        "      else:\n",
        "        self.n_periodes = 0\n",
        "      if (self.n_periodes == self.periodes):\n",
        "        print(\"Arrêt de l'entrainement...\")\n",
        "        self.model.stop_training = True\n",
        "\n",
        "  \n",
        "# Définition des paramètres liés à l'évolution du taux d'apprentissage\n",
        "lr_schedule = tf.keras.optimizers.schedules.InverseTimeDecay(\n",
        "    initial_learning_rate=0.001,\n",
        "    decay_steps=10,\n",
        "    decay_rate=0.001)\n",
        "\n",
        "# Définition de l'optimiseur à utiliser\n",
        "optimiseur=tf.keras.optimizers.Adam(learning_rate=lr_schedule)\n",
        "#optimiseur=tf.keras.optimizers.SGD(learning_rate=lr_schedule,momentum=0.9)\n",
        "\n",
        "\n",
        "# Utilisation de la méthode ModelCheckPoint\n",
        "CheckPoint = tf.keras.callbacks.ModelCheckpoint(\"poids_train.hdf5\", monitor='loss', verbose=1, save_best_only=True, save_weights_only = True, mode='auto', save_freq='epoch')\n",
        "\n",
        "# Compile le modèle\n",
        "model.compile(loss=\"categorical_crossentropy\", optimizer=optimiseur, metrics=[\"accuracy\"])\n",
        "\n",
        "# Entraine le modèle, avec une réduction des calculs du gradient\n",
        "historique = model.fit(x=x_train,y=y_train,validation_data=(x_val,y_val), epochs=max_periodes,verbose=1, callbacks=[CheckPoint],batch_size=128)\n",
        "\n",
        "# Entraine le modèle sans réduction de calculs\n",
        "#historique = model.fit(dataset,validation_data=dataset_val, epochs=max_periodes,verbose=1, callbacks=[CheckPoint,StopTrain(delta=1e-3,periodes = 20, term=\"My_MSE\")])\n",
        "\n",
        "files.download('poids_train.hdf5')\n",
        "\n"
      ],
      "execution_count": null,
      "outputs": []
    },
    {
      "cell_type": "code",
      "metadata": {
        "id": "8EKaVqPCYkid"
      },
      "source": [
        "# Télécharge les résultats d'entrainement du modèle\n",
        "! wget --no-check-certificate --content-disposition \"https://github.com/AlexandreBourrieau/ML/blob/main/Carnets%20Jupyter/S%C3%A9ries%20temporelles/Bitcoin/poids_train_BitWave_One_All.hdf5?raw=true\""
      ],
      "execution_count": null,
      "outputs": []
    },
    {
      "cell_type": "code",
      "metadata": {
        "id": "jMUbH3CaYkid"
      },
      "source": [
        "model.load_weights(\"poids_train.hdf5\")\n",
        "#model.load_weights(\"poids_train_BitWave_One_All.hdf5\")"
      ],
      "execution_count": null,
      "outputs": []
    },
    {
      "cell_type": "code",
      "metadata": {
        "id": "idMYWg8mYkie"
      },
      "source": [
        "erreur_entrainement = historique.history[\"loss\"]\n",
        "erreur_validation = historique.history[\"val_loss\"]\n",
        "\n",
        "# Affiche l'erreur en fonction de la période\n",
        "plt.figure(figsize=(10, 6))\n",
        "plt.plot(np.arange(0,len(erreur_entrainement)),erreur_entrainement, label=\"Erreurs sur les entrainements\")\n",
        "plt.plot(np.arange(0,len(erreur_entrainement)),erreur_validation, label =\"Erreurs sur les validations\")\n",
        "plt.legend()\n",
        "\n",
        "plt.title(\"Evolution de l'erreur en fonction de la période\")"
      ],
      "execution_count": null,
      "outputs": []
    },
    {
      "cell_type": "code",
      "metadata": {
        "id": "6763fLQ6Ykif"
      },
      "source": [
        "# Evaluation du modèle\n",
        "\n",
        "model.evaluate(dataset)\n",
        "model.evaluate(dataset_val)\n"
      ],
      "execution_count": null,
      "outputs": []
    },
    {
      "cell_type": "markdown",
      "metadata": {
        "id": "Wj3qvyK6Ykir"
      },
      "source": [
        "**3. Prédictions \"single step\"**"
      ]
    },
    {
      "cell_type": "code",
      "metadata": {
        "id": "0iOJE_lAYkir",
        "colab": {
          "base_uri": "https://localhost:8080/"
        },
        "outputId": "929920cf-34ee-4d27-95b0-d7f8035b25e3"
      },
      "source": [
        "# Création des instants d'entrainement et de validation\n",
        "y_train_timing = X_Avec_Prix.index[taille_fenetre + horizon - 1:taille_fenetre + horizon - 1+len(y_train)]\n",
        "y_val_timing = X_Avec_Prix.index[taille_fenetre + horizon - 1:taille_fenetre + horizon - 1+len(y_val)]\n",
        "\n",
        "# Calcul des prédictions\n",
        "pred_ent = model.predict(x_train, verbose=1)\n",
        "pred_val = model.predict(x_val, verbose=1)"
      ],
      "execution_count": null,
      "outputs": [
        {
          "output_type": "stream",
          "text": [
            "61/61 [==============================] - 1s 11ms/step\n",
            "15/15 [==============================] - 0s 16ms/step\n"
          ],
          "name": "stdout"
        }
      ]
    },
    {
      "cell_type": "code",
      "metadata": {
        "id": "O6JmFleF8i4j",
        "colab": {
          "base_uri": "https://localhost:8080/"
        },
        "outputId": "1d39eab4-90b3-4c73-aae9-1dab00f55eee"
      },
      "source": [
        "pred_ent[0,0,:]\n",
        "Y = tf.one_hot(tf.argmax(pred_ent[0,0,:]), depth = 256,dtype=np.uint8)\n",
        "Y"
      ],
      "execution_count": null,
      "outputs": [
        {
          "output_type": "execute_result",
          "data": {
            "text/plain": [
              "<tf.Tensor: shape=(256,), dtype=uint8, numpy=\n",
              "array([0, 1, 0, 0, 0, 0, 0, 0, 0, 0, 0, 0, 0, 0, 0, 0, 0, 0, 0, 0, 0, 0,\n",
              "       0, 0, 0, 0, 0, 0, 0, 0, 0, 0, 0, 0, 0, 0, 0, 0, 0, 0, 0, 0, 0, 0,\n",
              "       0, 0, 0, 0, 0, 0, 0, 0, 0, 0, 0, 0, 0, 0, 0, 0, 0, 0, 0, 0, 0, 0,\n",
              "       0, 0, 0, 0, 0, 0, 0, 0, 0, 0, 0, 0, 0, 0, 0, 0, 0, 0, 0, 0, 0, 0,\n",
              "       0, 0, 0, 0, 0, 0, 0, 0, 0, 0, 0, 0, 0, 0, 0, 0, 0, 0, 0, 0, 0, 0,\n",
              "       0, 0, 0, 0, 0, 0, 0, 0, 0, 0, 0, 0, 0, 0, 0, 0, 0, 0, 0, 0, 0, 0,\n",
              "       0, 0, 0, 0, 0, 0, 0, 0, 0, 0, 0, 0, 0, 0, 0, 0, 0, 0, 0, 0, 0, 0,\n",
              "       0, 0, 0, 0, 0, 0, 0, 0, 0, 0, 0, 0, 0, 0, 0, 0, 0, 0, 0, 0, 0, 0,\n",
              "       0, 0, 0, 0, 0, 0, 0, 0, 0, 0, 0, 0, 0, 0, 0, 0, 0, 0, 0, 0, 0, 0,\n",
              "       0, 0, 0, 0, 0, 0, 0, 0, 0, 0, 0, 0, 0, 0, 0, 0, 0, 0, 0, 0, 0, 0,\n",
              "       0, 0, 0, 0, 0, 0, 0, 0, 0, 0, 0, 0, 0, 0, 0, 0, 0, 0, 0, 0, 0, 0,\n",
              "       0, 0, 0, 0, 0, 0, 0, 0, 0, 0, 0, 0, 0, 0], dtype=uint8)>"
            ]
          },
          "metadata": {
            "tags": []
          },
          "execution_count": 50
        }
      ]
    },
    {
      "cell_type": "code",
      "metadata": {
        "id": "dfUyGJ0RYkir"
      },
      "source": [
        "import plotly.graph_objects as go\n",
        "\n",
        "fig = go.Figure()\n",
        "\n",
        "# Courbes originales\n",
        "fig.add_trace(go.Scatter(x=X_Avec_Prix.index,y=serie_entrainement_X_norm[0],line=dict(color='blue', width=1)))\n",
        "fig.add_trace(go.Scatter(x=X_Avec_Prix.index[temps_separation:],y=serie_test_X_norm[0],line=dict(color='blue', width=1)))\n",
        "\n",
        "# Courbes des prédictions d'entrainement\n",
        "fig.add_trace(go.Scatter(x=X_Avec_Prix.index[taille_fenetre+horizon-1:],y=pred_ent[:,taille_fenetre-1,0],line=dict(color='green', width=1)))\n",
        "\n",
        "# Courbes des prédictions de validations\n",
        "fig.add_trace(go.Scatter(x=X_Avec_Prix.index[temps_separation+taille_fenetre+horizon-1:],y=pred_val[:,taille_fenetre-1,0],line=dict(color='red', width=1)))\n",
        "\n",
        "\n",
        "fig.update_xaxes(rangeslider_visible=True)\n",
        "yaxis=dict(autorange = True,fixedrange= False)\n",
        "fig.update_yaxes(yaxis)\n",
        "fig.show()"
      ],
      "execution_count": null,
      "outputs": []
    },
    {
      "cell_type": "markdown",
      "metadata": {
        "id": "g8jvHwA0Ykis"
      },
      "source": [
        "**4. Prédictions multi-step**"
      ]
    },
    {
      "cell_type": "code",
      "metadata": {
        "id": "mYHqaGThYkit"
      },
      "source": [
        "predictions = []\n",
        "                                                        # x_val : (448,16,779)\n",
        "data_to_predict = x_val[0,:,:]                          # [[VAL#1_0,VAL#2_0, ... , VAL#779_0],[VAL#1_1,VAL#2_1, ... , VAL#779_1], ... , [VAL#1_15,VAL#2_15, ..., VAL#779_15]] : (16,779)\n",
        "data_to_predict = tf.expand_dims(data_to_predict,0)     # (1,16,779)\n",
        "\n",
        "prediction = model.predict(data_to_predict)             # [[[^VAL#1_1][^VAL#1_2]...[^VAL#1_16]]] : (1,16,1)\n",
        "predictions.append(prediction[0,taille_fenetre-1,0])    # [^VAL#1_16] : (1,)\n",
        "\n",
        "data_to_predict = x_val[1,0:taille_fenetre-1,:]         # [[VAL#1_1,VAL#2_1, ... , VAL#779_1],[VAL#1_2,VAL#2_2, ... , VAL#779_2], ... , [VAL#1_15,VAL#2_15, ..., VAL#779_15]] : (15,779)\n",
        "\n",
        "data_to_predict = np.insert(data_to_predict,taille_fenetre-1,     # [[VAL#1_1,VAL#2_1, ... , VAL#779_1],[VAL#1_2,VAL#2_2, ... , VAL#779_2], ... , [^VAL#1_16,VAL#2_16, ..., VAL#779_16]] : (16,779)\n",
        "                            np.concatenate((tf.expand_dims(np.array(predictions[0]),0),x_val[1,taille_fenetre-2,1:779]),axis=0),axis=0)\n",
        "\n",
        "for i in range(1,300):\n",
        "  data_to_predict = tf.expand_dims(data_to_predict,0)   # (16,779) => (1,16,779)\n",
        "  prediction = model.predict(data_to_predict)           # [[[^VAL#1_2][^VAL#1_3]...[^VAL#1_17]]] : (1,16,1)\n",
        "\n",
        "  predictions.append(prediction[0,taille_fenetre-1,0])  # [^VAL#1_17] : (1,)\n",
        "  data_to_predict = x_val[i+1,0:taille_fenetre-1,:]     # [[VAL#1_2,VAL#2_2, ... , VAL#779_2],[VAL#1_3,VAL#2_3, ... , VAL#779_3], ... , [VAL#1_17,VAL#2_17, ..., VAL#779_17]] : (15,779)\n",
        "\n",
        "  data_to_predict = np.insert(data_to_predict,taille_fenetre-1,     # [[VAL#1_1,VAL#2_1, ... , VAL#779_1],[VAL#1_2,VAL#2_2, ... , VAL#779_2], ... , [^VAL#1_16,VAL#2_16, ..., VAL#779_16]] : (16,779)\n",
        "                            np.concatenate((tf.expand_dims(np.array(predictions[i]),0),x_val[1,taille_fenetre-2,1:779]),axis=0),axis=0)"
      ],
      "execution_count": null,
      "outputs": []
    },
    {
      "cell_type": "code",
      "metadata": {
        "id": "yAcNpvbvYkit"
      },
      "source": [
        "import plotly.graph_objects as go\n",
        "\n",
        "fig = go.Figure()\n",
        "\n",
        "n_max = len(predictions)\n",
        "\n",
        "# Courbes originales\n",
        "fig.add_trace(go.Scatter(x=X_Avec_Prix.index,y=serie_entrainement_X_norm[0],line=dict(color='blue', width=1)))\n",
        "fig.add_trace(go.Scatter(x=X_Avec_Prix.index[temps_separation:],y=serie_test_X_norm[0],line=dict(color='blue', width=1)))\n",
        "\n",
        "# Courbes des prédictions d'entrainement\n",
        "fig.add_trace(go.Scatter(x=X_Avec_Prix.index[taille_fenetre+horizon-1:],y=pred_ent[:,taille_fenetre-1,0],line=dict(color='green', width=1)))\n",
        "\n",
        "# Courbes des prédictions de validations\n",
        "fig.add_trace(go.Scatter(x=X_Avec_Prix.index[temps_separation+taille_fenetre+horizon-1:temps_separation+taille_fenetre+horizon-1+n_max],y=predictions[0:n_max],line=dict(color='red', width=1)))\n",
        "\n",
        "\n",
        "fig.update_xaxes(rangeslider_visible=True)\n",
        "yaxis=dict(autorange = True,fixedrange= False)\n",
        "fig.update_yaxes(yaxis)\n",
        "fig.show()"
      ],
      "execution_count": null,
      "outputs": []
    },
    {
      "cell_type": "markdown",
      "metadata": {
        "id": "C5CeF8IyjQFT"
      },
      "source": [
        "# Création des datasets - Sans prix en X"
      ]
    },
    {
      "cell_type": "code",
      "metadata": {
        "id": "IZ1MBty1xgoX"
      },
      "source": [
        "X_reduit_VIF.insert(0,'Price',df_data['Price'])"
      ],
      "execution_count": null,
      "outputs": []
    },
    {
      "cell_type": "code",
      "metadata": {
        "id": "YoP-8584xjYv"
      },
      "source": [
        "X_reduit_VIF"
      ],
      "execution_count": null,
      "outputs": []
    },
    {
      "cell_type": "code",
      "metadata": {
        "id": "_a3GiFgyxlbT"
      },
      "source": [
        "X_Avec_Prix = X_reduit_VIF"
      ],
      "execution_count": null,
      "outputs": []
    },
    {
      "cell_type": "code",
      "metadata": {
        "id": "Gy8wD4VLu5Qg"
      },
      "source": [
        "X_Avec_Prix = df_data\n",
        "X_Avec_Prix = X_Avec_Prix.drop(columns=['Dates', 'Price'])\n",
        "Xdrop = SimpleImputer(missing_values=np.nan,strategy='most_frequent').fit_transform(X_Avec_Prix)\n",
        "Xdrop = pd.DataFrame(Xdrop)\n",
        "Xdrop.columns = X_Avec_Prix.columns\n",
        "X_Avec_Prix = Xdrop\n",
        "X_Avec_Prix = X_Avec_Prix\n",
        "X_Avec_Prix = X_Avec_Prix.iloc[:,var_pred]\n",
        "X_Avec_Prix.insert(0,'Price',df_data['Price'])\n",
        "X_Avec_Prix"
      ],
      "execution_count": null,
      "outputs": []
    },
    {
      "cell_type": "code",
      "metadata": {
        "id": "-44FsypRjQFe"
      },
      "source": [
        "# Fonction permettant de créer un dataset à partir des données de la série temporelle\n",
        "\n",
        "def prepare_dataset_XY(series, taille_fenetre, horizon, batch_size):\n",
        "  serie_concat = tf.expand_dims(series[0],1)\n",
        "\n",
        "  for i in range(1,len(series)):\n",
        "    serie_ = tf.expand_dims(series[i],1)\n",
        "    serie_concat = tf.concat([serie_concat,serie_],1)\n",
        "\n",
        "  dataset = tf.data.Dataset.from_tensor_slices(serie_concat)\n",
        "  dataset = dataset.window(taille_fenetre+horizon, shift=1, drop_remainder=True)\n",
        "  dataset = dataset.flat_map(lambda x: x.batch(taille_fenetre + horizon))\n",
        "  dataset = dataset.map(lambda x: (x[0:taille_fenetre][:,1:],tf.expand_dims(x[-taille_fenetre:][:,0],1)))\n",
        "  dataset = dataset.batch(batch_size,drop_remainder=True).prefetch(1)\n",
        "  return dataset"
      ],
      "execution_count": null,
      "outputs": []
    },
    {
      "cell_type": "code",
      "metadata": {
        "id": "m6t272rIjQFg"
      },
      "source": [
        "# Définition des caractéristiques du dataset que l'on souhaite créer\n",
        "taille_fenetre = 64\n",
        "horizon = 1\n",
        "batch_size = 1\n",
        "\n",
        "# Création du dataset\n",
        "dataset = prepare_dataset_XY(serie_entrainement_X_norm,taille_fenetre,horizon,batch_size)\n",
        "dataset_val = prepare_dataset_XY(serie_test_X_norm,taille_fenetre,horizon,batch_size)"
      ],
      "execution_count": null,
      "outputs": []
    },
    {
      "cell_type": "code",
      "metadata": {
        "id": "JKO1WzQkjQFh"
      },
      "source": [
        "print(len(list(dataset.as_numpy_iterator())))\n",
        "for element in dataset.take(1):\n",
        "  print(element[0].shape)\n",
        "  print(element[1].shape)"
      ],
      "execution_count": null,
      "outputs": []
    },
    {
      "cell_type": "code",
      "metadata": {
        "id": "ZqHV6Ac5jQFi"
      },
      "source": [
        "for element in dataset.take(1):\n",
        "  print(element)\n"
      ],
      "execution_count": null,
      "outputs": []
    },
    {
      "cell_type": "markdown",
      "metadata": {
        "id": "AvR1N4gojQFj"
      },
      "source": [
        "On extrait maintenant les deux tenseurs (X,Y) pour l'entrainement :"
      ]
    },
    {
      "cell_type": "code",
      "metadata": {
        "id": "FwJtYSVtjQFk"
      },
      "source": [
        "# Extrait les X,Y du dataset\n",
        "x,y = tuple(zip(*dataset))              # #60x((32,5,779),(32,5,1)) => x = 60x(32,5,779) ; y = 60x(32,5,1)\n",
        "\n",
        "# Recombine les données\n",
        "x = np.asarray(x,dtype=np.float32)      # 60x(32,5,779) => (60,32,5,779)\n",
        "y = np.asarray(y,dtype=np.float32)      # 60x(32,5,1) => (60,32,5,1)\n",
        "\n",
        "x_train = np.asarray(tf.reshape(x,shape=(x.shape[0]*x.shape[1],taille_fenetre,x.shape[3])))     # (60,32,5,779) => (60*32,5,779)\n",
        "y_train = np.asarray(tf.reshape(y,shape=(y.shape[0]*y.shape[1],taille_fenetre,y.shape[3])))     # (60,32,5,1) => (60*32,5,1)\n",
        "\n",
        "# Affiche les formats\n",
        "print(x_train.shape)\n",
        "print(y_train.shape)"
      ],
      "execution_count": null,
      "outputs": []
    },
    {
      "cell_type": "markdown",
      "metadata": {
        "id": "5Zny4A0jjQFk"
      },
      "source": [
        "Puis la même chose pour les données de validation :"
      ]
    },
    {
      "cell_type": "code",
      "metadata": {
        "id": "LhoA0UOxjQFl"
      },
      "source": [
        "# Extrait les X,Y du dataset\n",
        "x,y = tuple(zip(*dataset_val))\n",
        "\n",
        "# Recombine les données\n",
        "x = np.asarray(x,dtype=np.float32)\n",
        "y = np.asarray(y,dtype=np.float32)\n",
        "\n",
        "x_val = np.asarray(tf.reshape(x,shape=(x.shape[0]*x.shape[1],taille_fenetre,x.shape[3])))\n",
        "y_val = np.asarray(tf.reshape(y,shape=(y.shape[0]*y.shape[1],taille_fenetre,y.shape[3])))\n",
        "\n",
        "# Affiche les formats\n",
        "print(x_val.shape)\n",
        "print(y_val.shape)"
      ],
      "execution_count": null,
      "outputs": []
    },
    {
      "cell_type": "markdown",
      "metadata": {
        "id": "F6TE-8uonbYq"
      },
      "source": [
        "# Création du modèle type Wavenet Multivarié"
      ]
    },
    {
      "cell_type": "markdown",
      "metadata": {
        "id": "ZFUUNiNYnbZH"
      },
      "source": [
        "**1. Création du réseau**"
      ]
    },
    {
      "cell_type": "code",
      "metadata": {
        "id": "yfUkzVAwnbZH"
      },
      "source": [
        "from keras.layers import Conv1D\n",
        "from keras.layers import Conv1D\n",
        "from keras.utils.conv_utils import conv_output_length\n",
        "from keras import layers\n",
        "from keras.regularizers import l2\n",
        "import keras.backend as K\n",
        "from keras.engine import Input\n",
        "from keras.engine import Model"
      ],
      "execution_count": null,
      "outputs": []
    },
    {
      "cell_type": "code",
      "metadata": {
        "id": "-mDTWTKDnbZI"
      },
      "source": [
        "class CausalDilatedConv1D(Conv1D):\n",
        "    def __init__(self, nb_filter, filter_length, init='glorot_uniform', activation=None, weights=None,\n",
        "                 border_mode='valid', subsample_length=1, atrous_rate=1, W_regularizer=None, b_regularizer=None,\n",
        "                 activity_regularizer=None, W_constraint=None, b_constraint=None, bias=True, causal=False, **kwargs):\n",
        "        super(CausalDilatedConv1D, self).__init__(nb_filter, filter_length, weights=weights, activation=activation, \n",
        "                padding=border_mode, strides=subsample_length, dilation_rate=atrous_rate, kernel_regularizer=W_regularizer, \n",
        "                bias_regularizer=b_regularizer, activity_regularizer=activity_regularizer, kernel_constraint=W_constraint, \n",
        "                bias_constraint=b_constraint, use_bias=bias, **kwargs)\n",
        "        self.causal = causal\n",
        "        self.nb_filter = nb_filter\n",
        "        self.atrous_rate = atrous_rate\n",
        "        self.filter_length = filter_length\n",
        "        self.subsample_length = subsample_length\n",
        "        self.border_mode = border_mode\n",
        "        if self.causal and border_mode != 'valid':\n",
        "            raise ValueError(\"Causal mode dictates border_mode=valid.\")\n",
        "\n",
        "    def compute_output_shape(self, input_shape):\n",
        "        input_length = input_shape[1]\n",
        "        if self.causal:\n",
        "            input_length += self.atrous_rate * (self.filter_length - 1)\n",
        "        length = conv_output_length(input_length, self.filter_length, self.border_mode, self.strides[0], dilation=self.atrous_rate)\n",
        "        return (input_shape[0], length, self.nb_filter)\n",
        "\n",
        "    def call(self, x, mask=None):\n",
        "        if self.causal:\n",
        "            x = K.temporal_padding(x, padding=(self.atrous_rate * (self.filter_length - 1), 0))\n",
        "        # return super(CausalAtrousConvolution1D, self).call(x, mask)\n",
        "        return super(CausalDilatedConv1D, self).call(x)"
      ],
      "execution_count": null,
      "outputs": []
    },
    {
      "cell_type": "code",
      "metadata": {
        "id": "CVxqodltnbZJ"
      },
      "source": [
        "def _compute_receptive_field(dilation_depth, stacks):\n",
        "  return stacks * (2 ** dilation_depth * 2) - (stacks - 1)"
      ],
      "execution_count": null,
      "outputs": []
    },
    {
      "cell_type": "code",
      "metadata": {
        "id": "zKSxA3XVnbZK"
      },
      "source": [
        "def build_model_residual_block(x, i, s,nb_filters, dim_filters, use_bias,res_l2):\n",
        "        original_x = x\n",
        "        # TODO: initalization, regularization?\n",
        "        relu_out = CausalDilatedConv1D(nb_filters, dim_filters, atrous_rate=2 ** i, border_mode='valid', causal=True, bias=True, name='dilated_conv_%d_relu_s%d' % (2 ** i, s), activation='relu', W_regularizer=l2(res_l2))(x)\n",
        "        res_x = layers.Conv1D(1, 1, padding='same', use_bias=use_bias, kernel_regularizer=l2(res_l2))(relu_out)\n",
        "        skip_x = layers.Conv1D(1, 1, padding='same', use_bias=use_bias, kernel_regularizer=l2(res_l2))(relu_out)\n",
        "        res_x = layers.Add()([original_x, res_x])\n",
        "        return res_x, skip_x\n",
        "\n",
        "def build_model_couche_condition(x, output_bins, nb_filters, dim_filters, use_bias,res_l2):\n",
        "        original_x = x\n",
        "        skip_conditions = []\n",
        "\n",
        "        relu_out = CausalDilatedConv1D(nb_filters, dim_filters, atrous_rate=1, border_mode='valid', causal=True, bias=True, name='dilated_conv_%d_condition_%d_s%d' % (1,1, 0), activation='relu',\n",
        "                                       W_regularizer=l2(res_l2))(tf.expand_dims(x[:,:,0],2))\n",
        "\n",
        "        skip_ = layers.Conv1D(1, 1, padding='same', use_bias=use_bias, kernel_regularizer=l2(res_l2))(relu_out)\n",
        "        skip_conditions.append(skip_)\n",
        "\n",
        "        for i in range(1,output_bins-1):\n",
        "          relu_out = CausalDilatedConv1D(nb_filters, dim_filters, atrous_rate=1, border_mode='valid', causal=True, bias=True, name='dilated_conv_%d_condition_%d_s%d' % (1,i+1,0), activation='relu',\n",
        "                                                    W_regularizer=l2(res_l2))(tf.expand_dims(x[:,:,i],2))\n",
        "\n",
        "          skip_ = layers.Conv1D(1, 1, padding='same', use_bias=use_bias, kernel_regularizer=l2(res_l2))(relu_out)\n",
        "          skip_conditions.append(skip_)\n",
        "\n",
        "        if output_bins > 1:\n",
        "          out = layers.Add()(skip_conditions)\n",
        "        else:\n",
        "          out = skip_\n",
        "        return out\n",
        "\n",
        "\n",
        "def build_model(fragment_length, nb_filters, dim_filters, output_bins, dilation_depth, stacks, use_skip_connections, use_bias, res_l2, final_l2):\n",
        "        input_shape = Input(shape=(fragment_length, output_bins), name='input_part')\n",
        "        out = input_shape\n",
        "        skip_connections = []\n",
        "\n",
        "        for s in range(stacks):\n",
        "            # Couche conditionnée\n",
        "            out = build_model_couche_condition(out, output_bins, nb_filters, dim_filters, use_bias, res_l2)\n",
        "\n",
        "            # Couches intermédiaires\n",
        "            for i in range(1, dilation_depth + 1):\n",
        "                out, skip_out = build_model_residual_block(out, i, s, nb_filters, dim_filters, use_bias, res_l2)\n",
        "                skip_connections.append(skip_out)\n",
        "\n",
        "        if use_skip_connections:\n",
        "            out = layers.Add()(skip_connections)\n",
        "\n",
        "        # Couche de sortie\n",
        "        out = layers.Activation('linear', name=\"output_linear\")(out)\n",
        "        out = layers.Conv1D(1, 1, padding='same', kernel_regularizer=l2(final_l2))(out)\n",
        "        model = Model(input_shape, out)\n",
        "        return model\n"
      ],
      "execution_count": null,
      "outputs": []
    },
    {
      "cell_type": "markdown",
      "metadata": {
        "id": "JBHv2GWNnbZL"
      },
      "source": [
        "**2. Construction du modèle**"
      ]
    },
    {
      "cell_type": "code",
      "metadata": {
        "id": "QNMIkaHYnbZL"
      },
      "source": [
        "def compute_receptive_field_(dilation_depth, nb_stacks):\n",
        "    receptive_field = nb_stacks * (2 ** dilation_depth * 2) - (nb_stacks - 1)\n",
        "    return receptive_field\n",
        "\n",
        "nb_filters = 5\n",
        "dim_filters = 4\n",
        "nb_output_bins = 7\n",
        "dilation_depth = 5\n",
        "nb_stacks = 1\n",
        "use_skip_connections = False\n",
        "use_bias = False\n",
        "res_l2 = 0.001\n",
        "final_l2 = 0.001\n",
        "\n",
        "fragment_length = compute_receptive_field_(dilation_depth, nb_stacks)\n",
        "fragment_length\n",
        "\n",
        "model = build_model(fragment_length, nb_filters, dim_filters, nb_output_bins, dilation_depth, nb_stacks, use_skip_connections, use_bias, res_l2, final_l2)\n",
        "model.summary()"
      ],
      "execution_count": null,
      "outputs": []
    },
    {
      "cell_type": "markdown",
      "metadata": {
        "id": "j3uWCqzcnkB2"
      },
      "source": [
        "# Entrainement du modèle"
      ]
    },
    {
      "cell_type": "markdown",
      "metadata": {
        "id": "kly6bhi8nkB3"
      },
      "source": [
        "**1. Optimisation de l'apprentissage**"
      ]
    },
    {
      "cell_type": "markdown",
      "metadata": {
        "id": "PB1gffpQnkB4"
      },
      "source": [
        "Pour accélérer le traitement des données, nous n'allons pas utiliser l'intégralité des données pendant la mise à jour du gradient, comme cela a été fait jusqu'à présent (en utilisant le dataset).  \n",
        "Cette fois-ci, nous allons forcer les mises à jour du gradient à se produire de manière moins fréquente en attribuant la valeur du batch_size à prendre en compte lors de la regression du modèle.  \n",
        "Pour cela, on utilise l'argument \"batch_size\" dans la méthode fit. En précisant un batch_size=1000, cela signifie que :\n",
        " - Sur notre total de 56000 échantillons, 56 seront utilisés pour les calculs du gradient\n",
        " - Il y aura également 56 itérations à chaque période.\n",
        "  \n",
        "    \n",
        "    \n",
        "Si nous avions pris le dataset comme entrée, nous aurions eu :\n",
        "- Un total de 56000 échantillons également\n",
        "- Chaque période aurait également pris 56 itérations pour se compléter\n",
        "- Mais 1000 échantillons auraient été utilisés pour le calcul du gradient, au lieu de 56 avec la méthode utilisée."
      ]
    },
    {
      "cell_type": "code",
      "metadata": {
        "id": "nJaE8myAnkB5"
      },
      "source": [
        "# Définition de la fonction de régulation du taux d'apprentissage\n",
        "def RegulationTauxApprentissage(periode, taux):\n",
        "  return 1e-8*10**(periode/10)\n",
        "\n",
        "def  My_MSE(y_true,y_pred):\n",
        "  return(tf.keras.metrics.mse(y_true,y_pred)*std_X[0].numpy()+mean_X[0].numpy())\n",
        "\n",
        "# Définition de l'optimiseur à utiliser\n",
        "optimiseur=tf.keras.optimizers.Adam()\n",
        "#optimiseur=tf.keras.optimizers.SGD()\n",
        "\n",
        "# Compile le modèle\n",
        "model.compile(loss=\"mse\", optimizer=optimiseur, metrics=[\"mse\",My_MSE])\n",
        "\n",
        "# Utilisation de la méthode ModelCheckPoint\n",
        "CheckPoint = tf.keras.callbacks.ModelCheckpoint(\"poids.hdf5\", monitor='loss', verbose=1, save_best_only=True, save_weights_only = True, mode='auto', save_freq='epoch')\n",
        "\n",
        "# Entraine le modèle en utilisant notre fonction personnelle de régulation du taux d'apprentissage\n",
        "historique = model.fit(dataset,epochs=100,verbose=1, callbacks=[tf.keras.callbacks.LearningRateScheduler(RegulationTauxApprentissage), CheckPoint],batch_size=batch_size)\n"
      ],
      "execution_count": null,
      "outputs": []
    },
    {
      "cell_type": "code",
      "metadata": {
        "id": "7mJxFSJNnkB7"
      },
      "source": [
        "# Construit un vecteur avec les valeurs du taux d'apprentissage à chaque période \n",
        "taux = 1e-8*(10**(np.arange(100)/10))\n",
        "\n",
        "# Affiche l'erreur en fonction du taux d'apprentissage\n",
        "plt.figure(figsize=(10, 6))\n",
        "plt.semilogx(taux,historique.history[\"loss\"])\n",
        "plt.axis([ taux[30], taux[99], 0, 0.4])\n",
        "plt.title(\"Evolution de l'erreur en fonction du taux d'apprentissage\")"
      ],
      "execution_count": null,
      "outputs": []
    },
    {
      "cell_type": "code",
      "metadata": {
        "id": "e2icNDS5nkB8"
      },
      "source": [
        "# Chargement des poids sauvegardés\n",
        "model.load_weights(\"poids.hdf5\")"
      ],
      "execution_count": null,
      "outputs": []
    },
    {
      "cell_type": "markdown",
      "metadata": {
        "id": "pKErsgPwnkB9"
      },
      "source": [
        "**2. Entrainement du modèle**"
      ]
    },
    {
      "cell_type": "code",
      "metadata": {
        "id": "LJTgBXrZnkB9"
      },
      "source": [
        "from google.colab import files\n",
        "\n",
        "max_periodes = 5000\n",
        "\n",
        "# Classe permettant d'arrêter l'entrainement si la variation\n",
        "# devient plus petite qu'une valeur à choisir sur un nombre\n",
        "# de périodes à choisir\n",
        "class StopTrain(keras.callbacks.Callback):\n",
        "    def __init__(self, delta=0.01,periodes=100, term=\"loss\", logs={}):\n",
        "      self.n_periodes = 0\n",
        "      self.periodes = periodes\n",
        "      self.loss_1 = 100\n",
        "      self.delta = delta\n",
        "      self.term = term\n",
        "    def on_epoch_end(self, epoch, logs={}):\n",
        "      diff_loss = abs(self.loss_1 - logs[self.term])\n",
        "      self.loss_1 = logs[self.term]\n",
        "      if (diff_loss < self.delta):\n",
        "        self.n_periodes = self.n_periodes + 1\n",
        "      else:\n",
        "        self.n_periodes = 0\n",
        "      if (self.n_periodes == self.periodes):\n",
        "        print(\"Arrêt de l'entrainement...\")\n",
        "        self.model.stop_training = True\n",
        "\n",
        "def  My_MSE(y_true,y_pred):\n",
        "  return(tf.keras.metrics.mse(y_true,y_pred)*std_X[0].numpy()+mean_X[0].numpy())\n",
        "  \n",
        "# Définition des paramètres liés à l'évolution du taux d'apprentissage\n",
        "lr_schedule = tf.keras.optimizers.schedules.InverseTimeDecay(\n",
        "    initial_learning_rate=0.001,\n",
        "    decay_steps=20,\n",
        "    decay_rate=0.001)\n",
        "\n",
        "\n",
        "# Définition de l'optimiseur à utiliser\n",
        "optimiseur=tf.keras.optimizers.Adam(learning_rate=lr_schedule,amsgrad=True)\n",
        "#optimiseur=tf.keras.optimizers.SGD(learning_rate=lr_schedule,momentum=0.9)\n",
        "\n",
        "\n",
        "# Utilisation de la méthode ModelCheckPoint\n",
        "CheckPoint = tf.keras.callbacks.ModelCheckpoint(\"poids_train.hdf5\", monitor='loss', verbose=1, save_best_only=True, save_weights_only = True, mode='auto', save_freq='epoch')\n",
        "\n",
        "# Compile le modèle\n",
        "model.compile(loss=\"logcosh\", optimizer=optimiseur, metrics=[\"mse\",My_MSE])\n",
        "\n",
        "# Entraine le modèle, avec une réduction des calculs du gradient\n",
        "historique = model.fit(x=x_train,y=y_train,validation_data=(x_val,y_val), epochs=max_periodes,verbose=1, callbacks=[CheckPoint,StopTrain(delta=1e-2,periodes = 10, term=\"My_MSE\")],batch_size=16)\n",
        "\n",
        "# Entraine le modèle sans réduction de calculs\n",
        "#historique = model.fit(dataset,validation_data=dataset_val, epochs=max_periodes,verbose=1, callbacks=[CheckPoint,StopTrain(delta=1e-3,periodes = 20, term=\"My_MSE\")])\n",
        "\n",
        "files.download('poids_train.hdf5')\n",
        "\n"
      ],
      "execution_count": null,
      "outputs": []
    },
    {
      "cell_type": "code",
      "metadata": {
        "id": "xcCcIoABnkB_"
      },
      "source": [
        "# Télécharge les résultats d'entrainement du modèle\n",
        "! wget --no-check-certificate --content-disposition \"https://github.com/AlexandreBourrieau/ML/blob/main/Carnets%20Jupyter/S%C3%A9ries%20temporelles/Bitcoin/poids_train_BitWave_One_All.hdf5?raw=true\""
      ],
      "execution_count": null,
      "outputs": []
    },
    {
      "cell_type": "code",
      "metadata": {
        "id": "vwCBv230nkCA"
      },
      "source": [
        "model.load_weights(\"poids_train.hdf5\")\n",
        "#model.load_weights(\"poids_train_BitWave_One_All.hdf5\")"
      ],
      "execution_count": null,
      "outputs": []
    },
    {
      "cell_type": "code",
      "metadata": {
        "id": "H8zkTV7dnkCA"
      },
      "source": [
        "erreur_entrainement = historique.history[\"loss\"]\n",
        "erreur_validation = historique.history[\"val_loss\"]\n",
        "\n",
        "# Affiche l'erreur en fonction de la période\n",
        "plt.figure(figsize=(10, 6))\n",
        "plt.plot(np.arange(0,len(erreur_entrainement)),erreur_entrainement, label=\"Erreurs sur les entrainements\")\n",
        "plt.plot(np.arange(0,len(erreur_entrainement)),erreur_validation, label =\"Erreurs sur les validations\")\n",
        "plt.legend()\n",
        "\n",
        "plt.title(\"Evolution de l'erreur en fonction de la période\")"
      ],
      "execution_count": null,
      "outputs": []
    },
    {
      "cell_type": "code",
      "metadata": {
        "id": "fMcgYWLMnkCB"
      },
      "source": [
        "# Evaluation du modèle\n",
        "\n",
        "model.evaluate(dataset)\n",
        "model.evaluate(dataset_val)\n"
      ],
      "execution_count": null,
      "outputs": []
    },
    {
      "cell_type": "markdown",
      "metadata": {
        "id": "FRxuxZCRnkCC"
      },
      "source": [
        "**3. Prédictions \"single step\"**"
      ]
    },
    {
      "cell_type": "code",
      "metadata": {
        "id": "pOnVsZVznkCD"
      },
      "source": [
        "# Création des instants d'entrainement et de validation\n",
        "y_train_timing = X_Avec_Prix.index[taille_fenetre + horizon - 1:taille_fenetre + horizon - 1+len(y_train)]\n",
        "y_val_timing = X_Avec_Prix.index[taille_fenetre + horizon - 1:taille_fenetre + horizon - 1+len(y_val)]\n",
        "\n",
        "# Calcul des prédictions\n",
        "pred_ent = model.predict(x_train, verbose=1)\n",
        "pred_val = model.predict(x_val, verbose=1)"
      ],
      "execution_count": null,
      "outputs": []
    },
    {
      "cell_type": "code",
      "metadata": {
        "id": "KBixEA6vnkCD"
      },
      "source": [
        "import plotly.graph_objects as go\n",
        "\n",
        "fig = go.Figure()\n",
        "\n",
        "# Courbes originales\n",
        "fig.add_trace(go.Scatter(x=X_Avec_Prix.index,y=serie_entrainement_X_norm[0],line=dict(color='blue', width=1)))\n",
        "fig.add_trace(go.Scatter(x=X_Avec_Prix.index[temps_separation:],y=serie_test_X_norm[0],line=dict(color='blue', width=1)))\n",
        "\n",
        "# Courbes des prédictions d'entrainement\n",
        "fig.add_trace(go.Scatter(x=X_Avec_Prix.index[taille_fenetre+horizon-1:],y=pred_ent[:,taille_fenetre-1,0],line=dict(color='green', width=1)))\n",
        "\n",
        "# Courbes des prédictions de validations\n",
        "fig.add_trace(go.Scatter(x=X_Avec_Prix.index[temps_separation+taille_fenetre+horizon-1:],y=pred_val[:,taille_fenetre-1,0],line=dict(color='red', width=1)))\n",
        "\n",
        "\n",
        "fig.update_xaxes(rangeslider_visible=True)\n",
        "yaxis=dict(autorange = True,fixedrange= False)\n",
        "fig.update_yaxes(yaxis)\n",
        "fig.show()"
      ],
      "execution_count": null,
      "outputs": []
    },
    {
      "cell_type": "markdown",
      "metadata": {
        "id": "7in3IeG1nkCF"
      },
      "source": [
        "**4. Prédictions multi-step**"
      ]
    },
    {
      "cell_type": "code",
      "metadata": {
        "id": "buIyA-dNnkCF"
      },
      "source": [
        "predictions = []\n",
        "                                                        # x_val : (448,16,779)\n",
        "data_to_predict = x_val[0,:,:]                          # [[VAL#1_0,VAL#2_0, ... , VAL#779_0],[VAL#1_1,VAL#2_1, ... , VAL#779_1], ... , [VAL#1_15,VAL#2_15, ..., VAL#779_15]] : (16,779)\n",
        "data_to_predict = tf.expand_dims(data_to_predict,0)     # (1,16,779)\n",
        "\n",
        "prediction = model.predict(data_to_predict)             # [[[^VAL#1_1][^VAL#1_2]...[^VAL#1_16]]] : (1,16,1)\n",
        "predictions.append(prediction[0,taille_fenetre-1,0])    # [^VAL#1_16] : (1,)\n",
        "\n",
        "data_to_predict = x_val[1,0:taille_fenetre-1,:]         # [[VAL#1_1,VAL#2_1, ... , VAL#779_1],[VAL#1_2,VAL#2_2, ... , VAL#779_2], ... , [VAL#1_15,VAL#2_15, ..., VAL#779_15]] : (15,779)\n",
        "\n",
        "data_to_predict = np.insert(data_to_predict,taille_fenetre-1,     # [[VAL#1_1,VAL#2_1, ... , VAL#779_1],[VAL#1_2,VAL#2_2, ... , VAL#779_2], ... , [^VAL#1_16,VAL#2_16, ..., VAL#779_16]] : (16,779)\n",
        "                            np.concatenate((tf.expand_dims(np.array(predictions[0]),0),x_val[1,taille_fenetre-2,1:779]),axis=0),axis=0)\n",
        "\n",
        "for i in range(1,300):\n",
        "  data_to_predict = tf.expand_dims(data_to_predict,0)   # (16,779) => (1,16,779)\n",
        "  prediction = model.predict(data_to_predict)           # [[[^VAL#1_2][^VAL#1_3]...[^VAL#1_17]]] : (1,16,1)\n",
        "\n",
        "  predictions.append(prediction[0,taille_fenetre-1,0])  # [^VAL#1_17] : (1,)\n",
        "  data_to_predict = x_val[i+1,0:taille_fenetre-1,:]     # [[VAL#1_2,VAL#2_2, ... , VAL#779_2],[VAL#1_3,VAL#2_3, ... , VAL#779_3], ... , [VAL#1_17,VAL#2_17, ..., VAL#779_17]] : (15,779)\n",
        "\n",
        "  data_to_predict = np.insert(data_to_predict,taille_fenetre-1,     # [[VAL#1_1,VAL#2_1, ... , VAL#779_1],[VAL#1_2,VAL#2_2, ... , VAL#779_2], ... , [^VAL#1_16,VAL#2_16, ..., VAL#779_16]] : (16,779)\n",
        "                            np.concatenate((tf.expand_dims(np.array(predictions[i]),0),x_val[1,taille_fenetre-2,1:779]),axis=0),axis=0)"
      ],
      "execution_count": null,
      "outputs": []
    },
    {
      "cell_type": "code",
      "metadata": {
        "id": "za6q5srpnkCH"
      },
      "source": [
        "import plotly.graph_objects as go\n",
        "\n",
        "fig = go.Figure()\n",
        "\n",
        "n_max = len(predictions)\n",
        "\n",
        "# Courbes originales\n",
        "fig.add_trace(go.Scatter(x=X_Avec_Prix.index,y=serie_entrainement_X_norm[0],line=dict(color='blue', width=1)))\n",
        "fig.add_trace(go.Scatter(x=X_Avec_Prix.index[temps_separation:],y=serie_test_X_norm[0],line=dict(color='blue', width=1)))\n",
        "\n",
        "# Courbes des prédictions d'entrainement\n",
        "fig.add_trace(go.Scatter(x=X_Avec_Prix.index[taille_fenetre+horizon-1:],y=pred_ent[:,taille_fenetre-1,0],line=dict(color='green', width=1)))\n",
        "\n",
        "# Courbes des prédictions de validations\n",
        "fig.add_trace(go.Scatter(x=X_Avec_Prix.index[temps_separation+taille_fenetre+horizon-1:temps_separation+taille_fenetre+horizon-1+n_max],y=predictions[0:n_max],line=dict(color='red', width=1)))\n",
        "\n",
        "\n",
        "fig.update_xaxes(rangeslider_visible=True)\n",
        "yaxis=dict(autorange = True,fixedrange= False)\n",
        "fig.update_yaxes(yaxis)\n",
        "fig.show()"
      ],
      "execution_count": null,
      "outputs": []
    }
  ]
}