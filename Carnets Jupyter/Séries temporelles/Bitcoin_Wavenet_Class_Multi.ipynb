{
  "nbformat": 4,
  "nbformat_minor": 0,
  "metadata": {
    "colab": {
      "name": "Bitcoin_Wavenet_Class_Multi.ipynb",
      "provenance": [],
      "machine_shape": "hm",
      "include_colab_link": true
    },
    "kernelspec": {
      "name": "python3",
      "display_name": "Python 3"
    },
    "language_info": {
      "name": "python"
    },
    "accelerator": "GPU"
  },
  "cells": [
    {
      "cell_type": "markdown",
      "metadata": {
        "id": "view-in-github",
        "colab_type": "text"
      },
      "source": [
        "<a href=\"https://colab.research.google.com/github/AlexandreBourrieau/ML/blob/main/Carnets%20Jupyter/S%C3%A9ries%20temporelles/Bitcoin_Wavenet_Class_Multi.ipynb\" target=\"_parent\"><img src=\"https://colab.research.google.com/assets/colab-badge.svg\" alt=\"Open In Colab\"/></a>"
      ]
    },
    {
      "cell_type": "markdown",
      "metadata": {
        "id": "TVuCzMYKDp3z"
      },
      "source": [
        "# Chargement des données"
      ]
    },
    {
      "cell_type": "code",
      "metadata": {
        "id": "i3nLyKtnliCW"
      },
      "source": [
        "import tensorflow as tf\n",
        "from tensorflow import keras\n",
        "import numpy as np\n",
        "import matplotlib.pyplot as plt\n",
        "import plotly.express as px\n",
        "import pandas as pd\n",
        "\n",
        "\n",
        "import pandas as pd\n",
        "import numpy as np\n",
        "import seaborn as sns\n",
        "import re\n",
        "from sklearn.ensemble import RandomForestRegressor\n",
        "from sklearn.model_selection import train_test_split\n",
        "from sklearn.feature_selection import RFECV\n",
        "from sklearn.preprocessing import MinMaxScaler, RobustScaler\n",
        "from sklearn.impute import SimpleImputer\n",
        "from sklearn.pipeline import Pipeline\n",
        "import matplotlib.pyplot as plt\n",
        "import seaborn as sns\n",
        "\n",
        "import tensorflow as tf"
      ],
      "execution_count": null,
      "outputs": []
    },
    {
      "cell_type": "code",
      "metadata": {
        "id": "xyxxcCcl1Kb3"
      },
      "source": [
        "!rm *.zip\n",
        "!rm *.csv\n",
        "!wget -q --no-check-certificate --content-disposition \"https://github.com/AlexandreBourrieau/ML/blob/main/Carnets%20Jupyter/S%C3%A9ries%20temporelles/Bitcoin/Bitcoin_complet.zip?raw=true\"\n",
        "!unzip \"Bitcoin_complet.zip\""
      ],
      "execution_count": null,
      "outputs": []
    },
    {
      "cell_type": "markdown",
      "metadata": {
        "id": "MPJ6nnrRsUBm"
      },
      "source": [
        "Charge la série sous Pandas et affiche les informations du fichier :"
      ]
    },
    {
      "cell_type": "code",
      "metadata": {
        "id": "MR4EPWWwbO3O"
      },
      "source": [
        "# Création de la série sous Pandas\n",
        "df_data = pd.read_csv(\"Bitcoin_complet.csv\")\n",
        "df_data"
      ],
      "execution_count": null,
      "outputs": []
    },
    {
      "cell_type": "markdown",
      "metadata": {
        "id": "ix2qXtbTIyf2"
      },
      "source": [
        "# Analyse des indicateurs obtenus par RF"
      ]
    },
    {
      "cell_type": "code",
      "metadata": {
        "id": "kYl8AbWsNvpX"
      },
      "source": [
        "!rm *.zip\n",
        "!wget --no-check-certificate --content-disposition \"https://github.com/AlexandreBourrieau/ML/blob/main/Carnets%20Jupyter/S%C3%A9ries%20temporelles/Bitcoin/Bitcoin_X_one.zip?raw=true\"\n",
        "!wget --no-check-certificate --content-disposition \"https://github.com/AlexandreBourrieau/ML/blob/main/Carnets%20Jupyter/S%C3%A9ries%20temporelles/Bitcoin/Bitcoin_Y_one.zip?raw=true\"\n",
        "!unzip \"Bitcoin_X_one.zip\"\n",
        "!unzip \"Bitcoin_Y_one.zip\""
      ],
      "execution_count": null,
      "outputs": []
    },
    {
      "cell_type": "code",
      "metadata": {
        "id": "4xK_Uv9XOJsN"
      },
      "source": [
        "df_X_one = pd.read_csv(\"Bitcoin_X_one.csv\").iloc[:,1:]\n",
        "df_Y_one = pd.read_csv(\"Bitcoin_Y_one.csv\")['Price']"
      ],
      "execution_count": null,
      "outputs": []
    },
    {
      "cell_type": "markdown",
      "metadata": {
        "id": "cuzTUfEfQ8RU"
      },
      "source": [
        "**1. Cross-Validation sur les variables retenues**"
      ]
    },
    {
      "cell_type": "markdown",
      "metadata": {
        "id": "6bEv2NxbJJ4Z"
      },
      "source": [
        "Comparons les résultats obtenus par régression avec les variables retenues  :"
      ]
    },
    {
      "cell_type": "code",
      "metadata": {
        "id": "6lKZd_JfJLZ1"
      },
      "source": [
        "var_thres = [593,671,386,82,367,485,10,101,63,196,177,612,599,618,308,656,124,314,476,637,675,67,631,175,333,493,143,162,48,365,371,61,29,118,194,139,669,99,352,95,346,156,200,190,181,80,158,384,105,650,137,42,327,86,640,206,683,390,157,329,487,348,163,480,388,347,23,396,474,621,486,189,372,103,176,199,366,203,391,104,182,202,398,385,107,111,392,670,198,379,85,100,481,676,674,491,389,195,208,113,652,106,201,108,129,146,184,355,62,479,70,659,68,127,393,336,165,678,374,89,51,32,317,370,47,186,81,680,395,188,205,397,110,378,633,44,180,94,87,93,25,120,558,96,64,169,682,359,187,681,602,13,207,515,319,677,445,777,302,310,662,623,604,570,167,376,74,433,150,183,148,340,33,131,338,191,17,66,138,470,625,642,98,112,673,168,357,383,360,575,569,321,34,387,606,170,350,380,36,465,550,356,484,455,19,52,456,587,614,473,84,567,477,471,581,102,577,91,160,358,459,644,298,540,586,351,739,53,533,55,353,313,568,583,76,193,15,464,451,97,564,65,663,542,457,133,38,539,349,79,192,54,469,665,178,483,536,166,381,490,664,83,544,444,56,655,415,161,472,45,559,654,588,440,467,109,369,563,50,72,142,454,362,149,595,448,197,323,171,334,566,627,628,332,492,574,179,773,557,151,585,185,377,560,580,571,672,518,78,330,75,608,579,463,489,534,427,43,555,421,152,219,425,49,58,270,572,661,213,295,164,402,638,561,382,690,26,668,222,141,276,289,514,541,565,342,394,418,204,646,46,636,361,60,368,92,666,232,144]\n",
        "var_interp = [593,671,386,82,367,485,10,101,63,196,177,612,599,618,308,656,124,314,476,637,675,67,631,175,333,493,143,162,48,365,371,61,29,118,194,139,669,99,352,95,346,156,200,190,181,80,158,384,105,650,137,42,327,86,640,206,683,390,157,329,487,348,163,480,388,347,23,396,474,621,486,189,372,103,176,199,366,203,391,104,182,202,398,385,107,111,392,670,198,379,85,100,481,676,674,491,389,195,208,113,652,106,201,108,129,146,184,355,62,479,70,659,68,127,393,336,165,678,374,89,51,32,317,370,47,186,81,680,395,188,205,397,110,378,633,44,180,94,87,93,25,120,558,96,64,169,682,359,187,681,602,13,207,515,319,677,445,777,302,310,662,623,604,570,167,376,74,433,150,183,148,340,33,131,338,191,17,66,138,470,625,642,98,112,673,168,357,383,360,575,569,321,34,387,606,170,350,380,36,465,550,356,484,455,19,52,456,587,614,473]\n",
        "var_pred = [593,671,386,101,675,67,175,493,194,669,99,640,683,390,621,486,372,89,51,32,473]\n",
        "\n",
        "var_thres = np.subtract(var_thres,1).tolist()\n",
        "var_interp = np.subtract(var_interp,1).tolist()\n",
        "var_pred = np.subtract(var_pred,1).tolist()\n",
        "\n",
        "df_all = df_X_one\n",
        "df_thres = df_X_one.iloc[:,var_thres]\n",
        "df_interp = df_X_one.iloc[:,var_interp]\n",
        "df_pred = df_X_one.iloc[:,var_pred]\n",
        "\n",
        "#df_ = [df_all, df_thres, df_interp,df_pred]\n",
        "#df_ = [df_thres, df_interp,df_pred]\n",
        "#df_ = [df_interp,df_pred]\n",
        "df_ = [df_pred]\n"
      ],
      "execution_count": null,
      "outputs": []
    },
    {
      "cell_type": "code",
      "metadata": {
        "id": "ydye47_nPcpl"
      },
      "source": [
        "df_pred"
      ],
      "execution_count": null,
      "outputs": []
    },
    {
      "cell_type": "code",
      "metadata": {
        "id": "rkivMknQMde2"
      },
      "source": [
        "from sklearn.model_selection import KFold\n",
        "from sklearn.metrics import mean_squared_error\n",
        "\n",
        "kf = KFold(n_splits=5)\n",
        "\n",
        "means = []\n",
        "\n",
        "for df in df_:\n",
        "  print(\"# Variables : %d\" %len(df.columns))\n",
        "  n_arbres = 500\n",
        "  m_try = len(df.columns)\n",
        "  clf = RandomForestRegressor(n_estimators=n_arbres, bootstrap=True, oob_score=True, max_features=m_try, n_jobs=-1)\n",
        "\n",
        "  for train_index, test_index in kf.split(df):\n",
        "    test_index = train_index\n",
        "    clf.fit(df.iloc[train_index],np.asarray(df_Y_one.iloc[train_index]))\n",
        "    y_predict = clf.predict(df.iloc[test_index])\n",
        "    mse = mean_squared_error(y_predict,df_Y_one.iloc[test_index])\n",
        "    print(mse)"
      ],
      "execution_count": null,
      "outputs": []
    },
    {
      "cell_type": "markdown",
      "metadata": {
        "id": "Hr03cDV9RCdj"
      },
      "source": [
        "**2. Cross validation sur des variables tirées au hasard**\n"
      ]
    },
    {
      "cell_type": "code",
      "metadata": {
        "id": "foEs5HhcRD8j"
      },
      "source": [
        "from sklearn.model_selection import KFold\n",
        "from sklearn.metrics import mean_squared_error\n",
        "\n",
        "kf = KFold(n_splits=5)\n",
        "\n",
        "n = 21\n",
        "n_arbres = 500\n",
        "m_try = n\n",
        "\n",
        "clf = RandomForestRegressor(n_estimators=n_arbres, bootstrap=True, oob_score=True, max_features=m_try, n_jobs=-1)\n",
        "for i in range(1,1000):\n",
        "  df_all = df_X_one\n",
        "  index = np.random.randint(0,778,n)\n",
        "  df = df_all.iloc[:,index]\n",
        "  print(\"%s\" %index)\n",
        "\n",
        "  for train_index, test_index in kf.split(df):\n",
        "    test_index = train_index\n",
        "    clf.fit(df.iloc[train_index], np.asarray(df_Y_one.iloc[train_index]))\n",
        "    y_predict = clf.predict(df.iloc[test_index])\n",
        "    mse = mean_squared_error(y_predict,df_Y_one.iloc[test_index])\n",
        "    print(mse)"
      ],
      "execution_count": null,
      "outputs": []
    },
    {
      "cell_type": "markdown",
      "metadata": {
        "id": "wCJnSWwPR-Nb"
      },
      "source": [
        "**3. Corrélation des variables retenues**"
      ]
    },
    {
      "cell_type": "code",
      "metadata": {
        "id": "7Go93TI5SIwL"
      },
      "source": [
        "corr = df_pred.corr()\n",
        "\n",
        "# Generate a mask for the upper triangle\n",
        "mask = np.triu(np.ones_like(corr, dtype=np.bool))\n",
        "\n",
        "# Set up the matplotlib figure\n",
        "f, ax = plt.subplots(figsize=(15, 8))\n",
        "\n",
        "sns.heatmap(corr,mask=mask, cmap='coolwarm',annot=True, fmt='.2f')"
      ],
      "execution_count": null,
      "outputs": []
    },
    {
      "cell_type": "markdown",
      "metadata": {
        "id": "CPAeov3Qv7pd"
      },
      "source": [
        "**4. VIF**"
      ]
    },
    {
      "cell_type": "code",
      "metadata": {
        "id": "GFxPmXpSwkGy"
      },
      "source": [
        "from statsmodels.stats.outliers_influence import variance_inflation_factor\n",
        "from statsmodels.tools.tools import add_constant\n",
        "\n",
        "#function for removing features with high vif\n",
        "def drop_high_vif(X, thresh=100):\n",
        "    cols = X.columns\n",
        "    variables = np.arange(X.shape[1])\n",
        "    dropped=True\n",
        "    while dropped:\n",
        "        dropped=False\n",
        "        c = X[cols[variables]].values\n",
        "        vif = [variance_inflation_factor(c, ix) for ix in np.arange(c.shape[1])]\n",
        "\n",
        "        maxloc = vif.index(max(vif))\n",
        "        if max(vif) > thresh:\n",
        "            print('dropping \\'' + X[cols[variables]].columns[maxloc] + '\\' at index: ' + str(maxloc))\n",
        "            variables = np.delete(variables, maxloc)\n",
        "            dropped=True\n",
        "\n",
        "    print('Remaining variables:')\n",
        "    print(X.columns[variables])\n",
        "    return X[cols[variables]]\n",
        "\n",
        "#function for listing vif values\n",
        "def vif_values(X):\n",
        "    add_constant(X)\n",
        "    df=pd.Series([variance_inflation_factor(X.values, i) for i in range(X.shape[1])], index=X.columns)\n",
        "    return df\n"
      ],
      "execution_count": null,
      "outputs": []
    },
    {
      "cell_type": "code",
      "metadata": {
        "id": "cIXThg_Zwl8L"
      },
      "source": [
        "X_reduit_VIF = drop_high_vif(df_interp,thresh=10)\n",
        "X_reduit_VIF"
      ],
      "execution_count": null,
      "outputs": []
    },
    {
      "cell_type": "code",
      "metadata": {
        "id": "Gw63tADprF6D"
      },
      "source": [
        "import pickle\n",
        "\n",
        "f = open('VIF_interp.pckl', 'wb')\n",
        "pickle.dump(X_reduit_VIF, f)\n",
        "f.close()\n",
        "\n",
        "files.download('VIF_interp.pckl')"
      ],
      "execution_count": null,
      "outputs": []
    },
    {
      "cell_type": "code",
      "metadata": {
        "id": "eLux-KCCrpqh"
      },
      "source": [
        "f = open('VIF_interp.pckl', 'rb')\n",
        "X_reduit_VIF2 = pickle.load(f)\n",
        "f.close()"
      ],
      "execution_count": 240,
      "outputs": []
    },
    {
      "cell_type": "code",
      "metadata": {
        "id": "ML7TrVHkw13n",
        "colab": {
          "base_uri": "https://localhost:8080/",
          "height": 651
        },
        "outputId": "944ec81b-9537-4f68-b2e6-9483d2aa2cf0"
      },
      "source": [
        "corr = X_reduit_VIF.corr()\n",
        "\n",
        "# Generate a mask for the upper triangle\n",
        "mask = np.triu(np.ones_like(corr, dtype=np.bool))\n",
        "\n",
        "# Set up the matplotlib figure\n",
        "f, ax = plt.subplots(figsize=(15, 8))\n",
        "\n",
        "sns.heatmap(corr,mask=mask, cmap='coolwarm',annot=True, fmt='.2f')"
      ],
      "execution_count": 241,
      "outputs": [
        {
          "output_type": "execute_result",
          "data": {
            "text/plain": [
              "<matplotlib.axes._subplots.AxesSubplot at 0x7fb4b1b81890>"
            ]
          },
          "metadata": {
            "tags": []
          },
          "execution_count": 241
        },
        {
          "output_type": "display_data",
          "data": {
            "image/png": "[encoded data removed]",
            "text/plain": [
              "<Figure size 1080x576 with 2 Axes>"
            ]
          },
          "metadata": {
            "tags": [],
            "needs_background": "light"
          }
        }
      ]
    },
    {
      "cell_type": "code",
      "metadata": {
        "colab": {
          "base_uri": "https://localhost:8080/",
          "height": 470
        },
        "id": "0QCF6HQbVLS7",
        "outputId": "1570152f-4657-4169-f061-26f8e702af72"
      },
      "source": [
        "X_Avec_Prix = X_reduit_VIF\n",
        "X_Avec_Prix.insert(0,'Price',df_data['Price'])\n",
        "X_Avec_Prix = X_Avec_Prix.astype(dtype=np.float32)\n",
        "X_Avec_Prix\n"
      ],
      "execution_count": 242,
      "outputs": [
        {
          "output_type": "execute_result",
          "data": {
            "text/html": [
              "<div>\n",
              "<style scoped>\n",
              "    .dataframe tbody tr th:only-of-type {\n",
              "        vertical-align: middle;\n",
              "    }\n",
              "\n",
              "    .dataframe tbody tr th {\n",
              "        vertical-align: top;\n",
              "    }\n",
              "\n",
              "    .dataframe thead th {\n",
              "        text-align: right;\n",
              "    }\n",
              "</style>\n",
              "<table border=\"1\" class=\"dataframe\">\n",
              "  <thead>\n",
              "    <tr style=\"text-align: right;\">\n",
              "      <th></th>\n",
              "      <th>Price</th>\n",
              "      <th>Block Size_std90</th>\n",
              "      <th>Median Transaction Value_std90</th>\n",
              "      <th>Transaction Value_std90</th>\n",
              "      <th>Profiltability_sma90</th>\n",
              "      <th>#From_Adresses_skew30</th>\n",
              "      <th>Block Time_skew7</th>\n",
              "      <th>Google GTrends_std14</th>\n",
              "      <th>Top100_roc90</th>\n",
              "      <th>#Active_Adresses_skew90</th>\n",
              "      <th>Profiltability_std7</th>\n",
              "      <th>Transaction Fee_ema7</th>\n",
              "      <th>FeeInReward_sma90</th>\n",
              "      <th>Transaction Fee_skew90</th>\n",
              "      <th>Tweets_skew30</th>\n",
              "      <th>Tweets_skew14</th>\n",
              "      <th>Tweets_std14</th>\n",
              "      <th>Top100_skew90</th>\n",
              "      <th>Transaction Value_trix7</th>\n",
              "      <th>Top100_std30</th>\n",
              "    </tr>\n",
              "  </thead>\n",
              "  <tbody>\n",
              "    <tr>\n",
              "      <th>0</th>\n",
              "      <td>502.665009</td>\n",
              "      <td>37405.636719</td>\n",
              "      <td>21.850662</td>\n",
              "      <td>2926.509277</td>\n",
              "      <td>18.546366</td>\n",
              "      <td>-0.454348</td>\n",
              "      <td>1.198692</td>\n",
              "      <td>0.775962</td>\n",
              "      <td>0.737374</td>\n",
              "      <td>-0.195150</td>\n",
              "      <td>0.689911</td>\n",
              "      <td>0.081840</td>\n",
              "      <td>0.280778</td>\n",
              "      <td>5.898864</td>\n",
              "      <td>-0.127467</td>\n",
              "      <td>0.505433</td>\n",
              "      <td>2759.778076</td>\n",
              "      <td>0.374866</td>\n",
              "      <td>4762.684082</td>\n",
              "      <td>0.164101</td>\n",
              "    </tr>\n",
              "    <tr>\n",
              "      <th>1</th>\n",
              "      <td>488.835999</td>\n",
              "      <td>37674.542969</td>\n",
              "      <td>21.478903</td>\n",
              "      <td>2903.796143</td>\n",
              "      <td>18.290379</td>\n",
              "      <td>-0.374010</td>\n",
              "      <td>2.004091</td>\n",
              "      <td>0.774713</td>\n",
              "      <td>0.732582</td>\n",
              "      <td>-0.196855</td>\n",
              "      <td>0.561202</td>\n",
              "      <td>0.080255</td>\n",
              "      <td>0.280178</td>\n",
              "      <td>5.834639</td>\n",
              "      <td>-0.092574</td>\n",
              "      <td>0.720903</td>\n",
              "      <td>2868.392578</td>\n",
              "      <td>0.379693</td>\n",
              "      <td>4068.383545</td>\n",
              "      <td>0.172641</td>\n",
              "    </tr>\n",
              "    <tr>\n",
              "      <th>2</th>\n",
              "      <td>479.420990</td>\n",
              "      <td>38237.070312</td>\n",
              "      <td>20.675640</td>\n",
              "      <td>2886.919678</td>\n",
              "      <td>18.039278</td>\n",
              "      <td>-0.407112</td>\n",
              "      <td>2.040239</td>\n",
              "      <td>0.559380</td>\n",
              "      <td>0.368371</td>\n",
              "      <td>-0.197071</td>\n",
              "      <td>1.450959</td>\n",
              "      <td>0.078816</td>\n",
              "      <td>0.280389</td>\n",
              "      <td>5.841084</td>\n",
              "      <td>-0.092250</td>\n",
              "      <td>0.962280</td>\n",
              "      <td>2875.654541</td>\n",
              "      <td>0.380491</td>\n",
              "      <td>4058.456543</td>\n",
              "      <td>0.176796</td>\n",
              "    </tr>\n",
              "    <tr>\n",
              "      <th>3</th>\n",
              "      <td>477.175995</td>\n",
              "      <td>38419.089844</td>\n",
              "      <td>19.992603</td>\n",
              "      <td>2852.070068</td>\n",
              "      <td>17.802967</td>\n",
              "      <td>-0.242339</td>\n",
              "      <td>1.053293</td>\n",
              "      <td>0.521028</td>\n",
              "      <td>0.206445</td>\n",
              "      <td>-0.181406</td>\n",
              "      <td>1.358996</td>\n",
              "      <td>0.078387</td>\n",
              "      <td>0.280944</td>\n",
              "      <td>5.819986</td>\n",
              "      <td>-0.169993</td>\n",
              "      <td>1.023698</td>\n",
              "      <td>2766.822998</td>\n",
              "      <td>0.382186</td>\n",
              "      <td>3616.934570</td>\n",
              "      <td>0.179679</td>\n",
              "    </tr>\n",
              "    <tr>\n",
              "      <th>4</th>\n",
              "      <td>475.398010</td>\n",
              "      <td>38312.109375</td>\n",
              "      <td>19.735687</td>\n",
              "      <td>2833.286133</td>\n",
              "      <td>17.575989</td>\n",
              "      <td>-0.270716</td>\n",
              "      <td>1.053293</td>\n",
              "      <td>0.480542</td>\n",
              "      <td>0.110642</td>\n",
              "      <td>-0.144187</td>\n",
              "      <td>1.305018</td>\n",
              "      <td>0.077240</td>\n",
              "      <td>0.280256</td>\n",
              "      <td>5.785434</td>\n",
              "      <td>-0.234782</td>\n",
              "      <td>-0.038450</td>\n",
              "      <td>2072.026123</td>\n",
              "      <td>0.383474</td>\n",
              "      <td>3083.556396</td>\n",
              "      <td>0.181297</td>\n",
              "    </tr>\n",
              "    <tr>\n",
              "      <th>...</th>\n",
              "      <td>...</td>\n",
              "      <td>...</td>\n",
              "      <td>...</td>\n",
              "      <td>...</td>\n",
              "      <td>...</td>\n",
              "      <td>...</td>\n",
              "      <td>...</td>\n",
              "      <td>...</td>\n",
              "      <td>...</td>\n",
              "      <td>...</td>\n",
              "      <td>...</td>\n",
              "      <td>...</td>\n",
              "      <td>...</td>\n",
              "      <td>...</td>\n",
              "      <td>...</td>\n",
              "      <td>...</td>\n",
              "      <td>...</td>\n",
              "      <td>...</td>\n",
              "      <td>...</td>\n",
              "      <td>...</td>\n",
              "    </tr>\n",
              "    <tr>\n",
              "      <th>2427</th>\n",
              "      <td>53812.000000</td>\n",
              "      <td>13193.796875</td>\n",
              "      <td>212.020157</td>\n",
              "      <td>69190.210938</td>\n",
              "      <td>0.330456</td>\n",
              "      <td>-0.569929</td>\n",
              "      <td>-0.270844</td>\n",
              "      <td>40.637394</td>\n",
              "      <td>7.136012</td>\n",
              "      <td>-2.686846</td>\n",
              "      <td>0.057523</td>\n",
              "      <td>52.345833</td>\n",
              "      <td>12.020033</td>\n",
              "      <td>2.337403</td>\n",
              "      <td>-0.177154</td>\n",
              "      <td>1.174640</td>\n",
              "      <td>27795.339844</td>\n",
              "      <td>-0.258725</td>\n",
              "      <td>432996.593750</td>\n",
              "      <td>0.106595</td>\n",
              "    </tr>\n",
              "    <tr>\n",
              "      <th>2428</th>\n",
              "      <td>49891.000000</td>\n",
              "      <td>13232.340820</td>\n",
              "      <td>207.741043</td>\n",
              "      <td>68303.812500</td>\n",
              "      <td>0.331556</td>\n",
              "      <td>-0.500339</td>\n",
              "      <td>0.359701</td>\n",
              "      <td>47.007473</td>\n",
              "      <td>7.796235</td>\n",
              "      <td>-2.689953</td>\n",
              "      <td>0.043473</td>\n",
              "      <td>50.638874</td>\n",
              "      <td>12.208111</td>\n",
              "      <td>2.231877</td>\n",
              "      <td>-0.179657</td>\n",
              "      <td>1.002057</td>\n",
              "      <td>27295.603516</td>\n",
              "      <td>-0.269179</td>\n",
              "      <td>401365.218750</td>\n",
              "      <td>0.113671</td>\n",
              "    </tr>\n",
              "    <tr>\n",
              "      <th>2429</th>\n",
              "      <td>50077.000000</td>\n",
              "      <td>13172.380859</td>\n",
              "      <td>205.604202</td>\n",
              "      <td>67404.085938</td>\n",
              "      <td>0.333189</td>\n",
              "      <td>-0.421358</td>\n",
              "      <td>0.889810</td>\n",
              "      <td>51.630440</td>\n",
              "      <td>7.655467</td>\n",
              "      <td>-2.725547</td>\n",
              "      <td>0.050232</td>\n",
              "      <td>45.235405</td>\n",
              "      <td>12.313222</td>\n",
              "      <td>2.237656</td>\n",
              "      <td>-0.060843</td>\n",
              "      <td>0.844288</td>\n",
              "      <td>29019.841797</td>\n",
              "      <td>-0.282014</td>\n",
              "      <td>329043.562500</td>\n",
              "      <td>0.119850</td>\n",
              "    </tr>\n",
              "    <tr>\n",
              "      <th>2430</th>\n",
              "      <td>49657.000000</td>\n",
              "      <td>13108.447266</td>\n",
              "      <td>207.981781</td>\n",
              "      <td>67306.109375</td>\n",
              "      <td>0.333878</td>\n",
              "      <td>-0.531352</td>\n",
              "      <td>1.078419</td>\n",
              "      <td>53.039776</td>\n",
              "      <td>7.909231</td>\n",
              "      <td>-2.685443</td>\n",
              "      <td>0.061256</td>\n",
              "      <td>39.919304</td>\n",
              "      <td>12.328100</td>\n",
              "      <td>2.243276</td>\n",
              "      <td>0.068292</td>\n",
              "      <td>0.695535</td>\n",
              "      <td>30226.943359</td>\n",
              "      <td>-0.279338</td>\n",
              "      <td>324696.125000</td>\n",
              "      <td>0.129055</td>\n",
              "    </tr>\n",
              "    <tr>\n",
              "      <th>2431</th>\n",
              "      <td>53000.000000</td>\n",
              "      <td>13135.153320</td>\n",
              "      <td>206.599686</td>\n",
              "      <td>68122.781250</td>\n",
              "      <td>0.334756</td>\n",
              "      <td>-0.463820</td>\n",
              "      <td>1.281804</td>\n",
              "      <td>52.451698</td>\n",
              "      <td>7.511531</td>\n",
              "      <td>-2.570948</td>\n",
              "      <td>0.066277</td>\n",
              "      <td>39.178726</td>\n",
              "      <td>12.456400</td>\n",
              "      <td>2.199332</td>\n",
              "      <td>0.055010</td>\n",
              "      <td>0.866580</td>\n",
              "      <td>30222.308594</td>\n",
              "      <td>-0.286269</td>\n",
              "      <td>403171.125000</td>\n",
              "      <td>0.135769</td>\n",
              "    </tr>\n",
              "  </tbody>\n",
              "</table>\n",
              "<p>2432 rows × 20 columns</p>\n",
              "</div>"
            ],
            "text/plain": [
              "             Price  Block Size_std90  ...  Transaction Value_trix7  Top100_std30\n",
              "0       502.665009      37405.636719  ...              4762.684082      0.164101\n",
              "1       488.835999      37674.542969  ...              4068.383545      0.172641\n",
              "2       479.420990      38237.070312  ...              4058.456543      0.176796\n",
              "3       477.175995      38419.089844  ...              3616.934570      0.179679\n",
              "4       475.398010      38312.109375  ...              3083.556396      0.181297\n",
              "...            ...               ...  ...                      ...           ...\n",
              "2427  53812.000000      13193.796875  ...            432996.593750      0.106595\n",
              "2428  49891.000000      13232.340820  ...            401365.218750      0.113671\n",
              "2429  50077.000000      13172.380859  ...            329043.562500      0.119850\n",
              "2430  49657.000000      13108.447266  ...            324696.125000      0.129055\n",
              "2431  53000.000000      13135.153320  ...            403171.125000      0.135769\n",
              "\n",
              "[2432 rows x 20 columns]"
            ]
          },
          "metadata": {
            "tags": []
          },
          "execution_count": 242
        }
      ]
    },
    {
      "cell_type": "markdown",
      "metadata": {
        "id": "KKFVK01eC_Tj"
      },
      "source": [
        "# Normalisation mu-law"
      ]
    },
    {
      "cell_type": "code",
      "metadata": {
        "id": "VlawkkUGKaH-"
      },
      "source": [
        "X_Avec_Prix = df_data\n",
        "X_Avec_Prix = X_Avec_Prix.drop(columns=['Dates', 'Price'])\n",
        "Xdrop = SimpleImputer(missing_values=np.nan,strategy='most_frequent').fit_transform(X_Avec_Prix)\n",
        "Xdrop = pd.DataFrame(Xdrop)\n",
        "Xdrop.columns = X_Avec_Prix.columns\n",
        "X_Avec_Prix = Xdrop\n",
        "X_Avec_Prix = X_Avec_Prix\n",
        "X_Avec_Prix = X_Avec_Prix.iloc[:,var_pred]\n",
        "X_Avec_Prix.insert(0,'Price',df_data['Price'])\n",
        "X_Avec_Prix = X_Avec_Prix.astype(dtype=np.float32)\n",
        "X_Avec_Prix"
      ],
      "execution_count": null,
      "outputs": []
    },
    {
      "cell_type": "code",
      "metadata": {
        "id": "NpEgVy8S9rHb",
        "colab": {
          "base_uri": "https://localhost:8080/",
          "height": 355
        },
        "outputId": "529cda98-73e7-4b90-fc97-6b97ede31e78"
      },
      "source": [
        "import pandas as pd\n",
        "from sklearn import preprocessing\n",
        "\n",
        "mu = 255.0\n",
        "\n",
        "x = X_Avec_Prix.values #returns a numpy array\n",
        "min_max_scaler = preprocessing.MinMaxScaler()\n",
        "x_scaled = min_max_scaler.fit_transform(x)\n",
        "x_scaled = tf.math.log(1+mu*tf.math.abs(x))/tf.math.log(1+mu)\n",
        "X_Avec_Prix_norm = pd.DataFrame(x_scaled,dtype=np.float32)\n",
        "X_Avec_Prix_norm[0:10]"
      ],
      "execution_count": 243,
      "outputs": [
        {
          "output_type": "execute_result",
          "data": {
            "text/html": [
              "<div>\n",
              "<style scoped>\n",
              "    .dataframe tbody tr th:only-of-type {\n",
              "        vertical-align: middle;\n",
              "    }\n",
              "\n",
              "    .dataframe tbody tr th {\n",
              "        vertical-align: top;\n",
              "    }\n",
              "\n",
              "    .dataframe thead th {\n",
              "        text-align: right;\n",
              "    }\n",
              "</style>\n",
              "<table border=\"1\" class=\"dataframe\">\n",
              "  <thead>\n",
              "    <tr style=\"text-align: right;\">\n",
              "      <th></th>\n",
              "      <th>0</th>\n",
              "      <th>1</th>\n",
              "      <th>2</th>\n",
              "      <th>3</th>\n",
              "      <th>4</th>\n",
              "      <th>5</th>\n",
              "      <th>6</th>\n",
              "      <th>7</th>\n",
              "      <th>8</th>\n",
              "      <th>9</th>\n",
              "      <th>10</th>\n",
              "      <th>11</th>\n",
              "      <th>12</th>\n",
              "      <th>13</th>\n",
              "      <th>14</th>\n",
              "      <th>15</th>\n",
              "      <th>16</th>\n",
              "      <th>17</th>\n",
              "      <th>18</th>\n",
              "      <th>19</th>\n",
              "    </tr>\n",
              "  </thead>\n",
              "  <tbody>\n",
              "    <tr>\n",
              "      <th>0</th>\n",
              "      <td>2.120977</td>\n",
              "      <td>2.898165</td>\n",
              "      <td>1.555527</td>\n",
              "      <td>2.438665</td>\n",
              "      <td>1.525965</td>\n",
              "      <td>0.858578</td>\n",
              "      <td>1.032566</td>\n",
              "      <td>0.954460</td>\n",
              "      <td>0.945309</td>\n",
              "      <td>0.708214</td>\n",
              "      <td>0.933376</td>\n",
              "      <td>0.556354</td>\n",
              "      <td>0.772733</td>\n",
              "      <td>1.319469</td>\n",
              "      <td>0.633283</td>\n",
              "      <td>0.877637</td>\n",
              "      <td>2.428087</td>\n",
              "      <td>0.824227</td>\n",
              "      <td>2.526489</td>\n",
              "      <td>0.677635</td>\n",
              "    </tr>\n",
              "    <tr>\n",
              "      <th>1</th>\n",
              "      <td>2.115946</td>\n",
              "      <td>2.899457</td>\n",
              "      <td>1.552433</td>\n",
              "      <td>2.437260</td>\n",
              "      <td>1.523459</td>\n",
              "      <td>0.823819</td>\n",
              "      <td>1.125015</td>\n",
              "      <td>0.954172</td>\n",
              "      <td>0.944140</td>\n",
              "      <td>0.709752</td>\n",
              "      <td>0.896374</td>\n",
              "      <td>0.552989</td>\n",
              "      <td>0.772353</td>\n",
              "      <td>1.317496</td>\n",
              "      <td>0.577621</td>\n",
              "      <td>0.941257</td>\n",
              "      <td>2.435048</td>\n",
              "      <td>0.826510</td>\n",
              "      <td>2.498074</td>\n",
              "      <td>0.686576</td>\n",
              "    </tr>\n",
              "    <tr>\n",
              "      <th>2</th>\n",
              "      <td>2.112439</td>\n",
              "      <td>2.902130</td>\n",
              "      <td>1.545561</td>\n",
              "      <td>2.436209</td>\n",
              "      <td>1.520967</td>\n",
              "      <td>0.838960</td>\n",
              "      <td>1.128233</td>\n",
              "      <td>0.895792</td>\n",
              "      <td>0.821108</td>\n",
              "      <td>0.709946</td>\n",
              "      <td>1.066907</td>\n",
              "      <td>0.549881</td>\n",
              "      <td>0.772487</td>\n",
              "      <td>1.317695</td>\n",
              "      <td>0.577014</td>\n",
              "      <td>0.993094</td>\n",
              "      <td>2.435504</td>\n",
              "      <td>0.826885</td>\n",
              "      <td>2.497634</td>\n",
              "      <td>0.690770</td>\n",
              "    </tr>\n",
              "    <tr>\n",
              "      <th>3</th>\n",
              "      <td>2.111593</td>\n",
              "      <td>2.902986</td>\n",
              "      <td>1.539504</td>\n",
              "      <td>2.434019</td>\n",
              "      <td>1.518590</td>\n",
              "      <td>0.746577</td>\n",
              "      <td>1.009328</td>\n",
              "      <td>0.883076</td>\n",
              "      <td>0.718166</td>\n",
              "      <td>0.695313</td>\n",
              "      <td>1.055131</td>\n",
              "      <td>0.548943</td>\n",
              "      <td>0.772839</td>\n",
              "      <td>1.317043</td>\n",
              "      <td>0.683850</td>\n",
              "      <td>1.004207</td>\n",
              "      <td>2.428546</td>\n",
              "      <td>0.827678</td>\n",
              "      <td>2.476863</td>\n",
              "      <td>0.693625</td>\n",
              "    </tr>\n",
              "    <tr>\n",
              "      <th>4</th>\n",
              "      <td>2.110920</td>\n",
              "      <td>2.902483</td>\n",
              "      <td>1.537172</td>\n",
              "      <td>2.432827</td>\n",
              "      <td>1.516276</td>\n",
              "      <td>0.766244</td>\n",
              "      <td>1.009328</td>\n",
              "      <td>0.868602</td>\n",
              "      <td>0.608571</td>\n",
              "      <td>0.654886</td>\n",
              "      <td>1.047844</td>\n",
              "      <td>0.546413</td>\n",
              "      <td>0.772402</td>\n",
              "      <td>1.315970</td>\n",
              "      <td>0.740956</td>\n",
              "      <td>0.429199</td>\n",
              "      <td>2.376398</td>\n",
              "      <td>0.828279</td>\n",
              "      <td>2.448092</td>\n",
              "      <td>0.695207</td>\n",
              "    </tr>\n",
              "    <tr>\n",
              "      <th>5</th>\n",
              "      <td>2.113144</td>\n",
              "      <td>2.901640</td>\n",
              "      <td>1.535913</td>\n",
              "      <td>2.429702</td>\n",
              "      <td>1.514206</td>\n",
              "      <td>0.750434</td>\n",
              "      <td>0.924779</td>\n",
              "      <td>0.876929</td>\n",
              "      <td>0.879201</td>\n",
              "      <td>0.601719</td>\n",
              "      <td>1.055538</td>\n",
              "      <td>0.545889</td>\n",
              "      <td>0.772204</td>\n",
              "      <td>1.314788</td>\n",
              "      <td>0.773850</td>\n",
              "      <td>0.865382</td>\n",
              "      <td>2.404584</td>\n",
              "      <td>0.828889</td>\n",
              "      <td>2.425952</td>\n",
              "      <td>0.697131</td>\n",
              "    </tr>\n",
              "    <tr>\n",
              "      <th>6</th>\n",
              "      <td>2.114370</td>\n",
              "      <td>2.900738</td>\n",
              "      <td>1.534592</td>\n",
              "      <td>2.429421</td>\n",
              "      <td>1.511781</td>\n",
              "      <td>0.749049</td>\n",
              "      <td>0.310126</td>\n",
              "      <td>0.883262</td>\n",
              "      <td>0.800328</td>\n",
              "      <td>0.622136</td>\n",
              "      <td>1.045191</td>\n",
              "      <td>0.546887</td>\n",
              "      <td>0.772747</td>\n",
              "      <td>1.314022</td>\n",
              "      <td>0.771571</td>\n",
              "      <td>0.830561</td>\n",
              "      <td>2.409205</td>\n",
              "      <td>0.829125</td>\n",
              "      <td>2.434672</td>\n",
              "      <td>0.698160</td>\n",
              "    </tr>\n",
              "    <tr>\n",
              "      <th>7</th>\n",
              "      <td>2.113213</td>\n",
              "      <td>2.901844</td>\n",
              "      <td>1.534000</td>\n",
              "      <td>2.426494</td>\n",
              "      <td>1.509975</td>\n",
              "      <td>0.707195</td>\n",
              "      <td>0.099954</td>\n",
              "      <td>0.887524</td>\n",
              "      <td>0.825940</td>\n",
              "      <td>0.572918</td>\n",
              "      <td>1.000401</td>\n",
              "      <td>0.544570</td>\n",
              "      <td>0.772430</td>\n",
              "      <td>1.313455</td>\n",
              "      <td>0.719771</td>\n",
              "      <td>0.710924</td>\n",
              "      <td>2.400618</td>\n",
              "      <td>0.829132</td>\n",
              "      <td>2.402040</td>\n",
              "      <td>0.697826</td>\n",
              "    </tr>\n",
              "    <tr>\n",
              "      <th>8</th>\n",
              "      <td>2.113312</td>\n",
              "      <td>2.902019</td>\n",
              "      <td>1.532891</td>\n",
              "      <td>2.427038</td>\n",
              "      <td>1.507333</td>\n",
              "      <td>0.643620</td>\n",
              "      <td>0.605402</td>\n",
              "      <td>0.888526</td>\n",
              "      <td>0.803112</td>\n",
              "      <td>0.716808</td>\n",
              "      <td>0.973629</td>\n",
              "      <td>0.585371</td>\n",
              "      <td>0.774009</td>\n",
              "      <td>1.303235</td>\n",
              "      <td>0.583968</td>\n",
              "      <td>0.868205</td>\n",
              "      <td>2.388010</td>\n",
              "      <td>0.829018</td>\n",
              "      <td>2.409744</td>\n",
              "      <td>0.695957</td>\n",
              "    </tr>\n",
              "    <tr>\n",
              "      <th>9</th>\n",
              "      <td>2.108888</td>\n",
              "      <td>2.904496</td>\n",
              "      <td>1.530387</td>\n",
              "      <td>2.427429</td>\n",
              "      <td>1.504946</td>\n",
              "      <td>0.755035</td>\n",
              "      <td>0.924705</td>\n",
              "      <td>0.886714</td>\n",
              "      <td>0.685185</td>\n",
              "      <td>0.727742</td>\n",
              "      <td>0.942282</td>\n",
              "      <td>0.575760</td>\n",
              "      <td>0.774428</td>\n",
              "      <td>1.303433</td>\n",
              "      <td>0.634030</td>\n",
              "      <td>0.671801</td>\n",
              "      <td>2.391368</td>\n",
              "      <td>0.829188</td>\n",
              "      <td>2.426641</td>\n",
              "      <td>0.693063</td>\n",
              "    </tr>\n",
              "  </tbody>\n",
              "</table>\n",
              "</div>"
            ],
            "text/plain": [
              "         0         1         2   ...        17        18        19\n",
              "0  2.120977  2.898165  1.555527  ...  0.824227  2.526489  0.677635\n",
              "1  2.115946  2.899457  1.552433  ...  0.826510  2.498074  0.686576\n",
              "2  2.112439  2.902130  1.545561  ...  0.826885  2.497634  0.690770\n",
              "3  2.111593  2.902986  1.539504  ...  0.827678  2.476863  0.693625\n",
              "4  2.110920  2.902483  1.537172  ...  0.828279  2.448092  0.695207\n",
              "5  2.113144  2.901640  1.535913  ...  0.828889  2.425952  0.697131\n",
              "6  2.114370  2.900738  1.534592  ...  0.829125  2.434672  0.698160\n",
              "7  2.113213  2.901844  1.534000  ...  0.829132  2.402040  0.697826\n",
              "8  2.113312  2.902019  1.532891  ...  0.829018  2.409744  0.695957\n",
              "9  2.108888  2.904496  1.530387  ...  0.829188  2.426641  0.693063\n",
              "\n",
              "[10 rows x 20 columns]"
            ]
          },
          "metadata": {
            "tags": []
          },
          "execution_count": 243
        }
      ]
    },
    {
      "cell_type": "markdown",
      "metadata": {
        "id": "Eah20FyiTJ7c"
      },
      "source": [
        "**1. Séparation des données en données pour l'entrainement et la validation**"
      ]
    },
    {
      "cell_type": "markdown",
      "metadata": {
        "id": "nnhC-39gTJ7d"
      },
      "source": [
        "On réserve 20% des données pour l'entrainement et le reste pour la validation :"
      ]
    },
    {
      "cell_type": "code",
      "metadata": {
        "id": "mwXIe8_ETJ7d",
        "colab": {
          "base_uri": "https://localhost:8080/"
        },
        "outputId": "31b90479-0521-43e9-f8ad-cab4fb245e5c"
      },
      "source": [
        "# Sépare les données en entrainement et tests\n",
        "pourcentage = 0.8\n",
        "temps_separation = int(len(X_Avec_Prix_norm) * pourcentage)\n",
        "date_separation = X_Avec_Prix_norm.index[temps_separation]\n",
        "\n",
        "serie_entrainement_X = []\n",
        "serie_test_X = []\n",
        "\n",
        "for column in X_Avec_Prix_norm:\n",
        "  serie_entrainement_X.append(np.array(X_Avec_Prix_norm[column][:temps_separation],dtype=np.float32))\n",
        "  serie_test_X.append(np.array(X_Avec_Prix_norm[column][temps_separation:],dtype=np.float32))\n",
        "\n",
        "print(\"Taille de l'entrainement : %d\" %len(serie_entrainement_X[0]))\n",
        "print(\"Taille de la validation : %d\" %len(serie_test_X[0]))"
      ],
      "execution_count": 244,
      "outputs": [
        {
          "output_type": "stream",
          "text": [
            "Taille de l'entrainement : 1945\n",
            "Taille de la validation : 487\n"
          ],
          "name": "stdout"
        }
      ]
    },
    {
      "cell_type": "code",
      "metadata": {
        "id": "F8g7cFxmTJ76"
      },
      "source": [
        "# Affiche la série X\n",
        "fig, ax = plt.subplots(constrained_layout=True, figsize=(15,5))\n",
        "\n",
        "for i in range(0,len(X_Avec_Prix_norm.columns)):\n",
        "  ax.plot(X_Avec_Prix_norm.index[:temps_separation].values,serie_entrainement_X[i], label=\"X_Ent\")\n",
        "  ax.plot(X_Avec_Prix_norm.index[temps_separation:].values,serie_test_X[i], label=\"X_Val\")\n",
        "\n",
        "ax.legend()\n",
        "plt.show()"
      ],
      "execution_count": null,
      "outputs": []
    },
    {
      "cell_type": "markdown",
      "metadata": {
        "id": "wr9CM2ZmYNl0"
      },
      "source": [
        "# Création des datasets"
      ]
    },
    {
      "cell_type": "code",
      "metadata": {
        "id": "Za_l_dloebyZ"
      },
      "source": [
        "# Fonction permettant de créer un dataset à partir des données de la série temporelle\n",
        "# Sans les prix\n",
        "\n",
        "def prepare_dataset_XY(series, taille_fenetre, horizon, batch_size):\n",
        "  serie_concat = tf.expand_dims(series[0],1)\n",
        "\n",
        "  for i in range(1,len(series)):\n",
        "    serie_ = tf.expand_dims(series[i],1)\n",
        "    serie_concat = tf.concat([serie_concat,serie_],1)\n",
        "\n",
        "  dataset = tf.data.Dataset.from_tensor_slices(serie_concat)\n",
        "  dataset = dataset.window(taille_fenetre+horizon, shift=1, drop_remainder=True)\n",
        "  dataset = dataset.flat_map(lambda x: x.batch(taille_fenetre + horizon))\n",
        "  dataset = dataset.map(lambda x: (x[0:taille_fenetre][:,1:],tf.expand_dims(x[-1:][:,0],1)))\n",
        "\n",
        "  dataset = dataset.batch(batch_size,drop_remainder=True).prefetch(1)\n",
        "  return dataset"
      ],
      "execution_count": 245,
      "outputs": []
    },
    {
      "cell_type": "code",
      "metadata": {
        "id": "nK6G5AVZYNmU"
      },
      "source": [
        "# Fonction permettant de créer un dataset à partir des données de la série temporelle\n",
        "\n",
        "def prepare_dataset_XY(series, taille_fenetre, horizon, batch_size):\n",
        "  serie_concat = tf.expand_dims(series[0],1)\n",
        "\n",
        "  for i in range(1,len(series)):\n",
        "    serie_ = tf.expand_dims(series[i],1)\n",
        "    serie_concat = tf.concat([serie_concat,serie_],1)\n",
        "\n",
        "  dataset = tf.data.Dataset.from_tensor_slices(serie_concat)\n",
        "  dataset = dataset.window(taille_fenetre+horizon, shift=1, drop_remainder=True)\n",
        "  dataset = dataset.flat_map(lambda x: x.batch(taille_fenetre + horizon))\n",
        "  dataset = dataset.map(lambda x: (x[0:taille_fenetre],tf.expand_dims(x[-1:][:,0],1)))\n",
        "\n",
        "  dataset = dataset.batch(batch_size,drop_remainder=True).prefetch(1)\n",
        "  return dataset"
      ],
      "execution_count": 246,
      "outputs": []
    },
    {
      "cell_type": "code",
      "metadata": {
        "id": "OqoAHg2MYNmW"
      },
      "source": [
        "# Définition des caractéristiques du dataset que l'on souhaite créer\n",
        "taille_fenetre = 16\n",
        "horizon = 1\n",
        "batch_size = 1\n",
        "\n",
        "# Création du dataset\n",
        "dataset = prepare_dataset_XY(serie_entrainement_X,taille_fenetre,horizon,batch_size)\n",
        "dataset_val = prepare_dataset_XY(serie_test_X,taille_fenetre,horizon,batch_size)"
      ],
      "execution_count": 247,
      "outputs": []
    },
    {
      "cell_type": "code",
      "metadata": {
        "id": "USVHzg-GYNmX"
      },
      "source": [
        "print(len(list(dataset.as_numpy_iterator())))\n",
        "for element in dataset.take(1):\n",
        "  print(element[0].shape)\n",
        "  print(element[1].shape)"
      ],
      "execution_count": null,
      "outputs": []
    },
    {
      "cell_type": "code",
      "metadata": {
        "id": "OA6tsfl4YNmY"
      },
      "source": [
        "for element in dataset.take(2):\n",
        "  print(element)\n"
      ],
      "execution_count": null,
      "outputs": []
    },
    {
      "cell_type": "markdown",
      "metadata": {
        "id": "VAwyM48zYNmZ"
      },
      "source": [
        "On extrait maintenant les deux tenseurs (X,Y) pour l'entrainement :"
      ]
    },
    {
      "cell_type": "code",
      "metadata": {
        "id": "Q87LZFryIx2b"
      },
      "source": [
        "# Extrait les X,Y du dataset\n",
        "x,y = tuple(zip(*dataset))              # #60x((32,16,22),(32,1,1)) => x = 60x(32,16,22) ; y = 60x(32,1,1)\n",
        "\n",
        "# Recombine les données\n",
        "x = np.asarray(x,dtype=np.float32)      # 60x(32,16,22) => (60,32,16,22)\n",
        "y = np.asarray(y,dtype=np.float32)      # 60x(32,1,1) => (60,32,1,1)\n",
        "\n",
        "x_train = np.asarray(tf.reshape(x,shape=(x.shape[0]*x.shape[1],taille_fenetre,x.shape[3])))     # (60,32,16,22) => (60*32,16,22)\n",
        "\n",
        "y_train = np.asarray(tf.reshape(y,shape=(y.shape[0]*y.shape[1],1,y.shape[3])))     # (60,32,1,1) => (60*32,1,1)"
      ],
      "execution_count": 248,
      "outputs": []
    },
    {
      "cell_type": "markdown",
      "metadata": {
        "id": "wQlnU0USYNma"
      },
      "source": [
        "Puis la même chose pour les données de validation :"
      ]
    },
    {
      "cell_type": "code",
      "metadata": {
        "id": "yBroUa5XYNma"
      },
      "source": [
        "# Extrait les X,Y du dataset\n",
        "x,y = tuple(zip(*dataset_val))              # #60x((32,16,22),(32,1,1)) => x = 60x(32,16,22) ; y = 60x(32,1,1)\n",
        "\n",
        "# Recombine les données\n",
        "x = np.asarray(x,dtype=np.float32)      # 60x(32,16,22) => (60,32,16,22)\n",
        "y = np.asarray(y,dtype=np.float32)      # 60x(32,1,1) => (60,32,1,1)\n",
        "\n",
        "x_val = np.asarray(tf.reshape(x,shape=(x.shape[0]*x.shape[1],taille_fenetre,x.shape[3])))     # (60,32,16,22) => (60*32,16,22)\n",
        "y_val = np.asarray(tf.reshape(y,shape=(y.shape[0]*y.shape[1],1,y.shape[3])))     # (60,32,1,1) => (60*32,1,1)"
      ],
      "execution_count": 249,
      "outputs": []
    },
    {
      "cell_type": "code",
      "metadata": {
        "id": "nhAeAUHhjXoa"
      },
      "source": [
        "x_train.shape"
      ],
      "execution_count": null,
      "outputs": []
    },
    {
      "cell_type": "code",
      "metadata": {
        "id": "08Dq1l0CjmmO"
      },
      "source": [
        "# Première fenêtre de la variable 0\n",
        "print(x_train[0,:,0])\n",
        "\n",
        "# Deuxième fenêtre de la variable 0\n",
        "print(x_train[1,:,0])\n"
      ],
      "execution_count": null,
      "outputs": []
    },
    {
      "cell_type": "code",
      "metadata": {
        "id": "8rgeeq1GkOOR"
      },
      "source": [
        "# Toutes les fenêtres de la variable 0\n",
        "print(x_train[:,:,0])"
      ],
      "execution_count": null,
      "outputs": []
    },
    {
      "cell_type": "code",
      "metadata": {
        "id": "PAk4Q_VoiAnj"
      },
      "source": [
        "y_train.shape"
      ],
      "execution_count": null,
      "outputs": []
    },
    {
      "cell_type": "code",
      "metadata": {
        "id": "XP9pVs_o-G7K"
      },
      "source": [
        "# Première valeur de la sortie\n",
        "y_train[:,:,0]"
      ],
      "execution_count": null,
      "outputs": []
    },
    {
      "cell_type": "markdown",
      "metadata": {
        "id": "vVPcKZoxHBuy"
      },
      "source": [
        "**1. One-hot Encoding**"
      ]
    },
    {
      "cell_type": "code",
      "metadata": {
        "id": "t7tuSZfqHXGX",
        "colab": {
          "base_uri": "https://localhost:8080/"
        },
        "outputId": "b7f6fa9c-8bc7-46cf-b44b-f33fa11f7feb"
      },
      "source": [
        "from sklearn.preprocessing import OneHotEncoder, KBinsDiscretizer\n",
        "\n",
        "en = KBinsDiscretizer(n_bins=int(mu+1), encode='onehot').fit(y_train[:,0])\n",
        "y_train_OneHot = en.transform(y_train[:,:,0])\n",
        "y_train_OneHot = np.array(y_train_OneHot.todense())\n",
        "y_train_OneHot.shape"
      ],
      "execution_count": 250,
      "outputs": [
        {
          "output_type": "execute_result",
          "data": {
            "text/plain": [
              "(1929, 256)"
            ]
          },
          "metadata": {
            "tags": []
          },
          "execution_count": 250
        }
      ]
    },
    {
      "cell_type": "code",
      "metadata": {
        "id": "tcFLwCiR5cSl",
        "colab": {
          "base_uri": "https://localhost:8080/"
        },
        "outputId": "ab7beacc-209a-4775-c71a-1dda5add98e1"
      },
      "source": [
        "y_val_OneHot = en.transform(y_val[:,:,0])\n",
        "y_val_OneHot = np.array(y_val_OneHot.todense())\n",
        "y_val_OneHot"
      ],
      "execution_count": 251,
      "outputs": [
        {
          "output_type": "execute_result",
          "data": {
            "text/plain": [
              "array([[0., 0., 0., ..., 0., 0., 0.],\n",
              "       [0., 0., 0., ..., 0., 0., 0.],\n",
              "       [0., 0., 0., ..., 0., 0., 0.],\n",
              "       ...,\n",
              "       [0., 0., 0., ..., 0., 0., 1.],\n",
              "       [0., 0., 0., ..., 0., 0., 1.],\n",
              "       [0., 0., 0., ..., 0., 0., 1.]])"
            ]
          },
          "metadata": {
            "tags": []
          },
          "execution_count": 251
        }
      ]
    },
    {
      "cell_type": "code",
      "metadata": {
        "id": "ZPpqMaoG6pqP",
        "colab": {
          "base_uri": "https://localhost:8080/"
        },
        "outputId": "f16663b8-155b-4f0b-aa4e-e405138cbc01"
      },
      "source": [
        "decode = en.inverse_transform(y_train_OneHot)\n",
        "decode"
      ],
      "execution_count": 253,
      "outputs": [
        {
          "output_type": "execute_result",
          "data": {
            "text/plain": [
              "array([[2.11964369],\n",
              "       [2.11964369],\n",
              "       [2.10346959],\n",
              "       ...,\n",
              "       [2.60580945],\n",
              "       [2.60363136],\n",
              "       [2.60274532]])"
            ]
          },
          "metadata": {
            "tags": []
          },
          "execution_count": 253
        }
      ]
    },
    {
      "cell_type": "code",
      "metadata": {
        "id": "XKYBt_Wt6zxF",
        "colab": {
          "base_uri": "https://localhost:8080/",
          "height": 385
        },
        "outputId": "a25ed923-ced2-46e0-bd64-9fdfd5aae7f3"
      },
      "source": [
        "# Affiche la série X\n",
        "fig, ax = plt.subplots(constrained_layout=True, figsize=(15,5))\n",
        "\n",
        "ax.plot(X_Avec_Prix_norm.index[:temps_separation].values,serie_entrainement_X[0], label=\"X_Ent\")\n",
        "ax.plot(X_Avec_Prix_norm.index[temps_separation:].values,serie_test_X[0], label=\"X_Val\")\n",
        "\n",
        "ax.plot(X_Avec_Prix_norm.index[taille_fenetre:temps_separation].values,decode[:,0], label=\"X_Ent\")\n",
        "\n",
        "\n",
        "ax.legend()\n",
        "plt.show()"
      ],
      "execution_count": 254,
      "outputs": [
        {
          "output_type": "display_data",
          "data": {
            "image/png": "[encoded data removed]",
            "text/plain": [
              "<Figure size 1080x360 with 1 Axes>"
            ]
          },
          "metadata": {
            "tags": [],
            "needs_background": "light"
          }
        }
      ]
    },
    {
      "cell_type": "markdown",
      "metadata": {
        "id": "oVVTuw0xYXt8"
      },
      "source": [
        "# Création du modèle type Wavenet Multivarié Classification"
      ]
    },
    {
      "cell_type": "markdown",
      "metadata": {
        "id": "IB6dP-d8YXt9"
      },
      "source": [
        "**1. Classes de dilatations**"
      ]
    },
    {
      "cell_type": "code",
      "metadata": {
        "id": "GzpdbYrbYXt-"
      },
      "source": [
        "from keras.layers import Conv1D\n",
        "from keras.layers import Conv1D\n",
        "from keras.utils.conv_utils import conv_output_length\n",
        "from keras import layers\n",
        "from keras.regularizers import l2\n",
        "import keras.backend as K\n",
        "from keras.engine import Input\n",
        "from keras.engine import Model"
      ],
      "execution_count": 255,
      "outputs": []
    },
    {
      "cell_type": "code",
      "metadata": {
        "id": "VNMpYRuEYXt_"
      },
      "source": [
        "class CausalDilatedConv1D(Conv1D):\n",
        "    def __init__(self, nb_filter, filter_length, init='glorot_uniform', activation=None, weights=None,\n",
        "                 border_mode='valid', subsample_length=1, atrous_rate=1, W_regularizer=None, b_regularizer=None,\n",
        "                 activity_regularizer=None, W_constraint=None, b_constraint=None, bias=True, causal=False, **kwargs):\n",
        "        super(CausalDilatedConv1D, self).__init__(nb_filter, filter_length, weights=weights, activation=activation, \n",
        "                padding=border_mode, strides=subsample_length, dilation_rate=atrous_rate, kernel_regularizer=W_regularizer, \n",
        "                bias_regularizer=b_regularizer, activity_regularizer=activity_regularizer, kernel_constraint=W_constraint, \n",
        "                bias_constraint=b_constraint, use_bias=bias, **kwargs)\n",
        "        self.causal = causal\n",
        "        self.nb_filter = nb_filter\n",
        "        self.atrous_rate = atrous_rate\n",
        "        self.filter_length = filter_length\n",
        "        self.subsample_length = subsample_length\n",
        "        self.border_mode = border_mode\n",
        "        if self.causal and border_mode != 'valid':\n",
        "            raise ValueError(\"Causal mode dictates border_mode=valid.\")\n",
        "\n",
        "    def compute_output_shape(self, input_shape):\n",
        "        input_length = input_shape[1]\n",
        "        if self.causal:\n",
        "            input_length += self.atrous_rate * (self.filter_length - 1)\n",
        "        length = conv_output_length(input_length, self.filter_length, self.border_mode, self.strides[0], dilation=self.atrous_rate)\n",
        "        return (input_shape[0], length, self.nb_filter)\n",
        "\n",
        "    def call(self, x, mask=None):\n",
        "        if self.causal:\n",
        "            x = K.temporal_padding(x, padding=(self.atrous_rate * (self.filter_length - 1), 0))\n",
        "        return super(CausalDilatedConv1D, self).call(x)"
      ],
      "execution_count": 256,
      "outputs": []
    },
    {
      "cell_type": "code",
      "metadata": {
        "id": "93bV8CcwYXuA"
      },
      "source": [
        "def _compute_receptive_field(dilation_depth, stacks):\n",
        "  return stacks * (2 ** dilation_depth * 2) - (stacks - 1)"
      ],
      "execution_count": 257,
      "outputs": []
    },
    {
      "cell_type": "markdown",
      "metadata": {
        "id": "cSZKN-OS5r1e"
      },
      "source": [
        "**2. Modèle finance - Single Exo Regression CLASS**"
      ]
    },
    {
      "cell_type": "code",
      "metadata": {
        "id": "NAmgCh3_YXuB"
      },
      "source": [
        "def build_model_residual_block(x, i, s,nb_filters, dim_filters, use_bias,res_l2,drop):\n",
        "        original_x = x\n",
        "        selu_out = CausalDilatedConv1D(nb_filters, dim_filters, atrous_rate=2 ** i, border_mode='valid', causal=True, bias=True, name='dilated_conv_%d_selu_s%d' % (2 ** i, s), activation='tanh',\n",
        "                                       W_regularizer=l2(res_l2))(x)\n",
        "        selu_out = layers.Dropout(drop)(selu_out)\n",
        "\n",
        "        res_x = layers.Conv1D(1, 1, padding='same', use_bias=use_bias, kernel_regularizer=l2(res_l2))(selu_out)\n",
        "        skip_x = layers.Conv1D(1, 1, padding='same', use_bias=use_bias, kernel_regularizer=l2(res_l2))(selu_out)\n",
        "        res_x = layers.Add()([original_x, res_x])\n",
        "        return res_x, skip_x\n",
        "\n",
        "def build_model_couche_condition(x,y,Nbr_Inputs, nb_filters, dim_filters, use_bias,res_l2,drop):\n",
        "        main_1st_exo = CausalDilatedConv1D(nb_filters, dim_filters, atrous_rate=1, border_mode='valid', causal=True, bias=True, name='dilated_conv_main_1st',\n",
        "                                           W_regularizer=l2(res_l2))(x)\n",
        "\n",
        "        exo_dil_layers = []\n",
        "        exo_res_layers = []\n",
        "        for index_cond in range(0,Nbr_Inputs-1):\n",
        "          exo_dil_layers.append(CausalDilatedConv1D(nb_filters, dim_filters, atrous_rate=1, border_mode='valid', causal=True, bias=True, name='dilated_conv_exos_1st_%d'%(index_cond),\n",
        "                                                W_regularizer=l2(res_l2))(tf.expand_dims(y[:,:,index_cond],-1)))\n",
        "          \n",
        "          exo_selu = layers.Activation('tanh')(exo_dil_layers[index_cond])\n",
        "          exo_selu = layers.Dropout(drop)(exo_selu)\n",
        "          exo_selu = layers.Conv1D(1, 1, padding='same', use_bias=use_bias)(exo_selu)\n",
        "          exo_res_layers.append(layers.Add()([exo_selu,tf.expand_dims(y[:,:,index_cond],-1)]))\n",
        "        \n",
        "        exo_res = layers.Add()(exo_res_layers)\n",
        "        exo_sum = layers.Add()(exo_dil_layers)\n",
        "        main_sum = layers.Add()([exo_sum,main_1st_exo])\n",
        "\n",
        "        main_sum = layers.Activation('tanh')(main_sum)\n",
        "        main_skip = layers.Conv1D(1, 1, padding='same', use_bias=use_bias)(main_sum)\n",
        "        main_res = layers.Add()([main_skip,x])\n",
        "\n",
        "        return  exo_res, main_res, main_skip\n",
        "\n",
        "\n",
        "def build_model(fragment_length, nb_filters, dim_filters, Nbr_Inputs, output_bins, dilation_depth, stacks, use_skip_connections, use_bias, res_l2, final_l2, n_filter_quant=32,n_filters_input=32,drop=0.0):\n",
        "        # input = (1914, taille_fentre, 22)\n",
        "        input_shape = Input(shape=(fragment_length, Nbr_Inputs), name='input_part')\n",
        "        \n",
        "        x_input = tf.expand_dims(input_shape[:,:,0],-1)         # x_input = (1914, taille_fentre, 1)\n",
        "        conditions_input = input_shape[:,:,1:]                  # conditions_input = (1914, taille_fentre, 21)\n",
        "\n",
        "        # Pre-process main serie\n",
        "        out = CausalDilatedConv1D(2, 1, atrous_rate=1, border_mode='valid', causal=True, bias=True, name='dilated_preprocess')(x_input)\n",
        "\n",
        "        # Couche de condition\n",
        "        res, main, skip = build_model_couche_condition(out,conditions_input,Nbr_Inputs,nb_filters,dim_filters,use_bias,res_l2,drop)\n",
        "\n",
        "        out = layers.Add()([main,res])\n",
        "        \n",
        "        for s in range(stacks):\n",
        "          for i in range(1, dilation_depth + 1):\n",
        "            out, skip_out = build_model_residual_block(out, i, s, nb_filters, dim_filters, use_bias, res_l2,drop)\n",
        "\n",
        "        out = layers.Conv1D(1, 1, padding='same', kernel_regularizer=l2(final_l2))(out)\n",
        "\n",
        "\n",
        "        # Post-process 1 : Combien de filtres vont contribuer à quantifier les sorties\n",
        "        out = layers.Activation('tanh')(out)\n",
        "        out = layers.Conv1D(n_filter_quant, 1, padding='same', kernel_regularizer=l2(final_l2))(out)\n",
        "\n",
        "        # Softmax\n",
        "#        out = layers.Flatten()(out)\n",
        "        out = layers.Dropout(drop)(out)\n",
        "#        out = layers.Dense(output_bins,activation=\"softmax\")(out)\n",
        "        out = layers.Dense(output_bins,activation=\"softmax\")(out[:,fragment_length-1,:])\n",
        "#        out = layers.Activation('softmax')(out)\n",
        "\n",
        "\n",
        "        model = Model(input_shape,out)\n",
        "        return model"
      ],
      "execution_count": 281,
      "outputs": []
    },
    {
      "cell_type": "markdown",
      "metadata": {
        "id": "aWiy4ikQ5vHy"
      },
      "source": [
        "**3. Modèle WaveNEt**"
      ]
    },
    {
      "cell_type": "code",
      "metadata": {
        "id": "rXcBR1Gw5xqo"
      },
      "source": [
        "def build_model_residual_block_Sans_Conditions(x, y, i, s,nb_filters, dim_filters, use_bias,res_l2):\n",
        "        original_x = x\n",
        "        tanh_out = CausalDilatedConv1D(nb_filters, dim_filters, atrous_rate=2 ** i, border_mode='valid', causal=True, bias=True, name='dilated_conv_%d_tanh_s%d' % (2 ** i, s), activation='tanh',\n",
        "                                       W_regularizer=l2(res_l2))(x)\n",
        "        sigmo_out = CausalDilatedConv1D(nb_filters, dim_filters, atrous_rate=2 ** i, border_mode='valid', causal=True, bias=True, name='dilated_conv_%d_sigmo_s%d' % (2 ** i, s), activation='sigmoid',\n",
        "                                       W_regularizer=l2(res_l2))(x)\n",
        "        x = layers.Multiply()([tanh_out, sigmo_out])\n",
        "\n",
        "        res_x = layers.Conv1D(nb_filters, 1, padding='same', use_bias=use_bias, kernel_regularizer=l2(res_l2))(x)\n",
        "        skip_x = layers.Conv1D(nb_filters, 1, padding='same', use_bias=use_bias, kernel_regularizer=l2(res_l2))(x)\n",
        "        res_x = layers.Add()([original_x, res_x])\n",
        "        return res_x, skip_x\n",
        "\n",
        "\n",
        "def build_model_residual_block_Avec_Conditions(x, y, i, s,nb_filters, dim_filters, use_bias,res_l2):\n",
        "        # x = (1914, taille_fentre, 1)\n",
        "        # y = (1914, taille_fentre, 21)\n",
        "\n",
        "        original_x = x\n",
        "\n",
        "        # Convolution des conditions\n",
        "        conv_y1 = []\n",
        "        conv_y2 = []\n",
        "        for index_cond in range(0,y.shape[2]):\n",
        "          conv_y1.append(layers.Conv1D(nb_filters, 1, padding='same', use_bias=use_bias,name='conv_y1_%d_%d_%d' %(i,s,index_cond))(tf.expand_dims(y[:,:,index_cond],-1)))\n",
        "          conv_y2.append(layers.Conv1D(nb_filters, 1, padding='same', use_bias=use_bias,name='conv_y2_%d_%d_%d' %(i,s,index_cond))(tf.expand_dims(y[:,:,index_cond],-1)))\n",
        "        sum_conv_y1 = layers.Add()(conv_y1)\n",
        "        sum_conv_y2 = layers.Add()(conv_y2)\n",
        "\n",
        "        # Convolution dilattée #1\n",
        "        tanh_1 = CausalDilatedConv1D(nb_filters, dim_filters, atrous_rate=2 ** i, border_mode='valid', causal=True, bias=True, name='dilated_conv_%d_tanh_s%d' % (2 ** i, s), activation='tanh',\n",
        "                                       W_regularizer=l2(res_l2))(layers.Add()([sum_conv_y1,x]))\n",
        "        sigmo_1 = CausalDilatedConv1D(nb_filters, dim_filters, atrous_rate=2 ** i, border_mode='valid', causal=True, bias=True, name='dilated_conv_%d_sigmo_s%d' % (2 ** i, s), activation='sigmoid',\n",
        "                                       W_regularizer=l2(res_l2))(layers.Add()([sum_conv_y2,x]))\n",
        "        x = layers.Multiply()([tanh_1, sigmo_1])\n",
        "\n",
        "        # Calcul des résidus et du skip\n",
        "        res_x = layers.Conv1D(nb_filters, 1, padding='same', use_bias=use_bias, kernel_regularizer=l2(res_l2))(x)\n",
        "        skip_x = layers.Conv1D(nb_filters, 1, padding='same', use_bias=use_bias, kernel_regularizer=l2(res_l2))(x)\n",
        "        res_x = layers.Add()([original_x, res_x])\n",
        "        return res_x, skip_x\n",
        "\n",
        "def build_model(fragment_length, nb_filters, dim_filters, Nbr_Inputs, output_bins, dilation_depth, stacks, use_skip_connections, use_bias, res_l2, final_l2, n_filter_quant=32,n_filters_input=32,drop=0.0):\n",
        "        # input = (1914, taille_fentre, 22)\n",
        "        input_shape = Input(shape=(fragment_length, Nbr_Inputs), name='input_part')\n",
        "        \n",
        "        x_input = tf.expand_dims(input_shape[:,:,0],-1)         # x_input = (1914, taille_fentre, 1)\n",
        "        conditions_input = input_shape[:,:,1:]                  # conditions_input = (1914, taille_fentre, 21)\n",
        "\n",
        "\n",
        "        # Pre-process\n",
        "        out = CausalDilatedConv1D(n_filters_input, 1, atrous_rate=1, border_mode='valid', causal=True, bias=True, name='dilated_preprocess')(x_input)\n",
        "\n",
        "        # Dilated layers\n",
        "        skip_connections = []\n",
        "        for s in range(stacks):\n",
        "            for i in range(1, dilation_depth + 1):\n",
        "                out, skip_out = build_model_residual_block_Avec_Conditions(out, conditions_input, i, s, nb_filters, dim_filters, use_bias, res_l2)\n",
        "                skip_connections.append(skip_out)\n",
        "\n",
        "        # Ajoute les skipped connexion\n",
        "        if use_skip_connections:\n",
        "            out = layers.Add()(skip_connections)\n",
        "        \n",
        "        # Post-process 1 : Combien de filtres vont contribuer à quantifier les sorties\n",
        "        out = layers.Activation('relu')(out)\n",
        "        out = layers.Conv1D(n_filter_quant, 1, padding='same', kernel_regularizer=l2(final_l2))(out)\n",
        "\n",
        "        # Post-process 2 : Nombre de quantifications\n",
        "        out = layers.Activation('relu')(out)\n",
        "        out = layers.Conv1D(output_bins, 1, padding='same')(out)\n",
        "\n",
        "        # Softmax\n",
        "#        out = layers.Flatten()(out)\n",
        "        out = layers.Dropout(drop)(out)\n",
        "#        out = layers.Dense(output_bins,activation=\"softmax\")(out)\n",
        "        out = layers.Dense(output_bins,activation=\"softmax\")(out[:,fragment_length-1,:])\n",
        "#        out = layers.Activation('softmax')(out)\n",
        "\n",
        "        model = Model(input_shape,out)\n",
        "        return model\n"
      ],
      "execution_count": 277,
      "outputs": []
    },
    {
      "cell_type": "markdown",
      "metadata": {
        "id": "-i75DMlNYXuD"
      },
      "source": [
        "**2. Construction du modèle**"
      ]
    },
    {
      "cell_type": "code",
      "metadata": {
        "id": "EX9vTKthYXuE",
        "colab": {
          "base_uri": "https://localhost:8080/"
        },
        "outputId": "501e3a3f-df08-455d-80a6-20e8b99424fa"
      },
      "source": [
        "def compute_receptive_field_(dilation_depth, nb_stacks):\n",
        "    receptive_field = nb_stacks * (2 ** dilation_depth * 2) - (nb_stacks - 1)\n",
        "    return receptive_field\n",
        "\n",
        "n_filters_input = 64 #mu+1\n",
        "\n",
        "nb_filters = 64 #mu+1\n",
        "dim_filters = 2\n",
        "Nbr_Inputs = x_train.shape[2]\n",
        "\n",
        "n_filter_quant = 64    # mu+1\n",
        "\n",
        "output_bins = mu+1\n",
        "\n",
        "\n",
        "drop = 0.05\n",
        "\n",
        "dilation_depth = 3\n",
        "nb_stacks = 1\n",
        "use_skip_connections = True\n",
        "use_bias = False\n",
        "res_l2 = 0.001\n",
        "final_l2 = 0.001\n",
        "\n",
        "fragment_length = compute_receptive_field_(dilation_depth, nb_stacks)\n",
        "fragment_length\n",
        "\n",
        "model = build_model(fragment_length, nb_filters, dim_filters, Nbr_Inputs, output_bins, dilation_depth, nb_stacks, use_skip_connections, use_bias, res_l2, final_l2, n_filter_quant,n_filters_input,drop)\n",
        "model.summary()"
      ],
      "execution_count": 282,
      "outputs": [
        {
          "output_type": "stream",
          "text": [
            "Model: \"model_42\"\n",
            "__________________________________________________________________________________________________\n",
            "Layer (type)                    Output Shape         Param #     Connected to                     \n",
            "==================================================================================================\n",
            "input_part (InputLayer)         [(None, 16, 20)]     0                                            \n",
            "__________________________________________________________________________________________________\n",
            "tf.__operators__.getitem_4224 ( (None, 16, 19)       0           input_part[0][0]                 \n",
            "__________________________________________________________________________________________________\n",
            "tf.__operators__.getitem_4225 ( (None, 16)           0           tf.__operators__.getitem_4224[0][\n",
            "__________________________________________________________________________________________________\n",
            "tf.__operators__.getitem_4227 ( (None, 16)           0           tf.__operators__.getitem_4224[0][\n",
            "__________________________________________________________________________________________________\n",
            "tf.__operators__.getitem_4229 ( (None, 16)           0           tf.__operators__.getitem_4224[0][\n",
            "__________________________________________________________________________________________________\n",
            "tf.__operators__.getitem_4231 ( (None, 16)           0           tf.__operators__.getitem_4224[0][\n",
            "__________________________________________________________________________________________________\n",
            "tf.__operators__.getitem_4233 ( (None, 16)           0           tf.__operators__.getitem_4224[0][\n",
            "__________________________________________________________________________________________________\n",
            "tf.__operators__.getitem_4235 ( (None, 16)           0           tf.__operators__.getitem_4224[0][\n",
            "__________________________________________________________________________________________________\n",
            "tf.__operators__.getitem_4237 ( (None, 16)           0           tf.__operators__.getitem_4224[0][\n",
            "__________________________________________________________________________________________________\n",
            "tf.__operators__.getitem_4239 ( (None, 16)           0           tf.__operators__.getitem_4224[0][\n",
            "__________________________________________________________________________________________________\n",
            "tf.__operators__.getitem_4241 ( (None, 16)           0           tf.__operators__.getitem_4224[0][\n",
            "__________________________________________________________________________________________________\n",
            "tf.__operators__.getitem_4243 ( (None, 16)           0           tf.__operators__.getitem_4224[0][\n",
            "__________________________________________________________________________________________________\n",
            "tf.__operators__.getitem_4245 ( (None, 16)           0           tf.__operators__.getitem_4224[0][\n",
            "__________________________________________________________________________________________________\n",
            "tf.__operators__.getitem_4247 ( (None, 16)           0           tf.__operators__.getitem_4224[0][\n",
            "__________________________________________________________________________________________________\n",
            "tf.__operators__.getitem_4249 ( (None, 16)           0           tf.__operators__.getitem_4224[0][\n",
            "__________________________________________________________________________________________________\n",
            "tf.__operators__.getitem_4251 ( (None, 16)           0           tf.__operators__.getitem_4224[0][\n",
            "__________________________________________________________________________________________________\n",
            "tf.__operators__.getitem_4253 ( (None, 16)           0           tf.__operators__.getitem_4224[0][\n",
            "__________________________________________________________________________________________________\n",
            "tf.__operators__.getitem_4255 ( (None, 16)           0           tf.__operators__.getitem_4224[0][\n",
            "__________________________________________________________________________________________________\n",
            "tf.__operators__.getitem_4257 ( (None, 16)           0           tf.__operators__.getitem_4224[0][\n",
            "__________________________________________________________________________________________________\n",
            "tf.__operators__.getitem_4259 ( (None, 16)           0           tf.__operators__.getitem_4224[0][\n",
            "__________________________________________________________________________________________________\n",
            "tf.__operators__.getitem_4261 ( (None, 16)           0           tf.__operators__.getitem_4224[0][\n",
            "__________________________________________________________________________________________________\n",
            "tf.__operators__.getitem_4223 ( (None, 16)           0           input_part[0][0]                 \n",
            "__________________________________________________________________________________________________\n",
            "tf.expand_dims_4144 (TFOpLambda (None, 16, 1)        0           tf.__operators__.getitem_4225[0][\n",
            "__________________________________________________________________________________________________\n",
            "tf.expand_dims_4146 (TFOpLambda (None, 16, 1)        0           tf.__operators__.getitem_4227[0][\n",
            "__________________________________________________________________________________________________\n",
            "tf.expand_dims_4148 (TFOpLambda (None, 16, 1)        0           tf.__operators__.getitem_4229[0][\n",
            "__________________________________________________________________________________________________\n",
            "tf.expand_dims_4150 (TFOpLambda (None, 16, 1)        0           tf.__operators__.getitem_4231[0][\n",
            "__________________________________________________________________________________________________\n",
            "tf.expand_dims_4152 (TFOpLambda (None, 16, 1)        0           tf.__operators__.getitem_4233[0][\n",
            "__________________________________________________________________________________________________\n",
            "tf.expand_dims_4154 (TFOpLambda (None, 16, 1)        0           tf.__operators__.getitem_4235[0][\n",
            "__________________________________________________________________________________________________\n",
            "tf.expand_dims_4156 (TFOpLambda (None, 16, 1)        0           tf.__operators__.getitem_4237[0][\n",
            "__________________________________________________________________________________________________\n",
            "tf.expand_dims_4158 (TFOpLambda (None, 16, 1)        0           tf.__operators__.getitem_4239[0][\n",
            "__________________________________________________________________________________________________\n",
            "tf.expand_dims_4160 (TFOpLambda (None, 16, 1)        0           tf.__operators__.getitem_4241[0][\n",
            "__________________________________________________________________________________________________\n",
            "tf.expand_dims_4162 (TFOpLambda (None, 16, 1)        0           tf.__operators__.getitem_4243[0][\n",
            "__________________________________________________________________________________________________\n",
            "tf.expand_dims_4164 (TFOpLambda (None, 16, 1)        0           tf.__operators__.getitem_4245[0][\n",
            "__________________________________________________________________________________________________\n",
            "tf.expand_dims_4166 (TFOpLambda (None, 16, 1)        0           tf.__operators__.getitem_4247[0][\n",
            "__________________________________________________________________________________________________\n",
            "tf.expand_dims_4168 (TFOpLambda (None, 16, 1)        0           tf.__operators__.getitem_4249[0][\n",
            "__________________________________________________________________________________________________\n",
            "tf.expand_dims_4170 (TFOpLambda (None, 16, 1)        0           tf.__operators__.getitem_4251[0][\n",
            "__________________________________________________________________________________________________\n",
            "tf.expand_dims_4172 (TFOpLambda (None, 16, 1)        0           tf.__operators__.getitem_4253[0][\n",
            "__________________________________________________________________________________________________\n",
            "tf.expand_dims_4174 (TFOpLambda (None, 16, 1)        0           tf.__operators__.getitem_4255[0][\n",
            "__________________________________________________________________________________________________\n",
            "tf.expand_dims_4176 (TFOpLambda (None, 16, 1)        0           tf.__operators__.getitem_4257[0][\n",
            "__________________________________________________________________________________________________\n",
            "tf.expand_dims_4178 (TFOpLambda (None, 16, 1)        0           tf.__operators__.getitem_4259[0][\n",
            "__________________________________________________________________________________________________\n",
            "tf.expand_dims_4180 (TFOpLambda (None, 16, 1)        0           tf.__operators__.getitem_4261[0][\n",
            "__________________________________________________________________________________________________\n",
            "tf.expand_dims_4143 (TFOpLambda (None, 16, 1)        0           tf.__operators__.getitem_4223[0][\n",
            "__________________________________________________________________________________________________\n",
            "dilated_conv_exos_1st_0 (Causal (None, 16, 64)       192         tf.expand_dims_4144[0][0]        \n",
            "__________________________________________________________________________________________________\n",
            "dilated_conv_exos_1st_1 (Causal (None, 16, 64)       192         tf.expand_dims_4146[0][0]        \n",
            "__________________________________________________________________________________________________\n",
            "dilated_conv_exos_1st_2 (Causal (None, 16, 64)       192         tf.expand_dims_4148[0][0]        \n",
            "__________________________________________________________________________________________________\n",
            "dilated_conv_exos_1st_3 (Causal (None, 16, 64)       192         tf.expand_dims_4150[0][0]        \n",
            "__________________________________________________________________________________________________\n",
            "dilated_conv_exos_1st_4 (Causal (None, 16, 64)       192         tf.expand_dims_4152[0][0]        \n",
            "__________________________________________________________________________________________________\n",
            "dilated_conv_exos_1st_5 (Causal (None, 16, 64)       192         tf.expand_dims_4154[0][0]        \n",
            "__________________________________________________________________________________________________\n",
            "dilated_conv_exos_1st_6 (Causal (None, 16, 64)       192         tf.expand_dims_4156[0][0]        \n",
            "__________________________________________________________________________________________________\n",
            "dilated_conv_exos_1st_7 (Causal (None, 16, 64)       192         tf.expand_dims_4158[0][0]        \n",
            "__________________________________________________________________________________________________\n",
            "dilated_conv_exos_1st_8 (Causal (None, 16, 64)       192         tf.expand_dims_4160[0][0]        \n",
            "__________________________________________________________________________________________________\n",
            "dilated_conv_exos_1st_9 (Causal (None, 16, 64)       192         tf.expand_dims_4162[0][0]        \n",
            "__________________________________________________________________________________________________\n",
            "dilated_conv_exos_1st_10 (Causa (None, 16, 64)       192         tf.expand_dims_4164[0][0]        \n",
            "__________________________________________________________________________________________________\n",
            "dilated_conv_exos_1st_11 (Causa (None, 16, 64)       192         tf.expand_dims_4166[0][0]        \n",
            "__________________________________________________________________________________________________\n",
            "dilated_conv_exos_1st_12 (Causa (None, 16, 64)       192         tf.expand_dims_4168[0][0]        \n",
            "__________________________________________________________________________________________________\n",
            "dilated_conv_exos_1st_13 (Causa (None, 16, 64)       192         tf.expand_dims_4170[0][0]        \n",
            "__________________________________________________________________________________________________\n",
            "dilated_conv_exos_1st_14 (Causa (None, 16, 64)       192         tf.expand_dims_4172[0][0]        \n",
            "__________________________________________________________________________________________________\n",
            "dilated_conv_exos_1st_15 (Causa (None, 16, 64)       192         tf.expand_dims_4174[0][0]        \n",
            "__________________________________________________________________________________________________\n",
            "dilated_conv_exos_1st_16 (Causa (None, 16, 64)       192         tf.expand_dims_4176[0][0]        \n",
            "__________________________________________________________________________________________________\n",
            "dilated_conv_exos_1st_17 (Causa (None, 16, 64)       192         tf.expand_dims_4178[0][0]        \n",
            "__________________________________________________________________________________________________\n",
            "dilated_conv_exos_1st_18 (Causa (None, 16, 64)       192         tf.expand_dims_4180[0][0]        \n",
            "__________________________________________________________________________________________________\n",
            "dilated_preprocess (CausalDilat (None, 16, 2)        4           tf.expand_dims_4143[0][0]        \n",
            "__________________________________________________________________________________________________\n",
            "add_1300 (Add)                  (None, 16, 64)       0           dilated_conv_exos_1st_0[0][0]    \n",
            "                                                                 dilated_conv_exos_1st_1[0][0]    \n",
            "                                                                 dilated_conv_exos_1st_2[0][0]    \n",
            "                                                                 dilated_conv_exos_1st_3[0][0]    \n",
            "                                                                 dilated_conv_exos_1st_4[0][0]    \n",
            "                                                                 dilated_conv_exos_1st_5[0][0]    \n",
            "                                                                 dilated_conv_exos_1st_6[0][0]    \n",
            "                                                                 dilated_conv_exos_1st_7[0][0]    \n",
            "                                                                 dilated_conv_exos_1st_8[0][0]    \n",
            "                                                                 dilated_conv_exos_1st_9[0][0]    \n",
            "                                                                 dilated_conv_exos_1st_10[0][0]   \n",
            "                                                                 dilated_conv_exos_1st_11[0][0]   \n",
            "                                                                 dilated_conv_exos_1st_12[0][0]   \n",
            "                                                                 dilated_conv_exos_1st_13[0][0]   \n",
            "                                                                 dilated_conv_exos_1st_14[0][0]   \n",
            "                                                                 dilated_conv_exos_1st_15[0][0]   \n",
            "                                                                 dilated_conv_exos_1st_16[0][0]   \n",
            "                                                                 dilated_conv_exos_1st_17[0][0]   \n",
            "                                                                 dilated_conv_exos_1st_18[0][0]   \n",
            "__________________________________________________________________________________________________\n",
            "dilated_conv_main_1st (CausalDi (None, 16, 64)       320         dilated_preprocess[0][0]         \n",
            "__________________________________________________________________________________________________\n",
            "activation_586 (Activation)     (None, 16, 64)       0           dilated_conv_exos_1st_0[0][0]    \n",
            "__________________________________________________________________________________________________\n",
            "activation_587 (Activation)     (None, 16, 64)       0           dilated_conv_exos_1st_1[0][0]    \n",
            "__________________________________________________________________________________________________\n",
            "activation_588 (Activation)     (None, 16, 64)       0           dilated_conv_exos_1st_2[0][0]    \n",
            "__________________________________________________________________________________________________\n",
            "activation_589 (Activation)     (None, 16, 64)       0           dilated_conv_exos_1st_3[0][0]    \n",
            "__________________________________________________________________________________________________\n",
            "activation_590 (Activation)     (None, 16, 64)       0           dilated_conv_exos_1st_4[0][0]    \n",
            "__________________________________________________________________________________________________\n",
            "activation_591 (Activation)     (None, 16, 64)       0           dilated_conv_exos_1st_5[0][0]    \n",
            "__________________________________________________________________________________________________\n",
            "activation_592 (Activation)     (None, 16, 64)       0           dilated_conv_exos_1st_6[0][0]    \n",
            "__________________________________________________________________________________________________\n",
            "activation_593 (Activation)     (None, 16, 64)       0           dilated_conv_exos_1st_7[0][0]    \n",
            "__________________________________________________________________________________________________\n",
            "activation_594 (Activation)     (None, 16, 64)       0           dilated_conv_exos_1st_8[0][0]    \n",
            "__________________________________________________________________________________________________\n",
            "activation_595 (Activation)     (None, 16, 64)       0           dilated_conv_exos_1st_9[0][0]    \n",
            "__________________________________________________________________________________________________\n",
            "activation_596 (Activation)     (None, 16, 64)       0           dilated_conv_exos_1st_10[0][0]   \n",
            "__________________________________________________________________________________________________\n",
            "activation_597 (Activation)     (None, 16, 64)       0           dilated_conv_exos_1st_11[0][0]   \n",
            "__________________________________________________________________________________________________\n",
            "activation_598 (Activation)     (None, 16, 64)       0           dilated_conv_exos_1st_12[0][0]   \n",
            "__________________________________________________________________________________________________\n",
            "activation_599 (Activation)     (None, 16, 64)       0           dilated_conv_exos_1st_13[0][0]   \n",
            "__________________________________________________________________________________________________\n",
            "activation_600 (Activation)     (None, 16, 64)       0           dilated_conv_exos_1st_14[0][0]   \n",
            "__________________________________________________________________________________________________\n",
            "activation_601 (Activation)     (None, 16, 64)       0           dilated_conv_exos_1st_15[0][0]   \n",
            "__________________________________________________________________________________________________\n",
            "activation_602 (Activation)     (None, 16, 64)       0           dilated_conv_exos_1st_16[0][0]   \n",
            "__________________________________________________________________________________________________\n",
            "activation_603 (Activation)     (None, 16, 64)       0           dilated_conv_exos_1st_17[0][0]   \n",
            "__________________________________________________________________________________________________\n",
            "activation_604 (Activation)     (None, 16, 64)       0           dilated_conv_exos_1st_18[0][0]   \n",
            "__________________________________________________________________________________________________\n",
            "add_1301 (Add)                  (None, 16, 64)       0           add_1300[0][0]                   \n",
            "                                                                 dilated_conv_main_1st[0][0]      \n",
            "__________________________________________________________________________________________________\n",
            "dropout_190 (Dropout)           (None, 16, 64)       0           activation_586[0][0]             \n",
            "__________________________________________________________________________________________________\n",
            "tf.__operators__.getitem_4226 ( (None, 16)           0           tf.__operators__.getitem_4224[0][\n",
            "__________________________________________________________________________________________________\n",
            "dropout_191 (Dropout)           (None, 16, 64)       0           activation_587[0][0]             \n",
            "__________________________________________________________________________________________________\n",
            "tf.__operators__.getitem_4228 ( (None, 16)           0           tf.__operators__.getitem_4224[0][\n",
            "__________________________________________________________________________________________________\n",
            "dropout_192 (Dropout)           (None, 16, 64)       0           activation_588[0][0]             \n",
            "__________________________________________________________________________________________________\n",
            "tf.__operators__.getitem_4230 ( (None, 16)           0           tf.__operators__.getitem_4224[0][\n",
            "__________________________________________________________________________________________________\n",
            "dropout_193 (Dropout)           (None, 16, 64)       0           activation_589[0][0]             \n",
            "__________________________________________________________________________________________________\n",
            "tf.__operators__.getitem_4232 ( (None, 16)           0           tf.__operators__.getitem_4224[0][\n",
            "__________________________________________________________________________________________________\n",
            "dropout_194 (Dropout)           (None, 16, 64)       0           activation_590[0][0]             \n",
            "__________________________________________________________________________________________________\n",
            "tf.__operators__.getitem_4234 ( (None, 16)           0           tf.__operators__.getitem_4224[0][\n",
            "__________________________________________________________________________________________________\n",
            "dropout_195 (Dropout)           (None, 16, 64)       0           activation_591[0][0]             \n",
            "__________________________________________________________________________________________________\n",
            "tf.__operators__.getitem_4236 ( (None, 16)           0           tf.__operators__.getitem_4224[0][\n",
            "__________________________________________________________________________________________________\n",
            "dropout_196 (Dropout)           (None, 16, 64)       0           activation_592[0][0]             \n",
            "__________________________________________________________________________________________________\n",
            "tf.__operators__.getitem_4238 ( (None, 16)           0           tf.__operators__.getitem_4224[0][\n",
            "__________________________________________________________________________________________________\n",
            "dropout_197 (Dropout)           (None, 16, 64)       0           activation_593[0][0]             \n",
            "__________________________________________________________________________________________________\n",
            "tf.__operators__.getitem_4240 ( (None, 16)           0           tf.__operators__.getitem_4224[0][\n",
            "__________________________________________________________________________________________________\n",
            "dropout_198 (Dropout)           (None, 16, 64)       0           activation_594[0][0]             \n",
            "__________________________________________________________________________________________________\n",
            "tf.__operators__.getitem_4242 ( (None, 16)           0           tf.__operators__.getitem_4224[0][\n",
            "__________________________________________________________________________________________________\n",
            "dropout_199 (Dropout)           (None, 16, 64)       0           activation_595[0][0]             \n",
            "__________________________________________________________________________________________________\n",
            "tf.__operators__.getitem_4244 ( (None, 16)           0           tf.__operators__.getitem_4224[0][\n",
            "__________________________________________________________________________________________________\n",
            "dropout_200 (Dropout)           (None, 16, 64)       0           activation_596[0][0]             \n",
            "__________________________________________________________________________________________________\n",
            "tf.__operators__.getitem_4246 ( (None, 16)           0           tf.__operators__.getitem_4224[0][\n",
            "__________________________________________________________________________________________________\n",
            "dropout_201 (Dropout)           (None, 16, 64)       0           activation_597[0][0]             \n",
            "__________________________________________________________________________________________________\n",
            "tf.__operators__.getitem_4248 ( (None, 16)           0           tf.__operators__.getitem_4224[0][\n",
            "__________________________________________________________________________________________________\n",
            "dropout_202 (Dropout)           (None, 16, 64)       0           activation_598[0][0]             \n",
            "__________________________________________________________________________________________________\n",
            "tf.__operators__.getitem_4250 ( (None, 16)           0           tf.__operators__.getitem_4224[0][\n",
            "__________________________________________________________________________________________________\n",
            "dropout_203 (Dropout)           (None, 16, 64)       0           activation_599[0][0]             \n",
            "__________________________________________________________________________________________________\n",
            "tf.__operators__.getitem_4252 ( (None, 16)           0           tf.__operators__.getitem_4224[0][\n",
            "__________________________________________________________________________________________________\n",
            "dropout_204 (Dropout)           (None, 16, 64)       0           activation_600[0][0]             \n",
            "__________________________________________________________________________________________________\n",
            "tf.__operators__.getitem_4254 ( (None, 16)           0           tf.__operators__.getitem_4224[0][\n",
            "__________________________________________________________________________________________________\n",
            "dropout_205 (Dropout)           (None, 16, 64)       0           activation_601[0][0]             \n",
            "__________________________________________________________________________________________________\n",
            "tf.__operators__.getitem_4256 ( (None, 16)           0           tf.__operators__.getitem_4224[0][\n",
            "__________________________________________________________________________________________________\n",
            "dropout_206 (Dropout)           (None, 16, 64)       0           activation_602[0][0]             \n",
            "__________________________________________________________________________________________________\n",
            "tf.__operators__.getitem_4258 ( (None, 16)           0           tf.__operators__.getitem_4224[0][\n",
            "__________________________________________________________________________________________________\n",
            "dropout_207 (Dropout)           (None, 16, 64)       0           activation_603[0][0]             \n",
            "__________________________________________________________________________________________________\n",
            "tf.__operators__.getitem_4260 ( (None, 16)           0           tf.__operators__.getitem_4224[0][\n",
            "__________________________________________________________________________________________________\n",
            "dropout_208 (Dropout)           (None, 16, 64)       0           activation_604[0][0]             \n",
            "__________________________________________________________________________________________________\n",
            "tf.__operators__.getitem_4262 ( (None, 16)           0           tf.__operators__.getitem_4224[0][\n",
            "__________________________________________________________________________________________________\n",
            "activation_605 (Activation)     (None, 16, 64)       0           add_1301[0][0]                   \n",
            "__________________________________________________________________________________________________\n",
            "conv1d_901 (Conv1D)             (None, 16, 1)        64          dropout_190[0][0]                \n",
            "__________________________________________________________________________________________________\n",
            "tf.expand_dims_4145 (TFOpLambda (None, 16, 1)        0           tf.__operators__.getitem_4226[0][\n",
            "__________________________________________________________________________________________________\n",
            "conv1d_902 (Conv1D)             (None, 16, 1)        64          dropout_191[0][0]                \n",
            "__________________________________________________________________________________________________\n",
            "tf.expand_dims_4147 (TFOpLambda (None, 16, 1)        0           tf.__operators__.getitem_4228[0][\n",
            "__________________________________________________________________________________________________\n",
            "conv1d_903 (Conv1D)             (None, 16, 1)        64          dropout_192[0][0]                \n",
            "__________________________________________________________________________________________________\n",
            "tf.expand_dims_4149 (TFOpLambda (None, 16, 1)        0           tf.__operators__.getitem_4230[0][\n",
            "__________________________________________________________________________________________________\n",
            "conv1d_904 (Conv1D)             (None, 16, 1)        64          dropout_193[0][0]                \n",
            "__________________________________________________________________________________________________\n",
            "tf.expand_dims_4151 (TFOpLambda (None, 16, 1)        0           tf.__operators__.getitem_4232[0][\n",
            "__________________________________________________________________________________________________\n",
            "conv1d_905 (Conv1D)             (None, 16, 1)        64          dropout_194[0][0]                \n",
            "__________________________________________________________________________________________________\n",
            "tf.expand_dims_4153 (TFOpLambda (None, 16, 1)        0           tf.__operators__.getitem_4234[0][\n",
            "__________________________________________________________________________________________________\n",
            "conv1d_906 (Conv1D)             (None, 16, 1)        64          dropout_195[0][0]                \n",
            "__________________________________________________________________________________________________\n",
            "tf.expand_dims_4155 (TFOpLambda (None, 16, 1)        0           tf.__operators__.getitem_4236[0][\n",
            "__________________________________________________________________________________________________\n",
            "conv1d_907 (Conv1D)             (None, 16, 1)        64          dropout_196[0][0]                \n",
            "__________________________________________________________________________________________________\n",
            "tf.expand_dims_4157 (TFOpLambda (None, 16, 1)        0           tf.__operators__.getitem_4238[0][\n",
            "__________________________________________________________________________________________________\n",
            "conv1d_908 (Conv1D)             (None, 16, 1)        64          dropout_197[0][0]                \n",
            "__________________________________________________________________________________________________\n",
            "tf.expand_dims_4159 (TFOpLambda (None, 16, 1)        0           tf.__operators__.getitem_4240[0][\n",
            "__________________________________________________________________________________________________\n",
            "conv1d_909 (Conv1D)             (None, 16, 1)        64          dropout_198[0][0]                \n",
            "__________________________________________________________________________________________________\n",
            "tf.expand_dims_4161 (TFOpLambda (None, 16, 1)        0           tf.__operators__.getitem_4242[0][\n",
            "__________________________________________________________________________________________________\n",
            "conv1d_910 (Conv1D)             (None, 16, 1)        64          dropout_199[0][0]                \n",
            "__________________________________________________________________________________________________\n",
            "tf.expand_dims_4163 (TFOpLambda (None, 16, 1)        0           tf.__operators__.getitem_4244[0][\n",
            "__________________________________________________________________________________________________\n",
            "conv1d_911 (Conv1D)             (None, 16, 1)        64          dropout_200[0][0]                \n",
            "__________________________________________________________________________________________________\n",
            "tf.expand_dims_4165 (TFOpLambda (None, 16, 1)        0           tf.__operators__.getitem_4246[0][\n",
            "__________________________________________________________________________________________________\n",
            "conv1d_912 (Conv1D)             (None, 16, 1)        64          dropout_201[0][0]                \n",
            "__________________________________________________________________________________________________\n",
            "tf.expand_dims_4167 (TFOpLambda (None, 16, 1)        0           tf.__operators__.getitem_4248[0][\n",
            "__________________________________________________________________________________________________\n",
            "conv1d_913 (Conv1D)             (None, 16, 1)        64          dropout_202[0][0]                \n",
            "__________________________________________________________________________________________________\n",
            "tf.expand_dims_4169 (TFOpLambda (None, 16, 1)        0           tf.__operators__.getitem_4250[0][\n",
            "__________________________________________________________________________________________________\n",
            "conv1d_914 (Conv1D)             (None, 16, 1)        64          dropout_203[0][0]                \n",
            "__________________________________________________________________________________________________\n",
            "tf.expand_dims_4171 (TFOpLambda (None, 16, 1)        0           tf.__operators__.getitem_4252[0][\n",
            "__________________________________________________________________________________________________\n",
            "conv1d_915 (Conv1D)             (None, 16, 1)        64          dropout_204[0][0]                \n",
            "__________________________________________________________________________________________________\n",
            "tf.expand_dims_4173 (TFOpLambda (None, 16, 1)        0           tf.__operators__.getitem_4254[0][\n",
            "__________________________________________________________________________________________________\n",
            "conv1d_916 (Conv1D)             (None, 16, 1)        64          dropout_205[0][0]                \n",
            "__________________________________________________________________________________________________\n",
            "tf.expand_dims_4175 (TFOpLambda (None, 16, 1)        0           tf.__operators__.getitem_4256[0][\n",
            "__________________________________________________________________________________________________\n",
            "conv1d_917 (Conv1D)             (None, 16, 1)        64          dropout_206[0][0]                \n",
            "__________________________________________________________________________________________________\n",
            "tf.expand_dims_4177 (TFOpLambda (None, 16, 1)        0           tf.__operators__.getitem_4258[0][\n",
            "__________________________________________________________________________________________________\n",
            "conv1d_918 (Conv1D)             (None, 16, 1)        64          dropout_207[0][0]                \n",
            "__________________________________________________________________________________________________\n",
            "tf.expand_dims_4179 (TFOpLambda (None, 16, 1)        0           tf.__operators__.getitem_4260[0][\n",
            "__________________________________________________________________________________________________\n",
            "conv1d_919 (Conv1D)             (None, 16, 1)        64          dropout_208[0][0]                \n",
            "__________________________________________________________________________________________________\n",
            "tf.expand_dims_4181 (TFOpLambda (None, 16, 1)        0           tf.__operators__.getitem_4262[0][\n",
            "__________________________________________________________________________________________________\n",
            "conv1d_920 (Conv1D)             (None, 16, 1)        64          activation_605[0][0]             \n",
            "__________________________________________________________________________________________________\n",
            "add_1280 (Add)                  (None, 16, 1)        0           conv1d_901[0][0]                 \n",
            "                                                                 tf.expand_dims_4145[0][0]        \n",
            "__________________________________________________________________________________________________\n",
            "add_1281 (Add)                  (None, 16, 1)        0           conv1d_902[0][0]                 \n",
            "                                                                 tf.expand_dims_4147[0][0]        \n",
            "__________________________________________________________________________________________________\n",
            "add_1282 (Add)                  (None, 16, 1)        0           conv1d_903[0][0]                 \n",
            "                                                                 tf.expand_dims_4149[0][0]        \n",
            "__________________________________________________________________________________________________\n",
            "add_1283 (Add)                  (None, 16, 1)        0           conv1d_904[0][0]                 \n",
            "                                                                 tf.expand_dims_4151[0][0]        \n",
            "__________________________________________________________________________________________________\n",
            "add_1284 (Add)                  (None, 16, 1)        0           conv1d_905[0][0]                 \n",
            "                                                                 tf.expand_dims_4153[0][0]        \n",
            "__________________________________________________________________________________________________\n",
            "add_1285 (Add)                  (None, 16, 1)        0           conv1d_906[0][0]                 \n",
            "                                                                 tf.expand_dims_4155[0][0]        \n",
            "__________________________________________________________________________________________________\n",
            "add_1286 (Add)                  (None, 16, 1)        0           conv1d_907[0][0]                 \n",
            "                                                                 tf.expand_dims_4157[0][0]        \n",
            "__________________________________________________________________________________________________\n",
            "add_1287 (Add)                  (None, 16, 1)        0           conv1d_908[0][0]                 \n",
            "                                                                 tf.expand_dims_4159[0][0]        \n",
            "__________________________________________________________________________________________________\n",
            "add_1288 (Add)                  (None, 16, 1)        0           conv1d_909[0][0]                 \n",
            "                                                                 tf.expand_dims_4161[0][0]        \n",
            "__________________________________________________________________________________________________\n",
            "add_1289 (Add)                  (None, 16, 1)        0           conv1d_910[0][0]                 \n",
            "                                                                 tf.expand_dims_4163[0][0]        \n",
            "__________________________________________________________________________________________________\n",
            "add_1290 (Add)                  (None, 16, 1)        0           conv1d_911[0][0]                 \n",
            "                                                                 tf.expand_dims_4165[0][0]        \n",
            "__________________________________________________________________________________________________\n",
            "add_1291 (Add)                  (None, 16, 1)        0           conv1d_912[0][0]                 \n",
            "                                                                 tf.expand_dims_4167[0][0]        \n",
            "__________________________________________________________________________________________________\n",
            "add_1292 (Add)                  (None, 16, 1)        0           conv1d_913[0][0]                 \n",
            "                                                                 tf.expand_dims_4169[0][0]        \n",
            "__________________________________________________________________________________________________\n",
            "add_1293 (Add)                  (None, 16, 1)        0           conv1d_914[0][0]                 \n",
            "                                                                 tf.expand_dims_4171[0][0]        \n",
            "__________________________________________________________________________________________________\n",
            "add_1294 (Add)                  (None, 16, 1)        0           conv1d_915[0][0]                 \n",
            "                                                                 tf.expand_dims_4173[0][0]        \n",
            "__________________________________________________________________________________________________\n",
            "add_1295 (Add)                  (None, 16, 1)        0           conv1d_916[0][0]                 \n",
            "                                                                 tf.expand_dims_4175[0][0]        \n",
            "__________________________________________________________________________________________________\n",
            "add_1296 (Add)                  (None, 16, 1)        0           conv1d_917[0][0]                 \n",
            "                                                                 tf.expand_dims_4177[0][0]        \n",
            "__________________________________________________________________________________________________\n",
            "add_1297 (Add)                  (None, 16, 1)        0           conv1d_918[0][0]                 \n",
            "                                                                 tf.expand_dims_4179[0][0]        \n",
            "__________________________________________________________________________________________________\n",
            "add_1298 (Add)                  (None, 16, 1)        0           conv1d_919[0][0]                 \n",
            "                                                                 tf.expand_dims_4181[0][0]        \n",
            "__________________________________________________________________________________________________\n",
            "add_1302 (Add)                  (None, 16, 2)        0           conv1d_920[0][0]                 \n",
            "                                                                 dilated_preprocess[0][0]         \n",
            "__________________________________________________________________________________________________\n",
            "add_1299 (Add)                  (None, 16, 1)        0           add_1280[0][0]                   \n",
            "                                                                 add_1281[0][0]                   \n",
            "                                                                 add_1282[0][0]                   \n",
            "                                                                 add_1283[0][0]                   \n",
            "                                                                 add_1284[0][0]                   \n",
            "                                                                 add_1285[0][0]                   \n",
            "                                                                 add_1286[0][0]                   \n",
            "                                                                 add_1287[0][0]                   \n",
            "                                                                 add_1288[0][0]                   \n",
            "                                                                 add_1289[0][0]                   \n",
            "                                                                 add_1290[0][0]                   \n",
            "                                                                 add_1291[0][0]                   \n",
            "                                                                 add_1292[0][0]                   \n",
            "                                                                 add_1293[0][0]                   \n",
            "                                                                 add_1294[0][0]                   \n",
            "                                                                 add_1295[0][0]                   \n",
            "                                                                 add_1296[0][0]                   \n",
            "                                                                 add_1297[0][0]                   \n",
            "                                                                 add_1298[0][0]                   \n",
            "__________________________________________________________________________________________________\n",
            "add_1303 (Add)                  (None, 16, 2)        0           add_1302[0][0]                   \n",
            "                                                                 add_1299[0][0]                   \n",
            "__________________________________________________________________________________________________\n",
            "dilated_conv_2_selu_s0 (CausalD (None, 16, 64)       320         add_1303[0][0]                   \n",
            "__________________________________________________________________________________________________\n",
            "dropout_209 (Dropout)           (None, 16, 64)       0           dilated_conv_2_selu_s0[0][0]     \n",
            "__________________________________________________________________________________________________\n",
            "conv1d_921 (Conv1D)             (None, 16, 1)        64          dropout_209[0][0]                \n",
            "__________________________________________________________________________________________________\n",
            "add_1304 (Add)                  (None, 16, 2)        0           add_1303[0][0]                   \n",
            "                                                                 conv1d_921[0][0]                 \n",
            "__________________________________________________________________________________________________\n",
            "dilated_conv_4_selu_s0 (CausalD (None, 16, 64)       320         add_1304[0][0]                   \n",
            "__________________________________________________________________________________________________\n",
            "dropout_210 (Dropout)           (None, 16, 64)       0           dilated_conv_4_selu_s0[0][0]     \n",
            "__________________________________________________________________________________________________\n",
            "conv1d_923 (Conv1D)             (None, 16, 1)        64          dropout_210[0][0]                \n",
            "__________________________________________________________________________________________________\n",
            "add_1305 (Add)                  (None, 16, 2)        0           add_1304[0][0]                   \n",
            "                                                                 conv1d_923[0][0]                 \n",
            "__________________________________________________________________________________________________\n",
            "dilated_conv_8_selu_s0 (CausalD (None, 16, 64)       320         add_1305[0][0]                   \n",
            "__________________________________________________________________________________________________\n",
            "dropout_211 (Dropout)           (None, 16, 64)       0           dilated_conv_8_selu_s0[0][0]     \n",
            "__________________________________________________________________________________________________\n",
            "conv1d_925 (Conv1D)             (None, 16, 1)        64          dropout_211[0][0]                \n",
            "__________________________________________________________________________________________________\n",
            "add_1306 (Add)                  (None, 16, 2)        0           add_1305[0][0]                   \n",
            "                                                                 conv1d_925[0][0]                 \n",
            "__________________________________________________________________________________________________\n",
            "conv1d_927 (Conv1D)             (None, 16, 1)        3           add_1306[0][0]                   \n",
            "__________________________________________________________________________________________________\n",
            "activation_606 (Activation)     (None, 16, 1)        0           conv1d_927[0][0]                 \n",
            "__________________________________________________________________________________________________\n",
            "conv1d_928 (Conv1D)             (None, 16, 64)       128         activation_606[0][0]             \n",
            "__________________________________________________________________________________________________\n",
            "dropout_212 (Dropout)           (None, 16, 64)       0           conv1d_928[0][0]                 \n",
            "__________________________________________________________________________________________________\n",
            "tf.__operators__.getitem_4263 ( (None, 64)           0           dropout_212[0][0]                \n",
            "__________________________________________________________________________________________________\n",
            "dense_37 (Dense)                (None, 256)          16640       tf.__operators__.getitem_4263[0][\n",
            "==================================================================================================\n",
            "Total params: 23,175\n",
            "Trainable params: 23,175\n",
            "Non-trainable params: 0\n",
            "__________________________________________________________________________________________________\n"
          ],
          "name": "stdout"
        }
      ]
    },
    {
      "cell_type": "code",
      "metadata": {
        "id": "zIJ-LmYkBEsZ"
      },
      "source": [
        "from keras.callbacks import *\n",
        "\n",
        "\n",
        "mcp_save = ModelCheckpoint('LSTM_cls_interval3.hdf5', save_best_only=True, monitor='val_loss', mode='max')\n",
        "earlyStopping = EarlyStopping(monitor='val_loss', patience=50, verbose=1, mode='max')"
      ],
      "execution_count": null,
      "outputs": []
    },
    {
      "cell_type": "code",
      "metadata": {
        "id": "tOVQPlXyBOL4"
      },
      "source": [
        "model.fit(x=x_train,y=y_train,validation_data=(x_val,y_val),epochs=5000, shuffle=False)\n"
      ],
      "execution_count": null,
      "outputs": []
    },
    {
      "cell_type": "code",
      "metadata": {
        "id": "IgGc6g4dVYJQ"
      },
      "source": [
        "model.predict(x_train)"
      ],
      "execution_count": null,
      "outputs": []
    },
    {
      "cell_type": "markdown",
      "metadata": {
        "id": "ufsIFFXvYkiW"
      },
      "source": [
        "# Entrainement du modèle"
      ]
    },
    {
      "cell_type": "markdown",
      "metadata": {
        "id": "iyEdiKMmYkiX"
      },
      "source": [
        "**1. Optimisation de l'apprentissage**"
      ]
    },
    {
      "cell_type": "markdown",
      "metadata": {
        "id": "cOFjr4yXYkiX"
      },
      "source": [
        "Pour accélérer le traitement des données, nous n'allons pas utiliser l'intégralité des données pendant la mise à jour du gradient, comme cela a été fait jusqu'à présent (en utilisant le dataset).  \n",
        "Cette fois-ci, nous allons forcer les mises à jour du gradient à se produire de manière moins fréquente en attribuant la valeur du batch_size à prendre en compte lors de la regression du modèle.  \n",
        "Pour cela, on utilise l'argument \"batch_size\" dans la méthode fit. En précisant un batch_size=1000, cela signifie que :\n",
        " - Sur notre total de 56000 échantillons, 56 seront utilisés pour les calculs du gradient\n",
        " - Il y aura également 56 itérations à chaque période.\n",
        "  \n",
        "    \n",
        "    \n",
        "Si nous avions pris le dataset comme entrée, nous aurions eu :\n",
        "- Un total de 56000 échantillons également\n",
        "- Chaque période aurait également pris 56 itérations pour se compléter\n",
        "- Mais 1000 échantillons auraient été utilisés pour le calcul du gradient, au lieu de 56 avec la méthode utilisée."
      ]
    },
    {
      "cell_type": "code",
      "metadata": {
        "id": "HU0a-eQ9YkiY",
        "colab": {
          "base_uri": "https://localhost:8080/"
        },
        "outputId": "36dc6e6b-b8d1-4739-9b0e-b60f2e6f9fd4"
      },
      "source": [
        "# Définition de la fonction de régulation du taux d'apprentissage\n",
        "def RegulationTauxApprentissage(periode, taux):\n",
        "  return 1e-8*10**(periode/10)\n",
        "\n",
        "# Définition de l'optimiseur à utiliser\n",
        "optimiseur=tf.keras.optimizers.Adam()\n",
        "#optimiseur=tf.keras.optimizers.SGD()\n",
        "\n",
        "# Compile le modèle\n",
        "model.compile(loss=\"categorical_crossentropy\", optimizer=optimiseur, metrics=[\"accuracy\"])\n",
        "\n",
        "# Utilisation de la méthode ModelCheckPoint\n",
        "CheckPoint = tf.keras.callbacks.ModelCheckpoint(\"poids.hdf5\", monitor='accuracy', verbose=1, save_best_only=True, save_weights_only = True, mode='auto', save_freq='epoch')\n",
        "\n",
        "# Entraine le modèle en utilisant notre fonction personnelle de régulation du taux d'apprentissage\n",
        "historique = model.fit(x=x_train,y=y_train_OneHot,epochs=100,verbose=1, callbacks=[tf.keras.callbacks.LearningRateScheduler(RegulationTauxApprentissage), CheckPoint],batch_size=128)\n"
      ],
      "execution_count": 269,
      "outputs": [
        {
          "output_type": "stream",
          "text": [
            "Epoch 1/100\n",
            "16/16 [==============================] - 6s 20ms/step - loss: 5.6109 - accuracy: 0.0043\n",
            "\n",
            "Epoch 00001: accuracy improved from -inf to 0.00415, saving model to poids.hdf5\n",
            "Epoch 2/100\n",
            "16/16 [==============================] - 0s 20ms/step - loss: 5.6104 - accuracy: 0.0054\n",
            "\n",
            "Epoch 00002: accuracy did not improve from 0.00415\n",
            "Epoch 3/100\n",
            "16/16 [==============================] - 0s 20ms/step - loss: 5.6187 - accuracy: 0.0025\n",
            "\n",
            "Epoch 00003: accuracy did not improve from 0.00415\n",
            "Epoch 4/100\n",
            "16/16 [==============================] - 0s 20ms/step - loss: 5.6075 - accuracy: 0.0038\n",
            "\n",
            "Epoch 00004: accuracy did not improve from 0.00415\n",
            "Epoch 5/100\n",
            "16/16 [==============================] - 0s 20ms/step - loss: 5.6088 - accuracy: 0.0022\n",
            "\n",
            "Epoch 00005: accuracy did not improve from 0.00415\n",
            "Epoch 6/100\n",
            "16/16 [==============================] - 0s 20ms/step - loss: 5.6098 - accuracy: 0.0042\n",
            "\n",
            "Epoch 00006: accuracy did not improve from 0.00415\n",
            "Epoch 7/100\n",
            "16/16 [==============================] - 0s 20ms/step - loss: 5.6177 - accuracy: 0.0056\n",
            "\n",
            "Epoch 00007: accuracy did not improve from 0.00415\n",
            "Epoch 8/100\n",
            "16/16 [==============================] - 0s 19ms/step - loss: 5.6111 - accuracy: 0.0034\n",
            "\n",
            "Epoch 00008: accuracy did not improve from 0.00415\n",
            "Epoch 9/100\n",
            "16/16 [==============================] - 0s 20ms/step - loss: 5.6158 - accuracy: 0.0032\n",
            "\n",
            "Epoch 00009: accuracy did not improve from 0.00415\n",
            "Epoch 10/100\n",
            "16/16 [==============================] - 0s 20ms/step - loss: 5.6203 - accuracy: 0.0020\n",
            "\n",
            "Epoch 00010: accuracy did not improve from 0.00415\n",
            "Epoch 11/100\n",
            "16/16 [==============================] - 0s 20ms/step - loss: 5.6068 - accuracy: 0.0052\n",
            "\n",
            "Epoch 00011: accuracy did not improve from 0.00415\n",
            "Epoch 12/100\n",
            "16/16 [==============================] - 0s 20ms/step - loss: 5.6109 - accuracy: 0.0062\n",
            "\n",
            "Epoch 00012: accuracy did not improve from 0.00415\n",
            "Epoch 13/100\n",
            "16/16 [==============================] - 0s 20ms/step - loss: 5.6138 - accuracy: 0.0034\n",
            "\n",
            "Epoch 00013: accuracy did not improve from 0.00415\n",
            "Epoch 14/100\n",
            "16/16 [==============================] - 0s 20ms/step - loss: 5.6158 - accuracy: 0.0055\n",
            "\n",
            "Epoch 00014: accuracy did not improve from 0.00415\n",
            "Epoch 15/100\n",
            "16/16 [==============================] - 0s 20ms/step - loss: 5.6190 - accuracy: 0.0040\n",
            "\n",
            "Epoch 00015: accuracy did not improve from 0.00415\n",
            "Epoch 16/100\n",
            "16/16 [==============================] - 0s 20ms/step - loss: 5.6125 - accuracy: 0.0036\n",
            "\n",
            "Epoch 00016: accuracy did not improve from 0.00415\n",
            "Epoch 17/100\n",
            "16/16 [==============================] - 0s 20ms/step - loss: 5.6099 - accuracy: 0.0034\n",
            "\n",
            "Epoch 00017: accuracy did not improve from 0.00415\n",
            "Epoch 18/100\n",
            "16/16 [==============================] - 0s 19ms/step - loss: 5.6117 - accuracy: 0.0058\n",
            "\n",
            "Epoch 00018: accuracy did not improve from 0.00415\n",
            "Epoch 19/100\n",
            "16/16 [==============================] - 0s 20ms/step - loss: 5.6133 - accuracy: 0.0034\n",
            "\n",
            "Epoch 00019: accuracy did not improve from 0.00415\n",
            "Epoch 20/100\n",
            "16/16 [==============================] - 0s 20ms/step - loss: 5.6162 - accuracy: 0.0032\n",
            "\n",
            "Epoch 00020: accuracy did not improve from 0.00415\n",
            "Epoch 21/100\n",
            "16/16 [==============================] - 0s 20ms/step - loss: 5.6129 - accuracy: 0.0037\n",
            "\n",
            "Epoch 00021: accuracy did not improve from 0.00415\n",
            "Epoch 22/100\n",
            "16/16 [==============================] - 0s 20ms/step - loss: 5.6106 - accuracy: 0.0044\n",
            "\n",
            "Epoch 00022: accuracy did not improve from 0.00415\n",
            "Epoch 23/100\n",
            "16/16 [==============================] - 0s 20ms/step - loss: 5.6157 - accuracy: 0.0040\n",
            "\n",
            "Epoch 00023: accuracy did not improve from 0.00415\n",
            "Epoch 24/100\n",
            "16/16 [==============================] - 0s 19ms/step - loss: 5.6067 - accuracy: 0.0043\n",
            "\n",
            "Epoch 00024: accuracy did not improve from 0.00415\n",
            "Epoch 25/100\n",
            "16/16 [==============================] - 0s 21ms/step - loss: 5.6207 - accuracy: 0.0060\n",
            "\n",
            "Epoch 00025: accuracy did not improve from 0.00415\n",
            "Epoch 26/100\n",
            "16/16 [==============================] - 0s 20ms/step - loss: 5.6063 - accuracy: 0.0036\n",
            "\n",
            "Epoch 00026: accuracy did not improve from 0.00415\n",
            "Epoch 27/100\n",
            "16/16 [==============================] - 0s 20ms/step - loss: 5.6076 - accuracy: 0.0048\n",
            "\n",
            "Epoch 00027: accuracy did not improve from 0.00415\n",
            "Epoch 28/100\n",
            "16/16 [==============================] - 0s 20ms/step - loss: 5.6149 - accuracy: 0.0044\n",
            "\n",
            "Epoch 00028: accuracy did not improve from 0.00415\n",
            "Epoch 29/100\n",
            "16/16 [==============================] - 0s 20ms/step - loss: 5.6072 - accuracy: 0.0052\n",
            "\n",
            "Epoch 00029: accuracy did not improve from 0.00415\n",
            "Epoch 30/100\n",
            "16/16 [==============================] - 0s 20ms/step - loss: 5.6173 - accuracy: 0.0044\n",
            "\n",
            "Epoch 00030: accuracy did not improve from 0.00415\n",
            "Epoch 31/100\n",
            "16/16 [==============================] - 0s 21ms/step - loss: 5.6103 - accuracy: 0.0037\n",
            "\n",
            "Epoch 00031: accuracy did not improve from 0.00415\n",
            "Epoch 32/100\n",
            "16/16 [==============================] - 0s 19ms/step - loss: 5.6151 - accuracy: 0.0044\n",
            "\n",
            "Epoch 00032: accuracy did not improve from 0.00415\n",
            "Epoch 33/100\n",
            "16/16 [==============================] - 0s 20ms/step - loss: 5.6151 - accuracy: 0.0049\n",
            "\n",
            "Epoch 00033: accuracy did not improve from 0.00415\n",
            "Epoch 34/100\n",
            "16/16 [==============================] - 0s 20ms/step - loss: 5.6208 - accuracy: 0.0042\n",
            "\n",
            "Epoch 00034: accuracy did not improve from 0.00415\n",
            "Epoch 35/100\n",
            "16/16 [==============================] - 0s 20ms/step - loss: 5.6042 - accuracy: 0.0032\n",
            "\n",
            "Epoch 00035: accuracy did not improve from 0.00415\n",
            "Epoch 36/100\n",
            "16/16 [==============================] - 0s 20ms/step - loss: 5.6034 - accuracy: 0.0049\n",
            "\n",
            "Epoch 00036: accuracy did not improve from 0.00415\n",
            "Epoch 37/100\n",
            "16/16 [==============================] - 0s 20ms/step - loss: 5.6007 - accuracy: 0.0036\n",
            "\n",
            "Epoch 00037: accuracy did not improve from 0.00415\n",
            "Epoch 38/100\n",
            "16/16 [==============================] - 0s 20ms/step - loss: 5.6030 - accuracy: 0.0032\n",
            "\n",
            "Epoch 00038: accuracy did not improve from 0.00415\n",
            "Epoch 39/100\n",
            "16/16 [==============================] - 0s 20ms/step - loss: 5.6047 - accuracy: 0.0044\n",
            "\n",
            "Epoch 00039: accuracy did not improve from 0.00415\n",
            "Epoch 40/100\n",
            "16/16 [==============================] - 0s 20ms/step - loss: 5.6053 - accuracy: 0.0023\n",
            "\n",
            "Epoch 00040: accuracy did not improve from 0.00415\n",
            "Epoch 41/100\n",
            "16/16 [==============================] - 0s 20ms/step - loss: 5.5930 - accuracy: 0.0051\n",
            "\n",
            "Epoch 00041: accuracy did not improve from 0.00415\n",
            "Epoch 42/100\n",
            "16/16 [==============================] - 0s 20ms/step - loss: 5.5923 - accuracy: 0.0034\n",
            "\n",
            "Epoch 00042: accuracy did not improve from 0.00415\n",
            "Epoch 43/100\n",
            "16/16 [==============================] - 0s 20ms/step - loss: 5.5872 - accuracy: 0.0037\n",
            "\n",
            "Epoch 00043: accuracy did not improve from 0.00415\n",
            "Epoch 44/100\n",
            "16/16 [==============================] - 0s 21ms/step - loss: 5.5793 - accuracy: 0.0040\n",
            "\n",
            "Epoch 00044: accuracy did not improve from 0.00415\n",
            "Epoch 45/100\n",
            "16/16 [==============================] - 0s 21ms/step - loss: 5.5707 - accuracy: 0.0041\n",
            "\n",
            "Epoch 00045: accuracy did not improve from 0.00415\n",
            "Epoch 46/100\n",
            "16/16 [==============================] - 0s 20ms/step - loss: 5.5712 - accuracy: 0.0063\n",
            "\n",
            "Epoch 00046: accuracy did not improve from 0.00415\n",
            "Epoch 47/100\n",
            "16/16 [==============================] - 0s 21ms/step - loss: 5.5629 - accuracy: 0.0043\n",
            "\n",
            "Epoch 00047: accuracy did not improve from 0.00415\n",
            "Epoch 48/100\n",
            "16/16 [==============================] - 0s 20ms/step - loss: 5.5627 - accuracy: 0.0028\n",
            "\n",
            "Epoch 00048: accuracy did not improve from 0.00415\n",
            "Epoch 49/100\n",
            "16/16 [==============================] - 0s 19ms/step - loss: 5.5554 - accuracy: 0.0035\n",
            "\n",
            "Epoch 00049: accuracy did not improve from 0.00415\n",
            "Epoch 50/100\n",
            "16/16 [==============================] - 0s 20ms/step - loss: 5.5534 - accuracy: 0.0051\n",
            "\n",
            "Epoch 00050: accuracy did not improve from 0.00415\n",
            "Epoch 51/100\n",
            "16/16 [==============================] - 0s 21ms/step - loss: 5.5522 - accuracy: 0.0048\n",
            "\n",
            "Epoch 00051: accuracy improved from 0.00415 to 0.00467, saving model to poids.hdf5\n",
            "Epoch 52/100\n",
            "16/16 [==============================] - 0s 20ms/step - loss: 5.5502 - accuracy: 0.0034\n",
            "\n",
            "Epoch 00052: accuracy did not improve from 0.00467\n",
            "Epoch 53/100\n",
            "16/16 [==============================] - 0s 20ms/step - loss: 5.5468 - accuracy: 0.0049\n",
            "\n",
            "Epoch 00053: accuracy did not improve from 0.00467\n",
            "Epoch 54/100\n",
            "16/16 [==============================] - 0s 20ms/step - loss: 5.5468 - accuracy: 0.0067\n",
            "\n",
            "Epoch 00054: accuracy did not improve from 0.00467\n",
            "Epoch 55/100\n",
            "16/16 [==============================] - 0s 20ms/step - loss: 5.5467 - accuracy: 0.0031\n",
            "\n",
            "Epoch 00055: accuracy did not improve from 0.00467\n",
            "Epoch 56/100\n",
            "16/16 [==============================] - 0s 20ms/step - loss: 5.5443 - accuracy: 0.0051\n",
            "\n",
            "Epoch 00056: accuracy did not improve from 0.00467\n",
            "Epoch 57/100\n",
            "16/16 [==============================] - 0s 22ms/step - loss: 5.5434 - accuracy: 0.0065\n",
            "\n",
            "Epoch 00057: accuracy did not improve from 0.00467\n",
            "Epoch 58/100\n",
            "16/16 [==============================] - 0s 19ms/step - loss: 5.5440 - accuracy: 0.0051\n",
            "\n",
            "Epoch 00058: accuracy did not improve from 0.00467\n",
            "Epoch 59/100\n",
            "16/16 [==============================] - 0s 20ms/step - loss: 5.5454 - accuracy: 0.0060\n",
            "\n",
            "Epoch 00059: accuracy did not improve from 0.00467\n",
            "Epoch 60/100\n",
            "16/16 [==============================] - 0s 20ms/step - loss: 5.5455 - accuracy: 0.0066\n",
            "\n",
            "Epoch 00060: accuracy did not improve from 0.00467\n",
            "Epoch 61/100\n",
            "16/16 [==============================] - 0s 19ms/step - loss: 5.5458 - accuracy: 0.0069\n",
            "\n",
            "Epoch 00061: accuracy did not improve from 0.00467\n",
            "Epoch 62/100\n",
            "16/16 [==============================] - 0s 20ms/step - loss: 5.5521 - accuracy: 0.0061\n",
            "\n",
            "Epoch 00062: accuracy did not improve from 0.00467\n",
            "Epoch 63/100\n",
            "16/16 [==============================] - 0s 19ms/step - loss: 5.5565 - accuracy: 0.0026\n",
            "\n",
            "Epoch 00063: accuracy did not improve from 0.00467\n",
            "Epoch 64/100\n",
            "16/16 [==============================] - 0s 20ms/step - loss: 5.5919 - accuracy: 0.0064\n",
            "\n",
            "Epoch 00064: accuracy improved from 0.00467 to 0.00570, saving model to poids.hdf5\n",
            "Epoch 65/100\n",
            "16/16 [==============================] - 0s 20ms/step - loss: 5.6201 - accuracy: 0.0035\n",
            "\n",
            "Epoch 00065: accuracy did not improve from 0.00570\n",
            "Epoch 66/100\n",
            "16/16 [==============================] - 0s 20ms/step - loss: 5.7365 - accuracy: 0.0061\n",
            "\n",
            "Epoch 00066: accuracy did not improve from 0.00570\n",
            "Epoch 67/100\n",
            "16/16 [==============================] - 0s 20ms/step - loss: 5.7837 - accuracy: 0.0062\n",
            "\n",
            "Epoch 00067: accuracy improved from 0.00570 to 0.00622, saving model to poids.hdf5\n",
            "Epoch 68/100\n",
            "16/16 [==============================] - 0s 20ms/step - loss: 6.1572 - accuracy: 0.0029\n",
            "\n",
            "Epoch 00068: accuracy did not improve from 0.00622\n",
            "Epoch 69/100\n",
            "16/16 [==============================] - 0s 20ms/step - loss: 377.7503 - accuracy: 0.0026\n",
            "\n",
            "Epoch 00069: accuracy did not improve from 0.00622\n",
            "Epoch 70/100\n",
            "16/16 [==============================] - 0s 20ms/step - loss: 1133.4663 - accuracy: 0.0045\n",
            "\n",
            "Epoch 00070: accuracy did not improve from 0.00622\n",
            "Epoch 71/100\n",
            "16/16 [==============================] - 0s 20ms/step - loss: 45.0216 - accuracy: 0.0016\n",
            "\n",
            "Epoch 00071: accuracy did not improve from 0.00622\n",
            "Epoch 72/100\n",
            "16/16 [==============================] - 0s 20ms/step - loss: 78.1945 - accuracy: 0.0027\n",
            "\n",
            "Epoch 00072: accuracy did not improve from 0.00622\n",
            "Epoch 73/100\n",
            "16/16 [==============================] - 0s 21ms/step - loss: 91.0596 - accuracy: 0.0016\n",
            "\n",
            "Epoch 00073: accuracy did not improve from 0.00622\n",
            "Epoch 74/100\n",
            "16/16 [==============================] - 0s 20ms/step - loss: 150.1159 - accuracy: 0.0030\n",
            "\n",
            "Epoch 00074: accuracy did not improve from 0.00622\n",
            "Epoch 75/100\n",
            "16/16 [==============================] - 0s 21ms/step - loss: 278.1976 - accuracy: 0.0039\n",
            "\n",
            "Epoch 00075: accuracy did not improve from 0.00622\n",
            "Epoch 76/100\n",
            "16/16 [==============================] - 0s 21ms/step - loss: 493.3799 - accuracy: 0.0023\n",
            "\n",
            "Epoch 00076: accuracy did not improve from 0.00622\n",
            "Epoch 77/100\n",
            "16/16 [==============================] - 0s 20ms/step - loss: 776.0730 - accuracy: 0.0054\n",
            "\n",
            "Epoch 00077: accuracy did not improve from 0.00622\n",
            "Epoch 78/100\n",
            "16/16 [==============================] - 0s 20ms/step - loss: 849.3138 - accuracy: 0.0022\n",
            "\n",
            "Epoch 00078: accuracy did not improve from 0.00622\n",
            "Epoch 79/100\n",
            "16/16 [==============================] - 0s 21ms/step - loss: 1400.6999 - accuracy: 0.0050\n",
            "\n",
            "Epoch 00079: accuracy did not improve from 0.00622\n",
            "Epoch 80/100\n",
            "16/16 [==============================] - 0s 21ms/step - loss: 2414.5587 - accuracy: 0.0047\n",
            "\n",
            "Epoch 00080: accuracy did not improve from 0.00622\n",
            "Epoch 81/100\n",
            "16/16 [==============================] - 0s 21ms/step - loss: 4281.3888 - accuracy: 0.0046\n",
            "\n",
            "Epoch 00081: accuracy did not improve from 0.00622\n",
            "Epoch 82/100\n",
            "16/16 [==============================] - 0s 20ms/step - loss: 6420.7177 - accuracy: 0.0041\n",
            "\n",
            "Epoch 00082: accuracy did not improve from 0.00622\n",
            "Epoch 83/100\n",
            "16/16 [==============================] - 0s 20ms/step - loss: 9007.4762 - accuracy: 0.0037\n",
            "\n",
            "Epoch 00083: accuracy did not improve from 0.00622\n",
            "Epoch 84/100\n",
            "16/16 [==============================] - 0s 20ms/step - loss: 13827.3747 - accuracy: 0.0039\n",
            "\n",
            "Epoch 00084: accuracy did not improve from 0.00622\n",
            "Epoch 85/100\n",
            "16/16 [==============================] - 0s 21ms/step - loss: 24812.0238 - accuracy: 0.0025\n",
            "\n",
            "Epoch 00085: accuracy did not improve from 0.00622\n",
            "Epoch 86/100\n",
            "16/16 [==============================] - 0s 21ms/step - loss: 38993.3089 - accuracy: 0.0025\n",
            "\n",
            "Epoch 00086: accuracy did not improve from 0.00622\n",
            "Epoch 87/100\n",
            "16/16 [==============================] - 0s 21ms/step - loss: 55799.5273 - accuracy: 0.0038\n",
            "\n",
            "Epoch 00087: accuracy did not improve from 0.00622\n",
            "Epoch 88/100\n",
            "16/16 [==============================] - 0s 21ms/step - loss: 127169.2633 - accuracy: 0.0020\n",
            "\n",
            "Epoch 00088: accuracy did not improve from 0.00622\n",
            "Epoch 89/100\n",
            "16/16 [==============================] - 0s 20ms/step - loss: 197122.7261 - accuracy: 0.0044\n",
            "\n",
            "Epoch 00089: accuracy did not improve from 0.00622\n",
            "Epoch 90/100\n",
            "16/16 [==============================] - 0s 21ms/step - loss: 318828.3189 - accuracy: 2.8425e-04\n",
            "\n",
            "Epoch 00090: accuracy did not improve from 0.00622\n",
            "Epoch 91/100\n",
            "16/16 [==============================] - 0s 20ms/step - loss: 465444.5074 - accuracy: 3.3689e-04\n",
            "\n",
            "Epoch 00091: accuracy did not improve from 0.00622\n",
            "Epoch 92/100\n",
            "16/16 [==============================] - 0s 20ms/step - loss: nan - accuracy: 0.0052\n",
            "\n",
            "Epoch 00092: accuracy did not improve from 0.00622\n",
            "Epoch 93/100\n",
            "16/16 [==============================] - 0s 20ms/step - loss: nan - accuracy: 0.0052\n",
            "\n",
            "Epoch 00093: accuracy did not improve from 0.00622\n",
            "Epoch 94/100\n",
            "16/16 [==============================] - 0s 20ms/step - loss: nan - accuracy: 0.0066\n",
            "\n",
            "Epoch 00094: accuracy did not improve from 0.00622\n",
            "Epoch 95/100\n",
            "16/16 [==============================] - 0s 20ms/step - loss: nan - accuracy: 0.0034\n",
            "\n",
            "Epoch 00095: accuracy did not improve from 0.00622\n",
            "Epoch 96/100\n",
            "16/16 [==============================] - 0s 21ms/step - loss: nan - accuracy: 0.0032\n",
            "\n",
            "Epoch 00096: accuracy did not improve from 0.00622\n",
            "Epoch 97/100\n",
            "16/16 [==============================] - 0s 20ms/step - loss: nan - accuracy: 0.0035\n",
            "\n",
            "Epoch 00097: accuracy did not improve from 0.00622\n",
            "Epoch 98/100\n",
            "16/16 [==============================] - 0s 20ms/step - loss: nan - accuracy: 0.0024\n",
            "\n",
            "Epoch 00098: accuracy did not improve from 0.00622\n",
            "Epoch 99/100\n",
            "16/16 [==============================] - 0s 20ms/step - loss: nan - accuracy: 0.0038\n",
            "\n",
            "Epoch 00099: accuracy did not improve from 0.00622\n",
            "Epoch 100/100\n",
            "16/16 [==============================] - 0s 20ms/step - loss: nan - accuracy: 0.0042\n",
            "\n",
            "Epoch 00100: accuracy did not improve from 0.00622\n"
          ],
          "name": "stdout"
        }
      ]
    },
    {
      "cell_type": "code",
      "metadata": {
        "id": "GHchQmnoYkiZ",
        "colab": {
          "base_uri": "https://localhost:8080/",
          "height": 411
        },
        "outputId": "1df5610f-d7d7-4426-8faa-b457e35de751"
      },
      "source": [
        "# Construit un vecteur avec les valeurs du taux d'apprentissage à chaque période \n",
        "taux = 1e-8*(10**(np.arange(100)/10))\n",
        "\n",
        "# Affiche l'erreur en fonction du taux d'apprentissage\n",
        "plt.figure(figsize=(10, 6))\n",
        "plt.semilogx(taux,historique.history[\"loss\"])\n",
        "plt.axis([ taux[0], taux[99], 0, 20])\n",
        "plt.title(\"Evolution de l'erreur en fonction du taux d'apprentissage\")"
      ],
      "execution_count": 270,
      "outputs": [
        {
          "output_type": "execute_result",
          "data": {
            "text/plain": [
              "Text(0.5, 1.0, \"Evolution de l'erreur en fonction du taux d'apprentissage\")"
            ]
          },
          "metadata": {
            "tags": []
          },
          "execution_count": 270
        },
        {
          "output_type": "display_data",
          "data": {
            "image/png": "[encoded data removed]",
            "text/plain": [
              "<Figure size 720x432 with 1 Axes>"
            ]
          },
          "metadata": {
            "tags": [],
            "needs_background": "light"
          }
        }
      ]
    },
    {
      "cell_type": "code",
      "metadata": {
        "id": "tc5-yJEqYkia"
      },
      "source": [
        "# Chargement des poids sauvegardés\n",
        "model.load_weights(\"poids.hdf5\")"
      ],
      "execution_count": 272,
      "outputs": []
    },
    {
      "cell_type": "markdown",
      "metadata": {
        "id": "fx8H8AHKYkia"
      },
      "source": [
        "**2. Entrainement du modèle**"
      ]
    },
    {
      "cell_type": "code",
      "metadata": {
        "id": "6ZWWRL2WYkib",
        "colab": {
          "base_uri": "https://localhost:8080/",
          "height": 1000
        },
        "outputId": "3e2593e9-68c3-4c80-ea93-4f035fb8264c"
      },
      "source": [
        "from google.colab import files\n",
        "\n",
        "max_periodes = 5000\n",
        "\n",
        "# Classe permettant d'arrêter l'entrainement si la variation\n",
        "# devient plus petite qu'une valeur à choisir sur un nombre\n",
        "# de périodes à choisir\n",
        "class StopTrain(keras.callbacks.Callback):\n",
        "    def __init__(self, delta=0.01,periodes=100, term=\"loss\", logs={}):\n",
        "      self.n_periodes = 0\n",
        "      self.periodes = periodes\n",
        "      self.loss_1 = 100\n",
        "      self.delta = delta\n",
        "      self.term = term\n",
        "    def on_epoch_end(self, epoch, logs={}):\n",
        "      diff_loss = abs(self.loss_1 - logs[self.term])\n",
        "      self.loss_1 = logs[self.term]\n",
        "      if (diff_loss < self.delta):\n",
        "        self.n_periodes = self.n_periodes + 1\n",
        "      else:\n",
        "        self.n_periodes = 0\n",
        "      if (self.n_periodes == self.periodes):\n",
        "        print(\"Arrêt de l'entrainement...\")\n",
        "        self.model.stop_training = True\n",
        "\n",
        "  \n",
        "# Définition des paramètres liés à l'évolution du taux d'apprentissage\n",
        "lr_schedule = tf.keras.optimizers.schedules.InverseTimeDecay(\n",
        "    initial_learning_rate=0.001,\n",
        "    decay_steps=10,\n",
        "    decay_rate=0.01)\n",
        "\n",
        "# Définition de l'optimiseur à utiliser\n",
        "optimiseur=tf.keras.optimizers.Adam(learning_rate=lr_schedule)\n",
        "#optimiseur=tf.keras.optimizers.SGD(learning_rate=lr_schedule,momentum=0.9)\n",
        "\n",
        "\n",
        "# Utilisation de la méthode ModelCheckPoint\n",
        "CheckPoint = tf.keras.callbacks.ModelCheckpoint(\"poids_train.hdf5\", monitor='loss', verbose=1, save_best_only=True, save_weights_only = True, mode='auto', save_freq='epoch')\n",
        "\n",
        "# Compile le modèle\n",
        "model.compile(loss=\"categorical_crossentropy\", optimizer=optimiseur, metrics=[\"accuracy\"])\n",
        "\n",
        "# Entraine le modèle, avec une réduction des calculs du gradient\n",
        "historique = model.fit(x=x_train,y=y_train_OneHot,validation_data=(x_val,y_val_OneHot), epochs=max_periodes,verbose=1, callbacks=[CheckPoint],batch_size=64)\n",
        "\n",
        "# Entraine le modèle sans réduction de calculs\n",
        "#historique = model.fit(dataset,validation_data=dataset_val, epochs=max_periodes,verbose=1, callbacks=[CheckPoint,StopTrain(delta=1e-3,periodes = 20, term=\"My_MSE\")])\n",
        "\n",
        "files.download('poids_train.hdf5')\n",
        "\n"
      ],
      "execution_count": 283,
      "outputs": [
        {
          "output_type": "stream",
          "text": [
            "Epoch 1/5000\n",
            "31/31 [==============================] - 8s 63ms/step - loss: 5.6158 - accuracy: 0.0037 - val_loss: 5.5782 - val_accuracy: 0.0000e+00\n",
            "\n",
            "Epoch 00001: loss improved from inf to 5.61446, saving model to poids_train.hdf5\n",
            "Epoch 2/5000\n",
            "31/31 [==============================] - 1s 24ms/step - loss: 5.5866 - accuracy: 0.0030 - val_loss: 5.5611 - val_accuracy: 0.0000e+00\n",
            "\n",
            "Epoch 00002: loss improved from 5.61446 to 5.58673, saving model to poids_train.hdf5\n",
            "Epoch 3/5000\n",
            "31/31 [==============================] - 1s 23ms/step - loss: 5.5759 - accuracy: 0.0025 - val_loss: 5.5590 - val_accuracy: 0.0000e+00\n",
            "\n",
            "Epoch 00003: loss improved from 5.58673 to 5.57482, saving model to poids_train.hdf5\n",
            "Epoch 4/5000\n",
            "31/31 [==============================] - 1s 23ms/step - loss: 5.5649 - accuracy: 1.1982e-04 - val_loss: 5.5485 - val_accuracy: 0.0000e+00\n",
            "\n",
            "Epoch 00004: loss improved from 5.57482 to 5.56433, saving model to poids_train.hdf5\n",
            "Epoch 5/5000\n",
            "31/31 [==============================] - 1s 23ms/step - loss: 5.5559 - accuracy: 0.0053 - val_loss: 5.5458 - val_accuracy: 0.0000e+00\n",
            "\n",
            "Epoch 00005: loss improved from 5.56433 to 5.55798, saving model to poids_train.hdf5\n",
            "Epoch 6/5000\n",
            "31/31 [==============================] - 1s 23ms/step - loss: 5.5524 - accuracy: 0.0046 - val_loss: 5.5400 - val_accuracy: 0.0000e+00\n",
            "\n",
            "Epoch 00006: loss improved from 5.55798 to 5.55531, saving model to poids_train.hdf5\n",
            "Epoch 7/5000\n",
            "31/31 [==============================] - 1s 23ms/step - loss: 5.5517 - accuracy: 0.0040 - val_loss: 5.5247 - val_accuracy: 0.0000e+00\n",
            "\n",
            "Epoch 00007: loss improved from 5.55531 to 5.55210, saving model to poids_train.hdf5\n",
            "Epoch 8/5000\n",
            "31/31 [==============================] - 1s 23ms/step - loss: 5.5508 - accuracy: 0.0033 - val_loss: 5.5199 - val_accuracy: 0.0000e+00\n",
            "\n",
            "Epoch 00008: loss improved from 5.55210 to 5.55107, saving model to poids_train.hdf5\n",
            "Epoch 9/5000\n",
            "31/31 [==============================] - 1s 23ms/step - loss: 5.5461 - accuracy: 0.0047 - val_loss: 5.5247 - val_accuracy: 0.0000e+00\n",
            "\n",
            "Epoch 00009: loss improved from 5.55107 to 5.54893, saving model to poids_train.hdf5\n",
            "Epoch 10/5000\n",
            "31/31 [==============================] - 1s 23ms/step - loss: 5.5452 - accuracy: 0.0058 - val_loss: 5.5246 - val_accuracy: 0.0000e+00\n",
            "\n",
            "Epoch 00010: loss improved from 5.54893 to 5.54837, saving model to poids_train.hdf5\n",
            "Epoch 11/5000\n",
            "31/31 [==============================] - 1s 24ms/step - loss: 5.5456 - accuracy: 0.0041 - val_loss: 5.5235 - val_accuracy: 0.0000e+00\n",
            "\n",
            "Epoch 00011: loss did not improve from 5.54837\n",
            "Epoch 12/5000\n",
            "31/31 [==============================] - 1s 23ms/step - loss: 5.5436 - accuracy: 0.0043 - val_loss: 5.5246 - val_accuracy: 0.0000e+00\n",
            "\n",
            "Epoch 00012: loss improved from 5.54837 to 5.54714, saving model to poids_train.hdf5\n",
            "Epoch 13/5000\n",
            "31/31 [==============================] - 1s 23ms/step - loss: 5.5450 - accuracy: 0.0034 - val_loss: 5.5276 - val_accuracy: 0.0000e+00\n",
            "\n",
            "Epoch 00013: loss did not improve from 5.54714\n",
            "Epoch 14/5000\n",
            "31/31 [==============================] - 1s 23ms/step - loss: 5.5440 - accuracy: 0.0036 - val_loss: 5.5328 - val_accuracy: 0.0000e+00\n",
            "\n",
            "Epoch 00014: loss improved from 5.54714 to 5.54638, saving model to poids_train.hdf5\n",
            "Epoch 15/5000\n",
            "31/31 [==============================] - 1s 23ms/step - loss: 5.5448 - accuracy: 0.0061 - val_loss: 5.5302 - val_accuracy: 0.0000e+00\n",
            "\n",
            "Epoch 00015: loss improved from 5.54638 to 5.54636, saving model to poids_train.hdf5\n",
            "Epoch 16/5000\n",
            "31/31 [==============================] - 1s 23ms/step - loss: 5.5458 - accuracy: 0.0063 - val_loss: 5.5289 - val_accuracy: 0.0000e+00\n",
            "\n",
            "Epoch 00016: loss did not improve from 5.54636\n",
            "Epoch 17/5000\n",
            "31/31 [==============================] - 1s 23ms/step - loss: 5.5447 - accuracy: 0.0035 - val_loss: 5.5328 - val_accuracy: 0.0000e+00\n",
            "\n",
            "Epoch 00017: loss improved from 5.54636 to 5.54600, saving model to poids_train.hdf5\n",
            "Epoch 18/5000\n",
            "31/31 [==============================] - 1s 23ms/step - loss: 5.5463 - accuracy: 0.0038 - val_loss: 5.5343 - val_accuracy: 0.0000e+00\n",
            "\n",
            "Epoch 00018: loss did not improve from 5.54600\n",
            "Epoch 19/5000\n",
            "31/31 [==============================] - 1s 23ms/step - loss: 5.5451 - accuracy: 0.0047 - val_loss: 5.5341 - val_accuracy: 0.0000e+00\n",
            "\n",
            "Epoch 00019: loss did not improve from 5.54600\n",
            "Epoch 20/5000\n",
            "31/31 [==============================] - 1s 23ms/step - loss: 5.5454 - accuracy: 0.0053 - val_loss: 5.5312 - val_accuracy: 0.0000e+00\n",
            "\n",
            "Epoch 00020: loss did not improve from 5.54600\n",
            "Epoch 21/5000\n",
            "31/31 [==============================] - 1s 23ms/step - loss: 5.5448 - accuracy: 0.0042 - val_loss: 5.5311 - val_accuracy: 0.0000e+00\n",
            "\n",
            "Epoch 00021: loss did not improve from 5.54600\n",
            "Epoch 22/5000\n",
            "31/31 [==============================] - 1s 24ms/step - loss: 5.5427 - accuracy: 0.0075 - val_loss: 5.5170 - val_accuracy: 0.0000e+00\n",
            "\n",
            "Epoch 00022: loss improved from 5.54600 to 5.54583, saving model to poids_train.hdf5\n",
            "Epoch 23/5000\n",
            "31/31 [==============================] - 1s 24ms/step - loss: 5.5435 - accuracy: 0.0057 - val_loss: 5.5191 - val_accuracy: 0.0000e+00\n",
            "\n",
            "Epoch 00023: loss improved from 5.54583 to 5.54565, saving model to poids_train.hdf5\n",
            "Epoch 24/5000\n",
            "31/31 [==============================] - 1s 23ms/step - loss: 5.5454 - accuracy: 0.0056 - val_loss: 5.5196 - val_accuracy: 0.0000e+00\n",
            "\n",
            "Epoch 00024: loss improved from 5.54565 to 5.54563, saving model to poids_train.hdf5\n",
            "Epoch 25/5000\n",
            "31/31 [==============================] - 1s 24ms/step - loss: 5.5450 - accuracy: 0.0061 - val_loss: 5.5199 - val_accuracy: 0.0000e+00\n",
            "\n",
            "Epoch 00025: loss did not improve from 5.54563\n",
            "Epoch 26/5000\n",
            "31/31 [==============================] - 1s 23ms/step - loss: 5.5426 - accuracy: 0.0040 - val_loss: 5.5233 - val_accuracy: 0.0000e+00\n",
            "\n",
            "Epoch 00026: loss improved from 5.54563 to 5.54562, saving model to poids_train.hdf5\n",
            "Epoch 27/5000\n",
            "13/31 [===========>..................] - ETA: 0s - loss: 5.5415 - accuracy: 0.0059"
          ],
          "name": "stdout"
        },
        {
          "output_type": "error",
          "ename": "KeyboardInterrupt",
          "evalue": "ignored",
          "traceback": [
            "\u001b[0;31m---------------------------------------------------------------------------\u001b[0m",
            "\u001b[0;31mKeyboardInterrupt\u001b[0m                         Traceback (most recent call last)",
            "\u001b[0;32m<ipython-input-283-9bfe71cfe80a>\u001b[0m in \u001b[0;36m<module>\u001b[0;34m()\u001b[0m\n\u001b[1;32m     43\u001b[0m \u001b[0;34m\u001b[0m\u001b[0m\n\u001b[1;32m     44\u001b[0m \u001b[0;31m# Entraine le modèle, avec une réduction des calculs du gradient\u001b[0m\u001b[0;34m\u001b[0m\u001b[0;34m\u001b[0m\u001b[0;34m\u001b[0m\u001b[0m\n\u001b[0;32m---> 45\u001b[0;31m \u001b[0mhistorique\u001b[0m \u001b[0;34m=\u001b[0m \u001b[0mmodel\u001b[0m\u001b[0;34m.\u001b[0m\u001b[0mfit\u001b[0m\u001b[0;34m(\u001b[0m\u001b[0mx\u001b[0m\u001b[0;34m=\u001b[0m\u001b[0mx_train\u001b[0m\u001b[0;34m,\u001b[0m\u001b[0my\u001b[0m\u001b[0;34m=\u001b[0m\u001b[0my_train_OneHot\u001b[0m\u001b[0;34m,\u001b[0m\u001b[0mvalidation_data\u001b[0m\u001b[0;34m=\u001b[0m\u001b[0;34m(\u001b[0m\u001b[0mx_val\u001b[0m\u001b[0;34m,\u001b[0m\u001b[0my_val_OneHot\u001b[0m\u001b[0;34m)\u001b[0m\u001b[0;34m,\u001b[0m \u001b[0mepochs\u001b[0m\u001b[0;34m=\u001b[0m\u001b[0mmax_periodes\u001b[0m\u001b[0;34m,\u001b[0m\u001b[0mverbose\u001b[0m\u001b[0;34m=\u001b[0m\u001b[0;36m1\u001b[0m\u001b[0;34m,\u001b[0m \u001b[0mcallbacks\u001b[0m\u001b[0;34m=\u001b[0m\u001b[0;34m[\u001b[0m\u001b[0mCheckPoint\u001b[0m\u001b[0;34m]\u001b[0m\u001b[0;34m,\u001b[0m\u001b[0mbatch_size\u001b[0m\u001b[0;34m=\u001b[0m\u001b[0;36m64\u001b[0m\u001b[0;34m)\u001b[0m\u001b[0;34m\u001b[0m\u001b[0;34m\u001b[0m\u001b[0m\n\u001b[0m\u001b[1;32m     46\u001b[0m \u001b[0;34m\u001b[0m\u001b[0m\n\u001b[1;32m     47\u001b[0m \u001b[0;31m# Entraine le modèle sans réduction de calculs\u001b[0m\u001b[0;34m\u001b[0m\u001b[0;34m\u001b[0m\u001b[0;34m\u001b[0m\u001b[0m\n",
            "\u001b[0;32m/usr/local/lib/python3.7/dist-packages/tensorflow/python/keras/engine/training.py\u001b[0m in \u001b[0;36mfit\u001b[0;34m(self, x, y, batch_size, epochs, verbose, callbacks, validation_split, validation_data, shuffle, class_weight, sample_weight, initial_epoch, steps_per_epoch, validation_steps, validation_batch_size, validation_freq, max_queue_size, workers, use_multiprocessing)\u001b[0m\n\u001b[1;32m   1098\u001b[0m                 _r=1):\n\u001b[1;32m   1099\u001b[0m               \u001b[0mcallbacks\u001b[0m\u001b[0;34m.\u001b[0m\u001b[0mon_train_batch_begin\u001b[0m\u001b[0;34m(\u001b[0m\u001b[0mstep\u001b[0m\u001b[0;34m)\u001b[0m\u001b[0;34m\u001b[0m\u001b[0;34m\u001b[0m\u001b[0m\n\u001b[0;32m-> 1100\u001b[0;31m               \u001b[0mtmp_logs\u001b[0m \u001b[0;34m=\u001b[0m \u001b[0mself\u001b[0m\u001b[0;34m.\u001b[0m\u001b[0mtrain_function\u001b[0m\u001b[0;34m(\u001b[0m\u001b[0miterator\u001b[0m\u001b[0;34m)\u001b[0m\u001b[0;34m\u001b[0m\u001b[0;34m\u001b[0m\u001b[0m\n\u001b[0m\u001b[1;32m   1101\u001b[0m               \u001b[0;32mif\u001b[0m \u001b[0mdata_handler\u001b[0m\u001b[0;34m.\u001b[0m\u001b[0mshould_sync\u001b[0m\u001b[0;34m:\u001b[0m\u001b[0;34m\u001b[0m\u001b[0;34m\u001b[0m\u001b[0m\n\u001b[1;32m   1102\u001b[0m                 \u001b[0mcontext\u001b[0m\u001b[0;34m.\u001b[0m\u001b[0masync_wait\u001b[0m\u001b[0;34m(\u001b[0m\u001b[0;34m)\u001b[0m\u001b[0;34m\u001b[0m\u001b[0;34m\u001b[0m\u001b[0m\n",
            "\u001b[0;32m/usr/local/lib/python3.7/dist-packages/tensorflow/python/eager/def_function.py\u001b[0m in \u001b[0;36m__call__\u001b[0;34m(self, *args, **kwds)\u001b[0m\n\u001b[1;32m    826\u001b[0m     \u001b[0mtracing_count\u001b[0m \u001b[0;34m=\u001b[0m \u001b[0mself\u001b[0m\u001b[0;34m.\u001b[0m\u001b[0mexperimental_get_tracing_count\u001b[0m\u001b[0;34m(\u001b[0m\u001b[0;34m)\u001b[0m\u001b[0;34m\u001b[0m\u001b[0;34m\u001b[0m\u001b[0m\n\u001b[1;32m    827\u001b[0m     \u001b[0;32mwith\u001b[0m \u001b[0mtrace\u001b[0m\u001b[0;34m.\u001b[0m\u001b[0mTrace\u001b[0m\u001b[0;34m(\u001b[0m\u001b[0mself\u001b[0m\u001b[0;34m.\u001b[0m\u001b[0m_name\u001b[0m\u001b[0;34m)\u001b[0m \u001b[0;32mas\u001b[0m \u001b[0mtm\u001b[0m\u001b[0;34m:\u001b[0m\u001b[0;34m\u001b[0m\u001b[0;34m\u001b[0m\u001b[0m\n\u001b[0;32m--> 828\u001b[0;31m       \u001b[0mresult\u001b[0m \u001b[0;34m=\u001b[0m \u001b[0mself\u001b[0m\u001b[0;34m.\u001b[0m\u001b[0m_call\u001b[0m\u001b[0;34m(\u001b[0m\u001b[0;34m*\u001b[0m\u001b[0margs\u001b[0m\u001b[0;34m,\u001b[0m \u001b[0;34m**\u001b[0m\u001b[0mkwds\u001b[0m\u001b[0;34m)\u001b[0m\u001b[0;34m\u001b[0m\u001b[0;34m\u001b[0m\u001b[0m\n\u001b[0m\u001b[1;32m    829\u001b[0m       \u001b[0mcompiler\u001b[0m \u001b[0;34m=\u001b[0m \u001b[0;34m\"xla\"\u001b[0m \u001b[0;32mif\u001b[0m \u001b[0mself\u001b[0m\u001b[0;34m.\u001b[0m\u001b[0m_experimental_compile\u001b[0m \u001b[0;32melse\u001b[0m \u001b[0;34m\"nonXla\"\u001b[0m\u001b[0;34m\u001b[0m\u001b[0;34m\u001b[0m\u001b[0m\n\u001b[1;32m    830\u001b[0m       \u001b[0mnew_tracing_count\u001b[0m \u001b[0;34m=\u001b[0m \u001b[0mself\u001b[0m\u001b[0;34m.\u001b[0m\u001b[0mexperimental_get_tracing_count\u001b[0m\u001b[0;34m(\u001b[0m\u001b[0;34m)\u001b[0m\u001b[0;34m\u001b[0m\u001b[0;34m\u001b[0m\u001b[0m\n",
            "\u001b[0;32m/usr/local/lib/python3.7/dist-packages/tensorflow/python/eager/def_function.py\u001b[0m in \u001b[0;36m_call\u001b[0;34m(self, *args, **kwds)\u001b[0m\n\u001b[1;32m    853\u001b[0m       \u001b[0;31m# In this case we have created variables on the first call, so we run the\u001b[0m\u001b[0;34m\u001b[0m\u001b[0;34m\u001b[0m\u001b[0;34m\u001b[0m\u001b[0m\n\u001b[1;32m    854\u001b[0m       \u001b[0;31m# defunned version which is guaranteed to never create variables.\u001b[0m\u001b[0;34m\u001b[0m\u001b[0;34m\u001b[0m\u001b[0;34m\u001b[0m\u001b[0m\n\u001b[0;32m--> 855\u001b[0;31m       \u001b[0;32mreturn\u001b[0m \u001b[0mself\u001b[0m\u001b[0;34m.\u001b[0m\u001b[0m_stateless_fn\u001b[0m\u001b[0;34m(\u001b[0m\u001b[0;34m*\u001b[0m\u001b[0margs\u001b[0m\u001b[0;34m,\u001b[0m \u001b[0;34m**\u001b[0m\u001b[0mkwds\u001b[0m\u001b[0;34m)\u001b[0m  \u001b[0;31m# pylint: disable=not-callable\u001b[0m\u001b[0;34m\u001b[0m\u001b[0;34m\u001b[0m\u001b[0m\n\u001b[0m\u001b[1;32m    856\u001b[0m     \u001b[0;32melif\u001b[0m \u001b[0mself\u001b[0m\u001b[0;34m.\u001b[0m\u001b[0m_stateful_fn\u001b[0m \u001b[0;32mis\u001b[0m \u001b[0;32mnot\u001b[0m \u001b[0;32mNone\u001b[0m\u001b[0;34m:\u001b[0m\u001b[0;34m\u001b[0m\u001b[0;34m\u001b[0m\u001b[0m\n\u001b[1;32m    857\u001b[0m       \u001b[0;31m# Release the lock early so that multiple threads can perform the call\u001b[0m\u001b[0;34m\u001b[0m\u001b[0;34m\u001b[0m\u001b[0;34m\u001b[0m\u001b[0m\n",
            "\u001b[0;32m/usr/local/lib/python3.7/dist-packages/tensorflow/python/eager/function.py\u001b[0m in \u001b[0;36m__call__\u001b[0;34m(self, *args, **kwargs)\u001b[0m\n\u001b[1;32m   2941\u001b[0m        filtered_flat_args) = self._maybe_define_function(args, kwargs)\n\u001b[1;32m   2942\u001b[0m     return graph_function._call_flat(\n\u001b[0;32m-> 2943\u001b[0;31m         filtered_flat_args, captured_inputs=graph_function.captured_inputs)  # pylint: disable=protected-access\n\u001b[0m\u001b[1;32m   2944\u001b[0m \u001b[0;34m\u001b[0m\u001b[0m\n\u001b[1;32m   2945\u001b[0m   \u001b[0;34m@\u001b[0m\u001b[0mproperty\u001b[0m\u001b[0;34m\u001b[0m\u001b[0;34m\u001b[0m\u001b[0m\n",
            "\u001b[0;32m/usr/local/lib/python3.7/dist-packages/tensorflow/python/eager/function.py\u001b[0m in \u001b[0;36m_call_flat\u001b[0;34m(self, args, captured_inputs, cancellation_manager)\u001b[0m\n\u001b[1;32m   1917\u001b[0m       \u001b[0;31m# No tape is watching; skip to running the function.\u001b[0m\u001b[0;34m\u001b[0m\u001b[0;34m\u001b[0m\u001b[0;34m\u001b[0m\u001b[0m\n\u001b[1;32m   1918\u001b[0m       return self._build_call_outputs(self._inference_function.call(\n\u001b[0;32m-> 1919\u001b[0;31m           ctx, args, cancellation_manager=cancellation_manager))\n\u001b[0m\u001b[1;32m   1920\u001b[0m     forward_backward = self._select_forward_and_backward_functions(\n\u001b[1;32m   1921\u001b[0m         \u001b[0margs\u001b[0m\u001b[0;34m,\u001b[0m\u001b[0;34m\u001b[0m\u001b[0;34m\u001b[0m\u001b[0m\n",
            "\u001b[0;32m/usr/local/lib/python3.7/dist-packages/tensorflow/python/eager/function.py\u001b[0m in \u001b[0;36mcall\u001b[0;34m(self, ctx, args, cancellation_manager)\u001b[0m\n\u001b[1;32m    558\u001b[0m               \u001b[0minputs\u001b[0m\u001b[0;34m=\u001b[0m\u001b[0margs\u001b[0m\u001b[0;34m,\u001b[0m\u001b[0;34m\u001b[0m\u001b[0;34m\u001b[0m\u001b[0m\n\u001b[1;32m    559\u001b[0m               \u001b[0mattrs\u001b[0m\u001b[0;34m=\u001b[0m\u001b[0mattrs\u001b[0m\u001b[0;34m,\u001b[0m\u001b[0;34m\u001b[0m\u001b[0;34m\u001b[0m\u001b[0m\n\u001b[0;32m--> 560\u001b[0;31m               ctx=ctx)\n\u001b[0m\u001b[1;32m    561\u001b[0m         \u001b[0;32melse\u001b[0m\u001b[0;34m:\u001b[0m\u001b[0;34m\u001b[0m\u001b[0;34m\u001b[0m\u001b[0m\n\u001b[1;32m    562\u001b[0m           outputs = execute.execute_with_cancellation(\n",
            "\u001b[0;32m/usr/local/lib/python3.7/dist-packages/tensorflow/python/eager/execute.py\u001b[0m in \u001b[0;36mquick_execute\u001b[0;34m(op_name, num_outputs, inputs, attrs, ctx, name)\u001b[0m\n\u001b[1;32m     58\u001b[0m     \u001b[0mctx\u001b[0m\u001b[0;34m.\u001b[0m\u001b[0mensure_initialized\u001b[0m\u001b[0;34m(\u001b[0m\u001b[0;34m)\u001b[0m\u001b[0;34m\u001b[0m\u001b[0;34m\u001b[0m\u001b[0m\n\u001b[1;32m     59\u001b[0m     tensors = pywrap_tfe.TFE_Py_Execute(ctx._handle, device_name, op_name,\n\u001b[0;32m---> 60\u001b[0;31m                                         inputs, attrs, num_outputs)\n\u001b[0m\u001b[1;32m     61\u001b[0m   \u001b[0;32mexcept\u001b[0m \u001b[0mcore\u001b[0m\u001b[0;34m.\u001b[0m\u001b[0m_NotOkStatusException\u001b[0m \u001b[0;32mas\u001b[0m \u001b[0me\u001b[0m\u001b[0;34m:\u001b[0m\u001b[0;34m\u001b[0m\u001b[0;34m\u001b[0m\u001b[0m\n\u001b[1;32m     62\u001b[0m     \u001b[0;32mif\u001b[0m \u001b[0mname\u001b[0m \u001b[0;32mis\u001b[0m \u001b[0;32mnot\u001b[0m \u001b[0;32mNone\u001b[0m\u001b[0;34m:\u001b[0m\u001b[0;34m\u001b[0m\u001b[0;34m\u001b[0m\u001b[0m\n",
            "\u001b[0;31mKeyboardInterrupt\u001b[0m: "
          ]
        }
      ]
    },
    {
      "cell_type": "code",
      "metadata": {
        "id": "8EKaVqPCYkid"
      },
      "source": [
        "# Télécharge les résultats d'entrainement du modèle\n",
        "! wget --no-check-certificate --content-disposition \"https://github.com/AlexandreBourrieau/ML/blob/main/Carnets%20Jupyter/S%C3%A9ries%20temporelles/Bitcoin/poids_train_BitWave_One_All.hdf5?raw=true\""
      ],
      "execution_count": null,
      "outputs": []
    },
    {
      "cell_type": "code",
      "metadata": {
        "id": "jMUbH3CaYkid"
      },
      "source": [
        "model.load_weights(\"poids_train.hdf5\")\n",
        "#model.load_weights(\"poids_train_BitWave_One_All.hdf5\")"
      ],
      "execution_count": null,
      "outputs": []
    },
    {
      "cell_type": "code",
      "metadata": {
        "id": "idMYWg8mYkie"
      },
      "source": [
        "erreur_entrainement = historique.history[\"loss\"]\n",
        "erreur_validation = historique.history[\"val_loss\"]\n",
        "\n",
        "# Affiche l'erreur en fonction de la période\n",
        "plt.figure(figsize=(10, 6))\n",
        "plt.plot(np.arange(0,len(erreur_entrainement)),erreur_entrainement, label=\"Erreurs sur les entrainements\")\n",
        "plt.plot(np.arange(0,len(erreur_entrainement)),erreur_validation, label =\"Erreurs sur les validations\")\n",
        "plt.legend()\n",
        "\n",
        "plt.title(\"Evolution de l'erreur en fonction de la période\")"
      ],
      "execution_count": null,
      "outputs": []
    },
    {
      "cell_type": "code",
      "metadata": {
        "id": "6763fLQ6Ykif"
      },
      "source": [
        "# Evaluation du modèle\n",
        "\n",
        "model.evaluate(dataset)\n",
        "model.evaluate(dataset_val)\n"
      ],
      "execution_count": null,
      "outputs": []
    },
    {
      "cell_type": "markdown",
      "metadata": {
        "id": "Wj3qvyK6Ykir"
      },
      "source": [
        "**3. Prédictions \"single step\"**"
      ]
    },
    {
      "cell_type": "code",
      "metadata": {
        "id": "0iOJE_lAYkir"
      },
      "source": [
        "# Création des instants d'entrainement et de validation\n",
        "y_train_timing = X_Avec_Prix.index[taille_fenetre + horizon - 1:taille_fenetre + horizon - 1+len(y_train)]\n",
        "y_val_timing = X_Avec_Prix.index[taille_fenetre + horizon - 1:taille_fenetre + horizon - 1+len(y_val)]\n",
        "\n",
        "# Calcul des prédictions\n",
        "pred_ent = model.predict(x_train, verbose=1)\n",
        "pred_val = model.predict(x_val, verbose=1)"
      ],
      "execution_count": null,
      "outputs": []
    },
    {
      "cell_type": "code",
      "metadata": {
        "id": "dfUyGJ0RYkir"
      },
      "source": [
        "import plotly.graph_objects as go\n",
        "\n",
        "fig = go.Figure()\n",
        "\n",
        "# Courbes originales\n",
        "fig.add_trace(go.Scatter(x=X_Avec_Prix.index,y=serie_entrainement_X[0],line=dict(color='blue', width=1)))\n",
        "fig.add_trace(go.Scatter(x=X_Avec_Prix.index[temps_separation:],y=serie_test_X[0],line=dict(color='blue', width=1)))\n",
        "\n",
        "# Courbes des prédictions d'entrainement\n",
        "fig.add_trace(go.Scatter(x=X_Avec_Prix.index[taille_fenetre+horizon-1:],y=en.inverse_transform(pred_ent)[:,0],line=dict(color='green', width=1)))\n",
        "\n",
        "# Courbes des prédictions de validations\n",
        "fig.add_trace(go.Scatter(x=X_Avec_Prix.index[temps_separation+taille_fenetre+horizon-1:],y=en.inverse_transform(pred_val)[:,0],line=dict(color='red', width=1)))\n",
        "\n",
        "\n",
        "fig.update_xaxes(rangeslider_visible=True)\n",
        "yaxis=dict(autorange = True,fixedrange= False)\n",
        "fig.update_yaxes(yaxis)\n",
        "fig.show()"
      ],
      "execution_count": null,
      "outputs": []
    },
    {
      "cell_type": "markdown",
      "metadata": {
        "id": "g8jvHwA0Ykis"
      },
      "source": [
        "**4. Prédictions multi-step**"
      ]
    },
    {
      "cell_type": "code",
      "metadata": {
        "id": "mYHqaGThYkit"
      },
      "source": [
        "predictions = []\n",
        "                                                        # x_val : (448,16,779)\n",
        "data_to_predict = x_val[0,:,:]                          # [[VAL#1_0,VAL#2_0, ... , VAL#779_0],[VAL#1_1,VAL#2_1, ... , VAL#779_1], ... , [VAL#1_15,VAL#2_15, ..., VAL#779_15]] : (16,779)\n",
        "data_to_predict = tf.expand_dims(data_to_predict,0)     # (1,16,779)\n",
        "\n",
        "prediction = model.predict(data_to_predict)             # [[[^VAL#1_1][^VAL#1_2]...[^VAL#1_16]]] : (1,16,1)\n",
        "predictions.append(prediction[0,taille_fenetre-1,0])    # [^VAL#1_16] : (1,)\n",
        "\n",
        "data_to_predict = x_val[1,0:taille_fenetre-1,:]         # [[VAL#1_1,VAL#2_1, ... , VAL#779_1],[VAL#1_2,VAL#2_2, ... , VAL#779_2], ... , [VAL#1_15,VAL#2_15, ..., VAL#779_15]] : (15,779)\n",
        "\n",
        "data_to_predict = np.insert(data_to_predict,taille_fenetre-1,     # [[VAL#1_1,VAL#2_1, ... , VAL#779_1],[VAL#1_2,VAL#2_2, ... , VAL#779_2], ... , [^VAL#1_16,VAL#2_16, ..., VAL#779_16]] : (16,779)\n",
        "                            np.concatenate((tf.expand_dims(np.array(predictions[0]),0),x_val[1,taille_fenetre-2,1:779]),axis=0),axis=0)\n",
        "\n",
        "for i in range(1,300):\n",
        "  data_to_predict = tf.expand_dims(data_to_predict,0)   # (16,779) => (1,16,779)\n",
        "  prediction = model.predict(data_to_predict)           # [[[^VAL#1_2][^VAL#1_3]...[^VAL#1_17]]] : (1,16,1)\n",
        "\n",
        "  predictions.append(prediction[0,taille_fenetre-1,0])  # [^VAL#1_17] : (1,)\n",
        "  data_to_predict = x_val[i+1,0:taille_fenetre-1,:]     # [[VAL#1_2,VAL#2_2, ... , VAL#779_2],[VAL#1_3,VAL#2_3, ... , VAL#779_3], ... , [VAL#1_17,VAL#2_17, ..., VAL#779_17]] : (15,779)\n",
        "\n",
        "  data_to_predict = np.insert(data_to_predict,taille_fenetre-1,     # [[VAL#1_1,VAL#2_1, ... , VAL#779_1],[VAL#1_2,VAL#2_2, ... , VAL#779_2], ... , [^VAL#1_16,VAL#2_16, ..., VAL#779_16]] : (16,779)\n",
        "                            np.concatenate((tf.expand_dims(np.array(predictions[i]),0),x_val[1,taille_fenetre-2,1:779]),axis=0),axis=0)"
      ],
      "execution_count": null,
      "outputs": []
    },
    {
      "cell_type": "code",
      "metadata": {
        "id": "yAcNpvbvYkit"
      },
      "source": [
        "import plotly.graph_objects as go\n",
        "\n",
        "fig = go.Figure()\n",
        "\n",
        "n_max = len(predictions)\n",
        "\n",
        "# Courbes originales\n",
        "fig.add_trace(go.Scatter(x=X_Avec_Prix.index,y=serie_entrainement_X_norm[0],line=dict(color='blue', width=1)))\n",
        "fig.add_trace(go.Scatter(x=X_Avec_Prix.index[temps_separation:],y=serie_test_X_norm[0],line=dict(color='blue', width=1)))\n",
        "\n",
        "# Courbes des prédictions d'entrainement\n",
        "fig.add_trace(go.Scatter(x=X_Avec_Prix.index[taille_fenetre+horizon-1:],y=pred_ent[:,taille_fenetre-1,0],line=dict(color='green', width=1)))\n",
        "\n",
        "# Courbes des prédictions de validations\n",
        "fig.add_trace(go.Scatter(x=X_Avec_Prix.index[temps_separation+taille_fenetre+horizon-1:temps_separation+taille_fenetre+horizon-1+n_max],y=predictions[0:n_max],line=dict(color='red', width=1)))\n",
        "\n",
        "\n",
        "fig.update_xaxes(rangeslider_visible=True)\n",
        "yaxis=dict(autorange = True,fixedrange= False)\n",
        "fig.update_yaxes(yaxis)\n",
        "fig.show()"
      ],
      "execution_count": null,
      "outputs": []
    },
    {
      "cell_type": "markdown",
      "metadata": {
        "id": "C5CeF8IyjQFT"
      },
      "source": [
        "# Création des datasets - Sans prix en X"
      ]
    },
    {
      "cell_type": "code",
      "metadata": {
        "id": "IZ1MBty1xgoX"
      },
      "source": [
        "X_reduit_VIF.insert(0,'Price',df_data['Price'])"
      ],
      "execution_count": null,
      "outputs": []
    },
    {
      "cell_type": "code",
      "metadata": {
        "id": "YoP-8584xjYv"
      },
      "source": [
        "X_reduit_VIF"
      ],
      "execution_count": null,
      "outputs": []
    },
    {
      "cell_type": "code",
      "metadata": {
        "id": "_a3GiFgyxlbT"
      },
      "source": [
        "X_Avec_Prix = X_reduit_VIF"
      ],
      "execution_count": null,
      "outputs": []
    },
    {
      "cell_type": "code",
      "metadata": {
        "id": "Gy8wD4VLu5Qg"
      },
      "source": [
        "X_Avec_Prix = df_data\n",
        "X_Avec_Prix = X_Avec_Prix.drop(columns=['Dates', 'Price'])\n",
        "Xdrop = SimpleImputer(missing_values=np.nan,strategy='most_frequent').fit_transform(X_Avec_Prix)\n",
        "Xdrop = pd.DataFrame(Xdrop)\n",
        "Xdrop.columns = X_Avec_Prix.columns\n",
        "X_Avec_Prix = Xdrop\n",
        "X_Avec_Prix = X_Avec_Prix\n",
        "X_Avec_Prix = X_Avec_Prix.iloc[:,var_pred]\n",
        "X_Avec_Prix.insert(0,'Price',df_data['Price'])\n",
        "X_Avec_Prix"
      ],
      "execution_count": null,
      "outputs": []
    },
    {
      "cell_type": "code",
      "metadata": {
        "id": "-44FsypRjQFe"
      },
      "source": [
        "# Fonction permettant de créer un dataset à partir des données de la série temporelle\n",
        "\n",
        "def prepare_dataset_XY(series, taille_fenetre, horizon, batch_size):\n",
        "  serie_concat = tf.expand_dims(series[0],1)\n",
        "\n",
        "  for i in range(1,len(series)):\n",
        "    serie_ = tf.expand_dims(series[i],1)\n",
        "    serie_concat = tf.concat([serie_concat,serie_],1)\n",
        "\n",
        "  dataset = tf.data.Dataset.from_tensor_slices(serie_concat)\n",
        "  dataset = dataset.window(taille_fenetre+horizon, shift=1, drop_remainder=True)\n",
        "  dataset = dataset.flat_map(lambda x: x.batch(taille_fenetre + horizon))\n",
        "  dataset = dataset.map(lambda x: (x[0:taille_fenetre][:,1:],tf.expand_dims(x[-taille_fenetre:][:,0],1)))\n",
        "  dataset = dataset.batch(batch_size,drop_remainder=True).prefetch(1)\n",
        "  return dataset"
      ],
      "execution_count": null,
      "outputs": []
    },
    {
      "cell_type": "code",
      "metadata": {
        "id": "m6t272rIjQFg"
      },
      "source": [
        "# Définition des caractéristiques du dataset que l'on souhaite créer\n",
        "taille_fenetre = 64\n",
        "horizon = 1\n",
        "batch_size = 1\n",
        "\n",
        "# Création du dataset\n",
        "dataset = prepare_dataset_XY(serie_entrainement_X_norm,taille_fenetre,horizon,batch_size)\n",
        "dataset_val = prepare_dataset_XY(serie_test_X_norm,taille_fenetre,horizon,batch_size)"
      ],
      "execution_count": null,
      "outputs": []
    },
    {
      "cell_type": "code",
      "metadata": {
        "id": "JKO1WzQkjQFh"
      },
      "source": [
        "print(len(list(dataset.as_numpy_iterator())))\n",
        "for element in dataset.take(1):\n",
        "  print(element[0].shape)\n",
        "  print(element[1].shape)"
      ],
      "execution_count": null,
      "outputs": []
    },
    {
      "cell_type": "code",
      "metadata": {
        "id": "ZqHV6Ac5jQFi"
      },
      "source": [
        "for element in dataset.take(1):\n",
        "  print(element)\n"
      ],
      "execution_count": null,
      "outputs": []
    },
    {
      "cell_type": "markdown",
      "metadata": {
        "id": "AvR1N4gojQFj"
      },
      "source": [
        "On extrait maintenant les deux tenseurs (X,Y) pour l'entrainement :"
      ]
    },
    {
      "cell_type": "code",
      "metadata": {
        "id": "FwJtYSVtjQFk"
      },
      "source": [
        "# Extrait les X,Y du dataset\n",
        "x,y = tuple(zip(*dataset))              # #60x((32,5,779),(32,5,1)) => x = 60x(32,5,779) ; y = 60x(32,5,1)\n",
        "\n",
        "# Recombine les données\n",
        "x = np.asarray(x,dtype=np.float32)      # 60x(32,5,779) => (60,32,5,779)\n",
        "y = np.asarray(y,dtype=np.float32)      # 60x(32,5,1) => (60,32,5,1)\n",
        "\n",
        "x_train = np.asarray(tf.reshape(x,shape=(x.shape[0]*x.shape[1],taille_fenetre,x.shape[3])))     # (60,32,5,779) => (60*32,5,779)\n",
        "y_train = np.asarray(tf.reshape(y,shape=(y.shape[0]*y.shape[1],taille_fenetre,y.shape[3])))     # (60,32,5,1) => (60*32,5,1)\n",
        "\n",
        "# Affiche les formats\n",
        "print(x_train.shape)\n",
        "print(y_train.shape)"
      ],
      "execution_count": null,
      "outputs": []
    },
    {
      "cell_type": "markdown",
      "metadata": {
        "id": "5Zny4A0jjQFk"
      },
      "source": [
        "Puis la même chose pour les données de validation :"
      ]
    },
    {
      "cell_type": "code",
      "metadata": {
        "id": "LhoA0UOxjQFl"
      },
      "source": [
        "# Extrait les X,Y du dataset\n",
        "x,y = tuple(zip(*dataset_val))\n",
        "\n",
        "# Recombine les données\n",
        "x = np.asarray(x,dtype=np.float32)\n",
        "y = np.asarray(y,dtype=np.float32)\n",
        "\n",
        "x_val = np.asarray(tf.reshape(x,shape=(x.shape[0]*x.shape[1],taille_fenetre,x.shape[3])))\n",
        "y_val = np.asarray(tf.reshape(y,shape=(y.shape[0]*y.shape[1],taille_fenetre,y.shape[3])))\n",
        "\n",
        "# Affiche les formats\n",
        "print(x_val.shape)\n",
        "print(y_val.shape)"
      ],
      "execution_count": null,
      "outputs": []
    },
    {
      "cell_type": "markdown",
      "metadata": {
        "id": "F6TE-8uonbYq"
      },
      "source": [
        "# Création du modèle type Wavenet Multivarié"
      ]
    },
    {
      "cell_type": "markdown",
      "metadata": {
        "id": "ZFUUNiNYnbZH"
      },
      "source": [
        "**1. Création du réseau**"
      ]
    },
    {
      "cell_type": "code",
      "metadata": {
        "id": "yfUkzVAwnbZH"
      },
      "source": [
        "from keras.layers import Conv1D\n",
        "from keras.layers import Conv1D\n",
        "from keras.utils.conv_utils import conv_output_length\n",
        "from keras import layers\n",
        "from keras.regularizers import l2\n",
        "import keras.backend as K\n",
        "from keras.engine import Input\n",
        "from keras.engine import Model"
      ],
      "execution_count": null,
      "outputs": []
    },
    {
      "cell_type": "code",
      "metadata": {
        "id": "-mDTWTKDnbZI"
      },
      "source": [
        "class CausalDilatedConv1D(Conv1D):\n",
        "    def __init__(self, nb_filter, filter_length, init='glorot_uniform', activation=None, weights=None,\n",
        "                 border_mode='valid', subsample_length=1, atrous_rate=1, W_regularizer=None, b_regularizer=None,\n",
        "                 activity_regularizer=None, W_constraint=None, b_constraint=None, bias=True, causal=False, **kwargs):\n",
        "        super(CausalDilatedConv1D, self).__init__(nb_filter, filter_length, weights=weights, activation=activation, \n",
        "                padding=border_mode, strides=subsample_length, dilation_rate=atrous_rate, kernel_regularizer=W_regularizer, \n",
        "                bias_regularizer=b_regularizer, activity_regularizer=activity_regularizer, kernel_constraint=W_constraint, \n",
        "                bias_constraint=b_constraint, use_bias=bias, **kwargs)\n",
        "        self.causal = causal\n",
        "        self.nb_filter = nb_filter\n",
        "        self.atrous_rate = atrous_rate\n",
        "        self.filter_length = filter_length\n",
        "        self.subsample_length = subsample_length\n",
        "        self.border_mode = border_mode\n",
        "        if self.causal and border_mode != 'valid':\n",
        "            raise ValueError(\"Causal mode dictates border_mode=valid.\")\n",
        "\n",
        "    def compute_output_shape(self, input_shape):\n",
        "        input_length = input_shape[1]\n",
        "        if self.causal:\n",
        "            input_length += self.atrous_rate * (self.filter_length - 1)\n",
        "        length = conv_output_length(input_length, self.filter_length, self.border_mode, self.strides[0], dilation=self.atrous_rate)\n",
        "        return (input_shape[0], length, self.nb_filter)\n",
        "\n",
        "    def call(self, x, mask=None):\n",
        "        if self.causal:\n",
        "            x = K.temporal_padding(x, padding=(self.atrous_rate * (self.filter_length - 1), 0))\n",
        "        # return super(CausalAtrousConvolution1D, self).call(x, mask)\n",
        "        return super(CausalDilatedConv1D, self).call(x)"
      ],
      "execution_count": null,
      "outputs": []
    },
    {
      "cell_type": "code",
      "metadata": {
        "id": "CVxqodltnbZJ"
      },
      "source": [
        "def _compute_receptive_field(dilation_depth, stacks):\n",
        "  return stacks * (2 ** dilation_depth * 2) - (stacks - 1)"
      ],
      "execution_count": null,
      "outputs": []
    },
    {
      "cell_type": "code",
      "metadata": {
        "id": "zKSxA3XVnbZK"
      },
      "source": [
        "def build_model_residual_block(x, i, s,nb_filters, dim_filters, use_bias,res_l2):\n",
        "        original_x = x\n",
        "        # TODO: initalization, regularization?\n",
        "        relu_out = CausalDilatedConv1D(nb_filters, dim_filters, atrous_rate=2 ** i, border_mode='valid', causal=True, bias=True, name='dilated_conv_%d_relu_s%d' % (2 ** i, s), activation='relu', W_regularizer=l2(res_l2))(x)\n",
        "        res_x = layers.Conv1D(1, 1, padding='same', use_bias=use_bias, kernel_regularizer=l2(res_l2))(relu_out)\n",
        "        skip_x = layers.Conv1D(1, 1, padding='same', use_bias=use_bias, kernel_regularizer=l2(res_l2))(relu_out)\n",
        "        res_x = layers.Add()([original_x, res_x])\n",
        "        return res_x, skip_x\n",
        "\n",
        "def build_model_couche_condition(x, output_bins, nb_filters, dim_filters, use_bias,res_l2):\n",
        "        original_x = x\n",
        "        skip_conditions = []\n",
        "\n",
        "        relu_out = CausalDilatedConv1D(nb_filters, dim_filters, atrous_rate=1, border_mode='valid', causal=True, bias=True, name='dilated_conv_%d_condition_%d_s%d' % (1,1, 0), activation='relu',\n",
        "                                       W_regularizer=l2(res_l2))(tf.expand_dims(x[:,:,0],2))\n",
        "\n",
        "        skip_ = layers.Conv1D(1, 1, padding='same', use_bias=use_bias, kernel_regularizer=l2(res_l2))(relu_out)\n",
        "        skip_conditions.append(skip_)\n",
        "\n",
        "        for i in range(1,output_bins-1):\n",
        "          relu_out = CausalDilatedConv1D(nb_filters, dim_filters, atrous_rate=1, border_mode='valid', causal=True, bias=True, name='dilated_conv_%d_condition_%d_s%d' % (1,i+1,0), activation='relu',\n",
        "                                                    W_regularizer=l2(res_l2))(tf.expand_dims(x[:,:,i],2))\n",
        "\n",
        "          skip_ = layers.Conv1D(1, 1, padding='same', use_bias=use_bias, kernel_regularizer=l2(res_l2))(relu_out)\n",
        "          skip_conditions.append(skip_)\n",
        "\n",
        "        if output_bins > 1:\n",
        "          out = layers.Add()(skip_conditions)\n",
        "        else:\n",
        "          out = skip_\n",
        "        return out\n",
        "\n",
        "\n",
        "def build_model(fragment_length, nb_filters, dim_filters, output_bins, dilation_depth, stacks, use_skip_connections, use_bias, res_l2, final_l2):\n",
        "        input_shape = Input(shape=(fragment_length, output_bins), name='input_part')\n",
        "        out = input_shape\n",
        "        skip_connections = []\n",
        "\n",
        "        for s in range(stacks):\n",
        "            # Couche conditionnée\n",
        "            out = build_model_couche_condition(out, output_bins, nb_filters, dim_filters, use_bias, res_l2)\n",
        "\n",
        "            # Couches intermédiaires\n",
        "            for i in range(1, dilation_depth + 1):\n",
        "                out, skip_out = build_model_residual_block(out, i, s, nb_filters, dim_filters, use_bias, res_l2)\n",
        "                skip_connections.append(skip_out)\n",
        "\n",
        "        if use_skip_connections:\n",
        "            out = layers.Add()(skip_connections)\n",
        "\n",
        "        # Couche de sortie\n",
        "        out = layers.Activation('linear', name=\"output_linear\")(out)\n",
        "        out = layers.Conv1D(1, 1, padding='same', kernel_regularizer=l2(final_l2))(out)\n",
        "        model = Model(input_shape, out)\n",
        "        return model\n"
      ],
      "execution_count": null,
      "outputs": []
    },
    {
      "cell_type": "markdown",
      "metadata": {
        "id": "JBHv2GWNnbZL"
      },
      "source": [
        "**2. Construction du modèle**"
      ]
    },
    {
      "cell_type": "code",
      "metadata": {
        "id": "QNMIkaHYnbZL"
      },
      "source": [
        "def compute_receptive_field_(dilation_depth, nb_stacks):\n",
        "    receptive_field = nb_stacks * (2 ** dilation_depth * 2) - (nb_stacks - 1)\n",
        "    return receptive_field\n",
        "\n",
        "nb_filters = 5\n",
        "dim_filters = 4\n",
        "nb_output_bins = 7\n",
        "dilation_depth = 5\n",
        "nb_stacks = 1\n",
        "use_skip_connections = False\n",
        "use_bias = False\n",
        "res_l2 = 0.001\n",
        "final_l2 = 0.001\n",
        "\n",
        "fragment_length = compute_receptive_field_(dilation_depth, nb_stacks)\n",
        "fragment_length\n",
        "\n",
        "model = build_model(fragment_length, nb_filters, dim_filters, nb_output_bins, dilation_depth, nb_stacks, use_skip_connections, use_bias, res_l2, final_l2)\n",
        "model.summary()"
      ],
      "execution_count": null,
      "outputs": []
    },
    {
      "cell_type": "markdown",
      "metadata": {
        "id": "j3uWCqzcnkB2"
      },
      "source": [
        "# Entrainement du modèle"
      ]
    },
    {
      "cell_type": "markdown",
      "metadata": {
        "id": "kly6bhi8nkB3"
      },
      "source": [
        "**1. Optimisation de l'apprentissage**"
      ]
    },
    {
      "cell_type": "markdown",
      "metadata": {
        "id": "PB1gffpQnkB4"
      },
      "source": [
        "Pour accélérer le traitement des données, nous n'allons pas utiliser l'intégralité des données pendant la mise à jour du gradient, comme cela a été fait jusqu'à présent (en utilisant le dataset).  \n",
        "Cette fois-ci, nous allons forcer les mises à jour du gradient à se produire de manière moins fréquente en attribuant la valeur du batch_size à prendre en compte lors de la regression du modèle.  \n",
        "Pour cela, on utilise l'argument \"batch_size\" dans la méthode fit. En précisant un batch_size=1000, cela signifie que :\n",
        " - Sur notre total de 56000 échantillons, 56 seront utilisés pour les calculs du gradient\n",
        " - Il y aura également 56 itérations à chaque période.\n",
        "  \n",
        "    \n",
        "    \n",
        "Si nous avions pris le dataset comme entrée, nous aurions eu :\n",
        "- Un total de 56000 échantillons également\n",
        "- Chaque période aurait également pris 56 itérations pour se compléter\n",
        "- Mais 1000 échantillons auraient été utilisés pour le calcul du gradient, au lieu de 56 avec la méthode utilisée."
      ]
    },
    {
      "cell_type": "code",
      "metadata": {
        "id": "nJaE8myAnkB5"
      },
      "source": [
        "# Définition de la fonction de régulation du taux d'apprentissage\n",
        "def RegulationTauxApprentissage(periode, taux):\n",
        "  return 1e-8*10**(periode/10)\n",
        "\n",
        "def  My_MSE(y_true,y_pred):\n",
        "  return(tf.keras.metrics.mse(y_true,y_pred)*std_X[0].numpy()+mean_X[0].numpy())\n",
        "\n",
        "# Définition de l'optimiseur à utiliser\n",
        "optimiseur=tf.keras.optimizers.Adam()\n",
        "#optimiseur=tf.keras.optimizers.SGD()\n",
        "\n",
        "# Compile le modèle\n",
        "model.compile(loss=\"mse\", optimizer=optimiseur, metrics=[\"mse\",My_MSE])\n",
        "\n",
        "# Utilisation de la méthode ModelCheckPoint\n",
        "CheckPoint = tf.keras.callbacks.ModelCheckpoint(\"poids.hdf5\", monitor='loss', verbose=1, save_best_only=True, save_weights_only = True, mode='auto', save_freq='epoch')\n",
        "\n",
        "# Entraine le modèle en utilisant notre fonction personnelle de régulation du taux d'apprentissage\n",
        "historique = model.fit(dataset,epochs=100,verbose=1, callbacks=[tf.keras.callbacks.LearningRateScheduler(RegulationTauxApprentissage), CheckPoint],batch_size=batch_size)\n"
      ],
      "execution_count": null,
      "outputs": []
    },
    {
      "cell_type": "code",
      "metadata": {
        "id": "7mJxFSJNnkB7"
      },
      "source": [
        "# Construit un vecteur avec les valeurs du taux d'apprentissage à chaque période \n",
        "taux = 1e-8*(10**(np.arange(100)/10))\n",
        "\n",
        "# Affiche l'erreur en fonction du taux d'apprentissage\n",
        "plt.figure(figsize=(10, 6))\n",
        "plt.semilogx(taux,historique.history[\"loss\"])\n",
        "plt.axis([ taux[30], taux[99], 0, 0.4])\n",
        "plt.title(\"Evolution de l'erreur en fonction du taux d'apprentissage\")"
      ],
      "execution_count": null,
      "outputs": []
    },
    {
      "cell_type": "code",
      "metadata": {
        "id": "e2icNDS5nkB8"
      },
      "source": [
        "# Chargement des poids sauvegardés\n",
        "model.load_weights(\"poids.hdf5\")"
      ],
      "execution_count": null,
      "outputs": []
    },
    {
      "cell_type": "markdown",
      "metadata": {
        "id": "pKErsgPwnkB9"
      },
      "source": [
        "**2. Entrainement du modèle**"
      ]
    },
    {
      "cell_type": "code",
      "metadata": {
        "id": "LJTgBXrZnkB9"
      },
      "source": [
        "from google.colab import files\n",
        "\n",
        "max_periodes = 5000\n",
        "\n",
        "# Classe permettant d'arrêter l'entrainement si la variation\n",
        "# devient plus petite qu'une valeur à choisir sur un nombre\n",
        "# de périodes à choisir\n",
        "class StopTrain(keras.callbacks.Callback):\n",
        "    def __init__(self, delta=0.01,periodes=100, term=\"loss\", logs={}):\n",
        "      self.n_periodes = 0\n",
        "      self.periodes = periodes\n",
        "      self.loss_1 = 100\n",
        "      self.delta = delta\n",
        "      self.term = term\n",
        "    def on_epoch_end(self, epoch, logs={}):\n",
        "      diff_loss = abs(self.loss_1 - logs[self.term])\n",
        "      self.loss_1 = logs[self.term]\n",
        "      if (diff_loss < self.delta):\n",
        "        self.n_periodes = self.n_periodes + 1\n",
        "      else:\n",
        "        self.n_periodes = 0\n",
        "      if (self.n_periodes == self.periodes):\n",
        "        print(\"Arrêt de l'entrainement...\")\n",
        "        self.model.stop_training = True\n",
        "\n",
        "def  My_MSE(y_true,y_pred):\n",
        "  return(tf.keras.metrics.mse(y_true,y_pred)*std_X[0].numpy()+mean_X[0].numpy())\n",
        "  \n",
        "# Définition des paramètres liés à l'évolution du taux d'apprentissage\n",
        "lr_schedule = tf.keras.optimizers.schedules.InverseTimeDecay(\n",
        "    initial_learning_rate=0.001,\n",
        "    decay_steps=20,\n",
        "    decay_rate=0.001)\n",
        "\n",
        "\n",
        "# Définition de l'optimiseur à utiliser\n",
        "optimiseur=tf.keras.optimizers.Adam(learning_rate=lr_schedule,amsgrad=True)\n",
        "#optimiseur=tf.keras.optimizers.SGD(learning_rate=lr_schedule,momentum=0.9)\n",
        "\n",
        "\n",
        "# Utilisation de la méthode ModelCheckPoint\n",
        "CheckPoint = tf.keras.callbacks.ModelCheckpoint(\"poids_train.hdf5\", monitor='loss', verbose=1, save_best_only=True, save_weights_only = True, mode='auto', save_freq='epoch')\n",
        "\n",
        "# Compile le modèle\n",
        "model.compile(loss=\"logcosh\", optimizer=optimiseur, metrics=[\"mse\",My_MSE])\n",
        "\n",
        "# Entraine le modèle, avec une réduction des calculs du gradient\n",
        "historique = model.fit(x=x_train,y=y_train,validation_data=(x_val,y_val), epochs=max_periodes,verbose=1, callbacks=[CheckPoint,StopTrain(delta=1e-2,periodes = 10, term=\"My_MSE\")],batch_size=16)\n",
        "\n",
        "# Entraine le modèle sans réduction de calculs\n",
        "#historique = model.fit(dataset,validation_data=dataset_val, epochs=max_periodes,verbose=1, callbacks=[CheckPoint,StopTrain(delta=1e-3,periodes = 20, term=\"My_MSE\")])\n",
        "\n",
        "files.download('poids_train.hdf5')\n",
        "\n"
      ],
      "execution_count": null,
      "outputs": []
    },
    {
      "cell_type": "code",
      "metadata": {
        "id": "xcCcIoABnkB_"
      },
      "source": [
        "# Télécharge les résultats d'entrainement du modèle\n",
        "! wget --no-check-certificate --content-disposition \"https://github.com/AlexandreBourrieau/ML/blob/main/Carnets%20Jupyter/S%C3%A9ries%20temporelles/Bitcoin/poids_train_BitWave_One_All.hdf5?raw=true\""
      ],
      "execution_count": null,
      "outputs": []
    },
    {
      "cell_type": "code",
      "metadata": {
        "id": "vwCBv230nkCA"
      },
      "source": [
        "model.load_weights(\"poids_train.hdf5\")\n",
        "#model.load_weights(\"poids_train_BitWave_One_All.hdf5\")"
      ],
      "execution_count": null,
      "outputs": []
    },
    {
      "cell_type": "code",
      "metadata": {
        "id": "H8zkTV7dnkCA"
      },
      "source": [
        "erreur_entrainement = historique.history[\"loss\"]\n",
        "erreur_validation = historique.history[\"val_loss\"]\n",
        "\n",
        "# Affiche l'erreur en fonction de la période\n",
        "plt.figure(figsize=(10, 6))\n",
        "plt.plot(np.arange(0,len(erreur_entrainement)),erreur_entrainement, label=\"Erreurs sur les entrainements\")\n",
        "plt.plot(np.arange(0,len(erreur_entrainement)),erreur_validation, label =\"Erreurs sur les validations\")\n",
        "plt.legend()\n",
        "\n",
        "plt.title(\"Evolution de l'erreur en fonction de la période\")"
      ],
      "execution_count": null,
      "outputs": []
    },
    {
      "cell_type": "code",
      "metadata": {
        "id": "fMcgYWLMnkCB"
      },
      "source": [
        "# Evaluation du modèle\n",
        "\n",
        "model.evaluate(dataset)\n",
        "model.evaluate(dataset_val)\n"
      ],
      "execution_count": null,
      "outputs": []
    },
    {
      "cell_type": "markdown",
      "metadata": {
        "id": "FRxuxZCRnkCC"
      },
      "source": [
        "**3. Prédictions \"single step\"**"
      ]
    },
    {
      "cell_type": "code",
      "metadata": {
        "id": "pOnVsZVznkCD"
      },
      "source": [
        "# Création des instants d'entrainement et de validation\n",
        "y_train_timing = X_Avec_Prix.index[taille_fenetre + horizon - 1:taille_fenetre + horizon - 1+len(y_train)]\n",
        "y_val_timing = X_Avec_Prix.index[taille_fenetre + horizon - 1:taille_fenetre + horizon - 1+len(y_val)]\n",
        "\n",
        "# Calcul des prédictions\n",
        "pred_ent = model.predict(x_train, verbose=1)\n",
        "pred_val = model.predict(x_val, verbose=1)"
      ],
      "execution_count": null,
      "outputs": []
    },
    {
      "cell_type": "code",
      "metadata": {
        "id": "KBixEA6vnkCD"
      },
      "source": [
        "import plotly.graph_objects as go\n",
        "\n",
        "fig = go.Figure()\n",
        "\n",
        "# Courbes originales\n",
        "fig.add_trace(go.Scatter(x=X_Avec_Prix.index,y=serie_entrainement_X_norm[0],line=dict(color='blue', width=1)))\n",
        "fig.add_trace(go.Scatter(x=X_Avec_Prix.index[temps_separation:],y=serie_test_X_norm[0],line=dict(color='blue', width=1)))\n",
        "\n",
        "# Courbes des prédictions d'entrainement\n",
        "fig.add_trace(go.Scatter(x=X_Avec_Prix.index[taille_fenetre+horizon-1:],y=pred_ent[:,taille_fenetre-1,0],line=dict(color='green', width=1)))\n",
        "\n",
        "# Courbes des prédictions de validations\n",
        "fig.add_trace(go.Scatter(x=X_Avec_Prix.index[temps_separation+taille_fenetre+horizon-1:],y=pred_val[:,taille_fenetre-1,0],line=dict(color='red', width=1)))\n",
        "\n",
        "\n",
        "fig.update_xaxes(rangeslider_visible=True)\n",
        "yaxis=dict(autorange = True,fixedrange= False)\n",
        "fig.update_yaxes(yaxis)\n",
        "fig.show()"
      ],
      "execution_count": null,
      "outputs": []
    },
    {
      "cell_type": "markdown",
      "metadata": {
        "id": "7in3IeG1nkCF"
      },
      "source": [
        "**4. Prédictions multi-step**"
      ]
    },
    {
      "cell_type": "code",
      "metadata": {
        "id": "buIyA-dNnkCF"
      },
      "source": [
        "predictions = []\n",
        "                                                        # x_val : (448,16,779)\n",
        "data_to_predict = x_val[0,:,:]                          # [[VAL#1_0,VAL#2_0, ... , VAL#779_0],[VAL#1_1,VAL#2_1, ... , VAL#779_1], ... , [VAL#1_15,VAL#2_15, ..., VAL#779_15]] : (16,779)\n",
        "data_to_predict = tf.expand_dims(data_to_predict,0)     # (1,16,779)\n",
        "\n",
        "prediction = model.predict(data_to_predict)             # [[[^VAL#1_1][^VAL#1_2]...[^VAL#1_16]]] : (1,16,1)\n",
        "predictions.append(prediction[0,taille_fenetre-1,0])    # [^VAL#1_16] : (1,)\n",
        "\n",
        "data_to_predict = x_val[1,0:taille_fenetre-1,:]         # [[VAL#1_1,VAL#2_1, ... , VAL#779_1],[VAL#1_2,VAL#2_2, ... , VAL#779_2], ... , [VAL#1_15,VAL#2_15, ..., VAL#779_15]] : (15,779)\n",
        "\n",
        "data_to_predict = np.insert(data_to_predict,taille_fenetre-1,     # [[VAL#1_1,VAL#2_1, ... , VAL#779_1],[VAL#1_2,VAL#2_2, ... , VAL#779_2], ... , [^VAL#1_16,VAL#2_16, ..., VAL#779_16]] : (16,779)\n",
        "                            np.concatenate((tf.expand_dims(np.array(predictions[0]),0),x_val[1,taille_fenetre-2,1:779]),axis=0),axis=0)\n",
        "\n",
        "for i in range(1,300):\n",
        "  data_to_predict = tf.expand_dims(data_to_predict,0)   # (16,779) => (1,16,779)\n",
        "  prediction = model.predict(data_to_predict)           # [[[^VAL#1_2][^VAL#1_3]...[^VAL#1_17]]] : (1,16,1)\n",
        "\n",
        "  predictions.append(prediction[0,taille_fenetre-1,0])  # [^VAL#1_17] : (1,)\n",
        "  data_to_predict = x_val[i+1,0:taille_fenetre-1,:]     # [[VAL#1_2,VAL#2_2, ... , VAL#779_2],[VAL#1_3,VAL#2_3, ... , VAL#779_3], ... , [VAL#1_17,VAL#2_17, ..., VAL#779_17]] : (15,779)\n",
        "\n",
        "  data_to_predict = np.insert(data_to_predict,taille_fenetre-1,     # [[VAL#1_1,VAL#2_1, ... , VAL#779_1],[VAL#1_2,VAL#2_2, ... , VAL#779_2], ... , [^VAL#1_16,VAL#2_16, ..., VAL#779_16]] : (16,779)\n",
        "                            np.concatenate((tf.expand_dims(np.array(predictions[i]),0),x_val[1,taille_fenetre-2,1:779]),axis=0),axis=0)"
      ],
      "execution_count": null,
      "outputs": []
    },
    {
      "cell_type": "code",
      "metadata": {
        "id": "za6q5srpnkCH"
      },
      "source": [
        "import plotly.graph_objects as go\n",
        "\n",
        "fig = go.Figure()\n",
        "\n",
        "n_max = len(predictions)\n",
        "\n",
        "# Courbes originales\n",
        "fig.add_trace(go.Scatter(x=X_Avec_Prix.index,y=serie_entrainement_X_norm[0],line=dict(color='blue', width=1)))\n",
        "fig.add_trace(go.Scatter(x=X_Avec_Prix.index[temps_separation:],y=serie_test_X_norm[0],line=dict(color='blue', width=1)))\n",
        "\n",
        "# Courbes des prédictions d'entrainement\n",
        "fig.add_trace(go.Scatter(x=X_Avec_Prix.index[taille_fenetre+horizon-1:],y=pred_ent[:,taille_fenetre-1,0],line=dict(color='green', width=1)))\n",
        "\n",
        "# Courbes des prédictions de validations\n",
        "fig.add_trace(go.Scatter(x=X_Avec_Prix.index[temps_separation+taille_fenetre+horizon-1:temps_separation+taille_fenetre+horizon-1+n_max],y=predictions[0:n_max],line=dict(color='red', width=1)))\n",
        "\n",
        "\n",
        "fig.update_xaxes(rangeslider_visible=True)\n",
        "yaxis=dict(autorange = True,fixedrange= False)\n",
        "fig.update_yaxes(yaxis)\n",
        "fig.show()"
      ],
      "execution_count": null,
      "outputs": []
    }
  ]
}