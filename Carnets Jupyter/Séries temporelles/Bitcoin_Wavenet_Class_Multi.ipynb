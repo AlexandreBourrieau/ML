{
  "nbformat": 4,
  "nbformat_minor": 0,
  "metadata": {
    "colab": {
      "name": "Bitcoin_Wavenet_Class_Multi.ipynb",
      "provenance": [],
      "machine_shape": "hm",
      "include_colab_link": true
    },
    "kernelspec": {
      "name": "python3",
      "display_name": "Python 3"
    },
    "language_info": {
      "name": "python"
    },
    "accelerator": "GPU"
  },
  "cells": [
    {
      "cell_type": "markdown",
      "metadata": {
        "id": "view-in-github",
        "colab_type": "text"
      },
      "source": [
        "<a href=\"https://colab.research.google.com/github/AlexandreBourrieau/ML/blob/main/Carnets%20Jupyter/S%C3%A9ries%20temporelles/Bitcoin_Wavenet_Class_Multi.ipynb\" target=\"_parent\"><img src=\"https://colab.research.google.com/assets/colab-badge.svg\" alt=\"Open In Colab\"/></a>"
      ]
    },
    {
      "cell_type": "markdown",
      "metadata": {
        "id": "TVuCzMYKDp3z"
      },
      "source": [
        "# Chargement des données"
      ]
    },
    {
      "cell_type": "code",
      "metadata": {
        "id": "i3nLyKtnliCW"
      },
      "source": [
        "import tensorflow as tf\n",
        "from tensorflow import keras\n",
        "import numpy as np\n",
        "import matplotlib.pyplot as plt\n",
        "import plotly.express as px\n",
        "import pandas as pd\n",
        "\n",
        "\n",
        "import pandas as pd\n",
        "import numpy as np\n",
        "import seaborn as sns\n",
        "import re\n",
        "from sklearn.ensemble import RandomForestRegressor\n",
        "from sklearn.model_selection import train_test_split\n",
        "from sklearn.feature_selection import RFECV\n",
        "from sklearn.preprocessing import MinMaxScaler, RobustScaler\n",
        "from sklearn.impute import SimpleImputer\n",
        "from sklearn.pipeline import Pipeline\n",
        "import matplotlib.pyplot as plt\n",
        "import seaborn as sns\n",
        "\n",
        "import tensorflow as tf"
      ],
      "execution_count": 1,
      "outputs": []
    },
    {
      "cell_type": "code",
      "metadata": {
        "id": "xyxxcCcl1Kb3",
        "outputId": "e5497024-2abb-45e5-8bc2-078438956538",
        "colab": {
          "base_uri": "https://localhost:8080/"
        }
      },
      "source": [
        "!rm *.zip\n",
        "!rm *.csv\n",
        "!wget -q --no-check-certificate --content-disposition \"https://github.com/AlexandreBourrieau/ML/blob/main/Carnets%20Jupyter/S%C3%A9ries%20temporelles/Bitcoin/Bitcoin_complet.zip?raw=true\"\n",
        "!unzip \"Bitcoin_complet.zip\""
      ],
      "execution_count": 2,
      "outputs": [
        {
          "output_type": "stream",
          "text": [
            "rm: cannot remove '*.zip': No such file or directory\n",
            "rm: cannot remove '*.csv': No such file or directory\n",
            "Archive:  Bitcoin_complet.zip\n",
            "  inflating: Bitcoin_complet.csv     \n"
          ],
          "name": "stdout"
        }
      ]
    },
    {
      "cell_type": "markdown",
      "metadata": {
        "id": "MPJ6nnrRsUBm"
      },
      "source": [
        "Charge la série sous Pandas et affiche les informations du fichier :"
      ]
    },
    {
      "cell_type": "code",
      "metadata": {
        "id": "MR4EPWWwbO3O",
        "outputId": "ad2831b6-a4c2-4ff5-9257-f79ee8440fe7",
        "colab": {
          "base_uri": "https://localhost:8080/",
          "height": 643
        }
      },
      "source": [
        "# Création de la série sous Pandas\n",
        "df_data = pd.read_csv(\"Bitcoin_complet.csv\")\n",
        "df_data"
      ],
      "execution_count": 3,
      "outputs": [
        {
          "output_type": "execute_result",
          "data": {
            "text/html": [
              "<div>\n",
              "<style scoped>\n",
              "    .dataframe tbody tr th:only-of-type {\n",
              "        vertical-align: middle;\n",
              "    }\n",
              "\n",
              "    .dataframe tbody tr th {\n",
              "        vertical-align: top;\n",
              "    }\n",
              "\n",
              "    .dataframe thead th {\n",
              "        text-align: right;\n",
              "    }\n",
              "</style>\n",
              "<table border=\"1\" class=\"dataframe\">\n",
              "  <thead>\n",
              "    <tr style=\"text-align: right;\">\n",
              "      <th></th>\n",
              "      <th>Dates</th>\n",
              "      <th>#Active_Adresses</th>\n",
              "      <th>Block Size</th>\n",
              "      <th>Block Time</th>\n",
              "      <th>FeeInReward</th>\n",
              "      <th>Price</th>\n",
              "      <th>Transaction Fee</th>\n",
              "      <th>Transaction Value</th>\n",
              "      <th>#From_Adresses</th>\n",
              "      <th>Google GTrends</th>\n",
              "      <th>Hashrate</th>\n",
              "      <th>Capitalization</th>\n",
              "      <th>Median Transaction Fee</th>\n",
              "      <th>Median Transaction Value</th>\n",
              "      <th>Difficulty</th>\n",
              "      <th>#Transactions</th>\n",
              "      <th>Profiltability</th>\n",
              "      <th>Sent</th>\n",
              "      <th>Top100</th>\n",
              "      <th>Tweets</th>\n",
              "      <th>#Active_Adresses_sma3</th>\n",
              "      <th>Block Size_sma3</th>\n",
              "      <th>Block Time_sma3</th>\n",
              "      <th>FeeInReward_sma3</th>\n",
              "      <th>Price_sma3</th>\n",
              "      <th>Transaction Fee_sma3</th>\n",
              "      <th>Transaction Value_sma3</th>\n",
              "      <th>#From_Adresses_sma3</th>\n",
              "      <th>Google GTrends_sma3</th>\n",
              "      <th>Hashrate_sma3</th>\n",
              "      <th>Capitalization_sma3</th>\n",
              "      <th>Median Transaction Fee_sma3</th>\n",
              "      <th>Median Transaction Value_sma3</th>\n",
              "      <th>Difficulty_sma3</th>\n",
              "      <th>#Transactions_sma3</th>\n",
              "      <th>Profiltability_sma3</th>\n",
              "      <th>Sent_sma3</th>\n",
              "      <th>Top100_sma3</th>\n",
              "      <th>Tweets_sma3</th>\n",
              "      <th>#Active_Adresses_sma7</th>\n",
              "      <th>...</th>\n",
              "      <th>Top100_roc14</th>\n",
              "      <th>Tweets_roc14</th>\n",
              "      <th>#Active_Adresses_roc30</th>\n",
              "      <th>Block Size_roc30</th>\n",
              "      <th>Block Time_roc30</th>\n",
              "      <th>FeeInReward_roc30</th>\n",
              "      <th>Price_roc30</th>\n",
              "      <th>Transaction Fee_roc30</th>\n",
              "      <th>Transaction Value_roc30</th>\n",
              "      <th>#From_Adresses_roc30</th>\n",
              "      <th>Google GTrends_roc30</th>\n",
              "      <th>Hashrate_roc30</th>\n",
              "      <th>Capitalization_roc30</th>\n",
              "      <th>Median Transaction Fee_roc30</th>\n",
              "      <th>Median Transaction Value_roc30</th>\n",
              "      <th>Difficulty_roc30</th>\n",
              "      <th>#Transactions_roc30</th>\n",
              "      <th>Profiltability_roc30</th>\n",
              "      <th>Sent_roc30</th>\n",
              "      <th>Top100_roc30</th>\n",
              "      <th>Tweets_roc30</th>\n",
              "      <th>#Active_Adresses_roc90</th>\n",
              "      <th>Block Size_roc90</th>\n",
              "      <th>Block Time_roc90</th>\n",
              "      <th>FeeInReward_roc90</th>\n",
              "      <th>Price_roc90</th>\n",
              "      <th>Transaction Fee_roc90</th>\n",
              "      <th>Transaction Value_roc90</th>\n",
              "      <th>#From_Adresses_roc90</th>\n",
              "      <th>Google GTrends_roc90</th>\n",
              "      <th>Hashrate_roc90</th>\n",
              "      <th>Capitalization_roc90</th>\n",
              "      <th>Median Transaction Fee_roc90</th>\n",
              "      <th>Median Transaction Value_roc90</th>\n",
              "      <th>Difficulty_roc90</th>\n",
              "      <th>#Transactions_roc90</th>\n",
              "      <th>Profiltability_roc90</th>\n",
              "      <th>Sent_roc90</th>\n",
              "      <th>Top100_roc90</th>\n",
              "      <th>Tweets_roc90</th>\n",
              "    </tr>\n",
              "  </thead>\n",
              "  <tbody>\n",
              "    <tr>\n",
              "      <th>0</th>\n",
              "      <td>2014-08-30</td>\n",
              "      <td>150886.0</td>\n",
              "      <td>186250.0</td>\n",
              "      <td>7.912</td>\n",
              "      <td>0.201</td>\n",
              "      <td>502.665</td>\n",
              "      <td>0.0752</td>\n",
              "      <td>4962.0</td>\n",
              "      <td>101469.0</td>\n",
              "      <td>7.377</td>\n",
              "      <td>2.040071e+17</td>\n",
              "      <td>6.587252e+09</td>\n",
              "      <td>0.0503</td>\n",
              "      <td>79.849</td>\n",
              "      <td>2.384467e+10</td>\n",
              "      <td>61032.0</td>\n",
              "      <td>11.234</td>\n",
              "      <td>2.326117e+08</td>\n",
              "      <td>19.946</td>\n",
              "      <td>18905.0</td>\n",
              "      <td>155328.666667</td>\n",
              "      <td>207422.000000</td>\n",
              "      <td>8.235667</td>\n",
              "      <td>0.228667</td>\n",
              "      <td>506.365000</td>\n",
              "      <td>0.076600</td>\n",
              "      <td>4901.666667</td>\n",
              "      <td>110979.000000</td>\n",
              "      <td>7.296333</td>\n",
              "      <td>2.055306e+17</td>\n",
              "      <td>6.624317e+09</td>\n",
              "      <td>0.050667</td>\n",
              "      <td>101.313333</td>\n",
              "      <td>2.384467e+10</td>\n",
              "      <td>65977.000000</td>\n",
              "      <td>10.804333</td>\n",
              "      <td>2.817489e+08</td>\n",
              "      <td>19.879667</td>\n",
              "      <td>20324.000000</td>\n",
              "      <td>164702.571429</td>\n",
              "      <td>...</td>\n",
              "      <td>2.114371</td>\n",
              "      <td>-19.508664</td>\n",
              "      <td>-2.992780</td>\n",
              "      <td>-29.809685</td>\n",
              "      <td>-15.388728</td>\n",
              "      <td>-31.164384</td>\n",
              "      <td>-12.569204</td>\n",
              "      <td>-19.139785</td>\n",
              "      <td>42.340792</td>\n",
              "      <td>-13.373572</td>\n",
              "      <td>-9.540159</td>\n",
              "      <td>34.502450</td>\n",
              "      <td>-11.983567</td>\n",
              "      <td>-12.521739</td>\n",
              "      <td>-22.974746</td>\n",
              "      <td>27.263600</td>\n",
              "      <td>-12.319163</td>\n",
              "      <td>-23.244056</td>\n",
              "      <td>23.159820</td>\n",
              "      <td>3.588678</td>\n",
              "      <td>-14.688628</td>\n",
              "      <td>-21.140408</td>\n",
              "      <td>-9.125063</td>\n",
              "      <td>-3.852230</td>\n",
              "      <td>-18.292683</td>\n",
              "      <td>-22.005409</td>\n",
              "      <td>-40.317460</td>\n",
              "      <td>-43.478756</td>\n",
              "      <td>-4.659488</td>\n",
              "      <td>-25.477321</td>\n",
              "      <td>128.784743</td>\n",
              "      <td>-19.517102</td>\n",
              "      <td>-21.894410</td>\n",
              "      <td>-47.650985</td>\n",
              "      <td>128.053828</td>\n",
              "      <td>10.872527</td>\n",
              "      <td>-64.560396</td>\n",
              "      <td>-47.014142</td>\n",
              "      <td>0.737374</td>\n",
              "      <td>47.132073</td>\n",
              "    </tr>\n",
              "    <tr>\n",
              "      <th>1</th>\n",
              "      <td>2014-08-31</td>\n",
              "      <td>177973.0</td>\n",
              "      <td>179521.0</td>\n",
              "      <td>7.660</td>\n",
              "      <td>0.189</td>\n",
              "      <td>488.836</td>\n",
              "      <td>0.0755</td>\n",
              "      <td>4343.0</td>\n",
              "      <td>102679.0</td>\n",
              "      <td>7.740</td>\n",
              "      <td>2.245391e+17</td>\n",
              "      <td>6.389446e+09</td>\n",
              "      <td>0.0489</td>\n",
              "      <td>93.017</td>\n",
              "      <td>2.390186e+10</td>\n",
              "      <td>57567.0</td>\n",
              "      <td>10.252</td>\n",
              "      <td>2.101746e+08</td>\n",
              "      <td>19.938</td>\n",
              "      <td>17226.0</td>\n",
              "      <td>157914.333333</td>\n",
              "      <td>192453.666667</td>\n",
              "      <td>8.014333</td>\n",
              "      <td>0.211667</td>\n",
              "      <td>499.380000</td>\n",
              "      <td>0.075967</td>\n",
              "      <td>4543.333333</td>\n",
              "      <td>104920.666667</td>\n",
              "      <td>7.417333</td>\n",
              "      <td>2.105118e+17</td>\n",
              "      <td>6.532561e+09</td>\n",
              "      <td>0.049967</td>\n",
              "      <td>96.025667</td>\n",
              "      <td>2.386373e+10</td>\n",
              "      <td>62347.666667</td>\n",
              "      <td>10.706667</td>\n",
              "      <td>2.398264e+08</td>\n",
              "      <td>19.911333</td>\n",
              "      <td>18656.333333</td>\n",
              "      <td>162913.571429</td>\n",
              "      <td>...</td>\n",
              "      <td>2.036847</td>\n",
              "      <td>-23.805732</td>\n",
              "      <td>16.226506</td>\n",
              "      <td>-26.185924</td>\n",
              "      <td>-16.484954</td>\n",
              "      <td>-30.514706</td>\n",
              "      <td>-17.296009</td>\n",
              "      <td>-18.991416</td>\n",
              "      <td>8.466533</td>\n",
              "      <td>-12.470590</td>\n",
              "      <td>4.920699</td>\n",
              "      <td>55.753823</td>\n",
              "      <td>-16.770244</td>\n",
              "      <td>-17.258883</td>\n",
              "      <td>-19.567473</td>\n",
              "      <td>27.568839</td>\n",
              "      <td>-15.040290</td>\n",
              "      <td>-36.465047</td>\n",
              "      <td>-7.094303</td>\n",
              "      <td>3.113364</td>\n",
              "      <td>-20.194580</td>\n",
              "      <td>1.440329</td>\n",
              "      <td>-10.034829</td>\n",
              "      <td>2.667203</td>\n",
              "      <td>-22.222222</td>\n",
              "      <td>-23.122313</td>\n",
              "      <td>-34.913793</td>\n",
              "      <td>-53.104416</td>\n",
              "      <td>-12.412352</td>\n",
              "      <td>-13.257873</td>\n",
              "      <td>143.057467</td>\n",
              "      <td>-20.689616</td>\n",
              "      <td>-23.113208</td>\n",
              "      <td>-37.208800</td>\n",
              "      <td>128.600810</td>\n",
              "      <td>-10.389004</td>\n",
              "      <td>-69.204890</td>\n",
              "      <td>-63.327065</td>\n",
              "      <td>0.732582</td>\n",
              "      <td>4.863944</td>\n",
              "    </tr>\n",
              "    <tr>\n",
              "      <th>2</th>\n",
              "      <td>2014-09-01</td>\n",
              "      <td>169807.0</td>\n",
              "      <td>296280.0</td>\n",
              "      <td>10.588</td>\n",
              "      <td>0.321</td>\n",
              "      <td>479.421</td>\n",
              "      <td>0.0745</td>\n",
              "      <td>4833.0</td>\n",
              "      <td>117614.0</td>\n",
              "      <td>9.070</td>\n",
              "      <td>2.217182e+17</td>\n",
              "      <td>6.309097e+09</td>\n",
              "      <td>0.0479</td>\n",
              "      <td>97.231</td>\n",
              "      <td>2.742863e+10</td>\n",
              "      <td>70247.0</td>\n",
              "      <td>7.375</td>\n",
              "      <td>2.772926e+08</td>\n",
              "      <td>19.890</td>\n",
              "      <td>18661.0</td>\n",
              "      <td>166222.000000</td>\n",
              "      <td>220683.666667</td>\n",
              "      <td>8.720000</td>\n",
              "      <td>0.237000</td>\n",
              "      <td>490.307333</td>\n",
              "      <td>0.075067</td>\n",
              "      <td>4712.666667</td>\n",
              "      <td>107254.000000</td>\n",
              "      <td>8.062333</td>\n",
              "      <td>2.167548e+17</td>\n",
              "      <td>6.428598e+09</td>\n",
              "      <td>0.049033</td>\n",
              "      <td>90.032333</td>\n",
              "      <td>2.505839e+10</td>\n",
              "      <td>62948.666667</td>\n",
              "      <td>9.620333</td>\n",
              "      <td>2.400263e+08</td>\n",
              "      <td>19.924667</td>\n",
              "      <td>18264.000000</td>\n",
              "      <td>164547.714286</td>\n",
              "      <td>...</td>\n",
              "      <td>1.707916</td>\n",
              "      <td>-14.661362</td>\n",
              "      <td>32.607847</td>\n",
              "      <td>55.838418</td>\n",
              "      <td>19.855105</td>\n",
              "      <td>54.326923</td>\n",
              "      <td>-18.800007</td>\n",
              "      <td>-18.311404</td>\n",
              "      <td>17.849305</td>\n",
              "      <td>25.836133</td>\n",
              "      <td>38.876129</td>\n",
              "      <td>47.890157</td>\n",
              "      <td>-17.237931</td>\n",
              "      <td>-18.813559</td>\n",
              "      <td>1.814698</td>\n",
              "      <td>46.391890</td>\n",
              "      <td>28.127166</td>\n",
              "      <td>-54.141276</td>\n",
              "      <td>53.263001</td>\n",
              "      <td>2.721686</td>\n",
              "      <td>0.701527</td>\n",
              "      <td>-9.464755</td>\n",
              "      <td>26.216239</td>\n",
              "      <td>30.877627</td>\n",
              "      <td>6.291391</td>\n",
              "      <td>-27.843900</td>\n",
              "      <td>-41.796875</td>\n",
              "      <td>-43.750000</td>\n",
              "      <td>-8.698251</td>\n",
              "      <td>-16.597701</td>\n",
              "      <td>124.097209</td>\n",
              "      <td>-24.474173</td>\n",
              "      <td>-27.861446</td>\n",
              "      <td>-40.218882</td>\n",
              "      <td>162.331342</td>\n",
              "      <td>1.050103</td>\n",
              "      <td>-75.395343</td>\n",
              "      <td>-48.746650</td>\n",
              "      <td>0.368371</td>\n",
              "      <td>4.496584</td>\n",
              "    </tr>\n",
              "    <tr>\n",
              "      <th>3</th>\n",
              "      <td>2014-09-02</td>\n",
              "      <td>163408.0</td>\n",
              "      <td>282380.0</td>\n",
              "      <td>9.796</td>\n",
              "      <td>0.315</td>\n",
              "      <td>477.176</td>\n",
              "      <td>0.0771</td>\n",
              "      <td>3921.0</td>\n",
              "      <td>123859.0</td>\n",
              "      <td>7.982</td>\n",
              "      <td>1.951898e+17</td>\n",
              "      <td>6.273471e+09</td>\n",
              "      <td>0.0477</td>\n",
              "      <td>102.216</td>\n",
              "      <td>2.742863e+10</td>\n",
              "      <td>71762.0</td>\n",
              "      <td>9.013</td>\n",
              "      <td>2.192583e+08</td>\n",
              "      <td>19.901</td>\n",
              "      <td>22901.0</td>\n",
              "      <td>170396.000000</td>\n",
              "      <td>252727.000000</td>\n",
              "      <td>9.348000</td>\n",
              "      <td>0.275000</td>\n",
              "      <td>481.811000</td>\n",
              "      <td>0.075700</td>\n",
              "      <td>4365.666667</td>\n",
              "      <td>114717.333333</td>\n",
              "      <td>8.264000</td>\n",
              "      <td>2.138157e+17</td>\n",
              "      <td>6.324004e+09</td>\n",
              "      <td>0.048167</td>\n",
              "      <td>97.488000</td>\n",
              "      <td>2.625304e+10</td>\n",
              "      <td>66525.333333</td>\n",
              "      <td>8.880000</td>\n",
              "      <td>2.355752e+08</td>\n",
              "      <td>19.909667</td>\n",
              "      <td>19596.000000</td>\n",
              "      <td>163692.857143</td>\n",
              "      <td>...</td>\n",
              "      <td>1.629047</td>\n",
              "      <td>-4.998755</td>\n",
              "      <td>3.933903</td>\n",
              "      <td>42.326477</td>\n",
              "      <td>4.758849</td>\n",
              "      <td>41.891892</td>\n",
              "      <td>-18.196530</td>\n",
              "      <td>-17.363344</td>\n",
              "      <td>-15.166595</td>\n",
              "      <td>42.340489</td>\n",
              "      <td>15.798636</td>\n",
              "      <td>27.465039</td>\n",
              "      <td>-17.154408</td>\n",
              "      <td>-18.181818</td>\n",
              "      <td>36.289817</td>\n",
              "      <td>46.391890</td>\n",
              "      <td>34.217368</td>\n",
              "      <td>-38.678732</td>\n",
              "      <td>3.650241</td>\n",
              "      <td>2.778495</td>\n",
              "      <td>33.246058</td>\n",
              "      <td>-4.765013</td>\n",
              "      <td>38.185164</td>\n",
              "      <td>23.127200</td>\n",
              "      <td>18.867925</td>\n",
              "      <td>-25.618255</td>\n",
              "      <td>-35.210084</td>\n",
              "      <td>-60.813512</td>\n",
              "      <td>4.779670</td>\n",
              "      <td>-13.257987</td>\n",
              "      <td>103.067515</td>\n",
              "      <td>-22.479649</td>\n",
              "      <td>-25.700935</td>\n",
              "      <td>-34.528964</td>\n",
              "      <td>162.331342</td>\n",
              "      <td>10.619210</td>\n",
              "      <td>-70.235461</td>\n",
              "      <td>-64.785807</td>\n",
              "      <td>0.206445</td>\n",
              "      <td>27.157135</td>\n",
              "    </tr>\n",
              "    <tr>\n",
              "      <th>4</th>\n",
              "      <td>2014-09-03</td>\n",
              "      <td>153695.0</td>\n",
              "      <td>238464.0</td>\n",
              "      <td>8.521</td>\n",
              "      <td>0.263</td>\n",
              "      <td>475.398</td>\n",
              "      <td>0.0738</td>\n",
              "      <td>3284.0</td>\n",
              "      <td>117748.0</td>\n",
              "      <td>8.103</td>\n",
              "      <td>2.156571e+17</td>\n",
              "      <td>6.243903e+09</td>\n",
              "      <td>0.0475</td>\n",
              "      <td>106.199</td>\n",
              "      <td>2.742863e+10</td>\n",
              "      <td>71699.0</td>\n",
              "      <td>9.338</td>\n",
              "      <td>1.809135e+08</td>\n",
              "      <td>19.906</td>\n",
              "      <td>22113.0</td>\n",
              "      <td>162303.333333</td>\n",
              "      <td>272374.666667</td>\n",
              "      <td>9.635000</td>\n",
              "      <td>0.299667</td>\n",
              "      <td>477.331667</td>\n",
              "      <td>0.075133</td>\n",
              "      <td>4012.666667</td>\n",
              "      <td>119740.333333</td>\n",
              "      <td>8.385000</td>\n",
              "      <td>2.108550e+17</td>\n",
              "      <td>6.275490e+09</td>\n",
              "      <td>0.047700</td>\n",
              "      <td>101.882000</td>\n",
              "      <td>2.742863e+10</td>\n",
              "      <td>71236.000000</td>\n",
              "      <td>8.575333</td>\n",
              "      <td>2.258215e+08</td>\n",
              "      <td>19.899000</td>\n",
              "      <td>21225.000000</td>\n",
              "      <td>161552.714286</td>\n",
              "      <td>...</td>\n",
              "      <td>1.628631</td>\n",
              "      <td>-17.868816</td>\n",
              "      <td>2.319404</td>\n",
              "      <td>-20.834730</td>\n",
              "      <td>-24.257778</td>\n",
              "      <td>-23.988439</td>\n",
              "      <td>-18.867139</td>\n",
              "      <td>-23.125000</td>\n",
              "      <td>-10.224166</td>\n",
              "      <td>15.689877</td>\n",
              "      <td>15.526091</td>\n",
              "      <td>66.073439</td>\n",
              "      <td>-17.996231</td>\n",
              "      <td>-18.941980</td>\n",
              "      <td>-4.144741</td>\n",
              "      <td>46.391890</td>\n",
              "      <td>5.877228</td>\n",
              "      <td>-35.551108</td>\n",
              "      <td>-3.357904</td>\n",
              "      <td>2.767166</td>\n",
              "      <td>7.297783</td>\n",
              "      <td>-16.453309</td>\n",
              "      <td>-9.286163</td>\n",
              "      <td>-10.059109</td>\n",
              "      <td>-19.076923</td>\n",
              "      <td>-27.004692</td>\n",
              "      <td>-38.500000</td>\n",
              "      <td>-64.277167</td>\n",
              "      <td>-4.311150</td>\n",
              "      <td>-11.943056</td>\n",
              "      <td>158.536761</td>\n",
              "      <td>-24.464584</td>\n",
              "      <td>-27.035330</td>\n",
              "      <td>-21.865389</td>\n",
              "      <td>159.149596</td>\n",
              "      <td>7.345081</td>\n",
              "      <td>-68.628637</td>\n",
              "      <td>-68.864609</td>\n",
              "      <td>0.110642</td>\n",
              "      <td>18.207088</td>\n",
              "    </tr>\n",
              "    <tr>\n",
              "      <th>...</th>\n",
              "      <td>...</td>\n",
              "      <td>...</td>\n",
              "      <td>...</td>\n",
              "      <td>...</td>\n",
              "      <td>...</td>\n",
              "      <td>...</td>\n",
              "      <td>...</td>\n",
              "      <td>...</td>\n",
              "      <td>...</td>\n",
              "      <td>...</td>\n",
              "      <td>...</td>\n",
              "      <td>...</td>\n",
              "      <td>...</td>\n",
              "      <td>...</td>\n",
              "      <td>...</td>\n",
              "      <td>...</td>\n",
              "      <td>...</td>\n",
              "      <td>...</td>\n",
              "      <td>...</td>\n",
              "      <td>...</td>\n",
              "      <td>...</td>\n",
              "      <td>...</td>\n",
              "      <td>...</td>\n",
              "      <td>...</td>\n",
              "      <td>...</td>\n",
              "      <td>...</td>\n",
              "      <td>...</td>\n",
              "      <td>...</td>\n",
              "      <td>...</td>\n",
              "      <td>...</td>\n",
              "      <td>...</td>\n",
              "      <td>...</td>\n",
              "      <td>...</td>\n",
              "      <td>...</td>\n",
              "      <td>...</td>\n",
              "      <td>...</td>\n",
              "      <td>...</td>\n",
              "      <td>...</td>\n",
              "      <td>...</td>\n",
              "      <td>...</td>\n",
              "      <td>...</td>\n",
              "      <td>...</td>\n",
              "      <td>...</td>\n",
              "      <td>...</td>\n",
              "      <td>...</td>\n",
              "      <td>...</td>\n",
              "      <td>...</td>\n",
              "      <td>...</td>\n",
              "      <td>...</td>\n",
              "      <td>...</td>\n",
              "      <td>...</td>\n",
              "      <td>...</td>\n",
              "      <td>...</td>\n",
              "      <td>...</td>\n",
              "      <td>...</td>\n",
              "      <td>...</td>\n",
              "      <td>...</td>\n",
              "      <td>...</td>\n",
              "      <td>...</td>\n",
              "      <td>...</td>\n",
              "      <td>...</td>\n",
              "      <td>...</td>\n",
              "      <td>...</td>\n",
              "      <td>...</td>\n",
              "      <td>...</td>\n",
              "      <td>...</td>\n",
              "      <td>...</td>\n",
              "      <td>...</td>\n",
              "      <td>...</td>\n",
              "      <td>...</td>\n",
              "      <td>...</td>\n",
              "      <td>...</td>\n",
              "      <td>...</td>\n",
              "      <td>...</td>\n",
              "      <td>...</td>\n",
              "      <td>...</td>\n",
              "      <td>...</td>\n",
              "      <td>...</td>\n",
              "      <td>...</td>\n",
              "      <td>...</td>\n",
              "      <td>...</td>\n",
              "    </tr>\n",
              "    <tr>\n",
              "      <th>2428</th>\n",
              "      <td>2021-04-23</td>\n",
              "      <td>931624.0</td>\n",
              "      <td>893218.0</td>\n",
              "      <td>10.667</td>\n",
              "      <td>24.229</td>\n",
              "      <td>49891.000</td>\n",
              "      <td>45.5180</td>\n",
              "      <td>368625.0</td>\n",
              "      <td>498055.0</td>\n",
              "      <td>278.568</td>\n",
              "      <td>1.640463e+20</td>\n",
              "      <td>9.324378e+11</td>\n",
              "      <td>20.5970</td>\n",
              "      <td>1123.000</td>\n",
              "      <td>2.358198e+13</td>\n",
              "      <td>295596.0</td>\n",
              "      <td>0.339</td>\n",
              "      <td>5.959777e+10</td>\n",
              "      <td>14.601</td>\n",
              "      <td>132963.0</td>\n",
              "      <td>900267.333333</td>\n",
              "      <td>892279.333333</td>\n",
              "      <td>11.664667</td>\n",
              "      <td>26.060333</td>\n",
              "      <td>53051.666667</td>\n",
              "      <td>55.671667</td>\n",
              "      <td>423817.666667</td>\n",
              "      <td>486720.666667</td>\n",
              "      <td>201.405667</td>\n",
              "      <td>1.463713e+20</td>\n",
              "      <td>9.914630e+11</td>\n",
              "      <td>24.452667</td>\n",
              "      <td>1220.000000</td>\n",
              "      <td>2.358198e+13</td>\n",
              "      <td>265327.666667</td>\n",
              "      <td>0.386667</td>\n",
              "      <td>6.232623e+10</td>\n",
              "      <td>14.552000</td>\n",
              "      <td>112924.000000</td>\n",
              "      <td>877790.142857</td>\n",
              "      <td>...</td>\n",
              "      <td>1.940934</td>\n",
              "      <td>29.545587</td>\n",
              "      <td>-5.932387</td>\n",
              "      <td>1.443715</td>\n",
              "      <td>12.592358</td>\n",
              "      <td>203.241552</td>\n",
              "      <td>-9.524328</td>\n",
              "      <td>205.285044</td>\n",
              "      <td>24.199798</td>\n",
              "      <td>-9.789804</td>\n",
              "      <td>75.441646</td>\n",
              "      <td>-4.647722</td>\n",
              "      <td>-9.397016</td>\n",
              "      <td>173.423603</td>\n",
              "      <td>14.518568</td>\n",
              "      <td>7.849895</td>\n",
              "      <td>-3.064527</td>\n",
              "      <td>2.416918</td>\n",
              "      <td>77.508809</td>\n",
              "      <td>1.649958</td>\n",
              "      <td>2.109572</td>\n",
              "      <td>0.658760</td>\n",
              "      <td>0.972628</td>\n",
              "      <td>15.556278</td>\n",
              "      <td>231.813202</td>\n",
              "      <td>54.241637</td>\n",
              "      <td>464.879623</td>\n",
              "      <td>114.726339</td>\n",
              "      <td>-6.273170</td>\n",
              "      <td>97.214887</td>\n",
              "      <td>15.746085</td>\n",
              "      <td>54.912521</td>\n",
              "      <td>398.354706</td>\n",
              "      <td>103.923392</td>\n",
              "      <td>13.723436</td>\n",
              "      <td>-4.064650</td>\n",
              "      <td>41.250000</td>\n",
              "      <td>419.113979</td>\n",
              "      <td>7.796235</td>\n",
              "      <td>151.814325</td>\n",
              "    </tr>\n",
              "    <tr>\n",
              "      <th>2429</th>\n",
              "      <td>2021-04-24</td>\n",
              "      <td>911731.0</td>\n",
              "      <td>880543.0</td>\n",
              "      <td>9.931</td>\n",
              "      <td>15.677</td>\n",
              "      <td>50077.000</td>\n",
              "      <td>29.0250</td>\n",
              "      <td>275845.0</td>\n",
              "      <td>406399.0</td>\n",
              "      <td>278.568</td>\n",
              "      <td>1.625112e+20</td>\n",
              "      <td>9.359612e+11</td>\n",
              "      <td>12.5620</td>\n",
              "      <td>654.858</td>\n",
              "      <td>2.358198e+13</td>\n",
              "      <td>290545.0</td>\n",
              "      <td>0.331</td>\n",
              "      <td>3.100297e+10</td>\n",
              "      <td>14.611</td>\n",
              "      <td>86049.0</td>\n",
              "      <td>941650.333333</td>\n",
              "      <td>887144.333333</td>\n",
              "      <td>10.222667</td>\n",
              "      <td>21.671333</td>\n",
              "      <td>51260.000000</td>\n",
              "      <td>44.420333</td>\n",
              "      <td>357857.666667</td>\n",
              "      <td>466420.333333</td>\n",
              "      <td>243.256333</td>\n",
              "      <td>1.564829e+20</td>\n",
              "      <td>9.580243e+11</td>\n",
              "      <td>19.176000</td>\n",
              "      <td>1010.286000</td>\n",
              "      <td>2.358198e+13</td>\n",
              "      <td>286869.333333</td>\n",
              "      <td>0.373000</td>\n",
              "      <td>5.053616e+10</td>\n",
              "      <td>14.581667</td>\n",
              "      <td>109324.333333</td>\n",
              "      <td>897570.000000</td>\n",
              "      <td>...</td>\n",
              "      <td>1.754997</td>\n",
              "      <td>-22.372777</td>\n",
              "      <td>-15.857976</td>\n",
              "      <td>-1.385353</td>\n",
              "      <td>6.202545</td>\n",
              "      <td>94.745342</td>\n",
              "      <td>-3.932703</td>\n",
              "      <td>110.493872</td>\n",
              "      <td>-1.680217</td>\n",
              "      <td>-32.402929</td>\n",
              "      <td>61.742796</td>\n",
              "      <td>-1.261883</td>\n",
              "      <td>-3.798708</td>\n",
              "      <td>103.334412</td>\n",
              "      <td>-28.754888</td>\n",
              "      <td>7.849895</td>\n",
              "      <td>-8.750722</td>\n",
              "      <td>-0.301205</td>\n",
              "      <td>-26.856250</td>\n",
              "      <td>1.968037</td>\n",
              "      <td>-37.617625</td>\n",
              "      <td>5.892840</td>\n",
              "      <td>-1.710961</td>\n",
              "      <td>-4.140927</td>\n",
              "      <td>152.163423</td>\n",
              "      <td>55.325682</td>\n",
              "      <td>297.058824</td>\n",
              "      <td>43.366856</td>\n",
              "      <td>-9.949457</td>\n",
              "      <td>114.088750</td>\n",
              "      <td>0.209870</td>\n",
              "      <td>56.000440</td>\n",
              "      <td>289.640199</td>\n",
              "      <td>18.906621</td>\n",
              "      <td>13.246794</td>\n",
              "      <td>14.463503</td>\n",
              "      <td>79.891304</td>\n",
              "      <td>260.697995</td>\n",
              "      <td>7.655467</td>\n",
              "      <td>68.779789</td>\n",
              "    </tr>\n",
              "    <tr>\n",
              "      <th>2430</th>\n",
              "      <td>2021-04-25</td>\n",
              "      <td>849115.0</td>\n",
              "      <td>884132.0</td>\n",
              "      <td>10.213</td>\n",
              "      <td>11.663</td>\n",
              "      <td>49657.000</td>\n",
              "      <td>23.9710</td>\n",
              "      <td>337302.0</td>\n",
              "      <td>327497.0</td>\n",
              "      <td>278.568</td>\n",
              "      <td>1.711981e+20</td>\n",
              "      <td>9.281555e+11</td>\n",
              "      <td>9.0170</td>\n",
              "      <td>649.973</td>\n",
              "      <td>2.358198e+13</td>\n",
              "      <td>240900.0</td>\n",
              "      <td>0.289</td>\n",
              "      <td>2.894934e+10</td>\n",
              "      <td>14.694</td>\n",
              "      <td>81258.0</td>\n",
              "      <td>897490.000000</td>\n",
              "      <td>885964.333333</td>\n",
              "      <td>10.270333</td>\n",
              "      <td>17.189667</td>\n",
              "      <td>49875.000000</td>\n",
              "      <td>32.838000</td>\n",
              "      <td>327257.333333</td>\n",
              "      <td>410650.333333</td>\n",
              "      <td>278.568000</td>\n",
              "      <td>1.659185e+20</td>\n",
              "      <td>9.321848e+11</td>\n",
              "      <td>14.058667</td>\n",
              "      <td>809.277000</td>\n",
              "      <td>2.358198e+13</td>\n",
              "      <td>275680.333333</td>\n",
              "      <td>0.319667</td>\n",
              "      <td>3.985003e+10</td>\n",
              "      <td>14.635333</td>\n",
              "      <td>100090.000000</td>\n",
              "      <td>882545.571429</td>\n",
              "      <td>...</td>\n",
              "      <td>2.454330</td>\n",
              "      <td>-14.206981</td>\n",
              "      <td>-4.780621</td>\n",
              "      <td>1.330625</td>\n",
              "      <td>-3.541745</td>\n",
              "      <td>33.627406</td>\n",
              "      <td>-6.673808</td>\n",
              "      <td>62.746962</td>\n",
              "      <td>27.856474</td>\n",
              "      <td>-41.164540</td>\n",
              "      <td>96.025558</td>\n",
              "      <td>12.250949</td>\n",
              "      <td>-6.542228</td>\n",
              "      <td>21.637664</td>\n",
              "      <td>-36.773054</td>\n",
              "      <td>7.849895</td>\n",
              "      <td>-17.914364</td>\n",
              "      <td>-11.076923</td>\n",
              "      <td>-9.258258</td>\n",
              "      <td>2.884750</td>\n",
              "      <td>-40.947079</td>\n",
              "      <td>-6.058152</td>\n",
              "      <td>1.466220</td>\n",
              "      <td>-0.709703</td>\n",
              "      <td>12.969779</td>\n",
              "      <td>48.869769</td>\n",
              "      <td>120.524379</td>\n",
              "      <td>35.094802</td>\n",
              "      <td>-40.605844</td>\n",
              "      <td>109.926299</td>\n",
              "      <td>19.641494</td>\n",
              "      <td>49.519322</td>\n",
              "      <td>67.167223</td>\n",
              "      <td>-22.058485</td>\n",
              "      <td>13.246794</td>\n",
              "      <td>-22.029246</td>\n",
              "      <td>27.312775</td>\n",
              "      <td>84.727332</td>\n",
              "      <td>7.909231</td>\n",
              "      <td>27.431547</td>\n",
              "    </tr>\n",
              "    <tr>\n",
              "      <th>2431</th>\n",
              "      <td>2021-04-26</td>\n",
              "      <td>791356.0</td>\n",
              "      <td>893442.0</td>\n",
              "      <td>12.632</td>\n",
              "      <td>19.065</td>\n",
              "      <td>53000.000</td>\n",
              "      <td>36.9570</td>\n",
              "      <td>474291.0</td>\n",
              "      <td>365921.0</td>\n",
              "      <td>278.568</td>\n",
              "      <td>1.582209e+20</td>\n",
              "      <td>9.906756e+11</td>\n",
              "      <td>17.2670</td>\n",
              "      <td>1230.000</td>\n",
              "      <td>2.358198e+13</td>\n",
              "      <td>240573.0</td>\n",
              "      <td>0.295</td>\n",
              "      <td>5.094032e+10</td>\n",
              "      <td>14.685</td>\n",
              "      <td>110552.0</td>\n",
              "      <td>850734.000000</td>\n",
              "      <td>886039.000000</td>\n",
              "      <td>10.925333</td>\n",
              "      <td>15.468333</td>\n",
              "      <td>50911.333333</td>\n",
              "      <td>29.984333</td>\n",
              "      <td>362479.333333</td>\n",
              "      <td>366605.666667</td>\n",
              "      <td>278.568000</td>\n",
              "      <td>1.639767e+20</td>\n",
              "      <td>9.515974e+11</td>\n",
              "      <td>12.948667</td>\n",
              "      <td>844.943667</td>\n",
              "      <td>2.358198e+13</td>\n",
              "      <td>257339.333333</td>\n",
              "      <td>0.305000</td>\n",
              "      <td>3.696421e+10</td>\n",
              "      <td>14.663333</td>\n",
              "      <td>92619.666667</td>\n",
              "      <td>888309.285714</td>\n",
              "      <td>...</td>\n",
              "      <td>2.064220</td>\n",
              "      <td>-16.360005</td>\n",
              "      <td>-20.957591</td>\n",
              "      <td>-0.618906</td>\n",
              "      <td>39.472231</td>\n",
              "      <td>203.244791</td>\n",
              "      <td>-3.942003</td>\n",
              "      <td>189.608965</td>\n",
              "      <td>100.810795</td>\n",
              "      <td>-25.632161</td>\n",
              "      <td>116.573761</td>\n",
              "      <td>-5.407786</td>\n",
              "      <td>-3.809688</td>\n",
              "      <td>219.404366</td>\n",
              "      <td>58.631692</td>\n",
              "      <td>7.849895</td>\n",
              "      <td>-16.496703</td>\n",
              "      <td>-15.714286</td>\n",
              "      <td>150.612643</td>\n",
              "      <td>2.792944</td>\n",
              "      <td>4.067551</td>\n",
              "      <td>-22.505122</td>\n",
              "      <td>1.742663</td>\n",
              "      <td>41.234347</td>\n",
              "      <td>153.591381</td>\n",
              "      <td>65.361455</td>\n",
              "      <td>374.964657</td>\n",
              "      <td>192.654799</td>\n",
              "      <td>-34.890081</td>\n",
              "      <td>117.036096</td>\n",
              "      <td>-1.846424</td>\n",
              "      <td>66.077560</td>\n",
              "      <td>316.373282</td>\n",
              "      <td>90.204617</td>\n",
              "      <td>13.246794</td>\n",
              "      <td>-28.565447</td>\n",
              "      <td>36.574074</td>\n",
              "      <td>217.097924</td>\n",
              "      <td>7.511531</td>\n",
              "      <td>98.022498</td>\n",
              "    </tr>\n",
              "    <tr>\n",
              "      <th>2432</th>\n",
              "      <td>2021-04-27</td>\n",
              "      <td>969613.0</td>\n",
              "      <td>883378.0</td>\n",
              "      <td>10.141</td>\n",
              "      <td>15.467</td>\n",
              "      <td>54583.000</td>\n",
              "      <td>29.7320</td>\n",
              "      <td>419084.0</td>\n",
              "      <td>314676.0</td>\n",
              "      <td>278.568</td>\n",
              "      <td>1.527917e+20</td>\n",
              "      <td>1.020304e+12</td>\n",
              "      <td>14.2190</td>\n",
              "      <td>971.659</td>\n",
              "      <td>2.358198e+13</td>\n",
              "      <td>297967.0</td>\n",
              "      <td>0.375</td>\n",
              "      <td>6.684934e+10</td>\n",
              "      <td>14.719</td>\n",
              "      <td>102971.0</td>\n",
              "      <td>870028.000000</td>\n",
              "      <td>886984.000000</td>\n",
              "      <td>10.995333</td>\n",
              "      <td>15.398333</td>\n",
              "      <td>52413.333333</td>\n",
              "      <td>30.220000</td>\n",
              "      <td>410225.666667</td>\n",
              "      <td>336031.333333</td>\n",
              "      <td>278.568000</td>\n",
              "      <td>1.607369e+20</td>\n",
              "      <td>9.797116e+11</td>\n",
              "      <td>13.501000</td>\n",
              "      <td>950.544000</td>\n",
              "      <td>2.358198e+13</td>\n",
              "      <td>259813.333333</td>\n",
              "      <td>0.319667</td>\n",
              "      <td>4.891300e+10</td>\n",
              "      <td>14.699333</td>\n",
              "      <td>98260.333333</td>\n",
              "      <td>888945.285714</td>\n",
              "      <td>...</td>\n",
              "      <td>2.144344</td>\n",
              "      <td>-39.821049</td>\n",
              "      <td>4.784738</td>\n",
              "      <td>0.769996</td>\n",
              "      <td>11.968643</td>\n",
              "      <td>180.300834</td>\n",
              "      <td>-2.242321</td>\n",
              "      <td>128.093594</td>\n",
              "      <td>102.499082</td>\n",
              "      <td>-24.772292</td>\n",
              "      <td>124.582789</td>\n",
              "      <td>-11.757279</td>\n",
              "      <td>-2.108785</td>\n",
              "      <td>170.992948</td>\n",
              "      <td>28.573602</td>\n",
              "      <td>7.849895</td>\n",
              "      <td>19.932299</td>\n",
              "      <td>10.619469</td>\n",
              "      <td>270.958685</td>\n",
              "      <td>3.067012</td>\n",
              "      <td>19.233219</td>\n",
              "      <td>8.328902</td>\n",
              "      <td>-2.129409</td>\n",
              "      <td>0.000000</td>\n",
              "      <td>80.583771</td>\n",
              "      <td>75.097039</td>\n",
              "      <td>271.232364</td>\n",
              "      <td>117.998148</td>\n",
              "      <td>-44.769654</td>\n",
              "      <td>101.383678</td>\n",
              "      <td>3.876802</td>\n",
              "      <td>75.856061</td>\n",
              "      <td>226.123853</td>\n",
              "      <td>32.818141</td>\n",
              "      <td>13.246794</td>\n",
              "      <td>-7.867389</td>\n",
              "      <td>82.038835</td>\n",
              "      <td>224.862804</td>\n",
              "      <td>8.212028</td>\n",
              "      <td>69.773462</td>\n",
              "    </tr>\n",
              "  </tbody>\n",
              "</table>\n",
              "<p>2433 rows × 780 columns</p>\n",
              "</div>"
            ],
            "text/plain": [
              "           Dates  #Active_Adresses  ...  Top100_roc90  Tweets_roc90\n",
              "0     2014-08-30          150886.0  ...      0.737374     47.132073\n",
              "1     2014-08-31          177973.0  ...      0.732582      4.863944\n",
              "2     2014-09-01          169807.0  ...      0.368371      4.496584\n",
              "3     2014-09-02          163408.0  ...      0.206445     27.157135\n",
              "4     2014-09-03          153695.0  ...      0.110642     18.207088\n",
              "...          ...               ...  ...           ...           ...\n",
              "2428  2021-04-23          931624.0  ...      7.796235    151.814325\n",
              "2429  2021-04-24          911731.0  ...      7.655467     68.779789\n",
              "2430  2021-04-25          849115.0  ...      7.909231     27.431547\n",
              "2431  2021-04-26          791356.0  ...      7.511531     98.022498\n",
              "2432  2021-04-27          969613.0  ...      8.212028     69.773462\n",
              "\n",
              "[2433 rows x 780 columns]"
            ]
          },
          "metadata": {
            "tags": []
          },
          "execution_count": 3
        }
      ]
    },
    {
      "cell_type": "markdown",
      "metadata": {
        "id": "ix2qXtbTIyf2"
      },
      "source": [
        "# Analyse des indicateurs obtenus par RF"
      ]
    },
    {
      "cell_type": "code",
      "metadata": {
        "id": "kYl8AbWsNvpX",
        "outputId": "d0c3a3dc-f95f-42c4-d5e0-829586c7ff01",
        "colab": {
          "base_uri": "https://localhost:8080/"
        }
      },
      "source": [
        "!rm *.zip\n",
        "!wget --no-check-certificate --content-disposition \"https://github.com/AlexandreBourrieau/ML/blob/main/Carnets%20Jupyter/S%C3%A9ries%20temporelles/Bitcoin/Bitcoin_X_one.zip?raw=true\"\n",
        "!wget --no-check-certificate --content-disposition \"https://github.com/AlexandreBourrieau/ML/blob/main/Carnets%20Jupyter/S%C3%A9ries%20temporelles/Bitcoin/Bitcoin_Y_one.zip?raw=true\"\n",
        "!unzip \"Bitcoin_X_one.zip\"\n",
        "!unzip \"Bitcoin_Y_one.zip\""
      ],
      "execution_count": 4,
      "outputs": [
        {
          "output_type": "stream",
          "text": [
            "--2021-05-07 08:48:11--  https://github.com/AlexandreBourrieau/ML/blob/main/Carnets%20Jupyter/S%C3%A9ries%20temporelles/Bitcoin/Bitcoin_X_one.zip?raw=true\n",
            "Resolving github.com (github.com)... 140.82.113.3\n",
            "Connecting to github.com (github.com)|140.82.113.3|:443... connected.\n",
            "HTTP request sent, awaiting response... 302 Found\n",
            "Location: https://github.com/AlexandreBourrieau/ML/raw/main/Carnets%20Jupyter/S%C3%A9ries%20temporelles/Bitcoin/Bitcoin_X_one.zip [following]\n",
            "--2021-05-07 08:48:11--  https://github.com/AlexandreBourrieau/ML/raw/main/Carnets%20Jupyter/S%C3%A9ries%20temporelles/Bitcoin/Bitcoin_X_one.zip\n",
            "Reusing existing connection to github.com:443.\n",
            "HTTP request sent, awaiting response... 302 Found\n",
            "Location: https://raw.githubusercontent.com/AlexandreBourrieau/ML/main/Carnets%20Jupyter/S%C3%A9ries%20temporelles/Bitcoin/Bitcoin_X_one.zip [following]\n",
            "--2021-05-07 08:48:11--  https://raw.githubusercontent.com/AlexandreBourrieau/ML/main/Carnets%20Jupyter/S%C3%A9ries%20temporelles/Bitcoin/Bitcoin_X_one.zip\n",
            "Resolving raw.githubusercontent.com (raw.githubusercontent.com)... 185.199.111.133, 185.199.108.133, 185.199.110.133, ...\n",
            "Connecting to raw.githubusercontent.com (raw.githubusercontent.com)|185.199.111.133|:443... connected.\n",
            "HTTP request sent, awaiting response... 200 OK\n",
            "Length: 16003526 (15M) [application/zip]\n",
            "Saving to: ‘Bitcoin_X_one.zip’\n",
            "\n",
            "Bitcoin_X_one.zip   100%[===================>]  15.26M  --.-KB/s    in 0.07s   \n",
            "\n",
            "2021-05-07 08:48:11 (205 MB/s) - ‘Bitcoin_X_one.zip’ saved [16003526/16003526]\n",
            "\n",
            "--2021-05-07 08:48:11--  https://github.com/AlexandreBourrieau/ML/blob/main/Carnets%20Jupyter/S%C3%A9ries%20temporelles/Bitcoin/Bitcoin_Y_one.zip?raw=true\n",
            "Resolving github.com (github.com)... 140.82.113.3\n",
            "Connecting to github.com (github.com)|140.82.113.3|:443... connected.\n",
            "HTTP request sent, awaiting response... 302 Found\n",
            "Location: https://github.com/AlexandreBourrieau/ML/raw/main/Carnets%20Jupyter/S%C3%A9ries%20temporelles/Bitcoin/Bitcoin_Y_one.zip [following]\n",
            "--2021-05-07 08:48:11--  https://github.com/AlexandreBourrieau/ML/raw/main/Carnets%20Jupyter/S%C3%A9ries%20temporelles/Bitcoin/Bitcoin_Y_one.zip\n",
            "Reusing existing connection to github.com:443.\n",
            "HTTP request sent, awaiting response... 302 Found\n",
            "Location: https://raw.githubusercontent.com/AlexandreBourrieau/ML/main/Carnets%20Jupyter/S%C3%A9ries%20temporelles/Bitcoin/Bitcoin_Y_one.zip [following]\n",
            "--2021-05-07 08:48:11--  https://raw.githubusercontent.com/AlexandreBourrieau/ML/main/Carnets%20Jupyter/S%C3%A9ries%20temporelles/Bitcoin/Bitcoin_Y_one.zip\n",
            "Resolving raw.githubusercontent.com (raw.githubusercontent.com)... 185.199.111.133, 185.199.109.133, 185.199.108.133, ...\n",
            "Connecting to raw.githubusercontent.com (raw.githubusercontent.com)|185.199.111.133|:443... connected.\n",
            "HTTP request sent, awaiting response... 200 OK\n",
            "Length: 13004 (13K) [application/zip]\n",
            "Saving to: ‘Bitcoin_Y_one.zip’\n",
            "\n",
            "Bitcoin_Y_one.zip   100%[===================>]  12.70K  --.-KB/s    in 0s      \n",
            "\n",
            "2021-05-07 08:48:11 (77.6 MB/s) - ‘Bitcoin_Y_one.zip’ saved [13004/13004]\n",
            "\n",
            "Archive:  Bitcoin_X_one.zip\n",
            "  inflating: Bitcoin_X_one.csv       \n",
            "Archive:  Bitcoin_Y_one.zip\n",
            "  inflating: Bitcoin_Y_one.csv       \n"
          ],
          "name": "stdout"
        }
      ]
    },
    {
      "cell_type": "code",
      "metadata": {
        "id": "4xK_Uv9XOJsN"
      },
      "source": [
        "df_X_one = pd.read_csv(\"Bitcoin_X_one.csv\").iloc[:,1:]\n",
        "df_Y_one = pd.read_csv(\"Bitcoin_Y_one.csv\")['Price']"
      ],
      "execution_count": 5,
      "outputs": []
    },
    {
      "cell_type": "markdown",
      "metadata": {
        "id": "cuzTUfEfQ8RU"
      },
      "source": [
        "**1. Cross-Validation sur les variables retenues**"
      ]
    },
    {
      "cell_type": "markdown",
      "metadata": {
        "id": "6bEv2NxbJJ4Z"
      },
      "source": [
        "Comparons les résultats obtenus par régression avec les variables retenues  :"
      ]
    },
    {
      "cell_type": "code",
      "metadata": {
        "id": "6lKZd_JfJLZ1"
      },
      "source": [
        "var_thres = [593,671,386,82,367,485,10,101,63,196,177,612,599,618,308,656,124,314,476,637,675,67,631,175,333,493,143,162,48,365,371,61,29,118,194,139,669,99,352,95,346,156,200,190,181,80,158,384,105,650,137,42,327,86,640,206,683,390,157,329,487,348,163,480,388,347,23,396,474,621,486,189,372,103,176,199,366,203,391,104,182,202,398,385,107,111,392,670,198,379,85,100,481,676,674,491,389,195,208,113,652,106,201,108,129,146,184,355,62,479,70,659,68,127,393,336,165,678,374,89,51,32,317,370,47,186,81,680,395,188,205,397,110,378,633,44,180,94,87,93,25,120,558,96,64,169,682,359,187,681,602,13,207,515,319,677,445,777,302,310,662,623,604,570,167,376,74,433,150,183,148,340,33,131,338,191,17,66,138,470,625,642,98,112,673,168,357,383,360,575,569,321,34,387,606,170,350,380,36,465,550,356,484,455,19,52,456,587,614,473,84,567,477,471,581,102,577,91,160,358,459,644,298,540,586,351,739,53,533,55,353,313,568,583,76,193,15,464,451,97,564,65,663,542,457,133,38,539,349,79,192,54,469,665,178,483,536,166,381,490,664,83,544,444,56,655,415,161,472,45,559,654,588,440,467,109,369,563,50,72,142,454,362,149,595,448,197,323,171,334,566,627,628,332,492,574,179,773,557,151,585,185,377,560,580,571,672,518,78,330,75,608,579,463,489,534,427,43,555,421,152,219,425,49,58,270,572,661,213,295,164,402,638,561,382,690,26,668,222,141,276,289,514,541,565,342,394,418,204,646,46,636,361,60,368,92,666,232,144]\n",
        "var_interp = [593,671,386,82,367,485,10,101,63,196,177,612,599,618,308,656,124,314,476,637,675,67,631,175,333,493,143,162,48,365,371,61,29,118,194,139,669,99,352,95,346,156,200,190,181,80,158,384,105,650,137,42,327,86,640,206,683,390,157,329,487,348,163,480,388,347,23,396,474,621,486,189,372,103,176,199,366,203,391,104,182,202,398,385,107,111,392,670,198,379,85,100,481,676,674,491,389,195,208,113,652,106,201,108,129,146,184,355,62,479,70,659,68,127,393,336,165,678,374,89,51,32,317,370,47,186,81,680,395,188,205,397,110,378,633,44,180,94,87,93,25,120,558,96,64,169,682,359,187,681,602,13,207,515,319,677,445,777,302,310,662,623,604,570,167,376,74,433,150,183,148,340,33,131,338,191,17,66,138,470,625,642,98,112,673,168,357,383,360,575,569,321,34,387,606,170,350,380,36,465,550,356,484,455,19,52,456,587,614,473]\n",
        "var_pred = [593,671,386,101,675,67,175,493,194,669,99,640,683,390,621,486,372,89,51,32,473]\n",
        "\n",
        "var_thres = np.subtract(var_thres,1).tolist()\n",
        "var_interp = np.subtract(var_interp,1).tolist()\n",
        "var_pred = np.subtract(var_pred,1).tolist()\n",
        "\n",
        "df_all = df_X_one\n",
        "df_thres = df_X_one.iloc[:,var_thres]\n",
        "df_interp = df_X_one.iloc[:,var_interp]\n",
        "df_pred = df_X_one.iloc[:,var_pred]\n",
        "\n",
        "#df_ = [df_all, df_thres, df_interp,df_pred]\n",
        "#df_ = [df_thres, df_interp,df_pred]\n",
        "#df_ = [df_interp,df_pred]\n",
        "df_ = [df_pred]\n"
      ],
      "execution_count": 6,
      "outputs": []
    },
    {
      "cell_type": "code",
      "metadata": {
        "id": "ydye47_nPcpl"
      },
      "source": [
        "df_pred"
      ],
      "execution_count": null,
      "outputs": []
    },
    {
      "cell_type": "code",
      "metadata": {
        "id": "rkivMknQMde2"
      },
      "source": [
        "from sklearn.model_selection import KFold\n",
        "from sklearn.metrics import mean_squared_error\n",
        "\n",
        "kf = KFold(n_splits=5)\n",
        "\n",
        "means = []\n",
        "\n",
        "for df in df_:\n",
        "  print(\"# Variables : %d\" %len(df.columns))\n",
        "  n_arbres = 500\n",
        "  m_try = len(df.columns)\n",
        "  clf = RandomForestRegressor(n_estimators=n_arbres, bootstrap=True, oob_score=True, max_features=m_try, n_jobs=-1)\n",
        "\n",
        "  for train_index, test_index in kf.split(df):\n",
        "    test_index = train_index\n",
        "    clf.fit(df.iloc[train_index],np.asarray(df_Y_one.iloc[train_index]))\n",
        "    y_predict = clf.predict(df.iloc[test_index])\n",
        "    mse = mean_squared_error(y_predict,df_Y_one.iloc[test_index])\n",
        "    print(mse)"
      ],
      "execution_count": null,
      "outputs": []
    },
    {
      "cell_type": "markdown",
      "metadata": {
        "id": "Hr03cDV9RCdj"
      },
      "source": [
        "**2. Cross validation sur des variables tirées au hasard**\n"
      ]
    },
    {
      "cell_type": "code",
      "metadata": {
        "id": "foEs5HhcRD8j"
      },
      "source": [
        "from sklearn.model_selection import KFold\n",
        "from sklearn.metrics import mean_squared_error\n",
        "\n",
        "kf = KFold(n_splits=5)\n",
        "\n",
        "n = 21\n",
        "n_arbres = 500\n",
        "m_try = n\n",
        "\n",
        "clf = RandomForestRegressor(n_estimators=n_arbres, bootstrap=True, oob_score=True, max_features=m_try, n_jobs=-1)\n",
        "for i in range(1,1000):\n",
        "  df_all = df_X_one\n",
        "  index = np.random.randint(0,778,n)\n",
        "  df = df_all.iloc[:,index]\n",
        "  print(\"%s\" %index)\n",
        "\n",
        "  for train_index, test_index in kf.split(df):\n",
        "    test_index = train_index\n",
        "    clf.fit(df.iloc[train_index], np.asarray(df_Y_one.iloc[train_index]))\n",
        "    y_predict = clf.predict(df.iloc[test_index])\n",
        "    mse = mean_squared_error(y_predict,df_Y_one.iloc[test_index])\n",
        "    print(mse)"
      ],
      "execution_count": null,
      "outputs": []
    },
    {
      "cell_type": "markdown",
      "metadata": {
        "id": "wCJnSWwPR-Nb"
      },
      "source": [
        "**3. Corrélation des variables retenues**"
      ]
    },
    {
      "cell_type": "code",
      "metadata": {
        "id": "7Go93TI5SIwL"
      },
      "source": [
        "corr = df_pred.corr()\n",
        "\n",
        "# Generate a mask for the upper triangle\n",
        "mask = np.triu(np.ones_like(corr, dtype=np.bool))\n",
        "\n",
        "# Set up the matplotlib figure\n",
        "f, ax = plt.subplots(figsize=(15, 8))\n",
        "\n",
        "sns.heatmap(corr,mask=mask, cmap='coolwarm',annot=True, fmt='.2f')"
      ],
      "execution_count": null,
      "outputs": []
    },
    {
      "cell_type": "markdown",
      "metadata": {
        "id": "CPAeov3Qv7pd"
      },
      "source": [
        "**4. VIF**"
      ]
    },
    {
      "cell_type": "code",
      "metadata": {
        "id": "GFxPmXpSwkGy"
      },
      "source": [
        "from statsmodels.stats.outliers_influence import variance_inflation_factor\n",
        "from statsmodels.tools.tools import add_constant\n",
        "\n",
        "#function for removing features with high vif\n",
        "def drop_high_vif(X, thresh=100):\n",
        "    cols = X.columns\n",
        "    variables = np.arange(X.shape[1])\n",
        "    dropped=True\n",
        "    while dropped:\n",
        "        dropped=False\n",
        "        c = X[cols[variables]].values\n",
        "        vif = [variance_inflation_factor(c, ix) for ix in np.arange(c.shape[1])]\n",
        "\n",
        "        maxloc = vif.index(max(vif))\n",
        "        if max(vif) > thresh:\n",
        "            print('dropping \\'' + X[cols[variables]].columns[maxloc] + '\\' at index: ' + str(maxloc))\n",
        "            variables = np.delete(variables, maxloc)\n",
        "            dropped=True\n",
        "\n",
        "    print('Remaining variables:')\n",
        "    print(X.columns[variables])\n",
        "    return X[cols[variables]]\n",
        "\n",
        "#function for listing vif values\n",
        "def vif_values(X):\n",
        "    add_constant(X)\n",
        "    df=pd.Series([variance_inflation_factor(X.values, i) for i in range(X.shape[1])], index=X.columns)\n",
        "    return df\n"
      ],
      "execution_count": null,
      "outputs": []
    },
    {
      "cell_type": "code",
      "metadata": {
        "id": "cIXThg_Zwl8L"
      },
      "source": [
        "X_reduit_VIF = drop_high_vif(df_pred,thresh=10)\n",
        "X_reduit_VIF"
      ],
      "execution_count": null,
      "outputs": []
    },
    {
      "cell_type": "code",
      "metadata": {
        "id": "ML7TrVHkw13n"
      },
      "source": [
        "corr = X_reduit_VIF.corr()\n",
        "\n",
        "# Generate a mask for the upper triangle\n",
        "mask = np.triu(np.ones_like(corr, dtype=np.bool))\n",
        "\n",
        "# Set up the matplotlib figure\n",
        "f, ax = plt.subplots(figsize=(15, 8))\n",
        "\n",
        "sns.heatmap(corr,mask=mask, cmap='coolwarm',annot=True, fmt='.2f')"
      ],
      "execution_count": null,
      "outputs": []
    },
    {
      "cell_type": "markdown",
      "metadata": {
        "id": "KKFVK01eC_Tj"
      },
      "source": [
        "# Normalisation et Quantification"
      ]
    },
    {
      "cell_type": "code",
      "metadata": {
        "id": "VlawkkUGKaH-"
      },
      "source": [
        "X_Avec_Prix = df_data\n",
        "X_Avec_Prix = X_Avec_Prix.drop(columns=['Dates', 'Price'])\n",
        "Xdrop = SimpleImputer(missing_values=np.nan,strategy='most_frequent').fit_transform(X_Avec_Prix)\n",
        "Xdrop = pd.DataFrame(Xdrop)\n",
        "Xdrop.columns = X_Avec_Prix.columns\n",
        "X_Avec_Prix = Xdrop\n",
        "X_Avec_Prix = X_Avec_Prix\n",
        "X_Avec_Prix = X_Avec_Prix.iloc[:,var_pred]\n",
        "X_Avec_Prix.insert(0,'Price',df_data['Price'])\n",
        "X_Avec_Prix = X_Avec_Prix.astype(dtype=np.float32)"
      ],
      "execution_count": 8,
      "outputs": []
    },
    {
      "cell_type": "code",
      "metadata": {
        "id": "NpEgVy8S9rHb",
        "outputId": "2923481b-3cf6-4674-8e73-975a69425a89",
        "colab": {
          "base_uri": "https://localhost:8080/",
          "height": 435
        }
      },
      "source": [
        "import pandas as pd\n",
        "from sklearn import preprocessing\n",
        "\n",
        "x = X_Avec_Prix.values #returns a numpy array\n",
        "min_max_scaler = preprocessing.MinMaxScaler()\n",
        "x_scaled = min_max_scaler.fit_transform(x)\n",
        "x_scaled = tf.math.log(1+255*tf.math.abs(x))/tf.math.log(1+255.0)\n",
        "X_Avec_Prix_norm = pd.DataFrame(x_scaled,dtype=np.float32)\n",
        "X_Avec_Prix_norm"
      ],
      "execution_count": 11,
      "outputs": [
        {
          "output_type": "execute_result",
          "data": {
            "text/html": [
              "<div>\n",
              "<style scoped>\n",
              "    .dataframe tbody tr th:only-of-type {\n",
              "        vertical-align: middle;\n",
              "    }\n",
              "\n",
              "    .dataframe tbody tr th {\n",
              "        vertical-align: top;\n",
              "    }\n",
              "\n",
              "    .dataframe thead th {\n",
              "        text-align: right;\n",
              "    }\n",
              "</style>\n",
              "<table border=\"1\" class=\"dataframe\">\n",
              "  <thead>\n",
              "    <tr style=\"text-align: right;\">\n",
              "      <th></th>\n",
              "      <th>0</th>\n",
              "      <th>1</th>\n",
              "      <th>2</th>\n",
              "      <th>3</th>\n",
              "      <th>4</th>\n",
              "      <th>5</th>\n",
              "      <th>6</th>\n",
              "      <th>7</th>\n",
              "      <th>8</th>\n",
              "      <th>9</th>\n",
              "      <th>10</th>\n",
              "      <th>11</th>\n",
              "      <th>12</th>\n",
              "      <th>13</th>\n",
              "      <th>14</th>\n",
              "      <th>15</th>\n",
              "      <th>16</th>\n",
              "      <th>17</th>\n",
              "      <th>18</th>\n",
              "      <th>19</th>\n",
              "      <th>20</th>\n",
              "      <th>21</th>\n",
              "    </tr>\n",
              "  </thead>\n",
              "  <tbody>\n",
              "    <tr>\n",
              "      <th>0</th>\n",
              "      <td>2.120977</td>\n",
              "      <td>2.121060</td>\n",
              "      <td>2.556583</td>\n",
              "      <td>2.549328</td>\n",
              "      <td>2.556695</td>\n",
              "      <td>5.100684</td>\n",
              "      <td>5.074785</td>\n",
              "      <td>2.131413</td>\n",
              "      <td>2.452339</td>\n",
              "      <td>2.149432</td>\n",
              "      <td>2.148284</td>\n",
              "      <td>2.149540</td>\n",
              "      <td>5.312967</td>\n",
              "      <td>2.781254</td>\n",
              "      <td>5.096126</td>\n",
              "      <td>5.308772</td>\n",
              "      <td>0.144217</td>\n",
              "      <td>0.478839</td>\n",
              "      <td>5.285683</td>\n",
              "      <td>5.308413</td>\n",
              "      <td>5.308413</td>\n",
              "      <td>0.677635</td>\n",
              "    </tr>\n",
              "    <tr>\n",
              "      <th>1</th>\n",
              "      <td>2.115946</td>\n",
              "      <td>2.116377</td>\n",
              "      <td>2.553877</td>\n",
              "      <td>2.548382</td>\n",
              "      <td>2.554936</td>\n",
              "      <td>5.098873</td>\n",
              "      <td>5.074569</td>\n",
              "      <td>2.130454</td>\n",
              "      <td>2.451875</td>\n",
              "      <td>2.148759</td>\n",
              "      <td>2.146327</td>\n",
              "      <td>2.149040</td>\n",
              "      <td>5.312724</td>\n",
              "      <td>2.779851</td>\n",
              "      <td>5.095481</td>\n",
              "      <td>5.308679</td>\n",
              "      <td>0.146013</td>\n",
              "      <td>0.477822</td>\n",
              "      <td>5.287153</td>\n",
              "      <td>5.308474</td>\n",
              "      <td>5.308557</td>\n",
              "      <td>0.686576</td>\n",
              "    </tr>\n",
              "    <tr>\n",
              "      <th>2</th>\n",
              "      <td>2.112439</td>\n",
              "      <td>2.112391</td>\n",
              "      <td>2.552291</td>\n",
              "      <td>2.547833</td>\n",
              "      <td>2.553580</td>\n",
              "      <td>5.096998</td>\n",
              "      <td>5.075265</td>\n",
              "      <td>2.129345</td>\n",
              "      <td>2.451641</td>\n",
              "      <td>2.148034</td>\n",
              "      <td>2.144245</td>\n",
              "      <td>2.148407</td>\n",
              "      <td>5.321265</td>\n",
              "      <td>2.779364</td>\n",
              "      <td>5.094800</td>\n",
              "      <td>5.323361</td>\n",
              "      <td>0.147286</td>\n",
              "      <td>0.476660</td>\n",
              "      <td>5.289602</td>\n",
              "      <td>5.312304</td>\n",
              "      <td>5.317366</td>\n",
              "      <td>0.690770</td>\n",
              "    </tr>\n",
              "    <tr>\n",
              "      <th>3</th>\n",
              "      <td>2.111593</td>\n",
              "      <td>2.111070</td>\n",
              "      <td>2.548805</td>\n",
              "      <td>2.546636</td>\n",
              "      <td>2.551364</td>\n",
              "      <td>5.095130</td>\n",
              "      <td>5.075668</td>\n",
              "      <td>2.128251</td>\n",
              "      <td>2.452376</td>\n",
              "      <td>2.147308</td>\n",
              "      <td>2.142187</td>\n",
              "      <td>2.147844</td>\n",
              "      <td>5.327250</td>\n",
              "      <td>2.781434</td>\n",
              "      <td>5.094109</td>\n",
              "      <td>5.330891</td>\n",
              "      <td>0.149148</td>\n",
              "      <td>0.475526</td>\n",
              "      <td>5.292018</td>\n",
              "      <td>5.316054</td>\n",
              "      <td>5.325765</td>\n",
              "      <td>0.693625</td>\n",
              "    </tr>\n",
              "    <tr>\n",
              "      <th>4</th>\n",
              "      <td>2.110920</td>\n",
              "      <td>2.110542</td>\n",
              "      <td>2.544003</td>\n",
              "      <td>2.545004</td>\n",
              "      <td>2.549185</td>\n",
              "      <td>5.093280</td>\n",
              "      <td>5.075371</td>\n",
              "      <td>2.127181</td>\n",
              "      <td>2.452822</td>\n",
              "      <td>2.146582</td>\n",
              "      <td>2.140161</td>\n",
              "      <td>2.147239</td>\n",
              "      <td>5.331397</td>\n",
              "      <td>2.782929</td>\n",
              "      <td>5.093410</td>\n",
              "      <td>5.334527</td>\n",
              "      <td>0.150663</td>\n",
              "      <td>0.474419</td>\n",
              "      <td>5.294402</td>\n",
              "      <td>5.319728</td>\n",
              "      <td>5.333664</td>\n",
              "      <td>0.695207</td>\n",
              "    </tr>\n",
              "    <tr>\n",
              "      <th>...</th>\n",
              "      <td>...</td>\n",
              "      <td>...</td>\n",
              "      <td>...</td>\n",
              "      <td>...</td>\n",
              "      <td>...</td>\n",
              "      <td>...</td>\n",
              "      <td>...</td>\n",
              "      <td>...</td>\n",
              "      <td>...</td>\n",
              "      <td>...</td>\n",
              "      <td>...</td>\n",
              "      <td>...</td>\n",
              "      <td>...</td>\n",
              "      <td>...</td>\n",
              "      <td>...</td>\n",
              "      <td>...</td>\n",
              "      <td>...</td>\n",
              "      <td>...</td>\n",
              "      <td>...</td>\n",
              "      <td>...</td>\n",
              "      <td>...</td>\n",
              "      <td>...</td>\n",
              "    </tr>\n",
              "    <tr>\n",
              "      <th>2428</th>\n",
              "      <td>2.950106</td>\n",
              "      <td>2.951475</td>\n",
              "      <td>3.308840</td>\n",
              "      <td>3.282210</td>\n",
              "      <td>3.272884</td>\n",
              "      <td>6.009983</td>\n",
              "      <td>5.998103</td>\n",
              "      <td>2.974168</td>\n",
              "      <td>2.875062</td>\n",
              "      <td>2.952336</td>\n",
              "      <td>2.990552</td>\n",
              "      <td>2.953997</td>\n",
              "      <td>6.552784</td>\n",
              "      <td>3.100245</td>\n",
              "      <td>5.987456</td>\n",
              "      <td>6.552274</td>\n",
              "      <td>1.287601</td>\n",
              "      <td>1.496305</td>\n",
              "      <td>6.546980</td>\n",
              "      <td>6.552138</td>\n",
              "      <td>6.552138</td>\n",
              "      <td>0.613278</td>\n",
              "    </tr>\n",
              "    <tr>\n",
              "      <th>2429</th>\n",
              "      <td>2.950777</td>\n",
              "      <td>2.949561</td>\n",
              "      <td>3.306821</td>\n",
              "      <td>3.281920</td>\n",
              "      <td>3.273443</td>\n",
              "      <td>6.008448</td>\n",
              "      <td>5.995941</td>\n",
              "      <td>2.972747</td>\n",
              "      <td>2.872783</td>\n",
              "      <td>2.952302</td>\n",
              "      <td>2.989008</td>\n",
              "      <td>2.954697</td>\n",
              "      <td>6.552735</td>\n",
              "      <td>3.097838</td>\n",
              "      <td>5.987398</td>\n",
              "      <td>6.552210</td>\n",
              "      <td>1.285657</td>\n",
              "      <td>1.496361</td>\n",
              "      <td>6.547430</td>\n",
              "      <td>6.552138</td>\n",
              "      <td>6.552138</td>\n",
              "      <td>0.622514</td>\n",
              "    </tr>\n",
              "    <tr>\n",
              "      <th>2430</th>\n",
              "      <td>2.949258</td>\n",
              "      <td>2.948576</td>\n",
              "      <td>3.306844</td>\n",
              "      <td>3.282394</td>\n",
              "      <td>3.274028</td>\n",
              "      <td>6.006871</td>\n",
              "      <td>5.993673</td>\n",
              "      <td>2.971321</td>\n",
              "      <td>2.871750</td>\n",
              "      <td>2.952236</td>\n",
              "      <td>2.987423</td>\n",
              "      <td>2.955334</td>\n",
              "      <td>6.552668</td>\n",
              "      <td>3.094994</td>\n",
              "      <td>5.987295</td>\n",
              "      <td>6.552158</td>\n",
              "      <td>1.284656</td>\n",
              "      <td>1.493619</td>\n",
              "      <td>6.547878</td>\n",
              "      <td>6.552138</td>\n",
              "      <td>6.552138</td>\n",
              "      <td>0.635450</td>\n",
              "    </tr>\n",
              "    <tr>\n",
              "      <th>2431</th>\n",
              "      <td>2.961007</td>\n",
              "      <td>2.959205</td>\n",
              "      <td>3.311216</td>\n",
              "      <td>3.284566</td>\n",
              "      <td>3.276097</td>\n",
              "      <td>6.005972</td>\n",
              "      <td>5.992068</td>\n",
              "      <td>2.970672</td>\n",
              "      <td>2.869566</td>\n",
              "      <td>2.952433</td>\n",
              "      <td>2.986516</td>\n",
              "      <td>2.956150</td>\n",
              "      <td>6.552591</td>\n",
              "      <td>3.095299</td>\n",
              "      <td>5.987421</td>\n",
              "      <td>6.552118</td>\n",
              "      <td>1.284841</td>\n",
              "      <td>1.496976</td>\n",
              "      <td>6.548326</td>\n",
              "      <td>6.552138</td>\n",
              "      <td>6.552138</td>\n",
              "      <td>0.644333</td>\n",
              "    </tr>\n",
              "    <tr>\n",
              "      <th>2432</th>\n",
              "      <td>2.966315</td>\n",
              "      <td>2.966309</td>\n",
              "      <td>3.313577</td>\n",
              "      <td>3.285989</td>\n",
              "      <td>3.277585</td>\n",
              "      <td>6.005397</td>\n",
              "      <td>5.990344</td>\n",
              "      <td>2.970395</td>\n",
              "      <td>2.867676</td>\n",
              "      <td>2.952750</td>\n",
              "      <td>2.985932</td>\n",
              "      <td>2.957057</td>\n",
              "      <td>6.552510</td>\n",
              "      <td>3.094791</td>\n",
              "      <td>5.987643</td>\n",
              "      <td>6.552090</td>\n",
              "      <td>1.283670</td>\n",
              "      <td>1.497764</td>\n",
              "      <td>6.548772</td>\n",
              "      <td>6.552138</td>\n",
              "      <td>6.552138</td>\n",
              "      <td>0.653231</td>\n",
              "    </tr>\n",
              "  </tbody>\n",
              "</table>\n",
              "<p>2433 rows × 22 columns</p>\n",
              "</div>"
            ],
            "text/plain": [
              "            0         1         2   ...        19        20        21\n",
              "0     2.120977  2.121060  2.556583  ...  5.308413  5.308413  0.677635\n",
              "1     2.115946  2.116377  2.553877  ...  5.308474  5.308557  0.686576\n",
              "2     2.112439  2.112391  2.552291  ...  5.312304  5.317366  0.690770\n",
              "3     2.111593  2.111070  2.548805  ...  5.316054  5.325765  0.693625\n",
              "4     2.110920  2.110542  2.544003  ...  5.319728  5.333664  0.695207\n",
              "...        ...       ...       ...  ...       ...       ...       ...\n",
              "2428  2.950106  2.951475  3.308840  ...  6.552138  6.552138  0.613278\n",
              "2429  2.950777  2.949561  3.306821  ...  6.552138  6.552138  0.622514\n",
              "2430  2.949258  2.948576  3.306844  ...  6.552138  6.552138  0.635450\n",
              "2431  2.961007  2.959205  3.311216  ...  6.552138  6.552138  0.644333\n",
              "2432  2.966315  2.966309  3.313577  ...  6.552138  6.552138  0.653231\n",
              "\n",
              "[2433 rows x 22 columns]"
            ]
          },
          "metadata": {
            "tags": []
          },
          "execution_count": 11
        }
      ]
    },
    {
      "cell_type": "code",
      "metadata": {
        "id": "o6Yr74IFDFxL",
        "outputId": "5b686b00-728b-478e-d69e-1a3a73284638",
        "colab": {
          "base_uri": "https://localhost:8080/"
        }
      },
      "source": [
        "X_Avec_Prix_quant16bits = pd.DataFrame()\n",
        "\n",
        "for colonne in X_Avec_Prix:\n",
        "  data_quant = tf.quantization.quantize(X_Avec_Prix[colonne],X_Avec_Prix[colonne].min(),X_Avec_Prix[colonne].max(),tf.quint8)\n",
        "  X_Avec_Prix_quant16bits[colonne] = np.array(data_quant.output)"
      ],
      "execution_count": 12,
      "outputs": [
        {
          "output_type": "stream",
          "text": [
            "WARNING:tensorflow:From /usr/local/lib/python3.7/dist-packages/tensorflow/python/util/dispatch.py:201: quantize_v2 (from tensorflow.python.ops.array_ops) is deprecated and will be removed after 2017-10-25.\n",
            "Instructions for updating:\n",
            "`tf.quantize_v2` is deprecated, please use `tf.quantization.quantize` instead.\n"
          ],
          "name": "stdout"
        }
      ]
    },
    {
      "cell_type": "code",
      "metadata": {
        "id": "0KMc6OuHJ6bP",
        "outputId": "df7ed7a7-a39c-436c-8faa-ccfc28495e0a",
        "colab": {
          "base_uri": "https://localhost:8080/",
          "height": 470
        }
      },
      "source": [
        "X_Avec_Prix_quant16bits"
      ],
      "execution_count": 13,
      "outputs": [
        {
          "output_type": "execute_result",
          "data": {
            "text/html": [
              "<div>\n",
              "<style scoped>\n",
              "    .dataframe tbody tr th:only-of-type {\n",
              "        vertical-align: middle;\n",
              "    }\n",
              "\n",
              "    .dataframe tbody tr th {\n",
              "        vertical-align: top;\n",
              "    }\n",
              "\n",
              "    .dataframe thead th {\n",
              "        text-align: right;\n",
              "    }\n",
              "</style>\n",
              "<table border=\"1\" class=\"dataframe\">\n",
              "  <thead>\n",
              "    <tr style=\"text-align: right;\">\n",
              "      <th></th>\n",
              "      <th>Price</th>\n",
              "      <th>Price_trix3</th>\n",
              "      <th>Transaction Value_trix90</th>\n",
              "      <th>Transaction Value_wma90</th>\n",
              "      <th>Transaction Value_sma90</th>\n",
              "      <th>Capitalization_trix90</th>\n",
              "      <th>Capitalization_sma14</th>\n",
              "      <th>Price_ema30</th>\n",
              "      <th>Tweets_std90</th>\n",
              "      <th>Price_ema90</th>\n",
              "      <th>Price_trix90</th>\n",
              "      <th>Price_sma90</th>\n",
              "      <th>Difficulty_trix14</th>\n",
              "      <th>Tweets_trix90</th>\n",
              "      <th>Capitalization_wma90</th>\n",
              "      <th>Difficulty_trix7</th>\n",
              "      <th>Median Transaction Fee_std90</th>\n",
              "      <th>Median Transaction Fee_wma30</th>\n",
              "      <th>Difficulty_sma30</th>\n",
              "      <th>Difficulty_sma7</th>\n",
              "      <th>Difficulty_sma3</th>\n",
              "      <th>Top100_std30</th>\n",
              "    </tr>\n",
              "  </thead>\n",
              "  <tbody>\n",
              "    <tr>\n",
              "      <th>0</th>\n",
              "      <td>2</td>\n",
              "      <td>2</td>\n",
              "      <td>4</td>\n",
              "      <td>4</td>\n",
              "      <td>5</td>\n",
              "      <td>2</td>\n",
              "      <td>1</td>\n",
              "      <td>2</td>\n",
              "      <td>22</td>\n",
              "      <td>3</td>\n",
              "      <td>2</td>\n",
              "      <td>3</td>\n",
              "      <td>0</td>\n",
              "      <td>40</td>\n",
              "      <td>2</td>\n",
              "      <td>0</td>\n",
              "      <td>0</td>\n",
              "      <td>1</td>\n",
              "      <td>0</td>\n",
              "      <td>0</td>\n",
              "      <td>0</td>\n",
              "      <td>27</td>\n",
              "    </tr>\n",
              "    <tr>\n",
              "      <th>1</th>\n",
              "      <td>2</td>\n",
              "      <td>2</td>\n",
              "      <td>4</td>\n",
              "      <td>4</td>\n",
              "      <td>5</td>\n",
              "      <td>2</td>\n",
              "      <td>1</td>\n",
              "      <td>2</td>\n",
              "      <td>22</td>\n",
              "      <td>3</td>\n",
              "      <td>2</td>\n",
              "      <td>3</td>\n",
              "      <td>0</td>\n",
              "      <td>40</td>\n",
              "      <td>2</td>\n",
              "      <td>0</td>\n",
              "      <td>0</td>\n",
              "      <td>1</td>\n",
              "      <td>0</td>\n",
              "      <td>0</td>\n",
              "      <td>0</td>\n",
              "      <td>28</td>\n",
              "    </tr>\n",
              "    <tr>\n",
              "      <th>2</th>\n",
              "      <td>2</td>\n",
              "      <td>2</td>\n",
              "      <td>4</td>\n",
              "      <td>4</td>\n",
              "      <td>5</td>\n",
              "      <td>2</td>\n",
              "      <td>1</td>\n",
              "      <td>2</td>\n",
              "      <td>21</td>\n",
              "      <td>3</td>\n",
              "      <td>2</td>\n",
              "      <td>3</td>\n",
              "      <td>0</td>\n",
              "      <td>40</td>\n",
              "      <td>2</td>\n",
              "      <td>0</td>\n",
              "      <td>0</td>\n",
              "      <td>1</td>\n",
              "      <td>0</td>\n",
              "      <td>0</td>\n",
              "      <td>0</td>\n",
              "      <td>29</td>\n",
              "    </tr>\n",
              "    <tr>\n",
              "      <th>3</th>\n",
              "      <td>2</td>\n",
              "      <td>2</td>\n",
              "      <td>4</td>\n",
              "      <td>4</td>\n",
              "      <td>5</td>\n",
              "      <td>2</td>\n",
              "      <td>1</td>\n",
              "      <td>2</td>\n",
              "      <td>22</td>\n",
              "      <td>3</td>\n",
              "      <td>2</td>\n",
              "      <td>3</td>\n",
              "      <td>0</td>\n",
              "      <td>40</td>\n",
              "      <td>2</td>\n",
              "      <td>0</td>\n",
              "      <td>0</td>\n",
              "      <td>1</td>\n",
              "      <td>0</td>\n",
              "      <td>0</td>\n",
              "      <td>0</td>\n",
              "      <td>30</td>\n",
              "    </tr>\n",
              "    <tr>\n",
              "      <th>4</th>\n",
              "      <td>2</td>\n",
              "      <td>2</td>\n",
              "      <td>4</td>\n",
              "      <td>4</td>\n",
              "      <td>4</td>\n",
              "      <td>2</td>\n",
              "      <td>1</td>\n",
              "      <td>2</td>\n",
              "      <td>22</td>\n",
              "      <td>3</td>\n",
              "      <td>2</td>\n",
              "      <td>3</td>\n",
              "      <td>0</td>\n",
              "      <td>41</td>\n",
              "      <td>2</td>\n",
              "      <td>0</td>\n",
              "      <td>0</td>\n",
              "      <td>1</td>\n",
              "      <td>0</td>\n",
              "      <td>0</td>\n",
              "      <td>0</td>\n",
              "      <td>30</td>\n",
              "    </tr>\n",
              "    <tr>\n",
              "      <th>...</th>\n",
              "      <td>...</td>\n",
              "      <td>...</td>\n",
              "      <td>...</td>\n",
              "      <td>...</td>\n",
              "      <td>...</td>\n",
              "      <td>...</td>\n",
              "      <td>...</td>\n",
              "      <td>...</td>\n",
              "      <td>...</td>\n",
              "      <td>...</td>\n",
              "      <td>...</td>\n",
              "      <td>...</td>\n",
              "      <td>...</td>\n",
              "      <td>...</td>\n",
              "      <td>...</td>\n",
              "      <td>...</td>\n",
              "      <td>...</td>\n",
              "      <td>...</td>\n",
              "      <td>...</td>\n",
              "      <td>...</td>\n",
              "      <td>...</td>\n",
              "      <td>...</td>\n",
              "    </tr>\n",
              "    <tr>\n",
              "      <th>2428</th>\n",
              "      <td>201</td>\n",
              "      <td>202</td>\n",
              "      <td>248</td>\n",
              "      <td>250</td>\n",
              "      <td>248</td>\n",
              "      <td>249</td>\n",
              "      <td>249</td>\n",
              "      <td>249</td>\n",
              "      <td>225</td>\n",
              "      <td>254</td>\n",
              "      <td>248</td>\n",
              "      <td>251</td>\n",
              "      <td>255</td>\n",
              "      <td>235</td>\n",
              "      <td>255</td>\n",
              "      <td>255</td>\n",
              "      <td>140</td>\n",
              "      <td>195</td>\n",
              "      <td>252</td>\n",
              "      <td>255</td>\n",
              "      <td>255</td>\n",
              "      <td>19</td>\n",
              "    </tr>\n",
              "    <tr>\n",
              "      <th>2429</th>\n",
              "      <td>201</td>\n",
              "      <td>200</td>\n",
              "      <td>246</td>\n",
              "      <td>249</td>\n",
              "      <td>249</td>\n",
              "      <td>246</td>\n",
              "      <td>246</td>\n",
              "      <td>247</td>\n",
              "      <td>222</td>\n",
              "      <td>254</td>\n",
              "      <td>246</td>\n",
              "      <td>252</td>\n",
              "      <td>255</td>\n",
              "      <td>232</td>\n",
              "      <td>255</td>\n",
              "      <td>255</td>\n",
              "      <td>138</td>\n",
              "      <td>195</td>\n",
              "      <td>253</td>\n",
              "      <td>255</td>\n",
              "      <td>255</td>\n",
              "      <td>20</td>\n",
              "    </tr>\n",
              "    <tr>\n",
              "      <th>2430</th>\n",
              "      <td>200</td>\n",
              "      <td>199</td>\n",
              "      <td>246</td>\n",
              "      <td>250</td>\n",
              "      <td>250</td>\n",
              "      <td>244</td>\n",
              "      <td>243</td>\n",
              "      <td>245</td>\n",
              "      <td>221</td>\n",
              "      <td>254</td>\n",
              "      <td>244</td>\n",
              "      <td>253</td>\n",
              "      <td>255</td>\n",
              "      <td>229</td>\n",
              "      <td>255</td>\n",
              "      <td>255</td>\n",
              "      <td>137</td>\n",
              "      <td>192</td>\n",
              "      <td>254</td>\n",
              "      <td>255</td>\n",
              "      <td>255</td>\n",
              "      <td>21</td>\n",
              "    </tr>\n",
              "    <tr>\n",
              "      <th>2431</th>\n",
              "      <td>213</td>\n",
              "      <td>211</td>\n",
              "      <td>252</td>\n",
              "      <td>253</td>\n",
              "      <td>253</td>\n",
              "      <td>243</td>\n",
              "      <td>241</td>\n",
              "      <td>244</td>\n",
              "      <td>218</td>\n",
              "      <td>255</td>\n",
              "      <td>243</td>\n",
              "      <td>254</td>\n",
              "      <td>255</td>\n",
              "      <td>229</td>\n",
              "      <td>255</td>\n",
              "      <td>255</td>\n",
              "      <td>137</td>\n",
              "      <td>196</td>\n",
              "      <td>254</td>\n",
              "      <td>255</td>\n",
              "      <td>255</td>\n",
              "      <td>22</td>\n",
              "    </tr>\n",
              "    <tr>\n",
              "      <th>2432</th>\n",
              "      <td>219</td>\n",
              "      <td>219</td>\n",
              "      <td>255</td>\n",
              "      <td>255</td>\n",
              "      <td>255</td>\n",
              "      <td>242</td>\n",
              "      <td>239</td>\n",
              "      <td>244</td>\n",
              "      <td>216</td>\n",
              "      <td>255</td>\n",
              "      <td>242</td>\n",
              "      <td>255</td>\n",
              "      <td>255</td>\n",
              "      <td>228</td>\n",
              "      <td>255</td>\n",
              "      <td>255</td>\n",
              "      <td>137</td>\n",
              "      <td>197</td>\n",
              "      <td>255</td>\n",
              "      <td>255</td>\n",
              "      <td>255</td>\n",
              "      <td>24</td>\n",
              "    </tr>\n",
              "  </tbody>\n",
              "</table>\n",
              "<p>2433 rows × 22 columns</p>\n",
              "</div>"
            ],
            "text/plain": [
              "      Price  Price_trix3  ...  Difficulty_sma3  Top100_std30\n",
              "0         2            2  ...                0            27\n",
              "1         2            2  ...                0            28\n",
              "2         2            2  ...                0            29\n",
              "3         2            2  ...                0            30\n",
              "4         2            2  ...                0            30\n",
              "...     ...          ...  ...              ...           ...\n",
              "2428    201          202  ...              255            19\n",
              "2429    201          200  ...              255            20\n",
              "2430    200          199  ...              255            21\n",
              "2431    213          211  ...              255            22\n",
              "2432    219          219  ...              255            24\n",
              "\n",
              "[2433 rows x 22 columns]"
            ]
          },
          "metadata": {
            "tags": []
          },
          "execution_count": 13
        }
      ]
    },
    {
      "cell_type": "markdown",
      "metadata": {
        "id": "Eah20FyiTJ7c"
      },
      "source": [
        "**1. Séparation des données en données pour l'entrainement et la validation**"
      ]
    },
    {
      "cell_type": "markdown",
      "metadata": {
        "id": "nnhC-39gTJ7d"
      },
      "source": [
        "On réserve 20% des données pour l'entrainement et le reste pour la validation :"
      ]
    },
    {
      "cell_type": "code",
      "metadata": {
        "id": "mwXIe8_ETJ7d",
        "outputId": "59efe1ad-40ba-44a4-e67b-ce68e2d40dd4",
        "colab": {
          "base_uri": "https://localhost:8080/"
        }
      },
      "source": [
        "# Sépare les données en entrainement et tests\n",
        "pourcentage = 0.8\n",
        "temps_separation = int(len(X_Avec_Prix_quant16bits) * pourcentage)\n",
        "date_separation = X_Avec_Prix_quant16bits.index[temps_separation]\n",
        "\n",
        "serie_entrainement_X = []\n",
        "serie_test_X = []\n",
        "\n",
        "for column in X_Avec_Prix_quant16bits:\n",
        "  serie_entrainement_X.append(np.array(X_Avec_Prix_quant16bits[column][:temps_separation],dtype=np.uint16))\n",
        "  serie_test_X.append(np.array(X_Avec_Prix_quant16bits[column][temps_separation:],dtype=np.uint16))\n",
        "\n",
        "print(\"Taille de l'entrainement : %d\" %len(serie_entrainement_X[0]))\n",
        "print(\"Taille de la validation : %d\" %len(serie_test_X[0]))"
      ],
      "execution_count": 51,
      "outputs": [
        {
          "output_type": "stream",
          "text": [
            "Taille de l'entrainement : 1946\n",
            "Taille de la validation : 487\n"
          ],
          "name": "stdout"
        }
      ]
    },
    {
      "cell_type": "code",
      "metadata": {
        "id": "F8g7cFxmTJ76"
      },
      "source": [
        "# Affiche la série X\n",
        "fig, ax = plt.subplots(constrained_layout=True, figsize=(15,5))\n",
        "\n",
        "for i in range(0,len(X_Avec_Prix_quant16bits.columns)):\n",
        "  ax.plot(X_Avec_Prix_quant16bits.index[:temps_separation].values,serie_entrainement_X[i], label=\"X_Ent\")\n",
        "  ax.plot(X_Avec_Prix_quant16bits.index[temps_separation:].values,serie_test_X[i], label=\"X_Val\")\n",
        "\n",
        "ax.legend()\n",
        "plt.show()"
      ],
      "execution_count": null,
      "outputs": []
    },
    {
      "cell_type": "markdown",
      "metadata": {
        "id": "wr9CM2ZmYNl0"
      },
      "source": [
        "# Création des datasets"
      ]
    },
    {
      "cell_type": "code",
      "metadata": {
        "id": "nK6G5AVZYNmU"
      },
      "source": [
        "# Fonction permettant de créer un dataset à partir des données de la série temporelle\n",
        "\n",
        "def prepare_dataset_XY(series, taille_fenetre, horizon, batch_size):\n",
        "  serie_concat = tf.expand_dims(series[0],1)\n",
        "\n",
        "  for i in range(1,len(series)):\n",
        "    serie_ = tf.expand_dims(series[i],1)\n",
        "    serie_concat = tf.concat([serie_concat,serie_],1)\n",
        "\n",
        "  dataset = tf.data.Dataset.from_tensor_slices(serie_concat)\n",
        "  dataset = dataset.window(taille_fenetre+horizon, shift=1, drop_remainder=True)\n",
        "  dataset = dataset.flat_map(lambda x: x.batch(taille_fenetre + horizon))\n",
        "  dataset = dataset.map(lambda x: (x[0:taille_fenetre],tf.expand_dims(x[-1:][:,0],1)))\n",
        "\n",
        "  dataset = dataset.batch(batch_size,drop_remainder=True).prefetch(1)\n",
        "  return dataset"
      ],
      "execution_count": 52,
      "outputs": []
    },
    {
      "cell_type": "code",
      "metadata": {
        "id": "OqoAHg2MYNmW"
      },
      "source": [
        "# Définition des caractéristiques du dataset que l'on souhaite créer\n",
        "taille_fenetre = 16\n",
        "horizon = 1\n",
        "batch_size = 1\n",
        "\n",
        "# Création du dataset\n",
        "dataset = prepare_dataset_XY(serie_entrainement_X,taille_fenetre,horizon,batch_size)\n",
        "dataset_val = prepare_dataset_XY(serie_test_X,taille_fenetre,horizon,batch_size)"
      ],
      "execution_count": 53,
      "outputs": []
    },
    {
      "cell_type": "code",
      "metadata": {
        "id": "USVHzg-GYNmX"
      },
      "source": [
        "print(len(list(dataset.as_numpy_iterator())))\n",
        "for element in dataset.take(1):\n",
        "  print(element[0].shape)\n",
        "  print(element[1].shape)"
      ],
      "execution_count": null,
      "outputs": []
    },
    {
      "cell_type": "code",
      "metadata": {
        "id": "OA6tsfl4YNmY"
      },
      "source": [
        "for element in dataset.take(2):\n",
        "  print(element)\n"
      ],
      "execution_count": null,
      "outputs": []
    },
    {
      "cell_type": "code",
      "metadata": {
        "id": "LXd_qQ3K5Vbz"
      },
      "source": [
        ""
      ],
      "execution_count": null,
      "outputs": []
    },
    {
      "cell_type": "markdown",
      "metadata": {
        "id": "VAwyM48zYNmZ"
      },
      "source": [
        "On extrait maintenant les deux tenseurs (X,Y) pour l'entrainement :"
      ]
    },
    {
      "cell_type": "code",
      "metadata": {
        "id": "Q87LZFryIx2b"
      },
      "source": [
        "# Extrait les X,Y du dataset\n",
        "x,y = tuple(zip(*dataset))              # #60x((32,16,22),(32,1,1)) => x = 60x(32,16,22) ; y = 60x(32,1,1)\n",
        "\n",
        "# Recombine les données\n",
        "x = np.asarray(x,dtype=np.float32)      # 60x(32,16,22) => (60,32,16,22)\n",
        "y = np.asarray(y,dtype=np.float32)      # 60x(32,1,1) => (60,32,1,1)\n",
        "\n",
        "x_train = np.asarray(tf.reshape(x,shape=(x.shape[0]*x.shape[1],taille_fenetre,x.shape[3])))     # (60,32,16,22) => (60*32,16,22)\n",
        "y_train = np.asarray(tf.reshape(y,shape=(y.shape[0]*y.shape[1],1,y.shape[3])))     # (60,32,1,1) => (60*32,1,1)"
      ],
      "execution_count": 54,
      "outputs": []
    },
    {
      "cell_type": "markdown",
      "metadata": {
        "id": "wQlnU0USYNma"
      },
      "source": [
        "Puis la même chose pour les données de validation :"
      ]
    },
    {
      "cell_type": "code",
      "metadata": {
        "id": "yBroUa5XYNma"
      },
      "source": [
        "# Extrait les X,Y du dataset\n",
        "x,y = tuple(zip(*dataset_val))              # #60x((32,16,22),(32,1,1)) => x = 60x(32,16,22) ; y = 60x(32,1,1)\n",
        "\n",
        "# Recombine les données\n",
        "x = np.asarray(x,dtype=np.float32)      # 60x(32,16,22) => (60,32,16,22)\n",
        "y = np.asarray(y,dtype=np.float32)      # 60x(32,1,1) => (60,32,1,1)\n",
        "\n",
        "x_val = np.asarray(tf.reshape(x,shape=(x.shape[0]*x.shape[1],taille_fenetre,x.shape[3])))     # (60,32,16,22) => (60*32,16,22)\n",
        "y_val = np.asarray(tf.reshape(y,shape=(y.shape[0]*y.shape[1],1,y.shape[3])))     # (60,32,1,1) => (60*32,1,1)"
      ],
      "execution_count": 60,
      "outputs": []
    },
    {
      "cell_type": "markdown",
      "metadata": {
        "id": "vVPcKZoxHBuy"
      },
      "source": [
        "**1. Avec onehot de tf**"
      ]
    },
    {
      "cell_type": "code",
      "metadata": {
        "id": "kJ1QkQ-OW798",
        "outputId": "d0b4e1db-04c8-4ee1-ed4f-15886ffb0952",
        "colab": {
          "base_uri": "https://localhost:8080/"
        }
      },
      "source": [
        "print(x_train.shape)"
      ],
      "execution_count": 59,
      "outputs": [
        {
          "output_type": "stream",
          "text": [
            "(1930, 16, 22)\n"
          ],
          "name": "stdout"
        }
      ]
    },
    {
      "cell_type": "code",
      "metadata": {
        "id": "0wa2-QtuWodl"
      },
      "source": [
        "y_train = tf.squeeze(tf.one_hot(y_train,256),1)\n",
        "y_val = tf.squeeze(tf.one_hot(y_val,256),1)"
      ],
      "execution_count": 61,
      "outputs": []
    },
    {
      "cell_type": "code",
      "metadata": {
        "id": "FM2z4Wdbt06B"
      },
      "source": [
        "print(y_train.shape)"
      ],
      "execution_count": null,
      "outputs": []
    },
    {
      "cell_type": "markdown",
      "metadata": {
        "id": "dkOEVhylHGTE"
      },
      "source": [
        "**2**"
      ]
    },
    {
      "cell_type": "code",
      "metadata": {
        "id": "t7tuSZfqHXGX"
      },
      "source": [
        "from sklearn.preprocessing import OneHotEncoder\n",
        "\n",
        "ohe = OneHotEncoder()"
      ],
      "execution_count": 57,
      "outputs": []
    },
    {
      "cell_type": "code",
      "metadata": {
        "id": "5G7j6iMqHYGE",
        "outputId": "68dd16a5-6975-4260-ce63-2597e399e3c0",
        "colab": {
          "base_uri": "https://localhost:8080/",
          "height": 329
        }
      },
      "source": [
        "ohe.fit(x_train[])"
      ],
      "execution_count": 58,
      "outputs": [
        {
          "output_type": "error",
          "ename": "ValueError",
          "evalue": "ignored",
          "traceback": [
            "\u001b[0;31m---------------------------------------------------------------------------\u001b[0m",
            "\u001b[0;31mValueError\u001b[0m                                Traceback (most recent call last)",
            "\u001b[0;32m<ipython-input-58-098da81569be>\u001b[0m in \u001b[0;36m<module>\u001b[0;34m()\u001b[0m\n\u001b[0;32m----> 1\u001b[0;31m \u001b[0mohe\u001b[0m\u001b[0;34m.\u001b[0m\u001b[0mfit\u001b[0m\u001b[0;34m(\u001b[0m\u001b[0mx_train\u001b[0m\u001b[0;34m)\u001b[0m\u001b[0;34m\u001b[0m\u001b[0;34m\u001b[0m\u001b[0m\n\u001b[0m",
            "\u001b[0;32m/usr/local/lib/python3.7/dist-packages/sklearn/preprocessing/_encoders.py\u001b[0m in \u001b[0;36mfit\u001b[0;34m(self, X, y)\u001b[0m\n\u001b[1;32m    345\u001b[0m         \"\"\"\n\u001b[1;32m    346\u001b[0m         \u001b[0mself\u001b[0m\u001b[0;34m.\u001b[0m\u001b[0m_validate_keywords\u001b[0m\u001b[0;34m(\u001b[0m\u001b[0;34m)\u001b[0m\u001b[0;34m\u001b[0m\u001b[0;34m\u001b[0m\u001b[0m\n\u001b[0;32m--> 347\u001b[0;31m         \u001b[0mself\u001b[0m\u001b[0;34m.\u001b[0m\u001b[0m_fit\u001b[0m\u001b[0;34m(\u001b[0m\u001b[0mX\u001b[0m\u001b[0;34m,\u001b[0m \u001b[0mhandle_unknown\u001b[0m\u001b[0;34m=\u001b[0m\u001b[0mself\u001b[0m\u001b[0;34m.\u001b[0m\u001b[0mhandle_unknown\u001b[0m\u001b[0;34m)\u001b[0m\u001b[0;34m\u001b[0m\u001b[0;34m\u001b[0m\u001b[0m\n\u001b[0m\u001b[1;32m    348\u001b[0m         \u001b[0mself\u001b[0m\u001b[0;34m.\u001b[0m\u001b[0mdrop_idx_\u001b[0m \u001b[0;34m=\u001b[0m \u001b[0mself\u001b[0m\u001b[0;34m.\u001b[0m\u001b[0m_compute_drop_idx\u001b[0m\u001b[0;34m(\u001b[0m\u001b[0;34m)\u001b[0m\u001b[0;34m\u001b[0m\u001b[0;34m\u001b[0m\u001b[0m\n\u001b[1;32m    349\u001b[0m         \u001b[0;32mreturn\u001b[0m \u001b[0mself\u001b[0m\u001b[0;34m\u001b[0m\u001b[0;34m\u001b[0m\u001b[0m\n",
            "\u001b[0;32m/usr/local/lib/python3.7/dist-packages/sklearn/preprocessing/_encoders.py\u001b[0m in \u001b[0;36m_fit\u001b[0;34m(self, X, handle_unknown)\u001b[0m\n\u001b[1;32m     72\u001b[0m \u001b[0;34m\u001b[0m\u001b[0m\n\u001b[1;32m     73\u001b[0m     \u001b[0;32mdef\u001b[0m \u001b[0m_fit\u001b[0m\u001b[0;34m(\u001b[0m\u001b[0mself\u001b[0m\u001b[0;34m,\u001b[0m \u001b[0mX\u001b[0m\u001b[0;34m,\u001b[0m \u001b[0mhandle_unknown\u001b[0m\u001b[0;34m=\u001b[0m\u001b[0;34m'error'\u001b[0m\u001b[0;34m)\u001b[0m\u001b[0;34m:\u001b[0m\u001b[0;34m\u001b[0m\u001b[0;34m\u001b[0m\u001b[0m\n\u001b[0;32m---> 74\u001b[0;31m         \u001b[0mX_list\u001b[0m\u001b[0;34m,\u001b[0m \u001b[0mn_samples\u001b[0m\u001b[0;34m,\u001b[0m \u001b[0mn_features\u001b[0m \u001b[0;34m=\u001b[0m \u001b[0mself\u001b[0m\u001b[0;34m.\u001b[0m\u001b[0m_check_X\u001b[0m\u001b[0;34m(\u001b[0m\u001b[0mX\u001b[0m\u001b[0;34m)\u001b[0m\u001b[0;34m\u001b[0m\u001b[0;34m\u001b[0m\u001b[0m\n\u001b[0m\u001b[1;32m     75\u001b[0m \u001b[0;34m\u001b[0m\u001b[0m\n\u001b[1;32m     76\u001b[0m         \u001b[0;32mif\u001b[0m \u001b[0mself\u001b[0m\u001b[0;34m.\u001b[0m\u001b[0mcategories\u001b[0m \u001b[0;34m!=\u001b[0m \u001b[0;34m'auto'\u001b[0m\u001b[0;34m:\u001b[0m\u001b[0;34m\u001b[0m\u001b[0;34m\u001b[0m\u001b[0m\n",
            "\u001b[0;32m/usr/local/lib/python3.7/dist-packages/sklearn/preprocessing/_encoders.py\u001b[0m in \u001b[0;36m_check_X\u001b[0;34m(self, X)\u001b[0m\n\u001b[1;32m     41\u001b[0m         \u001b[0;32mif\u001b[0m \u001b[0;32mnot\u001b[0m \u001b[0;34m(\u001b[0m\u001b[0mhasattr\u001b[0m\u001b[0;34m(\u001b[0m\u001b[0mX\u001b[0m\u001b[0;34m,\u001b[0m \u001b[0;34m'iloc'\u001b[0m\u001b[0;34m)\u001b[0m \u001b[0;32mand\u001b[0m \u001b[0mgetattr\u001b[0m\u001b[0;34m(\u001b[0m\u001b[0mX\u001b[0m\u001b[0;34m,\u001b[0m \u001b[0;34m'ndim'\u001b[0m\u001b[0;34m,\u001b[0m \u001b[0;36m0\u001b[0m\u001b[0;34m)\u001b[0m \u001b[0;34m==\u001b[0m \u001b[0;36m2\u001b[0m\u001b[0;34m)\u001b[0m\u001b[0;34m:\u001b[0m\u001b[0;34m\u001b[0m\u001b[0;34m\u001b[0m\u001b[0m\n\u001b[1;32m     42\u001b[0m             \u001b[0;31m# if not a dataframe, do normal check_array validation\u001b[0m\u001b[0;34m\u001b[0m\u001b[0;34m\u001b[0m\u001b[0;34m\u001b[0m\u001b[0m\n\u001b[0;32m---> 43\u001b[0;31m             \u001b[0mX_temp\u001b[0m \u001b[0;34m=\u001b[0m \u001b[0mcheck_array\u001b[0m\u001b[0;34m(\u001b[0m\u001b[0mX\u001b[0m\u001b[0;34m,\u001b[0m \u001b[0mdtype\u001b[0m\u001b[0;34m=\u001b[0m\u001b[0;32mNone\u001b[0m\u001b[0;34m)\u001b[0m\u001b[0;34m\u001b[0m\u001b[0;34m\u001b[0m\u001b[0m\n\u001b[0m\u001b[1;32m     44\u001b[0m             if (not hasattr(X, 'dtype')\n\u001b[1;32m     45\u001b[0m                     and np.issubdtype(X_temp.dtype, np.str_)):\n",
            "\u001b[0;32m/usr/local/lib/python3.7/dist-packages/sklearn/utils/validation.py\u001b[0m in \u001b[0;36mcheck_array\u001b[0;34m(array, accept_sparse, accept_large_sparse, dtype, order, copy, force_all_finite, ensure_2d, allow_nd, ensure_min_samples, ensure_min_features, warn_on_dtype, estimator)\u001b[0m\n\u001b[1;32m    572\u001b[0m         \u001b[0;32mif\u001b[0m \u001b[0;32mnot\u001b[0m \u001b[0mallow_nd\u001b[0m \u001b[0;32mand\u001b[0m \u001b[0marray\u001b[0m\u001b[0;34m.\u001b[0m\u001b[0mndim\u001b[0m \u001b[0;34m>=\u001b[0m \u001b[0;36m3\u001b[0m\u001b[0;34m:\u001b[0m\u001b[0;34m\u001b[0m\u001b[0;34m\u001b[0m\u001b[0m\n\u001b[1;32m    573\u001b[0m             raise ValueError(\"Found array with dim %d. %s expected <= 2.\"\n\u001b[0;32m--> 574\u001b[0;31m                              % (array.ndim, estimator_name))\n\u001b[0m\u001b[1;32m    575\u001b[0m \u001b[0;34m\u001b[0m\u001b[0m\n\u001b[1;32m    576\u001b[0m         \u001b[0;32mif\u001b[0m \u001b[0mforce_all_finite\u001b[0m\u001b[0;34m:\u001b[0m\u001b[0;34m\u001b[0m\u001b[0;34m\u001b[0m\u001b[0m\n",
            "\u001b[0;31mValueError\u001b[0m: Found array with dim 3. Estimator expected <= 2."
          ]
        }
      ]
    },
    {
      "cell_type": "markdown",
      "metadata": {
        "id": "oVVTuw0xYXt8"
      },
      "source": [
        "# Création du modèle type Wavenet Multivarié Classification"
      ]
    },
    {
      "cell_type": "markdown",
      "metadata": {
        "id": "IB6dP-d8YXt9"
      },
      "source": [
        "**1. Création du réseau**"
      ]
    },
    {
      "cell_type": "code",
      "metadata": {
        "id": "GzpdbYrbYXt-"
      },
      "source": [
        "from keras.layers import Conv1D\n",
        "from keras.layers import Conv1D\n",
        "from keras.utils.conv_utils import conv_output_length\n",
        "from keras import layers\n",
        "from keras.regularizers import l2\n",
        "import keras.backend as K\n",
        "from keras.engine import Input\n",
        "from keras.engine import Model"
      ],
      "execution_count": 21,
      "outputs": []
    },
    {
      "cell_type": "code",
      "metadata": {
        "id": "VNMpYRuEYXt_"
      },
      "source": [
        "class CausalDilatedConv1D(Conv1D):\n",
        "    def __init__(self, nb_filter, filter_length, init='glorot_uniform', activation=None, weights=None,\n",
        "                 border_mode='valid', subsample_length=1, atrous_rate=1, W_regularizer=None, b_regularizer=None,\n",
        "                 activity_regularizer=None, W_constraint=None, b_constraint=None, bias=True, causal=False, **kwargs):\n",
        "        super(CausalDilatedConv1D, self).__init__(nb_filter, filter_length, weights=weights, activation=activation, \n",
        "                padding=border_mode, strides=subsample_length, dilation_rate=atrous_rate, kernel_regularizer=W_regularizer, \n",
        "                bias_regularizer=b_regularizer, activity_regularizer=activity_regularizer, kernel_constraint=W_constraint, \n",
        "                bias_constraint=b_constraint, use_bias=bias, **kwargs)\n",
        "        self.causal = causal\n",
        "        self.nb_filter = nb_filter\n",
        "        self.atrous_rate = atrous_rate\n",
        "        self.filter_length = filter_length\n",
        "        self.subsample_length = subsample_length\n",
        "        self.border_mode = border_mode\n",
        "        if self.causal and border_mode != 'valid':\n",
        "            raise ValueError(\"Causal mode dictates border_mode=valid.\")\n",
        "\n",
        "    def compute_output_shape(self, input_shape):\n",
        "        input_length = input_shape[1]\n",
        "        if self.causal:\n",
        "            input_length += self.atrous_rate * (self.filter_length - 1)\n",
        "        length = conv_output_length(input_length, self.filter_length, self.border_mode, self.strides[0], dilation=self.atrous_rate)\n",
        "        return (input_shape[0], length, self.nb_filter)\n",
        "\n",
        "    def call(self, x, mask=None):\n",
        "        if self.causal:\n",
        "            x = K.temporal_padding(x, padding=(self.atrous_rate * (self.filter_length - 1), 0))\n",
        "        return super(CausalDilatedConv1D, self).call(x)"
      ],
      "execution_count": 22,
      "outputs": []
    },
    {
      "cell_type": "code",
      "metadata": {
        "id": "93bV8CcwYXuA"
      },
      "source": [
        "def _compute_receptive_field(dilation_depth, stacks):\n",
        "  return stacks * (2 ** dilation_depth * 2) - (stacks - 1)"
      ],
      "execution_count": 23,
      "outputs": []
    },
    {
      "cell_type": "code",
      "metadata": {
        "id": "NAmgCh3_YXuB"
      },
      "source": [
        "def build_model_residual_block(x, i, s,nb_filters, dim_filters, use_bias,res_l2,output_bins):\n",
        "        original_x = x\n",
        "        # TODO: initalization, regularization?\n",
        "        relu_out = CausalDilatedConv1D(nb_filters, dim_filters, atrous_rate=2 ** i, border_mode='valid', causal=True, bias=True, name='dilated_conv_%d_relu_s%d' % (2 ** i, s), activation='tanh', W_regularizer=l2(res_l2))(x)\n",
        "        res_x = layers.Conv1D(1, 1, padding='same', use_bias=use_bias, kernel_regularizer=l2(res_l2))(relu_out)\n",
        "        skip_x = layers.Conv1D(1, 1, padding='same', use_bias=use_bias, kernel_regularizer=l2(res_l2))(relu_out)\n",
        "        res_x = layers.Add()([original_x, res_x])\n",
        "        return res_x, skip_x\n",
        "\n",
        "def build_model_couche_condition(x, Nbr_Inputs, output_bins, nb_filters, dim_filters, use_bias,res_l2):\n",
        "        original_x = x\n",
        "        skip_conditions = []\n",
        "\n",
        "        relu_out = CausalDilatedConv1D(nb_filters, dim_filters, atrous_rate=1, border_mode='valid', causal=True, bias=True, name='dilated_conv_%d_condition_%d_s%d' % (1,1, 0), activation='tanh',\n",
        "                                       W_regularizer=l2(res_l2))(tf.expand_dims(x[:,:,0],2))\n",
        "\n",
        "        skip_ = layers.Conv1D(1, 1, padding='same', use_bias=use_bias, kernel_regularizer=l2(res_l2))(relu_out)\n",
        "        skip_conditions.append(skip_)\n",
        "\n",
        "        for i in range(1,Nbr_Inputs-1):\n",
        "          relu_out = CausalDilatedConv1D(nb_filters, dim_filters, atrous_rate=1, border_mode='valid', causal=True, bias=True, name='dilated_conv_%d_condition_%d_s%d' % (1,i+1,0), activation='tanh',\n",
        "                                                    W_regularizer=l2(res_l2))(tf.expand_dims(x[:,:,i],2))\n",
        "\n",
        "          skip_ = layers.Conv1D(1, 1, padding='same', use_bias=use_bias, kernel_regularizer=l2(res_l2))(relu_out)\n",
        "          skip_conditions.append(skip_)\n",
        "\n",
        "        if Nbr_Inputs > 1:\n",
        "          out = layers.Add()(skip_conditions)\n",
        "        else:\n",
        "          out = skip_\n",
        "        return out\n",
        "\n",
        "\n",
        "def build_model(fragment_length, nb_filters, dim_filters, Nbr_Inputs, output_bins, dilation_depth, stacks, use_skip_connections, use_bias, res_l2, final_l2):\n",
        "        input_shape = Input(shape=(fragment_length, Nbr_Inputs), name='input_part')\n",
        "        out = input_shape\n",
        "        skip_connections = []\n",
        "\n",
        "        for s in range(stacks):\n",
        "            # Couche conditionnée\n",
        "            out = build_model_couche_condition(out, Nbr_Inputs, output_bins, nb_filters, dim_filters, use_bias, res_l2)\n",
        "\n",
        "            # Couches intermédiaires\n",
        "            for i in range(1, dilation_depth + 1):\n",
        "                out, skip_out = build_model_residual_block(out, i, s, nb_filters, dim_filters, use_bias, res_l2,output_bins)\n",
        "                skip_connections.append(skip_out)\n",
        "\n",
        "        if use_skip_connections:\n",
        "            out = layers.Add()(skip_connections)\n",
        "\n",
        "        # Couche de sortie\n",
        "        out = layers.Activation('relu')(out)\n",
        "        out = layers.Conv1D(1, 1, padding='same', kernel_regularizer=l2(final_l2))(out)\n",
        "        out = layers.Activation('relu')(out)\n",
        "        out = layers.Conv1D(output_bins, 1, padding='same')(out)\n",
        "        out = layers.Activation('relu')(out)\n",
        "        out = layers.Dense(output_bins,activation=\"softmax\")(out[:,0,:])\n",
        "\n",
        "        model = Model(input_shape,tf.expand_dims(out,1))\n",
        "        return model\n"
      ],
      "execution_count": 24,
      "outputs": []
    },
    {
      "cell_type": "markdown",
      "metadata": {
        "id": "-i75DMlNYXuD"
      },
      "source": [
        "**2. Construction du modèle**"
      ]
    },
    {
      "cell_type": "code",
      "metadata": {
        "id": "EX9vTKthYXuE"
      },
      "source": [
        "def compute_receptive_field_(dilation_depth, nb_stacks):\n",
        "    receptive_field = nb_stacks * (2 ** dilation_depth * 2) - (nb_stacks - 1)\n",
        "    return receptive_field\n",
        "\n",
        "nb_filters = 256\n",
        "dim_filters = 3\n",
        "Nbr_Inputs = 22\n",
        "output_bins = 256\n",
        "dilation_depth = 3\n",
        "nb_stacks = 1\n",
        "use_skip_connections = True\n",
        "use_bias = False\n",
        "res_l2 = 0\n",
        "final_l2 = 0\n",
        "\n",
        "fragment_length = compute_receptive_field_(dilation_depth, nb_stacks)\n",
        "fragment_length\n",
        "\n",
        "model = build_model(fragment_length, nb_filters, dim_filters, Nbr_Inputs, output_bins, dilation_depth, nb_stacks, use_skip_connections, use_bias, res_l2, final_l2)\n",
        "model.summary()"
      ],
      "execution_count": null,
      "outputs": []
    },
    {
      "cell_type": "code",
      "metadata": {
        "id": "zIJ-LmYkBEsZ"
      },
      "source": [
        "from keras.callbacks import *\n",
        "\n",
        "\n",
        "mcp_save = ModelCheckpoint('LSTM_cls_interval3.hdf5', save_best_only=True, monitor='val_loss', mode='max')\n",
        "earlyStopping = EarlyStopping(monitor='val_loss', patience=50, verbose=1, mode='max')"
      ],
      "execution_count": null,
      "outputs": []
    },
    {
      "cell_type": "code",
      "metadata": {
        "id": "tOVQPlXyBOL4"
      },
      "source": [
        "model.fit(x=x_train,y=y_train,validation_data=(x_val,y_val),epochs=5000, shuffle=False)\n"
      ],
      "execution_count": null,
      "outputs": []
    },
    {
      "cell_type": "code",
      "metadata": {
        "id": "IgGc6g4dVYJQ"
      },
      "source": [
        "model.predict(x_train)"
      ],
      "execution_count": null,
      "outputs": []
    },
    {
      "cell_type": "markdown",
      "metadata": {
        "id": "ufsIFFXvYkiW"
      },
      "source": [
        "# Entrainement du modèle"
      ]
    },
    {
      "cell_type": "markdown",
      "metadata": {
        "id": "iyEdiKMmYkiX"
      },
      "source": [
        "**1. Optimisation de l'apprentissage**"
      ]
    },
    {
      "cell_type": "markdown",
      "metadata": {
        "id": "cOFjr4yXYkiX"
      },
      "source": [
        "Pour accélérer le traitement des données, nous n'allons pas utiliser l'intégralité des données pendant la mise à jour du gradient, comme cela a été fait jusqu'à présent (en utilisant le dataset).  \n",
        "Cette fois-ci, nous allons forcer les mises à jour du gradient à se produire de manière moins fréquente en attribuant la valeur du batch_size à prendre en compte lors de la regression du modèle.  \n",
        "Pour cela, on utilise l'argument \"batch_size\" dans la méthode fit. En précisant un batch_size=1000, cela signifie que :\n",
        " - Sur notre total de 56000 échantillons, 56 seront utilisés pour les calculs du gradient\n",
        " - Il y aura également 56 itérations à chaque période.\n",
        "  \n",
        "    \n",
        "    \n",
        "Si nous avions pris le dataset comme entrée, nous aurions eu :\n",
        "- Un total de 56000 échantillons également\n",
        "- Chaque période aurait également pris 56 itérations pour se compléter\n",
        "- Mais 1000 échantillons auraient été utilisés pour le calcul du gradient, au lieu de 56 avec la méthode utilisée."
      ]
    },
    {
      "cell_type": "code",
      "metadata": {
        "id": "HU0a-eQ9YkiY"
      },
      "source": [
        "# Définition de la fonction de régulation du taux d'apprentissage\n",
        "def RegulationTauxApprentissage(periode, taux):\n",
        "  return 1e-8*10**(periode/10)\n",
        "\n",
        "# Définition de l'optimiseur à utiliser\n",
        "#optimiseur=tf.keras.optimizers.Adam()\n",
        "optimiseur=tf.keras.optimizers.SGD()\n",
        "\n",
        "# Compile le modèle\n",
        "model.compile(loss=\"categorical_crossentropy\", optimizer=optimiseur, metrics=[\"accuracy\"])\n",
        "\n",
        "# Utilisation de la méthode ModelCheckPoint\n",
        "CheckPoint = tf.keras.callbacks.ModelCheckpoint(\"poids.hdf5\", monitor='accuracy', verbose=1, save_best_only=True, save_weights_only = True, mode='auto', save_freq='epoch')\n",
        "\n",
        "# Entraine le modèle en utilisant notre fonction personnelle de régulation du taux d'apprentissage\n",
        "historique = model.fit(x=x_train,y=y_train,epochs=100,verbose=1, callbacks=[tf.keras.callbacks.LearningRateScheduler(RegulationTauxApprentissage), CheckPoint],batch_size=128)\n"
      ],
      "execution_count": null,
      "outputs": []
    },
    {
      "cell_type": "code",
      "metadata": {
        "id": "GHchQmnoYkiZ"
      },
      "source": [
        "# Construit un vecteur avec les valeurs du taux d'apprentissage à chaque période \n",
        "taux = 1e-8*(10**(np.arange(100)/10))\n",
        "\n",
        "# Affiche l'erreur en fonction du taux d'apprentissage\n",
        "plt.figure(figsize=(10, 6))\n",
        "plt.semilogx(taux,historique.history[\"loss\"])\n",
        "plt.axis([ taux[30], taux[99], 0, 10])\n",
        "plt.title(\"Evolution de l'erreur en fonction du taux d'apprentissage\")"
      ],
      "execution_count": null,
      "outputs": []
    },
    {
      "cell_type": "code",
      "metadata": {
        "id": "tc5-yJEqYkia"
      },
      "source": [
        "# Chargement des poids sauvegardés\n",
        "model.load_weights(\"poids.hdf5\")"
      ],
      "execution_count": null,
      "outputs": []
    },
    {
      "cell_type": "markdown",
      "metadata": {
        "id": "fx8H8AHKYkia"
      },
      "source": [
        "**2. Entrainement du modèle**"
      ]
    },
    {
      "cell_type": "code",
      "metadata": {
        "id": "6ZWWRL2WYkib"
      },
      "source": [
        "from google.colab import files\n",
        "\n",
        "max_periodes = 5000\n",
        "\n",
        "# Classe permettant d'arrêter l'entrainement si la variation\n",
        "# devient plus petite qu'une valeur à choisir sur un nombre\n",
        "# de périodes à choisir\n",
        "class StopTrain(keras.callbacks.Callback):\n",
        "    def __init__(self, delta=0.01,periodes=100, term=\"loss\", logs={}):\n",
        "      self.n_periodes = 0\n",
        "      self.periodes = periodes\n",
        "      self.loss_1 = 100\n",
        "      self.delta = delta\n",
        "      self.term = term\n",
        "    def on_epoch_end(self, epoch, logs={}):\n",
        "      diff_loss = abs(self.loss_1 - logs[self.term])\n",
        "      self.loss_1 = logs[self.term]\n",
        "      if (diff_loss < self.delta):\n",
        "        self.n_periodes = self.n_periodes + 1\n",
        "      else:\n",
        "        self.n_periodes = 0\n",
        "      if (self.n_periodes == self.periodes):\n",
        "        print(\"Arrêt de l'entrainement...\")\n",
        "        self.model.stop_training = True\n",
        "\n",
        "  \n",
        "# Définition des paramètres liés à l'évolution du taux d'apprentissage\n",
        "lr_schedule = tf.keras.optimizers.schedules.InverseTimeDecay(\n",
        "    initial_learning_rate=0.001,\n",
        "    decay_steps=10,\n",
        "    decay_rate=0.001)\n",
        "\n",
        "# Définition de l'optimiseur à utiliser\n",
        "optimiseur=tf.keras.optimizers.Adam(learning_rate=lr_schedule)\n",
        "#optimiseur=tf.keras.optimizers.SGD(learning_rate=lr_schedule,momentum=0.9)\n",
        "\n",
        "\n",
        "# Utilisation de la méthode ModelCheckPoint\n",
        "CheckPoint = tf.keras.callbacks.ModelCheckpoint(\"poids_train.hdf5\", monitor='loss', verbose=1, save_best_only=True, save_weights_only = True, mode='auto', save_freq='epoch')\n",
        "\n",
        "# Compile le modèle\n",
        "model.compile(loss=\"categorical_crossentropy\", optimizer=optimiseur, metrics=[\"accuracy\"])\n",
        "\n",
        "# Entraine le modèle, avec une réduction des calculs du gradient\n",
        "historique = model.fit(x=x_train,y=y_train,validation_data=(x_val,y_val), epochs=max_periodes,verbose=1, callbacks=[CheckPoint],batch_size=8)\n",
        "\n",
        "# Entraine le modèle sans réduction de calculs\n",
        "#historique = model.fit(dataset,validation_data=dataset_val, epochs=max_periodes,verbose=1, callbacks=[CheckPoint,StopTrain(delta=1e-3,periodes = 20, term=\"My_MSE\")])\n",
        "\n",
        "files.download('poids_train.hdf5')\n",
        "\n"
      ],
      "execution_count": null,
      "outputs": []
    },
    {
      "cell_type": "code",
      "metadata": {
        "id": "8EKaVqPCYkid"
      },
      "source": [
        "# Télécharge les résultats d'entrainement du modèle\n",
        "! wget --no-check-certificate --content-disposition \"https://github.com/AlexandreBourrieau/ML/blob/main/Carnets%20Jupyter/S%C3%A9ries%20temporelles/Bitcoin/poids_train_BitWave_One_All.hdf5?raw=true\""
      ],
      "execution_count": null,
      "outputs": []
    },
    {
      "cell_type": "code",
      "metadata": {
        "id": "jMUbH3CaYkid"
      },
      "source": [
        "model.load_weights(\"poids_train.hdf5\")\n",
        "#model.load_weights(\"poids_train_BitWave_One_All.hdf5\")"
      ],
      "execution_count": 27,
      "outputs": []
    },
    {
      "cell_type": "code",
      "metadata": {
        "id": "idMYWg8mYkie"
      },
      "source": [
        "erreur_entrainement = historique.history[\"loss\"]\n",
        "erreur_validation = historique.history[\"val_loss\"]\n",
        "\n",
        "# Affiche l'erreur en fonction de la période\n",
        "plt.figure(figsize=(10, 6))\n",
        "plt.plot(np.arange(0,len(erreur_entrainement)),erreur_entrainement, label=\"Erreurs sur les entrainements\")\n",
        "plt.plot(np.arange(0,len(erreur_entrainement)),erreur_validation, label =\"Erreurs sur les validations\")\n",
        "plt.legend()\n",
        "\n",
        "plt.title(\"Evolution de l'erreur en fonction de la période\")"
      ],
      "execution_count": null,
      "outputs": []
    },
    {
      "cell_type": "code",
      "metadata": {
        "id": "6763fLQ6Ykif"
      },
      "source": [
        "# Evaluation du modèle\n",
        "\n",
        "model.evaluate(dataset)\n",
        "model.evaluate(dataset_val)\n"
      ],
      "execution_count": null,
      "outputs": []
    },
    {
      "cell_type": "markdown",
      "metadata": {
        "id": "Wj3qvyK6Ykir"
      },
      "source": [
        "**3. Prédictions \"single step\"**"
      ]
    },
    {
      "cell_type": "code",
      "metadata": {
        "id": "0iOJE_lAYkir",
        "outputId": "929920cf-34ee-4d27-95b0-d7f8035b25e3",
        "colab": {
          "base_uri": "https://localhost:8080/"
        }
      },
      "source": [
        "# Création des instants d'entrainement et de validation\n",
        "y_train_timing = X_Avec_Prix.index[taille_fenetre + horizon - 1:taille_fenetre + horizon - 1+len(y_train)]\n",
        "y_val_timing = X_Avec_Prix.index[taille_fenetre + horizon - 1:taille_fenetre + horizon - 1+len(y_val)]\n",
        "\n",
        "# Calcul des prédictions\n",
        "pred_ent = model.predict(x_train, verbose=1)\n",
        "pred_val = model.predict(x_val, verbose=1)"
      ],
      "execution_count": 28,
      "outputs": [
        {
          "output_type": "stream",
          "text": [
            "61/61 [==============================] - 1s 11ms/step\n",
            "15/15 [==============================] - 0s 16ms/step\n"
          ],
          "name": "stdout"
        }
      ]
    },
    {
      "cell_type": "code",
      "metadata": {
        "id": "O6JmFleF8i4j",
        "outputId": "1d39eab4-90b3-4c73-aae9-1dab00f55eee",
        "colab": {
          "base_uri": "https://localhost:8080/"
        }
      },
      "source": [
        "pred_ent[0,0,:]\n",
        "Y = tf.one_hot(tf.argmax(pred_ent[0,0,:]), depth = 256,dtype=np.uint8)\n",
        "Y"
      ],
      "execution_count": 50,
      "outputs": [
        {
          "output_type": "execute_result",
          "data": {
            "text/plain": [
              "<tf.Tensor: shape=(256,), dtype=uint8, numpy=\n",
              "array([0, 1, 0, 0, 0, 0, 0, 0, 0, 0, 0, 0, 0, 0, 0, 0, 0, 0, 0, 0, 0, 0,\n",
              "       0, 0, 0, 0, 0, 0, 0, 0, 0, 0, 0, 0, 0, 0, 0, 0, 0, 0, 0, 0, 0, 0,\n",
              "       0, 0, 0, 0, 0, 0, 0, 0, 0, 0, 0, 0, 0, 0, 0, 0, 0, 0, 0, 0, 0, 0,\n",
              "       0, 0, 0, 0, 0, 0, 0, 0, 0, 0, 0, 0, 0, 0, 0, 0, 0, 0, 0, 0, 0, 0,\n",
              "       0, 0, 0, 0, 0, 0, 0, 0, 0, 0, 0, 0, 0, 0, 0, 0, 0, 0, 0, 0, 0, 0,\n",
              "       0, 0, 0, 0, 0, 0, 0, 0, 0, 0, 0, 0, 0, 0, 0, 0, 0, 0, 0, 0, 0, 0,\n",
              "       0, 0, 0, 0, 0, 0, 0, 0, 0, 0, 0, 0, 0, 0, 0, 0, 0, 0, 0, 0, 0, 0,\n",
              "       0, 0, 0, 0, 0, 0, 0, 0, 0, 0, 0, 0, 0, 0, 0, 0, 0, 0, 0, 0, 0, 0,\n",
              "       0, 0, 0, 0, 0, 0, 0, 0, 0, 0, 0, 0, 0, 0, 0, 0, 0, 0, 0, 0, 0, 0,\n",
              "       0, 0, 0, 0, 0, 0, 0, 0, 0, 0, 0, 0, 0, 0, 0, 0, 0, 0, 0, 0, 0, 0,\n",
              "       0, 0, 0, 0, 0, 0, 0, 0, 0, 0, 0, 0, 0, 0, 0, 0, 0, 0, 0, 0, 0, 0,\n",
              "       0, 0, 0, 0, 0, 0, 0, 0, 0, 0, 0, 0, 0, 0], dtype=uint8)>"
            ]
          },
          "metadata": {
            "tags": []
          },
          "execution_count": 50
        }
      ]
    },
    {
      "cell_type": "code",
      "metadata": {
        "id": "dfUyGJ0RYkir"
      },
      "source": [
        "import plotly.graph_objects as go\n",
        "\n",
        "fig = go.Figure()\n",
        "\n",
        "# Courbes originales\n",
        "fig.add_trace(go.Scatter(x=X_Avec_Prix.index,y=serie_entrainement_X_norm[0],line=dict(color='blue', width=1)))\n",
        "fig.add_trace(go.Scatter(x=X_Avec_Prix.index[temps_separation:],y=serie_test_X_norm[0],line=dict(color='blue', width=1)))\n",
        "\n",
        "# Courbes des prédictions d'entrainement\n",
        "fig.add_trace(go.Scatter(x=X_Avec_Prix.index[taille_fenetre+horizon-1:],y=pred_ent[:,taille_fenetre-1,0],line=dict(color='green', width=1)))\n",
        "\n",
        "# Courbes des prédictions de validations\n",
        "fig.add_trace(go.Scatter(x=X_Avec_Prix.index[temps_separation+taille_fenetre+horizon-1:],y=pred_val[:,taille_fenetre-1,0],line=dict(color='red', width=1)))\n",
        "\n",
        "\n",
        "fig.update_xaxes(rangeslider_visible=True)\n",
        "yaxis=dict(autorange = True,fixedrange= False)\n",
        "fig.update_yaxes(yaxis)\n",
        "fig.show()"
      ],
      "execution_count": null,
      "outputs": []
    },
    {
      "cell_type": "markdown",
      "metadata": {
        "id": "g8jvHwA0Ykis"
      },
      "source": [
        "**4. Prédictions multi-step**"
      ]
    },
    {
      "cell_type": "code",
      "metadata": {
        "id": "mYHqaGThYkit"
      },
      "source": [
        "predictions = []\n",
        "                                                        # x_val : (448,16,779)\n",
        "data_to_predict = x_val[0,:,:]                          # [[VAL#1_0,VAL#2_0, ... , VAL#779_0],[VAL#1_1,VAL#2_1, ... , VAL#779_1], ... , [VAL#1_15,VAL#2_15, ..., VAL#779_15]] : (16,779)\n",
        "data_to_predict = tf.expand_dims(data_to_predict,0)     # (1,16,779)\n",
        "\n",
        "prediction = model.predict(data_to_predict)             # [[[^VAL#1_1][^VAL#1_2]...[^VAL#1_16]]] : (1,16,1)\n",
        "predictions.append(prediction[0,taille_fenetre-1,0])    # [^VAL#1_16] : (1,)\n",
        "\n",
        "data_to_predict = x_val[1,0:taille_fenetre-1,:]         # [[VAL#1_1,VAL#2_1, ... , VAL#779_1],[VAL#1_2,VAL#2_2, ... , VAL#779_2], ... , [VAL#1_15,VAL#2_15, ..., VAL#779_15]] : (15,779)\n",
        "\n",
        "data_to_predict = np.insert(data_to_predict,taille_fenetre-1,     # [[VAL#1_1,VAL#2_1, ... , VAL#779_1],[VAL#1_2,VAL#2_2, ... , VAL#779_2], ... , [^VAL#1_16,VAL#2_16, ..., VAL#779_16]] : (16,779)\n",
        "                            np.concatenate((tf.expand_dims(np.array(predictions[0]),0),x_val[1,taille_fenetre-2,1:779]),axis=0),axis=0)\n",
        "\n",
        "for i in range(1,300):\n",
        "  data_to_predict = tf.expand_dims(data_to_predict,0)   # (16,779) => (1,16,779)\n",
        "  prediction = model.predict(data_to_predict)           # [[[^VAL#1_2][^VAL#1_3]...[^VAL#1_17]]] : (1,16,1)\n",
        "\n",
        "  predictions.append(prediction[0,taille_fenetre-1,0])  # [^VAL#1_17] : (1,)\n",
        "  data_to_predict = x_val[i+1,0:taille_fenetre-1,:]     # [[VAL#1_2,VAL#2_2, ... , VAL#779_2],[VAL#1_3,VAL#2_3, ... , VAL#779_3], ... , [VAL#1_17,VAL#2_17, ..., VAL#779_17]] : (15,779)\n",
        "\n",
        "  data_to_predict = np.insert(data_to_predict,taille_fenetre-1,     # [[VAL#1_1,VAL#2_1, ... , VAL#779_1],[VAL#1_2,VAL#2_2, ... , VAL#779_2], ... , [^VAL#1_16,VAL#2_16, ..., VAL#779_16]] : (16,779)\n",
        "                            np.concatenate((tf.expand_dims(np.array(predictions[i]),0),x_val[1,taille_fenetre-2,1:779]),axis=0),axis=0)"
      ],
      "execution_count": null,
      "outputs": []
    },
    {
      "cell_type": "code",
      "metadata": {
        "id": "yAcNpvbvYkit"
      },
      "source": [
        "import plotly.graph_objects as go\n",
        "\n",
        "fig = go.Figure()\n",
        "\n",
        "n_max = len(predictions)\n",
        "\n",
        "# Courbes originales\n",
        "fig.add_trace(go.Scatter(x=X_Avec_Prix.index,y=serie_entrainement_X_norm[0],line=dict(color='blue', width=1)))\n",
        "fig.add_trace(go.Scatter(x=X_Avec_Prix.index[temps_separation:],y=serie_test_X_norm[0],line=dict(color='blue', width=1)))\n",
        "\n",
        "# Courbes des prédictions d'entrainement\n",
        "fig.add_trace(go.Scatter(x=X_Avec_Prix.index[taille_fenetre+horizon-1:],y=pred_ent[:,taille_fenetre-1,0],line=dict(color='green', width=1)))\n",
        "\n",
        "# Courbes des prédictions de validations\n",
        "fig.add_trace(go.Scatter(x=X_Avec_Prix.index[temps_separation+taille_fenetre+horizon-1:temps_separation+taille_fenetre+horizon-1+n_max],y=predictions[0:n_max],line=dict(color='red', width=1)))\n",
        "\n",
        "\n",
        "fig.update_xaxes(rangeslider_visible=True)\n",
        "yaxis=dict(autorange = True,fixedrange= False)\n",
        "fig.update_yaxes(yaxis)\n",
        "fig.show()"
      ],
      "execution_count": null,
      "outputs": []
    },
    {
      "cell_type": "markdown",
      "metadata": {
        "id": "C5CeF8IyjQFT"
      },
      "source": [
        "# Création des datasets - Sans prix en X"
      ]
    },
    {
      "cell_type": "code",
      "metadata": {
        "id": "IZ1MBty1xgoX"
      },
      "source": [
        "X_reduit_VIF.insert(0,'Price',df_data['Price'])"
      ],
      "execution_count": null,
      "outputs": []
    },
    {
      "cell_type": "code",
      "metadata": {
        "id": "YoP-8584xjYv"
      },
      "source": [
        "X_reduit_VIF"
      ],
      "execution_count": null,
      "outputs": []
    },
    {
      "cell_type": "code",
      "metadata": {
        "id": "_a3GiFgyxlbT"
      },
      "source": [
        "X_Avec_Prix = X_reduit_VIF"
      ],
      "execution_count": null,
      "outputs": []
    },
    {
      "cell_type": "code",
      "metadata": {
        "id": "Gy8wD4VLu5Qg"
      },
      "source": [
        "X_Avec_Prix = df_data\n",
        "X_Avec_Prix = X_Avec_Prix.drop(columns=['Dates', 'Price'])\n",
        "Xdrop = SimpleImputer(missing_values=np.nan,strategy='most_frequent').fit_transform(X_Avec_Prix)\n",
        "Xdrop = pd.DataFrame(Xdrop)\n",
        "Xdrop.columns = X_Avec_Prix.columns\n",
        "X_Avec_Prix = Xdrop\n",
        "X_Avec_Prix = X_Avec_Prix\n",
        "X_Avec_Prix = X_Avec_Prix.iloc[:,var_pred]\n",
        "X_Avec_Prix.insert(0,'Price',df_data['Price'])\n",
        "X_Avec_Prix"
      ],
      "execution_count": null,
      "outputs": []
    },
    {
      "cell_type": "code",
      "metadata": {
        "id": "-44FsypRjQFe"
      },
      "source": [
        "# Fonction permettant de créer un dataset à partir des données de la série temporelle\n",
        "\n",
        "def prepare_dataset_XY(series, taille_fenetre, horizon, batch_size):\n",
        "  serie_concat = tf.expand_dims(series[0],1)\n",
        "\n",
        "  for i in range(1,len(series)):\n",
        "    serie_ = tf.expand_dims(series[i],1)\n",
        "    serie_concat = tf.concat([serie_concat,serie_],1)\n",
        "\n",
        "  dataset = tf.data.Dataset.from_tensor_slices(serie_concat)\n",
        "  dataset = dataset.window(taille_fenetre+horizon, shift=1, drop_remainder=True)\n",
        "  dataset = dataset.flat_map(lambda x: x.batch(taille_fenetre + horizon))\n",
        "  dataset = dataset.map(lambda x: (x[0:taille_fenetre][:,1:],tf.expand_dims(x[-taille_fenetre:][:,0],1)))\n",
        "  dataset = dataset.batch(batch_size,drop_remainder=True).prefetch(1)\n",
        "  return dataset"
      ],
      "execution_count": null,
      "outputs": []
    },
    {
      "cell_type": "code",
      "metadata": {
        "id": "m6t272rIjQFg"
      },
      "source": [
        "# Définition des caractéristiques du dataset que l'on souhaite créer\n",
        "taille_fenetre = 64\n",
        "horizon = 1\n",
        "batch_size = 1\n",
        "\n",
        "# Création du dataset\n",
        "dataset = prepare_dataset_XY(serie_entrainement_X_norm,taille_fenetre,horizon,batch_size)\n",
        "dataset_val = prepare_dataset_XY(serie_test_X_norm,taille_fenetre,horizon,batch_size)"
      ],
      "execution_count": null,
      "outputs": []
    },
    {
      "cell_type": "code",
      "metadata": {
        "id": "JKO1WzQkjQFh"
      },
      "source": [
        "print(len(list(dataset.as_numpy_iterator())))\n",
        "for element in dataset.take(1):\n",
        "  print(element[0].shape)\n",
        "  print(element[1].shape)"
      ],
      "execution_count": null,
      "outputs": []
    },
    {
      "cell_type": "code",
      "metadata": {
        "id": "ZqHV6Ac5jQFi"
      },
      "source": [
        "for element in dataset.take(1):\n",
        "  print(element)\n"
      ],
      "execution_count": null,
      "outputs": []
    },
    {
      "cell_type": "markdown",
      "metadata": {
        "id": "AvR1N4gojQFj"
      },
      "source": [
        "On extrait maintenant les deux tenseurs (X,Y) pour l'entrainement :"
      ]
    },
    {
      "cell_type": "code",
      "metadata": {
        "id": "FwJtYSVtjQFk"
      },
      "source": [
        "# Extrait les X,Y du dataset\n",
        "x,y = tuple(zip(*dataset))              # #60x((32,5,779),(32,5,1)) => x = 60x(32,5,779) ; y = 60x(32,5,1)\n",
        "\n",
        "# Recombine les données\n",
        "x = np.asarray(x,dtype=np.float32)      # 60x(32,5,779) => (60,32,5,779)\n",
        "y = np.asarray(y,dtype=np.float32)      # 60x(32,5,1) => (60,32,5,1)\n",
        "\n",
        "x_train = np.asarray(tf.reshape(x,shape=(x.shape[0]*x.shape[1],taille_fenetre,x.shape[3])))     # (60,32,5,779) => (60*32,5,779)\n",
        "y_train = np.asarray(tf.reshape(y,shape=(y.shape[0]*y.shape[1],taille_fenetre,y.shape[3])))     # (60,32,5,1) => (60*32,5,1)\n",
        "\n",
        "# Affiche les formats\n",
        "print(x_train.shape)\n",
        "print(y_train.shape)"
      ],
      "execution_count": null,
      "outputs": []
    },
    {
      "cell_type": "markdown",
      "metadata": {
        "id": "5Zny4A0jjQFk"
      },
      "source": [
        "Puis la même chose pour les données de validation :"
      ]
    },
    {
      "cell_type": "code",
      "metadata": {
        "id": "LhoA0UOxjQFl"
      },
      "source": [
        "# Extrait les X,Y du dataset\n",
        "x,y = tuple(zip(*dataset_val))\n",
        "\n",
        "# Recombine les données\n",
        "x = np.asarray(x,dtype=np.float32)\n",
        "y = np.asarray(y,dtype=np.float32)\n",
        "\n",
        "x_val = np.asarray(tf.reshape(x,shape=(x.shape[0]*x.shape[1],taille_fenetre,x.shape[3])))\n",
        "y_val = np.asarray(tf.reshape(y,shape=(y.shape[0]*y.shape[1],taille_fenetre,y.shape[3])))\n",
        "\n",
        "# Affiche les formats\n",
        "print(x_val.shape)\n",
        "print(y_val.shape)"
      ],
      "execution_count": null,
      "outputs": []
    },
    {
      "cell_type": "markdown",
      "metadata": {
        "id": "F6TE-8uonbYq"
      },
      "source": [
        "# Création du modèle type Wavenet Multivarié"
      ]
    },
    {
      "cell_type": "markdown",
      "metadata": {
        "id": "ZFUUNiNYnbZH"
      },
      "source": [
        "**1. Création du réseau**"
      ]
    },
    {
      "cell_type": "code",
      "metadata": {
        "id": "yfUkzVAwnbZH"
      },
      "source": [
        "from keras.layers import Conv1D\n",
        "from keras.layers import Conv1D\n",
        "from keras.utils.conv_utils import conv_output_length\n",
        "from keras import layers\n",
        "from keras.regularizers import l2\n",
        "import keras.backend as K\n",
        "from keras.engine import Input\n",
        "from keras.engine import Model"
      ],
      "execution_count": null,
      "outputs": []
    },
    {
      "cell_type": "code",
      "metadata": {
        "id": "-mDTWTKDnbZI"
      },
      "source": [
        "class CausalDilatedConv1D(Conv1D):\n",
        "    def __init__(self, nb_filter, filter_length, init='glorot_uniform', activation=None, weights=None,\n",
        "                 border_mode='valid', subsample_length=1, atrous_rate=1, W_regularizer=None, b_regularizer=None,\n",
        "                 activity_regularizer=None, W_constraint=None, b_constraint=None, bias=True, causal=False, **kwargs):\n",
        "        super(CausalDilatedConv1D, self).__init__(nb_filter, filter_length, weights=weights, activation=activation, \n",
        "                padding=border_mode, strides=subsample_length, dilation_rate=atrous_rate, kernel_regularizer=W_regularizer, \n",
        "                bias_regularizer=b_regularizer, activity_regularizer=activity_regularizer, kernel_constraint=W_constraint, \n",
        "                bias_constraint=b_constraint, use_bias=bias, **kwargs)\n",
        "        self.causal = causal\n",
        "        self.nb_filter = nb_filter\n",
        "        self.atrous_rate = atrous_rate\n",
        "        self.filter_length = filter_length\n",
        "        self.subsample_length = subsample_length\n",
        "        self.border_mode = border_mode\n",
        "        if self.causal and border_mode != 'valid':\n",
        "            raise ValueError(\"Causal mode dictates border_mode=valid.\")\n",
        "\n",
        "    def compute_output_shape(self, input_shape):\n",
        "        input_length = input_shape[1]\n",
        "        if self.causal:\n",
        "            input_length += self.atrous_rate * (self.filter_length - 1)\n",
        "        length = conv_output_length(input_length, self.filter_length, self.border_mode, self.strides[0], dilation=self.atrous_rate)\n",
        "        return (input_shape[0], length, self.nb_filter)\n",
        "\n",
        "    def call(self, x, mask=None):\n",
        "        if self.causal:\n",
        "            x = K.temporal_padding(x, padding=(self.atrous_rate * (self.filter_length - 1), 0))\n",
        "        # return super(CausalAtrousConvolution1D, self).call(x, mask)\n",
        "        return super(CausalDilatedConv1D, self).call(x)"
      ],
      "execution_count": null,
      "outputs": []
    },
    {
      "cell_type": "code",
      "metadata": {
        "id": "CVxqodltnbZJ"
      },
      "source": [
        "def _compute_receptive_field(dilation_depth, stacks):\n",
        "  return stacks * (2 ** dilation_depth * 2) - (stacks - 1)"
      ],
      "execution_count": null,
      "outputs": []
    },
    {
      "cell_type": "code",
      "metadata": {
        "id": "zKSxA3XVnbZK"
      },
      "source": [
        "def build_model_residual_block(x, i, s,nb_filters, dim_filters, use_bias,res_l2):\n",
        "        original_x = x\n",
        "        # TODO: initalization, regularization?\n",
        "        relu_out = CausalDilatedConv1D(nb_filters, dim_filters, atrous_rate=2 ** i, border_mode='valid', causal=True, bias=True, name='dilated_conv_%d_relu_s%d' % (2 ** i, s), activation='relu', W_regularizer=l2(res_l2))(x)\n",
        "        res_x = layers.Conv1D(1, 1, padding='same', use_bias=use_bias, kernel_regularizer=l2(res_l2))(relu_out)\n",
        "        skip_x = layers.Conv1D(1, 1, padding='same', use_bias=use_bias, kernel_regularizer=l2(res_l2))(relu_out)\n",
        "        res_x = layers.Add()([original_x, res_x])\n",
        "        return res_x, skip_x\n",
        "\n",
        "def build_model_couche_condition(x, output_bins, nb_filters, dim_filters, use_bias,res_l2):\n",
        "        original_x = x\n",
        "        skip_conditions = []\n",
        "\n",
        "        relu_out = CausalDilatedConv1D(nb_filters, dim_filters, atrous_rate=1, border_mode='valid', causal=True, bias=True, name='dilated_conv_%d_condition_%d_s%d' % (1,1, 0), activation='relu',\n",
        "                                       W_regularizer=l2(res_l2))(tf.expand_dims(x[:,:,0],2))\n",
        "\n",
        "        skip_ = layers.Conv1D(1, 1, padding='same', use_bias=use_bias, kernel_regularizer=l2(res_l2))(relu_out)\n",
        "        skip_conditions.append(skip_)\n",
        "\n",
        "        for i in range(1,output_bins-1):\n",
        "          relu_out = CausalDilatedConv1D(nb_filters, dim_filters, atrous_rate=1, border_mode='valid', causal=True, bias=True, name='dilated_conv_%d_condition_%d_s%d' % (1,i+1,0), activation='relu',\n",
        "                                                    W_regularizer=l2(res_l2))(tf.expand_dims(x[:,:,i],2))\n",
        "\n",
        "          skip_ = layers.Conv1D(1, 1, padding='same', use_bias=use_bias, kernel_regularizer=l2(res_l2))(relu_out)\n",
        "          skip_conditions.append(skip_)\n",
        "\n",
        "        if output_bins > 1:\n",
        "          out = layers.Add()(skip_conditions)\n",
        "        else:\n",
        "          out = skip_\n",
        "        return out\n",
        "\n",
        "\n",
        "def build_model(fragment_length, nb_filters, dim_filters, output_bins, dilation_depth, stacks, use_skip_connections, use_bias, res_l2, final_l2):\n",
        "        input_shape = Input(shape=(fragment_length, output_bins), name='input_part')\n",
        "        out = input_shape\n",
        "        skip_connections = []\n",
        "\n",
        "        for s in range(stacks):\n",
        "            # Couche conditionnée\n",
        "            out = build_model_couche_condition(out, output_bins, nb_filters, dim_filters, use_bias, res_l2)\n",
        "\n",
        "            # Couches intermédiaires\n",
        "            for i in range(1, dilation_depth + 1):\n",
        "                out, skip_out = build_model_residual_block(out, i, s, nb_filters, dim_filters, use_bias, res_l2)\n",
        "                skip_connections.append(skip_out)\n",
        "\n",
        "        if use_skip_connections:\n",
        "            out = layers.Add()(skip_connections)\n",
        "\n",
        "        # Couche de sortie\n",
        "        out = layers.Activation('linear', name=\"output_linear\")(out)\n",
        "        out = layers.Conv1D(1, 1, padding='same', kernel_regularizer=l2(final_l2))(out)\n",
        "        model = Model(input_shape, out)\n",
        "        return model\n"
      ],
      "execution_count": null,
      "outputs": []
    },
    {
      "cell_type": "markdown",
      "metadata": {
        "id": "JBHv2GWNnbZL"
      },
      "source": [
        "**2. Construction du modèle**"
      ]
    },
    {
      "cell_type": "code",
      "metadata": {
        "id": "QNMIkaHYnbZL"
      },
      "source": [
        "def compute_receptive_field_(dilation_depth, nb_stacks):\n",
        "    receptive_field = nb_stacks * (2 ** dilation_depth * 2) - (nb_stacks - 1)\n",
        "    return receptive_field\n",
        "\n",
        "nb_filters = 5\n",
        "dim_filters = 4\n",
        "nb_output_bins = 7\n",
        "dilation_depth = 5\n",
        "nb_stacks = 1\n",
        "use_skip_connections = False\n",
        "use_bias = False\n",
        "res_l2 = 0.001\n",
        "final_l2 = 0.001\n",
        "\n",
        "fragment_length = compute_receptive_field_(dilation_depth, nb_stacks)\n",
        "fragment_length\n",
        "\n",
        "model = build_model(fragment_length, nb_filters, dim_filters, nb_output_bins, dilation_depth, nb_stacks, use_skip_connections, use_bias, res_l2, final_l2)\n",
        "model.summary()"
      ],
      "execution_count": null,
      "outputs": []
    },
    {
      "cell_type": "markdown",
      "metadata": {
        "id": "j3uWCqzcnkB2"
      },
      "source": [
        "# Entrainement du modèle"
      ]
    },
    {
      "cell_type": "markdown",
      "metadata": {
        "id": "kly6bhi8nkB3"
      },
      "source": [
        "**1. Optimisation de l'apprentissage**"
      ]
    },
    {
      "cell_type": "markdown",
      "metadata": {
        "id": "PB1gffpQnkB4"
      },
      "source": [
        "Pour accélérer le traitement des données, nous n'allons pas utiliser l'intégralité des données pendant la mise à jour du gradient, comme cela a été fait jusqu'à présent (en utilisant le dataset).  \n",
        "Cette fois-ci, nous allons forcer les mises à jour du gradient à se produire de manière moins fréquente en attribuant la valeur du batch_size à prendre en compte lors de la regression du modèle.  \n",
        "Pour cela, on utilise l'argument \"batch_size\" dans la méthode fit. En précisant un batch_size=1000, cela signifie que :\n",
        " - Sur notre total de 56000 échantillons, 56 seront utilisés pour les calculs du gradient\n",
        " - Il y aura également 56 itérations à chaque période.\n",
        "  \n",
        "    \n",
        "    \n",
        "Si nous avions pris le dataset comme entrée, nous aurions eu :\n",
        "- Un total de 56000 échantillons également\n",
        "- Chaque période aurait également pris 56 itérations pour se compléter\n",
        "- Mais 1000 échantillons auraient été utilisés pour le calcul du gradient, au lieu de 56 avec la méthode utilisée."
      ]
    },
    {
      "cell_type": "code",
      "metadata": {
        "id": "nJaE8myAnkB5"
      },
      "source": [
        "# Définition de la fonction de régulation du taux d'apprentissage\n",
        "def RegulationTauxApprentissage(periode, taux):\n",
        "  return 1e-8*10**(periode/10)\n",
        "\n",
        "def  My_MSE(y_true,y_pred):\n",
        "  return(tf.keras.metrics.mse(y_true,y_pred)*std_X[0].numpy()+mean_X[0].numpy())\n",
        "\n",
        "# Définition de l'optimiseur à utiliser\n",
        "optimiseur=tf.keras.optimizers.Adam()\n",
        "#optimiseur=tf.keras.optimizers.SGD()\n",
        "\n",
        "# Compile le modèle\n",
        "model.compile(loss=\"mse\", optimizer=optimiseur, metrics=[\"mse\",My_MSE])\n",
        "\n",
        "# Utilisation de la méthode ModelCheckPoint\n",
        "CheckPoint = tf.keras.callbacks.ModelCheckpoint(\"poids.hdf5\", monitor='loss', verbose=1, save_best_only=True, save_weights_only = True, mode='auto', save_freq='epoch')\n",
        "\n",
        "# Entraine le modèle en utilisant notre fonction personnelle de régulation du taux d'apprentissage\n",
        "historique = model.fit(dataset,epochs=100,verbose=1, callbacks=[tf.keras.callbacks.LearningRateScheduler(RegulationTauxApprentissage), CheckPoint],batch_size=batch_size)\n"
      ],
      "execution_count": null,
      "outputs": []
    },
    {
      "cell_type": "code",
      "metadata": {
        "id": "7mJxFSJNnkB7"
      },
      "source": [
        "# Construit un vecteur avec les valeurs du taux d'apprentissage à chaque période \n",
        "taux = 1e-8*(10**(np.arange(100)/10))\n",
        "\n",
        "# Affiche l'erreur en fonction du taux d'apprentissage\n",
        "plt.figure(figsize=(10, 6))\n",
        "plt.semilogx(taux,historique.history[\"loss\"])\n",
        "plt.axis([ taux[30], taux[99], 0, 0.4])\n",
        "plt.title(\"Evolution de l'erreur en fonction du taux d'apprentissage\")"
      ],
      "execution_count": null,
      "outputs": []
    },
    {
      "cell_type": "code",
      "metadata": {
        "id": "e2icNDS5nkB8"
      },
      "source": [
        "# Chargement des poids sauvegardés\n",
        "model.load_weights(\"poids.hdf5\")"
      ],
      "execution_count": null,
      "outputs": []
    },
    {
      "cell_type": "markdown",
      "metadata": {
        "id": "pKErsgPwnkB9"
      },
      "source": [
        "**2. Entrainement du modèle**"
      ]
    },
    {
      "cell_type": "code",
      "metadata": {
        "id": "LJTgBXrZnkB9"
      },
      "source": [
        "from google.colab import files\n",
        "\n",
        "max_periodes = 5000\n",
        "\n",
        "# Classe permettant d'arrêter l'entrainement si la variation\n",
        "# devient plus petite qu'une valeur à choisir sur un nombre\n",
        "# de périodes à choisir\n",
        "class StopTrain(keras.callbacks.Callback):\n",
        "    def __init__(self, delta=0.01,periodes=100, term=\"loss\", logs={}):\n",
        "      self.n_periodes = 0\n",
        "      self.periodes = periodes\n",
        "      self.loss_1 = 100\n",
        "      self.delta = delta\n",
        "      self.term = term\n",
        "    def on_epoch_end(self, epoch, logs={}):\n",
        "      diff_loss = abs(self.loss_1 - logs[self.term])\n",
        "      self.loss_1 = logs[self.term]\n",
        "      if (diff_loss < self.delta):\n",
        "        self.n_periodes = self.n_periodes + 1\n",
        "      else:\n",
        "        self.n_periodes = 0\n",
        "      if (self.n_periodes == self.periodes):\n",
        "        print(\"Arrêt de l'entrainement...\")\n",
        "        self.model.stop_training = True\n",
        "\n",
        "def  My_MSE(y_true,y_pred):\n",
        "  return(tf.keras.metrics.mse(y_true,y_pred)*std_X[0].numpy()+mean_X[0].numpy())\n",
        "  \n",
        "# Définition des paramètres liés à l'évolution du taux d'apprentissage\n",
        "lr_schedule = tf.keras.optimizers.schedules.InverseTimeDecay(\n",
        "    initial_learning_rate=0.001,\n",
        "    decay_steps=20,\n",
        "    decay_rate=0.001)\n",
        "\n",
        "\n",
        "# Définition de l'optimiseur à utiliser\n",
        "optimiseur=tf.keras.optimizers.Adam(learning_rate=lr_schedule,amsgrad=True)\n",
        "#optimiseur=tf.keras.optimizers.SGD(learning_rate=lr_schedule,momentum=0.9)\n",
        "\n",
        "\n",
        "# Utilisation de la méthode ModelCheckPoint\n",
        "CheckPoint = tf.keras.callbacks.ModelCheckpoint(\"poids_train.hdf5\", monitor='loss', verbose=1, save_best_only=True, save_weights_only = True, mode='auto', save_freq='epoch')\n",
        "\n",
        "# Compile le modèle\n",
        "model.compile(loss=\"logcosh\", optimizer=optimiseur, metrics=[\"mse\",My_MSE])\n",
        "\n",
        "# Entraine le modèle, avec une réduction des calculs du gradient\n",
        "historique = model.fit(x=x_train,y=y_train,validation_data=(x_val,y_val), epochs=max_periodes,verbose=1, callbacks=[CheckPoint,StopTrain(delta=1e-2,periodes = 10, term=\"My_MSE\")],batch_size=16)\n",
        "\n",
        "# Entraine le modèle sans réduction de calculs\n",
        "#historique = model.fit(dataset,validation_data=dataset_val, epochs=max_periodes,verbose=1, callbacks=[CheckPoint,StopTrain(delta=1e-3,periodes = 20, term=\"My_MSE\")])\n",
        "\n",
        "files.download('poids_train.hdf5')\n",
        "\n"
      ],
      "execution_count": null,
      "outputs": []
    },
    {
      "cell_type": "code",
      "metadata": {
        "id": "xcCcIoABnkB_"
      },
      "source": [
        "# Télécharge les résultats d'entrainement du modèle\n",
        "! wget --no-check-certificate --content-disposition \"https://github.com/AlexandreBourrieau/ML/blob/main/Carnets%20Jupyter/S%C3%A9ries%20temporelles/Bitcoin/poids_train_BitWave_One_All.hdf5?raw=true\""
      ],
      "execution_count": null,
      "outputs": []
    },
    {
      "cell_type": "code",
      "metadata": {
        "id": "vwCBv230nkCA"
      },
      "source": [
        "model.load_weights(\"poids_train.hdf5\")\n",
        "#model.load_weights(\"poids_train_BitWave_One_All.hdf5\")"
      ],
      "execution_count": null,
      "outputs": []
    },
    {
      "cell_type": "code",
      "metadata": {
        "id": "H8zkTV7dnkCA"
      },
      "source": [
        "erreur_entrainement = historique.history[\"loss\"]\n",
        "erreur_validation = historique.history[\"val_loss\"]\n",
        "\n",
        "# Affiche l'erreur en fonction de la période\n",
        "plt.figure(figsize=(10, 6))\n",
        "plt.plot(np.arange(0,len(erreur_entrainement)),erreur_entrainement, label=\"Erreurs sur les entrainements\")\n",
        "plt.plot(np.arange(0,len(erreur_entrainement)),erreur_validation, label =\"Erreurs sur les validations\")\n",
        "plt.legend()\n",
        "\n",
        "plt.title(\"Evolution de l'erreur en fonction de la période\")"
      ],
      "execution_count": null,
      "outputs": []
    },
    {
      "cell_type": "code",
      "metadata": {
        "id": "fMcgYWLMnkCB"
      },
      "source": [
        "# Evaluation du modèle\n",
        "\n",
        "model.evaluate(dataset)\n",
        "model.evaluate(dataset_val)\n"
      ],
      "execution_count": null,
      "outputs": []
    },
    {
      "cell_type": "markdown",
      "metadata": {
        "id": "FRxuxZCRnkCC"
      },
      "source": [
        "**3. Prédictions \"single step\"**"
      ]
    },
    {
      "cell_type": "code",
      "metadata": {
        "id": "pOnVsZVznkCD"
      },
      "source": [
        "# Création des instants d'entrainement et de validation\n",
        "y_train_timing = X_Avec_Prix.index[taille_fenetre + horizon - 1:taille_fenetre + horizon - 1+len(y_train)]\n",
        "y_val_timing = X_Avec_Prix.index[taille_fenetre + horizon - 1:taille_fenetre + horizon - 1+len(y_val)]\n",
        "\n",
        "# Calcul des prédictions\n",
        "pred_ent = model.predict(x_train, verbose=1)\n",
        "pred_val = model.predict(x_val, verbose=1)"
      ],
      "execution_count": null,
      "outputs": []
    },
    {
      "cell_type": "code",
      "metadata": {
        "id": "KBixEA6vnkCD"
      },
      "source": [
        "import plotly.graph_objects as go\n",
        "\n",
        "fig = go.Figure()\n",
        "\n",
        "# Courbes originales\n",
        "fig.add_trace(go.Scatter(x=X_Avec_Prix.index,y=serie_entrainement_X_norm[0],line=dict(color='blue', width=1)))\n",
        "fig.add_trace(go.Scatter(x=X_Avec_Prix.index[temps_separation:],y=serie_test_X_norm[0],line=dict(color='blue', width=1)))\n",
        "\n",
        "# Courbes des prédictions d'entrainement\n",
        "fig.add_trace(go.Scatter(x=X_Avec_Prix.index[taille_fenetre+horizon-1:],y=pred_ent[:,taille_fenetre-1,0],line=dict(color='green', width=1)))\n",
        "\n",
        "# Courbes des prédictions de validations\n",
        "fig.add_trace(go.Scatter(x=X_Avec_Prix.index[temps_separation+taille_fenetre+horizon-1:],y=pred_val[:,taille_fenetre-1,0],line=dict(color='red', width=1)))\n",
        "\n",
        "\n",
        "fig.update_xaxes(rangeslider_visible=True)\n",
        "yaxis=dict(autorange = True,fixedrange= False)\n",
        "fig.update_yaxes(yaxis)\n",
        "fig.show()"
      ],
      "execution_count": null,
      "outputs": []
    },
    {
      "cell_type": "markdown",
      "metadata": {
        "id": "7in3IeG1nkCF"
      },
      "source": [
        "**4. Prédictions multi-step**"
      ]
    },
    {
      "cell_type": "code",
      "metadata": {
        "id": "buIyA-dNnkCF"
      },
      "source": [
        "predictions = []\n",
        "                                                        # x_val : (448,16,779)\n",
        "data_to_predict = x_val[0,:,:]                          # [[VAL#1_0,VAL#2_0, ... , VAL#779_0],[VAL#1_1,VAL#2_1, ... , VAL#779_1], ... , [VAL#1_15,VAL#2_15, ..., VAL#779_15]] : (16,779)\n",
        "data_to_predict = tf.expand_dims(data_to_predict,0)     # (1,16,779)\n",
        "\n",
        "prediction = model.predict(data_to_predict)             # [[[^VAL#1_1][^VAL#1_2]...[^VAL#1_16]]] : (1,16,1)\n",
        "predictions.append(prediction[0,taille_fenetre-1,0])    # [^VAL#1_16] : (1,)\n",
        "\n",
        "data_to_predict = x_val[1,0:taille_fenetre-1,:]         # [[VAL#1_1,VAL#2_1, ... , VAL#779_1],[VAL#1_2,VAL#2_2, ... , VAL#779_2], ... , [VAL#1_15,VAL#2_15, ..., VAL#779_15]] : (15,779)\n",
        "\n",
        "data_to_predict = np.insert(data_to_predict,taille_fenetre-1,     # [[VAL#1_1,VAL#2_1, ... , VAL#779_1],[VAL#1_2,VAL#2_2, ... , VAL#779_2], ... , [^VAL#1_16,VAL#2_16, ..., VAL#779_16]] : (16,779)\n",
        "                            np.concatenate((tf.expand_dims(np.array(predictions[0]),0),x_val[1,taille_fenetre-2,1:779]),axis=0),axis=0)\n",
        "\n",
        "for i in range(1,300):\n",
        "  data_to_predict = tf.expand_dims(data_to_predict,0)   # (16,779) => (1,16,779)\n",
        "  prediction = model.predict(data_to_predict)           # [[[^VAL#1_2][^VAL#1_3]...[^VAL#1_17]]] : (1,16,1)\n",
        "\n",
        "  predictions.append(prediction[0,taille_fenetre-1,0])  # [^VAL#1_17] : (1,)\n",
        "  data_to_predict = x_val[i+1,0:taille_fenetre-1,:]     # [[VAL#1_2,VAL#2_2, ... , VAL#779_2],[VAL#1_3,VAL#2_3, ... , VAL#779_3], ... , [VAL#1_17,VAL#2_17, ..., VAL#779_17]] : (15,779)\n",
        "\n",
        "  data_to_predict = np.insert(data_to_predict,taille_fenetre-1,     # [[VAL#1_1,VAL#2_1, ... , VAL#779_1],[VAL#1_2,VAL#2_2, ... , VAL#779_2], ... , [^VAL#1_16,VAL#2_16, ..., VAL#779_16]] : (16,779)\n",
        "                            np.concatenate((tf.expand_dims(np.array(predictions[i]),0),x_val[1,taille_fenetre-2,1:779]),axis=0),axis=0)"
      ],
      "execution_count": null,
      "outputs": []
    },
    {
      "cell_type": "code",
      "metadata": {
        "id": "za6q5srpnkCH"
      },
      "source": [
        "import plotly.graph_objects as go\n",
        "\n",
        "fig = go.Figure()\n",
        "\n",
        "n_max = len(predictions)\n",
        "\n",
        "# Courbes originales\n",
        "fig.add_trace(go.Scatter(x=X_Avec_Prix.index,y=serie_entrainement_X_norm[0],line=dict(color='blue', width=1)))\n",
        "fig.add_trace(go.Scatter(x=X_Avec_Prix.index[temps_separation:],y=serie_test_X_norm[0],line=dict(color='blue', width=1)))\n",
        "\n",
        "# Courbes des prédictions d'entrainement\n",
        "fig.add_trace(go.Scatter(x=X_Avec_Prix.index[taille_fenetre+horizon-1:],y=pred_ent[:,taille_fenetre-1,0],line=dict(color='green', width=1)))\n",
        "\n",
        "# Courbes des prédictions de validations\n",
        "fig.add_trace(go.Scatter(x=X_Avec_Prix.index[temps_separation+taille_fenetre+horizon-1:temps_separation+taille_fenetre+horizon-1+n_max],y=predictions[0:n_max],line=dict(color='red', width=1)))\n",
        "\n",
        "\n",
        "fig.update_xaxes(rangeslider_visible=True)\n",
        "yaxis=dict(autorange = True,fixedrange= False)\n",
        "fig.update_yaxes(yaxis)\n",
        "fig.show()"
      ],
      "execution_count": null,
      "outputs": []
    }
  ]
}