{
  "nbformat": 4,
  "nbformat_minor": 0,
  "metadata": {
    "colab": {
      "name": "Bitcoin.ipynb",
      "provenance": [],
      "authorship_tag": "ABX9TyPFlPdb1yFb3p5GyixC85XO",
      "include_colab_link": true
    },
    "kernelspec": {
      "name": "python3",
      "display_name": "Python 3"
    },
    "language_info": {
      "name": "python"
    }
  },
  "cells": [
    {
      "cell_type": "markdown",
      "metadata": {
        "id": "view-in-github",
        "colab_type": "text"
      },
      "source": [
        "<a href=\"https://colab.research.google.com/github/AlexandreBourrieau/ML/blob/main/Carnets%20Jupyter/S%C3%A9ries%20temporelles/Bitcoin.ipynb\" target=\"_parent\"><img src=\"https://colab.research.google.com/assets/colab-badge.svg\" alt=\"Open In Colab\"/></a>"
      ]
    },
    {
      "cell_type": "code",
      "metadata": {
        "id": "dmWQRhArCVLd"
      },
      "source": [
        "import tensorflow as tf\n",
        "from tensorflow import keras\n",
        "\n",
        "import numpy as np\n",
        "import matplotlib.pyplot as plt\n",
        "import plotly.express as px\n",
        "import pandas as pd"
      ],
      "execution_count": 1,
      "outputs": []
    },
    {
      "cell_type": "markdown",
      "metadata": {
        "id": "TVuCzMYKDp3z"
      },
      "source": [
        "# Chargement des données"
      ]
    },
    {
      "cell_type": "markdown",
      "metadata": {
        "id": "eo2qVS1lrzuX"
      },
      "source": [
        "On télécharge un script depuis Github permettant de télécharger un fichier stocké sur GoogleDrive, puis on utilise ce script écrit en Python pour télécharger le fichier `bitcoin.zip`. Enfin, on décompresse les données pour obtenir le fichier `bitstampUSD_1-min_data_2012-01-01_to_2021-03-31.csv` :"
      ]
    },
    {
      "cell_type": "code",
      "metadata": {
        "colab": {
          "base_uri": "https://localhost:8080/"
        },
        "id": "4sOdetggHqKE",
        "outputId": "3b43d63d-183f-4dcc-ceb4-a731db4079ae"
      },
      "source": [
        "# Récupération des données au format .csv\n",
        "\n",
        "!git clone https://github.com/chentinghao/download_google_drive.git\n",
        "!python download_google_drive/download_gdrive.py \"1FZsEdpBm-AQ2L9n_pMnm6336-O_IVo7z\" \"/content/bitcoin.zip\"\n",
        "!unzip bitcoin.zip"
      ],
      "execution_count": 3,
      "outputs": [
        {
          "output_type": "stream",
          "text": [
            "Cloning into 'download_google_drive'...\n",
            "remote: Enumerating objects: 16, done.\u001b[K\n",
            "remote: Total 16 (delta 0), reused 0 (delta 0), pack-reused 16\u001b[K\n",
            "Unpacking objects: 100% (16/16), done.\n",
            "100MB [00:02, 47.2MB/s] \n",
            "Archive:  bitcoin.zip\n",
            "  inflating: bitstampUSD_1-min_data_2012-01-01_to_2021-03-31.csv  \n"
          ],
          "name": "stdout"
        }
      ]
    },
    {
      "cell_type": "markdown",
      "metadata": {
        "id": "MPJ6nnrRsUBm"
      },
      "source": [
        "Charge la série sous Pandas et affiche les informations du fichier :"
      ]
    },
    {
      "cell_type": "code",
      "metadata": {
        "colab": {
          "base_uri": "https://localhost:8080/",
          "height": 415
        },
        "id": "VEB_JjihEYTP",
        "outputId": "c174040e-e43c-4f09-c907-25ad4791a91f"
      },
      "source": [
        "# Création de la série sous Pandas\n",
        "serie = pd.read_csv(\"bitstampUSD_1-min_data_2012-01-01_to_2021-03-31.csv\")\n",
        "serie"
      ],
      "execution_count": 4,
      "outputs": [
        {
          "output_type": "execute_result",
          "data": {
            "text/html": [
              "<div>\n",
              "<style scoped>\n",
              "    .dataframe tbody tr th:only-of-type {\n",
              "        vertical-align: middle;\n",
              "    }\n",
              "\n",
              "    .dataframe tbody tr th {\n",
              "        vertical-align: top;\n",
              "    }\n",
              "\n",
              "    .dataframe thead th {\n",
              "        text-align: right;\n",
              "    }\n",
              "</style>\n",
              "<table border=\"1\" class=\"dataframe\">\n",
              "  <thead>\n",
              "    <tr style=\"text-align: right;\">\n",
              "      <th></th>\n",
              "      <th>Timestamp</th>\n",
              "      <th>Open</th>\n",
              "      <th>High</th>\n",
              "      <th>Low</th>\n",
              "      <th>Close</th>\n",
              "      <th>Volume_(BTC)</th>\n",
              "      <th>Volume_(Currency)</th>\n",
              "      <th>Weighted_Price</th>\n",
              "    </tr>\n",
              "  </thead>\n",
              "  <tbody>\n",
              "    <tr>\n",
              "      <th>0</th>\n",
              "      <td>1325317920</td>\n",
              "      <td>4.39</td>\n",
              "      <td>4.39</td>\n",
              "      <td>4.39</td>\n",
              "      <td>4.39</td>\n",
              "      <td>0.455581</td>\n",
              "      <td>2.000000</td>\n",
              "      <td>4.390000</td>\n",
              "    </tr>\n",
              "    <tr>\n",
              "      <th>1</th>\n",
              "      <td>1325317980</td>\n",
              "      <td>NaN</td>\n",
              "      <td>NaN</td>\n",
              "      <td>NaN</td>\n",
              "      <td>NaN</td>\n",
              "      <td>NaN</td>\n",
              "      <td>NaN</td>\n",
              "      <td>NaN</td>\n",
              "    </tr>\n",
              "    <tr>\n",
              "      <th>2</th>\n",
              "      <td>1325318040</td>\n",
              "      <td>NaN</td>\n",
              "      <td>NaN</td>\n",
              "      <td>NaN</td>\n",
              "      <td>NaN</td>\n",
              "      <td>NaN</td>\n",
              "      <td>NaN</td>\n",
              "      <td>NaN</td>\n",
              "    </tr>\n",
              "    <tr>\n",
              "      <th>3</th>\n",
              "      <td>1325318100</td>\n",
              "      <td>NaN</td>\n",
              "      <td>NaN</td>\n",
              "      <td>NaN</td>\n",
              "      <td>NaN</td>\n",
              "      <td>NaN</td>\n",
              "      <td>NaN</td>\n",
              "      <td>NaN</td>\n",
              "    </tr>\n",
              "    <tr>\n",
              "      <th>4</th>\n",
              "      <td>1325318160</td>\n",
              "      <td>NaN</td>\n",
              "      <td>NaN</td>\n",
              "      <td>NaN</td>\n",
              "      <td>NaN</td>\n",
              "      <td>NaN</td>\n",
              "      <td>NaN</td>\n",
              "      <td>NaN</td>\n",
              "    </tr>\n",
              "    <tr>\n",
              "      <th>...</th>\n",
              "      <td>...</td>\n",
              "      <td>...</td>\n",
              "      <td>...</td>\n",
              "      <td>...</td>\n",
              "      <td>...</td>\n",
              "      <td>...</td>\n",
              "      <td>...</td>\n",
              "      <td>...</td>\n",
              "    </tr>\n",
              "    <tr>\n",
              "      <th>4857372</th>\n",
              "      <td>1617148560</td>\n",
              "      <td>58714.31</td>\n",
              "      <td>58714.31</td>\n",
              "      <td>58686.00</td>\n",
              "      <td>58686.00</td>\n",
              "      <td>1.384487</td>\n",
              "      <td>81259.372187</td>\n",
              "      <td>58692.753339</td>\n",
              "    </tr>\n",
              "    <tr>\n",
              "      <th>4857373</th>\n",
              "      <td>1617148620</td>\n",
              "      <td>58683.97</td>\n",
              "      <td>58693.43</td>\n",
              "      <td>58683.97</td>\n",
              "      <td>58685.81</td>\n",
              "      <td>7.294848</td>\n",
              "      <td>428158.146640</td>\n",
              "      <td>58693.226508</td>\n",
              "    </tr>\n",
              "    <tr>\n",
              "      <th>4857374</th>\n",
              "      <td>1617148680</td>\n",
              "      <td>58693.43</td>\n",
              "      <td>58723.84</td>\n",
              "      <td>58693.43</td>\n",
              "      <td>58723.84</td>\n",
              "      <td>1.705682</td>\n",
              "      <td>100117.070370</td>\n",
              "      <td>58696.198496</td>\n",
              "    </tr>\n",
              "    <tr>\n",
              "      <th>4857375</th>\n",
              "      <td>1617148740</td>\n",
              "      <td>58742.18</td>\n",
              "      <td>58770.38</td>\n",
              "      <td>58742.18</td>\n",
              "      <td>58760.59</td>\n",
              "      <td>0.720415</td>\n",
              "      <td>42332.958633</td>\n",
              "      <td>58761.866202</td>\n",
              "    </tr>\n",
              "    <tr>\n",
              "      <th>4857376</th>\n",
              "      <td>1617148800</td>\n",
              "      <td>58767.75</td>\n",
              "      <td>58778.18</td>\n",
              "      <td>58755.97</td>\n",
              "      <td>58778.18</td>\n",
              "      <td>2.712831</td>\n",
              "      <td>159417.751000</td>\n",
              "      <td>58764.349363</td>\n",
              "    </tr>\n",
              "  </tbody>\n",
              "</table>\n",
              "<p>4857377 rows × 8 columns</p>\n",
              "</div>"
            ],
            "text/plain": [
              "          Timestamp      Open  ...  Volume_(Currency)  Weighted_Price\n",
              "0        1325317920      4.39  ...           2.000000        4.390000\n",
              "1        1325317980       NaN  ...                NaN             NaN\n",
              "2        1325318040       NaN  ...                NaN             NaN\n",
              "3        1325318100       NaN  ...                NaN             NaN\n",
              "4        1325318160       NaN  ...                NaN             NaN\n",
              "...             ...       ...  ...                ...             ...\n",
              "4857372  1617148560  58714.31  ...       81259.372187    58692.753339\n",
              "4857373  1617148620  58683.97  ...      428158.146640    58693.226508\n",
              "4857374  1617148680  58693.43  ...      100117.070370    58696.198496\n",
              "4857375  1617148740  58742.18  ...       42332.958633    58761.866202\n",
              "4857376  1617148800  58767.75  ...      159417.751000    58764.349363\n",
              "\n",
              "[4857377 rows x 8 columns]"
            ]
          },
          "metadata": {
            "tags": []
          },
          "execution_count": 4
        }
      ]
    },
    {
      "cell_type": "markdown",
      "metadata": {
        "id": "WF62FumBty9H"
      },
      "source": [
        "# Pré-traitement des données"
      ]
    },
    {
      "cell_type": "markdown",
      "metadata": {
        "id": "x2oeGZgr1UUP"
      },
      "source": [
        "**1. Recherche des erreurs dans les données**"
      ]
    },
    {
      "cell_type": "markdown",
      "metadata": {
        "id": "C2d3HD1YwmIS"
      },
      "source": [
        "On commence par vérifier qu'il ne manque pas de dates. Pour cela, on vérifie qu'il y a bien 60 secondes entre deux Timestamp. Si on trouve un décalage non cohérent, on enregistre les informations dans une liste."
      ]
    },
    {
      "cell_type": "code",
      "metadata": {
        "id": "kCXSGY9Swltw"
      },
      "source": [
        "# Fonction permettant de vérifier si chaque intervalle est bien de 60s\n",
        "def recherche_erreur(fenetre):\n",
        "  if fenetre.values[1] - fenetre.values[0] != 60:\n",
        "    Timestamp_Errors.append(fenetre.values)\n",
        "  return 0\n",
        "\n",
        "# Définit une liste pour sauvegarder le résultat des recherches\n",
        "Timestamp_Errors = []\n",
        "\n",
        "# Applique la fonction sur une fenêtre glissante des données\n",
        "serie.Timestamp.rolling(2).apply(recherche_erreur)"
      ],
      "execution_count": null,
      "outputs": []
    },
    {
      "cell_type": "markdown",
      "metadata": {
        "id": "8l1fTgb_1O8b"
      },
      "source": [
        "On affiche les erreurs trouvées :"
      ]
    },
    {
      "cell_type": "code",
      "metadata": {
        "id": "FZERkJS40sHP"
      },
      "source": [
        "# Affiche les informations sur les erreurs trouvées\n",
        "\n",
        "for erreur in Timestamp_Errors:\n",
        "  print (pd.to_datetime(Timestamp_Errors[0],unit=\"s\"))\n",
        "  print((Timestamp_Errors[0][1] - Timestamp_Errors[0][0])/60 - 1)"
      ],
      "execution_count": null,
      "outputs": []
    },
    {
      "cell_type": "markdown",
      "metadata": {
        "id": "XHOSRv8_1aYa"
      },
      "source": [
        "On observe qu'il manque des données entre le 5 janvier 2015 à 9:12:00 et le 9 janvier 2015 à 21:05:00, soit 6472 données."
      ]
    },
    {
      "cell_type": "markdown",
      "metadata": {
        "id": "Tjbmho3h2nB7"
      },
      "source": [
        "Recherchons maintenant le nombre de données manquantes :"
      ]
    },
    {
      "cell_type": "code",
      "metadata": {
        "colab": {
          "base_uri": "https://localhost:8080/"
        },
        "id": "NUzjd-qN2s-T",
        "outputId": "86141d42-c5de-42e5-c4ac-ca5593810175"
      },
      "source": [
        "# Affichage du nombre total de données manquantes\n",
        "\n",
        "data_manquantes = sum(np.isnan(serie['Open']))\n",
        "print (\"Nombre de données manquantes : %s\" %data_manquantes)"
      ],
      "execution_count": 5,
      "outputs": [
        {
          "output_type": "stream",
          "text": [
            "Nombre de données manquantes : 1243608\n"
          ],
          "name": "stdout"
        }
      ]
    },
    {
      "cell_type": "markdown",
      "metadata": {
        "id": "D41XKoGE3O60"
      },
      "source": [
        "On a donc en tout : 6472 + 1243608 = 1250080 données manquantes."
      ]
    },
    {
      "cell_type": "markdown",
      "metadata": {
        "id": "GefH2TaM3a0S"
      },
      "source": [
        "**2. Identification des erreurs**"
      ]
    },
    {
      "cell_type": "markdown",
      "metadata": {
        "id": "XivWgphwsdIm"
      },
      "source": [
        "On convertit maintenant les `Timestamp` (mesure de temps exprimé en seconde écoulé depuis le 01/01/1970 - 00:00:00 UTC) en format plus standard :"
      ]
    },
    {
      "cell_type": "code",
      "metadata": {
        "colab": {
          "base_uri": "https://localhost:8080/",
          "height": 415
        },
        "id": "HdLSr2IWSOnX",
        "outputId": "3a811627-6a29-4fda-b55d-458babc35f19"
      },
      "source": [
        "# Conversion des timestamp en date\n",
        "serie.Timestamp = pd.to_datetime(serie['Timestamp'], unit=\"s\")\n",
        "serie"
      ],
      "execution_count": 6,
      "outputs": [
        {
          "output_type": "execute_result",
          "data": {
            "text/html": [
              "<div>\n",
              "<style scoped>\n",
              "    .dataframe tbody tr th:only-of-type {\n",
              "        vertical-align: middle;\n",
              "    }\n",
              "\n",
              "    .dataframe tbody tr th {\n",
              "        vertical-align: top;\n",
              "    }\n",
              "\n",
              "    .dataframe thead th {\n",
              "        text-align: right;\n",
              "    }\n",
              "</style>\n",
              "<table border=\"1\" class=\"dataframe\">\n",
              "  <thead>\n",
              "    <tr style=\"text-align: right;\">\n",
              "      <th></th>\n",
              "      <th>Timestamp</th>\n",
              "      <th>Open</th>\n",
              "      <th>High</th>\n",
              "      <th>Low</th>\n",
              "      <th>Close</th>\n",
              "      <th>Volume_(BTC)</th>\n",
              "      <th>Volume_(Currency)</th>\n",
              "      <th>Weighted_Price</th>\n",
              "    </tr>\n",
              "  </thead>\n",
              "  <tbody>\n",
              "    <tr>\n",
              "      <th>0</th>\n",
              "      <td>2011-12-31 07:52:00</td>\n",
              "      <td>4.39</td>\n",
              "      <td>4.39</td>\n",
              "      <td>4.39</td>\n",
              "      <td>4.39</td>\n",
              "      <td>0.455581</td>\n",
              "      <td>2.000000</td>\n",
              "      <td>4.390000</td>\n",
              "    </tr>\n",
              "    <tr>\n",
              "      <th>1</th>\n",
              "      <td>2011-12-31 07:53:00</td>\n",
              "      <td>NaN</td>\n",
              "      <td>NaN</td>\n",
              "      <td>NaN</td>\n",
              "      <td>NaN</td>\n",
              "      <td>NaN</td>\n",
              "      <td>NaN</td>\n",
              "      <td>NaN</td>\n",
              "    </tr>\n",
              "    <tr>\n",
              "      <th>2</th>\n",
              "      <td>2011-12-31 07:54:00</td>\n",
              "      <td>NaN</td>\n",
              "      <td>NaN</td>\n",
              "      <td>NaN</td>\n",
              "      <td>NaN</td>\n",
              "      <td>NaN</td>\n",
              "      <td>NaN</td>\n",
              "      <td>NaN</td>\n",
              "    </tr>\n",
              "    <tr>\n",
              "      <th>3</th>\n",
              "      <td>2011-12-31 07:55:00</td>\n",
              "      <td>NaN</td>\n",
              "      <td>NaN</td>\n",
              "      <td>NaN</td>\n",
              "      <td>NaN</td>\n",
              "      <td>NaN</td>\n",
              "      <td>NaN</td>\n",
              "      <td>NaN</td>\n",
              "    </tr>\n",
              "    <tr>\n",
              "      <th>4</th>\n",
              "      <td>2011-12-31 07:56:00</td>\n",
              "      <td>NaN</td>\n",
              "      <td>NaN</td>\n",
              "      <td>NaN</td>\n",
              "      <td>NaN</td>\n",
              "      <td>NaN</td>\n",
              "      <td>NaN</td>\n",
              "      <td>NaN</td>\n",
              "    </tr>\n",
              "    <tr>\n",
              "      <th>...</th>\n",
              "      <td>...</td>\n",
              "      <td>...</td>\n",
              "      <td>...</td>\n",
              "      <td>...</td>\n",
              "      <td>...</td>\n",
              "      <td>...</td>\n",
              "      <td>...</td>\n",
              "      <td>...</td>\n",
              "    </tr>\n",
              "    <tr>\n",
              "      <th>4857372</th>\n",
              "      <td>2021-03-30 23:56:00</td>\n",
              "      <td>58714.31</td>\n",
              "      <td>58714.31</td>\n",
              "      <td>58686.00</td>\n",
              "      <td>58686.00</td>\n",
              "      <td>1.384487</td>\n",
              "      <td>81259.372187</td>\n",
              "      <td>58692.753339</td>\n",
              "    </tr>\n",
              "    <tr>\n",
              "      <th>4857373</th>\n",
              "      <td>2021-03-30 23:57:00</td>\n",
              "      <td>58683.97</td>\n",
              "      <td>58693.43</td>\n",
              "      <td>58683.97</td>\n",
              "      <td>58685.81</td>\n",
              "      <td>7.294848</td>\n",
              "      <td>428158.146640</td>\n",
              "      <td>58693.226508</td>\n",
              "    </tr>\n",
              "    <tr>\n",
              "      <th>4857374</th>\n",
              "      <td>2021-03-30 23:58:00</td>\n",
              "      <td>58693.43</td>\n",
              "      <td>58723.84</td>\n",
              "      <td>58693.43</td>\n",
              "      <td>58723.84</td>\n",
              "      <td>1.705682</td>\n",
              "      <td>100117.070370</td>\n",
              "      <td>58696.198496</td>\n",
              "    </tr>\n",
              "    <tr>\n",
              "      <th>4857375</th>\n",
              "      <td>2021-03-30 23:59:00</td>\n",
              "      <td>58742.18</td>\n",
              "      <td>58770.38</td>\n",
              "      <td>58742.18</td>\n",
              "      <td>58760.59</td>\n",
              "      <td>0.720415</td>\n",
              "      <td>42332.958633</td>\n",
              "      <td>58761.866202</td>\n",
              "    </tr>\n",
              "    <tr>\n",
              "      <th>4857376</th>\n",
              "      <td>2021-03-31 00:00:00</td>\n",
              "      <td>58767.75</td>\n",
              "      <td>58778.18</td>\n",
              "      <td>58755.97</td>\n",
              "      <td>58778.18</td>\n",
              "      <td>2.712831</td>\n",
              "      <td>159417.751000</td>\n",
              "      <td>58764.349363</td>\n",
              "    </tr>\n",
              "  </tbody>\n",
              "</table>\n",
              "<p>4857377 rows × 8 columns</p>\n",
              "</div>"
            ],
            "text/plain": [
              "                  Timestamp      Open  ...  Volume_(Currency)  Weighted_Price\n",
              "0       2011-12-31 07:52:00      4.39  ...           2.000000        4.390000\n",
              "1       2011-12-31 07:53:00       NaN  ...                NaN             NaN\n",
              "2       2011-12-31 07:54:00       NaN  ...                NaN             NaN\n",
              "3       2011-12-31 07:55:00       NaN  ...                NaN             NaN\n",
              "4       2011-12-31 07:56:00       NaN  ...                NaN             NaN\n",
              "...                     ...       ...  ...                ...             ...\n",
              "4857372 2021-03-30 23:56:00  58714.31  ...       81259.372187    58692.753339\n",
              "4857373 2021-03-30 23:57:00  58683.97  ...      428158.146640    58693.226508\n",
              "4857374 2021-03-30 23:58:00  58693.43  ...      100117.070370    58696.198496\n",
              "4857375 2021-03-30 23:59:00  58742.18  ...       42332.958633    58761.866202\n",
              "4857376 2021-03-31 00:00:00  58767.75  ...      159417.751000    58764.349363\n",
              "\n",
              "[4857377 rows x 8 columns]"
            ]
          },
          "metadata": {
            "tags": []
          },
          "execution_count": 6
        }
      ]
    },
    {
      "cell_type": "markdown",
      "metadata": {
        "id": "cgHcZyd13gCa"
      },
      "source": [
        "On demande maintenant à échantillonner les données sur 60 secondes :"
      ]
    },
    {
      "cell_type": "code",
      "metadata": {
        "colab": {
          "base_uri": "https://localhost:8080/",
          "height": 463
        },
        "id": "DVNlzo9QWNmP",
        "outputId": "713f15c5-80cd-40cf-dba0-1af67d890213"
      },
      "source": [
        "# Echantillonnage de la série sur 1min\n",
        "serie_minute = serie.set_index('Timestamp').resample('60s').asfreq()\n",
        "\n",
        "# Récupère le nombre de données sans valeurs numériques\n",
        "data_manquantes = sum(np.isnan(serie_minute['Open']))\n",
        "\n",
        "# Affiche le nombre de données manquantes et la série sur 1min \n",
        "print (\"Nombre de données manquantes : %s\" %data_manquantes)\n",
        "serie_minute"
      ],
      "execution_count": 7,
      "outputs": [
        {
          "output_type": "stream",
          "text": [
            "Nombre de données manquantes : 1250080\n"
          ],
          "name": "stdout"
        },
        {
          "output_type": "execute_result",
          "data": {
            "text/html": [
              "<div>\n",
              "<style scoped>\n",
              "    .dataframe tbody tr th:only-of-type {\n",
              "        vertical-align: middle;\n",
              "    }\n",
              "\n",
              "    .dataframe tbody tr th {\n",
              "        vertical-align: top;\n",
              "    }\n",
              "\n",
              "    .dataframe thead th {\n",
              "        text-align: right;\n",
              "    }\n",
              "</style>\n",
              "<table border=\"1\" class=\"dataframe\">\n",
              "  <thead>\n",
              "    <tr style=\"text-align: right;\">\n",
              "      <th></th>\n",
              "      <th>Open</th>\n",
              "      <th>High</th>\n",
              "      <th>Low</th>\n",
              "      <th>Close</th>\n",
              "      <th>Volume_(BTC)</th>\n",
              "      <th>Volume_(Currency)</th>\n",
              "      <th>Weighted_Price</th>\n",
              "    </tr>\n",
              "    <tr>\n",
              "      <th>Timestamp</th>\n",
              "      <th></th>\n",
              "      <th></th>\n",
              "      <th></th>\n",
              "      <th></th>\n",
              "      <th></th>\n",
              "      <th></th>\n",
              "      <th></th>\n",
              "    </tr>\n",
              "  </thead>\n",
              "  <tbody>\n",
              "    <tr>\n",
              "      <th>2011-12-31 07:52:00</th>\n",
              "      <td>4.39</td>\n",
              "      <td>4.39</td>\n",
              "      <td>4.39</td>\n",
              "      <td>4.39</td>\n",
              "      <td>0.455581</td>\n",
              "      <td>2.000000</td>\n",
              "      <td>4.390000</td>\n",
              "    </tr>\n",
              "    <tr>\n",
              "      <th>2011-12-31 07:53:00</th>\n",
              "      <td>NaN</td>\n",
              "      <td>NaN</td>\n",
              "      <td>NaN</td>\n",
              "      <td>NaN</td>\n",
              "      <td>NaN</td>\n",
              "      <td>NaN</td>\n",
              "      <td>NaN</td>\n",
              "    </tr>\n",
              "    <tr>\n",
              "      <th>2011-12-31 07:54:00</th>\n",
              "      <td>NaN</td>\n",
              "      <td>NaN</td>\n",
              "      <td>NaN</td>\n",
              "      <td>NaN</td>\n",
              "      <td>NaN</td>\n",
              "      <td>NaN</td>\n",
              "      <td>NaN</td>\n",
              "    </tr>\n",
              "    <tr>\n",
              "      <th>2011-12-31 07:55:00</th>\n",
              "      <td>NaN</td>\n",
              "      <td>NaN</td>\n",
              "      <td>NaN</td>\n",
              "      <td>NaN</td>\n",
              "      <td>NaN</td>\n",
              "      <td>NaN</td>\n",
              "      <td>NaN</td>\n",
              "    </tr>\n",
              "    <tr>\n",
              "      <th>2011-12-31 07:56:00</th>\n",
              "      <td>NaN</td>\n",
              "      <td>NaN</td>\n",
              "      <td>NaN</td>\n",
              "      <td>NaN</td>\n",
              "      <td>NaN</td>\n",
              "      <td>NaN</td>\n",
              "      <td>NaN</td>\n",
              "    </tr>\n",
              "    <tr>\n",
              "      <th>...</th>\n",
              "      <td>...</td>\n",
              "      <td>...</td>\n",
              "      <td>...</td>\n",
              "      <td>...</td>\n",
              "      <td>...</td>\n",
              "      <td>...</td>\n",
              "      <td>...</td>\n",
              "    </tr>\n",
              "    <tr>\n",
              "      <th>2021-03-30 23:56:00</th>\n",
              "      <td>58714.31</td>\n",
              "      <td>58714.31</td>\n",
              "      <td>58686.00</td>\n",
              "      <td>58686.00</td>\n",
              "      <td>1.384487</td>\n",
              "      <td>81259.372187</td>\n",
              "      <td>58692.753339</td>\n",
              "    </tr>\n",
              "    <tr>\n",
              "      <th>2021-03-30 23:57:00</th>\n",
              "      <td>58683.97</td>\n",
              "      <td>58693.43</td>\n",
              "      <td>58683.97</td>\n",
              "      <td>58685.81</td>\n",
              "      <td>7.294848</td>\n",
              "      <td>428158.146640</td>\n",
              "      <td>58693.226508</td>\n",
              "    </tr>\n",
              "    <tr>\n",
              "      <th>2021-03-30 23:58:00</th>\n",
              "      <td>58693.43</td>\n",
              "      <td>58723.84</td>\n",
              "      <td>58693.43</td>\n",
              "      <td>58723.84</td>\n",
              "      <td>1.705682</td>\n",
              "      <td>100117.070370</td>\n",
              "      <td>58696.198496</td>\n",
              "    </tr>\n",
              "    <tr>\n",
              "      <th>2021-03-30 23:59:00</th>\n",
              "      <td>58742.18</td>\n",
              "      <td>58770.38</td>\n",
              "      <td>58742.18</td>\n",
              "      <td>58760.59</td>\n",
              "      <td>0.720415</td>\n",
              "      <td>42332.958633</td>\n",
              "      <td>58761.866202</td>\n",
              "    </tr>\n",
              "    <tr>\n",
              "      <th>2021-03-31 00:00:00</th>\n",
              "      <td>58767.75</td>\n",
              "      <td>58778.18</td>\n",
              "      <td>58755.97</td>\n",
              "      <td>58778.18</td>\n",
              "      <td>2.712831</td>\n",
              "      <td>159417.751000</td>\n",
              "      <td>58764.349363</td>\n",
              "    </tr>\n",
              "  </tbody>\n",
              "</table>\n",
              "<p>4863849 rows × 7 columns</p>\n",
              "</div>"
            ],
            "text/plain": [
              "                         Open      High  ...  Volume_(Currency)  Weighted_Price\n",
              "Timestamp                                ...                                   \n",
              "2011-12-31 07:52:00      4.39      4.39  ...           2.000000        4.390000\n",
              "2011-12-31 07:53:00       NaN       NaN  ...                NaN             NaN\n",
              "2011-12-31 07:54:00       NaN       NaN  ...                NaN             NaN\n",
              "2011-12-31 07:55:00       NaN       NaN  ...                NaN             NaN\n",
              "2011-12-31 07:56:00       NaN       NaN  ...                NaN             NaN\n",
              "...                       ...       ...  ...                ...             ...\n",
              "2021-03-30 23:56:00  58714.31  58714.31  ...       81259.372187    58692.753339\n",
              "2021-03-30 23:57:00  58683.97  58693.43  ...      428158.146640    58693.226508\n",
              "2021-03-30 23:58:00  58693.43  58723.84  ...      100117.070370    58696.198496\n",
              "2021-03-30 23:59:00  58742.18  58770.38  ...       42332.958633    58761.866202\n",
              "2021-03-31 00:00:00  58767.75  58778.18  ...      159417.751000    58764.349363\n",
              "\n",
              "[4863849 rows x 7 columns]"
            ]
          },
          "metadata": {
            "tags": []
          },
          "execution_count": 7
        }
      ]
    },
    {
      "cell_type": "markdown",
      "metadata": {
        "id": "LqFOnDlU3tey"
      },
      "source": [
        "On obtient en tout 4863849 données après échantillonnage, soit (4863849-4857377) =  6472 données supplémentaires. Ceci est cohérent avec ce qu'on avait trouvé avant. Il manque 1250080 données. "
      ]
    },
    {
      "cell_type": "markdown",
      "metadata": {
        "id": "Tkbi7uuBnUD3"
      },
      "source": [
        "**3. Correction des données**"
      ]
    },
    {
      "cell_type": "markdown",
      "metadata": {
        "id": "8IQuSqAknduG"
      },
      "source": [
        "Pour corriger les données, on va tout simplement utiliser la fonction [fillna](https://pandas.pydata.org/docs/reference/api/pandas.Series.fillna.html) de Pandas avec la fonctionnalité de type `backfill` :"
      ]
    },
    {
      "cell_type": "code",
      "metadata": {
        "id": "p2Oav6gin5aP"
      },
      "source": [
        "# Applique la fonction de remplissage automatique des données non numérique avec l'option backfill\n",
        "\n",
        "serie_minute = serie_minute.fillna(method=\"backfill\")"
      ],
      "execution_count": 8,
      "outputs": []
    },
    {
      "cell_type": "code",
      "metadata": {
        "colab": {
          "base_uri": "https://localhost:8080/",
          "height": 463
        },
        "id": "QfOvQ-BKn80v",
        "outputId": "d3d8c2cd-0ebc-4b5f-9930-034210630b05"
      },
      "source": [
        "# Récupère le nombre de données non numériques et affiche les informations\n",
        "\n",
        "data_manquantes = sum(np.isnan(serie_minute['Open']))\n",
        "print (\"Nombre de données manquantes : %s\" %data_manquantes)\n",
        "serie_minute"
      ],
      "execution_count": 9,
      "outputs": [
        {
          "output_type": "stream",
          "text": [
            "Nombre de données manquantes : 0\n"
          ],
          "name": "stdout"
        },
        {
          "output_type": "execute_result",
          "data": {
            "text/html": [
              "<div>\n",
              "<style scoped>\n",
              "    .dataframe tbody tr th:only-of-type {\n",
              "        vertical-align: middle;\n",
              "    }\n",
              "\n",
              "    .dataframe tbody tr th {\n",
              "        vertical-align: top;\n",
              "    }\n",
              "\n",
              "    .dataframe thead th {\n",
              "        text-align: right;\n",
              "    }\n",
              "</style>\n",
              "<table border=\"1\" class=\"dataframe\">\n",
              "  <thead>\n",
              "    <tr style=\"text-align: right;\">\n",
              "      <th></th>\n",
              "      <th>Open</th>\n",
              "      <th>High</th>\n",
              "      <th>Low</th>\n",
              "      <th>Close</th>\n",
              "      <th>Volume_(BTC)</th>\n",
              "      <th>Volume_(Currency)</th>\n",
              "      <th>Weighted_Price</th>\n",
              "    </tr>\n",
              "    <tr>\n",
              "      <th>Timestamp</th>\n",
              "      <th></th>\n",
              "      <th></th>\n",
              "      <th></th>\n",
              "      <th></th>\n",
              "      <th></th>\n",
              "      <th></th>\n",
              "      <th></th>\n",
              "    </tr>\n",
              "  </thead>\n",
              "  <tbody>\n",
              "    <tr>\n",
              "      <th>2011-12-31 07:52:00</th>\n",
              "      <td>4.39</td>\n",
              "      <td>4.39</td>\n",
              "      <td>4.39</td>\n",
              "      <td>4.39</td>\n",
              "      <td>0.455581</td>\n",
              "      <td>2.000000</td>\n",
              "      <td>4.390000</td>\n",
              "    </tr>\n",
              "    <tr>\n",
              "      <th>2011-12-31 07:53:00</th>\n",
              "      <td>4.39</td>\n",
              "      <td>4.39</td>\n",
              "      <td>4.39</td>\n",
              "      <td>4.39</td>\n",
              "      <td>48.000000</td>\n",
              "      <td>210.720000</td>\n",
              "      <td>4.390000</td>\n",
              "    </tr>\n",
              "    <tr>\n",
              "      <th>2011-12-31 07:54:00</th>\n",
              "      <td>4.39</td>\n",
              "      <td>4.39</td>\n",
              "      <td>4.39</td>\n",
              "      <td>4.39</td>\n",
              "      <td>48.000000</td>\n",
              "      <td>210.720000</td>\n",
              "      <td>4.390000</td>\n",
              "    </tr>\n",
              "    <tr>\n",
              "      <th>2011-12-31 07:55:00</th>\n",
              "      <td>4.39</td>\n",
              "      <td>4.39</td>\n",
              "      <td>4.39</td>\n",
              "      <td>4.39</td>\n",
              "      <td>48.000000</td>\n",
              "      <td>210.720000</td>\n",
              "      <td>4.390000</td>\n",
              "    </tr>\n",
              "    <tr>\n",
              "      <th>2011-12-31 07:56:00</th>\n",
              "      <td>4.39</td>\n",
              "      <td>4.39</td>\n",
              "      <td>4.39</td>\n",
              "      <td>4.39</td>\n",
              "      <td>48.000000</td>\n",
              "      <td>210.720000</td>\n",
              "      <td>4.390000</td>\n",
              "    </tr>\n",
              "    <tr>\n",
              "      <th>...</th>\n",
              "      <td>...</td>\n",
              "      <td>...</td>\n",
              "      <td>...</td>\n",
              "      <td>...</td>\n",
              "      <td>...</td>\n",
              "      <td>...</td>\n",
              "      <td>...</td>\n",
              "    </tr>\n",
              "    <tr>\n",
              "      <th>2021-03-30 23:56:00</th>\n",
              "      <td>58714.31</td>\n",
              "      <td>58714.31</td>\n",
              "      <td>58686.00</td>\n",
              "      <td>58686.00</td>\n",
              "      <td>1.384487</td>\n",
              "      <td>81259.372187</td>\n",
              "      <td>58692.753339</td>\n",
              "    </tr>\n",
              "    <tr>\n",
              "      <th>2021-03-30 23:57:00</th>\n",
              "      <td>58683.97</td>\n",
              "      <td>58693.43</td>\n",
              "      <td>58683.97</td>\n",
              "      <td>58685.81</td>\n",
              "      <td>7.294848</td>\n",
              "      <td>428158.146640</td>\n",
              "      <td>58693.226508</td>\n",
              "    </tr>\n",
              "    <tr>\n",
              "      <th>2021-03-30 23:58:00</th>\n",
              "      <td>58693.43</td>\n",
              "      <td>58723.84</td>\n",
              "      <td>58693.43</td>\n",
              "      <td>58723.84</td>\n",
              "      <td>1.705682</td>\n",
              "      <td>100117.070370</td>\n",
              "      <td>58696.198496</td>\n",
              "    </tr>\n",
              "    <tr>\n",
              "      <th>2021-03-30 23:59:00</th>\n",
              "      <td>58742.18</td>\n",
              "      <td>58770.38</td>\n",
              "      <td>58742.18</td>\n",
              "      <td>58760.59</td>\n",
              "      <td>0.720415</td>\n",
              "      <td>42332.958633</td>\n",
              "      <td>58761.866202</td>\n",
              "    </tr>\n",
              "    <tr>\n",
              "      <th>2021-03-31 00:00:00</th>\n",
              "      <td>58767.75</td>\n",
              "      <td>58778.18</td>\n",
              "      <td>58755.97</td>\n",
              "      <td>58778.18</td>\n",
              "      <td>2.712831</td>\n",
              "      <td>159417.751000</td>\n",
              "      <td>58764.349363</td>\n",
              "    </tr>\n",
              "  </tbody>\n",
              "</table>\n",
              "<p>4863849 rows × 7 columns</p>\n",
              "</div>"
            ],
            "text/plain": [
              "                         Open      High  ...  Volume_(Currency)  Weighted_Price\n",
              "Timestamp                                ...                                   \n",
              "2011-12-31 07:52:00      4.39      4.39  ...           2.000000        4.390000\n",
              "2011-12-31 07:53:00      4.39      4.39  ...         210.720000        4.390000\n",
              "2011-12-31 07:54:00      4.39      4.39  ...         210.720000        4.390000\n",
              "2011-12-31 07:55:00      4.39      4.39  ...         210.720000        4.390000\n",
              "2011-12-31 07:56:00      4.39      4.39  ...         210.720000        4.390000\n",
              "...                       ...       ...  ...                ...             ...\n",
              "2021-03-30 23:56:00  58714.31  58714.31  ...       81259.372187    58692.753339\n",
              "2021-03-30 23:57:00  58683.97  58693.43  ...      428158.146640    58693.226508\n",
              "2021-03-30 23:58:00  58693.43  58723.84  ...      100117.070370    58696.198496\n",
              "2021-03-30 23:59:00  58742.18  58770.38  ...       42332.958633    58761.866202\n",
              "2021-03-31 00:00:00  58767.75  58778.18  ...      159417.751000    58764.349363\n",
              "\n",
              "[4863849 rows x 7 columns]"
            ]
          },
          "metadata": {
            "tags": []
          },
          "execution_count": 9
        }
      ]
    },
    {
      "cell_type": "markdown",
      "metadata": {
        "id": "v05rWWccJI26"
      },
      "source": [
        "**4. Affichage des données**"
      ]
    },
    {
      "cell_type": "code",
      "metadata": {
        "colab": {
          "base_uri": "https://localhost:8080/",
          "height": 353
        },
        "id": "T1QKMBThNQni",
        "outputId": "678d7665-0df1-4812-ec46-59f4918f96e9"
      },
      "source": [
        "# Récupère les prix à l'ouverture et les index au format date\n",
        "prix_ouverture = np.asarray(serie_minute.Open)\n",
        "dates_ouverture = np.asarray(serie_minute.index)\n",
        "\n",
        "# Affiche la série\n",
        "plt.figure(figsize=(15,5))\n",
        "plt.plot(dates_ouverture, prix_ouverture)\n",
        "plt.title(\"Evolution du prix du BTC\")"
      ],
      "execution_count": 10,
      "outputs": [
        {
          "output_type": "execute_result",
          "data": {
            "text/plain": [
              "Text(0.5, 1.0, 'Evolution du prix du BTC')"
            ]
          },
          "metadata": {
            "tags": []
          },
          "execution_count": 10
        },
        {
          "output_type": "display_data",
          "data": {
            "image/png": "[encoded data removed]",
            "text/plain": [
              "<Figure size 1080x360 with 1 Axes>"
            ]
          },
          "metadata": {
            "tags": [],
            "needs_background": "light"
          }
        }
      ]
    },
    {
      "cell_type": "markdown",
      "metadata": {
        "id": "zU7u1mA1E6jk"
      },
      "source": [
        "# Préparation des données pour les prédictions"
      ]
    },
    {
      "cell_type": "markdown",
      "metadata": {
        "id": "UhIs2GS7vu8k"
      },
      "source": [
        "Nous allons réaliser des modélisations sur la série journalière, et pour une période allant du 1er avril 2013 au 31 mars 2021."
      ]
    },
    {
      "cell_type": "markdown",
      "metadata": {
        "id": "jeKrafzHv9gd"
      },
      "source": [
        "**1. Création de la série journalière**"
      ]
    },
    {
      "cell_type": "markdown",
      "metadata": {
        "id": "ZUlNO0pswBpr"
      },
      "source": [
        "On va réaliser des prédictions à l'aide d'une série à fréquence journalière. On commence par tenter d'estimer les données manquantes à l'aide d'une interpolation linéaire à l'aide de la fonction [interpolate](https://pandas.pydata.org/docs/reference/api/pandas.Series.interpolate.html#pandas.Series.interpolate) de Pandas, puis on complète avec la méthode `backfill` si nécessaire."
      ]
    },
    {
      "cell_type": "code",
      "metadata": {
        "id": "ir4BkaUtuiXX",
        "colab": {
          "base_uri": "https://localhost:8080/",
          "height": 463
        },
        "outputId": "ec996a9b-2d19-40e1-e0a4-e15b9fedce44"
      },
      "source": [
        "# Echantillonne la série sur 1 jour\n",
        "serie_jour = serie.set_index('Timestamp').resample('1D').asfreq()\n",
        "\n",
        "# Remplissage des données non numériques par interpolation linéraire\n",
        "serie_jour = serie_jour.interpolate(method=\"slinear\")\n",
        "\n",
        "# Remplissage des données non numériques restantes par backfill\n",
        "serie_jour = serie_jour.fillna(method=\"backfill\")\n",
        "\n",
        "# Affiche les informations\n",
        "data_manquantes = sum(np.isnan(serie_jour['Open']))\n",
        "print (\"Nombre de données manquantes : %s\" %data_manquantes)\n",
        "serie_jour"
      ],
      "execution_count": 11,
      "outputs": [
        {
          "output_type": "stream",
          "text": [
            "Nombre de données manquantes : 0\n"
          ],
          "name": "stdout"
        },
        {
          "output_type": "execute_result",
          "data": {
            "text/html": [
              "<div>\n",
              "<style scoped>\n",
              "    .dataframe tbody tr th:only-of-type {\n",
              "        vertical-align: middle;\n",
              "    }\n",
              "\n",
              "    .dataframe tbody tr th {\n",
              "        vertical-align: top;\n",
              "    }\n",
              "\n",
              "    .dataframe thead th {\n",
              "        text-align: right;\n",
              "    }\n",
              "</style>\n",
              "<table border=\"1\" class=\"dataframe\">\n",
              "  <thead>\n",
              "    <tr style=\"text-align: right;\">\n",
              "      <th></th>\n",
              "      <th>Open</th>\n",
              "      <th>High</th>\n",
              "      <th>Low</th>\n",
              "      <th>Close</th>\n",
              "      <th>Volume_(BTC)</th>\n",
              "      <th>Volume_(Currency)</th>\n",
              "      <th>Weighted_Price</th>\n",
              "    </tr>\n",
              "    <tr>\n",
              "      <th>Timestamp</th>\n",
              "      <th></th>\n",
              "      <th></th>\n",
              "      <th></th>\n",
              "      <th></th>\n",
              "      <th></th>\n",
              "      <th></th>\n",
              "      <th></th>\n",
              "    </tr>\n",
              "  </thead>\n",
              "  <tbody>\n",
              "    <tr>\n",
              "      <th>2011-12-31</th>\n",
              "      <td>4.93</td>\n",
              "      <td>4.93</td>\n",
              "      <td>4.93</td>\n",
              "      <td>4.93</td>\n",
              "      <td>6.110463</td>\n",
              "      <td>30.124582</td>\n",
              "      <td>4.930000</td>\n",
              "    </tr>\n",
              "    <tr>\n",
              "      <th>2012-01-01</th>\n",
              "      <td>4.93</td>\n",
              "      <td>4.93</td>\n",
              "      <td>4.93</td>\n",
              "      <td>4.93</td>\n",
              "      <td>6.110463</td>\n",
              "      <td>30.124582</td>\n",
              "      <td>4.930000</td>\n",
              "    </tr>\n",
              "    <tr>\n",
              "      <th>2012-01-02</th>\n",
              "      <td>4.93</td>\n",
              "      <td>4.93</td>\n",
              "      <td>4.93</td>\n",
              "      <td>4.93</td>\n",
              "      <td>6.110463</td>\n",
              "      <td>30.124582</td>\n",
              "      <td>4.930000</td>\n",
              "    </tr>\n",
              "    <tr>\n",
              "      <th>2012-01-03</th>\n",
              "      <td>4.93</td>\n",
              "      <td>4.93</td>\n",
              "      <td>4.93</td>\n",
              "      <td>4.93</td>\n",
              "      <td>6.110463</td>\n",
              "      <td>30.124582</td>\n",
              "      <td>4.930000</td>\n",
              "    </tr>\n",
              "    <tr>\n",
              "      <th>2012-01-04</th>\n",
              "      <td>4.93</td>\n",
              "      <td>4.93</td>\n",
              "      <td>4.93</td>\n",
              "      <td>4.93</td>\n",
              "      <td>6.110463</td>\n",
              "      <td>30.124582</td>\n",
              "      <td>4.930000</td>\n",
              "    </tr>\n",
              "    <tr>\n",
              "      <th>...</th>\n",
              "      <td>...</td>\n",
              "      <td>...</td>\n",
              "      <td>...</td>\n",
              "      <td>...</td>\n",
              "      <td>...</td>\n",
              "      <td>...</td>\n",
              "      <td>...</td>\n",
              "    </tr>\n",
              "    <tr>\n",
              "      <th>2021-03-27</th>\n",
              "      <td>55081.26</td>\n",
              "      <td>55300.00</td>\n",
              "      <td>55081.26</td>\n",
              "      <td>55261.73</td>\n",
              "      <td>8.781130</td>\n",
              "      <td>484506.899450</td>\n",
              "      <td>55175.914921</td>\n",
              "    </tr>\n",
              "    <tr>\n",
              "      <th>2021-03-28</th>\n",
              "      <td>55817.85</td>\n",
              "      <td>55920.82</td>\n",
              "      <td>55807.12</td>\n",
              "      <td>55920.82</td>\n",
              "      <td>0.770004</td>\n",
              "      <td>43011.953916</td>\n",
              "      <td>55859.414172</td>\n",
              "    </tr>\n",
              "    <tr>\n",
              "      <th>2021-03-29</th>\n",
              "      <td>55790.28</td>\n",
              "      <td>55822.98</td>\n",
              "      <td>55777.98</td>\n",
              "      <td>55804.36</td>\n",
              "      <td>1.731449</td>\n",
              "      <td>96636.546983</td>\n",
              "      <td>55812.518695</td>\n",
              "    </tr>\n",
              "    <tr>\n",
              "      <th>2021-03-30</th>\n",
              "      <td>57623.66</td>\n",
              "      <td>57670.58</td>\n",
              "      <td>57604.30</td>\n",
              "      <td>57670.58</td>\n",
              "      <td>4.961638</td>\n",
              "      <td>285963.732560</td>\n",
              "      <td>57634.946721</td>\n",
              "    </tr>\n",
              "    <tr>\n",
              "      <th>2021-03-31</th>\n",
              "      <td>58767.75</td>\n",
              "      <td>58778.18</td>\n",
              "      <td>58755.97</td>\n",
              "      <td>58778.18</td>\n",
              "      <td>2.712831</td>\n",
              "      <td>159417.751000</td>\n",
              "      <td>58764.349363</td>\n",
              "    </tr>\n",
              "  </tbody>\n",
              "</table>\n",
              "<p>3379 rows × 7 columns</p>\n",
              "</div>"
            ],
            "text/plain": [
              "                Open      High  ...  Volume_(Currency)  Weighted_Price\n",
              "Timestamp                       ...                                   \n",
              "2011-12-31      4.93      4.93  ...          30.124582        4.930000\n",
              "2012-01-01      4.93      4.93  ...          30.124582        4.930000\n",
              "2012-01-02      4.93      4.93  ...          30.124582        4.930000\n",
              "2012-01-03      4.93      4.93  ...          30.124582        4.930000\n",
              "2012-01-04      4.93      4.93  ...          30.124582        4.930000\n",
              "...              ...       ...  ...                ...             ...\n",
              "2021-03-27  55081.26  55300.00  ...      484506.899450    55175.914921\n",
              "2021-03-28  55817.85  55920.82  ...       43011.953916    55859.414172\n",
              "2021-03-29  55790.28  55822.98  ...       96636.546983    55812.518695\n",
              "2021-03-30  57623.66  57670.58  ...      285963.732560    57634.946721\n",
              "2021-03-31  58767.75  58778.18  ...      159417.751000    58764.349363\n",
              "\n",
              "[3379 rows x 7 columns]"
            ]
          },
          "metadata": {
            "tags": []
          },
          "execution_count": 11
        }
      ]
    },
    {
      "cell_type": "markdown",
      "metadata": {
        "id": "JlvU2zaJ2QYG"
      },
      "source": [
        "Sauvegarde de l'évolution du prix sur l'intervalle d'étude dans un vecteur de type numpy :"
      ]
    },
    {
      "cell_type": "code",
      "metadata": {
        "id": "VAzh7O6WlLXM"
      },
      "source": [
        "# Définition des dates de début et de fin\n",
        "\n",
        "date_debut = \"2013-04-01 00:00:00\"\n",
        "date_fin = \"2021-03-31 00:00:00\"\n",
        "\n",
        "# Sauvegarde du prix et des dates lors de l'ouverture des marchés dans un array numpy\n",
        "prix_ouverture = serie_jour.loc[date_debut:date_fin].Open\n",
        "dates_ouverture = serie_jour.loc[date_debut:date_fin].index"
      ],
      "execution_count": 154,
      "outputs": []
    },
    {
      "cell_type": "code",
      "metadata": {
        "id": "IQpi7T-lilAK",
        "outputId": "c4b9226a-8bb7-407b-da82-ea2a0d139da0",
        "colab": {
          "base_uri": "https://localhost:8080/"
        }
      },
      "source": [
        "prix_ouverture"
      ],
      "execution_count": 155,
      "outputs": [
        {
          "output_type": "execute_result",
          "data": {
            "text/plain": [
              "Timestamp\n",
              "2013-04-01       99.525714\n",
              "2013-04-02      103.730000\n",
              "2013-04-03      116.000000\n",
              "2013-04-04      133.870000\n",
              "2013-04-05      134.670000\n",
              "                  ...     \n",
              "2021-03-27    55081.260000\n",
              "2021-03-28    55817.850000\n",
              "2021-03-29    55790.280000\n",
              "2021-03-30    57623.660000\n",
              "2021-03-31    58767.750000\n",
              "Freq: D, Name: Open, Length: 2922, dtype: float64"
            ]
          },
          "metadata": {
            "tags": []
          },
          "execution_count": 155
        }
      ]
    },
    {
      "cell_type": "markdown",
      "metadata": {
        "id": "fwOeFLtLSPnv"
      },
      "source": [
        "**2. Détection des anomalies dans la série \"jour\"**"
      ]
    },
    {
      "cell_type": "markdown",
      "metadata": {
        "id": "Y1joYv2Kd7Js"
      },
      "source": [
        "Les anomalies sont fréquentes dans les séries temporelles, et la performance des prédictions est souvent améliorée lorsque ces anomalies sont traitées.  \n",
        "Pour avoir un apperçu de ces éventuelles anomalies, nous allons utiliser la méthode [\"Isolation Forest\"](https://scikit-learn.org/stable/modules/outlier_detection.html#isolation-forest) disponnible dans Scikit-learn.  \n",
        "\n",
        "Les paramètres utilisés sont les suivants :\n",
        " - **n_estimators** : C'est le nombre de sous-groupes d'échantillons à utiliser. Une valeur de 128 ou 256 est préconnisée dans le document de recherche.\n",
        " - **max_samples** : C'est le nombre d'échantillons maximum à utiliser. Nous utiliserons l'ensemble des échantillons.\n",
        " - **max_features** :  C'est le nombre de motifs aléatoirement choisis sur chaque noeud de l'arbre. Nous choisirons un seul motif.\n",
        " - **contamination** : C'est le pourcentage estimé d'anomalies dans les données. Ce paramètre permet de régler la sensibilité de l'algorithme. On va commencer avec 5% et affiner si nécessaire par la suite."
      ]
    },
    {
      "cell_type": "code",
      "metadata": {
        "id": "nXPqbkc6d4dZ",
        "colab": {
          "base_uri": "https://localhost:8080/"
        },
        "outputId": "e20ef2f2-1dcc-49df-e4e5-71b3f5830eb9"
      },
      "source": [
        "# Initialise le modèle\n",
        "from sklearn.ensemble import IsolationForest\n",
        "\n",
        "clf = IsolationForest(n_estimators=256,max_samples=len(prix_ouverture), contamination=0.05,max_features=1, verbose=1)\n",
        "clf.fit(np.reshape(np.asarray(prix_ouverture,dtype=np.float32),newshape=(-1,1)))"
      ],
      "execution_count": null,
      "outputs": [
        {
          "output_type": "stream",
          "text": [
            "[Parallel(n_jobs=1)]: Using backend SequentialBackend with 1 concurrent workers.\n",
            "[Parallel(n_jobs=1)]: Done   1 out of   1 | elapsed:    0.5s finished\n"
          ],
          "name": "stderr"
        },
        {
          "output_type": "execute_result",
          "data": {
            "text/plain": [
              "IsolationForest(behaviour='deprecated', bootstrap=False, contamination=0.05,\n",
              "                max_features=1, max_samples=2922, n_estimators=256, n_jobs=None,\n",
              "                random_state=None, verbose=1, warm_start=False)"
            ]
          },
          "metadata": {
            "tags": []
          },
          "execution_count": 15
        }
      ]
    },
    {
      "cell_type": "code",
      "metadata": {
        "id": "HAPFfAaffb4h",
        "colab": {
          "base_uri": "https://localhost:8080/"
        },
        "outputId": "a5c9bcdc-6627-465d-805a-91a3112fe34c"
      },
      "source": [
        "# Réalise les prédictions\n",
        "pred = clf.predict(np.reshape(np.asarray(prix_ouverture,dtype=np.float32),newshape=(-1,1)))\n",
        "pred"
      ],
      "execution_count": null,
      "outputs": [
        {
          "output_type": "execute_result",
          "data": {
            "text/plain": [
              "array([ 1,  1,  1, ..., -1, -1, -1])"
            ]
          },
          "metadata": {
            "tags": []
          },
          "execution_count": 16
        }
      ]
    },
    {
      "cell_type": "markdown",
      "metadata": {
        "id": "OU0TN1UEBqR2"
      },
      "source": [
        "On ajoute maintenant ces informations dans la série journalière et on affiche les informations :"
      ]
    },
    {
      "cell_type": "code",
      "metadata": {
        "id": "IWg0uUb9G5Ws",
        "colab": {
          "base_uri": "https://localhost:8080/",
          "height": 446
        },
        "outputId": "38c2f1a3-f2ab-4f9f-d546-4673bbcab65e"
      },
      "source": [
        "# Ajoute une colonne \"Anomalie\" dans la série\n",
        "serie_jour.loc[date_debut:date_fin,'Anomalies']=pred\n",
        "serie_jour['Anomalies'] = serie_jour['Anomalies'].apply(lambda x: 1 if (x==-1) else 0)\n",
        "serie_jour.loc[date_debut:date_fin]"
      ],
      "execution_count": null,
      "outputs": [
        {
          "output_type": "execute_result",
          "data": {
            "text/html": [
              "<div>\n",
              "<style scoped>\n",
              "    .dataframe tbody tr th:only-of-type {\n",
              "        vertical-align: middle;\n",
              "    }\n",
              "\n",
              "    .dataframe tbody tr th {\n",
              "        vertical-align: top;\n",
              "    }\n",
              "\n",
              "    .dataframe thead th {\n",
              "        text-align: right;\n",
              "    }\n",
              "</style>\n",
              "<table border=\"1\" class=\"dataframe\">\n",
              "  <thead>\n",
              "    <tr style=\"text-align: right;\">\n",
              "      <th></th>\n",
              "      <th>Open</th>\n",
              "      <th>High</th>\n",
              "      <th>Low</th>\n",
              "      <th>Close</th>\n",
              "      <th>Volume_(BTC)</th>\n",
              "      <th>Volume_(Currency)</th>\n",
              "      <th>Weighted_Price</th>\n",
              "      <th>Anomalies</th>\n",
              "    </tr>\n",
              "    <tr>\n",
              "      <th>Timestamp</th>\n",
              "      <th></th>\n",
              "      <th></th>\n",
              "      <th></th>\n",
              "      <th></th>\n",
              "      <th></th>\n",
              "      <th></th>\n",
              "      <th></th>\n",
              "      <th></th>\n",
              "    </tr>\n",
              "  </thead>\n",
              "  <tbody>\n",
              "    <tr>\n",
              "      <th>2013-04-01</th>\n",
              "      <td>99.525714</td>\n",
              "      <td>99.525714</td>\n",
              "      <td>99.525714</td>\n",
              "      <td>99.525714</td>\n",
              "      <td>0.155256</td>\n",
              "      <td>11.900373</td>\n",
              "      <td>99.525714</td>\n",
              "      <td>0</td>\n",
              "    </tr>\n",
              "    <tr>\n",
              "      <th>2013-04-02</th>\n",
              "      <td>103.730000</td>\n",
              "      <td>103.730000</td>\n",
              "      <td>103.730000</td>\n",
              "      <td>103.730000</td>\n",
              "      <td>0.014465</td>\n",
              "      <td>1.500435</td>\n",
              "      <td>103.730000</td>\n",
              "      <td>0</td>\n",
              "    </tr>\n",
              "    <tr>\n",
              "      <th>2013-04-03</th>\n",
              "      <td>116.000000</td>\n",
              "      <td>116.000000</td>\n",
              "      <td>116.000000</td>\n",
              "      <td>116.000000</td>\n",
              "      <td>31.713233</td>\n",
              "      <td>3678.735005</td>\n",
              "      <td>116.000000</td>\n",
              "      <td>0</td>\n",
              "    </tr>\n",
              "    <tr>\n",
              "      <th>2013-04-04</th>\n",
              "      <td>133.870000</td>\n",
              "      <td>134.540000</td>\n",
              "      <td>133.870000</td>\n",
              "      <td>134.540000</td>\n",
              "      <td>1.100634</td>\n",
              "      <td>147.497941</td>\n",
              "      <td>134.011742</td>\n",
              "      <td>0</td>\n",
              "    </tr>\n",
              "    <tr>\n",
              "      <th>2013-04-05</th>\n",
              "      <td>134.670000</td>\n",
              "      <td>134.670000</td>\n",
              "      <td>134.670000</td>\n",
              "      <td>134.670000</td>\n",
              "      <td>4.704580</td>\n",
              "      <td>633.565789</td>\n",
              "      <td>134.670000</td>\n",
              "      <td>0</td>\n",
              "    </tr>\n",
              "    <tr>\n",
              "      <th>...</th>\n",
              "      <td>...</td>\n",
              "      <td>...</td>\n",
              "      <td>...</td>\n",
              "      <td>...</td>\n",
              "      <td>...</td>\n",
              "      <td>...</td>\n",
              "      <td>...</td>\n",
              "      <td>...</td>\n",
              "    </tr>\n",
              "    <tr>\n",
              "      <th>2021-03-27</th>\n",
              "      <td>55081.260000</td>\n",
              "      <td>55300.000000</td>\n",
              "      <td>55081.260000</td>\n",
              "      <td>55261.730000</td>\n",
              "      <td>8.781130</td>\n",
              "      <td>484506.899450</td>\n",
              "      <td>55175.914921</td>\n",
              "      <td>1</td>\n",
              "    </tr>\n",
              "    <tr>\n",
              "      <th>2021-03-28</th>\n",
              "      <td>55817.850000</td>\n",
              "      <td>55920.820000</td>\n",
              "      <td>55807.120000</td>\n",
              "      <td>55920.820000</td>\n",
              "      <td>0.770004</td>\n",
              "      <td>43011.953916</td>\n",
              "      <td>55859.414172</td>\n",
              "      <td>1</td>\n",
              "    </tr>\n",
              "    <tr>\n",
              "      <th>2021-03-29</th>\n",
              "      <td>55790.280000</td>\n",
              "      <td>55822.980000</td>\n",
              "      <td>55777.980000</td>\n",
              "      <td>55804.360000</td>\n",
              "      <td>1.731449</td>\n",
              "      <td>96636.546983</td>\n",
              "      <td>55812.518695</td>\n",
              "      <td>1</td>\n",
              "    </tr>\n",
              "    <tr>\n",
              "      <th>2021-03-30</th>\n",
              "      <td>57623.660000</td>\n",
              "      <td>57670.580000</td>\n",
              "      <td>57604.300000</td>\n",
              "      <td>57670.580000</td>\n",
              "      <td>4.961638</td>\n",
              "      <td>285963.732560</td>\n",
              "      <td>57634.946721</td>\n",
              "      <td>1</td>\n",
              "    </tr>\n",
              "    <tr>\n",
              "      <th>2021-03-31</th>\n",
              "      <td>58767.750000</td>\n",
              "      <td>58778.180000</td>\n",
              "      <td>58755.970000</td>\n",
              "      <td>58778.180000</td>\n",
              "      <td>2.712831</td>\n",
              "      <td>159417.751000</td>\n",
              "      <td>58764.349363</td>\n",
              "      <td>1</td>\n",
              "    </tr>\n",
              "  </tbody>\n",
              "</table>\n",
              "<p>2922 rows × 8 columns</p>\n",
              "</div>"
            ],
            "text/plain": [
              "                    Open          High  ...  Weighted_Price  Anomalies\n",
              "Timestamp                               ...                           \n",
              "2013-04-01     99.525714     99.525714  ...       99.525714          0\n",
              "2013-04-02    103.730000    103.730000  ...      103.730000          0\n",
              "2013-04-03    116.000000    116.000000  ...      116.000000          0\n",
              "2013-04-04    133.870000    134.540000  ...      134.011742          0\n",
              "2013-04-05    134.670000    134.670000  ...      134.670000          0\n",
              "...                  ...           ...  ...             ...        ...\n",
              "2021-03-27  55081.260000  55300.000000  ...    55175.914921          1\n",
              "2021-03-28  55817.850000  55920.820000  ...    55859.414172          1\n",
              "2021-03-29  55790.280000  55822.980000  ...    55812.518695          1\n",
              "2021-03-30  57623.660000  57670.580000  ...    57634.946721          1\n",
              "2021-03-31  58767.750000  58778.180000  ...    58764.349363          1\n",
              "\n",
              "[2922 rows x 8 columns]"
            ]
          },
          "metadata": {
            "tags": []
          },
          "execution_count": 17
        }
      ]
    },
    {
      "cell_type": "code",
      "metadata": {
        "id": "105qNoy1EwWd",
        "colab": {
          "base_uri": "https://localhost:8080/"
        },
        "outputId": "50d82015-9930-48f1-9669-553fbbb57d19"
      },
      "source": [
        "# Affiche les informations sur les anomalies\n",
        "print(serie_jour.loc[date_debut:date_fin]['Anomalies'].value_counts())"
      ],
      "execution_count": null,
      "outputs": [
        {
          "output_type": "stream",
          "text": [
            "0    2775\n",
            "1     147\n",
            "Name: Anomalies, dtype: int64\n"
          ],
          "name": "stdout"
        }
      ]
    },
    {
      "cell_type": "markdown",
      "metadata": {
        "id": "HaV_MfJyFXkF"
      },
      "source": [
        "**3. Affichage des anomalies sur le graphique**"
      ]
    },
    {
      "cell_type": "code",
      "metadata": {
        "id": "2idYKYImFh8v",
        "colab": {
          "base_uri": "https://localhost:8080/",
          "height": 542
        },
        "outputId": "cdcd9d93-937c-426e-821e-2c4a664d24d8"
      },
      "source": [
        "# Récupère une tableau numpy comprenant les anomalies\n",
        "anomalies = np.asarray(serie_jour.loc[date_debut:date_fin].Anomalies)\n",
        "\n",
        "# Affiche la série\n",
        "\n",
        "fig = px.line(x=dates_ouverture,y=prix_ouverture,title=\"Evolution du prix du BTC\")\n",
        "fig.add_trace(px.scatter(x=dates_ouverture,y=anomalies*prix_ouverture,color=anomalies.astype(np.bool)).data[0])\n",
        "\n",
        "fig.update_xaxes(rangeslider_visible=True)\n",
        "yaxis=dict(autorange = True,fixedrange= False)\n",
        "fig.update_yaxes(yaxis)\n",
        "fig.show()"
      ],
      "execution_count": null,
      "outputs": [
        {
          "output_type": "display_data",
          "data": {
            "text/html": [
              "<html>\n",
              "<head><meta charset=\"utf-8\" /></head>\n",
              "<body>\n",
              "    <div>\n",
              "            <script src=\"https://cdnjs.cloudflare.com/ajax/libs/mathjax/2.7.5/MathJax.js?config=TeX-AMS-MML_SVG\"></script><script type=\"text/javascript\">if (window.MathJax) {MathJax.Hub.Config({SVG: {font: \"STIX-Web\"}});}</script>\n",
              "                <script type=\"text/javascript\">window.PlotlyConfig = {MathJaxConfig: 'local'};</script>\n",
              "        <script src=\"https://cdn.plot.ly/plotly-latest.min.js\"></script>    \n",
              "            <div id=\"541a411f-26d9-4d0b-a16c-361904f83084\" class=\"plotly-graph-div\" style=\"height:525px; width:100%;\"></div>\n",
              "            <script type=\"text/javascript\">\n",
              "                \n",
              "                    window.PLOTLYENV=window.PLOTLYENV || {};\n",
              "                    \n",
              "                if (document.getElementById(\"541a411f-26d9-4d0b-a16c-361904f83084\")) {\n",
              "                    Plotly.newPlot(\n",
              "                        '541a411f-26d9-4d0b-a16c-361904f83084',\n",
              "                        [{\"hoverlabel\": {\"namelength\": 0}, \"hovertemplate\": \"x=%{x}<br>y=%{y}\", \"legendgroup\": \"\", \"line\": {\"color\": \"#636efa\", \"dash\": \"solid\"}, \"mode\": \"lines\", \"name\": \"\", \"showlegend\": false, \"type\": \"scattergl\", \"x\": [\"2013-04-01T00:00:00\", \"2013-04-02T00:00:00\", \"2013-04-03T00:00:00\", \"2013-04-04T00:00:00\", \"2013-04-05T00:00:00\", \"2013-04-06T00:00:00\", \"2013-04-07T00:00:00\", \"2013-04-08T00:00:00\", \"2013-04-09T00:00:00\", \"2013-04-10T00:00:00\", \"2013-04-11T00:00:00\", \"2013-04-12T00:00:00\", \"2013-04-13T00:00:00\", \"2013-04-14T00:00:00\", \"2013-04-15T00:00:00\", \"2013-04-16T00:00:00\", \"2013-04-17T00:00:00\", \"2013-04-18T00:00:00\", \"2013-04-19T00:00:00\", \"2013-04-20T00:00:00\", \"2013-04-21T00:00:00\", \"2013-04-22T00:00:00\", \"2013-04-23T00:00:00\", \"2013-04-24T00:00:00\", \"2013-04-25T00:00:00\", \"2013-04-26T00:00:00\", \"2013-04-27T00:00:00\", \"2013-04-28T00:00:00\", \"2013-04-29T00:00:00\", \"2013-04-30T00:00:00\", \"2013-05-01T00:00:00\", \"2013-05-02T00:00:00\", \"2013-05-03T00:00:00\", \"2013-05-04T00:00:00\", \"2013-05-05T00:00:00\", \"2013-05-06T00:00:00\", \"2013-05-07T00:00:00\", \"2013-05-08T00:00:00\", \"2013-05-09T00:00:00\", \"2013-05-10T00:00:00\", \"2013-05-11T00:00:00\", \"2013-05-12T00:00:00\", \"2013-05-13T00:00:00\", \"2013-05-14T00:00:00\", \"2013-05-15T00:00:00\", \"2013-05-16T00:00:00\", \"2013-05-17T00:00:00\", \"2013-05-18T00:00:00\", \"2013-05-19T00:00:00\", \"2013-05-20T00:00:00\", \"2013-05-21T00:00:00\", \"2013-05-22T00:00:00\", \"2013-05-23T00:00:00\", \"2013-05-24T00:00:00\", \"2013-05-25T00:00:00\", \"2013-05-26T00:00:00\", \"2013-05-27T00:00:00\", \"2013-05-28T00:00:00\", \"2013-05-29T00:00:00\", \"2013-05-30T00:00:00\", \"2013-05-31T00:00:00\", \"2013-06-01T00:00:00\", \"2013-06-02T00:00:00\", \"2013-06-03T00:00:00\", \"2013-06-04T00:00:00\", \"2013-06-05T00:00:00\", \"2013-06-06T00:00:00\", \"2013-06-07T00:00:00\", \"2013-06-08T00:00:00\", \"2013-06-09T00:00:00\", \"2013-06-10T00:00:00\", \"2013-06-11T00:00:00\", \"2013-06-12T00:00:00\", \"2013-06-13T00:00:00\", \"2013-06-14T00:00:00\", \"2013-06-15T00:00:00\", \"2013-06-16T00:00:00\", \"2013-06-17T00:00:00\", \"2013-06-18T00:00:00\", \"2013-06-19T00:00:00\", \"2013-06-20T00:00:00\", \"2013-06-21T00:00:00\", \"2013-06-22T00:00:00\", \"2013-06-23T00:00:00\", \"2013-06-24T00:00:00\", \"2013-06-25T00:00:00\", \"2013-06-26T00:00:00\", \"2013-06-27T00:00:00\", \"2013-06-28T00:00:00\", \"2013-06-29T00:00:00\", \"2013-06-30T00:00:00\", \"2013-07-01T00:00:00\", \"2013-07-02T00:00:00\", \"2013-07-03T00:00:00\", \"2013-07-04T00:00:00\", \"2013-07-05T00:00:00\", \"2013-07-06T00:00:00\", \"2013-07-07T00:00:00\", \"2013-07-08T00:00:00\", \"2013-07-09T00:00:00\", \"2013-07-10T00:00:00\", \"2013-07-11T00:00:00\", \"2013-07-12T00:00:00\", \"2013-07-13T00:00:00\", \"2013-07-14T00:00:00\", \"2013-07-15T00:00:00\", \"2013-07-16T00:00:00\", \"2013-07-17T00:00:00\", \"2013-07-18T00:00:00\", \"2013-07-19T00:00:00\", \"2013-07-20T00:00:00\", \"2013-07-21T00:00:00\", \"2013-07-22T00:00:00\", \"2013-07-23T00:00:00\", \"2013-07-24T00:00:00\", \"2013-07-25T00:00:00\", \"2013-07-26T00:00:00\", \"2013-07-27T00:00:00\", \"2013-07-28T00:00:00\", \"2013-07-29T00:00:00\", \"2013-07-30T00:00:00\", \"2013-07-31T00:00:00\", \"2013-08-01T00:00:00\", \"2013-08-02T00:00:00\", \"2013-08-03T00:00:00\", \"2013-08-04T00:00:00\", \"2013-08-05T00:00:00\", \"2013-08-06T00:00:00\", \"2013-08-07T00:00:00\", \"2013-08-08T00:00:00\", \"2013-08-09T00:00:00\", \"2013-08-10T00:00:00\", \"2013-08-11T00:00:00\", \"2013-08-12T00:00:00\", \"2013-08-13T00:00:00\", \"2013-08-14T00:00:00\", \"2013-08-15T00:00:00\", \"2013-08-16T00:00:00\", \"2013-08-17T00:00:00\", \"2013-08-18T00:00:00\", \"2013-08-19T00:00:00\", \"2013-08-20T00:00:00\", \"2013-08-21T00:00:00\", \"2013-08-22T00:00:00\", \"2013-08-23T00:00:00\", \"2013-08-24T00:00:00\", \"2013-08-25T00:00:00\", \"2013-08-26T00:00:00\", \"2013-08-27T00:00:00\", \"2013-08-28T00:00:00\", \"2013-08-29T00:00:00\", \"2013-08-30T00:00:00\", \"2013-08-31T00:00:00\", \"2013-09-01T00:00:00\", \"2013-09-02T00:00:00\", \"2013-09-03T00:00:00\", \"2013-09-04T00:00:00\", \"2013-09-05T00:00:00\", \"2013-09-06T00:00:00\", \"2013-09-07T00:00:00\", \"2013-09-08T00:00:00\", \"2013-09-09T00:00:00\", \"2013-09-10T00:00:00\", \"2013-09-11T00:00:00\", \"2013-09-12T00:00:00\", \"2013-09-13T00:00:00\", \"2013-09-14T00:00:00\", \"2013-09-15T00:00:00\", \"2013-09-16T00:00:00\", \"2013-09-17T00:00:00\", \"2013-09-18T00:00:00\", \"2013-09-19T00:00:00\", \"2013-09-20T00:00:00\", \"2013-09-21T00:00:00\", \"2013-09-22T00:00:00\", \"2013-09-23T00:00:00\", \"2013-09-24T00:00:00\", \"2013-09-25T00:00:00\", \"2013-09-26T00:00:00\", \"2013-09-27T00:00:00\", \"2013-09-28T00:00:00\", \"2013-09-29T00:00:00\", \"2013-09-30T00:00:00\", \"2013-10-01T00:00:00\", \"2013-10-02T00:00:00\", \"2013-10-03T00:00:00\", \"2013-10-04T00:00:00\", \"2013-10-05T00:00:00\", \"2013-10-06T00:00:00\", \"2013-10-07T00:00:00\", \"2013-10-08T00:00:00\", \"2013-10-09T00:00:00\", \"2013-10-10T00:00:00\", \"2013-10-11T00:00:00\", \"2013-10-12T00:00:00\", \"2013-10-13T00:00:00\", \"2013-10-14T00:00:00\", \"2013-10-15T00:00:00\", \"2013-10-16T00:00:00\", \"2013-10-17T00:00:00\", \"2013-10-18T00:00:00\", \"2013-10-19T00:00:00\", \"2013-10-20T00:00:00\", \"2013-10-21T00:00:00\", \"2013-10-22T00:00:00\", \"2013-10-23T00:00:00\", \"2013-10-24T00:00:00\", \"2013-10-25T00:00:00\", \"2013-10-26T00:00:00\", \"2013-10-27T00:00:00\", \"2013-10-28T00:00:00\", \"2013-10-29T00:00:00\", \"2013-10-30T00:00:00\", \"2013-10-31T00:00:00\", \"2013-11-01T00:00:00\", \"2013-11-02T00:00:00\", \"2013-11-03T00:00:00\", \"2013-11-04T00:00:00\", \"2013-11-05T00:00:00\", \"2013-11-06T00:00:00\", \"2013-11-07T00:00:00\", \"2013-11-08T00:00:00\", \"2013-11-09T00:00:00\", \"2013-11-10T00:00:00\", \"2013-11-11T00:00:00\", \"2013-11-12T00:00:00\", \"2013-11-13T00:00:00\", \"2013-11-14T00:00:00\", \"2013-11-15T00:00:00\", \"2013-11-16T00:00:00\", \"2013-11-17T00:00:00\", \"2013-11-18T00:00:00\", \"2013-11-19T00:00:00\", \"2013-11-20T00:00:00\", \"2013-11-21T00:00:00\", \"2013-11-22T00:00:00\", \"2013-11-23T00:00:00\", \"2013-11-24T00:00:00\", \"2013-11-25T00:00:00\", \"2013-11-26T00:00:00\", \"2013-11-27T00:00:00\", \"2013-11-28T00:00:00\", \"2013-11-29T00:00:00\", \"2013-11-30T00:00:00\", \"2013-12-01T00:00:00\", \"2013-12-02T00:00:00\", \"2013-12-03T00:00:00\", \"2013-12-04T00:00:00\", \"2013-12-05T00:00:00\", \"2013-12-06T00:00:00\", \"2013-12-07T00:00:00\", \"2013-12-08T00:00:00\", \"2013-12-09T00:00:00\", \"2013-12-10T00:00:00\", \"2013-12-11T00:00:00\", \"2013-12-12T00:00:00\", \"2013-12-13T00:00:00\", \"2013-12-14T00:00:00\", \"2013-12-15T00:00:00\", \"2013-12-16T00:00:00\", \"2013-12-17T00:00:00\", \"2013-12-18T00:00:00\", \"2013-12-19T00:00:00\", \"2013-12-20T00:00:00\", \"2013-12-21T00:00:00\", \"2013-12-22T00:00:00\", \"2013-12-23T00:00:00\", \"2013-12-24T00:00:00\", \"2013-12-25T00:00:00\", \"2013-12-26T00:00:00\", \"2013-12-27T00:00:00\", \"2013-12-28T00:00:00\", \"2013-12-29T00:00:00\", \"2013-12-30T00:00:00\", \"2013-12-31T00:00:00\", \"2014-01-01T00:00:00\", \"2014-01-02T00:00:00\", \"2014-01-03T00:00:00\", \"2014-01-04T00:00:00\", \"2014-01-05T00:00:00\", \"2014-01-06T00:00:00\", \"2014-01-07T00:00:00\", \"2014-01-08T00:00:00\", \"2014-01-09T00:00:00\", \"2014-01-10T00:00:00\", \"2014-01-11T00:00:00\", \"2014-01-12T00:00:00\", \"2014-01-13T00:00:00\", \"2014-01-14T00:00:00\", \"2014-01-15T00:00:00\", \"2014-01-16T00:00:00\", \"2014-01-17T00:00:00\", \"2014-01-18T00:00:00\", \"2014-01-19T00:00:00\", \"2014-01-20T00:00:00\", \"2014-01-21T00:00:00\", \"2014-01-22T00:00:00\", \"2014-01-23T00:00:00\", \"2014-01-24T00:00:00\", \"2014-01-25T00:00:00\", \"2014-01-26T00:00:00\", \"2014-01-27T00:00:00\", \"2014-01-28T00:00:00\", \"2014-01-29T00:00:00\", \"2014-01-30T00:00:00\", \"2014-01-31T00:00:00\", \"2014-02-01T00:00:00\", \"2014-02-02T00:00:00\", \"2014-02-03T00:00:00\", \"2014-02-04T00:00:00\", \"2014-02-05T00:00:00\", \"2014-02-06T00:00:00\", \"2014-02-07T00:00:00\", \"2014-02-08T00:00:00\", \"2014-02-09T00:00:00\", \"2014-02-10T00:00:00\", \"2014-02-11T00:00:00\", \"2014-02-12T00:00:00\", \"2014-02-13T00:00:00\", \"2014-02-14T00:00:00\", \"2014-02-15T00:00:00\", \"2014-02-16T00:00:00\", \"2014-02-17T00:00:00\", \"2014-02-18T00:00:00\", \"2014-02-19T00:00:00\", \"2014-02-20T00:00:00\", \"2014-02-21T00:00:00\", \"2014-02-22T00:00:00\", \"2014-02-23T00:00:00\", \"2014-02-24T00:00:00\", \"2014-02-25T00:00:00\", \"2014-02-26T00:00:00\", \"2014-02-27T00:00:00\", \"2014-02-28T00:00:00\", \"2014-03-01T00:00:00\", \"2014-03-02T00:00:00\", \"2014-03-03T00:00:00\", \"2014-03-04T00:00:00\", \"2014-03-05T00:00:00\", \"2014-03-06T00:00:00\", \"2014-03-07T00:00:00\", \"2014-03-08T00:00:00\", \"2014-03-09T00:00:00\", \"2014-03-10T00:00:00\", \"2014-03-11T00:00:00\", \"2014-03-12T00:00:00\", \"2014-03-13T00:00:00\", \"2014-03-14T00:00:00\", \"2014-03-15T00:00:00\", \"2014-03-16T00:00:00\", \"2014-03-17T00:00:00\", \"2014-03-18T00:00:00\", \"2014-03-19T00:00:00\", \"2014-03-20T00:00:00\", \"2014-03-21T00:00:00\", \"2014-03-22T00:00:00\", \"2014-03-23T00:00:00\", \"2014-03-24T00:00:00\", \"2014-03-25T00:00:00\", \"2014-03-26T00:00:00\", \"2014-03-27T00:00:00\", \"2014-03-28T00:00:00\", \"2014-03-29T00:00:00\", \"2014-03-30T00:00:00\", \"2014-03-31T00:00:00\", \"2014-04-01T00:00:00\", \"2014-04-02T00:00:00\", \"2014-04-03T00:00:00\", \"2014-04-04T00:00:00\", \"2014-04-05T00:00:00\", \"2014-04-06T00:00:00\", \"2014-04-07T00:00:00\", \"2014-04-08T00:00:00\", \"2014-04-09T00:00:00\", \"2014-04-10T00:00:00\", \"2014-04-11T00:00:00\", \"2014-04-12T00:00:00\", \"2014-04-13T00:00:00\", \"2014-04-14T00:00:00\", \"2014-04-15T00:00:00\", \"2014-04-16T00:00:00\", \"2014-04-17T00:00:00\", \"2014-04-18T00:00:00\", \"2014-04-19T00:00:00\", \"2014-04-20T00:00:00\", \"2014-04-21T00:00:00\", \"2014-04-22T00:00:00\", \"2014-04-23T00:00:00\", \"2014-04-24T00:00:00\", \"2014-04-25T00:00:00\", \"2014-04-26T00:00:00\", \"2014-04-27T00:00:00\", \"2014-04-28T00:00:00\", \"2014-04-29T00:00:00\", \"2014-04-30T00:00:00\", \"2014-05-01T00:00:00\", \"2014-05-02T00:00:00\", \"2014-05-03T00:00:00\", \"2014-05-04T00:00:00\", \"2014-05-05T00:00:00\", \"2014-05-06T00:00:00\", \"2014-05-07T00:00:00\", \"2014-05-08T00:00:00\", \"2014-05-09T00:00:00\", \"2014-05-10T00:00:00\", \"2014-05-11T00:00:00\", \"2014-05-12T00:00:00\", \"2014-05-13T00:00:00\", \"2014-05-14T00:00:00\", \"2014-05-15T00:00:00\", \"2014-05-16T00:00:00\", \"2014-05-17T00:00:00\", \"2014-05-18T00:00:00\", \"2014-05-19T00:00:00\", \"2014-05-20T00:00:00\", \"2014-05-21T00:00:00\", \"2014-05-22T00:00:00\", \"2014-05-23T00:00:00\", \"2014-05-24T00:00:00\", \"2014-05-25T00:00:00\", \"2014-05-26T00:00:00\", \"2014-05-27T00:00:00\", \"2014-05-28T00:00:00\", \"2014-05-29T00:00:00\", \"2014-05-30T00:00:00\", \"2014-05-31T00:00:00\", \"2014-06-01T00:00:00\", \"2014-06-02T00:00:00\", \"2014-06-03T00:00:00\", \"2014-06-04T00:00:00\", \"2014-06-05T00:00:00\", \"2014-06-06T00:00:00\", \"2014-06-07T00:00:00\", \"2014-06-08T00:00:00\", \"2014-06-09T00:00:00\", \"2014-06-10T00:00:00\", \"2014-06-11T00:00:00\", \"2014-06-12T00:00:00\", \"2014-06-13T00:00:00\", \"2014-06-14T00:00:00\", \"2014-06-15T00:00:00\", \"2014-06-16T00:00:00\", \"2014-06-17T00:00:00\", \"2014-06-18T00:00:00\", \"2014-06-19T00:00:00\", \"2014-06-20T00:00:00\", \"2014-06-21T00:00:00\", \"2014-06-22T00:00:00\", \"2014-06-23T00:00:00\", \"2014-06-24T00:00:00\", \"2014-06-25T00:00:00\", \"2014-06-26T00:00:00\", \"2014-06-27T00:00:00\", \"2014-06-28T00:00:00\", \"2014-06-29T00:00:00\", \"2014-06-30T00:00:00\", \"2014-07-01T00:00:00\", \"2014-07-02T00:00:00\", \"2014-07-03T00:00:00\", \"2014-07-04T00:00:00\", \"2014-07-05T00:00:00\", \"2014-07-06T00:00:00\", \"2014-07-07T00:00:00\", \"2014-07-08T00:00:00\", \"2014-07-09T00:00:00\", \"2014-07-10T00:00:00\", \"2014-07-11T00:00:00\", \"2014-07-12T00:00:00\", \"2014-07-13T00:00:00\", \"2014-07-14T00:00:00\", \"2014-07-15T00:00:00\", \"2014-07-16T00:00:00\", \"2014-07-17T00:00:00\", \"2014-07-18T00:00:00\", \"2014-07-19T00:00:00\", \"2014-07-20T00:00:00\", \"2014-07-21T00:00:00\", \"2014-07-22T00:00:00\", \"2014-07-23T00:00:00\", \"2014-07-24T00:00:00\", \"2014-07-25T00:00:00\", \"2014-07-26T00:00:00\", \"2014-07-27T00:00:00\", \"2014-07-28T00:00:00\", \"2014-07-29T00:00:00\", \"2014-07-30T00:00:00\", \"2014-07-31T00:00:00\", \"2014-08-01T00:00:00\", \"2014-08-02T00:00:00\", \"2014-08-03T00:00:00\", \"2014-08-04T00:00:00\", \"2014-08-05T00:00:00\", \"2014-08-06T00:00:00\", \"2014-08-07T00:00:00\", \"2014-08-08T00:00:00\", \"2014-08-09T00:00:00\", \"2014-08-10T00:00:00\", \"2014-08-11T00:00:00\", \"2014-08-12T00:00:00\", \"2014-08-13T00:00:00\", \"2014-08-14T00:00:00\", \"2014-08-15T00:00:00\", \"2014-08-16T00:00:00\", \"2014-08-17T00:00:00\", \"2014-08-18T00:00:00\", \"2014-08-19T00:00:00\", \"2014-08-20T00:00:00\", \"2014-08-21T00:00:00\", \"2014-08-22T00:00:00\", \"2014-08-23T00:00:00\", \"2014-08-24T00:00:00\", \"2014-08-25T00:00:00\", \"2014-08-26T00:00:00\", \"2014-08-27T00:00:00\", \"2014-08-28T00:00:00\", \"2014-08-29T00:00:00\", \"2014-08-30T00:00:00\", \"2014-08-31T00:00:00\", \"2014-09-01T00:00:00\", \"2014-09-02T00:00:00\", \"2014-09-03T00:00:00\", \"2014-09-04T00:00:00\", \"2014-09-05T00:00:00\", \"2014-09-06T00:00:00\", \"2014-09-07T00:00:00\", \"2014-09-08T00:00:00\", \"2014-09-09T00:00:00\", \"2014-09-10T00:00:00\", \"2014-09-11T00:00:00\", \"2014-09-12T00:00:00\", \"2014-09-13T00:00:00\", \"2014-09-14T00:00:00\", \"2014-09-15T00:00:00\", \"2014-09-16T00:00:00\", \"2014-09-17T00:00:00\", \"2014-09-18T00:00:00\", \"2014-09-19T00:00:00\", \"2014-09-20T00:00:00\", \"2014-09-21T00:00:00\", \"2014-09-22T00:00:00\", \"2014-09-23T00:00:00\", \"2014-09-24T00:00:00\", \"2014-09-25T00:00:00\", \"2014-09-26T00:00:00\", \"2014-09-27T00:00:00\", \"2014-09-28T00:00:00\", \"2014-09-29T00:00:00\", \"2014-09-30T00:00:00\", \"2014-10-01T00:00:00\", \"2014-10-02T00:00:00\", \"2014-10-03T00:00:00\", \"2014-10-04T00:00:00\", \"2014-10-05T00:00:00\", \"2014-10-06T00:00:00\", \"2014-10-07T00:00:00\", \"2014-10-08T00:00:00\", \"2014-10-09T00:00:00\", \"2014-10-10T00:00:00\", \"2014-10-11T00:00:00\", \"2014-10-12T00:00:00\", \"2014-10-13T00:00:00\", \"2014-10-14T00:00:00\", \"2014-10-15T00:00:00\", \"2014-10-16T00:00:00\", \"2014-10-17T00:00:00\", \"2014-10-18T00:00:00\", \"2014-10-19T00:00:00\", \"2014-10-20T00:00:00\", \"2014-10-21T00:00:00\", \"2014-10-22T00:00:00\", \"2014-10-23T00:00:00\", \"2014-10-24T00:00:00\", \"2014-10-25T00:00:00\", \"2014-10-26T00:00:00\", \"2014-10-27T00:00:00\", \"2014-10-28T00:00:00\", \"2014-10-29T00:00:00\", \"2014-10-30T00:00:00\", \"2014-10-31T00:00:00\", \"2014-11-01T00:00:00\", \"2014-11-02T00:00:00\", \"2014-11-03T00:00:00\", \"2014-11-04T00:00:00\", \"2014-11-05T00:00:00\", \"2014-11-06T00:00:00\", \"2014-11-07T00:00:00\", \"2014-11-08T00:00:00\", \"2014-11-09T00:00:00\", \"2014-11-10T00:00:00\", \"2014-11-11T00:00:00\", \"2014-11-12T00:00:00\", \"2014-11-13T00:00:00\", \"2014-11-14T00:00:00\", \"2014-11-15T00:00:00\", \"2014-11-16T00:00:00\", \"2014-11-17T00:00:00\", \"2014-11-18T00:00:00\", \"2014-11-19T00:00:00\", \"2014-11-20T00:00:00\", \"2014-11-21T00:00:00\", \"2014-11-22T00:00:00\", \"2014-11-23T00:00:00\", \"2014-11-24T00:00:00\", \"2014-11-25T00:00:00\", \"2014-11-26T00:00:00\", \"2014-11-27T00:00:00\", \"2014-11-28T00:00:00\", \"2014-11-29T00:00:00\", \"2014-11-30T00:00:00\", \"2014-12-01T00:00:00\", \"2014-12-02T00:00:00\", \"2014-12-03T00:00:00\", \"2014-12-04T00:00:00\", \"2014-12-05T00:00:00\", \"2014-12-06T00:00:00\", \"2014-12-07T00:00:00\", \"2014-12-08T00:00:00\", \"2014-12-09T00:00:00\", \"2014-12-10T00:00:00\", \"2014-12-11T00:00:00\", \"2014-12-12T00:00:00\", \"2014-12-13T00:00:00\", \"2014-12-14T00:00:00\", \"2014-12-15T00:00:00\", \"2014-12-16T00:00:00\", \"2014-12-17T00:00:00\", \"2014-12-18T00:00:00\", \"2014-12-19T00:00:00\", \"2014-12-20T00:00:00\", \"2014-12-21T00:00:00\", \"2014-12-22T00:00:00\", \"2014-12-23T00:00:00\", \"2014-12-24T00:00:00\", \"2014-12-25T00:00:00\", \"2014-12-26T00:00:00\", \"2014-12-27T00:00:00\", \"2014-12-28T00:00:00\", \"2014-12-29T00:00:00\", \"2014-12-30T00:00:00\", \"2014-12-31T00:00:00\", \"2015-01-01T00:00:00\", \"2015-01-02T00:00:00\", \"2015-01-03T00:00:00\", \"2015-01-04T00:00:00\", \"2015-01-05T00:00:00\", \"2015-01-06T00:00:00\", \"2015-01-07T00:00:00\", \"2015-01-08T00:00:00\", \"2015-01-09T00:00:00\", \"2015-01-10T00:00:00\", \"2015-01-11T00:00:00\", \"2015-01-12T00:00:00\", \"2015-01-13T00:00:00\", \"2015-01-14T00:00:00\", \"2015-01-15T00:00:00\", \"2015-01-16T00:00:00\", \"2015-01-17T00:00:00\", \"2015-01-18T00:00:00\", \"2015-01-19T00:00:00\", \"2015-01-20T00:00:00\", \"2015-01-21T00:00:00\", \"2015-01-22T00:00:00\", \"2015-01-23T00:00:00\", \"2015-01-24T00:00:00\", \"2015-01-25T00:00:00\", \"2015-01-26T00:00:00\", \"2015-01-27T00:00:00\", \"2015-01-28T00:00:00\", \"2015-01-29T00:00:00\", \"2015-01-30T00:00:00\", \"2015-01-31T00:00:00\", \"2015-02-01T00:00:00\", \"2015-02-02T00:00:00\", \"2015-02-03T00:00:00\", \"2015-02-04T00:00:00\", \"2015-02-05T00:00:00\", \"2015-02-06T00:00:00\", \"2015-02-07T00:00:00\", \"2015-02-08T00:00:00\", \"2015-02-09T00:00:00\", \"2015-02-10T00:00:00\", \"2015-02-11T00:00:00\", \"2015-02-12T00:00:00\", \"2015-02-13T00:00:00\", \"2015-02-14T00:00:00\", \"2015-02-15T00:00:00\", \"2015-02-16T00:00:00\", \"2015-02-17T00:00:00\", \"2015-02-18T00:00:00\", \"2015-02-19T00:00:00\", \"2015-02-20T00:00:00\", \"2015-02-21T00:00:00\", \"2015-02-22T00:00:00\", \"2015-02-23T00:00:00\", \"2015-02-24T00:00:00\", \"2015-02-25T00:00:00\", \"2015-02-26T00:00:00\", \"2015-02-27T00:00:00\", \"2015-02-28T00:00:00\", \"2015-03-01T00:00:00\", \"2015-03-02T00:00:00\", \"2015-03-03T00:00:00\", \"2015-03-04T00:00:00\", \"2015-03-05T00:00:00\", \"2015-03-06T00:00:00\", \"2015-03-07T00:00:00\", \"2015-03-08T00:00:00\", \"2015-03-09T00:00:00\", \"2015-03-10T00:00:00\", \"2015-03-11T00:00:00\", \"2015-03-12T00:00:00\", \"2015-03-13T00:00:00\", \"2015-03-14T00:00:00\", \"2015-03-15T00:00:00\", \"2015-03-16T00:00:00\", \"2015-03-17T00:00:00\", \"2015-03-18T00:00:00\", \"2015-03-19T00:00:00\", \"2015-03-20T00:00:00\", \"2015-03-21T00:00:00\", \"2015-03-22T00:00:00\", \"2015-03-23T00:00:00\", \"2015-03-24T00:00:00\", \"2015-03-25T00:00:00\", \"2015-03-26T00:00:00\", \"2015-03-27T00:00:00\", \"2015-03-28T00:00:00\", \"2015-03-29T00:00:00\", \"2015-03-30T00:00:00\", \"2015-03-31T00:00:00\", \"2015-04-01T00:00:00\", \"2015-04-02T00:00:00\", \"2015-04-03T00:00:00\", \"2015-04-04T00:00:00\", \"2015-04-05T00:00:00\", \"2015-04-06T00:00:00\", \"2015-04-07T00:00:00\", \"2015-04-08T00:00:00\", \"2015-04-09T00:00:00\", \"2015-04-10T00:00:00\", \"2015-04-11T00:00:00\", \"2015-04-12T00:00:00\", \"2015-04-13T00:00:00\", \"2015-04-14T00:00:00\", \"2015-04-15T00:00:00\", \"2015-04-16T00:00:00\", \"2015-04-17T00:00:00\", \"2015-04-18T00:00:00\", \"2015-04-19T00:00:00\", \"2015-04-20T00:00:00\", \"2015-04-21T00:00:00\", \"2015-04-22T00:00:00\", \"2015-04-23T00:00:00\", \"2015-04-24T00:00:00\", \"2015-04-25T00:00:00\", \"2015-04-26T00:00:00\", \"2015-04-27T00:00:00\", \"2015-04-28T00:00:00\", \"2015-04-29T00:00:00\", \"2015-04-30T00:00:00\", \"2015-05-01T00:00:00\", \"2015-05-02T00:00:00\", \"2015-05-03T00:00:00\", \"2015-05-04T00:00:00\", \"2015-05-05T00:00:00\", \"2015-05-06T00:00:00\", \"2015-05-07T00:00:00\", \"2015-05-08T00:00:00\", \"2015-05-09T00:00:00\", \"2015-05-10T00:00:00\", \"2015-05-11T00:00:00\", \"2015-05-12T00:00:00\", \"2015-05-13T00:00:00\", \"2015-05-14T00:00:00\", \"2015-05-15T00:00:00\", \"2015-05-16T00:00:00\", \"2015-05-17T00:00:00\", \"2015-05-18T00:00:00\", \"2015-05-19T00:00:00\", \"2015-05-20T00:00:00\", \"2015-05-21T00:00:00\", \"2015-05-22T00:00:00\", \"2015-05-23T00:00:00\", \"2015-05-24T00:00:00\", \"2015-05-25T00:00:00\", \"2015-05-26T00:00:00\", \"2015-05-27T00:00:00\", \"2015-05-28T00:00:00\", \"2015-05-29T00:00:00\", \"2015-05-30T00:00:00\", \"2015-05-31T00:00:00\", \"2015-06-01T00:00:00\", \"2015-06-02T00:00:00\", \"2015-06-03T00:00:00\", \"2015-06-04T00:00:00\", \"2015-06-05T00:00:00\", \"2015-06-06T00:00:00\", \"2015-06-07T00:00:00\", \"2015-06-08T00:00:00\", \"2015-06-09T00:00:00\", \"2015-06-10T00:00:00\", \"2015-06-11T00:00:00\", \"2015-06-12T00:00:00\", \"2015-06-13T00:00:00\", \"2015-06-14T00:00:00\", \"2015-06-15T00:00:00\", \"2015-06-16T00:00:00\", \"2015-06-17T00:00:00\", \"2015-06-18T00:00:00\", \"2015-06-19T00:00:00\", \"2015-06-20T00:00:00\", \"2015-06-21T00:00:00\", \"2015-06-22T00:00:00\", \"2015-06-23T00:00:00\", \"2015-06-24T00:00:00\", \"2015-06-25T00:00:00\", \"2015-06-26T00:00:00\", \"2015-06-27T00:00:00\", \"2015-06-28T00:00:00\", \"2015-06-29T00:00:00\", \"2015-06-30T00:00:00\", \"2015-07-01T00:00:00\", \"2015-07-02T00:00:00\", \"2015-07-03T00:00:00\", \"2015-07-04T00:00:00\", \"2015-07-05T00:00:00\", \"2015-07-06T00:00:00\", \"2015-07-07T00:00:00\", \"2015-07-08T00:00:00\", \"2015-07-09T00:00:00\", \"2015-07-10T00:00:00\", \"2015-07-11T00:00:00\", \"2015-07-12T00:00:00\", \"2015-07-13T00:00:00\", \"2015-07-14T00:00:00\", \"2015-07-15T00:00:00\", \"2015-07-16T00:00:00\", \"2015-07-17T00:00:00\", \"2015-07-18T00:00:00\", \"2015-07-19T00:00:00\", \"2015-07-20T00:00:00\", \"2015-07-21T00:00:00\", \"2015-07-22T00:00:00\", \"2015-07-23T00:00:00\", \"2015-07-24T00:00:00\", \"2015-07-25T00:00:00\", \"2015-07-26T00:00:00\", \"2015-07-27T00:00:00\", \"2015-07-28T00:00:00\", \"2015-07-29T00:00:00\", \"2015-07-30T00:00:00\", \"2015-07-31T00:00:00\", \"2015-08-01T00:00:00\", \"2015-08-02T00:00:00\", \"2015-08-03T00:00:00\", \"2015-08-04T00:00:00\", \"2015-08-05T00:00:00\", \"2015-08-06T00:00:00\", \"2015-08-07T00:00:00\", \"2015-08-08T00:00:00\", \"2015-08-09T00:00:00\", \"2015-08-10T00:00:00\", \"2015-08-11T00:00:00\", \"2015-08-12T00:00:00\", \"2015-08-13T00:00:00\", \"2015-08-14T00:00:00\", \"2015-08-15T00:00:00\", \"2015-08-16T00:00:00\", \"2015-08-17T00:00:00\", \"2015-08-18T00:00:00\", \"2015-08-19T00:00:00\", \"2015-08-20T00:00:00\", \"2015-08-21T00:00:00\", \"2015-08-22T00:00:00\", \"2015-08-23T00:00:00\", \"2015-08-24T00:00:00\", \"2015-08-25T00:00:00\", \"2015-08-26T00:00:00\", \"2015-08-27T00:00:00\", \"2015-08-28T00:00:00\", \"2015-08-29T00:00:00\", \"2015-08-30T00:00:00\", \"2015-08-31T00:00:00\", \"2015-09-01T00:00:00\", \"2015-09-02T00:00:00\", \"2015-09-03T00:00:00\", \"2015-09-04T00:00:00\", \"2015-09-05T00:00:00\", \"2015-09-06T00:00:00\", \"2015-09-07T00:00:00\", \"2015-09-08T00:00:00\", \"2015-09-09T00:00:00\", \"2015-09-10T00:00:00\", \"2015-09-11T00:00:00\", \"2015-09-12T00:00:00\", \"2015-09-13T00:00:00\", \"2015-09-14T00:00:00\", \"2015-09-15T00:00:00\", \"2015-09-16T00:00:00\", \"2015-09-17T00:00:00\", \"2015-09-18T00:00:00\", \"2015-09-19T00:00:00\", \"2015-09-20T00:00:00\", \"2015-09-21T00:00:00\", \"2015-09-22T00:00:00\", \"2015-09-23T00:00:00\", \"2015-09-24T00:00:00\", \"2015-09-25T00:00:00\", \"2015-09-26T00:00:00\", \"2015-09-27T00:00:00\", \"2015-09-28T00:00:00\", \"2015-09-29T00:00:00\", \"2015-09-30T00:00:00\", \"2015-10-01T00:00:00\", \"2015-10-02T00:00:00\", \"2015-10-03T00:00:00\", \"2015-10-04T00:00:00\", \"2015-10-05T00:00:00\", \"2015-10-06T00:00:00\", \"2015-10-07T00:00:00\", \"2015-10-08T00:00:00\", \"2015-10-09T00:00:00\", \"2015-10-10T00:00:00\", \"2015-10-11T00:00:00\", \"2015-10-12T00:00:00\", \"2015-10-13T00:00:00\", \"2015-10-14T00:00:00\", \"2015-10-15T00:00:00\", \"2015-10-16T00:00:00\", \"2015-10-17T00:00:00\", \"2015-10-18T00:00:00\", \"2015-10-19T00:00:00\", \"2015-10-20T00:00:00\", \"2015-10-21T00:00:00\", \"2015-10-22T00:00:00\", \"2015-10-23T00:00:00\", \"2015-10-24T00:00:00\", \"2015-10-25T00:00:00\", \"2015-10-26T00:00:00\", \"2015-10-27T00:00:00\", \"2015-10-28T00:00:00\", \"2015-10-29T00:00:00\", \"2015-10-30T00:00:00\", \"2015-10-31T00:00:00\", \"2015-11-01T00:00:00\", \"2015-11-02T00:00:00\", \"2015-11-03T00:00:00\", \"2015-11-04T00:00:00\", \"2015-11-05T00:00:00\", \"2015-11-06T00:00:00\", \"2015-11-07T00:00:00\", \"2015-11-08T00:00:00\", \"2015-11-09T00:00:00\", \"2015-11-10T00:00:00\", \"2015-11-11T00:00:00\", \"2015-11-12T00:00:00\", \"2015-11-13T00:00:00\", \"2015-11-14T00:00:00\", \"2015-11-15T00:00:00\", \"2015-11-16T00:00:00\", \"2015-11-17T00:00:00\", \"2015-11-18T00:00:00\", \"2015-11-19T00:00:00\", \"2015-11-20T00:00:00\", \"2015-11-21T00:00:00\", \"2015-11-22T00:00:00\", \"2015-11-23T00:00:00\", \"2015-11-24T00:00:00\", \"2015-11-25T00:00:00\", \"2015-11-26T00:00:00\", \"2015-11-27T00:00:00\", \"2015-11-28T00:00:00\", \"2015-11-29T00:00:00\", \"2015-11-30T00:00:00\", \"2015-12-01T00:00:00\", \"2015-12-02T00:00:00\", \"2015-12-03T00:00:00\", \"2015-12-04T00:00:00\", \"2015-12-05T00:00:00\", \"2015-12-06T00:00:00\", \"2015-12-07T00:00:00\", \"2015-12-08T00:00:00\", \"2015-12-09T00:00:00\", \"2015-12-10T00:00:00\", \"2015-12-11T00:00:00\", \"2015-12-12T00:00:00\", \"2015-12-13T00:00:00\", \"2015-12-14T00:00:00\", \"2015-12-15T00:00:00\", \"2015-12-16T00:00:00\", \"2015-12-17T00:00:00\", \"2015-12-18T00:00:00\", \"2015-12-19T00:00:00\", \"2015-12-20T00:00:00\", \"2015-12-21T00:00:00\", \"2015-12-22T00:00:00\", \"2015-12-23T00:00:00\", \"2015-12-24T00:00:00\", \"2015-12-25T00:00:00\", \"2015-12-26T00:00:00\", \"2015-12-27T00:00:00\", \"2015-12-28T00:00:00\", \"2015-12-29T00:00:00\", \"2015-12-30T00:00:00\", \"2015-12-31T00:00:00\", \"2016-01-01T00:00:00\", \"2016-01-02T00:00:00\", \"2016-01-03T00:00:00\", \"2016-01-04T00:00:00\", \"2016-01-05T00:00:00\", \"2016-01-06T00:00:00\", \"2016-01-07T00:00:00\", \"2016-01-08T00:00:00\", \"2016-01-09T00:00:00\", \"2016-01-10T00:00:00\", \"2016-01-11T00:00:00\", \"2016-01-12T00:00:00\", \"2016-01-13T00:00:00\", \"2016-01-14T00:00:00\", \"2016-01-15T00:00:00\", \"2016-01-16T00:00:00\", \"2016-01-17T00:00:00\", \"2016-01-18T00:00:00\", \"2016-01-19T00:00:00\", \"2016-01-20T00:00:00\", \"2016-01-21T00:00:00\", \"2016-01-22T00:00:00\", \"2016-01-23T00:00:00\", \"2016-01-24T00:00:00\", \"2016-01-25T00:00:00\", \"2016-01-26T00:00:00\", \"2016-01-27T00:00:00\", \"2016-01-28T00:00:00\", \"2016-01-29T00:00:00\", \"2016-01-30T00:00:00\", \"2016-01-31T00:00:00\", \"2016-02-01T00:00:00\", \"2016-02-02T00:00:00\", \"2016-02-03T00:00:00\", \"2016-02-04T00:00:00\", \"2016-02-05T00:00:00\", \"2016-02-06T00:00:00\", \"2016-02-07T00:00:00\", \"2016-02-08T00:00:00\", \"2016-02-09T00:00:00\", \"2016-02-10T00:00:00\", \"2016-02-11T00:00:00\", \"2016-02-12T00:00:00\", \"2016-02-13T00:00:00\", \"2016-02-14T00:00:00\", \"2016-02-15T00:00:00\", \"2016-02-16T00:00:00\", \"2016-02-17T00:00:00\", \"2016-02-18T00:00:00\", \"2016-02-19T00:00:00\", \"2016-02-20T00:00:00\", \"2016-02-21T00:00:00\", \"2016-02-22T00:00:00\", \"2016-02-23T00:00:00\", \"2016-02-24T00:00:00\", \"2016-02-25T00:00:00\", \"2016-02-26T00:00:00\", \"2016-02-27T00:00:00\", \"2016-02-28T00:00:00\", \"2016-02-29T00:00:00\", \"2016-03-01T00:00:00\", \"2016-03-02T00:00:00\", \"2016-03-03T00:00:00\", \"2016-03-04T00:00:00\", \"2016-03-05T00:00:00\", \"2016-03-06T00:00:00\", \"2016-03-07T00:00:00\", \"2016-03-08T00:00:00\", \"2016-03-09T00:00:00\", \"2016-03-10T00:00:00\", \"2016-03-11T00:00:00\", \"2016-03-12T00:00:00\", \"2016-03-13T00:00:00\", \"2016-03-14T00:00:00\", \"2016-03-15T00:00:00\", \"2016-03-16T00:00:00\", \"2016-03-17T00:00:00\", \"2016-03-18T00:00:00\", \"2016-03-19T00:00:00\", \"2016-03-20T00:00:00\", \"2016-03-21T00:00:00\", \"2016-03-22T00:00:00\", \"2016-03-23T00:00:00\", \"2016-03-24T00:00:00\", \"2016-03-25T00:00:00\", \"2016-03-26T00:00:00\", \"2016-03-27T00:00:00\", \"2016-03-28T00:00:00\", \"2016-03-29T00:00:00\", \"2016-03-30T00:00:00\", \"2016-03-31T00:00:00\", \"2016-04-01T00:00:00\", \"2016-04-02T00:00:00\", \"2016-04-03T00:00:00\", \"2016-04-04T00:00:00\", \"2016-04-05T00:00:00\", \"2016-04-06T00:00:00\", \"2016-04-07T00:00:00\", \"2016-04-08T00:00:00\", \"2016-04-09T00:00:00\", \"2016-04-10T00:00:00\", \"2016-04-11T00:00:00\", \"2016-04-12T00:00:00\", \"2016-04-13T00:00:00\", \"2016-04-14T00:00:00\", \"2016-04-15T00:00:00\", \"2016-04-16T00:00:00\", \"2016-04-17T00:00:00\", \"2016-04-18T00:00:00\", \"2016-04-19T00:00:00\", \"2016-04-20T00:00:00\", \"2016-04-21T00:00:00\", \"2016-04-22T00:00:00\", \"2016-04-23T00:00:00\", \"2016-04-24T00:00:00\", \"2016-04-25T00:00:00\", \"2016-04-26T00:00:00\", \"2016-04-27T00:00:00\", \"2016-04-28T00:00:00\", \"2016-04-29T00:00:00\", \"2016-04-30T00:00:00\", \"2016-05-01T00:00:00\", \"2016-05-02T00:00:00\", \"2016-05-03T00:00:00\", \"2016-05-04T00:00:00\", \"2016-05-05T00:00:00\", \"2016-05-06T00:00:00\", \"2016-05-07T00:00:00\", \"2016-05-08T00:00:00\", \"2016-05-09T00:00:00\", \"2016-05-10T00:00:00\", \"2016-05-11T00:00:00\", \"2016-05-12T00:00:00\", \"2016-05-13T00:00:00\", \"2016-05-14T00:00:00\", \"2016-05-15T00:00:00\", \"2016-05-16T00:00:00\", \"2016-05-17T00:00:00\", \"2016-05-18T00:00:00\", \"2016-05-19T00:00:00\", \"2016-05-20T00:00:00\", \"2016-05-21T00:00:00\", \"2016-05-22T00:00:00\", \"2016-05-23T00:00:00\", \"2016-05-24T00:00:00\", \"2016-05-25T00:00:00\", \"2016-05-26T00:00:00\", \"2016-05-27T00:00:00\", \"2016-05-28T00:00:00\", \"2016-05-29T00:00:00\", \"2016-05-30T00:00:00\", \"2016-05-31T00:00:00\", \"2016-06-01T00:00:00\", \"2016-06-02T00:00:00\", \"2016-06-03T00:00:00\", \"2016-06-04T00:00:00\", \"2016-06-05T00:00:00\", \"2016-06-06T00:00:00\", \"2016-06-07T00:00:00\", \"2016-06-08T00:00:00\", \"2016-06-09T00:00:00\", \"2016-06-10T00:00:00\", \"2016-06-11T00:00:00\", \"2016-06-12T00:00:00\", \"2016-06-13T00:00:00\", \"2016-06-14T00:00:00\", \"2016-06-15T00:00:00\", \"2016-06-16T00:00:00\", \"2016-06-17T00:00:00\", \"2016-06-18T00:00:00\", \"2016-06-19T00:00:00\", \"2016-06-20T00:00:00\", \"2016-06-21T00:00:00\", \"2016-06-22T00:00:00\", \"2016-06-23T00:00:00\", \"2016-06-24T00:00:00\", \"2016-06-25T00:00:00\", \"2016-06-26T00:00:00\", \"2016-06-27T00:00:00\", \"2016-06-28T00:00:00\", \"2016-06-29T00:00:00\", \"2016-06-30T00:00:00\", \"2016-07-01T00:00:00\", \"2016-07-02T00:00:00\", \"2016-07-03T00:00:00\", \"2016-07-04T00:00:00\", \"2016-07-05T00:00:00\", \"2016-07-06T00:00:00\", \"2016-07-07T00:00:00\", \"2016-07-08T00:00:00\", \"2016-07-09T00:00:00\", \"2016-07-10T00:00:00\", \"2016-07-11T00:00:00\", \"2016-07-12T00:00:00\", \"2016-07-13T00:00:00\", \"2016-07-14T00:00:00\", \"2016-07-15T00:00:00\", \"2016-07-16T00:00:00\", \"2016-07-17T00:00:00\", \"2016-07-18T00:00:00\", \"2016-07-19T00:00:00\", \"2016-07-20T00:00:00\", \"2016-07-21T00:00:00\", \"2016-07-22T00:00:00\", \"2016-07-23T00:00:00\", \"2016-07-24T00:00:00\", \"2016-07-25T00:00:00\", \"2016-07-26T00:00:00\", \"2016-07-27T00:00:00\", \"2016-07-28T00:00:00\", \"2016-07-29T00:00:00\", \"2016-07-30T00:00:00\", \"2016-07-31T00:00:00\", \"2016-08-01T00:00:00\", \"2016-08-02T00:00:00\", \"2016-08-03T00:00:00\", \"2016-08-04T00:00:00\", \"2016-08-05T00:00:00\", \"2016-08-06T00:00:00\", \"2016-08-07T00:00:00\", \"2016-08-08T00:00:00\", \"2016-08-09T00:00:00\", \"2016-08-10T00:00:00\", \"2016-08-11T00:00:00\", \"2016-08-12T00:00:00\", \"2016-08-13T00:00:00\", \"2016-08-14T00:00:00\", \"2016-08-15T00:00:00\", \"2016-08-16T00:00:00\", \"2016-08-17T00:00:00\", \"2016-08-18T00:00:00\", \"2016-08-19T00:00:00\", \"2016-08-20T00:00:00\", \"2016-08-21T00:00:00\", \"2016-08-22T00:00:00\", \"2016-08-23T00:00:00\", \"2016-08-24T00:00:00\", \"2016-08-25T00:00:00\", \"2016-08-26T00:00:00\", \"2016-08-27T00:00:00\", \"2016-08-28T00:00:00\", \"2016-08-29T00:00:00\", \"2016-08-30T00:00:00\", \"2016-08-31T00:00:00\", \"2016-09-01T00:00:00\", \"2016-09-02T00:00:00\", \"2016-09-03T00:00:00\", \"2016-09-04T00:00:00\", \"2016-09-05T00:00:00\", \"2016-09-06T00:00:00\", \"2016-09-07T00:00:00\", \"2016-09-08T00:00:00\", \"2016-09-09T00:00:00\", \"2016-09-10T00:00:00\", \"2016-09-11T00:00:00\", \"2016-09-12T00:00:00\", \"2016-09-13T00:00:00\", \"2016-09-14T00:00:00\", \"2016-09-15T00:00:00\", \"2016-09-16T00:00:00\", \"2016-09-17T00:00:00\", \"2016-09-18T00:00:00\", \"2016-09-19T00:00:00\", \"2016-09-20T00:00:00\", \"2016-09-21T00:00:00\", \"2016-09-22T00:00:00\", \"2016-09-23T00:00:00\", \"2016-09-24T00:00:00\", \"2016-09-25T00:00:00\", \"2016-09-26T00:00:00\", \"2016-09-27T00:00:00\", \"2016-09-28T00:00:00\", \"2016-09-29T00:00:00\", \"2016-09-30T00:00:00\", \"2016-10-01T00:00:00\", \"2016-10-02T00:00:00\", \"2016-10-03T00:00:00\", \"2016-10-04T00:00:00\", \"2016-10-05T00:00:00\", \"2016-10-06T00:00:00\", \"2016-10-07T00:00:00\", \"2016-10-08T00:00:00\", \"2016-10-09T00:00:00\", \"2016-10-10T00:00:00\", \"2016-10-11T00:00:00\", \"2016-10-12T00:00:00\", \"2016-10-13T00:00:00\", \"2016-10-14T00:00:00\", \"2016-10-15T00:00:00\", \"2016-10-16T00:00:00\", \"2016-10-17T00:00:00\", \"2016-10-18T00:00:00\", \"2016-10-19T00:00:00\", \"2016-10-20T00:00:00\", \"2016-10-21T00:00:00\", \"2016-10-22T00:00:00\", \"2016-10-23T00:00:00\", \"2016-10-24T00:00:00\", \"2016-10-25T00:00:00\", \"2016-10-26T00:00:00\", \"2016-10-27T00:00:00\", \"2016-10-28T00:00:00\", \"2016-10-29T00:00:00\", \"2016-10-30T00:00:00\", \"2016-10-31T00:00:00\", \"2016-11-01T00:00:00\", \"2016-11-02T00:00:00\", \"2016-11-03T00:00:00\", \"2016-11-04T00:00:00\", \"2016-11-05T00:00:00\", \"2016-11-06T00:00:00\", \"2016-11-07T00:00:00\", \"2016-11-08T00:00:00\", \"2016-11-09T00:00:00\", \"2016-11-10T00:00:00\", \"2016-11-11T00:00:00\", \"2016-11-12T00:00:00\", \"2016-11-13T00:00:00\", \"2016-11-14T00:00:00\", \"2016-11-15T00:00:00\", \"2016-11-16T00:00:00\", \"2016-11-17T00:00:00\", \"2016-11-18T00:00:00\", \"2016-11-19T00:00:00\", \"2016-11-20T00:00:00\", \"2016-11-21T00:00:00\", \"2016-11-22T00:00:00\", \"2016-11-23T00:00:00\", \"2016-11-24T00:00:00\", \"2016-11-25T00:00:00\", \"2016-11-26T00:00:00\", \"2016-11-27T00:00:00\", \"2016-11-28T00:00:00\", \"2016-11-29T00:00:00\", \"2016-11-30T00:00:00\", \"2016-12-01T00:00:00\", \"2016-12-02T00:00:00\", \"2016-12-03T00:00:00\", \"2016-12-04T00:00:00\", \"2016-12-05T00:00:00\", \"2016-12-06T00:00:00\", \"2016-12-07T00:00:00\", \"2016-12-08T00:00:00\", \"2016-12-09T00:00:00\", \"2016-12-10T00:00:00\", \"2016-12-11T00:00:00\", \"2016-12-12T00:00:00\", \"2016-12-13T00:00:00\", \"2016-12-14T00:00:00\", \"2016-12-15T00:00:00\", \"2016-12-16T00:00:00\", \"2016-12-17T00:00:00\", \"2016-12-18T00:00:00\", \"2016-12-19T00:00:00\", \"2016-12-20T00:00:00\", \"2016-12-21T00:00:00\", \"2016-12-22T00:00:00\", \"2016-12-23T00:00:00\", \"2016-12-24T00:00:00\", \"2016-12-25T00:00:00\", \"2016-12-26T00:00:00\", \"2016-12-27T00:00:00\", \"2016-12-28T00:00:00\", \"2016-12-29T00:00:00\", \"2016-12-30T00:00:00\", \"2016-12-31T00:00:00\", \"2017-01-01T00:00:00\", \"2017-01-02T00:00:00\", \"2017-01-03T00:00:00\", \"2017-01-04T00:00:00\", \"2017-01-05T00:00:00\", \"2017-01-06T00:00:00\", \"2017-01-07T00:00:00\", \"2017-01-08T00:00:00\", \"2017-01-09T00:00:00\", \"2017-01-10T00:00:00\", \"2017-01-11T00:00:00\", \"2017-01-12T00:00:00\", \"2017-01-13T00:00:00\", \"2017-01-14T00:00:00\", \"2017-01-15T00:00:00\", \"2017-01-16T00:00:00\", \"2017-01-17T00:00:00\", \"2017-01-18T00:00:00\", \"2017-01-19T00:00:00\", \"2017-01-20T00:00:00\", \"2017-01-21T00:00:00\", \"2017-01-22T00:00:00\", \"2017-01-23T00:00:00\", \"2017-01-24T00:00:00\", \"2017-01-25T00:00:00\", \"2017-01-26T00:00:00\", \"2017-01-27T00:00:00\", \"2017-01-28T00:00:00\", \"2017-01-29T00:00:00\", \"2017-01-30T00:00:00\", \"2017-01-31T00:00:00\", \"2017-02-01T00:00:00\", \"2017-02-02T00:00:00\", \"2017-02-03T00:00:00\", \"2017-02-04T00:00:00\", \"2017-02-05T00:00:00\", \"2017-02-06T00:00:00\", \"2017-02-07T00:00:00\", \"2017-02-08T00:00:00\", \"2017-02-09T00:00:00\", \"2017-02-10T00:00:00\", \"2017-02-11T00:00:00\", \"2017-02-12T00:00:00\", \"2017-02-13T00:00:00\", \"2017-02-14T00:00:00\", \"2017-02-15T00:00:00\", \"2017-02-16T00:00:00\", \"2017-02-17T00:00:00\", \"2017-02-18T00:00:00\", \"2017-02-19T00:00:00\", \"2017-02-20T00:00:00\", \"2017-02-21T00:00:00\", \"2017-02-22T00:00:00\", \"2017-02-23T00:00:00\", \"2017-02-24T00:00:00\", \"2017-02-25T00:00:00\", \"2017-02-26T00:00:00\", \"2017-02-27T00:00:00\", \"2017-02-28T00:00:00\", \"2017-03-01T00:00:00\", \"2017-03-02T00:00:00\", \"2017-03-03T00:00:00\", \"2017-03-04T00:00:00\", \"2017-03-05T00:00:00\", \"2017-03-06T00:00:00\", \"2017-03-07T00:00:00\", \"2017-03-08T00:00:00\", \"2017-03-09T00:00:00\", \"2017-03-10T00:00:00\", \"2017-03-11T00:00:00\", \"2017-03-12T00:00:00\", \"2017-03-13T00:00:00\", \"2017-03-14T00:00:00\", \"2017-03-15T00:00:00\", \"2017-03-16T00:00:00\", \"2017-03-17T00:00:00\", \"2017-03-18T00:00:00\", \"2017-03-19T00:00:00\", \"2017-03-20T00:00:00\", \"2017-03-21T00:00:00\", \"2017-03-22T00:00:00\", \"2017-03-23T00:00:00\", \"2017-03-24T00:00:00\", \"2017-03-25T00:00:00\", \"2017-03-26T00:00:00\", \"2017-03-27T00:00:00\", \"2017-03-28T00:00:00\", \"2017-03-29T00:00:00\", \"2017-03-30T00:00:00\", \"2017-03-31T00:00:00\", \"2017-04-01T00:00:00\", \"2017-04-02T00:00:00\", \"2017-04-03T00:00:00\", \"2017-04-04T00:00:00\", \"2017-04-05T00:00:00\", \"2017-04-06T00:00:00\", \"2017-04-07T00:00:00\", \"2017-04-08T00:00:00\", \"2017-04-09T00:00:00\", \"2017-04-10T00:00:00\", \"2017-04-11T00:00:00\", \"2017-04-12T00:00:00\", \"2017-04-13T00:00:00\", \"2017-04-14T00:00:00\", \"2017-04-15T00:00:00\", \"2017-04-16T00:00:00\", \"2017-04-17T00:00:00\", \"2017-04-18T00:00:00\", \"2017-04-19T00:00:00\", \"2017-04-20T00:00:00\", \"2017-04-21T00:00:00\", \"2017-04-22T00:00:00\", \"2017-04-23T00:00:00\", \"2017-04-24T00:00:00\", \"2017-04-25T00:00:00\", \"2017-04-26T00:00:00\", \"2017-04-27T00:00:00\", \"2017-04-28T00:00:00\", \"2017-04-29T00:00:00\", \"2017-04-30T00:00:00\", \"2017-05-01T00:00:00\", \"2017-05-02T00:00:00\", \"2017-05-03T00:00:00\", \"2017-05-04T00:00:00\", \"2017-05-05T00:00:00\", \"2017-05-06T00:00:00\", \"2017-05-07T00:00:00\", \"2017-05-08T00:00:00\", \"2017-05-09T00:00:00\", \"2017-05-10T00:00:00\", \"2017-05-11T00:00:00\", \"2017-05-12T00:00:00\", \"2017-05-13T00:00:00\", \"2017-05-14T00:00:00\", \"2017-05-15T00:00:00\", \"2017-05-16T00:00:00\", \"2017-05-17T00:00:00\", \"2017-05-18T00:00:00\", \"2017-05-19T00:00:00\", \"2017-05-20T00:00:00\", \"2017-05-21T00:00:00\", \"2017-05-22T00:00:00\", \"2017-05-23T00:00:00\", \"2017-05-24T00:00:00\", \"2017-05-25T00:00:00\", \"2017-05-26T00:00:00\", \"2017-05-27T00:00:00\", \"2017-05-28T00:00:00\", \"2017-05-29T00:00:00\", \"2017-05-30T00:00:00\", \"2017-05-31T00:00:00\", \"2017-06-01T00:00:00\", \"2017-06-02T00:00:00\", \"2017-06-03T00:00:00\", \"2017-06-04T00:00:00\", \"2017-06-05T00:00:00\", \"2017-06-06T00:00:00\", \"2017-06-07T00:00:00\", \"2017-06-08T00:00:00\", \"2017-06-09T00:00:00\", \"2017-06-10T00:00:00\", \"2017-06-11T00:00:00\", \"2017-06-12T00:00:00\", \"2017-06-13T00:00:00\", \"2017-06-14T00:00:00\", \"2017-06-15T00:00:00\", \"2017-06-16T00:00:00\", \"2017-06-17T00:00:00\", \"2017-06-18T00:00:00\", \"2017-06-19T00:00:00\", \"2017-06-20T00:00:00\", \"2017-06-21T00:00:00\", \"2017-06-22T00:00:00\", \"2017-06-23T00:00:00\", \"2017-06-24T00:00:00\", \"2017-06-25T00:00:00\", \"2017-06-26T00:00:00\", \"2017-06-27T00:00:00\", \"2017-06-28T00:00:00\", \"2017-06-29T00:00:00\", \"2017-06-30T00:00:00\", \"2017-07-01T00:00:00\", \"2017-07-02T00:00:00\", \"2017-07-03T00:00:00\", \"2017-07-04T00:00:00\", \"2017-07-05T00:00:00\", \"2017-07-06T00:00:00\", \"2017-07-07T00:00:00\", \"2017-07-08T00:00:00\", \"2017-07-09T00:00:00\", \"2017-07-10T00:00:00\", \"2017-07-11T00:00:00\", \"2017-07-12T00:00:00\", \"2017-07-13T00:00:00\", \"2017-07-14T00:00:00\", \"2017-07-15T00:00:00\", \"2017-07-16T00:00:00\", \"2017-07-17T00:00:00\", \"2017-07-18T00:00:00\", \"2017-07-19T00:00:00\", \"2017-07-20T00:00:00\", \"2017-07-21T00:00:00\", \"2017-07-22T00:00:00\", \"2017-07-23T00:00:00\", \"2017-07-24T00:00:00\", \"2017-07-25T00:00:00\", \"2017-07-26T00:00:00\", \"2017-07-27T00:00:00\", \"2017-07-28T00:00:00\", \"2017-07-29T00:00:00\", \"2017-07-30T00:00:00\", \"2017-07-31T00:00:00\", \"2017-08-01T00:00:00\", \"2017-08-02T00:00:00\", \"2017-08-03T00:00:00\", \"2017-08-04T00:00:00\", \"2017-08-05T00:00:00\", \"2017-08-06T00:00:00\", \"2017-08-07T00:00:00\", \"2017-08-08T00:00:00\", \"2017-08-09T00:00:00\", \"2017-08-10T00:00:00\", \"2017-08-11T00:00:00\", \"2017-08-12T00:00:00\", \"2017-08-13T00:00:00\", \"2017-08-14T00:00:00\", \"2017-08-15T00:00:00\", \"2017-08-16T00:00:00\", \"2017-08-17T00:00:00\", \"2017-08-18T00:00:00\", \"2017-08-19T00:00:00\", \"2017-08-20T00:00:00\", \"2017-08-21T00:00:00\", \"2017-08-22T00:00:00\", \"2017-08-23T00:00:00\", \"2017-08-24T00:00:00\", \"2017-08-25T00:00:00\", \"2017-08-26T00:00:00\", \"2017-08-27T00:00:00\", \"2017-08-28T00:00:00\", \"2017-08-29T00:00:00\", \"2017-08-30T00:00:00\", \"2017-08-31T00:00:00\", \"2017-09-01T00:00:00\", \"2017-09-02T00:00:00\", \"2017-09-03T00:00:00\", \"2017-09-04T00:00:00\", \"2017-09-05T00:00:00\", \"2017-09-06T00:00:00\", \"2017-09-07T00:00:00\", \"2017-09-08T00:00:00\", \"2017-09-09T00:00:00\", \"2017-09-10T00:00:00\", \"2017-09-11T00:00:00\", \"2017-09-12T00:00:00\", \"2017-09-13T00:00:00\", \"2017-09-14T00:00:00\", \"2017-09-15T00:00:00\", \"2017-09-16T00:00:00\", \"2017-09-17T00:00:00\", \"2017-09-18T00:00:00\", \"2017-09-19T00:00:00\", \"2017-09-20T00:00:00\", \"2017-09-21T00:00:00\", \"2017-09-22T00:00:00\", \"2017-09-23T00:00:00\", \"2017-09-24T00:00:00\", \"2017-09-25T00:00:00\", \"2017-09-26T00:00:00\", \"2017-09-27T00:00:00\", \"2017-09-28T00:00:00\", \"2017-09-29T00:00:00\", \"2017-09-30T00:00:00\", \"2017-10-01T00:00:00\", \"2017-10-02T00:00:00\", \"2017-10-03T00:00:00\", \"2017-10-04T00:00:00\", \"2017-10-05T00:00:00\", \"2017-10-06T00:00:00\", \"2017-10-07T00:00:00\", \"2017-10-08T00:00:00\", \"2017-10-09T00:00:00\", \"2017-10-10T00:00:00\", \"2017-10-11T00:00:00\", \"2017-10-12T00:00:00\", \"2017-10-13T00:00:00\", \"2017-10-14T00:00:00\", \"2017-10-15T00:00:00\", \"2017-10-16T00:00:00\", \"2017-10-17T00:00:00\", \"2017-10-18T00:00:00\", \"2017-10-19T00:00:00\", \"2017-10-20T00:00:00\", \"2017-10-21T00:00:00\", \"2017-10-22T00:00:00\", \"2017-10-23T00:00:00\", \"2017-10-24T00:00:00\", \"2017-10-25T00:00:00\", \"2017-10-26T00:00:00\", \"2017-10-27T00:00:00\", \"2017-10-28T00:00:00\", \"2017-10-29T00:00:00\", \"2017-10-30T00:00:00\", \"2017-10-31T00:00:00\", \"2017-11-01T00:00:00\", \"2017-11-02T00:00:00\", \"2017-11-03T00:00:00\", \"2017-11-04T00:00:00\", \"2017-11-05T00:00:00\", \"2017-11-06T00:00:00\", \"2017-11-07T00:00:00\", \"2017-11-08T00:00:00\", \"2017-11-09T00:00:00\", \"2017-11-10T00:00:00\", \"2017-11-11T00:00:00\", \"2017-11-12T00:00:00\", \"2017-11-13T00:00:00\", \"2017-11-14T00:00:00\", \"2017-11-15T00:00:00\", \"2017-11-16T00:00:00\", \"2017-11-17T00:00:00\", \"2017-11-18T00:00:00\", \"2017-11-19T00:00:00\", \"2017-11-20T00:00:00\", \"2017-11-21T00:00:00\", \"2017-11-22T00:00:00\", \"2017-11-23T00:00:00\", \"2017-11-24T00:00:00\", \"2017-11-25T00:00:00\", \"2017-11-26T00:00:00\", \"2017-11-27T00:00:00\", \"2017-11-28T00:00:00\", \"2017-11-29T00:00:00\", \"2017-11-30T00:00:00\", \"2017-12-01T00:00:00\", \"2017-12-02T00:00:00\", \"2017-12-03T00:00:00\", \"2017-12-04T00:00:00\", \"2017-12-05T00:00:00\", \"2017-12-06T00:00:00\", \"2017-12-07T00:00:00\", \"2017-12-08T00:00:00\", \"2017-12-09T00:00:00\", \"2017-12-10T00:00:00\", \"2017-12-11T00:00:00\", \"2017-12-12T00:00:00\", \"2017-12-13T00:00:00\", \"2017-12-14T00:00:00\", \"2017-12-15T00:00:00\", \"2017-12-16T00:00:00\", \"2017-12-17T00:00:00\", \"2017-12-18T00:00:00\", \"2017-12-19T00:00:00\", \"2017-12-20T00:00:00\", \"2017-12-21T00:00:00\", \"2017-12-22T00:00:00\", \"2017-12-23T00:00:00\", \"2017-12-24T00:00:00\", \"2017-12-25T00:00:00\", \"2017-12-26T00:00:00\", \"2017-12-27T00:00:00\", \"2017-12-28T00:00:00\", \"2017-12-29T00:00:00\", \"2017-12-30T00:00:00\", \"2017-12-31T00:00:00\", \"2018-01-01T00:00:00\", \"2018-01-02T00:00:00\", \"2018-01-03T00:00:00\", \"2018-01-04T00:00:00\", \"2018-01-05T00:00:00\", \"2018-01-06T00:00:00\", \"2018-01-07T00:00:00\", \"2018-01-08T00:00:00\", \"2018-01-09T00:00:00\", \"2018-01-10T00:00:00\", \"2018-01-11T00:00:00\", \"2018-01-12T00:00:00\", \"2018-01-13T00:00:00\", \"2018-01-14T00:00:00\", \"2018-01-15T00:00:00\", \"2018-01-16T00:00:00\", \"2018-01-17T00:00:00\", \"2018-01-18T00:00:00\", \"2018-01-19T00:00:00\", \"2018-01-20T00:00:00\", \"2018-01-21T00:00:00\", \"2018-01-22T00:00:00\", \"2018-01-23T00:00:00\", \"2018-01-24T00:00:00\", \"2018-01-25T00:00:00\", \"2018-01-26T00:00:00\", \"2018-01-27T00:00:00\", \"2018-01-28T00:00:00\", \"2018-01-29T00:00:00\", \"2018-01-30T00:00:00\", \"2018-01-31T00:00:00\", \"2018-02-01T00:00:00\", \"2018-02-02T00:00:00\", \"2018-02-03T00:00:00\", \"2018-02-04T00:00:00\", \"2018-02-05T00:00:00\", \"2018-02-06T00:00:00\", \"2018-02-07T00:00:00\", \"2018-02-08T00:00:00\", \"2018-02-09T00:00:00\", \"2018-02-10T00:00:00\", \"2018-02-11T00:00:00\", \"2018-02-12T00:00:00\", \"2018-02-13T00:00:00\", \"2018-02-14T00:00:00\", \"2018-02-15T00:00:00\", \"2018-02-16T00:00:00\", \"2018-02-17T00:00:00\", \"2018-02-18T00:00:00\", \"2018-02-19T00:00:00\", \"2018-02-20T00:00:00\", \"2018-02-21T00:00:00\", \"2018-02-22T00:00:00\", \"2018-02-23T00:00:00\", \"2018-02-24T00:00:00\", \"2018-02-25T00:00:00\", \"2018-02-26T00:00:00\", \"2018-02-27T00:00:00\", \"2018-02-28T00:00:00\", \"2018-03-01T00:00:00\", \"2018-03-02T00:00:00\", \"2018-03-03T00:00:00\", \"2018-03-04T00:00:00\", \"2018-03-05T00:00:00\", \"2018-03-06T00:00:00\", \"2018-03-07T00:00:00\", \"2018-03-08T00:00:00\", \"2018-03-09T00:00:00\", \"2018-03-10T00:00:00\", \"2018-03-11T00:00:00\", \"2018-03-12T00:00:00\", \"2018-03-13T00:00:00\", \"2018-03-14T00:00:00\", \"2018-03-15T00:00:00\", \"2018-03-16T00:00:00\", \"2018-03-17T00:00:00\", \"2018-03-18T00:00:00\", \"2018-03-19T00:00:00\", \"2018-03-20T00:00:00\", \"2018-03-21T00:00:00\", \"2018-03-22T00:00:00\", \"2018-03-23T00:00:00\", \"2018-03-24T00:00:00\", \"2018-03-25T00:00:00\", \"2018-03-26T00:00:00\", \"2018-03-27T00:00:00\", \"2018-03-28T00:00:00\", \"2018-03-29T00:00:00\", \"2018-03-30T00:00:00\", \"2018-03-31T00:00:00\", \"2018-04-01T00:00:00\", \"2018-04-02T00:00:00\", \"2018-04-03T00:00:00\", \"2018-04-04T00:00:00\", \"2018-04-05T00:00:00\", \"2018-04-06T00:00:00\", \"2018-04-07T00:00:00\", \"2018-04-08T00:00:00\", \"2018-04-09T00:00:00\", \"2018-04-10T00:00:00\", \"2018-04-11T00:00:00\", \"2018-04-12T00:00:00\", \"2018-04-13T00:00:00\", \"2018-04-14T00:00:00\", \"2018-04-15T00:00:00\", \"2018-04-16T00:00:00\", \"2018-04-17T00:00:00\", \"2018-04-18T00:00:00\", \"2018-04-19T00:00:00\", \"2018-04-20T00:00:00\", \"2018-04-21T00:00:00\", \"2018-04-22T00:00:00\", \"2018-04-23T00:00:00\", \"2018-04-24T00:00:00\", \"2018-04-25T00:00:00\", \"2018-04-26T00:00:00\", \"2018-04-27T00:00:00\", \"2018-04-28T00:00:00\", \"2018-04-29T00:00:00\", \"2018-04-30T00:00:00\", \"2018-05-01T00:00:00\", \"2018-05-02T00:00:00\", \"2018-05-03T00:00:00\", \"2018-05-04T00:00:00\", \"2018-05-05T00:00:00\", \"2018-05-06T00:00:00\", \"2018-05-07T00:00:00\", \"2018-05-08T00:00:00\", \"2018-05-09T00:00:00\", \"2018-05-10T00:00:00\", \"2018-05-11T00:00:00\", \"2018-05-12T00:00:00\", \"2018-05-13T00:00:00\", \"2018-05-14T00:00:00\", \"2018-05-15T00:00:00\", \"2018-05-16T00:00:00\", \"2018-05-17T00:00:00\", \"2018-05-18T00:00:00\", \"2018-05-19T00:00:00\", \"2018-05-20T00:00:00\", \"2018-05-21T00:00:00\", \"2018-05-22T00:00:00\", \"2018-05-23T00:00:00\", \"2018-05-24T00:00:00\", \"2018-05-25T00:00:00\", \"2018-05-26T00:00:00\", \"2018-05-27T00:00:00\", \"2018-05-28T00:00:00\", \"2018-05-29T00:00:00\", \"2018-05-30T00:00:00\", \"2018-05-31T00:00:00\", \"2018-06-01T00:00:00\", \"2018-06-02T00:00:00\", \"2018-06-03T00:00:00\", \"2018-06-04T00:00:00\", \"2018-06-05T00:00:00\", \"2018-06-06T00:00:00\", \"2018-06-07T00:00:00\", \"2018-06-08T00:00:00\", \"2018-06-09T00:00:00\", \"2018-06-10T00:00:00\", \"2018-06-11T00:00:00\", \"2018-06-12T00:00:00\", \"2018-06-13T00:00:00\", \"2018-06-14T00:00:00\", \"2018-06-15T00:00:00\", \"2018-06-16T00:00:00\", \"2018-06-17T00:00:00\", \"2018-06-18T00:00:00\", \"2018-06-19T00:00:00\", \"2018-06-20T00:00:00\", \"2018-06-21T00:00:00\", \"2018-06-22T00:00:00\", \"2018-06-23T00:00:00\", \"2018-06-24T00:00:00\", \"2018-06-25T00:00:00\", \"2018-06-26T00:00:00\", \"2018-06-27T00:00:00\", \"2018-06-28T00:00:00\", \"2018-06-29T00:00:00\", \"2018-06-30T00:00:00\", \"2018-07-01T00:00:00\", \"2018-07-02T00:00:00\", \"2018-07-03T00:00:00\", \"2018-07-04T00:00:00\", \"2018-07-05T00:00:00\", \"2018-07-06T00:00:00\", \"2018-07-07T00:00:00\", \"2018-07-08T00:00:00\", \"2018-07-09T00:00:00\", \"2018-07-10T00:00:00\", \"2018-07-11T00:00:00\", \"2018-07-12T00:00:00\", \"2018-07-13T00:00:00\", \"2018-07-14T00:00:00\", \"2018-07-15T00:00:00\", \"2018-07-16T00:00:00\", \"2018-07-17T00:00:00\", \"2018-07-18T00:00:00\", \"2018-07-19T00:00:00\", \"2018-07-20T00:00:00\", \"2018-07-21T00:00:00\", \"2018-07-22T00:00:00\", \"2018-07-23T00:00:00\", \"2018-07-24T00:00:00\", \"2018-07-25T00:00:00\", \"2018-07-26T00:00:00\", \"2018-07-27T00:00:00\", \"2018-07-28T00:00:00\", \"2018-07-29T00:00:00\", \"2018-07-30T00:00:00\", \"2018-07-31T00:00:00\", \"2018-08-01T00:00:00\", \"2018-08-02T00:00:00\", \"2018-08-03T00:00:00\", \"2018-08-04T00:00:00\", \"2018-08-05T00:00:00\", \"2018-08-06T00:00:00\", \"2018-08-07T00:00:00\", \"2018-08-08T00:00:00\", \"2018-08-09T00:00:00\", \"2018-08-10T00:00:00\", \"2018-08-11T00:00:00\", \"2018-08-12T00:00:00\", \"2018-08-13T00:00:00\", \"2018-08-14T00:00:00\", \"2018-08-15T00:00:00\", \"2018-08-16T00:00:00\", \"2018-08-17T00:00:00\", \"2018-08-18T00:00:00\", \"2018-08-19T00:00:00\", \"2018-08-20T00:00:00\", \"2018-08-21T00:00:00\", \"2018-08-22T00:00:00\", \"2018-08-23T00:00:00\", \"2018-08-24T00:00:00\", \"2018-08-25T00:00:00\", \"2018-08-26T00:00:00\", \"2018-08-27T00:00:00\", \"2018-08-28T00:00:00\", \"2018-08-29T00:00:00\", \"2018-08-30T00:00:00\", \"2018-08-31T00:00:00\", \"2018-09-01T00:00:00\", \"2018-09-02T00:00:00\", \"2018-09-03T00:00:00\", \"2018-09-04T00:00:00\", \"2018-09-05T00:00:00\", \"2018-09-06T00:00:00\", \"2018-09-07T00:00:00\", \"2018-09-08T00:00:00\", \"2018-09-09T00:00:00\", \"2018-09-10T00:00:00\", \"2018-09-11T00:00:00\", \"2018-09-12T00:00:00\", \"2018-09-13T00:00:00\", \"2018-09-14T00:00:00\", \"2018-09-15T00:00:00\", \"2018-09-16T00:00:00\", \"2018-09-17T00:00:00\", \"2018-09-18T00:00:00\", \"2018-09-19T00:00:00\", \"2018-09-20T00:00:00\", \"2018-09-21T00:00:00\", \"2018-09-22T00:00:00\", \"2018-09-23T00:00:00\", \"2018-09-24T00:00:00\", \"2018-09-25T00:00:00\", \"2018-09-26T00:00:00\", \"2018-09-27T00:00:00\", \"2018-09-28T00:00:00\", \"2018-09-29T00:00:00\", \"2018-09-30T00:00:00\", \"2018-10-01T00:00:00\", \"2018-10-02T00:00:00\", \"2018-10-03T00:00:00\", \"2018-10-04T00:00:00\", \"2018-10-05T00:00:00\", \"2018-10-06T00:00:00\", \"2018-10-07T00:00:00\", \"2018-10-08T00:00:00\", \"2018-10-09T00:00:00\", \"2018-10-10T00:00:00\", \"2018-10-11T00:00:00\", \"2018-10-12T00:00:00\", \"2018-10-13T00:00:00\", \"2018-10-14T00:00:00\", \"2018-10-15T00:00:00\", \"2018-10-16T00:00:00\", \"2018-10-17T00:00:00\", \"2018-10-18T00:00:00\", \"2018-10-19T00:00:00\", \"2018-10-20T00:00:00\", \"2018-10-21T00:00:00\", \"2018-10-22T00:00:00\", \"2018-10-23T00:00:00\", \"2018-10-24T00:00:00\", \"2018-10-25T00:00:00\", \"2018-10-26T00:00:00\", \"2018-10-27T00:00:00\", \"2018-10-28T00:00:00\", \"2018-10-29T00:00:00\", \"2018-10-30T00:00:00\", \"2018-10-31T00:00:00\", \"2018-11-01T00:00:00\", \"2018-11-02T00:00:00\", \"2018-11-03T00:00:00\", \"2018-11-04T00:00:00\", \"2018-11-05T00:00:00\", \"2018-11-06T00:00:00\", \"2018-11-07T00:00:00\", \"2018-11-08T00:00:00\", \"2018-11-09T00:00:00\", \"2018-11-10T00:00:00\", \"2018-11-11T00:00:00\", \"2018-11-12T00:00:00\", \"2018-11-13T00:00:00\", \"2018-11-14T00:00:00\", \"2018-11-15T00:00:00\", \"2018-11-16T00:00:00\", \"2018-11-17T00:00:00\", \"2018-11-18T00:00:00\", \"2018-11-19T00:00:00\", \"2018-11-20T00:00:00\", \"2018-11-21T00:00:00\", \"2018-11-22T00:00:00\", \"2018-11-23T00:00:00\", \"2018-11-24T00:00:00\", \"2018-11-25T00:00:00\", \"2018-11-26T00:00:00\", \"2018-11-27T00:00:00\", \"2018-11-28T00:00:00\", \"2018-11-29T00:00:00\", \"2018-11-30T00:00:00\", \"2018-12-01T00:00:00\", \"2018-12-02T00:00:00\", \"2018-12-03T00:00:00\", \"2018-12-04T00:00:00\", \"2018-12-05T00:00:00\", \"2018-12-06T00:00:00\", \"2018-12-07T00:00:00\", \"2018-12-08T00:00:00\", \"2018-12-09T00:00:00\", \"2018-12-10T00:00:00\", \"2018-12-11T00:00:00\", \"2018-12-12T00:00:00\", \"2018-12-13T00:00:00\", \"2018-12-14T00:00:00\", \"2018-12-15T00:00:00\", \"2018-12-16T00:00:00\", \"2018-12-17T00:00:00\", \"2018-12-18T00:00:00\", \"2018-12-19T00:00:00\", \"2018-12-20T00:00:00\", \"2018-12-21T00:00:00\", \"2018-12-22T00:00:00\", \"2018-12-23T00:00:00\", \"2018-12-24T00:00:00\", \"2018-12-25T00:00:00\", \"2018-12-26T00:00:00\", \"2018-12-27T00:00:00\", \"2018-12-28T00:00:00\", \"2018-12-29T00:00:00\", \"2018-12-30T00:00:00\", \"2018-12-31T00:00:00\", \"2019-01-01T00:00:00\", \"2019-01-02T00:00:00\", \"2019-01-03T00:00:00\", \"2019-01-04T00:00:00\", \"2019-01-05T00:00:00\", \"2019-01-06T00:00:00\", \"2019-01-07T00:00:00\", \"2019-01-08T00:00:00\", \"2019-01-09T00:00:00\", \"2019-01-10T00:00:00\", \"2019-01-11T00:00:00\", \"2019-01-12T00:00:00\", \"2019-01-13T00:00:00\", \"2019-01-14T00:00:00\", \"2019-01-15T00:00:00\", \"2019-01-16T00:00:00\", \"2019-01-17T00:00:00\", \"2019-01-18T00:00:00\", \"2019-01-19T00:00:00\", \"2019-01-20T00:00:00\", \"2019-01-21T00:00:00\", \"2019-01-22T00:00:00\", \"2019-01-23T00:00:00\", \"2019-01-24T00:00:00\", \"2019-01-25T00:00:00\", \"2019-01-26T00:00:00\", \"2019-01-27T00:00:00\", \"2019-01-28T00:00:00\", \"2019-01-29T00:00:00\", \"2019-01-30T00:00:00\", \"2019-01-31T00:00:00\", \"2019-02-01T00:00:00\", \"2019-02-02T00:00:00\", \"2019-02-03T00:00:00\", \"2019-02-04T00:00:00\", \"2019-02-05T00:00:00\", \"2019-02-06T00:00:00\", \"2019-02-07T00:00:00\", \"2019-02-08T00:00:00\", \"2019-02-09T00:00:00\", \"2019-02-10T00:00:00\", \"2019-02-11T00:00:00\", \"2019-02-12T00:00:00\", \"2019-02-13T00:00:00\", \"2019-02-14T00:00:00\", \"2019-02-15T00:00:00\", \"2019-02-16T00:00:00\", \"2019-02-17T00:00:00\", \"2019-02-18T00:00:00\", \"2019-02-19T00:00:00\", \"2019-02-20T00:00:00\", \"2019-02-21T00:00:00\", \"2019-02-22T00:00:00\", \"2019-02-23T00:00:00\", \"2019-02-24T00:00:00\", \"2019-02-25T00:00:00\", \"2019-02-26T00:00:00\", \"2019-02-27T00:00:00\", \"2019-02-28T00:00:00\", \"2019-03-01T00:00:00\", \"2019-03-02T00:00:00\", \"2019-03-03T00:00:00\", \"2019-03-04T00:00:00\", \"2019-03-05T00:00:00\", \"2019-03-06T00:00:00\", \"2019-03-07T00:00:00\", \"2019-03-08T00:00:00\", \"2019-03-09T00:00:00\", \"2019-03-10T00:00:00\", \"2019-03-11T00:00:00\", \"2019-03-12T00:00:00\", \"2019-03-13T00:00:00\", \"2019-03-14T00:00:00\", \"2019-03-15T00:00:00\", \"2019-03-16T00:00:00\", \"2019-03-17T00:00:00\", \"2019-03-18T00:00:00\", \"2019-03-19T00:00:00\", \"2019-03-20T00:00:00\", \"2019-03-21T00:00:00\", \"2019-03-22T00:00:00\", \"2019-03-23T00:00:00\", \"2019-03-24T00:00:00\", \"2019-03-25T00:00:00\", \"2019-03-26T00:00:00\", \"2019-03-27T00:00:00\", \"2019-03-28T00:00:00\", \"2019-03-29T00:00:00\", \"2019-03-30T00:00:00\", \"2019-03-31T00:00:00\", \"2019-04-01T00:00:00\", \"2019-04-02T00:00:00\", \"2019-04-03T00:00:00\", \"2019-04-04T00:00:00\", \"2019-04-05T00:00:00\", \"2019-04-06T00:00:00\", \"2019-04-07T00:00:00\", \"2019-04-08T00:00:00\", \"2019-04-09T00:00:00\", \"2019-04-10T00:00:00\", \"2019-04-11T00:00:00\", \"2019-04-12T00:00:00\", \"2019-04-13T00:00:00\", \"2019-04-14T00:00:00\", \"2019-04-15T00:00:00\", \"2019-04-16T00:00:00\", \"2019-04-17T00:00:00\", \"2019-04-18T00:00:00\", \"2019-04-19T00:00:00\", \"2019-04-20T00:00:00\", \"2019-04-21T00:00:00\", \"2019-04-22T00:00:00\", \"2019-04-23T00:00:00\", \"2019-04-24T00:00:00\", \"2019-04-25T00:00:00\", \"2019-04-26T00:00:00\", \"2019-04-27T00:00:00\", \"2019-04-28T00:00:00\", \"2019-04-29T00:00:00\", \"2019-04-30T00:00:00\", \"2019-05-01T00:00:00\", \"2019-05-02T00:00:00\", \"2019-05-03T00:00:00\", \"2019-05-04T00:00:00\", \"2019-05-05T00:00:00\", \"2019-05-06T00:00:00\", \"2019-05-07T00:00:00\", \"2019-05-08T00:00:00\", \"2019-05-09T00:00:00\", \"2019-05-10T00:00:00\", \"2019-05-11T00:00:00\", \"2019-05-12T00:00:00\", \"2019-05-13T00:00:00\", \"2019-05-14T00:00:00\", \"2019-05-15T00:00:00\", \"2019-05-16T00:00:00\", \"2019-05-17T00:00:00\", \"2019-05-18T00:00:00\", \"2019-05-19T00:00:00\", \"2019-05-20T00:00:00\", \"2019-05-21T00:00:00\", \"2019-05-22T00:00:00\", \"2019-05-23T00:00:00\", \"2019-05-24T00:00:00\", \"2019-05-25T00:00:00\", \"2019-05-26T00:00:00\", \"2019-05-27T00:00:00\", \"2019-05-28T00:00:00\", \"2019-05-29T00:00:00\", \"2019-05-30T00:00:00\", \"2019-05-31T00:00:00\", \"2019-06-01T00:00:00\", \"2019-06-02T00:00:00\", \"2019-06-03T00:00:00\", \"2019-06-04T00:00:00\", \"2019-06-05T00:00:00\", \"2019-06-06T00:00:00\", \"2019-06-07T00:00:00\", \"2019-06-08T00:00:00\", \"2019-06-09T00:00:00\", \"2019-06-10T00:00:00\", \"2019-06-11T00:00:00\", \"2019-06-12T00:00:00\", \"2019-06-13T00:00:00\", \"2019-06-14T00:00:00\", \"2019-06-15T00:00:00\", \"2019-06-16T00:00:00\", \"2019-06-17T00:00:00\", \"2019-06-18T00:00:00\", \"2019-06-19T00:00:00\", \"2019-06-20T00:00:00\", \"2019-06-21T00:00:00\", \"2019-06-22T00:00:00\", \"2019-06-23T00:00:00\", \"2019-06-24T00:00:00\", \"2019-06-25T00:00:00\", \"2019-06-26T00:00:00\", \"2019-06-27T00:00:00\", \"2019-06-28T00:00:00\", \"2019-06-29T00:00:00\", \"2019-06-30T00:00:00\", \"2019-07-01T00:00:00\", \"2019-07-02T00:00:00\", \"2019-07-03T00:00:00\", \"2019-07-04T00:00:00\", \"2019-07-05T00:00:00\", \"2019-07-06T00:00:00\", \"2019-07-07T00:00:00\", \"2019-07-08T00:00:00\", \"2019-07-09T00:00:00\", \"2019-07-10T00:00:00\", \"2019-07-11T00:00:00\", \"2019-07-12T00:00:00\", \"2019-07-13T00:00:00\", \"2019-07-14T00:00:00\", \"2019-07-15T00:00:00\", \"2019-07-16T00:00:00\", \"2019-07-17T00:00:00\", \"2019-07-18T00:00:00\", \"2019-07-19T00:00:00\", \"2019-07-20T00:00:00\", \"2019-07-21T00:00:00\", \"2019-07-22T00:00:00\", \"2019-07-23T00:00:00\", \"2019-07-24T00:00:00\", \"2019-07-25T00:00:00\", \"2019-07-26T00:00:00\", \"2019-07-27T00:00:00\", \"2019-07-28T00:00:00\", \"2019-07-29T00:00:00\", \"2019-07-30T00:00:00\", \"2019-07-31T00:00:00\", \"2019-08-01T00:00:00\", \"2019-08-02T00:00:00\", \"2019-08-03T00:00:00\", \"2019-08-04T00:00:00\", \"2019-08-05T00:00:00\", \"2019-08-06T00:00:00\", \"2019-08-07T00:00:00\", \"2019-08-08T00:00:00\", \"2019-08-09T00:00:00\", \"2019-08-10T00:00:00\", \"2019-08-11T00:00:00\", \"2019-08-12T00:00:00\", \"2019-08-13T00:00:00\", \"2019-08-14T00:00:00\", \"2019-08-15T00:00:00\", \"2019-08-16T00:00:00\", \"2019-08-17T00:00:00\", \"2019-08-18T00:00:00\", \"2019-08-19T00:00:00\", \"2019-08-20T00:00:00\", \"2019-08-21T00:00:00\", \"2019-08-22T00:00:00\", \"2019-08-23T00:00:00\", \"2019-08-24T00:00:00\", \"2019-08-25T00:00:00\", \"2019-08-26T00:00:00\", \"2019-08-27T00:00:00\", \"2019-08-28T00:00:00\", \"2019-08-29T00:00:00\", \"2019-08-30T00:00:00\", \"2019-08-31T00:00:00\", \"2019-09-01T00:00:00\", \"2019-09-02T00:00:00\", \"2019-09-03T00:00:00\", \"2019-09-04T00:00:00\", \"2019-09-05T00:00:00\", \"2019-09-06T00:00:00\", \"2019-09-07T00:00:00\", \"2019-09-08T00:00:00\", \"2019-09-09T00:00:00\", \"2019-09-10T00:00:00\", \"2019-09-11T00:00:00\", \"2019-09-12T00:00:00\", \"2019-09-13T00:00:00\", \"2019-09-14T00:00:00\", \"2019-09-15T00:00:00\", \"2019-09-16T00:00:00\", \"2019-09-17T00:00:00\", \"2019-09-18T00:00:00\", \"2019-09-19T00:00:00\", \"2019-09-20T00:00:00\", \"2019-09-21T00:00:00\", \"2019-09-22T00:00:00\", \"2019-09-23T00:00:00\", \"2019-09-24T00:00:00\", \"2019-09-25T00:00:00\", \"2019-09-26T00:00:00\", \"2019-09-27T00:00:00\", \"2019-09-28T00:00:00\", \"2019-09-29T00:00:00\", \"2019-09-30T00:00:00\", \"2019-10-01T00:00:00\", \"2019-10-02T00:00:00\", \"2019-10-03T00:00:00\", \"2019-10-04T00:00:00\", \"2019-10-05T00:00:00\", \"2019-10-06T00:00:00\", \"2019-10-07T00:00:00\", \"2019-10-08T00:00:00\", \"2019-10-09T00:00:00\", \"2019-10-10T00:00:00\", \"2019-10-11T00:00:00\", \"2019-10-12T00:00:00\", \"2019-10-13T00:00:00\", \"2019-10-14T00:00:00\", \"2019-10-15T00:00:00\", \"2019-10-16T00:00:00\", \"2019-10-17T00:00:00\", \"2019-10-18T00:00:00\", \"2019-10-19T00:00:00\", \"2019-10-20T00:00:00\", \"2019-10-21T00:00:00\", \"2019-10-22T00:00:00\", \"2019-10-23T00:00:00\", \"2019-10-24T00:00:00\", \"2019-10-25T00:00:00\", \"2019-10-26T00:00:00\", \"2019-10-27T00:00:00\", \"2019-10-28T00:00:00\", \"2019-10-29T00:00:00\", \"2019-10-30T00:00:00\", \"2019-10-31T00:00:00\", \"2019-11-01T00:00:00\", \"2019-11-02T00:00:00\", \"2019-11-03T00:00:00\", \"2019-11-04T00:00:00\", \"2019-11-05T00:00:00\", \"2019-11-06T00:00:00\", \"2019-11-07T00:00:00\", \"2019-11-08T00:00:00\", \"2019-11-09T00:00:00\", \"2019-11-10T00:00:00\", \"2019-11-11T00:00:00\", \"2019-11-12T00:00:00\", \"2019-11-13T00:00:00\", \"2019-11-14T00:00:00\", \"2019-11-15T00:00:00\", \"2019-11-16T00:00:00\", \"2019-11-17T00:00:00\", \"2019-11-18T00:00:00\", \"2019-11-19T00:00:00\", \"2019-11-20T00:00:00\", \"2019-11-21T00:00:00\", \"2019-11-22T00:00:00\", \"2019-11-23T00:00:00\", \"2019-11-24T00:00:00\", \"2019-11-25T00:00:00\", \"2019-11-26T00:00:00\", \"2019-11-27T00:00:00\", \"2019-11-28T00:00:00\", \"2019-11-29T00:00:00\", \"2019-11-30T00:00:00\", \"2019-12-01T00:00:00\", \"2019-12-02T00:00:00\", \"2019-12-03T00:00:00\", \"2019-12-04T00:00:00\", \"2019-12-05T00:00:00\", \"2019-12-06T00:00:00\", \"2019-12-07T00:00:00\", \"2019-12-08T00:00:00\", \"2019-12-09T00:00:00\", \"2019-12-10T00:00:00\", \"2019-12-11T00:00:00\", \"2019-12-12T00:00:00\", \"2019-12-13T00:00:00\", \"2019-12-14T00:00:00\", \"2019-12-15T00:00:00\", \"2019-12-16T00:00:00\", \"2019-12-17T00:00:00\", \"2019-12-18T00:00:00\", \"2019-12-19T00:00:00\", \"2019-12-20T00:00:00\", \"2019-12-21T00:00:00\", \"2019-12-22T00:00:00\", \"2019-12-23T00:00:00\", \"2019-12-24T00:00:00\", \"2019-12-25T00:00:00\", \"2019-12-26T00:00:00\", \"2019-12-27T00:00:00\", \"2019-12-28T00:00:00\", \"2019-12-29T00:00:00\", \"2019-12-30T00:00:00\", \"2019-12-31T00:00:00\", \"2020-01-01T00:00:00\", \"2020-01-02T00:00:00\", \"2020-01-03T00:00:00\", \"2020-01-04T00:00:00\", \"2020-01-05T00:00:00\", \"2020-01-06T00:00:00\", \"2020-01-07T00:00:00\", \"2020-01-08T00:00:00\", \"2020-01-09T00:00:00\", \"2020-01-10T00:00:00\", \"2020-01-11T00:00:00\", \"2020-01-12T00:00:00\", \"2020-01-13T00:00:00\", \"2020-01-14T00:00:00\", \"2020-01-15T00:00:00\", \"2020-01-16T00:00:00\", \"2020-01-17T00:00:00\", \"2020-01-18T00:00:00\", \"2020-01-19T00:00:00\", \"2020-01-20T00:00:00\", \"2020-01-21T00:00:00\", \"2020-01-22T00:00:00\", \"2020-01-23T00:00:00\", \"2020-01-24T00:00:00\", \"2020-01-25T00:00:00\", \"2020-01-26T00:00:00\", \"2020-01-27T00:00:00\", \"2020-01-28T00:00:00\", \"2020-01-29T00:00:00\", \"2020-01-30T00:00:00\", \"2020-01-31T00:00:00\", \"2020-02-01T00:00:00\", \"2020-02-02T00:00:00\", \"2020-02-03T00:00:00\", \"2020-02-04T00:00:00\", \"2020-02-05T00:00:00\", \"2020-02-06T00:00:00\", \"2020-02-07T00:00:00\", \"2020-02-08T00:00:00\", \"2020-02-09T00:00:00\", \"2020-02-10T00:00:00\", \"2020-02-11T00:00:00\", \"2020-02-12T00:00:00\", \"2020-02-13T00:00:00\", \"2020-02-14T00:00:00\", \"2020-02-15T00:00:00\", \"2020-02-16T00:00:00\", \"2020-02-17T00:00:00\", \"2020-02-18T00:00:00\", \"2020-02-19T00:00:00\", \"2020-02-20T00:00:00\", \"2020-02-21T00:00:00\", \"2020-02-22T00:00:00\", \"2020-02-23T00:00:00\", \"2020-02-24T00:00:00\", \"2020-02-25T00:00:00\", \"2020-02-26T00:00:00\", \"2020-02-27T00:00:00\", \"2020-02-28T00:00:00\", \"2020-02-29T00:00:00\", \"2020-03-01T00:00:00\", \"2020-03-02T00:00:00\", \"2020-03-03T00:00:00\", \"2020-03-04T00:00:00\", \"2020-03-05T00:00:00\", \"2020-03-06T00:00:00\", \"2020-03-07T00:00:00\", \"2020-03-08T00:00:00\", \"2020-03-09T00:00:00\", \"2020-03-10T00:00:00\", \"2020-03-11T00:00:00\", \"2020-03-12T00:00:00\", \"2020-03-13T00:00:00\", \"2020-03-14T00:00:00\", \"2020-03-15T00:00:00\", \"2020-03-16T00:00:00\", \"2020-03-17T00:00:00\", \"2020-03-18T00:00:00\", \"2020-03-19T00:00:00\", \"2020-03-20T00:00:00\", \"2020-03-21T00:00:00\", \"2020-03-22T00:00:00\", \"2020-03-23T00:00:00\", \"2020-03-24T00:00:00\", \"2020-03-25T00:00:00\", \"2020-03-26T00:00:00\", \"2020-03-27T00:00:00\", \"2020-03-28T00:00:00\", \"2020-03-29T00:00:00\", \"2020-03-30T00:00:00\", \"2020-03-31T00:00:00\", \"2020-04-01T00:00:00\", \"2020-04-02T00:00:00\", \"2020-04-03T00:00:00\", \"2020-04-04T00:00:00\", \"2020-04-05T00:00:00\", \"2020-04-06T00:00:00\", \"2020-04-07T00:00:00\", \"2020-04-08T00:00:00\", \"2020-04-09T00:00:00\", \"2020-04-10T00:00:00\", \"2020-04-11T00:00:00\", \"2020-04-12T00:00:00\", \"2020-04-13T00:00:00\", \"2020-04-14T00:00:00\", \"2020-04-15T00:00:00\", \"2020-04-16T00:00:00\", \"2020-04-17T00:00:00\", \"2020-04-18T00:00:00\", \"2020-04-19T00:00:00\", \"2020-04-20T00:00:00\", \"2020-04-21T00:00:00\", \"2020-04-22T00:00:00\", \"2020-04-23T00:00:00\", \"2020-04-24T00:00:00\", \"2020-04-25T00:00:00\", \"2020-04-26T00:00:00\", \"2020-04-27T00:00:00\", \"2020-04-28T00:00:00\", \"2020-04-29T00:00:00\", \"2020-04-30T00:00:00\", \"2020-05-01T00:00:00\", \"2020-05-02T00:00:00\", \"2020-05-03T00:00:00\", \"2020-05-04T00:00:00\", \"2020-05-05T00:00:00\", \"2020-05-06T00:00:00\", \"2020-05-07T00:00:00\", \"2020-05-08T00:00:00\", \"2020-05-09T00:00:00\", \"2020-05-10T00:00:00\", \"2020-05-11T00:00:00\", \"2020-05-12T00:00:00\", \"2020-05-13T00:00:00\", \"2020-05-14T00:00:00\", \"2020-05-15T00:00:00\", \"2020-05-16T00:00:00\", \"2020-05-17T00:00:00\", \"2020-05-18T00:00:00\", \"2020-05-19T00:00:00\", \"2020-05-20T00:00:00\", \"2020-05-21T00:00:00\", \"2020-05-22T00:00:00\", \"2020-05-23T00:00:00\", \"2020-05-24T00:00:00\", \"2020-05-25T00:00:00\", \"2020-05-26T00:00:00\", \"2020-05-27T00:00:00\", \"2020-05-28T00:00:00\", \"2020-05-29T00:00:00\", \"2020-05-30T00:00:00\", \"2020-05-31T00:00:00\", \"2020-06-01T00:00:00\", \"2020-06-02T00:00:00\", \"2020-06-03T00:00:00\", \"2020-06-04T00:00:00\", \"2020-06-05T00:00:00\", \"2020-06-06T00:00:00\", \"2020-06-07T00:00:00\", \"2020-06-08T00:00:00\", \"2020-06-09T00:00:00\", \"2020-06-10T00:00:00\", \"2020-06-11T00:00:00\", \"2020-06-12T00:00:00\", \"2020-06-13T00:00:00\", \"2020-06-14T00:00:00\", \"2020-06-15T00:00:00\", \"2020-06-16T00:00:00\", \"2020-06-17T00:00:00\", \"2020-06-18T00:00:00\", \"2020-06-19T00:00:00\", \"2020-06-20T00:00:00\", \"2020-06-21T00:00:00\", \"2020-06-22T00:00:00\", \"2020-06-23T00:00:00\", \"2020-06-24T00:00:00\", \"2020-06-25T00:00:00\", \"2020-06-26T00:00:00\", \"2020-06-27T00:00:00\", \"2020-06-28T00:00:00\", \"2020-06-29T00:00:00\", \"2020-06-30T00:00:00\", \"2020-07-01T00:00:00\", \"2020-07-02T00:00:00\", \"2020-07-03T00:00:00\", \"2020-07-04T00:00:00\", \"2020-07-05T00:00:00\", \"2020-07-06T00:00:00\", \"2020-07-07T00:00:00\", \"2020-07-08T00:00:00\", \"2020-07-09T00:00:00\", \"2020-07-10T00:00:00\", \"2020-07-11T00:00:00\", \"2020-07-12T00:00:00\", \"2020-07-13T00:00:00\", \"2020-07-14T00:00:00\", \"2020-07-15T00:00:00\", \"2020-07-16T00:00:00\", \"2020-07-17T00:00:00\", \"2020-07-18T00:00:00\", \"2020-07-19T00:00:00\", \"2020-07-20T00:00:00\", \"2020-07-21T00:00:00\", \"2020-07-22T00:00:00\", \"2020-07-23T00:00:00\", \"2020-07-24T00:00:00\", \"2020-07-25T00:00:00\", \"2020-07-26T00:00:00\", \"2020-07-27T00:00:00\", \"2020-07-28T00:00:00\", \"2020-07-29T00:00:00\", \"2020-07-30T00:00:00\", \"2020-07-31T00:00:00\", \"2020-08-01T00:00:00\", \"2020-08-02T00:00:00\", \"2020-08-03T00:00:00\", \"2020-08-04T00:00:00\", \"2020-08-05T00:00:00\", \"2020-08-06T00:00:00\", \"2020-08-07T00:00:00\", \"2020-08-08T00:00:00\", \"2020-08-09T00:00:00\", \"2020-08-10T00:00:00\", \"2020-08-11T00:00:00\", \"2020-08-12T00:00:00\", \"2020-08-13T00:00:00\", \"2020-08-14T00:00:00\", \"2020-08-15T00:00:00\", \"2020-08-16T00:00:00\", \"2020-08-17T00:00:00\", \"2020-08-18T00:00:00\", \"2020-08-19T00:00:00\", \"2020-08-20T00:00:00\", \"2020-08-21T00:00:00\", \"2020-08-22T00:00:00\", \"2020-08-23T00:00:00\", \"2020-08-24T00:00:00\", \"2020-08-25T00:00:00\", \"2020-08-26T00:00:00\", \"2020-08-27T00:00:00\", \"2020-08-28T00:00:00\", \"2020-08-29T00:00:00\", \"2020-08-30T00:00:00\", \"2020-08-31T00:00:00\", \"2020-09-01T00:00:00\", \"2020-09-02T00:00:00\", \"2020-09-03T00:00:00\", \"2020-09-04T00:00:00\", \"2020-09-05T00:00:00\", \"2020-09-06T00:00:00\", \"2020-09-07T00:00:00\", \"2020-09-08T00:00:00\", \"2020-09-09T00:00:00\", \"2020-09-10T00:00:00\", \"2020-09-11T00:00:00\", \"2020-09-12T00:00:00\", \"2020-09-13T00:00:00\", \"2020-09-14T00:00:00\", \"2020-09-15T00:00:00\", \"2020-09-16T00:00:00\", \"2020-09-17T00:00:00\", \"2020-09-18T00:00:00\", \"2020-09-19T00:00:00\", \"2020-09-20T00:00:00\", \"2020-09-21T00:00:00\", \"2020-09-22T00:00:00\", \"2020-09-23T00:00:00\", \"2020-09-24T00:00:00\", \"2020-09-25T00:00:00\", \"2020-09-26T00:00:00\", \"2020-09-27T00:00:00\", \"2020-09-28T00:00:00\", \"2020-09-29T00:00:00\", \"2020-09-30T00:00:00\", \"2020-10-01T00:00:00\", \"2020-10-02T00:00:00\", \"2020-10-03T00:00:00\", \"2020-10-04T00:00:00\", \"2020-10-05T00:00:00\", \"2020-10-06T00:00:00\", \"2020-10-07T00:00:00\", \"2020-10-08T00:00:00\", \"2020-10-09T00:00:00\", \"2020-10-10T00:00:00\", \"2020-10-11T00:00:00\", \"2020-10-12T00:00:00\", \"2020-10-13T00:00:00\", \"2020-10-14T00:00:00\", \"2020-10-15T00:00:00\", \"2020-10-16T00:00:00\", \"2020-10-17T00:00:00\", \"2020-10-18T00:00:00\", \"2020-10-19T00:00:00\", \"2020-10-20T00:00:00\", \"2020-10-21T00:00:00\", \"2020-10-22T00:00:00\", \"2020-10-23T00:00:00\", \"2020-10-24T00:00:00\", \"2020-10-25T00:00:00\", \"2020-10-26T00:00:00\", \"2020-10-27T00:00:00\", \"2020-10-28T00:00:00\", \"2020-10-29T00:00:00\", \"2020-10-30T00:00:00\", \"2020-10-31T00:00:00\", \"2020-11-01T00:00:00\", \"2020-11-02T00:00:00\", \"2020-11-03T00:00:00\", \"2020-11-04T00:00:00\", \"2020-11-05T00:00:00\", \"2020-11-06T00:00:00\", \"2020-11-07T00:00:00\", \"2020-11-08T00:00:00\", \"2020-11-09T00:00:00\", \"2020-11-10T00:00:00\", \"2020-11-11T00:00:00\", \"2020-11-12T00:00:00\", \"2020-11-13T00:00:00\", \"2020-11-14T00:00:00\", \"2020-11-15T00:00:00\", \"2020-11-16T00:00:00\", \"2020-11-17T00:00:00\", \"2020-11-18T00:00:00\", \"2020-11-19T00:00:00\", \"2020-11-20T00:00:00\", \"2020-11-21T00:00:00\", \"2020-11-22T00:00:00\", \"2020-11-23T00:00:00\", \"2020-11-24T00:00:00\", \"2020-11-25T00:00:00\", \"2020-11-26T00:00:00\", \"2020-11-27T00:00:00\", \"2020-11-28T00:00:00\", \"2020-11-29T00:00:00\", \"2020-11-30T00:00:00\", \"2020-12-01T00:00:00\", \"2020-12-02T00:00:00\", \"2020-12-03T00:00:00\", \"2020-12-04T00:00:00\", \"2020-12-05T00:00:00\", \"2020-12-06T00:00:00\", \"2020-12-07T00:00:00\", \"2020-12-08T00:00:00\", \"2020-12-09T00:00:00\", \"2020-12-10T00:00:00\", \"2020-12-11T00:00:00\", \"2020-12-12T00:00:00\", \"2020-12-13T00:00:00\", \"2020-12-14T00:00:00\", \"2020-12-15T00:00:00\", \"2020-12-16T00:00:00\", \"2020-12-17T00:00:00\", \"2020-12-18T00:00:00\", \"2020-12-19T00:00:00\", \"2020-12-20T00:00:00\", \"2020-12-21T00:00:00\", \"2020-12-22T00:00:00\", \"2020-12-23T00:00:00\", \"2020-12-24T00:00:00\", \"2020-12-25T00:00:00\", \"2020-12-26T00:00:00\", \"2020-12-27T00:00:00\", \"2020-12-28T00:00:00\", \"2020-12-29T00:00:00\", \"2020-12-30T00:00:00\", \"2020-12-31T00:00:00\", \"2021-01-01T00:00:00\", \"2021-01-02T00:00:00\", \"2021-01-03T00:00:00\", \"2021-01-04T00:00:00\", \"2021-01-05T00:00:00\", \"2021-01-06T00:00:00\", \"2021-01-07T00:00:00\", \"2021-01-08T00:00:00\", \"2021-01-09T00:00:00\", \"2021-01-10T00:00:00\", \"2021-01-11T00:00:00\", \"2021-01-12T00:00:00\", \"2021-01-13T00:00:00\", \"2021-01-14T00:00:00\", \"2021-01-15T00:00:00\", \"2021-01-16T00:00:00\", \"2021-01-17T00:00:00\", \"2021-01-18T00:00:00\", \"2021-01-19T00:00:00\", \"2021-01-20T00:00:00\", \"2021-01-21T00:00:00\", \"2021-01-22T00:00:00\", \"2021-01-23T00:00:00\", \"2021-01-24T00:00:00\", \"2021-01-25T00:00:00\", \"2021-01-26T00:00:00\", \"2021-01-27T00:00:00\", \"2021-01-28T00:00:00\", \"2021-01-29T00:00:00\", \"2021-01-30T00:00:00\", \"2021-01-31T00:00:00\", \"2021-02-01T00:00:00\", \"2021-02-02T00:00:00\", \"2021-02-03T00:00:00\", \"2021-02-04T00:00:00\", \"2021-02-05T00:00:00\", \"2021-02-06T00:00:00\", \"2021-02-07T00:00:00\", \"2021-02-08T00:00:00\", \"2021-02-09T00:00:00\", \"2021-02-10T00:00:00\", \"2021-02-11T00:00:00\", \"2021-02-12T00:00:00\", \"2021-02-13T00:00:00\", \"2021-02-14T00:00:00\", \"2021-02-15T00:00:00\", \"2021-02-16T00:00:00\", \"2021-02-17T00:00:00\", \"2021-02-18T00:00:00\", \"2021-02-19T00:00:00\", \"2021-02-20T00:00:00\", \"2021-02-21T00:00:00\", \"2021-02-22T00:00:00\", \"2021-02-23T00:00:00\", \"2021-02-24T00:00:00\", \"2021-02-25T00:00:00\", \"2021-02-26T00:00:00\", \"2021-02-27T00:00:00\", \"2021-02-28T00:00:00\", \"2021-03-01T00:00:00\", \"2021-03-02T00:00:00\", \"2021-03-03T00:00:00\", \"2021-03-04T00:00:00\", \"2021-03-05T00:00:00\", \"2021-03-06T00:00:00\", \"2021-03-07T00:00:00\", \"2021-03-08T00:00:00\", \"2021-03-09T00:00:00\", \"2021-03-10T00:00:00\", \"2021-03-11T00:00:00\", \"2021-03-12T00:00:00\", \"2021-03-13T00:00:00\", \"2021-03-14T00:00:00\", \"2021-03-15T00:00:00\", \"2021-03-16T00:00:00\", \"2021-03-17T00:00:00\", \"2021-03-18T00:00:00\", \"2021-03-19T00:00:00\", \"2021-03-20T00:00:00\", \"2021-03-21T00:00:00\", \"2021-03-22T00:00:00\", \"2021-03-23T00:00:00\", \"2021-03-24T00:00:00\", \"2021-03-25T00:00:00\", \"2021-03-26T00:00:00\", \"2021-03-27T00:00:00\", \"2021-03-28T00:00:00\", \"2021-03-29T00:00:00\", \"2021-03-30T00:00:00\", \"2021-03-31T00:00:00\"], \"xaxis\": \"x\", \"y\": [99.52571428571429, 103.73, 116.0, 133.87, 134.67, 137.83499999999998, 141.0, 170.31333333333333, 199.62666666666667, 228.94, 162.0, 135.95, 109.9, 90.44, 91.79, 96.1675, 100.545, 104.9225, 109.3, 117.925, 126.55, 130.13333333333333, 133.71666666666667, 137.3, 150.0, 143.65, 137.3, 139.30666666666667, 141.31333333333333, 143.32, 139.87, 116.75, 107.02, 98.08, 112.89, 112.78, 112.67, 110.92, 113.16, 111.96, 117.9, 115.58, 115.78, 115.98, 107.0, 108.96, 113.36, 117.51, 118.49, 117.27, 117.81, 117.25, 118.45, 123.84, 128.65, 128.98, 130.27, 126.2, 125.99, 130.01, 128.885, 127.76, 128.77, 123.35, 123.22, 120.58, 120.98, 118.78, 110.17, 109.11, 100.17, 104.21, 107.35, 106.1, 101.86, 102.02285714285713, 102.18571428571428, 102.34857142857142, 102.51142857142857, 102.6742857142857, 102.83714285714285, 103.0, 101.29, 100.0, 100.4, 98.83, 97.57, 94.77999999999999, 91.99, 89.2, 87.27, 85.34, 83.41, 88.04, 77.33, 79.4, 67.13, 70.55, 73.97, 74.0, 75.0, 86.13, 88.16, 90.19, 91.67, 92.715, 93.76, 91.61, 90.96, 85.0, 85.24333333333334, 85.48666666666666, 85.73, 85.59, 86.88, 88.42, 89.195, 89.97, 88.16, 90.805, 93.45, 94.50999999999999, 95.57, 96.63, 95.82, 96.1, 96.38, 97.03999999999999, 97.7, 97.09, 94.26, 94.53750000000001, 94.815, 95.0925, 95.37, 96.43857142857142, 97.50714285714287, 98.57571428571427, 99.6442857142857, 100.71285714285713, 101.78142857142856, 102.85, 104.94, 107.03, 109.12, 107.91, 109.15, 110.5, 111.85, 114.20333333333332, 116.55666666666666, 118.91, 123.405, 127.9, 130.65, 129.4, 125.525, 121.65, 122.0, 116.56, 118.26666666666667, 119.97333333333333, 121.68, 124.61000000000001, 127.54, 127.625, 127.71, 126.535, 125.36, 126.28, 126.64, 127.0, 125.79333333333332, 124.58666666666666, 123.38, 123.095, 122.81, 123.065, 123.32, 125.13499999999999, 126.95, 127.04, 127.13, 127.22, 127.31, 103.85, 112.895, 121.94, 121.25, 122.49, 123.5, 124.5, 125.79, 126.38666666666666, 126.98333333333332, 127.58, 131.505, 135.43, 142.75, 137.54, 143.94, 152.89, 166.0, 166.6, 179.04666666666665, 191.4933333333333, 203.94, 194.0, 194.655, 195.31, 195.965, 196.62, 197.10000000000002, 197.58, 203.54, 202.14, 204.86, 210.0, 227.29, 242.9, 266.95, 291.0, 333.9, 341.24, 323.0, 343.63, 354.94, 393.5, 416.88, 412.07, 434.53, 478.1, 669.0, 536.01, 600.0, 720.0, 774.575, 829.15, 800.01, 811.95, 915.01, 963.98, 1012.0, 1131.99, 1119.52, 955.0, 1037.11, 1055.0, 1135.0, 1020.51, 809.72, 693.3, 787.0, 899.91, 979.07, 879.04, 871.22, 888.47, 850.78, 861.98, 690.5, 675.0, 520.0, 685.1, 610.0, 595.07, 612.66, 654.76, 653.57, 679.01, 747.83, 723.98, 715.0, 725.755, 736.51, 732.0, 758.095, 784.19, 806.49, 828.79, 905.0, 915.8, 785.0, 823.94, 825.5, 851.63, 895.0, 844.04, 823.99, 815.99, 841.14, 814.4, 796.97, 810.0, 841.5, 826.02, 822.61, 819.2, 810.95, 812.1899999999999, 813.4299999999998, 814.67, 750.95, 785.51, 794.21, 800.55, 806.89, 813.23, 814.94, 806.99, 793.5, 780.01, 764.0, 705.01, 680.49, 684.415, 688.34, 669.19, 650.04, 609.4, 632.615, 655.83, 621.0, 624.35, 627.7, 623.01, 561.86, 581.35, 610.77, 609.9, 535.49, 534.34, 585.24, 568.52, 551.8, 558.5899999999999, 565.38, 677.69, 673.27, 669.0, 669.57, 632.79, 635.595, 638.4, 639.055, 639.71, 640.365, 641.02, 639.01, 637.0, 634.99, 622.6425, 610.2950000000001, 597.9475, 585.6, 569.99, 564.31, 558.22, 585.9, 583.77, 581.48, 475.0, 502.01, 491.99, 473.4, 454.81, 478.98, 438.9, 451.03, 450.0, 464.8, 459.97, 447.11, 444.4, 441.69, 363.1, 423.0, 424.91, 416.29, 459.99, 523.1, 529.26, 500.09, 482.1, 487.3933333333333, 492.68666666666667, 497.98, 490.0, 496.075, 502.15, 466.71, 459.22, 430.0, 436.33333333333326, 442.66666666666663, 449.0, 460.97, 449.985, 439.0, 435.88, 432.44, 429.0, 430.734, 432.46799999999996, 434.202, 435.936, 437.67, 442.48, 443.275, 444.07, 446.27, 447.55, 447.23, 446.91, 467.95500000000004, 489.0, 493.98, 529.99, 523.75, 548.625, 573.5, 581.87, 572.7, 580.66, 600.8299999999999, 621.0, 625.995, 630.99, 662.0, 668.9, 640.55, 661.46, 647.16, 657.13, 658.0, 648.83, 648.55, 623.81, 569.98, 592.0, 566.58, 592.0, 587.0, 606.48, 607.99, 593.41, 590.0, 591.33, 600.34, 588.22, 574.0, 560.4, 580.09, 599.99, 591.46, 599.86, 640.0, 638.25, 650.49, 648.48, 628.81, 630.9, 633.87, 622.09, 623.98, 621.96, 616.87, 634.99, 637.9, 630.88, 621.15, 622.9, 617.39, 626.3, 632.59, 630.0, 626.98, 622.63, 619.99, 620.95, 603.96, 602.93, 596.23, 592.61, 589.88, 585.93, 563.83, 583.54, 597.84, 589.6, 588.96, 588.5, 581.75, 581.16, 585.84, 588.99, 589.82, 590.98, 574.55, 569.39, 549.85, 507.99, 502.48, 523.47, 498.0, 474.74, 491.98, 516.39, 519.29, 514.65, 496.96, 507.84, 503.74, 514.4, 511.87, 506.94, 509.3, 501.49, 479.01, 475.89, 474.5, 474.86, 489.61, 477.65, 479.99, 477.4, 468.32, 473.34, 477.78, 477.43, 473.08, 477.99, 475.47, 469.47, 463.48, 452.99, 426.62, 395.86, 410.92, 400.77, 399.77, 440.85, 423.57, 410.0, 405.08, 399.16, 375.35, 374.17, 389.56, 384.85, 376.29, 358.71, 326.24, 322.82, 328.56, 334.8, 355.73, 364.01, 360.85, 362.77, 378.48, 392.99, 402.01, 394.52, 384.19, 383.2, 390.59, 389.06, 381.0, 385.79, 382.05, 356.81, 358.78, 348.69, 355.19, 351.03, 355.71, 336.37, 346.14, 337.99, 324.55, 324.23, 326.45, 329.96, 338.37, 349.99, 342.16, 346.19, 365.37, 366.43, 370.09, 426.64, 417.85, 399.97, 376.97, 389.86, 388.72, 374.87, 379.04, 356.47, 351.19, 354.29, 367.17, 375.99, 377.05, 368.5, 369.98, 376.0, 375.48, 376.09, 376.53, 379.52, 376.61, 369.89, 376.0, 375.05, 376.03, 362.74, 352.02, 345.22, 348.88, 353.33, 351.67, 357.3, 348.85, 329.05, 321.96, 312.65, 318.58, 331.77, 320.88, 332.52, 336.9, 323.03, 319.85, 329.31, 323.475, 317.64, 313.36, 311.1, 321.0, 318.21000000000004, 315.42, 280.0, 264.55, 270.418, 276.28599999999994, 282.154, 288.02199999999993, 293.89, 275.6, 266.34, 267.1, 227.01, 172.0, 210.69, 208.02, 199.69, 207.85, 216.01, 211.94, 227.75, 234.08, 241.705, 249.33, 254.67, 274.76, 263.97, 236.07, 235.12, 228.96, 218.04, 226.93, 238.38, 232.655, 226.93, 216.46, 223.44, 223.68, 223.92, 220.91, 220.42, 219.57, 223.02, 237.0, 256.81, 235.61, 234.69, 236.6633333333333, 238.63666666666666, 240.61, 240.365, 240.12, 239.875, 239.63, 242.39399999999998, 245.15799999999996, 247.92199999999997, 250.68599999999995, 253.45, 262.6433333333333, 271.8366666666666, 281.03, 270.72, 273.46, 272.61, 276.71, 281.91499999999996, 287.12, 290.0, 296.29, 295.66, 283.25, 282.36, 285.815, 289.27, 282.8, 256.59, 261.97, 261.92, 260.0, 268.28, 265.98, 245.29, 246.99, 249.23, 247.93, 252.91, 250.43, 247.95, 247.315, 246.68, 253.22, 254.19, 254.64, 255.08999999999997, 255.54, 253.71, 244.84, 243.75, 239.92000000000002, 236.09, 236.42, 222.97, 215.78, 222.83, 222.715, 222.6, 223.35, 222.54, 224.3, 235.71, 233.25, 235.61, 231.04, 226.12, 226.64499999999998, 227.17, 225.18, 230.825, 236.47, 231.05, 233.83, 239.73, 238.22, 235.18, 228.34, 236.92, 243.22, 241.83, 241.565, 241.3, 238.635, 235.97, 235.89999999999998, 235.82999999999998, 235.76, 235.69, 233.03, 231.4, 234.4, 235.0, 235.14199999999997, 235.284, 235.426, 235.56799999999998, 235.71, 235.32, 233.7175, 232.115, 230.5125, 228.91, 223.5, 225.17, 224.8, 222.99, 223.97, 224.95, 222.65, 224.39333333333332, 226.13666666666666, 227.88, 229.14, 230.39, 231.64, 232.08, 236.0, 241.88, 247.76, 245.755, 243.75, 244.65, 243.6, 245.99, 243.85, 240.19, 242.08, 246.68, 251.28, 253.66000000000003, 256.04, 262.58, 260.40666666666664, 258.2333333333333, 256.06, 263.725, 271.39, 268.53, 265.67, 267.32500000000005, 268.98, 274.87, 280.76, 286.65000000000003, 292.54, 287.49, 285.67, 282.6933333333333, 279.7166666666667, 276.74, 277.845, 278.95, 276.49, 277.5, 283.25, 289.0, 290.925, 292.85, 294.03, 291.94, 289.85, 288.6042857142857, 287.35857142857145, 286.11285714285714, 284.8671428571428, 283.62142857142857, 282.37571428571425, 281.13, 280.53499999999997, 279.94, 262.19, 263.15, 264.11, 271.15, 267.53, 266.54999999999995, 265.57, 261.46, 248.9733333333333, 236.48666666666662, 224.0, 229.575, 235.15, 233.075, 231.0, 228.12666666666667, 225.25333333333333, 222.38, 225.8, 225.09, 231.76, 230.41, 229.04, 230.25, 227.97, 227.60500000000002, 227.24, 230.72, 235.5, 240.28, 240.07, 244.04, 238.35, 237.1633333333333, 235.97666666666663, 234.79, 232.315, 229.84, 229.99, 228.34, 228.89333333333332, 229.44666666666666, 230.0, 228.075, 226.15, 230.08, 229.42, 233.88, 235.14, 233.81, 236.475, 239.14, 236.78, 235.87, 236.82, 237.77, 239.06, 238.6, 239.78499999999997, 240.97, 242.15499999999997, 243.34, 244.52499999999998, 245.71, 248.05, 245.81, 249.14, 252.47, 257.78, 263.09, 270.04, 267.15999999999997, 264.28, 270.3, 267.9, 275.21, 278.6, 283.03, 283.96, 289.88, 295.8, 305.67, 314.95, 328.28, 310.9, 325.78, 361.73, 404.55, 407.99, 387.77, 374.41, 383.62, 372.86, 378.02, 335.02, 309.95, 337.0, 336.98, 328.135, 319.29, 330.82, 336.0, 335.68, 326.51, 322.04, 326.5, 324.2, 321.95, 319.7, 328.9, 353.9, 357.42, 356.78, 371.2, 376.7, 367.905, 359.11, 361.48, 363.62, 388.0, 388.54, 395.57, 416.67, 416.69, 415.57, 453.12, 436.08, 433.13, 448.83, 464.53, 455.61, 457.7033333333333, 459.7966666666666, 461.89, 450.015, 438.14, 435.65, 431.015, 426.38, 421.745, 417.11, 421.78, 420.81, 431.7, 426.09, 430.48, 434.87, 433.2, 431.54, 433.31, 432.45, 429.99, 456.87, 452.02, 448.84, 448.2, 448.0, 434.78, 432.64, 396.63, 360.62, 387.8, 384.16666666666663, 380.5333333333333, 376.9, 418.9, 409.42, 382.85, 386.37, 388.235, 390.1, 391.77, 394.62, 379.55, 378.12, 376.38, 368.49, 368.46, 368.42999999999995, 368.4, 388.0, 381.695, 375.39, 375.0, 370.95, 375.145, 379.34, 377.98, 383.0, 390.99, 405.5, 408.8633333333333, 412.2266666666666, 415.59, 421.15, 419.98, 434.63, 438.33, 438.26, 419.1, 423.79, 423.38, 432.0, 431.13, 430.26, 436.75, 433.33, 422.4, 420.29, 408.18, 407.16499999999996, 406.15, 413.96, 412.14, 412.99, 416.0, 419.14, 409.95, 412.99, 414.83, 415.84, 416.52, 418.47, 407.5, 408.36, 410.62, 413.505, 416.39, 417.62, 415.17, 415.6, 416.96, 424.62, 422.87, 415.43, 413.68, 414.66, 416.31, 419.35, 418.51, 418.81, 422.71, 421.35, 419.99, 417.75, 418.59, 420.4, 422.79, 425.32, 423.6, 424.4, 427.28999999999996, 430.18, 427.15, 428.14, 435.7, 441.99, 451.0, 447.16, 451.92, 460.03, 462.29, 467.39, 445.39, 449.94, 456.53, 455.1925, 453.855, 452.5175, 451.18, 447.36, 448.5, 458.98, 458.97, 457.75, 461.49, 450.88, 452.95, 455.2, 456.42, 456.99, 457.56, 454.0, 452.96, 452.47, 436.3, 442.84, 442.72, 438.72, 442.63, 445.77666666666664, 448.9233333333333, 452.07, 470.58, 522.13, 517.6, 524.05, 530.5, 536.95, 549.1333333333333, 561.3166666666666, 573.5, 578.81, 584.12, 583.565, 583.01, 592.0066666666667, 601.0033333333333, 610.0, 656.905, 703.81, 685.25, 695.0, 767.37, 745.0, 752.06, 759.12, 725.0, 665.36, 600.51, 622.59, 660.76, 658.8, 630.16, 657.49, 644.33, 635.91, 666.33, 684.405, 702.48, 690.61, 678.74, 676.72, 674.7, 638.89, 663.0, 647.78, 648.77, 656.145, 663.52, 652.24, 660.3, 664.6, 667.1500000000001, 669.7, 672.25, 674.8, 667.01, 663.25, 647.88, 655.52, 655.4225, 655.325, 655.2275, 655.13, 654.84, 654.88, 638.8666666666667, 622.8533333333334, 606.84, 540.0, 559.0699999999999, 578.14, 572.98, 589.47, 587.2166666666667, 584.9633333333334, 582.71, 590.46, 585.25, 585.34, 583.54, 568.76, 564.2, 574.95, 570.91, 571.9449999999999, 572.98, 577.7, 577.55, 582.78, 580.27, 577.65, 575.75, 577.92, 567.51, 573.2, 570.74, 570.745, 570.75, 571.375, 572.0, 596.25, 605.72, 604.98, 608.93, 617.3, 625.67, 622.01, 621.65, 604.08, 606.4, 607.45, 607.05, 606.65, 604.79, 602.93, 608.0, 604.425, 600.85, 598.135, 595.42, 600.47, 600.05, 598.95, 606.7, 605.07, 605.33, 605.59, 609.2850000000001, 612.98, 612.9100000000001, 612.84, 613.3442857142857, 613.8485714285714, 614.3528571428571, 614.8571428571429, 615.3614285714286, 615.8657142857143, 616.37, 638.3, 636.73, 635.16, 633.9399999999999, 632.7199999999999, 631.4999999999999, 630.28, 629.06, 627.84, 628.05, 628.99, 654.52, 651.775, 649.03, 658.25, 667.47, 676.69, 685.91, 711.1, 704.0699999999999, 697.04, 726.6, 742.0, 684.84, 702.95, 703.33, 709.92, 702.86, 708.17, 721.5, 714.48, 716.39, 701.17, 700.38, 704.98, 711.07, 739.71, 736.0, 733.03, 730.06, 727.09, 738.11, 749.13, 740.18, 735.63, 736.96, 732.1400000000001, 727.32, 732.2333333333333, 737.1466666666665, 742.06, 751.55, 770.91, 762.97, 762.0, 749.51, 758.97, 764.05, 765.28, 766.51, 767.74, 768.97, 777.0, 777.015, 777.03, 776.3, 781.32, 784.83, 788.34, 793.585, 798.83, 828.885, 858.94, 914.48, 892.61, 890.65, 897.82, 937.1500000000001, 976.48, 969.99, 959.54, 978.645, 997.75, 1011.44, 1035.51, 1114.38, 1004.73, 894.02, 906.2, 909.8, 896.09, 905.24, 778.7, 807.51, 825.98, 819.52, 821.86, 831.76, 905.95, 887.69, 902.23, 895.81, 921.98, 923.75, 913.15, 885.47, 893.25, 914.95, 918.02, 918.6, 913.12, 919.99, 963.99, 983.79, 1009.15, 1015.06, 1033.72, 1010.03, 1024.0, 1052.48, 1051.73, 985.71, 995.49, 1011.01, 1005.875, 1000.74, 1008.88, 1011.53, 1032.91, 1055.75, 1053.775, 1051.8, 1084.0, 1107.01, 1130.02, 1183.53, 1180.05, 1152.11, 1180.46, 1194.64, 1191.16, 1228.0, 1238.6666666666665, 1249.3333333333333, 1260.0, 1269.98, 1278.49, 1233.86, 1149.34, 1190.99, 1111.55, 1176.58, 1226.42, 1242.46, 1245.82, 1258.75, 1172.0, 1068.16, 969.4, 1012.88, 1036.23, 1114.39, 1037.6, 1030.84, 928.1, 956.02, 959.08, 1039.09, 1042.83, 1037.29, 1054.315, 1071.34, 1083.95, 1076.59, 1146.42, 1143.0, 1134.86, 1190.72, 1190.66, 1197.93, 1205.2, 1209.99, 1218.99, 1212.16, 1172.56, 1169.53, 1171.0, 1162.31, 1176.59, 1202.59, 1203.98, 1234.93, 1243.6, 1231.85, 1245.0333333333333, 1258.2166666666667, 1271.4, 1287.92, 1331.0, 1333.93, 1336.77, 1348.88, 1390.86, 1447.75, 1503.25, 1537.36, 1545.6999999999998, 1554.04, 1554.38, 1649.55, 1720.26, 1775.5549999999998, 1830.85, 1690.33, 1776.8, 1782.3, 1706.07, 1700.01, 1779.0, 1879.0, 1959.09, 2013.99, 2017.55, 2088.76, 2265.9, 2420.29, 2277.01, 2280.7, 2042.89, 2172.54, 2290.18, 2201.7, 2298.01, 2413.58, 2488.94, 2538.1, 2530.27, 2698.0, 2875.71, 2680.24, 2805.46, 2818.0, 2899.01, 2954.23, 2656.97, 2705.99, 2451.42, 2424.96, 2484.68, 2630.06, 2516.98, 2598.0, 2734.03, 2658.67, 2713.48, 2685.05, 2557.66, 2502.26, 2421.21, 2565.0, 2550.99, 2538.41, 2465.48, 2421.3, 2504.81, 2540.07, 2594.52, 2598.37, 2599.01, 2501.46, 2550.13, 2504.0, 2326.12, 2301.55, 2383.97, 2340.0, 2209.44, 1970.51, 1917.72, 2226.0, 2308.82, 2265.51, 2880.0, 2667.01, 2824.82, 2756.8, 2759.95, 2564.74, 2524.99, 2666.33, 2777.01, 2681.6, 2745.76, 2855.81, 2732.0, 2703.51, 2793.34, 2851.01, 3263.51, 3216.78, 3387.54, 3408.46, 3342.99, 3410.0, 3651.74, 3855.04, 4053.87, 4320.95, 4154.99, 4361.99, 4260.47, 4100.0, 4091.99, 4058.64, 3987.51, 4078.0, 4121.78, 4308.8, 4348.17, 4333.38, 4329.91, 4385.0, 4578.82, 4573.15, 4734.26, 4921.71, 4599.9, 4603.68, 4282.53, 4397.38, 4605.81, 4615.0, 4327.41, 4322.44, 4226.21, 4198.89, 4170.6, 3861.89, 3227.79, 3699.89, 3669.07, 3662.95, 4102.0, 3888.8, 3864.0, 3607.83, 3611.91, 3781.13, 3667.01, 3920.66, 3883.95, 4202.34, 4183.47, 4162.04, 4326.09, 4369.33, 4391.41, 4315.73, 4219.74, 4301.09, 4356.09, 4422.72, 4597.97, 4761.67, 4747.9, 4822.01, 5444.0, 5653.58, 5795.01, 5683.92, 5752.2, 5591.97, 5572.64, 5700.0, 5977.26, 6010.85, 5967.38, 5869.82, 5518.49, 5741.35, 5889.99, 5773.03, 5731.7, 6133.01, 6120.0, 6434.24, 6745.04, 7030.0, 7145.24, 7388.79, 7373.3, 6967.64, 7131.38, 7465.06, 7150.61, 6588.18, 6355.13, 5870.03, 6524.69, 6609.0, 7294.0, 7846.96, 7675.0, 7775.55, 8016.58, 8226.14, 8095.19, 8214.69, 7988.96, 8199.83, 8718.0, 9278.99, 9708.06, 9877.63, 9833.7, 9927.29, 10840.45, 10875.68, 11250.0, 11613.07, 11676.99, 13623.0, 16599.99, 15799.87, 14601.01, 14690.99, 16470.0, 16650.01, 16245.02, 16404.99, 17477.98, 19187.78, 18953.0, 18940.58, 17700.0, 16466.98, 15600.0, 13980.0, 14619.0, 14107.87, 13925.5, 15764.45, 15390.05, 14436.99, 14351.0, 12640.0, 13880.0, 13394.2, 14670.96, 15155.62, 15143.67, 16927.99, 17142.43, 16173.98, 14999.99, 14403.51, 14899.99, 13249.99, 13829.28, 14197.78, 13647.99, 13581.66, 11393.97, 11199.0, 11290.9, 11560.82, 12782.99, 11558.87, 10810.0, 10848.99, 11400.98, 11140.01, 11093.74, 11446.54, 11685.58, 11162.62, 9971.0, 10148.99, 9010.87, 8838.29, 9225.31, 8190.78, 6878.65, 7737.26, 7588.01, 8259.42, 8693.98, 8560.0, 8077.25, 8891.2, 8504.57, 9490.98, 10011.3, 10203.14, 11101.0, 10433.68, 11159.12, 11233.42, 10446.79, 9843.33, 10135.2, 9688.26, 9595.99, 10329.99, 10572.49, 10314.99, 10917.37, 11032.81, 11445.0, 11479.68, 11417.39, 10723.01, 9904.52, 9293.06, 9228.83, 8795.04, 9535.04, 9115.24, 9152.07, 8195.99, 8265.05, 8258.54, 7860.83, 8205.55, 8596.79, 8904.02, 8892.18, 8708.52, 8917.99, 8541.96, 8451.12, 8152.26, 7791.69, 7932.41, 7086.14, 6839.63, 6926.5, 6816.31, 7052.75, 7415.53, 6799.37, 6771.3, 6627.7, 6904.21, 7027.26, 6782.39, 6824.75, 6940.94, 7923.78, 7885.9, 8003.39, 8353.43, 8054.68, 7890.87, 8172.83, 8273.0, 8865.78, 8924.93, 8781.7, 8942.0, 9648.36, 8855.07, 9277.32, 8916.54, 9352.97, 9396.32, 9243.51, 9066.9, 9220.0, 9737.0, 9689.0, 9827.04, 9621.99, 9356.79, 9181.52, 9308.49, 9007.19, 8408.79, 8481.72, 8696.54, 8674.53, 8481.99, 8337.77, 8058.16, 8248.99, 8225.55, 8518.64, 8403.23, 7983.98, 7509.99, 7579.3, 7459.21, 7335.99, 7348.64, 7112.2, 7469.45, 7375.64, 7492.28, 7511.72, 7642.0, 7712.97, 7494.99, 7617.98, 7658.99, 7676.41, 7618.11, 7498.0, 6781.17, 6880.76, 6557.66, 6308.49, 6638.8, 6390.6, 6487.92, 6451.03, 6711.3, 6728.44, 6756.6, 6718.33, 6055.17, 6169.91, 6153.6, 6252.28, 6073.99, 6135.64, 5845.2, 6204.01, 6385.75, 6345.48, 6605.46, 6507.99, 6575.62, 6533.69, 6604.74, 6755.46, 6706.6, 6666.75, 6304.45, 6379.13, 6243.53, 6208.78, 6245.99, 6353.25, 6721.21, 7310.71, 7384.92, 7474.35, 7330.84, 7398.16, 7393.5, 7712.46, 8394.48, 8174.06, 7926.0, 8177.72, 8231.07, 8216.74, 8162.28, 7726.85, 7600.22, 7535.0, 7416.98, 7009.94, 7028.89, 6932.18, 6717.67, 6283.89, 6544.98, 6139.99, 6240.49, 6311.99, 6252.63, 6194.3, 6273.34, 6314.08, 6578.13, 6397.37, 6481.63, 6260.83, 6478.99, 6355.97, 6525.99, 6692.99, 6732.99, 6700.13, 6911.7, 7079.46, 7031.9, 6984.34, 7015.78, 7153.86, 7291.94, 7261.29, 7353.48, 6671.95, 6488.01, 6401.01, 6178.31, 6238.99, 6303.99, 6274.6, 6326.83, 6482.95, 6476.51, 6487.895, 6499.28, 6251.49, 6330.0, 6388.4, 6492.98, 6748.85, 6710.01, 6703.37, 6578.7, 6428.09, 6454.32, 6684.5, 6609.02, 6574.29, 6597.79, 6548.895, 6500.0, 6454.81, 6548.83, 6582.11, 6547.93, 6574.15, 6604.76, 6588.72, 6517.55, 6152.76, 6182.03, 6201.23, 6185.04, 6438.2, 6457.67, 6440.07, 6394.23, 6380.47, 6412.86, 6412.62, 6409.39, 6396.24, 6411.96, 6393.38, 6406.1, 6407.66, 6404.27, 6266.47, 6285.485000000001, 6304.5, 6343.85, 6371.9766666666665, 6400.103333333333, 6428.23, 6404.97, 6448.17, 6501.0, 6405.49, 6325.0, 6338.785, 6352.57, 6318.01, 6255.86, 5592.23, 5571.12, 5537.24, 5503.36, 5553.01, 4732.92, 4349.41, 4551.47, 4268.4, 4288.25, 3780.67, 3934.22, 3727.34, 3771.01, 4219.77, 4250.0, 3970.56, 4140.4, 4099.63, 3830.81, 3903.52, 3694.03, 3437.22, 3376.27, 3398.8, 3528.68, 3406.41, 3345.01, 3430.2, 3263.55, 3194.04, 3180.84, 3191.41, 3499.37, 3667.16, 3684.03, 4073.58, 3842.59, 3977.65, 3947.82, 4034.54, 3780.0, 3810.01, 3590.26, 3884.66, 3728.96, 3831.03, 3693.85, 3825.41, 3890.27, 3785.64, 3822.0, 3795.38, 4040.71, 4005.0, 3994.75, 4003.09, 3627.65, 3631.0, 3617.75, 3517.03, 3664.28, 3576.92, 3609.5, 3638.01, 3609.29, 3680.0, 3537.42, 3531.51, 3574.44, 3553.2, 3570.67, 3560.94, 3555.31, 3532.23, 3431.43, 3391.25, 3438.0, 3413.69, 3434.83, 3470.5, 3413.75, 3409.81, 3431.81, 3364.0, 3358.39, 3626.12, 3622.74, 3651.32, 3588.99, 3585.7, 3575.01, 3560.45, 3566.29, 3580.43, 3625.6, 3870.97, 3889.92, 3936.8, 3900.64, 3939.83, 4113.56, 3733.78, 3817.93, 3794.42, 3796.49, 3791.02, 3805.0, 3810.47, 3789.7, 3698.65, 3844.07, 3851.26, 3846.2650000000003, 3841.27, 3916.42, 3898.14, 3848.86, 3861.37, 3848.1, 3857.33, 3899.19, 3990.0, 3965.63, 3969.94, 3999.5, 4033.7, 3974.5, 3980.4, 3979.19, 3970.23, 3910.0, 3922.58, 4025.5, 4011.0, 4090.0, 4094.92, 4092.02, 4133.93, 4899.01, 4972.83, 4911.14, 5041.0, 5041.92, 5192.92, 5287.97, 5184.03, 5323.47, 5037.82, 5075.74, 5064.0, 5160.54, 5027.33, 5201.47, 5227.6, 5283.0, 5289.91, 5318.94, 5295.96, 5388.22, 5531.29, 5440.95, 5132.5, 5154.11, 5171.51, 5152.98, 5150.21, 5267.86, 5322.28, 5385.0, 5659.82, 5766.46, 5714.4, 5686.88, 5751.54, 5945.32, 6151.66, 6338.93, 7214.4, 6968.84, 7810.72, 7991.72, 8203.97, 7879.28, 7352.39, 7257.82, 8193.45, 8007.67, 7949.18, 7622.9, 7880.4, 7999.02, 8066.15, 8733.27, 8774.45, 8715.35, 8663.07, 8277.76, 8545.8, 8560.1, 8735.84, 8103.63, 7673.41, 7784.62, 7801.97, 8002.68, 7933.17, 7629.98, 8017.99, 7915.7, 8171.12, 8235.44, 8694.74, 8857.19, 8973.02, 9333.48, 9076.51, 9280.17, 9534.99, 10222.13, 10665.66, 10827.23, 11030.0, 11760.0, 12927.44, 11153.73, 12354.45, 11867.35, 10759.24, 10581.78, 10830.1, 11970.0, 11144.82, 10996.82, 11233.21, 11478.43, 12299.94, 12574.88, 12101.44, 11352.74, 11811.08, 11382.03, 10191.87, 10848.27, 9427.45, 9712.15, 10638.44, 10533.71, 10757.15, 10605.03, 10315.87, 9841.42, 9781.52, 9886.08, 9846.94, 9467.84, 9538.73, 9508.21, 9592.26, 10096.01, 10416.79, 10529.51, 10812.58, 10986.55, 11800.0, 11471.58, 11973.46, 11985.6, 11859.32, 11273.03, 11527.44, 11380.61, 10862.25, 10022.5, 10294.9, 10351.18, 10221.94, 10318.99, 10927.3, 10778.75, 10123.56, 10112.45, 10401.87, 10149.38, 10136.75, 10355.11, 10171.39, 9720.2, 9490.56, 9569.3, 9593.5, 9767.56, 10384.07, 10617.72, 10586.26, 10573.04, 10309.04, 10497.57, 10387.33, 10317.62, 10093.39, 10163.81, 10423.99, 10365.81, 10362.52, 10309.86, 10257.2, 10182.96, 10161.59, 10284.72, 10169.02, 9973.0, 10022.38, 9685.69, 8536.71, 8443.44, 8055.25, 8199.96, 8218.07, 8060.13, 8304.47, 8326.41, 8377.68, 8243.39, 8157.89, 8150.73, 7863.75, 8211.04, 8185.85, 8586.57, 8589.08, 8265.16, 8303.43, 8278.39, 8353.33, 8162.45, 7995.73, 8069.26, 7950.48, 7965.39, 8236.49, 8206.53, 8021.57, 7470.77, 7427.0, 8677.09, 9262.72, 9547.32, 9216.39, 9426.94, 9169.55, 9158.08, 9250.7, 9304.75, 9207.0, 9410.76, 9319.1, 9346.02, 9209.3, 8760.38, 8806.85, 9029.88, 8720.36, 8817.0, 8765.53, 8632.07, 8459.38, 8485.61, 8499.53, 8176.9, 8124.08, 8085.54, 7612.23, 7276.21, 7330.98, 6900.9, 7127.12, 7168.74, 7517.82, 7429.32, 7753.69, 7560.2, 7411.75, 7317.94, 7299.2, 7199.58, 7397.35, 7535.46, 7505.86, 7516.8, 7332.05, 7224.5, 7208.95, 7185.15, 7255.94, 7066.35, 7115.08, 6882.08, 6619.53, 7286.91, 7157.53, 7194.13, 7147.4, 7521.88, 7317.47, 7247.45, 7195.8, 7195.17, 7247.7, 7297.43, 7372.79, 7222.74, 7160.69, 7174.7, 6945.7, 7332.58, 7356.05, 7352.12, 7768.17, 8151.79, 8048.94, 7812.7, 8200.0, 8008.1, 8180.75, 8105.01, 8813.2, 8810.62, 8715.39, 8898.03, 8901.02, 8698.97, 8629.66, 8728.47, 8661.63, 8382.08, 8435.83, 8320.0, 8600.0, 8894.57, 9386.57, 9280.83, 9510.84, 9339.26, 9379.6, 9309.69, 9281.0, 9168.49, 9617.84, 9754.63, 9803.71, 9907.7, 10173.51, 9851.99, 10270.98, 10348.78, 10229.19, 10364.04, 9909.71, 9925.96, 9725.57, 10190.3, 9589.1, 9610.4, 9696.13, 9664.08, 9969.79, 9664.87, 9305.4, 8778.37, 8816.5, 8710.0, 8525.0, 8516.0, 8917.34, 8755.45, 8757.79, 9059.0, 9154.1, 8901.12, 8035.79, 7937.2, 7893.63, 7956.29, 4841.67, 5623.16, 5167.38, 5353.04, 5051.41, 5340.95, 5413.0, 6192.94, 6207.66, 6199.17, 5816.57, 6494.7, 6768.64, 6695.47, 6765.15, 6376.03, 6275.11, 5878.47, 6408.95, 6428.74, 6669.95, 6789.63, 6737.36, 6887.22, 6780.57, 7335.85, 7204.78, 7370.85, 7299.12, 6866.03, 6882.75, 6908.21, 6864.66, 6868.88, 6619.0, 7121.35, 7020.13, 7265.94, 7124.27, 6833.0, 6850.6, 7138.29, 7494.2, 7518.81, 7613.84, 7708.87, 7794.22, 7762.07, 8789.79, 8629.72, 8836.0, 8982.56, 8924.14, 8889.24, 9040.0, 9163.63, 10008.19, 9809.04, 9527.31, 8740.88, 8574.19, 8816.99, 9323.73, 9809.91, 9307.43, 9377.79, 9672.95, 9730.0, 9776.3, 9505.61, 9062.25, 9171.96, 9183.93, 8710.12, 8903.22, 8835.79, 9209.99, 9581.49, 9428.52, 9705.1, 9444.61, 10203.64, 9522.52, 9668.0, 9791.0, 9616.17, 9673.08, 9759.04, 9786.64, 9782.3, 9894.32, 9265.95, 9465.92, 9478.93, 9329.99, 9435.41, 9447.615, 9459.82, 9374.83, 9287.6, 9355.93, 9287.89, 9688.26, 9617.88, 9286.3, 9237.98, 9158.13, 9008.33, 9118.8, 9187.85, 9136.89, 9114.285, 9091.68, 9053.87, 9142.16, 9077.18, 9346.9, 9257.21, 9441.76, 9234.91, 9291.0, 9234.07, 9304.94, 9234.19, 9256.33, 9191.0, 9134.44, 9150.51, 9175.7, 9213.15, 9161.77, 9395.98, 9537.23, 9614.85, 9549.34, 9712.45, 10380.925, 11049.4, 10931.91, 11105.01, 11110.84, 11357.98, 11808.21, 11074.92, 11236.39, 11193.48, 11759.9, 11770.26, 11601.75, 11767.93, 11684.6, 11896.37, 11386.5, 11567.74, 11797.55, 11771.97, 11858.6, 11916.83, 12301.27, 11950.0, 11762.18, 11857.18, 11527.81, 11678.17, 11653.7, 11750.4, 11328.5, 11462.91, 11332.26, 11538.74, 11471.71, 11713.11, 11658.48, 11919.53, 11395.1, 10160.0, 10460.2, 10165.47, 10258.43, 10377.5, 10126.01, 10221.76, 10341.38, 10400.46, 10446.4, 10338.82, 10671.4, 10785.0, 10950.15, 10947.35, 10935.49, 10928.51, 10921.53, 10418.83, 10525.72, 10236.86, 10738.46, 10694.23, 10731.09, 10779.99, 10681.41, 10840.0, 10780.83, 10611.17, 10571.6, 10543.17, 10666.16, 10797.36, 10602.31, 10669.1, 10927.02, 11060.46, 11300.97, 11372.48, 11539.42, 11440.28, 11430.49, 11506.53, 11331.88, 11425.23, 11518.58, 11759.2, 11921.33, 12802.63, 12983.26, 12940.03, 12990.575, 13041.12, 13065.1, 13642.31, 13275.82, 13456.14, 13569.42, 13799.44, 13762.0, 13578.82, 14041.58, 14168.49, 15608.32, 15603.28, 14829.32, 15484.68, 15349.32, 15314.94, 15702.0, 16300.0, 16339.06, 16092.8, 15975.49, 16727.85, 17681.77, 17792.96, 17822.37, 18685.08, 18726.43, 18432.6, 18386.92, 19175.13, 18727.24, 17168.31, 17160.38, 17724.41, 18196.75, 19703.53, 18773.21, 19220.09, 19439.94, 18650.08, 19162.17, 19385.13, 19183.13, 18311.31, 18546.38, 18250.3, 18031.23, 18806.83, 19151.82, 19274.33, 19434.55, 21358.96, 22829.89, 23142.05, 23842.38, 23470.85, 22750.07, 23819.08, 23215.0, 23747.22, 24714.01, 26472.89, 26242.82, 27037.9, 27370.0, 28893.21, 28999.63, 29410.77, 32216.51, 33068.83, 32054.23, 34081.24, 36875.96, 39510.59, 40682.76, 40239.06, 38164.88, 35449.71, 34035.02, 37393.49, 39147.98, 36778.66, 36013.51, 35826.36, 36665.82, 35888.13, 35516.17, 30817.86, 32989.1, 32098.38, 32289.06, 32264.15, 32521.65, 30427.34, 33488.66, 34265.71, 34300.19, 33110.32, 33497.16, 35496.91, 37693.0, 36984.28, 38320.0, 39274.8, 38870.36, 46445.51, 46493.9, 44854.63, 48044.88, 47424.25, 47258.66, 48620.48, 47954.05, 49136.7, 52141.23, 51560.46, 56000.59, 55919.75, 57485.74, 54173.64, 48927.33, 49715.13, 47070.18, 46324.15, 46142.1, 45261.56, 49641.89, 48438.0, 50376.05, 48353.09, 48774.67, 48933.12, 50952.55, 52427.8, 54927.29, 55918.09, 57847.92, 57297.67, 61177.03, 58956.9, 55616.42, 56928.38, 58939.73, 57648.01, 58029.94, 58072.87, 57410.54, 54117.71, 54360.07, 52281.77, 51292.65, 55081.26, 55817.85, 55790.28, 57623.66, 58767.75], \"yaxis\": \"y\"}, {\"hoverlabel\": {\"namelength\": 0}, \"hovertemplate\": \"x=%{x}<br>y=%{y}<br>color=%{marker.color}\", \"legendgroup\": \"\", \"marker\": {\"color\": [false, false, false, false, false, false, false, false, false, false, false, false, false, false, false, false, false, false, false, false, false, false, false, false, false, false, false, false, false, false, false, false, false, false, false, false, false, false, false, false, false, false, false, false, false, false, false, false, false, false, false, false, false, false, false, false, false, false, false, false, false, false, false, false, false, false, false, false, false, false, false, false, false, false, false, false, false, false, false, false, false, false, false, false, false, false, false, false, false, false, false, false, false, false, false, false, true, false, false, false, false, false, false, false, false, false, false, false, false, false, false, false, false, false, false, false, false, false, false, false, false, false, false, false, false, false, false, false, false, false, false, false, false, false, false, false, false, false, false, false, false, false, false, false, false, false, false, false, false, false, false, false, false, false, false, false, false, false, false, false, false, false, false, false, false, false, false, false, false, false, false, false, false, false, false, false, false, false, false, false, false, false, false, false, false, false, false, false, false, false, false, false, false, false, false, false, false, false, false, false, false, false, false, false, false, false, false, false, false, false, false, false, false, false, false, false, false, false, false, false, false, false, false, false, false, false, false, false, false, false, false, false, false, false, false, false, false, false, false, false, false, false, false, false, false, false, false, false, false, false, false, false, false, false, false, false, false, false, false, false, false, false, false, false, false, false, false, false, false, false, false, false, false, false, false, false, false, false, false, false, false, false, false, false, false, false, false, false, false, false, false, false, false, false, false, false, false, false, false, false, false, false, false, false, false, false, false, false, false, false, false, false, false, false, false, false, false, false, false, false, false, false, false, false, false, false, false, false, false, false, false, false, false, false, false, false, false, false, false, false, false, false, false, false, false, false, false, false, false, false, false, false, false, false, false, false, false, false, false, false, false, false, false, false, false, false, false, false, false, false, false, false, false, false, false, false, false, false, false, false, false, false, false, false, false, false, false, false, false, false, false, false, false, false, false, false, false, false, false, false, false, false, false, false, false, false, false, false, false, false, false, false, false, false, false, false, false, false, false, false, false, false, false, false, false, false, false, false, false, false, false, false, false, false, false, false, false, false, false, false, false, false, false, false, false, false, false, false, false, false, false, false, false, false, false, false, false, false, false, false, false, false, false, false, false, false, false, false, false, false, false, false, false, false, false, false, false, false, false, false, false, false, false, false, false, false, false, false, false, false, false, false, false, false, false, false, false, false, false, false, false, false, false, false, false, false, false, false, false, false, false, false, false, false, false, false, false, false, false, false, false, false, false, false, false, false, false, false, false, false, false, false, false, false, false, false, false, false, false, false, false, false, false, false, false, false, false, false, false, false, false, false, false, false, false, false, false, false, false, false, false, false, false, false, false, false, false, false, false, false, false, false, false, false, false, false, false, false, false, false, false, false, false, false, false, false, false, false, false, false, false, false, false, false, false, false, false, false, false, false, false, false, false, false, false, false, false, false, false, false, false, false, false, false, false, false, false, false, false, false, false, false, false, false, false, false, false, false, false, false, false, false, false, false, false, false, false, false, false, false, false, false, false, false, false, false, false, false, false, false, false, false, false, false, false, false, false, false, false, false, false, false, false, false, false, false, false, false, false, false, false, false, false, false, false, false, false, false, false, false, false, false, false, false, false, false, false, false, false, false, false, false, false, false, false, false, false, false, false, false, false, false, false, false, false, false, false, false, false, false, false, false, false, false, false, false, false, false, false, false, false, false, false, false, false, false, false, false, false, false, false, false, false, false, false, false, false, false, false, false, false, false, false, false, false, false, false, false, false, false, false, false, false, false, false, false, false, false, false, false, false, false, false, false, false, false, false, false, false, false, false, false, false, false, false, false, false, false, false, false, false, false, false, false, false, false, false, false, false, false, false, false, false, false, false, false, false, false, false, false, false, false, false, false, false, false, false, false, false, false, false, false, false, false, false, false, false, false, false, false, false, false, false, false, false, false, false, false, false, false, false, false, false, false, false, false, false, false, false, false, false, false, false, false, false, false, false, false, false, false, false, false, false, false, false, false, false, false, false, false, false, false, false, false, false, false, false, false, false, false, false, false, false, false, false, false, false, false, false, false, false, false, false, false, false, false, false, false, false, false, false, false, false, false, false, false, false, false, false, false, false, false, false, false, false, false, false, false, false, false, false, false, false, false, false, false, false, false, false, false, false, false, false, false, false, false, false, false, false, false, false, false, false, false, false, false, false, false, false, false, false, false, false, false, false, false, false, false, false, false, false, false, false, false, false, false, false, false, false, false, false, false, false, false, false, false, false, false, false, false, false, false, false, false, false, false, false, false, false, false, false, false, false, false, false, false, false, false, false, false, false, false, false, false, false, false, false, false, false, false, false, false, false, false, false, false, false, false, false, false, false, false, false, false, false, false, false, false, false, false, false, false, false, false, false, false, false, false, false, false, false, false, false, false, false, false, false, false, false, false, false, false, false, false, false, false, false, false, false, false, false, false, false, false, false, false, false, false, false, false, false, false, false, false, false, false, false, false, false, false, false, false, false, false, false, false, false, false, false, false, false, false, false, false, false, false, false, false, false, false, false, false, false, false, false, false, false, false, false, false, false, false, false, false, false, false, false, false, false, false, false, false, false, false, false, false, false, false, false, false, false, false, false, false, false, false, false, false, false, false, false, false, false, false, false, false, false, false, false, false, false, false, false, false, false, false, false, false, false, false, false, false, false, false, false, false, false, false, false, false, false, false, false, false, false, false, false, false, false, false, false, false, false, false, false, false, false, false, false, false, false, false, false, false, false, false, false, false, false, false, false, false, false, false, false, false, false, false, false, false, false, false, false, false, false, false, false, false, false, false, false, false, false, false, false, false, false, false, false, false, false, false, false, false, false, false, false, false, false, false, false, false, false, false, false, false, false, false, false, false, false, false, false, false, false, false, false, false, false, false, false, false, false, false, false, false, false, false, false, false, false, false, false, false, false, false, false, false, false, false, false, false, false, false, false, false, false, false, false, false, false, false, false, false, false, false, false, false, false, false, false, false, false, false, false, false, false, false, false, false, false, false, false, false, false, false, false, false, false, false, false, false, false, false, false, false, false, false, false, false, false, false, false, false, false, false, false, false, false, false, false, false, false, false, false, false, false, false, false, false, false, false, false, false, false, false, false, false, false, false, false, false, false, false, false, false, false, false, false, false, false, false, false, false, false, false, false, false, false, false, false, false, false, false, false, false, false, false, false, false, false, false, false, false, false, false, false, false, false, false, false, false, false, false, false, false, false, false, false, false, false, false, false, false, false, false, false, false, false, false, false, false, false, false, false, false, false, false, false, false, false, false, false, false, false, false, false, false, false, false, false, false, false, false, false, false, false, false, false, false, false, false, false, false, false, false, false, false, false, false, false, false, false, false, false, false, false, false, false, false, false, false, false, false, false, false, false, false, false, false, false, false, false, false, false, false, false, false, false, false, false, false, false, false, false, false, false, false, false, false, false, false, false, false, false, false, false, false, false, false, false, false, false, false, false, false, false, false, false, false, false, false, false, true, false, false, false, false, false, false, false, false, false, false, false, false, false, false, false, false, false, false, false, true, false, false, false, false, false, false, false, false, false, false, false, false, false, false, false, false, false, false, false, false, false, false, false, false, false, false, false, false, false, false, false, false, false, false, false, false, false, false, false, false, false, false, false, false, false, false, false, false, false, false, false, false, false, false, false, false, false, false, false, false, false, false, false, false, false, false, false, false, false, false, false, false, false, false, false, false, false, false, false, false, false, false, false, false, false, false, false, false, false, false, false, false, false, false, false, false, false, false, false, false, false, false, false, false, false, false, false, false, false, false, false, false, false, false, false, false, false, false, false, false, false, false, false, false, false, false, false, false, false, false, false, false, false, false, false, false, false, false, false, false, false, false, false, false, false, false, false, false, false, false, false, false, false, false, false, false, false, false, false, false, false, false, false, false, false, false, false, false, false, false, false, false, false, false, false, false, false, false, false, true, false, false, false, false, false, false, true, false, true, true, false, false, false, false, false, false, false, true, true, false, false, true, false, false, false, true, true, true, true, false, true, false, true, false, false, false, false, false, false, false, false, false, false, false, false, false, false, false, false, false, false, false, false, false, false, false, false, false, false, false, false, false, false, false, false, false, false, false, false, false, false, false, false, false, false, false, false, false, false, false, false, false, false, false, false, false, false, false, false, false, false, false, false, false, false, false, false, false, false, false, false, false, false, false, false, false, false, false, false, false, false, false, false, false, false, false, false, false, false, false, false, false, false, false, false, false, false, false, false, false, false, false, false, false, false, false, false, false, false, false, false, false, false, false, false, false, false, false, false, false, false, false, false, false, false, false, false, false, false, false, false, false, false, false, false, false, false, false, false, false, false, false, false, false, false, false, false, false, false, false, false, false, false, false, false, false, false, false, false, false, false, false, false, false, false, false, false, false, false, false, false, false, false, false, false, false, false, false, false, false, false, false, false, false, false, false, false, false, false, false, false, false, false, false, false, false, false, false, false, false, false, false, false, false, false, false, false, false, false, false, false, false, false, false, false, false, false, false, false, false, false, false, false, false, false, false, false, false, false, false, false, false, false, false, false, false, false, false, false, false, false, false, false, false, false, false, false, false, false, false, false, false, false, false, false, false, false, false, false, false, false, false, false, false, false, false, false, false, false, false, false, false, false, false, false, false, false, false, false, false, false, false, false, false, false, false, false, false, false, false, false, false, false, false, false, false, false, false, false, false, false, false, false, false, false, false, false, false, false, false, false, false, false, false, false, false, false, false, false, false, false, false, false, false, false, false, false, false, false, false, false, false, false, false, false, false, false, false, false, false, false, false, false, false, false, false, false, false, false, false, false, false, false, false, false, false, false, false, false, false, false, false, false, false, false, false, false, false, false, false, false, false, false, false, false, false, false, false, false, false, false, false, false, false, false, false, false, false, false, false, false, false, false, false, false, false, false, false, false, false, false, false, false, false, false, false, false, false, false, false, false, false, false, false, false, false, false, false, false, false, false, false, false, false, false, false, false, false, false, false, false, false, false, false, false, false, false, false, false, false, false, false, false, false, false, false, false, false, false, false, false, false, false, false, false, false, false, false, false, false, false, false, false, false, false, false, false, false, false, false, false, false, false, false, false, false, false, false, false, false, false, false, false, false, false, false, false, false, false, false, false, false, false, false, false, false, false, false, false, false, false, false, false, false, false, false, false, false, false, false, false, false, false, false, false, false, false, false, false, false, false, false, false, false, false, false, false, false, false, false, false, false, false, false, false, false, true, false, false, false, false, false, false, false, false, false, false, true, false, false, false, false, false, false, false, false, false, false, false, false, false, false, false, false, false, false, false, false, false, false, false, false, false, false, false, false, false, false, false, false, false, false, false, false, false, false, false, false, false, false, false, false, false, false, false, false, false, false, false, false, false, false, false, false, false, false, false, false, false, false, false, false, false, false, false, false, false, false, false, false, false, false, false, false, false, false, false, false, false, false, false, false, false, false, false, false, false, false, false, false, false, false, false, false, false, false, false, false, false, false, false, false, false, false, false, false, false, false, false, false, false, false, false, false, false, false, false, false, false, false, false, false, false, false, false, false, false, false, false, false, false, false, false, false, false, false, false, false, false, false, false, false, false, false, false, false, false, false, false, false, false, false, false, false, false, false, false, false, false, false, false, false, false, false, false, false, false, false, false, false, false, false, false, false, false, false, false, false, false, false, false, false, false, false, false, false, false, false, false, false, false, false, false, false, false, false, false, false, false, false, false, false, false, false, false, false, false, false, false, false, false, false, false, false, false, false, false, false, false, false, false, false, false, false, false, false, false, false, false, false, false, false, false, false, false, false, false, false, false, false, false, false, false, false, false, false, false, false, false, false, false, false, false, false, false, false, false, false, false, false, false, false, false, false, false, false, false, false, false, false, false, false, false, false, false, false, false, false, false, false, false, false, false, false, false, false, false, false, false, false, false, false, false, false, false, false, false, false, false, false, false, false, false, false, false, false, false, false, false, false, false, false, false, false, false, false, false, false, false, false, false, false, false, false, false, false, false, false, false, false, false, false, false, false, false, false, false, false, false, false, false, false, false, false, false, false, false, false, false, false, false, false, false, false, false, false, false, false, false, false, false, false, false, false, false, false, false, false, false, false, false, false, false, false, false, false, false, false, false, false, false, false, false, false, false, false, false, false, false, false, false, false, false, false, false, false, false, false, false, false, false, false, false, false, false, false, false, false, false, false, false, false, false, false, false, false, false, false, false, false, false, false, false, false, false, false, false, false, false, false, false, false, false, false, false, false, false, false, false, false, false, false, false, false, false, false, false, false, false, false, false, false, false, false, false, false, false, false, false, false, false, false, false, false, false, false, false, false, false, false, false, false, false, false, false, false, false, false, false, false, false, false, false, false, true, true, false, true, false, false, false, true, true, true, true, true, true, false, false, true, true, false, false, true, true, false, true, true, false, true, true, false, false, true, false, true, true, true, true, false, false, true, true, true, true, true, true, true, true, true, true, true, true, true, true, true, true, true, true, true, true, true, true, true, true, true, true, true, true, true, true, true, true, true, true, true, true, true, true, true, true, true, true, true, true, true, true, true, true, true, true, true, true, true, true, true, true, true, true, true, true, true, true, true, true, true, true, true, true, true, true, true, true, true, true, true, true, true, true, true, true, true, true, true, true, true, true, true, true, true, true, true, true, true, true, true, true, true, true, true, true, true, true, true, true, true, true, true], \"coloraxis\": \"coloraxis\", \"symbol\": \"circle\"}, \"mode\": \"markers\", \"name\": \"\", \"showlegend\": false, \"type\": \"scattergl\", \"x\": [\"2013-04-01T00:00:00\", \"2013-04-02T00:00:00\", \"2013-04-03T00:00:00\", \"2013-04-04T00:00:00\", \"2013-04-05T00:00:00\", \"2013-04-06T00:00:00\", \"2013-04-07T00:00:00\", \"2013-04-08T00:00:00\", \"2013-04-09T00:00:00\", \"2013-04-10T00:00:00\", \"2013-04-11T00:00:00\", \"2013-04-12T00:00:00\", \"2013-04-13T00:00:00\", \"2013-04-14T00:00:00\", \"2013-04-15T00:00:00\", \"2013-04-16T00:00:00\", \"2013-04-17T00:00:00\", \"2013-04-18T00:00:00\", \"2013-04-19T00:00:00\", \"2013-04-20T00:00:00\", \"2013-04-21T00:00:00\", \"2013-04-22T00:00:00\", \"2013-04-23T00:00:00\", \"2013-04-24T00:00:00\", \"2013-04-25T00:00:00\", \"2013-04-26T00:00:00\", \"2013-04-27T00:00:00\", \"2013-04-28T00:00:00\", \"2013-04-29T00:00:00\", \"2013-04-30T00:00:00\", \"2013-05-01T00:00:00\", \"2013-05-02T00:00:00\", \"2013-05-03T00:00:00\", \"2013-05-04T00:00:00\", \"2013-05-05T00:00:00\", \"2013-05-06T00:00:00\", \"2013-05-07T00:00:00\", \"2013-05-08T00:00:00\", \"2013-05-09T00:00:00\", \"2013-05-10T00:00:00\", \"2013-05-11T00:00:00\", \"2013-05-12T00:00:00\", \"2013-05-13T00:00:00\", \"2013-05-14T00:00:00\", \"2013-05-15T00:00:00\", \"2013-05-16T00:00:00\", \"2013-05-17T00:00:00\", \"2013-05-18T00:00:00\", \"2013-05-19T00:00:00\", \"2013-05-20T00:00:00\", \"2013-05-21T00:00:00\", \"2013-05-22T00:00:00\", \"2013-05-23T00:00:00\", \"2013-05-24T00:00:00\", \"2013-05-25T00:00:00\", \"2013-05-26T00:00:00\", \"2013-05-27T00:00:00\", \"2013-05-28T00:00:00\", \"2013-05-29T00:00:00\", \"2013-05-30T00:00:00\", \"2013-05-31T00:00:00\", \"2013-06-01T00:00:00\", \"2013-06-02T00:00:00\", \"2013-06-03T00:00:00\", \"2013-06-04T00:00:00\", \"2013-06-05T00:00:00\", \"2013-06-06T00:00:00\", \"2013-06-07T00:00:00\", \"2013-06-08T00:00:00\", \"2013-06-09T00:00:00\", \"2013-06-10T00:00:00\", \"2013-06-11T00:00:00\", \"2013-06-12T00:00:00\", \"2013-06-13T00:00:00\", \"2013-06-14T00:00:00\", \"2013-06-15T00:00:00\", \"2013-06-16T00:00:00\", \"2013-06-17T00:00:00\", \"2013-06-18T00:00:00\", \"2013-06-19T00:00:00\", \"2013-06-20T00:00:00\", \"2013-06-21T00:00:00\", \"2013-06-22T00:00:00\", \"2013-06-23T00:00:00\", \"2013-06-24T00:00:00\", \"2013-06-25T00:00:00\", \"2013-06-26T00:00:00\", \"2013-06-27T00:00:00\", \"2013-06-28T00:00:00\", \"2013-06-29T00:00:00\", \"2013-06-30T00:00:00\", \"2013-07-01T00:00:00\", \"2013-07-02T00:00:00\", \"2013-07-03T00:00:00\", \"2013-07-04T00:00:00\", \"2013-07-05T00:00:00\", \"2013-07-06T00:00:00\", \"2013-07-07T00:00:00\", \"2013-07-08T00:00:00\", \"2013-07-09T00:00:00\", \"2013-07-10T00:00:00\", \"2013-07-11T00:00:00\", \"2013-07-12T00:00:00\", \"2013-07-13T00:00:00\", \"2013-07-14T00:00:00\", \"2013-07-15T00:00:00\", \"2013-07-16T00:00:00\", \"2013-07-17T00:00:00\", \"2013-07-18T00:00:00\", \"2013-07-19T00:00:00\", \"2013-07-20T00:00:00\", \"2013-07-21T00:00:00\", \"2013-07-22T00:00:00\", \"2013-07-23T00:00:00\", \"2013-07-24T00:00:00\", \"2013-07-25T00:00:00\", \"2013-07-26T00:00:00\", \"2013-07-27T00:00:00\", \"2013-07-28T00:00:00\", \"2013-07-29T00:00:00\", \"2013-07-30T00:00:00\", \"2013-07-31T00:00:00\", \"2013-08-01T00:00:00\", \"2013-08-02T00:00:00\", \"2013-08-03T00:00:00\", \"2013-08-04T00:00:00\", \"2013-08-05T00:00:00\", \"2013-08-06T00:00:00\", \"2013-08-07T00:00:00\", \"2013-08-08T00:00:00\", \"2013-08-09T00:00:00\", \"2013-08-10T00:00:00\", \"2013-08-11T00:00:00\", \"2013-08-12T00:00:00\", \"2013-08-13T00:00:00\", \"2013-08-14T00:00:00\", \"2013-08-15T00:00:00\", \"2013-08-16T00:00:00\", \"2013-08-17T00:00:00\", \"2013-08-18T00:00:00\", \"2013-08-19T00:00:00\", \"2013-08-20T00:00:00\", \"2013-08-21T00:00:00\", \"2013-08-22T00:00:00\", \"2013-08-23T00:00:00\", \"2013-08-24T00:00:00\", \"2013-08-25T00:00:00\", \"2013-08-26T00:00:00\", \"2013-08-27T00:00:00\", \"2013-08-28T00:00:00\", \"2013-08-29T00:00:00\", \"2013-08-30T00:00:00\", \"2013-08-31T00:00:00\", \"2013-09-01T00:00:00\", \"2013-09-02T00:00:00\", \"2013-09-03T00:00:00\", \"2013-09-04T00:00:00\", \"2013-09-05T00:00:00\", \"2013-09-06T00:00:00\", \"2013-09-07T00:00:00\", \"2013-09-08T00:00:00\", \"2013-09-09T00:00:00\", \"2013-09-10T00:00:00\", \"2013-09-11T00:00:00\", \"2013-09-12T00:00:00\", \"2013-09-13T00:00:00\", \"2013-09-14T00:00:00\", \"2013-09-15T00:00:00\", \"2013-09-16T00:00:00\", \"2013-09-17T00:00:00\", \"2013-09-18T00:00:00\", \"2013-09-19T00:00:00\", \"2013-09-20T00:00:00\", \"2013-09-21T00:00:00\", \"2013-09-22T00:00:00\", \"2013-09-23T00:00:00\", \"2013-09-24T00:00:00\", \"2013-09-25T00:00:00\", \"2013-09-26T00:00:00\", \"2013-09-27T00:00:00\", \"2013-09-28T00:00:00\", \"2013-09-29T00:00:00\", \"2013-09-30T00:00:00\", \"2013-10-01T00:00:00\", \"2013-10-02T00:00:00\", \"2013-10-03T00:00:00\", \"2013-10-04T00:00:00\", \"2013-10-05T00:00:00\", \"2013-10-06T00:00:00\", \"2013-10-07T00:00:00\", \"2013-10-08T00:00:00\", \"2013-10-09T00:00:00\", \"2013-10-10T00:00:00\", \"2013-10-11T00:00:00\", \"2013-10-12T00:00:00\", \"2013-10-13T00:00:00\", \"2013-10-14T00:00:00\", \"2013-10-15T00:00:00\", \"2013-10-16T00:00:00\", \"2013-10-17T00:00:00\", \"2013-10-18T00:00:00\", \"2013-10-19T00:00:00\", \"2013-10-20T00:00:00\", \"2013-10-21T00:00:00\", \"2013-10-22T00:00:00\", \"2013-10-23T00:00:00\", \"2013-10-24T00:00:00\", \"2013-10-25T00:00:00\", \"2013-10-26T00:00:00\", \"2013-10-27T00:00:00\", \"2013-10-28T00:00:00\", \"2013-10-29T00:00:00\", \"2013-10-30T00:00:00\", \"2013-10-31T00:00:00\", \"2013-11-01T00:00:00\", \"2013-11-02T00:00:00\", \"2013-11-03T00:00:00\", \"2013-11-04T00:00:00\", \"2013-11-05T00:00:00\", \"2013-11-06T00:00:00\", \"2013-11-07T00:00:00\", \"2013-11-08T00:00:00\", \"2013-11-09T00:00:00\", \"2013-11-10T00:00:00\", \"2013-11-11T00:00:00\", \"2013-11-12T00:00:00\", \"2013-11-13T00:00:00\", \"2013-11-14T00:00:00\", \"2013-11-15T00:00:00\", \"2013-11-16T00:00:00\", \"2013-11-17T00:00:00\", \"2013-11-18T00:00:00\", \"2013-11-19T00:00:00\", \"2013-11-20T00:00:00\", \"2013-11-21T00:00:00\", \"2013-11-22T00:00:00\", \"2013-11-23T00:00:00\", \"2013-11-24T00:00:00\", \"2013-11-25T00:00:00\", \"2013-11-26T00:00:00\", \"2013-11-27T00:00:00\", \"2013-11-28T00:00:00\", \"2013-11-29T00:00:00\", \"2013-11-30T00:00:00\", \"2013-12-01T00:00:00\", \"2013-12-02T00:00:00\", \"2013-12-03T00:00:00\", \"2013-12-04T00:00:00\", \"2013-12-05T00:00:00\", \"2013-12-06T00:00:00\", \"2013-12-07T00:00:00\", \"2013-12-08T00:00:00\", \"2013-12-09T00:00:00\", \"2013-12-10T00:00:00\", \"2013-12-11T00:00:00\", \"2013-12-12T00:00:00\", \"2013-12-13T00:00:00\", \"2013-12-14T00:00:00\", \"2013-12-15T00:00:00\", \"2013-12-16T00:00:00\", \"2013-12-17T00:00:00\", \"2013-12-18T00:00:00\", \"2013-12-19T00:00:00\", \"2013-12-20T00:00:00\", \"2013-12-21T00:00:00\", \"2013-12-22T00:00:00\", \"2013-12-23T00:00:00\", \"2013-12-24T00:00:00\", \"2013-12-25T00:00:00\", \"2013-12-26T00:00:00\", \"2013-12-27T00:00:00\", \"2013-12-28T00:00:00\", \"2013-12-29T00:00:00\", \"2013-12-30T00:00:00\", \"2013-12-31T00:00:00\", \"2014-01-01T00:00:00\", \"2014-01-02T00:00:00\", \"2014-01-03T00:00:00\", \"2014-01-04T00:00:00\", \"2014-01-05T00:00:00\", \"2014-01-06T00:00:00\", \"2014-01-07T00:00:00\", \"2014-01-08T00:00:00\", \"2014-01-09T00:00:00\", \"2014-01-10T00:00:00\", \"2014-01-11T00:00:00\", \"2014-01-12T00:00:00\", \"2014-01-13T00:00:00\", \"2014-01-14T00:00:00\", \"2014-01-15T00:00:00\", \"2014-01-16T00:00:00\", \"2014-01-17T00:00:00\", \"2014-01-18T00:00:00\", \"2014-01-19T00:00:00\", \"2014-01-20T00:00:00\", \"2014-01-21T00:00:00\", \"2014-01-22T00:00:00\", \"2014-01-23T00:00:00\", \"2014-01-24T00:00:00\", \"2014-01-25T00:00:00\", \"2014-01-26T00:00:00\", \"2014-01-27T00:00:00\", \"2014-01-28T00:00:00\", \"2014-01-29T00:00:00\", \"2014-01-30T00:00:00\", \"2014-01-31T00:00:00\", \"2014-02-01T00:00:00\", \"2014-02-02T00:00:00\", \"2014-02-03T00:00:00\", \"2014-02-04T00:00:00\", \"2014-02-05T00:00:00\", \"2014-02-06T00:00:00\", \"2014-02-07T00:00:00\", \"2014-02-08T00:00:00\", \"2014-02-09T00:00:00\", \"2014-02-10T00:00:00\", \"2014-02-11T00:00:00\", \"2014-02-12T00:00:00\", \"2014-02-13T00:00:00\", \"2014-02-14T00:00:00\", \"2014-02-15T00:00:00\", \"2014-02-16T00:00:00\", \"2014-02-17T00:00:00\", \"2014-02-18T00:00:00\", \"2014-02-19T00:00:00\", \"2014-02-20T00:00:00\", \"2014-02-21T00:00:00\", \"2014-02-22T00:00:00\", \"2014-02-23T00:00:00\", \"2014-02-24T00:00:00\", \"2014-02-25T00:00:00\", \"2014-02-26T00:00:00\", \"2014-02-27T00:00:00\", \"2014-02-28T00:00:00\", \"2014-03-01T00:00:00\", \"2014-03-02T00:00:00\", \"2014-03-03T00:00:00\", \"2014-03-04T00:00:00\", \"2014-03-05T00:00:00\", \"2014-03-06T00:00:00\", \"2014-03-07T00:00:00\", \"2014-03-08T00:00:00\", \"2014-03-09T00:00:00\", \"2014-03-10T00:00:00\", \"2014-03-11T00:00:00\", \"2014-03-12T00:00:00\", \"2014-03-13T00:00:00\", \"2014-03-14T00:00:00\", \"2014-03-15T00:00:00\", \"2014-03-16T00:00:00\", \"2014-03-17T00:00:00\", \"2014-03-18T00:00:00\", \"2014-03-19T00:00:00\", \"2014-03-20T00:00:00\", \"2014-03-21T00:00:00\", \"2014-03-22T00:00:00\", \"2014-03-23T00:00:00\", \"2014-03-24T00:00:00\", \"2014-03-25T00:00:00\", \"2014-03-26T00:00:00\", \"2014-03-27T00:00:00\", \"2014-03-28T00:00:00\", \"2014-03-29T00:00:00\", \"2014-03-30T00:00:00\", \"2014-03-31T00:00:00\", \"2014-04-01T00:00:00\", \"2014-04-02T00:00:00\", \"2014-04-03T00:00:00\", \"2014-04-04T00:00:00\", \"2014-04-05T00:00:00\", \"2014-04-06T00:00:00\", \"2014-04-07T00:00:00\", \"2014-04-08T00:00:00\", \"2014-04-09T00:00:00\", \"2014-04-10T00:00:00\", \"2014-04-11T00:00:00\", \"2014-04-12T00:00:00\", \"2014-04-13T00:00:00\", \"2014-04-14T00:00:00\", \"2014-04-15T00:00:00\", \"2014-04-16T00:00:00\", \"2014-04-17T00:00:00\", \"2014-04-18T00:00:00\", \"2014-04-19T00:00:00\", \"2014-04-20T00:00:00\", \"2014-04-21T00:00:00\", \"2014-04-22T00:00:00\", \"2014-04-23T00:00:00\", \"2014-04-24T00:00:00\", \"2014-04-25T00:00:00\", \"2014-04-26T00:00:00\", \"2014-04-27T00:00:00\", \"2014-04-28T00:00:00\", \"2014-04-29T00:00:00\", \"2014-04-30T00:00:00\", \"2014-05-01T00:00:00\", \"2014-05-02T00:00:00\", \"2014-05-03T00:00:00\", \"2014-05-04T00:00:00\", \"2014-05-05T00:00:00\", \"2014-05-06T00:00:00\", \"2014-05-07T00:00:00\", \"2014-05-08T00:00:00\", \"2014-05-09T00:00:00\", \"2014-05-10T00:00:00\", \"2014-05-11T00:00:00\", \"2014-05-12T00:00:00\", \"2014-05-13T00:00:00\", \"2014-05-14T00:00:00\", \"2014-05-15T00:00:00\", \"2014-05-16T00:00:00\", \"2014-05-17T00:00:00\", \"2014-05-18T00:00:00\", \"2014-05-19T00:00:00\", \"2014-05-20T00:00:00\", \"2014-05-21T00:00:00\", \"2014-05-22T00:00:00\", \"2014-05-23T00:00:00\", \"2014-05-24T00:00:00\", \"2014-05-25T00:00:00\", \"2014-05-26T00:00:00\", \"2014-05-27T00:00:00\", \"2014-05-28T00:00:00\", \"2014-05-29T00:00:00\", \"2014-05-30T00:00:00\", \"2014-05-31T00:00:00\", \"2014-06-01T00:00:00\", \"2014-06-02T00:00:00\", \"2014-06-03T00:00:00\", \"2014-06-04T00:00:00\", \"2014-06-05T00:00:00\", \"2014-06-06T00:00:00\", \"2014-06-07T00:00:00\", \"2014-06-08T00:00:00\", \"2014-06-09T00:00:00\", \"2014-06-10T00:00:00\", \"2014-06-11T00:00:00\", \"2014-06-12T00:00:00\", \"2014-06-13T00:00:00\", \"2014-06-14T00:00:00\", \"2014-06-15T00:00:00\", \"2014-06-16T00:00:00\", \"2014-06-17T00:00:00\", \"2014-06-18T00:00:00\", \"2014-06-19T00:00:00\", \"2014-06-20T00:00:00\", \"2014-06-21T00:00:00\", \"2014-06-22T00:00:00\", \"2014-06-23T00:00:00\", \"2014-06-24T00:00:00\", \"2014-06-25T00:00:00\", \"2014-06-26T00:00:00\", \"2014-06-27T00:00:00\", \"2014-06-28T00:00:00\", \"2014-06-29T00:00:00\", \"2014-06-30T00:00:00\", \"2014-07-01T00:00:00\", \"2014-07-02T00:00:00\", \"2014-07-03T00:00:00\", \"2014-07-04T00:00:00\", \"2014-07-05T00:00:00\", \"2014-07-06T00:00:00\", \"2014-07-07T00:00:00\", \"2014-07-08T00:00:00\", \"2014-07-09T00:00:00\", \"2014-07-10T00:00:00\", \"2014-07-11T00:00:00\", \"2014-07-12T00:00:00\", \"2014-07-13T00:00:00\", \"2014-07-14T00:00:00\", \"2014-07-15T00:00:00\", \"2014-07-16T00:00:00\", \"2014-07-17T00:00:00\", \"2014-07-18T00:00:00\", \"2014-07-19T00:00:00\", \"2014-07-20T00:00:00\", \"2014-07-21T00:00:00\", \"2014-07-22T00:00:00\", \"2014-07-23T00:00:00\", \"2014-07-24T00:00:00\", \"2014-07-25T00:00:00\", \"2014-07-26T00:00:00\", \"2014-07-27T00:00:00\", \"2014-07-28T00:00:00\", \"2014-07-29T00:00:00\", \"2014-07-30T00:00:00\", \"2014-07-31T00:00:00\", \"2014-08-01T00:00:00\", \"2014-08-02T00:00:00\", \"2014-08-03T00:00:00\", \"2014-08-04T00:00:00\", \"2014-08-05T00:00:00\", \"2014-08-06T00:00:00\", \"2014-08-07T00:00:00\", \"2014-08-08T00:00:00\", \"2014-08-09T00:00:00\", \"2014-08-10T00:00:00\", \"2014-08-11T00:00:00\", \"2014-08-12T00:00:00\", \"2014-08-13T00:00:00\", \"2014-08-14T00:00:00\", \"2014-08-15T00:00:00\", \"2014-08-16T00:00:00\", \"2014-08-17T00:00:00\", \"2014-08-18T00:00:00\", \"2014-08-19T00:00:00\", \"2014-08-20T00:00:00\", \"2014-08-21T00:00:00\", \"2014-08-22T00:00:00\", \"2014-08-23T00:00:00\", \"2014-08-24T00:00:00\", \"2014-08-25T00:00:00\", \"2014-08-26T00:00:00\", \"2014-08-27T00:00:00\", \"2014-08-28T00:00:00\", \"2014-08-29T00:00:00\", \"2014-08-30T00:00:00\", \"2014-08-31T00:00:00\", \"2014-09-01T00:00:00\", \"2014-09-02T00:00:00\", \"2014-09-03T00:00:00\", \"2014-09-04T00:00:00\", \"2014-09-05T00:00:00\", \"2014-09-06T00:00:00\", \"2014-09-07T00:00:00\", \"2014-09-08T00:00:00\", \"2014-09-09T00:00:00\", \"2014-09-10T00:00:00\", \"2014-09-11T00:00:00\", \"2014-09-12T00:00:00\", \"2014-09-13T00:00:00\", \"2014-09-14T00:00:00\", \"2014-09-15T00:00:00\", \"2014-09-16T00:00:00\", \"2014-09-17T00:00:00\", \"2014-09-18T00:00:00\", \"2014-09-19T00:00:00\", \"2014-09-20T00:00:00\", \"2014-09-21T00:00:00\", \"2014-09-22T00:00:00\", \"2014-09-23T00:00:00\", \"2014-09-24T00:00:00\", \"2014-09-25T00:00:00\", \"2014-09-26T00:00:00\", \"2014-09-27T00:00:00\", \"2014-09-28T00:00:00\", \"2014-09-29T00:00:00\", \"2014-09-30T00:00:00\", \"2014-10-01T00:00:00\", \"2014-10-02T00:00:00\", \"2014-10-03T00:00:00\", \"2014-10-04T00:00:00\", \"2014-10-05T00:00:00\", \"2014-10-06T00:00:00\", \"2014-10-07T00:00:00\", \"2014-10-08T00:00:00\", \"2014-10-09T00:00:00\", \"2014-10-10T00:00:00\", \"2014-10-11T00:00:00\", \"2014-10-12T00:00:00\", \"2014-10-13T00:00:00\", \"2014-10-14T00:00:00\", \"2014-10-15T00:00:00\", \"2014-10-16T00:00:00\", \"2014-10-17T00:00:00\", \"2014-10-18T00:00:00\", \"2014-10-19T00:00:00\", \"2014-10-20T00:00:00\", \"2014-10-21T00:00:00\", \"2014-10-22T00:00:00\", \"2014-10-23T00:00:00\", \"2014-10-24T00:00:00\", \"2014-10-25T00:00:00\", \"2014-10-26T00:00:00\", \"2014-10-27T00:00:00\", \"2014-10-28T00:00:00\", \"2014-10-29T00:00:00\", \"2014-10-30T00:00:00\", \"2014-10-31T00:00:00\", \"2014-11-01T00:00:00\", \"2014-11-02T00:00:00\", \"2014-11-03T00:00:00\", \"2014-11-04T00:00:00\", \"2014-11-05T00:00:00\", \"2014-11-06T00:00:00\", \"2014-11-07T00:00:00\", \"2014-11-08T00:00:00\", \"2014-11-09T00:00:00\", \"2014-11-10T00:00:00\", \"2014-11-11T00:00:00\", \"2014-11-12T00:00:00\", \"2014-11-13T00:00:00\", \"2014-11-14T00:00:00\", \"2014-11-15T00:00:00\", \"2014-11-16T00:00:00\", \"2014-11-17T00:00:00\", \"2014-11-18T00:00:00\", \"2014-11-19T00:00:00\", \"2014-11-20T00:00:00\", \"2014-11-21T00:00:00\", \"2014-11-22T00:00:00\", \"2014-11-23T00:00:00\", \"2014-11-24T00:00:00\", \"2014-11-25T00:00:00\", \"2014-11-26T00:00:00\", \"2014-11-27T00:00:00\", \"2014-11-28T00:00:00\", \"2014-11-29T00:00:00\", \"2014-11-30T00:00:00\", \"2014-12-01T00:00:00\", \"2014-12-02T00:00:00\", \"2014-12-03T00:00:00\", \"2014-12-04T00:00:00\", \"2014-12-05T00:00:00\", \"2014-12-06T00:00:00\", \"2014-12-07T00:00:00\", \"2014-12-08T00:00:00\", \"2014-12-09T00:00:00\", \"2014-12-10T00:00:00\", \"2014-12-11T00:00:00\", \"2014-12-12T00:00:00\", \"2014-12-13T00:00:00\", \"2014-12-14T00:00:00\", \"2014-12-15T00:00:00\", \"2014-12-16T00:00:00\", \"2014-12-17T00:00:00\", \"2014-12-18T00:00:00\", \"2014-12-19T00:00:00\", \"2014-12-20T00:00:00\", \"2014-12-21T00:00:00\", \"2014-12-22T00:00:00\", \"2014-12-23T00:00:00\", \"2014-12-24T00:00:00\", \"2014-12-25T00:00:00\", \"2014-12-26T00:00:00\", \"2014-12-27T00:00:00\", \"2014-12-28T00:00:00\", \"2014-12-29T00:00:00\", \"2014-12-30T00:00:00\", \"2014-12-31T00:00:00\", \"2015-01-01T00:00:00\", \"2015-01-02T00:00:00\", \"2015-01-03T00:00:00\", \"2015-01-04T00:00:00\", \"2015-01-05T00:00:00\", \"2015-01-06T00:00:00\", \"2015-01-07T00:00:00\", \"2015-01-08T00:00:00\", \"2015-01-09T00:00:00\", \"2015-01-10T00:00:00\", \"2015-01-11T00:00:00\", \"2015-01-12T00:00:00\", \"2015-01-13T00:00:00\", \"2015-01-14T00:00:00\", \"2015-01-15T00:00:00\", \"2015-01-16T00:00:00\", \"2015-01-17T00:00:00\", \"2015-01-18T00:00:00\", \"2015-01-19T00:00:00\", \"2015-01-20T00:00:00\", \"2015-01-21T00:00:00\", \"2015-01-22T00:00:00\", \"2015-01-23T00:00:00\", \"2015-01-24T00:00:00\", \"2015-01-25T00:00:00\", \"2015-01-26T00:00:00\", \"2015-01-27T00:00:00\", \"2015-01-28T00:00:00\", \"2015-01-29T00:00:00\", \"2015-01-30T00:00:00\", \"2015-01-31T00:00:00\", \"2015-02-01T00:00:00\", \"2015-02-02T00:00:00\", \"2015-02-03T00:00:00\", \"2015-02-04T00:00:00\", \"2015-02-05T00:00:00\", \"2015-02-06T00:00:00\", \"2015-02-07T00:00:00\", \"2015-02-08T00:00:00\", \"2015-02-09T00:00:00\", \"2015-02-10T00:00:00\", \"2015-02-11T00:00:00\", \"2015-02-12T00:00:00\", \"2015-02-13T00:00:00\", \"2015-02-14T00:00:00\", \"2015-02-15T00:00:00\", \"2015-02-16T00:00:00\", \"2015-02-17T00:00:00\", \"2015-02-18T00:00:00\", \"2015-02-19T00:00:00\", \"2015-02-20T00:00:00\", \"2015-02-21T00:00:00\", \"2015-02-22T00:00:00\", \"2015-02-23T00:00:00\", \"2015-02-24T00:00:00\", \"2015-02-25T00:00:00\", \"2015-02-26T00:00:00\", \"2015-02-27T00:00:00\", \"2015-02-28T00:00:00\", \"2015-03-01T00:00:00\", \"2015-03-02T00:00:00\", \"2015-03-03T00:00:00\", \"2015-03-04T00:00:00\", \"2015-03-05T00:00:00\", \"2015-03-06T00:00:00\", \"2015-03-07T00:00:00\", \"2015-03-08T00:00:00\", \"2015-03-09T00:00:00\", \"2015-03-10T00:00:00\", \"2015-03-11T00:00:00\", \"2015-03-12T00:00:00\", \"2015-03-13T00:00:00\", \"2015-03-14T00:00:00\", \"2015-03-15T00:00:00\", \"2015-03-16T00:00:00\", \"2015-03-17T00:00:00\", \"2015-03-18T00:00:00\", \"2015-03-19T00:00:00\", \"2015-03-20T00:00:00\", \"2015-03-21T00:00:00\", \"2015-03-22T00:00:00\", \"2015-03-23T00:00:00\", \"2015-03-24T00:00:00\", \"2015-03-25T00:00:00\", \"2015-03-26T00:00:00\", \"2015-03-27T00:00:00\", \"2015-03-28T00:00:00\", \"2015-03-29T00:00:00\", \"2015-03-30T00:00:00\", \"2015-03-31T00:00:00\", \"2015-04-01T00:00:00\", \"2015-04-02T00:00:00\", \"2015-04-03T00:00:00\", \"2015-04-04T00:00:00\", \"2015-04-05T00:00:00\", \"2015-04-06T00:00:00\", \"2015-04-07T00:00:00\", \"2015-04-08T00:00:00\", \"2015-04-09T00:00:00\", \"2015-04-10T00:00:00\", \"2015-04-11T00:00:00\", \"2015-04-12T00:00:00\", \"2015-04-13T00:00:00\", \"2015-04-14T00:00:00\", \"2015-04-15T00:00:00\", \"2015-04-16T00:00:00\", \"2015-04-17T00:00:00\", \"2015-04-18T00:00:00\", \"2015-04-19T00:00:00\", \"2015-04-20T00:00:00\", \"2015-04-21T00:00:00\", \"2015-04-22T00:00:00\", \"2015-04-23T00:00:00\", \"2015-04-24T00:00:00\", \"2015-04-25T00:00:00\", \"2015-04-26T00:00:00\", \"2015-04-27T00:00:00\", \"2015-04-28T00:00:00\", \"2015-04-29T00:00:00\", \"2015-04-30T00:00:00\", \"2015-05-01T00:00:00\", \"2015-05-02T00:00:00\", \"2015-05-03T00:00:00\", \"2015-05-04T00:00:00\", \"2015-05-05T00:00:00\", \"2015-05-06T00:00:00\", \"2015-05-07T00:00:00\", \"2015-05-08T00:00:00\", \"2015-05-09T00:00:00\", \"2015-05-10T00:00:00\", \"2015-05-11T00:00:00\", \"2015-05-12T00:00:00\", \"2015-05-13T00:00:00\", \"2015-05-14T00:00:00\", \"2015-05-15T00:00:00\", \"2015-05-16T00:00:00\", \"2015-05-17T00:00:00\", \"2015-05-18T00:00:00\", \"2015-05-19T00:00:00\", \"2015-05-20T00:00:00\", \"2015-05-21T00:00:00\", \"2015-05-22T00:00:00\", \"2015-05-23T00:00:00\", \"2015-05-24T00:00:00\", \"2015-05-25T00:00:00\", \"2015-05-26T00:00:00\", \"2015-05-27T00:00:00\", \"2015-05-28T00:00:00\", \"2015-05-29T00:00:00\", \"2015-05-30T00:00:00\", \"2015-05-31T00:00:00\", \"2015-06-01T00:00:00\", \"2015-06-02T00:00:00\", \"2015-06-03T00:00:00\", \"2015-06-04T00:00:00\", \"2015-06-05T00:00:00\", \"2015-06-06T00:00:00\", \"2015-06-07T00:00:00\", \"2015-06-08T00:00:00\", \"2015-06-09T00:00:00\", \"2015-06-10T00:00:00\", \"2015-06-11T00:00:00\", \"2015-06-12T00:00:00\", \"2015-06-13T00:00:00\", \"2015-06-14T00:00:00\", \"2015-06-15T00:00:00\", \"2015-06-16T00:00:00\", \"2015-06-17T00:00:00\", \"2015-06-18T00:00:00\", \"2015-06-19T00:00:00\", \"2015-06-20T00:00:00\", \"2015-06-21T00:00:00\", \"2015-06-22T00:00:00\", \"2015-06-23T00:00:00\", \"2015-06-24T00:00:00\", \"2015-06-25T00:00:00\", \"2015-06-26T00:00:00\", \"2015-06-27T00:00:00\", \"2015-06-28T00:00:00\", \"2015-06-29T00:00:00\", \"2015-06-30T00:00:00\", \"2015-07-01T00:00:00\", \"2015-07-02T00:00:00\", \"2015-07-03T00:00:00\", \"2015-07-04T00:00:00\", \"2015-07-05T00:00:00\", \"2015-07-06T00:00:00\", \"2015-07-07T00:00:00\", \"2015-07-08T00:00:00\", \"2015-07-09T00:00:00\", \"2015-07-10T00:00:00\", \"2015-07-11T00:00:00\", \"2015-07-12T00:00:00\", \"2015-07-13T00:00:00\", \"2015-07-14T00:00:00\", \"2015-07-15T00:00:00\", \"2015-07-16T00:00:00\", \"2015-07-17T00:00:00\", \"2015-07-18T00:00:00\", \"2015-07-19T00:00:00\", \"2015-07-20T00:00:00\", \"2015-07-21T00:00:00\", \"2015-07-22T00:00:00\", \"2015-07-23T00:00:00\", \"2015-07-24T00:00:00\", \"2015-07-25T00:00:00\", \"2015-07-26T00:00:00\", \"2015-07-27T00:00:00\", \"2015-07-28T00:00:00\", \"2015-07-29T00:00:00\", \"2015-07-30T00:00:00\", \"2015-07-31T00:00:00\", \"2015-08-01T00:00:00\", \"2015-08-02T00:00:00\", \"2015-08-03T00:00:00\", \"2015-08-04T00:00:00\", \"2015-08-05T00:00:00\", \"2015-08-06T00:00:00\", \"2015-08-07T00:00:00\", \"2015-08-08T00:00:00\", \"2015-08-09T00:00:00\", \"2015-08-10T00:00:00\", \"2015-08-11T00:00:00\", \"2015-08-12T00:00:00\", \"2015-08-13T00:00:00\", \"2015-08-14T00:00:00\", \"2015-08-15T00:00:00\", \"2015-08-16T00:00:00\", \"2015-08-17T00:00:00\", \"2015-08-18T00:00:00\", \"2015-08-19T00:00:00\", \"2015-08-20T00:00:00\", \"2015-08-21T00:00:00\", \"2015-08-22T00:00:00\", \"2015-08-23T00:00:00\", \"2015-08-24T00:00:00\", \"2015-08-25T00:00:00\", \"2015-08-26T00:00:00\", \"2015-08-27T00:00:00\", \"2015-08-28T00:00:00\", \"2015-08-29T00:00:00\", \"2015-08-30T00:00:00\", \"2015-08-31T00:00:00\", \"2015-09-01T00:00:00\", \"2015-09-02T00:00:00\", \"2015-09-03T00:00:00\", \"2015-09-04T00:00:00\", \"2015-09-05T00:00:00\", \"2015-09-06T00:00:00\", \"2015-09-07T00:00:00\", \"2015-09-08T00:00:00\", \"2015-09-09T00:00:00\", \"2015-09-10T00:00:00\", \"2015-09-11T00:00:00\", \"2015-09-12T00:00:00\", \"2015-09-13T00:00:00\", \"2015-09-14T00:00:00\", \"2015-09-15T00:00:00\", \"2015-09-16T00:00:00\", \"2015-09-17T00:00:00\", \"2015-09-18T00:00:00\", \"2015-09-19T00:00:00\", \"2015-09-20T00:00:00\", \"2015-09-21T00:00:00\", \"2015-09-22T00:00:00\", \"2015-09-23T00:00:00\", \"2015-09-24T00:00:00\", \"2015-09-25T00:00:00\", \"2015-09-26T00:00:00\", \"2015-09-27T00:00:00\", \"2015-09-28T00:00:00\", \"2015-09-29T00:00:00\", \"2015-09-30T00:00:00\", \"2015-10-01T00:00:00\", \"2015-10-02T00:00:00\", \"2015-10-03T00:00:00\", \"2015-10-04T00:00:00\", \"2015-10-05T00:00:00\", \"2015-10-06T00:00:00\", \"2015-10-07T00:00:00\", \"2015-10-08T00:00:00\", \"2015-10-09T00:00:00\", \"2015-10-10T00:00:00\", \"2015-10-11T00:00:00\", \"2015-10-12T00:00:00\", \"2015-10-13T00:00:00\", \"2015-10-14T00:00:00\", \"2015-10-15T00:00:00\", \"2015-10-16T00:00:00\", \"2015-10-17T00:00:00\", \"2015-10-18T00:00:00\", \"2015-10-19T00:00:00\", \"2015-10-20T00:00:00\", \"2015-10-21T00:00:00\", \"2015-10-22T00:00:00\", \"2015-10-23T00:00:00\", \"2015-10-24T00:00:00\", \"2015-10-25T00:00:00\", \"2015-10-26T00:00:00\", \"2015-10-27T00:00:00\", \"2015-10-28T00:00:00\", \"2015-10-29T00:00:00\", \"2015-10-30T00:00:00\", \"2015-10-31T00:00:00\", \"2015-11-01T00:00:00\", \"2015-11-02T00:00:00\", \"2015-11-03T00:00:00\", \"2015-11-04T00:00:00\", \"2015-11-05T00:00:00\", \"2015-11-06T00:00:00\", \"2015-11-07T00:00:00\", \"2015-11-08T00:00:00\", \"2015-11-09T00:00:00\", \"2015-11-10T00:00:00\", \"2015-11-11T00:00:00\", \"2015-11-12T00:00:00\", \"2015-11-13T00:00:00\", \"2015-11-14T00:00:00\", \"2015-11-15T00:00:00\", \"2015-11-16T00:00:00\", \"2015-11-17T00:00:00\", \"2015-11-18T00:00:00\", \"2015-11-19T00:00:00\", \"2015-11-20T00:00:00\", \"2015-11-21T00:00:00\", \"2015-11-22T00:00:00\", \"2015-11-23T00:00:00\", \"2015-11-24T00:00:00\", \"2015-11-25T00:00:00\", \"2015-11-26T00:00:00\", \"2015-11-27T00:00:00\", \"2015-11-28T00:00:00\", \"2015-11-29T00:00:00\", \"2015-11-30T00:00:00\", \"2015-12-01T00:00:00\", \"2015-12-02T00:00:00\", \"2015-12-03T00:00:00\", \"2015-12-04T00:00:00\", \"2015-12-05T00:00:00\", \"2015-12-06T00:00:00\", \"2015-12-07T00:00:00\", \"2015-12-08T00:00:00\", \"2015-12-09T00:00:00\", \"2015-12-10T00:00:00\", \"2015-12-11T00:00:00\", \"2015-12-12T00:00:00\", \"2015-12-13T00:00:00\", \"2015-12-14T00:00:00\", \"2015-12-15T00:00:00\", \"2015-12-16T00:00:00\", \"2015-12-17T00:00:00\", \"2015-12-18T00:00:00\", \"2015-12-19T00:00:00\", \"2015-12-20T00:00:00\", \"2015-12-21T00:00:00\", \"2015-12-22T00:00:00\", \"2015-12-23T00:00:00\", \"2015-12-24T00:00:00\", \"2015-12-25T00:00:00\", \"2015-12-26T00:00:00\", \"2015-12-27T00:00:00\", \"2015-12-28T00:00:00\", \"2015-12-29T00:00:00\", \"2015-12-30T00:00:00\", \"2015-12-31T00:00:00\", \"2016-01-01T00:00:00\", \"2016-01-02T00:00:00\", \"2016-01-03T00:00:00\", \"2016-01-04T00:00:00\", \"2016-01-05T00:00:00\", \"2016-01-06T00:00:00\", \"2016-01-07T00:00:00\", \"2016-01-08T00:00:00\", \"2016-01-09T00:00:00\", \"2016-01-10T00:00:00\", \"2016-01-11T00:00:00\", \"2016-01-12T00:00:00\", \"2016-01-13T00:00:00\", \"2016-01-14T00:00:00\", \"2016-01-15T00:00:00\", \"2016-01-16T00:00:00\", \"2016-01-17T00:00:00\", \"2016-01-18T00:00:00\", \"2016-01-19T00:00:00\", \"2016-01-20T00:00:00\", \"2016-01-21T00:00:00\", \"2016-01-22T00:00:00\", \"2016-01-23T00:00:00\", \"2016-01-24T00:00:00\", \"2016-01-25T00:00:00\", \"2016-01-26T00:00:00\", \"2016-01-27T00:00:00\", \"2016-01-28T00:00:00\", \"2016-01-29T00:00:00\", \"2016-01-30T00:00:00\", \"2016-01-31T00:00:00\", \"2016-02-01T00:00:00\", \"2016-02-02T00:00:00\", \"2016-02-03T00:00:00\", \"2016-02-04T00:00:00\", \"2016-02-05T00:00:00\", \"2016-02-06T00:00:00\", \"2016-02-07T00:00:00\", \"2016-02-08T00:00:00\", \"2016-02-09T00:00:00\", \"2016-02-10T00:00:00\", \"2016-02-11T00:00:00\", \"2016-02-12T00:00:00\", \"2016-02-13T00:00:00\", \"2016-02-14T00:00:00\", \"2016-02-15T00:00:00\", \"2016-02-16T00:00:00\", \"2016-02-17T00:00:00\", \"2016-02-18T00:00:00\", \"2016-02-19T00:00:00\", \"2016-02-20T00:00:00\", \"2016-02-21T00:00:00\", \"2016-02-22T00:00:00\", \"2016-02-23T00:00:00\", \"2016-02-24T00:00:00\", \"2016-02-25T00:00:00\", \"2016-02-26T00:00:00\", \"2016-02-27T00:00:00\", \"2016-02-28T00:00:00\", \"2016-02-29T00:00:00\", \"2016-03-01T00:00:00\", \"2016-03-02T00:00:00\", \"2016-03-03T00:00:00\", \"2016-03-04T00:00:00\", \"2016-03-05T00:00:00\", \"2016-03-06T00:00:00\", \"2016-03-07T00:00:00\", \"2016-03-08T00:00:00\", \"2016-03-09T00:00:00\", \"2016-03-10T00:00:00\", \"2016-03-11T00:00:00\", \"2016-03-12T00:00:00\", \"2016-03-13T00:00:00\", \"2016-03-14T00:00:00\", \"2016-03-15T00:00:00\", \"2016-03-16T00:00:00\", \"2016-03-17T00:00:00\", \"2016-03-18T00:00:00\", \"2016-03-19T00:00:00\", \"2016-03-20T00:00:00\", \"2016-03-21T00:00:00\", \"2016-03-22T00:00:00\", \"2016-03-23T00:00:00\", \"2016-03-24T00:00:00\", \"2016-03-25T00:00:00\", \"2016-03-26T00:00:00\", \"2016-03-27T00:00:00\", \"2016-03-28T00:00:00\", \"2016-03-29T00:00:00\", \"2016-03-30T00:00:00\", \"2016-03-31T00:00:00\", \"2016-04-01T00:00:00\", \"2016-04-02T00:00:00\", \"2016-04-03T00:00:00\", \"2016-04-04T00:00:00\", \"2016-04-05T00:00:00\", \"2016-04-06T00:00:00\", \"2016-04-07T00:00:00\", \"2016-04-08T00:00:00\", \"2016-04-09T00:00:00\", \"2016-04-10T00:00:00\", \"2016-04-11T00:00:00\", \"2016-04-12T00:00:00\", \"2016-04-13T00:00:00\", \"2016-04-14T00:00:00\", \"2016-04-15T00:00:00\", \"2016-04-16T00:00:00\", \"2016-04-17T00:00:00\", \"2016-04-18T00:00:00\", \"2016-04-19T00:00:00\", \"2016-04-20T00:00:00\", \"2016-04-21T00:00:00\", \"2016-04-22T00:00:00\", \"2016-04-23T00:00:00\", \"2016-04-24T00:00:00\", \"2016-04-25T00:00:00\", \"2016-04-26T00:00:00\", \"2016-04-27T00:00:00\", \"2016-04-28T00:00:00\", \"2016-04-29T00:00:00\", \"2016-04-30T00:00:00\", \"2016-05-01T00:00:00\", \"2016-05-02T00:00:00\", \"2016-05-03T00:00:00\", \"2016-05-04T00:00:00\", \"2016-05-05T00:00:00\", \"2016-05-06T00:00:00\", \"2016-05-07T00:00:00\", \"2016-05-08T00:00:00\", \"2016-05-09T00:00:00\", \"2016-05-10T00:00:00\", \"2016-05-11T00:00:00\", \"2016-05-12T00:00:00\", \"2016-05-13T00:00:00\", \"2016-05-14T00:00:00\", \"2016-05-15T00:00:00\", \"2016-05-16T00:00:00\", \"2016-05-17T00:00:00\", \"2016-05-18T00:00:00\", \"2016-05-19T00:00:00\", \"2016-05-20T00:00:00\", \"2016-05-21T00:00:00\", \"2016-05-22T00:00:00\", \"2016-05-23T00:00:00\", \"2016-05-24T00:00:00\", \"2016-05-25T00:00:00\", \"2016-05-26T00:00:00\", \"2016-05-27T00:00:00\", \"2016-05-28T00:00:00\", \"2016-05-29T00:00:00\", \"2016-05-30T00:00:00\", \"2016-05-31T00:00:00\", \"2016-06-01T00:00:00\", \"2016-06-02T00:00:00\", \"2016-06-03T00:00:00\", \"2016-06-04T00:00:00\", \"2016-06-05T00:00:00\", \"2016-06-06T00:00:00\", \"2016-06-07T00:00:00\", \"2016-06-08T00:00:00\", \"2016-06-09T00:00:00\", \"2016-06-10T00:00:00\", \"2016-06-11T00:00:00\", \"2016-06-12T00:00:00\", \"2016-06-13T00:00:00\", \"2016-06-14T00:00:00\", \"2016-06-15T00:00:00\", \"2016-06-16T00:00:00\", \"2016-06-17T00:00:00\", \"2016-06-18T00:00:00\", \"2016-06-19T00:00:00\", \"2016-06-20T00:00:00\", \"2016-06-21T00:00:00\", \"2016-06-22T00:00:00\", \"2016-06-23T00:00:00\", \"2016-06-24T00:00:00\", \"2016-06-25T00:00:00\", \"2016-06-26T00:00:00\", \"2016-06-27T00:00:00\", \"2016-06-28T00:00:00\", \"2016-06-29T00:00:00\", \"2016-06-30T00:00:00\", \"2016-07-01T00:00:00\", \"2016-07-02T00:00:00\", \"2016-07-03T00:00:00\", \"2016-07-04T00:00:00\", \"2016-07-05T00:00:00\", \"2016-07-06T00:00:00\", \"2016-07-07T00:00:00\", \"2016-07-08T00:00:00\", \"2016-07-09T00:00:00\", \"2016-07-10T00:00:00\", \"2016-07-11T00:00:00\", \"2016-07-12T00:00:00\", \"2016-07-13T00:00:00\", \"2016-07-14T00:00:00\", \"2016-07-15T00:00:00\", \"2016-07-16T00:00:00\", \"2016-07-17T00:00:00\", \"2016-07-18T00:00:00\", \"2016-07-19T00:00:00\", \"2016-07-20T00:00:00\", \"2016-07-21T00:00:00\", \"2016-07-22T00:00:00\", \"2016-07-23T00:00:00\", \"2016-07-24T00:00:00\", \"2016-07-25T00:00:00\", \"2016-07-26T00:00:00\", \"2016-07-27T00:00:00\", \"2016-07-28T00:00:00\", \"2016-07-29T00:00:00\", \"2016-07-30T00:00:00\", \"2016-07-31T00:00:00\", \"2016-08-01T00:00:00\", \"2016-08-02T00:00:00\", \"2016-08-03T00:00:00\", \"2016-08-04T00:00:00\", \"2016-08-05T00:00:00\", \"2016-08-06T00:00:00\", \"2016-08-07T00:00:00\", \"2016-08-08T00:00:00\", \"2016-08-09T00:00:00\", \"2016-08-10T00:00:00\", \"2016-08-11T00:00:00\", \"2016-08-12T00:00:00\", \"2016-08-13T00:00:00\", \"2016-08-14T00:00:00\", \"2016-08-15T00:00:00\", \"2016-08-16T00:00:00\", \"2016-08-17T00:00:00\", \"2016-08-18T00:00:00\", \"2016-08-19T00:00:00\", \"2016-08-20T00:00:00\", \"2016-08-21T00:00:00\", \"2016-08-22T00:00:00\", \"2016-08-23T00:00:00\", \"2016-08-24T00:00:00\", \"2016-08-25T00:00:00\", \"2016-08-26T00:00:00\", \"2016-08-27T00:00:00\", \"2016-08-28T00:00:00\", \"2016-08-29T00:00:00\", \"2016-08-30T00:00:00\", \"2016-08-31T00:00:00\", \"2016-09-01T00:00:00\", \"2016-09-02T00:00:00\", \"2016-09-03T00:00:00\", \"2016-09-04T00:00:00\", \"2016-09-05T00:00:00\", \"2016-09-06T00:00:00\", \"2016-09-07T00:00:00\", \"2016-09-08T00:00:00\", \"2016-09-09T00:00:00\", \"2016-09-10T00:00:00\", \"2016-09-11T00:00:00\", \"2016-09-12T00:00:00\", \"2016-09-13T00:00:00\", \"2016-09-14T00:00:00\", \"2016-09-15T00:00:00\", \"2016-09-16T00:00:00\", \"2016-09-17T00:00:00\", \"2016-09-18T00:00:00\", \"2016-09-19T00:00:00\", \"2016-09-20T00:00:00\", \"2016-09-21T00:00:00\", \"2016-09-22T00:00:00\", \"2016-09-23T00:00:00\", \"2016-09-24T00:00:00\", \"2016-09-25T00:00:00\", \"2016-09-26T00:00:00\", \"2016-09-27T00:00:00\", \"2016-09-28T00:00:00\", \"2016-09-29T00:00:00\", \"2016-09-30T00:00:00\", \"2016-10-01T00:00:00\", \"2016-10-02T00:00:00\", \"2016-10-03T00:00:00\", \"2016-10-04T00:00:00\", \"2016-10-05T00:00:00\", \"2016-10-06T00:00:00\", \"2016-10-07T00:00:00\", \"2016-10-08T00:00:00\", \"2016-10-09T00:00:00\", \"2016-10-10T00:00:00\", \"2016-10-11T00:00:00\", \"2016-10-12T00:00:00\", \"2016-10-13T00:00:00\", \"2016-10-14T00:00:00\", \"2016-10-15T00:00:00\", \"2016-10-16T00:00:00\", \"2016-10-17T00:00:00\", \"2016-10-18T00:00:00\", \"2016-10-19T00:00:00\", \"2016-10-20T00:00:00\", \"2016-10-21T00:00:00\", \"2016-10-22T00:00:00\", \"2016-10-23T00:00:00\", \"2016-10-24T00:00:00\", \"2016-10-25T00:00:00\", \"2016-10-26T00:00:00\", \"2016-10-27T00:00:00\", \"2016-10-28T00:00:00\", \"2016-10-29T00:00:00\", \"2016-10-30T00:00:00\", \"2016-10-31T00:00:00\", \"2016-11-01T00:00:00\", \"2016-11-02T00:00:00\", \"2016-11-03T00:00:00\", \"2016-11-04T00:00:00\", \"2016-11-05T00:00:00\", \"2016-11-06T00:00:00\", \"2016-11-07T00:00:00\", \"2016-11-08T00:00:00\", \"2016-11-09T00:00:00\", \"2016-11-10T00:00:00\", \"2016-11-11T00:00:00\", \"2016-11-12T00:00:00\", \"2016-11-13T00:00:00\", \"2016-11-14T00:00:00\", \"2016-11-15T00:00:00\", \"2016-11-16T00:00:00\", \"2016-11-17T00:00:00\", \"2016-11-18T00:00:00\", \"2016-11-19T00:00:00\", \"2016-11-20T00:00:00\", \"2016-11-21T00:00:00\", \"2016-11-22T00:00:00\", \"2016-11-23T00:00:00\", \"2016-11-24T00:00:00\", \"2016-11-25T00:00:00\", \"2016-11-26T00:00:00\", \"2016-11-27T00:00:00\", \"2016-11-28T00:00:00\", \"2016-11-29T00:00:00\", \"2016-11-30T00:00:00\", \"2016-12-01T00:00:00\", \"2016-12-02T00:00:00\", \"2016-12-03T00:00:00\", \"2016-12-04T00:00:00\", \"2016-12-05T00:00:00\", \"2016-12-06T00:00:00\", \"2016-12-07T00:00:00\", \"2016-12-08T00:00:00\", \"2016-12-09T00:00:00\", \"2016-12-10T00:00:00\", \"2016-12-11T00:00:00\", \"2016-12-12T00:00:00\", \"2016-12-13T00:00:00\", \"2016-12-14T00:00:00\", \"2016-12-15T00:00:00\", \"2016-12-16T00:00:00\", \"2016-12-17T00:00:00\", \"2016-12-18T00:00:00\", \"2016-12-19T00:00:00\", \"2016-12-20T00:00:00\", \"2016-12-21T00:00:00\", \"2016-12-22T00:00:00\", \"2016-12-23T00:00:00\", \"2016-12-24T00:00:00\", \"2016-12-25T00:00:00\", \"2016-12-26T00:00:00\", \"2016-12-27T00:00:00\", \"2016-12-28T00:00:00\", \"2016-12-29T00:00:00\", \"2016-12-30T00:00:00\", \"2016-12-31T00:00:00\", \"2017-01-01T00:00:00\", \"2017-01-02T00:00:00\", \"2017-01-03T00:00:00\", \"2017-01-04T00:00:00\", \"2017-01-05T00:00:00\", \"2017-01-06T00:00:00\", \"2017-01-07T00:00:00\", \"2017-01-08T00:00:00\", \"2017-01-09T00:00:00\", \"2017-01-10T00:00:00\", \"2017-01-11T00:00:00\", \"2017-01-12T00:00:00\", \"2017-01-13T00:00:00\", \"2017-01-14T00:00:00\", \"2017-01-15T00:00:00\", \"2017-01-16T00:00:00\", \"2017-01-17T00:00:00\", \"2017-01-18T00:00:00\", \"2017-01-19T00:00:00\", \"2017-01-20T00:00:00\", \"2017-01-21T00:00:00\", \"2017-01-22T00:00:00\", \"2017-01-23T00:00:00\", \"2017-01-24T00:00:00\", \"2017-01-25T00:00:00\", \"2017-01-26T00:00:00\", \"2017-01-27T00:00:00\", \"2017-01-28T00:00:00\", \"2017-01-29T00:00:00\", \"2017-01-30T00:00:00\", \"2017-01-31T00:00:00\", \"2017-02-01T00:00:00\", \"2017-02-02T00:00:00\", \"2017-02-03T00:00:00\", \"2017-02-04T00:00:00\", \"2017-02-05T00:00:00\", \"2017-02-06T00:00:00\", \"2017-02-07T00:00:00\", \"2017-02-08T00:00:00\", \"2017-02-09T00:00:00\", \"2017-02-10T00:00:00\", \"2017-02-11T00:00:00\", \"2017-02-12T00:00:00\", \"2017-02-13T00:00:00\", \"2017-02-14T00:00:00\", \"2017-02-15T00:00:00\", \"2017-02-16T00:00:00\", \"2017-02-17T00:00:00\", \"2017-02-18T00:00:00\", \"2017-02-19T00:00:00\", \"2017-02-20T00:00:00\", \"2017-02-21T00:00:00\", \"2017-02-22T00:00:00\", \"2017-02-23T00:00:00\", \"2017-02-24T00:00:00\", \"2017-02-25T00:00:00\", \"2017-02-26T00:00:00\", \"2017-02-27T00:00:00\", \"2017-02-28T00:00:00\", \"2017-03-01T00:00:00\", \"2017-03-02T00:00:00\", \"2017-03-03T00:00:00\", \"2017-03-04T00:00:00\", \"2017-03-05T00:00:00\", \"2017-03-06T00:00:00\", \"2017-03-07T00:00:00\", \"2017-03-08T00:00:00\", \"2017-03-09T00:00:00\", \"2017-03-10T00:00:00\", \"2017-03-11T00:00:00\", \"2017-03-12T00:00:00\", \"2017-03-13T00:00:00\", \"2017-03-14T00:00:00\", \"2017-03-15T00:00:00\", \"2017-03-16T00:00:00\", \"2017-03-17T00:00:00\", \"2017-03-18T00:00:00\", \"2017-03-19T00:00:00\", \"2017-03-20T00:00:00\", \"2017-03-21T00:00:00\", \"2017-03-22T00:00:00\", \"2017-03-23T00:00:00\", \"2017-03-24T00:00:00\", \"2017-03-25T00:00:00\", \"2017-03-26T00:00:00\", \"2017-03-27T00:00:00\", \"2017-03-28T00:00:00\", \"2017-03-29T00:00:00\", \"2017-03-30T00:00:00\", \"2017-03-31T00:00:00\", \"2017-04-01T00:00:00\", \"2017-04-02T00:00:00\", \"2017-04-03T00:00:00\", \"2017-04-04T00:00:00\", \"2017-04-05T00:00:00\", \"2017-04-06T00:00:00\", \"2017-04-07T00:00:00\", \"2017-04-08T00:00:00\", \"2017-04-09T00:00:00\", \"2017-04-10T00:00:00\", \"2017-04-11T00:00:00\", \"2017-04-12T00:00:00\", \"2017-04-13T00:00:00\", \"2017-04-14T00:00:00\", \"2017-04-15T00:00:00\", \"2017-04-16T00:00:00\", \"2017-04-17T00:00:00\", \"2017-04-18T00:00:00\", \"2017-04-19T00:00:00\", \"2017-04-20T00:00:00\", \"2017-04-21T00:00:00\", \"2017-04-22T00:00:00\", \"2017-04-23T00:00:00\", \"2017-04-24T00:00:00\", \"2017-04-25T00:00:00\", \"2017-04-26T00:00:00\", \"2017-04-27T00:00:00\", \"2017-04-28T00:00:00\", \"2017-04-29T00:00:00\", \"2017-04-30T00:00:00\", \"2017-05-01T00:00:00\", \"2017-05-02T00:00:00\", \"2017-05-03T00:00:00\", \"2017-05-04T00:00:00\", \"2017-05-05T00:00:00\", \"2017-05-06T00:00:00\", \"2017-05-07T00:00:00\", \"2017-05-08T00:00:00\", \"2017-05-09T00:00:00\", \"2017-05-10T00:00:00\", \"2017-05-11T00:00:00\", \"2017-05-12T00:00:00\", \"2017-05-13T00:00:00\", \"2017-05-14T00:00:00\", \"2017-05-15T00:00:00\", \"2017-05-16T00:00:00\", \"2017-05-17T00:00:00\", \"2017-05-18T00:00:00\", \"2017-05-19T00:00:00\", \"2017-05-20T00:00:00\", \"2017-05-21T00:00:00\", \"2017-05-22T00:00:00\", \"2017-05-23T00:00:00\", \"2017-05-24T00:00:00\", \"2017-05-25T00:00:00\", \"2017-05-26T00:00:00\", \"2017-05-27T00:00:00\", \"2017-05-28T00:00:00\", \"2017-05-29T00:00:00\", \"2017-05-30T00:00:00\", \"2017-05-31T00:00:00\", \"2017-06-01T00:00:00\", \"2017-06-02T00:00:00\", \"2017-06-03T00:00:00\", \"2017-06-04T00:00:00\", \"2017-06-05T00:00:00\", \"2017-06-06T00:00:00\", \"2017-06-07T00:00:00\", \"2017-06-08T00:00:00\", \"2017-06-09T00:00:00\", \"2017-06-10T00:00:00\", \"2017-06-11T00:00:00\", \"2017-06-12T00:00:00\", \"2017-06-13T00:00:00\", \"2017-06-14T00:00:00\", \"2017-06-15T00:00:00\", \"2017-06-16T00:00:00\", \"2017-06-17T00:00:00\", \"2017-06-18T00:00:00\", \"2017-06-19T00:00:00\", \"2017-06-20T00:00:00\", \"2017-06-21T00:00:00\", \"2017-06-22T00:00:00\", \"2017-06-23T00:00:00\", \"2017-06-24T00:00:00\", \"2017-06-25T00:00:00\", \"2017-06-26T00:00:00\", \"2017-06-27T00:00:00\", \"2017-06-28T00:00:00\", \"2017-06-29T00:00:00\", \"2017-06-30T00:00:00\", \"2017-07-01T00:00:00\", \"2017-07-02T00:00:00\", \"2017-07-03T00:00:00\", \"2017-07-04T00:00:00\", \"2017-07-05T00:00:00\", \"2017-07-06T00:00:00\", \"2017-07-07T00:00:00\", \"2017-07-08T00:00:00\", \"2017-07-09T00:00:00\", \"2017-07-10T00:00:00\", \"2017-07-11T00:00:00\", \"2017-07-12T00:00:00\", \"2017-07-13T00:00:00\", \"2017-07-14T00:00:00\", \"2017-07-15T00:00:00\", \"2017-07-16T00:00:00\", \"2017-07-17T00:00:00\", \"2017-07-18T00:00:00\", \"2017-07-19T00:00:00\", \"2017-07-20T00:00:00\", \"2017-07-21T00:00:00\", \"2017-07-22T00:00:00\", \"2017-07-23T00:00:00\", \"2017-07-24T00:00:00\", \"2017-07-25T00:00:00\", \"2017-07-26T00:00:00\", \"2017-07-27T00:00:00\", \"2017-07-28T00:00:00\", \"2017-07-29T00:00:00\", \"2017-07-30T00:00:00\", \"2017-07-31T00:00:00\", \"2017-08-01T00:00:00\", \"2017-08-02T00:00:00\", \"2017-08-03T00:00:00\", \"2017-08-04T00:00:00\", \"2017-08-05T00:00:00\", \"2017-08-06T00:00:00\", \"2017-08-07T00:00:00\", \"2017-08-08T00:00:00\", \"2017-08-09T00:00:00\", \"2017-08-10T00:00:00\", \"2017-08-11T00:00:00\", \"2017-08-12T00:00:00\", \"2017-08-13T00:00:00\", \"2017-08-14T00:00:00\", \"2017-08-15T00:00:00\", \"2017-08-16T00:00:00\", \"2017-08-17T00:00:00\", \"2017-08-18T00:00:00\", \"2017-08-19T00:00:00\", \"2017-08-20T00:00:00\", \"2017-08-21T00:00:00\", \"2017-08-22T00:00:00\", \"2017-08-23T00:00:00\", \"2017-08-24T00:00:00\", \"2017-08-25T00:00:00\", \"2017-08-26T00:00:00\", \"2017-08-27T00:00:00\", \"2017-08-28T00:00:00\", \"2017-08-29T00:00:00\", \"2017-08-30T00:00:00\", \"2017-08-31T00:00:00\", \"2017-09-01T00:00:00\", \"2017-09-02T00:00:00\", \"2017-09-03T00:00:00\", \"2017-09-04T00:00:00\", \"2017-09-05T00:00:00\", \"2017-09-06T00:00:00\", \"2017-09-07T00:00:00\", \"2017-09-08T00:00:00\", \"2017-09-09T00:00:00\", \"2017-09-10T00:00:00\", \"2017-09-11T00:00:00\", \"2017-09-12T00:00:00\", \"2017-09-13T00:00:00\", \"2017-09-14T00:00:00\", \"2017-09-15T00:00:00\", \"2017-09-16T00:00:00\", \"2017-09-17T00:00:00\", \"2017-09-18T00:00:00\", \"2017-09-19T00:00:00\", \"2017-09-20T00:00:00\", \"2017-09-21T00:00:00\", \"2017-09-22T00:00:00\", \"2017-09-23T00:00:00\", \"2017-09-24T00:00:00\", \"2017-09-25T00:00:00\", \"2017-09-26T00:00:00\", \"2017-09-27T00:00:00\", \"2017-09-28T00:00:00\", \"2017-09-29T00:00:00\", \"2017-09-30T00:00:00\", \"2017-10-01T00:00:00\", \"2017-10-02T00:00:00\", \"2017-10-03T00:00:00\", \"2017-10-04T00:00:00\", \"2017-10-05T00:00:00\", \"2017-10-06T00:00:00\", \"2017-10-07T00:00:00\", \"2017-10-08T00:00:00\", \"2017-10-09T00:00:00\", \"2017-10-10T00:00:00\", \"2017-10-11T00:00:00\", \"2017-10-12T00:00:00\", \"2017-10-13T00:00:00\", \"2017-10-14T00:00:00\", \"2017-10-15T00:00:00\", \"2017-10-16T00:00:00\", \"2017-10-17T00:00:00\", \"2017-10-18T00:00:00\", \"2017-10-19T00:00:00\", \"2017-10-20T00:00:00\", \"2017-10-21T00:00:00\", \"2017-10-22T00:00:00\", \"2017-10-23T00:00:00\", \"2017-10-24T00:00:00\", \"2017-10-25T00:00:00\", \"2017-10-26T00:00:00\", \"2017-10-27T00:00:00\", \"2017-10-28T00:00:00\", \"2017-10-29T00:00:00\", \"2017-10-30T00:00:00\", \"2017-10-31T00:00:00\", \"2017-11-01T00:00:00\", \"2017-11-02T00:00:00\", \"2017-11-03T00:00:00\", \"2017-11-04T00:00:00\", \"2017-11-05T00:00:00\", \"2017-11-06T00:00:00\", \"2017-11-07T00:00:00\", \"2017-11-08T00:00:00\", \"2017-11-09T00:00:00\", \"2017-11-10T00:00:00\", \"2017-11-11T00:00:00\", \"2017-11-12T00:00:00\", \"2017-11-13T00:00:00\", \"2017-11-14T00:00:00\", \"2017-11-15T00:00:00\", \"2017-11-16T00:00:00\", \"2017-11-17T00:00:00\", \"2017-11-18T00:00:00\", \"2017-11-19T00:00:00\", \"2017-11-20T00:00:00\", \"2017-11-21T00:00:00\", \"2017-11-22T00:00:00\", \"2017-11-23T00:00:00\", \"2017-11-24T00:00:00\", \"2017-11-25T00:00:00\", \"2017-11-26T00:00:00\", \"2017-11-27T00:00:00\", \"2017-11-28T00:00:00\", \"2017-11-29T00:00:00\", \"2017-11-30T00:00:00\", \"2017-12-01T00:00:00\", \"2017-12-02T00:00:00\", \"2017-12-03T00:00:00\", \"2017-12-04T00:00:00\", \"2017-12-05T00:00:00\", \"2017-12-06T00:00:00\", \"2017-12-07T00:00:00\", \"2017-12-08T00:00:00\", \"2017-12-09T00:00:00\", \"2017-12-10T00:00:00\", \"2017-12-11T00:00:00\", \"2017-12-12T00:00:00\", \"2017-12-13T00:00:00\", \"2017-12-14T00:00:00\", \"2017-12-15T00:00:00\", \"2017-12-16T00:00:00\", \"2017-12-17T00:00:00\", \"2017-12-18T00:00:00\", \"2017-12-19T00:00:00\", \"2017-12-20T00:00:00\", \"2017-12-21T00:00:00\", \"2017-12-22T00:00:00\", \"2017-12-23T00:00:00\", \"2017-12-24T00:00:00\", \"2017-12-25T00:00:00\", \"2017-12-26T00:00:00\", \"2017-12-27T00:00:00\", \"2017-12-28T00:00:00\", \"2017-12-29T00:00:00\", \"2017-12-30T00:00:00\", \"2017-12-31T00:00:00\", \"2018-01-01T00:00:00\", \"2018-01-02T00:00:00\", \"2018-01-03T00:00:00\", \"2018-01-04T00:00:00\", \"2018-01-05T00:00:00\", \"2018-01-06T00:00:00\", \"2018-01-07T00:00:00\", \"2018-01-08T00:00:00\", \"2018-01-09T00:00:00\", \"2018-01-10T00:00:00\", \"2018-01-11T00:00:00\", \"2018-01-12T00:00:00\", \"2018-01-13T00:00:00\", \"2018-01-14T00:00:00\", \"2018-01-15T00:00:00\", \"2018-01-16T00:00:00\", \"2018-01-17T00:00:00\", \"2018-01-18T00:00:00\", \"2018-01-19T00:00:00\", \"2018-01-20T00:00:00\", \"2018-01-21T00:00:00\", \"2018-01-22T00:00:00\", \"2018-01-23T00:00:00\", \"2018-01-24T00:00:00\", \"2018-01-25T00:00:00\", \"2018-01-26T00:00:00\", \"2018-01-27T00:00:00\", \"2018-01-28T00:00:00\", \"2018-01-29T00:00:00\", \"2018-01-30T00:00:00\", \"2018-01-31T00:00:00\", \"2018-02-01T00:00:00\", \"2018-02-02T00:00:00\", \"2018-02-03T00:00:00\", \"2018-02-04T00:00:00\", \"2018-02-05T00:00:00\", \"2018-02-06T00:00:00\", \"2018-02-07T00:00:00\", \"2018-02-08T00:00:00\", \"2018-02-09T00:00:00\", \"2018-02-10T00:00:00\", \"2018-02-11T00:00:00\", \"2018-02-12T00:00:00\", \"2018-02-13T00:00:00\", \"2018-02-14T00:00:00\", \"2018-02-15T00:00:00\", \"2018-02-16T00:00:00\", \"2018-02-17T00:00:00\", \"2018-02-18T00:00:00\", \"2018-02-19T00:00:00\", \"2018-02-20T00:00:00\", \"2018-02-21T00:00:00\", \"2018-02-22T00:00:00\", \"2018-02-23T00:00:00\", \"2018-02-24T00:00:00\", \"2018-02-25T00:00:00\", \"2018-02-26T00:00:00\", \"2018-02-27T00:00:00\", \"2018-02-28T00:00:00\", \"2018-03-01T00:00:00\", \"2018-03-02T00:00:00\", \"2018-03-03T00:00:00\", \"2018-03-04T00:00:00\", \"2018-03-05T00:00:00\", \"2018-03-06T00:00:00\", \"2018-03-07T00:00:00\", \"2018-03-08T00:00:00\", \"2018-03-09T00:00:00\", \"2018-03-10T00:00:00\", \"2018-03-11T00:00:00\", \"2018-03-12T00:00:00\", \"2018-03-13T00:00:00\", \"2018-03-14T00:00:00\", \"2018-03-15T00:00:00\", \"2018-03-16T00:00:00\", \"2018-03-17T00:00:00\", \"2018-03-18T00:00:00\", \"2018-03-19T00:00:00\", \"2018-03-20T00:00:00\", \"2018-03-21T00:00:00\", \"2018-03-22T00:00:00\", \"2018-03-23T00:00:00\", \"2018-03-24T00:00:00\", \"2018-03-25T00:00:00\", \"2018-03-26T00:00:00\", \"2018-03-27T00:00:00\", \"2018-03-28T00:00:00\", \"2018-03-29T00:00:00\", \"2018-03-30T00:00:00\", \"2018-03-31T00:00:00\", \"2018-04-01T00:00:00\", \"2018-04-02T00:00:00\", \"2018-04-03T00:00:00\", \"2018-04-04T00:00:00\", \"2018-04-05T00:00:00\", \"2018-04-06T00:00:00\", \"2018-04-07T00:00:00\", \"2018-04-08T00:00:00\", \"2018-04-09T00:00:00\", \"2018-04-10T00:00:00\", \"2018-04-11T00:00:00\", \"2018-04-12T00:00:00\", \"2018-04-13T00:00:00\", \"2018-04-14T00:00:00\", \"2018-04-15T00:00:00\", \"2018-04-16T00:00:00\", \"2018-04-17T00:00:00\", \"2018-04-18T00:00:00\", \"2018-04-19T00:00:00\", \"2018-04-20T00:00:00\", \"2018-04-21T00:00:00\", \"2018-04-22T00:00:00\", \"2018-04-23T00:00:00\", \"2018-04-24T00:00:00\", \"2018-04-25T00:00:00\", \"2018-04-26T00:00:00\", \"2018-04-27T00:00:00\", \"2018-04-28T00:00:00\", \"2018-04-29T00:00:00\", \"2018-04-30T00:00:00\", \"2018-05-01T00:00:00\", \"2018-05-02T00:00:00\", \"2018-05-03T00:00:00\", \"2018-05-04T00:00:00\", \"2018-05-05T00:00:00\", \"2018-05-06T00:00:00\", \"2018-05-07T00:00:00\", \"2018-05-08T00:00:00\", \"2018-05-09T00:00:00\", \"2018-05-10T00:00:00\", \"2018-05-11T00:00:00\", \"2018-05-12T00:00:00\", \"2018-05-13T00:00:00\", \"2018-05-14T00:00:00\", \"2018-05-15T00:00:00\", \"2018-05-16T00:00:00\", \"2018-05-17T00:00:00\", \"2018-05-18T00:00:00\", \"2018-05-19T00:00:00\", \"2018-05-20T00:00:00\", \"2018-05-21T00:00:00\", \"2018-05-22T00:00:00\", \"2018-05-23T00:00:00\", \"2018-05-24T00:00:00\", \"2018-05-25T00:00:00\", \"2018-05-26T00:00:00\", \"2018-05-27T00:00:00\", \"2018-05-28T00:00:00\", \"2018-05-29T00:00:00\", \"2018-05-30T00:00:00\", \"2018-05-31T00:00:00\", \"2018-06-01T00:00:00\", \"2018-06-02T00:00:00\", \"2018-06-03T00:00:00\", \"2018-06-04T00:00:00\", \"2018-06-05T00:00:00\", \"2018-06-06T00:00:00\", \"2018-06-07T00:00:00\", \"2018-06-08T00:00:00\", \"2018-06-09T00:00:00\", \"2018-06-10T00:00:00\", \"2018-06-11T00:00:00\", \"2018-06-12T00:00:00\", \"2018-06-13T00:00:00\", \"2018-06-14T00:00:00\", \"2018-06-15T00:00:00\", \"2018-06-16T00:00:00\", \"2018-06-17T00:00:00\", \"2018-06-18T00:00:00\", \"2018-06-19T00:00:00\", \"2018-06-20T00:00:00\", \"2018-06-21T00:00:00\", \"2018-06-22T00:00:00\", \"2018-06-23T00:00:00\", \"2018-06-24T00:00:00\", \"2018-06-25T00:00:00\", \"2018-06-26T00:00:00\", \"2018-06-27T00:00:00\", \"2018-06-28T00:00:00\", \"2018-06-29T00:00:00\", \"2018-06-30T00:00:00\", \"2018-07-01T00:00:00\", \"2018-07-02T00:00:00\", \"2018-07-03T00:00:00\", \"2018-07-04T00:00:00\", \"2018-07-05T00:00:00\", \"2018-07-06T00:00:00\", \"2018-07-07T00:00:00\", \"2018-07-08T00:00:00\", \"2018-07-09T00:00:00\", \"2018-07-10T00:00:00\", \"2018-07-11T00:00:00\", \"2018-07-12T00:00:00\", \"2018-07-13T00:00:00\", \"2018-07-14T00:00:00\", \"2018-07-15T00:00:00\", \"2018-07-16T00:00:00\", \"2018-07-17T00:00:00\", \"2018-07-18T00:00:00\", \"2018-07-19T00:00:00\", \"2018-07-20T00:00:00\", \"2018-07-21T00:00:00\", \"2018-07-22T00:00:00\", \"2018-07-23T00:00:00\", \"2018-07-24T00:00:00\", \"2018-07-25T00:00:00\", \"2018-07-26T00:00:00\", \"2018-07-27T00:00:00\", \"2018-07-28T00:00:00\", \"2018-07-29T00:00:00\", \"2018-07-30T00:00:00\", \"2018-07-31T00:00:00\", \"2018-08-01T00:00:00\", \"2018-08-02T00:00:00\", \"2018-08-03T00:00:00\", \"2018-08-04T00:00:00\", \"2018-08-05T00:00:00\", \"2018-08-06T00:00:00\", \"2018-08-07T00:00:00\", \"2018-08-08T00:00:00\", \"2018-08-09T00:00:00\", \"2018-08-10T00:00:00\", \"2018-08-11T00:00:00\", \"2018-08-12T00:00:00\", \"2018-08-13T00:00:00\", \"2018-08-14T00:00:00\", \"2018-08-15T00:00:00\", \"2018-08-16T00:00:00\", \"2018-08-17T00:00:00\", \"2018-08-18T00:00:00\", \"2018-08-19T00:00:00\", \"2018-08-20T00:00:00\", \"2018-08-21T00:00:00\", \"2018-08-22T00:00:00\", \"2018-08-23T00:00:00\", \"2018-08-24T00:00:00\", \"2018-08-25T00:00:00\", \"2018-08-26T00:00:00\", \"2018-08-27T00:00:00\", \"2018-08-28T00:00:00\", \"2018-08-29T00:00:00\", \"2018-08-30T00:00:00\", \"2018-08-31T00:00:00\", \"2018-09-01T00:00:00\", \"2018-09-02T00:00:00\", \"2018-09-03T00:00:00\", \"2018-09-04T00:00:00\", \"2018-09-05T00:00:00\", \"2018-09-06T00:00:00\", \"2018-09-07T00:00:00\", \"2018-09-08T00:00:00\", \"2018-09-09T00:00:00\", \"2018-09-10T00:00:00\", \"2018-09-11T00:00:00\", \"2018-09-12T00:00:00\", \"2018-09-13T00:00:00\", \"2018-09-14T00:00:00\", \"2018-09-15T00:00:00\", \"2018-09-16T00:00:00\", \"2018-09-17T00:00:00\", \"2018-09-18T00:00:00\", \"2018-09-19T00:00:00\", \"2018-09-20T00:00:00\", \"2018-09-21T00:00:00\", \"2018-09-22T00:00:00\", \"2018-09-23T00:00:00\", \"2018-09-24T00:00:00\", \"2018-09-25T00:00:00\", \"2018-09-26T00:00:00\", \"2018-09-27T00:00:00\", \"2018-09-28T00:00:00\", \"2018-09-29T00:00:00\", \"2018-09-30T00:00:00\", \"2018-10-01T00:00:00\", \"2018-10-02T00:00:00\", \"2018-10-03T00:00:00\", \"2018-10-04T00:00:00\", \"2018-10-05T00:00:00\", \"2018-10-06T00:00:00\", \"2018-10-07T00:00:00\", \"2018-10-08T00:00:00\", \"2018-10-09T00:00:00\", \"2018-10-10T00:00:00\", \"2018-10-11T00:00:00\", \"2018-10-12T00:00:00\", \"2018-10-13T00:00:00\", \"2018-10-14T00:00:00\", \"2018-10-15T00:00:00\", \"2018-10-16T00:00:00\", \"2018-10-17T00:00:00\", \"2018-10-18T00:00:00\", \"2018-10-19T00:00:00\", \"2018-10-20T00:00:00\", \"2018-10-21T00:00:00\", \"2018-10-22T00:00:00\", \"2018-10-23T00:00:00\", \"2018-10-24T00:00:00\", \"2018-10-25T00:00:00\", \"2018-10-26T00:00:00\", \"2018-10-27T00:00:00\", \"2018-10-28T00:00:00\", \"2018-10-29T00:00:00\", \"2018-10-30T00:00:00\", \"2018-10-31T00:00:00\", \"2018-11-01T00:00:00\", \"2018-11-02T00:00:00\", \"2018-11-03T00:00:00\", \"2018-11-04T00:00:00\", \"2018-11-05T00:00:00\", \"2018-11-06T00:00:00\", \"2018-11-07T00:00:00\", \"2018-11-08T00:00:00\", \"2018-11-09T00:00:00\", \"2018-11-10T00:00:00\", \"2018-11-11T00:00:00\", \"2018-11-12T00:00:00\", \"2018-11-13T00:00:00\", \"2018-11-14T00:00:00\", \"2018-11-15T00:00:00\", \"2018-11-16T00:00:00\", \"2018-11-17T00:00:00\", \"2018-11-18T00:00:00\", \"2018-11-19T00:00:00\", \"2018-11-20T00:00:00\", \"2018-11-21T00:00:00\", \"2018-11-22T00:00:00\", \"2018-11-23T00:00:00\", \"2018-11-24T00:00:00\", \"2018-11-25T00:00:00\", \"2018-11-26T00:00:00\", \"2018-11-27T00:00:00\", \"2018-11-28T00:00:00\", \"2018-11-29T00:00:00\", \"2018-11-30T00:00:00\", \"2018-12-01T00:00:00\", \"2018-12-02T00:00:00\", \"2018-12-03T00:00:00\", \"2018-12-04T00:00:00\", \"2018-12-05T00:00:00\", \"2018-12-06T00:00:00\", \"2018-12-07T00:00:00\", \"2018-12-08T00:00:00\", \"2018-12-09T00:00:00\", \"2018-12-10T00:00:00\", \"2018-12-11T00:00:00\", \"2018-12-12T00:00:00\", \"2018-12-13T00:00:00\", \"2018-12-14T00:00:00\", \"2018-12-15T00:00:00\", \"2018-12-16T00:00:00\", \"2018-12-17T00:00:00\", \"2018-12-18T00:00:00\", \"2018-12-19T00:00:00\", \"2018-12-20T00:00:00\", \"2018-12-21T00:00:00\", \"2018-12-22T00:00:00\", \"2018-12-23T00:00:00\", \"2018-12-24T00:00:00\", \"2018-12-25T00:00:00\", \"2018-12-26T00:00:00\", \"2018-12-27T00:00:00\", \"2018-12-28T00:00:00\", \"2018-12-29T00:00:00\", \"2018-12-30T00:00:00\", \"2018-12-31T00:00:00\", \"2019-01-01T00:00:00\", \"2019-01-02T00:00:00\", \"2019-01-03T00:00:00\", \"2019-01-04T00:00:00\", \"2019-01-05T00:00:00\", \"2019-01-06T00:00:00\", \"2019-01-07T00:00:00\", \"2019-01-08T00:00:00\", \"2019-01-09T00:00:00\", \"2019-01-10T00:00:00\", \"2019-01-11T00:00:00\", \"2019-01-12T00:00:00\", \"2019-01-13T00:00:00\", \"2019-01-14T00:00:00\", \"2019-01-15T00:00:00\", \"2019-01-16T00:00:00\", \"2019-01-17T00:00:00\", \"2019-01-18T00:00:00\", \"2019-01-19T00:00:00\", \"2019-01-20T00:00:00\", \"2019-01-21T00:00:00\", \"2019-01-22T00:00:00\", \"2019-01-23T00:00:00\", \"2019-01-24T00:00:00\", \"2019-01-25T00:00:00\", \"2019-01-26T00:00:00\", \"2019-01-27T00:00:00\", \"2019-01-28T00:00:00\", \"2019-01-29T00:00:00\", \"2019-01-30T00:00:00\", \"2019-01-31T00:00:00\", \"2019-02-01T00:00:00\", \"2019-02-02T00:00:00\", \"2019-02-03T00:00:00\", \"2019-02-04T00:00:00\", \"2019-02-05T00:00:00\", \"2019-02-06T00:00:00\", \"2019-02-07T00:00:00\", \"2019-02-08T00:00:00\", \"2019-02-09T00:00:00\", \"2019-02-10T00:00:00\", \"2019-02-11T00:00:00\", \"2019-02-12T00:00:00\", \"2019-02-13T00:00:00\", \"2019-02-14T00:00:00\", \"2019-02-15T00:00:00\", \"2019-02-16T00:00:00\", \"2019-02-17T00:00:00\", \"2019-02-18T00:00:00\", \"2019-02-19T00:00:00\", \"2019-02-20T00:00:00\", \"2019-02-21T00:00:00\", \"2019-02-22T00:00:00\", \"2019-02-23T00:00:00\", \"2019-02-24T00:00:00\", \"2019-02-25T00:00:00\", \"2019-02-26T00:00:00\", \"2019-02-27T00:00:00\", \"2019-02-28T00:00:00\", \"2019-03-01T00:00:00\", \"2019-03-02T00:00:00\", \"2019-03-03T00:00:00\", \"2019-03-04T00:00:00\", \"2019-03-05T00:00:00\", \"2019-03-06T00:00:00\", \"2019-03-07T00:00:00\", \"2019-03-08T00:00:00\", \"2019-03-09T00:00:00\", \"2019-03-10T00:00:00\", \"2019-03-11T00:00:00\", \"2019-03-12T00:00:00\", \"2019-03-13T00:00:00\", \"2019-03-14T00:00:00\", \"2019-03-15T00:00:00\", \"2019-03-16T00:00:00\", \"2019-03-17T00:00:00\", \"2019-03-18T00:00:00\", \"2019-03-19T00:00:00\", \"2019-03-20T00:00:00\", \"2019-03-21T00:00:00\", \"2019-03-22T00:00:00\", \"2019-03-23T00:00:00\", \"2019-03-24T00:00:00\", \"2019-03-25T00:00:00\", \"2019-03-26T00:00:00\", \"2019-03-27T00:00:00\", \"2019-03-28T00:00:00\", \"2019-03-29T00:00:00\", \"2019-03-30T00:00:00\", \"2019-03-31T00:00:00\", \"2019-04-01T00:00:00\", \"2019-04-02T00:00:00\", \"2019-04-03T00:00:00\", \"2019-04-04T00:00:00\", \"2019-04-05T00:00:00\", \"2019-04-06T00:00:00\", \"2019-04-07T00:00:00\", \"2019-04-08T00:00:00\", \"2019-04-09T00:00:00\", \"2019-04-10T00:00:00\", \"2019-04-11T00:00:00\", \"2019-04-12T00:00:00\", \"2019-04-13T00:00:00\", \"2019-04-14T00:00:00\", \"2019-04-15T00:00:00\", \"2019-04-16T00:00:00\", \"2019-04-17T00:00:00\", \"2019-04-18T00:00:00\", \"2019-04-19T00:00:00\", \"2019-04-20T00:00:00\", \"2019-04-21T00:00:00\", \"2019-04-22T00:00:00\", \"2019-04-23T00:00:00\", \"2019-04-24T00:00:00\", \"2019-04-25T00:00:00\", \"2019-04-26T00:00:00\", \"2019-04-27T00:00:00\", \"2019-04-28T00:00:00\", \"2019-04-29T00:00:00\", \"2019-04-30T00:00:00\", \"2019-05-01T00:00:00\", \"2019-05-02T00:00:00\", \"2019-05-03T00:00:00\", \"2019-05-04T00:00:00\", \"2019-05-05T00:00:00\", \"2019-05-06T00:00:00\", \"2019-05-07T00:00:00\", \"2019-05-08T00:00:00\", \"2019-05-09T00:00:00\", \"2019-05-10T00:00:00\", \"2019-05-11T00:00:00\", \"2019-05-12T00:00:00\", \"2019-05-13T00:00:00\", \"2019-05-14T00:00:00\", \"2019-05-15T00:00:00\", \"2019-05-16T00:00:00\", \"2019-05-17T00:00:00\", \"2019-05-18T00:00:00\", \"2019-05-19T00:00:00\", \"2019-05-20T00:00:00\", \"2019-05-21T00:00:00\", \"2019-05-22T00:00:00\", \"2019-05-23T00:00:00\", \"2019-05-24T00:00:00\", \"2019-05-25T00:00:00\", \"2019-05-26T00:00:00\", \"2019-05-27T00:00:00\", \"2019-05-28T00:00:00\", \"2019-05-29T00:00:00\", \"2019-05-30T00:00:00\", \"2019-05-31T00:00:00\", \"2019-06-01T00:00:00\", \"2019-06-02T00:00:00\", \"2019-06-03T00:00:00\", \"2019-06-04T00:00:00\", \"2019-06-05T00:00:00\", \"2019-06-06T00:00:00\", \"2019-06-07T00:00:00\", \"2019-06-08T00:00:00\", \"2019-06-09T00:00:00\", \"2019-06-10T00:00:00\", \"2019-06-11T00:00:00\", \"2019-06-12T00:00:00\", \"2019-06-13T00:00:00\", \"2019-06-14T00:00:00\", \"2019-06-15T00:00:00\", \"2019-06-16T00:00:00\", \"2019-06-17T00:00:00\", \"2019-06-18T00:00:00\", \"2019-06-19T00:00:00\", \"2019-06-20T00:00:00\", \"2019-06-21T00:00:00\", \"2019-06-22T00:00:00\", \"2019-06-23T00:00:00\", \"2019-06-24T00:00:00\", \"2019-06-25T00:00:00\", \"2019-06-26T00:00:00\", \"2019-06-27T00:00:00\", \"2019-06-28T00:00:00\", \"2019-06-29T00:00:00\", \"2019-06-30T00:00:00\", \"2019-07-01T00:00:00\", \"2019-07-02T00:00:00\", \"2019-07-03T00:00:00\", \"2019-07-04T00:00:00\", \"2019-07-05T00:00:00\", \"2019-07-06T00:00:00\", \"2019-07-07T00:00:00\", \"2019-07-08T00:00:00\", \"2019-07-09T00:00:00\", \"2019-07-10T00:00:00\", \"2019-07-11T00:00:00\", \"2019-07-12T00:00:00\", \"2019-07-13T00:00:00\", \"2019-07-14T00:00:00\", \"2019-07-15T00:00:00\", \"2019-07-16T00:00:00\", \"2019-07-17T00:00:00\", \"2019-07-18T00:00:00\", \"2019-07-19T00:00:00\", \"2019-07-20T00:00:00\", \"2019-07-21T00:00:00\", \"2019-07-22T00:00:00\", \"2019-07-23T00:00:00\", \"2019-07-24T00:00:00\", \"2019-07-25T00:00:00\", \"2019-07-26T00:00:00\", \"2019-07-27T00:00:00\", \"2019-07-28T00:00:00\", \"2019-07-29T00:00:00\", \"2019-07-30T00:00:00\", \"2019-07-31T00:00:00\", \"2019-08-01T00:00:00\", \"2019-08-02T00:00:00\", \"2019-08-03T00:00:00\", \"2019-08-04T00:00:00\", \"2019-08-05T00:00:00\", \"2019-08-06T00:00:00\", \"2019-08-07T00:00:00\", \"2019-08-08T00:00:00\", \"2019-08-09T00:00:00\", \"2019-08-10T00:00:00\", \"2019-08-11T00:00:00\", \"2019-08-12T00:00:00\", \"2019-08-13T00:00:00\", \"2019-08-14T00:00:00\", \"2019-08-15T00:00:00\", \"2019-08-16T00:00:00\", \"2019-08-17T00:00:00\", \"2019-08-18T00:00:00\", \"2019-08-19T00:00:00\", \"2019-08-20T00:00:00\", \"2019-08-21T00:00:00\", \"2019-08-22T00:00:00\", \"2019-08-23T00:00:00\", \"2019-08-24T00:00:00\", \"2019-08-25T00:00:00\", \"2019-08-26T00:00:00\", \"2019-08-27T00:00:00\", \"2019-08-28T00:00:00\", \"2019-08-29T00:00:00\", \"2019-08-30T00:00:00\", \"2019-08-31T00:00:00\", \"2019-09-01T00:00:00\", \"2019-09-02T00:00:00\", \"2019-09-03T00:00:00\", \"2019-09-04T00:00:00\", \"2019-09-05T00:00:00\", \"2019-09-06T00:00:00\", \"2019-09-07T00:00:00\", \"2019-09-08T00:00:00\", \"2019-09-09T00:00:00\", \"2019-09-10T00:00:00\", \"2019-09-11T00:00:00\", \"2019-09-12T00:00:00\", \"2019-09-13T00:00:00\", \"2019-09-14T00:00:00\", \"2019-09-15T00:00:00\", \"2019-09-16T00:00:00\", \"2019-09-17T00:00:00\", \"2019-09-18T00:00:00\", \"2019-09-19T00:00:00\", \"2019-09-20T00:00:00\", \"2019-09-21T00:00:00\", \"2019-09-22T00:00:00\", \"2019-09-23T00:00:00\", \"2019-09-24T00:00:00\", \"2019-09-25T00:00:00\", \"2019-09-26T00:00:00\", \"2019-09-27T00:00:00\", \"2019-09-28T00:00:00\", \"2019-09-29T00:00:00\", \"2019-09-30T00:00:00\", \"2019-10-01T00:00:00\", \"2019-10-02T00:00:00\", \"2019-10-03T00:00:00\", \"2019-10-04T00:00:00\", \"2019-10-05T00:00:00\", \"2019-10-06T00:00:00\", \"2019-10-07T00:00:00\", \"2019-10-08T00:00:00\", \"2019-10-09T00:00:00\", \"2019-10-10T00:00:00\", \"2019-10-11T00:00:00\", \"2019-10-12T00:00:00\", \"2019-10-13T00:00:00\", \"2019-10-14T00:00:00\", \"2019-10-15T00:00:00\", \"2019-10-16T00:00:00\", \"2019-10-17T00:00:00\", \"2019-10-18T00:00:00\", \"2019-10-19T00:00:00\", \"2019-10-20T00:00:00\", \"2019-10-21T00:00:00\", \"2019-10-22T00:00:00\", \"2019-10-23T00:00:00\", \"2019-10-24T00:00:00\", \"2019-10-25T00:00:00\", \"2019-10-26T00:00:00\", \"2019-10-27T00:00:00\", \"2019-10-28T00:00:00\", \"2019-10-29T00:00:00\", \"2019-10-30T00:00:00\", \"2019-10-31T00:00:00\", \"2019-11-01T00:00:00\", \"2019-11-02T00:00:00\", \"2019-11-03T00:00:00\", \"2019-11-04T00:00:00\", \"2019-11-05T00:00:00\", \"2019-11-06T00:00:00\", \"2019-11-07T00:00:00\", \"2019-11-08T00:00:00\", \"2019-11-09T00:00:00\", \"2019-11-10T00:00:00\", \"2019-11-11T00:00:00\", \"2019-11-12T00:00:00\", \"2019-11-13T00:00:00\", \"2019-11-14T00:00:00\", \"2019-11-15T00:00:00\", \"2019-11-16T00:00:00\", \"2019-11-17T00:00:00\", \"2019-11-18T00:00:00\", \"2019-11-19T00:00:00\", \"2019-11-20T00:00:00\", \"2019-11-21T00:00:00\", \"2019-11-22T00:00:00\", \"2019-11-23T00:00:00\", \"2019-11-24T00:00:00\", \"2019-11-25T00:00:00\", \"2019-11-26T00:00:00\", \"2019-11-27T00:00:00\", \"2019-11-28T00:00:00\", \"2019-11-29T00:00:00\", \"2019-11-30T00:00:00\", \"2019-12-01T00:00:00\", \"2019-12-02T00:00:00\", \"2019-12-03T00:00:00\", \"2019-12-04T00:00:00\", \"2019-12-05T00:00:00\", \"2019-12-06T00:00:00\", \"2019-12-07T00:00:00\", \"2019-12-08T00:00:00\", \"2019-12-09T00:00:00\", \"2019-12-10T00:00:00\", \"2019-12-11T00:00:00\", \"2019-12-12T00:00:00\", \"2019-12-13T00:00:00\", \"2019-12-14T00:00:00\", \"2019-12-15T00:00:00\", \"2019-12-16T00:00:00\", \"2019-12-17T00:00:00\", \"2019-12-18T00:00:00\", \"2019-12-19T00:00:00\", \"2019-12-20T00:00:00\", \"2019-12-21T00:00:00\", \"2019-12-22T00:00:00\", \"2019-12-23T00:00:00\", \"2019-12-24T00:00:00\", \"2019-12-25T00:00:00\", \"2019-12-26T00:00:00\", \"2019-12-27T00:00:00\", \"2019-12-28T00:00:00\", \"2019-12-29T00:00:00\", \"2019-12-30T00:00:00\", \"2019-12-31T00:00:00\", \"2020-01-01T00:00:00\", \"2020-01-02T00:00:00\", \"2020-01-03T00:00:00\", \"2020-01-04T00:00:00\", \"2020-01-05T00:00:00\", \"2020-01-06T00:00:00\", \"2020-01-07T00:00:00\", \"2020-01-08T00:00:00\", \"2020-01-09T00:00:00\", \"2020-01-10T00:00:00\", \"2020-01-11T00:00:00\", \"2020-01-12T00:00:00\", \"2020-01-13T00:00:00\", \"2020-01-14T00:00:00\", \"2020-01-15T00:00:00\", \"2020-01-16T00:00:00\", \"2020-01-17T00:00:00\", \"2020-01-18T00:00:00\", \"2020-01-19T00:00:00\", \"2020-01-20T00:00:00\", \"2020-01-21T00:00:00\", \"2020-01-22T00:00:00\", \"2020-01-23T00:00:00\", \"2020-01-24T00:00:00\", \"2020-01-25T00:00:00\", \"2020-01-26T00:00:00\", \"2020-01-27T00:00:00\", \"2020-01-28T00:00:00\", \"2020-01-29T00:00:00\", \"2020-01-30T00:00:00\", \"2020-01-31T00:00:00\", \"2020-02-01T00:00:00\", \"2020-02-02T00:00:00\", \"2020-02-03T00:00:00\", \"2020-02-04T00:00:00\", \"2020-02-05T00:00:00\", \"2020-02-06T00:00:00\", \"2020-02-07T00:00:00\", \"2020-02-08T00:00:00\", \"2020-02-09T00:00:00\", \"2020-02-10T00:00:00\", \"2020-02-11T00:00:00\", \"2020-02-12T00:00:00\", \"2020-02-13T00:00:00\", \"2020-02-14T00:00:00\", \"2020-02-15T00:00:00\", \"2020-02-16T00:00:00\", \"2020-02-17T00:00:00\", \"2020-02-18T00:00:00\", \"2020-02-19T00:00:00\", \"2020-02-20T00:00:00\", \"2020-02-21T00:00:00\", \"2020-02-22T00:00:00\", \"2020-02-23T00:00:00\", \"2020-02-24T00:00:00\", \"2020-02-25T00:00:00\", \"2020-02-26T00:00:00\", \"2020-02-27T00:00:00\", \"2020-02-28T00:00:00\", \"2020-02-29T00:00:00\", \"2020-03-01T00:00:00\", \"2020-03-02T00:00:00\", \"2020-03-03T00:00:00\", \"2020-03-04T00:00:00\", \"2020-03-05T00:00:00\", \"2020-03-06T00:00:00\", \"2020-03-07T00:00:00\", \"2020-03-08T00:00:00\", \"2020-03-09T00:00:00\", \"2020-03-10T00:00:00\", \"2020-03-11T00:00:00\", \"2020-03-12T00:00:00\", \"2020-03-13T00:00:00\", \"2020-03-14T00:00:00\", \"2020-03-15T00:00:00\", \"2020-03-16T00:00:00\", \"2020-03-17T00:00:00\", \"2020-03-18T00:00:00\", \"2020-03-19T00:00:00\", \"2020-03-20T00:00:00\", \"2020-03-21T00:00:00\", \"2020-03-22T00:00:00\", \"2020-03-23T00:00:00\", \"2020-03-24T00:00:00\", \"2020-03-25T00:00:00\", \"2020-03-26T00:00:00\", \"2020-03-27T00:00:00\", \"2020-03-28T00:00:00\", \"2020-03-29T00:00:00\", \"2020-03-30T00:00:00\", \"2020-03-31T00:00:00\", \"2020-04-01T00:00:00\", \"2020-04-02T00:00:00\", \"2020-04-03T00:00:00\", \"2020-04-04T00:00:00\", \"2020-04-05T00:00:00\", \"2020-04-06T00:00:00\", \"2020-04-07T00:00:00\", \"2020-04-08T00:00:00\", \"2020-04-09T00:00:00\", \"2020-04-10T00:00:00\", \"2020-04-11T00:00:00\", \"2020-04-12T00:00:00\", \"2020-04-13T00:00:00\", \"2020-04-14T00:00:00\", \"2020-04-15T00:00:00\", \"2020-04-16T00:00:00\", \"2020-04-17T00:00:00\", \"2020-04-18T00:00:00\", \"2020-04-19T00:00:00\", \"2020-04-20T00:00:00\", \"2020-04-21T00:00:00\", \"2020-04-22T00:00:00\", \"2020-04-23T00:00:00\", \"2020-04-24T00:00:00\", \"2020-04-25T00:00:00\", \"2020-04-26T00:00:00\", \"2020-04-27T00:00:00\", \"2020-04-28T00:00:00\", \"2020-04-29T00:00:00\", \"2020-04-30T00:00:00\", \"2020-05-01T00:00:00\", \"2020-05-02T00:00:00\", \"2020-05-03T00:00:00\", \"2020-05-04T00:00:00\", \"2020-05-05T00:00:00\", \"2020-05-06T00:00:00\", \"2020-05-07T00:00:00\", \"2020-05-08T00:00:00\", \"2020-05-09T00:00:00\", \"2020-05-10T00:00:00\", \"2020-05-11T00:00:00\", \"2020-05-12T00:00:00\", \"2020-05-13T00:00:00\", \"2020-05-14T00:00:00\", \"2020-05-15T00:00:00\", \"2020-05-16T00:00:00\", \"2020-05-17T00:00:00\", \"2020-05-18T00:00:00\", \"2020-05-19T00:00:00\", \"2020-05-20T00:00:00\", \"2020-05-21T00:00:00\", \"2020-05-22T00:00:00\", \"2020-05-23T00:00:00\", \"2020-05-24T00:00:00\", \"2020-05-25T00:00:00\", \"2020-05-26T00:00:00\", \"2020-05-27T00:00:00\", \"2020-05-28T00:00:00\", \"2020-05-29T00:00:00\", \"2020-05-30T00:00:00\", \"2020-05-31T00:00:00\", \"2020-06-01T00:00:00\", \"2020-06-02T00:00:00\", \"2020-06-03T00:00:00\", \"2020-06-04T00:00:00\", \"2020-06-05T00:00:00\", \"2020-06-06T00:00:00\", \"2020-06-07T00:00:00\", \"2020-06-08T00:00:00\", \"2020-06-09T00:00:00\", \"2020-06-10T00:00:00\", \"2020-06-11T00:00:00\", \"2020-06-12T00:00:00\", \"2020-06-13T00:00:00\", \"2020-06-14T00:00:00\", \"2020-06-15T00:00:00\", \"2020-06-16T00:00:00\", \"2020-06-17T00:00:00\", \"2020-06-18T00:00:00\", \"2020-06-19T00:00:00\", \"2020-06-20T00:00:00\", \"2020-06-21T00:00:00\", \"2020-06-22T00:00:00\", \"2020-06-23T00:00:00\", \"2020-06-24T00:00:00\", \"2020-06-25T00:00:00\", \"2020-06-26T00:00:00\", \"2020-06-27T00:00:00\", \"2020-06-28T00:00:00\", \"2020-06-29T00:00:00\", \"2020-06-30T00:00:00\", \"2020-07-01T00:00:00\", \"2020-07-02T00:00:00\", \"2020-07-03T00:00:00\", \"2020-07-04T00:00:00\", \"2020-07-05T00:00:00\", \"2020-07-06T00:00:00\", \"2020-07-07T00:00:00\", \"2020-07-08T00:00:00\", \"2020-07-09T00:00:00\", \"2020-07-10T00:00:00\", \"2020-07-11T00:00:00\", \"2020-07-12T00:00:00\", \"2020-07-13T00:00:00\", \"2020-07-14T00:00:00\", \"2020-07-15T00:00:00\", \"2020-07-16T00:00:00\", \"2020-07-17T00:00:00\", \"2020-07-18T00:00:00\", \"2020-07-19T00:00:00\", \"2020-07-20T00:00:00\", \"2020-07-21T00:00:00\", \"2020-07-22T00:00:00\", \"2020-07-23T00:00:00\", \"2020-07-24T00:00:00\", \"2020-07-25T00:00:00\", \"2020-07-26T00:00:00\", \"2020-07-27T00:00:00\", \"2020-07-28T00:00:00\", \"2020-07-29T00:00:00\", \"2020-07-30T00:00:00\", \"2020-07-31T00:00:00\", \"2020-08-01T00:00:00\", \"2020-08-02T00:00:00\", \"2020-08-03T00:00:00\", \"2020-08-04T00:00:00\", \"2020-08-05T00:00:00\", \"2020-08-06T00:00:00\", \"2020-08-07T00:00:00\", \"2020-08-08T00:00:00\", \"2020-08-09T00:00:00\", \"2020-08-10T00:00:00\", \"2020-08-11T00:00:00\", \"2020-08-12T00:00:00\", \"2020-08-13T00:00:00\", \"2020-08-14T00:00:00\", \"2020-08-15T00:00:00\", \"2020-08-16T00:00:00\", \"2020-08-17T00:00:00\", \"2020-08-18T00:00:00\", \"2020-08-19T00:00:00\", \"2020-08-20T00:00:00\", \"2020-08-21T00:00:00\", \"2020-08-22T00:00:00\", \"2020-08-23T00:00:00\", \"2020-08-24T00:00:00\", \"2020-08-25T00:00:00\", \"2020-08-26T00:00:00\", \"2020-08-27T00:00:00\", \"2020-08-28T00:00:00\", \"2020-08-29T00:00:00\", \"2020-08-30T00:00:00\", \"2020-08-31T00:00:00\", \"2020-09-01T00:00:00\", \"2020-09-02T00:00:00\", \"2020-09-03T00:00:00\", \"2020-09-04T00:00:00\", \"2020-09-05T00:00:00\", \"2020-09-06T00:00:00\", \"2020-09-07T00:00:00\", \"2020-09-08T00:00:00\", \"2020-09-09T00:00:00\", \"2020-09-10T00:00:00\", \"2020-09-11T00:00:00\", \"2020-09-12T00:00:00\", \"2020-09-13T00:00:00\", \"2020-09-14T00:00:00\", \"2020-09-15T00:00:00\", \"2020-09-16T00:00:00\", \"2020-09-17T00:00:00\", \"2020-09-18T00:00:00\", \"2020-09-19T00:00:00\", \"2020-09-20T00:00:00\", \"2020-09-21T00:00:00\", \"2020-09-22T00:00:00\", \"2020-09-23T00:00:00\", \"2020-09-24T00:00:00\", \"2020-09-25T00:00:00\", \"2020-09-26T00:00:00\", \"2020-09-27T00:00:00\", \"2020-09-28T00:00:00\", \"2020-09-29T00:00:00\", \"2020-09-30T00:00:00\", \"2020-10-01T00:00:00\", \"2020-10-02T00:00:00\", \"2020-10-03T00:00:00\", \"2020-10-04T00:00:00\", \"2020-10-05T00:00:00\", \"2020-10-06T00:00:00\", \"2020-10-07T00:00:00\", \"2020-10-08T00:00:00\", \"2020-10-09T00:00:00\", \"2020-10-10T00:00:00\", \"2020-10-11T00:00:00\", \"2020-10-12T00:00:00\", \"2020-10-13T00:00:00\", \"2020-10-14T00:00:00\", \"2020-10-15T00:00:00\", \"2020-10-16T00:00:00\", \"2020-10-17T00:00:00\", \"2020-10-18T00:00:00\", \"2020-10-19T00:00:00\", \"2020-10-20T00:00:00\", \"2020-10-21T00:00:00\", \"2020-10-22T00:00:00\", \"2020-10-23T00:00:00\", \"2020-10-24T00:00:00\", \"2020-10-25T00:00:00\", \"2020-10-26T00:00:00\", \"2020-10-27T00:00:00\", \"2020-10-28T00:00:00\", \"2020-10-29T00:00:00\", \"2020-10-30T00:00:00\", \"2020-10-31T00:00:00\", \"2020-11-01T00:00:00\", \"2020-11-02T00:00:00\", \"2020-11-03T00:00:00\", \"2020-11-04T00:00:00\", \"2020-11-05T00:00:00\", \"2020-11-06T00:00:00\", \"2020-11-07T00:00:00\", \"2020-11-08T00:00:00\", \"2020-11-09T00:00:00\", \"2020-11-10T00:00:00\", \"2020-11-11T00:00:00\", \"2020-11-12T00:00:00\", \"2020-11-13T00:00:00\", \"2020-11-14T00:00:00\", \"2020-11-15T00:00:00\", \"2020-11-16T00:00:00\", \"2020-11-17T00:00:00\", \"2020-11-18T00:00:00\", \"2020-11-19T00:00:00\", \"2020-11-20T00:00:00\", \"2020-11-21T00:00:00\", \"2020-11-22T00:00:00\", \"2020-11-23T00:00:00\", \"2020-11-24T00:00:00\", \"2020-11-25T00:00:00\", \"2020-11-26T00:00:00\", \"2020-11-27T00:00:00\", \"2020-11-28T00:00:00\", \"2020-11-29T00:00:00\", \"2020-11-30T00:00:00\", \"2020-12-01T00:00:00\", \"2020-12-02T00:00:00\", \"2020-12-03T00:00:00\", \"2020-12-04T00:00:00\", \"2020-12-05T00:00:00\", \"2020-12-06T00:00:00\", \"2020-12-07T00:00:00\", \"2020-12-08T00:00:00\", \"2020-12-09T00:00:00\", \"2020-12-10T00:00:00\", \"2020-12-11T00:00:00\", \"2020-12-12T00:00:00\", \"2020-12-13T00:00:00\", \"2020-12-14T00:00:00\", \"2020-12-15T00:00:00\", \"2020-12-16T00:00:00\", \"2020-12-17T00:00:00\", \"2020-12-18T00:00:00\", \"2020-12-19T00:00:00\", \"2020-12-20T00:00:00\", \"2020-12-21T00:00:00\", \"2020-12-22T00:00:00\", \"2020-12-23T00:00:00\", \"2020-12-24T00:00:00\", \"2020-12-25T00:00:00\", \"2020-12-26T00:00:00\", \"2020-12-27T00:00:00\", \"2020-12-28T00:00:00\", \"2020-12-29T00:00:00\", \"2020-12-30T00:00:00\", \"2020-12-31T00:00:00\", \"2021-01-01T00:00:00\", \"2021-01-02T00:00:00\", \"2021-01-03T00:00:00\", \"2021-01-04T00:00:00\", \"2021-01-05T00:00:00\", \"2021-01-06T00:00:00\", \"2021-01-07T00:00:00\", \"2021-01-08T00:00:00\", \"2021-01-09T00:00:00\", \"2021-01-10T00:00:00\", \"2021-01-11T00:00:00\", \"2021-01-12T00:00:00\", \"2021-01-13T00:00:00\", \"2021-01-14T00:00:00\", \"2021-01-15T00:00:00\", \"2021-01-16T00:00:00\", \"2021-01-17T00:00:00\", \"2021-01-18T00:00:00\", \"2021-01-19T00:00:00\", \"2021-01-20T00:00:00\", \"2021-01-21T00:00:00\", \"2021-01-22T00:00:00\", \"2021-01-23T00:00:00\", \"2021-01-24T00:00:00\", \"2021-01-25T00:00:00\", \"2021-01-26T00:00:00\", \"2021-01-27T00:00:00\", \"2021-01-28T00:00:00\", \"2021-01-29T00:00:00\", \"2021-01-30T00:00:00\", \"2021-01-31T00:00:00\", \"2021-02-01T00:00:00\", \"2021-02-02T00:00:00\", \"2021-02-03T00:00:00\", \"2021-02-04T00:00:00\", \"2021-02-05T00:00:00\", \"2021-02-06T00:00:00\", \"2021-02-07T00:00:00\", \"2021-02-08T00:00:00\", \"2021-02-09T00:00:00\", \"2021-02-10T00:00:00\", \"2021-02-11T00:00:00\", \"2021-02-12T00:00:00\", \"2021-02-13T00:00:00\", \"2021-02-14T00:00:00\", \"2021-02-15T00:00:00\", \"2021-02-16T00:00:00\", \"2021-02-17T00:00:00\", \"2021-02-18T00:00:00\", \"2021-02-19T00:00:00\", \"2021-02-20T00:00:00\", \"2021-02-21T00:00:00\", \"2021-02-22T00:00:00\", \"2021-02-23T00:00:00\", \"2021-02-24T00:00:00\", \"2021-02-25T00:00:00\", \"2021-02-26T00:00:00\", \"2021-02-27T00:00:00\", \"2021-02-28T00:00:00\", \"2021-03-01T00:00:00\", \"2021-03-02T00:00:00\", \"2021-03-03T00:00:00\", \"2021-03-04T00:00:00\", \"2021-03-05T00:00:00\", \"2021-03-06T00:00:00\", \"2021-03-07T00:00:00\", \"2021-03-08T00:00:00\", \"2021-03-09T00:00:00\", \"2021-03-10T00:00:00\", \"2021-03-11T00:00:00\", \"2021-03-12T00:00:00\", \"2021-03-13T00:00:00\", \"2021-03-14T00:00:00\", \"2021-03-15T00:00:00\", \"2021-03-16T00:00:00\", \"2021-03-17T00:00:00\", \"2021-03-18T00:00:00\", \"2021-03-19T00:00:00\", \"2021-03-20T00:00:00\", \"2021-03-21T00:00:00\", \"2021-03-22T00:00:00\", \"2021-03-23T00:00:00\", \"2021-03-24T00:00:00\", \"2021-03-25T00:00:00\", \"2021-03-26T00:00:00\", \"2021-03-27T00:00:00\", \"2021-03-28T00:00:00\", \"2021-03-29T00:00:00\", \"2021-03-30T00:00:00\", \"2021-03-31T00:00:00\"], \"xaxis\": \"x\", \"y\": [0.0, 0.0, 0.0, 0.0, 0.0, 0.0, 0.0, 0.0, 0.0, 0.0, 0.0, 0.0, 0.0, 0.0, 0.0, 0.0, 0.0, 0.0, 0.0, 0.0, 0.0, 0.0, 0.0, 0.0, 0.0, 0.0, 0.0, 0.0, 0.0, 0.0, 0.0, 0.0, 0.0, 0.0, 0.0, 0.0, 0.0, 0.0, 0.0, 0.0, 0.0, 0.0, 0.0, 0.0, 0.0, 0.0, 0.0, 0.0, 0.0, 0.0, 0.0, 0.0, 0.0, 0.0, 0.0, 0.0, 0.0, 0.0, 0.0, 0.0, 0.0, 0.0, 0.0, 0.0, 0.0, 0.0, 0.0, 0.0, 0.0, 0.0, 0.0, 0.0, 0.0, 0.0, 0.0, 0.0, 0.0, 0.0, 0.0, 0.0, 0.0, 0.0, 0.0, 0.0, 0.0, 0.0, 0.0, 0.0, 0.0, 0.0, 0.0, 0.0, 0.0, 0.0, 0.0, 0.0, 67.13, 0.0, 0.0, 0.0, 0.0, 0.0, 0.0, 0.0, 0.0, 0.0, 0.0, 0.0, 0.0, 0.0, 0.0, 0.0, 0.0, 0.0, 0.0, 0.0, 0.0, 0.0, 0.0, 0.0, 0.0, 0.0, 0.0, 0.0, 0.0, 0.0, 0.0, 0.0, 0.0, 0.0, 0.0, 0.0, 0.0, 0.0, 0.0, 0.0, 0.0, 0.0, 0.0, 0.0, 0.0, 0.0, 0.0, 0.0, 0.0, 0.0, 0.0, 0.0, 0.0, 0.0, 0.0, 0.0, 0.0, 0.0, 0.0, 0.0, 0.0, 0.0, 0.0, 0.0, 0.0, 0.0, 0.0, 0.0, 0.0, 0.0, 0.0, 0.0, 0.0, 0.0, 0.0, 0.0, 0.0, 0.0, 0.0, 0.0, 0.0, 0.0, 0.0, 0.0, 0.0, 0.0, 0.0, 0.0, 0.0, 0.0, 0.0, 0.0, 0.0, 0.0, 0.0, 0.0, 0.0, 0.0, 0.0, 0.0, 0.0, 0.0, 0.0, 0.0, 0.0, 0.0, 0.0, 0.0, 0.0, 0.0, 0.0, 0.0, 0.0, 0.0, 0.0, 0.0, 0.0, 0.0, 0.0, 0.0, 0.0, 0.0, 0.0, 0.0, 0.0, 0.0, 0.0, 0.0, 0.0, 0.0, 0.0, 0.0, 0.0, 0.0, 0.0, 0.0, 0.0, 0.0, 0.0, 0.0, 0.0, 0.0, 0.0, 0.0, 0.0, 0.0, 0.0, 0.0, 0.0, 0.0, 0.0, 0.0, 0.0, 0.0, 0.0, 0.0, 0.0, 0.0, 0.0, 0.0, 0.0, 0.0, 0.0, 0.0, 0.0, 0.0, 0.0, 0.0, 0.0, 0.0, 0.0, 0.0, 0.0, 0.0, 0.0, 0.0, 0.0, 0.0, 0.0, 0.0, 0.0, 0.0, 0.0, 0.0, 0.0, 0.0, 0.0, 0.0, 0.0, 0.0, 0.0, 0.0, 0.0, 0.0, 0.0, 0.0, 0.0, 0.0, 0.0, 0.0, 0.0, 0.0, 0.0, 0.0, 0.0, 0.0, 0.0, 0.0, 0.0, 0.0, 0.0, 0.0, 0.0, 0.0, 0.0, 0.0, 0.0, 0.0, 0.0, 0.0, 0.0, 0.0, 0.0, 0.0, 0.0, 0.0, 0.0, 0.0, 0.0, 0.0, 0.0, 0.0, 0.0, 0.0, 0.0, 0.0, 0.0, 0.0, 0.0, 0.0, 0.0, 0.0, 0.0, 0.0, 0.0, 0.0, 0.0, 0.0, 0.0, 0.0, 0.0, 0.0, 0.0, 0.0, 0.0, 0.0, 0.0, 0.0, 0.0, 0.0, 0.0, 0.0, 0.0, 0.0, 0.0, 0.0, 0.0, 0.0, 0.0, 0.0, 0.0, 0.0, 0.0, 0.0, 0.0, 0.0, 0.0, 0.0, 0.0, 0.0, 0.0, 0.0, 0.0, 0.0, 0.0, 0.0, 0.0, 0.0, 0.0, 0.0, 0.0, 0.0, 0.0, 0.0, 0.0, 0.0, 0.0, 0.0, 0.0, 0.0, 0.0, 0.0, 0.0, 0.0, 0.0, 0.0, 0.0, 0.0, 0.0, 0.0, 0.0, 0.0, 0.0, 0.0, 0.0, 0.0, 0.0, 0.0, 0.0, 0.0, 0.0, 0.0, 0.0, 0.0, 0.0, 0.0, 0.0, 0.0, 0.0, 0.0, 0.0, 0.0, 0.0, 0.0, 0.0, 0.0, 0.0, 0.0, 0.0, 0.0, 0.0, 0.0, 0.0, 0.0, 0.0, 0.0, 0.0, 0.0, 0.0, 0.0, 0.0, 0.0, 0.0, 0.0, 0.0, 0.0, 0.0, 0.0, 0.0, 0.0, 0.0, 0.0, 0.0, 0.0, 0.0, 0.0, 0.0, 0.0, 0.0, 0.0, 0.0, 0.0, 0.0, 0.0, 0.0, 0.0, 0.0, 0.0, 0.0, 0.0, 0.0, 0.0, 0.0, 0.0, 0.0, 0.0, 0.0, 0.0, 0.0, 0.0, 0.0, 0.0, 0.0, 0.0, 0.0, 0.0, 0.0, 0.0, 0.0, 0.0, 0.0, 0.0, 0.0, 0.0, 0.0, 0.0, 0.0, 0.0, 0.0, 0.0, 0.0, 0.0, 0.0, 0.0, 0.0, 0.0, 0.0, 0.0, 0.0, 0.0, 0.0, 0.0, 0.0, 0.0, 0.0, 0.0, 0.0, 0.0, 0.0, 0.0, 0.0, 0.0, 0.0, 0.0, 0.0, 0.0, 0.0, 0.0, 0.0, 0.0, 0.0, 0.0, 0.0, 0.0, 0.0, 0.0, 0.0, 0.0, 0.0, 0.0, 0.0, 0.0, 0.0, 0.0, 0.0, 0.0, 0.0, 0.0, 0.0, 0.0, 0.0, 0.0, 0.0, 0.0, 0.0, 0.0, 0.0, 0.0, 0.0, 0.0, 0.0, 0.0, 0.0, 0.0, 0.0, 0.0, 0.0, 0.0, 0.0, 0.0, 0.0, 0.0, 0.0, 0.0, 0.0, 0.0, 0.0, 0.0, 0.0, 0.0, 0.0, 0.0, 0.0, 0.0, 0.0, 0.0, 0.0, 0.0, 0.0, 0.0, 0.0, 0.0, 0.0, 0.0, 0.0, 0.0, 0.0, 0.0, 0.0, 0.0, 0.0, 0.0, 0.0, 0.0, 0.0, 0.0, 0.0, 0.0, 0.0, 0.0, 0.0, 0.0, 0.0, 0.0, 0.0, 0.0, 0.0, 0.0, 0.0, 0.0, 0.0, 0.0, 0.0, 0.0, 0.0, 0.0, 0.0, 0.0, 0.0, 0.0, 0.0, 0.0, 0.0, 0.0, 0.0, 0.0, 0.0, 0.0, 0.0, 0.0, 0.0, 0.0, 0.0, 0.0, 0.0, 0.0, 0.0, 0.0, 0.0, 0.0, 0.0, 0.0, 0.0, 0.0, 0.0, 0.0, 0.0, 0.0, 0.0, 0.0, 0.0, 0.0, 0.0, 0.0, 0.0, 0.0, 0.0, 0.0, 0.0, 0.0, 0.0, 0.0, 0.0, 0.0, 0.0, 0.0, 0.0, 0.0, 0.0, 0.0, 0.0, 0.0, 0.0, 0.0, 0.0, 0.0, 0.0, 0.0, 0.0, 0.0, 0.0, 0.0, 0.0, 0.0, 0.0, 0.0, 0.0, 0.0, 0.0, 0.0, 0.0, 0.0, 0.0, 0.0, 0.0, 0.0, 0.0, 0.0, 0.0, 0.0, 0.0, 0.0, 0.0, 0.0, 0.0, 0.0, 0.0, 0.0, 0.0, 0.0, 0.0, 0.0, 0.0, 0.0, 0.0, 0.0, 0.0, 0.0, 0.0, 0.0, 0.0, 0.0, 0.0, 0.0, 0.0, 0.0, 0.0, 0.0, 0.0, 0.0, 0.0, 0.0, 0.0, 0.0, 0.0, 0.0, 0.0, 0.0, 0.0, 0.0, 0.0, 0.0, 0.0, 0.0, 0.0, 0.0, 0.0, 0.0, 0.0, 0.0, 0.0, 0.0, 0.0, 0.0, 0.0, 0.0, 0.0, 0.0, 0.0, 0.0, 0.0, 0.0, 0.0, 0.0, 0.0, 0.0, 0.0, 0.0, 0.0, 0.0, 0.0, 0.0, 0.0, 0.0, 0.0, 0.0, 0.0, 0.0, 0.0, 0.0, 0.0, 0.0, 0.0, 0.0, 0.0, 0.0, 0.0, 0.0, 0.0, 0.0, 0.0, 0.0, 0.0, 0.0, 0.0, 0.0, 0.0, 0.0, 0.0, 0.0, 0.0, 0.0, 0.0, 0.0, 0.0, 0.0, 0.0, 0.0, 0.0, 0.0, 0.0, 0.0, 0.0, 0.0, 0.0, 0.0, 0.0, 0.0, 0.0, 0.0, 0.0, 0.0, 0.0, 0.0, 0.0, 0.0, 0.0, 0.0, 0.0, 0.0, 0.0, 0.0, 0.0, 0.0, 0.0, 0.0, 0.0, 0.0, 0.0, 0.0, 0.0, 0.0, 0.0, 0.0, 0.0, 0.0, 0.0, 0.0, 0.0, 0.0, 0.0, 0.0, 0.0, 0.0, 0.0, 0.0, 0.0, 0.0, 0.0, 0.0, 0.0, 0.0, 0.0, 0.0, 0.0, 0.0, 0.0, 0.0, 0.0, 0.0, 0.0, 0.0, 0.0, 0.0, 0.0, 0.0, 0.0, 0.0, 0.0, 0.0, 0.0, 0.0, 0.0, 0.0, 0.0, 0.0, 0.0, 0.0, 0.0, 0.0, 0.0, 0.0, 0.0, 0.0, 0.0, 0.0, 0.0, 0.0, 0.0, 0.0, 0.0, 0.0, 0.0, 0.0, 0.0, 0.0, 0.0, 0.0, 0.0, 0.0, 0.0, 0.0, 0.0, 0.0, 0.0, 0.0, 0.0, 0.0, 0.0, 0.0, 0.0, 0.0, 0.0, 0.0, 0.0, 0.0, 0.0, 0.0, 0.0, 0.0, 0.0, 0.0, 0.0, 0.0, 0.0, 0.0, 0.0, 0.0, 0.0, 0.0, 0.0, 0.0, 0.0, 0.0, 0.0, 0.0, 0.0, 0.0, 0.0, 0.0, 0.0, 0.0, 0.0, 0.0, 0.0, 0.0, 0.0, 0.0, 0.0, 0.0, 0.0, 0.0, 0.0, 0.0, 0.0, 0.0, 0.0, 0.0, 0.0, 0.0, 0.0, 0.0, 0.0, 0.0, 0.0, 0.0, 0.0, 0.0, 0.0, 0.0, 0.0, 0.0, 0.0, 0.0, 0.0, 0.0, 0.0, 0.0, 0.0, 0.0, 0.0, 0.0, 0.0, 0.0, 0.0, 0.0, 0.0, 0.0, 0.0, 0.0, 0.0, 0.0, 0.0, 0.0, 0.0, 0.0, 0.0, 0.0, 0.0, 0.0, 0.0, 0.0, 0.0, 0.0, 0.0, 0.0, 0.0, 0.0, 0.0, 0.0, 0.0, 0.0, 0.0, 0.0, 0.0, 0.0, 0.0, 0.0, 0.0, 0.0, 0.0, 0.0, 0.0, 0.0, 0.0, 0.0, 0.0, 0.0, 0.0, 0.0, 0.0, 0.0, 0.0, 0.0, 0.0, 0.0, 0.0, 0.0, 0.0, 0.0, 0.0, 0.0, 0.0, 0.0, 0.0, 0.0, 0.0, 0.0, 0.0, 0.0, 0.0, 0.0, 0.0, 0.0, 0.0, 0.0, 0.0, 0.0, 0.0, 0.0, 0.0, 0.0, 0.0, 0.0, 0.0, 0.0, 0.0, 0.0, 0.0, 0.0, 0.0, 0.0, 0.0, 0.0, 0.0, 0.0, 0.0, 0.0, 0.0, 0.0, 0.0, 0.0, 0.0, 0.0, 0.0, 0.0, 0.0, 0.0, 0.0, 0.0, 0.0, 0.0, 0.0, 0.0, 0.0, 0.0, 0.0, 0.0, 0.0, 0.0, 0.0, 0.0, 0.0, 0.0, 0.0, 0.0, 0.0, 0.0, 0.0, 0.0, 0.0, 0.0, 0.0, 0.0, 0.0, 0.0, 0.0, 0.0, 0.0, 0.0, 0.0, 0.0, 0.0, 0.0, 0.0, 0.0, 0.0, 0.0, 0.0, 0.0, 0.0, 0.0, 0.0, 0.0, 0.0, 0.0, 0.0, 0.0, 0.0, 0.0, 0.0, 0.0, 0.0, 0.0, 0.0, 0.0, 0.0, 0.0, 0.0, 0.0, 0.0, 0.0, 0.0, 0.0, 0.0, 0.0, 0.0, 0.0, 0.0, 0.0, 0.0, 0.0, 0.0, 0.0, 0.0, 0.0, 0.0, 0.0, 0.0, 0.0, 0.0, 0.0, 0.0, 0.0, 0.0, 0.0, 0.0, 0.0, 0.0, 0.0, 0.0, 0.0, 0.0, 0.0, 0.0, 0.0, 0.0, 0.0, 0.0, 0.0, 0.0, 0.0, 0.0, 0.0, 0.0, 0.0, 0.0, 0.0, 0.0, 0.0, 0.0, 0.0, 0.0, 0.0, 0.0, 0.0, 0.0, 0.0, 0.0, 0.0, 0.0, 0.0, 0.0, 0.0, 0.0, 0.0, 0.0, 0.0, 0.0, 0.0, 0.0, 0.0, 0.0, 0.0, 0.0, 0.0, 0.0, 0.0, 0.0, 0.0, 0.0, 0.0, 0.0, 0.0, 0.0, 0.0, 0.0, 0.0, 0.0, 0.0, 0.0, 0.0, 0.0, 0.0, 0.0, 0.0, 0.0, 0.0, 0.0, 0.0, 0.0, 0.0, 0.0, 0.0, 0.0, 0.0, 0.0, 0.0, 0.0, 0.0, 0.0, 0.0, 0.0, 0.0, 0.0, 0.0, 0.0, 0.0, 0.0, 0.0, 0.0, 0.0, 0.0, 0.0, 0.0, 0.0, 0.0, 0.0, 0.0, 0.0, 0.0, 0.0, 0.0, 0.0, 0.0, 0.0, 0.0, 0.0, 0.0, 0.0, 0.0, 0.0, 0.0, 0.0, 0.0, 0.0, 0.0, 0.0, 0.0, 0.0, 0.0, 0.0, 0.0, 0.0, 0.0, 0.0, 0.0, 0.0, 0.0, 0.0, 0.0, 0.0, 0.0, 0.0, 0.0, 0.0, 0.0, 0.0, 0.0, 0.0, 0.0, 0.0, 0.0, 0.0, 0.0, 0.0, 0.0, 0.0, 0.0, 0.0, 0.0, 0.0, 0.0, 0.0, 0.0, 0.0, 0.0, 0.0, 0.0, 0.0, 0.0, 0.0, 0.0, 0.0, 0.0, 0.0, 0.0, 0.0, 0.0, 0.0, 0.0, 0.0, 0.0, 0.0, 0.0, 0.0, 0.0, 0.0, 0.0, 0.0, 0.0, 0.0, 0.0, 0.0, 0.0, 0.0, 0.0, 0.0, 0.0, 0.0, 0.0, 0.0, 0.0, 0.0, 0.0, 0.0, 0.0, 0.0, 0.0, 0.0, 0.0, 0.0, 0.0, 0.0, 0.0, 0.0, 0.0, 0.0, 0.0, 0.0, 0.0, 0.0, 0.0, 0.0, 0.0, 0.0, 0.0, 0.0, 0.0, 0.0, 0.0, 0.0, 0.0, 0.0, 0.0, 0.0, 0.0, 0.0, 0.0, 0.0, 0.0, 0.0, 0.0, 0.0, 0.0, 0.0, 0.0, 0.0, 0.0, 0.0, 0.0, 0.0, 0.0, 0.0, 0.0, 0.0, 0.0, 0.0, 0.0, 0.0, 0.0, 0.0, 0.0, 0.0, 0.0, 0.0, 0.0, 0.0, 0.0, 0.0, 0.0, 0.0, 0.0, 0.0, 0.0, 0.0, 0.0, 0.0, 0.0, 0.0, 0.0, 0.0, 0.0, 0.0, 0.0, 0.0, 0.0, 0.0, 0.0, 0.0, 0.0, 0.0, 0.0, 0.0, 0.0, 0.0, 0.0, 0.0, 0.0, 0.0, 0.0, 0.0, 0.0, 0.0, 0.0, 0.0, 0.0, 0.0, 0.0, 0.0, 0.0, 0.0, 0.0, 0.0, 0.0, 0.0, 0.0, 2088.76, 0.0, 0.0, 0.0, 0.0, 0.0, 0.0, 0.0, 0.0, 0.0, 0.0, 0.0, 0.0, 0.0, 0.0, 0.0, 0.0, 0.0, 0.0, 0.0, 2954.23, 0.0, 0.0, 0.0, 0.0, 0.0, 0.0, 0.0, 0.0, 0.0, 0.0, 0.0, 0.0, 0.0, 0.0, 0.0, 0.0, 0.0, 0.0, 0.0, 0.0, 0.0, 0.0, 0.0, 0.0, 0.0, 0.0, 0.0, 0.0, 0.0, 0.0, 0.0, 0.0, 0.0, 0.0, 0.0, 0.0, 0.0, 0.0, 0.0, 0.0, 0.0, 0.0, 0.0, 0.0, 0.0, 0.0, 0.0, 0.0, 0.0, 0.0, 0.0, 0.0, 0.0, 0.0, 0.0, 0.0, 0.0, 0.0, 0.0, 0.0, 0.0, 0.0, 0.0, 0.0, 0.0, 0.0, 0.0, 0.0, 0.0, 0.0, 0.0, 0.0, 0.0, 0.0, 0.0, 0.0, 0.0, 0.0, 0.0, 0.0, 0.0, 0.0, 0.0, 0.0, 0.0, 0.0, 0.0, 0.0, 0.0, 0.0, 0.0, 0.0, 0.0, 0.0, 0.0, 0.0, 0.0, 0.0, 0.0, 0.0, 0.0, 0.0, 0.0, 0.0, 0.0, 0.0, 0.0, 0.0, 0.0, 0.0, 0.0, 0.0, 0.0, 0.0, 0.0, 0.0, 0.0, 0.0, 0.0, 0.0, 0.0, 0.0, 0.0, 0.0, 0.0, 0.0, 0.0, 0.0, 0.0, 0.0, 0.0, 0.0, 0.0, 0.0, 0.0, 0.0, 0.0, 0.0, 0.0, 0.0, 0.0, 0.0, 0.0, 0.0, 0.0, 0.0, 0.0, 0.0, 0.0, 0.0, 0.0, 0.0, 0.0, 0.0, 0.0, 0.0, 0.0, 0.0, 0.0, 0.0, 0.0, 0.0, 0.0, 0.0, 0.0, 0.0, 0.0, 0.0, 0.0, 0.0, 0.0, 0.0, 0.0, 0.0, 0.0, 0.0, 0.0, 0.0, 0.0, 15799.87, 0.0, 0.0, 0.0, 0.0, 0.0, 0.0, 17477.98, 0.0, 18953.0, 18940.58, 0.0, 0.0, 0.0, 0.0, 0.0, 0.0, 0.0, 15764.45, 15390.05, 0.0, 0.0, 12640.0, 0.0, 0.0, 0.0, 15155.62, 15143.67, 16927.99, 17142.43, 0.0, 14999.99, 0.0, 14899.99, 0.0, 0.0, 0.0, 0.0, 0.0, 0.0, 0.0, 0.0, 0.0, 0.0, 0.0, 0.0, 0.0, 0.0, 0.0, 0.0, 0.0, 0.0, 0.0, 0.0, 0.0, 0.0, 0.0, 0.0, 0.0, 0.0, 0.0, 0.0, 0.0, 0.0, 0.0, 0.0, 0.0, 0.0, 0.0, 0.0, 0.0, 0.0, 0.0, 0.0, 0.0, 0.0, 0.0, 0.0, 0.0, 0.0, 0.0, 0.0, 0.0, 0.0, 0.0, 0.0, 0.0, 0.0, 0.0, 0.0, 0.0, 0.0, 0.0, 0.0, 0.0, 0.0, 0.0, 0.0, 0.0, 0.0, 0.0, 0.0, 0.0, 0.0, 0.0, 0.0, 0.0, 0.0, 0.0, 0.0, 0.0, 0.0, 0.0, 0.0, 0.0, 0.0, 0.0, 0.0, 0.0, 0.0, 0.0, 0.0, 0.0, 0.0, 0.0, 0.0, 0.0, 0.0, 0.0, 0.0, 0.0, 0.0, 0.0, 0.0, 0.0, 0.0, 0.0, 0.0, 0.0, 0.0, 0.0, 0.0, 0.0, 0.0, 0.0, 0.0, 0.0, 0.0, 0.0, 0.0, 0.0, 0.0, 0.0, 0.0, 0.0, 0.0, 0.0, 0.0, 0.0, 0.0, 0.0, 0.0, 0.0, 0.0, 0.0, 0.0, 0.0, 0.0, 0.0, 0.0, 0.0, 0.0, 0.0, 0.0, 0.0, 0.0, 0.0, 0.0, 0.0, 0.0, 0.0, 0.0, 0.0, 0.0, 0.0, 0.0, 0.0, 0.0, 0.0, 0.0, 0.0, 0.0, 0.0, 0.0, 0.0, 0.0, 0.0, 0.0, 0.0, 0.0, 0.0, 0.0, 0.0, 0.0, 0.0, 0.0, 0.0, 0.0, 0.0, 0.0, 0.0, 0.0, 0.0, 0.0, 0.0, 0.0, 0.0, 0.0, 0.0, 0.0, 0.0, 0.0, 0.0, 0.0, 0.0, 0.0, 0.0, 0.0, 0.0, 0.0, 0.0, 0.0, 0.0, 0.0, 0.0, 0.0, 0.0, 0.0, 0.0, 0.0, 0.0, 0.0, 0.0, 0.0, 0.0, 0.0, 0.0, 0.0, 0.0, 0.0, 0.0, 0.0, 0.0, 0.0, 0.0, 0.0, 0.0, 0.0, 0.0, 0.0, 0.0, 0.0, 0.0, 0.0, 0.0, 0.0, 0.0, 0.0, 0.0, 0.0, 0.0, 0.0, 0.0, 0.0, 0.0, 0.0, 0.0, 0.0, 0.0, 0.0, 0.0, 0.0, 0.0, 0.0, 0.0, 0.0, 0.0, 0.0, 0.0, 0.0, 0.0, 0.0, 0.0, 0.0, 0.0, 0.0, 0.0, 0.0, 0.0, 0.0, 0.0, 0.0, 0.0, 0.0, 0.0, 0.0, 0.0, 0.0, 0.0, 0.0, 0.0, 0.0, 0.0, 0.0, 0.0, 0.0, 0.0, 0.0, 0.0, 0.0, 0.0, 0.0, 0.0, 0.0, 0.0, 0.0, 0.0, 0.0, 0.0, 0.0, 0.0, 0.0, 0.0, 0.0, 0.0, 0.0, 0.0, 0.0, 0.0, 0.0, 0.0, 0.0, 0.0, 0.0, 0.0, 0.0, 0.0, 0.0, 0.0, 0.0, 0.0, 0.0, 0.0, 0.0, 0.0, 0.0, 0.0, 0.0, 0.0, 0.0, 0.0, 0.0, 0.0, 0.0, 0.0, 0.0, 0.0, 0.0, 0.0, 0.0, 0.0, 0.0, 0.0, 0.0, 0.0, 0.0, 0.0, 0.0, 0.0, 0.0, 0.0, 0.0, 0.0, 0.0, 0.0, 0.0, 0.0, 0.0, 0.0, 0.0, 0.0, 0.0, 0.0, 0.0, 0.0, 0.0, 0.0, 0.0, 0.0, 0.0, 0.0, 0.0, 0.0, 0.0, 0.0, 0.0, 0.0, 0.0, 0.0, 0.0, 0.0, 0.0, 0.0, 0.0, 0.0, 0.0, 0.0, 0.0, 0.0, 0.0, 0.0, 0.0, 0.0, 0.0, 0.0, 0.0, 0.0, 0.0, 0.0, 0.0, 0.0, 0.0, 0.0, 0.0, 0.0, 0.0, 0.0, 0.0, 0.0, 0.0, 0.0, 0.0, 0.0, 0.0, 0.0, 0.0, 0.0, 0.0, 0.0, 0.0, 0.0, 0.0, 0.0, 0.0, 0.0, 0.0, 0.0, 0.0, 0.0, 0.0, 0.0, 0.0, 0.0, 0.0, 0.0, 0.0, 0.0, 0.0, 0.0, 0.0, 0.0, 0.0, 0.0, 0.0, 0.0, 0.0, 0.0, 0.0, 0.0, 0.0, 0.0, 0.0, 0.0, 0.0, 0.0, 0.0, 0.0, 0.0, 0.0, 0.0, 0.0, 0.0, 0.0, 0.0, 0.0, 0.0, 0.0, 0.0, 0.0, 0.0, 0.0, 0.0, 0.0, 0.0, 0.0, 0.0, 0.0, 0.0, 0.0, 0.0, 0.0, 0.0, 0.0, 0.0, 0.0, 0.0, 0.0, 0.0, 0.0, 0.0, 0.0, 0.0, 0.0, 0.0, 0.0, 0.0, 0.0, 0.0, 0.0, 0.0, 0.0, 0.0, 0.0, 0.0, 0.0, 0.0, 0.0, 0.0, 0.0, 0.0, 0.0, 0.0, 0.0, 0.0, 0.0, 0.0, 0.0, 0.0, 0.0, 0.0, 0.0, 0.0, 0.0, 0.0, 0.0, 0.0, 0.0, 0.0, 0.0, 0.0, 0.0, 0.0, 0.0, 0.0, 0.0, 0.0, 0.0, 12354.45, 0.0, 0.0, 0.0, 0.0, 0.0, 0.0, 0.0, 0.0, 0.0, 0.0, 12574.88, 0.0, 0.0, 0.0, 0.0, 0.0, 0.0, 0.0, 0.0, 0.0, 0.0, 0.0, 0.0, 0.0, 0.0, 0.0, 0.0, 0.0, 0.0, 0.0, 0.0, 0.0, 0.0, 0.0, 0.0, 0.0, 0.0, 0.0, 0.0, 0.0, 0.0, 0.0, 0.0, 0.0, 0.0, 0.0, 0.0, 0.0, 0.0, 0.0, 0.0, 0.0, 0.0, 0.0, 0.0, 0.0, 0.0, 0.0, 0.0, 0.0, 0.0, 0.0, 0.0, 0.0, 0.0, 0.0, 0.0, 0.0, 0.0, 0.0, 0.0, 0.0, 0.0, 0.0, 0.0, 0.0, 0.0, 0.0, 0.0, 0.0, 0.0, 0.0, 0.0, 0.0, 0.0, 0.0, 0.0, 0.0, 0.0, 0.0, 0.0, 0.0, 0.0, 0.0, 0.0, 0.0, 0.0, 0.0, 0.0, 0.0, 0.0, 0.0, 0.0, 0.0, 0.0, 0.0, 0.0, 0.0, 0.0, 0.0, 0.0, 0.0, 0.0, 0.0, 0.0, 0.0, 0.0, 0.0, 0.0, 0.0, 0.0, 0.0, 0.0, 0.0, 0.0, 0.0, 0.0, 0.0, 0.0, 0.0, 0.0, 0.0, 0.0, 0.0, 0.0, 0.0, 0.0, 0.0, 0.0, 0.0, 0.0, 0.0, 0.0, 0.0, 0.0, 0.0, 0.0, 0.0, 0.0, 0.0, 0.0, 0.0, 0.0, 0.0, 0.0, 0.0, 0.0, 0.0, 0.0, 0.0, 0.0, 0.0, 0.0, 0.0, 0.0, 0.0, 0.0, 0.0, 0.0, 0.0, 0.0, 0.0, 0.0, 0.0, 0.0, 0.0, 0.0, 0.0, 0.0, 0.0, 0.0, 0.0, 0.0, 0.0, 0.0, 0.0, 0.0, 0.0, 0.0, 0.0, 0.0, 0.0, 0.0, 0.0, 0.0, 0.0, 0.0, 0.0, 0.0, 0.0, 0.0, 0.0, 0.0, 0.0, 0.0, 0.0, 0.0, 0.0, 0.0, 0.0, 0.0, 0.0, 0.0, 0.0, 0.0, 0.0, 0.0, 0.0, 0.0, 0.0, 0.0, 0.0, 0.0, 0.0, 0.0, 0.0, 0.0, 0.0, 0.0, 0.0, 0.0, 0.0, 0.0, 0.0, 0.0, 0.0, 0.0, 0.0, 0.0, 0.0, 0.0, 0.0, 0.0, 0.0, 0.0, 0.0, 0.0, 0.0, 0.0, 0.0, 0.0, 0.0, 0.0, 0.0, 0.0, 0.0, 0.0, 0.0, 0.0, 0.0, 0.0, 0.0, 0.0, 0.0, 0.0, 0.0, 0.0, 0.0, 0.0, 0.0, 0.0, 0.0, 0.0, 0.0, 0.0, 0.0, 0.0, 0.0, 0.0, 0.0, 0.0, 0.0, 0.0, 0.0, 0.0, 0.0, 0.0, 0.0, 0.0, 0.0, 0.0, 0.0, 0.0, 0.0, 0.0, 0.0, 0.0, 0.0, 0.0, 0.0, 0.0, 0.0, 0.0, 0.0, 0.0, 0.0, 0.0, 0.0, 0.0, 0.0, 0.0, 0.0, 0.0, 0.0, 0.0, 0.0, 0.0, 0.0, 0.0, 0.0, 0.0, 0.0, 0.0, 0.0, 0.0, 0.0, 0.0, 0.0, 0.0, 0.0, 0.0, 0.0, 0.0, 0.0, 0.0, 0.0, 0.0, 0.0, 0.0, 0.0, 0.0, 0.0, 0.0, 0.0, 0.0, 0.0, 0.0, 0.0, 0.0, 0.0, 0.0, 0.0, 0.0, 0.0, 0.0, 0.0, 0.0, 0.0, 0.0, 0.0, 0.0, 0.0, 0.0, 0.0, 0.0, 0.0, 0.0, 0.0, 0.0, 0.0, 0.0, 0.0, 0.0, 0.0, 0.0, 0.0, 0.0, 0.0, 0.0, 0.0, 0.0, 0.0, 0.0, 0.0, 0.0, 0.0, 0.0, 0.0, 0.0, 0.0, 0.0, 0.0, 0.0, 0.0, 0.0, 0.0, 0.0, 0.0, 0.0, 0.0, 0.0, 0.0, 0.0, 0.0, 0.0, 0.0, 0.0, 0.0, 0.0, 0.0, 0.0, 0.0, 0.0, 0.0, 0.0, 0.0, 0.0, 0.0, 0.0, 0.0, 0.0, 0.0, 0.0, 0.0, 0.0, 0.0, 0.0, 0.0, 0.0, 0.0, 0.0, 0.0, 0.0, 0.0, 0.0, 0.0, 0.0, 0.0, 0.0, 0.0, 0.0, 0.0, 0.0, 0.0, 0.0, 0.0, 0.0, 0.0, 0.0, 0.0, 0.0, 0.0, 0.0, 0.0, 0.0, 0.0, 0.0, 0.0, 0.0, 0.0, 0.0, 0.0, 0.0, 0.0, 0.0, 0.0, 0.0, 0.0, 0.0, 0.0, 0.0, 0.0, 0.0, 0.0, 0.0, 0.0, 0.0, 0.0, 0.0, 0.0, 0.0, 0.0, 0.0, 0.0, 0.0, 0.0, 0.0, 0.0, 0.0, 0.0, 0.0, 0.0, 0.0, 0.0, 0.0, 0.0, 0.0, 14829.32, 15484.68, 0.0, 15314.94, 0.0, 0.0, 0.0, 16092.8, 15975.49, 16727.85, 17681.77, 17792.96, 17822.37, 0.0, 0.0, 18432.6, 18386.92, 0.0, 0.0, 17168.31, 17160.38, 0.0, 18196.75, 19703.53, 0.0, 19220.09, 19439.94, 0.0, 0.0, 19385.13, 0.0, 18311.31, 18546.38, 18250.3, 18031.23, 0.0, 0.0, 19274.33, 19434.55, 21358.96, 22829.89, 23142.05, 23842.38, 23470.85, 22750.07, 23819.08, 23215.0, 23747.22, 24714.01, 26472.89, 26242.82, 27037.9, 27370.0, 28893.21, 28999.63, 29410.77, 32216.51, 33068.83, 32054.23, 34081.24, 36875.96, 39510.59, 40682.76, 40239.06, 38164.88, 35449.71, 34035.02, 37393.49, 39147.98, 36778.66, 36013.51, 35826.36, 36665.82, 35888.13, 35516.17, 30817.86, 32989.1, 32098.38, 32289.06, 32264.15, 32521.65, 30427.34, 33488.66, 34265.71, 34300.19, 33110.32, 33497.16, 35496.91, 37693.0, 36984.28, 38320.0, 39274.8, 38870.36, 46445.51, 46493.9, 44854.63, 48044.88, 47424.25, 47258.66, 48620.48, 47954.05, 49136.7, 52141.23, 51560.46, 56000.59, 55919.75, 57485.74, 54173.64, 48927.33, 49715.13, 47070.18, 46324.15, 46142.1, 45261.56, 49641.89, 48438.0, 50376.05, 48353.09, 48774.67, 48933.12, 50952.55, 52427.8, 54927.29, 55918.09, 57847.92, 57297.67, 61177.03, 58956.9, 55616.42, 56928.38, 58939.73, 57648.01, 58029.94, 58072.87, 57410.54, 54117.71, 54360.07, 52281.77, 51292.65, 55081.26, 55817.85, 55790.28, 57623.66, 58767.75], \"yaxis\": \"y\"}],\n",
              "                        {\"legend\": {\"tracegroupgap\": 0}, \"template\": {\"data\": {\"bar\": [{\"error_x\": {\"color\": \"#2a3f5f\"}, \"error_y\": {\"color\": \"#2a3f5f\"}, \"marker\": {\"line\": {\"color\": \"#E5ECF6\", \"width\": 0.5}}, \"type\": \"bar\"}], \"barpolar\": [{\"marker\": {\"line\": {\"color\": \"#E5ECF6\", \"width\": 0.5}}, \"type\": \"barpolar\"}], \"carpet\": [{\"aaxis\": {\"endlinecolor\": \"#2a3f5f\", \"gridcolor\": \"white\", \"linecolor\": \"white\", \"minorgridcolor\": \"white\", \"startlinecolor\": \"#2a3f5f\"}, \"baxis\": {\"endlinecolor\": \"#2a3f5f\", \"gridcolor\": \"white\", \"linecolor\": \"white\", \"minorgridcolor\": \"white\", \"startlinecolor\": \"#2a3f5f\"}, \"type\": \"carpet\"}], \"choropleth\": [{\"colorbar\": {\"outlinewidth\": 0, \"ticks\": \"\"}, \"type\": \"choropleth\"}], \"contour\": [{\"colorbar\": {\"outlinewidth\": 0, \"ticks\": \"\"}, \"colorscale\": [[0.0, \"#0d0887\"], [0.1111111111111111, \"#46039f\"], [0.2222222222222222, \"#7201a8\"], [0.3333333333333333, \"#9c179e\"], [0.4444444444444444, \"#bd3786\"], [0.5555555555555556, \"#d8576b\"], [0.6666666666666666, \"#ed7953\"], [0.7777777777777778, \"#fb9f3a\"], [0.8888888888888888, \"#fdca26\"], [1.0, \"#f0f921\"]], \"type\": \"contour\"}], \"contourcarpet\": [{\"colorbar\": {\"outlinewidth\": 0, \"ticks\": \"\"}, \"type\": \"contourcarpet\"}], \"heatmap\": [{\"colorbar\": {\"outlinewidth\": 0, \"ticks\": \"\"}, \"colorscale\": [[0.0, \"#0d0887\"], [0.1111111111111111, \"#46039f\"], [0.2222222222222222, \"#7201a8\"], [0.3333333333333333, \"#9c179e\"], [0.4444444444444444, \"#bd3786\"], [0.5555555555555556, \"#d8576b\"], [0.6666666666666666, \"#ed7953\"], [0.7777777777777778, \"#fb9f3a\"], [0.8888888888888888, \"#fdca26\"], [1.0, \"#f0f921\"]], \"type\": \"heatmap\"}], \"heatmapgl\": [{\"colorbar\": {\"outlinewidth\": 0, \"ticks\": \"\"}, \"colorscale\": [[0.0, \"#0d0887\"], [0.1111111111111111, \"#46039f\"], [0.2222222222222222, \"#7201a8\"], [0.3333333333333333, \"#9c179e\"], [0.4444444444444444, \"#bd3786\"], [0.5555555555555556, \"#d8576b\"], [0.6666666666666666, \"#ed7953\"], [0.7777777777777778, \"#fb9f3a\"], [0.8888888888888888, \"#fdca26\"], [1.0, \"#f0f921\"]], \"type\": \"heatmapgl\"}], \"histogram\": [{\"marker\": {\"colorbar\": {\"outlinewidth\": 0, \"ticks\": \"\"}}, \"type\": \"histogram\"}], \"histogram2d\": [{\"colorbar\": {\"outlinewidth\": 0, \"ticks\": \"\"}, \"colorscale\": [[0.0, \"#0d0887\"], [0.1111111111111111, \"#46039f\"], [0.2222222222222222, \"#7201a8\"], [0.3333333333333333, \"#9c179e\"], [0.4444444444444444, \"#bd3786\"], [0.5555555555555556, \"#d8576b\"], [0.6666666666666666, \"#ed7953\"], [0.7777777777777778, \"#fb9f3a\"], [0.8888888888888888, \"#fdca26\"], [1.0, \"#f0f921\"]], \"type\": \"histogram2d\"}], \"histogram2dcontour\": [{\"colorbar\": {\"outlinewidth\": 0, \"ticks\": \"\"}, \"colorscale\": [[0.0, \"#0d0887\"], [0.1111111111111111, \"#46039f\"], [0.2222222222222222, \"#7201a8\"], [0.3333333333333333, \"#9c179e\"], [0.4444444444444444, \"#bd3786\"], [0.5555555555555556, \"#d8576b\"], [0.6666666666666666, \"#ed7953\"], [0.7777777777777778, \"#fb9f3a\"], [0.8888888888888888, \"#fdca26\"], [1.0, \"#f0f921\"]], \"type\": \"histogram2dcontour\"}], \"mesh3d\": [{\"colorbar\": {\"outlinewidth\": 0, \"ticks\": \"\"}, \"type\": \"mesh3d\"}], \"parcoords\": [{\"line\": {\"colorbar\": {\"outlinewidth\": 0, \"ticks\": \"\"}}, \"type\": \"parcoords\"}], \"pie\": [{\"automargin\": true, \"type\": \"pie\"}], \"scatter\": [{\"marker\": {\"colorbar\": {\"outlinewidth\": 0, \"ticks\": \"\"}}, \"type\": \"scatter\"}], \"scatter3d\": [{\"line\": {\"colorbar\": {\"outlinewidth\": 0, \"ticks\": \"\"}}, \"marker\": {\"colorbar\": {\"outlinewidth\": 0, \"ticks\": \"\"}}, \"type\": \"scatter3d\"}], \"scattercarpet\": [{\"marker\": {\"colorbar\": {\"outlinewidth\": 0, \"ticks\": \"\"}}, \"type\": \"scattercarpet\"}], \"scattergeo\": [{\"marker\": {\"colorbar\": {\"outlinewidth\": 0, \"ticks\": \"\"}}, \"type\": \"scattergeo\"}], \"scattergl\": [{\"marker\": {\"colorbar\": {\"outlinewidth\": 0, \"ticks\": \"\"}}, \"type\": \"scattergl\"}], \"scattermapbox\": [{\"marker\": {\"colorbar\": {\"outlinewidth\": 0, \"ticks\": \"\"}}, \"type\": \"scattermapbox\"}], \"scatterpolar\": [{\"marker\": {\"colorbar\": {\"outlinewidth\": 0, \"ticks\": \"\"}}, \"type\": \"scatterpolar\"}], \"scatterpolargl\": [{\"marker\": {\"colorbar\": {\"outlinewidth\": 0, \"ticks\": \"\"}}, \"type\": \"scatterpolargl\"}], \"scatterternary\": [{\"marker\": {\"colorbar\": {\"outlinewidth\": 0, \"ticks\": \"\"}}, \"type\": \"scatterternary\"}], \"surface\": [{\"colorbar\": {\"outlinewidth\": 0, \"ticks\": \"\"}, \"colorscale\": [[0.0, \"#0d0887\"], [0.1111111111111111, \"#46039f\"], [0.2222222222222222, \"#7201a8\"], [0.3333333333333333, \"#9c179e\"], [0.4444444444444444, \"#bd3786\"], [0.5555555555555556, \"#d8576b\"], [0.6666666666666666, \"#ed7953\"], [0.7777777777777778, \"#fb9f3a\"], [0.8888888888888888, \"#fdca26\"], [1.0, \"#f0f921\"]], \"type\": \"surface\"}], \"table\": [{\"cells\": {\"fill\": {\"color\": \"#EBF0F8\"}, \"line\": {\"color\": \"white\"}}, \"header\": {\"fill\": {\"color\": \"#C8D4E3\"}, \"line\": {\"color\": \"white\"}}, \"type\": \"table\"}]}, \"layout\": {\"annotationdefaults\": {\"arrowcolor\": \"#2a3f5f\", \"arrowhead\": 0, \"arrowwidth\": 1}, \"coloraxis\": {\"colorbar\": {\"outlinewidth\": 0, \"ticks\": \"\"}}, \"colorscale\": {\"diverging\": [[0, \"#8e0152\"], [0.1, \"#c51b7d\"], [0.2, \"#de77ae\"], [0.3, \"#f1b6da\"], [0.4, \"#fde0ef\"], [0.5, \"#f7f7f7\"], [0.6, \"#e6f5d0\"], [0.7, \"#b8e186\"], [0.8, \"#7fbc41\"], [0.9, \"#4d9221\"], [1, \"#276419\"]], \"sequential\": [[0.0, \"#0d0887\"], [0.1111111111111111, \"#46039f\"], [0.2222222222222222, \"#7201a8\"], [0.3333333333333333, \"#9c179e\"], [0.4444444444444444, \"#bd3786\"], [0.5555555555555556, \"#d8576b\"], [0.6666666666666666, \"#ed7953\"], [0.7777777777777778, \"#fb9f3a\"], [0.8888888888888888, \"#fdca26\"], [1.0, \"#f0f921\"]], \"sequentialminus\": [[0.0, \"#0d0887\"], [0.1111111111111111, \"#46039f\"], [0.2222222222222222, \"#7201a8\"], [0.3333333333333333, \"#9c179e\"], [0.4444444444444444, \"#bd3786\"], [0.5555555555555556, \"#d8576b\"], [0.6666666666666666, \"#ed7953\"], [0.7777777777777778, \"#fb9f3a\"], [0.8888888888888888, \"#fdca26\"], [1.0, \"#f0f921\"]]}, \"colorway\": [\"#636efa\", \"#EF553B\", \"#00cc96\", \"#ab63fa\", \"#FFA15A\", \"#19d3f3\", \"#FF6692\", \"#B6E880\", \"#FF97FF\", \"#FECB52\"], \"font\": {\"color\": \"#2a3f5f\"}, \"geo\": {\"bgcolor\": \"white\", \"lakecolor\": \"white\", \"landcolor\": \"#E5ECF6\", \"showlakes\": true, \"showland\": true, \"subunitcolor\": \"white\"}, \"hoverlabel\": {\"align\": \"left\"}, \"hovermode\": \"closest\", \"mapbox\": {\"style\": \"light\"}, \"paper_bgcolor\": \"white\", \"plot_bgcolor\": \"#E5ECF6\", \"polar\": {\"angularaxis\": {\"gridcolor\": \"white\", \"linecolor\": \"white\", \"ticks\": \"\"}, \"bgcolor\": \"#E5ECF6\", \"radialaxis\": {\"gridcolor\": \"white\", \"linecolor\": \"white\", \"ticks\": \"\"}}, \"scene\": {\"xaxis\": {\"backgroundcolor\": \"#E5ECF6\", \"gridcolor\": \"white\", \"gridwidth\": 2, \"linecolor\": \"white\", \"showbackground\": true, \"ticks\": \"\", \"zerolinecolor\": \"white\"}, \"yaxis\": {\"backgroundcolor\": \"#E5ECF6\", \"gridcolor\": \"white\", \"gridwidth\": 2, \"linecolor\": \"white\", \"showbackground\": true, \"ticks\": \"\", \"zerolinecolor\": \"white\"}, \"zaxis\": {\"backgroundcolor\": \"#E5ECF6\", \"gridcolor\": \"white\", \"gridwidth\": 2, \"linecolor\": \"white\", \"showbackground\": true, \"ticks\": \"\", \"zerolinecolor\": \"white\"}}, \"shapedefaults\": {\"line\": {\"color\": \"#2a3f5f\"}}, \"ternary\": {\"aaxis\": {\"gridcolor\": \"white\", \"linecolor\": \"white\", \"ticks\": \"\"}, \"baxis\": {\"gridcolor\": \"white\", \"linecolor\": \"white\", \"ticks\": \"\"}, \"bgcolor\": \"#E5ECF6\", \"caxis\": {\"gridcolor\": \"white\", \"linecolor\": \"white\", \"ticks\": \"\"}}, \"title\": {\"x\": 0.05}, \"xaxis\": {\"automargin\": true, \"gridcolor\": \"white\", \"linecolor\": \"white\", \"ticks\": \"\", \"title\": {\"standoff\": 15}, \"zerolinecolor\": \"white\", \"zerolinewidth\": 2}, \"yaxis\": {\"automargin\": true, \"gridcolor\": \"white\", \"linecolor\": \"white\", \"ticks\": \"\", \"title\": {\"standoff\": 15}, \"zerolinecolor\": \"white\", \"zerolinewidth\": 2}}}, \"title\": {\"text\": \"Evolution du prix du BTC\"}, \"xaxis\": {\"anchor\": \"y\", \"domain\": [0.0, 1.0], \"rangeslider\": {\"visible\": true}, \"title\": {\"text\": \"x\"}}, \"yaxis\": {\"anchor\": \"x\", \"autorange\": true, \"domain\": [0.0, 1.0], \"fixedrange\": false, \"title\": {\"text\": \"y\"}}},\n",
              "                        {\"responsive\": true}\n",
              "                    ).then(function(){\n",
              "                            \n",
              "var gd = document.getElementById('541a411f-26d9-4d0b-a16c-361904f83084');\n",
              "var x = new MutationObserver(function (mutations, observer) {{\n",
              "        var display = window.getComputedStyle(gd).display;\n",
              "        if (!display || display === 'none') {{\n",
              "            console.log([gd, 'removed!']);\n",
              "            Plotly.purge(gd);\n",
              "            observer.disconnect();\n",
              "        }}\n",
              "}});\n",
              "\n",
              "// Listen for the removal of the full notebook cells\n",
              "var notebookContainer = gd.closest('#notebook-container');\n",
              "if (notebookContainer) {{\n",
              "    x.observe(notebookContainer, {childList: true});\n",
              "}}\n",
              "\n",
              "// Listen for the clearing of the current output cell\n",
              "var outputEl = gd.closest('.output');\n",
              "if (outputEl) {{\n",
              "    x.observe(outputEl, {childList: true});\n",
              "}}\n",
              "\n",
              "                        })\n",
              "                };\n",
              "                \n",
              "            </script>\n",
              "        </div>\n",
              "</body>\n",
              "</html>"
            ]
          },
          "metadata": {
            "tags": []
          }
        }
      ]
    },
    {
      "cell_type": "markdown",
      "metadata": {
        "id": "zVAWVQioe-kS"
      },
      "source": [
        "Comme les anomalies détectées ne sembles pas cohérentes, nous n'allons pas les traiter..."
      ]
    },
    {
      "cell_type": "markdown",
      "metadata": {
        "id": "Dywu-C3VTZ-W"
      },
      "source": [
        "# Analyse de la série temporelle"
      ]
    },
    {
      "cell_type": "code",
      "metadata": {
        "id": "vb9RGoH8VQ2Q"
      },
      "source": [
        "# Définition des dates de début et de fin\n",
        "\n",
        "date_debut_pacf = \"2013-01-01 00:00:00\"\n",
        "date_fin_pacf = \"2021-03-31 00:00:00\"\n",
        "\n",
        "# Sauvegarde du prix et des dates lors de l'ouverture des marchés dans un array numpy\n",
        "prix_ouverture_pacf = np.asarray(serie_jour.loc[date_debut:date_fin].Open)"
      ],
      "execution_count": 11,
      "outputs": []
    },
    {
      "cell_type": "code",
      "metadata": {
        "colab": {
          "base_uri": "https://localhost:8080/",
          "height": 353
        },
        "id": "uNDIEisiToS5",
        "outputId": "29b5d68b-5b71-4d67-cdaf-14bf366b7d82"
      },
      "source": [
        "# ACF & PACF\n",
        "\n",
        "n_lags = 100\n",
        "\n",
        "from statsmodels.graphics.tsaplots import plot_acf, plot_pacf\n",
        "\n",
        "f1, (ax1, ax2) = plt.subplots(1, 2, figsize=(15, 5))\n",
        "f1.subplots_adjust(hspace=0.3,wspace=0.2)\n",
        "\n",
        "plot_acf(prix_ouverture_pacf, ax=ax1, lags = range(0,n_lags))\n",
        "ax1.set_title(\"Autocorrélation\")\n",
        "\n",
        "plot_pacf(prix_ouverture_pacf, ax=ax2, lags = range(0, n_lags))\n",
        "ax2.set_title(\"Autocorrélation partielle\")\n"
      ],
      "execution_count": 20,
      "outputs": [
        {
          "output_type": "execute_result",
          "data": {
            "text/plain": [
              "Text(0.5, 1.0, 'Autocorrélation partielle')"
            ]
          },
          "metadata": {
            "tags": []
          },
          "execution_count": 20
        },
        {
          "output_type": "display_data",
          "data": {
            "image/png": "[encoded data removed]",
            "text/plain": [
              "<Figure size 1080x360 with 2 Axes>"
            ]
          },
          "metadata": {
            "tags": [],
            "needs_background": "light"
          }
        }
      ]
    },
    {
      "cell_type": "code",
      "metadata": {
        "id": "l0b_FrjwUTNQ"
      },
      "source": [
        "from statsmodels.tsa.stattools import pacf\n",
        "\n",
        "pacf = pacf(prix_ouverture_pacf, nlags=n_lags)"
      ],
      "execution_count": 21,
      "outputs": []
    },
    {
      "cell_type": "code",
      "metadata": {
        "colab": {
          "base_uri": "https://localhost:8080/"
        },
        "id": "iZjyCnaQUj0g",
        "outputId": "32b37d12-377e-4e8a-e0fe-7597eded9cd6"
      },
      "source": [
        "T = len(prix_ouverture_pacf)\n",
        "\n",
        "sig_test = lambda tau_h: np.abs(tau_h) > 2.58/np.sqrt(T)\n",
        "\n",
        "for i in range(len(pacf)):\n",
        "    if sig_test(pacf[i]) == False:\n",
        "        n_steps = i - 1\n",
        "        print('n_steps set to', n_steps)\n",
        "        break"
      ],
      "execution_count": 22,
      "outputs": [
        {
          "output_type": "stream",
          "text": [
            "n_steps set to 1\n"
          ],
          "name": "stdout"
        }
      ]
    },
    {
      "cell_type": "code",
      "metadata": {
        "colab": {
          "base_uri": "https://localhost:8080/",
          "height": 279
        },
        "id": "qjbGtLUcVDmZ",
        "outputId": "0c1c8acc-65ac-4e18-d47e-80f4bf84106e"
      },
      "source": [
        "plt.plot(pacf, label='pacf')\n",
        "plt.plot([2.58/np.sqrt(T)]*n_lags, label='99% confidence interval (upper)')\n",
        "plt.plot([-2.58/np.sqrt(T)]*n_lags, label='99% confidence interval (lower)')\n",
        "plt.xlabel('number of lags')\n",
        "plt.legend();"
      ],
      "execution_count": 23,
      "outputs": [
        {
          "output_type": "display_data",
          "data": {
            "image/png": "[encoded data removed]",
            "text/plain": [
              "<Figure size 432x288 with 1 Axes>"
            ]
          },
          "metadata": {
            "tags": [],
            "needs_background": "light"
          }
        }
      ]
    },
    {
      "cell_type": "markdown",
      "metadata": {
        "id": "9fX0hodwWH7I"
      },
      "source": [
        "# Préparation des données X et Y"
      ]
    },
    {
      "cell_type": "code",
      "metadata": {
        "id": "Thj85G9cWJhq"
      },
      "source": [
        "# Fonction permettant de créer un dataset à partir des données de la série temporelle\n",
        "# au format X(X1,X2,...Xn) / Y(Y1,Y2,...,Yn)\n",
        "# X sont les données d'entrées du réseau\n",
        "# Y sont les labels\n",
        "\n",
        "def prepare_dataset_XY(serie, taille_fenetre, batch_size, buffer_melange):\n",
        "  dataset = tf.data.Dataset.from_tensor_slices(serie)\n",
        "  dataset = dataset.window(taille_fenetre+1, shift=1, drop_remainder=True)\n",
        "  dataset = dataset.flat_map(lambda x: x.batch(taille_fenetre + 1))\n",
        "  dataset = dataset.map(lambda x: (x[:-1], x[-1:]))\n",
        "  dataset = dataset.batch(batch_size,drop_remainder=True).prefetch(1)\n",
        "  return dataset"
      ],
      "execution_count": 13,
      "outputs": []
    },
    {
      "cell_type": "markdown",
      "metadata": {
        "id": "_RqAZOY-WM3Y"
      },
      "source": [
        "**1. Séparation des données en données pour l'entrainement et la validation**"
      ]
    },
    {
      "cell_type": "markdown",
      "metadata": {
        "id": "YhF-c64qWPmn"
      },
      "source": [
        "On réserve 20% des données pour l'entrainement et le reste pour la validation :\n"
      ]
    },
    {
      "cell_type": "code",
      "metadata": {
        "colab": {
          "base_uri": "https://localhost:8080/"
        },
        "id": "NUo5EBdzWOfP",
        "outputId": "893ff355-8f8b-4919-f53b-0057a337ee77"
      },
      "source": [
        "temps_separation = int(0.8*len(prix_ouverture))\n",
        "\n",
        "# Création de la base de temps\n",
        "temps_ouverture = np.linspace(0,len(prix_ouverture)-1,len(prix_ouverture)).astype(np.int)\n",
        "\n",
        "# Extraction des temps et des données d'entrainement\n",
        "temps_entrainement = temps_ouverture[:temps_separation]\n",
        "x_entrainement = prix_ouverture[:temps_separation]\n",
        "\n",
        "# Exctraction des temps et des données de validation\n",
        "temps_validation = temps_ouverture[temps_separation:]\n",
        "x_validation = prix_ouverture[temps_separation:]\n",
        "\n",
        "print(\"Taille de l'entrainement : %d\" %len(x_entrainement))\n",
        "print(\"Taille de la validation : %d\" %len(x_validation))"
      ],
      "execution_count": 148,
      "outputs": [
        {
          "output_type": "stream",
          "text": [
            "Taille de l'entrainement : 2337\n",
            "Taille de la validation : 585\n"
          ],
          "name": "stdout"
        }
      ]
    },
    {
      "cell_type": "code",
      "metadata": {
        "id": "cPjszzpMf2TL",
        "outputId": "11a99499-ad65-4e03-a4e3-babc3b621bc7",
        "colab": {
          "base_uri": "https://localhost:8080/"
        }
      },
      "source": [
        "temps_ouverture"
      ],
      "execution_count": 132,
      "outputs": [
        {
          "output_type": "execute_result",
          "data": {
            "text/plain": [
              "array([   0,    1,    2, ..., 2919, 2920, 2921])"
            ]
          },
          "metadata": {
            "tags": []
          },
          "execution_count": 132
        }
      ]
    },
    {
      "cell_type": "code",
      "metadata": {
        "colab": {
          "base_uri": "https://localhost:8080/"
        },
        "id": "dk1soPG1JonO",
        "outputId": "a91e9d76-5182-4295-9a6f-971f77f1580e"
      },
      "source": [
        "x_entrainement"
      ],
      "execution_count": 26,
      "outputs": [
        {
          "output_type": "execute_result",
          "data": {
            "text/plain": [
              "Timestamp\n",
              "2013-04-01       99.525714\n",
              "2013-04-02      103.730000\n",
              "2013-04-03      116.000000\n",
              "2013-04-04      133.870000\n",
              "2013-04-05      134.670000\n",
              "                  ...     \n",
              "2019-08-20    10927.300000\n",
              "2019-08-21    10778.750000\n",
              "2019-08-22    10123.560000\n",
              "2019-08-23    10112.450000\n",
              "2019-08-24    10401.870000\n",
              "Freq: D, Name: Open, Length: 2337, dtype: float64"
            ]
          },
          "metadata": {
            "tags": []
          },
          "execution_count": 26
        }
      ]
    },
    {
      "cell_type": "code",
      "metadata": {
        "colab": {
          "base_uri": "https://localhost:8080/",
          "height": 385
        },
        "id": "UrtFCZI-W_Qv",
        "outputId": "4ced5ff1-7503-4eba-97c1-16bca4d2b9b3"
      },
      "source": [
        "# Affiche la série\n",
        "fig, ax = plt.subplots(constrained_layout=True, figsize=(15,5))\n",
        "ax.plot(temps_entrainement, x_entrainement, label=\"Entrainement\")\n",
        "ax.plot(temps_validation, x_validation,label=\"Validation\")\n",
        "\n",
        "ax.set_title(\"Evolution du prix du BTC\")\n",
        "\n",
        "ax.legend()\n",
        "plt.show()"
      ],
      "execution_count": 27,
      "outputs": [
        {
          "output_type": "display_data",
          "data": {
            "image/png": "[encoded data removed]",
            "text/plain": [
              "<Figure size 1080x360 with 1 Axes>"
            ]
          },
          "metadata": {
            "tags": [],
            "needs_background": "light"
          }
        }
      ]
    },
    {
      "cell_type": "markdown",
      "metadata": {
        "id": "_Dn-wZAOg5vs"
      },
      "source": [
        "**2. Préparation des données X et des labels Y**"
      ]
    },
    {
      "cell_type": "code",
      "metadata": {
        "colab": {
          "base_uri": "https://localhost:8080/"
        },
        "id": "YFt6GxBW_jz0",
        "outputId": "87362fed-97ba-4757-81bd-dcd47fa20650"
      },
      "source": [
        "x_entrainement"
      ],
      "execution_count": 28,
      "outputs": [
        {
          "output_type": "execute_result",
          "data": {
            "text/plain": [
              "Timestamp\n",
              "2013-04-01       99.525714\n",
              "2013-04-02      103.730000\n",
              "2013-04-03      116.000000\n",
              "2013-04-04      133.870000\n",
              "2013-04-05      134.670000\n",
              "                  ...     \n",
              "2019-08-20    10927.300000\n",
              "2019-08-21    10778.750000\n",
              "2019-08-22    10123.560000\n",
              "2019-08-23    10112.450000\n",
              "2019-08-24    10401.870000\n",
              "Freq: D, Name: Open, Length: 2337, dtype: float64"
            ]
          },
          "metadata": {
            "tags": []
          },
          "execution_count": 28
        }
      ]
    },
    {
      "cell_type": "code",
      "metadata": {
        "id": "iSNsF5-kgpE7",
        "outputId": "10adf6b3-4921-4a4e-f4f4-24b12402b3d6",
        "colab": {
          "base_uri": "https://localhost:8080/"
        }
      },
      "source": [
        "temps_entrainement[0:10]"
      ],
      "execution_count": 151,
      "outputs": [
        {
          "output_type": "execute_result",
          "data": {
            "text/plain": [
              "array([ 4,  5,  6,  7,  8,  9, 10, 11, 12, 13])"
            ]
          },
          "metadata": {
            "tags": []
          },
          "execution_count": 151
        }
      ]
    },
    {
      "cell_type": "code",
      "metadata": {
        "id": "3XyUuGElg5KW"
      },
      "source": [
        "# Définition des caractéristiques du dataset que l'on souhaite créer\n",
        "taille_fenetre = 4\n",
        "horizon = 1\n",
        "\n",
        "batch_size = 512\n",
        "buffer_melange = 5000\n",
        "\n",
        "# Décalage des temps\n",
        "temps_entrainement = temps_entrainement[taille_fenetre+horizon-1:]\n",
        "temps_validation = temps_validation[taille_fenetre+horizon-1:]\n",
        "\n",
        "# Calcul de la moyenne et de l'écart type de la série\n",
        "mean = tf.math.reduce_mean(np.asarray(x_entrainement))\n",
        "std = tf.math.reduce_std(np.asarray(x_entrainement))\n",
        "\n",
        "# Normalise les données\n",
        "Serie_Normalisee = (prix_ouverture-mean)/std\n",
        "\n",
        "# Création des données pour l'entrainement et le test\n",
        "x_entrainement_norm = Serie_Normalisee[:temps_separation]\n",
        "x_validation_norm = Serie_Normalisee[temps_separation:]\n",
        "\n",
        "# Création du dataset X,Y\n",
        "dataset = prepare_dataset_XY(x_entrainement,taille_fenetre,batch_size,buffer_melange)\n",
        "dataset_norm = prepare_dataset_XY(x_entrainement_norm,taille_fenetre,batch_size,buffer_melange)\n",
        "\n",
        "# Création du dataset X,Y de validation\n",
        "dataset_Val_norm = prepare_dataset_XY(x_validation_norm,taille_fenetre,batch_size,buffer_melange)"
      ],
      "execution_count": 150,
      "outputs": []
    },
    {
      "cell_type": "code",
      "metadata": {
        "colab": {
          "base_uri": "https://localhost:8080/"
        },
        "id": "w9t1Bo0JKx3m",
        "outputId": "ec474cc5-9036-4853-b576-2e2eb6b40d6b"
      },
      "source": [
        "dataset_Val_norm"
      ],
      "execution_count": null,
      "outputs": [
        {
          "output_type": "execute_result",
          "data": {
            "text/plain": [
              "<PrefetchDataset shapes: ((512, None), (512, None)), types: (tf.float64, tf.float64)>"
            ]
          },
          "metadata": {
            "tags": []
          },
          "execution_count": 48
        }
      ]
    },
    {
      "cell_type": "code",
      "metadata": {
        "colab": {
          "base_uri": "https://localhost:8080/"
        },
        "id": "trZPtX1pJ-Jt",
        "outputId": "85f4b96b-3a25-4679-817d-c7e357c7bd05"
      },
      "source": [
        "for element in dataset.take(1).as_numpy_iterator():\n",
        "  print(element)"
      ],
      "execution_count": 30,
      "outputs": [
        {
          "output_type": "stream",
          "text": [
            "(array([[ 99.52571429, 103.73      , 116.        , ...,  70.55      ,\n",
            "         73.97      ,  74.        ],\n",
            "       [103.73      , 116.        , 133.87      , ...,  73.97      ,\n",
            "         74.        ,  75.        ],\n",
            "       [116.        , 133.87      , 134.67      , ...,  74.        ,\n",
            "         75.        ,  86.13      ],\n",
            "       ...,\n",
            "       [514.65      , 496.96      , 507.84      , ..., 369.98      ,\n",
            "        376.        , 375.48      ],\n",
            "       [496.96      , 507.84      , 503.74      , ..., 376.        ,\n",
            "        375.48      , 376.09      ],\n",
            "       [507.84      , 503.74      , 514.4       , ..., 375.48      ,\n",
            "        376.09      , 376.53      ]]), array([[  75.        ],\n",
            "       [  86.13      ],\n",
            "       [  88.16      ],\n",
            "       [  90.19      ],\n",
            "       [  91.67      ],\n",
            "       [  92.715     ],\n",
            "       [  93.76      ],\n",
            "       [  91.61      ],\n",
            "       [  90.96      ],\n",
            "       [  85.        ],\n",
            "       [  85.24333333],\n",
            "       [  85.48666667],\n",
            "       [  85.73      ],\n",
            "       [  85.59      ],\n",
            "       [  86.88      ],\n",
            "       [  88.42      ],\n",
            "       [  89.195     ],\n",
            "       [  89.97      ],\n",
            "       [  88.16      ],\n",
            "       [  90.805     ],\n",
            "       [  93.45      ],\n",
            "       [  94.51      ],\n",
            "       [  95.57      ],\n",
            "       [  96.63      ],\n",
            "       [  95.82      ],\n",
            "       [  96.1       ],\n",
            "       [  96.38      ],\n",
            "       [  97.04      ],\n",
            "       [  97.7       ],\n",
            "       [  97.09      ],\n",
            "       [  94.26      ],\n",
            "       [  94.5375    ],\n",
            "       [  94.815     ],\n",
            "       [  95.0925    ],\n",
            "       [  95.37      ],\n",
            "       [  96.43857143],\n",
            "       [  97.50714286],\n",
            "       [  98.57571429],\n",
            "       [  99.64428571],\n",
            "       [ 100.71285714],\n",
            "       [ 101.78142857],\n",
            "       [ 102.85      ],\n",
            "       [ 104.94      ],\n",
            "       [ 107.03      ],\n",
            "       [ 109.12      ],\n",
            "       [ 107.91      ],\n",
            "       [ 109.15      ],\n",
            "       [ 110.5       ],\n",
            "       [ 111.85      ],\n",
            "       [ 114.20333333],\n",
            "       [ 116.55666667],\n",
            "       [ 118.91      ],\n",
            "       [ 123.405     ],\n",
            "       [ 127.9       ],\n",
            "       [ 130.65      ],\n",
            "       [ 129.4       ],\n",
            "       [ 125.525     ],\n",
            "       [ 121.65      ],\n",
            "       [ 122.        ],\n",
            "       [ 116.56      ],\n",
            "       [ 118.26666667],\n",
            "       [ 119.97333333],\n",
            "       [ 121.68      ],\n",
            "       [ 124.61      ],\n",
            "       [ 127.54      ],\n",
            "       [ 127.625     ],\n",
            "       [ 127.71      ],\n",
            "       [ 126.535     ],\n",
            "       [ 125.36      ],\n",
            "       [ 126.28      ],\n",
            "       [ 126.64      ],\n",
            "       [ 127.        ],\n",
            "       [ 125.79333333],\n",
            "       [ 124.58666667],\n",
            "       [ 123.38      ],\n",
            "       [ 123.095     ],\n",
            "       [ 122.81      ],\n",
            "       [ 123.065     ],\n",
            "       [ 123.32      ],\n",
            "       [ 125.135     ],\n",
            "       [ 126.95      ],\n",
            "       [ 127.04      ],\n",
            "       [ 127.13      ],\n",
            "       [ 127.22      ],\n",
            "       [ 127.31      ],\n",
            "       [ 103.85      ],\n",
            "       [ 112.895     ],\n",
            "       [ 121.94      ],\n",
            "       [ 121.25      ],\n",
            "       [ 122.49      ],\n",
            "       [ 123.5       ],\n",
            "       [ 124.5       ],\n",
            "       [ 125.79      ],\n",
            "       [ 126.38666667],\n",
            "       [ 126.98333333],\n",
            "       [ 127.58      ],\n",
            "       [ 131.505     ],\n",
            "       [ 135.43      ],\n",
            "       [ 142.75      ],\n",
            "       [ 137.54      ],\n",
            "       [ 143.94      ],\n",
            "       [ 152.89      ],\n",
            "       [ 166.        ],\n",
            "       [ 166.6       ],\n",
            "       [ 179.04666667],\n",
            "       [ 191.49333333],\n",
            "       [ 203.94      ],\n",
            "       [ 194.        ],\n",
            "       [ 194.655     ],\n",
            "       [ 195.31      ],\n",
            "       [ 195.965     ],\n",
            "       [ 196.62      ],\n",
            "       [ 197.1       ],\n",
            "       [ 197.58      ],\n",
            "       [ 203.54      ],\n",
            "       [ 202.14      ],\n",
            "       [ 204.86      ],\n",
            "       [ 210.        ],\n",
            "       [ 227.29      ],\n",
            "       [ 242.9       ],\n",
            "       [ 266.95      ],\n",
            "       [ 291.        ],\n",
            "       [ 333.9       ],\n",
            "       [ 341.24      ],\n",
            "       [ 323.        ],\n",
            "       [ 343.63      ],\n",
            "       [ 354.94      ],\n",
            "       [ 393.5       ],\n",
            "       [ 416.88      ],\n",
            "       [ 412.07      ],\n",
            "       [ 434.53      ],\n",
            "       [ 478.1       ],\n",
            "       [ 669.        ],\n",
            "       [ 536.01      ],\n",
            "       [ 600.        ],\n",
            "       [ 720.        ],\n",
            "       [ 774.575     ],\n",
            "       [ 829.15      ],\n",
            "       [ 800.01      ],\n",
            "       [ 811.95      ],\n",
            "       [ 915.01      ],\n",
            "       [ 963.98      ],\n",
            "       [1012.        ],\n",
            "       [1131.99      ],\n",
            "       [1119.52      ],\n",
            "       [ 955.        ],\n",
            "       [1037.11      ],\n",
            "       [1055.        ],\n",
            "       [1135.        ],\n",
            "       [1020.51      ],\n",
            "       [ 809.72      ],\n",
            "       [ 693.3       ],\n",
            "       [ 787.        ],\n",
            "       [ 899.91      ],\n",
            "       [ 979.07      ],\n",
            "       [ 879.04      ],\n",
            "       [ 871.22      ],\n",
            "       [ 888.47      ],\n",
            "       [ 850.78      ],\n",
            "       [ 861.98      ],\n",
            "       [ 690.5       ],\n",
            "       [ 675.        ],\n",
            "       [ 520.        ],\n",
            "       [ 685.1       ],\n",
            "       [ 610.        ],\n",
            "       [ 595.07      ],\n",
            "       [ 612.66      ],\n",
            "       [ 654.76      ],\n",
            "       [ 653.57      ],\n",
            "       [ 679.01      ],\n",
            "       [ 747.83      ],\n",
            "       [ 723.98      ],\n",
            "       [ 715.        ],\n",
            "       [ 725.755     ],\n",
            "       [ 736.51      ],\n",
            "       [ 732.        ],\n",
            "       [ 758.095     ],\n",
            "       [ 784.19      ],\n",
            "       [ 806.49      ],\n",
            "       [ 828.79      ],\n",
            "       [ 905.        ],\n",
            "       [ 915.8       ],\n",
            "       [ 785.        ],\n",
            "       [ 823.94      ],\n",
            "       [ 825.5       ],\n",
            "       [ 851.63      ],\n",
            "       [ 895.        ],\n",
            "       [ 844.04      ],\n",
            "       [ 823.99      ],\n",
            "       [ 815.99      ],\n",
            "       [ 841.14      ],\n",
            "       [ 814.4       ],\n",
            "       [ 796.97      ],\n",
            "       [ 810.        ],\n",
            "       [ 841.5       ],\n",
            "       [ 826.02      ],\n",
            "       [ 822.61      ],\n",
            "       [ 819.2       ],\n",
            "       [ 810.95      ],\n",
            "       [ 812.19      ],\n",
            "       [ 813.43      ],\n",
            "       [ 814.67      ],\n",
            "       [ 750.95      ],\n",
            "       [ 785.51      ],\n",
            "       [ 794.21      ],\n",
            "       [ 800.55      ],\n",
            "       [ 806.89      ],\n",
            "       [ 813.23      ],\n",
            "       [ 814.94      ],\n",
            "       [ 806.99      ],\n",
            "       [ 793.5       ],\n",
            "       [ 780.01      ],\n",
            "       [ 764.        ],\n",
            "       [ 705.01      ],\n",
            "       [ 680.49      ],\n",
            "       [ 684.415     ],\n",
            "       [ 688.34      ],\n",
            "       [ 669.19      ],\n",
            "       [ 650.04      ],\n",
            "       [ 609.4       ],\n",
            "       [ 632.615     ],\n",
            "       [ 655.83      ],\n",
            "       [ 621.        ],\n",
            "       [ 624.35      ],\n",
            "       [ 627.7       ],\n",
            "       [ 623.01      ],\n",
            "       [ 561.86      ],\n",
            "       [ 581.35      ],\n",
            "       [ 610.77      ],\n",
            "       [ 609.9       ],\n",
            "       [ 535.49      ],\n",
            "       [ 534.34      ],\n",
            "       [ 585.24      ],\n",
            "       [ 568.52      ],\n",
            "       [ 551.8       ],\n",
            "       [ 558.59      ],\n",
            "       [ 565.38      ],\n",
            "       [ 677.69      ],\n",
            "       [ 673.27      ],\n",
            "       [ 669.        ],\n",
            "       [ 669.57      ],\n",
            "       [ 632.79      ],\n",
            "       [ 635.595     ],\n",
            "       [ 638.4       ],\n",
            "       [ 639.055     ],\n",
            "       [ 639.71      ],\n",
            "       [ 640.365     ],\n",
            "       [ 641.02      ],\n",
            "       [ 639.01      ],\n",
            "       [ 637.        ],\n",
            "       [ 634.99      ],\n",
            "       [ 622.6425    ],\n",
            "       [ 610.295     ],\n",
            "       [ 597.9475    ],\n",
            "       [ 585.6       ],\n",
            "       [ 569.99      ],\n",
            "       [ 564.31      ],\n",
            "       [ 558.22      ],\n",
            "       [ 585.9       ],\n",
            "       [ 583.77      ],\n",
            "       [ 581.48      ],\n",
            "       [ 475.        ],\n",
            "       [ 502.01      ],\n",
            "       [ 491.99      ],\n",
            "       [ 473.4       ],\n",
            "       [ 454.81      ],\n",
            "       [ 478.98      ],\n",
            "       [ 438.9       ],\n",
            "       [ 451.03      ],\n",
            "       [ 450.        ],\n",
            "       [ 464.8       ],\n",
            "       [ 459.97      ],\n",
            "       [ 447.11      ],\n",
            "       [ 444.4       ],\n",
            "       [ 441.69      ],\n",
            "       [ 363.1       ],\n",
            "       [ 423.        ],\n",
            "       [ 424.91      ],\n",
            "       [ 416.29      ],\n",
            "       [ 459.99      ],\n",
            "       [ 523.1       ],\n",
            "       [ 529.26      ],\n",
            "       [ 500.09      ],\n",
            "       [ 482.1       ],\n",
            "       [ 487.39333333],\n",
            "       [ 492.68666667],\n",
            "       [ 497.98      ],\n",
            "       [ 490.        ],\n",
            "       [ 496.075     ],\n",
            "       [ 502.15      ],\n",
            "       [ 466.71      ],\n",
            "       [ 459.22      ],\n",
            "       [ 430.        ],\n",
            "       [ 436.33333333],\n",
            "       [ 442.66666667],\n",
            "       [ 449.        ],\n",
            "       [ 460.97      ],\n",
            "       [ 449.985     ],\n",
            "       [ 439.        ],\n",
            "       [ 435.88      ],\n",
            "       [ 432.44      ],\n",
            "       [ 429.        ],\n",
            "       [ 430.734     ],\n",
            "       [ 432.468     ],\n",
            "       [ 434.202     ],\n",
            "       [ 435.936     ],\n",
            "       [ 437.67      ],\n",
            "       [ 442.48      ],\n",
            "       [ 443.275     ],\n",
            "       [ 444.07      ],\n",
            "       [ 446.27      ],\n",
            "       [ 447.55      ],\n",
            "       [ 447.23      ],\n",
            "       [ 446.91      ],\n",
            "       [ 467.955     ],\n",
            "       [ 489.        ],\n",
            "       [ 493.98      ],\n",
            "       [ 529.99      ],\n",
            "       [ 523.75      ],\n",
            "       [ 548.625     ],\n",
            "       [ 573.5       ],\n",
            "       [ 581.87      ],\n",
            "       [ 572.7       ],\n",
            "       [ 580.66      ],\n",
            "       [ 600.83      ],\n",
            "       [ 621.        ],\n",
            "       [ 625.995     ],\n",
            "       [ 630.99      ],\n",
            "       [ 662.        ],\n",
            "       [ 668.9       ],\n",
            "       [ 640.55      ],\n",
            "       [ 661.46      ],\n",
            "       [ 647.16      ],\n",
            "       [ 657.13      ],\n",
            "       [ 658.        ],\n",
            "       [ 648.83      ],\n",
            "       [ 648.55      ],\n",
            "       [ 623.81      ],\n",
            "       [ 569.98      ],\n",
            "       [ 592.        ],\n",
            "       [ 566.58      ],\n",
            "       [ 592.        ],\n",
            "       [ 587.        ],\n",
            "       [ 606.48      ],\n",
            "       [ 607.99      ],\n",
            "       [ 593.41      ],\n",
            "       [ 590.        ],\n",
            "       [ 591.33      ],\n",
            "       [ 600.34      ],\n",
            "       [ 588.22      ],\n",
            "       [ 574.        ],\n",
            "       [ 560.4       ],\n",
            "       [ 580.09      ],\n",
            "       [ 599.99      ],\n",
            "       [ 591.46      ],\n",
            "       [ 599.86      ],\n",
            "       [ 640.        ],\n",
            "       [ 638.25      ],\n",
            "       [ 650.49      ],\n",
            "       [ 648.48      ],\n",
            "       [ 628.81      ],\n",
            "       [ 630.9       ],\n",
            "       [ 633.87      ],\n",
            "       [ 622.09      ],\n",
            "       [ 623.98      ],\n",
            "       [ 621.96      ],\n",
            "       [ 616.87      ],\n",
            "       [ 634.99      ],\n",
            "       [ 637.9       ],\n",
            "       [ 630.88      ],\n",
            "       [ 621.15      ],\n",
            "       [ 622.9       ],\n",
            "       [ 617.39      ],\n",
            "       [ 626.3       ],\n",
            "       [ 632.59      ],\n",
            "       [ 630.        ],\n",
            "       [ 626.98      ],\n",
            "       [ 622.63      ],\n",
            "       [ 619.99      ],\n",
            "       [ 620.95      ],\n",
            "       [ 603.96      ],\n",
            "       [ 602.93      ],\n",
            "       [ 596.23      ],\n",
            "       [ 592.61      ],\n",
            "       [ 589.88      ],\n",
            "       [ 585.93      ],\n",
            "       [ 563.83      ],\n",
            "       [ 583.54      ],\n",
            "       [ 597.84      ],\n",
            "       [ 589.6       ],\n",
            "       [ 588.96      ],\n",
            "       [ 588.5       ],\n",
            "       [ 581.75      ],\n",
            "       [ 581.16      ],\n",
            "       [ 585.84      ],\n",
            "       [ 588.99      ],\n",
            "       [ 589.82      ],\n",
            "       [ 590.98      ],\n",
            "       [ 574.55      ],\n",
            "       [ 569.39      ],\n",
            "       [ 549.85      ],\n",
            "       [ 507.99      ],\n",
            "       [ 502.48      ],\n",
            "       [ 523.47      ],\n",
            "       [ 498.        ],\n",
            "       [ 474.74      ],\n",
            "       [ 491.98      ],\n",
            "       [ 516.39      ],\n",
            "       [ 519.29      ],\n",
            "       [ 514.65      ],\n",
            "       [ 496.96      ],\n",
            "       [ 507.84      ],\n",
            "       [ 503.74      ],\n",
            "       [ 514.4       ],\n",
            "       [ 511.87      ],\n",
            "       [ 506.94      ],\n",
            "       [ 509.3       ],\n",
            "       [ 501.49      ],\n",
            "       [ 479.01      ],\n",
            "       [ 475.89      ],\n",
            "       [ 474.5       ],\n",
            "       [ 474.86      ],\n",
            "       [ 489.61      ],\n",
            "       [ 477.65      ],\n",
            "       [ 479.99      ],\n",
            "       [ 477.4       ],\n",
            "       [ 468.32      ],\n",
            "       [ 473.34      ],\n",
            "       [ 477.78      ],\n",
            "       [ 477.43      ],\n",
            "       [ 473.08      ],\n",
            "       [ 477.99      ],\n",
            "       [ 475.47      ],\n",
            "       [ 469.47      ],\n",
            "       [ 463.48      ],\n",
            "       [ 452.99      ],\n",
            "       [ 426.62      ],\n",
            "       [ 395.86      ],\n",
            "       [ 410.92      ],\n",
            "       [ 400.77      ],\n",
            "       [ 399.77      ],\n",
            "       [ 440.85      ],\n",
            "       [ 423.57      ],\n",
            "       [ 410.        ],\n",
            "       [ 405.08      ],\n",
            "       [ 399.16      ],\n",
            "       [ 375.35      ],\n",
            "       [ 374.17      ],\n",
            "       [ 389.56      ],\n",
            "       [ 384.85      ],\n",
            "       [ 376.29      ],\n",
            "       [ 358.71      ],\n",
            "       [ 326.24      ],\n",
            "       [ 322.82      ],\n",
            "       [ 328.56      ],\n",
            "       [ 334.8       ],\n",
            "       [ 355.73      ],\n",
            "       [ 364.01      ],\n",
            "       [ 360.85      ],\n",
            "       [ 362.77      ],\n",
            "       [ 378.48      ],\n",
            "       [ 392.99      ],\n",
            "       [ 402.01      ],\n",
            "       [ 394.52      ],\n",
            "       [ 384.19      ],\n",
            "       [ 383.2       ],\n",
            "       [ 390.59      ],\n",
            "       [ 389.06      ],\n",
            "       [ 381.        ],\n",
            "       [ 385.79      ],\n",
            "       [ 382.05      ],\n",
            "       [ 356.81      ],\n",
            "       [ 358.78      ],\n",
            "       [ 348.69      ],\n",
            "       [ 355.19      ],\n",
            "       [ 351.03      ],\n",
            "       [ 355.71      ],\n",
            "       [ 336.37      ],\n",
            "       [ 346.14      ],\n",
            "       [ 337.99      ],\n",
            "       [ 324.55      ],\n",
            "       [ 324.23      ],\n",
            "       [ 326.45      ],\n",
            "       [ 329.96      ],\n",
            "       [ 338.37      ],\n",
            "       [ 349.99      ],\n",
            "       [ 342.16      ],\n",
            "       [ 346.19      ],\n",
            "       [ 365.37      ],\n",
            "       [ 366.43      ],\n",
            "       [ 370.09      ],\n",
            "       [ 426.64      ],\n",
            "       [ 417.85      ],\n",
            "       [ 399.97      ],\n",
            "       [ 376.97      ],\n",
            "       [ 389.86      ],\n",
            "       [ 388.72      ],\n",
            "       [ 374.87      ],\n",
            "       [ 379.04      ],\n",
            "       [ 356.47      ],\n",
            "       [ 351.19      ],\n",
            "       [ 354.29      ],\n",
            "       [ 367.17      ],\n",
            "       [ 375.99      ],\n",
            "       [ 377.05      ],\n",
            "       [ 368.5       ],\n",
            "       [ 369.98      ],\n",
            "       [ 376.        ],\n",
            "       [ 375.48      ],\n",
            "       [ 376.09      ],\n",
            "       [ 376.53      ],\n",
            "       [ 379.52      ]]))\n"
          ],
          "name": "stdout"
        }
      ]
    },
    {
      "cell_type": "markdown",
      "metadata": {
        "id": "UHfiXLFZhrPs"
      },
      "source": [
        "# Création du modèle GRU"
      ]
    },
    {
      "cell_type": "markdown",
      "metadata": {
        "id": "Nd9AzWFtjnjs"
      },
      "source": [
        "**1. Création du réseau et adaptation des formats d'entrée et de sortie**"
      ]
    },
    {
      "cell_type": "markdown",
      "metadata": {
        "id": "x9OCzL7UjAhL"
      },
      "source": [
        "Par défaut, la dimension des vecteurs cachés est de 40 et aucune régularisation n'est utilisée."
      ]
    },
    {
      "cell_type": "code",
      "metadata": {
        "id": "r95DWnfmRPcu"
      },
      "source": [
        "# Classe d'auto-attention\n",
        "# Applique les poids de la matrice d'attention sur les vecteurs de la couche récurrente\n",
        "\n",
        "# Importe le Backend de Keras\n",
        "from keras import backend as K\n",
        "\n",
        "# Définit une nouvelle classe Couche_Attention\n",
        "# Héritée de la classe Layer de Keras\n",
        "\n",
        "class Couche_Auto_Attention(tf.keras.layers.Layer):\n",
        "  # Fonction d'initialisation de la classe d'attention\n",
        "  def __init__(self,dim_att,nbr_hop):\n",
        "    self.dim_att = dim_att          # Dimension du vecteur d'attention\n",
        "    self.nbr_hop = nbr_hop\n",
        "    super().__init__()              # Appel du __init__() de la classe Layer\n",
        "  \n",
        "  def build(self,input_shape):\n",
        "    self.W = self.add_weight(shape=(self.dim_att,input_shape[2]),initializer='glorot_uniform',name=\"W\")\n",
        "    self.U = self.add_weight(shape=(self.nbr_hop,self.dim_att),initializer='glorot_uniform',name=\"U\")\n",
        "    super().build(input_shape)        # Appel de la méthode build()\n",
        "\n",
        "  # Définit la logique de la couche d'attention\n",
        "  # Arguments :   x : Tenseur d'entrée de dimension (None, nbr_v,dim)\n",
        "  def call(self,x):\n",
        "    # Calcul de la matrice XH contenant les\n",
        "    # représentations cachées des vecteurs\n",
        "    # issus de la couche GRU\n",
        "    xt = tf.transpose(x,perm=[0,2,1])           # (None,20,40) => (None,40,20)\n",
        "    Xh = tf.matmul(self.W,xt)                   # (#Att,40)x(None,40,20) = (None,#Att,20)\n",
        "    Xh = K.tanh(Xh)                             # Xh = (None,#Att,20)\n",
        "\n",
        "    # Calcul de la matrice des poids d'attention normalisés\n",
        "    A = tf.matmul(self.U,Xh)                    # (#hop,#Att)x(None,#Att,20) = (None,#Att,20)\n",
        "    A = tf.keras.activations.softmax(A,axis=2)  # (None,#Att,20)\n",
        "\n",
        "    # Calcul de la matrice des vecteur d'attentions\n",
        "    sortie = tf.matmul(A,x)                     # (None,#Att,20)x(None,20,40) = (None,#Att,40)\n",
        "    return tf.keras.layers.Flatten()(sortie)"
      ],
      "execution_count": null,
      "outputs": []
    },
    {
      "cell_type": "code",
      "metadata": {
        "id": "BpPmug_LRRAq"
      },
      "source": [
        "def ModelGRU(dim_GRU = 40, l1_reg=0, l2_reg=0):\n",
        "\n",
        "  dim_GRU = 40\n",
        "  nbr_hop = 2\n",
        "\n",
        "  # Fonction de la couche lambda d'entrée\n",
        "  def Traitement_Entrees(x):\n",
        "    return tf.expand_dims(x,axis=-1)\n",
        "\n",
        "  # Définition de l'entrée du modèle\n",
        "  entrees = tf.keras.layers.Input(shape=(taille_fenetre))\n",
        "\n",
        "  # Encodeur\n",
        "  e_adapt = tf.keras.layers.Lambda(Traitement_Entrees)(entrees)\n",
        "  s_encodeur = tf.keras.layers.LSTM(dim_GRU,return_sequences=True,recurrent_regularizer=tf.keras.regularizers.l2(1e-5))(e_adapt)\n",
        "  s_attention = Couche_Auto_Attention(dim_att=dim_GRU,nbr_hop=nbr_hop)(s_encodeur)\n",
        "\n",
        "  # Décodeur\n",
        "  s_decodeur = tf.keras.layers.Dense(dim_GRU*nbr_hop,activation=\"tanh\")(s_attention)\n",
        "  s_decodeur = tf.keras.layers.Concatenate()([s_decodeur,s_attention])\n",
        "\n",
        "  # Générateur\n",
        "  sortie = tf.keras.layers.Dense(1)(s_decodeur)\n",
        "\n",
        "  # Construction du modèle\n",
        "  model = tf.keras.Model(entrees,sortie)\n",
        "  model.compile(loss=tf.keras.losses.Huber(), optimizer=tf.keras.optimizers.SGD(), metrics=\"mae\")\n",
        "  \n",
        "  return(model)"
      ],
      "execution_count": null,
      "outputs": []
    },
    {
      "cell_type": "code",
      "metadata": {
        "id": "SnFw_FPPhxiE"
      },
      "source": [
        "def ModelGRU(dim_GRU = 40, l1_reg=0, l2_reg=0):\n",
        "\n",
        "  # Fonction de la couche lambda d'entrée\n",
        "  def Traitement_Entrees(x):\n",
        "    return tf.expand_dims(x,axis=-1)\n",
        "\n",
        "  # Définition de l'entrée du modèle\n",
        "  entrees = tf.keras.layers.Input(shape=(taille_fenetre))\n",
        "\n",
        "  # Encodeur\n",
        "  e_adapt = tf.keras.layers.Lambda(Traitement_Entrees)(entrees)\n",
        "  s_encodeur = tf.keras.layers.LSTM(dim_GRU, kernel_regularizer=tf.keras.regularizers.l1_l2(l1=l1_reg,l2=l2_reg))(e_adapt)\n",
        "\n",
        "  # Décodeur\n",
        "  s_decodeur = tf.keras.layers.Dense(dim_GRU,activation=\"tanh\",kernel_regularizer=tf.keras.regularizers.l1_l2(l1=l1_reg,l2=l2_reg))(s_encodeur)\n",
        "  s_decodeur = tf.keras.layers.Concatenate()([s_decodeur,s_encodeur])\n",
        "\n",
        "  # Générateur\n",
        "  sortie = tf.keras.layers.Dense(1,kernel_regularizer=tf.keras.regularizers.l1_l2(l1=l1_reg,l2=l2_reg))(s_decodeur)\n",
        "\n",
        "  # Construction du modèle\n",
        "  model = tf.keras.Model(entrees,sortie)\n",
        "  model.compile(loss=tf.keras.losses.Huber(), optimizer=tf.keras.optimizers.SGD(), metrics=\"mae\")\n",
        "\n",
        "  return(model)"
      ],
      "execution_count": null,
      "outputs": []
    },
    {
      "cell_type": "code",
      "metadata": {
        "id": "K8D0aSDsAHC1"
      },
      "source": [
        "  dim_GRU = 10\n",
        "  nbr_hop = 2\n",
        "\n",
        "  # Fonction de la couche lambda d'entrée\n",
        "  def Traitement_Entrees(x):\n",
        "    return tf.expand_dims(x,axis=-1)\n",
        "\n",
        "  # Définition de l'entrée du modèle\n",
        "  entrees = tf.keras.layers.Input(shape=(taille_fenetre))\n",
        "\n",
        "  # Encodeur\n",
        "  e_adapt = tf.keras.layers.Lambda(Traitement_Entrees)(entrees)\n",
        "  s_encodeur = tf.keras.layers.LSTM(dim_GRU,return_sequences=True,recurrent_regularizer=tf.keras.regularizers.l2(1e-5))(e_adapt)\n",
        "  s_attention = Couche_Auto_Attention(dim_att=dim_GRU,nbr_hop=nbr_hop)(s_encodeur)\n",
        "\n",
        "  # Décodeur\n",
        "  s_decodeur = tf.keras.layers.Dense(dim_GRU*nbr_hop,activation=\"tanh\")(s_attention)\n",
        "  s_decodeur = tf.keras.layers.Concatenate()([s_decodeur,s_attention])\n",
        "\n",
        "  # Générateur\n",
        "  sortie = tf.keras.layers.Dense(1)(s_decodeur)\n",
        "\n",
        "  # Construction du modèle\n",
        "  model = tf.keras.Model(entrees,sortie)\n"
      ],
      "execution_count": null,
      "outputs": []
    },
    {
      "cell_type": "code",
      "metadata": {
        "id": "bLpZkLMJYdOh"
      },
      "source": [
        "def ModelGRU(dim_GRU = 100, l1_reg=0, l2_reg=0):\n",
        "\n",
        "  # Fonction de la couche lambda d'entrée\n",
        "  def Traitement_Entrees(x):\n",
        "    return tf.expand_dims(x,axis=-1)\n",
        "\n",
        "  # Définition de l'entrée du modèle\n",
        "  entrees = tf.keras.layers.Input(shape=(taille_fenetre))\n",
        "\n",
        "  # Encodeur\n",
        "  e_adapt = tf.keras.layers.Lambda(Traitement_Entrees)(entrees)\n",
        "  s_encodeur = tf.keras.layers.LSTM(dim_GRU, kernel_regularizer=tf.keras.regularizers.l1_l2(l1=l1_reg,l2=l2_reg))(e_adapt)\n",
        "  \n",
        "  # Générateur\n",
        "  sortie = tf.keras.layers.Dense(1,kernel_regularizer=tf.keras.regularizers.l1_l2(l1=l1_reg,l2=l2_reg))(s_encodeur)\n",
        "\n",
        "  # Construction du modèle\n",
        "  model = tf.keras.Model(entrees,sortie)\n",
        "  model.compile(loss=tf.keras.losses.Huber(), optimizer=tf.keras.optimizers.SGD(), metrics=\"mae\")\n",
        "\n",
        "  return(model)"
      ],
      "execution_count": 112,
      "outputs": []
    },
    {
      "cell_type": "markdown",
      "metadata": {
        "id": "lP9xOmkfjMTs"
      },
      "source": [
        "On définit le nombre maximal de périodes pour l'entrainement, ainsi que la fonction d'arrêt automatique de l'entrainement avec la fonction [EarlyStopping](https://www.tensorflow.org/api_docs/python/tf/keras/callbacks/EarlyStopping) de Keras."
      ]
    },
    {
      "cell_type": "code",
      "metadata": {
        "id": "mzbOWOxOi0G1"
      },
      "source": [
        "max_periodes = 1000\n",
        "es = tf.keras.callbacks.EarlyStopping(monitor='loss', mode='min', verbose=1, patience=100, min_delta=1e-7, restore_best_weights=True)"
      ],
      "execution_count": null,
      "outputs": []
    },
    {
      "cell_type": "markdown",
      "metadata": {
        "id": "mJqA8E5cjx4r"
      },
      "source": [
        "**2. Un premier essai**"
      ]
    },
    {
      "cell_type": "code",
      "metadata": {
        "id": "S5ydmuRtVEn2"
      },
      "source": [
        "model = ModelGRU(dim_GRU=10)"
      ],
      "execution_count": 113,
      "outputs": []
    },
    {
      "cell_type": "code",
      "metadata": {
        "colab": {
          "base_uri": "https://localhost:8080/"
        },
        "id": "K6Z35rNWj5SA",
        "outputId": "084b9dc2-d143-46e4-b600-f8ebe4f7c3c5"
      },
      "source": [
        "# Définition de la fonction de régulation du taux d'apprentissage\n",
        "def RegulationTauxApprentissage(periode, taux):\n",
        "  return 1e-8*10**(periode/10)\n",
        "\n",
        "# Définition de l'optimiseur à utiliser\n",
        "optimiseur=tf.keras.optimizers.SGD(lr=1e-8)\n",
        "\n",
        "# Compile le modèle\n",
        "model.compile(loss=tf.keras.losses.Huber(), optimizer=optimiseur, metrics=\"mae\")\n",
        "\n",
        "# Utilisation de la méthode ModelCheckPoint\n",
        "CheckPoint = tf.keras.callbacks.ModelCheckpoint(\"poids.hdf5\", monitor='loss', verbose=1, save_best_only=True, save_weights_only = True, mode='auto', save_freq='epoch')\n",
        "\n",
        "# Entraine le modèle en utilisant notre fonction personnelle de régulation du taux d'apprentissage\n",
        "historique = model.fit(dataset_norm,epochs=100,verbose=1, callbacks=[tf.keras.callbacks.LearningRateScheduler(RegulationTauxApprentissage), CheckPoint])"
      ],
      "execution_count": 38,
      "outputs": [
        {
          "output_type": "stream",
          "text": [
            "Epoch 1/100\n",
            "4/4 [==============================] - 5s 583ms/step - loss: 0.2399 - mae: 0.6469\n",
            "\n",
            "Epoch 00001: loss improved from inf to 0.33429, saving model to poids.hdf5\n",
            "Epoch 2/100\n",
            "4/4 [==============================] - 3s 594ms/step - loss: 0.2399 - mae: 0.6469\n",
            "\n",
            "Epoch 00002: loss did not improve from 0.33429\n",
            "Epoch 3/100\n",
            "4/4 [==============================] - 3s 595ms/step - loss: 0.2399 - mae: 0.6469\n",
            "\n",
            "Epoch 00003: loss improved from 0.33429 to 0.33429, saving model to poids.hdf5\n",
            "Epoch 4/100\n",
            "4/4 [==============================] - 3s 571ms/step - loss: 0.2399 - mae: 0.6469\n",
            "\n",
            "Epoch 00004: loss improved from 0.33429 to 0.33429, saving model to poids.hdf5\n",
            "Epoch 5/100\n",
            "4/4 [==============================] - 3s 597ms/step - loss: 0.2399 - mae: 0.6469\n",
            "\n",
            "Epoch 00005: loss improved from 0.33429 to 0.33429, saving model to poids.hdf5\n",
            "Epoch 6/100\n",
            "4/4 [==============================] - 3s 596ms/step - loss: 0.2399 - mae: 0.6469\n",
            "\n",
            "Epoch 00006: loss improved from 0.33429 to 0.33429, saving model to poids.hdf5\n",
            "Epoch 7/100\n",
            "4/4 [==============================] - 3s 591ms/step - loss: 0.2399 - mae: 0.6469\n",
            "\n",
            "Epoch 00007: loss improved from 0.33429 to 0.33429, saving model to poids.hdf5\n",
            "Epoch 8/100\n",
            "4/4 [==============================] - 3s 580ms/step - loss: 0.2399 - mae: 0.6469\n",
            "\n",
            "Epoch 00008: loss improved from 0.33429 to 0.33429, saving model to poids.hdf5\n",
            "Epoch 9/100\n",
            "4/4 [==============================] - 3s 575ms/step - loss: 0.2399 - mae: 0.6469\n",
            "\n",
            "Epoch 00009: loss improved from 0.33429 to 0.33429, saving model to poids.hdf5\n",
            "Epoch 10/100\n",
            "4/4 [==============================] - 3s 583ms/step - loss: 0.2399 - mae: 0.6469\n",
            "\n",
            "Epoch 00010: loss improved from 0.33429 to 0.33429, saving model to poids.hdf5\n",
            "Epoch 11/100\n",
            "4/4 [==============================] - 3s 590ms/step - loss: 0.2399 - mae: 0.6469\n",
            "\n",
            "Epoch 00011: loss improved from 0.33429 to 0.33429, saving model to poids.hdf5\n",
            "Epoch 12/100\n",
            "4/4 [==============================] - 3s 583ms/step - loss: 0.2399 - mae: 0.6469\n",
            "\n",
            "Epoch 00012: loss improved from 0.33429 to 0.33429, saving model to poids.hdf5\n",
            "Epoch 13/100\n",
            "4/4 [==============================] - 3s 581ms/step - loss: 0.2399 - mae: 0.6469\n",
            "\n",
            "Epoch 00013: loss improved from 0.33429 to 0.33429, saving model to poids.hdf5\n",
            "Epoch 14/100\n",
            "4/4 [==============================] - 3s 578ms/step - loss: 0.2399 - mae: 0.6469\n",
            "\n",
            "Epoch 00014: loss improved from 0.33429 to 0.33429, saving model to poids.hdf5\n",
            "Epoch 15/100\n",
            "4/4 [==============================] - 3s 580ms/step - loss: 0.2399 - mae: 0.6469\n",
            "\n",
            "Epoch 00015: loss improved from 0.33429 to 0.33429, saving model to poids.hdf5\n",
            "Epoch 16/100\n",
            "4/4 [==============================] - 3s 566ms/step - loss: 0.2399 - mae: 0.6469\n",
            "\n",
            "Epoch 00016: loss improved from 0.33429 to 0.33429, saving model to poids.hdf5\n",
            "Epoch 17/100\n",
            "4/4 [==============================] - 3s 570ms/step - loss: 0.2399 - mae: 0.6469\n",
            "\n",
            "Epoch 00017: loss improved from 0.33429 to 0.33429, saving model to poids.hdf5\n",
            "Epoch 18/100\n",
            "4/4 [==============================] - 3s 578ms/step - loss: 0.2399 - mae: 0.6469\n",
            "\n",
            "Epoch 00018: loss improved from 0.33429 to 0.33428, saving model to poids.hdf5\n",
            "Epoch 19/100\n",
            "4/4 [==============================] - 3s 651ms/step - loss: 0.2399 - mae: 0.6469\n",
            "\n",
            "Epoch 00019: loss improved from 0.33428 to 0.33428, saving model to poids.hdf5\n",
            "Epoch 20/100\n",
            "4/4 [==============================] - 3s 692ms/step - loss: 0.2399 - mae: 0.6469\n",
            "\n",
            "Epoch 00020: loss improved from 0.33428 to 0.33428, saving model to poids.hdf5\n",
            "Epoch 21/100\n",
            "4/4 [==============================] - 3s 674ms/step - loss: 0.2399 - mae: 0.6469\n",
            "\n",
            "Epoch 00021: loss improved from 0.33428 to 0.33428, saving model to poids.hdf5\n",
            "Epoch 22/100\n",
            "4/4 [==============================] - 3s 614ms/step - loss: 0.2399 - mae: 0.6469\n",
            "\n",
            "Epoch 00022: loss improved from 0.33428 to 0.33427, saving model to poids.hdf5\n",
            "Epoch 23/100\n",
            "4/4 [==============================] - 3s 655ms/step - loss: 0.2399 - mae: 0.6469\n",
            "\n",
            "Epoch 00023: loss improved from 0.33427 to 0.33427, saving model to poids.hdf5\n",
            "Epoch 24/100\n",
            "4/4 [==============================] - 3s 688ms/step - loss: 0.2399 - mae: 0.6469\n",
            "\n",
            "Epoch 00024: loss improved from 0.33427 to 0.33426, saving model to poids.hdf5\n",
            "Epoch 25/100\n",
            "4/4 [==============================] - 3s 633ms/step - loss: 0.2399 - mae: 0.6469\n",
            "\n",
            "Epoch 00025: loss improved from 0.33426 to 0.33425, saving model to poids.hdf5\n",
            "Epoch 26/100\n",
            "4/4 [==============================] - 3s 586ms/step - loss: 0.2399 - mae: 0.6469\n",
            "\n",
            "Epoch 00026: loss improved from 0.33425 to 0.33424, saving model to poids.hdf5\n",
            "Epoch 27/100\n",
            "4/4 [==============================] - 3s 587ms/step - loss: 0.2398 - mae: 0.6468\n",
            "\n",
            "Epoch 00027: loss improved from 0.33424 to 0.33422, saving model to poids.hdf5\n",
            "Epoch 28/100\n",
            "4/4 [==============================] - 3s 578ms/step - loss: 0.2398 - mae: 0.6468\n",
            "\n",
            "Epoch 00028: loss improved from 0.33422 to 0.33421, saving model to poids.hdf5\n",
            "Epoch 29/100\n",
            "4/4 [==============================] - 3s 586ms/step - loss: 0.2398 - mae: 0.6468\n",
            "\n",
            "Epoch 00029: loss improved from 0.33421 to 0.33418, saving model to poids.hdf5\n",
            "Epoch 30/100\n",
            "4/4 [==============================] - 3s 574ms/step - loss: 0.2398 - mae: 0.6467\n",
            "\n",
            "Epoch 00030: loss improved from 0.33418 to 0.33416, saving model to poids.hdf5\n",
            "Epoch 31/100\n",
            "4/4 [==============================] - 3s 595ms/step - loss: 0.2397 - mae: 0.6467\n",
            "\n",
            "Epoch 00031: loss improved from 0.33416 to 0.33412, saving model to poids.hdf5\n",
            "Epoch 32/100\n",
            "4/4 [==============================] - 3s 576ms/step - loss: 0.2397 - mae: 0.6466\n",
            "\n",
            "Epoch 00032: loss improved from 0.33412 to 0.33408, saving model to poids.hdf5\n",
            "Epoch 33/100\n",
            "4/4 [==============================] - 3s 575ms/step - loss: 0.2397 - mae: 0.6465\n",
            "\n",
            "Epoch 00033: loss improved from 0.33408 to 0.33402, saving model to poids.hdf5\n",
            "Epoch 34/100\n",
            "4/4 [==============================] - 3s 579ms/step - loss: 0.2396 - mae: 0.6464\n",
            "\n",
            "Epoch 00034: loss improved from 0.33402 to 0.33395, saving model to poids.hdf5\n",
            "Epoch 35/100\n",
            "4/4 [==============================] - 3s 577ms/step - loss: 0.2395 - mae: 0.6463\n",
            "\n",
            "Epoch 00035: loss improved from 0.33395 to 0.33386, saving model to poids.hdf5\n",
            "Epoch 36/100\n",
            "4/4 [==============================] - 3s 593ms/step - loss: 0.2394 - mae: 0.6461\n",
            "\n",
            "Epoch 00036: loss improved from 0.33386 to 0.33375, saving model to poids.hdf5\n",
            "Epoch 37/100\n",
            "4/4 [==============================] - 3s 577ms/step - loss: 0.2393 - mae: 0.6459\n",
            "\n",
            "Epoch 00037: loss improved from 0.33375 to 0.33361, saving model to poids.hdf5\n",
            "Epoch 38/100\n",
            "4/4 [==============================] - 3s 595ms/step - loss: 0.2391 - mae: 0.6457\n",
            "\n",
            "Epoch 00038: loss improved from 0.33361 to 0.33344, saving model to poids.hdf5\n",
            "Epoch 39/100\n",
            "4/4 [==============================] - 3s 584ms/step - loss: 0.2389 - mae: 0.6453\n",
            "\n",
            "Epoch 00039: loss improved from 0.33344 to 0.33322, saving model to poids.hdf5\n",
            "Epoch 40/100\n",
            "4/4 [==============================] - 3s 576ms/step - loss: 0.2386 - mae: 0.6449\n",
            "\n",
            "Epoch 00040: loss improved from 0.33322 to 0.33294, saving model to poids.hdf5\n",
            "Epoch 41/100\n",
            "4/4 [==============================] - 3s 579ms/step - loss: 0.2383 - mae: 0.6444\n",
            "\n",
            "Epoch 00041: loss improved from 0.33294 to 0.33259, saving model to poids.hdf5\n",
            "Epoch 42/100\n",
            "4/4 [==============================] - 3s 600ms/step - loss: 0.2379 - mae: 0.6438\n",
            "\n",
            "Epoch 00042: loss improved from 0.33259 to 0.33215, saving model to poids.hdf5\n",
            "Epoch 43/100\n",
            "4/4 [==============================] - 3s 578ms/step - loss: 0.2374 - mae: 0.6429\n",
            "\n",
            "Epoch 00043: loss improved from 0.33215 to 0.33159, saving model to poids.hdf5\n",
            "Epoch 44/100\n",
            "4/4 [==============================] - 3s 581ms/step - loss: 0.2367 - mae: 0.6419\n",
            "\n",
            "Epoch 00044: loss improved from 0.33159 to 0.33090, saving model to poids.hdf5\n",
            "Epoch 45/100\n",
            "4/4 [==============================] - 3s 585ms/step - loss: 0.2359 - mae: 0.6406\n",
            "\n",
            "Epoch 00045: loss improved from 0.33090 to 0.33003, saving model to poids.hdf5\n",
            "Epoch 46/100\n",
            "4/4 [==============================] - 3s 581ms/step - loss: 0.2349 - mae: 0.6390\n",
            "\n",
            "Epoch 00046: loss improved from 0.33003 to 0.32893, saving model to poids.hdf5\n",
            "Epoch 47/100\n",
            "4/4 [==============================] - 3s 587ms/step - loss: 0.2336 - mae: 0.6369\n",
            "\n",
            "Epoch 00047: loss improved from 0.32893 to 0.32756, saving model to poids.hdf5\n",
            "Epoch 48/100\n",
            "4/4 [==============================] - 3s 582ms/step - loss: 0.2320 - mae: 0.6343\n",
            "\n",
            "Epoch 00048: loss improved from 0.32756 to 0.32584, saving model to poids.hdf5\n",
            "Epoch 49/100\n",
            "4/4 [==============================] - 3s 593ms/step - loss: 0.2300 - mae: 0.6311\n",
            "\n",
            "Epoch 00049: loss improved from 0.32584 to 0.32369, saving model to poids.hdf5\n",
            "Epoch 50/100\n",
            "4/4 [==============================] - 3s 585ms/step - loss: 0.2275 - mae: 0.6270\n",
            "\n",
            "Epoch 00050: loss improved from 0.32369 to 0.32100, saving model to poids.hdf5\n",
            "Epoch 51/100\n",
            "4/4 [==============================] - 3s 585ms/step - loss: 0.2244 - mae: 0.6220\n",
            "\n",
            "Epoch 00051: loss improved from 0.32100 to 0.31766, saving model to poids.hdf5\n",
            "Epoch 52/100\n",
            "4/4 [==============================] - 3s 588ms/step - loss: 0.2205 - mae: 0.6157\n",
            "\n",
            "Epoch 00052: loss improved from 0.31766 to 0.31350, saving model to poids.hdf5\n",
            "Epoch 53/100\n",
            "4/4 [==============================] - 3s 593ms/step - loss: 0.2158 - mae: 0.6078\n",
            "\n",
            "Epoch 00053: loss improved from 0.31350 to 0.30835, saving model to poids.hdf5\n",
            "Epoch 54/100\n",
            "4/4 [==============================] - 3s 594ms/step - loss: 0.2100 - mae: 0.5980\n",
            "\n",
            "Epoch 00054: loss improved from 0.30835 to 0.30199, saving model to poids.hdf5\n",
            "Epoch 55/100\n",
            "4/4 [==============================] - 3s 581ms/step - loss: 0.2029 - mae: 0.5859\n",
            "\n",
            "Epoch 00055: loss improved from 0.30199 to 0.29418, saving model to poids.hdf5\n",
            "Epoch 56/100\n",
            "4/4 [==============================] - 3s 561ms/step - loss: 0.1943 - mae: 0.5709\n",
            "\n",
            "Epoch 00056: loss improved from 0.29418 to 0.28464, saving model to poids.hdf5\n",
            "Epoch 57/100\n",
            "4/4 [==============================] - 3s 576ms/step - loss: 0.1840 - mae: 0.5525\n",
            "\n",
            "Epoch 00057: loss improved from 0.28464 to 0.27306, saving model to poids.hdf5\n",
            "Epoch 58/100\n",
            "4/4 [==============================] - 3s 580ms/step - loss: 0.1718 - mae: 0.5301\n",
            "\n",
            "Epoch 00058: loss improved from 0.27306 to 0.25914, saving model to poids.hdf5\n",
            "Epoch 59/100\n",
            "4/4 [==============================] - 3s 586ms/step - loss: 0.1575 - mae: 0.5028\n",
            "\n",
            "Epoch 00059: loss improved from 0.25914 to 0.24255, saving model to poids.hdf5\n",
            "Epoch 60/100\n",
            "4/4 [==============================] - 3s 580ms/step - loss: 0.1412 - mae: 0.4699\n",
            "\n",
            "Epoch 00060: loss improved from 0.24255 to 0.22302, saving model to poids.hdf5\n",
            "Epoch 61/100\n",
            "4/4 [==============================] - 3s 582ms/step - loss: 0.1228 - mae: 0.4305\n",
            "\n",
            "Epoch 00061: loss improved from 0.22302 to 0.20035, saving model to poids.hdf5\n",
            "Epoch 62/100\n",
            "4/4 [==============================] - 3s 582ms/step - loss: 0.1028 - mae: 0.3840\n",
            "\n",
            "Epoch 00062: loss improved from 0.20035 to 0.17451, saving model to poids.hdf5\n",
            "Epoch 63/100\n",
            "4/4 [==============================] - 3s 585ms/step - loss: 0.0817 - mae: 0.3297\n",
            "\n",
            "Epoch 00063: loss improved from 0.17451 to 0.14580, saving model to poids.hdf5\n",
            "Epoch 64/100\n",
            "4/4 [==============================] - 3s 581ms/step - loss: 0.0606 - mae: 0.2679\n",
            "\n",
            "Epoch 00064: loss improved from 0.14580 to 0.11522, saving model to poids.hdf5\n",
            "Epoch 65/100\n",
            "4/4 [==============================] - 3s 577ms/step - loss: 0.0413 - mae: 0.2002\n",
            "\n",
            "Epoch 00065: loss improved from 0.11522 to 0.08482, saving model to poids.hdf5\n",
            "Epoch 66/100\n",
            "4/4 [==============================] - 3s 585ms/step - loss: 0.0258 - mae: 0.1312\n",
            "\n",
            "Epoch 00066: loss improved from 0.08482 to 0.05777, saving model to poids.hdf5\n",
            "Epoch 67/100\n",
            "4/4 [==============================] - 3s 592ms/step - loss: 0.0155 - mae: 0.0710\n",
            "\n",
            "Epoch 00067: loss improved from 0.05777 to 0.03733, saving model to poids.hdf5\n",
            "Epoch 68/100\n",
            "4/4 [==============================] - 3s 577ms/step - loss: 0.0101 - mae: 0.0371\n",
            "\n",
            "Epoch 00068: loss improved from 0.03733 to 0.02489, saving model to poids.hdf5\n",
            "Epoch 69/100\n",
            "4/4 [==============================] - 3s 588ms/step - loss: 0.0079 - mae: 0.0440\n",
            "\n",
            "Epoch 00069: loss improved from 0.02489 to 0.01901, saving model to poids.hdf5\n",
            "Epoch 70/100\n",
            "4/4 [==============================] - 3s 592ms/step - loss: 0.0070 - mae: 0.0459\n",
            "\n",
            "Epoch 00070: loss improved from 0.01901 to 0.01675, saving model to poids.hdf5\n",
            "Epoch 71/100\n",
            "4/4 [==============================] - 3s 598ms/step - loss: 0.0066 - mae: 0.0444\n",
            "\n",
            "Epoch 00071: loss improved from 0.01675 to 0.01560, saving model to poids.hdf5\n",
            "Epoch 72/100\n",
            "4/4 [==============================] - 3s 584ms/step - loss: 0.0062 - mae: 0.0427\n",
            "\n",
            "Epoch 00072: loss improved from 0.01560 to 0.01455, saving model to poids.hdf5\n",
            "Epoch 73/100\n",
            "4/4 [==============================] - 3s 585ms/step - loss: 0.0057 - mae: 0.0432\n",
            "\n",
            "Epoch 00073: loss improved from 0.01455 to 0.01346, saving model to poids.hdf5\n",
            "Epoch 74/100\n",
            "4/4 [==============================] - 3s 567ms/step - loss: 0.0054 - mae: 0.0472\n",
            "\n",
            "Epoch 00074: loss improved from 0.01346 to 0.01238, saving model to poids.hdf5\n",
            "Epoch 75/100\n",
            "4/4 [==============================] - 3s 589ms/step - loss: 0.0051 - mae: 0.0528\n",
            "\n",
            "Epoch 00075: loss improved from 0.01238 to 0.01143, saving model to poids.hdf5\n",
            "Epoch 76/100\n",
            "4/4 [==============================] - 3s 579ms/step - loss: 0.0048 - mae: 0.0557\n",
            "\n",
            "Epoch 00076: loss improved from 0.01143 to 0.01069, saving model to poids.hdf5\n",
            "Epoch 77/100\n",
            "4/4 [==============================] - 3s 583ms/step - loss: 0.0041 - mae: 0.0425\n",
            "\n",
            "Epoch 00077: loss improved from 0.01069 to 0.00950, saving model to poids.hdf5\n",
            "Epoch 78/100\n",
            "4/4 [==============================] - 3s 574ms/step - loss: 0.0034 - mae: 0.0283\n",
            "\n",
            "Epoch 00078: loss improved from 0.00950 to 0.00813, saving model to poids.hdf5\n",
            "Epoch 79/100\n",
            "4/4 [==============================] - 3s 589ms/step - loss: 0.0040 - mae: 0.0443\n",
            "\n",
            "Epoch 00079: loss did not improve from 0.00813\n",
            "Epoch 80/100\n",
            "4/4 [==============================] - 3s 577ms/step - loss: 0.1126 - mae: 0.3443\n",
            "\n",
            "Epoch 00080: loss did not improve from 0.00813\n",
            "Epoch 81/100\n",
            "4/4 [==============================] - 3s 587ms/step - loss: 0.5472 - mae: 0.8617\n",
            "\n",
            "Epoch 00081: loss did not improve from 0.00813\n",
            "Epoch 82/100\n",
            "4/4 [==============================] - 3s 587ms/step - loss: 0.2667 - mae: 0.6313\n",
            "\n",
            "Epoch 00082: loss did not improve from 0.00813\n",
            "Epoch 83/100\n",
            "4/4 [==============================] - 3s 602ms/step - loss: 0.5231 - mae: 0.9465\n",
            "\n",
            "Epoch 00083: loss did not improve from 0.00813\n",
            "Epoch 84/100\n",
            "4/4 [==============================] - 3s 675ms/step - loss: 3.0744 - mae: 3.5521\n",
            "\n",
            "Epoch 00084: loss did not improve from 0.00813\n",
            "Epoch 85/100\n",
            "4/4 [==============================] - 3s 689ms/step - loss: nan - mae: nan\n",
            "\n",
            "Epoch 00085: loss did not improve from 0.00813\n",
            "Epoch 86/100\n",
            "4/4 [==============================] - 3s 594ms/step - loss: nan - mae: nan\n",
            "\n",
            "Epoch 00086: loss did not improve from 0.00813\n",
            "Epoch 87/100\n",
            "4/4 [==============================] - 3s 576ms/step - loss: nan - mae: nan\n",
            "\n",
            "Epoch 00087: loss did not improve from 0.00813\n",
            "Epoch 88/100\n",
            "4/4 [==============================] - 3s 597ms/step - loss: nan - mae: nan\n",
            "\n",
            "Epoch 00088: loss did not improve from 0.00813\n",
            "Epoch 89/100\n",
            "4/4 [==============================] - 3s 577ms/step - loss: nan - mae: nan\n",
            "\n",
            "Epoch 00089: loss did not improve from 0.00813\n",
            "Epoch 90/100\n",
            "4/4 [==============================] - 3s 573ms/step - loss: nan - mae: nan\n",
            "\n",
            "Epoch 00090: loss did not improve from 0.00813\n",
            "Epoch 91/100\n",
            "4/4 [==============================] - 3s 575ms/step - loss: nan - mae: nan\n",
            "\n",
            "Epoch 00091: loss did not improve from 0.00813\n",
            "Epoch 92/100\n",
            "4/4 [==============================] - 3s 594ms/step - loss: nan - mae: nan\n",
            "\n",
            "Epoch 00092: loss did not improve from 0.00813\n",
            "Epoch 93/100\n",
            "4/4 [==============================] - 3s 603ms/step - loss: nan - mae: nan\n",
            "\n",
            "Epoch 00093: loss did not improve from 0.00813\n",
            "Epoch 94/100\n",
            "4/4 [==============================] - 3s 583ms/step - loss: nan - mae: nan\n",
            "\n",
            "Epoch 00094: loss did not improve from 0.00813\n",
            "Epoch 95/100\n",
            "4/4 [==============================] - 3s 577ms/step - loss: nan - mae: nan\n",
            "\n",
            "Epoch 00095: loss did not improve from 0.00813\n",
            "Epoch 96/100\n",
            "4/4 [==============================] - 3s 572ms/step - loss: nan - mae: nan\n",
            "\n",
            "Epoch 00096: loss did not improve from 0.00813\n",
            "Epoch 97/100\n",
            "4/4 [==============================] - 3s 576ms/step - loss: nan - mae: nan\n",
            "\n",
            "Epoch 00097: loss did not improve from 0.00813\n",
            "Epoch 98/100\n",
            "4/4 [==============================] - 3s 590ms/step - loss: nan - mae: nan\n",
            "\n",
            "Epoch 00098: loss did not improve from 0.00813\n",
            "Epoch 99/100\n",
            "4/4 [==============================] - 3s 584ms/step - loss: nan - mae: nan\n",
            "\n",
            "Epoch 00099: loss did not improve from 0.00813\n",
            "Epoch 100/100\n",
            "4/4 [==============================] - 3s 564ms/step - loss: nan - mae: nan\n",
            "\n",
            "Epoch 00100: loss did not improve from 0.00813\n"
          ],
          "name": "stdout"
        }
      ]
    },
    {
      "cell_type": "code",
      "metadata": {
        "colab": {
          "base_uri": "https://localhost:8080/",
          "height": 411
        },
        "id": "u2aP9J3TkNGG",
        "outputId": "b3a75f80-ab23-47bb-ceb8-75018b6a633c"
      },
      "source": [
        "# Construit un vecteur avec les valeurs du taux d'apprentissage à chaque période \n",
        "taux = 1e-8*(10**(np.arange(100)/10))\n",
        "\n",
        "# Affiche l'erreur en fonction du taux d'apprentissage\n",
        "plt.figure(figsize=(10, 6))\n",
        "plt.semilogx(taux,historique.history[\"loss\"])\n",
        "plt.axis([ taux[0], taux[99], 0, 0.1])\n",
        "plt.title(\"Evolution de l'erreur en fonction du taux d'apprentissage\")"
      ],
      "execution_count": 39,
      "outputs": [
        {
          "output_type": "execute_result",
          "data": {
            "text/plain": [
              "Text(0.5, 1.0, \"Evolution de l'erreur en fonction du taux d'apprentissage\")"
            ]
          },
          "metadata": {
            "tags": []
          },
          "execution_count": 39
        },
        {
          "output_type": "display_data",
          "data": {
            "image/png": "[encoded data removed]",
            "text/plain": [
              "<Figure size 720x432 with 1 Axes>"
            ]
          },
          "metadata": {
            "tags": [],
            "needs_background": "light"
          }
        }
      ]
    },
    {
      "cell_type": "code",
      "metadata": {
        "id": "cZxCgpuYkQ2Q"
      },
      "source": [
        "# Chargement des poids sauvegardés\n",
        "model.load_weights(\"poids.hdf5\")"
      ],
      "execution_count": 40,
      "outputs": []
    },
    {
      "cell_type": "code",
      "metadata": {
        "colab": {
          "base_uri": "https://localhost:8080/"
        },
        "id": "zmdbo23qkTKE",
        "outputId": "73e1b438-988d-49df-c03a-27ef8445dbd4"
      },
      "source": [
        "# Classe permettant d'arrêter l'entrainement si la variation\n",
        "# devient plus petite qu'une valeur à choisir sur un nombre\n",
        "# de périodes à choisir\n",
        "class StopTrain(keras.callbacks.Callback):\n",
        "    def __init__(self, delta=0.01,periodes=100, term=\"loss\", logs={}):\n",
        "      self.n_periodes = 0\n",
        "      self.periodes = periodes\n",
        "      self.loss_1 = 100\n",
        "      self.delta = delta\n",
        "      self.term = term\n",
        "    def on_epoch_end(self, epoch, logs={}):\n",
        "      diff_loss = abs(self.loss_1 - logs[self.term])\n",
        "      self.loss_1 = logs[self.term]\n",
        "      if (diff_loss < self.delta):\n",
        "        self.n_periodes = self.n_periodes + 1\n",
        "      else:\n",
        "        self.n_periodes = 0\n",
        "      if (self.n_periodes == self.periodes):\n",
        "        print(\"Arrêt de l'entrainement...\")\n",
        "        self.model.stop_training = True\n",
        "\n",
        "# Définition des paramètres liés à l'évolution du taux d'apprentissage\n",
        "lr_schedule = tf.keras.optimizers.schedules.InverseTimeDecay(\n",
        "    initial_learning_rate=0.001,\n",
        "    decay_steps=10,\n",
        "    decay_rate=0.001)\n",
        "\n",
        "# Définition de l'optimiseur à utiliser\n",
        "#optimiseur=tf.keras.optimizers.SGD(learning_rate=lr_schedule,momentum=0.9)\n",
        "#optimiseur=tf.keras.optimizers.Adam(learning_rate=lr_schedule)\n",
        "optimiseur=tf.keras.optimizers.Adam()\n",
        "\n",
        "\n",
        "# Utilisation de la méthode ModelCheckPoint\n",
        "CheckPoint = tf.keras.callbacks.ModelCheckpoint(\"poids_train.hdf5\", monitor='loss', verbose=1, save_best_only=True, save_weights_only = True, mode='auto', save_freq='epoch')\n",
        "\n",
        "# Compile le modèle\n",
        "model.compile(loss='mean_squared_error', optimizer=optimiseur)\n",
        "\n",
        "# Entraine le modèle\n",
        "historique = model.fit(dataset_norm,validation_data=dataset_Val_norm, epochs=1000,verbose=1, callbacks=[CheckPoint,StopTrain(delta=1e-5,periodes = 20, term=\"loss\")])\n"
      ],
      "execution_count": 116,
      "outputs": [
        {
          "output_type": "stream",
          "text": [
            "Epoch 1/1000\n",
            "4/4 [==============================] - 2s 228ms/step - loss: 0.0016 - val_loss: 0.4920\n",
            "\n",
            "Epoch 00001: loss improved from inf to 0.00373, saving model to poids_train.hdf5\n",
            "Epoch 2/1000\n",
            "4/4 [==============================] - 1s 149ms/step - loss: 0.0017 - val_loss: 0.4885\n",
            "\n",
            "Epoch 00002: loss did not improve from 0.00373\n",
            "Epoch 3/1000\n",
            "4/4 [==============================] - 0s 127ms/step - loss: 0.0015 - val_loss: 0.4938\n",
            "\n",
            "Epoch 00003: loss improved from 0.00373 to 0.00370, saving model to poids_train.hdf5\n",
            "Epoch 4/1000\n",
            "4/4 [==============================] - 0s 117ms/step - loss: 0.0016 - val_loss: 0.4960\n",
            "\n",
            "Epoch 00004: loss did not improve from 0.00370\n",
            "Epoch 5/1000\n",
            "4/4 [==============================] - 0s 135ms/step - loss: 0.0015 - val_loss: 0.4930\n",
            "\n",
            "Epoch 00005: loss improved from 0.00370 to 0.00370, saving model to poids_train.hdf5\n",
            "Epoch 6/1000\n",
            "4/4 [==============================] - 0s 132ms/step - loss: 0.0015 - val_loss: 0.4908\n",
            "\n",
            "Epoch 00006: loss did not improve from 0.00370\n",
            "Epoch 7/1000\n",
            "4/4 [==============================] - 0s 128ms/step - loss: 0.0015 - val_loss: 0.4916\n",
            "\n",
            "Epoch 00007: loss did not improve from 0.00370\n",
            "Epoch 8/1000\n",
            "4/4 [==============================] - 0s 134ms/step - loss: 0.0015 - val_loss: 0.4938\n",
            "\n",
            "Epoch 00008: loss improved from 0.00370 to 0.00369, saving model to poids_train.hdf5\n",
            "Epoch 9/1000\n",
            "4/4 [==============================] - 0s 120ms/step - loss: 0.0015 - val_loss: 0.4942\n",
            "\n",
            "Epoch 00009: loss did not improve from 0.00369\n",
            "Epoch 10/1000\n",
            "4/4 [==============================] - 0s 121ms/step - loss: 0.0015 - val_loss: 0.4926\n",
            "\n",
            "Epoch 00010: loss improved from 0.00369 to 0.00369, saving model to poids_train.hdf5\n",
            "Epoch 11/1000\n",
            "4/4 [==============================] - 0s 135ms/step - loss: 0.0015 - val_loss: 0.4917\n",
            "\n",
            "Epoch 00011: loss did not improve from 0.00369\n",
            "Epoch 12/1000\n",
            "4/4 [==============================] - 0s 121ms/step - loss: 0.0015 - val_loss: 0.4923\n",
            "\n",
            "Epoch 00012: loss improved from 0.00369 to 0.00369, saving model to poids_train.hdf5\n",
            "Epoch 13/1000\n",
            "4/4 [==============================] - 0s 130ms/step - loss: 0.0015 - val_loss: 0.4928\n",
            "\n",
            "Epoch 00013: loss did not improve from 0.00369\n",
            "Epoch 14/1000\n",
            "4/4 [==============================] - 0s 136ms/step - loss: 0.0015 - val_loss: 0.4922\n",
            "\n",
            "Epoch 00014: loss improved from 0.00369 to 0.00369, saving model to poids_train.hdf5\n",
            "Epoch 15/1000\n",
            "4/4 [==============================] - 0s 120ms/step - loss: 0.0015 - val_loss: 0.4915\n",
            "\n",
            "Epoch 00015: loss improved from 0.00369 to 0.00369, saving model to poids_train.hdf5\n",
            "Epoch 16/1000\n",
            "4/4 [==============================] - 1s 139ms/step - loss: 0.0015 - val_loss: 0.4915\n",
            "\n",
            "Epoch 00016: loss improved from 0.00369 to 0.00369, saving model to poids_train.hdf5\n",
            "Epoch 17/1000\n",
            "4/4 [==============================] - 1s 141ms/step - loss: 0.0015 - val_loss: 0.4917\n",
            "\n",
            "Epoch 00017: loss improved from 0.00369 to 0.00369, saving model to poids_train.hdf5\n",
            "Epoch 18/1000\n",
            "4/4 [==============================] - 0s 130ms/step - loss: 0.0015 - val_loss: 0.4913\n",
            "\n",
            "Epoch 00018: loss improved from 0.00369 to 0.00369, saving model to poids_train.hdf5\n",
            "Epoch 19/1000\n",
            "4/4 [==============================] - 0s 138ms/step - loss: 0.0015 - val_loss: 0.4909\n",
            "\n",
            "Epoch 00019: loss improved from 0.00369 to 0.00369, saving model to poids_train.hdf5\n",
            "Epoch 20/1000\n",
            "4/4 [==============================] - 1s 134ms/step - loss: 0.0015 - val_loss: 0.4909\n",
            "\n",
            "Epoch 00020: loss improved from 0.00369 to 0.00369, saving model to poids_train.hdf5\n",
            "Epoch 21/1000\n",
            "4/4 [==============================] - 1s 138ms/step - loss: 0.0015 - val_loss: 0.4909\n",
            "\n",
            "Epoch 00021: loss did not improve from 0.00369\n",
            "Epoch 22/1000\n",
            "4/4 [==============================] - 1s 138ms/step - loss: 0.0015 - val_loss: 0.4906\n",
            "\n",
            "Epoch 00022: loss improved from 0.00369 to 0.00369, saving model to poids_train.hdf5\n",
            "Epoch 23/1000\n",
            "4/4 [==============================] - 0s 129ms/step - loss: 0.0015 - val_loss: 0.4904\n",
            "\n",
            "Epoch 00023: loss improved from 0.00369 to 0.00369, saving model to poids_train.hdf5\n",
            "Epoch 24/1000\n",
            "4/4 [==============================] - 1s 134ms/step - loss: 0.0015 - val_loss: 0.4903\n",
            "\n",
            "Epoch 00024: loss improved from 0.00369 to 0.00369, saving model to poids_train.hdf5\n",
            "Epoch 25/1000\n",
            "4/4 [==============================] - 1s 142ms/step - loss: 0.0015 - val_loss: 0.4901\n",
            "\n",
            "Epoch 00025: loss improved from 0.00369 to 0.00369, saving model to poids_train.hdf5\n",
            "Epoch 26/1000\n",
            "4/4 [==============================] - 1s 142ms/step - loss: 0.0015 - val_loss: 0.4898\n",
            "\n",
            "Epoch 00026: loss improved from 0.00369 to 0.00369, saving model to poids_train.hdf5\n",
            "Epoch 27/1000\n",
            "4/4 [==============================] - 0s 130ms/step - loss: 0.0015 - val_loss: 0.4897\n",
            "\n",
            "Epoch 00027: loss improved from 0.00369 to 0.00369, saving model to poids_train.hdf5\n",
            "Epoch 28/1000\n",
            "4/4 [==============================] - 0s 124ms/step - loss: 0.0015 - val_loss: 0.4895\n",
            "\n",
            "Epoch 00028: loss improved from 0.00369 to 0.00369, saving model to poids_train.hdf5\n",
            "Epoch 29/1000\n",
            "4/4 [==============================] - 1s 133ms/step - loss: 0.0015 - val_loss: 0.4893\n",
            "\n",
            "Epoch 00029: loss improved from 0.00369 to 0.00369, saving model to poids_train.hdf5\n",
            "Epoch 30/1000\n",
            "4/4 [==============================] - 0s 125ms/step - loss: 0.0015 - val_loss: 0.4891\n",
            "\n",
            "Epoch 00030: loss improved from 0.00369 to 0.00369, saving model to poids_train.hdf5\n",
            "Arrêt de l'entrainement...\n"
          ],
          "name": "stdout"
        }
      ]
    },
    {
      "cell_type": "code",
      "metadata": {
        "colab": {
          "base_uri": "https://localhost:8080/",
          "height": 407
        },
        "id": "8MDY8O1-l6kN",
        "outputId": "6b1a2dcd-13b2-4c97-b7e6-63b97be9ab59"
      },
      "source": [
        "erreur_entrainement = historique.history[\"loss\"]\n",
        "erreur_validation = historique.history[\"val_loss\"]\n",
        "\n",
        "# Affiche l'erreur en fonction de la période\n",
        "plt.figure(figsize=(10, 6))\n",
        "plt.plot(np.arange(0,len(erreur_entrainement)),erreur_entrainement, label=\"Erreurs sur les entrainements\")\n",
        "plt.plot(np.arange(0,len(erreur_entrainement)),erreur_validation, label =\"Erreurs sur les validations\")\n",
        "plt.legend()\n",
        "\n",
        "plt.title(\"Evolution de l'erreur en fonction de la période\")"
      ],
      "execution_count": 117,
      "outputs": [
        {
          "output_type": "execute_result",
          "data": {
            "text/plain": [
              "Text(0.5, 1.0, \"Evolution de l'erreur en fonction de la période\")"
            ]
          },
          "metadata": {
            "tags": []
          },
          "execution_count": 117
        },
        {
          "output_type": "display_data",
          "data": {
            "image/png": "[encoded data removed]",
            "text/plain": [
              "<Figure size 720x432 with 1 Axes>"
            ]
          },
          "metadata": {
            "tags": [],
            "needs_background": "light"
          }
        }
      ]
    },
    {
      "cell_type": "code",
      "metadata": {
        "id": "6tw9YP20zu4m"
      },
      "source": [
        "# Horizon des prédictions\n",
        "horizon = 1\n",
        "\n",
        "predictions = []\n",
        "dates_predictions = []\n",
        "couleurs = []\n",
        "\n",
        "serie = np.asarray(prix_ouverture)\n",
        "\n",
        "for t in range(0,570,horizon):\n",
        "      dates_X = dates_ouverture[temps_separation-taille_fenetre+t:temps_separation]\n",
        "      dates_Y = dates_ouverture[temps_separation:temps_separation+t]\n",
        "\n",
        "      dates_predictions.append(dates_ouverture[temps_separation+t])\n",
        "\n",
        "      X = np.asarray(serie[temps_separation-taille_fenetre+t:temps_separation])\n",
        "      Y = np.asarray(serie[temps_separation:temps_separation+t])\n",
        "      Z = np.concatenate((X,Y))[-taille_fenetre:]\n",
        "      Z = (Z-mean)/std\n",
        "\n",
        "      dates = np.concatenate((dates_X,dates_Y))[-taille_fenetre:]\n",
        "\n",
        "      pred = model.predict(np.reshape(Z,(1,taille_fenetre)))\n",
        "      predictions.append(pred[0,0])\n",
        "\n",
        "      for j in range(1,horizon):\n",
        "        dates_predictions.append(dates_ouverture[temps_separation+t+j])\n",
        "\n",
        "        pred = np.reshape(predictions,(1,len(predictions)))[0,:]*std+mean\n",
        "        Z = np.concatenate((X,pred))[-taille_fenetre:]\n",
        "        Z = (Z-mean)/std\n",
        "        pred = model.predict(np.reshape(Z,(1,taille_fenetre)))\n",
        "        predictions.append(pred[0,0])\n"
      ],
      "execution_count": 118,
      "outputs": []
    },
    {
      "cell_type": "code",
      "metadata": {
        "id": "i0VLq4EPv5YT"
      },
      "source": [
        "# Horizon des prédictions entrainements\n",
        "horizon = 1\n",
        "\n",
        "predictions_ent = []\n",
        "dates_predictions_ent = []\n",
        "\n",
        "serie = np.asarray(prix_ouverture)\n",
        "\n",
        "for t in range(taille_fenetre,temps_separation,horizon):\n",
        "      dates_X = dates_ouverture[-taille_fenetre+t:]\n",
        "      dates_Y = dates_ouverture[:+t]\n",
        "\n",
        "      dates_predictions_ent.append(dates_ouverture[+t])\n",
        "\n",
        "      X = np.asarray(serie[-taille_fenetre+t:])\n",
        "      Y = np.asarray(serie[:+t])\n",
        "      Z = np.concatenate((X,Y))[-taille_fenetre:]\n",
        "      Z = (Z-mean)/std\n",
        "\n",
        "      dates = np.concatenate((dates_X,dates_Y))[-taille_fenetre:]\n",
        "\n",
        "      pred = model.predict(np.reshape(Z,(1,taille_fenetre)))\n",
        "      predictions_ent.append(pred[0,0])\n",
        "\n",
        "      for j in range(1,horizon):\n",
        "        dates_predictions_ent.append(dates_ouverture[+t+j])\n",
        "\n",
        "        pred = np.reshape(predictions_ent,(1,len(predictions_ent)))[0,:]*std+mean\n",
        "        Z = np.concatenate((X,pred))[-taille_fenetre:]\n",
        "        Z = (Z-mean)/std\n",
        "        pred = model.predict(np.reshape(Z,(1,taille_fenetre)))\n",
        "        predictions_ent.append(pred[0,0])"
      ],
      "execution_count": 119,
      "outputs": []
    },
    {
      "cell_type": "code",
      "metadata": {
        "id": "Dtnr15lMeLm9",
        "outputId": "8975afca-bf48-47dc-f499-eef54aca436e",
        "colab": {
          "base_uri": "https://localhost:8080/"
        }
      },
      "source": [
        "pred_x = model.predict(dataset_norm, verbose=1)[:,0]\n",
        "pred_x"
      ],
      "execution_count": 142,
      "outputs": [
        {
          "output_type": "stream",
          "text": [
            "4/4 [==============================] - 0s 85ms/step\n"
          ],
          "name": "stdout"
        },
        {
          "output_type": "execute_result",
          "data": {
            "text/plain": [
              "array([-0.719859  , -0.71748406, -0.71578616, ...,  1.0355093 ,\n",
              "        1.0089847 ,  1.0098435 ], dtype=float32)"
            ]
          },
          "metadata": {
            "tags": []
          },
          "execution_count": 142
        }
      ]
    },
    {
      "cell_type": "code",
      "metadata": {
        "id": "MikvtY520WDO",
        "colab": {
          "base_uri": "https://localhost:8080/"
        },
        "outputId": "6cc2eea5-ba0f-4918-991e-96611a63e944"
      },
      "source": [
        "prix_ouverture"
      ],
      "execution_count": 25,
      "outputs": [
        {
          "output_type": "execute_result",
          "data": {
            "text/plain": [
              "Timestamp\n",
              "2013-04-01       99.525714\n",
              "2013-04-02      103.730000\n",
              "2013-04-03      116.000000\n",
              "2013-04-04      133.870000\n",
              "2013-04-05      134.670000\n",
              "                  ...     \n",
              "2021-03-27    55081.260000\n",
              "2021-03-28    55817.850000\n",
              "2021-03-29    55790.280000\n",
              "2021-03-30    57623.660000\n",
              "2021-03-31    58767.750000\n",
              "Freq: D, Name: Open, Length: 2922, dtype: float64"
            ]
          },
          "metadata": {
            "tags": []
          },
          "execution_count": 25
        }
      ]
    },
    {
      "cell_type": "code",
      "metadata": {
        "id": "MF3XJNR92k3i"
      },
      "source": [
        "pred_a_la_con = np.roll(np.asarray(prix_ouverture),1)\n"
      ],
      "execution_count": 29,
      "outputs": []
    },
    {
      "cell_type": "code",
      "metadata": {
        "id": "TaTWA5tzh8Ki",
        "outputId": "413697a6-dc95-4315-b6c3-a38505dc9621",
        "colab": {
          "base_uri": "https://localhost:8080/"
        }
      },
      "source": [
        "temps_entrainement"
      ],
      "execution_count": 152,
      "outputs": [
        {
          "output_type": "execute_result",
          "data": {
            "text/plain": [
              "array([   4,    5,    6, ..., 2334, 2335, 2336])"
            ]
          },
          "metadata": {
            "tags": []
          },
          "execution_count": 152
        }
      ]
    },
    {
      "cell_type": "code",
      "metadata": {
        "id": "UHGFSNNMkEcC",
        "outputId": "19afe22f-a6b2-40a6-d846-a82365eca884",
        "colab": {
          "base_uri": "https://localhost:8080/"
        }
      },
      "source": [
        "prix_ouverture[taille_fenetre+horizon-1:]"
      ],
      "execution_count": 158,
      "outputs": [
        {
          "output_type": "execute_result",
          "data": {
            "text/plain": [
              "Timestamp\n",
              "2013-04-05      134.670000\n",
              "2013-04-06      137.835000\n",
              "2013-04-07      141.000000\n",
              "2013-04-08      170.313333\n",
              "2013-04-09      199.626667\n",
              "                  ...     \n",
              "2021-03-27    55081.260000\n",
              "2021-03-28    55817.850000\n",
              "2021-03-29    55790.280000\n",
              "2021-03-30    57623.660000\n",
              "2021-03-31    58767.750000\n",
              "Freq: D, Name: Open, Length: 2918, dtype: float64"
            ]
          },
          "metadata": {
            "tags": []
          },
          "execution_count": 158
        }
      ]
    },
    {
      "cell_type": "code",
      "metadata": {
        "colab": {
          "base_uri": "https://localhost:8080/",
          "height": 542
        },
        "id": "y5vWi5mTrMMj",
        "outputId": "d2149024-d35e-42ed-b5c6-c30220919c35"
      },
      "source": [
        "import plotly.graph_objects as go\n",
        "\n",
        "pred = np.reshape(predictions,(1,len(predictions)))[0,:]*std+mean\n",
        "pred_ent = np.reshape(predictions_ent,(1,len(predictions_ent)))[0,:]*std+mean\n",
        "\n",
        "pred = np.roll(pred,0)\n",
        "pred_ent = np.roll(pred_ent,0)\n",
        "\n",
        "pred_x_norm = pred_x*std+mean\n",
        "\n",
        "fig = go.Figure()\n",
        "fig.add_trace(go.Scatter(x=temps_entrainement,y=prix_ouverture[taille_fenetre+horizon-1:],line=dict(color='blue', width=1),name=\"Prix BTC\"))\n",
        "\n",
        "#fig.add_trace(go.Scatter(x=dates_predictions,y=pred,line=dict(color='red', width=1),name=\"Prédictions\"))\n",
        "\n",
        "fig.add_trace(go.Scatter(x=temps_entrainement,y=pred_x_norm,line=dict(color='green', width=1),name=\"Entrainement\"))\n",
        "\n",
        "#fig.add_trace(go.Scatter(x=dates_ouverture,y=pred_a_la_con,line=dict(color='yellow', width=1),name=\"PredCon\"))\n",
        "\n",
        "\n",
        "\n",
        "fig.update_xaxes(rangeslider_visible=True)\n",
        "yaxis=dict(autorange = True,fixedrange= False)\n",
        "fig.update_yaxes(yaxis)\n",
        "fig.show()"
      ],
      "execution_count": 159,
      "outputs": [
        {
          "output_type": "display_data",
          "data": {
            "text/html": [
              "<html>\n",
              "<head><meta charset=\"utf-8\" /></head>\n",
              "<body>\n",
              "    <div>\n",
              "            <script src=\"https://cdnjs.cloudflare.com/ajax/libs/mathjax/2.7.5/MathJax.js?config=TeX-AMS-MML_SVG\"></script><script type=\"text/javascript\">if (window.MathJax) {MathJax.Hub.Config({SVG: {font: \"STIX-Web\"}});}</script>\n",
              "                <script type=\"text/javascript\">window.PlotlyConfig = {MathJaxConfig: 'local'};</script>\n",
              "        <script src=\"https://cdn.plot.ly/plotly-latest.min.js\"></script>    \n",
              "            <div id=\"bc2641bf-537a-430f-8a84-421fe4b00dcb\" class=\"plotly-graph-div\" style=\"height:525px; width:100%;\"></div>\n",
              "            <script type=\"text/javascript\">\n",
              "                \n",
              "                    window.PLOTLYENV=window.PLOTLYENV || {};\n",
              "                    \n",
              "                if (document.getElementById(\"bc2641bf-537a-430f-8a84-421fe4b00dcb\")) {\n",
              "                    Plotly.newPlot(\n",
              "                        'bc2641bf-537a-430f-8a84-421fe4b00dcb',\n",
              "                        [{\"line\": {\"color\": \"blue\", \"width\": 1}, \"name\": \"Prix BTC\", \"type\": \"scatter\", \"x\": [4, 5, 6, 7, 8, 9, 10, 11, 12, 13, 14, 15, 16, 17, 18, 19, 20, 21, 22, 23, 24, 25, 26, 27, 28, 29, 30, 31, 32, 33, 34, 35, 36, 37, 38, 39, 40, 41, 42, 43, 44, 45, 46, 47, 48, 49, 50, 51, 52, 53, 54, 55, 56, 57, 58, 59, 60, 61, 62, 63, 64, 65, 66, 67, 68, 69, 70, 71, 72, 73, 74, 75, 76, 77, 78, 79, 80, 81, 82, 83, 84, 85, 86, 87, 88, 89, 90, 91, 92, 93, 94, 95, 96, 97, 98, 99, 100, 101, 102, 103, 104, 105, 106, 107, 108, 109, 110, 111, 112, 113, 114, 115, 116, 117, 118, 119, 120, 121, 122, 123, 124, 125, 126, 127, 128, 129, 130, 131, 132, 133, 134, 135, 136, 137, 138, 139, 140, 141, 142, 143, 144, 145, 146, 147, 148, 149, 150, 151, 152, 153, 154, 155, 156, 157, 158, 159, 160, 161, 162, 163, 164, 165, 166, 167, 168, 169, 170, 171, 172, 173, 174, 175, 176, 177, 178, 179, 180, 181, 182, 183, 184, 185, 186, 187, 188, 189, 190, 191, 192, 193, 194, 195, 196, 197, 198, 199, 200, 201, 202, 203, 204, 205, 206, 207, 208, 209, 210, 211, 212, 213, 214, 215, 216, 217, 218, 219, 220, 221, 222, 223, 224, 225, 226, 227, 228, 229, 230, 231, 232, 233, 234, 235, 236, 237, 238, 239, 240, 241, 242, 243, 244, 245, 246, 247, 248, 249, 250, 251, 252, 253, 254, 255, 256, 257, 258, 259, 260, 261, 262, 263, 264, 265, 266, 267, 268, 269, 270, 271, 272, 273, 274, 275, 276, 277, 278, 279, 280, 281, 282, 283, 284, 285, 286, 287, 288, 289, 290, 291, 292, 293, 294, 295, 296, 297, 298, 299, 300, 301, 302, 303, 304, 305, 306, 307, 308, 309, 310, 311, 312, 313, 314, 315, 316, 317, 318, 319, 320, 321, 322, 323, 324, 325, 326, 327, 328, 329, 330, 331, 332, 333, 334, 335, 336, 337, 338, 339, 340, 341, 342, 343, 344, 345, 346, 347, 348, 349, 350, 351, 352, 353, 354, 355, 356, 357, 358, 359, 360, 361, 362, 363, 364, 365, 366, 367, 368, 369, 370, 371, 372, 373, 374, 375, 376, 377, 378, 379, 380, 381, 382, 383, 384, 385, 386, 387, 388, 389, 390, 391, 392, 393, 394, 395, 396, 397, 398, 399, 400, 401, 402, 403, 404, 405, 406, 407, 408, 409, 410, 411, 412, 413, 414, 415, 416, 417, 418, 419, 420, 421, 422, 423, 424, 425, 426, 427, 428, 429, 430, 431, 432, 433, 434, 435, 436, 437, 438, 439, 440, 441, 442, 443, 444, 445, 446, 447, 448, 449, 450, 451, 452, 453, 454, 455, 456, 457, 458, 459, 460, 461, 462, 463, 464, 465, 466, 467, 468, 469, 470, 471, 472, 473, 474, 475, 476, 477, 478, 479, 480, 481, 482, 483, 484, 485, 486, 487, 488, 489, 490, 491, 492, 493, 494, 495, 496, 497, 498, 499, 500, 501, 502, 503, 504, 505, 506, 507, 508, 509, 510, 511, 512, 513, 514, 515, 516, 517, 518, 519, 520, 521, 522, 523, 524, 525, 526, 527, 528, 529, 530, 531, 532, 533, 534, 535, 536, 537, 538, 539, 540, 541, 542, 543, 544, 545, 546, 547, 548, 549, 550, 551, 552, 553, 554, 555, 556, 557, 558, 559, 560, 561, 562, 563, 564, 565, 566, 567, 568, 569, 570, 571, 572, 573, 574, 575, 576, 577, 578, 579, 580, 581, 582, 583, 584, 585, 586, 587, 588, 589, 590, 591, 592, 593, 594, 595, 596, 597, 598, 599, 600, 601, 602, 603, 604, 605, 606, 607, 608, 609, 610, 611, 612, 613, 614, 615, 616, 617, 618, 619, 620, 621, 622, 623, 624, 625, 626, 627, 628, 629, 630, 631, 632, 633, 634, 635, 636, 637, 638, 639, 640, 641, 642, 643, 644, 645, 646, 647, 648, 649, 650, 651, 652, 653, 654, 655, 656, 657, 658, 659, 660, 661, 662, 663, 664, 665, 666, 667, 668, 669, 670, 671, 672, 673, 674, 675, 676, 677, 678, 679, 680, 681, 682, 683, 684, 685, 686, 687, 688, 689, 690, 691, 692, 693, 694, 695, 696, 697, 698, 699, 700, 701, 702, 703, 704, 705, 706, 707, 708, 709, 710, 711, 712, 713, 714, 715, 716, 717, 718, 719, 720, 721, 722, 723, 724, 725, 726, 727, 728, 729, 730, 731, 732, 733, 734, 735, 736, 737, 738, 739, 740, 741, 742, 743, 744, 745, 746, 747, 748, 749, 750, 751, 752, 753, 754, 755, 756, 757, 758, 759, 760, 761, 762, 763, 764, 765, 766, 767, 768, 769, 770, 771, 772, 773, 774, 775, 776, 777, 778, 779, 780, 781, 782, 783, 784, 785, 786, 787, 788, 789, 790, 791, 792, 793, 794, 795, 796, 797, 798, 799, 800, 801, 802, 803, 804, 805, 806, 807, 808, 809, 810, 811, 812, 813, 814, 815, 816, 817, 818, 819, 820, 821, 822, 823, 824, 825, 826, 827, 828, 829, 830, 831, 832, 833, 834, 835, 836, 837, 838, 839, 840, 841, 842, 843, 844, 845, 846, 847, 848, 849, 850, 851, 852, 853, 854, 855, 856, 857, 858, 859, 860, 861, 862, 863, 864, 865, 866, 867, 868, 869, 870, 871, 872, 873, 874, 875, 876, 877, 878, 879, 880, 881, 882, 883, 884, 885, 886, 887, 888, 889, 890, 891, 892, 893, 894, 895, 896, 897, 898, 899, 900, 901, 902, 903, 904, 905, 906, 907, 908, 909, 910, 911, 912, 913, 914, 915, 916, 917, 918, 919, 920, 921, 922, 923, 924, 925, 926, 927, 928, 929, 930, 931, 932, 933, 934, 935, 936, 937, 938, 939, 940, 941, 942, 943, 944, 945, 946, 947, 948, 949, 950, 951, 952, 953, 954, 955, 956, 957, 958, 959, 960, 961, 962, 963, 964, 965, 966, 967, 968, 969, 970, 971, 972, 973, 974, 975, 976, 977, 978, 979, 980, 981, 982, 983, 984, 985, 986, 987, 988, 989, 990, 991, 992, 993, 994, 995, 996, 997, 998, 999, 1000, 1001, 1002, 1003, 1004, 1005, 1006, 1007, 1008, 1009, 1010, 1011, 1012, 1013, 1014, 1015, 1016, 1017, 1018, 1019, 1020, 1021, 1022, 1023, 1024, 1025, 1026, 1027, 1028, 1029, 1030, 1031, 1032, 1033, 1034, 1035, 1036, 1037, 1038, 1039, 1040, 1041, 1042, 1043, 1044, 1045, 1046, 1047, 1048, 1049, 1050, 1051, 1052, 1053, 1054, 1055, 1056, 1057, 1058, 1059, 1060, 1061, 1062, 1063, 1064, 1065, 1066, 1067, 1068, 1069, 1070, 1071, 1072, 1073, 1074, 1075, 1076, 1077, 1078, 1079, 1080, 1081, 1082, 1083, 1084, 1085, 1086, 1087, 1088, 1089, 1090, 1091, 1092, 1093, 1094, 1095, 1096, 1097, 1098, 1099, 1100, 1101, 1102, 1103, 1104, 1105, 1106, 1107, 1108, 1109, 1110, 1111, 1112, 1113, 1114, 1115, 1116, 1117, 1118, 1119, 1120, 1121, 1122, 1123, 1124, 1125, 1126, 1127, 1128, 1129, 1130, 1131, 1132, 1133, 1134, 1135, 1136, 1137, 1138, 1139, 1140, 1141, 1142, 1143, 1144, 1145, 1146, 1147, 1148, 1149, 1150, 1151, 1152, 1153, 1154, 1155, 1156, 1157, 1158, 1159, 1160, 1161, 1162, 1163, 1164, 1165, 1166, 1167, 1168, 1169, 1170, 1171, 1172, 1173, 1174, 1175, 1176, 1177, 1178, 1179, 1180, 1181, 1182, 1183, 1184, 1185, 1186, 1187, 1188, 1189, 1190, 1191, 1192, 1193, 1194, 1195, 1196, 1197, 1198, 1199, 1200, 1201, 1202, 1203, 1204, 1205, 1206, 1207, 1208, 1209, 1210, 1211, 1212, 1213, 1214, 1215, 1216, 1217, 1218, 1219, 1220, 1221, 1222, 1223, 1224, 1225, 1226, 1227, 1228, 1229, 1230, 1231, 1232, 1233, 1234, 1235, 1236, 1237, 1238, 1239, 1240, 1241, 1242, 1243, 1244, 1245, 1246, 1247, 1248, 1249, 1250, 1251, 1252, 1253, 1254, 1255, 1256, 1257, 1258, 1259, 1260, 1261, 1262, 1263, 1264, 1265, 1266, 1267, 1268, 1269, 1270, 1271, 1272, 1273, 1274, 1275, 1276, 1277, 1278, 1279, 1280, 1281, 1282, 1283, 1284, 1285, 1286, 1287, 1288, 1289, 1290, 1291, 1292, 1293, 1294, 1295, 1296, 1297, 1298, 1299, 1300, 1301, 1302, 1303, 1304, 1305, 1306, 1307, 1308, 1309, 1310, 1311, 1312, 1313, 1314, 1315, 1316, 1317, 1318, 1319, 1320, 1321, 1322, 1323, 1324, 1325, 1326, 1327, 1328, 1329, 1330, 1331, 1332, 1333, 1334, 1335, 1336, 1337, 1338, 1339, 1340, 1341, 1342, 1343, 1344, 1345, 1346, 1347, 1348, 1349, 1350, 1351, 1352, 1353, 1354, 1355, 1356, 1357, 1358, 1359, 1360, 1361, 1362, 1363, 1364, 1365, 1366, 1367, 1368, 1369, 1370, 1371, 1372, 1373, 1374, 1375, 1376, 1377, 1378, 1379, 1380, 1381, 1382, 1383, 1384, 1385, 1386, 1387, 1388, 1389, 1390, 1391, 1392, 1393, 1394, 1395, 1396, 1397, 1398, 1399, 1400, 1401, 1402, 1403, 1404, 1405, 1406, 1407, 1408, 1409, 1410, 1411, 1412, 1413, 1414, 1415, 1416, 1417, 1418, 1419, 1420, 1421, 1422, 1423, 1424, 1425, 1426, 1427, 1428, 1429, 1430, 1431, 1432, 1433, 1434, 1435, 1436, 1437, 1438, 1439, 1440, 1441, 1442, 1443, 1444, 1445, 1446, 1447, 1448, 1449, 1450, 1451, 1452, 1453, 1454, 1455, 1456, 1457, 1458, 1459, 1460, 1461, 1462, 1463, 1464, 1465, 1466, 1467, 1468, 1469, 1470, 1471, 1472, 1473, 1474, 1475, 1476, 1477, 1478, 1479, 1480, 1481, 1482, 1483, 1484, 1485, 1486, 1487, 1488, 1489, 1490, 1491, 1492, 1493, 1494, 1495, 1496, 1497, 1498, 1499, 1500, 1501, 1502, 1503, 1504, 1505, 1506, 1507, 1508, 1509, 1510, 1511, 1512, 1513, 1514, 1515, 1516, 1517, 1518, 1519, 1520, 1521, 1522, 1523, 1524, 1525, 1526, 1527, 1528, 1529, 1530, 1531, 1532, 1533, 1534, 1535, 1536, 1537, 1538, 1539, 1540, 1541, 1542, 1543, 1544, 1545, 1546, 1547, 1548, 1549, 1550, 1551, 1552, 1553, 1554, 1555, 1556, 1557, 1558, 1559, 1560, 1561, 1562, 1563, 1564, 1565, 1566, 1567, 1568, 1569, 1570, 1571, 1572, 1573, 1574, 1575, 1576, 1577, 1578, 1579, 1580, 1581, 1582, 1583, 1584, 1585, 1586, 1587, 1588, 1589, 1590, 1591, 1592, 1593, 1594, 1595, 1596, 1597, 1598, 1599, 1600, 1601, 1602, 1603, 1604, 1605, 1606, 1607, 1608, 1609, 1610, 1611, 1612, 1613, 1614, 1615, 1616, 1617, 1618, 1619, 1620, 1621, 1622, 1623, 1624, 1625, 1626, 1627, 1628, 1629, 1630, 1631, 1632, 1633, 1634, 1635, 1636, 1637, 1638, 1639, 1640, 1641, 1642, 1643, 1644, 1645, 1646, 1647, 1648, 1649, 1650, 1651, 1652, 1653, 1654, 1655, 1656, 1657, 1658, 1659, 1660, 1661, 1662, 1663, 1664, 1665, 1666, 1667, 1668, 1669, 1670, 1671, 1672, 1673, 1674, 1675, 1676, 1677, 1678, 1679, 1680, 1681, 1682, 1683, 1684, 1685, 1686, 1687, 1688, 1689, 1690, 1691, 1692, 1693, 1694, 1695, 1696, 1697, 1698, 1699, 1700, 1701, 1702, 1703, 1704, 1705, 1706, 1707, 1708, 1709, 1710, 1711, 1712, 1713, 1714, 1715, 1716, 1717, 1718, 1719, 1720, 1721, 1722, 1723, 1724, 1725, 1726, 1727, 1728, 1729, 1730, 1731, 1732, 1733, 1734, 1735, 1736, 1737, 1738, 1739, 1740, 1741, 1742, 1743, 1744, 1745, 1746, 1747, 1748, 1749, 1750, 1751, 1752, 1753, 1754, 1755, 1756, 1757, 1758, 1759, 1760, 1761, 1762, 1763, 1764, 1765, 1766, 1767, 1768, 1769, 1770, 1771, 1772, 1773, 1774, 1775, 1776, 1777, 1778, 1779, 1780, 1781, 1782, 1783, 1784, 1785, 1786, 1787, 1788, 1789, 1790, 1791, 1792, 1793, 1794, 1795, 1796, 1797, 1798, 1799, 1800, 1801, 1802, 1803, 1804, 1805, 1806, 1807, 1808, 1809, 1810, 1811, 1812, 1813, 1814, 1815, 1816, 1817, 1818, 1819, 1820, 1821, 1822, 1823, 1824, 1825, 1826, 1827, 1828, 1829, 1830, 1831, 1832, 1833, 1834, 1835, 1836, 1837, 1838, 1839, 1840, 1841, 1842, 1843, 1844, 1845, 1846, 1847, 1848, 1849, 1850, 1851, 1852, 1853, 1854, 1855, 1856, 1857, 1858, 1859, 1860, 1861, 1862, 1863, 1864, 1865, 1866, 1867, 1868, 1869, 1870, 1871, 1872, 1873, 1874, 1875, 1876, 1877, 1878, 1879, 1880, 1881, 1882, 1883, 1884, 1885, 1886, 1887, 1888, 1889, 1890, 1891, 1892, 1893, 1894, 1895, 1896, 1897, 1898, 1899, 1900, 1901, 1902, 1903, 1904, 1905, 1906, 1907, 1908, 1909, 1910, 1911, 1912, 1913, 1914, 1915, 1916, 1917, 1918, 1919, 1920, 1921, 1922, 1923, 1924, 1925, 1926, 1927, 1928, 1929, 1930, 1931, 1932, 1933, 1934, 1935, 1936, 1937, 1938, 1939, 1940, 1941, 1942, 1943, 1944, 1945, 1946, 1947, 1948, 1949, 1950, 1951, 1952, 1953, 1954, 1955, 1956, 1957, 1958, 1959, 1960, 1961, 1962, 1963, 1964, 1965, 1966, 1967, 1968, 1969, 1970, 1971, 1972, 1973, 1974, 1975, 1976, 1977, 1978, 1979, 1980, 1981, 1982, 1983, 1984, 1985, 1986, 1987, 1988, 1989, 1990, 1991, 1992, 1993, 1994, 1995, 1996, 1997, 1998, 1999, 2000, 2001, 2002, 2003, 2004, 2005, 2006, 2007, 2008, 2009, 2010, 2011, 2012, 2013, 2014, 2015, 2016, 2017, 2018, 2019, 2020, 2021, 2022, 2023, 2024, 2025, 2026, 2027, 2028, 2029, 2030, 2031, 2032, 2033, 2034, 2035, 2036, 2037, 2038, 2039, 2040, 2041, 2042, 2043, 2044, 2045, 2046, 2047, 2048, 2049, 2050, 2051, 2052, 2053, 2054, 2055, 2056, 2057, 2058, 2059, 2060, 2061, 2062, 2063, 2064, 2065, 2066, 2067, 2068, 2069, 2070, 2071, 2072, 2073, 2074, 2075, 2076, 2077, 2078, 2079, 2080, 2081, 2082, 2083, 2084, 2085, 2086, 2087, 2088, 2089, 2090, 2091, 2092, 2093, 2094, 2095, 2096, 2097, 2098, 2099, 2100, 2101, 2102, 2103, 2104, 2105, 2106, 2107, 2108, 2109, 2110, 2111, 2112, 2113, 2114, 2115, 2116, 2117, 2118, 2119, 2120, 2121, 2122, 2123, 2124, 2125, 2126, 2127, 2128, 2129, 2130, 2131, 2132, 2133, 2134, 2135, 2136, 2137, 2138, 2139, 2140, 2141, 2142, 2143, 2144, 2145, 2146, 2147, 2148, 2149, 2150, 2151, 2152, 2153, 2154, 2155, 2156, 2157, 2158, 2159, 2160, 2161, 2162, 2163, 2164, 2165, 2166, 2167, 2168, 2169, 2170, 2171, 2172, 2173, 2174, 2175, 2176, 2177, 2178, 2179, 2180, 2181, 2182, 2183, 2184, 2185, 2186, 2187, 2188, 2189, 2190, 2191, 2192, 2193, 2194, 2195, 2196, 2197, 2198, 2199, 2200, 2201, 2202, 2203, 2204, 2205, 2206, 2207, 2208, 2209, 2210, 2211, 2212, 2213, 2214, 2215, 2216, 2217, 2218, 2219, 2220, 2221, 2222, 2223, 2224, 2225, 2226, 2227, 2228, 2229, 2230, 2231, 2232, 2233, 2234, 2235, 2236, 2237, 2238, 2239, 2240, 2241, 2242, 2243, 2244, 2245, 2246, 2247, 2248, 2249, 2250, 2251, 2252, 2253, 2254, 2255, 2256, 2257, 2258, 2259, 2260, 2261, 2262, 2263, 2264, 2265, 2266, 2267, 2268, 2269, 2270, 2271, 2272, 2273, 2274, 2275, 2276, 2277, 2278, 2279, 2280, 2281, 2282, 2283, 2284, 2285, 2286, 2287, 2288, 2289, 2290, 2291, 2292, 2293, 2294, 2295, 2296, 2297, 2298, 2299, 2300, 2301, 2302, 2303, 2304, 2305, 2306, 2307, 2308, 2309, 2310, 2311, 2312, 2313, 2314, 2315, 2316, 2317, 2318, 2319, 2320, 2321, 2322, 2323, 2324, 2325, 2326, 2327, 2328, 2329, 2330, 2331, 2332, 2333, 2334, 2335, 2336], \"y\": [134.67, 137.83499999999998, 141.0, 170.31333333333333, 199.62666666666667, 228.94, 162.0, 135.95, 109.9, 90.44, 91.79, 96.1675, 100.545, 104.9225, 109.3, 117.925, 126.55, 130.13333333333333, 133.71666666666667, 137.3, 150.0, 143.65, 137.3, 139.30666666666667, 141.31333333333333, 143.32, 139.87, 116.75, 107.02, 98.08, 112.89, 112.78, 112.67, 110.92, 113.16, 111.96, 117.9, 115.58, 115.78, 115.98, 107.0, 108.96, 113.36, 117.51, 118.49, 117.27, 117.81, 117.25, 118.45, 123.84, 128.65, 128.98, 130.27, 126.2, 125.99, 130.01, 128.885, 127.76, 128.77, 123.35, 123.22, 120.58, 120.98, 118.78, 110.17, 109.11, 100.17, 104.21, 107.35, 106.1, 101.86, 102.02285714285713, 102.18571428571428, 102.34857142857142, 102.51142857142857, 102.6742857142857, 102.83714285714285, 103.0, 101.29, 100.0, 100.4, 98.83, 97.57, 94.77999999999999, 91.99, 89.2, 87.27, 85.34, 83.41, 88.04, 77.33, 79.4, 67.13, 70.55, 73.97, 74.0, 75.0, 86.13, 88.16, 90.19, 91.67, 92.715, 93.76, 91.61, 90.96, 85.0, 85.24333333333334, 85.48666666666666, 85.73, 85.59, 86.88, 88.42, 89.195, 89.97, 88.16, 90.805, 93.45, 94.50999999999999, 95.57, 96.63, 95.82, 96.1, 96.38, 97.03999999999999, 97.7, 97.09, 94.26, 94.53750000000001, 94.815, 95.0925, 95.37, 96.43857142857142, 97.50714285714287, 98.57571428571427, 99.6442857142857, 100.71285714285713, 101.78142857142856, 102.85, 104.94, 107.03, 109.12, 107.91, 109.15, 110.5, 111.85, 114.20333333333332, 116.55666666666666, 118.91, 123.405, 127.9, 130.65, 129.4, 125.525, 121.65, 122.0, 116.56, 118.26666666666667, 119.97333333333333, 121.68, 124.61000000000001, 127.54, 127.625, 127.71, 126.535, 125.36, 126.28, 126.64, 127.0, 125.79333333333332, 124.58666666666666, 123.38, 123.095, 122.81, 123.065, 123.32, 125.13499999999999, 126.95, 127.04, 127.13, 127.22, 127.31, 103.85, 112.895, 121.94, 121.25, 122.49, 123.5, 124.5, 125.79, 126.38666666666666, 126.98333333333332, 127.58, 131.505, 135.43, 142.75, 137.54, 143.94, 152.89, 166.0, 166.6, 179.04666666666665, 191.4933333333333, 203.94, 194.0, 194.655, 195.31, 195.965, 196.62, 197.10000000000002, 197.58, 203.54, 202.14, 204.86, 210.0, 227.29, 242.9, 266.95, 291.0, 333.9, 341.24, 323.0, 343.63, 354.94, 393.5, 416.88, 412.07, 434.53, 478.1, 669.0, 536.01, 600.0, 720.0, 774.575, 829.15, 800.01, 811.95, 915.01, 963.98, 1012.0, 1131.99, 1119.52, 955.0, 1037.11, 1055.0, 1135.0, 1020.51, 809.72, 693.3, 787.0, 899.91, 979.07, 879.04, 871.22, 888.47, 850.78, 861.98, 690.5, 675.0, 520.0, 685.1, 610.0, 595.07, 612.66, 654.76, 653.57, 679.01, 747.83, 723.98, 715.0, 725.755, 736.51, 732.0, 758.095, 784.19, 806.49, 828.79, 905.0, 915.8, 785.0, 823.94, 825.5, 851.63, 895.0, 844.04, 823.99, 815.99, 841.14, 814.4, 796.97, 810.0, 841.5, 826.02, 822.61, 819.2, 810.95, 812.1899999999999, 813.4299999999998, 814.67, 750.95, 785.51, 794.21, 800.55, 806.89, 813.23, 814.94, 806.99, 793.5, 780.01, 764.0, 705.01, 680.49, 684.415, 688.34, 669.19, 650.04, 609.4, 632.615, 655.83, 621.0, 624.35, 627.7, 623.01, 561.86, 581.35, 610.77, 609.9, 535.49, 534.34, 585.24, 568.52, 551.8, 558.5899999999999, 565.38, 677.69, 673.27, 669.0, 669.57, 632.79, 635.595, 638.4, 639.055, 639.71, 640.365, 641.02, 639.01, 637.0, 634.99, 622.6425, 610.2950000000001, 597.9475, 585.6, 569.99, 564.31, 558.22, 585.9, 583.77, 581.48, 475.0, 502.01, 491.99, 473.4, 454.81, 478.98, 438.9, 451.03, 450.0, 464.8, 459.97, 447.11, 444.4, 441.69, 363.1, 423.0, 424.91, 416.29, 459.99, 523.1, 529.26, 500.09, 482.1, 487.3933333333333, 492.68666666666667, 497.98, 490.0, 496.075, 502.15, 466.71, 459.22, 430.0, 436.33333333333326, 442.66666666666663, 449.0, 460.97, 449.985, 439.0, 435.88, 432.44, 429.0, 430.734, 432.46799999999996, 434.202, 435.936, 437.67, 442.48, 443.275, 444.07, 446.27, 447.55, 447.23, 446.91, 467.95500000000004, 489.0, 493.98, 529.99, 523.75, 548.625, 573.5, 581.87, 572.7, 580.66, 600.8299999999999, 621.0, 625.995, 630.99, 662.0, 668.9, 640.55, 661.46, 647.16, 657.13, 658.0, 648.83, 648.55, 623.81, 569.98, 592.0, 566.58, 592.0, 587.0, 606.48, 607.99, 593.41, 590.0, 591.33, 600.34, 588.22, 574.0, 560.4, 580.09, 599.99, 591.46, 599.86, 640.0, 638.25, 650.49, 648.48, 628.81, 630.9, 633.87, 622.09, 623.98, 621.96, 616.87, 634.99, 637.9, 630.88, 621.15, 622.9, 617.39, 626.3, 632.59, 630.0, 626.98, 622.63, 619.99, 620.95, 603.96, 602.93, 596.23, 592.61, 589.88, 585.93, 563.83, 583.54, 597.84, 589.6, 588.96, 588.5, 581.75, 581.16, 585.84, 588.99, 589.82, 590.98, 574.55, 569.39, 549.85, 507.99, 502.48, 523.47, 498.0, 474.74, 491.98, 516.39, 519.29, 514.65, 496.96, 507.84, 503.74, 514.4, 511.87, 506.94, 509.3, 501.49, 479.01, 475.89, 474.5, 474.86, 489.61, 477.65, 479.99, 477.4, 468.32, 473.34, 477.78, 477.43, 473.08, 477.99, 475.47, 469.47, 463.48, 452.99, 426.62, 395.86, 410.92, 400.77, 399.77, 440.85, 423.57, 410.0, 405.08, 399.16, 375.35, 374.17, 389.56, 384.85, 376.29, 358.71, 326.24, 322.82, 328.56, 334.8, 355.73, 364.01, 360.85, 362.77, 378.48, 392.99, 402.01, 394.52, 384.19, 383.2, 390.59, 389.06, 381.0, 385.79, 382.05, 356.81, 358.78, 348.69, 355.19, 351.03, 355.71, 336.37, 346.14, 337.99, 324.55, 324.23, 326.45, 329.96, 338.37, 349.99, 342.16, 346.19, 365.37, 366.43, 370.09, 426.64, 417.85, 399.97, 376.97, 389.86, 388.72, 374.87, 379.04, 356.47, 351.19, 354.29, 367.17, 375.99, 377.05, 368.5, 369.98, 376.0, 375.48, 376.09, 376.53, 379.52, 376.61, 369.89, 376.0, 375.05, 376.03, 362.74, 352.02, 345.22, 348.88, 353.33, 351.67, 357.3, 348.85, 329.05, 321.96, 312.65, 318.58, 331.77, 320.88, 332.52, 336.9, 323.03, 319.85, 329.31, 323.475, 317.64, 313.36, 311.1, 321.0, 318.21000000000004, 315.42, 280.0, 264.55, 270.418, 276.28599999999994, 282.154, 288.02199999999993, 293.89, 275.6, 266.34, 267.1, 227.01, 172.0, 210.69, 208.02, 199.69, 207.85, 216.01, 211.94, 227.75, 234.08, 241.705, 249.33, 254.67, 274.76, 263.97, 236.07, 235.12, 228.96, 218.04, 226.93, 238.38, 232.655, 226.93, 216.46, 223.44, 223.68, 223.92, 220.91, 220.42, 219.57, 223.02, 237.0, 256.81, 235.61, 234.69, 236.6633333333333, 238.63666666666666, 240.61, 240.365, 240.12, 239.875, 239.63, 242.39399999999998, 245.15799999999996, 247.92199999999997, 250.68599999999995, 253.45, 262.6433333333333, 271.8366666666666, 281.03, 270.72, 273.46, 272.61, 276.71, 281.91499999999996, 287.12, 290.0, 296.29, 295.66, 283.25, 282.36, 285.815, 289.27, 282.8, 256.59, 261.97, 261.92, 260.0, 268.28, 265.98, 245.29, 246.99, 249.23, 247.93, 252.91, 250.43, 247.95, 247.315, 246.68, 253.22, 254.19, 254.64, 255.08999999999997, 255.54, 253.71, 244.84, 243.75, 239.92000000000002, 236.09, 236.42, 222.97, 215.78, 222.83, 222.715, 222.6, 223.35, 222.54, 224.3, 235.71, 233.25, 235.61, 231.04, 226.12, 226.64499999999998, 227.17, 225.18, 230.825, 236.47, 231.05, 233.83, 239.73, 238.22, 235.18, 228.34, 236.92, 243.22, 241.83, 241.565, 241.3, 238.635, 235.97, 235.89999999999998, 235.82999999999998, 235.76, 235.69, 233.03, 231.4, 234.4, 235.0, 235.14199999999997, 235.284, 235.426, 235.56799999999998, 235.71, 235.32, 233.7175, 232.115, 230.5125, 228.91, 223.5, 225.17, 224.8, 222.99, 223.97, 224.95, 222.65, 224.39333333333332, 226.13666666666666, 227.88, 229.14, 230.39, 231.64, 232.08, 236.0, 241.88, 247.76, 245.755, 243.75, 244.65, 243.6, 245.99, 243.85, 240.19, 242.08, 246.68, 251.28, 253.66000000000003, 256.04, 262.58, 260.40666666666664, 258.2333333333333, 256.06, 263.725, 271.39, 268.53, 265.67, 267.32500000000005, 268.98, 274.87, 280.76, 286.65000000000003, 292.54, 287.49, 285.67, 282.6933333333333, 279.7166666666667, 276.74, 277.845, 278.95, 276.49, 277.5, 283.25, 289.0, 290.925, 292.85, 294.03, 291.94, 289.85, 288.6042857142857, 287.35857142857145, 286.11285714285714, 284.8671428571428, 283.62142857142857, 282.37571428571425, 281.13, 280.53499999999997, 279.94, 262.19, 263.15, 264.11, 271.15, 267.53, 266.54999999999995, 265.57, 261.46, 248.9733333333333, 236.48666666666662, 224.0, 229.575, 235.15, 233.075, 231.0, 228.12666666666667, 225.25333333333333, 222.38, 225.8, 225.09, 231.76, 230.41, 229.04, 230.25, 227.97, 227.60500000000002, 227.24, 230.72, 235.5, 240.28, 240.07, 244.04, 238.35, 237.1633333333333, 235.97666666666663, 234.79, 232.315, 229.84, 229.99, 228.34, 228.89333333333332, 229.44666666666666, 230.0, 228.075, 226.15, 230.08, 229.42, 233.88, 235.14, 233.81, 236.475, 239.14, 236.78, 235.87, 236.82, 237.77, 239.06, 238.6, 239.78499999999997, 240.97, 242.15499999999997, 243.34, 244.52499999999998, 245.71, 248.05, 245.81, 249.14, 252.47, 257.78, 263.09, 270.04, 267.15999999999997, 264.28, 270.3, 267.9, 275.21, 278.6, 283.03, 283.96, 289.88, 295.8, 305.67, 314.95, 328.28, 310.9, 325.78, 361.73, 404.55, 407.99, 387.77, 374.41, 383.62, 372.86, 378.02, 335.02, 309.95, 337.0, 336.98, 328.135, 319.29, 330.82, 336.0, 335.68, 326.51, 322.04, 326.5, 324.2, 321.95, 319.7, 328.9, 353.9, 357.42, 356.78, 371.2, 376.7, 367.905, 359.11, 361.48, 363.62, 388.0, 388.54, 395.57, 416.67, 416.69, 415.57, 453.12, 436.08, 433.13, 448.83, 464.53, 455.61, 457.7033333333333, 459.7966666666666, 461.89, 450.015, 438.14, 435.65, 431.015, 426.38, 421.745, 417.11, 421.78, 420.81, 431.7, 426.09, 430.48, 434.87, 433.2, 431.54, 433.31, 432.45, 429.99, 456.87, 452.02, 448.84, 448.2, 448.0, 434.78, 432.64, 396.63, 360.62, 387.8, 384.16666666666663, 380.5333333333333, 376.9, 418.9, 409.42, 382.85, 386.37, 388.235, 390.1, 391.77, 394.62, 379.55, 378.12, 376.38, 368.49, 368.46, 368.42999999999995, 368.4, 388.0, 381.695, 375.39, 375.0, 370.95, 375.145, 379.34, 377.98, 383.0, 390.99, 405.5, 408.8633333333333, 412.2266666666666, 415.59, 421.15, 419.98, 434.63, 438.33, 438.26, 419.1, 423.79, 423.38, 432.0, 431.13, 430.26, 436.75, 433.33, 422.4, 420.29, 408.18, 407.16499999999996, 406.15, 413.96, 412.14, 412.99, 416.0, 419.14, 409.95, 412.99, 414.83, 415.84, 416.52, 418.47, 407.5, 408.36, 410.62, 413.505, 416.39, 417.62, 415.17, 415.6, 416.96, 424.62, 422.87, 415.43, 413.68, 414.66, 416.31, 419.35, 418.51, 418.81, 422.71, 421.35, 419.99, 417.75, 418.59, 420.4, 422.79, 425.32, 423.6, 424.4, 427.28999999999996, 430.18, 427.15, 428.14, 435.7, 441.99, 451.0, 447.16, 451.92, 460.03, 462.29, 467.39, 445.39, 449.94, 456.53, 455.1925, 453.855, 452.5175, 451.18, 447.36, 448.5, 458.98, 458.97, 457.75, 461.49, 450.88, 452.95, 455.2, 456.42, 456.99, 457.56, 454.0, 452.96, 452.47, 436.3, 442.84, 442.72, 438.72, 442.63, 445.77666666666664, 448.9233333333333, 452.07, 470.58, 522.13, 517.6, 524.05, 530.5, 536.95, 549.1333333333333, 561.3166666666666, 573.5, 578.81, 584.12, 583.565, 583.01, 592.0066666666667, 601.0033333333333, 610.0, 656.905, 703.81, 685.25, 695.0, 767.37, 745.0, 752.06, 759.12, 725.0, 665.36, 600.51, 622.59, 660.76, 658.8, 630.16, 657.49, 644.33, 635.91, 666.33, 684.405, 702.48, 690.61, 678.74, 676.72, 674.7, 638.89, 663.0, 647.78, 648.77, 656.145, 663.52, 652.24, 660.3, 664.6, 667.1500000000001, 669.7, 672.25, 674.8, 667.01, 663.25, 647.88, 655.52, 655.4225, 655.325, 655.2275, 655.13, 654.84, 654.88, 638.8666666666667, 622.8533333333334, 606.84, 540.0, 559.0699999999999, 578.14, 572.98, 589.47, 587.2166666666667, 584.9633333333334, 582.71, 590.46, 585.25, 585.34, 583.54, 568.76, 564.2, 574.95, 570.91, 571.9449999999999, 572.98, 577.7, 577.55, 582.78, 580.27, 577.65, 575.75, 577.92, 567.51, 573.2, 570.74, 570.745, 570.75, 571.375, 572.0, 596.25, 605.72, 604.98, 608.93, 617.3, 625.67, 622.01, 621.65, 604.08, 606.4, 607.45, 607.05, 606.65, 604.79, 602.93, 608.0, 604.425, 600.85, 598.135, 595.42, 600.47, 600.05, 598.95, 606.7, 605.07, 605.33, 605.59, 609.2850000000001, 612.98, 612.9100000000001, 612.84, 613.3442857142857, 613.8485714285714, 614.3528571428571, 614.8571428571429, 615.3614285714286, 615.8657142857143, 616.37, 638.3, 636.73, 635.16, 633.9399999999999, 632.7199999999999, 631.4999999999999, 630.28, 629.06, 627.84, 628.05, 628.99, 654.52, 651.775, 649.03, 658.25, 667.47, 676.69, 685.91, 711.1, 704.0699999999999, 697.04, 726.6, 742.0, 684.84, 702.95, 703.33, 709.92, 702.86, 708.17, 721.5, 714.48, 716.39, 701.17, 700.38, 704.98, 711.07, 739.71, 736.0, 733.03, 730.06, 727.09, 738.11, 749.13, 740.18, 735.63, 736.96, 732.1400000000001, 727.32, 732.2333333333333, 737.1466666666665, 742.06, 751.55, 770.91, 762.97, 762.0, 749.51, 758.97, 764.05, 765.28, 766.51, 767.74, 768.97, 777.0, 777.015, 777.03, 776.3, 781.32, 784.83, 788.34, 793.585, 798.83, 828.885, 858.94, 914.48, 892.61, 890.65, 897.82, 937.1500000000001, 976.48, 969.99, 959.54, 978.645, 997.75, 1011.44, 1035.51, 1114.38, 1004.73, 894.02, 906.2, 909.8, 896.09, 905.24, 778.7, 807.51, 825.98, 819.52, 821.86, 831.76, 905.95, 887.69, 902.23, 895.81, 921.98, 923.75, 913.15, 885.47, 893.25, 914.95, 918.02, 918.6, 913.12, 919.99, 963.99, 983.79, 1009.15, 1015.06, 1033.72, 1010.03, 1024.0, 1052.48, 1051.73, 985.71, 995.49, 1011.01, 1005.875, 1000.74, 1008.88, 1011.53, 1032.91, 1055.75, 1053.775, 1051.8, 1084.0, 1107.01, 1130.02, 1183.53, 1180.05, 1152.11, 1180.46, 1194.64, 1191.16, 1228.0, 1238.6666666666665, 1249.3333333333333, 1260.0, 1269.98, 1278.49, 1233.86, 1149.34, 1190.99, 1111.55, 1176.58, 1226.42, 1242.46, 1245.82, 1258.75, 1172.0, 1068.16, 969.4, 1012.88, 1036.23, 1114.39, 1037.6, 1030.84, 928.1, 956.02, 959.08, 1039.09, 1042.83, 1037.29, 1054.315, 1071.34, 1083.95, 1076.59, 1146.42, 1143.0, 1134.86, 1190.72, 1190.66, 1197.93, 1205.2, 1209.99, 1218.99, 1212.16, 1172.56, 1169.53, 1171.0, 1162.31, 1176.59, 1202.59, 1203.98, 1234.93, 1243.6, 1231.85, 1245.0333333333333, 1258.2166666666667, 1271.4, 1287.92, 1331.0, 1333.93, 1336.77, 1348.88, 1390.86, 1447.75, 1503.25, 1537.36, 1545.6999999999998, 1554.04, 1554.38, 1649.55, 1720.26, 1775.5549999999998, 1830.85, 1690.33, 1776.8, 1782.3, 1706.07, 1700.01, 1779.0, 1879.0, 1959.09, 2013.99, 2017.55, 2088.76, 2265.9, 2420.29, 2277.01, 2280.7, 2042.89, 2172.54, 2290.18, 2201.7, 2298.01, 2413.58, 2488.94, 2538.1, 2530.27, 2698.0, 2875.71, 2680.24, 2805.46, 2818.0, 2899.01, 2954.23, 2656.97, 2705.99, 2451.42, 2424.96, 2484.68, 2630.06, 2516.98, 2598.0, 2734.03, 2658.67, 2713.48, 2685.05, 2557.66, 2502.26, 2421.21, 2565.0, 2550.99, 2538.41, 2465.48, 2421.3, 2504.81, 2540.07, 2594.52, 2598.37, 2599.01, 2501.46, 2550.13, 2504.0, 2326.12, 2301.55, 2383.97, 2340.0, 2209.44, 1970.51, 1917.72, 2226.0, 2308.82, 2265.51, 2880.0, 2667.01, 2824.82, 2756.8, 2759.95, 2564.74, 2524.99, 2666.33, 2777.01, 2681.6, 2745.76, 2855.81, 2732.0, 2703.51, 2793.34, 2851.01, 3263.51, 3216.78, 3387.54, 3408.46, 3342.99, 3410.0, 3651.74, 3855.04, 4053.87, 4320.95, 4154.99, 4361.99, 4260.47, 4100.0, 4091.99, 4058.64, 3987.51, 4078.0, 4121.78, 4308.8, 4348.17, 4333.38, 4329.91, 4385.0, 4578.82, 4573.15, 4734.26, 4921.71, 4599.9, 4603.68, 4282.53, 4397.38, 4605.81, 4615.0, 4327.41, 4322.44, 4226.21, 4198.89, 4170.6, 3861.89, 3227.79, 3699.89, 3669.07, 3662.95, 4102.0, 3888.8, 3864.0, 3607.83, 3611.91, 3781.13, 3667.01, 3920.66, 3883.95, 4202.34, 4183.47, 4162.04, 4326.09, 4369.33, 4391.41, 4315.73, 4219.74, 4301.09, 4356.09, 4422.72, 4597.97, 4761.67, 4747.9, 4822.01, 5444.0, 5653.58, 5795.01, 5683.92, 5752.2, 5591.97, 5572.64, 5700.0, 5977.26, 6010.85, 5967.38, 5869.82, 5518.49, 5741.35, 5889.99, 5773.03, 5731.7, 6133.01, 6120.0, 6434.24, 6745.04, 7030.0, 7145.24, 7388.79, 7373.3, 6967.64, 7131.38, 7465.06, 7150.61, 6588.18, 6355.13, 5870.03, 6524.69, 6609.0, 7294.0, 7846.96, 7675.0, 7775.55, 8016.58, 8226.14, 8095.19, 8214.69, 7988.96, 8199.83, 8718.0, 9278.99, 9708.06, 9877.63, 9833.7, 9927.29, 10840.45, 10875.68, 11250.0, 11613.07, 11676.99, 13623.0, 16599.99, 15799.87, 14601.01, 14690.99, 16470.0, 16650.01, 16245.02, 16404.99, 17477.98, 19187.78, 18953.0, 18940.58, 17700.0, 16466.98, 15600.0, 13980.0, 14619.0, 14107.87, 13925.5, 15764.45, 15390.05, 14436.99, 14351.0, 12640.0, 13880.0, 13394.2, 14670.96, 15155.62, 15143.67, 16927.99, 17142.43, 16173.98, 14999.99, 14403.51, 14899.99, 13249.99, 13829.28, 14197.78, 13647.99, 13581.66, 11393.97, 11199.0, 11290.9, 11560.82, 12782.99, 11558.87, 10810.0, 10848.99, 11400.98, 11140.01, 11093.74, 11446.54, 11685.58, 11162.62, 9971.0, 10148.99, 9010.87, 8838.29, 9225.31, 8190.78, 6878.65, 7737.26, 7588.01, 8259.42, 8693.98, 8560.0, 8077.25, 8891.2, 8504.57, 9490.98, 10011.3, 10203.14, 11101.0, 10433.68, 11159.12, 11233.42, 10446.79, 9843.33, 10135.2, 9688.26, 9595.99, 10329.99, 10572.49, 10314.99, 10917.37, 11032.81, 11445.0, 11479.68, 11417.39, 10723.01, 9904.52, 9293.06, 9228.83, 8795.04, 9535.04, 9115.24, 9152.07, 8195.99, 8265.05, 8258.54, 7860.83, 8205.55, 8596.79, 8904.02, 8892.18, 8708.52, 8917.99, 8541.96, 8451.12, 8152.26, 7791.69, 7932.41, 7086.14, 6839.63, 6926.5, 6816.31, 7052.75, 7415.53, 6799.37, 6771.3, 6627.7, 6904.21, 7027.26, 6782.39, 6824.75, 6940.94, 7923.78, 7885.9, 8003.39, 8353.43, 8054.68, 7890.87, 8172.83, 8273.0, 8865.78, 8924.93, 8781.7, 8942.0, 9648.36, 8855.07, 9277.32, 8916.54, 9352.97, 9396.32, 9243.51, 9066.9, 9220.0, 9737.0, 9689.0, 9827.04, 9621.99, 9356.79, 9181.52, 9308.49, 9007.19, 8408.79, 8481.72, 8696.54, 8674.53, 8481.99, 8337.77, 8058.16, 8248.99, 8225.55, 8518.64, 8403.23, 7983.98, 7509.99, 7579.3, 7459.21, 7335.99, 7348.64, 7112.2, 7469.45, 7375.64, 7492.28, 7511.72, 7642.0, 7712.97, 7494.99, 7617.98, 7658.99, 7676.41, 7618.11, 7498.0, 6781.17, 6880.76, 6557.66, 6308.49, 6638.8, 6390.6, 6487.92, 6451.03, 6711.3, 6728.44, 6756.6, 6718.33, 6055.17, 6169.91, 6153.6, 6252.28, 6073.99, 6135.64, 5845.2, 6204.01, 6385.75, 6345.48, 6605.46, 6507.99, 6575.62, 6533.69, 6604.74, 6755.46, 6706.6, 6666.75, 6304.45, 6379.13, 6243.53, 6208.78, 6245.99, 6353.25, 6721.21, 7310.71, 7384.92, 7474.35, 7330.84, 7398.16, 7393.5, 7712.46, 8394.48, 8174.06, 7926.0, 8177.72, 8231.07, 8216.74, 8162.28, 7726.85, 7600.22, 7535.0, 7416.98, 7009.94, 7028.89, 6932.18, 6717.67, 6283.89, 6544.98, 6139.99, 6240.49, 6311.99, 6252.63, 6194.3, 6273.34, 6314.08, 6578.13, 6397.37, 6481.63, 6260.83, 6478.99, 6355.97, 6525.99, 6692.99, 6732.99, 6700.13, 6911.7, 7079.46, 7031.9, 6984.34, 7015.78, 7153.86, 7291.94, 7261.29, 7353.48, 6671.95, 6488.01, 6401.01, 6178.31, 6238.99, 6303.99, 6274.6, 6326.83, 6482.95, 6476.51, 6487.895, 6499.28, 6251.49, 6330.0, 6388.4, 6492.98, 6748.85, 6710.01, 6703.37, 6578.7, 6428.09, 6454.32, 6684.5, 6609.02, 6574.29, 6597.79, 6548.895, 6500.0, 6454.81, 6548.83, 6582.11, 6547.93, 6574.15, 6604.76, 6588.72, 6517.55, 6152.76, 6182.03, 6201.23, 6185.04, 6438.2, 6457.67, 6440.07, 6394.23, 6380.47, 6412.86, 6412.62, 6409.39, 6396.24, 6411.96, 6393.38, 6406.1, 6407.66, 6404.27, 6266.47, 6285.485000000001, 6304.5, 6343.85, 6371.9766666666665, 6400.103333333333, 6428.23, 6404.97, 6448.17, 6501.0, 6405.49, 6325.0, 6338.785, 6352.57, 6318.01, 6255.86, 5592.23, 5571.12, 5537.24, 5503.36, 5553.01, 4732.92, 4349.41, 4551.47, 4268.4, 4288.25, 3780.67, 3934.22, 3727.34, 3771.01, 4219.77, 4250.0, 3970.56, 4140.4, 4099.63, 3830.81, 3903.52, 3694.03, 3437.22, 3376.27, 3398.8, 3528.68, 3406.41, 3345.01, 3430.2, 3263.55, 3194.04, 3180.84, 3191.41, 3499.37, 3667.16, 3684.03, 4073.58, 3842.59, 3977.65, 3947.82, 4034.54, 3780.0, 3810.01, 3590.26, 3884.66, 3728.96, 3831.03, 3693.85, 3825.41, 3890.27, 3785.64, 3822.0, 3795.38, 4040.71, 4005.0, 3994.75, 4003.09, 3627.65, 3631.0, 3617.75, 3517.03, 3664.28, 3576.92, 3609.5, 3638.01, 3609.29, 3680.0, 3537.42, 3531.51, 3574.44, 3553.2, 3570.67, 3560.94, 3555.31, 3532.23, 3431.43, 3391.25, 3438.0, 3413.69, 3434.83, 3470.5, 3413.75, 3409.81, 3431.81, 3364.0, 3358.39, 3626.12, 3622.74, 3651.32, 3588.99, 3585.7, 3575.01, 3560.45, 3566.29, 3580.43, 3625.6, 3870.97, 3889.92, 3936.8, 3900.64, 3939.83, 4113.56, 3733.78, 3817.93, 3794.42, 3796.49, 3791.02, 3805.0, 3810.47, 3789.7, 3698.65, 3844.07, 3851.26, 3846.2650000000003, 3841.27, 3916.42, 3898.14, 3848.86, 3861.37, 3848.1, 3857.33, 3899.19, 3990.0, 3965.63, 3969.94, 3999.5, 4033.7, 3974.5, 3980.4, 3979.19, 3970.23, 3910.0, 3922.58, 4025.5, 4011.0, 4090.0, 4094.92, 4092.02, 4133.93, 4899.01, 4972.83, 4911.14, 5041.0, 5041.92, 5192.92, 5287.97, 5184.03, 5323.47, 5037.82, 5075.74, 5064.0, 5160.54, 5027.33, 5201.47, 5227.6, 5283.0, 5289.91, 5318.94, 5295.96, 5388.22, 5531.29, 5440.95, 5132.5, 5154.11, 5171.51, 5152.98, 5150.21, 5267.86, 5322.28, 5385.0, 5659.82, 5766.46, 5714.4, 5686.88, 5751.54, 5945.32, 6151.66, 6338.93, 7214.4, 6968.84, 7810.72, 7991.72, 8203.97, 7879.28, 7352.39, 7257.82, 8193.45, 8007.67, 7949.18, 7622.9, 7880.4, 7999.02, 8066.15, 8733.27, 8774.45, 8715.35, 8663.07, 8277.76, 8545.8, 8560.1, 8735.84, 8103.63, 7673.41, 7784.62, 7801.97, 8002.68, 7933.17, 7629.98, 8017.99, 7915.7, 8171.12, 8235.44, 8694.74, 8857.19, 8973.02, 9333.48, 9076.51, 9280.17, 9534.99, 10222.13, 10665.66, 10827.23, 11030.0, 11760.0, 12927.44, 11153.73, 12354.45, 11867.35, 10759.24, 10581.78, 10830.1, 11970.0, 11144.82, 10996.82, 11233.21, 11478.43, 12299.94, 12574.88, 12101.44, 11352.74, 11811.08, 11382.03, 10191.87, 10848.27, 9427.45, 9712.15, 10638.44, 10533.71, 10757.15, 10605.03, 10315.87, 9841.42, 9781.52, 9886.08, 9846.94, 9467.84, 9538.73, 9508.21, 9592.26, 10096.01, 10416.79, 10529.51, 10812.58, 10986.55, 11800.0, 11471.58, 11973.46, 11985.6, 11859.32, 11273.03, 11527.44, 11380.61, 10862.25, 10022.5, 10294.9, 10351.18, 10221.94, 10318.99, 10927.3, 10778.75, 10123.56, 10112.45, 10401.87, 10149.38, 10136.75, 10355.11, 10171.39, 9720.2, 9490.56, 9569.3, 9593.5, 9767.56, 10384.07, 10617.72, 10586.26, 10573.04, 10309.04, 10497.57, 10387.33, 10317.62, 10093.39, 10163.81, 10423.99, 10365.81, 10362.52, 10309.86, 10257.2, 10182.96, 10161.59, 10284.72, 10169.02, 9973.0, 10022.38, 9685.69, 8536.71, 8443.44, 8055.25, 8199.96, 8218.07, 8060.13, 8304.47, 8326.41, 8377.68, 8243.39, 8157.89, 8150.73, 7863.75, 8211.04, 8185.85, 8586.57, 8589.08, 8265.16, 8303.43, 8278.39, 8353.33, 8162.45, 7995.73, 8069.26, 7950.48, 7965.39, 8236.49, 8206.53, 8021.57, 7470.77, 7427.0, 8677.09, 9262.72, 9547.32, 9216.39, 9426.94, 9169.55, 9158.08, 9250.7, 9304.75, 9207.0, 9410.76, 9319.1, 9346.02, 9209.3, 8760.38, 8806.85, 9029.88, 8720.36, 8817.0, 8765.53, 8632.07, 8459.38, 8485.61, 8499.53, 8176.9, 8124.08, 8085.54, 7612.23, 7276.21, 7330.98, 6900.9, 7127.12, 7168.74, 7517.82, 7429.32, 7753.69, 7560.2, 7411.75, 7317.94, 7299.2, 7199.58, 7397.35, 7535.46, 7505.86, 7516.8, 7332.05, 7224.5, 7208.95, 7185.15, 7255.94, 7066.35, 7115.08, 6882.08, 6619.53, 7286.91, 7157.53, 7194.13, 7147.4, 7521.88, 7317.47, 7247.45, 7195.8, 7195.17, 7247.7, 7297.43, 7372.79, 7222.74, 7160.69, 7174.7, 6945.7, 7332.58, 7356.05, 7352.12, 7768.17, 8151.79, 8048.94, 7812.7, 8200.0, 8008.1, 8180.75, 8105.01, 8813.2, 8810.62, 8715.39, 8898.03, 8901.02, 8698.97, 8629.66, 8728.47, 8661.63, 8382.08, 8435.83, 8320.0, 8600.0, 8894.57, 9386.57, 9280.83, 9510.84, 9339.26, 9379.6, 9309.69, 9281.0, 9168.49, 9617.84, 9754.63, 9803.71, 9907.7, 10173.51, 9851.99, 10270.98, 10348.78, 10229.19, 10364.04, 9909.71, 9925.96, 9725.57, 10190.3, 9589.1, 9610.4, 9696.13, 9664.08, 9969.79, 9664.87, 9305.4, 8778.37, 8816.5, 8710.0, 8525.0, 8516.0, 8917.34, 8755.45, 8757.79, 9059.0, 9154.1, 8901.12, 8035.79, 7937.2, 7893.63, 7956.29, 4841.67, 5623.16, 5167.38, 5353.04, 5051.41, 5340.95, 5413.0, 6192.94, 6207.66, 6199.17, 5816.57, 6494.7, 6768.64, 6695.47, 6765.15, 6376.03, 6275.11, 5878.47, 6408.95, 6428.74, 6669.95, 6789.63, 6737.36, 6887.22, 6780.57, 7335.85, 7204.78, 7370.85, 7299.12, 6866.03, 6882.75, 6908.21, 6864.66, 6868.88, 6619.0, 7121.35, 7020.13, 7265.94, 7124.27, 6833.0, 6850.6, 7138.29, 7494.2, 7518.81, 7613.84, 7708.87, 7794.22, 7762.07, 8789.79, 8629.72, 8836.0, 8982.56, 8924.14, 8889.24, 9040.0, 9163.63, 10008.19, 9809.04, 9527.31, 8740.88, 8574.19, 8816.99, 9323.73, 9809.91, 9307.43, 9377.79, 9672.95, 9730.0, 9776.3, 9505.61, 9062.25, 9171.96, 9183.93, 8710.12, 8903.22, 8835.79, 9209.99, 9581.49, 9428.52, 9705.1, 9444.61, 10203.64, 9522.52, 9668.0, 9791.0, 9616.17, 9673.08, 9759.04, 9786.64, 9782.3, 9894.32, 9265.95, 9465.92, 9478.93, 9329.99, 9435.41, 9447.615, 9459.82, 9374.83, 9287.6, 9355.93, 9287.89, 9688.26, 9617.88, 9286.3, 9237.98, 9158.13, 9008.33, 9118.8, 9187.85, 9136.89, 9114.285, 9091.68, 9053.87, 9142.16, 9077.18, 9346.9, 9257.21, 9441.76, 9234.91, 9291.0, 9234.07, 9304.94, 9234.19, 9256.33, 9191.0, 9134.44, 9150.51, 9175.7, 9213.15, 9161.77, 9395.98, 9537.23, 9614.85, 9549.34, 9712.45, 10380.925, 11049.4, 10931.91, 11105.01, 11110.84, 11357.98, 11808.21, 11074.92, 11236.39, 11193.48, 11759.9, 11770.26, 11601.75, 11767.93, 11684.6, 11896.37, 11386.5, 11567.74, 11797.55, 11771.97, 11858.6, 11916.83, 12301.27, 11950.0, 11762.18, 11857.18, 11527.81, 11678.17, 11653.7, 11750.4, 11328.5, 11462.91, 11332.26, 11538.74, 11471.71, 11713.11, 11658.48, 11919.53, 11395.1, 10160.0, 10460.2, 10165.47, 10258.43, 10377.5, 10126.01, 10221.76, 10341.38, 10400.46, 10446.4, 10338.82, 10671.4, 10785.0, 10950.15, 10947.35, 10935.49, 10928.51, 10921.53, 10418.83, 10525.72, 10236.86, 10738.46, 10694.23, 10731.09, 10779.99, 10681.41, 10840.0, 10780.83, 10611.17, 10571.6, 10543.17, 10666.16, 10797.36, 10602.31, 10669.1, 10927.02, 11060.46, 11300.97, 11372.48, 11539.42, 11440.28, 11430.49, 11506.53, 11331.88, 11425.23, 11518.58, 11759.2, 11921.33, 12802.63, 12983.26, 12940.03, 12990.575, 13041.12, 13065.1, 13642.31, 13275.82, 13456.14, 13569.42, 13799.44, 13762.0, 13578.82, 14041.58, 14168.49, 15608.32, 15603.28, 14829.32, 15484.68, 15349.32, 15314.94, 15702.0, 16300.0, 16339.06, 16092.8, 15975.49, 16727.85, 17681.77, 17792.96, 17822.37, 18685.08, 18726.43, 18432.6, 18386.92, 19175.13, 18727.24, 17168.31, 17160.38, 17724.41, 18196.75, 19703.53, 18773.21, 19220.09, 19439.94, 18650.08, 19162.17, 19385.13, 19183.13, 18311.31, 18546.38, 18250.3, 18031.23, 18806.83, 19151.82, 19274.33, 19434.55, 21358.96, 22829.89, 23142.05, 23842.38, 23470.85, 22750.07, 23819.08, 23215.0, 23747.22, 24714.01, 26472.89, 26242.82, 27037.9, 27370.0, 28893.21, 28999.63, 29410.77, 32216.51, 33068.83, 32054.23, 34081.24, 36875.96, 39510.59, 40682.76, 40239.06, 38164.88, 35449.71, 34035.02, 37393.49, 39147.98, 36778.66, 36013.51, 35826.36, 36665.82, 35888.13, 35516.17, 30817.86, 32989.1, 32098.38, 32289.06, 32264.15, 32521.65, 30427.34, 33488.66, 34265.71, 34300.19, 33110.32, 33497.16, 35496.91, 37693.0, 36984.28, 38320.0, 39274.8, 38870.36, 46445.51, 46493.9, 44854.63, 48044.88, 47424.25, 47258.66, 48620.48, 47954.05, 49136.7, 52141.23, 51560.46, 56000.59, 55919.75, 57485.74, 54173.64, 48927.33, 49715.13, 47070.18, 46324.15, 46142.1, 45261.56, 49641.89, 48438.0, 50376.05, 48353.09, 48774.67, 48933.12, 50952.55, 52427.8, 54927.29, 55918.09, 57847.92, 57297.67, 61177.03, 58956.9, 55616.42, 56928.38, 58939.73, 57648.01, 58029.94, 58072.87, 57410.54, 54117.71, 54360.07, 52281.77, 51292.65, 55081.26, 55817.85, 55790.28, 57623.66, 58767.75]}, {\"line\": {\"color\": \"green\", \"width\": 1}, \"name\": \"Entrainement\", \"type\": \"scatter\", \"x\": [4, 5, 6, 7, 8, 9, 10, 11, 12, 13, 14, 15, 16, 17, 18, 19, 20, 21, 22, 23, 24, 25, 26, 27, 28, 29, 30, 31, 32, 33, 34, 35, 36, 37, 38, 39, 40, 41, 42, 43, 44, 45, 46, 47, 48, 49, 50, 51, 52, 53, 54, 55, 56, 57, 58, 59, 60, 61, 62, 63, 64, 65, 66, 67, 68, 69, 70, 71, 72, 73, 74, 75, 76, 77, 78, 79, 80, 81, 82, 83, 84, 85, 86, 87, 88, 89, 90, 91, 92, 93, 94, 95, 96, 97, 98, 99, 100, 101, 102, 103, 104, 105, 106, 107, 108, 109, 110, 111, 112, 113, 114, 115, 116, 117, 118, 119, 120, 121, 122, 123, 124, 125, 126, 127, 128, 129, 130, 131, 132, 133, 134, 135, 136, 137, 138, 139, 140, 141, 142, 143, 144, 145, 146, 147, 148, 149, 150, 151, 152, 153, 154, 155, 156, 157, 158, 159, 160, 161, 162, 163, 164, 165, 166, 167, 168, 169, 170, 171, 172, 173, 174, 175, 176, 177, 178, 179, 180, 181, 182, 183, 184, 185, 186, 187, 188, 189, 190, 191, 192, 193, 194, 195, 196, 197, 198, 199, 200, 201, 202, 203, 204, 205, 206, 207, 208, 209, 210, 211, 212, 213, 214, 215, 216, 217, 218, 219, 220, 221, 222, 223, 224, 225, 226, 227, 228, 229, 230, 231, 232, 233, 234, 235, 236, 237, 238, 239, 240, 241, 242, 243, 244, 245, 246, 247, 248, 249, 250, 251, 252, 253, 254, 255, 256, 257, 258, 259, 260, 261, 262, 263, 264, 265, 266, 267, 268, 269, 270, 271, 272, 273, 274, 275, 276, 277, 278, 279, 280, 281, 282, 283, 284, 285, 286, 287, 288, 289, 290, 291, 292, 293, 294, 295, 296, 297, 298, 299, 300, 301, 302, 303, 304, 305, 306, 307, 308, 309, 310, 311, 312, 313, 314, 315, 316, 317, 318, 319, 320, 321, 322, 323, 324, 325, 326, 327, 328, 329, 330, 331, 332, 333, 334, 335, 336, 337, 338, 339, 340, 341, 342, 343, 344, 345, 346, 347, 348, 349, 350, 351, 352, 353, 354, 355, 356, 357, 358, 359, 360, 361, 362, 363, 364, 365, 366, 367, 368, 369, 370, 371, 372, 373, 374, 375, 376, 377, 378, 379, 380, 381, 382, 383, 384, 385, 386, 387, 388, 389, 390, 391, 392, 393, 394, 395, 396, 397, 398, 399, 400, 401, 402, 403, 404, 405, 406, 407, 408, 409, 410, 411, 412, 413, 414, 415, 416, 417, 418, 419, 420, 421, 422, 423, 424, 425, 426, 427, 428, 429, 430, 431, 432, 433, 434, 435, 436, 437, 438, 439, 440, 441, 442, 443, 444, 445, 446, 447, 448, 449, 450, 451, 452, 453, 454, 455, 456, 457, 458, 459, 460, 461, 462, 463, 464, 465, 466, 467, 468, 469, 470, 471, 472, 473, 474, 475, 476, 477, 478, 479, 480, 481, 482, 483, 484, 485, 486, 487, 488, 489, 490, 491, 492, 493, 494, 495, 496, 497, 498, 499, 500, 501, 502, 503, 504, 505, 506, 507, 508, 509, 510, 511, 512, 513, 514, 515, 516, 517, 518, 519, 520, 521, 522, 523, 524, 525, 526, 527, 528, 529, 530, 531, 532, 533, 534, 535, 536, 537, 538, 539, 540, 541, 542, 543, 544, 545, 546, 547, 548, 549, 550, 551, 552, 553, 554, 555, 556, 557, 558, 559, 560, 561, 562, 563, 564, 565, 566, 567, 568, 569, 570, 571, 572, 573, 574, 575, 576, 577, 578, 579, 580, 581, 582, 583, 584, 585, 586, 587, 588, 589, 590, 591, 592, 593, 594, 595, 596, 597, 598, 599, 600, 601, 602, 603, 604, 605, 606, 607, 608, 609, 610, 611, 612, 613, 614, 615, 616, 617, 618, 619, 620, 621, 622, 623, 624, 625, 626, 627, 628, 629, 630, 631, 632, 633, 634, 635, 636, 637, 638, 639, 640, 641, 642, 643, 644, 645, 646, 647, 648, 649, 650, 651, 652, 653, 654, 655, 656, 657, 658, 659, 660, 661, 662, 663, 664, 665, 666, 667, 668, 669, 670, 671, 672, 673, 674, 675, 676, 677, 678, 679, 680, 681, 682, 683, 684, 685, 686, 687, 688, 689, 690, 691, 692, 693, 694, 695, 696, 697, 698, 699, 700, 701, 702, 703, 704, 705, 706, 707, 708, 709, 710, 711, 712, 713, 714, 715, 716, 717, 718, 719, 720, 721, 722, 723, 724, 725, 726, 727, 728, 729, 730, 731, 732, 733, 734, 735, 736, 737, 738, 739, 740, 741, 742, 743, 744, 745, 746, 747, 748, 749, 750, 751, 752, 753, 754, 755, 756, 757, 758, 759, 760, 761, 762, 763, 764, 765, 766, 767, 768, 769, 770, 771, 772, 773, 774, 775, 776, 777, 778, 779, 780, 781, 782, 783, 784, 785, 786, 787, 788, 789, 790, 791, 792, 793, 794, 795, 796, 797, 798, 799, 800, 801, 802, 803, 804, 805, 806, 807, 808, 809, 810, 811, 812, 813, 814, 815, 816, 817, 818, 819, 820, 821, 822, 823, 824, 825, 826, 827, 828, 829, 830, 831, 832, 833, 834, 835, 836, 837, 838, 839, 840, 841, 842, 843, 844, 845, 846, 847, 848, 849, 850, 851, 852, 853, 854, 855, 856, 857, 858, 859, 860, 861, 862, 863, 864, 865, 866, 867, 868, 869, 870, 871, 872, 873, 874, 875, 876, 877, 878, 879, 880, 881, 882, 883, 884, 885, 886, 887, 888, 889, 890, 891, 892, 893, 894, 895, 896, 897, 898, 899, 900, 901, 902, 903, 904, 905, 906, 907, 908, 909, 910, 911, 912, 913, 914, 915, 916, 917, 918, 919, 920, 921, 922, 923, 924, 925, 926, 927, 928, 929, 930, 931, 932, 933, 934, 935, 936, 937, 938, 939, 940, 941, 942, 943, 944, 945, 946, 947, 948, 949, 950, 951, 952, 953, 954, 955, 956, 957, 958, 959, 960, 961, 962, 963, 964, 965, 966, 967, 968, 969, 970, 971, 972, 973, 974, 975, 976, 977, 978, 979, 980, 981, 982, 983, 984, 985, 986, 987, 988, 989, 990, 991, 992, 993, 994, 995, 996, 997, 998, 999, 1000, 1001, 1002, 1003, 1004, 1005, 1006, 1007, 1008, 1009, 1010, 1011, 1012, 1013, 1014, 1015, 1016, 1017, 1018, 1019, 1020, 1021, 1022, 1023, 1024, 1025, 1026, 1027, 1028, 1029, 1030, 1031, 1032, 1033, 1034, 1035, 1036, 1037, 1038, 1039, 1040, 1041, 1042, 1043, 1044, 1045, 1046, 1047, 1048, 1049, 1050, 1051, 1052, 1053, 1054, 1055, 1056, 1057, 1058, 1059, 1060, 1061, 1062, 1063, 1064, 1065, 1066, 1067, 1068, 1069, 1070, 1071, 1072, 1073, 1074, 1075, 1076, 1077, 1078, 1079, 1080, 1081, 1082, 1083, 1084, 1085, 1086, 1087, 1088, 1089, 1090, 1091, 1092, 1093, 1094, 1095, 1096, 1097, 1098, 1099, 1100, 1101, 1102, 1103, 1104, 1105, 1106, 1107, 1108, 1109, 1110, 1111, 1112, 1113, 1114, 1115, 1116, 1117, 1118, 1119, 1120, 1121, 1122, 1123, 1124, 1125, 1126, 1127, 1128, 1129, 1130, 1131, 1132, 1133, 1134, 1135, 1136, 1137, 1138, 1139, 1140, 1141, 1142, 1143, 1144, 1145, 1146, 1147, 1148, 1149, 1150, 1151, 1152, 1153, 1154, 1155, 1156, 1157, 1158, 1159, 1160, 1161, 1162, 1163, 1164, 1165, 1166, 1167, 1168, 1169, 1170, 1171, 1172, 1173, 1174, 1175, 1176, 1177, 1178, 1179, 1180, 1181, 1182, 1183, 1184, 1185, 1186, 1187, 1188, 1189, 1190, 1191, 1192, 1193, 1194, 1195, 1196, 1197, 1198, 1199, 1200, 1201, 1202, 1203, 1204, 1205, 1206, 1207, 1208, 1209, 1210, 1211, 1212, 1213, 1214, 1215, 1216, 1217, 1218, 1219, 1220, 1221, 1222, 1223, 1224, 1225, 1226, 1227, 1228, 1229, 1230, 1231, 1232, 1233, 1234, 1235, 1236, 1237, 1238, 1239, 1240, 1241, 1242, 1243, 1244, 1245, 1246, 1247, 1248, 1249, 1250, 1251, 1252, 1253, 1254, 1255, 1256, 1257, 1258, 1259, 1260, 1261, 1262, 1263, 1264, 1265, 1266, 1267, 1268, 1269, 1270, 1271, 1272, 1273, 1274, 1275, 1276, 1277, 1278, 1279, 1280, 1281, 1282, 1283, 1284, 1285, 1286, 1287, 1288, 1289, 1290, 1291, 1292, 1293, 1294, 1295, 1296, 1297, 1298, 1299, 1300, 1301, 1302, 1303, 1304, 1305, 1306, 1307, 1308, 1309, 1310, 1311, 1312, 1313, 1314, 1315, 1316, 1317, 1318, 1319, 1320, 1321, 1322, 1323, 1324, 1325, 1326, 1327, 1328, 1329, 1330, 1331, 1332, 1333, 1334, 1335, 1336, 1337, 1338, 1339, 1340, 1341, 1342, 1343, 1344, 1345, 1346, 1347, 1348, 1349, 1350, 1351, 1352, 1353, 1354, 1355, 1356, 1357, 1358, 1359, 1360, 1361, 1362, 1363, 1364, 1365, 1366, 1367, 1368, 1369, 1370, 1371, 1372, 1373, 1374, 1375, 1376, 1377, 1378, 1379, 1380, 1381, 1382, 1383, 1384, 1385, 1386, 1387, 1388, 1389, 1390, 1391, 1392, 1393, 1394, 1395, 1396, 1397, 1398, 1399, 1400, 1401, 1402, 1403, 1404, 1405, 1406, 1407, 1408, 1409, 1410, 1411, 1412, 1413, 1414, 1415, 1416, 1417, 1418, 1419, 1420, 1421, 1422, 1423, 1424, 1425, 1426, 1427, 1428, 1429, 1430, 1431, 1432, 1433, 1434, 1435, 1436, 1437, 1438, 1439, 1440, 1441, 1442, 1443, 1444, 1445, 1446, 1447, 1448, 1449, 1450, 1451, 1452, 1453, 1454, 1455, 1456, 1457, 1458, 1459, 1460, 1461, 1462, 1463, 1464, 1465, 1466, 1467, 1468, 1469, 1470, 1471, 1472, 1473, 1474, 1475, 1476, 1477, 1478, 1479, 1480, 1481, 1482, 1483, 1484, 1485, 1486, 1487, 1488, 1489, 1490, 1491, 1492, 1493, 1494, 1495, 1496, 1497, 1498, 1499, 1500, 1501, 1502, 1503, 1504, 1505, 1506, 1507, 1508, 1509, 1510, 1511, 1512, 1513, 1514, 1515, 1516, 1517, 1518, 1519, 1520, 1521, 1522, 1523, 1524, 1525, 1526, 1527, 1528, 1529, 1530, 1531, 1532, 1533, 1534, 1535, 1536, 1537, 1538, 1539, 1540, 1541, 1542, 1543, 1544, 1545, 1546, 1547, 1548, 1549, 1550, 1551, 1552, 1553, 1554, 1555, 1556, 1557, 1558, 1559, 1560, 1561, 1562, 1563, 1564, 1565, 1566, 1567, 1568, 1569, 1570, 1571, 1572, 1573, 1574, 1575, 1576, 1577, 1578, 1579, 1580, 1581, 1582, 1583, 1584, 1585, 1586, 1587, 1588, 1589, 1590, 1591, 1592, 1593, 1594, 1595, 1596, 1597, 1598, 1599, 1600, 1601, 1602, 1603, 1604, 1605, 1606, 1607, 1608, 1609, 1610, 1611, 1612, 1613, 1614, 1615, 1616, 1617, 1618, 1619, 1620, 1621, 1622, 1623, 1624, 1625, 1626, 1627, 1628, 1629, 1630, 1631, 1632, 1633, 1634, 1635, 1636, 1637, 1638, 1639, 1640, 1641, 1642, 1643, 1644, 1645, 1646, 1647, 1648, 1649, 1650, 1651, 1652, 1653, 1654, 1655, 1656, 1657, 1658, 1659, 1660, 1661, 1662, 1663, 1664, 1665, 1666, 1667, 1668, 1669, 1670, 1671, 1672, 1673, 1674, 1675, 1676, 1677, 1678, 1679, 1680, 1681, 1682, 1683, 1684, 1685, 1686, 1687, 1688, 1689, 1690, 1691, 1692, 1693, 1694, 1695, 1696, 1697, 1698, 1699, 1700, 1701, 1702, 1703, 1704, 1705, 1706, 1707, 1708, 1709, 1710, 1711, 1712, 1713, 1714, 1715, 1716, 1717, 1718, 1719, 1720, 1721, 1722, 1723, 1724, 1725, 1726, 1727, 1728, 1729, 1730, 1731, 1732, 1733, 1734, 1735, 1736, 1737, 1738, 1739, 1740, 1741, 1742, 1743, 1744, 1745, 1746, 1747, 1748, 1749, 1750, 1751, 1752, 1753, 1754, 1755, 1756, 1757, 1758, 1759, 1760, 1761, 1762, 1763, 1764, 1765, 1766, 1767, 1768, 1769, 1770, 1771, 1772, 1773, 1774, 1775, 1776, 1777, 1778, 1779, 1780, 1781, 1782, 1783, 1784, 1785, 1786, 1787, 1788, 1789, 1790, 1791, 1792, 1793, 1794, 1795, 1796, 1797, 1798, 1799, 1800, 1801, 1802, 1803, 1804, 1805, 1806, 1807, 1808, 1809, 1810, 1811, 1812, 1813, 1814, 1815, 1816, 1817, 1818, 1819, 1820, 1821, 1822, 1823, 1824, 1825, 1826, 1827, 1828, 1829, 1830, 1831, 1832, 1833, 1834, 1835, 1836, 1837, 1838, 1839, 1840, 1841, 1842, 1843, 1844, 1845, 1846, 1847, 1848, 1849, 1850, 1851, 1852, 1853, 1854, 1855, 1856, 1857, 1858, 1859, 1860, 1861, 1862, 1863, 1864, 1865, 1866, 1867, 1868, 1869, 1870, 1871, 1872, 1873, 1874, 1875, 1876, 1877, 1878, 1879, 1880, 1881, 1882, 1883, 1884, 1885, 1886, 1887, 1888, 1889, 1890, 1891, 1892, 1893, 1894, 1895, 1896, 1897, 1898, 1899, 1900, 1901, 1902, 1903, 1904, 1905, 1906, 1907, 1908, 1909, 1910, 1911, 1912, 1913, 1914, 1915, 1916, 1917, 1918, 1919, 1920, 1921, 1922, 1923, 1924, 1925, 1926, 1927, 1928, 1929, 1930, 1931, 1932, 1933, 1934, 1935, 1936, 1937, 1938, 1939, 1940, 1941, 1942, 1943, 1944, 1945, 1946, 1947, 1948, 1949, 1950, 1951, 1952, 1953, 1954, 1955, 1956, 1957, 1958, 1959, 1960, 1961, 1962, 1963, 1964, 1965, 1966, 1967, 1968, 1969, 1970, 1971, 1972, 1973, 1974, 1975, 1976, 1977, 1978, 1979, 1980, 1981, 1982, 1983, 1984, 1985, 1986, 1987, 1988, 1989, 1990, 1991, 1992, 1993, 1994, 1995, 1996, 1997, 1998, 1999, 2000, 2001, 2002, 2003, 2004, 2005, 2006, 2007, 2008, 2009, 2010, 2011, 2012, 2013, 2014, 2015, 2016, 2017, 2018, 2019, 2020, 2021, 2022, 2023, 2024, 2025, 2026, 2027, 2028, 2029, 2030, 2031, 2032, 2033, 2034, 2035, 2036, 2037, 2038, 2039, 2040, 2041, 2042, 2043, 2044, 2045, 2046, 2047, 2048, 2049, 2050, 2051, 2052, 2053, 2054, 2055, 2056, 2057, 2058, 2059, 2060, 2061, 2062, 2063, 2064, 2065, 2066, 2067, 2068, 2069, 2070, 2071, 2072, 2073, 2074, 2075, 2076, 2077, 2078, 2079, 2080, 2081, 2082, 2083, 2084, 2085, 2086, 2087, 2088, 2089, 2090, 2091, 2092, 2093, 2094, 2095, 2096, 2097, 2098, 2099, 2100, 2101, 2102, 2103, 2104, 2105, 2106, 2107, 2108, 2109, 2110, 2111, 2112, 2113, 2114, 2115, 2116, 2117, 2118, 2119, 2120, 2121, 2122, 2123, 2124, 2125, 2126, 2127, 2128, 2129, 2130, 2131, 2132, 2133, 2134, 2135, 2136, 2137, 2138, 2139, 2140, 2141, 2142, 2143, 2144, 2145, 2146, 2147, 2148, 2149, 2150, 2151, 2152, 2153, 2154, 2155, 2156, 2157, 2158, 2159, 2160, 2161, 2162, 2163, 2164, 2165, 2166, 2167, 2168, 2169, 2170, 2171, 2172, 2173, 2174, 2175, 2176, 2177, 2178, 2179, 2180, 2181, 2182, 2183, 2184, 2185, 2186, 2187, 2188, 2189, 2190, 2191, 2192, 2193, 2194, 2195, 2196, 2197, 2198, 2199, 2200, 2201, 2202, 2203, 2204, 2205, 2206, 2207, 2208, 2209, 2210, 2211, 2212, 2213, 2214, 2215, 2216, 2217, 2218, 2219, 2220, 2221, 2222, 2223, 2224, 2225, 2226, 2227, 2228, 2229, 2230, 2231, 2232, 2233, 2234, 2235, 2236, 2237, 2238, 2239, 2240, 2241, 2242, 2243, 2244, 2245, 2246, 2247, 2248, 2249, 2250, 2251, 2252, 2253, 2254, 2255, 2256, 2257, 2258, 2259, 2260, 2261, 2262, 2263, 2264, 2265, 2266, 2267, 2268, 2269, 2270, 2271, 2272, 2273, 2274, 2275, 2276, 2277, 2278, 2279, 2280, 2281, 2282, 2283, 2284, 2285, 2286, 2287, 2288, 2289, 2290, 2291, 2292, 2293, 2294, 2295, 2296, 2297, 2298, 2299, 2300, 2301, 2302, 2303, 2304, 2305, 2306, 2307, 2308, 2309, 2310, 2311, 2312, 2313, 2314, 2315, 2316, 2317, 2318, 2319, 2320, 2321, 2322, 2323, 2324, 2325, 2326, 2327, 2328, 2329, 2330, 2331, 2332, 2333, 2334, 2335, 2336], \"y\": [127.15724758807346, 135.6881823258973, 141.78712088636075, 145.92380529016282, 158.11119136322486, 178.6248296892486, 204.2696609360073, 197.45283495740068, 176.33842356388232, 149.4605730385406, 122.68613427071887, 109.52950383680536, 104.98281215422458, 106.0419797824843, 109.90268539654971, 114.08861349440895, 119.78268324851706, 126.7780711438345, 132.7995044119125, 137.73586358659622, 141.7049053275873, 148.40889901589844, 151.0646328466919, 149.66525552340363, 148.575042957586, 148.01944562681274, 149.0636260438382, 149.03407982740418, 140.32651010002792, 129.40447286121162, 118.50191899700076, 116.71137546048612, 118.42591242573917, 120.24364704549362, 121.14116689543607, 121.37047122732747, 121.27926334181348, 123.26549703645014, 124.25572349303002, 124.63233070105707, 124.94963137319792, 121.61754610968273, 119.64394449308702, 120.09848519953448, 122.33115146747377, 124.99309428577862, 126.12013257063018, 126.56846428956624, 126.40403317201935, 126.63397981296384, 128.86536146279695, 132.38885482408114, 135.13022986193027, 137.1824072859995, 136.69553702388885, 135.66484509697466, 136.3908684297885, 136.7419973787164, 136.74627943906899, 136.97365684380156, 135.01525654145826, 133.3957813160373, 131.48576829567992, 130.22684255196282, 129.04649261571922, 125.11791634506244, 121.74793484742486, 116.37930168012826, 113.97535299807805, 114.48663100419981, 114.8229868449107, 113.97513889506035, 112.83868007743285, 111.99982445432352, 111.68701994555295, 111.84267283937652, 111.9981116301824, 112.15355042098827, 112.30941741782954, 111.80306378111345, 110.8766400237896, 110.31547601455804, 109.45328316252562, 108.47076441458057, 106.84593661371855, 104.60684725525061, 102.10805093638601, 99.74949209407532, 97.65213893328428, 95.72071561116309, 96.18489095340465, 93.25403474494487, 91.4125346902324, 86.18413899948882, 82.91157437487755, 83.00963355695603, 83.4005856671647, 84.78304885205944, 89.36035726616274, 93.64948301852382, 97.22500341309433, 99.94090019184478, 101.364471156126, 102.55038777082837, 102.46860041809032, 101.89908639117039, 99.30394371436887, 97.22671623723545, 96.17311528743448, 95.74276822197999, 95.84018509500584, 96.32384381185238, 97.25583424763454, 98.22893246280364, 99.1699152253268, 99.0821329880946, 99.69425351552445, 101.164070731616, 102.65529824947134, 104.14074498585023, 105.32195133416462, 105.67457900421596, 105.84350628513312, 105.98481427677461, 106.27021359928722, 106.78684418085004, 106.92879448154463, 105.94242187928239, 105.13396888467742, 104.70833208561135, 104.64217425316065, 104.90701968598023, 105.45062724776562, 106.23488660137718, 107.17137320052962, 108.19178818259707, 109.21263137069946, 110.23368866181954, 111.25453184992239, 112.63656682878172, 114.3299075952882, 116.21936672595211, 117.04923002232044, 117.74313790248834, 118.58841661612723, 119.58656488435963, 121.22209783610379, 123.17471735697109, 125.3208860057839, 128.33545649414054, 132.00411170138386, 135.46273184832353, 137.1905432006697, 136.43090569408696, 133.9239734605526, 131.99640399274904, 129.0163040902321, 127.62613319670254, 127.74645909261562, 128.62278274381197, 130.6923025123101, 133.1352179435703, 134.79858428760735, 135.7260785600197, 135.6594925215336, 134.9088473416914, 134.66305707744186, 134.72172130427498, 135.0116167901583, 134.85746261745817, 134.1674085916079, 133.17782444408067, 132.3509585899592, 131.80413948290925, 131.62557756619844, 131.70929184609486, 132.45180111126683, 133.72592816923634, 134.68468148222382, 135.28416993161272, 135.5526551157318, 135.63915273485827, 127.35529287938925, 123.46568335794245, 124.93978263438657, 126.69071711263814, 129.61493612755066, 131.17745995028008, 132.00475401043695, 133.09325375211347, 133.99698258956732, 134.74377391509188, 135.3886522042203, 137.1472943911067, 139.92014257254914, 144.54797929881488, 146.07817356588066, 148.5990224955617, 153.53259833101583, 161.65523861420252, 168.2560346480118, 176.38830956699212, 186.19251495071512, 196.9719595797833, 200.820889527879, 201.69678497303994, 201.53342437058154, 201.06346824686398, 201.6952862519165, 202.26287335167717, 202.77736290306393, 205.26010149560489, 206.70872251295032, 208.46244033043104, 211.5253981007736, 219.81525284073632, 232.1225366036765, 249.6558609241656, 270.77498258407195, 300.5350879328694, 323.5413135902454, 329.39296316533546, 337.35952234866363, 345.30381481815675, 365.7093311202725, 390.86557928077946, 404.57009933683094, 420.0696590927678, 445.57596568711415, 540.3959832118953, 555.3894034341338, 579.9682157560683, 642.9423363342139, 703.2778513229769, 771.7777566833663, 796.2418097878463, 806.8895810610666, 855.5993021920347, 909.3693481448993, 965.7969478042073, 1053.4505091225776, 1096.8852671564657, 1040.2602645148945, 1034.9314545088787, 1039.2865239906725, 1084.025169401982, 1064.1105913193123, 948.3736724347846, 821.1319278974274, 780.5572650246693, 820.3080594855528, 898.1062447989843, 905.3763268659327, 894.1628954201101, 888.3251625411665, 867.3430668125488, 863.1487886970017, 786.5069737818383, 726.7084291613135, 627.9516994512046, 631.0651855337105, 620.7606213977651, 607.524130538272, 611.5019505029863, 624.8613364946041, 639.2332156566367, 658.8692457133579, 699.5672319242763, 715.1830496187911, 718.6887724296112, 722.2345325047299, 726.4478657888469, 728.9837019297627, 741.6967109111285, 761.160816244686, 783.2459707201792, 806.8324155553571, 853.7175507700058, 888.0219926681896, 848.5167743685379, 833.8074688507065, 824.1854651349943, 832.1623012631687, 863.0468756606056, 858.5126019530478, 843.8191400585217, 828.7375093930161, 829.5594508777319, 822.4287498752667, 810.3753922912465, 808.0806361481921, 820.5703356821605, 824.3188513149832, 824.7504829985435, 822.0863991500619, 815.5170762598459, 812.6328945092316, 811.8019606977748, 812.2541462710283, 785.1925953565526, 780.9788338664005, 784.0991712454704, 790.2963830910301, 799.5220821210926, 806.1207371247251, 810.4897233026657, 809.1963269731086, 801.6926585139163, 790.4006512606202, 776.2323840683623, 742.3835533917143, 709.8884960955972, 692.0397980301259, 685.2690042003117, 676.916203173163, 664.0336246018273, 638.0595029139399, 630.0604000719309, 637.7432727568871, 630.9026813433225, 627.9309314584939, 626.0943557731866, 622.6237458572596, 596.8243322317653, 585.5451711595274, 592.0012335534125, 598.658124577843, 574.9993129227032, 554.3083972980749, 560.9468754629884, 562.6250149152424, 559.9262463779032, 559.2068602386362, 559.431882510175, 607.7157527390591, 642.6021266391854, 660.6600033528903, 668.8558668681094, 652.4174653798259, 642.0251190066483, 637.4073451222116, 635.7324172152221, 636.974214717528, 637.8229190794486, 638.4770037983358, 638.0171105164472, 636.7376308830367, 634.9719232965685, 628.6578112033781, 619.1835385698369, 607.8392901802367, 595.5679757242601, 581.9679379408158, 571.447343860073, 563.2013802387264, 570.1717180809801, 576.1728115623823, 579.110947273442, 537.3041215341714, 515.0331256393674, 499.39632584912397, 483.7899286873853, 471.41113451655383, 470.9015693345732, 457.1764953888278, 452.3945044898619, 450.5628531739608, 454.49913715325283, 458.1129819879807, 454.1987506195055, 449.70793982452824, 444.9428630639559, 411.641065597375, 410.16418298170174, 414.2923032647982, 415.0365253541113, 435.7897449568727, 472.98821734448256, 502.3530885227178, 508.4231231757999, 499.367850147778, 491.14971991872426, 488.77553155612577, 491.7909584565532, 491.7104557219209, 493.17963062895933, 496.50422228685693, 484.5675508474501, 472.4326200137093, 452.58270104236635, 441.3275195081046, 439.5857914596113, 442.37983583979985, 450.86131278054927, 451.98770875634773, 447.12136126843234, 441.62983296901075, 436.2055330171279, 432.1495654509754, 430.829192141196, 431.0651336666342, 432.2692490378354, 433.97693470652393, 435.68504858124743, 438.60541374184277, 440.8888224249622, 442.5140784318596, 444.24103337213546, 445.64769019802316, 446.4019751291653, 446.62978073993327, 454.9269149824954, 469.68974625473675, 482.0631878501272, 504.01495614563146, 515.5281318161487, 530.844633492004, 550.8934541667336, 566.0209028780137, 571.7466598787323, 576.0387830733403, 585.8791718670445, 601.0648565991223, 613.8069835908873, 622.9723055699756, 640.2309357188342, 654.068199645822, 650.3995444385787, 654.4934082388531, 650.3794187549206, 651.4235991719456, 654.1300754179197, 651.0818907557941, 649.1982124066062, 637.1801818204967, 606.4257820577841, 594.46984134679, 578.6489129613769, 580.3600242783473, 583.4814321725057, 592.3091136927774, 600.3583166409139, 597.9126178704241, 594.0868110482338, 591.0506161550957, 593.2104873970375, 590.9131620177714, 583.1142454972551, 571.7796317434486, 571.9354987402899, 582.361673390254, 587.3468480529596, 593.6631011763261, 613.1655309500411, 625.588430342506, 638.2911623790251, 644.5346204763946, 637.7672522948628, 633.3323223874895, 631.4407222266491, 626.0457543881826, 623.9424063428978, 621.798378724261, 618.3367611350745, 624.1132605509738, 629.7929854028998, 630.6127858574391, 626.5737324296806, 623.292389581346, 619.1233756218803, 620.5683568879253, 625.0816484997545, 627.0689527094792, 626.9723922485241, 624.3301469078419, 621.1072541833228, 619.6243766831553, 611.9898912801855, 606.2786932846661, 600.1681931612507, 594.87064219581, 591.30775387928, 587.5613792766335, 576.4374428921842, 576.7566704914839, 584.2753261619109, 586.8696124266421, 588.516492838321, 587.9319916001668, 584.1363733034632, 581.675045012686, 582.1347241915569, 584.1397989517454, 586.2572777961946, 588.0013609778816, 582.0413752758664, 575.166741482497, 562.6806816998283, 537.233039332315, 518.1207052567388, 515.3097467381567, 506.5250999244304, 492.7625579505984, 489.78866703559333, 498.130120602807, 507.80907572121123, 513.0040713412031, 507.3070041448482, 505.6629070723984, 503.63556559837525, 507.00426247790665, 509.53496014639904, 508.3618897127553, 508.3368396596916, 504.76774235565017, 493.3342130076944, 483.9717021493607, 477.54047570552166, 474.52611932018317, 479.9636936591596, 479.65752634393584, 479.6954225780578, 478.56667146906557, 473.44618369921227, 472.3981494278696, 473.7694792558468, 475.05880762806873, 474.5256911141478, 475.50585472889907, 475.16692965197626, 472.50134708237147, 468.27944967754866, 460.92244178543933, 445.6057260065659, 422.95726649166454, 413.4864195064051, 405.80975580896074, 402.1166928577063, 417.45117918704364, 422.11926728062554, 419.0942057444049, 413.78273808281756, 405.7416710493512, 392.4321710608433, 383.09663718273214, 383.6378896113233, 383.9607569619229, 381.9779489155685, 373.2061482829008, 353.31276639897715, 337.9438094838001, 331.21112599112575, 331.44471238336973, 342.10104777729566, 353.4604974811482, 359.3594638231366, 362.771409512231, 369.64433048145884, 380.1332373155915, 391.2456121370883, 395.38101192278464, 392.1921615780702, 388.12506065500065, 388.01008733452863, 388.47875884014, 386.1756526793979, 386.0013728230397, 384.35620523550233, 373.5690528977989, 366.37433509305947, 357.9870634800709, 355.253824356892, 353.944370301012, 354.68538084506054, 348.5735961035389, 346.85734631414516, 343.5539508549937, 335.84303067472683, 331.0503346248788, 328.44427269417747, 329.05082654314856, 333.71977104880125, 341.6263813871901, 344.13288541468955, 346.30795797088376, 354.58453832375244, 360.85861315264447, 366.6113471335857, 391.790076110944, 406.5646830491555, 407.8587216877654, 397.3263519410525, 391.0760425471185, 388.5080909535568, 382.94762148245536, 381.37353609677393, 371.2293351210401, 361.70731751456515, 357.44945080277967, 360.1109654150491, 367.5229977826921, 373.3752896668352, 373.33525240253675, 372.3576580239974, 373.6317850819669, 374.7089373637086, 376.0639953623454, 376.9191228147956, 378.27311029834436, 378.2080229809817, 375.32576815752645, 375.37415543951283, 375.3287655997733, 375.9004206568693, 371.49846261421226, 363.39637622071905, 355.1065214807563, 351.08802194269083, 351.5656857750432, 352.30476939193295, 355.1600472351661, 353.7739442989714, 344.5090644166812, 334.7249847166163, 324.44568473675236, 320.5233174536065, 324.87924334747095, 324.9635999364209, 329.14481776789216, 333.64783243487454, 330.81139565719377, 327.3508485830953, 327.7953264477137, 326.4792351982869, 323.94318495435346, 320.3824376680004, 316.52794104144596, 318.19366251867723, 319.30806872548783, 319.03958354136876, 305.2783261856425, 287.87410598478937, 278.37649612232553, 275.83230996372185, 279.363725136659, 285.0736385140722, 290.7865493337322, 287.420207587395, 280.07283433107887, 274.6615946632719, 256.3784815750114, 223.20300488883777, 213.08942064462644, 209.2745330763355, 207.07419636405984, 211.02354062742825, 214.63888418327952, 216.32922750753914, 223.29635380452828, 230.52918194640733, 237.87377186349386, 245.86559520290348, 252.28226264154273, 263.6344328427954, 267.5525180655882, 258.2388226952762, 249.38758984306423, 240.42202597943287, 231.4710211210013, 230.14272599956894, 234.36633622853287, 236.31724292525905, 235.55096822512905, 230.04017065412017, 227.73535166923648, 227.36944961209156, 227.7786004787995, 227.5109717067512, 226.48220670699584, 225.47206866977513, 226.0773379006405, 232.07093777642558, 244.25147255292313, 245.47078923837717, 243.85859351555564, 242.3127697282025, 241.2895714069059, 242.90326585085086, 243.99347841666804, 244.40626903467637, 244.39684850189997, 244.15962235835605, 245.03637421558778, 246.83291263659612, 249.20281893884157, 251.88231820459305, 254.5631020884507, 259.637129503476, 266.68754187432705, 274.9711876267779, 276.60928981473353, 277.16146149722454, 276.66217326009064, 277.40575304035065, 280.72798956505403, 284.96530238714695, 289.045035388257, 293.80882753072365, 296.57118466430165, 293.1922108399235, 289.58307627158365, 288.1941899961598, 289.1199714444306, 288.31109024379066, 277.5312174086871, 270.6657900450764, 266.6614213061748, 264.2737444534655, 267.3144355099739, 268.6187510934301, 261.58782209718447, 256.3146788757549, 253.5020075330317, 251.90501312446304, 253.95654823947916, 254.53997896254532, 253.6747886682665, 252.72095972468514, 251.565873944523, 253.424288137629, 255.59786197269977, 257.23896160290224, 258.39875764945236, 258.8879830447572, 258.47711935390817, 254.75558070130774, 251.34170808505496, 247.71758630548038, 244.01381820334382, 242.12692830889182, 236.14189255381234, 229.06321858463343, 226.93803203154903, 226.28972809413835, 226.81192535415994, 227.7593312072122, 227.65613355271034, 228.18753724249018, 232.85412661494865, 235.68414030210033, 238.1576724648835, 237.89753729845188, 234.88339501613063, 232.94961656081568, 231.89601561101426, 230.91563789324573, 232.54260672428427, 236.0256346152346, 236.61805766504176, 237.64489573763785, 240.22419479113432, 241.43944351925302, 241.26238032366564, 238.1289826605198, 238.47475903400664, 241.8115545639098, 244.15063003161504, 245.70822948493878, 245.91248376376643, 244.65227340194315, 242.7750181432848, 241.40176138814877, 240.5738250189388, 240.23896789935134, 240.17066903672458, 239.14618609732224, 237.71212408517658, 237.80847044311395, 238.36256905276377, 239.0012383543808, 239.52022406913738, 239.70456676732465, 239.84202090464896, 239.97947504197327, 239.92038260910476, 239.25066836993028, 238.11056980100284, 236.6844296005097, 235.13432375280354, 232.18184313956226, 230.6758425134899, 229.8539010287741, 228.83412835575973, 228.74463329438686, 229.02189670222924, 228.4742211831085, 228.7015985878411, 229.538955489827, 230.80794407537314, 232.31672804067512, 233.6741411725061, 234.936492564505, 235.84835731662952, 237.79712298317918, 241.3812074984553, 246.14799708316923, 248.72387048838345, 249.08977254552838, 249.03282114283638, 248.332061966104, 248.8623951407958, 248.6923973447906, 247.0292451037708, 246.44988233803997, 247.81564548755887, 250.91178922563586, 254.2706373663559, 257.2291128640909, 261.31505485271236, 263.201088335094, 263.2124357950288, 261.995474242769, 263.5513608719516, 268.1201051653493, 270.6304630471659, 270.9250687994372, 270.907940558026, 271.1974078378739, 273.9274354157883, 278.4180321077474, 283.7166535882766, 289.45011829763007, 291.06916531701563, 290.5536052505413, 288.520268892024, 285.63608714140946, 282.86195434186175, 281.4994027376074, 281.3840012111, 280.7072215723433, 280.6549804360393, 282.7649656748713, 286.62460077384867, 290.3016059987799, 293.2887713008786, 295.2702947291273, 295.40389501213394, 294.3969685201778, 293.0127925111419, 291.5560355791267, 290.25899949827, 289.0476046244685, 287.8366379567028, 286.6256712889367, 285.41491872418874, 284.44845770256643, 283.6804701782953, 276.61871034750993, 271.3832492571846, 268.6082600455661, 269.8993012419287, 270.9805214810053, 270.94198293783074, 270.3080239026017, 267.9197047408388, 261.7312711190025, 252.41029624609064, 241.20050455156797, 235.79483156221977, 235.89224843524562, 236.60307045380705, 236.83858377320985, 235.3244472324668, 232.7800469708459, 230.0849181848066, 229.62374028481236, 229.56293502780272, 232.15893411667503, 233.9158634794203, 234.1944115053684, 234.6532342721689, 233.78204909339593, 233.04061034331244, 232.48544121857458, 233.35234433699452, 236.07209497006215, 239.9244505664401, 242.57568823386327, 245.38215058907463, 244.94002785764997, 243.49675941574606, 242.02158962421345, 240.4102503134627, 238.78627892467148, 236.7692143954946, 235.4758180659378, 234.18756020880437, 233.66129499144745, 233.73558873856837, 234.04368298095096, 233.66557705180048, 232.5306169552964, 233.08193222571663, 233.47416895403103, 235.46768215126758, 237.57488405086997, 238.24909445341518, 239.52643305664924, 241.2024314787268, 241.51395136939163, 241.23775847663728, 241.13627364627655, 241.3617241238503, 242.21599516422975, 242.7182808436105, 243.35930527842174, 244.20501219809557, 245.18367709172298, 246.3316974723034, 247.47993195590107, 248.62795233648103, 250.20524926742746, 250.43605232044183, 251.55345596949974, 253.62169111989215, 257.016722670593, 261.5918900545198, 267.15856851313265, 269.76120479555175, 269.66678536477275, 271.19655142580314, 271.3003913893581, 274.147533317921, 277.81126415575864, 281.6516299831487, 284.743277557855, 288.4363405091094, 293.10164526346216, 299.8533839247066, 308.1089821818473, 318.48034645929556, 318.71907132396336, 322.49906010037876, 338.83940240658376, 367.49602080246996, 390.3144781133765, 395.11680879901814, 388.59394626362973, 384.61398526873927, 378.7713280203898, 377.878732539853, 361.8030215634499, 339.0201053534711, 334.07817950032904, 333.31404583037556, 332.5295723737463, 329.1630165243914, 329.17051013000855, 332.11828047686186, 334.8750709319811, 333.4146742486655, 329.3659861851129, 327.9312818639146, 326.6575830119805, 325.4915779779185, 323.9618119168881, 326.1139754501951, 337.82583872108125, 348.36570207341174, 354.8399632237961, 363.34606201157385, 370.122850725882, 371.0679014457405, 367.4476335204831, 364.55660047330457, 363.5787919917475, 373.2181380518882, 381.555523661767, 389.2499579096757, 402.13553392325866, 410.0031775124371, 414.21950823880115, 430.69473544611856, 435.321287554279, 435.8402732690356, 441.57844824477706, 450.41105413445484, 454.3550458223817, 456.89023965424485, 458.21189758212995, 459.2158266318388, 455.74628723099977, 448.004322113175, 441.37012600861453, 435.4167775001456, 430.5562107937062, 426.2077785054589, 421.6518803931199, 420.74065795004844, 420.47388559007004, 424.8709192633214, 426.2863543129324, 428.2314802281826, 431.3152059912363, 432.28230932191127, 432.3647389837024, 432.6651255174497, 432.39749674540144, 431.33618808696474, 441.18706792853345, 446.99247125181364, 449.02966146464814, 449.4923380857658, 448.1546224315575, 442.45091804165577, 437.4546100220332, 420.20454399388063, 393.5407964861779, 386.10093072624204, 382.71189406003487, 381.7413650810777, 381.22259346933834, 395.38251064390806, 403.55610744529304, 397.8275671053452, 393.3969192583245, 389.2844284955154, 388.6230642740288, 390.54057090000333, 392.694447257451, 388.21926598276195, 383.7477244593724, 380.08763337283426, 374.7506874521482, 371.8530172114224, 370.17637648029176, 369.36770938266955, 376.9236189781659, 380.4907893550485, 379.80009302014514, 378.4670876323248, 374.976137929722, 374.6573385364577, 376.7647545390778, 377.91363133172854, 380.6430166005898, 385.4382818866493, 394.3421840812007, 402.1083428400184, 407.9642744754615, 412.36473379699464, 416.5333195504254, 418.7413639713359, 425.50081034121513, 431.78130826063625, 435.5197610516302, 430.0815444036007, 426.3931917187342, 424.08023681918075, 426.3488723940832, 429.03458064734605, 429.99890063879184, 432.95951716670334, 433.359461603653, 429.1446295984124, 424.9563463673594, 417.1942555658766, 411.62565018010537, 408.443651131955, 409.80577453017395, 411.20258261725075, 412.3407542590194, 414.2015235853196, 416.33570246514455, 414.3516098006844, 413.6031056510187, 413.83990358852725, 414.47086518150945, 415.689111351875, 417.02982444833015, 413.5645671078437, 410.9679257099183, 410.24939598272204, 411.15804918958156, 413.6797545313334, 415.80815262968235, 416.04987493659655, 415.97836452870524, 416.3038011155163, 419.56266314699906, 421.52555961271264, 419.64059664541946, 417.09341304456893, 415.37630684310443, 415.2673284071261, 416.9765127969381, 417.985794422088, 418.57607644171867, 420.33514683464, 420.9733879302221, 420.78305034754067, 419.61426197425, 418.86811295777807, 419.28261639992706, 420.7136809698259, 422.8602778246741, 423.58651526050517, 424.078952201075, 425.38283957849626, 427.3874861326499, 427.7032880836673, 427.98419124280963, 430.97371167810206, 435.6636382794836, 442.6630941321364, 445.82475339361054, 448.8183417862383, 453.6448661128734, 457.5516038757314, 462.24367150728904, 456.2931063380497, 452.51204704654583, 452.9029991567545, 453.1228829558695, 453.8521178339479, 453.2978051212808, 451.9793587386598, 449.68010643223533, 448.57918871553557, 452.2328567115446, 455.29345934869343, 456.8733255158513, 458.9895197421947, 455.706464069719, 453.84847808264794, 453.7559855790282, 454.29209953519603, 455.5122726327204, 456.35776544937653, 455.3469851031032, 454.0039168734538, 452.881374751973, 445.8076251521993, 443.234320983197, 442.12676607295043, 440.1683657706071, 441.09286260077215, 442.7759264224319, 445.3280343926881, 448.5053231744505, 457.7008336790259, 484.9011233489314, 502.7519624445795, 515.3157416226509, 523.9453778516063, 529.3114417826914, 538.046844902361, 548.5640133348215, 560.1574776369534, 569.4754550676184, 576.6708151814105, 580.1831751857776, 581.2519774498314, 585.1726319088357, 591.5004465951552, 599.596324001137, 624.379818807934, 661.1256774162548, 677.1791216788238, 688.3150478322609, 723.0539047532343, 735.9349846034465, 745.9963277113541, 753.456319154948, 740.2778502132351, 706.2928500173687, 655.3917845008659, 630.9750481632846, 636.4824200860112, 645.5944304137074, 641.9655983677449, 647.6778668783522, 645.1713628508528, 640.0039865201366, 650.2224812429913, 664.4965153259627, 682.5316971197976, 689.0721161026322, 685.2715734365233, 680.2189563232616, 675.5382361516388, 658.4344024845332, 657.007191768952, 651.3313207713431, 648.2390308875838, 651.0298637225078, 655.2102251419083, 654.1758934636946, 656.0957552228629, 658.9910703303945, 661.8448494525041, 665.2099065807356, 667.9191661659388, 670.4717023422306, 668.6629600492167, 665.3745518013, 656.5727767461626, 653.673179578278, 652.8446009000154, 652.7848661580942, 653.3828558863597, 653.2850108072989, 653.1070911996408, 653.0079615024738, 646.2480869265592, 634.625932820064, 620.1414354707535, 583.3634614097869, 566.3105842608793, 566.1919711891073, 567.2492118902082, 577.7231315131062, 582.6886086981885, 583.6250952973414, 583.1114621580255, 584.985719974437, 584.6029037788985, 584.2547722722175, 583.2983740924246, 576.2117783115928, 569.4814499521121, 569.5966373756019, 569.036757984476, 569.7760557043835, 570.7705642213164, 572.8415827109379, 574.518651648104, 577.5858914787996, 578.5731204931326, 577.6726032009433, 576.1087947601081, 575.7009285115059, 571.5070786019942, 570.8622003128658, 569.8880315826086, 569.2163904162753, 569.294109811678, 569.3245124401828, 569.77455698326, 580.0480761816475, 591.6055711768158, 598.7392696215284, 604.1128271582306, 609.5307040195844, 616.2432618286007, 619.1938155146831, 620.2125176726095, 612.9008996202392, 608.0647406578105, 605.9609644064899, 604.9366955701053, 605.0529535086835, 604.1824106389631, 602.7307921793713, 603.8792407659867, 603.4476090824264, 601.6283757415481, 599.2158629387923, 596.276656712645, 596.7012229966231, 597.3332551046933, 597.4276745354719, 600.6798993734078, 602.150358898552, 603.0774249649285, 603.6758428992293, 605.1841986584959, 607.9240749752216, 609.7338877833236, 610.698421877787, 611.2105562959796, 611.5556903604138, 612.0061631095259, 612.5090910979598, 613.0118049833764, 613.5149470748279, 614.017660960244, 623.4373373242875, 629.6792967005335, 632.5988054490581, 633.3057736133019, 631.992251600087, 630.7431745951812, 629.5257848368865, 628.3079668725559, 627.0910053202961, 626.4694642600903, 626.5919311861799, 637.475215778803, 644.3864611881886, 647.1381131708845, 651.9594990250962, 657.927406538764, 666.0892276741788, 675.3331254607406, 691.3673004517218, 698.6399517548818, 698.865830438491, 710.2477609591954, 724.0696094689133, 709.1224354984852, 704.6384760000724, 701.3862511621367, 702.5477600328281, 703.2367435435901, 704.5513360718935, 711.1743988195369, 712.6225916308467, 714.1536423099828, 708.1525488285806, 702.8672017351455, 701.9962306593902, 704.5213616494241, 719.4075162598251, 728.1579065907292, 731.4446020145049, 731.0816973996068, 728.0373665917984, 731.0549345224019, 738.3920308338713, 739.6646591707172, 737.8963823480372, 736.413290744852, 733.156569743546, 729.4515170233037, 729.3219846976322, 731.6531383536851, 735.7431482996421, 742.6546078120452, 755.2530716789743, 759.9179482272918, 761.3494410032258, 755.8962371439616, 755.2817614833377, 758.0606045492739, 760.7801410793238, 763.4181043596534, 764.986837169894, 766.224352611847, 770.4109230187591, 773.2156725498296, 774.7717732820295, 775.1488086960917, 777.1087077195587, 780.0500549758826, 783.495186632711, 787.9172703590259, 792.7470062309255, 808.7636247744604, 832.6812869779255, 872.53720602047, 887.7308125642007, 892.3655005870312, 895.6324985331839, 913.420819547681, 944.5226014565126, 961.1686828719062, 964.3581755256737, 971.8267310899732, 984.1338007498955, 998.8157010814693, 1018.9475937270424, 1067.0720642592944, 1045.2522904741645, 976.4590639796097, 935.688925051747, 913.2692346111928, 901.4715160302335, 902.981584613641, 847.5498851408804, 822.0799760595328, 817.3538660481706, 814.6942783630595, 819.4512192089617, 824.9256192669723, 860.7767413645797, 877.5080357809934, 892.3226799835033, 896.7353431770421, 907.5976456739368, 916.499192735294, 916.337330853959, 903.0620873482733, 896.3486731271862, 902.7593456813318, 909.9482827045949, 915.5933228676636, 915.5841164379051, 917.3435079853532, 938.46712580863, 961.8396817291866, 987.8189418894972, 1005.2323685201086, 1021.5971185703245, 1019.3203470807518, 1022.1749826149321, 1037.0277371545817, 1046.0343017460907, 1021.1481445423356, 1007.5187746454751, 1006.2564232534758, 1005.2672673119839, 1004.7544905847385, 1007.2368009712445, 1009.6775753723286, 1021.3896527462323, 1039.6577786232585, 1049.6356215542867, 1053.6303556573944, 1069.4595270089862, 1089.6960089786762, 1113.0050833545026, 1151.8870477698074, 1172.205531195253, 1168.3221306613175, 1176.5594231104499, 1187.145104508555, 1192.5820365384786, 1213.6809254632183, 1230.545070802077, 1244.8737011545463, 1257.5976293898118, 1268.2145698284921, 1277.8996268828992, 1260.943845452491, 1208.5560485815033, 1196.2626815147098, 1153.8766000612172, 1161.7334314480051, 1195.303821150214, 1223.7358454805965, 1243.0643165524796, 1256.430982046697, 1219.820436545524, 1146.4515074094984, 1055.8595962770512, 1022.338129114373, 1021.6990316067206, 1065.382791450123, 1060.7660880807741, 1049.1860052172449, 992.6803650080074, 967.162282747691, 958.8051996601896, 993.2539469922622, 1022.4299793089401, 1035.0671958220616, 1048.0001956540516, 1060.510556129222, 1074.1500959194204, 1078.7368248663, 1112.8686997322666, 1132.3929680137805, 1138.7300961813671, 1167.3883203498854, 1182.883169839434, 1195.139390032667, 1204.7471558977063, 1210.4892917792743, 1218.0211147852863, 1218.7453182424501, 1199.3472636898343, 1185.3380750396823, 1178.0790192781424, 1171.0930519156009, 1175.3242628016908, 1190.8664290581378, 1201.2732273850056, 1222.0292303269964, 1237.7374334736223, 1239.8591943784243, 1246.2209443930394, 1255.3374508841061, 1267.2067869244656, 1282.4009287257404, 1311.8029467775364, 1329.9719429573956, 1340.3172937182012, 1350.4345177137122, 1375.8378407565742, 1419.613879000579, 1472.9196425596933, 1518.9973952948258, 1545.580533016387, 1560.7731760965385, 1566.5845743043126, 1618.6347307164835, 1685.864362873221, 1751.637345149452, 1813.6512136934866, 1764.2774520533117, 1780.1293183247733, 1791.1030614423491, 1757.3143937136574, 1736.1482764413795, 1766.525961944556, 1841.0453736458644, 1927.2332927569873, 1999.754266891654, 2032.698191164251, 2084.989106419757, 2212.6169857494256, 2367.953462075752, 2348.914993541261, 2332.1957959453443, 2178.5356391956216, 2184.666372054204, 2262.478045857747, 2253.765658812474, 2303.677862779134, 2393.6718109461926, 2483.4777499008874, 2550.8789321005083, 2569.7336467201108, 2680.509009181066, 2843.512233558833, 2781.5059589812054, 2827.3381288643864, 2850.849691169145, 2920.204536641844, 2980.099494527499, 2805.5659863099618, 2763.3294223606936, 2586.489884138079, 2505.300199973738, 2508.591230983621, 2611.2560633633248, 2586.750367221914, 2622.5960296925723, 2721.7017473214323, 2718.6211260521345, 2747.3871310178756, 2736.9115320244337, 2652.756815457442, 2580.5854046433865, 2501.6541593977327, 2561.8594194631396, 2583.9539677085318, 2586.7886648991944, 2537.3966777396427, 2488.304729196435, 2519.852460928131, 2559.7174258231707, 2612.7701196154358, 2635.085341164821, 2642.576444453166, 2581.806594730245, 2585.652527236093, 2559.7947437754156, 2441.0723991758073, 2372.6616944851417, 2395.175857882229, 2385.7732027080883, 2303.5488657110063, 2123.5216547102746, 2009.9421448829858, 2138.2212185408034, 2264.697571552979, 2300.8847283367704, 2691.551787140392, 2728.189149044524, 2835.633777767264, 2814.6702554754265, 2813.4894773331475, 2681.8426970222554, 2604.4596574600255, 2663.5224905861883, 2769.276454830142, 2752.241916942839, 2779.0917333543084, 2859.6798214926807, 2814.549140074636, 2772.9245896012885, 2811.871835364815, 2871.7274518209792, 3176.7860345678405, 3262.222345035542, 3403.2712720259087, 3451.4514093427465, 3422.500292246098, 3451.209687035832, 3639.5630700008933, 3859.973669591, 4075.5021851213946, 4335.1843095674, 4262.184279930766, 4388.482472469388, 4334.266556982291, 4198.323558756578, 4143.9109896477785, 4116.426478221957, 4061.0507666883095, 4114.69331429417, 4168.876257916551, 4334.132100287214, 4405.180045660524, 4404.38518820754, 4389.115360989529, 4430.470964619126, 4601.995529243239, 4640.425522188308, 4773.456933477148, 4954.3866154601055, 4720.461726345119, 4651.225520707069, 4375.078231895575, 4421.442882674344, 4610.578062808314, 4683.966368267435, 4445.090668024075, 4370.148724017456, 4286.191330144096, 4259.294103295658, 4228.707453247266, 3985.7318943191367, 3451.16633117476, 3636.2136423929496, 3704.5887256940555, 3739.8491375659974, 4055.18177476879, 3997.503599383453, 3946.992843668106, 3721.3162733076606, 3672.650229192291, 3787.8696610831857, 3752.802905390698, 3925.3171612138476, 3946.528133068321, 4201.682299845789, 4249.157395925542, 4239.982225207642, 4349.682830664366, 4421.71982492766, 4454.297204834059, 4389.623641553404, 4294.460095736821, 4335.968997127047, 4399.86194080539, 4473.188905749958, 4628.492276397183, 4801.3669746505275, 4822.096857024366, 4872.251773524396, 5418.7137567408645, 5733.860980730382, 5887.398322636611, 5754.256005984634, 5780.003178473824, 5635.364172083687, 5599.312007252516, 5711.451460183165, 6002.780365769402, 6076.492609094212, 6021.406685994938, 5900.781045857151, 5561.230145814128, 5717.987168899612, 5907.666384801403, 5843.167422531633, 5765.490419526184, 6126.51264069313, 6186.353577711148, 6476.067076029299, 6792.863749666707, 7104.454294327206, 7211.832096145566, 7432.69348963931, 7410.640450616464, 6974.232556938841, 7087.768389750532, 7465.092842886544, 7194.003737866769, 6574.976675294001, 6285.891783435639, 5843.088846724158, 6451.988622459587, 6662.539671035911, 7371.104187379254, 7962.991551436108, 7782.23336597028, 7792.335174548521, 8023.552731005462, 8267.365111578034, 8118.489006468822, 8212.460961940735, 7972.235663325688, 8186.5789045504325, 8757.780063249047, 9393.631340947883, 9835.677423492009, 9966.267846276747, 9870.973590567897, 9952.423088744143, 10961.952216982565, 10972.187197637777, 11359.10988905454, 11720.874619486658, 11761.530213300084, 13861.854267564038, 16655.267472056395, 15526.375055072185, 14478.003357373706, 14742.63211793924, 16451.84134370106, 16390.788583603204, 16010.98267649276, 16240.553352538023, 17201.966681416405, 18504.82807717711, 18119.90168229681, 18179.533654769613, 17088.623969526627, 16134.830138839978, 15452.603719314506, 13875.759830353654, 14734.988640209529, 14081.16084494369, 13968.714796491782, 15850.553572551747, 15239.530965396432, 14352.225542219454, 14397.968223731983, 12545.881203003126, 14058.331468378885, 13391.324347759262, 14814.531336910684, 15154.841232151237, 15095.690563262087, 16831.97354381039, 16795.343086728575, 15872.366387988804, 14865.835558409399, 14402.17320699841, 14961.712602532265, 13127.558850560847, 13966.039365183366, 14267.61117323647, 13643.748379907309, 13649.383571331564, 11252.919074365975, 11216.515566482856, 11318.04493027139, 11644.317375263465, 12977.361301626766, 11513.031974083468, 10781.241562386651, 10850.558698965368, 11490.897147707881, 11183.937651318913, 11138.884381523185, 11528.330919311877, 11779.819749478876, 11175.378669085778, 9875.41751280201, 10112.066862816453, 8887.375335207798, 8737.76185930584, 9186.483245733913, 8130.166613256885, 6746.800341833757, 7549.600588566745, 7589.618155387606, 8333.023655791336, 8789.436050819037, 8632.464710612894, 8046.010852937683, 8880.200743086718, 8525.807151345874, 9574.139454089109, 10145.472072040553, 10324.093937596379, 11255.59536208646, 10447.890015219364, 11260.07782286375, 11305.45738565836, 10422.607874484485, 9773.086547315437, 10120.20020825052, 9656.764806038227, 9573.81829956265, 10391.823286196286, 10671.420416930996, 10352.377802638555, 11003.681751532466, 11110.094376947309, 11556.789492416447, 11555.502305074402, 11475.76006436081, 10697.151317590846, 9823.418741114074, 9181.072862478177, 9148.108277264377, 8723.010161390515, 9553.150935269961, 9122.755482533677, 9150.40046417122, 8099.977231357722, 8167.489051291708, 8202.56255122925, 7831.996045741996, 8172.356469294712, 8631.469131580874, 8987.95194056784, 8939.998431295171, 8702.451989636822, 8910.244963139921, 8516.354931323149, 8409.6545514526, 8093.3580224643965, 7725.673771800597, 7873.448959193109, 7041.527276412941, 6752.809357126811, 6844.486984661706, 6814.501428835335, 7054.5965528156585, 7447.687980376637, 6850.602623257545, 6732.213503242015, 6589.308303088718, 6894.542129155517, 7058.094996123878, 6822.305483828275, 6812.748353326907, 6935.660613693078, 7971.843854803408, 8013.327170883026, 8067.121838682919, 8379.495572181942, 8074.226205014214, 7861.789765264562, 8144.160386489768, 8293.988393615402, 8932.36694333445, 8994.657218874256, 8802.14092388573, 8938.773333828241, 9720.48100767551, 8851.86249587806, 9271.39393329331, 8883.4705243721, 9375.678802918857, 9424.59020909244, 9254.049876040413, 9038.46783475561, 9208.606510546546, 9794.39836169122, 9742.459110642183, 9867.460160048442, 9619.58324778901, 9326.317352202195, 9136.485052642793, 9292.74385800623, 8981.968189430867, 8334.34081755585, 8404.15467313549, 8679.778480068857, 8692.844330823293, 8469.321636820296, 8298.056779156577, 8005.301733369847, 8213.121255647133, 8220.202498852525, 8540.396130967792, 8417.721953157235, 7952.907727511349, 7428.050451598792, 7496.793363884202, 7426.939256937247, 7319.990517566236, 7324.55134004798, 7098.891041516876, 7451.564529614008, 7397.5608972689, 7508.664948006247, 7517.140430062503, 7654.391597725989, 7728.723883389882, 7498.392285219929, 7597.879534426223, 7656.07273462049, 7685.842902811117, 7615.534041054695, 7483.165706811483, 6747.679020618147, 6796.323654431752, 6526.517026487636, 6297.589730010379, 6595.332305593008, 6428.423587926172, 6498.614264816857, 6459.568297490041, 6725.621699534946, 6768.147269104431, 6788.835615492848, 6732.871655918237, 6081.034804613422, 6112.439435240704, 6138.721008861921, 6278.016432137825, 6112.526146962848, 6144.721245931253, 5877.760475297593, 6186.752665736027, 6419.143934935665, 6414.676033163576, 6626.770764497076, 6551.121745274704, 6597.457920352127, 6548.424475458489, 6617.794709585582, 6771.766038308564, 6740.73351872594, 6683.249427726092, 6315.190496781424, 6350.651951386928, 6246.685238845594, 6220.928431720609, 6251.467657950595, 6371.679865161321, 6747.096660410169, 7379.339445849719, 7492.781073333648, 7529.196999191788, 7340.152598737296, 7387.903994761312, 7389.648934355069, 7726.383309201053, 8467.199875915492, 8253.749016068266, 7920.548197425397, 8143.10014834642, 8239.899976475308, 8229.536962215549, 8152.226075370262, 7687.573283399674, 7536.052149610551, 7484.449468505246, 7392.915289992169, 6980.806375992428, 6976.090114719877, 6908.15222978079, 6713.522309802134, 6270.467587941911, 6490.310921586783, 6164.271420677902, 6232.79402095816, 6310.2301580687645, 6290.283678636466, 6215.825072192167, 6280.647758224608, 6337.35701040362, 6601.120794777895, 6450.079679954318, 6495.494355643822, 6278.861496748446, 6472.903918046701, 6383.652505907691, 6541.92430784297, 6715.65905791817, 6777.593494242661, 6728.272294893317, 6920.37794029401, 7111.11632382406, 7072.101187331784, 6994.724784963101, 7011.563130888334, 7160.26838178947, 7316.467666514004, 7288.043778098292, 7362.282714846494, 6672.711277197903, 6428.869350408897, 6346.40157828076, 6179.077286656688, 6226.4090407661315, 6312.044895246272, 6307.436541894611, 6346.621247976857, 6501.067885398999, 6515.023548294742, 6514.519977997255, 6515.101481793163, 6275.952479047785, 6319.6879447699475, 6395.216638096406, 6520.80647080117, 6777.204254956594, 6760.142385480945, 6728.869214106494, 6587.10090097686, 6429.034637938515, 6442.7016899664795, 6687.370910815642, 6651.483391205035, 6596.0144378072055, 6600.6668963805005, 6562.734264745406, 6510.771890570468, 6461.174070122333, 6553.393378291854, 6603.284519874154, 6573.078009733579, 6585.977288340291, 6618.100020488734, 6607.412426054232, 6532.295666933711, 6169.144833565399, 6156.587477477857, 6197.67855682916, 6211.957729384555, 6450.724130037412, 6502.742599202971, 6478.647445597883, 6411.172023176896, 6391.363640190975, 6424.319661284069, 6432.31127052046, 6428.868922202862, 6413.1755992159615, 6426.94756172257, 6411.670883207995, 6422.0638718902255, 6424.723459575336, 6422.547316504054, 6287.73970658088, 6288.637226430823, 6315.088583745028, 6365.583067631034, 6395.688092941247, 6423.5035005808295, 6450.177739136396, 6427.720473616247, 6463.460690350717, 6519.187423781785, 6432.5326530407, 6337.254669161189, 6340.3394654393305]}],\n",
              "                        {\"template\": {\"data\": {\"bar\": [{\"error_x\": {\"color\": \"#2a3f5f\"}, \"error_y\": {\"color\": \"#2a3f5f\"}, \"marker\": {\"line\": {\"color\": \"#E5ECF6\", \"width\": 0.5}}, \"type\": \"bar\"}], \"barpolar\": [{\"marker\": {\"line\": {\"color\": \"#E5ECF6\", \"width\": 0.5}}, \"type\": \"barpolar\"}], \"carpet\": [{\"aaxis\": {\"endlinecolor\": \"#2a3f5f\", \"gridcolor\": \"white\", \"linecolor\": \"white\", \"minorgridcolor\": \"white\", \"startlinecolor\": \"#2a3f5f\"}, \"baxis\": {\"endlinecolor\": \"#2a3f5f\", \"gridcolor\": \"white\", \"linecolor\": \"white\", \"minorgridcolor\": \"white\", \"startlinecolor\": \"#2a3f5f\"}, \"type\": \"carpet\"}], \"choropleth\": [{\"colorbar\": {\"outlinewidth\": 0, \"ticks\": \"\"}, \"type\": \"choropleth\"}], \"contour\": [{\"colorbar\": {\"outlinewidth\": 0, \"ticks\": \"\"}, \"colorscale\": [[0.0, \"#0d0887\"], [0.1111111111111111, \"#46039f\"], [0.2222222222222222, \"#7201a8\"], [0.3333333333333333, \"#9c179e\"], [0.4444444444444444, \"#bd3786\"], [0.5555555555555556, \"#d8576b\"], [0.6666666666666666, \"#ed7953\"], [0.7777777777777778, \"#fb9f3a\"], [0.8888888888888888, \"#fdca26\"], [1.0, \"#f0f921\"]], \"type\": \"contour\"}], \"contourcarpet\": [{\"colorbar\": {\"outlinewidth\": 0, \"ticks\": \"\"}, \"type\": \"contourcarpet\"}], \"heatmap\": [{\"colorbar\": {\"outlinewidth\": 0, \"ticks\": \"\"}, \"colorscale\": [[0.0, \"#0d0887\"], [0.1111111111111111, \"#46039f\"], [0.2222222222222222, \"#7201a8\"], [0.3333333333333333, \"#9c179e\"], [0.4444444444444444, \"#bd3786\"], [0.5555555555555556, \"#d8576b\"], [0.6666666666666666, \"#ed7953\"], [0.7777777777777778, \"#fb9f3a\"], [0.8888888888888888, \"#fdca26\"], [1.0, \"#f0f921\"]], \"type\": \"heatmap\"}], \"heatmapgl\": [{\"colorbar\": {\"outlinewidth\": 0, \"ticks\": \"\"}, \"colorscale\": [[0.0, \"#0d0887\"], [0.1111111111111111, \"#46039f\"], [0.2222222222222222, \"#7201a8\"], [0.3333333333333333, \"#9c179e\"], [0.4444444444444444, \"#bd3786\"], [0.5555555555555556, \"#d8576b\"], [0.6666666666666666, \"#ed7953\"], [0.7777777777777778, \"#fb9f3a\"], [0.8888888888888888, \"#fdca26\"], [1.0, \"#f0f921\"]], \"type\": \"heatmapgl\"}], \"histogram\": [{\"marker\": {\"colorbar\": {\"outlinewidth\": 0, \"ticks\": \"\"}}, \"type\": \"histogram\"}], \"histogram2d\": [{\"colorbar\": {\"outlinewidth\": 0, \"ticks\": \"\"}, \"colorscale\": [[0.0, \"#0d0887\"], [0.1111111111111111, \"#46039f\"], [0.2222222222222222, \"#7201a8\"], [0.3333333333333333, \"#9c179e\"], [0.4444444444444444, \"#bd3786\"], [0.5555555555555556, \"#d8576b\"], [0.6666666666666666, \"#ed7953\"], [0.7777777777777778, \"#fb9f3a\"], [0.8888888888888888, \"#fdca26\"], [1.0, \"#f0f921\"]], \"type\": \"histogram2d\"}], \"histogram2dcontour\": [{\"colorbar\": {\"outlinewidth\": 0, \"ticks\": \"\"}, \"colorscale\": [[0.0, \"#0d0887\"], [0.1111111111111111, \"#46039f\"], [0.2222222222222222, \"#7201a8\"], [0.3333333333333333, \"#9c179e\"], [0.4444444444444444, \"#bd3786\"], [0.5555555555555556, \"#d8576b\"], [0.6666666666666666, \"#ed7953\"], [0.7777777777777778, \"#fb9f3a\"], [0.8888888888888888, \"#fdca26\"], [1.0, \"#f0f921\"]], \"type\": \"histogram2dcontour\"}], \"mesh3d\": [{\"colorbar\": {\"outlinewidth\": 0, \"ticks\": \"\"}, \"type\": \"mesh3d\"}], \"parcoords\": [{\"line\": {\"colorbar\": {\"outlinewidth\": 0, \"ticks\": \"\"}}, \"type\": \"parcoords\"}], \"pie\": [{\"automargin\": true, \"type\": \"pie\"}], \"scatter\": [{\"marker\": {\"colorbar\": {\"outlinewidth\": 0, \"ticks\": \"\"}}, \"type\": \"scatter\"}], \"scatter3d\": [{\"line\": {\"colorbar\": {\"outlinewidth\": 0, \"ticks\": \"\"}}, \"marker\": {\"colorbar\": {\"outlinewidth\": 0, \"ticks\": \"\"}}, \"type\": \"scatter3d\"}], \"scattercarpet\": [{\"marker\": {\"colorbar\": {\"outlinewidth\": 0, \"ticks\": \"\"}}, \"type\": \"scattercarpet\"}], \"scattergeo\": [{\"marker\": {\"colorbar\": {\"outlinewidth\": 0, \"ticks\": \"\"}}, \"type\": \"scattergeo\"}], \"scattergl\": [{\"marker\": {\"colorbar\": {\"outlinewidth\": 0, \"ticks\": \"\"}}, \"type\": \"scattergl\"}], \"scattermapbox\": [{\"marker\": {\"colorbar\": {\"outlinewidth\": 0, \"ticks\": \"\"}}, \"type\": \"scattermapbox\"}], \"scatterpolar\": [{\"marker\": {\"colorbar\": {\"outlinewidth\": 0, \"ticks\": \"\"}}, \"type\": \"scatterpolar\"}], \"scatterpolargl\": [{\"marker\": {\"colorbar\": {\"outlinewidth\": 0, \"ticks\": \"\"}}, \"type\": \"scatterpolargl\"}], \"scatterternary\": [{\"marker\": {\"colorbar\": {\"outlinewidth\": 0, \"ticks\": \"\"}}, \"type\": \"scatterternary\"}], \"surface\": [{\"colorbar\": {\"outlinewidth\": 0, \"ticks\": \"\"}, \"colorscale\": [[0.0, \"#0d0887\"], [0.1111111111111111, \"#46039f\"], [0.2222222222222222, \"#7201a8\"], [0.3333333333333333, \"#9c179e\"], [0.4444444444444444, \"#bd3786\"], [0.5555555555555556, \"#d8576b\"], [0.6666666666666666, \"#ed7953\"], [0.7777777777777778, \"#fb9f3a\"], [0.8888888888888888, \"#fdca26\"], [1.0, \"#f0f921\"]], \"type\": \"surface\"}], \"table\": [{\"cells\": {\"fill\": {\"color\": \"#EBF0F8\"}, \"line\": {\"color\": \"white\"}}, \"header\": {\"fill\": {\"color\": \"#C8D4E3\"}, \"line\": {\"color\": \"white\"}}, \"type\": \"table\"}]}, \"layout\": {\"annotationdefaults\": {\"arrowcolor\": \"#2a3f5f\", \"arrowhead\": 0, \"arrowwidth\": 1}, \"coloraxis\": {\"colorbar\": {\"outlinewidth\": 0, \"ticks\": \"\"}}, \"colorscale\": {\"diverging\": [[0, \"#8e0152\"], [0.1, \"#c51b7d\"], [0.2, \"#de77ae\"], [0.3, \"#f1b6da\"], [0.4, \"#fde0ef\"], [0.5, \"#f7f7f7\"], [0.6, \"#e6f5d0\"], [0.7, \"#b8e186\"], [0.8, \"#7fbc41\"], [0.9, \"#4d9221\"], [1, \"#276419\"]], \"sequential\": [[0.0, \"#0d0887\"], [0.1111111111111111, \"#46039f\"], [0.2222222222222222, \"#7201a8\"], [0.3333333333333333, \"#9c179e\"], [0.4444444444444444, \"#bd3786\"], [0.5555555555555556, \"#d8576b\"], [0.6666666666666666, \"#ed7953\"], [0.7777777777777778, \"#fb9f3a\"], [0.8888888888888888, \"#fdca26\"], [1.0, \"#f0f921\"]], \"sequentialminus\": [[0.0, \"#0d0887\"], [0.1111111111111111, \"#46039f\"], [0.2222222222222222, \"#7201a8\"], [0.3333333333333333, \"#9c179e\"], [0.4444444444444444, \"#bd3786\"], [0.5555555555555556, \"#d8576b\"], [0.6666666666666666, \"#ed7953\"], [0.7777777777777778, \"#fb9f3a\"], [0.8888888888888888, \"#fdca26\"], [1.0, \"#f0f921\"]]}, \"colorway\": [\"#636efa\", \"#EF553B\", \"#00cc96\", \"#ab63fa\", \"#FFA15A\", \"#19d3f3\", \"#FF6692\", \"#B6E880\", \"#FF97FF\", \"#FECB52\"], \"font\": {\"color\": \"#2a3f5f\"}, \"geo\": {\"bgcolor\": \"white\", \"lakecolor\": \"white\", \"landcolor\": \"#E5ECF6\", \"showlakes\": true, \"showland\": true, \"subunitcolor\": \"white\"}, \"hoverlabel\": {\"align\": \"left\"}, \"hovermode\": \"closest\", \"mapbox\": {\"style\": \"light\"}, \"paper_bgcolor\": \"white\", \"plot_bgcolor\": \"#E5ECF6\", \"polar\": {\"angularaxis\": {\"gridcolor\": \"white\", \"linecolor\": \"white\", \"ticks\": \"\"}, \"bgcolor\": \"#E5ECF6\", \"radialaxis\": {\"gridcolor\": \"white\", \"linecolor\": \"white\", \"ticks\": \"\"}}, \"scene\": {\"xaxis\": {\"backgroundcolor\": \"#E5ECF6\", \"gridcolor\": \"white\", \"gridwidth\": 2, \"linecolor\": \"white\", \"showbackground\": true, \"ticks\": \"\", \"zerolinecolor\": \"white\"}, \"yaxis\": {\"backgroundcolor\": \"#E5ECF6\", \"gridcolor\": \"white\", \"gridwidth\": 2, \"linecolor\": \"white\", \"showbackground\": true, \"ticks\": \"\", \"zerolinecolor\": \"white\"}, \"zaxis\": {\"backgroundcolor\": \"#E5ECF6\", \"gridcolor\": \"white\", \"gridwidth\": 2, \"linecolor\": \"white\", \"showbackground\": true, \"ticks\": \"\", \"zerolinecolor\": \"white\"}}, \"shapedefaults\": {\"line\": {\"color\": \"#2a3f5f\"}}, \"ternary\": {\"aaxis\": {\"gridcolor\": \"white\", \"linecolor\": \"white\", \"ticks\": \"\"}, \"baxis\": {\"gridcolor\": \"white\", \"linecolor\": \"white\", \"ticks\": \"\"}, \"bgcolor\": \"#E5ECF6\", \"caxis\": {\"gridcolor\": \"white\", \"linecolor\": \"white\", \"ticks\": \"\"}}, \"title\": {\"x\": 0.05}, \"xaxis\": {\"automargin\": true, \"gridcolor\": \"white\", \"linecolor\": \"white\", \"ticks\": \"\", \"title\": {\"standoff\": 15}, \"zerolinecolor\": \"white\", \"zerolinewidth\": 2}, \"yaxis\": {\"automargin\": true, \"gridcolor\": \"white\", \"linecolor\": \"white\", \"ticks\": \"\", \"title\": {\"standoff\": 15}, \"zerolinecolor\": \"white\", \"zerolinewidth\": 2}}}, \"xaxis\": {\"rangeslider\": {\"visible\": true}}, \"yaxis\": {\"autorange\": true, \"fixedrange\": false}},\n",
              "                        {\"responsive\": true}\n",
              "                    ).then(function(){\n",
              "                            \n",
              "var gd = document.getElementById('bc2641bf-537a-430f-8a84-421fe4b00dcb');\n",
              "var x = new MutationObserver(function (mutations, observer) {{\n",
              "        var display = window.getComputedStyle(gd).display;\n",
              "        if (!display || display === 'none') {{\n",
              "            console.log([gd, 'removed!']);\n",
              "            Plotly.purge(gd);\n",
              "            observer.disconnect();\n",
              "        }}\n",
              "}});\n",
              "\n",
              "// Listen for the removal of the full notebook cells\n",
              "var notebookContainer = gd.closest('#notebook-container');\n",
              "if (notebookContainer) {{\n",
              "    x.observe(notebookContainer, {childList: true});\n",
              "}}\n",
              "\n",
              "// Listen for the clearing of the current output cell\n",
              "var outputEl = gd.closest('.output');\n",
              "if (outputEl) {{\n",
              "    x.observe(outputEl, {childList: true});\n",
              "}}\n",
              "\n",
              "                        })\n",
              "                };\n",
              "                \n",
              "            </script>\n",
              "        </div>\n",
              "</body>\n",
              "</html>"
            ]
          },
          "metadata": {
            "tags": []
          }
        }
      ]
    },
    {
      "cell_type": "code",
      "metadata": {
        "id": "a0FpLKGEJz2p",
        "outputId": "d2a794a7-4376-4588-ff74-799970bed996",
        "colab": {
          "base_uri": "https://localhost:8080/"
        }
      },
      "source": [
        "prix_ouverture_norm[temps_separation:]"
      ],
      "execution_count": 41,
      "outputs": [
        {
          "output_type": "execute_result",
          "data": {
            "text/plain": [
              "Timestamp\n",
              "2019-08-25     2.070251\n",
              "2019-08-26     2.066735\n",
              "2019-08-27     2.127525\n",
              "2019-08-28     2.076379\n",
              "2019-08-29     1.950771\n",
              "                ...    \n",
              "2021-03-27    14.578943\n",
              "2021-03-28    14.784004\n",
              "2021-03-29    14.776329\n",
              "2021-03-30    15.286728\n",
              "2021-03-31    15.605234\n",
              "Freq: D, Name: Open, Length: 585, dtype: float64"
            ]
          },
          "metadata": {
            "tags": []
          },
          "execution_count": 41
        }
      ]
    },
    {
      "cell_type": "code",
      "metadata": {
        "id": "wlWuVkQhJiTT"
      },
      "source": [
        "np.asarray(prix_ouverture_norm)[temps_separation:temps_separation+len(pred)]\n"
      ],
      "execution_count": null,
      "outputs": []
    },
    {
      "cell_type": "code",
      "metadata": {
        "id": "PwxcgGtVKCzU",
        "outputId": "e5817583-1d0d-4cc8-a1ac-05ad8fc82276",
        "colab": {
          "base_uri": "https://localhost:8080/"
        }
      },
      "source": [
        "len(pred_norm)"
      ],
      "execution_count": 46,
      "outputs": [
        {
          "output_type": "execute_result",
          "data": {
            "text/plain": [
              "570"
            ]
          },
          "metadata": {
            "tags": []
          },
          "execution_count": 46
        }
      ]
    },
    {
      "cell_type": "code",
      "metadata": {
        "id": "kGOAS5DANPjx",
        "outputId": "69afe1ab-a4cb-4f11-9926-c952ff9d024f",
        "colab": {
          "base_uri": "https://localhost:8080/"
        }
      },
      "source": [
        "np.asarray(ent_norm)"
      ],
      "execution_count": 80,
      "outputs": [
        {
          "output_type": "execute_result",
          "data": {
            "text/plain": [
              "array([-0.720458 , -0.7178275, -0.7163571, ...,  2.2548168,  2.069664 ,\n",
              "        2.0626843], dtype=float32)"
            ]
          },
          "metadata": {
            "tags": []
          },
          "execution_count": 80
        }
      ]
    },
    {
      "cell_type": "code",
      "metadata": {
        "id": "dj1BqPolJAii",
        "outputId": "a3d415a7-1c1b-4039-91dc-c654685059d9",
        "colab": {
          "base_uri": "https://localhost:8080/"
        }
      },
      "source": [
        "prix_ouverture_norm = (prix_ouverture-mean)/std\n",
        "pred_norm = predictions\n",
        "ent_norm = predictions_ent\n",
        "\n",
        "\n",
        "pred_norm = np.roll(pred_norm,0)\n",
        "ent_norm = np.roll(ent_norm,0)\n",
        "\n",
        "\n",
        "mae = tf.keras.metrics.mean_absolute_error(prix_ouverture_norm[temps_separation:temps_separation+len(pred_norm)],np.asarray(pred_norm)).numpy()\n",
        "mse = tf.keras.metrics.mean_squared_error(prix_ouverture_norm[temps_separation:temps_separation+len(pred_norm)],np.asarray(pred_norm)).numpy()\n",
        "\n",
        "hubber_ent = tf.keras.losses.Huber()\n",
        "hubert = hubber_ent(prix_ouverture_norm[taille_fenetre:temps_separation],np.asarray(ent_norm))\n",
        "mae_ent = tf.keras.metrics.mean_absolute_error(prix_ouverture_norm[taille_fenetre:temps_separation],np.asarray(ent_norm))\n",
        "\n",
        "\n",
        "print(hubert)\n",
        "print(mae_ent)\n",
        "\n",
        "print(mae)\n",
        "print(mse)"
      ],
      "execution_count": 110,
      "outputs": [
        {
          "output_type": "stream",
          "text": [
            "tf.Tensor(0.002167977, shape=(), dtype=float32)\n",
            "tf.Tensor(0.025967875, shape=(), dtype=float32)\n",
            "0.47962016\n",
            "1.4770559\n"
          ],
          "name": "stdout"
        }
      ]
    },
    {
      "cell_type": "code",
      "metadata": {
        "id": "xaaW7YkdYbSb",
        "outputId": "8130f6c8-2ee5-4f19-bc6f-702c0b1368f0",
        "colab": {
          "base_uri": "https://localhost:8080/"
        }
      },
      "source": [
        "model.evaluate(dataset_norm,verbose=1)"
      ],
      "execution_count": 111,
      "outputs": [
        {
          "output_type": "stream",
          "text": [
            "4/4 [==============================] - 0s 93ms/step - loss: 0.0018 - mae: 0.0212\n"
          ],
          "name": "stdout"
        },
        {
          "output_type": "execute_result",
          "data": {
            "text/plain": [
              "[0.0018263779347762465, 0.021245842799544334]"
            ]
          },
          "metadata": {
            "tags": []
          },
          "execution_count": 111
        }
      ]
    },
    {
      "cell_type": "code",
      "metadata": {
        "id": "3TK8cuMdYT-u"
      },
      "source": [
        ""
      ],
      "execution_count": null,
      "outputs": []
    },
    {
      "cell_type": "code",
      "metadata": {
        "id": "i0b9ktzBMGPR",
        "outputId": "eb9910b6-5d51-4d25-d7f5-475b34560614",
        "colab": {
          "base_uri": "https://localhost:8080/",
          "height": 542
        }
      },
      "source": [
        "import plotly.graph_objects as go\n",
        "\n",
        "\n",
        "\n",
        "fig = go.Figure()\n",
        "fig.add_trace(go.Scatter(x=dates_ouverture,y=prix_ouverture_norm,line=dict(color='blue', width=1),name=\"Prix BTC\"))\n",
        "fig.add_trace(go.Scatter(x=dates_predictions,y=pred_norm,line=dict(color='red', width=1),name=\"Prédictions\"))\n",
        "fig.add_trace(go.Scatter(x=dates_predictions_ent,y=ent_norm,line=dict(color='green', width=1),name=\"Entrainement\"))\n",
        "#fig.add_trace(go.Scatter(x=dates_ouverture,y=pred_a_la_con,line=dict(color='yellow', width=1),name=\"PredCon\"))\n",
        "\n",
        "\n",
        "\n",
        "fig.update_xaxes(rangeslider_visible=True)\n",
        "yaxis=dict(autorange = True,fixedrange= False)\n",
        "fig.update_yaxes(yaxis)\n",
        "fig.show()"
      ],
      "execution_count": 97,
      "outputs": [
        {
          "output_type": "display_data",
          "data": {
            "text/html": [
              "<html>\n",
              "<head><meta charset=\"utf-8\" /></head>\n",
              "<body>\n",
              "    <div>\n",
              "            <script src=\"https://cdnjs.cloudflare.com/ajax/libs/mathjax/2.7.5/MathJax.js?config=TeX-AMS-MML_SVG\"></script><script type=\"text/javascript\">if (window.MathJax) {MathJax.Hub.Config({SVG: {font: \"STIX-Web\"}});}</script>\n",
              "                <script type=\"text/javascript\">window.PlotlyConfig = {MathJaxConfig: 'local'};</script>\n",
              "        <script src=\"https://cdn.plot.ly/plotly-latest.min.js\"></script>    \n",
              "            <div id=\"91e97237-5150-460f-a2aa-416b198c7218\" class=\"plotly-graph-div\" style=\"height:525px; width:100%;\"></div>\n",
              "            <script type=\"text/javascript\">\n",
              "                \n",
              "                    window.PLOTLYENV=window.PLOTLYENV || {};\n",
              "                    \n",
              "                if (document.getElementById(\"91e97237-5150-460f-a2aa-416b198c7218\")) {\n",
              "                    Plotly.newPlot(\n",
              "                        '91e97237-5150-460f-a2aa-416b198c7218',\n",
              "                        [{\"line\": {\"color\": \"blue\", \"width\": 1}, \"name\": \"Prix BTC\", \"type\": \"scatter\", \"x\": [\"2013-04-01T00:00:00\", \"2013-04-02T00:00:00\", \"2013-04-03T00:00:00\", \"2013-04-04T00:00:00\", \"2013-04-05T00:00:00\", \"2013-04-06T00:00:00\", \"2013-04-07T00:00:00\", \"2013-04-08T00:00:00\", \"2013-04-09T00:00:00\", \"2013-04-10T00:00:00\", \"2013-04-11T00:00:00\", \"2013-04-12T00:00:00\", \"2013-04-13T00:00:00\", \"2013-04-14T00:00:00\", \"2013-04-15T00:00:00\", \"2013-04-16T00:00:00\", \"2013-04-17T00:00:00\", \"2013-04-18T00:00:00\", \"2013-04-19T00:00:00\", \"2013-04-20T00:00:00\", \"2013-04-21T00:00:00\", \"2013-04-22T00:00:00\", \"2013-04-23T00:00:00\", \"2013-04-24T00:00:00\", \"2013-04-25T00:00:00\", \"2013-04-26T00:00:00\", \"2013-04-27T00:00:00\", \"2013-04-28T00:00:00\", \"2013-04-29T00:00:00\", \"2013-04-30T00:00:00\", \"2013-05-01T00:00:00\", \"2013-05-02T00:00:00\", \"2013-05-03T00:00:00\", \"2013-05-04T00:00:00\", \"2013-05-05T00:00:00\", \"2013-05-06T00:00:00\", \"2013-05-07T00:00:00\", \"2013-05-08T00:00:00\", \"2013-05-09T00:00:00\", \"2013-05-10T00:00:00\", \"2013-05-11T00:00:00\", \"2013-05-12T00:00:00\", \"2013-05-13T00:00:00\", \"2013-05-14T00:00:00\", \"2013-05-15T00:00:00\", \"2013-05-16T00:00:00\", \"2013-05-17T00:00:00\", \"2013-05-18T00:00:00\", \"2013-05-19T00:00:00\", \"2013-05-20T00:00:00\", \"2013-05-21T00:00:00\", \"2013-05-22T00:00:00\", \"2013-05-23T00:00:00\", \"2013-05-24T00:00:00\", \"2013-05-25T00:00:00\", \"2013-05-26T00:00:00\", \"2013-05-27T00:00:00\", \"2013-05-28T00:00:00\", \"2013-05-29T00:00:00\", \"2013-05-30T00:00:00\", \"2013-05-31T00:00:00\", \"2013-06-01T00:00:00\", \"2013-06-02T00:00:00\", \"2013-06-03T00:00:00\", \"2013-06-04T00:00:00\", \"2013-06-05T00:00:00\", \"2013-06-06T00:00:00\", \"2013-06-07T00:00:00\", \"2013-06-08T00:00:00\", \"2013-06-09T00:00:00\", \"2013-06-10T00:00:00\", \"2013-06-11T00:00:00\", \"2013-06-12T00:00:00\", \"2013-06-13T00:00:00\", \"2013-06-14T00:00:00\", \"2013-06-15T00:00:00\", \"2013-06-16T00:00:00\", \"2013-06-17T00:00:00\", \"2013-06-18T00:00:00\", \"2013-06-19T00:00:00\", \"2013-06-20T00:00:00\", \"2013-06-21T00:00:00\", \"2013-06-22T00:00:00\", \"2013-06-23T00:00:00\", \"2013-06-24T00:00:00\", \"2013-06-25T00:00:00\", \"2013-06-26T00:00:00\", \"2013-06-27T00:00:00\", \"2013-06-28T00:00:00\", \"2013-06-29T00:00:00\", \"2013-06-30T00:00:00\", \"2013-07-01T00:00:00\", \"2013-07-02T00:00:00\", \"2013-07-03T00:00:00\", \"2013-07-04T00:00:00\", \"2013-07-05T00:00:00\", \"2013-07-06T00:00:00\", \"2013-07-07T00:00:00\", \"2013-07-08T00:00:00\", \"2013-07-09T00:00:00\", \"2013-07-10T00:00:00\", \"2013-07-11T00:00:00\", \"2013-07-12T00:00:00\", \"2013-07-13T00:00:00\", \"2013-07-14T00:00:00\", \"2013-07-15T00:00:00\", \"2013-07-16T00:00:00\", \"2013-07-17T00:00:00\", \"2013-07-18T00:00:00\", \"2013-07-19T00:00:00\", \"2013-07-20T00:00:00\", \"2013-07-21T00:00:00\", \"2013-07-22T00:00:00\", \"2013-07-23T00:00:00\", \"2013-07-24T00:00:00\", \"2013-07-25T00:00:00\", \"2013-07-26T00:00:00\", \"2013-07-27T00:00:00\", \"2013-07-28T00:00:00\", \"2013-07-29T00:00:00\", \"2013-07-30T00:00:00\", \"2013-07-31T00:00:00\", \"2013-08-01T00:00:00\", \"2013-08-02T00:00:00\", \"2013-08-03T00:00:00\", \"2013-08-04T00:00:00\", \"2013-08-05T00:00:00\", \"2013-08-06T00:00:00\", \"2013-08-07T00:00:00\", \"2013-08-08T00:00:00\", \"2013-08-09T00:00:00\", \"2013-08-10T00:00:00\", \"2013-08-11T00:00:00\", \"2013-08-12T00:00:00\", \"2013-08-13T00:00:00\", \"2013-08-14T00:00:00\", \"2013-08-15T00:00:00\", \"2013-08-16T00:00:00\", \"2013-08-17T00:00:00\", \"2013-08-18T00:00:00\", \"2013-08-19T00:00:00\", \"2013-08-20T00:00:00\", \"2013-08-21T00:00:00\", \"2013-08-22T00:00:00\", \"2013-08-23T00:00:00\", \"2013-08-24T00:00:00\", \"2013-08-25T00:00:00\", \"2013-08-26T00:00:00\", \"2013-08-27T00:00:00\", \"2013-08-28T00:00:00\", \"2013-08-29T00:00:00\", \"2013-08-30T00:00:00\", \"2013-08-31T00:00:00\", \"2013-09-01T00:00:00\", \"2013-09-02T00:00:00\", \"2013-09-03T00:00:00\", \"2013-09-04T00:00:00\", \"2013-09-05T00:00:00\", \"2013-09-06T00:00:00\", \"2013-09-07T00:00:00\", \"2013-09-08T00:00:00\", \"2013-09-09T00:00:00\", \"2013-09-10T00:00:00\", \"2013-09-11T00:00:00\", \"2013-09-12T00:00:00\", \"2013-09-13T00:00:00\", \"2013-09-14T00:00:00\", \"2013-09-15T00:00:00\", \"2013-09-16T00:00:00\", \"2013-09-17T00:00:00\", \"2013-09-18T00:00:00\", \"2013-09-19T00:00:00\", \"2013-09-20T00:00:00\", \"2013-09-21T00:00:00\", \"2013-09-22T00:00:00\", \"2013-09-23T00:00:00\", \"2013-09-24T00:00:00\", \"2013-09-25T00:00:00\", \"2013-09-26T00:00:00\", \"2013-09-27T00:00:00\", \"2013-09-28T00:00:00\", \"2013-09-29T00:00:00\", \"2013-09-30T00:00:00\", \"2013-10-01T00:00:00\", \"2013-10-02T00:00:00\", \"2013-10-03T00:00:00\", \"2013-10-04T00:00:00\", \"2013-10-05T00:00:00\", \"2013-10-06T00:00:00\", \"2013-10-07T00:00:00\", \"2013-10-08T00:00:00\", \"2013-10-09T00:00:00\", \"2013-10-10T00:00:00\", \"2013-10-11T00:00:00\", \"2013-10-12T00:00:00\", \"2013-10-13T00:00:00\", \"2013-10-14T00:00:00\", \"2013-10-15T00:00:00\", \"2013-10-16T00:00:00\", \"2013-10-17T00:00:00\", \"2013-10-18T00:00:00\", \"2013-10-19T00:00:00\", \"2013-10-20T00:00:00\", \"2013-10-21T00:00:00\", \"2013-10-22T00:00:00\", \"2013-10-23T00:00:00\", \"2013-10-24T00:00:00\", \"2013-10-25T00:00:00\", \"2013-10-26T00:00:00\", \"2013-10-27T00:00:00\", \"2013-10-28T00:00:00\", \"2013-10-29T00:00:00\", \"2013-10-30T00:00:00\", \"2013-10-31T00:00:00\", \"2013-11-01T00:00:00\", \"2013-11-02T00:00:00\", \"2013-11-03T00:00:00\", \"2013-11-04T00:00:00\", \"2013-11-05T00:00:00\", \"2013-11-06T00:00:00\", \"2013-11-07T00:00:00\", \"2013-11-08T00:00:00\", \"2013-11-09T00:00:00\", \"2013-11-10T00:00:00\", \"2013-11-11T00:00:00\", \"2013-11-12T00:00:00\", \"2013-11-13T00:00:00\", \"2013-11-14T00:00:00\", \"2013-11-15T00:00:00\", \"2013-11-16T00:00:00\", \"2013-11-17T00:00:00\", \"2013-11-18T00:00:00\", \"2013-11-19T00:00:00\", \"2013-11-20T00:00:00\", \"2013-11-21T00:00:00\", \"2013-11-22T00:00:00\", \"2013-11-23T00:00:00\", \"2013-11-24T00:00:00\", \"2013-11-25T00:00:00\", \"2013-11-26T00:00:00\", \"2013-11-27T00:00:00\", \"2013-11-28T00:00:00\", \"2013-11-29T00:00:00\", \"2013-11-30T00:00:00\", \"2013-12-01T00:00:00\", \"2013-12-02T00:00:00\", \"2013-12-03T00:00:00\", \"2013-12-04T00:00:00\", \"2013-12-05T00:00:00\", \"2013-12-06T00:00:00\", \"2013-12-07T00:00:00\", \"2013-12-08T00:00:00\", \"2013-12-09T00:00:00\", \"2013-12-10T00:00:00\", \"2013-12-11T00:00:00\", \"2013-12-12T00:00:00\", \"2013-12-13T00:00:00\", \"2013-12-14T00:00:00\", \"2013-12-15T00:00:00\", \"2013-12-16T00:00:00\", \"2013-12-17T00:00:00\", \"2013-12-18T00:00:00\", \"2013-12-19T00:00:00\", \"2013-12-20T00:00:00\", \"2013-12-21T00:00:00\", \"2013-12-22T00:00:00\", \"2013-12-23T00:00:00\", \"2013-12-24T00:00:00\", \"2013-12-25T00:00:00\", \"2013-12-26T00:00:00\", \"2013-12-27T00:00:00\", \"2013-12-28T00:00:00\", \"2013-12-29T00:00:00\", \"2013-12-30T00:00:00\", \"2013-12-31T00:00:00\", \"2014-01-01T00:00:00\", \"2014-01-02T00:00:00\", \"2014-01-03T00:00:00\", \"2014-01-04T00:00:00\", \"2014-01-05T00:00:00\", \"2014-01-06T00:00:00\", \"2014-01-07T00:00:00\", \"2014-01-08T00:00:00\", \"2014-01-09T00:00:00\", \"2014-01-10T00:00:00\", \"2014-01-11T00:00:00\", \"2014-01-12T00:00:00\", \"2014-01-13T00:00:00\", \"2014-01-14T00:00:00\", \"2014-01-15T00:00:00\", \"2014-01-16T00:00:00\", \"2014-01-17T00:00:00\", \"2014-01-18T00:00:00\", \"2014-01-19T00:00:00\", \"2014-01-20T00:00:00\", \"2014-01-21T00:00:00\", \"2014-01-22T00:00:00\", \"2014-01-23T00:00:00\", \"2014-01-24T00:00:00\", \"2014-01-25T00:00:00\", \"2014-01-26T00:00:00\", \"2014-01-27T00:00:00\", \"2014-01-28T00:00:00\", \"2014-01-29T00:00:00\", \"2014-01-30T00:00:00\", \"2014-01-31T00:00:00\", \"2014-02-01T00:00:00\", \"2014-02-02T00:00:00\", \"2014-02-03T00:00:00\", \"2014-02-04T00:00:00\", \"2014-02-05T00:00:00\", \"2014-02-06T00:00:00\", \"2014-02-07T00:00:00\", \"2014-02-08T00:00:00\", \"2014-02-09T00:00:00\", \"2014-02-10T00:00:00\", \"2014-02-11T00:00:00\", \"2014-02-12T00:00:00\", \"2014-02-13T00:00:00\", \"2014-02-14T00:00:00\", \"2014-02-15T00:00:00\", \"2014-02-16T00:00:00\", \"2014-02-17T00:00:00\", \"2014-02-18T00:00:00\", \"2014-02-19T00:00:00\", \"2014-02-20T00:00:00\", \"2014-02-21T00:00:00\", \"2014-02-22T00:00:00\", \"2014-02-23T00:00:00\", \"2014-02-24T00:00:00\", \"2014-02-25T00:00:00\", \"2014-02-26T00:00:00\", \"2014-02-27T00:00:00\", \"2014-02-28T00:00:00\", \"2014-03-01T00:00:00\", \"2014-03-02T00:00:00\", \"2014-03-03T00:00:00\", \"2014-03-04T00:00:00\", \"2014-03-05T00:00:00\", \"2014-03-06T00:00:00\", \"2014-03-07T00:00:00\", \"2014-03-08T00:00:00\", \"2014-03-09T00:00:00\", \"2014-03-10T00:00:00\", \"2014-03-11T00:00:00\", \"2014-03-12T00:00:00\", \"2014-03-13T00:00:00\", \"2014-03-14T00:00:00\", \"2014-03-15T00:00:00\", \"2014-03-16T00:00:00\", \"2014-03-17T00:00:00\", \"2014-03-18T00:00:00\", \"2014-03-19T00:00:00\", \"2014-03-20T00:00:00\", \"2014-03-21T00:00:00\", \"2014-03-22T00:00:00\", \"2014-03-23T00:00:00\", \"2014-03-24T00:00:00\", \"2014-03-25T00:00:00\", \"2014-03-26T00:00:00\", \"2014-03-27T00:00:00\", \"2014-03-28T00:00:00\", \"2014-03-29T00:00:00\", \"2014-03-30T00:00:00\", \"2014-03-31T00:00:00\", \"2014-04-01T00:00:00\", \"2014-04-02T00:00:00\", \"2014-04-03T00:00:00\", \"2014-04-04T00:00:00\", \"2014-04-05T00:00:00\", \"2014-04-06T00:00:00\", \"2014-04-07T00:00:00\", \"2014-04-08T00:00:00\", \"2014-04-09T00:00:00\", \"2014-04-10T00:00:00\", \"2014-04-11T00:00:00\", \"2014-04-12T00:00:00\", \"2014-04-13T00:00:00\", \"2014-04-14T00:00:00\", \"2014-04-15T00:00:00\", \"2014-04-16T00:00:00\", \"2014-04-17T00:00:00\", \"2014-04-18T00:00:00\", \"2014-04-19T00:00:00\", \"2014-04-20T00:00:00\", \"2014-04-21T00:00:00\", \"2014-04-22T00:00:00\", \"2014-04-23T00:00:00\", \"2014-04-24T00:00:00\", \"2014-04-25T00:00:00\", \"2014-04-26T00:00:00\", \"2014-04-27T00:00:00\", \"2014-04-28T00:00:00\", \"2014-04-29T00:00:00\", \"2014-04-30T00:00:00\", \"2014-05-01T00:00:00\", \"2014-05-02T00:00:00\", \"2014-05-03T00:00:00\", \"2014-05-04T00:00:00\", \"2014-05-05T00:00:00\", \"2014-05-06T00:00:00\", \"2014-05-07T00:00:00\", \"2014-05-08T00:00:00\", \"2014-05-09T00:00:00\", \"2014-05-10T00:00:00\", \"2014-05-11T00:00:00\", \"2014-05-12T00:00:00\", \"2014-05-13T00:00:00\", \"2014-05-14T00:00:00\", \"2014-05-15T00:00:00\", \"2014-05-16T00:00:00\", \"2014-05-17T00:00:00\", \"2014-05-18T00:00:00\", \"2014-05-19T00:00:00\", \"2014-05-20T00:00:00\", \"2014-05-21T00:00:00\", \"2014-05-22T00:00:00\", \"2014-05-23T00:00:00\", \"2014-05-24T00:00:00\", \"2014-05-25T00:00:00\", \"2014-05-26T00:00:00\", \"2014-05-27T00:00:00\", \"2014-05-28T00:00:00\", \"2014-05-29T00:00:00\", \"2014-05-30T00:00:00\", \"2014-05-31T00:00:00\", \"2014-06-01T00:00:00\", \"2014-06-02T00:00:00\", \"2014-06-03T00:00:00\", \"2014-06-04T00:00:00\", \"2014-06-05T00:00:00\", \"2014-06-06T00:00:00\", \"2014-06-07T00:00:00\", \"2014-06-08T00:00:00\", \"2014-06-09T00:00:00\", \"2014-06-10T00:00:00\", \"2014-06-11T00:00:00\", \"2014-06-12T00:00:00\", \"2014-06-13T00:00:00\", \"2014-06-14T00:00:00\", \"2014-06-15T00:00:00\", \"2014-06-16T00:00:00\", \"2014-06-17T00:00:00\", \"2014-06-18T00:00:00\", \"2014-06-19T00:00:00\", \"2014-06-20T00:00:00\", \"2014-06-21T00:00:00\", \"2014-06-22T00:00:00\", \"2014-06-23T00:00:00\", \"2014-06-24T00:00:00\", \"2014-06-25T00:00:00\", \"2014-06-26T00:00:00\", \"2014-06-27T00:00:00\", \"2014-06-28T00:00:00\", \"2014-06-29T00:00:00\", \"2014-06-30T00:00:00\", \"2014-07-01T00:00:00\", \"2014-07-02T00:00:00\", \"2014-07-03T00:00:00\", \"2014-07-04T00:00:00\", \"2014-07-05T00:00:00\", \"2014-07-06T00:00:00\", \"2014-07-07T00:00:00\", \"2014-07-08T00:00:00\", \"2014-07-09T00:00:00\", \"2014-07-10T00:00:00\", \"2014-07-11T00:00:00\", \"2014-07-12T00:00:00\", \"2014-07-13T00:00:00\", \"2014-07-14T00:00:00\", \"2014-07-15T00:00:00\", \"2014-07-16T00:00:00\", \"2014-07-17T00:00:00\", \"2014-07-18T00:00:00\", \"2014-07-19T00:00:00\", \"2014-07-20T00:00:00\", \"2014-07-21T00:00:00\", \"2014-07-22T00:00:00\", \"2014-07-23T00:00:00\", \"2014-07-24T00:00:00\", \"2014-07-25T00:00:00\", \"2014-07-26T00:00:00\", \"2014-07-27T00:00:00\", \"2014-07-28T00:00:00\", \"2014-07-29T00:00:00\", \"2014-07-30T00:00:00\", \"2014-07-31T00:00:00\", \"2014-08-01T00:00:00\", \"2014-08-02T00:00:00\", \"2014-08-03T00:00:00\", \"2014-08-04T00:00:00\", \"2014-08-05T00:00:00\", \"2014-08-06T00:00:00\", \"2014-08-07T00:00:00\", \"2014-08-08T00:00:00\", \"2014-08-09T00:00:00\", \"2014-08-10T00:00:00\", \"2014-08-11T00:00:00\", \"2014-08-12T00:00:00\", \"2014-08-13T00:00:00\", \"2014-08-14T00:00:00\", \"2014-08-15T00:00:00\", \"2014-08-16T00:00:00\", \"2014-08-17T00:00:00\", \"2014-08-18T00:00:00\", \"2014-08-19T00:00:00\", \"2014-08-20T00:00:00\", \"2014-08-21T00:00:00\", \"2014-08-22T00:00:00\", \"2014-08-23T00:00:00\", \"2014-08-24T00:00:00\", \"2014-08-25T00:00:00\", \"2014-08-26T00:00:00\", \"2014-08-27T00:00:00\", \"2014-08-28T00:00:00\", \"2014-08-29T00:00:00\", \"2014-08-30T00:00:00\", \"2014-08-31T00:00:00\", \"2014-09-01T00:00:00\", \"2014-09-02T00:00:00\", \"2014-09-03T00:00:00\", \"2014-09-04T00:00:00\", \"2014-09-05T00:00:00\", \"2014-09-06T00:00:00\", \"2014-09-07T00:00:00\", \"2014-09-08T00:00:00\", \"2014-09-09T00:00:00\", \"2014-09-10T00:00:00\", \"2014-09-11T00:00:00\", \"2014-09-12T00:00:00\", \"2014-09-13T00:00:00\", \"2014-09-14T00:00:00\", \"2014-09-15T00:00:00\", \"2014-09-16T00:00:00\", \"2014-09-17T00:00:00\", \"2014-09-18T00:00:00\", \"2014-09-19T00:00:00\", \"2014-09-20T00:00:00\", \"2014-09-21T00:00:00\", \"2014-09-22T00:00:00\", \"2014-09-23T00:00:00\", \"2014-09-24T00:00:00\", \"2014-09-25T00:00:00\", \"2014-09-26T00:00:00\", \"2014-09-27T00:00:00\", \"2014-09-28T00:00:00\", \"2014-09-29T00:00:00\", \"2014-09-30T00:00:00\", \"2014-10-01T00:00:00\", \"2014-10-02T00:00:00\", \"2014-10-03T00:00:00\", \"2014-10-04T00:00:00\", \"2014-10-05T00:00:00\", \"2014-10-06T00:00:00\", \"2014-10-07T00:00:00\", \"2014-10-08T00:00:00\", \"2014-10-09T00:00:00\", \"2014-10-10T00:00:00\", \"2014-10-11T00:00:00\", \"2014-10-12T00:00:00\", \"2014-10-13T00:00:00\", \"2014-10-14T00:00:00\", \"2014-10-15T00:00:00\", \"2014-10-16T00:00:00\", \"2014-10-17T00:00:00\", \"2014-10-18T00:00:00\", \"2014-10-19T00:00:00\", \"2014-10-20T00:00:00\", \"2014-10-21T00:00:00\", \"2014-10-22T00:00:00\", \"2014-10-23T00:00:00\", \"2014-10-24T00:00:00\", \"2014-10-25T00:00:00\", \"2014-10-26T00:00:00\", \"2014-10-27T00:00:00\", \"2014-10-28T00:00:00\", \"2014-10-29T00:00:00\", \"2014-10-30T00:00:00\", \"2014-10-31T00:00:00\", \"2014-11-01T00:00:00\", \"2014-11-02T00:00:00\", \"2014-11-03T00:00:00\", \"2014-11-04T00:00:00\", \"2014-11-05T00:00:00\", \"2014-11-06T00:00:00\", \"2014-11-07T00:00:00\", \"2014-11-08T00:00:00\", \"2014-11-09T00:00:00\", \"2014-11-10T00:00:00\", \"2014-11-11T00:00:00\", \"2014-11-12T00:00:00\", \"2014-11-13T00:00:00\", \"2014-11-14T00:00:00\", \"2014-11-15T00:00:00\", \"2014-11-16T00:00:00\", \"2014-11-17T00:00:00\", \"2014-11-18T00:00:00\", \"2014-11-19T00:00:00\", \"2014-11-20T00:00:00\", \"2014-11-21T00:00:00\", \"2014-11-22T00:00:00\", \"2014-11-23T00:00:00\", \"2014-11-24T00:00:00\", \"2014-11-25T00:00:00\", \"2014-11-26T00:00:00\", \"2014-11-27T00:00:00\", \"2014-11-28T00:00:00\", \"2014-11-29T00:00:00\", \"2014-11-30T00:00:00\", \"2014-12-01T00:00:00\", \"2014-12-02T00:00:00\", \"2014-12-03T00:00:00\", \"2014-12-04T00:00:00\", \"2014-12-05T00:00:00\", \"2014-12-06T00:00:00\", \"2014-12-07T00:00:00\", \"2014-12-08T00:00:00\", \"2014-12-09T00:00:00\", \"2014-12-10T00:00:00\", \"2014-12-11T00:00:00\", \"2014-12-12T00:00:00\", \"2014-12-13T00:00:00\", \"2014-12-14T00:00:00\", \"2014-12-15T00:00:00\", \"2014-12-16T00:00:00\", \"2014-12-17T00:00:00\", \"2014-12-18T00:00:00\", \"2014-12-19T00:00:00\", \"2014-12-20T00:00:00\", \"2014-12-21T00:00:00\", \"2014-12-22T00:00:00\", \"2014-12-23T00:00:00\", \"2014-12-24T00:00:00\", \"2014-12-25T00:00:00\", \"2014-12-26T00:00:00\", \"2014-12-27T00:00:00\", \"2014-12-28T00:00:00\", \"2014-12-29T00:00:00\", \"2014-12-30T00:00:00\", \"2014-12-31T00:00:00\", \"2015-01-01T00:00:00\", \"2015-01-02T00:00:00\", \"2015-01-03T00:00:00\", \"2015-01-04T00:00:00\", \"2015-01-05T00:00:00\", \"2015-01-06T00:00:00\", \"2015-01-07T00:00:00\", \"2015-01-08T00:00:00\", \"2015-01-09T00:00:00\", \"2015-01-10T00:00:00\", \"2015-01-11T00:00:00\", \"2015-01-12T00:00:00\", \"2015-01-13T00:00:00\", \"2015-01-14T00:00:00\", \"2015-01-15T00:00:00\", \"2015-01-16T00:00:00\", \"2015-01-17T00:00:00\", \"2015-01-18T00:00:00\", \"2015-01-19T00:00:00\", \"2015-01-20T00:00:00\", \"2015-01-21T00:00:00\", \"2015-01-22T00:00:00\", \"2015-01-23T00:00:00\", \"2015-01-24T00:00:00\", \"2015-01-25T00:00:00\", \"2015-01-26T00:00:00\", \"2015-01-27T00:00:00\", \"2015-01-28T00:00:00\", \"2015-01-29T00:00:00\", \"2015-01-30T00:00:00\", \"2015-01-31T00:00:00\", \"2015-02-01T00:00:00\", \"2015-02-02T00:00:00\", \"2015-02-03T00:00:00\", \"2015-02-04T00:00:00\", \"2015-02-05T00:00:00\", \"2015-02-06T00:00:00\", \"2015-02-07T00:00:00\", \"2015-02-08T00:00:00\", \"2015-02-09T00:00:00\", \"2015-02-10T00:00:00\", \"2015-02-11T00:00:00\", \"2015-02-12T00:00:00\", \"2015-02-13T00:00:00\", \"2015-02-14T00:00:00\", \"2015-02-15T00:00:00\", \"2015-02-16T00:00:00\", \"2015-02-17T00:00:00\", \"2015-02-18T00:00:00\", \"2015-02-19T00:00:00\", \"2015-02-20T00:00:00\", \"2015-02-21T00:00:00\", \"2015-02-22T00:00:00\", \"2015-02-23T00:00:00\", \"2015-02-24T00:00:00\", \"2015-02-25T00:00:00\", \"2015-02-26T00:00:00\", \"2015-02-27T00:00:00\", \"2015-02-28T00:00:00\", \"2015-03-01T00:00:00\", \"2015-03-02T00:00:00\", \"2015-03-03T00:00:00\", \"2015-03-04T00:00:00\", \"2015-03-05T00:00:00\", \"2015-03-06T00:00:00\", \"2015-03-07T00:00:00\", \"2015-03-08T00:00:00\", \"2015-03-09T00:00:00\", \"2015-03-10T00:00:00\", \"2015-03-11T00:00:00\", \"2015-03-12T00:00:00\", \"2015-03-13T00:00:00\", \"2015-03-14T00:00:00\", \"2015-03-15T00:00:00\", \"2015-03-16T00:00:00\", \"2015-03-17T00:00:00\", \"2015-03-18T00:00:00\", \"2015-03-19T00:00:00\", \"2015-03-20T00:00:00\", \"2015-03-21T00:00:00\", \"2015-03-22T00:00:00\", \"2015-03-23T00:00:00\", \"2015-03-24T00:00:00\", \"2015-03-25T00:00:00\", \"2015-03-26T00:00:00\", \"2015-03-27T00:00:00\", \"2015-03-28T00:00:00\", \"2015-03-29T00:00:00\", \"2015-03-30T00:00:00\", \"2015-03-31T00:00:00\", \"2015-04-01T00:00:00\", \"2015-04-02T00:00:00\", \"2015-04-03T00:00:00\", \"2015-04-04T00:00:00\", \"2015-04-05T00:00:00\", \"2015-04-06T00:00:00\", \"2015-04-07T00:00:00\", \"2015-04-08T00:00:00\", \"2015-04-09T00:00:00\", \"2015-04-10T00:00:00\", \"2015-04-11T00:00:00\", \"2015-04-12T00:00:00\", \"2015-04-13T00:00:00\", \"2015-04-14T00:00:00\", \"2015-04-15T00:00:00\", \"2015-04-16T00:00:00\", \"2015-04-17T00:00:00\", \"2015-04-18T00:00:00\", \"2015-04-19T00:00:00\", \"2015-04-20T00:00:00\", \"2015-04-21T00:00:00\", \"2015-04-22T00:00:00\", \"2015-04-23T00:00:00\", \"2015-04-24T00:00:00\", \"2015-04-25T00:00:00\", \"2015-04-26T00:00:00\", \"2015-04-27T00:00:00\", \"2015-04-28T00:00:00\", \"2015-04-29T00:00:00\", \"2015-04-30T00:00:00\", \"2015-05-01T00:00:00\", \"2015-05-02T00:00:00\", \"2015-05-03T00:00:00\", \"2015-05-04T00:00:00\", \"2015-05-05T00:00:00\", \"2015-05-06T00:00:00\", \"2015-05-07T00:00:00\", \"2015-05-08T00:00:00\", \"2015-05-09T00:00:00\", \"2015-05-10T00:00:00\", \"2015-05-11T00:00:00\", \"2015-05-12T00:00:00\", \"2015-05-13T00:00:00\", \"2015-05-14T00:00:00\", \"2015-05-15T00:00:00\", \"2015-05-16T00:00:00\", \"2015-05-17T00:00:00\", \"2015-05-18T00:00:00\", \"2015-05-19T00:00:00\", \"2015-05-20T00:00:00\", \"2015-05-21T00:00:00\", \"2015-05-22T00:00:00\", \"2015-05-23T00:00:00\", \"2015-05-24T00:00:00\", \"2015-05-25T00:00:00\", \"2015-05-26T00:00:00\", \"2015-05-27T00:00:00\", \"2015-05-28T00:00:00\", \"2015-05-29T00:00:00\", \"2015-05-30T00:00:00\", \"2015-05-31T00:00:00\", \"2015-06-01T00:00:00\", \"2015-06-02T00:00:00\", \"2015-06-03T00:00:00\", \"2015-06-04T00:00:00\", \"2015-06-05T00:00:00\", \"2015-06-06T00:00:00\", \"2015-06-07T00:00:00\", \"2015-06-08T00:00:00\", \"2015-06-09T00:00:00\", \"2015-06-10T00:00:00\", \"2015-06-11T00:00:00\", \"2015-06-12T00:00:00\", \"2015-06-13T00:00:00\", \"2015-06-14T00:00:00\", \"2015-06-15T00:00:00\", \"2015-06-16T00:00:00\", \"2015-06-17T00:00:00\", \"2015-06-18T00:00:00\", \"2015-06-19T00:00:00\", \"2015-06-20T00:00:00\", \"2015-06-21T00:00:00\", \"2015-06-22T00:00:00\", \"2015-06-23T00:00:00\", \"2015-06-24T00:00:00\", \"2015-06-25T00:00:00\", \"2015-06-26T00:00:00\", \"2015-06-27T00:00:00\", \"2015-06-28T00:00:00\", \"2015-06-29T00:00:00\", \"2015-06-30T00:00:00\", \"2015-07-01T00:00:00\", \"2015-07-02T00:00:00\", \"2015-07-03T00:00:00\", \"2015-07-04T00:00:00\", \"2015-07-05T00:00:00\", \"2015-07-06T00:00:00\", \"2015-07-07T00:00:00\", \"2015-07-08T00:00:00\", \"2015-07-09T00:00:00\", \"2015-07-10T00:00:00\", \"2015-07-11T00:00:00\", \"2015-07-12T00:00:00\", \"2015-07-13T00:00:00\", \"2015-07-14T00:00:00\", \"2015-07-15T00:00:00\", \"2015-07-16T00:00:00\", \"2015-07-17T00:00:00\", \"2015-07-18T00:00:00\", \"2015-07-19T00:00:00\", \"2015-07-20T00:00:00\", \"2015-07-21T00:00:00\", \"2015-07-22T00:00:00\", \"2015-07-23T00:00:00\", \"2015-07-24T00:00:00\", \"2015-07-25T00:00:00\", \"2015-07-26T00:00:00\", \"2015-07-27T00:00:00\", \"2015-07-28T00:00:00\", \"2015-07-29T00:00:00\", \"2015-07-30T00:00:00\", \"2015-07-31T00:00:00\", \"2015-08-01T00:00:00\", \"2015-08-02T00:00:00\", \"2015-08-03T00:00:00\", \"2015-08-04T00:00:00\", \"2015-08-05T00:00:00\", \"2015-08-06T00:00:00\", \"2015-08-07T00:00:00\", \"2015-08-08T00:00:00\", \"2015-08-09T00:00:00\", \"2015-08-10T00:00:00\", \"2015-08-11T00:00:00\", \"2015-08-12T00:00:00\", \"2015-08-13T00:00:00\", \"2015-08-14T00:00:00\", \"2015-08-15T00:00:00\", \"2015-08-16T00:00:00\", \"2015-08-17T00:00:00\", \"2015-08-18T00:00:00\", \"2015-08-19T00:00:00\", \"2015-08-20T00:00:00\", \"2015-08-21T00:00:00\", \"2015-08-22T00:00:00\", \"2015-08-23T00:00:00\", \"2015-08-24T00:00:00\", \"2015-08-25T00:00:00\", \"2015-08-26T00:00:00\", \"2015-08-27T00:00:00\", \"2015-08-28T00:00:00\", \"2015-08-29T00:00:00\", \"2015-08-30T00:00:00\", \"2015-08-31T00:00:00\", \"2015-09-01T00:00:00\", \"2015-09-02T00:00:00\", \"2015-09-03T00:00:00\", \"2015-09-04T00:00:00\", \"2015-09-05T00:00:00\", \"2015-09-06T00:00:00\", \"2015-09-07T00:00:00\", \"2015-09-08T00:00:00\", \"2015-09-09T00:00:00\", \"2015-09-10T00:00:00\", \"2015-09-11T00:00:00\", \"2015-09-12T00:00:00\", \"2015-09-13T00:00:00\", \"2015-09-14T00:00:00\", \"2015-09-15T00:00:00\", \"2015-09-16T00:00:00\", \"2015-09-17T00:00:00\", \"2015-09-18T00:00:00\", \"2015-09-19T00:00:00\", \"2015-09-20T00:00:00\", \"2015-09-21T00:00:00\", \"2015-09-22T00:00:00\", \"2015-09-23T00:00:00\", \"2015-09-24T00:00:00\", \"2015-09-25T00:00:00\", \"2015-09-26T00:00:00\", \"2015-09-27T00:00:00\", \"2015-09-28T00:00:00\", \"2015-09-29T00:00:00\", \"2015-09-30T00:00:00\", \"2015-10-01T00:00:00\", \"2015-10-02T00:00:00\", \"2015-10-03T00:00:00\", \"2015-10-04T00:00:00\", \"2015-10-05T00:00:00\", \"2015-10-06T00:00:00\", \"2015-10-07T00:00:00\", \"2015-10-08T00:00:00\", \"2015-10-09T00:00:00\", \"2015-10-10T00:00:00\", \"2015-10-11T00:00:00\", \"2015-10-12T00:00:00\", \"2015-10-13T00:00:00\", \"2015-10-14T00:00:00\", \"2015-10-15T00:00:00\", \"2015-10-16T00:00:00\", \"2015-10-17T00:00:00\", \"2015-10-18T00:00:00\", \"2015-10-19T00:00:00\", \"2015-10-20T00:00:00\", \"2015-10-21T00:00:00\", \"2015-10-22T00:00:00\", \"2015-10-23T00:00:00\", \"2015-10-24T00:00:00\", \"2015-10-25T00:00:00\", \"2015-10-26T00:00:00\", \"2015-10-27T00:00:00\", \"2015-10-28T00:00:00\", \"2015-10-29T00:00:00\", \"2015-10-30T00:00:00\", \"2015-10-31T00:00:00\", \"2015-11-01T00:00:00\", \"2015-11-02T00:00:00\", \"2015-11-03T00:00:00\", \"2015-11-04T00:00:00\", \"2015-11-05T00:00:00\", \"2015-11-06T00:00:00\", \"2015-11-07T00:00:00\", \"2015-11-08T00:00:00\", \"2015-11-09T00:00:00\", \"2015-11-10T00:00:00\", \"2015-11-11T00:00:00\", \"2015-11-12T00:00:00\", \"2015-11-13T00:00:00\", \"2015-11-14T00:00:00\", \"2015-11-15T00:00:00\", \"2015-11-16T00:00:00\", \"2015-11-17T00:00:00\", \"2015-11-18T00:00:00\", \"2015-11-19T00:00:00\", \"2015-11-20T00:00:00\", \"2015-11-21T00:00:00\", \"2015-11-22T00:00:00\", \"2015-11-23T00:00:00\", \"2015-11-24T00:00:00\", \"2015-11-25T00:00:00\", \"2015-11-26T00:00:00\", \"2015-11-27T00:00:00\", \"2015-11-28T00:00:00\", \"2015-11-29T00:00:00\", \"2015-11-30T00:00:00\", \"2015-12-01T00:00:00\", \"2015-12-02T00:00:00\", \"2015-12-03T00:00:00\", \"2015-12-04T00:00:00\", \"2015-12-05T00:00:00\", \"2015-12-06T00:00:00\", \"2015-12-07T00:00:00\", \"2015-12-08T00:00:00\", \"2015-12-09T00:00:00\", \"2015-12-10T00:00:00\", \"2015-12-11T00:00:00\", \"2015-12-12T00:00:00\", \"2015-12-13T00:00:00\", \"2015-12-14T00:00:00\", \"2015-12-15T00:00:00\", \"2015-12-16T00:00:00\", \"2015-12-17T00:00:00\", \"2015-12-18T00:00:00\", \"2015-12-19T00:00:00\", \"2015-12-20T00:00:00\", \"2015-12-21T00:00:00\", \"2015-12-22T00:00:00\", \"2015-12-23T00:00:00\", \"2015-12-24T00:00:00\", \"2015-12-25T00:00:00\", \"2015-12-26T00:00:00\", \"2015-12-27T00:00:00\", \"2015-12-28T00:00:00\", \"2015-12-29T00:00:00\", \"2015-12-30T00:00:00\", \"2015-12-31T00:00:00\", \"2016-01-01T00:00:00\", \"2016-01-02T00:00:00\", \"2016-01-03T00:00:00\", \"2016-01-04T00:00:00\", \"2016-01-05T00:00:00\", \"2016-01-06T00:00:00\", \"2016-01-07T00:00:00\", \"2016-01-08T00:00:00\", \"2016-01-09T00:00:00\", \"2016-01-10T00:00:00\", \"2016-01-11T00:00:00\", \"2016-01-12T00:00:00\", \"2016-01-13T00:00:00\", \"2016-01-14T00:00:00\", \"2016-01-15T00:00:00\", \"2016-01-16T00:00:00\", \"2016-01-17T00:00:00\", \"2016-01-18T00:00:00\", \"2016-01-19T00:00:00\", \"2016-01-20T00:00:00\", \"2016-01-21T00:00:00\", \"2016-01-22T00:00:00\", \"2016-01-23T00:00:00\", \"2016-01-24T00:00:00\", \"2016-01-25T00:00:00\", \"2016-01-26T00:00:00\", \"2016-01-27T00:00:00\", \"2016-01-28T00:00:00\", \"2016-01-29T00:00:00\", \"2016-01-30T00:00:00\", \"2016-01-31T00:00:00\", \"2016-02-01T00:00:00\", \"2016-02-02T00:00:00\", \"2016-02-03T00:00:00\", \"2016-02-04T00:00:00\", \"2016-02-05T00:00:00\", \"2016-02-06T00:00:00\", \"2016-02-07T00:00:00\", \"2016-02-08T00:00:00\", \"2016-02-09T00:00:00\", \"2016-02-10T00:00:00\", \"2016-02-11T00:00:00\", \"2016-02-12T00:00:00\", \"2016-02-13T00:00:00\", \"2016-02-14T00:00:00\", \"2016-02-15T00:00:00\", \"2016-02-16T00:00:00\", \"2016-02-17T00:00:00\", \"2016-02-18T00:00:00\", \"2016-02-19T00:00:00\", \"2016-02-20T00:00:00\", \"2016-02-21T00:00:00\", \"2016-02-22T00:00:00\", \"2016-02-23T00:00:00\", \"2016-02-24T00:00:00\", \"2016-02-25T00:00:00\", \"2016-02-26T00:00:00\", \"2016-02-27T00:00:00\", \"2016-02-28T00:00:00\", \"2016-02-29T00:00:00\", \"2016-03-01T00:00:00\", \"2016-03-02T00:00:00\", \"2016-03-03T00:00:00\", \"2016-03-04T00:00:00\", \"2016-03-05T00:00:00\", \"2016-03-06T00:00:00\", \"2016-03-07T00:00:00\", \"2016-03-08T00:00:00\", \"2016-03-09T00:00:00\", \"2016-03-10T00:00:00\", \"2016-03-11T00:00:00\", \"2016-03-12T00:00:00\", \"2016-03-13T00:00:00\", \"2016-03-14T00:00:00\", \"2016-03-15T00:00:00\", \"2016-03-16T00:00:00\", \"2016-03-17T00:00:00\", \"2016-03-18T00:00:00\", \"2016-03-19T00:00:00\", \"2016-03-20T00:00:00\", \"2016-03-21T00:00:00\", \"2016-03-22T00:00:00\", \"2016-03-23T00:00:00\", \"2016-03-24T00:00:00\", \"2016-03-25T00:00:00\", \"2016-03-26T00:00:00\", \"2016-03-27T00:00:00\", \"2016-03-28T00:00:00\", \"2016-03-29T00:00:00\", \"2016-03-30T00:00:00\", \"2016-03-31T00:00:00\", \"2016-04-01T00:00:00\", \"2016-04-02T00:00:00\", \"2016-04-03T00:00:00\", \"2016-04-04T00:00:00\", \"2016-04-05T00:00:00\", \"2016-04-06T00:00:00\", \"2016-04-07T00:00:00\", \"2016-04-08T00:00:00\", \"2016-04-09T00:00:00\", \"2016-04-10T00:00:00\", \"2016-04-11T00:00:00\", \"2016-04-12T00:00:00\", \"2016-04-13T00:00:00\", \"2016-04-14T00:00:00\", \"2016-04-15T00:00:00\", \"2016-04-16T00:00:00\", \"2016-04-17T00:00:00\", \"2016-04-18T00:00:00\", \"2016-04-19T00:00:00\", \"2016-04-20T00:00:00\", \"2016-04-21T00:00:00\", \"2016-04-22T00:00:00\", \"2016-04-23T00:00:00\", \"2016-04-24T00:00:00\", \"2016-04-25T00:00:00\", \"2016-04-26T00:00:00\", \"2016-04-27T00:00:00\", \"2016-04-28T00:00:00\", \"2016-04-29T00:00:00\", \"2016-04-30T00:00:00\", \"2016-05-01T00:00:00\", \"2016-05-02T00:00:00\", \"2016-05-03T00:00:00\", \"2016-05-04T00:00:00\", \"2016-05-05T00:00:00\", \"2016-05-06T00:00:00\", \"2016-05-07T00:00:00\", \"2016-05-08T00:00:00\", \"2016-05-09T00:00:00\", \"2016-05-10T00:00:00\", \"2016-05-11T00:00:00\", \"2016-05-12T00:00:00\", \"2016-05-13T00:00:00\", \"2016-05-14T00:00:00\", \"2016-05-15T00:00:00\", \"2016-05-16T00:00:00\", \"2016-05-17T00:00:00\", \"2016-05-18T00:00:00\", \"2016-05-19T00:00:00\", \"2016-05-20T00:00:00\", \"2016-05-21T00:00:00\", \"2016-05-22T00:00:00\", \"2016-05-23T00:00:00\", \"2016-05-24T00:00:00\", \"2016-05-25T00:00:00\", \"2016-05-26T00:00:00\", \"2016-05-27T00:00:00\", \"2016-05-28T00:00:00\", \"2016-05-29T00:00:00\", \"2016-05-30T00:00:00\", \"2016-05-31T00:00:00\", \"2016-06-01T00:00:00\", \"2016-06-02T00:00:00\", \"2016-06-03T00:00:00\", \"2016-06-04T00:00:00\", \"2016-06-05T00:00:00\", \"2016-06-06T00:00:00\", \"2016-06-07T00:00:00\", \"2016-06-08T00:00:00\", \"2016-06-09T00:00:00\", \"2016-06-10T00:00:00\", \"2016-06-11T00:00:00\", \"2016-06-12T00:00:00\", \"2016-06-13T00:00:00\", \"2016-06-14T00:00:00\", \"2016-06-15T00:00:00\", \"2016-06-16T00:00:00\", \"2016-06-17T00:00:00\", \"2016-06-18T00:00:00\", \"2016-06-19T00:00:00\", \"2016-06-20T00:00:00\", \"2016-06-21T00:00:00\", \"2016-06-22T00:00:00\", \"2016-06-23T00:00:00\", \"2016-06-24T00:00:00\", \"2016-06-25T00:00:00\", \"2016-06-26T00:00:00\", \"2016-06-27T00:00:00\", \"2016-06-28T00:00:00\", \"2016-06-29T00:00:00\", \"2016-06-30T00:00:00\", \"2016-07-01T00:00:00\", \"2016-07-02T00:00:00\", \"2016-07-03T00:00:00\", \"2016-07-04T00:00:00\", \"2016-07-05T00:00:00\", \"2016-07-06T00:00:00\", \"2016-07-07T00:00:00\", \"2016-07-08T00:00:00\", \"2016-07-09T00:00:00\", \"2016-07-10T00:00:00\", \"2016-07-11T00:00:00\", \"2016-07-12T00:00:00\", \"2016-07-13T00:00:00\", \"2016-07-14T00:00:00\", \"2016-07-15T00:00:00\", \"2016-07-16T00:00:00\", \"2016-07-17T00:00:00\", \"2016-07-18T00:00:00\", \"2016-07-19T00:00:00\", \"2016-07-20T00:00:00\", \"2016-07-21T00:00:00\", \"2016-07-22T00:00:00\", \"2016-07-23T00:00:00\", \"2016-07-24T00:00:00\", \"2016-07-25T00:00:00\", \"2016-07-26T00:00:00\", \"2016-07-27T00:00:00\", \"2016-07-28T00:00:00\", \"2016-07-29T00:00:00\", \"2016-07-30T00:00:00\", \"2016-07-31T00:00:00\", \"2016-08-01T00:00:00\", \"2016-08-02T00:00:00\", \"2016-08-03T00:00:00\", \"2016-08-04T00:00:00\", \"2016-08-05T00:00:00\", \"2016-08-06T00:00:00\", \"2016-08-07T00:00:00\", \"2016-08-08T00:00:00\", \"2016-08-09T00:00:00\", \"2016-08-10T00:00:00\", \"2016-08-11T00:00:00\", \"2016-08-12T00:00:00\", \"2016-08-13T00:00:00\", \"2016-08-14T00:00:00\", \"2016-08-15T00:00:00\", \"2016-08-16T00:00:00\", \"2016-08-17T00:00:00\", \"2016-08-18T00:00:00\", \"2016-08-19T00:00:00\", \"2016-08-20T00:00:00\", \"2016-08-21T00:00:00\", \"2016-08-22T00:00:00\", \"2016-08-23T00:00:00\", \"2016-08-24T00:00:00\", \"2016-08-25T00:00:00\", \"2016-08-26T00:00:00\", \"2016-08-27T00:00:00\", \"2016-08-28T00:00:00\", \"2016-08-29T00:00:00\", \"2016-08-30T00:00:00\", \"2016-08-31T00:00:00\", \"2016-09-01T00:00:00\", \"2016-09-02T00:00:00\", \"2016-09-03T00:00:00\", \"2016-09-04T00:00:00\", \"2016-09-05T00:00:00\", \"2016-09-06T00:00:00\", \"2016-09-07T00:00:00\", \"2016-09-08T00:00:00\", \"2016-09-09T00:00:00\", \"2016-09-10T00:00:00\", \"2016-09-11T00:00:00\", \"2016-09-12T00:00:00\", \"2016-09-13T00:00:00\", \"2016-09-14T00:00:00\", \"2016-09-15T00:00:00\", \"2016-09-16T00:00:00\", \"2016-09-17T00:00:00\", \"2016-09-18T00:00:00\", \"2016-09-19T00:00:00\", \"2016-09-20T00:00:00\", \"2016-09-21T00:00:00\", \"2016-09-22T00:00:00\", \"2016-09-23T00:00:00\", \"2016-09-24T00:00:00\", \"2016-09-25T00:00:00\", \"2016-09-26T00:00:00\", \"2016-09-27T00:00:00\", \"2016-09-28T00:00:00\", \"2016-09-29T00:00:00\", \"2016-09-30T00:00:00\", \"2016-10-01T00:00:00\", \"2016-10-02T00:00:00\", \"2016-10-03T00:00:00\", \"2016-10-04T00:00:00\", \"2016-10-05T00:00:00\", \"2016-10-06T00:00:00\", \"2016-10-07T00:00:00\", \"2016-10-08T00:00:00\", \"2016-10-09T00:00:00\", \"2016-10-10T00:00:00\", \"2016-10-11T00:00:00\", \"2016-10-12T00:00:00\", \"2016-10-13T00:00:00\", \"2016-10-14T00:00:00\", \"2016-10-15T00:00:00\", \"2016-10-16T00:00:00\", \"2016-10-17T00:00:00\", \"2016-10-18T00:00:00\", \"2016-10-19T00:00:00\", \"2016-10-20T00:00:00\", \"2016-10-21T00:00:00\", \"2016-10-22T00:00:00\", \"2016-10-23T00:00:00\", \"2016-10-24T00:00:00\", \"2016-10-25T00:00:00\", \"2016-10-26T00:00:00\", \"2016-10-27T00:00:00\", \"2016-10-28T00:00:00\", \"2016-10-29T00:00:00\", \"2016-10-30T00:00:00\", \"2016-10-31T00:00:00\", \"2016-11-01T00:00:00\", \"2016-11-02T00:00:00\", \"2016-11-03T00:00:00\", \"2016-11-04T00:00:00\", \"2016-11-05T00:00:00\", \"2016-11-06T00:00:00\", \"2016-11-07T00:00:00\", \"2016-11-08T00:00:00\", \"2016-11-09T00:00:00\", \"2016-11-10T00:00:00\", \"2016-11-11T00:00:00\", \"2016-11-12T00:00:00\", \"2016-11-13T00:00:00\", \"2016-11-14T00:00:00\", \"2016-11-15T00:00:00\", \"2016-11-16T00:00:00\", \"2016-11-17T00:00:00\", \"2016-11-18T00:00:00\", \"2016-11-19T00:00:00\", \"2016-11-20T00:00:00\", \"2016-11-21T00:00:00\", \"2016-11-22T00:00:00\", \"2016-11-23T00:00:00\", \"2016-11-24T00:00:00\", \"2016-11-25T00:00:00\", \"2016-11-26T00:00:00\", \"2016-11-27T00:00:00\", \"2016-11-28T00:00:00\", \"2016-11-29T00:00:00\", \"2016-11-30T00:00:00\", \"2016-12-01T00:00:00\", \"2016-12-02T00:00:00\", \"2016-12-03T00:00:00\", \"2016-12-04T00:00:00\", \"2016-12-05T00:00:00\", \"2016-12-06T00:00:00\", \"2016-12-07T00:00:00\", \"2016-12-08T00:00:00\", \"2016-12-09T00:00:00\", \"2016-12-10T00:00:00\", \"2016-12-11T00:00:00\", \"2016-12-12T00:00:00\", \"2016-12-13T00:00:00\", \"2016-12-14T00:00:00\", \"2016-12-15T00:00:00\", \"2016-12-16T00:00:00\", \"2016-12-17T00:00:00\", \"2016-12-18T00:00:00\", \"2016-12-19T00:00:00\", \"2016-12-20T00:00:00\", \"2016-12-21T00:00:00\", \"2016-12-22T00:00:00\", \"2016-12-23T00:00:00\", \"2016-12-24T00:00:00\", \"2016-12-25T00:00:00\", \"2016-12-26T00:00:00\", \"2016-12-27T00:00:00\", \"2016-12-28T00:00:00\", \"2016-12-29T00:00:00\", \"2016-12-30T00:00:00\", \"2016-12-31T00:00:00\", \"2017-01-01T00:00:00\", \"2017-01-02T00:00:00\", \"2017-01-03T00:00:00\", \"2017-01-04T00:00:00\", \"2017-01-05T00:00:00\", \"2017-01-06T00:00:00\", \"2017-01-07T00:00:00\", \"2017-01-08T00:00:00\", \"2017-01-09T00:00:00\", \"2017-01-10T00:00:00\", \"2017-01-11T00:00:00\", \"2017-01-12T00:00:00\", \"2017-01-13T00:00:00\", \"2017-01-14T00:00:00\", \"2017-01-15T00:00:00\", \"2017-01-16T00:00:00\", \"2017-01-17T00:00:00\", \"2017-01-18T00:00:00\", \"2017-01-19T00:00:00\", \"2017-01-20T00:00:00\", \"2017-01-21T00:00:00\", \"2017-01-22T00:00:00\", \"2017-01-23T00:00:00\", \"2017-01-24T00:00:00\", \"2017-01-25T00:00:00\", \"2017-01-26T00:00:00\", \"2017-01-27T00:00:00\", \"2017-01-28T00:00:00\", \"2017-01-29T00:00:00\", \"2017-01-30T00:00:00\", \"2017-01-31T00:00:00\", \"2017-02-01T00:00:00\", \"2017-02-02T00:00:00\", \"2017-02-03T00:00:00\", \"2017-02-04T00:00:00\", \"2017-02-05T00:00:00\", \"2017-02-06T00:00:00\", \"2017-02-07T00:00:00\", \"2017-02-08T00:00:00\", \"2017-02-09T00:00:00\", \"2017-02-10T00:00:00\", \"2017-02-11T00:00:00\", \"2017-02-12T00:00:00\", \"2017-02-13T00:00:00\", \"2017-02-14T00:00:00\", \"2017-02-15T00:00:00\", \"2017-02-16T00:00:00\", \"2017-02-17T00:00:00\", \"2017-02-18T00:00:00\", \"2017-02-19T00:00:00\", \"2017-02-20T00:00:00\", \"2017-02-21T00:00:00\", \"2017-02-22T00:00:00\", \"2017-02-23T00:00:00\", \"2017-02-24T00:00:00\", \"2017-02-25T00:00:00\", \"2017-02-26T00:00:00\", \"2017-02-27T00:00:00\", \"2017-02-28T00:00:00\", \"2017-03-01T00:00:00\", \"2017-03-02T00:00:00\", \"2017-03-03T00:00:00\", \"2017-03-04T00:00:00\", \"2017-03-05T00:00:00\", \"2017-03-06T00:00:00\", \"2017-03-07T00:00:00\", \"2017-03-08T00:00:00\", \"2017-03-09T00:00:00\", \"2017-03-10T00:00:00\", \"2017-03-11T00:00:00\", \"2017-03-12T00:00:00\", \"2017-03-13T00:00:00\", \"2017-03-14T00:00:00\", \"2017-03-15T00:00:00\", \"2017-03-16T00:00:00\", \"2017-03-17T00:00:00\", \"2017-03-18T00:00:00\", \"2017-03-19T00:00:00\", \"2017-03-20T00:00:00\", \"2017-03-21T00:00:00\", \"2017-03-22T00:00:00\", \"2017-03-23T00:00:00\", \"2017-03-24T00:00:00\", \"2017-03-25T00:00:00\", \"2017-03-26T00:00:00\", \"2017-03-27T00:00:00\", \"2017-03-28T00:00:00\", \"2017-03-29T00:00:00\", \"2017-03-30T00:00:00\", \"2017-03-31T00:00:00\", \"2017-04-01T00:00:00\", \"2017-04-02T00:00:00\", \"2017-04-03T00:00:00\", \"2017-04-04T00:00:00\", \"2017-04-05T00:00:00\", \"2017-04-06T00:00:00\", \"2017-04-07T00:00:00\", \"2017-04-08T00:00:00\", \"2017-04-09T00:00:00\", \"2017-04-10T00:00:00\", \"2017-04-11T00:00:00\", \"2017-04-12T00:00:00\", \"2017-04-13T00:00:00\", \"2017-04-14T00:00:00\", \"2017-04-15T00:00:00\", \"2017-04-16T00:00:00\", \"2017-04-17T00:00:00\", \"2017-04-18T00:00:00\", \"2017-04-19T00:00:00\", \"2017-04-20T00:00:00\", \"2017-04-21T00:00:00\", \"2017-04-22T00:00:00\", \"2017-04-23T00:00:00\", \"2017-04-24T00:00:00\", \"2017-04-25T00:00:00\", \"2017-04-26T00:00:00\", \"2017-04-27T00:00:00\", \"2017-04-28T00:00:00\", \"2017-04-29T00:00:00\", \"2017-04-30T00:00:00\", \"2017-05-01T00:00:00\", \"2017-05-02T00:00:00\", \"2017-05-03T00:00:00\", \"2017-05-04T00:00:00\", \"2017-05-05T00:00:00\", \"2017-05-06T00:00:00\", \"2017-05-07T00:00:00\", \"2017-05-08T00:00:00\", \"2017-05-09T00:00:00\", \"2017-05-10T00:00:00\", \"2017-05-11T00:00:00\", \"2017-05-12T00:00:00\", \"2017-05-13T00:00:00\", \"2017-05-14T00:00:00\", \"2017-05-15T00:00:00\", \"2017-05-16T00:00:00\", \"2017-05-17T00:00:00\", \"2017-05-18T00:00:00\", \"2017-05-19T00:00:00\", \"2017-05-20T00:00:00\", \"2017-05-21T00:00:00\", \"2017-05-22T00:00:00\", \"2017-05-23T00:00:00\", \"2017-05-24T00:00:00\", \"2017-05-25T00:00:00\", \"2017-05-26T00:00:00\", \"2017-05-27T00:00:00\", \"2017-05-28T00:00:00\", \"2017-05-29T00:00:00\", \"2017-05-30T00:00:00\", \"2017-05-31T00:00:00\", \"2017-06-01T00:00:00\", \"2017-06-02T00:00:00\", \"2017-06-03T00:00:00\", \"2017-06-04T00:00:00\", \"2017-06-05T00:00:00\", \"2017-06-06T00:00:00\", \"2017-06-07T00:00:00\", \"2017-06-08T00:00:00\", \"2017-06-09T00:00:00\", \"2017-06-10T00:00:00\", \"2017-06-11T00:00:00\", \"2017-06-12T00:00:00\", \"2017-06-13T00:00:00\", \"2017-06-14T00:00:00\", \"2017-06-15T00:00:00\", \"2017-06-16T00:00:00\", \"2017-06-17T00:00:00\", \"2017-06-18T00:00:00\", \"2017-06-19T00:00:00\", \"2017-06-20T00:00:00\", \"2017-06-21T00:00:00\", \"2017-06-22T00:00:00\", \"2017-06-23T00:00:00\", \"2017-06-24T00:00:00\", \"2017-06-25T00:00:00\", \"2017-06-26T00:00:00\", \"2017-06-27T00:00:00\", \"2017-06-28T00:00:00\", \"2017-06-29T00:00:00\", \"2017-06-30T00:00:00\", \"2017-07-01T00:00:00\", \"2017-07-02T00:00:00\", \"2017-07-03T00:00:00\", \"2017-07-04T00:00:00\", \"2017-07-05T00:00:00\", \"2017-07-06T00:00:00\", \"2017-07-07T00:00:00\", \"2017-07-08T00:00:00\", \"2017-07-09T00:00:00\", \"2017-07-10T00:00:00\", \"2017-07-11T00:00:00\", \"2017-07-12T00:00:00\", \"2017-07-13T00:00:00\", \"2017-07-14T00:00:00\", \"2017-07-15T00:00:00\", \"2017-07-16T00:00:00\", \"2017-07-17T00:00:00\", \"2017-07-18T00:00:00\", \"2017-07-19T00:00:00\", \"2017-07-20T00:00:00\", \"2017-07-21T00:00:00\", \"2017-07-22T00:00:00\", \"2017-07-23T00:00:00\", \"2017-07-24T00:00:00\", \"2017-07-25T00:00:00\", \"2017-07-26T00:00:00\", \"2017-07-27T00:00:00\", \"2017-07-28T00:00:00\", \"2017-07-29T00:00:00\", \"2017-07-30T00:00:00\", \"2017-07-31T00:00:00\", \"2017-08-01T00:00:00\", \"2017-08-02T00:00:00\", \"2017-08-03T00:00:00\", \"2017-08-04T00:00:00\", \"2017-08-05T00:00:00\", \"2017-08-06T00:00:00\", \"2017-08-07T00:00:00\", \"2017-08-08T00:00:00\", \"2017-08-09T00:00:00\", \"2017-08-10T00:00:00\", \"2017-08-11T00:00:00\", \"2017-08-12T00:00:00\", \"2017-08-13T00:00:00\", \"2017-08-14T00:00:00\", \"2017-08-15T00:00:00\", \"2017-08-16T00:00:00\", \"2017-08-17T00:00:00\", \"2017-08-18T00:00:00\", \"2017-08-19T00:00:00\", \"2017-08-20T00:00:00\", \"2017-08-21T00:00:00\", \"2017-08-22T00:00:00\", \"2017-08-23T00:00:00\", \"2017-08-24T00:00:00\", \"2017-08-25T00:00:00\", \"2017-08-26T00:00:00\", \"2017-08-27T00:00:00\", \"2017-08-28T00:00:00\", \"2017-08-29T00:00:00\", \"2017-08-30T00:00:00\", \"2017-08-31T00:00:00\", \"2017-09-01T00:00:00\", \"2017-09-02T00:00:00\", \"2017-09-03T00:00:00\", \"2017-09-04T00:00:00\", \"2017-09-05T00:00:00\", \"2017-09-06T00:00:00\", \"2017-09-07T00:00:00\", \"2017-09-08T00:00:00\", \"2017-09-09T00:00:00\", \"2017-09-10T00:00:00\", \"2017-09-11T00:00:00\", \"2017-09-12T00:00:00\", \"2017-09-13T00:00:00\", \"2017-09-14T00:00:00\", \"2017-09-15T00:00:00\", \"2017-09-16T00:00:00\", \"2017-09-17T00:00:00\", \"2017-09-18T00:00:00\", \"2017-09-19T00:00:00\", \"2017-09-20T00:00:00\", \"2017-09-21T00:00:00\", \"2017-09-22T00:00:00\", \"2017-09-23T00:00:00\", \"2017-09-24T00:00:00\", \"2017-09-25T00:00:00\", \"2017-09-26T00:00:00\", \"2017-09-27T00:00:00\", \"2017-09-28T00:00:00\", \"2017-09-29T00:00:00\", \"2017-09-30T00:00:00\", \"2017-10-01T00:00:00\", \"2017-10-02T00:00:00\", \"2017-10-03T00:00:00\", \"2017-10-04T00:00:00\", \"2017-10-05T00:00:00\", \"2017-10-06T00:00:00\", \"2017-10-07T00:00:00\", \"2017-10-08T00:00:00\", \"2017-10-09T00:00:00\", \"2017-10-10T00:00:00\", \"2017-10-11T00:00:00\", \"2017-10-12T00:00:00\", \"2017-10-13T00:00:00\", \"2017-10-14T00:00:00\", \"2017-10-15T00:00:00\", \"2017-10-16T00:00:00\", \"2017-10-17T00:00:00\", \"2017-10-18T00:00:00\", \"2017-10-19T00:00:00\", \"2017-10-20T00:00:00\", \"2017-10-21T00:00:00\", \"2017-10-22T00:00:00\", \"2017-10-23T00:00:00\", \"2017-10-24T00:00:00\", \"2017-10-25T00:00:00\", \"2017-10-26T00:00:00\", \"2017-10-27T00:00:00\", \"2017-10-28T00:00:00\", \"2017-10-29T00:00:00\", \"2017-10-30T00:00:00\", \"2017-10-31T00:00:00\", \"2017-11-01T00:00:00\", \"2017-11-02T00:00:00\", \"2017-11-03T00:00:00\", \"2017-11-04T00:00:00\", \"2017-11-05T00:00:00\", \"2017-11-06T00:00:00\", \"2017-11-07T00:00:00\", \"2017-11-08T00:00:00\", \"2017-11-09T00:00:00\", \"2017-11-10T00:00:00\", \"2017-11-11T00:00:00\", \"2017-11-12T00:00:00\", \"2017-11-13T00:00:00\", \"2017-11-14T00:00:00\", \"2017-11-15T00:00:00\", \"2017-11-16T00:00:00\", \"2017-11-17T00:00:00\", \"2017-11-18T00:00:00\", \"2017-11-19T00:00:00\", \"2017-11-20T00:00:00\", \"2017-11-21T00:00:00\", \"2017-11-22T00:00:00\", \"2017-11-23T00:00:00\", \"2017-11-24T00:00:00\", \"2017-11-25T00:00:00\", \"2017-11-26T00:00:00\", \"2017-11-27T00:00:00\", \"2017-11-28T00:00:00\", \"2017-11-29T00:00:00\", \"2017-11-30T00:00:00\", \"2017-12-01T00:00:00\", \"2017-12-02T00:00:00\", \"2017-12-03T00:00:00\", \"2017-12-04T00:00:00\", \"2017-12-05T00:00:00\", \"2017-12-06T00:00:00\", \"2017-12-07T00:00:00\", \"2017-12-08T00:00:00\", \"2017-12-09T00:00:00\", \"2017-12-10T00:00:00\", \"2017-12-11T00:00:00\", \"2017-12-12T00:00:00\", \"2017-12-13T00:00:00\", \"2017-12-14T00:00:00\", \"2017-12-15T00:00:00\", \"2017-12-16T00:00:00\", \"2017-12-17T00:00:00\", \"2017-12-18T00:00:00\", \"2017-12-19T00:00:00\", \"2017-12-20T00:00:00\", \"2017-12-21T00:00:00\", \"2017-12-22T00:00:00\", \"2017-12-23T00:00:00\", \"2017-12-24T00:00:00\", \"2017-12-25T00:00:00\", \"2017-12-26T00:00:00\", \"2017-12-27T00:00:00\", \"2017-12-28T00:00:00\", \"2017-12-29T00:00:00\", \"2017-12-30T00:00:00\", \"2017-12-31T00:00:00\", \"2018-01-01T00:00:00\", \"2018-01-02T00:00:00\", \"2018-01-03T00:00:00\", \"2018-01-04T00:00:00\", \"2018-01-05T00:00:00\", \"2018-01-06T00:00:00\", \"2018-01-07T00:00:00\", \"2018-01-08T00:00:00\", \"2018-01-09T00:00:00\", \"2018-01-10T00:00:00\", \"2018-01-11T00:00:00\", \"2018-01-12T00:00:00\", \"2018-01-13T00:00:00\", \"2018-01-14T00:00:00\", \"2018-01-15T00:00:00\", \"2018-01-16T00:00:00\", \"2018-01-17T00:00:00\", \"2018-01-18T00:00:00\", \"2018-01-19T00:00:00\", \"2018-01-20T00:00:00\", \"2018-01-21T00:00:00\", \"2018-01-22T00:00:00\", \"2018-01-23T00:00:00\", \"2018-01-24T00:00:00\", \"2018-01-25T00:00:00\", \"2018-01-26T00:00:00\", \"2018-01-27T00:00:00\", \"2018-01-28T00:00:00\", \"2018-01-29T00:00:00\", \"2018-01-30T00:00:00\", \"2018-01-31T00:00:00\", \"2018-02-01T00:00:00\", \"2018-02-02T00:00:00\", \"2018-02-03T00:00:00\", \"2018-02-04T00:00:00\", \"2018-02-05T00:00:00\", \"2018-02-06T00:00:00\", \"2018-02-07T00:00:00\", \"2018-02-08T00:00:00\", \"2018-02-09T00:00:00\", \"2018-02-10T00:00:00\", \"2018-02-11T00:00:00\", \"2018-02-12T00:00:00\", \"2018-02-13T00:00:00\", \"2018-02-14T00:00:00\", \"2018-02-15T00:00:00\", \"2018-02-16T00:00:00\", \"2018-02-17T00:00:00\", \"2018-02-18T00:00:00\", \"2018-02-19T00:00:00\", \"2018-02-20T00:00:00\", \"2018-02-21T00:00:00\", \"2018-02-22T00:00:00\", \"2018-02-23T00:00:00\", \"2018-02-24T00:00:00\", \"2018-02-25T00:00:00\", \"2018-02-26T00:00:00\", \"2018-02-27T00:00:00\", \"2018-02-28T00:00:00\", \"2018-03-01T00:00:00\", \"2018-03-02T00:00:00\", \"2018-03-03T00:00:00\", \"2018-03-04T00:00:00\", \"2018-03-05T00:00:00\", \"2018-03-06T00:00:00\", \"2018-03-07T00:00:00\", \"2018-03-08T00:00:00\", \"2018-03-09T00:00:00\", \"2018-03-10T00:00:00\", \"2018-03-11T00:00:00\", \"2018-03-12T00:00:00\", \"2018-03-13T00:00:00\", \"2018-03-14T00:00:00\", \"2018-03-15T00:00:00\", \"2018-03-16T00:00:00\", \"2018-03-17T00:00:00\", \"2018-03-18T00:00:00\", \"2018-03-19T00:00:00\", \"2018-03-20T00:00:00\", \"2018-03-21T00:00:00\", \"2018-03-22T00:00:00\", \"2018-03-23T00:00:00\", \"2018-03-24T00:00:00\", \"2018-03-25T00:00:00\", \"2018-03-26T00:00:00\", \"2018-03-27T00:00:00\", \"2018-03-28T00:00:00\", \"2018-03-29T00:00:00\", \"2018-03-30T00:00:00\", \"2018-03-31T00:00:00\", \"2018-04-01T00:00:00\", \"2018-04-02T00:00:00\", \"2018-04-03T00:00:00\", \"2018-04-04T00:00:00\", \"2018-04-05T00:00:00\", \"2018-04-06T00:00:00\", \"2018-04-07T00:00:00\", \"2018-04-08T00:00:00\", \"2018-04-09T00:00:00\", \"2018-04-10T00:00:00\", \"2018-04-11T00:00:00\", \"2018-04-12T00:00:00\", \"2018-04-13T00:00:00\", \"2018-04-14T00:00:00\", \"2018-04-15T00:00:00\", \"2018-04-16T00:00:00\", \"2018-04-17T00:00:00\", \"2018-04-18T00:00:00\", \"2018-04-19T00:00:00\", \"2018-04-20T00:00:00\", \"2018-04-21T00:00:00\", \"2018-04-22T00:00:00\", \"2018-04-23T00:00:00\", \"2018-04-24T00:00:00\", \"2018-04-25T00:00:00\", \"2018-04-26T00:00:00\", \"2018-04-27T00:00:00\", \"2018-04-28T00:00:00\", \"2018-04-29T00:00:00\", \"2018-04-30T00:00:00\", \"2018-05-01T00:00:00\", \"2018-05-02T00:00:00\", \"2018-05-03T00:00:00\", \"2018-05-04T00:00:00\", \"2018-05-05T00:00:00\", \"2018-05-06T00:00:00\", \"2018-05-07T00:00:00\", \"2018-05-08T00:00:00\", \"2018-05-09T00:00:00\", \"2018-05-10T00:00:00\", \"2018-05-11T00:00:00\", \"2018-05-12T00:00:00\", \"2018-05-13T00:00:00\", \"2018-05-14T00:00:00\", \"2018-05-15T00:00:00\", \"2018-05-16T00:00:00\", \"2018-05-17T00:00:00\", \"2018-05-18T00:00:00\", \"2018-05-19T00:00:00\", \"2018-05-20T00:00:00\", \"2018-05-21T00:00:00\", \"2018-05-22T00:00:00\", \"2018-05-23T00:00:00\", \"2018-05-24T00:00:00\", \"2018-05-25T00:00:00\", \"2018-05-26T00:00:00\", \"2018-05-27T00:00:00\", \"2018-05-28T00:00:00\", \"2018-05-29T00:00:00\", \"2018-05-30T00:00:00\", \"2018-05-31T00:00:00\", \"2018-06-01T00:00:00\", \"2018-06-02T00:00:00\", \"2018-06-03T00:00:00\", \"2018-06-04T00:00:00\", \"2018-06-05T00:00:00\", \"2018-06-06T00:00:00\", \"2018-06-07T00:00:00\", \"2018-06-08T00:00:00\", \"2018-06-09T00:00:00\", \"2018-06-10T00:00:00\", \"2018-06-11T00:00:00\", \"2018-06-12T00:00:00\", \"2018-06-13T00:00:00\", \"2018-06-14T00:00:00\", \"2018-06-15T00:00:00\", \"2018-06-16T00:00:00\", \"2018-06-17T00:00:00\", \"2018-06-18T00:00:00\", \"2018-06-19T00:00:00\", \"2018-06-20T00:00:00\", \"2018-06-21T00:00:00\", \"2018-06-22T00:00:00\", \"2018-06-23T00:00:00\", \"2018-06-24T00:00:00\", \"2018-06-25T00:00:00\", \"2018-06-26T00:00:00\", \"2018-06-27T00:00:00\", \"2018-06-28T00:00:00\", \"2018-06-29T00:00:00\", \"2018-06-30T00:00:00\", \"2018-07-01T00:00:00\", \"2018-07-02T00:00:00\", \"2018-07-03T00:00:00\", \"2018-07-04T00:00:00\", \"2018-07-05T00:00:00\", \"2018-07-06T00:00:00\", \"2018-07-07T00:00:00\", \"2018-07-08T00:00:00\", \"2018-07-09T00:00:00\", \"2018-07-10T00:00:00\", \"2018-07-11T00:00:00\", \"2018-07-12T00:00:00\", \"2018-07-13T00:00:00\", \"2018-07-14T00:00:00\", \"2018-07-15T00:00:00\", \"2018-07-16T00:00:00\", \"2018-07-17T00:00:00\", \"2018-07-18T00:00:00\", \"2018-07-19T00:00:00\", \"2018-07-20T00:00:00\", \"2018-07-21T00:00:00\", \"2018-07-22T00:00:00\", \"2018-07-23T00:00:00\", \"2018-07-24T00:00:00\", \"2018-07-25T00:00:00\", \"2018-07-26T00:00:00\", \"2018-07-27T00:00:00\", \"2018-07-28T00:00:00\", \"2018-07-29T00:00:00\", \"2018-07-30T00:00:00\", \"2018-07-31T00:00:00\", \"2018-08-01T00:00:00\", \"2018-08-02T00:00:00\", \"2018-08-03T00:00:00\", \"2018-08-04T00:00:00\", \"2018-08-05T00:00:00\", \"2018-08-06T00:00:00\", \"2018-08-07T00:00:00\", \"2018-08-08T00:00:00\", \"2018-08-09T00:00:00\", \"2018-08-10T00:00:00\", \"2018-08-11T00:00:00\", \"2018-08-12T00:00:00\", \"2018-08-13T00:00:00\", \"2018-08-14T00:00:00\", \"2018-08-15T00:00:00\", \"2018-08-16T00:00:00\", \"2018-08-17T00:00:00\", \"2018-08-18T00:00:00\", \"2018-08-19T00:00:00\", \"2018-08-20T00:00:00\", \"2018-08-21T00:00:00\", \"2018-08-22T00:00:00\", \"2018-08-23T00:00:00\", \"2018-08-24T00:00:00\", \"2018-08-25T00:00:00\", \"2018-08-26T00:00:00\", \"2018-08-27T00:00:00\", \"2018-08-28T00:00:00\", \"2018-08-29T00:00:00\", \"2018-08-30T00:00:00\", \"2018-08-31T00:00:00\", \"2018-09-01T00:00:00\", \"2018-09-02T00:00:00\", \"2018-09-03T00:00:00\", \"2018-09-04T00:00:00\", \"2018-09-05T00:00:00\", \"2018-09-06T00:00:00\", \"2018-09-07T00:00:00\", \"2018-09-08T00:00:00\", \"2018-09-09T00:00:00\", \"2018-09-10T00:00:00\", \"2018-09-11T00:00:00\", \"2018-09-12T00:00:00\", \"2018-09-13T00:00:00\", \"2018-09-14T00:00:00\", \"2018-09-15T00:00:00\", \"2018-09-16T00:00:00\", \"2018-09-17T00:00:00\", \"2018-09-18T00:00:00\", \"2018-09-19T00:00:00\", \"2018-09-20T00:00:00\", \"2018-09-21T00:00:00\", \"2018-09-22T00:00:00\", \"2018-09-23T00:00:00\", \"2018-09-24T00:00:00\", \"2018-09-25T00:00:00\", \"2018-09-26T00:00:00\", \"2018-09-27T00:00:00\", \"2018-09-28T00:00:00\", \"2018-09-29T00:00:00\", \"2018-09-30T00:00:00\", \"2018-10-01T00:00:00\", \"2018-10-02T00:00:00\", \"2018-10-03T00:00:00\", \"2018-10-04T00:00:00\", \"2018-10-05T00:00:00\", \"2018-10-06T00:00:00\", \"2018-10-07T00:00:00\", \"2018-10-08T00:00:00\", \"2018-10-09T00:00:00\", \"2018-10-10T00:00:00\", \"2018-10-11T00:00:00\", \"2018-10-12T00:00:00\", \"2018-10-13T00:00:00\", \"2018-10-14T00:00:00\", \"2018-10-15T00:00:00\", \"2018-10-16T00:00:00\", \"2018-10-17T00:00:00\", \"2018-10-18T00:00:00\", \"2018-10-19T00:00:00\", \"2018-10-20T00:00:00\", \"2018-10-21T00:00:00\", \"2018-10-22T00:00:00\", \"2018-10-23T00:00:00\", \"2018-10-24T00:00:00\", \"2018-10-25T00:00:00\", \"2018-10-26T00:00:00\", \"2018-10-27T00:00:00\", \"2018-10-28T00:00:00\", \"2018-10-29T00:00:00\", \"2018-10-30T00:00:00\", \"2018-10-31T00:00:00\", \"2018-11-01T00:00:00\", \"2018-11-02T00:00:00\", \"2018-11-03T00:00:00\", \"2018-11-04T00:00:00\", \"2018-11-05T00:00:00\", \"2018-11-06T00:00:00\", \"2018-11-07T00:00:00\", \"2018-11-08T00:00:00\", \"2018-11-09T00:00:00\", \"2018-11-10T00:00:00\", \"2018-11-11T00:00:00\", \"2018-11-12T00:00:00\", \"2018-11-13T00:00:00\", \"2018-11-14T00:00:00\", \"2018-11-15T00:00:00\", \"2018-11-16T00:00:00\", \"2018-11-17T00:00:00\", \"2018-11-18T00:00:00\", \"2018-11-19T00:00:00\", \"2018-11-20T00:00:00\", \"2018-11-21T00:00:00\", \"2018-11-22T00:00:00\", \"2018-11-23T00:00:00\", \"2018-11-24T00:00:00\", \"2018-11-25T00:00:00\", \"2018-11-26T00:00:00\", \"2018-11-27T00:00:00\", \"2018-11-28T00:00:00\", \"2018-11-29T00:00:00\", \"2018-11-30T00:00:00\", \"2018-12-01T00:00:00\", \"2018-12-02T00:00:00\", \"2018-12-03T00:00:00\", \"2018-12-04T00:00:00\", \"2018-12-05T00:00:00\", \"2018-12-06T00:00:00\", \"2018-12-07T00:00:00\", \"2018-12-08T00:00:00\", \"2018-12-09T00:00:00\", \"2018-12-10T00:00:00\", \"2018-12-11T00:00:00\", \"2018-12-12T00:00:00\", \"2018-12-13T00:00:00\", \"2018-12-14T00:00:00\", \"2018-12-15T00:00:00\", \"2018-12-16T00:00:00\", \"2018-12-17T00:00:00\", \"2018-12-18T00:00:00\", \"2018-12-19T00:00:00\", \"2018-12-20T00:00:00\", \"2018-12-21T00:00:00\", \"2018-12-22T00:00:00\", \"2018-12-23T00:00:00\", \"2018-12-24T00:00:00\", \"2018-12-25T00:00:00\", \"2018-12-26T00:00:00\", \"2018-12-27T00:00:00\", \"2018-12-28T00:00:00\", \"2018-12-29T00:00:00\", \"2018-12-30T00:00:00\", \"2018-12-31T00:00:00\", \"2019-01-01T00:00:00\", \"2019-01-02T00:00:00\", \"2019-01-03T00:00:00\", \"2019-01-04T00:00:00\", \"2019-01-05T00:00:00\", \"2019-01-06T00:00:00\", \"2019-01-07T00:00:00\", \"2019-01-08T00:00:00\", \"2019-01-09T00:00:00\", \"2019-01-10T00:00:00\", \"2019-01-11T00:00:00\", \"2019-01-12T00:00:00\", \"2019-01-13T00:00:00\", \"2019-01-14T00:00:00\", \"2019-01-15T00:00:00\", \"2019-01-16T00:00:00\", \"2019-01-17T00:00:00\", \"2019-01-18T00:00:00\", \"2019-01-19T00:00:00\", \"2019-01-20T00:00:00\", \"2019-01-21T00:00:00\", \"2019-01-22T00:00:00\", \"2019-01-23T00:00:00\", \"2019-01-24T00:00:00\", \"2019-01-25T00:00:00\", \"2019-01-26T00:00:00\", \"2019-01-27T00:00:00\", \"2019-01-28T00:00:00\", \"2019-01-29T00:00:00\", \"2019-01-30T00:00:00\", \"2019-01-31T00:00:00\", \"2019-02-01T00:00:00\", \"2019-02-02T00:00:00\", \"2019-02-03T00:00:00\", \"2019-02-04T00:00:00\", \"2019-02-05T00:00:00\", \"2019-02-06T00:00:00\", \"2019-02-07T00:00:00\", \"2019-02-08T00:00:00\", \"2019-02-09T00:00:00\", \"2019-02-10T00:00:00\", \"2019-02-11T00:00:00\", \"2019-02-12T00:00:00\", \"2019-02-13T00:00:00\", \"2019-02-14T00:00:00\", \"2019-02-15T00:00:00\", \"2019-02-16T00:00:00\", \"2019-02-17T00:00:00\", \"2019-02-18T00:00:00\", \"2019-02-19T00:00:00\", \"2019-02-20T00:00:00\", \"2019-02-21T00:00:00\", \"2019-02-22T00:00:00\", \"2019-02-23T00:00:00\", \"2019-02-24T00:00:00\", \"2019-02-25T00:00:00\", \"2019-02-26T00:00:00\", \"2019-02-27T00:00:00\", \"2019-02-28T00:00:00\", \"2019-03-01T00:00:00\", \"2019-03-02T00:00:00\", \"2019-03-03T00:00:00\", \"2019-03-04T00:00:00\", \"2019-03-05T00:00:00\", \"2019-03-06T00:00:00\", \"2019-03-07T00:00:00\", \"2019-03-08T00:00:00\", \"2019-03-09T00:00:00\", \"2019-03-10T00:00:00\", \"2019-03-11T00:00:00\", \"2019-03-12T00:00:00\", \"2019-03-13T00:00:00\", \"2019-03-14T00:00:00\", \"2019-03-15T00:00:00\", \"2019-03-16T00:00:00\", \"2019-03-17T00:00:00\", \"2019-03-18T00:00:00\", \"2019-03-19T00:00:00\", \"2019-03-20T00:00:00\", \"2019-03-21T00:00:00\", \"2019-03-22T00:00:00\", \"2019-03-23T00:00:00\", \"2019-03-24T00:00:00\", \"2019-03-25T00:00:00\", \"2019-03-26T00:00:00\", \"2019-03-27T00:00:00\", \"2019-03-28T00:00:00\", \"2019-03-29T00:00:00\", \"2019-03-30T00:00:00\", \"2019-03-31T00:00:00\", \"2019-04-01T00:00:00\", \"2019-04-02T00:00:00\", \"2019-04-03T00:00:00\", \"2019-04-04T00:00:00\", \"2019-04-05T00:00:00\", \"2019-04-06T00:00:00\", \"2019-04-07T00:00:00\", \"2019-04-08T00:00:00\", \"2019-04-09T00:00:00\", \"2019-04-10T00:00:00\", \"2019-04-11T00:00:00\", \"2019-04-12T00:00:00\", \"2019-04-13T00:00:00\", \"2019-04-14T00:00:00\", \"2019-04-15T00:00:00\", \"2019-04-16T00:00:00\", \"2019-04-17T00:00:00\", \"2019-04-18T00:00:00\", \"2019-04-19T00:00:00\", \"2019-04-20T00:00:00\", \"2019-04-21T00:00:00\", \"2019-04-22T00:00:00\", \"2019-04-23T00:00:00\", \"2019-04-24T00:00:00\", \"2019-04-25T00:00:00\", \"2019-04-26T00:00:00\", \"2019-04-27T00:00:00\", \"2019-04-28T00:00:00\", \"2019-04-29T00:00:00\", \"2019-04-30T00:00:00\", \"2019-05-01T00:00:00\", \"2019-05-02T00:00:00\", \"2019-05-03T00:00:00\", \"2019-05-04T00:00:00\", \"2019-05-05T00:00:00\", \"2019-05-06T00:00:00\", \"2019-05-07T00:00:00\", \"2019-05-08T00:00:00\", \"2019-05-09T00:00:00\", \"2019-05-10T00:00:00\", \"2019-05-11T00:00:00\", \"2019-05-12T00:00:00\", \"2019-05-13T00:00:00\", \"2019-05-14T00:00:00\", \"2019-05-15T00:00:00\", \"2019-05-16T00:00:00\", \"2019-05-17T00:00:00\", \"2019-05-18T00:00:00\", \"2019-05-19T00:00:00\", \"2019-05-20T00:00:00\", \"2019-05-21T00:00:00\", \"2019-05-22T00:00:00\", \"2019-05-23T00:00:00\", \"2019-05-24T00:00:00\", \"2019-05-25T00:00:00\", \"2019-05-26T00:00:00\", \"2019-05-27T00:00:00\", \"2019-05-28T00:00:00\", \"2019-05-29T00:00:00\", \"2019-05-30T00:00:00\", \"2019-05-31T00:00:00\", \"2019-06-01T00:00:00\", \"2019-06-02T00:00:00\", \"2019-06-03T00:00:00\", \"2019-06-04T00:00:00\", \"2019-06-05T00:00:00\", \"2019-06-06T00:00:00\", \"2019-06-07T00:00:00\", \"2019-06-08T00:00:00\", \"2019-06-09T00:00:00\", \"2019-06-10T00:00:00\", \"2019-06-11T00:00:00\", \"2019-06-12T00:00:00\", \"2019-06-13T00:00:00\", \"2019-06-14T00:00:00\", \"2019-06-15T00:00:00\", \"2019-06-16T00:00:00\", \"2019-06-17T00:00:00\", \"2019-06-18T00:00:00\", \"2019-06-19T00:00:00\", \"2019-06-20T00:00:00\", \"2019-06-21T00:00:00\", \"2019-06-22T00:00:00\", \"2019-06-23T00:00:00\", \"2019-06-24T00:00:00\", \"2019-06-25T00:00:00\", \"2019-06-26T00:00:00\", \"2019-06-27T00:00:00\", \"2019-06-28T00:00:00\", \"2019-06-29T00:00:00\", \"2019-06-30T00:00:00\", \"2019-07-01T00:00:00\", \"2019-07-02T00:00:00\", \"2019-07-03T00:00:00\", \"2019-07-04T00:00:00\", \"2019-07-05T00:00:00\", \"2019-07-06T00:00:00\", \"2019-07-07T00:00:00\", \"2019-07-08T00:00:00\", \"2019-07-09T00:00:00\", \"2019-07-10T00:00:00\", \"2019-07-11T00:00:00\", \"2019-07-12T00:00:00\", \"2019-07-13T00:00:00\", \"2019-07-14T00:00:00\", \"2019-07-15T00:00:00\", \"2019-07-16T00:00:00\", \"2019-07-17T00:00:00\", \"2019-07-18T00:00:00\", \"2019-07-19T00:00:00\", \"2019-07-20T00:00:00\", \"2019-07-21T00:00:00\", \"2019-07-22T00:00:00\", \"2019-07-23T00:00:00\", \"2019-07-24T00:00:00\", \"2019-07-25T00:00:00\", \"2019-07-26T00:00:00\", \"2019-07-27T00:00:00\", \"2019-07-28T00:00:00\", \"2019-07-29T00:00:00\", \"2019-07-30T00:00:00\", \"2019-07-31T00:00:00\", \"2019-08-01T00:00:00\", \"2019-08-02T00:00:00\", \"2019-08-03T00:00:00\", \"2019-08-04T00:00:00\", \"2019-08-05T00:00:00\", \"2019-08-06T00:00:00\", \"2019-08-07T00:00:00\", \"2019-08-08T00:00:00\", \"2019-08-09T00:00:00\", \"2019-08-10T00:00:00\", \"2019-08-11T00:00:00\", \"2019-08-12T00:00:00\", \"2019-08-13T00:00:00\", \"2019-08-14T00:00:00\", \"2019-08-15T00:00:00\", \"2019-08-16T00:00:00\", \"2019-08-17T00:00:00\", \"2019-08-18T00:00:00\", \"2019-08-19T00:00:00\", \"2019-08-20T00:00:00\", \"2019-08-21T00:00:00\", \"2019-08-22T00:00:00\", \"2019-08-23T00:00:00\", \"2019-08-24T00:00:00\", \"2019-08-25T00:00:00\", \"2019-08-26T00:00:00\", \"2019-08-27T00:00:00\", \"2019-08-28T00:00:00\", \"2019-08-29T00:00:00\", \"2019-08-30T00:00:00\", \"2019-08-31T00:00:00\", \"2019-09-01T00:00:00\", \"2019-09-02T00:00:00\", \"2019-09-03T00:00:00\", \"2019-09-04T00:00:00\", \"2019-09-05T00:00:00\", \"2019-09-06T00:00:00\", \"2019-09-07T00:00:00\", \"2019-09-08T00:00:00\", \"2019-09-09T00:00:00\", \"2019-09-10T00:00:00\", \"2019-09-11T00:00:00\", \"2019-09-12T00:00:00\", \"2019-09-13T00:00:00\", \"2019-09-14T00:00:00\", \"2019-09-15T00:00:00\", \"2019-09-16T00:00:00\", \"2019-09-17T00:00:00\", \"2019-09-18T00:00:00\", \"2019-09-19T00:00:00\", \"2019-09-20T00:00:00\", \"2019-09-21T00:00:00\", \"2019-09-22T00:00:00\", \"2019-09-23T00:00:00\", \"2019-09-24T00:00:00\", \"2019-09-25T00:00:00\", \"2019-09-26T00:00:00\", \"2019-09-27T00:00:00\", \"2019-09-28T00:00:00\", \"2019-09-29T00:00:00\", \"2019-09-30T00:00:00\", \"2019-10-01T00:00:00\", \"2019-10-02T00:00:00\", \"2019-10-03T00:00:00\", \"2019-10-04T00:00:00\", \"2019-10-05T00:00:00\", \"2019-10-06T00:00:00\", \"2019-10-07T00:00:00\", \"2019-10-08T00:00:00\", \"2019-10-09T00:00:00\", \"2019-10-10T00:00:00\", \"2019-10-11T00:00:00\", \"2019-10-12T00:00:00\", \"2019-10-13T00:00:00\", \"2019-10-14T00:00:00\", \"2019-10-15T00:00:00\", \"2019-10-16T00:00:00\", \"2019-10-17T00:00:00\", \"2019-10-18T00:00:00\", \"2019-10-19T00:00:00\", \"2019-10-20T00:00:00\", \"2019-10-21T00:00:00\", \"2019-10-22T00:00:00\", \"2019-10-23T00:00:00\", \"2019-10-24T00:00:00\", \"2019-10-25T00:00:00\", \"2019-10-26T00:00:00\", \"2019-10-27T00:00:00\", \"2019-10-28T00:00:00\", \"2019-10-29T00:00:00\", \"2019-10-30T00:00:00\", \"2019-10-31T00:00:00\", \"2019-11-01T00:00:00\", \"2019-11-02T00:00:00\", \"2019-11-03T00:00:00\", \"2019-11-04T00:00:00\", \"2019-11-05T00:00:00\", \"2019-11-06T00:00:00\", \"2019-11-07T00:00:00\", \"2019-11-08T00:00:00\", \"2019-11-09T00:00:00\", \"2019-11-10T00:00:00\", \"2019-11-11T00:00:00\", \"2019-11-12T00:00:00\", \"2019-11-13T00:00:00\", \"2019-11-14T00:00:00\", \"2019-11-15T00:00:00\", \"2019-11-16T00:00:00\", \"2019-11-17T00:00:00\", \"2019-11-18T00:00:00\", \"2019-11-19T00:00:00\", \"2019-11-20T00:00:00\", \"2019-11-21T00:00:00\", \"2019-11-22T00:00:00\", \"2019-11-23T00:00:00\", \"2019-11-24T00:00:00\", \"2019-11-25T00:00:00\", \"2019-11-26T00:00:00\", \"2019-11-27T00:00:00\", \"2019-11-28T00:00:00\", \"2019-11-29T00:00:00\", \"2019-11-30T00:00:00\", \"2019-12-01T00:00:00\", \"2019-12-02T00:00:00\", \"2019-12-03T00:00:00\", \"2019-12-04T00:00:00\", \"2019-12-05T00:00:00\", \"2019-12-06T00:00:00\", \"2019-12-07T00:00:00\", \"2019-12-08T00:00:00\", \"2019-12-09T00:00:00\", \"2019-12-10T00:00:00\", \"2019-12-11T00:00:00\", \"2019-12-12T00:00:00\", \"2019-12-13T00:00:00\", \"2019-12-14T00:00:00\", \"2019-12-15T00:00:00\", \"2019-12-16T00:00:00\", \"2019-12-17T00:00:00\", \"2019-12-18T00:00:00\", \"2019-12-19T00:00:00\", \"2019-12-20T00:00:00\", \"2019-12-21T00:00:00\", \"2019-12-22T00:00:00\", \"2019-12-23T00:00:00\", \"2019-12-24T00:00:00\", \"2019-12-25T00:00:00\", \"2019-12-26T00:00:00\", \"2019-12-27T00:00:00\", \"2019-12-28T00:00:00\", \"2019-12-29T00:00:00\", \"2019-12-30T00:00:00\", \"2019-12-31T00:00:00\", \"2020-01-01T00:00:00\", \"2020-01-02T00:00:00\", \"2020-01-03T00:00:00\", \"2020-01-04T00:00:00\", \"2020-01-05T00:00:00\", \"2020-01-06T00:00:00\", \"2020-01-07T00:00:00\", \"2020-01-08T00:00:00\", \"2020-01-09T00:00:00\", \"2020-01-10T00:00:00\", \"2020-01-11T00:00:00\", \"2020-01-12T00:00:00\", \"2020-01-13T00:00:00\", \"2020-01-14T00:00:00\", \"2020-01-15T00:00:00\", \"2020-01-16T00:00:00\", \"2020-01-17T00:00:00\", \"2020-01-18T00:00:00\", \"2020-01-19T00:00:00\", \"2020-01-20T00:00:00\", \"2020-01-21T00:00:00\", \"2020-01-22T00:00:00\", \"2020-01-23T00:00:00\", \"2020-01-24T00:00:00\", \"2020-01-25T00:00:00\", \"2020-01-26T00:00:00\", \"2020-01-27T00:00:00\", \"2020-01-28T00:00:00\", \"2020-01-29T00:00:00\", \"2020-01-30T00:00:00\", \"2020-01-31T00:00:00\", \"2020-02-01T00:00:00\", \"2020-02-02T00:00:00\", \"2020-02-03T00:00:00\", \"2020-02-04T00:00:00\", \"2020-02-05T00:00:00\", \"2020-02-06T00:00:00\", \"2020-02-07T00:00:00\", \"2020-02-08T00:00:00\", \"2020-02-09T00:00:00\", \"2020-02-10T00:00:00\", \"2020-02-11T00:00:00\", \"2020-02-12T00:00:00\", \"2020-02-13T00:00:00\", \"2020-02-14T00:00:00\", \"2020-02-15T00:00:00\", \"2020-02-16T00:00:00\", \"2020-02-17T00:00:00\", \"2020-02-18T00:00:00\", \"2020-02-19T00:00:00\", \"2020-02-20T00:00:00\", \"2020-02-21T00:00:00\", \"2020-02-22T00:00:00\", \"2020-02-23T00:00:00\", \"2020-02-24T00:00:00\", \"2020-02-25T00:00:00\", \"2020-02-26T00:00:00\", \"2020-02-27T00:00:00\", \"2020-02-28T00:00:00\", \"2020-02-29T00:00:00\", \"2020-03-01T00:00:00\", \"2020-03-02T00:00:00\", \"2020-03-03T00:00:00\", \"2020-03-04T00:00:00\", \"2020-03-05T00:00:00\", \"2020-03-06T00:00:00\", \"2020-03-07T00:00:00\", \"2020-03-08T00:00:00\", \"2020-03-09T00:00:00\", \"2020-03-10T00:00:00\", \"2020-03-11T00:00:00\", \"2020-03-12T00:00:00\", \"2020-03-13T00:00:00\", \"2020-03-14T00:00:00\", \"2020-03-15T00:00:00\", \"2020-03-16T00:00:00\", \"2020-03-17T00:00:00\", \"2020-03-18T00:00:00\", \"2020-03-19T00:00:00\", \"2020-03-20T00:00:00\", \"2020-03-21T00:00:00\", \"2020-03-22T00:00:00\", \"2020-03-23T00:00:00\", \"2020-03-24T00:00:00\", \"2020-03-25T00:00:00\", \"2020-03-26T00:00:00\", \"2020-03-27T00:00:00\", \"2020-03-28T00:00:00\", \"2020-03-29T00:00:00\", \"2020-03-30T00:00:00\", \"2020-03-31T00:00:00\", \"2020-04-01T00:00:00\", \"2020-04-02T00:00:00\", \"2020-04-03T00:00:00\", \"2020-04-04T00:00:00\", \"2020-04-05T00:00:00\", \"2020-04-06T00:00:00\", \"2020-04-07T00:00:00\", \"2020-04-08T00:00:00\", \"2020-04-09T00:00:00\", \"2020-04-10T00:00:00\", \"2020-04-11T00:00:00\", \"2020-04-12T00:00:00\", \"2020-04-13T00:00:00\", \"2020-04-14T00:00:00\", \"2020-04-15T00:00:00\", \"2020-04-16T00:00:00\", \"2020-04-17T00:00:00\", \"2020-04-18T00:00:00\", \"2020-04-19T00:00:00\", \"2020-04-20T00:00:00\", \"2020-04-21T00:00:00\", \"2020-04-22T00:00:00\", \"2020-04-23T00:00:00\", \"2020-04-24T00:00:00\", \"2020-04-25T00:00:00\", \"2020-04-26T00:00:00\", \"2020-04-27T00:00:00\", \"2020-04-28T00:00:00\", \"2020-04-29T00:00:00\", \"2020-04-30T00:00:00\", \"2020-05-01T00:00:00\", \"2020-05-02T00:00:00\", \"2020-05-03T00:00:00\", \"2020-05-04T00:00:00\", \"2020-05-05T00:00:00\", \"2020-05-06T00:00:00\", \"2020-05-07T00:00:00\", \"2020-05-08T00:00:00\", \"2020-05-09T00:00:00\", \"2020-05-10T00:00:00\", \"2020-05-11T00:00:00\", \"2020-05-12T00:00:00\", \"2020-05-13T00:00:00\", \"2020-05-14T00:00:00\", \"2020-05-15T00:00:00\", \"2020-05-16T00:00:00\", \"2020-05-17T00:00:00\", \"2020-05-18T00:00:00\", \"2020-05-19T00:00:00\", \"2020-05-20T00:00:00\", \"2020-05-21T00:00:00\", \"2020-05-22T00:00:00\", \"2020-05-23T00:00:00\", \"2020-05-24T00:00:00\", \"2020-05-25T00:00:00\", \"2020-05-26T00:00:00\", \"2020-05-27T00:00:00\", \"2020-05-28T00:00:00\", \"2020-05-29T00:00:00\", \"2020-05-30T00:00:00\", \"2020-05-31T00:00:00\", \"2020-06-01T00:00:00\", \"2020-06-02T00:00:00\", \"2020-06-03T00:00:00\", \"2020-06-04T00:00:00\", \"2020-06-05T00:00:00\", \"2020-06-06T00:00:00\", \"2020-06-07T00:00:00\", \"2020-06-08T00:00:00\", \"2020-06-09T00:00:00\", \"2020-06-10T00:00:00\", \"2020-06-11T00:00:00\", \"2020-06-12T00:00:00\", \"2020-06-13T00:00:00\", \"2020-06-14T00:00:00\", \"2020-06-15T00:00:00\", \"2020-06-16T00:00:00\", \"2020-06-17T00:00:00\", \"2020-06-18T00:00:00\", \"2020-06-19T00:00:00\", \"2020-06-20T00:00:00\", \"2020-06-21T00:00:00\", \"2020-06-22T00:00:00\", \"2020-06-23T00:00:00\", \"2020-06-24T00:00:00\", \"2020-06-25T00:00:00\", \"2020-06-26T00:00:00\", \"2020-06-27T00:00:00\", \"2020-06-28T00:00:00\", \"2020-06-29T00:00:00\", \"2020-06-30T00:00:00\", \"2020-07-01T00:00:00\", \"2020-07-02T00:00:00\", \"2020-07-03T00:00:00\", \"2020-07-04T00:00:00\", \"2020-07-05T00:00:00\", \"2020-07-06T00:00:00\", \"2020-07-07T00:00:00\", \"2020-07-08T00:00:00\", \"2020-07-09T00:00:00\", \"2020-07-10T00:00:00\", \"2020-07-11T00:00:00\", \"2020-07-12T00:00:00\", \"2020-07-13T00:00:00\", \"2020-07-14T00:00:00\", \"2020-07-15T00:00:00\", \"2020-07-16T00:00:00\", \"2020-07-17T00:00:00\", \"2020-07-18T00:00:00\", \"2020-07-19T00:00:00\", \"2020-07-20T00:00:00\", \"2020-07-21T00:00:00\", \"2020-07-22T00:00:00\", \"2020-07-23T00:00:00\", \"2020-07-24T00:00:00\", \"2020-07-25T00:00:00\", \"2020-07-26T00:00:00\", \"2020-07-27T00:00:00\", \"2020-07-28T00:00:00\", \"2020-07-29T00:00:00\", \"2020-07-30T00:00:00\", \"2020-07-31T00:00:00\", \"2020-08-01T00:00:00\", \"2020-08-02T00:00:00\", \"2020-08-03T00:00:00\", \"2020-08-04T00:00:00\", \"2020-08-05T00:00:00\", \"2020-08-06T00:00:00\", \"2020-08-07T00:00:00\", \"2020-08-08T00:00:00\", \"2020-08-09T00:00:00\", \"2020-08-10T00:00:00\", \"2020-08-11T00:00:00\", \"2020-08-12T00:00:00\", \"2020-08-13T00:00:00\", \"2020-08-14T00:00:00\", \"2020-08-15T00:00:00\", \"2020-08-16T00:00:00\", \"2020-08-17T00:00:00\", \"2020-08-18T00:00:00\", \"2020-08-19T00:00:00\", \"2020-08-20T00:00:00\", \"2020-08-21T00:00:00\", \"2020-08-22T00:00:00\", \"2020-08-23T00:00:00\", \"2020-08-24T00:00:00\", \"2020-08-25T00:00:00\", \"2020-08-26T00:00:00\", \"2020-08-27T00:00:00\", \"2020-08-28T00:00:00\", \"2020-08-29T00:00:00\", \"2020-08-30T00:00:00\", \"2020-08-31T00:00:00\", \"2020-09-01T00:00:00\", \"2020-09-02T00:00:00\", \"2020-09-03T00:00:00\", \"2020-09-04T00:00:00\", \"2020-09-05T00:00:00\", \"2020-09-06T00:00:00\", \"2020-09-07T00:00:00\", \"2020-09-08T00:00:00\", \"2020-09-09T00:00:00\", \"2020-09-10T00:00:00\", \"2020-09-11T00:00:00\", \"2020-09-12T00:00:00\", \"2020-09-13T00:00:00\", \"2020-09-14T00:00:00\", \"2020-09-15T00:00:00\", \"2020-09-16T00:00:00\", \"2020-09-17T00:00:00\", \"2020-09-18T00:00:00\", \"2020-09-19T00:00:00\", \"2020-09-20T00:00:00\", \"2020-09-21T00:00:00\", \"2020-09-22T00:00:00\", \"2020-09-23T00:00:00\", \"2020-09-24T00:00:00\", \"2020-09-25T00:00:00\", \"2020-09-26T00:00:00\", \"2020-09-27T00:00:00\", \"2020-09-28T00:00:00\", \"2020-09-29T00:00:00\", \"2020-09-30T00:00:00\", \"2020-10-01T00:00:00\", \"2020-10-02T00:00:00\", \"2020-10-03T00:00:00\", \"2020-10-04T00:00:00\", \"2020-10-05T00:00:00\", \"2020-10-06T00:00:00\", \"2020-10-07T00:00:00\", \"2020-10-08T00:00:00\", \"2020-10-09T00:00:00\", \"2020-10-10T00:00:00\", \"2020-10-11T00:00:00\", \"2020-10-12T00:00:00\", \"2020-10-13T00:00:00\", \"2020-10-14T00:00:00\", \"2020-10-15T00:00:00\", \"2020-10-16T00:00:00\", \"2020-10-17T00:00:00\", \"2020-10-18T00:00:00\", \"2020-10-19T00:00:00\", \"2020-10-20T00:00:00\", \"2020-10-21T00:00:00\", \"2020-10-22T00:00:00\", \"2020-10-23T00:00:00\", \"2020-10-24T00:00:00\", \"2020-10-25T00:00:00\", \"2020-10-26T00:00:00\", \"2020-10-27T00:00:00\", \"2020-10-28T00:00:00\", \"2020-10-29T00:00:00\", \"2020-10-30T00:00:00\", \"2020-10-31T00:00:00\", \"2020-11-01T00:00:00\", \"2020-11-02T00:00:00\", \"2020-11-03T00:00:00\", \"2020-11-04T00:00:00\", \"2020-11-05T00:00:00\", \"2020-11-06T00:00:00\", \"2020-11-07T00:00:00\", \"2020-11-08T00:00:00\", \"2020-11-09T00:00:00\", \"2020-11-10T00:00:00\", \"2020-11-11T00:00:00\", \"2020-11-12T00:00:00\", \"2020-11-13T00:00:00\", \"2020-11-14T00:00:00\", \"2020-11-15T00:00:00\", \"2020-11-16T00:00:00\", \"2020-11-17T00:00:00\", \"2020-11-18T00:00:00\", \"2020-11-19T00:00:00\", \"2020-11-20T00:00:00\", \"2020-11-21T00:00:00\", \"2020-11-22T00:00:00\", \"2020-11-23T00:00:00\", \"2020-11-24T00:00:00\", \"2020-11-25T00:00:00\", \"2020-11-26T00:00:00\", \"2020-11-27T00:00:00\", \"2020-11-28T00:00:00\", \"2020-11-29T00:00:00\", \"2020-11-30T00:00:00\", \"2020-12-01T00:00:00\", \"2020-12-02T00:00:00\", \"2020-12-03T00:00:00\", \"2020-12-04T00:00:00\", \"2020-12-05T00:00:00\", \"2020-12-06T00:00:00\", \"2020-12-07T00:00:00\", \"2020-12-08T00:00:00\", \"2020-12-09T00:00:00\", \"2020-12-10T00:00:00\", \"2020-12-11T00:00:00\", \"2020-12-12T00:00:00\", \"2020-12-13T00:00:00\", \"2020-12-14T00:00:00\", \"2020-12-15T00:00:00\", \"2020-12-16T00:00:00\", \"2020-12-17T00:00:00\", \"2020-12-18T00:00:00\", \"2020-12-19T00:00:00\", \"2020-12-20T00:00:00\", \"2020-12-21T00:00:00\", \"2020-12-22T00:00:00\", \"2020-12-23T00:00:00\", \"2020-12-24T00:00:00\", \"2020-12-25T00:00:00\", \"2020-12-26T00:00:00\", \"2020-12-27T00:00:00\", \"2020-12-28T00:00:00\", \"2020-12-29T00:00:00\", \"2020-12-30T00:00:00\", \"2020-12-31T00:00:00\", \"2021-01-01T00:00:00\", \"2021-01-02T00:00:00\", \"2021-01-03T00:00:00\", \"2021-01-04T00:00:00\", \"2021-01-05T00:00:00\", \"2021-01-06T00:00:00\", \"2021-01-07T00:00:00\", \"2021-01-08T00:00:00\", \"2021-01-09T00:00:00\", \"2021-01-10T00:00:00\", \"2021-01-11T00:00:00\", \"2021-01-12T00:00:00\", \"2021-01-13T00:00:00\", \"2021-01-14T00:00:00\", \"2021-01-15T00:00:00\", \"2021-01-16T00:00:00\", \"2021-01-17T00:00:00\", \"2021-01-18T00:00:00\", \"2021-01-19T00:00:00\", \"2021-01-20T00:00:00\", \"2021-01-21T00:00:00\", \"2021-01-22T00:00:00\", \"2021-01-23T00:00:00\", \"2021-01-24T00:00:00\", \"2021-01-25T00:00:00\", \"2021-01-26T00:00:00\", \"2021-01-27T00:00:00\", \"2021-01-28T00:00:00\", \"2021-01-29T00:00:00\", \"2021-01-30T00:00:00\", \"2021-01-31T00:00:00\", \"2021-02-01T00:00:00\", \"2021-02-02T00:00:00\", \"2021-02-03T00:00:00\", \"2021-02-04T00:00:00\", \"2021-02-05T00:00:00\", \"2021-02-06T00:00:00\", \"2021-02-07T00:00:00\", \"2021-02-08T00:00:00\", \"2021-02-09T00:00:00\", \"2021-02-10T00:00:00\", \"2021-02-11T00:00:00\", \"2021-02-12T00:00:00\", \"2021-02-13T00:00:00\", \"2021-02-14T00:00:00\", \"2021-02-15T00:00:00\", \"2021-02-16T00:00:00\", \"2021-02-17T00:00:00\", \"2021-02-18T00:00:00\", \"2021-02-19T00:00:00\", \"2021-02-20T00:00:00\", \"2021-02-21T00:00:00\", \"2021-02-22T00:00:00\", \"2021-02-23T00:00:00\", \"2021-02-24T00:00:00\", \"2021-02-25T00:00:00\", \"2021-02-26T00:00:00\", \"2021-02-27T00:00:00\", \"2021-02-28T00:00:00\", \"2021-03-01T00:00:00\", \"2021-03-02T00:00:00\", \"2021-03-03T00:00:00\", \"2021-03-04T00:00:00\", \"2021-03-05T00:00:00\", \"2021-03-06T00:00:00\", \"2021-03-07T00:00:00\", \"2021-03-08T00:00:00\", \"2021-03-09T00:00:00\", \"2021-03-10T00:00:00\", \"2021-03-11T00:00:00\", \"2021-03-12T00:00:00\", \"2021-03-13T00:00:00\", \"2021-03-14T00:00:00\", \"2021-03-15T00:00:00\", \"2021-03-16T00:00:00\", \"2021-03-17T00:00:00\", \"2021-03-18T00:00:00\", \"2021-03-19T00:00:00\", \"2021-03-20T00:00:00\", \"2021-03-21T00:00:00\", \"2021-03-22T00:00:00\", \"2021-03-23T00:00:00\", \"2021-03-24T00:00:00\", \"2021-03-25T00:00:00\", \"2021-03-26T00:00:00\", \"2021-03-27T00:00:00\", \"2021-03-28T00:00:00\", \"2021-03-29T00:00:00\", \"2021-03-30T00:00:00\", \"2021-03-31T00:00:00\"], \"y\": [-0.7275514118402938, -0.726380970810094, -0.7229650965292964, -0.717990225021729, -0.7177675111321905, -0.7168863993067036, -0.7160052874812167, -0.7078446793787082, -0.6996840712761999, -0.6915234631736915, -0.7101590478808297, -0.7174111689089289, -0.7246632899370279, -0.7300808053000531, -0.7297049756114569, -0.7284863130471381, -0.7272676504828193, -0.7260489879185005, -0.7248303253541818, -0.7224291912325942, -0.7200280571110067, -0.7190304844807821, -0.7180329118505573, -0.7170353392203325, -0.713499756223908, -0.7152675477221202, -0.7170353392203325, -0.7164766985474066, -0.7159180578744807, -0.7153594172015548, -0.71631987085019, -0.722756302257854, -0.7254650599393667, -0.7279538876549599, -0.7238308967748776, -0.7238615199346891, -0.7238921430945007, -0.7243793297278662, -0.7237557308371583, -0.7240898016714661, -0.7224361510416424, -0.7230820213213042, -0.7230263428489194, -0.7229706643765349, -0.7254706277866051, -0.7249249787572357, -0.7237000523647736, -0.7225447240627924, -0.7222718995481078, -0.722611538229654, -0.7224612063542155, -0.7226171060768924, -0.7222830352425846, -0.7207825004118186, -0.719443433150968, -0.7193515636715334, -0.7189924375246526, -0.7201254944376799, -0.7201839568336839, -0.7190648195387525, -0.7193780109459161, -0.7196912023530797, -0.7194100260675373, -0.720918912669161, -0.7209551036762111, -0.7216900595116883, -0.7215787025669189, -0.7221911657631499, -0.7245881239993086, -0.7248832199029471, -0.7273720476185405, -0.7262473424763708, -0.7253731904599321, -0.7257211809123361, -0.7269015645268903, -0.7268562263422343, -0.7268108881575782, -0.7267655499729221, -0.7267202117882661, -0.7266748736036099, -0.726629535418954, -0.7265841972342979, -0.7270602481731866, -0.7274193743200674, -0.7273080173752982, -0.7277450933835176, -0.7280958677595407, -0.7288725824493064, -0.7296492971390722, -0.7304260118288379, -0.7309633090873496, -0.7315006063458613, -0.7320379036043732, -0.7307489469686688, -0.7337305291648661, -0.7331542569756851, -0.7365701312564826, -0.7356180293787054, -0.7346659275009281, -0.7346575757300704, -0.7343791833681471, -0.7312806763799421, -0.7307155398852381, -0.7301504033905339, -0.7297383826948876, -0.7294474626766778, -0.7291565426584681, -0.729755086236603, -0.7299360412718531, -0.7315952597489153, -0.731527517607514, -0.7314597754661126, -0.7313920333247114, -0.7314310082553805, -0.7310718821084996, -0.730643157871138, -0.7304274037906474, -0.7302116497101571, -0.7307155398852381, -0.7299791920879513, -0.7292428442906644, -0.7289477483870257, -0.7286526524833872, -0.7283575565797485, -0.7285830543929064, -0.7285051045315679, -0.7284271546702293, -0.7282434157113601, -0.7280596767524908, -0.7282294960932639, -0.7290173464775065, -0.7289400925970729, -0.7288628387166391, -0.7287855848362055, -0.7287083309557718, -0.7284108488318882, -0.7281133667080045, -0.7278158845841209, -0.7275184024602372, -0.7272209203363537, -0.7269234382124701, -0.7266259560885864, -0.7260441160521669, -0.7254622760157474, -0.724880435979328, -0.725217290737255, -0.7248720842084703, -0.724496254519874, -0.7241204248312777, -0.7234652748062184, -0.7228101247811591, -0.7221549747561, -0.7209036010892551, -0.7196522274224104, -0.7188866484271217, -0.7192346388795257, -0.7203134092819781, -0.7213921796844304, -0.7212947423577573, -0.7228091968066195, -0.7223340738422704, -0.7218589508779216, -0.7213838279135728, -0.7205681382931377, -0.7197524486727028, -0.7197287853219394, -0.7197051219711759, -0.7200322329964357, -0.7203593440216953, -0.720103223048726, -0.7200030017984337, -0.7199027805481414, -0.7202387073315286, -0.720574634114916, -0.7209105608983033, -0.7209899027214515, -0.7210692445445995, -0.7209982544923091, -0.7209272644400186, -0.720421982303128, -0.7199167001662375, -0.7198916448536644, -0.7198665895410913, -0.7198415342285183, -0.7198164789159451, -0.7263475637266632, -0.723829504813068, -0.7213114458994727, -0.7215035366291996, -0.721158330100415, -0.7208771538148725, -0.7205987614529493, -0.7202396353060684, -0.7200735278634542, -0.7199074204208401, -0.719741312978226, -0.7186486229576774, -0.7175559329371289, -0.7155181008478512, -0.716968525053471, -0.7151868139371625, -0.71269520229795, -0.709045478433137, -0.7088784430159831, -0.7054133860845792, -0.7019483291531752, -0.6984832722217712, -0.7012504922992877, -0.7010681453022279, -0.7008857983051684, -0.7007034513081086, -0.700521104311049, -0.7003874759773259, -0.7002538476436028, -0.6985946291665405, -0.698984378473233, -0.6982271512488019, -0.6967962145085167, -0.6919828105708647, -0.6876371058012437, -0.6809417694969911, -0.6742464331927384, -0.6623034008662336, -0.6602600009297175, -0.6653378776111963, -0.6595946431847209, -0.6564460255713697, -0.6457112160956116, -0.6392024026738474, -0.6405414699346978, -0.6342887774859032, -0.6221592222769098, -0.569014120385773, -0.6060375205979379, -0.5882231933584731, -0.5548161099276905, -0.5396228467757325, -0.5244295836237743, -0.5325419370502161, -0.5292179322488533, -0.5005268154290494, -0.4868939414656709, -0.47352554024611937, -0.4401212407389559, -0.4435927934921381, -0.4893939048757411, -0.4665351080382281, -0.4615546686834222, -0.43928327972956716, -0.47115642124615303, -0.5298387472159419, -0.5622491859910396, -0.5361638216788368, -0.5047305400940896, -0.4826930007242499, -0.5105405886874266, -0.5127176169576658, -0.5079153487144908, -0.5184079568353759, -0.5152899623818361, -0.5630286846044246, -0.567343766214234, -0.6104945823123282, -0.5645320033588097, -0.5854392697392412, -0.5895956677027544, -0.5846987460565256, -0.5729784276195592, -0.5733097145302478, -0.566227412842922, -0.5470684504953681, -0.5537081083272362, -0.5562080717373064, -0.5532139618848224, -0.5502198520323386, -0.5514754015846122, -0.5442107529002266, -0.536946104215841, -0.5307379545449539, -0.5245298048740668, -0.5033135229719006, -0.5003068854631301, -0.5367206064026832, -0.5258800078293941, -0.525445715744794, -0.5181713233277411, -0.5060974465911324, -0.5202843213547381, -0.5258660882112981, -0.5280932271066836, -0.5210916592043154, -0.5285358709621414, -0.5333882498304626, -0.5297607973546035, -0.520991437954023, -0.525300951716594, -0.5262502696707521, -0.5271995876249101, -0.5294963246107764, -0.5291511180819917, -0.528805911553207, -0.5284607050244221, -0.5461998663261678, -0.5365786262981024, -0.5341566127493707, -0.5323916051747776, -0.5306265976001846, -0.5288615900255915, -0.5283855390867029, -0.5305987583639923, -0.5343542713263361, -0.53810978428868, -0.5425668460030701, -0.558989211432919, -0.5658153921472756, -0.5647227021267271, -0.5636300121061786, -0.5689612258370077, -0.5742924395678367, -0.5856063051563951, -0.5791434264743484, -0.5726805477923015, -0.5823769537580862, -0.5814443393456434, -0.5805117249332008, -0.5818173851106204, -0.5988410780422235, -0.5934152109083406, -0.5852249076205603, -0.5854671089754335, -0.6061822846261381, -0.6065024358423496, -0.5923322646204594, -0.5969869849118151, -0.6016417052031707, -0.5997514210657123, -0.5978611369282538, -0.5665948907606605, -0.5678253850003611, -0.569014120385773, -0.5688554367394768, -0.5790947078110118, -0.5783138172358171, -0.5775329266606226, -0.577350579663563, -0.5771682326665033, -0.5769858856694436, -0.5768035386723839, -0.5773631073198494, -0.5779226759673151, -0.5784822446147808, -0.5819196943036273, -0.5853571439924738, -0.5887945936813204, -0.592232043370167, -0.596577748139788, -0.5981590167555118, -0.5998544262396238, -0.59214852566159, -0.5927415013924865, -0.5933790199012905, -0.6230222385988717, -0.6155028609033263, -0.6182923523697967, -0.6234676663779488, -0.6286429803861009, -0.6219142369984174, -0.6330722028642988, -0.6296953035141706, -0.6299820476469514, -0.6258618406904881, -0.6272064757985771, -0.6307866015729093, -0.6315410448737212, -0.6322954881745331, -0.6541743438980765, -0.6374986414188775, -0.6369669120076042, -0.6393666541673821, -0.6272009079513388, -0.6096315659903664, -0.6079166690409195, -0.6160373742382188, -0.6210456528292171, -0.6195720292601036, -0.6180984056909903, -0.6166247821218768, -0.6188463531700239, -0.6171551195713405, -0.6154638859726571, -0.6253301112792149, -0.6274152700700195, -0.6355498948854151, -0.6337867432599017, -0.6320235916343881, -0.6302604400088746, -0.626928083436654, -0.6299862235323802, -0.6330443636281065, -0.6339129477973068, -0.6348706175223225, -0.6358282872473384, -0.6353455548917636, -0.6348628225361888, -0.6343800901806139, -0.6338973578250391, -0.6334146254694643, -0.6320755582086138, -0.6318542362808848, -0.6316329143531558, -0.631020451156925, -0.6306641089336632, -0.6307531944894786, -0.6308422800452941, -0.6249835127886205, -0.6191247455319471, -0.6177383515695696, -0.6077134426167156, -0.6094506109551162, -0.6025256009522769, -0.5956005909494376, -0.5932704468801405, -0.5958233048389762, -0.5936073016380676, -0.5879921276980768, -0.5823769537580862, -0.5809863839102798, -0.5795958140624735, -0.5709628669192354, -0.5690419596219654, -0.5769343830824878, -0.5711131987946739, -0.5750942095701755, -0.5723186377218012, -0.5720764363669282, -0.5746292943257638, -0.5747072441871023, -0.581594671221082, -0.5965805320634072, -0.5904503322538586, -0.5975270660939461, -0.5904503322538586, -0.5918422940634745, -0.5864192108532108, -0.5859988383867069, -0.5900577990235469, -0.591007116977705, -0.5906368551363471, -0.5881285399554191, -0.5915026553819281, -0.595461394768476, -0.5992475308906313, -0.5937659852843638, -0.5882259772820924, -0.5906006641292971, -0.5882621682891424, -0.5770874988815455, -0.5775746855149111, -0.5741671630049714, -0.5747267316524369, -0.580202709411466, -0.5796208693750465, -0.5787940440601347, -0.5820735060835898, -0.581547344519555, -0.5821096970906399, -0.583526714212829, -0.5784822446147808, -0.5776721228415842, -0.579626437222285, -0.5823351949037976, -0.581848008270432, -0.5833819501846289, -0.5809014742398931, -0.5791503862833963, -0.5798714225007774, -0.5807121674337855, -0.5819231742081513, -0.5826581300436287, -0.5823908733761823, -0.5871207596052572, -0.5874075037380382, -0.5892727325629236, -0.5902805129130855, -0.5910405240611357, -0.5921401738907324, -0.5982926450892349, -0.5928055316357288, -0.5888245208602272, -0.5911184739224743, -0.5912966450341051, -0.5914247055205898, -0.5933038539635713, -0.593468105457106, -0.5921652292033054, -0.5912882932632475, -0.5910572276028511, -0.5907342924630202, -0.5953082789694182, -0.5967447835569419, -0.602184570308921, -0.6138380745790257, -0.6153720164932225, -0.6095285608164547, -0.6166192142746384, -0.6230946206129718, -0.6182951362934159, -0.611499578738871, -0.6106922408892936, -0.6119839814486172, -0.6169087423310384, -0.6138798334333141, -0.6150212421171993, -0.612053579539098, -0.6127579122147637, -0.6141303865590451, -0.6134733805849063, -0.6156476249315265, -0.6219058852275596, -0.6227744693967601, -0.6231614347798333, -0.6230612135295409, -0.6189549261911739, -0.6222844988397752, -0.621633060712875, -0.622354096930256, -0.6248818995765185, -0.6234843699196642, -0.6222483078327253, -0.6223457451593983, -0.6235567519337643, -0.6221898454367214, -0.6228913941887677, -0.6245617483603069, -0.6262293186082268, -0.6291496544848011, -0.6364908610687156, -0.6450542101214728, -0.6408616211509096, -0.6436873036244299, -0.6439656959863532, -0.6325293377585486, -0.6373399577725812, -0.641117742123879, -0.6424874325445411, -0.6441355153271263, -0.6507640374645175, -0.6510925404515868, -0.6468080820015889, -0.6481193100262471, -0.6505023486443097, -0.6553964863669193, -0.6644358863585653, -0.6653879882363425, -0.6637900160789034, -0.6620528477405027, -0.6562260956054504, -0.6539210068487263, -0.6548007267124037, -0.6542662133775111, -0.6498926693716979, -0.6458531962001924, -0.6433420970956452, -0.6454272558864499, -0.6483030489851165, -0.6485786574234205, -0.646521337868808, -0.6469472781825505, -0.6491911206196515, -0.6478576212060394, -0.648898808639632, -0.6559254318545734, -0.6553769989015847, -0.6581859778333896, -0.6563764274808889, -0.6575345397064895, -0.6562316634526889, -0.6616157717322834, -0.6588958783562938, -0.6611647761059678, -0.6649063694502154, -0.6649954550060309, -0.6643774239625614, -0.663400266772211, -0.661058987008437, -0.6578240677628896, -0.6600038799567481, -0.6588819587381977, -0.6535423932365109, -0.6532472973328723, -0.6522283812882333, -0.6364852932214772, -0.6389323620827819, -0.6439100175139685, -0.6503130418382018, -0.646724564293012, -0.6470419315856043, -0.6508976657982406, -0.6497367696490208, -0.6560200852576271, -0.6574899969285817, -0.6566269806066198, -0.6530412869850492, -0.6505858663528866, -0.650290770449248, -0.6526710251436912, -0.652259004448045, -0.6505830824292673, -0.6507278464574674, -0.6505580271166942, -0.6504355344774482, -0.6496031413152977, -0.6504132630884942, -0.6522840597606181, -0.6505830824292673, -0.6508475551730943, -0.6505747306584098, -0.6542745651483689, -0.6572589312681855, -0.659151999329263, -0.6581330832846242, -0.656894237274066, -0.6573563685948586, -0.6557890195972309, -0.658141435055482, -0.663653603821561, -0.6656274056675965, -0.6682192385571013, -0.6665683718508969, -0.66289637659713, -0.6659280694184735, -0.6626875823256876, -0.661468223780464, -0.6653295258403388, -0.6662148135512544, -0.663581221807461, -0.6652056412392828, -0.6668300606711047, -0.6680215799801359, -0.6686507467180823, -0.6658946623350428, -0.6666713770248084, -0.6674480917145741, -0.6773087491738935, -0.6816099111656067, -0.6799763047858415, -0.6783426984060762, -0.6767090920263109, -0.6750754856465456, -0.6734418792667805, -0.6785336755663556, -0.6811115888377642, -0.6809000106427027, -0.6920607604322032, -0.7073751242615979, -0.6966041237787897, -0.6973474313851246, -0.6996664397599448, -0.6973947580866515, -0.6951230764133582, -0.6962561333263857, -0.6918547500843801, -0.6900925264334064, -0.687969784673742, -0.6858470429140777, -0.6843604277014078, -0.678767525150371, -0.6817713787355222, -0.6895385256331791, -0.6898029983770062, -0.691517895326453, -0.6945579399186542, -0.6920830318211572, -0.6888954392771366, -0.6904892355491468, -0.6920830318211572, -0.6949977998504929, -0.693054621164269, -0.6929878069974075, -0.6929209928305459, -0.6937589538399347, -0.6938953660972771, -0.6941319996049117, -0.6931715459562768, -0.6892796207365905, -0.6837646680468923, -0.6896665861196638, -0.6899227070926331, -0.6893733461651047, -0.6888239852375763, -0.6882746243100478, -0.6883428304387191, -0.6884110365673903, -0.6884792426960614, -0.6885474488247326, -0.6877779723363769, -0.6870084958480213, -0.6862390193596655, -0.6854695428713098, -0.6847000663829542, -0.6821407126023402, -0.6795813588217264, -0.6770220050411127, -0.6798922302925406, -0.6791294352208711, -0.6793660687285058, -0.6782246600446208, -0.6767756278008106, -0.6753265955570004, -0.6745248255546616, -0.6727737375981647, -0.6729491247861764, -0.6764039739976431, -0.6766517431997547, -0.6756898975893101, -0.6747280519788655, -0.6765292505605085, -0.6838259143665153, -0.6823281634593685, -0.6823420830774647, -0.6828765964123572, -0.6805715076556333, -0.6812118100880565, -0.6869717480562474, -0.686498481040978, -0.68587488215027, -0.6862367922207702, -0.6848503982583927, -0.6855408113159622, -0.6862312243735317, -0.6864080035233528, -0.6865847826731741, -0.6847640966261965, -0.6844940560351309, -0.6843687794722656, -0.6842435029094001, -0.6841182263465347, -0.6846276843688541, -0.6870970246191127, -0.6874004722936091, -0.6884667150397749, -0.6895329577859407, -0.6894410883065061, -0.693185465574373, -0.6951871066566006, -0.6932244405050422, -0.6932564556266633, -0.6932884707482846, -0.6930796764768421, -0.6933051742899999, -0.6928152037330151, -0.6896387468834715, -0.6903235920938026, -0.6896665861196638, -0.6909388392136528, -0.6923085296343149, -0.6921623736443052, -0.6920162176542956, -0.6925702184545227, -0.6909986935714664, -0.6894271686884099, -0.6909360552900335, -0.6901621245238871, -0.6885196095885403, -0.6889399820550444, -0.6897862948352909, -0.6916904985908454, -0.6893018921255444, -0.6875480202454284, -0.6879349856285016, -0.6880087596044112, -0.6880825335803208, -0.6888244492248461, -0.6895663648693715, -0.689585852334706, -0.6896053398000408, -0.6896248272653753, -0.68964431473071, -0.6903848384134256, -0.6908386179633604, -0.6900034408775909, -0.689836405460437, -0.689796873745044, -0.6897573420296508, -0.6897178103142577, -0.6896782785988645, -0.6896387468834715, -0.6897473199046215, -0.6901934436646034, -0.6906395674245854, -0.6910856911845673, -0.6915318149445492, -0.6930379176225536, -0.6925730023781419, -0.6926760075520535, -0.6931798977271345, -0.6929070732124498, -0.692634248697765, -0.6932745511301883, -0.6927892204459022, -0.6923038897616162, -0.69181855907733, -0.6914677847013069, -0.6911197942489029, -0.6907718037964989, -0.6906493111572527, -0.6895580130985138, -0.6879210660104054, -0.686284118922297, -0.6868422956079531, -0.6874004722936091, -0.6871499191678782, -0.6874422311478976, -0.6867768734029012, -0.6873726330574168, -0.6883915491020556, -0.6878653875380208, -0.6865847826731741, -0.6853041778083274, -0.6846416039869503, -0.683979030165573, -0.6821583441185954, -0.6827633835185085, -0.6833684229184216, -0.6839734623183347, -0.6818395848641934, -0.6797057074100522, -0.6805019095651526, -0.6812981117202528, -0.68083737236127, -0.680376633002287, -0.6787369019905595, -0.6770971709788318, -0.6754574399671043, -0.6738177089553767, -0.6752235903830889, -0.675730264481789, -0.6765589457457805, -0.6773876270097717, -0.6782163082737631, -0.6779086847138379, -0.6776010611539128, -0.6782859063642439, -0.6780047300787014, -0.6764039739976431, -0.6748032179165848, -0.6742673126198826, -0.6737314073231805, -0.6734029043361112, -0.6739847443725306, -0.6745665844089501, -0.6749133817512315, -0.675260179093513, -0.6756069764357945, -0.6759537737780759, -0.6763005711203574, -0.6766473684626388, -0.6769941658049202, -0.6771598092602646, -0.6773254527156088, -0.6822669171397454, -0.6819996604722992, -0.6817324038048529, -0.6797725215769137, -0.6807803019270757, -0.6810531264417603, -0.6813259509564451, -0.6824701435639494, -0.6859463361898303, -0.6894225288157112, -0.692898721441592, -0.6913466840238703, -0.6897946466061484, -0.6903723107571391, -0.6909499749081297, -0.691749888961389, -0.6925498030146484, -0.6933497170679076, -0.6923976151901302, -0.6925952737670957, -0.690738396713068, -0.6911142264016644, -0.6914956239374992, -0.6911587691795721, -0.691793503764757, -0.6918951169768589, -0.691996730188961, -0.6910279247694683, -0.6896972092794754, -0.6883664937894824, -0.6884249561854864, -0.6873197385086514, -0.6889037910479943, -0.6892341499841431, -0.6895645089202921, -0.6898948678564408, -0.6905838889522007, -0.6912729100479605, -0.6912311511936722, -0.6916904985908454, -0.6915364548172479, -0.6913824110436504, -0.6912283672700529, -0.6917642725667551, -0.6923001778634572, -0.691206095881099, -0.6913898348399683, -0.6901482049057909, -0.6897974305297677, -0.6901676923711256, -0.6894257767266003, -0.688683861082075, -0.6893408670562137, -0.6895942041055638, -0.6893297313617367, -0.6890652586179098, -0.6887061324710289, -0.6888341929575135, -0.6885042980086346, -0.6881744030597556, -0.6878445081108766, -0.6875146131619976, -0.6871847182131186, -0.6868548232642396, -0.6862033851373394, -0.6868269840280473, -0.6858999374628432, -0.6849728908976389, -0.6834946274558268, -0.6820163640140146, -0.6800815370986485, -0.6808833071009872, -0.681685077103326, -0.6800091550845484, -0.680677296753164, -0.6786422485875055, -0.6776984984805859, -0.6764652203172663, -0.6762063154206777, -0.6745582326380923, -0.672910149855507, -0.6701624172433253, -0.6675789361246781, -0.663867965940242, -0.668706425190467, -0.6645639468450499, -0.6545557414339113, -0.6426349804963603, -0.6416773107713446, -0.6473064043294314, -0.6510257262847253, -0.6484617326314127, -0.6514572344457061, -0.6500207298581825, -0.6619916014208796, -0.668970897934294, -0.6614403845442717, -0.6614459523915102, -0.6639083328327208, -0.6663707132739314, -0.663160849340957, -0.661718776906195, -0.6618078624620104, -0.6643607204208459, -0.6656051342786427, -0.6643635043444652, -0.6650038067768886, -0.6656301895912158, -0.6662565724055429, -0.6636953626758495, -0.6567355536277698, -0.6557556125138002, -0.6559337836254311, -0.6519193657664987, -0.6503882077759212, -0.6528366685990357, -0.65528512942215, -0.6546253395243921, -0.6540295798698764, -0.6472423740861891, -0.6470920422107506, -0.6451349439064306, -0.6392608650698512, -0.6392552972226128, -0.6395670966679667, -0.6291134634777511, -0.6338572693249223, -0.6346785267925955, -0.6303077667104016, -0.6259370066282075, -0.6284202664965622, -0.6278374984856031, -0.6272547304746439, -0.6266719624636847, -0.6299778717615225, -0.6332837810593605, -0.6339769780405491, -0.6352673266380632, -0.636557675235577, -0.6378480238330911, -0.639138372430605, -0.6378382801004239, -0.6381083206914893, -0.6350766278701458, -0.6366384090205348, -0.635416266551692, -0.6341941240828493, -0.634659039327261, -0.6351211706480535, -0.6346284161674495, -0.6348678335987035, -0.6355526788090344, -0.6280694921205391, -0.6294196950758666, -0.6303049827867823, -0.6304831538984131, -0.6305388323707978, -0.6342191793954224, -0.634814939049938, -0.6448398480027919, -0.654864756955646, -0.6472980525585736, -0.6483095448068947, -0.6493210370552156, -0.6503325293035365, -0.6386400501027626, -0.6412792096937944, -0.6486760947500936, -0.647696153636124, -0.6471769518811371, -0.6466577501261505, -0.6461928348817387, -0.6453994166502576, -0.6495947895444399, -0.6499928906219903, -0.6504772933317365, -0.6526738090673105, -0.6526821608381682, -0.652690512609026, -0.6526988643798836, -0.6472423740861891, -0.6489976379281147, -0.6507529017700405, -0.6508614747911906, -0.6519889638569795, -0.6508211078987117, -0.6496532519404439, -0.6500318655526595, -0.648634335895805, -0.6464099809240388, -0.6423705077525333, -0.6414341814419317, -0.6404978551313301, -0.6395615288207283, -0.6380136672884353, -0.6383393863518855, -0.6342609382497107, -0.633230886510595, -0.6332503739759295, -0.638584371630378, -0.6372787114529582, -0.6373928523213467, -0.6349931101615688, -0.635235311516442, -0.635477512871315, -0.6336707464424336, -0.634622848320211, -0.6376656768360314, -0.6382530847196893, -0.6416244162225792, -0.6419069844699312, -0.6421895527172832, -0.6400153083706631, -0.6405219824693633, -0.6402853489617287, -0.6394473879523398, -0.6385732359359011, -0.6411316617419751, -0.6402853489617287, -0.6397731070157899, -0.6394919307302475, -0.6393026239241397, -0.6387597588183894, -0.6418137230286869, -0.6415743055974329, -0.6409451388594866, -0.6401419768953381, -0.6393388149311898, -0.6389963923260242, -0.639678453612736, -0.6395587448971091, -0.6391801312848936, -0.637047645792562, -0.6375348324259276, -0.639606071598636, -0.6400932582320017, -0.6398204337173169, -0.6393610863201437, -0.6385147735398972, -0.6387486231239126, -0.6386651054153357, -0.6375793752038352, -0.6379579888160508, -0.6383366024282664, -0.6389602013189742, -0.6387263517349587, -0.6382224615598777, -0.6375571038148814, -0.6368527711392157, -0.6373316060017236, -0.637108892112185, -0.636304338186227, -0.6354997842602691, -0.6363433131168963, -0.6360677046785923, -0.633963058422453, -0.6322119704659562, -0.6297036552850283, -0.6307726819548133, -0.6294475343120589, -0.6271897722568619, -0.6265606055189155, -0.6251408044731072, -0.6312654364354173, -0.6299987511886668, -0.628164145523593, -0.6285364953076652, -0.6289088450917375, -0.6292811948758098, -0.6296535446598821, -0.6307170034824285, -0.6303996361898362, -0.6274820842368811, -0.6274848681605003, -0.6278245068420467, -0.626783319408454, -0.6297370623684589, -0.6291607901792781, -0.6285344073649509, -0.6281947686834045, -0.6280360850371084, -0.6278774013908122, -0.6288684781992586, -0.6291580062556588, -0.629294418513001, -0.633796023005299, -0.6319753369583214, -0.6320087440417521, -0.6331223134894449, -0.6320337993543252, -0.631157791388807, -0.6302817834232888, -0.6294057754577703, -0.6242527328385722, -0.6099016065814318, -0.6111627239809438, -0.6093670932465393, -0.6075714625121347, -0.6057758317777302, -0.602384084834966, -0.5989923378922017, -0.5956005909494376, -0.5941223275076255, -0.5926440640658134, -0.5927985718266807, -0.5929530795875481, -0.5904484763047791, -0.5879438730220102, -0.5854392697392412, -0.5723812760032341, -0.5593232822672269, -0.5644902445045212, -0.5617759189757702, -0.541628663743389, -0.5478563008796107, -0.545890850804433, -0.5439254007292553, -0.5534241481180745, -0.5700274685831734, -0.5880812132538922, -0.5819343099026282, -0.57130807344802, -0.5718537224773895, -0.5798268797228697, -0.5722184164715091, -0.5758820599544182, -0.5782261236418115, -0.569757427992108, -0.5647254860503463, -0.5596935441085847, -0.562998061444613, -0.5663025787806412, -0.566864931351726, -0.5674272839228108, -0.5773965144032803, -0.5706844745573122, -0.5749216063057833, -0.5746459978674792, -0.5725928541982956, -0.5705397105291121, -0.5736799763716057, -0.5714361339345048, -0.5702390467782351, -0.5695291462553309, -0.5688192457324268, -0.5681093452095227, -0.5673994446866186, -0.5695681211860002, -0.5706148764668314, -0.5748937670695908, -0.5727668494244976, -0.5727939926797851, -0.5728211359350728, -0.5728482791903602, -0.5728754224456477, -0.5729561562306054, -0.5729450205361285, -0.5774030102250585, -0.5818609999139884, -0.5863189896029184, -0.6049267350738644, -0.5996177927319893, -0.594308850390114, -0.5957453549776377, -0.5911546649295242, -0.5917819757183912, -0.5924092865072582, -0.593036597296125, -0.5908790564912203, -0.5923294806968401, -0.592304425384267, -0.5928055316357288, -0.5969201707449534, -0.5981896399153233, -0.595196922024649, -0.5963216271668187, -0.5960334910722282, -0.5957453549776377, -0.5944313430293603, -0.5944731018836487, -0.5930171098307905, -0.5937158746592176, -0.5944452626474563, -0.5949742081351104, -0.5943700967097371, -0.5972681611973575, -0.5956841086580146, -0.5963689538683457, -0.5963675619065361, -0.5963661699447264, -0.5961921747185244, -0.5960181794923224, -0.5892671647156851, -0.5866307890482724, -0.5868367993960956, -0.585737149566499, -0.5834070054972019, -0.5810768614279048, -0.5820957774725436, -0.582195998722836, -0.5870873525218265, -0.5864414822421646, -0.5861491702621454, -0.5862605272069146, -0.5863718841516838, -0.586889693944861, -0.5874075037380382, -0.5859960544630876, -0.5869913071569629, -0.5879865598508384, -0.5887423951134598, -0.5894982303760813, -0.5880923489483691, -0.5882092737403769, -0.5885155053384925, -0.5863579645335878, -0.5868117440835224, -0.5867393620694226, -0.5866669800553225, -0.5856383202780163, -0.5846096605007101, -0.5846291479660448, -0.5846486354313793, -0.5845082461402953, -0.584367856849211, -0.584227467558127, -0.5840870782670428, -0.5839466889759588, -0.5838062996848746, -0.5836659103937906, -0.5775607658968149, -0.5779978419050343, -0.5784349179132539, -0.5787745565948, -0.5791141952763464, -0.5794538339578926, -0.579793472639439, -0.5801331113209852, -0.5804727500025315, -0.5804142876065276, -0.5801525987863199, -0.5730452417864208, -0.5738094288198999, -0.5745736158533792, -0.5720068382764474, -0.5694400606995156, -0.5668732831225838, -0.564306505545652, -0.5572938019488068, -0.5592509002531268, -0.5612079985574469, -0.5529787203389974, -0.5486914779653803, -0.5646043853729097, -0.5595626996984808, -0.55945691060095, -0.5576223049358762, -0.5595877550110538, -0.5581094915692417, -0.5543985213848057, -0.5563528357655064, -0.5558211063542332, -0.560058238102704, -0.5602781680686234, -0.5589975632037767, -0.5573021537196645, -0.5493289964741844, -0.5503618321369195, -0.5511886574518313, -0.5520154827667432, -0.552842308081655, -0.5497744242532615, -0.5467065404248679, -0.5491981520640805, -0.550464837310831, -0.5500945754694732, -0.5514364266539429, -0.5527782778384127, -0.5514104433668301, -0.5500426088952476, -0.548674774423665, -0.5460328309090139, -0.540643154782181, -0.542853590135851, -0.5431236307269165, -0.5466007513273371, -0.5439671595835438, -0.542552926384974, -0.5422105037798085, -0.5418680811746429, -0.5415256585694774, -0.5411832359643118, -0.5389477452980687, -0.5389435694126399, -0.538939393527211, -0.539142619951415, -0.5377450902945605, -0.5367679331042101, -0.5357907759138597, -0.5343306079755726, -0.5328704400372855, -0.524503357599684, -0.5161362751620826, -0.5006743633808687, -0.5067628043361289, -0.5073084533654982, -0.5053123801305089, -0.49436320853607, -0.483414036941631, -0.4852208033705125, -0.4881300035526098, -0.4828113174780673, -0.47749263140352477, -0.4736814399687963, -0.4669805358173052, -0.44502373023242325, -0.4755494527173009, -0.5063702711058171, -0.5029794521375927, -0.5019772396346692, -0.5057939989166361, -0.503246708805039, -0.5384744782827993, -0.5304539943357922, -0.5253120874110709, -0.5271105020690947, -0.5264590639421944, -0.5237029795591549, -0.5030490502280734, -0.5081324947567909, -0.5040846698144278, -0.5058719487779747, -0.49858642066644476, -0.4980936661858407, -0.5010446252222265, -0.5087505258002604, -0.506584633224498, -0.5005435189707648, -0.4996888544196606, -0.4995273868497452, -0.5010529769930843, -0.4991404214666719, -0.48689115754205164, -0.4813789887759725, -0.4743189584776004, -0.4726736596186344, -0.46747885814514767, -0.47407397319910805, -0.47018483190304106, -0.4622562174354687, -0.46246501170691107, -0.48084447544107994, -0.4781217981414712, -0.4738011486844233, -0.47523069346289887, -0.47666023824137443, -0.47439412441531964, -0.47365638465622323, -0.46770435595830545, -0.46134587441197983, -0.4618956993267781, -0.4624455242415764, -0.45348129018764977, -0.4470754819397972, -0.4406696736919446, -0.4257728984054348, -0.4267417038249275, -0.4345199864170614, -0.426627562956539, -0.4226799592644681, -0.42364876468396084, -0.41339279007071056, -0.4104232715435299, -0.40745375301634923, -0.40448423448916854, -0.4017058787171751, -0.3993367597172088, -0.41176141082984075, -0.4352911332595886, -0.4236960913854878, -0.4458115806166659, -0.427707725320801, -0.4138326500025492, -0.4093672365173013, -0.4084318381812394, -0.4048322249415725, -0.42898276233840915, -0.45789102520051306, -0.48538505486404715, -0.4732805549676269, -0.4667800933167205, -0.445020946308804, -0.4663986957808857, -0.4682806281474865, -0.4968826594114749, -0.4891099446665795, -0.4882580640390945, -0.4659838911616202, -0.4649427037280275, -0.4664849974130819, -0.4617453674513396, -0.45700573748959733, -0.4534952098057459, -0.4555441775895006, -0.4361040389564043, -0.43705614083418165, -0.4393222546602364, -0.42377125732320703, -0.42378796086492243, -0.4217640483937409, -0.41974013592255927, -0.4184066365089472, -0.41590110525163854, -0.41780252508357385, -0.42882686261573216, -0.4296703914723594, -0.4292611547003323, -0.43168038432544487, -0.42770494139718174, -0.4204667399871788, -0.42007977460410556, -0.41146353100258287, -0.4090498692247089, -0.41232097947730634, -0.40865084017261893, -0.40498070086793153, -0.4013105615632442, -0.3967115197442731, -0.38471837679262216, -0.3839026871721872, -0.38311205286432537, -0.3797407213614355, -0.3680538100079001, -0.35221606853808984, -0.3367652924513529, -0.32726932898615296, -0.3249475366877136, -0.32262574438927416, -0.32253109098622024, -0.2960364899019904, -0.2763513659904017, -0.26095766033785905, -0.2455639546853163, -0.28468364938276275, -0.2606110618472646, -0.2590799038566871, -0.2803017536060918, -0.2819888113193463, -0.2599985986510336, -0.23215936245871474, -0.20986291819228656, -0.19457917752270348, -0.19358810071425694, -0.1737637806217066, -0.12444935763063299, -0.08146836087331193, -0.12135641848966633, -0.12032915067416987, -0.1865336382631233, -0.15044006853978192, -0.11768999108313805, -0.1423221472661018, -0.11551017888927936, -0.08333637362181653, -0.06235672522728499, -0.04867095671514107, -0.05085076890899962, -0.0041560180436231746, 0.0453170885937467, -0.009100266391379067, 0.025760025168642696, 0.02925106538715947, 0.05180363062655705, 0.06717645685195547, -0.015578456653331664, -0.0019316630718569578, -0.07280200664664303, -0.08016826854313061, -0.06354267668907784, -0.023069995112684632, -0.05455060339895879, -0.031995254235942044, 0.005874458756469371, -0.015105189638062167, 0.00015349571894779157, -0.007761199130528418, -0.04322560211592352, -0.05864853896646807, -0.08121223990034257, -0.041182202179407275, -0.04508247916995121, -0.048584655082944905, -0.06888781003800301, -0.08118718458776944, -0.05793863844356402, -0.04812252376215232, -0.032964059655434745, -0.031892249062030496, -0.031714077950399565, -0.058871252856006674, -0.04532189660120506, -0.05816413625672179, -0.10768456959561862, -0.1145246699280713, -0.09157957145836218, -0.10382048361212473, -0.14016739038481624, -0.20668367741912375, -0.22138001020504885, -0.13555721287136824, -0.11250075745688971, -0.124557930651783, 0.04651139182639717, -0.012783397339622733, 0.031149701295475663, 0.012213452837460372, 0.013090388777518315, -0.04125458419350737, -0.052320680579954114, -0.012972704145730582, 0.017839762471928026, -0.008721652779163496, 0.009140001161828379, 0.03977708059147522, 0.005309322261765241, -0.0026220761294263443, 0.022385909742133676, 0.03844079725424399, 0.15327764654755935, 0.14026837147488871, 0.18780665119689235, 0.1936306194083255, 0.17540427147321425, 0.1940593436456872, 0.26135791321699875, 0.3179550803959831, 0.3733078337171707, 0.4476608657396159, 0.4014588693548435, 0.45908608827294356, 0.43082369569050155, 0.3861500733726874, 0.3839201505536826, 0.37463576528354425, 0.35483371657994794, 0.38002544141037725, 0.39221345901537435, 0.44427839854224926, 0.45523870583116516, 0.4511212827983212, 0.45015526130244765, 0.4654918965207962, 0.5194499041087486, 0.517871419416644, 0.5627232128460892, 0.6149078610885909, 0.5253184150980893, 0.5263707382261592, 0.43696503119452695, 0.4689383939614053, 0.5269637139570555, 0.5295221397631296, 0.4494592803976397, 0.4480756703588814, 0.42128597337101303, 0.4136802940432716, 0.40580457412446463, 0.3198620680751569, 0.14333347137966296, 0.2747625054436003, 0.2661824528491277, 0.2644786915941577, 0.38670685809653377, 0.32735360653451, 0.32044947595881484, 0.2491337046049516, 0.2502695454415982, 0.29737910092624026, 0.265608964583566, 0.3362231871853827, 0.32600340357918245, 0.41464074769190656, 0.409387483822416, 0.40342153550640203, 0.44909180247990116, 0.4611294882094598, 0.46727639156072376, 0.4462076576103768, 0.41948477478936996, 0.44213199343182147, 0.45744357333759683, 0.4759928564125389, 0.5247811178395777, 0.5703539474864037, 0.5665204846627213, 0.5871521426048489, 0.760309407797453, 0.8186548790093149, 0.8580279107561115, 0.8271013032700645, 0.8461099337421797, 0.8015031255912274, 0.7961218012352521, 0.8315778524497893, 0.9087649187166127, 0.9181161181536126, 0.9060144021808115, 0.8788544433515851, 0.7810468548371113, 0.8430893766153132, 0.8844696172915759, 0.8519088466410397, 0.8404028903227544, 0.9521245290861493, 0.9485026444575286, 1.0359846602682714, 1.1225090063539984, 1.2018396938076303, 1.2339216295956585, 1.3017240893420512, 1.297411791655861, 1.1844791461181003, 1.2300631114594032, 1.322957074785933, 1.2354165965791861, 1.0788403804627271, 1.013961040516528, 0.8789129057475891, 1.0611652494042236, 1.084636509437968, 1.2753352773553521, 1.4292751178043985, 1.381402767248087, 1.4093951192394638, 1.47649603023381, 1.5348359335984332, 1.4983804538045915, 1.5316483410544128, 1.4688068331974913, 1.527511430556234, 1.671766000733973, 1.8279413318492626, 1.9473911425796449, 1.99459813539096, 1.9823683589316747, 2.008423100084066, 2.262639869297845, 2.2724476322083986, 2.376655461123487, 2.477731375966939, 2.495526215741069, 3.0372805359672137, 3.866051813488928, 3.6433045168669453, 3.309551049851711, 3.3346007945775593, 3.829863590362532, 3.879976999432325, 3.7672308767770533, 3.811765302913906, 4.110477523333867, 4.586472783750136, 4.52111182501781, 4.517654191882724, 4.172286195528054, 3.829022845429524, 3.5876622354893577, 3.1366666091737923, 3.3145593284427095, 3.17226464049291, 3.1214942254489784, 3.6334438594076266, 3.5292137591035844, 3.2638891346490695, 3.2399501754472952, 2.763620844196719, 3.108827372981473, 2.9735843635591883, 3.3290245955682383, 3.4639502376979308, 3.4606234489729486, 3.9573645081997335, 4.017062966290542, 3.74745388338603, 3.4206240344118246, 3.2545685583718815, 3.392784798219506, 2.9334374010462447, 3.094707312384729, 3.197294897753424, 3.044237561091674, 3.025771795725309, 2.416735609469568, 2.362457450665404, 2.3880417087261447, 2.4631853750564523, 2.8034281680281152, 2.462642509950702, 2.2541628218772836, 2.2650173400686686, 2.41868713992665, 2.346035085235555, 2.333153870649369, 2.4313706959358705, 2.497917606129989, 2.3523295365386385, 2.0205916302237283, 2.070142686722437, 1.7532987717704174, 1.7052538179497134, 1.8129972298612256, 1.5249919796808293, 1.1597050098305557, 1.3987354757014248, 1.357185415684389, 1.544100831403237, 1.6650790162005777, 1.627780007550109, 1.4933860948316897, 1.7199835578190694, 1.6123487189287067, 1.8869577286533592, 2.0318108424092327, 2.0852176331205774, 2.3351749991969317, 2.1493982082383494, 2.3513551632719074, 2.3720397157628, 2.1530479321031626, 1.9850492773769948, 2.0663036560515162, 1.941878973813566, 1.9161917105789132, 2.1205317042305336, 2.188041851996907, 2.116355818801686, 2.2840538097769763, 2.316191424037389, 2.4309419716985086, 2.4405966188100052, 2.4232555585858093, 2.2299454703135857, 2.0020841060030747, 1.8318583123815217, 1.8139771709751953, 1.6932133482965355, 1.8992236961196953, 1.7823545825843403, 1.7926077732739714, 1.526442403886449, 1.5456681804008643, 1.543855846124745, 1.433136419864273, 1.5291038348664345, 1.6380220625452635, 1.7235525478989246, 1.720256382333754, 1.6691268411429412, 1.7274416891949913, 1.6227578093410144, 1.5974686471839126, 1.514268305899548, 1.413888371960904, 1.453063745130735, 1.2174686410059983, 1.1488421398683129, 1.1730260843485802, 1.1423500299882643, 1.2081731200413828, 1.3091683010998771, 1.1376340633772852, 1.1298195897781014, 1.0898424466059315, 1.1668207186013124, 1.2010768987359608, 1.1329069610718296, 1.144699661522896, 1.177046070054751, 1.4506612190473378, 1.4401157163776874, 1.472824034980043, 1.570272497347636, 1.4871027792230833, 1.4414993264164457, 1.5199948367843081, 1.547881399678154, 1.712906823978982, 1.7293737321867384, 1.6894995941884803, 1.7341258898047671, 1.930771118572831, 1.7099252417827844, 1.8274764166048507, 1.727038020270203, 1.8485367987843397, 1.8606051076737102, 1.8180639708482278, 1.7688970958089734, 1.8115189664194136, 1.9554478175337022, 1.9420849841613892, 1.9805142658012664, 1.9234299119889162, 1.8496002576068868, 1.8008064283326095, 1.8361539065259964, 1.75227428787854, 1.5856842985037038, 1.6059874534587617, 1.6657917006471015, 1.659664284761172, 1.606062619396481, 1.565912872959919, 1.488071584642576, 1.5411971990683782, 1.5346716821048985, 1.6162656994609659, 1.5841364369714106, 1.4674204392351138, 1.3354652436071417, 1.354760618212038, 1.3213284794686821, 1.2870249726325067, 1.2905466360108353, 1.2247235459577164, 1.3241792172547755, 1.2980632297827615, 1.3305349148774819, 1.3359468623932689, 1.3722158193046219, 1.3919733252303106, 1.3312893581782939, 1.3655288347712267, 1.3769457055336967, 1.3817953004783987, 1.3655650257782768, 1.3321273191876826, 1.1325673223902832, 1.1602924177142138, 1.0703438455768313, 1.0009768207564305, 1.092932601823279, 1.0238356175939436, 1.0509287622563082, 1.0406588680249618, 1.11311604806271, 1.1178876931460735, 1.1257272220578307, 1.11507314636703, 0.9304544676340483, 0.9623972072411149, 0.9578566278181478, 0.9853283860927279, 0.9356938118854427, 0.9528567009980073, 0.8720004234010363, 0.9718903867826958, 1.022485414638616, 1.0112745542239692, 1.0836510004767599, 1.0565160969601066, 1.0753437723969719, 1.0636707806615324, 1.083450557976175, 1.125409854765238, 1.111807603961671, 1.100713668339032, 0.9998521156142607, 1.0206424572026844, 0.9828924529259, 0.9732183183490692, 0.9835772981362311, 1.0134376628761124, 1.1158749163693689, 1.2799872137230885, 1.3006467109014086, 1.3255433398281993, 1.2855912519686024, 1.3043326257732715, 1.3030353173667095, 1.3918313451257298, 1.5817005038045828, 1.5203372593894737, 1.4512792500908074, 1.5213561754341125, 1.5362084079427145, 1.5322190453963553, 1.5170577973660184, 1.3958374112138046, 1.3605845864234711, 1.3424278365788407, 1.3095719700246657, 1.196255143027451, 1.2015306782858957, 1.1746073529643042, 1.1148894074081608, 0.99412836865312, 1.0668138304276453, 0.954067707772373, 0.9820461401456535, 1.0019511940231616, 0.9854258234194011, 0.9691871969484216, 0.9911913292348304, 1.002533034059581, 1.076042537225399, 1.0257203338841634, 1.0491776742998113, 0.9877086407871712, 1.0484427184643341, 1.0141948901005435, 1.061527159474724, 1.1080186839158965, 1.119154378392824, 1.110006405380028, 1.168905877392117, 1.2156089800283512, 1.2023686392952844, 1.1891282985622176, 1.1978809544210824, 1.2363213717554364, 1.2747617890897902, 1.2662290631968447, 1.2918940550425433, 1.1021613086210325, 1.0509538175688813, 1.026733682081564, 0.9647357030812699, 0.9816285516027687, 0.9997240551277761, 0.9915421036108537, 1.0060825366741017, 1.0495451522175498, 1.0477523054067646, 1.0509218024472602, 1.0540912994877556, 0.9851084561268086, 1.0069650404613981, 1.0232231543977124, 1.0523374276076394, 1.123569681252926, 1.1127569219158293, 1.1109083966326592, 1.0762012208716951, 1.0342725472424439, 1.041574778895689, 1.1056551327631687, 1.0846420772852066, 1.074973510555614, 1.081515731060809, 1.0679037365245747, 1.0542917419883404, 1.0417111911530315, 1.0678856410210495, 1.0771505388258533, 1.067635087895319, 1.0749345356249447, 1.0834561258234137, 1.0789907123381657, 1.0591775279400923, 0.9576227782341323, 0.9657713226676239, 0.9711164560165491, 0.9666092836770128, 1.0370870940214871, 1.0425073933081317, 1.0376076877382836, 1.0248461818677246, 1.0210155029676615, 1.0300326315703536, 1.029965817403492, 1.0290666100744803, 1.0254057505151901, 1.0297820784446228, 1.0246095483600899, 1.028150699203753, 1.0285849912883531, 1.0276412411814335, 0.9892787737084181, 0.9945724044703876, 0.999866035232357, 1.0108207746740345, 1.0186510238403939, 1.0264812730067532, 1.034311522173113, 1.0278361158347797, 1.0398626658698615, 1.0545701343502636, 1.0279808798629797, 1.0055730786517822, 1.0094107173608935, 1.0132483560700045, 1.0036271160419392, 0.9863250307484129, 0.8015755076053271, 0.7956986448451288, 0.7862667116231711, 0.7768347784012134, 0.7906569591706999, 0.5623501670811121, 0.4555839123599499, 0.5118358730101494, 0.4330313471205523, 0.4385574355047277, 0.2972510404397556, 0.3399981876130611, 0.28240437577839195, 0.2945617702235776, 0.41949312656022786, 0.42790892766116573, 0.35011496604534986, 0.3973971247943841, 0.3860470681987759, 0.3112096334665842, 0.33145154210201927, 0.27313112620273056, 0.20163718373723633, 0.18466916927801802, 0.19094134919214753, 0.2270989491587312, 0.1930599150663829, 0.17596662404429922, 0.19968286935653556, 0.15328878224203626, 0.13393772916475535, 0.13026294998736931, 0.13320555725289732, 0.21893926903076252, 0.26565072343785434, 0.27034720258349865, 0.37879494717067674, 0.31448909549003945, 0.35208876789138527, 0.3437843237352166, 0.3679265093611955, 0.29706451755726704, 0.30541907233858195, 0.24424235080596124, 0.3262010621561479, 0.28285537140470746, 0.3112708797862074, 0.2730810155775843, 0.30970631471219895, 0.32776284330653704, 0.2986346504785138, 0.3087569967580409, 0.30134619208364566, 0.36964419023426154, 0.3597027989899845, 0.35684927728027177, 0.3591710695787112, 0.2546514412182692, 0.2555840556307119, 0.2518953568352296, 0.22385567814232613, 0.2648489534355157, 0.24052859669790586, 0.24959861984936332, 0.25753558608779353, 0.24954015745335945, 0.26922528136494817, 0.22953209840193992, 0.22788679954297392, 0.23983818364033635, 0.23392512987308775, 0.23878864443588593, 0.2360798867543733, 0.23451253775674571, 0.22808724204355854, 0.20002529196170107, 0.1888394868596274, 0.20185432977953646, 0.19508661146118378, 0.20097182599223995, 0.2109020815420401, 0.19510331500289915, 0.19400644909692177, 0.2001310810592319, 0.1812532949972205, 0.17969151384683138, 0.2542255009045267, 0.2532845347212263, 0.26124098842499116, 0.24388879250631867, 0.2429728816355914, 0.2399968672866326, 0.23594347449703088, 0.23756928589066234, 0.2415057538882562, 0.25408073687632665, 0.32238987072141945, 0.32766540597986393, 0.34071643990682304, 0.33064977209968044, 0.34155996876345024, 0.38992507380036595, 0.2841972225891773, 0.3076239398450135, 0.3010789354161994, 0.30165520760538034, 0.30013240138566055, 0.30402432660534673, 0.3055471328250665, 0.2997649234679219, 0.27441729891481564, 0.3149011161856858, 0.3169027572679135, 0.3155121874201072, 0.3141216175723008, 0.33504280357082844, 0.3299537911948725, 0.31623461559929783, 0.31971730404695686, 0.31602303740423615, 0.3185925989047872, 0.3302461031748919, 0.35552691356113664, 0.3487424917010686, 0.34994236278095747, 0.35817164099940696, 0.36769265977717996, 0.3512118319513272, 0.35285434688667405, 0.352517492128747, 0.3500230965659152, 0.33325552460728153, 0.33675770052027526, 0.3654098424094098, 0.36137315316152363, 0.3833661497534555, 0.3847358401741176, 0.38392850232454034, 0.39559592621274126, 0.6085883544729345, 0.6291392786301042, 0.6119652538230628, 0.648117285942408, 0.6483734069153774, 0.6904106535657788, 0.716871847566578, 0.6879357454682816, 0.7267547764148512, 0.6472319982314921, 0.6577886365956195, 0.6545203102666414, 0.681396308886706, 0.644311662354918, 0.6927909082602222, 0.7000653006772751, 0.7154882375278196, 0.7174119287487088, 0.7254936590153389, 0.7190962025383442, 0.7447806818493776, 0.7846102770697282, 0.7594603110935872, 0.6735901870583797, 0.6796062459995398, 0.6844502730970033, 0.6792916626305665, 0.6785205157880394, 0.7112733771683025, 0.7264234895041625, 0.7438842584439849, 0.8203920473477155, 0.8500798088232044, 0.8355867024614831, 0.8279253446613571, 0.8459261947833104, 0.8998730666767859, 0.9573165466360167, 1.0094510842533724, 1.2531752453462661, 1.1848132169524082, 1.4191861786083022, 1.4695751961163994, 1.528663974934596, 1.4382727589417559, 1.2915906073680472, 1.2652630417009711, 1.5257352872871643, 1.4740155542890743, 1.457732385040187, 1.3668985251918888, 1.43858455838711, 1.4716074603584388, 1.4902959396143423, 1.6760170521005402, 1.687481249564537, 1.6710282609748766, 1.656473908293532, 1.5492065473209082, 1.6238268360107995, 1.6278078467863015, 1.6767325204706827, 1.5007300853392234, 1.3809601233926292, 1.411920137962107, 1.4167502454414744, 1.4726263764030776, 1.4532753233257967, 1.368869543114305, 1.4768885634641216, 1.4484118087629985, 1.5195187858454193, 1.5374249825643191, 1.6652905943956395, 1.7105154335900616, 1.7427616208716246, 1.843110931650457, 1.7715724464070552, 1.828269834836332, 1.8992097765015987, 2.0905043040734985, 2.2139796683572905, 2.25895952227322, 2.3154091415003855, 2.5186355657043134, 2.84364194470792, 2.3498546284411415, 2.684125905249553, 2.548520985756767, 2.2400316255860626, 2.1906281170391737, 2.25975850835194, 2.5770979617081826, 2.347374152496406, 2.306172082931774, 2.3719812533667963, 2.440248628357601, 2.6689507376011194, 2.7454919335882804, 2.6136898537593662, 2.405257492387475, 2.532855847551349, 2.4134116046682053, 2.082080151201703, 2.264816897568084, 1.8692714619003794, 1.948529767339911, 2.2064018282657414, 2.1772457962015257, 2.239449785549643, 2.1971007394538877, 2.1166008040801785, 1.9845175479657216, 1.9678418454865227, 1.9969505508492111, 1.9860542738035376, 1.8805157293984567, 1.9002509639351914, 1.8917544290492956, 1.91515330706894, 2.055393459387746, 2.144696161245467, 2.1760765482814484, 2.2548810741710454, 2.303312993374823, 2.5297712601812408, 2.4383416406784266, 2.578061199280437, 2.581440882554184, 2.5462854950905243, 2.3830668372185775, 2.453892638015456, 2.413016287514275, 2.26870882278777, 2.0349288368627727, 2.110762916250649, 2.126430838379686, 2.0904514095247335, 2.1174693882493787, 2.2868182459308737, 2.245463060567184, 2.0630631689587298, 2.059970229817764, 2.140542547205573, 2.0702512597435865, 2.066735164212497, 2.1275249203620445, 2.076378675629516, 1.950770825853393, 1.8868408038613513, 1.9087614184391832, 1.9154985135977245, 1.9639554881140746, 2.13558716316334, 2.200633538526693, 2.1918753148205896, 2.188194967795965, 2.1146993842482433, 2.167184696241622, 2.1364947222632096, 2.1170879907135443, 2.054664071399507, 2.074268461526138, 2.1467005862513133, 2.1305037186346225, 2.1295878077638952, 2.1149276659850202, 2.1002675242061453, 2.079599675256967, 2.073650430482669, 2.107928882006271, 2.0757188857317583, 2.0211484149475747, 2.0348954297793416, 1.9411635054434235, 1.6212962494409178, 1.5953305938443423, 1.4872614628693797, 1.527547621563284, 1.532589307237713, 1.4886200175955648, 1.5566424073078764, 1.5627503357284713, 1.5770235121242733, 1.5396382018416082, 1.5158356548971756, 1.5138423655858055, 1.433949325561089, 1.5306322089333935, 1.523619505336548, 1.635176892606408, 1.6358756574348354, 1.545698803560676, 1.5563528792514767, 1.5493819345089197, 1.5702446581114435, 1.5171051240675453, 1.4706915494877113, 1.4911617398599235, 1.458094295110687, 1.462245125226962, 1.5377172945443383, 1.5293766593811198, 1.4778852081198064, 1.3245466951725144, 1.3123614614911363, 1.6603769692076953, 1.8234118881207722, 1.9026423543241116, 1.8105139699928707, 1.8691294817957984, 1.7974740717603885, 1.7942809113691298, 1.8200656119304557, 1.835112719092404, 1.807899865714412, 1.8646250933798811, 1.8391076494860017, 1.846601971868974, 1.8085401681468354, 1.6835642690322774, 1.6965011620908483, 1.7585910105705767, 1.6724230067081118, 1.6993268445643686, 1.6849979896961822, 1.6478437450739132, 1.5997681680933975, 1.6070703997466431, 1.610945621424614, 1.5211278936973354, 1.5064232091405527, 1.4956939675120329, 1.3639280786901684, 1.2703826772367386, 1.2856302268992716, 1.1658992398833465, 1.2288771599976105, 1.2404638501008534, 1.3376450558010002, 1.313007331770798, 1.4033094622078226, 1.349443324099305, 1.3081159779718077, 1.2819999904997932, 1.2767829176373526, 1.2490494705425645, 1.3041071279601137, 1.3425558970653253, 1.334315483152399, 1.3373610955918387, 1.2859281067265296, 1.2559870082016906, 1.2516580069737848, 1.245032268760013, 1.2647396640605555, 1.2119592561635384, 1.2255253159600552, 1.1606598956319523, 1.087567981009019, 1.2733614755093168, 1.2373430717236946, 1.2475322321700832, 1.2345229570974126, 1.3387753287904085, 1.2818691460896894, 1.2623761129078277, 1.247997147414495, 1.2478217602264834, 1.2624457109983085, 1.2762901631567487, 1.2972698115512802, 1.2554970376447057, 1.2382227915873718, 1.2421230685779157, 1.1783712176975054, 1.2860756546783487, 1.292609523412686, 1.2915154414303278, 1.4073405836084705, 1.5141374614894443, 1.485504807065644, 1.4197373954849102, 1.5275587572577611, 1.4741352630047013, 1.5221997042907398, 1.5011142667986774, 1.6982689535890607, 1.6975507012952988, 1.671039396669353, 1.7218849776510048, 1.722717370813155, 1.6664681940865744, 1.6471728194816784, 1.6746807687633085, 1.6560730232923626, 1.5782484385167352, 1.5932120279701067, 1.5609658406885438, 1.6389157020270366, 1.7209217400787502, 1.857890782144959, 1.8284535737952012, 1.8924866009611538, 1.844720039502373, 1.8559503873823546, 1.8364879773603044, 1.828500900496728, 1.79717897585675, 1.922274583686935, 1.9603558748744079, 1.9740193719975978, 2.0029693937139905, 2.0769688674367934, 1.9874601552312496, 2.1041037709534463, 2.1257626967110705, 2.0924697541486768, 2.130010964154019, 2.003528962361456, 2.008052838242708, 1.95226579283692, 2.0816430751934836, 1.9142735872052627, 1.9202033445142264, 1.9440699217019013, 1.9351474465022633, 2.0202547754658013, 1.9353673764681827, 1.8352936741276538, 1.688572547623276, 1.699187648383407, 1.6695388618385874, 1.6180362748827974, 1.6155307436254887, 1.7272607341597415, 1.6821917946879965, 1.6828432328148968, 1.7666977961497803, 1.7931729097686755, 1.7227452100493474, 1.4818439475063543, 1.4543972445443472, 1.4422676893353539, 1.4597117547334608, 0.5926253364402588, 0.8101861833596115, 0.6833005126422605, 0.7349868385569198, 0.6510153504300283, 0.7316210749012684, 0.7516792445778342, 0.9688085833362059, 0.9729065189037153, 0.9705429677509875, 0.8640300500791753, 1.0528162624701474, 1.1290790660953858, 1.108709096973466, 1.1281074767522736, 1.0197794408807226, 0.9916840837154343, 0.8812625372822209, 1.0289441174352338, 1.0344535022776937, 1.101604523897186, 1.1349225217721535, 1.1203709530144284, 1.1620908323722374, 1.1324002869731293, 1.2869859977018376, 1.2504971108245653, 1.2967297303691494, 1.276760646248399, 1.156191698223085, 1.1608464185144407, 1.1679342880490051, 1.1558103006872502, 1.1569851164545661, 1.0874204330571997, 1.2272708360693136, 1.1990919611954485, 1.2675235876797875, 1.2280837417661294, 1.1469963985087621, 1.1518961040786104, 1.2319868026802925, 1.3310694282123745, 1.3379206642393042, 1.364376290392865, 1.3908319165464254, 1.4145927046365696, 1.4056423902007391, 1.6917517883964388, 1.6471895230233935, 1.704616299440909, 1.7454174840043715, 1.7291538022208188, 1.7194379087896996, 1.7614083412732398, 1.7958259889778032, 2.0309450421636517, 1.9755032032866489, 1.8970717231620287, 1.6781356179747753, 1.6317303951657993, 1.6993240606407494, 1.8403966061217059, 1.975745404641522, 1.8358588106223581, 1.8554464972072737, 1.9376167867525222, 1.9534990710002398, 1.9663886373572832, 1.8910306089082958, 1.7676025713260306, 1.7981449973526233, 1.8014773539248443, 1.6695722689220183, 1.7233298340093857, 1.7045578370449055, 1.8087322588765624, 1.912155021331027, 1.8695693417276371, 1.9465671011883525, 1.8740486748309813, 2.085356829301539, 1.8957382237484168, 1.936238744561002, 1.9704810050775543, 1.9218096684425232, 1.937652977759572, 1.9615835851904895, 1.969267214379569, 1.9680589915288225, 1.9992445039114581, 1.8243110954497843, 1.8799812160635643, 1.883603100692185, 1.842139342307345, 1.8714874651012876, 1.8748852438785601, 1.8782830226558327, 1.854622455815981, 1.8303382900854213, 1.8493608401756327, 1.8304190238703788, 1.941878973813566, 1.9222857193814118, 1.829976380014921, 1.8165244610867923, 1.7942948309872258, 1.7525916551711322, 1.7833456593927868, 1.8025686519835833, 1.7883817772199773, 1.7820887178787037, 1.7757956585374302, 1.7652696433331145, 1.7898489049673125, 1.771758969289544, 1.8468469571474662, 1.8218779462065753, 1.8732552565995, 1.8156697965356883, 1.83128482411596, 1.8154359469516728, 1.8351656136411694, 1.815469354035104, 1.821632960928083, 1.803445587923641, 1.7876997159332657, 1.7921734811893713, 1.7991861847862165, 1.8096119787402396, 1.7953081791846264, 1.8605104542706563, 1.8998333753923067, 1.9214421905247847, 1.9032047068951967, 1.948613285048488, 2.1347116191850914, 2.3208099533216946, 2.28810163471934, 2.336291352568243, 2.337914380038256, 2.4067162683639527, 2.53205686147263, 2.327914526397975, 2.372866541077712, 2.3609207248275883, 2.51860772646812, 2.521491871337645, 2.4745799744299686, 2.520843217134364, 2.4976447816153042, 2.556599932099778, 2.4146560185260024, 2.4651118502009606, 2.5290891988945288, 2.521967922276533, 2.5460850525899392, 2.5622958398247264, 2.6693209994424776, 2.571530114469719, 2.519242461053306, 2.545689735436009, 2.4539956431893675, 2.4958547187281384, 2.4890424576318786, 2.51596299902985, 2.3985092615344574, 2.435927978900553, 2.399556016815288, 2.457038471705188, 2.438377831685477, 2.505581747853735, 2.490373173121871, 2.563047499201919, 2.4170501928385413, 2.073207786627211, 2.1567811736765523, 2.074730592846931, 2.1006099468113106, 2.1337581253455045, 2.0637452302454418, 2.0904012988995873, 2.1237025932328386, 2.1401500139752607, 2.152939359082012, 2.1229899087863155, 2.21557764051473, 2.2472030128292038, 2.293179511400818, 2.2924000127874335, 2.289098279375024, 2.2871551006888007, 2.285211922002577, 2.14526408166379, 2.1750214412297595, 2.0946050235646276, 2.2342466323052985, 2.2219333381374358, 2.232194880597925, 2.2458082670959687, 2.2183643480575808, 2.2625145927349792, 2.2460421166799844, 2.1988100685560963, 2.1877940827947957, 2.179879387945319, 2.214118864538252, 2.250643942422575, 2.1963435122294563, 2.2149373380823065, 2.2867402960695355, 2.3238889728445655, 2.3908451198107112, 2.410752957611839, 2.457227778511296, 2.429627959750231, 2.426902498527003, 2.4480714537276422, 2.399450227717757, 2.4254381547032873, 2.4514260816888163, 2.518412851814775, 2.5635486054533807, 2.8088957940162866, 2.8591818063504726, 2.8471469045445335, 2.861218246477941, 2.8752895884113485, 2.8819654372502663, 3.0426562924759497, 2.940628275754721, 2.9908279864567104, 3.022364273215369, 3.0864000843049406, 3.075977074274537, 3.0249811614174473, 3.1538100108210214, 3.189140785472693, 3.589978459940559, 3.588575362436466, 3.3731108100023945, 3.555558028312376, 3.5178748382024527, 3.5083037087995335, 3.6160582564055233, 3.78253688883559, 3.793410894492309, 3.724853991445105, 3.6921957834678953, 3.901647060884426, 4.167211102770194, 4.198165549492433, 4.206353068856594, 4.446524943411349, 4.458036467576873, 4.376236439872982, 4.36351947678033, 4.582951120371808, 4.458261965390031, 4.024267760617114, 4.022060109187064, 4.179081753082599, 4.3105776013133985, 4.7300536444120205, 4.471059662267639, 4.595467640963874, 4.656672201732687, 4.436781210744038, 4.579343155361283, 4.641413516375677, 4.5851782592671935, 4.342470230295319, 4.407911922812603, 4.325485512294384, 4.264498097567872, 4.480419213475497, 4.576461794415378, 4.610567642674589, 4.6551716669019205, 5.190912712110524, 5.6004083890342, 5.687311348732143, 5.88227787155781, 5.778846757332487, 5.578187110705492, 5.875791329525001, 5.70762007153444, 5.8557860543972, 6.124933005980918, 6.614591763520377, 6.550542032812709, 6.771886231930599, 6.864340335325289, 7.288390364930309, 7.318016880086176, 7.432475115767275, 8.213571701309641, 8.450851079224016, 8.168394188816746, 8.73269829035867, 9.510726992072643, 10.244187860566333, 10.570511035441838, 10.446988344456518, 9.869552475202678, 9.113669885879697, 8.719830995390579, 9.654803391138751, 10.143240006209368, 9.483639415257517, 9.27062749953199, 9.218526368998065, 9.452225621138105, 9.235722665194059, 9.13217184225311, 7.824198224305775, 8.428654856207878, 8.180685211595657, 8.23376906716717, 8.226834313431663, 8.298520346626885, 7.715480439127531, 8.567728544530228, 8.78405332936264, 8.793652298001753, 8.462401578320208, 8.570094879606575, 9.12681000536247, 9.738184687458364, 9.540882452716163, 9.912736698384204, 10.178545725548465, 10.06595271869225, 12.174816619114694, 12.188288025508157, 11.73192777837833, 12.620069011003784, 12.447290359423395, 12.401191368212535, 12.780311654526772, 12.594782632770302, 12.92402335959876, 13.760461562767839, 13.598779630733707, 14.834877908679715, 14.812372670141844, 15.248332324989939, 14.326268983064146, 12.865736350782901, 13.08505385350599, 12.348719975837252, 12.141030922071696, 12.090349592583578, 11.845213982215734, 13.064664396918735, 12.729510616323028, 13.269048933348264, 12.705872320872128, 12.823236972811706, 12.867348242558437, 13.429542129996983, 13.840240461924166, 14.536079386627557, 14.811910538821051, 15.34916047063128, 15.195975073483044, 16.275959266633386, 15.657892032156857, 14.727927914999684, 15.09316755814843, 15.653112035302637, 15.293507053559216, 15.39983344834854, 15.411784832445901, 15.227397219373316, 14.310698498261782, 14.378169671097487, 13.799586825312522, 13.524223372287059, 14.578943458592871, 14.784004488461871, 14.776329211043649, 15.286728199546387, 15.605234116899087]}, {\"line\": {\"color\": \"red\", \"width\": 1}, \"name\": \"Pr\\u00e9dictions\", \"type\": \"scatter\", \"x\": [\"2019-08-25T00:00:00\", \"2019-08-26T00:00:00\", \"2019-08-27T00:00:00\", \"2019-08-28T00:00:00\", \"2019-08-29T00:00:00\", \"2019-08-30T00:00:00\", \"2019-08-31T00:00:00\", \"2019-09-01T00:00:00\", \"2019-09-02T00:00:00\", \"2019-09-03T00:00:00\", \"2019-09-04T00:00:00\", \"2019-09-05T00:00:00\", \"2019-09-06T00:00:00\", \"2019-09-07T00:00:00\", \"2019-09-08T00:00:00\", \"2019-09-09T00:00:00\", \"2019-09-10T00:00:00\", \"2019-09-11T00:00:00\", \"2019-09-12T00:00:00\", \"2019-09-13T00:00:00\", \"2019-09-14T00:00:00\", \"2019-09-15T00:00:00\", \"2019-09-16T00:00:00\", \"2019-09-17T00:00:00\", \"2019-09-18T00:00:00\", \"2019-09-19T00:00:00\", \"2019-09-20T00:00:00\", \"2019-09-21T00:00:00\", \"2019-09-22T00:00:00\", \"2019-09-23T00:00:00\", \"2019-09-24T00:00:00\", \"2019-09-25T00:00:00\", \"2019-09-26T00:00:00\", \"2019-09-27T00:00:00\", \"2019-09-28T00:00:00\", \"2019-09-29T00:00:00\", \"2019-09-30T00:00:00\", \"2019-10-01T00:00:00\", \"2019-10-02T00:00:00\", \"2019-10-03T00:00:00\", \"2019-10-04T00:00:00\", \"2019-10-05T00:00:00\", \"2019-10-06T00:00:00\", \"2019-10-07T00:00:00\", \"2019-10-08T00:00:00\", \"2019-10-09T00:00:00\", \"2019-10-10T00:00:00\", \"2019-10-11T00:00:00\", \"2019-10-12T00:00:00\", \"2019-10-13T00:00:00\", \"2019-10-14T00:00:00\", \"2019-10-15T00:00:00\", \"2019-10-16T00:00:00\", \"2019-10-17T00:00:00\", \"2019-10-18T00:00:00\", \"2019-10-19T00:00:00\", \"2019-10-20T00:00:00\", \"2019-10-21T00:00:00\", \"2019-10-22T00:00:00\", \"2019-10-23T00:00:00\", \"2019-10-24T00:00:00\", \"2019-10-25T00:00:00\", \"2019-10-26T00:00:00\", \"2019-10-27T00:00:00\", \"2019-10-28T00:00:00\", \"2019-10-29T00:00:00\", \"2019-10-30T00:00:00\", \"2019-10-31T00:00:00\", \"2019-11-01T00:00:00\", \"2019-11-02T00:00:00\", \"2019-11-03T00:00:00\", \"2019-11-04T00:00:00\", \"2019-11-05T00:00:00\", \"2019-11-06T00:00:00\", \"2019-11-07T00:00:00\", \"2019-11-08T00:00:00\", \"2019-11-09T00:00:00\", \"2019-11-10T00:00:00\", \"2019-11-11T00:00:00\", \"2019-11-12T00:00:00\", \"2019-11-13T00:00:00\", \"2019-11-14T00:00:00\", \"2019-11-15T00:00:00\", \"2019-11-16T00:00:00\", \"2019-11-17T00:00:00\", \"2019-11-18T00:00:00\", \"2019-11-19T00:00:00\", \"2019-11-20T00:00:00\", \"2019-11-21T00:00:00\", \"2019-11-22T00:00:00\", \"2019-11-23T00:00:00\", \"2019-11-24T00:00:00\", \"2019-11-25T00:00:00\", \"2019-11-26T00:00:00\", \"2019-11-27T00:00:00\", \"2019-11-28T00:00:00\", \"2019-11-29T00:00:00\", \"2019-11-30T00:00:00\", \"2019-12-01T00:00:00\", \"2019-12-02T00:00:00\", \"2019-12-03T00:00:00\", \"2019-12-04T00:00:00\", \"2019-12-05T00:00:00\", \"2019-12-06T00:00:00\", \"2019-12-07T00:00:00\", \"2019-12-08T00:00:00\", \"2019-12-09T00:00:00\", \"2019-12-10T00:00:00\", \"2019-12-11T00:00:00\", \"2019-12-12T00:00:00\", \"2019-12-13T00:00:00\", \"2019-12-14T00:00:00\", \"2019-12-15T00:00:00\", \"2019-12-16T00:00:00\", \"2019-12-17T00:00:00\", \"2019-12-18T00:00:00\", \"2019-12-19T00:00:00\", \"2019-12-20T00:00:00\", \"2019-12-21T00:00:00\", \"2019-12-22T00:00:00\", \"2019-12-23T00:00:00\", \"2019-12-24T00:00:00\", \"2019-12-25T00:00:00\", \"2019-12-26T00:00:00\", \"2019-12-27T00:00:00\", \"2019-12-28T00:00:00\", \"2019-12-29T00:00:00\", \"2019-12-30T00:00:00\", \"2019-12-31T00:00:00\", \"2020-01-01T00:00:00\", \"2020-01-02T00:00:00\", \"2020-01-03T00:00:00\", \"2020-01-04T00:00:00\", \"2020-01-05T00:00:00\", \"2020-01-06T00:00:00\", \"2020-01-07T00:00:00\", \"2020-01-08T00:00:00\", \"2020-01-09T00:00:00\", \"2020-01-10T00:00:00\", \"2020-01-11T00:00:00\", \"2020-01-12T00:00:00\", \"2020-01-13T00:00:00\", \"2020-01-14T00:00:00\", \"2020-01-15T00:00:00\", \"2020-01-16T00:00:00\", \"2020-01-17T00:00:00\", \"2020-01-18T00:00:00\", \"2020-01-19T00:00:00\", \"2020-01-20T00:00:00\", \"2020-01-21T00:00:00\", \"2020-01-22T00:00:00\", \"2020-01-23T00:00:00\", \"2020-01-24T00:00:00\", \"2020-01-25T00:00:00\", \"2020-01-26T00:00:00\", \"2020-01-27T00:00:00\", \"2020-01-28T00:00:00\", \"2020-01-29T00:00:00\", \"2020-01-30T00:00:00\", \"2020-01-31T00:00:00\", \"2020-02-01T00:00:00\", \"2020-02-02T00:00:00\", \"2020-02-03T00:00:00\", \"2020-02-04T00:00:00\", \"2020-02-05T00:00:00\", \"2020-02-06T00:00:00\", \"2020-02-07T00:00:00\", \"2020-02-08T00:00:00\", \"2020-02-09T00:00:00\", \"2020-02-10T00:00:00\", \"2020-02-11T00:00:00\", \"2020-02-12T00:00:00\", \"2020-02-13T00:00:00\", \"2020-02-14T00:00:00\", \"2020-02-15T00:00:00\", \"2020-02-16T00:00:00\", \"2020-02-17T00:00:00\", \"2020-02-18T00:00:00\", \"2020-02-19T00:00:00\", \"2020-02-20T00:00:00\", \"2020-02-21T00:00:00\", \"2020-02-22T00:00:00\", \"2020-02-23T00:00:00\", \"2020-02-24T00:00:00\", \"2020-02-25T00:00:00\", \"2020-02-26T00:00:00\", \"2020-02-27T00:00:00\", \"2020-02-28T00:00:00\", \"2020-02-29T00:00:00\", \"2020-03-01T00:00:00\", \"2020-03-02T00:00:00\", \"2020-03-03T00:00:00\", \"2020-03-04T00:00:00\", \"2020-03-05T00:00:00\", \"2020-03-06T00:00:00\", \"2020-03-07T00:00:00\", \"2020-03-08T00:00:00\", \"2020-03-09T00:00:00\", \"2020-03-10T00:00:00\", \"2020-03-11T00:00:00\", \"2020-03-12T00:00:00\", \"2020-03-13T00:00:00\", \"2020-03-14T00:00:00\", \"2020-03-15T00:00:00\", \"2020-03-16T00:00:00\", \"2020-03-17T00:00:00\", \"2020-03-18T00:00:00\", \"2020-03-19T00:00:00\", \"2020-03-20T00:00:00\", \"2020-03-21T00:00:00\", \"2020-03-22T00:00:00\", \"2020-03-23T00:00:00\", \"2020-03-24T00:00:00\", \"2020-03-25T00:00:00\", \"2020-03-26T00:00:00\", \"2020-03-27T00:00:00\", \"2020-03-28T00:00:00\", \"2020-03-29T00:00:00\", \"2020-03-30T00:00:00\", \"2020-03-31T00:00:00\", \"2020-04-01T00:00:00\", \"2020-04-02T00:00:00\", \"2020-04-03T00:00:00\", \"2020-04-04T00:00:00\", \"2020-04-05T00:00:00\", \"2020-04-06T00:00:00\", \"2020-04-07T00:00:00\", \"2020-04-08T00:00:00\", \"2020-04-09T00:00:00\", \"2020-04-10T00:00:00\", \"2020-04-11T00:00:00\", \"2020-04-12T00:00:00\", \"2020-04-13T00:00:00\", \"2020-04-14T00:00:00\", \"2020-04-15T00:00:00\", \"2020-04-16T00:00:00\", \"2020-04-17T00:00:00\", \"2020-04-18T00:00:00\", \"2020-04-19T00:00:00\", \"2020-04-20T00:00:00\", \"2020-04-21T00:00:00\", \"2020-04-22T00:00:00\", \"2020-04-23T00:00:00\", \"2020-04-24T00:00:00\", \"2020-04-25T00:00:00\", \"2020-04-26T00:00:00\", \"2020-04-27T00:00:00\", \"2020-04-28T00:00:00\", \"2020-04-29T00:00:00\", \"2020-04-30T00:00:00\", \"2020-05-01T00:00:00\", \"2020-05-02T00:00:00\", \"2020-05-03T00:00:00\", \"2020-05-04T00:00:00\", \"2020-05-05T00:00:00\", \"2020-05-06T00:00:00\", \"2020-05-07T00:00:00\", \"2020-05-08T00:00:00\", \"2020-05-09T00:00:00\", \"2020-05-10T00:00:00\", \"2020-05-11T00:00:00\", \"2020-05-12T00:00:00\", \"2020-05-13T00:00:00\", \"2020-05-14T00:00:00\", \"2020-05-15T00:00:00\", \"2020-05-16T00:00:00\", \"2020-05-17T00:00:00\", \"2020-05-18T00:00:00\", \"2020-05-19T00:00:00\", \"2020-05-20T00:00:00\", \"2020-05-21T00:00:00\", \"2020-05-22T00:00:00\", \"2020-05-23T00:00:00\", \"2020-05-24T00:00:00\", \"2020-05-25T00:00:00\", \"2020-05-26T00:00:00\", \"2020-05-27T00:00:00\", \"2020-05-28T00:00:00\", \"2020-05-29T00:00:00\", \"2020-05-30T00:00:00\", \"2020-05-31T00:00:00\", \"2020-06-01T00:00:00\", \"2020-06-02T00:00:00\", \"2020-06-03T00:00:00\", \"2020-06-04T00:00:00\", \"2020-06-05T00:00:00\", \"2020-06-06T00:00:00\", \"2020-06-07T00:00:00\", \"2020-06-08T00:00:00\", \"2020-06-09T00:00:00\", \"2020-06-10T00:00:00\", \"2020-06-11T00:00:00\", \"2020-06-12T00:00:00\", \"2020-06-13T00:00:00\", \"2020-06-14T00:00:00\", \"2020-06-15T00:00:00\", \"2020-06-16T00:00:00\", \"2020-06-17T00:00:00\", \"2020-06-18T00:00:00\", \"2020-06-19T00:00:00\", \"2020-06-20T00:00:00\", \"2020-06-21T00:00:00\", \"2020-06-22T00:00:00\", \"2020-06-23T00:00:00\", \"2020-06-24T00:00:00\", \"2020-06-25T00:00:00\", \"2020-06-26T00:00:00\", \"2020-06-27T00:00:00\", \"2020-06-28T00:00:00\", \"2020-06-29T00:00:00\", \"2020-06-30T00:00:00\", \"2020-07-01T00:00:00\", \"2020-07-02T00:00:00\", \"2020-07-03T00:00:00\", \"2020-07-04T00:00:00\", \"2020-07-05T00:00:00\", \"2020-07-06T00:00:00\", \"2020-07-07T00:00:00\", \"2020-07-08T00:00:00\", \"2020-07-09T00:00:00\", \"2020-07-10T00:00:00\", \"2020-07-11T00:00:00\", \"2020-07-12T00:00:00\", \"2020-07-13T00:00:00\", \"2020-07-14T00:00:00\", \"2020-07-15T00:00:00\", \"2020-07-16T00:00:00\", \"2020-07-17T00:00:00\", \"2020-07-18T00:00:00\", \"2020-07-19T00:00:00\", \"2020-07-20T00:00:00\", \"2020-07-21T00:00:00\", \"2020-07-22T00:00:00\", \"2020-07-23T00:00:00\", \"2020-07-24T00:00:00\", \"2020-07-25T00:00:00\", \"2020-07-26T00:00:00\", \"2020-07-27T00:00:00\", \"2020-07-28T00:00:00\", \"2020-07-29T00:00:00\", \"2020-07-30T00:00:00\", \"2020-07-31T00:00:00\", \"2020-08-01T00:00:00\", \"2020-08-02T00:00:00\", \"2020-08-03T00:00:00\", \"2020-08-04T00:00:00\", \"2020-08-05T00:00:00\", \"2020-08-06T00:00:00\", \"2020-08-07T00:00:00\", \"2020-08-08T00:00:00\", \"2020-08-09T00:00:00\", \"2020-08-10T00:00:00\", \"2020-08-11T00:00:00\", \"2020-08-12T00:00:00\", \"2020-08-13T00:00:00\", \"2020-08-14T00:00:00\", \"2020-08-15T00:00:00\", \"2020-08-16T00:00:00\", \"2020-08-17T00:00:00\", \"2020-08-18T00:00:00\", \"2020-08-19T00:00:00\", \"2020-08-20T00:00:00\", \"2020-08-21T00:00:00\", \"2020-08-22T00:00:00\", \"2020-08-23T00:00:00\", \"2020-08-24T00:00:00\", \"2020-08-25T00:00:00\", \"2020-08-26T00:00:00\", \"2020-08-27T00:00:00\", \"2020-08-28T00:00:00\", \"2020-08-29T00:00:00\", \"2020-08-30T00:00:00\", \"2020-08-31T00:00:00\", \"2020-09-01T00:00:00\", \"2020-09-02T00:00:00\", \"2020-09-03T00:00:00\", \"2020-09-04T00:00:00\", \"2020-09-05T00:00:00\", \"2020-09-06T00:00:00\", \"2020-09-07T00:00:00\", \"2020-09-08T00:00:00\", \"2020-09-09T00:00:00\", \"2020-09-10T00:00:00\", \"2020-09-11T00:00:00\", \"2020-09-12T00:00:00\", \"2020-09-13T00:00:00\", \"2020-09-14T00:00:00\", \"2020-09-15T00:00:00\", \"2020-09-16T00:00:00\", \"2020-09-17T00:00:00\", \"2020-09-18T00:00:00\", \"2020-09-19T00:00:00\", \"2020-09-20T00:00:00\", \"2020-09-21T00:00:00\", \"2020-09-22T00:00:00\", \"2020-09-23T00:00:00\", \"2020-09-24T00:00:00\", \"2020-09-25T00:00:00\", \"2020-09-26T00:00:00\", \"2020-09-27T00:00:00\", \"2020-09-28T00:00:00\", \"2020-09-29T00:00:00\", \"2020-09-30T00:00:00\", \"2020-10-01T00:00:00\", \"2020-10-02T00:00:00\", \"2020-10-03T00:00:00\", \"2020-10-04T00:00:00\", \"2020-10-05T00:00:00\", \"2020-10-06T00:00:00\", \"2020-10-07T00:00:00\", \"2020-10-08T00:00:00\", \"2020-10-09T00:00:00\", \"2020-10-10T00:00:00\", \"2020-10-11T00:00:00\", \"2020-10-12T00:00:00\", \"2020-10-13T00:00:00\", \"2020-10-14T00:00:00\", \"2020-10-15T00:00:00\", \"2020-10-16T00:00:00\", \"2020-10-17T00:00:00\", \"2020-10-18T00:00:00\", \"2020-10-19T00:00:00\", \"2020-10-20T00:00:00\", \"2020-10-21T00:00:00\", \"2020-10-22T00:00:00\", \"2020-10-23T00:00:00\", \"2020-10-24T00:00:00\", \"2020-10-25T00:00:00\", \"2020-10-26T00:00:00\", \"2020-10-27T00:00:00\", \"2020-10-28T00:00:00\", \"2020-10-29T00:00:00\", \"2020-10-30T00:00:00\", \"2020-10-31T00:00:00\", \"2020-11-01T00:00:00\", \"2020-11-02T00:00:00\", \"2020-11-03T00:00:00\", \"2020-11-04T00:00:00\", \"2020-11-05T00:00:00\", \"2020-11-06T00:00:00\", \"2020-11-07T00:00:00\", \"2020-11-08T00:00:00\", \"2020-11-09T00:00:00\", \"2020-11-10T00:00:00\", \"2020-11-11T00:00:00\", \"2020-11-12T00:00:00\", \"2020-11-13T00:00:00\", \"2020-11-14T00:00:00\", \"2020-11-15T00:00:00\", \"2020-11-16T00:00:00\", \"2020-11-17T00:00:00\", \"2020-11-18T00:00:00\", \"2020-11-19T00:00:00\", \"2020-11-20T00:00:00\", \"2020-11-21T00:00:00\", \"2020-11-22T00:00:00\", \"2020-11-23T00:00:00\", \"2020-11-24T00:00:00\", \"2020-11-25T00:00:00\", \"2020-11-26T00:00:00\", \"2020-11-27T00:00:00\", \"2020-11-28T00:00:00\", \"2020-11-29T00:00:00\", \"2020-11-30T00:00:00\", \"2020-12-01T00:00:00\", \"2020-12-02T00:00:00\", \"2020-12-03T00:00:00\", \"2020-12-04T00:00:00\", \"2020-12-05T00:00:00\", \"2020-12-06T00:00:00\", \"2020-12-07T00:00:00\", \"2020-12-08T00:00:00\", \"2020-12-09T00:00:00\", \"2020-12-10T00:00:00\", \"2020-12-11T00:00:00\", \"2020-12-12T00:00:00\", \"2020-12-13T00:00:00\", \"2020-12-14T00:00:00\", \"2020-12-15T00:00:00\", \"2020-12-16T00:00:00\", \"2020-12-17T00:00:00\", \"2020-12-18T00:00:00\", \"2020-12-19T00:00:00\", \"2020-12-20T00:00:00\", \"2020-12-21T00:00:00\", \"2020-12-22T00:00:00\", \"2020-12-23T00:00:00\", \"2020-12-24T00:00:00\", \"2020-12-25T00:00:00\", \"2020-12-26T00:00:00\", \"2020-12-27T00:00:00\", \"2020-12-28T00:00:00\", \"2020-12-29T00:00:00\", \"2020-12-30T00:00:00\", \"2020-12-31T00:00:00\", \"2021-01-01T00:00:00\", \"2021-01-02T00:00:00\", \"2021-01-03T00:00:00\", \"2021-01-04T00:00:00\", \"2021-01-05T00:00:00\", \"2021-01-06T00:00:00\", \"2021-01-07T00:00:00\", \"2021-01-08T00:00:00\", \"2021-01-09T00:00:00\", \"2021-01-10T00:00:00\", \"2021-01-11T00:00:00\", \"2021-01-12T00:00:00\", \"2021-01-13T00:00:00\", \"2021-01-14T00:00:00\", \"2021-01-15T00:00:00\", \"2021-01-16T00:00:00\", \"2021-01-17T00:00:00\", \"2021-01-18T00:00:00\", \"2021-01-19T00:00:00\", \"2021-01-20T00:00:00\", \"2021-01-21T00:00:00\", \"2021-01-22T00:00:00\", \"2021-01-23T00:00:00\", \"2021-01-24T00:00:00\", \"2021-01-25T00:00:00\", \"2021-01-26T00:00:00\", \"2021-01-27T00:00:00\", \"2021-01-28T00:00:00\", \"2021-01-29T00:00:00\", \"2021-01-30T00:00:00\", \"2021-01-31T00:00:00\", \"2021-02-01T00:00:00\", \"2021-02-02T00:00:00\", \"2021-02-03T00:00:00\", \"2021-02-04T00:00:00\", \"2021-02-05T00:00:00\", \"2021-02-06T00:00:00\", \"2021-02-07T00:00:00\", \"2021-02-08T00:00:00\", \"2021-02-09T00:00:00\", \"2021-02-10T00:00:00\", \"2021-02-11T00:00:00\", \"2021-02-12T00:00:00\", \"2021-02-13T00:00:00\", \"2021-02-14T00:00:00\", \"2021-02-15T00:00:00\", \"2021-02-16T00:00:00\", \"2021-02-17T00:00:00\", \"2021-02-18T00:00:00\", \"2021-02-19T00:00:00\", \"2021-02-20T00:00:00\", \"2021-02-21T00:00:00\", \"2021-02-22T00:00:00\", \"2021-02-23T00:00:00\", \"2021-02-24T00:00:00\", \"2021-02-25T00:00:00\", \"2021-02-26T00:00:00\", \"2021-02-27T00:00:00\", \"2021-02-28T00:00:00\", \"2021-03-01T00:00:00\", \"2021-03-02T00:00:00\", \"2021-03-03T00:00:00\", \"2021-03-04T00:00:00\", \"2021-03-05T00:00:00\", \"2021-03-06T00:00:00\", \"2021-03-07T00:00:00\", \"2021-03-08T00:00:00\", \"2021-03-09T00:00:00\", \"2021-03-10T00:00:00\", \"2021-03-11T00:00:00\", \"2021-03-12T00:00:00\", \"2021-03-13T00:00:00\", \"2021-03-14T00:00:00\", \"2021-03-15T00:00:00\", \"2021-03-16T00:00:00\"], \"y\": [2.1401731967926025, 2.0741851329803467, 2.073310613632202, 2.13082218170166, 2.0805182456970215, 1.952694296836853, 1.8817546367645264, 1.9004987478256226, 1.912450909614563, 1.9658544063568115, 2.1418840885162354, 2.213207244873047, 2.2060906887054443, 2.1982619762420654, 2.1190829277038574, 2.1748251914978027, 2.139767646789551, 2.1243221759796143, 2.0566160678863525, 2.077392578125, 2.151088237762451, 2.1374311447143555, 2.1381218433380127, 2.119704008102417, 2.1050922870635986, 2.0831995010375977, 2.0770716667175293, 2.1124181747436523, 2.0797312259674072, 2.024557113647461, 2.0359907150268555, 1.9391318559646606, 1.6144981384277344, 1.5718539953231812, 1.460754632949829, 1.512292504310608, 1.5226218700408936, 1.4904382228851318, 1.5472761392593384, 1.560181975364685, 1.5787029266357422, 1.5384173393249512, 1.5111891031265259, 1.5052458047866821, 1.4314532279968262, 1.5163650512695312, 1.5210480690002441, 1.6347289085388184, 1.6393988132476807, 1.5528309345245361, 1.5458316802978516, 1.5391383171081543, 1.565974473953247, 1.5159337520599365, 1.4664288759231567, 1.478675365447998, 1.4537442922592163, 1.4579246044158936, 1.528304934501648, 1.5324437618255615, 1.482029676437378, 1.323540449142456, 1.293731451034546, 1.6212960481643677, 1.8409061431884766, 1.9356664419174194, 1.8223271369934082, 1.8682842254638672, 1.7923582792282104, 1.792263388633728, 1.8130649328231812, 1.8338754177093506, 1.8079732656478882, 1.8623101711273193, 1.838096261024475, 1.8471091985702515, 1.8053058385849, 1.6796706914901733, 1.683961033821106, 1.7464509010314941, 1.6743344068527222, 1.694588541984558, 1.6769649982452393, 1.6456701755523682, 1.5933457612991333, 1.5968960523605347, 1.603581428527832, 1.520416498184204, 1.4968781471252441, 1.4837961196899414, 1.364348292350769, 1.2617474794387817, 1.2631241083145142, 1.1680289506912231, 1.2152446508407593, 1.2345448732376099, 1.3372613191604614, 1.324686884880066, 1.4028961658477783, 1.3569016456604004, 1.3132550716400146, 1.2741355895996094, 1.270508050918579, 1.2483583688735962, 1.296799659729004, 1.3415250778198242, 1.3429265022277832, 1.3389909267425537, 1.28805410861969, 1.2535772323608398, 1.244469165802002, 1.242846965789795, 1.262732982635498, 1.2184633016586304, 1.222681999206543, 1.164214015007019, 1.0932543277740479, 1.2436223030090332, 1.2525334358215332, 1.2633236646652222, 1.2338546514511108, 1.3302174806594849, 1.2944068908691406, 1.268888235092163, 1.2419911623001099, 1.2452144622802734, 1.2604494094848633, 1.2769731283187866, 1.2984651327133179, 1.2621827125549316, 1.238330364227295, 1.2368112802505493, 1.1839309930801392, 1.2721635103225708, 1.2962089776992798, 1.3030359745025635, 1.3984150886535645, 1.5154024362564087, 1.5035384893417358, 1.4265815019607544, 1.511397361755371, 1.4759641885757446, 1.5216721296310425, 1.4975208044052124, 1.689295768737793, 1.7060459852218628, 1.682408094406128, 1.715715765953064, 1.7202478647232056, 1.6671572923660278, 1.6403565406799316, 1.6649893522262573, 1.6528278589248657, 1.5766857862472534, 1.582205891609192, 1.5527533292770386, 1.631474256515503, 1.7178443670272827, 1.8633519411087036, 1.8388935327529907, 1.8978006839752197, 1.8439702987670898, 1.856194019317627, 1.8324344158172607, 1.8264341354370117, 1.7934637069702148, 1.9186350107192993, 1.9633443355560303, 1.9827154874801636, 2.0069849491119385, 2.0821096897125244, 1.9911651611328125, 2.1109888553619385, 2.1289989948272705, 2.1016831398010254, 2.1368393898010254, 2.003545045852661, 2.0105302333831787, 1.9473739862442017, 2.0846762657165527, 1.9131044149398804, 1.9226254224777222, 1.9362893104553223, 1.9363200664520264, 2.0231668949127197, 1.9370603561401367, 1.8356651067733765, 1.6775132417678833, 1.682445764541626, 1.6566977500915527, 1.6139661073684692, 1.6060847043991089, 1.716791033744812, 1.6861155033111572, 1.684349536895752, 1.7587639093399048, 1.79458749294281, 1.7271084785461426, 1.4789139032363892, 1.4303256273269653, 1.4170632362365723, 1.452343463897705, 0.6581250429153442, 0.7153852581977844, 0.6420656442642212, 0.7531605958938599, 0.6747121214866638, 0.7302988767623901, 0.7594794034957886, 0.9481813311576843, 1.0018372535705566, 1.00350022315979, 0.8897140622138977, 1.0241702795028687, 1.1310954093933105, 1.1437417268753052, 1.1365571022033691, 1.0367746353149414, 0.9937461614608765, 0.890550434589386, 1.0036860704421997, 1.043095588684082, 1.11551034450531, 1.1429961919784546, 1.1367535591125488, 1.1636103391647339, 1.14164400100708, 1.2752629518508911, 1.2666267156600952, 1.3054941892623901, 1.2790038585662842, 1.1697204113006592, 1.1493587493896484, 1.1580419540405273, 1.1613179445266724, 1.1596579551696777, 1.097299337387085, 1.2094358205795288, 1.2104421854019165, 1.2744412422180176, 1.2361273765563965, 1.1592570543289185, 1.142493724822998, 1.2187354564666748, 1.3311471939086914, 1.3544437885284424, 1.3716732263565063, 1.3904424905776978, 1.4158638715744019, 1.4083162546157837, 1.6749989986419678, 1.6662331819534302, 1.7185026407241821, 1.7414543628692627, 1.7323157787322998, 1.7179814577102661, 1.7559672594070435, 1.7941209077835083, 2.0331382751464844, 1.9863961935043335, 1.906779170036316, 1.6693202257156372, 1.6138513088226318, 1.6765849590301514, 1.8356518745422363, 1.985446572303772, 1.8478522300720215, 1.856479287147522, 1.9300029277801514, 1.9576568603515625, 1.9719074964523315, 1.891492486000061, 1.7634913921356201, 1.7864291667938232, 1.7926896810531616, 1.6691930294036865, 1.7123923301696777, 1.6951078176498413, 1.806775689125061, 1.9136244058609009, 1.879063606262207, 1.9505243301391602, 1.8732331991195679, 2.0895347595214844, 1.8958266973495483, 1.9420475959777832, 1.9630451202392578, 1.9247623682022095, 1.9383330345153809, 1.9602816104888916, 1.9716615676879883, 1.9704313278198242, 2.0013608932495117, 1.822710394859314, 1.8751543760299683, 1.8748016357421875, 1.843912959098816, 1.8687231540679932, 1.8723711967468262, 1.8789108991622925, 1.8535387516021729, 1.8278740644454956, 1.8452305793762207, 1.8278932571411133, 1.9411849975585938, 1.924877405166626, 1.8337246179580688, 1.810250163078308, 1.7860066890716553, 1.748106837272644, 1.7768025398254395, 1.7985715866088867, 1.7886980772018433, 1.7799406051635742, 1.7718265056610107, 1.761705994606018, 1.78589928150177, 1.769561767578125, 1.8446372747421265, 1.8221044540405273, 1.8748432397842407, 1.814397931098938, 1.829864740371704, 1.8105415105819702, 1.833272099494934, 1.8132550716400146, 1.8197579383850098, 1.8002469539642334, 1.7847760915756226, 1.7876607179641724, 1.7957699298858643, 1.8076814413070679, 1.7937756776809692, 1.8581427335739136, 1.9004149436950684, 1.9261102676391602, 1.9055219888687134, 1.9494171142578125, 2.1394572257995605, 2.3376448154449463, 2.304391384124756, 2.355785369873047, 2.3494949340820312, 2.425053834915161, 2.5537383556365967, 2.331806182861328, 2.396315813064575, 2.36887788772583, 2.543316125869751, 2.5361733436584473, 2.4933407306671143, 2.5433549880981445, 2.5129616260528564, 2.5807063579559326, 2.422708034515381, 2.4897313117980957, 2.5465033054351807, 2.5398707389831543, 2.5683486461639404, 2.5824341773986816, 2.6970369815826416, 2.5833544731140137, 2.5414273738861084, 2.5669169425964355, 2.46578049659729, 2.5192439556121826, 2.5040431022644043, 2.5370357036590576, 2.40871524810791, 2.4576244354248047, 2.410369634628296, 2.477747678756714, 2.452136278152466, 2.52823543548584, 2.505748748779297, 2.5879271030426025, 2.424668073654175, 2.0737035274505615, 2.1650445461273193, 2.065899133682251, 2.1084887981414795, 2.136993646621704, 2.068228244781494, 2.0960655212402344, 2.127013921737671, 2.147686004638672, 2.1609909534454346, 2.1290602684020996, 2.2255642414093018, 2.2561867237091064, 2.308021306991577, 2.3043041229248047, 2.3018105030059814, 2.2986176013946533, 2.2965164184570312, 2.149299144744873, 2.183995485305786, 2.0937623977661133, 2.2456703186035156, 2.2276413440704346, 2.2462432384490967, 2.2555153369903564, 2.227149248123169, 2.274376392364502, 2.2544851303100586, 2.2079081535339355, 2.1955502033233643, 2.186044931411743, 2.223027467727661, 2.2607481479644775, 2.2045388221740723, 2.2256393432617188, 2.2972824573516846, 2.3369481563568115, 2.408569812774658, 2.4264798164367676, 2.476814031600952, 2.4442951679229736, 2.4448390007019043, 2.4652531147003174, 2.4127094745635986, 2.4442057609558105, 2.467618703842163, 2.5396175384521484, 2.5841476917266846, 2.8458003997802734, 2.8783321380615234, 2.8713366985321045, 2.888009786605835, 2.9000728130340576, 2.906484842300415, 3.07964825630188, 2.947251319885254, 3.0252981185913086, 3.0440540313720703, 3.113316297531128, 3.093355417251587, 3.0429606437683105, 3.188155174255371, 3.2035975456237793, 3.6376354694366455, 3.5587351322174072, 3.347250461578369, 3.575150489807129, 3.487494707107544, 3.502100944519043, 3.6118171215057373, 3.7684028148651123, 3.747885227203369, 3.675759792327881, 3.6496710777282715, 3.8766818046569824, 4.111566543579102, 4.086521148681641, 4.086819171905518, 4.320363521575928, 4.26452112197876, 4.183407306671143, 4.174676895141602, 4.402773857116699, 4.217841148376465, 3.808049201965332, 3.894744634628296, 4.059044361114502, 4.188779830932617, 4.596160888671875, 4.1989336013793945, 4.406472206115723, 4.3933258056640625, 4.174204349517822, 4.373762130737305, 4.387844562530518, 4.3347578048706055, 4.0891571044921875, 4.2157135009765625, 4.111400127410889, 4.091899871826172, 4.3255205154418945, 4.370902061462402, 4.390253067016602, 4.412351608276367, 4.939300060272217, 5.187160968780518, 5.1536970138549805, 5.281386852264404, 5.082286357879639, 4.911306858062744, 5.240180492401123, 4.9934515953063965, 5.216287136077881, 5.4016432762146, 5.810146808624268, 5.592319965362549, 5.812397003173828, 5.790917873382568, 6.1709489822387695, 6.062351226806641, 6.167773723602295, 6.8033246994018555, 6.803128242492676, 6.522764682769775, 7.050792694091797, 7.524659633636475, 7.937436580657959, 8.03697395324707, 7.897911071777344, 7.48563289642334, 6.982386589050293, 6.7922468185424805, 7.628022193908691, 7.803337097167969, 7.237797260284424, 7.209727764129639, 7.170618534088135, 7.3831586837768555, 7.158450603485107, 7.135607719421387, 5.996816635131836, 6.839188098907471, 6.4333953857421875, 6.638944625854492, 6.577805042266846, 6.657742023468018, 6.114313125610352, 7.010542869567871, 6.95714807510376, 6.979466438293457, 6.665526866912842, 6.8299946784973145, 7.25616455078125, 7.629239559173584, 7.357044219970703, 7.703169345855713, 7.799345016479492, 7.68044376373291, 9.0621337890625, 8.735414505004883, 8.535432815551758, 9.102973937988281, 8.865058898925781, 8.896360397338867, 9.099199295043945, 8.945394515991211, 9.158455848693848, 9.50987720489502, 9.349311828613281, 9.894010543823242, 9.772177696228027, 9.953047752380371, 9.557463645935059, 8.949366569519043, 9.231673240661621, 8.764362335205078, 8.76757526397705, 8.744857788085938, 8.602789878845215, 9.308941841125488, 8.964057922363281, 9.322476387023926, 8.945191383361816, 9.102554321289062, 9.091544151306152, 9.372126579284668, 9.49515151977539, 9.75430965423584, 9.80301284790039, 9.982913970947266, 9.89130973815918, 10.250178337097168, 9.989333152770996]}, {\"line\": {\"color\": \"green\", \"width\": 1}, \"name\": \"Entrainement\", \"type\": \"scatter\", \"x\": [\"2013-04-05T00:00:00\", \"2013-04-06T00:00:00\", \"2013-04-07T00:00:00\", \"2013-04-08T00:00:00\", \"2013-04-09T00:00:00\", \"2013-04-10T00:00:00\", \"2013-04-11T00:00:00\", \"2013-04-12T00:00:00\", \"2013-04-13T00:00:00\", \"2013-04-14T00:00:00\", \"2013-04-15T00:00:00\", \"2013-04-16T00:00:00\", \"2013-04-17T00:00:00\", \"2013-04-18T00:00:00\", \"2013-04-19T00:00:00\", \"2013-04-20T00:00:00\", \"2013-04-21T00:00:00\", \"2013-04-22T00:00:00\", \"2013-04-23T00:00:00\", \"2013-04-24T00:00:00\", \"2013-04-25T00:00:00\", \"2013-04-26T00:00:00\", \"2013-04-27T00:00:00\", \"2013-04-28T00:00:00\", \"2013-04-29T00:00:00\", \"2013-04-30T00:00:00\", \"2013-05-01T00:00:00\", \"2013-05-02T00:00:00\", \"2013-05-03T00:00:00\", \"2013-05-04T00:00:00\", \"2013-05-05T00:00:00\", \"2013-05-06T00:00:00\", \"2013-05-07T00:00:00\", \"2013-05-08T00:00:00\", \"2013-05-09T00:00:00\", \"2013-05-10T00:00:00\", \"2013-05-11T00:00:00\", \"2013-05-12T00:00:00\", \"2013-05-13T00:00:00\", \"2013-05-14T00:00:00\", \"2013-05-15T00:00:00\", \"2013-05-16T00:00:00\", \"2013-05-17T00:00:00\", \"2013-05-18T00:00:00\", \"2013-05-19T00:00:00\", \"2013-05-20T00:00:00\", \"2013-05-21T00:00:00\", \"2013-05-22T00:00:00\", \"2013-05-23T00:00:00\", \"2013-05-24T00:00:00\", \"2013-05-25T00:00:00\", \"2013-05-26T00:00:00\", \"2013-05-27T00:00:00\", \"2013-05-28T00:00:00\", \"2013-05-29T00:00:00\", \"2013-05-30T00:00:00\", \"2013-05-31T00:00:00\", \"2013-06-01T00:00:00\", \"2013-06-02T00:00:00\", \"2013-06-03T00:00:00\", \"2013-06-04T00:00:00\", \"2013-06-05T00:00:00\", \"2013-06-06T00:00:00\", \"2013-06-07T00:00:00\", \"2013-06-08T00:00:00\", \"2013-06-09T00:00:00\", \"2013-06-10T00:00:00\", \"2013-06-11T00:00:00\", \"2013-06-12T00:00:00\", \"2013-06-13T00:00:00\", \"2013-06-14T00:00:00\", \"2013-06-15T00:00:00\", \"2013-06-16T00:00:00\", \"2013-06-17T00:00:00\", \"2013-06-18T00:00:00\", \"2013-06-19T00:00:00\", \"2013-06-20T00:00:00\", \"2013-06-21T00:00:00\", \"2013-06-22T00:00:00\", \"2013-06-23T00:00:00\", \"2013-06-24T00:00:00\", \"2013-06-25T00:00:00\", \"2013-06-26T00:00:00\", \"2013-06-27T00:00:00\", \"2013-06-28T00:00:00\", \"2013-06-29T00:00:00\", \"2013-06-30T00:00:00\", \"2013-07-01T00:00:00\", \"2013-07-02T00:00:00\", \"2013-07-03T00:00:00\", \"2013-07-04T00:00:00\", \"2013-07-05T00:00:00\", \"2013-07-06T00:00:00\", \"2013-07-07T00:00:00\", \"2013-07-08T00:00:00\", \"2013-07-09T00:00:00\", \"2013-07-10T00:00:00\", \"2013-07-11T00:00:00\", \"2013-07-12T00:00:00\", \"2013-07-13T00:00:00\", \"2013-07-14T00:00:00\", \"2013-07-15T00:00:00\", \"2013-07-16T00:00:00\", \"2013-07-17T00:00:00\", \"2013-07-18T00:00:00\", \"2013-07-19T00:00:00\", \"2013-07-20T00:00:00\", \"2013-07-21T00:00:00\", \"2013-07-22T00:00:00\", \"2013-07-23T00:00:00\", \"2013-07-24T00:00:00\", \"2013-07-25T00:00:00\", \"2013-07-26T00:00:00\", \"2013-07-27T00:00:00\", \"2013-07-28T00:00:00\", \"2013-07-29T00:00:00\", \"2013-07-30T00:00:00\", \"2013-07-31T00:00:00\", \"2013-08-01T00:00:00\", \"2013-08-02T00:00:00\", \"2013-08-03T00:00:00\", \"2013-08-04T00:00:00\", \"2013-08-05T00:00:00\", \"2013-08-06T00:00:00\", \"2013-08-07T00:00:00\", \"2013-08-08T00:00:00\", \"2013-08-09T00:00:00\", \"2013-08-10T00:00:00\", \"2013-08-11T00:00:00\", \"2013-08-12T00:00:00\", \"2013-08-13T00:00:00\", \"2013-08-14T00:00:00\", \"2013-08-15T00:00:00\", \"2013-08-16T00:00:00\", \"2013-08-17T00:00:00\", \"2013-08-18T00:00:00\", \"2013-08-19T00:00:00\", \"2013-08-20T00:00:00\", \"2013-08-21T00:00:00\", \"2013-08-22T00:00:00\", \"2013-08-23T00:00:00\", \"2013-08-24T00:00:00\", \"2013-08-25T00:00:00\", \"2013-08-26T00:00:00\", \"2013-08-27T00:00:00\", \"2013-08-28T00:00:00\", \"2013-08-29T00:00:00\", \"2013-08-30T00:00:00\", \"2013-08-31T00:00:00\", \"2013-09-01T00:00:00\", \"2013-09-02T00:00:00\", \"2013-09-03T00:00:00\", \"2013-09-04T00:00:00\", \"2013-09-05T00:00:00\", \"2013-09-06T00:00:00\", \"2013-09-07T00:00:00\", \"2013-09-08T00:00:00\", \"2013-09-09T00:00:00\", \"2013-09-10T00:00:00\", \"2013-09-11T00:00:00\", \"2013-09-12T00:00:00\", \"2013-09-13T00:00:00\", \"2013-09-14T00:00:00\", \"2013-09-15T00:00:00\", \"2013-09-16T00:00:00\", \"2013-09-17T00:00:00\", \"2013-09-18T00:00:00\", \"2013-09-19T00:00:00\", \"2013-09-20T00:00:00\", \"2013-09-21T00:00:00\", \"2013-09-22T00:00:00\", \"2013-09-23T00:00:00\", \"2013-09-24T00:00:00\", \"2013-09-25T00:00:00\", \"2013-09-26T00:00:00\", \"2013-09-27T00:00:00\", \"2013-09-28T00:00:00\", \"2013-09-29T00:00:00\", \"2013-09-30T00:00:00\", \"2013-10-01T00:00:00\", \"2013-10-02T00:00:00\", \"2013-10-03T00:00:00\", \"2013-10-04T00:00:00\", \"2013-10-05T00:00:00\", \"2013-10-06T00:00:00\", \"2013-10-07T00:00:00\", \"2013-10-08T00:00:00\", \"2013-10-09T00:00:00\", \"2013-10-10T00:00:00\", \"2013-10-11T00:00:00\", \"2013-10-12T00:00:00\", \"2013-10-13T00:00:00\", \"2013-10-14T00:00:00\", \"2013-10-15T00:00:00\", \"2013-10-16T00:00:00\", \"2013-10-17T00:00:00\", \"2013-10-18T00:00:00\", \"2013-10-19T00:00:00\", \"2013-10-20T00:00:00\", \"2013-10-21T00:00:00\", \"2013-10-22T00:00:00\", \"2013-10-23T00:00:00\", \"2013-10-24T00:00:00\", \"2013-10-25T00:00:00\", \"2013-10-26T00:00:00\", \"2013-10-27T00:00:00\", \"2013-10-28T00:00:00\", \"2013-10-29T00:00:00\", \"2013-10-30T00:00:00\", \"2013-10-31T00:00:00\", \"2013-11-01T00:00:00\", \"2013-11-02T00:00:00\", \"2013-11-03T00:00:00\", \"2013-11-04T00:00:00\", \"2013-11-05T00:00:00\", \"2013-11-06T00:00:00\", \"2013-11-07T00:00:00\", \"2013-11-08T00:00:00\", \"2013-11-09T00:00:00\", \"2013-11-10T00:00:00\", \"2013-11-11T00:00:00\", \"2013-11-12T00:00:00\", \"2013-11-13T00:00:00\", \"2013-11-14T00:00:00\", \"2013-11-15T00:00:00\", \"2013-11-16T00:00:00\", \"2013-11-17T00:00:00\", \"2013-11-18T00:00:00\", \"2013-11-19T00:00:00\", \"2013-11-20T00:00:00\", \"2013-11-21T00:00:00\", \"2013-11-22T00:00:00\", \"2013-11-23T00:00:00\", \"2013-11-24T00:00:00\", \"2013-11-25T00:00:00\", \"2013-11-26T00:00:00\", \"2013-11-27T00:00:00\", \"2013-11-28T00:00:00\", \"2013-11-29T00:00:00\", \"2013-11-30T00:00:00\", \"2013-12-01T00:00:00\", \"2013-12-02T00:00:00\", \"2013-12-03T00:00:00\", \"2013-12-04T00:00:00\", \"2013-12-05T00:00:00\", \"2013-12-06T00:00:00\", \"2013-12-07T00:00:00\", \"2013-12-08T00:00:00\", \"2013-12-09T00:00:00\", \"2013-12-10T00:00:00\", \"2013-12-11T00:00:00\", \"2013-12-12T00:00:00\", \"2013-12-13T00:00:00\", \"2013-12-14T00:00:00\", \"2013-12-15T00:00:00\", \"2013-12-16T00:00:00\", \"2013-12-17T00:00:00\", \"2013-12-18T00:00:00\", \"2013-12-19T00:00:00\", \"2013-12-20T00:00:00\", \"2013-12-21T00:00:00\", \"2013-12-22T00:00:00\", \"2013-12-23T00:00:00\", \"2013-12-24T00:00:00\", \"2013-12-25T00:00:00\", \"2013-12-26T00:00:00\", \"2013-12-27T00:00:00\", \"2013-12-28T00:00:00\", \"2013-12-29T00:00:00\", \"2013-12-30T00:00:00\", \"2013-12-31T00:00:00\", \"2014-01-01T00:00:00\", \"2014-01-02T00:00:00\", \"2014-01-03T00:00:00\", \"2014-01-04T00:00:00\", \"2014-01-05T00:00:00\", \"2014-01-06T00:00:00\", \"2014-01-07T00:00:00\", \"2014-01-08T00:00:00\", \"2014-01-09T00:00:00\", \"2014-01-10T00:00:00\", \"2014-01-11T00:00:00\", \"2014-01-12T00:00:00\", \"2014-01-13T00:00:00\", \"2014-01-14T00:00:00\", \"2014-01-15T00:00:00\", \"2014-01-16T00:00:00\", \"2014-01-17T00:00:00\", \"2014-01-18T00:00:00\", \"2014-01-19T00:00:00\", \"2014-01-20T00:00:00\", \"2014-01-21T00:00:00\", \"2014-01-22T00:00:00\", \"2014-01-23T00:00:00\", \"2014-01-24T00:00:00\", \"2014-01-25T00:00:00\", \"2014-01-26T00:00:00\", \"2014-01-27T00:00:00\", \"2014-01-28T00:00:00\", \"2014-01-29T00:00:00\", \"2014-01-30T00:00:00\", \"2014-01-31T00:00:00\", \"2014-02-01T00:00:00\", \"2014-02-02T00:00:00\", \"2014-02-03T00:00:00\", \"2014-02-04T00:00:00\", \"2014-02-05T00:00:00\", \"2014-02-06T00:00:00\", \"2014-02-07T00:00:00\", \"2014-02-08T00:00:00\", \"2014-02-09T00:00:00\", \"2014-02-10T00:00:00\", \"2014-02-11T00:00:00\", \"2014-02-12T00:00:00\", \"2014-02-13T00:00:00\", \"2014-02-14T00:00:00\", \"2014-02-15T00:00:00\", \"2014-02-16T00:00:00\", \"2014-02-17T00:00:00\", \"2014-02-18T00:00:00\", \"2014-02-19T00:00:00\", \"2014-02-20T00:00:00\", \"2014-02-21T00:00:00\", \"2014-02-22T00:00:00\", \"2014-02-23T00:00:00\", \"2014-02-24T00:00:00\", \"2014-02-25T00:00:00\", \"2014-02-26T00:00:00\", \"2014-02-27T00:00:00\", \"2014-02-28T00:00:00\", \"2014-03-01T00:00:00\", \"2014-03-02T00:00:00\", \"2014-03-03T00:00:00\", \"2014-03-04T00:00:00\", \"2014-03-05T00:00:00\", \"2014-03-06T00:00:00\", \"2014-03-07T00:00:00\", \"2014-03-08T00:00:00\", \"2014-03-09T00:00:00\", \"2014-03-10T00:00:00\", \"2014-03-11T00:00:00\", \"2014-03-12T00:00:00\", \"2014-03-13T00:00:00\", \"2014-03-14T00:00:00\", \"2014-03-15T00:00:00\", \"2014-03-16T00:00:00\", \"2014-03-17T00:00:00\", \"2014-03-18T00:00:00\", \"2014-03-19T00:00:00\", \"2014-03-20T00:00:00\", \"2014-03-21T00:00:00\", \"2014-03-22T00:00:00\", \"2014-03-23T00:00:00\", \"2014-03-24T00:00:00\", \"2014-03-25T00:00:00\", \"2014-03-26T00:00:00\", \"2014-03-27T00:00:00\", \"2014-03-28T00:00:00\", \"2014-03-29T00:00:00\", \"2014-03-30T00:00:00\", \"2014-03-31T00:00:00\", \"2014-04-01T00:00:00\", \"2014-04-02T00:00:00\", \"2014-04-03T00:00:00\", \"2014-04-04T00:00:00\", \"2014-04-05T00:00:00\", \"2014-04-06T00:00:00\", \"2014-04-07T00:00:00\", \"2014-04-08T00:00:00\", \"2014-04-09T00:00:00\", \"2014-04-10T00:00:00\", \"2014-04-11T00:00:00\", \"2014-04-12T00:00:00\", \"2014-04-13T00:00:00\", \"2014-04-14T00:00:00\", \"2014-04-15T00:00:00\", \"2014-04-16T00:00:00\", \"2014-04-17T00:00:00\", \"2014-04-18T00:00:00\", \"2014-04-19T00:00:00\", \"2014-04-20T00:00:00\", \"2014-04-21T00:00:00\", \"2014-04-22T00:00:00\", \"2014-04-23T00:00:00\", \"2014-04-24T00:00:00\", \"2014-04-25T00:00:00\", \"2014-04-26T00:00:00\", \"2014-04-27T00:00:00\", \"2014-04-28T00:00:00\", \"2014-04-29T00:00:00\", \"2014-04-30T00:00:00\", \"2014-05-01T00:00:00\", \"2014-05-02T00:00:00\", \"2014-05-03T00:00:00\", \"2014-05-04T00:00:00\", \"2014-05-05T00:00:00\", \"2014-05-06T00:00:00\", \"2014-05-07T00:00:00\", \"2014-05-08T00:00:00\", \"2014-05-09T00:00:00\", \"2014-05-10T00:00:00\", \"2014-05-11T00:00:00\", \"2014-05-12T00:00:00\", \"2014-05-13T00:00:00\", \"2014-05-14T00:00:00\", \"2014-05-15T00:00:00\", \"2014-05-16T00:00:00\", \"2014-05-17T00:00:00\", \"2014-05-18T00:00:00\", \"2014-05-19T00:00:00\", \"2014-05-20T00:00:00\", \"2014-05-21T00:00:00\", \"2014-05-22T00:00:00\", \"2014-05-23T00:00:00\", \"2014-05-24T00:00:00\", \"2014-05-25T00:00:00\", \"2014-05-26T00:00:00\", \"2014-05-27T00:00:00\", \"2014-05-28T00:00:00\", \"2014-05-29T00:00:00\", \"2014-05-30T00:00:00\", \"2014-05-31T00:00:00\", \"2014-06-01T00:00:00\", \"2014-06-02T00:00:00\", \"2014-06-03T00:00:00\", \"2014-06-04T00:00:00\", \"2014-06-05T00:00:00\", \"2014-06-06T00:00:00\", \"2014-06-07T00:00:00\", \"2014-06-08T00:00:00\", \"2014-06-09T00:00:00\", \"2014-06-10T00:00:00\", \"2014-06-11T00:00:00\", \"2014-06-12T00:00:00\", \"2014-06-13T00:00:00\", \"2014-06-14T00:00:00\", \"2014-06-15T00:00:00\", \"2014-06-16T00:00:00\", \"2014-06-17T00:00:00\", \"2014-06-18T00:00:00\", \"2014-06-19T00:00:00\", \"2014-06-20T00:00:00\", \"2014-06-21T00:00:00\", \"2014-06-22T00:00:00\", \"2014-06-23T00:00:00\", \"2014-06-24T00:00:00\", \"2014-06-25T00:00:00\", \"2014-06-26T00:00:00\", \"2014-06-27T00:00:00\", \"2014-06-28T00:00:00\", \"2014-06-29T00:00:00\", \"2014-06-30T00:00:00\", \"2014-07-01T00:00:00\", \"2014-07-02T00:00:00\", \"2014-07-03T00:00:00\", \"2014-07-04T00:00:00\", \"2014-07-05T00:00:00\", \"2014-07-06T00:00:00\", \"2014-07-07T00:00:00\", \"2014-07-08T00:00:00\", \"2014-07-09T00:00:00\", \"2014-07-10T00:00:00\", \"2014-07-11T00:00:00\", \"2014-07-12T00:00:00\", \"2014-07-13T00:00:00\", \"2014-07-14T00:00:00\", \"2014-07-15T00:00:00\", \"2014-07-16T00:00:00\", \"2014-07-17T00:00:00\", \"2014-07-18T00:00:00\", \"2014-07-19T00:00:00\", \"2014-07-20T00:00:00\", \"2014-07-21T00:00:00\", \"2014-07-22T00:00:00\", \"2014-07-23T00:00:00\", \"2014-07-24T00:00:00\", \"2014-07-25T00:00:00\", \"2014-07-26T00:00:00\", \"2014-07-27T00:00:00\", \"2014-07-28T00:00:00\", \"2014-07-29T00:00:00\", \"2014-07-30T00:00:00\", \"2014-07-31T00:00:00\", \"2014-08-01T00:00:00\", \"2014-08-02T00:00:00\", \"2014-08-03T00:00:00\", \"2014-08-04T00:00:00\", \"2014-08-05T00:00:00\", \"2014-08-06T00:00:00\", \"2014-08-07T00:00:00\", \"2014-08-08T00:00:00\", \"2014-08-09T00:00:00\", \"2014-08-10T00:00:00\", \"2014-08-11T00:00:00\", \"2014-08-12T00:00:00\", \"2014-08-13T00:00:00\", \"2014-08-14T00:00:00\", \"2014-08-15T00:00:00\", \"2014-08-16T00:00:00\", \"2014-08-17T00:00:00\", \"2014-08-18T00:00:00\", \"2014-08-19T00:00:00\", \"2014-08-20T00:00:00\", \"2014-08-21T00:00:00\", \"2014-08-22T00:00:00\", \"2014-08-23T00:00:00\", \"2014-08-24T00:00:00\", \"2014-08-25T00:00:00\", \"2014-08-26T00:00:00\", \"2014-08-27T00:00:00\", \"2014-08-28T00:00:00\", \"2014-08-29T00:00:00\", \"2014-08-30T00:00:00\", \"2014-08-31T00:00:00\", \"2014-09-01T00:00:00\", \"2014-09-02T00:00:00\", \"2014-09-03T00:00:00\", \"2014-09-04T00:00:00\", \"2014-09-05T00:00:00\", \"2014-09-06T00:00:00\", \"2014-09-07T00:00:00\", \"2014-09-08T00:00:00\", \"2014-09-09T00:00:00\", \"2014-09-10T00:00:00\", \"2014-09-11T00:00:00\", \"2014-09-12T00:00:00\", \"2014-09-13T00:00:00\", \"2014-09-14T00:00:00\", \"2014-09-15T00:00:00\", \"2014-09-16T00:00:00\", \"2014-09-17T00:00:00\", \"2014-09-18T00:00:00\", \"2014-09-19T00:00:00\", \"2014-09-20T00:00:00\", \"2014-09-21T00:00:00\", \"2014-09-22T00:00:00\", \"2014-09-23T00:00:00\", \"2014-09-24T00:00:00\", \"2014-09-25T00:00:00\", \"2014-09-26T00:00:00\", \"2014-09-27T00:00:00\", \"2014-09-28T00:00:00\", \"2014-09-29T00:00:00\", \"2014-09-30T00:00:00\", \"2014-10-01T00:00:00\", \"2014-10-02T00:00:00\", \"2014-10-03T00:00:00\", \"2014-10-04T00:00:00\", \"2014-10-05T00:00:00\", \"2014-10-06T00:00:00\", \"2014-10-07T00:00:00\", \"2014-10-08T00:00:00\", \"2014-10-09T00:00:00\", \"2014-10-10T00:00:00\", \"2014-10-11T00:00:00\", \"2014-10-12T00:00:00\", \"2014-10-13T00:00:00\", \"2014-10-14T00:00:00\", \"2014-10-15T00:00:00\", \"2014-10-16T00:00:00\", \"2014-10-17T00:00:00\", \"2014-10-18T00:00:00\", \"2014-10-19T00:00:00\", \"2014-10-20T00:00:00\", \"2014-10-21T00:00:00\", \"2014-10-22T00:00:00\", \"2014-10-23T00:00:00\", \"2014-10-24T00:00:00\", \"2014-10-25T00:00:00\", \"2014-10-26T00:00:00\", \"2014-10-27T00:00:00\", \"2014-10-28T00:00:00\", \"2014-10-29T00:00:00\", \"2014-10-30T00:00:00\", \"2014-10-31T00:00:00\", \"2014-11-01T00:00:00\", \"2014-11-02T00:00:00\", \"2014-11-03T00:00:00\", \"2014-11-04T00:00:00\", \"2014-11-05T00:00:00\", \"2014-11-06T00:00:00\", \"2014-11-07T00:00:00\", \"2014-11-08T00:00:00\", \"2014-11-09T00:00:00\", \"2014-11-10T00:00:00\", \"2014-11-11T00:00:00\", \"2014-11-12T00:00:00\", \"2014-11-13T00:00:00\", \"2014-11-14T00:00:00\", \"2014-11-15T00:00:00\", \"2014-11-16T00:00:00\", \"2014-11-17T00:00:00\", \"2014-11-18T00:00:00\", \"2014-11-19T00:00:00\", \"2014-11-20T00:00:00\", \"2014-11-21T00:00:00\", \"2014-11-22T00:00:00\", \"2014-11-23T00:00:00\", \"2014-11-24T00:00:00\", \"2014-11-25T00:00:00\", \"2014-11-26T00:00:00\", \"2014-11-27T00:00:00\", \"2014-11-28T00:00:00\", \"2014-11-29T00:00:00\", \"2014-11-30T00:00:00\", \"2014-12-01T00:00:00\", \"2014-12-02T00:00:00\", \"2014-12-03T00:00:00\", \"2014-12-04T00:00:00\", \"2014-12-05T00:00:00\", \"2014-12-06T00:00:00\", \"2014-12-07T00:00:00\", \"2014-12-08T00:00:00\", \"2014-12-09T00:00:00\", \"2014-12-10T00:00:00\", \"2014-12-11T00:00:00\", \"2014-12-12T00:00:00\", \"2014-12-13T00:00:00\", \"2014-12-14T00:00:00\", \"2014-12-15T00:00:00\", \"2014-12-16T00:00:00\", \"2014-12-17T00:00:00\", \"2014-12-18T00:00:00\", \"2014-12-19T00:00:00\", \"2014-12-20T00:00:00\", \"2014-12-21T00:00:00\", \"2014-12-22T00:00:00\", \"2014-12-23T00:00:00\", \"2014-12-24T00:00:00\", \"2014-12-25T00:00:00\", \"2014-12-26T00:00:00\", \"2014-12-27T00:00:00\", \"2014-12-28T00:00:00\", \"2014-12-29T00:00:00\", \"2014-12-30T00:00:00\", \"2014-12-31T00:00:00\", \"2015-01-01T00:00:00\", \"2015-01-02T00:00:00\", \"2015-01-03T00:00:00\", \"2015-01-04T00:00:00\", \"2015-01-05T00:00:00\", \"2015-01-06T00:00:00\", \"2015-01-07T00:00:00\", \"2015-01-08T00:00:00\", \"2015-01-09T00:00:00\", \"2015-01-10T00:00:00\", \"2015-01-11T00:00:00\", \"2015-01-12T00:00:00\", \"2015-01-13T00:00:00\", \"2015-01-14T00:00:00\", \"2015-01-15T00:00:00\", \"2015-01-16T00:00:00\", \"2015-01-17T00:00:00\", \"2015-01-18T00:00:00\", \"2015-01-19T00:00:00\", \"2015-01-20T00:00:00\", \"2015-01-21T00:00:00\", \"2015-01-22T00:00:00\", \"2015-01-23T00:00:00\", \"2015-01-24T00:00:00\", \"2015-01-25T00:00:00\", \"2015-01-26T00:00:00\", \"2015-01-27T00:00:00\", \"2015-01-28T00:00:00\", \"2015-01-29T00:00:00\", \"2015-01-30T00:00:00\", \"2015-01-31T00:00:00\", \"2015-02-01T00:00:00\", \"2015-02-02T00:00:00\", \"2015-02-03T00:00:00\", \"2015-02-04T00:00:00\", \"2015-02-05T00:00:00\", \"2015-02-06T00:00:00\", \"2015-02-07T00:00:00\", \"2015-02-08T00:00:00\", \"2015-02-09T00:00:00\", \"2015-02-10T00:00:00\", \"2015-02-11T00:00:00\", \"2015-02-12T00:00:00\", \"2015-02-13T00:00:00\", \"2015-02-14T00:00:00\", \"2015-02-15T00:00:00\", \"2015-02-16T00:00:00\", \"2015-02-17T00:00:00\", \"2015-02-18T00:00:00\", \"2015-02-19T00:00:00\", \"2015-02-20T00:00:00\", \"2015-02-21T00:00:00\", \"2015-02-22T00:00:00\", \"2015-02-23T00:00:00\", \"2015-02-24T00:00:00\", \"2015-02-25T00:00:00\", \"2015-02-26T00:00:00\", \"2015-02-27T00:00:00\", \"2015-02-28T00:00:00\", \"2015-03-01T00:00:00\", \"2015-03-02T00:00:00\", \"2015-03-03T00:00:00\", \"2015-03-04T00:00:00\", \"2015-03-05T00:00:00\", \"2015-03-06T00:00:00\", \"2015-03-07T00:00:00\", \"2015-03-08T00:00:00\", \"2015-03-09T00:00:00\", \"2015-03-10T00:00:00\", \"2015-03-11T00:00:00\", \"2015-03-12T00:00:00\", \"2015-03-13T00:00:00\", \"2015-03-14T00:00:00\", \"2015-03-15T00:00:00\", \"2015-03-16T00:00:00\", \"2015-03-17T00:00:00\", \"2015-03-18T00:00:00\", \"2015-03-19T00:00:00\", \"2015-03-20T00:00:00\", \"2015-03-21T00:00:00\", \"2015-03-22T00:00:00\", \"2015-03-23T00:00:00\", \"2015-03-24T00:00:00\", \"2015-03-25T00:00:00\", \"2015-03-26T00:00:00\", \"2015-03-27T00:00:00\", \"2015-03-28T00:00:00\", \"2015-03-29T00:00:00\", \"2015-03-30T00:00:00\", \"2015-03-31T00:00:00\", \"2015-04-01T00:00:00\", \"2015-04-02T00:00:00\", \"2015-04-03T00:00:00\", \"2015-04-04T00:00:00\", \"2015-04-05T00:00:00\", \"2015-04-06T00:00:00\", \"2015-04-07T00:00:00\", \"2015-04-08T00:00:00\", \"2015-04-09T00:00:00\", \"2015-04-10T00:00:00\", \"2015-04-11T00:00:00\", \"2015-04-12T00:00:00\", \"2015-04-13T00:00:00\", \"2015-04-14T00:00:00\", \"2015-04-15T00:00:00\", \"2015-04-16T00:00:00\", \"2015-04-17T00:00:00\", \"2015-04-18T00:00:00\", \"2015-04-19T00:00:00\", \"2015-04-20T00:00:00\", \"2015-04-21T00:00:00\", \"2015-04-22T00:00:00\", \"2015-04-23T00:00:00\", \"2015-04-24T00:00:00\", \"2015-04-25T00:00:00\", \"2015-04-26T00:00:00\", \"2015-04-27T00:00:00\", \"2015-04-28T00:00:00\", \"2015-04-29T00:00:00\", \"2015-04-30T00:00:00\", \"2015-05-01T00:00:00\", \"2015-05-02T00:00:00\", \"2015-05-03T00:00:00\", \"2015-05-04T00:00:00\", \"2015-05-05T00:00:00\", \"2015-05-06T00:00:00\", \"2015-05-07T00:00:00\", \"2015-05-08T00:00:00\", \"2015-05-09T00:00:00\", \"2015-05-10T00:00:00\", \"2015-05-11T00:00:00\", \"2015-05-12T00:00:00\", \"2015-05-13T00:00:00\", \"2015-05-14T00:00:00\", \"2015-05-15T00:00:00\", \"2015-05-16T00:00:00\", \"2015-05-17T00:00:00\", \"2015-05-18T00:00:00\", \"2015-05-19T00:00:00\", \"2015-05-20T00:00:00\", \"2015-05-21T00:00:00\", \"2015-05-22T00:00:00\", \"2015-05-23T00:00:00\", \"2015-05-24T00:00:00\", \"2015-05-25T00:00:00\", \"2015-05-26T00:00:00\", \"2015-05-27T00:00:00\", \"2015-05-28T00:00:00\", \"2015-05-29T00:00:00\", \"2015-05-30T00:00:00\", \"2015-05-31T00:00:00\", \"2015-06-01T00:00:00\", \"2015-06-02T00:00:00\", \"2015-06-03T00:00:00\", \"2015-06-04T00:00:00\", \"2015-06-05T00:00:00\", \"2015-06-06T00:00:00\", \"2015-06-07T00:00:00\", \"2015-06-08T00:00:00\", \"2015-06-09T00:00:00\", \"2015-06-10T00:00:00\", \"2015-06-11T00:00:00\", \"2015-06-12T00:00:00\", \"2015-06-13T00:00:00\", \"2015-06-14T00:00:00\", \"2015-06-15T00:00:00\", \"2015-06-16T00:00:00\", \"2015-06-17T00:00:00\", \"2015-06-18T00:00:00\", \"2015-06-19T00:00:00\", \"2015-06-20T00:00:00\", \"2015-06-21T00:00:00\", \"2015-06-22T00:00:00\", \"2015-06-23T00:00:00\", \"2015-06-24T00:00:00\", \"2015-06-25T00:00:00\", \"2015-06-26T00:00:00\", \"2015-06-27T00:00:00\", \"2015-06-28T00:00:00\", \"2015-06-29T00:00:00\", \"2015-06-30T00:00:00\", \"2015-07-01T00:00:00\", \"2015-07-02T00:00:00\", \"2015-07-03T00:00:00\", \"2015-07-04T00:00:00\", \"2015-07-05T00:00:00\", \"2015-07-06T00:00:00\", \"2015-07-07T00:00:00\", \"2015-07-08T00:00:00\", \"2015-07-09T00:00:00\", \"2015-07-10T00:00:00\", \"2015-07-11T00:00:00\", \"2015-07-12T00:00:00\", \"2015-07-13T00:00:00\", \"2015-07-14T00:00:00\", \"2015-07-15T00:00:00\", \"2015-07-16T00:00:00\", \"2015-07-17T00:00:00\", \"2015-07-18T00:00:00\", \"2015-07-19T00:00:00\", \"2015-07-20T00:00:00\", \"2015-07-21T00:00:00\", \"2015-07-22T00:00:00\", \"2015-07-23T00:00:00\", \"2015-07-24T00:00:00\", \"2015-07-25T00:00:00\", \"2015-07-26T00:00:00\", \"2015-07-27T00:00:00\", \"2015-07-28T00:00:00\", \"2015-07-29T00:00:00\", \"2015-07-30T00:00:00\", \"2015-07-31T00:00:00\", \"2015-08-01T00:00:00\", \"2015-08-02T00:00:00\", \"2015-08-03T00:00:00\", \"2015-08-04T00:00:00\", \"2015-08-05T00:00:00\", \"2015-08-06T00:00:00\", \"2015-08-07T00:00:00\", \"2015-08-08T00:00:00\", \"2015-08-09T00:00:00\", \"2015-08-10T00:00:00\", \"2015-08-11T00:00:00\", \"2015-08-12T00:00:00\", \"2015-08-13T00:00:00\", \"2015-08-14T00:00:00\", \"2015-08-15T00:00:00\", \"2015-08-16T00:00:00\", \"2015-08-17T00:00:00\", \"2015-08-18T00:00:00\", \"2015-08-19T00:00:00\", \"2015-08-20T00:00:00\", \"2015-08-21T00:00:00\", \"2015-08-22T00:00:00\", \"2015-08-23T00:00:00\", \"2015-08-24T00:00:00\", \"2015-08-25T00:00:00\", \"2015-08-26T00:00:00\", \"2015-08-27T00:00:00\", \"2015-08-28T00:00:00\", \"2015-08-29T00:00:00\", \"2015-08-30T00:00:00\", \"2015-08-31T00:00:00\", \"2015-09-01T00:00:00\", \"2015-09-02T00:00:00\", \"2015-09-03T00:00:00\", \"2015-09-04T00:00:00\", \"2015-09-05T00:00:00\", \"2015-09-06T00:00:00\", \"2015-09-07T00:00:00\", \"2015-09-08T00:00:00\", \"2015-09-09T00:00:00\", \"2015-09-10T00:00:00\", \"2015-09-11T00:00:00\", \"2015-09-12T00:00:00\", \"2015-09-13T00:00:00\", \"2015-09-14T00:00:00\", \"2015-09-15T00:00:00\", \"2015-09-16T00:00:00\", \"2015-09-17T00:00:00\", \"2015-09-18T00:00:00\", \"2015-09-19T00:00:00\", \"2015-09-20T00:00:00\", \"2015-09-21T00:00:00\", \"2015-09-22T00:00:00\", \"2015-09-23T00:00:00\", \"2015-09-24T00:00:00\", \"2015-09-25T00:00:00\", \"2015-09-26T00:00:00\", \"2015-09-27T00:00:00\", \"2015-09-28T00:00:00\", \"2015-09-29T00:00:00\", \"2015-09-30T00:00:00\", \"2015-10-01T00:00:00\", \"2015-10-02T00:00:00\", \"2015-10-03T00:00:00\", \"2015-10-04T00:00:00\", \"2015-10-05T00:00:00\", \"2015-10-06T00:00:00\", \"2015-10-07T00:00:00\", \"2015-10-08T00:00:00\", \"2015-10-09T00:00:00\", \"2015-10-10T00:00:00\", \"2015-10-11T00:00:00\", \"2015-10-12T00:00:00\", \"2015-10-13T00:00:00\", \"2015-10-14T00:00:00\", \"2015-10-15T00:00:00\", \"2015-10-16T00:00:00\", \"2015-10-17T00:00:00\", \"2015-10-18T00:00:00\", \"2015-10-19T00:00:00\", \"2015-10-20T00:00:00\", \"2015-10-21T00:00:00\", \"2015-10-22T00:00:00\", \"2015-10-23T00:00:00\", \"2015-10-24T00:00:00\", \"2015-10-25T00:00:00\", \"2015-10-26T00:00:00\", \"2015-10-27T00:00:00\", \"2015-10-28T00:00:00\", \"2015-10-29T00:00:00\", \"2015-10-30T00:00:00\", \"2015-10-31T00:00:00\", \"2015-11-01T00:00:00\", \"2015-11-02T00:00:00\", \"2015-11-03T00:00:00\", \"2015-11-04T00:00:00\", \"2015-11-05T00:00:00\", \"2015-11-06T00:00:00\", \"2015-11-07T00:00:00\", \"2015-11-08T00:00:00\", \"2015-11-09T00:00:00\", \"2015-11-10T00:00:00\", \"2015-11-11T00:00:00\", \"2015-11-12T00:00:00\", \"2015-11-13T00:00:00\", \"2015-11-14T00:00:00\", \"2015-11-15T00:00:00\", \"2015-11-16T00:00:00\", \"2015-11-17T00:00:00\", \"2015-11-18T00:00:00\", \"2015-11-19T00:00:00\", \"2015-11-20T00:00:00\", \"2015-11-21T00:00:00\", \"2015-11-22T00:00:00\", \"2015-11-23T00:00:00\", \"2015-11-24T00:00:00\", \"2015-11-25T00:00:00\", \"2015-11-26T00:00:00\", \"2015-11-27T00:00:00\", \"2015-11-28T00:00:00\", \"2015-11-29T00:00:00\", \"2015-11-30T00:00:00\", \"2015-12-01T00:00:00\", \"2015-12-02T00:00:00\", \"2015-12-03T00:00:00\", \"2015-12-04T00:00:00\", \"2015-12-05T00:00:00\", \"2015-12-06T00:00:00\", \"2015-12-07T00:00:00\", \"2015-12-08T00:00:00\", \"2015-12-09T00:00:00\", \"2015-12-10T00:00:00\", \"2015-12-11T00:00:00\", \"2015-12-12T00:00:00\", \"2015-12-13T00:00:00\", \"2015-12-14T00:00:00\", \"2015-12-15T00:00:00\", \"2015-12-16T00:00:00\", \"2015-12-17T00:00:00\", \"2015-12-18T00:00:00\", \"2015-12-19T00:00:00\", \"2015-12-20T00:00:00\", \"2015-12-21T00:00:00\", \"2015-12-22T00:00:00\", \"2015-12-23T00:00:00\", \"2015-12-24T00:00:00\", \"2015-12-25T00:00:00\", \"2015-12-26T00:00:00\", \"2015-12-27T00:00:00\", \"2015-12-28T00:00:00\", \"2015-12-29T00:00:00\", \"2015-12-30T00:00:00\", \"2015-12-31T00:00:00\", \"2016-01-01T00:00:00\", \"2016-01-02T00:00:00\", \"2016-01-03T00:00:00\", \"2016-01-04T00:00:00\", \"2016-01-05T00:00:00\", \"2016-01-06T00:00:00\", \"2016-01-07T00:00:00\", \"2016-01-08T00:00:00\", \"2016-01-09T00:00:00\", \"2016-01-10T00:00:00\", \"2016-01-11T00:00:00\", \"2016-01-12T00:00:00\", \"2016-01-13T00:00:00\", \"2016-01-14T00:00:00\", \"2016-01-15T00:00:00\", \"2016-01-16T00:00:00\", \"2016-01-17T00:00:00\", \"2016-01-18T00:00:00\", \"2016-01-19T00:00:00\", \"2016-01-20T00:00:00\", \"2016-01-21T00:00:00\", \"2016-01-22T00:00:00\", \"2016-01-23T00:00:00\", \"2016-01-24T00:00:00\", \"2016-01-25T00:00:00\", \"2016-01-26T00:00:00\", \"2016-01-27T00:00:00\", \"2016-01-28T00:00:00\", \"2016-01-29T00:00:00\", \"2016-01-30T00:00:00\", \"2016-01-31T00:00:00\", \"2016-02-01T00:00:00\", \"2016-02-02T00:00:00\", \"2016-02-03T00:00:00\", \"2016-02-04T00:00:00\", \"2016-02-05T00:00:00\", \"2016-02-06T00:00:00\", \"2016-02-07T00:00:00\", \"2016-02-08T00:00:00\", \"2016-02-09T00:00:00\", \"2016-02-10T00:00:00\", \"2016-02-11T00:00:00\", \"2016-02-12T00:00:00\", \"2016-02-13T00:00:00\", \"2016-02-14T00:00:00\", \"2016-02-15T00:00:00\", \"2016-02-16T00:00:00\", \"2016-02-17T00:00:00\", \"2016-02-18T00:00:00\", \"2016-02-19T00:00:00\", \"2016-02-20T00:00:00\", \"2016-02-21T00:00:00\", \"2016-02-22T00:00:00\", \"2016-02-23T00:00:00\", \"2016-02-24T00:00:00\", \"2016-02-25T00:00:00\", \"2016-02-26T00:00:00\", \"2016-02-27T00:00:00\", \"2016-02-28T00:00:00\", \"2016-02-29T00:00:00\", \"2016-03-01T00:00:00\", \"2016-03-02T00:00:00\", \"2016-03-03T00:00:00\", \"2016-03-04T00:00:00\", \"2016-03-05T00:00:00\", \"2016-03-06T00:00:00\", \"2016-03-07T00:00:00\", \"2016-03-08T00:00:00\", \"2016-03-09T00:00:00\", \"2016-03-10T00:00:00\", \"2016-03-11T00:00:00\", \"2016-03-12T00:00:00\", \"2016-03-13T00:00:00\", \"2016-03-14T00:00:00\", \"2016-03-15T00:00:00\", \"2016-03-16T00:00:00\", \"2016-03-17T00:00:00\", \"2016-03-18T00:00:00\", \"2016-03-19T00:00:00\", \"2016-03-20T00:00:00\", \"2016-03-21T00:00:00\", \"2016-03-22T00:00:00\", \"2016-03-23T00:00:00\", \"2016-03-24T00:00:00\", \"2016-03-25T00:00:00\", \"2016-03-26T00:00:00\", \"2016-03-27T00:00:00\", \"2016-03-28T00:00:00\", \"2016-03-29T00:00:00\", \"2016-03-30T00:00:00\", \"2016-03-31T00:00:00\", \"2016-04-01T00:00:00\", \"2016-04-02T00:00:00\", \"2016-04-03T00:00:00\", \"2016-04-04T00:00:00\", \"2016-04-05T00:00:00\", \"2016-04-06T00:00:00\", \"2016-04-07T00:00:00\", \"2016-04-08T00:00:00\", \"2016-04-09T00:00:00\", \"2016-04-10T00:00:00\", \"2016-04-11T00:00:00\", \"2016-04-12T00:00:00\", \"2016-04-13T00:00:00\", \"2016-04-14T00:00:00\", \"2016-04-15T00:00:00\", \"2016-04-16T00:00:00\", \"2016-04-17T00:00:00\", \"2016-04-18T00:00:00\", \"2016-04-19T00:00:00\", \"2016-04-20T00:00:00\", \"2016-04-21T00:00:00\", \"2016-04-22T00:00:00\", \"2016-04-23T00:00:00\", \"2016-04-24T00:00:00\", \"2016-04-25T00:00:00\", \"2016-04-26T00:00:00\", \"2016-04-27T00:00:00\", \"2016-04-28T00:00:00\", \"2016-04-29T00:00:00\", \"2016-04-30T00:00:00\", \"2016-05-01T00:00:00\", \"2016-05-02T00:00:00\", \"2016-05-03T00:00:00\", \"2016-05-04T00:00:00\", \"2016-05-05T00:00:00\", \"2016-05-06T00:00:00\", \"2016-05-07T00:00:00\", \"2016-05-08T00:00:00\", \"2016-05-09T00:00:00\", \"2016-05-10T00:00:00\", \"2016-05-11T00:00:00\", \"2016-05-12T00:00:00\", \"2016-05-13T00:00:00\", \"2016-05-14T00:00:00\", \"2016-05-15T00:00:00\", \"2016-05-16T00:00:00\", \"2016-05-17T00:00:00\", \"2016-05-18T00:00:00\", \"2016-05-19T00:00:00\", \"2016-05-20T00:00:00\", \"2016-05-21T00:00:00\", \"2016-05-22T00:00:00\", \"2016-05-23T00:00:00\", \"2016-05-24T00:00:00\", \"2016-05-25T00:00:00\", \"2016-05-26T00:00:00\", \"2016-05-27T00:00:00\", \"2016-05-28T00:00:00\", \"2016-05-29T00:00:00\", \"2016-05-30T00:00:00\", \"2016-05-31T00:00:00\", \"2016-06-01T00:00:00\", \"2016-06-02T00:00:00\", \"2016-06-03T00:00:00\", \"2016-06-04T00:00:00\", \"2016-06-05T00:00:00\", \"2016-06-06T00:00:00\", \"2016-06-07T00:00:00\", \"2016-06-08T00:00:00\", \"2016-06-09T00:00:00\", \"2016-06-10T00:00:00\", \"2016-06-11T00:00:00\", \"2016-06-12T00:00:00\", \"2016-06-13T00:00:00\", \"2016-06-14T00:00:00\", \"2016-06-15T00:00:00\", \"2016-06-16T00:00:00\", \"2016-06-17T00:00:00\", \"2016-06-18T00:00:00\", \"2016-06-19T00:00:00\", \"2016-06-20T00:00:00\", \"2016-06-21T00:00:00\", \"2016-06-22T00:00:00\", \"2016-06-23T00:00:00\", \"2016-06-24T00:00:00\", \"2016-06-25T00:00:00\", \"2016-06-26T00:00:00\", \"2016-06-27T00:00:00\", \"2016-06-28T00:00:00\", \"2016-06-29T00:00:00\", \"2016-06-30T00:00:00\", \"2016-07-01T00:00:00\", \"2016-07-02T00:00:00\", \"2016-07-03T00:00:00\", \"2016-07-04T00:00:00\", \"2016-07-05T00:00:00\", \"2016-07-06T00:00:00\", \"2016-07-07T00:00:00\", \"2016-07-08T00:00:00\", \"2016-07-09T00:00:00\", \"2016-07-10T00:00:00\", \"2016-07-11T00:00:00\", \"2016-07-12T00:00:00\", \"2016-07-13T00:00:00\", \"2016-07-14T00:00:00\", \"2016-07-15T00:00:00\", \"2016-07-16T00:00:00\", \"2016-07-17T00:00:00\", \"2016-07-18T00:00:00\", \"2016-07-19T00:00:00\", \"2016-07-20T00:00:00\", \"2016-07-21T00:00:00\", \"2016-07-22T00:00:00\", \"2016-07-23T00:00:00\", \"2016-07-24T00:00:00\", \"2016-07-25T00:00:00\", \"2016-07-26T00:00:00\", \"2016-07-27T00:00:00\", \"2016-07-28T00:00:00\", \"2016-07-29T00:00:00\", \"2016-07-30T00:00:00\", \"2016-07-31T00:00:00\", \"2016-08-01T00:00:00\", \"2016-08-02T00:00:00\", \"2016-08-03T00:00:00\", \"2016-08-04T00:00:00\", \"2016-08-05T00:00:00\", \"2016-08-06T00:00:00\", \"2016-08-07T00:00:00\", \"2016-08-08T00:00:00\", \"2016-08-09T00:00:00\", \"2016-08-10T00:00:00\", \"2016-08-11T00:00:00\", \"2016-08-12T00:00:00\", \"2016-08-13T00:00:00\", \"2016-08-14T00:00:00\", \"2016-08-15T00:00:00\", \"2016-08-16T00:00:00\", \"2016-08-17T00:00:00\", \"2016-08-18T00:00:00\", \"2016-08-19T00:00:00\", \"2016-08-20T00:00:00\", \"2016-08-21T00:00:00\", \"2016-08-22T00:00:00\", \"2016-08-23T00:00:00\", \"2016-08-24T00:00:00\", \"2016-08-25T00:00:00\", \"2016-08-26T00:00:00\", \"2016-08-27T00:00:00\", \"2016-08-28T00:00:00\", \"2016-08-29T00:00:00\", \"2016-08-30T00:00:00\", \"2016-08-31T00:00:00\", \"2016-09-01T00:00:00\", \"2016-09-02T00:00:00\", \"2016-09-03T00:00:00\", \"2016-09-04T00:00:00\", \"2016-09-05T00:00:00\", \"2016-09-06T00:00:00\", \"2016-09-07T00:00:00\", \"2016-09-08T00:00:00\", \"2016-09-09T00:00:00\", \"2016-09-10T00:00:00\", \"2016-09-11T00:00:00\", \"2016-09-12T00:00:00\", \"2016-09-13T00:00:00\", \"2016-09-14T00:00:00\", \"2016-09-15T00:00:00\", \"2016-09-16T00:00:00\", \"2016-09-17T00:00:00\", \"2016-09-18T00:00:00\", \"2016-09-19T00:00:00\", \"2016-09-20T00:00:00\", \"2016-09-21T00:00:00\", \"2016-09-22T00:00:00\", \"2016-09-23T00:00:00\", \"2016-09-24T00:00:00\", \"2016-09-25T00:00:00\", \"2016-09-26T00:00:00\", \"2016-09-27T00:00:00\", \"2016-09-28T00:00:00\", \"2016-09-29T00:00:00\", \"2016-09-30T00:00:00\", \"2016-10-01T00:00:00\", \"2016-10-02T00:00:00\", \"2016-10-03T00:00:00\", \"2016-10-04T00:00:00\", \"2016-10-05T00:00:00\", \"2016-10-06T00:00:00\", \"2016-10-07T00:00:00\", \"2016-10-08T00:00:00\", \"2016-10-09T00:00:00\", \"2016-10-10T00:00:00\", \"2016-10-11T00:00:00\", \"2016-10-12T00:00:00\", \"2016-10-13T00:00:00\", \"2016-10-14T00:00:00\", \"2016-10-15T00:00:00\", \"2016-10-16T00:00:00\", \"2016-10-17T00:00:00\", \"2016-10-18T00:00:00\", \"2016-10-19T00:00:00\", \"2016-10-20T00:00:00\", \"2016-10-21T00:00:00\", \"2016-10-22T00:00:00\", \"2016-10-23T00:00:00\", \"2016-10-24T00:00:00\", \"2016-10-25T00:00:00\", \"2016-10-26T00:00:00\", \"2016-10-27T00:00:00\", \"2016-10-28T00:00:00\", \"2016-10-29T00:00:00\", \"2016-10-30T00:00:00\", \"2016-10-31T00:00:00\", \"2016-11-01T00:00:00\", \"2016-11-02T00:00:00\", \"2016-11-03T00:00:00\", \"2016-11-04T00:00:00\", \"2016-11-05T00:00:00\", \"2016-11-06T00:00:00\", \"2016-11-07T00:00:00\", \"2016-11-08T00:00:00\", \"2016-11-09T00:00:00\", \"2016-11-10T00:00:00\", \"2016-11-11T00:00:00\", \"2016-11-12T00:00:00\", \"2016-11-13T00:00:00\", \"2016-11-14T00:00:00\", \"2016-11-15T00:00:00\", \"2016-11-16T00:00:00\", \"2016-11-17T00:00:00\", \"2016-11-18T00:00:00\", \"2016-11-19T00:00:00\", \"2016-11-20T00:00:00\", \"2016-11-21T00:00:00\", \"2016-11-22T00:00:00\", \"2016-11-23T00:00:00\", \"2016-11-24T00:00:00\", \"2016-11-25T00:00:00\", \"2016-11-26T00:00:00\", \"2016-11-27T00:00:00\", \"2016-11-28T00:00:00\", \"2016-11-29T00:00:00\", \"2016-11-30T00:00:00\", \"2016-12-01T00:00:00\", \"2016-12-02T00:00:00\", \"2016-12-03T00:00:00\", \"2016-12-04T00:00:00\", \"2016-12-05T00:00:00\", \"2016-12-06T00:00:00\", \"2016-12-07T00:00:00\", \"2016-12-08T00:00:00\", \"2016-12-09T00:00:00\", \"2016-12-10T00:00:00\", \"2016-12-11T00:00:00\", \"2016-12-12T00:00:00\", \"2016-12-13T00:00:00\", \"2016-12-14T00:00:00\", \"2016-12-15T00:00:00\", \"2016-12-16T00:00:00\", \"2016-12-17T00:00:00\", \"2016-12-18T00:00:00\", \"2016-12-19T00:00:00\", \"2016-12-20T00:00:00\", \"2016-12-21T00:00:00\", \"2016-12-22T00:00:00\", \"2016-12-23T00:00:00\", \"2016-12-24T00:00:00\", \"2016-12-25T00:00:00\", \"2016-12-26T00:00:00\", \"2016-12-27T00:00:00\", \"2016-12-28T00:00:00\", \"2016-12-29T00:00:00\", \"2016-12-30T00:00:00\", \"2016-12-31T00:00:00\", \"2017-01-01T00:00:00\", \"2017-01-02T00:00:00\", \"2017-01-03T00:00:00\", \"2017-01-04T00:00:00\", \"2017-01-05T00:00:00\", \"2017-01-06T00:00:00\", \"2017-01-07T00:00:00\", \"2017-01-08T00:00:00\", \"2017-01-09T00:00:00\", \"2017-01-10T00:00:00\", \"2017-01-11T00:00:00\", \"2017-01-12T00:00:00\", \"2017-01-13T00:00:00\", \"2017-01-14T00:00:00\", \"2017-01-15T00:00:00\", \"2017-01-16T00:00:00\", \"2017-01-17T00:00:00\", \"2017-01-18T00:00:00\", \"2017-01-19T00:00:00\", \"2017-01-20T00:00:00\", \"2017-01-21T00:00:00\", \"2017-01-22T00:00:00\", \"2017-01-23T00:00:00\", \"2017-01-24T00:00:00\", \"2017-01-25T00:00:00\", \"2017-01-26T00:00:00\", \"2017-01-27T00:00:00\", \"2017-01-28T00:00:00\", \"2017-01-29T00:00:00\", \"2017-01-30T00:00:00\", \"2017-01-31T00:00:00\", \"2017-02-01T00:00:00\", \"2017-02-02T00:00:00\", \"2017-02-03T00:00:00\", \"2017-02-04T00:00:00\", \"2017-02-05T00:00:00\", \"2017-02-06T00:00:00\", \"2017-02-07T00:00:00\", \"2017-02-08T00:00:00\", \"2017-02-09T00:00:00\", \"2017-02-10T00:00:00\", \"2017-02-11T00:00:00\", \"2017-02-12T00:00:00\", \"2017-02-13T00:00:00\", \"2017-02-14T00:00:00\", \"2017-02-15T00:00:00\", \"2017-02-16T00:00:00\", \"2017-02-17T00:00:00\", \"2017-02-18T00:00:00\", \"2017-02-19T00:00:00\", \"2017-02-20T00:00:00\", \"2017-02-21T00:00:00\", \"2017-02-22T00:00:00\", \"2017-02-23T00:00:00\", \"2017-02-24T00:00:00\", \"2017-02-25T00:00:00\", \"2017-02-26T00:00:00\", \"2017-02-27T00:00:00\", \"2017-02-28T00:00:00\", \"2017-03-01T00:00:00\", \"2017-03-02T00:00:00\", \"2017-03-03T00:00:00\", \"2017-03-04T00:00:00\", \"2017-03-05T00:00:00\", \"2017-03-06T00:00:00\", \"2017-03-07T00:00:00\", \"2017-03-08T00:00:00\", \"2017-03-09T00:00:00\", \"2017-03-10T00:00:00\", \"2017-03-11T00:00:00\", \"2017-03-12T00:00:00\", \"2017-03-13T00:00:00\", \"2017-03-14T00:00:00\", \"2017-03-15T00:00:00\", \"2017-03-16T00:00:00\", \"2017-03-17T00:00:00\", \"2017-03-18T00:00:00\", \"2017-03-19T00:00:00\", \"2017-03-20T00:00:00\", \"2017-03-21T00:00:00\", \"2017-03-22T00:00:00\", \"2017-03-23T00:00:00\", \"2017-03-24T00:00:00\", \"2017-03-25T00:00:00\", \"2017-03-26T00:00:00\", \"2017-03-27T00:00:00\", \"2017-03-28T00:00:00\", \"2017-03-29T00:00:00\", \"2017-03-30T00:00:00\", \"2017-03-31T00:00:00\", \"2017-04-01T00:00:00\", \"2017-04-02T00:00:00\", \"2017-04-03T00:00:00\", \"2017-04-04T00:00:00\", \"2017-04-05T00:00:00\", \"2017-04-06T00:00:00\", \"2017-04-07T00:00:00\", \"2017-04-08T00:00:00\", \"2017-04-09T00:00:00\", \"2017-04-10T00:00:00\", \"2017-04-11T00:00:00\", \"2017-04-12T00:00:00\", \"2017-04-13T00:00:00\", \"2017-04-14T00:00:00\", \"2017-04-15T00:00:00\", \"2017-04-16T00:00:00\", \"2017-04-17T00:00:00\", \"2017-04-18T00:00:00\", \"2017-04-19T00:00:00\", \"2017-04-20T00:00:00\", \"2017-04-21T00:00:00\", \"2017-04-22T00:00:00\", \"2017-04-23T00:00:00\", \"2017-04-24T00:00:00\", \"2017-04-25T00:00:00\", \"2017-04-26T00:00:00\", \"2017-04-27T00:00:00\", \"2017-04-28T00:00:00\", \"2017-04-29T00:00:00\", \"2017-04-30T00:00:00\", \"2017-05-01T00:00:00\", \"2017-05-02T00:00:00\", \"2017-05-03T00:00:00\", \"2017-05-04T00:00:00\", \"2017-05-05T00:00:00\", \"2017-05-06T00:00:00\", \"2017-05-07T00:00:00\", \"2017-05-08T00:00:00\", \"2017-05-09T00:00:00\", \"2017-05-10T00:00:00\", \"2017-05-11T00:00:00\", \"2017-05-12T00:00:00\", \"2017-05-13T00:00:00\", \"2017-05-14T00:00:00\", \"2017-05-15T00:00:00\", \"2017-05-16T00:00:00\", \"2017-05-17T00:00:00\", \"2017-05-18T00:00:00\", \"2017-05-19T00:00:00\", \"2017-05-20T00:00:00\", \"2017-05-21T00:00:00\", \"2017-05-22T00:00:00\", \"2017-05-23T00:00:00\", \"2017-05-24T00:00:00\", \"2017-05-25T00:00:00\", \"2017-05-26T00:00:00\", \"2017-05-27T00:00:00\", \"2017-05-28T00:00:00\", \"2017-05-29T00:00:00\", \"2017-05-30T00:00:00\", \"2017-05-31T00:00:00\", \"2017-06-01T00:00:00\", \"2017-06-02T00:00:00\", \"2017-06-03T00:00:00\", \"2017-06-04T00:00:00\", \"2017-06-05T00:00:00\", \"2017-06-06T00:00:00\", \"2017-06-07T00:00:00\", \"2017-06-08T00:00:00\", \"2017-06-09T00:00:00\", \"2017-06-10T00:00:00\", \"2017-06-11T00:00:00\", \"2017-06-12T00:00:00\", \"2017-06-13T00:00:00\", \"2017-06-14T00:00:00\", \"2017-06-15T00:00:00\", \"2017-06-16T00:00:00\", \"2017-06-17T00:00:00\", \"2017-06-18T00:00:00\", \"2017-06-19T00:00:00\", \"2017-06-20T00:00:00\", \"2017-06-21T00:00:00\", \"2017-06-22T00:00:00\", \"2017-06-23T00:00:00\", \"2017-06-24T00:00:00\", \"2017-06-25T00:00:00\", \"2017-06-26T00:00:00\", \"2017-06-27T00:00:00\", \"2017-06-28T00:00:00\", \"2017-06-29T00:00:00\", \"2017-06-30T00:00:00\", \"2017-07-01T00:00:00\", \"2017-07-02T00:00:00\", \"2017-07-03T00:00:00\", \"2017-07-04T00:00:00\", \"2017-07-05T00:00:00\", \"2017-07-06T00:00:00\", \"2017-07-07T00:00:00\", \"2017-07-08T00:00:00\", \"2017-07-09T00:00:00\", \"2017-07-10T00:00:00\", \"2017-07-11T00:00:00\", \"2017-07-12T00:00:00\", \"2017-07-13T00:00:00\", \"2017-07-14T00:00:00\", \"2017-07-15T00:00:00\", \"2017-07-16T00:00:00\", \"2017-07-17T00:00:00\", \"2017-07-18T00:00:00\", \"2017-07-19T00:00:00\", \"2017-07-20T00:00:00\", \"2017-07-21T00:00:00\", \"2017-07-22T00:00:00\", \"2017-07-23T00:00:00\", \"2017-07-24T00:00:00\", \"2017-07-25T00:00:00\", \"2017-07-26T00:00:00\", \"2017-07-27T00:00:00\", \"2017-07-28T00:00:00\", \"2017-07-29T00:00:00\", \"2017-07-30T00:00:00\", \"2017-07-31T00:00:00\", \"2017-08-01T00:00:00\", \"2017-08-02T00:00:00\", \"2017-08-03T00:00:00\", \"2017-08-04T00:00:00\", \"2017-08-05T00:00:00\", \"2017-08-06T00:00:00\", \"2017-08-07T00:00:00\", \"2017-08-08T00:00:00\", \"2017-08-09T00:00:00\", \"2017-08-10T00:00:00\", \"2017-08-11T00:00:00\", \"2017-08-12T00:00:00\", \"2017-08-13T00:00:00\", \"2017-08-14T00:00:00\", \"2017-08-15T00:00:00\", \"2017-08-16T00:00:00\", \"2017-08-17T00:00:00\", \"2017-08-18T00:00:00\", \"2017-08-19T00:00:00\", \"2017-08-20T00:00:00\", \"2017-08-21T00:00:00\", \"2017-08-22T00:00:00\", \"2017-08-23T00:00:00\", \"2017-08-24T00:00:00\", \"2017-08-25T00:00:00\", \"2017-08-26T00:00:00\", \"2017-08-27T00:00:00\", \"2017-08-28T00:00:00\", \"2017-08-29T00:00:00\", \"2017-08-30T00:00:00\", \"2017-08-31T00:00:00\", \"2017-09-01T00:00:00\", \"2017-09-02T00:00:00\", \"2017-09-03T00:00:00\", \"2017-09-04T00:00:00\", \"2017-09-05T00:00:00\", \"2017-09-06T00:00:00\", \"2017-09-07T00:00:00\", \"2017-09-08T00:00:00\", \"2017-09-09T00:00:00\", \"2017-09-10T00:00:00\", \"2017-09-11T00:00:00\", \"2017-09-12T00:00:00\", \"2017-09-13T00:00:00\", \"2017-09-14T00:00:00\", \"2017-09-15T00:00:00\", \"2017-09-16T00:00:00\", \"2017-09-17T00:00:00\", \"2017-09-18T00:00:00\", \"2017-09-19T00:00:00\", \"2017-09-20T00:00:00\", \"2017-09-21T00:00:00\", \"2017-09-22T00:00:00\", \"2017-09-23T00:00:00\", \"2017-09-24T00:00:00\", \"2017-09-25T00:00:00\", \"2017-09-26T00:00:00\", \"2017-09-27T00:00:00\", \"2017-09-28T00:00:00\", \"2017-09-29T00:00:00\", \"2017-09-30T00:00:00\", \"2017-10-01T00:00:00\", \"2017-10-02T00:00:00\", \"2017-10-03T00:00:00\", \"2017-10-04T00:00:00\", \"2017-10-05T00:00:00\", \"2017-10-06T00:00:00\", \"2017-10-07T00:00:00\", \"2017-10-08T00:00:00\", \"2017-10-09T00:00:00\", \"2017-10-10T00:00:00\", \"2017-10-11T00:00:00\", \"2017-10-12T00:00:00\", \"2017-10-13T00:00:00\", \"2017-10-14T00:00:00\", \"2017-10-15T00:00:00\", \"2017-10-16T00:00:00\", \"2017-10-17T00:00:00\", \"2017-10-18T00:00:00\", \"2017-10-19T00:00:00\", \"2017-10-20T00:00:00\", \"2017-10-21T00:00:00\", \"2017-10-22T00:00:00\", \"2017-10-23T00:00:00\", \"2017-10-24T00:00:00\", \"2017-10-25T00:00:00\", \"2017-10-26T00:00:00\", \"2017-10-27T00:00:00\", \"2017-10-28T00:00:00\", \"2017-10-29T00:00:00\", \"2017-10-30T00:00:00\", \"2017-10-31T00:00:00\", \"2017-11-01T00:00:00\", \"2017-11-02T00:00:00\", \"2017-11-03T00:00:00\", \"2017-11-04T00:00:00\", \"2017-11-05T00:00:00\", \"2017-11-06T00:00:00\", \"2017-11-07T00:00:00\", \"2017-11-08T00:00:00\", \"2017-11-09T00:00:00\", \"2017-11-10T00:00:00\", \"2017-11-11T00:00:00\", \"2017-11-12T00:00:00\", \"2017-11-13T00:00:00\", \"2017-11-14T00:00:00\", \"2017-11-15T00:00:00\", \"2017-11-16T00:00:00\", \"2017-11-17T00:00:00\", \"2017-11-18T00:00:00\", \"2017-11-19T00:00:00\", \"2017-11-20T00:00:00\", \"2017-11-21T00:00:00\", \"2017-11-22T00:00:00\", \"2017-11-23T00:00:00\", \"2017-11-24T00:00:00\", \"2017-11-25T00:00:00\", \"2017-11-26T00:00:00\", \"2017-11-27T00:00:00\", \"2017-11-28T00:00:00\", \"2017-11-29T00:00:00\", \"2017-11-30T00:00:00\", \"2017-12-01T00:00:00\", \"2017-12-02T00:00:00\", \"2017-12-03T00:00:00\", \"2017-12-04T00:00:00\", \"2017-12-05T00:00:00\", \"2017-12-06T00:00:00\", \"2017-12-07T00:00:00\", \"2017-12-08T00:00:00\", \"2017-12-09T00:00:00\", \"2017-12-10T00:00:00\", \"2017-12-11T00:00:00\", \"2017-12-12T00:00:00\", \"2017-12-13T00:00:00\", \"2017-12-14T00:00:00\", \"2017-12-15T00:00:00\", \"2017-12-16T00:00:00\", \"2017-12-17T00:00:00\", \"2017-12-18T00:00:00\", \"2017-12-19T00:00:00\", \"2017-12-20T00:00:00\", \"2017-12-21T00:00:00\", \"2017-12-22T00:00:00\", \"2017-12-23T00:00:00\", \"2017-12-24T00:00:00\", \"2017-12-25T00:00:00\", \"2017-12-26T00:00:00\", \"2017-12-27T00:00:00\", \"2017-12-28T00:00:00\", \"2017-12-29T00:00:00\", \"2017-12-30T00:00:00\", \"2017-12-31T00:00:00\", \"2018-01-01T00:00:00\", \"2018-01-02T00:00:00\", \"2018-01-03T00:00:00\", \"2018-01-04T00:00:00\", \"2018-01-05T00:00:00\", \"2018-01-06T00:00:00\", \"2018-01-07T00:00:00\", \"2018-01-08T00:00:00\", \"2018-01-09T00:00:00\", \"2018-01-10T00:00:00\", \"2018-01-11T00:00:00\", \"2018-01-12T00:00:00\", \"2018-01-13T00:00:00\", \"2018-01-14T00:00:00\", \"2018-01-15T00:00:00\", \"2018-01-16T00:00:00\", \"2018-01-17T00:00:00\", \"2018-01-18T00:00:00\", \"2018-01-19T00:00:00\", \"2018-01-20T00:00:00\", \"2018-01-21T00:00:00\", \"2018-01-22T00:00:00\", \"2018-01-23T00:00:00\", \"2018-01-24T00:00:00\", \"2018-01-25T00:00:00\", \"2018-01-26T00:00:00\", \"2018-01-27T00:00:00\", \"2018-01-28T00:00:00\", \"2018-01-29T00:00:00\", \"2018-01-30T00:00:00\", \"2018-01-31T00:00:00\", \"2018-02-01T00:00:00\", \"2018-02-02T00:00:00\", \"2018-02-03T00:00:00\", \"2018-02-04T00:00:00\", \"2018-02-05T00:00:00\", \"2018-02-06T00:00:00\", \"2018-02-07T00:00:00\", \"2018-02-08T00:00:00\", \"2018-02-09T00:00:00\", \"2018-02-10T00:00:00\", \"2018-02-11T00:00:00\", \"2018-02-12T00:00:00\", \"2018-02-13T00:00:00\", \"2018-02-14T00:00:00\", \"2018-02-15T00:00:00\", \"2018-02-16T00:00:00\", \"2018-02-17T00:00:00\", \"2018-02-18T00:00:00\", \"2018-02-19T00:00:00\", \"2018-02-20T00:00:00\", \"2018-02-21T00:00:00\", \"2018-02-22T00:00:00\", \"2018-02-23T00:00:00\", \"2018-02-24T00:00:00\", \"2018-02-25T00:00:00\", \"2018-02-26T00:00:00\", \"2018-02-27T00:00:00\", \"2018-02-28T00:00:00\", \"2018-03-01T00:00:00\", \"2018-03-02T00:00:00\", \"2018-03-03T00:00:00\", \"2018-03-04T00:00:00\", \"2018-03-05T00:00:00\", \"2018-03-06T00:00:00\", \"2018-03-07T00:00:00\", \"2018-03-08T00:00:00\", \"2018-03-09T00:00:00\", \"2018-03-10T00:00:00\", \"2018-03-11T00:00:00\", \"2018-03-12T00:00:00\", \"2018-03-13T00:00:00\", \"2018-03-14T00:00:00\", \"2018-03-15T00:00:00\", \"2018-03-16T00:00:00\", \"2018-03-17T00:00:00\", \"2018-03-18T00:00:00\", \"2018-03-19T00:00:00\", \"2018-03-20T00:00:00\", \"2018-03-21T00:00:00\", \"2018-03-22T00:00:00\", \"2018-03-23T00:00:00\", \"2018-03-24T00:00:00\", \"2018-03-25T00:00:00\", \"2018-03-26T00:00:00\", \"2018-03-27T00:00:00\", \"2018-03-28T00:00:00\", \"2018-03-29T00:00:00\", \"2018-03-30T00:00:00\", \"2018-03-31T00:00:00\", \"2018-04-01T00:00:00\", \"2018-04-02T00:00:00\", \"2018-04-03T00:00:00\", \"2018-04-04T00:00:00\", \"2018-04-05T00:00:00\", \"2018-04-06T00:00:00\", \"2018-04-07T00:00:00\", \"2018-04-08T00:00:00\", \"2018-04-09T00:00:00\", \"2018-04-10T00:00:00\", \"2018-04-11T00:00:00\", \"2018-04-12T00:00:00\", \"2018-04-13T00:00:00\", \"2018-04-14T00:00:00\", \"2018-04-15T00:00:00\", \"2018-04-16T00:00:00\", \"2018-04-17T00:00:00\", \"2018-04-18T00:00:00\", \"2018-04-19T00:00:00\", \"2018-04-20T00:00:00\", \"2018-04-21T00:00:00\", \"2018-04-22T00:00:00\", \"2018-04-23T00:00:00\", \"2018-04-24T00:00:00\", \"2018-04-25T00:00:00\", \"2018-04-26T00:00:00\", \"2018-04-27T00:00:00\", \"2018-04-28T00:00:00\", \"2018-04-29T00:00:00\", \"2018-04-30T00:00:00\", \"2018-05-01T00:00:00\", \"2018-05-02T00:00:00\", \"2018-05-03T00:00:00\", \"2018-05-04T00:00:00\", \"2018-05-05T00:00:00\", \"2018-05-06T00:00:00\", \"2018-05-07T00:00:00\", \"2018-05-08T00:00:00\", \"2018-05-09T00:00:00\", \"2018-05-10T00:00:00\", \"2018-05-11T00:00:00\", \"2018-05-12T00:00:00\", \"2018-05-13T00:00:00\", \"2018-05-14T00:00:00\", \"2018-05-15T00:00:00\", \"2018-05-16T00:00:00\", \"2018-05-17T00:00:00\", \"2018-05-18T00:00:00\", \"2018-05-19T00:00:00\", \"2018-05-20T00:00:00\", \"2018-05-21T00:00:00\", \"2018-05-22T00:00:00\", \"2018-05-23T00:00:00\", \"2018-05-24T00:00:00\", \"2018-05-25T00:00:00\", \"2018-05-26T00:00:00\", \"2018-05-27T00:00:00\", \"2018-05-28T00:00:00\", \"2018-05-29T00:00:00\", \"2018-05-30T00:00:00\", \"2018-05-31T00:00:00\", \"2018-06-01T00:00:00\", \"2018-06-02T00:00:00\", \"2018-06-03T00:00:00\", \"2018-06-04T00:00:00\", \"2018-06-05T00:00:00\", \"2018-06-06T00:00:00\", \"2018-06-07T00:00:00\", \"2018-06-08T00:00:00\", \"2018-06-09T00:00:00\", \"2018-06-10T00:00:00\", \"2018-06-11T00:00:00\", \"2018-06-12T00:00:00\", \"2018-06-13T00:00:00\", \"2018-06-14T00:00:00\", \"2018-06-15T00:00:00\", \"2018-06-16T00:00:00\", \"2018-06-17T00:00:00\", \"2018-06-18T00:00:00\", \"2018-06-19T00:00:00\", \"2018-06-20T00:00:00\", \"2018-06-21T00:00:00\", \"2018-06-22T00:00:00\", \"2018-06-23T00:00:00\", \"2018-06-24T00:00:00\", \"2018-06-25T00:00:00\", \"2018-06-26T00:00:00\", \"2018-06-27T00:00:00\", \"2018-06-28T00:00:00\", \"2018-06-29T00:00:00\", \"2018-06-30T00:00:00\", \"2018-07-01T00:00:00\", \"2018-07-02T00:00:00\", \"2018-07-03T00:00:00\", \"2018-07-04T00:00:00\", \"2018-07-05T00:00:00\", \"2018-07-06T00:00:00\", \"2018-07-07T00:00:00\", \"2018-07-08T00:00:00\", \"2018-07-09T00:00:00\", \"2018-07-10T00:00:00\", \"2018-07-11T00:00:00\", \"2018-07-12T00:00:00\", \"2018-07-13T00:00:00\", \"2018-07-14T00:00:00\", \"2018-07-15T00:00:00\", \"2018-07-16T00:00:00\", \"2018-07-17T00:00:00\", \"2018-07-18T00:00:00\", \"2018-07-19T00:00:00\", \"2018-07-20T00:00:00\", \"2018-07-21T00:00:00\", \"2018-07-22T00:00:00\", \"2018-07-23T00:00:00\", \"2018-07-24T00:00:00\", \"2018-07-25T00:00:00\", \"2018-07-26T00:00:00\", \"2018-07-27T00:00:00\", \"2018-07-28T00:00:00\", \"2018-07-29T00:00:00\", \"2018-07-30T00:00:00\", \"2018-07-31T00:00:00\", \"2018-08-01T00:00:00\", \"2018-08-02T00:00:00\", \"2018-08-03T00:00:00\", \"2018-08-04T00:00:00\", \"2018-08-05T00:00:00\", \"2018-08-06T00:00:00\", \"2018-08-07T00:00:00\", \"2018-08-08T00:00:00\", \"2018-08-09T00:00:00\", \"2018-08-10T00:00:00\", \"2018-08-11T00:00:00\", \"2018-08-12T00:00:00\", \"2018-08-13T00:00:00\", \"2018-08-14T00:00:00\", \"2018-08-15T00:00:00\", \"2018-08-16T00:00:00\", \"2018-08-17T00:00:00\", \"2018-08-18T00:00:00\", \"2018-08-19T00:00:00\", \"2018-08-20T00:00:00\", \"2018-08-21T00:00:00\", \"2018-08-22T00:00:00\", \"2018-08-23T00:00:00\", \"2018-08-24T00:00:00\", \"2018-08-25T00:00:00\", \"2018-08-26T00:00:00\", \"2018-08-27T00:00:00\", \"2018-08-28T00:00:00\", \"2018-08-29T00:00:00\", \"2018-08-30T00:00:00\", \"2018-08-31T00:00:00\", \"2018-09-01T00:00:00\", \"2018-09-02T00:00:00\", \"2018-09-03T00:00:00\", \"2018-09-04T00:00:00\", \"2018-09-05T00:00:00\", \"2018-09-06T00:00:00\", \"2018-09-07T00:00:00\", \"2018-09-08T00:00:00\", \"2018-09-09T00:00:00\", \"2018-09-10T00:00:00\", \"2018-09-11T00:00:00\", \"2018-09-12T00:00:00\", \"2018-09-13T00:00:00\", \"2018-09-14T00:00:00\", \"2018-09-15T00:00:00\", \"2018-09-16T00:00:00\", \"2018-09-17T00:00:00\", \"2018-09-18T00:00:00\", \"2018-09-19T00:00:00\", \"2018-09-20T00:00:00\", \"2018-09-21T00:00:00\", \"2018-09-22T00:00:00\", \"2018-09-23T00:00:00\", \"2018-09-24T00:00:00\", \"2018-09-25T00:00:00\", \"2018-09-26T00:00:00\", \"2018-09-27T00:00:00\", \"2018-09-28T00:00:00\", \"2018-09-29T00:00:00\", \"2018-09-30T00:00:00\", \"2018-10-01T00:00:00\", \"2018-10-02T00:00:00\", \"2018-10-03T00:00:00\", \"2018-10-04T00:00:00\", \"2018-10-05T00:00:00\", \"2018-10-06T00:00:00\", \"2018-10-07T00:00:00\", \"2018-10-08T00:00:00\", \"2018-10-09T00:00:00\", \"2018-10-10T00:00:00\", \"2018-10-11T00:00:00\", \"2018-10-12T00:00:00\", \"2018-10-13T00:00:00\", \"2018-10-14T00:00:00\", \"2018-10-15T00:00:00\", \"2018-10-16T00:00:00\", \"2018-10-17T00:00:00\", \"2018-10-18T00:00:00\", \"2018-10-19T00:00:00\", \"2018-10-20T00:00:00\", \"2018-10-21T00:00:00\", \"2018-10-22T00:00:00\", \"2018-10-23T00:00:00\", \"2018-10-24T00:00:00\", \"2018-10-25T00:00:00\", \"2018-10-26T00:00:00\", \"2018-10-27T00:00:00\", \"2018-10-28T00:00:00\", \"2018-10-29T00:00:00\", \"2018-10-30T00:00:00\", \"2018-10-31T00:00:00\", \"2018-11-01T00:00:00\", \"2018-11-02T00:00:00\", \"2018-11-03T00:00:00\", \"2018-11-04T00:00:00\", \"2018-11-05T00:00:00\", \"2018-11-06T00:00:00\", \"2018-11-07T00:00:00\", \"2018-11-08T00:00:00\", \"2018-11-09T00:00:00\", \"2018-11-10T00:00:00\", \"2018-11-11T00:00:00\", \"2018-11-12T00:00:00\", \"2018-11-13T00:00:00\", \"2018-11-14T00:00:00\", \"2018-11-15T00:00:00\", \"2018-11-16T00:00:00\", \"2018-11-17T00:00:00\", \"2018-11-18T00:00:00\", \"2018-11-19T00:00:00\", \"2018-11-20T00:00:00\", \"2018-11-21T00:00:00\", \"2018-11-22T00:00:00\", \"2018-11-23T00:00:00\", \"2018-11-24T00:00:00\", \"2018-11-25T00:00:00\", \"2018-11-26T00:00:00\", \"2018-11-27T00:00:00\", \"2018-11-28T00:00:00\", \"2018-11-29T00:00:00\", \"2018-11-30T00:00:00\", \"2018-12-01T00:00:00\", \"2018-12-02T00:00:00\", \"2018-12-03T00:00:00\", \"2018-12-04T00:00:00\", \"2018-12-05T00:00:00\", \"2018-12-06T00:00:00\", \"2018-12-07T00:00:00\", \"2018-12-08T00:00:00\", \"2018-12-09T00:00:00\", \"2018-12-10T00:00:00\", \"2018-12-11T00:00:00\", \"2018-12-12T00:00:00\", \"2018-12-13T00:00:00\", \"2018-12-14T00:00:00\", \"2018-12-15T00:00:00\", \"2018-12-16T00:00:00\", \"2018-12-17T00:00:00\", \"2018-12-18T00:00:00\", \"2018-12-19T00:00:00\", \"2018-12-20T00:00:00\", \"2018-12-21T00:00:00\", \"2018-12-22T00:00:00\", \"2018-12-23T00:00:00\", \"2018-12-24T00:00:00\", \"2018-12-25T00:00:00\", \"2018-12-26T00:00:00\", \"2018-12-27T00:00:00\", \"2018-12-28T00:00:00\", \"2018-12-29T00:00:00\", \"2018-12-30T00:00:00\", \"2018-12-31T00:00:00\", \"2019-01-01T00:00:00\", \"2019-01-02T00:00:00\", \"2019-01-03T00:00:00\", \"2019-01-04T00:00:00\", \"2019-01-05T00:00:00\", \"2019-01-06T00:00:00\", \"2019-01-07T00:00:00\", \"2019-01-08T00:00:00\", \"2019-01-09T00:00:00\", \"2019-01-10T00:00:00\", \"2019-01-11T00:00:00\", \"2019-01-12T00:00:00\", \"2019-01-13T00:00:00\", \"2019-01-14T00:00:00\", \"2019-01-15T00:00:00\", \"2019-01-16T00:00:00\", \"2019-01-17T00:00:00\", \"2019-01-18T00:00:00\", \"2019-01-19T00:00:00\", \"2019-01-20T00:00:00\", \"2019-01-21T00:00:00\", \"2019-01-22T00:00:00\", \"2019-01-23T00:00:00\", \"2019-01-24T00:00:00\", \"2019-01-25T00:00:00\", \"2019-01-26T00:00:00\", \"2019-01-27T00:00:00\", \"2019-01-28T00:00:00\", \"2019-01-29T00:00:00\", \"2019-01-30T00:00:00\", \"2019-01-31T00:00:00\", \"2019-02-01T00:00:00\", \"2019-02-02T00:00:00\", \"2019-02-03T00:00:00\", \"2019-02-04T00:00:00\", \"2019-02-05T00:00:00\", \"2019-02-06T00:00:00\", \"2019-02-07T00:00:00\", \"2019-02-08T00:00:00\", \"2019-02-09T00:00:00\", \"2019-02-10T00:00:00\", \"2019-02-11T00:00:00\", \"2019-02-12T00:00:00\", \"2019-02-13T00:00:00\", \"2019-02-14T00:00:00\", \"2019-02-15T00:00:00\", \"2019-02-16T00:00:00\", \"2019-02-17T00:00:00\", \"2019-02-18T00:00:00\", \"2019-02-19T00:00:00\", \"2019-02-20T00:00:00\", \"2019-02-21T00:00:00\", \"2019-02-22T00:00:00\", \"2019-02-23T00:00:00\", \"2019-02-24T00:00:00\", \"2019-02-25T00:00:00\", \"2019-02-26T00:00:00\", \"2019-02-27T00:00:00\", \"2019-02-28T00:00:00\", \"2019-03-01T00:00:00\", \"2019-03-02T00:00:00\", \"2019-03-03T00:00:00\", \"2019-03-04T00:00:00\", \"2019-03-05T00:00:00\", \"2019-03-06T00:00:00\", \"2019-03-07T00:00:00\", \"2019-03-08T00:00:00\", \"2019-03-09T00:00:00\", \"2019-03-10T00:00:00\", \"2019-03-11T00:00:00\", \"2019-03-12T00:00:00\", \"2019-03-13T00:00:00\", \"2019-03-14T00:00:00\", \"2019-03-15T00:00:00\", \"2019-03-16T00:00:00\", \"2019-03-17T00:00:00\", \"2019-03-18T00:00:00\", \"2019-03-19T00:00:00\", \"2019-03-20T00:00:00\", \"2019-03-21T00:00:00\", \"2019-03-22T00:00:00\", \"2019-03-23T00:00:00\", \"2019-03-24T00:00:00\", \"2019-03-25T00:00:00\", \"2019-03-26T00:00:00\", \"2019-03-27T00:00:00\", \"2019-03-28T00:00:00\", \"2019-03-29T00:00:00\", \"2019-03-30T00:00:00\", \"2019-03-31T00:00:00\", \"2019-04-01T00:00:00\", \"2019-04-02T00:00:00\", \"2019-04-03T00:00:00\", \"2019-04-04T00:00:00\", \"2019-04-05T00:00:00\", \"2019-04-06T00:00:00\", \"2019-04-07T00:00:00\", \"2019-04-08T00:00:00\", \"2019-04-09T00:00:00\", \"2019-04-10T00:00:00\", \"2019-04-11T00:00:00\", \"2019-04-12T00:00:00\", \"2019-04-13T00:00:00\", \"2019-04-14T00:00:00\", \"2019-04-15T00:00:00\", \"2019-04-16T00:00:00\", \"2019-04-17T00:00:00\", \"2019-04-18T00:00:00\", \"2019-04-19T00:00:00\", \"2019-04-20T00:00:00\", \"2019-04-21T00:00:00\", \"2019-04-22T00:00:00\", \"2019-04-23T00:00:00\", \"2019-04-24T00:00:00\", \"2019-04-25T00:00:00\", \"2019-04-26T00:00:00\", \"2019-04-27T00:00:00\", \"2019-04-28T00:00:00\", \"2019-04-29T00:00:00\", \"2019-04-30T00:00:00\", \"2019-05-01T00:00:00\", \"2019-05-02T00:00:00\", \"2019-05-03T00:00:00\", \"2019-05-04T00:00:00\", \"2019-05-05T00:00:00\", \"2019-05-06T00:00:00\", \"2019-05-07T00:00:00\", \"2019-05-08T00:00:00\", \"2019-05-09T00:00:00\", \"2019-05-10T00:00:00\", \"2019-05-11T00:00:00\", \"2019-05-12T00:00:00\", \"2019-05-13T00:00:00\", \"2019-05-14T00:00:00\", \"2019-05-15T00:00:00\", \"2019-05-16T00:00:00\", \"2019-05-17T00:00:00\", \"2019-05-18T00:00:00\", \"2019-05-19T00:00:00\", \"2019-05-20T00:00:00\", \"2019-05-21T00:00:00\", \"2019-05-22T00:00:00\", \"2019-05-23T00:00:00\", \"2019-05-24T00:00:00\", \"2019-05-25T00:00:00\", \"2019-05-26T00:00:00\", \"2019-05-27T00:00:00\", \"2019-05-28T00:00:00\", \"2019-05-29T00:00:00\", \"2019-05-30T00:00:00\", \"2019-05-31T00:00:00\", \"2019-06-01T00:00:00\", \"2019-06-02T00:00:00\", \"2019-06-03T00:00:00\", \"2019-06-04T00:00:00\", \"2019-06-05T00:00:00\", \"2019-06-06T00:00:00\", \"2019-06-07T00:00:00\", \"2019-06-08T00:00:00\", \"2019-06-09T00:00:00\", \"2019-06-10T00:00:00\", \"2019-06-11T00:00:00\", \"2019-06-12T00:00:00\", \"2019-06-13T00:00:00\", \"2019-06-14T00:00:00\", \"2019-06-15T00:00:00\", \"2019-06-16T00:00:00\", \"2019-06-17T00:00:00\", \"2019-06-18T00:00:00\", \"2019-06-19T00:00:00\", \"2019-06-20T00:00:00\", \"2019-06-21T00:00:00\", \"2019-06-22T00:00:00\", \"2019-06-23T00:00:00\", \"2019-06-24T00:00:00\", \"2019-06-25T00:00:00\", \"2019-06-26T00:00:00\", \"2019-06-27T00:00:00\", \"2019-06-28T00:00:00\", \"2019-06-29T00:00:00\", \"2019-06-30T00:00:00\", \"2019-07-01T00:00:00\", \"2019-07-02T00:00:00\", \"2019-07-03T00:00:00\", \"2019-07-04T00:00:00\", \"2019-07-05T00:00:00\", \"2019-07-06T00:00:00\", \"2019-07-07T00:00:00\", \"2019-07-08T00:00:00\", \"2019-07-09T00:00:00\", \"2019-07-10T00:00:00\", \"2019-07-11T00:00:00\", \"2019-07-12T00:00:00\", \"2019-07-13T00:00:00\", \"2019-07-14T00:00:00\", \"2019-07-15T00:00:00\", \"2019-07-16T00:00:00\", \"2019-07-17T00:00:00\", \"2019-07-18T00:00:00\", \"2019-07-19T00:00:00\", \"2019-07-20T00:00:00\", \"2019-07-21T00:00:00\", \"2019-07-22T00:00:00\", \"2019-07-23T00:00:00\", \"2019-07-24T00:00:00\", \"2019-07-25T00:00:00\", \"2019-07-26T00:00:00\", \"2019-07-27T00:00:00\", \"2019-07-28T00:00:00\", \"2019-07-29T00:00:00\", \"2019-07-30T00:00:00\", \"2019-07-31T00:00:00\", \"2019-08-01T00:00:00\", \"2019-08-02T00:00:00\", \"2019-08-03T00:00:00\", \"2019-08-04T00:00:00\", \"2019-08-05T00:00:00\", \"2019-08-06T00:00:00\", \"2019-08-07T00:00:00\", \"2019-08-08T00:00:00\", \"2019-08-09T00:00:00\", \"2019-08-10T00:00:00\", \"2019-08-11T00:00:00\", \"2019-08-12T00:00:00\", \"2019-08-13T00:00:00\", \"2019-08-14T00:00:00\", \"2019-08-15T00:00:00\", \"2019-08-16T00:00:00\", \"2019-08-17T00:00:00\", \"2019-08-18T00:00:00\", \"2019-08-19T00:00:00\", \"2019-08-20T00:00:00\", \"2019-08-21T00:00:00\", \"2019-08-22T00:00:00\", \"2019-08-23T00:00:00\", \"2019-08-24T00:00:00\"], \"y\": [-0.7178274989128113, -0.7163571119308472, -0.7155385613441467, -0.7117614150047302, -0.7052521705627441, -0.6973136067390442, -0.7000768184661865, -0.7082098722457886, -0.7172678112983704, -0.7238519787788391, -0.7272533178329468, -0.7278185486793518, -0.7269114851951599, -0.7257276177406311, -0.7245268225669861, -0.7228540182113647, -0.720740556716919, -0.7189562916755676, -0.7176723480224609, -0.7166621088981628, -0.7146610021591187, -0.713841438293457, -0.7145028710365295, -0.7152135968208313, -0.7151577472686768, -0.7146507501602173, -0.7147090435028076, -0.7175273895263672, -0.7211795449256897, -0.72444748878479, -0.7243750691413879, -0.7233899235725403, -0.7226583957672119, -0.7227907180786133, -0.7227298021316528, -0.7227264642715454, -0.7220785617828369, -0.7217743992805481, -0.721676766872406, -0.7217279672622681, -0.7227070331573486, -0.7234071493148804, -0.7232009172439575, -0.7222254276275635, -0.7214376330375671, -0.7212232947349548, -0.7212147116661072, -0.721281886100769, -0.7211835980415344, -0.7204869985580444, -0.7193313241004944, -0.7184977531433105, -0.7180309295654297, -0.718307614326477, -0.7186808586120605, -0.7184681296348572, -0.718209981918335, -0.7182354927062988, -0.7182790637016296, -0.7188453674316406, -0.7193721532821655, -0.7199675440788269, -0.7202320098876953, -0.7205790877342224, -0.7217569947242737, -0.7228829860687256, -0.7244642972946167, -0.7250442504882812, -0.7247675061225891, -0.7244098782539368, -0.724818229675293, -0.7252904176712036, -0.7254918217658997, -0.7254708409309387, -0.7254262566566467, -0.7253814339637756, -0.7253369688987732, -0.725292444229126, -0.7254553437232971, -0.725766122341156, -0.7259469628334045, -0.7261590957641602, -0.7264465689659119, -0.7269692420959473, -0.7276446223258972, -0.7284010052680969, -0.7290698885917664, -0.7296499609947205, -0.7301836013793945, -0.7299863696098328, -0.7308070063591003, -0.7314464449882507, -0.7331451773643494, -0.7339836955070496, -0.7339075207710266, -0.7334311008453369, -0.7331128120422363, -0.7317585945129395, -0.7303259968757629, -0.7292802333831787, -0.7287348508834839, -0.7283446192741394, -0.7280290126800537, -0.728094220161438, -0.728326678276062, -0.7291651368141174, -0.7298026084899902, -0.7300773859024048, -0.7300444841384888, -0.7300200462341309, -0.7298771739006042, -0.7295793294906616, -0.7292647361755371, -0.7290080189704895, -0.7290773987770081, -0.7289259433746338, -0.7284532189369202, -0.7279278039932251, -0.727542519569397, -0.7272433042526245, -0.7271601557731628, -0.7271497249603271, -0.7271277904510498, -0.7270148992538452, -0.7268567681312561, -0.7268186211585999, -0.7271562814712524, -0.7274481058120728, -0.7275453209877014, -0.7274860739707947, -0.727410078048706, -0.7272462844848633, -0.7270007133483887, -0.7267118096351624, -0.7264188528060913, -0.7261260151863098, -0.725832998752594, -0.7255401015281677, -0.7251335978507996, -0.7246212959289551, -0.7240539789199829, -0.7238470315933228, -0.723710298538208, -0.7234864830970764, -0.7231358289718628, -0.7226546406745911, -0.7220686674118042, -0.7214285731315613, -0.7205445766448975, -0.7194387912750244, -0.7184106111526489, -0.717997670173645, -0.7183864712715149, -0.7192727327346802, -0.7198508977890015, -0.7206504344940186, -0.7210252285003662, -0.7209515571594238, -0.7205209732055664, -0.7199167013168335, -0.7191851735115051, -0.7187049388885498, -0.718512237071991, -0.7186145186424255, -0.7188620567321777, -0.7189445495605469, -0.7188786268234253, -0.7187578082084656, -0.7188305854797363, -0.7190685272216797, -0.719391405582428, -0.7196195125579834, -0.7197526097297668, -0.7197757363319397, -0.7197375893592834, -0.7194969058036804, -0.719091534614563, -0.7187938690185547, -0.7186667919158936, -0.7186329960823059, -0.7186083197593689, -0.7212058305740356, -0.7226225733757019, -0.7219498157501221, -0.7207245826721191, -0.7201192378997803, -0.7198677062988281, -0.7195882797241211, -0.7192796468734741, -0.7190202474594116, -0.7188168168067932, -0.7186496257781982, -0.7181148529052734, -0.7172356247901917, -0.7157970666885376, -0.7153868675231934, -0.714795708656311, -0.7133768200874329, -0.7106651663780212, -0.7087218165397644, -0.706510066986084, -0.7037233710289001, -0.7003600001335144, -0.6994547247886658, -0.6996777057647705, -0.7000089287757874, -0.6998816728591919, -0.6997014880180359, -0.6995410323143005, -0.6993988752365112, -0.6986484527587891, -0.698161244392395, -0.6976766586303711, -0.6968609690666199, -0.6942381858825684, -0.690392792224884, -0.6850947141647339, -0.6789446473121643, -0.6701894998550415, -0.6634957194328308, -0.6624281406402588, -0.6613587141036987, -0.6588600277900696, -0.6522243618965149, -0.6448293328285217, -0.640870988368988, -0.6373512744903564, -0.6300950050354004, -0.6019377708435059, -0.595514714717865, -0.5914820432662964, -0.5767018795013428, -0.554832398891449, -0.5360270738601685, -0.5307998061180115, -0.5294077396392822, -0.5167228579521179, -0.4994491636753082, -0.4830901026725769, -0.4601619839668274, -0.44691547751426697, -0.46341875195503235, -0.47016143798828125, -0.4675450325012207, -0.45158839225769043, -0.4571363925933838, -0.4919009506702423, -0.533484935760498, -0.544010579586029, -0.5267121195793152, -0.5007439851760864, -0.499092698097229, -0.5061604380607605, -0.509655237197876, -0.5131645798683167, -0.5147770643234253, -0.5368415713310242, -0.5557544827461243, -0.5848276019096375, -0.5818905234336853, -0.5819858312606812, -0.5834706425666809, -0.5862545967102051, -0.5803767442703247, -0.5753147602081299, -0.5701276659965515, -0.5590781569480896, -0.5535764098167419, -0.5535245537757874, -0.5541689395904541, -0.5522673726081848, -0.5511870384216309, -0.5478755831718445, -0.5421872138977051, -0.5354334115982056, -0.5289820432662964, -0.5160220861434937, -0.5056328177452087, -0.5169899463653564, -0.524852991104126, -0.5272051692008972, -0.5221050977706909, -0.51384437084198, -0.514423668384552, -0.5199218988418579, -0.5254507660865784, -0.5242480635643005, -0.5254356861114502, -0.5290913581848145, -0.530560314655304, -0.5262548923492432, -0.5243186950683594, -0.5247101783752441, -0.5261987447738647, -0.5277770161628723, -0.5286495089530945, -0.528792679309845, -0.5284668803215027, -0.5361655950546265, -0.538364589214325, -0.53696608543396, -0.5336863398551941, -0.5317232608795166, -0.5299450159072876, -0.528745710849762, -0.529220461845398, -0.531607985496521, -0.5350600481033325, -0.5391213297843933, -0.5487393736839294, -0.5586301684379578, -0.5636963248252869, -0.5642176866531372, -0.5660083889961243, -0.5700907111167908, -0.5779499411582947, -0.5803566575050354, -0.5773155093193054, -0.5780528783798218, -0.5799680948257446, -0.5809440612792969, -0.5810968279838562, -0.5887516140937805, -0.592932939529419, -0.5905747413635254, -0.5868378281593323, -0.5942533612251282, -0.6019994020462036, -0.5998964309692383, -0.5969561338424683, -0.5980297327041626, -0.5996406674385071, -0.5990540981292725, -0.5846293568611145, -0.5731658339500427, -0.5682805776596069, -0.5685308575630188, -0.573161780834198, -0.5765866637229919, -0.5778472423553467, -0.5774442553520203, -0.5771445035934448, -0.5769556164741516, -0.5767733454704285, -0.5769128203392029, -0.577326774597168, -0.5778780579566956, -0.5796840190887451, -0.582552433013916, -0.5859507322311401, -0.5893780589103699, -0.5931954383850098, -0.5961583852767944, -0.5983186364173889, -0.5959874391555786, -0.5937232375144958, -0.592799186706543, -0.605765700340271, -0.6136233806610107, -0.6175620555877686, -0.6197507977485657, -0.6242832541465759, -0.6243635416030884, -0.6276236176490784, -0.6291373372077942, -0.6300173997879028, -0.6279056072235107, -0.6269502639770508, -0.6281846761703491, -0.6300264000892639, -0.6313166618347168, -0.6409742832183838, -0.6422425508499146, -0.6399878263473511, -0.6379552483558655, -0.6333947777748108, -0.6219266057014465, -0.6123950481414795, -0.6117128729820251, -0.6162996888160706, -0.6190261244773865, -0.6188997626304626, -0.6175189018249512, -0.6176173090934753, -0.6174272298812866, -0.6164811253547668, -0.6197479367256165, -0.6239443421363831, -0.6299804449081421, -0.632769763469696, -0.6329366564750671, -0.6313234567642212, -0.6289081573486328, -0.6286017894744873, -0.630370020866394, -0.6323999762535095, -0.6337428689002991, -0.634706974029541, -0.635052502155304, -0.634865403175354, -0.6344061493873596, -0.6339262127876282, -0.6334461569786072, -0.6326064467430115, -0.6319184303283691, -0.6314834952354431, -0.6310829520225525, -0.6306611895561218, -0.6304478645324707, -0.6304424405097961, -0.6280203461647034, -0.6233934760093689, -0.6195275783538818, -0.6135777831077576, -0.6102532744407654, -0.6060464382171631, -0.6007147431373596, -0.5958731770515442, -0.5947207808494568, -0.5941962003707886, -0.5914102792739868, -0.5865306258201599, -0.5827758312225342, -0.5805484652519226, -0.5759721398353577, -0.5716673731803894, -0.5727707743644714, -0.5727121829986572, -0.5737283825874329, -0.5730019211769104, -0.5725439786911011, -0.573093056678772, -0.5739967823028564, -0.5774851441383362, -0.5865579843521118, -0.5907164216041565, -0.5943486094474792, -0.5929569602012634, -0.5921806693077087, -0.5891289114952087, -0.5871135592460632, -0.5877146124839783, -0.5894855856895447, -0.5904263257980347, -0.5894322395324707, -0.589898943901062, -0.5923803448677063, -0.5960702896118164, -0.595892071723938, -0.5922363996505737, -0.5902279019355774, -0.5890025496482849, -0.5836945176124573, -0.5793572068214417, -0.5759567618370056, -0.5749021172523499, -0.5768600106239319, -0.5786994695663452, -0.5791447162628174, -0.5802107453346252, -0.581036388874054, -0.5816835761070251, -0.5824428796768188, -0.5808835029602051, -0.5789352655410767, -0.5785620808601379, -0.5802525877952576, -0.5813962817192078, -0.5824027061462402, -0.581836998462677, -0.5804407596588135, -0.5796618461608887, -0.5799403190612793, -0.5808898210525513, -0.5818192958831787, -0.5822092294692993, -0.5843044519424438, -0.5861361026763916, -0.5879209041595459, -0.5891513824462891, -0.5902014970779419, -0.5911645889282227, -0.5943701267242432, -0.5945014357566833, -0.5919184684753418, -0.5904812812805176, -0.5906005501747131, -0.591102123260498, -0.592017650604248, -0.5928094983100891, -0.5926611423492432, -0.5918547511100769, -0.591189980506897, -0.5907868146896362, -0.5925816297531128, -0.5948284864425659, -0.5985417366027832, -0.6058609485626221, -0.6118512153625488, -0.6121714115142822, -0.6134573817253113, -0.6177567839622498, -0.6193728446960449, -0.6160223484039307, -0.6123437285423279, -0.6112504005432129, -0.6135836243629456, -0.6143514513969421, -0.6146544814109802, -0.6133129596710205, -0.6126865148544312, -0.612989068031311, -0.6133119463920593, -0.614258885383606, -0.6176150441169739, -0.620699405670166, -0.6223870515823364, -0.6227343082427979, -0.6210452914237976, -0.6209174990653992, -0.6211020946502686, -0.6217371225357056, -0.6229950189590454, -0.6234681606292725, -0.622913122177124, -0.6222672462463379, -0.6225634217262268, -0.6224361658096313, -0.6224551796913147, -0.6231805682182312, -0.6246176958084106, -0.6267922520637512, -0.6313040852546692, -0.6381930708885193, -0.6410276889801025, -0.642378032207489, -0.6428719758987427, -0.6386652588844299, -0.6365291476249695, -0.6377347111701965, -0.6404563188552856, -0.6424355506896973, -0.6461288928985596, -0.6490541100502014, -0.6486716866493225, -0.647789716720581, -0.6484601497650146, -0.6515673995018005, -0.6576084494590759, -0.662316083908081, -0.6638011932373047, -0.6628132462501526, -0.659468948841095, -0.6559913158416748, -0.6543598771095276, -0.6539344787597656, -0.6520509123802185, -0.6486585736274719, -0.645270586013794, -0.644372820854187, -0.6458103060722351, -0.6473504304885864, -0.6471707820892334, -0.6466799974441528, -0.6473870873451233, -0.6477140784263611, -0.6480854749679565, -0.6511778831481934, -0.6537333726882935, -0.656046450138092, -0.6563394069671631, -0.6566745638847351, -0.6562627553939819, -0.6582039594650269, -0.6588446497917175, -0.6597803831100464, -0.6617355942726135, -0.6635510325431824, -0.6640774607658386, -0.6635205149650574, -0.6620737314224243, -0.659669816493988, -0.6589077115058899, -0.6585985422134399, -0.6563342213630676, -0.6540485620498657, -0.6524806618690491, -0.6454106569290161, -0.6403813362121582, -0.6403626203536987, -0.6451210975646973, -0.6469710469245911, -0.6470590233802795, -0.6481977701187134, -0.6491514444351196, -0.6520727872848511, -0.65485018491745, -0.6562135219573975, -0.6547809839248657, -0.6522881388664246, -0.6505568027496338, -0.6509150266647339, -0.6515335440635681, -0.6511315703392029, -0.6505277156829834, -0.6501857042312622, -0.6500738859176636, -0.6496519446372986, -0.6496543288230896, -0.6505735516548157, -0.6507014036178589, -0.6505480408668518, -0.6502375602722168, -0.6517001390457153, -0.6542652249336243, -0.6568568348884583, -0.6577596068382263, -0.6572743058204651, -0.6568412780761719, -0.6561108231544495, -0.656573474407196, -0.6594395637512207, -0.6627247333526611, -0.6656132936477661, -0.6663557291030884, -0.6647543907165527, -0.6643675565719604, -0.6634276509284973, -0.6622410416603088, -0.6628129482269287, -0.6643284559249878, -0.664286732673645, -0.6642101407051086, -0.6649945378303528, -0.6663579940795898, -0.6673953533172607, -0.6667463779449463, -0.6661824584007263, -0.66627436876297, -0.6707301735877991, -0.6763157844543457, -0.6791362762451172, -0.6788453459739685, -0.6773277521133423, -0.6757099032402039, -0.6740915179252625, -0.6752337217330933, -0.6778417825698853, -0.6796607971191406, -0.6847232580184937, -0.6951026916503906, -0.6985439658164978, -0.6979869604110718, -0.6973943710327148, -0.6972870230674744, -0.6959831118583679, -0.6952000260353088, -0.6933566331863403, -0.6911822557449341, -0.6888344883918762, -0.6867632269859314, -0.6849281787872314, -0.6816465258598328, -0.6804718971252441, -0.6836622953414917, -0.6871375441551208, -0.6894752383232117, -0.691531240940094, -0.6919891834259033, -0.6903889179229736, -0.6894280314445496, -0.6900113224983215, -0.6920410394668579, -0.6926681399345398, -0.6925082206726074, -0.6921326518058777, -0.6924014687538147, -0.6927540898323059, -0.6930612325668335, -0.6928002238273621, -0.6909096837043762, -0.6870374083518982, -0.6866224408149719, -0.6877915263175964, -0.6887040138244629, -0.6884264945983887, -0.6878970861434937, -0.6876055002212524, -0.6875432729721069, -0.6876002550125122, -0.6876674890518188, -0.6873937845230103, -0.6868084669113159, -0.6860620975494385, -0.685300886631012, -0.6845397353172302, -0.6830475926399231, -0.6808894276618958, -0.6783851385116577, -0.6780737638473511, -0.6782936453819275, -0.678615152835846, -0.6781370043754578, -0.6771520376205444, -0.675804615020752, -0.6746399998664856, -0.6733211874961853, -0.6725649833679199, -0.6737005114555359, -0.6750901937484741, -0.6754518151283264, -0.6748042106628418, -0.6750056147575378, -0.6784664988517761, -0.6808905601501465, -0.6817685961723328, -0.6818267107009888, -0.6810604333877563, -0.6805686950683594, -0.6827273964881897, -0.68475741147995, -0.685443639755249, -0.6853663921356201, -0.684807300567627, -0.6846327185630798, -0.6849105358123779, -0.6853483319282532, -0.6856306195259094, -0.6849992871284485, -0.6842495799064636, -0.6837510466575623, -0.6835700869560242, -0.6834436655044556, -0.6835792064666748, -0.6847503185272217, -0.6858870387077332, -0.6869178414344788, -0.6878488063812256, -0.6884176731109619, -0.6901313662528992, -0.692336916923523, -0.6930020451545715, -0.6927363276481628, -0.6924179196357727, -0.6923168897628784, -0.6923374533653259, -0.6921824216842651, -0.6907491683959961, -0.6897560358047485, -0.6891224980354309, -0.6894729733467102, -0.6903883814811707, -0.6910715699195862, -0.6912434697151184, -0.6914100646972656, -0.6909463405609131, -0.6898273229598999, -0.6895635724067688, -0.6894794702529907, -0.6887865662574768, -0.6882244348526001, -0.6883955597877502, -0.6895380020141602, -0.6894435286521912, -0.6882231831550598, -0.6873013377189636, -0.687096118927002, -0.6871979832649231, -0.6875486969947815, -0.6881420612335205, -0.6885696053504944, -0.6887403726577759, -0.6887722015380859, -0.6887913346290588, -0.6891040205955505, -0.689568042755127, -0.6895394921302795, -0.6892616152763367, -0.6890304088592529, -0.6889530420303345, -0.6889117360115051, -0.6888726353645325, -0.6888332962989807, -0.6888548731803894, -0.6890684366226196, -0.6894360184669495, -0.6898710131645203, -0.6903120279312134, -0.6911839842796326, -0.6916481256484985, -0.6918149590492249, -0.6919947862625122, -0.6920830607414246, -0.6919696927070618, -0.6920848488807678, -0.6920680999755859, -0.6918090581893921, -0.6913489699363708, -0.6909239888191223, -0.6905499696731567, -0.6902031898498535, -0.6899508833885193, -0.6893884539604187, -0.6882866621017456, -0.6867989301681519, -0.6860837936401367, -0.686175525188446, -0.6863600015640259, -0.6865030527114868, -0.6863016486167908, -0.6863492727279663, -0.6868631839752197, -0.6871304512023926, -0.6866190433502197, -0.6855373978614807, -0.6845353841781616, -0.6837503910064697, -0.6826112866401672, -0.6820432543754578, -0.6821541786193848, -0.6827118396759033, -0.6821908950805664, -0.6806524395942688, -0.6797848343849182, -0.6799606680870056, -0.6801850199699402, -0.6799914836883545, -0.6790741086006165, -0.6776971220970154, -0.6760929822921753, -0.6744688749313354, -0.6740947961807251, -0.674483597278595, -0.6752544045448303, -0.6760219931602478, -0.6768369674682617, -0.6771909594535828, -0.6771231293678284, -0.6772444248199463, -0.677319347858429, -0.6766852736473083, -0.6753914952278137, -0.6742649674415588, -0.6735121607780457, -0.6730491518974304, -0.6730546951293945, -0.6734378933906555, -0.673902690410614, -0.6742948293685913, -0.6746417880058289, -0.6749850511550903, -0.6753285527229309, -0.6756716370582581, -0.6760149002075195, -0.6762837767601013, -0.6764855980873108, -0.6786094307899475, -0.6803691387176514, -0.6811110973358154, -0.6802413463592529, -0.679869532585144, -0.6799747347831726, -0.6803483963012695, -0.6809869408607483, -0.6828898787498474, -0.6858243942260742, -0.6892183423042297, -0.690603494644165, -0.6901242136955261, -0.6895435452461243, -0.6896674633026123, -0.6902920007705688, -0.691035807132721, -0.6918221712112427, -0.6919004917144775, -0.6917948722839355, -0.6909441947937012, -0.6904280185699463, -0.6903685927391052, -0.6904134154319763, -0.6906263828277588, -0.6908453702926636, -0.6910407543182373, -0.6907153129577637, -0.6898353099822998, -0.6886140704154968, -0.6878698468208313, -0.6871619820594788, -0.687384843826294, -0.6878966093063354, -0.6884394288063049, -0.6887876987457275, -0.6892601847648621, -0.6898661851882935, -0.6902434825897217, -0.6905592679977417, -0.6906713247299194, -0.6906391978263855, -0.6904973387718201, -0.6906257271766663, -0.691010594367981, -0.6908653974533081, -0.690646231174469, -0.6900079250335693, -0.6894199252128601, -0.6892043352127075, -0.6889507174491882, -0.6884381771087646, -0.6882935762405396, -0.6884852051734924, -0.6885855197906494, -0.6884396076202393, -0.6881487965583801, -0.6880117654800415, -0.6878509521484375, -0.6876126527786255, -0.6872941851615906, -0.6869680881500244, -0.6866419315338135, -0.6863158345222473, -0.6858582496643066, -0.6858013272285461, -0.6855241060256958, -0.6849101185798645, -0.6837946772575378, -0.6824472546577454, -0.6808069348335266, -0.6801064610481262, -0.6803356409072876, -0.6800694465637207, -0.6798874735832214, -0.6789944767951965, -0.6779516935348511, -0.6767163872718811, -0.675936758518219, -0.6749120950698853, -0.6735532879829407, -0.671491801738739, -0.6690646409988403, -0.6660223603248596, -0.6660985350608826, -0.6654359698295593, -0.6606286764144897, -0.6512552499771118, -0.6444365382194519, -0.6439990997314453, -0.6472816467285156, -0.6486436724662781, -0.6497292518615723, -0.6498108506202698, -0.6547873020172119, -0.661888837814331, -0.663611888885498, -0.6623357534408569, -0.6620279550552368, -0.6638419032096863, -0.6638994216918945, -0.6626209616661072, -0.6615482568740845, -0.6623103618621826, -0.6637665629386902, -0.6642040014266968, -0.6642852425575256, -0.6645644307136536, -0.6651579141616821, -0.6644631028175354, -0.6607665419578552, -0.6572946906089783, -0.6556339263916016, -0.6537382006645203, -0.6516299247741699, -0.6513176560401917, -0.6528921127319336, -0.6539685726165771, -0.6539787650108337, -0.6508492231369019, -0.6481418609619141, -0.6459696292877197, -0.6426593661308289, -0.6401017904281616, -0.6390864253044128, -0.6347329616546631, -0.6329025626182556, -0.6330342292785645, -0.6322500705718994, -0.6290122270584106, -0.6276212334632874, -0.6274101734161377, -0.6273563504219055, -0.6268187761306763, -0.6278787851333618, -0.6303789615631104, -0.6325104832649231, -0.6339787840843201, -0.6351758241653442, -0.6364491581916809, -0.6377307176589966, -0.6379265785217285, -0.6378202438354492, -0.6364220380783081, -0.6359844207763672, -0.6354813575744629, -0.6347671151161194, -0.6343001127243042, -0.6344183683395386, -0.6344529986381531, -0.6344649791717529, -0.6347546577453613, -0.6319031119346619, -0.629827082157135, -0.629296064376831, -0.6298494338989258, -0.630124568939209, -0.6317396759986877, -0.6333673000335693, -0.6384922862052917, -0.6465620994567871, -0.6490168571472168, -0.6486790776252747, -0.6481889486312866, -0.6490637063980103, -0.6447719931602478, -0.6417393684387207, -0.643603503704071, -0.6462675333023071, -0.6471264362335205, -0.6466404795646667, -0.6461407542228699, -0.6455309987068176, -0.6468908190727234, -0.6484553217887878, -0.6495891213417053, -0.6508210301399231, -0.6517373919487, -0.6521687507629395, -0.6522099375724792, -0.6499454379081726, -0.6486518383026123, -0.648996889591217, -0.649945080280304, -0.65081387758255, -0.6507933139801025, -0.6500900387763977, -0.6496092677116394, -0.6489279270172119, -0.6475370526313782, -0.6447669267654419, -0.642432451248169, -0.6408928036689758, -0.6399161219596863, -0.6387296319007874, -0.6381004452705383, -0.6362050175666809, -0.6342986226081848, -0.6331574320793152, -0.6351518630981445, -0.6365704536437988, -0.6371423006057739, -0.63600754737854, -0.6352216601371765, -0.6349607110023499, -0.6343034505844116, -0.6340824961662292, -0.6353751420974731, -0.6369038820266724, -0.6391234993934631, -0.640645444393158, -0.6415148973464966, -0.640812337398529, -0.6402753591537476, -0.6399562954902649, -0.6395823359489441, -0.6388677358627319, -0.6394527554512024, -0.6398698687553406, -0.639813244342804, -0.6393823623657227, -0.6390894651412964, -0.6387311220169067, -0.6397687196731567, -0.6406956315040588, -0.6409137845039368, -0.6403433084487915, -0.6395868062973022, -0.6389838457107544, -0.6389786601066589, -0.6391051411628723, -0.639026403427124, -0.6379796266555786, -0.6373193860054016, -0.6379590034484863, -0.6389928460121155, -0.6394580006599426, -0.6392863988876343, -0.6387169361114502, -0.6384101510047913, -0.6382948160171509, -0.6378412246704102, -0.6375845074653625, -0.6376770734786987, -0.6381345987319946, -0.6383451223373413, -0.6381706595420837, -0.6376697421073914, -0.6370290517807007, -0.6368352174758911, -0.6367767453193665, -0.636436939239502, -0.6357659101486206, -0.6356658935546875, -0.6356996297836304, -0.6348620057106018, -0.6333056688308716, -0.6311998963356018, -0.6303576827049255, -0.6296979784965515, -0.6284226775169373, -0.6270849108695984, -0.6258079409599304, -0.6277146935462952, -0.6291744709014893, -0.6290669441223145, -0.6283893585205078, -0.6283206939697266, -0.6286603808403015, -0.6290305852890015, -0.6296919584274292, -0.6300280094146729, -0.6288876533508301, -0.6277616620063782, -0.6273504495620728, -0.626997709274292, -0.6279210448265076, -0.6285815238952637, -0.6286463737487793, -0.6282032132148743, -0.6278843283653259, -0.6276858448982239, -0.6280102133750916, -0.6284675002098083, -0.6288167238235474, -0.6308311820030212, -0.6317633986473083, -0.631953775882721, -0.6321535110473633, -0.6320895552635193, -0.631528377532959, -0.6306450963020325, -0.6297705173492432, -0.6270973086357117, -0.6189473867416382, -0.6131638288497925, -0.61009281873703, -0.6087088584899902, -0.6069579124450684, -0.604485809803009, -0.6014201641082764, -0.5980536341667175, -0.5954856872558594, -0.5936283469200134, -0.5928304195404053, -0.5926611423492432, -0.5916526913642883, -0.5896781086921692, -0.5872073173522949, -0.5801463723182678, -0.5691468119621277, -0.5640935301780701, -0.5622618794441223, -0.5532505512237549, -0.5480807423591614, -0.545785665512085, -0.5451448559761047, -0.5483049750328064, -0.5587366223335266, -0.5744624137878418, -0.5815490484237671, -0.5781667828559875, -0.5735328197479248, -0.5751539468765259, -0.5747858285903931, -0.5750434994697571, -0.5760936737060547, -0.573879599571228, -0.5690321326255798, -0.5634331107139587, -0.5619907379150391, -0.5636784434318542, -0.5657033324241638, -0.5667969584465027, -0.5714859962463379, -0.5723562836647034, -0.5735636353492737, -0.5738747715950012, -0.5735926628112793, -0.57193523645401, -0.5721584558486938, -0.5719426274299622, -0.5711508393287659, -0.5700176954269409, -0.5692011713981628, -0.568485677242279, -0.5677753686904907, -0.5683196187019348, -0.5694392919540405, -0.5720815062522888, -0.5729526281356812, -0.5729792714118958, -0.5726533532142639, -0.5726575255393982, -0.5726845860481262, -0.5727352499961853, -0.5727653503417969, -0.5747137665748596, -0.5782949328422546, -0.5826964378356934, -0.5932448506355286, -0.598701000213623, -0.5979675054550171, -0.5958520770072937, -0.5933564901351929, -0.5921292304992676, -0.5917930006980896, -0.5923578143119812, -0.5917860269546509, -0.5917353630065918, -0.5918672680854797, -0.5923179984092712, -0.5942844152450562, -0.5964447259902954, -0.5964019298553467, -0.5960623621940613, -0.5958122611045837, -0.5957558155059814, -0.5950450301170349, -0.5945188999176025, -0.5936607718467712, -0.5934140086174011, -0.5937154293060303, -0.5943255424499512, -0.5944059491157532, -0.5955339074134827, -0.5958203673362732, -0.5960606932640076, -0.5960527658462524, -0.5961604714393616, -0.5960932374000549, -0.5959540605545044, -0.5929584503173828, -0.5892890095710754, -0.5871397256851196, -0.5861714482307434, -0.5847668051719666, -0.5826959609985352, -0.5818281769752502, -0.5817898511886597, -0.5841047167778015, -0.5856640934944153, -0.5862072706222534, -0.5860824584960938, -0.5861100554466248, -0.5863921046257019, -0.5868292450904846, -0.5865092873573303, -0.5865184664726257, -0.5870596170425415, -0.5879227519035339, -0.5887241959571838, -0.5885497331619263, -0.5882290601730347, -0.5881516933441162, -0.5873405337333679, -0.5867959856987, -0.5865350961685181, -0.5865368843078613, -0.5860580801963806, -0.5852190852165222, -0.5846548080444336, -0.5844676494598389, -0.584406316280365, -0.5842975378036499, -0.5841590166091919, -0.5840187668800354, -0.5838783383369446, -0.5837383270263672, -0.583598256111145, -0.5808792114257812, -0.5787805914878845, -0.5779972672462463, -0.5783198475837708, -0.5786780714988708, -0.5790186524391174, -0.5793581008911133, -0.5796973705291748, -0.5800366401672363, -0.5802034735679626, -0.5801352858543396, -0.5769526362419128, -0.5746039152145386, -0.5738986730575562, -0.5731305480003357, -0.5712146759033203, -0.5686815977096558, -0.5661110877990723, -0.5615984797477722, -0.5593586564064026, -0.5596209764480591, -0.5570295453071594, -0.5524852871894836, -0.5563912391662598, -0.559192955493927, -0.5601633191108704, -0.558547854423523, -0.5586608648300171, -0.5584011077880859, -0.5565714836120605, -0.5558046102523804, -0.555597186088562, -0.5575830936431885, -0.5591648817062378, -0.5594579577445984, -0.5583236813545227, -0.5539674162864685, -0.5511469841003418, -0.5504112243652344, -0.5511949062347412, -0.5520249605178833, -0.5511401295661926, -0.5488157272338867, -0.5482245087623596, -0.5491126775741577, -0.5498453378677368, -0.5505537986755371, -0.551583468914032, -0.5517197847366333, -0.5508713722229004, -0.5495256781578064, -0.5475928783416748, -0.5439761877059937, -0.5424636006355286, -0.5423895716667175, -0.544382631778717, -0.5445708632469177, -0.5436117053031921, -0.5424876809120178, -0.5419279336929321, -0.5415748953819275, -0.5412315726280212, -0.5400504469871521, -0.5391575694084167, -0.5387430191040039, -0.5388116240501404, -0.5382668375968933, -0.5373549461364746, -0.5363078117370605, -0.5351091027259827, -0.5337352752685547, -0.5292027592658997, -0.5221036076545715, -0.510552704334259, -0.5059801340103149, -0.5056153535842896, -0.505910336971283, -0.5003690123558044, -0.4910147190093994, -0.4858075976371765, -0.4857679009437561, -0.48467668890953064, -0.4808197617530823, -0.47618409991264343, -0.47072991728782654, -0.4574437439441681, -0.46224361658096313, -0.4837281405925751, -0.49874943494796753, -0.5026010274887085, -0.5035198926925659, -0.5035735368728638, -0.5191823244094849, -0.5280880331993103, -0.5291705131530762, -0.5268881916999817, -0.5262596607208252, -0.5250759124755859, -0.5147204995155334, -0.5088606476783752, -0.505151093006134, -0.5052365064620972, -0.5019108057022095, -0.49929705262184143, -0.49915167689323425, -0.503591001033783, -0.5059733390808105, -0.5038508176803589, -0.5008994936943054, -0.49940913915634155, -0.49984806776046753, -0.4995100498199463, -0.4935285449028015, -0.4861729145050049, -0.4787074029445648, -0.47429129481315613, -0.47001373767852783, -0.4708070158958435, -0.47051483392715454, -0.46658363938331604, -0.4631029963493347, -0.47022733092308044, -0.4757276475429535, -0.4759940207004547, -0.4746592938899994, -0.4750590920448303, -0.47477954626083374, -0.4738682210445404, -0.47046804428100586, -0.4652109444141388, -0.46206361055374146, -0.46136751770973206, -0.45749762654304504, -0.4513334333896637, -0.4444183111190796, -0.43394574522972107, -0.4277726113796234, -0.42915982007980347, -0.4284437596797943, -0.42504844069480896, -0.4226960837841034, -0.4175107479095459, -0.41250744462013245, -0.4082322418689728, -0.4052092730998993, -0.4022853672504425, -0.3996261954307556, -0.4042089581489563, -0.41952770948410034, -0.4247465133666992, -0.43498238921165466, -0.4325796365737915, -0.4232512414455414, -0.4129381775856018, -0.4083917737007141, -0.40555068850517273, -0.4155465364456177, -0.4373922646045685, -0.4649021327495575, -0.47429487109184265, -0.4717758893966675, -0.45734766125679016, -0.45798325538635254, -0.46283963322639465, -0.4804092347621918, -0.48769527673721313, -0.48953139781951904, -0.4778243899345398, -0.46892523765563965, -0.4652668833732605, -0.46336016058921814, -0.45969802141189575, -0.4554990828037262, -0.45430123805999756, -0.44538936018943787, -0.4390313923358917, -0.4370270073413849, -0.43068715929985046, -0.4253852963447571, -0.4217272102832794, -0.4200058579444885, -0.4182831943035126, -0.41625651717185974, -0.4160056412220001, -0.4214813709259033, -0.4262374937534332, -0.428260862827301, -0.4294068515300751, -0.42835381627082825, -0.42391058802604675, -0.42038533091545105, -0.41490641236305237, -0.4105260372161865, -0.40970098972320557, -0.4087335765361786, -0.4062090218067169, -0.4024866223335266, -0.3983149528503418, -0.39026251435279846, -0.3846873342990875, -0.38195496797561646, -0.37991493940353394, -0.37290534377098083, -0.36037901043891907, -0.34505826234817505, -0.3320735991001129, -0.32490652799606323, -0.32139331102371216, -0.32016825675964355, -0.30654919147491455, -0.28701621294021606, -0.2676771283149719, -0.2511577606201172, -0.26336199045181274, -0.26282498240470886, -0.259748250246048, -0.2658250033855438, -0.2743479311466217, -0.2671080231666565, -0.24495646357536316, -0.2197514772415161, -0.19941478967666626, -0.1901872307062149, -0.17723539471626282, -0.14372755587100983, -0.09956000000238419, -0.09902611374855042, -0.10742031037807465, -0.15033674240112305, -0.15266887843608856, -0.13173750042915344, -0.12690143287181854, -0.1168118566274643, -0.09378793090581894, -0.06624269485473633, -0.04699369892477989, -0.04122511297464371, -0.013930970802903175, 0.030492879450321198, 0.022356200963258743, 0.0289178267121315, 0.034307707101106644, 0.055244747549295425, 0.07147650420665741, 0.03001023828983307, 0.010897434316575527, -0.03682144731283188, -0.060400594025850296, -0.06327616423368454, -0.0334169939160347, -0.03463774919509888, -0.027659106999635696, -0.0033757230266928673, 0.0016716523095965385, 0.00761535856872797, 0.004295791499316692, -0.016397954896092415, -0.03910955786705017, -0.06172994151711464, -0.04771467670798302, -0.038587652146816254, -0.03581908717751503, -0.050332870334386826, -0.064750537276268, -0.05850560963153839, -0.04592689499258995, -0.030282970517873764, -0.02362086810171604, -0.021369025111198425, -0.037255365401506424, -0.03892266005277634, -0.045213546603918076, -0.07519631832838058, -0.09840773791074753, -0.09438259154558182, -0.09285189211368561, -0.1139330342411995, -0.16558937728405, -0.201544851064682, -0.16971461474895477, -0.1277511566877365, -0.11260601878166199, -0.019646931439638138, 0.0056364210322499275, 0.03446934372186661, 0.025572575628757477, 0.02729979157447815, -0.008344346657395363, -0.032565515488386154, -0.020693525671958923, 0.011037317104637623, 0.011996743269264698, 0.016034331172704697, 0.0357603095471859, 0.029242966324090958, 0.01597525179386139, 0.022492431104183197, 0.04078346863389015, 0.1183970645070076, 0.15177960693836212, 0.1903059333562851, 0.2036239504814148, 0.19982287287712097, 0.20382970571517944, 0.2509441673755646, 0.31307733058929443, 0.37462493777275085, 0.4449743926525116, 0.43782955408096313, 0.46568265557289124, 0.4543745517730713, 0.4219363033771515, 0.400299608707428, 0.3922494649887085, 0.37892425060272217, 0.3896283209323883, 0.40501388907432556, 0.4483964741230011, 0.47149819135665894, 0.4749002456665039, 0.4696517288684845, 0.47913843393325806, 0.5226821303367615, 0.5389441847801208, 0.5733527541160583, 0.6205435991287231, 0.5717204213142395, 0.5455265641212463, 0.470781147480011, 0.47650787234306335, 0.5222862958908081, 0.550883412361145, 0.49449267983436584, 0.4651671051979065, 0.44061532616615295, 0.433864951133728, 0.4242984354496002, 0.36347493529319763, 0.2171778678894043, 0.24437592923641205, 0.2706065773963928, 0.289802223443985, 0.36222317814826965, 0.36223867535591125, 0.34956446290016174, 0.28566882014274597, 0.26786622405052185, 0.2936260402202606, 0.29230907559394836, 0.333317369222641, 0.34346553683280945, 0.4086124300956726, 0.42795389890670776, 0.4300604462623596, 0.45333725214004517, 0.4758470058441162, 0.4876411259174347, 0.4716832935810089, 0.44574278593063354, 0.45190882682800293, 0.4694840908050537, 0.49100586771965027, 0.5309171080589294, 0.5787606239318848, 0.5910668969154358, 0.6036491990089417, 0.7357056140899658, 0.8320301175117493, 0.8848959803581238, 0.8545591831207275, 0.8571268320083618, 0.8205469250679016, 0.8090749382972717, 0.8333889842033386, 0.9094759821891785, 0.9377442598342896, 0.9277112483978271, 0.8940907716751099, 0.8058383464813232, 0.8344590663909912, 0.8841808438301086, 0.8794684410095215, 0.8563639521598816, 0.9403722882270813, 0.9675320386886597, 1.043241262435913, 1.1251847743988037, 1.2142354249954224, 1.2498447895050049, 1.3078408241271973, 1.3074651956558228, 1.2003428936004639, 1.2164950370788574, 1.3085265159606934, 1.2562801837921143, 1.0954105854034424, 1.001463532447815, 0.8807147145271301, 1.024889349937439, 1.0906184911727905, 1.2776212692260742, 1.4359265565872192, 1.4166446924209595, 1.4157919883728027, 1.4680986404418945, 1.5368953943252563, 1.5069383382797241, 1.528761386871338, 1.4671001434326172, 1.5193856954574585, 1.6617183685302734, 1.8353049755096436, 1.9634100198745728, 2.0091147422790527, 1.9909560680389404, 2.012465476989746, 2.272080659866333, 2.2849526405334473, 2.4002325534820557, 2.496445417404175, 2.514163017272949, 3.091662645339966, 3.9209861755371094, 3.552588939666748, 3.281820774078369, 3.3393170833587646, 3.8589296340942383, 3.820570707321167, 3.7117583751678467, 3.7688148021698, 4.06809139251709, 4.501768589019775, 4.30851936340332, 4.323425769805908, 3.9269282817840576, 3.6641159057617188, 3.4811270236968994, 3.0655922889709473, 3.345165729522705, 3.1492908000946045, 3.1425342559814453, 3.688870429992676, 3.4805376529693604, 3.2453365325927734, 3.2512378692626953, 2.731151819229126, 3.176375389099121, 2.9579877853393555, 3.390148878097534, 3.4660253524780273, 3.458130121231079, 3.9905574321746826, 3.937127113342285, 3.657838821411133, 3.35471248626709, 3.229813814163208, 3.406680107116699, 2.8884105682373047, 3.1501212120056152, 3.208436965942383, 3.0455048084259033, 3.053684949874878, 2.3876755237579346, 2.396928310394287, 2.3914401531219482, 2.4809391498565674, 2.8408870697021484, 2.4501912593841553, 2.2747297286987305, 2.2732536792755127, 2.431966781616211, 2.3550095558166504, 2.351015567779541, 2.4487645626068115, 2.515822172164917, 2.3614847660064697, 2.020341157913208, 2.0724782943725586, 1.7342150211334229, 1.6946595907211304, 1.7877414226531982, 1.5265014171600342, 1.1576318740844727, 1.3283791542053223, 1.3445208072662354, 1.5487409830093384, 1.6678571701049805, 1.6496243476867676, 1.499715805053711, 1.6968965530395508, 1.6158161163330078, 1.887503981590271, 2.037485122680664, 2.108405828475952, 2.3548200130462646, 2.154118061065674, 2.3761019706726074, 2.3786542415618896, 2.159856081008911, 1.9872324466705322, 2.0619027614593506, 1.9355794191360474, 1.9173457622528076, 2.1183507442474365, 2.197690010070801, 2.129319667816162, 2.2989306449890137, 2.3255319595336914, 2.45367169380188, 2.455772638320923, 2.441013813018799, 2.234823703765869, 2.002939224243164, 1.821172833442688, 1.7969374656677246, 1.679761528968811, 1.888013482093811, 1.7822691202163696, 1.7973119020462036, 1.5175127983093262, 1.5257182121276855, 1.5202815532684326, 1.435070276260376, 1.5126993656158447, 1.6280137300491333, 1.7330700159072876, 1.7303683757781982, 1.6720142364501953, 1.7196877002716064, 1.620254635810852, 1.5917010307312012, 1.5026836395263672, 1.4056713581085205, 1.433050513267517, 1.222213625907898, 1.137246012687683, 1.1429221630096436, 1.1436412334442139, 1.2040388584136963, 1.3042386770248413, 1.1704422235488892, 1.1274566650390625, 1.0791895389556885, 1.157945990562439, 1.20383882522583, 1.1541485786437988, 1.143970251083374, 1.171008586883545, 1.4297157526016235, 1.4680795669555664, 1.4929108619689941, 1.5640801191329956, 1.4972624778747559, 1.441717267036438, 1.5023471117019653, 1.5454025268554688, 1.7118357419967651, 1.738789677619934, 1.699434757232666, 1.7288024425506592, 1.9259979724884033, 1.7200132608413696, 1.8258429765701294, 1.716068983078003, 1.8473727703094482, 1.8579846620559692, 1.8240245580673218, 1.7654205560684204, 1.8039284944534302, 1.9526058435440063, 1.9499460458755493, 1.9886457920074463, 1.9237096309661865, 1.8486247062683105, 1.7932209968566895, 1.827758550643921, 1.748432993888855, 1.5814712047576904, 1.5860141515731812, 1.6491241455078125, 1.6614227294921875, 1.6072863340377808, 1.5588369369506836, 1.4794083833694458, 1.526370644569397, 1.5286245346069336, 1.6133790016174316, 1.5865230560302734, 1.4714019298553467, 1.3261908292770386, 1.3301875591278076, 1.3111811876296997, 1.2874194383621216, 1.2834758758544922, 1.2269093990325928, 1.31061851978302, 1.3024778366088867, 1.3349496126174927, 1.3350294828414917, 1.3720734119415283, 1.3927096128463745, 1.3385168313980103, 1.3582508563995361, 1.3717682361602783, 1.3839045763015747, 1.366154432296753, 1.3315998315811157, 1.1419814825057983, 1.1381587982177734, 1.0647910833358765, 1.0090962648391724, 1.0718772411346436, 1.0399683713912964, 1.0574649572372437, 1.0436482429504395, 1.1120153665542603, 1.1281520128250122, 1.1375012397766113, 1.1218295097351074, 0.9576402306556702, 0.9481627941131592, 0.9504535794258118, 0.9933419227600098, 0.9539225101470947, 0.9582657217979431, 0.8904598355293274, 0.9614591598510742, 1.0240193605422974, 1.0361015796661377, 1.0853893756866455, 1.0717346668243408, 1.0841970443725586, 1.0698261260986328, 1.0877548456192017, 1.1262720823287964, 1.1241313219070435, 1.1097644567489624, 1.0146472454071045, 1.0143195390701294, 0.9865304231643677, 0.981636643409729, 0.9857164621353149, 1.0174095630645752, 1.1128532886505127, 1.2772821187973022, 1.3263369798660278, 1.3418688774108887, 1.2923266887664795, 1.301304578781128, 1.3004648685455322, 1.3861171007156372, 1.5751887559890747, 1.5436413288116455, 1.4619041681289673, 1.5043323040008545, 1.5315321683883667, 1.5357664823532104, 1.51478111743927, 1.395729660987854, 1.3485320806503296, 1.3273776769638062, 1.3054624795913696, 1.199564814567566, 1.1885451078414917, 1.1679682731628418, 1.1217734813690186, 1.0036067962646484, 1.0466742515563965, 0.9694769978523254, 0.9839896559715271, 0.997922420501709, 1.0008329153060913, 0.9805528521537781, 0.9933842420578003, 1.0094759464263916, 1.0767898559570312, 1.0470091104507446, 1.0560489892959595, 0.9994336366653442, 1.044579029083252, 1.0248534679412842, 1.0656037330627441, 1.1089714765548706, 1.1323479413986206, 1.1216676235198975, 1.1668075323104858, 1.2184128761291504, 1.2164839506149292, 1.196037769317627, 1.1966050863265991, 1.234068512916565, 1.277007818222046, 1.2750385999679565, 1.293095350265503, 1.1206012964248657, 1.0446045398712158, 1.010302186012268, 0.9722749590873718, 0.9793505072593689, 1.0004340410232544, 1.004378318786621, 1.0133343935012817, 1.0516164302825928, 1.0604380369186401, 1.0615620613098145, 1.0602055788040161, 1.0014572143554688, 1.005683422088623, 1.023280143737793, 1.0594786405563354, 1.125020980834961, 1.1288498640060425, 1.1222721338272095, 1.0836387872695923, 1.041414737701416, 1.0394524335861206, 1.0999828577041626, 1.0994898080825806, 1.0863898992538452, 1.0830897092819214, 1.0747461318969727, 1.0612624883651733, 1.0467948913574219, 1.068315863609314, 1.083127498626709, 1.0782943964004517, 1.0799256563186646, 1.0877560377120972, 1.0866584777832031, 1.0677434206008911, 0.9747567772865295, 0.9614725112915039, 0.9689640402793884, 0.9775627255439758, 1.0355538129806519, 1.0551042556762695, 1.0532068014144897, 1.033508062362671, 1.0269229412078857, 1.0343141555786133, 1.0375173091888428, 1.037222981452942, 1.0328946113586426, 1.0358942747116089, 1.0324287414550781, 1.0348271131515503, 1.0354231595993042, 1.0352978706359863, 1.0017372369766235, 0.9981493949890137, 1.0035480260849, 1.018297553062439, 1.0268335342407227, 1.0347492694854736, 1.0420161485671997, 1.0373053550720215, 1.045513391494751, 1.0598162412643433, 1.0407098531723022, 1.0146760940551758, 1.0114903450012207, 1.0183097124099731, 1.0133757591247559, 0.9961367845535278, 0.8353453278541565, 0.791362464427948, 0.78130704164505, 0.7913392186164856, 0.8004321455955505, 0.6233596801757812, 0.48550260066986084, 0.48994335532188416, 0.4651828706264496, 0.45863789319992065, 0.35056883096694946, 0.3450244665145874, 0.3079278767108917, 0.31179195642471313, 0.3921504020690918, 0.4428105652332306, 0.40138211846351624, 0.40159720182418823, 0.401863694190979, 0.35608744621276855, 0.342443585395813, 0.3040999472141266, 0.2451591044664383, 0.20505762100219727, 0.20084503293037415, 0.22847585380077362, 0.22011007368564606, 0.20131632685661316, 0.20542007684707642, 0.18372584879398346, 0.15959413349628448, 0.14474929869174957, 0.1456707864999771, 0.20086169242858887, 0.26009345054626465, 0.2881922423839569, 0.36176592111587524, 0.35164874792099, 0.36590999364852905, 0.3593803644180298, 0.380827397108078, 0.3367171287536621, 0.322819322347641, 0.2767496109008789, 0.3176157474517822, 0.30890804529190063, 0.32530733942985535, 0.2996921241283417, 0.3173633813858032, 0.3359677493572235, 0.32790130376815796, 0.32461732625961304, 0.3191194236278534, 0.3655749261379242, 0.37938418984413147, 0.38061919808387756, 0.37574121356010437, 0.30559104681015015, 0.27418622374534607, 0.2631066143512726, 0.25038111209869385, 0.26773422956466675, 0.2626355290412903, 0.26629722118377686, 0.2696790099143982, 0.269331157207489, 0.2798939645290375, 0.25893133878707886, 0.24738971889019012, 0.24968759715557098, 0.25190621614456177, 0.2544184625148773, 0.25296181440353394, 0.25187891721725464, 0.24663086235523224, 0.2263108789920807, 0.20942717790603638, 0.21172475814819336, 0.2120729237794876, 0.2155667245388031, 0.22248122096061707, 0.21657532453536987, 0.211369588971138, 0.2127748280763626, 0.20344942808151245, 0.19692905247211456, 0.24185706675052643, 0.2668297588825226, 0.2795012295246124, 0.2663440704345703, 0.26094236969947815, 0.25656381249427795, 0.25390365719795227, 0.2534143030643463, 0.2562938928604126, 0.26618945598602295, 0.3155094385147095, 0.34236496686935425, 0.35849064588546753, 0.3518795967102051, 0.3568558096885681, 0.3915829658508301, 0.33612850308418274, 0.3221634030342102, 0.31302106380462646, 0.32054245471954346, 0.3176015615463257, 0.32020604610443115, 0.3222973048686981, 0.31934642791748047, 0.3004038333892822, 0.3187864422798157, 0.3311944007873535, 0.33615756034851074, 0.3323122560977936, 0.34574249386787415, 0.3489200174808502, 0.3398994207382202, 0.33606454730033875, 0.3338550627231598, 0.33564457297325134, 0.34378260374069214, 0.3650870621204376, 0.3693236708641052, 0.36932364106178284, 0.3730124831199646, 0.3826967477798462, 0.3749496042728424, 0.37110233306884766, 0.3693859279155731, 0.36887821555137634, 0.3564850389957428, 0.3534482717514038, 0.3728935718536377, 0.3806126117706299, 0.39656883478164673, 0.40206947922706604, 0.40396127104759216, 0.410309374332428, 0.5634771585464478, 0.6462194919586182, 0.6530745029449463, 0.6578339338302612, 0.6654111742973328, 0.7008674740791321, 0.7294874787330627, 0.7158330082893372, 0.7351327538490295, 0.6797259449958801, 0.6711519956588745, 0.6646854877471924, 0.6927459836006165, 0.6703752279281616, 0.6989991068840027, 0.7137638926506042, 0.7332194447517395, 0.7343592047691345, 0.7410063743591309, 0.7366292476654053, 0.7552010416984558, 0.7923941016197205, 0.7843081951141357, 0.708243191242218, 0.6861292123794556, 0.6913991570472717, 0.6975659132003784, 0.6951630711555481, 0.7196837663650513, 0.7408013343811035, 0.7598059773445129, 0.8221603035926819, 0.8650542497634888, 0.861240565776825, 0.8440343141555786, 0.8533463478088379, 0.9032056927680969, 0.9649584293365479, 1.021420955657959, 1.2367603778839111, 1.2242861986160278, 1.4163239002227783, 1.4792239665985107, 1.5487269163131714, 1.4480805397033691, 1.294128179550171, 1.2448718547821045, 1.4897297620773315, 1.4947742223739624, 1.474452257156372, 1.3623913526535034, 1.4230128526687622, 1.4648007154464722, 1.4954754114151, 1.6688052415847778, 1.6984598636627197, 1.6823500394821167, 1.6526710987091064, 1.5452138185501099, 1.6094694137573242, 1.6204217672348022, 1.6776248216629028, 1.504170536994934, 1.3728597164154053, 1.383036732673645, 1.4056028127670288, 1.4700860977172852, 1.4563325643539429, 1.3737512826919556, 1.4595288038253784, 1.4483152627944946, 1.5201029777526855, 1.536285161972046, 1.6640726327896118, 1.7159583568572998, 1.7509496212005615, 1.844008445739746, 1.7764075994491577, 1.82840096950531, 1.895582675933838, 2.098102569580078, 2.2293455600738525, 2.277240753173828, 2.332031726837158, 2.542501926422119, 2.879241704940796, 2.327862024307251, 2.740931987762451, 2.539808511734009, 2.2486486434936523, 2.2023444175720215, 2.263164520263672, 2.601548433303833, 2.347444772720337, 2.3294076919555664, 2.3834006786346436, 2.4563395977020264, 2.6995832920074463, 2.767082452774048, 2.627514123916626, 2.418069839477539, 2.5614163875579834, 2.416746139526367, 2.083589553833008, 2.2788805961608887, 1.8494480848312378, 1.9515568017959595, 2.1968674659729004, 2.1908936500549316, 2.2585861682891846, 2.2034177780151367, 2.1233978271484375, 1.9834470748901367, 1.9644125699996948, 1.9925127029418945, 1.9873781204223633, 1.8806631565093994, 1.8963427543640137, 1.8860173225402832, 1.9154785871505737, 2.057844638824463, 2.1545772552490234, 2.19006085395813, 2.268885850906372, 2.316343307495117, 2.5553786754608154, 2.4473774433135986, 2.6105260848999023, 2.596153974533081, 2.5667693614959717, 2.3930020332336426, 2.4775075912475586, 2.4221668243408203, 2.278195858001709, 2.035153388977051, 2.112985849380493, 2.1237668991088867, 2.097862482070923, 2.1235971450805664, 2.297849178314209, 2.254816770553589, 2.0696640014648438, 2.0626842975616455, -0.7204579710960388]}],\n",
              "                        {\"template\": {\"data\": {\"bar\": [{\"error_x\": {\"color\": \"#2a3f5f\"}, \"error_y\": {\"color\": \"#2a3f5f\"}, \"marker\": {\"line\": {\"color\": \"#E5ECF6\", \"width\": 0.5}}, \"type\": \"bar\"}], \"barpolar\": [{\"marker\": {\"line\": {\"color\": \"#E5ECF6\", \"width\": 0.5}}, \"type\": \"barpolar\"}], \"carpet\": [{\"aaxis\": {\"endlinecolor\": \"#2a3f5f\", \"gridcolor\": \"white\", \"linecolor\": \"white\", \"minorgridcolor\": \"white\", \"startlinecolor\": \"#2a3f5f\"}, \"baxis\": {\"endlinecolor\": \"#2a3f5f\", \"gridcolor\": \"white\", \"linecolor\": \"white\", \"minorgridcolor\": \"white\", \"startlinecolor\": \"#2a3f5f\"}, \"type\": \"carpet\"}], \"choropleth\": [{\"colorbar\": {\"outlinewidth\": 0, \"ticks\": \"\"}, \"type\": \"choropleth\"}], \"contour\": [{\"colorbar\": {\"outlinewidth\": 0, \"ticks\": \"\"}, \"colorscale\": [[0.0, \"#0d0887\"], [0.1111111111111111, \"#46039f\"], [0.2222222222222222, \"#7201a8\"], [0.3333333333333333, \"#9c179e\"], [0.4444444444444444, \"#bd3786\"], [0.5555555555555556, \"#d8576b\"], [0.6666666666666666, \"#ed7953\"], [0.7777777777777778, \"#fb9f3a\"], [0.8888888888888888, \"#fdca26\"], [1.0, \"#f0f921\"]], \"type\": \"contour\"}], \"contourcarpet\": [{\"colorbar\": {\"outlinewidth\": 0, \"ticks\": \"\"}, \"type\": \"contourcarpet\"}], \"heatmap\": [{\"colorbar\": {\"outlinewidth\": 0, \"ticks\": \"\"}, \"colorscale\": [[0.0, \"#0d0887\"], [0.1111111111111111, \"#46039f\"], [0.2222222222222222, \"#7201a8\"], [0.3333333333333333, \"#9c179e\"], [0.4444444444444444, \"#bd3786\"], [0.5555555555555556, \"#d8576b\"], [0.6666666666666666, \"#ed7953\"], [0.7777777777777778, \"#fb9f3a\"], [0.8888888888888888, \"#fdca26\"], [1.0, \"#f0f921\"]], \"type\": \"heatmap\"}], \"heatmapgl\": [{\"colorbar\": {\"outlinewidth\": 0, \"ticks\": \"\"}, \"colorscale\": [[0.0, \"#0d0887\"], [0.1111111111111111, \"#46039f\"], [0.2222222222222222, \"#7201a8\"], [0.3333333333333333, \"#9c179e\"], [0.4444444444444444, \"#bd3786\"], [0.5555555555555556, \"#d8576b\"], [0.6666666666666666, \"#ed7953\"], [0.7777777777777778, \"#fb9f3a\"], [0.8888888888888888, \"#fdca26\"], [1.0, \"#f0f921\"]], \"type\": \"heatmapgl\"}], \"histogram\": [{\"marker\": {\"colorbar\": {\"outlinewidth\": 0, \"ticks\": \"\"}}, \"type\": \"histogram\"}], \"histogram2d\": [{\"colorbar\": {\"outlinewidth\": 0, \"ticks\": \"\"}, \"colorscale\": [[0.0, \"#0d0887\"], [0.1111111111111111, \"#46039f\"], [0.2222222222222222, \"#7201a8\"], [0.3333333333333333, \"#9c179e\"], [0.4444444444444444, \"#bd3786\"], [0.5555555555555556, \"#d8576b\"], [0.6666666666666666, \"#ed7953\"], [0.7777777777777778, \"#fb9f3a\"], [0.8888888888888888, \"#fdca26\"], [1.0, \"#f0f921\"]], \"type\": \"histogram2d\"}], \"histogram2dcontour\": [{\"colorbar\": {\"outlinewidth\": 0, \"ticks\": \"\"}, \"colorscale\": [[0.0, \"#0d0887\"], [0.1111111111111111, \"#46039f\"], [0.2222222222222222, \"#7201a8\"], [0.3333333333333333, \"#9c179e\"], [0.4444444444444444, \"#bd3786\"], [0.5555555555555556, \"#d8576b\"], [0.6666666666666666, \"#ed7953\"], [0.7777777777777778, \"#fb9f3a\"], [0.8888888888888888, \"#fdca26\"], [1.0, \"#f0f921\"]], \"type\": \"histogram2dcontour\"}], \"mesh3d\": [{\"colorbar\": {\"outlinewidth\": 0, \"ticks\": \"\"}, \"type\": \"mesh3d\"}], \"parcoords\": [{\"line\": {\"colorbar\": {\"outlinewidth\": 0, \"ticks\": \"\"}}, \"type\": \"parcoords\"}], \"pie\": [{\"automargin\": true, \"type\": \"pie\"}], \"scatter\": [{\"marker\": {\"colorbar\": {\"outlinewidth\": 0, \"ticks\": \"\"}}, \"type\": \"scatter\"}], \"scatter3d\": [{\"line\": {\"colorbar\": {\"outlinewidth\": 0, \"ticks\": \"\"}}, \"marker\": {\"colorbar\": {\"outlinewidth\": 0, \"ticks\": \"\"}}, \"type\": \"scatter3d\"}], \"scattercarpet\": [{\"marker\": {\"colorbar\": {\"outlinewidth\": 0, \"ticks\": \"\"}}, \"type\": \"scattercarpet\"}], \"scattergeo\": [{\"marker\": {\"colorbar\": {\"outlinewidth\": 0, \"ticks\": \"\"}}, \"type\": \"scattergeo\"}], \"scattergl\": [{\"marker\": {\"colorbar\": {\"outlinewidth\": 0, \"ticks\": \"\"}}, \"type\": \"scattergl\"}], \"scattermapbox\": [{\"marker\": {\"colorbar\": {\"outlinewidth\": 0, \"ticks\": \"\"}}, \"type\": \"scattermapbox\"}], \"scatterpolar\": [{\"marker\": {\"colorbar\": {\"outlinewidth\": 0, \"ticks\": \"\"}}, \"type\": \"scatterpolar\"}], \"scatterpolargl\": [{\"marker\": {\"colorbar\": {\"outlinewidth\": 0, \"ticks\": \"\"}}, \"type\": \"scatterpolargl\"}], \"scatterternary\": [{\"marker\": {\"colorbar\": {\"outlinewidth\": 0, \"ticks\": \"\"}}, \"type\": \"scatterternary\"}], \"surface\": [{\"colorbar\": {\"outlinewidth\": 0, \"ticks\": \"\"}, \"colorscale\": [[0.0, \"#0d0887\"], [0.1111111111111111, \"#46039f\"], [0.2222222222222222, \"#7201a8\"], [0.3333333333333333, \"#9c179e\"], [0.4444444444444444, \"#bd3786\"], [0.5555555555555556, \"#d8576b\"], [0.6666666666666666, \"#ed7953\"], [0.7777777777777778, \"#fb9f3a\"], [0.8888888888888888, \"#fdca26\"], [1.0, \"#f0f921\"]], \"type\": \"surface\"}], \"table\": [{\"cells\": {\"fill\": {\"color\": \"#EBF0F8\"}, \"line\": {\"color\": \"white\"}}, \"header\": {\"fill\": {\"color\": \"#C8D4E3\"}, \"line\": {\"color\": \"white\"}}, \"type\": \"table\"}]}, \"layout\": {\"annotationdefaults\": {\"arrowcolor\": \"#2a3f5f\", \"arrowhead\": 0, \"arrowwidth\": 1}, \"coloraxis\": {\"colorbar\": {\"outlinewidth\": 0, \"ticks\": \"\"}}, \"colorscale\": {\"diverging\": [[0, \"#8e0152\"], [0.1, \"#c51b7d\"], [0.2, \"#de77ae\"], [0.3, \"#f1b6da\"], [0.4, \"#fde0ef\"], [0.5, \"#f7f7f7\"], [0.6, \"#e6f5d0\"], [0.7, \"#b8e186\"], [0.8, \"#7fbc41\"], [0.9, \"#4d9221\"], [1, \"#276419\"]], \"sequential\": [[0.0, \"#0d0887\"], [0.1111111111111111, \"#46039f\"], [0.2222222222222222, \"#7201a8\"], [0.3333333333333333, \"#9c179e\"], [0.4444444444444444, \"#bd3786\"], [0.5555555555555556, \"#d8576b\"], [0.6666666666666666, \"#ed7953\"], [0.7777777777777778, \"#fb9f3a\"], [0.8888888888888888, \"#fdca26\"], [1.0, \"#f0f921\"]], \"sequentialminus\": [[0.0, \"#0d0887\"], [0.1111111111111111, \"#46039f\"], [0.2222222222222222, \"#7201a8\"], [0.3333333333333333, \"#9c179e\"], [0.4444444444444444, \"#bd3786\"], [0.5555555555555556, \"#d8576b\"], [0.6666666666666666, \"#ed7953\"], [0.7777777777777778, \"#fb9f3a\"], [0.8888888888888888, \"#fdca26\"], [1.0, \"#f0f921\"]]}, \"colorway\": [\"#636efa\", \"#EF553B\", \"#00cc96\", \"#ab63fa\", \"#FFA15A\", \"#19d3f3\", \"#FF6692\", \"#B6E880\", \"#FF97FF\", \"#FECB52\"], \"font\": {\"color\": \"#2a3f5f\"}, \"geo\": {\"bgcolor\": \"white\", \"lakecolor\": \"white\", \"landcolor\": \"#E5ECF6\", \"showlakes\": true, \"showland\": true, \"subunitcolor\": \"white\"}, \"hoverlabel\": {\"align\": \"left\"}, \"hovermode\": \"closest\", \"mapbox\": {\"style\": \"light\"}, \"paper_bgcolor\": \"white\", \"plot_bgcolor\": \"#E5ECF6\", \"polar\": {\"angularaxis\": {\"gridcolor\": \"white\", \"linecolor\": \"white\", \"ticks\": \"\"}, \"bgcolor\": \"#E5ECF6\", \"radialaxis\": {\"gridcolor\": \"white\", \"linecolor\": \"white\", \"ticks\": \"\"}}, \"scene\": {\"xaxis\": {\"backgroundcolor\": \"#E5ECF6\", \"gridcolor\": \"white\", \"gridwidth\": 2, \"linecolor\": \"white\", \"showbackground\": true, \"ticks\": \"\", \"zerolinecolor\": \"white\"}, \"yaxis\": {\"backgroundcolor\": \"#E5ECF6\", \"gridcolor\": \"white\", \"gridwidth\": 2, \"linecolor\": \"white\", \"showbackground\": true, \"ticks\": \"\", \"zerolinecolor\": \"white\"}, \"zaxis\": {\"backgroundcolor\": \"#E5ECF6\", \"gridcolor\": \"white\", \"gridwidth\": 2, \"linecolor\": \"white\", \"showbackground\": true, \"ticks\": \"\", \"zerolinecolor\": \"white\"}}, \"shapedefaults\": {\"line\": {\"color\": \"#2a3f5f\"}}, \"ternary\": {\"aaxis\": {\"gridcolor\": \"white\", \"linecolor\": \"white\", \"ticks\": \"\"}, \"baxis\": {\"gridcolor\": \"white\", \"linecolor\": \"white\", \"ticks\": \"\"}, \"bgcolor\": \"#E5ECF6\", \"caxis\": {\"gridcolor\": \"white\", \"linecolor\": \"white\", \"ticks\": \"\"}}, \"title\": {\"x\": 0.05}, \"xaxis\": {\"automargin\": true, \"gridcolor\": \"white\", \"linecolor\": \"white\", \"ticks\": \"\", \"title\": {\"standoff\": 15}, \"zerolinecolor\": \"white\", \"zerolinewidth\": 2}, \"yaxis\": {\"automargin\": true, \"gridcolor\": \"white\", \"linecolor\": \"white\", \"ticks\": \"\", \"title\": {\"standoff\": 15}, \"zerolinecolor\": \"white\", \"zerolinewidth\": 2}}}, \"xaxis\": {\"rangeslider\": {\"visible\": true}}, \"yaxis\": {\"autorange\": true, \"fixedrange\": false}},\n",
              "                        {\"responsive\": true}\n",
              "                    ).then(function(){\n",
              "                            \n",
              "var gd = document.getElementById('91e97237-5150-460f-a2aa-416b198c7218');\n",
              "var x = new MutationObserver(function (mutations, observer) {{\n",
              "        var display = window.getComputedStyle(gd).display;\n",
              "        if (!display || display === 'none') {{\n",
              "            console.log([gd, 'removed!']);\n",
              "            Plotly.purge(gd);\n",
              "            observer.disconnect();\n",
              "        }}\n",
              "}});\n",
              "\n",
              "// Listen for the removal of the full notebook cells\n",
              "var notebookContainer = gd.closest('#notebook-container');\n",
              "if (notebookContainer) {{\n",
              "    x.observe(notebookContainer, {childList: true});\n",
              "}}\n",
              "\n",
              "// Listen for the clearing of the current output cell\n",
              "var outputEl = gd.closest('.output');\n",
              "if (outputEl) {{\n",
              "    x.observe(outputEl, {childList: true});\n",
              "}}\n",
              "\n",
              "                        })\n",
              "                };\n",
              "                \n",
              "            </script>\n",
              "        </div>\n",
              "</body>\n",
              "</html>"
            ]
          },
          "metadata": {
            "tags": []
          }
        }
      ]
    }
  ]
}