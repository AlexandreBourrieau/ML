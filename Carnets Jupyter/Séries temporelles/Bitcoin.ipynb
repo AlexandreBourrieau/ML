{
  "nbformat": 4,
  "nbformat_minor": 0,
  "metadata": {
    "colab": {
      "name": "Untitled15.ipynb",
      "provenance": [],
      "authorship_tag": "ABX9TyP4MHhRxNHyaIjEGG+Eoev+",
      "include_colab_link": true
    },
    "kernelspec": {
      "name": "python3",
      "display_name": "Python 3"
    },
    "language_info": {
      "name": "python"
    }
  },
  "cells": [
    {
      "cell_type": "markdown",
      "metadata": {
        "id": "view-in-github",
        "colab_type": "text"
      },
      "source": [
        "<a href=\"https://colab.research.google.com/github/AlexandreBourrieau/ML/blob/main/Carnets%20Jupyter/S%C3%A9ries%20temporelles/Bitcoin.ipynb\" target=\"_parent\"><img src=\"https://colab.research.google.com/assets/colab-badge.svg\" alt=\"Open In Colab\"/></a>"
      ]
    },
    {
      "cell_type": "code",
      "metadata": {
        "id": "dmWQRhArCVLd"
      },
      "source": [
        "import tensorflow as tf\n",
        "from tensorflow import keras\n",
        "\n",
        "import numpy as np\n",
        "import matplotlib.pyplot as plt\n",
        "import pandas as pd"
      ],
      "execution_count": 1,
      "outputs": []
    },
    {
      "cell_type": "markdown",
      "metadata": {
        "id": "TVuCzMYKDp3z"
      },
      "source": [
        "# Chargement des données"
      ]
    },
    {
      "cell_type": "code",
      "metadata": {
        "colab": {
          "base_uri": "https://localhost:8080/"
        },
        "id": "4sOdetggHqKE",
        "outputId": "7f78740c-4951-4f50-afe5-ec6a3392e9ee"
      },
      "source": [
        "!git clone https://github.com/chentinghao/download_google_drive.git\n",
        "!python download_google_drive/download_gdrive.py \"1FZsEdpBm-AQ2L9n_pMnm6336-O_IVo7z\" \"/content/bitcoin.zip\"\n",
        "!unzip bitcoin.zip"
      ],
      "execution_count": 33,
      "outputs": [
        {
          "output_type": "stream",
          "text": [
            "fatal: destination path 'download_google_drive' already exists and is not an empty directory.\n",
            "100MB [00:04, 21.5MB/s] \n"
          ],
          "name": "stdout"
        }
      ]
    },
    {
      "cell_type": "code",
      "metadata": {
        "colab": {
          "base_uri": "https://localhost:8080/",
          "height": 415
        },
        "id": "VEB_JjihEYTP",
        "outputId": "0df9674c-25fb-4cf1-87f8-46d2d76e730a"
      },
      "source": [
        "# Création de la série sous Pandas\n",
        "serie = pd.read_csv(\"bitstampUSD_1-min_data_2012-01-01_to_2021-03-31.csv\")\n",
        "serie[0:100]"
      ],
      "execution_count": 150,
      "outputs": [
        {
          "output_type": "execute_result",
          "data": {
            "text/html": [
              "<div>\n",
              "<style scoped>\n",
              "    .dataframe tbody tr th:only-of-type {\n",
              "        vertical-align: middle;\n",
              "    }\n",
              "\n",
              "    .dataframe tbody tr th {\n",
              "        vertical-align: top;\n",
              "    }\n",
              "\n",
              "    .dataframe thead th {\n",
              "        text-align: right;\n",
              "    }\n",
              "</style>\n",
              "<table border=\"1\" class=\"dataframe\">\n",
              "  <thead>\n",
              "    <tr style=\"text-align: right;\">\n",
              "      <th></th>\n",
              "      <th>Timestamp</th>\n",
              "      <th>Open</th>\n",
              "      <th>High</th>\n",
              "      <th>Low</th>\n",
              "      <th>Close</th>\n",
              "      <th>Volume_(BTC)</th>\n",
              "      <th>Volume_(Currency)</th>\n",
              "      <th>Weighted_Price</th>\n",
              "    </tr>\n",
              "  </thead>\n",
              "  <tbody>\n",
              "    <tr>\n",
              "      <th>0</th>\n",
              "      <td>1325317920</td>\n",
              "      <td>4.39</td>\n",
              "      <td>4.39</td>\n",
              "      <td>4.39</td>\n",
              "      <td>4.39</td>\n",
              "      <td>0.455581</td>\n",
              "      <td>2.0</td>\n",
              "      <td>4.39</td>\n",
              "    </tr>\n",
              "    <tr>\n",
              "      <th>1</th>\n",
              "      <td>1325317980</td>\n",
              "      <td>NaN</td>\n",
              "      <td>NaN</td>\n",
              "      <td>NaN</td>\n",
              "      <td>NaN</td>\n",
              "      <td>NaN</td>\n",
              "      <td>NaN</td>\n",
              "      <td>NaN</td>\n",
              "    </tr>\n",
              "    <tr>\n",
              "      <th>2</th>\n",
              "      <td>1325318040</td>\n",
              "      <td>NaN</td>\n",
              "      <td>NaN</td>\n",
              "      <td>NaN</td>\n",
              "      <td>NaN</td>\n",
              "      <td>NaN</td>\n",
              "      <td>NaN</td>\n",
              "      <td>NaN</td>\n",
              "    </tr>\n",
              "    <tr>\n",
              "      <th>3</th>\n",
              "      <td>1325318100</td>\n",
              "      <td>NaN</td>\n",
              "      <td>NaN</td>\n",
              "      <td>NaN</td>\n",
              "      <td>NaN</td>\n",
              "      <td>NaN</td>\n",
              "      <td>NaN</td>\n",
              "      <td>NaN</td>\n",
              "    </tr>\n",
              "    <tr>\n",
              "      <th>4</th>\n",
              "      <td>1325318160</td>\n",
              "      <td>NaN</td>\n",
              "      <td>NaN</td>\n",
              "      <td>NaN</td>\n",
              "      <td>NaN</td>\n",
              "      <td>NaN</td>\n",
              "      <td>NaN</td>\n",
              "      <td>NaN</td>\n",
              "    </tr>\n",
              "    <tr>\n",
              "      <th>...</th>\n",
              "      <td>...</td>\n",
              "      <td>...</td>\n",
              "      <td>...</td>\n",
              "      <td>...</td>\n",
              "      <td>...</td>\n",
              "      <td>...</td>\n",
              "      <td>...</td>\n",
              "      <td>...</td>\n",
              "    </tr>\n",
              "    <tr>\n",
              "      <th>95</th>\n",
              "      <td>1325323620</td>\n",
              "      <td>NaN</td>\n",
              "      <td>NaN</td>\n",
              "      <td>NaN</td>\n",
              "      <td>NaN</td>\n",
              "      <td>NaN</td>\n",
              "      <td>NaN</td>\n",
              "      <td>NaN</td>\n",
              "    </tr>\n",
              "    <tr>\n",
              "      <th>96</th>\n",
              "      <td>1325323680</td>\n",
              "      <td>NaN</td>\n",
              "      <td>NaN</td>\n",
              "      <td>NaN</td>\n",
              "      <td>NaN</td>\n",
              "      <td>NaN</td>\n",
              "      <td>NaN</td>\n",
              "      <td>NaN</td>\n",
              "    </tr>\n",
              "    <tr>\n",
              "      <th>97</th>\n",
              "      <td>1325323740</td>\n",
              "      <td>NaN</td>\n",
              "      <td>NaN</td>\n",
              "      <td>NaN</td>\n",
              "      <td>NaN</td>\n",
              "      <td>NaN</td>\n",
              "      <td>NaN</td>\n",
              "      <td>NaN</td>\n",
              "    </tr>\n",
              "    <tr>\n",
              "      <th>98</th>\n",
              "      <td>1325323800</td>\n",
              "      <td>NaN</td>\n",
              "      <td>NaN</td>\n",
              "      <td>NaN</td>\n",
              "      <td>NaN</td>\n",
              "      <td>NaN</td>\n",
              "      <td>NaN</td>\n",
              "      <td>NaN</td>\n",
              "    </tr>\n",
              "    <tr>\n",
              "      <th>99</th>\n",
              "      <td>1325323860</td>\n",
              "      <td>NaN</td>\n",
              "      <td>NaN</td>\n",
              "      <td>NaN</td>\n",
              "      <td>NaN</td>\n",
              "      <td>NaN</td>\n",
              "      <td>NaN</td>\n",
              "      <td>NaN</td>\n",
              "    </tr>\n",
              "  </tbody>\n",
              "</table>\n",
              "<p>100 rows × 8 columns</p>\n",
              "</div>"
            ],
            "text/plain": [
              "     Timestamp  Open  High  ...  Volume_(BTC)  Volume_(Currency)  Weighted_Price\n",
              "0   1325317920  4.39  4.39  ...      0.455581                2.0            4.39\n",
              "1   1325317980   NaN   NaN  ...           NaN                NaN             NaN\n",
              "2   1325318040   NaN   NaN  ...           NaN                NaN             NaN\n",
              "3   1325318100   NaN   NaN  ...           NaN                NaN             NaN\n",
              "4   1325318160   NaN   NaN  ...           NaN                NaN             NaN\n",
              "..         ...   ...   ...  ...           ...                ...             ...\n",
              "95  1325323620   NaN   NaN  ...           NaN                NaN             NaN\n",
              "96  1325323680   NaN   NaN  ...           NaN                NaN             NaN\n",
              "97  1325323740   NaN   NaN  ...           NaN                NaN             NaN\n",
              "98  1325323800   NaN   NaN  ...           NaN                NaN             NaN\n",
              "99  1325323860   NaN   NaN  ...           NaN                NaN             NaN\n",
              "\n",
              "[100 rows x 8 columns]"
            ]
          },
          "metadata": {
            "tags": []
          },
          "execution_count": 150
        }
      ]
    },
    {
      "cell_type": "code",
      "metadata": {
        "colab": {
          "base_uri": "https://localhost:8080/",
          "height": 415
        },
        "id": "HdLSr2IWSOnX",
        "outputId": "910f4745-d749-4504-924f-46f6b23e8ccf"
      },
      "source": [
        "# Convesion des timestamp en date\n",
        "serie.Timestamp = pd.to_datetime(serie['Timestamp'], unit=\"s\")\n",
        "serie"
      ],
      "execution_count": 208,
      "outputs": [
        {
          "output_type": "execute_result",
          "data": {
            "text/html": [
              "<div>\n",
              "<style scoped>\n",
              "    .dataframe tbody tr th:only-of-type {\n",
              "        vertical-align: middle;\n",
              "    }\n",
              "\n",
              "    .dataframe tbody tr th {\n",
              "        vertical-align: top;\n",
              "    }\n",
              "\n",
              "    .dataframe thead th {\n",
              "        text-align: right;\n",
              "    }\n",
              "</style>\n",
              "<table border=\"1\" class=\"dataframe\">\n",
              "  <thead>\n",
              "    <tr style=\"text-align: right;\">\n",
              "      <th></th>\n",
              "      <th>Timestamp</th>\n",
              "      <th>Open</th>\n",
              "      <th>High</th>\n",
              "      <th>Low</th>\n",
              "      <th>Close</th>\n",
              "      <th>Volume_(BTC)</th>\n",
              "      <th>Volume_(Currency)</th>\n",
              "      <th>Weighted_Price</th>\n",
              "    </tr>\n",
              "  </thead>\n",
              "  <tbody>\n",
              "    <tr>\n",
              "      <th>0</th>\n",
              "      <td>2011-12-31 07:52:00</td>\n",
              "      <td>4.39</td>\n",
              "      <td>4.39</td>\n",
              "      <td>4.39</td>\n",
              "      <td>4.39</td>\n",
              "      <td>0.455581</td>\n",
              "      <td>2.000000</td>\n",
              "      <td>4.390000</td>\n",
              "    </tr>\n",
              "    <tr>\n",
              "      <th>1</th>\n",
              "      <td>2011-12-31 07:53:00</td>\n",
              "      <td>NaN</td>\n",
              "      <td>NaN</td>\n",
              "      <td>NaN</td>\n",
              "      <td>NaN</td>\n",
              "      <td>NaN</td>\n",
              "      <td>NaN</td>\n",
              "      <td>NaN</td>\n",
              "    </tr>\n",
              "    <tr>\n",
              "      <th>2</th>\n",
              "      <td>2011-12-31 07:54:00</td>\n",
              "      <td>NaN</td>\n",
              "      <td>NaN</td>\n",
              "      <td>NaN</td>\n",
              "      <td>NaN</td>\n",
              "      <td>NaN</td>\n",
              "      <td>NaN</td>\n",
              "      <td>NaN</td>\n",
              "    </tr>\n",
              "    <tr>\n",
              "      <th>3</th>\n",
              "      <td>2011-12-31 07:55:00</td>\n",
              "      <td>NaN</td>\n",
              "      <td>NaN</td>\n",
              "      <td>NaN</td>\n",
              "      <td>NaN</td>\n",
              "      <td>NaN</td>\n",
              "      <td>NaN</td>\n",
              "      <td>NaN</td>\n",
              "    </tr>\n",
              "    <tr>\n",
              "      <th>4</th>\n",
              "      <td>2011-12-31 07:56:00</td>\n",
              "      <td>NaN</td>\n",
              "      <td>NaN</td>\n",
              "      <td>NaN</td>\n",
              "      <td>NaN</td>\n",
              "      <td>NaN</td>\n",
              "      <td>NaN</td>\n",
              "      <td>NaN</td>\n",
              "    </tr>\n",
              "    <tr>\n",
              "      <th>...</th>\n",
              "      <td>...</td>\n",
              "      <td>...</td>\n",
              "      <td>...</td>\n",
              "      <td>...</td>\n",
              "      <td>...</td>\n",
              "      <td>...</td>\n",
              "      <td>...</td>\n",
              "      <td>...</td>\n",
              "    </tr>\n",
              "    <tr>\n",
              "      <th>4857372</th>\n",
              "      <td>2021-03-30 23:56:00</td>\n",
              "      <td>58714.31</td>\n",
              "      <td>58714.31</td>\n",
              "      <td>58686.00</td>\n",
              "      <td>58686.00</td>\n",
              "      <td>1.384487</td>\n",
              "      <td>81259.372187</td>\n",
              "      <td>58692.753339</td>\n",
              "    </tr>\n",
              "    <tr>\n",
              "      <th>4857373</th>\n",
              "      <td>2021-03-30 23:57:00</td>\n",
              "      <td>58683.97</td>\n",
              "      <td>58693.43</td>\n",
              "      <td>58683.97</td>\n",
              "      <td>58685.81</td>\n",
              "      <td>7.294848</td>\n",
              "      <td>428158.146640</td>\n",
              "      <td>58693.226508</td>\n",
              "    </tr>\n",
              "    <tr>\n",
              "      <th>4857374</th>\n",
              "      <td>2021-03-30 23:58:00</td>\n",
              "      <td>58693.43</td>\n",
              "      <td>58723.84</td>\n",
              "      <td>58693.43</td>\n",
              "      <td>58723.84</td>\n",
              "      <td>1.705682</td>\n",
              "      <td>100117.070370</td>\n",
              "      <td>58696.198496</td>\n",
              "    </tr>\n",
              "    <tr>\n",
              "      <th>4857375</th>\n",
              "      <td>2021-03-30 23:59:00</td>\n",
              "      <td>58742.18</td>\n",
              "      <td>58770.38</td>\n",
              "      <td>58742.18</td>\n",
              "      <td>58760.59</td>\n",
              "      <td>0.720415</td>\n",
              "      <td>42332.958633</td>\n",
              "      <td>58761.866202</td>\n",
              "    </tr>\n",
              "    <tr>\n",
              "      <th>4857376</th>\n",
              "      <td>2021-03-31 00:00:00</td>\n",
              "      <td>58767.75</td>\n",
              "      <td>58778.18</td>\n",
              "      <td>58755.97</td>\n",
              "      <td>58778.18</td>\n",
              "      <td>2.712831</td>\n",
              "      <td>159417.751000</td>\n",
              "      <td>58764.349363</td>\n",
              "    </tr>\n",
              "  </tbody>\n",
              "</table>\n",
              "<p>4857377 rows × 8 columns</p>\n",
              "</div>"
            ],
            "text/plain": [
              "                  Timestamp      Open  ...  Volume_(Currency)  Weighted_Price\n",
              "0       2011-12-31 07:52:00      4.39  ...           2.000000        4.390000\n",
              "1       2011-12-31 07:53:00       NaN  ...                NaN             NaN\n",
              "2       2011-12-31 07:54:00       NaN  ...                NaN             NaN\n",
              "3       2011-12-31 07:55:00       NaN  ...                NaN             NaN\n",
              "4       2011-12-31 07:56:00       NaN  ...                NaN             NaN\n",
              "...                     ...       ...  ...                ...             ...\n",
              "4857372 2021-03-30 23:56:00  58714.31  ...       81259.372187    58692.753339\n",
              "4857373 2021-03-30 23:57:00  58683.97  ...      428158.146640    58693.226508\n",
              "4857374 2021-03-30 23:58:00  58693.43  ...      100117.070370    58696.198496\n",
              "4857375 2021-03-30 23:59:00  58742.18  ...       42332.958633    58761.866202\n",
              "4857376 2021-03-31 00:00:00  58767.75  ...      159417.751000    58764.349363\n",
              "\n",
              "[4857377 rows x 8 columns]"
            ]
          },
          "metadata": {
            "tags": []
          },
          "execution_count": 208
        }
      ]
    },
    {
      "cell_type": "code",
      "metadata": {
        "colab": {
          "base_uri": "https://localhost:8080/",
          "height": 446
        },
        "id": "DVNlzo9QWNmP",
        "outputId": "516f302b-850f-42d7-9903-c56850149807"
      },
      "source": [
        "serie_jour = serie.set_index('Timestamp').resample('1D').asfreq()\n",
        "serie_jour"
      ],
      "execution_count": 221,
      "outputs": [
        {
          "output_type": "execute_result",
          "data": {
            "text/html": [
              "<div>\n",
              "<style scoped>\n",
              "    .dataframe tbody tr th:only-of-type {\n",
              "        vertical-align: middle;\n",
              "    }\n",
              "\n",
              "    .dataframe tbody tr th {\n",
              "        vertical-align: top;\n",
              "    }\n",
              "\n",
              "    .dataframe thead th {\n",
              "        text-align: right;\n",
              "    }\n",
              "</style>\n",
              "<table border=\"1\" class=\"dataframe\">\n",
              "  <thead>\n",
              "    <tr style=\"text-align: right;\">\n",
              "      <th></th>\n",
              "      <th>Open</th>\n",
              "      <th>High</th>\n",
              "      <th>Low</th>\n",
              "      <th>Close</th>\n",
              "      <th>Volume_(BTC)</th>\n",
              "      <th>Volume_(Currency)</th>\n",
              "      <th>Weighted_Price</th>\n",
              "    </tr>\n",
              "    <tr>\n",
              "      <th>Timestamp</th>\n",
              "      <th></th>\n",
              "      <th></th>\n",
              "      <th></th>\n",
              "      <th></th>\n",
              "      <th></th>\n",
              "      <th></th>\n",
              "      <th></th>\n",
              "    </tr>\n",
              "  </thead>\n",
              "  <tbody>\n",
              "    <tr>\n",
              "      <th>2011-12-31</th>\n",
              "      <td>NaN</td>\n",
              "      <td>NaN</td>\n",
              "      <td>NaN</td>\n",
              "      <td>NaN</td>\n",
              "      <td>NaN</td>\n",
              "      <td>NaN</td>\n",
              "      <td>NaN</td>\n",
              "    </tr>\n",
              "    <tr>\n",
              "      <th>2012-01-01</th>\n",
              "      <td>NaN</td>\n",
              "      <td>NaN</td>\n",
              "      <td>NaN</td>\n",
              "      <td>NaN</td>\n",
              "      <td>NaN</td>\n",
              "      <td>NaN</td>\n",
              "      <td>NaN</td>\n",
              "    </tr>\n",
              "    <tr>\n",
              "      <th>2012-01-02</th>\n",
              "      <td>NaN</td>\n",
              "      <td>NaN</td>\n",
              "      <td>NaN</td>\n",
              "      <td>NaN</td>\n",
              "      <td>NaN</td>\n",
              "      <td>NaN</td>\n",
              "      <td>NaN</td>\n",
              "    </tr>\n",
              "    <tr>\n",
              "      <th>2012-01-03</th>\n",
              "      <td>NaN</td>\n",
              "      <td>NaN</td>\n",
              "      <td>NaN</td>\n",
              "      <td>NaN</td>\n",
              "      <td>NaN</td>\n",
              "      <td>NaN</td>\n",
              "      <td>NaN</td>\n",
              "    </tr>\n",
              "    <tr>\n",
              "      <th>2012-01-04</th>\n",
              "      <td>NaN</td>\n",
              "      <td>NaN</td>\n",
              "      <td>NaN</td>\n",
              "      <td>NaN</td>\n",
              "      <td>NaN</td>\n",
              "      <td>NaN</td>\n",
              "      <td>NaN</td>\n",
              "    </tr>\n",
              "    <tr>\n",
              "      <th>...</th>\n",
              "      <td>...</td>\n",
              "      <td>...</td>\n",
              "      <td>...</td>\n",
              "      <td>...</td>\n",
              "      <td>...</td>\n",
              "      <td>...</td>\n",
              "      <td>...</td>\n",
              "    </tr>\n",
              "    <tr>\n",
              "      <th>2021-03-27</th>\n",
              "      <td>55081.26</td>\n",
              "      <td>55300.00</td>\n",
              "      <td>55081.26</td>\n",
              "      <td>55261.73</td>\n",
              "      <td>8.781130</td>\n",
              "      <td>484506.899450</td>\n",
              "      <td>55175.914921</td>\n",
              "    </tr>\n",
              "    <tr>\n",
              "      <th>2021-03-28</th>\n",
              "      <td>55817.85</td>\n",
              "      <td>55920.82</td>\n",
              "      <td>55807.12</td>\n",
              "      <td>55920.82</td>\n",
              "      <td>0.770004</td>\n",
              "      <td>43011.953916</td>\n",
              "      <td>55859.414172</td>\n",
              "    </tr>\n",
              "    <tr>\n",
              "      <th>2021-03-29</th>\n",
              "      <td>55790.28</td>\n",
              "      <td>55822.98</td>\n",
              "      <td>55777.98</td>\n",
              "      <td>55804.36</td>\n",
              "      <td>1.731449</td>\n",
              "      <td>96636.546983</td>\n",
              "      <td>55812.518695</td>\n",
              "    </tr>\n",
              "    <tr>\n",
              "      <th>2021-03-30</th>\n",
              "      <td>57623.66</td>\n",
              "      <td>57670.58</td>\n",
              "      <td>57604.30</td>\n",
              "      <td>57670.58</td>\n",
              "      <td>4.961638</td>\n",
              "      <td>285963.732560</td>\n",
              "      <td>57634.946721</td>\n",
              "    </tr>\n",
              "    <tr>\n",
              "      <th>2021-03-31</th>\n",
              "      <td>58767.75</td>\n",
              "      <td>58778.18</td>\n",
              "      <td>58755.97</td>\n",
              "      <td>58778.18</td>\n",
              "      <td>2.712831</td>\n",
              "      <td>159417.751000</td>\n",
              "      <td>58764.349363</td>\n",
              "    </tr>\n",
              "  </tbody>\n",
              "</table>\n",
              "<p>3379 rows × 7 columns</p>\n",
              "</div>"
            ],
            "text/plain": [
              "                Open      High  ...  Volume_(Currency)  Weighted_Price\n",
              "Timestamp                       ...                                   \n",
              "2011-12-31       NaN       NaN  ...                NaN             NaN\n",
              "2012-01-01       NaN       NaN  ...                NaN             NaN\n",
              "2012-01-02       NaN       NaN  ...                NaN             NaN\n",
              "2012-01-03       NaN       NaN  ...                NaN             NaN\n",
              "2012-01-04       NaN       NaN  ...                NaN             NaN\n",
              "...              ...       ...  ...                ...             ...\n",
              "2021-03-27  55081.26  55300.00  ...      484506.899450    55175.914921\n",
              "2021-03-28  55817.85  55920.82  ...       43011.953916    55859.414172\n",
              "2021-03-29  55790.28  55822.98  ...       96636.546983    55812.518695\n",
              "2021-03-30  57623.66  57670.58  ...      285963.732560    57634.946721\n",
              "2021-03-31  58767.75  58778.18  ...      159417.751000    58764.349363\n",
              "\n",
              "[3379 rows x 7 columns]"
            ]
          },
          "metadata": {
            "tags": []
          },
          "execution_count": 221
        }
      ]
    },
    {
      "cell_type": "code",
      "metadata": {
        "colab": {
          "base_uri": "https://localhost:8080/",
          "height": 337
        },
        "id": "T1QKMBThNQni",
        "outputId": "ad55e39a-9a2c-4feb-a2e4-40b55470d3e1"
      },
      "source": [
        "# Récupère les prix à l'ouverture\n",
        "prix_ouverture = np.asarray(serie_jour.Open)\n",
        "dates_ouverture = np.asarray(serie_jour.index)\n",
        "temps_ouverture = np.asarray(serie_jour.reset_index().index.copy())\n",
        "\n",
        "# Affiche la série\n",
        "plt.figure(figsize=(15,5))\n",
        "plt.plot(dates_ouverture, prix_ouverture)"
      ],
      "execution_count": 223,
      "outputs": [
        {
          "output_type": "execute_result",
          "data": {
            "text/plain": [
              "[<matplotlib.lines.Line2D at 0x7f9747a88ad0>]"
            ]
          },
          "metadata": {
            "tags": []
          },
          "execution_count": 223
        },
        {
          "output_type": "display_data",
          "data": {
            "image/png": "[encoded data removed]",
            "text/plain": [
              "<Figure size 1080x360 with 1 Axes>"
            ]
          },
          "metadata": {
            "tags": [],
            "needs_background": "light"
          }
        }
      ]
    },
    {
      "cell_type": "markdown",
      "metadata": {
        "id": "zU7u1mA1E6jk"
      },
      "source": [
        "# Affichage des données"
      ]
    },
    {
      "cell_type": "code",
      "metadata": {
        "colab": {
          "base_uri": "https://localhost:8080/",
          "height": 404
        },
        "id": "SNMwZsM3E81e",
        "outputId": "e83531c8-ca56-45db-b244-6189ae919a33"
      },
      "source": [
        "temps = np.linspace(0,len(serie),len(serie))\n",
        "plt.figure(figsize=(10, 6))\n",
        "affiche_serie(temps,serie)\n",
        "plt.title('Chickenpox')\n",
        "plt.show()"
      ],
      "execution_count": 9,
      "outputs": [
        {
          "output_type": "display_data",
          "data": {
            "image/png": "[encoded data removed]",
            "text/plain": [
              "<Figure size 720x432 with 1 Axes>"
            ]
          },
          "metadata": {
            "tags": [],
            "needs_background": "light"
          }
        }
      ]
    }
  ]
}