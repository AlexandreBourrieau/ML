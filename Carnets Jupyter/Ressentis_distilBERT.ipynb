{
  "nbformat": 4,
  "nbformat_minor": 0,
  "metadata": {
    "colab": {
      "name": "Untitled1.ipynb",
      "provenance": [],
      "authorship_tag": "ABX9TyPypYqi7N0FexCt2u7pGjyt",
      "include_colab_link": true
    },
    "kernelspec": {
      "name": "python3",
      "display_name": "Python 3"
    },
    "accelerator": "GPU"
  },
  "cells": [
    {
      "cell_type": "markdown",
      "metadata": {
        "id": "view-in-github",
        "colab_type": "text"
      },
      "source": [
        "<a href=\"https://colab.research.google.com/github/AlexandreBourrieau/ML/blob/main/Carnets%20Jupyter/Ressentis_distilBERT.ipynb\" target=\"_parent\"><img src=\"https://colab.research.google.com/assets/colab-badge.svg\" alt=\"Open In Colab\"/></a>"
      ]
    },
    {
      "cell_type": "markdown",
      "metadata": {
        "id": "LJih03NWtfi0"
      },
      "source": [
        "# **Classification de ressentis avec distilBERT**"
      ]
    },
    {
      "cell_type": "markdown",
      "metadata": {
        "id": "x6Xo1x4rtto8"
      },
      "source": [
        "L'objectif est de créer un modèle qui prend en entrée des commentaires (en Anglais) et attribue à chacun un ressenti positif ou négatif.  \n",
        "Le modèle global est composé de deux parties :  \n",
        "* [DistilBERT](https://huggingface.co/transformers/model_doc/distilbert.html) (une version allégée de BERT) va encoder le commentaire et en extraire des informations qui seront passées ensuite au réseau de neurones.  \n",
        "* Le modèle suivant est un réseau de neurones qui sera créé avec l'API [Keras](https://www.tensorflow.org/guide/keras?hl=fr) de [Tensorflow](https://www.tensorflow.org/?hl=fr).  \n",
        "\n",
        "Nous testerons deux modèles de réseaux de neurones pour traiter les sorties de DistilBERT :  \n",
        "* Un modèle très simple, composé de 2 neurones avec une fonction d'activation Softmax\n",
        "* Un modèle plus complexe, qui sera en fait le même que celui utilisé lors de l'activité avec GloVe\n",
        "\n",
        "<img src=\"https://raw.githubusercontent.com/AlexandreBourrieau/ML/master/Carnets%20Jupyter/Images/StructureBERT.png\" />  \n",
        "  \n",
        "  Les données qui s'échangent entre les deux modèles sont des vecteurs de dimension 768. On peut voir ces vecteurs comme l'équivalent de l'application d'un algorithme de prolongation lexicale sur les mots qui composent le commentaire."
      ]
    },
    {
      "cell_type": "markdown",
      "metadata": {
        "id": "gePh7FotwPTH"
      },
      "source": [
        "# **Installation et importation des librairies**\n"
      ]
    },
    {
      "cell_type": "code",
      "metadata": {
        "id": "g5WrrT_pzIHu"
      },
      "source": [
        "!pip install transformers sentencepiece --quiet"
      ],
      "execution_count": null,
      "outputs": []
    },
    {
      "cell_type": "code",
      "metadata": {
        "id": "L5n4uHtutPlJ"
      },
      "source": [
        "import pandas as pd\n",
        "import numpy as np\n",
        "import tensorflow as tf\n",
        "\n",
        "from tensorflow.keras.layers import Dense, Dropout, Input, Dropout, Lambda, Conv1D, GlobalMaxPooling1D\n",
        "from tensorflow.keras import Sequential\n",
        "from tensorflow.keras.models import Model\n",
        "from tensorflow.keras.optimizers import Adam\n",
        "\n",
        "from sklearn.model_selection import train_test_split\n",
        "\n",
        "from transformers import DistilBertConfig\n",
        "from transformers import TFDistilBertModel\n",
        "from transformers import AutoTokenizer\n",
        "\n",
        "import matplotlib.pyplot as plt"
      ],
      "execution_count": null,
      "outputs": []
    },
    {
      "cell_type": "markdown",
      "metadata": {
        "id": "uWZEaivhxTd2"
      },
      "source": [
        "# **Importation des données**\n",
        "\n",
        "On utilise la librairie pandas pour lire les données depuis le fichier csv disponible sur le site de [standford](https://nlp.stanford.edu/sentiment/index.html) qui contient des commentaires sur des films, chacun d'eux avec une note positive (1) ou négative (0)."
      ]
    },
    {
      "cell_type": "code",
      "metadata": {
        "id": "hOrjCZGyyH4P"
      },
      "source": [
        "df = pd.read_csv('https://raw.githubusercontent.com/AlexandreBourrieau/ML/master/Carnets%20Jupyter/Donn%C3%A9es/train.csv', delimiter='\\t', header=None)"
      ],
      "execution_count": null,
      "outputs": []
    },
    {
      "cell_type": "markdown",
      "metadata": {
        "id": "xiO-lNQ6zYpU"
      },
      "source": [
        "Affiche quelques informations :"
      ]
    },
    {
      "cell_type": "code",
      "metadata": {
        "id": "uOMoEtbysA5q"
      },
      "source": [
        "def LongueurMax(df):\n",
        "  Lmax = 0\n",
        "  for com in df[0]:\n",
        "    Longueur = len(com)\n",
        "    if Lmax < Longueur:\n",
        "      Lmax = Longueur\n",
        "  return Lmax"
      ],
      "execution_count": null,
      "outputs": []
    },
    {
      "cell_type": "code",
      "metadata": {
        "id": "FQT1SwyBzPvP"
      },
      "source": [
        "print(df[0:10])\n",
        "print(\"Total des données : \", str(len(df)))\n",
        "print(\"Nombre d'avis positifs et négatifs : \",df[1].value_counts())\n",
        "print(\"Longueur maximale d'un commentaire : \",LongueurMax(df))"
      ],
      "execution_count": null,
      "outputs": []
    },
    {
      "cell_type": "markdown",
      "metadata": {
        "id": "n4Vcm5K3Dej4"
      },
      "source": [
        "# **Préparation des données**\n"
      ]
    },
    {
      "cell_type": "code",
      "metadata": {
        "id": "XefRRLg2DiQs"
      },
      "source": [
        "MAX = 3500\n",
        "\n",
        "# Chargement des commentaires et des ressentis\n",
        "commentaires = df[0].astype(str).tolist()    # Récupère tous les commentaires dans une liste python\n",
        "ressentis = df[1].tolist()                   # Récupère tous les ressentis dans une liste python\n",
        "labels = np.asarray(ressentis)               # Créé un tableau de type numpy avec les ressentis\n",
        "\n",
        "x_entrainement, x_test, y_entrainement, y_test = train_test_split(commentaires[0:MAX], labels[0:MAX], test_size=0.25)"
      ],
      "execution_count": null,
      "outputs": []
    },
    {
      "cell_type": "code",
      "metadata": {
        "id": "4tajm9VKu1pg"
      },
      "source": [
        "print (\"Nombre de commentaires pour l'entrainement : \", len(x_entrainement))\n",
        "print (\"Nombre de commentaires pour les tests : \", len(x_test))"
      ],
      "execution_count": null,
      "outputs": []
    },
    {
      "cell_type": "markdown",
      "metadata": {
        "id": "QDDdUWj83wuz"
      },
      "source": [
        "# Tokénisation  \n",
        "La première étape est de tokéniser les commentaires : les mots sont décomposés en index numériques au format BERT.  \n",
        "\n",
        "<img src=\"https://github.com/AlexandreBourrieau/ML/blob/main/Carnets%20Jupyter/Images/TokenizeBERT.png?raw=true\" />\n",
        "\n",
        "Après tokénisation, on obtient une liste de séquences et chaque séquence représente une liste d'index. On souhaite que BERT analyse toutes les séquences en une seule fois (ce qui est plus rapide). Il faut donc que toutes les séquences aient la même taille. On va donc ajouter du bourrage pour égaliser la longueur des séquences. Cela est indiqué avec le paramètre `padding='True'`.  \n",
        "Lorsque un bourrage est ajouté, il faut que BERT ne prenne pas en compte les mots à cette position (car il n'y en a pas !). Cette restriction est réalisé grace à l'`attention_mask`"
      ]
    },
    {
      "cell_type": "code",
      "metadata": {
        "id": "yHhqUPeiqzam"
      },
      "source": [
        "LONGUEUR_MAX_COMMENTAIRE = LongueurMax(df) + 2\n",
        "\n",
        "# Instanciation du tokeniseur\n",
        "tokenizer = AutoTokenizer.from_pretrained('distilbert-base-uncased',use_fast=False)\n",
        "\n",
        "# Préparation des données d'entrainement\n",
        "output_tokenizer_entrainement = tokenizer(x_entrainement,max_length=LONGUEUR_MAX_COMMENTAIRE, padding='max_length', truncation=False, return_tensors='tf',add_special_tokens=True)\n",
        "\n",
        "# Préparation des données de tests\n",
        "output_tokenizer_tests = tokenizer(x_test,max_length=LONGUEUR_MAX_COMMENTAIRE, padding='max_length', truncation=False, return_tensors='tf',add_special_tokens=True)"
      ],
      "execution_count": null,
      "outputs": []
    },
    {
      "cell_type": "markdown",
      "metadata": {
        "id": "_kwmm53NCihe"
      },
      "source": [
        "Les commentaires sont maintenant tous tokénisés :"
      ]
    },
    {
      "cell_type": "markdown",
      "metadata": {
        "id": "2WVYvpcRChKd"
      },
      "source": [
        "\n",
        "<img src=\"https://raw.githubusercontent.com/AlexandreBourrieau/ML/master/Carnets%20Jupyter/Images/SeparationData2.png\"/>"
      ]
    },
    {
      "cell_type": "markdown",
      "metadata": {
        "id": "kzboG3fX5LkP"
      },
      "source": [
        "Regardons un peu comment sont formatées les données en sortie du tokéniseur :"
      ]
    },
    {
      "cell_type": "code",
      "metadata": {
        "id": "_0BL0iiKzVS7"
      },
      "source": [
        "output_tokenizer_entrainement"
      ],
      "execution_count": null,
      "outputs": []
    },
    {
      "cell_type": "markdown",
      "metadata": {
        "id": "fejN7ZrzzaOu"
      },
      "source": [
        "Regardons comment le premier commentaire a été encodé :"
      ]
    },
    {
      "cell_type": "code",
      "metadata": {
        "id": "Q-E6oJcG5Qlj"
      },
      "source": [
        "print(\"Commentaire original :\", x_entrainement[0])\n",
        "print(\"input_ids: \", output_tokenizer_entrainement['input_ids'][0])\n",
        "print(\"attention_mask: \", output_tokenizer_entrainement['attention_mask'][0])"
      ],
      "execution_count": null,
      "outputs": []
    },
    {
      "cell_type": "markdown",
      "metadata": {
        "id": "xAmGZYP86Hx7"
      },
      "source": [
        "Regardons les 3 premiers résultats de la tokénisation : On peut identifier les mot-clés **[CLS]** (valeur : 101) et **[SEP]** (valeur : 102)"
      ]
    },
    {
      "cell_type": "code",
      "metadata": {
        "id": "WWVaSBqo59qW"
      },
      "source": [
        "for i in range (0,3):\n",
        "  print(output_tokenizer_entrainement['input_ids'][i])"
      ],
      "execution_count": null,
      "outputs": []
    },
    {
      "cell_type": "markdown",
      "metadata": {
        "id": "Vakqzatl3le0"
      },
      "source": [
        "# **Définition et utilisation du modèle distilBERT avec Keras**"
      ]
    },
    {
      "cell_type": "markdown",
      "metadata": {
        "id": "uE_TEftF1OCf"
      },
      "source": [
        "Les données d'entrées étant maintenant correctement préparées, commençons par définir le modèle distilBERT pour ensuite l'appliquer aux données afin de réaliser l'opération de prolongation lexicale.  \n",
        "\n",
        "<img src=\"https://raw.githubusercontent.com/AlexandreBourrieau/ML/master/Carnets%20Jupyter/Images/distilBERT_process.png\" style=\"width: 600px;\"/>."
      ]
    },
    {
      "cell_type": "code",
      "metadata": {
        "id": "38a0wigo18Zg"
      },
      "source": [
        "# Configuration du modèle distilBERT\n",
        "config = DistilBertConfig(num_labels=2)             # 2 labels en sortie\n",
        "\n",
        "# Instanciation du modèle distilBERT\n",
        "transformer_model = TFDistilBertModel.from_pretrained('distilbert-base-uncased', config = config)\n",
        "\n",
        "# Défintion du format des entrées du modèle\n",
        "entrees_ids = tf.keras.layers.Input(shape=(LONGUEUR_MAX_COMMENTAIRE,), name='input_token', dtype='int32')\n",
        "entrees_masks = tf.keras.layers.Input(shape=(LONGUEUR_MAX_COMMENTAIRE,), name='masked_token', dtype='int32') \n",
        "\n",
        "# Création de la sortie du modèle\n",
        "sortie_distilBERT = transformer_model([entrees_ids,entrees_masks])\n",
        "\n",
        "# Instanciation du modèle avec Keras\n",
        "model_distilBERT = tf.keras.Model(inputs=[entrees_ids, entrees_masks], outputs = sortie_distilBERT,trainable=False)\n",
        "model_distilBERT.summary()"
      ],
      "execution_count": null,
      "outputs": []
    },
    {
      "cell_type": "markdown",
      "metadata": {
        "id": "z9vwylPK8B2d"
      },
      "source": [
        "Pour chaque commentaire en entrée, la sortie du modèle distilBERT est un vecteur de dimension MAX_SEQUENCE_LENGTH :\n",
        "* Il y a au maximum MAX_SEQUENCE_LENGTH mots dans chaque commentaire\n",
        "* Il y a un vecteur en sortie du modèle par mot dans chaque commentaire\n",
        "* Le vecteur qui code chaque mot est de dimension 768"
      ]
    },
    {
      "cell_type": "markdown",
      "metadata": {
        "id": "84jTmbNS9och"
      },
      "source": [
        "Vérifions cela en regardant le format de la sortie du modèle :"
      ]
    },
    {
      "cell_type": "code",
      "metadata": {
        "id": "SRyx0t5z5_zY"
      },
      "source": [
        "sortie_distilBERT"
      ],
      "execution_count": null,
      "outputs": []
    },
    {
      "cell_type": "markdown",
      "metadata": {
        "id": "RDYf-Owpwk4Q"
      },
      "source": [
        "La fonction `predict()` permet d'exécuter le modèle sur les séquences d'entrées"
      ]
    },
    {
      "cell_type": "code",
      "metadata": {
        "id": "l-NlEgWUxehg"
      },
      "source": [
        "sortie_vecteurs_distilBERT = model_distilBERT.predict(\n",
        "    [output_tokenizer_entrainement['input_ids'][0:2],\n",
        "     output_tokenizer_entrainement['attention_mask'][0:2]]\n",
        "     ,verbose=1)"
      ],
      "execution_count": null,
      "outputs": []
    },
    {
      "cell_type": "markdown",
      "metadata": {
        "id": "nr1pLKgsCwMP"
      },
      "source": [
        "Regardons à quoi ressemble la sortie de distilBERT :"
      ]
    },
    {
      "cell_type": "markdown",
      "metadata": {
        "id": "M2EaziuPDIsO"
      },
      "source": [
        "\n",
        "<img src=\"https://raw.githubusercontent.com/AlexandreBourrieau/ML/master/Carnets%20Jupyter/Images/distilBERT_process.png\" style=\"width: 600px;\"/>."
      ]
    },
    {
      "cell_type": "code",
      "metadata": {
        "id": "8aRQgN8AxmZ0"
      },
      "source": [
        "sortie_vecteurs_distilBERT"
      ],
      "execution_count": null,
      "outputs": []
    },
    {
      "cell_type": "markdown",
      "metadata": {
        "id": "Ti2mW-uFC1rV"
      },
      "source": [
        "Regardons par exemple le vecteur de dimension 768, résultant de l'encodage du [CLS] du premier commentaire : "
      ]
    },
    {
      "cell_type": "code",
      "metadata": {
        "id": "ps4Rp9g5x7sU"
      },
      "source": [
        "sortie_vecteurs_distilBERT[0][0][0]"
      ],
      "execution_count": null,
      "outputs": []
    },
    {
      "cell_type": "markdown",
      "metadata": {
        "id": "D0RqMRY1o4Gl"
      },
      "source": [
        "Exécutons maintenant distilBERT sur les 10 premiers commentaires afin de regarder le format des sorties obtenues :"
      ]
    },
    {
      "cell_type": "code",
      "metadata": {
        "id": "U_nAKA85o_Fm"
      },
      "source": [
        "sortie_vecteurs_distilBERT = model_distilBERT.predict(\n",
        "    [output_tokenizer_entrainement['input_ids'][0:10],\n",
        "     output_tokenizer_entrainement['attention_mask'][0:10]]\n",
        "     ,verbose=1)\n",
        "print(\"Commentaire :\", commentaires[1])\n",
        "print(\"input_ids\", output_tokenizer_entrainement['input_ids'][1])\n",
        "print(\"Sortie BERT\", sortie_vecteurs_distilBERT[0][:,0,:])"
      ],
      "execution_count": null,
      "outputs": []
    },
    {
      "cell_type": "markdown",
      "metadata": {
        "id": "0bjWNVb4KdZG"
      },
      "source": [
        "# **Ajout du réseau de neurones simple en sortie du modèle distilBERT**"
      ]
    },
    {
      "cell_type": "markdown",
      "metadata": {
        "id": "xd2hHeGJGtVB"
      },
      "source": [
        "**Extraction des vecteurs [CLS]**"
      ]
    },
    {
      "cell_type": "markdown",
      "metadata": {
        "id": "EkqicdHNDSpu"
      },
      "source": [
        "Parmi les MAX_SEQUENCE_LENGTH vecteurs en sortie, il ne nous faut que le premier (celui qui correspond au mot clé [CLS]). On doit donc récupérer, pour chaque commentaire, le premier vecteur de dimension 768 parmi les MAX_SEQUENCE_LENGTH en sortie :  \n",
        "  \n",
        "  \n",
        "<img src=\"https://github.com/AlexandreBourrieau/ML/blob/main/Carnets%20Jupyter/Images/Slice_SortieBERT.png?raw=true\"/>  "
      ]
    },
    {
      "cell_type": "code",
      "metadata": {
        "id": "5_sA6CqIIiXR"
      },
      "source": [
        "sortie_distilBERT[0]"
      ],
      "execution_count": null,
      "outputs": []
    },
    {
      "cell_type": "code",
      "metadata": {
        "id": "NaDy1bm7gmKU"
      },
      "source": [
        "sortie_distilBERT[0][:,0,:]"
      ],
      "execution_count": null,
      "outputs": []
    },
    {
      "cell_type": "markdown",
      "metadata": {
        "id": "7H26bHc7GxhP"
      },
      "source": [
        "**Construction du modèle global**"
      ]
    },
    {
      "cell_type": "markdown",
      "metadata": {
        "id": "rEv4gm-wEEP2"
      },
      "source": [
        "Les vecteurs de dimension 768 correspondants aux sorties [CLS] de chaque commentaire sont envoyés dans un réseau de neurones à 2 neurones avec une fonction d'activation Softmax :\n",
        "<img src=\"![image.png](data:image/png;base64,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)https://raw.githubusercontent.com/AlexandreBourrieau/ML-F1/master/Carnets%20Jupyter/Images/ReseauDistilBERT1.png\"/>"
      ]
    },
    {
      "cell_type": "code",
      "metadata": {
        "id": "SEQc1zx5P25h"
      },
      "source": [
        "# Configuration du modèle distilBERT\n",
        "config = DistilBertConfig(num_labels=2)           # 1 label\n",
        "config.output_hidden_states = True               # Ne récupère pas la totalité des couches mais uniquement la dernière\n",
        "config.output_attentions = False\n",
        "\n",
        "# Instanciation du modèle distilBERT\n",
        "transformer_model = TFDistilBertModel.from_pretrained('distilbert-base-uncased', config = config)\n",
        "\n",
        "# Défintion du format des entrées du modèle\n",
        "entrees_ids = tf.keras.layers.Input(shape=(LONGUEUR_MAX_COMMENTAIRE,), name='input_token', dtype='int32')\n",
        "entrees_masks = tf.keras.layers.Input(shape=(LONGUEUR_MAX_COMMENTAIRE,), name='masked_token', dtype='int32') \n",
        "\n",
        "# Création de la sortie du modèle\n",
        "sortie_distilBERT = transformer_model([entrees_ids,entrees_masks])[0]\n",
        "\n",
        "\n",
        "l1 = Lambda(lambda seq: seq[:, 0, :])(sortie_distilBERT)        # On ne récupère que les vecteurs [CLS]\n",
        "output = Dense(2, activation='softmax')(l1)\n",
        "\n",
        "model = tf.keras.Model(inputs=[entrees_ids, entrees_masks], outputs = output)\n",
        "model.layers[2].trainable = False         # Désactive d'entrainement de distilBERT\n",
        "\n",
        "model.compile(loss='sparse_categorical_crossentropy', optimizer=Adam(), metrics=['accuracy'])\n",
        "model.summary()"
      ],
      "execution_count": null,
      "outputs": []
    },
    {
      "cell_type": "markdown",
      "metadata": {
        "id": "Q0NXqJTWDroW"
      },
      "source": [
        "On lance maintenant l'entrainement du modèle :"
      ]
    },
    {
      "cell_type": "code",
      "metadata": {
        "id": "3XOX7Ve54k0p"
      },
      "source": [
        "history = model.fit([output_tokenizer_entrainement['input_ids'],output_tokenizer_entrainement['attention_mask']],y_entrainement,\n",
        "                    epochs=5, verbose=1, batch_size = 3,\n",
        "                    validation_data=([output_tokenizer_tests['input_ids'],output_tokenizer_tests['attention_mask']],y_test))\n"
      ],
      "execution_count": null,
      "outputs": []
    },
    {
      "cell_type": "code",
      "metadata": {
        "id": "4ZhKM9mfQ0qi"
      },
      "source": [
        "plt.plot(history.history['accuracy'])\n",
        "plt.plot(history.history['val_accuracy'])\n",
        "plt.title('Précision du modèle')\n",
        "plt.ylabel('Précision')\n",
        "plt.xlabel('Itération')\n",
        "plt.legend(['Entrainement', 'Test'], loc='upper left')\n",
        "plt.show()"
      ],
      "execution_count": null,
      "outputs": []
    },
    {
      "cell_type": "markdown",
      "metadata": {
        "id": "T5ThHOoGRGIa"
      },
      "source": [
        "# **Fine Tuning**"
      ]
    },
    {
      "cell_type": "markdown",
      "metadata": {
        "id": "QhYtyQjuIIAZ"
      },
      "source": [
        "Afin d'obtenir une meilleur précision, on va également entrainer distilBERT : "
      ]
    },
    {
      "cell_type": "code",
      "metadata": {
        "id": "5eui3V0PRI6U"
      },
      "source": [
        "model.layers[2].trainable = True\n",
        "model.compile(loss='sparse_categorical_crossentropy', optimizer=Adam(1e-5), metrics=['accuracy'])\n",
        "model.summary()"
      ],
      "execution_count": null,
      "outputs": []
    },
    {
      "cell_type": "code",
      "metadata": {
        "id": "eO3HSM6dRYl_"
      },
      "source": [
        "history = model.fit([output_tokenizer_entrainement['input_ids'],output_tokenizer_entrainement['attention_mask']],y_entrainement,\n",
        "                    epochs=5, verbose=1, batch_size = 3,\n",
        "                    validation_data=([output_tokenizer_tests['input_ids'],output_tokenizer_tests['attention_mask']],y_test))"
      ],
      "execution_count": null,
      "outputs": []
    },
    {
      "cell_type": "code",
      "metadata": {
        "id": "TGsA4TSdRvnu"
      },
      "source": [
        "plt.plot(history.history['accuracy'])\n",
        "plt.plot(history.history['val_accuracy'])\n",
        "plt.title('Précision du modèle')\n",
        "plt.ylabel('Précision')\n",
        "plt.xlabel('Itération')\n",
        "plt.legend(['Entrainement', 'Test'], loc='upper left')\n",
        "plt.show()"
      ],
      "execution_count": null,
      "outputs": []
    },
    {
      "cell_type": "markdown",
      "metadata": {
        "id": "CUAkgLQy2mSo"
      },
      "source": [
        "# **Un modèle plus complexe**"
      ]
    },
    {
      "cell_type": "markdown",
      "metadata": {
        "id": "KiWq_-8HJqAp"
      },
      "source": [
        "Cette fois, les vecteurs de dimension 768 correspondants aux sorties [CLS] de chaque commentaire sont envoyés au même modèle que celui utilisé lors de l'activité avec GloVe :\n",
        "<img src=\"https://github.com/AlexandreBourrieau/ML/blob/main/Carnets%20Jupyter/Images/ReseauDistilBERT3.png?raw=true\"/>"
      ]
    },
    {
      "cell_type": "markdown",
      "metadata": {
        "id": "qu0eaqewLTVB"
      },
      "source": [
        "<img src=\"https://github.com/AlexandreBourrieau/ML/blob/main/Carnets%20Jupyter/Images/ReseauDistilBERT4.png?raw=true\"/>"
      ]
    },
    {
      "cell_type": "code",
      "metadata": {
        "id": "JS4_ExKz9Beu"
      },
      "source": [
        "dropout = 0.4\n",
        "\n",
        "# Configuration du modèle distilBERT\n",
        "config = DistilBertConfig(num_labels=2)           # 1 label\n",
        "config.output_hidden_states = True               # Ne récupère pas la totalité des couches mais uniquement la dernière\n",
        "config.output_attentions = False\n",
        "\n",
        "# Instanciation du modèle distilBERT\n",
        "transformer_model = TFDistilBertModel.from_pretrained('distilbert-base-uncased', config = config)\n",
        "\n",
        "# Défintion du format des entrées du modèle\n",
        "entrees_ids = tf.keras.layers.Input(shape=(LONGUEUR_MAX_COMMENTAIRE,), name='input_token', dtype='int32')\n",
        "entrees_masks = tf.keras.layers.Input(shape=(LONGUEUR_MAX_COMMENTAIRE,), name='masked_token', dtype='int32') \n",
        "\n",
        "# Création de la sortie du modèle\n",
        "sortie_distilBERT = transformer_model([entrees_ids,entrees_masks])[0]\n",
        "\n",
        "l1 = Lambda(lambda seq: seq[:, 0, :])(sortie_distilBERT)\n",
        "l2 = Conv1D(128, 5, activation='relu', padding='same', strides=2)(tf.expand_dims(l1,axis=1))\n",
        "l3 = GlobalMaxPooling1D()(l2)\n",
        "l4 = Dropout(dropout)(l3)\n",
        "l5 = Dense(128, activation='relu')(l4)\n",
        "l6 = Dropout(dropout)(l5)\n",
        "l7 = Dense(2, activation='softmax')(l6)\n",
        "\n",
        "model = tf.keras.Model(inputs=[entrees_ids, entrees_masks], outputs = l7)\n",
        "model.layers[2].trainable = False\n",
        "\n",
        "model.compile(loss='sparse_categorical_crossentropy', optimizer=Adam(), metrics=['accuracy'])\n",
        "model.summary()"
      ],
      "execution_count": null,
      "outputs": []
    },
    {
      "cell_type": "code",
      "metadata": {
        "id": "xJ1zFZr3_iKX"
      },
      "source": [
        "history = model.fit([output_tokenizer_entrainement['input_ids'],output_tokenizer_entrainement['attention_mask']],y_entrainement,\n",
        "                    epochs=5, verbose=1, batch_size = 3,\n",
        "                    validation_data=([output_tokenizer_tests['input_ids'],output_tokenizer_tests['attention_mask']],y_test))"
      ],
      "execution_count": null,
      "outputs": []
    },
    {
      "cell_type": "code",
      "metadata": {
        "id": "-xbfmmKuB__B"
      },
      "source": [
        "plt.plot(history.history['accuracy'])\n",
        "plt.plot(history.history['val_accuracy'])\n",
        "plt.title('Précision du modèle')\n",
        "plt.ylabel('Précision')\n",
        "plt.xlabel('Itération')\n",
        "plt.legend(['Entrainement', 'Test'], loc='upper left')\n",
        "plt.show()"
      ],
      "execution_count": null,
      "outputs": []
    },
    {
      "cell_type": "markdown",
      "metadata": {
        "id": "KlBsWHRNQPrP"
      },
      "source": [
        "**Fine-tuning**"
      ]
    },
    {
      "cell_type": "markdown",
      "metadata": {
        "id": "hKn5K5VYQMtS"
      },
      "source": [
        "Afin de tenter d'obtenir une meilleur précision, on va également entrainer distilBERT : "
      ]
    },
    {
      "cell_type": "code",
      "metadata": {
        "id": "ZsfwWC_sB9-k"
      },
      "source": [
        "model.layers[2].trainable = True\n",
        "model.compile(loss='sparse_categorical_crossentropy', optimizer=Adam(1e-5), metrics=['accuracy'])\n",
        "model.summary()"
      ],
      "execution_count": null,
      "outputs": []
    },
    {
      "cell_type": "code",
      "metadata": {
        "id": "Eh_1ALcKCFSk"
      },
      "source": [
        "history = model.fit([output_tokenizer_entrainement['input_ids'],output_tokenizer_entrainement['attention_mask']],y_entrainement,\n",
        "                    epochs=5, verbose=1, batch_size = 3,\n",
        "                    validation_data=([output_tokenizer_tests['input_ids'],output_tokenizer_tests['attention_mask']],y_test))"
      ],
      "execution_count": null,
      "outputs": []
    },
    {
      "cell_type": "code",
      "metadata": {
        "id": "s2EGMAnCHXVf"
      },
      "source": [
        "plt.plot(history.history['accuracy'])\n",
        "plt.plot(history.history['val_accuracy'])\n",
        "plt.title('Précision du modèle')\n",
        "plt.ylabel('Précision')\n",
        "plt.xlabel('Itération')\n",
        "plt.legend(['Entrainement', 'Test'], loc='upper left')\n",
        "plt.show()"
      ],
      "execution_count": null,
      "outputs": []
    }
  ]
}