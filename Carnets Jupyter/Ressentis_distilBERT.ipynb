{
  "nbformat": 4,
  "nbformat_minor": 0,
  "metadata": {
    "colab": {
      "name": "Untitled1.ipynb",
      "provenance": [],
      "authorship_tag": "ABX9TyMML6LY+v0hmmEIg1ZcbEu2",
      "include_colab_link": true
    },
    "kernelspec": {
      "name": "python3",
      "display_name": "Python 3"
    },
    "accelerator": "GPU",
    "widgets": {
      "application/vnd.jupyter.widget-state+json": {
        "9bf21b805c2e479690797b615ba93a49": {
          "model_module": "@jupyter-widgets/controls",
          "model_name": "HBoxModel",
          "state": {
            "_view_name": "HBoxView",
            "_dom_classes": [],
            "_model_name": "HBoxModel",
            "_view_module": "@jupyter-widgets/controls",
            "_model_module_version": "1.5.0",
            "_view_count": null,
            "_view_module_version": "1.5.0",
            "box_style": "",
            "layout": "IPY_MODEL_227d34112a4343aaad7b83256f50afe0",
            "_model_module": "@jupyter-widgets/controls",
            "children": [
              "IPY_MODEL_cd6ff538fb994a3bb714da3572ede2b1",
              "IPY_MODEL_a972241e9fc345f6a53253fa4e382700"
            ]
          }
        },
        "227d34112a4343aaad7b83256f50afe0": {
          "model_module": "@jupyter-widgets/base",
          "model_name": "LayoutModel",
          "state": {
            "_view_name": "LayoutView",
            "grid_template_rows": null,
            "right": null,
            "justify_content": null,
            "_view_module": "@jupyter-widgets/base",
            "overflow": null,
            "_model_module_version": "1.2.0",
            "_view_count": null,
            "flex_flow": null,
            "width": null,
            "min_width": null,
            "border": null,
            "align_items": null,
            "bottom": null,
            "_model_module": "@jupyter-widgets/base",
            "top": null,
            "grid_column": null,
            "overflow_y": null,
            "overflow_x": null,
            "grid_auto_flow": null,
            "grid_area": null,
            "grid_template_columns": null,
            "flex": null,
            "_model_name": "LayoutModel",
            "justify_items": null,
            "grid_row": null,
            "max_height": null,
            "align_content": null,
            "visibility": null,
            "align_self": null,
            "height": null,
            "min_height": null,
            "padding": null,
            "grid_auto_rows": null,
            "grid_gap": null,
            "max_width": null,
            "order": null,
            "_view_module_version": "1.2.0",
            "grid_template_areas": null,
            "object_position": null,
            "object_fit": null,
            "grid_auto_columns": null,
            "margin": null,
            "display": null,
            "left": null
          }
        },
        "cd6ff538fb994a3bb714da3572ede2b1": {
          "model_module": "@jupyter-widgets/controls",
          "model_name": "FloatProgressModel",
          "state": {
            "_view_name": "ProgressView",
            "style": "IPY_MODEL_54b9f519d0ac4a16b6e2a72505658573",
            "_dom_classes": [],
            "description": "Downloading: 100%",
            "_model_name": "FloatProgressModel",
            "bar_style": "success",
            "max": 442,
            "_view_module": "@jupyter-widgets/controls",
            "_model_module_version": "1.5.0",
            "value": 442,
            "_view_count": null,
            "_view_module_version": "1.5.0",
            "orientation": "horizontal",
            "min": 0,
            "description_tooltip": null,
            "_model_module": "@jupyter-widgets/controls",
            "layout": "IPY_MODEL_066b5c169b9845e68c60800d73d527ef"
          }
        },
        "a972241e9fc345f6a53253fa4e382700": {
          "model_module": "@jupyter-widgets/controls",
          "model_name": "HTMLModel",
          "state": {
            "_view_name": "HTMLView",
            "style": "IPY_MODEL_c32ec8e99e63461c8b8e10266d768577",
            "_dom_classes": [],
            "description": "",
            "_model_name": "HTMLModel",
            "placeholder": "​",
            "_view_module": "@jupyter-widgets/controls",
            "_model_module_version": "1.5.0",
            "value": " 442/442 [00:00&lt;00:00, 718B/s]",
            "_view_count": null,
            "_view_module_version": "1.5.0",
            "description_tooltip": null,
            "_model_module": "@jupyter-widgets/controls",
            "layout": "IPY_MODEL_d416e1e423714bdf84ee03e1e70c33d1"
          }
        },
        "54b9f519d0ac4a16b6e2a72505658573": {
          "model_module": "@jupyter-widgets/controls",
          "model_name": "ProgressStyleModel",
          "state": {
            "_view_name": "StyleView",
            "_model_name": "ProgressStyleModel",
            "description_width": "initial",
            "_view_module": "@jupyter-widgets/base",
            "_model_module_version": "1.5.0",
            "_view_count": null,
            "_view_module_version": "1.2.0",
            "bar_color": null,
            "_model_module": "@jupyter-widgets/controls"
          }
        },
        "066b5c169b9845e68c60800d73d527ef": {
          "model_module": "@jupyter-widgets/base",
          "model_name": "LayoutModel",
          "state": {
            "_view_name": "LayoutView",
            "grid_template_rows": null,
            "right": null,
            "justify_content": null,
            "_view_module": "@jupyter-widgets/base",
            "overflow": null,
            "_model_module_version": "1.2.0",
            "_view_count": null,
            "flex_flow": null,
            "width": null,
            "min_width": null,
            "border": null,
            "align_items": null,
            "bottom": null,
            "_model_module": "@jupyter-widgets/base",
            "top": null,
            "grid_column": null,
            "overflow_y": null,
            "overflow_x": null,
            "grid_auto_flow": null,
            "grid_area": null,
            "grid_template_columns": null,
            "flex": null,
            "_model_name": "LayoutModel",
            "justify_items": null,
            "grid_row": null,
            "max_height": null,
            "align_content": null,
            "visibility": null,
            "align_self": null,
            "height": null,
            "min_height": null,
            "padding": null,
            "grid_auto_rows": null,
            "grid_gap": null,
            "max_width": null,
            "order": null,
            "_view_module_version": "1.2.0",
            "grid_template_areas": null,
            "object_position": null,
            "object_fit": null,
            "grid_auto_columns": null,
            "margin": null,
            "display": null,
            "left": null
          }
        },
        "c32ec8e99e63461c8b8e10266d768577": {
          "model_module": "@jupyter-widgets/controls",
          "model_name": "DescriptionStyleModel",
          "state": {
            "_view_name": "StyleView",
            "_model_name": "DescriptionStyleModel",
            "description_width": "",
            "_view_module": "@jupyter-widgets/base",
            "_model_module_version": "1.5.0",
            "_view_count": null,
            "_view_module_version": "1.2.0",
            "_model_module": "@jupyter-widgets/controls"
          }
        },
        "d416e1e423714bdf84ee03e1e70c33d1": {
          "model_module": "@jupyter-widgets/base",
          "model_name": "LayoutModel",
          "state": {
            "_view_name": "LayoutView",
            "grid_template_rows": null,
            "right": null,
            "justify_content": null,
            "_view_module": "@jupyter-widgets/base",
            "overflow": null,
            "_model_module_version": "1.2.0",
            "_view_count": null,
            "flex_flow": null,
            "width": null,
            "min_width": null,
            "border": null,
            "align_items": null,
            "bottom": null,
            "_model_module": "@jupyter-widgets/base",
            "top": null,
            "grid_column": null,
            "overflow_y": null,
            "overflow_x": null,
            "grid_auto_flow": null,
            "grid_area": null,
            "grid_template_columns": null,
            "flex": null,
            "_model_name": "LayoutModel",
            "justify_items": null,
            "grid_row": null,
            "max_height": null,
            "align_content": null,
            "visibility": null,
            "align_self": null,
            "height": null,
            "min_height": null,
            "padding": null,
            "grid_auto_rows": null,
            "grid_gap": null,
            "max_width": null,
            "order": null,
            "_view_module_version": "1.2.0",
            "grid_template_areas": null,
            "object_position": null,
            "object_fit": null,
            "grid_auto_columns": null,
            "margin": null,
            "display": null,
            "left": null
          }
        },
        "dd44265717fb4466ab4fe43fd9b0e920": {
          "model_module": "@jupyter-widgets/controls",
          "model_name": "HBoxModel",
          "state": {
            "_view_name": "HBoxView",
            "_dom_classes": [],
            "_model_name": "HBoxModel",
            "_view_module": "@jupyter-widgets/controls",
            "_model_module_version": "1.5.0",
            "_view_count": null,
            "_view_module_version": "1.5.0",
            "box_style": "",
            "layout": "IPY_MODEL_430197558fe84be09d11813eb056ee06",
            "_model_module": "@jupyter-widgets/controls",
            "children": [
              "IPY_MODEL_73b507f937a743d4bc516974c7748b33",
              "IPY_MODEL_c25d140fc4214c20ba2f219ed37e0040"
            ]
          }
        },
        "430197558fe84be09d11813eb056ee06": {
          "model_module": "@jupyter-widgets/base",
          "model_name": "LayoutModel",
          "state": {
            "_view_name": "LayoutView",
            "grid_template_rows": null,
            "right": null,
            "justify_content": null,
            "_view_module": "@jupyter-widgets/base",
            "overflow": null,
            "_model_module_version": "1.2.0",
            "_view_count": null,
            "flex_flow": null,
            "width": null,
            "min_width": null,
            "border": null,
            "align_items": null,
            "bottom": null,
            "_model_module": "@jupyter-widgets/base",
            "top": null,
            "grid_column": null,
            "overflow_y": null,
            "overflow_x": null,
            "grid_auto_flow": null,
            "grid_area": null,
            "grid_template_columns": null,
            "flex": null,
            "_model_name": "LayoutModel",
            "justify_items": null,
            "grid_row": null,
            "max_height": null,
            "align_content": null,
            "visibility": null,
            "align_self": null,
            "height": null,
            "min_height": null,
            "padding": null,
            "grid_auto_rows": null,
            "grid_gap": null,
            "max_width": null,
            "order": null,
            "_view_module_version": "1.2.0",
            "grid_template_areas": null,
            "object_position": null,
            "object_fit": null,
            "grid_auto_columns": null,
            "margin": null,
            "display": null,
            "left": null
          }
        },
        "73b507f937a743d4bc516974c7748b33": {
          "model_module": "@jupyter-widgets/controls",
          "model_name": "FloatProgressModel",
          "state": {
            "_view_name": "ProgressView",
            "style": "IPY_MODEL_f5d4a515598441cb8eab2a568b51bf53",
            "_dom_classes": [],
            "description": "Downloading: 100%",
            "_model_name": "FloatProgressModel",
            "bar_style": "success",
            "max": 231508,
            "_view_module": "@jupyter-widgets/controls",
            "_model_module_version": "1.5.0",
            "value": 231508,
            "_view_count": null,
            "_view_module_version": "1.5.0",
            "orientation": "horizontal",
            "min": 0,
            "description_tooltip": null,
            "_model_module": "@jupyter-widgets/controls",
            "layout": "IPY_MODEL_ea500efa70e34a5484c1228a0cc9c53a"
          }
        },
        "c25d140fc4214c20ba2f219ed37e0040": {
          "model_module": "@jupyter-widgets/controls",
          "model_name": "HTMLModel",
          "state": {
            "_view_name": "HTMLView",
            "style": "IPY_MODEL_6bf3bc62a6d04e5b8090e42bf93eaaca",
            "_dom_classes": [],
            "description": "",
            "_model_name": "HTMLModel",
            "placeholder": "​",
            "_view_module": "@jupyter-widgets/controls",
            "_model_module_version": "1.5.0",
            "value": " 232k/232k [00:00&lt;00:00, 949kB/s]",
            "_view_count": null,
            "_view_module_version": "1.5.0",
            "description_tooltip": null,
            "_model_module": "@jupyter-widgets/controls",
            "layout": "IPY_MODEL_02f795d87c9a4c6d8f65a09f61568e3f"
          }
        },
        "f5d4a515598441cb8eab2a568b51bf53": {
          "model_module": "@jupyter-widgets/controls",
          "model_name": "ProgressStyleModel",
          "state": {
            "_view_name": "StyleView",
            "_model_name": "ProgressStyleModel",
            "description_width": "initial",
            "_view_module": "@jupyter-widgets/base",
            "_model_module_version": "1.5.0",
            "_view_count": null,
            "_view_module_version": "1.2.0",
            "bar_color": null,
            "_model_module": "@jupyter-widgets/controls"
          }
        },
        "ea500efa70e34a5484c1228a0cc9c53a": {
          "model_module": "@jupyter-widgets/base",
          "model_name": "LayoutModel",
          "state": {
            "_view_name": "LayoutView",
            "grid_template_rows": null,
            "right": null,
            "justify_content": null,
            "_view_module": "@jupyter-widgets/base",
            "overflow": null,
            "_model_module_version": "1.2.0",
            "_view_count": null,
            "flex_flow": null,
            "width": null,
            "min_width": null,
            "border": null,
            "align_items": null,
            "bottom": null,
            "_model_module": "@jupyter-widgets/base",
            "top": null,
            "grid_column": null,
            "overflow_y": null,
            "overflow_x": null,
            "grid_auto_flow": null,
            "grid_area": null,
            "grid_template_columns": null,
            "flex": null,
            "_model_name": "LayoutModel",
            "justify_items": null,
            "grid_row": null,
            "max_height": null,
            "align_content": null,
            "visibility": null,
            "align_self": null,
            "height": null,
            "min_height": null,
            "padding": null,
            "grid_auto_rows": null,
            "grid_gap": null,
            "max_width": null,
            "order": null,
            "_view_module_version": "1.2.0",
            "grid_template_areas": null,
            "object_position": null,
            "object_fit": null,
            "grid_auto_columns": null,
            "margin": null,
            "display": null,
            "left": null
          }
        },
        "6bf3bc62a6d04e5b8090e42bf93eaaca": {
          "model_module": "@jupyter-widgets/controls",
          "model_name": "DescriptionStyleModel",
          "state": {
            "_view_name": "StyleView",
            "_model_name": "DescriptionStyleModel",
            "description_width": "",
            "_view_module": "@jupyter-widgets/base",
            "_model_module_version": "1.5.0",
            "_view_count": null,
            "_view_module_version": "1.2.0",
            "_model_module": "@jupyter-widgets/controls"
          }
        },
        "02f795d87c9a4c6d8f65a09f61568e3f": {
          "model_module": "@jupyter-widgets/base",
          "model_name": "LayoutModel",
          "state": {
            "_view_name": "LayoutView",
            "grid_template_rows": null,
            "right": null,
            "justify_content": null,
            "_view_module": "@jupyter-widgets/base",
            "overflow": null,
            "_model_module_version": "1.2.0",
            "_view_count": null,
            "flex_flow": null,
            "width": null,
            "min_width": null,
            "border": null,
            "align_items": null,
            "bottom": null,
            "_model_module": "@jupyter-widgets/base",
            "top": null,
            "grid_column": null,
            "overflow_y": null,
            "overflow_x": null,
            "grid_auto_flow": null,
            "grid_area": null,
            "grid_template_columns": null,
            "flex": null,
            "_model_name": "LayoutModel",
            "justify_items": null,
            "grid_row": null,
            "max_height": null,
            "align_content": null,
            "visibility": null,
            "align_self": null,
            "height": null,
            "min_height": null,
            "padding": null,
            "grid_auto_rows": null,
            "grid_gap": null,
            "max_width": null,
            "order": null,
            "_view_module_version": "1.2.0",
            "grid_template_areas": null,
            "object_position": null,
            "object_fit": null,
            "grid_auto_columns": null,
            "margin": null,
            "display": null,
            "left": null
          }
        },
        "3d4fb9fd0ed548ab86fab6d74bb2b265": {
          "model_module": "@jupyter-widgets/controls",
          "model_name": "HBoxModel",
          "state": {
            "_view_name": "HBoxView",
            "_dom_classes": [],
            "_model_name": "HBoxModel",
            "_view_module": "@jupyter-widgets/controls",
            "_model_module_version": "1.5.0",
            "_view_count": null,
            "_view_module_version": "1.5.0",
            "box_style": "",
            "layout": "IPY_MODEL_f718931fd0e94cefb3bcae2599d2495d",
            "_model_module": "@jupyter-widgets/controls",
            "children": [
              "IPY_MODEL_462b533272694a29a0a76e5d18073da8",
              "IPY_MODEL_87287d6af3394c7da87e9b523399fd71"
            ]
          }
        },
        "f718931fd0e94cefb3bcae2599d2495d": {
          "model_module": "@jupyter-widgets/base",
          "model_name": "LayoutModel",
          "state": {
            "_view_name": "LayoutView",
            "grid_template_rows": null,
            "right": null,
            "justify_content": null,
            "_view_module": "@jupyter-widgets/base",
            "overflow": null,
            "_model_module_version": "1.2.0",
            "_view_count": null,
            "flex_flow": null,
            "width": null,
            "min_width": null,
            "border": null,
            "align_items": null,
            "bottom": null,
            "_model_module": "@jupyter-widgets/base",
            "top": null,
            "grid_column": null,
            "overflow_y": null,
            "overflow_x": null,
            "grid_auto_flow": null,
            "grid_area": null,
            "grid_template_columns": null,
            "flex": null,
            "_model_name": "LayoutModel",
            "justify_items": null,
            "grid_row": null,
            "max_height": null,
            "align_content": null,
            "visibility": null,
            "align_self": null,
            "height": null,
            "min_height": null,
            "padding": null,
            "grid_auto_rows": null,
            "grid_gap": null,
            "max_width": null,
            "order": null,
            "_view_module_version": "1.2.0",
            "grid_template_areas": null,
            "object_position": null,
            "object_fit": null,
            "grid_auto_columns": null,
            "margin": null,
            "display": null,
            "left": null
          }
        },
        "462b533272694a29a0a76e5d18073da8": {
          "model_module": "@jupyter-widgets/controls",
          "model_name": "FloatProgressModel",
          "state": {
            "_view_name": "ProgressView",
            "style": "IPY_MODEL_7fb696a9570a4e0fb52dedde718c4c59",
            "_dom_classes": [],
            "description": "Downloading: 100%",
            "_model_name": "FloatProgressModel",
            "bar_style": "success",
            "max": 363423424,
            "_view_module": "@jupyter-widgets/controls",
            "_model_module_version": "1.5.0",
            "value": 363423424,
            "_view_count": null,
            "_view_module_version": "1.5.0",
            "orientation": "horizontal",
            "min": 0,
            "description_tooltip": null,
            "_model_module": "@jupyter-widgets/controls",
            "layout": "IPY_MODEL_396fca9d36664ba798a81d0308383ccf"
          }
        },
        "87287d6af3394c7da87e9b523399fd71": {
          "model_module": "@jupyter-widgets/controls",
          "model_name": "HTMLModel",
          "state": {
            "_view_name": "HTMLView",
            "style": "IPY_MODEL_990145a79bb94e7cbe86d57da3e992ea",
            "_dom_classes": [],
            "description": "",
            "_model_name": "HTMLModel",
            "placeholder": "​",
            "_view_module": "@jupyter-widgets/controls",
            "_model_module_version": "1.5.0",
            "value": " 363M/363M [00:05&lt;00:00, 66.3MB/s]",
            "_view_count": null,
            "_view_module_version": "1.5.0",
            "description_tooltip": null,
            "_model_module": "@jupyter-widgets/controls",
            "layout": "IPY_MODEL_623b56fab2c44296bfe1c3fcd8fc9d1e"
          }
        },
        "7fb696a9570a4e0fb52dedde718c4c59": {
          "model_module": "@jupyter-widgets/controls",
          "model_name": "ProgressStyleModel",
          "state": {
            "_view_name": "StyleView",
            "_model_name": "ProgressStyleModel",
            "description_width": "initial",
            "_view_module": "@jupyter-widgets/base",
            "_model_module_version": "1.5.0",
            "_view_count": null,
            "_view_module_version": "1.2.0",
            "bar_color": null,
            "_model_module": "@jupyter-widgets/controls"
          }
        },
        "396fca9d36664ba798a81d0308383ccf": {
          "model_module": "@jupyter-widgets/base",
          "model_name": "LayoutModel",
          "state": {
            "_view_name": "LayoutView",
            "grid_template_rows": null,
            "right": null,
            "justify_content": null,
            "_view_module": "@jupyter-widgets/base",
            "overflow": null,
            "_model_module_version": "1.2.0",
            "_view_count": null,
            "flex_flow": null,
            "width": null,
            "min_width": null,
            "border": null,
            "align_items": null,
            "bottom": null,
            "_model_module": "@jupyter-widgets/base",
            "top": null,
            "grid_column": null,
            "overflow_y": null,
            "overflow_x": null,
            "grid_auto_flow": null,
            "grid_area": null,
            "grid_template_columns": null,
            "flex": null,
            "_model_name": "LayoutModel",
            "justify_items": null,
            "grid_row": null,
            "max_height": null,
            "align_content": null,
            "visibility": null,
            "align_self": null,
            "height": null,
            "min_height": null,
            "padding": null,
            "grid_auto_rows": null,
            "grid_gap": null,
            "max_width": null,
            "order": null,
            "_view_module_version": "1.2.0",
            "grid_template_areas": null,
            "object_position": null,
            "object_fit": null,
            "grid_auto_columns": null,
            "margin": null,
            "display": null,
            "left": null
          }
        },
        "990145a79bb94e7cbe86d57da3e992ea": {
          "model_module": "@jupyter-widgets/controls",
          "model_name": "DescriptionStyleModel",
          "state": {
            "_view_name": "StyleView",
            "_model_name": "DescriptionStyleModel",
            "description_width": "",
            "_view_module": "@jupyter-widgets/base",
            "_model_module_version": "1.5.0",
            "_view_count": null,
            "_view_module_version": "1.2.0",
            "_model_module": "@jupyter-widgets/controls"
          }
        },
        "623b56fab2c44296bfe1c3fcd8fc9d1e": {
          "model_module": "@jupyter-widgets/base",
          "model_name": "LayoutModel",
          "state": {
            "_view_name": "LayoutView",
            "grid_template_rows": null,
            "right": null,
            "justify_content": null,
            "_view_module": "@jupyter-widgets/base",
            "overflow": null,
            "_model_module_version": "1.2.0",
            "_view_count": null,
            "flex_flow": null,
            "width": null,
            "min_width": null,
            "border": null,
            "align_items": null,
            "bottom": null,
            "_model_module": "@jupyter-widgets/base",
            "top": null,
            "grid_column": null,
            "overflow_y": null,
            "overflow_x": null,
            "grid_auto_flow": null,
            "grid_area": null,
            "grid_template_columns": null,
            "flex": null,
            "_model_name": "LayoutModel",
            "justify_items": null,
            "grid_row": null,
            "max_height": null,
            "align_content": null,
            "visibility": null,
            "align_self": null,
            "height": null,
            "min_height": null,
            "padding": null,
            "grid_auto_rows": null,
            "grid_gap": null,
            "max_width": null,
            "order": null,
            "_view_module_version": "1.2.0",
            "grid_template_areas": null,
            "object_position": null,
            "object_fit": null,
            "grid_auto_columns": null,
            "margin": null,
            "display": null,
            "left": null
          }
        }
      }
    }
  },
  "cells": [
    {
      "cell_type": "markdown",
      "metadata": {
        "id": "view-in-github",
        "colab_type": "text"
      },
      "source": [
        "<a href=\"https://colab.research.google.com/github/AlexandreBourrieau/ML-F1/blob/master/Carnets%20Jupyter/Ressentis_distilBERT.ipynb\" target=\"_parent\"><img src=\"https://colab.research.google.com/assets/colab-badge.svg\" alt=\"Open In Colab\"/></a>"
      ]
    },
    {
      "cell_type": "markdown",
      "metadata": {
        "id": "LJih03NWtfi0"
      },
      "source": [
        "# **Classification de ressentis avec distilBERT**"
      ]
    },
    {
      "cell_type": "markdown",
      "metadata": {
        "id": "x6Xo1x4rtto8"
      },
      "source": [
        "L'objectif est de créer un modèle qui prend en entrée des commentaires (en Anglais) et attribue à chacun un ressenti positif ou négatif.  \n",
        "Le modèle global est composé de deux parties :  \n",
        "* [DistilBERT](https://huggingface.co/transformers/model_doc/distilbert.html) (une version allégée de BERT) va encoder le commentaire et en extraire des informations qui seront passées ensuite au réseau de neurones.  \n",
        "* Le modèle suivant est un réseau de neurones qui sera créé avec l'API [Keras](https://www.tensorflow.org/guide/keras?hl=fr) de [Tensorflow](https://www.tensorflow.org/?hl=fr).  \n",
        "\n",
        "Nous testerons deux modèles de réseaux de neurones pour traiter les sorties de DistilBERT :  \n",
        "* Un modèle très simple, composé de 2 neurones avec une fonction d'activation Softmax\n",
        "* Un modèle plus complexe, qui sera en fait le même que celui utilisé lors de l'activité avec GloVe\n",
        "\n",
        "<img src=\"https://raw.githubusercontent.com/AlexandreBourrieau/ML-F1/master/Carnets%20Jupyter/Images/StructureBERT.png\" />  \n",
        "  \n",
        "  Les données qui s'échangent entre les deux modèles sont des vecteurs de dimension 768. On peut voir ces vecteurs comme l'équivalent de l'application d'un algorithme de prolongation lexicale sur les mots qui composent le commentaire."
      ]
    },
    {
      "cell_type": "markdown",
      "metadata": {
        "id": "gePh7FotwPTH"
      },
      "source": [
        "# **Installation et importation des librairies**\n"
      ]
    },
    {
      "cell_type": "code",
      "metadata": {
        "id": "g5WrrT_pzIHu",
        "outputId": "419ced42-2f08-40af-8c44-e50891b91576",
        "colab": {
          "base_uri": "https://localhost:8080/",
          "height": 104
        }
      },
      "source": [
        "!pip install transformers --quiet"
      ],
      "execution_count": 1,
      "outputs": [
        {
          "output_type": "stream",
          "text": [
            "\u001b[K     |████████████████████████████████| 1.1MB 4.6MB/s \n",
            "\u001b[K     |████████████████████████████████| 1.1MB 30.2MB/s \n",
            "\u001b[K     |████████████████████████████████| 3.0MB 42.3MB/s \n",
            "\u001b[K     |████████████████████████████████| 890kB 54.1MB/s \n",
            "\u001b[?25h  Building wheel for sacremoses (setup.py) ... \u001b[?25l\u001b[?25hdone\n"
          ],
          "name": "stdout"
        }
      ]
    },
    {
      "cell_type": "code",
      "metadata": {
        "id": "L5n4uHtutPlJ"
      },
      "source": [
        "import pandas as pd\n",
        "import numpy as np\n",
        "import tensorflow as tf\n",
        "\n",
        "from tensorflow.keras.layers import Dense, Dropout, Input, Dropout, Lambda, Conv1D, GlobalMaxPooling1D\n",
        "from tensorflow.keras import Sequential\n",
        "from tensorflow.keras.models import Model\n",
        "from tensorflow.keras.optimizers import Adam\n",
        "\n",
        "from sklearn.model_selection import train_test_split\n",
        "\n",
        "from transformers import DistilBertConfig\n",
        "from transformers import TFDistilBertModel\n",
        "from transformers import AutoTokenizer\n",
        "\n",
        "import matplotlib.pyplot as plt"
      ],
      "execution_count": 2,
      "outputs": []
    },
    {
      "cell_type": "markdown",
      "metadata": {
        "id": "uWZEaivhxTd2"
      },
      "source": [
        "# **Importation des données**\n",
        "\n",
        "On utilise la librairie pandas pour lire les données depuis le fichier csv disponible sur le site de [standford](https://nlp.stanford.edu/sentiment/index.html) qui contient des commentaires sur des films, chacun d'eux avec une note positive (1) ou négative (0)."
      ]
    },
    {
      "cell_type": "code",
      "metadata": {
        "id": "hOrjCZGyyH4P"
      },
      "source": [
        "df = pd.read_csv('https://raw.githubusercontent.com/AlexandreBourrieau/ML-F1/master/Carnets%20Jupyter/Donn%C3%A9es/train.csv', delimiter='\\t', header=None)"
      ],
      "execution_count": 3,
      "outputs": []
    },
    {
      "cell_type": "markdown",
      "metadata": {
        "id": "xiO-lNQ6zYpU"
      },
      "source": [
        "Affiche quelques informations :"
      ]
    },
    {
      "cell_type": "code",
      "metadata": {
        "id": "uOMoEtbysA5q"
      },
      "source": [
        "def LongueurMax(df):\n",
        "  Lmax = 0\n",
        "  for com in df[0]:\n",
        "    Longueur = len(com)\n",
        "    if Lmax < Longueur:\n",
        "      Lmax = Longueur\n",
        "  return Lmax"
      ],
      "execution_count": 4,
      "outputs": []
    },
    {
      "cell_type": "code",
      "metadata": {
        "id": "FQT1SwyBzPvP",
        "outputId": "9bc7b959-3126-471c-aea1-a5e49eeadb87",
        "colab": {
          "base_uri": "https://localhost:8080/",
          "height": 295
        }
      },
      "source": [
        "print(df[0:10])\n",
        "print(\"Total des données : \", str(len(df)))\n",
        "print(\"Nombre d'avis positifs et négatifs : \",df[1].value_counts())\n",
        "print(\"Longueur maximale d'un commentaire : \",LongueurMax(df))"
      ],
      "execution_count": 5,
      "outputs": [
        {
          "output_type": "stream",
          "text": [
            "                                                   0  1\n",
            "0  a stirring , funny and finally transporting re...  1\n",
            "1  apparently reassembled from the cutting room f...  0\n",
            "2  they presume their audience wo n't sit still f...  0\n",
            "3  this is a visually stunning rumination on love...  1\n",
            "4  jonathan parker 's bartleby should have been t...  1\n",
            "5  campanella gets the tone just right funny in t...  1\n",
            "6  a fan film that for the uninitiated plays bett...  0\n",
            "7  b art and berling are both superb , while hupp...  1\n",
            "8  a little less extreme than in the past , with ...  0\n",
            "9                       the film is strictly routine  0\n",
            "Total des données :  6920\n",
            "Nombre d'avis positifs et négatifs :  1    3610\n",
            "0    3310\n",
            "Name: 1, dtype: int64\n",
            "Longueur maximale d'un commentaire :  271\n"
          ],
          "name": "stdout"
        }
      ]
    },
    {
      "cell_type": "markdown",
      "metadata": {
        "id": "n4Vcm5K3Dej4"
      },
      "source": [
        "# **Préparation des données**\n"
      ]
    },
    {
      "cell_type": "code",
      "metadata": {
        "id": "XefRRLg2DiQs"
      },
      "source": [
        "MAX = 3000\n",
        "\n",
        "# Chargement des commentaires et des ressentis\n",
        "commentaires = df[0].astype(str).tolist()    # Récupère tous les commentaires dans une liste python\n",
        "ressentis = df[1].tolist()                   # Récupère tous les ressentis dans une liste python\n",
        "labels = np.asarray(ressentis)               # Créé un tableau de type numpy avec les ressentis\n",
        "\n",
        "x_entrainement, x_test, y_entrainement, y_test = train_test_split(commentaires[0:MAX], labels[0:MAX], test_size=0.25)"
      ],
      "execution_count": 7,
      "outputs": []
    },
    {
      "cell_type": "code",
      "metadata": {
        "id": "4tajm9VKu1pg",
        "outputId": "8316b518-db29-44a7-a5d3-282234bd4f02",
        "colab": {
          "base_uri": "https://localhost:8080/",
          "height": 52
        }
      },
      "source": [
        "print (\"Nombre de commentaires pour l'entrainement : \", len(x_entrainement))\n",
        "print (\"Nombre de commentaires pour les tests : \", len(x_test))"
      ],
      "execution_count": 8,
      "outputs": [
        {
          "output_type": "stream",
          "text": [
            "Nombre de commentaires pour l'entrainement :  2250\n",
            "Nombre de commentaires pour les tests :  750\n"
          ],
          "name": "stdout"
        }
      ]
    },
    {
      "cell_type": "markdown",
      "metadata": {
        "id": "QDDdUWj83wuz"
      },
      "source": [
        "# Tokénisation  \n",
        "La première étape est de tokéniser les commentaires : les mots sont décomposés en index numériques au format BERT.  \n",
        "\n",
        "<img src=\"https://github.com/AlexandreBourrieau/ML-F1/blob/master/Carnets%20Jupyter/Images/TokenizeBERT.png?raw=true\" />\n",
        "\n",
        "Après tokénisation, on obtient une liste de séquences et chaque séquence représente une liste d'index. On souhaite que BERT analyse toutes les séquences en une seule fois (ce qui est plus rapide). Il faut donc que toutes les séquences aient la même taille. On va donc ajouter du bourrage pour égaliser la longueur des séquences. Cela est indiqué avec le paramètre `padding='True'`.  \n",
        "Lorsque un bourrage est ajouté, il faut que BERT ne prenne pas en compte les mots à cette position (car il n'y en a pas !). Cette restriction est réalisé grace à l'`attention_mask`"
      ]
    },
    {
      "cell_type": "code",
      "metadata": {
        "id": "yHhqUPeiqzam",
        "outputId": "91fed046-7338-420a-cdd8-8b4f2a054746",
        "colab": {
          "base_uri": "https://localhost:8080/",
          "height": 116,
          "referenced_widgets": [
            "9bf21b805c2e479690797b615ba93a49",
            "227d34112a4343aaad7b83256f50afe0",
            "cd6ff538fb994a3bb714da3572ede2b1",
            "a972241e9fc345f6a53253fa4e382700",
            "54b9f519d0ac4a16b6e2a72505658573",
            "066b5c169b9845e68c60800d73d527ef",
            "c32ec8e99e63461c8b8e10266d768577",
            "d416e1e423714bdf84ee03e1e70c33d1",
            "dd44265717fb4466ab4fe43fd9b0e920",
            "430197558fe84be09d11813eb056ee06",
            "73b507f937a743d4bc516974c7748b33",
            "c25d140fc4214c20ba2f219ed37e0040",
            "f5d4a515598441cb8eab2a568b51bf53",
            "ea500efa70e34a5484c1228a0cc9c53a",
            "6bf3bc62a6d04e5b8090e42bf93eaaca",
            "02f795d87c9a4c6d8f65a09f61568e3f"
          ]
        }
      },
      "source": [
        "LONGUEUR_MAX_COMMENTAIRE = LongueurMax(df) + 2\n",
        "\n",
        "# Instanciation du tokeniseur\n",
        "tokenizer = AutoTokenizer.from_pretrained('distilbert-base-uncased')\n",
        "\n",
        "# Préparation des données d'entrainement\n",
        "output_tokenizer_entrainement = tokenizer(x_entrainement,max_length=LONGUEUR_MAX_COMMENTAIRE, padding='max_length', truncation=False, return_tensors='tf',add_special_tokens=True)\n",
        "\n",
        "# Préparation des données de tests\n",
        "output_tokenizer_tests = tokenizer(x_test,max_length=LONGUEUR_MAX_COMMENTAIRE, padding='max_length', truncation=False, return_tensors='tf',add_special_tokens=True)"
      ],
      "execution_count": 9,
      "outputs": [
        {
          "output_type": "display_data",
          "data": {
            "application/vnd.jupyter.widget-view+json": {
              "model_id": "9bf21b805c2e479690797b615ba93a49",
              "version_minor": 0,
              "version_major": 2
            },
            "text/plain": [
              "HBox(children=(FloatProgress(value=0.0, description='Downloading', max=442.0, style=ProgressStyle(description_…"
            ]
          },
          "metadata": {
            "tags": []
          }
        },
        {
          "output_type": "stream",
          "text": [
            "\n"
          ],
          "name": "stdout"
        },
        {
          "output_type": "display_data",
          "data": {
            "application/vnd.jupyter.widget-view+json": {
              "model_id": "dd44265717fb4466ab4fe43fd9b0e920",
              "version_minor": 0,
              "version_major": 2
            },
            "text/plain": [
              "HBox(children=(FloatProgress(value=0.0, description='Downloading', max=231508.0, style=ProgressStyle(descripti…"
            ]
          },
          "metadata": {
            "tags": []
          }
        },
        {
          "output_type": "stream",
          "text": [
            "\n"
          ],
          "name": "stdout"
        }
      ]
    },
    {
      "cell_type": "markdown",
      "metadata": {
        "id": "_kwmm53NCihe"
      },
      "source": [
        "Les commentaires sont maintenant tous tokénisés :"
      ]
    },
    {
      "cell_type": "markdown",
      "metadata": {
        "id": "2WVYvpcRChKd"
      },
      "source": [
        "\n",
        "<img src=\"https://raw.githubusercontent.com/AlexandreBourrieau/ML-F1/master/Carnets%20Jupyter/Images/SeparationData2.png\"/>"
      ]
    },
    {
      "cell_type": "markdown",
      "metadata": {
        "id": "kzboG3fX5LkP"
      },
      "source": [
        "Regardons un peu comment sont formatées les données en sortie du tokéniseur :"
      ]
    },
    {
      "cell_type": "code",
      "metadata": {
        "id": "_0BL0iiKzVS7",
        "outputId": "c59c4b18-d7fe-428b-aeec-3ae0f12625bc",
        "colab": {
          "base_uri": "https://localhost:8080/",
          "height": 277
        }
      },
      "source": [
        "output_tokenizer_entrainement"
      ],
      "execution_count": 10,
      "outputs": [
        {
          "output_type": "execute_result",
          "data": {
            "text/plain": [
              "{'input_ids': <tf.Tensor: shape=(2250, 273), dtype=int32, numpy=\n",
              "array([[ 101, 1996, 2143, ...,    0,    0,    0],\n",
              "       [ 101, 2009, 1005, ...,    0,    0,    0],\n",
              "       [ 101, 2049, 8740, ...,    0,    0,    0],\n",
              "       ...,\n",
              "       [ 101, 1996, 3185, ...,    0,    0,    0],\n",
              "       [ 101, 2023, 4372, ...,    0,    0,    0],\n",
              "       [ 101, 1045, 2071, ...,    0,    0,    0]], dtype=int32)>, 'attention_mask': <tf.Tensor: shape=(2250, 273), dtype=int32, numpy=\n",
              "array([[1, 1, 1, ..., 0, 0, 0],\n",
              "       [1, 1, 1, ..., 0, 0, 0],\n",
              "       [1, 1, 1, ..., 0, 0, 0],\n",
              "       ...,\n",
              "       [1, 1, 1, ..., 0, 0, 0],\n",
              "       [1, 1, 1, ..., 0, 0, 0],\n",
              "       [1, 1, 1, ..., 0, 0, 0]], dtype=int32)>}"
            ]
          },
          "metadata": {
            "tags": []
          },
          "execution_count": 10
        }
      ]
    },
    {
      "cell_type": "markdown",
      "metadata": {
        "id": "fejN7ZrzzaOu"
      },
      "source": [
        "Regardons comment le premier commentaire a été encodé :"
      ]
    },
    {
      "cell_type": "code",
      "metadata": {
        "id": "Q-E6oJcG5Qlj",
        "outputId": "08af403f-66f3-45d8-92bc-15b57d4289ba",
        "colab": {
          "base_uri": "https://localhost:8080/",
          "height": 607
        }
      },
      "source": [
        "print(\"Commentaire original :\", x_entrainement[0])\n",
        "print(\"input_ids: \", output_tokenizer_entrainement['input_ids'][0])\n",
        "print(\"attention_mask: \", output_tokenizer_entrainement['attention_mask'][0])"
      ],
      "execution_count": 11,
      "outputs": [
        {
          "output_type": "stream",
          "text": [
            "Commentaire original : the film reminds me of a vastly improved germanic version of my big fat greek wedding with better characters , some genuine quirkiness and at least a measure of style\n",
            "input_ids:  tf.Tensor(\n",
            "[  101  1996  2143 15537  2033  1997  1037 24821  5301 15139  2544  1997\n",
            "  2026  2502  6638  3306  5030  2007  2488  3494  1010  2070 10218 21864\n",
            " 26891  7971  1998  2012  2560  1037  5468  1997  2806   102     0     0\n",
            "     0     0     0     0     0     0     0     0     0     0     0     0\n",
            "     0     0     0     0     0     0     0     0     0     0     0     0\n",
            "     0     0     0     0     0     0     0     0     0     0     0     0\n",
            "     0     0     0     0     0     0     0     0     0     0     0     0\n",
            "     0     0     0     0     0     0     0     0     0     0     0     0\n",
            "     0     0     0     0     0     0     0     0     0     0     0     0\n",
            "     0     0     0     0     0     0     0     0     0     0     0     0\n",
            "     0     0     0     0     0     0     0     0     0     0     0     0\n",
            "     0     0     0     0     0     0     0     0     0     0     0     0\n",
            "     0     0     0     0     0     0     0     0     0     0     0     0\n",
            "     0     0     0     0     0     0     0     0     0     0     0     0\n",
            "     0     0     0     0     0     0     0     0     0     0     0     0\n",
            "     0     0     0     0     0     0     0     0     0     0     0     0\n",
            "     0     0     0     0     0     0     0     0     0     0     0     0\n",
            "     0     0     0     0     0     0     0     0     0     0     0     0\n",
            "     0     0     0     0     0     0     0     0     0     0     0     0\n",
            "     0     0     0     0     0     0     0     0     0     0     0     0\n",
            "     0     0     0     0     0     0     0     0     0     0     0     0\n",
            "     0     0     0     0     0     0     0     0     0     0     0     0\n",
            "     0     0     0     0     0     0     0     0     0], shape=(273,), dtype=int32)\n",
            "attention_mask:  tf.Tensor(\n",
            "[1 1 1 1 1 1 1 1 1 1 1 1 1 1 1 1 1 1 1 1 1 1 1 1 1 1 1 1 1 1 1 1 1 1 0 0 0\n",
            " 0 0 0 0 0 0 0 0 0 0 0 0 0 0 0 0 0 0 0 0 0 0 0 0 0 0 0 0 0 0 0 0 0 0 0 0 0\n",
            " 0 0 0 0 0 0 0 0 0 0 0 0 0 0 0 0 0 0 0 0 0 0 0 0 0 0 0 0 0 0 0 0 0 0 0 0 0\n",
            " 0 0 0 0 0 0 0 0 0 0 0 0 0 0 0 0 0 0 0 0 0 0 0 0 0 0 0 0 0 0 0 0 0 0 0 0 0\n",
            " 0 0 0 0 0 0 0 0 0 0 0 0 0 0 0 0 0 0 0 0 0 0 0 0 0 0 0 0 0 0 0 0 0 0 0 0 0\n",
            " 0 0 0 0 0 0 0 0 0 0 0 0 0 0 0 0 0 0 0 0 0 0 0 0 0 0 0 0 0 0 0 0 0 0 0 0 0\n",
            " 0 0 0 0 0 0 0 0 0 0 0 0 0 0 0 0 0 0 0 0 0 0 0 0 0 0 0 0 0 0 0 0 0 0 0 0 0\n",
            " 0 0 0 0 0 0 0 0 0 0 0 0 0 0], shape=(273,), dtype=int32)\n"
          ],
          "name": "stdout"
        }
      ]
    },
    {
      "cell_type": "markdown",
      "metadata": {
        "id": "xAmGZYP86Hx7"
      },
      "source": [
        "Regardons les 3 premiers résultats de la tokénisation : On peut identifier les mot-clés **[CLS]** (valeur : 101) et **[SEP]** (valeur : 102)"
      ]
    },
    {
      "cell_type": "code",
      "metadata": {
        "id": "WWVaSBqo59qW",
        "outputId": "312725ce-0d81-49e9-b071-c56708eba32a",
        "colab": {
          "base_uri": "https://localhost:8080/",
          "height": 1000
        }
      },
      "source": [
        "for i in range (0,3):\n",
        "  print(output_tokenizer_entrainement['input_ids'][i])"
      ],
      "execution_count": 12,
      "outputs": [
        {
          "output_type": "stream",
          "text": [
            "tf.Tensor(\n",
            "[  101  1996  2143 15537  2033  1997  1037 24821  5301 15139  2544  1997\n",
            "  2026  2502  6638  3306  5030  2007  2488  3494  1010  2070 10218 21864\n",
            " 26891  7971  1998  2012  2560  1037  5468  1997  2806   102     0     0\n",
            "     0     0     0     0     0     0     0     0     0     0     0     0\n",
            "     0     0     0     0     0     0     0     0     0     0     0     0\n",
            "     0     0     0     0     0     0     0     0     0     0     0     0\n",
            "     0     0     0     0     0     0     0     0     0     0     0     0\n",
            "     0     0     0     0     0     0     0     0     0     0     0     0\n",
            "     0     0     0     0     0     0     0     0     0     0     0     0\n",
            "     0     0     0     0     0     0     0     0     0     0     0     0\n",
            "     0     0     0     0     0     0     0     0     0     0     0     0\n",
            "     0     0     0     0     0     0     0     0     0     0     0     0\n",
            "     0     0     0     0     0     0     0     0     0     0     0     0\n",
            "     0     0     0     0     0     0     0     0     0     0     0     0\n",
            "     0     0     0     0     0     0     0     0     0     0     0     0\n",
            "     0     0     0     0     0     0     0     0     0     0     0     0\n",
            "     0     0     0     0     0     0     0     0     0     0     0     0\n",
            "     0     0     0     0     0     0     0     0     0     0     0     0\n",
            "     0     0     0     0     0     0     0     0     0     0     0     0\n",
            "     0     0     0     0     0     0     0     0     0     0     0     0\n",
            "     0     0     0     0     0     0     0     0     0     0     0     0\n",
            "     0     0     0     0     0     0     0     0     0     0     0     0\n",
            "     0     0     0     0     0     0     0     0     0], shape=(273,), dtype=int32)\n",
            "tf.Tensor(\n",
            "[ 101 2009 1005 1055 6057 1010 2004 1996 2214 3038 3632 1010 2138 2009\n",
            " 1005 1055 2995  102    0    0    0    0    0    0    0    0    0    0\n",
            "    0    0    0    0    0    0    0    0    0    0    0    0    0    0\n",
            "    0    0    0    0    0    0    0    0    0    0    0    0    0    0\n",
            "    0    0    0    0    0    0    0    0    0    0    0    0    0    0\n",
            "    0    0    0    0    0    0    0    0    0    0    0    0    0    0\n",
            "    0    0    0    0    0    0    0    0    0    0    0    0    0    0\n",
            "    0    0    0    0    0    0    0    0    0    0    0    0    0    0\n",
            "    0    0    0    0    0    0    0    0    0    0    0    0    0    0\n",
            "    0    0    0    0    0    0    0    0    0    0    0    0    0    0\n",
            "    0    0    0    0    0    0    0    0    0    0    0    0    0    0\n",
            "    0    0    0    0    0    0    0    0    0    0    0    0    0    0\n",
            "    0    0    0    0    0    0    0    0    0    0    0    0    0    0\n",
            "    0    0    0    0    0    0    0    0    0    0    0    0    0    0\n",
            "    0    0    0    0    0    0    0    0    0    0    0    0    0    0\n",
            "    0    0    0    0    0    0    0    0    0    0    0    0    0    0\n",
            "    0    0    0    0    0    0    0    0    0    0    0    0    0    0\n",
            "    0    0    0    0    0    0    0    0    0    0    0    0    0    0\n",
            "    0    0    0    0    0    0    0    0    0    0    0    0    0    0\n",
            "    0    0    0    0    0    0    0], shape=(273,), dtype=int32)\n",
            "tf.Tensor(\n",
            "[  101  2049  8740  2850 18436 19509 20223  2094  2011 13433  8737 25949\n",
            "  1010  7112  2061  4063  4059  2232  1005  1055  2686  3850 19391  2004\n",
            "  1037 15903 15787 10634  3325   102     0     0     0     0     0     0\n",
            "     0     0     0     0     0     0     0     0     0     0     0     0\n",
            "     0     0     0     0     0     0     0     0     0     0     0     0\n",
            "     0     0     0     0     0     0     0     0     0     0     0     0\n",
            "     0     0     0     0     0     0     0     0     0     0     0     0\n",
            "     0     0     0     0     0     0     0     0     0     0     0     0\n",
            "     0     0     0     0     0     0     0     0     0     0     0     0\n",
            "     0     0     0     0     0     0     0     0     0     0     0     0\n",
            "     0     0     0     0     0     0     0     0     0     0     0     0\n",
            "     0     0     0     0     0     0     0     0     0     0     0     0\n",
            "     0     0     0     0     0     0     0     0     0     0     0     0\n",
            "     0     0     0     0     0     0     0     0     0     0     0     0\n",
            "     0     0     0     0     0     0     0     0     0     0     0     0\n",
            "     0     0     0     0     0     0     0     0     0     0     0     0\n",
            "     0     0     0     0     0     0     0     0     0     0     0     0\n",
            "     0     0     0     0     0     0     0     0     0     0     0     0\n",
            "     0     0     0     0     0     0     0     0     0     0     0     0\n",
            "     0     0     0     0     0     0     0     0     0     0     0     0\n",
            "     0     0     0     0     0     0     0     0     0     0     0     0\n",
            "     0     0     0     0     0     0     0     0     0     0     0     0\n",
            "     0     0     0     0     0     0     0     0     0], shape=(273,), dtype=int32)\n"
          ],
          "name": "stdout"
        }
      ]
    },
    {
      "cell_type": "markdown",
      "metadata": {
        "id": "Vakqzatl3le0"
      },
      "source": [
        "# **Définition et utilisation du modèle distilBERT avec Keras**"
      ]
    },
    {
      "cell_type": "markdown",
      "metadata": {
        "id": "uE_TEftF1OCf"
      },
      "source": [
        "Les données d'entrées étant maintenant correctement préparées, commençons par définir le modèle distilBERT pour ensuite l'appliquer aux données afin de réaliser l'opération de prolongation lexicale.  \n",
        "\n",
        "<img src=\"https://raw.githubusercontent.com/AlexandreBourrieau/ML-F1/master/Carnets%20Jupyter/Images/distilBERT_process.png\" style=\"width: 600px;\"/>."
      ]
    },
    {
      "cell_type": "code",
      "metadata": {
        "id": "38a0wigo18Zg",
        "outputId": "3505b323-048d-42ae-ed7c-32d63fd4c81e",
        "colab": {
          "base_uri": "https://localhost:8080/",
          "height": 433,
          "referenced_widgets": [
            "3d4fb9fd0ed548ab86fab6d74bb2b265",
            "f718931fd0e94cefb3bcae2599d2495d",
            "462b533272694a29a0a76e5d18073da8",
            "87287d6af3394c7da87e9b523399fd71",
            "7fb696a9570a4e0fb52dedde718c4c59",
            "396fca9d36664ba798a81d0308383ccf",
            "990145a79bb94e7cbe86d57da3e992ea",
            "623b56fab2c44296bfe1c3fcd8fc9d1e"
          ]
        }
      },
      "source": [
        "# Configuration du modèle distilBERT\n",
        "config = DistilBertConfig(num_labels=2)             # 2 labels en sortie\n",
        "\n",
        "# Instanciation du modèle distilBERT\n",
        "transformer_model = TFDistilBertModel.from_pretrained('distilbert-base-uncased', config = config)\n",
        "\n",
        "# Défintion du format des entrées du modèle\n",
        "entrees_ids = tf.keras.layers.Input(shape=(LONGUEUR_MAX_COMMENTAIRE,), name='input_token', dtype='int32')\n",
        "entrees_masks = tf.keras.layers.Input(shape=(LONGUEUR_MAX_COMMENTAIRE,), name='masked_token', dtype='int32') \n",
        "\n",
        "# Création de la sortie du modèle\n",
        "sortie_distilBERT = transformer_model([entrees_ids,entrees_masks])\n",
        "\n",
        "# Instanciation du modèle avec Keras\n",
        "model_distilBERT = tf.keras.Model(inputs=[entrees_ids, entrees_masks], outputs = sortie_distilBERT,trainable=False)\n",
        "model_distilBERT.summary()"
      ],
      "execution_count": 13,
      "outputs": [
        {
          "output_type": "display_data",
          "data": {
            "application/vnd.jupyter.widget-view+json": {
              "model_id": "3d4fb9fd0ed548ab86fab6d74bb2b265",
              "version_minor": 0,
              "version_major": 2
            },
            "text/plain": [
              "HBox(children=(FloatProgress(value=0.0, description='Downloading', max=363423424.0, style=ProgressStyle(descri…"
            ]
          },
          "metadata": {
            "tags": []
          }
        },
        {
          "output_type": "stream",
          "text": [
            "\n"
          ],
          "name": "stdout"
        },
        {
          "output_type": "stream",
          "text": [
            "Some weights of the model checkpoint at distilbert-base-uncased were not used when initializing TFDistilBertModel: ['activation_13', 'vocab_projector', 'vocab_layer_norm', 'vocab_transform']\n",
            "- This IS expected if you are initializing TFDistilBertModel from the checkpoint of a model trained on another task or with another architecture (e.g. initializing a BertForSequenceClassification model from a BertForPretraining model).\n",
            "- This IS NOT expected if you are initializing TFDistilBertModel from the checkpoint of a model that you expect to be exactly identical (initializing a BertForSequenceClassification model from a BertForSequenceClassification model).\n",
            "All the weights of TFDistilBertModel were initialized from the model checkpoint at distilbert-base-uncased.\n",
            "If your task is similar to the task the model of the checkpoint was trained on, you can already use TFDistilBertModel for predictions without further training.\n"
          ],
          "name": "stderr"
        },
        {
          "output_type": "stream",
          "text": [
            "Model: \"functional_1\"\n",
            "__________________________________________________________________________________________________\n",
            "Layer (type)                    Output Shape         Param #     Connected to                     \n",
            "==================================================================================================\n",
            "input_token (InputLayer)        [(None, 273)]        0                                            \n",
            "__________________________________________________________________________________________________\n",
            "masked_token (InputLayer)       [(None, 273)]        0                                            \n",
            "__________________________________________________________________________________________________\n",
            "tf_distil_bert_model (TFDistilB ((None, 273, 768),)  66362880    input_token[0][0]                \n",
            "                                                                 masked_token[0][0]               \n",
            "==================================================================================================\n",
            "Total params: 66,362,880\n",
            "Trainable params: 0\n",
            "Non-trainable params: 66,362,880\n",
            "__________________________________________________________________________________________________\n"
          ],
          "name": "stdout"
        }
      ]
    },
    {
      "cell_type": "markdown",
      "metadata": {
        "id": "z9vwylPK8B2d"
      },
      "source": [
        "Pour chaque commentaire en entrée, la sortie du modèle distilBERT est un vecteur de dimension MAX_SEQUENCE_LENGTH :\n",
        "* Il y a au maximum MAX_SEQUENCE_LENGTH mots dans chaque commentaire\n",
        "* Il y a un vecteur en sortie du modèle par mot dans chaque commentaire\n",
        "* Le vecteur qui code chaque mot est de dimension 768"
      ]
    },
    {
      "cell_type": "markdown",
      "metadata": {
        "id": "84jTmbNS9och"
      },
      "source": [
        "Vérifions cela en regardant le format de la sortie du modèle :"
      ]
    },
    {
      "cell_type": "code",
      "metadata": {
        "id": "SRyx0t5z5_zY",
        "outputId": "1d58d252-f414-423f-be53-c9375fd15931",
        "colab": {
          "base_uri": "https://localhost:8080/",
          "height": 35
        }
      },
      "source": [
        "sortie_distilBERT"
      ],
      "execution_count": 14,
      "outputs": [
        {
          "output_type": "execute_result",
          "data": {
            "text/plain": [
              "(<tf.Tensor 'tf_distil_bert_model/distilbert/transformer/layer_._5/output_layer_norm/batchnorm/add_1:0' shape=(None, 273, 768) dtype=float32>,)"
            ]
          },
          "metadata": {
            "tags": []
          },
          "execution_count": 14
        }
      ]
    },
    {
      "cell_type": "markdown",
      "metadata": {
        "id": "RDYf-Owpwk4Q"
      },
      "source": [
        "La fonction `predict()` permet d'exécuter le modèle sur les séquences d'entrées"
      ]
    },
    {
      "cell_type": "code",
      "metadata": {
        "id": "l-NlEgWUxehg",
        "outputId": "d4a2e7aa-f85c-44ac-c3c4-137da6445d9d",
        "colab": {
          "base_uri": "https://localhost:8080/",
          "height": 35
        }
      },
      "source": [
        "sortie_vecteurs_distilBERT = model_distilBERT.predict(\n",
        "    [output_tokenizer_entrainement['input_ids'][0:2],\n",
        "     output_tokenizer_entrainement['attention_mask'][0:2]]\n",
        "     ,verbose=1)"
      ],
      "execution_count": 15,
      "outputs": [
        {
          "output_type": "stream",
          "text": [
            "1/1 [==============================] - 0s 3ms/step\n"
          ],
          "name": "stdout"
        }
      ]
    },
    {
      "cell_type": "markdown",
      "metadata": {
        "id": "nr1pLKgsCwMP"
      },
      "source": [
        "Regardons à quoi ressemble la sortie de distilBERT :"
      ]
    },
    {
      "cell_type": "markdown",
      "metadata": {
        "id": "M2EaziuPDIsO"
      },
      "source": [
        "\n",
        "<img src=\"https://raw.githubusercontent.com/AlexandreBourrieau/ML-F1/master/Carnets%20Jupyter/Images/distilBERT_process.png\" style=\"width: 600px;\"/>."
      ]
    },
    {
      "cell_type": "code",
      "metadata": {
        "id": "8aRQgN8AxmZ0",
        "outputId": "f9443d6a-a192-41d9-958f-fd4d1bfe5c69",
        "colab": {
          "base_uri": "https://localhost:8080/",
          "height": 503
        }
      },
      "source": [
        "sortie_vecteurs_distilBERT"
      ],
      "execution_count": 16,
      "outputs": [
        {
          "output_type": "execute_result",
          "data": {
            "text/plain": [
              "(array([[[ 8.12258646e-02, -5.82723282e-02,  1.32392153e-01, ...,\n",
              "          -1.80695131e-01,  4.70964432e-01,  2.76095092e-01],\n",
              "         [ 1.96972061e-02, -1.70869559e-01,  2.26717144e-02, ...,\n",
              "          -5.35172075e-02,  9.17523801e-01, -2.41610438e-01],\n",
              "         [ 3.01110595e-01,  5.03836870e-02, -1.95311308e-01, ...,\n",
              "          -1.69654772e-01,  4.15080070e-01,  4.91893142e-02],\n",
              "         ...,\n",
              "         [ 3.88211608e-02, -3.21258634e-01,  6.98834062e-02, ...,\n",
              "           9.78890955e-02,  1.32320479e-01,  6.18820116e-02],\n",
              "         [ 9.17922705e-04, -3.47237885e-01,  8.26625079e-02, ...,\n",
              "           8.79785977e-04,  6.93198517e-02,  1.02596954e-01],\n",
              "         [ 4.67204079e-02, -3.38802278e-01,  7.62877166e-02, ...,\n",
              "           6.56568911e-03,  5.70322126e-02,  8.44944194e-02]],\n",
              " \n",
              "        [[ 4.90169041e-02,  1.47000000e-01, -8.69610161e-03, ...,\n",
              "           1.38901561e-01,  4.34898436e-01,  4.90229934e-01],\n",
              "         [ 1.62184060e-01,  6.41680323e-03, -2.02288181e-01, ...,\n",
              "           1.72624007e-01,  6.51134074e-01,  5.08694708e-01],\n",
              "         [ 1.85698345e-01,  1.40961140e-01,  4.03641075e-01, ...,\n",
              "           1.64109245e-01,  3.41336191e-01,  2.50276089e-01],\n",
              "         ...,\n",
              "         [-1.48383016e-02, -5.86770922e-02,  4.57355976e-02, ...,\n",
              "           3.17214817e-01,  2.24862974e-02,  1.01981774e-01],\n",
              "         [ 1.21692009e-03, -8.46789628e-02,  4.07305285e-02, ...,\n",
              "           3.15608114e-01,  2.70629544e-02,  9.02428329e-02],\n",
              "         [-2.08498072e-02, -8.74634981e-02,  5.40313274e-02, ...,\n",
              "           2.96378016e-01,  7.64492154e-03,  1.07811630e-01]]],\n",
              "       dtype=float32),)"
            ]
          },
          "metadata": {
            "tags": []
          },
          "execution_count": 16
        }
      ]
    },
    {
      "cell_type": "markdown",
      "metadata": {
        "id": "Ti2mW-uFC1rV"
      },
      "source": [
        "Regardons par exemple le vecteur de dimension 768, résultant de l'encodage du [CLS] du premier commentaire : "
      ]
    },
    {
      "cell_type": "code",
      "metadata": {
        "id": "ps4Rp9g5x7sU",
        "outputId": "6bb6c977-447f-439e-b068-ea849f38a906",
        "colab": {
          "base_uri": "https://localhost:8080/",
          "height": 1000
        }
      },
      "source": [
        "sortie_vecteurs_distilBERT[0][0][0]"
      ],
      "execution_count": 17,
      "outputs": [
        {
          "output_type": "execute_result",
          "data": {
            "text/plain": [
              "array([ 8.12258646e-02, -5.82723282e-02,  1.32392153e-01, -2.07784623e-01,\n",
              "       -9.70768631e-02, -7.50422403e-02,  2.59389341e-01,  2.85281897e-01,\n",
              "       -9.57372934e-02, -6.45312443e-02, -3.61568630e-02, -5.33472300e-02,\n",
              "        7.87886679e-02,  4.92599845e-01,  1.61234796e-01,  1.93851188e-01,\n",
              "       -8.14355984e-02,  2.66140223e-01,  1.58067927e-01, -1.66423321e-01,\n",
              "       -1.27469823e-02, -1.62795350e-01,  1.06286988e-01,  1.09376974e-01,\n",
              "       -2.43120044e-01, -3.57657596e-02,  7.57964998e-02,  7.98592120e-02,\n",
              "       -5.82801476e-02, -4.86211628e-02,  4.69254628e-02, -7.44812042e-02,\n",
              "       -3.16166013e-01, -2.19346046e-01,  7.21369460e-02, -2.57892013e-01,\n",
              "        1.62618607e-02, -8.59639049e-02,  7.11689591e-02, -3.17233801e-02,\n",
              "        5.91300018e-02,  1.80718035e-01,  1.59508526e-01, -1.07184954e-01,\n",
              "       -6.44524544e-02, -2.46339634e-01, -2.44161034e+00, -5.80653921e-03,\n",
              "       -3.34295124e-01, -3.25220883e-01,  2.85302758e-01,  8.06688517e-03,\n",
              "        2.59001970e-01,  3.04042637e-01,  2.95529962e-01,  3.17324996e-01,\n",
              "       -3.58152807e-01,  3.56694579e-01,  2.15900853e-01,  1.23292089e-01,\n",
              "        2.65087724e-01,  9.13255662e-03, -4.04618792e-02, -6.44449443e-02,\n",
              "        3.01975347e-02,  1.40026793e-01, -1.80369735e-01,  3.99729088e-02,\n",
              "        1.63861755e-02,  3.32133144e-01, -6.39546663e-02, -1.48401290e-01,\n",
              "        4.69867438e-02, -1.13751352e-01,  1.27028096e-02, -2.60228962e-01,\n",
              "        3.89888063e-02,  2.23639935e-01, -2.88512230e-01,  1.22467950e-02,\n",
              "        1.33103609e-01,  1.06821939e-01,  2.41170257e-01,  2.40510464e-01,\n",
              "       -2.07548938e-03,  9.60512310e-02,  1.16486423e-01, -1.35180838e-02,\n",
              "        1.35121435e-01,  3.69921386e-01, -4.28345710e-01, -8.96203518e-02,\n",
              "       -1.38611868e-01,  2.16278359e-01,  5.00067413e-01, -4.44424480e-01,\n",
              "       -6.85065463e-02,  1.26762912e-01,  2.26221785e-01,  2.73800850e-01,\n",
              "        1.96825922e-01,  2.63039023e-02, -8.30984935e-02, -4.82311904e-01,\n",
              "       -3.71659845e-02, -7.45157003e-02, -2.07677782e-02, -8.81829485e-02,\n",
              "       -6.16287887e-02, -2.36773896e+00,  2.65232861e-01,  2.50937253e-01,\n",
              "        2.58264225e-02, -2.50900030e-01, -6.48236573e-02,  1.62914500e-01,\n",
              "        4.80107069e-02, -2.41533890e-01, -1.27802283e-01,  2.36290336e-01,\n",
              "       -6.62177801e-04,  3.33218247e-01, -1.09486990e-01, -9.48388204e-02,\n",
              "        8.92260894e-02,  3.02839965e-01,  8.44496563e-02,  1.02432072e-02,\n",
              "        8.76277238e-02,  1.14154041e-01,  3.41974348e-01,  2.70612955e-01,\n",
              "       -1.07911699e-01, -1.18615247e-01, -2.25875735e-01,  1.61611974e-01,\n",
              "        2.69433409e-01, -1.06115334e-01, -5.41371517e-02, -3.63323465e-02,\n",
              "       -1.71169072e-01, -1.23440117e-01, -3.00334740e+00,  4.93001729e-01,\n",
              "        4.10045207e-01,  4.41469178e-02,  1.92301750e-01, -4.31264788e-02,\n",
              "        1.10294029e-01,  1.42588094e-03,  2.03818485e-01,  4.15048078e-02,\n",
              "       -2.24192381e-01, -1.67332590e-01, -1.03509441e-01,  7.74460211e-02,\n",
              "        3.97363752e-02, -1.53811246e-01,  3.62300277e-01,  1.86091885e-02,\n",
              "        3.79627913e-01, -5.53453118e-02, -6.32221028e-02, -2.55808711e-01,\n",
              "        2.02591866e-01, -6.98443726e-02,  2.11867332e-01,  1.26643740e-02,\n",
              "        8.74558091e-03,  1.54929250e-01,  5.52778598e-04,  1.07505769e-01,\n",
              "        2.81371653e-01, -8.30677897e-02,  1.92735150e-01, -1.07252374e-02,\n",
              "        9.88314003e-02,  4.21382159e-01, -5.53025678e-03, -1.01212367e-01,\n",
              "       -1.95862681e-01,  4.69809473e-01,  8.22479501e-02,  2.10949019e-01,\n",
              "        7.59405717e-02, -4.64411005e-02,  2.30881870e-02, -3.38996142e-01,\n",
              "       -1.76993519e-01,  1.77108198e-01, -6.88309520e-02, -2.58747846e-01,\n",
              "       -3.15583013e-02, -2.20400915e-01,  3.04137766e-01,  3.99334095e-02,\n",
              "        6.06034324e-02, -4.91686761e-01, -2.85070948e-03,  1.83350235e-01,\n",
              "       -2.78453082e-01, -6.67890459e-02, -2.99189314e-02,  2.00012624e-01,\n",
              "       -5.02651632e-02,  3.40833545e+00,  6.79021478e-02,  1.42952740e-01,\n",
              "        1.15856558e-01,  1.46112412e-01,  3.83358821e-02,  1.00346483e-01,\n",
              "       -1.17981732e-02, -1.44224405e-01,  1.59677751e-02,  1.12842426e-01,\n",
              "        1.48751467e-01,  6.73171133e-04,  3.56200710e-02, -1.63163319e-02,\n",
              "        1.37957036e-01,  2.73090184e-01, -3.63827720e-02,  9.37515646e-02,\n",
              "       -5.78243881e-02,  1.06218934e-01, -2.46993452e-03,  9.81487930e-02,\n",
              "        1.54084250e-01, -1.12017429e+00,  3.92892659e-02,  2.23832075e-02,\n",
              "       -3.36052120e-01,  2.90834248e-01, -1.65561274e-01, -2.22770080e-01,\n",
              "       -2.17431365e-03,  6.83339760e-02,  1.89481229e-01,  8.69064629e-02,\n",
              "       -1.06592879e-01,  1.82970211e-01,  1.14395879e-01,  2.94809192e-01,\n",
              "       -9.92110074e-02,  1.95834786e-01,  2.25356475e-01, -9.51635092e-03,\n",
              "       -1.45242915e-01, -1.21193558e-01,  1.29356176e-01, -7.70545453e-02,\n",
              "       -1.56007335e-01, -2.84436196e-01,  1.72658354e-01,  8.66362303e-02,\n",
              "        1.15007669e-01,  5.03601357e-02, -1.92441285e-01, -1.64482832e-01,\n",
              "       -2.28429437e-01, -8.07120837e-03,  1.03664719e-01,  6.64533600e-02,\n",
              "       -4.86592799e-01,  1.18169688e-01, -2.41729319e-01, -3.77044499e-01,\n",
              "        1.33857772e-01,  1.55641094e-01, -2.47159496e-01,  4.62485403e-02,\n",
              "       -4.21084583e-01, -3.46764588e+00,  3.93411629e-02, -1.22659296e-01,\n",
              "        1.15396634e-01,  1.29970104e-01, -1.71390343e-02,  1.82843268e-01,\n",
              "        8.90592784e-02,  1.81502134e-01, -3.50420415e-01,  2.20461756e-01,\n",
              "       -1.73315182e-02, -1.10311151e-01,  1.95113063e-01, -4.28862393e-01,\n",
              "        2.42661059e-01,  6.03081137e-02, -6.89653307e-02,  9.31888670e-02,\n",
              "       -1.16964817e-01, -1.87927067e-01,  7.05344453e-02, -1.89321697e-01,\n",
              "        1.66148230e-01, -9.30189863e-02,  4.61566895e-02, -2.28230342e-01,\n",
              "       -3.60398501e-01,  1.63420826e-01,  5.85632995e-02,  8.19989070e-02,\n",
              "       -4.22222614e-02,  2.51269102e-01, -8.82491320e-02, -1.64864063e-01,\n",
              "       -3.04638743e+00,  6.24019988e-02, -2.60619726e-02, -6.40632659e-02,\n",
              "        1.99738517e-01, -1.48859456e-01,  2.78772980e-01, -2.01548666e-01,\n",
              "       -1.65233031e-01,  2.06107229e-01,  7.77900666e-02, -6.27217814e-02,\n",
              "       -2.25835871e-02,  1.82638526e-01,  1.35443076e-01, -3.88963372e-02,\n",
              "        7.84903020e-02,  2.40119360e-02,  6.12929389e-02,  1.68786496e-01,\n",
              "        1.66823436e-02, -8.47931653e-02,  4.55453619e-02, -1.28527194e-01,\n",
              "        6.73399866e-02,  2.77048051e-01, -4.80077863e-01, -3.71393934e-03,\n",
              "       -2.82613903e-01, -1.55283272e-01, -6.19051307e-02, -2.35988677e-01,\n",
              "        1.60933182e-01, -1.46027580e-02, -2.58070715e-02, -6.52037188e-02,\n",
              "        4.70035039e-02,  2.49166280e-01,  2.99899548e-01,  5.94546907e-02,\n",
              "       -2.41434693e-01,  7.02231407e-01, -1.19430348e-02,  1.76406235e-01,\n",
              "        4.41718936e-01, -3.08149979e-02,  1.27622008e-01, -2.87975967e-01,\n",
              "        1.79849625e-01,  4.75248583e-02,  5.41371144e-02,  1.74998567e-01,\n",
              "        1.07157612e+00,  1.22496709e-01,  2.68803358e-01, -1.69466764e-01,\n",
              "        2.71877468e-01, -9.09000635e-04,  1.77733786e-02,  1.65301442e-01,\n",
              "        2.54614055e-01, -9.70389247e-02,  1.77469879e-01,  4.79981527e-02,\n",
              "        2.97859907e-02, -2.49777168e-01,  1.74059466e-01, -3.24054778e-01,\n",
              "       -7.69709945e-02, -1.22522965e-01, -1.96449012e-01,  4.34792824e-02,\n",
              "        5.12784161e-03, -7.14977503e-01, -1.09185979e-01, -1.25743881e-01,\n",
              "       -1.71974823e-01,  1.15174681e-01, -1.01256661e-01, -2.69063152e-02,\n",
              "       -3.29705805e-01,  1.12692274e-01,  5.31162322e-02,  4.44492400e-02,\n",
              "       -2.14099884e-02,  9.89490002e-02, -1.90038726e-01, -2.54487023e-02,\n",
              "       -1.08048767e-01, -6.95923269e-02, -4.14349958e-02,  1.12097822e-01,\n",
              "        4.19638492e-02,  9.03522596e-02, -1.04531370e-01,  5.60402200e-02,\n",
              "        2.18114913e-01, -8.23955774e-01,  8.71390775e-02, -1.51023626e-01,\n",
              "       -4.09009159e-02, -3.39983433e-01, -1.55635998e-01,  4.17431146e-02,\n",
              "       -1.14756674e-01, -1.62768513e-01,  6.45852089e-02,  5.91649890e-01,\n",
              "        2.04831734e-03,  4.72166240e-02, -5.28038293e-03,  1.43500894e-01,\n",
              "        1.28934339e-01, -1.41595602e-01,  9.55816805e-01, -9.26502869e-02,\n",
              "       -3.74434367e-02,  1.68570399e-01, -5.48126772e-02,  2.21658871e-01,\n",
              "        2.86107838e-01,  3.42441201e-02, -8.28317106e-02,  3.28503065e-02,\n",
              "       -2.91135341e-01, -1.47610068e-01, -2.77415253e-02, -2.97093838e-01,\n",
              "       -2.89090872e-01, -8.70153308e-05, -1.06257528e-01, -1.10288925e-01,\n",
              "       -7.10739344e-02, -5.05839109e-01,  1.71262816e-01, -3.50885540e-01,\n",
              "       -1.94921479e-01,  1.17205009e-01,  1.83671445e-01,  4.92449515e-02,\n",
              "        3.26301783e-01,  1.18569881e-01,  4.46324050e-02,  3.28017890e-01,\n",
              "       -1.05428904e-01,  2.42612034e-01,  1.01922661e-01,  1.66355342e-01,\n",
              "        1.66867990e-02,  1.50690556e-01,  1.79874301e-01,  8.63423347e-02,\n",
              "       -1.13809332e-02, -2.52914876e-01,  1.97621420e-01,  3.05032879e-01,\n",
              "        4.05451283e-03,  1.16720989e-01,  4.77826372e-02,  2.54834354e-01,\n",
              "        3.33025843e-01,  1.55901477e-01, -1.39865971e+00,  4.52131987e-01,\n",
              "        1.66634768e-01, -7.86218792e-02,  1.51104648e-02, -1.31291524e-01,\n",
              "       -1.57204837e-01,  2.35832915e-01,  7.86535889e-02,  1.63556486e-01,\n",
              "       -1.30636901e-01, -9.34467167e-02, -1.10759418e-02,  1.03525817e-01,\n",
              "       -8.80644545e-02,  3.52366939e-02,  5.37448451e-02,  7.84459114e-02,\n",
              "        4.31863889e-02,  1.79434102e-02, -1.69476017e-01,  2.51727670e-01,\n",
              "       -2.37186830e-02, -9.29100513e-02, -2.87427098e-01,  2.99079511e-02,\n",
              "       -2.11490542e-01,  7.96991587e-02,  1.35190725e-01,  3.66056174e-01,\n",
              "        9.78503376e-05, -3.04450691e-01, -6.54933155e-01, -3.31753403e-01,\n",
              "        3.32523361e-02, -1.62594795e-01,  1.87607370e-02, -4.50231954e-02,\n",
              "        2.77704120e-01,  2.27341041e-01, -4.26304847e-01,  3.53826702e-01,\n",
              "        3.59044224e-01,  7.52118453e-02,  4.85861808e-01,  2.02790722e-02,\n",
              "       -1.59950182e-03,  2.89937228e-01, -2.76964996e-02, -3.49908888e-01,\n",
              "       -6.63763136e-02, -1.22078851e-01, -3.85401174e-02, -1.04266971e-01,\n",
              "        1.16341189e-01, -1.85735971e-01,  4.24722694e-02,  1.80661708e-01,\n",
              "        7.86292553e-03, -2.25198343e-01,  3.07895184e-01, -1.81868166e-01,\n",
              "       -2.65860349e-01,  9.79252979e-02, -1.48833781e-01, -7.14350462e-01,\n",
              "       -2.17363417e-01, -1.67259499e-01,  1.45930767e-01, -2.04667822e-02,\n",
              "        4.31128532e-01,  1.92172229e-02, -1.52457789e-01,  7.40077198e-02,\n",
              "       -2.62591898e-01,  5.18970639e-02,  2.97319852e-02,  1.43628448e-01,\n",
              "        1.21455863e-01, -7.47836307e-02,  2.94263661e-01,  4.43630889e-02,\n",
              "       -1.10452540e-01,  3.78078759e-01, -2.31739864e-01,  3.37442346e-02,\n",
              "       -3.89623702e-01, -1.31755784e-01, -2.15975523e-01, -5.11436574e-02,\n",
              "       -1.90868020e-01, -1.93354562e-01,  8.60463530e-02, -8.27628821e-02,\n",
              "        2.77350228e-02,  2.96566747e-02,  1.22308344e-01, -5.56726716e-02,\n",
              "       -1.35451078e-01, -1.76652730e-01, -8.70022327e-02,  1.82310969e-01,\n",
              "        2.56455928e-01,  1.66342914e-01,  5.95706441e-02,  1.23073637e-01,\n",
              "        1.97832569e-01,  1.28208011e-01, -4.18737382e-01, -4.29814346e-02,\n",
              "        8.81466120e-02, -2.77143493e-02, -9.06496793e-02,  9.34877396e-02,\n",
              "       -4.75397110e-02, -2.81973958e-01, -1.18674174e-01, -3.07313442e-01,\n",
              "        2.18306208e+00,  5.46228647e-01,  1.72785893e-02, -4.02181484e-02,\n",
              "       -1.37757268e-02,  1.89988147e-02, -3.98636535e-02,  1.20377265e-01,\n",
              "        3.52409272e-03,  4.42841291e-01,  1.09506510e-02,  1.99262053e-02,\n",
              "       -2.13137642e-02,  1.85522661e-01,  2.73774981e-01,  5.23607433e-03,\n",
              "        7.11337775e-02, -1.41782805e-01, -5.78535020e-01, -6.12506717e-02,\n",
              "       -2.75821358e-01,  1.39666721e-02,  1.25582129e-01, -2.48406544e-01,\n",
              "       -5.71118966e-02,  7.80096948e-02,  2.43778992e-02, -2.33871847e-01,\n",
              "        5.95478900e-02,  3.62992883e-01,  8.11163783e-02,  1.92247108e-01,\n",
              "        1.54264895e-02,  3.00426602e-01,  1.01381019e-01,  1.27414331e-01,\n",
              "        1.48357734e-01, -9.63801965e-02, -7.30494931e-02, -8.19572061e-03,\n",
              "        1.29111826e-01, -2.80025303e-01,  3.79342169e-01, -3.07161689e-01,\n",
              "        7.99020976e-02,  4.53995645e-01,  1.98236987e-01, -2.07250893e-01,\n",
              "        1.01442918e-01,  3.99377882e-01, -6.97131548e-03, -1.43887848e-02,\n",
              "       -9.86982137e-02,  1.05988704e-01, -1.93923146e-01,  1.52955335e-02,\n",
              "        3.57269309e-02, -5.58209233e-02,  1.16127521e-01,  1.32357240e-01,\n",
              "       -2.75432467e-01,  1.41429961e-01,  1.36675447e-01,  1.03842661e-01,\n",
              "        2.04088420e-01, -6.88859373e-02, -1.55248761e-01,  1.06614545e-01,\n",
              "        3.82199436e-02, -1.86951995e-01,  1.66972484e-02,  3.40326071e-01,\n",
              "        3.07792038e-01,  2.97445543e-02,  3.06425095e-01,  6.02525696e-02,\n",
              "        3.37013215e-01, -2.37597991e-02, -2.29367539e-01, -2.46311808e+00,\n",
              "        1.04983360e-01, -4.90200557e-02,  1.87867343e-01,  8.84405151e-02,\n",
              "        2.49311805e-01,  3.09684366e-01, -1.64604768e-01,  2.16910288e-01,\n",
              "       -1.05236672e-01,  7.59956464e-02,  4.23531324e-01,  3.26840311e-01,\n",
              "        1.38687313e-01,  2.61269771e-02,  2.44937763e-01,  1.57317355e-01,\n",
              "       -1.28548771e-01, -1.43401459e-01, -1.74532831e-02,  5.54899834e-02,\n",
              "        6.27428368e-02,  7.16654956e-02, -1.35489732e-01, -2.42556646e-01,\n",
              "        9.51911509e-02, -7.24639520e-02, -1.25925004e-01,  8.19372460e-02,\n",
              "        3.31217021e-01, -2.03110904e-01,  3.46972674e-01, -3.17861676e-01,\n",
              "       -3.66977826e-02,  1.25767261e-01, -3.72369081e-01, -1.49254322e-01,\n",
              "       -1.59008250e-01,  4.12007570e-02, -5.71145415e-02,  3.62597629e-02,\n",
              "        4.28857803e-01,  9.95358154e-02,  1.76311824e-02,  1.45030111e-01,\n",
              "        1.38816237e-02,  2.90825665e-01, -2.62024581e-01,  4.21525627e-01,\n",
              "       -1.84024781e-01, -1.19610801e-01,  2.54630983e-01,  3.46839949e-02,\n",
              "        5.30422479e-02,  7.71582574e-02,  1.18738100e-01, -1.00353532e-01,\n",
              "        5.87138012e-02, -2.02696323e-02, -1.99800462e-01, -1.97377354e-01,\n",
              "        3.98311615e-02, -3.05113912e-01,  1.71919391e-01,  1.12848967e-01,\n",
              "       -2.54766852e-01,  2.41524577e-02,  7.87085146e-02, -2.68693000e-01,\n",
              "       -8.92182216e-02, -7.86310881e-02, -1.89656913e-01,  3.51374120e-01,\n",
              "        2.09102303e-01,  1.53162420e-01, -1.86885968e-02,  2.67344147e-01,\n",
              "        3.82610828e-01,  1.53510764e-01, -5.68589084e-02, -4.17968705e-02,\n",
              "       -3.08958620e-01,  9.07652639e-03, -2.79661864e-02,  8.54963884e-02,\n",
              "       -7.00204849e+00, -3.32886815e-01, -2.54010241e-02,  2.13338546e-02,\n",
              "       -9.13202539e-02, -1.36275381e-01,  5.70018068e-02, -3.27032357e-01,\n",
              "        1.11166768e-01, -1.81271359e-02, -2.75980774e-02,  1.73743457e-01,\n",
              "       -1.62981778e-01, -1.80695131e-01,  4.70964432e-01,  2.76095092e-01],\n",
              "      dtype=float32)"
            ]
          },
          "metadata": {
            "tags": []
          },
          "execution_count": 17
        }
      ]
    },
    {
      "cell_type": "markdown",
      "metadata": {
        "id": "D0RqMRY1o4Gl"
      },
      "source": [
        "Exécutons maintenant distilBERT sur les 10 premiers commentaires afin de regarder le format des sorties obtenues :"
      ]
    },
    {
      "cell_type": "code",
      "metadata": {
        "id": "U_nAKA85o_Fm",
        "outputId": "2c17027d-290e-41cc-b040-81e7e6071fc9",
        "colab": {
          "base_uri": "https://localhost:8080/",
          "height": 641
        }
      },
      "source": [
        "sortie_vecteurs_distilBERT = model_distilBERT.predict(\n",
        "    [output_tokenizer_entrainement['input_ids'][0:10],\n",
        "     output_tokenizer_entrainement['attention_mask'][0:10]]\n",
        "     ,verbose=1)\n",
        "print(\"Commentaire :\", commentaires[1])\n",
        "print(\"input_ids\", output_tokenizer_entrainement['input_ids'][1])\n",
        "print(\"Sortie BERT\", sortie_vecteurs_distilBERT[0][:,0,:])"
      ],
      "execution_count": 18,
      "outputs": [
        {
          "output_type": "stream",
          "text": [
            "1/1 [==============================] - 0s 9ms/step\n",
            "Commentaire : apparently reassembled from the cutting room floor of any given daytime soap\n",
            "input_ids tf.Tensor(\n",
            "[ 101 2009 1005 1055 6057 1010 2004 1996 2214 3038 3632 1010 2138 2009\n",
            " 1005 1055 2995  102    0    0    0    0    0    0    0    0    0    0\n",
            "    0    0    0    0    0    0    0    0    0    0    0    0    0    0\n",
            "    0    0    0    0    0    0    0    0    0    0    0    0    0    0\n",
            "    0    0    0    0    0    0    0    0    0    0    0    0    0    0\n",
            "    0    0    0    0    0    0    0    0    0    0    0    0    0    0\n",
            "    0    0    0    0    0    0    0    0    0    0    0    0    0    0\n",
            "    0    0    0    0    0    0    0    0    0    0    0    0    0    0\n",
            "    0    0    0    0    0    0    0    0    0    0    0    0    0    0\n",
            "    0    0    0    0    0    0    0    0    0    0    0    0    0    0\n",
            "    0    0    0    0    0    0    0    0    0    0    0    0    0    0\n",
            "    0    0    0    0    0    0    0    0    0    0    0    0    0    0\n",
            "    0    0    0    0    0    0    0    0    0    0    0    0    0    0\n",
            "    0    0    0    0    0    0    0    0    0    0    0    0    0    0\n",
            "    0    0    0    0    0    0    0    0    0    0    0    0    0    0\n",
            "    0    0    0    0    0    0    0    0    0    0    0    0    0    0\n",
            "    0    0    0    0    0    0    0    0    0    0    0    0    0    0\n",
            "    0    0    0    0    0    0    0    0    0    0    0    0    0    0\n",
            "    0    0    0    0    0    0    0    0    0    0    0    0    0    0\n",
            "    0    0    0    0    0    0    0], shape=(273,), dtype=int32)\n",
            "Sortie BERT [[ 0.08122599 -0.05827229  0.1323919  ... -0.18069497  0.4709647\n",
            "   0.27609533]\n",
            " [ 0.0490168   0.14700001 -0.00869595 ...  0.13890138  0.43489784\n",
            "   0.49022952]\n",
            " [ 0.01486329  0.07434139 -0.04507342 ... -0.1945506   0.6068492\n",
            "   0.43477806]\n",
            " ...\n",
            " [-0.27717632 -0.16550589 -0.0207566  ... -0.22691467  0.3518055\n",
            "   0.20372486]\n",
            " [-0.18415456  0.06538135 -0.3073644  ... -0.12242924  0.5038708\n",
            "   0.1434538 ]\n",
            " [-0.08537691 -0.02046296 -0.2357357  ...  0.01562688  0.4507267\n",
            "   0.27730167]]\n"
          ],
          "name": "stdout"
        }
      ]
    },
    {
      "cell_type": "markdown",
      "metadata": {
        "id": "0bjWNVb4KdZG"
      },
      "source": [
        "# **Ajout du réseau de neurones simple en sortie du modèle distilBERT**"
      ]
    },
    {
      "cell_type": "markdown",
      "metadata": {
        "id": "xd2hHeGJGtVB"
      },
      "source": [
        "**Extraction des vecteurs [CLS]**"
      ]
    },
    {
      "cell_type": "markdown",
      "metadata": {
        "id": "EkqicdHNDSpu"
      },
      "source": [
        "Parmi les MAX_SEQUENCE_LENGTH vecteurs en sortie, il ne nous faut que le premier (celui qui correspond au mot clé [CLS]). On doit donc récupérer, pour chaque commentaire, le premier vecteur de dimension 768 parmi les MAX_SEQUENCE_LENGTH en sortie :  \n",
        "  \n",
        "  \n",
        "<img src=\"https://github.com/AlexandreBourrieau/ML-F1/blob/master/Carnets%20Jupyter/Images/Slice_SortieBERT.png?raw=true\"/>  "
      ]
    },
    {
      "cell_type": "code",
      "metadata": {
        "id": "5_sA6CqIIiXR",
        "outputId": "159ac5b5-d46f-4af3-d296-9ab99d6eb634",
        "colab": {
          "base_uri": "https://localhost:8080/",
          "height": 35
        }
      },
      "source": [
        "sortie_distilBERT[0]"
      ],
      "execution_count": 19,
      "outputs": [
        {
          "output_type": "execute_result",
          "data": {
            "text/plain": [
              "<tf.Tensor 'tf_distil_bert_model/distilbert/transformer/layer_._5/output_layer_norm/batchnorm/add_1:0' shape=(None, 273, 768) dtype=float32>"
            ]
          },
          "metadata": {
            "tags": []
          },
          "execution_count": 19
        }
      ]
    },
    {
      "cell_type": "markdown",
      "metadata": {
        "id": "7H26bHc7GxhP"
      },
      "source": [
        "**Construction du modèle global**"
      ]
    },
    {
      "cell_type": "markdown",
      "metadata": {
        "id": "rEv4gm-wEEP2"
      },
      "source": [
        "Les vecteurs de dimension 768 correspondants aux sorties [CLS] de chaque commentaire sont envoyés dans un réseau de neurones à 2 neurones avec une fonction d'activation Softmax :\n",
        "<img src=\"https://raw.githubusercontent.com/AlexandreBourrieau/ML-F1/master/Carnets%20Jupyter/Images/ReseauDistilBERT1.png\"/>"
      ]
    },
    {
      "cell_type": "code",
      "metadata": {
        "id": "SEQc1zx5P25h",
        "outputId": "1c9a55f0-820c-4456-b32f-0a2bdeb5164a",
        "colab": {
          "base_uri": "https://localhost:8080/",
          "height": 453
        }
      },
      "source": [
        "# Configuration du modèle distilBERT\n",
        "config = DistilBertConfig(num_labels=2)           # 1 label\n",
        "config.output_hidden_states = True               # Ne récupère pas la totalité des couches mais uniquement la dernière\n",
        "config.output_attentions = False\n",
        "\n",
        "# Instanciation du modèle distilBERT\n",
        "transformer_model = TFDistilBertModel.from_pretrained('distilbert-base-uncased', config = config)\n",
        "\n",
        "# Défintion du format des entrées du modèle\n",
        "entrees_ids = tf.keras.layers.Input(shape=(LONGUEUR_MAX_COMMENTAIRE,), name='input_token', dtype='int32')\n",
        "entrees_masks = tf.keras.layers.Input(shape=(LONGUEUR_MAX_COMMENTAIRE,), name='masked_token', dtype='int32') \n",
        "\n",
        "# Création de la sortie du modèle\n",
        "sortie_distilBERT = transformer_model([entrees_ids,entrees_masks])[0]\n",
        "\n",
        "\n",
        "l1 = Lambda(lambda seq: seq[:, 0, :])(sortie_distilBERT)        # On ne récupère que les vecteurs [CLS]\n",
        "output = Dense(2, activation='softmax')(l1)\n",
        "\n",
        "model = tf.keras.Model(inputs=[entrees_ids, entrees_masks], outputs = output)\n",
        "model.layers[2].trainable = False         # Désactive d'entrainement de distilBERT\n",
        "\n",
        "model.compile(loss='sparse_categorical_crossentropy', optimizer=Adam(), metrics=['accuracy'])\n",
        "model.summary()"
      ],
      "execution_count": 21,
      "outputs": [
        {
          "output_type": "stream",
          "text": [
            "Some weights of the model checkpoint at distilbert-base-uncased were not used when initializing TFDistilBertModel: ['activation_13', 'vocab_projector', 'vocab_layer_norm', 'vocab_transform']\n",
            "- This IS expected if you are initializing TFDistilBertModel from the checkpoint of a model trained on another task or with another architecture (e.g. initializing a BertForSequenceClassification model from a BertForPretraining model).\n",
            "- This IS NOT expected if you are initializing TFDistilBertModel from the checkpoint of a model that you expect to be exactly identical (initializing a BertForSequenceClassification model from a BertForSequenceClassification model).\n",
            "All the weights of TFDistilBertModel were initialized from the model checkpoint at distilbert-base-uncased.\n",
            "If your task is similar to the task the model of the checkpoint was trained on, you can already use TFDistilBertModel for predictions without further training.\n"
          ],
          "name": "stderr"
        },
        {
          "output_type": "stream",
          "text": [
            "Model: \"functional_5\"\n",
            "__________________________________________________________________________________________________\n",
            "Layer (type)                    Output Shape         Param #     Connected to                     \n",
            "==================================================================================================\n",
            "input_token (InputLayer)        [(None, 273)]        0                                            \n",
            "__________________________________________________________________________________________________\n",
            "masked_token (InputLayer)       [(None, 273)]        0                                            \n",
            "__________________________________________________________________________________________________\n",
            "tf_distil_bert_model_2 (TFDisti ((None, 273, 768), ( 66362880    input_token[0][0]                \n",
            "                                                                 masked_token[0][0]               \n",
            "__________________________________________________________________________________________________\n",
            "lambda_1 (Lambda)               (None, 768)          0           tf_distil_bert_model_2[0][7]     \n",
            "__________________________________________________________________________________________________\n",
            "dense_1 (Dense)                 (None, 2)            1538        lambda_1[0][0]                   \n",
            "==================================================================================================\n",
            "Total params: 66,364,418\n",
            "Trainable params: 1,538\n",
            "Non-trainable params: 66,362,880\n",
            "__________________________________________________________________________________________________\n"
          ],
          "name": "stdout"
        }
      ]
    },
    {
      "cell_type": "markdown",
      "metadata": {
        "id": "Q0NXqJTWDroW"
      },
      "source": [
        "On lance maintenant l'entrainement du modèle :"
      ]
    },
    {
      "cell_type": "code",
      "metadata": {
        "id": "3XOX7Ve54k0p",
        "outputId": "bfeec089-37e7-4104-bb02-17b90c646939",
        "colab": {
          "base_uri": "https://localhost:8080/",
          "height": 245
        }
      },
      "source": [
        "history = model.fit([output_tokenizer_entrainement['input_ids'],output_tokenizer_entrainement['attention_mask']],y_entrainement,\n",
        "                    epochs=5, verbose=1, batch_size = 3,\n",
        "                    validation_data=([output_tokenizer_tests['input_ids'],output_tokenizer_tests['attention_mask']],y_test))\n"
      ],
      "execution_count": 22,
      "outputs": [
        {
          "output_type": "stream",
          "text": [
            "Epoch 1/5\n",
            "  1/750 [..............................] - ETA: 0s - loss: 1.1401 - accuracy: 0.3333WARNING:tensorflow:Callbacks method `on_train_batch_end` is slow compared to the batch time (batch time: 0.0094s vs `on_train_batch_end` time: 0.0380s). Check your callbacks.\n",
            "749/750 [============================>.] - ETA: 0s - loss: 0.5220 - accuracy: 0.7454WARNING:tensorflow:Callbacks method `on_test_batch_end` is slow compared to the batch time (batch time: 0.0039s vs `on_test_batch_end` time: 0.0211s). Check your callbacks.\n",
            "750/750 [==============================] - 31s 42ms/step - loss: 0.5218 - accuracy: 0.7453 - val_loss: 0.4423 - val_accuracy: 0.7800\n",
            "Epoch 2/5\n",
            "750/750 [==============================] - 31s 42ms/step - loss: 0.4271 - accuracy: 0.8151 - val_loss: 0.3964 - val_accuracy: 0.8240\n",
            "Epoch 3/5\n",
            "750/750 [==============================] - 32s 43ms/step - loss: 0.4103 - accuracy: 0.8116 - val_loss: 0.3957 - val_accuracy: 0.8173\n",
            "Epoch 4/5\n",
            "750/750 [==============================] - 33s 43ms/step - loss: 0.3994 - accuracy: 0.8289 - val_loss: 0.3885 - val_accuracy: 0.8200\n",
            "Epoch 5/5\n",
            "750/750 [==============================] - 33s 44ms/step - loss: 0.3816 - accuracy: 0.8258 - val_loss: 0.3751 - val_accuracy: 0.8267\n"
          ],
          "name": "stdout"
        }
      ]
    },
    {
      "cell_type": "code",
      "metadata": {
        "id": "4ZhKM9mfQ0qi",
        "outputId": "2b79f386-3381-44ea-be3d-d357dabfd61f",
        "colab": {
          "base_uri": "https://localhost:8080/",
          "height": 295
        }
      },
      "source": [
        "plt.plot(history.history['accuracy'])\n",
        "plt.plot(history.history['val_accuracy'])\n",
        "plt.title('Précision du modèle')\n",
        "plt.ylabel('Précision')\n",
        "plt.xlabel('Itération')\n",
        "plt.legend(['Entrainement', 'Test'], loc='upper left')\n",
        "plt.show()"
      ],
      "execution_count": 23,
      "outputs": [
        {
          "output_type": "display_data",
          "data": {
            "image/png": "[encoded data removed]",
            "text/plain": [
              "<Figure size 432x288 with 1 Axes>"
            ]
          },
          "metadata": {
            "tags": [],
            "needs_background": "light"
          }
        }
      ]
    },
    {
      "cell_type": "markdown",
      "metadata": {
        "id": "T5ThHOoGRGIa"
      },
      "source": [
        "# **Fine Tuning**"
      ]
    },
    {
      "cell_type": "markdown",
      "metadata": {
        "id": "QhYtyQjuIIAZ"
      },
      "source": [
        "Afin d'obtenir une meilleur précision, on va également entrainer distilBERT : "
      ]
    },
    {
      "cell_type": "code",
      "metadata": {
        "id": "5eui3V0PRI6U",
        "outputId": "ecd42578-ac39-4add-c7d9-a91fc7a46a96",
        "colab": {
          "base_uri": "https://localhost:8080/",
          "height": 347
        }
      },
      "source": [
        "model.layers[2].trainable = True\n",
        "model.compile(loss='sparse_categorical_crossentropy', optimizer=Adam(1e-5), metrics=['accuracy'])\n",
        "model.summary()"
      ],
      "execution_count": 24,
      "outputs": [
        {
          "output_type": "stream",
          "text": [
            "Model: \"functional_5\"\n",
            "__________________________________________________________________________________________________\n",
            "Layer (type)                    Output Shape         Param #     Connected to                     \n",
            "==================================================================================================\n",
            "input_token (InputLayer)        [(None, 273)]        0                                            \n",
            "__________________________________________________________________________________________________\n",
            "masked_token (InputLayer)       [(None, 273)]        0                                            \n",
            "__________________________________________________________________________________________________\n",
            "tf_distil_bert_model_2 (TFDisti ((None, 273, 768), ( 66362880    input_token[0][0]                \n",
            "                                                                 masked_token[0][0]               \n",
            "__________________________________________________________________________________________________\n",
            "lambda_1 (Lambda)               (None, 768)          0           tf_distil_bert_model_2[0][7]     \n",
            "__________________________________________________________________________________________________\n",
            "dense_1 (Dense)                 (None, 2)            1538        lambda_1[0][0]                   \n",
            "==================================================================================================\n",
            "Total params: 66,364,418\n",
            "Trainable params: 66,364,418\n",
            "Non-trainable params: 0\n",
            "__________________________________________________________________________________________________\n"
          ],
          "name": "stdout"
        }
      ]
    },
    {
      "cell_type": "code",
      "metadata": {
        "id": "eO3HSM6dRYl_",
        "outputId": "9bb01c0e-3f67-4f07-9402-21e20f5d7e4c",
        "colab": {
          "base_uri": "https://localhost:8080/",
          "height": 228
        }
      },
      "source": [
        "history = model.fit([output_tokenizer_entrainement['input_ids'],output_tokenizer_entrainement['attention_mask']],y_entrainement,\n",
        "                    epochs=5, verbose=1, batch_size = 3,\n",
        "                    validation_data=([output_tokenizer_tests['input_ids'],output_tokenizer_tests['attention_mask']],y_test))"
      ],
      "execution_count": 25,
      "outputs": [
        {
          "output_type": "stream",
          "text": [
            "Epoch 1/5\n",
            "750/750 [==============================] - ETA: 0s - loss: 0.3706 - accuracy: 0.8356WARNING:tensorflow:Callbacks method `on_test_batch_end` is slow compared to the batch time (batch time: 0.0041s vs `on_test_batch_end` time: 0.0214s). Check your callbacks.\n",
            "750/750 [==============================] - 85s 114ms/step - loss: 0.3706 - accuracy: 0.8356 - val_loss: 0.3417 - val_accuracy: 0.8667\n",
            "Epoch 2/5\n",
            "750/750 [==============================] - 87s 116ms/step - loss: 0.1593 - accuracy: 0.9329 - val_loss: 0.3125 - val_accuracy: 0.8880\n",
            "Epoch 3/5\n",
            "750/750 [==============================] - 88s 117ms/step - loss: 0.0635 - accuracy: 0.9769 - val_loss: 0.4711 - val_accuracy: 0.8653\n",
            "Epoch 4/5\n",
            "750/750 [==============================] - 89s 118ms/step - loss: 0.0241 - accuracy: 0.9907 - val_loss: 0.4908 - val_accuracy: 0.8773\n",
            "Epoch 5/5\n",
            "750/750 [==============================] - 89s 118ms/step - loss: 0.0358 - accuracy: 0.9898 - val_loss: 0.4185 - val_accuracy: 0.8920\n"
          ],
          "name": "stdout"
        }
      ]
    },
    {
      "cell_type": "code",
      "metadata": {
        "id": "TGsA4TSdRvnu",
        "outputId": "9aea8862-d296-4796-c83e-e0c4841c32ef",
        "colab": {
          "base_uri": "https://localhost:8080/",
          "height": 295
        }
      },
      "source": [
        "plt.plot(history.history['accuracy'])\n",
        "plt.plot(history.history['val_accuracy'])\n",
        "plt.title('Précision du modèle')\n",
        "plt.ylabel('Précision')\n",
        "plt.xlabel('Itération')\n",
        "plt.legend(['Entrainement', 'Test'], loc='upper left')\n",
        "plt.show()"
      ],
      "execution_count": 26,
      "outputs": [
        {
          "output_type": "display_data",
          "data": {
            "image/png": "[encoded data removed]",
            "text/plain": [
              "<Figure size 432x288 with 1 Axes>"
            ]
          },
          "metadata": {
            "tags": [],
            "needs_background": "light"
          }
        }
      ]
    },
    {
      "cell_type": "markdown",
      "metadata": {
        "id": "CUAkgLQy2mSo"
      },
      "source": [
        "# **Un modèle plus complexe**"
      ]
    },
    {
      "cell_type": "markdown",
      "metadata": {
        "id": "KiWq_-8HJqAp"
      },
      "source": [
        "Cette fois, les vecteurs de dimension 768 correspondants aux sorties [CLS] de chaque commentaire sont envoyés au même modèle que celui utilisé lors de l'activité avec GloVe :\n",
        "<img src=\"https://raw.githubusercontent.com/AlexandreBourrieau/ML-F1/master/Carnets%20Jupyter/Images/ReseauDistilBERT3.png\"/>"
      ]
    },
    {
      "cell_type": "markdown",
      "metadata": {
        "id": "qu0eaqewLTVB"
      },
      "source": [
        "<img src=\"https://raw.githubusercontent.com/AlexandreBourrieau/ML-F1/master/Carnets%20Jupyter/Images/ReseauDistilBERT4.png\"/>"
      ]
    },
    {
      "cell_type": "code",
      "metadata": {
        "id": "JS4_ExKz9Beu",
        "outputId": "3157257e-5c4f-4611-d7c7-759e98375f18",
        "colab": {
          "base_uri": "https://localhost:8080/",
          "height": 661
        }
      },
      "source": [
        "dropout = 0.4\n",
        "\n",
        "# Configuration du modèle distilBERT\n",
        "config = DistilBertConfig(num_labels=2)           # 1 label\n",
        "config.output_hidden_states = True               # Ne récupère pas la totalité des couches mais uniquement la dernière\n",
        "config.output_attentions = False\n",
        "\n",
        "# Instanciation du modèle distilBERT\n",
        "transformer_model = TFDistilBertModel.from_pretrained('distilbert-base-uncased', config = config)\n",
        "\n",
        "# Défintion du format des entrées du modèle\n",
        "entrees_ids = tf.keras.layers.Input(shape=(LONGUEUR_MAX_COMMENTAIRE,), name='input_token', dtype='int32')\n",
        "entrees_masks = tf.keras.layers.Input(shape=(LONGUEUR_MAX_COMMENTAIRE,), name='masked_token', dtype='int32') \n",
        "\n",
        "# Création de la sortie du modèle\n",
        "sortie_distilBERT = transformer_model([entrees_ids,entrees_masks])[0]\n",
        "\n",
        "l1 = Lambda(lambda seq: seq[:, 0, :])(sortie_distilBERT)\n",
        "l2 = Conv1D(128, 5, activation='relu', padding='same', strides=2)(tf.expand_dims(l1,axis=1))\n",
        "l3 = GlobalMaxPooling1D()(l2)\n",
        "l4 = Dropout(dropout)(l3)\n",
        "l5 = Dense(128, activation='relu')(l4)\n",
        "l6 = Dropout(dropout)(l5)\n",
        "l7 = Dense(2, activation='softmax')(l6)\n",
        "\n",
        "model = tf.keras.Model(inputs=[entrees_ids, entrees_masks], outputs = l7)\n",
        "model.layers[2].trainable = False\n",
        "\n",
        "model.compile(loss='sparse_categorical_crossentropy', optimizer=Adam(), metrics=['accuracy'])\n",
        "model.summary()"
      ],
      "execution_count": 27,
      "outputs": [
        {
          "output_type": "stream",
          "text": [
            "Some weights of the model checkpoint at distilbert-base-uncased were not used when initializing TFDistilBertModel: ['activation_13', 'vocab_projector', 'vocab_layer_norm', 'vocab_transform']\n",
            "- This IS expected if you are initializing TFDistilBertModel from the checkpoint of a model trained on another task or with another architecture (e.g. initializing a BertForSequenceClassification model from a BertForPretraining model).\n",
            "- This IS NOT expected if you are initializing TFDistilBertModel from the checkpoint of a model that you expect to be exactly identical (initializing a BertForSequenceClassification model from a BertForSequenceClassification model).\n",
            "All the weights of TFDistilBertModel were initialized from the model checkpoint at distilbert-base-uncased.\n",
            "If your task is similar to the task the model of the checkpoint was trained on, you can already use TFDistilBertModel for predictions without further training.\n"
          ],
          "name": "stderr"
        },
        {
          "output_type": "stream",
          "text": [
            "Model: \"functional_7\"\n",
            "__________________________________________________________________________________________________\n",
            "Layer (type)                    Output Shape         Param #     Connected to                     \n",
            "==================================================================================================\n",
            "input_token (InputLayer)        [(None, 273)]        0                                            \n",
            "__________________________________________________________________________________________________\n",
            "masked_token (InputLayer)       [(None, 273)]        0                                            \n",
            "__________________________________________________________________________________________________\n",
            "tf_distil_bert_model_3 (TFDisti ((None, 273, 768), ( 66362880    input_token[0][0]                \n",
            "                                                                 masked_token[0][0]               \n",
            "__________________________________________________________________________________________________\n",
            "lambda_2 (Lambda)               (None, 768)          0           tf_distil_bert_model_3[0][7]     \n",
            "__________________________________________________________________________________________________\n",
            "tf_op_layer_ExpandDims (TensorF [(None, 1, 768)]     0           lambda_2[0][0]                   \n",
            "__________________________________________________________________________________________________\n",
            "conv1d (Conv1D)                 (None, 1, 128)       491648      tf_op_layer_ExpandDims[0][0]     \n",
            "__________________________________________________________________________________________________\n",
            "global_max_pooling1d (GlobalMax (None, 128)          0           conv1d[0][0]                     \n",
            "__________________________________________________________________________________________________\n",
            "dropout_76 (Dropout)            (None, 128)          0           global_max_pooling1d[0][0]       \n",
            "__________________________________________________________________________________________________\n",
            "dense_2 (Dense)                 (None, 128)          16512       dropout_76[0][0]                 \n",
            "__________________________________________________________________________________________________\n",
            "dropout_77 (Dropout)            (None, 128)          0           dense_2[0][0]                    \n",
            "__________________________________________________________________________________________________\n",
            "dense_3 (Dense)                 (None, 2)            258         dropout_77[0][0]                 \n",
            "==================================================================================================\n",
            "Total params: 66,871,298\n",
            "Trainable params: 508,418\n",
            "Non-trainable params: 66,362,880\n",
            "__________________________________________________________________________________________________\n"
          ],
          "name": "stdout"
        }
      ]
    },
    {
      "cell_type": "code",
      "metadata": {
        "id": "xJ1zFZr3_iKX",
        "outputId": "ac06df91-bc5e-4220-e392-99a3026f4529",
        "colab": {
          "base_uri": "https://localhost:8080/",
          "height": 245
        }
      },
      "source": [
        "history = model.fit([output_tokenizer_entrainement['input_ids'],output_tokenizer_entrainement['attention_mask']],y_entrainement,\n",
        "                    epochs=5, verbose=1, batch_size = 3,\n",
        "                    validation_data=([output_tokenizer_tests['input_ids'],output_tokenizer_tests['attention_mask']],y_test))"
      ],
      "execution_count": 28,
      "outputs": [
        {
          "output_type": "stream",
          "text": [
            "Epoch 1/5\n",
            "  1/750 [..............................] - ETA: 0s - loss: 0.7460 - accuracy: 0.6667WARNING:tensorflow:Callbacks method `on_train_batch_end` is slow compared to the batch time (batch time: 0.0090s vs `on_train_batch_end` time: 0.0386s). Check your callbacks.\n",
            "749/750 [============================>.] - ETA: 0s - loss: 0.5752 - accuracy: 0.6934WARNING:tensorflow:Callbacks method `on_test_batch_end` is slow compared to the batch time (batch time: 0.0046s vs `on_test_batch_end` time: 0.0201s). Check your callbacks.\n",
            "750/750 [==============================] - 33s 44ms/step - loss: 0.5753 - accuracy: 0.6929 - val_loss: 0.4447 - val_accuracy: 0.7933\n",
            "Epoch 2/5\n",
            "750/750 [==============================] - 33s 43ms/step - loss: 0.4774 - accuracy: 0.7796 - val_loss: 0.4652 - val_accuracy: 0.7560\n",
            "Epoch 3/5\n",
            "750/750 [==============================] - 33s 44ms/step - loss: 0.4378 - accuracy: 0.8031 - val_loss: 0.3600 - val_accuracy: 0.8307\n",
            "Epoch 4/5\n",
            "750/750 [==============================] - 33s 45ms/step - loss: 0.4386 - accuracy: 0.7964 - val_loss: 0.3891 - val_accuracy: 0.8267\n",
            "Epoch 5/5\n",
            "750/750 [==============================] - 34s 45ms/step - loss: 0.4374 - accuracy: 0.7916 - val_loss: 0.3711 - val_accuracy: 0.8333\n"
          ],
          "name": "stdout"
        }
      ]
    },
    {
      "cell_type": "code",
      "metadata": {
        "id": "-xbfmmKuB__B",
        "outputId": "41e4ee0c-0f0c-42c5-d347-b7f4c7772ca9",
        "colab": {
          "base_uri": "https://localhost:8080/",
          "height": 295
        }
      },
      "source": [
        "plt.plot(history.history['accuracy'])\n",
        "plt.plot(history.history['val_accuracy'])\n",
        "plt.title('Précision du modèle')\n",
        "plt.ylabel('Précision')\n",
        "plt.xlabel('Itération')\n",
        "plt.legend(['Entrainement', 'Test'], loc='upper left')\n",
        "plt.show()"
      ],
      "execution_count": 29,
      "outputs": [
        {
          "output_type": "display_data",
          "data": {
            "image/png": "[encoded data removed]",
            "text/plain": [
              "<Figure size 432x288 with 1 Axes>"
            ]
          },
          "metadata": {
            "tags": [],
            "needs_background": "light"
          }
        }
      ]
    },
    {
      "cell_type": "markdown",
      "metadata": {
        "id": "KlBsWHRNQPrP"
      },
      "source": [
        "**Fine-tuning**"
      ]
    },
    {
      "cell_type": "markdown",
      "metadata": {
        "id": "hKn5K5VYQMtS"
      },
      "source": [
        "Afin de tenter d'obtenir une meilleur précision, on va également entrainer distilBERT : "
      ]
    },
    {
      "cell_type": "code",
      "metadata": {
        "id": "ZsfwWC_sB9-k",
        "outputId": "b834a196-c0ab-4d81-eb69-40f29e6de74c",
        "colab": {
          "base_uri": "https://localhost:8080/",
          "height": 555
        }
      },
      "source": [
        "model.layers[2].trainable = True\n",
        "model.compile(loss='sparse_categorical_crossentropy', optimizer=Adam(1e-5), metrics=['accuracy'])\n",
        "model.summary()"
      ],
      "execution_count": 30,
      "outputs": [
        {
          "output_type": "stream",
          "text": [
            "Model: \"functional_7\"\n",
            "__________________________________________________________________________________________________\n",
            "Layer (type)                    Output Shape         Param #     Connected to                     \n",
            "==================================================================================================\n",
            "input_token (InputLayer)        [(None, 273)]        0                                            \n",
            "__________________________________________________________________________________________________\n",
            "masked_token (InputLayer)       [(None, 273)]        0                                            \n",
            "__________________________________________________________________________________________________\n",
            "tf_distil_bert_model_3 (TFDisti ((None, 273, 768), ( 66362880    input_token[0][0]                \n",
            "                                                                 masked_token[0][0]               \n",
            "__________________________________________________________________________________________________\n",
            "lambda_2 (Lambda)               (None, 768)          0           tf_distil_bert_model_3[0][7]     \n",
            "__________________________________________________________________________________________________\n",
            "tf_op_layer_ExpandDims (TensorF [(None, 1, 768)]     0           lambda_2[0][0]                   \n",
            "__________________________________________________________________________________________________\n",
            "conv1d (Conv1D)                 (None, 1, 128)       491648      tf_op_layer_ExpandDims[0][0]     \n",
            "__________________________________________________________________________________________________\n",
            "global_max_pooling1d (GlobalMax (None, 128)          0           conv1d[0][0]                     \n",
            "__________________________________________________________________________________________________\n",
            "dropout_76 (Dropout)            (None, 128)          0           global_max_pooling1d[0][0]       \n",
            "__________________________________________________________________________________________________\n",
            "dense_2 (Dense)                 (None, 128)          16512       dropout_76[0][0]                 \n",
            "__________________________________________________________________________________________________\n",
            "dropout_77 (Dropout)            (None, 128)          0           dense_2[0][0]                    \n",
            "__________________________________________________________________________________________________\n",
            "dense_3 (Dense)                 (None, 2)            258         dropout_77[0][0]                 \n",
            "==================================================================================================\n",
            "Total params: 66,871,298\n",
            "Trainable params: 66,871,298\n",
            "Non-trainable params: 0\n",
            "__________________________________________________________________________________________________\n"
          ],
          "name": "stdout"
        }
      ]
    },
    {
      "cell_type": "code",
      "metadata": {
        "id": "Eh_1ALcKCFSk",
        "outputId": "21f0b36e-d92d-4bfc-9f43-4658a02e40eb",
        "colab": {
          "base_uri": "https://localhost:8080/",
          "height": 228
        }
      },
      "source": [
        "history = model.fit([output_tokenizer_entrainement['input_ids'],output_tokenizer_entrainement['attention_mask']],y_entrainement,\n",
        "                    epochs=5, verbose=1, batch_size = 3,\n",
        "                    validation_data=([output_tokenizer_tests['input_ids'],output_tokenizer_tests['attention_mask']],y_test))"
      ],
      "execution_count": 31,
      "outputs": [
        {
          "output_type": "stream",
          "text": [
            "Epoch 1/5\n",
            "750/750 [==============================] - ETA: 0s - loss: 0.3986 - accuracy: 0.8222WARNING:tensorflow:Callbacks method `on_test_batch_end` is slow compared to the batch time (batch time: 0.0047s vs `on_test_batch_end` time: 0.0212s). Check your callbacks.\n",
            "750/750 [==============================] - 86s 115ms/step - loss: 0.3986 - accuracy: 0.8222 - val_loss: 0.3194 - val_accuracy: 0.8667\n",
            "Epoch 2/5\n",
            "750/750 [==============================] - 88s 117ms/step - loss: 0.2344 - accuracy: 0.9040 - val_loss: 0.3261 - val_accuracy: 0.8787\n",
            "Epoch 3/5\n",
            "750/750 [==============================] - 89s 118ms/step - loss: 0.0986 - accuracy: 0.9627 - val_loss: 0.5763 - val_accuracy: 0.8560\n",
            "Epoch 4/5\n",
            "750/750 [==============================] - 90s 119ms/step - loss: 0.0532 - accuracy: 0.9796 - val_loss: 0.5107 - val_accuracy: 0.8733\n",
            "Epoch 5/5\n",
            "750/750 [==============================] - 89s 119ms/step - loss: 0.0362 - accuracy: 0.9876 - val_loss: 0.6511 - val_accuracy: 0.8613\n"
          ],
          "name": "stdout"
        }
      ]
    },
    {
      "cell_type": "code",
      "metadata": {
        "id": "s2EGMAnCHXVf",
        "outputId": "168054a0-5f75-4cb3-cb2e-95d2264f67f0",
        "colab": {
          "base_uri": "https://localhost:8080/",
          "height": 295
        }
      },
      "source": [
        "plt.plot(history.history['accuracy'])\n",
        "plt.plot(history.history['val_accuracy'])\n",
        "plt.title('Précision du modèle')\n",
        "plt.ylabel('Précision')\n",
        "plt.xlabel('Itération')\n",
        "plt.legend(['Entrainement', 'Test'], loc='upper left')\n",
        "plt.show()"
      ],
      "execution_count": 32,
      "outputs": [
        {
          "output_type": "display_data",
          "data": {
            "image/png": "[encoded data removed]",
            "text/plain": [
              "<Figure size 432x288 with 1 Axes>"
            ]
          },
          "metadata": {
            "tags": [],
            "needs_background": "light"
          }
        }
      ]
    }
  ]
}