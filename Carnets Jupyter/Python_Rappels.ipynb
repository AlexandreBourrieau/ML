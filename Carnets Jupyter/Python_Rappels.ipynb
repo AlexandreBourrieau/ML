{
  "nbformat": 4,
  "nbformat_minor": 0,
  "metadata": {
    "colab": {
      "name": "Python_Rappels.ipynb",
      "provenance": [],
      "collapsed_sections": []
    },
    "kernelspec": {
      "display_name": "Python 3",
      "language": "python",
      "name": "python3"
    },
    "language_info": {
      "codemirror_mode": {
        "name": "ipython",
        "version": 3
      },
      "file_extension": ".py",
      "mimetype": "text/x-python",
      "name": "python",
      "nbconvert_exporter": "python",
      "pygments_lexer": "ipython3",
      "version": "3.6.8"
    }
  },
  "cells": [
    {
      "cell_type": "markdown",
      "metadata": {
        "id": "2EQ3aMz5KrjT"
      },
      "source": [
        "# Rappels sur le langage Python\n",
        "\n",
        "Python est un langage de programmation très populaire utlisé dans de nombreuses applications.\n",
        "En particulier, il est très utilisé en Machine Learning. Cela vient du fait que sa syntaxe est très simple et interactive.\n",
        "De plus, de nombreuses librairies en rapport avec le machine learning existent en Python.\n",
        "Il est facile et rapide d'expérimenter, ce qui est très important pendant les phases d'analyse de données et le developpement de modèles d'apprentissage.\n",
        "\n",
        "Nous utiliserons uniquement Python 3 dans ce cours."
      ]
    },
    {
      "cell_type": "markdown",
      "metadata": {
        "id": "HHHYgpbFL4-N"
      },
      "source": [
        "## Syntaxe\n",
        "\n",
        "[Types de données](https://docs.python.org/3.4/reference/datamodel.html), [Operateurs](https://docs.python.org/3.4/library/operator.html), et variables. Python est un langage interactif ce qui nous permet de faire des essais en tapant juste du code et en l'éxécutant dans le carnet."
      ]
    },
    {
      "cell_type": "code",
      "metadata": {
        "id": "e8wn727POHDT",
        "colab": {
          "base_uri": "https://localhost:8080/"
        },
        "outputId": "3b6fecbc-cc30-48f3-cdac-e452f9b9595e"
      },
      "source": [
        "# Nombres, ex: int (entiers), float (nombres à virgule), bool (booléens - 0 ou 1), complex (nombres complexes)\n",
        "\n",
        "11                      # 11 est un nombre entier"
      ],
      "execution_count": 1,
      "outputs": [
        {
          "output_type": "execute_result",
          "data": {
            "text/plain": [
              "11"
            ]
          },
          "metadata": {
            "tags": []
          },
          "execution_count": 1
        }
      ]
    },
    {
      "cell_type": "code",
      "metadata": {
        "id": "RPm4AG4kbEw0",
        "colab": {
          "base_uri": "https://localhost:8080/"
        },
        "outputId": "8d5a36a9-69ea-4b1e-c53d-3d98f7b9117c"
      },
      "source": [
        "3.1415926535897         # pi est un nombre flottant (nombre à virgule)"
      ],
      "execution_count": 2,
      "outputs": [
        {
          "output_type": "execute_result",
          "data": {
            "text/plain": [
              "3.1415926535897"
            ]
          },
          "metadata": {
            "tags": []
          },
          "execution_count": 2
        }
      ]
    },
    {
      "cell_type": "code",
      "metadata": {
        "id": "bE7teAo0bIPE",
        "colab": {
          "base_uri": "https://localhost:8080/"
        },
        "outputId": "5969459c-afff-4447-832c-2215213f01d3"
      },
      "source": [
        "True                    # True est une variable boléenne (vrai ou faux,0 ou 1...)"
      ],
      "execution_count": 3,
      "outputs": [
        {
          "output_type": "execute_result",
          "data": {
            "text/plain": [
              "True"
            ]
          },
          "metadata": {
            "tags": []
          },
          "execution_count": 3
        }
      ]
    },
    {
      "cell_type": "code",
      "metadata": {
        "id": "qGOImoA2bKHa",
        "colab": {
          "base_uri": "https://localhost:8080/"
        },
        "outputId": "16b5f3ce-5516-4809-8bac-956290b3b5ce"
      },
      "source": [
        "# Complex or imaginary numbers\n",
        "\n",
        "1+2j                    # 1+2j est un nombre complexe, sa partie réelle est 1 et sa partie imaginaire est 2"
      ],
      "execution_count": 4,
      "outputs": [
        {
          "output_type": "execute_result",
          "data": {
            "text/plain": [
              "(1+2j)"
            ]
          },
          "metadata": {
            "tags": []
          },
          "execution_count": 4
        }
      ]
    },
    {
      "cell_type": "code",
      "metadata": {
        "id": "IzEjfhsSG5MP",
        "colab": {
          "base_uri": "https://localhost:8080/"
        },
        "outputId": "c0f00e19-02a1-4b77-e253-b5e25eefa1ac"
      },
      "source": [
        "# \"None\" est similaire à \"null\" dans d'autres langages de programmation\n",
        "\n",
        "a = None\n",
        "print(a)"
      ],
      "execution_count": 5,
      "outputs": [
        {
          "output_type": "stream",
          "text": [
            "None\n"
          ],
          "name": "stdout"
        }
      ]
    },
    {
      "cell_type": "code",
      "metadata": {
        "id": "3bGPFjxJUjla",
        "colab": {
          "base_uri": "https://localhost:8080/"
        },
        "outputId": "051e7dea-c276-4a29-a821-3c630fa77aec"
      },
      "source": [
        "# type() permet de connapitre le type d'une variable\n",
        "\n",
        "a = 12\n",
        "type(a)"
      ],
      "execution_count": 7,
      "outputs": [
        {
          "output_type": "execute_result",
          "data": {
            "text/plain": [
              "int"
            ]
          },
          "metadata": {
            "tags": []
          },
          "execution_count": 7
        }
      ]
    },
    {
      "cell_type": "code",
      "metadata": {
        "id": "6J9HxRECRiDi",
        "colab": {
          "base_uri": "https://localhost:8080/",
          "height": 35
        },
        "outputId": "10252ea2-3273-4bbe-abc3-6f283da5a0c0"
      },
      "source": [
        "# Les chaines de caractères peuvent être définies avec des guillemets ou des apostrophes\n",
        "\n",
        "'Ceci est une chaine de caractères'"
      ],
      "execution_count": 8,
      "outputs": [
        {
          "output_type": "execute_result",
          "data": {
            "application/vnd.google.colaboratory.intrinsic+json": {
              "type": "string"
            },
            "text/plain": [
              "'Ceci est une chaine de caractères'"
            ]
          },
          "metadata": {
            "tags": []
          },
          "execution_count": 8
        }
      ]
    },
    {
      "cell_type": "code",
      "metadata": {
        "id": "6iel--V5Rod7",
        "colab": {
          "base_uri": "https://localhost:8080/",
          "height": 35
        },
        "outputId": "c739ee6a-59b4-42d0-b33e-0fe07483f7c4"
      },
      "source": [
        "\"Ceci est aussi une chaine de caractères\""
      ],
      "execution_count": 9,
      "outputs": [
        {
          "output_type": "execute_result",
          "data": {
            "application/vnd.google.colaboratory.intrinsic+json": {
              "type": "string"
            },
            "text/plain": [
              "'Ceci est aussi une chaine de caractères'"
            ]
          },
          "metadata": {
            "tags": []
          },
          "execution_count": 9
        }
      ]
    },
    {
      "cell_type": "code",
      "metadata": {
        "id": "DkCP-uPTRsO4",
        "colab": {
          "base_uri": "https://localhost:8080/"
        },
        "outputId": "ebb0da61-ec33-47a4-e6b5-e80b7cc031ed"
      },
      "source": [
        "# Obtenir la longueur d'une chaine de caractères\n",
        "\n",
        "len('Une phrase...')"
      ],
      "execution_count": 10,
      "outputs": [
        {
          "output_type": "execute_result",
          "data": {
            "text/plain": [
              "13"
            ]
          },
          "metadata": {
            "tags": []
          },
          "execution_count": 10
        }
      ]
    },
    {
      "cell_type": "code",
      "metadata": {
        "id": "vGnLAm1OR1L6",
        "colab": {
          "base_uri": "https://localhost:8080/",
          "height": 35
        },
        "outputId": "94f863e0-9624-4b6c-fa28-4cc6221bfc56"
      },
      "source": [
        "# Selectioner un caractère dans une chaine de caractères\n",
        "\n",
        "a = 'Une phrase...'\n",
        "a[1]"
      ],
      "execution_count": 11,
      "outputs": [
        {
          "output_type": "execute_result",
          "data": {
            "application/vnd.google.colaboratory.intrinsic+json": {
              "type": "string"
            },
            "text/plain": [
              "'n'"
            ]
          },
          "metadata": {
            "tags": []
          },
          "execution_count": 11
        }
      ]
    },
    {
      "cell_type": "code",
      "metadata": {
        "id": "OwtwX0K6SgVz",
        "colab": {
          "base_uri": "https://localhost:8080/",
          "height": 198
        },
        "outputId": "9c80949c-5e78-481f-fa90-deb55da439b3"
      },
      "source": [
        "# Python vérifie que l'indexe ne dépasse par la longueur de la chaine de caractères\n",
        "\n",
        "a = 'Une phrase...'\n",
        "a[100]"
      ],
      "execution_count": 12,
      "outputs": [
        {
          "output_type": "error",
          "ename": "IndexError",
          "evalue": "ignored",
          "traceback": [
            "\u001b[0;31m---------------------------------------------------------------------------\u001b[0m",
            "\u001b[0;31mIndexError\u001b[0m                                Traceback (most recent call last)",
            "\u001b[0;32m<ipython-input-12-111047ad0399>\u001b[0m in \u001b[0;36m<module>\u001b[0;34m()\u001b[0m\n\u001b[1;32m      2\u001b[0m \u001b[0;34m\u001b[0m\u001b[0m\n\u001b[1;32m      3\u001b[0m \u001b[0ma\u001b[0m \u001b[0;34m=\u001b[0m \u001b[0;34m'Une phrase...'\u001b[0m\u001b[0;34m\u001b[0m\u001b[0;34m\u001b[0m\u001b[0m\n\u001b[0;32m----> 4\u001b[0;31m \u001b[0ma\u001b[0m\u001b[0;34m[\u001b[0m\u001b[0;36m100\u001b[0m\u001b[0;34m]\u001b[0m\u001b[0;34m\u001b[0m\u001b[0;34m\u001b[0m\u001b[0m\n\u001b[0m",
            "\u001b[0;31mIndexError\u001b[0m: string index out of range"
          ]
        }
      ]
    },
    {
      "cell_type": "code",
      "metadata": {
        "id": "xKZ3jhLISNzA",
        "colab": {
          "base_uri": "https://localhost:8080/",
          "height": 35
        },
        "outputId": "8bf86622-1203-4751-c20c-438f896064d5"
      },
      "source": [
        "# Les indexes négatifs commencent à la fin\n",
        "\n",
        "a = 'Une phrase...'\n",
        "a[-6]"
      ],
      "execution_count": 13,
      "outputs": [
        {
          "output_type": "execute_result",
          "data": {
            "application/vnd.google.colaboratory.intrinsic+json": {
              "type": "string"
            },
            "text/plain": [
              "'a'"
            ]
          },
          "metadata": {
            "tags": []
          },
          "execution_count": 13
        }
      ]
    },
    {
      "cell_type": "code",
      "metadata": {
        "id": "Osb-GVD7SBHh",
        "colab": {
          "base_uri": "https://localhost:8080/",
          "height": 35
        },
        "outputId": "d6d446c1-b9b5-4058-b4be-0c008582404d"
      },
      "source": [
        "# Selectionner un intervalle de caractères\n",
        "\n",
        "a = 'Une phrase'\n",
        "a[4:10]"
      ],
      "execution_count": 15,
      "outputs": [
        {
          "output_type": "execute_result",
          "data": {
            "application/vnd.google.colaboratory.intrinsic+json": {
              "type": "string"
            },
            "text/plain": [
              "'phrase'"
            ]
          },
          "metadata": {
            "tags": []
          },
          "execution_count": 15
        }
      ]
    },
    {
      "cell_type": "code",
      "metadata": {
        "id": "14ciHg-BSava",
        "colab": {
          "base_uri": "https://localhost:8080/",
          "height": 35
        },
        "outputId": "e5303010-aed1-4b99-f735-0824e6913a16"
      },
      "source": [
        "# Les indexs négatifs fonctionnent aussi\n",
        "\n",
        "a = 'Une phrase...'\n",
        "a[-9:-3]"
      ],
      "execution_count": 16,
      "outputs": [
        {
          "output_type": "execute_result",
          "data": {
            "application/vnd.google.colaboratory.intrinsic+json": {
              "type": "string"
            },
            "text/plain": [
              "'phrase'"
            ]
          },
          "metadata": {
            "tags": []
          },
          "execution_count": 16
        }
      ]
    },
    {
      "cell_type": "markdown",
      "metadata": {
        "id": "Kd3FLpHXaT2N"
      },
      "source": [
        "### Formatage des chaines de caractères\n",
        "\n",
        "Python supporte de multiples méthodes pour formater les chaines de caractères :\n",
        "\n",
        "\n",
        "*   [print](https://docs.python.org/3/library/stdtypes.html#printf-style-string-formatting)\n",
        "*   [format()](https://docs.python.org/3.4/library/string.html#formatspec)\n",
        "\n"
      ]
    },
    {
      "cell_type": "code",
      "metadata": {
        "id": "AVtaLbChTXc2",
        "colab": {
          "base_uri": "https://localhost:8080/"
        },
        "outputId": "87c91f04-d663-4c36-de02-caa163267ef4"
      },
      "source": [
        "# Avec la méthode printf\n",
        "\n",
        "Valeur = 42\n",
        "print('La réponse attendue est %d' %Valeur)"
      ],
      "execution_count": 17,
      "outputs": [
        {
          "output_type": "stream",
          "text": [
            "La réponse attendue est 42\n"
          ],
          "name": "stdout"
        }
      ]
    },
    {
      "cell_type": "code",
      "metadata": {
        "id": "J0l91QXZ6JfI",
        "colab": {
          "base_uri": "https://localhost:8080/"
        },
        "outputId": "45964ac1-c18d-49c0-b85e-8d899ff6e8fa"
      },
      "source": [
        "# Multiple valeurs\n",
        "\n",
        "longueur = 8.0\n",
        "largeur = 4.0\n",
        "print('Les dimensions sont de %.2f mètres de long et %.2f mètres de large' % (longueur, largeur))"
      ],
      "execution_count": 18,
      "outputs": [
        {
          "output_type": "stream",
          "text": [
            "Les dimensions sont de 8.00 mètres de long et 4.00 mètres de large\n"
          ],
          "name": "stdout"
        }
      ]
    },
    {
      "cell_type": "code",
      "metadata": {
        "id": "j9kyxqN46JfM",
        "colab": {
          "base_uri": "https://localhost:8080/",
          "height": 35
        },
        "outputId": "ca20a250-f5d1-4b4b-d04c-36e5f056ea83"
      },
      "source": [
        "# Avec la méthode format(...)\n",
        "\n",
        "Valeur = 42\n",
        "'La réponse attendue est {0:d}'.format(Valeur)"
      ],
      "execution_count": 19,
      "outputs": [
        {
          "output_type": "execute_result",
          "data": {
            "application/vnd.google.colaboratory.intrinsic+json": {
              "type": "string"
            },
            "text/plain": [
              "'La réponse attendue est 42'"
            ]
          },
          "metadata": {
            "tags": []
          },
          "execution_count": 19
        }
      ]
    },
    {
      "cell_type": "code",
      "metadata": {
        "id": "Y110gGc06JfQ",
        "colab": {
          "base_uri": "https://localhost:8080/",
          "height": 35
        },
        "outputId": "eb08c65a-eb81-447f-d1b8-7f67abfdc8c8"
      },
      "source": [
        "# named values\n",
        "\n",
        "longueur = 8.0\n",
        "largeur = 4.0\n",
        "'Les dimensions sont de {longueur:.2f} mètres de long et {largeur:.2f} mètres de large'.format(longueur=longueur, largeur=largeur)"
      ],
      "execution_count": 20,
      "outputs": [
        {
          "output_type": "execute_result",
          "data": {
            "application/vnd.google.colaboratory.intrinsic+json": {
              "type": "string"
            },
            "text/plain": [
              "'Les dimensions sont de 8.00 mètres de long et 4.00 mètres de large'"
            ]
          },
          "metadata": {
            "tags": []
          },
          "execution_count": 20
        }
      ]
    },
    {
      "cell_type": "markdown",
      "metadata": {
        "id": "5m4XM7qjWfJo"
      },
      "source": [
        "###Conversion de type"
      ]
    },
    {
      "cell_type": "code",
      "metadata": {
        "id": "JMzoX-ipWkcA",
        "colab": {
          "base_uri": "https://localhost:8080/"
        },
        "outputId": "0e73756f-bbc3-4385-db8a-931f59cd51d0"
      },
      "source": [
        "pi = 3.1415926535897\n",
        "type(pi)"
      ],
      "execution_count": 21,
      "outputs": [
        {
          "output_type": "execute_result",
          "data": {
            "text/plain": [
              "float"
            ]
          },
          "metadata": {
            "tags": []
          },
          "execution_count": 21
        }
      ]
    },
    {
      "cell_type": "code",
      "metadata": {
        "id": "0BBZv2o4Wu6g",
        "colab": {
          "base_uri": "https://localhost:8080/"
        },
        "outputId": "4c4b51ba-19e1-4129-89d9-c7f122f00201"
      },
      "source": [
        "int(pi)"
      ],
      "execution_count": 22,
      "outputs": [
        {
          "output_type": "execute_result",
          "data": {
            "text/plain": [
              "3"
            ]
          },
          "metadata": {
            "tags": []
          },
          "execution_count": 22
        }
      ]
    },
    {
      "cell_type": "code",
      "metadata": {
        "id": "FzbZ1NQ4W-Xg",
        "colab": {
          "base_uri": "https://localhost:8080/"
        },
        "outputId": "49353414-aeed-48ef-acae-018a11d67ab3"
      },
      "source": [
        "complex(pi)"
      ],
      "execution_count": 23,
      "outputs": [
        {
          "output_type": "execute_result",
          "data": {
            "text/plain": [
              "(3.1415926535897+0j)"
            ]
          },
          "metadata": {
            "tags": []
          },
          "execution_count": 23
        }
      ]
    },
    {
      "cell_type": "code",
      "metadata": {
        "id": "4avOgb6iWxrx",
        "colab": {
          "base_uri": "https://localhost:8080/"
        },
        "outputId": "82a7f071-9937-4d42-c199-87aece4943e3"
      },
      "source": [
        "int('42')"
      ],
      "execution_count": 24,
      "outputs": [
        {
          "output_type": "execute_result",
          "data": {
            "text/plain": [
              "42"
            ]
          },
          "metadata": {
            "tags": []
          },
          "execution_count": 24
        }
      ]
    },
    {
      "cell_type": "code",
      "metadata": {
        "id": "bSgBvoNeW3hJ",
        "colab": {
          "base_uri": "https://localhost:8080/",
          "height": 35
        },
        "outputId": "f3359933-d3e4-4fd2-c3fb-29679c1c2815"
      },
      "source": [
        "str(42)"
      ],
      "execution_count": 25,
      "outputs": [
        {
          "output_type": "execute_result",
          "data": {
            "application/vnd.google.colaboratory.intrinsic+json": {
              "type": "string"
            },
            "text/plain": [
              "'42'"
            ]
          },
          "metadata": {
            "tags": []
          },
          "execution_count": 25
        }
      ]
    },
    {
      "cell_type": "code",
      "metadata": {
        "id": "epmKkhMIGo8I",
        "colab": {
          "base_uri": "https://localhost:8080/"
        },
        "outputId": "94e82113-f0d3-4113-e1b7-7cfda9596375"
      },
      "source": [
        "bool(0)"
      ],
      "execution_count": 26,
      "outputs": [
        {
          "output_type": "execute_result",
          "data": {
            "text/plain": [
              "False"
            ]
          },
          "metadata": {
            "tags": []
          },
          "execution_count": 26
        }
      ]
    },
    {
      "cell_type": "markdown",
      "metadata": {
        "id": "PiT8MxgX6Jfs"
      },
      "source": [
        "# Controle de flux\n",
        "\n",
        "Les espaces ou les tabulations sont utlisés pour structurer un programme."
      ]
    },
    {
      "cell_type": "code",
      "metadata": {
        "id": "FLjMFD6r6Jft",
        "colab": {
          "base_uri": "https://localhost:8080/"
        },
        "outputId": "769a68dc-f7d4-439b-f320-1a1be394a373"
      },
      "source": [
        "for i in range(5):\n",
        "    print('%d, au carré : %d' % (i, i*i))"
      ],
      "execution_count": 28,
      "outputs": [
        {
          "output_type": "stream",
          "text": [
            "0, au carré : 0\n",
            "1, au carré : 1\n",
            "2, au carré : 4\n",
            "3, au carré : 9\n",
            "4, au carré : 16\n"
          ],
          "name": "stdout"
        }
      ]
    },
    {
      "cell_type": "code",
      "metadata": {
        "id": "mB-x2Uvq6Jfx",
        "colab": {
          "base_uri": "https://localhost:8080/"
        },
        "outputId": "d0563aeb-b27a-4ecf-a59f-7a2affed175a"
      },
      "source": [
        "i = 0\n",
        "while i < 5:\n",
        "    print('%d, au carré : %d' % (i, i*i))\n",
        "    i = i + 1"
      ],
      "execution_count": 29,
      "outputs": [
        {
          "output_type": "stream",
          "text": [
            "0, au carré : 0\n",
            "1, au carré : 1\n",
            "2, au carré : 4\n",
            "3, au carré : 9\n",
            "4, au carré : 16\n"
          ],
          "name": "stdout"
        }
      ]
    },
    {
      "cell_type": "code",
      "metadata": {
        "id": "EHi92L4V6Jf0",
        "colab": {
          "base_uri": "https://localhost:8080/"
        },
        "outputId": "cf38a0a7-7abe-4c73-f950-f15a34197f2b"
      },
      "source": [
        "for i in range(1, 10):\n",
        "    if i % 2 == 0:\n",
        "        print('%d est divisible par deux' % (i))\n",
        "    elif i % 3 == 0:\n",
        "        print('%d est divisible par trois' % (i))\n",
        "    else:\n",
        "        print('%d n\\'est pas divisible par deux ou par trois' % (i))"
      ],
      "execution_count": 31,
      "outputs": [
        {
          "output_type": "stream",
          "text": [
            "1 n'est pas divisible par deux ou par trois\n",
            "2 est divisible par deux\n",
            "3 est divisible par trois\n",
            "4 est divisible par deux\n",
            "5 n'est pas divisible par deux ou par trois\n",
            "6 est divisible par deux\n",
            "7 n'est pas divisible par deux ou par trois\n",
            "8 est divisible par deux\n",
            "9 est divisible par trois\n"
          ],
          "name": "stdout"
        }
      ]
    },
    {
      "cell_type": "markdown",
      "metadata": {
        "id": "MiNZ8-THMGaQ"
      },
      "source": [
        "## Structures de données\n",
        "\n",
        "### Listes\n",
        "\n",
        "Les listes contiennent des valeurs ordonnées."
      ]
    },
    {
      "cell_type": "code",
      "metadata": {
        "id": "n6zfxlBYQwqc",
        "colab": {
          "base_uri": "https://localhost:8080/"
        },
        "outputId": "29e5bb62-84b7-4c19-ec08-d035ddcaba6c"
      },
      "source": [
        "[1, 2, 3]"
      ],
      "execution_count": 32,
      "outputs": [
        {
          "output_type": "execute_result",
          "data": {
            "text/plain": [
              "[1, 2, 3]"
            ]
          },
          "metadata": {
            "tags": []
          },
          "execution_count": 32
        }
      ]
    },
    {
      "cell_type": "code",
      "metadata": {
        "id": "wgIvI40zQ2iJ",
        "colab": {
          "base_uri": "https://localhost:8080/"
        },
        "outputId": "c73fc5f0-fde5-4b24-85aa-e5b44173687f"
      },
      "source": [
        "a = [1, 2, 3]\n",
        "len(a)"
      ],
      "execution_count": 33,
      "outputs": [
        {
          "output_type": "execute_result",
          "data": {
            "text/plain": [
              "3"
            ]
          },
          "metadata": {
            "tags": []
          },
          "execution_count": 33
        }
      ]
    },
    {
      "cell_type": "code",
      "metadata": {
        "id": "DSID_sSe6Jf_",
        "colab": {
          "base_uri": "https://localhost:8080/"
        },
        "outputId": "2595746d-63a8-41e5-f500-24678c793bbe"
      },
      "source": [
        "# Récupérer des valeurs d'une liste\n",
        "\n",
        "for valeur in a:\n",
        "    print('La valeur est %d' % valeur)"
      ],
      "execution_count": 34,
      "outputs": [
        {
          "output_type": "stream",
          "text": [
            "La valeur est 1\n",
            "La valeur est 2\n",
            "La valeur est 3\n"
          ],
          "name": "stdout"
        }
      ]
    },
    {
      "cell_type": "code",
      "metadata": {
        "id": "BKVCOts76JgD",
        "colab": {
          "base_uri": "https://localhost:8080/"
        },
        "outputId": "cc995cfd-d2f9-475e-f21a-fb2851d7fe74"
      },
      "source": [
        "a = [1, 2, 3]\n",
        "a.append(4)\n",
        "a"
      ],
      "execution_count": 35,
      "outputs": [
        {
          "output_type": "execute_result",
          "data": {
            "text/plain": [
              "[1, 2, 3, 4]"
            ]
          },
          "metadata": {
            "tags": []
          },
          "execution_count": 35
        }
      ]
    },
    {
      "cell_type": "code",
      "metadata": {
        "id": "33i5smW9HadB",
        "colab": {
          "base_uri": "https://localhost:8080/"
        },
        "outputId": "483cba64-380b-4d1c-8e88-8ba2fe56a7d3"
      },
      "source": [
        "# Addition de deux listes\n",
        "\n",
        "a = [1, 2, 3]\n",
        "b = [7, 8, 9]\n",
        "\n",
        "a+b"
      ],
      "execution_count": 36,
      "outputs": [
        {
          "output_type": "execute_result",
          "data": {
            "text/plain": [
              "[1, 2, 3, 7, 8, 9]"
            ]
          },
          "metadata": {
            "tags": []
          },
          "execution_count": 36
        }
      ]
    },
    {
      "cell_type": "code",
      "metadata": {
        "id": "sN4Oe48mHkkw",
        "colab": {
          "base_uri": "https://localhost:8080/"
        },
        "outputId": "a8f1ff94-6b6e-4df9-9e05-1b1c86302692"
      },
      "source": [
        "# Liste définie à l'aide d'un petit algorithme\n",
        "\n",
        "a = [2*i for i in range(10)]\n",
        "a"
      ],
      "execution_count": 37,
      "outputs": [
        {
          "output_type": "execute_result",
          "data": {
            "text/plain": [
              "[0, 2, 4, 6, 8, 10, 12, 14, 16, 18]"
            ]
          },
          "metadata": {
            "tags": []
          },
          "execution_count": 37
        }
      ]
    },
    {
      "cell_type": "code",
      "metadata": {
        "id": "4C1d30LxHsK4",
        "colab": {
          "base_uri": "https://localhost:8080/"
        },
        "outputId": "77c696f7-2b39-4067-ce1f-5f1baed44f63"
      },
      "source": [
        "# Renverser l'odre d'une liste\n",
        "\n",
        "a = [2*i for i in range(10)]\n",
        "a.reverse()\n",
        "a"
      ],
      "execution_count": 38,
      "outputs": [
        {
          "output_type": "execute_result",
          "data": {
            "text/plain": [
              "[18, 16, 14, 12, 10, 8, 6, 4, 2, 0]"
            ]
          },
          "metadata": {
            "tags": []
          },
          "execution_count": 38
        }
      ]
    },
    {
      "cell_type": "code",
      "metadata": {
        "id": "SSERRxx8Ic4c",
        "colab": {
          "base_uri": "https://localhost:8080/"
        },
        "outputId": "4dba00c7-a016-4ed9-ac46-7cdfb91165e5"
      },
      "source": [
        "# Trier les éléments d'une liste\n",
        "\n",
        "a=[0,2,4,6,3,1]\n",
        "a.sort()\n",
        "a"
      ],
      "execution_count": 39,
      "outputs": [
        {
          "output_type": "execute_result",
          "data": {
            "text/plain": [
              "[0, 1, 2, 3, 4, 6]"
            ]
          },
          "metadata": {
            "tags": []
          },
          "execution_count": 39
        }
      ]
    },
    {
      "cell_type": "markdown",
      "metadata": {
        "id": "hJ-zHJnd6JgT"
      },
      "source": [
        "### Dictionaires\n",
        "\n",
        "Les dictionnaires contiennent paires de mot-clé"
      ]
    },
    {
      "cell_type": "code",
      "metadata": {
        "id": "ULn-AVxL6JgU",
        "colab": {
          "base_uri": "https://localhost:8080/"
        },
        "outputId": "29994809-0707-4d75-ba1d-01d36844d4c0"
      },
      "source": [
        "groupe = { 'David St. Hubbins':'Guitare', 'Nigel Tufnel':'Saxo', 'Derek Smalls':'Basse', 'Percussions':'Inconnu' }\n",
        "groupe"
      ],
      "execution_count": 42,
      "outputs": [
        {
          "output_type": "execute_result",
          "data": {
            "text/plain": [
              "{'David St. Hubbins': 'Guitare',\n",
              " 'Derek Smalls': 'Basse',\n",
              " 'Nigel Tufnel': 'Saxo',\n",
              " 'Percussions': 'Inconnu'}"
            ]
          },
          "metadata": {
            "tags": []
          },
          "execution_count": 42
        }
      ]
    },
    {
      "cell_type": "code",
      "metadata": {
        "id": "TPbzEH436JgX",
        "colab": {
          "base_uri": "https://localhost:8080/"
        },
        "outputId": "665db39a-1596-4e8d-c7cb-ec8d91d64388"
      },
      "source": [
        "for name in groupe:\n",
        "    print('Nom : %s, Instrument : %s' % (name, groupe[name]))"
      ],
      "execution_count": 43,
      "outputs": [
        {
          "output_type": "stream",
          "text": [
            "Nom : David St. Hubbins, Instrument : Guitare\n",
            "Nom : Nigel Tufnel, Instrument : Saxo\n",
            "Nom : Derek Smalls, Instrument : Basse\n",
            "Nom : Percussions, Instrument : Inconnu\n"
          ],
          "name": "stdout"
        }
      ]
    },
    {
      "cell_type": "code",
      "metadata": {
        "id": "WvpDMMVx6Jga",
        "colab": {
          "base_uri": "https://localhost:8080/"
        },
        "outputId": "d5b2a3c1-4334-48b3-9eda-39b1b5209b18"
      },
      "source": [
        "for name, instrument in groupe.items():\n",
        "    print('Nom : %s, Instrument : %s' % (name, instrument))"
      ],
      "execution_count": 44,
      "outputs": [
        {
          "output_type": "stream",
          "text": [
            "Nom : David St. Hubbins, Instrument : Guitare\n",
            "Nom : Nigel Tufnel, Instrument : Saxo\n",
            "Nom : Derek Smalls, Instrument : Basse\n",
            "Nom : Percussions, Instrument : Inconnu\n"
          ],
          "name": "stdout"
        }
      ]
    },
    {
      "cell_type": "code",
      "metadata": {
        "id": "vhx-SRKv6Jgd",
        "colab": {
          "base_uri": "https://localhost:8080/"
        },
        "outputId": "680bfaff-3548-4e5e-b1cf-770737e87b7b"
      },
      "source": [
        "groupe['Percussions'] = 'John \"Stumpy\" Pepys'\n",
        "\n",
        "for name in groupe:\n",
        "    print('Nom : %s, Instrument : %s' % (name, groupe[name]))"
      ],
      "execution_count": 45,
      "outputs": [
        {
          "output_type": "stream",
          "text": [
            "Nom : David St. Hubbins, Instrument : Guitare\n",
            "Nom : Nigel Tufnel, Instrument : Saxo\n",
            "Nom : Derek Smalls, Instrument : Basse\n",
            "Nom : Percussions, Instrument : John \"Stumpy\" Pepys\n"
          ],
          "name": "stdout"
        }
      ]
    },
    {
      "cell_type": "markdown",
      "metadata": {
        "id": "zH7zPFeoMCU6"
      },
      "source": [
        "## Fonctions and Procédures\n",
        "\n",
        "Les fonctions et les procédures sont légèrement différentes.\n",
        "Les procédures ne prennent pas d'argument alors que les fonctions prennent des arguments."
      ]
    },
    {
      "cell_type": "code",
      "metadata": {
        "id": "2BS31fldUKDz",
        "colab": {
          "base_uri": "https://localhost:8080/"
        },
        "outputId": "5602ec58-4a94-48e1-e36d-a789b0395b9e"
      },
      "source": [
        "# len() est une fonction car elle prend un argument\n",
        "\n",
        "a = 'Une phrase'\n",
        "len(a)"
      ],
      "execution_count": 46,
      "outputs": [
        {
          "output_type": "execute_result",
          "data": {
            "text/plain": [
              "10"
            ]
          },
          "metadata": {
            "tags": []
          },
          "execution_count": 46
        }
      ]
    },
    {
      "cell_type": "code",
      "metadata": {
        "id": "bL_N3deVUQWK",
        "colab": {
          "base_uri": "https://localhost:8080/",
          "height": 35
        },
        "outputId": "35dd9577-de13-42c4-d8d8-cb66b1edef84"
      },
      "source": [
        "# upper() est une procédure\n",
        "\n",
        "a = 'Une phrase'\n",
        "a.upper()"
      ],
      "execution_count": 47,
      "outputs": [
        {
          "output_type": "execute_result",
          "data": {
            "application/vnd.google.colaboratory.intrinsic+json": {
              "type": "string"
            },
            "text/plain": [
              "'UNE PHRASE'"
            ]
          },
          "metadata": {
            "tags": []
          },
          "execution_count": 47
        }
      ]
    },
    {
      "cell_type": "code",
      "metadata": {
        "id": "pVXM5ZACVhnT",
        "colab": {
          "base_uri": "https://localhost:8080/"
        },
        "outputId": "4e16fbcf-da96-4881-90f0-0320d3322ada"
      },
      "source": [
        "# On utiliser def pour définir une fonction\n",
        "\n",
        "def moyenne(array):\n",
        "  n = len(array)\n",
        "  total = 0.0\n",
        "  for a in array:\n",
        "    total = total + a\n",
        "  return total / n\n",
        "\n",
        "moyenne([1, 2, 3])"
      ],
      "execution_count": 48,
      "outputs": [
        {
          "output_type": "execute_result",
          "data": {
            "text/plain": [
              "2.0"
            ]
          },
          "metadata": {
            "tags": []
          },
          "execution_count": 48
        }
      ]
    },
    {
      "cell_type": "code",
      "metadata": {
        "id": "bSC0VjeDXNXY",
        "colab": {
          "base_uri": "https://localhost:8080/"
        },
        "outputId": "24320bd7-d7ce-4783-8806-159b536e4f99"
      },
      "source": [
        "# Les fonctions peuvent retourner des p-uplets (suite de nombres, aussi nommés tuples en Anglais)\n",
        "\n",
        "def statistics(array):\n",
        "  avg = moyenne(array)\n",
        "  n = len(array)\n",
        "  total = 0.0\n",
        "  for a in array:\n",
        "    variance = a - avg\n",
        "    total += variance ** 2\n",
        "  ecart_type = total / n\n",
        "  return (avg, ecart_type)\n",
        "\n",
        "statistics([1, 2, 3])"
      ],
      "execution_count": 49,
      "outputs": [
        {
          "output_type": "execute_result",
          "data": {
            "text/plain": [
              "(2.0, 0.6666666666666666)"
            ]
          },
          "metadata": {
            "tags": []
          },
          "execution_count": 49
        }
      ]
    },
    {
      "cell_type": "code",
      "metadata": {
        "id": "6NbDMklxX-hs",
        "colab": {
          "base_uri": "https://localhost:8080/"
        },
        "outputId": "f1d85aca-ae24-4053-e64d-5e796a1f8d56"
      },
      "source": [
        "# Assigner des valeurs retournées par une fonction à un p-uplet\n",
        "\n",
        "(avg, ecart_type) = statistics([1, 2, 3])\n",
        "print('La moyenne vaut %.2f et l\\'écart type vaut %.2f' % (avg, ecart_type))"
      ],
      "execution_count": 50,
      "outputs": [
        {
          "output_type": "stream",
          "text": [
            "La moyenne vaut 2.00 et l'écart type vaut 0.67\n"
          ],
          "name": "stdout"
        }
      ]
    },
    {
      "cell_type": "markdown",
      "metadata": {
        "id": "6D7CKgOPQSzF"
      },
      "source": [
        "## Classes\n",
        "\n",
        "On utilise le mot clé class pour définir des classes."
      ]
    },
    {
      "cell_type": "code",
      "metadata": {
        "id": "9ztIx4IjKqvW"
      },
      "source": [
        "class CompteBancaire(object):\n",
        "  def __init__(self, numero_de_compte, credit, taux_interet):\n",
        "    self.numero_de_compte = numero_de_compte\n",
        "    self.credit = credit\n",
        "    self.taux_interet = taux_interet\n",
        "  \n",
        "  def depot(self, montant):\n",
        "    self.credit += montant\n",
        "  \n",
        "  def prelevement(self, montant):\n",
        "    if self.credit >= montant:\n",
        "      self.credit -= montant\n",
        "      return montant\n",
        "    raise Exception('Crédit insuffisant pour le retrait demandé: seulement %.2f de crédit disponible %d' % (self.credit, self.numero_de_compte))\n",
        "  \n",
        "  def AjoutInteret(self):\n",
        "    self.credit *= 1.0 + self.taux_interet/100.0\n",
        "  \n",
        "  def __str__(self):\n",
        "    return 'Compte %d, credit : %.2f' % (self.numero_de_compte, self.credit)"
      ],
      "execution_count": 51,
      "outputs": []
    },
    {
      "cell_type": "code",
      "metadata": {
        "id": "RR7vPMAtDh-7",
        "colab": {
          "base_uri": "https://localhost:8080/"
        },
        "outputId": "8ce714d2-0531-4ab8-a3ee-54ecc23349c5"
      },
      "source": [
        "compte1 = CompteBancaire(101, 100.0, 1.0)\n",
        "compte2 = CompteBancaire(201, 1000.0, 5.0)\n",
        "\n",
        "print(compte1)\n",
        "print(compte2)\n",
        "\n",
        "compte1.AjoutInteret()\n",
        "compte2.AjoutInteret()\n",
        "\n",
        "print(compte1)\n",
        "print(compte2)\n",
        "\n",
        "compte1.prelevement(10)\n",
        "print(compte1)\n",
        "\n"
      ],
      "execution_count": 52,
      "outputs": [
        {
          "output_type": "stream",
          "text": [
            "Compte 101, credit : 100.00\n",
            "Compte 201, credit : 1000.00\n",
            "Compte 101, credit : 101.00\n",
            "Compte 201, credit : 1050.00\n",
            "Compte 101, credit : 91.00\n"
          ],
          "name": "stdout"
        }
      ]
    },
    {
      "cell_type": "markdown",
      "metadata": {
        "id": "URDoWEMQJEdg"
      },
      "source": [
        "## Lire et Ecrire dans des fichiers"
      ]
    },
    {
      "cell_type": "code",
      "metadata": {
        "id": "A_v0ZAX6JIwf"
      },
      "source": [
        "# 'w' ouvre un fichier pour y écrire, 'a' ajoute les données aux données déjà existantes\n",
        "\n",
        "with open('fichier.txt', 'w') as f:\n",
        "  f.write('Ligne 1\\n')\n",
        "  f.write('Ligne 2\\n')"
      ],
      "execution_count": 53,
      "outputs": []
    },
    {
      "cell_type": "code",
      "metadata": {
        "id": "jx3mqmASJt_X",
        "colab": {
          "base_uri": "https://localhost:8080/"
        },
        "outputId": "d3ee0ee7-4f67-4c57-c1eb-9af5fcae8f7a"
      },
      "source": [
        "# readline() permet de lire les lignes dans un fichier les unes après les autres\n",
        "with open('fichier.txt') as f:\n",
        "  print(f.readline())\n",
        "  print(f.readline())"
      ],
      "execution_count": 54,
      "outputs": [
        {
          "output_type": "stream",
          "text": [
            "Ligne 1\n",
            "\n",
            "Ligne 2\n",
            "\n"
          ],
          "name": "stdout"
        }
      ]
    },
    {
      "cell_type": "code",
      "metadata": {
        "id": "k2lTneQUKRfD",
        "colab": {
          "base_uri": "https://localhost:8080/"
        },
        "outputId": "159636a4-53ce-4863-99a3-e11a5e37662b"
      },
      "source": [
        "# readlines() (avec un \"s\" à la fin) permet de lire toutes les lignes\n",
        "with open('fichier.txt') as f:\n",
        "  print(f.readlines())"
      ],
      "execution_count": 55,
      "outputs": [
        {
          "output_type": "stream",
          "text": [
            "['Ligne 1\\n', 'Ligne 2\\n']\n"
          ],
          "name": "stdout"
        }
      ]
    },
    {
      "cell_type": "markdown",
      "metadata": {
        "id": "cxv30sH9bm4N"
      },
      "source": [
        "## Modules\n",
        "\n",
        "[import](https://docs.python.org/3/reference/simple_stmts.html#import) permet d'importer des modules de bibliothèques."
      ]
    },
    {
      "cell_type": "code",
      "metadata": {
        "id": "pYjERSx-bmQJ",
        "colab": {
          "base_uri": "https://localhost:8080/",
          "height": 279
        },
        "outputId": "e8381250-57df-414e-aa0b-310debf66fd9"
      },
      "source": [
        "import matplotlib.pyplot as plt\n",
        "import math\n",
        "\n",
        "x = [0.1*i for i in range(64)]\n",
        "sin = [math.sin(i) for i in x]\n",
        "cos = [math.cos(i) for i in x]\n",
        "\n",
        "plt.plot(x, sin, label='sin(x)', color='blue', linewidth=2.5)\n",
        "plt.plot(x, cos, label='cos(x)', color='red', linewidth=0.5)\n",
        "plt.ylabel('y')\n",
        "plt.xlabel('x')\n",
        "plt.legend(loc='upper right')\n",
        "plt.show()"
      ],
      "execution_count": 56,
      "outputs": [
        {
          "output_type": "display_data",
          "data": {
            "image/png": "[encoded data removed]",
            "text/plain": [
              "<Figure size 432x288 with 1 Axes>"
            ]
          },
          "metadata": {
            "tags": [],
            "needs_background": "light"
          }
        }
      ]
    },
    {
      "cell_type": "code",
      "metadata": {
        "id": "Kp7VDqz-6JhT"
      },
      "source": [
        ""
      ],
      "execution_count": null,
      "outputs": []
    }
  ]
}