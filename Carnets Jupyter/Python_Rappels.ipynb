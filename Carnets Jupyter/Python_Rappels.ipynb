{
  "nbformat": 4,
  "nbformat_minor": 0,
  "metadata": {
    "colab": {
      "name": "Python Quick Start.ipynb",
      "provenance": [],
      "collapsed_sections": [],
      "toc_visible": true
    },
    "kernelspec": {
      "display_name": "Python 3",
      "language": "python",
      "name": "python3"
    },
    "language_info": {
      "codemirror_mode": {
        "name": "ipython",
        "version": 3
      },
      "file_extension": ".py",
      "mimetype": "text/x-python",
      "name": "python",
      "nbconvert_exporter": "python",
      "pygments_lexer": "ipython3",
      "version": "3.6.8"
    }
  },
  "cells": [
    {
      "cell_type": "markdown",
      "metadata": {
        "colab_type": "text",
        "id": "2EQ3aMz5KrjT"
      },
      "source": [
        "# Rappels sur le langage Python\n",
        "\n",
        "Python est un langage de programmation très populaire utlisé dans de nombreuses applications.\n",
        "En particulier, il est très utilisé en Machine Learning. Cela vient du fait que sa syntaxe est très simple et interactive.\n",
        "De plus, de nombreuses librairies en rapport avec le machine learning existent en Python.\n",
        "Il est facile et rapide d'expérimenter, ce qui est très important pendant les phases d'analyse de données et le developpement de modèles d'apprentissage.\n",
        "\n",
        "Nous utiliserons uniquement Python 3 dans ce cours."
      ]
    },
    {
      "cell_type": "markdown",
      "metadata": {
        "colab_type": "text",
        "id": "HHHYgpbFL4-N"
      },
      "source": [
        "## Syntaxe\n",
        "\n",
        "[Types de données](https://docs.python.org/3.4/reference/datamodel.html), [Operateurs](https://docs.python.org/3.4/library/operator.html), et variables. Python est un langage interactif ce qui nous permet de faire des essais en tapant juste du code et en l'éxécutant dans le carnet."
      ]
    },
    {
      "cell_type": "code",
      "metadata": {
        "colab_type": "code",
        "id": "e8wn727POHDT",
        "colab": {}
      },
      "source": [
        "# Nombres, ex: int (entiers), float (nombres à virgule), bool (booléens - 0 ou 1), complex (nombres complexes)\n",
        "\n",
        "11                      # 11 est un nombre entier"
      ],
      "execution_count": null,
      "outputs": []
    },
    {
      "cell_type": "code",
      "metadata": {
        "colab_type": "code",
        "id": "RPm4AG4kbEw0",
        "colab": {}
      },
      "source": [
        "3.1415926535897         # pi est un nombre flottant (nombre à virgule)"
      ],
      "execution_count": null,
      "outputs": []
    },
    {
      "cell_type": "code",
      "metadata": {
        "colab_type": "code",
        "id": "bE7teAo0bIPE",
        "colab": {}
      },
      "source": [
        "True                    # True est une variable boléenne (vrai ou faux,0 ou 1...)"
      ],
      "execution_count": null,
      "outputs": []
    },
    {
      "cell_type": "code",
      "metadata": {
        "colab_type": "code",
        "id": "qGOImoA2bKHa",
        "colab": {}
      },
      "source": [
        "# Complex or imaginary numbers\n",
        "\n",
        "1+2j                    # 1+2j est un nombre complexe, sa partie réelle est 1 et sa partie imaginaire est 2"
      ],
      "execution_count": null,
      "outputs": []
    },
    {
      "cell_type": "code",
      "metadata": {
        "colab_type": "code",
        "id": "IzEjfhsSG5MP",
        "colab": {}
      },
      "source": [
        "# \"None\" est similaire à \"null\" dans d'autres langages de programmation\n",
        "\n",
        "a = None\n",
        "print(a)"
      ],
      "execution_count": null,
      "outputs": []
    },
    {
      "cell_type": "code",
      "metadata": {
        "colab_type": "code",
        "id": "3bGPFjxJUjla",
        "colab": {}
      },
      "source": [
        "# type() permet de connapitre le type d'une variable\n",
        "\n",
        "a = 12.0\n",
        "type(a)"
      ],
      "execution_count": null,
      "outputs": []
    },
    {
      "cell_type": "code",
      "metadata": {
        "colab_type": "code",
        "id": "6J9HxRECRiDi",
        "colab": {}
      },
      "source": [
        "# Les chaines de caractères peuvent être définies avec des guillemets ou des apostrophes\n",
        "\n",
        "'Ceci est une chaine de caractères'"
      ],
      "execution_count": null,
      "outputs": []
    },
    {
      "cell_type": "code",
      "metadata": {
        "colab_type": "code",
        "id": "6iel--V5Rod7",
        "colab": {}
      },
      "source": [
        "\"Ceci est aussi une chaine de caractères\""
      ],
      "execution_count": null,
      "outputs": []
    },
    {
      "cell_type": "code",
      "metadata": {
        "colab_type": "code",
        "id": "DkCP-uPTRsO4",
        "colab": {}
      },
      "source": [
        "# Obtenir la longueur d'une chaine de caractères\n",
        "\n",
        "len('Une phrase...')"
      ],
      "execution_count": null,
      "outputs": []
    },
    {
      "cell_type": "code",
      "metadata": {
        "colab_type": "code",
        "id": "vGnLAm1OR1L6",
        "colab": {}
      },
      "source": [
        "# Selectioner un caractère dans une chaine de caractères\n",
        "\n",
        "a = 'Une phrase...'\n",
        "a[1]"
      ],
      "execution_count": null,
      "outputs": []
    },
    {
      "cell_type": "code",
      "metadata": {
        "colab_type": "code",
        "id": "OwtwX0K6SgVz",
        "colab": {}
      },
      "source": [
        "# Python vérifie que l'indexe ne dépasse par la longueur de la chaine de caractères\n",
        "\n",
        "a = 'Une phrase...'\n",
        "a[100]"
      ],
      "execution_count": null,
      "outputs": []
    },
    {
      "cell_type": "code",
      "metadata": {
        "colab_type": "code",
        "id": "xKZ3jhLISNzA",
        "colab": {}
      },
      "source": [
        "# Les indexes négatifs commencent à la fin\n",
        "\n",
        "a = 'Une phrase...'\n",
        "a[-6]"
      ],
      "execution_count": null,
      "outputs": []
    },
    {
      "cell_type": "code",
      "metadata": {
        "colab_type": "code",
        "id": "Osb-GVD7SBHh",
        "colab": {}
      },
      "source": [
        "# Selectionner un intervalle de caractères\n",
        "\n",
        "a = 'Une phrase'\n",
        "a[4:10]"
      ],
      "execution_count": null,
      "outputs": []
    },
    {
      "cell_type": "code",
      "metadata": {
        "colab_type": "code",
        "id": "14ciHg-BSava",
        "colab": {}
      },
      "source": [
        "# Les indexs négatifs fonctionnent aussi\n",
        "\n",
        "a = 'Une phrase...'\n",
        "a[-9:-3]"
      ],
      "execution_count": null,
      "outputs": []
    },
    {
      "cell_type": "markdown",
      "metadata": {
        "colab_type": "text",
        "id": "Kd3FLpHXaT2N"
      },
      "source": [
        "### Formatage des chaines de caractères\n",
        "\n",
        "Python supporte de multiples méthodes pour formater les chaines de caractères :\n",
        "\n",
        "\n",
        "*   [print](https://docs.python.org/3/library/stdtypes.html#printf-style-string-formatting)\n",
        "*   [format()](https://docs.python.org/3.4/library/string.html#formatspec)\n",
        "\n"
      ]
    },
    {
      "cell_type": "code",
      "metadata": {
        "colab_type": "code",
        "id": "AVtaLbChTXc2",
        "colab": {}
      },
      "source": [
        "# Avec la méthode printf\n",
        "\n",
        "Valeur = 42\n",
        "print('La réponse attendue est %d' %Valeur)"
      ],
      "execution_count": null,
      "outputs": []
    },
    {
      "cell_type": "code",
      "metadata": {
        "id": "J0l91QXZ6JfI",
        "colab_type": "code",
        "colab": {}
      },
      "source": [
        "# Multiple valeurs\n",
        "\n",
        "longueur = 8.0\n",
        "largeur = 4.0\n",
        "print('Les dimensions sont de %.2f mètres de long et %.2f mètres de large' % (longueur, largeur))"
      ],
      "execution_count": null,
      "outputs": []
    },
    {
      "cell_type": "code",
      "metadata": {
        "id": "j9kyxqN46JfM",
        "colab_type": "code",
        "colab": {}
      },
      "source": [
        "# Avec la méthode format(...)\n",
        "\n",
        "Valeur = 42\n",
        "'La réponse attendue est {0:d}'.format(Valeur)"
      ],
      "execution_count": null,
      "outputs": []
    },
    {
      "cell_type": "code",
      "metadata": {
        "id": "Y110gGc06JfQ",
        "colab_type": "code",
        "colab": {}
      },
      "source": [
        "# named values\n",
        "\n",
        "longueur = 8.0\n",
        "largeur = 4.0\n",
        "'Les dimensions sont de {longueur:.2f} mètres de long et {largeur:.2f} mètres de large'.format(longueur=longueur, largeur=largeur)"
      ],
      "execution_count": null,
      "outputs": []
    },
    {
      "cell_type": "markdown",
      "metadata": {
        "colab_type": "text",
        "id": "5m4XM7qjWfJo"
      },
      "source": [
        "###Conversion de type"
      ]
    },
    {
      "cell_type": "code",
      "metadata": {
        "colab_type": "code",
        "id": "JMzoX-ipWkcA",
        "colab": {}
      },
      "source": [
        "pi = 3.1415926535897\n",
        "type(pi)"
      ],
      "execution_count": null,
      "outputs": []
    },
    {
      "cell_type": "code",
      "metadata": {
        "colab_type": "code",
        "id": "0BBZv2o4Wu6g",
        "colab": {}
      },
      "source": [
        "int(pi)"
      ],
      "execution_count": null,
      "outputs": []
    },
    {
      "cell_type": "code",
      "metadata": {
        "colab_type": "code",
        "id": "FzbZ1NQ4W-Xg",
        "colab": {}
      },
      "source": [
        "complex(pi)"
      ],
      "execution_count": null,
      "outputs": []
    },
    {
      "cell_type": "code",
      "metadata": {
        "colab_type": "code",
        "id": "4avOgb6iWxrx",
        "colab": {}
      },
      "source": [
        "int('42')"
      ],
      "execution_count": null,
      "outputs": []
    },
    {
      "cell_type": "code",
      "metadata": {
        "colab_type": "code",
        "id": "bSgBvoNeW3hJ",
        "colab": {}
      },
      "source": [
        "str(42)"
      ],
      "execution_count": null,
      "outputs": []
    },
    {
      "cell_type": "code",
      "metadata": {
        "colab_type": "code",
        "id": "epmKkhMIGo8I",
        "colab": {}
      },
      "source": [
        "bool(0)"
      ],
      "execution_count": null,
      "outputs": []
    },
    {
      "cell_type": "markdown",
      "metadata": {
        "id": "PiT8MxgX6Jfs",
        "colab_type": "text"
      },
      "source": [
        "# Controle de flux\n",
        "\n",
        "Les espaces ou les tabulations sont utlisés pour structurer un programme."
      ]
    },
    {
      "cell_type": "code",
      "metadata": {
        "id": "FLjMFD6r6Jft",
        "colab_type": "code",
        "colab": {}
      },
      "source": [
        "for i in range(5):\n",
        "    print('%d, au carré : %d' % (i, i*i))"
      ],
      "execution_count": null,
      "outputs": []
    },
    {
      "cell_type": "code",
      "metadata": {
        "id": "mB-x2Uvq6Jfx",
        "colab_type": "code",
        "colab": {}
      },
      "source": [
        "i = 0\n",
        "while i < 5:\n",
        "    print('%d, au carré : %d' % (i, i*i))\n",
        "    i = i + 1"
      ],
      "execution_count": null,
      "outputs": []
    },
    {
      "cell_type": "code",
      "metadata": {
        "id": "EHi92L4V6Jf0",
        "colab_type": "code",
        "colab": {}
      },
      "source": [
        "for i in range(1, 10):\n",
        "    if i % 2 == 0:\n",
        "        print('%d est divisible par deux' % (i))\n",
        "    elif i % 3 == 0:\n",
        "        print('%d est divisible par trois' % (i))\n",
        "    else:\n",
        "        print('%d n\\'est pas divisible par deux ou par trois' % (i))"
      ],
      "execution_count": null,
      "outputs": []
    },
    {
      "cell_type": "markdown",
      "metadata": {
        "colab_type": "text",
        "id": "MiNZ8-THMGaQ"
      },
      "source": [
        "## Structures de données\n",
        "\n",
        "### Listes\n",
        "\n",
        "Les listes contiennent des valeurs ordonnées."
      ]
    },
    {
      "cell_type": "code",
      "metadata": {
        "colab_type": "code",
        "id": "n6zfxlBYQwqc",
        "colab": {}
      },
      "source": [
        "[1, 2, 3]"
      ],
      "execution_count": null,
      "outputs": []
    },
    {
      "cell_type": "code",
      "metadata": {
        "colab_type": "code",
        "id": "wgIvI40zQ2iJ",
        "colab": {}
      },
      "source": [
        "a = [1, 2, 3]\n",
        "len(a)"
      ],
      "execution_count": null,
      "outputs": []
    },
    {
      "cell_type": "code",
      "metadata": {
        "id": "DSID_sSe6Jf_",
        "colab_type": "code",
        "colab": {}
      },
      "source": [
        "# Récupérer des valeurs d'une liste\n",
        "\n",
        "for valeur in a:\n",
        "    print('La valeur est %d' % valeur)"
      ],
      "execution_count": null,
      "outputs": []
    },
    {
      "cell_type": "code",
      "metadata": {
        "id": "BKVCOts76JgD",
        "colab_type": "code",
        "colab": {}
      },
      "source": [
        "a = [1, 2, 3]\n",
        "a.append(4)\n",
        "a"
      ],
      "execution_count": null,
      "outputs": []
    },
    {
      "cell_type": "code",
      "metadata": {
        "colab_type": "code",
        "id": "33i5smW9HadB",
        "colab": {}
      },
      "source": [
        "# Addition de deux listes\n",
        "\n",
        "a = [1, 2, 3]\n",
        "b = [7, 8, 9]\n",
        "\n",
        "a+b"
      ],
      "execution_count": null,
      "outputs": []
    },
    {
      "cell_type": "code",
      "metadata": {
        "colab_type": "code",
        "id": "sN4Oe48mHkkw",
        "colab": {}
      },
      "source": [
        "# Liste définie à l'aide d'un petit algorithme\n",
        "\n",
        "a = [2*i for i in range(10)]\n",
        "a"
      ],
      "execution_count": null,
      "outputs": []
    },
    {
      "cell_type": "code",
      "metadata": {
        "colab_type": "code",
        "id": "4C1d30LxHsK4",
        "colab": {}
      },
      "source": [
        "# Renverser l'odre d'une liste\n",
        "\n",
        "a = [2*i for i in range(10)]\n",
        "a.reverse()\n",
        "a"
      ],
      "execution_count": null,
      "outputs": []
    },
    {
      "cell_type": "code",
      "metadata": {
        "colab_type": "code",
        "id": "SSERRxx8Ic4c",
        "colab": {}
      },
      "source": [
        "# Trier les éléments d'une liste\n",
        "\n",
        "a=[0,2,4,6,3,1]\n",
        "a.sort()\n",
        "a"
      ],
      "execution_count": null,
      "outputs": []
    },
    {
      "cell_type": "markdown",
      "metadata": {
        "id": "hJ-zHJnd6JgT",
        "colab_type": "text"
      },
      "source": [
        "### Dictionaires\n",
        "\n",
        "Les dictionnaires contiennent paires de mot-clé"
      ]
    },
    {
      "cell_type": "code",
      "metadata": {
        "id": "ULn-AVxL6JgU",
        "colab_type": "code",
        "colab": {}
      },
      "source": [
        "groupe = { 'David St. Hubbins':'Guitare', 'Nigel Tufnel':'Saxo', 'Derek Smalls':'Basse', 'Percussions':'Inconnu' }\n",
        "groupe"
      ],
      "execution_count": null,
      "outputs": []
    },
    {
      "cell_type": "code",
      "metadata": {
        "id": "TPbzEH436JgX",
        "colab_type": "code",
        "colab": {}
      },
      "source": [
        "for name in groupe:\n",
        "    print('Nom : %s, Instrument : %s' % (name, groupe[name]))"
      ],
      "execution_count": null,
      "outputs": []
    },
    {
      "cell_type": "code",
      "metadata": {
        "id": "WvpDMMVx6Jga",
        "colab_type": "code",
        "colab": {}
      },
      "source": [
        "for name, instrument in groupe.items():\n",
        "    print('Nom : %s, Instrument : %s' % (name, instrument))"
      ],
      "execution_count": null,
      "outputs": []
    },
    {
      "cell_type": "code",
      "metadata": {
        "id": "vhx-SRKv6Jgd",
        "colab_type": "code",
        "colab": {}
      },
      "source": [
        "groupe['Percussions'] = 'John \"Stumpy\" Pepys'\n",
        "\n",
        "for name in groupe:\n",
        "    print('Nom : %s, Instrument : %s' % (name, groupe[name]))"
      ],
      "execution_count": null,
      "outputs": []
    },
    {
      "cell_type": "markdown",
      "metadata": {
        "colab_type": "text",
        "id": "zH7zPFeoMCU6"
      },
      "source": [
        "## Fonctions and Procédures\n",
        "\n",
        "Les fonctions et les procédures sont légèrement différentes.\n",
        "Les procédures ne prennent pas d'argument alors que les fonctions prennent des arguments."
      ]
    },
    {
      "cell_type": "code",
      "metadata": {
        "colab_type": "code",
        "id": "2BS31fldUKDz",
        "colab": {}
      },
      "source": [
        "# len() est une procédure\n",
        "\n",
        "a = 'Une phrase'\n",
        "len(a)"
      ],
      "execution_count": null,
      "outputs": []
    },
    {
      "cell_type": "code",
      "metadata": {
        "colab_type": "code",
        "id": "bL_N3deVUQWK",
        "colab": {}
      },
      "source": [
        "# upper() est une procédure\n",
        "\n",
        "a = 'Une phrase'\n",
        "a.upper()"
      ],
      "execution_count": null,
      "outputs": []
    },
    {
      "cell_type": "code",
      "metadata": {
        "colab_type": "code",
        "id": "pVXM5ZACVhnT",
        "colab": {}
      },
      "source": [
        "# On utiliser def pour définir une fonction\n",
        "\n",
        "def moyenne(array):\n",
        "  n = len(array)\n",
        "  total = 0.0\n",
        "  for a in array:\n",
        "    total = total + a\n",
        "  return total / n\n",
        "\n",
        "moyenne([1, 2, 3])"
      ],
      "execution_count": null,
      "outputs": []
    },
    {
      "cell_type": "code",
      "metadata": {
        "colab_type": "code",
        "id": "bSC0VjeDXNXY",
        "colab": {}
      },
      "source": [
        "# Les fonctions peuvent retourner des p-uplets (suite de nombres, aussi nommés tuples en Anglais)\n",
        "\n",
        "def statistics(array):\n",
        "  avg = moyenne(array)\n",
        "  n = len(array)\n",
        "  total = 0.0\n",
        "  for a in array:\n",
        "    variance = a - avg\n",
        "    total += variance ** 2\n",
        "  ecart_type = total / n\n",
        "  return (avg, ecart_type)\n",
        "\n",
        "statistics([1, 2, 3])"
      ],
      "execution_count": null,
      "outputs": []
    },
    {
      "cell_type": "code",
      "metadata": {
        "colab_type": "code",
        "id": "6NbDMklxX-hs",
        "colab": {}
      },
      "source": [
        "# Assigner des valeurs retournées par une fonction à un p-uplet\n",
        "\n",
        "(avg, ecart_type) = statistics([1, 2, 3])\n",
        "print('La moyenne vaut %.2f et l\\'écart type vaut %.2f' % (avg, ecart_type))"
      ],
      "execution_count": null,
      "outputs": []
    },
    {
      "cell_type": "markdown",
      "metadata": {
        "colab_type": "text",
        "id": "6D7CKgOPQSzF"
      },
      "source": [
        "## Classes\n",
        "\n",
        "On utilise le mot clé class pour définir des classes."
      ]
    },
    {
      "cell_type": "code",
      "metadata": {
        "colab_type": "code",
        "id": "9ztIx4IjKqvW",
        "colab": {}
      },
      "source": [
        "class CompteBancaire(object):\n",
        "  def __init__(self, numero_de_compte, credit, taux_interet):\n",
        "    self.numero_de_compte = numero_de_compte\n",
        "    self.credit = credit\n",
        "    self.taux_interet = taux_interet\n",
        "  \n",
        "  def depot(self, montant):\n",
        "    self.credit += montant\n",
        "  \n",
        "  def prelevement(self, montant):\n",
        "    if self.credit >= montant:\n",
        "      self.credit -= montant\n",
        "      return montant\n",
        "    raise Exception('Crédit insuffisant pour le retrait demandé: seulement %.2f de crédit disponible %d' % (self.credit, self.numero_de_compte))\n",
        "  \n",
        "  def AjoutInteret(self):\n",
        "    self.credit *= 1.0 + self.taux_interet/100.0\n",
        "  \n",
        "  def __str__(self):\n",
        "    return 'Compte %d, credit : %.2f' % (self.numero_de_compte, self.credit)"
      ],
      "execution_count": null,
      "outputs": []
    },
    {
      "cell_type": "code",
      "metadata": {
        "colab_type": "code",
        "id": "RR7vPMAtDh-7",
        "colab": {}
      },
      "source": [
        "compte1 = CompteBancaire(101, 100.0, 1.0)\n",
        "compte2 = CompteBancaire(201, 1000.0, 5.0)\n",
        "\n",
        "print(compte1)\n",
        "print(compte2)\n",
        "\n",
        "compte1.AjoutInteret()\n",
        "compte2.AjoutInteret()\n",
        "\n",
        "print(compte1)\n",
        "print(compte2)\n",
        "\n",
        "compte1.prelevement(10)\n",
        "print(compte1)\n",
        "\n"
      ],
      "execution_count": null,
      "outputs": []
    },
    {
      "cell_type": "markdown",
      "metadata": {
        "colab_type": "text",
        "id": "URDoWEMQJEdg"
      },
      "source": [
        "## Lire et Ecrire dans des fichiers"
      ]
    },
    {
      "cell_type": "code",
      "metadata": {
        "colab_type": "code",
        "id": "A_v0ZAX6JIwf",
        "colab": {}
      },
      "source": [
        "# 'w' ouvre un fichier pour y écrire, 'a' ajoute les données aux données déjà existantes\n",
        "\n",
        "with open('fichier.txt', 'w') as f:\n",
        "  f.write('Ligne 1\\n')\n",
        "  f.write('Ligne 2\\n')"
      ],
      "execution_count": null,
      "outputs": []
    },
    {
      "cell_type": "code",
      "metadata": {
        "colab_type": "code",
        "id": "jx3mqmASJt_X",
        "colab": {}
      },
      "source": [
        "# readline() permet de lire les lignes dans un fichier les unes après les autres\n",
        "with open('fichier.txt') as f:\n",
        "  print(f.readline())\n",
        "  print(f.readline())"
      ],
      "execution_count": null,
      "outputs": []
    },
    {
      "cell_type": "code",
      "metadata": {
        "colab_type": "code",
        "id": "k2lTneQUKRfD",
        "colab": {}
      },
      "source": [
        "# readlines() (avec un \"s\" à la fin) permet de lire toutes les lignes\n",
        "with open('fichier.txt') as f:\n",
        "  print(f.readlines())"
      ],
      "execution_count": null,
      "outputs": []
    },
    {
      "cell_type": "markdown",
      "metadata": {
        "colab_type": "text",
        "id": "cxv30sH9bm4N"
      },
      "source": [
        "## Modules\n",
        "\n",
        "[import](https://docs.python.org/3/reference/simple_stmts.html#import) permet d'importer des modules de bibliothèques."
      ]
    },
    {
      "cell_type": "code",
      "metadata": {
        "colab_type": "code",
        "id": "pYjERSx-bmQJ",
        "colab": {}
      },
      "source": [
        "import matplotlib.pyplot as plt\n",
        "import math\n",
        "\n",
        "x = [0.1*i for i in range(64)]\n",
        "sin = [math.sin(i) for i in x]\n",
        "cos = [math.cos(i) for i in x]\n",
        "\n",
        "plt.plot(x, sin, label='sin(x)', color='blue', linewidth=2.5)\n",
        "plt.plot(x, cos, label='cos(x)', color='red', linewidth=0.5)\n",
        "plt.ylabel('y')\n",
        "plt.xlabel('x')\n",
        "plt.legend(loc='upper right')\n",
        "plt.show()"
      ],
      "execution_count": null,
      "outputs": []
    },
    {
      "cell_type": "code",
      "metadata": {
        "id": "Kp7VDqz-6JhT",
        "colab_type": "code",
        "colab": {}
      },
      "source": [
        ""
      ],
      "execution_count": null,
      "outputs": []
    }
  ]
}