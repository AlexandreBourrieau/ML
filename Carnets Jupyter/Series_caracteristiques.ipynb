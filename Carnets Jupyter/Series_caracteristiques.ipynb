{
  "nbformat": 4,
  "nbformat_minor": 0,
  "metadata": {
    "colab": {
      "name": "Series_caracteristiques.ipynb",
      "provenance": [],
      "collapsed_sections": [],
      "include_colab_link": true
    },
    "kernelspec": {
      "display_name": "Python 3",
      "name": "python3"
    }
  },
  "cells": [
    {
      "cell_type": "markdown",
      "metadata": {
        "id": "view-in-github",
        "colab_type": "text"
      },
      "source": [
        "<a href=\"https://colab.research.google.com/github/AlexandreBourrieau/ML/blob/main/Carnets%20Jupyter/Series_caracteristiques.ipynb\" target=\"_parent\"><img src=\"https://colab.research.google.com/assets/colab-badge.svg\" alt=\"Open In Colab\"/></a>"
      ]
    },
    {
      "cell_type": "markdown",
      "metadata": {
        "id": "tIfV5USyWUnJ"
      },
      "source": [
        "Découvrons quelques séries temporelles afin de mieux comprendre les caractéristiques de ce type de données."
      ]
    },
    {
      "cell_type": "markdown",
      "metadata": {
        "id": "vidayERjaO5q"
      },
      "source": [
        "# Importation des bibliothèques"
      ]
    },
    {
      "cell_type": "code",
      "metadata": {
        "id": "gqWabzlJ63nL"
      },
      "source": [
        "import numpy as np\n",
        "import matplotlib.pyplot as plt\n",
        "import tensorflow as tf\n",
        "from tensorflow import keras"
      ],
      "execution_count": null,
      "outputs": []
    },
    {
      "cell_type": "markdown",
      "metadata": {
        "id": "93MxAxDnWt81"
      },
      "source": [
        "Fonction permettant d'afficher une série temporelle\r\n",
        "\r\n"
      ]
    },
    {
      "cell_type": "code",
      "metadata": {
        "id": "sJwA96JU00pW"
      },
      "source": [
        "def affiche_serie(temps, serie, format=\"-\", debut=0, fin=None, label=None):\n",
        "    plt.plot(temps[debut:fin], serie[debut:fin], format, label=label)\n",
        "    plt.xlabel(\"Temps\")\n",
        "    plt.ylabel(\"Valeur\")\n",
        "    if label:\n",
        "        plt.legend(fontsize=14)\n",
        "    plt.grid(True)"
      ],
      "execution_count": null,
      "outputs": []
    },
    {
      "cell_type": "markdown",
      "metadata": {
        "id": "yVo6CcpRaW7u"
      },
      "source": [
        "# Tendance et saisonnalité"
      ]
    },
    {
      "cell_type": "markdown",
      "metadata": {
        "id": "G9prXM69Xy9m"
      },
      "source": [
        "Définition d'une fonction pour créer un courbe de tendance avec une pente que l'on peut choisir"
      ]
    },
    {
      "cell_type": "code",
      "metadata": {
        "id": "t30Ts2KjiOIY"
      },
      "source": [
        "def tendance(temps, pente=0):\n",
        "    return pente * temps"
      ],
      "execution_count": null,
      "outputs": []
    },
    {
      "cell_type": "markdown",
      "metadata": {
        "id": "iJjc3G1Maefn"
      },
      "source": [
        "Création d'une série temporelle avec la fonction précédente :"
      ]
    },
    {
      "cell_type": "code",
      "metadata": {
        "id": "BLt-pLiZ0nfB"
      },
      "source": [
        "temps = np.arange(4 * 365 + 1)            # temps = [0 1 2 .... 4*365] = [0 1 2 .... 1460]\n",
        "serie = tendance(temps, 0.1)              # serie = droite de pente 0.1\n",
        "\n",
        "plt.figure(figsize=(10, 6))\n",
        "affiche_serie(temps, serie)\n",
        "plt.title(\"Série de type tendance\")\n",
        "plt.show()"
      ],
      "execution_count": null,
      "outputs": []
    },
    {
      "cell_type": "markdown",
      "metadata": {
        "id": "WKD4nh9sauBf"
      },
      "source": [
        "Ajoutons maintenant un motif périodique à notre série. Tout d'abord, définissons le motif que nous allons répéter :"
      ]
    },
    {
      "cell_type": "markdown",
      "metadata": {
        "id": "eRK4hCPagO5c"
      },
      "source": [
        "$motif = \\left\\{ {\\begin{array}{*{20}{c}}\r\n",
        "{\\cos \\left( {2\\pi t} \\right){\\rm{       }}\\qquad0 \\le t < 0.4}\\\\\r\n",
        "{{e^{ - 3t}}{\\rm{                }}\\qquad\\qquad0.4 \\le t \\le 1}\r\n",
        "\\end{array}} \\right.$"
      ]
    },
    {
      "cell_type": "code",
      "metadata": {
        "id": "SYHTSuXRash-"
      },
      "source": [
        "# Définition du motif périodique sur t:[0:1]\r\n",
        "t = np.arange(1000)\r\n",
        "t = t/1000\r\n",
        "motif = np.where(t < 0.4,np.cos(t * 2 * np.pi),1 / np.exp(3 * t))\r\n",
        "\r\n",
        "# Affichage du motif sur t:[0,1]\r\n",
        "plt.plot(t[0:1000], motif[0:1000], \"-\", label=\"Motif\")\r\n",
        "plt.xlabel(\"Temps\")\r\n",
        "plt.ylabel(\"Valeur\")\r\n",
        "plt.grid(True)\r\n",
        "plt.title(\"Motif\")"
      ],
      "execution_count": null,
      "outputs": []
    },
    {
      "cell_type": "markdown",
      "metadata": {
        "id": "hSyTs_FwjJbT"
      },
      "source": [
        "Définissons maintenant les fonctions pour ajouter le motif à notre courbe de tendance :  \r\n",
        "- `motif_periodique`: Cette fonction créée le motif sur des instants t = [0,1]\r\n",
        "- `ajoute_motif` : Cette fonction ajoute le motif à la série "
      ]
    },
    {
      "cell_type": "code",
      "metadata": {
        "id": "89gdEnPY1Niy"
      },
      "source": [
        "def motif_periodique(instants):\n",
        "    return (np.where(instants < 0.4,                            # Si les instants sont < 0.4\n",
        "                    np.cos(instants * 2 * np.pi),               # Alors on retourne la fonction cos(2*pi*t)\n",
        "                    1 / np.exp(3 * instants)))                  # Sinon, on retourne la fonction exp(-3t)\n",
        "\n",
        "def saisonnalite(temps, periode, amplitude=1, phase=0):\n",
        "    \"\"\"Répétition du motif sur la même période\"\"\"\n",
        "    instants = ((temps + phase) % periode) / periode            # Mapping du temps =[0 1 2 ... 1460] => instants = [0.0 ... 1.0]\n",
        "    return amplitude * motif_periodique(instants)"
      ],
      "execution_count": null,
      "outputs": []
    },
    {
      "cell_type": "code",
      "metadata": {
        "id": "7kaNezUk1S9l"
      },
      "source": [
        "# Création de la série avec une saisonnalité\n",
        "amplitude = 40\n",
        "serie = saisonnalite(temps, periode=365, amplitude=amplitude)\n",
        "\n",
        "#Affichage du résultat\n",
        "plt.figure(figsize=(10, 6))\n",
        "affiche_serie(temps, serie)\n",
        "plt.title(\"Série temporelle avec une saisonnalité\")\n",
        "plt.show()\n"
      ],
      "execution_count": null,
      "outputs": []
    },
    {
      "cell_type": "markdown",
      "metadata": {
        "id": "-Vo433h0bDLD"
      },
      "source": [
        "Ajoutons maintenant une tendance à cette série :"
      ]
    },
    {
      "cell_type": "code",
      "metadata": {
        "id": "AyqFdaIN1oy5"
      },
      "source": [
        "# Création d'une tendance et ajout de la tendance à la série\n",
        "offset = 20\n",
        "pente = 0.05\n",
        "serie = offset + tendance(temps, pente) + saisonnalite(temps, periode=365, amplitude=amplitude)\n",
        "\n",
        "# Affichage du résultat\n",
        "plt.figure(figsize=(10, 6))\n",
        "affiche_serie(temps, serie)\n",
        "plt.title(\"Série temporelle avec saisonnalité et tendance\")\n",
        "plt.show()"
      ],
      "execution_count": null,
      "outputs": []
    },
    {
      "cell_type": "markdown",
      "metadata": {
        "id": "YVdJ2jNN8OHk"
      },
      "source": [
        "# Bruit"
      ]
    },
    {
      "cell_type": "markdown",
      "metadata": {
        "id": "V4taP424sces"
      },
      "source": [
        "En pratique, très peu de séries temporelles sont aussi jolies ! Elles ont souvent du bruit, et le ratio signal / bruit peut parfois être très faible.  \r\n",
        "Générons du [bruit blanc](https://fr.wikipedia.org/wiki/Bruit_blanc) :"
      ]
    },
    {
      "cell_type": "code",
      "metadata": {
        "id": "3kD3_zjVscBH"
      },
      "source": [
        "# Fonction permettant de générer du bruit gaussien N(0,1)\n",
        "def bruit_blanc(temps, niveau_bruit=1, graine=None):\n",
        "    rnd = np.random.RandomState(graine)\n",
        "    return rnd.randn(len(temps)) * niveau_bruit"
      ],
      "execution_count": null,
      "outputs": []
    },
    {
      "cell_type": "code",
      "metadata": {
        "id": "aLvBwrKrtDzo"
      },
      "source": [
        "# Création du bruit\n",
        "niveau_bruit = 15\n",
        "bruit = bruit_blanc(temps, niveau_bruit, graine=42)\n",
        "\n",
        "# Affichage du résultat\n",
        "plt.figure(figsize=(10, 6))\n",
        "affiche_serie(temps, bruit)\n",
        "plt.title(\"Bruit blanc\")\n",
        "plt.show()"
      ],
      "execution_count": null,
      "outputs": []
    },
    {
      "cell_type": "markdown",
      "metadata": {
        "id": "GHa6gicgbL74"
      },
      "source": [
        "Ajoutons maintenant ce bruit à notre série temporelle :"
      ]
    },
    {
      "cell_type": "code",
      "metadata": {
        "id": "2bRDx8K816N9"
      },
      "source": [
        "# Ajoute le bruit gaussien à la série temporelle\n",
        "serie = serie + bruit\n",
        "\n",
        "# Affiche le résultat\n",
        "plt.figure(figsize=(10, 6))\n",
        "affiche_serie(temps, serie)\n",
        "plt.title(\"Série temporelle avec bruit blanc\")\n",
        "plt.show()"
      ],
      "execution_count": null,
      "outputs": []
    },
    {
      "cell_type": "markdown",
      "metadata": {
        "id": "yjjJkqwLxv6I"
      },
      "source": [
        "# Séries autocorrélées"
      ]
    },
    {
      "cell_type": "markdown",
      "metadata": {
        "id": "NkGj4jsLyDby"
      },
      "source": [
        "Définissons maintenant deux séries autocorrélées basées sur des bruits blancs :  \r\n",
        "\r\n",
        "$\\left\\{ \\begin{array}{l}\r\n",
        "{v_1}(t) = v_1(t) + 0.8v_1(t - 1)\\\\\r\n",
        "{v_2}(t) = v_2(t) + 0.5v_2(t - 50) - 0.1v_2(t - 33)\r\n",
        "\\end{array} \\right.$  \r\n",
        "  \r\n",
        "  Avec : $v_1(t)$ et $v_2(t)$ bruit blanc"
      ]
    },
    {
      "cell_type": "code",
      "metadata": {
        "id": "dexiGJD8x5fl"
      },
      "source": [
        "# Série autocorrélée #1\r\n",
        "# v1(t) = v1(t) + 0.8v1(t-1) , avec v1(t) = bruit blanc\r\n",
        "\r\n",
        "def autocorrelation1(temps, amplitude, graine=None):\r\n",
        "    rnd = np.random.RandomState(graine)                 # Initialisation de la graine\r\n",
        "    v1 = rnd.randn(len(temps) + 1)                      # Génération du bruit blanc sur t:[0:temps+1]\r\n",
        "    k1 = 0.8\r\n",
        "    for step in range(1, len(temps) + 1):               # Pour chaque pas de temps :\r\n",
        "      v1[step] = v1[step] + k1 * v1[step - 1]           # v1(t) = v1(t) + k1*v1(t-1)\r\n",
        "    return v1[1:] * amplitude                           # Retourne amplitude*v1(t) sur t:[1:temps+1]"
      ],
      "execution_count": null,
      "outputs": []
    },
    {
      "cell_type": "code",
      "metadata": {
        "id": "IXEZ5aeG1uSb"
      },
      "source": [
        "# Série autocorrélée #2\r\n",
        "# v2(t) = v2(t) + 0.5v2(t-50) - 0.1v2(t-30), avec v2(t) = bruit blanc\r\n",
        "\r\n",
        "def autocorrelation2(temps, amplitude, graine=None):\r\n",
        "    rnd = np.random.RandomState(graine)                 # Initialisation de la graine\r\n",
        "    v2 = rnd.randn(len(temps) + 50)                     # Génération du bruit blanc sur t:[0:temps+50]\r\n",
        "    v2[:50] = 100                                       # Si t<50 : v2(t)=100\r\n",
        "    k1 = 0.5\r\n",
        "    k2 = -0.1\r\n",
        "    for step in range(50, len(temps) + 50):             # Pour chaque pas de temps:\r\n",
        "        v2[step] = v2[step] + k1 * v2[step - 50]        # v2(t) = v2(t) + 0.5v2(t-50) - 0.1v2(t-33) \r\n",
        "        v2[step] = v2[step] + k2 * v2[step - 33]\r\n",
        "    return v2[50:] * amplitude                          # Retourne amplitude*v2(t) sur t:[50:temps+50]"
      ],
      "execution_count": null,
      "outputs": []
    },
    {
      "cell_type": "markdown",
      "metadata": {
        "id": "P-SMhHRcvXXk"
      },
      "source": [
        "Affichons la série autocorrélée n°1 : ${v_1}(t) = v_1(t) + 0.8v_1(t - 1)$ sur l'intervalle $t\\in[0;200]$"
      ]
    },
    {
      "cell_type": "code",
      "metadata": {
        "id": "MVM204K66bnC"
      },
      "source": [
        "# Affiche v1(t) sur t:[0:200]\n",
        "\n",
        "serie = autocorrelation1(temps, 10, graine=42)\n",
        "affiche_serie(temps[:200], serie[:200])\n",
        "plt.title(\"Série autocorrélée n°1\")\n",
        "plt.show()"
      ],
      "execution_count": null,
      "outputs": []
    },
    {
      "cell_type": "markdown",
      "metadata": {
        "id": "UFsPaXUPxE2L"
      },
      "source": [
        "Affichons la série autocorrélée n°2 : ${v_2}(t) = v_2(t) + 0.5v_2(t - 50) - 0.1v_2(t-30)$ sur l'intervalle $t\\in[0;200]$"
      ]
    },
    {
      "cell_type": "code",
      "metadata": {
        "id": "aecJlAv-ykbb"
      },
      "source": [
        "# Affiche v2(t) sur t:[0:200]\r\n",
        "\r\n",
        "serie = autocorrelation2(temps, 10, graine=42)\r\n",
        "affiche_serie(temps[:200], serie[:200])\r\n",
        "plt.title(\"Série autocorrélée n°2\")\r\n",
        "plt.show()"
      ],
      "execution_count": null,
      "outputs": []
    },
    {
      "cell_type": "markdown",
      "metadata": {
        "id": "nG7giv5Lznn7"
      },
      "source": [
        "# Série autocorrélée avec tendance et saisonnalité"
      ]
    },
    {
      "cell_type": "markdown",
      "metadata": {
        "id": "uh2b4gvfy7bQ"
      },
      "source": [
        "Ajoutons une tendance à la série autocorrélée n°2 :"
      ]
    },
    {
      "cell_type": "code",
      "metadata": {
        "id": "9MZ2sCmM8XPU"
      },
      "source": [
        "serie = autocorrelation2(temps, 10, graine=42) + tendance(temps, 2)\n",
        "affiche_serie(temps[:200], serie[:200])\n",
        "plt.title(\"Série autocorrélée n°2 avec tendance\")\n",
        "plt.show()"
      ],
      "execution_count": null,
      "outputs": []
    },
    {
      "cell_type": "markdown",
      "metadata": {
        "id": "sOxDyxeCzIQe"
      },
      "source": [
        "Ajoutons une tendance et une saisonnalité sur la série autocorrélée n°1 :"
      ]
    },
    {
      "cell_type": "code",
      "metadata": {
        "id": "hqx5et9Bzp5e"
      },
      "source": [
        "serie = autocorrelation1(temps, 10, graine=42) + saisonnalite(temps, periode=50, amplitude=150) + tendance(temps, 2)\n",
        "affiche_serie(temps[:200], serie[:200])\n",
        "plt.title(\"Série autocorrélée n°1 avec tendance et saisonnalité\")\n",
        "plt.show()"
      ],
      "execution_count": null,
      "outputs": []
    },
    {
      "cell_type": "markdown",
      "metadata": {
        "id": "DYL2BXGM0kEW"
      },
      "source": [
        "# Série autocorrélé avec une \"cassure\""
      ]
    },
    {
      "cell_type": "code",
      "metadata": {
        "id": "qb5echI7rHqA"
      },
      "source": [
        "# Concaténation des deux séries\n",
        "serie1 = autocorrelation1(temps, 10, graine=42) + saisonnalite(temps, periode=50, amplitude=150) + tendance(temps, 2)\n",
        "serie2 = autocorrelation2(temps, 5, graine=42) + saisonnalite(temps, periode=50, amplitude=2) + tendance(temps, -1) + 550\n",
        "\n",
        "serie1[200:] = serie2[200:]                       # serie1 sur t:[0:200] puis serie2 si t:[200,tmax]\n",
        "#serie1 = serie1 + bruit_blanc(temps, 30)         # Ajout de bruit blanc à la série finale\n",
        "affiche_serie(temps[:300], serie1[:300])\n",
        "plt.title(\"Série autocorrélée avec cassure\")\n",
        "plt.show()"
      ],
      "execution_count": null,
      "outputs": []
    },
    {
      "cell_type": "markdown",
      "metadata": {
        "id": "EBHLJgZN2d8v"
      },
      "source": [
        "# Séries impulsionnelle"
      ]
    },
    {
      "cell_type": "markdown",
      "metadata": {
        "id": "hecCxTwx3Xti"
      },
      "source": [
        "Commençons par construire une série impulsionnelle $v_i(t)$ avec des trains d'impulsions à des instants aléatoires et avec des amplitudes aléatoires :"
      ]
    },
    {
      "cell_type": "code",
      "metadata": {
        "id": "iBfpCbu6jsaB"
      },
      "source": [
        "# Fonction pour construire des impulsions\n",
        "\n",
        "def impulsions(temps, nbr_impulsions, amplitude=1, graine=None):\n",
        "    rnd = np.random.RandomState(graine)                       # Initialisaiton de la graine\n",
        "    indices_impulsions = rnd.randint(len(temps), size=10)     # Tire au hasard 10 instants\n",
        "    serie = np.zeros(len(temps))                              # Initialise la série avec des 0\n",
        "    for index in indices_impulsions:\n",
        "        serie[index] = serie[index] + rnd.rand() * amplitude  # Ajoute les impulsions aux instants aléatoires\n",
        "    return serie    "
      ],
      "execution_count": null,
      "outputs": []
    },
    {
      "cell_type": "code",
      "metadata": {
        "id": "BJ1kXWNLg_BD"
      },
      "source": [
        "# Affiche la série d'impulsions\n",
        "serie = impulsions(temps, 10, graine=42)\n",
        "affiche_serie(temps, serie)\n",
        "plt.title(\"Série impulsionnelle vi(t)\")\n",
        "plt.show()"
      ],
      "execution_count": null,
      "outputs": []
    },
    {
      "cell_type": "markdown",
      "metadata": {
        "id": "qKloC-CA58hg"
      },
      "source": [
        "# Série impulsionnelle autocorrélée"
      ]
    },
    {
      "cell_type": "markdown",
      "metadata": {
        "id": "DarIzUYl3c4K"
      },
      "source": [
        "Définissons une fonction qui permet d'introduire une autocorrélation que nous appliquerons sur la série impulsionnelle.  \r\n",
        "\r\n",
        "Pour un signal $s(t)$, la fonction construit : $s(t) = s(t) + K_1s(t-t_1) + K_2s(t-t_2) + K_3s(t-t_3) + ...$  \r\n",
        "\r\n",
        "Les coefficients $K_1$, $K_2$, $K_3$... et les délais $t_1$, $t_2$, $t_3$, ... sont transmis en paramètre dans un dictionnaire : {\"$t_1$:$K_1$\",\"$t_2$:$K_2$\",$t_3$:$K_3$\",...) \r\n"
      ]
    },
    {
      "cell_type": "code",
      "metadata": {
        "id": "uvMAqSatkcyX"
      },
      "source": [
        "# Fonction permettant d'introduire une autocorrélation sur un signal\n",
        "# La fonction retourne : v(t) = v(t)+ K*v(t-delai)\n",
        "# Les délais et les valeurs des amplitudes des décalages sont donnés\n",
        "# dans un dictionnaire : decalages = {\"delai1:K1\", \":Kdelai22\", ...}\n",
        "\n",
        "def autocorrelation(source, decalages):\n",
        "    ar = source.copy()\n",
        "    n_max = len(decalages)                        # Nombre de décalages max donné en paramètre\n",
        "    for step, valeur in enumerate(source):        # Pour chaque instant et chaque valeur du signal\n",
        "        for delai, K in decalages.items():        # Pour chaque instant et chaque amplitude de décalage\n",
        "            if step - delai > 0:\n",
        "              ar[step] = ar[step] + K * ar[step - delai]\n",
        "    return ar"
      ],
      "execution_count": null,
      "outputs": []
    },
    {
      "cell_type": "markdown",
      "metadata": {
        "id": "M5CQGMQ_51qG"
      },
      "source": [
        "Construisons maintenant la série impulsionnelle autocorrélée :"
      ]
    },
    {
      "cell_type": "code",
      "metadata": {
        "id": "iUv8l8nchJRZ"
      },
      "source": [
        "# Création de la série impulsionnelle autocorrélée\n",
        "# v(t) = v(t) + 0.99v(t-1) \n",
        "\n",
        "signal = impulsions(temps, 10, graine=42)       # signal = série impulsionnelle\n",
        "serie = autocorrelation(signal, {1: 0.99})      # Applique l'autocorrélation au signal\n",
        "                                                # v(t) = v(t) + 0.99v(t-1)\n",
        "affiche_serie(temps, serie)\n",
        "plt.plot(temps, signal, \"k-\")\n",
        "plt.title(\"Série impulsionnelle autocorrélée n°1\")\n",
        "plt.show()"
      ],
      "execution_count": null,
      "outputs": []
    },
    {
      "cell_type": "code",
      "metadata": {
        "id": "5_lx-AlWhT5v"
      },
      "source": [
        "# Création de la série impulsionnelle autocorrélée\n",
        "# v(t) = v(t) +  0.7v(t-1) + 0.2v(t-50)\n",
        "\n",
        "signal = impulsions(temps, 10, graine=42)\n",
        "serie = autocorrelation(signal, {1: 0.70, 50: 0.2})\n",
        "affiche_serie(temps, serie)\n",
        "plt.plot(temps, signal, \"k-\")\n",
        "plt.title(\"Série impulsionnelle autocorrélée n°2\")\n",
        "plt.show()"
      ],
      "execution_count": null,
      "outputs": []
    }
  ]
}