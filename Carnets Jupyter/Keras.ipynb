{
  "nbformat": 4,
  "nbformat_minor": 0,
  "metadata": {
    "kernelspec": {
      "display_name": "Python 3",
      "language": "python",
      "name": "python3"
    },
    "language_info": {
      "codemirror_mode": {
        "name": "ipython",
        "version": 3
      },
      "file_extension": ".py",
      "mimetype": "text/x-python",
      "name": "python",
      "nbconvert_exporter": "python",
      "pygments_lexer": "ipython3",
      "version": "3.6.8"
    },
    "colab": {
      "name": "Keras",
      "provenance": [],
      "collapsed_sections": []
    }
  },
  "cells": [
    {
      "cell_type": "markdown",
      "metadata": {
        "id": "XUSrFWcGFhcl",
        "colab_type": "text"
      },
      "source": [
        "# Keras\n",
        "\n",
        "[Keras](https://keras.io) est une librairie Python très polulaire dédiée à l'apprentissage profond. Elle peut fonctionner comme surcouche de plusieurs librairies, comme [Tensorflow](https://www.tensorflow.org) ou [Theano](https://github.com/Theano/Theano). Keras est maintenant inclus dans [Tensorflow 2.0](https://www.tensorflow.org/api_docs/python/tf/keras)\n",
        "\n",
        "Keras a été développée pour travailler avec des modèles à réseaux de neurones profonds, en faisant en sorte d'être simple à utiliser et intuitive. Keras inclut un certain nombre de couches, de fonctions d'activations et d'optimiseurs communément utilisés. Un modèle peut être défini et entrainé avec seulement quelques lignes de code en Python.\n",
        "\n",
        "Keras fonctionne avec Matplotlib and NumPy."
      ]
    },
    {
      "cell_type": "code",
      "metadata": {
        "id": "vb12iwrZFhcn",
        "colab_type": "code",
        "colab": {}
      },
      "source": [
        "from tensorflow.keras.models import Sequential\n",
        "from tensorflow.keras.layers import Dense, Activation\n",
        "from tensorflow.keras.optimizers import Adam\n",
        "from tensorflow.keras.models import model_from_json\n",
        "\n",
        "from matplotlib import pyplot as plt\n",
        "\n",
        "import numpy as np"
      ],
      "execution_count": null,
      "outputs": []
    },
    {
      "cell_type": "markdown",
      "metadata": {
        "id": "vp2VRqVTFhcq",
        "colab_type": "text"
      },
      "source": [
        "# Apprentissage d'une fonction mathématique\n",
        "\n",
        "Nous allons prendre un exemple simple : développer un modèle Keras pour prédire les valeurs en sortie d'une fonction mathématique. Cet exemple s'entraine rapidement, ce qui est idéal pour faire des expériences.\n",
        "\n",
        "Les échantillons pour les tests et pour les données sont générés avec la fonction ci-dessous. Le nombre d'échantillons pour les tests peut être ajusté afin d'explorer la précision du modèle en fonction de la taille des données."
      ]
    },
    {
      "cell_type": "code",
      "metadata": {
        "id": "tVFtnVpbFhcr",
        "colab_type": "code",
        "colab": {}
      },
      "source": [
        "def function(x):\n",
        "    return 10*x**2 - 5*x - 0.5"
      ],
      "execution_count": null,
      "outputs": []
    },
    {
      "cell_type": "code",
      "metadata": {
        "id": "MaA-CwDvFhcu",
        "colab_type": "code",
        "colab": {}
      },
      "source": [
        "# Génération des données d'entrainement\n",
        "x_entrainement = np.random.rand(10000)\n",
        "y_entrainement = function(x_entrainement)\n",
        "\n",
        "# Génération des données pour les tests\n",
        "x_test = np.linspace(0, 1, 100)\n",
        "y_test = function(x_test)"
      ],
      "execution_count": null,
      "outputs": []
    },
    {
      "cell_type": "markdown",
      "metadata": {
        "id": "xfoWDwv1Fhcw",
        "colab_type": "text"
      },
      "source": [
        "# Visualisation des données"
      ]
    },
    {
      "cell_type": "code",
      "metadata": {
        "id": "qGkGqeiFFhcx",
        "colab_type": "code",
        "colab": {}
      },
      "source": [
        "plt.scatter(x_entrainement, y_entrainement, label='Entrainement', color='blue')\n",
        "plt.scatter(x_test, y_test, label='Test', color='red',s=2)\n",
        "plt.ylabel('y')\n",
        "plt.xlabel('x')\n",
        "plt.legend(loc='best')\n",
        "plt.show()"
      ],
      "execution_count": null,
      "outputs": []
    },
    {
      "cell_type": "markdown",
      "metadata": {
        "id": "yTCfi6LVFhcz",
        "colab_type": "text"
      },
      "source": [
        "# Definition du modèle\n",
        "\n",
        "Nous allons utiliser un [modèle séquentiel](https://keras.io/guides/sequential_model/) multi-couches avec une fonction d'activation de type [Unité Linéaire Rectifiée (Rectified Linear Unit - ReLU)](https://fr.wikipedia.org/wiki/Redresseur_(r%C3%A9seaux_neuronaux)). La couche de sortie n'a pas de fonction d'activation afin de produire des données continues en sortie.  \n",
        "*  Le terme dense signifie qu'une fonction d'activation non linéaire est utlisée en sortie des couches internes.  \n",
        "*  Le modèle séquentiel est adapté dans le cas où chaque couche possède une entrée et une sortie et où les couches s'échangent des données. Il n'est pas adapté pour les modèles multi-entrées / sorties ou dans le cas où il n'y a pas d'échange de données entre les couches.  \n"
      ]
    },
    {
      "cell_type": "markdown",
      "metadata": {
        "id": "grXZf1YfmnW1",
        "colab_type": "text"
      },
      "source": [
        "La structure du modèle est la suivante :  \n",
        "*  L'entrée du modèle est de dimension 1. La couche d'entrée contient donc 1 neurone.  \n",
        "*  La première couche cachée contient 200 neurones (units).    \n",
        "*  La deuxième couche cachée contient 20 neurones.  \n",
        "*  La couche de sortie contient un seul neurone.  \n",
        "*  La couche d'entrée et la première couche cachée ont une fonction d'activation non linéaire de type ReLU en sortie.  "
      ]
    },
    {
      "cell_type": "markdown",
      "metadata": {
        "id": "W6KiJsSm3mGk",
        "colab_type": "text"
      },
      "source": [
        "Sous forme graphique, sa structure est la suivante :  \n",
        "  \n",
        "\n",
        "![ReseauNeurone](Images/NeuronneKeras.png \"ReseauNeurone\")"
      ]
    },
    {
      "cell_type": "code",
      "metadata": {
        "id": "Em4o_qwMFhcz",
        "colab_type": "code",
        "colab": {}
      },
      "source": [
        "model = Sequential()\n",
        "model.add(Dense(units=200, input_dim=1))\n",
        "model.add(Activation('relu'))\n",
        "model.add(Dense(units=20))\n",
        "model.add(Activation('relu'))\n",
        "model.add(Dense(units=1))"
      ],
      "execution_count": null,
      "outputs": []
    },
    {
      "cell_type": "markdown",
      "metadata": {
        "id": "VArDE1Y5jc7q",
        "colab_type": "text"
      },
      "source": [
        "On peut obtenir une description du modèle créé avec la fonction **summary** :"
      ]
    },
    {
      "cell_type": "code",
      "metadata": {
        "id": "_OseIn7oKc_8",
        "colab_type": "code",
        "colab": {}
      },
      "source": [
        "model.summary()"
      ],
      "execution_count": null,
      "outputs": []
    },
    {
      "cell_type": "markdown",
      "metadata": {
        "id": "z6RsOvfNFhc1",
        "colab_type": "text"
      },
      "source": [
        "# Entrainement\n",
        "\n",
        "[La documentation](https://keras.io/api/models/model_training_apis/) de l'API d'entrainement de Keras fournit des informations complémentaires sur la configuration."
      ]
    },
    {
      "cell_type": "code",
      "metadata": {
        "id": "uORd3TnDFhc2",
        "colab_type": "code",
        "colab": {}
      },
      "source": [
        "model.compile(loss='mean_squared_error', optimizer=Adam())\n",
        "history = model.fit(x_entrainement, y_entrainement, batch_size=50, epochs=10, verbose=1, validation_data=(x_test, y_test))"
      ],
      "execution_count": null,
      "outputs": []
    },
    {
      "cell_type": "markdown",
      "metadata": {
        "id": "-1i2pVnDFhc4",
        "colab_type": "text"
      },
      "source": [
        "# Les pertes du modèle (fonction d'objectif - Loss Function)\n",
        "\n",
        "Les pertes sont la différence entre les valeurs attendues (y_entrainement) et les sorties du modèle. Plus les pertes sont faibles, plus le modèle est juste."
      ]
    },
    {
      "cell_type": "code",
      "metadata": {
        "id": "5KudLprqFhc4",
        "colab_type": "code",
        "colab": {}
      },
      "source": [
        "plt.plot(history.history['loss'])\n",
        "plt.plot(history.history['val_loss'])\n",
        "plt.title('Pertes du modèle')\n",
        "plt.ylabel('Pertes')\n",
        "plt.xlabel('Itération')\n",
        "plt.legend(['Entrainement', 'Test'], loc='upper right')\n",
        "plt.show()"
      ],
      "execution_count": null,
      "outputs": []
    },
    {
      "cell_type": "markdown",
      "metadata": {
        "id": "-wPyvVLsFhc6",
        "colab_type": "text"
      },
      "source": [
        "# Predictions"
      ]
    },
    {
      "cell_type": "code",
      "metadata": {
        "id": "k7_b9Cw5Fhc7",
        "colab_type": "code",
        "colab": {}
      },
      "source": [
        "y_predictions = model.predict(x_test)"
      ],
      "execution_count": null,
      "outputs": []
    },
    {
      "cell_type": "code",
      "metadata": {
        "id": "OdLofm11Fhc8",
        "colab_type": "code",
        "colab": {}
      },
      "source": [
        "plt.scatter(x_test, y_predictions, label='Predictions', color='blue')\n",
        "plt.plot(x_test, y_test, label='Test', color='red')\n",
        "plt.ylabel('y')\n",
        "plt.xlabel('x')\n",
        "plt.legend(loc='best')\n",
        "plt.show()"
      ],
      "execution_count": null,
      "outputs": []
    },
    {
      "cell_type": "markdown",
      "metadata": {
        "id": "2f9xlyUpFhc-",
        "colab_type": "text"
      },
      "source": [
        "# Sauvegarde du modèle\n",
        "\n",
        "La structure du modèle ainsi que les paramètres calculés (poids et offsets) peuvent être sauvegardés dans un fichier et rechargé plus tard."
      ]
    },
    {
      "cell_type": "code",
      "metadata": {
        "id": "88pKENGNFhc_",
        "colab_type": "code",
        "colab": {}
      },
      "source": [
        "model_structure = model.to_json()\n",
        "with open(\"model.json\", \"w\") as json_file:\n",
        "    json_file.write(model_structure)\n",
        "model.save_weights(\"weights.h5\")"
      ],
      "execution_count": null,
      "outputs": []
    },
    {
      "cell_type": "markdown",
      "metadata": {
        "id": "Sd_4K4KiFhdA",
        "colab_type": "text"
      },
      "source": [
        "# Chargement d'un modèle entrainé"
      ]
    },
    {
      "cell_type": "code",
      "metadata": {
        "id": "Z-eQPcfaFhdB",
        "colab_type": "code",
        "colab": {}
      },
      "source": [
        "with open('model.json', 'r') as json_file:\n",
        "    loaded_model_json = json_file.read()\n",
        "restored_model = model_from_json(loaded_model_json)\n",
        "restored_model.load_weights(\"weights.h5\")"
      ],
      "execution_count": null,
      "outputs": []
    },
    {
      "cell_type": "markdown",
      "metadata": {
        "id": "HolgBmP-FhdD",
        "colab_type": "text"
      },
      "source": [
        "# Predictions\n",
        "\n",
        "Utlisons le modèle sauvegardé pour faire des prédictions. On devriat retoruver les mêmes résultats."
      ]
    },
    {
      "cell_type": "code",
      "metadata": {
        "id": "7611b9AoFhdD",
        "colab_type": "code",
        "colab": {}
      },
      "source": [
        "y_predictions = restored_model.predict(x_test)\n",
        "\n",
        "plt.scatter(x_test, y_predictions, label='Predictions', color='blue')\n",
        "plt.plot(x_test, y_test, label='Test', color='red')\n",
        "plt.ylabel('y')\n",
        "plt.xlabel('x')\n",
        "plt.legend(loc='best')\n",
        "plt.show()"
      ],
      "execution_count": null,
      "outputs": []
    }
  ]
}