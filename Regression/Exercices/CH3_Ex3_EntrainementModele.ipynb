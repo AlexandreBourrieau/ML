{
  "nbformat": 4,
  "nbformat_minor": 0,
  "metadata": {
    "colab": {
      "name": "Untitled5.ipynb",
      "provenance": [],
      "authorship_tag": "ABX9TyOHehXBOmeGFAxKixdrI6E4",
      "include_colab_link": true
    },
    "kernelspec": {
      "name": "python3",
      "display_name": "Python 3"
    }
  },
  "cells": [
    {
      "cell_type": "markdown",
      "metadata": {
        "id": "view-in-github",
        "colab_type": "text"
      },
      "source": [
        "<a href=\"https://colab.research.google.com/github/AlexandreBourrieau/ML-F1/blob/master/Regression/Exercices/CH3_Ex3_EntrainementModele.ipynb\" target=\"_parent\"><img src=\"https://colab.research.google.com/assets/colab-badge.svg\" alt=\"Open In Colab\"/></a>"
      ]
    },
    {
      "cell_type": "markdown",
      "metadata": {
        "id": "uoON2SuU27I_",
        "colab_type": "text"
      },
      "source": [
        "## Initialisation des données et des fonctions pour l'apprentissage automatique des iris"
      ]
    },
    {
      "cell_type": "code",
      "metadata": {
        "id": "mq3KLiiS23XI",
        "colab_type": "code",
        "colab": {}
      },
      "source": [
        "from sklearn import datasets\n",
        "import matplotlib.pyplot as plt\n",
        "import math\n",
        "\n",
        "iris = datasets.load_iris()\n",
        "\n",
        "def sigmoid(z):\n",
        "  return 1.0/(1 + math.exp(-z))\n",
        "\n",
        "def predict(echantillon):\n",
        "  result  = 0.0\n",
        "  for i in range(len(echantillon)):\n",
        "    result = result + poids[i] * echantillon[i]\n",
        "  result = result + offset\n",
        "  return sigmoid(result)\n",
        "\n",
        "def pertes(y_attendu, y_predit):\n",
        "  return -(y_attendu * math.log(y_predit) + (1.0 - y_attendu) * math.log(1 - y_predit))\n",
        "\n",
        "nbr_caracteristiques = 4\n",
        "\n",
        "def entrainement_sur_une_iteration(echantillons, valeurs_attendues):\n",
        "  pertes_totales = 0.0                # Initialise la somme des pertes à 0\n",
        "  dLw = [0.0] * nbr_caracteristiques  # dLw permettra de stocker les variations des pertes L par rapport aux poids w : L'(w)\n",
        "  dJw = [0.0] * nbr_caracteristiques  # dJw permettra de stocker les variations du cout par rapport aux poids w : J'(w)\n",
        "  dLb = 0.0                           # dLb permettra de stocker la variation des pertes L par rapport à l'offset b : L'(b)\n",
        "  dJb = 0.0                           # dJb permettra de stocker la variation du cout par rapport à l'offset b : J'(b)\n",
        "\n",
        "  global offset, poids\n",
        "\n",
        "  m = len(echantillons)                   # m contient le nombre d'échantillons (150)\n",
        "  for i in range(m):\n",
        "    ech = echantillons[i]                 # ech contient le i-ème échantillon : [longueur_sépale, largeur_sépale, longueur_pétale, largeur_pétale]\n",
        "    val_attendue = valeurs_attendues[i]   # val_attendue contient la valeur attendue pour cet echantillon que doit retourner le modèle (0 ou 1)\n",
        "    valeur_predite = predict(ech)         # Appel de la fonction de prédiction pour calculer la valeur prédite par le modèle sur cet échantillon \n",
        "    pertes_totales = pertes_totales + pertes(val_attendue, valeur_predite)   # Additionne les pertes de chaque échantillon afin de calculer le coût\n",
        "    \n",
        "    # Pour chaque poids, on somme la variation des pertes par rapport aux poids w : sigma[L'(w)]\n",
        "    for j in range(len(poids)):\n",
        "      dLw[j] = dLw[j] + ech[j]*(valeur_predite - val_attendue)\n",
        "\n",
        "    # On somme la variation des pertes en fonction de l'offset b : sigma[L'(b)]\n",
        "    dLb = dLb + (valeur_predite - val_attendue)\n",
        "  \n",
        "  cout = pertes_totales / m                 # Le coût J est la valeur moyenne des pertes sur l'ensemble des 150 échantillons\n",
        "  dJb = dLb / m                             # Calcul la variation du coût par rapport à l'offset J'(b) : Le coût est la moyenne de la variation des pertes sur l'ensemble des 150 échantillons\n",
        "  offset = offset - taux_apprentissage*dJb  # Applique l'algorithme du gradient sur l'offset : bk+1 = bk - alpha*J'(b)\n",
        "\n",
        "  for j in range(len(poids)):\n",
        "    dJw[j] = dLw[j] / m       # Calcule la variation du coût par rapport au j-ème poids J'(w)\n",
        "    poids[j] = poids[j] - taux_apprentissage*dJw[j]    # Applique l'algortithme du gradient sur le j-ème poids : wk+1 = wk - alpha*J'(w)\n",
        "  \n",
        "  return cout"
      ],
      "execution_count": 23,
      "outputs": []
    },
    {
      "cell_type": "markdown",
      "metadata": {
        "id": "gGKKF77V2Hx5",
        "colab_type": "text"
      },
      "source": [
        "### Algorithme d'entrainement du modèle - iris catégorie 2\n",
        "\n",
        "Cet algorithme va itérer l'algorithme de rétropopagation du gradient de nombreuses fois afin de minimiser les poids et l'offset."
      ]
    },
    {
      "cell_type": "code",
      "metadata": {
        "id": "6Zp3S3Cq2Gc2",
        "colab_type": "code",
        "colab": {
          "base_uri": "https://localhost:8080/",
          "height": 295
        },
        "outputId": "8ddbeeae-9b7e-405f-a983-1546b52581eb"
      },
      "source": [
        "# Entrainement du modèle pour \"apprendre\" les valeurs optimales des poids et de l'offset\n",
        "\n",
        "poids = [0.0] * nbr_caracteristiques\n",
        "offset = 0.0\n",
        "\n",
        "taux_apprentissage = 0.18\n",
        "\n",
        "iterations = 10000\n",
        "\n",
        "echantillons_a_tester = iris.data\n",
        "valeurs_attendues_des_echantillons = [1 if y == 1 else 0 for y in iris.target]\n",
        "\n",
        "tableau_couts = []\n",
        "for epoch in range(iterations):\n",
        "  valeur_cout = entrainement_sur_une_iteration(echantillons_a_tester, valeurs_attendues_des_echantillons)\n",
        "  tableau_couts.append(valeur_cout)\n",
        "\n",
        "plt.plot(range(iterations), tableau_couts)\n",
        "plt.ylabel('Cout')\n",
        "plt.xlabel('iteration')\n",
        "plt.title('Cout en fonction des iterations')\n",
        "plt.show()"
      ],
      "execution_count": 35,
      "outputs": [
        {
          "output_type": "display_data",
          "data": {
            "image/png": "[encoded data removed]",
            "text/plain": [
              "<Figure size 432x288 with 1 Axes>"
            ]
          },
          "metadata": {
            "tags": [],
            "needs_background": "light"
          }
        }
      ]
    },
    {
      "cell_type": "markdown",
      "metadata": {
        "id": "_dUbACZI4Vm3",
        "colab_type": "text"
      },
      "source": [
        "### Algorithme d'entrainement du modèle - iris catégorie 3\n",
        "\n",
        "Cet algorithme va itérer l'algorithme de rétropopagation du gradient de nombreuses fois afin de minimiser les poids et l'offset."
      ]
    },
    {
      "cell_type": "code",
      "metadata": {
        "id": "2D--Gu0b4YI9",
        "colab_type": "code",
        "colab": {
          "base_uri": "https://localhost:8080/",
          "height": 295
        },
        "outputId": "cb9b8de7-c55c-4251-ceea-494436796076"
      },
      "source": [
        "# Entrainement du modèle pour \"apprendre\" les valeurs optimales des poids et de l'offset\n",
        "\n",
        "poids = [0.0] * nbr_caracteristiques\n",
        "offset = 0.0\n",
        "\n",
        "taux_apprentissage = 0.5\n",
        "\n",
        "iterations = 200\n",
        "\n",
        "echantillons_a_tester = iris.data\n",
        "valeurs_attendues_des_echantillons = [1 if y == 2 else 0 for y in iris.target]\n",
        "\n",
        "tableau_couts = []\n",
        "for epoch in range(iterations):\n",
        "  valeur_cout = entrainement_sur_une_iteration(echantillons_a_tester, valeurs_attendues_des_echantillons)\n",
        "  tableau_couts.append(valeur_cout)\n",
        "\n",
        "plt.plot(range(iterations), tableau_couts)\n",
        "plt.ylabel('Cout')\n",
        "plt.xlabel('iteration')\n",
        "plt.title('Cout en fonction des iterations')\n",
        "plt.show()"
      ],
      "execution_count": 30,
      "outputs": [
        {
          "output_type": "display_data",
          "data": {
            "image/png": "[encoded data removed]",
            "text/plain": [
              "<Figure size 432x288 with 1 Axes>"
            ]
          },
          "metadata": {
            "tags": [],
            "needs_background": "light"
          }
        }
      ]
    }
  ]
}